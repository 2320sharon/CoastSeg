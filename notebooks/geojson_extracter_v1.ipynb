{
 "cells": [
  {
   "cell_type": "markdown",
   "id": "f15b9fa3",
   "metadata": {},
   "source": [
    "## Interactive Drawable Map with CoastSat's Geojson\n",
    "- [CoastSat Github](https://github.com/kvos/CoastSat) \n",
    "- Website where geojson was collected [CoastSat Website](http://coastsat.wrl.unsw.edu.au/)\n"
   ]
  },
  {
   "cell_type": "markdown",
   "id": "d06430dd",
   "metadata": {},
   "source": [
    "## Optional Code to Install json, ipyleaflet"
   ]
  },
  {
   "cell_type": "code",
   "execution_count": null,
   "id": "b9a1a5df",
   "metadata": {},
   "outputs": [],
   "source": [
    "# pip install json\n",
    "# pip install ipyleaflet"
   ]
  },
  {
   "cell_type": "markdown",
   "id": "9ee7f39f",
   "metadata": {},
   "source": [
    "## Add Clustering to Points\n",
    "1. Import all the necessary libraries to draw the map\n",
    "2. Open CoastSat's geojson\n",
    "3. Create a zoomed out Map\n",
    "4. Load in the geojson with the GeoJSON function\n",
    "    - choose the geojson to load in\n",
    "    - style the geojson\n",
    "    - add a hover style interaction\n",
    "5. Make markers from the geojson data\n",
    "6. Transform the markers into a cluster (for better loading + visibility ) and add them as a layer to the map called \"CoastSat Shoreline Data\"\n",
    "7. Add layer selection control\n",
    "8. Add a scale control\n",
    "9. Display the map\n"
   ]
  },
  {
   "cell_type": "code",
   "execution_count": 3,
   "id": "006f53d5",
   "metadata": {},
   "outputs": [
    {
     "data": {
      "application/vnd.jupyter.widget-view+json": {
       "model_id": "9770856dc88a401eb7b06c163d0e9e6e",
       "version_major": 2,
       "version_minor": 0
      },
      "text/plain": [
       "Map(center=[50.6252978589571, 0.34580993652344], controls=(ZoomControl(options=['position', 'zoom_in_text', 'z…"
      ]
     },
     "metadata": {},
     "output_type": "display_data"
    }
   ],
   "source": [
    "import json\n",
    "import random\n",
    "\n",
    "from ipyleaflet import Map, GeoJSON, Icon, Marker, MarkerCluster, LayersControl, basemap_to_tiles ,basemaps\n",
    "\n",
    "# Name of the geojson: metadata_Pacific_CoastSat.geojson\n",
    "with open(r'C:\\Users\\Sharon\\Desktop\\metadata_Pacific_CoastSat.geojson', 'r') as f:\n",
    "    data = json.load(f)\n",
    "\n",
    "m = Map(center=(50.6252978589571, 0.34580993652344), zoom=1)\n",
    "\n",
    "# Optional Code if you want to have a different color for each geojson feature\n",
    "def random_color(feature):\n",
    "    return {\n",
    "        'color': 'black',\n",
    "        'fillColor': random.choice(['red', 'yellow', 'green', 'orange']),\n",
    "    }\n",
    "\n",
    "geo_json = GeoJSON(\n",
    "    data=data,\n",
    "    style={\n",
    "        'opacity': 1, 'dashArray': '8', 'fillOpacity': 0.1, 'weight': 1\n",
    "    },\n",
    "    hover_style={\n",
    "        'color': 'white', 'dashArray': '0', 'fillOpacity': 0.2\n",
    "    },\n",
    "    style_callback=random_color     #This calls the random_color function to style each geojson feature\n",
    ")\n",
    "\n",
    "# This turns all of the marks into maps to make them easier to view\n",
    "markers = ()\n",
    "features = data['features']\n",
    "# Map each locations latitde and longtitde to a marker then add it to the cluster as a tuple\n",
    "for i in range(len(features)):\n",
    "    location=(features[i]['geometry']['coordinates'][1],features[i]['geometry']['coordinates'][0])\n",
    "    marker = Marker(location=location)\n",
    "    markers = markers + (marker,)\n",
    "\n",
    "m.add_layer(MarkerCluster(name = \"CoastSat Shoreline Data\",markers = markers,))\n",
    "\n",
    "# Add another layer\n",
    "dark_matter_layer = basemap_to_tiles(basemaps.Stamen.Terrain)\n",
    "m.add_layer(dark_matter_layer)\n",
    "\n",
    "\n",
    "# Add a way to control which layers are displayed\n",
    "m.add_control(LayersControl())\n",
    "\n",
    "# Add a scale to the map\n",
    "from ipyleaflet import ScaleControl\n",
    "m.add_control(ScaleControl(position='bottomleft'))\n",
    "\n",
    "# Display the map\n",
    "m\n"
   ]
  },
  {
   "cell_type": "markdown",
   "id": "3384ed9f",
   "metadata": {},
   "source": [
    "## Add Polygon Draw Control\n",
    "- Made it so the user can only draw polygons\n",
    "- Each polygon the user draws is add to the shape_list\n",
    "- IDEA: use the shape_list to provide data to CoastSat\n",
    "- WARNING: if you run this cell twice in jupyter notebook it was a weird effect of adding an extra polygon button to the drawing control"
   ]
  },
  {
   "cell_type": "code",
   "execution_count": 2,
   "id": "6e15542a",
   "metadata": {},
   "outputs": [
    {
     "data": {
      "application/vnd.jupyter.widget-view+json": {
       "model_id": "bbd9fe98085946618151bcdfef2723f0",
       "version_major": 2,
       "version_minor": 0
      },
      "text/plain": [
       "Map(center=[50.6252978589571, 0.34580993652344], controls=(ZoomControl(options=['position', 'zoom_in_text', 'z…"
      ]
     },
     "metadata": {},
     "output_type": "display_data"
    },
    {
     "name": "stdout",
     "output_type": "stream",
     "text": [
      "\n",
      "shapes_list:  [{'type': 'Polygon', 'coordinates': [[[-188.659363, 51.495065], [-191.216476, 18.398144], [-127.289512, 31.129926], [-188.659363, 51.495065]]]}]\n"
     ]
    }
   ],
   "source": [
    "from ipyleaflet import DrawControl\n",
    "\n",
    "shapes_list=[]\n",
    "\n",
    "draw_control = DrawControl()\n",
    "draw_control.polygon = {\n",
    "    \"shapeOptions\": {\n",
    "        \"fillColor\": \"#6be5c3\",\n",
    "        \"color\": \"#6be5c3\",\n",
    "        \"fillOpacity\": 0.4\n",
    "    },\n",
    "    \"drawError\": {\n",
    "        \"color\": \"#dd253b\",\n",
    "        \"message\": \"Ops!\"\n",
    "    },\n",
    "    \"allowIntersection\": False,\n",
    "    \"transform\":True\n",
    "}\n",
    "\n",
    "# Disable polyline, circle, and rectangle \n",
    "draw_control.polyline = {}\n",
    "draw_control.circlemarker = {}\n",
    "draw_control.rectangle = {}\n",
    "\n",
    "def handle_draw(target, action, geo_json):\n",
    "    if draw_control.last_action == 'created':\n",
    "        shapes_list.append( draw_control.last_draw['geometry'])\n",
    "    print(\"\\nshapes_list: \",shapes_list)\n",
    "\n",
    "\n",
    "\n",
    "\n",
    "draw_control.on_draw(handle_draw)\n",
    "m.add_control(draw_control)\n",
    "\n",
    "m"
   ]
  },
  {
   "cell_type": "code",
   "execution_count": null,
   "id": "3b53a39d",
   "metadata": {},
   "outputs": [],
   "source": [
    "print(shapes_list)"
   ]
  }
 ],
 "metadata": {
  "kernelspec": {
   "display_name": "Python 3",
   "language": "python",
   "name": "python3"
  },
  "language_info": {
   "codemirror_mode": {
    "name": "ipython",
    "version": 3
   },
   "file_extension": ".py",
   "mimetype": "text/x-python",
   "name": "python",
   "nbconvert_exporter": "python",
   "pygments_lexer": "ipython3",
   "version": "3.8.12"
  }
 },
 "nbformat": 4,
 "nbformat_minor": 5
}
