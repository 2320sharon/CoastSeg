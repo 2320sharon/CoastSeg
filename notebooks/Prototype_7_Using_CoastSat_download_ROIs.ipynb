{
 "cells": [
  {
   "cell_type": "markdown",
   "id": "48fabbdc-840d-4b9d-a3f0-814e12769264",
   "metadata": {},
   "source": [
    "# Prototype 7: Using CoastSat to download ROIs\n",
    "---\n",
    "- Author: Sharon Fitzpatrick\n",
    "- Date: 1/28/2022\n",
    "\n",
    "## Description\n",
    "This prototype showcases an interactive map where users can click on various ROIs to download their data with CoastSat.It also included feedback from prototype 6 and some improvments to previous functions.\n",
    "\n",
    "## The Workflow\n",
    "1. The user draws a bounding box\n",
    "2. The user runs the code to clip the coastline geojson to the bounding box\n",
    "3. The user runs the code to add the coastline within the bounding box to the map. (The coastline will be in yellow)\n",
    "4. The user runs the code to to generate polygons along the portion of the coastline vector within the bounding box\n",
    "5. The user runs the code to plot the polygons and associated markers to the map.\n",
    "6. The user selects at least one ROI for download with CoastSat by clicking on any ROI on the map\n",
    "7. The user runs the code to download the geojson for the ROIs they selected\n",
    "8. The user runs the code to download all the data using CoastSat for the ROIs they selected.\n",
    "\n",
    "## Improvements & Features\n",
    "- Adjusted the ```ROI size=0.04``` in **create_rectangles()** \n",
    "- Ajusted the ```MAX_BBOX_SIZE=3000000000``` in **check_bbox_size**\n",
    "- Created unique sitenames for ROI's dataset downloaded from CoastSat\n",
    "\n",
    "## Bug Fixes\n",
    "1. The bug where closed shapes such as islands would not download properly has been fixed\n",
    "2. The bug where unauthenicated users would recieve an exception when checking for available images from CoastSat has been patched"
   ]
  },
  {
   "cell_type": "markdown",
   "id": "e5322ae5-19fb-4f49-b34c-e3af79db5c00",
   "metadata": {},
   "source": [
    "# Get the Bounding Box Geojson\n",
    "---\n",
    "## Directions\n",
    "1. Use the square drawing button to draw a bounding box somewhere along the coast\n",
    "\n",
    "## !! Warning !!\n",
    "- If the bounding box drawn is too small or too large you will need to re-run the code to generate the map again."
   ]
  },
  {
   "cell_type": "code",
   "execution_count": 93,
   "id": "7e3ff0e2-8b5e-4ed6-b1e8-0c0363ab66eb",
   "metadata": {},
   "outputs": [],
   "source": [
    "from ipywidgets import Layout\n",
    "map_settings={\n",
    "\"center_point\":( 36.100206171202295, -75.71024865851251),\n",
    "\"zoom\":13,\n",
    " \"draw_control\":False,\n",
    " \"measure_control\":False, \n",
    " \"fullscreen_control\":False, \n",
    " \"attribution_control\":True,\n",
    " \"Layout\":Layout(width='100%', height='100px')\n",
    "}"
   ]
  },
  {
   "cell_type": "code",
   "execution_count": 94,
   "id": "c43af9de-1fee-424b-b1a9-11f2aaa450d8",
   "metadata": {},
   "outputs": [],
   "source": [
    "from ipyleaflet import DrawControl, Map, GeoJSON, Polygon\n",
    "import leafmap\n",
    "from shapely.geometry import shape, LineString, Point\n",
    "from shapely.geometry import Point as shapely_Point\n",
    "from area import area\n",
    "import geopandas as gpd\n",
    "import json\n",
    "import os\n",
    "from shapely.ops import unary_union\n",
    "import numpy as np\n",
    "from geojson import Point, Feature, FeatureCollection, dump"
   ]
  },
  {
   "cell_type": "code",
   "execution_count": 95,
   "id": "bd510baf-94f6-4d67-ab8d-553ebf6a3290",
   "metadata": {},
   "outputs": [
    {
     "data": {
      "application/vnd.jupyter.widget-view+json": {
       "model_id": "5df30e785677414a956843182cb4ce98",
       "version_major": 2,
       "version_minor": 0
      },
      "text/plain": [
       "Map(center=[36.100206171202295, -75.71024865851251], controls=(ZoomControl(options=['position', 'zoom_in_text'…"
      ]
     },
     "metadata": {},
     "output_type": "display_data"
    }
   ],
   "source": [
    "# Empty list to hold all the polygons drawn by the user\n",
    "shapes_list=[]\n",
    "\n",
    "# Disable polyline, circle, and rectangle \n",
    "m = leafmap.Map(draw_control=map_settings[\"draw_control\"],\n",
    "                measure_control=map_settings[\"measure_control\"],\n",
    "                fullscreen_control=map_settings[\"fullscreen_control\"],\n",
    "                attribution_control=map_settings[\"attribution_control\"],\n",
    "                center=map_settings[\"center_point\"],\n",
    "                zoom=map_settings[\"zoom\"],\n",
    "                layout=map_settings[\"Layout\"])\n",
    "\n",
    "draw_control = DrawControl()\n",
    "\n",
    "draw_control.polyline = {}\n",
    "draw_control.circlemarker = {}\n",
    "# Custom styles for polygons and rectangles\n",
    "draw_control.polygon = {\n",
    "    \"shapeOptions\": {\n",
    "        \"fillColor\": \"green\",\n",
    "        \"color\": \"green\",\n",
    "        \"fillOpacity\": 0.2,\n",
    "        \"Opacity\": 0.2\n",
    "    },\n",
    "    \"drawError\": {\n",
    "        \"color\": \"#dd253b\",\n",
    "        \"message\": \"Ops!\"\n",
    "    },\n",
    "    \"allowIntersection\": False,\n",
    "    \"transform\":True\n",
    "}\n",
    "\n",
    "draw_control = DrawControl()\n",
    "draw_control.rectangle = {\n",
    "    \"shapeOptions\": {\n",
    "        \"fillColor\": \"green\",\n",
    "        \"color\": \"green\",\n",
    "        \"fillOpacity\": 0.1,\n",
    "        \"Opacity\": 0.1\n",
    "    },\n",
    "    \"drawError\": {\n",
    "        \"color\": \"#dd253b\",\n",
    "        \"message\": \"Ops!\"\n",
    "    },\n",
    "    \"allowIntersection\": False,\n",
    "    \"transform\":True\n",
    "}\n",
    "\n",
    "# Each time a polygon is drawn it is appended to the shapeslist which is used to create the bounding box\n",
    "def handle_draw(target, action, geo_json):\n",
    "    if draw_control.last_action == 'created'and draw_control.last_draw['geometry']['type']=='Polygon' :\n",
    "        shapes_list.append( draw_control.last_draw['geometry'])\n",
    "    if draw_control.last_action == 'deleted':\n",
    "        label1.value=str(f\"{draw_control.last_draw['geometry']['type']}  {draw_control.last_action}\")\n",
    "        shapes_list.pop()\n",
    "\n",
    "draw_control.on_draw(handle_draw)\n",
    "m.add_control(draw_control)\n",
    "\n",
    "m\n"
   ]
  },
  {
   "cell_type": "markdown",
   "id": "8fc61b15-6703-4680-8d85-d94f6ccd3a74",
   "metadata": {},
   "source": [
    "### Select the name of the file that will hold the geojson for all the ROIs generated"
   ]
  },
  {
   "cell_type": "code",
   "execution_count": 96,
   "id": "920d70a8-b57b-405c-b1bb-d475fc8aa9fd",
   "metadata": {},
   "outputs": [],
   "source": [
    "filename = \"roi.geojson\""
   ]
  },
  {
   "cell_type": "markdown",
   "id": "25039629-418f-4e4b-b09f-835a60db91ee",
   "metadata": {},
   "source": [
    "# Check the size of the Bounding Box \n",
    "1. Obtain the area of the bounding box using **calculate_area_bbox**\n",
    "3. Check if its a valid size suing **check_bbox_size**"
   ]
  },
  {
   "cell_type": "markdown",
   "id": "4040d975-6f67-419b-8f44-9aff73c76ff4",
   "metadata": {},
   "source": [
    "### Custom Exceptions for Invalid BBox size\n",
    "1. BboxTooLargeError\n",
    "2. BboxTooSmallError"
   ]
  },
  {
   "cell_type": "code",
   "execution_count": 97,
   "id": "ac07e659-421a-41d1-96e8-b786e2fb77a7",
   "metadata": {},
   "outputs": [],
   "source": [
    "class BboxTooLargeError(Exception):\n",
    "    \"\"\"BboxTooLargeError: raised when bounding box is larger than MAX_BBOX_SIZE\n",
    "    Args:\n",
    "        Exception: Inherits from the base exception class\n",
    "    \"\"\"\n",
    "    def __init__(self, msg=\"The bounding box was too large.\"):\n",
    "        self.msg=msg\n",
    "        super().__init__(self.msg)\n",
    "    def __str__(self):\n",
    "        return (f\"{self.msg}\")\n",
    "    \n",
    "class BboxTooSmallError(Exception):\n",
    "    \"\"\"BboxTooLargeError: raised when bounding box is smaller than MIN_BBOX_SIZE\n",
    "    Args:\n",
    "        Exception: Inherits from the base exception class\n",
    "    \"\"\"\n",
    "    def __init__(self, msg=\"The bounding box was too small.\"):\n",
    "        self.msg=msg\n",
    "        super().__init__(self.msg)\n",
    "    def __str__(self):\n",
    "        return (f\"{self.msg}\")"
   ]
  },
  {
   "cell_type": "code",
   "execution_count": 98,
   "id": "76c56548-04bb-4d71-9dc4-ca386a9890c0",
   "metadata": {},
   "outputs": [],
   "source": [
    "def calculate_area_bbox(bbox):\n",
    "    bbox_area=round(area(bbox),2)\n",
    "    print(f\"Area: {bbox_area} meters squared\")\n",
    "    return bbox_area"
   ]
  },
  {
   "cell_type": "markdown",
   "id": "3e7cf65b-555e-43c3-870a-4f736b506c52",
   "metadata": {},
   "source": [
    "## Function erase_bbox\n",
    "- Clears any data associated with invalid bbox\n",
    "- NOTE: If the bbox size is invalid re-run the code to re-create the map\n"
   ]
  },
  {
   "cell_type": "code",
   "execution_count": 99,
   "id": "497c8ef5-1eef-4a30-8516-0458e9aa54b6",
   "metadata": {},
   "outputs": [],
   "source": [
    "def erase_bbox(draw_control : 'ipyleaflet.leaflet.DrawControl',shapeslist:list)-> list:\n",
    "    \"\"\"Erases bounding box from map and deletes the contents of the shapeslist\"\"\"\n",
    "    draw_control.clear()\n",
    "    shapeslist=[]\n",
    "    return shapeslist"
   ]
  },
  {
   "cell_type": "markdown",
   "id": "6ec959ce-d2e5-4918-87fc-5172b5a03eaa",
   "metadata": {},
   "source": [
    "## Check if the bounding box size is allowed"
   ]
  },
  {
   "cell_type": "code",
   "execution_count": 100,
   "id": "8dbb679d-6e97-4a54-89f2-134471979991",
   "metadata": {},
   "outputs": [],
   "source": [
    "def check_bbox_size(bbox_area:float,shapes_list:list):\n",
    "    \"\"\"\"Raises an exception and clears the map if the size of the bounding box is too large or small.\"\"\"\n",
    "    # CONSTANT SIZE VARIABLES\n",
    "    # UNITS = Sq. Meters\n",
    "    MAX_BBOX_SIZE=3000000000\n",
    "    MIN_BBOX_SIZE=300\n",
    "    # Check if the size is greater than MAX_BBOX_SIZE\n",
    "    if bbox_area > MAX_BBOX_SIZE:\n",
    "        shapes_list=erase_bbox(draw_control,shapes_list)\n",
    "        raise BboxTooLargeError\n",
    "    # Check if size smaller than MIN_BBOX_SIZE\n",
    "    elif bbox_area < MIN_BBOX_SIZE:\n",
    "        shapes_list=erase_bbox(draw_control,shapes_list)\n",
    "        raise BboxTooSmallError"
   ]
  },
  {
   "cell_type": "code",
   "execution_count": 101,
   "id": "29b7a10a-901f-4c1d-9524-4ba74933dce9",
   "metadata": {},
   "outputs": [
    {
     "name": "stdout",
     "output_type": "stream",
     "text": [
      "Area: 204928550.4 meters squared\n"
     ]
    }
   ],
   "source": [
    "if not shapes_list == []:\n",
    "    last_index=len(shapes_list)-1\n",
    "#     The last index in the shapes_list was the last shape drawn\n",
    "    bbox_area=calculate_area_bbox(shapes_list[last_index])\n",
    "    check_bbox_size(bbox_area,shapes_list)\n",
    "else:\n",
    "     print(\"ERROR.\\nYou must draw a bounding box somewhere on the coast first.\")"
   ]
  },
  {
   "cell_type": "markdown",
   "id": "cd079f17-d8d1-4db0-a09e-ebd30960f32a",
   "metadata": {},
   "source": [
    "# Clip the Bounding Box and Vector\n",
    "---\n",
    "1. Convert the bounding box to a geopandas geodataframe using **create_geodataframe_from_bbox**\n",
    "2. Print the bounds of the geodataframe"
   ]
  },
  {
   "cell_type": "code",
   "execution_count": 102,
   "id": "5a736c10-6704-40a2-9787-aff7a9ca2756",
   "metadata": {},
   "outputs": [],
   "source": [
    "def create_geodataframe_from_bbox(shapes_list:list)->\"geopandas.geodataframe.GeoDataFrame\":\n",
    "    \"\"\"\n",
    "    Create a geodataframe from the bounding box's geometry\n",
    "    \"\"\"\n",
    "    if not shapes_list == []:\n",
    "        geom = [shape(i) for i in shapes_list]\n",
    "        geojson_bbox=gpd.GeoDataFrame({'geometry':geom})\n",
    "        geojson_bbox.crs='EPSG:4326'\n",
    "        geojson_bbox.plot()\n",
    "        return geojson_bbox\n",
    "    else:\n",
    "        print(\"ERROR.\\nYou must draw a bounding box somewhere on the coast first.\")\n",
    "        return None"
   ]
  },
  {
   "cell_type": "code",
   "execution_count": 103,
   "id": "8f51f7f8-a44c-4729-bb86-94441a418b71",
   "metadata": {},
   "outputs": [
    {
     "name": "stdout",
     "output_type": "stream",
     "text": [
      "Geojson bounds\n",
      "        minx       miny        maxx       maxy\n",
      "0 -120.47169  33.994988 -120.271243  34.094555\n",
      "\n"
     ]
    },
    {
     "data": {
      "image/png": "[encoded data removed]",
      "text/plain": [
       "<Figure size 432x288 with 1 Axes>"
      ]
     },
     "metadata": {
      "needs_background": "light"
     },
     "output_type": "display_data"
    }
   ],
   "source": [
    "geojson_bbox=create_geodataframe_from_bbox(shapes_list)\n",
    "if (geojson_bbox is not None):\n",
    "    print(f\"Geojson bounds\\n{geojson_bbox.bounds}\\n\")\n",
    "else:\n",
    "    print(\"ERROR.\\nYou must draw a bounding box somewhere on the coast first.\")"
   ]
  },
  {
   "cell_type": "markdown",
   "id": "13647ccc-71f7-462c-9232-24a1989d3a5f",
   "metadata": {},
   "source": [
    "### Download the Shorline Vector\n",
    "- https://geodata.lib.berkeley.edu/catalog/stanford-xv279yj9196"
   ]
  },
  {
   "cell_type": "code",
   "execution_count": 104,
   "id": "7e5ba349-7a86-443c-992b-1760a42adaf3",
   "metadata": {},
   "outputs": [],
   "source": [
    "def get_shoreline_vector(filename:str)->\"geopandas.geodataframe.GeoDataFrame\":\n",
    "    \"\"\"\n",
    "    Read the coastline's geojson into a geodataframe from the file named filename\n",
    "    \"\"\"\n",
    "    if os.path.exists(filename):\n",
    "         with open(filename, 'r') as f:\n",
    "            coastline_vector=gpd.read_file(f)\n",
    "    else:\n",
    "        print('File does not exist. Please download the coastline_vector necessary here: https://geodata.lib.berkeley.edu/catalog/stanford-xv279yj9196 ')\n",
    "        raise FileNotFoundError\n",
    "    return coastline_vector      "
   ]
  },
  {
   "cell_type": "code",
   "execution_count": 105,
   "id": "54ef4bb4-d28b-4f68-aff2-d30131f14f47",
   "metadata": {},
   "outputs": [
    {
     "data": {
      "text/html": [
       "<div>\n",
       "<style scoped>\n",
       "    .dataframe tbody tr th:only-of-type {\n",
       "        vertical-align: middle;\n",
       "    }\n",
       "\n",
       "    .dataframe tbody tr th {\n",
       "        vertical-align: top;\n",
       "    }\n",
       "\n",
       "    .dataframe thead th {\n",
       "        text-align: right;\n",
       "    }\n",
       "</style>\n",
       "<table border=\"1\" class=\"dataframe\">\n",
       "  <thead>\n",
       "    <tr style=\"text-align: right;\">\n",
       "      <th></th>\n",
       "      <th>id</th>\n",
       "      <th>f_code</th>\n",
       "      <th>acc</th>\n",
       "      <th>exs</th>\n",
       "      <th>soc</th>\n",
       "      <th>geometry</th>\n",
       "    </tr>\n",
       "  </thead>\n",
       "  <tbody>\n",
       "    <tr>\n",
       "      <th>0</th>\n",
       "      <td>xv279yj9196.1</td>\n",
       "      <td>BA010</td>\n",
       "      <td>1</td>\n",
       "      <td>44</td>\n",
       "      <td>USA</td>\n",
       "      <td>MULTILINESTRING ((-96.93882 28.02606, -96.9354...</td>\n",
       "    </tr>\n",
       "    <tr>\n",
       "      <th>1</th>\n",
       "      <td>xv279yj9196.2</td>\n",
       "      <td>BA010</td>\n",
       "      <td>1</td>\n",
       "      <td>44</td>\n",
       "      <td>USA</td>\n",
       "      <td>MULTILINESTRING ((-96.91022 28.06370, -96.9123...</td>\n",
       "    </tr>\n",
       "    <tr>\n",
       "      <th>2</th>\n",
       "      <td>xv279yj9196.3</td>\n",
       "      <td>BA010</td>\n",
       "      <td>1</td>\n",
       "      <td>44</td>\n",
       "      <td>USA</td>\n",
       "      <td>MULTILINESTRING ((-96.89713 28.06679, -96.8990...</td>\n",
       "    </tr>\n",
       "    <tr>\n",
       "      <th>3</th>\n",
       "      <td>xv279yj9196.4</td>\n",
       "      <td>BA010</td>\n",
       "      <td>1</td>\n",
       "      <td>44</td>\n",
       "      <td>USA</td>\n",
       "      <td>MULTILINESTRING ((-96.88841 28.07634, -96.8849...</td>\n",
       "    </tr>\n",
       "    <tr>\n",
       "      <th>4</th>\n",
       "      <td>xv279yj9196.5</td>\n",
       "      <td>BA010</td>\n",
       "      <td>1</td>\n",
       "      <td>44</td>\n",
       "      <td>USA</td>\n",
       "      <td>MULTILINESTRING ((-96.91283 28.12183, -96.9144...</td>\n",
       "    </tr>\n",
       "    <tr>\n",
       "      <th>...</th>\n",
       "      <td>...</td>\n",
       "      <td>...</td>\n",
       "      <td>...</td>\n",
       "      <td>...</td>\n",
       "      <td>...</td>\n",
       "      <td>...</td>\n",
       "    </tr>\n",
       "    <tr>\n",
       "      <th>3094</th>\n",
       "      <td>xv279yj9196.3095</td>\n",
       "      <td>BA010</td>\n",
       "      <td>1</td>\n",
       "      <td>44</td>\n",
       "      <td>USA</td>\n",
       "      <td>MULTILINESTRING ((-160.08739 22.02016, -160.08...</td>\n",
       "    </tr>\n",
       "    <tr>\n",
       "      <th>3095</th>\n",
       "      <td>xv279yj9196.3096</td>\n",
       "      <td>BA010</td>\n",
       "      <td>1</td>\n",
       "      <td>44</td>\n",
       "      <td>USA</td>\n",
       "      <td>MULTILINESTRING ((-159.39618 22.22735, -159.39...</td>\n",
       "    </tr>\n",
       "    <tr>\n",
       "      <th>3096</th>\n",
       "      <td>xv279yj9196.3097</td>\n",
       "      <td>BA010</td>\n",
       "      <td>1</td>\n",
       "      <td>44</td>\n",
       "      <td>USA</td>\n",
       "      <td>MULTILINESTRING ((-130.01769 55.91194, -130.02...</td>\n",
       "    </tr>\n",
       "    <tr>\n",
       "      <th>3097</th>\n",
       "      <td>xv279yj9196.3098</td>\n",
       "      <td>BA010</td>\n",
       "      <td>1</td>\n",
       "      <td>44</td>\n",
       "      <td>USA</td>\n",
       "      <td>MULTILINESTRING ((-160.87141 56.00000, -160.86...</td>\n",
       "    </tr>\n",
       "    <tr>\n",
       "      <th>3098</th>\n",
       "      <td>xv279yj9196.3099</td>\n",
       "      <td>BA010</td>\n",
       "      <td>1</td>\n",
       "      <td>44</td>\n",
       "      <td>USA</td>\n",
       "      <td>MULTILINESTRING ((-146.31833 59.43345, -146.30...</td>\n",
       "    </tr>\n",
       "  </tbody>\n",
       "</table>\n",
       "<p>3099 rows × 6 columns</p>\n",
       "</div>"
      ],
      "text/plain": [
       "                    id f_code  acc  exs  soc  \\\n",
       "0        xv279yj9196.1  BA010    1   44  USA   \n",
       "1        xv279yj9196.2  BA010    1   44  USA   \n",
       "2        xv279yj9196.3  BA010    1   44  USA   \n",
       "3        xv279yj9196.4  BA010    1   44  USA   \n",
       "4        xv279yj9196.5  BA010    1   44  USA   \n",
       "...                ...    ...  ...  ...  ...   \n",
       "3094  xv279yj9196.3095  BA010    1   44  USA   \n",
       "3095  xv279yj9196.3096  BA010    1   44  USA   \n",
       "3096  xv279yj9196.3097  BA010    1   44  USA   \n",
       "3097  xv279yj9196.3098  BA010    1   44  USA   \n",
       "3098  xv279yj9196.3099  BA010    1   44  USA   \n",
       "\n",
       "                                               geometry  \n",
       "0     MULTILINESTRING ((-96.93882 28.02606, -96.9354...  \n",
       "1     MULTILINESTRING ((-96.91022 28.06370, -96.9123...  \n",
       "2     MULTILINESTRING ((-96.89713 28.06679, -96.8990...  \n",
       "3     MULTILINESTRING ((-96.88841 28.07634, -96.8849...  \n",
       "4     MULTILINESTRING ((-96.91283 28.12183, -96.9144...  \n",
       "...                                                 ...  \n",
       "3094  MULTILINESTRING ((-160.08739 22.02016, -160.08...  \n",
       "3095  MULTILINESTRING ((-159.39618 22.22735, -159.39...  \n",
       "3096  MULTILINESTRING ((-130.01769 55.91194, -130.02...  \n",
       "3097  MULTILINESTRING ((-160.87141 56.00000, -160.86...  \n",
       "3098  MULTILINESTRING ((-146.31833 59.43345, -146.30...  \n",
       "\n",
       "[3099 rows x 6 columns]"
      ]
     },
     "execution_count": 105,
     "metadata": {},
     "output_type": "execute_result"
    }
   ],
   "source": [
    "coastline_vector=get_shoreline_vector(\"stanford-xv279yj9196.geojson\")\n",
    "coastline_vector"
   ]
  },
  {
   "cell_type": "markdown",
   "id": "250bf434-4d94-4649-8398-ab0daac405b1",
   "metadata": {},
   "source": [
    "### Clip the shorline vector to the bounding box"
   ]
  },
  {
   "cell_type": "code",
   "execution_count": 106,
   "id": "5f942a63-4785-4903-8a83-d2aad04afb58",
   "metadata": {},
   "outputs": [],
   "source": [
    "def clip_coastline_to_bbox(coastline_vector: \"geopandas.geodataframe.GeoDataFrame\", geojson_bbox: \"geopandas.geodataframe.GeoDataFrame\")->\"geopandas.geodataframe.GeoDataFrame\":\n",
    "    \"\"\"\n",
    "    Clips the geojson coastline_vector within geojson_bbox,the geojson bounding box.\n",
    "    \n",
    "     Arguments:\n",
    "    -----------\n",
    "    coastline_vector: geopandas.geodataframe.GeoDataFrame\n",
    "        GeoDataFrame contains the coastline's geometry\n",
    "        \n",
    "    geojson_bbox: \"geopandas.geodataframe.GeoDataFrame\"\n",
    "        GeoDataFrame containing the bounding box geometry\n",
    "    Returns\n",
    "    --------\n",
    "    roi_coast : \"geopandas.geodataframe.GeoDataFrame\"\n",
    "        roi_coast a GeoDataFrame that holds the clipped portion of the coastline_vector within geojson_bbox\n",
    "    \n",
    "    \"\"\"\n",
    "    #clip coastal polyline\n",
    "    roi_coast=gpd.clip(coastline_vector, geojson_bbox)\n",
    "    roi_coast=roi_coast.to_crs('EPSG:4326')\n",
    "    return roi_coast"
   ]
  },
  {
   "cell_type": "code",
   "execution_count": 107,
   "id": "00058a58-5ffe-41bf-9f44-137a53fac4fa",
   "metadata": {},
   "outputs": [
    {
     "data": {
      "text/html": [
       "<div>\n",
       "<style scoped>\n",
       "    .dataframe tbody tr th:only-of-type {\n",
       "        vertical-align: middle;\n",
       "    }\n",
       "\n",
       "    .dataframe tbody tr th {\n",
       "        vertical-align: top;\n",
       "    }\n",
       "\n",
       "    .dataframe thead th {\n",
       "        text-align: right;\n",
       "    }\n",
       "</style>\n",
       "<table border=\"1\" class=\"dataframe\">\n",
       "  <thead>\n",
       "    <tr style=\"text-align: right;\">\n",
       "      <th></th>\n",
       "      <th>id</th>\n",
       "      <th>f_code</th>\n",
       "      <th>acc</th>\n",
       "      <th>exs</th>\n",
       "      <th>soc</th>\n",
       "      <th>geometry</th>\n",
       "    </tr>\n",
       "  </thead>\n",
       "  <tbody>\n",
       "    <tr>\n",
       "      <th>614</th>\n",
       "      <td>xv279yj9196.612</td>\n",
       "      <td>BA010</td>\n",
       "      <td>1</td>\n",
       "      <td>44</td>\n",
       "      <td>USA</td>\n",
       "      <td>LINESTRING (-120.35985 34.05197, -120.35789 34...</td>\n",
       "    </tr>\n",
       "    <tr>\n",
       "      <th>612</th>\n",
       "      <td>xv279yj9196.610</td>\n",
       "      <td>BA010</td>\n",
       "      <td>1</td>\n",
       "      <td>44</td>\n",
       "      <td>USA</td>\n",
       "      <td>LINESTRING (-120.43544 34.05650, -120.43546 34...</td>\n",
       "    </tr>\n",
       "    <tr>\n",
       "      <th>613</th>\n",
       "      <td>xv279yj9196.611</td>\n",
       "      <td>BA010</td>\n",
       "      <td>1</td>\n",
       "      <td>44</td>\n",
       "      <td>USA</td>\n",
       "      <td>LINESTRING (-120.33112 34.05641, -120.33279 34...</td>\n",
       "    </tr>\n",
       "  </tbody>\n",
       "</table>\n",
       "</div>"
      ],
      "text/plain": [
       "                  id f_code  acc  exs  soc  \\\n",
       "614  xv279yj9196.612  BA010    1   44  USA   \n",
       "612  xv279yj9196.610  BA010    1   44  USA   \n",
       "613  xv279yj9196.611  BA010    1   44  USA   \n",
       "\n",
       "                                              geometry  \n",
       "614  LINESTRING (-120.35985 34.05197, -120.35789 34...  \n",
       "612  LINESTRING (-120.43544 34.05650, -120.43546 34...  \n",
       "613  LINESTRING (-120.33112 34.05641, -120.33279 34...  "
      ]
     },
     "execution_count": 107,
     "metadata": {},
     "output_type": "execute_result"
    }
   ],
   "source": [
    "roi_coast=clip_coastline_to_bbox(coastline_vector, geojson_bbox)\n",
    "roi_coast"
   ]
  },
  {
   "cell_type": "markdown",
   "id": "84288be5-4ca1-4058-8f9c-974a2e8bf7c4",
   "metadata": {},
   "source": [
    "## Display the Shoreline Vector"
   ]
  },
  {
   "cell_type": "code",
   "execution_count": 108,
   "id": "49c08a52-adb1-4b73-b7ba-4d6aaf667441",
   "metadata": {},
   "outputs": [
    {
     "data": {
      "image/png": "[encoded data removed]",
      "text/plain": [
       "<Figure size 432x288 with 1 Axes>"
      ]
     },
     "metadata": {
      "needs_background": "light"
     },
     "output_type": "display_data"
    }
   ],
   "source": [
    "if not roi_coast.empty:\n",
    "    roi_coast.plot()\n",
    "else:\n",
    "    print(\"ERROR.\\nThe bounding box provided did not intersect with the coastline vector provided.\")"
   ]
  },
  {
   "cell_type": "markdown",
   "id": "d8e53fe3-5c0b-44b0-87e2-039d74382658",
   "metadata": {},
   "source": [
    "### Add the coastline vector within the bounding box to the map"
   ]
  },
  {
   "cell_type": "code",
   "execution_count": 109,
   "id": "a29bb9c1-cd7c-4b25-801a-4a673f46f9e4",
   "metadata": {},
   "outputs": [
    {
     "data": {
      "application/vnd.jupyter.widget-view+json": {
       "model_id": "5df30e785677414a956843182cb4ce98",
       "version_major": 2,
       "version_minor": 0
      },
      "text/plain": [
       "Map(bottom=419115.18173217773, center=[34.016474746300055, -120.31488352768683], controls=(ZoomControl(options…"
      ]
     },
     "metadata": {},
     "output_type": "display_data"
    }
   ],
   "source": [
    "vector_within_bounding_box_json=roi_coast.to_json()\n",
    "# to_json generates a string that is json format\n",
    "res = json.loads(vector_within_bounding_box_json)\n",
    "geo_json_vector = GeoJSON(\n",
    "    data=res,\n",
    "    style={\n",
    "        'color':'yellow','fill_color':'yellow' ,'opacity': 1, 'dashArray': '5', 'fillOpacity': 0.5, 'weight': 4\n",
    "    },\n",
    "    hover_style={\n",
    "        'color': 'white', 'dashArray': '4', 'fillOpacity': 0.7\n",
    "    },\n",
    ")\n",
    "m.add_layer(geo_json_vector)\n",
    "m"
   ]
  },
  {
   "cell_type": "markdown",
   "id": "189db20f-4c49-4ff5-9a08-46f2944f4104",
   "metadata": {
    "tags": []
   },
   "source": [
    "# Generate Polygons along the selected portion of the coastline vector\n",
    "---"
   ]
  },
  {
   "cell_type": "markdown",
   "id": "4a121e3c-c98a-4a54-8d55-9ddf97ddc617",
   "metadata": {},
   "source": [
    "### Convert the clipped portion of the coastline into geojson"
   ]
  },
  {
   "cell_type": "code",
   "execution_count": 110,
   "id": "3fafdf4e-5154-499e-b548-635fa1668f14",
   "metadata": {},
   "outputs": [],
   "source": [
    "# vector_within_bounding_box_geojson\n",
    "vector_within_bounding_box_geojson = json.loads(vector_within_bounding_box_json)"
   ]
  },
  {
   "cell_type": "code",
   "execution_count": 111,
   "id": "f758f305-553d-487f-8c1e-49af95cb0ee4",
   "metadata": {},
   "outputs": [
    {
     "name": "stdout",
     "output_type": "stream",
     "text": [
      "There are 3 feature(s) in the bounding box\n"
     ]
    }
   ],
   "source": [
    "print(f\"There are {len(vector_within_bounding_box_geojson['features'])} feature(s) in the bounding box\")"
   ]
  },
  {
   "cell_type": "markdown",
   "id": "2d351288-391c-4f09-bbff-2a95f91d2235",
   "metadata": {},
   "source": [
    "# Convert the geometry of coastline within the bounding box to a list of linestrings\n",
    "For each of the linestrings and the linestrings within the multilinestring coastline that make up the coastline vector add them to the list of linestrings. These linestrings will have pointers interpolated along them later"
   ]
  },
  {
   "cell_type": "code",
   "execution_count": 112,
   "id": "eb634e77-6243-4ce8-84cd-43f373b1dbb2",
   "metadata": {},
   "outputs": [],
   "source": [
    "def create_linestring_list(vector_within_bounding_box_geojson:dict)->list:\n",
    "    \"\"\"\n",
    "    Create a list of linestrings from the multilinestrings and linestrings that compose the vector\n",
    "\n",
    "    Arguments:\n",
    "    -----------\n",
    "    vector_within_bounding_box_geojson: dict\n",
    "        geojson vector \n",
    "    Returns:\n",
    "    -----------\n",
    "    lines_list: list\n",
    "        list of multiple shapely.geometry.linestring.LineString that represent each segment of the vector\n",
    "    \"\"\"\n",
    "    lines_list=[]\n",
    "    length_vector_bbox_features=len(vector_within_bounding_box_geojson['features'])\n",
    "    length_vector_bbox_features\n",
    "\n",
    "    if(length_vector_bbox_features != 1):\n",
    "        for i in range(0,length_vector_bbox_features):\n",
    "            if  vector_within_bounding_box_geojson['features'][i]['geometry']['type'] == 'MultiLineString':\n",
    "                for y in range(len(vector_within_bounding_box_geojson['features'][i]['geometry']['coordinates'])):\n",
    "                    line=LineString(vector_within_bounding_box_geojson['features'][i]['geometry']['coordinates'][y])\n",
    "                    lines_list.append(line)\n",
    "            elif  vector_within_bounding_box_geojson['features'][i]['geometry']['type'] == 'LineString':\n",
    "                line=LineString(vector_within_bounding_box_geojson['features'][i]['geometry']['coordinates'])\n",
    "                lines_list.append(line)\n",
    "    else:\n",
    "        for i in range(0,len(vector_within_bounding_box_geojson['features'])):\n",
    "            if  vector_within_bounding_box_geojson['features'][0]['geometry']['type'] == 'MultiLineString':\n",
    "                for y in range(len(vector_within_bounding_box_geojson['features'][0]['geometry']['coordinates'])):\n",
    "                    line=LineString(vector_within_bounding_box_geojson['features'][0]['geometry']['coordinates'][y])\n",
    "                    lines_list.append(line)\n",
    "            elif  vector_within_bounding_box_geojson['features'][i]['geometry']['type'] == 'LineString':\n",
    "                line=LineString(vector_within_bounding_box_geojson['features'][i]['geometry']['coordinates'])\n",
    "                lines_list.append(line)\n",
    "    return lines_list"
   ]
  },
  {
   "cell_type": "code",
   "execution_count": 113,
   "id": "e00713a4-e583-4e01-9b58-acd0801e1b9c",
   "metadata": {},
   "outputs": [],
   "source": [
    "lines_list=create_linestring_list(vector_within_bounding_box_geojson)"
   ]
  },
  {
   "cell_type": "code",
   "execution_count": 114,
   "id": "63cc8bc2-12fe-4017-b0a4-d074adc89cc4",
   "metadata": {},
   "outputs": [
    {
     "name": "stdout",
     "output_type": "stream",
     "text": [
      "The number of linestring(s) in lines_list: 3\n"
     ]
    }
   ],
   "source": [
    "print(f\"The number of linestring(s) in lines_list: {len(lines_list)}\")"
   ]
  },
  {
   "cell_type": "markdown",
   "id": "6c6790b7-3cd0-48c1-975e-e47f55ee8037",
   "metadata": {},
   "source": [
    "## Interpolate Equal Distances Between Each Point on the Vector\n",
    "For each LineString that makes up the coastline :\n",
    "1. Calculate the distance between each point so that they are equally spaced\n",
    "2. Create a tuple of each of the equally spaced distance points\n",
    "3. Check if the linestring is closed and if it is then choose the 1st coordinate as the boundary\n",
    "4. Interpolate the linestring for each of the distances points calculated earlier\n",
    "5. Add the new multipoint generated by the interpolation to multipoint_list"
   ]
  },
  {
   "cell_type": "code",
   "execution_count": 115,
   "id": "1475427a-5276-4acf-96ec-02c1564798be",
   "metadata": {},
   "outputs": [],
   "source": [
    "def interpolate_points(lines_list:list,num_pts=10)->list:\n",
    "    \"\"\"\n",
    "    Create a list of multipoints for the interpolated points along each line in the lines_list\n",
    "\n",
    "    Arguments:\n",
    "    -----------\n",
    "    lines_list: list\n",
    "        list of multiple shapely.geometry.linestring.LineString that represent each segment of the vector\n",
    "    \n",
    "    num_pts: int\n",
    "        integer value representing the number of interpolated points created per LineString\n",
    "        \n",
    "    Returns:\n",
    "    -----------\n",
    "    multipoint_list: list\n",
    "    A list of multiple shapely.geometry.multipoint.MultiPoint \n",
    "    \"\"\"\n",
    "    # multipoint_list holds the multipoint for each feature of the coastline within the bbox\n",
    "    multipoint_list=[]\n",
    "\n",
    "    for i in range(len(lines_list)):\n",
    "        line=lines_list[i]\n",
    "        distance_delta=line.length/num_pts\n",
    "        distances = np.arange(0, line.length, distance_delta)\n",
    "        if lines_list[i].is_closed:\n",
    "            #Its a closed shape so its boundary points are NULL\n",
    "            boundary=shapely_Point(lines_list[i].coords[0])\n",
    "            # print(\"\\n Closed: \", boundary, type( boundary))\n",
    "        else: \n",
    "            boundary=lines_list[i].boundary.geoms[0]\n",
    "            # print(\"\\n NOT closed: \",boundary, type(boundary))\n",
    "        points = [lines_list[i].interpolate(distance) for distance in distances] + [boundary]\n",
    "        multipoint = unary_union(points) \n",
    "        multipoint\n",
    "        multipoint_list.append(multipoint)\n",
    "    return multipoint_list"
   ]
  },
  {
   "cell_type": "code",
   "execution_count": 116,
   "id": "da584533-6ec1-41e5-bf02-cbc2eb92d27c",
   "metadata": {},
   "outputs": [],
   "source": [
    "multipoint_list=interpolate_points(lines_list)"
   ]
  },
  {
   "cell_type": "markdown",
   "id": "4e444648-d22c-4bbd-9185-32af09546234",
   "metadata": {},
   "source": [
    "## Convert the multipoint from the interpolation to a tuple\n",
    "- ipyleaflet requires that the points be a tuple to be plotted onto the map"
   ]
  },
  {
   "cell_type": "code",
   "execution_count": 117,
   "id": "31b0f358-688f-4a96-814b-d2a19d8160ba",
   "metadata": {},
   "outputs": [],
   "source": [
    "def convert_multipoints_to_tuples(multipoint_list:list)-> list:\n",
    "    \"\"\"\n",
    "    Create a list of tuples for the points in multipoint_list\n",
    "\n",
    "    Arguments:\n",
    "    -----------\n",
    "    multipoint_list: list\n",
    "        A list of multiple shapely.geometry.multipoint.MultiPoint\n",
    "    Returns:\n",
    "    -----------\n",
    "    points_list_collection: list\n",
    "        A list of tuples each tuple represents a single point\n",
    "    \"\"\"\n",
    "    points_list_collection=[]\n",
    "    for multipoint in  multipoint_list:\n",
    "        # First get each point from the multipoint object\n",
    "        points_array=[point for point in multipoint.geoms]\n",
    "        # Create an empty array to hold all the points as tuples\n",
    "        points_list=[]\n",
    "        # For each point swap lat and lng because ipyleaflet swaps them\n",
    "        for point in points_array:\n",
    "            point_tuple=(point.coords[0][1],point.coords[0][0])\n",
    "            points_list.append(point_tuple)\n",
    "\n",
    "        points_list_collection.append(points_list)\n",
    "    return points_list_collection"
   ]
  },
  {
   "cell_type": "code",
   "execution_count": 118,
   "id": "41b71de8-7d2a-4c4b-b83a-568a14a8c130",
   "metadata": {},
   "outputs": [
    {
     "data": {
      "text/plain": [
       "[[(34.03168150386515, -120.45145562605194),\n",
       "  (34.0474437882485, -120.42865616851695),\n",
       "  (34.02605157899716, -120.42036365010279),\n",
       "  (34.05162941609134, -120.39809138700905),\n",
       "  (34.02471516472867, -120.38497973558093),\n",
       "  (34.07348445562798, -120.36940888741836),\n",
       "  (34.051975, -120.3598465),\n",
       "  (34.01907111842292, -120.35114603642788),\n",
       "  (34.04466206991077, -120.32408092353609),\n",
       "  (34.01953461402038, -120.31268576642063)],\n",
       " [(34.05426184201174, -120.45201113026535),\n",
       "  (34.057512237655345, -120.45094122767935),\n",
       "  (34.05264068476356, -120.44859420156101),\n",
       "  (34.057930632990455, -120.44698128474226),\n",
       "  (34.05378232632252, -120.44485544798098),\n",
       "  (34.05782907975453, -120.44297002003749),\n",
       "  (34.05458667145645, -120.44117597525123),\n",
       "  (34.05772752651861, -120.4389587553327),\n",
       "  (34.05371622783362, -120.43725897569914),\n",
       "  (34.05650021, -120.43543592)],\n",
       " [(34.05858484563296, -120.33828097847295),\n",
       "  (34.06015860823383, -120.33708348625552),\n",
       "  (34.05742208720035, -120.33657115772523),\n",
       "  (34.06116442947398, -120.33517241727087),\n",
       "  (34.05631953034208, -120.33471421685232),\n",
       "  (34.06090854173977, -120.33310113328065),\n",
       "  (34.055216973483816, -120.3328572759794),\n",
       "  (34.05641353, -120.33111739),\n",
       "  (34.06022658917686, -120.3310979487329),\n",
       "  (34.0583429226247, -120.33014718119209)]]"
      ]
     },
     "execution_count": 118,
     "metadata": {},
     "output_type": "execute_result"
    }
   ],
   "source": [
    "points_list_collection=convert_multipoints_to_tuples(multipoint_list)\n",
    "points_list_collection"
   ]
  },
  {
   "cell_type": "markdown",
   "id": "0b2e1e3f-7178-422b-ba78-bba651ede181",
   "metadata": {},
   "source": [
    "## Function to Convert ipyleaflet Polygon Points to GeoJson\n",
    "1. Ipyleaflet draws its shapes in lat,lng format and it must be converted to lng, lat for geojson.\n",
    "2. In order to correctly draw a rectangle in geojson the order of the points matters as well."
   ]
  },
  {
   "cell_type": "code",
   "execution_count": 119,
   "id": "10788b9c-0da1-44f4-b33b-9cb641204820",
   "metadata": {},
   "outputs": [],
   "source": [
    "def convert_to_geojson(upper_right_y : float, upper_right_x: float,upper_left_y: float, upper_left_x: float,lower_left_y: float,  lower_left_x: float,lower_right_y: float,lower_right_x: float) -> dict:\n",
    "    \"\"\"Convert the 4 corners of the rectangle into geojson  \"\"\"\n",
    "    geojson_feature={}\n",
    "    geojson_feature[\"type\"]=\"Feature\"\n",
    "    geojson_feature[\"properties\"]={}\n",
    "    geojson_feature[\"geometry\"]={}\n",
    "    \n",
    "    geojson_polygon={}\n",
    "    geojson_polygon[\"type\"]=\"Polygon\"\n",
    "    geojson_polygon[\"coordinates\"]=[]\n",
    "#     The coordinates(which are 1,2 arrays) are nested within a parent array\n",
    "    nested_array=[]\n",
    "    nested_array.append([upper_right_x, upper_right_y])\n",
    "    nested_array.append([upper_left_x, upper_left_y])\n",
    "    nested_array.append([lower_left_x, lower_left_y])\n",
    "    nested_array.append([lower_right_x, lower_right_y])\n",
    "    #GeoJson rectangles have the first point repeated again as the last point\n",
    "    nested_array.append([upper_right_x, upper_right_y])\n",
    "\n",
    "    geojson_polygon[\"coordinates\"].append(nested_array)\n",
    "    \n",
    "    geojson_feature[\"geometry\"]=geojson_polygon\n",
    "    return geojson_feature"
   ]
  },
  {
   "cell_type": "markdown",
   "id": "b069b6e4-5b92-4435-b8a3-6da8a4afcded",
   "metadata": {},
   "source": [
    "## Function to Write Polygons in GeoJson to a .geojson file\n",
    "1. Pass the filename and the geojson from ***convert_to_geojson()***"
   ]
  },
  {
   "cell_type": "code",
   "execution_count": 120,
   "id": "f98e2c2a-e103-4d0a-8597-43d3408212af",
   "metadata": {},
   "outputs": [],
   "source": [
    "def write_to_geojson_file(filename : str,geojson_polygons : dict, perserve_id: bool =False):\n",
    "    \"\"\"Make a filename.geojson file from dictionary geojson_polygons \n",
    "      \n",
    "    Arguments:\n",
    "    -----------\n",
    "    \n",
    "    filename : str\n",
    "        The name of the geojson file to be written to. MUST end in .geojson\n",
    "    \n",
    "    geojson_polygons : dict\n",
    "        The dictionary containing the geojson data. Must contain all geojson within the features section of geojson.\n",
    "    \n",
    "    perserve_id: boolean   default=False\n",
    "        Boolean that if True perserves the property id and writes it to the geojson file\n",
    "    \"\"\"\n",
    "    features = []\n",
    "    if not perserve_id:\n",
    "        count=0\n",
    "        for geoObj in geojson_polygons[\"features\"]:\n",
    "            features.append(Feature(properties={\"id\":count },geometry=geoObj[\"geometry\"]))\n",
    "            count=count+1\n",
    "    elif perserve_id:\n",
    "        for geoObj in geojson_polygons[\"features\"]:\n",
    "            print(geoObj[\"properties\"][\"id\"])\n",
    "            features.append(Feature(properties={\"id\": geoObj[\"properties\"][\"id\"]},geometry=geoObj[\"geometry\"]))\n",
    "    \n",
    "    feature_collection = FeatureCollection(features)\n",
    "    with open(f'{filename}', 'w') as f:\n",
    "        dump(feature_collection, f)"
   ]
  },
  {
   "cell_type": "markdown",
   "id": "8d525b5c-5396-49f2-89ef-be34d9b8939c",
   "metadata": {},
   "source": [
    "## Create a Rectangle For Each Interpolated Point on the Vector\n",
    "1. Create a list to hold all the polygons to be added on to the map\n",
    "2. Convert each of the rectangles to geojson for further analysis later using ***convert_to_geojson()***"
   ]
  },
  {
   "cell_type": "code",
   "execution_count": 121,
   "id": "458a403b-4eec-4f2e-8977-d2170200e764",
   "metadata": {},
   "outputs": [],
   "source": [
    "def create_reactangles(points_list_collection: list,size:int=0.04)-> dict:\n",
    "    \"\"\"\n",
    "    Create the geojson rectangles for each point in the points_list_collection\n",
    "\n",
    "    Arguments:\n",
    "    -----------\n",
    "    points_list_collection: list\n",
    "        list of tuples containing all the interpolated points along the given vector\n",
    "    \n",
    "    size: float\n",
    "        A float that will be used as the multiplier for the ROI sizes\n",
    "    \n",
    "    Returns:\n",
    "    -----------\n",
    "    geojson_polygons: dict\n",
    "       geojson dictionary contains all the rectangles generated\n",
    "    \"\"\"                                         \n",
    "    geojson_polygons={\"type\": \"FeatureCollection\",\"features\":[]}\n",
    "\n",
    "    # Create a rectangle at each point on the line\n",
    "    # Swap the x and y for each point because ipyleaflet swaps them for draw methods\n",
    "    for points_list in points_list_collection:\n",
    "        for point in points_list:\n",
    "            upper_right_x=point[0]-(size/2)\n",
    "            upper_right_y=point[1]-(size/2)\n",
    "            upper_left_x=point[0]+(size/2)\n",
    "            upper_left_y=point[1]-(size/2)\n",
    "            lower_left_x=point[0]+(size/2)\n",
    "            lower_left_y=point[1]+(size/2)\n",
    "            lower_right_x=point[0]-(size/2)\n",
    "            lower_right_y=point[1]+(size/2)\n",
    "            #Convert each set of points to geojson (DONT swap x and y this time)\n",
    "            geojson_polygon=convert_to_geojson(upper_right_x, upper_right_y,upper_left_x, upper_left_y,lower_left_x,lower_left_y,lower_right_x,lower_right_y)\n",
    "            geojson_polygons[\"features\"].append(geojson_polygon)\n",
    "    return geojson_polygons"
   ]
  },
  {
   "cell_type": "markdown",
   "id": "49b1aa81-474b-49d8-b85b-24737f8cc24f",
   "metadata": {},
   "source": [
    "### Create the ROIs along the coastline and write their data to roi.geojson"
   ]
  },
  {
   "cell_type": "code",
   "execution_count": 122,
   "id": "bf8c8ab6-e447-4b57-8339-9428d312e0e8",
   "metadata": {
    "scrolled": true,
    "tags": []
   },
   "outputs": [],
   "source": [
    "geojson_polygons=create_reactangles(points_list_collection)"
   ]
  },
  {
   "cell_type": "code",
   "execution_count": 123,
   "id": "73a16d07-ca64-4c1b-9e3b-38fc7ff0c3fd",
   "metadata": {},
   "outputs": [],
   "source": [
    "write_to_geojson_file(filename,geojson_polygons)"
   ]
  },
  {
   "cell_type": "markdown",
   "id": "a83d2d90-e172-4215-b7fe-d6b83f48e04d",
   "metadata": {},
   "source": [
    "## Check if all the ROIs overlap with their neighbors"
   ]
  },
  {
   "cell_type": "code",
   "execution_count": 124,
   "id": "462be869-bfb8-419f-ab17-89ff425d6121",
   "metadata": {},
   "outputs": [],
   "source": [
    "def check_shapes_overlap(filename):\n",
    "    \"\"\"\n",
    "    Returns True if all the ROIs in the filename's geojson overlap and false if even one ROI does not overlap.\n",
    "    \n",
    "    Arguments:\n",
    "    -----------\n",
    "    filename: str\n",
    "        The name of the file containing all the geojson data for all the ROIs generated.\n",
    "    Returns:\n",
    "    -----------\n",
    "    shapes_overlap: boolean\n",
    "        A boolean that is True only is ALL the ROIs overlap.\n",
    "    \"\"\"\n",
    "    geo_series=gpd.GeoSeries.from_file(filename)\n",
    "    shapes_overlap=True\n",
    "    last_index=geo_series.index[-1]\n",
    "    for index in geo_series.index:\n",
    "        geo_series_next=geo_series[index]\n",
    "        for inner_index in geo_series.index:\n",
    "            if inner_index==last_index and not geo_series_next.overlaps(geo_series[inner_index]) :\n",
    "                shapes_overlap=False\n",
    "            if geo_series_next.overlaps(geo_series[inner_index]) and index != inner_index:\n",
    "                break\n",
    "    return shapes_overlap"
   ]
  },
  {
   "cell_type": "code",
   "execution_count": 125,
   "id": "3d260528-32be-48a3-851e-928a1e8c2219",
   "metadata": {},
   "outputs": [],
   "source": [
    "def create_overlap(filename: str, lines_list: list, multipoint_list: list, points_list_collection: list ,geojson_polygons: dict):\n",
    "    \"\"\"\n",
    "    Check if all the ROI overlap with at both of its neighbors. If it doesn't increase the number of ROIs up to 160. If the number of ROIs exceed 160,\n",
    "    then no more will be drawn even if there is not enough overlap.\n",
    "\n",
    "    Arguments:\n",
    "    -----------\n",
    "    filename: str\n",
    "        The name of the file containing all the geojson data for all the ROIs generated.\n",
    "    \n",
    "    lines_list: list\n",
    "        list of multiple shapely.geometry.linestring.LineString that represent each segment of the vector\n",
    "        \n",
    "   multipoint_list: list\n",
    "        A list of multiple shapely.geometry.multipoint.MultiPoint\n",
    "    \n",
    "    points_list_collection: list\n",
    "        list of tuples containing all the interpolated points along the given vector\n",
    "\n",
    "    geojson_polygons: dict\n",
    "       geojson dictionary contains all the rectangles generated\n",
    "    \n",
    "    Returns:\n",
    "    -----------\n",
    "    None\n",
    "    \"\"\"           \n",
    "    num_pts=20\n",
    "    too_many_ROI=False\n",
    "    all_shapes_overlap=check_shapes_overlap(filename)\n",
    "    # Convert to while loop when test is done\n",
    "    while all_shapes_overlap==False and too_many_ROI==False:\n",
    "        multipoint_list=interpolate_points(lines_list,num_pts)\n",
    "        points_list_collection=convert_multipoints_to_tuples(multipoint_list)\n",
    "        geojson_polygons=create_reactangles(points_list_collection)\n",
    "        write_to_geojson_file(filename,geojson_polygons)\n",
    "        all_shapes_overlap=check_shapes_overlap(filename)\n",
    "        if not all_shapes_overlap:\n",
    "            if num_pts == 100:\n",
    "                too_many_ROI=True\n",
    "            elif num_pts > 100:\n",
    "                num_pts=100\n",
    "            else:\n",
    "                num_pts=num_pts*2\n",
    "        print(f\"num_pts increased to: {num_pts}\")  "
   ]
  },
  {
   "cell_type": "code",
   "execution_count": 126,
   "id": "4d88cb3a-4dac-4423-96ea-f0230df98688",
   "metadata": {},
   "outputs": [],
   "source": [
    "create_overlap(filename, lines_list, multipoint_list, points_list_collection ,geojson_polygons)"
   ]
  },
  {
   "cell_type": "markdown",
   "id": "3621db02-a07d-43df-9f9f-6f198077fb55",
   "metadata": {},
   "source": [
    "# Add the Features to the Map\n",
    "---\n",
    "### Markers\n",
    "    1. Each marker has the lat and lng on hover and on click as a popup\n",
    "### ROI\n",
    "    1. Each rectangle can be click on to select it for download with data\n",
    "    2. Click the rectangle again to unselect it"
   ]
  },
  {
   "cell_type": "code",
   "execution_count": 127,
   "id": "16a254e4-f2cf-4534-9e3c-a8dbff6eb099",
   "metadata": {},
   "outputs": [
    {
     "data": {
      "application/vnd.jupyter.widget-view+json": {
       "model_id": "5df30e785677414a956843182cb4ce98",
       "version_major": 2,
       "version_minor": 0
      },
      "text/plain": [
       "Map(bottom=419115.18173217773, center=[34.016474746300055, -120.31488352768683], controls=(ZoomControl(options…"
      ]
     },
     "metadata": {},
     "output_type": "display_data"
    }
   ],
   "source": [
    "import copy\n",
    "from ipyleaflet import LayerGroup\n",
    "from ipyleaflet import Map, Marker, MarkerCluster\n",
    "from ipywidgets import HTML\n",
    "import geojson\n",
    "\n",
    "# @TODO    Add Try Except later\n",
    "# Raise excecption for invalid file type\n",
    "# Raise exception for invalid file format\n",
    "    # geojson layer with hover handler\n",
    "with open(filename) as f:\n",
    "    data = geojson.load(f)\n",
    "\n",
    "#     Add style to each feature in the geojson\n",
    "for feature in data[\"features\"]:\n",
    "    feature[\"properties\"][\"style\"] = {\n",
    "        \"color\": \"grey\",\n",
    "        \"weight\": 1,\n",
    "         \"fillColor\": \"grey\",\n",
    "        \"fillOpacity\": 0.2,\n",
    "     }\n",
    "\n",
    "selected_set = set()\n",
    "selected_layer = None\n",
    "\n",
    "\n",
    "def convert_selected_set_to_geojson(selected_set):\n",
    "#     Create a geojson feature collection with no features\n",
    "    geojson = {\"type\": \"FeatureCollection\", \"features\": []}\n",
    "# Iterate through all the features in the geojson data and check if its name is in the selected_set\n",
    "# if its name is then add it as a geojson feature\n",
    "    geojson[\"features\"] = [\n",
    "        feature\n",
    "        for feature in data[\"features\"]\n",
    "        if feature[\"properties\"][\"id\"] in selected_set\n",
    "    ]\n",
    " #     change the style for the selected features\n",
    "    for feature in data[\"features\"]:\n",
    "        feature[\"properties\"][\"style\"] = {\n",
    "            \"color\": \"blue\",\n",
    "            \"weight\": 2,\n",
    "             \"fillColor\": \"grey\",\n",
    "             \"fillOpacity\": 0.2,\n",
    "          }\n",
    "    return geojson\n",
    "\n",
    "# If  properties is none is means there is no name and thus nothing to add\n",
    "# Modify this for my version\n",
    "# This function allows for the feature to be removed from the selected portion if it is clicked again after being selected\n",
    "def selected_onclick_handler(event=None, id=None, properties=None, **args):\n",
    "    global selected_layer\n",
    "    if properties is None:\n",
    "        return\n",
    "    cid = properties[\"id\"]\n",
    "    selected_set.remove(cid)\n",
    "#     If the selected_layer is included then remove it\n",
    "    if selected_layer is not None:\n",
    "         m.remove_layer(selected_layer)\n",
    "    selected_layer = GeoJSON(\n",
    "        data=convert_selected_set_to_geojson(selected_set),\n",
    "        name=\"Selected ROIs\",\n",
    "        hover_style={\"fillColor\": \"blue\"},\n",
    "    )\n",
    "    selected_layer.on_click(selected_onclick_handler)\n",
    "    m.add_layer(selected_layer)\n",
    "\n",
    "    # selected_onclick_handler mirrors this function\n",
    "def geojson_onclick_handler(event=None, id=None, properties=None, **args):\n",
    "    print(\"Click Registered\")\n",
    "    global selected_layer\n",
    "#     Custom properties associated with geojson\n",
    "    if properties is None:\n",
    "           return\n",
    "    cid = properties[\"id\"]\n",
    "#     Add the property to the selected_set (unordered, no duplicates, no index)\n",
    "    selected_set.add(cid)\n",
    "#     Remove the previously selected layer from map layer\n",
    "    if selected_layer is not None:\n",
    "        m.remove_layer(selected_layer)\n",
    "# Create a new layer from the selected geojson on the map \n",
    "# call convert_selected_set_to_geojson() to style the selected geojson\n",
    "    selected_layer = GeoJSON(\n",
    "        data=convert_selected_set_to_geojson(selected_set),\n",
    "        name=\"Selected ROIs\",\n",
    "        hover_style={\"fillColor\": \"blue\"},\n",
    "    )\n",
    "# Add a on_click handler to the selected_layer\n",
    "    selected_layer.on_click(selected_onclick_handler)\n",
    "# Add the selected layer to the map\n",
    "    m.add_layer(selected_layer)\n",
    "\n",
    "\n",
    "geojson_layer = GeoJSON(\n",
    "    data=data, name=\"ROIs\", hover_style={\"fillColor\": \"red\"}\n",
    "    )\n",
    "geojson_layer.on_click(geojson_onclick_handler)\n",
    "m.add_layer(geojson_layer)\n",
    "m\n"
   ]
  },
  {
   "cell_type": "markdown",
   "id": "c6635d87-9432-4cae-a97d-8e9aafa77e60",
   "metadata": {},
   "source": [
    "## Add the Marker cluser to the map"
   ]
  },
  {
   "cell_type": "code",
   "execution_count": 128,
   "id": "8e660922-2fc0-4bdf-af29-4ff1e56d923d",
   "metadata": {},
   "outputs": [
    {
     "data": {
      "application/vnd.jupyter.widget-view+json": {
       "model_id": "5df30e785677414a956843182cb4ce98",
       "version_major": 2,
       "version_minor": 0
      },
      "text/plain": [
       "Map(bottom=419115.18173217773, center=[34.016474746300055, -120.31488352768683], controls=(ZoomControl(options…"
      ]
     },
     "metadata": {},
     "output_type": "display_data"
    }
   ],
   "source": [
    "from ipyleaflet import LayerGroup\n",
    "from ipyleaflet import Map, Marker, MarkerCluster\n",
    "from ipywidgets import HTML\n",
    "\n",
    "markers = ()\n",
    "for points_list in points_list_collection:\n",
    "    for point in points_list:\n",
    "        marker = Marker(location=point,draggable=False,title=f\"Location:({point[1]},{point[0]})\")\n",
    "        message = HTML(value=f\"Location:({point[1]},{point[0]})\")\n",
    "        marker.popup = message\n",
    "        markers=markers + (marker,)\n",
    "\n",
    "m.add_layer(MarkerCluster(name = \"CoastSat Shoreline Data\",markers = markers,))\n",
    "\n",
    "m\n"
   ]
  },
  {
   "cell_type": "markdown",
   "id": "d2fdabe3-c37b-44b9-842d-1278583c37d1",
   "metadata": {},
   "source": [
    "# Add the Selected ROIs a Dictionary \n",
    "---\n",
    "1. Print the ID's of the selected ROIs\n",
    "2. Add the selected ROIs to the dictionary, selected_ROI\n",
    "3. Optionally, print the selected_ROI\n",
    "4. Download the geojson file of the selected_ROI"
   ]
  },
  {
   "cell_type": "code",
   "execution_count": 129,
   "id": "1e6e627a-5629-4c9e-b6f5-e8015c9881be",
   "metadata": {},
   "outputs": [],
   "source": [
    "def get_selected_roi(selected_set:tuple)-> dict:\n",
    "    \"\"\"\n",
    "    Returns the geojson of the ROIs selected by the user\n",
    "\n",
    "    Arguments:\n",
    "    -----------\n",
    "    selected_set:tuple\n",
    "        A tuple containing the ids of the ROIs selected by the user\n",
    "    \n",
    "    Returns:\n",
    "    -----------\n",
    "    geojson_polygons: dict\n",
    "       geojson dictionary containing all the ROIs selected  \n",
    "    \"\"\"\n",
    "    # Check if selected_set is empty\n",
    "    assert len(selected_set) != 0, \"\\n Please select at least one ROI from the map before continuing.\"\n",
    "    # Create a dictionary for the selected ROIs and add the user's selected ROIs to it  \n",
    "    selected_ROI={}\n",
    "    selected_ROI[\"features\"] = [\n",
    "        feature\n",
    "        for feature in data[\"features\"]\n",
    "        if feature[\"properties\"][\"id\"] in selected_set\n",
    "    ]\n",
    "    return selected_ROI"
   ]
  },
  {
   "cell_type": "code",
   "execution_count": 130,
   "id": "924d7ab5-2467-47f0-a6f8-81ec1ddf6e5f",
   "metadata": {},
   "outputs": [
    {
     "data": {
      "text/plain": [
       "{'features': [{\"geometry\": {\"coordinates\": [[[-120.455436, 34.0365], [-120.455436, 34.0765], [-120.415436, 34.0765], [-120.415436, 34.0365], [-120.455436, 34.0365]]], \"type\": \"Polygon\"}, \"properties\": {\"id\": 19, \"style\": {\"color\": \"blue\", \"fillColor\": \"grey\", \"fillOpacity\": 0.2, \"weight\": 2}}, \"type\": \"Feature\"},\n",
       "  {\"geometry\": {\"coordinates\": [[[-120.350147, 34.038343], [-120.350147, 34.078343], [-120.310147, 34.078343], [-120.310147, 34.038343], [-120.350147, 34.038343]]], \"type\": \"Polygon\"}, \"properties\": {\"id\": 29, \"style\": {\"color\": \"blue\", \"fillColor\": \"grey\", \"fillOpacity\": 0.2, \"weight\": 2}}, \"type\": \"Feature\"}]}"
      ]
     },
     "execution_count": 130,
     "metadata": {},
     "output_type": "execute_result"
    }
   ],
   "source": [
    "selected_ROI=get_selected_roi(selected_set)\n",
    "selected_ROI"
   ]
  },
  {
   "cell_type": "markdown",
   "id": "a9dbb990-2cbb-4564-b7d1-65f4cc6c9278",
   "metadata": {},
   "source": [
    "### Download the Selected ROI(s) to a geojson file"
   ]
  },
  {
   "cell_type": "code",
   "execution_count": 131,
   "id": "81b48a55-b46b-4183-ad06-8bb66e323c2d",
   "metadata": {},
   "outputs": [
    {
     "name": "stdout",
     "output_type": "stream",
     "text": [
      "19\n",
      "29\n"
     ]
    }
   ],
   "source": [
    "selected_roi_file=\"selected_roi.geojson\"\n",
    "write_to_geojson_file(selected_roi_file,selected_ROI,perserve_id=True)"
   ]
  },
  {
   "cell_type": "markdown",
   "id": "c712aaf3-429c-4488-824f-782439a74edc",
   "metadata": {},
   "source": [
    "## Download the Data Selected with CoastSat\n",
    "---\n",
    "1. Preview the data available with CoastSat's check_images_available()\n",
    "2. Download the data available with CoastSat's retrieve_images()\n",
    "3. Transform the data into jpgs CoastSat's save_jpg()"
   ]
  },
  {
   "cell_type": "code",
   "execution_count": 132,
   "id": "726b97f0-b646-41e1-b9c9-c92576dd30b4",
   "metadata": {},
   "outputs": [],
   "source": [
    "import os\n",
    "import numpy as np\n",
    "import pickle\n",
    "import warnings\n",
    "warnings.filterwarnings(\"ignore\")\n",
    "import matplotlib\n",
    "matplotlib.use('Qt5Agg')\n",
    "import matplotlib.pyplot as plt\n",
    "from matplotlib import gridspec\n",
    "plt.ion()\n",
    "import pandas as pd\n",
    "from datetime import datetime\n",
    "from coastsat import SDS_download, SDS_preprocess, SDS_shoreline, SDS_tools, SDS_transects\n",
    "import ee\n",
    "# NOTE: modify the \"import gda\"l in SDS_download to \"from osgeo import gdal\" to reslove the module not found error"
   ]
  },
  {
   "cell_type": "code",
   "execution_count": 133,
   "id": "de0495ae-018e-4c51-a812-87606a1494d3",
   "metadata": {},
   "outputs": [],
   "source": [
    "def get_ids_selected_roi_from_file(selected_roi_file: str)-> list:\n",
    "    \"\"\"\n",
    "     Returns a list of the  ROI ids selected by the user\n",
    "\n",
    "    Arguments:\n",
    "    -----------\n",
    "    selected_roi_file: str\n",
    "        The filename of the geojson file containing all the ROI selected by the user\n",
    "    \n",
    "    Returns:\n",
    "    -----------\n",
    "    selected_ids: list\n",
    "      list of ids for all the ROIs selected by the user  \n",
    "    \"\"\"\n",
    "    with open(selected_roi_file) as f:\n",
    "        data = geojson.load(f)\n",
    "    # Get the id from the properties of each rectangle\n",
    "    selected_ids=[item.get(\"properties\").get(\"id\") for item in data[\"features\"]]\n",
    "    return selected_ids"
   ]
  },
  {
   "cell_type": "code",
   "execution_count": 134,
   "id": "28d60bd0-c405-4845-944e-580fa9cf33ec",
   "metadata": {},
   "outputs": [],
   "source": [
    "def read_selected_roi_from_file(selected_roi_file: str)-> dict:\n",
    "    \"\"\"\n",
    "     Returns the geojson of the selected ROIs from the file specified by selected_roi_file\n",
    "\n",
    "    Arguments:\n",
    "    -----------\n",
    "    selected_roi_file: str\n",
    "        The filename of the geojson file containing all the ROI selected by the user\n",
    "    \n",
    "    Returns:\n",
    "    -----------\n",
    "    data: dict\n",
    "        geojson of the selected ROIs\n",
    "    \"\"\"\n",
    "    with open(selected_roi_file) as f:\n",
    "        data = geojson.load(f)\n",
    "    return data"
   ]
  },
  {
   "cell_type": "code",
   "execution_count": 137,
   "id": "a307830c-816f-4720-aa92-5c2f773fe50e",
   "metadata": {},
   "outputs": [],
   "source": [
    "selected_roi_file=\"selected_roi.geojson\"\n",
    "selected_ROI=read_selected_roi_from_file(selected_roi_file)"
   ]
  },
  {
   "cell_type": "markdown",
   "id": "de124c1b-3188-4521-a5be-a5d75a37c537",
   "metadata": {},
   "source": [
    "### For each item in selected_ROI\n",
    "1. Create a coastSatBBOX\n",
    "2. Set Coast's polygon equal to the coastSatBBOX\n",
    "3. Set all the necessary CoastSat parameters\n",
    "4. Check images available for download"
   ]
  },
  {
   "cell_type": "code",
   "execution_count": 138,
   "id": "e82d8ba4-b4c5-4f13-a705-ce7ddff3f561",
   "metadata": {},
   "outputs": [],
   "source": [
    "from datetime import datetime\n",
    "def generate_datestring():\n",
    "    \"\"\"\"\n",
    "    Returns a string in the following format %Y-%m-%d__%H_hr_%M_min.\n",
    "    EX: \"ID02022-01-31__13_hr_19_min\"\n",
    "    \"\"\"\n",
    "    date=datetime.now()\n",
    "    print(date)\n",
    "    return date.strftime('%Y-%m-%d__%H_hr_%M_min')"
   ]
  },
  {
   "cell_type": "code",
   "execution_count": 139,
   "id": "8f2b1045-b9f8-486c-952a-434bdcd9bac6",
   "metadata": {},
   "outputs": [],
   "source": [
    "def check_images_available_selected_ROI(selected_ROI:dict)->list:\n",
    "    \"\"\"\"\n",
    "   \n",
    "    Return a list of dictionaries containing all the input parameters such as polygon, dates, sat_list, sitename, and filepath. This list can be used\n",
    "    to retrieve images using coastsat. \n",
    "    \n",
    "    Arguments:\n",
    "    -----------\n",
    "    selected_ROI:  dict\n",
    "        A geojson dictionary containing all the ROIs selected by the user.\n",
    "   \n",
    "   Returns:\n",
    "    -----------\n",
    "   list_of_inputs: list\n",
    "        A list of dictionaries containing all the input parameters such as polygon, dates, sat_list, sitename, and filepath\n",
    "    \"\"\"\n",
    "    list_of_inputs=[]; \n",
    "    if selected_ROI[\"features\"] != []:\n",
    "        date_str=generate_datestring()\n",
    "        for counter, ROI in enumerate(selected_ROI[\"features\"]):\n",
    "            coastSatBBOX=ROI[\"geometry\"][\"coordinates\"]\n",
    "            polygon=coastSatBBOX\n",
    "            # it's recommended to convert the polygon to the smallest rectangle (sides parallel to coordinate axes)       \n",
    "            polygon = SDS_tools.smallest_rectangle(polygon)\n",
    "            # date range\n",
    "            dates = ['2018-12-01', '2019-01-01']\n",
    "            # satellite missions\n",
    "            sat_list = ['S2','L7','L8']\n",
    "            # name of the site\n",
    "            sitename = 'ID'+str(counter)+date_str\n",
    "            # directory where the data will be stored\n",
    "            filepath = os.path.join(os.getcwd(), 'data')\n",
    "            # put all the inputs into a dictionnary\n",
    "            inputs = {'polygon': polygon, 'dates': dates, 'sat_list': sat_list, 'sitename': sitename, 'filepath':filepath}\n",
    "            # before downloading the images, check how many images are available for your inputs\n",
    "            SDS_download.check_images_available(inputs)\n",
    "            list_of_inputs.append(inputs)\n",
    "    return list_of_inputs"
   ]
  },
  {
   "cell_type": "code",
   "execution_count": 140,
   "id": "76ba403e-414f-47bd-a273-9116d7ef7da7",
   "metadata": {},
   "outputs": [],
   "source": [
    "class AuthenticationError(Exception):\n",
    "    \"\"\"AuthenicationError: raised when an authentication error is raised by Google Earth Engine (EE) \n",
    "    Args:\n",
    "        Exception: Inherits from the base exception class\n",
    "    \"\"\"\n",
    "    def __init__(self, msg=\"You have not authenticated with Google Earth Engine\"):\n",
    "        self.msg=msg\n",
    "        super().__init__(self.msg)\n",
    "    def __str__(self):\n",
    "        return (f\"{self.msg}\")\n",
    "    "
   ]
  },
  {
   "cell_type": "code",
   "execution_count": 141,
   "id": "7fad993c-80e4-4145-86d6-92a74ff2cc2f",
   "metadata": {},
   "outputs": [],
   "source": [
    "def handle_AuthenticationError():\n",
    "    ee.Authenticate()\n",
    "    ee.Initialize()"
   ]
  },
  {
   "cell_type": "code",
   "execution_count": 142,
   "id": "4ee07adb-2bc9-42f8-a5a9-2a583cff8a3d",
   "metadata": {},
   "outputs": [
    {
     "name": "stdout",
     "output_type": "stream",
     "text": [
      "2022-02-01 16:06:18.001579\n",
      "Images available between 2018-12-01 and 2019-01-01:\n",
      "- In Landsat Tier 1 & Sentinel-2 Level-1C:\n",
      "  S2: 6 images\n",
      "  L7: 3 images\n",
      "  L8: 4 images\n",
      "  Total: 13 images\n",
      "- In Landsat Tier 2:\n",
      "  L7: 1 images\n",
      "  L8: 4 images\n",
      "  Total: 5 images\n",
      "Images available between 2018-12-01 and 2019-01-01:\n",
      "- In Landsat Tier 1 & Sentinel-2 Level-1C:\n",
      "  S2: 6 images\n",
      "  L7: 2 images\n",
      "  L8: 4 images\n",
      "  Total: 12 images\n",
      "- In Landsat Tier 2:\n",
      "  L7: 0 images\n",
      "  L8: 4 images\n",
      "  Total: 4 images\n"
     ]
    }
   ],
   "source": [
    "try:\n",
    "    try:\n",
    "        list_of_inputs=check_images_available_selected_ROI(selected_ROI)\n",
    "        list_of_inputs\n",
    "        if list_of_inputs == []:\n",
    "            print(\"Error: No ROIs were selected. Please click a valid ROI on the map\")\n",
    "    except ee.EEException as exception:\n",
    "        print(exception)\n",
    "        raise AuthenticationError\n",
    "except AuthenticationError:\n",
    "    handle_AuthenticationError()"
   ]
  },
  {
   "cell_type": "code",
   "execution_count": 143,
   "id": "7caaf53a-e982-41a9-b8e6-7d4989ea1e07",
   "metadata": {},
   "outputs": [
    {
     "data": {
      "text/plain": [
       "[{'polygon': [[[-120.455436, 34.0365],\n",
       "    [-120.415436, 34.0365],\n",
       "    [-120.415436, 34.0765],\n",
       "    [-120.455436, 34.0765],\n",
       "    [-120.455436, 34.0365]]],\n",
       "  'dates': ['2018-12-01', '2019-01-01'],\n",
       "  'sat_list': ['S2', 'L7', 'L8'],\n",
       "  'sitename': 'ID02022-02-01__16_hr_06_min',\n",
       "  'filepath': 'C:\\\\1_USGS\\\\CoastSeg\\\\repos\\\\CoastSeg_fork\\\\Seg2Map\\\\notebooks\\\\data'},\n",
       " {'polygon': [[[-120.350147, 34.038343],\n",
       "    [-120.310147, 34.038343],\n",
       "    [-120.310147, 34.078343],\n",
       "    [-120.350147, 34.078343],\n",
       "    [-120.350147, 34.038343]]],\n",
       "  'dates': ['2018-12-01', '2019-01-01'],\n",
       "  'sat_list': ['S2', 'L7', 'L8'],\n",
       "  'sitename': 'ID12022-02-01__16_hr_06_min',\n",
       "  'filepath': 'C:\\\\1_USGS\\\\CoastSeg\\\\repos\\\\CoastSeg_fork\\\\Seg2Map\\\\notebooks\\\\data'}]"
      ]
     },
     "execution_count": 143,
     "metadata": {},
     "output_type": "execute_result"
    }
   ],
   "source": [
    "list_of_inputs"
   ]
  },
  {
   "cell_type": "markdown",
   "id": "965c99ea-4a2e-4bb1-a050-5ad356187673",
   "metadata": {},
   "source": [
    "## Preprocessing the Downloaded Data\n",
    "---\n",
    "\n",
    "For each input dictionary in the list_of_inputs that was created by **check_images_available_selected_ROI**\n",
    "1. Download the .tif and the associated metadata with **SDS_download.retrieve_images**\n",
    "2. Create the pre_process_settings that determine how jpgs are created\n",
    "3. Create jpgs from the downloaded .tif file using the metadata & pre_process_settings with **DS_preprocess.save_jpg(metadata, pre_process_settings)**"
   ]
  },
  {
   "cell_type": "code",
   "execution_count": 144,
   "id": "7a08afff-2a69-42ff-8fba-17b8f505e4c1",
   "metadata": {},
   "outputs": [
    {
     "name": "stdout",
     "output_type": "stream",
     "text": [
      "\n",
      "inputs:  {'polygon': [[[-120.455436, 34.0365], [-120.415436, 34.0365], [-120.415436, 34.0765], [-120.455436, 34.0765], [-120.455436, 34.0365]]], 'dates': ['2018-12-01', '2019-01-01'], 'sat_list': ['S2', 'L7', 'L8'], 'sitename': 'ID02022-02-01__16_hr_06_min', 'filepath': 'C:\\\\1_USGS\\\\CoastSeg\\\\repos\\\\CoastSeg_fork\\\\Seg2Map\\\\notebooks\\\\data'} \n",
      "\n",
      "Images available between 2018-12-01 and 2019-01-01:\n",
      "- In Landsat Tier 1 & Sentinel-2 Level-1C:\n",
      "  S2: 6 images\n",
      "  L7: 3 images\n",
      "  L8: 4 images\n",
      "  Total: 13 images\n",
      "- In Landsat Tier 2:\n",
      "  L7: 1 images\n",
      "  L8: 4 images\n",
      "  Total: 5 images\n",
      "\n",
      "Downloading images:\n",
      "S2: 6 images\n",
      "100%\n",
      "L7: 3 images\n",
      "100%\n",
      "L8: 4 images\n",
      "100%\n",
      "0 out of 6 Sentinel-2 images were merged (overlapping or duplicate)\n",
      "{'L7': {'filenames': ['2018-12-04-18-30-31_L7_ID02022-02-01__16_hr_06_min_pan.tif', '2018-12-04-18-30-55_L7_ID02022-02-01__16_hr_06_min_pan.tif', '2018-12-20-18-30-04_L7_ID02022-02-01__16_hr_06_min_pan.tif'], 'acc_georef': [6.105999946594238, 9.026000022888184, 4.283999919891357], 'epsg': [32611, 32610, 32611], 'dates': [datetime.datetime(2018, 12, 4, 18, 30, 31, tzinfo=<UTC>), datetime.datetime(2018, 12, 4, 18, 30, 55, tzinfo=<UTC>), datetime.datetime(2018, 12, 20, 18, 30, 4, tzinfo=<UTC>)]}, 'L8': {'filenames': ['2018-12-12-18-34-23_L8_ID02022-02-01__16_hr_06_min_pan.tif', '2018-12-12-18-34-46_L8_ID02022-02-01__16_hr_06_min_pan.tif', '2018-12-28-18-34-23_L8_ID02022-02-01__16_hr_06_min_pan.tif', '2018-12-28-18-34-47_L8_ID02022-02-01__16_hr_06_min_pan.tif'], 'acc_georef': [7.083000183105469, 7.22599983215332, 7.26800012588501, 7.0970001220703125], 'epsg': [32611, 32610, 32611, 32610], 'dates': [datetime.datetime(2018, 12, 12, 18, 34, 23, tzinfo=<UTC>), datetime.datetime(2018, 12, 12, 18, 34, 46, tzinfo=<UTC>), datetime.datetime(2018, 12, 28, 18, 34, 23, tzinfo=<UTC>), datetime.datetime(2018, 12, 28, 18, 34, 47, tzinfo=<UTC>)]}, 'S2': {'filenames': ['2018-12-03-18-55-00_S2_ID02022-02-01__16_hr_06_min_10m.tif', '2018-12-08-18-54-56_S2_ID02022-02-01__16_hr_06_min_10m.tif', '2018-12-13-18-54-58_S2_ID02022-02-01__16_hr_06_min_10m.tif', '2018-12-18-18-54-56_S2_ID02022-02-01__16_hr_06_min_10m.tif', '2018-12-23-18-54-59_S2_ID02022-02-01__16_hr_06_min_10m.tif', '2018-12-28-18-54-58_S2_ID02022-02-01__16_hr_06_min_10m.tif'], 'acc_georef': [1.0, 1.0, 1.0, 1.0, 1.0, 1.0], 'epsg': [32610, 32610, 32610, 32610, 32610, 32610], 'dates': [datetime.datetime(2018, 12, 3, 18, 55, tzinfo=<UTC>), datetime.datetime(2018, 12, 8, 18, 54, 56, tzinfo=<UTC>), datetime.datetime(2018, 12, 13, 18, 54, 58, tzinfo=<UTC>), datetime.datetime(2018, 12, 18, 18, 54, 56, tzinfo=<UTC>), datetime.datetime(2018, 12, 23, 18, 54, 59, tzinfo=<UTC>), datetime.datetime(2018, 12, 28, 18, 54, 58, tzinfo=<UTC>)]}}\n",
      "Satellite images saved as .jpg in C:\\1_USGS\\CoastSeg\\repos\\CoastSeg_fork\\Seg2Map\\notebooks\\data\\ID02022-02-01__16_hr_06_min\\jpg_files\\preprocessed\n",
      "\n",
      "inputs:  {'polygon': [[[-120.350147, 34.038343], [-120.310147, 34.038343], [-120.310147, 34.078343], [-120.350147, 34.078343], [-120.350147, 34.038343]]], 'dates': ['2018-12-01', '2019-01-01'], 'sat_list': ['S2', 'L7', 'L8'], 'sitename': 'ID12022-02-01__16_hr_06_min', 'filepath': 'C:\\\\1_USGS\\\\CoastSeg\\\\repos\\\\CoastSeg_fork\\\\Seg2Map\\\\notebooks\\\\data'} \n",
      "\n",
      "Images available between 2018-12-01 and 2019-01-01:\n",
      "- In Landsat Tier 1 & Sentinel-2 Level-1C:\n",
      "  S2: 6 images\n",
      "  L7: 2 images\n",
      "  L8: 4 images\n",
      "  Total: 12 images\n",
      "- In Landsat Tier 2:\n",
      "  L7: 0 images\n",
      "  L8: 4 images\n",
      "  Total: 4 images\n",
      "\n",
      "Downloading images:\n",
      "S2: 6 images\n",
      "100%\n",
      "L7: 2 images\n",
      "100%\n",
      "L8: 4 images\n",
      "100%\n",
      "0 out of 6 Sentinel-2 images were merged (overlapping or duplicate)\n",
      "{'L7': {'filenames': ['2018-12-04-18-30-31_L7_ID12022-02-01__16_hr_06_min_pan.tif', '2018-12-20-18-30-04_L7_ID12022-02-01__16_hr_06_min_pan.tif'], 'acc_georef': [6.105999946594238, 4.283999919891357], 'epsg': [32611, 32611], 'dates': [datetime.datetime(2018, 12, 4, 18, 30, 31, tzinfo=<UTC>), datetime.datetime(2018, 12, 20, 18, 30, 4, tzinfo=<UTC>)]}, 'L8': {'filenames': ['2018-12-12-18-34-23_L8_ID12022-02-01__16_hr_06_min_pan.tif', '2018-12-12-18-34-46_L8_ID12022-02-01__16_hr_06_min_pan.tif', '2018-12-28-18-34-23_L8_ID12022-02-01__16_hr_06_min_pan.tif', '2018-12-28-18-34-47_L8_ID12022-02-01__16_hr_06_min_pan.tif'], 'acc_georef': [7.083000183105469, 7.22599983215332, 7.26800012588501, 7.0970001220703125], 'epsg': [32611, 32610, 32611, 32610], 'dates': [datetime.datetime(2018, 12, 12, 18, 34, 23, tzinfo=<UTC>), datetime.datetime(2018, 12, 12, 18, 34, 46, tzinfo=<UTC>), datetime.datetime(2018, 12, 28, 18, 34, 23, tzinfo=<UTC>), datetime.datetime(2018, 12, 28, 18, 34, 47, tzinfo=<UTC>)]}, 'S2': {'filenames': ['2018-12-03-18-55-00_S2_ID12022-02-01__16_hr_06_min_10m.tif', '2018-12-08-18-54-56_S2_ID12022-02-01__16_hr_06_min_10m.tif', '2018-12-13-18-54-58_S2_ID12022-02-01__16_hr_06_min_10m.tif', '2018-12-18-18-54-56_S2_ID12022-02-01__16_hr_06_min_10m.tif', '2018-12-23-18-54-59_S2_ID12022-02-01__16_hr_06_min_10m.tif', '2018-12-28-18-54-58_S2_ID12022-02-01__16_hr_06_min_10m.tif'], 'acc_georef': [1.0, 1.0, 1.0, 1.0, 1.0, 1.0], 'epsg': [32610, 32610, 32610, 32610, 32610, 32610], 'dates': [datetime.datetime(2018, 12, 3, 18, 55, tzinfo=<UTC>), datetime.datetime(2018, 12, 8, 18, 54, 56, tzinfo=<UTC>), datetime.datetime(2018, 12, 13, 18, 54, 58, tzinfo=<UTC>), datetime.datetime(2018, 12, 18, 18, 54, 56, tzinfo=<UTC>), datetime.datetime(2018, 12, 23, 18, 54, 59, tzinfo=<UTC>), datetime.datetime(2018, 12, 28, 18, 54, 58, tzinfo=<UTC>)]}}\n",
      "Satellite images saved as .jpg in C:\\1_USGS\\CoastSeg\\repos\\CoastSeg_fork\\Seg2Map\\notebooks\\data\\ID12022-02-01__16_hr_06_min\\jpg_files\\preprocessed\n"
     ]
    }
   ],
   "source": [
    "# for inputs in list_of_inputs:\n",
    "#     metadata = SDS_download.retrieve_images(inputs)  \n",
    "for inputs in list_of_inputs:\n",
    "    print(\"\\ninputs: \",inputs,\"\\n\")\n",
    "    metadata = SDS_download.retrieve_images(inputs)\n",
    "    # metadata = SDS_download.get_metadata(inputs)\n",
    "    pre_process_settings = { \n",
    "    # general parameters:\n",
    "    'cloud_thresh': 0.5,        # threshold on maximum cloud cover\n",
    "    'output_epsg': 3857,        # epsg code of spatial reference system desired for the output   \n",
    "    # quality control:\n",
    "    'check_detection': True,    # if True, shows each shoreline detection to the user for validation\n",
    "    'adjust_detection': False,  # if True, allows user to adjust the postion of each shoreline by changing the threhold\n",
    "    'save_figure': True,        # if True, saves a figure showing the mapped shoreline for each image\n",
    "    # [ONLY FOR ADVANCED USERS] shoreline detection parameters:\n",
    "    'min_beach_area': 4500,     # minimum area (in metres^2) for an object to be labelled as a beach\n",
    "    'buffer_size': 150,         # radius (in metres) of the buffer around sandy pixels considered in the shoreline detection\n",
    "    'min_length_sl': 200,       # minimum length (in metres) of shoreline perimeter to be valid\n",
    "    'cloud_mask_issue': False,  # switch this parameter to True if sand pixels are masked (in black) on many images  \n",
    "    'sand_color': 'default',    # 'default', 'dark' (for grey/black sand beaches) or 'bright' (for white sand beaches)\n",
    "    # add the inputs defined previously\n",
    "    'inputs': inputs,\n",
    "    }\n",
    "    print(metadata)\n",
    "    SDS_preprocess.save_jpg(metadata, pre_process_settings)"
   ]
  },
  {
   "cell_type": "code",
   "execution_count": null,
   "id": "a1d05b7c-18dc-4e48-bd44-0baee5948cbf",
   "metadata": {},
   "outputs": [],
   "source": []
  }
 ],
 "metadata": {
  "kernelspec": {
   "display_name": "Python 3 (ipykernel)",
   "language": "python",
   "name": "python3"
  },
  "language_info": {
   "codemirror_mode": {
    "name": "ipython",
    "version": 3
   },
   "file_extension": ".py",
   "mimetype": "text/x-python",
   "name": "python",
   "nbconvert_exporter": "python",
   "pygments_lexer": "ipython3",
   "version": "3.7.12"
  },
  "widgets": {
   "application/vnd.jupyter.widget-state+json": {
    "state": {
     "0030a39154034c3a8d9035fac3c754c6": {
      "model_module": "jupyter-leaflet",
      "model_module_version": "^0.15.0",
      "model_name": "LeafletTileLayerModel",
      "state": {
       "_model_module_version": "^0.15.0",
       "_view_module_version": "^0.15.0",
       "attribution": "Map data: (C) OpenStreetMap contributors | Map style: (C) waymarkedtrails.org (CC-BY-SA)",
       "max_native_zoom": 18,
       "min_native_zoom": 0,
       "name": "WaymarkedTrails.skating",
       "options": [
        "attribution",
        "detect_retina",
        "max_native_zoom",
        "max_zoom",
        "min_native_zoom",
        "min_zoom",
        "no_wrap",
        "tile_size",
        "tms"
       ],
       "url": "https://tile.waymarkedtrails.org/skating/{z}/{x}/{y}.png"
      }
     },
     "00e8bc19a9db436c9f10ce376f8e7146": {
      "model_module": "jupyter-leaflet",
      "model_module_version": "^0.15.0",
      "model_name": "LeafletTileLayerModel",
      "state": {
       "_model_module_version": "^0.15.0",
       "_view_module_version": "^0.15.0",
       "attribution": "Tiles (C) Esri -- Sources: GEBCO, NOAA, CHS, OSU, UNH, CSUMB, National Geographic, DeLorme, NAVTEQ, and Esri",
       "max_native_zoom": 18,
       "max_zoom": 13,
       "min_native_zoom": 0,
       "name": "Esri.OceanBasemap",
       "options": [
        "attribution",
        "detect_retina",
        "max_native_zoom",
        "max_zoom",
        "min_native_zoom",
        "min_zoom",
        "no_wrap",
        "tile_size",
        "tms"
       ],
       "url": "https://server.arcgisonline.com/ArcGIS/rest/services/Ocean_Basemap/MapServer/tile/{z}/{y}/{x}"
      }
     },
     "01fd0c376d724e5b81ab090beebef4de": {
      "model_module": "@jupyter-widgets/base",
      "model_module_version": "1.2.0",
      "model_name": "LayoutModel",
      "state": {
       "height": "auto",
       "padding": "0px 0px 0px 4px",
       "width": "auto"
      }
     },
     "024e4ff88eca4deaad217524631e135d": {
      "model_module": "@here/map-widget-for-jupyter",
      "model_module_version": "^1.1.3",
      "model_name": "DefaultLayersModel",
      "state": {
       "_model_module": "@here/map-widget-for-jupyter",
       "_model_module_version": "^1.1.3",
       "_view_count": null,
       "_view_module": "@here/map-widget-for-jupyter",
       "_view_module_version": "^1.1.3",
       "ppi": null
      }
     },
     "036b6c2c884b4afa95c30cdd9089f828": {
      "model_module": "@jupyter-widgets/controls",
      "model_module_version": "1.5.0",
      "model_name": "ToggleButtonModel",
      "state": {
       "button_style": "primary",
       "icon": "eraser",
       "layout": "IPY_MODEL_5ef64ceb82af47c793b0c8812a3a1975",
       "style": "IPY_MODEL_38547c738c2f4d9e863a846332b62288",
       "tooltip": "Remove all drawn features"
      }
     },
     "036ce7d7a37c47339425b5726ab44098": {
      "model_module": "@here/map-widget-for-jupyter",
      "model_module_version": "^1.1.3",
      "model_name": "DefaultLayersModel",
      "state": {
       "_model_module": "@here/map-widget-for-jupyter",
       "_model_module_version": "^1.1.3",
       "_view_count": null,
       "_view_module": "@here/map-widget-for-jupyter",
       "_view_module_version": "^1.1.3",
       "layer_name": "raster.satellite.map",
       "ppi": null
      }
     },
     "03d7d3b5feaa4eb5836fa8c2914826f1": {
      "model_module": "jupyter-leaflet",
      "model_module_version": "^0.15.0",
      "model_name": "LeafletTileLayerModel",
      "state": {
       "_model_module_version": "^0.15.0",
       "_view_module_version": "^0.15.0",
       "attribution": "(C) OpenStreetMap contributors",
       "max_native_zoom": 18,
       "max_zoom": 19,
       "min_native_zoom": 0,
       "name": "OpenStreetMap.Mapnik",
       "options": [
        "attribution",
        "detect_retina",
        "max_native_zoom",
        "max_zoom",
        "min_native_zoom",
        "min_zoom",
        "no_wrap",
        "tile_size",
        "tms"
       ],
       "url": "https://a.tile.openstreetmap.org/{z}/{x}/{y}.png"
      }
     },
     "04336d9cf01d4db3a9fa9222976ed67e": {
      "model_module": "jupyter-leaflet",
      "model_module_version": "^0.15.0",
      "model_name": "LeafletTileLayerModel",
      "state": {
       "_model_module_version": "^0.15.0",
       "_view_module_version": "^0.15.0",
       "attribution": "Imagery provided by services from the Global Imagery Browse Services (GIBS), operated by the NASA/GSFC/Earth Science Data and Information System (ESDIS) with funding provided by NASA/HQ.",
       "max_native_zoom": 18,
       "max_zoom": 8,
       "min_native_zoom": 0,
       "name": "NASAGIBS.ViirsEarthAtNight2012",
       "options": [
        "attribution",
        "detect_retina",
        "max_native_zoom",
        "max_zoom",
        "min_native_zoom",
        "min_zoom",
        "no_wrap",
        "tile_size",
        "tms"
       ],
       "url": "https://map1.vis.earthdata.nasa.gov/wmts-webmerc/VIIRS_CityLights_2012/default//GoogleMapsCompatible_Level8/{z}/{y}/{x}.jpg"
      }
     },
     "053d0477aaa541f08181f3f060dfc2bc": {
      "model_module": "jupyter-leaflet",
      "model_module_version": "^0.15.0",
      "model_name": "LeafletTileLayerModel",
      "state": {
       "_model_module_version": "^0.15.0",
       "_view_module_version": "^0.15.0",
       "attribution": "Datenquelle: basemap.at",
       "max_native_zoom": 18,
       "max_zoom": 20,
       "min_native_zoom": 0,
       "name": "BasemapAT.orthofoto",
       "options": [
        "attribution",
        "detect_retina",
        "max_native_zoom",
        "max_zoom",
        "min_native_zoom",
        "min_zoom",
        "no_wrap",
        "tile_size",
        "tms"
       ],
       "url": "https://maps.wien.gv.at/basemap/bmaporthofoto30cm/normal/google3857/{z}/{y}/{x}.jpeg"
      }
     },
     "063aaf265f434ac6935f5ef86ed6897f": {
      "model_module": "jupyter-leaflet",
      "model_module_version": "^0.15.0",
      "model_name": "LeafletTileLayerModel",
      "state": {
       "_model_module_version": "^0.15.0",
       "_view_module_version": "^0.15.0",
       "attribution": "(C) OpenStreetMap contributors, vizualization CC-By-SA 2.0 Freemap.sk",
       "max_native_zoom": 18,
       "max_zoom": 16,
       "min_native_zoom": 0,
       "name": "FreeMapSK",
       "options": [
        "attribution",
        "detect_retina",
        "max_native_zoom",
        "max_zoom",
        "min_native_zoom",
        "min_zoom",
        "no_wrap",
        "tile_size",
        "tms"
       ],
       "url": "https://a.freemap.sk/T/{z}/{x}/{y}.jpeg"
      }
     },
     "0704316be1bf4c6fa65863bf95da3c4a": {
      "model_module": "jupyter-leaflet",
      "model_module_version": "^0.15.0",
      "model_name": "LeafletTileLayerModel",
      "state": {
       "_model_module_version": "^0.15.0",
       "_view_module_version": "^0.15.0",
       "attribution": "(C) Stadia Maps, (C) OpenMapTiles (C) OpenStreetMap contributors",
       "max_native_zoom": 18,
       "max_zoom": 20,
       "min_native_zoom": 0,
       "name": "Stadia.Outdoors",
       "options": [
        "attribution",
        "detect_retina",
        "max_native_zoom",
        "max_zoom",
        "min_native_zoom",
        "min_zoom",
        "no_wrap",
        "tile_size",
        "tms"
       ],
       "url": "https://tiles.stadiamaps.com/tiles/outdoors/{z}/{x}/{y}.png"
      }
     },
     "073b0b821b814fe2a7276a12404e8d99": {
      "model_module": "@jupyter-widgets/base",
      "model_module_version": "1.2.0",
      "model_name": "LayoutModel",
      "state": {}
     },
     "079302926a5045a4a104db24ecff0519": {
      "model_module": "@jupyter-widgets/base",
      "model_module_version": "1.2.0",
      "model_name": "LayoutModel",
      "state": {
       "height": "auto",
       "padding": "0px 0px 0px 4px",
       "width": "auto"
      }
     },
     "09022516f7544307b33cf55b12b2f164": {
      "model_module": "@jupyter-widgets/controls",
      "model_module_version": "1.5.0",
      "model_name": "ToggleButtonModel",
      "state": {
       "button_style": "primary",
       "icon": "spinner",
       "layout": "IPY_MODEL_acc6d9b0e8d6495fa803633316042469",
       "style": "IPY_MODEL_281d54fb12d6472785db11676bee27e9",
       "tooltip": "This is a placeholder"
      }
     },
     "090dcbd0b38a4ec99db1b7a800dca8f0": {
      "model_module": "jupyter-leaflet",
      "model_module_version": "^0.15.0",
      "model_name": "LeafletTileLayerModel",
      "state": {
       "_model_module_version": "^0.15.0",
       "_view_module_version": "^0.15.0",
       "attribution": "(C) OpenStreetMap contributors (C) CARTO",
       "max_native_zoom": 18,
       "max_zoom": 20,
       "min_native_zoom": 0,
       "name": "CartoDB.DarkMatterOnlyLabels",
       "options": [
        "attribution",
        "detect_retina",
        "max_native_zoom",
        "max_zoom",
        "min_native_zoom",
        "min_zoom",
        "no_wrap",
        "tile_size",
        "tms"
       ],
       "url": "https://a.basemaps.cartocdn.com/dark_only_labels/{z}/{x}/{y}.png"
      }
     },
     "099ac161a3c3484a8d8d6df67e9df811": {
      "model_module": "jupyter-leaflet",
      "model_module_version": "^0.15.0",
      "model_name": "LeafletMapStyleModel",
      "state": {
       "_model_module_version": "^0.15.0"
      }
     },
     "0a037c3582634197b14d1c7ceadd0074": {
      "model_module": "jupyter-leaflet",
      "model_module_version": "^0.15.0",
      "model_name": "LeafletTileLayerModel",
      "state": {
       "_model_module_version": "^0.15.0",
       "_view_module_version": "^0.15.0",
       "attribution": "Google",
       "max_native_zoom": 18,
       "max_zoom": 22,
       "min_native_zoom": 0,
       "name": "Google Terrain",
       "options": [
        "attribution",
        "detect_retina",
        "max_native_zoom",
        "max_zoom",
        "min_native_zoom",
        "min_zoom",
        "no_wrap",
        "tile_size",
        "tms"
       ],
       "url": "https://mt1.google.com/vt/lyrs=p&x={x}&y={y}&z={z}"
      }
     },
     "0a51e950b50143b890efc2a7de6a852d": {
      "model_module": "jupyter-leaflet",
      "model_module_version": "^0.15.0",
      "model_name": "LeafletTileLayerModel",
      "state": {
       "_model_module_version": "^0.15.0",
       "_view_module_version": "^0.15.0",
       "attribution": "Map data: (C) OpenStreetMap contributors | Map style: (C) waymarkedtrails.org (CC-BY-SA)",
       "max_native_zoom": 18,
       "min_native_zoom": 0,
       "name": "WaymarkedTrails.hiking",
       "options": [
        "attribution",
        "detect_retina",
        "max_native_zoom",
        "max_zoom",
        "min_native_zoom",
        "min_zoom",
        "no_wrap",
        "tile_size",
        "tms"
       ],
       "url": "https://tile.waymarkedtrails.org/hiking/{z}/{x}/{y}.png"
      }
     },
     "0a55b94f21af435ebdccafc16a982368": {
      "model_module": "jupyter-leaflet",
      "model_module_version": "^0.15.0",
      "model_name": "LeafletGeoJSONModel",
      "state": {
       "_model_module_version": "^0.15.0",
       "_view_module_version": "^0.15.0",
       "data": {
        "features": [
         {
          "geometry": {
           "coordinates": [
            [
             [
              -75.62316,
              35.890865
             ],
             [
              -75.62316,
              35.930865
             ],
             [
              -75.58316,
              35.930865
             ],
             [
              -75.58316,
              35.890865
             ],
             [
              -75.62316,
              35.890865
             ]
            ]
           ],
           "type": "Polygon"
          },
          "properties": {
           "id": 69,
           "style": {
            "color": "blue",
            "fillColor": "grey",
            "fillOpacity": 0.2,
            "weight": 2
           }
          },
          "type": "Feature"
         }
        ],
        "type": "FeatureCollection"
       },
       "hover_style": {
        "fillColor": "blue"
       },
       "name": "Selected ROIs"
      }
     },
     "0a8ff3678d314200bda61119c94bf2a9": {
      "model_module": "jupyter-leaflet",
      "model_module_version": "^0.15.0",
      "model_name": "LeafletScaleControlModel",
      "state": {
       "_model_module_version": "^0.15.0",
       "_view_module_version": "^0.15.0",
       "imperial": true,
       "max_width": 100,
       "metric": true,
       "options": [
        "imperial",
        "max_width",
        "metric",
        "position",
        "update_when_idle"
       ],
       "position": "bottomleft",
       "update_when_idle": false
      }
     },
     "0bbf4e4a166d415ab8285120d7909bde": {
      "model_module": "@jupyter-widgets/base",
      "model_module_version": "1.2.0",
      "model_name": "LayoutModel",
      "state": {
       "height": "auto",
       "padding": "0px 0px 0px 4px",
       "width": "auto"
      }
     },
     "0c0f0c5aad094559af86710725294b0f": {
      "model_module": "jupyter-leaflet",
      "model_module_version": "^0.15.0",
      "model_name": "LeafletMarkerModel",
      "state": {
       "_model_module_version": "^0.15.0",
       "_view_module_version": "^0.15.0",
       "draggable": false,
       "location": [
        34.05426184201174,
        -120.45201113026535
       ],
       "options": [
        "alt",
        "draggable",
        "keyboard",
        "rise_offset",
        "rise_on_hover",
        "rotation_angle",
        "rotation_origin",
        "title",
        "z_index_offset"
       ],
       "popup": "IPY_MODEL_a7fbf4f8bac84be7b3e2461cc01f2ac9",
       "title": "Location:(-120.45201113026535,34.05426184201174)"
      }
     },
     "0cb8a2b10580478ab24b4636ac5104b2": {
      "model_module": "@jupyter-widgets/controls",
      "model_module_version": "1.5.0",
      "model_name": "DescriptionStyleModel",
      "state": {
       "description_width": ""
      }
     },
     "0cbd900f71634b1e873533a570c7909c": {
      "model_module": "jupyter-leaflet",
      "model_module_version": "^0.15.0",
      "model_name": "LeafletTileLayerModel",
      "state": {
       "_model_module_version": "^0.15.0",
       "_view_module_version": "^0.15.0",
       "attribution": "Map tiles by <a href=\"https://labs.strava.com/heatmap\">Strava 2021</a>",
       "max_native_zoom": 18,
       "max_zoom": 15,
       "min_native_zoom": 0,
       "name": "Strava.Winter",
       "options": [
        "attribution",
        "detect_retina",
        "max_native_zoom",
        "max_zoom",
        "min_native_zoom",
        "min_zoom",
        "no_wrap",
        "tile_size",
        "tms"
       ],
       "url": "https://heatmap-external-a.strava.com/tiles/winter/hot/{z}/{x}/{y}.png"
      }
     },
     "0d4dc909136e4356be4574c98f75ba9a": {
      "model_module": "jupyter-leaflet",
      "model_module_version": "^0.15.0",
      "model_name": "LeafletZoomControlModel",
      "state": {
       "_model_module_version": "^0.15.0",
       "_view_module_version": "^0.15.0",
       "options": [
        "position",
        "zoom_in_text",
        "zoom_in_title",
        "zoom_out_text",
        "zoom_out_title"
       ]
      }
     },
     "0debf868535a4b6bae97140874826a26": {
      "model_module": "jupyter-leaflet",
      "model_module_version": "^0.15.0",
      "model_name": "LeafletTileLayerModel",
      "state": {
       "_model_module_version": "^0.15.0",
       "_view_module_version": "^0.15.0",
       "attribution": "Map tiles by Stamen Design, CC BY 3.0 -- Map data (C) OpenStreetMap contributors",
       "max_native_zoom": 18,
       "max_zoom": 20,
       "min_native_zoom": 0,
       "name": "Stamen.TonerLabels",
       "options": [
        "attribution",
        "detect_retina",
        "max_native_zoom",
        "max_zoom",
        "min_native_zoom",
        "min_zoom",
        "no_wrap",
        "tile_size",
        "tms"
       ],
       "url": "https://stamen-tiles-a.a.ssl.fastly.net/toner-labels/{z}/{x}/{y}.png"
      }
     },
     "0e551a18e44a4832a90f24ff7cad597f": {
      "model_module": "jupyter-leaflet",
      "model_module_version": "^0.15.0",
      "model_name": "LeafletMarkerModel",
      "state": {
       "_model_module_version": "^0.15.0",
       "_view_module_version": "^0.15.0",
       "draggable": false,
       "location": [
        34.02471516472867,
        -120.38497973558093
       ],
       "options": [
        "alt",
        "draggable",
        "keyboard",
        "rise_offset",
        "rise_on_hover",
        "rotation_angle",
        "rotation_origin",
        "title",
        "z_index_offset"
       ],
       "popup": "IPY_MODEL_9731cbef9da043e1acbf3683ee975ab9",
       "title": "Location:(-120.38497973558093,34.02471516472867)"
      }
     },
     "0e84fc1e3fa64e7e850af9bda9271bc5": {
      "model_module": "jupyter-leaflet",
      "model_module_version": "^0.15.0",
      "model_name": "LeafletTileLayerModel",
      "state": {
       "_model_module_version": "^0.15.0",
       "_view_module_version": "^0.15.0",
       "attribution": "Imagery provided by services from the Global Imagery Browse Services (GIBS), operated by the NASA/GSFC/Earth Science Data and Information System (ESDIS) with funding provided by NASA/HQ.",
       "max_native_zoom": 18,
       "max_zoom": 8,
       "min_native_zoom": 0,
       "name": "NASAGIBS.ModisTerraSnowCover",
       "options": [
        "attribution",
        "detect_retina",
        "max_native_zoom",
        "max_zoom",
        "min_native_zoom",
        "min_zoom",
        "no_wrap",
        "tile_size",
        "tms"
       ],
       "url": "https://map1.vis.earthdata.nasa.gov/wmts-webmerc/MODIS_Terra_NDSI_Snow_Cover/default//GoogleMapsCompatible_Level8/{z}/{y}/{x}.png"
      }
     },
     "0f1a59d6663544af8384578fade88c84": {
      "model_module": "@jupyter-widgets/base",
      "model_module_version": "1.2.0",
      "model_name": "LayoutModel",
      "state": {
       "width": "500px"
      }
     },
     "0f7716c177b648029da5e9546275788d": {
      "model_module": "@jupyter-widgets/controls",
      "model_module_version": "1.5.0",
      "model_name": "ToggleButtonModel",
      "state": {
       "button_style": "primary",
       "icon": "camera",
       "layout": "IPY_MODEL_c390a09893024da3a057a14134716fbb",
       "style": "IPY_MODEL_dd51c098f21242859d7ff7c2449bdc1c",
       "tooltip": "Save map as HTML or image"
      }
     },
     "103517f2ea2a4a078ebb2335afc5d63c": {
      "model_module": "jupyter-leaflet",
      "model_module_version": "^0.15.0",
      "model_name": "LeafletMarkerModel",
      "state": {
       "_model_module_version": "^0.15.0",
       "_view_module_version": "^0.15.0",
       "draggable": false,
       "location": [
        34.05371622783362,
        -120.43725897569914
       ],
       "options": [
        "alt",
        "draggable",
        "keyboard",
        "rise_offset",
        "rise_on_hover",
        "rotation_angle",
        "rotation_origin",
        "title",
        "z_index_offset"
       ],
       "popup": "IPY_MODEL_65d7b7725d1b4997ad0a298d79b0a474",
       "title": "Location:(-120.43725897569914,34.05371622783362)"
      }
     },
     "104cb5fbb293417ea6013d8640b7df6a": {
      "model_module": "@jupyter-widgets/base",
      "model_module_version": "1.2.0",
      "model_name": "LayoutModel",
      "state": {
       "height": "auto",
       "padding": "0px 0px 0px 4px",
       "width": "auto"
      }
     },
     "10a3c19534174bd68fe9d0a674dbb3fb": {
      "model_module": "@jupyter-widgets/controls",
      "model_module_version": "1.5.0",
      "model_name": "HTMLModel",
      "state": {
       "layout": "IPY_MODEL_2ad5d0a04aa640df9103125208312f05",
       "style": "IPY_MODEL_1d719639e9a64ceaa39233ebdcc9f0d1",
       "value": "Location:(-120.31268576642063,34.01953461402038)"
      }
     },
     "10caa45fac94440390669ccae85e4345": {
      "model_module": "@jupyter-widgets/controls",
      "model_module_version": "1.5.0",
      "model_name": "ToggleButtonModel",
      "state": {
       "icon": "wrench",
       "layout": "IPY_MODEL_72cfc5dd1ac446f89375c4cfd612bbdf",
       "style": "IPY_MODEL_db3a76749506442dbb9a474b7c07e1e4",
       "tooltip": "Toolbar"
      }
     },
     "11026f56b4444ea5b14026b8f928c78b": {
      "model_module": "jupyter-leaflet",
      "model_module_version": "^0.15.0",
      "model_name": "LeafletDrawControlModel",
      "state": {
       "_model_module_version": "^0.15.0",
       "_view_module_version": "^0.15.0",
       "circlemarker": {
        "shapeOptions": {}
       },
       "data": [
        {
         "geometry": {
          "coordinates": [
           [
            [
             -75.747407,
             35.80715
            ],
            [
             -75.747407,
             35.945233
            ],
            [
             -75.60316,
             35.945233
            ],
            [
             -75.60316,
             35.80715
            ],
            [
             -75.747407,
             35.80715
            ]
           ]
          ],
          "type": "Polygon"
         },
         "properties": {
          "style": {
           "Opacity": 0.1,
           "clickable": true,
           "color": "green",
           "fill": true,
           "fillColor": "green",
           "fillOpacity": 0.1,
           "opacity": 0.5,
           "stroke": true,
           "weight": 4
          }
         },
         "type": "Feature"
        }
       ],
       "options": [
        "position"
       ],
       "rectangle": {
        "allowIntersection": false,
        "drawError": {
         "color": "#dd253b",
         "message": "Ops!"
        },
        "shapeOptions": {
         "Opacity": 0.1,
         "color": "green",
         "fillColor": "green",
         "fillOpacity": 0.1
        },
        "transform": true
       }
      }
     },
     "11612f08c85f4fc8ae4f4b815db27010": {
      "model_module": "jupyter-leaflet",
      "model_module_version": "^0.15.0",
      "model_name": "LeafletGeoJSONModel",
      "state": {
       "_model_module_version": "^0.15.0",
       "_view_module_version": "^0.15.0",
       "data": {
        "features": [
         {
          "geometry": {
           "coordinates": [
            [
             [
              -75.7266035388889,
              36.1305
             ],
             [
              -75.7236345,
              36.12515573
             ],
             [
              -75.7220345,
              36.12165573
             ],
             [
              -75.7200345,
              36.11745573
             ],
             [
              -75.7179345,
              36.11315573
             ],
             [
              -75.7160345,
              36.11065573
             ],
             [
              -75.7151345,
              36.10865573
             ],
             [
              -75.7135345,
              36.10595573
             ],
             [
              -75.7125345,
              36.10415573
             ],
             [
              -75.7111345,
              36.10165573
             ],
             [
              -75.7100345,
              36.09985573
             ],
             [
              -75.7086345,
              36.09645573
             ],
             [
              -75.70205189222223,
              36.086001
             ]
            ],
            [
             [
              -75.7409345,
              36.086001
             ],
             [
              -75.7409345,
              36.08625573
             ],
             [
              -75.7406345,
              36.08955573
             ],
             [
              -75.74063556,
              36.08955654
             ],
             [
              -75.74063662,
              36.08955736
             ],
             [
              -75.7419345,
              36.09055573
             ],
             [
              -75.7428345,
              36.09235573
             ],
             [
              -75.74283483,
              36.0923584
             ],
             [
              -75.74283517,
              36.09236108
             ],
             [
              -75.74288853,
              36.09278793
             ],
             [
              -75.74288899,
              36.09279165
             ],
             [
              -75.74288946,
              36.09279537
             ],
             [
              -75.7430345,
              36.09395573
             ],
             [
              -75.74303498,
              36.09395672
             ],
             [
              -75.74303545,
              36.09395771
             ],
             [
              -75.7442345,
              36.09645573
             ],
             [
              -75.7456345,
              36.10025573
             ],
             [
              -75.74563467,
              36.10025761
             ],
             [
              -75.74563484,
              36.1002595
             ],
             [
              -75.7460345,
              36.10475573
             ],
             [
              -75.74603518,
              36.10475797
             ],
             [
              -75.74603586,
              36.10476022
             ],
             [
              -75.7467345,
              36.10705573
             ],
             [
              -75.74673496,
              36.10705821
             ],
             [
              -75.74673542,
              36.10706069
             ],
             [
              -75.7472345,
              36.10975573
             ],
             [
              -75.74723485,
              36.10975687
             ],
             [
              -75.7472352,
              36.10975802
             ],
             [
              -75.7482345,
              36.11305573
             ],
             [
              -75.7495345,
              36.11775573
             ],
             [
              -75.7505345,
              36.12075573
             ],
             [
              -75.7518345,
              36.12265573
             ],
             [
              -75.75183439,
              36.12265801
             ],
             [
              -75.75183428,
              36.12266029
             ],
             [
              -75.7517345,
              36.12475573
             ],
             [
              -75.7498345,
              36.12755573
             ],
             [
              -75.7480345,
              36.12495573
             ],
             [
              -75.7474345,
              36.12315573
             ],
             [
              -75.7462345,
              36.11835573
             ],
             [
              -75.7451345,
              36.11395573
             ],
             [
              -75.7439345,
              36.11105573
             ],
             [
              -75.7429345,
              36.10805573
             ],
             [
              -75.7407345,
              36.10555573
             ],
             [
              -75.7400345,
              36.10925573
             ],
             [
              -75.74003548,
              36.1092584
             ],
             [
              -75.74003646,
              36.10926108
             ],
             [
              -75.7411345,
              36.11225573
             ],
             [
              -75.7422345,
              36.11465573
             ],
             [
              -75.74223474,
              36.11465811
             ],
             [
              -75.74223498,
              36.11466049
             ],
             [
              -75.7425345,
              36.11765573
             ],
             [
              -75.74253515,
              36.11765786
             ],
             [
              -75.74253581,
              36.11765999
             ],
             [
              -75.7433345,
              36.12025573
             ],
             [
              -75.7443345,
              36.12335573
             ],
             [
              -75.74433435,
              36.12335638
             ],
             [
              -75.74433419,
              36.12335703
             ],
             [
              -75.7435345,
              36.12675573
             ],
             [
              -75.74353566,
              36.12675782
             ],
             [
              -75.74353682,
              36.12675992
             ],
             [
              -75.7450345,
              36.12945573
             ],
             [
              -75.74503439,
              36.12945771
             ],
             [
              -75.74503429,
              36.12945968
             ],
             [
              -75.74497805549755,
              36.1305
             ]
            ]
           ],
           "type": "MultiLineString"
          },
          "id": "1889",
          "properties": {
           "acc": 1,
           "exs": 44,
           "f_code": "BA010",
           "id": "xv279yj9196.1875",
           "soc": "USA",
           "style": {
            "color": "yellow",
            "dashArray": "5",
            "fillOpacity": 0.5,
            "fill_color": "yellow",
            "opacity": 1,
            "weight": 4
           }
          },
          "type": "Feature"
         }
        ],
        "type": "FeatureCollection"
       },
       "hover_style": {
        "color": "white",
        "dashArray": "4",
        "fillOpacity": 0.7
       },
       "style": {
        "color": "yellow",
        "dashArray": "5",
        "fillOpacity": 0.5,
        "fill_color": "yellow",
        "opacity": 1,
        "weight": 4
       }
      }
     },
     "11ca23ad4fe54f67a288a078ac1df516": {
      "model_module": "jupyter-leaflet",
      "model_module_version": "^0.15.0",
      "model_name": "LeafletTileLayerModel",
      "state": {
       "_model_module_version": "^0.15.0",
       "_view_module_version": "^0.15.0",
       "attribution": "Justice Map",
       "max_native_zoom": 18,
       "max_zoom": 22,
       "min_native_zoom": 0,
       "name": "JusticeMap.white",
       "options": [
        "attribution",
        "detect_retina",
        "max_native_zoom",
        "max_zoom",
        "min_native_zoom",
        "min_zoom",
        "no_wrap",
        "tile_size",
        "tms"
       ],
       "url": "https://www.justicemap.org/tile/county/white/{z}/{x}/{y}.png"
      }
     },
     "11e48d34d6d64d5d9ffa75cfb45ddac0": {
      "model_module": "jupyter-leaflet",
      "model_module_version": "^0.15.0",
      "model_name": "LeafletTileLayerModel",
      "state": {
       "_model_module_version": "^0.15.0",
       "_view_module_version": "^0.15.0",
       "attribution": "Tiles (C) Esri -- Esri, DeLorme, NAVTEQ",
       "max_native_zoom": 18,
       "max_zoom": 16,
       "min_native_zoom": 0,
       "name": "Esri.WorldGrayCanvas",
       "options": [
        "attribution",
        "detect_retina",
        "max_native_zoom",
        "max_zoom",
        "min_native_zoom",
        "min_zoom",
        "no_wrap",
        "tile_size",
        "tms"
       ],
       "url": "https://server.arcgisonline.com/ArcGIS/rest/services/Canvas/World_Light_Gray_Base/MapServer/tile/{z}/{y}/{x}"
      }
     },
     "12dbfc76cce840c186f420e6834af710": {
      "model_module": "@jupyter-widgets/controls",
      "model_module_version": "1.5.0",
      "model_name": "HTMLModel",
      "state": {
       "layout": "IPY_MODEL_6f0b82ca30864c71899784c89d1ae88e",
       "style": "IPY_MODEL_80c266634dc94f80818f9e50ca7a04eb",
       "value": "Location:(-120.44698128474226,34.057930632990455)"
      }
     },
     "13c411959b444b16abc4a187399fe79e": {
      "model_module": "jupyter-leaflet",
      "model_module_version": "^0.15.0",
      "model_name": "LeafletTileLayerModel",
      "state": {
       "_model_module_version": "^0.15.0",
       "_view_module_version": "^0.15.0",
       "attribution": "Map data: (C) OpenStreetMap contributors | Map style: (C) OpenFireMap (CC-BY-SA)",
       "max_native_zoom": 18,
       "max_zoom": 19,
       "min_native_zoom": 0,
       "name": "OpenFireMap",
       "options": [
        "attribution",
        "detect_retina",
        "max_native_zoom",
        "max_zoom",
        "min_native_zoom",
        "min_zoom",
        "no_wrap",
        "tile_size",
        "tms"
       ],
       "url": "http://openfiremap.org/hytiles/{z}/{x}/{y}.png"
      }
     },
     "13fc69b3ff484447a927ea16b6366d71": {
      "model_module": "@jupyter-widgets/controls",
      "model_module_version": "1.5.0",
      "model_name": "DescriptionStyleModel",
      "state": {
       "description_width": ""
      }
     },
     "14cf12f34c51403c886f008525bb5df8": {
      "model_module": "@jupyter-widgets/base",
      "model_module_version": "1.2.0",
      "model_name": "LayoutModel",
      "state": {
       "height": "auto",
       "padding": "0px 0px 0px 4px",
       "width": "auto"
      }
     },
     "1549215be839488f96c15bc874b0ed25": {
      "model_module": "@jupyter-widgets/controls",
      "model_module_version": "1.5.0",
      "model_name": "DescriptionStyleModel",
      "state": {
       "description_width": ""
      }
     },
     "1570ece5814a4389a7f5db99a24b0772": {
      "model_module": "@jupyter-widgets/controls",
      "model_module_version": "1.5.0",
      "model_name": "HTMLModel",
      "state": {
       "layout": "IPY_MODEL_807d58476b4f4be48c6ca9fbd830faa8",
       "style": "IPY_MODEL_203976b11b87464aa350db4f49a9fd9a",
       "value": "Location:(-120.33014718119209,34.0583429226247)"
      }
     },
     "15873f0d089f449cb0aa0a8d1b109d70": {
      "model_module": "@jupyter-widgets/controls",
      "model_module_version": "1.5.0",
      "model_name": "DescriptionStyleModel",
      "state": {
       "description_width": ""
      }
     },
     "15a03447f78a4b17b0a00c7a7956725d": {
      "model_module": "@jupyter-widgets/controls",
      "model_module_version": "1.5.0",
      "model_name": "VBoxModel",
      "state": {
       "_view_count": 4,
       "children": [
        "IPY_MODEL_10caa45fac94440390669ccae85e4345"
       ],
       "layout": "IPY_MODEL_d1772a53aa60473ca78e025ef3f774f9"
      }
     },
     "15cdd848e3f2420baa0e9781b3f63935": {
      "model_module": "@jupyter-widgets/base",
      "model_module_version": "1.2.0",
      "model_name": "LayoutModel",
      "state": {}
     },
     "15d2d6695df94f6fadf49465c57fa9a1": {
      "model_module": "@jupyter-widgets/controls",
      "model_module_version": "1.5.0",
      "model_name": "ToggleButtonModel",
      "state": {
       "button_style": "primary",
       "icon": "gears",
       "layout": "IPY_MODEL_f73789861d3642548d1a59d7ea85d9dd",
       "style": "IPY_MODEL_fc23d5b130f64c62b730e3a1a6740d7c",
       "tooltip": "WhiteboxTools for local geoprocessing"
      }
     },
     "15da275591fc488788edca0338795e3a": {
      "model_module": "@jupyter-widgets/base",
      "model_module_version": "1.2.0",
      "model_name": "LayoutModel",
      "state": {}
     },
     "169f68407b92494caf58f905d74362ca": {
      "model_module": "jupyter-leaflet",
      "model_module_version": "^0.15.0",
      "model_name": "LeafletTileLayerModel",
      "state": {
       "_model_module_version": "^0.15.0",
       "_view_module_version": "^0.15.0",
       "attribution": "Map tiles by Stamen Design, CC BY 3.0 -- Map data (C) OpenStreetMap contributors",
       "max_native_zoom": 18,
       "max_zoom": 20,
       "min_native_zoom": 0,
       "name": "Stamen.TonerLite",
       "options": [
        "attribution",
        "detect_retina",
        "max_native_zoom",
        "max_zoom",
        "min_native_zoom",
        "min_zoom",
        "no_wrap",
        "tile_size",
        "tms"
       ],
       "url": "https://stamen-tiles-a.a.ssl.fastly.net/toner-lite/{z}/{x}/{y}.png"
      }
     },
     "16e64b7d7adc4cac90c9802364d50e34": {
      "model_module": "jupyter-leaflet",
      "model_module_version": "^0.15.0",
      "model_name": "LeafletTileLayerModel",
      "state": {
       "_model_module_version": "^0.15.0",
       "_view_module_version": "^0.15.0",
       "attribution": "Map data: (C) OpenStreetMap contributors | Map style: (C) waymarkedtrails.org (CC-BY-SA)",
       "max_native_zoom": 18,
       "min_native_zoom": 0,
       "name": "WaymarkedTrails.riding",
       "options": [
        "attribution",
        "detect_retina",
        "max_native_zoom",
        "max_zoom",
        "min_native_zoom",
        "min_zoom",
        "no_wrap",
        "tile_size",
        "tms"
       ],
       "url": "https://tile.waymarkedtrails.org/riding/{z}/{x}/{y}.png"
      }
     },
     "176da7c76c2146c1975012e4aeb63925": {
      "model_module": "@jupyter-widgets/controls",
      "model_module_version": "1.5.0",
      "model_name": "DescriptionStyleModel",
      "state": {
       "description_width": ""
      }
     },
     "17b6c568f1ec40feb46d5b8f32973a43": {
      "model_module": "jupyter-leaflet",
      "model_module_version": "^0.15.0",
      "model_name": "LeafletMarkerModel",
      "state": {
       "_model_module_version": "^0.15.0",
       "_view_module_version": "^0.15.0",
       "draggable": false,
       "location": [
        34.05631953034208,
        -120.33471421685232
       ],
       "options": [
        "alt",
        "draggable",
        "keyboard",
        "rise_offset",
        "rise_on_hover",
        "rotation_angle",
        "rotation_origin",
        "title",
        "z_index_offset"
       ],
       "popup": "IPY_MODEL_f62c3a023c284482b2dbe83e51db6fdf",
       "title": "Location:(-120.33471421685232,34.05631953034208)"
      }
     },
     "1878a60080754f1aa6b7ae118312aeb1": {
      "model_module": "jupyter-leaflet",
      "model_module_version": "^0.15.0",
      "model_name": "LeafletTileLayerModel",
      "state": {
       "_model_module_version": "^0.15.0",
       "_view_module_version": "^0.15.0",
       "attribution": "Justice Map",
       "max_native_zoom": 18,
       "max_zoom": 22,
       "min_native_zoom": 0,
       "name": "JusticeMap.multi",
       "options": [
        "attribution",
        "detect_retina",
        "max_native_zoom",
        "max_zoom",
        "min_native_zoom",
        "min_zoom",
        "no_wrap",
        "tile_size",
        "tms"
       ],
       "url": "https://www.justicemap.org/tile/county/multi/{z}/{x}/{y}.png"
      }
     },
     "187924984ce84b2b92c90950e4d94971": {
      "model_module": "jupyter-leaflet",
      "model_module_version": "^0.15.0",
      "model_name": "LeafletTileLayerModel",
      "state": {
       "_model_module_version": "^0.15.0",
       "_view_module_version": "^0.15.0",
       "attribution": "Map tiles by Stamen Design, CC BY 3.0 -- Map data (C) OpenStreetMap contributors",
       "max_native_zoom": 18,
       "max_zoom": 20,
       "min_native_zoom": 0,
       "name": "Stamen.TopOSMRelief",
       "options": [
        "attribution",
        "detect_retina",
        "max_native_zoom",
        "max_zoom",
        "min_native_zoom",
        "min_zoom",
        "no_wrap",
        "tile_size",
        "tms"
       ],
       "url": "https://stamen-tiles-a.a.ssl.fastly.net/toposm-color-relief/{z}/{x}/{y}.jpg"
      }
     },
     "18c8d3ae400640569ebb065e9c7dff4c": {
      "model_module": "jupyter-leaflet",
      "model_module_version": "^0.15.0",
      "model_name": "LeafletTileLayerModel",
      "state": {
       "_model_module_version": "^0.15.0",
       "_view_module_version": "^0.15.0",
       "attribution": "(C) OpenStreetMap contributors & USGS",
       "max_native_zoom": 18,
       "max_zoom": 22,
       "min_native_zoom": 0,
       "name": "MtbMap",
       "options": [
        "attribution",
        "detect_retina",
        "max_native_zoom",
        "max_zoom",
        "min_native_zoom",
        "min_zoom",
        "no_wrap",
        "tile_size",
        "tms"
       ],
       "url": "http://tile.mtbmap.cz/mtbmap_tiles/{z}/{x}/{y}.png"
      }
     },
     "190422bf226942f091d042818a1882dc": {
      "model_module": "@jupyter-widgets/controls",
      "model_module_version": "1.5.0",
      "model_name": "ToggleButtonModel",
      "state": {
       "button_style": "primary",
       "icon": "search",
       "layout": "IPY_MODEL_4b45db2882844ff0a46d889935b003b2",
       "style": "IPY_MODEL_a28fe0d304d8478fa855954fd0c9ca5f",
       "tooltip": "Search XYZ tile services"
      }
     },
     "1948c019e20d4226a8e0116c6e0adcb5": {
      "model_module": "@jupyter-widgets/controls",
      "model_module_version": "1.5.0",
      "model_name": "DescriptionStyleModel",
      "state": {
       "description_width": ""
      }
     },
     "19628eb8331d452b95ef7129779db9b0": {
      "model_module": "@jupyter-widgets/controls",
      "model_module_version": "1.5.0",
      "model_name": "DescriptionStyleModel",
      "state": {
       "description_width": ""
      }
     },
     "1a64304c1cc04092aecd8dc04be32313": {
      "model_module": "@jupyter-widgets/controls",
      "model_module_version": "1.5.0",
      "model_name": "VBoxModel",
      "state": {
       "_view_count": 2,
       "children": [
        "IPY_MODEL_5dac2a23ac534988b68f0f571edc394a"
       ],
       "layout": "IPY_MODEL_9e931ab334a440ccac997bc412315ef0"
      }
     },
     "1ba297d97a8c4fcbaebbb34fb979dc5d": {
      "model_module": "@jupyter-widgets/controls",
      "model_module_version": "1.5.0",
      "model_name": "DescriptionStyleModel",
      "state": {
       "description_width": ""
      }
     },
     "1bd86d5e7fd44950a279ba5c6e267036": {
      "model_module": "jupyter-leaflet",
      "model_module_version": "^0.15.0",
      "model_name": "LeafletTileLayerModel",
      "state": {
       "_model_module_version": "^0.15.0",
       "_view_module_version": "^0.15.0",
       "attribution": "![](https://docs.onemap.sg/maps/images/oneMap64-01.png) New OneMap | Map data (C) contributors, Singapore Land Authority",
       "max_native_zoom": 18,
       "min_native_zoom": 0,
       "name": "OneMapSG.Original",
       "options": [
        "attribution",
        "detect_retina",
        "max_native_zoom",
        "max_zoom",
        "min_native_zoom",
        "min_zoom",
        "no_wrap",
        "tile_size",
        "tms"
       ],
       "url": "https://maps-a.onemap.sg/v3/Original/{z}/{x}/{y}.png"
      }
     },
     "1beb38b493804caa86a496067ba1e797": {
      "model_module": "jupyter-leaflet",
      "model_module_version": "^0.15.0",
      "model_name": "LeafletTileLayerModel",
      "state": {
       "_model_module_version": "^0.15.0",
       "_view_module_version": "^0.15.0",
       "attribution": "(C) OpenStreetMap contributors",
       "max_native_zoom": 18,
       "max_zoom": 19,
       "min_native_zoom": 0,
       "name": "HikeBike.HikeBike",
       "options": [
        "attribution",
        "detect_retina",
        "max_native_zoom",
        "max_zoom",
        "min_native_zoom",
        "min_zoom",
        "no_wrap",
        "tile_size",
        "tms"
       ],
       "url": "https://tiles.wmflabs.org/hikebike/{z}/{x}/{y}.png"
      }
     },
     "1c595d72e76846d5910d9d772593af3d": {
      "model_module": "jupyter-leaflet",
      "model_module_version": "^0.15.0",
      "model_name": "LeafletWMSLayerModel",
      "state": {
       "_model_module_version": "^0.15.0",
       "_view_module_version": "^0.15.0",
       "attribution": "USGS",
       "crs": {
        "custom": false,
        "name": "EPSG3857"
       },
       "format": "image/png",
       "layers": "0",
       "max_native_zoom": 18,
       "min_native_zoom": 0,
       "name": "USGS NAIP Imagery",
       "options": [
        "attribution",
        "detect_retina",
        "format",
        "layers",
        "max_native_zoom",
        "max_zoom",
        "min_native_zoom",
        "min_zoom",
        "no_wrap",
        "styles",
        "tile_size",
        "tms",
        "transparent",
        "uppercase"
       ],
       "transparent": true,
       "url": "https://services.nationalmap.gov/arcgis/services/USGSNAIPImagery/ImageServer/WMSServer?"
      }
     },
     "1c9c13723b0b4410be2d803b13a1f7c9": {
      "model_module": "@jupyter-widgets/base",
      "model_module_version": "1.2.0",
      "model_name": "LayoutModel",
      "state": {}
     },
     "1d4a484330d745e78b7c1602bbe1e49f": {
      "model_module": "@jupyter-widgets/base",
      "model_module_version": "1.2.0",
      "model_name": "LayoutModel",
      "state": {
       "height": "auto",
       "padding": "0px 0px 0px 4px",
       "width": "auto"
      }
     },
     "1d719639e9a64ceaa39233ebdcc9f0d1": {
      "model_module": "@jupyter-widgets/controls",
      "model_module_version": "1.5.0",
      "model_name": "DescriptionStyleModel",
      "state": {
       "description_width": ""
      }
     },
     "1d73e86a1d7e47bbb6284392b0f5b9ca": {
      "model_module": "jupyter-leaflet",
      "model_module_version": "^0.15.0",
      "model_name": "LeafletMarkerModel",
      "state": {
       "_model_module_version": "^0.15.0",
       "_view_module_version": "^0.15.0",
       "draggable": false,
       "location": [
        34.06022658917686,
        -120.3310979487329
       ],
       "options": [
        "alt",
        "draggable",
        "keyboard",
        "rise_offset",
        "rise_on_hover",
        "rotation_angle",
        "rotation_origin",
        "title",
        "z_index_offset"
       ],
       "popup": "IPY_MODEL_78b5f771ee1c42ea9cab36ef3d1f45c5",
       "title": "Location:(-120.3310979487329,34.06022658917686)"
      }
     },
     "1d86ea7e8a504accb850253f96ff27c5": {
      "model_module": "jupyter-leaflet",
      "model_module_version": "^0.15.0",
      "model_name": "LeafletWMSLayerModel",
      "state": {
       "_model_module_version": "^0.15.0",
       "_view_module_version": "^0.15.0",
       "attribution": "MRLC",
       "crs": {
        "custom": false,
        "name": "EPSG3857"
       },
       "format": "image/png",
       "layers": "NLCD_2019_Land_Cover_L48",
       "max_native_zoom": 18,
       "min_native_zoom": 0,
       "name": "NLCD 2019 CONUS Land Cover",
       "options": [
        "attribution",
        "detect_retina",
        "format",
        "layers",
        "max_native_zoom",
        "max_zoom",
        "min_native_zoom",
        "min_zoom",
        "no_wrap",
        "styles",
        "tile_size",
        "tms",
        "transparent",
        "uppercase"
       ],
       "transparent": true,
       "url": "https://www.mrlc.gov/geoserver/mrlc_display/NLCD_2019_Land_Cover_L48/wms?"
      }
     },
     "1da5f15be17044a8ba8d74a26649542b": {
      "model_module": "@jupyter-widgets/base",
      "model_module_version": "1.2.0",
      "model_name": "LayoutModel",
      "state": {
       "height": "auto",
       "padding": "0px 0px 0px 4px",
       "width": "auto"
      }
     },
     "1deb628361794f1bb823981beb68ae72": {
      "model_module": "@jupyter-widgets/base",
      "model_module_version": "1.2.0",
      "model_name": "LayoutModel",
      "state": {
       "height": "auto",
       "padding": "0px 0px 0px 4px",
       "width": "auto"
      }
     },
     "1ea6cb2c3526493ea2075805f25414c3": {
      "model_module": "@jupyter-widgets/base",
      "model_module_version": "1.2.0",
      "model_name": "LayoutModel",
      "state": {
       "height": "auto",
       "padding": "0px 0px 0px 4px",
       "width": "auto"
      }
     },
     "1eb97aa6f69546809d6c6e9873381c24": {
      "model_module": "@here/map-widget-for-jupyter",
      "model_module_version": "^1.1.3",
      "model_name": "DefaultLayersModel",
      "state": {
       "_model_module": "@here/map-widget-for-jupyter",
       "_model_module_version": "^1.1.3",
       "_view_count": null,
       "_view_module": "@here/map-widget-for-jupyter",
       "_view_module_version": "^1.1.3",
       "layer_name": "raster.normal.transit",
       "ppi": null
      }
     },
     "1f70f165da87457bac93b91610e07db1": {
      "model_module": "jupyter-leaflet",
      "model_module_version": "^0.15.0",
      "model_name": "LeafletTileLayerModel",
      "state": {
       "_model_module_version": "^0.15.0",
       "_view_module_version": "^0.15.0",
       "attribution": "Map data: (C) OpenStreetMap contributors | Map style: (C) waymarkedtrails.org (CC-BY-SA)",
       "max_native_zoom": 18,
       "min_native_zoom": 0,
       "name": "WaymarkedTrails.slopes",
       "options": [
        "attribution",
        "detect_retina",
        "max_native_zoom",
        "max_zoom",
        "min_native_zoom",
        "min_zoom",
        "no_wrap",
        "tile_size",
        "tms"
       ],
       "url": "https://tile.waymarkedtrails.org/slopes/{z}/{x}/{y}.png"
      }
     },
     "1fd0f5216ee747f79290eba587539107": {
      "model_module": "@jupyter-widgets/base",
      "model_module_version": "1.2.0",
      "model_name": "LayoutModel",
      "state": {
       "height": "auto",
       "padding": "0px 0px 0px 4px",
       "width": "auto"
      }
     },
     "2037d8fd63df4cc79694e48a4de054f0": {
      "model_module": "@jupyter-widgets/controls",
      "model_module_version": "1.5.0",
      "model_name": "DescriptionStyleModel",
      "state": {
       "description_width": ""
      }
     },
     "203976b11b87464aa350db4f49a9fd9a": {
      "model_module": "@jupyter-widgets/controls",
      "model_module_version": "1.5.0",
      "model_name": "DescriptionStyleModel",
      "state": {
       "description_width": ""
      }
     },
     "20a0f5c93b154ca58f2d16228762bc68": {
      "model_module": "jupyter-leaflet",
      "model_module_version": "^0.15.0",
      "model_name": "LeafletTileLayerModel",
      "state": {
       "_model_module_version": "^0.15.0",
       "_view_module_version": "^0.15.0",
       "attribution": "(C) Stadia Maps, (C) OpenMapTiles (C) OpenStreetMap contributors",
       "max_native_zoom": 18,
       "max_zoom": 20,
       "min_native_zoom": 0,
       "name": "Stadia.AlidadeSmooth",
       "options": [
        "attribution",
        "detect_retina",
        "max_native_zoom",
        "max_zoom",
        "min_native_zoom",
        "min_zoom",
        "no_wrap",
        "tile_size",
        "tms"
       ],
       "url": "https://tiles.stadiamaps.com/tiles/alidade_smooth/{z}/{x}/{y}.png"
      }
     },
     "216221c95ff0453884fca9d1dadf8c32": {
      "model_module": "@jupyter-widgets/base",
      "model_module_version": "1.2.0",
      "model_name": "LayoutModel",
      "state": {}
     },
     "217c9628190348648711545c3dddb423": {
      "model_module": "jupyter-leaflet",
      "model_module_version": "^0.15.0",
      "model_name": "LeafletTileLayerModel",
      "state": {
       "_model_module_version": "^0.15.0",
       "_view_module_version": "^0.15.0",
       "attribution": "Geoportail France",
       "max_native_zoom": 18,
       "max_zoom": 19,
       "min_native_zoom": 0,
       "name": "GeoportailFrance.orthos",
       "options": [
        "attribution",
        "detect_retina",
        "max_native_zoom",
        "max_zoom",
        "min_native_zoom",
        "min_zoom",
        "no_wrap",
        "tile_size",
        "tms"
       ],
       "url": "https://wxs.ign.fr/choisirgeoportail/geoportail/wmts?REQUEST=GetTile&SERVICE=WMTS&VERSION=1.0.0&STYLE=normal&TILEMATRIXSET=PM&FORMAT=image/jpeg&LAYER=ORTHOIMAGERY.ORTHOPHOTOS&TILEMATRIX={z}&TILEROW={y}&TILECOL={x}"
      }
     },
     "21bea6cb90144faab1f072e06a13cd5a": {
      "model_module": "@jupyter-widgets/base",
      "model_module_version": "1.2.0",
      "model_name": "LayoutModel",
      "state": {}
     },
     "225b3599240242ac95d95317e09ef2b1": {
      "model_module": "jupyter-leaflet",
      "model_module_version": "^0.15.0",
      "model_name": "LeafletMarkerModel",
      "state": {
       "_model_module_version": "^0.15.0",
       "_view_module_version": "^0.15.0",
       "draggable": false,
       "location": [
        34.05858484563296,
        -120.33828097847295
       ],
       "options": [
        "alt",
        "draggable",
        "keyboard",
        "rise_offset",
        "rise_on_hover",
        "rotation_angle",
        "rotation_origin",
        "title",
        "z_index_offset"
       ],
       "popup": "IPY_MODEL_3d98be7b31c2423d85956d4205d8a2d1",
       "title": "Location:(-120.33828097847295,34.05858484563296)"
      }
     },
     "22a39c7d8e104d3a8e32168457a2e720": {
      "model_module": "jupyter-leaflet",
      "model_module_version": "^0.15.0",
      "model_name": "LeafletTileLayerModel",
      "state": {
       "_model_module_version": "^0.15.0",
       "_view_module_version": "^0.15.0",
       "attribution": "Map tiles by <a href=\"https://labs.strava.com/heatmap\">Strava 2021</a>",
       "max_native_zoom": 18,
       "max_zoom": 15,
       "min_native_zoom": 0,
       "name": "Strava.Run",
       "options": [
        "attribution",
        "detect_retina",
        "max_native_zoom",
        "max_zoom",
        "min_native_zoom",
        "min_zoom",
        "no_wrap",
        "tile_size",
        "tms"
       ],
       "url": "https://heatmap-external-a.strava.com/tiles/run/bluered/{z}/{x}/{y}.png"
      }
     },
     "22fd3c127f8b44bd88204dad97486a28": {
      "model_module": "jupyter-leaflet",
      "model_module_version": "^0.15.0",
      "model_name": "LeafletScaleControlModel",
      "state": {
       "_model_module_version": "^0.15.0",
       "_view_module_version": "^0.15.0",
       "imperial": true,
       "max_width": 100,
       "metric": true,
       "options": [
        "imperial",
        "max_width",
        "metric",
        "position",
        "update_when_idle"
       ],
       "position": "bottomleft",
       "update_when_idle": false
      }
     },
     "23063d8a3aba435391dc42c4e3859116": {
      "model_module": "@jupyter-widgets/base",
      "model_module_version": "1.2.0",
      "model_name": "LayoutModel",
      "state": {}
     },
     "237513b10eb341399ac6312b463cb784": {
      "model_module": "jupyter-leaflet",
      "model_module_version": "^0.15.0",
      "model_name": "LeafletTileLayerModel",
      "state": {
       "_model_module_version": "^0.15.0",
       "_view_module_version": "^0.15.0",
       "attribution": "Justice Map",
       "max_native_zoom": 18,
       "max_zoom": 22,
       "min_native_zoom": 0,
       "name": "JusticeMap.nonWhite",
       "options": [
        "attribution",
        "detect_retina",
        "max_native_zoom",
        "max_zoom",
        "min_native_zoom",
        "min_zoom",
        "no_wrap",
        "tile_size",
        "tms"
       ],
       "url": "https://www.justicemap.org/tile/county/nonwhite/{z}/{x}/{y}.png"
      }
     },
     "237c05b033ae4b50a07ee74603f0fe35": {
      "model_module": "@jupyter-widgets/base",
      "model_module_version": "1.2.0",
      "model_name": "LayoutModel",
      "state": {
       "height": "auto",
       "padding": "0px 0px 0px 4px",
       "width": "auto"
      }
     },
     "237f0a5accb643e7a62499a347051f63": {
      "model_module": "@jupyter-widgets/base",
      "model_module_version": "1.2.0",
      "model_name": "LayoutModel",
      "state": {
       "height": "28px",
       "padding": "0px 0px 0px 4px",
       "width": "28px"
      }
     },
     "23e0554f43bc4a95b76cd3d0f146f617": {
      "model_module": "@jupyter-widgets/controls",
      "model_module_version": "1.5.0",
      "model_name": "DescriptionStyleModel",
      "state": {
       "description_width": ""
      }
     },
     "256e835404244e649de94b33d959cffb": {
      "model_module": "@jupyter-widgets/base",
      "model_module_version": "1.2.0",
      "model_name": "LayoutModel",
      "state": {}
     },
     "25d21e8588b84be4af303311c9944df8": {
      "model_module": "@jupyter-widgets/controls",
      "model_module_version": "1.5.0",
      "model_name": "ToggleButtonModel",
      "state": {
       "button_style": "primary",
       "icon": "camera",
       "layout": "IPY_MODEL_87c350da4a104e4e987db3fa82d1e7d4",
       "style": "IPY_MODEL_a418e7ba9eec4de0bc3de147cf7ba30a",
       "tooltip": "Save map as HTML or image"
      }
     },
     "2615ce4d0c554745b49f68c40748fc5d": {
      "model_module": "jupyter-leaflet",
      "model_module_version": "^0.15.0",
      "model_name": "LeafletDrawControlModel",
      "state": {
       "_model_module_version": "^0.15.0",
       "_view_module_version": "^0.15.0",
       "options": [
        "position"
       ],
       "polygon": {
        "allowIntersection": false,
        "drawError": {
         "color": "#dd253b",
         "message": "Ops!"
        },
        "shapeOptions": {
         "Opacity": 0.2,
         "color": "green",
         "fillColor": "green",
         "fillOpacity": 0.2
        },
        "transform": true
       },
       "polyline": {}
      }
     },
     "2790545d5fd04ec793cdfeb483f5b0d5": {
      "model_module": "jupyter-leaflet",
      "model_module_version": "^0.15.0",
      "model_name": "LeafletGeoJSONModel",
      "state": {
       "_model_module_version": "^0.15.0",
       "_view_module_version": "^0.15.0",
       "data": {
        "features": [
         {
          "geometry": {
           "coordinates": [
            [
             [
              -120.455436,
              34.0365
             ],
             [
              -120.455436,
              34.0765
             ],
             [
              -120.415436,
              34.0765
             ],
             [
              -120.415436,
              34.0365
             ],
             [
              -120.455436,
              34.0365
             ]
            ]
           ],
           "type": "Polygon"
          },
          "properties": {
           "id": 19,
           "style": {
            "color": "blue",
            "fillColor": "grey",
            "fillOpacity": 0.2,
            "weight": 2
           }
          },
          "type": "Feature"
         }
        ],
        "type": "FeatureCollection"
       },
       "hover_style": {
        "fillColor": "blue"
       },
       "name": "Selected ROIs"
      }
     },
     "2810dc72345e44218bc36223f8faff98": {
      "model_module": "@here/map-widget-for-jupyter",
      "model_module_version": "^1.1.3",
      "model_name": "DefaultLayersModel",
      "state": {
       "_model_module": "@here/map-widget-for-jupyter",
       "_model_module_version": "^1.1.3",
       "_view_count": null,
       "_view_module": "@here/map-widget-for-jupyter",
       "_view_module_version": "^1.1.3",
       "layer_name": "raster.satellite.labels",
       "ppi": null
      }
     },
     "281408e78e074c7e90e064ef92c70306": {
      "model_module": "@here/map-widget-for-jupyter",
      "model_module_version": "^1.1.3",
      "model_name": "DefaultLayersModel",
      "state": {
       "_model_module": "@here/map-widget-for-jupyter",
       "_model_module_version": "^1.1.3",
       "_view_count": null,
       "_view_module": "@here/map-widget-for-jupyter",
       "_view_module_version": "^1.1.3",
       "layer_name": "raster.normal.base",
       "ppi": null
      }
     },
     "28164d1806a743c0aef7bef726149a66": {
      "model_module": "jupyter-leaflet",
      "model_module_version": "^0.15.0",
      "model_name": "LeafletTileLayerModel",
      "state": {
       "_model_module_version": "^0.15.0",
       "_view_module_version": "^0.15.0",
       "attribution": "Map tiles by Stamen Design, CC BY 3.0 -- Map data (C) OpenStreetMap contributors",
       "max_native_zoom": 18,
       "max_zoom": 20,
       "min_native_zoom": 0,
       "name": "Stamen.TopOSMFeatures",
       "options": [
        "attribution",
        "detect_retina",
        "max_native_zoom",
        "max_zoom",
        "min_native_zoom",
        "min_zoom",
        "no_wrap",
        "tile_size",
        "tms"
       ],
       "url": "https://stamen-tiles-a.a.ssl.fastly.net/toposm-features/{z}/{x}/{y}.png"
      }
     },
     "281d54fb12d6472785db11676bee27e9": {
      "model_module": "@jupyter-widgets/controls",
      "model_module_version": "1.5.0",
      "model_name": "DescriptionStyleModel",
      "state": {
       "description_width": ""
      }
     },
     "285ad38b6e33493dba652f2f087208b4": {
      "model_module": "jupyter-leaflet",
      "model_module_version": "^0.15.0",
      "model_name": "LeafletTileLayerModel",
      "state": {
       "_model_module_version": "^0.15.0",
       "_view_module_version": "^0.15.0",
       "attribution": "Tiles (C) Esri -- Esri, DeLorme, NAVTEQ, TomTom, Intermap, iPC, USGS, FAO, NPS, NRCAN, GeoBase, Kadaster NL, Ordnance Survey, Esri Japan, METI, Esri China (Hong Kong), and the GIS User Community",
       "max_native_zoom": 18,
       "max_zoom": 22,
       "min_native_zoom": 0,
       "name": "Esri.WorldTopoMap",
       "options": [
        "attribution",
        "detect_retina",
        "max_native_zoom",
        "max_zoom",
        "min_native_zoom",
        "min_zoom",
        "no_wrap",
        "tile_size",
        "tms"
       ],
       "url": "https://server.arcgisonline.com/ArcGIS/rest/services/World_Topo_Map/MapServer/tile/{z}/{y}/{x}"
      }
     },
     "29060c2f15b8455f908cc89f9f9696b2": {
      "model_module": "@jupyter-widgets/controls",
      "model_module_version": "1.5.0",
      "model_name": "DescriptionStyleModel",
      "state": {
       "description_width": ""
      }
     },
     "2922762cc99b4e8aba652f40fa38f9f8": {
      "model_module": "@jupyter-widgets/controls",
      "model_module_version": "1.5.0",
      "model_name": "DescriptionStyleModel",
      "state": {
       "description_width": ""
      }
     },
     "2971cff81e16468a9bb5586d559f031e": {
      "model_module": "@jupyter-widgets/controls",
      "model_module_version": "1.5.0",
      "model_name": "DescriptionStyleModel",
      "state": {
       "description_width": ""
      }
     },
     "298ce1d25d614fdba5011dfbd20cb7e8": {
      "model_module": "jupyter-leaflet",
      "model_module_version": "^0.15.0",
      "model_name": "LeafletMarkerModel",
      "state": {
       "_model_module_version": "^0.15.0",
       "_view_module_version": "^0.15.0",
       "draggable": false,
       "location": [
        34.05641353,
        -120.33111739
       ],
       "options": [
        "alt",
        "draggable",
        "keyboard",
        "rise_offset",
        "rise_on_hover",
        "rotation_angle",
        "rotation_origin",
        "title",
        "z_index_offset"
       ],
       "popup": "IPY_MODEL_f01a8292005148d9935a143b2b07915b",
       "title": "Location:(-120.33111739,34.05641353)"
      }
     },
     "29d165d873cc4d10bce009a0506d924d": {
      "model_module": "@jupyter-widgets/controls",
      "model_module_version": "1.5.0",
      "model_name": "VBoxModel",
      "state": {
       "children": [
        "IPY_MODEL_9e12620fa46f47609b90b9a91f4e8255"
       ],
       "layout": "IPY_MODEL_1c9c13723b0b4410be2d803b13a1f7c9"
      }
     },
     "29d30f7bdce9439fac3e8f97d9ed1329": {
      "model_module": "@here/map-widget-for-jupyter",
      "model_module_version": "^1.1.3",
      "model_name": "DefaultLayersModel",
      "state": {
       "_model_module": "@here/map-widget-for-jupyter",
       "_model_module_version": "^1.1.3",
       "_view_count": null,
       "_view_module": "@here/map-widget-for-jupyter",
       "_view_module_version": "^1.1.3",
       "ppi": null
      }
     },
     "2ad5d0a04aa640df9103125208312f05": {
      "model_module": "@jupyter-widgets/base",
      "model_module_version": "1.2.0",
      "model_name": "LayoutModel",
      "state": {}
     },
     "2c7274973ac74515931aa8da47d27ef8": {
      "model_module": "@jupyter-widgets/base",
      "model_module_version": "1.2.0",
      "model_name": "LayoutModel",
      "state": {}
     },
     "2c88967881754cb2a1455ce7791c563f": {
      "model_module": "@jupyter-widgets/controls",
      "model_module_version": "1.5.0",
      "model_name": "ToggleButtonModel",
      "state": {
       "button_style": "primary",
       "icon": "fast-forward",
       "layout": "IPY_MODEL_d715dc9e5e3d415e8b12ca3cf62529d1",
       "style": "IPY_MODEL_a9f823fb067741d68cc3a9a4966ae9a3",
       "tooltip": "Activate the time slider"
      }
     },
     "2d2f63fb796940219a50fa7a848a137e": {
      "model_module": "@jupyter-widgets/controls",
      "model_module_version": "1.5.0",
      "model_name": "DescriptionStyleModel",
      "state": {
       "description_width": ""
      }
     },
     "2de9e82f6a2e482680e42e90e1e88a9f": {
      "model_module": "@jupyter-widgets/base",
      "model_module_version": "1.2.0",
      "model_name": "LayoutModel",
      "state": {}
     },
     "2e1ab26ea3f44ddb99f60c6a6a104034": {
      "model_module": "jupyter-leaflet",
      "model_module_version": "^0.15.0",
      "model_name": "LeafletGeoJSONModel",
      "state": {
       "_model_module_version": "^0.15.0",
       "_view_module_version": "^0.15.0",
       "data": {
        "features": [
         {
          "geometry": {
           "coordinates": [
            [
             [
              -75.6965345,
              35.93695573
             ],
             [
              -75.6940345,
              35.93645573
             ],
             [
              -75.6908345,
              35.93695573
             ],
             [
              -75.6883345,
              35.93645573
             ],
             [
              -75.68664141,
              35.93496183
             ],
             [
              -75.68663795,
              35.93495878
             ],
             [
              -75.6866345,
              35.93495573
             ],
             [
              -75.69002308,
              35.93425808
             ],
             [
              -75.69002879,
              35.93425691
             ],
             [
              -75.6900345,
              35.93425573
             ],
             [
              -75.6857345,
              35.93265573
             ],
             [
              -75.6825345,
              35.93145573
             ],
             [
              -75.6793345,
              35.93035573
             ],
             [
              -75.6767345,
              35.92925573
             ],
             [
              -75.6742345,
              35.92865573
             ],
             [
              -75.6708345,
              35.92705573
             ],
             [
              -75.6682345,
              35.92585573
             ],
             [
              -75.6661345,
              35.92365573
             ],
             [
              -75.6637345,
              35.92165573
             ],
             [
              -75.6611345,
              35.92075573
             ],
             [
              -75.65994044,
              35.91946216
             ],
             [
              -75.65993747,
              35.91945895
             ],
             [
              -75.6599345,
              35.91945573
             ],
             [
              -75.6622345,
              35.91905573
             ],
             [
              -75.6630345,
              35.91625573
             ],
             [
              -75.6633345,
              35.91265573
             ],
             [
              -75.6658345,
              35.90965573
             ],
             [
              -75.6688345,
              35.91105573
             ],
             [
              -75.6694345,
              35.90795573
             ],
             [
              -75.66903494,
              35.90386021
             ],
             [
              -75.66903472,
              35.90385797
             ],
             [
              -75.6690345,
              35.90385573
             ],
             [
              -75.6674345,
              35.90005573
             ],
             [
              -75.66703896,
              35.90001977
             ],
             [
              -75.6630345,
              35.89965573
             ],
             [
              -75.66013451,
              35.90015574
             ],
             [
              -75.66013554,
              35.90015929
             ],
             [
              -75.66013657,
              35.90016284
             ],
             [
              -75.6608345,
              35.90255573
             ],
             [
              -75.66083424,
              35.90255574
             ],
             [
              -75.66083398,
              35.90255575
             ],
             [
              -75.6574345,
              35.90265573
             ],
             [
              -75.65633773,
              35.90278734
             ],
             [
              -75.65600141,
              35.9028277
             ],
             [
              -75.6549345,
              35.90295573
             ],
             [
              -75.6521345,
              35.90345573
             ],
             [
              -75.6499345,
              35.90445573
             ],
             [
              -75.6481345,
              35.90755573
             ],
             [
              -75.6480345,
              35.91025573
             ],
             [
              -75.64563452,
              35.90985573
             ],
             [
              -75.64556392,
              35.90897347
             ],
             [
              -75.6454345,
              35.90735573
             ],
             [
              -75.6439345,
              35.90375573
             ],
             [
              -75.6407345,
              35.90075572
             ],
             [
              -75.6394345,
              35.89775573
             ],
             [
              -75.6380345,
              35.89525573
             ],
             [
              -75.63767566,
              35.8944583
             ],
             [
              -75.6376741,
              35.89445485
             ],
             [
              -75.63767255,
              35.8944514
             ],
             [
              -75.6371345,
              35.89325573
             ],
             [
              -75.63553452,
              35.89145575
             ],
             [
              -75.63523067,
              35.89103615
             ],
             [
              -75.6334345,
              35.88855573
             ],
             [
              -75.63093453,
              35.88735574
             ],
             [
              -75.63137044,
              35.88659284
             ],
             [
              -75.6317345,
              35.88595573
             ],
             [
              -75.6292345,
              35.88365573
             ],
             [
              -75.6274345,
              35.88145573
             ],
             [
              -75.6275345,
              35.87935573
             ],
             [
              -75.6261345,
              35.87735573
             ],
             [
              -75.6241345,
              35.87485573
             ],
             [
              -75.62383417,
              35.87411491
             ],
             [
              -75.6226345,
              35.87115573
             ],
             [
              -75.62229418,
              35.87042971
             ],
             [
              -75.6211345,
              35.86795573
             ],
             [
              -75.6215345,
              35.86525573
             ],
             [
              -75.62008022,
              35.86271074
             ],
             [
              -75.6195345,
              35.86175573
             ],
             [
              -75.61870498,
              35.86063344
             ],
             [
              -75.6178345,
              35.85945573
             ],
             [
              -75.6165345,
              35.85655573
             ],
             [
              -75.6145345,
              35.85425573
             ],
             [
              -75.6138345,
              35.85265573
             ],
             [
              -75.61433449,
              35.85075575
             ],
             [
              -75.61833448,
              35.85315572
             ],
             [
              -75.6210345,
              35.85525573
             ],
             [
              -75.6223345,
              35.85705573
             ],
             [
              -75.62473449,
              35.85905572
             ],
             [
              -75.6267345,
              35.86095573
             ],
             [
              -75.6291345,
              35.86315573
             ],
             [
              -75.62963732,
              35.86365855
             ],
             [
              -75.6311345,
              35.86515573
             ],
             [
              -75.63329704,
              35.86796703
             ],
             [
              -75.63413451,
              35.86905572
             ],
             [
              -75.6371345,
              35.86755573
             ],
             [
              -75.63933449,
              35.87005572
             ],
             [
              -75.64013451,
              35.87445572
             ],
             [
              -75.64213449,
              35.87335574
             ],
             [
              -75.6421345,
              35.87065573
             ],
             [
              -75.64153452,
              35.86835579
             ],
             [
              -75.63963452,
              35.86575576
             ],
             [
              -75.6379345,
              35.86275572
             ],
             [
              -75.6368345,
              35.85945573
             ],
             [
              -75.63612342,
              35.85892242
             ],
             [
              -75.6348345,
              35.85795573
             ],
             [
              -75.6329345,
              35.85655573
             ],
             [
              -75.6302345,
              35.85415573
             ],
             [
              -75.62793449,
              35.85265572
             ],
             [
              -75.6238345,
              35.85005573
             ],
             [
              -75.62167462,
              35.84805389
             ],
             [
              -75.6197345,
              35.84625573
             ],
             [
              -75.6178345,
              35.84245573
             ],
             [
              -75.6177345,
              35.83965573
             ],
             [
              -75.6182345,
              35.83775573
             ],
             [
              -75.6180345,
              35.83455573
             ],
             [
              -75.6181345,
              35.83215573
             ],
             [
              -75.61805717,
              35.83198918
             ],
             [
              -75.6168345,
              35.82935573
             ],
             [
              -75.61633176,
              35.82734479
             ],
             [
              -75.6158345,
              35.82535573
             ],
             [
              -75.6163345,
              35.82035573
             ],
             [
              -75.61933447,
              35.82035573
             ],
             [
              -75.6200345,
              35.81735573
             ],
             [
              -75.62030154,
              35.81749628
             ],
             [
              -75.6219345,
              35.81835573
             ],
             [
              -75.62483446,
              35.81725574
             ],
             [
              -75.6224345,
              35.81535573
             ],
             [
              -75.6201345,
              35.81425573
             ],
             [
              -75.6193345,
              35.81115574
             ],
             [
              -75.62103449,
              35.80975573
             ],
             [
              -75.62106138,
              35.80929869
             ],
             [
              -75.62118780788809,
              35.80715
             ]
            ],
            [
             [
              -75.62210097404007,
              35.80715
             ],
             [
              -75.6236345,
              35.80855573
             ],
             [
              -75.62488594,
              35.80975711
             ],
             [
              -75.6261345,
              35.81095573
             ],
             [
              -75.6279345,
              35.81245573
             ],
             [
              -75.62923449,
              35.81495574
             ],
             [
              -75.6278345,
              35.81775573
             ],
             [
              -75.6296345,
              35.81975573
             ],
             [
              -75.63303448,
              35.82195571
             ],
             [
              -75.6361345,
              35.82195573
             ],
             [
              -75.63723335,
              35.82205269
             ],
             [
              -75.6395345,
              35.82225573
             ],
             [
              -75.64273446,
              35.82335572
             ],
             [
              -75.6421345,
              35.82075573
             ],
             [
              -75.64183451,
              35.81795579
             ],
             [
              -75.6441345,
              35.81815573
             ],
             [
              -75.6468345,
              35.81835573
             ],
             [
              -75.6495345,
              35.82005573
             ],
             [
              -75.65114722,
              35.82155723
             ],
             [
              -75.65243452,
              35.82275573
             ],
             [
              -75.6554345,
              35.82255573
             ],
             [
              -75.6579345,
              35.82405573
             ],
             [
              -75.6584345,
              35.82695573
             ],
             [
              -75.6574345,
              35.82885573
             ],
             [
              -75.65653456,
              35.83125574
             ],
             [
              -75.65889094,
              35.83150821
             ],
             [
              -75.6593345,
              35.83155573
             ],
             [
              -75.6602345,
              35.83375573
             ],
             [
              -75.65986051,
              35.83512704
             ],
             [
              -75.65963447,
              35.83595576
             ],
             [
              -75.6574345,
              35.83825573
             ],
             [
              -75.65798401,
              35.83981266
             ],
             [
              -75.6580345,
              35.83995573
             ],
             [
              -75.6598345,
              35.84245573
             ],
             [
              -75.66074901,
              35.84380059
             ],
             [
              -75.6615345,
              35.84495573
             ],
             [
              -75.6605345,
              35.84725573
             ],
             [
              -75.66198867,
              35.84754657
             ],
             [
              -75.6625345,
              35.84765573
             ],
             [
              -75.6629345,
              35.85105573
             ],
             [
              -75.66070055,
              35.85400773
             ],
             [
              -75.6601345,
              35.85475573
             ],
             [
              -75.6599345,
              35.85855573
             ],
             [
              -75.6605345,
              35.86065573
             ],
             [
              -75.6600345,
              35.86305573
             ],
             [
              -75.6609345,
              35.86475573
             ],
             [
              -75.6623345,
              35.86715573
             ],
             [
              -75.66278391,
              35.86888918
             ],
             [
              -75.66303452,
              35.86985575
             ],
             [
              -75.6646345,
              35.87115573
             ],
             [
              -75.6654345,
              35.87335573
             ],
             [
              -75.66620754,
              35.87412877
             ],
             [
              -75.6675345,
              35.87545573
             ],
             [
              -75.6688345,
              35.87785573
             ],
             [
              -75.6713345,
              35.88005573
             ],
             [
              -75.6729345,
              35.88265573
             ],
             [
              -75.6755345,
              35.88305573
             ],
             [
              -75.67592227,
              35.88319674
             ],
             [
              -75.67593108,
              35.88319994
             ],
             [
              -75.6759399,
              35.88320315
             ],
             [
              -75.6777345,
              35.88385573
             ],
             [
              -75.6811345,
              35.88445573
             ],
             [
              -75.6818133,
              35.88617883
             ],
             [
              -75.68243251,
              35.88775069
             ],
             [
              -75.6824335,
              35.88775321
             ],
             [
              -75.68243448,
              35.88775573
             ],
             [
              -75.6808345,
              35.88755573
             ],
             [
              -75.67893451,
              35.88635579
             ],
             [
              -75.6790948,
              35.88795875
             ],
             [
              -75.6791345,
              35.88835573
             ],
             [
              -75.67981911,
              35.88889512
             ],
             [
              -75.6824345,
              35.89095573
             ],
             [
              -75.6877345,
              35.89395573
             ],
             [
              -75.6912345,
              35.89675573
             ],
             [
              -75.6934345,
              35.89955573
             ],
             [
              -75.6957345,
              35.90085573
             ],
             [
              -75.6975345,
              35.90285576
             ],
             [
              -75.69753429,
              35.90285824
             ],
             [
              -75.69753408,
              35.90286073
             ],
             [
              -75.6973608,
              35.9049401
             ],
             [
              -75.6973345,
              35.90525573
             ],
             [
              -75.6967345,
              35.90795573
             ],
             [
              -75.69673545,
              35.90795859
             ],
             [
              -75.69673641,
              35.90796145
             ],
             [
              -75.6976345,
              35.91065573
             ],
             [
              -75.7002345,
              35.91255573
             ],
             [
              -75.7019345,
              35.91485573
             ],
             [
              -75.7038345,
              35.91635573
             ],
             [
              -75.7057345,
              35.91755573
             ],
             [
              -75.7080345,
              35.91885573
             ],
             [
              -75.7106345,
              35.92005573
             ],
             [
              -75.7129345,
              35.92125573
             ],
             [
              -75.7154345,
              35.92265573
             ],
             [
              -75.7192345,
              35.92385573
             ],
             [
              -75.7231345,
              35.92525573
             ],
             [
              -75.72442076,
              35.92743249
             ],
             [
              -75.72442267,
              35.92743571
             ],
             [
              -75.72442457,
              35.92743892
             ],
             [
              -75.7244345,
              35.92745573
             ],
             [
              -75.724435,
              35.92745883
             ],
             [
              -75.7244355,
              35.92746192
             ],
             [
              -75.7250345,
              35.93115573
             ],
             [
              -75.72503476,
              35.931156
             ],
             [
              -75.72503502,
              35.93115627
             ],
             [
              -75.7268345,
              35.93305573
             ],
             [
              -75.72683439,
              35.93305837
             ],
             [
              -75.72683429,
              35.93306101
             ],
             [
              -75.7267345,
              35.93555573
             ],
             [
              -75.7243345,
              35.93725573
             ],
             [
              -75.7222345,
              35.93835573
             ],
             [
              -75.7185345,
              35.93955573
             ],
             [
              -75.7148345,
              35.93975573
             ],
             [
              -75.7106345,
              35.93985573
             ],
             [
              -75.7068345,
              35.93935573
             ],
             [
              -75.7037345,
              35.93835573
             ],
             [
              -75.6999345,
              35.93775573
             ],
             [
              -75.6965345,
              35.93695573
             ]
            ]
           ],
           "type": "MultiLineString"
          },
          "id": "85",
          "properties": {
           "acc": 1,
           "exs": 44,
           "f_code": "BA010",
           "id": "xv279yj9196.85",
           "soc": "USA",
           "style": {
            "color": "yellow",
            "dashArray": "5",
            "fillOpacity": 0.5,
            "fill_color": "yellow",
            "opacity": 1,
            "weight": 4
           }
          },
          "type": "Feature"
         },
         {
          "geometry": {
           "coordinates": [
            [
             -75.6159345,
             35.89495573
            ],
            [
             -75.6162345,
             35.89165573
            ],
            [
             -75.61710179,
             35.88985443
            ],
            [
             -75.61753447,
             35.8889558
            ],
            [
             -75.6200345,
             35.89045576
            ],
            [
             -75.61999348,
             35.89098904
            ],
            [
             -75.6198345,
             35.89305573
            ],
            [
             -75.62283449,
             35.89185576
            ],
            [
             -75.6221345,
             35.89505573
            ],
            [
             -75.62187977,
             35.89692376
            ],
            [
             -75.62187925,
             35.89692757
            ],
            [
             -75.62187873,
             35.89693138
            ],
            [
             -75.62183451,
             35.89725578
            ],
            [
             -75.6222345,
             35.89935573
            ],
            [
             -75.6203345,
             35.90045573
            ],
            [
             -75.6169345,
             35.89885573
            ],
            [
             -75.61681684,
             35.89839684
            ],
            [
             -75.61681593,
             35.8983933
            ],
            [
             -75.61681502,
             35.89838976
            ],
            [
             -75.6159345,
             35.89495573
            ]
           ],
           "type": "LineString"
          },
          "id": "84",
          "properties": {
           "acc": 1,
           "exs": 44,
           "f_code": "BA010",
           "id": "xv279yj9196.84",
           "soc": "USA",
           "style": {
            "color": "yellow",
            "dashArray": "5",
            "fillOpacity": 0.5,
            "fill_color": "yellow",
            "opacity": 1,
            "weight": 4
           }
          },
          "type": "Feature"
         },
         {
          "geometry": {
           "coordinates": [
            [
             [
              -75.61589203977273,
              35.945233
             ],
             [
              -75.6157345,
              35.94495573
             ],
             [
              -75.6138345,
              35.94135573
             ],
             [
              -75.6115345,
              35.93785573
             ],
             [
              -75.6097345,
              35.93405573
             ],
             [
              -75.6033345,
              35.92315573
             ],
             [
              -75.60316,
              35.92287101947368
             ]
            ],
            [
             [
              -75.60316,
              35.88481676225807
             ],
             [
              -75.6046345,
              35.88405573
             ],
             [
              -75.6072345,
              35.88095573
             ],
             [
              -75.6092345,
              35.87835573
             ],
             [
              -75.6099345,
              35.88045573
             ],
             [
              -75.6104345,
              35.88225573
             ],
             [
              -75.6074345,
              35.88355573
             ],
             [
              -75.6098345,
              35.88455573
             ],
             [
              -75.6107345,
              35.88635573
             ],
             [
              -75.6108345,
              35.88805573
             ],
             [
              -75.6121345,
              35.89015573
             ],
             [
              -75.6106345,
              35.89105573
             ],
             [
              -75.6077345,
              35.89015573
             ],
             [
              -75.6055345,
              35.89055573
             ],
             [
              -75.6055345,
              35.89285573
             ],
             [
              -75.60316,
              35.89424767827586
             ]
            ],
            [
             [
              -75.60316,
              35.90289616124792
             ],
             [
              -75.6046345,
              35.90275573
             ],
             [
              -75.6078345,
              35.90135573
             ],
             [
              -75.6113345,
              35.90045573
             ],
             [
              -75.61133363,
              35.90045975
             ],
             [
              -75.61133275,
              35.90046377
             ],
             [
              -75.6112747,
              35.90073081
             ],
             [
              -75.61127376,
              35.90073513
             ],
             [
              -75.61127282,
              35.90073945
             ],
             [
              -75.6108345,
              35.90275573
             ],
             [
              -75.61083575,
              35.90275717
             ],
             [
              -75.610837,
              35.9027586
             ],
             [
              -75.6128345,
              35.90505573
             ],
             [
              -75.61283223,
              35.90505581
             ],
             [
              -75.61282996,
              35.9050559
             ],
             [
              -75.6101345,
              35.90515573
             ],
             [
              -75.6078345,
              35.90685573
             ],
             [
              -75.6063345,
              35.90455573
             ],
             [
              -75.60316,
              35.9054287175
             ]
            ],
            [
             [
              -75.60316,
              35.91086511888891
             ],
             [
              -75.6035345,
              35.91165573
             ],
             [
              -75.6044345,
              35.91345573
             ],
             [
              -75.6062345,
              35.91525573
             ],
             [
              -75.6086345,
              35.91685573
             ],
             [
              -75.6100345,
              35.91885573
             ],
             [
              -75.6111345,
              35.92065573
             ],
             [
              -75.6124345,
              35.92305573
             ],
             [
              -75.6141345,
              35.92505573
             ],
             [
              -75.6164345,
              35.92725573
             ],
             [
              -75.6177345,
              35.93005573
             ],
             [
              -75.6193345,
              35.93215573
             ],
             [
              -75.6217345,
              35.93465573
             ],
             [
              -75.6227345,
              35.93805573
             ],
             [
              -75.6233345,
              35.94065573
             ],
             [
              -75.6256345,
              35.94235573
             ],
             [
              -75.6279345,
              35.94385573
             ],
             [
              -75.62897932551724,
              35.945233
             ]
            ],
            [
             [
              -75.747407,
              35.84641707688018
             ],
             [
              -75.74603451,
              35.84525574
             ],
             [
              -75.74592685,
              35.84521317
             ],
             [
              -75.7417345,
              35.84355573
             ],
             [
              -75.7407345,
              35.84135573
             ],
             [
              -75.7402345,
              35.83875573
             ],
             [
              -75.73824802,
              35.83772276
             ],
             [
              -75.7377345,
              35.83745573
             ],
             [
              -75.73731547,
              35.83725533
             ],
             [
              -75.73543452,
              35.83635574
             ],
             [
              -75.73453452,
              35.8325558
             ],
             [
              -75.73445892,
              35.83115756
             ],
             [
              -75.7343345,
              35.82885573
             ],
             [
              -75.73183451,
              35.82645574
             ],
             [
              -75.7298345,
              35.82355573
             ],
             [
              -75.73126215,
              35.82193339
             ],
             [
              -75.7320345,
              35.82105573
             ],
             [
              -75.73265038,
              35.8186692
             ],
             [
              -75.73283449,
              35.81795577
             ],
             [
              -75.731805,
              35.8162399
             ],
             [
              -75.7313345,
              35.81545573
             ],
             [
              -75.7295345,
              35.81365573
             ],
             [
              -75.7300345,
              35.81255573
             ],
             [
              -75.7308345,
              35.80895573
             ],
             [
              -75.73029947192171,
              35.80715
             ]
            ]
           ],
           "type": "MultiLineString"
          },
          "id": "1889",
          "properties": {
           "acc": 1,
           "exs": 44,
           "f_code": "BA010",
           "id": "xv279yj9196.1875",
           "soc": "USA",
           "style": {
            "color": "yellow",
            "dashArray": "5",
            "fillOpacity": 0.5,
            "fill_color": "yellow",
            "opacity": 1,
            "weight": 4
           }
          },
          "type": "Feature"
         }
        ],
        "type": "FeatureCollection"
       },
       "hover_style": {
        "color": "white",
        "dashArray": "4",
        "fillOpacity": 0.7
       },
       "style": {
        "color": "yellow",
        "dashArray": "5",
        "fillOpacity": 0.5,
        "fill_color": "yellow",
        "opacity": 1,
        "weight": 4
       }
      }
     },
     "2f4fcb8fe64541f2b024c623acb40bb9": {
      "model_module": "jupyter-leaflet",
      "model_module_version": "^0.15.0",
      "model_name": "LeafletWMSLayerModel",
      "state": {
       "_model_module_version": "^0.15.0",
       "_view_module_version": "^0.15.0",
       "attribution": "MRLC",
       "crs": {
        "custom": false,
        "name": "EPSG3857"
       },
       "format": "image/png",
       "layers": "NLCD_2008_Land_Cover_L48",
       "max_native_zoom": 18,
       "min_native_zoom": 0,
       "name": "NLCD 2008 CONUS Land Cover",
       "options": [
        "attribution",
        "detect_retina",
        "format",
        "layers",
        "max_native_zoom",
        "max_zoom",
        "min_native_zoom",
        "min_zoom",
        "no_wrap",
        "styles",
        "tile_size",
        "tms",
        "transparent",
        "uppercase"
       ],
       "transparent": true,
       "url": "https://www.mrlc.gov/geoserver/mrlc_display/NLCD_2008_Land_Cover_L48/wms?"
      }
     },
     "2f8673dd14784a7898259ce2544ebf5b": {
      "model_module": "jupyter-leaflet",
      "model_module_version": "^0.15.0",
      "model_name": "LeafletMarkerModel",
      "state": {
       "_model_module_version": "^0.15.0",
       "_view_module_version": "^0.15.0",
       "draggable": false,
       "location": [
        34.05162941609134,
        -120.39809138700905
       ],
       "options": [
        "alt",
        "draggable",
        "keyboard",
        "rise_offset",
        "rise_on_hover",
        "rotation_angle",
        "rotation_origin",
        "title",
        "z_index_offset"
       ],
       "popup": "IPY_MODEL_9bd04e3b10a742c090749182d3e1aa43",
       "title": "Location:(-120.39809138700905,34.05162941609134)"
      }
     },
     "2fbd864bd3734995aed878da7a31699d": {
      "model_module": "jupyter-leaflet",
      "model_module_version": "^0.15.0",
      "model_name": "LeafletDrawControlModel",
      "state": {
       "_model_module_version": "^0.15.0",
       "_view_module_version": "^0.15.0",
       "circlemarker": {
        "shapeOptions": {}
       },
       "data": [
        {
         "geometry": {
          "coordinates": [
           [
            [
             -75.763,
             36.086001
            ],
            [
             -75.763,
             36.1305
            ],
            [
             -75.689535,
             36.1305
            ],
            [
             -75.689535,
             36.086001
            ],
            [
             -75.763,
             36.086001
            ]
           ]
          ],
          "type": "Polygon"
         },
         "properties": {
          "style": {
           "Opacity": 0.1,
           "clickable": true,
           "color": "green",
           "fill": true,
           "fillColor": "green",
           "fillOpacity": 0.1,
           "opacity": 0.5,
           "stroke": true,
           "weight": 4
          }
         },
         "type": "Feature"
        }
       ],
       "options": [
        "position"
       ],
       "rectangle": {
        "allowIntersection": false,
        "drawError": {
         "color": "#dd253b",
         "message": "Ops!"
        },
        "shapeOptions": {
         "Opacity": 0.1,
         "color": "green",
         "fillColor": "green",
         "fillOpacity": 0.1
        },
        "transform": true
       }
      }
     },
     "2fc8866bdd5640b1b6c6bd5a95d74cd2": {
      "model_module": "ipyevents",
      "model_module_version": "2.0.1",
      "model_name": "EventModel",
      "state": {
       "_supported_key_events": [
        "keydown",
        "keyup"
       ],
       "_supported_mouse_events": [
        "click",
        "auxclick",
        "dblclick",
        "mouseenter",
        "mouseleave",
        "mousedown",
        "mouseup",
        "mousemove",
        "wheel",
        "contextmenu",
        "dragstart",
        "drag",
        "dragend",
        "dragenter",
        "dragover",
        "dragleave",
        "drop"
       ],
       "_supported_touch_events": [
        "touchstart",
        "touchend",
        "touchmove",
        "touchcancel"
       ],
       "_view_module": "@jupyter-widgets/controls",
       "_view_module_version": "1.5.0",
       "source": "IPY_MODEL_51b31009df1d4cbcbfb72346b1a2a489",
       "throttle_or_debounce": "",
       "watched_events": [
        "mouseenter",
        "mouseleave"
       ],
       "xy_coordinate_system": ""
      }
     },
     "32e0c34decb04bd59e6085d35ca0c468": {
      "model_module": "jupyter-leaflet",
      "model_module_version": "^0.15.0",
      "model_name": "LeafletTileLayerModel",
      "state": {
       "_model_module_version": "^0.15.0",
       "_view_module_version": "^0.15.0",
       "attribution": "Map tiles by Stamen Design, CC BY 3.0 -- Map data (C) OpenStreetMap contributors",
       "max_native_zoom": 18,
       "min_native_zoom": 0,
       "name": "Stamen.TerrainLabels",
       "options": [
        "attribution",
        "detect_retina",
        "max_native_zoom",
        "max_zoom",
        "min_native_zoom",
        "min_zoom",
        "no_wrap",
        "tile_size",
        "tms"
       ],
       "url": "https://stamen-tiles-a.a.ssl.fastly.net/terrain-labels/{z}/{x}/{y}.png"
      }
     },
     "33446044ec994053863cb788bbfb205d": {
      "model_module": "jupyter-leaflet",
      "model_module_version": "^0.15.0",
      "model_name": "LeafletAttributionControlModel",
      "state": {
       "_model_module_version": "^0.15.0",
       "_view_module_version": "^0.15.0",
       "options": [
        "position",
        "prefix"
       ],
       "position": "bottomright",
       "prefix": "ipyleaflet"
      }
     },
     "3369eadea8654fa58f5f5b5ae4bb3902": {
      "model_module": "@jupyter-widgets/controls",
      "model_module_version": "1.5.0",
      "model_name": "ToggleButtonModel",
      "state": {
       "button_style": "primary",
       "icon": "map",
       "layout": "IPY_MODEL_104cb5fbb293417ea6013d8640b7df6a",
       "style": "IPY_MODEL_8edb6fc1d2e84a6d8b447463856e3930",
       "tooltip": "Change basemap"
      }
     },
     "33ef488cc128441b8c1d6b18575c563a": {
      "model_module": "jupyter-leaflet",
      "model_module_version": "^0.15.0",
      "model_name": "LeafletTileLayerModel",
      "state": {
       "_model_module_version": "^0.15.0",
       "_view_module_version": "^0.15.0",
       "attribution": "Datenquelle: basemap.at",
       "max_native_zoom": 18,
       "max_zoom": 20,
       "min_native_zoom": 0,
       "name": "BasemapAT.basemap",
       "options": [
        "attribution",
        "detect_retina",
        "max_native_zoom",
        "max_zoom",
        "min_native_zoom",
        "min_zoom",
        "no_wrap",
        "tile_size",
        "tms"
       ],
       "url": "https://maps.wien.gv.at/basemap/geolandbasemap/normal/google3857/{z}/{y}/{x}.png"
      }
     },
     "33f88d933e894078bd141dd156ad4476": {
      "model_module": "jupyter-leaflet",
      "model_module_version": "^0.15.0",
      "model_name": "LeafletMapModel",
      "state": {
       "_model_module_version": "^0.15.0",
       "_view_module_version": "^0.15.0",
       "bottom": 206613,
       "center": [
        35.75932885298472,
        -75.3432083129883
       ],
       "controls": [
        "IPY_MODEL_684a7dd512af4624851ff883b04ef565",
        "IPY_MODEL_33446044ec994053863cb788bbfb205d",
        "IPY_MODEL_34b53e211b3d4468980545411cd44921",
        "IPY_MODEL_9bfbb531c8414a1fa1bfc3ca39e68def",
        "IPY_MODEL_11026f56b4444ea5b14026b8f928c78b"
       ],
       "default_style": "IPY_MODEL_099ac161a3c3484a8d8d6df67e9df811",
       "dragging_style": "IPY_MODEL_814813eb104545ada95d7e1ce6673e32",
       "east": -74.94323730468751,
       "fullscreen": false,
       "interpolation": "bilinear",
       "layers": [
        "IPY_MODEL_b8975b287d604871919c3c0a9a4dda90",
        "IPY_MODEL_2e1ab26ea3f44ddb99f60c6a6a104034",
        "IPY_MODEL_ad167964bd114776ba597904990d6ffe",
        "IPY_MODEL_7716e96873284f53bf918d40bc112b7f"
       ],
       "layout": "IPY_MODEL_bd048ec535ab49b0858aa2bea0121ff1",
       "left": 151835,
       "max_zoom": 24,
       "modisdate": "2022-01-31",
       "north": 35.926312628505954,
       "options": [
        "bounce_at_zoom_limits",
        "box_zoom",
        "center",
        "close_popup_on_click",
        "double_click_zoom",
        "dragging",
        "fullscreen",
        "inertia",
        "inertia_deceleration",
        "inertia_max_speed",
        "interpolation",
        "keyboard",
        "keyboard_pan_offset",
        "keyboard_zoom_offset",
        "max_zoom",
        "min_zoom",
        "prefer_canvas",
        "scroll_wheel_zoom",
        "tap",
        "tap_tolerance",
        "touch_zoom",
        "world_copy_jump",
        "zoom",
        "zoom_animation_threshold",
        "zoom_delta",
        "zoom_snap",
        "zoom_start"
       ],
       "prefer_canvas": false,
       "right": 153000,
       "scroll_wheel_zoom": true,
       "south": 35.59199387500705,
       "style": "IPY_MODEL_099ac161a3c3484a8d8d6df67e9df811",
       "top": 206013,
       "west": -75.74317932128908,
       "window_url": "http://localhost:8888/lab/tree/Prototype%207_v3.ipynb",
       "zoom": 11
      }
     },
     "346f61c695fe403ba9a646ee9e9ad892": {
      "model_module": "jupyter-leaflet",
      "model_module_version": "^0.15.0",
      "model_name": "LeafletTileLayerModel",
      "state": {
       "_model_module_version": "^0.15.0",
       "_view_module_version": "^0.15.0",
       "attribution": "Map data: (C) OpenSeaMap contributors",
       "max_native_zoom": 18,
       "max_zoom": 22,
       "min_native_zoom": 0,
       "name": "OpenSeaMap",
       "options": [
        "attribution",
        "detect_retina",
        "max_native_zoom",
        "max_zoom",
        "min_native_zoom",
        "min_zoom",
        "no_wrap",
        "tile_size",
        "tms"
       ],
       "url": "https://tiles.openseamap.org/seamark/{z}/{x}/{y}.png"
      }
     },
     "34726618f20f4d25aff6a8b0ba4ac0b5": {
      "model_module": "@jupyter-widgets/controls",
      "model_module_version": "1.5.0",
      "model_name": "HTMLModel",
      "state": {
       "layout": "IPY_MODEL_2de9e82f6a2e482680e42e90e1e88a9f",
       "style": "IPY_MODEL_4a8c5735a40d4aaa9dd2b62ee6406815",
       "value": "Location:(-120.44297002003749,34.05782907975453)"
      }
     },
     "34b53e211b3d4468980545411cd44921": {
      "model_module": "jupyter-leaflet",
      "model_module_version": "^0.15.0",
      "model_name": "LeafletScaleControlModel",
      "state": {
       "_model_module_version": "^0.15.0",
       "_view_module_version": "^0.15.0",
       "imperial": true,
       "max_width": 100,
       "metric": true,
       "options": [
        "imperial",
        "max_width",
        "metric",
        "position",
        "update_when_idle"
       ],
       "position": "bottomleft",
       "update_when_idle": false
      }
     },
     "35271eb4630a4084b8058b6f782b6f0a": {
      "model_module": "@jupyter-widgets/controls",
      "model_module_version": "1.5.0",
      "model_name": "DescriptionStyleModel",
      "state": {
       "description_width": ""
      }
     },
     "35f46c8cfaca418080c86f5429423a23": {
      "model_module": "jupyter-leaflet",
      "model_module_version": "^0.15.0",
      "model_name": "LeafletTileLayerModel",
      "state": {
       "_model_module_version": "^0.15.0",
       "_view_module_version": "^0.15.0",
       "attribution": "Imagery provided by services from the Global Imagery Browse Services (GIBS), operated by the NASA/GSFC/Earth Science Data and Information System (ESDIS) with funding provided by NASA/HQ.",
       "max_native_zoom": 18,
       "max_zoom": 6,
       "min_native_zoom": 0,
       "name": "NASAGIBS.ModisTerraAOD",
       "options": [
        "attribution",
        "detect_retina",
        "max_native_zoom",
        "max_zoom",
        "min_native_zoom",
        "min_zoom",
        "no_wrap",
        "tile_size",
        "tms"
       ],
       "url": "https://map1.vis.earthdata.nasa.gov/wmts-webmerc/MODIS_Terra_Aerosol/default//GoogleMapsCompatible_Level6/{z}/{y}/{x}.png"
      }
     },
     "37b93d6a7cfc4149bf024a2d0516e113": {
      "model_module": "@jupyter-widgets/controls",
      "model_module_version": "1.5.0",
      "model_name": "VBoxModel",
      "state": {
       "children": [
        "IPY_MODEL_82c0df930a314f09b16ab6ee407607ae"
       ],
       "layout": "IPY_MODEL_21bea6cb90144faab1f072e06a13cd5a"
      }
     },
     "37d51d9704534c05bb54ef222a41fd6c": {
      "model_module": "jupyter-leaflet",
      "model_module_version": "^0.15.0",
      "model_name": "LeafletTileLayerModel",
      "state": {
       "_model_module_version": "^0.15.0",
       "_view_module_version": "^0.15.0",
       "attribution": "Map tiles by Stamen Design, CC BY 3.0 -- Map data (C) OpenStreetMap contributors",
       "max_native_zoom": 18,
       "min_native_zoom": 0,
       "name": "Stamen.Terrain",
       "options": [
        "attribution",
        "detect_retina",
        "max_native_zoom",
        "max_zoom",
        "min_native_zoom",
        "min_zoom",
        "no_wrap",
        "tile_size",
        "tms"
       ],
       "url": "https://stamen-tiles-a.a.ssl.fastly.net/terrain/{z}/{x}/{y}.png"
      }
     },
     "381a6d5d675842aead6195a89ad2fee6": {
      "model_module": "@jupyter-widgets/controls",
      "model_module_version": "1.5.0",
      "model_name": "ToggleButtonModel",
      "state": {
       "button_style": "primary",
       "icon": "camera",
       "layout": "IPY_MODEL_d5c9f72acbed43b597ac85f2dc11e757",
       "style": "IPY_MODEL_b126bb620e244cceacefea9a3752e068",
       "tooltip": "Save map as HTML or image"
      }
     },
     "38547c738c2f4d9e863a846332b62288": {
      "model_module": "@jupyter-widgets/controls",
      "model_module_version": "1.5.0",
      "model_name": "DescriptionStyleModel",
      "state": {
       "description_width": ""
      }
     },
     "3890bef44c514f338ebf883c9d309e87": {
      "model_module": "jupyter-leaflet",
      "model_module_version": "^0.15.0",
      "model_name": "LeafletTileLayerModel",
      "state": {
       "_model_module_version": "^0.15.0",
       "_view_module_version": "^0.15.0",
       "attribution": "Tiles courtesy of the U.S. Geological Survey",
       "max_native_zoom": 18,
       "max_zoom": 20,
       "min_native_zoom": 0,
       "name": "USGS.USImagery",
       "options": [
        "attribution",
        "detect_retina",
        "max_native_zoom",
        "max_zoom",
        "min_native_zoom",
        "min_zoom",
        "no_wrap",
        "tile_size",
        "tms"
       ],
       "url": "https://basemap.nationalmap.gov/arcgis/rest/services/USGSImageryOnly/MapServer/tile/{z}/{y}/{x}"
      }
     },
     "39efb733f2f94c99b579d2dbd9246fcb": {
      "model_module": "@jupyter-widgets/base",
      "model_module_version": "1.2.0",
      "model_name": "LayoutModel",
      "state": {
       "height": "auto",
       "padding": "0px 0px 0px 4px",
       "width": "auto"
      }
     },
     "3a649ef0249841b0bc0c7b579e17d2d6": {
      "model_module": "@jupyter-widgets/controls",
      "model_module_version": "1.5.0",
      "model_name": "DescriptionStyleModel",
      "state": {
       "description_width": ""
      }
     },
     "3af25d90deaf4b9bbec213bc6c0fe8a2": {
      "model_module": "jupyter-leaflet",
      "model_module_version": "^0.15.0",
      "model_name": "LeafletMarkerModel",
      "state": {
       "_model_module_version": "^0.15.0",
       "_view_module_version": "^0.15.0",
       "draggable": false,
       "location": [
        34.05378232632252,
        -120.44485544798098
       ],
       "options": [
        "alt",
        "draggable",
        "keyboard",
        "rise_offset",
        "rise_on_hover",
        "rotation_angle",
        "rotation_origin",
        "title",
        "z_index_offset"
       ],
       "popup": "IPY_MODEL_6e3ed3ae21ab4ee4883248143eac061f",
       "title": "Location:(-120.44485544798098,34.05378232632252)"
      }
     },
     "3af3283d746c4f46b9e3f5ea90499139": {
      "model_module": "@jupyter-widgets/controls",
      "model_module_version": "1.5.0",
      "model_name": "ToggleButtonModel",
      "state": {
       "button_style": "primary",
       "icon": "download",
       "layout": "IPY_MODEL_e38a965cb90144a8b1de6a2c4dd2f131",
       "style": "IPY_MODEL_c139806ac28f44ff9512e3853df68bd8",
       "tooltip": "Download OSM data"
      }
     },
     "3c418e30f7e7476ba327992eb30edb6f": {
      "model_module": "@jupyter-widgets/controls",
      "model_module_version": "1.5.0",
      "model_name": "DescriptionStyleModel",
      "state": {
       "description_width": ""
      }
     },
     "3d98be7b31c2423d85956d4205d8a2d1": {
      "model_module": "@jupyter-widgets/controls",
      "model_module_version": "1.5.0",
      "model_name": "HTMLModel",
      "state": {
       "layout": "IPY_MODEL_073b0b821b814fe2a7276a12404e8d99",
       "style": "IPY_MODEL_6a1aed31ca444adca1f8037b2a56a212",
       "value": "Location:(-120.33828097847295,34.05858484563296)"
      }
     },
     "3fc8de1d8421472a81fd7e541c81eae3": {
      "model_module": "@jupyter-widgets/base",
      "model_module_version": "1.2.0",
      "model_name": "LayoutModel",
      "state": {
       "height": "auto",
       "padding": "0px 0px 0px 4px",
       "width": "auto"
      }
     },
     "400289fa553b42808dfef63f843b547c": {
      "model_module": "jupyter-leaflet",
      "model_module_version": "^0.15.0",
      "model_name": "LeafletTileLayerModel",
      "state": {
       "_model_module_version": "^0.15.0",
       "_view_module_version": "^0.15.0",
       "attribution": "Map tiles by Stamen Design, CC BY 3.0 -- Map data (C) OpenStreetMap contributors",
       "max_native_zoom": 18,
       "max_zoom": 16,
       "min_native_zoom": 0,
       "name": "Stamen.Watercolor",
       "options": [
        "attribution",
        "detect_retina",
        "max_native_zoom",
        "max_zoom",
        "min_native_zoom",
        "min_zoom",
        "no_wrap",
        "tile_size",
        "tms"
       ],
       "url": "https://stamen-tiles-a.a.ssl.fastly.net/watercolor/{z}/{x}/{y}.jpg"
      }
     },
     "402169ba946e4adc96d4b9358389377e": {
      "model_module": "@jupyter-widgets/controls",
      "model_module_version": "1.5.0",
      "model_name": "DescriptionStyleModel",
      "state": {
       "description_width": ""
      }
     },
     "4293e7b7d64c43b093a6ad7cb5870b72": {
      "model_module": "jupyter-leaflet",
      "model_module_version": "^0.15.0",
      "model_name": "LeafletWMSLayerModel",
      "state": {
       "_model_module_version": "^0.15.0",
       "_view_module_version": "^0.15.0",
       "attribution": "FWS",
       "crs": {
        "custom": false,
        "name": "EPSG3857"
       },
       "format": "image/png",
       "layers": "0",
       "max_native_zoom": 18,
       "min_native_zoom": 0,
       "name": "FWS NWI Wetlands Raster",
       "options": [
        "attribution",
        "detect_retina",
        "format",
        "layers",
        "max_native_zoom",
        "max_zoom",
        "min_native_zoom",
        "min_zoom",
        "no_wrap",
        "styles",
        "tile_size",
        "tms",
        "transparent",
        "uppercase"
       ],
       "transparent": true,
       "url": "https://www.fws.gov/wetlands/arcgis/services/Wetlands_Raster/ImageServer/WMSServer?"
      }
     },
     "42f3131e368e4a24a0106f381e0688dc": {
      "model_module": "@jupyter-widgets/base",
      "model_module_version": "1.2.0",
      "model_name": "LayoutModel",
      "state": {}
     },
     "4364aa7f1d74425792c2a4deac13ad59": {
      "model_module": "jupyter-leaflet",
      "model_module_version": "^0.15.0",
      "model_name": "LeafletTileLayerModel",
      "state": {
       "_model_module_version": "^0.15.0",
       "_view_module_version": "^0.15.0",
       "attribution": "Tiles (C) Esri -- Source: Esri",
       "max_native_zoom": 18,
       "max_zoom": 13,
       "min_native_zoom": 0,
       "name": "Esri.WorldShadedRelief",
       "options": [
        "attribution",
        "detect_retina",
        "max_native_zoom",
        "max_zoom",
        "min_native_zoom",
        "min_zoom",
        "no_wrap",
        "tile_size",
        "tms"
       ],
       "url": "https://server.arcgisonline.com/ArcGIS/rest/services/World_Shaded_Relief/MapServer/tile/{z}/{y}/{x}"
      }
     },
     "444722abb866424b92264981e6618a67": {
      "model_module": "@jupyter-widgets/base",
      "model_module_version": "1.2.0",
      "model_name": "LayoutModel",
      "state": {
       "height": "auto",
       "padding": "0px 0px 0px 4px",
       "width": "auto"
      }
     },
     "44988c2cc115405f8fdeab13485a1da0": {
      "model_module": "@jupyter-widgets/controls",
      "model_module_version": "1.5.0",
      "model_name": "ToggleButtonModel",
      "state": {
       "icon": "wrench",
       "layout": "IPY_MODEL_66fec9be70c2488687effc0de1c672bd",
       "style": "IPY_MODEL_ec7ea46b28464e36a79e0c1e3b11b3ed",
       "tooltip": "Toolbar"
      }
     },
     "4506fe45715d46dcbf431444b22fece4": {
      "model_module": "@jupyter-widgets/base",
      "model_module_version": "1.2.0",
      "model_name": "LayoutModel",
      "state": {}
     },
     "460fa5b8686044dd996e96b5e03c7b2d": {
      "model_module": "jupyter-leaflet",
      "model_module_version": "^0.15.0",
      "model_name": "LeafletTileLayerModel",
      "state": {
       "_model_module_version": "^0.15.0",
       "_view_module_version": "^0.15.0",
       "attribution": "Kaartgegevens (C) Kadaster",
       "max_native_zoom": 18,
       "max_zoom": 19,
       "min_native_zoom": 0,
       "name": "nlmaps.grijs",
       "options": [
        "attribution",
        "detect_retina",
        "max_native_zoom",
        "max_zoom",
        "min_native_zoom",
        "min_zoom",
        "no_wrap",
        "tile_size",
        "tms"
       ],
       "url": "https://service.pdok.nl/brt/achtergrondkaart/wmts/v2_0/grijs/EPSG:3857/{z}/{x}/{y}.png"
      }
     },
     "46b8ba14585e4002a3c4ff11d94891ac": {
      "model_module": "jupyter-leaflet",
      "model_module_version": "^0.15.0",
      "model_name": "LeafletTileLayerModel",
      "state": {
       "_model_module_version": "^0.15.0",
       "_view_module_version": "^0.15.0",
       "attribution": "(C) OpenStreetMap France | (C) OpenStreetMap contributors",
       "max_native_zoom": 18,
       "max_zoom": 20,
       "min_native_zoom": 0,
       "name": "OpenStreetMap.France",
       "options": [
        "attribution",
        "detect_retina",
        "max_native_zoom",
        "max_zoom",
        "min_native_zoom",
        "min_zoom",
        "no_wrap",
        "tile_size",
        "tms"
       ],
       "url": "https://a.tile.openstreetmap.fr/osmfr/{z}/{x}/{y}.png"
      }
     },
     "472888256e22497d88574a7143b63316": {
      "model_module": "jupyter-leaflet",
      "model_module_version": "^0.15.0",
      "model_name": "LeafletTileLayerModel",
      "state": {
       "_model_module_version": "^0.15.0",
       "_view_module_version": "^0.15.0",
       "attribution": "(C) OpenStreetMap contributors (C) CARTO",
       "max_native_zoom": 18,
       "max_zoom": 20,
       "min_native_zoom": 0,
       "name": "CartoDB.Voyager",
       "options": [
        "attribution",
        "detect_retina",
        "max_native_zoom",
        "max_zoom",
        "min_native_zoom",
        "min_zoom",
        "no_wrap",
        "tile_size",
        "tms"
       ],
       "url": "https://a.basemaps.cartocdn.com/rastertiles/voyager/{z}/{x}/{y}.png"
      }
     },
     "47aed81302534fada52f3e2ca05794bf": {
      "model_module": "jupyter-leaflet",
      "model_module_version": "^0.15.0",
      "model_name": "LeafletTileLayerModel",
      "state": {
       "_model_module_version": "^0.15.0",
       "_view_module_version": "^0.15.0",
       "attribution": "![](https://docs.onemap.sg/maps/images/oneMap64-01.png) New OneMap | Map data (C) contributors, Singapore Land Authority",
       "max_native_zoom": 18,
       "min_native_zoom": 0,
       "name": "OneMapSG.LandLot",
       "options": [
        "attribution",
        "detect_retina",
        "max_native_zoom",
        "max_zoom",
        "min_native_zoom",
        "min_zoom",
        "no_wrap",
        "tile_size",
        "tms"
       ],
       "url": "https://maps-a.onemap.sg/v3/LandLot/{z}/{x}/{y}.png"
      }
     },
     "485466a09b33471fa9635150223d4bfb": {
      "model_module": "jupyter-leaflet",
      "model_module_version": "^0.15.0",
      "model_name": "LeafletTileLayerModel",
      "state": {
       "_model_module_version": "^0.15.0",
       "_view_module_version": "^0.15.0",
       "attribution": "Google",
       "max_native_zoom": 18,
       "max_zoom": 22,
       "min_native_zoom": 0,
       "name": "Google Satellite",
       "options": [
        "attribution",
        "detect_retina",
        "max_native_zoom",
        "max_zoom",
        "min_native_zoom",
        "min_zoom",
        "no_wrap",
        "tile_size",
        "tms"
       ],
       "url": "https://mt1.google.com/vt/lyrs=y&x={x}&y={y}&z={z}"
      }
     },
     "4a8c5735a40d4aaa9dd2b62ee6406815": {
      "model_module": "@jupyter-widgets/controls",
      "model_module_version": "1.5.0",
      "model_name": "DescriptionStyleModel",
      "state": {
       "description_width": ""
      }
     },
     "4adec527799a428f8f24970b61a24e06": {
      "model_module": "jupyter-leaflet",
      "model_module_version": "^0.15.0",
      "model_name": "LeafletDrawControlModel",
      "state": {
       "_model_module_version": "^0.15.0",
       "_view_module_version": "^0.15.0",
       "options": [
        "position"
       ],
       "polygon": {
        "allowIntersection": false,
        "drawError": {
         "color": "#dd253b",
         "message": "Ops!"
        },
        "shapeOptions": {
         "Opacity": 0.2,
         "color": "green",
         "fillColor": "green",
         "fillOpacity": 0.2
        },
        "transform": true
       },
       "polyline": {}
      }
     },
     "4b45db2882844ff0a46d889935b003b2": {
      "model_module": "@jupyter-widgets/base",
      "model_module_version": "1.2.0",
      "model_name": "LayoutModel",
      "state": {
       "height": "auto",
       "padding": "0px 0px 0px 4px",
       "width": "auto"
      }
     },
     "4c4eedcd34f4448db473ae2ef4cafb6b": {
      "model_module": "@jupyter-widgets/controls",
      "model_module_version": "1.5.0",
      "model_name": "DescriptionStyleModel",
      "state": {
       "description_width": ""
      }
     },
     "4e335183165d45deafba6922f115f3c4": {
      "model_module": "jupyter-leaflet",
      "model_module_version": "^0.15.0",
      "model_name": "LeafletAttributionControlModel",
      "state": {
       "_model_module_version": "^0.15.0",
       "_view_module_version": "^0.15.0",
       "options": [
        "position",
        "prefix"
       ],
       "position": "bottomright",
       "prefix": "ipyleaflet"
      }
     },
     "4eb0996a1d2e42d7b54de6417e70b4d9": {
      "model_module": "jupyter-leaflet",
      "model_module_version": "^0.15.0",
      "model_name": "LeafletTileLayerModel",
      "state": {
       "_model_module_version": "^0.15.0",
       "_view_module_version": "^0.15.0",
       "attribution": "Kaartgegevens (C) Kadaster",
       "max_native_zoom": 18,
       "max_zoom": 19,
       "min_native_zoom": 0,
       "name": "nlmaps.pastel",
       "options": [
        "attribution",
        "detect_retina",
        "max_native_zoom",
        "max_zoom",
        "min_native_zoom",
        "min_zoom",
        "no_wrap",
        "tile_size",
        "tms"
       ],
       "url": "https://service.pdok.nl/brt/achtergrondkaart/wmts/v2_0/pastel/EPSG:3857/{z}/{x}/{y}.png"
      }
     },
     "4f96e65964c24f7595da21afb1e48877": {
      "model_module": "jupyter-leaflet",
      "model_module_version": "^0.15.0",
      "model_name": "LeafletWMSLayerModel",
      "state": {
       "_model_module_version": "^0.15.0",
       "_view_module_version": "^0.15.0",
       "attribution": "USGS",
       "crs": {
        "custom": false,
        "name": "EPSG3857"
       },
       "format": "image/png",
       "layers": "33DEPElevation:Hillshade Elevation Tinted",
       "max_native_zoom": 18,
       "min_native_zoom": 0,
       "name": "USGS 3DEP Elevation",
       "options": [
        "attribution",
        "detect_retina",
        "format",
        "layers",
        "max_native_zoom",
        "max_zoom",
        "min_native_zoom",
        "min_zoom",
        "no_wrap",
        "styles",
        "tile_size",
        "tms",
        "transparent",
        "uppercase"
       ],
       "transparent": true,
       "url": "https://elevation.nationalmap.gov/arcgis/services/3DEPElevation/ImageServer/WMSServer?"
      }
     },
     "50488e9410d24aa29efee82924237c2e": {
      "model_module": "@jupyter-widgets/controls",
      "model_module_version": "1.5.0",
      "model_name": "DescriptionStyleModel",
      "state": {
       "description_width": ""
      }
     },
     "510f7161f6004aae9835a7378a06dfb5": {
      "model_module": "@jupyter-widgets/controls",
      "model_module_version": "1.5.0",
      "model_name": "ToggleButtonModel",
      "state": {
       "button_style": "primary",
       "icon": "search",
       "layout": "IPY_MODEL_84727ff4ec6b47eaabe5b5487f586657",
       "style": "IPY_MODEL_1948c019e20d4226a8e0116c6e0adcb5",
       "tooltip": "Search XYZ tile services"
      }
     },
     "51a05e6358a24b468b8ea242557227f7": {
      "model_module": "@jupyter-widgets/controls",
      "model_module_version": "1.5.0",
      "model_name": "HTMLModel",
      "state": {
       "layout": "IPY_MODEL_d592454be8f4483d8dbef8e2b2c45718",
       "style": "IPY_MODEL_627b89cd079348bfa2fc132e410a8730",
       "value": "Location:(-120.33657115772523,34.05742208720035)"
      }
     },
     "51b31009df1d4cbcbfb72346b1a2a489": {
      "model_module": "@jupyter-widgets/controls",
      "model_module_version": "1.5.0",
      "model_name": "VBoxModel",
      "state": {
       "_view_count": 3,
       "children": [
        "IPY_MODEL_44988c2cc115405f8fdeab13485a1da0"
       ],
       "layout": "IPY_MODEL_fcbc82cabc6c4f5f8eda3a180317e59b"
      }
     },
     "51cfd9d3fed940838bb243792cedeb23": {
      "model_module": "@jupyter-widgets/controls",
      "model_module_version": "1.5.0",
      "model_name": "DescriptionStyleModel",
      "state": {
       "description_width": ""
      }
     },
     "51f3d5da9be242aca7bf8ebd1a17d764": {
      "model_module": "jupyter-leaflet",
      "model_module_version": "^0.15.0",
      "model_name": "LeafletTileLayerModel",
      "state": {
       "_model_module_version": "^0.15.0",
       "_view_module_version": "^0.15.0",
       "attribution": "&copy; <a href=\"https://www.openstreetmap.org/copyright\">OpenStreetMap</a> contributors",
       "base": true,
       "max_native_zoom": 18,
       "max_zoom": 19,
       "min_native_zoom": 0,
       "min_zoom": 1,
       "name": "OpenStreetMap",
       "options": [
        "attribution",
        "detect_retina",
        "max_native_zoom",
        "max_zoom",
        "min_native_zoom",
        "min_zoom",
        "no_wrap",
        "tile_size",
        "tms"
       ],
       "url": "https://a.tile.openstreetmap.org/{z}/{x}/{y}.png"
      }
     },
     "538561a2076b4df08a5952e2e33fda4e": {
      "model_module": "jupyter-leaflet",
      "model_module_version": "^0.15.0",
      "model_name": "LeafletWMSLayerModel",
      "state": {
       "_model_module_version": "^0.15.0",
       "_view_module_version": "^0.15.0",
       "attribution": "MRLC",
       "crs": {
        "custom": false,
        "name": "EPSG3857"
       },
       "format": "image/png",
       "layers": "NLCD_2016_Land_Cover_L48",
       "max_native_zoom": 18,
       "min_native_zoom": 0,
       "name": "NLCD 2016 CONUS Land Cover",
       "options": [
        "attribution",
        "detect_retina",
        "format",
        "layers",
        "max_native_zoom",
        "max_zoom",
        "min_native_zoom",
        "min_zoom",
        "no_wrap",
        "styles",
        "tile_size",
        "tms",
        "transparent",
        "uppercase"
       ],
       "transparent": true,
       "url": "https://www.mrlc.gov/geoserver/mrlc_display/NLCD_2016_Land_Cover_L48/wms?"
      }
     },
     "5545d3f056ca4979b083bbca78050c61": {
      "model_module": "@jupyter-widgets/controls",
      "model_module_version": "1.5.0",
      "model_name": "DescriptionStyleModel",
      "state": {
       "description_width": ""
      }
     },
     "5587ad64e7564284a9ab2e42e8636544": {
      "model_module": "jupyter-leaflet",
      "model_module_version": "^0.15.0",
      "model_name": "LeafletTileLayerModel",
      "state": {
       "_model_module_version": "^0.15.0",
       "_view_module_version": "^0.15.0",
       "attribution": "Geoportail France",
       "max_native_zoom": 18,
       "max_zoom": 20,
       "min_native_zoom": 0,
       "name": "GeoportailFrance.parcels",
       "options": [
        "attribution",
        "detect_retina",
        "max_native_zoom",
        "max_zoom",
        "min_native_zoom",
        "min_zoom",
        "no_wrap",
        "tile_size",
        "tms"
       ],
       "url": "https://wxs.ign.fr/choisirgeoportail/geoportail/wmts?REQUEST=GetTile&SERVICE=WMTS&VERSION=1.0.0&STYLE=PCI vecteur&TILEMATRIXSET=PM&FORMAT=image/png&LAYER=CADASTRALPARCELS.PARCELLAIRE_EXPRESS&TILEMATRIX={z}&TILEROW={y}&TILECOL={x}"
      }
     },
     "567478e72438448381a52980d13b3358": {
      "model_module": "jupyter-leaflet",
      "model_module_version": "^0.15.0",
      "model_name": "LeafletMapStyleModel",
      "state": {
       "_model_module_version": "^0.15.0"
      }
     },
     "57221879e6d44bc3bde14103b1b7fa67": {
      "model_module": "@jupyter-widgets/controls",
      "model_module_version": "1.5.0",
      "model_name": "DescriptionStyleModel",
      "state": {
       "description_width": ""
      }
     },
     "576fe869ee1e4036a090dbe01d0580b6": {
      "model_module": "@jupyter-widgets/controls",
      "model_module_version": "1.5.0",
      "model_name": "ToggleButtonModel",
      "state": {
       "button_style": "primary",
       "icon": "gears",
       "layout": "IPY_MODEL_704a99c30eb149ddb8914ff14c38210f",
       "style": "IPY_MODEL_5545d3f056ca4979b083bbca78050c61",
       "tooltip": "WhiteboxTools for local geoprocessing"
      }
     },
     "57e6d2524bf9435fa5038fc55f2b699a": {
      "model_module": "@jupyter-widgets/base",
      "model_module_version": "1.2.0",
      "model_name": "LayoutModel",
      "state": {}
     },
     "59151a3bdea54033a76dc34b7612836a": {
      "model_module": "jupyter-leaflet",
      "model_module_version": "^0.15.0",
      "model_name": "LeafletMarkerModel",
      "state": {
       "_model_module_version": "^0.15.0",
       "_view_module_version": "^0.15.0",
       "draggable": false,
       "location": [
        34.06015860823383,
        -120.33708348625552
       ],
       "options": [
        "alt",
        "draggable",
        "keyboard",
        "rise_offset",
        "rise_on_hover",
        "rotation_angle",
        "rotation_origin",
        "title",
        "z_index_offset"
       ],
       "popup": "IPY_MODEL_cd4b13aafba94bc39ef9f904d9cce318",
       "title": "Location:(-120.33708348625552,34.06015860823383)"
      }
     },
     "59f038fe5f384064b0471ed6547fa1d5": {
      "model_module": "jupyter-leaflet",
      "model_module_version": "^0.15.0",
      "model_name": "LeafletTileLayerModel",
      "state": {
       "_model_module_version": "^0.15.0",
       "_view_module_version": "^0.15.0",
       "attribution": "(C) OpenStreetMap contributors (C) CARTO",
       "max_native_zoom": 18,
       "max_zoom": 20,
       "min_native_zoom": 0,
       "name": "CartoDB.DarkMatterNoLabels",
       "options": [
        "attribution",
        "detect_retina",
        "max_native_zoom",
        "max_zoom",
        "min_native_zoom",
        "min_zoom",
        "no_wrap",
        "tile_size",
        "tms"
       ],
       "url": "https://a.basemaps.cartocdn.com/dark_nolabels/{z}/{x}/{y}.png"
      }
     },
     "5a2873cd09a54d3e973220c7c11bdd3d": {
      "model_module": "@jupyter-widgets/base",
      "model_module_version": "1.2.0",
      "model_name": "LayoutModel",
      "state": {
       "height": "auto",
       "padding": "0px 0px 0px 4px",
       "width": "auto"
      }
     },
     "5a3a990f93d14a3e8826730325275bc2": {
      "model_module": "@jupyter-widgets/controls",
      "model_module_version": "1.5.0",
      "model_name": "DescriptionStyleModel",
      "state": {
       "description_width": ""
      }
     },
     "5a94da869f564a28b46afbf2f05d2491": {
      "model_module": "@jupyter-widgets/controls",
      "model_module_version": "1.5.0",
      "model_name": "ToggleButtonModel",
      "state": {
       "button_style": "primary",
       "icon": "question",
       "layout": "IPY_MODEL_c9fba007c1b8470f811467993435311a",
       "style": "IPY_MODEL_d7dc2984eae14d1da83df6b48451ad92",
       "tooltip": "Get help"
      }
     },
     "5c937b57c4c3485abd90b7986719e24c": {
      "model_module": "@here/map-widget-for-jupyter",
      "model_module_version": "^1.1.3",
      "model_name": "DefaultLayersModel",
      "state": {
       "_model_module": "@here/map-widget-for-jupyter",
       "_model_module_version": "^1.1.3",
       "_view_count": null,
       "_view_module": "@here/map-widget-for-jupyter",
       "_view_module_version": "^1.1.3",
       "layer_name": "raster.terrain.labels",
       "ppi": null
      }
     },
     "5d06cac0c3eb4655b22caba6915368af": {
      "model_module": "@jupyter-widgets/controls",
      "model_module_version": "1.5.0",
      "model_name": "DescriptionStyleModel",
      "state": {
       "description_width": ""
      }
     },
     "5dac2a23ac534988b68f0f571edc394a": {
      "model_module": "@jupyter-widgets/controls",
      "model_module_version": "1.5.0",
      "model_name": "ToggleButtonModel",
      "state": {
       "icon": "wrench",
       "layout": "IPY_MODEL_237f0a5accb643e7a62499a347051f63",
       "style": "IPY_MODEL_bcadf9dab8cb4350ab1f49394caf6c49",
       "tooltip": "Toolbar"
      }
     },
     "5df30e785677414a956843182cb4ce98": {
      "model_module": "jupyter-leaflet",
      "model_module_version": "^0.15.0",
      "model_name": "LeafletMapModel",
      "state": {
       "_model_module_version": "^0.15.0",
       "_view_module_version": "^0.15.0",
       "bottom": 419115.18173217773,
       "center": [
        34.016474746300055,
        -120.31488352768683
       ],
       "controls": [
        "IPY_MODEL_0d4dc909136e4356be4574c98f75ba9a",
        "IPY_MODEL_c1ba76d610d040188adf3bca4102e94e",
        "IPY_MODEL_22fd3c127f8b44bd88204dad97486a28",
        "IPY_MODEL_6ebf5dd9ae584d53af43a27d266613ac",
        "IPY_MODEL_e88f8a1e57c948c6a02c78ac0a4e7765"
       ],
       "default_style": "IPY_MODEL_cad2fe3b98f14430b2e9b63d6de2a834",
       "dragging_style": "IPY_MODEL_d1f9a09bb67c43af9f2806bc4f2cc8fc",
       "east": -120.11489802353644,
       "fullscreen": false,
       "interpolation": "bilinear",
       "layers": [
        "IPY_MODEL_51f3d5da9be242aca7bf8ebd1a17d764",
        "IPY_MODEL_628e0fc4b1c04ddb8f7ecbca651ca7bd",
        "IPY_MODEL_ded979680ec94297a9ceb5eb554d1e33",
        "IPY_MODEL_f68b066357da4993bbc3a572c5c5eeb8",
        "IPY_MODEL_cdd5f5ce1d17460a8c8b0e658e9d490a"
       ],
       "layout": "IPY_MODEL_ef70bd164c5f4ede9e07b1219a0a7308",
       "left": 173263,
       "max_zoom": 24,
       "modisdate": "2022-01-31",
       "north": 34.10185514030628,
       "options": [
        "bounce_at_zoom_limits",
        "box_zoom",
        "center",
        "close_popup_on_click",
        "double_click_zoom",
        "dragging",
        "fullscreen",
        "inertia",
        "inertia_deceleration",
        "inertia_max_speed",
        "interpolation",
        "keyboard",
        "keyboard_pan_offset",
        "keyboard_zoom_offset",
        "max_zoom",
        "min_zoom",
        "prefer_canvas",
        "scroll_wheel_zoom",
        "tap",
        "tap_tolerance",
        "touch_zoom",
        "world_copy_jump",
        "zoom",
        "zoom_animation_threshold",
        "zoom_delta",
        "zoom_snap",
        "zoom_start"
       ],
       "prefer_canvas": false,
       "right": 174428.00191686745,
       "scroll_wheel_zoom": true,
       "south": 33.93106016200679,
       "style": "IPY_MODEL_cad2fe3b98f14430b2e9b63d6de2a834",
       "top": 418515,
       "west": -120.51486968994142,
       "window_url": "http://localhost:8888/lab/tree/Prototype%207_v3.ipynb"
      }
     },
     "5ed1d5a9b9434d80b7d09dba394afcc7": {
      "model_module": "@jupyter-widgets/controls",
      "model_module_version": "1.5.0",
      "model_name": "DescriptionStyleModel",
      "state": {
       "description_width": ""
      }
     },
     "5ef64ceb82af47c793b0c8812a3a1975": {
      "model_module": "@jupyter-widgets/base",
      "model_module_version": "1.2.0",
      "model_name": "LayoutModel",
      "state": {
       "height": "auto",
       "padding": "0px 0px 0px 4px",
       "width": "auto"
      }
     },
     "6059ac49e83e4864b6a207da57b3d48b": {
      "model_module": "@jupyter-widgets/controls",
      "model_module_version": "1.5.0",
      "model_name": "DescriptionStyleModel",
      "state": {
       "description_width": ""
      }
     },
     "60d96192fece4f61a8d944d491d27650": {
      "model_module": "jupyter-leaflet",
      "model_module_version": "^0.15.0",
      "model_name": "LeafletTileLayerModel",
      "state": {
       "_model_module_version": "^0.15.0",
       "_view_module_version": "^0.15.0",
       "attribution": "Datenquelle: basemap.at",
       "max_native_zoom": 18,
       "max_zoom": 19,
       "min_native_zoom": 0,
       "name": "BasemapAT.highdpi",
       "options": [
        "attribution",
        "detect_retina",
        "max_native_zoom",
        "max_zoom",
        "min_native_zoom",
        "min_zoom",
        "no_wrap",
        "tile_size",
        "tms"
       ],
       "url": "https://maps.wien.gv.at/basemap/bmaphidpi/normal/google3857/{z}/{y}/{x}.jpeg"
      }
     },
     "61c7e080b784420fa26c360d184861d5": {
      "model_module": "jupyter-leaflet",
      "model_module_version": "^0.15.0",
      "model_name": "LeafletTileLayerModel",
      "state": {
       "_model_module_version": "^0.15.0",
       "_view_module_version": "^0.15.0",
       "attribution": "(C) OpenStreetMap contributors",
       "max_native_zoom": 18,
       "min_native_zoom": 0,
       "name": "OpenStreetMap.DE",
       "options": [
        "attribution",
        "detect_retina",
        "max_native_zoom",
        "max_zoom",
        "min_native_zoom",
        "min_zoom",
        "no_wrap",
        "tile_size",
        "tms"
       ],
       "url": "https://a.tile.openstreetmap.de/tiles/osmde/{z}/{x}/{y}.png"
      }
     },
     "623080a8e835441ca2f810a9a1ac22e8": {
      "model_module": "@jupyter-widgets/base",
      "model_module_version": "1.2.0",
      "model_name": "LayoutModel",
      "state": {
       "height": "auto",
       "padding": "0px 0px 0px 4px",
       "width": "auto"
      }
     },
     "627b89cd079348bfa2fc132e410a8730": {
      "model_module": "@jupyter-widgets/controls",
      "model_module_version": "1.5.0",
      "model_name": "DescriptionStyleModel",
      "state": {
       "description_width": ""
      }
     },
     "628e0fc4b1c04ddb8f7ecbca651ca7bd": {
      "model_module": "jupyter-leaflet",
      "model_module_version": "^0.15.0",
      "model_name": "LeafletGeoJSONModel",
      "state": {
       "_model_module_version": "^0.15.0",
       "_view_module_version": "^0.15.0",
       "data": {
        "features": [
         {
          "geometry": {
           "coordinates": [
            [
             -120.3598465,
             34.051975
            ],
            [
             -120.3578876,
             34.0498554
            ],
            [
             -120.35182126,
             34.0473705
            ],
            [
             -120.3476335,
             34.0466445
            ],
            [
             -120.344774,
             34.046634
            ],
            [
             -120.34089625,
             34.0469035
            ],
            [
             -120.338531,
             34.047883
            ],
            [
             -120.33549217,
             34.04880658
            ],
            [
             -120.3314254,
             34.0489278
            ],
            [
             -120.328965,
             34.04757117
            ],
            [
             -120.31379186,
             34.0385336
            ],
            [
             -120.31233204,
             34.03806815
            ],
            [
             -120.30720707,
             34.0290354
            ],
            [
             -120.30673856,
             34.0285051
            ],
            [
             -120.30661329,
             34.02591621
            ],
            [
             -120.30636746,
             34.02083577
            ],
            [
             -120.306811,
             34.0208165
            ],
            [
             -120.30992686,
             34.02007257
            ],
            [
             -120.313271,
             34.0194205
            ],
            [
             -120.31625467,
             34.019264
            ],
            [
             -120.32127125,
             34.01902524
            ],
            [
             -120.3267905,
             34.01943724
            ],
            [
             -120.332667,
             34.02000249
            ],
            [
             -120.3365985,
             34.020277
            ],
            [
             -120.3394634,
             34.0198506
            ],
            [
             -120.344516,
             34.0201495
            ],
            [
             -120.34799425,
             34.0200055
            ],
            [
             -120.35051534,
             34.0194351
            ],
            [
             -120.36231249,
             34.01262684
            ],
            [
             -120.37207267,
             34.01769121
            ],
            [
             -120.3765072,
             34.0199922
            ],
            [
             -120.3789085,
             34.02166775
            ],
            [
             -120.381135,
             34.023317
            ],
            [
             -120.38381,
             34.02463467
            ],
            [
             -120.38699,
             34.0248535
            ],
            [
             -120.39017,
             34.02543833
            ],
            [
             -120.3937034,
             34.026557
            ],
            [
             -120.3969965,
             34.0276845
            ],
            [
             -120.4023995,
             34.029426
            ],
            [
             -120.4052855,
             34.0305485
            ],
            [
             -120.40918467,
             34.03212167
            ],
            [
             -120.41202439,
             34.032376
            ],
            [
             -120.41604492,
             34.02956883
            ],
            [
             -120.42196618,
             34.02474645
            ],
            [
             -120.42240556,
             34.02465965
            ],
            [
             -120.42707988,
             34.02373633
            ],
            [
             -120.4379523,
             34.028977
            ],
            [
             -120.44707292,
             34.02967858
            ],
            [
             -120.45013555,
             34.02804483
            ],
            [
             -120.45280253,
             34.02944472
            ],
            [
             -120.45315333,
             34.03119868
            ],
            [
             -120.45197763,
             34.03193695
            ],
            [
             -120.45023005,
             34.03108176
            ],
            [
             -120.44870995,
             34.03119869
            ],
            [
             -120.44923063,
             34.03312314
            ],
            [
             -120.45206795,
             34.03438169
            ],
            [
             -120.45233481,
             34.03599286
            ],
            [
             -120.45117738,
             34.03662418
            ],
            [
             -120.44934845,
             34.03606033
            ],
            [
             -120.44799777,
             34.0374951
            ],
            [
             -120.44754295,
             34.03879706
            ],
            [
             -120.44664102,
             34.03929316
            ],
            [
             -120.44344037,
             34.03873809
            ],
            [
             -120.44110944,
             34.03833148
            ],
            [
             -120.43944419,
             34.0398117
            ],
            [
             -120.43520648,
             34.04095019
            ],
            [
             -120.434254,
             34.041588
            ],
            [
             -120.43190888,
             34.04435112
            ],
            [
             -120.43080167,
             34.04566907
            ],
            [
             -120.42748039,
             34.04841637
            ],
            [
             -120.42726315,
             34.04819562
            ],
            [
             -120.42608429,
             34.04867629
            ],
            [
             -120.42390826,
             34.0499736
            ],
            [
             -120.41951034,
             34.05827685
            ],
            [
             -120.41608208,
             34.05827685
            ],
            [
             -120.4044216,
             34.0508398
            ],
            [
             -120.40304716,
             34.05064426
            ],
            [
             -120.39551251,
             34.05214207
            ],
            [
             -120.38775381,
             34.05629207
            ],
            [
             -120.37094901,
             34.06947563
            ],
            [
             -120.3681604,
             34.07111165
            ],
            [
             -120.36870279,
             34.07260974
            ],
            [
             -120.37038338,
             34.07469166
            ],
            [
             -120.36915063,
             34.07662884
            ],
            [
             -120.36448377,
             34.07574831
            ],
            [
             -120.36122988,
             34.07379425
            ],
            [
             -120.36110476,
             34.06828871
            ],
            [
             -120.3583145,
             34.0662245
            ],
            [
             -120.3576995,
             34.06136675
            ],
            [
             -120.3556311,
             34.0586971
            ],
            [
             -120.35763966,
             34.05705766
            ],
            [
             -120.3601572,
             34.0555044
            ],
            [
             -120.3598465,
             34.051975
            ]
           ],
           "type": "LineString"
          },
          "id": "614",
          "properties": {
           "acc": 1,
           "exs": 44,
           "f_code": "BA010",
           "id": "xv279yj9196.612",
           "soc": "USA",
           "style": {
            "color": "yellow",
            "dashArray": "5",
            "fillOpacity": 0.5,
            "fill_color": "yellow",
            "opacity": 1,
            "weight": 4
           }
          },
          "type": "Feature"
         },
         {
          "geometry": {
           "coordinates": [
            [
             -120.43543592,
             34.05650021
            ],
            [
             -120.43546177,
             34.05474184
            ],
            [
             -120.43671912,
             34.05359626
            ],
            [
             -120.44274647,
             34.05493567
            ],
            [
             -120.44680262,
             34.05271747
            ],
            [
             -120.44962887,
             34.05259634
            ],
            [
             -120.45198857,
             34.05406632
            ],
            [
             -120.45224974,
             34.05632979
            ],
            [
             -120.45170602,
             34.05733954
            ],
            [
             -120.44887594,
             34.0579786
            ],
            [
             -120.4365846,
             34.05766742
            ],
            [
             -120.43543592,
             34.05650021
            ]
           ],
           "type": "LineString"
          },
          "id": "612",
          "properties": {
           "acc": 1,
           "exs": 44,
           "f_code": "BA010",
           "id": "xv279yj9196.610",
           "soc": "USA",
           "style": {
            "color": "yellow",
            "dashArray": "5",
            "fillOpacity": 0.5,
            "fill_color": "yellow",
            "opacity": 1,
            "weight": 4
           }
          },
          "type": "Feature"
         },
         {
          "geometry": {
           "coordinates": [
            [
             -120.33111739,
             34.05641353
            ],
            [
             -120.33278815,
             34.05517593
            ],
            [
             -120.33831466,
             34.05845729
            ],
            [
             -120.33799163,
             34.05968064
            ],
            [
             -120.3351123,
             34.06119607
            ],
            [
             -120.33463649,
             34.06133952
            ],
            [
             -120.3311813,
             34.06036964
            ],
            [
             -120.33011434,
             34.05853848
            ],
            [
             -120.33010538,
             34.05842605
            ],
            [
             -120.33111739,
             34.05641353
            ]
           ],
           "type": "LineString"
          },
          "id": "613",
          "properties": {
           "acc": 1,
           "exs": 44,
           "f_code": "BA010",
           "id": "xv279yj9196.611",
           "soc": "USA",
           "style": {
            "color": "yellow",
            "dashArray": "5",
            "fillOpacity": 0.5,
            "fill_color": "yellow",
            "opacity": 1,
            "weight": 4
           }
          },
          "type": "Feature"
         }
        ],
        "type": "FeatureCollection"
       },
       "hover_style": {
        "color": "white",
        "dashArray": "4",
        "fillOpacity": 0.7
       },
       "style": {
        "color": "yellow",
        "dashArray": "5",
        "fillOpacity": 0.5,
        "fill_color": "yellow",
        "opacity": 1,
        "weight": 4
       }
      }
     },
     "63a81a265da74bc3bfcab6bf1ff6e6de": {
      "model_module": "jupyter-leaflet",
      "model_module_version": "^0.15.0",
      "model_name": "LeafletDrawControlModel",
      "state": {
       "_model_module_version": "^0.15.0",
       "_view_module_version": "^0.15.0",
       "options": [
        "position"
       ],
       "polygon": {
        "allowIntersection": false,
        "drawError": {
         "color": "#dd253b",
         "message": "Ops!"
        },
        "shapeOptions": {
         "Opacity": 0.2,
         "color": "green",
         "fillColor": "green",
         "fillOpacity": 0.2
        },
        "transform": true
       },
       "polyline": {}
      }
     },
     "6503d7aaffb048668c61987b0a872ae9": {
      "model_module": "jupyter-leaflet",
      "model_module_version": "^0.15.0",
      "model_name": "LeafletMapStyleModel",
      "state": {
       "_model_module_version": "^0.15.0"
      }
     },
     "655698e902fb4edc899d2409253af71b": {
      "model_module": "jupyter-leaflet",
      "model_module_version": "^0.15.0",
      "model_name": "LeafletWMSLayerModel",
      "state": {
       "_model_module_version": "^0.15.0",
       "_view_module_version": "^0.15.0",
       "attribution": "FWS",
       "crs": {
        "custom": false,
        "name": "EPSG3857"
       },
       "format": "image/png",
       "layers": "1",
       "max_native_zoom": 18,
       "min_native_zoom": 0,
       "name": "FWS NWI Wetlands",
       "options": [
        "attribution",
        "detect_retina",
        "format",
        "layers",
        "max_native_zoom",
        "max_zoom",
        "min_native_zoom",
        "min_zoom",
        "no_wrap",
        "styles",
        "tile_size",
        "tms",
        "transparent",
        "uppercase"
       ],
       "transparent": true,
       "url": "https://www.fws.gov/wetlands/arcgis/services/Wetlands/MapServer/WMSServer?"
      }
     },
     "65cb7b05d12c409cb5d6d6f1041ed1c1": {
      "model_module": "@jupyter-widgets/controls",
      "model_module_version": "1.5.0",
      "model_name": "ToggleButtonModel",
      "state": {
       "button_style": "primary",
       "icon": "globe",
       "layout": "IPY_MODEL_8b6d3b57082c4e18aa8f3b766d6a4148",
       "style": "IPY_MODEL_9af71b14e5df4e48b65a250b50788d84",
       "tooltip": "Split-panel map"
      }
     },
     "65d7b7725d1b4997ad0a298d79b0a474": {
      "model_module": "@jupyter-widgets/controls",
      "model_module_version": "1.5.0",
      "model_name": "HTMLModel",
      "state": {
       "layout": "IPY_MODEL_7e458a9066454253995369aa63cf89cc",
       "style": "IPY_MODEL_7eed02040f234f48ae661d8818c9c23b",
       "value": "Location:(-120.43725897569914,34.05371622783362)"
      }
     },
     "66fec9be70c2488687effc0de1c672bd": {
      "model_module": "@jupyter-widgets/base",
      "model_module_version": "1.2.0",
      "model_name": "LayoutModel",
      "state": {
       "height": "28px",
       "padding": "0px 0px 0px 4px",
       "width": "28px"
      }
     },
     "67b47cf416d74401890089f9358c4746": {
      "model_module": "jupyter-leaflet",
      "model_module_version": "^0.15.0",
      "model_name": "LeafletTileLayerModel",
      "state": {
       "_model_module_version": "^0.15.0",
       "_view_module_version": "^0.15.0",
       "attribution": "(C) OpenStreetMap contributors (C) CARTO",
       "max_native_zoom": 18,
       "max_zoom": 20,
       "min_native_zoom": 0,
       "name": "CartoDB.VoyagerLabelsUnder",
       "options": [
        "attribution",
        "detect_retina",
        "max_native_zoom",
        "max_zoom",
        "min_native_zoom",
        "min_zoom",
        "no_wrap",
        "tile_size",
        "tms"
       ],
       "url": "https://a.basemaps.cartocdn.com/rastertiles/voyager_labels_under/{z}/{x}/{y}.png"
      }
     },
     "67d3e9792dbc4f2d84ca847d793a71c7": {
      "model_module": "@jupyter-widgets/controls",
      "model_module_version": "1.5.0",
      "model_name": "DescriptionStyleModel",
      "state": {
       "description_width": ""
      }
     },
     "684a7dd512af4624851ff883b04ef565": {
      "model_module": "jupyter-leaflet",
      "model_module_version": "^0.15.0",
      "model_name": "LeafletZoomControlModel",
      "state": {
       "_model_module_version": "^0.15.0",
       "_view_module_version": "^0.15.0",
       "options": [
        "position",
        "zoom_in_text",
        "zoom_in_title",
        "zoom_out_text",
        "zoom_out_title"
       ]
      }
     },
     "68a1d2e3fca1407fab4e9cd1233e3fa7": {
      "model_module": "jupyter-leaflet",
      "model_module_version": "^0.15.0",
      "model_name": "LeafletTileLayerModel",
      "state": {
       "_model_module_version": "^0.15.0",
       "_view_module_version": "^0.15.0",
       "attribution": "(C) Stadia Maps, (C) OpenMapTiles (C) OpenStreetMap contributors",
       "max_native_zoom": 18,
       "max_zoom": 20,
       "min_native_zoom": 0,
       "name": "Stadia.AlidadeSmoothDark",
       "options": [
        "attribution",
        "detect_retina",
        "max_native_zoom",
        "max_zoom",
        "min_native_zoom",
        "min_zoom",
        "no_wrap",
        "tile_size",
        "tms"
       ],
       "url": "https://tiles.stadiamaps.com/tiles/alidade_smooth_dark/{z}/{x}/{y}.png"
      }
     },
     "68a9bdd3e9b84213aeed504eb6fecbbf": {
      "model_module": "@jupyter-widgets/base",
      "model_module_version": "1.2.0",
      "model_name": "LayoutModel",
      "state": {
       "height": "auto",
       "padding": "0px 0px 0px 4px",
       "width": "auto"
      }
     },
     "68da94bdde2b438dbe68d2bb2cd0fc44": {
      "model_module": "jupyter-leaflet",
      "model_module_version": "^0.15.0",
      "model_name": "LeafletMarkerModel",
      "state": {
       "_model_module_version": "^0.15.0",
       "_view_module_version": "^0.15.0",
       "draggable": false,
       "location": [
        34.051975,
        -120.3598465
       ],
       "options": [
        "alt",
        "draggable",
        "keyboard",
        "rise_offset",
        "rise_on_hover",
        "rotation_angle",
        "rotation_origin",
        "title",
        "z_index_offset"
       ],
       "popup": "IPY_MODEL_e7d15ef09e5246019b13793216fd758b",
       "title": "Location:(-120.3598465,34.051975)"
      }
     },
     "68ea7b02f0114197a22d1d148fb8dedf": {
      "model_module": "@jupyter-widgets/base",
      "model_module_version": "1.2.0",
      "model_name": "LayoutModel",
      "state": {
       "height": "28px",
       "width": "72px"
      }
     },
     "690a30c52f6d408e9a4c19637f524976": {
      "model_module": "@jupyter-widgets/controls",
      "model_module_version": "1.5.0",
      "model_name": "HTMLModel",
      "state": {
       "layout": "IPY_MODEL_15cdd848e3f2420baa0e9781b3f63935",
       "style": "IPY_MODEL_402169ba946e4adc96d4b9358389377e",
       "value": "Location:(-120.42036365010279,34.02605157899716)"
      }
     },
     "699dd5224fef49708dff60b8cdae74fb": {
      "model_module": "jupyter-leaflet",
      "model_module_version": "^0.15.0",
      "model_name": "LeafletTileLayerModel",
      "state": {
       "_model_module_version": "^0.15.0",
       "_view_module_version": "^0.15.0",
       "attribution": "(C) OpenStreetMap contributors (C) CARTO",
       "max_native_zoom": 18,
       "max_zoom": 20,
       "min_native_zoom": 0,
       "name": "CartoDB.PositronNoLabels",
       "options": [
        "attribution",
        "detect_retina",
        "max_native_zoom",
        "max_zoom",
        "min_native_zoom",
        "min_zoom",
        "no_wrap",
        "tile_size",
        "tms"
       ],
       "url": "https://a.basemaps.cartocdn.com/light_nolabels/{z}/{x}/{y}.png"
      }
     },
     "69ff60c22428443593c478e00434deee": {
      "model_module": "jupyter-leaflet",
      "model_module_version": "^0.15.0",
      "model_name": "LeafletTileLayerModel",
      "state": {
       "_model_module_version": "^0.15.0",
       "_view_module_version": "^0.15.0",
       "attribution": "Justice Map",
       "max_native_zoom": 18,
       "max_zoom": 22,
       "min_native_zoom": 0,
       "name": "JusticeMap.black",
       "options": [
        "attribution",
        "detect_retina",
        "max_native_zoom",
        "max_zoom",
        "min_native_zoom",
        "min_zoom",
        "no_wrap",
        "tile_size",
        "tms"
       ],
       "url": "https://www.justicemap.org/tile/county/black/{z}/{x}/{y}.png"
      }
     },
     "6a1aed31ca444adca1f8037b2a56a212": {
      "model_module": "@jupyter-widgets/controls",
      "model_module_version": "1.5.0",
      "model_name": "DescriptionStyleModel",
      "state": {
       "description_width": ""
      }
     },
     "6a7ec1e254824910ba21236946885a56": {
      "model_module": "jupyter-leaflet",
      "model_module_version": "^0.15.0",
      "model_name": "LeafletMarkerModel",
      "state": {
       "_model_module_version": "^0.15.0",
       "_view_module_version": "^0.15.0",
       "draggable": false,
       "location": [
        34.05772752651861,
        -120.4389587553327
       ],
       "options": [
        "alt",
        "draggable",
        "keyboard",
        "rise_offset",
        "rise_on_hover",
        "rotation_angle",
        "rotation_origin",
        "title",
        "z_index_offset"
       ],
       "popup": "IPY_MODEL_f59a360b2b2648de8b83faa597b32891",
       "title": "Location:(-120.4389587553327,34.05772752651861)"
      }
     },
     "6be09f7c459f4fda92e10fb2bd26a5be": {
      "model_module": "jupyter-leaflet",
      "model_module_version": "^0.15.0",
      "model_name": "LeafletTileLayerModel",
      "state": {
       "_model_module_version": "^0.15.0",
       "_view_module_version": "^0.15.0",
       "attribution": "Tiles (C) Esri -- National Geographic, Esri, DeLorme, NAVTEQ, UNEP-WCMC, USGS, NASA, ESA, METI, NRCAN, GEBCO, NOAA, iPC",
       "max_native_zoom": 18,
       "max_zoom": 16,
       "min_native_zoom": 0,
       "name": "Esri.NatGeoWorldMap",
       "options": [
        "attribution",
        "detect_retina",
        "max_native_zoom",
        "max_zoom",
        "min_native_zoom",
        "min_zoom",
        "no_wrap",
        "tile_size",
        "tms"
       ],
       "url": "https://server.arcgisonline.com/ArcGIS/rest/services/NatGeo_World_Map/MapServer/tile/{z}/{y}/{x}"
      }
     },
     "6d60ef7a6a444daabce7c7bd4f262463": {
      "model_module": "jupyter-leaflet",
      "model_module_version": "^0.15.0",
      "model_name": "LeafletTileLayerModel",
      "state": {
       "_model_module_version": "^0.15.0",
       "_view_module_version": "^0.15.0",
       "attribution": "Imagery provided by services from the Global Imagery Browse Services (GIBS), operated by the NASA/GSFC/Earth Science Data and Information System (ESDIS) with funding provided by NASA/HQ.",
       "max_native_zoom": 18,
       "max_zoom": 7,
       "min_native_zoom": 0,
       "name": "NASAGIBS.ModisTerraLSTDay",
       "options": [
        "attribution",
        "detect_retina",
        "max_native_zoom",
        "max_zoom",
        "min_native_zoom",
        "min_zoom",
        "no_wrap",
        "tile_size",
        "tms"
       ],
       "url": "https://map1.vis.earthdata.nasa.gov/wmts-webmerc/MODIS_Terra_Land_Surface_Temp_Day/default//GoogleMapsCompatible_Level7/{z}/{y}/{x}.png"
      }
     },
     "6e3ed3ae21ab4ee4883248143eac061f": {
      "model_module": "@jupyter-widgets/controls",
      "model_module_version": "1.5.0",
      "model_name": "HTMLModel",
      "state": {
       "layout": "IPY_MODEL_7b4fe6376c024df2a8b28bc409735e02",
       "style": "IPY_MODEL_15873f0d089f449cb0aa0a8d1b109d70",
       "value": "Location:(-120.44485544798098,34.05378232632252)"
      }
     },
     "6eaa4943ef4746b4bff113f0cded1aa4": {
      "model_module": "@jupyter-widgets/base",
      "model_module_version": "1.2.0",
      "model_name": "LayoutModel",
      "state": {}
     },
     "6ebf5dd9ae584d53af43a27d266613ac": {
      "model_module": "jupyter-leaflet",
      "model_module_version": "^0.15.0",
      "model_name": "LeafletWidgetControlModel",
      "state": {
       "_model_module": "jupyter-leaflet",
       "_model_module_version": "^0.15.0",
       "_view_count": null,
       "_view_module": "jupyter-leaflet",
       "_view_module_version": "^0.15.0",
       "options": [
        "position",
        "transparent_bg"
       ],
       "position": "topright",
       "widget": "IPY_MODEL_15a03447f78a4b17b0a00c7a7956725d"
      }
     },
     "6edf7df1c7464167ae70e56e931a5049": {
      "model_module": "jupyter-leaflet",
      "model_module_version": "^0.15.0",
      "model_name": "LeafletTileLayerModel",
      "state": {
       "_model_module_version": "^0.15.0",
       "_view_module_version": "^0.15.0",
       "attribution": "Imagery provided by services from the Global Imagery Browse Services (GIBS), operated by the NASA/GSFC/Earth Science Data and Information System (<a href=\"https://earthdata.nasa.gov\">ESDIS</a>) with funding provided by NASA/HQ.",
       "max_native_zoom": 18,
       "max_zoom": 9,
       "min_native_zoom": 0,
       "name": "NASAGIBS.ModisAquaBands721CR",
       "options": [
        "attribution",
        "detect_retina",
        "max_native_zoom",
        "max_zoom",
        "min_native_zoom",
        "min_zoom",
        "no_wrap",
        "tile_size",
        "tms"
       ],
       "url": "https://gibs.earthdata.nasa.gov/wmts/epsg3857/best/MODIS_Aqua_CorrectedReflectance_Bands721/default//GoogleMapsCompatible_Level9/{z}/{y}/{x}.jpg"
      }
     },
     "6f0b82ca30864c71899784c89d1ae88e": {
      "model_module": "@jupyter-widgets/base",
      "model_module_version": "1.2.0",
      "model_name": "LayoutModel",
      "state": {}
     },
     "6fc723df08bf4b758eb97fe9fd370244": {
      "model_module": "@jupyter-widgets/base",
      "model_module_version": "1.2.0",
      "model_name": "LayoutModel",
      "state": {
       "height": "auto",
       "padding": "0px 0px 0px 4px",
       "width": "auto"
      }
     },
     "7006b828f88c49c1afa627dd38342a01": {
      "model_module": "jupyter-leaflet",
      "model_module_version": "^0.15.0",
      "model_name": "LeafletTileLayerModel",
      "state": {
       "_model_module_version": "^0.15.0",
       "_view_module_version": "^0.15.0",
       "attribution": "(C) Stadia Maps, (C) OpenMapTiles (C) OpenStreetMap contributors",
       "max_native_zoom": 18,
       "max_zoom": 20,
       "min_native_zoom": 0,
       "name": "Stadia.OSMBright",
       "options": [
        "attribution",
        "detect_retina",
        "max_native_zoom",
        "max_zoom",
        "min_native_zoom",
        "min_zoom",
        "no_wrap",
        "tile_size",
        "tms"
       ],
       "url": "https://tiles.stadiamaps.com/tiles/osm_bright/{z}/{x}/{y}.png"
      }
     },
     "704a99c30eb149ddb8914ff14c38210f": {
      "model_module": "@jupyter-widgets/base",
      "model_module_version": "1.2.0",
      "model_name": "LayoutModel",
      "state": {
       "height": "auto",
       "padding": "0px 0px 0px 4px",
       "width": "auto"
      }
     },
     "705d95aa0958486e971c07ce7ef7542b": {
      "model_module": "@jupyter-widgets/controls",
      "model_module_version": "1.5.0",
      "model_name": "DescriptionStyleModel",
      "state": {
       "description_width": ""
      }
     },
     "70bca8716a514504bb31106cdcb3bff4": {
      "model_module": "@jupyter-widgets/controls",
      "model_module_version": "1.5.0",
      "model_name": "ToggleButtonModel",
      "state": {
       "button_style": "primary",
       "icon": "smile-o",
       "layout": "IPY_MODEL_bce8a9de42ce48cea7c5786dc6423a86",
       "style": "IPY_MODEL_2037d8fd63df4cc79694e48a4de054f0",
       "tooltip": "This is a placeholder"
      }
     },
     "70d4c504af1c4f97b57391368c636f9a": {
      "model_module": "@jupyter-widgets/controls",
      "model_module_version": "1.5.0",
      "model_name": "VBoxModel",
      "state": {
       "children": [
        "IPY_MODEL_851fb2dc7b5a4ba7aa4726eec9c56802"
       ],
       "layout": "IPY_MODEL_23063d8a3aba435391dc42c4e3859116"
      }
     },
     "71180c1b7dcc472799e2be497e0be7b6": {
      "model_module": "@jupyter-widgets/base",
      "model_module_version": "1.2.0",
      "model_name": "LayoutModel",
      "state": {
       "height": "auto",
       "padding": "0px 0px 0px 4px",
       "width": "auto"
      }
     },
     "715b6d40e71147d9b5d0b656a88af2c6": {
      "model_module": "jupyter-leaflet",
      "model_module_version": "^0.15.0",
      "model_name": "LeafletTileLayerModel",
      "state": {
       "_model_module_version": "^0.15.0",
       "_view_module_version": "^0.15.0",
       "attribution": "Map data: (C) OpenStreetMap contributors | Map style: (C) waymarkedtrails.org (CC-BY-SA)",
       "max_native_zoom": 18,
       "min_native_zoom": 0,
       "name": "WaymarkedTrails.mtb",
       "options": [
        "attribution",
        "detect_retina",
        "max_native_zoom",
        "max_zoom",
        "min_native_zoom",
        "min_zoom",
        "no_wrap",
        "tile_size",
        "tms"
       ],
       "url": "https://tile.waymarkedtrails.org/mtb/{z}/{x}/{y}.png"
      }
     },
     "7167b79374a54198aeb7568e2b6184c9": {
      "model_module": "jupyter-leaflet",
      "model_module_version": "^0.15.0",
      "model_name": "LeafletTileLayerModel",
      "state": {
       "_model_module_version": "^0.15.0",
       "_view_module_version": "^0.15.0",
       "attribution": "Tiles (C) Esri -- Copyright: (C)2012 DeLorme",
       "max_native_zoom": 18,
       "max_zoom": 11,
       "min_native_zoom": 0,
       "name": "Esri.DeLorme",
       "options": [
        "attribution",
        "detect_retina",
        "max_native_zoom",
        "max_zoom",
        "min_native_zoom",
        "min_zoom",
        "no_wrap",
        "tile_size",
        "tms"
       ],
       "url": "https://server.arcgisonline.com/ArcGIS/rest/services/Specialty/DeLorme_World_Base_Map/MapServer/tile/{z}/{y}/{x}"
      }
     },
     "71d1f8b38f3b4bf99fd55abf7060d4e0": {
      "model_module": "@here/map-widget-for-jupyter",
      "model_module_version": "^1.1.3",
      "model_name": "DefaultLayersModel",
      "state": {
       "_model_module": "@here/map-widget-for-jupyter",
       "_model_module_version": "^1.1.3",
       "_view_count": null,
       "_view_module": "@here/map-widget-for-jupyter",
       "_view_module_version": "^1.1.3",
       "layer_name": "raster.normal.basenight",
       "ppi": null
      }
     },
     "72bed9dea0b44bc2a5919b32ce7ad926": {
      "model_module": "@jupyter-widgets/base",
      "model_module_version": "1.2.0",
      "model_name": "LayoutModel",
      "state": {}
     },
     "72cfc5dd1ac446f89375c4cfd612bbdf": {
      "model_module": "@jupyter-widgets/base",
      "model_module_version": "1.2.0",
      "model_name": "LayoutModel",
      "state": {
       "height": "28px",
       "padding": "0px 0px 0px 4px",
       "width": "28px"
      }
     },
     "7521da379428449db040216006b463ce": {
      "model_module": "jupyter-leaflet",
      "model_module_version": "^0.15.0",
      "model_name": "LeafletTileLayerModel",
      "state": {
       "_model_module_version": "^0.15.0",
       "_view_module_version": "^0.15.0",
       "attribution": "(C) OpenStreetMap contributors (C) CARTO",
       "max_native_zoom": 18,
       "max_zoom": 20,
       "min_native_zoom": 0,
       "name": "CartoDB.Positron",
       "options": [
        "attribution",
        "detect_retina",
        "max_native_zoom",
        "max_zoom",
        "min_native_zoom",
        "min_zoom",
        "no_wrap",
        "tile_size",
        "tms"
       ],
       "url": "https://a.basemaps.cartocdn.com/light_all/{z}/{x}/{y}.png"
      }
     },
     "75db76a0de794468a915590dc608de78": {
      "model_module": "jupyter-leaflet",
      "model_module_version": "^0.15.0",
      "model_name": "LeafletTileLayerModel",
      "state": {
       "_model_module_version": "^0.15.0",
       "_view_module_version": "^0.15.0",
       "attribution": "Datenquelle: basemap.at",
       "max_native_zoom": 18,
       "max_zoom": 19,
       "min_native_zoom": 0,
       "name": "BasemapAT.surface",
       "options": [
        "attribution",
        "detect_retina",
        "max_native_zoom",
        "max_zoom",
        "min_native_zoom",
        "min_zoom",
        "no_wrap",
        "tile_size",
        "tms"
       ],
       "url": "https://maps.wien.gv.at/basemap/bmapoberflaeche/grau/google3857/{z}/{y}/{x}.jpeg"
      }
     },
     "760519f508ef4cc2bd5e8011d281c737": {
      "model_module": "@jupyter-widgets/controls",
      "model_module_version": "1.5.0",
      "model_name": "HTMLModel",
      "state": {
       "layout": "IPY_MODEL_d5a2fcc4c1be40e1896abdd60960f2c0",
       "style": "IPY_MODEL_57221879e6d44bc3bde14103b1b7fa67",
       "value": "Location:(-120.45094122767935,34.057512237655345)"
      }
     },
     "764763ec6b7444efb4ac7c6f1e12a8b0": {
      "model_module": "jupyter-leaflet",
      "model_module_version": "^0.15.0",
      "model_name": "LeafletMarkerModel",
      "state": {
       "_model_module_version": "^0.15.0",
       "_view_module_version": "^0.15.0",
       "draggable": false,
       "location": [
        34.055216973483816,
        -120.3328572759794
       ],
       "options": [
        "alt",
        "draggable",
        "keyboard",
        "rise_offset",
        "rise_on_hover",
        "rotation_angle",
        "rotation_origin",
        "title",
        "z_index_offset"
       ],
       "popup": "IPY_MODEL_f6accd2a78054bd9aeabfa1ea4f3cdc7",
       "title": "Location:(-120.3328572759794,34.055216973483816)"
      }
     },
     "76c1c16ac8c14ab9b4207baa88f7ae80": {
      "model_module": "jupyter-leaflet",
      "model_module_version": "^0.15.0",
      "model_name": "LeafletTileLayerModel",
      "state": {
       "_model_module_version": "^0.15.0",
       "_view_module_version": "^0.15.0",
       "attribution": "(C) OpenStreetMap contributors, Tiles courtesy of Breton OpenStreetMap Team",
       "max_native_zoom": 18,
       "max_zoom": 19,
       "min_native_zoom": 0,
       "name": "OpenStreetMap.BZH",
       "options": [
        "attribution",
        "detect_retina",
        "max_native_zoom",
        "max_zoom",
        "min_native_zoom",
        "min_zoom",
        "no_wrap",
        "tile_size",
        "tms"
       ],
       "url": "https://tile.openstreetmap.bzh/br/{z}/{x}/{y}.png"
      }
     },
     "7716e96873284f53bf918d40bc112b7f": {
      "model_module": "jupyter-leaflet",
      "model_module_version": "^0.15.0",
      "model_name": "LeafletGeoJSONModel",
      "state": {
       "_model_module_version": "^0.15.0",
       "_view_module_version": "^0.15.0",
       "data": {
        "features": [
         {
          "geometry": {
           "coordinates": [
            [
             [
              -75.642101,
              35.78715
             ],
             [
              -75.642101,
              35.82715
             ],
             [
              -75.602101,
              35.82715
             ],
             [
              -75.602101,
              35.78715
             ],
             [
              -75.642101,
              35.78715
             ]
            ]
           ],
           "type": "Polygon"
          },
          "properties": {
           "id": 19,
           "style": {
            "color": "blue",
            "fillColor": "grey",
            "fillOpacity": 0.2,
            "weight": 2
           }
          },
          "type": "Feature"
         },
         {
          "geometry": {
           "coordinates": [
            [
             [
              -75.62316,
              35.890865
             ],
             [
              -75.62316,
              35.930865
             ],
             [
              -75.58316,
              35.930865
             ],
             [
              -75.58316,
              35.890865
             ],
             [
              -75.62316,
              35.890865
             ]
            ]
           ],
           "type": "Polygon"
          },
          "properties": {
           "id": 69,
           "style": {
            "color": "blue",
            "fillColor": "grey",
            "fillOpacity": 0.2,
            "weight": 2
           }
          },
          "type": "Feature"
         }
        ],
        "type": "FeatureCollection"
       },
       "hover_style": {
        "fillColor": "blue"
       },
       "name": "Selected ROIs"
      }
     },
     "77bcb12851514411975fa56d209fec55": {
      "model_module": "jupyter-leaflet",
      "model_module_version": "^0.15.0",
      "model_name": "LeafletTileLayerModel",
      "state": {
       "_model_module_version": "^0.15.0",
       "_view_module_version": "^0.15.0",
       "attribution": "![](https://docs.onemap.sg/maps/images/oneMap64-01.png) New OneMap | Map data (C) contributors, Singapore Land Authority",
       "max_native_zoom": 18,
       "min_native_zoom": 0,
       "name": "OneMapSG.Default",
       "options": [
        "attribution",
        "detect_retina",
        "max_native_zoom",
        "max_zoom",
        "min_native_zoom",
        "min_zoom",
        "no_wrap",
        "tile_size",
        "tms"
       ],
       "url": "https://maps-a.onemap.sg/v3/Default/{z}/{x}/{y}.png"
      }
     },
     "78b5f771ee1c42ea9cab36ef3d1f45c5": {
      "model_module": "@jupyter-widgets/controls",
      "model_module_version": "1.5.0",
      "model_name": "HTMLModel",
      "state": {
       "layout": "IPY_MODEL_ae65c95abb844147ac19b6a9be119047",
       "style": "IPY_MODEL_974f00213a0a431d8e72187f5f4222ab",
       "value": "Location:(-120.3310979487329,34.06022658917686)"
      }
     },
     "7a04a81f0d51476698f594e50ac6adfa": {
      "model_module": "@jupyter-widgets/base",
      "model_module_version": "1.2.0",
      "model_name": "LayoutModel",
      "state": {}
     },
     "7add6dbdc4544199a85bc4e9db6079d4": {
      "model_module": "@jupyter-widgets/controls",
      "model_module_version": "1.5.0",
      "model_name": "ToggleButtonModel",
      "state": {
       "button_style": "primary",
       "icon": "question",
       "layout": "IPY_MODEL_ee3eb5bfffac429ca0f7d6cf0e718fec",
       "style": "IPY_MODEL_23e0554f43bc4a95b76cd3d0f146f617",
       "tooltip": "Get help"
      }
     },
     "7b4fe6376c024df2a8b28bc409735e02": {
      "model_module": "@jupyter-widgets/base",
      "model_module_version": "1.2.0",
      "model_name": "LayoutModel",
      "state": {}
     },
     "7bc7c2b83cb74cdcb6a9cb58a14123e1": {
      "model_module": "jupyter-leaflet",
      "model_module_version": "^0.15.0",
      "model_name": "LeafletTileLayerModel",
      "state": {
       "_model_module_version": "^0.15.0",
       "_view_module_version": "^0.15.0",
       "attribution": "&copy; <a href=\"https://www.openstreetmap.org/copyright\">OpenStreetMap</a> contributors",
       "base": true,
       "max_native_zoom": 18,
       "max_zoom": 19,
       "min_native_zoom": 0,
       "min_zoom": 1,
       "name": "OpenStreetMap",
       "options": [
        "attribution",
        "detect_retina",
        "max_native_zoom",
        "max_zoom",
        "min_native_zoom",
        "min_zoom",
        "no_wrap",
        "tile_size",
        "tms"
       ],
       "url": "https://a.tile.openstreetmap.org/{z}/{x}/{y}.png"
      }
     },
     "7bcb2e2a230f478d944c72077ad3f6ee": {
      "model_module": "ipyevents",
      "model_module_version": "2.0.1",
      "model_name": "EventModel",
      "state": {
       "_supported_key_events": [
        "keydown",
        "keyup"
       ],
       "_supported_mouse_events": [
        "click",
        "auxclick",
        "dblclick",
        "mouseenter",
        "mouseleave",
        "mousedown",
        "mouseup",
        "mousemove",
        "wheel",
        "contextmenu",
        "dragstart",
        "drag",
        "dragend",
        "dragenter",
        "dragover",
        "dragleave",
        "drop"
       ],
       "_supported_touch_events": [
        "touchstart",
        "touchend",
        "touchmove",
        "touchcancel"
       ],
       "_view_module": "@jupyter-widgets/controls",
       "_view_module_version": "1.5.0",
       "source": "IPY_MODEL_15a03447f78a4b17b0a00c7a7956725d",
       "throttle_or_debounce": "",
       "watched_events": [
        "mouseenter",
        "mouseleave"
       ],
       "xy_coordinate_system": ""
      }
     },
     "7c31146092bd4abfbd3a30c78ed36b24": {
      "model_module": "jupyter-leaflet",
      "model_module_version": "^0.15.0",
      "model_name": "LeafletTileLayerModel",
      "state": {
       "_model_module_version": "^0.15.0",
       "_view_module_version": "^0.15.0",
       "attribution": "Datenquelle: basemap.at",
       "max_native_zoom": 18,
       "max_zoom": 19,
       "min_native_zoom": 0,
       "name": "BasemapAT.overlay",
       "options": [
        "attribution",
        "detect_retina",
        "max_native_zoom",
        "max_zoom",
        "min_native_zoom",
        "min_zoom",
        "no_wrap",
        "tile_size",
        "tms"
       ],
       "url": "https://maps.wien.gv.at/basemap/bmapoverlay/normal/google3857/{z}/{y}/{x}.png"
      }
     },
     "7c49016602544948a7e326417ad6e78d": {
      "model_module": "jupyter-leaflet",
      "model_module_version": "^0.15.0",
      "model_name": "LeafletTileLayerModel",
      "state": {
       "_model_module_version": "^0.15.0",
       "_view_module_version": "^0.15.0",
       "attribution": "Tiles courtesy of the U.S. Geological Survey",
       "max_native_zoom": 18,
       "max_zoom": 20,
       "min_native_zoom": 0,
       "name": "USGS.USImageryTopo",
       "options": [
        "attribution",
        "detect_retina",
        "max_native_zoom",
        "max_zoom",
        "min_native_zoom",
        "min_zoom",
        "no_wrap",
        "tile_size",
        "tms"
       ],
       "url": "https://basemap.nationalmap.gov/arcgis/rest/services/USGSImageryTopo/MapServer/tile/{z}/{y}/{x}"
      }
     },
     "7ceaea3fd8e740cd9a5adc2d7c698709": {
      "model_module": "@jupyter-widgets/base",
      "model_module_version": "1.2.0",
      "model_name": "LayoutModel",
      "state": {
       "grid_gap": "1px 1px",
       "grid_template_columns": "32px 32px 32px ",
       "grid_template_rows": "32px 32px 32px 32px 32px ",
       "padding": "5px",
       "width": "109px"
      }
     },
     "7d199b6d697e4475b4ba43c5a5546ebc": {
      "model_module": "jupyter-leaflet",
      "model_module_version": "^0.15.0",
      "model_name": "LeafletTileLayerModel",
      "state": {
       "_model_module_version": "^0.15.0",
       "_view_module_version": "^0.15.0",
       "attribution": "Justice Map",
       "max_native_zoom": 18,
       "max_zoom": 22,
       "min_native_zoom": 0,
       "name": "JusticeMap.income",
       "options": [
        "attribution",
        "detect_retina",
        "max_native_zoom",
        "max_zoom",
        "min_native_zoom",
        "min_zoom",
        "no_wrap",
        "tile_size",
        "tms"
       ],
       "url": "https://www.justicemap.org/tile/county/income/{z}/{x}/{y}.png"
      }
     },
     "7e2162d0788749e0ad447bda13df3416": {
      "model_module": "@jupyter-widgets/base",
      "model_module_version": "1.2.0",
      "model_name": "LayoutModel",
      "state": {
       "height": "auto",
       "padding": "0px 0px 0px 4px",
       "width": "auto"
      }
     },
     "7e458a9066454253995369aa63cf89cc": {
      "model_module": "@jupyter-widgets/base",
      "model_module_version": "1.2.0",
      "model_name": "LayoutModel",
      "state": {}
     },
     "7e605203db424de19a6f534ab829e074": {
      "model_module": "jupyter-leaflet",
      "model_module_version": "^0.15.0",
      "model_name": "LeafletTileLayerModel",
      "state": {
       "_model_module_version": "^0.15.0",
       "_view_module_version": "^0.15.0",
       "attribution": "Map tiles by Stamen Design, CC BY 3.0 -- Map data (C) OpenStreetMap contributors",
       "max_native_zoom": 18,
       "min_native_zoom": 0,
       "name": "Stamen.TerrainBackground",
       "options": [
        "attribution",
        "detect_retina",
        "max_native_zoom",
        "max_zoom",
        "min_native_zoom",
        "min_zoom",
        "no_wrap",
        "tile_size",
        "tms"
       ],
       "url": "https://stamen-tiles-a.a.ssl.fastly.net/terrain-background/{z}/{x}/{y}.png"
      }
     },
     "7ebf0e10ff66448aae40f5cbf2f75a8f": {
      "model_module": "@jupyter-widgets/controls",
      "model_module_version": "1.5.0",
      "model_name": "DescriptionStyleModel",
      "state": {
       "description_width": ""
      }
     },
     "7eebf35be189435db4c237ebb3b0cb39": {
      "model_module": "@jupyter-widgets/controls",
      "model_module_version": "1.5.0",
      "model_name": "ToggleButtonModel",
      "state": {
       "button_style": "primary",
       "icon": "fast-forward",
       "layout": "IPY_MODEL_079302926a5045a4a104db24ecff0519",
       "style": "IPY_MODEL_9b49058959cf470ea047febae4512664",
       "tooltip": "Activate the time slider"
      }
     },
     "7eed02040f234f48ae661d8818c9c23b": {
      "model_module": "@jupyter-widgets/controls",
      "model_module_version": "1.5.0",
      "model_name": "DescriptionStyleModel",
      "state": {
       "description_width": ""
      }
     },
     "8062f2669e4c40c498ac741982d396f7": {
      "model_module": "jupyter-leaflet",
      "model_module_version": "^0.15.0",
      "model_name": "LeafletTileLayerModel",
      "state": {
       "_model_module_version": "^0.15.0",
       "_view_module_version": "^0.15.0",
       "attribution": "Tiles courtesy of OpenStreetMap Sweden -- Map data (C) OpenStreetMap contributors",
       "max_native_zoom": 18,
       "max_zoom": 20,
       "min_native_zoom": 0,
       "name": "Hydda.Base",
       "options": [
        "attribution",
        "detect_retina",
        "max_native_zoom",
        "max_zoom",
        "min_native_zoom",
        "min_zoom",
        "no_wrap",
        "tile_size",
        "tms"
       ],
       "url": "https://a.tile.openstreetmap.se/hydda/base/{z}/{x}/{y}.png"
      }
     },
     "807d58476b4f4be48c6ca9fbd830faa8": {
      "model_module": "@jupyter-widgets/base",
      "model_module_version": "1.2.0",
      "model_name": "LayoutModel",
      "state": {}
     },
     "80c266634dc94f80818f9e50ca7a04eb": {
      "model_module": "@jupyter-widgets/controls",
      "model_module_version": "1.5.0",
      "model_name": "DescriptionStyleModel",
      "state": {
       "description_width": ""
      }
     },
     "813c309b0a204d87acb0b865b150e0fa": {
      "model_module": "jupyter-leaflet",
      "model_module_version": "^0.15.0",
      "model_name": "LeafletTileLayerModel",
      "state": {
       "_model_module_version": "^0.15.0",
       "_view_module_version": "^0.15.0",
       "attribution": "(C) OpenStreetMap contributors, Tiles style by Humanitarian OpenStreetMap Team hosted by OpenStreetMap France",
       "max_native_zoom": 18,
       "max_zoom": 19,
       "min_native_zoom": 0,
       "name": "OpenStreetMap.HOT",
       "options": [
        "attribution",
        "detect_retina",
        "max_native_zoom",
        "max_zoom",
        "min_native_zoom",
        "min_zoom",
        "no_wrap",
        "tile_size",
        "tms"
       ],
       "url": "https://a.tile.openstreetmap.fr/hot/{z}/{x}/{y}.png"
      }
     },
     "8140f1c86ff346e49f973af4bb3f8ea7": {
      "model_module": "jupyter-leaflet",
      "model_module_version": "^0.15.0",
      "model_name": "LeafletMarkerModel",
      "state": {
       "_model_module_version": "^0.15.0",
       "_view_module_version": "^0.15.0",
       "draggable": false,
       "location": [
        34.01953461402038,
        -120.31268576642063
       ],
       "options": [
        "alt",
        "draggable",
        "keyboard",
        "rise_offset",
        "rise_on_hover",
        "rotation_angle",
        "rotation_origin",
        "title",
        "z_index_offset"
       ],
       "popup": "IPY_MODEL_10a3c19534174bd68fe9d0a674dbb3fb",
       "title": "Location:(-120.31268576642063,34.01953461402038)"
      }
     },
     "814813eb104545ada95d7e1ce6673e32": {
      "model_module": "jupyter-leaflet",
      "model_module_version": "^0.15.0",
      "model_name": "LeafletMapStyleModel",
      "state": {
       "_model_module_version": "^0.15.0",
       "cursor": "move"
      }
     },
     "82c0df930a314f09b16ab6ee407607ae": {
      "model_module": "@jupyter-widgets/controls",
      "model_module_version": "1.5.0",
      "model_name": "GridBoxModel",
      "state": {
       "children": [
        "IPY_MODEL_3369eadea8654fa58f5f5b5ae4bb3902",
        "IPY_MODEL_d1a1cfc78238400ab3f3853116004309",
        "IPY_MODEL_c3ccac1cfbc84f95a39b44f0d53bc2f2",
        "IPY_MODEL_ff5c006d33584cb5b3b0eff83b349096",
        "IPY_MODEL_15d2d6695df94f6fadf49465c57fa9a1",
        "IPY_MODEL_ee7899606a4143c684c2419837d43995",
        "IPY_MODEL_884942ce9a3440448bdfc1770e986c93",
        "IPY_MODEL_25d21e8588b84be4af303311c9944df8",
        "IPY_MODEL_d56dbcb3d65a4b75bc606ca55c6686e6",
        "IPY_MODEL_8dd0b716d93e47839de917a6b04db61d",
        "IPY_MODEL_190422bf226942f091d042818a1882dc",
        "IPY_MODEL_f6626e3081d7452b92b8a33bdb8c7a8f",
        "IPY_MODEL_70bca8716a514504bb31106cdcb3bff4",
        "IPY_MODEL_f004ef9b8fa0456caa98285b5f2b77aa",
        "IPY_MODEL_7add6dbdc4544199a85bc4e9db6079d4"
       ],
       "layout": "IPY_MODEL_a2a5966c0520490ebb85b95122768537"
      }
     },
     "842b306cea3e45f89d2a74198d1b9a9a": {
      "model_module": "@here/map-widget-for-jupyter",
      "model_module_version": "^1.1.3",
      "model_name": "DefaultLayersModel",
      "state": {
       "_model_module": "@here/map-widget-for-jupyter",
       "_model_module_version": "^1.1.3",
       "_view_count": null,
       "_view_module": "@here/map-widget-for-jupyter",
       "_view_module_version": "^1.1.3",
       "layer_name": "raster.satellite.xbase",
       "ppi": null
      }
     },
     "84727ff4ec6b47eaabe5b5487f586657": {
      "model_module": "@jupyter-widgets/base",
      "model_module_version": "1.2.0",
      "model_name": "LayoutModel",
      "state": {
       "height": "auto",
       "padding": "0px 0px 0px 4px",
       "width": "auto"
      }
     },
     "851fb2dc7b5a4ba7aa4726eec9c56802": {
      "model_module": "@jupyter-widgets/controls",
      "model_module_version": "1.5.0",
      "model_name": "GridBoxModel",
      "state": {
       "children": [
        "IPY_MODEL_91e905885d7f468e9188b15495f2d309",
        "IPY_MODEL_9bcce165036f449f8a4ef29a460367e9",
        "IPY_MODEL_b6e356d3e5f246b589e341e0152b9490",
        "IPY_MODEL_d6ce785a65934a2480d5020b09d0ac46",
        "IPY_MODEL_f5e8807c5edd44328b1332ce21888fbe",
        "IPY_MODEL_7eebf35be189435db4c237ebb3b0cb39",
        "IPY_MODEL_036b6c2c884b4afa95c30cdd9089f828",
        "IPY_MODEL_0f7716c177b648029da5e9546275788d",
        "IPY_MODEL_d865ac79ff0a43a687ff755cbe64dce8",
        "IPY_MODEL_c3b114f35cf64b0bbb9747482c2b2041",
        "IPY_MODEL_510f7161f6004aae9835a7378a06dfb5",
        "IPY_MODEL_3af3283d746c4f46b9e3f5ea90499139",
        "IPY_MODEL_994e9107c6a946efa02eeba9a4f618e6",
        "IPY_MODEL_09022516f7544307b33cf55b12b2f164",
        "IPY_MODEL_978ec88e62584dca924eb37b907f49b1"
       ],
       "layout": "IPY_MODEL_9074882bf2ef49a8b87d1457ae172a38"
      }
     },
     "851fdea0d28e4051b48590524c6e03bf": {
      "model_module": "@jupyter-widgets/controls",
      "model_module_version": "1.5.0",
      "model_name": "ToggleButtonModel",
      "state": {
       "button_style": "primary",
       "icon": "info",
       "layout": "IPY_MODEL_1ea6cb2c3526493ea2075805f25414c3",
       "style": "IPY_MODEL_f2d359d9e2fb4ed8865f29ac5b643b58",
       "tooltip": "Get COG/STAC pixel value"
      }
     },
     "85a5e3c5fbd24564bb894fb356546815": {
      "model_module": "@jupyter-widgets/controls",
      "model_module_version": "1.5.0",
      "model_name": "ToggleButtonModel",
      "state": {
       "button_style": "primary",
       "icon": "eraser",
       "layout": "IPY_MODEL_39efb733f2f94c99b579d2dbd9246fcb",
       "style": "IPY_MODEL_86739cbee8434dd5929ae66189be2ab5",
       "tooltip": "Remove all drawn features"
      }
     },
     "85f417d0217a48fb94346f3f04acf518": {
      "model_module": "jupyter-leaflet",
      "model_module_version": "^0.15.0",
      "model_name": "LeafletTileLayerModel",
      "state": {
       "_model_module_version": "^0.15.0",
       "_view_module_version": "^0.15.0",
       "attribution": "OpenStreetMap",
       "max_native_zoom": 18,
       "max_zoom": 22,
       "min_native_zoom": 0,
       "name": "OpenStreetMap",
       "options": [
        "attribution",
        "detect_retina",
        "max_native_zoom",
        "max_zoom",
        "min_native_zoom",
        "min_zoom",
        "no_wrap",
        "tile_size",
        "tms"
       ]
      }
     },
     "85f8cfa3b61a4d14ab37ac8ccb09bb37": {
      "model_module": "@jupyter-widgets/base",
      "model_module_version": "1.2.0",
      "model_name": "LayoutModel",
      "state": {
       "height": "auto",
       "padding": "0px 0px 0px 4px",
       "width": "auto"
      }
     },
     "8667c30f16fb472dae3b1f0d09aee800": {
      "model_module": "@jupyter-widgets/base",
      "model_module_version": "1.2.0",
      "model_name": "LayoutModel",
      "state": {
       "height": "auto",
       "padding": "0px 0px 0px 4px",
       "width": "auto"
      }
     },
     "86739cbee8434dd5929ae66189be2ab5": {
      "model_module": "@jupyter-widgets/controls",
      "model_module_version": "1.5.0",
      "model_name": "DescriptionStyleModel",
      "state": {
       "description_width": ""
      }
     },
     "872f772bfbfe44f6a6692e2078c9dad5": {
      "model_module": "jupyter-leaflet",
      "model_module_version": "^0.15.0",
      "model_name": "LeafletMapStyleModel",
      "state": {
       "_model_module_version": "^0.15.0",
       "cursor": "move"
      }
     },
     "87c350da4a104e4e987db3fa82d1e7d4": {
      "model_module": "@jupyter-widgets/base",
      "model_module_version": "1.2.0",
      "model_name": "LayoutModel",
      "state": {
       "height": "auto",
       "padding": "0px 0px 0px 4px",
       "width": "auto"
      }
     },
     "884942ce9a3440448bdfc1770e986c93": {
      "model_module": "@jupyter-widgets/controls",
      "model_module_version": "1.5.0",
      "model_name": "ToggleButtonModel",
      "state": {
       "button_style": "primary",
       "icon": "eraser",
       "layout": "IPY_MODEL_7e2162d0788749e0ad447bda13df3416",
       "style": "IPY_MODEL_deefd9c86ba34cf7a30bd98571731319",
       "tooltip": "Remove all drawn features"
      }
     },
     "8860c1f97f6a4dceb5ff189bf9fd6bb0": {
      "model_module": "jupyter-leaflet",
      "model_module_version": "^0.15.0",
      "model_name": "LeafletTileLayerModel",
      "state": {
       "_model_module_version": "^0.15.0",
       "_view_module_version": "^0.15.0",
       "attribution": "Map data: (C) OpenStreetMap contributors | Map style: (C) waymarkedtrails.org (CC-BY-SA)",
       "max_native_zoom": 18,
       "min_native_zoom": 0,
       "name": "WaymarkedTrails.cycling",
       "options": [
        "attribution",
        "detect_retina",
        "max_native_zoom",
        "max_zoom",
        "min_native_zoom",
        "min_zoom",
        "no_wrap",
        "tile_size",
        "tms"
       ],
       "url": "https://tile.waymarkedtrails.org/cycling/{z}/{x}/{y}.png"
      }
     },
     "88ce47fc5c034c2e942cfe42729b6ce3": {
      "model_module": "@jupyter-widgets/controls",
      "model_module_version": "1.5.0",
      "model_name": "DescriptionStyleModel",
      "state": {
       "description_width": ""
      }
     },
     "89603f5b579847f99fcd6c3a5e61637c": {
      "model_module": "@jupyter-widgets/controls",
      "model_module_version": "1.5.0",
      "model_name": "DescriptionStyleModel",
      "state": {
       "description_width": ""
      }
     },
     "8b25997b4ef149cbae90b844a38db375": {
      "model_module": "@here/map-widget-for-jupyter",
      "model_module_version": "^1.1.3",
      "model_name": "DefaultLayersModel",
      "state": {
       "_model_module": "@here/map-widget-for-jupyter",
       "_model_module_version": "^1.1.3",
       "_view_count": null,
       "_view_module": "@here/map-widget-for-jupyter",
       "_view_module_version": "^1.1.3",
       "layer_name": "vector.normal.truck",
       "ppi": null
      }
     },
     "8b37409ffb2a480ebc465b33d9fb6af6": {
      "model_module": "jupyter-leaflet",
      "model_module_version": "^0.15.0",
      "model_name": "LeafletTileLayerModel",
      "state": {
       "_model_module_version": "^0.15.0",
       "_view_module_version": "^0.15.0",
       "attribution": "Kaartgegevens (C) Kadaster",
       "max_native_zoom": 18,
       "max_zoom": 19,
       "min_native_zoom": 0,
       "name": "nlmaps.standaard",
       "options": [
        "attribution",
        "detect_retina",
        "max_native_zoom",
        "max_zoom",
        "min_native_zoom",
        "min_zoom",
        "no_wrap",
        "tile_size",
        "tms"
       ],
       "url": "https://service.pdok.nl/brt/achtergrondkaart/wmts/v2_0/standaard/EPSG:3857/{z}/{x}/{y}.png"
      }
     },
     "8b6d3b57082c4e18aa8f3b766d6a4148": {
      "model_module": "@jupyter-widgets/base",
      "model_module_version": "1.2.0",
      "model_name": "LayoutModel",
      "state": {
       "height": "auto",
       "padding": "0px 0px 0px 4px",
       "width": "auto"
      }
     },
     "8b756f87ec404f61bc5e31631dadafba": {
      "model_module": "@here/map-widget-for-jupyter",
      "model_module_version": "^1.1.3",
      "model_name": "DefaultLayersModel",
      "state": {
       "_model_module": "@here/map-widget-for-jupyter",
       "_model_module_version": "^1.1.3",
       "_view_count": null,
       "_view_module": "@here/map-widget-for-jupyter",
       "_view_module_version": "^1.1.3",
       "layer_name": "raster.normal.xbasenight",
       "ppi": null
      }
     },
     "8be165f7b9f04999ab181ce41dcd866a": {
      "model_module": "@jupyter-widgets/controls",
      "model_module_version": "1.5.0",
      "model_name": "HTMLModel",
      "state": {
       "layout": "IPY_MODEL_9817b5ea14c04506901edcb7aa62acbe",
       "style": "IPY_MODEL_d4790c8f5d0b416a88cad7561c14d2b9",
       "value": "Location:(-120.44117597525123,34.05458667145645)"
      }
     },
     "8c2496fbb8b94ad79a5cb77e3f23057a": {
      "model_module": "@jupyter-widgets/controls",
      "model_module_version": "1.5.0",
      "model_name": "HBoxModel",
      "state": {
       "children": [
        "IPY_MODEL_c297fb86bdd04325b358f38e7b641a51",
        "IPY_MODEL_44988c2cc115405f8fdeab13485a1da0"
       ],
       "layout": "IPY_MODEL_7a04a81f0d51476698f594e50ac6adfa"
      }
     },
     "8caa3af9210f404981e7cd7402cca895": {
      "model_module": "jupyter-leaflet",
      "model_module_version": "^0.15.0",
      "model_name": "LeafletTileLayerModel",
      "state": {
       "_model_module_version": "^0.15.0",
       "_view_module_version": "^0.15.0",
       "attribution": "CyclOSM | Map data: (C) OpenStreetMap contributors",
       "max_native_zoom": 18,
       "max_zoom": 20,
       "min_native_zoom": 0,
       "name": "CyclOSM",
       "options": [
        "attribution",
        "detect_retina",
        "max_native_zoom",
        "max_zoom",
        "min_native_zoom",
        "min_zoom",
        "no_wrap",
        "tile_size",
        "tms"
       ],
       "url": "https://a.tile-cyclosm.openstreetmap.fr/cyclosm/{z}/{x}/{y}.png"
      }
     },
     "8cb58f9d7d0e4875a875fc02c6207e86": {
      "model_module": "@jupyter-widgets/base",
      "model_module_version": "1.2.0",
      "model_name": "LayoutModel",
      "state": {}
     },
     "8d028245b899430586dc46b07938bf7f": {
      "model_module": "jupyter-leaflet",
      "model_module_version": "^0.15.0",
      "model_name": "LeafletTileLayerModel",
      "state": {
       "_model_module_version": "^0.15.0",
       "_view_module_version": "^0.15.0",
       "attribution": "Kaartgegevens (C) Kadaster",
       "max_native_zoom": 18,
       "max_zoom": 19,
       "min_native_zoom": 0,
       "name": "nlmaps.luchtfoto",
       "options": [
        "attribution",
        "detect_retina",
        "max_native_zoom",
        "max_zoom",
        "min_native_zoom",
        "min_zoom",
        "no_wrap",
        "tile_size",
        "tms"
       ],
       "url": "https://service.pdok.nl/hwh/luchtfotorgb/wmts/v1_0/Actueel_ortho25/EPSG:3857/{z}/{x}/{y}.jpeg"
      }
     },
     "8d34f0e1083e4f7daca75dd40df88e64": {
      "model_module": "@jupyter-widgets/controls",
      "model_module_version": "1.5.0",
      "model_name": "DescriptionStyleModel",
      "state": {
       "description_width": ""
      }
     },
     "8dd0b716d93e47839de917a6b04db61d": {
      "model_module": "@jupyter-widgets/controls",
      "model_module_version": "1.5.0",
      "model_name": "ToggleButtonModel",
      "state": {
       "button_style": "primary",
       "icon": "info",
       "layout": "IPY_MODEL_1d4a484330d745e78b7c1602bbe1e49f",
       "style": "IPY_MODEL_e99d8f38604f4ab58a2374f4484b6a4f",
       "tooltip": "Get COG/STAC pixel value"
      }
     },
     "8e0343962e5a4e5e9f13ffdd2b5819fa": {
      "model_module": "jupyter-leaflet",
      "model_module_version": "^0.15.0",
      "model_name": "LeafletMarkerModel",
      "state": {
       "_model_module_version": "^0.15.0",
       "_view_module_version": "^0.15.0",
       "draggable": false,
       "location": [
        34.07348445562798,
        -120.36940888741836
       ],
       "options": [
        "alt",
        "draggable",
        "keyboard",
        "rise_offset",
        "rise_on_hover",
        "rotation_angle",
        "rotation_origin",
        "title",
        "z_index_offset"
       ],
       "popup": "IPY_MODEL_de0df371348f4265af0486bfe25be1e1",
       "title": "Location:(-120.36940888741836,34.07348445562798)"
      }
     },
     "8e59bbd112464cd7892f697f4197b8b7": {
      "model_module": "@jupyter-widgets/base",
      "model_module_version": "1.2.0",
      "model_name": "LayoutModel",
      "state": {
       "height": "auto",
       "padding": "0px 0px 0px 4px",
       "width": "auto"
      }
     },
     "8edb6fc1d2e84a6d8b447463856e3930": {
      "model_module": "@jupyter-widgets/controls",
      "model_module_version": "1.5.0",
      "model_name": "DescriptionStyleModel",
      "state": {
       "description_width": ""
      }
     },
     "8f6d8bb080a1428a881b617ff3cb44ed": {
      "model_module": "@here/map-widget-for-jupyter",
      "model_module_version": "^1.1.3",
      "model_name": "DefaultLayersModel",
      "state": {
       "_model_module": "@here/map-widget-for-jupyter",
       "_model_module_version": "^1.1.3",
       "_view_count": null,
       "_view_module": "@here/map-widget-for-jupyter",
       "_view_module_version": "^1.1.3",
       "layer_name": "raster.normal.xbase",
       "ppi": null
      }
     },
     "8f8e0bada42a4b36b06588167ad93078": {
      "model_module": "@jupyter-widgets/controls",
      "model_module_version": "1.5.0",
      "model_name": "DescriptionStyleModel",
      "state": {
       "description_width": ""
      }
     },
     "8fa8d55feb9c4f4f8c099d0beb832085": {
      "model_module": "jupyter-leaflet",
      "model_module_version": "^0.15.0",
      "model_name": "LeafletMapStyleModel",
      "state": {
       "_model_module_version": "^0.15.0"
      }
     },
     "9018d1184d004d5180c739dbb98392ae": {
      "model_module": "@jupyter-widgets/base",
      "model_module_version": "1.2.0",
      "model_name": "LayoutModel",
      "state": {}
     },
     "90316f64d0a24ea485f1c670c232416c": {
      "model_module": "jupyter-leaflet",
      "model_module_version": "^0.15.0",
      "model_name": "LeafletTileLayerModel",
      "state": {
       "_model_module_version": "^0.15.0",
       "_view_module_version": "^0.15.0",
       "attribution": "(C) OpenStreetMap contributors (C) CARTO",
       "max_native_zoom": 18,
       "max_zoom": 20,
       "min_native_zoom": 0,
       "name": "CartoDB.VoyagerNoLabels",
       "options": [
        "attribution",
        "detect_retina",
        "max_native_zoom",
        "max_zoom",
        "min_native_zoom",
        "min_zoom",
        "no_wrap",
        "tile_size",
        "tms"
       ],
       "url": "https://a.basemaps.cartocdn.com/rastertiles/voyager_nolabels/{z}/{x}/{y}.png"
      }
     },
     "9074882bf2ef49a8b87d1457ae172a38": {
      "model_module": "@jupyter-widgets/base",
      "model_module_version": "1.2.0",
      "model_name": "LayoutModel",
      "state": {
       "grid_gap": "1px 1px",
       "grid_template_columns": "32px 32px 32px ",
       "grid_template_rows": "32px 32px 32px 32px 32px ",
       "padding": "5px",
       "width": "109px"
      }
     },
     "90c6eadd1341440b982ab4a2a942f07d": {
      "model_module": "jupyter-leaflet",
      "model_module_version": "^0.15.0",
      "model_name": "LeafletWMSLayerModel",
      "state": {
       "_model_module_version": "^0.15.0",
       "_view_module_version": "^0.15.0",
       "attribution": "MRLC",
       "crs": {
        "custom": false,
        "name": "EPSG3857"
       },
       "format": "image/png",
       "layers": "NLCD_2006_Land_Cover_L48",
       "max_native_zoom": 18,
       "min_native_zoom": 0,
       "name": "NLCD 2006 CONUS Land Cover",
       "options": [
        "attribution",
        "detect_retina",
        "format",
        "layers",
        "max_native_zoom",
        "max_zoom",
        "min_native_zoom",
        "min_zoom",
        "no_wrap",
        "styles",
        "tile_size",
        "tms",
        "transparent",
        "uppercase"
       ],
       "transparent": true,
       "url": "https://www.mrlc.gov/geoserver/mrlc_display/NLCD_2006_Land_Cover_L48/wms?"
      }
     },
     "91e905885d7f468e9188b15495f2d309": {
      "model_module": "@jupyter-widgets/controls",
      "model_module_version": "1.5.0",
      "model_name": "ToggleButtonModel",
      "state": {
       "button_style": "primary",
       "icon": "map",
       "layout": "IPY_MODEL_85f8cfa3b61a4d14ab37ac8ccb09bb37",
       "style": "IPY_MODEL_8d34f0e1083e4f7daca75dd40df88e64",
       "tooltip": "Change basemap"
      }
     },
     "93d823aca04c488bbe033d372f79295f": {
      "model_module": "@jupyter-widgets/base",
      "model_module_version": "1.2.0",
      "model_name": "LayoutModel",
      "state": {}
     },
     "93fe3436fbb94e7d8f4838858f72d4a2": {
      "model_module": "jupyter-leaflet",
      "model_module_version": "^0.15.0",
      "model_name": "LeafletMarkerModel",
      "state": {
       "_model_module_version": "^0.15.0",
       "_view_module_version": "^0.15.0",
       "draggable": false,
       "location": [
        34.01907111842292,
        -120.35114603642788
       ],
       "options": [
        "alt",
        "draggable",
        "keyboard",
        "rise_offset",
        "rise_on_hover",
        "rotation_angle",
        "rotation_origin",
        "title",
        "z_index_offset"
       ],
       "popup": "IPY_MODEL_b7e0dfe99d7d455d95cb51a4ef81fda6",
       "title": "Location:(-120.35114603642788,34.01907111842292)"
      }
     },
     "94111b4dd694421d9b0c0b09be7071e8": {
      "model_module": "jupyter-leaflet",
      "model_module_version": "^0.15.0",
      "model_name": "LeafletTileLayerModel",
      "state": {
       "_model_module_version": "^0.15.0",
       "_view_module_version": "^0.15.0",
       "attribution": "Map data: (C) OpenStreetMap contributors | Map style: (C) SafeCast (CC-BY-SA)",
       "max_native_zoom": 18,
       "max_zoom": 16,
       "min_native_zoom": 0,
       "name": "SafeCast",
       "options": [
        "attribution",
        "detect_retina",
        "max_native_zoom",
        "max_zoom",
        "min_native_zoom",
        "min_zoom",
        "no_wrap",
        "tile_size",
        "tms"
       ],
       "url": "https://s3.amazonaws.com/te512.safecast.org/{z}/{x}/{y}.png"
      }
     },
     "949bf6df259b4586810c4416cdf8880c": {
      "model_module": "jupyter-leaflet",
      "model_module_version": "^0.15.0",
      "model_name": "LeafletTileLayerModel",
      "state": {
       "_model_module_version": "^0.15.0",
       "_view_module_version": "^0.15.0",
       "attribution": "Google",
       "max_native_zoom": 18,
       "max_zoom": 22,
       "min_native_zoom": 0,
       "name": "Google Maps",
       "options": [
        "attribution",
        "detect_retina",
        "max_native_zoom",
        "max_zoom",
        "min_native_zoom",
        "min_zoom",
        "no_wrap",
        "tile_size",
        "tms"
       ],
       "url": "https://mt1.google.com/vt/lyrs=m&x={x}&y={y}&z={z}"
      }
     },
     "952aa7d8cc56466f84f53f3acae7f2e7": {
      "model_module": "jupyter-leaflet",
      "model_module_version": "^0.15.0",
      "model_name": "LeafletWMSLayerModel",
      "state": {
       "_model_module_version": "^0.15.0",
       "_view_module_version": "^0.15.0",
       "attribution": "MRLC",
       "crs": {
        "custom": false,
        "name": "EPSG3857"
       },
       "format": "image/png",
       "layers": "NLCD_2001_Land_Cover_L48",
       "max_native_zoom": 18,
       "min_native_zoom": 0,
       "name": "NLCD 2001 CONUS Land Cover",
       "options": [
        "attribution",
        "detect_retina",
        "format",
        "layers",
        "max_native_zoom",
        "max_zoom",
        "min_native_zoom",
        "min_zoom",
        "no_wrap",
        "styles",
        "tile_size",
        "tms",
        "transparent",
        "uppercase"
       ],
       "transparent": true,
       "url": "https://www.mrlc.gov/geoserver/mrlc_display/NLCD_2001_Land_Cover_L48/wms?"
      }
     },
     "95c15bfb08a3470684f4bd9ff39d4018": {
      "model_module": "jupyter-leaflet",
      "model_module_version": "^0.15.0",
      "model_name": "LeafletTileLayerModel",
      "state": {
       "_model_module_version": "^0.15.0",
       "_view_module_version": "^0.15.0",
       "attribution": "National Library of Scotland Historic Maps",
       "max_native_zoom": 18,
       "min_native_zoom": 0,
       "name": "NLS",
       "options": [
        "attribution",
        "detect_retina",
        "max_native_zoom",
        "max_zoom",
        "min_native_zoom",
        "min_zoom",
        "no_wrap",
        "tile_size",
        "tms"
       ],
       "url": "https://nls-0.tileserver.com/nls/{z}/{x}/{y}.jpg"
      }
     },
     "9731cbef9da043e1acbf3683ee975ab9": {
      "model_module": "@jupyter-widgets/controls",
      "model_module_version": "1.5.0",
      "model_name": "HTMLModel",
      "state": {
       "layout": "IPY_MODEL_b0a8913c15834b32a3a5e39b0efd5cd0",
       "style": "IPY_MODEL_176da7c76c2146c1975012e4aeb63925",
       "value": "Location:(-120.38497973558093,34.02471516472867)"
      }
     },
     "974f00213a0a431d8e72187f5f4222ab": {
      "model_module": "@jupyter-widgets/controls",
      "model_module_version": "1.5.0",
      "model_name": "DescriptionStyleModel",
      "state": {
       "description_width": ""
      }
     },
     "978ec88e62584dca924eb37b907f49b1": {
      "model_module": "@jupyter-widgets/controls",
      "model_module_version": "1.5.0",
      "model_name": "ToggleButtonModel",
      "state": {
       "button_style": "primary",
       "icon": "question",
       "layout": "IPY_MODEL_68a9bdd3e9b84213aeed504eb6fecbbf",
       "style": "IPY_MODEL_5a3a990f93d14a3e8826730325275bc2",
       "tooltip": "Get help"
      }
     },
     "9817b5ea14c04506901edcb7aa62acbe": {
      "model_module": "@jupyter-widgets/base",
      "model_module_version": "1.2.0",
      "model_name": "LayoutModel",
      "state": {}
     },
     "98b7bac51a4747e4a89757d685195a57": {
      "model_module": "@jupyter-widgets/base",
      "model_module_version": "1.2.0",
      "model_name": "LayoutModel",
      "state": {
       "height": "28px",
       "width": "72px"
      }
     },
     "990f02465cc1434caee342230443e393": {
      "model_module": "@jupyter-widgets/controls",
      "model_module_version": "1.5.0",
      "model_name": "ToggleButtonModel",
      "state": {
       "button_style": "primary",
       "icon": "folder-open",
       "layout": "IPY_MODEL_623080a8e835441ca2f810a9a1ac22e8",
       "style": "IPY_MODEL_2922762cc99b4e8aba652f40fa38f9f8",
       "tooltip": "Open local vector/raster data"
      }
     },
     "994e9107c6a946efa02eeba9a4f618e6": {
      "model_module": "@jupyter-widgets/controls",
      "model_module_version": "1.5.0",
      "model_name": "ToggleButtonModel",
      "state": {
       "button_style": "primary",
       "icon": "smile-o",
       "layout": "IPY_MODEL_0bbf4e4a166d415ab8285120d7909bde",
       "style": "IPY_MODEL_2d2f63fb796940219a50fa7a848a137e",
       "tooltip": "This is a placeholder"
      }
     },
     "999dce5547124a048438b7e3a16ce9f9": {
      "model_module": "@jupyter-widgets/controls",
      "model_module_version": "1.5.0",
      "model_name": "ToggleButtonModel",
      "state": {
       "button_style": "primary",
       "icon": "spinner",
       "layout": "IPY_MODEL_8667c30f16fb472dae3b1f0d09aee800",
       "style": "IPY_MODEL_9c5e4952535b4301a2d442677344fd9f",
       "tooltip": "This is a placeholder"
      }
     },
     "9ab7a6af3fd749318219c2c6a855717e": {
      "model_module": "@jupyter-widgets/controls",
      "model_module_version": "1.5.0",
      "model_name": "DescriptionStyleModel",
      "state": {
       "description_width": ""
      }
     },
     "9acae3ec14ef4f79830c8b012bfb3870": {
      "model_module": "@jupyter-widgets/base",
      "model_module_version": "1.2.0",
      "model_name": "LayoutModel",
      "state": {
       "height": "auto",
       "padding": "0px 0px 0px 4px",
       "width": "auto"
      }
     },
     "9af71b14e5df4e48b65a250b50788d84": {
      "model_module": "@jupyter-widgets/controls",
      "model_module_version": "1.5.0",
      "model_name": "DescriptionStyleModel",
      "state": {
       "description_width": ""
      }
     },
     "9b15a60c4a6b4968b70338e75c6cb0b5": {
      "model_module": "jupyter-leaflet",
      "model_module_version": "^0.15.0",
      "model_name": "LeafletTileLayerModel",
      "state": {
       "_model_module_version": "^0.15.0",
       "_view_module_version": "^0.15.0",
       "attribution": "Map tiles by Stamen Design, CC BY 3.0 -- Map data (C) OpenStreetMap contributors",
       "max_native_zoom": 18,
       "max_zoom": 20,
       "min_native_zoom": 0,
       "name": "Stamen.TonerLines",
       "options": [
        "attribution",
        "detect_retina",
        "max_native_zoom",
        "max_zoom",
        "min_native_zoom",
        "min_zoom",
        "no_wrap",
        "tile_size",
        "tms"
       ],
       "url": "https://stamen-tiles-a.a.ssl.fastly.net/toner-lines/{z}/{x}/{y}.png"
      }
     },
     "9b24175616c540209d959f594f76625d": {
      "model_module": "jupyter-leaflet",
      "model_module_version": "^0.15.0",
      "model_name": "LeafletTileLayerModel",
      "state": {
       "_model_module_version": "^0.15.0",
       "_view_module_version": "^0.15.0",
       "attribution": "Tiles (C) Esri -- Source: USGS, Esri, TANA, DeLorme, and NPS",
       "max_native_zoom": 18,
       "max_zoom": 13,
       "min_native_zoom": 0,
       "name": "Esri.WorldTerrain",
       "options": [
        "attribution",
        "detect_retina",
        "max_native_zoom",
        "max_zoom",
        "min_native_zoom",
        "min_zoom",
        "no_wrap",
        "tile_size",
        "tms"
       ],
       "url": "https://server.arcgisonline.com/ArcGIS/rest/services/World_Terrain_Base/MapServer/tile/{z}/{y}/{x}"
      }
     },
     "9b49058959cf470ea047febae4512664": {
      "model_module": "@jupyter-widgets/controls",
      "model_module_version": "1.5.0",
      "model_name": "DescriptionStyleModel",
      "state": {
       "description_width": ""
      }
     },
     "9b8112f5ed6746c4853aa407921beced": {
      "model_module": "jupyter-leaflet",
      "model_module_version": "^0.15.0",
      "model_name": "LeafletTileLayerModel",
      "state": {
       "_model_module_version": "^0.15.0",
       "_view_module_version": "^0.15.0",
       "attribution": "Tiles (C) Esri -- Source: Esri, i-cubed, USDA, USGS, AEX, GeoEye, Getmapping, Aerogrid, IGN, IGP, UPR-EGP, and the GIS User Community",
       "max_native_zoom": 18,
       "max_zoom": 22,
       "min_native_zoom": 0,
       "name": "Esri.WorldImagery",
       "options": [
        "attribution",
        "detect_retina",
        "max_native_zoom",
        "max_zoom",
        "min_native_zoom",
        "min_zoom",
        "no_wrap",
        "tile_size",
        "tms"
       ],
       "url": "https://server.arcgisonline.com/ArcGIS/rest/services/World_Imagery/MapServer/tile/{z}/{y}/{x}"
      }
     },
     "9bcce165036f449f8a4ef29a460367e9": {
      "model_module": "@jupyter-widgets/controls",
      "model_module_version": "1.5.0",
      "model_name": "ToggleButtonModel",
      "state": {
       "button_style": "primary",
       "icon": "globe",
       "layout": "IPY_MODEL_5a2873cd09a54d3e973220c7c11bdd3d",
       "style": "IPY_MODEL_89603f5b579847f99fcd6c3a5e61637c",
       "tooltip": "Split-panel map"
      }
     },
     "9bd04e3b10a742c090749182d3e1aa43": {
      "model_module": "@jupyter-widgets/controls",
      "model_module_version": "1.5.0",
      "model_name": "HTMLModel",
      "state": {
       "layout": "IPY_MODEL_216221c95ff0453884fca9d1dadf8c32",
       "style": "IPY_MODEL_cff8cbbd87f7439b99a74635d1c28741",
       "value": "Location:(-120.39809138700905,34.05162941609134)"
      }
     },
     "9bfbb531c8414a1fa1bfc3ca39e68def": {
      "model_module": "jupyter-leaflet",
      "model_module_version": "^0.15.0",
      "model_name": "LeafletWidgetControlModel",
      "state": {
       "_model_module": "jupyter-leaflet",
       "_model_module_version": "^0.15.0",
       "_view_count": null,
       "_view_module": "jupyter-leaflet",
       "_view_module_version": "^0.15.0",
       "options": [
        "position",
        "transparent_bg"
       ],
       "position": "topright",
       "widget": "IPY_MODEL_51b31009df1d4cbcbfb72346b1a2a489"
      }
     },
     "9c0909807f7140eb8a7aedf2607d262e": {
      "model_module": "jupyter-leaflet",
      "model_module_version": "^0.15.0",
      "model_name": "LeafletTileLayerModel",
      "state": {
       "_model_module_version": "^0.15.0",
       "_view_module_version": "^0.15.0",
       "attribution": "openAIP Data (CC-BY-NC-SA)",
       "max_native_zoom": 18,
       "max_zoom": 14,
       "min_native_zoom": 0,
       "name": "OpenAIP",
       "options": [
        "attribution",
        "detect_retina",
        "max_native_zoom",
        "max_zoom",
        "min_native_zoom",
        "min_zoom",
        "no_wrap",
        "tile_size",
        "tms"
       ],
       "url": "https://1.tile.maps.openaip.net/geowebcache/service/tms/1.0.0/openaip_basemap@EPSG%3A900913@png/{z}/{x}/{y}.png"
      }
     },
     "9c5e4952535b4301a2d442677344fd9f": {
      "model_module": "@jupyter-widgets/controls",
      "model_module_version": "1.5.0",
      "model_name": "DescriptionStyleModel",
      "state": {
       "description_width": ""
      }
     },
     "9c84e04d3da94fcd8626577b21a685f5": {
      "model_module": "ipyevents",
      "model_module_version": "2.0.1",
      "model_name": "EventModel",
      "state": {
       "_supported_key_events": [
        "keydown",
        "keyup"
       ],
       "_supported_mouse_events": [
        "click",
        "auxclick",
        "dblclick",
        "mouseenter",
        "mouseleave",
        "mousedown",
        "mouseup",
        "mousemove",
        "wheel",
        "contextmenu",
        "dragstart",
        "drag",
        "dragend",
        "dragenter",
        "dragover",
        "dragleave",
        "drop"
       ],
       "_supported_touch_events": [
        "touchstart",
        "touchend",
        "touchmove",
        "touchcancel"
       ],
       "_view_module": "@jupyter-widgets/controls",
       "_view_module_version": "1.5.0",
       "source": "IPY_MODEL_1a64304c1cc04092aecd8dc04be32313",
       "throttle_or_debounce": "",
       "watched_events": [
        "mouseenter",
        "mouseleave"
       ],
       "xy_coordinate_system": ""
      }
     },
     "9cd919099d504effb3b6e4ce967fb5d7": {
      "model_module": "@here/map-widget-for-jupyter",
      "model_module_version": "^1.1.3",
      "model_name": "DefaultLayersModel",
      "state": {
       "_model_module": "@here/map-widget-for-jupyter",
       "_model_module_version": "^1.1.3",
       "_view_count": null,
       "_view_module": "@here/map-widget-for-jupyter",
       "_view_module_version": "^1.1.3",
       "layer_name": "raster.terrain.xbase",
       "ppi": null
      }
     },
     "9e12620fa46f47609b90b9a91f4e8255": {
      "model_module": "@jupyter-widgets/controls",
      "model_module_version": "1.5.0",
      "model_name": "GridBoxModel",
      "state": {
       "children": [
        "IPY_MODEL_c4761f793d154041a3a874456137a7e6",
        "IPY_MODEL_65cb7b05d12c409cb5d6d6f1041ed1c1",
        "IPY_MODEL_bc22120773314b108dc780c2697eca66",
        "IPY_MODEL_990f02465cc1434caee342230443e393",
        "IPY_MODEL_576fe869ee1e4036a090dbe01d0580b6",
        "IPY_MODEL_2c88967881754cb2a1455ce7791c563f",
        "IPY_MODEL_85a5e3c5fbd24564bb894fb356546815",
        "IPY_MODEL_381a6d5d675842aead6195a89ad2fee6",
        "IPY_MODEL_bbe66c87a5454cd6a36107585dc41c01",
        "IPY_MODEL_851fdea0d28e4051b48590524c6e03bf",
        "IPY_MODEL_b5839eb789cd4ff5bdb9e3cb1cc56f06",
        "IPY_MODEL_d27b5b3ffbf64235879bc46673c06ebd",
        "IPY_MODEL_9ff1422a283b4406a23ec637b524430b",
        "IPY_MODEL_999dce5547124a048438b7e3a16ce9f9",
        "IPY_MODEL_5a94da869f564a28b46afbf2f05d2491"
       ],
       "layout": "IPY_MODEL_7ceaea3fd8e740cd9a5adc2d7c698709"
      }
     },
     "9e931ab334a440ccac997bc412315ef0": {
      "model_module": "@jupyter-widgets/base",
      "model_module_version": "1.2.0",
      "model_name": "LayoutModel",
      "state": {}
     },
     "9ff1422a283b4406a23ec637b524430b": {
      "model_module": "@jupyter-widgets/controls",
      "model_module_version": "1.5.0",
      "model_name": "ToggleButtonModel",
      "state": {
       "button_style": "primary",
       "icon": "smile-o",
       "layout": "IPY_MODEL_9acae3ec14ef4f79830c8b012bfb3870",
       "style": "IPY_MODEL_e9962e1d9e2a44e5a36e5b996e117b79",
       "tooltip": "This is a placeholder"
      }
     },
     "a2866f484a154435b69d57cfd808ed74": {
      "model_module": "@here/map-widget-for-jupyter",
      "model_module_version": "^1.1.3",
      "model_name": "DefaultLayersModel",
      "state": {
       "_model_module": "@here/map-widget-for-jupyter",
       "_model_module_version": "^1.1.3",
       "_view_count": null,
       "_view_module": "@here/map-widget-for-jupyter",
       "_view_module_version": "^1.1.3",
       "layer_name": "raster.terrain.base",
       "ppi": null
      }
     },
     "a28c2a29b88b472cac240e468015181b": {
      "model_module": "@jupyter-widgets/base",
      "model_module_version": "1.2.0",
      "model_name": "LayoutModel",
      "state": {
       "height": "auto",
       "padding": "0px 0px 0px 4px",
       "width": "auto"
      }
     },
     "a28fe0d304d8478fa855954fd0c9ca5f": {
      "model_module": "@jupyter-widgets/controls",
      "model_module_version": "1.5.0",
      "model_name": "DescriptionStyleModel",
      "state": {
       "description_width": ""
      }
     },
     "a2a5966c0520490ebb85b95122768537": {
      "model_module": "@jupyter-widgets/base",
      "model_module_version": "1.2.0",
      "model_name": "LayoutModel",
      "state": {
       "grid_gap": "1px 1px",
       "grid_template_columns": "32px 32px 32px ",
       "grid_template_rows": "32px 32px 32px 32px 32px ",
       "padding": "5px",
       "width": "109px"
      }
     },
     "a341e9a0743c4579a18baada4a96a9d6": {
      "model_module": "jupyter-leaflet",
      "model_module_version": "^0.15.0",
      "model_name": "LeafletTileLayerModel",
      "state": {
       "_model_module_version": "^0.15.0",
       "_view_module_version": "^0.15.0",
       "attribution": "&copy; <a href=\"http://www.gaode.com/\">Gaode.com</a>",
       "max_native_zoom": 18,
       "max_zoom": 19,
       "min_native_zoom": 0,
       "name": "Gaode.Satellite",
       "options": [
        "attribution",
        "detect_retina",
        "max_native_zoom",
        "max_zoom",
        "min_native_zoom",
        "min_zoom",
        "no_wrap",
        "tile_size",
        "tms"
       ],
       "url": "http://webst01.is.autonavi.com/appmaptile?style=6&x={x}&y={y}&z={z}"
      }
     },
     "a418e7ba9eec4de0bc3de147cf7ba30a": {
      "model_module": "@jupyter-widgets/controls",
      "model_module_version": "1.5.0",
      "model_name": "DescriptionStyleModel",
      "state": {
       "description_width": ""
      }
     },
     "a54b38e928814df0a28c3ccec1f0c7cc": {
      "model_module": "jupyter-leaflet",
      "model_module_version": "^0.15.0",
      "model_name": "LeafletMarkerModel",
      "state": {
       "_model_module_version": "^0.15.0",
       "_view_module_version": "^0.15.0",
       "draggable": false,
       "location": [
        34.057512237655345,
        -120.45094122767935
       ],
       "options": [
        "alt",
        "draggable",
        "keyboard",
        "rise_offset",
        "rise_on_hover",
        "rotation_angle",
        "rotation_origin",
        "title",
        "z_index_offset"
       ],
       "popup": "IPY_MODEL_760519f508ef4cc2bd5e8011d281c737",
       "title": "Location:(-120.45094122767935,34.057512237655345)"
      }
     },
     "a62c5fa1ea1947869e41fcdaa392040a": {
      "model_module": "@jupyter-widgets/base",
      "model_module_version": "1.2.0",
      "model_name": "LayoutModel",
      "state": {}
     },
     "a74401e427274abf8a27f3b6cdbe9ba6": {
      "model_module": "jupyter-leaflet",
      "model_module_version": "^0.15.0",
      "model_name": "LeafletTileLayerModel",
      "state": {
       "_model_module_version": "^0.15.0",
       "_view_module_version": "^0.15.0",
       "attribution": "Datenquelle: basemap.at",
       "max_native_zoom": 18,
       "max_zoom": 19,
       "min_native_zoom": 0,
       "name": "BasemapAT.grau",
       "options": [
        "attribution",
        "detect_retina",
        "max_native_zoom",
        "max_zoom",
        "min_native_zoom",
        "min_zoom",
        "no_wrap",
        "tile_size",
        "tms"
       ],
       "url": "https://maps.wien.gv.at/basemap/bmapgrau/normal/google3857/{z}/{y}/{x}.png"
      }
     },
     "a7fbf4f8bac84be7b3e2461cc01f2ac9": {
      "model_module": "@jupyter-widgets/controls",
      "model_module_version": "1.5.0",
      "model_name": "HTMLModel",
      "state": {
       "layout": "IPY_MODEL_b6a08457710b4889aa03c3d9d902a46f",
       "style": "IPY_MODEL_3a649ef0249841b0bc0c7b579e17d2d6",
       "value": "Location:(-120.45201113026535,34.05426184201174)"
      }
     },
     "a8837ad340fa495991598591e527c051": {
      "model_module": "jupyter-leaflet",
      "model_module_version": "^0.15.0",
      "model_name": "LeafletZoomControlModel",
      "state": {
       "_model_module_version": "^0.15.0",
       "_view_module_version": "^0.15.0",
       "options": [
        "position",
        "zoom_in_text",
        "zoom_in_title",
        "zoom_out_text",
        "zoom_out_title"
       ]
      }
     },
     "a94336aed2bf4861a66fd6dcb7ce94dd": {
      "model_module": "@jupyter-widgets/controls",
      "model_module_version": "1.5.0",
      "model_name": "HTMLModel",
      "state": {
       "layout": "IPY_MODEL_93d823aca04c488bbe033d372f79295f",
       "style": "IPY_MODEL_0cb8a2b10580478ab24b4636ac5104b2",
       "value": "Location:(-120.33310113328065,34.06090854173977)"
      }
     },
     "a9f823fb067741d68cc3a9a4966ae9a3": {
      "model_module": "@jupyter-widgets/controls",
      "model_module_version": "1.5.0",
      "model_name": "DescriptionStyleModel",
      "state": {
       "description_width": ""
      }
     },
     "aa2598f8faf94057b462bfc55b9fc039": {
      "model_module": "jupyter-leaflet",
      "model_module_version": "^0.15.0",
      "model_name": "LeafletWidgetControlModel",
      "state": {
       "_model_module": "jupyter-leaflet",
       "_model_module_version": "^0.15.0",
       "_view_count": null,
       "_view_module": "jupyter-leaflet",
       "_view_module_version": "^0.15.0",
       "options": [
        "position",
        "transparent_bg"
       ],
       "position": "topright",
       "widget": "IPY_MODEL_1a64304c1cc04092aecd8dc04be32313"
      }
     },
     "aa30830491ac4563a09d26259035ef62": {
      "model_module": "jupyter-leaflet",
      "model_module_version": "^0.15.0",
      "model_name": "LeafletWMSLayerModel",
      "state": {
       "_model_module_version": "^0.15.0",
       "_view_module_version": "^0.15.0",
       "attribution": "MRLC",
       "crs": {
        "custom": false,
        "name": "EPSG3857"
       },
       "format": "image/png",
       "layers": "NLCD_2013_Land_Cover_L48",
       "max_native_zoom": 18,
       "min_native_zoom": 0,
       "name": "NLCD 2013 CONUS Land Cover",
       "options": [
        "attribution",
        "detect_retina",
        "format",
        "layers",
        "max_native_zoom",
        "max_zoom",
        "min_native_zoom",
        "min_zoom",
        "no_wrap",
        "styles",
        "tile_size",
        "tms",
        "transparent",
        "uppercase"
       ],
       "transparent": true,
       "url": "https://www.mrlc.gov/geoserver/mrlc_display/NLCD_2013_Land_Cover_L48/wms?"
      }
     },
     "aadaaac8a519465b9b26c4b807cfc290": {
      "model_module": "@jupyter-widgets/base",
      "model_module_version": "1.2.0",
      "model_name": "LayoutModel",
      "state": {}
     },
     "ab39cc3137c0456c84a3b7208bff8b43": {
      "model_module": "jupyter-leaflet",
      "model_module_version": "^0.15.0",
      "model_name": "LeafletTileLayerModel",
      "state": {
       "_model_module_version": "^0.15.0",
       "_view_module_version": "^0.15.0",
       "attribution": "Tiles (C) Esri -- Source: Esri, DeLorme, NAVTEQ, USGS, Intermap, iPC, NRCAN, Esri Japan, METI, Esri China (Hong Kong), Esri (Thailand), TomTom, 2012",
       "max_native_zoom": 18,
       "max_zoom": 22,
       "min_native_zoom": 0,
       "name": "Esri.WorldStreetMap",
       "options": [
        "attribution",
        "detect_retina",
        "max_native_zoom",
        "max_zoom",
        "min_native_zoom",
        "min_zoom",
        "no_wrap",
        "tile_size",
        "tms"
       ],
       "url": "https://server.arcgisonline.com/ArcGIS/rest/services/World_Street_Map/MapServer/tile/{z}/{y}/{x}"
      }
     },
     "ab5a387a2f134efd8b4578f336359ee2": {
      "model_module": "jupyter-leaflet",
      "model_module_version": "^0.15.0",
      "model_name": "LeafletTileLayerModel",
      "state": {
       "_model_module_version": "^0.15.0",
       "_view_module_version": "^0.15.0",
       "attribution": "Map tiles by <a href=\"https://labs.strava.com/heatmap\">Strava 2021</a>",
       "max_native_zoom": 18,
       "max_zoom": 15,
       "min_native_zoom": 0,
       "name": "Strava.Ride",
       "options": [
        "attribution",
        "detect_retina",
        "max_native_zoom",
        "max_zoom",
        "min_native_zoom",
        "min_zoom",
        "no_wrap",
        "tile_size",
        "tms"
       ],
       "url": "https://heatmap-external-a.strava.com/tiles/ride/hot/{z}/{x}/{y}.png"
      }
     },
     "acc6d9b0e8d6495fa803633316042469": {
      "model_module": "@jupyter-widgets/base",
      "model_module_version": "1.2.0",
      "model_name": "LayoutModel",
      "state": {
       "height": "auto",
       "padding": "0px 0px 0px 4px",
       "width": "auto"
      }
     },
     "ad167964bd114776ba597904990d6ffe": {
      "model_module": "jupyter-leaflet",
      "model_module_version": "^0.15.0",
      "model_name": "LeafletGeoJSONModel",
      "state": {
       "_model_module_version": "^0.15.0",
       "_view_module_version": "^0.15.0",
       "data": {
        "features": [
         {
          "geometry": {
           "coordinates": [
            [
             [
              -75.716534,
              35.916956
             ],
             [
              -75.716534,
              35.956956
             ],
             [
              -75.676535,
              35.956956
             ],
             [
              -75.676535,
              35.916956
             ],
             [
              -75.716534,
              35.916956
             ]
            ]
           ],
           "type": "Polygon"
          },
          "properties": {
           "id": 0,
           "style": {
            "color": "grey",
            "fillColor": "grey",
            "fillOpacity": 0.2,
            "weight": 1
           }
          },
          "type": "Feature"
         },
         {
          "geometry": {
           "coordinates": [
            [
             [
              -75.694555,
              35.908733
             ],
             [
              -75.694555,
              35.948733
             ],
             [
              -75.654555,
              35.948733
             ],
             [
              -75.654555,
              35.908733
             ],
             [
              -75.694555,
              35.908733
             ]
            ]
           ],
           "type": "Polygon"
          },
          "properties": {
           "id": 1,
           "style": {
            "color": "grey",
            "fillColor": "grey",
            "fillOpacity": 0.2,
            "weight": 1
           }
          },
          "type": "Feature"
         },
         {
          "geometry": {
           "coordinates": [
            [
             [
              -75.685951,
              35.88971
             ],
             [
              -75.685951,
              35.92971
             ],
             [
              -75.645951,
              35.92971
             ],
             [
              -75.645951,
              35.88971
             ],
             [
              -75.685951,
              35.88971
             ]
            ]
           ],
           "type": "Polygon"
          },
          "properties": {
           "id": 2,
           "style": {
            "color": "grey",
            "fillColor": "grey",
            "fillOpacity": 0.2,
            "weight": 1
           }
          },
          "type": "Feature"
         },
         {
          "geometry": {
           "coordinates": [
            [
             [
              -75.674769,
              35.882985
             ],
             [
              -75.674769,
              35.922985
             ],
             [
              -75.634769,
              35.922985
             ],
             [
              -75.634769,
              35.882985
             ],
             [
              -75.674769,
              35.882985
             ]
            ]
           ],
           "type": "Polygon"
          },
          "properties": {
           "id": 3,
           "style": {
            "color": "grey",
            "fillColor": "grey",
            "fillOpacity": 0.2,
            "weight": 1
           }
          },
          "type": "Feature"
         },
         {
          "geometry": {
           "coordinates": [
            [
             [
              -75.660026,
              35.853858
             ],
             [
              -75.660026,
              35.893858
             ],
             [
              -75.620026,
              35.893858
             ],
             [
              -75.620026,
              35.853858
             ],
             [
              -75.660026,
              35.853858
             ]
            ]
           ],
           "type": "Polygon"
          },
          "properties": {
           "id": 4,
           "style": {
            "color": "grey",
            "fillColor": "grey",
            "fillOpacity": 0.2,
            "weight": 1
           }
          },
          "type": "Feature"
         },
         {
          "geometry": {
           "coordinates": [
            [
             [
              -75.658138,
              35.875441
             ],
             [
              -75.658138,
              35.915441
             ],
             [
              -75.618138,
              35.915441
             ],
             [
              -75.618138,
              35.875441
             ],
             [
              -75.658138,
              35.875441
             ]
            ]
           ],
           "type": "Polygon"
          },
          "properties": {
           "id": 5,
           "style": {
            "color": "grey",
            "fillColor": "grey",
            "fillOpacity": 0.2,
            "weight": 1
           }
          },
          "type": "Feature"
         },
         {
          "geometry": {
           "coordinates": [
            [
             [
              -75.646923,
              35.832015
             ],
             [
              -75.646923,
              35.872015
             ],
             [
              -75.606923,
              35.872015
             ],
             [
              -75.606923,
              35.832015
             ],
             [
              -75.646923,
              35.832015
             ]
            ]
           ],
           "type": "Polygon"
          },
          "properties": {
           "id": 6,
           "style": {
            "color": "grey",
            "fillColor": "grey",
            "fillOpacity": 0.2,
            "weight": 1
           }
          },
          "type": "Feature"
         },
         {
          "geometry": {
           "coordinates": [
            [
             [
              -75.64272,
              35.851366
             ],
             [
              -75.64272,
              35.891366
             ],
             [
              -75.60272,
              35.891366
             ],
             [
              -75.60272,
              35.851366
             ],
             [
              -75.64272,
              35.851366
             ]
            ]
           ],
           "type": "Polygon"
          },
          "properties": {
           "id": 7,
           "style": {
            "color": "grey",
            "fillColor": "grey",
            "fillOpacity": 0.2,
            "weight": 1
           }
          },
          "type": "Feature"
         },
         {
          "geometry": {
           "coordinates": [
            [
             [
              -75.640345,
              35.834719
             ],
             [
              -75.640345,
              35.874719
             ],
             [
              -75.600345,
              35.874719
             ],
             [
              -75.600345,
              35.834719
             ],
             [
              -75.640345,
              35.834719
             ]
            ]
           ],
           "type": "Polygon"
          },
          "properties": {
           "id": 8,
           "style": {
            "color": "grey",
            "fillColor": "grey",
            "fillOpacity": 0.2,
            "weight": 1
           }
          },
          "type": "Feature"
         },
         {
          "geometry": {
           "coordinates": [
            [
             [
              -75.635968,
              35.805891
             ],
             [
              -75.635968,
              35.845891
             ],
             [
              -75.595968,
              35.845891
             ],
             [
              -75.595968,
              35.805891
             ],
             [
              -75.635968,
              35.805891
             ]
            ]
           ],
           "type": "Polygon"
          },
          "properties": {
           "id": 9,
           "style": {
            "color": "grey",
            "fillColor": "grey",
            "fillOpacity": 0.2,
            "weight": 1
           }
          },
          "type": "Feature"
         },
         {
          "geometry": {
           "coordinates": [
            [
             [
              -75.740842,
              35.918807
             ],
             [
              -75.740842,
              35.958807
             ],
             [
              -75.700842,
              35.958807
             ],
             [
              -75.700842,
              35.918807
             ],
             [
              -75.740842,
              35.918807
             ]
            ]
           ],
           "type": "Polygon"
          },
          "properties": {
           "id": 10,
           "style": {
            "color": "grey",
            "fillColor": "grey",
            "fillOpacity": 0.2,
            "weight": 1
           }
          },
          "type": "Feature"
         },
         {
          "geometry": {
           "coordinates": [
            [
             [
              -75.736927,
              35.903127
             ],
             [
              -75.736927,
              35.943127
             ],
             [
              -75.696927,
              35.943127
             ],
             [
              -75.696927,
              35.903127
             ],
             [
              -75.736927,
              35.903127
             ]
            ]
           ],
           "type": "Polygon"
          },
          "properties": {
           "id": 11,
           "style": {
            "color": "grey",
            "fillColor": "grey",
            "fillOpacity": 0.2,
            "weight": 1
           }
          },
          "type": "Feature"
         },
         {
          "geometry": {
           "coordinates": [
            [
             [
              -75.717165,
              35.889248
             ],
             [
              -75.717165,
              35.929248
             ],
             [
              -75.677165,
              35.929248
             ],
             [
              -75.677165,
              35.889248
             ],
             [
              -75.717165,
              35.889248
             ]
            ]
           ],
           "type": "Polygon"
          },
          "properties": {
           "id": 12,
           "style": {
            "color": "grey",
            "fillColor": "grey",
            "fillOpacity": 0.2,
            "weight": 1
           }
          },
          "type": "Feature"
         },
         {
          "geometry": {
           "coordinates": [
            [
             [
              -75.703513,
              35.871566
             ],
             [
              -75.703513,
              35.911566
             ],
             [
              -75.663513,
              35.911566
             ],
             [
              -75.663513,
              35.871566
             ],
             [
              -75.703513,
              35.871566
             ]
            ]
           ],
           "type": "Polygon"
          },
          "properties": {
           "id": 13,
           "style": {
            "color": "grey",
            "fillColor": "grey",
            "fillOpacity": 0.2,
            "weight": 1
           }
          },
          "type": "Feature"
         },
         {
          "geometry": {
           "coordinates": [
            [
             [
              -75.692158,
              35.861394
             ],
             [
              -75.692158,
              35.901394
             ],
             [
              -75.652158,
              35.901394
             ],
             [
              -75.652158,
              35.861394
             ],
             [
              -75.692158,
              35.861394
             ]
            ]
           ],
           "type": "Polygon"
          },
          "properties": {
           "id": 14,
           "style": {
            "color": "grey",
            "fillColor": "grey",
            "fillOpacity": 0.2,
            "weight": 1
           }
          },
          "type": "Feature"
         },
         {
          "geometry": {
           "coordinates": [
            [
             [
              -75.680497,
              35.840836
             ],
             [
              -75.680497,
              35.880836
             ],
             [
              -75.640497,
              35.880836
             ],
             [
              -75.640497,
              35.840836
             ],
             [
              -75.680497,
              35.840836
             ]
            ]
           ],
           "type": "Polygon"
          },
          "properties": {
           "id": 15,
           "style": {
            "color": "grey",
            "fillColor": "grey",
            "fillOpacity": 0.2,
            "weight": 1
           }
          },
          "type": "Feature"
         },
         {
          "geometry": {
           "coordinates": [
            [
             [
              -75.678108,
              35.820058
             ],
             [
              -75.678108,
              35.860058
             ],
             [
              -75.638108,
              35.860058
             ],
             [
              -75.638108,
              35.820058
             ],
             [
              -75.678108,
              35.820058
             ]
            ]
           ],
           "type": "Polygon"
          },
          "properties": {
           "id": 16,
           "style": {
            "color": "grey",
            "fillColor": "grey",
            "fillOpacity": 0.2,
            "weight": 1
           }
          },
          "type": "Feature"
         },
         {
          "geometry": {
           "coordinates": [
            [
             [
              -75.673828,
              35.802663
             ],
             [
              -75.673828,
              35.842663
             ],
             [
              -75.633828,
              35.842663
             ],
             [
              -75.633828,
              35.802663
             ],
             [
              -75.673828,
              35.802663
             ]
            ]
           ],
           "type": "Polygon"
          },
          "properties": {
           "id": 17,
           "style": {
            "color": "grey",
            "fillColor": "grey",
            "fillOpacity": 0.2,
            "weight": 1
           }
          },
          "type": "Feature"
         },
         {
          "geometry": {
           "coordinates": [
            [
             [
              -75.657215,
              35.802051
             ],
             [
              -75.657215,
              35.842051
             ],
             [
              -75.617215,
              35.842051
             ],
             [
              -75.617215,
              35.802051
             ],
             [
              -75.657215,
              35.802051
             ]
            ]
           ],
           "type": "Polygon"
          },
          "properties": {
           "id": 18,
           "style": {
            "color": "grey",
            "fillColor": "grey",
            "fillOpacity": 0.2,
            "weight": 1
           }
          },
          "type": "Feature"
         },
         {
          "geometry": {
           "coordinates": [
            [
             [
              -75.642101,
              35.78715
             ],
             [
              -75.642101,
              35.82715
             ],
             [
              -75.602101,
              35.82715
             ],
             [
              -75.602101,
              35.78715
             ],
             [
              -75.642101,
              35.78715
             ]
            ]
           ],
           "type": "Polygon"
          },
          "properties": {
           "id": 19,
           "style": {
            "color": "grey",
            "fillColor": "grey",
            "fillOpacity": 0.2,
            "weight": 1
           }
          },
          "type": "Feature"
         },
         {
          "geometry": {
           "coordinates": [
            [
             [
              -75.642562,
              35.873101
             ],
             [
              -75.642562,
              35.913101
             ],
             [
              -75.602562,
              35.913101
             ],
             [
              -75.602562,
              35.873101
             ],
             [
              -75.642562,
              35.873101
             ]
            ]
           ],
           "type": "Polygon"
          },
          "properties": {
           "id": 20,
           "style": {
            "color": "grey",
            "fillColor": "grey",
            "fillOpacity": 0.2,
            "weight": 1
           }
          },
          "type": "Feature"
         },
         {
          "geometry": {
           "coordinates": [
            [
             [
              -75.642082,
              35.879444
             ],
             [
              -75.642082,
              35.919444
             ],
             [
              -75.602082,
              35.919444
             ],
             [
              -75.602082,
              35.879444
             ],
             [
              -75.642082,
              35.879444
             ]
            ]
           ],
           "type": "Polygon"
          },
          "properties": {
           "id": 21,
           "style": {
            "color": "grey",
            "fillColor": "grey",
            "fillOpacity": 0.2,
            "weight": 1
           }
          },
          "type": "Feature"
         },
         {
          "geometry": {
           "coordinates": [
            [
             [
              -75.641963,
              35.876311
             ],
             [
              -75.641963,
              35.916311
             ],
             [
              -75.601963,
              35.916311
             ],
             [
              -75.601963,
              35.876311
             ],
             [
              -75.641963,
              35.876311
             ]
            ]
           ],
           "type": "Polygon"
          },
          "properties": {
           "id": 22,
           "style": {
            "color": "grey",
            "fillColor": "grey",
            "fillOpacity": 0.2,
            "weight": 1
           }
          },
          "type": "Feature"
         },
         {
          "geometry": {
           "coordinates": [
            [
             [
              -75.640984,
              35.872596
             ],
             [
              -75.640984,
              35.912596
             ],
             [
              -75.600984,
              35.912596
             ],
             [
              -75.600984,
              35.872596
             ],
             [
              -75.640984,
              35.872596
             ]
            ]
           ],
           "type": "Polygon"
          },
          "properties": {
           "id": 23,
           "style": {
            "color": "grey",
            "fillColor": "grey",
            "fillOpacity": 0.2,
            "weight": 1
           }
          },
          "type": "Feature"
         },
         {
          "geometry": {
           "coordinates": [
            [
             [
              -75.63999,
              35.871032
             ],
             [
              -75.63999,
              35.911032
             ],
             [
              -75.59999,
              35.911032
             ],
             [
              -75.59999,
              35.871032
             ],
             [
              -75.63999,
              35.871032
             ]
            ]
           ],
           "type": "Polygon"
          },
          "properties": {
           "id": 24,
           "style": {
            "color": "grey",
            "fillColor": "grey",
            "fillOpacity": 0.2,
            "weight": 1
           }
          },
          "type": "Feature"
         },
         {
          "geometry": {
           "coordinates": [
            [
             [
              -75.639205,
              35.879924
             ],
             [
              -75.639205,
              35.919924
             ],
             [
              -75.599205,
              35.919924
             ],
             [
              -75.599205,
              35.879924
             ],
             [
              -75.639205,
              35.879924
             ]
            ]
           ],
           "type": "Polygon"
          },
          "properties": {
           "id": 25,
           "style": {
            "color": "grey",
            "fillColor": "grey",
            "fillOpacity": 0.2,
            "weight": 1
           }
          },
          "type": "Feature"
         },
         {
          "geometry": {
           "coordinates": [
            [
             [
              -75.637728,
              35.869072
             ],
             [
              -75.637728,
              35.909072
             ],
             [
              -75.597728,
              35.909072
             ],
             [
              -75.597728,
              35.869072
             ],
             [
              -75.637728,
              35.869072
             ]
            ]
           ],
           "type": "Polygon"
          },
          "properties": {
           "id": 26,
           "style": {
            "color": "grey",
            "fillColor": "grey",
            "fillOpacity": 0.2,
            "weight": 1
           }
          },
          "type": "Feature"
         },
         {
          "geometry": {
           "coordinates": [
            [
             [
              -75.636746,
              35.878121
             ],
             [
              -75.636746,
              35.918121
             ],
             [
              -75.596746,
              35.918121
             ],
             [
              -75.596746,
              35.878121
             ],
             [
              -75.636746,
              35.878121
             ]
            ]
           ],
           "type": "Polygon"
          },
          "properties": {
           "id": 27,
           "style": {
            "color": "grey",
            "fillColor": "grey",
            "fillOpacity": 0.2,
            "weight": 1
           }
          },
          "type": "Feature"
         },
         {
          "geometry": {
           "coordinates": [
            [
             [
              -75.63623,
              35.871701
             ],
             [
              -75.63623,
              35.911701
             ],
             [
              -75.59623,
              35.911701
             ],
             [
              -75.59623,
              35.871701
             ],
             [
              -75.63623,
              35.871701
             ]
            ]
           ],
           "type": "Polygon"
          },
          "properties": {
           "id": 28,
           "style": {
            "color": "grey",
            "fillColor": "grey",
            "fillOpacity": 0.2,
            "weight": 1
           }
          },
          "type": "Feature"
         },
         {
          "geometry": {
           "coordinates": [
            [
             [
              -75.635934,
              35.874956
             ],
             [
              -75.635934,
              35.914956
             ],
             [
              -75.595934,
              35.914956
             ],
             [
              -75.595934,
              35.874956
             ],
             [
              -75.635934,
              35.874956
             ]
            ]
           ],
           "type": "Polygon"
          },
          "properties": {
           "id": 29,
           "style": {
            "color": "grey",
            "fillColor": "grey",
            "fillOpacity": 0.2,
            "weight": 1
           }
          },
          "type": "Feature"
         },
         {
          "geometry": {
           "coordinates": [
            [
             [
              -75.635892,
              35.925233
             ],
             [
              -75.635892,
              35.965233
             ],
             [
              -75.595892,
              35.965233
             ],
             [
              -75.595892,
              35.925233
             ],
             [
              -75.635892,
              35.925233
             ]
            ]
           ],
           "type": "Polygon"
          },
          "properties": {
           "id": 30,
           "style": {
            "color": "grey",
            "fillColor": "grey",
            "fillOpacity": 0.2,
            "weight": 1
           }
          },
          "type": "Feature"
         },
         {
          "geometry": {
           "coordinates": [
            [
             [
              -75.634681,
              35.92296
             ],
             [
              -75.634681,
              35.96296
             ],
             [
              -75.594681,
              35.96296
             ],
             [
              -75.594681,
              35.92296
             ],
             [
              -75.634681,
              35.92296
             ]
            ]
           ],
           "type": "Polygon"
          },
          "properties": {
           "id": 31,
           "style": {
            "color": "grey",
            "fillColor": "grey",
            "fillOpacity": 0.2,
            "weight": 1
           }
          },
          "type": "Feature"
         },
         {
          "geometry": {
           "coordinates": [
            [
             [
              -75.633416,
              35.920719
             ],
             [
              -75.633416,
              35.960719
             ],
             [
              -75.593416,
              35.960719
             ],
             [
              -75.593416,
              35.920719
             ],
             [
              -75.633416,
              35.920719
             ]
            ]
           ],
           "type": "Polygon"
          },
          "properties": {
           "id": 32,
           "style": {
            "color": "grey",
            "fillColor": "grey",
            "fillOpacity": 0.2,
            "weight": 1
           }
          },
          "type": "Feature"
         },
         {
          "geometry": {
           "coordinates": [
            [
             [
              -75.632002,
              35.918567
             ],
             [
              -75.632002,
              35.958567
             ],
             [
              -75.592002,
              35.958567
             ],
             [
              -75.592002,
              35.918567
             ],
             [
              -75.632002,
              35.918567
             ]
            ]
           ],
           "type": "Polygon"
          },
          "properties": {
           "id": 33,
           "style": {
            "color": "grey",
            "fillColor": "grey",
            "fillOpacity": 0.2,
            "weight": 1
           }
          },
          "type": "Feature"
         },
         {
          "geometry": {
           "coordinates": [
            [
             [
              -75.630796,
              35.916297
             ],
             [
              -75.630796,
              35.956297
             ],
             [
              -75.590796,
              35.956297
             ],
             [
              -75.590796,
              35.916297
             ],
             [
              -75.630796,
              35.916297
             ]
            ]
           ],
           "type": "Polygon"
          },
          "properties": {
           "id": 34,
           "style": {
            "color": "grey",
            "fillColor": "grey",
            "fillOpacity": 0.2,
            "weight": 1
           }
          },
          "type": "Feature"
         },
         {
          "geometry": {
           "coordinates": [
            [
             [
              -75.629686,
              35.913973
             ],
             [
              -75.629686,
              35.953973
             ],
             [
              -75.589686,
              35.953973
             ],
             [
              -75.589686,
              35.913973
             ],
             [
              -75.629686,
              35.913973
             ]
            ]
           ],
           "type": "Polygon"
          },
          "properties": {
           "id": 35,
           "style": {
            "color": "grey",
            "fillColor": "grey",
            "fillOpacity": 0.2,
            "weight": 1
           }
          },
          "type": "Feature"
         },
         {
          "geometry": {
           "coordinates": [
            [
             [
              -75.628382,
              35.911752
             ],
             [
              -75.628382,
              35.951752
             ],
             [
              -75.588382,
              35.951752
             ],
             [
              -75.588382,
              35.911752
             ],
             [
              -75.628382,
              35.911752
             ]
            ]
           ],
           "type": "Polygon"
          },
          "properties": {
           "id": 36,
           "style": {
            "color": "grey",
            "fillColor": "grey",
            "fillOpacity": 0.2,
            "weight": 1
           }
          },
          "type": "Feature"
         },
         {
          "geometry": {
           "coordinates": [
            [
             [
              -75.627078,
              35.909531
             ],
             [
              -75.627078,
              35.949531
             ],
             [
              -75.587078,
              35.949531
             ],
             [
              -75.587078,
              35.909531
             ],
             [
              -75.627078,
              35.909531
             ]
            ]
           ],
           "type": "Polygon"
          },
          "properties": {
           "id": 37,
           "style": {
            "color": "grey",
            "fillColor": "grey",
            "fillOpacity": 0.2,
            "weight": 1
           }
          },
          "type": "Feature"
         },
         {
          "geometry": {
           "coordinates": [
            [
             [
              -75.625774,
              35.90731
             ],
             [
              -75.625774,
              35.94731
             ],
             [
              -75.585774,
              35.94731
             ],
             [
              -75.585774,
              35.90731
             ],
             [
              -75.625774,
              35.90731
             ]
            ]
           ],
           "type": "Polygon"
          },
          "properties": {
           "id": 38,
           "style": {
            "color": "grey",
            "fillColor": "grey",
            "fillOpacity": 0.2,
            "weight": 1
           }
          },
          "type": "Feature"
         },
         {
          "geometry": {
           "coordinates": [
            [
             [
              -75.62447,
              35.905089
             ],
             [
              -75.62447,
              35.945089
             ],
             [
              -75.58447,
              35.945089
             ],
             [
              -75.58447,
              35.905089
             ],
             [
              -75.62447,
              35.905089
             ]
            ]
           ],
           "type": "Polygon"
          },
          "properties": {
           "id": 39,
           "style": {
            "color": "grey",
            "fillColor": "grey",
            "fillOpacity": 0.2,
            "weight": 1
           }
          },
          "type": "Feature"
         },
         {
          "geometry": {
           "coordinates": [
            [
             [
              -75.63135,
              35.870627
             ],
             [
              -75.63135,
              35.910627
             ],
             [
              -75.59135,
              35.910627
             ],
             [
              -75.59135,
              35.870627
             ],
             [
              -75.63135,
              35.870627
             ]
            ]
           ],
           "type": "Polygon"
          },
          "properties": {
           "id": 40,
           "style": {
            "color": "grey",
            "fillColor": "grey",
            "fillOpacity": 0.2,
            "weight": 1
           }
          },
          "type": "Feature"
         },
         {
          "geometry": {
           "coordinates": [
            [
             [
              -75.630815,
              35.867722
             ],
             [
              -75.630815,
              35.907722
             ],
             [
              -75.590815,
              35.907722
             ],
             [
              -75.590815,
              35.867722
             ],
             [
              -75.630815,
              35.867722
             ]
            ]
           ],
           "type": "Polygon"
          },
          "properties": {
           "id": 41,
           "style": {
            "color": "grey",
            "fillColor": "grey",
            "fillOpacity": 0.2,
            "weight": 1
           }
          },
          "type": "Feature"
         },
         {
          "geometry": {
           "coordinates": [
            [
             [
              -75.629922,
              35.860418
             ],
             [
              -75.629922,
              35.900418
             ],
             [
              -75.589922,
              35.900418
             ],
             [
              -75.589922,
              35.860418
             ],
             [
              -75.629922,
              35.860418
             ]
            ]
           ],
           "type": "Polygon"
          },
          "properties": {
           "id": 42,
           "style": {
            "color": "grey",
            "fillColor": "grey",
            "fillOpacity": 0.2,
            "weight": 1
           }
          },
          "type": "Feature"
         },
         {
          "geometry": {
           "coordinates": [
            [
             [
              -75.629522,
              35.864425
             ],
             [
              -75.629522,
              35.904425
             ],
             [
              -75.589522,
              35.904425
             ],
             [
              -75.589522,
              35.864425
             ],
             [
              -75.629522,
              35.864425
             ]
            ]
           ],
           "type": "Polygon"
          },
          "properties": {
           "id": 43,
           "style": {
            "color": "grey",
            "fillColor": "grey",
            "fillOpacity": 0.2,
            "weight": 1
           }
          },
          "type": "Feature"
         },
         {
          "geometry": {
           "coordinates": [
            [
             [
              -75.628773,
              35.862976
             ],
             [
              -75.628773,
              35.902976
             ],
             [
              -75.588773,
              35.902976
             ],
             [
              -75.588773,
              35.862976
             ],
             [
              -75.628773,
              35.862976
             ]
            ]
           ],
           "type": "Polygon"
          },
          "properties": {
           "id": 44,
           "style": {
            "color": "grey",
            "fillColor": "grey",
            "fillOpacity": 0.2,
            "weight": 1
           }
          },
          "type": "Feature"
         },
         {
          "geometry": {
           "coordinates": [
            [
             [
              -75.628292,
              35.859581
             ],
             [
              -75.628292,
              35.899581
             ],
             [
              -75.588292,
              35.899581
             ],
             [
              -75.588292,
              35.859581
             ],
             [
              -75.628292,
              35.859581
             ]
            ]
           ],
           "type": "Polygon"
          },
          "properties": {
           "id": 45,
           "style": {
            "color": "grey",
            "fillColor": "grey",
            "fillOpacity": 0.2,
            "weight": 1
           }
          },
          "type": "Feature"
         },
         {
          "geometry": {
           "coordinates": [
            [
             [
              -75.627879,
              35.8702
             ],
             [
              -75.627879,
              35.9102
             ],
             [
              -75.587879,
              35.9102
             ],
             [
              -75.587879,
              35.8702
             ],
             [
              -75.627879,
              35.8702
             ]
            ]
           ],
           "type": "Polygon"
          },
          "properties": {
           "id": 46,
           "style": {
            "color": "grey",
            "fillColor": "grey",
            "fillOpacity": 0.2,
            "weight": 1
           }
          },
          "type": "Feature"
         },
         {
          "geometry": {
           "coordinates": [
            [
             [
              -75.625958,
              35.862477
             ],
             [
              -75.625958,
              35.902477
             ],
             [
              -75.585958,
              35.902477
             ],
             [
              -75.585958,
              35.862477
             ],
             [
              -75.625958,
              35.862477
             ]
            ]
           ],
           "type": "Polygon"
          },
          "properties": {
           "id": 47,
           "style": {
            "color": "grey",
            "fillColor": "grey",
            "fillOpacity": 0.2,
            "weight": 1
           }
          },
          "type": "Feature"
         },
         {
          "geometry": {
           "coordinates": [
            [
             [
              -75.625535,
              35.871889
             ],
             [
              -75.625535,
              35.911889
             ],
             [
              -75.585535,
              35.911889
             ],
             [
              -75.585535,
              35.871889
             ],
             [
              -75.625535,
              35.871889
             ]
            ]
           ],
           "type": "Polygon"
          },
          "properties": {
           "id": 48,
           "style": {
            "color": "grey",
            "fillColor": "grey",
            "fillOpacity": 0.2,
            "weight": 1
           }
          },
          "type": "Feature"
         },
         {
          "geometry": {
           "coordinates": [
            [
             [
              -75.62316,
              35.864817
             ],
             [
              -75.62316,
              35.904817
             ],
             [
              -75.58316,
              35.904817
             ],
             [
              -75.58316,
              35.864817
             ],
             [
              -75.62316,
              35.864817
             ]
            ]
           ],
           "type": "Polygon"
          },
          "properties": {
           "id": 49,
           "style": {
            "color": "grey",
            "fillColor": "grey",
            "fillOpacity": 0.2,
            "weight": 1
           }
          },
          "type": "Feature"
         },
         {
          "geometry": {
           "coordinates": [
            [
             [
              -75.632051,
              35.884154
             ],
             [
              -75.632051,
              35.924154
             ],
             [
              -75.592051,
              35.924154
             ],
             [
              -75.592051,
              35.884154
             ],
             [
              -75.632051,
              35.884154
             ]
            ]
           ],
           "type": "Polygon"
          },
          "properties": {
           "id": 50,
           "style": {
            "color": "grey",
            "fillColor": "grey",
            "fillOpacity": 0.2,
            "weight": 1
           }
          },
          "type": "Feature"
         },
         {
          "geometry": {
           "coordinates": [
            [
             [
              -75.631471,
              35.885106
             ],
             [
              -75.631471,
              35.925106
             ],
             [
              -75.591471,
              35.925106
             ],
             [
              -75.591471,
              35.885106
             ],
             [
              -75.631471,
              35.885106
             ]
            ]
           ],
           "type": "Polygon"
          },
          "properties": {
           "id": 51,
           "style": {
            "color": "grey",
            "fillColor": "grey",
            "fillOpacity": 0.2,
            "weight": 1
           }
          },
          "type": "Feature"
         },
         {
          "geometry": {
           "coordinates": [
            [
             [
              -75.630984,
              35.882066
             ],
             [
              -75.630984,
              35.922066
             ],
             [
              -75.590984,
              35.922066
             ],
             [
              -75.590984,
              35.882066
             ],
             [
              -75.630984,
              35.882066
             ]
            ]
           ],
           "type": "Polygon"
          },
          "properties": {
           "id": 52,
           "style": {
            "color": "grey",
            "fillColor": "grey",
            "fillOpacity": 0.2,
            "weight": 1
           }
          },
          "type": "Feature"
         },
         {
          "geometry": {
           "coordinates": [
            [
             [
              -75.630452,
              35.880683
             ],
             [
              -75.630452,
              35.920683
             ],
             [
              -75.590452,
              35.920683
             ],
             [
              -75.590452,
              35.880683
             ],
             [
              -75.630452,
              35.880683
             ]
            ]
           ],
           "type": "Polygon"
          },
          "properties": {
           "id": 53,
           "style": {
            "color": "grey",
            "fillColor": "grey",
            "fillOpacity": 0.2,
            "weight": 1
           }
          },
          "type": "Feature"
         },
         {
          "geometry": {
           "coordinates": [
            [
             [
              -75.629152,
              35.885882
             ],
             [
              -75.629152,
              35.925882
             ],
             [
              -75.589152,
              35.925882
             ],
             [
              -75.589152,
              35.885882
             ],
             [
              -75.629152,
              35.885882
             ]
            ]
           ],
           "type": "Polygon"
          },
          "properties": {
           "id": 54,
           "style": {
            "color": "grey",
            "fillColor": "grey",
            "fillOpacity": 0.2,
            "weight": 1
           }
          },
          "type": "Feature"
         },
         {
          "geometry": {
           "coordinates": [
            [
             [
              -75.627974,
              35.88132
             ],
             [
              -75.627974,
              35.92132
             ],
             [
              -75.587974,
              35.92132
             ],
             [
              -75.587974,
              35.88132
             ],
             [
              -75.627974,
              35.88132
             ]
            ]
           ],
           "type": "Polygon"
          },
          "properties": {
           "id": 55,
           "style": {
            "color": "grey",
            "fillColor": "grey",
            "fillOpacity": 0.2,
            "weight": 1
           }
          },
          "type": "Feature"
         },
         {
          "geometry": {
           "coordinates": [
            [
             [
              -75.627332,
              35.886085
             ],
             [
              -75.627332,
              35.926085
             ],
             [
              -75.587332,
              35.926085
             ],
             [
              -75.587332,
              35.886085
             ],
             [
              -75.627332,
              35.886085
             ]
            ]
           ],
           "type": "Polygon"
          },
          "properties": {
           "id": 56,
           "style": {
            "color": "grey",
            "fillColor": "grey",
            "fillOpacity": 0.2,
            "weight": 1
           }
          },
          "type": "Feature"
         },
         {
          "geometry": {
           "coordinates": [
            [
             [
              -75.625627,
              35.88475
             ],
             [
              -75.625627,
              35.92475
             ],
             [
              -75.585627,
              35.92475
             ],
             [
              -75.585627,
              35.88475
             ],
             [
              -75.625627,
              35.88475
             ]
            ]
           ],
           "type": "Polygon"
          },
          "properties": {
           "id": 57,
           "style": {
            "color": "grey",
            "fillColor": "grey",
            "fillOpacity": 0.2,
            "weight": 1
           }
          },
          "type": "Feature"
         },
         {
          "geometry": {
           "coordinates": [
            [
             [
              -75.625622,
              35.882324
             ],
             [
              -75.625622,
              35.922324
             ],
             [
              -75.585622,
              35.922324
             ],
             [
              -75.585622,
              35.882324
             ],
             [
              -75.625622,
              35.882324
             ]
            ]
           ],
           "type": "Polygon"
          },
          "properties": {
           "id": 58,
           "style": {
            "color": "grey",
            "fillColor": "grey",
            "fillOpacity": 0.2,
            "weight": 1
           }
          },
          "type": "Feature"
         },
         {
          "geometry": {
           "coordinates": [
            [
             [
              -75.62316,
              35.882896
             ],
             [
              -75.62316,
              35.922896
             ],
             [
              -75.58316,
              35.922896
             ],
             [
              -75.58316,
              35.882896
             ],
             [
              -75.62316,
              35.882896
             ]
            ]
           ],
           "type": "Polygon"
          },
          "properties": {
           "id": 59,
           "style": {
            "color": "grey",
            "fillColor": "grey",
            "fillOpacity": 0.2,
            "weight": 1
           }
          },
          "type": "Feature"
         },
         {
          "geometry": {
           "coordinates": [
            [
             [
              -75.645685,
              35.922389
             ],
             [
              -75.645685,
              35.962389
             ],
             [
              -75.605685,
              35.962389
             ],
             [
              -75.605685,
              35.922389
             ],
             [
              -75.645685,
              35.922389
             ]
            ]
           ],
           "type": "Polygon"
          },
          "properties": {
           "id": 60,
           "style": {
            "color": "grey",
            "fillColor": "grey",
            "fillOpacity": 0.2,
            "weight": 1
           }
          },
          "type": "Feature"
         },
         {
          "geometry": {
           "coordinates": [
            [
             [
              -75.642998,
              35.9192
             ],
             [
              -75.642998,
              35.9592
             ],
             [
              -75.602998,
              35.9592
             ],
             [
              -75.602998,
              35.9192
             ],
             [
              -75.642998,
              35.9192
             ]
            ]
           ],
           "type": "Polygon"
          },
          "properties": {
           "id": 61,
           "style": {
            "color": "grey",
            "fillColor": "grey",
            "fillOpacity": 0.2,
            "weight": 1
           }
          },
          "type": "Feature"
         },
         {
          "geometry": {
           "coordinates": [
            [
             [
              -75.64182,
              35.914947
             ],
             [
              -75.64182,
              35.954947
             ],
             [
              -75.60182,
              35.954947
             ],
             [
              -75.60182,
              35.914947
             ],
             [
              -75.64182,
              35.914947
             ]
            ]
           ],
           "type": "Polygon"
          },
          "properties": {
           "id": 62,
           "style": {
            "color": "grey",
            "fillColor": "grey",
            "fillOpacity": 0.2,
            "weight": 1
           }
          },
          "type": "Feature"
         },
         {
          "geometry": {
           "coordinates": [
            [
             [
              -75.638943,
              35.911642
             ],
             [
              -75.638943,
              35.951642
             ],
             [
              -75.598943,
              35.951642
             ],
             [
              -75.598943,
              35.911642
             ],
             [
              -75.638943,
              35.911642
             ]
            ]
           ],
           "type": "Polygon"
          },
          "properties": {
           "id": 63,
           "style": {
            "color": "grey",
            "fillColor": "grey",
            "fillOpacity": 0.2,
            "weight": 1
           }
          },
          "type": "Feature"
         },
         {
          "geometry": {
           "coordinates": [
            [
             [
              -75.636715,
              35.907861
             ],
             [
              -75.636715,
              35.947861
             ],
             [
              -75.596715,
              35.947861
             ],
             [
              -75.596715,
              35.907861
             ],
             [
              -75.636715,
              35.907861
             ]
            ]
           ],
           "type": "Polygon"
          },
          "properties": {
           "id": 64,
           "style": {
            "color": "grey",
            "fillColor": "grey",
            "fillOpacity": 0.2,
            "weight": 1
           }
          },
          "type": "Feature"
         },
         {
          "geometry": {
           "coordinates": [
            [
             [
              -75.633769,
              35.904626
             ],
             [
              -75.633769,
              35.944626
             ],
             [
              -75.593769,
              35.944626
             ],
             [
              -75.593769,
              35.904626
             ],
             [
              -75.633769,
              35.904626
             ]
            ]
           ],
           "type": "Polygon"
          },
          "properties": {
           "id": 65,
           "style": {
            "color": "grey",
            "fillColor": "grey",
            "fillOpacity": 0.2,
            "weight": 1
           }
          },
          "type": "Feature"
         },
         {
          "geometry": {
           "coordinates": [
            [
             [
              -75.631313,
              35.900986
             ],
             [
              -75.631313,
              35.940986
             ],
             [
              -75.591313,
              35.940986
             ],
             [
              -75.591313,
              35.900986
             ],
             [
              -75.631313,
              35.900986
             ]
            ]
           ],
           "type": "Polygon"
          },
          "properties": {
           "id": 66,
           "style": {
            "color": "grey",
            "fillColor": "grey",
            "fillOpacity": 0.2,
            "weight": 1
           }
          },
          "type": "Feature"
         },
         {
          "geometry": {
           "coordinates": [
            [
             [
              -75.628928,
              35.897275
             ],
             [
              -75.628928,
              35.937275
             ],
             [
              -75.588928,
              35.937275
             ],
             [
              -75.588928,
              35.897275
             ],
             [
              -75.628928,
              35.897275
             ]
            ]
           ],
           "type": "Polygon"
          },
          "properties": {
           "id": 67,
           "style": {
            "color": "grey",
            "fillColor": "grey",
            "fillOpacity": 0.2,
            "weight": 1
           }
          },
          "type": "Feature"
         },
         {
          "geometry": {
           "coordinates": [
            [
             [
              -75.625514,
              35.894536
             ],
             [
              -75.625514,
              35.934536
             ],
             [
              -75.585514,
              35.934536
             ],
             [
              -75.585514,
              35.894536
             ],
             [
              -75.625514,
              35.894536
             ]
            ]
           ],
           "type": "Polygon"
          },
          "properties": {
           "id": 68,
           "style": {
            "color": "grey",
            "fillColor": "grey",
            "fillOpacity": 0.2,
            "weight": 1
           }
          },
          "type": "Feature"
         },
         {
          "geometry": {
           "coordinates": [
            [
             [
              -75.62316,
              35.890865
             ],
             [
              -75.62316,
              35.930865
             ],
             [
              -75.58316,
              35.930865
             ],
             [
              -75.58316,
              35.890865
             ],
             [
              -75.62316,
              35.890865
             ]
            ]
           ],
           "type": "Polygon"
          },
          "properties": {
           "id": 69,
           "style": {
            "color": "grey",
            "fillColor": "grey",
            "fillOpacity": 0.2,
            "weight": 1
           }
          },
          "type": "Feature"
         },
         {
          "geometry": {
           "coordinates": [
            [
             [
              -75.767407,
              35.826417
             ],
             [
              -75.767407,
              35.866417
             ],
             [
              -75.727407,
              35.866417
             ],
             [
              -75.727407,
              35.826417
             ],
             [
              -75.767407,
              35.826417
             ]
            ]
           ],
           "type": "Polygon"
          },
          "properties": {
           "id": 70,
           "style": {
            "color": "grey",
            "fillColor": "grey",
            "fillOpacity": 0.2,
            "weight": 1
           }
          },
          "type": "Feature"
         },
         {
          "geometry": {
           "coordinates": [
            [
             [
              -75.763036,
              35.82407
             ],
             [
              -75.763036,
              35.86407
             ],
             [
              -75.723036,
              35.86407
             ],
             [
              -75.723036,
              35.82407
             ],
             [
              -75.763036,
              35.82407
             ]
            ]
           ],
           "type": "Polygon"
          },
          "properties": {
           "id": 71,
           "style": {
            "color": "grey",
            "fillColor": "grey",
            "fillOpacity": 0.2,
            "weight": 1
           }
          },
          "type": "Feature"
         },
         {
          "geometry": {
           "coordinates": [
            [
             [
              -75.760507,
              35.820171
             ],
             [
              -75.760507,
              35.860171
             ],
             [
              -75.720507,
              35.860171
             ],
             [
              -75.720507,
              35.820171
             ],
             [
              -75.760507,
              35.820171
             ]
            ]
           ],
           "type": "Polygon"
          },
          "properties": {
           "id": 72,
           "style": {
            "color": "grey",
            "fillColor": "grey",
            "fillOpacity": 0.2,
            "weight": 1
           }
          },
          "type": "Feature"
         },
         {
          "geometry": {
           "coordinates": [
            [
             [
              -75.757046,
              35.817126
             ],
             [
              -75.757046,
              35.857126
             ],
             [
              -75.717046,
              35.857126
             ],
             [
              -75.717046,
              35.817126
             ],
             [
              -75.757046,
              35.817126
             ]
            ]
           ],
           "type": "Polygon"
          },
          "properties": {
           "id": 73,
           "style": {
            "color": "grey",
            "fillColor": "grey",
            "fillOpacity": 0.2,
            "weight": 1
           }
          },
          "type": "Feature"
         },
         {
          "geometry": {
           "coordinates": [
            [
             [
              -75.754689,
              35.813206
             ],
             [
              -75.754689,
              35.853206
             ],
             [
              -75.714689,
              35.853206
             ],
             [
              -75.714689,
              35.813206
             ],
             [
              -75.754689,
              35.813206
             ]
            ]
           ],
           "type": "Polygon"
          },
          "properties": {
           "id": 74,
           "style": {
            "color": "grey",
            "fillColor": "grey",
            "fillOpacity": 0.2,
            "weight": 1
           }
          },
          "type": "Feature"
         },
         {
          "geometry": {
           "coordinates": [
            [
             [
              -75.753867,
              35.808407
             ],
             [
              -75.753867,
              35.848407
             ],
             [
              -75.713867,
              35.848407
             ],
             [
              -75.713867,
              35.808407
             ],
             [
              -75.753867,
              35.808407
             ]
            ]
           ],
           "type": "Polygon"
          },
          "properties": {
           "id": 75,
           "style": {
            "color": "grey",
            "fillColor": "grey",
            "fillOpacity": 0.2,
            "weight": 1
           }
          },
          "type": "Feature"
         },
         {
          "geometry": {
           "coordinates": [
            [
             [
              -75.752128,
              35.800693
             ],
             [
              -75.752128,
              35.840693
             ],
             [
              -75.712128,
              35.840693
             ],
             [
              -75.712128,
              35.800693
             ],
             [
              -75.752128,
              35.800693
             ]
            ]
           ],
           "type": "Polygon"
          },
          "properties": {
           "id": 76,
           "style": {
            "color": "grey",
            "fillColor": "grey",
            "fillOpacity": 0.2,
            "weight": 1
           }
          },
          "type": "Feature"
         },
         {
          "geometry": {
           "coordinates": [
            [
             [
              -75.751705,
              35.796073
             ],
             [
              -75.751705,
              35.836073
             ],
             [
              -75.711705,
              35.836073
             ],
             [
              -75.711705,
              35.796073
             ],
             [
              -75.751705,
              35.796073
             ]
            ]
           ],
           "type": "Polygon"
          },
          "properties": {
           "id": 77,
           "style": {
            "color": "grey",
            "fillColor": "grey",
            "fillOpacity": 0.2,
            "weight": 1
           }
          },
          "type": "Feature"
         },
         {
          "geometry": {
           "coordinates": [
            [
             [
              -75.750583,
              35.80464
             ],
             [
              -75.750583,
              35.84464
             ],
             [
              -75.710583,
              35.84464
             ],
             [
              -75.710583,
              35.80464
             ],
             [
              -75.750583,
              35.80464
             ]
            ]
           ],
           "type": "Polygon"
          },
          "properties": {
           "id": 78,
           "style": {
            "color": "grey",
            "fillColor": "grey",
            "fillOpacity": 0.2,
            "weight": 1
           }
          },
          "type": "Feature"
         },
         {
          "geometry": {
           "coordinates": [
            [
             [
              -75.750154,
              35.79202
             ],
             [
              -75.750154,
              35.83202
             ],
             [
              -75.710154,
              35.83202
             ],
             [
              -75.710154,
              35.79202
             ],
             [
              -75.750154,
              35.79202
             ]
            ]
           ],
           "type": "Polygon"
          },
          "properties": {
           "id": 79,
           "style": {
            "color": "grey",
            "fillColor": "grey",
            "fillOpacity": 0.2,
            "weight": 1
           }
          },
          "type": "Feature"
         }
        ],
        "type": "FeatureCollection"
       },
       "hover_style": {
        "fillColor": "red"
       },
       "name": "ROIs"
      }
     },
     "ae1ca179153a49d298fb1408c6497f08": {
      "model_module": "jupyter-leaflet",
      "model_module_version": "^0.15.0",
      "model_name": "LeafletTileLayerModel",
      "state": {
       "_model_module_version": "^0.15.0",
       "_view_module_version": "^0.15.0",
       "attribution": "Map memomaps.de CC-BY-SA, map data (C) OpenStreetMap contributors",
       "max_native_zoom": 18,
       "min_native_zoom": 0,
       "name": "OPNVKarte",
       "options": [
        "attribution",
        "detect_retina",
        "max_native_zoom",
        "max_zoom",
        "min_native_zoom",
        "min_zoom",
        "no_wrap",
        "tile_size",
        "tms"
       ],
       "url": "https://tileserver.memomaps.de/tilegen/{z}/{x}/{y}.png"
      }
     },
     "ae65c95abb844147ac19b6a9be119047": {
      "model_module": "@jupyter-widgets/base",
      "model_module_version": "1.2.0",
      "model_name": "LayoutModel",
      "state": {}
     },
     "b0a8913c15834b32a3a5e39b0efd5cd0": {
      "model_module": "@jupyter-widgets/base",
      "model_module_version": "1.2.0",
      "model_name": "LayoutModel",
      "state": {}
     },
     "b126bb620e244cceacefea9a3752e068": {
      "model_module": "@jupyter-widgets/controls",
      "model_module_version": "1.5.0",
      "model_name": "DescriptionStyleModel",
      "state": {
       "description_width": ""
      }
     },
     "b159e008c7e4430bac87bd2c56547e90": {
      "model_module": "jupyter-leaflet",
      "model_module_version": "^0.15.0",
      "model_name": "LeafletTileLayerModel",
      "state": {
       "_model_module_version": "^0.15.0",
       "_view_module_version": "^0.15.0",
       "attribution": "Map tiles by Stamen Design, CC BY 3.0 -- Map data (C) OpenStreetMap contributors",
       "max_native_zoom": 18,
       "max_zoom": 20,
       "min_native_zoom": 0,
       "name": "Stamen.TonerBackground",
       "options": [
        "attribution",
        "detect_retina",
        "max_native_zoom",
        "max_zoom",
        "min_native_zoom",
        "min_zoom",
        "no_wrap",
        "tile_size",
        "tms"
       ],
       "url": "https://stamen-tiles-a.a.ssl.fastly.net/toner-background/{z}/{x}/{y}.png"
      }
     },
     "b2638c3c99ef45f19ea57d712b41d77c": {
      "model_module": "@jupyter-widgets/controls",
      "model_module_version": "1.5.0",
      "model_name": "DescriptionStyleModel",
      "state": {
       "description_width": ""
      }
     },
     "b3c8734c46c940729c894c51064281ec": {
      "model_module": "jupyter-leaflet",
      "model_module_version": "^0.15.0",
      "model_name": "LeafletTileLayerModel",
      "state": {
       "_model_module_version": "^0.15.0",
       "_view_module_version": "^0.15.0",
       "attribution": "Tiles courtesy of the U.S. Geological Survey",
       "max_native_zoom": 18,
       "max_zoom": 20,
       "min_native_zoom": 0,
       "name": "USGS.USTopo",
       "options": [
        "attribution",
        "detect_retina",
        "max_native_zoom",
        "max_zoom",
        "min_native_zoom",
        "min_zoom",
        "no_wrap",
        "tile_size",
        "tms"
       ],
       "url": "https://basemap.nationalmap.gov/arcgis/rest/services/USGSTopo/MapServer/tile/{z}/{y}/{x}"
      }
     },
     "b5084bc717dc44f09f252d07554b371a": {
      "model_module": "@jupyter-widgets/base",
      "model_module_version": "1.2.0",
      "model_name": "LayoutModel",
      "state": {}
     },
     "b5659d880aeb47ec8a9c0cce79487498": {
      "model_module": "jupyter-leaflet",
      "model_module_version": "^0.15.0",
      "model_name": "LeafletTileLayerModel",
      "state": {
       "_model_module_version": "^0.15.0",
       "_view_module_version": "^0.15.0",
       "attribution": "Map tiles by Stamen Design, CC BY 3.0 -- Map data (C) OpenStreetMap contributors",
       "max_native_zoom": 18,
       "max_zoom": 20,
       "min_native_zoom": 0,
       "name": "Stamen.TonerHybrid",
       "options": [
        "attribution",
        "detect_retina",
        "max_native_zoom",
        "max_zoom",
        "min_native_zoom",
        "min_zoom",
        "no_wrap",
        "tile_size",
        "tms"
       ],
       "url": "https://stamen-tiles-a.a.ssl.fastly.net/toner-hybrid/{z}/{x}/{y}.png"
      }
     },
     "b56f2fef3e984d2c9dca470687d7d843": {
      "model_module": "@jupyter-widgets/base",
      "model_module_version": "1.2.0",
      "model_name": "LayoutModel",
      "state": {}
     },
     "b5839eb789cd4ff5bdb9e3cb1cc56f06": {
      "model_module": "@jupyter-widgets/controls",
      "model_module_version": "1.5.0",
      "model_name": "ToggleButtonModel",
      "state": {
       "button_style": "primary",
       "icon": "search",
       "layout": "IPY_MODEL_01fd0c376d724e5b81ab090beebef4de",
       "style": "IPY_MODEL_35271eb4630a4084b8058b6f782b6f0a",
       "tooltip": "Search XYZ tile services"
      }
     },
     "b5b8816f1acd480a884cba16a26a50d3": {
      "model_module": "jupyter-leaflet",
      "model_module_version": "^0.15.0",
      "model_name": "LeafletMarkerModel",
      "state": {
       "_model_module_version": "^0.15.0",
       "_view_module_version": "^0.15.0",
       "draggable": false,
       "location": [
        34.05742208720035,
        -120.33657115772523
       ],
       "options": [
        "alt",
        "draggable",
        "keyboard",
        "rise_offset",
        "rise_on_hover",
        "rotation_angle",
        "rotation_origin",
        "title",
        "z_index_offset"
       ],
       "popup": "IPY_MODEL_51a05e6358a24b468b8ea242557227f7",
       "title": "Location:(-120.33657115772523,34.05742208720035)"
      }
     },
     "b5edff02f1c4495996a79576e0953f2e": {
      "model_module": "@jupyter-widgets/controls",
      "model_module_version": "1.5.0",
      "model_name": "DescriptionStyleModel",
      "state": {
       "description_width": ""
      }
     },
     "b61e388368404c3baa4c67a0215c82f7": {
      "model_module": "jupyter-leaflet",
      "model_module_version": "^0.15.0",
      "model_name": "LeafletTileLayerModel",
      "state": {
       "_model_module_version": "^0.15.0",
       "_view_module_version": "^0.15.0",
       "attribution": "Kaartgegevens (C) Kadaster",
       "max_native_zoom": 18,
       "max_zoom": 19,
       "min_native_zoom": 0,
       "name": "nlmaps.water",
       "options": [
        "attribution",
        "detect_retina",
        "max_native_zoom",
        "max_zoom",
        "min_native_zoom",
        "min_zoom",
        "no_wrap",
        "tile_size",
        "tms"
       ],
       "url": "https://service.pdok.nl/brt/achtergrondkaart/wmts/v2_0/water/EPSG:3857/{z}/{x}/{y}.png"
      }
     },
     "b64a3f16875e41bbb443016fadb9b870": {
      "model_module": "@jupyter-widgets/controls",
      "model_module_version": "1.5.0",
      "model_name": "HBoxModel",
      "state": {
       "children": [
        "IPY_MODEL_eecb4913cf244fc69c6f1083da9d1e78",
        "IPY_MODEL_5dac2a23ac534988b68f0f571edc394a"
       ],
       "layout": "IPY_MODEL_a62c5fa1ea1947869e41fcdaa392040a"
      }
     },
     "b6a08457710b4889aa03c3d9d902a46f": {
      "model_module": "@jupyter-widgets/base",
      "model_module_version": "1.2.0",
      "model_name": "LayoutModel",
      "state": {}
     },
     "b6e356d3e5f246b589e341e0152b9490": {
      "model_module": "@jupyter-widgets/controls",
      "model_module_version": "1.5.0",
      "model_name": "ToggleButtonModel",
      "state": {
       "button_style": "primary",
       "icon": "adjust",
       "layout": "IPY_MODEL_6fc723df08bf4b758eb97fe9fd370244",
       "style": "IPY_MODEL_deab313eb2904e058cb1610e01dc5617",
       "tooltip": "Planet imagery"
      }
     },
     "b7e0dfe99d7d455d95cb51a4ef81fda6": {
      "model_module": "@jupyter-widgets/controls",
      "model_module_version": "1.5.0",
      "model_name": "HTMLModel",
      "state": {
       "layout": "IPY_MODEL_8cb58f9d7d0e4875a875fc02c6207e86",
       "style": "IPY_MODEL_3c418e30f7e7476ba327992eb30edb6f",
       "value": "Location:(-120.35114603642788,34.01907111842292)"
      }
     },
     "b845703008254c79a20b31b4b9d9de22": {
      "model_module": "@jupyter-widgets/controls",
      "model_module_version": "1.5.0",
      "model_name": "HTMLModel",
      "state": {
       "layout": "IPY_MODEL_6eaa4943ef4746b4bff113f0cded1aa4",
       "style": "IPY_MODEL_bbdce863eacc48c1ab55d673cb83646b",
       "value": "Location:(-120.45145562605194,34.03168150386515)"
      }
     },
     "b8975b287d604871919c3c0a9a4dda90": {
      "model_module": "jupyter-leaflet",
      "model_module_version": "^0.15.0",
      "model_name": "LeafletTileLayerModel",
      "state": {
       "_model_module_version": "^0.15.0",
       "_view_module_version": "^0.15.0",
       "attribution": "&copy; <a href=\"https://www.openstreetmap.org/copyright\">OpenStreetMap</a> contributors",
       "base": true,
       "max_native_zoom": 18,
       "max_zoom": 19,
       "min_native_zoom": 0,
       "min_zoom": 1,
       "name": "OpenStreetMap",
       "options": [
        "attribution",
        "detect_retina",
        "max_native_zoom",
        "max_zoom",
        "min_native_zoom",
        "min_zoom",
        "no_wrap",
        "tile_size",
        "tms"
       ],
       "url": "https://a.tile.openstreetmap.org/{z}/{x}/{y}.png"
      }
     },
     "b9b97f9a5a9f41148a09669bf095ad29": {
      "model_module": "jupyter-leaflet",
      "model_module_version": "^0.15.0",
      "model_name": "LeafletTileLayerModel",
      "state": {
       "_model_module_version": "^0.15.0",
       "_view_module_version": "^0.15.0",
       "attribution": "Tiles courtesy of OpenStreetMap Sweden -- Map data (C) OpenStreetMap contributors",
       "max_native_zoom": 18,
       "max_zoom": 20,
       "min_native_zoom": 0,
       "name": "Hydda.RoadsAndLabels",
       "options": [
        "attribution",
        "detect_retina",
        "max_native_zoom",
        "max_zoom",
        "min_native_zoom",
        "min_zoom",
        "no_wrap",
        "tile_size",
        "tms"
       ],
       "url": "https://a.tile.openstreetmap.se/hydda/roads_and_labels/{z}/{x}/{y}.png"
      }
     },
     "ba541cefb0ce42109668b09a40b5ebb9": {
      "model_module": "jupyter-leaflet",
      "model_module_version": "^0.15.0",
      "model_name": "LeafletTileLayerModel",
      "state": {
       "_model_module_version": "^0.15.0",
       "_view_module_version": "^0.15.0",
       "attribution": "Imagery provided by services from the Global Imagery Browse Services (GIBS), operated by the NASA/GSFC/Earth Science Data and Information System (ESDIS) with funding provided by NASA/HQ.",
       "max_native_zoom": 18,
       "max_zoom": 7,
       "min_native_zoom": 0,
       "name": "NASAGIBS.ModisTerraChlorophyll",
       "options": [
        "attribution",
        "detect_retina",
        "max_native_zoom",
        "max_zoom",
        "min_native_zoom",
        "min_zoom",
        "no_wrap",
        "tile_size",
        "tms"
       ],
       "url": "https://map1.vis.earthdata.nasa.gov/wmts-webmerc/MODIS_Terra_Chlorophyll_A/default//GoogleMapsCompatible_Level7/{z}/{y}/{x}.png"
      }
     },
     "bbdce863eacc48c1ab55d673cb83646b": {
      "model_module": "@jupyter-widgets/controls",
      "model_module_version": "1.5.0",
      "model_name": "DescriptionStyleModel",
      "state": {
       "description_width": ""
      }
     },
     "bbe66c87a5454cd6a36107585dc41c01": {
      "model_module": "@jupyter-widgets/controls",
      "model_module_version": "1.5.0",
      "model_name": "ToggleButtonModel",
      "state": {
       "button_style": "primary",
       "icon": "address-book",
       "layout": "IPY_MODEL_8e59bbd112464cd7892f697f4197b8b7",
       "style": "IPY_MODEL_c69cf421d59c4c30a138689b7fbac97d",
       "tooltip": "Get US Census data"
      }
     },
     "bc22120773314b108dc780c2697eca66": {
      "model_module": "@jupyter-widgets/controls",
      "model_module_version": "1.5.0",
      "model_name": "ToggleButtonModel",
      "state": {
       "button_style": "primary",
       "icon": "adjust",
       "layout": "IPY_MODEL_fc5bd4ae9db245c6a616567ed79c9ebf",
       "style": "IPY_MODEL_50488e9410d24aa29efee82924237c2e",
       "tooltip": "Planet imagery"
      }
     },
     "bc79b6a7ab984f958df59e8325ec1874": {
      "model_module": "@jupyter-widgets/controls",
      "model_module_version": "1.5.0",
      "model_name": "DescriptionStyleModel",
      "state": {
       "description_width": ""
      }
     },
     "bcadf9dab8cb4350ab1f49394caf6c49": {
      "model_module": "@jupyter-widgets/controls",
      "model_module_version": "1.5.0",
      "model_name": "DescriptionStyleModel",
      "state": {
       "description_width": ""
      }
     },
     "bce8a9de42ce48cea7c5786dc6423a86": {
      "model_module": "@jupyter-widgets/base",
      "model_module_version": "1.2.0",
      "model_name": "LayoutModel",
      "state": {
       "height": "auto",
       "padding": "0px 0px 0px 4px",
       "width": "auto"
      }
     },
     "bd048ec535ab49b0858aa2bea0121ff1": {
      "model_module": "@jupyter-widgets/base",
      "model_module_version": "1.2.0",
      "model_name": "LayoutModel",
      "state": {
       "height": "600px",
       "width": "100%"
      }
     },
     "be4b54a48ccc4b3ea56ae4dd5745e546": {
      "model_module": "jupyter-leaflet",
      "model_module_version": "^0.15.0",
      "model_name": "LeafletTileLayerModel",
      "state": {
       "_model_module_version": "^0.15.0",
       "_view_module_version": "^0.15.0",
       "attribution": "Tiles (C) Esri -- Source: US National Park Service",
       "max_native_zoom": 18,
       "max_zoom": 8,
       "min_native_zoom": 0,
       "name": "Esri.WorldPhysical",
       "options": [
        "attribution",
        "detect_retina",
        "max_native_zoom",
        "max_zoom",
        "min_native_zoom",
        "min_zoom",
        "no_wrap",
        "tile_size",
        "tms"
       ],
       "url": "https://server.arcgisonline.com/ArcGIS/rest/services/World_Physical_Map/MapServer/tile/{z}/{y}/{x}"
      }
     },
     "c01cecc92c364f689acbdce2ec302af4": {
      "model_module": "@jupyter-widgets/controls",
      "model_module_version": "1.5.0",
      "model_name": "HTMLModel",
      "state": {
       "layout": "IPY_MODEL_42f3131e368e4a24a0106f381e0688dc",
       "style": "IPY_MODEL_705d95aa0958486e971c07ce7ef7542b",
       "value": "Location:(-120.44859420156101,34.05264068476356)"
      }
     },
     "c0247f029cf54b04a31009c41ef113f5": {
      "model_module": "jupyter-leaflet",
      "model_module_version": "^0.15.0",
      "model_name": "LeafletMapStyleModel",
      "state": {
       "_model_module_version": "^0.15.0"
      }
     },
     "c0c24e48b3cb46aaa00f82b4dde02a56": {
      "model_module": "jupyter-leaflet",
      "model_module_version": "^0.15.0",
      "model_name": "LeafletMarkerModel",
      "state": {
       "_model_module_version": "^0.15.0",
       "_view_module_version": "^0.15.0",
       "draggable": false,
       "location": [
        34.03168150386515,
        -120.45145562605194
       ],
       "options": [
        "alt",
        "draggable",
        "keyboard",
        "rise_offset",
        "rise_on_hover",
        "rotation_angle",
        "rotation_origin",
        "title",
        "z_index_offset"
       ],
       "popup": "IPY_MODEL_b845703008254c79a20b31b4b9d9de22",
       "title": "Location:(-120.45145562605194,34.03168150386515)"
      }
     },
     "c139806ac28f44ff9512e3853df68bd8": {
      "model_module": "@jupyter-widgets/controls",
      "model_module_version": "1.5.0",
      "model_name": "DescriptionStyleModel",
      "state": {
       "description_width": ""
      }
     },
     "c1ba76d610d040188adf3bca4102e94e": {
      "model_module": "jupyter-leaflet",
      "model_module_version": "^0.15.0",
      "model_name": "LeafletAttributionControlModel",
      "state": {
       "_model_module_version": "^0.15.0",
       "_view_module_version": "^0.15.0",
       "options": [
        "position",
        "prefix"
       ],
       "position": "bottomright",
       "prefix": "ipyleaflet"
      }
     },
     "c1cc76d7cedf4fc896f325e5adda1816": {
      "model_module": "@jupyter-widgets/base",
      "model_module_version": "1.2.0",
      "model_name": "LayoutModel",
      "state": {}
     },
     "c286de0266f740e0b93bafa308ef4bd0": {
      "model_module": "jupyter-leaflet",
      "model_module_version": "^0.15.0",
      "model_name": "LeafletTileLayerModel",
      "state": {
       "_model_module_version": "^0.15.0",
       "_view_module_version": "^0.15.0",
       "attribution": "Map tiles by Stamen Design, CC BY 3.0 -- Map data (C) OpenStreetMap contributors",
       "max_native_zoom": 18,
       "max_zoom": 20,
       "min_native_zoom": 0,
       "name": "Stamen.Toner",
       "options": [
        "attribution",
        "detect_retina",
        "max_native_zoom",
        "max_zoom",
        "min_native_zoom",
        "min_zoom",
        "no_wrap",
        "tile_size",
        "tms"
       ],
       "url": "https://stamen-tiles-a.a.ssl.fastly.net/toner/{z}/{x}/{y}.png"
      }
     },
     "c297fb86bdd04325b358f38e7b641a51": {
      "model_module": "@jupyter-widgets/controls",
      "model_module_version": "1.5.0",
      "model_name": "ToggleButtonModel",
      "state": {
       "icon": "server",
       "layout": "IPY_MODEL_68ea7b02f0114197a22d1d148fb8dedf",
       "style": "IPY_MODEL_4c4eedcd34f4448db473ae2ef4cafb6b",
       "tooltip": "Layers"
      }
     },
     "c2bfb9b6017745228c1ed4ee2812767b": {
      "model_module": "@jupyter-widgets/controls",
      "model_module_version": "1.5.0",
      "model_name": "HTMLModel",
      "state": {
       "layout": "IPY_MODEL_e08fff5194334f75b253b4cd32185b90",
       "style": "IPY_MODEL_8f8e0bada42a4b36b06588167ad93078",
       "value": "Location:(-120.43543592,34.05650021)"
      }
     },
     "c38f6945f37449c49c83ba05f5e1e455": {
      "model_module": "jupyter-leaflet",
      "model_module_version": "^0.15.0",
      "model_name": "LeafletTileLayerModel",
      "state": {
       "_model_module_version": "^0.15.0",
       "_view_module_version": "^0.15.0",
       "attribution": "Map data: (C) OpenStreetMap contributors, SRTM | Map style: (C) OpenTopoMap (CC-BY-SA)",
       "max_native_zoom": 18,
       "max_zoom": 17,
       "min_native_zoom": 0,
       "name": "OpenTopoMap",
       "options": [
        "attribution",
        "detect_retina",
        "max_native_zoom",
        "max_zoom",
        "min_native_zoom",
        "min_zoom",
        "no_wrap",
        "tile_size",
        "tms"
       ],
       "url": "https://a.tile.opentopomap.org/{z}/{x}/{y}.png"
      }
     },
     "c390a09893024da3a057a14134716fbb": {
      "model_module": "@jupyter-widgets/base",
      "model_module_version": "1.2.0",
      "model_name": "LayoutModel",
      "state": {
       "height": "auto",
       "padding": "0px 0px 0px 4px",
       "width": "auto"
      }
     },
     "c3b114f35cf64b0bbb9747482c2b2041": {
      "model_module": "@jupyter-widgets/controls",
      "model_module_version": "1.5.0",
      "model_name": "ToggleButtonModel",
      "state": {
       "button_style": "primary",
       "icon": "info",
       "layout": "IPY_MODEL_444722abb866424b92264981e6618a67",
       "style": "IPY_MODEL_f1964165966d4d1689db4719301abe4c",
       "tooltip": "Get COG/STAC pixel value"
      }
     },
     "c3ccac1cfbc84f95a39b44f0d53bc2f2": {
      "model_module": "@jupyter-widgets/controls",
      "model_module_version": "1.5.0",
      "model_name": "ToggleButtonModel",
      "state": {
       "button_style": "primary",
       "icon": "adjust",
       "layout": "IPY_MODEL_1da5f15be17044a8ba8d74a26649542b",
       "style": "IPY_MODEL_bc79b6a7ab984f958df59e8325ec1874",
       "tooltip": "Planet imagery"
      }
     },
     "c432a5f8c5ef4ae49fa8af560af0573a": {
      "model_module": "@here/map-widget-for-jupyter",
      "model_module_version": "^1.1.3",
      "model_name": "DefaultLayersModel",
      "state": {
       "_model_module": "@here/map-widget-for-jupyter",
       "_model_module_version": "^1.1.3",
       "_view_count": null,
       "_view_module": "@here/map-widget-for-jupyter",
       "_view_module_version": "^1.1.3",
       "layer_name": "raster.normal.map",
       "ppi": null
      }
     },
     "c45330892852457ea2c317a5cf4969b5": {
      "model_module": "jupyter-leaflet",
      "model_module_version": "^0.15.0",
      "model_name": "LeafletTileLayerModel",
      "state": {
       "_model_module_version": "^0.15.0",
       "_view_module_version": "^0.15.0",
       "attribution": "Justice Map",
       "max_native_zoom": 18,
       "max_zoom": 22,
       "min_native_zoom": 0,
       "name": "JusticeMap.hispanic",
       "options": [
        "attribution",
        "detect_retina",
        "max_native_zoom",
        "max_zoom",
        "min_native_zoom",
        "min_zoom",
        "no_wrap",
        "tile_size",
        "tms"
       ],
       "url": "https://www.justicemap.org/tile/county/hispanic/{z}/{x}/{y}.png"
      }
     },
     "c4761f793d154041a3a874456137a7e6": {
      "model_module": "@jupyter-widgets/controls",
      "model_module_version": "1.5.0",
      "model_name": "ToggleButtonModel",
      "state": {
       "button_style": "primary",
       "icon": "map",
       "layout": "IPY_MODEL_e0657d455b224dd8ad61c6dee90eb7f8",
       "style": "IPY_MODEL_2971cff81e16468a9bb5586d559f031e",
       "tooltip": "Change basemap"
      }
     },
     "c69cf421d59c4c30a138689b7fbac97d": {
      "model_module": "@jupyter-widgets/controls",
      "model_module_version": "1.5.0",
      "model_name": "DescriptionStyleModel",
      "state": {
       "description_width": ""
      }
     },
     "c782fe9d52a94888972ddfff7a1c4229": {
      "model_module": "jupyter-leaflet",
      "model_module_version": "^0.15.0",
      "model_name": "LeafletMarkerModel",
      "state": {
       "_model_module_version": "^0.15.0",
       "_view_module_version": "^0.15.0",
       "draggable": false,
       "location": [
        34.05650021,
        -120.43543592
       ],
       "options": [
        "alt",
        "draggable",
        "keyboard",
        "rise_offset",
        "rise_on_hover",
        "rotation_angle",
        "rotation_origin",
        "title",
        "z_index_offset"
       ],
       "popup": "IPY_MODEL_c2bfb9b6017745228c1ed4ee2812767b",
       "title": "Location:(-120.43543592,34.05650021)"
      }
     },
     "c8d8093a33a945d58dca2f564fcddf94": {
      "model_module": "@jupyter-widgets/controls",
      "model_module_version": "1.5.0",
      "model_name": "DescriptionStyleModel",
      "state": {
       "description_width": ""
      }
     },
     "c9fba007c1b8470f811467993435311a": {
      "model_module": "@jupyter-widgets/base",
      "model_module_version": "1.2.0",
      "model_name": "LayoutModel",
      "state": {
       "height": "auto",
       "padding": "0px 0px 0px 4px",
       "width": "auto"
      }
     },
     "cad2fe3b98f14430b2e9b63d6de2a834": {
      "model_module": "jupyter-leaflet",
      "model_module_version": "^0.15.0",
      "model_name": "LeafletMapStyleModel",
      "state": {
       "_model_module_version": "^0.15.0"
      }
     },
     "cb7d2e85df794c219ee8ad24457b727b": {
      "model_module": "@jupyter-widgets/base",
      "model_module_version": "1.2.0",
      "model_name": "LayoutModel",
      "state": {
       "height": "28px",
       "width": "72px"
      }
     },
     "cc45596f457843b991dd594f2cc82431": {
      "model_module": "jupyter-leaflet",
      "model_module_version": "^0.15.0",
      "model_name": "LeafletTileLayerModel",
      "state": {
       "_model_module_version": "^0.15.0",
       "_view_module_version": "^0.15.0",
       "attribution": "Justice Map",
       "max_native_zoom": 18,
       "max_zoom": 22,
       "min_native_zoom": 0,
       "name": "JusticeMap.americanIndian",
       "options": [
        "attribution",
        "detect_retina",
        "max_native_zoom",
        "max_zoom",
        "min_native_zoom",
        "min_zoom",
        "no_wrap",
        "tile_size",
        "tms"
       ],
       "url": "https://www.justicemap.org/tile/county/indian/{z}/{x}/{y}.png"
      }
     },
     "ccb55149f389438688a0f93cb61b636b": {
      "model_module": "jupyter-leaflet",
      "model_module_version": "^0.15.0",
      "model_name": "LeafletMarkerModel",
      "state": {
       "_model_module_version": "^0.15.0",
       "_view_module_version": "^0.15.0",
       "draggable": false,
       "location": [
        34.04466206991077,
        -120.32408092353609
       ],
       "options": [
        "alt",
        "draggable",
        "keyboard",
        "rise_offset",
        "rise_on_hover",
        "rotation_angle",
        "rotation_origin",
        "title",
        "z_index_offset"
       ],
       "popup": "IPY_MODEL_d3164ae66edd41f59a11d9b06041008e",
       "title": "Location:(-120.32408092353609,34.04466206991077)"
      }
     },
     "cd4b13aafba94bc39ef9f904d9cce318": {
      "model_module": "@jupyter-widgets/controls",
      "model_module_version": "1.5.0",
      "model_name": "HTMLModel",
      "state": {
       "layout": "IPY_MODEL_aadaaac8a519465b9b26c4b807cfc290",
       "style": "IPY_MODEL_c8d8093a33a945d58dca2f564fcddf94",
       "value": "Location:(-120.33708348625552,34.06015860823383)"
      }
     },
     "cd60377c7f7a443eac5a6fcd5e84d9e0": {
      "model_module": "jupyter-leaflet",
      "model_module_version": "^0.15.0",
      "model_name": "LeafletWMSLayerModel",
      "state": {
       "_model_module_version": "^0.15.0",
       "_view_module_version": "^0.15.0",
       "attribution": "MRLC",
       "crs": {
        "custom": false,
        "name": "EPSG3857"
       },
       "format": "image/png",
       "layers": "NLCD_2004_Land_Cover_L48",
       "max_native_zoom": 18,
       "min_native_zoom": 0,
       "name": "NLCD 2004 CONUS Land Cover",
       "options": [
        "attribution",
        "detect_retina",
        "format",
        "layers",
        "max_native_zoom",
        "max_zoom",
        "min_native_zoom",
        "min_zoom",
        "no_wrap",
        "styles",
        "tile_size",
        "tms",
        "transparent",
        "uppercase"
       ],
       "transparent": true,
       "url": "https://www.mrlc.gov/geoserver/mrlc_display/NLCD_2004_Land_Cover_L48/wms?"
      }
     },
     "cd74cdf3337a46369265b4a8cee53d0e": {
      "model_module": "jupyter-leaflet",
      "model_module_version": "^0.15.0",
      "model_name": "LeafletTileLayerModel",
      "state": {
       "_model_module_version": "^0.15.0",
       "_view_module_version": "^0.15.0",
       "attribution": "Imagery provided by services from the Global Imagery Browse Services (GIBS), operated by the NASA/GSFC/Earth Science Data and Information System (<a href=\"https://earthdata.nasa.gov\">ESDIS</a>) with funding provided by NASA/HQ.",
       "max_native_zoom": 18,
       "max_zoom": 9,
       "min_native_zoom": 0,
       "name": "NASAGIBS.ViirsTrueColorCR",
       "options": [
        "attribution",
        "detect_retina",
        "max_native_zoom",
        "max_zoom",
        "min_native_zoom",
        "min_zoom",
        "no_wrap",
        "tile_size",
        "tms"
       ],
       "url": "https://gibs.earthdata.nasa.gov/wmts/epsg3857/best/VIIRS_SNPP_CorrectedReflectance_TrueColor/default//GoogleMapsCompatible_Level9/{z}/{y}/{x}.jpg"
      }
     },
     "cd7cc91590534f9486f533ba0c1af607": {
      "model_module": "jupyter-leaflet",
      "model_module_version": "^0.15.0",
      "model_name": "LeafletTileLayerModel",
      "state": {
       "_model_module_version": "^0.15.0",
       "_view_module_version": "^0.15.0",
       "attribution": "![](https://docs.onemap.sg/maps/images/oneMap64-01.png) New OneMap | Map data (C) contributors, Singapore Land Authority",
       "max_native_zoom": 18,
       "min_native_zoom": 0,
       "name": "OneMapSG.Grey",
       "options": [
        "attribution",
        "detect_retina",
        "max_native_zoom",
        "max_zoom",
        "min_native_zoom",
        "min_zoom",
        "no_wrap",
        "tile_size",
        "tms"
       ],
       "url": "https://maps-a.onemap.sg/v3/Grey/{z}/{x}/{y}.png"
      }
     },
     "cdd5f5ce1d17460a8c8b0e658e9d490a": {
      "model_module": "jupyter-leaflet",
      "model_module_version": "^0.15.0",
      "model_name": "LeafletMarkerClusterModel",
      "state": {
       "_model_module_version": "^0.15.0",
       "_view_module_version": "^0.15.0",
       "disable_clustering_at_zoom": 18,
       "markers": [
        "IPY_MODEL_c0c24e48b3cb46aaa00f82b4dde02a56",
        "IPY_MODEL_e1c16e1b46154431842f4301b1dd84c9",
        "IPY_MODEL_dd50f176356d4c2abc48668733ee89af",
        "IPY_MODEL_2f8673dd14784a7898259ce2544ebf5b",
        "IPY_MODEL_0e551a18e44a4832a90f24ff7cad597f",
        "IPY_MODEL_8e0343962e5a4e5e9f13ffdd2b5819fa",
        "IPY_MODEL_68da94bdde2b438dbe68d2bb2cd0fc44",
        "IPY_MODEL_93fe3436fbb94e7d8f4838858f72d4a2",
        "IPY_MODEL_ccb55149f389438688a0f93cb61b636b",
        "IPY_MODEL_8140f1c86ff346e49f973af4bb3f8ea7",
        "IPY_MODEL_0c0f0c5aad094559af86710725294b0f",
        "IPY_MODEL_a54b38e928814df0a28c3ccec1f0c7cc",
        "IPY_MODEL_ed16a7d8e5c44d729f02803b1756406e",
        "IPY_MODEL_ceb0f9b7e765436eac39bac04c45a581",
        "IPY_MODEL_3af25d90deaf4b9bbec213bc6c0fe8a2",
        "IPY_MODEL_e4097337d4b0494396a2cc157b80275e",
        "IPY_MODEL_fdb8eed9c15e41c2b86bfd701add9943",
        "IPY_MODEL_6a7ec1e254824910ba21236946885a56",
        "IPY_MODEL_103517f2ea2a4a078ebb2335afc5d63c",
        "IPY_MODEL_c782fe9d52a94888972ddfff7a1c4229",
        "IPY_MODEL_225b3599240242ac95d95317e09ef2b1",
        "IPY_MODEL_59151a3bdea54033a76dc34b7612836a",
        "IPY_MODEL_b5b8816f1acd480a884cba16a26a50d3",
        "IPY_MODEL_f79be617044446ab8950baddcd6e5c72",
        "IPY_MODEL_17b6c568f1ec40feb46d5b8f32973a43",
        "IPY_MODEL_eb7799fa502d4d2299c4b8d4a3160825",
        "IPY_MODEL_764763ec6b7444efb4ac7c6f1e12a8b0",
        "IPY_MODEL_298ce1d25d614fdba5011dfbd20cb7e8",
        "IPY_MODEL_1d73e86a1d7e47bbb6284392b0f5b9ca",
        "IPY_MODEL_d2e1b62b3ffb4d9b90990bd39375d5ce"
       ],
       "max_cluster_radius": 80,
       "name": "CoastSat Shoreline Data",
       "options": [
        "disable_clustering_at_zoom",
        "max_cluster_radius"
       ]
      }
     },
     "ceb0f9b7e765436eac39bac04c45a581": {
      "model_module": "jupyter-leaflet",
      "model_module_version": "^0.15.0",
      "model_name": "LeafletMarkerModel",
      "state": {
       "_model_module_version": "^0.15.0",
       "_view_module_version": "^0.15.0",
       "draggable": false,
       "location": [
        34.057930632990455,
        -120.44698128474226
       ],
       "options": [
        "alt",
        "draggable",
        "keyboard",
        "rise_offset",
        "rise_on_hover",
        "rotation_angle",
        "rotation_origin",
        "title",
        "z_index_offset"
       ],
       "popup": "IPY_MODEL_12dbfc76cce840c186f420e6834af710",
       "title": "Location:(-120.44698128474226,34.057930632990455)"
      }
     },
     "cf3fb98285b747128d74b5fecb5e7234": {
      "model_module": "jupyter-leaflet",
      "model_module_version": "^0.15.0",
      "model_name": "LeafletTileLayerModel",
      "state": {
       "_model_module_version": "^0.15.0",
       "_view_module_version": "^0.15.0",
       "attribution": "Map data: (C) OpenStreetMap contributors | Map style: (C) OpenRailwayMap (CC-BY-SA)",
       "max_native_zoom": 18,
       "max_zoom": 19,
       "min_native_zoom": 0,
       "name": "OpenRailwayMap",
       "options": [
        "attribution",
        "detect_retina",
        "max_native_zoom",
        "max_zoom",
        "min_native_zoom",
        "min_zoom",
        "no_wrap",
        "tile_size",
        "tms"
       ],
       "url": "https://a.tiles.openrailwaymap.org/standard/{z}/{x}/{y}.png"
      }
     },
     "cff8cbbd87f7439b99a74635d1c28741": {
      "model_module": "@jupyter-widgets/controls",
      "model_module_version": "1.5.0",
      "model_name": "DescriptionStyleModel",
      "state": {
       "description_width": ""
      }
     },
     "d0264b70dce34adfb29c44c52542dd66": {
      "model_module": "jupyter-leaflet",
      "model_module_version": "^0.15.0",
      "model_name": "LeafletWMSLayerModel",
      "state": {
       "_model_module_version": "^0.15.0",
       "_view_module_version": "^0.15.0",
       "attribution": "USGS",
       "crs": {
        "custom": false,
        "name": "EPSG3857"
       },
       "format": "image/png",
       "layers": "0",
       "max_native_zoom": 18,
       "min_native_zoom": 0,
       "name": "USGS Hydrography",
       "options": [
        "attribution",
        "detect_retina",
        "format",
        "layers",
        "max_native_zoom",
        "max_zoom",
        "min_native_zoom",
        "min_zoom",
        "no_wrap",
        "styles",
        "tile_size",
        "tms",
        "transparent",
        "uppercase"
       ],
       "transparent": true,
       "url": "https://basemap.nationalmap.gov/arcgis/services/USGSHydroCached/MapServer/WMSServer?"
      }
     },
     "d16e6d12de724aeaad860995ac86ea92": {
      "model_module": "jupyter-leaflet",
      "model_module_version": "^0.15.0",
      "model_name": "LeafletTileLayerModel",
      "state": {
       "_model_module_version": "^0.15.0",
       "_view_module_version": "^0.15.0",
       "attribution": "![](https://docs.onemap.sg/maps/images/oneMap64-01.png) New OneMap | Map data (C) contributors, Singapore Land Authority",
       "max_native_zoom": 18,
       "min_native_zoom": 0,
       "name": "OneMapSG.Night",
       "options": [
        "attribution",
        "detect_retina",
        "max_native_zoom",
        "max_zoom",
        "min_native_zoom",
        "min_zoom",
        "no_wrap",
        "tile_size",
        "tms"
       ],
       "url": "https://maps-a.onemap.sg/v3/Night/{z}/{x}/{y}.png"
      }
     },
     "d1772a53aa60473ca78e025ef3f774f9": {
      "model_module": "@jupyter-widgets/base",
      "model_module_version": "1.2.0",
      "model_name": "LayoutModel",
      "state": {}
     },
     "d1a1cfc78238400ab3f3853116004309": {
      "model_module": "@jupyter-widgets/controls",
      "model_module_version": "1.5.0",
      "model_name": "ToggleButtonModel",
      "state": {
       "button_style": "primary",
       "icon": "globe",
       "layout": "IPY_MODEL_a28c2a29b88b472cac240e468015181b",
       "style": "IPY_MODEL_29060c2f15b8455f908cc89f9f9696b2",
       "tooltip": "Split-panel map"
      }
     },
     "d1f9a09bb67c43af9f2806bc4f2cc8fc": {
      "model_module": "jupyter-leaflet",
      "model_module_version": "^0.15.0",
      "model_name": "LeafletMapStyleModel",
      "state": {
       "_model_module_version": "^0.15.0",
       "cursor": "move"
      }
     },
     "d27b5b3ffbf64235879bc46673c06ebd": {
      "model_module": "@jupyter-widgets/controls",
      "model_module_version": "1.5.0",
      "model_name": "ToggleButtonModel",
      "state": {
       "button_style": "primary",
       "icon": "download",
       "layout": "IPY_MODEL_e07faf4b60684d379a4ae9efd2dac9a0",
       "style": "IPY_MODEL_5ed1d5a9b9434d80b7d09dba394afcc7",
       "tooltip": "Download OSM data"
      }
     },
     "d2ac161b6a77490ea9125982bbf86af6": {
      "model_module": "@jupyter-widgets/controls",
      "model_module_version": "1.5.0",
      "model_name": "ToggleButtonModel",
      "state": {
       "icon": "server",
       "layout": "IPY_MODEL_cb7d2e85df794c219ee8ad24457b727b",
       "style": "IPY_MODEL_9ab7a6af3fd749318219c2c6a855717e",
       "tooltip": "Layers"
      }
     },
     "d2e1b62b3ffb4d9b90990bd39375d5ce": {
      "model_module": "jupyter-leaflet",
      "model_module_version": "^0.15.0",
      "model_name": "LeafletMarkerModel",
      "state": {
       "_model_module_version": "^0.15.0",
       "_view_module_version": "^0.15.0",
       "draggable": false,
       "location": [
        34.0583429226247,
        -120.33014718119209
       ],
       "options": [
        "alt",
        "draggable",
        "keyboard",
        "rise_offset",
        "rise_on_hover",
        "rotation_angle",
        "rotation_origin",
        "title",
        "z_index_offset"
       ],
       "popup": "IPY_MODEL_1570ece5814a4389a7f5db99a24b0772",
       "title": "Location:(-120.33014718119209,34.0583429226247)"
      }
     },
     "d306c6993ad24f4999d0b8df3ac27375": {
      "model_module": "jupyter-leaflet",
      "model_module_version": "^0.15.0",
      "model_name": "LeafletTileLayerModel",
      "state": {
       "_model_module_version": "^0.15.0",
       "_view_module_version": "^0.15.0",
       "attribution": "Imagery provided by services from the Global Imagery Browse Services (GIBS), operated by the NASA/GSFC/Earth Science Data and Information System (ESDIS) with funding provided by NASA/HQ.",
       "max_native_zoom": 18,
       "max_zoom": 9,
       "min_native_zoom": 0,
       "name": "NASAGIBS.ModisTerraTrueColorCR",
       "options": [
        "attribution",
        "detect_retina",
        "max_native_zoom",
        "max_zoom",
        "min_native_zoom",
        "min_zoom",
        "no_wrap",
        "tile_size",
        "tms"
       ],
       "url": "https://map1.vis.earthdata.nasa.gov/wmts-webmerc/MODIS_Terra_CorrectedReflectance_TrueColor/default//GoogleMapsCompatible_Level9/{z}/{y}/{x}.jpg"
      }
     },
     "d3164ae66edd41f59a11d9b06041008e": {
      "model_module": "@jupyter-widgets/controls",
      "model_module_version": "1.5.0",
      "model_name": "HTMLModel",
      "state": {
       "layout": "IPY_MODEL_9018d1184d004d5180c739dbb98392ae",
       "style": "IPY_MODEL_d95c887c298a4833a73046c796fbeed6",
       "value": "Location:(-120.32408092353609,34.04466206991077)"
      }
     },
     "d4790c8f5d0b416a88cad7561c14d2b9": {
      "model_module": "@jupyter-widgets/controls",
      "model_module_version": "1.5.0",
      "model_name": "DescriptionStyleModel",
      "state": {
       "description_width": ""
      }
     },
     "d56dbcb3d65a4b75bc606ca55c6686e6": {
      "model_module": "@jupyter-widgets/controls",
      "model_module_version": "1.5.0",
      "model_name": "ToggleButtonModel",
      "state": {
       "button_style": "primary",
       "icon": "address-book",
       "layout": "IPY_MODEL_1deb628361794f1bb823981beb68ae72",
       "style": "IPY_MODEL_1549215be839488f96c15bc874b0ed25",
       "tooltip": "Get US Census data"
      }
     },
     "d592454be8f4483d8dbef8e2b2c45718": {
      "model_module": "@jupyter-widgets/base",
      "model_module_version": "1.2.0",
      "model_name": "LayoutModel",
      "state": {}
     },
     "d5a2fcc4c1be40e1896abdd60960f2c0": {
      "model_module": "@jupyter-widgets/base",
      "model_module_version": "1.2.0",
      "model_name": "LayoutModel",
      "state": {}
     },
     "d5c9f72acbed43b597ac85f2dc11e757": {
      "model_module": "@jupyter-widgets/base",
      "model_module_version": "1.2.0",
      "model_name": "LayoutModel",
      "state": {
       "height": "auto",
       "padding": "0px 0px 0px 4px",
       "width": "auto"
      }
     },
     "d6ce785a65934a2480d5020b09d0ac46": {
      "model_module": "@jupyter-widgets/controls",
      "model_module_version": "1.5.0",
      "model_name": "ToggleButtonModel",
      "state": {
       "button_style": "primary",
       "icon": "folder-open",
       "layout": "IPY_MODEL_1fd0f5216ee747f79290eba587539107",
       "style": "IPY_MODEL_13fc69b3ff484447a927ea16b6366d71",
       "tooltip": "Open local vector/raster data"
      }
     },
     "d6e593e7a27e4ee3956f22a2b5101f80": {
      "model_module": "@here/map-widget-for-jupyter",
      "model_module_version": "^1.1.3",
      "model_name": "DefaultLayersModel",
      "state": {
       "_model_module": "@here/map-widget-for-jupyter",
       "_model_module_version": "^1.1.3",
       "_view_count": null,
       "_view_module": "@here/map-widget-for-jupyter",
       "_view_module_version": "^1.1.3",
       "layer_name": "raster.normal.labels",
       "ppi": null
      }
     },
     "d715dc9e5e3d415e8b12ca3cf62529d1": {
      "model_module": "@jupyter-widgets/base",
      "model_module_version": "1.2.0",
      "model_name": "LayoutModel",
      "state": {
       "height": "auto",
       "padding": "0px 0px 0px 4px",
       "width": "auto"
      }
     },
     "d7dc2984eae14d1da83df6b48451ad92": {
      "model_module": "@jupyter-widgets/controls",
      "model_module_version": "1.5.0",
      "model_name": "DescriptionStyleModel",
      "state": {
       "description_width": ""
      }
     },
     "d80475bc4d8042f9a6003c2508fbfe05": {
      "model_module": "@jupyter-widgets/base",
      "model_module_version": "1.2.0",
      "model_name": "LayoutModel",
      "state": {
       "height": "auto",
       "padding": "0px 0px 0px 4px",
       "width": "auto"
      }
     },
     "d865ac79ff0a43a687ff755cbe64dce8": {
      "model_module": "@jupyter-widgets/controls",
      "model_module_version": "1.5.0",
      "model_name": "ToggleButtonModel",
      "state": {
       "button_style": "primary",
       "icon": "address-book",
       "layout": "IPY_MODEL_14cf12f34c51403c886f008525bb5df8",
       "style": "IPY_MODEL_b5edff02f1c4495996a79576e0953f2e",
       "tooltip": "Get US Census data"
      }
     },
     "d87232419db241af8264e23e0f91811c": {
      "model_module": "jupyter-leaflet",
      "model_module_version": "^0.15.0",
      "model_name": "LeafletTileLayerModel",
      "state": {
       "_model_module_version": "^0.15.0",
       "_view_module_version": "^0.15.0",
       "attribution": "(C) OpenStreetMap contributors",
       "max_native_zoom": 18,
       "min_native_zoom": 0,
       "name": "OpenStreetMap.BlackAndWhite",
       "options": [
        "attribution",
        "detect_retina",
        "max_native_zoom",
        "max_zoom",
        "min_native_zoom",
        "min_zoom",
        "no_wrap",
        "tile_size",
        "tms"
       ],
       "url": "http://a.tiles.wmflabs.org/bw-mapnik/{z}/{x}/{y}.png"
      }
     },
     "d95c887c298a4833a73046c796fbeed6": {
      "model_module": "@jupyter-widgets/controls",
      "model_module_version": "1.5.0",
      "model_name": "DescriptionStyleModel",
      "state": {
       "description_width": ""
      }
     },
     "da855bf5959c4f678664cbc92278b1d2": {
      "model_module": "jupyter-leaflet",
      "model_module_version": "^0.15.0",
      "model_name": "LeafletTileLayerModel",
      "state": {
       "_model_module_version": "^0.15.0",
       "_view_module_version": "^0.15.0",
       "attribution": "Justice Map",
       "max_native_zoom": 18,
       "max_zoom": 22,
       "min_native_zoom": 0,
       "name": "JusticeMap.asian",
       "options": [
        "attribution",
        "detect_retina",
        "max_native_zoom",
        "max_zoom",
        "min_native_zoom",
        "min_zoom",
        "no_wrap",
        "tile_size",
        "tms"
       ],
       "url": "https://www.justicemap.org/tile/county/asian/{z}/{x}/{y}.png"
      }
     },
     "dadf1de656d848ceb45c72388080ac9d": {
      "model_module": "@jupyter-widgets/controls",
      "model_module_version": "1.5.0",
      "model_name": "DescriptionStyleModel",
      "state": {
       "description_width": ""
      }
     },
     "db3a76749506442dbb9a474b7c07e1e4": {
      "model_module": "@jupyter-widgets/controls",
      "model_module_version": "1.5.0",
      "model_name": "DescriptionStyleModel",
      "state": {
       "description_width": ""
      }
     },
     "dbd4575848d74ab587ed1a212be2d452": {
      "model_module": "jupyter-leaflet",
      "model_module_version": "^0.15.0",
      "model_name": "LeafletTileLayerModel",
      "state": {
       "_model_module_version": "^0.15.0",
       "_view_module_version": "^0.15.0",
       "attribution": "(C) OpenStreetMap contributors (C) CARTO",
       "max_native_zoom": 18,
       "max_zoom": 20,
       "min_native_zoom": 0,
       "name": "CartoDB.PositronOnlyLabels",
       "options": [
        "attribution",
        "detect_retina",
        "max_native_zoom",
        "max_zoom",
        "min_native_zoom",
        "min_zoom",
        "no_wrap",
        "tile_size",
        "tms"
       ],
       "url": "https://a.basemaps.cartocdn.com/light_only_labels/{z}/{x}/{y}.png"
      }
     },
     "dd50f176356d4c2abc48668733ee89af": {
      "model_module": "jupyter-leaflet",
      "model_module_version": "^0.15.0",
      "model_name": "LeafletMarkerModel",
      "state": {
       "_model_module_version": "^0.15.0",
       "_view_module_version": "^0.15.0",
       "draggable": false,
       "location": [
        34.02605157899716,
        -120.42036365010279
       ],
       "options": [
        "alt",
        "draggable",
        "keyboard",
        "rise_offset",
        "rise_on_hover",
        "rotation_angle",
        "rotation_origin",
        "title",
        "z_index_offset"
       ],
       "popup": "IPY_MODEL_690a30c52f6d408e9a4c19637f524976",
       "title": "Location:(-120.42036365010279,34.02605157899716)"
      }
     },
     "dd51c098f21242859d7ff7c2449bdc1c": {
      "model_module": "@jupyter-widgets/controls",
      "model_module_version": "1.5.0",
      "model_name": "DescriptionStyleModel",
      "state": {
       "description_width": ""
      }
     },
     "dd7f8ceaa0264e7db1aa01522b5d6a7c": {
      "model_module": "@jupyter-widgets/base",
      "model_module_version": "1.2.0",
      "model_name": "LayoutModel",
      "state": {
       "height": "auto",
       "padding": "0px 0px 0px 4px",
       "width": "auto"
      }
     },
     "ddfb31eb0fdc443197723d830b9d32f6": {
      "model_module": "@jupyter-widgets/controls",
      "model_module_version": "1.5.0",
      "model_name": "DescriptionStyleModel",
      "state": {
       "description_width": ""
      }
     },
     "de0df371348f4265af0486bfe25be1e1": {
      "model_module": "@jupyter-widgets/controls",
      "model_module_version": "1.5.0",
      "model_name": "HTMLModel",
      "state": {
       "layout": "IPY_MODEL_15da275591fc488788edca0338795e3a",
       "style": "IPY_MODEL_f2ba39afe91a48339901282de21b8591",
       "value": "Location:(-120.36940888741836,34.07348445562798)"
      }
     },
     "de6c1cf6a2504b13a5d408abe703ea6c": {
      "model_module": "jupyter-leaflet",
      "model_module_version": "^0.15.0",
      "model_name": "LeafletTileLayerModel",
      "state": {
       "_model_module_version": "^0.15.0",
       "_view_module_version": "^0.15.0",
       "attribution": "(C) OpenStreetMap contributors",
       "max_native_zoom": 18,
       "min_native_zoom": 0,
       "name": "OpenStreetMap.CH",
       "options": [
        "attribution",
        "detect_retina",
        "max_native_zoom",
        "max_zoom",
        "min_native_zoom",
        "min_zoom",
        "no_wrap",
        "tile_size",
        "tms"
       ],
       "url": "https://tile.osm.ch/switzerland/{z}/{x}/{y}.png"
      }
     },
     "deab313eb2904e058cb1610e01dc5617": {
      "model_module": "@jupyter-widgets/controls",
      "model_module_version": "1.5.0",
      "model_name": "DescriptionStyleModel",
      "state": {
       "description_width": ""
      }
     },
     "ded979680ec94297a9ceb5eb554d1e33": {
      "model_module": "jupyter-leaflet",
      "model_module_version": "^0.15.0",
      "model_name": "LeafletGeoJSONModel",
      "state": {
       "_model_module_version": "^0.15.0",
       "_view_module_version": "^0.15.0",
       "data": {
        "features": [
         {
          "geometry": {
           "coordinates": [
            [
             [
              -120.471456,
              34.011682
             ],
             [
              -120.471456,
              34.051682
             ],
             [
              -120.431456,
              34.051682
             ],
             [
              -120.431456,
              34.011682
             ],
             [
              -120.471456,
              34.011682
             ]
            ]
           ],
           "type": "Polygon"
          },
          "properties": {
           "id": 0,
           "style": {
            "color": "grey",
            "fillColor": "grey",
            "fillOpacity": 0.2,
            "weight": 1
           }
          },
          "type": "Feature"
         },
         {
          "geometry": {
           "coordinates": [
            [
             [
              -120.448656,
              34.027444
             ],
             [
              -120.448656,
              34.067444
             ],
             [
              -120.408656,
              34.067444
             ],
             [
              -120.408656,
              34.027444
             ],
             [
              -120.448656,
              34.027444
             ]
            ]
           ],
           "type": "Polygon"
          },
          "properties": {
           "id": 1,
           "style": {
            "color": "grey",
            "fillColor": "grey",
            "fillOpacity": 0.2,
            "weight": 1
           }
          },
          "type": "Feature"
         },
         {
          "geometry": {
           "coordinates": [
            [
             [
              -120.440364,
              34.006052
             ],
             [
              -120.440364,
              34.046052
             ],
             [
              -120.400364,
              34.046052
             ],
             [
              -120.400364,
              34.006052
             ],
             [
              -120.440364,
              34.006052
             ]
            ]
           ],
           "type": "Polygon"
          },
          "properties": {
           "id": 2,
           "style": {
            "color": "grey",
            "fillColor": "grey",
            "fillOpacity": 0.2,
            "weight": 1
           }
          },
          "type": "Feature"
         },
         {
          "geometry": {
           "coordinates": [
            [
             [
              -120.418091,
              34.031629
             ],
             [
              -120.418091,
              34.071629
             ],
             [
              -120.378091,
              34.071629
             ],
             [
              -120.378091,
              34.031629
             ],
             [
              -120.418091,
              34.031629
             ]
            ]
           ],
           "type": "Polygon"
          },
          "properties": {
           "id": 3,
           "style": {
            "color": "grey",
            "fillColor": "grey",
            "fillOpacity": 0.2,
            "weight": 1
           }
          },
          "type": "Feature"
         },
         {
          "geometry": {
           "coordinates": [
            [
             [
              -120.40498,
              34.004715
             ],
             [
              -120.40498,
              34.044715
             ],
             [
              -120.36498,
              34.044715
             ],
             [
              -120.36498,
              34.004715
             ],
             [
              -120.40498,
              34.004715
             ]
            ]
           ],
           "type": "Polygon"
          },
          "properties": {
           "id": 4,
           "style": {
            "color": "grey",
            "fillColor": "grey",
            "fillOpacity": 0.2,
            "weight": 1
           }
          },
          "type": "Feature"
         },
         {
          "geometry": {
           "coordinates": [
            [
             [
              -120.389409,
              34.053484
             ],
             [
              -120.389409,
              34.093484
             ],
             [
              -120.349409,
              34.093484
             ],
             [
              -120.349409,
              34.053484
             ],
             [
              -120.389409,
              34.053484
             ]
            ]
           ],
           "type": "Polygon"
          },
          "properties": {
           "id": 5,
           "style": {
            "color": "grey",
            "fillColor": "grey",
            "fillOpacity": 0.2,
            "weight": 1
           }
          },
          "type": "Feature"
         },
         {
          "geometry": {
           "coordinates": [
            [
             [
              -120.379846,
              34.031975
             ],
             [
              -120.379846,
              34.071975
             ],
             [
              -120.339847,
              34.071975
             ],
             [
              -120.339847,
              34.031975
             ],
             [
              -120.379846,
              34.031975
             ]
            ]
           ],
           "type": "Polygon"
          },
          "properties": {
           "id": 6,
           "style": {
            "color": "grey",
            "fillColor": "grey",
            "fillOpacity": 0.2,
            "weight": 1
           }
          },
          "type": "Feature"
         },
         {
          "geometry": {
           "coordinates": [
            [
             [
              -120.371146,
              33.999071
             ],
             [
              -120.371146,
              34.039071
             ],
             [
              -120.331146,
              34.039071
             ],
             [
              -120.331146,
              33.999071
             ],
             [
              -120.371146,
              33.999071
             ]
            ]
           ],
           "type": "Polygon"
          },
          "properties": {
           "id": 7,
           "style": {
            "color": "grey",
            "fillColor": "grey",
            "fillOpacity": 0.2,
            "weight": 1
           }
          },
          "type": "Feature"
         },
         {
          "geometry": {
           "coordinates": [
            [
             [
              -120.344081,
              34.024662
             ],
             [
              -120.344081,
              34.064662
             ],
             [
              -120.304081,
              34.064662
             ],
             [
              -120.304081,
              34.024662
             ],
             [
              -120.344081,
              34.024662
             ]
            ]
           ],
           "type": "Polygon"
          },
          "properties": {
           "id": 8,
           "style": {
            "color": "grey",
            "fillColor": "grey",
            "fillOpacity": 0.2,
            "weight": 1
           }
          },
          "type": "Feature"
         },
         {
          "geometry": {
           "coordinates": [
            [
             [
              -120.332686,
              33.999535
             ],
             [
              -120.332686,
              34.039535
             ],
             [
              -120.292686,
              34.039535
             ],
             [
              -120.292686,
              33.999535
             ],
             [
              -120.332686,
              33.999535
             ]
            ]
           ],
           "type": "Polygon"
          },
          "properties": {
           "id": 9,
           "style": {
            "color": "grey",
            "fillColor": "grey",
            "fillOpacity": 0.2,
            "weight": 1
           }
          },
          "type": "Feature"
         },
         {
          "geometry": {
           "coordinates": [
            [
             [
              -120.472011,
              34.034262
             ],
             [
              -120.472011,
              34.074262
             ],
             [
              -120.432011,
              34.074262
             ],
             [
              -120.432011,
              34.034262
             ],
             [
              -120.472011,
              34.034262
             ]
            ]
           ],
           "type": "Polygon"
          },
          "properties": {
           "id": 10,
           "style": {
            "color": "grey",
            "fillColor": "grey",
            "fillOpacity": 0.2,
            "weight": 1
           }
          },
          "type": "Feature"
         },
         {
          "geometry": {
           "coordinates": [
            [
             [
              -120.470941,
              34.037512
             ],
             [
              -120.470941,
              34.077512
             ],
             [
              -120.430941,
              34.077512
             ],
             [
              -120.430941,
              34.037512
             ],
             [
              -120.470941,
              34.037512
             ]
            ]
           ],
           "type": "Polygon"
          },
          "properties": {
           "id": 11,
           "style": {
            "color": "grey",
            "fillColor": "grey",
            "fillOpacity": 0.2,
            "weight": 1
           }
          },
          "type": "Feature"
         },
         {
          "geometry": {
           "coordinates": [
            [
             [
              -120.468594,
              34.032641
             ],
             [
              -120.468594,
              34.072641
             ],
             [
              -120.428594,
              34.072641
             ],
             [
              -120.428594,
              34.032641
             ],
             [
              -120.468594,
              34.032641
             ]
            ]
           ],
           "type": "Polygon"
          },
          "properties": {
           "id": 12,
           "style": {
            "color": "grey",
            "fillColor": "grey",
            "fillOpacity": 0.2,
            "weight": 1
           }
          },
          "type": "Feature"
         },
         {
          "geometry": {
           "coordinates": [
            [
             [
              -120.466981,
              34.037931
             ],
             [
              -120.466981,
              34.077931
             ],
             [
              -120.426981,
              34.077931
             ],
             [
              -120.426981,
              34.037931
             ],
             [
              -120.466981,
              34.037931
             ]
            ]
           ],
           "type": "Polygon"
          },
          "properties": {
           "id": 13,
           "style": {
            "color": "grey",
            "fillColor": "grey",
            "fillOpacity": 0.2,
            "weight": 1
           }
          },
          "type": "Feature"
         },
         {
          "geometry": {
           "coordinates": [
            [
             [
              -120.464855,
              34.033782
             ],
             [
              -120.464855,
              34.073782
             ],
             [
              -120.424855,
              34.073782
             ],
             [
              -120.424855,
              34.033782
             ],
             [
              -120.464855,
              34.033782
             ]
            ]
           ],
           "type": "Polygon"
          },
          "properties": {
           "id": 14,
           "style": {
            "color": "grey",
            "fillColor": "grey",
            "fillOpacity": 0.2,
            "weight": 1
           }
          },
          "type": "Feature"
         },
         {
          "geometry": {
           "coordinates": [
            [
             [
              -120.46297,
              34.037829
             ],
             [
              -120.46297,
              34.077829
             ],
             [
              -120.42297,
              34.077829
             ],
             [
              -120.42297,
              34.037829
             ],
             [
              -120.46297,
              34.037829
             ]
            ]
           ],
           "type": "Polygon"
          },
          "properties": {
           "id": 15,
           "style": {
            "color": "grey",
            "fillColor": "grey",
            "fillOpacity": 0.2,
            "weight": 1
           }
          },
          "type": "Feature"
         },
         {
          "geometry": {
           "coordinates": [
            [
             [
              -120.461176,
              34.034587
             ],
             [
              -120.461176,
              34.074587
             ],
             [
              -120.421176,
              34.074587
             ],
             [
              -120.421176,
              34.034587
             ],
             [
              -120.461176,
              34.034587
             ]
            ]
           ],
           "type": "Polygon"
          },
          "properties": {
           "id": 16,
           "style": {
            "color": "grey",
            "fillColor": "grey",
            "fillOpacity": 0.2,
            "weight": 1
           }
          },
          "type": "Feature"
         },
         {
          "geometry": {
           "coordinates": [
            [
             [
              -120.458959,
              34.037728
             ],
             [
              -120.458959,
              34.077728
             ],
             [
              -120.418959,
              34.077728
             ],
             [
              -120.418959,
              34.037728
             ],
             [
              -120.458959,
              34.037728
             ]
            ]
           ],
           "type": "Polygon"
          },
          "properties": {
           "id": 17,
           "style": {
            "color": "grey",
            "fillColor": "grey",
            "fillOpacity": 0.2,
            "weight": 1
           }
          },
          "type": "Feature"
         },
         {
          "geometry": {
           "coordinates": [
            [
             [
              -120.457259,
              34.033716
             ],
             [
              -120.457259,
              34.073716
             ],
             [
              -120.417259,
              34.073716
             ],
             [
              -120.417259,
              34.033716
             ],
             [
              -120.457259,
              34.033716
             ]
            ]
           ],
           "type": "Polygon"
          },
          "properties": {
           "id": 18,
           "style": {
            "color": "grey",
            "fillColor": "grey",
            "fillOpacity": 0.2,
            "weight": 1
           }
          },
          "type": "Feature"
         },
         {
          "geometry": {
           "coordinates": [
            [
             [
              -120.455436,
              34.0365
             ],
             [
              -120.455436,
              34.0765
             ],
             [
              -120.415436,
              34.0765
             ],
             [
              -120.415436,
              34.0365
             ],
             [
              -120.455436,
              34.0365
             ]
            ]
           ],
           "type": "Polygon"
          },
          "properties": {
           "id": 19,
           "style": {
            "color": "grey",
            "fillColor": "grey",
            "fillOpacity": 0.2,
            "weight": 1
           }
          },
          "type": "Feature"
         },
         {
          "geometry": {
           "coordinates": [
            [
             [
              -120.358281,
              34.038585
             ],
             [
              -120.358281,
              34.078585
             ],
             [
              -120.318281,
              34.078585
             ],
             [
              -120.318281,
              34.038585
             ],
             [
              -120.358281,
              34.038585
             ]
            ]
           ],
           "type": "Polygon"
          },
          "properties": {
           "id": 20,
           "style": {
            "color": "grey",
            "fillColor": "grey",
            "fillOpacity": 0.2,
            "weight": 1
           }
          },
          "type": "Feature"
         },
         {
          "geometry": {
           "coordinates": [
            [
             [
              -120.357083,
              34.040159
             ],
             [
              -120.357083,
              34.080159
             ],
             [
              -120.317083,
              34.080159
             ],
             [
              -120.317083,
              34.040159
             ],
             [
              -120.357083,
              34.040159
             ]
            ]
           ],
           "type": "Polygon"
          },
          "properties": {
           "id": 21,
           "style": {
            "color": "grey",
            "fillColor": "grey",
            "fillOpacity": 0.2,
            "weight": 1
           }
          },
          "type": "Feature"
         },
         {
          "geometry": {
           "coordinates": [
            [
             [
              -120.356571,
              34.037422
             ],
             [
              -120.356571,
              34.077422
             ],
             [
              -120.316571,
              34.077422
             ],
             [
              -120.316571,
              34.037422
             ],
             [
              -120.356571,
              34.037422
             ]
            ]
           ],
           "type": "Polygon"
          },
          "properties": {
           "id": 22,
           "style": {
            "color": "grey",
            "fillColor": "grey",
            "fillOpacity": 0.2,
            "weight": 1
           }
          },
          "type": "Feature"
         },
         {
          "geometry": {
           "coordinates": [
            [
             [
              -120.355172,
              34.041164
             ],
             [
              -120.355172,
              34.081164
             ],
             [
              -120.315172,
              34.081164
             ],
             [
              -120.315172,
              34.041164
             ],
             [
              -120.355172,
              34.041164
             ]
            ]
           ],
           "type": "Polygon"
          },
          "properties": {
           "id": 23,
           "style": {
            "color": "grey",
            "fillColor": "grey",
            "fillOpacity": 0.2,
            "weight": 1
           }
          },
          "type": "Feature"
         },
         {
          "geometry": {
           "coordinates": [
            [
             [
              -120.354714,
              34.03632
             ],
             [
              -120.354714,
              34.07632
             ],
             [
              -120.314714,
              34.07632
             ],
             [
              -120.314714,
              34.03632
             ],
             [
              -120.354714,
              34.03632
             ]
            ]
           ],
           "type": "Polygon"
          },
          "properties": {
           "id": 24,
           "style": {
            "color": "grey",
            "fillColor": "grey",
            "fillOpacity": 0.2,
            "weight": 1
           }
          },
          "type": "Feature"
         },
         {
          "geometry": {
           "coordinates": [
            [
             [
              -120.353101,
              34.040909
             ],
             [
              -120.353101,
              34.080909
             ],
             [
              -120.313101,
              34.080909
             ],
             [
              -120.313101,
              34.040909
             ],
             [
              -120.353101,
              34.040909
             ]
            ]
           ],
           "type": "Polygon"
          },
          "properties": {
           "id": 25,
           "style": {
            "color": "grey",
            "fillColor": "grey",
            "fillOpacity": 0.2,
            "weight": 1
           }
          },
          "type": "Feature"
         },
         {
          "geometry": {
           "coordinates": [
            [
             [
              -120.352857,
              34.035217
             ],
             [
              -120.352857,
              34.075217
             ],
             [
              -120.312857,
              34.075217
             ],
             [
              -120.312857,
              34.035217
             ],
             [
              -120.352857,
              34.035217
             ]
            ]
           ],
           "type": "Polygon"
          },
          "properties": {
           "id": 26,
           "style": {
            "color": "grey",
            "fillColor": "grey",
            "fillOpacity": 0.2,
            "weight": 1
           }
          },
          "type": "Feature"
         },
         {
          "geometry": {
           "coordinates": [
            [
             [
              -120.351117,
              34.036414
             ],
             [
              -120.351117,
              34.076414
             ],
             [
              -120.311117,
              34.076414
             ],
             [
              -120.311117,
              34.036414
             ],
             [
              -120.351117,
              34.036414
             ]
            ]
           ],
           "type": "Polygon"
          },
          "properties": {
           "id": 27,
           "style": {
            "color": "grey",
            "fillColor": "grey",
            "fillOpacity": 0.2,
            "weight": 1
           }
          },
          "type": "Feature"
         },
         {
          "geometry": {
           "coordinates": [
            [
             [
              -120.351098,
              34.040227
             ],
             [
              -120.351098,
              34.080227
             ],
             [
              -120.311098,
              34.080227
             ],
             [
              -120.311098,
              34.040227
             ],
             [
              -120.351098,
              34.040227
             ]
            ]
           ],
           "type": "Polygon"
          },
          "properties": {
           "id": 28,
           "style": {
            "color": "grey",
            "fillColor": "grey",
            "fillOpacity": 0.2,
            "weight": 1
           }
          },
          "type": "Feature"
         },
         {
          "geometry": {
           "coordinates": [
            [
             [
              -120.350147,
              34.038343
             ],
             [
              -120.350147,
              34.078343
             ],
             [
              -120.310147,
              34.078343
             ],
             [
              -120.310147,
              34.038343
             ],
             [
              -120.350147,
              34.038343
             ]
            ]
           ],
           "type": "Polygon"
          },
          "properties": {
           "id": 29,
           "style": {
            "color": "grey",
            "fillColor": "grey",
            "fillOpacity": 0.2,
            "weight": 1
           }
          },
          "type": "Feature"
         }
        ],
        "type": "FeatureCollection"
       },
       "hover_style": {
        "fillColor": "red"
       },
       "name": "ROIs"
      }
     },
     "deefd9c86ba34cf7a30bd98571731319": {
      "model_module": "@jupyter-widgets/controls",
      "model_module_version": "1.5.0",
      "model_name": "DescriptionStyleModel",
      "state": {
       "description_width": ""
      }
     },
     "df07f7df924c4cef8ebe22ec49750c99": {
      "model_module": "jupyter-leaflet",
      "model_module_version": "^0.15.0",
      "model_name": "LeafletTileLayerModel",
      "state": {
       "_model_module_version": "^0.15.0",
       "_view_module_version": "^0.15.0",
       "attribution": "Google",
       "max_native_zoom": 18,
       "max_zoom": 22,
       "min_native_zoom": 0,
       "name": "Google Satellite",
       "options": [
        "attribution",
        "detect_retina",
        "max_native_zoom",
        "max_zoom",
        "min_native_zoom",
        "min_zoom",
        "no_wrap",
        "tile_size",
        "tms"
       ],
       "url": "https://mt1.google.com/vt/lyrs=s&x={x}&y={y}&z={z}"
      }
     },
     "df156a1d13aa4f5e8bb5ab1f00000347": {
      "model_module": "jupyter-leaflet",
      "model_module_version": "^0.15.0",
      "model_name": "LeafletTileLayerModel",
      "state": {
       "_model_module_version": "^0.15.0",
       "_view_module_version": "^0.15.0",
       "attribution": "(C) OpenStreetMap contributors (C) CARTO",
       "max_native_zoom": 18,
       "max_zoom": 20,
       "min_native_zoom": 0,
       "name": "CartoDB.VoyagerOnlyLabels",
       "options": [
        "attribution",
        "detect_retina",
        "max_native_zoom",
        "max_zoom",
        "min_native_zoom",
        "min_zoom",
        "no_wrap",
        "tile_size",
        "tms"
       ],
       "url": "https://a.basemaps.cartocdn.com/rastertiles/voyager_only_labels/{z}/{x}/{y}.png"
      }
     },
     "df25ffe847bb439db79c154b5b074bea": {
      "model_module": "jupyter-leaflet",
      "model_module_version": "^0.15.0",
      "model_name": "LeafletTileLayerModel",
      "state": {
       "_model_module_version": "^0.15.0",
       "_view_module_version": "^0.15.0",
       "attribution": "Imagery provided by services from the Global Imagery Browse Services (GIBS), operated by the NASA/GSFC/Earth Science Data and Information System (<a href=\"https://earthdata.nasa.gov\">ESDIS</a>) with funding provided by NASA/HQ.",
       "max_native_zoom": 18,
       "max_zoom": 9,
       "min_native_zoom": 0,
       "name": "NASAGIBS.ModisTerraBands721CR",
       "options": [
        "attribution",
        "detect_retina",
        "max_native_zoom",
        "max_zoom",
        "min_native_zoom",
        "min_zoom",
        "no_wrap",
        "tile_size",
        "tms"
       ],
       "url": "https://gibs.earthdata.nasa.gov/wmts/epsg3857/best/MODIS_Terra_CorrectedReflectance_Bands721/default//GoogleMapsCompatible_Level9/{z}/{y}/{x}.jpg"
      }
     },
     "e022f9d865a049fe985422955ec1e27f": {
      "model_module": "jupyter-leaflet",
      "model_module_version": "^0.15.0",
      "model_name": "LeafletTileLayerModel",
      "state": {
       "_model_module_version": "^0.15.0",
       "_view_module_version": "^0.15.0",
       "attribution": "Geoportail France",
       "max_native_zoom": 18,
       "min_native_zoom": 0,
       "name": "GeoportailFrance.plan",
       "options": [
        "attribution",
        "detect_retina",
        "max_native_zoom",
        "max_zoom",
        "min_native_zoom",
        "min_zoom",
        "no_wrap",
        "tile_size",
        "tms"
       ],
       "url": "https://wxs.ign.fr/choisirgeoportail/geoportail/wmts?REQUEST=GetTile&SERVICE=WMTS&VERSION=1.0.0&STYLE=normal&TILEMATRIXSET=PM&FORMAT=image/png&LAYER=GEOGRAPHICALGRIDSYSTEMS.PLANIGNV2&TILEMATRIX={z}&TILEROW={y}&TILECOL={x}"
      }
     },
     "e0657d455b224dd8ad61c6dee90eb7f8": {
      "model_module": "@jupyter-widgets/base",
      "model_module_version": "1.2.0",
      "model_name": "LayoutModel",
      "state": {
       "height": "auto",
       "padding": "0px 0px 0px 4px",
       "width": "auto"
      }
     },
     "e07faf4b60684d379a4ae9efd2dac9a0": {
      "model_module": "@jupyter-widgets/base",
      "model_module_version": "1.2.0",
      "model_name": "LayoutModel",
      "state": {
       "height": "auto",
       "padding": "0px 0px 0px 4px",
       "width": "auto"
      }
     },
     "e08fff5194334f75b253b4cd32185b90": {
      "model_module": "@jupyter-widgets/base",
      "model_module_version": "1.2.0",
      "model_name": "LayoutModel",
      "state": {}
     },
     "e0b34777daee47889b64f06d5cbaed11": {
      "model_module": "@jupyter-widgets/controls",
      "model_module_version": "1.5.0",
      "model_name": "DescriptionStyleModel",
      "state": {
       "description_width": ""
      }
     },
     "e167eb9ac86a44bfaa2f92020328f463": {
      "model_module": "jupyter-leaflet",
      "model_module_version": "^0.15.0",
      "model_name": "LeafletTileLayerModel",
      "state": {
       "_model_module_version": "^0.15.0",
       "_view_module_version": "^0.15.0",
       "attribution": "(C) OpenStreetMap contributors",
       "max_native_zoom": 18,
       "max_zoom": 15,
       "min_native_zoom": 0,
       "name": "HikeBike.HillShading",
       "options": [
        "attribution",
        "detect_retina",
        "max_native_zoom",
        "max_zoom",
        "min_native_zoom",
        "min_zoom",
        "no_wrap",
        "tile_size",
        "tms"
       ],
       "url": "https://tiles.wmflabs.org/hillshading/{z}/{x}/{y}.png"
      }
     },
     "e1c16e1b46154431842f4301b1dd84c9": {
      "model_module": "jupyter-leaflet",
      "model_module_version": "^0.15.0",
      "model_name": "LeafletMarkerModel",
      "state": {
       "_model_module_version": "^0.15.0",
       "_view_module_version": "^0.15.0",
       "draggable": false,
       "location": [
        34.0474437882485,
        -120.42865616851695
       ],
       "options": [
        "alt",
        "draggable",
        "keyboard",
        "rise_offset",
        "rise_on_hover",
        "rotation_angle",
        "rotation_origin",
        "title",
        "z_index_offset"
       ],
       "popup": "IPY_MODEL_e4f8071cc0ac472dbf61ebd3575f88db",
       "title": "Location:(-120.42865616851695,34.0474437882485)"
      }
     },
     "e38a965cb90144a8b1de6a2c4dd2f131": {
      "model_module": "@jupyter-widgets/base",
      "model_module_version": "1.2.0",
      "model_name": "LayoutModel",
      "state": {
       "height": "auto",
       "padding": "0px 0px 0px 4px",
       "width": "auto"
      }
     },
     "e4097337d4b0494396a2cc157b80275e": {
      "model_module": "jupyter-leaflet",
      "model_module_version": "^0.15.0",
      "model_name": "LeafletMarkerModel",
      "state": {
       "_model_module_version": "^0.15.0",
       "_view_module_version": "^0.15.0",
       "draggable": false,
       "location": [
        34.05782907975453,
        -120.44297002003749
       ],
       "options": [
        "alt",
        "draggable",
        "keyboard",
        "rise_offset",
        "rise_on_hover",
        "rotation_angle",
        "rotation_origin",
        "title",
        "z_index_offset"
       ],
       "popup": "IPY_MODEL_34726618f20f4d25aff6a8b0ba4ac0b5",
       "title": "Location:(-120.44297002003749,34.05782907975453)"
      }
     },
     "e4f8071cc0ac472dbf61ebd3575f88db": {
      "model_module": "@jupyter-widgets/controls",
      "model_module_version": "1.5.0",
      "model_name": "HTMLModel",
      "state": {
       "layout": "IPY_MODEL_c1cc76d7cedf4fc896f325e5adda1816",
       "style": "IPY_MODEL_51cfd9d3fed940838bb243792cedeb23",
       "value": "Location:(-120.42865616851695,34.0474437882485)"
      }
     },
     "e5894955ebc0489ca63b958b9d283d6a": {
      "model_module": "jupyter-leaflet",
      "model_module_version": "^0.15.0",
      "model_name": "LeafletWMSLayerModel",
      "state": {
       "_model_module_version": "^0.15.0",
       "_view_module_version": "^0.15.0",
       "attribution": "MRLC",
       "crs": {
        "custom": false,
        "name": "EPSG3857"
       },
       "format": "image/png",
       "layers": "NLCD_2011_Land_Cover_L48",
       "max_native_zoom": 18,
       "min_native_zoom": 0,
       "name": "NLCD 2011 CONUS Land Cover",
       "options": [
        "attribution",
        "detect_retina",
        "format",
        "layers",
        "max_native_zoom",
        "max_zoom",
        "min_native_zoom",
        "min_zoom",
        "no_wrap",
        "styles",
        "tile_size",
        "tms",
        "transparent",
        "uppercase"
       ],
       "transparent": true,
       "url": "https://www.mrlc.gov/geoserver/mrlc_display/NLCD_2011_Land_Cover_L48/wms?"
      }
     },
     "e7d15ef09e5246019b13793216fd758b": {
      "model_module": "@jupyter-widgets/controls",
      "model_module_version": "1.5.0",
      "model_name": "HTMLModel",
      "state": {
       "layout": "IPY_MODEL_57e6d2524bf9435fa5038fc55f2b699a",
       "style": "IPY_MODEL_1ba297d97a8c4fcbaebbb34fb979dc5d",
       "value": "Location:(-120.3598465,34.051975)"
      }
     },
     "e88f8a1e57c948c6a02c78ac0a4e7765": {
      "model_module": "jupyter-leaflet",
      "model_module_version": "^0.15.0",
      "model_name": "LeafletDrawControlModel",
      "state": {
       "_model_module_version": "^0.15.0",
       "_view_module_version": "^0.15.0",
       "circlemarker": {
        "shapeOptions": {}
       },
       "data": [
        {
         "geometry": {
          "coordinates": [
           [
            [
             -120.47169,
             33.994988
            ],
            [
             -120.47169,
             34.094555
            ],
            [
             -120.271243,
             34.094555
            ],
            [
             -120.271243,
             33.994988
            ],
            [
             -120.47169,
             33.994988
            ]
           ]
          ],
          "type": "Polygon"
         },
         "properties": {
          "style": {
           "Opacity": 0.1,
           "clickable": true,
           "color": "green",
           "fill": true,
           "fillColor": "green",
           "fillOpacity": 0.1,
           "opacity": 0.5,
           "stroke": true,
           "weight": 4
          }
         },
         "type": "Feature"
        }
       ],
       "options": [
        "position"
       ],
       "rectangle": {
        "allowIntersection": false,
        "drawError": {
         "color": "#dd253b",
         "message": "Ops!"
        },
        "shapeOptions": {
         "Opacity": 0.1,
         "color": "green",
         "fillColor": "green",
         "fillOpacity": 0.1
        },
        "transform": true
       }
      }
     },
     "e9962e1d9e2a44e5a36e5b996e117b79": {
      "model_module": "@jupyter-widgets/controls",
      "model_module_version": "1.5.0",
      "model_name": "DescriptionStyleModel",
      "state": {
       "description_width": ""
      }
     },
     "e99d8f38604f4ab58a2374f4484b6a4f": {
      "model_module": "@jupyter-widgets/controls",
      "model_module_version": "1.5.0",
      "model_name": "DescriptionStyleModel",
      "state": {
       "description_width": ""
      }
     },
     "eab1118ea2d8400bb10944a68b9c4324": {
      "model_module": "jupyter-leaflet",
      "model_module_version": "^0.15.0",
      "model_name": "LeafletTileLayerModel",
      "state": {
       "_model_module_version": "^0.15.0",
       "_view_module_version": "^0.15.0",
       "attribution": "Imagery provided by services from the Global Imagery Browse Services (GIBS), operated by the NASA/GSFC/Earth Science Data and Information System (<a href=\"https://earthdata.nasa.gov\">ESDIS</a>) with funding provided by NASA/HQ.",
       "max_native_zoom": 18,
       "max_zoom": 9,
       "min_native_zoom": 0,
       "name": "NASAGIBS.ModisAquaTrueColorCR",
       "options": [
        "attribution",
        "detect_retina",
        "max_native_zoom",
        "max_zoom",
        "min_native_zoom",
        "min_zoom",
        "no_wrap",
        "tile_size",
        "tms"
       ],
       "url": "https://gibs.earthdata.nasa.gov/wmts/epsg3857/best/MODIS_Aqua_CorrectedReflectance_TrueColor/default//GoogleMapsCompatible_Level9/{z}/{y}/{x}.jpg"
      }
     },
     "eb7799fa502d4d2299c4b8d4a3160825": {
      "model_module": "jupyter-leaflet",
      "model_module_version": "^0.15.0",
      "model_name": "LeafletMarkerModel",
      "state": {
       "_model_module_version": "^0.15.0",
       "_view_module_version": "^0.15.0",
       "draggable": false,
       "location": [
        34.06090854173977,
        -120.33310113328065
       ],
       "options": [
        "alt",
        "draggable",
        "keyboard",
        "rise_offset",
        "rise_on_hover",
        "rotation_angle",
        "rotation_origin",
        "title",
        "z_index_offset"
       ],
       "popup": "IPY_MODEL_a94336aed2bf4861a66fd6dcb7ce94dd",
       "title": "Location:(-120.33310113328065,34.06090854173977)"
      }
     },
     "ec7ea46b28464e36a79e0c1e3b11b3ed": {
      "model_module": "@jupyter-widgets/controls",
      "model_module_version": "1.5.0",
      "model_name": "DescriptionStyleModel",
      "state": {
       "description_width": ""
      }
     },
     "ecad1e64419448878adc0b6b2545f70e": {
      "model_module": "jupyter-leaflet",
      "model_module_version": "^0.15.0",
      "model_name": "LeafletTileLayerModel",
      "state": {
       "_model_module_version": "^0.15.0",
       "_view_module_version": "^0.15.0",
       "attribution": "Map tiles by <a href=\"https://labs.strava.com/heatmap\">Strava 2021</a>",
       "max_native_zoom": 18,
       "max_zoom": 15,
       "min_native_zoom": 0,
       "name": "Strava.All",
       "options": [
        "attribution",
        "detect_retina",
        "max_native_zoom",
        "max_zoom",
        "min_native_zoom",
        "min_zoom",
        "no_wrap",
        "tile_size",
        "tms"
       ],
       "url": "https://heatmap-external-a.strava.com/tiles/all/hot/{z}/{x}/{y}.png"
      }
     },
     "ed16a7d8e5c44d729f02803b1756406e": {
      "model_module": "jupyter-leaflet",
      "model_module_version": "^0.15.0",
      "model_name": "LeafletMarkerModel",
      "state": {
       "_model_module_version": "^0.15.0",
       "_view_module_version": "^0.15.0",
       "draggable": false,
       "location": [
        34.05264068476356,
        -120.44859420156101
       ],
       "options": [
        "alt",
        "draggable",
        "keyboard",
        "rise_offset",
        "rise_on_hover",
        "rotation_angle",
        "rotation_origin",
        "title",
        "z_index_offset"
       ],
       "popup": "IPY_MODEL_c01cecc92c364f689acbdce2ec302af4",
       "title": "Location:(-120.44859420156101,34.05264068476356)"
      }
     },
     "edd589bf07244e66b3a4c7939923d80c": {
      "model_module": "jupyter-leaflet",
      "model_module_version": "^0.15.0",
      "model_name": "LeafletTileLayerModel",
      "state": {
       "_model_module_version": "^0.15.0",
       "_view_module_version": "^0.15.0",
       "attribution": "Datenquelle: basemap.at",
       "max_native_zoom": 18,
       "max_zoom": 19,
       "min_native_zoom": 0,
       "name": "BasemapAT.terrain",
       "options": [
        "attribution",
        "detect_retina",
        "max_native_zoom",
        "max_zoom",
        "min_native_zoom",
        "min_zoom",
        "no_wrap",
        "tile_size",
        "tms"
       ],
       "url": "https://maps.wien.gv.at/basemap/bmapgelaende/grau/google3857/{z}/{y}/{x}.jpeg"
      }
     },
     "ee10e3b292754d0bb2329a10211808fb": {
      "model_module": "jupyter-leaflet",
      "model_module_version": "^0.15.0",
      "model_name": "LeafletTileLayerModel",
      "state": {
       "_model_module_version": "^0.15.0",
       "_view_module_version": "^0.15.0",
       "attribution": "Tiles courtesy of OpenStreetMap Sweden -- Map data (C) OpenStreetMap contributors",
       "max_native_zoom": 18,
       "max_zoom": 20,
       "min_native_zoom": 0,
       "name": "Hydda.Full",
       "options": [
        "attribution",
        "detect_retina",
        "max_native_zoom",
        "max_zoom",
        "min_native_zoom",
        "min_zoom",
        "no_wrap",
        "tile_size",
        "tms"
       ],
       "url": "https://a.tile.openstreetmap.se/hydda/full/{z}/{x}/{y}.png"
      }
     },
     "ee3eb5bfffac429ca0f7d6cf0e718fec": {
      "model_module": "@jupyter-widgets/base",
      "model_module_version": "1.2.0",
      "model_name": "LayoutModel",
      "state": {
       "height": "auto",
       "padding": "0px 0px 0px 4px",
       "width": "auto"
      }
     },
     "ee7899606a4143c684c2419837d43995": {
      "model_module": "@jupyter-widgets/controls",
      "model_module_version": "1.5.0",
      "model_name": "ToggleButtonModel",
      "state": {
       "button_style": "primary",
       "icon": "fast-forward",
       "layout": "IPY_MODEL_d80475bc4d8042f9a6003c2508fbfe05",
       "style": "IPY_MODEL_6059ac49e83e4864b6a207da57b3d48b",
       "tooltip": "Activate the time slider"
      }
     },
     "eecb4913cf244fc69c6f1083da9d1e78": {
      "model_module": "@jupyter-widgets/controls",
      "model_module_version": "1.5.0",
      "model_name": "ToggleButtonModel",
      "state": {
       "icon": "server",
       "layout": "IPY_MODEL_98b7bac51a4747e4a89757d685195a57",
       "style": "IPY_MODEL_ddfb31eb0fdc443197723d830b9d32f6",
       "tooltip": "Layers"
      }
     },
     "ef70bd164c5f4ede9e07b1219a0a7308": {
      "model_module": "@jupyter-widgets/base",
      "model_module_version": "1.2.0",
      "model_name": "LayoutModel",
      "state": {
       "height": "600px",
       "width": "100%"
      }
     },
     "ef74b3e2134f4549af922c8209d04eaf": {
      "model_module": "jupyter-leaflet",
      "model_module_version": "^0.15.0",
      "model_name": "LeafletTileLayerModel",
      "state": {
       "_model_module_version": "^0.15.0",
       "_view_module_version": "^0.15.0",
       "attribution": "Justice Map",
       "max_native_zoom": 18,
       "max_zoom": 22,
       "min_native_zoom": 0,
       "name": "JusticeMap.plurality",
       "options": [
        "attribution",
        "detect_retina",
        "max_native_zoom",
        "max_zoom",
        "min_native_zoom",
        "min_zoom",
        "no_wrap",
        "tile_size",
        "tms"
       ],
       "url": "https://www.justicemap.org/tile/county/plural/{z}/{x}/{y}.png"
      }
     },
     "efd1d262db9e43eb97d8a3a52df38e94": {
      "model_module": "jupyter-leaflet",
      "model_module_version": "^0.15.0",
      "model_name": "LeafletTileLayerModel",
      "state": {
       "_model_module_version": "^0.15.0",
       "_view_module_version": "^0.15.0",
       "attribution": "&copy; <a href=\"http://www.gaode.com/\">Gaode.com</a>",
       "max_native_zoom": 18,
       "max_zoom": 19,
       "min_native_zoom": 0,
       "name": "Gaode.Normal",
       "options": [
        "attribution",
        "detect_retina",
        "max_native_zoom",
        "max_zoom",
        "min_native_zoom",
        "min_zoom",
        "no_wrap",
        "tile_size",
        "tms"
       ],
       "url": "http://webrd01.is.autonavi.com/appmaptile?lang=zh_cn&size=1&scale=1&style=7&x={x}&y={y}&z={z}"
      }
     },
     "f004ef9b8fa0456caa98285b5f2b77aa": {
      "model_module": "@jupyter-widgets/controls",
      "model_module_version": "1.5.0",
      "model_name": "ToggleButtonModel",
      "state": {
       "button_style": "primary",
       "icon": "spinner",
       "layout": "IPY_MODEL_3fc8de1d8421472a81fd7e541c81eae3",
       "style": "IPY_MODEL_e0b34777daee47889b64f06d5cbaed11",
       "tooltip": "This is a placeholder"
      }
     },
     "f01a8292005148d9935a143b2b07915b": {
      "model_module": "@jupyter-widgets/controls",
      "model_module_version": "1.5.0",
      "model_name": "HTMLModel",
      "state": {
       "layout": "IPY_MODEL_2c7274973ac74515931aa8da47d27ef8",
       "style": "IPY_MODEL_5d06cac0c3eb4655b22caba6915368af",
       "value": "Location:(-120.33111739,34.05641353)"
      }
     },
     "f1964165966d4d1689db4719301abe4c": {
      "model_module": "@jupyter-widgets/controls",
      "model_module_version": "1.5.0",
      "model_name": "DescriptionStyleModel",
      "state": {
       "description_width": ""
      }
     },
     "f1b319ee3c7c4664b07661bca8260d1d": {
      "model_module": "jupyter-leaflet",
      "model_module_version": "^0.15.0",
      "model_name": "LeafletTileLayerModel",
      "state": {
       "_model_module_version": "^0.15.0",
       "_view_module_version": "^0.15.0",
       "attribution": "Imagery provided by services from the Global Imagery Browse Services (GIBS), operated by the NASA/GSFC/Earth Science Data and Information System (ESDIS) with funding provided by NASA/HQ.",
       "max_native_zoom": 18,
       "max_zoom": 9,
       "min_native_zoom": 0,
       "name": "NASAGIBS.ModisTerraBands367CR",
       "options": [
        "attribution",
        "detect_retina",
        "max_native_zoom",
        "max_zoom",
        "min_native_zoom",
        "min_zoom",
        "no_wrap",
        "tile_size",
        "tms"
       ],
       "url": "https://map1.vis.earthdata.nasa.gov/wmts-webmerc/MODIS_Terra_CorrectedReflectance_Bands367/default//GoogleMapsCompatible_Level9/{z}/{y}/{x}.jpg"
      }
     },
     "f288390ba7494776b8867cbcf00a6e40": {
      "model_module": "@jupyter-widgets/controls",
      "model_module_version": "1.5.0",
      "model_name": "HBoxModel",
      "state": {
       "children": [
        "IPY_MODEL_d2ac161b6a77490ea9125982bbf86af6",
        "IPY_MODEL_10caa45fac94440390669ccae85e4345"
       ],
       "layout": "IPY_MODEL_256e835404244e649de94b33d959cffb"
      }
     },
     "f2ba39afe91a48339901282de21b8591": {
      "model_module": "@jupyter-widgets/controls",
      "model_module_version": "1.5.0",
      "model_name": "DescriptionStyleModel",
      "state": {
       "description_width": ""
      }
     },
     "f2d359d9e2fb4ed8865f29ac5b643b58": {
      "model_module": "@jupyter-widgets/controls",
      "model_module_version": "1.5.0",
      "model_name": "DescriptionStyleModel",
      "state": {
       "description_width": ""
      }
     },
     "f2d4e75e5db84881a5dfd1fa1d8520d4": {
      "model_module": "@here/map-widget-for-jupyter",
      "model_module_version": "^1.1.3",
      "model_name": "DefaultLayersModel",
      "state": {
       "_model_module": "@here/map-widget-for-jupyter",
       "_model_module_version": "^1.1.3",
       "_view_count": null,
       "_view_module": "@here/map-widget-for-jupyter",
       "_view_module_version": "^1.1.3",
       "layer_name": "raster.terrain.map",
       "ppi": null
      }
     },
     "f59a360b2b2648de8b83faa597b32891": {
      "model_module": "@jupyter-widgets/controls",
      "model_module_version": "1.5.0",
      "model_name": "HTMLModel",
      "state": {
       "layout": "IPY_MODEL_72bed9dea0b44bc2a5919b32ce7ad926",
       "style": "IPY_MODEL_19628eb8331d452b95ef7129779db9b0",
       "value": "Location:(-120.4389587553327,34.05772752651861)"
      }
     },
     "f5e8807c5edd44328b1332ce21888fbe": {
      "model_module": "@jupyter-widgets/controls",
      "model_module_version": "1.5.0",
      "model_name": "ToggleButtonModel",
      "state": {
       "button_style": "primary",
       "icon": "gears",
       "layout": "IPY_MODEL_237c05b033ae4b50a07ee74603f0fe35",
       "style": "IPY_MODEL_fd1d2a7f8b9648f9b0e93b3eddbaffc9",
       "tooltip": "WhiteboxTools for local geoprocessing"
      }
     },
     "f62c3a023c284482b2dbe83e51db6fdf": {
      "model_module": "@jupyter-widgets/controls",
      "model_module_version": "1.5.0",
      "model_name": "HTMLModel",
      "state": {
       "layout": "IPY_MODEL_b56f2fef3e984d2c9dca470687d7d843",
       "style": "IPY_MODEL_88ce47fc5c034c2e942cfe42729b6ce3",
       "value": "Location:(-120.33471421685232,34.05631953034208)"
      }
     },
     "f6626e3081d7452b92b8a33bdb8c7a8f": {
      "model_module": "@jupyter-widgets/controls",
      "model_module_version": "1.5.0",
      "model_name": "ToggleButtonModel",
      "state": {
       "button_style": "primary",
       "icon": "download",
       "layout": "IPY_MODEL_71180c1b7dcc472799e2be497e0be7b6",
       "style": "IPY_MODEL_67d3e9792dbc4f2d84ca847d793a71c7",
       "tooltip": "Download OSM data"
      }
     },
     "f68b066357da4993bbc3a572c5c5eeb8": {
      "model_module": "jupyter-leaflet",
      "model_module_version": "^0.15.0",
      "model_name": "LeafletGeoJSONModel",
      "state": {
       "_model_module_version": "^0.15.0",
       "_view_module_version": "^0.15.0",
       "data": {
        "features": [
         {
          "geometry": {
           "coordinates": [
            [
             [
              -120.455436,
              34.0365
             ],
             [
              -120.455436,
              34.0765
             ],
             [
              -120.415436,
              34.0765
             ],
             [
              -120.415436,
              34.0365
             ],
             [
              -120.455436,
              34.0365
             ]
            ]
           ],
           "type": "Polygon"
          },
          "properties": {
           "id": 19,
           "style": {
            "color": "blue",
            "fillColor": "grey",
            "fillOpacity": 0.2,
            "weight": 2
           }
          },
          "type": "Feature"
         },
         {
          "geometry": {
           "coordinates": [
            [
             [
              -120.350147,
              34.038343
             ],
             [
              -120.350147,
              34.078343
             ],
             [
              -120.310147,
              34.078343
             ],
             [
              -120.310147,
              34.038343
             ],
             [
              -120.350147,
              34.038343
             ]
            ]
           ],
           "type": "Polygon"
          },
          "properties": {
           "id": 29,
           "style": {
            "color": "blue",
            "fillColor": "grey",
            "fillOpacity": 0.2,
            "weight": 2
           }
          },
          "type": "Feature"
         }
        ],
        "type": "FeatureCollection"
       },
       "hover_style": {
        "fillColor": "blue"
       },
       "name": "Selected ROIs"
      }
     },
     "f6accd2a78054bd9aeabfa1ea4f3cdc7": {
      "model_module": "@jupyter-widgets/controls",
      "model_module_version": "1.5.0",
      "model_name": "HTMLModel",
      "state": {
       "layout": "IPY_MODEL_4506fe45715d46dcbf431444b22fece4",
       "style": "IPY_MODEL_dadf1de656d848ceb45c72388080ac9d",
       "value": "Location:(-120.3328572759794,34.055216973483816)"
      }
     },
     "f727d44ee43d4829bfbcca10660c5d39": {
      "model_module": "@here/map-widget-for-jupyter",
      "model_module_version": "^1.1.3",
      "model_name": "DefaultLayersModel",
      "state": {
       "_model_module": "@here/map-widget-for-jupyter",
       "_model_module_version": "^1.1.3",
       "_view_count": null,
       "_view_module": "@here/map-widget-for-jupyter",
       "_view_module_version": "^1.1.3",
       "layer_name": "raster.satellite.base",
       "ppi": null
      }
     },
     "f73789861d3642548d1a59d7ea85d9dd": {
      "model_module": "@jupyter-widgets/base",
      "model_module_version": "1.2.0",
      "model_name": "LayoutModel",
      "state": {
       "height": "auto",
       "padding": "0px 0px 0px 4px",
       "width": "auto"
      }
     },
     "f79be617044446ab8950baddcd6e5c72": {
      "model_module": "jupyter-leaflet",
      "model_module_version": "^0.15.0",
      "model_name": "LeafletMarkerModel",
      "state": {
       "_model_module_version": "^0.15.0",
       "_view_module_version": "^0.15.0",
       "draggable": false,
       "location": [
        34.06116442947398,
        -120.33517241727087
       ],
       "options": [
        "alt",
        "draggable",
        "keyboard",
        "rise_offset",
        "rise_on_hover",
        "rotation_angle",
        "rotation_origin",
        "title",
        "z_index_offset"
       ],
       "popup": "IPY_MODEL_fed08660d11f4d10840e4c7cc3efc526",
       "title": "Location:(-120.33517241727087,34.06116442947398)"
      }
     },
     "f8ccced650ac426893f30202c4ff7bea": {
      "model_module": "jupyter-leaflet",
      "model_module_version": "^0.15.0",
      "model_name": "LeafletTileLayerModel",
      "state": {
       "_model_module_version": "^0.15.0",
       "_view_module_version": "^0.15.0",
       "attribution": "Map tiles by <a href=\"https://labs.strava.com/heatmap\">Strava 2021</a>",
       "max_native_zoom": 18,
       "max_zoom": 15,
       "min_native_zoom": 0,
       "name": "Strava.Water",
       "options": [
        "attribution",
        "detect_retina",
        "max_native_zoom",
        "max_zoom",
        "min_native_zoom",
        "min_zoom",
        "no_wrap",
        "tile_size",
        "tms"
       ],
       "url": "https://heatmap-external-a.strava.com/tiles/water/blue/{z}/{x}/{y}.png"
      }
     },
     "fbb754fee29844e197d9bdef3acae614": {
      "model_module": "jupyter-leaflet",
      "model_module_version": "^0.15.0",
      "model_name": "LeafletTileLayerModel",
      "state": {
       "_model_module_version": "^0.15.0",
       "_view_module_version": "^0.15.0",
       "attribution": "Map data: (C) OpenStreetMap contributors & ODbL, (C) www.opensnowmap.org CC-BY-SA",
       "max_native_zoom": 18,
       "min_native_zoom": 0,
       "name": "OpenSnowMap.pistes",
       "options": [
        "attribution",
        "detect_retina",
        "max_native_zoom",
        "max_zoom",
        "min_native_zoom",
        "min_zoom",
        "no_wrap",
        "tile_size",
        "tms"
       ],
       "url": "https://tiles.opensnowmap.org/pistes/{z}/{x}/{y}.png"
      }
     },
     "fc08e25769ed4a06ae8ce138704314cc": {
      "model_module": "jupyter-leaflet",
      "model_module_version": "^0.15.0",
      "model_name": "LeafletTileLayerModel",
      "state": {
       "_model_module_version": "^0.15.0",
       "_view_module_version": "^0.15.0",
       "attribution": "(C) OpenStreetMap contributors (C) CARTO",
       "max_native_zoom": 18,
       "max_zoom": 20,
       "min_native_zoom": 0,
       "name": "CartoDB.DarkMatter",
       "options": [
        "attribution",
        "detect_retina",
        "max_native_zoom",
        "max_zoom",
        "min_native_zoom",
        "min_zoom",
        "no_wrap",
        "tile_size",
        "tms"
       ],
       "url": "https://a.basemaps.cartocdn.com/dark_all/{z}/{x}/{y}.png"
      }
     },
     "fc23d5b130f64c62b730e3a1a6740d7c": {
      "model_module": "@jupyter-widgets/controls",
      "model_module_version": "1.5.0",
      "model_name": "DescriptionStyleModel",
      "state": {
       "description_width": ""
      }
     },
     "fc5bd4ae9db245c6a616567ed79c9ebf": {
      "model_module": "@jupyter-widgets/base",
      "model_module_version": "1.2.0",
      "model_name": "LayoutModel",
      "state": {
       "height": "auto",
       "padding": "0px 0px 0px 4px",
       "width": "auto"
      }
     },
     "fc6113c2003540e59082ecc03f4e09a9": {
      "model_module": "jupyter-leaflet",
      "model_module_version": "^0.15.0",
      "model_name": "LeafletMapModel",
      "state": {
       "_model_module_version": "^0.15.0",
       "_view_module_version": "^0.15.0",
       "bottom": 411452.09088134766,
       "center": [
        36.16889734775099,
        -75.81716294566311
       ],
       "controls": [
        "IPY_MODEL_a8837ad340fa495991598591e527c051",
        "IPY_MODEL_4e335183165d45deafba6922f115f3c4",
        "IPY_MODEL_0a8ff3678d314200bda61119c94bf2a9",
        "IPY_MODEL_aa2598f8faf94057b462bfc55b9fc039",
        "IPY_MODEL_2fbd864bd3734995aed878da7a31699d"
       ],
       "default_style": "IPY_MODEL_6503d7aaffb048668c61987b0a872ae9",
       "dragging_style": "IPY_MODEL_872f772bfbfe44f6a6692e2078c9dad5",
       "east": -75.61717744151272,
       "fullscreen": false,
       "interpolation": "bilinear",
       "layers": [
        "IPY_MODEL_7bc7c2b83cb74cdcb6a9cb58a14123e1",
        "IPY_MODEL_11612f08c85f4fc8ae4f4b815db27010"
       ],
       "layout": "IPY_MODEL_bd048ec535ab49b0858aa2bea0121ff1",
       "left": 302872,
       "max_zoom": 24,
       "modisdate": "2022-01-31",
       "north": 36.25202575042051,
       "options": [
        "bounce_at_zoom_limits",
        "box_zoom",
        "center",
        "close_popup_on_click",
        "double_click_zoom",
        "dragging",
        "fullscreen",
        "inertia",
        "inertia_deceleration",
        "inertia_max_speed",
        "interpolation",
        "keyboard",
        "keyboard_pan_offset",
        "keyboard_zoom_offset",
        "max_zoom",
        "min_zoom",
        "prefer_canvas",
        "scroll_wheel_zoom",
        "tap",
        "tap_tolerance",
        "touch_zoom",
        "world_copy_jump",
        "zoom",
        "zoom_animation_threshold",
        "zoom_delta",
        "zoom_snap",
        "zoom_start"
       ],
       "prefer_canvas": false,
       "right": 304037.0070752455,
       "scroll_wheel_zoom": true,
       "south": 36.08570589543724,
       "style": "IPY_MODEL_6503d7aaffb048668c61987b0a872ae9",
       "top": 410852,
       "west": -76.01715087890626,
       "window_url": "http://localhost:8888/lab/tree/Prototype%207_v3.ipynb"
      }
     },
     "fcbc82cabc6c4f5f8eda3a180317e59b": {
      "model_module": "@jupyter-widgets/base",
      "model_module_version": "1.2.0",
      "model_name": "LayoutModel",
      "state": {}
     },
     "fd1d2a7f8b9648f9b0e93b3eddbaffc9": {
      "model_module": "@jupyter-widgets/controls",
      "model_module_version": "1.5.0",
      "model_name": "DescriptionStyleModel",
      "state": {
       "description_width": ""
      }
     },
     "fdb8eed9c15e41c2b86bfd701add9943": {
      "model_module": "jupyter-leaflet",
      "model_module_version": "^0.15.0",
      "model_name": "LeafletMarkerModel",
      "state": {
       "_model_module_version": "^0.15.0",
       "_view_module_version": "^0.15.0",
       "draggable": false,
       "location": [
        34.05458667145645,
        -120.44117597525123
       ],
       "options": [
        "alt",
        "draggable",
        "keyboard",
        "rise_offset",
        "rise_on_hover",
        "rotation_angle",
        "rotation_origin",
        "title",
        "z_index_offset"
       ],
       "popup": "IPY_MODEL_8be165f7b9f04999ab181ce41dcd866a",
       "title": "Location:(-120.44117597525123,34.05458667145645)"
      }
     },
     "fed08660d11f4d10840e4c7cc3efc526": {
      "model_module": "@jupyter-widgets/controls",
      "model_module_version": "1.5.0",
      "model_name": "HTMLModel",
      "state": {
       "layout": "IPY_MODEL_b5084bc717dc44f09f252d07554b371a",
       "style": "IPY_MODEL_7ebf0e10ff66448aae40f5cbf2f75a8f",
       "value": "Location:(-120.33517241727087,34.06116442947398)"
      }
     },
     "ff5c006d33584cb5b3b0eff83b349096": {
      "model_module": "@jupyter-widgets/controls",
      "model_module_version": "1.5.0",
      "model_name": "ToggleButtonModel",
      "state": {
       "button_style": "primary",
       "icon": "folder-open",
       "layout": "IPY_MODEL_dd7f8ceaa0264e7db1aa01522b5d6a7c",
       "style": "IPY_MODEL_b2638c3c99ef45f19ea57d712b41d77c",
       "tooltip": "Open local vector/raster data"
      }
     }
    },
    "version_major": 2,
    "version_minor": 0
   }
  }
 },
 "nbformat": 4,
 "nbformat_minor": 5
}
