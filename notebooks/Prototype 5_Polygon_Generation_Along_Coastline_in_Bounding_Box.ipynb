{
 "cells": [
  {
   "cell_type": "markdown",
   "id": "48fabbdc-840d-4b9d-a3f0-814e12769264",
   "metadata": {},
   "source": [
    "# Prototype 5: Polygon Generation Along Coastline in Bounding Box\n",
    "- Author: Sharon Fitzpatrick\n",
    "- Date: 1/12/2022\n",
    "\n",
    "## Description\n",
    "This prototype is meant to showcase how to generation polygons along a selected portion of a geojson coastline vector.\n",
    "\n",
    "## The Workflow\n",
    "1. The user draws a bounding box\n",
    "2. The user runs the code to download the coastline vector\n",
    "3. The user runs the code to clip the coastline geojson to the bounding box\n",
    "4. The user runs the code to add the coastline within the bounding box to the map. (The coastline will be in yellow)\n",
    "5. The user runs the code to to generate polygons along the portion of the coastline vector within the bounding box\n",
    "6. The user runs the code to plot the polygons and associated markers to the map."
   ]
  },
  {
   "cell_type": "markdown",
   "id": "e5322ae5-19fb-4f49-b34c-e3af79db5c00",
   "metadata": {},
   "source": [
    "# Get the Bounding Box Geojson\n",
    "## Directions\n",
    "1. Use the square drawing button to draw a bounding box somewhere along the coast"
   ]
  },
  {
   "cell_type": "code",
   "execution_count": 2,
   "id": "bd510baf-94f6-4d67-ab8d-553ebf6a3290",
   "metadata": {},
   "outputs": [
    {
     "data": {
      "application/vnd.jupyter.widget-view+json": {
       "model_id": "37a01fe909b64ceb9523b47646b4f521",
       "version_major": 2,
       "version_minor": 0
      },
      "text/plain": [
       "Map(center=[36.46098029888645, -121.9725021429323], controls=(ZoomControl(options=['position', 'zoom_in_text',…"
      ]
     },
     "metadata": {},
     "output_type": "display_data"
    },
    {
     "name": "stdout",
     "output_type": "stream",
     "text": [
      "\n",
      "shapes_list:  [{'type': 'Polygon', 'coordinates': [[[-125.068986, 38.954854], [-125.068986, 40.709515], [-123.66245, 40.709515], [-123.66245, 38.954854], [-125.068986, 38.954854]]]}]\n"
     ]
    }
   ],
   "source": [
    "from ipyleaflet import DrawControl\n",
    "import leafmap\n",
    "from ipyleaflet import Map, Polygon\n",
    "from ipywidgets import Layout\n",
    "\n",
    "\n",
    "# Empty list to hold all the polygons drawn by the user\n",
    "shapes_list=[]\n",
    "\n",
    "# Disable polyline, circle, and rectangle \n",
    "m = leafmap.Map(draw_control=False,measure_control=False, fullscreen_control=False, attribution_control=True,center=( 36.46098029888645, -121.9725021429323), zoom=3, layout=Layout(width='100%', height='100px'))\n",
    "\n",
    "draw_control = DrawControl()\n",
    "\n",
    "draw_control.polyline = {}\n",
    "draw_control.circlemarker = {}\n",
    "# Custom styles for polygons and rectangles\n",
    "draw_control.polygon = {\n",
    "    \"shapeOptions\": {\n",
    "        \"fillColor\": \"green\",\n",
    "        \"color\": \"green\",\n",
    "        \"fillOpacity\": 0.2,\n",
    "        \"Opacity\": 0.2\n",
    "    },\n",
    "    \"drawError\": {\n",
    "        \"color\": \"#dd253b\",\n",
    "        \"message\": \"Ops!\"\n",
    "    },\n",
    "    \"allowIntersection\": False,\n",
    "    \"transform\":True\n",
    "}\n",
    "\n",
    "draw_control = DrawControl()\n",
    "draw_control.rectangle = {\n",
    "    \"shapeOptions\": {\n",
    "        \"fillColor\": \"green\",\n",
    "        \"color\": \"green\",\n",
    "        \"fillOpacity\": 0.1,\n",
    "        \"Opacity\": 0.1\n",
    "    },\n",
    "    \"drawError\": {\n",
    "        \"color\": \"#dd253b\",\n",
    "        \"message\": \"Ops!\"\n",
    "    },\n",
    "    \"allowIntersection\": False,\n",
    "    \"transform\":True\n",
    "}\n",
    "\n",
    "\n",
    "# Each time a polygon is drawn it is appended to the shapeslist which is used to create the bounding box\n",
    "def handle_draw(target, action, geo_json):\n",
    "    if draw_control.last_action == 'created'and draw_control.last_draw['geometry']['type']=='Polygon' :\n",
    "        shapes_list.append( draw_control.last_draw['geometry'])\n",
    "    print(\"\\nshapes_list: \",shapes_list)\n",
    "\n",
    "draw_control.on_draw(handle_draw)\n",
    "m.add_control(draw_control)\n",
    "\n",
    "m\n"
   ]
  },
  {
   "cell_type": "markdown",
   "id": "cd079f17-d8d1-4db0-a09e-ebd30960f32a",
   "metadata": {},
   "source": [
    "# Clip the Bounding Box and Vector\n",
    "---"
   ]
  },
  {
   "cell_type": "code",
   "execution_count": 4,
   "id": "a7e94871-f7dd-4f62-8e55-7f9415559b03",
   "metadata": {},
   "outputs": [
    {
     "name": "stdout",
     "output_type": "stream",
     "text": [
      "Geojson bounds\n",
      "         minx       miny       maxx       maxy\n",
      "0 -125.068986  38.954854 -123.66245  40.709515\n",
      "\n"
     ]
    },
    {
     "data": {
      "image/png": "[encoded data removed]",
      "text/plain": [
       "<Figure size 432x288 with 1 Axes>"
      ]
     },
     "metadata": {
      "needs_background": "light"
     },
     "output_type": "display_data"
    }
   ],
   "source": [
    "from shapely.geometry import shape\n",
    "import geopandas as gp\n",
    "if not shapes_list == []:\n",
    "    geom = [shape(i) for i in shapes_list]\n",
    "    geojson_bbox=gp.GeoDataFrame({'geometry':geom})\n",
    "    geojson_bbox.crs='EPSG:4326'\n",
    "    geojson_bbox.plot()\n",
    "else:\n",
    "    print(\"ERROR.\\nYou must draw a bounding box somewhere on the coast first.\")\n",
    "    \n",
    "print(f\"Geojson bounds\\n{geojson_bbox.bounds}\\n\")"
   ]
  },
  {
   "cell_type": "markdown",
   "id": "13647ccc-71f7-462c-9232-24a1989d3a5f",
   "metadata": {},
   "source": [
    "### Download the Shorline Vector\n",
    "- https://geodata.lib.berkeley.edu/catalog/stanford-xv279yj9196"
   ]
  },
  {
   "cell_type": "code",
   "execution_count": 5,
   "id": "2c4463e3-ffaa-4489-b956-085f60e575c2",
   "metadata": {},
   "outputs": [
    {
     "data": {
      "text/html": [
       "<div>\n",
       "<style scoped>\n",
       "    .dataframe tbody tr th:only-of-type {\n",
       "        vertical-align: middle;\n",
       "    }\n",
       "\n",
       "    .dataframe tbody tr th {\n",
       "        vertical-align: top;\n",
       "    }\n",
       "\n",
       "    .dataframe thead th {\n",
       "        text-align: right;\n",
       "    }\n",
       "</style>\n",
       "<table border=\"1\" class=\"dataframe\">\n",
       "  <thead>\n",
       "    <tr style=\"text-align: right;\">\n",
       "      <th></th>\n",
       "      <th>id</th>\n",
       "      <th>f_code</th>\n",
       "      <th>acc</th>\n",
       "      <th>exs</th>\n",
       "      <th>soc</th>\n",
       "      <th>geometry</th>\n",
       "    </tr>\n",
       "  </thead>\n",
       "  <tbody>\n",
       "    <tr>\n",
       "      <th>0</th>\n",
       "      <td>xv279yj9196.1</td>\n",
       "      <td>BA010</td>\n",
       "      <td>1</td>\n",
       "      <td>44</td>\n",
       "      <td>USA</td>\n",
       "      <td>MULTILINESTRING ((-96.93882 28.02606, -96.9354...</td>\n",
       "    </tr>\n",
       "    <tr>\n",
       "      <th>1</th>\n",
       "      <td>xv279yj9196.2</td>\n",
       "      <td>BA010</td>\n",
       "      <td>1</td>\n",
       "      <td>44</td>\n",
       "      <td>USA</td>\n",
       "      <td>MULTILINESTRING ((-96.91022 28.06370, -96.9123...</td>\n",
       "    </tr>\n",
       "    <tr>\n",
       "      <th>2</th>\n",
       "      <td>xv279yj9196.3</td>\n",
       "      <td>BA010</td>\n",
       "      <td>1</td>\n",
       "      <td>44</td>\n",
       "      <td>USA</td>\n",
       "      <td>MULTILINESTRING ((-96.89713 28.06679, -96.8990...</td>\n",
       "    </tr>\n",
       "    <tr>\n",
       "      <th>3</th>\n",
       "      <td>xv279yj9196.4</td>\n",
       "      <td>BA010</td>\n",
       "      <td>1</td>\n",
       "      <td>44</td>\n",
       "      <td>USA</td>\n",
       "      <td>MULTILINESTRING ((-96.88841 28.07634, -96.8849...</td>\n",
       "    </tr>\n",
       "    <tr>\n",
       "      <th>4</th>\n",
       "      <td>xv279yj9196.5</td>\n",
       "      <td>BA010</td>\n",
       "      <td>1</td>\n",
       "      <td>44</td>\n",
       "      <td>USA</td>\n",
       "      <td>MULTILINESTRING ((-96.91283 28.12183, -96.9144...</td>\n",
       "    </tr>\n",
       "    <tr>\n",
       "      <th>...</th>\n",
       "      <td>...</td>\n",
       "      <td>...</td>\n",
       "      <td>...</td>\n",
       "      <td>...</td>\n",
       "      <td>...</td>\n",
       "      <td>...</td>\n",
       "    </tr>\n",
       "    <tr>\n",
       "      <th>3094</th>\n",
       "      <td>xv279yj9196.3095</td>\n",
       "      <td>BA010</td>\n",
       "      <td>1</td>\n",
       "      <td>44</td>\n",
       "      <td>USA</td>\n",
       "      <td>MULTILINESTRING ((-160.08739 22.02016, -160.08...</td>\n",
       "    </tr>\n",
       "    <tr>\n",
       "      <th>3095</th>\n",
       "      <td>xv279yj9196.3096</td>\n",
       "      <td>BA010</td>\n",
       "      <td>1</td>\n",
       "      <td>44</td>\n",
       "      <td>USA</td>\n",
       "      <td>MULTILINESTRING ((-159.39618 22.22735, -159.39...</td>\n",
       "    </tr>\n",
       "    <tr>\n",
       "      <th>3096</th>\n",
       "      <td>xv279yj9196.3097</td>\n",
       "      <td>BA010</td>\n",
       "      <td>1</td>\n",
       "      <td>44</td>\n",
       "      <td>USA</td>\n",
       "      <td>MULTILINESTRING ((-130.01769 55.91194, -130.02...</td>\n",
       "    </tr>\n",
       "    <tr>\n",
       "      <th>3097</th>\n",
       "      <td>xv279yj9196.3098</td>\n",
       "      <td>BA010</td>\n",
       "      <td>1</td>\n",
       "      <td>44</td>\n",
       "      <td>USA</td>\n",
       "      <td>MULTILINESTRING ((-160.87141 56.00000, -160.86...</td>\n",
       "    </tr>\n",
       "    <tr>\n",
       "      <th>3098</th>\n",
       "      <td>xv279yj9196.3099</td>\n",
       "      <td>BA010</td>\n",
       "      <td>1</td>\n",
       "      <td>44</td>\n",
       "      <td>USA</td>\n",
       "      <td>MULTILINESTRING ((-146.31833 59.43345, -146.30...</td>\n",
       "    </tr>\n",
       "  </tbody>\n",
       "</table>\n",
       "<p>3099 rows × 6 columns</p>\n",
       "</div>"
      ],
      "text/plain": [
       "                    id f_code  acc  exs  soc  \\\n",
       "0        xv279yj9196.1  BA010    1   44  USA   \n",
       "1        xv279yj9196.2  BA010    1   44  USA   \n",
       "2        xv279yj9196.3  BA010    1   44  USA   \n",
       "3        xv279yj9196.4  BA010    1   44  USA   \n",
       "4        xv279yj9196.5  BA010    1   44  USA   \n",
       "...                ...    ...  ...  ...  ...   \n",
       "3094  xv279yj9196.3095  BA010    1   44  USA   \n",
       "3095  xv279yj9196.3096  BA010    1   44  USA   \n",
       "3096  xv279yj9196.3097  BA010    1   44  USA   \n",
       "3097  xv279yj9196.3098  BA010    1   44  USA   \n",
       "3098  xv279yj9196.3099  BA010    1   44  USA   \n",
       "\n",
       "                                               geometry  \n",
       "0     MULTILINESTRING ((-96.93882 28.02606, -96.9354...  \n",
       "1     MULTILINESTRING ((-96.91022 28.06370, -96.9123...  \n",
       "2     MULTILINESTRING ((-96.89713 28.06679, -96.8990...  \n",
       "3     MULTILINESTRING ((-96.88841 28.07634, -96.8849...  \n",
       "4     MULTILINESTRING ((-96.91283 28.12183, -96.9144...  \n",
       "...                                                 ...  \n",
       "3094  MULTILINESTRING ((-160.08739 22.02016, -160.08...  \n",
       "3095  MULTILINESTRING ((-159.39618 22.22735, -159.39...  \n",
       "3096  MULTILINESTRING ((-130.01769 55.91194, -130.02...  \n",
       "3097  MULTILINESTRING ((-160.87141 56.00000, -160.86...  \n",
       "3098  MULTILINESTRING ((-146.31833 59.43345, -146.30...  \n",
       "\n",
       "[3099 rows x 6 columns]"
      ]
     },
     "execution_count": 5,
     "metadata": {},
     "output_type": "execute_result"
    }
   ],
   "source": [
    "# Import the coastline vector in but don't add it to the map\n",
    "import requests\n",
    "import geopandas as gp\n",
    "from ipyleaflet import Map, GeoJSON\n",
    "import geopandas as gpd\n",
    "import json\n",
    "import os\n",
    "\n",
    "if os.path.exists(\"stanford-xv279yj9196.geojson\"):\n",
    "    with open('stanford-xv279yj9196.geojson', 'r') as f:\n",
    "        coastline_vector=gp.read_file(f)\n",
    "else:\n",
    "    try:\n",
    "        response=requests.get('https://geodata.lib.berkeley.edu/download/file/stanford-xv279yj9196-geojson.json')\n",
    "        response.raise_for_status()   #Won't raise for successful requests\n",
    "        coastline_vector=gp.read_file(response.content.decode(\"utf-8\"))\n",
    "    #     Alternative method\n",
    "    #     coastline_vector=gp.read_file('https://geodata.lib.berkeley.edu/download/file/stanford-xv279yj9196-geojson.json')\n",
    "    except requests.HTTPError as exception:\n",
    "        print(f\"{exception}\")\n",
    "    \n",
    "coastline_vector    \n",
    "    "
   ]
  },
  {
   "cell_type": "markdown",
   "id": "250bf434-4d94-4649-8398-ab0daac405b1",
   "metadata": {},
   "source": [
    "### Clip the shorline vector to the bounding box"
   ]
  },
  {
   "cell_type": "code",
   "execution_count": 6,
   "id": "00058a58-5ffe-41bf-9f44-137a53fac4fa",
   "metadata": {},
   "outputs": [
    {
     "data": {
      "text/html": [
       "<div>\n",
       "<style scoped>\n",
       "    .dataframe tbody tr th:only-of-type {\n",
       "        vertical-align: middle;\n",
       "    }\n",
       "\n",
       "    .dataframe tbody tr th {\n",
       "        vertical-align: top;\n",
       "    }\n",
       "\n",
       "    .dataframe thead th {\n",
       "        text-align: right;\n",
       "    }\n",
       "</style>\n",
       "<table border=\"1\" class=\"dataframe\">\n",
       "  <thead>\n",
       "    <tr style=\"text-align: right;\">\n",
       "      <th></th>\n",
       "      <th>id</th>\n",
       "      <th>f_code</th>\n",
       "      <th>acc</th>\n",
       "      <th>exs</th>\n",
       "      <th>soc</th>\n",
       "      <th>geometry</th>\n",
       "    </tr>\n",
       "  </thead>\n",
       "  <tbody>\n",
       "    <tr>\n",
       "      <th>1166</th>\n",
       "      <td>xv279yj9196.1159</td>\n",
       "      <td>BA010</td>\n",
       "      <td>1</td>\n",
       "      <td>44</td>\n",
       "      <td>USA</td>\n",
       "      <td>MULTILINESTRING ((-123.73737 38.95485, -123.73...</td>\n",
       "    </tr>\n",
       "  </tbody>\n",
       "</table>\n",
       "</div>"
      ],
      "text/plain": [
       "                    id f_code  acc  exs  soc  \\\n",
       "1166  xv279yj9196.1159  BA010    1   44  USA   \n",
       "\n",
       "                                               geometry  \n",
       "1166  MULTILINESTRING ((-123.73737 38.95485, -123.73...  "
      ]
     },
     "execution_count": 6,
     "metadata": {},
     "output_type": "execute_result"
    }
   ],
   "source": [
    "#clip coastal polyline\n",
    "roi_coast=gpd.clip(coastline_vector, geojson_bbox)\n",
    "roi_coast=roi_coast.to_crs('EPSG:4326')\n",
    "roi_coast"
   ]
  },
  {
   "cell_type": "markdown",
   "id": "84288be5-4ca1-4058-8f9c-974a2e8bf7c4",
   "metadata": {},
   "source": [
    "## Display the Shoreline Vector"
   ]
  },
  {
   "cell_type": "code",
   "execution_count": 7,
   "id": "49c08a52-adb1-4b73-b7ba-4d6aaf667441",
   "metadata": {},
   "outputs": [
    {
     "data": {
      "image/png": "[encoded data removed]",
      "text/plain": [
       "<Figure size 432x288 with 1 Axes>"
      ]
     },
     "metadata": {
      "needs_background": "light"
     },
     "output_type": "display_data"
    }
   ],
   "source": [
    "if not roi_coast.empty:\n",
    "    roi_coast.plot()\n",
    "else:\n",
    "    print(\"ERROR.\\nThe bounding box provided did not intersect with the coastline vector provided.\")"
   ]
  },
  {
   "cell_type": "markdown",
   "id": "d8e53fe3-5c0b-44b0-87e2-039d74382658",
   "metadata": {},
   "source": [
    "### Add the coastline vector within the bounding box to the map"
   ]
  },
  {
   "cell_type": "code",
   "execution_count": 8,
   "id": "a29bb9c1-cd7c-4b25-801a-4a673f46f9e4",
   "metadata": {},
   "outputs": [
    {
     "data": {
      "application/vnd.jupyter.widget-view+json": {
       "model_id": "37a01fe909b64ceb9523b47646b4f521",
       "version_major": 2,
       "version_minor": 0
      },
      "text/plain": [
       "Map(bottom=1101.0, center=[36.46098029888645, -121.9725021429323], controls=(ZoomControl(options=['position', …"
      ]
     },
     "metadata": {},
     "output_type": "display_data"
    }
   ],
   "source": [
    "vector_within_bounding_box_json=roi_coast.to_json()\n",
    "res = json.loads(vector_within_bounding_box_json)\n",
    "geo_json_vector = GeoJSON(\n",
    "    data=res,\n",
    "    style={\n",
    "        'color':'yellow','fill_color':'yellow' ,'opacity': 1, 'dashArray': '5', 'fillOpacity': 0.5, 'weight': 4\n",
    "    },\n",
    "    hover_style={\n",
    "        'color': 'white', 'dashArray': '4', 'fillOpacity': 0.7\n",
    "    },\n",
    ")\n",
    "m.add_layer(geo_json_vector)\n",
    "m"
   ]
  },
  {
   "cell_type": "markdown",
   "id": "189db20f-4c49-4ff5-9a08-46f2944f4104",
   "metadata": {},
   "source": [
    "# Generate Polygons along the selected portion of the coastline vector\n",
    "---\n",
    "1. See how the geojson looks\n",
    "2. Get its bounds\n",
    "3. Get the length\n",
    "4. Divide the length by the number of polygons to get the distance_delta\n",
    "5. Use shapely interpolate to line into segements equal distances apart (kinda)"
   ]
  },
  {
   "cell_type": "code",
   "execution_count": 9,
   "id": "3fafdf4e-5154-499e-b548-635fa1668f14",
   "metadata": {},
   "outputs": [],
   "source": [
    "# vector_within_bounding_box_geojson\n",
    "vector_within_bounding_box_geojson = json.loads(vector_within_bounding_box_json)"
   ]
  },
  {
   "cell_type": "code",
   "execution_count": 10,
   "id": "69c3b4a9-5423-4396-86a2-4d1b91c44da9",
   "metadata": {},
   "outputs": [],
   "source": [
    "# Very long output so suppress the output with \";\"\n",
    "vector_within_bounding_box_geojson['features'];"
   ]
  },
  {
   "cell_type": "code",
   "execution_count": 11,
   "id": "f758f305-553d-487f-8c1e-49af95cb0ee4",
   "metadata": {},
   "outputs": [
    {
     "name": "stdout",
     "output_type": "stream",
     "text": [
      "There are 1 feature(s) in the bounding box\n"
     ]
    }
   ],
   "source": [
    "print(f\"There are {len(vector_within_bounding_box_geojson['features'])} feature(s) in the bounding box\")"
   ]
  },
  {
   "cell_type": "code",
   "execution_count": 12,
   "id": "dbc94708-2749-4dbe-b5e6-b4fedd68f7e4",
   "metadata": {},
   "outputs": [
    {
     "data": {
      "text/plain": [
       "'MultiLineString'"
      ]
     },
     "execution_count": 12,
     "metadata": {},
     "output_type": "execute_result"
    }
   ],
   "source": [
    "# Examine the type of the  first feature of the collection\n",
    "vector_within_bounding_box_geojson['features'][0]['geometry']['type']"
   ]
  },
  {
   "cell_type": "markdown",
   "id": "2d351288-391c-4f09-bbff-2a95f91d2235",
   "metadata": {},
   "source": [
    "# Convert the geometry of coastline within the bounding box to a list of linestrings\n",
    "For each of the linestrings and the linestrings within the multilinestring coastline that make up the coastline vector add them to the list of linestrings. These linestrings will have pointers interpolated along them later"
   ]
  },
  {
   "cell_type": "code",
   "execution_count": 13,
   "id": "945d9a3f-5ad0-4d46-85b7-69d76d367fd3",
   "metadata": {},
   "outputs": [
    {
     "ename": "AssertionError",
     "evalue": "",
     "output_type": "error",
     "traceback": [
      "\u001b[0;31m---------------------------------------------------------------------------\u001b[0m",
      "\u001b[0;31mAttributeError\u001b[0m                            Traceback (most recent call last)",
      "\u001b[0;32m~/anaconda3/envs/coastseg/lib/python3.7/site-packages/shapely/speedups/_speedups.pyx\u001b[0m in \u001b[0;36mshapely.speedups._speedups.geos_linestring_from_py\u001b[0;34m()\u001b[0m\n",
      "\u001b[0;31mAttributeError\u001b[0m: 'list' object has no attribute '__array_interface__'",
      "\nDuring handling of the above exception, another exception occurred:\n",
      "\u001b[0;31mAssertionError\u001b[0m                            Traceback (most recent call last)",
      "\u001b[0;32m/tmp/ipykernel_1518519/3743953342.py\u001b[0m in \u001b[0;36m<module>\u001b[0;34m\u001b[0m\n\u001b[1;32m     14\u001b[0m             \u001b[0mlines_list\u001b[0m\u001b[0;34m.\u001b[0m\u001b[0mappend\u001b[0m\u001b[0;34m(\u001b[0m\u001b[0mline\u001b[0m\u001b[0;34m)\u001b[0m\u001b[0;34m\u001b[0m\u001b[0;34m\u001b[0m\u001b[0m\n\u001b[1;32m     15\u001b[0m \u001b[0;32melse\u001b[0m\u001b[0;34m:\u001b[0m\u001b[0;34m\u001b[0m\u001b[0;34m\u001b[0m\u001b[0m\n\u001b[0;32m---> 16\u001b[0;31m     \u001b[0mline\u001b[0m \u001b[0;34m=\u001b[0m \u001b[0mLineString\u001b[0m\u001b[0;34m(\u001b[0m\u001b[0mvector_within_bounding_box_geojson\u001b[0m\u001b[0;34m[\u001b[0m\u001b[0;34m'features'\u001b[0m\u001b[0;34m]\u001b[0m\u001b[0;34m[\u001b[0m\u001b[0;36m0\u001b[0m\u001b[0;34m]\u001b[0m\u001b[0;34m[\u001b[0m\u001b[0;34m'geometry'\u001b[0m\u001b[0;34m]\u001b[0m\u001b[0;34m[\u001b[0m\u001b[0;34m'coordinates'\u001b[0m\u001b[0;34m]\u001b[0m\u001b[0;34m)\u001b[0m\u001b[0;34m\u001b[0m\u001b[0;34m\u001b[0m\u001b[0m\n\u001b[0m\u001b[1;32m     17\u001b[0m     \u001b[0mlines_list\u001b[0m\u001b[0;34m.\u001b[0m\u001b[0mappend\u001b[0m\u001b[0;34m(\u001b[0m\u001b[0mline\u001b[0m\u001b[0;34m)\u001b[0m\u001b[0;34m\u001b[0m\u001b[0;34m\u001b[0m\u001b[0m\n",
      "\u001b[0;32m~/anaconda3/envs/coastseg/lib/python3.7/site-packages/shapely/geometry/linestring.py\u001b[0m in \u001b[0;36m__init__\u001b[0;34m(self, coordinates)\u001b[0m\n\u001b[1;32m     44\u001b[0m         \u001b[0mBaseGeometry\u001b[0m\u001b[0;34m.\u001b[0m\u001b[0m__init__\u001b[0m\u001b[0;34m(\u001b[0m\u001b[0mself\u001b[0m\u001b[0;34m)\u001b[0m\u001b[0;34m\u001b[0m\u001b[0;34m\u001b[0m\u001b[0m\n\u001b[1;32m     45\u001b[0m         \u001b[0;32mif\u001b[0m \u001b[0mcoordinates\u001b[0m \u001b[0;32mis\u001b[0m \u001b[0;32mnot\u001b[0m \u001b[0;32mNone\u001b[0m\u001b[0;34m:\u001b[0m\u001b[0;34m\u001b[0m\u001b[0;34m\u001b[0m\u001b[0m\n\u001b[0;32m---> 46\u001b[0;31m             \u001b[0mret\u001b[0m \u001b[0;34m=\u001b[0m \u001b[0mgeos_linestring_from_py\u001b[0m\u001b[0;34m(\u001b[0m\u001b[0mcoordinates\u001b[0m\u001b[0;34m)\u001b[0m\u001b[0;34m\u001b[0m\u001b[0;34m\u001b[0m\u001b[0m\n\u001b[0m\u001b[1;32m     47\u001b[0m             \u001b[0;32mif\u001b[0m \u001b[0mret\u001b[0m \u001b[0;32mis\u001b[0m \u001b[0;32mnot\u001b[0m \u001b[0;32mNone\u001b[0m\u001b[0;34m:\u001b[0m\u001b[0;34m\u001b[0m\u001b[0;34m\u001b[0m\u001b[0m\n\u001b[1;32m     48\u001b[0m                 \u001b[0mgeom\u001b[0m\u001b[0;34m,\u001b[0m \u001b[0mn\u001b[0m \u001b[0;34m=\u001b[0m \u001b[0mret\u001b[0m\u001b[0;34m\u001b[0m\u001b[0;34m\u001b[0m\u001b[0m\n",
      "\u001b[0;32m~/anaconda3/envs/coastseg/lib/python3.7/site-packages/shapely/speedups/_speedups.pyx\u001b[0m in \u001b[0;36mshapely.speedups._speedups.geos_linestring_from_py\u001b[0;34m()\u001b[0m\n",
      "\u001b[0;31mAssertionError\u001b[0m: "
     ]
    }
   ],
   "source": [
    "from shapely.geometry import LineString\n",
    "lines_list=[]\n",
    "length_vector_bbox_features=len(vector_within_bounding_box_geojson['features'])\n",
    "length_vector_bbox_features\n",
    "\n",
    "if(length_vector_bbox_features != 1):\n",
    "    for i in range(0,length_vector_bbox_features):\n",
    "        if  vector_within_bounding_box_geojson['features'][i]['geometry']['type'] == 'MultiLineString':\n",
    "            for i in range(len(vector_within_bounding_box_geojson['features'][0]['geometry']['coordinates'])):\n",
    "                line=LineString(vector_within_bounding_box_geojson['features'][0]['geometry']['coordinates'][i])\n",
    "                lines_list.append(line)\n",
    "        elif  vector_within_bounding_box_geojson['features'][i]['geometry']['type'] == 'LineString':\n",
    "            line=LineString(vector_within_bounding_box_geojson['features'][i]['geometry']['coordinates'])\n",
    "            lines_list.append(line)\n",
    "else:\n",
    "    line = LineString(vector_within_bounding_box_geojson['features'][0]['geometry']['coordinates'])\n",
    "    lines_list.append(line)"
   ]
  },
  {
   "cell_type": "code",
   "execution_count": 14,
   "id": "63cc8bc2-12fe-4017-b0a4-d074adc89cc4",
   "metadata": {},
   "outputs": [
    {
     "name": "stdout",
     "output_type": "stream",
     "text": [
      "The number of linestring in lines_list: 0\n"
     ]
    }
   ],
   "source": [
    "print(f\"The number of linestring in lines_list: {len(lines_list)}\")"
   ]
  },
  {
   "cell_type": "markdown",
   "id": "6c6790b7-3cd0-48c1-975e-e47f55ee8037",
   "metadata": {},
   "source": [
    "## Interpolate Equal Distances Between Each Point on the Vector\n",
    "For each LineString that makes up the coastline :\n",
    "1. Calculate the distance between each point so that they are equally spaced\n",
    "2. Create a tuple of each of the equally spaced distance points\n",
    "3. Check if the linestring is closed and if it is then choose the 1st coordinate as the boundary\n",
    "4. Interpolate the linestring for each of the distances points calculated earlier\n",
    "5. Add the new multipoint generated by the interpolation to multipoint_list"
   ]
  },
  {
   "cell_type": "code",
   "execution_count": 15,
   "id": "1c598c15-710e-431b-b9bf-2e7c04252f5d",
   "metadata": {},
   "outputs": [],
   "source": [
    "from shapely.geometry import Point\n",
    "from shapely.ops import unary_union\n",
    "import numpy as np\n",
    "# multipoint_list holds the multipoint for each feature of the coastline within the bbox\n",
    "multipoint_list=[]\n",
    "\n",
    "for i in range(len(lines_list)):\n",
    "    line=lines_list[i]\n",
    "    num_pts=50 #10\n",
    "    distance_delta=line.length/num_pts\n",
    "    distances = np.arange(0, line.length, distance_delta)\n",
    "    if lines_list[i].is_closed:\n",
    "        #Its a closed shape so its boundary points are NULL\n",
    "        boundary=Point(lines_list[i].coords[0])\n",
    "    else: \n",
    "        boundary=lines_list[i].boundary[1]\n",
    "    points = [lines_list[i].interpolate(distance) for distance in distances] + [boundary]\n",
    "    multipoint = unary_union(points) \n",
    "    multipoint\n",
    "    multipoint_list.append(multipoint)"
   ]
  },
  {
   "cell_type": "markdown",
   "id": "4e444648-d22c-4bbd-9185-32af09546234",
   "metadata": {},
   "source": [
    "## Convert the multipoint from the interpolation to a tuple\n",
    "- ipyleaflet requires that the points be a tuple to be plotted onto the map"
   ]
  },
  {
   "cell_type": "code",
   "execution_count": 16,
   "id": "1f95a3bd-816b-48b3-a796-b81d0841bbae",
   "metadata": {},
   "outputs": [],
   "source": [
    "points_list_collection=[]\n",
    "for multipoint in  multipoint_list:\n",
    "    # First get each point from the multipoint object\n",
    "    sample_array=[point for point in multipoint.geoms]\n",
    "    # Create an empty array to hold all the points as tuples\n",
    "    points_list=[]\n",
    "    # For each point swap lat and lng because ipyleaflet swaps them\n",
    "    for point in sample_array:\n",
    "        point_tuple=(point.coords[0][1],point.coords[0][0])\n",
    "        points_list.append(point_tuple)\n",
    "    \n",
    "    points_list_collection.append(points_list)"
   ]
  },
  {
   "cell_type": "markdown",
   "id": "0b2e1e3f-7178-422b-ba78-bba651ede181",
   "metadata": {},
   "source": [
    "## Function to Convert ipyleaflet Polygon Points to GeoJson\n",
    "1. Ipyleaflet draws its shapes in lat,lng format and it must be converted to lng, lat for geojson.\n",
    "2. In order to correctly draw a rectangle in geojson the order of the points matters as well."
   ]
  },
  {
   "cell_type": "code",
   "execution_count": 17,
   "id": "10788b9c-0da1-44f4-b33b-9cb641204820",
   "metadata": {},
   "outputs": [],
   "source": [
    "def convert_to_geojson(upper_right_y : float, upper_right_x: float,upper_left_y: float, upper_left_x: float,lower_left_y: float,  lower_left_x: float,lower_right_y: float,lower_right_x: float) -> dict:\n",
    "    \"\"\"Convert the 4 corners of the rectangle into geojson  \"\"\"\n",
    "    geojson_feature={}\n",
    "    geojson_feature[\"type\"]=\"Feature\"\n",
    "    geojson_feature[\"properties\"]={}\n",
    "    geojson_feature[\"geometry\"]={}\n",
    "    \n",
    "    geojson_polygon={}\n",
    "    geojson_polygon[\"type\"]=\"Polygon\"\n",
    "    geojson_polygon[\"coordinates\"]=[]\n",
    "#     The coordinates(which are 1,2 arrays) are nested within a parent array\n",
    "    nested_array=[]\n",
    "    nested_array.append([upper_right_x, upper_right_y])\n",
    "    nested_array.append([upper_left_x, upper_left_y])\n",
    "    nested_array.append([lower_left_x, lower_left_y])\n",
    "    nested_array.append([lower_right_x, lower_right_y])\n",
    "    #GeoJson rectangles have the first point repeated again as the last point\n",
    "    nested_array.append([upper_right_x, upper_right_y])\n",
    "\n",
    "    geojson_polygon[\"coordinates\"].append(nested_array)\n",
    "    \n",
    "    geojson_feature[\"geometry\"]=geojson_polygon\n",
    "    return geojson_feature"
   ]
  },
  {
   "cell_type": "markdown",
   "id": "b069b6e4-5b92-4435-b8a3-6da8a4afcded",
   "metadata": {},
   "source": [
    "## Function to Write Polygons in GeoJson to a .geojson file\n",
    "1. Pass the filename and the geojson from ***convert_to_geojson()***"
   ]
  },
  {
   "cell_type": "code",
   "execution_count": 18,
   "id": "f98e2c2a-e103-4d0a-8597-43d3408212af",
   "metadata": {},
   "outputs": [],
   "source": [
    "def write_to_geojson_file(filename : str,geojson_polygons : dict):\n",
    "    \"\"\"Make a filename.geojson file from dictionary geojson_polygons  \"\"\"\n",
    "    from geojson import Point, Feature, FeatureCollection, dump\n",
    "    features = []\n",
    "    for geoObj in geojson_polygons[\"features\"]:\n",
    "        features.append(Feature(geometry=geoObj[\"geometry\"]))\n",
    "\n",
    "    feature_collection = FeatureCollection(features)\n",
    "\n",
    "    with open(f'{filename}.geojson', 'w') as f:\n",
    "        dump(feature_collection, f)"
   ]
  },
  {
   "cell_type": "markdown",
   "id": "8d525b5c-5396-49f2-89ef-be34d9b8939c",
   "metadata": {},
   "source": [
    "## Create a Rectangle For Each Interpolated Point on the Vector\n",
    "1. Get the size from the user's size slider\n",
    "2. Create a list to hold all the polygons to be added on to the map\n",
    "3. Convert each of the rectangles to geojson for further analysis later using ***convert_to_geojson()***"
   ]
  },
  {
   "cell_type": "code",
   "execution_count": 19,
   "id": "56f56174-b734-4b52-9051-ba914901c93e",
   "metadata": {},
   "outputs": [],
   "source": [
    "from ipyleaflet import Map, Polygon\n",
    "size=0.002                                         #Do we want this controlled by the user still?\n",
    "new_polygon_list=[]\n",
    "geojson_polygons={\"type\": \"FeatureCollection\",\"features\":[]}\n",
    "\n",
    "# Create a rectangle at each point on the line\n",
    "# Swap the x and y for each point because ipyleaflet swaps them for draw methods\n",
    "for points_list in points_list_collection:\n",
    "    for point in points_list:\n",
    "        # print(point)\n",
    "        upper_right_x=point[0]-(size/2)\n",
    "        upper_right_y=point[1]-(size/2)\n",
    "        upper_left_x=point[0]+(size/2)\n",
    "        upper_left_y=point[1]-(size/2)\n",
    "        lower_left_x=point[0]+(size/2)\n",
    "        lower_left_y=point[1]+(size/2)\n",
    "        lower_right_x=point[0]-(size/2)\n",
    "        lower_right_y=point[1]+(size/2)\n",
    "\n",
    "        #NOTE: the x and y are swapped because ipyleaflet swaps the latitude and the longtitude for polygons\n",
    "        new_polygon=Polygon(\n",
    "        locations=[(upper_right_x, upper_right_y),(upper_left_x, upper_left_y),( lower_left_x,  lower_left_y),(lower_right_x,lower_right_y)],\n",
    "        color=\"pink\",\n",
    "        fill_color=\"pink\")\n",
    "\n",
    "        #Append the polygon we created to the list of polygons to draw onto the map\n",
    "        new_polygon_list.append(new_polygon)\n",
    "        \n",
    "        #Convert each set of points to geojson (DONT swap x and y this time)\n",
    "        geojson_polygon=convert_to_geojson(upper_right_x, upper_right_y,upper_left_x, upper_left_y,lower_left_x,lower_left_y,lower_right_x,lower_right_y)\n",
    "        geojson_polygons[\"features\"].append(geojson_polygon)"
   ]
  },
  {
   "cell_type": "markdown",
   "id": "fde40227-a1bb-4da7-9688-7c1dea4941a1",
   "metadata": {},
   "source": [
    "### Optionally you can write the geojson to a file\n",
    "### In the future this will have a dedicated button"
   ]
  },
  {
   "cell_type": "code",
   "execution_count": 57,
   "id": "490accd6-5875-405e-bef5-270c15976859",
   "metadata": {},
   "outputs": [],
   "source": [
    "write_to_geojson_file(\"test4\",geojson_polygons )"
   ]
  },
  {
   "cell_type": "markdown",
   "id": "3621db02-a07d-43df-9f9f-6f198077fb55",
   "metadata": {},
   "source": [
    "## Plot the Interpolated Points as a MarkerCluster and Plot the Polygons\n",
    "### Markers\n",
    "    1. Each marker has the lat and lng on hover and on click as a popup\n",
    "### Polygons\n",
    "    1. Each polygon is a multiple of the size provided by the user"
   ]
  },
  {
   "cell_type": "code",
   "execution_count": 58,
   "id": "00a3ea71-2674-4881-adb9-942a0b292af4",
   "metadata": {},
   "outputs": [
    {
     "data": {
      "application/vnd.jupyter.widget-view+json": {
       "model_id": "89ffa405ffad44a0bcd0400cc09d1139",
       "version_major": 2,
       "version_minor": 0
      },
      "text/plain": [
       "Map(bottom=1636240.0, center=[36.76721712976418, -121.7959726885268], controls=(ZoomControl(options=['position…"
      ]
     },
     "metadata": {},
     "output_type": "display_data"
    }
   ],
   "source": [
    "from ipyleaflet import LayerGroup\n",
    "from ipyleaflet import Map, Marker, MarkerCluster\n",
    "from ipywidgets import HTML\n",
    "\n",
    "layers_tuple = ()\n",
    "for polygon_layer in new_polygon_list:\n",
    "    layers_tuple=layers_tuple + (polygon_layer,)\n",
    "\n",
    "# Create layer group\n",
    "layer_group = LayerGroup(layers=layers_tuple)\n",
    "\n",
    "m.add_layer(layer_group)\n",
    "\n",
    "markers = ()\n",
    "for points_list in points_list_collection:\n",
    "    for point in points_list:\n",
    "        marker = Marker(location=point,draggable=False,title=f\"Location:({point[1]},{point[0]})\")\n",
    "        message = HTML(value=f\"Location:({point[1]},{point[0]})\")\n",
    "        marker.popup = message\n",
    "        markers=markers + (marker,)\n",
    "\n",
    "m.add_layer(MarkerCluster(name = \"CoastSat Shoreline Data\",markers = markers,))\n",
    "\n",
    "m\n"
   ]
  },
  {
   "cell_type": "code",
   "execution_count": null,
   "id": "726b97f0-b646-41e1-b9c9-c92576dd30b4",
   "metadata": {},
   "outputs": [],
   "source": []
  }
 ],
 "metadata": {
  "kernelspec": {
   "display_name": "Python 3 (ipykernel)",
   "language": "python",
   "name": "python3"
  },
  "language_info": {
   "codemirror_mode": {
    "name": "ipython",
    "version": 3
   },
   "file_extension": ".py",
   "mimetype": "text/x-python",
   "name": "python",
   "nbconvert_exporter": "python",
   "pygments_lexer": "ipython3",
   "version": "3.7.12"
  }
 },
 "nbformat": 4,
 "nbformat_minor": 5
}
