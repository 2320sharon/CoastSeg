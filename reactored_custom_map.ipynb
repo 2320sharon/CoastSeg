{
 "cells": [
  {
   "cell_type": "code",
   "execution_count": 1,
   "metadata": {},
   "outputs": [],
   "source": [
    "import os\n",
    "import datetime\n",
    "# Local Imports\n",
    "from src.coastseg import coastseg_logs #must be the first module loaded to create logs folder\n",
    "from src.coastseg import coastseg_map\n",
    "\n",
    "# External Imports\n",
    "import ee\n",
    "from google.auth import exceptions as google_auth_exceptions\n",
    "from IPython.display import display, clear_output\n",
    "from tkinter import Tk,filedialog\n",
    "from ipywidgets import Button, HBox, VBox, Layout, DatePicker, HTML, RadioButtons, SelectMultiple, Output, Checkbox\n",
    "\n",
    "# suppress tensorflow warnings\n",
    "os.environ['TF_CPP_MIN_LOG_LEVEL'] = '3'"
   ]
  },
  {
   "cell_type": "markdown",
   "metadata": {},
   "source": [
    "## Authenticate and Initialize with Google Earth Engine (GEE)\n",
    "\n",
    "- Run this cell to initialize with GEE which will allow you to download remote sensing data from GEE.\n",
    "\n",
    "### First Time Users\n",
    "\n",
    "- In order to use Google Earth Engine (GEE) you will need to sign up to request access to use Google Earth Engine.https://signup.earthengine.google.com. You will only need to do this once and it takes only a day to get your account verified.\n",
    "\n",
    "### How `ee.Authenticate()` works\n",
    "\n",
    "- In order to initialize with GEE you will need an authorization token with is obtained by running `ee.Authenticate()`.This token lasts 7 days and during those 7 days you will not need to authenticate with google earth engine with an access code. Once the 7 days are up you will need to reauthenticate to use GEE again.\n"
   ]
  },
  {
   "cell_type": "code",
   "execution_count": 2,
   "metadata": {},
   "outputs": [],
   "source": [
    "try:\n",
    "    ee.Initialize()\n",
    "except google_auth_exceptions.RefreshError as exception:\n",
    "    print(\"Please authenticate with Google:\\n\")\n",
    "    ee.Authenticate()\n",
    "    ee.Initialize()"
   ]
  },
  {
   "cell_type": "code",
   "execution_count": 3,
   "metadata": {},
   "outputs": [
    {
     "data": {
      "application/vnd.jupyter.widget-view+json": {
       "model_id": "cccf0cb3e379467d99bbc41cce540cf6",
       "version_major": 2,
       "version_minor": 0
      },
      "text/plain": [
       "VBox(children=(VBox(children=(HTML(value='<b>Pick a date:</b>', layout=Layout(padding='10px')), HBox(children=…"
      ]
     },
     "metadata": {},
     "output_type": "display_data"
    }
   ],
   "source": [
    "# Date Widgets\n",
    "start_date=DatePicker(\n",
    "    description='Start Date',\n",
    "    value=datetime.date(2018, 12, 1),\n",
    "    disabled=False,\n",
    ")\n",
    "end_date=DatePicker(\n",
    "    description='End Date',\n",
    "    value=datetime.date(2019, 3, 1), #2019, 1, 1\n",
    "    disabled=False,\n",
    ")\n",
    "date_instr=HTML(\n",
    "    value=\"<b>Pick a date:</b>\",\n",
    "    layout=Layout(padding='10px')\n",
    ")\n",
    "dates_box=HBox([start_date,end_date])\n",
    "dates_vbox=VBox([date_instr,dates_box])\n",
    "\n",
    "\n",
    "collection_instr=HTML(\n",
    "    value=\"<b>Pick a collection</b>\\\n",
    "        <br> C01: LandSat Collection 1 \\\n",
    "        <br> C02: LandSat Collection 2  [2022/01/01 and beyond] \\\n",
    "        <br>      - Landsat 9 is only available in C02\",\n",
    "    layout=Layout(padding='10px')\n",
    ")\n",
    "collection_radio=RadioButtons(\n",
    "    options=['C01', 'C02'],\n",
    "    value='C01',\n",
    "    description='Collection:',\n",
    "    disabled=False\n",
    ")\n",
    "collection_vbox=VBox([collection_instr,collection_radio])\n",
    "\n",
    "sat_instr=HTML(\n",
    "    value=\"<b>Pick multiple satellites by holding the control key:</b> \\\n",
    "        <br> - images prior to 2022/01/01 will be downloaded from Collection 1 \\\n",
    "        <br> - images after 2022/01/01 will be automatically downloaded from Collection 2 \\\n",
    "        <br> C01: LandSat Collection 1 : All dates before 2022/01/01\\\n",
    "        <br> C02: LandSat Collection 2 : All dates after 2022/01/01 \\\n",
    "        <br> - Landsat 9 is only available in C02\",\n",
    "    layout=Layout(padding='10px')\n",
    ")\n",
    "\n",
    "\n",
    "satellite_selection=SelectMultiple(\n",
    "    options=['L5', 'L7', 'L8', 'S2'],\n",
    "    value=['L8'],\n",
    "    description='Satellites',\n",
    "    disabled=False\n",
    ")\n",
    "sat_vbox = VBox([sat_instr,satellite_selection])\n",
    "\n",
    "def handle_collection_change(change):\n",
    "    if change['new'] == 'C02':\n",
    "        satellite_selection.options=['L5', 'L7', 'L8', 'L9', 'S2']\n",
    "    else:\n",
    "        satellite_selection.options=['L5', 'L7', 'L8', 'S2']\n",
    "\n",
    "collection_radio.observe(handle_collection_change,\"value\")\n",
    "\n",
    "controls_vbox=VBox([dates_vbox, collection_vbox, sat_vbox])\n",
    "controls_vbox"
   ]
  },
  {
   "cell_type": "code",
   "execution_count": 4,
   "metadata": {
    "scrolled": true
   },
   "outputs": [
    {
     "name": "stdout",
     "output_type": "stream",
     "text": [
      "dates: ['2018-12-01', '2019-03-01']\n",
      "collection: C01\n",
      "sat_list: ['L8']\n"
     ]
    }
   ],
   "source": [
    "# CoastSat Download Variables\n",
    "# ------------------------------\n",
    "# Save the satellites selected to sat_list\n",
    "if satellite_selection.value:\n",
    "    sat_list = list(satellite_selection.value)\n",
    "elif not satellite_selection.value:\n",
    "    print(\"ERROR: You must select at least one satellite first\")\n",
    "# Save the dates selected by the user as well as the selected collection\n",
    "dates = [str(start_date.value),str(end_date.value)]\n",
    "collection = collection_radio.value\n",
    "print(f\"dates: {dates}\")\n",
    "print(f\"collection: {collection}\")\n",
    "print(f\"sat_list: {sat_list}\")"
   ]
  },
  {
   "cell_type": "markdown",
   "metadata": {},
   "source": [
    "## Settings for CoastSat\n",
    "\n",
    "Modify any of the following setting to determine how data is downloaded from CoastSat\n"
   ]
  },
  {
   "cell_type": "code",
   "execution_count": 5,
   "metadata": {},
   "outputs": [],
   "source": [
    "pre_process_settings = { \n",
    "    # general parameters:\n",
    "    'cloud_thresh': 0.5,        # threshold on maximum cloud cover\n",
    "     'dist_clouds': 300,        # ditance around clouds where shoreline can't be mapped\n",
    "    'output_epsg': 3857,        # epsg code of spatial reference system desired for the output   \n",
    "    # quality control:\n",
    "    'check_detection': True,    # if True, shows each shoreline detection to the user for validation\n",
    "    'adjust_detection': False,  # if True, allows user to adjust the postion of each shoreline by changing the threhold\n",
    "    'save_figure': True,        # if True, saves a figure showing the mapped shoreline for each image\n",
    "    # [ONLY FOR ADVANCED USERS] shoreline detection parameters:\n",
    "    'min_beach_area': 4500,     # minimum area (in metres^2) for an object to be labelled as a beach\n",
    "    'buffer_size': 150,         # radius (in metres) of the buffer around sandy pixels considered in the shoreline detection\n",
    "    'min_length_sl': 200,       # minimum length (in metres) of shoreline perimeter to be valid\n",
    "    'cloud_mask_issue': False,  # switch this parameter to True if sand pixels are masked (in black) on many images  \n",
    "    'sand_color': 'default',    # 'default', 'dark' (for grey/black sand beaches) or 'bright' (for white sand beaches)\n",
    "    'pan_off':'False',          # if True, no pan-sharpening is performed on Landsat 7,8 and 9 imagery\n",
    "    'create_plot':False,        # True create a matplotlib plot of the image with the datetime as the title\n",
    "}"
   ]
  },
  {
   "cell_type": "markdown",
   "metadata": {},
   "source": [
    "# Create the Map\n",
    "\n",
    "- Create the map object here\n",
    "- Save all the settings created earlier\n",
    "- Save the list of satellites, dates, and the collection to coastseg_map instance\n"
   ]
  },
  {
   "cell_type": "code",
   "execution_count": 6,
   "metadata": {},
   "outputs": [],
   "source": [
    "coastsegmap=coastseg_map.CoastSeg_Map()"
   ]
  },
  {
   "cell_type": "code",
   "execution_count": 7,
   "metadata": {},
   "outputs": [],
   "source": [
    "coastsegmap.save_settings(sat_list=sat_list, collection = collection,dates=dates,**pre_process_settings)"
   ]
  },
  {
   "cell_type": "code",
   "execution_count": 8,
   "metadata": {},
   "outputs": [
    {
     "data": {
      "text/plain": [
       "{'sat_list': ['L8'],\n",
       " 'collection': 'C01',\n",
       " 'dates': ['2018-12-01', '2019-03-01'],\n",
       " 'cloud_thresh': 0.5,\n",
       " 'dist_clouds': 300,\n",
       " 'output_epsg': 3857,\n",
       " 'check_detection': True,\n",
       " 'adjust_detection': False,\n",
       " 'save_figure': True,\n",
       " 'min_beach_area': 4500,\n",
       " 'buffer_size': 150,\n",
       " 'min_length_sl': 200,\n",
       " 'cloud_mask_issue': False,\n",
       " 'sand_color': 'default',\n",
       " 'pan_off': 'False',\n",
       " 'create_plot': False}"
      ]
     },
     "execution_count": 8,
     "metadata": {},
     "output_type": "execute_result"
    }
   ],
   "source": [
    "coastsegmap.settings"
   ]
  },
  {
   "cell_type": "markdown",
   "metadata": {},
   "source": [
    "# How to Use The Map\n",
    "\n",
    "---\n",
    "\n",
    "1. Use the rectangle tool to draw a bounding box along the coastline.\n",
    "2. Click `Generate ROI` to create ROI rectangles along the coastline in the bounding box. This may take some time.\n",
    "\n",
    "- You should see a coastline appear in yellow and some rectangles along it.\n",
    "\n",
    "3. Click 1 or more ROIs then click `Save ROI` to save these ROIs for downloading later\n",
    "4. You're ready to download the ROIs. Run the next block of code.\n"
   ]
  },
  {
   "cell_type": "code",
   "execution_count": 9,
   "metadata": {},
   "outputs": [
    {
     "data": {
      "application/vnd.jupyter.widget-view+json": {
       "model_id": "a261fd58ac4148fea80bc33ad7c501fa",
       "version_major": 2,
       "version_minor": 0
      },
      "text/plain": [
       "HBox(children=(VBox(children=(HTML(value='<h2><b>Generate ROIs</b></h2>                 Use the two sliders to…"
      ]
     },
     "metadata": {},
     "output_type": "display_data"
    },
    {
     "data": {
      "application/vnd.jupyter.widget-view+json": {
       "model_id": "37d5e5dd21514a8187da6e1d90ebda2e",
       "version_major": 2,
       "version_minor": 0
      },
      "text/plain": [
       "HBox(children=(HBox(children=(Button(description='Load Transects', style=ButtonStyle(button_color='#69add1')),…"
      ]
     },
     "metadata": {},
     "output_type": "display_data"
    },
    {
     "data": {
      "application/vnd.jupyter.widget-view+json": {
       "model_id": "aee7e9cb0746468d8e2acb1cb5439eda",
       "version_major": 2,
       "version_minor": 0
      },
      "text/plain": [
       "HBox(children=(HBox(children=(Button(description='Remove all', style=ButtonStyle(button_color='red')), Button(…"
      ]
     },
     "metadata": {},
     "output_type": "display_data"
    },
    {
     "data": {
      "application/vnd.jupyter.widget-view+json": {
       "model_id": "f3bba830190d413fa5e5debea5b9050d",
       "version_major": 2,
       "version_minor": 0
      },
      "text/plain": [
       "HBox(children=(Button(description='Clear TextBox', style=ButtonStyle(button_color='#a3adac')), Output(layout=L…"
      ]
     },
     "metadata": {},
     "output_type": "display_data"
    },
    {
     "data": {
      "application/vnd.jupyter.widget-view+json": {
       "model_id": "71966716db5b439abb154b3067f69d84",
       "version_major": 2,
       "version_minor": 0
      },
      "text/plain": [
       "HBox(children=(Map(center=[36, -121.5], controls=(ZoomControl(options=['position', 'zoom_in_text', 'zoom_in_ti…"
      ]
     },
     "metadata": {},
     "output_type": "display_data"
    },
    {
     "data": {
      "application/vnd.jupyter.widget-view+json": {
       "model_id": "590fd5ea715e406593282a2c42a9ed42",
       "version_major": 2,
       "version_minor": 0
      },
      "text/plain": [
       "HBox(children=(Output(layout=Layout(border='1px solid black')),))"
      ]
     },
     "metadata": {},
     "output_type": "display_data"
    }
   ],
   "source": [
    "from src.coastseg.map_UI import UI\n",
    "coastseg_ui = UI(coastsegmap)\n",
    "coastseg_ui.create_dashboard()"
   ]
  },
  {
   "cell_type": "code",
   "execution_count": null,
   "metadata": {},
   "outputs": [],
   "source": [
    "coastsegmap.bbox.gdf"
   ]
  },
  {
   "cell_type": "code",
   "execution_count": null,
   "metadata": {},
   "outputs": [],
   "source": [
    "from src.coastseg.shoreline import Shoreline\n",
    "shoreline = Shoreline(coastsegmap.bbox.gdf)"
   ]
  },
  {
   "cell_type": "code",
   "execution_count": null,
   "metadata": {},
   "outputs": [],
   "source": [
    "print(type(coastsegmap.draw_control.last_draw))\n",
    "print(coastsegmap.draw_control.last_draw)\n",
    "print(type(coastsegmap.draw_control.last_draw['geometry']))\n",
    "print(coastsegmap.draw_control.last_draw['geometry'])\n",
    "            "
   ]
  },
  {
   "cell_type": "code",
   "execution_count": null,
   "metadata": {},
   "outputs": [],
   "source": []
  },
  {
   "cell_type": "code",
   "execution_count": null,
   "metadata": {},
   "outputs": [],
   "source": [
    "from src.coastseg import common\n",
    "common.get_area(coastsegmap.draw_control.last_draw['geometry'])"
   ]
  },
  {
   "cell_type": "code",
   "execution_count": null,
   "metadata": {},
   "outputs": [],
   "source": [
    "type(gpd.GeoDataFrame())"
   ]
  },
  {
   "cell_type": "code",
   "execution_count": null,
   "metadata": {},
   "outputs": [],
   "source": [
    "if type(gpd.GeoDataFrame()) == type(gpd.GeoDataFrame()):\n",
    "    print(\"yes\")"
   ]
  },
  {
   "cell_type": "code",
   "execution_count": null,
   "metadata": {},
   "outputs": [],
   "source": [
    "coastsegmap.shapes_list"
   ]
  },
  {
   "cell_type": "code",
   "execution_count": null,
   "metadata": {},
   "outputs": [],
   "source": [
    "type(coastsegmap.shapes_list[0])"
   ]
  },
  {
   "cell_type": "code",
   "execution_count": null,
   "metadata": {},
   "outputs": [],
   "source": [
    "from shapely.geometry import shape\n",
    "import geopandas as gpd"
   ]
  },
  {
   "cell_type": "code",
   "execution_count": null,
   "metadata": {},
   "outputs": [],
   "source": [
    "shape(coastsegmap.shapes_list[0])"
   ]
  },
  {
   "cell_type": "code",
   "execution_count": null,
   "metadata": {},
   "outputs": [],
   "source": [
    "geom = [shape(coastsegmap.shapes_list[0])]\n",
    "geojson_bbox = gpd.GeoDataFrame({'geometry': geom}, crs = 'EPSG:4326')\n",
    "# geojson_bbox.crs = 'EPSG:4326'\n",
    "geojson_bbox"
   ]
  },
  {
   "cell_type": "code",
   "execution_count": null,
   "metadata": {},
   "outputs": [],
   "source": []
  },
  {
   "cell_type": "code",
   "execution_count": null,
   "metadata": {},
   "outputs": [],
   "source": []
  },
  {
   "cell_type": "markdown",
   "metadata": {},
   "source": [
    "## Run Models on Imagery\n",
    "1. Select if you want to use a GPU or not. By default you won't your computer's GPU\n",
    "2. Select if you want to use CRF post-processing or not. By default CRF post-processing is not enabled\n",
    "<br>**WARNING**: There is a bug with CRF post-processing and the models so you will need to enable CRF post-processing until it is fixed.\n",
    "3. Select whether your data is the type RGB or MNDWI\n",
    "4. Select the model you want to use\n",
    "5. Select Ensemble or Best (Ensemble is recommended) \n",
    "6. \n"
   ]
  },
  {
   "cell_type": "code",
   "execution_count": null,
   "metadata": {},
   "outputs": [],
   "source": [
    "from src.coastseg.UI_models import UI_Models\n",
    "models_ui = UI_Models()\n",
    "models_ui.create_dashboard()"
   ]
  },
  {
   "cell_type": "code",
   "execution_count": null,
   "metadata": {},
   "outputs": [],
   "source": []
  }
 ],
 "metadata": {
  "kernelspec": {
   "display_name": "Python 3 (ipykernel)",
   "language": "python",
   "name": "python3"
  },
  "language_info": {
   "codemirror_mode": {
    "name": "ipython",
    "version": 3
   },
   "file_extension": ".py",
   "mimetype": "text/x-python",
   "name": "python",
   "nbconvert_exporter": "python",
   "pygments_lexer": "ipython3",
   "version": "3.10.4"
  },
  "vscode": {
   "interpreter": {
    "hash": "53ab1155a6fba8dac112dd11f6ebbdb1bff1a2fc6fa221ef0a2c21c817842ec3"
   }
  },
  "widgets": {
   "application/vnd.jupyter.widget-state+json": {
    "state": {
     "00c65ee405dc4e5ab435bfd1118c5a36": {
      "model_module": "@jupyter-widgets/controls",
      "model_module_version": "1.5.0",
      "model_name": "DescriptionStyleModel",
      "state": {
       "description_width": ""
      }
     },
     "01084543374446df83eb87a8dabadd25": {
      "model_module": "jupyter-leaflet",
      "model_module_version": "^0.17.0",
      "model_name": "LeafletTileLayerModel",
      "state": {
       "_model_module_version": "^0.17.0",
       "_view_module_version": "^0.17.0",
       "attribution": "&copy; <a href=\"http://www.gaode.com/\">Gaode.com</a>",
       "max_zoom": 19,
       "name": "Gaode.Normal",
       "options": [
        "attribution",
        "bounds",
        "detect_retina",
        "max_native_zoom",
        "max_zoom",
        "min_native_zoom",
        "min_zoom",
        "no_wrap",
        "tile_size",
        "tms"
       ],
       "url": "http://webrd01.is.autonavi.com/appmaptile?lang=zh_cn&size=1&scale=1&style=7&x={x}&y={y}&z={z}"
      }
     },
     "0244e1cd642e4ddc9731bd8d00551275": {
      "model_module": "@jupyter-widgets/controls",
      "model_module_version": "1.5.0",
      "model_name": "HTMLModel",
      "state": {
       "layout": "IPY_MODEL_5069f4015b434c15a62f45821216f412",
       "style": "IPY_MODEL_7c4f53f1230348a68fb3a07d8ced4250",
       "value": "<h2><b>Generate ROIs</b></h2>                 Use the two sliders to control the size of the ROIs generated.<br>                    <li> No Overlap: Set small slider to 0 and large slider to desired ROI size.</li>                    <li>Overlap: Set small slider to a value and large slider to desired ROI size.</li>                    <b>How it Works</b><br>                     Two fishnets (grids) are created out of ROIs (squares) and placed <br>                     within the bounding box.You control the size of the individual ROIs <br>                     that compose the small and large fishnets.<br>                    The ROIs are measured in meters squared."
      }
     },
     "02471f49892a4b3fb420e1f73cd37261": {
      "model_module": "jupyter-leaflet",
      "model_module_version": "^0.17.0",
      "model_name": "LeafletTileLayerModel",
      "state": {
       "_model_module_version": "^0.17.0",
       "_view_module_version": "^0.17.0",
       "attribution": "(C) OpenStreetMap contributors",
       "max_zoom": 19,
       "name": "OpenStreetMap.Mapnik",
       "options": [
        "attribution",
        "bounds",
        "detect_retina",
        "max_native_zoom",
        "max_zoom",
        "min_native_zoom",
        "min_zoom",
        "no_wrap",
        "tile_size",
        "tms"
       ],
       "url": "https://a.tile.openstreetmap.org/{z}/{x}/{y}.png"
      }
     },
     "025b81b20cda46aba80379fb3b6726e3": {
      "model_module": "@jupyter-widgets/controls",
      "model_module_version": "1.5.0",
      "model_name": "ButtonStyleModel",
      "state": {
       "button_color": "#ae3cf0"
      }
     },
     "042d39b159dd4921ae2c8786f2d54bb9": {
      "model_module": "jupyter-leaflet",
      "model_module_version": "^0.17.0",
      "model_name": "LeafletWMSLayerModel",
      "state": {
       "_model_module_version": "^0.17.0",
       "_view_module_version": "^0.17.0",
       "attribution": "ESA",
       "crs": {
        "custom": false,
        "name": "EPSG3857"
       },
       "format": "image/png",
       "layers": "WORLDCOVER_2020_MAP",
       "name": "ESA Worldcover 2020",
       "options": [
        "attribution",
        "bounds",
        "detect_retina",
        "format",
        "layers",
        "max_native_zoom",
        "max_zoom",
        "min_native_zoom",
        "min_zoom",
        "no_wrap",
        "styles",
        "tile_size",
        "tms",
        "transparent",
        "uppercase"
       ],
       "transparent": true,
       "url": "https://services.terrascope.be/wms/v2"
      }
     },
     "060ec643531a48d0881b900748f2da0c": {
      "model_module": "jupyter-leaflet",
      "model_module_version": "^0.17.0",
      "model_name": "LeafletWMSLayerModel",
      "state": {
       "_model_module_version": "^0.17.0",
       "_view_module_version": "^0.17.0",
       "attribution": "MRLC",
       "crs": {
        "custom": false,
        "name": "EPSG3857"
       },
       "format": "image/png",
       "layers": "NLCD_2011_Land_Cover_L48",
       "name": "NLCD 2011 CONUS Land Cover",
       "options": [
        "attribution",
        "bounds",
        "detect_retina",
        "format",
        "layers",
        "max_native_zoom",
        "max_zoom",
        "min_native_zoom",
        "min_zoom",
        "no_wrap",
        "styles",
        "tile_size",
        "tms",
        "transparent",
        "uppercase"
       ],
       "transparent": true,
       "url": "https://www.mrlc.gov/geoserver/mrlc_display/NLCD_2011_Land_Cover_L48/wms?"
      }
     },
     "06c626940da54f3daddbe0fd88351e5a": {
      "model_module": "@jupyter-widgets/base",
      "model_module_version": "1.2.0",
      "model_name": "LayoutModel",
      "state": {}
     },
     "06ffa8cd4eff4bd3955534cd8650ba68": {
      "model_module": "jupyter-leaflet",
      "model_module_version": "^0.17.0",
      "model_name": "LeafletTileLayerModel",
      "state": {
       "_model_module_version": "^0.17.0",
       "_view_module_version": "^0.17.0",
       "attribution": "Map data: (C) OpenStreetMap contributors | Map style: (C) waymarkedtrails.org (CC-BY-SA)",
       "name": "WaymarkedTrails.cycling",
       "options": [
        "attribution",
        "bounds",
        "detect_retina",
        "max_native_zoom",
        "max_zoom",
        "min_native_zoom",
        "min_zoom",
        "no_wrap",
        "tile_size",
        "tms"
       ],
       "url": "https://tile.waymarkedtrails.org/cycling/{z}/{x}/{y}.png"
      }
     },
     "07fa9bd9ea914b84bd42eaed9257895e": {
      "model_module": "@jupyter-widgets/controls",
      "model_module_version": "1.5.0",
      "model_name": "ToggleButtonModel",
      "state": {
       "button_style": "primary",
       "icon": "eraser",
       "layout": "IPY_MODEL_3a6c02610fdd4f959457fa048f9eb649",
       "style": "IPY_MODEL_878341cdff314f88a00b0c12530d27cb",
       "tooltip": "Remove all drawn features"
      }
     },
     "09916c7c40474199b48ab076db807900": {
      "model_module": "@jupyter-widgets/controls",
      "model_module_version": "1.5.0",
      "model_name": "ToggleButtonModel",
      "state": {
       "icon": "wrench",
       "layout": "IPY_MODEL_a9a16361b4df4a38b5b1c5fd7a054ae5",
       "style": "IPY_MODEL_18413c0caed142c59a031ce633c8bd67",
       "tooltip": "Toolbar"
      }
     },
     "0a9f30bbedca4292a310abd02448d7ee": {
      "model_module": "jupyter-leaflet",
      "model_module_version": "^0.17.0",
      "model_name": "LeafletTileLayerModel",
      "state": {
       "_model_module_version": "^0.17.0",
       "_view_module_version": "^0.17.0",
       "attribution": "&copy; <a href=\"http://www.gaode.com/\">Gaode.com</a>",
       "max_zoom": 19,
       "name": "Gaode.Satellite",
       "options": [
        "attribution",
        "bounds",
        "detect_retina",
        "max_native_zoom",
        "max_zoom",
        "min_native_zoom",
        "min_zoom",
        "no_wrap",
        "tile_size",
        "tms"
       ],
       "url": "http://webst01.is.autonavi.com/appmaptile?style=6&x={x}&y={y}&z={z}"
      }
     },
     "0b61f5677cdf44b1b406b5b661ba7b70": {
      "model_module": "@jupyter-widgets/base",
      "model_module_version": "1.2.0",
      "model_name": "LayoutModel",
      "state": {}
     },
     "0c1413892d9a4bd58f75e6a9510a9351": {
      "model_module": "@jupyter-widgets/controls",
      "model_module_version": "1.5.0",
      "model_name": "ButtonModel",
      "state": {
       "description": "Save ROI",
       "layout": "IPY_MODEL_f47d22d2e7b14c95b38282ebeb3387cf",
       "style": "IPY_MODEL_2a61fb6e8f7348b7b845e4dc98f6fa6a"
      }
     },
     "0c4b5763472c4b4dbbce47283fbd2229": {
      "model_module": "jupyter-leaflet",
      "model_module_version": "^0.17.0",
      "model_name": "LeafletTileLayerModel",
      "state": {
       "_model_module_version": "^0.17.0",
       "_view_module_version": "^0.17.0",
       "attribution": "(C) OpenStreetMap contributors (C) CARTO",
       "max_zoom": 20,
       "name": "CartoDB.Voyager",
       "options": [
        "attribution",
        "bounds",
        "detect_retina",
        "max_native_zoom",
        "max_zoom",
        "min_native_zoom",
        "min_zoom",
        "no_wrap",
        "tile_size",
        "tms"
       ],
       "url": "https://a.basemaps.cartocdn.com/rastertiles/voyager/{z}/{x}/{y}.png"
      }
     },
     "0cc47c7bbd5f41fc9bbeb6e31b5f834e": {
      "model_module": "@jupyter-widgets/base",
      "model_module_version": "1.2.0",
      "model_name": "LayoutModel",
      "state": {}
     },
     "0e4b7ac3183c4a0c9919ad6f8afeb8ba": {
      "model_module": "jupyter-leaflet",
      "model_module_version": "^0.17.0",
      "model_name": "LeafletTileLayerModel",
      "state": {
       "_model_module_version": "^0.17.0",
       "_view_module_version": "^0.17.0",
       "attribution": "![](https://docs.onemap.sg/maps/images/oneMap64-01.png) New OneMap | Map data (C) contributors, Singapore Land Authority",
       "name": "OneMapSG.Default",
       "options": [
        "attribution",
        "bounds",
        "detect_retina",
        "max_native_zoom",
        "max_zoom",
        "min_native_zoom",
        "min_zoom",
        "no_wrap",
        "tile_size",
        "tms"
       ],
       "url": "https://maps-a.onemap.sg/v3/Default/{z}/{x}/{y}.png"
      }
     },
     "0e893356eace4ecfb4d2d5f24555014a": {
      "model_module": "@jupyter-widgets/controls",
      "model_module_version": "1.5.0",
      "model_name": "ButtonModel",
      "state": {
       "description": "Save Bbox",
       "layout": "IPY_MODEL_fceb36a730174d7c8da459fca901035b",
       "style": "IPY_MODEL_90c839ea3b66416aafd3593002dcd658"
      }
     },
     "102b28b3a19d485d9c8b55b8b0132e4d": {
      "model_module": "jupyter-leaflet",
      "model_module_version": "^0.17.0",
      "model_name": "LeafletWMSLayerModel",
      "state": {
       "_model_module_version": "^0.17.0",
       "_view_module_version": "^0.17.0",
       "attribution": "ESA",
       "crs": {
        "custom": false,
        "name": "EPSG3857"
       },
       "format": "image/png",
       "layers": "WORLDCOVER_2020_S2_TCC",
       "name": "ESA Worldcover 2020 S2 TCC",
       "options": [
        "attribution",
        "bounds",
        "detect_retina",
        "format",
        "layers",
        "max_native_zoom",
        "max_zoom",
        "min_native_zoom",
        "min_zoom",
        "no_wrap",
        "styles",
        "tile_size",
        "tms",
        "transparent",
        "uppercase"
       ],
       "transparent": true,
       "url": "https://services.terrascope.be/wms/v2"
      }
     },
     "10eb614898534c7daacb8f43703b51cd": {
      "model_module": "jupyter-leaflet",
      "model_module_version": "^0.17.0",
      "model_name": "LeafletWMSLayerModel",
      "state": {
       "_model_module_version": "^0.17.0",
       "_view_module_version": "^0.17.0",
       "attribution": "ESA",
       "crs": {
        "custom": false,
        "name": "EPSG3857"
       },
       "format": "image/png",
       "layers": "WORLDCOVER_2020_S2_FCC",
       "name": "ESA Worldcover 2020 S2 FCC",
       "options": [
        "attribution",
        "bounds",
        "detect_retina",
        "format",
        "layers",
        "max_native_zoom",
        "max_zoom",
        "min_native_zoom",
        "min_zoom",
        "no_wrap",
        "styles",
        "tile_size",
        "tms",
        "transparent",
        "uppercase"
       ],
       "transparent": true,
       "url": "https://services.terrascope.be/wms/v2"
      }
     },
     "118155d2a7454a7b89ec38f97ba0c8ef": {
      "model_module": "jupyter-leaflet",
      "model_module_version": "^0.17.0",
      "model_name": "LeafletAttributionControlModel",
      "state": {
       "_model_module_version": "^0.17.0",
       "_view_module_version": "^0.17.0",
       "options": [
        "position",
        "prefix"
       ],
       "position": "bottomright",
       "prefix": "ipyleaflet"
      }
     },
     "12ea0f1cd58a4e1999a0b614dd33f0da": {
      "model_module": "@jupyter-widgets/controls",
      "model_module_version": "1.5.0",
      "model_name": "VBoxModel",
      "state": {
       "children": [
        "IPY_MODEL_9c84ea2b8dbd4646be45a6af7dc42c4f",
        "IPY_MODEL_70cbdebb16ab46a5ad1e3a55d1a05bff"
       ],
       "layout": "IPY_MODEL_0b61f5677cdf44b1b406b5b661ba7b70"
      }
     },
     "14311a87c6314d9fb96279ecbf7b481d": {
      "model_module": "@jupyter-widgets/base",
      "model_module_version": "1.2.0",
      "model_name": "LayoutModel",
      "state": {
       "padding": "10px"
      }
     },
     "153ba38f4ce3419194e6b9e9bcb3de6c": {
      "model_module": "@jupyter-widgets/controls",
      "model_module_version": "1.5.0",
      "model_name": "DescriptionStyleModel",
      "state": {
       "description_width": ""
      }
     },
     "17e2d9e581ad4752ab0f9af9365628dd": {
      "model_module": "@jupyter-widgets/base",
      "model_module_version": "1.2.0",
      "model_name": "LayoutModel",
      "state": {}
     },
     "18413c0caed142c59a031ce633c8bd67": {
      "model_module": "@jupyter-widgets/controls",
      "model_module_version": "1.5.0",
      "model_name": "DescriptionStyleModel",
      "state": {
       "description_width": ""
      }
     },
     "193d5582760b4fc39d75732f97e63eaa": {
      "model_module": "@jupyter-widgets/base",
      "model_module_version": "1.2.0",
      "model_name": "LayoutModel",
      "state": {
       "height": "auto",
       "padding": "0px 0px 0px 4px",
       "width": "auto"
      }
     },
     "197affd010534107aba1886ea5f30f2e": {
      "model_module": "jupyter-leaflet",
      "model_module_version": "^0.17.0",
      "model_name": "LeafletZoomControlModel",
      "state": {
       "_model_module_version": "^0.17.0",
       "_view_module_version": "^0.17.0",
       "options": [
        "position",
        "zoom_in_text",
        "zoom_in_title",
        "zoom_out_text",
        "zoom_out_title"
       ]
      }
     },
     "19d3493ffe7a4e049990c6c6fefabe20": {
      "model_module": "jupyter-leaflet",
      "model_module_version": "^0.17.0",
      "model_name": "LeafletTileLayerModel",
      "state": {
       "_model_module_version": "^0.17.0",
       "_view_module_version": "^0.17.0",
       "attribution": "(C) OpenStreetMap contributors",
       "max_zoom": 19,
       "name": "HikeBike.HikeBike",
       "options": [
        "attribution",
        "bounds",
        "detect_retina",
        "max_native_zoom",
        "max_zoom",
        "min_native_zoom",
        "min_zoom",
        "no_wrap",
        "tile_size",
        "tms"
       ],
       "url": "https://tiles.wmflabs.org/hikebike/{z}/{x}/{y}.png"
      }
     },
     "1a49a1450d724465b2eaea1977861909": {
      "model_module": "@jupyter-widgets/controls",
      "model_module_version": "1.5.0",
      "model_name": "HTMLModel",
      "state": {
       "layout": "IPY_MODEL_768e093691954dd9875ae554151a9f37",
       "style": "IPY_MODEL_e4e03e39cb02412ab6ab1de5d50f9bec",
       "value": "<h2><b>Save ROIs</b></h2>                 You must click save ROI before you can download ROIs                <br> Use the save buttons to save the ROIs you selected <br>                <li> Save BBox: Save the bounding box to a geojson file called 'bbox.geojson'</li>                    <li> Save ROIs: Save the selected ROI to a geojson file called 'rois.geojson'</li>                    "
      }
     },
     "1ad907870d644667bd79656624403269": {
      "model_module": "@jupyter-widgets/base",
      "model_module_version": "1.2.0",
      "model_name": "LayoutModel",
      "state": {
       "height": "auto",
       "padding": "0px 0px 0px 4px",
       "width": "auto"
      }
     },
     "1b25de309aa04b6d81e84eaf0b969f11": {
      "model_module": "@jupyter-widgets/base",
      "model_module_version": "1.2.0",
      "model_name": "LayoutModel",
      "state": {
       "padding": "10px"
      }
     },
     "1b695acd7110459684b8dede955536c3": {
      "model_module": "@jupyter-widgets/controls",
      "model_module_version": "1.5.0",
      "model_name": "VBoxModel",
      "state": {
       "children": [
        "IPY_MODEL_9d754ffcf2ce4ccda96e354178e4fdd4",
        "IPY_MODEL_8b72ddc4549b4720858f6dea4c616d0d"
       ],
       "layout": "IPY_MODEL_51c2f87c5cdb4e6fa76b1719ebab6fa6"
      }
     },
     "1bbdd89887be426188b491518bb78b97": {
      "model_module": "jupyter-leaflet",
      "model_module_version": "^0.17.0",
      "model_name": "LeafletTileLayerModel",
      "state": {
       "_model_module_version": "^0.17.0",
       "_view_module_version": "^0.17.0",
       "attribution": "Tiles (C) Esri -- Source: USGS, Esri, TANA, DeLorme, and NPS",
       "max_zoom": 13,
       "name": "Esri.WorldTerrain",
       "options": [
        "attribution",
        "bounds",
        "detect_retina",
        "max_native_zoom",
        "max_zoom",
        "min_native_zoom",
        "min_zoom",
        "no_wrap",
        "tile_size",
        "tms"
       ],
       "url": "https://server.arcgisonline.com/ArcGIS/rest/services/World_Terrain_Base/MapServer/tile/{z}/{y}/{x}"
      }
     },
     "1c314eb06ef445e19c1ca26540f9b97c": {
      "model_module": "@jupyter-widgets/controls",
      "model_module_version": "1.5.0",
      "model_name": "ButtonModel",
      "state": {
       "description": "Generate ROI",
       "layout": "IPY_MODEL_4b220587bfed461ba75cf1646b14837c",
       "style": "IPY_MODEL_025b81b20cda46aba80379fb3b6726e3"
      }
     },
     "1d867455cc9b48b6a434f400654efff5": {
      "model_module": "@jupyter-widgets/base",
      "model_module_version": "1.2.0",
      "model_name": "LayoutModel",
      "state": {
       "height": "auto",
       "padding": "0px 0px 0px 4px",
       "width": "auto"
      }
     },
     "1da51d425d5449a8b21afb09ebcfcff1": {
      "model_module": "ipyevents",
      "model_module_version": "2.0.1",
      "model_name": "EventModel",
      "state": {
       "_supported_key_events": [
        "keydown",
        "keyup"
       ],
       "_supported_mouse_events": [
        "click",
        "auxclick",
        "dblclick",
        "mouseenter",
        "mouseleave",
        "mousedown",
        "mouseup",
        "mousemove",
        "wheel",
        "contextmenu",
        "dragstart",
        "drag",
        "dragend",
        "dragenter",
        "dragover",
        "dragleave",
        "drop"
       ],
       "_supported_touch_events": [
        "touchstart",
        "touchend",
        "touchmove",
        "touchcancel"
       ],
       "_view_module": "@jupyter-widgets/controls",
       "_view_module_version": "1.5.0",
       "source": "IPY_MODEL_29a425673a3f4329a94b3227f4e0e002",
       "throttle_or_debounce": "",
       "watched_events": [
        "mouseenter",
        "mouseleave"
       ],
       "xy_coordinate_system": ""
      }
     },
     "1f6bfcd2804146c087da6e91ca307747": {
      "model_module": "@jupyter-widgets/controls",
      "model_module_version": "1.5.0",
      "model_name": "SelectMultipleModel",
      "state": {
       "_options_labels": [
        "L5",
        "L7",
        "L8",
        "S2"
       ],
       "description": "Satellites",
       "index": [
        2
       ],
       "layout": "IPY_MODEL_715c8becc21849379e74332fdd63c1d4",
       "rows": 5,
       "style": "IPY_MODEL_21a445f9072d463b9a77edbacf0ea423"
      }
     },
     "1fbb547b1f8c404698468374c81b1225": {
      "model_module": "@jupyter-widgets/controls",
      "model_module_version": "1.5.0",
      "model_name": "DescriptionStyleModel",
      "state": {
       "description_width": ""
      }
     },
     "1feb0a81ecce4f51b67a463c32254272": {
      "model_module": "@jupyter-widgets/controls",
      "model_module_version": "1.5.0",
      "model_name": "ToggleButtonModel",
      "state": {
       "icon": "server",
       "layout": "IPY_MODEL_761f209ecf2547a6876263037daff1b1",
       "style": "IPY_MODEL_f30fe43c75ef452b91358875ca6a4307",
       "tooltip": "Layers"
      }
     },
     "20656ff363f542c6b6fb16ee10731a37": {
      "model_module": "@jupyter-widgets/controls",
      "model_module_version": "1.5.0",
      "model_name": "DescriptionStyleModel",
      "state": {
       "description_width": ""
      }
     },
     "206a6cad73684d3490f2d2cc7785d8d4": {
      "model_module": "@jupyter-widgets/controls",
      "model_module_version": "1.5.0",
      "model_name": "DescriptionStyleModel",
      "state": {
       "description_width": ""
      }
     },
     "2161ed11e5384741af25f0d9fced4e54": {
      "model_module": "jupyter-leaflet",
      "model_module_version": "^0.17.0",
      "model_name": "LeafletTileLayerModel",
      "state": {
       "_model_module_version": "^0.17.0",
       "_view_module_version": "^0.17.0",
       "attribution": "Justice Map",
       "max_zoom": 22,
       "name": "JusticeMap.nonWhite",
       "options": [
        "attribution",
        "bounds",
        "detect_retina",
        "max_native_zoom",
        "max_zoom",
        "min_native_zoom",
        "min_zoom",
        "no_wrap",
        "tile_size",
        "tms"
       ],
       "url": "https://www.justicemap.org/tile/county/nonwhite/{z}/{x}/{y}.png"
      }
     },
     "21a445f9072d463b9a77edbacf0ea423": {
      "model_module": "@jupyter-widgets/controls",
      "model_module_version": "1.5.0",
      "model_name": "DescriptionStyleModel",
      "state": {
       "description_width": ""
      }
     },
     "22318fafc4584e6da32af5511666b2cb": {
      "model_module": "jupyter-leaflet",
      "model_module_version": "^0.17.0",
      "model_name": "LeafletTileLayerModel",
      "state": {
       "_model_module_version": "^0.17.0",
       "_view_module_version": "^0.17.0",
       "attribution": "Justice Map",
       "max_zoom": 22,
       "name": "JusticeMap.multi",
       "options": [
        "attribution",
        "bounds",
        "detect_retina",
        "max_native_zoom",
        "max_zoom",
        "min_native_zoom",
        "min_zoom",
        "no_wrap",
        "tile_size",
        "tms"
       ],
       "url": "https://www.justicemap.org/tile/county/multi/{z}/{x}/{y}.png"
      }
     },
     "2313d5448a65494eb8c126ccd0982ad2": {
      "model_module": "@jupyter-widgets/controls",
      "model_module_version": "1.5.0",
      "model_name": "DescriptionStyleModel",
      "state": {
       "description_width": ""
      }
     },
     "2794bf3b65904e04aab5bf00246327d9": {
      "model_module": "jupyter-leaflet",
      "model_module_version": "^0.17.0",
      "model_name": "LeafletTileLayerModel",
      "state": {
       "_model_module_version": "^0.17.0",
       "_view_module_version": "^0.17.0",
       "attribution": "Imagery provided by services from the Global Imagery Browse Services (GIBS), operated by the NASA/GSFC/Earth Science Data and Information System (ESDIS) with funding provided by NASA/HQ.",
       "max_zoom": 12,
       "name": "NASAGIBS.ASTER_GDEM_Greyscale_Shaded_Relief",
       "options": [
        "attribution",
        "bounds",
        "detect_retina",
        "max_native_zoom",
        "max_zoom",
        "min_native_zoom",
        "min_zoom",
        "no_wrap",
        "tile_size",
        "tms"
       ],
       "url": "https://gibs.earthdata.nasa.gov/wmts/epsg3857/best/ASTER_GDEM_Greyscale_Shaded_Relief/default/GoogleMapsCompatible_Level12/{z}/{y}/{x}.jpg"
      }
     },
     "298994338f3f480784864927b68b5aad": {
      "model_module": "@jupyter-widgets/controls",
      "model_module_version": "1.5.0",
      "model_name": "VBoxModel",
      "state": {
       "children": [
        "IPY_MODEL_53353ecbd2774a38926f1f0ee6328a6c"
       ],
       "layout": "IPY_MODEL_5be8409ffe724a4f82e5d1d83724a8a5"
      }
     },
     "29a425673a3f4329a94b3227f4e0e002": {
      "model_module": "@jupyter-widgets/controls",
      "model_module_version": "1.5.0",
      "model_name": "VBoxModel",
      "state": {
       "_view_count": 1,
       "children": [
        "IPY_MODEL_09916c7c40474199b48ab076db807900"
       ],
       "layout": "IPY_MODEL_4195b4fa57ef45378ed14d047e75dfcc"
      }
     },
     "29c9fc977bdd46c6a540c8d106118f33": {
      "model_module": "@jupyter-widgets/base",
      "model_module_version": "1.2.0",
      "model_name": "LayoutModel",
      "state": {
       "height": "auto",
       "padding": "0px 0px 0px 4px",
       "width": "auto"
      }
     },
     "2a0b746327d34e3792a3e524eb21c257": {
      "model_module": "@jupyter-widgets/base",
      "model_module_version": "1.2.0",
      "model_name": "LayoutModel",
      "state": {
       "height": "auto",
       "padding": "0px 0px 0px 4px",
       "width": "auto"
      }
     },
     "2a61fb6e8f7348b7b845e4dc98f6fa6a": {
      "model_module": "@jupyter-widgets/controls",
      "model_module_version": "1.5.0",
      "model_name": "ButtonStyleModel",
      "state": {
       "button_color": "#50bf8f"
      }
     },
     "2a94b7532bcb4ffc912eaeb9f2f0c483": {
      "model_module": "jupyter-leaflet",
      "model_module_version": "^0.17.0",
      "model_name": "LeafletTileLayerModel",
      "state": {
       "_model_module_version": "^0.17.0",
       "_view_module_version": "^0.17.0",
       "attribution": "Map data: (C) OpenStreetMap contributors | Map style: (C) waymarkedtrails.org (CC-BY-SA)",
       "name": "WaymarkedTrails.hiking",
       "options": [
        "attribution",
        "bounds",
        "detect_retina",
        "max_native_zoom",
        "max_zoom",
        "min_native_zoom",
        "min_zoom",
        "no_wrap",
        "tile_size",
        "tms"
       ],
       "url": "https://tile.waymarkedtrails.org/hiking/{z}/{x}/{y}.png"
      }
     },
     "2b3149cd55c6464aa8587ac0f2a8fe74": {
      "model_module": "jupyter-leaflet",
      "model_module_version": "^0.17.0",
      "model_name": "LeafletTileLayerModel",
      "state": {
       "_model_module_version": "^0.17.0",
       "_view_module_version": "^0.17.0",
       "attribution": "Imagery provided by services from the Global Imagery Browse Services (GIBS), operated by the NASA/GSFC/Earth Science Data and Information System (ESDIS) with funding provided by NASA/HQ.",
       "max_zoom": 9,
       "name": "NASAGIBS.ViirsTrueColorCR",
       "options": [
        "attribution",
        "bounds",
        "detect_retina",
        "max_native_zoom",
        "max_zoom",
        "min_native_zoom",
        "min_zoom",
        "no_wrap",
        "tile_size",
        "tms"
       ],
       "url": "https://gibs.earthdata.nasa.gov/wmts/epsg3857/best/VIIRS_SNPP_CorrectedReflectance_TrueColor/default//GoogleMapsCompatible_Level9/{z}/{y}/{x}.jpg"
      }
     },
     "2bfb2c54617e432bae1a153aa0e76483": {
      "model_module": "@jupyter-widgets/base",
      "model_module_version": "1.2.0",
      "model_name": "LayoutModel",
      "state": {}
     },
     "2c01b05ce44b48f791b1c0d9ac41be04": {
      "model_module": "@jupyter-widgets/controls",
      "model_module_version": "1.5.0",
      "model_name": "DatePickerModel",
      "state": {
       "description": "Start Date",
       "disabled": false,
       "layout": "IPY_MODEL_3ca61c34bada43b6930174c61ea4782b",
       "style": "IPY_MODEL_858e58f816b04310afed302c5da52b3f",
       "value": {
        "date": 1,
        "month": 11,
        "year": 2018
       }
      }
     },
     "2c80b371d60b449da9475c4d720e5ac5": {
      "model_module": "@jupyter-widgets/controls",
      "model_module_version": "1.5.0",
      "model_name": "ButtonStyleModel",
      "state": {
       "button_color": "#69add1"
      }
     },
     "2d05823372d647bc8d2d8f56e1cfd287": {
      "model_module": "@jupyter-widgets/controls",
      "model_module_version": "1.5.0",
      "model_name": "ButtonModel",
      "state": {
       "description": "Remove shoreline",
       "layout": "IPY_MODEL_7fb25ae695f04618996a900d4b443585",
       "style": "IPY_MODEL_3646424b5f2841e1a64215aa1a896dfb"
      }
     },
     "2eaf158e3b1d42edbb4aa47961ed6a3a": {
      "model_module": "jupyter-leaflet",
      "model_module_version": "^0.17.0",
      "model_name": "LeafletTileLayerModel",
      "state": {
       "_model_module_version": "^0.17.0",
       "_view_module_version": "^0.17.0",
       "attribution": "Google",
       "max_zoom": 22,
       "name": "Google Maps",
       "options": [
        "attribution",
        "bounds",
        "detect_retina",
        "max_native_zoom",
        "max_zoom",
        "min_native_zoom",
        "min_zoom",
        "no_wrap",
        "tile_size",
        "tms"
       ],
       "url": "https://mt1.google.com/vt/lyrs=m&x={x}&y={y}&z={z}"
      }
     },
     "2fe2df1273324ac2b61c8887cf8d0f09": {
      "model_module": "jupyter-leaflet",
      "model_module_version": "^0.17.0",
      "model_name": "LeafletTileLayerModel",
      "state": {
       "_model_module_version": "^0.17.0",
       "_view_module_version": "^0.17.0",
       "attribution": "Map tiles by Stamen Design, CC BY 3.0 -- Map data (C) OpenStreetMap contributors",
       "name": "Stamen.TerrainLabels",
       "options": [
        "attribution",
        "bounds",
        "detect_retina",
        "max_native_zoom",
        "max_zoom",
        "min_native_zoom",
        "min_zoom",
        "no_wrap",
        "tile_size",
        "tms"
       ],
       "url": "https://stamen-tiles-a.a.ssl.fastly.net/terrain-labels/{z}/{x}/{y}.png"
      }
     },
     "300463313eb34871a95ae61dc21a309c": {
      "model_module": "jupyter-leaflet",
      "model_module_version": "^0.17.0",
      "model_name": "LeafletTileLayerModel",
      "state": {
       "_model_module_version": "^0.17.0",
       "_view_module_version": "^0.17.0",
       "attribution": "Imagery provided by services from the Global Imagery Browse Services (GIBS), operated by the NASA/GSFC/Earth Science Data and Information System (ESDIS) with funding provided by NASA/HQ.",
       "max_zoom": 9,
       "name": "NASAGIBS.ModisAquaTrueColorCR",
       "options": [
        "attribution",
        "bounds",
        "detect_retina",
        "max_native_zoom",
        "max_zoom",
        "min_native_zoom",
        "min_zoom",
        "no_wrap",
        "tile_size",
        "tms"
       ],
       "url": "https://gibs.earthdata.nasa.gov/wmts/epsg3857/best/MODIS_Aqua_CorrectedReflectance_TrueColor/default//GoogleMapsCompatible_Level9/{z}/{y}/{x}.jpg"
      }
     },
     "30870c166ad645329e34203d213e1176": {
      "model_module": "jupyter-leaflet",
      "model_module_version": "^0.17.0",
      "model_name": "LeafletTileLayerModel",
      "state": {
       "_model_module_version": "^0.17.0",
       "_view_module_version": "^0.17.0",
       "attribution": "Tiles (C) Esri -- Source: US National Park Service",
       "max_zoom": 8,
       "name": "Esri.WorldPhysical",
       "options": [
        "attribution",
        "bounds",
        "detect_retina",
        "max_native_zoom",
        "max_zoom",
        "min_native_zoom",
        "min_zoom",
        "no_wrap",
        "tile_size",
        "tms"
       ],
       "url": "https://server.arcgisonline.com/ArcGIS/rest/services/World_Physical_Map/MapServer/tile/{z}/{y}/{x}"
      }
     },
     "30ca3d1b0dad4f69a3d22503804490aa": {
      "model_module": "@jupyter-widgets/controls",
      "model_module_version": "1.5.0",
      "model_name": "ButtonStyleModel",
      "state": {
       "button_color": "red"
      }
     },
     "30ff731c6caf47658c957ce3e4bd57d4": {
      "model_module": "jupyter-leaflet",
      "model_module_version": "^0.17.0",
      "model_name": "LeafletTileLayerModel",
      "state": {
       "_model_module_version": "^0.17.0",
       "_view_module_version": "^0.17.0",
       "attribution": "Map data: (C) OpenStreetMap contributors & ODbL, (C) www.opensnowmap.org CC-BY-SA",
       "name": "OpenSnowMap.pistes",
       "options": [
        "attribution",
        "bounds",
        "detect_retina",
        "max_native_zoom",
        "max_zoom",
        "min_native_zoom",
        "min_zoom",
        "no_wrap",
        "tile_size",
        "tms"
       ],
       "url": "https://tiles.opensnowmap.org/pistes/{z}/{x}/{y}.png"
      }
     },
     "31d13f00919b4f5e83343ce6a936ac9c": {
      "model_module": "jupyter-leaflet",
      "model_module_version": "^0.17.0",
      "model_name": "LeafletTileLayerModel",
      "state": {
       "_model_module_version": "^0.17.0",
       "_view_module_version": "^0.17.0",
       "attribution": "Google",
       "max_zoom": 22,
       "name": "Google Terrain",
       "options": [
        "attribution",
        "bounds",
        "detect_retina",
        "max_native_zoom",
        "max_zoom",
        "min_native_zoom",
        "min_zoom",
        "no_wrap",
        "tile_size",
        "tms"
       ],
       "url": "https://mt1.google.com/vt/lyrs=p&x={x}&y={y}&z={z}"
      }
     },
     "327f3b00b4664bf8a1fc21b08f2d744c": {
      "model_module": "jupyter-leaflet",
      "model_module_version": "^0.17.0",
      "model_name": "LeafletTileLayerModel",
      "state": {
       "_model_module_version": "^0.17.0",
       "_view_module_version": "^0.17.0",
       "attribution": "Imagery provided by services from the Global Imagery Browse Services (GIBS), operated by the NASA/GSFC/Earth Science Data and Information System (ESDIS) with funding provided by NASA/HQ.",
       "max_zoom": 8,
       "name": "NASAGIBS.BlueMarble",
       "options": [
        "attribution",
        "bounds",
        "detect_retina",
        "max_native_zoom",
        "max_zoom",
        "min_native_zoom",
        "min_zoom",
        "no_wrap",
        "tile_size",
        "tms"
       ],
       "url": "https://gibs.earthdata.nasa.gov/wmts/epsg3857/best/BlueMarble_NextGeneration/default/EPSG3857_500m/{z}/{y}/{x}.jpeg"
      }
     },
     "3295e0f9f0704231ac2ad948884108ac": {
      "model_module": "jupyter-leaflet",
      "model_module_version": "^0.17.0",
      "model_name": "LeafletTileLayerModel",
      "state": {
       "_model_module_version": "^0.17.0",
       "_view_module_version": "^0.17.0",
       "attribution": "Tiles (C) Esri -- National Geographic, Esri, DeLorme, NAVTEQ, UNEP-WCMC, USGS, NASA, ESA, METI, NRCAN, GEBCO, NOAA, iPC",
       "max_zoom": 16,
       "name": "Esri.NatGeoWorldMap",
       "options": [
        "attribution",
        "bounds",
        "detect_retina",
        "max_native_zoom",
        "max_zoom",
        "min_native_zoom",
        "min_zoom",
        "no_wrap",
        "tile_size",
        "tms"
       ],
       "url": "https://server.arcgisonline.com/ArcGIS/rest/services/NatGeo_World_Map/MapServer/tile/{z}/{y}/{x}"
      }
     },
     "32f3ef2f70d846e1b5b68cb5f2a3f1ef": {
      "model_module": "@jupyter-widgets/controls",
      "model_module_version": "1.5.0",
      "model_name": "SliderStyleModel",
      "state": {
       "description_width": "initial"
      }
     },
     "340182e4191a43a99343fe1eacce659d": {
      "model_module": "@jupyter-widgets/controls",
      "model_module_version": "1.5.0",
      "model_name": "AccordionModel",
      "state": {
       "_titles": {
        "0": "Shoreline Data"
       },
       "children": [
        "IPY_MODEL_68db4ab550cf4048b9f8d42f05265f9d"
       ],
       "layout": "IPY_MODEL_17e2d9e581ad4752ab0f9af9365628dd"
      }
     },
     "34cea7c934ff423e8e1563d89212b25a": {
      "model_module": "@jupyter-widgets/controls",
      "model_module_version": "1.5.0",
      "model_name": "DescriptionStyleModel",
      "state": {
       "description_width": ""
      }
     },
     "3646424b5f2841e1a64215aa1a896dfb": {
      "model_module": "@jupyter-widgets/controls",
      "model_module_version": "1.5.0",
      "model_name": "ButtonStyleModel",
      "state": {
       "button_color": "red"
      }
     },
     "36a626f1e35e49ff9b6879a8a4fec57d": {
      "model_module": "@jupyter-widgets/base",
      "model_module_version": "1.2.0",
      "model_name": "LayoutModel",
      "state": {}
     },
     "36abe2b6fa63498eb366d91a928a6aeb": {
      "model_module": "jupyter-leaflet",
      "model_module_version": "^0.17.0",
      "model_name": "LeafletWMSLayerModel",
      "state": {
       "_model_module_version": "^0.17.0",
       "_view_module_version": "^0.17.0",
       "attribution": "MRLC",
       "crs": {
        "custom": false,
        "name": "EPSG3857"
       },
       "format": "image/png",
       "layers": "NLCD_2013_Land_Cover_L48",
       "name": "NLCD 2013 CONUS Land Cover",
       "options": [
        "attribution",
        "bounds",
        "detect_retina",
        "format",
        "layers",
        "max_native_zoom",
        "max_zoom",
        "min_native_zoom",
        "min_zoom",
        "no_wrap",
        "styles",
        "tile_size",
        "tms",
        "transparent",
        "uppercase"
       ],
       "transparent": true,
       "url": "https://www.mrlc.gov/geoserver/mrlc_display/NLCD_2013_Land_Cover_L48/wms?"
      }
     },
     "36f1dbd3cd064f0f870b867abc85c18b": {
      "model_module": "@jupyter-widgets/base",
      "model_module_version": "1.2.0",
      "model_name": "LayoutModel",
      "state": {}
     },
     "37d5e5dd21514a8187da6e1d90ebda2e": {
      "model_module": "@jupyter-widgets/controls",
      "model_module_version": "1.5.0",
      "model_name": "HBoxModel",
      "state": {
       "children": [
        "IPY_MODEL_751fba520e3044ffbe0ae3da0ac8884d"
       ],
       "layout": "IPY_MODEL_60f63ce67e20457d8bafa0850e29dbb8"
      }
     },
     "3a6c02610fdd4f959457fa048f9eb649": {
      "model_module": "@jupyter-widgets/base",
      "model_module_version": "1.2.0",
      "model_name": "LayoutModel",
      "state": {
       "height": "auto",
       "padding": "0px 0px 0px 4px",
       "width": "auto"
      }
     },
     "3aa14c3bced34d379dee7dc480519058": {
      "model_module": "@jupyter-widgets/base",
      "model_module_version": "1.2.0",
      "model_name": "LayoutModel",
      "state": {}
     },
     "3ae8a5903e544e1e9ad0e24525ee8b17": {
      "model_module": "jupyter-leaflet",
      "model_module_version": "^0.17.0",
      "model_name": "LeafletMapStyleModel",
      "state": {
       "_model_module_version": "^0.17.0",
       "cursor": "default"
      }
     },
     "3b2639cf5b0f4e8e993b2f01231f77d8": {
      "model_module": "jupyter-leaflet",
      "model_module_version": "^0.17.0",
      "model_name": "LeafletTileLayerModel",
      "state": {
       "_model_module_version": "^0.17.0",
       "_view_module_version": "^0.17.0",
       "attribution": "Imagery provided by services from the Global Imagery Browse Services (GIBS), operated by the NASA/GSFC/Earth Science Data and Information System (ESDIS) with funding provided by NASA/HQ.",
       "max_zoom": 9,
       "name": "NASAGIBS.ModisTerraBands367CR",
       "options": [
        "attribution",
        "bounds",
        "detect_retina",
        "max_native_zoom",
        "max_zoom",
        "min_native_zoom",
        "min_zoom",
        "no_wrap",
        "tile_size",
        "tms"
       ],
       "url": "https://map1.vis.earthdata.nasa.gov/wmts-webmerc/MODIS_Terra_CorrectedReflectance_Bands367/default//GoogleMapsCompatible_Level9/{z}/{y}/{x}.jpg"
      }
     },
     "3b943c1d08664dc5ac0f1f6014739777": {
      "model_module": "jupyter-leaflet",
      "model_module_version": "^0.17.0",
      "model_name": "LeafletTileLayerModel",
      "state": {
       "_model_module_version": "^0.17.0",
       "_view_module_version": "^0.17.0",
       "attribution": "Kaartgegevens (C) Kadaster",
       "max_zoom": 19,
       "name": "nlmaps.grijs",
       "options": [
        "attribution",
        "bounds",
        "detect_retina",
        "max_native_zoom",
        "max_zoom",
        "min_native_zoom",
        "min_zoom",
        "no_wrap",
        "tile_size",
        "tms"
       ],
       "url": "https://service.pdok.nl/brt/achtergrondkaart/wmts/v2_0/grijs/EPSG:3857/{z}/{x}/{y}.png"
      }
     },
     "3ca61c34bada43b6930174c61ea4782b": {
      "model_module": "@jupyter-widgets/base",
      "model_module_version": "1.2.0",
      "model_name": "LayoutModel",
      "state": {}
     },
     "3cc8923b7db74ea49125b6692f515512": {
      "model_module": "jupyter-leaflet",
      "model_module_version": "^0.17.0",
      "model_name": "LeafletScaleControlModel",
      "state": {
       "_model_module_version": "^0.17.0",
       "_view_module_version": "^0.17.0",
       "imperial": true,
       "max_width": 100,
       "metric": true,
       "options": [
        "imperial",
        "max_width",
        "metric",
        "position",
        "update_when_idle"
       ],
       "position": "bottomleft",
       "update_when_idle": false
      }
     },
     "3d93de4c2e154c3690610d4ad0281eae": {
      "model_module": "jupyter-leaflet",
      "model_module_version": "^0.17.0",
      "model_name": "LeafletTileLayerModel",
      "state": {
       "_model_module_version": "^0.17.0",
       "_view_module_version": "^0.17.0",
       "attribution": "Tiles (C) Esri -- Source: Esri, DeLorme, NAVTEQ, USGS, Intermap, iPC, NRCAN, Esri Japan, METI, Esri China (Hong Kong), Esri (Thailand), TomTom, 2012",
       "max_zoom": 22,
       "name": "Esri.WorldStreetMap",
       "options": [
        "attribution",
        "bounds",
        "detect_retina",
        "max_native_zoom",
        "max_zoom",
        "min_native_zoom",
        "min_zoom",
        "no_wrap",
        "tile_size",
        "tms"
       ],
       "url": "https://server.arcgisonline.com/ArcGIS/rest/services/World_Street_Map/MapServer/tile/{z}/{y}/{x}"
      }
     },
     "403d40ded8f348da81cf3f4bf918a34a": {
      "model_module": "jupyter-leaflet",
      "model_module_version": "^0.17.0",
      "model_name": "LeafletTileLayerModel",
      "state": {
       "_model_module_version": "^0.17.0",
       "_view_module_version": "^0.17.0",
       "attribution": "Datenquelle: basemap.at",
       "max_zoom": 20,
       "name": "BasemapAT.basemap",
       "options": [
        "attribution",
        "bounds",
        "detect_retina",
        "max_native_zoom",
        "max_zoom",
        "min_native_zoom",
        "min_zoom",
        "no_wrap",
        "tile_size",
        "tms"
       ],
       "url": "https://maps.wien.gv.at/basemap/geolandbasemap/normal/google3857/{z}/{y}/{x}.png"
      }
     },
     "4102682180cd4ee0bdb08970b345fa16": {
      "model_module": "@jupyter-widgets/base",
      "model_module_version": "1.2.0",
      "model_name": "LayoutModel",
      "state": {}
     },
     "416db4679f8e4bb2afa35a9fef59163b": {
      "model_module": "jupyter-leaflet",
      "model_module_version": "^0.17.0",
      "model_name": "LeafletWMSLayerModel",
      "state": {
       "_model_module_version": "^0.17.0",
       "_view_module_version": "^0.17.0",
       "attribution": "FWS",
       "crs": {
        "custom": false,
        "name": "EPSG3857"
       },
       "format": "image/png",
       "layers": "0",
       "name": "FWS NWI Wetlands Raster",
       "options": [
        "attribution",
        "bounds",
        "detect_retina",
        "format",
        "layers",
        "max_native_zoom",
        "max_zoom",
        "min_native_zoom",
        "min_zoom",
        "no_wrap",
        "styles",
        "tile_size",
        "tms",
        "transparent",
        "uppercase"
       ],
       "transparent": true,
       "url": "https://www.fws.gov/wetlands/arcgis/services/Wetlands_Raster/ImageServer/WMSServer?"
      }
     },
     "4195b4fa57ef45378ed14d047e75dfcc": {
      "model_module": "@jupyter-widgets/base",
      "model_module_version": "1.2.0",
      "model_name": "LayoutModel",
      "state": {}
     },
     "430246dc50df4cb7af4a1219154168b1": {
      "model_module": "jupyter-leaflet",
      "model_module_version": "^0.17.0",
      "model_name": "LeafletTileLayerModel",
      "state": {
       "_model_module_version": "^0.17.0",
       "_view_module_version": "^0.17.0",
       "attribution": "Tiles (C) Esri -- Esri, DeLorme, NAVTEQ, TomTom, Intermap, iPC, USGS, FAO, NPS, NRCAN, GeoBase, Kadaster NL, Ordnance Survey, Esri Japan, METI, Esri China (Hong Kong), and the GIS User Community",
       "max_zoom": 22,
       "name": "Esri.WorldTopoMap",
       "options": [
        "attribution",
        "bounds",
        "detect_retina",
        "max_native_zoom",
        "max_zoom",
        "min_native_zoom",
        "min_zoom",
        "no_wrap",
        "tile_size",
        "tms"
       ],
       "url": "https://server.arcgisonline.com/ArcGIS/rest/services/World_Topo_Map/MapServer/tile/{z}/{y}/{x}"
      }
     },
     "44ebb2272bad4deb934558c93b04b018": {
      "model_module": "jupyter-leaflet",
      "model_module_version": "^0.17.0",
      "model_name": "LeafletTileLayerModel",
      "state": {
       "_model_module_version": "^0.17.0",
       "_view_module_version": "^0.17.0",
       "attribution": "Map data: (C) OpenStreetMap contributors | Map style: (C) waymarkedtrails.org (CC-BY-SA)",
       "name": "WaymarkedTrails.riding",
       "options": [
        "attribution",
        "bounds",
        "detect_retina",
        "max_native_zoom",
        "max_zoom",
        "min_native_zoom",
        "min_zoom",
        "no_wrap",
        "tile_size",
        "tms"
       ],
       "url": "https://tile.waymarkedtrails.org/riding/{z}/{x}/{y}.png"
      }
     },
     "4582645e9f0c4c67a4bbc9395ea75995": {
      "model_module": "jupyter-leaflet",
      "model_module_version": "^0.17.0",
      "model_name": "LeafletTileLayerModel",
      "state": {
       "_model_module_version": "^0.17.0",
       "_view_module_version": "^0.17.0",
       "attribution": "Map tiles by <a href=\"https://labs.strava.com/heatmap\">Strava 2021</a>",
       "max_zoom": 15,
       "name": "Strava.Ride",
       "options": [
        "attribution",
        "bounds",
        "detect_retina",
        "max_native_zoom",
        "max_zoom",
        "min_native_zoom",
        "min_zoom",
        "no_wrap",
        "tile_size",
        "tms"
       ],
       "url": "https://heatmap-external-a.strava.com/tiles/ride/hot/{z}/{x}/{y}.png"
      }
     },
     "4650eea8becd420bae29702f9ab87f22": {
      "model_module": "jupyter-leaflet",
      "model_module_version": "^0.17.0",
      "model_name": "LeafletTileLayerModel",
      "state": {
       "_model_module_version": "^0.17.0",
       "_view_module_version": "^0.17.0",
       "attribution": "![](https://docs.onemap.sg/maps/images/oneMap64-01.png) New OneMap | Map data (C) contributors, Singapore Land Authority",
       "name": "OneMapSG.Original",
       "options": [
        "attribution",
        "bounds",
        "detect_retina",
        "max_native_zoom",
        "max_zoom",
        "min_native_zoom",
        "min_zoom",
        "no_wrap",
        "tile_size",
        "tms"
       ],
       "url": "https://maps-a.onemap.sg/v3/Original/{z}/{x}/{y}.png"
      }
     },
     "4659852b03d844d7b5283b71e38b59e5": {
      "model_module": "jupyter-leaflet",
      "model_module_version": "^0.17.0",
      "model_name": "LeafletTileLayerModel",
      "state": {
       "_model_module_version": "^0.17.0",
       "_view_module_version": "^0.17.0",
       "attribution": "Map tiles by Stamen Design, CC BY 3.0 -- Map data (C) OpenStreetMap contributors",
       "max_zoom": 20,
       "name": "Stamen.TopOSMRelief",
       "options": [
        "attribution",
        "bounds",
        "detect_retina",
        "max_native_zoom",
        "max_zoom",
        "min_native_zoom",
        "min_zoom",
        "no_wrap",
        "tile_size",
        "tms"
       ],
       "url": "https://stamen-tiles-a.a.ssl.fastly.net/toposm-color-relief/{z}/{x}/{y}.jpg"
      }
     },
     "466c9be2a513400fb90b52f020628f92": {
      "model_module": "jupyter-leaflet",
      "model_module_version": "^0.17.0",
      "model_name": "LeafletTileLayerModel",
      "state": {
       "_model_module_version": "^0.17.0",
       "_view_module_version": "^0.17.0",
       "attribution": "Imagery provided by services from the Global Imagery Browse Services (GIBS), operated by the NASA/GSFC/Earth Science Data and Information System (ESDIS) with funding provided by NASA/HQ.",
       "max_zoom": 7,
       "name": "NASAGIBS.ModisTerraLSTDay",
       "options": [
        "attribution",
        "bounds",
        "detect_retina",
        "max_native_zoom",
        "max_zoom",
        "min_native_zoom",
        "min_zoom",
        "no_wrap",
        "tile_size",
        "tms"
       ],
       "url": "https://map1.vis.earthdata.nasa.gov/wmts-webmerc/MODIS_Terra_Land_Surface_Temp_Day/default//GoogleMapsCompatible_Level7/{z}/{y}/{x}.png"
      }
     },
     "47f0f5ddf869499aa9038d1673529444": {
      "model_module": "@jupyter-widgets/controls",
      "model_module_version": "1.5.0",
      "model_name": "ToggleButtonModel",
      "state": {
       "button_style": "primary",
       "icon": "address-book",
       "layout": "IPY_MODEL_1ad907870d644667bd79656624403269",
       "style": "IPY_MODEL_f9c3a2f8711549f7883d5d22b19a4d37",
       "tooltip": "Get US Census data"
      }
     },
     "49042d92dbc3440696eda853a730830b": {
      "model_module": "@jupyter-widgets/base",
      "model_module_version": "1.2.0",
      "model_name": "LayoutModel",
      "state": {}
     },
     "49176af351214bb2a81993d0681144cc": {
      "model_module": "jupyter-leaflet",
      "model_module_version": "^0.17.0",
      "model_name": "LeafletTileLayerModel",
      "state": {
       "_model_module_version": "^0.17.0",
       "_view_module_version": "^0.17.0",
       "attribution": "Tiles &copy; Esri &mdash; Esri, DeLorme, NAVTEQ, TomTom, Intermap, iPC, USGS, FAO, NPS, NRCAN, GeoBase, Kadaster NL, Ordnance Survey, Esri Japan, METI, Esri China (Hong Kong), and the GIS User Community",
       "max_zoom": 24,
       "name": "Esri.ArcticOceanReference",
       "options": [
        "attribution",
        "bounds",
        "detect_retina",
        "max_native_zoom",
        "max_zoom",
        "min_native_zoom",
        "min_zoom",
        "no_wrap",
        "tile_size",
        "tms"
       ],
       "url": "http://server.arcgisonline.com/ArcGIS/rest/services/Polar/Arctic_Ocean_Reference/MapServer/tile/{z}/{y}/{x}"
      }
     },
     "4990684edbc145b083057a3c17235244": {
      "model_module": "jupyter-leaflet",
      "model_module_version": "^0.17.0",
      "model_name": "LeafletTileLayerModel",
      "state": {
       "_model_module_version": "^0.17.0",
       "_view_module_version": "^0.17.0",
       "attribution": "Map tiles by Stamen Design, CC BY 3.0 -- Map data (C) OpenStreetMap contributors",
       "max_zoom": 20,
       "name": "Stamen.TopOSMFeatures",
       "options": [
        "attribution",
        "bounds",
        "detect_retina",
        "max_native_zoom",
        "max_zoom",
        "min_native_zoom",
        "min_zoom",
        "no_wrap",
        "tile_size",
        "tms"
       ],
       "url": "https://stamen-tiles-a.a.ssl.fastly.net/toposm-features/{z}/{x}/{y}.png"
      }
     },
     "4a25145e56364e9a8ced5d85f68f7a58": {
      "model_module": "jupyter-leaflet",
      "model_module_version": "^0.17.0",
      "model_name": "LeafletTileLayerModel",
      "state": {
       "_model_module_version": "^0.17.0",
       "_view_module_version": "^0.17.0",
       "attribution": "Justice Map",
       "max_zoom": 22,
       "name": "JusticeMap.asian",
       "options": [
        "attribution",
        "bounds",
        "detect_retina",
        "max_native_zoom",
        "max_zoom",
        "min_native_zoom",
        "min_zoom",
        "no_wrap",
        "tile_size",
        "tms"
       ],
       "url": "https://www.justicemap.org/tile/county/asian/{z}/{x}/{y}.png"
      }
     },
     "4b220587bfed461ba75cf1646b14837c": {
      "model_module": "@jupyter-widgets/base",
      "model_module_version": "1.2.0",
      "model_name": "LayoutModel",
      "state": {}
     },
     "4b4c09e8c3af46b1ba8fe5e1a1bb67a2": {
      "model_module": "@jupyter-widgets/base",
      "model_module_version": "1.2.0",
      "model_name": "LayoutModel",
      "state": {
       "height": "auto",
       "padding": "0px 0px 0px 4px",
       "width": "auto"
      }
     },
     "4beda955d4e24d4f96e45b1a8e0e1f43": {
      "model_module": "jupyter-leaflet",
      "model_module_version": "^0.17.0",
      "model_name": "LeafletTileLayerModel",
      "state": {
       "_model_module_version": "^0.17.0",
       "_view_module_version": "^0.17.0",
       "attribution": "Kaartgegevens (C) Kadaster",
       "max_zoom": 19,
       "name": "nlmaps.water",
       "options": [
        "attribution",
        "bounds",
        "detect_retina",
        "max_native_zoom",
        "max_zoom",
        "min_native_zoom",
        "min_zoom",
        "no_wrap",
        "tile_size",
        "tms"
       ],
       "url": "https://service.pdok.nl/brt/achtergrondkaart/wmts/v2_0/water/EPSG:3857/{z}/{x}/{y}.png"
      }
     },
     "4c4e01ebdf94489a92de912040e9f0d1": {
      "model_module": "jupyter-leaflet",
      "model_module_version": "^0.17.0",
      "model_name": "LeafletTileLayerModel",
      "state": {
       "_model_module_version": "^0.17.0",
       "_view_module_version": "^0.17.0",
       "attribution": "Map data: (C) OpenStreetMap contributors | Map style: (C) OpenFireMap (CC-BY-SA)",
       "max_zoom": 19,
       "name": "OpenFireMap",
       "options": [
        "attribution",
        "bounds",
        "detect_retina",
        "max_native_zoom",
        "max_zoom",
        "min_native_zoom",
        "min_zoom",
        "no_wrap",
        "tile_size",
        "tms"
       ],
       "url": "http://openfiremap.org/hytiles/{z}/{x}/{y}.png"
      }
     },
     "4c5c7799aaa2431d88469f0db2b0279e": {
      "model_module": "jupyter-leaflet",
      "model_module_version": "^0.17.0",
      "model_name": "LeafletTileLayerModel",
      "state": {
       "_model_module_version": "^0.17.0",
       "_view_module_version": "^0.17.0",
       "attribution": "Map data: (C) OpenStreetMap contributors | Map style: (C) SafeCast (CC-BY-SA)",
       "max_zoom": 16,
       "name": "SafeCast",
       "options": [
        "attribution",
        "bounds",
        "detect_retina",
        "max_native_zoom",
        "max_zoom",
        "min_native_zoom",
        "min_zoom",
        "no_wrap",
        "tile_size",
        "tms"
       ],
       "url": "https://s3.amazonaws.com/te512.safecast.org/{z}/{x}/{y}.png"
      }
     },
     "4c79f27fe2c04d82bb8a8e10fb34d466": {
      "model_module": "jupyter-leaflet",
      "model_module_version": "^0.17.0",
      "model_name": "LeafletTileLayerModel",
      "state": {
       "_model_module_version": "^0.17.0",
       "_view_module_version": "^0.17.0",
       "attribution": "Map tiles by <a href=\"https://labs.strava.com/heatmap\">Strava 2021</a>",
       "max_zoom": 15,
       "name": "Strava.All",
       "options": [
        "attribution",
        "bounds",
        "detect_retina",
        "max_native_zoom",
        "max_zoom",
        "min_native_zoom",
        "min_zoom",
        "no_wrap",
        "tile_size",
        "tms"
       ],
       "url": "https://heatmap-external-a.strava.com/tiles/all/hot/{z}/{x}/{y}.png"
      }
     },
     "4cc854f376d442b7bb4488b2b6691e66": {
      "model_module": "jupyter-leaflet",
      "model_module_version": "^0.17.0",
      "model_name": "LeafletTileLayerModel",
      "state": {
       "_model_module_version": "^0.17.0",
       "_view_module_version": "^0.17.0",
       "attribution": "Imagery provided by services from the Global Imagery Browse Services (GIBS), operated by the NASA/GSFC/Earth Science Data and Information System (ESDIS) with funding provided by NASA/HQ.",
       "max_zoom": 9,
       "name": "NASAGIBS.ModisTerraTrueColorCR",
       "options": [
        "attribution",
        "bounds",
        "detect_retina",
        "max_native_zoom",
        "max_zoom",
        "min_native_zoom",
        "min_zoom",
        "no_wrap",
        "tile_size",
        "tms"
       ],
       "url": "https://map1.vis.earthdata.nasa.gov/wmts-webmerc/MODIS_Terra_CorrectedReflectance_TrueColor/default//GoogleMapsCompatible_Level9/{z}/{y}/{x}.jpg"
      }
     },
     "4dbf1f3ee3a9430d85b5d9c9b77daae4": {
      "model_module": "jupyter-leaflet",
      "model_module_version": "^0.17.0",
      "model_name": "LeafletTileLayerModel",
      "state": {
       "_model_module_version": "^0.17.0",
       "_view_module_version": "^0.17.0",
       "attribution": "![](https://docs.onemap.sg/maps/images/oneMap64-01.png) New OneMap | Map data (C) contributors, Singapore Land Authority",
       "name": "OneMapSG.LandLot",
       "options": [
        "attribution",
        "bounds",
        "detect_retina",
        "max_native_zoom",
        "max_zoom",
        "min_native_zoom",
        "min_zoom",
        "no_wrap",
        "tile_size",
        "tms"
       ],
       "url": "https://maps-a.onemap.sg/v3/LandLot/{z}/{x}/{y}.png"
      }
     },
     "4e3f4f589ab8423a841fe19e901f421a": {
      "model_module": "@jupyter-widgets/base",
      "model_module_version": "1.2.0",
      "model_name": "LayoutModel",
      "state": {
       "height": "auto",
       "padding": "0px 0px 0px 4px",
       "width": "auto"
      }
     },
     "4fde22bd12c34274a579c4865a989c61": {
      "model_module": "jupyter-leaflet",
      "model_module_version": "^0.17.0",
      "model_name": "LeafletTileLayerModel",
      "state": {
       "_model_module_version": "^0.17.0",
       "_view_module_version": "^0.17.0",
       "attribution": "Kaartgegevens (C) Kadaster",
       "max_zoom": 19,
       "name": "nlmaps.pastel",
       "options": [
        "attribution",
        "bounds",
        "detect_retina",
        "max_native_zoom",
        "max_zoom",
        "min_native_zoom",
        "min_zoom",
        "no_wrap",
        "tile_size",
        "tms"
       ],
       "url": "https://service.pdok.nl/brt/achtergrondkaart/wmts/v2_0/pastel/EPSG:3857/{z}/{x}/{y}.png"
      }
     },
     "5038217c5c7f48528eb36f164710049a": {
      "model_module": "jupyter-leaflet",
      "model_module_version": "^0.17.0",
      "model_name": "LeafletMapStyleModel",
      "state": {
       "_model_module_version": "^0.17.0",
       "cursor": "wait"
      }
     },
     "5069f4015b434c15a62f45821216f412": {
      "model_module": "@jupyter-widgets/base",
      "model_module_version": "1.2.0",
      "model_name": "LayoutModel",
      "state": {
       "margin": "0px 5px 0px 0px"
      }
     },
     "507a60d9d8f84f40b6b005999de449d9": {
      "model_module": "jupyter-leaflet",
      "model_module_version": "^0.17.0",
      "model_name": "LeafletTileLayerModel",
      "state": {
       "_model_module_version": "^0.17.0",
       "_view_module_version": "^0.17.0",
       "attribution": "Map tiles by Stamen Design, CC BY 3.0 -- Map data (C) OpenStreetMap contributors",
       "max_zoom": 20,
       "name": "Stamen.TonerLines",
       "options": [
        "attribution",
        "bounds",
        "detect_retina",
        "max_native_zoom",
        "max_zoom",
        "min_native_zoom",
        "min_zoom",
        "no_wrap",
        "tile_size",
        "tms"
       ],
       "url": "https://stamen-tiles-a.a.ssl.fastly.net/toner-lines/{z}/{x}/{y}.png"
      }
     },
     "510a4e64f81747dbb6c8520e89a659be": {
      "model_module": "jupyter-leaflet",
      "model_module_version": "^0.17.0",
      "model_name": "LeafletTileLayerModel",
      "state": {
       "_model_module_version": "^0.17.0",
       "_view_module_version": "^0.17.0",
       "attribution": "Imagery provided by services from the Global Imagery Browse Services (GIBS), operated by the NASA/GSFC/Earth Science Data and Information System (ESDIS) with funding provided by NASA/HQ.",
       "max_zoom": 9,
       "name": "NASAGIBS.ModisAquaBands721CR",
       "options": [
        "attribution",
        "bounds",
        "detect_retina",
        "max_native_zoom",
        "max_zoom",
        "min_native_zoom",
        "min_zoom",
        "no_wrap",
        "tile_size",
        "tms"
       ],
       "url": "https://gibs.earthdata.nasa.gov/wmts/epsg3857/best/MODIS_Aqua_CorrectedReflectance_Bands721/default//GoogleMapsCompatible_Level9/{z}/{y}/{x}.jpg"
      }
     },
     "51b47863cc9c4988ba7b9ebab850f3ac": {
      "model_module": "jupyter-leaflet",
      "model_module_version": "^0.17.0",
      "model_name": "LeafletTileLayerModel",
      "state": {
       "_model_module_version": "^0.17.0",
       "_view_module_version": "^0.17.0",
       "attribution": "OpenStreetMap",
       "max_zoom": 22,
       "name": "OpenStreetMap",
       "options": [
        "attribution",
        "bounds",
        "detect_retina",
        "max_native_zoom",
        "max_zoom",
        "min_native_zoom",
        "min_zoom",
        "no_wrap",
        "tile_size",
        "tms"
       ]
      }
     },
     "51c2f87c5cdb4e6fa76b1719ebab6fa6": {
      "model_module": "@jupyter-widgets/base",
      "model_module_version": "1.2.0",
      "model_name": "LayoutModel",
      "state": {}
     },
     "5205fac982394a5181fd8b2e3a027baf": {
      "model_module": "jupyter-leaflet",
      "model_module_version": "^0.17.0",
      "model_name": "LeafletTileLayerModel",
      "state": {
       "_model_module_version": "^0.17.0",
       "_view_module_version": "^0.17.0",
       "attribution": "Map tiles by Stamen Design, CC BY 3.0 -- Map data (C) OpenStreetMap contributors",
       "max_zoom": 20,
       "name": "Stamen.TonerLite",
       "options": [
        "attribution",
        "bounds",
        "detect_retina",
        "max_native_zoom",
        "max_zoom",
        "min_native_zoom",
        "min_zoom",
        "no_wrap",
        "tile_size",
        "tms"
       ],
       "url": "https://stamen-tiles-a.a.ssl.fastly.net/toner-lite/{z}/{x}/{y}.png"
      }
     },
     "521aa72967984f35a21abb678ce9ec9b": {
      "model_module": "jupyter-leaflet",
      "model_module_version": "^0.17.0",
      "model_name": "LeafletWMSLayerModel",
      "state": {
       "_model_module_version": "^0.17.0",
       "_view_module_version": "^0.17.0",
       "attribution": "USGS",
       "crs": {
        "custom": false,
        "name": "EPSG3857"
       },
       "format": "image/png",
       "layers": "USGSNAIPImagery:NDVI_Color",
       "name": "USGS NAIP Imagery NDVI",
       "options": [
        "attribution",
        "bounds",
        "detect_retina",
        "format",
        "layers",
        "max_native_zoom",
        "max_zoom",
        "min_native_zoom",
        "min_zoom",
        "no_wrap",
        "styles",
        "tile_size",
        "tms",
        "transparent",
        "uppercase"
       ],
       "transparent": true,
       "url": "https://imagery.nationalmap.gov/arcgis/services/USGSNAIPImagery/ImageServer/WMSServer?"
      }
     },
     "525169b732b44e4c857d9b5b7aa04bf2": {
      "model_module": "jupyter-leaflet",
      "model_module_version": "^0.17.0",
      "model_name": "LeafletTileLayerModel",
      "state": {
       "_model_module_version": "^0.17.0",
       "_view_module_version": "^0.17.0",
       "attribution": "Map tiles by Stamen Design, CC BY 3.0 -- Map data (C) OpenStreetMap contributors",
       "max_zoom": 16,
       "name": "Stamen.Watercolor",
       "options": [
        "attribution",
        "bounds",
        "detect_retina",
        "max_native_zoom",
        "max_zoom",
        "min_native_zoom",
        "min_zoom",
        "no_wrap",
        "tile_size",
        "tms"
       ],
       "url": "https://stamen-tiles-a.a.ssl.fastly.net/watercolor/{z}/{x}/{y}.jpg"
      }
     },
     "529d51791c0f4d3295b3c14f490dba4d": {
      "model_module": "@jupyter-widgets/controls",
      "model_module_version": "1.5.0",
      "model_name": "DescriptionStyleModel",
      "state": {
       "description_width": ""
      }
     },
     "52da2e913d5443f8bb0c12825146c265": {
      "model_module": "@jupyter-widgets/controls",
      "model_module_version": "1.5.0",
      "model_name": "DescriptionStyleModel",
      "state": {
       "description_width": ""
      }
     },
     "53353ecbd2774a38926f1f0ee6328a6c": {
      "model_module": "@jupyter-widgets/controls",
      "model_module_version": "1.5.0",
      "model_name": "GridBoxModel",
      "state": {
       "children": [
        "IPY_MODEL_865554202d194ffdbab4f69d18abca66",
        "IPY_MODEL_c532ad6200be40d79ea5e0f17b8c9421",
        "IPY_MODEL_76c516744d0b471cb11c2d0280aafe92",
        "IPY_MODEL_d02e6cdabd72456fa7c5df2e3876c9df",
        "IPY_MODEL_d93b0de68e2e44e9a4dd10d57232274f",
        "IPY_MODEL_8bf4a81227664bcb89baa3197ad34571",
        "IPY_MODEL_07fa9bd9ea914b84bd42eaed9257895e",
        "IPY_MODEL_67615a79d73143f894c60b02a38ec33e",
        "IPY_MODEL_47f0f5ddf869499aa9038d1673529444",
        "IPY_MODEL_c493efdffc534bb8b3f95cdda1779aee",
        "IPY_MODEL_6986a8d269c340d29e5155b3cd45a8ae",
        "IPY_MODEL_fb637fbc1d5d4d02999a7e0bf70da920",
        "IPY_MODEL_5ce039adcbdc4c01bd64120e11bf9ae5",
        "IPY_MODEL_a6433e47095944ffbf9523813be8a60d",
        "IPY_MODEL_735aef3b888345b68820389afcf4ef09",
        "IPY_MODEL_7376603c94864980a963fdb45f84a730",
        "IPY_MODEL_a2cfc05e62074ebcb073082d2ac9faca",
        "IPY_MODEL_a6efc1f8e3e84fbf8a4e2c274e98c2c3"
       ],
       "layout": "IPY_MODEL_ad2bb8532fed4645bf0a22b9015521a7"
      }
     },
     "53540788b4f4436bb0384e7291d810a7": {
      "model_module": "jupyter-leaflet",
      "model_module_version": "^0.17.0",
      "model_name": "LeafletTileLayerModel",
      "state": {
       "_model_module_version": "^0.17.0",
       "_view_module_version": "^0.17.0",
       "attribution": "(C) OpenStreetMap contributors (C) CARTO",
       "max_zoom": 20,
       "name": "CartoDB.PositronOnlyLabels",
       "options": [
        "attribution",
        "bounds",
        "detect_retina",
        "max_native_zoom",
        "max_zoom",
        "min_native_zoom",
        "min_zoom",
        "no_wrap",
        "tile_size",
        "tms"
       ],
       "url": "https://a.basemaps.cartocdn.com/light_only_labels/{z}/{x}/{y}.png"
      }
     },
     "53fef379313745f686bf167ffa6fee0a": {
      "model_module": "jupyter-leaflet",
      "model_module_version": "^0.17.0",
      "model_name": "LeafletTileLayerModel",
      "state": {
       "_model_module_version": "^0.17.0",
       "_view_module_version": "^0.17.0",
       "attribution": "Tiles courtesy of the U.S. Geological Survey",
       "max_zoom": 20,
       "name": "USGS.USImagery",
       "options": [
        "attribution",
        "bounds",
        "detect_retina",
        "max_native_zoom",
        "max_zoom",
        "min_native_zoom",
        "min_zoom",
        "no_wrap",
        "tile_size",
        "tms"
       ],
       "url": "https://basemap.nationalmap.gov/arcgis/rest/services/USGSImageryOnly/MapServer/tile/{z}/{y}/{x}"
      }
     },
     "548024609db84d589cbfe6ef2f32e898": {
      "model_module": "jupyter-leaflet",
      "model_module_version": "^0.17.0",
      "model_name": "LeafletTileLayerModel",
      "state": {
       "_model_module_version": "^0.17.0",
       "_view_module_version": "^0.17.0",
       "attribution": "Justice Map",
       "max_zoom": 22,
       "name": "JusticeMap.income",
       "options": [
        "attribution",
        "bounds",
        "detect_retina",
        "max_native_zoom",
        "max_zoom",
        "min_native_zoom",
        "min_zoom",
        "no_wrap",
        "tile_size",
        "tms"
       ],
       "url": "https://www.justicemap.org/tile/county/income/{z}/{x}/{y}.png"
      }
     },
     "553e02d94fcc4c80941605b9149d953e": {
      "model_module": "@jupyter-widgets/controls",
      "model_module_version": "1.5.0",
      "model_name": "DescriptionStyleModel",
      "state": {
       "description_width": ""
      }
     },
     "55ded5b7109349d6a683e281b8f2c4e7": {
      "model_module": "jupyter-leaflet",
      "model_module_version": "^0.17.0",
      "model_name": "LeafletTileLayerModel",
      "state": {
       "_model_module_version": "^0.17.0",
       "_view_module_version": "^0.17.0",
       "attribution": "Justice Map",
       "max_zoom": 22,
       "name": "JusticeMap.plurality",
       "options": [
        "attribution",
        "bounds",
        "detect_retina",
        "max_native_zoom",
        "max_zoom",
        "min_native_zoom",
        "min_zoom",
        "no_wrap",
        "tile_size",
        "tms"
       ],
       "url": "https://www.justicemap.org/tile/county/plural/{z}/{x}/{y}.png"
      }
     },
     "5633f9fbf1424151b36e0643a37760ff": {
      "model_module": "jupyter-leaflet",
      "model_module_version": "^0.17.0",
      "model_name": "LeafletTileLayerModel",
      "state": {
       "_model_module_version": "^0.17.0",
       "_view_module_version": "^0.17.0",
       "attribution": "Tiles (C) Esri -- Esri, DeLorme, NAVTEQ",
       "max_zoom": 16,
       "name": "Esri.WorldGrayCanvas",
       "options": [
        "attribution",
        "bounds",
        "detect_retina",
        "max_native_zoom",
        "max_zoom",
        "min_native_zoom",
        "min_zoom",
        "no_wrap",
        "tile_size",
        "tms"
       ],
       "url": "https://server.arcgisonline.com/ArcGIS/rest/services/Canvas/World_Light_Gray_Base/MapServer/tile/{z}/{y}/{x}"
      }
     },
     "57b87ce47fc04bd9a036558a7afe5f17": {
      "model_module": "@jupyter-widgets/base",
      "model_module_version": "1.2.0",
      "model_name": "LayoutModel",
      "state": {
       "border": "1px solid black"
      }
     },
     "57ce8b632b20404bb6ffb4f71c731127": {
      "model_module": "@jupyter-widgets/base",
      "model_module_version": "1.2.0",
      "model_name": "LayoutModel",
      "state": {
       "width": "500px"
      }
     },
     "589d3c6487c342aca3c1acc6d910d313": {
      "model_module": "@jupyter-widgets/controls",
      "model_module_version": "1.5.0",
      "model_name": "DescriptionStyleModel",
      "state": {
       "description_width": ""
      }
     },
     "590fd5ea715e406593282a2c42a9ed42": {
      "model_module": "@jupyter-widgets/controls",
      "model_module_version": "1.5.0",
      "model_name": "HBoxModel",
      "state": {
       "children": [
        "IPY_MODEL_91646c7186ff4dce91c13e699c2cead2"
       ],
       "layout": "IPY_MODEL_3aa14c3bced34d379dee7dc480519058"
      }
     },
     "59d64cb79b6b416ca2227731b1e63ab3": {
      "model_module": "jupyter-leaflet",
      "model_module_version": "^0.17.0",
      "model_name": "LeafletWMSLayerModel",
      "state": {
       "_model_module_version": "^0.17.0",
       "_view_module_version": "^0.17.0",
       "attribution": "USGS",
       "crs": {
        "custom": false,
        "name": "EPSG3857"
       },
       "format": "image/png",
       "layers": "USGSNAIPImagery:NaturalColor",
       "name": "USGS NAIP Imagery",
       "options": [
        "attribution",
        "bounds",
        "detect_retina",
        "format",
        "layers",
        "max_native_zoom",
        "max_zoom",
        "min_native_zoom",
        "min_zoom",
        "no_wrap",
        "styles",
        "tile_size",
        "tms",
        "transparent",
        "uppercase"
       ],
       "transparent": true,
       "url": "https://imagery.nationalmap.gov/arcgis/services/USGSNAIPImagery/ImageServer/WMSServer?"
      }
     },
     "59e21244f3924baea5183a902f624867": {
      "model_module": "jupyter-leaflet",
      "model_module_version": "^0.17.0",
      "model_name": "LeafletTileLayerModel",
      "state": {
       "_model_module_version": "^0.17.0",
       "_view_module_version": "^0.17.0",
       "attribution": "© swisstopo",
       "max_zoom": 19,
       "name": "SwissFederalGeoportal.SWISSIMAGE",
       "options": [
        "attribution",
        "bounds",
        "detect_retina",
        "max_native_zoom",
        "max_zoom",
        "min_native_zoom",
        "min_zoom",
        "no_wrap",
        "tile_size",
        "tms"
       ],
       "url": "https://wmts.geo.admin.ch/1.0.0/ch.swisstopo.swissimage/default/current/3857/{z}/{x}/{y}.jpeg"
      }
     },
     "5a2f7b955e354ea690952b8671b70269": {
      "model_module": "jupyter-leaflet",
      "model_module_version": "^0.17.0",
      "model_name": "LeafletTileLayerModel",
      "state": {
       "_model_module_version": "^0.17.0",
       "_view_module_version": "^0.17.0",
       "attribution": "Map tiles by <a href=\"https://labs.strava.com/heatmap\">Strava 2021</a>",
       "max_zoom": 15,
       "name": "Strava.Water",
       "options": [
        "attribution",
        "bounds",
        "detect_retina",
        "max_native_zoom",
        "max_zoom",
        "min_native_zoom",
        "min_zoom",
        "no_wrap",
        "tile_size",
        "tms"
       ],
       "url": "https://heatmap-external-a.strava.com/tiles/water/blue/{z}/{x}/{y}.png"
      }
     },
     "5a9d7cbb009242da9d74a95c318f9a69": {
      "model_module": "@jupyter-widgets/controls",
      "model_module_version": "1.5.0",
      "model_name": "ButtonModel",
      "state": {
       "description": "Remove transects",
       "layout": "IPY_MODEL_36a626f1e35e49ff9b6879a8a4fec57d",
       "style": "IPY_MODEL_7bf0b71d21d54221a1912af961490ad0"
      }
     },
     "5b01b2dc0d904195aea9a6a5e8f6c803": {
      "model_module": "jupyter-leaflet",
      "model_module_version": "^0.17.0",
      "model_name": "LeafletWMSLayerModel",
      "state": {
       "_model_module_version": "^0.17.0",
       "_view_module_version": "^0.17.0",
       "attribution": "MRLC",
       "crs": {
        "custom": false,
        "name": "EPSG3857"
       },
       "format": "image/png",
       "layers": "NLCD_2019_Land_Cover_L48",
       "name": "NLCD 2019 CONUS Land Cover",
       "options": [
        "attribution",
        "bounds",
        "detect_retina",
        "format",
        "layers",
        "max_native_zoom",
        "max_zoom",
        "min_native_zoom",
        "min_zoom",
        "no_wrap",
        "styles",
        "tile_size",
        "tms",
        "transparent",
        "uppercase"
       ],
       "transparent": true,
       "url": "https://www.mrlc.gov/geoserver/mrlc_display/NLCD_2019_Land_Cover_L48/wms?"
      }
     },
     "5b3163ed099d4d9bbb29f0987c60ca16": {
      "model_module": "@jupyter-widgets/controls",
      "model_module_version": "1.5.0",
      "model_name": "VBoxModel",
      "state": {
       "children": [
        "IPY_MODEL_0244e1cd642e4ddc9731bd8d00551275",
        "IPY_MODEL_79c2afaef6e94338abceaf0cd51a166a"
       ],
       "layout": "IPY_MODEL_c3d142f33345403f8b75f8d715167f45"
      }
     },
     "5be8409ffe724a4f82e5d1d83724a8a5": {
      "model_module": "@jupyter-widgets/base",
      "model_module_version": "1.2.0",
      "model_name": "LayoutModel",
      "state": {}
     },
     "5bf169f2c9ea447cbe512ca1f2c748c8": {
      "model_module": "jupyter-leaflet",
      "model_module_version": "^0.17.0",
      "model_name": "LeafletWMSLayerModel",
      "state": {
       "_model_module_version": "^0.17.0",
       "_view_module_version": "^0.17.0",
       "attribution": "MRLC",
       "crs": {
        "custom": false,
        "name": "EPSG3857"
       },
       "format": "image/png",
       "layers": "NLCD_2006_Land_Cover_L48",
       "name": "NLCD 2006 CONUS Land Cover",
       "options": [
        "attribution",
        "bounds",
        "detect_retina",
        "format",
        "layers",
        "max_native_zoom",
        "max_zoom",
        "min_native_zoom",
        "min_zoom",
        "no_wrap",
        "styles",
        "tile_size",
        "tms",
        "transparent",
        "uppercase"
       ],
       "transparent": true,
       "url": "https://www.mrlc.gov/geoserver/mrlc_display/NLCD_2006_Land_Cover_L48/wms?"
      }
     },
     "5ce039adcbdc4c01bd64120e11bf9ae5": {
      "model_module": "@jupyter-widgets/controls",
      "model_module_version": "1.5.0",
      "model_name": "ToggleButtonModel",
      "state": {
       "button_style": "primary",
       "icon": "picture-o",
       "layout": "IPY_MODEL_1d867455cc9b48b6a434f400654efff5",
       "style": "IPY_MODEL_34cea7c934ff423e8e1563d89212b25a",
       "tooltip": "Open COG/STAC dataset"
      }
     },
     "5d4ac64a5b2a48e1ac6860b7f8427b7c": {
      "model_module": "jupyter-leaflet",
      "model_module_version": "^0.17.0",
      "model_name": "LeafletTileLayerModel",
      "state": {
       "_model_module_version": "^0.17.0",
       "_view_module_version": "^0.17.0",
       "attribution": "(C) OpenStreetMap contributors (C) CARTO",
       "max_zoom": 20,
       "name": "CartoDB.PositronNoLabels",
       "options": [
        "attribution",
        "bounds",
        "detect_retina",
        "max_native_zoom",
        "max_zoom",
        "min_native_zoom",
        "min_zoom",
        "no_wrap",
        "tile_size",
        "tms"
       ],
       "url": "https://a.basemaps.cartocdn.com/light_nolabels/{z}/{x}/{y}.png"
      }
     },
     "5dc2e5ace2194ca3ac55d8ac50028e27": {
      "model_module": "@jupyter-widgets/base",
      "model_module_version": "1.2.0",
      "model_name": "LayoutModel",
      "state": {
       "height": "auto",
       "padding": "0px 0px 0px 4px",
       "width": "auto"
      }
     },
     "5e037a3d069247398f96dbdb51357fc5": {
      "model_module": "jupyter-leaflet",
      "model_module_version": "^0.17.0",
      "model_name": "LeafletTileLayerModel",
      "state": {
       "_model_module_version": "^0.17.0",
       "_view_module_version": "^0.17.0",
       "attribution": "Tiles courtesy of the U.S. Geological Survey",
       "max_zoom": 20,
       "name": "USGS.USImageryTopo",
       "options": [
        "attribution",
        "bounds",
        "detect_retina",
        "max_native_zoom",
        "max_zoom",
        "min_native_zoom",
        "min_zoom",
        "no_wrap",
        "tile_size",
        "tms"
       ],
       "url": "https://basemap.nationalmap.gov/arcgis/rest/services/USGSImageryTopo/MapServer/tile/{z}/{y}/{x}"
      }
     },
     "5f2494371a3e4d37a64023f8630b8b3d": {
      "model_module": "@jupyter-widgets/base",
      "model_module_version": "1.2.0",
      "model_name": "LayoutModel",
      "state": {
       "margin": "0px 0px 0px 5px"
      }
     },
     "5fdc3abcd16c4d8d807cd93f30db3869": {
      "model_module": "@jupyter-widgets/controls",
      "model_module_version": "1.5.0",
      "model_name": "DescriptionStyleModel",
      "state": {
       "description_width": ""
      }
     },
     "60772eeab15c43ec9881a6a4f00934f0": {
      "model_module": "jupyter-leaflet",
      "model_module_version": "^0.17.0",
      "model_name": "LeafletMapStyleModel",
      "state": {
       "_model_module_version": "^0.17.0",
       "cursor": "move"
      }
     },
     "60f63ce67e20457d8bafa0850e29dbb8": {
      "model_module": "@jupyter-widgets/base",
      "model_module_version": "1.2.0",
      "model_name": "LayoutModel",
      "state": {}
     },
     "6195b54a371542b49d620dc88291d72e": {
      "model_module": "jupyter-leaflet",
      "model_module_version": "^0.17.0",
      "model_name": "LeafletTileLayerModel",
      "state": {
       "_model_module_version": "^0.17.0",
       "_view_module_version": "^0.17.0",
       "attribution": "Map tiles by Stamen Design, CC BY 3.0 -- Map data (C) OpenStreetMap contributors",
       "name": "Stamen.Terrain",
       "options": [
        "attribution",
        "bounds",
        "detect_retina",
        "max_native_zoom",
        "max_zoom",
        "min_native_zoom",
        "min_zoom",
        "no_wrap",
        "tile_size",
        "tms"
       ],
       "url": "https://stamen-tiles-a.a.ssl.fastly.net/terrain/{z}/{x}/{y}.png"
      }
     },
     "63525cebff7643738d1e3d4024459975": {
      "model_module": "@jupyter-widgets/controls",
      "model_module_version": "1.5.0",
      "model_name": "ButtonStyleModel",
      "state": {
       "button_color": "#a3adac"
      }
     },
     "639fa333b69242829c608251ab05d6d4": {
      "model_module": "jupyter-leaflet",
      "model_module_version": "^0.17.0",
      "model_name": "LeafletTileLayerModel",
      "state": {
       "_model_module_version": "^0.17.0",
       "_view_module_version": "^0.17.0",
       "attribution": "Map data: (C) OpenStreetMap contributors | Map style: (C) waymarkedtrails.org (CC-BY-SA)",
       "name": "WaymarkedTrails.mtb",
       "options": [
        "attribution",
        "bounds",
        "detect_retina",
        "max_native_zoom",
        "max_zoom",
        "min_native_zoom",
        "min_zoom",
        "no_wrap",
        "tile_size",
        "tms"
       ],
       "url": "https://tile.waymarkedtrails.org/mtb/{z}/{x}/{y}.png"
      }
     },
     "65505766b13448a39adfa3aebc0059f3": {
      "model_module": "jupyter-leaflet",
      "model_module_version": "^0.17.0",
      "model_name": "LeafletTileLayerModel",
      "state": {
       "_model_module_version": "^0.17.0",
       "_view_module_version": "^0.17.0",
       "attribution": "Tiles (C) Esri -- Copyright: (C)2012 DeLorme",
       "max_zoom": 11,
       "name": "Esri.DeLorme",
       "options": [
        "attribution",
        "bounds",
        "detect_retina",
        "max_native_zoom",
        "max_zoom",
        "min_native_zoom",
        "min_zoom",
        "no_wrap",
        "tile_size",
        "tms"
       ],
       "url": "https://server.arcgisonline.com/ArcGIS/rest/services/Specialty/DeLorme_World_Base_Map/MapServer/tile/{z}/{y}/{x}"
      }
     },
     "661ccf84f30f4a73b28623975a43601b": {
      "model_module": "jupyter-leaflet",
      "model_module_version": "^0.17.0",
      "model_name": "LeafletLayersControlModel",
      "state": {
       "_model_module_version": "^0.17.0",
       "_view_module_version": "^0.17.0",
       "options": [
        "position"
       ],
       "position": "topright"
      }
     },
     "669fdb61efa14c61b06a48fa200061a2": {
      "model_module": "jupyter-leaflet",
      "model_module_version": "^0.17.0",
      "model_name": "LeafletTileLayerModel",
      "state": {
       "_model_module_version": "^0.17.0",
       "_view_module_version": "^0.17.0",
       "attribution": "© swisstopo",
       "name": "SwissFederalGeoportal.JourneyThroughTime",
       "options": [
        "attribution",
        "bounds",
        "detect_retina",
        "max_native_zoom",
        "max_zoom",
        "min_native_zoom",
        "min_zoom",
        "no_wrap",
        "tile_size",
        "tms"
       ],
       "url": "https://wmts.geo.admin.ch/1.0.0/ch.swisstopo.zeitreihen/default/18641231/3857/{z}/{x}/{y}.png"
      }
     },
     "67615a79d73143f894c60b02a38ec33e": {
      "model_module": "@jupyter-widgets/controls",
      "model_module_version": "1.5.0",
      "model_name": "ToggleButtonModel",
      "state": {
       "button_style": "primary",
       "icon": "camera",
       "layout": "IPY_MODEL_5dc2e5ace2194ca3ac55d8ac50028e27",
       "style": "IPY_MODEL_553e02d94fcc4c80941605b9149d953e",
       "tooltip": "Save map as HTML or image"
      }
     },
     "67f9035bdb494b18bc473e8bd54a0025": {
      "model_module": "@jupyter-widgets/base",
      "model_module_version": "1.2.0",
      "model_name": "LayoutModel",
      "state": {}
     },
     "68db4ab550cf4048b9f8d42f05265f9d": {
      "model_module": "@jupyter-widgets/controls",
      "model_module_version": "1.5.0",
      "model_name": "HTMLModel",
      "state": {
       "layout": "IPY_MODEL_91c4fe29972747ce808255077c304889",
       "style": "IPY_MODEL_529d51791c0f4d3295b3c14f490dba4d",
       "value": "Hover over the shoreline."
      }
     },
     "692d1ab804e74f3abbe78dce49686248": {
      "model_module": "jupyter-leaflet",
      "model_module_version": "^0.17.0",
      "model_name": "LeafletTileLayerModel",
      "state": {
       "_model_module_version": "^0.17.0",
       "_view_module_version": "^0.17.0",
       "attribution": "(C) Stadia Maps, (C) OpenMapTiles (C) OpenStreetMap contributors",
       "max_zoom": 20,
       "name": "Stadia.Outdoors",
       "options": [
        "attribution",
        "bounds",
        "detect_retina",
        "max_native_zoom",
        "max_zoom",
        "min_native_zoom",
        "min_zoom",
        "no_wrap",
        "tile_size",
        "tms"
       ],
       "url": "https://tiles.stadiamaps.com/tiles/outdoors/{z}/{x}/{y}.png"
      }
     },
     "6986a8d269c340d29e5155b3cd45a8ae": {
      "model_module": "@jupyter-widgets/controls",
      "model_module_version": "1.5.0",
      "model_name": "ToggleButtonModel",
      "state": {
       "button_style": "primary",
       "icon": "search",
       "layout": "IPY_MODEL_29c9fc977bdd46c6a540c8d106118f33",
       "style": "IPY_MODEL_153ba38f4ce3419194e6b9e9bcb3de6c",
       "tooltip": "Search XYZ tile services"
      }
     },
     "6a289f6e46ca4275b18d730522154d18": {
      "model_module": "jupyter-leaflet",
      "model_module_version": "^0.17.0",
      "model_name": "LeafletTileLayerModel",
      "state": {
       "_model_module_version": "^0.17.0",
       "_view_module_version": "^0.17.0",
       "attribution": "National Library of Scotland Historic Maps",
       "name": "NLS",
       "options": [
        "attribution",
        "bounds",
        "detect_retina",
        "max_native_zoom",
        "max_zoom",
        "min_native_zoom",
        "min_zoom",
        "no_wrap",
        "tile_size",
        "tms"
       ],
       "url": "https://nls-0.tileserver.com/nls/{z}/{x}/{y}.jpg"
      }
     },
     "6acc17432d434ca4a45316f59fe0ac44": {
      "model_module": "jupyter-leaflet",
      "model_module_version": "^0.17.0",
      "model_name": "LeafletTileLayerModel",
      "state": {
       "_model_module_version": "^0.17.0",
       "_view_module_version": "^0.17.0",
       "attribution": "(C) OpenStreetMap contributors",
       "name": "OpenStreetMap.CH",
       "options": [
        "attribution",
        "bounds",
        "detect_retina",
        "max_native_zoom",
        "max_zoom",
        "min_native_zoom",
        "min_zoom",
        "no_wrap",
        "tile_size",
        "tms"
       ],
       "url": "https://tile.osm.ch/switzerland/{z}/{x}/{y}.png"
      }
     },
     "6acdbcb7e9024d54bc17319c917a437a": {
      "model_module": "jupyter-leaflet",
      "model_module_version": "^0.17.0",
      "model_name": "LeafletTileLayerModel",
      "state": {
       "_model_module_version": "^0.17.0",
       "_view_module_version": "^0.17.0",
       "attribution": "![](https://docs.onemap.sg/maps/images/oneMap64-01.png) New OneMap | Map data (C) contributors, Singapore Land Authority",
       "name": "OneMapSG.Night",
       "options": [
        "attribution",
        "bounds",
        "detect_retina",
        "max_native_zoom",
        "max_zoom",
        "min_native_zoom",
        "min_zoom",
        "no_wrap",
        "tile_size",
        "tms"
       ],
       "url": "https://maps-a.onemap.sg/v3/Night/{z}/{x}/{y}.png"
      }
     },
     "6e9e0decf0074ebfbb5e0f920c126acb": {
      "model_module": "jupyter-leaflet",
      "model_module_version": "^0.17.0",
      "model_name": "LeafletTileLayerModel",
      "state": {
       "_model_module_version": "^0.17.0",
       "_view_module_version": "^0.17.0",
       "attribution": "(C) Stadia Maps, (C) OpenMapTiles (C) OpenStreetMap contributors",
       "max_zoom": 20,
       "name": "Stadia.AlidadeSmooth",
       "options": [
        "attribution",
        "bounds",
        "detect_retina",
        "max_native_zoom",
        "max_zoom",
        "min_native_zoom",
        "min_zoom",
        "no_wrap",
        "tile_size",
        "tms"
       ],
       "url": "https://tiles.stadiamaps.com/tiles/alidade_smooth/{z}/{x}/{y}.png"
      }
     },
     "6ebe5b13a12a4054bd630d1be89a17a0": {
      "model_module": "jupyter-leaflet",
      "model_module_version": "^0.17.0",
      "model_name": "LeafletTileLayerModel",
      "state": {
       "_model_module_version": "^0.17.0",
       "_view_module_version": "^0.17.0",
       "attribution": "Tiles (C) Esri -- Sources: GEBCO, NOAA, CHS, OSU, UNH, CSUMB, National Geographic, DeLorme, NAVTEQ, and Esri",
       "max_zoom": 13,
       "name": "Esri.OceanBasemap",
       "options": [
        "attribution",
        "bounds",
        "detect_retina",
        "max_native_zoom",
        "max_zoom",
        "min_native_zoom",
        "min_zoom",
        "no_wrap",
        "tile_size",
        "tms"
       ],
       "url": "https://server.arcgisonline.com/ArcGIS/rest/services/Ocean_Basemap/MapServer/tile/{z}/{y}/{x}"
      }
     },
     "6eda43ea24744c6db0cc20917bdde91d": {
      "model_module": "jupyter-leaflet",
      "model_module_version": "^0.17.0",
      "model_name": "LeafletTileLayerModel",
      "state": {
       "_model_module_version": "^0.17.0",
       "_view_module_version": "^0.17.0",
       "attribution": "Map data: (C) OpenStreetMap contributors | Map style: (C) OpenRailwayMap (CC-BY-SA)",
       "max_zoom": 19,
       "name": "OpenRailwayMap",
       "options": [
        "attribution",
        "bounds",
        "detect_retina",
        "max_native_zoom",
        "max_zoom",
        "min_native_zoom",
        "min_zoom",
        "no_wrap",
        "tile_size",
        "tms"
       ],
       "url": "https://a.tiles.openrailwaymap.org/standard/{z}/{x}/{y}.png"
      }
     },
     "6f92befb18684dcbb63b9d5fb05e7de2": {
      "model_module": "@jupyter-widgets/base",
      "model_module_version": "1.2.0",
      "model_name": "LayoutModel",
      "state": {}
     },
     "70cbdebb16ab46a5ad1e3a55d1a05bff": {
      "model_module": "@jupyter-widgets/controls",
      "model_module_version": "1.5.0",
      "model_name": "ButtonModel",
      "state": {
       "description": "Download ROIs",
       "layout": "IPY_MODEL_da88e7ee6d2a43158eeda8b748fead81",
       "style": "IPY_MODEL_ae13a38a57034102bb2b61abebe287a6"
      }
     },
     "715c8becc21849379e74332fdd63c1d4": {
      "model_module": "@jupyter-widgets/base",
      "model_module_version": "1.2.0",
      "model_name": "LayoutModel",
      "state": {}
     },
     "71768f0a716a478ebe16a7e9b4770968": {
      "model_module": "jupyter-leaflet",
      "model_module_version": "^0.17.0",
      "model_name": "LeafletTileLayerModel",
      "state": {
       "_model_module_version": "^0.17.0",
       "_view_module_version": "^0.17.0",
       "attribution": "Geoportail France",
       "max_zoom": 19,
       "name": "GeoportailFrance.orthos",
       "options": [
        "attribution",
        "bounds",
        "detect_retina",
        "max_native_zoom",
        "max_zoom",
        "min_native_zoom",
        "min_zoom",
        "no_wrap",
        "tile_size",
        "tms"
       ],
       "url": "https://wxs.ign.fr/choisirgeoportail/geoportail/wmts?REQUEST=GetTile&SERVICE=WMTS&VERSION=1.0.0&STYLE=normal&TILEMATRIXSET=PM&FORMAT=image/jpeg&LAYER=ORTHOIMAGERY.ORTHOPHOTOS&TILEMATRIX={z}&TILEROW={y}&TILECOL={x}"
      }
     },
     "71966716db5b439abb154b3067f69d84": {
      "model_module": "@jupyter-widgets/controls",
      "model_module_version": "1.5.0",
      "model_name": "HBoxModel",
      "state": {
       "children": [
        "IPY_MODEL_f24b385a93e540f0820d70565ac7c34b"
       ],
       "layout": "IPY_MODEL_d70fbdc059d84aadad86548ed286a18f"
      }
     },
     "71a1085b58a1424caee7a99da1e0a34d": {
      "model_module": "jupyter-leaflet",
      "model_module_version": "^0.17.0",
      "model_name": "LeafletTileLayerModel",
      "state": {
       "_model_module_version": "^0.17.0",
       "_view_module_version": "^0.17.0",
       "attribution": "Datenquelle: basemap.at",
       "max_zoom": 19,
       "name": "BasemapAT.highdpi",
       "options": [
        "attribution",
        "bounds",
        "detect_retina",
        "max_native_zoom",
        "max_zoom",
        "min_native_zoom",
        "min_zoom",
        "no_wrap",
        "tile_size",
        "tms"
       ],
       "url": "https://maps.wien.gv.at/basemap/bmaphidpi/normal/google3857/{z}/{y}/{x}.jpeg"
      }
     },
     "735aef3b888345b68820389afcf4ef09": {
      "model_module": "@jupyter-widgets/controls",
      "model_module_version": "1.5.0",
      "model_name": "ToggleButtonModel",
      "state": {
       "button_style": "primary",
       "icon": "table",
       "layout": "IPY_MODEL_9b2111cee51740bf8db049559ede3328",
       "style": "IPY_MODEL_e73bc1a2d52840a982f3daacf4679ba4",
       "tooltip": "Open attribute table"
      }
     },
     "7376603c94864980a963fdb45f84a730": {
      "model_module": "@jupyter-widgets/controls",
      "model_module_version": "1.5.0",
      "model_name": "ToggleButtonModel",
      "state": {
       "button_style": "primary",
       "icon": "pencil-square-o",
       "layout": "IPY_MODEL_d07810b186c446ca808def75d4373c17",
       "style": "IPY_MODEL_1fbb547b1f8c404698468374c81b1225",
       "tooltip": "Create vector data"
      }
     },
     "73f4655c3eda43e492eac2c8fe360d22": {
      "model_module": "jupyter-leaflet",
      "model_module_version": "^0.17.0",
      "model_name": "LeafletTileLayerModel",
      "state": {
       "_model_module_version": "^0.17.0",
       "_view_module_version": "^0.17.0",
       "attribution": "(C) OpenStreetMap contributors (C) CARTO",
       "max_zoom": 20,
       "name": "CartoDB.DarkMatterNoLabels",
       "options": [
        "attribution",
        "bounds",
        "detect_retina",
        "max_native_zoom",
        "max_zoom",
        "min_native_zoom",
        "min_zoom",
        "no_wrap",
        "tile_size",
        "tms"
       ],
       "url": "https://a.basemaps.cartocdn.com/dark_nolabels/{z}/{x}/{y}.png"
      }
     },
     "751fba520e3044ffbe0ae3da0ac8884d": {
      "model_module": "@jupyter-widgets/controls",
      "model_module_version": "1.5.0",
      "model_name": "HBoxModel",
      "state": {
       "children": [
        "IPY_MODEL_ef5bf89ae0924bc797112cbf3ced0bd9",
        "IPY_MODEL_bfb9011218ef47f683752da2b3209162"
       ],
       "layout": "IPY_MODEL_9be16683803a4105912bea1ef2f0eb64"
      }
     },
     "761f209ecf2547a6876263037daff1b1": {
      "model_module": "@jupyter-widgets/base",
      "model_module_version": "1.2.0",
      "model_name": "LayoutModel",
      "state": {
       "height": "28px",
       "width": "72px"
      }
     },
     "7679682f3d724f6f982bfee6b85ef355": {
      "model_module": "@jupyter-widgets/controls",
      "model_module_version": "1.5.0",
      "model_name": "ButtonStyleModel",
      "state": {
       "button_color": "red"
      }
     },
     "768e093691954dd9875ae554151a9f37": {
      "model_module": "@jupyter-widgets/base",
      "model_module_version": "1.2.0",
      "model_name": "LayoutModel",
      "state": {
       "margin": "0px 5px 0px 5px"
      }
     },
     "76a4167de0d74c54ad1206b0f370ae58": {
      "model_module": "@jupyter-widgets/base",
      "model_module_version": "1.2.0",
      "model_name": "LayoutModel",
      "state": {
       "padding": "10px"
      }
     },
     "76c516744d0b471cb11c2d0280aafe92": {
      "model_module": "@jupyter-widgets/controls",
      "model_module_version": "1.5.0",
      "model_name": "ToggleButtonModel",
      "state": {
       "button_style": "primary",
       "icon": "adjust",
       "layout": "IPY_MODEL_b7d82319aa1446759189e79b0eecaa35",
       "style": "IPY_MODEL_5fdc3abcd16c4d8d807cd93f30db3869",
       "tooltip": "Planet imagery"
      }
     },
     "7891b07389cc499db5de263724864755": {
      "model_module": "jupyter-leaflet",
      "model_module_version": "^0.17.0",
      "model_name": "LeafletTileLayerModel",
      "state": {
       "_model_module_version": "^0.17.0",
       "_view_module_version": "^0.17.0",
       "attribution": "Justice Map",
       "max_zoom": 22,
       "name": "JusticeMap.black",
       "options": [
        "attribution",
        "bounds",
        "detect_retina",
        "max_native_zoom",
        "max_zoom",
        "min_native_zoom",
        "min_zoom",
        "no_wrap",
        "tile_size",
        "tms"
       ],
       "url": "https://www.justicemap.org/tile/county/black/{z}/{x}/{y}.png"
      }
     },
     "7980fe8aa2d943cd8c515daaaddf377f": {
      "model_module": "jupyter-leaflet",
      "model_module_version": "^0.17.0",
      "model_name": "LeafletTileLayerModel",
      "state": {
       "_model_module_version": "^0.17.0",
       "_view_module_version": "^0.17.0",
       "attribution": "(C) OpenStreetMap contributors (C) CARTO",
       "max_zoom": 20,
       "name": "CartoDB.VoyagerLabelsUnder",
       "options": [
        "attribution",
        "bounds",
        "detect_retina",
        "max_native_zoom",
        "max_zoom",
        "min_native_zoom",
        "min_zoom",
        "no_wrap",
        "tile_size",
        "tms"
       ],
       "url": "https://a.basemaps.cartocdn.com/rastertiles/voyager_labels_under/{z}/{x}/{y}.png"
      }
     },
     "79c2afaef6e94338abceaf0cd51a166a": {
      "model_module": "@jupyter-widgets/controls",
      "model_module_version": "1.5.0",
      "model_name": "HBoxModel",
      "state": {
       "children": [
        "IPY_MODEL_ac6ada1d73734318a65f31fba6f49305",
        "IPY_MODEL_1c314eb06ef445e19c1ca26540f9b97c"
       ],
       "layout": "IPY_MODEL_96af03a402b043ce9ec712fe1746b470"
      }
     },
     "7bf0b71d21d54221a1912af961490ad0": {
      "model_module": "@jupyter-widgets/controls",
      "model_module_version": "1.5.0",
      "model_name": "ButtonStyleModel",
      "state": {
       "button_color": "red"
      }
     },
     "7c4f53f1230348a68fb3a07d8ced4250": {
      "model_module": "@jupyter-widgets/controls",
      "model_module_version": "1.5.0",
      "model_name": "DescriptionStyleModel",
      "state": {
       "description_width": ""
      }
     },
     "7cb40eeee8f44199a441d73ec4131014": {
      "model_module": "jupyter-leaflet",
      "model_module_version": "^0.17.0",
      "model_name": "LeafletWMSLayerModel",
      "state": {
       "_model_module_version": "^0.17.0",
       "_view_module_version": "^0.17.0",
       "attribution": "FWS",
       "crs": {
        "custom": false,
        "name": "EPSG3857"
       },
       "format": "image/png",
       "layers": "1",
       "name": "FWS NWI Wetlands",
       "options": [
        "attribution",
        "bounds",
        "detect_retina",
        "format",
        "layers",
        "max_native_zoom",
        "max_zoom",
        "min_native_zoom",
        "min_zoom",
        "no_wrap",
        "styles",
        "tile_size",
        "tms",
        "transparent",
        "uppercase"
       ],
       "transparent": true,
       "url": "https://www.fws.gov/wetlands/arcgis/services/Wetlands/MapServer/WMSServer?"
      }
     },
     "7d9d0a6f88f644a087bf25ea0dc2aff5": {
      "model_module": "@jupyter-widgets/base",
      "model_module_version": "1.2.0",
      "model_name": "LayoutModel",
      "state": {}
     },
     "7fb25ae695f04618996a900d4b443585": {
      "model_module": "@jupyter-widgets/base",
      "model_module_version": "1.2.0",
      "model_name": "LayoutModel",
      "state": {}
     },
     "813a61e166ba4aa5a2be95c6e5956b8c": {
      "model_module": "jupyter-leaflet",
      "model_module_version": "^0.17.0",
      "model_name": "LeafletTileLayerModel",
      "state": {
       "_model_module_version": "^0.17.0",
       "_view_module_version": "^0.17.0",
       "attribution": "Kaartgegevens (C) Kadaster",
       "max_zoom": 19,
       "name": "nlmaps.luchtfoto",
       "options": [
        "attribution",
        "bounds",
        "detect_retina",
        "max_native_zoom",
        "max_zoom",
        "min_native_zoom",
        "min_zoom",
        "no_wrap",
        "tile_size",
        "tms"
       ],
       "url": "https://service.pdok.nl/hwh/luchtfotorgb/wmts/v1_0/Actueel_ortho25/EPSG:3857/{z}/{x}/{y}.jpeg"
      }
     },
     "82baccfb462242fb84e5795a9b011901": {
      "model_module": "@jupyter-widgets/controls",
      "model_module_version": "1.5.0",
      "model_name": "DescriptionStyleModel",
      "state": {
       "description_width": ""
      }
     },
     "82c76793b78c4ae385abd757c42a7f11": {
      "model_module": "@jupyter-widgets/controls",
      "model_module_version": "1.5.0",
      "model_name": "ButtonModel",
      "state": {
       "description": "Load bbox from file",
       "layout": "IPY_MODEL_f51f5da8fa534de2a99b614de339d388",
       "style": "IPY_MODEL_2c80b371d60b449da9475c4d720e5ac5"
      }
     },
     "82e6b4dd854347b1bc3a3ef0167c7206": {
      "model_module": "@jupyter-widgets/base",
      "model_module_version": "1.2.0",
      "model_name": "LayoutModel",
      "state": {}
     },
     "82f7e6a43fc644a093fd6bd57e4d3921": {
      "model_module": "@jupyter-widgets/base",
      "model_module_version": "1.2.0",
      "model_name": "LayoutModel",
      "state": {}
     },
     "83ee9dfbc06b43a987275a13d5756a31": {
      "model_module": "jupyter-leaflet",
      "model_module_version": "^0.17.0",
      "model_name": "LeafletTileLayerModel",
      "state": {
       "_model_module_version": "^0.17.0",
       "_view_module_version": "^0.17.0",
       "attribution": "Map tiles by Stamen Design, CC BY 3.0 -- Map data (C) OpenStreetMap contributors",
       "max_zoom": 20,
       "name": "Stamen.Toner",
       "options": [
        "attribution",
        "bounds",
        "detect_retina",
        "max_native_zoom",
        "max_zoom",
        "min_native_zoom",
        "min_zoom",
        "no_wrap",
        "tile_size",
        "tms"
       ],
       "url": "https://stamen-tiles-a.a.ssl.fastly.net/toner/{z}/{x}/{y}.png"
      }
     },
     "842617809ad843c79870e7807af72baa": {
      "model_module": "@jupyter-widgets/controls",
      "model_module_version": "1.5.0",
      "model_name": "IntSliderModel",
      "state": {
       "continuous_update": false,
       "description": "Small Fishnet:",
       "layout": "IPY_MODEL_8675aa1b18da476d891903a01d84f24b",
       "max": 10000,
       "step": 100,
       "style": "IPY_MODEL_f56001ef3d3a46dbb5154a0257f1421b",
       "value": 3500
      }
     },
     "84a042d4cfda44bea1202a9aa0aa91f3": {
      "model_module": "jupyter-leaflet",
      "model_module_version": "^0.17.0",
      "model_name": "LeafletTileLayerModel",
      "state": {
       "_model_module_version": "^0.17.0",
       "_view_module_version": "^0.17.0",
       "attribution": "(C) OpenStreetMap contributors (C) CARTO",
       "max_zoom": 20,
       "name": "CartoDB.VoyagerOnlyLabels",
       "options": [
        "attribution",
        "bounds",
        "detect_retina",
        "max_native_zoom",
        "max_zoom",
        "min_native_zoom",
        "min_zoom",
        "no_wrap",
        "tile_size",
        "tms"
       ],
       "url": "https://a.basemaps.cartocdn.com/rastertiles/voyager_only_labels/{z}/{x}/{y}.png"
      }
     },
     "85522ec45b274bf989e292b8cd10275d": {
      "model_module": "jupyter-leaflet",
      "model_module_version": "^0.17.0",
      "model_name": "LeafletGeoJSONModel",
      "state": {
       "_model_module_version": "^0.17.0",
       "_view_module_version": "^0.17.0",
       "data": {
        "features": [
         {
          "geometry": {
           "coordinates": [
            [
             -121.9133171904665,
             36.41867513788933
            ],
            [
             -121.9177691454568,
             36.41906948202311
            ]
           ],
           "type": "LineString"
          },
          "id": "4335",
          "properties": {
           "id": "usa_CA_0168-0000",
           "slope": 0.065,
           "style": {
            "color": "grey",
            "fillOpacity": 0.2,
            "fill_color": "grey",
            "opacity": 1,
            "weight": 2
           }
          },
          "type": "Feature"
         },
         {
          "geometry": {
           "coordinates": [
            [
             -121.9131659726215,
             36.41956478335704
            ],
            [
             -121.91761798195084,
             36.41995913012699
            ]
           ],
           "type": "LineString"
          },
          "id": "4336",
          "properties": {
           "id": "usa_CA_0168-0001",
           "slope": 0.06,
           "style": {
            "color": "grey",
            "fillOpacity": 0.2,
            "fill_color": "grey",
            "opacity": 1,
            "weight": 2
           }
          },
          "type": "Feature"
         },
         {
          "geometry": {
           "coordinates": [
            [
             -121.91301536376892,
             36.42045087106162
            ],
            [
             -121.91746620936578,
             36.4208523347715
            ]
           ],
           "type": "LineString"
          },
          "id": "4337",
          "properties": {
           "id": "usa_CA_0168-0002",
           "slope": 0.075,
           "style": {
            "color": "grey",
            "fillOpacity": 0.2,
            "fill_color": "grey",
            "opacity": 1,
            "weight": 2
           }
          },
          "type": "Feature"
         },
         {
          "geometry": {
           "coordinates": [
            [
             -121.91286332698964,
             36.42131991013413
            ],
            [
             -121.91730697768004,
             36.42176171768406
            ]
           ],
           "type": "LineString"
          },
          "id": "4338",
          "properties": {
           "id": "usa_CA_0168-0003",
           "slope": 0.065,
           "style": {
            "color": "grey",
            "fillOpacity": 0.2,
            "fill_color": "grey",
            "opacity": 1,
            "weight": 2
           }
          },
          "type": "Feature"
         },
         {
          "geometry": {
           "coordinates": [
            [
             -121.91269009368898,
             36.42219049308901
            ],
            [
             -121.91712739704684,
             36.42266549256231
            ]
           ],
           "type": "LineString"
          },
          "id": "4339",
          "properties": {
           "id": "usa_CA_0168-0004",
           "slope": 0.065,
           "style": {
            "color": "grey",
            "fillOpacity": 0.2,
            "fill_color": "grey",
            "opacity": 1,
            "weight": 2
           }
          },
          "type": "Feature"
         },
         {
          "geometry": {
           "coordinates": [
            [
             -121.91250600302584,
             36.423119288664594
            ],
            [
             -121.91695866869824,
             36.423511053301766
            ]
           ],
           "type": "LineString"
          },
          "id": "4340",
          "properties": {
           "id": "usa_CA_0168-0005",
           "slope": 0.06,
           "style": {
            "color": "grey",
            "fillOpacity": 0.2,
            "fill_color": "grey",
            "opacity": 1,
            "weight": 2
           }
          },
          "type": "Feature"
         },
         {
          "geometry": {
           "coordinates": [
            [
             -121.91237350914642,
             36.42406595790928
            ],
            [
             -121.91684272714636,
             36.42434728409961
            ]
           ],
           "type": "LineString"
          },
          "id": "4341",
          "properties": {
           "id": "usa_CA_0168-0006",
           "slope": 0.055,
           "style": {
            "color": "grey",
            "fillOpacity": 0.2,
            "fill_color": "grey",
            "opacity": 1,
            "weight": 2
           }
          },
          "type": "Feature"
         },
         {
          "geometry": {
           "coordinates": [
            [
             -121.91226441517782,
             36.42497226680914
            ],
            [
             -121.91673705937262,
             36.42522663035153
            ]
           ],
           "type": "LineString"
          },
          "id": "4342",
          "properties": {
           "id": "usa_CA_0168-0007",
           "slope": 0.06,
           "style": {
            "color": "grey",
            "fillOpacity": 0.2,
            "fill_color": "grey",
            "opacity": 1,
            "weight": 2
           }
          },
          "type": "Feature"
         }
        ],
        "type": "FeatureCollection"
       },
       "hover_style": {
        "color": "blue",
        "fillOpacity": 0.7
       },
       "name": "transects",
       "style": {
        "color": "grey",
        "fillOpacity": 0.2,
        "fill_color": "grey",
        "opacity": 1,
        "weight": 2
       }
      }
     },
     "858e58f816b04310afed302c5da52b3f": {
      "model_module": "@jupyter-widgets/controls",
      "model_module_version": "1.5.0",
      "model_name": "DescriptionStyleModel",
      "state": {
       "description_width": ""
      }
     },
     "860c5beb09c6483098bd4a0e3e80039f": {
      "model_module": "jupyter-leaflet",
      "model_module_version": "^0.17.0",
      "model_name": "LeafletTileLayerModel",
      "state": {
       "_model_module_version": "^0.17.0",
       "_view_module_version": "^0.17.0",
       "attribution": "Tiles &copy; Esri &mdash; Esri, DeLorme, NAVTEQ, TomTom, Intermap, iPC, USGS, FAO, NPS, NRCAN, GeoBase, Kadaster NL, Ordnance Survey, Esri Japan, METI, Esri China (Hong Kong), and the GIS User Community",
       "max_zoom": 24,
       "name": "Esri.ArcticOceanBase",
       "options": [
        "attribution",
        "bounds",
        "detect_retina",
        "max_native_zoom",
        "max_zoom",
        "min_native_zoom",
        "min_zoom",
        "no_wrap",
        "tile_size",
        "tms"
       ],
       "url": "http://server.arcgisonline.com/ArcGIS/rest/services/Polar/Arctic_Ocean_Base/MapServer/tile/{z}/{y}/{x}"
      }
     },
     "865554202d194ffdbab4f69d18abca66": {
      "model_module": "@jupyter-widgets/controls",
      "model_module_version": "1.5.0",
      "model_name": "ToggleButtonModel",
      "state": {
       "button_style": "primary",
       "icon": "map",
       "layout": "IPY_MODEL_c7faea9e75d0460487acb61f39fff7b7",
       "style": "IPY_MODEL_82baccfb462242fb84e5795a9b011901",
       "tooltip": "Change basemap"
      }
     },
     "8675aa1b18da476d891903a01d84f24b": {
      "model_module": "@jupyter-widgets/base",
      "model_module_version": "1.2.0",
      "model_name": "LayoutModel",
      "state": {}
     },
     "86a2e14a64e34beab149f9abccdc1377": {
      "model_module": "@jupyter-widgets/controls",
      "model_module_version": "1.5.0",
      "model_name": "ButtonStyleModel",
      "state": {
       "button_color": "#69add1"
      }
     },
     "871fa29c04e643558117903d3acc20d9": {
      "model_module": "jupyter-leaflet",
      "model_module_version": "^0.17.0",
      "model_name": "LeafletTileLayerModel",
      "state": {
       "_model_module_version": "^0.17.0",
       "_view_module_version": "^0.17.0",
       "attribution": "(C) Stadia Maps, (C) OpenMapTiles (C) OpenStreetMap contributors",
       "max_zoom": 20,
       "name": "Stadia.OSMBright",
       "options": [
        "attribution",
        "bounds",
        "detect_retina",
        "max_native_zoom",
        "max_zoom",
        "min_native_zoom",
        "min_zoom",
        "no_wrap",
        "tile_size",
        "tms"
       ],
       "url": "https://tiles.stadiamaps.com/tiles/osm_bright/{z}/{x}/{y}.png"
      }
     },
     "878341cdff314f88a00b0c12530d27cb": {
      "model_module": "@jupyter-widgets/controls",
      "model_module_version": "1.5.0",
      "model_name": "DescriptionStyleModel",
      "state": {
       "description_width": ""
      }
     },
     "8818dac5c58b42ae853702b5d577aec8": {
      "model_module": "jupyter-leaflet",
      "model_module_version": "^0.17.0",
      "model_name": "LeafletTileLayerModel",
      "state": {
       "_model_module_version": "^0.17.0",
       "_view_module_version": "^0.17.0",
       "attribution": "Map data: (C) OpenStreetMap contributors | Map style: (C) waymarkedtrails.org (CC-BY-SA)",
       "name": "WaymarkedTrails.slopes",
       "options": [
        "attribution",
        "bounds",
        "detect_retina",
        "max_native_zoom",
        "max_zoom",
        "min_native_zoom",
        "min_zoom",
        "no_wrap",
        "tile_size",
        "tms"
       ],
       "url": "https://tile.waymarkedtrails.org/slopes/{z}/{x}/{y}.png"
      }
     },
     "8819545f5451477f8c316d3b65968cc0": {
      "model_module": "@jupyter-widgets/base",
      "model_module_version": "1.2.0",
      "model_name": "LayoutModel",
      "state": {}
     },
     "8840235561e3436092d4831d72d9ebdb": {
      "model_module": "@jupyter-widgets/controls",
      "model_module_version": "1.5.0",
      "model_name": "HTMLModel",
      "state": {
       "layout": "IPY_MODEL_76a4167de0d74c54ad1206b0f370ae58",
       "style": "IPY_MODEL_fd466e66b8224c64bc025c49b47adc6d",
       "value": "<b>Pick multiple satellites by holding the control key:</b>         <br> - images prior to 2022/01/01 will be downloaded from Collection 1         <br> - images after 2022/01/01 will be automatically downloaded from Collection 2         <br> C01: LandSat Collection 1 : All dates before 2022/01/01        <br> C02: LandSat Collection 2 : All dates after 2022/01/01         <br> - Landsat 9 is only available in C02"
      }
     },
     "891bed5d97264cb5bd4a8b5bf36b9a1f": {
      "model_module": "jupyter-leaflet",
      "model_module_version": "^0.17.0",
      "model_name": "LeafletTileLayerModel",
      "state": {
       "_model_module_version": "^0.17.0",
       "_view_module_version": "^0.17.0",
       "attribution": "(C) OpenStreetMap contributors, Tiles courtesy of Breton OpenStreetMap Team",
       "max_zoom": 19,
       "name": "OpenStreetMap.BZH",
       "options": [
        "attribution",
        "bounds",
        "detect_retina",
        "max_native_zoom",
        "max_zoom",
        "min_native_zoom",
        "min_zoom",
        "no_wrap",
        "tile_size",
        "tms"
       ],
       "url": "https://tile.openstreetmap.bzh/br/{z}/{x}/{y}.png"
      }
     },
     "8b72ddc4549b4720858f6dea4c616d0d": {
      "model_module": "@jupyter-widgets/controls",
      "model_module_version": "1.5.0",
      "model_name": "RadioButtonsModel",
      "state": {
       "_options_labels": [
        "C01",
        "C02"
       ],
       "description": "Collection:",
       "index": 0,
       "layout": "IPY_MODEL_fbcdee420147428f90cb89b0c8397946",
       "style": "IPY_MODEL_b76b058f6ca24b8296aee66d7b704eed"
      }
     },
     "8b9a7d6cf62f40bf9cc837303b087429": {
      "model_module": "@jupyter-widgets/controls",
      "model_module_version": "1.5.0",
      "model_name": "VBoxModel",
      "state": {
       "children": [
        "IPY_MODEL_8840235561e3436092d4831d72d9ebdb",
        "IPY_MODEL_1f6bfcd2804146c087da6e91ca307747"
       ],
       "layout": "IPY_MODEL_2bfb2c54617e432bae1a153aa0e76483"
      }
     },
     "8bf4a81227664bcb89baa3197ad34571": {
      "model_module": "@jupyter-widgets/controls",
      "model_module_version": "1.5.0",
      "model_name": "ToggleButtonModel",
      "state": {
       "button_style": "primary",
       "icon": "fast-forward",
       "layout": "IPY_MODEL_ce103d0bd42148f78bdb6fa06c6733ed",
       "style": "IPY_MODEL_52da2e913d5443f8bb0c12825146c265",
       "tooltip": "Activate the time slider"
      }
     },
     "8cb4eeb558cf497f86a69525353da710": {
      "model_module": "@jupyter-widgets/base",
      "model_module_version": "1.2.0",
      "model_name": "LayoutModel",
      "state": {}
     },
     "8cc422b43fbd424780e71e11d07d1faf": {
      "model_module": "jupyter-leaflet",
      "model_module_version": "^0.17.0",
      "model_name": "LeafletTileLayerModel",
      "state": {
       "_model_module_version": "^0.17.0",
       "_view_module_version": "^0.17.0",
       "attribution": "Tiles (C) Esri -- Source: Esri, i-cubed, USDA, USGS, AEX, GeoEye, Getmapping, Aerogrid, IGN, IGP, UPR-EGP, and the GIS User Community",
       "max_zoom": 22,
       "name": "Esri.WorldImagery",
       "options": [
        "attribution",
        "bounds",
        "detect_retina",
        "max_native_zoom",
        "max_zoom",
        "min_native_zoom",
        "min_zoom",
        "no_wrap",
        "tile_size",
        "tms"
       ],
       "url": "https://server.arcgisonline.com/ArcGIS/rest/services/World_Imagery/MapServer/tile/{z}/{y}/{x}"
      }
     },
     "8e5f7163ce4e4220a9fb5371009b64c6": {
      "model_module": "jupyter-leaflet",
      "model_module_version": "^0.17.0",
      "model_name": "LeafletMapStyleModel",
      "state": {
       "_model_module_version": "^0.17.0"
      }
     },
     "8ea3e0efce3c443499927d5ba255ddc4": {
      "model_module": "jupyter-leaflet",
      "model_module_version": "^0.17.0",
      "model_name": "LeafletDrawControlModel",
      "state": {
       "_model_module_version": "^0.17.0",
       "_view_module_version": "^0.17.0",
       "data": [
        {
         "geometry": {
          "coordinates": [
           [
            [
             -121.931686,
             36.387461
            ],
            [
             -121.931686,
             36.442251
            ],
            [
             -121.900841,
             36.442251
            ],
            [
             -121.900841,
             36.387461
            ],
            [
             -121.931686,
             36.387461
            ]
           ]
          ],
          "type": "Polygon"
         },
         "properties": {
          "style": {
           "Opacity": 0.1,
           "clickable": true,
           "color": "green",
           "fill": true,
           "fillColor": "green",
           "fillOpacity": 0.1,
           "opacity": 0.5,
           "stroke": true,
           "weight": 4
          }
         },
         "type": "Feature"
        }
       ],
       "options": [
        "position"
       ],
       "polygon": {},
       "polyline": {},
       "rectangle": {
        "allowIntersection": false,
        "drawError": {
         "color": "#dd253b",
         "message": "Ops!"
        },
        "shapeOptions": {
         "Opacity": 0.1,
         "color": "green",
         "fillColor": "green",
         "fillOpacity": 0.1
        },
        "transform": true
       }
      }
     },
     "900ede248fbc4f198b0c6602df62c337": {
      "model_module": "jupyter-leaflet",
      "model_module_version": "^0.17.0",
      "model_name": "LeafletWMSLayerModel",
      "state": {
       "_model_module_version": "^0.17.0",
       "_view_module_version": "^0.17.0",
       "attribution": "USGS",
       "crs": {
        "custom": false,
        "name": "EPSG3857"
       },
       "format": "image/png",
       "layers": "0",
       "name": "USGS Hydrography",
       "options": [
        "attribution",
        "bounds",
        "detect_retina",
        "format",
        "layers",
        "max_native_zoom",
        "max_zoom",
        "min_native_zoom",
        "min_zoom",
        "no_wrap",
        "styles",
        "tile_size",
        "tms",
        "transparent",
        "uppercase"
       ],
       "transparent": true,
       "url": "https://basemap.nationalmap.gov/arcgis/services/USGSHydroCached/MapServer/WMSServer?"
      }
     },
     "90c839ea3b66416aafd3593002dcd658": {
      "model_module": "@jupyter-widgets/controls",
      "model_module_version": "1.5.0",
      "model_name": "ButtonStyleModel",
      "state": {
       "button_color": "#50bf8f"
      }
     },
     "91646c7186ff4dce91c13e699c2cead2": {
      "model_module": "@jupyter-widgets/output",
      "model_module_version": "1.0.0",
      "model_name": "OutputModel",
      "state": {
       "layout": "IPY_MODEL_c13a03af571344eabd2217c5cbcae361"
      }
     },
     "91c4fe29972747ce808255077c304889": {
      "model_module": "@jupyter-widgets/base",
      "model_module_version": "1.2.0",
      "model_name": "LayoutModel",
      "state": {
       "margin": "0px 20px 20px 20px"
      }
     },
     "92b6dd4102f94b0a80056724a030baec": {
      "model_module": "jupyter-leaflet",
      "model_module_version": "^0.17.0",
      "model_name": "LeafletMapStyleModel",
      "state": {
       "_model_module_version": "^0.17.0",
       "cursor": "wait"
      }
     },
     "937207baafd7430fbc67649dc4f33cd8": {
      "model_module": "jupyter-leaflet",
      "model_module_version": "^0.17.0",
      "model_name": "LeafletTileLayerModel",
      "state": {
       "_model_module_version": "^0.17.0",
       "_view_module_version": "^0.17.0",
       "attribution": "Tiles (C) Esri -- Source: Esri",
       "max_zoom": 13,
       "name": "Esri.WorldShadedRelief",
       "options": [
        "attribution",
        "bounds",
        "detect_retina",
        "max_native_zoom",
        "max_zoom",
        "min_native_zoom",
        "min_zoom",
        "no_wrap",
        "tile_size",
        "tms"
       ],
       "url": "https://server.arcgisonline.com/ArcGIS/rest/services/World_Shaded_Relief/MapServer/tile/{z}/{y}/{x}"
      }
     },
     "958f86b34997452ab410ffeced2d34dc": {
      "model_module": "@jupyter-widgets/controls",
      "model_module_version": "1.5.0",
      "model_name": "IntSliderModel",
      "state": {
       "continuous_update": false,
       "description": "Large Fishnet:",
       "layout": "IPY_MODEL_0cc47c7bbd5f41fc9bbeb6e31b5f834e",
       "max": 10000,
       "min": 1000,
       "step": 100,
       "style": "IPY_MODEL_32f3ef2f70d846e1b5b68cb5f2a3f1ef",
       "value": 4000
      }
     },
     "96af03a402b043ce9ec712fe1746b470": {
      "model_module": "@jupyter-widgets/base",
      "model_module_version": "1.2.0",
      "model_name": "LayoutModel",
      "state": {}
     },
     "989db65f27bf490bbd1740c18791da46": {
      "model_module": "jupyter-leaflet",
      "model_module_version": "^0.17.0",
      "model_name": "LeafletTileLayerModel",
      "state": {
       "_model_module_version": "^0.17.0",
       "_view_module_version": "^0.17.0",
       "attribution": "Imagery provided by services from the Global Imagery Browse Services (GIBS), operated by the NASA/GSFC/Earth Science Data and Information System (ESDIS) with funding provided by NASA/HQ.",
       "max_zoom": 8,
       "name": "NASAGIBS.ModisTerraSnowCover",
       "options": [
        "attribution",
        "bounds",
        "detect_retina",
        "max_native_zoom",
        "max_zoom",
        "min_native_zoom",
        "min_zoom",
        "no_wrap",
        "tile_size",
        "tms"
       ],
       "url": "https://map1.vis.earthdata.nasa.gov/wmts-webmerc/MODIS_Terra_NDSI_Snow_Cover/default//GoogleMapsCompatible_Level8/{z}/{y}/{x}.png"
      }
     },
     "98d0a801c0984209a3236673eae3ccc0": {
      "model_module": "@jupyter-widgets/controls",
      "model_module_version": "1.5.0",
      "model_name": "VBoxModel",
      "state": {
       "children": [
        "IPY_MODEL_f97955da5a9f4999a5cc3cd01daa51e1",
        "IPY_MODEL_dea09e9b3e374df388be6a08fff93c57"
       ],
       "layout": "IPY_MODEL_7d9d0a6f88f644a087bf25ea0dc2aff5"
      }
     },
     "9a3afd9273df4540bbcf8f4612168e6f": {
      "model_module": "jupyter-leaflet",
      "model_module_version": "^0.17.0",
      "model_name": "LeafletTileLayerModel",
      "state": {
       "_model_module_version": "^0.17.0",
       "_view_module_version": "^0.17.0",
       "attribution": "Tiles courtesy of the U.S. Geological Survey",
       "max_zoom": 20,
       "name": "USGS.USTopo",
       "options": [
        "attribution",
        "bounds",
        "detect_retina",
        "max_native_zoom",
        "max_zoom",
        "min_native_zoom",
        "min_zoom",
        "no_wrap",
        "tile_size",
        "tms"
       ],
       "url": "https://basemap.nationalmap.gov/arcgis/rest/services/USGSTopo/MapServer/tile/{z}/{y}/{x}"
      }
     },
     "9b2111cee51740bf8db049559ede3328": {
      "model_module": "@jupyter-widgets/base",
      "model_module_version": "1.2.0",
      "model_name": "LayoutModel",
      "state": {
       "height": "auto",
       "padding": "0px 0px 0px 4px",
       "width": "auto"
      }
     },
     "9b4204fc36054696aed83c25c6884d56": {
      "model_module": "jupyter-leaflet",
      "model_module_version": "^0.17.0",
      "model_name": "LeafletTileLayerModel",
      "state": {
       "_model_module_version": "^0.17.0",
       "_view_module_version": "^0.17.0",
       "attribution": "(C) OpenStreetMap contributors",
       "name": "OpenStreetMap.DE",
       "options": [
        "attribution",
        "bounds",
        "detect_retina",
        "max_native_zoom",
        "max_zoom",
        "min_native_zoom",
        "min_zoom",
        "no_wrap",
        "tile_size",
        "tms"
       ],
       "url": "https://a.tile.openstreetmap.de/{z}/{x}/{y}.png"
      }
     },
     "9be16683803a4105912bea1ef2f0eb64": {
      "model_module": "@jupyter-widgets/base",
      "model_module_version": "1.2.0",
      "model_name": "LayoutModel",
      "state": {}
     },
     "9c84ea2b8dbd4646be45a6af7dc42c4f": {
      "model_module": "@jupyter-widgets/controls",
      "model_module_version": "1.5.0",
      "model_name": "HTMLModel",
      "state": {
       "layout": "IPY_MODEL_5f2494371a3e4d37a64023f8630b8b3d",
       "style": "IPY_MODEL_df4b46c1c46848cb89246269be72f009",
       "value": "<h2><b>Download ROIs</b></h2>                 <b> You must click 'Save ROI' before you can download ROIs</b>                 </br> Scroll past the map to see the download progress                     <li> The data you downloaded will be in the 'data' folder</li>                     "
      }
     },
     "9d754ffcf2ce4ccda96e354178e4fdd4": {
      "model_module": "@jupyter-widgets/controls",
      "model_module_version": "1.5.0",
      "model_name": "HTMLModel",
      "state": {
       "layout": "IPY_MODEL_14311a87c6314d9fb96279ecbf7b481d",
       "style": "IPY_MODEL_ae818e29701a408894fa1b07d27c1315",
       "value": "<b>Pick a collection</b>        <br> C01: LandSat Collection 1         <br> C02: LandSat Collection 2  [2022/01/01 and beyond]         <br>      - Landsat 9 is only available in C02"
      }
     },
     "9d9e5fce7257479a82a99aa6a491a307": {
      "model_module": "@jupyter-widgets/base",
      "model_module_version": "1.2.0",
      "model_name": "LayoutModel",
      "state": {
       "height": "auto",
       "padding": "0px 0px 0px 4px",
       "width": "auto"
      }
     },
     "9e9fada671314db0af4c9a50e6ac56ab": {
      "model_module": "@jupyter-widgets/base",
      "model_module_version": "1.2.0",
      "model_name": "LayoutModel",
      "state": {}
     },
     "9eb20c5500f74657a71edebe76855789": {
      "model_module": "jupyter-leaflet",
      "model_module_version": "^0.17.0",
      "model_name": "LeafletTileLayerModel",
      "state": {
       "_model_module_version": "^0.17.0",
       "_view_module_version": "^0.17.0",
       "attribution": "(C) OpenStreetMap contributors & USGS",
       "max_zoom": 22,
       "name": "MtbMap",
       "options": [
        "attribution",
        "bounds",
        "detect_retina",
        "max_native_zoom",
        "max_zoom",
        "min_native_zoom",
        "min_zoom",
        "no_wrap",
        "tile_size",
        "tms"
       ],
       "url": "http://tile.mtbmap.cz/mtbmap_tiles/{z}/{x}/{y}.png"
      }
     },
     "9ef4907281f449c48afebeac192403f7": {
      "model_module": "jupyter-leaflet",
      "model_module_version": "^0.17.0",
      "model_name": "LeafletGeoJSONModel",
      "state": {
       "_model_module_version": "^0.17.0",
       "_view_module_version": "^0.17.0",
       "data": {
        "features": [
         {
          "geometry": {
           "coordinates": [
            [
             -121.9133171904665,
             36.41867513788933
            ],
            [
             -121.9177691454568,
             36.41906948202311
            ]
           ],
           "type": "LineString"
          },
          "id": "4335",
          "properties": {
           "id": "usa_CA_0168-0000",
           "slope": 0.065,
           "style": {
            "color": "grey",
            "fillOpacity": 0.2,
            "fill_color": "grey",
            "opacity": 1,
            "weight": 2
           }
          },
          "type": "Feature"
         },
         {
          "geometry": {
           "coordinates": [
            [
             -121.9131659726215,
             36.41956478335704
            ],
            [
             -121.91761798195084,
             36.41995913012699
            ]
           ],
           "type": "LineString"
          },
          "id": "4336",
          "properties": {
           "id": "usa_CA_0168-0001",
           "slope": 0.06,
           "style": {
            "color": "grey",
            "fillOpacity": 0.2,
            "fill_color": "grey",
            "opacity": 1,
            "weight": 2
           }
          },
          "type": "Feature"
         },
         {
          "geometry": {
           "coordinates": [
            [
             -121.91301536376892,
             36.42045087106162
            ],
            [
             -121.91746620936578,
             36.4208523347715
            ]
           ],
           "type": "LineString"
          },
          "id": "4337",
          "properties": {
           "id": "usa_CA_0168-0002",
           "slope": 0.075,
           "style": {
            "color": "grey",
            "fillOpacity": 0.2,
            "fill_color": "grey",
            "opacity": 1,
            "weight": 2
           }
          },
          "type": "Feature"
         },
         {
          "geometry": {
           "coordinates": [
            [
             -121.91286332698964,
             36.42131991013413
            ],
            [
             -121.91730697768004,
             36.42176171768406
            ]
           ],
           "type": "LineString"
          },
          "id": "4338",
          "properties": {
           "id": "usa_CA_0168-0003",
           "slope": 0.065,
           "style": {
            "color": "grey",
            "fillOpacity": 0.2,
            "fill_color": "grey",
            "opacity": 1,
            "weight": 2
           }
          },
          "type": "Feature"
         },
         {
          "geometry": {
           "coordinates": [
            [
             -121.91269009368898,
             36.42219049308901
            ],
            [
             -121.91712739704684,
             36.42266549256231
            ]
           ],
           "type": "LineString"
          },
          "id": "4339",
          "properties": {
           "id": "usa_CA_0168-0004",
           "slope": 0.065,
           "style": {
            "color": "grey",
            "fillOpacity": 0.2,
            "fill_color": "grey",
            "opacity": 1,
            "weight": 2
           }
          },
          "type": "Feature"
         },
         {
          "geometry": {
           "coordinates": [
            [
             -121.91250600302584,
             36.423119288664594
            ],
            [
             -121.91695866869824,
             36.423511053301766
            ]
           ],
           "type": "LineString"
          },
          "id": "4340",
          "properties": {
           "id": "usa_CA_0168-0005",
           "slope": 0.06,
           "style": {
            "color": "grey",
            "fillOpacity": 0.2,
            "fill_color": "grey",
            "opacity": 1,
            "weight": 2
           }
          },
          "type": "Feature"
         },
         {
          "geometry": {
           "coordinates": [
            [
             -121.91237350914642,
             36.42406595790928
            ],
            [
             -121.91684272714636,
             36.42434728409961
            ]
           ],
           "type": "LineString"
          },
          "id": "4341",
          "properties": {
           "id": "usa_CA_0168-0006",
           "slope": 0.055,
           "style": {
            "color": "grey",
            "fillOpacity": 0.2,
            "fill_color": "grey",
            "opacity": 1,
            "weight": 2
           }
          },
          "type": "Feature"
         },
         {
          "geometry": {
           "coordinates": [
            [
             -121.91226441517782,
             36.42497226680914
            ],
            [
             -121.91673705937262,
             36.42522663035153
            ]
           ],
           "type": "LineString"
          },
          "id": "4342",
          "properties": {
           "id": "usa_CA_0168-0007",
           "slope": 0.06,
           "style": {
            "color": "grey",
            "fillOpacity": 0.2,
            "fill_color": "grey",
            "opacity": 1,
            "weight": 2
           }
          },
          "type": "Feature"
         }
        ],
        "type": "FeatureCollection"
       },
       "hover_style": {
        "color": "blue",
        "fillOpacity": 0.7
       },
       "name": "transects",
       "style": {
        "color": "grey",
        "fillOpacity": 0.2,
        "fill_color": "grey",
        "opacity": 1,
        "weight": 2
       }
      }
     },
     "a155669e5bb04b0aa7af2b7004a53a2b": {
      "model_module": "jupyter-leaflet",
      "model_module_version": "^0.17.0",
      "model_name": "LeafletTileLayerModel",
      "state": {
       "_model_module_version": "^0.17.0",
       "_view_module_version": "^0.17.0",
       "attribution": "![](https://docs.onemap.sg/maps/images/oneMap64-01.png) New OneMap | Map data (C) contributors, Singapore Land Authority",
       "name": "OneMapSG.Grey",
       "options": [
        "attribution",
        "bounds",
        "detect_retina",
        "max_native_zoom",
        "max_zoom",
        "min_native_zoom",
        "min_zoom",
        "no_wrap",
        "tile_size",
        "tms"
       ],
       "url": "https://maps-a.onemap.sg/v3/Grey/{z}/{x}/{y}.png"
      }
     },
     "a261fd58ac4148fea80bc33ad7c501fa": {
      "model_module": "@jupyter-widgets/controls",
      "model_module_version": "1.5.0",
      "model_name": "HBoxModel",
      "state": {
       "children": [
        "IPY_MODEL_5b3163ed099d4d9bbb29f0987c60ca16",
        "IPY_MODEL_ea906cbbdef4422f9dee0643b2373e1a",
        "IPY_MODEL_12ea0f1cd58a4e1999a0b614dd33f0da"
       ],
       "layout": "IPY_MODEL_e35e15ef64664ed8bfb537d2000fba5e"
      }
     },
     "a2cfc05e62074ebcb073082d2ac9faca": {
      "model_module": "@jupyter-widgets/controls",
      "model_module_version": "1.5.0",
      "model_name": "ToggleButtonModel",
      "state": {
       "button_style": "primary",
       "icon": "stack-exchange",
       "layout": "IPY_MODEL_4b4c09e8c3af46b1ba8fe5e1a1bb67a2",
       "style": "IPY_MODEL_589d3c6487c342aca3c1acc6d910d313",
       "tooltip": "Discover STAC Catalog"
      }
     },
     "a2f0f3636b0d4e938735530d6bf8d4c5": {
      "model_module": "jupyter-leaflet",
      "model_module_version": "^0.17.0",
      "model_name": "LeafletMapStyleModel",
      "state": {
       "_model_module_version": "^0.17.0",
       "cursor": "default"
      }
     },
     "a43a0a5a43d6495f8a81340b2b25715d": {
      "model_module": "jupyter-leaflet",
      "model_module_version": "^0.17.0",
      "model_name": "LeafletTileLayerModel",
      "state": {
       "_model_module_version": "^0.17.0",
       "_view_module_version": "^0.17.0",
       "attribution": "Earthstar Geographics",
       "max_zoom": 24,
       "name": "Esri.AntarcticImagery",
       "options": [
        "attribution",
        "bounds",
        "detect_retina",
        "max_native_zoom",
        "max_zoom",
        "min_native_zoom",
        "min_zoom",
        "no_wrap",
        "tile_size",
        "tms"
       ],
       "url": "http://server.arcgisonline.com/ArcGIS/rest/services/Polar/Antarctic_Imagery/MapServer/tile/{z}/{y}/{x}"
      }
     },
     "a6433e47095944ffbf9523813be8a60d": {
      "model_module": "@jupyter-widgets/controls",
      "model_module_version": "1.5.0",
      "model_name": "ToggleButtonModel",
      "state": {
       "button_style": "primary",
       "icon": "search-plus",
       "layout": "IPY_MODEL_193d5582760b4fc39d75732f97e63eaa",
       "style": "IPY_MODEL_ececcc234e3c43d39c88648c7c8528d8",
       "tooltip": "Search features in GeoJSON layer"
      }
     },
     "a6efc1f8e3e84fbf8a4e2c274e98c2c3": {
      "model_module": "@jupyter-widgets/controls",
      "model_module_version": "1.5.0",
      "model_name": "ToggleButtonModel",
      "state": {
       "button_style": "primary",
       "icon": "question",
       "layout": "IPY_MODEL_9d9e5fce7257479a82a99aa6a491a307",
       "style": "IPY_MODEL_2313d5448a65494eb8c126ccd0982ad2",
       "tooltip": "Get help"
      }
     },
     "a72b3843fca3493e9116cb90736e38fa": {
      "model_module": "@jupyter-widgets/controls",
      "model_module_version": "1.5.0",
      "model_name": "ButtonStyleModel",
      "state": {
       "button_color": "#69add1"
      }
     },
     "a9a16361b4df4a38b5b1c5fd7a054ae5": {
      "model_module": "@jupyter-widgets/base",
      "model_module_version": "1.2.0",
      "model_name": "LayoutModel",
      "state": {
       "height": "28px",
       "padding": "0px 0px 0px 4px",
       "width": "28px"
      }
     },
     "aadbdabad0c74816b31317a548824d4e": {
      "model_module": "jupyter-leaflet",
      "model_module_version": "^0.17.0",
      "model_name": "LeafletTileLayerModel",
      "state": {
       "_model_module_version": "^0.17.0",
       "_view_module_version": "^0.17.0",
       "attribution": "Imagery provided by services from the Global Imagery Browse Services (GIBS), operated by the NASA/GSFC/Earth Science Data and Information System (ESDIS) with funding provided by NASA/HQ.",
       "max_zoom": 7,
       "name": "NASAGIBS.ModisTerraChlorophyll",
       "options": [
        "attribution",
        "bounds",
        "detect_retina",
        "max_native_zoom",
        "max_zoom",
        "min_native_zoom",
        "min_zoom",
        "no_wrap",
        "tile_size",
        "tms"
       ],
       "url": "https://map1.vis.earthdata.nasa.gov/wmts-webmerc/MODIS_Terra_Chlorophyll_A/default//GoogleMapsCompatible_Level7/{z}/{y}/{x}.png"
      }
     },
     "aae989fb81f24f77805767efe1233877": {
      "model_module": "jupyter-leaflet",
      "model_module_version": "^0.17.0",
      "model_name": "LeafletWidgetControlModel",
      "state": {
       "_model_module": "jupyter-leaflet",
       "_model_module_version": "^0.17.0",
       "_view_count": null,
       "_view_module": "jupyter-leaflet",
       "_view_module_version": "^0.17.0",
       "options": [
        "position",
        "transparent_bg"
       ],
       "position": "topright",
       "widget": "IPY_MODEL_340182e4191a43a99343fe1eacce659d"
      }
     },
     "abf135ce4333445886f218e74a8e947f": {
      "model_module": "@jupyter-widgets/controls",
      "model_module_version": "1.5.0",
      "model_name": "DescriptionStyleModel",
      "state": {
       "description_width": ""
      }
     },
     "ac4992d586524033883c105c533b6297": {
      "model_module": "jupyter-leaflet",
      "model_module_version": "^0.17.0",
      "model_name": "LeafletWMSLayerModel",
      "state": {
       "_model_module_version": "^0.17.0",
       "_view_module_version": "^0.17.0",
       "attribution": "MRLC",
       "crs": {
        "custom": false,
        "name": "EPSG3857"
       },
       "format": "image/png",
       "layers": "NLCD_2001_Land_Cover_L48",
       "name": "NLCD 2001 CONUS Land Cover",
       "options": [
        "attribution",
        "bounds",
        "detect_retina",
        "format",
        "layers",
        "max_native_zoom",
        "max_zoom",
        "min_native_zoom",
        "min_zoom",
        "no_wrap",
        "styles",
        "tile_size",
        "tms",
        "transparent",
        "uppercase"
       ],
       "transparent": true,
       "url": "https://www.mrlc.gov/geoserver/mrlc_display/NLCD_2001_Land_Cover_L48/wms?"
      }
     },
     "ac6ada1d73734318a65f31fba6f49305": {
      "model_module": "@jupyter-widgets/controls",
      "model_module_version": "1.5.0",
      "model_name": "VBoxModel",
      "state": {
       "children": [
        "IPY_MODEL_842617809ad843c79870e7807af72baa",
        "IPY_MODEL_958f86b34997452ab410ffeced2d34dc"
       ],
       "layout": "IPY_MODEL_6f92befb18684dcbb63b9d5fb05e7de2"
      }
     },
     "ac6f58bbf6c248ababba5dc04e157334": {
      "model_module": "jupyter-leaflet",
      "model_module_version": "^0.17.0",
      "model_name": "LeafletTileLayerModel",
      "state": {
       "_model_module_version": "^0.17.0",
       "_view_module_version": "^0.17.0",
       "attribution": "Kaartgegevens (C) Kadaster",
       "max_zoom": 19,
       "name": "nlmaps.standaard",
       "options": [
        "attribution",
        "bounds",
        "detect_retina",
        "max_native_zoom",
        "max_zoom",
        "min_native_zoom",
        "min_zoom",
        "no_wrap",
        "tile_size",
        "tms"
       ],
       "url": "https://service.pdok.nl/brt/achtergrondkaart/wmts/v2_0/standaard/EPSG:3857/{z}/{x}/{y}.png"
      }
     },
     "ad056ff7beca4b38bbf7bcbc83160f47": {
      "model_module": "jupyter-leaflet",
      "model_module_version": "^0.17.0",
      "model_name": "LeafletTileLayerModel",
      "state": {
       "_model_module_version": "^0.17.0",
       "_view_module_version": "^0.17.0",
       "attribution": "(C) OpenStreetMap contributors, vizualization CC-By-SA 2.0 Freemap.sk",
       "max_zoom": 16,
       "name": "FreeMapSK",
       "options": [
        "attribution",
        "bounds",
        "detect_retina",
        "max_native_zoom",
        "max_zoom",
        "min_native_zoom",
        "min_zoom",
        "no_wrap",
        "tile_size",
        "tms"
       ],
       "url": "https://a.freemap.sk/T/{z}/{x}/{y}.jpeg"
      }
     },
     "ad2bb8532fed4645bf0a22b9015521a7": {
      "model_module": "@jupyter-widgets/base",
      "model_module_version": "1.2.0",
      "model_name": "LayoutModel",
      "state": {
       "grid_gap": "1px 1px",
       "grid_template_columns": "32px 32px 32px ",
       "grid_template_rows": "32px 32px 32px 32px 32px 32px ",
       "padding": "5px",
       "width": "109px"
      }
     },
     "ae13a38a57034102bb2b61abebe287a6": {
      "model_module": "@jupyter-widgets/controls",
      "model_module_version": "1.5.0",
      "model_name": "ButtonStyleModel",
      "state": {
       "button_color": "#ae3cf0"
      }
     },
     "ae818e29701a408894fa1b07d27c1315": {
      "model_module": "@jupyter-widgets/controls",
      "model_module_version": "1.5.0",
      "model_name": "DescriptionStyleModel",
      "state": {
       "description_width": ""
      }
     },
     "aee7e9cb0746468d8e2acb1cb5439eda": {
      "model_module": "@jupyter-widgets/controls",
      "model_module_version": "1.5.0",
      "model_name": "HBoxModel",
      "state": {
       "children": [
        "IPY_MODEL_fffe78f0a0044e62b328d4d5f39dff27"
       ],
       "layout": "IPY_MODEL_67f9035bdb494b18bc473e8bd54a0025"
      }
     },
     "b22d55be035044f1a22f24f3eac551d8": {
      "model_module": "jupyter-leaflet",
      "model_module_version": "^0.17.0",
      "model_name": "LeafletTileLayerModel",
      "state": {
       "_model_module_version": "^0.17.0",
       "_view_module_version": "^0.17.0",
       "attribution": "(C) OpenStreetMap contributors (C) CARTO",
       "max_zoom": 20,
       "name": "CartoDB.VoyagerNoLabels",
       "options": [
        "attribution",
        "bounds",
        "detect_retina",
        "max_native_zoom",
        "max_zoom",
        "min_native_zoom",
        "min_zoom",
        "no_wrap",
        "tile_size",
        "tms"
       ],
       "url": "https://a.basemaps.cartocdn.com/rastertiles/voyager_nolabels/{z}/{x}/{y}.png"
      }
     },
     "b30e400aba28461eb150ae3135582566": {
      "model_module": "@jupyter-widgets/controls",
      "model_module_version": "1.5.0",
      "model_name": "HBoxModel",
      "state": {
       "children": [
        "IPY_MODEL_1feb0a81ecce4f51b67a463c32254272",
        "IPY_MODEL_09916c7c40474199b48ab076db807900"
       ],
       "layout": "IPY_MODEL_82e6b4dd854347b1bc3a3ef0167c7206"
      }
     },
     "b3f857b060054a0f848a9ef84da8b8f6": {
      "model_module": "jupyter-leaflet",
      "model_module_version": "^0.17.0",
      "model_name": "LeafletTileLayerModel",
      "state": {
       "_model_module_version": "^0.17.0",
       "_view_module_version": "^0.17.0",
       "attribution": "Map tiles by Stamen Design, CC BY 3.0 -- Map data (C) OpenStreetMap contributors",
       "max_zoom": 20,
       "name": "Stamen.TonerLabels",
       "options": [
        "attribution",
        "bounds",
        "detect_retina",
        "max_native_zoom",
        "max_zoom",
        "min_native_zoom",
        "min_zoom",
        "no_wrap",
        "tile_size",
        "tms"
       ],
       "url": "https://stamen-tiles-a.a.ssl.fastly.net/toner-labels/{z}/{x}/{y}.png"
      }
     },
     "b4b6f7d8ef95434d8975ecbd09ce0bb0": {
      "model_module": "jupyter-leaflet",
      "model_module_version": "^0.17.0",
      "model_name": "LeafletTileLayerModel",
      "state": {
       "_model_module_version": "^0.17.0",
       "_view_module_version": "^0.17.0",
       "attribution": "(C) OpenStreetMap contributors",
       "max_zoom": 15,
       "name": "HikeBike.HillShading",
       "options": [
        "attribution",
        "bounds",
        "detect_retina",
        "max_native_zoom",
        "max_zoom",
        "min_native_zoom",
        "min_zoom",
        "no_wrap",
        "tile_size",
        "tms"
       ],
       "url": "https://tiles.wmflabs.org/hillshading/{z}/{x}/{y}.png"
      }
     },
     "b76b058f6ca24b8296aee66d7b704eed": {
      "model_module": "@jupyter-widgets/controls",
      "model_module_version": "1.5.0",
      "model_name": "DescriptionStyleModel",
      "state": {
       "description_width": ""
      }
     },
     "b7d82319aa1446759189e79b0eecaa35": {
      "model_module": "@jupyter-widgets/base",
      "model_module_version": "1.2.0",
      "model_name": "LayoutModel",
      "state": {
       "height": "auto",
       "padding": "0px 0px 0px 4px",
       "width": "auto"
      }
     },
     "b8890debc9854271b4c2208a9da48640": {
      "model_module": "@jupyter-widgets/controls",
      "model_module_version": "1.5.0",
      "model_name": "DescriptionStyleModel",
      "state": {
       "description_width": ""
      }
     },
     "b93a47cfff3c4d29b9ab1b311c4b1329": {
      "model_module": "@jupyter-widgets/controls",
      "model_module_version": "1.5.0",
      "model_name": "ButtonModel",
      "state": {
       "description": "Clear TextBox",
       "layout": "IPY_MODEL_bc3ff4b9e0e1473d9c806444cc1c76f9",
       "style": "IPY_MODEL_63525cebff7643738d1e3d4024459975"
      }
     },
     "ba1abed92c274fde8a1eaad633f09db5": {
      "model_module": "@jupyter-widgets/output",
      "model_module_version": "1.0.0",
      "model_name": "OutputModel",
      "state": {
       "layout": "IPY_MODEL_57b87ce47fc04bd9a036558a7afe5f17",
       "outputs": [
        {
         "name": "stdout",
         "output_type": "stream",
         "text": "Loading transects please wait.\nLoading  CA_USA_transects.geojson\nTransects Loaded.\n"
        }
       ]
      }
     },
     "ba9ec42ddd9a4d38aae83db1afa11899": {
      "model_module": "jupyter-leaflet",
      "model_module_version": "^0.17.0",
      "model_name": "LeafletWMSLayerModel",
      "state": {
       "_model_module_version": "^0.17.0",
       "_view_module_version": "^0.17.0",
       "attribution": "USGS",
       "crs": {
        "custom": false,
        "name": "EPSG3857"
       },
       "format": "image/png",
       "layers": "33DEPElevation:Hillshade Elevation Tinted",
       "name": "USGS 3DEP Elevation",
       "options": [
        "attribution",
        "bounds",
        "detect_retina",
        "format",
        "layers",
        "max_native_zoom",
        "max_zoom",
        "min_native_zoom",
        "min_zoom",
        "no_wrap",
        "styles",
        "tile_size",
        "tms",
        "transparent",
        "uppercase"
       ],
       "transparent": true,
       "url": "https://elevation.nationalmap.gov/arcgis/services/3DEPElevation/ImageServer/WMSServer?"
      }
     },
     "bb4924168b1044faa899421976825f3a": {
      "model_module": "@jupyter-widgets/controls",
      "model_module_version": "1.5.0",
      "model_name": "DatePickerModel",
      "state": {
       "description": "End Date",
       "disabled": false,
       "layout": "IPY_MODEL_9e9fada671314db0af4c9a50e6ac56ab",
       "style": "IPY_MODEL_f7011c2b7b764044be3d705dc2f7a8e8",
       "value": {
        "date": 1,
        "month": 2,
        "year": 2019
       }
      }
     },
     "bc3ff4b9e0e1473d9c806444cc1c76f9": {
      "model_module": "@jupyter-widgets/base",
      "model_module_version": "1.2.0",
      "model_name": "LayoutModel",
      "state": {}
     },
     "bd74f09deb63421dafac233091026d59": {
      "model_module": "jupyter-leaflet",
      "model_module_version": "^0.17.0",
      "model_name": "LeafletTileLayerModel",
      "state": {
       "_model_module_version": "^0.17.0",
       "_view_module_version": "^0.17.0",
       "attribution": "Map data: (C) OpenStreetMap contributors, SRTM | Map style: (C) OpenTopoMap (CC-BY-SA)",
       "max_zoom": 17,
       "name": "OpenTopoMap",
       "options": [
        "attribution",
        "bounds",
        "detect_retina",
        "max_native_zoom",
        "max_zoom",
        "min_native_zoom",
        "min_zoom",
        "no_wrap",
        "tile_size",
        "tms"
       ],
       "url": "https://a.tile.opentopomap.org/{z}/{x}/{y}.png"
      }
     },
     "bfad28ad120743d3b901ef1406c89733": {
      "model_module": "jupyter-leaflet",
      "model_module_version": "^0.17.0",
      "model_name": "LeafletTileLayerModel",
      "state": {
       "_model_module_version": "^0.17.0",
       "_view_module_version": "^0.17.0",
       "attribution": "Datenquelle: basemap.at",
       "max_zoom": 19,
       "name": "BasemapAT.overlay",
       "options": [
        "attribution",
        "bounds",
        "detect_retina",
        "max_native_zoom",
        "max_zoom",
        "min_native_zoom",
        "min_zoom",
        "no_wrap",
        "tile_size",
        "tms"
       ],
       "url": "https://maps.wien.gv.at/basemap/bmapoverlay/normal/google3857/{z}/{y}/{x}.png"
      }
     },
     "bfb9011218ef47f683752da2b3209162": {
      "model_module": "@jupyter-widgets/controls",
      "model_module_version": "1.5.0",
      "model_name": "ButtonModel",
      "state": {
       "description": "Load Shoreline",
       "layout": "IPY_MODEL_8819545f5451477f8c316d3b65968cc0",
       "style": "IPY_MODEL_cb6fb1d1c0ee44cbb9c4e0c428c5b207"
      }
     },
     "c069f2352717407290161d4706ab35ef": {
      "model_module": "jupyter-leaflet",
      "model_module_version": "^0.17.0",
      "model_name": "LeafletTileLayerModel",
      "state": {
       "_model_module_version": "^0.17.0",
       "_view_module_version": "^0.17.0",
       "attribution": "Justice Map",
       "max_zoom": 22,
       "name": "JusticeMap.hispanic",
       "options": [
        "attribution",
        "bounds",
        "detect_retina",
        "max_native_zoom",
        "max_zoom",
        "min_native_zoom",
        "min_zoom",
        "no_wrap",
        "tile_size",
        "tms"
       ],
       "url": "https://www.justicemap.org/tile/county/hispanic/{z}/{x}/{y}.png"
      }
     },
     "c09ea10b9999441cb60499bf68eba92a": {
      "model_module": "jupyter-leaflet",
      "model_module_version": "^0.17.0",
      "model_name": "LeafletTileLayerModel",
      "state": {
       "_model_module_version": "^0.17.0",
       "_view_module_version": "^0.17.0",
       "attribution": "openAIP Data (CC-BY-NC-SA)",
       "max_zoom": 14,
       "name": "OpenAIP",
       "options": [
        "attribution",
        "bounds",
        "detect_retina",
        "max_native_zoom",
        "max_zoom",
        "min_native_zoom",
        "min_zoom",
        "no_wrap",
        "tile_size",
        "tms"
       ],
       "url": "https://1.tile.maps.openaip.net/geowebcache/service/tms/1.0.0/openaip_basemap@EPSG%3A900913@png/{z}/{x}/{y}.png"
      }
     },
     "c13a03af571344eabd2217c5cbcae361": {
      "model_module": "@jupyter-widgets/base",
      "model_module_version": "1.2.0",
      "model_name": "LayoutModel",
      "state": {
       "border": "1px solid black"
      }
     },
     "c1492c9f47b54a59a686f68ad1d642c2": {
      "model_module": "@jupyter-widgets/controls",
      "model_module_version": "1.5.0",
      "model_name": "HTMLModel",
      "state": {
       "layout": "IPY_MODEL_c459b0c9e0974405bfde52b025ead1e5",
       "style": "IPY_MODEL_abf135ce4333445886f218e74a8e947f",
       "value": "<h2><b>Load ROIs/BBox</b></h2>                You can upload ROIs or Bbox geojson file.                    <li> Load BBox: Load bounding box from geojson file (ex. 'bbox.geojson')</li>                <li> Load ROIs: Load ROIs from geojson file (ex. 'rois.geojson')</li>                    "
      }
     },
     "c1e2c063bc15447b984ad8e1b905e9e1": {
      "model_module": "jupyter-leaflet",
      "model_module_version": "^0.17.0",
      "model_name": "LeafletTileLayerModel",
      "state": {
       "_model_module_version": "^0.17.0",
       "_view_module_version": "^0.17.0",
       "attribution": "(C) OpenStreetMap contributors",
       "name": "OpenStreetMap.BlackAndWhite",
       "options": [
        "attribution",
        "bounds",
        "detect_retina",
        "max_native_zoom",
        "max_zoom",
        "min_native_zoom",
        "min_zoom",
        "no_wrap",
        "tile_size",
        "tms"
       ],
       "url": "http://a.tiles.wmflabs.org/bw-mapnik/{z}/{x}/{y}.png"
      }
     },
     "c3d142f33345403f8b75f8d715167f45": {
      "model_module": "@jupyter-widgets/base",
      "model_module_version": "1.2.0",
      "model_name": "LayoutModel",
      "state": {
       "margin": "0px 5px 5px 0px"
      }
     },
     "c459b0c9e0974405bfde52b025ead1e5": {
      "model_module": "@jupyter-widgets/base",
      "model_module_version": "1.2.0",
      "model_name": "LayoutModel",
      "state": {
       "margin": "0px 5px 0px 5px"
      }
     },
     "c493efdffc534bb8b3f95cdda1779aee": {
      "model_module": "@jupyter-widgets/controls",
      "model_module_version": "1.5.0",
      "model_name": "ToggleButtonModel",
      "state": {
       "button_style": "primary",
       "icon": "info",
       "layout": "IPY_MODEL_4e3f4f589ab8423a841fe19e901f421a",
       "style": "IPY_MODEL_20656ff363f542c6b6fb16ee10731a37",
       "tooltip": "Get COG/STAC pixel value"
      }
     },
     "c498f3c354ec499bad019647de86866b": {
      "model_module": "jupyter-leaflet",
      "model_module_version": "^0.17.0",
      "model_name": "LeafletTileLayerModel",
      "state": {
       "_model_module_version": "^0.17.0",
       "_view_module_version": "^0.17.0",
       "attribution": "(C) OpenStreetMap contributors, Tiles style by Humanitarian OpenStreetMap Team hosted by OpenStreetMap France",
       "max_zoom": 19,
       "name": "OpenStreetMap.HOT",
       "options": [
        "attribution",
        "bounds",
        "detect_retina",
        "max_native_zoom",
        "max_zoom",
        "min_native_zoom",
        "min_zoom",
        "no_wrap",
        "tile_size",
        "tms"
       ],
       "url": "https://a.tile.openstreetmap.fr/hot/{z}/{x}/{y}.png"
      }
     },
     "c532ad6200be40d79ea5e0f17b8c9421": {
      "model_module": "@jupyter-widgets/controls",
      "model_module_version": "1.5.0",
      "model_name": "ToggleButtonModel",
      "state": {
       "button_style": "primary",
       "icon": "globe",
       "layout": "IPY_MODEL_df493532ef414f3a8d91e2c3f702a98e",
       "style": "IPY_MODEL_206a6cad73684d3490f2d2cc7785d8d4",
       "tooltip": "Split-panel map"
      }
     },
     "c631648f331d4976be83c574599bf9ea": {
      "model_module": "jupyter-leaflet",
      "model_module_version": "^0.17.0",
      "model_name": "LeafletTileLayerModel",
      "state": {
       "_model_module_version": "^0.17.0",
       "_view_module_version": "^0.17.0",
       "attribution": "© swisstopo",
       "name": "SwissFederalGeoportal.NationalMapColor",
       "options": [
        "attribution",
        "bounds",
        "detect_retina",
        "max_native_zoom",
        "max_zoom",
        "min_native_zoom",
        "min_zoom",
        "no_wrap",
        "tile_size",
        "tms"
       ],
       "url": "https://wmts.geo.admin.ch/1.0.0/ch.swisstopo.pixelkarte-farbe/default/current/3857/{z}/{x}/{y}.jpeg"
      }
     },
     "c690976fe82a47dd96d31efd89d58bd2": {
      "model_module": "jupyter-leaflet",
      "model_module_version": "^0.17.0",
      "model_name": "LeafletTileLayerModel",
      "state": {
       "_model_module_version": "^0.17.0",
       "_view_module_version": "^0.17.0",
       "attribution": "Justice Map",
       "max_zoom": 22,
       "name": "JusticeMap.americanIndian",
       "options": [
        "attribution",
        "bounds",
        "detect_retina",
        "max_native_zoom",
        "max_zoom",
        "min_native_zoom",
        "min_zoom",
        "no_wrap",
        "tile_size",
        "tms"
       ],
       "url": "https://www.justicemap.org/tile/county/indian/{z}/{x}/{y}.png"
      }
     },
     "c717db7b7ae34a0d981e4da484280bbf": {
      "model_module": "jupyter-leaflet",
      "model_module_version": "^0.17.0",
      "model_name": "LeafletTileLayerModel",
      "state": {
       "_model_module_version": "^0.17.0",
       "_view_module_version": "^0.17.0",
       "attribution": "Map tiles by Stamen Design, CC BY 3.0 -- Map data (C) OpenStreetMap contributors",
       "name": "Stamen.TerrainBackground",
       "options": [
        "attribution",
        "bounds",
        "detect_retina",
        "max_native_zoom",
        "max_zoom",
        "min_native_zoom",
        "min_zoom",
        "no_wrap",
        "tile_size",
        "tms"
       ],
       "url": "https://stamen-tiles-a.a.ssl.fastly.net/terrain-background/{z}/{x}/{y}.png"
      }
     },
     "c7faea9e75d0460487acb61f39fff7b7": {
      "model_module": "@jupyter-widgets/base",
      "model_module_version": "1.2.0",
      "model_name": "LayoutModel",
      "state": {
       "height": "auto",
       "padding": "0px 0px 0px 4px",
       "width": "auto"
      }
     },
     "c98ec7715fd24888a6dbebf0cdf97289": {
      "model_module": "jupyter-leaflet",
      "model_module_version": "^0.17.0",
      "model_name": "LeafletTileLayerModel",
      "state": {
       "_model_module_version": "^0.17.0",
       "_view_module_version": "^0.17.0",
       "attribution": "(C) Stadia Maps, (C) OpenMapTiles (C) OpenStreetMap contributors",
       "max_zoom": 20,
       "name": "Stadia.AlidadeSmoothDark",
       "options": [
        "attribution",
        "bounds",
        "detect_retina",
        "max_native_zoom",
        "max_zoom",
        "min_native_zoom",
        "min_zoom",
        "no_wrap",
        "tile_size",
        "tms"
       ],
       "url": "https://tiles.stadiamaps.com/tiles/alidade_smooth_dark/{z}/{x}/{y}.png"
      }
     },
     "ca58e402f8e746339d19daa8b2db8f9b": {
      "model_module": "jupyter-leaflet",
      "model_module_version": "^0.17.0",
      "model_name": "LeafletTileLayerModel",
      "state": {
       "_model_module_version": "^0.17.0",
       "_view_module_version": "^0.17.0",
       "attribution": "(C) OpenStreetMap contributors (C) CARTO",
       "max_zoom": 20,
       "name": "CartoDB.DarkMatter",
       "options": [
        "attribution",
        "bounds",
        "detect_retina",
        "max_native_zoom",
        "max_zoom",
        "min_native_zoom",
        "min_zoom",
        "no_wrap",
        "tile_size",
        "tms"
       ],
       "url": "https://a.basemaps.cartocdn.com/dark_all/{z}/{x}/{y}.png"
      }
     },
     "cb1bbc8931a84684a5174a1ed1c6a67f": {
      "model_module": "jupyter-leaflet",
      "model_module_version": "^0.17.0",
      "model_name": "LeafletWMSLayerModel",
      "state": {
       "_model_module_version": "^0.17.0",
       "_view_module_version": "^0.17.0",
       "attribution": "MRLC",
       "crs": {
        "custom": false,
        "name": "EPSG3857"
       },
       "format": "image/png",
       "layers": "NLCD_2004_Land_Cover_L48",
       "name": "NLCD 2004 CONUS Land Cover",
       "options": [
        "attribution",
        "bounds",
        "detect_retina",
        "format",
        "layers",
        "max_native_zoom",
        "max_zoom",
        "min_native_zoom",
        "min_zoom",
        "no_wrap",
        "styles",
        "tile_size",
        "tms",
        "transparent",
        "uppercase"
       ],
       "transparent": true,
       "url": "https://www.mrlc.gov/geoserver/mrlc_display/NLCD_2004_Land_Cover_L48/wms?"
      }
     },
     "cb6fb1d1c0ee44cbb9c4e0c428c5b207": {
      "model_module": "@jupyter-widgets/controls",
      "model_module_version": "1.5.0",
      "model_name": "ButtonStyleModel",
      "state": {
       "button_color": "#69add1"
      }
     },
     "cbd1c494569c4a648e697595a9f91a45": {
      "model_module": "jupyter-leaflet",
      "model_module_version": "^0.17.0",
      "model_name": "LeafletTileLayerModel",
      "state": {
       "_model_module_version": "^0.17.0",
       "_view_module_version": "^0.17.0",
       "attribution": "(C) OpenStreetMap contributors (C) CARTO",
       "max_zoom": 20,
       "name": "CartoDB.Positron",
       "options": [
        "attribution",
        "bounds",
        "detect_retina",
        "max_native_zoom",
        "max_zoom",
        "min_native_zoom",
        "min_zoom",
        "no_wrap",
        "tile_size",
        "tms"
       ],
       "url": "https://a.basemaps.cartocdn.com/light_all/{z}/{x}/{y}.png"
      }
     },
     "cc739dafbda34bdfadda5deae4bd14a3": {
      "model_module": "jupyter-leaflet",
      "model_module_version": "^0.17.0",
      "model_name": "LeafletTileLayerModel",
      "state": {
       "_model_module_version": "^0.17.0",
       "_view_module_version": "^0.17.0",
       "attribution": "Map tiles by Stamen Design, CC BY 3.0 -- Map data (C) OpenStreetMap contributors",
       "max_zoom": 20,
       "name": "Stamen.TonerBackground",
       "options": [
        "attribution",
        "bounds",
        "detect_retina",
        "max_native_zoom",
        "max_zoom",
        "min_native_zoom",
        "min_zoom",
        "no_wrap",
        "tile_size",
        "tms"
       ],
       "url": "https://stamen-tiles-a.a.ssl.fastly.net/toner-background/{z}/{x}/{y}.png"
      }
     },
     "cccf0cb3e379467d99bbc41cce540cf6": {
      "model_module": "@jupyter-widgets/controls",
      "model_module_version": "1.5.0",
      "model_name": "VBoxModel",
      "state": {
       "children": [
        "IPY_MODEL_98d0a801c0984209a3236673eae3ccc0",
        "IPY_MODEL_1b695acd7110459684b8dede955536c3",
        "IPY_MODEL_8b9a7d6cf62f40bf9cc837303b087429"
       ],
       "layout": "IPY_MODEL_49042d92dbc3440696eda853a730830b"
      }
     },
     "ce103d0bd42148f78bdb6fa06c6733ed": {
      "model_module": "@jupyter-widgets/base",
      "model_module_version": "1.2.0",
      "model_name": "LayoutModel",
      "state": {
       "height": "auto",
       "padding": "0px 0px 0px 4px",
       "width": "auto"
      }
     },
     "cffd17b45eb941eca4c9225309b05b2a": {
      "model_module": "jupyter-leaflet",
      "model_module_version": "^0.17.0",
      "model_name": "LeafletTileLayerModel",
      "state": {
       "_model_module_version": "^0.17.0",
       "_view_module_version": "^0.17.0",
       "attribution": "Imagery provided by services from the Global Imagery Browse Services (GIBS), operated by the NASA/GSFC/Earth Science Data and Information System (ESDIS) with funding provided by NASA/HQ.",
       "max_zoom": 5,
       "name": "NASAGIBS.BlueMarble3413",
       "options": [
        "attribution",
        "bounds",
        "detect_retina",
        "max_native_zoom",
        "max_zoom",
        "min_native_zoom",
        "min_zoom",
        "no_wrap",
        "tile_size",
        "tms"
       ],
       "url": "https://gibs.earthdata.nasa.gov/wmts/epsg3413/best/BlueMarble_NextGeneration/default/EPSG3413_500m/{z}/{y}/{x}.jpeg"
      }
     },
     "d02e6cdabd72456fa7c5df2e3876c9df": {
      "model_module": "@jupyter-widgets/controls",
      "model_module_version": "1.5.0",
      "model_name": "ToggleButtonModel",
      "state": {
       "button_style": "primary",
       "icon": "folder-open",
       "layout": "IPY_MODEL_2a0b746327d34e3792a3e524eb21c257",
       "style": "IPY_MODEL_e86b20a0b2ff4da48de0c8e75eafeccb",
       "tooltip": "Open local vector/raster data"
      }
     },
     "d07810b186c446ca808def75d4373c17": {
      "model_module": "@jupyter-widgets/base",
      "model_module_version": "1.2.0",
      "model_name": "LayoutModel",
      "state": {
       "height": "auto",
       "padding": "0px 0px 0px 4px",
       "width": "auto"
      }
     },
     "d13f509b44b04a549f7a56ba3eba5691": {
      "model_module": "jupyter-leaflet",
      "model_module_version": "^0.17.0",
      "model_name": "LeafletTileLayerModel",
      "state": {
       "_model_module_version": "^0.17.0",
       "_view_module_version": "^0.17.0",
       "attribution": "Geoportail France",
       "max_zoom": 20,
       "name": "GeoportailFrance.parcels",
       "options": [
        "attribution",
        "bounds",
        "detect_retina",
        "max_native_zoom",
        "max_zoom",
        "min_native_zoom",
        "min_zoom",
        "no_wrap",
        "tile_size",
        "tms"
       ],
       "url": "https://wxs.ign.fr/choisirgeoportail/geoportail/wmts?REQUEST=GetTile&SERVICE=WMTS&VERSION=1.0.0&STYLE=PCI vecteur&TILEMATRIXSET=PM&FORMAT=image/png&LAYER=CADASTRALPARCELS.PARCELLAIRE_EXPRESS&TILEMATRIX={z}&TILEROW={y}&TILECOL={x}"
      }
     },
     "d34682d625b5451a93ba85113dc39ef9": {
      "model_module": "jupyter-leaflet",
      "model_module_version": "^0.17.0",
      "model_name": "LeafletTileLayerModel",
      "state": {
       "_model_module_version": "^0.17.0",
       "_view_module_version": "^0.17.0",
       "attribution": "Map data: (C) OpenStreetMap contributors | Map style: (C) waymarkedtrails.org (CC-BY-SA)",
       "name": "WaymarkedTrails.skating",
       "options": [
        "attribution",
        "bounds",
        "detect_retina",
        "max_native_zoom",
        "max_zoom",
        "min_native_zoom",
        "min_zoom",
        "no_wrap",
        "tile_size",
        "tms"
       ],
       "url": "https://tile.waymarkedtrails.org/skating/{z}/{x}/{y}.png"
      }
     },
     "d502420b1f1f467790523a26ab149798": {
      "model_module": "@jupyter-widgets/base",
      "model_module_version": "1.2.0",
      "model_name": "LayoutModel",
      "state": {}
     },
     "d573dcba2e854105960403d2898e4ed4": {
      "model_module": "jupyter-leaflet",
      "model_module_version": "^0.17.0",
      "model_name": "LeafletTileLayerModel",
      "state": {
       "_model_module_version": "^0.17.0",
       "_view_module_version": "^0.17.0",
       "attribution": "Geoportail France",
       "name": "GeoportailFrance.plan",
       "options": [
        "attribution",
        "bounds",
        "detect_retina",
        "max_native_zoom",
        "max_zoom",
        "min_native_zoom",
        "min_zoom",
        "no_wrap",
        "tile_size",
        "tms"
       ],
       "url": "https://wxs.ign.fr/choisirgeoportail/geoportail/wmts?REQUEST=GetTile&SERVICE=WMTS&VERSION=1.0.0&STYLE=normal&TILEMATRIXSET=PM&FORMAT=image/png&LAYER=GEOGRAPHICALGRIDSYSTEMS.PLANIGNV2&TILEMATRIX={z}&TILEROW={y}&TILECOL={x}"
      }
     },
     "d6ba23d0c95d48feb312c2ed429acb36": {
      "model_module": "@jupyter-widgets/controls",
      "model_module_version": "1.5.0",
      "model_name": "DescriptionStyleModel",
      "state": {
       "description_width": ""
      }
     },
     "d70fbdc059d84aadad86548ed286a18f": {
      "model_module": "@jupyter-widgets/base",
      "model_module_version": "1.2.0",
      "model_name": "LayoutModel",
      "state": {}
     },
     "d93b0de68e2e44e9a4dd10d57232274f": {
      "model_module": "@jupyter-widgets/controls",
      "model_module_version": "1.5.0",
      "model_name": "ToggleButtonModel",
      "state": {
       "button_style": "primary",
       "icon": "gears",
       "layout": "IPY_MODEL_fc09dcdc7aa64b47890d460d845dd62f",
       "style": "IPY_MODEL_b8890debc9854271b4c2208a9da48640",
       "tooltip": "WhiteboxTools for local geoprocessing"
      }
     },
     "d9b0cb4b4bdb4b2ea041937ffda1bc4a": {
      "model_module": "jupyter-leaflet",
      "model_module_version": "^0.17.0",
      "model_name": "LeafletTileLayerModel",
      "state": {
       "_model_module_version": "^0.17.0",
       "_view_module_version": "^0.17.0",
       "attribution": "Datenquelle: basemap.at",
       "max_zoom": 19,
       "name": "BasemapAT.terrain",
       "options": [
        "attribution",
        "bounds",
        "detect_retina",
        "max_native_zoom",
        "max_zoom",
        "min_native_zoom",
        "min_zoom",
        "no_wrap",
        "tile_size",
        "tms"
       ],
       "url": "https://maps.wien.gv.at/basemap/bmapgelaende/grau/google3857/{z}/{y}/{x}.jpeg"
      }
     },
     "da496002bec840e1a3b091c5f1c61c05": {
      "model_module": "jupyter-leaflet",
      "model_module_version": "^0.17.0",
      "model_name": "LeafletTileLayerModel",
      "state": {
       "_model_module_version": "^0.17.0",
       "_view_module_version": "^0.17.0",
       "attribution": "(C) OpenStreetMap France | (C) OpenStreetMap contributors",
       "max_zoom": 20,
       "name": "OpenStreetMap.France",
       "options": [
        "attribution",
        "bounds",
        "detect_retina",
        "max_native_zoom",
        "max_zoom",
        "min_native_zoom",
        "min_zoom",
        "no_wrap",
        "tile_size",
        "tms"
       ],
       "url": "https://a.tile.openstreetmap.fr/osmfr/{z}/{x}/{y}.png"
      }
     },
     "da88e7ee6d2a43158eeda8b748fead81": {
      "model_module": "@jupyter-widgets/base",
      "model_module_version": "1.2.0",
      "model_name": "LayoutModel",
      "state": {}
     },
     "da8c73059b3f41ca9719688ea724706e": {
      "model_module": "jupyter-leaflet",
      "model_module_version": "^0.17.0",
      "model_name": "LeafletTileLayerModel",
      "state": {
       "_model_module_version": "^0.17.0",
       "_view_module_version": "^0.17.0",
       "attribution": "Map memomaps.de CC-BY-SA, map data (C) OpenStreetMap contributors",
       "name": "OPNVKarte",
       "options": [
        "attribution",
        "bounds",
        "detect_retina",
        "max_native_zoom",
        "max_zoom",
        "min_native_zoom",
        "min_zoom",
        "no_wrap",
        "tile_size",
        "tms"
       ],
       "url": "https://tileserver.memomaps.de/tilegen/{z}/{x}/{y}.png"
      }
     },
     "dc6f04e5410e4a5f8f5ec7849ba42db6": {
      "model_module": "jupyter-leaflet",
      "model_module_version": "^0.17.0",
      "model_name": "LeafletTileLayerModel",
      "state": {
       "_model_module_version": "^0.17.0",
       "_view_module_version": "^0.17.0",
       "attribution": "(C) OpenStreetMap contributors (C) CARTO",
       "max_zoom": 20,
       "name": "CartoDB.DarkMatterOnlyLabels",
       "options": [
        "attribution",
        "bounds",
        "detect_retina",
        "max_native_zoom",
        "max_zoom",
        "min_native_zoom",
        "min_zoom",
        "no_wrap",
        "tile_size",
        "tms"
       ],
       "url": "https://a.basemaps.cartocdn.com/dark_only_labels/{z}/{x}/{y}.png"
      }
     },
     "dd81a63b68094d59af57ebe5af1bb8c3": {
      "model_module": "@jupyter-widgets/base",
      "model_module_version": "1.2.0",
      "model_name": "LayoutModel",
      "state": {}
     },
     "ddb183e04d7d47bc8581dfb14328732f": {
      "model_module": "jupyter-leaflet",
      "model_module_version": "^0.17.0",
      "model_name": "LeafletTileLayerModel",
      "state": {
       "_model_module_version": "^0.17.0",
       "_view_module_version": "^0.17.0",
       "attribution": "Imagery provided by services from the Global Imagery Browse Services (GIBS), operated by the NASA/GSFC/Earth Science Data and Information System (ESDIS) with funding provided by NASA/HQ.",
       "max_zoom": 5,
       "name": "NASAGIBS.BlueMarble3031",
       "options": [
        "attribution",
        "bounds",
        "detect_retina",
        "max_native_zoom",
        "max_zoom",
        "min_native_zoom",
        "min_zoom",
        "no_wrap",
        "tile_size",
        "tms"
       ],
       "url": "https://gibs.earthdata.nasa.gov/wmts/epsg3031/best/BlueMarble_NextGeneration/default/EPSG3031_500m/{z}/{y}/{x}.jpeg"
      }
     },
     "ddbee40dd5a8464284db38a4b4110f19": {
      "model_module": "@jupyter-widgets/base",
      "model_module_version": "1.2.0",
      "model_name": "LayoutModel",
      "state": {}
     },
     "dea09e9b3e374df388be6a08fff93c57": {
      "model_module": "@jupyter-widgets/controls",
      "model_module_version": "1.5.0",
      "model_name": "HBoxModel",
      "state": {
       "children": [
        "IPY_MODEL_2c01b05ce44b48f791b1c0d9ac41be04",
        "IPY_MODEL_bb4924168b1044faa899421976825f3a"
       ],
       "layout": "IPY_MODEL_d502420b1f1f467790523a26ab149798"
      }
     },
     "df493532ef414f3a8d91e2c3f702a98e": {
      "model_module": "@jupyter-widgets/base",
      "model_module_version": "1.2.0",
      "model_name": "LayoutModel",
      "state": {
       "height": "auto",
       "padding": "0px 0px 0px 4px",
       "width": "auto"
      }
     },
     "df4b46c1c46848cb89246269be72f009": {
      "model_module": "@jupyter-widgets/controls",
      "model_module_version": "1.5.0",
      "model_name": "DescriptionStyleModel",
      "state": {
       "description_width": ""
      }
     },
     "e08fd98e78bf4aa8b29f8f5b58a6c5ca": {
      "model_module": "jupyter-leaflet",
      "model_module_version": "^0.17.0",
      "model_name": "LeafletWMSLayerModel",
      "state": {
       "_model_module_version": "^0.17.0",
       "_view_module_version": "^0.17.0",
       "attribution": "USGS",
       "crs": {
        "custom": false,
        "name": "EPSG3857"
       },
       "format": "image/png",
       "layers": "USGSNAIPImagery:FalseColorComposite",
       "name": "USGS NAIP Imagery False Color",
       "options": [
        "attribution",
        "bounds",
        "detect_retina",
        "format",
        "layers",
        "max_native_zoom",
        "max_zoom",
        "min_native_zoom",
        "min_zoom",
        "no_wrap",
        "styles",
        "tile_size",
        "tms",
        "transparent",
        "uppercase"
       ],
       "transparent": true,
       "url": "https://imagery.nationalmap.gov/arcgis/services/USGSNAIPImagery/ImageServer/WMSServer?"
      }
     },
     "e11a08a734f4424fb48c003f2957ea4a": {
      "model_module": "jupyter-leaflet",
      "model_module_version": "^0.17.0",
      "model_name": "LeafletTileLayerModel",
      "state": {
       "_model_module_version": "^0.17.0",
       "_view_module_version": "^0.17.0",
       "attribution": "Datenquelle: basemap.at",
       "max_zoom": 19,
       "name": "BasemapAT.grau",
       "options": [
        "attribution",
        "bounds",
        "detect_retina",
        "max_native_zoom",
        "max_zoom",
        "min_native_zoom",
        "min_zoom",
        "no_wrap",
        "tile_size",
        "tms"
       ],
       "url": "https://maps.wien.gv.at/basemap/bmapgrau/normal/google3857/{z}/{y}/{x}.png"
      }
     },
     "e16668f0682a45a4885345ee0c1abbc0": {
      "model_module": "jupyter-leaflet",
      "model_module_version": "^0.17.0",
      "model_name": "LeafletTileLayerModel",
      "state": {
       "_model_module_version": "^0.17.0",
       "_view_module_version": "^0.17.0",
       "attribution": "Map tiles by <a href=\"https://labs.strava.com/heatmap\">Strava 2021</a>",
       "max_zoom": 15,
       "name": "Strava.Winter",
       "options": [
        "attribution",
        "bounds",
        "detect_retina",
        "max_native_zoom",
        "max_zoom",
        "min_native_zoom",
        "min_zoom",
        "no_wrap",
        "tile_size",
        "tms"
       ],
       "url": "https://heatmap-external-a.strava.com/tiles/winter/hot/{z}/{x}/{y}.png"
      }
     },
     "e1ce17914240440a9cb57e9430a93e10": {
      "model_module": "jupyter-leaflet",
      "model_module_version": "^0.17.0",
      "model_name": "LeafletTileLayerModel",
      "state": {
       "_model_module_version": "^0.17.0",
       "_view_module_version": "^0.17.0",
       "attribution": "Google",
       "max_zoom": 22,
       "name": "Google Satellite",
       "options": [
        "attribution",
        "bounds",
        "detect_retina",
        "max_native_zoom",
        "max_zoom",
        "min_native_zoom",
        "min_zoom",
        "no_wrap",
        "tile_size",
        "tms"
       ],
       "url": "https://mt1.google.com/vt/lyrs=y&x={x}&y={y}&z={z}"
      }
     },
     "e283f162ade040ffab8dedbb255988cf": {
      "model_module": "jupyter-leaflet",
      "model_module_version": "^0.17.0",
      "model_name": "LeafletTileLayerModel",
      "state": {
       "_model_module_version": "^0.17.0",
       "_view_module_version": "^0.17.0",
       "attribution": "Map data: (C) OpenSeaMap contributors",
       "max_zoom": 22,
       "name": "OpenSeaMap",
       "options": [
        "attribution",
        "bounds",
        "detect_retina",
        "max_native_zoom",
        "max_zoom",
        "min_native_zoom",
        "min_zoom",
        "no_wrap",
        "tile_size",
        "tms"
       ],
       "url": "https://tiles.openseamap.org/seamark/{z}/{x}/{y}.png"
      }
     },
     "e305762164e84efa9acaadf7ae94b797": {
      "model_module": "@jupyter-widgets/base",
      "model_module_version": "1.2.0",
      "model_name": "LayoutModel",
      "state": {
       "height": "auto",
       "padding": "0px 0px 0px 4px",
       "width": "auto"
      }
     },
     "e31283b98f3247f19b1edcda0f6a7c58": {
      "model_module": "jupyter-leaflet",
      "model_module_version": "^0.17.0",
      "model_name": "LeafletTileLayerModel",
      "state": {
       "_model_module_version": "^0.17.0",
       "_view_module_version": "^0.17.0",
       "attribution": "Earthstar Geographics",
       "max_zoom": 24,
       "name": "Esri.ArcticImagery",
       "options": [
        "attribution",
        "bounds",
        "detect_retina",
        "max_native_zoom",
        "max_zoom",
        "min_native_zoom",
        "min_zoom",
        "no_wrap",
        "tile_size",
        "tms"
       ],
       "url": "http://server.arcgisonline.com/ArcGIS/rest/services/Polar/Arctic_Imagery/MapServer/tile/{z}/{y}/{x}"
      }
     },
     "e35e15ef64664ed8bfb537d2000fba5e": {
      "model_module": "@jupyter-widgets/base",
      "model_module_version": "1.2.0",
      "model_name": "LayoutModel",
      "state": {}
     },
     "e4168782e111480aba7a13575372df4f": {
      "model_module": "jupyter-leaflet",
      "model_module_version": "^0.17.0",
      "model_name": "LeafletTileLayerModel",
      "state": {
       "_model_module_version": "^0.17.0",
       "_view_module_version": "^0.17.0",
       "attribution": "Map tiles by Stamen Design, CC BY 3.0 -- Map data (C) OpenStreetMap contributors",
       "max_zoom": 20,
       "name": "Stamen.TonerHybrid",
       "options": [
        "attribution",
        "bounds",
        "detect_retina",
        "max_native_zoom",
        "max_zoom",
        "min_native_zoom",
        "min_zoom",
        "no_wrap",
        "tile_size",
        "tms"
       ],
       "url": "https://stamen-tiles-a.a.ssl.fastly.net/toner-hybrid/{z}/{x}/{y}.png"
      }
     },
     "e4e03e39cb02412ab6ab1de5d50f9bec": {
      "model_module": "@jupyter-widgets/controls",
      "model_module_version": "1.5.0",
      "model_name": "DescriptionStyleModel",
      "state": {
       "description_width": ""
      }
     },
     "e4e5d1ee60a84c07a3f033b8ca4b9722": {
      "model_module": "@jupyter-widgets/controls",
      "model_module_version": "1.5.0",
      "model_name": "ButtonModel",
      "state": {
       "description": "Load rois from file",
       "layout": "IPY_MODEL_ddbee40dd5a8464284db38a4b4110f19",
       "style": "IPY_MODEL_86a2e14a64e34beab149f9abccdc1377"
      }
     },
     "e558f793d6be47f6a8ff48bedd8083a2": {
      "model_module": "jupyter-leaflet",
      "model_module_version": "^0.17.0",
      "model_name": "LeafletTileLayerModel",
      "state": {
       "_model_module_version": "^0.17.0",
       "_view_module_version": "^0.17.0",
       "attribution": "Imagery provided by services from the Global Imagery Browse Services (GIBS), operated by the NASA/GSFC/Earth Science Data and Information System (ESDIS) with funding provided by NASA/HQ.",
       "max_zoom": 8,
       "name": "NASAGIBS.ViirsEarthAtNight2012",
       "options": [
        "attribution",
        "bounds",
        "detect_retina",
        "max_native_zoom",
        "max_zoom",
        "min_native_zoom",
        "min_zoom",
        "no_wrap",
        "tile_size",
        "tms"
       ],
       "url": "https://map1.vis.earthdata.nasa.gov/wmts-webmerc/VIIRS_CityLights_2012/default//GoogleMapsCompatible_Level8/{z}/{y}/{x}.jpg"
      }
     },
     "e73bc1a2d52840a982f3daacf4679ba4": {
      "model_module": "@jupyter-widgets/controls",
      "model_module_version": "1.5.0",
      "model_name": "DescriptionStyleModel",
      "state": {
       "description_width": ""
      }
     },
     "e86b20a0b2ff4da48de0c8e75eafeccb": {
      "model_module": "@jupyter-widgets/controls",
      "model_module_version": "1.5.0",
      "model_name": "DescriptionStyleModel",
      "state": {
       "description_width": ""
      }
     },
     "e923831dc8094e66b3d94f55c0a0381b": {
      "model_module": "jupyter-leaflet",
      "model_module_version": "^0.17.0",
      "model_name": "LeafletTileLayerModel",
      "state": {
       "_model_module_version": "^0.17.0",
       "_view_module_version": "^0.17.0",
       "attribution": "Justice Map",
       "max_zoom": 22,
       "name": "JusticeMap.white",
       "options": [
        "attribution",
        "bounds",
        "detect_retina",
        "max_native_zoom",
        "max_zoom",
        "min_native_zoom",
        "min_zoom",
        "no_wrap",
        "tile_size",
        "tms"
       ],
       "url": "https://www.justicemap.org/tile/county/white/{z}/{x}/{y}.png"
      }
     },
     "e9a562d97ab942ccbb3379c65de94465": {
      "model_module": "jupyter-leaflet",
      "model_module_version": "^0.17.0",
      "model_name": "LeafletTileLayerModel",
      "state": {
       "_model_module_version": "^0.17.0",
       "_view_module_version": "^0.17.0",
       "attribution": "CyclOSM | Map data: (C) OpenStreetMap contributors",
       "max_zoom": 20,
       "name": "CyclOSM",
       "options": [
        "attribution",
        "bounds",
        "detect_retina",
        "max_native_zoom",
        "max_zoom",
        "min_native_zoom",
        "min_zoom",
        "no_wrap",
        "tile_size",
        "tms"
       ],
       "url": "https://a.tile-cyclosm.openstreetmap.fr/cyclosm/{z}/{x}/{y}.png"
      }
     },
     "ea906cbbdef4422f9dee0643b2373e1a": {
      "model_module": "@jupyter-widgets/controls",
      "model_module_version": "1.5.0",
      "model_name": "VBoxModel",
      "state": {
       "children": [
        "IPY_MODEL_1a49a1450d724465b2eaea1977861909",
        "IPY_MODEL_0c1413892d9a4bd58f75e6a9510a9351",
        "IPY_MODEL_0e893356eace4ecfb4d2d5f24555014a",
        "IPY_MODEL_c1492c9f47b54a59a686f68ad1d642c2",
        "IPY_MODEL_e4e5d1ee60a84c07a3f033b8ca4b9722",
        "IPY_MODEL_82c76793b78c4ae385abd757c42a7f11"
       ],
       "layout": "IPY_MODEL_8cb4eeb558cf497f86a69525353da710"
      }
     },
     "ececcc234e3c43d39c88648c7c8528d8": {
      "model_module": "@jupyter-widgets/controls",
      "model_module_version": "1.5.0",
      "model_name": "DescriptionStyleModel",
      "state": {
       "description_width": ""
      }
     },
     "ef5bf89ae0924bc797112cbf3ced0bd9": {
      "model_module": "@jupyter-widgets/controls",
      "model_module_version": "1.5.0",
      "model_name": "ButtonModel",
      "state": {
       "description": "Load Transects",
       "layout": "IPY_MODEL_4102682180cd4ee0bdb08970b345fa16",
       "style": "IPY_MODEL_a72b3843fca3493e9116cb90736e38fa"
      }
     },
     "ef96358002254da2a2741f1a07624e50": {
      "model_module": "jupyter-leaflet",
      "model_module_version": "^0.17.0",
      "model_name": "LeafletTileLayerModel",
      "state": {
       "_model_module_version": "^0.17.0",
       "_view_module_version": "^0.17.0",
       "attribution": "Datenquelle: basemap.at",
       "max_zoom": 19,
       "name": "BasemapAT.surface",
       "options": [
        "attribution",
        "bounds",
        "detect_retina",
        "max_native_zoom",
        "max_zoom",
        "min_native_zoom",
        "min_zoom",
        "no_wrap",
        "tile_size",
        "tms"
       ],
       "url": "https://maps.wien.gv.at/basemap/bmapoberflaeche/grau/google3857/{z}/{y}/{x}.jpeg"
      }
     },
     "efa827d2c7a94d53aa9e9a6e040e5faa": {
      "model_module": "jupyter-leaflet",
      "model_module_version": "^0.17.0",
      "model_name": "LeafletWidgetControlModel",
      "state": {
       "_model_module": "jupyter-leaflet",
       "_model_module_version": "^0.17.0",
       "_view_count": null,
       "_view_module": "jupyter-leaflet",
       "_view_module_version": "^0.17.0",
       "options": [
        "position",
        "transparent_bg"
       ],
       "position": "topright",
       "widget": "IPY_MODEL_29a425673a3f4329a94b3227f4e0e002"
      }
     },
     "f14728e76d30408ea28d77bf78eab101": {
      "model_module": "jupyter-leaflet",
      "model_module_version": "^0.17.0",
      "model_name": "LeafletTileLayerModel",
      "state": {
       "_model_module_version": "^0.17.0",
       "_view_module_version": "^0.17.0",
       "attribution": "Google",
       "max_zoom": 22,
       "name": "Google Satellite",
       "options": [
        "attribution",
        "bounds",
        "detect_retina",
        "max_native_zoom",
        "max_zoom",
        "min_native_zoom",
        "min_zoom",
        "no_wrap",
        "tile_size",
        "tms"
       ],
       "url": "https://mt1.google.com/vt/lyrs=s&x={x}&y={y}&z={z}"
      }
     },
     "f15c7562d0184d0798c2060bb7356bc4": {
      "model_module": "@jupyter-widgets/base",
      "model_module_version": "1.2.0",
      "model_name": "LayoutModel",
      "state": {}
     },
     "f15d34ae306d4cfe924a7c6c289b8fdb": {
      "model_module": "jupyter-leaflet",
      "model_module_version": "^0.17.0",
      "model_name": "LeafletTileLayerModel",
      "state": {
       "_model_module_version": "^0.17.0",
       "_view_module_version": "^0.17.0",
       "attribution": "Imagery provided by services from the Global Imagery Browse Services (GIBS), operated by the NASA/GSFC/Earth Science Data and Information System (ESDIS) with funding provided by NASA/HQ.",
       "max_zoom": 6,
       "name": "NASAGIBS.ModisTerraAOD",
       "options": [
        "attribution",
        "bounds",
        "detect_retina",
        "max_native_zoom",
        "max_zoom",
        "min_native_zoom",
        "min_zoom",
        "no_wrap",
        "tile_size",
        "tms"
       ],
       "url": "https://map1.vis.earthdata.nasa.gov/wmts-webmerc/MODIS_Terra_Aerosol/default//GoogleMapsCompatible_Level6/{z}/{y}/{x}.png"
      }
     },
     "f1f5afc06df04c76aac1639f2fbe2da1": {
      "model_module": "@jupyter-widgets/base",
      "model_module_version": "1.2.0",
      "model_name": "LayoutModel",
      "state": {
       "height": "600px",
       "width": "100%"
      }
     },
     "f20c45ff3fc34b7280fc4302603a3c85": {
      "model_module": "@jupyter-widgets/controls",
      "model_module_version": "1.5.0",
      "model_name": "ButtonModel",
      "state": {
       "description": "Remove bbox",
       "layout": "IPY_MODEL_dd81a63b68094d59af57ebe5af1bb8c3",
       "style": "IPY_MODEL_f8c73e20e7f548ca92231fdd671109cf"
      }
     },
     "f24b385a93e540f0820d70565ac7c34b": {
      "model_module": "jupyter-leaflet",
      "model_module_version": "^0.17.0",
      "model_name": "LeafletMapModel",
      "state": {
       "_model_module_version": "^0.17.0",
       "_view_module_version": "^0.17.0",
       "bottom": 205638.76442137445,
       "center": [
        36.30031552992812,
        -121.64267129753887
       ],
       "controls": [
        "IPY_MODEL_197affd010534107aba1886ea5f30f2e",
        "IPY_MODEL_118155d2a7454a7b89ec38f97ba0c8ef",
        "IPY_MODEL_3cc8923b7db74ea49125b6692f515512",
        "IPY_MODEL_efa827d2c7a94d53aa9e9a6e040e5faa",
        "IPY_MODEL_8ea3e0efce3c443499927d5ba255ddc4",
        "IPY_MODEL_661ccf84f30f4a73b28623975a43601b",
        "IPY_MODEL_aae989fb81f24f77805767efe1233877"
       ],
       "default_style": "IPY_MODEL_a2f0f3636b0d4e938735530d6bf8d4c5",
       "dragging_style": "IPY_MODEL_60772eeab15c43ec9881a6a4f00934f0",
       "east": -121.28115243767559,
       "fullscreen": false,
       "interpolation": "bilinear",
       "layers": [
        "IPY_MODEL_fa644274525941ad9e2cf8b7fc84f92f",
        "IPY_MODEL_9ef4907281f449c48afebeac192403f7"
       ],
       "layout": "IPY_MODEL_f1f5afc06df04c76aac1639f2fbe2da1",
       "left": 84462.51986321097,
       "max_zoom": 24,
       "modisdate": "2022-10-01",
       "north": 36.466154183577196,
       "options": [
        "bounce_at_zoom_limits",
        "box_zoom",
        "center",
        "close_popup_on_click",
        "double_click_zoom",
        "dragging",
        "fullscreen",
        "inertia",
        "inertia_deceleration",
        "inertia_max_speed",
        "interpolation",
        "keyboard",
        "keyboard_pan_offset",
        "keyboard_zoom_offset",
        "max_zoom",
        "min_zoom",
        "prefer_canvas",
        "scroll_wheel_zoom",
        "tap",
        "tap_tolerance",
        "touch_zoom",
        "world_copy_jump",
        "zoom",
        "zoom_animation_threshold",
        "zoom_delta",
        "zoom_snap"
       ],
       "prefer_canvas": false,
       "right": 85515.51986321097,
       "scroll_wheel_zoom": true,
       "south": 36.1341235198818,
       "style": "IPY_MODEL_a2f0f3636b0d4e938735530d6bf8d4c5",
       "top": 205038.76442137445,
       "west": -122.00419015740215,
       "window_url": "http://localhost:8888/lab/tree/reactored_custom_map.ipynb",
       "zoom": 11
      }
     },
     "f30fe43c75ef452b91358875ca6a4307": {
      "model_module": "@jupyter-widgets/controls",
      "model_module_version": "1.5.0",
      "model_name": "DescriptionStyleModel",
      "state": {
       "description_width": ""
      }
     },
     "f3bba830190d413fa5e5debea5b9050d": {
      "model_module": "@jupyter-widgets/controls",
      "model_module_version": "1.5.0",
      "model_name": "HBoxModel",
      "state": {
       "children": [
        "IPY_MODEL_b93a47cfff3c4d29b9ab1b311c4b1329",
        "IPY_MODEL_ba1abed92c274fde8a1eaad633f09db5"
       ],
       "layout": "IPY_MODEL_82f7e6a43fc644a093fd6bd57e4d3921"
      }
     },
     "f42312501b5447f392be1180a517a018": {
      "model_module": "jupyter-leaflet",
      "model_module_version": "^0.17.0",
      "model_name": "LeafletTileLayerModel",
      "state": {
       "_model_module_version": "^0.17.0",
       "_view_module_version": "^0.17.0",
       "attribution": "© swisstopo",
       "name": "SwissFederalGeoportal.NationalMapGrey",
       "options": [
        "attribution",
        "bounds",
        "detect_retina",
        "max_native_zoom",
        "max_zoom",
        "min_native_zoom",
        "min_zoom",
        "no_wrap",
        "tile_size",
        "tms"
       ],
       "url": "https://wmts.geo.admin.ch/1.0.0/ch.swisstopo.pixelkarte-grau/default/current/3857/{z}/{x}/{y}.jpeg"
      }
     },
     "f47d22d2e7b14c95b38282ebeb3387cf": {
      "model_module": "@jupyter-widgets/base",
      "model_module_version": "1.2.0",
      "model_name": "LayoutModel",
      "state": {}
     },
     "f49772c7ebf44568ae263def741ea8b9": {
      "model_module": "jupyter-leaflet",
      "model_module_version": "^0.17.0",
      "model_name": "LeafletTileLayerModel",
      "state": {
       "_model_module_version": "^0.17.0",
       "_view_module_version": "^0.17.0",
       "attribution": "Datenquelle: basemap.at",
       "max_zoom": 20,
       "name": "BasemapAT.orthofoto",
       "options": [
        "attribution",
        "bounds",
        "detect_retina",
        "max_native_zoom",
        "max_zoom",
        "min_native_zoom",
        "min_zoom",
        "no_wrap",
        "tile_size",
        "tms"
       ],
       "url": "https://maps.wien.gv.at/basemap/bmaporthofoto30cm/normal/google3857/{z}/{y}/{x}.jpeg"
      }
     },
     "f51f5da8fa534de2a99b614de339d388": {
      "model_module": "@jupyter-widgets/base",
      "model_module_version": "1.2.0",
      "model_name": "LayoutModel",
      "state": {}
     },
     "f56001ef3d3a46dbb5154a0257f1421b": {
      "model_module": "@jupyter-widgets/controls",
      "model_module_version": "1.5.0",
      "model_name": "SliderStyleModel",
      "state": {
       "description_width": "initial"
      }
     },
     "f6459dc2b3214791a8051676002ed82f": {
      "model_module": "jupyter-leaflet",
      "model_module_version": "^0.17.0",
      "model_name": "LeafletWMSLayerModel",
      "state": {
       "_model_module_version": "^0.17.0",
       "_view_module_version": "^0.17.0",
       "attribution": "MRLC",
       "crs": {
        "custom": false,
        "name": "EPSG3857"
       },
       "format": "image/png",
       "layers": "NLCD_2008_Land_Cover_L48",
       "name": "NLCD 2008 CONUS Land Cover",
       "options": [
        "attribution",
        "bounds",
        "detect_retina",
        "format",
        "layers",
        "max_native_zoom",
        "max_zoom",
        "min_native_zoom",
        "min_zoom",
        "no_wrap",
        "styles",
        "tile_size",
        "tms",
        "transparent",
        "uppercase"
       ],
       "transparent": true,
       "url": "https://www.mrlc.gov/geoserver/mrlc_display/NLCD_2008_Land_Cover_L48/wms?"
      }
     },
     "f691dfd7b2b545eb9e6d9393bf94f91a": {
      "model_module": "@jupyter-widgets/controls",
      "model_module_version": "1.5.0",
      "model_name": "ButtonModel",
      "state": {
       "description": "Remove ROIs",
       "layout": "IPY_MODEL_06c626940da54f3daddbe0fd88351e5a",
       "style": "IPY_MODEL_30ca3d1b0dad4f69a3d22503804490aa"
      }
     },
     "f69770e706b64e53836b8b6d43737a65": {
      "model_module": "jupyter-leaflet",
      "model_module_version": "^0.17.0",
      "model_name": "LeafletTileLayerModel",
      "state": {
       "_model_module_version": "^0.17.0",
       "_view_module_version": "^0.17.0",
       "attribution": "Imagery provided by services from the Global Imagery Browse Services (GIBS), operated by the NASA/GSFC/Earth Science Data and Information System (ESDIS) with funding provided by NASA/HQ.",
       "max_zoom": 9,
       "name": "NASAGIBS.ModisTerraBands721CR",
       "options": [
        "attribution",
        "bounds",
        "detect_retina",
        "max_native_zoom",
        "max_zoom",
        "min_native_zoom",
        "min_zoom",
        "no_wrap",
        "tile_size",
        "tms"
       ],
       "url": "https://gibs.earthdata.nasa.gov/wmts/epsg3857/best/MODIS_Terra_CorrectedReflectance_Bands721/default//GoogleMapsCompatible_Level9/{z}/{y}/{x}.jpg"
      }
     },
     "f7011c2b7b764044be3d705dc2f7a8e8": {
      "model_module": "@jupyter-widgets/controls",
      "model_module_version": "1.5.0",
      "model_name": "DescriptionStyleModel",
      "state": {
       "description_width": ""
      }
     },
     "f8c73e20e7f548ca92231fdd671109cf": {
      "model_module": "@jupyter-widgets/controls",
      "model_module_version": "1.5.0",
      "model_name": "ButtonStyleModel",
      "state": {
       "button_color": "red"
      }
     },
     "f9708ead5514430d8cf1b63a6ca09fce": {
      "model_module": "jupyter-leaflet",
      "model_module_version": "^0.17.0",
      "model_name": "LeafletMapStyleModel",
      "state": {
       "_model_module_version": "^0.17.0"
      }
     },
     "f97955da5a9f4999a5cc3cd01daa51e1": {
      "model_module": "@jupyter-widgets/controls",
      "model_module_version": "1.5.0",
      "model_name": "HTMLModel",
      "state": {
       "layout": "IPY_MODEL_1b25de309aa04b6d81e84eaf0b969f11",
       "style": "IPY_MODEL_d6ba23d0c95d48feb312c2ed429acb36",
       "value": "<b>Pick a date:</b>"
      }
     },
     "f9c3a2f8711549f7883d5d22b19a4d37": {
      "model_module": "@jupyter-widgets/controls",
      "model_module_version": "1.5.0",
      "model_name": "DescriptionStyleModel",
      "state": {
       "description_width": ""
      }
     },
     "fa644274525941ad9e2cf8b7fc84f92f": {
      "model_module": "jupyter-leaflet",
      "model_module_version": "^0.17.0",
      "model_name": "LeafletTileLayerModel",
      "state": {
       "_model_module_version": "^0.17.0",
       "_view_module_version": "^0.17.0",
       "attribution": "&copy; <a href=\"https://www.openstreetmap.org/copyright\">OpenStreetMap</a> contributors",
       "base": true,
       "max_zoom": 19,
       "min_zoom": 1,
       "name": "OpenStreetMap",
       "options": [
        "attribution",
        "bounds",
        "detect_retina",
        "max_native_zoom",
        "max_zoom",
        "min_native_zoom",
        "min_zoom",
        "no_wrap",
        "tile_size",
        "tms"
       ],
       "url": "https://a.tile.openstreetmap.org/{z}/{x}/{y}.png"
      }
     },
     "faf062b44bc849a6a1aa884444e37457": {
      "model_module": "jupyter-leaflet",
      "model_module_version": "^0.17.0",
      "model_name": "LeafletTileLayerModel",
      "state": {
       "_model_module_version": "^0.17.0",
       "_view_module_version": "^0.17.0",
       "attribution": "Map tiles by <a href=\"https://labs.strava.com/heatmap\">Strava 2021</a>",
       "max_zoom": 15,
       "name": "Strava.Run",
       "options": [
        "attribution",
        "bounds",
        "detect_retina",
        "max_native_zoom",
        "max_zoom",
        "min_native_zoom",
        "min_zoom",
        "no_wrap",
        "tile_size",
        "tms"
       ],
       "url": "https://heatmap-external-a.strava.com/tiles/run/bluered/{z}/{x}/{y}.png"
      }
     },
     "fb637fbc1d5d4d02999a7e0bf70da920": {
      "model_module": "@jupyter-widgets/controls",
      "model_module_version": "1.5.0",
      "model_name": "ToggleButtonModel",
      "state": {
       "button_style": "primary",
       "icon": "download",
       "layout": "IPY_MODEL_e305762164e84efa9acaadf7ae94b797",
       "style": "IPY_MODEL_00c65ee405dc4e5ab435bfd1118c5a36",
       "tooltip": "Download OSM data"
      }
     },
     "fbcdee420147428f90cb89b0c8397946": {
      "model_module": "@jupyter-widgets/base",
      "model_module_version": "1.2.0",
      "model_name": "LayoutModel",
      "state": {}
     },
     "fc09dcdc7aa64b47890d460d845dd62f": {
      "model_module": "@jupyter-widgets/base",
      "model_module_version": "1.2.0",
      "model_name": "LayoutModel",
      "state": {
       "height": "auto",
       "padding": "0px 0px 0px 4px",
       "width": "auto"
      }
     },
     "fceb36a730174d7c8da459fca901035b": {
      "model_module": "@jupyter-widgets/base",
      "model_module_version": "1.2.0",
      "model_name": "LayoutModel",
      "state": {}
     },
     "fd466e66b8224c64bc025c49b47adc6d": {
      "model_module": "@jupyter-widgets/controls",
      "model_module_version": "1.5.0",
      "model_name": "DescriptionStyleModel",
      "state": {
       "description_width": ""
      }
     },
     "fe51810a1d124494a5619ab9104a9ab8": {
      "model_module": "jupyter-leaflet",
      "model_module_version": "^0.17.0",
      "model_name": "LeafletTileLayerModel",
      "state": {
       "_model_module_version": "^0.17.0",
       "_view_module_version": "^0.17.0",
       "attribution": "Imagery provided by NOAA National Centers for Environmental Information (NCEI); International Bathymetric Chart of the Southern Ocean (IBCSO); General Bathymetric Chart of the Oceans (GEBCO).",
       "max_zoom": 9,
       "name": "Esri.AntarcticBasemap",
       "options": [
        "attribution",
        "bounds",
        "detect_retina",
        "max_native_zoom",
        "max_zoom",
        "min_native_zoom",
        "min_zoom",
        "no_wrap",
        "tile_size",
        "tms"
       ],
       "url": "https://tiles.arcgis.com/tiles/C8EMgrsFcRFL6LrL/arcgis/rest/services/Antarctic_Basemap/MapServer/tile/{z}/{y}/{x}"
      }
     },
     "fe5fdc7457ca4eb983521791beb56d1a": {
      "model_module": "@jupyter-widgets/controls",
      "model_module_version": "1.5.0",
      "model_name": "ButtonModel",
      "state": {
       "description": "Remove all",
       "layout": "IPY_MODEL_f15c7562d0184d0798c2060bb7356bc4",
       "style": "IPY_MODEL_7679682f3d724f6f982bfee6b85ef355"
      }
     },
     "ff51052c9d9c457da614ef141db11b38": {
      "model_module": "jupyter-leaflet",
      "model_module_version": "^0.17.0",
      "model_name": "LeafletWMSLayerModel",
      "state": {
       "_model_module_version": "^0.17.0",
       "_view_module_version": "^0.17.0",
       "attribution": "MRLC",
       "crs": {
        "custom": false,
        "name": "EPSG3857"
       },
       "format": "image/png",
       "layers": "NLCD_2016_Land_Cover_L48",
       "name": "NLCD 2016 CONUS Land Cover",
       "options": [
        "attribution",
        "bounds",
        "detect_retina",
        "format",
        "layers",
        "max_native_zoom",
        "max_zoom",
        "min_native_zoom",
        "min_zoom",
        "no_wrap",
        "styles",
        "tile_size",
        "tms",
        "transparent",
        "uppercase"
       ],
       "transparent": true,
       "url": "https://www.mrlc.gov/geoserver/mrlc_display/NLCD_2016_Land_Cover_L48/wms?"
      }
     },
     "fffe78f0a0044e62b328d4d5f39dff27": {
      "model_module": "@jupyter-widgets/controls",
      "model_module_version": "1.5.0",
      "model_name": "HBoxModel",
      "state": {
       "children": [
        "IPY_MODEL_fe5fdc7457ca4eb983521791beb56d1a",
        "IPY_MODEL_5a9d7cbb009242da9d74a95c318f9a69",
        "IPY_MODEL_f20c45ff3fc34b7280fc4302603a3c85",
        "IPY_MODEL_2d05823372d647bc8d2d8f56e1cfd287",
        "IPY_MODEL_f691dfd7b2b545eb9e6d9393bf94f91a"
       ],
       "layout": "IPY_MODEL_36f1dbd3cd064f0f870b867abc85c18b"
      }
     }
    },
    "version_major": 2,
    "version_minor": 0
   }
  }
 },
 "nbformat": 4,
 "nbformat_minor": 4
}
