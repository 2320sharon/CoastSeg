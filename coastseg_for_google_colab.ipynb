{
  "nbformat": 4,
  "nbformat_minor": 0,
  "metadata": {
    "colab": {
      "provenance": []
    },
    "kernelspec": {
      "name": "python3",
      "display_name": "Python 3"
    },
    "language_info": {
      "name": "python"
    }
  },
  "cells": [
    {
      "cell_type": "markdown",
      "source": [
        "# CoastSeg\n",
        "An interactive mapping dashboard to download satellite imagery and run image segmentation models.\n"
      ],
      "metadata": {
        "id": "D_o21dmmp45V"
      }
    },
    {
      "cell_type": "markdown",
      "source": [
        "## Step 1: Install Packages\n",
        "---"
      ],
      "metadata": {
        "id": "i5T3b1u1Vlbf"
      }
    },
    {
      "cell_type": "code",
      "execution_count": null,
      "metadata": {
        "id": "pksM4owf8J6I"
      },
      "outputs": [],
      "source": [
        "!pip install geopandas\n",
        "!pip install coastseg==0.0.36"
      ]
    },
    {
      "cell_type": "markdown",
      "source": [
        "## Step 2: Connect Google Drive\n",
        "---\n",
        "\n",
        "A folder named 'CoastSeg' will be created in your Google Drive.\n",
        "\n",
        "The 'CoastSeg' folder will contain all the downloaded imagery.\n",
        "\n",
        "\n",
        "Note: Connecting to Google Drive is optional. If you choose to not connect to google drive the downloaded imagery and any files created by coastseg will be saved to Colab's local file system which can be found by clicking the folder 📁icon on the left menu.\n"
      ],
      "metadata": {
        "id": "frCP6xt4Vq0y"
      }
    },
    {
      "cell_type": "code",
      "source": [
        "import os\n",
        "from coastseg.common import mount_google_drive\n",
        "# click 'Connect to Google Drive' button then click 'allow'\n",
        "name=\"CoastSeg\"\n",
        "mount_google_drive(name=name)\n",
        "print(f\"{name} directory located at: {os.getcwd()}\")"
      ],
      "metadata": {
        "id": "irIOjSL-qYHz"
      },
      "execution_count": null,
      "outputs": []
    },
    {
      "cell_type": "markdown",
      "source": [
        "# Step 3: Connect Google Earth Engine\n",
        "---\n",
        "Read the following section if you don't know how to sign in with Google Earth Engine, otherwise skip to the next section.\n",
        "</br>\n",
        "## Tutorial for Signing in with Google Earth Engine (GEE)\n",
        "---\n",
        "**Run the following cell to see a gif that shows how to sign in with GEE.**\n",
        "### Steps:\n",
        "1. Click the link that appears upon running **Step 3: Connect Google Earth Engine**\n",
        "2. This link will open a separate tab where you be prompted to select an email to sign in with. Click the account you used to sign up with GEE.\n",
        "3. Click the button 'Generate Token'\n",
        "4. When the prompt says \"Google Hasn't Verified this App\" press 'continue'\n",
        "5. Select both check boxes on the following prompt.\n",
        "6. On the final page an 'Authorization Code' will be shown copy this code and exit. Copy this code into the box below *Step 3: Connect Google Earth Engine** then click 'enter' on your keyboard and you're done!\n",
        "\n",
        "\n",
        "# ⬇️ THIS CODE TO SEE THE GIF  ⬇️"
      ],
      "metadata": {
        "id": "4N34wpgcXY65"
      }
    },
    {
      "cell_type": "code",
      "source": [
        "from IPython.display import Image\n",
        "Image(url='https://github.com/2320sharon/CoastSeg/blob/main/docs/gifs/gee_auth_tutorial.gif?raw=true',\n",
        "      height=400)"
      ],
      "metadata": {
        "id": "5dYREUz4Xccn"
      },
      "execution_count": null,
      "outputs": []
    },
    {
      "cell_type": "markdown",
      "source": [
        "# Step 3: Connect Google Earth Engine\n",
        "---\n",
        " ## Authenticate with Google Earth Engine (GEE)\n",
        "\n",
        "- Run this cell to initialize GEE so you can download satellite imagery.\n",
        "\n",
        "### First Time Users\n",
        "\n",
        "- If you're a first time user you will need to sign up for a Google Earth Engine acoount in order to use GEE. **Sign up here:** https://signup.earthengine.google.com. This only needs to be done once and it takes a day to get your account verified.\n",
        "\n",
        "### How GEE Authentication works\n",
        "\n",
        "- In order to use GEE you will need an authorization token with is obtained by running the command  `ee.Authenticate()` in this cell. Every time you `Disconnect and delete runtime` in google colab you will need to authorize GEE to be use with this notebook.\n",
        "\n"
      ],
      "metadata": {
        "id": "FSwiU2OIWnjr"
      }
    },
    {
      "cell_type": "code",
      "source": [
        "import ee\n",
        "from google.auth import exceptions as google_auth_exceptions\n",
        "\n",
        "try:\n",
        "    ee.Initialize()\n",
        "except google_auth_exceptions.RefreshError as exception:\n",
        "    print(\"Token expired. Please authenticate with Google:\\n\")\n",
        "    ee.Authenticate()\n",
        "    ee.Initialize()\n",
        "except ee.ee_exception.EEException as error:\n",
        "    print(\"Please authenticate with Google:\\n\")\n",
        "    ee.Authenticate()\n",
        "    ee.Initialize()"
      ],
      "metadata": {
        "id": "aNALdLobr2pF"
      },
      "execution_count": null,
      "outputs": []
    },
    {
      "cell_type": "markdown",
      "source": [
        " # Step 4: Create CoastSeg Map Dashboard\n",
        " ---\n",
        " # How to Use the Map Dashboard\n",
        "\n",
        "---\n",
        "1.  Click `Save Settings` Button\n",
        "1. Use the rectangle tool to draw a bounding box along the coastline.\n",
        "2. Click `Generate ROI` to create Regions of Interest (ROI) rectangles along the coastline within the bounding box. This may take some time.\n",
        "3. Load transects into your bounding box with the `Load Transects` button. If any exist transects are exist within the bounding box on the map they will be loaded onto the map, however if none are found in the bounding box then none will load.\n",
        "4. On the map click the ROIs you want to download.\n",
        "5. Once you've selected all the ROIs you want to download click `Downlod Imagery`\n",
        " - Each downloaded ROI will have its own unique folder within the `data` directory.\n",
        "6. To extract a timeseries of shorelines for the ROIs you downloaded click `Extract Shorelines`.\n",
        "7. For each set of extracted shorelines you can compute the cross distances along the transects and shoreline by clicking `Compute Transects` and save the output to a json file in the roi directory.\n",
        "8. You can convert the json file generated by `Compute Transects` to a csv by clicking `Save Transects CSV`."
      ],
      "metadata": {
        "id": "QtfEeWS-YYcz"
      }
    },
    {
      "cell_type": "code",
      "source": [
        "import os\n",
        "# Local Imports\n",
        "import coastseg\n",
        "from coastseg import coastseg_map\n",
        "from coastseg import coastseg_logs #must be the first module loaded to create logs folder\n",
        "\n",
        "# suppress tensorflow warnings\n",
        "os.environ['TF_CPP_MIN_LOG_LEVEL'] = '3'\n",
        "\n",
        "from coastseg.map_UI import UI\n",
        "coastsegmap=coastseg_map.CoastSeg_Map()\n",
        "coastseg_ui = UI(coastsegmap)\n",
        "coastseg_ui.create_dashboard()"
      ],
      "metadata": {
        "id": "KUNV70VqEGv2"
      },
      "execution_count": null,
      "outputs": []
    },
    {
      "cell_type": "markdown",
      "source": [
        "# Step 5 (Optional): Run Image Segmentation Models on Downloaded Imagery\n",
        "---\n",
        "1. Select if you want to use a GPU or not. By default you won't your computer's GPU\n",
        " - Make sure no matte what model you select you always choose a directory with 'RGB' as the name.\n",
        "2. Select whether your imagery is type **RGB**,**NDWI**,**MNDWI** or **5 Bands**.\n",
        " - If you choose a **NDWI**, **MNDWI** or **5 Bands** the **RGB** will automatically be converted to these the selected type.\n",
        "3. Select the model you want to use.\n",
        "4. Select **Ensemble** or **Best** (Ensemble is recommended because it uses multiple models to create more accurate predictions).\n",
        "- **Best:** Uses only the best model available on the images.\n",
        " </br> - Using only the best model typically means each prediction takes less time because only a single model is used to make the prediction. However the resulting segmentation may not be as accurate as with the ensemble model.\n",
        "</br>\n",
        "</br>\n",
        "- **Ensemble:** Uses all the models available on the images.\n",
        " </br> - Ensemble modeling uses multiple models to create more accurate predictions, this means it takes longer to make a single predicition but the resulting segmentation will generally be more accurate."
      ],
      "metadata": {
        "id": "v90gbQ1sZtRn"
      }
    },
    {
      "cell_type": "code",
      "source": [
        "from coastseg.models_UI import UI_Models\n",
        "models_ui = UI_Models()\n",
        "models_ui.create_dashboard()"
      ],
      "metadata": {
        "id": "c13kmb0sGgOw"
      },
      "execution_count": null,
      "outputs": []
    },
    {
      "cell_type": "code",
      "source": [],
      "metadata": {
        "id": "28Rkwc0ZGlaH"
      },
      "execution_count": null,
      "outputs": []
    }
  ]
}