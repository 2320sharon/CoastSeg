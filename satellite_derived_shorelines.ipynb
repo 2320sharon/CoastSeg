{
 "cells": [
  {
   "cell_type": "code",
   "execution_count": 2,
   "metadata": {},
   "outputs": [],
   "source": [
    "import warnings\n",
    "# External Imports\n",
    "from IPython.display import display\n",
    "from tkinter import Tk,filedialog\n",
    "# import ipywidgets as widgets\n",
    "from ipywidgets import Button, HBox, VBox, Layout, DatePicker, HTML, RadioButtons, SelectMultiple, Output, Checkbox\n",
    "import os\n",
    "import datetime\n",
    "import glob\n",
    "import json\n",
    "import pandas as pd\n",
    "import geopandas as gpd\n",
    "from shapely.geometry import Polygon\n",
    "from google.auth import exceptions as google_auth_exceptions\n",
    "import ee\n",
    "\n",
    "# New imports for coastsat shoreline extraction\n",
    "import numpy as np\n",
    "# Local Imports \n",
    "from CoastSeg import download_roi, file_functions, zoo_model_module, coastseg_map_class\n",
    "# from CoastSeg.CoastSat.coastsat import SDS_shoreline,SDS_download,SDS_tools\n",
    "# suppress tensorflow warnings\n",
    "os.environ['TF_CPP_MIN_LOG_LEVEL'] = '3'\n",
    "root = Tk()"
   ]
  },
  {
   "cell_type": "markdown",
   "metadata": {},
   "source": [
    "## Authenticate and Initialize with Google Earth Engine (GEE)\n",
    "- Run this cell to initialize with GEE which will allow you to download remote sensing data from GEE.\n",
    "### First Time Users\n",
    "- In order to use Google Earth Engine (GEE) you will need to sign up to request access to use Google Earth Engine.https://signup.earthengine.google.com. You will only need to do this once and it takes only a day to get your account verified.\n",
    "### How `ee.Authenticate()` works\n",
    "- In order to initialize with GEE you will need an authorization token with is obtained by running `ee.Authenticate()`.This token lasts 7 days and during those 7 days you will not need to authenticate with google earth engine with an access code. Once the 7 days are up you will need to reauthenticate to use GEE again.\n"
   ]
  },
  {
   "cell_type": "code",
   "execution_count": 3,
   "metadata": {},
   "outputs": [],
   "source": [
    "try:\n",
    "    ee.Initialize()\n",
    "except google_auth_exceptions.RefreshError as exception:\n",
    "    print(\"Please authenticate with Google:\\n\")\n",
    "    ee.Authenticate()\n",
    "    ee.Initialize()"
   ]
  },
  {
   "cell_type": "code",
   "execution_count": 4,
   "metadata": {},
   "outputs": [
    {
     "data": {
      "application/vnd.jupyter.widget-view+json": {
       "model_id": "cea7c7d6870e49419f351343d8a77f51",
       "version_major": 2,
       "version_minor": 0
      },
      "text/plain": [
       "VBox(children=(VBox(children=(HTML(value='<b>Pick a date:</b>', layout=Layout(padding='10px')), HBox(children=…"
      ]
     },
     "metadata": {},
     "output_type": "display_data"
    }
   ],
   "source": [
    "# Date Widgets\n",
    "start_date=DatePicker(\n",
    "    description='Start Date',\n",
    "    value=datetime.date(2018, 12, 1),\n",
    "    disabled=False,\n",
    ")\n",
    "end_date=DatePicker(\n",
    "    description='End Date',\n",
    "    value=datetime.date(2019, 3, 1), #2019, 1, 1\n",
    "    disabled=False,\n",
    ")\n",
    "date_instr=HTML(\n",
    "    value=\"<b>Pick a date:</b>\",\n",
    "    layout=Layout(padding='10px')\n",
    ")\n",
    "dates_box=HBox([start_date,end_date])\n",
    "dates_vbox=VBox([date_instr,dates_box])\n",
    "\n",
    "\n",
    "collection_instr=HTML(\n",
    "    value=\"<b>Pick a collection</b>\\\n",
    "        <br> C01: LandSat Collection 1 \\\n",
    "        <br> C02: LandSat Collection 2  [2022/01/01 and beyond] \\\n",
    "        <br>      - Landsat 9 is only available in C02\",\n",
    "    layout=Layout(padding='10px')\n",
    ")\n",
    "collection_radio=RadioButtons(\n",
    "    options=['C01', 'C02'],\n",
    "    value='C01',\n",
    "    description='Collection:',\n",
    "    disabled=False\n",
    ")\n",
    "collection_vbox=VBox([collection_instr,collection_radio])\n",
    "\n",
    "sat_instr=HTML(\n",
    "    value=\"<b>Pick multiple satellites by holding the control key:</b> \\\n",
    "        <br> - images prior to 2022/01/01 will be downloaded from Collection 1 \\\n",
    "        <br> - images after 2022/01/01 will be automatically downloaded from Collection 2 \\\n",
    "        <br> C01: LandSat Collection 1 : All dates before 2022/01/01\\\n",
    "        <br> C02: LandSat Collection 2 : All dates after 2022/01/01 \\\n",
    "        <br> - Landsat 9 is only available in C02\",\n",
    "    layout=Layout(padding='10px')\n",
    ")\n",
    "\n",
    "\n",
    "satellite_selection=SelectMultiple(\n",
    "    options=['L5', 'L7', 'L8', 'S2'],\n",
    "    value=['L8'],\n",
    "    description='Satellites',\n",
    "    disabled=False\n",
    ")\n",
    "sat_vbox = VBox([sat_instr,satellite_selection])\n",
    "\n",
    "def handle_collection_change(change):\n",
    "    if change['new'] == 'C02':\n",
    "        satellite_selection.options=['L5', 'L7', 'L8', 'L9', 'S2']\n",
    "    else:\n",
    "        satellite_selection.options=['L5', 'L7', 'L8', 'S2']\n",
    "\n",
    "collection_radio.observe(handle_collection_change,\"value\")\n",
    "\n",
    "controls_vbox=VBox([dates_vbox, collection_vbox, sat_vbox])\n",
    "controls_vbox"
   ]
  },
  {
   "cell_type": "code",
   "execution_count": 5,
   "metadata": {
    "scrolled": true
   },
   "outputs": [
    {
     "name": "stdout",
     "output_type": "stream",
     "text": [
      "dates: ['2018-12-01', '2019-03-01']\n",
      "collection: C01\n",
      "sat_list: ['L8']\n"
     ]
    }
   ],
   "source": [
    "# CoastSat Download Variables\n",
    "# ------------------------------\n",
    "# Save the satellites selected to sat_list\n",
    "if satellite_selection.value:\n",
    "    sat_list = list(satellite_selection.value)\n",
    "elif not satellite_selection.value:\n",
    "    print(\"ERROR: You must select at least one satellite first\")\n",
    "# Save the dates selected by the user as well as the selected collection\n",
    "dates = [str(start_date.value),str(end_date.value)]\n",
    "collection = collection_radio.value\n",
    "print(f\"dates: {dates}\")\n",
    "print(f\"collection: {collection}\")\n",
    "print(f\"sat_list: {sat_list}\")"
   ]
  },
  {
   "cell_type": "code",
   "execution_count": 6,
   "metadata": {},
   "outputs": [],
   "source": [
    "# 'output_epsg': 3857,        # epsg code of spatial reference system desired for the output \n",
    "pre_process_settings = { \n",
    "    # general parameters:\n",
    "    'cloud_thresh': 0.5,        # threshold on maximum cloud cover\n",
    "    'dist_clouds': 300,         # ditance around clouds where shoreline can't be mapped\n",
    "    'output_epsg': 3857,        # epsg code of spatial reference system desired for the output   \n",
    "    # quality control:\n",
    "    'check_detection': True,    # if True, shows each shoreline detection to the user for validation\n",
    "    'adjust_detection': False,  # if True, allows user to adjust the postion of each shoreline by changing the threhold\n",
    "    'save_figure': True,        # if True, saves a figure showing the mapped shoreline for each image\n",
    "    # [ONLY FOR ADVANCED USERS] shoreline detection parameters:\n",
    "    'min_beach_area': 4500,     # minimum area (in metres^2) for an object to be labelled as a beach\n",
    "    'buffer_size': 150,         # radius (in metres) of the buffer around sandy pixels considered in the shoreline detection\n",
    "    'min_length_sl': 200,       # minimum length (in metres) of shoreline perimeter to be valid\n",
    "    'cloud_mask_issue': False,  # switch this parameter to True if sand pixels are masked (in black) on many images  \n",
    "    'sand_color': 'default',    # 'default', 'dark' (for grey/black sand beaches) or 'bright' (for white sand beaches)\n",
    "    'pan_off':'False',          # if True, no pan-sharpening is performed on Landsat 7,8 and 9 imagery\n",
    "}\n",
    "\n",
    "# Output wdiget used to print messages and exceptions created by CoastSeg_Map\n",
    "debug_view = Output(layout={'border': '1px solid black'})"
   ]
  },
  {
   "cell_type": "markdown",
   "metadata": {},
   "source": [
    "# Create the Map\n",
    "- Create the map using the map settings set above"
   ]
  },
  {
   "cell_type": "code",
   "execution_count": 7,
   "metadata": {},
   "outputs": [],
   "source": [
    "coastseg_map=coastseg_map_class.CoastSeg_Map()"
   ]
  },
  {
   "cell_type": "markdown",
   "metadata": {},
   "source": [
    "# How to Use The Map\n",
    "---\n",
    "1. Use the rectangle tool to draw a bounding box along the coastline.\n",
    "2. Click `Generate ROI` to create ROI rectangles along the coastline in the bounding box. This may take some time.\n",
    "- You should see a coastline appear in yellow and some rectangles along it.\n",
    "3. Click 1 or more ROIs then click `Save ROI` to save these ROIs for downloading later\n",
    "4. You're ready to download the ROIs. Run the next block of code."
   ]
  },
  {
   "cell_type": "code",
   "execution_count": 8,
   "metadata": {},
   "outputs": [
    {
     "data": {
      "application/vnd.jupyter.widget-view+json": {
       "model_id": "edc3a176f6f14b33a43387927e9c1633",
       "version_major": 2,
       "version_minor": 0
      },
      "text/plain": [
       "Output(layout=Layout(border='1px solid black'))"
      ]
     },
     "metadata": {},
     "output_type": "display_data"
    },
    {
     "data": {
      "application/vnd.jupyter.widget-view+json": {
       "model_id": "3be05a22d6f44f2595401fb8f3b537f3",
       "version_major": 2,
       "version_minor": 0
      },
      "text/plain": [
       "HBox(children=(Button(description='Load Transects', style=ButtonStyle()), Button(description='Load Shoreline',…"
      ]
     },
     "metadata": {},
     "output_type": "display_data"
    },
    {
     "data": {
      "application/vnd.jupyter.widget-view+json": {
       "model_id": "97cbf15217204a1f9ec50ba9d0c0ba1b",
       "version_major": 2,
       "version_minor": 0
      },
      "text/plain": [
       "HBox(children=(Button(description='Remove all', style=ButtonStyle()), Button(description='Remove transects', s…"
      ]
     },
     "metadata": {},
     "output_type": "display_data"
    },
    {
     "data": {
      "application/vnd.jupyter.widget-view+json": {
       "model_id": "53384ff0764b48f988512032945e8858",
       "version_major": 2,
       "version_minor": 0
      },
      "text/plain": [
       "Map(center=[36, -121.5], controls=(ZoomControl(options=['position', 'zoom_in_text', 'zoom_in_title', 'zoom_out…"
      ]
     },
     "metadata": {},
     "output_type": "display_data"
    }
   ],
   "source": [
    "transects_button = Button(description=\"Load Transects\")\n",
    "shoreline_button = Button(description=\"Load Shoreline\")\n",
    "gen_button =Button(description=\"Generate ROI\")\n",
    "save_button = Button(description=\"Save ROI\")\n",
    "load_rois_button = Button(description=\"Load rois from file\")\n",
    "\n",
    "remove_all_button = Button(description=\"Remove all\")\n",
    "remove_transects_button = Button(description=\"Remove transects\")\n",
    "remove_bbox_button = Button(description=\"Remove bbox\")\n",
    "remove_coastline_button = Button(description=\"Remove coastline\")\n",
    "remove_rois_button = Button(description=\"Remove ROIs\")\n",
    "\n",
    "@debug_view.capture(clear_output=True)\n",
    "def on_load_rois_clicked(button):\n",
    "    # Prompt the user to select a directory of images                              \n",
    "    root.withdraw()                                        # Hide the main window.\n",
    "    root.call('wm', 'attributes', '.', '-topmost', True)   # Raise the root to the top of all windows.\n",
    "    root.filename =  filedialog.askopenfilename(initialdir = os.getcwd(),\n",
    "                                                filetypes=[('geojson','*.geojson')],\n",
    "                                                title = \"Select a geojson file containing rois\")\n",
    "    # Save the filename as an attribute of the button\n",
    "    if root.filename:\n",
    "        roi_file= root.filename\n",
    "        rois = gpd.read_file(roi_file)\n",
    "        # style fishnet and convert to dictionary to be added to map\n",
    "        rois_dict = coastseg_map.style_rois(rois)\n",
    "        # Save the styled fishnet to data for interactivity to be added later\n",
    "        coastseg_map.data = rois_dict\n",
    "        # Add the Clickable ROIs to the map\n",
    "        coastseg_map.add_geojson_layer_to_map()\n",
    "        \n",
    "        print(f\"Loaded the rois from the file :\\n{roi_file} \")\n",
    "    else:\n",
    "        raise Exception(\"You must select a valid geojson file first!\")\n",
    "\n",
    "@debug_view.capture(clear_output=True)\n",
    "def on_shoreline_button_clicked(b):\n",
    "    if coastseg_map.shapes_list == [] :\n",
    "        print(\"Draw a bounding box on the coast first, then click Load Transects.\")\n",
    "    else:\n",
    "        debug_view.clear_output(wait=True)\n",
    "        print(\"Loading shoreline please wait.\") \n",
    "        # Add the transects to the map\n",
    "        coastseg_map.load_shoreline_on_map()\n",
    "        print(\"Shoreline loaded.\")\n",
    "\n",
    "@debug_view.capture(clear_output=True)\n",
    "def on_transects_button_clicked(b):\n",
    "    if coastseg_map.shapes_list == [] :\n",
    "        print(\"Draw a bounding box on the coast first, then click Load Transects.\")\n",
    "    else:\n",
    "        debug_view.clear_output(wait=True)\n",
    "        print(\"Loading transects please wait.\") \n",
    "        # Add the transects to the map\n",
    "        coastseg_map.load_transects_on_map()\n",
    "        print(\"Transects Loaded.\")\n",
    "\n",
    "        \n",
    "@debug_view.capture(clear_output=True)\n",
    "def on_gen_button_clicked(b):\n",
    "    if coastseg_map.shapes_list == [] :\n",
    "        print(\"Draw a bounding box on the coast first, then click Generate ROI.\")\n",
    "    else:\n",
    "        debug_view.clear_output(wait=True)\n",
    "        print(\"Generating ROIs please wait.\") \n",
    "        # Generate ROIs along the coastline within the bounding box\n",
    "        coastseg_map.generate_ROIS_fishnet()\n",
    "        debug_view.clear_output(wait=True)\n",
    "        # Add the Clickable ROIs to the map\n",
    "        coastseg_map.add_geojson_layer_to_map()\n",
    "        print(\"ROIs generated. Please Select at least one ROI and click Save ROI.\")\n",
    "\n",
    "@debug_view.capture(clear_output=True)\n",
    "def on_save_button_clicked(b):\n",
    "    if coastseg_map.selected_set:\n",
    "        if len(coastseg_map.selected_set) == 0:\n",
    "             print(\"Must select at least 1 ROI first before you can save ROIs.\")\n",
    "        else:\n",
    "            debug_view.clear_output(wait=True)\n",
    "            coastseg_map.save_roi_fishnet(\"fishnet_rois.geojson\")\n",
    "            print(\"Saving ROIs\")\n",
    "            debug_view.clear_output(wait=True)\n",
    "            print(\"ROIs have been saved. Now click Download ROI to download the ROIs using CoastSat\")\n",
    "    else:\n",
    "        print(\"No ROIs were selected.\")\n",
    "\n",
    "\n",
    "def remove_all_from_map(b):\n",
    "    coastseg_map.remove_all()\n",
    "def remove_transects(b):\n",
    "    coastseg_map.remove_transects()\n",
    "def remove_bbox_from_map(b):\n",
    "    coastseg_map.remove_bbox()\n",
    "def remove_coastline_from_map(b):\n",
    "    coastseg_map.remove_shoreline()\n",
    "def remove_all_rois_from_map(b):\n",
    "    coastseg_map.remove_all_rois()\n",
    "\n",
    "transects_button.on_click(on_transects_button_clicked)    \n",
    "shoreline_button.on_click(on_shoreline_button_clicked) \n",
    "gen_button.on_click(on_gen_button_clicked)\n",
    "save_button.on_click(on_save_button_clicked)\n",
    "load_rois_button.on_click(on_load_rois_clicked)\n",
    "\n",
    "remove_all_button.on_click(remove_all_from_map)\n",
    "remove_transects_button.on_click(remove_transects)\n",
    "remove_bbox_button.on_click(remove_bbox_from_map)\n",
    "remove_coastline_button.on_click(remove_coastline_from_map)\n",
    "remove_rois_button.on_click(remove_all_rois_from_map)\n",
    "\n",
    "erase_buttons=HBox([remove_all_button, remove_transects_button, remove_bbox_button, remove_coastline_button, remove_rois_button])\n",
    "\n",
    "display(debug_view,HBox([transects_button,shoreline_button, gen_button, save_button,load_rois_button]),erase_buttons)\n",
    "# Display the map\n",
    "coastseg_map.m\n"
   ]
  },
  {
   "cell_type": "markdown",
   "metadata": {},
   "source": [
    "## Download the Selected ROIs\n",
    "- Download the satellite imagery for the ROIs using CoastSat.\n",
    "\n",
    "⚠️ Make sure you have clicked `Save ROI` before running the following code.\n",
    " \n",
    "### Parameters for download_imagery()\n",
    "1. `coastseg_map.selected_ROI` : geojson for the ROI clicked\n",
    "2. `pre_process_settings`: settings for downloading data using CoastSat\n",
    "3. `dates` : date range to download the imagery\n",
    "4. `sat_list` : list of satellites to download imagery from\n",
    "5. `collection` : LandSat Collection 1 (`C01`) or Collection 2 (`C02`)"
   ]
  },
  {
   "cell_type": "code",
   "execution_count": 13,
   "metadata": {},
   "outputs": [
    {
     "name": "stdout",
     "output_type": "stream",
     "text": [
      "Images available: \n",
      " [{'polygon': [[[-80.81534999999998, 32.10540700000001], [-80.77043423579401, 32.10540700000001], [-80.77043423579401, 32.14344594823078], [-80.81534999999998, 32.14344594823078], [-80.81534999999998, 32.10540700000001]]], 'dates': ['2018-12-01', '2019-03-01'], 'sat_list': ['L8'], 'sitename': 'ID02022-09-21__12_hr_31_min44', 'filepath': 'C:\\\\1_USGS_repos\\\\2_doodleverse\\\\CoastSeg\\\\data', 'roi_id': '88', 'landsat_collection': 'C01'}]\n"
     ]
    },
    {
     "name": "stderr",
     "output_type": "stream",
     "text": [
      "Downloading ROIs:   0%|                                                                          | 0/1 [00:00<?, ?it/s]"
     ]
    },
    {
     "name": "stdout",
     "output_type": "stream",
     "text": [
      "Number of images available between 2018-12-01 and 2019-03-01:\n",
      "- In Landsat Tier 1 & Sentinel-2 Level-1C:\n",
      "     L8: 4 images\n",
      "  Total to download: 4 images\n",
      "- In Landsat Tier 2 (not suitable for time-series analysis):\n",
      "     L8: 7 images\n",
      "  Total Tier 2: 7 images\n",
      "\n",
      "Downloading images:\n",
      "L8: 4 images\n",
      "100%\n",
      "Satellite images downloaded from GEE and save in C:\\1_USGS_repos\\2_doodleverse\\CoastSeg\\data\\ID02022-09-21__12_hr_31_min44\n",
      "Saving images as jpg:\n",
      "L8: 4 images\n",
      "100%"
     ]
    },
    {
     "name": "stderr",
     "output_type": "stream",
     "text": [
      "Downloading ROIs: 100%|██████████████████████████████████████████████████████████████████| 1/1 [00:15<00:00, 15.61s/it]"
     ]
    },
    {
     "name": "stdout",
     "output_type": "stream",
     "text": [
      "\n",
      "Satellite images saved as .jpg in C:\\1_USGS_repos\\2_doodleverse\\CoastSeg\\data\\ID02022-09-21__12_hr_31_min44\\jpg_files\\preprocessed\n"
     ]
    },
    {
     "name": "stderr",
     "output_type": "stream",
     "text": [
      "\n"
     ]
    }
   ],
   "source": [
    "if coastseg_map.selected_ROI:\n",
    "    try:\n",
    "        inputs_dict=download_roi.download_imagery(coastseg_map.selected_ROI,pre_process_settings,dates,sat_list,collection)\n",
    "    except google_auth_exceptions.RefreshError as exception:\n",
    "        print(exception)\n",
    "        print(\"Please authenticate with Google using the cell above: \\n  'Authenticate and Initialize with Google Earth Engine (GEE)'\")\n",
    "else:\n",
    "    print(\"No ROIs were selected. \\nPlease select at least one ROI and click 'Save ROI' to save these ROI for download.\")"
   ]
  },
  {
   "cell_type": "code",
   "execution_count": 14,
   "metadata": {},
   "outputs": [
    {
     "data": {
      "text/plain": [
       "{88: {'polygon': [[[-80.81534999999998, 32.10540700000001],\n",
       "    [-80.77043423579401, 32.10540700000001],\n",
       "    [-80.77043423579401, 32.14344594823078],\n",
       "    [-80.81534999999998, 32.14344594823078],\n",
       "    [-80.81534999999998, 32.10540700000001]]],\n",
       "  'dates': ['2018-12-01', '2019-03-01'],\n",
       "  'sat_list': ['L8'],\n",
       "  'sitename': 'ID02022-09-21__12_hr_31_min44',\n",
       "  'filepath': 'C:\\\\1_USGS_repos\\\\2_doodleverse\\\\CoastSeg\\\\data',\n",
       "  'roi_id': '88',\n",
       "  'landsat_collection': 'C01'}}"
      ]
     },
     "execution_count": 14,
     "metadata": {},
     "output_type": "execute_result"
    }
   ],
   "source": [
    "inputs_dict"
   ]
  },
  {
   "cell_type": "code",
   "execution_count": null,
   "metadata": {},
   "outputs": [],
   "source": []
  },
  {
   "cell_type": "code",
   "execution_count": null,
   "metadata": {},
   "outputs": [],
   "source": [
    "# coastseg_map.shorelines_gdf"
   ]
  },
  {
   "cell_type": "code",
   "execution_count": 15,
   "metadata": {},
   "outputs": [
    {
     "name": "stdout",
     "output_type": "stream",
     "text": [
      "\n",
      "shorelines:  [[-80.81535     32.13547305   0.        ]\n",
      " [-80.81510461  32.13563434   0.        ]\n",
      " [-80.81535     32.13547305   0.        ]\n",
      " ...\n",
      " [-80.77535105  32.12885652   0.        ]\n",
      " [-80.77541791  32.12884253   0.        ]\n",
      " [-80.77546201  32.1288287    0.        ]]\n",
      "\n",
      "inProj : proj=longlat datum=WGS84 no_defs ellps=WGS84 towgs84=0,0,0\n",
      "\n",
      "outProj : proj=merc a=6378137 b=6378137 lat_ts=0 lon_0=0 x_0=0 y_0=0 k=1 units=m nadgrids=@null no_defs\n",
      "Mapping shorelines:\n",
      "L8:   100%\n",
      "0 duplicates\n",
      "0 bad georef\n"
     ]
    }
   ],
   "source": [
    "extracted_shorelines=coastseg_map.extract_shorelines_from_rois(coastseg_map.selected_ROI,inputs_dict,pre_process_settings,coastseg_map.shorelines_gdf)"
   ]
  },
  {
   "cell_type": "code",
   "execution_count": 16,
   "metadata": {},
   "outputs": [
    {
     "data": {
      "text/plain": [
       "{88: {'dates': [datetime.datetime(2018, 12, 6, 15, 54, 31, tzinfo=<UTC>),\n",
       "   datetime.datetime(2018, 12, 22, 15, 54, 29, tzinfo=<UTC>),\n",
       "   datetime.datetime(2019, 1, 7, 15, 54, 28, tzinfo=<UTC>),\n",
       "   datetime.datetime(2019, 2, 8, 15, 54, 22, tzinfo=<UTC>)],\n",
       "  'shorelines': [array([[-8991418.61381545,  3780438.03665481],\n",
       "          [-8991436.33520852,  3780429.39652935],\n",
       "          [-8991440.58552518,  3780427.92311264],\n",
       "          [-8991454.04794196,  3780424.84872735],\n",
       "          [-8991471.76353818,  3780418.93682785],\n",
       "          [-8991489.47583811,  3780414.58121073],\n",
       "          [-8991499.64467184,  3780410.26016254],\n",
       "          [-8991507.19854195,  3780405.27815178],\n",
       "          [-8991524.92049072,  3780396.32098675],\n",
       "          [-8991529.96013134,  3780392.5359299 ],\n",
       "          [-8991542.64428896,  3780386.4716763 ],\n",
       "          [-8991560.35903013,  3780380.91937179],\n",
       "          [-8991570.13638536,  3780374.83256035],\n",
       "          [-8991578.08929618,  3780367.96497618],\n",
       "          [-8991595.81461206,  3780357.3518133 ],\n",
       "          [-8991596.21253877,  3780357.09921993],\n",
       "          [-8991613.53789169,  3780347.69499238],\n",
       "          [-8991626.6653772 ,  3780339.3751092 ],\n",
       "          [-8991631.26783493,  3780334.84412301],\n",
       "          [-8991644.7508518 ,  3780321.62480446],\n",
       "          [-8991808.49736444,  3780238.93794616],\n",
       "          [-8991826.20047599,  3780238.81700826],\n",
       "          [-8991843.90294254,  3780239.00642212],\n",
       "          [-8991852.45085315,  3780233.11973489],\n",
       "          [-8991861.64258129,  3780221.29016174],\n",
       "          [-8991871.69542951,  3780215.37167004],\n",
       "          [-8991879.36166905,  3780213.45531323],\n",
       "          [-8991897.08185114,  3780205.0814942 ],\n",
       "          [-8991910.91441629,  3780197.6654018 ],\n",
       "          [-8991914.80627399,  3780194.64866233],\n",
       "          [-8991932.53516535,  3780182.04238993],\n",
       "          [-8991936.42539874,  3780179.93039107],\n",
       "          [-8991950.25092026,  3780175.76866109],\n",
       "          [-8991967.97486608,  3780165.52355737],\n",
       "          [-8991973.22586849,  3780162.21891454],\n",
       "          [-8991985.70303757,  3780153.21819093],\n",
       "          [-8991998.49583078,  3780144.48331932],\n",
       "          [-8992003.4278061 ,  3780142.5439044 ],\n",
       "          [-8993474.41308982,  3779288.1161876 ],\n",
       "          [-8993492.13633469,  3779276.8942359 ],\n",
       "          [-8993493.48560517,  3779275.9107393 ],\n",
       "          [-8993509.86198232,  3779264.41597367],\n",
       "          [-8993520.06737765,  3779258.17577144],\n",
       "          [-8993527.58256324,  3779254.53411317],\n",
       "          [-8993545.30161554,  3779245.42691041],\n",
       "          [-8993553.14085297,  3779240.4534562 ],\n",
       "          [-8993563.0266826 ,  3779233.19648082],\n",
       "          [-8993580.74593868,  3779223.95382561],\n",
       "          [-8993582.7014427 ,  3779222.7242201 ],\n",
       "          [-8993598.46470022,  3779214.95317765],\n",
       "          [-8993616.18504653,  3779205.11770101],\n",
       "          [-8993616.33684532,  3779205.00287738],\n",
       "          [-8993633.91435145,  3779190.62181268],\n",
       "          [-8993639.30692619,  3779187.26070791],\n",
       "          [-8993651.63131383,  3779182.508877  ],\n",
       "          [-8993669.35322801,  3779171.81191946],\n",
       "          [-8994059.23517557,  3778932.36873518],\n",
       "          [-8994076.95650213,  3778921.59737931],\n",
       "          [-8994077.36788692,  3778921.30490223],\n",
       "          [-8994094.6825907 ,  3778908.28989059],\n",
       "          [-8994103.34943937,  3778903.56800101],\n",
       "          [-8994112.39787996,  3778900.67968256],\n",
       "          [-8994130.11907376,  3778889.92889439],\n",
       "          [-8994135.55222372,  3778885.84292204],\n",
       "          [-8994147.84497675,  3778876.66406329],\n",
       "          [-8994160.67781713,  3778868.10431662],\n",
       "          [-8994165.56668074,  3778865.60703813],\n",
       "          [-8994183.28388477,  3778856.92286609],\n",
       "          [-8994192.01299622,  3778850.37748547],\n",
       "          [-8994201.01365227,  3778841.54701426],\n",
       "          [-8994215.0570837 ,  3778832.63486123],\n",
       "          [-8994218.73376044,  3778831.28558114],\n",
       "          [-8994236.45582694,  3778819.96552574],\n",
       "          [-8995866.94216478,  3777664.66932962],\n",
       "          [-8995872.17074875,  3777661.820445  ],\n",
       "          [-8995884.65406692,  3777657.31541851],\n",
       "          [-8995902.37263807,  3777646.11569308],\n",
       "          [-8995905.3332584 ,  3777644.09407243],\n",
       "          [-8995920.09349989,  3777633.57924073],\n",
       "          [-8995932.70609471,  3777626.35747952],\n",
       "          [-8995937.80888047,  3777624.17761645],\n",
       "          [-8995955.52027093,  3777617.05951591],\n",
       "          [-8995968.4970466 ,  3777608.63559269],\n",
       "          [-8995973.24166085,  3777604.16204414],\n",
       "          [-8995990.95953292,  3777593.27340537],\n",
       "          [-8995996.04370801,  3777590.89921015],\n",
       "          [-8996008.67027545,  3777586.4853797 ],\n",
       "          [-8996026.38038579,  3777580.05141461],\n",
       "          [-8996038.60704176,  3777573.18900516],\n",
       "          [-8996044.09884945,  3777568.77222143],\n",
       "          [-8996061.81660929,  3777557.88151998],\n",
       "          [-8996066.28523543,  3777555.45274126]]),\n",
       "   array([], shape=(0, 2), dtype=float64),\n",
       "   array([], shape=(0, 2), dtype=float64),\n",
       "   array([], shape=(0, 2), dtype=float64)],\n",
       "  'filename': ['2018-12-06-15-54-31_L8_ID02022-09-21__12_hr_31_min44_ms.tif',\n",
       "   '2018-12-22-15-54-29_L8_ID02022-09-21__12_hr_31_min44_ms.tif',\n",
       "   '2019-01-07-15-54-28_L8_ID02022-09-21__12_hr_31_min44_ms.tif',\n",
       "   '2019-02-08-15-54-22_L8_ID02022-09-21__12_hr_31_min44_ms.tif'],\n",
       "  'cloud_cover': [0.0,\n",
       "   0.4172576540067706,\n",
       "   0.1663989720526823,\n",
       "   0.055178037510192984],\n",
       "  'geoaccuracy': [7.080999851226807,\n",
       "   8.85200023651123,\n",
       "   8.079000473022461,\n",
       "   7.623000144958496],\n",
       "  'idx': [0, 1, 2, 3],\n",
       "  'MNDWI_threshold': [-0.38314836396602914,\n",
       "   -0.384641308512073,\n",
       "   -0.34143278159899637,\n",
       "   -0.26241923472844064],\n",
       "  'satname': ['L8', 'L8', 'L8', 'L8']}}"
      ]
     },
     "execution_count": 16,
     "metadata": {},
     "output_type": "execute_result"
    }
   ],
   "source": [
    "extracted_shorelines"
   ]
  },
  {
   "cell_type": "code",
   "execution_count": 17,
   "metadata": {},
   "outputs": [
    {
     "name": "stdout",
     "output_type": "stream",
     "text": [
      "Shoreline present at ROI:  88\n"
     ]
    },
    {
     "data": {
      "text/plain": [
       "{'88': {'NA0': array([nan, nan, nan, nan]),\n",
       "  'NA1': array([nan, nan, nan, nan]),\n",
       "  'NA2': array([nan, nan, nan, nan]),\n",
       "  'NA3': array([nan, nan, nan, nan]),\n",
       "  'NA4': array([nan, nan, nan, nan]),\n",
       "  'NA5': array([131.29583148,          nan,          nan,          nan]),\n",
       "  'NA6': array([139.52330426,          nan,          nan,          nan]),\n",
       "  'NA7': array([143.87741744,          nan,          nan,          nan]),\n",
       "  'NA8': array([162.95645093,          nan,          nan,          nan]),\n",
       "  'NA9': array([163.22537755,          nan,          nan,          nan]),\n",
       "  'NA10': array([nan, nan, nan, nan]),\n",
       "  'NA11': array([nan, nan, nan, nan]),\n",
       "  'NA12': array([nan, nan, nan, nan]),\n",
       "  'NA13': array([nan, nan, nan, nan]),\n",
       "  'NA14': array([nan, nan, nan, nan]),\n",
       "  'NA15': array([nan, nan, nan, nan]),\n",
       "  'NA16': array([nan, nan, nan, nan]),\n",
       "  'NA17': array([nan, nan, nan, nan]),\n",
       "  'NA18': array([nan, nan, nan, nan]),\n",
       "  'NA19': array([nan, nan, nan, nan]),\n",
       "  'NA20': array([nan, nan, nan, nan]),\n",
       "  'NA21': array([nan, nan, nan, nan]),\n",
       "  'NA22': array([nan, nan, nan, nan]),\n",
       "  'NA23': array([nan, nan, nan, nan]),\n",
       "  'NA24': array([nan, nan, nan, nan]),\n",
       "  'NA25': array([nan, nan, nan, nan]),\n",
       "  'NA26': array([nan, nan, nan, nan]),\n",
       "  'NA27': array([nan, nan, nan, nan]),\n",
       "  'NA28': array([nan, nan, nan, nan]),\n",
       "  'NA29': array([nan, nan, nan, nan]),\n",
       "  'NA30': array([nan, nan, nan, nan]),\n",
       "  'NA31': array([nan, nan, nan, nan]),\n",
       "  'NA32': array([nan, nan, nan, nan]),\n",
       "  'NA33': array([nan, nan, nan, nan]),\n",
       "  'NA34': array([nan, nan, nan, nan]),\n",
       "  'NA35': array([nan, nan, nan, nan]),\n",
       "  'NA36': array([nan, nan, nan, nan]),\n",
       "  'NA37': array([nan, nan, nan, nan]),\n",
       "  'NA38': array([nan, nan, nan, nan]),\n",
       "  'NA39': array([nan, nan, nan, nan]),\n",
       "  'NA40': array([nan, nan, nan, nan]),\n",
       "  'NA41': array([nan, nan, nan, nan]),\n",
       "  'NA42': array([nan, nan, nan, nan]),\n",
       "  'NA43': array([nan, nan, nan, nan]),\n",
       "  'NA44': array([146.13092932,          nan,          nan,          nan]),\n",
       "  'NA45': array([150.41908229,          nan,          nan,          nan]),\n",
       "  'NA46': array([150.65357906,          nan,          nan,          nan]),\n",
       "  'NA47': array([152.72035363,          nan,          nan,          nan]),\n",
       "  'NA48': array([146.67067732,          nan,          nan,          nan]),\n",
       "  'NA49': array([nan, nan, nan, nan]),\n",
       "  'NA50': array([nan, nan, nan, nan]),\n",
       "  'NA51': array([nan, nan, nan, nan]),\n",
       "  'NA52': array([nan, nan, nan, nan]),\n",
       "  'NA53': array([nan, nan, nan, nan]),\n",
       "  'NA54': array([nan, nan, nan, nan]),\n",
       "  'NA55': array([nan, nan, nan, nan]),\n",
       "  'NA56': array([nan, nan, nan, nan]),\n",
       "  'NA57': array([148.1340902,         nan,         nan,         nan]),\n",
       "  'NA58': array([143.51965213,          nan,          nan,          nan]),\n",
       "  'NA59': array([146.09912258,          nan,          nan,          nan]),\n",
       "  'NA60': array([148.42627463,          nan,          nan,          nan]),\n",
       "  'NA61': array([nan, nan, nan, nan]),\n",
       "  'NA62': array([nan, nan, nan, nan]),\n",
       "  'NA63': array([nan, nan, nan, nan]),\n",
       "  'NA64': array([nan, nan, nan, nan]),\n",
       "  'NA65': array([nan, nan, nan, nan]),\n",
       "  'NA66': array([nan, nan, nan, nan]),\n",
       "  'NA67': array([nan, nan, nan, nan]),\n",
       "  'NA68': array([nan, nan, nan, nan]),\n",
       "  'NA69': array([nan, nan, nan, nan]),\n",
       "  'NA70': array([nan, nan, nan, nan]),\n",
       "  'NA71': array([nan, nan, nan, nan]),\n",
       "  'NA72': array([nan, nan, nan, nan]),\n",
       "  'NA73': array([nan, nan, nan, nan]),\n",
       "  'NA74': array([nan, nan, nan, nan]),\n",
       "  'NA75': array([nan, nan, nan, nan]),\n",
       "  'NA76': array([nan, nan, nan, nan]),\n",
       "  'NA77': array([nan, nan, nan, nan]),\n",
       "  'NA78': array([nan, nan, nan, nan]),\n",
       "  'NA79': array([nan, nan, nan, nan]),\n",
       "  'NA80': array([nan, nan, nan, nan]),\n",
       "  'NA81': array([nan, nan, nan, nan]),\n",
       "  'NA82': array([nan, nan, nan, nan]),\n",
       "  'NA83': array([nan, nan, nan, nan]),\n",
       "  'NA84': array([nan, nan, nan, nan]),\n",
       "  'NA85': array([nan, nan, nan, nan]),\n",
       "  'NA86': array([nan, nan, nan, nan]),\n",
       "  'NA87': array([nan, nan, nan, nan]),\n",
       "  'NA88': array([nan, nan, nan, nan]),\n",
       "  'NA89': array([nan, nan, nan, nan]),\n",
       "  'NA90': array([121.68490814,          nan,          nan,          nan]),\n",
       "  'NA91': array([122.37875273,          nan,          nan,          nan]),\n",
       "  'NA92': array([115.65980907,          nan,          nan,          nan]),\n",
       "  'NA93': array([112.97173432,          nan,          nan,          nan]),\n",
       "  'NA94': array([nan, nan, nan, nan]),\n",
       "  'NA95': array([nan, nan, nan, nan]),\n",
       "  'NA96': array([nan, nan, nan, nan]),\n",
       "  'NA97': array([132.058061,        nan,        nan,        nan]),\n",
       "  'NA98': array([121.52884472,          nan,          nan,          nan]),\n",
       "  'NA99': array([124.69558879,          nan,          nan,          nan]),\n",
       "  'NA100': array([128.67950499,          nan,          nan,          nan]),\n",
       "  'NA101': array([136.57288621,          nan,          nan,          nan]),\n",
       "  'NA102': array([nan, nan, nan, nan]),\n",
       "  'NA103': array([nan, nan, nan, nan]),\n",
       "  'NA104': array([nan, nan, nan, nan])}}"
      ]
     },
     "execution_count": 17,
     "metadata": {},
     "output_type": "execute_result"
    }
   ],
   "source": [
    "cross_distances_rois=coastseg_map.compute_transects(coastseg_map.selected_ROI,extracted_shorelines,pre_process_settings)\n",
    "cross_distances_rois"
   ]
  },
  {
   "cell_type": "code",
   "execution_count": 18,
   "metadata": {},
   "outputs": [
    {
     "data": {
      "application/vnd.jupyter.widget-view+json": {
       "model_id": "88e702b48341428294dc368174502d01",
       "version_major": 2,
       "version_minor": 0
      },
      "text/plain": [
       "Checkbox(value=False, description='Use GPU?', indent=False)"
      ]
     },
     "metadata": {},
     "output_type": "display_data"
    },
    {
     "data": {
      "application/vnd.jupyter.widget-view+json": {
       "model_id": "49a7ca2adf974f2e865194b0f2eed6cf",
       "version_major": 2,
       "version_minor": 0
      },
      "text/plain": [
       "Output()"
      ]
     },
     "metadata": {},
     "output_type": "display_data"
    },
    {
     "data": {
      "application/vnd.jupyter.widget-view+json": {
       "model_id": "1cda87b22f624776a874f5c53716320d",
       "version_major": 2,
       "version_minor": 0
      },
      "text/plain": [
       "HBox(children=(RadioButtons(description='Select Model:', options=('landsat_6229071', 'landsat_6230083', 'SWED-…"
      ]
     },
     "metadata": {},
     "output_type": "display_data"
    },
    {
     "data": {
      "application/vnd.jupyter.widget-view+json": {
       "model_id": "ef95ca5add8947189fefe27de017136e",
       "version_major": 2,
       "version_minor": 0
      },
      "text/plain": [
       "VBox(children=(HTML(value='<h4>Click ONE of the following buttons:</h4>', layout=Layout(margin='0px 0px 0px 0p…"
      ]
     },
     "metadata": {},
     "output_type": "display_data"
    },
    {
     "data": {
      "application/vnd.jupyter.widget-view+json": {
       "model_id": "2e832c665a834599a69ec89c20671bf6",
       "version_major": 2,
       "version_minor": 0
      },
      "text/plain": [
       "Button(description='Use Data Button', style=ButtonStyle())"
      ]
     },
     "metadata": {},
     "output_type": "display_data"
    },
    {
     "data": {
      "application/vnd.jupyter.widget-view+json": {
       "model_id": "1632980fdfec4801a61da4baa9275d7b",
       "version_major": 2,
       "version_minor": 0
      },
      "text/plain": [
       "Button(description='Select Your Images', style=ButtonStyle())"
      ]
     },
     "metadata": {},
     "output_type": "display_data"
    },
    {
     "data": {
      "application/vnd.jupyter.widget-view+json": {
       "model_id": "855f9513f6094aaf8a3eedaff644997f",
       "version_major": 2,
       "version_minor": 0
      },
      "text/plain": [
       "HTML(value='____________________________________________________')"
      ]
     },
     "metadata": {},
     "output_type": "display_data"
    },
    {
     "data": {
      "application/vnd.jupyter.widget-view+json": {
       "model_id": "2e4b984b54b44465838a544525aa50c8",
       "version_major": 2,
       "version_minor": 0
      },
      "text/plain": [
       "Output(layout=Layout(border='1px solid black'))"
      ]
     },
     "metadata": {},
     "output_type": "display_data"
    },
    {
     "data": {
      "application/vnd.jupyter.widget-view+json": {
       "model_id": "62e6b7bcc4ef4e7a8fd518ce17687a36",
       "version_major": 2,
       "version_minor": 0
      },
      "text/plain": [
       "Button(description='Run Model', style=ButtonStyle())"
      ]
     },
     "metadata": {},
     "output_type": "display_data"
    },
    {
     "data": {
      "application/vnd.jupyter.widget-view+json": {
       "model_id": "38e2e3987e874ee3bf28193b6f5f4dd6",
       "version_major": 2,
       "version_minor": 0
      },
      "text/plain": [
       "Output(layout=Layout(border='1px solid black'))"
      ]
     },
     "metadata": {},
     "output_type": "display_data"
    },
    {
     "data": {
      "application/vnd.jupyter.widget-view+json": {
       "model_id": "ecca05dc5aed4cf596615c99526d8b43",
       "version_major": 2,
       "version_minor": 0
      },
      "text/plain": [
       "Button(description='Open Model Results', style=ButtonStyle())"
      ]
     },
     "metadata": {},
     "output_type": "display_data"
    }
   ],
   "source": [
    "model_dict={\"sample_direc\":None,\"use_GPU\":False, 'implementation':'ENSEMBLE','model_type':'landsat_6229071'}\n",
    "\n",
    "model_view = Output(layout={'border': '1px solid black'})\n",
    "run_model_view = Output(layout={'border': '1px solid black'})\n",
    "GPU_view = Output()\n",
    "\n",
    "run_model_button = Button(description=\"Run Model\")\n",
    "use_data_button = Button(description=\"Use Data Button\")\n",
    "use_select_images_button = Button(description=\"Select Your Images\")\n",
    "open_results_button = Button(description=\"Open Model Results\")\n",
    "\n",
    "model_implementation = RadioButtons(\n",
    "    options=['ENSEMBLE', 'BEST'],\n",
    "   value='ENSEMBLE',\n",
    "    description='Select:',\n",
    "    disabled=False\n",
    ")\n",
    "\n",
    "model_dropdown = RadioButtons(\n",
    "    options= ['landsat_6229071', 'landsat_6230083','SWED-RGB_6824384','SWED-MNDWI_6824342','coast-train-RGB_6950479', 'S2-water-SWED_6950474'],\n",
    "    value='landsat_6229071',\n",
    "    description='Select Model:',\n",
    "    disabled=False,\n",
    ")\n",
    "\n",
    "\n",
    "GPU_checkbox = Checkbox(\n",
    "    value=False,\n",
    "    description='Use GPU?',\n",
    "    disabled=False,\n",
    "    indent=False\n",
    ")\n",
    "\n",
    "\n",
    "def handle_model_type(change):\n",
    "    model_dict[\"model_type\"]=change['new']\n",
    "\n",
    "\n",
    "def handle_model_implementation(change):\n",
    "    model_dict[\"implementation\"]=change['new']\n",
    "\n",
    "\n",
    "@GPU_view.capture(clear_output=True)\n",
    "def handle_GPU_checkbox(change):\n",
    "    if change[\"new\"] == True:\n",
    "        model_dict[\"use_GPU\"]=True\n",
    "        print(\"Using the GPU\")\n",
    "    else:\n",
    "        model_dict[\"use_GPU\"]=False\n",
    "        print(\"Not using the GPU\")\n",
    "        \n",
    "\n",
    "@model_view.capture(clear_output=True)\n",
    "def use_data_button_clicked(button):\n",
    "    # Use the data folder as the input for segmentation\n",
    "    print(\"Loading in the jpgs from the data directory\")\n",
    "    # Copy the jpgs from data to a new folder called segmentation_data_[datetime]\n",
    "    if 'MNDWI' in model_dropdown.value:\n",
    "        sample_direc =r'C:\\1_USGS\\CoastSeg\\repos\\2_CoastSeg\\CoastSeg_fork\\Seg2Map\\MNDWI_outputs\\MNDWI_ouputs_2022-07-21__07_hr_57_min14'\n",
    "#         sample_direc = file_functions.get_jpgs_from_data('MNDWI')\n",
    "#         RGB_path=sample_direc+os.sep+'RGB'\n",
    "#         NIR_path=sample_direc+os.sep+'NIR'\n",
    "#         sample_direc = coastseg_map.RGB_to_MNDWI(RGB_path,NIR_path,sample_direc)\n",
    "        model_dict[\"sample_direc\"]=sample_direc\n",
    "    else:\n",
    "        sample_direc = file_functions.get_jpgs_from_data('RGB')\n",
    "        jpgs = glob.glob1(sample_direc + os.sep, \"*jpg\")\n",
    "        if jpgs == []:\n",
    "            # raise Exception(\"\\nThe directory contains no jpgs! Please select a directory with jpgs.\")\n",
    "            print(\"\\nERROR!\\nThe directory contains no jpgs! Please select a directory with jpgs.\")\n",
    "        elif jpgs != []:\n",
    "            model_dict[\"sample_direc\"]=sample_direc\n",
    "    print(f\"\\nContents of the data directory saved in {sample_direc}\")\n",
    "\n",
    "\n",
    "@model_view.capture(clear_output=True)\n",
    "def use_select_images_button_clicked(button):\n",
    "    # Prompt the user to select a directory of images                              \n",
    "    root.withdraw()                                        # Hide the main window.\n",
    "    root.call('wm', 'attributes', '.', '-topmost', True)   # Raise the root to the top of all windows.\n",
    "    # path to data directory containing data downloaded using coastsat\n",
    "    data_path = os.path.join(os.getcwd(),'data')\n",
    "    if os.path.exists(data_path):\n",
    "        data_path = os.path.join(os.getcwd(),'data')\n",
    "    else: \n",
    "        data_path = os.getcwd()\n",
    "    root.filename =  filedialog.askdirectory(initialdir = data_path,title = \"Select directory of images\",)\n",
    "    # Save the filename as an attribute of the button\n",
    "    if root.filename:\n",
    "        sample_direc= root.filename\n",
    "        print(f\"The images in the folder will be segmented :\\n{sample_direc} \")\n",
    "        jpgs = glob.glob1(sample_direc + os.sep, \"*jpg\")\n",
    "        if jpgs == []:\n",
    "            # raise Exception(\"\\nThe directory contains no jpgs! Please select a directory with jpgs.\")\n",
    "            print(\"\\nERROR!\\nThe directory contains no jpgs! Please select a directory with jpgs.\")\n",
    "        elif jpgs != []:\n",
    "            model_dict[\"sample_direc\"]=sample_direc\n",
    "    else:\n",
    "        # raise Exception(\"You must select a valid directory first!\")\n",
    "        print(\"You must select a valid directory first!\")\n",
    "\n",
    "@run_model_view.capture(clear_output=True)\n",
    "def run_model_button_clicked(button):\n",
    "    print(\"Called Run Model\")\n",
    "    if model_dict[\"sample_direc\"] is None:\n",
    "        print(\"You must click 'Use Data' or 'Select Images' First\")\n",
    "        return\n",
    "    else:\n",
    "        if model_dict[\"use_GPU\"] == False:\n",
    "            print(\"Not using the GPU\")\n",
    "            ## to use the CPU (not recommended):\n",
    "            os.environ['CUDA_VISIBLE_DEVICES'] = '-1'\n",
    "        elif model_dict[\"use_GPU\"] == True:\n",
    "            print(\"Using the GPU\")\n",
    "            ##use the first available GPU\n",
    "            os.environ['CUDA_VISIBLE_DEVICES'] = '0' #'1'\n",
    "        if 'MNDWI' in model_dropdown.value:\n",
    "            dataset='MNDWI'\n",
    "        else:\n",
    "            dataset='RGB'\n",
    "        # Disable run and open results buttons while the model is running\n",
    "        open_results_button.disabled = True\n",
    "        run_model_button.disabled = True\n",
    "        dataset_id=model_dict['model_type']\n",
    "        # model_dict['implementation']=model_implementation.value\n",
    "        model_choice=model_dict['implementation']\n",
    "        zoo_model=zoo_model_module.Zoo_Model()\n",
    "        # First download the specified model\n",
    "        zoo_model.download_model(dataset,dataset_id)\n",
    "        # Get weights as list\n",
    "        Ww=zoo_model.get_weights_list(model_choice)\n",
    "        # Load the model from the config files\n",
    "        model, model_list, config_files, model_types=zoo_model.get_model(Ww)\n",
    "        metadatadict=zoo_model.get_metadatadict(Ww,config_files, model_types)\n",
    "        # # Compute the segmentation\n",
    "        zoo_model.compute_segmentation(model_dict[\"sample_direc\"], model_list, metadatadict)\n",
    "        # Enable  run and open results buttons when model has exexcuted\n",
    "        run_model_button.disabled = False\n",
    "        open_results_button.disabled = False\n",
    "\n",
    "        \n",
    "@run_model_view.capture(clear_output=True)\n",
    "def open_results_button_clicked(button):\n",
    "    if model_dict[\"sample_direc\"] is None:\n",
    "        print(\"You must click 'Run Model' first\")\n",
    "    else:\n",
    "        # Open file viewer using tkinter                          \n",
    "        root.withdraw()                                        # Hide the main window.\n",
    "        root.call('wm', 'attributes', '.', '-topmost', True)   # Raise the root to the top of all windows.\n",
    "        # path to directory containing model outputs\n",
    "        model_results_path = os.path.abspath(model_dict[\"sample_direc\"])\n",
    "        if not os.path.exists(model_results_path):\n",
    "             raise FileNotFoundError\n",
    "        filedialog.askopenfiles(initialdir = model_results_path,title = \"Open Results\")\n",
    "    \n",
    "    \n",
    "model_implementation.observe(handle_model_implementation,\"value\")\n",
    "model_dropdown.observe(handle_model_type,\"value\")\n",
    "GPU_checkbox.observe(handle_GPU_checkbox,\"value\")\n",
    "\n",
    "\n",
    "run_model_button.on_click(run_model_button_clicked)\n",
    "use_data_button.on_click(use_data_button_clicked)\n",
    "use_select_images_button.on_click(use_select_images_button_clicked)\n",
    "open_results_button.on_click(open_results_button_clicked)\n",
    "\n",
    "model_choices_box=HBox([model_dropdown, model_implementation])\n",
    "\n",
    "line_widget=HTML(value=\"____________________________________________________\")\n",
    "\n",
    "instr_header=HTML(\n",
    "    value=\"<h4>Click ONE of the following buttons:</h4>\",layout=Layout(margin='0px 0px 0px 0px'))\n",
    "\n",
    "instr_use_data=HTML(\n",
    "    value=\"<b>1. Use Data Folder Button</b> \\\n",
    "        <br> - When CoastSat downloads imagery it created a folder called 'data'in the CoastSeg directory.\\\n",
    "            The jpgs within the 'data' folder will be copied to another folder with a name such as\\\n",
    "            <span style=\\\"background-color:LightGray;color: black;\\\">segmentation_data_2022-07-07__10_hr_04_min58 </span>\\\n",
    "            (the date and time will be the current date and time) <br> \\\n",
    "           The model will be applied to this folder and the model outputs will be generated within a subdirectory \\\n",
    "            called 'out'\",layout=Layout(margin='0px 0px 0px 20px'))\n",
    "\n",
    "instr_select_images=HTML(\n",
    "    value=\"<b>2. Select Images Button</b> \\\n",
    "        <br> - This will open a pop up window where the folder containing the jpgs can be selected.<br>\\\n",
    "             - The model will be applied to this folder and the model outputs will be generated within a subdirectory\\\n",
    "             called 'out'<br>\\\n",
    "      - <span style=\\\"background-color:yellow;color: black;\\\">WARNING :</span> You will not be able to see the files within the folder you select.<br>\\\n",
    "    \",layout=Layout(margin='0px 0px 0px 20px'))\n",
    "\n",
    "instr_run_model=HTML(\n",
    "    value=\"<b>3. Run Model Button</b> \\\n",
    "        <br> - Make sure to click Select Images Button or Use Data Button.<br>\\\n",
    "             - The model will be applied to the selected folder and the model outputs will be generated within a subdirectory\\\n",
    "             called 'out'<br>\\\n",
    "      - <span style=\\\"background-color:yellow;color: black;\\\">WARNING :</span> You should not run multiple models on the same folder. Otherwise not all the model outputs\\\n",
    "      will be saved to the folder.<br>\\\n",
    "    \",layout=Layout(margin='0px 0px 0px 20px'))\n",
    "\n",
    "\n",
    "instr_vbox=VBox([instr_header, line_widget, instr_use_data, instr_select_images, instr_run_model])\n",
    "\n",
    "display(GPU_checkbox,GPU_view,model_choices_box,instr_vbox,use_data_button,use_select_images_button,line_widget, model_view,run_model_button,run_model_view,open_results_button)"
   ]
  },
  {
   "cell_type": "code",
   "execution_count": null,
   "metadata": {},
   "outputs": [],
   "source": []
  }
 ],
 "metadata": {
  "kernelspec": {
   "display_name": "Python 3 (ipykernel)",
   "language": "python",
   "name": "python3"
  },
  "language_info": {
   "codemirror_mode": {
    "name": "ipython",
    "version": 3
   },
   "file_extension": ".py",
   "mimetype": "text/x-python",
   "name": "python",
   "nbconvert_exporter": "python",
   "pygments_lexer": "ipython3",
   "version": "3.10.4"
  },
  "vscode": {
   "interpreter": {
    "hash": "9d097efbdf24db87a2507c17c632c6d564e7aff5ba5cfc04e62a44a8b3d6a20a"
   }
  },
  "widgets": {
   "application/vnd.jupyter.widget-state+json": {
    "state": {},
    "version_major": 2,
    "version_minor": 0
   }
  }
 },
 "nbformat": 4,
 "nbformat_minor": 4
}
