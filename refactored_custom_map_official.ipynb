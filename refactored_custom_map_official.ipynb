{
 "cells": [
  {
   "cell_type": "code",
   "execution_count": 1,
   "metadata": {},
   "outputs": [],
   "source": [
    "import os\n",
    "import datetime\n",
    "# Local Imports\n",
    "import coastseg\n",
    "from coastseg import coastseg_map\n",
    "from coastseg import coastseg_logs #must be the first module loaded to create logs folder\n",
    "\n",
    "# External Imports\n",
    "import ee\n",
    "from google.auth import exceptions as google_auth_exceptions\n",
    "from IPython.display import display, clear_output\n",
    "from tkinter import Tk,filedialog\n",
    "from ipywidgets import Button, HBox, VBox, Layout, DatePicker, HTML, RadioButtons, SelectMultiple, Output, Checkbox\n",
    "\n",
    "# suppress tensorflow warnings\n",
    "os.environ['TF_CPP_MIN_LOG_LEVEL'] = '3'"
   ]
  },
  {
   "cell_type": "markdown",
   "metadata": {},
   "source": [
    "## Authenticate and Initialize with Google Earth Engine (GEE)\n",
    "\n",
    "- Run this cell to initialize with GEE which will allow you to download remote sensing data from GEE.\n",
    "\n",
    "### First Time Users\n",
    "\n",
    "- In order to use Google Earth Engine (GEE) you will need to sign up to request access to use Google Earth Engine.https://signup.earthengine.google.com. You will only need to do this once and it takes only a day to get your account verified.\n",
    "\n",
    "### How `ee.Authenticate()` works\n",
    "\n",
    "- In order to initialize with GEE you will need an authorization token with is obtained by running `ee.Authenticate()`.This token lasts 7 days and during those 7 days you will not need to authenticate with google earth engine with an access code. Once the 7 days are up you will need to reauthenticate to use GEE again.\n"
   ]
  },
  {
   "cell_type": "code",
   "execution_count": 2,
   "metadata": {},
   "outputs": [],
   "source": [
    "try:\n",
    "    ee.Initialize()\n",
    "except google_auth_exceptions.RefreshError as exception:\n",
    "    print(\"Please authenticate with Google:\\n\")\n",
    "    ee.Authenticate()\n",
    "    ee.Initialize()"
   ]
  },
  {
   "cell_type": "code",
   "execution_count": 3,
   "metadata": {},
   "outputs": [
    {
     "data": {
      "application/vnd.jupyter.widget-view+json": {
       "model_id": "209cb7cfb7ee4dbc9d10585ef7b88cea",
       "version_major": 2,
       "version_minor": 0
      },
      "text/plain": [
       "VBox(children=(VBox(children=(HTML(value='<b>Pick a date:</b>', layout=Layout(padding='10px')), HBox(children=…"
      ]
     },
     "metadata": {},
     "output_type": "display_data"
    }
   ],
   "source": [
    "# Date Widgets\n",
    "start_date=DatePicker(\n",
    "    description='Start Date',\n",
    "    value=datetime.date(2018, 12, 1),\n",
    "    disabled=False,\n",
    ")\n",
    "end_date=DatePicker(\n",
    "    description='End Date',\n",
    "    value=datetime.date(2019, 3, 1), #2019, 1, 1\n",
    "    disabled=False,\n",
    ")\n",
    "date_instr=HTML(\n",
    "    value=\"<b>Pick a date:</b>\",\n",
    "    layout=Layout(padding='10px')\n",
    ")\n",
    "dates_box=HBox([start_date,end_date])\n",
    "dates_vbox=VBox([date_instr,dates_box])\n",
    "\n",
    "\n",
    "collection_instr=HTML(\n",
    "    value=\"<b>Pick a collection</b>\\\n",
    "        <br> C01: LandSat Collection 1 \\\n",
    "        <br> C02: LandSat Collection 2  [2022/01/01 and beyond] \\\n",
    "        <br>      - Landsat 9 is only available in C02\",\n",
    "    layout=Layout(padding='10px')\n",
    ")\n",
    "collection_radio=RadioButtons(\n",
    "    options=['C01', 'C02'],\n",
    "    value='C01',\n",
    "    description='Collection:',\n",
    "    disabled=False\n",
    ")\n",
    "collection_vbox=VBox([collection_instr,collection_radio])\n",
    "\n",
    "sat_instr=HTML(\n",
    "    value=\"<b>Pick multiple satellites by holding the control key:</b> \\\n",
    "        <br> - images prior to 2022/01/01 will be downloaded from Collection 1 \\\n",
    "        <br> - images after 2022/01/01 will be automatically downloaded from Collection 2 \\\n",
    "        <br> C01: LandSat Collection 1 : All dates before 2022/01/01\\\n",
    "        <br> C02: LandSat Collection 2 : All dates after 2022/01/01 \\\n",
    "        <br> - Landsat 9 is only available in C02\",\n",
    "    layout=Layout(padding='10px')\n",
    ")\n",
    "\n",
    "\n",
    "satellite_selection=SelectMultiple(\n",
    "    options=['L5', 'L7', 'L8', 'S2'],\n",
    "    value=['L8'],\n",
    "    description='Satellites',\n",
    "    disabled=False\n",
    ")\n",
    "# value=['S2'],\n",
    "sat_vbox = VBox([sat_instr,satellite_selection])\n",
    "\n",
    "def handle_collection_change(change):\n",
    "    if change['new'] == 'C02':\n",
    "        satellite_selection.options=['L5', 'L7', 'L8', 'L9', 'S2']\n",
    "    else:\n",
    "        satellite_selection.options=['L5', 'L7', 'L8', 'S2']\n",
    "\n",
    "collection_radio.observe(handle_collection_change,\"value\")\n",
    "\n",
    "controls_vbox=VBox([dates_vbox, collection_vbox, sat_vbox])\n",
    "controls_vbox"
   ]
  },
  {
   "cell_type": "code",
   "execution_count": 4,
   "metadata": {
    "scrolled": true
   },
   "outputs": [
    {
     "name": "stdout",
     "output_type": "stream",
     "text": [
      "dates: ['2018-12-01', '2019-03-01']\n",
      "landsat_collection: C01\n",
      "sat_list: ['L8']\n"
     ]
    }
   ],
   "source": [
    "# CoastSat Download Variables\n",
    "# ------------------------------\n",
    "# Save the satellites selected to sat_list\n",
    "if satellite_selection.value:\n",
    "    sat_list = list(satellite_selection.value)\n",
    "elif not satellite_selection.value:\n",
    "    print(\"ERROR: You must select at least one satellite first\")\n",
    "# Save the dates selected by the user as well as the selected collection\n",
    "dates = [str(start_date.value),str(end_date.value)]\n",
    "landsat_collection = collection_radio.value\n",
    "print(f\"dates: {dates}\")\n",
    "print(f\"landsat_collection: {landsat_collection}\")\n",
    "print(f\"sat_list: {sat_list}\")"
   ]
  },
  {
   "cell_type": "markdown",
   "metadata": {},
   "source": [
    "## Settings for CoastSat\n",
    "\n",
    "Modify any of the following setting to determine how data is downloaded from CoastSat\n"
   ]
  },
  {
   "cell_type": "code",
   "execution_count": 5,
   "metadata": {},
   "outputs": [],
   "source": [
    "settings = { \n",
    "    # general parameters:\n",
    "    'cloud_thresh': 0.5,        # threshold on maximum cloud cover\n",
    "     'dist_clouds': 300,        # ditance around clouds where shoreline can't be mapped\n",
    "    'output_epsg': 3857,        # epsg code of spatial reference system desired for the output   \n",
    "    # quality control:\n",
    "    'check_detection': False,    # if True, shows each shoreline detection to the user for validation\n",
    "    'adjust_detection': False,  # if True, allows user to adjust the postion of each shoreline by changing the threhold\n",
    "    'save_figure': True,        # if True, saves a figure showing the mapped shoreline for each image\n",
    "    # [ONLY FOR ADVANCED USERS] shoreline detection parameters:\n",
    "    'min_beach_area': 4500,     # minimum area (in metres^2) for an object to be labelled as a beach\n",
    "    'buffer_size': 550,         # radius (in metres) of the buffer around sandy pixels considered in the shoreline detection\n",
    "    'min_length_sl': 100,       # minimum length (in metres) of shoreline perimeter to be valid\n",
    "    'cloud_mask_issue': False,  # switch this parameter to True if sand pixels are masked (in black) on many images  \n",
    "    'sand_color': 'default',    # 'default', 'dark' (for grey/black sand beaches) or 'bright' (for white sand beaches)\n",
    "    'pan_off':'False',          # if True, no pan-sharpening is performed on Landsat 7,8 and 9 imagery\n",
    "    'create_plot':False,        # True create a matplotlib plot of the image with the datetime as the title\n",
    "    'max_dist_ref':25,\n",
    "    'along_dist' :25,\n",
    "}"
   ]
  },
  {
   "cell_type": "markdown",
   "metadata": {},
   "source": [
    "# Create the Map\n",
    "\n",
    "- Create the map object here\n",
    "- Save all the settings created earlier\n",
    "- Save the list of satellites, dates, and the collection to coastseg_map instance\n"
   ]
  },
  {
   "cell_type": "code",
   "execution_count": 6,
   "metadata": {},
   "outputs": [],
   "source": [
    "coastsegmap=coastseg_map.CoastSeg_Map()"
   ]
  },
  {
   "cell_type": "code",
   "execution_count": 7,
   "metadata": {},
   "outputs": [],
   "source": [
    "coastsegmap.save_settings(sat_list=sat_list, landsat_collection = landsat_collection,dates=dates,**settings)"
   ]
  },
  {
   "cell_type": "code",
   "execution_count": 8,
   "metadata": {},
   "outputs": [
    {
     "data": {
      "text/plain": [
       "{'sat_list': ['L8'],\n",
       " 'landsat_collection': 'C01',\n",
       " 'dates': ['2018-12-01', '2019-03-01'],\n",
       " 'cloud_thresh': 0.5,\n",
       " 'dist_clouds': 300,\n",
       " 'output_epsg': 3857,\n",
       " 'check_detection': False,\n",
       " 'adjust_detection': False,\n",
       " 'save_figure': True,\n",
       " 'min_beach_area': 4500,\n",
       " 'buffer_size': 550,\n",
       " 'min_length_sl': 100,\n",
       " 'cloud_mask_issue': False,\n",
       " 'sand_color': 'default',\n",
       " 'pan_off': 'False',\n",
       " 'create_plot': False,\n",
       " 'max_dist_ref': 25,\n",
       " 'along_dist': 25}"
      ]
     },
     "execution_count": 8,
     "metadata": {},
     "output_type": "execute_result"
    }
   ],
   "source": [
    "coastsegmap.settings"
   ]
  },
  {
   "cell_type": "markdown",
   "metadata": {
    "tags": []
   },
   "source": [
    "# How to Use The Map\n",
    "\n",
    "---\n",
    "\n",
    "1. Use the rectangle tool to draw a bounding box along the coastline.\n",
    "2. Click `Generate ROI` to create ROI rectangles along the coastline in the bounding box. This may take some time.\n",
    "\n",
    "- You should see a coastline appear in yellow and some rectangles along it.\n",
    "\n",
    "3. Click 1 or more ROIs then click `Save ROI` to save these ROIs for downloading later\n",
    "4. You're ready to download the ROIs. Run the next block of code.\n",
    "\n",
    "## Config Files\n",
    "---\n",
    "Config files are used to save the state of your map. When you click `save config` or `download ROI` all the  Selected ROIs, transects, shorelines and the current bounding box loaded onto the map are saved to two config files. Extracted shorelines and transects are not saved to the config files.\n",
    "\n",
    "## Saving Config Files\n",
    "---\n",
    "Config files are automatically saved in the `data` directory within each ROI directory when `Download ROIs` is clicked. \n",
    "Config files can be saved at any time when the `Save Config Files` button. If the ROIs selected on the map have been downloaded before and exist in the `data` directory then the config files will be stored in  within each ROI directory. If the ROIs on the map have not been downloaded before then the config files will be saved in the coastseg directory.\n",
    "#### Steps\n",
    "1. Click the ROIs on the map you want to save\n",
    "2. Click the `Save Config Files` button. \n",
    "\n",
    "## Loading Config Files\n",
    "___\n",
    "### Load Config Files For Download ROIs\n",
    "To load config files for ROIs that have been downloaded before go to the `data` directory within `coastseg` then find the directory of the ROIs you want to upload. Inside that directory, for example the \n",
    "`ID_3_datetime10-20-22__07_09_07` directory, there should be `geojson` file named `config_gdf_id_3.geojson`. You should notice the `ID_<ROI ID NUMBER>` in the directory name and the geojson file match, in this case this is ROI id 3. Upload the `config_gdf_id_<roi id number>.geojson`.\n",
    "This will load the ROI in that directory and all the other selected ROIs,shorelines, transects, and the bounding box that were on the map when it was saved.\n",
    "#### Steps\n",
    "1. Click `Load Config`\n",
    "2. Open `data` directory\n",
    "3. Open ROI directory ex. **ID_3_datetime10-20-22__07_09_07**\n",
    "3. Select `config_gdf_id_<roi id number>.geojson` ex. **config_gdf_id_3.geojson**\n",
    "\n",
    "### Load Config Files For ROIs That Have Not Been Downloaded\n",
    "To load config files for ROIs that have not been downloaded before first click the `Load Config` button,  open the coastseg directory and select `config_gdf.geojson`. This will loaded the selected ROIs, shorelines, transects, and bounding box that was saved with the `Save Config Files` button. \n",
    "NOTE: You will not be able to extract shorelines or compute transects until you download the data for these ROIs.\n",
    "#### Steps\n",
    "1. Click `Load Config`\n",
    "2. Open `coastseg` application directory\n",
    "3. Select `config_gdf.geojson`"
   ]
  },
  {
   "cell_type": "code",
   "execution_count": 9,
   "metadata": {},
   "outputs": [
    {
     "data": {
      "application/vnd.jupyter.widget-view+json": {
       "model_id": "76bede61112f460cbc11438cf6442c14",
       "version_major": 2,
       "version_minor": 0
      },
      "text/plain": [
       "HBox(children=(VBox(children=(HTML(value='<h2><b>Generate ROIs</b></h2>                 Use the two sliders to…"
      ]
     },
     "metadata": {},
     "output_type": "display_data"
    },
    {
     "data": {
      "application/vnd.jupyter.widget-view+json": {
       "model_id": "5d137c9c25fd48719c4d75c24f895545",
       "version_major": 2,
       "version_minor": 0
      },
      "text/plain": [
       "HBox(children=(HBox(children=(Button(description='Load Transects', style=ButtonStyle(button_color='#69add1')),…"
      ]
     },
     "metadata": {},
     "output_type": "display_data"
    },
    {
     "data": {
      "application/vnd.jupyter.widget-view+json": {
       "model_id": "138c253cca2c4c7eb79876b3c13ea681",
       "version_major": 2,
       "version_minor": 0
      },
      "text/plain": [
       "HBox(children=(HBox(children=(Button(description='Remove all', style=ButtonStyle(button_color='red')), Button(…"
      ]
     },
     "metadata": {},
     "output_type": "display_data"
    },
    {
     "data": {
      "application/vnd.jupyter.widget-view+json": {
       "model_id": "a83f2fdb11b641fcaf7e1bd5fb0be66b",
       "version_major": 2,
       "version_minor": 0
      },
      "text/plain": [
       "HBox(children=(Button(description='Clear TextBox', style=ButtonStyle(button_color='#a3adac')), Output(layout=L…"
      ]
     },
     "metadata": {},
     "output_type": "display_data"
    },
    {
     "data": {
      "application/vnd.jupyter.widget-view+json": {
       "model_id": "662e3a69ef844ebfb09170a34897d6c8",
       "version_major": 2,
       "version_minor": 0
      },
      "text/plain": [
       "HBox(children=(Map(center=[40.8630302395, -124.166267], controls=(ZoomControl(options=['position', 'zoom_in_te…"
      ]
     },
     "metadata": {},
     "output_type": "display_data"
    },
    {
     "data": {
      "application/vnd.jupyter.widget-view+json": {
       "model_id": "4784ad58e7e245319abbe7a31203ab31",
       "version_major": 2,
       "version_minor": 0
      },
      "text/plain": [
       "HBox(children=(Output(layout=Layout(border='1px solid black')),))"
      ]
     },
     "metadata": {},
     "output_type": "display_data"
    }
   ],
   "source": [
    "from src.coastseg.map_UI import UI\n",
    "coastseg_ui = UI(coastsegmap)\n",
    "coastseg_ui.create_dashboard()"
   ]
  },
  {
   "cell_type": "markdown",
   "metadata": {},
   "source": [
    "# Extract Shorelines From Downloaded Imagery\n",
    "------\n",
    "Extracted Shorelines are shoreline vectors in the imagery you downloaded from GEE. The extracted shorelines are created by analyzing each `.tiff` file for each set of satellite imagery downloaded to check if a shoreline classifier can be applied to it. If the `.tiff` file meets the quality standards by being under the maxiumum theshold for cloud cover and other metrics the image is analyzed by a special image segmentation model which classifies the sand, water and surf in the image. Using the labeled images from the image segmentation model a shoreline vector will be detected in the image and saved to a dictionary entry for the ROI it belonged to. The extracted shoreline will appear in purple on the map.\n",
    "\n",
    "## Beta Shorelines Do Not Always Work Properly\n",
    "The classifier to extract shorelines is still under development and fails for complex shorelines sometimes. If you see extracted shorelines that zig and zag this is likely the result of the classifier failing to classifiy your image. You may want to try changing the sand color parameter of the classifier if the sand on your coast is dark or light.\n",
    "\n",
    "## Current Bugs Under Development\n",
    "1. Multiple shoreline vectors will be rendered onto the map at the same location because all the shorelines accross the time period you selected are calculated at the same time. In the next release of CoastSeg these will be rendered one at a time on the map and you will be able to select which dates are rendered.\n",
    "2. Sometimes shorelines will be not be able to be extracted from any of the imagery downloaded for the ROI on the map due to image quality issues such as excessive cloud cover or too many 'no data'(black) pixels in the downloaded imagery. When this is the case the extracted shoreline will not appear on the map. In a future update of coastseg there will be error messages to tell you when this has occured.\n",
    "\n",
    "\n",
    "## How to Extract Shorelines From Your Iamgery\n",
    "See the extracted shorelines for the ROIs selected on the map by first selecting your ROIs, downloading their data from GEE and then clicking extract shorelines.\n",
    "1. Click the ROIs to extract shorelines from on the map\n",
    "2. Download the ROIs data from GEE or already have it downloaded.\n",
    "3. Click `extract shorelines`\n",
    "4. You should see extracted shorelines appear in purple within some of your ROIs.\n",
    "5. Run the following code block to see the extracted shorelines for each ROI."
   ]
  },
  {
   "cell_type": "code",
   "execution_count": null,
   "metadata": {},
   "outputs": [],
   "source": [
    "if coastsegmap.rois is None or len(coastsegmap.selected_set) ==0:\n",
    "    print(\"Please select ROIs on the map first\")\n",
    "elif coastsegmap.rois is not None:\n",
    "    if coastsegmap.data_downloaded == False:\n",
    "        print(\"Download the data first to extract shorelines from it\")\n",
    "    elif coastsegmap.data_downloaded == True:\n",
    "        print(coastsegmap.rois.extracted_shorelines)"
   ]
  },
  {
   "cell_type": "markdown",
   "metadata": {},
   "source": [
    "# Compute Transect Cross Distance for Extracted Shorelines\n",
    "--------\n",
    "# How Compute Transect Cross Distance for Extracted Shorelines\n",
    "1. Click `Extract Shorelines`\n",
    "2.  Click `Compute Transects`"
   ]
  },
  {
   "cell_type": "markdown",
   "metadata": {},
   "source": [
    "## Run Models on Imagery\n",
    "1. Select if you want to use a GPU or not. By default you won't your computer's GPU\n",
    "2. Select if you want to use CRF post-processing or not. By default CRF post-processing is not enabled\n",
    "<br>**WARNING**: There is a bug with CRF post-processing and the models so you will need to enable CRF post-processing until it is fixed.\n",
    "3. Select whether your data is the type RGB or MNDWI\n",
    "4. Select the model you want to use\n",
    "5. Select Ensemble or Best (Ensemble is recommended) \n",
    "6. \n"
   ]
  },
  {
   "cell_type": "code",
   "execution_count": 10,
   "metadata": {},
   "outputs": [
    {
     "name": "stdout",
     "output_type": "stream",
     "text": [
      "Version:  2.9.1\n",
      "Eager mode:  True\n",
      "Version:  2.9.1\n",
      "Eager mode:  True\n",
      "GPU name:  []\n",
      "Num GPUs Available:  0\n"
     ]
    },
    {
     "data": {
      "application/vnd.jupyter.widget-view+json": {
       "model_id": "60b47c74ba314149a388fd5a737a6bd4",
       "version_major": 2,
       "version_minor": 0
      },
      "text/plain": [
       "HBox(children=(Checkbox(value=False, description='Use GPU?', indent=False), Checkbox(value=False, description=…"
      ]
     },
     "metadata": {},
     "output_type": "display_data"
    },
    {
     "data": {
      "application/vnd.jupyter.widget-view+json": {
       "model_id": "70e1a822d0194656b89b6eda85c28562",
       "version_major": 2,
       "version_minor": 0
      },
      "text/plain": [
       "Output()"
      ]
     },
     "metadata": {},
     "output_type": "display_data"
    },
    {
     "data": {
      "application/vnd.jupyter.widget-view+json": {
       "model_id": "9d7a56892d7c4415b6dc564cb55fe995",
       "version_major": 2,
       "version_minor": 0
      },
      "text/plain": [
       "HBox(children=(RadioButtons(description='Model Input:', options=('RGB', 'MNDWI'), value='RGB'), RadioButtons(d…"
      ]
     },
     "metadata": {},
     "output_type": "display_data"
    },
    {
     "data": {
      "application/vnd.jupyter.widget-view+json": {
       "model_id": "e67cb9fa4a9b4f56b47af4345403282d",
       "version_major": 2,
       "version_minor": 0
      },
      "text/plain": [
       "VBox(children=(HTML(value='<h4>Click ONE of the following buttons:</h4>', layout=Layout(margin='0px 0px 0px 0p…"
      ]
     },
     "metadata": {},
     "output_type": "display_data"
    },
    {
     "data": {
      "application/vnd.jupyter.widget-view+json": {
       "model_id": "6c6b90a706e54f27ad5faec3d2816153",
       "version_major": 2,
       "version_minor": 0
      },
      "text/plain": [
       "Button(description='Use Data Button', style=ButtonStyle(button_color='#69add1'))"
      ]
     },
     "metadata": {},
     "output_type": "display_data"
    },
    {
     "data": {
      "application/vnd.jupyter.widget-view+json": {
       "model_id": "b7b3912b369346539dbf8664345ae2d0",
       "version_major": 2,
       "version_minor": 0
      },
      "text/plain": [
       "Button(description='Select Your Images', style=ButtonStyle(button_color='#69add1'))"
      ]
     },
     "metadata": {},
     "output_type": "display_data"
    },
    {
     "data": {
      "application/vnd.jupyter.widget-view+json": {
       "model_id": "d9d4fbc08d6246e99e41df95af70201f",
       "version_major": 2,
       "version_minor": 0
      },
      "text/plain": [
       "HTML(value='____________________________________________________')"
      ]
     },
     "metadata": {},
     "output_type": "display_data"
    },
    {
     "data": {
      "application/vnd.jupyter.widget-view+json": {
       "model_id": "c0cd5c90827242f5b4c5b021a23ff536",
       "version_major": 2,
       "version_minor": 0
      },
      "text/plain": [
       "Output(layout=Layout(border='1px solid black'))"
      ]
     },
     "metadata": {},
     "output_type": "display_data"
    },
    {
     "data": {
      "application/vnd.jupyter.widget-view+json": {
       "model_id": "b9cdfe8908aa487ea594b5de320597b7",
       "version_major": 2,
       "version_minor": 0
      },
      "text/plain": [
       "Button(description='Run Model', style=ButtonStyle(button_color='#ae3cf0'))"
      ]
     },
     "metadata": {},
     "output_type": "display_data"
    },
    {
     "data": {
      "application/vnd.jupyter.widget-view+json": {
       "model_id": "2db4fdcf381f4ad68a8761f6188742e5",
       "version_major": 2,
       "version_minor": 0
      },
      "text/plain": [
       "Output(layout=Layout(border='1px solid black'))"
      ]
     },
     "metadata": {},
     "output_type": "display_data"
    },
    {
     "data": {
      "application/vnd.jupyter.widget-view+json": {
       "model_id": "eca7dd2cb3374450ba94ab38920da57e",
       "version_major": 2,
       "version_minor": 0
      },
      "text/plain": [
       "Button(description='Open Model Results', style=ButtonStyle(button_color='#69add1'))"
      ]
     },
     "metadata": {},
     "output_type": "display_data"
    }
   ],
   "source": [
    "from src.coastseg.UI_models import UI_Models\n",
    "models_ui = UI_Models()\n",
    "models_ui.create_dashboard()"
   ]
  },
  {
   "cell_type": "code",
   "execution_count": null,
   "metadata": {},
   "outputs": [],
   "source": []
  }
 ],
 "metadata": {
  "kernelspec": {
   "display_name": "Python 3 (ipykernel)",
   "language": "python",
   "name": "python3"
  },
  "language_info": {
   "codemirror_mode": {
    "name": "ipython",
    "version": 3
   },
   "file_extension": ".py",
   "mimetype": "text/x-python",
   "name": "python",
   "nbconvert_exporter": "python",
   "pygments_lexer": "ipython3",
   "version": "3.10.4"
  },
  "vscode": {
   "interpreter": {
    "hash": "53ab1155a6fba8dac112dd11f6ebbdb1bff1a2fc6fa221ef0a2c21c817842ec3"
   }
  },
  "widgets": {
   "application/vnd.jupyter.widget-state+json": {
    "state": {
     "0181856ebd2f464da86226ebe9b5c699": {
      "model_module": "@jupyter-widgets/base",
      "model_module_version": "1.2.0",
      "model_name": "LayoutModel",
      "state": {}
     },
     "01f7ac196a2a4ed39a7b17612cd64b30": {
      "model_module": "@jupyter-widgets/controls",
      "model_module_version": "1.5.0",
      "model_name": "HTMLModel",
      "state": {
       "layout": "IPY_MODEL_7796f4322c9f4a43ba7b8db304b8d3c3",
       "style": "IPY_MODEL_6b55e2d7d4a142f9bfad9f0fa48800b8",
       "value": " 1/1 [00:11&lt;00:00, 11.29s/it]"
      }
     },
     "01fdabf8649747dd86a2c7118764cae4": {
      "model_module": "@jupyter-widgets/controls",
      "model_module_version": "1.5.0",
      "model_name": "DescriptionStyleModel",
      "state": {
       "description_width": ""
      }
     },
     "02582031b6d6466e92072f1a48844296": {
      "model_module": "@jupyter-widgets/controls",
      "model_module_version": "1.5.0",
      "model_name": "ButtonModel",
      "state": {
       "description": "Load gdf from file",
       "layout": "IPY_MODEL_5ed9174424594570b0d4ef17d9886031",
       "style": "IPY_MODEL_30f19bf938bd4098a890dc622065b3e1"
      }
     },
     "02b42278cf5b484cb478a6ca4b5e43d4": {
      "model_module": "@jupyter-widgets/base",
      "model_module_version": "1.2.0",
      "model_name": "LayoutModel",
      "state": {
       "margin": "0px 5px 5px 0px"
      }
     },
     "04563e46b69043b9940226a6db5f9be2": {
      "model_module": "@jupyter-widgets/controls",
      "model_module_version": "1.5.0",
      "model_name": "ButtonStyleModel",
      "state": {
       "button_color": "#69add1"
      }
     },
     "047db4060153430ba7e92ea8981fa732": {
      "model_module": "@jupyter-widgets/controls",
      "model_module_version": "1.5.0",
      "model_name": "DescriptionStyleModel",
      "state": {
       "description_width": ""
      }
     },
     "0486acb535814f71afee751560db14b6": {
      "model_module": "jupyter-leaflet",
      "model_module_version": "^0.17.0",
      "model_name": "LeafletTileLayerModel",
      "state": {
       "_model_module_version": "^0.17.0",
       "_view_module_version": "^0.17.0",
       "attribution": "Map data: (C) OpenStreetMap contributors | Map style: (C) waymarkedtrails.org (CC-BY-SA)",
       "name": "WaymarkedTrails.hiking",
       "options": [
        "attribution",
        "bounds",
        "detect_retina",
        "max_native_zoom",
        "max_zoom",
        "min_native_zoom",
        "min_zoom",
        "no_wrap",
        "tile_size",
        "tms"
       ],
       "url": "https://tile.waymarkedtrails.org/hiking/{z}/{x}/{y}.png"
      }
     },
     "06fec507e6e04eaa9d770ba03d0a2302": {
      "model_module": "@jupyter-widgets/base",
      "model_module_version": "1.2.0",
      "model_name": "LayoutModel",
      "state": {}
     },
     "0713fb9bce534c04a16bd9b32bc2a33d": {
      "model_module": "jupyter-leaflet",
      "model_module_version": "^0.17.0",
      "model_name": "LeafletTileLayerModel",
      "state": {
       "_model_module_version": "^0.17.0",
       "_view_module_version": "^0.17.0",
       "attribution": "(C) OpenStreetMap contributors (C) CARTO",
       "max_zoom": 20,
       "name": "CartoDB.VoyagerLabelsUnder",
       "options": [
        "attribution",
        "bounds",
        "detect_retina",
        "max_native_zoom",
        "max_zoom",
        "min_native_zoom",
        "min_zoom",
        "no_wrap",
        "tile_size",
        "tms"
       ],
       "url": "https://a.basemaps.cartocdn.com/rastertiles/voyager_labels_under/{z}/{x}/{y}.png"
      }
     },
     "076c8bcf4473421bbf8b38f924e3a584": {
      "model_module": "@jupyter-widgets/controls",
      "model_module_version": "1.5.0",
      "model_name": "ToggleButtonModel",
      "state": {
       "button_style": "primary",
       "icon": "download",
       "layout": "IPY_MODEL_7a139dc2a6c146fc854fb7643fa0f0ea",
       "style": "IPY_MODEL_e289a003815647d8a000c5446e48c4ec",
       "tooltip": "Download OSM data"
      }
     },
     "083d251798bb4826959d3abc108effa4": {
      "model_module": "@jupyter-widgets/controls",
      "model_module_version": "1.5.0",
      "model_name": "DescriptionStyleModel",
      "state": {
       "description_width": ""
      }
     },
     "0a157f9de2ab45e689dd6ca383b5fe63": {
      "model_module": "@jupyter-widgets/controls",
      "model_module_version": "1.5.0",
      "model_name": "ToggleButtonModel",
      "state": {
       "button_style": "primary",
       "icon": "camera",
       "layout": "IPY_MODEL_5683004027f44cf2a6a653007913e1bf",
       "style": "IPY_MODEL_3f0d6014984745a6b3226d0c27318f11",
       "tooltip": "Save map as HTML or image"
      }
     },
     "0a6cc07c5fe34071b7c4b267f3d6cc9e": {
      "model_module": "jupyter-leaflet",
      "model_module_version": "^0.17.0",
      "model_name": "LeafletTileLayerModel",
      "state": {
       "_model_module_version": "^0.17.0",
       "_view_module_version": "^0.17.0",
       "attribution": "Map data: (C) OpenStreetMap contributors | Map style: (C) waymarkedtrails.org (CC-BY-SA)",
       "name": "WaymarkedTrails.skating",
       "options": [
        "attribution",
        "bounds",
        "detect_retina",
        "max_native_zoom",
        "max_zoom",
        "min_native_zoom",
        "min_zoom",
        "no_wrap",
        "tile_size",
        "tms"
       ],
       "url": "https://tile.waymarkedtrails.org/skating/{z}/{x}/{y}.png"
      }
     },
     "0a900e3067114af48c86c12e74880325": {
      "model_module": "@jupyter-widgets/base",
      "model_module_version": "1.2.0",
      "model_name": "LayoutModel",
      "state": {
       "margin": "0px 0px 0px 20px"
      }
     },
     "0bf643cd7da6465f88c3ef46d25bb936": {
      "model_module": "jupyter-leaflet",
      "model_module_version": "^0.17.0",
      "model_name": "LeafletMapStyleModel",
      "state": {
       "_model_module_version": "^0.17.0",
       "cursor": "default"
      }
     },
     "0ccdfbeff6dc44c69b687a8390ef1b0b": {
      "model_module": "jupyter-leaflet",
      "model_module_version": "^0.17.0",
      "model_name": "LeafletWMSLayerModel",
      "state": {
       "_model_module_version": "^0.17.0",
       "_view_module_version": "^0.17.0",
       "attribution": "MRLC",
       "crs": {
        "custom": false,
        "name": "EPSG3857"
       },
       "format": "image/png",
       "layers": "NLCD_2001_Land_Cover_L48",
       "name": "NLCD 2001 CONUS Land Cover",
       "options": [
        "attribution",
        "bounds",
        "detect_retina",
        "format",
        "layers",
        "max_native_zoom",
        "max_zoom",
        "min_native_zoom",
        "min_zoom",
        "no_wrap",
        "styles",
        "tile_size",
        "tms",
        "transparent",
        "uppercase"
       ],
       "transparent": true,
       "url": "https://www.mrlc.gov/geoserver/mrlc_display/NLCD_2001_Land_Cover_L48/wms?"
      }
     },
     "0d254879d3474460919ea12728321337": {
      "model_module": "@jupyter-widgets/base",
      "model_module_version": "1.2.0",
      "model_name": "LayoutModel",
      "state": {}
     },
     "0e0c58b3b24449ec836fea3c11d0640a": {
      "model_module": "jupyter-leaflet",
      "model_module_version": "^0.17.0",
      "model_name": "LeafletTileLayerModel",
      "state": {
       "_model_module_version": "^0.17.0",
       "_view_module_version": "^0.17.0",
       "attribution": "Datenquelle: basemap.at",
       "max_zoom": 19,
       "name": "BasemapAT.grau",
       "options": [
        "attribution",
        "bounds",
        "detect_retina",
        "max_native_zoom",
        "max_zoom",
        "min_native_zoom",
        "min_zoom",
        "no_wrap",
        "tile_size",
        "tms"
       ],
       "url": "https://maps.wien.gv.at/basemap/bmapgrau/normal/google3857/{z}/{y}/{x}.png"
      }
     },
     "0ec0218c05dc4d9aa4fca098d48fb347": {
      "model_module": "jupyter-leaflet",
      "model_module_version": "^0.17.0",
      "model_name": "LeafletMapStyleModel",
      "state": {
       "_model_module_version": "^0.17.0",
       "cursor": "wait"
      }
     },
     "1076701efb0645f3a53c4cf5c11a4cff": {
      "model_module": "jupyter-leaflet",
      "model_module_version": "^0.17.0",
      "model_name": "LeafletTileLayerModel",
      "state": {
       "_model_module_version": "^0.17.0",
       "_view_module_version": "^0.17.0",
       "attribution": "Map data: (C) OpenStreetMap contributors | Map style: (C) OpenFireMap (CC-BY-SA)",
       "max_zoom": 19,
       "name": "OpenFireMap",
       "options": [
        "attribution",
        "bounds",
        "detect_retina",
        "max_native_zoom",
        "max_zoom",
        "min_native_zoom",
        "min_zoom",
        "no_wrap",
        "tile_size",
        "tms"
       ],
       "url": "http://openfiremap.org/hytiles/{z}/{x}/{y}.png"
      }
     },
     "109166aebe224cb886c362111acab298": {
      "model_module": "jupyter-leaflet",
      "model_module_version": "^0.17.0",
      "model_name": "LeafletTileLayerModel",
      "state": {
       "_model_module_version": "^0.17.0",
       "_view_module_version": "^0.17.0",
       "attribution": "(C) OpenStreetMap contributors (C) CARTO",
       "max_zoom": 20,
       "name": "CartoDB.Voyager",
       "options": [
        "attribution",
        "bounds",
        "detect_retina",
        "max_native_zoom",
        "max_zoom",
        "min_native_zoom",
        "min_zoom",
        "no_wrap",
        "tile_size",
        "tms"
       ],
       "url": "https://a.basemaps.cartocdn.com/rastertiles/voyager/{z}/{x}/{y}.png"
      }
     },
     "10925f2e162542c18b95db72b45a5b25": {
      "model_module": "@jupyter-widgets/controls",
      "model_module_version": "1.5.0",
      "model_name": "SelectMultipleModel",
      "state": {
       "_options_labels": [
        "L5",
        "L7",
        "L8",
        "S2"
       ],
       "description": "Satellites",
       "index": [
        2
       ],
       "layout": "IPY_MODEL_5d212f4eee2c4eeeb1883e2594f463c9",
       "rows": 5,
       "style": "IPY_MODEL_40d85d6153014bfa826a123f3aaaa160"
      }
     },
     "11200c85c9cc45028c9405d0882c46f3": {
      "model_module": "@jupyter-widgets/controls",
      "model_module_version": "1.5.0",
      "model_name": "HTMLModel",
      "state": {
       "layout": "IPY_MODEL_967e143a8ffb4909bec21d53feec5eb1",
       "style": "IPY_MODEL_01fdabf8649747dd86a2c7118764cae4",
       "value": "100%"
      }
     },
     "129c72184df84ac488e5a493a11ff095": {
      "model_module": "jupyter-leaflet",
      "model_module_version": "^0.17.0",
      "model_name": "LeafletTileLayerModel",
      "state": {
       "_model_module_version": "^0.17.0",
       "_view_module_version": "^0.17.0",
       "attribution": "Map tiles by Stamen Design, CC BY 3.0 -- Map data (C) OpenStreetMap contributors",
       "max_zoom": 20,
       "name": "Stamen.TonerHybrid",
       "options": [
        "attribution",
        "bounds",
        "detect_retina",
        "max_native_zoom",
        "max_zoom",
        "min_native_zoom",
        "min_zoom",
        "no_wrap",
        "tile_size",
        "tms"
       ],
       "url": "https://stamen-tiles-a.a.ssl.fastly.net/toner-hybrid/{z}/{x}/{y}.png"
      }
     },
     "12a97a0364414763aeb897cf6d5ee943": {
      "model_module": "@jupyter-widgets/controls",
      "model_module_version": "1.5.0",
      "model_name": "SliderStyleModel",
      "state": {
       "description_width": "initial"
      }
     },
     "13858ea72a544b9f82e8b8099a572dc7": {
      "model_module": "jupyter-leaflet",
      "model_module_version": "^0.17.0",
      "model_name": "LeafletTileLayerModel",
      "state": {
       "_model_module_version": "^0.17.0",
       "_view_module_version": "^0.17.0",
       "attribution": "Map tiles by Stamen Design, CC BY 3.0 -- Map data (C) OpenStreetMap contributors",
       "max_zoom": 20,
       "name": "Stamen.TopOSMRelief",
       "options": [
        "attribution",
        "bounds",
        "detect_retina",
        "max_native_zoom",
        "max_zoom",
        "min_native_zoom",
        "min_zoom",
        "no_wrap",
        "tile_size",
        "tms"
       ],
       "url": "https://stamen-tiles-a.a.ssl.fastly.net/toposm-color-relief/{z}/{x}/{y}.jpg"
      }
     },
     "1385feab648546b49ad089d4acfe9b80": {
      "model_module": "@jupyter-widgets/controls",
      "model_module_version": "1.5.0",
      "model_name": "IntSliderModel",
      "state": {
       "continuous_update": false,
       "description": "Large Fishnet:",
       "layout": "IPY_MODEL_59467cb39c1545dcb4c15946a23f934b",
       "max": 10000,
       "min": 1000,
       "step": 100,
       "style": "IPY_MODEL_12a97a0364414763aeb897cf6d5ee943",
       "value": 4000
      }
     },
     "138c253cca2c4c7eb79876b3c13ea681": {
      "model_module": "@jupyter-widgets/controls",
      "model_module_version": "1.5.0",
      "model_name": "HBoxModel",
      "state": {
       "children": [
        "IPY_MODEL_6c7f8852f15c4dd88a764f29d24117fb"
       ],
       "layout": "IPY_MODEL_06fec507e6e04eaa9d770ba03d0a2302"
      }
     },
     "13910fab38ab42f5b161ea5af5dd909d": {
      "model_module": "jupyter-leaflet",
      "model_module_version": "^0.17.0",
      "model_name": "LeafletTileLayerModel",
      "state": {
       "_model_module_version": "^0.17.0",
       "_view_module_version": "^0.17.0",
       "attribution": "Map data: (C) OpenSeaMap contributors",
       "max_zoom": 22,
       "name": "OpenSeaMap",
       "options": [
        "attribution",
        "bounds",
        "detect_retina",
        "max_native_zoom",
        "max_zoom",
        "min_native_zoom",
        "min_zoom",
        "no_wrap",
        "tile_size",
        "tms"
       ],
       "url": "https://tiles.openseamap.org/seamark/{z}/{x}/{y}.png"
      }
     },
     "13b1d0c4956941cfafc633ef73502861": {
      "model_module": "@jupyter-widgets/base",
      "model_module_version": "1.2.0",
      "model_name": "LayoutModel",
      "state": {}
     },
     "13cb0d62f0ae48f28e0bb2431085ca94": {
      "model_module": "jupyter-leaflet",
      "model_module_version": "^0.17.0",
      "model_name": "LeafletTileLayerModel",
      "state": {
       "_model_module_version": "^0.17.0",
       "_view_module_version": "^0.17.0",
       "attribution": "Google",
       "max_zoom": 22,
       "name": "Google Satellite",
       "options": [
        "attribution",
        "bounds",
        "detect_retina",
        "max_native_zoom",
        "max_zoom",
        "min_native_zoom",
        "min_zoom",
        "no_wrap",
        "tile_size",
        "tms"
       ],
       "url": "https://mt1.google.com/vt/lyrs=s&x={x}&y={y}&z={z}"
      }
     },
     "141cf39bf5eb4cbeaeeaa8068ce14b59": {
      "model_module": "@jupyter-widgets/controls",
      "model_module_version": "1.5.0",
      "model_name": "ButtonStyleModel",
      "state": {
       "button_color": "red"
      }
     },
     "1462c47654b848bd8a9d40e8c6818e06": {
      "model_module": "@jupyter-widgets/base",
      "model_module_version": "1.2.0",
      "model_name": "LayoutModel",
      "state": {
       "height": "28px",
       "padding": "0px 0px 0px 4px",
       "width": "28px"
      }
     },
     "15149c5283fe4e7bb146193a9c9eb6df": {
      "model_module": "@jupyter-widgets/controls",
      "model_module_version": "1.5.0",
      "model_name": "ToggleButtonModel",
      "state": {
       "button_style": "primary",
       "icon": "fast-forward",
       "layout": "IPY_MODEL_eee82e9f4248478aaf1fc7af1270ea22",
       "style": "IPY_MODEL_047db4060153430ba7e92ea8981fa732",
       "tooltip": "Activate the time slider"
      }
     },
     "160485d61b86409ea9b0f2f551e69017": {
      "model_module": "@jupyter-widgets/base",
      "model_module_version": "1.2.0",
      "model_name": "LayoutModel",
      "state": {}
     },
     "167469280f7d40eb8da25de863d4dea0": {
      "model_module": "jupyter-leaflet",
      "model_module_version": "^0.17.0",
      "model_name": "LeafletTileLayerModel",
      "state": {
       "_model_module_version": "^0.17.0",
       "_view_module_version": "^0.17.0",
       "attribution": "© swisstopo",
       "name": "SwissFederalGeoportal.JourneyThroughTime",
       "options": [
        "attribution",
        "bounds",
        "detect_retina",
        "max_native_zoom",
        "max_zoom",
        "min_native_zoom",
        "min_zoom",
        "no_wrap",
        "tile_size",
        "tms"
       ],
       "url": "https://wmts.geo.admin.ch/1.0.0/ch.swisstopo.zeitreihen/default/18641231/3857/{z}/{x}/{y}.png"
      }
     },
     "17115a7a5dda4f97a3b0c571a1fcdb1b": {
      "model_module": "@jupyter-widgets/controls",
      "model_module_version": "1.5.0",
      "model_name": "DescriptionStyleModel",
      "state": {
       "description_width": ""
      }
     },
     "177d4f246545497a9b08a6ad739a0aa9": {
      "model_module": "@jupyter-widgets/base",
      "model_module_version": "1.2.0",
      "model_name": "LayoutModel",
      "state": {}
     },
     "17c32411271b4b23b350e6b834aa7473": {
      "model_module": "@jupyter-widgets/base",
      "model_module_version": "1.2.0",
      "model_name": "LayoutModel",
      "state": {}
     },
     "188cd994dd09448aa43e891f107267d5": {
      "model_module": "@jupyter-widgets/base",
      "model_module_version": "1.2.0",
      "model_name": "LayoutModel",
      "state": {
       "height": "auto",
       "padding": "0px 0px 0px 4px",
       "width": "auto"
      }
     },
     "18f3f13f3bf6400f9d162b7ddf5047bc": {
      "model_module": "@jupyter-widgets/controls",
      "model_module_version": "1.5.0",
      "model_name": "DescriptionStyleModel",
      "state": {
       "description_width": ""
      }
     },
     "191c0ccf61044b9eabd844c2a692d5cf": {
      "model_module": "jupyter-leaflet",
      "model_module_version": "^0.17.0",
      "model_name": "LeafletTileLayerModel",
      "state": {
       "_model_module_version": "^0.17.0",
       "_view_module_version": "^0.17.0",
       "attribution": "© swisstopo",
       "name": "SwissFederalGeoportal.NationalMapGrey",
       "options": [
        "attribution",
        "bounds",
        "detect_retina",
        "max_native_zoom",
        "max_zoom",
        "min_native_zoom",
        "min_zoom",
        "no_wrap",
        "tile_size",
        "tms"
       ],
       "url": "https://wmts.geo.admin.ch/1.0.0/ch.swisstopo.pixelkarte-grau/default/current/3857/{z}/{x}/{y}.jpeg"
      }
     },
     "1998a6b8539141f79f9b9b534fba86e9": {
      "model_module": "@jupyter-widgets/base",
      "model_module_version": "1.2.0",
      "model_name": "LayoutModel",
      "state": {}
     },
     "1ac02086b7e640219071e7dd4aa275f1": {
      "model_module": "jupyter-leaflet",
      "model_module_version": "^0.17.0",
      "model_name": "LeafletWMSLayerModel",
      "state": {
       "_model_module_version": "^0.17.0",
       "_view_module_version": "^0.17.0",
       "attribution": "MRLC",
       "crs": {
        "custom": false,
        "name": "EPSG3857"
       },
       "format": "image/png",
       "layers": "NLCD_2013_Land_Cover_L48",
       "name": "NLCD 2013 CONUS Land Cover",
       "options": [
        "attribution",
        "bounds",
        "detect_retina",
        "format",
        "layers",
        "max_native_zoom",
        "max_zoom",
        "min_native_zoom",
        "min_zoom",
        "no_wrap",
        "styles",
        "tile_size",
        "tms",
        "transparent",
        "uppercase"
       ],
       "transparent": true,
       "url": "https://www.mrlc.gov/geoserver/mrlc_display/NLCD_2013_Land_Cover_L48/wms?"
      }
     },
     "1b49954113c4413a8eaa96eedd4cbeea": {
      "model_module": "jupyter-leaflet",
      "model_module_version": "^0.17.0",
      "model_name": "LeafletTileLayerModel",
      "state": {
       "_model_module_version": "^0.17.0",
       "_view_module_version": "^0.17.0",
       "attribution": "(C) OpenStreetMap contributors",
       "max_zoom": 15,
       "name": "HikeBike.HillShading",
       "options": [
        "attribution",
        "bounds",
        "detect_retina",
        "max_native_zoom",
        "max_zoom",
        "min_native_zoom",
        "min_zoom",
        "no_wrap",
        "tile_size",
        "tms"
       ],
       "url": "https://tiles.wmflabs.org/hillshading/{z}/{x}/{y}.png"
      }
     },
     "1b96f8a7fb2c4d3da33b630363be03b9": {
      "model_module": "jupyter-leaflet",
      "model_module_version": "^0.17.0",
      "model_name": "LeafletGeoJSONModel",
      "state": {
       "_model_module_version": "^0.17.0",
       "_view_module_version": "^0.17.0",
       "data": {
        "features": [
         {
          "geometry": {
           "coordinates": [
            [
             [
              -124.17231991102625,
              40.867214779304916
             ],
             [
              -124.17287634605553,
              40.89873764103481
             ],
             [
              -124.13133180034464,
              40.899152705731765
             ],
             [
              -124.13079506441677,
              40.8676293858108
             ],
             [
              -124.17231991102625,
              40.867214779304916
             ]
            ]
           ],
           "type": "Polygon"
          },
          "id": "1",
          "properties": {
           "id": "1",
           "style": {
            "color": "blue",
            "fillColor": "blue",
            "fillOpacity": 0.1,
            "weight": 2
           }
          },
          "type": "Feature"
         }
        ],
        "type": "FeatureCollection"
       },
       "hover_style": {
        "color": "aqua",
        "fillColor": "blue",
        "fillOpacity": 0.1
       },
       "name": "Selected ROIs"
      }
     },
     "1c7e1cc2f76648849b110b9ec03c4cc5": {
      "model_module": "jupyter-leaflet",
      "model_module_version": "^0.17.0",
      "model_name": "LeafletTileLayerModel",
      "state": {
       "_model_module_version": "^0.17.0",
       "_view_module_version": "^0.17.0",
       "attribution": "© swisstopo",
       "max_zoom": 19,
       "name": "SwissFederalGeoportal.SWISSIMAGE",
       "options": [
        "attribution",
        "bounds",
        "detect_retina",
        "max_native_zoom",
        "max_zoom",
        "min_native_zoom",
        "min_zoom",
        "no_wrap",
        "tile_size",
        "tms"
       ],
       "url": "https://wmts.geo.admin.ch/1.0.0/ch.swisstopo.swissimage/default/current/3857/{z}/{x}/{y}.jpeg"
      }
     },
     "1e4f5b7c242344bfaa7ee52fa4859dc2": {
      "model_module": "jupyter-leaflet",
      "model_module_version": "^0.17.0",
      "model_name": "LeafletTileLayerModel",
      "state": {
       "_model_module_version": "^0.17.0",
       "_view_module_version": "^0.17.0",
       "attribution": "Kaartgegevens (C) Kadaster",
       "max_zoom": 19,
       "name": "nlmaps.luchtfoto",
       "options": [
        "attribution",
        "bounds",
        "detect_retina",
        "max_native_zoom",
        "max_zoom",
        "min_native_zoom",
        "min_zoom",
        "no_wrap",
        "tile_size",
        "tms"
       ],
       "url": "https://service.pdok.nl/hwh/luchtfotorgb/wmts/v1_0/Actueel_ortho25/EPSG:3857/{z}/{x}/{y}.jpeg"
      }
     },
     "1f3608b7b5784da2970b315859e8adeb": {
      "model_module": "@jupyter-widgets/controls",
      "model_module_version": "1.5.0",
      "model_name": "VBoxModel",
      "state": {
       "_view_count": 1,
       "children": [
        "IPY_MODEL_bb65ca33846b4cdb944f54e7ed166fae"
       ],
       "layout": "IPY_MODEL_b2db198791ab4232a2f6d7166c9f2f0c"
      }
     },
     "1fb413acd7c14cf884564d13f3f40d15": {
      "model_module": "jupyter-leaflet",
      "model_module_version": "^0.17.0",
      "model_name": "LeafletTileLayerModel",
      "state": {
       "_model_module_version": "^0.17.0",
       "_view_module_version": "^0.17.0",
       "attribution": "(C) OpenStreetMap contributors (C) CARTO",
       "max_zoom": 20,
       "name": "CartoDB.DarkMatterOnlyLabels",
       "options": [
        "attribution",
        "bounds",
        "detect_retina",
        "max_native_zoom",
        "max_zoom",
        "min_native_zoom",
        "min_zoom",
        "no_wrap",
        "tile_size",
        "tms"
       ],
       "url": "https://a.basemaps.cartocdn.com/dark_only_labels/{z}/{x}/{y}.png"
      }
     },
     "20411a33bfbc45028e2586cf729c9ed4": {
      "model_module": "@jupyter-widgets/controls",
      "model_module_version": "1.5.0",
      "model_name": "DescriptionStyleModel",
      "state": {
       "description_width": ""
      }
     },
     "209cb7cfb7ee4dbc9d10585ef7b88cea": {
      "model_module": "@jupyter-widgets/controls",
      "model_module_version": "1.5.0",
      "model_name": "VBoxModel",
      "state": {
       "children": [
        "IPY_MODEL_412262ca67914d4f8da16f6b2912d82d",
        "IPY_MODEL_98101232c37844acb654c76b2800ee6c",
        "IPY_MODEL_a2298b9756874c6692fb6aa7e5e04c80"
       ],
       "layout": "IPY_MODEL_4b30240edae24b03bbc1c5ba6cd85b79"
      }
     },
     "21f9fa399ffd494f97fb551da15844d1": {
      "model_module": "jupyter-leaflet",
      "model_module_version": "^0.17.0",
      "model_name": "LeafletTileLayerModel",
      "state": {
       "_model_module_version": "^0.17.0",
       "_view_module_version": "^0.17.0",
       "attribution": "Map tiles by Stamen Design, CC BY 3.0 -- Map data (C) OpenStreetMap contributors",
       "max_zoom": 20,
       "name": "Stamen.TonerLines",
       "options": [
        "attribution",
        "bounds",
        "detect_retina",
        "max_native_zoom",
        "max_zoom",
        "min_native_zoom",
        "min_zoom",
        "no_wrap",
        "tile_size",
        "tms"
       ],
       "url": "https://stamen-tiles-a.a.ssl.fastly.net/toner-lines/{z}/{x}/{y}.png"
      }
     },
     "22216b77d4144002a9df0dc2141470b9": {
      "model_module": "@jupyter-widgets/controls",
      "model_module_version": "1.5.0",
      "model_name": "ButtonStyleModel",
      "state": {
       "button_color": "#ae3cf0"
      }
     },
     "23feda002a04417a9aa58c68ff4fa7c0": {
      "model_module": "@jupyter-widgets/base",
      "model_module_version": "1.2.0",
      "model_name": "LayoutModel",
      "state": {}
     },
     "2445809f0803411faccec65419975db9": {
      "model_module": "@jupyter-widgets/controls",
      "model_module_version": "1.5.0",
      "model_name": "DescriptionStyleModel",
      "state": {
       "description_width": ""
      }
     },
     "251585db13de400fb02aa5cde42405b5": {
      "model_module": "jupyter-leaflet",
      "model_module_version": "^0.17.0",
      "model_name": "LeafletTileLayerModel",
      "state": {
       "_model_module_version": "^0.17.0",
       "_view_module_version": "^0.17.0",
       "attribution": "Imagery provided by services from the Global Imagery Browse Services (GIBS), operated by the NASA/GSFC/Earth Science Data and Information System (ESDIS) with funding provided by NASA/HQ.",
       "max_zoom": 8,
       "name": "NASAGIBS.ViirsEarthAtNight2012",
       "options": [
        "attribution",
        "bounds",
        "detect_retina",
        "max_native_zoom",
        "max_zoom",
        "min_native_zoom",
        "min_zoom",
        "no_wrap",
        "tile_size",
        "tms"
       ],
       "url": "https://map1.vis.earthdata.nasa.gov/wmts-webmerc/VIIRS_CityLights_2012/default//GoogleMapsCompatible_Level8/{z}/{y}/{x}.jpg"
      }
     },
     "2594b5d636cc4ec7919e1a24f89ef26d": {
      "model_module": "@jupyter-widgets/controls",
      "model_module_version": "1.5.0",
      "model_name": "ButtonModel",
      "state": {
       "description": "Save config files",
       "layout": "IPY_MODEL_3240cfeca60140c7877be49783c812e9",
       "style": "IPY_MODEL_810ed97150e3482ba225b60b98af7634"
      }
     },
     "26fa2961567045c7a5fd1ca1bd737b29": {
      "model_module": "@jupyter-widgets/controls",
      "model_module_version": "1.5.0",
      "model_name": "DescriptionStyleModel",
      "state": {
       "description_width": ""
      }
     },
     "27a886e40b124d22b19d7612e7238689": {
      "model_module": "jupyter-leaflet",
      "model_module_version": "^0.17.0",
      "model_name": "LeafletTileLayerModel",
      "state": {
       "_model_module_version": "^0.17.0",
       "_view_module_version": "^0.17.0",
       "attribution": "(C) OpenStreetMap contributors",
       "name": "OpenStreetMap.DE",
       "options": [
        "attribution",
        "bounds",
        "detect_retina",
        "max_native_zoom",
        "max_zoom",
        "min_native_zoom",
        "min_zoom",
        "no_wrap",
        "tile_size",
        "tms"
       ],
       "url": "https://a.tile.openstreetmap.de/{z}/{x}/{y}.png"
      }
     },
     "27c5095f28d64cb99f9483f505ec230d": {
      "model_module": "jupyter-leaflet",
      "model_module_version": "^0.17.0",
      "model_name": "LeafletWMSLayerModel",
      "state": {
       "_model_module_version": "^0.17.0",
       "_view_module_version": "^0.17.0",
       "attribution": "ESA",
       "crs": {
        "custom": false,
        "name": "EPSG3857"
       },
       "format": "image/png",
       "layers": "WORLDCOVER_2020_MAP",
       "name": "ESA Worldcover 2020",
       "options": [
        "attribution",
        "bounds",
        "detect_retina",
        "format",
        "layers",
        "max_native_zoom",
        "max_zoom",
        "min_native_zoom",
        "min_zoom",
        "no_wrap",
        "styles",
        "tile_size",
        "tms",
        "transparent",
        "uppercase"
       ],
       "transparent": true,
       "url": "https://services.terrascope.be/wms/v2"
      }
     },
     "27f0fbcd887941768630594f6ca898e0": {
      "model_module": "jupyter-leaflet",
      "model_module_version": "^0.17.0",
      "model_name": "LeafletMapStyleModel",
      "state": {
       "_model_module_version": "^0.17.0"
      }
     },
     "2815ef94255a451f8e476011ccac1c12": {
      "model_module": "@jupyter-widgets/base",
      "model_module_version": "1.2.0",
      "model_name": "LayoutModel",
      "state": {
       "height": "28px",
       "width": "72px"
      }
     },
     "28d7e52aae4a46ad8af11ceadb50fee6": {
      "model_module": "@jupyter-widgets/base",
      "model_module_version": "1.2.0",
      "model_name": "LayoutModel",
      "state": {}
     },
     "291ed083c2f141e19398e6a05d6fb25c": {
      "model_module": "@jupyter-widgets/controls",
      "model_module_version": "1.5.0",
      "model_name": "VBoxModel",
      "state": {
       "children": [
        "IPY_MODEL_7fcb4382af4b4eba9711ea23bb27a0fd",
        "IPY_MODEL_7795517eaa2e49db9cf8c51ba06cfe30",
        "IPY_MODEL_2594b5d636cc4ec7919e1a24f89ef26d"
       ],
       "layout": "IPY_MODEL_e2b007cfe1ca4522bff15db4d175be4f"
      }
     },
     "29493d83465a4d0aba75dad167564f75": {
      "model_module": "jupyter-leaflet",
      "model_module_version": "^0.17.0",
      "model_name": "LeafletTileLayerModel",
      "state": {
       "_model_module_version": "^0.17.0",
       "_view_module_version": "^0.17.0",
       "attribution": "Kaartgegevens (C) Kadaster",
       "max_zoom": 19,
       "name": "nlmaps.grijs",
       "options": [
        "attribution",
        "bounds",
        "detect_retina",
        "max_native_zoom",
        "max_zoom",
        "min_native_zoom",
        "min_zoom",
        "no_wrap",
        "tile_size",
        "tms"
       ],
       "url": "https://service.pdok.nl/brt/achtergrondkaart/wmts/v2_0/grijs/EPSG:3857/{z}/{x}/{y}.png"
      }
     },
     "2985ce35f433457a9258a7024fb15af1": {
      "model_module": "@jupyter-widgets/controls",
      "model_module_version": "1.5.0",
      "model_name": "AccordionModel",
      "state": {
       "_titles": {
        "0": "Shoreline Data"
       },
       "children": [
        "IPY_MODEL_7c3db39a9e464128932562726eb533b6"
       ],
       "layout": "IPY_MODEL_9b6013eb4dcc42acbfcf9d0fea37d768"
      }
     },
     "2b475d998dfa44c98411a681d639a22e": {
      "model_module": "@jupyter-widgets/controls",
      "model_module_version": "1.5.0",
      "model_name": "ToggleButtonModel",
      "state": {
       "button_style": "primary",
       "icon": "question",
       "layout": "IPY_MODEL_75ee4c2664ec4116a5a7c917a0892cb7",
       "style": "IPY_MODEL_18f3f13f3bf6400f9d162b7ddf5047bc",
       "tooltip": "Get help"
      }
     },
     "2c9984150ccb4392b333cb349f4f54d3": {
      "model_module": "@jupyter-widgets/base",
      "model_module_version": "1.2.0",
      "model_name": "LayoutModel",
      "state": {
       "margin": "0px 0px 0px 0px"
      }
     },
     "2db4fdcf381f4ad68a8761f6188742e5": {
      "model_module": "@jupyter-widgets/output",
      "model_module_version": "1.0.0",
      "model_name": "OutputModel",
      "state": {
       "layout": "IPY_MODEL_41eff197639c4bc58174610f2a1eae4a",
       "outputs": [
        {
         "name": "stdout",
         "output_type": "stream",
         "text": "Called Run Model\nNot using the GPU\n\n Model located at: C:\\1_USGS\\CoastSeg\\repos\\2_CoastSeg\\CoastSeg_fork\\Seg2Map\\src\\coastseg\\downloaded_models\\landsat_6229071\\rgb\n"
        },
        {
         "data": {
          "application/vnd.jupyter.widget-view+json": {
           "model_id": "cb8ffe72b23e49d7afef8c4c1325167b",
           "version_major": 2,
           "version_minor": 0
          },
          "text/plain": "  0%|          | 0/2 [00:00<?, ?it/s]"
         },
         "metadata": {},
         "output_type": "display_data"
        },
        {
         "name": "stdout",
         "output_type": "stream",
         "text": "1/1 [==============================] - 3s 3s/step\n1/1 [==============================] - 2s 2s/step\n1/1 [==============================] - 2s 2s/step\n1/1 [==============================] - 1s 985ms/step\n1/1 [==============================] - 1s 970ms/step\n1/1 [==============================] - 1s 966ms/step\n"
        }
       ]
      }
     },
     "2dce02127dcb45c5a958f884d3c062de": {
      "model_module": "@jupyter-widgets/controls",
      "model_module_version": "1.5.0",
      "model_name": "DescriptionStyleModel",
      "state": {
       "description_width": ""
      }
     },
     "2e17692096954095b9c33fa9ed890f93": {
      "model_module": "@jupyter-widgets/controls",
      "model_module_version": "1.5.0",
      "model_name": "HTMLModel",
      "state": {
       "layout": "IPY_MODEL_8965c1416bf849dc88c970eebcdf8519",
       "style": "IPY_MODEL_2445809f0803411faccec65419975db9",
       "value": "<h2><b>Save ROIs</b></h2>                 You must click save ROI before you can download ROIs                <br> Use the save buttons to save the ROIs you selected <br>                <li> Save BBox: Save the bounding box to a geojson file called 'bbox.geojson'</li>                    <li> Save ROIs: Save the selected ROI to a geojson file called 'rois.geojson'</li>                    "
      }
     },
     "2e6195557628464bb17016d64c369922": {
      "model_module": "@jupyter-widgets/controls",
      "model_module_version": "1.5.0",
      "model_name": "ButtonModel",
      "state": {
       "description": "Remove shoreline",
       "layout": "IPY_MODEL_9c3d3406b6e14884b1e6b05e9aaad85a",
       "style": "IPY_MODEL_141cf39bf5eb4cbeaeeaa8068ce14b59"
      }
     },
     "2f87ccc288374413b172522a458e2765": {
      "model_module": "@jupyter-widgets/base",
      "model_module_version": "1.2.0",
      "model_name": "LayoutModel",
      "state": {
       "height": "auto",
       "padding": "0px 0px 0px 4px",
       "width": "auto"
      }
     },
     "2febd83b70a94517bef56c1bafc5f7b9": {
      "model_module": "@jupyter-widgets/base",
      "model_module_version": "1.2.0",
      "model_name": "LayoutModel",
      "state": {
       "height": "auto",
       "padding": "0px 0px 0px 4px",
       "width": "auto"
      }
     },
     "306357949c0e443a8195bef22d793917": {
      "model_module": "@jupyter-widgets/controls",
      "model_module_version": "1.5.0",
      "model_name": "ToggleButtonModel",
      "state": {
       "icon": "server",
       "layout": "IPY_MODEL_2815ef94255a451f8e476011ccac1c12",
       "style": "IPY_MODEL_c4f77742c93740dba7ea305fd282d98c",
       "tooltip": "Layers"
      }
     },
     "30f19bf938bd4098a890dc622065b3e1": {
      "model_module": "@jupyter-widgets/controls",
      "model_module_version": "1.5.0",
      "model_name": "ButtonStyleModel",
      "state": {
       "button_color": "#69add1"
      }
     },
     "31290360ba4b466bb36e603f0ef8f709": {
      "model_module": "jupyter-leaflet",
      "model_module_version": "^0.17.0",
      "model_name": "LeafletTileLayerModel",
      "state": {
       "_model_module_version": "^0.17.0",
       "_view_module_version": "^0.17.0",
       "attribution": "Datenquelle: basemap.at",
       "max_zoom": 19,
       "name": "BasemapAT.terrain",
       "options": [
        "attribution",
        "bounds",
        "detect_retina",
        "max_native_zoom",
        "max_zoom",
        "min_native_zoom",
        "min_zoom",
        "no_wrap",
        "tile_size",
        "tms"
       ],
       "url": "https://maps.wien.gv.at/basemap/bmapgelaende/grau/google3857/{z}/{y}/{x}.jpeg"
      }
     },
     "312bfce7ef6c4ab9a28c8c3504d425e4": {
      "model_module": "@jupyter-widgets/controls",
      "model_module_version": "1.5.0",
      "model_name": "DescriptionStyleModel",
      "state": {
       "description_width": ""
      }
     },
     "317c466f567d4b0e9c86ef15e8413edc": {
      "model_module": "@jupyter-widgets/base",
      "model_module_version": "1.2.0",
      "model_name": "LayoutModel",
      "state": {}
     },
     "3198cb37bf264c66a9ef81445cbbeacd": {
      "model_module": "@jupyter-widgets/controls",
      "model_module_version": "1.5.0",
      "model_name": "HTMLModel",
      "state": {
       "layout": "IPY_MODEL_0a900e3067114af48c86c12e74880325",
       "style": "IPY_MODEL_ad027df7819442c89771e3ce1ea4e5d7",
       "value": "<b>2. Select Images Button</b>                 <br> - This will open a pop up window where the folder containing the jpgs can be selected.<br>                    - The model will be applied to this folder and the model outputs will be generated within a subdirectory                    called 'out'<br>            - <span style=\"background-color:yellow;color: black;\">WARNING :</span> You will not be able to see the files within the folder you select.<br>            "
      }
     },
     "322a33233cfd46019b71160a3f54cd89": {
      "model_module": "jupyter-leaflet",
      "model_module_version": "^0.17.0",
      "model_name": "LeafletTileLayerModel",
      "state": {
       "_model_module_version": "^0.17.0",
       "_view_module_version": "^0.17.0",
       "attribution": "Map tiles by <a href=\"https://labs.strava.com/heatmap\">Strava 2021</a>",
       "max_zoom": 15,
       "name": "Strava.Winter",
       "options": [
        "attribution",
        "bounds",
        "detect_retina",
        "max_native_zoom",
        "max_zoom",
        "min_native_zoom",
        "min_zoom",
        "no_wrap",
        "tile_size",
        "tms"
       ],
       "url": "https://heatmap-external-a.strava.com/tiles/winter/hot/{z}/{x}/{y}.png"
      }
     },
     "3240cfeca60140c7877be49783c812e9": {
      "model_module": "@jupyter-widgets/base",
      "model_module_version": "1.2.0",
      "model_name": "LayoutModel",
      "state": {}
     },
     "331520ba296445ba87c55cdefc0a13a3": {
      "model_module": "@jupyter-widgets/controls",
      "model_module_version": "1.5.0",
      "model_name": "HTMLModel",
      "state": {
       "layout": "IPY_MODEL_9a1b0e467b6644f0bd6477c631737e50",
       "style": "IPY_MODEL_c963832678a94dea9685706fe4439906",
       "value": "<h2><b>Load ROIs/BBox</b></h2>                You can upload ROIs or Bbox geojson file.                    <li> Load BBox: Load bounding box from geojson file (ex. 'bbox.geojson')</li>                <li> Load ROIs: Load ROIs from geojson file (ex. 'rois.geojson')</li>                    "
      }
     },
     "35d65e775f204ec3ae48ca459c30c57f": {
      "model_module": "jupyter-leaflet",
      "model_module_version": "^0.17.0",
      "model_name": "LeafletTileLayerModel",
      "state": {
       "_model_module_version": "^0.17.0",
       "_view_module_version": "^0.17.0",
       "attribution": "Google",
       "max_zoom": 22,
       "name": "Google Maps",
       "options": [
        "attribution",
        "bounds",
        "detect_retina",
        "max_native_zoom",
        "max_zoom",
        "min_native_zoom",
        "min_zoom",
        "no_wrap",
        "tile_size",
        "tms"
       ],
       "url": "https://mt1.google.com/vt/lyrs=m&x={x}&y={y}&z={z}"
      }
     },
     "3637ffcd32ae49158d9f4481a69ae43b": {
      "model_module": "jupyter-leaflet",
      "model_module_version": "^0.17.0",
      "model_name": "LeafletZoomControlModel",
      "state": {
       "_model_module_version": "^0.17.0",
       "_view_module_version": "^0.17.0",
       "options": [
        "position",
        "zoom_in_text",
        "zoom_in_title",
        "zoom_out_text",
        "zoom_out_title"
       ]
      }
     },
     "374c7eeb44ce40dca09f1a5518bfb1ec": {
      "model_module": "@jupyter-widgets/base",
      "model_module_version": "1.2.0",
      "model_name": "LayoutModel",
      "state": {}
     },
     "37c0f94b8bc34aeeaf136b6830df2b68": {
      "model_module": "@jupyter-widgets/controls",
      "model_module_version": "1.5.0",
      "model_name": "HBoxModel",
      "state": {
       "children": [
        "IPY_MODEL_306357949c0e443a8195bef22d793917",
        "IPY_MODEL_bb65ca33846b4cdb944f54e7ed166fae"
       ],
       "layout": "IPY_MODEL_507618171c1c4adca7f22634af157d82"
      }
     },
     "3818f07c21404b9f9ed6956948b26f0c": {
      "model_module": "ipyevents",
      "model_module_version": "2.0.1",
      "model_name": "EventModel",
      "state": {
       "_supported_key_events": [
        "keydown",
        "keyup"
       ],
       "_supported_mouse_events": [
        "click",
        "auxclick",
        "dblclick",
        "mouseenter",
        "mouseleave",
        "mousedown",
        "mouseup",
        "mousemove",
        "wheel",
        "contextmenu",
        "dragstart",
        "drag",
        "dragend",
        "dragenter",
        "dragover",
        "dragleave",
        "drop"
       ],
       "_supported_touch_events": [
        "touchstart",
        "touchend",
        "touchmove",
        "touchcancel"
       ],
       "_view_module": "@jupyter-widgets/controls",
       "_view_module_version": "1.5.0",
       "source": "IPY_MODEL_1f3608b7b5784da2970b315859e8adeb",
       "throttle_or_debounce": "",
       "watched_events": [
        "mouseenter",
        "mouseleave"
       ],
       "xy_coordinate_system": ""
      }
     },
     "3895a8b527db4c24810bb4ff375f2e56": {
      "model_module": "jupyter-leaflet",
      "model_module_version": "^0.17.0",
      "model_name": "LeafletTileLayerModel",
      "state": {
       "_model_module_version": "^0.17.0",
       "_view_module_version": "^0.17.0",
       "attribution": "Kaartgegevens (C) Kadaster",
       "max_zoom": 19,
       "name": "nlmaps.pastel",
       "options": [
        "attribution",
        "bounds",
        "detect_retina",
        "max_native_zoom",
        "max_zoom",
        "min_native_zoom",
        "min_zoom",
        "no_wrap",
        "tile_size",
        "tms"
       ],
       "url": "https://service.pdok.nl/brt/achtergrondkaart/wmts/v2_0/pastel/EPSG:3857/{z}/{x}/{y}.png"
      }
     },
     "38ac18a4112a4e0a951cccba5c98e0c8": {
      "model_module": "@jupyter-widgets/controls",
      "model_module_version": "1.5.0",
      "model_name": "DescriptionStyleModel",
      "state": {
       "description_width": ""
      }
     },
     "38c0b6fab15e453598b5767f13c7c9e7": {
      "model_module": "@jupyter-widgets/base",
      "model_module_version": "1.2.0",
      "model_name": "LayoutModel",
      "state": {}
     },
     "38ed7ad1a4824c23aab26a2e5d48bb88": {
      "model_module": "@jupyter-widgets/controls",
      "model_module_version": "1.5.0",
      "model_name": "ButtonModel",
      "state": {
       "description": "Load Shoreline",
       "layout": "IPY_MODEL_43c015be0e894e22a827ee335e500906",
       "style": "IPY_MODEL_7626a7bf48fb4ce5a72dc6a84512f0ec"
      }
     },
     "3ae1770de60d439ea7e61034dc20a6b4": {
      "model_module": "@jupyter-widgets/base",
      "model_module_version": "1.2.0",
      "model_name": "LayoutModel",
      "state": {}
     },
     "3b6809815d4f44b39f826f190e361f0c": {
      "model_module": "@jupyter-widgets/base",
      "model_module_version": "1.2.0",
      "model_name": "LayoutModel",
      "state": {
       "margin": "0px 5px 0px 5px"
      }
     },
     "3b7c267854d14e0fabe3cdaf780ecd8e": {
      "model_module": "jupyter-leaflet",
      "model_module_version": "^0.17.0",
      "model_name": "LeafletTileLayerModel",
      "state": {
       "_model_module_version": "^0.17.0",
       "_view_module_version": "^0.17.0",
       "attribution": "Tiles courtesy of the U.S. Geological Survey",
       "max_zoom": 20,
       "name": "USGS.USImagery",
       "options": [
        "attribution",
        "bounds",
        "detect_retina",
        "max_native_zoom",
        "max_zoom",
        "min_native_zoom",
        "min_zoom",
        "no_wrap",
        "tile_size",
        "tms"
       ],
       "url": "https://basemap.nationalmap.gov/arcgis/rest/services/USGSImageryOnly/MapServer/tile/{z}/{y}/{x}"
      }
     },
     "3c43c85ae2974eb0ba5b53b61d9a3ac0": {
      "model_module": "@jupyter-widgets/controls",
      "model_module_version": "1.5.0",
      "model_name": "ButtonStyleModel",
      "state": {
       "button_color": "#ae3cf0"
      }
     },
     "3d5b6d0b867746918943b2b5d4ff4468": {
      "model_module": "jupyter-leaflet",
      "model_module_version": "^0.17.0",
      "model_name": "LeafletTileLayerModel",
      "state": {
       "_model_module_version": "^0.17.0",
       "_view_module_version": "^0.17.0",
       "attribution": "Map data: (C) OpenStreetMap contributors | Map style: (C) OpenRailwayMap (CC-BY-SA)",
       "max_zoom": 19,
       "name": "OpenRailwayMap",
       "options": [
        "attribution",
        "bounds",
        "detect_retina",
        "max_native_zoom",
        "max_zoom",
        "min_native_zoom",
        "min_zoom",
        "no_wrap",
        "tile_size",
        "tms"
       ],
       "url": "https://a.tiles.openrailwaymap.org/standard/{z}/{x}/{y}.png"
      }
     },
     "3dd5a5897a64442a938020fe511ec887": {
      "model_module": "@jupyter-widgets/controls",
      "model_module_version": "1.5.0",
      "model_name": "DescriptionStyleModel",
      "state": {
       "description_width": ""
      }
     },
     "3f0d6014984745a6b3226d0c27318f11": {
      "model_module": "@jupyter-widgets/controls",
      "model_module_version": "1.5.0",
      "model_name": "DescriptionStyleModel",
      "state": {
       "description_width": ""
      }
     },
     "3f239a3ff87d423baad18c4c2caaa5de": {
      "model_module": "@jupyter-widgets/controls",
      "model_module_version": "1.5.0",
      "model_name": "ButtonStyleModel",
      "state": {
       "button_color": "#ae3cf0"
      }
     },
     "3f5bf74186a54755ab89aa635823f982": {
      "model_module": "@jupyter-widgets/controls",
      "model_module_version": "1.5.0",
      "model_name": "HBoxModel",
      "state": {
       "children": [
        "IPY_MODEL_55729c918d9c4a068667d10625edcf03",
        "IPY_MODEL_38ed7ad1a4824c23aab26a2e5d48bb88"
       ],
       "layout": "IPY_MODEL_b15d9b9d3e474e48bb046839323855d1"
      }
     },
     "3fdf04cd3fe948e2a29e3a0e9e2bb0fd": {
      "model_module": "@jupyter-widgets/controls",
      "model_module_version": "1.5.0",
      "model_name": "HTMLModel",
      "state": {
       "layout": "IPY_MODEL_c64e245ba05e41d3867c77a8e8c9c3a4",
       "style": "IPY_MODEL_26fa2961567045c7a5fd1ca1bd737b29",
       "value": "<b>Pick a collection</b>        <br> C01: LandSat Collection 1         <br> C02: LandSat Collection 2  [2022/01/01 and beyond]         <br>      - Landsat 9 is only available in C02"
      }
     },
     "3fef9eaa78954a91b282ce8ad6658902": {
      "model_module": "@jupyter-widgets/controls",
      "model_module_version": "1.5.0",
      "model_name": "DescriptionStyleModel",
      "state": {
       "description_width": ""
      }
     },
     "40d85d6153014bfa826a123f3aaaa160": {
      "model_module": "@jupyter-widgets/controls",
      "model_module_version": "1.5.0",
      "model_name": "DescriptionStyleModel",
      "state": {
       "description_width": ""
      }
     },
     "412262ca67914d4f8da16f6b2912d82d": {
      "model_module": "@jupyter-widgets/controls",
      "model_module_version": "1.5.0",
      "model_name": "VBoxModel",
      "state": {
       "children": [
        "IPY_MODEL_47e6e1b1688442fea39b3cbb87b57679",
        "IPY_MODEL_9eda0a6a7d5845eea1c96031eeddfc55"
       ],
       "layout": "IPY_MODEL_5040d796f34f453685d0e4d112a80d11"
      }
     },
     "41eff197639c4bc58174610f2a1eae4a": {
      "model_module": "@jupyter-widgets/base",
      "model_module_version": "1.2.0",
      "model_name": "LayoutModel",
      "state": {
       "border": "1px solid black"
      }
     },
     "4213d660720b461dba670784856e8e8b": {
      "model_module": "jupyter-leaflet",
      "model_module_version": "^0.17.0",
      "model_name": "LeafletTileLayerModel",
      "state": {
       "_model_module_version": "^0.17.0",
       "_view_module_version": "^0.17.0",
       "attribution": "Imagery provided by services from the Global Imagery Browse Services (GIBS), operated by the NASA/GSFC/Earth Science Data and Information System (ESDIS) with funding provided by NASA/HQ.",
       "max_zoom": 9,
       "name": "NASAGIBS.ModisAquaBands721CR",
       "options": [
        "attribution",
        "bounds",
        "detect_retina",
        "max_native_zoom",
        "max_zoom",
        "min_native_zoom",
        "min_zoom",
        "no_wrap",
        "tile_size",
        "tms"
       ],
       "url": "https://gibs.earthdata.nasa.gov/wmts/epsg3857/best/MODIS_Aqua_CorrectedReflectance_Bands721/default//GoogleMapsCompatible_Level9/{z}/{y}/{x}.jpg"
      }
     },
     "42678304104c4c12839a2d0beb84a723": {
      "model_module": "@jupyter-widgets/controls",
      "model_module_version": "1.5.0",
      "model_name": "DescriptionStyleModel",
      "state": {
       "description_width": ""
      }
     },
     "431f675c700042a180e67c642a86ae00": {
      "model_module": "jupyter-leaflet",
      "model_module_version": "^0.17.0",
      "model_name": "LeafletTileLayerModel",
      "state": {
       "_model_module_version": "^0.17.0",
       "_view_module_version": "^0.17.0",
       "attribution": "(C) OpenStreetMap contributors (C) CARTO",
       "max_zoom": 20,
       "name": "CartoDB.DarkMatter",
       "options": [
        "attribution",
        "bounds",
        "detect_retina",
        "max_native_zoom",
        "max_zoom",
        "min_native_zoom",
        "min_zoom",
        "no_wrap",
        "tile_size",
        "tms"
       ],
       "url": "https://a.basemaps.cartocdn.com/dark_all/{z}/{x}/{y}.png"
      }
     },
     "43c015be0e894e22a827ee335e500906": {
      "model_module": "@jupyter-widgets/base",
      "model_module_version": "1.2.0",
      "model_name": "LayoutModel",
      "state": {}
     },
     "44271e250d8242ad96bd869576b4add7": {
      "model_module": "@jupyter-widgets/controls",
      "model_module_version": "1.5.0",
      "model_name": "DescriptionStyleModel",
      "state": {
       "description_width": ""
      }
     },
     "4438a07bf47141919fff4dbe9bfa059a": {
      "model_module": "jupyter-leaflet",
      "model_module_version": "^0.17.0",
      "model_name": "LeafletTileLayerModel",
      "state": {
       "_model_module_version": "^0.17.0",
       "_view_module_version": "^0.17.0",
       "attribution": "![](https://docs.onemap.sg/maps/images/oneMap64-01.png) New OneMap | Map data (C) contributors, Singapore Land Authority",
       "name": "OneMapSG.Grey",
       "options": [
        "attribution",
        "bounds",
        "detect_retina",
        "max_native_zoom",
        "max_zoom",
        "min_native_zoom",
        "min_zoom",
        "no_wrap",
        "tile_size",
        "tms"
       ],
       "url": "https://maps-a.onemap.sg/v3/Grey/{z}/{x}/{y}.png"
      }
     },
     "448c79428b40446ebed884818fe3ba97": {
      "model_module": "@jupyter-widgets/base",
      "model_module_version": "1.2.0",
      "model_name": "LayoutModel",
      "state": {}
     },
     "44a91ddd25544926870e3c7fc0e6b57d": {
      "model_module": "@jupyter-widgets/controls",
      "model_module_version": "1.5.0",
      "model_name": "DescriptionStyleModel",
      "state": {
       "description_width": ""
      }
     },
     "464badb3b4af41a288e86303c9090ef1": {
      "model_module": "@jupyter-widgets/base",
      "model_module_version": "1.2.0",
      "model_name": "LayoutModel",
      "state": {}
     },
     "469d806219c047148776bb818c1549e4": {
      "model_module": "@jupyter-widgets/controls",
      "model_module_version": "1.5.0",
      "model_name": "IntSliderModel",
      "state": {
       "continuous_update": false,
       "description": "Small Fishnet:",
       "layout": "IPY_MODEL_ae78524f469d4fb4b93ed2f273dfc3a5",
       "max": 10000,
       "step": 100,
       "style": "IPY_MODEL_51a58e54a773451bb8b934aa78223fd8",
       "value": 3500
      }
     },
     "47385e1c209748dc80861c4c99229714": {
      "model_module": "jupyter-leaflet",
      "model_module_version": "^0.17.0",
      "model_name": "LeafletTileLayerModel",
      "state": {
       "_model_module_version": "^0.17.0",
       "_view_module_version": "^0.17.0",
       "attribution": "Map data: (C) OpenStreetMap contributors | Map style: (C) waymarkedtrails.org (CC-BY-SA)",
       "name": "WaymarkedTrails.mtb",
       "options": [
        "attribution",
        "bounds",
        "detect_retina",
        "max_native_zoom",
        "max_zoom",
        "min_native_zoom",
        "min_zoom",
        "no_wrap",
        "tile_size",
        "tms"
       ],
       "url": "https://tile.waymarkedtrails.org/mtb/{z}/{x}/{y}.png"
      }
     },
     "474203dc69ab4de08fbbdde1236ce248": {
      "model_module": "@jupyter-widgets/controls",
      "model_module_version": "1.5.0",
      "model_name": "ProgressStyleModel",
      "state": {
       "description_width": ""
      }
     },
     "4784ad58e7e245319abbe7a31203ab31": {
      "model_module": "@jupyter-widgets/controls",
      "model_module_version": "1.5.0",
      "model_name": "HBoxModel",
      "state": {
       "children": [
        "IPY_MODEL_df43de452ef6488d923cd0d70b5343a9"
       ],
       "layout": "IPY_MODEL_7672d5ea8b7d48c1b3c9db2b0b34c5cc"
      }
     },
     "47c2ac6415d04ef5b6cd6a7a3fb09f78": {
      "model_module": "@jupyter-widgets/controls",
      "model_module_version": "1.5.0",
      "model_name": "ButtonStyleModel",
      "state": {
       "button_color": "#69add1"
      }
     },
     "47e6e1b1688442fea39b3cbb87b57679": {
      "model_module": "@jupyter-widgets/controls",
      "model_module_version": "1.5.0",
      "model_name": "HTMLModel",
      "state": {
       "layout": "IPY_MODEL_e40f98e069cb4267808bca66f21296ca",
       "style": "IPY_MODEL_e598e4f8f0b7420384011f307e8dda8b",
       "value": "<b>Pick a date:</b>"
      }
     },
     "48e7b1e30d42469ba14e29073f9e6269": {
      "model_module": "@jupyter-widgets/base",
      "model_module_version": "1.2.0",
      "model_name": "LayoutModel",
      "state": {}
     },
     "492d82e9a3e546a684000ecae60c26cc": {
      "model_module": "@jupyter-widgets/base",
      "model_module_version": "1.2.0",
      "model_name": "LayoutModel",
      "state": {}
     },
     "4b30240edae24b03bbc1c5ba6cd85b79": {
      "model_module": "@jupyter-widgets/base",
      "model_module_version": "1.2.0",
      "model_name": "LayoutModel",
      "state": {}
     },
     "4befd1aa82a74a39a5e6cebef4ef25ed": {
      "model_module": "@jupyter-widgets/base",
      "model_module_version": "1.2.0",
      "model_name": "LayoutModel",
      "state": {
       "height": "auto",
       "padding": "0px 0px 0px 4px",
       "width": "auto"
      }
     },
     "4c05463ade2f4c579c1fb547d7c33088": {
      "model_module": "@jupyter-widgets/controls",
      "model_module_version": "1.5.0",
      "model_name": "CheckboxModel",
      "state": {
       "description": "Use GPU?",
       "disabled": false,
       "indent": false,
       "layout": "IPY_MODEL_38c0b6fab15e453598b5767f13c7c9e7",
       "style": "IPY_MODEL_312bfce7ef6c4ab9a28c8c3504d425e4",
       "value": false
      }
     },
     "4e19b4d179c74e34a5289c92db0b7690": {
      "model_module": "@jupyter-widgets/base",
      "model_module_version": "1.2.0",
      "model_name": "LayoutModel",
      "state": {}
     },
     "4ee5218ec5104caaa130f849d1bb89ec": {
      "model_module": "@jupyter-widgets/controls",
      "model_module_version": "1.5.0",
      "model_name": "DescriptionStyleModel",
      "state": {
       "description_width": ""
      }
     },
     "4fac8a4e42ce403d9bf0bb435b8a1496": {
      "model_module": "@jupyter-widgets/base",
      "model_module_version": "1.2.0",
      "model_name": "LayoutModel",
      "state": {}
     },
     "5040d796f34f453685d0e4d112a80d11": {
      "model_module": "@jupyter-widgets/base",
      "model_module_version": "1.2.0",
      "model_name": "LayoutModel",
      "state": {}
     },
     "504b1888143e4115af237a09784ee93b": {
      "model_module": "@jupyter-widgets/controls",
      "model_module_version": "1.5.0",
      "model_name": "ButtonStyleModel",
      "state": {
       "button_color": "#a3adac"
      }
     },
     "507618171c1c4adca7f22634af157d82": {
      "model_module": "@jupyter-widgets/base",
      "model_module_version": "1.2.0",
      "model_name": "LayoutModel",
      "state": {}
     },
     "510c630afaf14d6bafd59e8b1960cfa7": {
      "model_module": "jupyter-leaflet",
      "model_module_version": "^0.17.0",
      "model_name": "LeafletWidgetControlModel",
      "state": {
       "_model_module": "jupyter-leaflet",
       "_model_module_version": "^0.17.0",
       "_view_count": null,
       "_view_module": "jupyter-leaflet",
       "_view_module_version": "^0.17.0",
       "options": [
        "position",
        "transparent_bg"
       ],
       "position": "topright",
       "widget": "IPY_MODEL_2985ce35f433457a9258a7024fb15af1"
      }
     },
     "51a58e54a773451bb8b934aa78223fd8": {
      "model_module": "@jupyter-widgets/controls",
      "model_module_version": "1.5.0",
      "model_name": "SliderStyleModel",
      "state": {
       "description_width": "initial"
      }
     },
     "5233976fbc3b4e259533963ed3a1ff24": {
      "model_module": "@jupyter-widgets/controls",
      "model_module_version": "1.5.0",
      "model_name": "ProgressStyleModel",
      "state": {
       "description_width": ""
      }
     },
     "528a616430e24dd986830ab4d24f2dea": {
      "model_module": "@jupyter-widgets/base",
      "model_module_version": "1.2.0",
      "model_name": "LayoutModel",
      "state": {}
     },
     "529fc5a5a68748acb278d285a335f486": {
      "model_module": "jupyter-leaflet",
      "model_module_version": "^0.17.0",
      "model_name": "LeafletTileLayerModel",
      "state": {
       "_model_module_version": "^0.17.0",
       "_view_module_version": "^0.17.0",
       "attribution": "National Library of Scotland Historic Maps",
       "name": "NLS",
       "options": [
        "attribution",
        "bounds",
        "detect_retina",
        "max_native_zoom",
        "max_zoom",
        "min_native_zoom",
        "min_zoom",
        "no_wrap",
        "tile_size",
        "tms"
       ],
       "url": "https://nls-0.tileserver.com/nls/{z}/{x}/{y}.jpg"
      }
     },
     "550f369517ad4c3a9c56aa29dfcb589e": {
      "model_module": "jupyter-leaflet",
      "model_module_version": "^0.17.0",
      "model_name": "LeafletTileLayerModel",
      "state": {
       "_model_module_version": "^0.17.0",
       "_view_module_version": "^0.17.0",
       "attribution": "Justice Map",
       "max_zoom": 22,
       "name": "JusticeMap.white",
       "options": [
        "attribution",
        "bounds",
        "detect_retina",
        "max_native_zoom",
        "max_zoom",
        "min_native_zoom",
        "min_zoom",
        "no_wrap",
        "tile_size",
        "tms"
       ],
       "url": "https://www.justicemap.org/tile/county/white/{z}/{x}/{y}.png"
      }
     },
     "554d7f6ef589440f9cdec0095d29bf34": {
      "model_module": "@jupyter-widgets/controls",
      "model_module_version": "1.5.0",
      "model_name": "DescriptionStyleModel",
      "state": {
       "description_width": ""
      }
     },
     "55729c918d9c4a068667d10625edcf03": {
      "model_module": "@jupyter-widgets/controls",
      "model_module_version": "1.5.0",
      "model_name": "ButtonModel",
      "state": {
       "description": "Load Transects",
       "layout": "IPY_MODEL_a78f0b2f3b8648dba59ee9fe8da10ebf",
       "style": "IPY_MODEL_47c2ac6415d04ef5b6cd6a7a3fb09f78"
      }
     },
     "55bedf8806744d34807328583eb500be": {
      "model_module": "jupyter-leaflet",
      "model_module_version": "^0.17.0",
      "model_name": "LeafletTileLayerModel",
      "state": {
       "_model_module_version": "^0.17.0",
       "_view_module_version": "^0.17.0",
       "attribution": "Map data: (C) OpenStreetMap contributors | Map style: (C) SafeCast (CC-BY-SA)",
       "max_zoom": 16,
       "name": "SafeCast",
       "options": [
        "attribution",
        "bounds",
        "detect_retina",
        "max_native_zoom",
        "max_zoom",
        "min_native_zoom",
        "min_zoom",
        "no_wrap",
        "tile_size",
        "tms"
       ],
       "url": "https://s3.amazonaws.com/te512.safecast.org/{z}/{x}/{y}.png"
      }
     },
     "565a49d0ea7a4af59eba06eb3d4abefc": {
      "model_module": "jupyter-leaflet",
      "model_module_version": "^0.17.0",
      "model_name": "LeafletTileLayerModel",
      "state": {
       "_model_module_version": "^0.17.0",
       "_view_module_version": "^0.17.0",
       "attribution": "Earthstar Geographics",
       "max_zoom": 24,
       "name": "Esri.AntarcticImagery",
       "options": [
        "attribution",
        "bounds",
        "detect_retina",
        "max_native_zoom",
        "max_zoom",
        "min_native_zoom",
        "min_zoom",
        "no_wrap",
        "tile_size",
        "tms"
       ],
       "url": "http://server.arcgisonline.com/ArcGIS/rest/services/Polar/Antarctic_Imagery/MapServer/tile/{z}/{y}/{x}"
      }
     },
     "5683004027f44cf2a6a653007913e1bf": {
      "model_module": "@jupyter-widgets/base",
      "model_module_version": "1.2.0",
      "model_name": "LayoutModel",
      "state": {
       "height": "auto",
       "padding": "0px 0px 0px 4px",
       "width": "auto"
      }
     },
     "56e8d8c5e47c493c86e668ec810b70fa": {
      "model_module": "jupyter-leaflet",
      "model_module_version": "^0.17.0",
      "model_name": "LeafletTileLayerModel",
      "state": {
       "_model_module_version": "^0.17.0",
       "_view_module_version": "^0.17.0",
       "attribution": "Map data: (C) OpenStreetMap contributors & ODbL, (C) www.opensnowmap.org CC-BY-SA",
       "name": "OpenSnowMap.pistes",
       "options": [
        "attribution",
        "bounds",
        "detect_retina",
        "max_native_zoom",
        "max_zoom",
        "min_native_zoom",
        "min_zoom",
        "no_wrap",
        "tile_size",
        "tms"
       ],
       "url": "https://tiles.opensnowmap.org/pistes/{z}/{x}/{y}.png"
      }
     },
     "5710198c8ed14e7c883e3e6c79c3dd01": {
      "model_module": "@jupyter-widgets/base",
      "model_module_version": "1.2.0",
      "model_name": "LayoutModel",
      "state": {}
     },
     "583665bc8af944929da54532b41fe8d3": {
      "model_module": "jupyter-leaflet",
      "model_module_version": "^0.17.0",
      "model_name": "LeafletWMSLayerModel",
      "state": {
       "_model_module_version": "^0.17.0",
       "_view_module_version": "^0.17.0",
       "attribution": "USGS",
       "crs": {
        "custom": false,
        "name": "EPSG3857"
       },
       "format": "image/png",
       "layers": "USGSNAIPImagery:NDVI_Color",
       "name": "USGS NAIP Imagery NDVI",
       "options": [
        "attribution",
        "bounds",
        "detect_retina",
        "format",
        "layers",
        "max_native_zoom",
        "max_zoom",
        "min_native_zoom",
        "min_zoom",
        "no_wrap",
        "styles",
        "tile_size",
        "tms",
        "transparent",
        "uppercase"
       ],
       "transparent": true,
       "url": "https://imagery.nationalmap.gov/arcgis/services/USGSNAIPImagery/ImageServer/WMSServer?"
      }
     },
     "58b6a7478e814b608613fa48dd393462": {
      "model_module": "@jupyter-widgets/controls",
      "model_module_version": "1.5.0",
      "model_name": "DescriptionStyleModel",
      "state": {
       "description_width": ""
      }
     },
     "58b6d0ae623f447386ffd58e0052aca2": {
      "model_module": "@jupyter-widgets/controls",
      "model_module_version": "1.5.0",
      "model_name": "ToggleButtonModel",
      "state": {
       "button_style": "primary",
       "icon": "search",
       "layout": "IPY_MODEL_a14737b7212147c3b4e500c604201e3d",
       "style": "IPY_MODEL_cd71a8481bd2499a8ddcda23ef8971b1",
       "tooltip": "Search XYZ tile services"
      }
     },
     "59467cb39c1545dcb4c15946a23f934b": {
      "model_module": "@jupyter-widgets/base",
      "model_module_version": "1.2.0",
      "model_name": "LayoutModel",
      "state": {}
     },
     "5a287665a0aa4c54b3e73f4428857bf4": {
      "model_module": "jupyter-leaflet",
      "model_module_version": "^0.17.0",
      "model_name": "LeafletTileLayerModel",
      "state": {
       "_model_module_version": "^0.17.0",
       "_view_module_version": "^0.17.0",
       "attribution": "(C) OpenStreetMap contributors, vizualization CC-By-SA 2.0 Freemap.sk",
       "max_zoom": 16,
       "name": "FreeMapSK",
       "options": [
        "attribution",
        "bounds",
        "detect_retina",
        "max_native_zoom",
        "max_zoom",
        "min_native_zoom",
        "min_zoom",
        "no_wrap",
        "tile_size",
        "tms"
       ],
       "url": "https://a.freemap.sk/T/{z}/{x}/{y}.jpeg"
      }
     },
     "5a7babade576462e86cd9b2c9ed55adf": {
      "model_module": "@jupyter-widgets/base",
      "model_module_version": "1.2.0",
      "model_name": "LayoutModel",
      "state": {}
     },
     "5ada786aa26340a8a9072b4e8411c7d5": {
      "model_module": "jupyter-leaflet",
      "model_module_version": "^0.17.0",
      "model_name": "LeafletMapStyleModel",
      "state": {
       "_model_module_version": "^0.17.0",
       "cursor": "default"
      }
     },
     "5b999e654a5340b5bc339663606fbbed": {
      "model_module": "@jupyter-widgets/base",
      "model_module_version": "1.2.0",
      "model_name": "LayoutModel",
      "state": {
       "height": "auto",
       "padding": "0px 0px 0px 4px",
       "width": "auto"
      }
     },
     "5ba10eb0466742d795e63c26bbdd8d45": {
      "model_module": "@jupyter-widgets/controls",
      "model_module_version": "1.5.0",
      "model_name": "ButtonStyleModel",
      "state": {
       "button_color": "#69add1"
      }
     },
     "5c4f37f9c2404867a94f9faa1f6a3fc4": {
      "model_module": "@jupyter-widgets/base",
      "model_module_version": "1.2.0",
      "model_name": "LayoutModel",
      "state": {}
     },
     "5c524f3eff4647aa9ebe643b17d44b06": {
      "model_module": "jupyter-leaflet",
      "model_module_version": "^0.17.0",
      "model_name": "LeafletWMSLayerModel",
      "state": {
       "_model_module_version": "^0.17.0",
       "_view_module_version": "^0.17.0",
       "attribution": "MRLC",
       "crs": {
        "custom": false,
        "name": "EPSG3857"
       },
       "format": "image/png",
       "layers": "NLCD_2011_Land_Cover_L48",
       "name": "NLCD 2011 CONUS Land Cover",
       "options": [
        "attribution",
        "bounds",
        "detect_retina",
        "format",
        "layers",
        "max_native_zoom",
        "max_zoom",
        "min_native_zoom",
        "min_zoom",
        "no_wrap",
        "styles",
        "tile_size",
        "tms",
        "transparent",
        "uppercase"
       ],
       "transparent": true,
       "url": "https://www.mrlc.gov/geoserver/mrlc_display/NLCD_2011_Land_Cover_L48/wms?"
      }
     },
     "5c72070831d1412ea7998acc8fc0a1ed": {
      "model_module": "@jupyter-widgets/base",
      "model_module_version": "1.2.0",
      "model_name": "LayoutModel",
      "state": {
       "height": "600px",
       "width": "100%"
      }
     },
     "5cd4af13ce4246408b63cca4c30e7a24": {
      "model_module": "@jupyter-widgets/base",
      "model_module_version": "1.2.0",
      "model_name": "LayoutModel",
      "state": {}
     },
     "5d137c9c25fd48719c4d75c24f895545": {
      "model_module": "@jupyter-widgets/controls",
      "model_module_version": "1.5.0",
      "model_name": "HBoxModel",
      "state": {
       "children": [
        "IPY_MODEL_3f5bf74186a54755ab89aa635823f982"
       ],
       "layout": "IPY_MODEL_cee6a81b3f4c47b8bee040ddd955d2b0"
      }
     },
     "5d212f4eee2c4eeeb1883e2594f463c9": {
      "model_module": "@jupyter-widgets/base",
      "model_module_version": "1.2.0",
      "model_name": "LayoutModel",
      "state": {}
     },
     "5dc1ed8ca58a4ac4ad5542e42ba95cf7": {
      "model_module": "@jupyter-widgets/controls",
      "model_module_version": "1.5.0",
      "model_name": "ButtonModel",
      "state": {
       "description": "Remove all",
       "layout": "IPY_MODEL_c73a47dd25c84662a460571daccf0a83",
       "style": "IPY_MODEL_830c1d46390c4825bad1c9676dba910d"
      }
     },
     "5e1373dd3e69498a934a803128bbe788": {
      "model_module": "@jupyter-widgets/controls",
      "model_module_version": "1.5.0",
      "model_name": "DatePickerModel",
      "state": {
       "description": "End Date",
       "disabled": false,
       "layout": "IPY_MODEL_5710198c8ed14e7c883e3e6c79c3dd01",
       "style": "IPY_MODEL_38ac18a4112a4e0a951cccba5c98e0c8",
       "value": {
        "date": 1,
        "month": 2,
        "year": 2019
       }
      }
     },
     "5ec58fac993d4f3d95fcd3304b7a9568": {
      "model_module": "@jupyter-widgets/controls",
      "model_module_version": "1.5.0",
      "model_name": "DescriptionStyleModel",
      "state": {
       "description_width": ""
      }
     },
     "5ed9174424594570b0d4ef17d9886031": {
      "model_module": "@jupyter-widgets/base",
      "model_module_version": "1.2.0",
      "model_name": "LayoutModel",
      "state": {}
     },
     "5f426be996c6482f92d29cff8fcb93a2": {
      "model_module": "@jupyter-widgets/controls",
      "model_module_version": "1.5.0",
      "model_name": "HTMLModel",
      "state": {
       "layout": "IPY_MODEL_defc5408cf9c46b1b99605bceaab7fa4",
       "style": "IPY_MODEL_7e8a737438d4470692acb1e866762e6a",
       "value": " 1/1 [00:13&lt;00:00, 13.48s/it]"
      }
     },
     "6047a72802794dea9eca29f799435b86": {
      "model_module": "jupyter-leaflet",
      "model_module_version": "^0.17.0",
      "model_name": "LeafletTileLayerModel",
      "state": {
       "_model_module_version": "^0.17.0",
       "_view_module_version": "^0.17.0",
       "attribution": "Imagery provided by services from the Global Imagery Browse Services (GIBS), operated by the NASA/GSFC/Earth Science Data and Information System (ESDIS) with funding provided by NASA/HQ.",
       "max_zoom": 7,
       "name": "NASAGIBS.ModisTerraLSTDay",
       "options": [
        "attribution",
        "bounds",
        "detect_retina",
        "max_native_zoom",
        "max_zoom",
        "min_native_zoom",
        "min_zoom",
        "no_wrap",
        "tile_size",
        "tms"
       ],
       "url": "https://map1.vis.earthdata.nasa.gov/wmts-webmerc/MODIS_Terra_Land_Surface_Temp_Day/default//GoogleMapsCompatible_Level7/{z}/{y}/{x}.png"
      }
     },
     "60b47c74ba314149a388fd5a737a6bd4": {
      "model_module": "@jupyter-widgets/controls",
      "model_module_version": "1.5.0",
      "model_name": "HBoxModel",
      "state": {
       "children": [
        "IPY_MODEL_4c05463ade2f4c579c1fb547d7c33088",
        "IPY_MODEL_7178b9864f2345d18b1b4f60137672eb"
       ],
       "layout": "IPY_MODEL_13b1d0c4956941cfafc633ef73502861"
      }
     },
     "60cda6ed1fec48c0ac59c0c248c7ac3c": {
      "model_module": "jupyter-leaflet",
      "model_module_version": "^0.17.0",
      "model_name": "LeafletTileLayerModel",
      "state": {
       "_model_module_version": "^0.17.0",
       "_view_module_version": "^0.17.0",
       "attribution": "(C) Stadia Maps, (C) OpenMapTiles (C) OpenStreetMap contributors",
       "max_zoom": 20,
       "name": "Stadia.Outdoors",
       "options": [
        "attribution",
        "bounds",
        "detect_retina",
        "max_native_zoom",
        "max_zoom",
        "min_native_zoom",
        "min_zoom",
        "no_wrap",
        "tile_size",
        "tms"
       ],
       "url": "https://tiles.stadiamaps.com/tiles/outdoors/{z}/{x}/{y}.png"
      }
     },
     "6158ecbe7ab94a828067959b9f4936be": {
      "model_module": "@jupyter-widgets/base",
      "model_module_version": "1.2.0",
      "model_name": "LayoutModel",
      "state": {
       "margin": "0px 5px 0px 0px"
      }
     },
     "63edbe97157449dba8140006c2e36134": {
      "model_module": "@jupyter-widgets/controls",
      "model_module_version": "1.5.0",
      "model_name": "HBoxModel",
      "state": {
       "children": [
        "IPY_MODEL_c9a9ca42695141f7824071d93aa55c80",
        "IPY_MODEL_8919913bb19a4981b901ecf80b2b783d",
        "IPY_MODEL_01f7ac196a2a4ed39a7b17612cd64b30"
       ],
       "layout": "IPY_MODEL_5c4f37f9c2404867a94f9faa1f6a3fc4"
      }
     },
     "64d43ea50e0f4e8e9762fd95ea91a4a2": {
      "model_module": "@jupyter-widgets/controls",
      "model_module_version": "1.5.0",
      "model_name": "RadioButtonsModel",
      "state": {
       "_options_labels": [
        "C01",
        "C02"
       ],
       "description": "Collection:",
       "index": 0,
       "layout": "IPY_MODEL_1998a6b8539141f79f9b9b534fba86e9",
       "style": "IPY_MODEL_20411a33bfbc45028e2586cf729c9ed4"
      }
     },
     "65dd0ea53a8c401382e3c955445241d7": {
      "model_module": "@jupyter-widgets/base",
      "model_module_version": "1.2.0",
      "model_name": "LayoutModel",
      "state": {
       "width": "500px"
      }
     },
     "65de86e2fad34a4db5da2b56cde384c6": {
      "model_module": "jupyter-leaflet",
      "model_module_version": "^0.17.0",
      "model_name": "LeafletTileLayerModel",
      "state": {
       "_model_module_version": "^0.17.0",
       "_view_module_version": "^0.17.0",
       "attribution": "Imagery provided by services from the Global Imagery Browse Services (GIBS), operated by the NASA/GSFC/Earth Science Data and Information System (ESDIS) with funding provided by NASA/HQ.",
       "max_zoom": 9,
       "name": "NASAGIBS.ModisAquaTrueColorCR",
       "options": [
        "attribution",
        "bounds",
        "detect_retina",
        "max_native_zoom",
        "max_zoom",
        "min_native_zoom",
        "min_zoom",
        "no_wrap",
        "tile_size",
        "tms"
       ],
       "url": "https://gibs.earthdata.nasa.gov/wmts/epsg3857/best/MODIS_Aqua_CorrectedReflectance_TrueColor/default//GoogleMapsCompatible_Level9/{z}/{y}/{x}.jpg"
      }
     },
     "662e3a69ef844ebfb09170a34897d6c8": {
      "model_module": "@jupyter-widgets/controls",
      "model_module_version": "1.5.0",
      "model_name": "HBoxModel",
      "state": {
       "children": [
        "IPY_MODEL_9021739de865432e85cebffd82950e46"
       ],
       "layout": "IPY_MODEL_448c79428b40446ebed884818fe3ba97"
      }
     },
     "66ad2d88d0ef467fa54840505dd5bcee": {
      "model_module": "jupyter-leaflet",
      "model_module_version": "^0.17.0",
      "model_name": "LeafletTileLayerModel",
      "state": {
       "_model_module_version": "^0.17.0",
       "_view_module_version": "^0.17.0",
       "attribution": "(C) OpenStreetMap contributors (C) CARTO",
       "max_zoom": 20,
       "name": "CartoDB.PositronNoLabels",
       "options": [
        "attribution",
        "bounds",
        "detect_retina",
        "max_native_zoom",
        "max_zoom",
        "min_native_zoom",
        "min_zoom",
        "no_wrap",
        "tile_size",
        "tms"
       ],
       "url": "https://a.basemaps.cartocdn.com/light_nolabels/{z}/{x}/{y}.png"
      }
     },
     "6780342c7b7d45139f59a464d4db8dc8": {
      "model_module": "@jupyter-widgets/controls",
      "model_module_version": "1.5.0",
      "model_name": "ButtonStyleModel",
      "state": {
       "button_color": "#50bf8f"
      }
     },
     "683fea86170e4c6abd6f98c0f316625b": {
      "model_module": "jupyter-leaflet",
      "model_module_version": "^0.17.0",
      "model_name": "LeafletTileLayerModel",
      "state": {
       "_model_module_version": "^0.17.0",
       "_view_module_version": "^0.17.0",
       "attribution": "Google",
       "max_zoom": 22,
       "name": "Google Terrain",
       "options": [
        "attribution",
        "bounds",
        "detect_retina",
        "max_native_zoom",
        "max_zoom",
        "min_native_zoom",
        "min_zoom",
        "no_wrap",
        "tile_size",
        "tms"
       ],
       "url": "https://mt1.google.com/vt/lyrs=p&x={x}&y={y}&z={z}"
      }
     },
     "68e31e5bf2194b839e2ff1631c2c4dcc": {
      "model_module": "@jupyter-widgets/base",
      "model_module_version": "1.2.0",
      "model_name": "LayoutModel",
      "state": {
       "padding": "10px"
      }
     },
     "68f7d0936b2a41f9b6c57ba6b4e99cb2": {
      "model_module": "jupyter-leaflet",
      "model_module_version": "^0.17.0",
      "model_name": "LeafletTileLayerModel",
      "state": {
       "_model_module_version": "^0.17.0",
       "_view_module_version": "^0.17.0",
       "attribution": "![](https://docs.onemap.sg/maps/images/oneMap64-01.png) New OneMap | Map data (C) contributors, Singapore Land Authority",
       "name": "OneMapSG.Original",
       "options": [
        "attribution",
        "bounds",
        "detect_retina",
        "max_native_zoom",
        "max_zoom",
        "min_native_zoom",
        "min_zoom",
        "no_wrap",
        "tile_size",
        "tms"
       ],
       "url": "https://maps-a.onemap.sg/v3/Original/{z}/{x}/{y}.png"
      }
     },
     "6980570d165c46e8a68cb369c44818dd": {
      "model_module": "@jupyter-widgets/controls",
      "model_module_version": "1.5.0",
      "model_name": "ButtonModel",
      "state": {
       "description": "Save ROI",
       "layout": "IPY_MODEL_93265269f60b41c9bf134a38bbe678ad",
       "style": "IPY_MODEL_9a7644b0d9a944f3986cab15be7e13b6"
      }
     },
     "69ff4648161843aa9996674dde5e1a0c": {
      "model_module": "@jupyter-widgets/base",
      "model_module_version": "1.2.0",
      "model_name": "LayoutModel",
      "state": {}
     },
     "6a9ca9463a6f432b962cc493bd87b21c": {
      "model_module": "@jupyter-widgets/controls",
      "model_module_version": "1.5.0",
      "model_name": "ButtonStyleModel",
      "state": {
       "button_color": "red"
      }
     },
     "6aacc502ea374c86960694ae175076cd": {
      "model_module": "jupyter-leaflet",
      "model_module_version": "^0.17.0",
      "model_name": "LeafletWMSLayerModel",
      "state": {
       "_model_module_version": "^0.17.0",
       "_view_module_version": "^0.17.0",
       "attribution": "USGS",
       "crs": {
        "custom": false,
        "name": "EPSG3857"
       },
       "format": "image/png",
       "layers": "USGSNAIPImagery:FalseColorComposite",
       "name": "USGS NAIP Imagery False Color",
       "options": [
        "attribution",
        "bounds",
        "detect_retina",
        "format",
        "layers",
        "max_native_zoom",
        "max_zoom",
        "min_native_zoom",
        "min_zoom",
        "no_wrap",
        "styles",
        "tile_size",
        "tms",
        "transparent",
        "uppercase"
       ],
       "transparent": true,
       "url": "https://imagery.nationalmap.gov/arcgis/services/USGSNAIPImagery/ImageServer/WMSServer?"
      }
     },
     "6ab2fe6aaff148b9bd0c75028e366d42": {
      "model_module": "jupyter-leaflet",
      "model_module_version": "^0.17.0",
      "model_name": "LeafletWMSLayerModel",
      "state": {
       "_model_module_version": "^0.17.0",
       "_view_module_version": "^0.17.0",
       "attribution": "FWS",
       "crs": {
        "custom": false,
        "name": "EPSG3857"
       },
       "format": "image/png",
       "layers": "0",
       "name": "FWS NWI Wetlands Raster",
       "options": [
        "attribution",
        "bounds",
        "detect_retina",
        "format",
        "layers",
        "max_native_zoom",
        "max_zoom",
        "min_native_zoom",
        "min_zoom",
        "no_wrap",
        "styles",
        "tile_size",
        "tms",
        "transparent",
        "uppercase"
       ],
       "transparent": true,
       "url": "https://www.fws.gov/wetlands/arcgis/services/Wetlands_Raster/ImageServer/WMSServer?"
      }
     },
     "6b4d7e46db0c4e48bc1f9ba8f3bd81a2": {
      "model_module": "@jupyter-widgets/base",
      "model_module_version": "1.2.0",
      "model_name": "LayoutModel",
      "state": {
       "height": "auto",
       "padding": "0px 0px 0px 4px",
       "width": "auto"
      }
     },
     "6b55e2d7d4a142f9bfad9f0fa48800b8": {
      "model_module": "@jupyter-widgets/controls",
      "model_module_version": "1.5.0",
      "model_name": "DescriptionStyleModel",
      "state": {
       "description_width": ""
      }
     },
     "6b99f903951c41b5aba15823ecf226b1": {
      "model_module": "@jupyter-widgets/output",
      "model_module_version": "1.0.0",
      "model_name": "OutputModel",
      "state": {
       "layout": "IPY_MODEL_c6fdb59af35f41b9927d4b428c1eb149",
       "outputs": [
        {
         "name": "stdout",
         "output_type": "stream",
         "text": "Located previously downloaded ROI data.\nExtracting shorelines from ROIs: ['1']\n"
        },
        {
         "data": {
          "application/vnd.jupyter.widget-view+json": {
           "model_id": "63edbe97157449dba8140006c2e36134",
           "version_major": 2,
           "version_minor": 0
          },
          "text/plain": "Extracting Shorelines:   0%|          | 0/1 [00:00<?, ?it/s]"
         },
         "metadata": {},
         "output_type": "display_data"
        },
        {
         "name": "stdout",
         "output_type": "stream",
         "text": "Extracting shorelines from ROI with the id:1\nMapping shorelines:\nL8:   100%\n0 duplicates\n0 bad georef\nSuccessfully extracted shoreline for ROI: 1. Loading it onto the map\n"
        }
       ]
      }
     },
     "6bb089b9ee2d44ae814af0059843d90d": {
      "model_module": "@jupyter-widgets/controls",
      "model_module_version": "1.5.0",
      "model_name": "ButtonStyleModel",
      "state": {
       "button_color": "#69add1"
      }
     },
     "6c44ced2b1864aa480a380476ffbbc11": {
      "model_module": "jupyter-leaflet",
      "model_module_version": "^0.17.0",
      "model_name": "LeafletTileLayerModel",
      "state": {
       "_model_module_version": "^0.17.0",
       "_view_module_version": "^0.17.0",
       "attribution": "Justice Map",
       "max_zoom": 22,
       "name": "JusticeMap.income",
       "options": [
        "attribution",
        "bounds",
        "detect_retina",
        "max_native_zoom",
        "max_zoom",
        "min_native_zoom",
        "min_zoom",
        "no_wrap",
        "tile_size",
        "tms"
       ],
       "url": "https://www.justicemap.org/tile/county/income/{z}/{x}/{y}.png"
      }
     },
     "6c6b90a706e54f27ad5faec3d2816153": {
      "model_module": "@jupyter-widgets/controls",
      "model_module_version": "1.5.0",
      "model_name": "ButtonModel",
      "state": {
       "description": "Use Data Button",
       "layout": "IPY_MODEL_48e7b1e30d42469ba14e29073f9e6269",
       "style": "IPY_MODEL_5ba10eb0466742d795e63c26bbdd8d45"
      }
     },
     "6c7f8852f15c4dd88a764f29d24117fb": {
      "model_module": "@jupyter-widgets/controls",
      "model_module_version": "1.5.0",
      "model_name": "HBoxModel",
      "state": {
       "children": [
        "IPY_MODEL_5dc1ed8ca58a4ac4ad5542e42ba95cf7",
        "IPY_MODEL_925d070eb61c49f0a29e1cb1fb49ac40",
        "IPY_MODEL_8b22e4456f3649b482082d9a961055cc",
        "IPY_MODEL_2e6195557628464bb17016d64c369922",
        "IPY_MODEL_b6c7390a1f4443888941b35a4feb08ee"
       ],
       "layout": "IPY_MODEL_b7d79ac554914ad4859b3f16a171e6cd"
      }
     },
     "6d772954a248449a81cd014feda4b08e": {
      "model_module": "@jupyter-widgets/controls",
      "model_module_version": "1.5.0",
      "model_name": "ButtonModel",
      "state": {
       "description": "Save transects",
       "layout": "IPY_MODEL_5cd4af13ce4246408b63cca4c30e7a24",
       "style": "IPY_MODEL_bd394f46ca4545749f28e36136e84a41"
      }
     },
     "6e3cc7c3740347d4a6978380bb8d69d5": {
      "model_module": "@jupyter-widgets/base",
      "model_module_version": "1.2.0",
      "model_name": "LayoutModel",
      "state": {
       "height": "auto",
       "padding": "0px 0px 0px 4px",
       "width": "auto"
      }
     },
     "6e76b30cd90a4622a2ee5b1874b721bb": {
      "model_module": "@jupyter-widgets/base",
      "model_module_version": "1.2.0",
      "model_name": "LayoutModel",
      "state": {
       "height": "auto",
       "padding": "0px 0px 0px 4px",
       "width": "auto"
      }
     },
     "6f220722e8e645cdbcdf1b8d360d6771": {
      "model_module": "jupyter-leaflet",
      "model_module_version": "^0.17.0",
      "model_name": "LeafletTileLayerModel",
      "state": {
       "_model_module_version": "^0.17.0",
       "_view_module_version": "^0.17.0",
       "attribution": "Tiles courtesy of the U.S. Geological Survey",
       "max_zoom": 20,
       "name": "USGS.USImageryTopo",
       "options": [
        "attribution",
        "bounds",
        "detect_retina",
        "max_native_zoom",
        "max_zoom",
        "min_native_zoom",
        "min_zoom",
        "no_wrap",
        "tile_size",
        "tms"
       ],
       "url": "https://basemap.nationalmap.gov/arcgis/rest/services/USGSImageryTopo/MapServer/tile/{z}/{y}/{x}"
      }
     },
     "70e1a822d0194656b89b6eda85c28562": {
      "model_module": "@jupyter-widgets/output",
      "model_module_version": "1.0.0",
      "model_name": "OutputModel",
      "state": {
       "layout": "IPY_MODEL_eb8985b2e7f241418df13f58b47d958f",
       "outputs": [
        {
         "name": "stdout",
         "output_type": "stream",
         "text": "Using CRF post-processing\n"
        }
       ]
      }
     },
     "7178b9864f2345d18b1b4f60137672eb": {
      "model_module": "@jupyter-widgets/controls",
      "model_module_version": "1.5.0",
      "model_name": "CheckboxModel",
      "state": {
       "description": "Use CRF post-processing",
       "disabled": false,
       "indent": false,
       "layout": "IPY_MODEL_bae467dcd58745ec8bd71d46e2a9acb4",
       "style": "IPY_MODEL_fc2c453fd0d544999ee21cfb431bfcc1",
       "value": true
      }
     },
     "71bd87db312742dbbdcada7890129c44": {
      "model_module": "@jupyter-widgets/controls",
      "model_module_version": "1.5.0",
      "model_name": "ButtonModel",
      "state": {
       "description": "Clear TextBox",
       "layout": "IPY_MODEL_374c7eeb44ce40dca09f1a5518bfb1ec",
       "style": "IPY_MODEL_504b1888143e4115af237a09784ee93b"
      }
     },
     "72074c7b48a44fe08b03ff42fd5ab73e": {
      "model_module": "jupyter-leaflet",
      "model_module_version": "^0.17.0",
      "model_name": "LeafletTileLayerModel",
      "state": {
       "_model_module_version": "^0.17.0",
       "_view_module_version": "^0.17.0",
       "attribution": "Tiles (C) Esri -- Source: Esri, DeLorme, NAVTEQ, USGS, Intermap, iPC, NRCAN, Esri Japan, METI, Esri China (Hong Kong), Esri (Thailand), TomTom, 2012",
       "max_zoom": 22,
       "name": "Esri.WorldStreetMap",
       "options": [
        "attribution",
        "bounds",
        "detect_retina",
        "max_native_zoom",
        "max_zoom",
        "min_native_zoom",
        "min_zoom",
        "no_wrap",
        "tile_size",
        "tms"
       ],
       "url": "https://server.arcgisonline.com/ArcGIS/rest/services/World_Street_Map/MapServer/tile/{z}/{y}/{x}"
      }
     },
     "726ccdc96e3f47bb92bcc03bd45e2284": {
      "model_module": "jupyter-leaflet",
      "model_module_version": "^0.17.0",
      "model_name": "LeafletGeoJSONModel",
      "state": {
       "_model_module_version": "^0.17.0",
       "_view_module_version": "^0.17.0",
       "data": {
        "features": [
         {
          "geometry": {
           "coordinates": [
            [
             [
              -124.17231991102625,
              40.867214779304916
             ],
             [
              -124.17295590877286,
              40.90324089237469
             ],
             [
              -124.12547313863564,
              40.90371410530605
             ],
             [
              -124.12486287338368,
              40.86768739528301
             ],
             [
              -124.17231991102625,
              40.867214779304916
             ]
            ]
           ],
           "type": "Polygon"
          },
          "id": "0",
          "properties": {
           "id": "0",
           "style": {
            "color": "#555555",
            "fillOpacity": 0.1,
            "fill_color": "#555555",
            "weight": 1
           }
          },
          "type": "Feature"
         },
         {
          "geometry": {
           "coordinates": [
            [
             [
              -124.17231991102625,
              40.867214779304916
             ],
             [
              -124.17287634605553,
              40.89873764103481
             ],
             [
              -124.13133180034464,
              40.899152705731765
             ],
             [
              -124.13079506441677,
              40.8676293858108
             ],
             [
              -124.17231991102625,
              40.867214779304916
             ]
            ]
           ],
           "type": "Polygon"
          },
          "id": "1",
          "properties": {
           "id": "1",
           "style": {
            "color": "#555555",
            "fillOpacity": 0.1,
            "fill_color": "#555555",
            "weight": 1
           }
          },
          "type": "Feature"
         }
        ],
        "type": "FeatureCollection"
       },
       "hover_style": {
        "color": "crimson",
        "fillOpacity": 0.1
       },
       "name": "ROIs",
       "style": {
        "color": "#555555",
        "fillOpacity": 0.1,
        "fill_color": "#555555",
        "weight": 1
       }
      }
     },
     "72ff93f22b2649afa22c1d6928a3d72a": {
      "model_module": "@jupyter-widgets/controls",
      "model_module_version": "1.5.0",
      "model_name": "DescriptionStyleModel",
      "state": {
       "description_width": ""
      }
     },
     "7306364f447946738a6c858aefe76153": {
      "model_module": "@jupyter-widgets/controls",
      "model_module_version": "1.5.0",
      "model_name": "HTMLModel",
      "state": {
       "layout": "IPY_MODEL_6158ecbe7ab94a828067959b9f4936be",
       "style": "IPY_MODEL_42678304104c4c12839a2d0beb84a723",
       "value": "<h2><b>Generate ROIs</b></h2>                 Use the two sliders to control the size of the ROIs generated.<br>                    <li> No Overlap: Set small slider to 0 and large slider to desired ROI size.</li>                    <li>Overlap: Set small slider to a value and large slider to desired ROI size.</li>                    <b>How it Works</b><br>                     Two fishnets (grids) are created out of ROIs (squares) and placed <br>                     within the bounding box.You control the size of the individual ROIs <br>                     that compose the small and large fishnets.<br>                    The ROIs are measured in meters squared."
      }
     },
     "7338766046f24ea9a4f731203a84b571": {
      "model_module": "@jupyter-widgets/controls",
      "model_module_version": "1.5.0",
      "model_name": "ToggleButtonModel",
      "state": {
       "button_style": "primary",
       "icon": "adjust",
       "layout": "IPY_MODEL_ebb9fc58fc2941da88a9f1c17aead6ab",
       "style": "IPY_MODEL_f1bf1a34c36a432e8d42029ed8487b30",
       "tooltip": "Planet imagery"
      }
     },
     "73869934177d4542aa7e163d6a9468b9": {
      "model_module": "jupyter-leaflet",
      "model_module_version": "^0.17.0",
      "model_name": "LeafletTileLayerModel",
      "state": {
       "_model_module_version": "^0.17.0",
       "_view_module_version": "^0.17.0",
       "attribution": "(C) Stadia Maps, (C) OpenMapTiles (C) OpenStreetMap contributors",
       "max_zoom": 20,
       "name": "Stadia.AlidadeSmoothDark",
       "options": [
        "attribution",
        "bounds",
        "detect_retina",
        "max_native_zoom",
        "max_zoom",
        "min_native_zoom",
        "min_zoom",
        "no_wrap",
        "tile_size",
        "tms"
       ],
       "url": "https://tiles.stadiamaps.com/tiles/alidade_smooth_dark/{z}/{x}/{y}.png"
      }
     },
     "742164ff16a34efe96c9f9b75975857b": {
      "model_module": "@jupyter-widgets/base",
      "model_module_version": "1.2.0",
      "model_name": "LayoutModel",
      "state": {
       "margin": "0px 0px 0px 20px"
      }
     },
     "74729db926b34e4dabba9ddc24c7281e": {
      "model_module": "jupyter-leaflet",
      "model_module_version": "^0.17.0",
      "model_name": "LeafletTileLayerModel",
      "state": {
       "_model_module_version": "^0.17.0",
       "_view_module_version": "^0.17.0",
       "attribution": "Geoportail France",
       "max_zoom": 19,
       "name": "GeoportailFrance.orthos",
       "options": [
        "attribution",
        "bounds",
        "detect_retina",
        "max_native_zoom",
        "max_zoom",
        "min_native_zoom",
        "min_zoom",
        "no_wrap",
        "tile_size",
        "tms"
       ],
       "url": "https://wxs.ign.fr/choisirgeoportail/geoportail/wmts?REQUEST=GetTile&SERVICE=WMTS&VERSION=1.0.0&STYLE=normal&TILEMATRIXSET=PM&FORMAT=image/jpeg&LAYER=ORTHOIMAGERY.ORTHOPHOTOS&TILEMATRIX={z}&TILEROW={y}&TILECOL={x}"
      }
     },
     "749c7acd9fdf4595968841ce7282e061": {
      "model_module": "jupyter-leaflet",
      "model_module_version": "^0.17.0",
      "model_name": "LeafletTileLayerModel",
      "state": {
       "_model_module_version": "^0.17.0",
       "_view_module_version": "^0.17.0",
       "attribution": "(C) OpenStreetMap contributors (C) CARTO",
       "max_zoom": 20,
       "name": "CartoDB.VoyagerOnlyLabels",
       "options": [
        "attribution",
        "bounds",
        "detect_retina",
        "max_native_zoom",
        "max_zoom",
        "min_native_zoom",
        "min_zoom",
        "no_wrap",
        "tile_size",
        "tms"
       ],
       "url": "https://a.basemaps.cartocdn.com/rastertiles/voyager_only_labels/{z}/{x}/{y}.png"
      }
     },
     "755200d1815944b99db014cef2d559ec": {
      "model_module": "@jupyter-widgets/controls",
      "model_module_version": "1.5.0",
      "model_name": "ToggleButtonModel",
      "state": {
       "button_style": "primary",
       "icon": "picture-o",
       "layout": "IPY_MODEL_2f87ccc288374413b172522a458e2765",
       "style": "IPY_MODEL_17115a7a5dda4f97a3b0c571a1fcdb1b",
       "tooltip": "Open COG/STAC dataset"
      }
     },
     "75cb24c6b067478899931bf81f006274": {
      "model_module": "@jupyter-widgets/controls",
      "model_module_version": "1.5.0",
      "model_name": "ProgressStyleModel",
      "state": {
       "description_width": ""
      }
     },
     "75ee4c2664ec4116a5a7c917a0892cb7": {
      "model_module": "@jupyter-widgets/base",
      "model_module_version": "1.2.0",
      "model_name": "LayoutModel",
      "state": {
       "height": "auto",
       "padding": "0px 0px 0px 4px",
       "width": "auto"
      }
     },
     "75fda1c2deb843909e3bdb3d6fd0eff3": {
      "model_module": "jupyter-leaflet",
      "model_module_version": "^0.17.0",
      "model_name": "LeafletTileLayerModel",
      "state": {
       "_model_module_version": "^0.17.0",
       "_view_module_version": "^0.17.0",
       "attribution": "Tiles (C) Esri -- Copyright: (C)2012 DeLorme",
       "max_zoom": 11,
       "name": "Esri.DeLorme",
       "options": [
        "attribution",
        "bounds",
        "detect_retina",
        "max_native_zoom",
        "max_zoom",
        "min_native_zoom",
        "min_zoom",
        "no_wrap",
        "tile_size",
        "tms"
       ],
       "url": "https://server.arcgisonline.com/ArcGIS/rest/services/Specialty/DeLorme_World_Base_Map/MapServer/tile/{z}/{y}/{x}"
      }
     },
     "7626a7bf48fb4ce5a72dc6a84512f0ec": {
      "model_module": "@jupyter-widgets/controls",
      "model_module_version": "1.5.0",
      "model_name": "ButtonStyleModel",
      "state": {
       "button_color": "#69add1"
      }
     },
     "76666bb1821447ae9c8dace85022e22b": {
      "model_module": "jupyter-leaflet",
      "model_module_version": "^0.17.0",
      "model_name": "LeafletWidgetControlModel",
      "state": {
       "_model_module": "jupyter-leaflet",
       "_model_module_version": "^0.17.0",
       "_view_count": null,
       "_view_module": "jupyter-leaflet",
       "_view_module_version": "^0.17.0",
       "options": [
        "position",
        "transparent_bg"
       ],
       "position": "topright",
       "widget": "IPY_MODEL_1f3608b7b5784da2970b315859e8adeb"
      }
     },
     "7672d5ea8b7d48c1b3c9db2b0b34c5cc": {
      "model_module": "@jupyter-widgets/base",
      "model_module_version": "1.2.0",
      "model_name": "LayoutModel",
      "state": {}
     },
     "76bede61112f460cbc11438cf6442c14": {
      "model_module": "@jupyter-widgets/controls",
      "model_module_version": "1.5.0",
      "model_name": "HBoxModel",
      "state": {
       "children": [
        "IPY_MODEL_771618c6ad394ca0b983842d0db428d5",
        "IPY_MODEL_bc40d0d6824247db8222304d049905db",
        "IPY_MODEL_8fb81e3ed62b409296ab17a030f60f32"
       ],
       "layout": "IPY_MODEL_23feda002a04417a9aa58c68ff4fa7c0"
      }
     },
     "771618c6ad394ca0b983842d0db428d5": {
      "model_module": "@jupyter-widgets/controls",
      "model_module_version": "1.5.0",
      "model_name": "VBoxModel",
      "state": {
       "children": [
        "IPY_MODEL_7306364f447946738a6c858aefe76153",
        "IPY_MODEL_95c587f372a24d319f75d0d28828b341"
       ],
       "layout": "IPY_MODEL_02b42278cf5b484cb478a6ca4b5e43d4"
      }
     },
     "7733971e2c4648bb8f8b374fb56ebad6": {
      "model_module": "jupyter-leaflet",
      "model_module_version": "^0.17.0",
      "model_name": "LeafletTileLayerModel",
      "state": {
       "_model_module_version": "^0.17.0",
       "_view_module_version": "^0.17.0",
       "attribution": "&copy; <a href=\"http://www.gaode.com/\">Gaode.com</a>",
       "max_zoom": 19,
       "name": "Gaode.Normal",
       "options": [
        "attribution",
        "bounds",
        "detect_retina",
        "max_native_zoom",
        "max_zoom",
        "min_native_zoom",
        "min_zoom",
        "no_wrap",
        "tile_size",
        "tms"
       ],
       "url": "http://webrd01.is.autonavi.com/appmaptile?lang=zh_cn&size=1&scale=1&style=7&x={x}&y={y}&z={z}"
      }
     },
     "7758843ef7a74e119514e04017a1e372": {
      "model_module": "@jupyter-widgets/base",
      "model_module_version": "1.2.0",
      "model_name": "LayoutModel",
      "state": {}
     },
     "7795517eaa2e49db9cf8c51ba06cfe30": {
      "model_module": "@jupyter-widgets/controls",
      "model_module_version": "1.5.0",
      "model_name": "ButtonModel",
      "state": {
       "description": "Load configs",
       "layout": "IPY_MODEL_4e19b4d179c74e34a5289c92db0b7690",
       "style": "IPY_MODEL_8c852c2bc09845a6884e4679ed0c49b3"
      }
     },
     "7796f4322c9f4a43ba7b8db304b8d3c3": {
      "model_module": "@jupyter-widgets/base",
      "model_module_version": "1.2.0",
      "model_name": "LayoutModel",
      "state": {}
     },
     "784e918a0d714ebdafdaaa834fc5f2fd": {
      "model_module": "jupyter-leaflet",
      "model_module_version": "^0.17.0",
      "model_name": "LeafletTileLayerModel",
      "state": {
       "_model_module_version": "^0.17.0",
       "_view_module_version": "^0.17.0",
       "attribution": "Geoportail France",
       "max_zoom": 20,
       "name": "GeoportailFrance.parcels",
       "options": [
        "attribution",
        "bounds",
        "detect_retina",
        "max_native_zoom",
        "max_zoom",
        "min_native_zoom",
        "min_zoom",
        "no_wrap",
        "tile_size",
        "tms"
       ],
       "url": "https://wxs.ign.fr/choisirgeoportail/geoportail/wmts?REQUEST=GetTile&SERVICE=WMTS&VERSION=1.0.0&STYLE=PCI vecteur&TILEMATRIXSET=PM&FORMAT=image/png&LAYER=CADASTRALPARCELS.PARCELLAIRE_EXPRESS&TILEMATRIX={z}&TILEROW={y}&TILECOL={x}"
      }
     },
     "78b09b020b4c47afba86ca1215560302": {
      "model_module": "jupyter-leaflet",
      "model_module_version": "^0.17.0",
      "model_name": "LeafletTileLayerModel",
      "state": {
       "_model_module_version": "^0.17.0",
       "_view_module_version": "^0.17.0",
       "attribution": "Map data: (C) OpenStreetMap contributors | Map style: (C) waymarkedtrails.org (CC-BY-SA)",
       "name": "WaymarkedTrails.riding",
       "options": [
        "attribution",
        "bounds",
        "detect_retina",
        "max_native_zoom",
        "max_zoom",
        "min_native_zoom",
        "min_zoom",
        "no_wrap",
        "tile_size",
        "tms"
       ],
       "url": "https://tile.waymarkedtrails.org/riding/{z}/{x}/{y}.png"
      }
     },
     "7908465832c5413caeb07c67e8dc906b": {
      "model_module": "@jupyter-widgets/controls",
      "model_module_version": "1.5.0",
      "model_name": "DescriptionStyleModel",
      "state": {
       "description_width": ""
      }
     },
     "79db51e932904d54a9bdb595e86284d5": {
      "model_module": "jupyter-leaflet",
      "model_module_version": "^0.17.0",
      "model_name": "LeafletTileLayerModel",
      "state": {
       "_model_module_version": "^0.17.0",
       "_view_module_version": "^0.17.0",
       "attribution": "Map tiles by <a href=\"https://labs.strava.com/heatmap\">Strava 2021</a>",
       "max_zoom": 15,
       "name": "Strava.Water",
       "options": [
        "attribution",
        "bounds",
        "detect_retina",
        "max_native_zoom",
        "max_zoom",
        "min_native_zoom",
        "min_zoom",
        "no_wrap",
        "tile_size",
        "tms"
       ],
       "url": "https://heatmap-external-a.strava.com/tiles/water/blue/{z}/{x}/{y}.png"
      }
     },
     "7a139dc2a6c146fc854fb7643fa0f0ea": {
      "model_module": "@jupyter-widgets/base",
      "model_module_version": "1.2.0",
      "model_name": "LayoutModel",
      "state": {
       "height": "auto",
       "padding": "0px 0px 0px 4px",
       "width": "auto"
      }
     },
     "7b05a7f29ddb4825b0d6c79e58443313": {
      "model_module": "@jupyter-widgets/controls",
      "model_module_version": "1.5.0",
      "model_name": "HTMLModel",
      "state": {
       "layout": "IPY_MODEL_2c9984150ccb4392b333cb349f4f54d3",
       "style": "IPY_MODEL_4ee5218ec5104caaa130f849d1bb89ec",
       "value": "<h4>Click ONE of the following buttons:</h4>"
      }
     },
     "7bb722fec4694a9b81b50d8ac3c21700": {
      "model_module": "jupyter-leaflet",
      "model_module_version": "^0.17.0",
      "model_name": "LeafletTileLayerModel",
      "state": {
       "_model_module_version": "^0.17.0",
       "_view_module_version": "^0.17.0",
       "attribution": "Datenquelle: basemap.at",
       "max_zoom": 19,
       "name": "BasemapAT.overlay",
       "options": [
        "attribution",
        "bounds",
        "detect_retina",
        "max_native_zoom",
        "max_zoom",
        "min_native_zoom",
        "min_zoom",
        "no_wrap",
        "tile_size",
        "tms"
       ],
       "url": "https://maps.wien.gv.at/basemap/bmapoverlay/normal/google3857/{z}/{y}/{x}.png"
      }
     },
     "7c3db39a9e464128932562726eb533b6": {
      "model_module": "@jupyter-widgets/controls",
      "model_module_version": "1.5.0",
      "model_name": "HTMLModel",
      "state": {
       "layout": "IPY_MODEL_ed6dc3490643468291f3ffc10a3def4a",
       "style": "IPY_MODEL_eb39947924274ad98e6d4c1be2966b8c",
       "value": "Hover over shoreline"
      }
     },
     "7cb830b11d184ff18ab8374e914b56f8": {
      "model_module": "@jupyter-widgets/controls",
      "model_module_version": "1.5.0",
      "model_name": "DescriptionStyleModel",
      "state": {
       "description_width": ""
      }
     },
     "7d00aa1256404871864fdbb55a2ec91e": {
      "model_module": "@jupyter-widgets/controls",
      "model_module_version": "1.5.0",
      "model_name": "ToggleButtonModel",
      "state": {
       "button_style": "primary",
       "icon": "pencil-square-o",
       "layout": "IPY_MODEL_d506cfda63c542eea7ab601e8a0da9c0",
       "style": "IPY_MODEL_72ff93f22b2649afa22c1d6928a3d72a",
       "tooltip": "Create vector data"
      }
     },
     "7d6314373966437c93b77b4febd4cd3b": {
      "model_module": "jupyter-leaflet",
      "model_module_version": "^0.17.0",
      "model_name": "LeafletTileLayerModel",
      "state": {
       "_model_module_version": "^0.17.0",
       "_view_module_version": "^0.17.0",
       "attribution": "(C) OpenStreetMap contributors",
       "max_zoom": 19,
       "name": "OpenStreetMap.Mapnik",
       "options": [
        "attribution",
        "bounds",
        "detect_retina",
        "max_native_zoom",
        "max_zoom",
        "min_native_zoom",
        "min_zoom",
        "no_wrap",
        "tile_size",
        "tms"
       ],
       "url": "https://a.tile.openstreetmap.org/{z}/{x}/{y}.png"
      }
     },
     "7d85147c8cff4e0daa70e2c65ac61664": {
      "model_module": "@jupyter-widgets/controls",
      "model_module_version": "1.5.0",
      "model_name": "HTMLModel",
      "state": {
       "layout": "IPY_MODEL_ad0b9088695948d29d9520928255988e",
       "style": "IPY_MODEL_083d251798bb4826959d3abc108effa4",
       "value": "<b>1. Use Data Folder Button</b>                 <br> - When CoastSat downloads imagery it created a folder called 'data'in the CoastSeg directory.                    The jpgs within the 'data' folder will be copied to another folder with a name such as                    <span style=\"background-color:LightGray;color: black;\">segmentation_data_2022-07-07__10_hr_04_min58 </span>                    (the date and time will be the current date and time) <br>                 The model will be applied to this folder and the model outputs will be generated within a subdirectory                     called 'out'"
      }
     },
     "7e59064f357849aa9991f1f6c1ca9f18": {
      "model_module": "@jupyter-widgets/controls",
      "model_module_version": "1.5.0",
      "model_name": "ButtonStyleModel",
      "state": {
       "button_color": "#ae3cf0"
      }
     },
     "7e8a737438d4470692acb1e866762e6a": {
      "model_module": "@jupyter-widgets/controls",
      "model_module_version": "1.5.0",
      "model_name": "DescriptionStyleModel",
      "state": {
       "description_width": ""
      }
     },
     "7ecc27649e0f43498da6b6fd2b3031f0": {
      "model_module": "@jupyter-widgets/controls",
      "model_module_version": "1.5.0",
      "model_name": "DescriptionStyleModel",
      "state": {
       "description_width": ""
      }
     },
     "7f282b86feba402eb9229f12c2babba9": {
      "model_module": "@jupyter-widgets/controls",
      "model_module_version": "1.5.0",
      "model_name": "DescriptionStyleModel",
      "state": {
       "description_width": ""
      }
     },
     "7fcb4382af4b4eba9711ea23bb27a0fd": {
      "model_module": "@jupyter-widgets/controls",
      "model_module_version": "1.5.0",
      "model_name": "HTMLModel",
      "state": {
       "layout": "IPY_MODEL_3b6809815d4f44b39f826f190e361f0c",
       "style": "IPY_MODEL_5ec58fac993d4f3d95fcd3304b7a9568",
       "value": "<h2><b>Load Config Files</b></h2>                Use the load configs button to select a config.geojson file.                Make sure the config.json is in the same directory                You can upload a config json and config geojson file.                    <li> Load Config Json: Load settings from json file (ex. 'config_id_241.json')</li>                <li> Load Config geojson: Load rois, shorelines, and transects from geojson file (ex. 'config_gdf_id_241.geojson')</li>                    "
      }
     },
     "807b5e8146a5437998d1a55a88e74b7a": {
      "model_module": "@jupyter-widgets/controls",
      "model_module_version": "1.5.0",
      "model_name": "RadioButtonsModel",
      "state": {
       "_options_labels": [
        "ENSEMBLE",
        "BEST"
       ],
       "description": "Select:",
       "index": 0,
       "layout": "IPY_MODEL_c535cd08410c4afb89e825583273b8e8",
       "style": "IPY_MODEL_93e57593323a4dd0aef09b982d023c29"
      }
     },
     "808f1a3a9f1643319891d39abf684265": {
      "model_module": "jupyter-leaflet",
      "model_module_version": "^0.17.0",
      "model_name": "LeafletTileLayerModel",
      "state": {
       "_model_module_version": "^0.17.0",
       "_view_module_version": "^0.17.0",
       "attribution": "Tiles (C) Esri -- Esri, DeLorme, NAVTEQ",
       "max_zoom": 16,
       "name": "Esri.WorldGrayCanvas",
       "options": [
        "attribution",
        "bounds",
        "detect_retina",
        "max_native_zoom",
        "max_zoom",
        "min_native_zoom",
        "min_zoom",
        "no_wrap",
        "tile_size",
        "tms"
       ],
       "url": "https://server.arcgisonline.com/ArcGIS/rest/services/Canvas/World_Light_Gray_Base/MapServer/tile/{z}/{y}/{x}"
      }
     },
     "8104e1b30a9e4d799ccd731157f1a008": {
      "model_module": "jupyter-leaflet",
      "model_module_version": "^0.17.0",
      "model_name": "LeafletTileLayerModel",
      "state": {
       "_model_module_version": "^0.17.0",
       "_view_module_version": "^0.17.0",
       "attribution": "(C) OpenStreetMap contributors",
       "name": "OpenStreetMap.BlackAndWhite",
       "options": [
        "attribution",
        "bounds",
        "detect_retina",
        "max_native_zoom",
        "max_zoom",
        "min_native_zoom",
        "min_zoom",
        "no_wrap",
        "tile_size",
        "tms"
       ],
       "url": "http://a.tiles.wmflabs.org/bw-mapnik/{z}/{x}/{y}.png"
      }
     },
     "810ed97150e3482ba225b60b98af7634": {
      "model_module": "@jupyter-widgets/controls",
      "model_module_version": "1.5.0",
      "model_name": "ButtonStyleModel",
      "state": {
       "button_color": "#50bf8f"
      }
     },
     "824597e99a0246ec850ddbbc2e713d23": {
      "model_module": "@jupyter-widgets/controls",
      "model_module_version": "1.5.0",
      "model_name": "ButtonModel",
      "state": {
       "description": "Download ROIs",
       "layout": "IPY_MODEL_464badb3b4af41a288e86303c9090ef1",
       "style": "IPY_MODEL_3c43c85ae2974eb0ba5b53b61d9a3ac0"
      }
     },
     "828f237b571f4dba9bf5a45f3cc5c66a": {
      "model_module": "jupyter-leaflet",
      "model_module_version": "^0.17.0",
      "model_name": "LeafletWMSLayerModel",
      "state": {
       "_model_module_version": "^0.17.0",
       "_view_module_version": "^0.17.0",
       "attribution": "MRLC",
       "crs": {
        "custom": false,
        "name": "EPSG3857"
       },
       "format": "image/png",
       "layers": "NLCD_2008_Land_Cover_L48",
       "name": "NLCD 2008 CONUS Land Cover",
       "options": [
        "attribution",
        "bounds",
        "detect_retina",
        "format",
        "layers",
        "max_native_zoom",
        "max_zoom",
        "min_native_zoom",
        "min_zoom",
        "no_wrap",
        "styles",
        "tile_size",
        "tms",
        "transparent",
        "uppercase"
       ],
       "transparent": true,
       "url": "https://www.mrlc.gov/geoserver/mrlc_display/NLCD_2008_Land_Cover_L48/wms?"
      }
     },
     "830c1d46390c4825bad1c9676dba910d": {
      "model_module": "@jupyter-widgets/controls",
      "model_module_version": "1.5.0",
      "model_name": "ButtonStyleModel",
      "state": {
       "button_color": "red"
      }
     },
     "832df7ca0de146698f033d93965dade8": {
      "model_module": "jupyter-leaflet",
      "model_module_version": "^0.17.0",
      "model_name": "LeafletTileLayerModel",
      "state": {
       "_model_module_version": "^0.17.0",
       "_view_module_version": "^0.17.0",
       "attribution": "Imagery provided by services from the Global Imagery Browse Services (GIBS), operated by the NASA/GSFC/Earth Science Data and Information System (ESDIS) with funding provided by NASA/HQ.",
       "max_zoom": 9,
       "name": "NASAGIBS.ModisTerraBands721CR",
       "options": [
        "attribution",
        "bounds",
        "detect_retina",
        "max_native_zoom",
        "max_zoom",
        "min_native_zoom",
        "min_zoom",
        "no_wrap",
        "tile_size",
        "tms"
       ],
       "url": "https://gibs.earthdata.nasa.gov/wmts/epsg3857/best/MODIS_Terra_CorrectedReflectance_Bands721/default//GoogleMapsCompatible_Level9/{z}/{y}/{x}.jpg"
      }
     },
     "8347a22955fd4529a25c302271888181": {
      "model_module": "jupyter-leaflet",
      "model_module_version": "^0.17.0",
      "model_name": "LeafletTileLayerModel",
      "state": {
       "_model_module_version": "^0.17.0",
       "_view_module_version": "^0.17.0",
       "attribution": "openAIP Data (CC-BY-NC-SA)",
       "max_zoom": 14,
       "name": "OpenAIP",
       "options": [
        "attribution",
        "bounds",
        "detect_retina",
        "max_native_zoom",
        "max_zoom",
        "min_native_zoom",
        "min_zoom",
        "no_wrap",
        "tile_size",
        "tms"
       ],
       "url": "https://1.tile.maps.openaip.net/geowebcache/service/tms/1.0.0/openaip_basemap@EPSG%3A900913@png/{z}/{x}/{y}.png"
      }
     },
     "837030ca509e419a8de81aee6e8172f9": {
      "model_module": "jupyter-leaflet",
      "model_module_version": "^0.17.0",
      "model_name": "LeafletWMSLayerModel",
      "state": {
       "_model_module_version": "^0.17.0",
       "_view_module_version": "^0.17.0",
       "attribution": "ESA",
       "crs": {
        "custom": false,
        "name": "EPSG3857"
       },
       "format": "image/png",
       "layers": "WORLDCOVER_2020_S2_FCC",
       "name": "ESA Worldcover 2020 S2 FCC",
       "options": [
        "attribution",
        "bounds",
        "detect_retina",
        "format",
        "layers",
        "max_native_zoom",
        "max_zoom",
        "min_native_zoom",
        "min_zoom",
        "no_wrap",
        "styles",
        "tile_size",
        "tms",
        "transparent",
        "uppercase"
       ],
       "transparent": true,
       "url": "https://services.terrascope.be/wms/v2"
      }
     },
     "83709c1e7eb348afb2bf14231f70444e": {
      "model_module": "jupyter-leaflet",
      "model_module_version": "^0.17.0",
      "model_name": "LeafletTileLayerModel",
      "state": {
       "_model_module_version": "^0.17.0",
       "_view_module_version": "^0.17.0",
       "attribution": "&copy; <a href=\"http://www.gaode.com/\">Gaode.com</a>",
       "max_zoom": 19,
       "name": "Gaode.Satellite",
       "options": [
        "attribution",
        "bounds",
        "detect_retina",
        "max_native_zoom",
        "max_zoom",
        "min_native_zoom",
        "min_zoom",
        "no_wrap",
        "tile_size",
        "tms"
       ],
       "url": "http://webst01.is.autonavi.com/appmaptile?style=6&x={x}&y={y}&z={z}"
      }
     },
     "838aadeb12dd4b9ca06b9d3cea1d7607": {
      "model_module": "@jupyter-widgets/base",
      "model_module_version": "1.2.0",
      "model_name": "LayoutModel",
      "state": {}
     },
     "84b31951926b47219cce3faa05fd8eab": {
      "model_module": "jupyter-leaflet",
      "model_module_version": "^0.17.0",
      "model_name": "LeafletWMSLayerModel",
      "state": {
       "_model_module_version": "^0.17.0",
       "_view_module_version": "^0.17.0",
       "attribution": "MRLC",
       "crs": {
        "custom": false,
        "name": "EPSG3857"
       },
       "format": "image/png",
       "layers": "NLCD_2016_Land_Cover_L48",
       "name": "NLCD 2016 CONUS Land Cover",
       "options": [
        "attribution",
        "bounds",
        "detect_retina",
        "format",
        "layers",
        "max_native_zoom",
        "max_zoom",
        "min_native_zoom",
        "min_zoom",
        "no_wrap",
        "styles",
        "tile_size",
        "tms",
        "transparent",
        "uppercase"
       ],
       "transparent": true,
       "url": "https://www.mrlc.gov/geoserver/mrlc_display/NLCD_2016_Land_Cover_L48/wms?"
      }
     },
     "8691e30fe36146049695bba021e8769f": {
      "model_module": "@jupyter-widgets/base",
      "model_module_version": "1.2.0",
      "model_name": "LayoutModel",
      "state": {}
     },
     "86f686e91a11483ab70c7a2a37b4cf99": {
      "model_module": "jupyter-leaflet",
      "model_module_version": "^0.17.0",
      "model_name": "LeafletTileLayerModel",
      "state": {
       "_model_module_version": "^0.17.0",
       "_view_module_version": "^0.17.0",
       "attribution": "Imagery provided by services from the Global Imagery Browse Services (GIBS), operated by the NASA/GSFC/Earth Science Data and Information System (ESDIS) with funding provided by NASA/HQ.",
       "max_zoom": 8,
       "name": "NASAGIBS.BlueMarble",
       "options": [
        "attribution",
        "bounds",
        "detect_retina",
        "max_native_zoom",
        "max_zoom",
        "min_native_zoom",
        "min_zoom",
        "no_wrap",
        "tile_size",
        "tms"
       ],
       "url": "https://gibs.earthdata.nasa.gov/wmts/epsg3857/best/BlueMarble_NextGeneration/default/EPSG3857_500m/{z}/{y}/{x}.jpeg"
      }
     },
     "874595c91a6b42a89477b65007e8dc41": {
      "model_module": "jupyter-leaflet",
      "model_module_version": "^0.17.0",
      "model_name": "LeafletTileLayerModel",
      "state": {
       "_model_module_version": "^0.17.0",
       "_view_module_version": "^0.17.0",
       "attribution": "Tiles (C) Esri -- Source: US National Park Service",
       "max_zoom": 8,
       "name": "Esri.WorldPhysical",
       "options": [
        "attribution",
        "bounds",
        "detect_retina",
        "max_native_zoom",
        "max_zoom",
        "min_native_zoom",
        "min_zoom",
        "no_wrap",
        "tile_size",
        "tms"
       ],
       "url": "https://server.arcgisonline.com/ArcGIS/rest/services/World_Physical_Map/MapServer/tile/{z}/{y}/{x}"
      }
     },
     "87529e659fde4eecabfc53ea35223645": {
      "model_module": "jupyter-leaflet",
      "model_module_version": "^0.17.0",
      "model_name": "LeafletTileLayerModel",
      "state": {
       "_model_module_version": "^0.17.0",
       "_view_module_version": "^0.17.0",
       "attribution": "© swisstopo",
       "name": "SwissFederalGeoportal.NationalMapColor",
       "options": [
        "attribution",
        "bounds",
        "detect_retina",
        "max_native_zoom",
        "max_zoom",
        "min_native_zoom",
        "min_zoom",
        "no_wrap",
        "tile_size",
        "tms"
       ],
       "url": "https://wmts.geo.admin.ch/1.0.0/ch.swisstopo.pixelkarte-farbe/default/current/3857/{z}/{x}/{y}.jpeg"
      }
     },
     "8799affe63ca44188440194db88ee84b": {
      "model_module": "jupyter-leaflet",
      "model_module_version": "^0.17.0",
      "model_name": "LeafletTileLayerModel",
      "state": {
       "_model_module_version": "^0.17.0",
       "_view_module_version": "^0.17.0",
       "attribution": "Tiles (C) Esri -- Source: Esri, i-cubed, USDA, USGS, AEX, GeoEye, Getmapping, Aerogrid, IGN, IGP, UPR-EGP, and the GIS User Community",
       "max_zoom": 22,
       "name": "Esri.WorldImagery",
       "options": [
        "attribution",
        "bounds",
        "detect_retina",
        "max_native_zoom",
        "max_zoom",
        "min_native_zoom",
        "min_zoom",
        "no_wrap",
        "tile_size",
        "tms"
       ],
       "url": "https://server.arcgisonline.com/ArcGIS/rest/services/World_Imagery/MapServer/tile/{z}/{y}/{x}"
      }
     },
     "8813c9489c3841089e0c2a0581bce6f3": {
      "model_module": "jupyter-leaflet",
      "model_module_version": "^0.17.0",
      "model_name": "LeafletTileLayerModel",
      "state": {
       "_model_module_version": "^0.17.0",
       "_view_module_version": "^0.17.0",
       "attribution": "Justice Map",
       "max_zoom": 22,
       "name": "JusticeMap.multi",
       "options": [
        "attribution",
        "bounds",
        "detect_retina",
        "max_native_zoom",
        "max_zoom",
        "min_native_zoom",
        "min_zoom",
        "no_wrap",
        "tile_size",
        "tms"
       ],
       "url": "https://www.justicemap.org/tile/county/multi/{z}/{x}/{y}.png"
      }
     },
     "889be9ac3f7f42b39c312f3cb444b1a9": {
      "model_module": "@jupyter-widgets/base",
      "model_module_version": "1.2.0",
      "model_name": "LayoutModel",
      "state": {}
     },
     "8919913bb19a4981b901ecf80b2b783d": {
      "model_module": "@jupyter-widgets/controls",
      "model_module_version": "1.5.0",
      "model_name": "FloatProgressModel",
      "state": {
       "bar_style": "success",
       "layout": "IPY_MODEL_8691e30fe36146049695bba021e8769f",
       "max": 1,
       "style": "IPY_MODEL_5233976fbc3b4e259533963ed3a1ff24",
       "value": 1
      }
     },
     "89361194a0fb4e028d0fa20debf31e25": {
      "model_module": "jupyter-leaflet",
      "model_module_version": "^0.17.0",
      "model_name": "LeafletTileLayerModel",
      "state": {
       "_model_module_version": "^0.17.0",
       "_view_module_version": "^0.17.0",
       "attribution": "Map memomaps.de CC-BY-SA, map data (C) OpenStreetMap contributors",
       "name": "OPNVKarte",
       "options": [
        "attribution",
        "bounds",
        "detect_retina",
        "max_native_zoom",
        "max_zoom",
        "min_native_zoom",
        "min_zoom",
        "no_wrap",
        "tile_size",
        "tms"
       ],
       "url": "https://tileserver.memomaps.de/tilegen/{z}/{x}/{y}.png"
      }
     },
     "8965c1416bf849dc88c970eebcdf8519": {
      "model_module": "@jupyter-widgets/base",
      "model_module_version": "1.2.0",
      "model_name": "LayoutModel",
      "state": {
       "margin": "0px 5px 0px 5px"
      }
     },
     "897f0d69e3fa45b79cd084f786ae9961": {
      "model_module": "jupyter-leaflet",
      "model_module_version": "^0.17.0",
      "model_name": "LeafletMapStyleModel",
      "state": {
       "_model_module_version": "^0.17.0",
       "cursor": "default"
      }
     },
     "89871841bd0d451db12ee0c60433acea": {
      "model_module": "jupyter-leaflet",
      "model_module_version": "^0.17.0",
      "model_name": "LeafletTileLayerModel",
      "state": {
       "_model_module_version": "^0.17.0",
       "_view_module_version": "^0.17.0",
       "attribution": "![](https://docs.onemap.sg/maps/images/oneMap64-01.png) New OneMap | Map data (C) contributors, Singapore Land Authority",
       "name": "OneMapSG.Night",
       "options": [
        "attribution",
        "bounds",
        "detect_retina",
        "max_native_zoom",
        "max_zoom",
        "min_native_zoom",
        "min_zoom",
        "no_wrap",
        "tile_size",
        "tms"
       ],
       "url": "https://maps-a.onemap.sg/v3/Night/{z}/{x}/{y}.png"
      }
     },
     "89a106feaecd409a81ac3fb2c9f2c028": {
      "model_module": "jupyter-leaflet",
      "model_module_version": "^0.17.0",
      "model_name": "LeafletTileLayerModel",
      "state": {
       "_model_module_version": "^0.17.0",
       "_view_module_version": "^0.17.0",
       "attribution": "Justice Map",
       "max_zoom": 22,
       "name": "JusticeMap.asian",
       "options": [
        "attribution",
        "bounds",
        "detect_retina",
        "max_native_zoom",
        "max_zoom",
        "min_native_zoom",
        "min_zoom",
        "no_wrap",
        "tile_size",
        "tms"
       ],
       "url": "https://www.justicemap.org/tile/county/asian/{z}/{x}/{y}.png"
      }
     },
     "89ec7abdabc74fe582a6c10bf65cc95a": {
      "model_module": "jupyter-leaflet",
      "model_module_version": "^0.17.0",
      "model_name": "LeafletTileLayerModel",
      "state": {
       "_model_module_version": "^0.17.0",
       "_view_module_version": "^0.17.0",
       "attribution": "Earthstar Geographics",
       "max_zoom": 24,
       "name": "Esri.ArcticImagery",
       "options": [
        "attribution",
        "bounds",
        "detect_retina",
        "max_native_zoom",
        "max_zoom",
        "min_native_zoom",
        "min_zoom",
        "no_wrap",
        "tile_size",
        "tms"
       ],
       "url": "http://server.arcgisonline.com/ArcGIS/rest/services/Polar/Arctic_Imagery/MapServer/tile/{z}/{y}/{x}"
      }
     },
     "8a5e90b8606046dab2a7d1c1ef8e5b27": {
      "model_module": "@jupyter-widgets/controls",
      "model_module_version": "1.5.0",
      "model_name": "ToggleButtonModel",
      "state": {
       "button_style": "primary",
       "icon": "globe",
       "layout": "IPY_MODEL_9855e444f5f54b1f8c14f699f7b18499",
       "style": "IPY_MODEL_a0b04a52191c4ecc840275ad764f2925",
       "tooltip": "Split-panel map"
      }
     },
     "8af2c3d839854ff1b2b1571510dcbab7": {
      "model_module": "jupyter-leaflet",
      "model_module_version": "^0.17.0",
      "model_name": "LeafletTileLayerModel",
      "state": {
       "_model_module_version": "^0.17.0",
       "_view_module_version": "^0.17.0",
       "attribution": "Tiles (C) Esri -- Source: USGS, Esri, TANA, DeLorme, and NPS",
       "max_zoom": 13,
       "name": "Esri.WorldTerrain",
       "options": [
        "attribution",
        "bounds",
        "detect_retina",
        "max_native_zoom",
        "max_zoom",
        "min_native_zoom",
        "min_zoom",
        "no_wrap",
        "tile_size",
        "tms"
       ],
       "url": "https://server.arcgisonline.com/ArcGIS/rest/services/World_Terrain_Base/MapServer/tile/{z}/{y}/{x}"
      }
     },
     "8b22e4456f3649b482082d9a961055cc": {
      "model_module": "@jupyter-widgets/controls",
      "model_module_version": "1.5.0",
      "model_name": "ButtonModel",
      "state": {
       "description": "Remove bbox",
       "layout": "IPY_MODEL_528a616430e24dd986830ab4d24f2dea",
       "style": "IPY_MODEL_6a9ca9463a6f432b962cc493bd87b21c"
      }
     },
     "8bc32c2420c547299b5155a7e4e4e98f": {
      "model_module": "jupyter-leaflet",
      "model_module_version": "^0.17.0",
      "model_name": "LeafletTileLayerModel",
      "state": {
       "_model_module_version": "^0.17.0",
       "_view_module_version": "^0.17.0",
       "attribution": "Imagery provided by services from the Global Imagery Browse Services (GIBS), operated by the NASA/GSFC/Earth Science Data and Information System (ESDIS) with funding provided by NASA/HQ.",
       "max_zoom": 7,
       "name": "NASAGIBS.ModisTerraChlorophyll",
       "options": [
        "attribution",
        "bounds",
        "detect_retina",
        "max_native_zoom",
        "max_zoom",
        "min_native_zoom",
        "min_zoom",
        "no_wrap",
        "tile_size",
        "tms"
       ],
       "url": "https://map1.vis.earthdata.nasa.gov/wmts-webmerc/MODIS_Terra_Chlorophyll_A/default//GoogleMapsCompatible_Level7/{z}/{y}/{x}.png"
      }
     },
     "8c6d476fc8c04cd3ba38bac76f2e92b7": {
      "model_module": "jupyter-leaflet",
      "model_module_version": "^0.17.0",
      "model_name": "LeafletTileLayerModel",
      "state": {
       "_model_module_version": "^0.17.0",
       "_view_module_version": "^0.17.0",
       "attribution": "Tiles &copy; Esri &mdash; Esri, DeLorme, NAVTEQ, TomTom, Intermap, iPC, USGS, FAO, NPS, NRCAN, GeoBase, Kadaster NL, Ordnance Survey, Esri Japan, METI, Esri China (Hong Kong), and the GIS User Community",
       "max_zoom": 24,
       "name": "Esri.ArcticOceanBase",
       "options": [
        "attribution",
        "bounds",
        "detect_retina",
        "max_native_zoom",
        "max_zoom",
        "min_native_zoom",
        "min_zoom",
        "no_wrap",
        "tile_size",
        "tms"
       ],
       "url": "http://server.arcgisonline.com/ArcGIS/rest/services/Polar/Arctic_Ocean_Base/MapServer/tile/{z}/{y}/{x}"
      }
     },
     "8c852c2bc09845a6884e4679ed0c49b3": {
      "model_module": "@jupyter-widgets/controls",
      "model_module_version": "1.5.0",
      "model_name": "ButtonStyleModel",
      "state": {
       "button_color": "#69add1"
      }
     },
     "8dc27780c40e46c2ba9375c88fe70d00": {
      "model_module": "@jupyter-widgets/base",
      "model_module_version": "1.2.0",
      "model_name": "LayoutModel",
      "state": {
       "height": "auto",
       "padding": "0px 0px 0px 4px",
       "width": "auto"
      }
     },
     "8e8c92497d924317897b2deb332cdcf6": {
      "model_module": "jupyter-leaflet",
      "model_module_version": "^0.17.0",
      "model_name": "LeafletTileLayerModel",
      "state": {
       "_model_module_version": "^0.17.0",
       "_view_module_version": "^0.17.0",
       "attribution": "Imagery provided by services from the Global Imagery Browse Services (GIBS), operated by the NASA/GSFC/Earth Science Data and Information System (ESDIS) with funding provided by NASA/HQ.",
       "max_zoom": 9,
       "name": "NASAGIBS.ModisTerraBands367CR",
       "options": [
        "attribution",
        "bounds",
        "detect_retina",
        "max_native_zoom",
        "max_zoom",
        "min_native_zoom",
        "min_zoom",
        "no_wrap",
        "tile_size",
        "tms"
       ],
       "url": "https://map1.vis.earthdata.nasa.gov/wmts-webmerc/MODIS_Terra_CorrectedReflectance_Bands367/default//GoogleMapsCompatible_Level9/{z}/{y}/{x}.jpg"
      }
     },
     "8e91c7d9b958467f8d45da65d12d0e98": {
      "model_module": "jupyter-leaflet",
      "model_module_version": "^0.17.0",
      "model_name": "LeafletMapStyleModel",
      "state": {
       "_model_module_version": "^0.17.0",
       "cursor": "wait"
      }
     },
     "8edc651836ff455fabb69863fe9211ed": {
      "model_module": "jupyter-leaflet",
      "model_module_version": "^0.17.0",
      "model_name": "LeafletGeoJSONModel",
      "state": {
       "_model_module_version": "^0.17.0",
       "_view_module_version": "^0.17.0",
       "data": {
        "features": [
         {
          "geometry": {
           "coordinates": [
            [
             [
              -124.17231991102625,
              40.867214779304916
             ],
             [
              -124.17287634605553,
              40.89873764103481
             ],
             [
              -124.13133180034464,
              40.899152705731765
             ],
             [
              -124.13079506441677,
              40.8676293858108
             ],
             [
              -124.17231991102625,
              40.867214779304916
             ]
            ]
           ],
           "type": "Polygon"
          },
          "id": "1",
          "properties": {
           "id": "1",
           "style": {
            "color": "blue",
            "fillColor": "blue",
            "fillOpacity": 0.1,
            "weight": 2
           }
          },
          "type": "Feature"
         }
        ],
        "type": "FeatureCollection"
       },
       "hover_style": {
        "color": "aqua",
        "fillColor": "blue",
        "fillOpacity": 0.1
       },
       "name": "Selected ROIs"
      }
     },
     "8f6cde7647954202bc56cc63a62b719c": {
      "model_module": "@jupyter-widgets/controls",
      "model_module_version": "1.5.0",
      "model_name": "FloatProgressModel",
      "state": {
       "bar_style": "success",
       "layout": "IPY_MODEL_9dc744d5fc0f4ff78b649f14282cdb0b",
       "max": 1,
       "style": "IPY_MODEL_75cb24c6b067478899931bf81f006274",
       "value": 1
      }
     },
     "8fb81e3ed62b409296ab17a030f60f32": {
      "model_module": "@jupyter-widgets/controls",
      "model_module_version": "1.5.0",
      "model_name": "VBoxModel",
      "state": {
       "children": [
        "IPY_MODEL_cf2b8e89e0a5456a8e9a9beb0fa37f35",
        "IPY_MODEL_824597e99a0246ec850ddbbc2e713d23",
        "IPY_MODEL_b7d8458980d446dfbef70927a3c68785",
        "IPY_MODEL_e8c0001d3e8e4ddfb7a65daa0512b4d5",
        "IPY_MODEL_291ed083c2f141e19398e6a05d6fb25c"
       ],
       "layout": "IPY_MODEL_9a463acd9b7d484791688dd0e6da1a6d"
      }
     },
     "9021739de865432e85cebffd82950e46": {
      "model_module": "jupyter-leaflet",
      "model_module_version": "^0.17.0",
      "model_name": "LeafletMapModel",
      "state": {
       "_model_module_version": "^0.17.0",
       "_view_module_version": "^0.17.0",
       "bottom": 394092,
       "center": [
        40.830321505143225,
        -124.04457680048104
       ],
       "controls": [
        "IPY_MODEL_3637ffcd32ae49158d9f4481a69ae43b",
        "IPY_MODEL_a956769cb14149aa8b5b976c596049a8",
        "IPY_MODEL_9c36b7f2bd6941edb9bc15925c28314f",
        "IPY_MODEL_76666bb1821447ae9c8dace85022e22b",
        "IPY_MODEL_a8a7137118fc49e79b2cea2ff97e4f21",
        "IPY_MODEL_ed2a2dd986f0433c8d5888b7629f659c",
        "IPY_MODEL_510c630afaf14d6bafd59e8b1960cfa7"
       ],
       "default_style": "IPY_MODEL_5ada786aa26340a8a9072b4e8411c7d5",
       "dragging_style": "IPY_MODEL_e2a3c3565124459395ae929069d1f935",
       "east": -123.80012512207033,
       "fullscreen": false,
       "interpolation": "bilinear",
       "layers": [
        "IPY_MODEL_b1bf78ed61184209903483a88d9b49c0",
        "IPY_MODEL_d6105575d87e4280bebf8b4f985b835e",
        "IPY_MODEL_726ccdc96e3f47bb92bcc03bd45e2284",
        "IPY_MODEL_1b96f8a7fb2c4d3da33b630363be03b9",
        "IPY_MODEL_de7b560114e1444d8f2a2ab1214891e3"
       ],
       "layout": "IPY_MODEL_5c72070831d1412ea7998acc8fc0a1ed",
       "left": 162270,
       "max_zoom": 24,
       "modisdate": "2022-11-02",
       "north": 40.90832339902113,
       "options": [
        "bounce_at_zoom_limits",
        "box_zoom",
        "center",
        "close_popup_on_click",
        "double_click_zoom",
        "dragging",
        "fullscreen",
        "inertia",
        "inertia_deceleration",
        "inertia_max_speed",
        "interpolation",
        "keyboard",
        "keyboard_pan_offset",
        "keyboard_zoom_offset",
        "max_zoom",
        "min_zoom",
        "prefer_canvas",
        "scroll_wheel_zoom",
        "tap",
        "tap_tolerance",
        "touch_zoom",
        "world_copy_jump",
        "zoom",
        "zoom_animation_threshold",
        "zoom_delta",
        "zoom_snap"
       ],
       "prefer_canvas": false,
       "right": 163694,
       "scroll_wheel_zoom": true,
       "south": 40.75245875985305,
       "style": "IPY_MODEL_5ada786aa26340a8a9072b4e8411c7d5",
       "top": 393492,
       "west": -124.28901672363283,
       "window_url": "http://localhost:8888/lab/tree/refactored_custom_map_official.ipynb"
      }
     },
     "903c4713f92340f1b4c80d68721e31eb": {
      "model_module": "jupyter-leaflet",
      "model_module_version": "^0.17.0",
      "model_name": "LeafletTileLayerModel",
      "state": {
       "_model_module_version": "^0.17.0",
       "_view_module_version": "^0.17.0",
       "attribution": "(C) OpenStreetMap contributors",
       "max_zoom": 19,
       "name": "HikeBike.HikeBike",
       "options": [
        "attribution",
        "bounds",
        "detect_retina",
        "max_native_zoom",
        "max_zoom",
        "min_native_zoom",
        "min_zoom",
        "no_wrap",
        "tile_size",
        "tms"
       ],
       "url": "https://tiles.wmflabs.org/hikebike/{z}/{x}/{y}.png"
      }
     },
     "916e99d75d0640c197736c0962429756": {
      "model_module": "jupyter-leaflet",
      "model_module_version": "^0.17.0",
      "model_name": "LeafletTileLayerModel",
      "state": {
       "_model_module_version": "^0.17.0",
       "_view_module_version": "^0.17.0",
       "attribution": "(C) Stadia Maps, (C) OpenMapTiles (C) OpenStreetMap contributors",
       "max_zoom": 20,
       "name": "Stadia.OSMBright",
       "options": [
        "attribution",
        "bounds",
        "detect_retina",
        "max_native_zoom",
        "max_zoom",
        "min_native_zoom",
        "min_zoom",
        "no_wrap",
        "tile_size",
        "tms"
       ],
       "url": "https://tiles.stadiamaps.com/tiles/osm_bright/{z}/{x}/{y}.png"
      }
     },
     "9192107dea9343f8a8c8544bbb27fb02": {
      "model_module": "jupyter-leaflet",
      "model_module_version": "^0.17.0",
      "model_name": "LeafletTileLayerModel",
      "state": {
       "_model_module_version": "^0.17.0",
       "_view_module_version": "^0.17.0",
       "attribution": "Justice Map",
       "max_zoom": 22,
       "name": "JusticeMap.americanIndian",
       "options": [
        "attribution",
        "bounds",
        "detect_retina",
        "max_native_zoom",
        "max_zoom",
        "min_native_zoom",
        "min_zoom",
        "no_wrap",
        "tile_size",
        "tms"
       ],
       "url": "https://www.justicemap.org/tile/county/indian/{z}/{x}/{y}.png"
      }
     },
     "925d070eb61c49f0a29e1cb1fb49ac40": {
      "model_module": "@jupyter-widgets/controls",
      "model_module_version": "1.5.0",
      "model_name": "ButtonModel",
      "state": {
       "description": "Remove transects",
       "layout": "IPY_MODEL_0d254879d3474460919ea12728321337",
       "style": "IPY_MODEL_e30d533aadf74204a663cf5747eaf22f"
      }
     },
     "93265269f60b41c9bf134a38bbe678ad": {
      "model_module": "@jupyter-widgets/base",
      "model_module_version": "1.2.0",
      "model_name": "LayoutModel",
      "state": {}
     },
     "9337d43492f54f11afcf4549d6f1fc13": {
      "model_module": "@jupyter-widgets/controls",
      "model_module_version": "1.5.0",
      "model_name": "ToggleButtonModel",
      "state": {
       "button_style": "primary",
       "icon": "address-book",
       "layout": "IPY_MODEL_4befd1aa82a74a39a5e6cebef4ef25ed",
       "style": "IPY_MODEL_3fef9eaa78954a91b282ce8ad6658902",
       "tooltip": "Get US Census data"
      }
     },
     "9360a8f9a9bd46618a48dae87b981789": {
      "model_module": "@jupyter-widgets/controls",
      "model_module_version": "1.5.0",
      "model_name": "HTMLModel",
      "state": {
       "layout": "IPY_MODEL_742164ff16a34efe96c9f9b75975857b",
       "style": "IPY_MODEL_44271e250d8242ad96bd869576b4add7",
       "value": "<b>3. Run Model Button</b>                 <br> - Make sure to click Select Images Button or Use Data Button.<br>                    - The model will be applied to the selected folder and the model outputs will be generated within a subdirectory                    called 'out'<br>            - <span style=\"background-color:yellow;color: black;\">WARNING :</span> You should not run multiple models on the same folder. Otherwise not all the model outputs            will be saved to the folder.<br>            "
      }
     },
     "93e57593323a4dd0aef09b982d023c29": {
      "model_module": "@jupyter-widgets/controls",
      "model_module_version": "1.5.0",
      "model_name": "DescriptionStyleModel",
      "state": {
       "description_width": ""
      }
     },
     "9520446a8ae848f8837bdf03b89faa25": {
      "model_module": "@jupyter-widgets/base",
      "model_module_version": "1.2.0",
      "model_name": "LayoutModel",
      "state": {}
     },
     "958b24f191db4c3bb5ce2a92f16a8bf6": {
      "model_module": "jupyter-leaflet",
      "model_module_version": "^0.17.0",
      "model_name": "LeafletTileLayerModel",
      "state": {
       "_model_module_version": "^0.17.0",
       "_view_module_version": "^0.17.0",
       "attribution": "Map tiles by <a href=\"https://labs.strava.com/heatmap\">Strava 2021</a>",
       "max_zoom": 15,
       "name": "Strava.Run",
       "options": [
        "attribution",
        "bounds",
        "detect_retina",
        "max_native_zoom",
        "max_zoom",
        "min_native_zoom",
        "min_zoom",
        "no_wrap",
        "tile_size",
        "tms"
       ],
       "url": "https://heatmap-external-a.strava.com/tiles/run/bluered/{z}/{x}/{y}.png"
      }
     },
     "95c587f372a24d319f75d0d28828b341": {
      "model_module": "@jupyter-widgets/controls",
      "model_module_version": "1.5.0",
      "model_name": "VBoxModel",
      "state": {
       "children": [
        "IPY_MODEL_b911ab4240d541288986af9b821d19be",
        "IPY_MODEL_9b656c008ae94d199d40e9cb5c003df8"
       ],
       "layout": "IPY_MODEL_0181856ebd2f464da86226ebe9b5c699"
      }
     },
     "967e143a8ffb4909bec21d53feec5eb1": {
      "model_module": "@jupyter-widgets/base",
      "model_module_version": "1.2.0",
      "model_name": "LayoutModel",
      "state": {}
     },
     "96b11cf6485f40e9bf745dd921cdf2ac": {
      "model_module": "jupyter-leaflet",
      "model_module_version": "^0.17.0",
      "model_name": "LeafletTileLayerModel",
      "state": {
       "_model_module_version": "^0.17.0",
       "_view_module_version": "^0.17.0",
       "attribution": "Map tiles by Stamen Design, CC BY 3.0 -- Map data (C) OpenStreetMap contributors",
       "max_zoom": 20,
       "name": "Stamen.TonerLabels",
       "options": [
        "attribution",
        "bounds",
        "detect_retina",
        "max_native_zoom",
        "max_zoom",
        "min_native_zoom",
        "min_zoom",
        "no_wrap",
        "tile_size",
        "tms"
       ],
       "url": "https://stamen-tiles-a.a.ssl.fastly.net/toner-labels/{z}/{x}/{y}.png"
      }
     },
     "9706a07953834ca0a4080765afca9517": {
      "model_module": "@jupyter-widgets/base",
      "model_module_version": "1.2.0",
      "model_name": "LayoutModel",
      "state": {}
     },
     "970f5c56221346d0b7816d55f26da8bf": {
      "model_module": "@jupyter-widgets/controls",
      "model_module_version": "1.5.0",
      "model_name": "FloatProgressModel",
      "state": {
       "bar_style": "success",
       "layout": "IPY_MODEL_69ff4648161843aa9996674dde5e1a0c",
       "max": 2,
       "style": "IPY_MODEL_474203dc69ab4de08fbbdde1236ce248",
       "value": 2
      }
     },
     "98101232c37844acb654c76b2800ee6c": {
      "model_module": "@jupyter-widgets/controls",
      "model_module_version": "1.5.0",
      "model_name": "VBoxModel",
      "state": {
       "children": [
        "IPY_MODEL_3fdf04cd3fe948e2a29e3a0e9e2bb0fd",
        "IPY_MODEL_64d43ea50e0f4e8e9762fd95ea91a4a2"
       ],
       "layout": "IPY_MODEL_9520446a8ae848f8837bdf03b89faa25"
      }
     },
     "9855e444f5f54b1f8c14f699f7b18499": {
      "model_module": "@jupyter-widgets/base",
      "model_module_version": "1.2.0",
      "model_name": "LayoutModel",
      "state": {
       "height": "auto",
       "padding": "0px 0px 0px 4px",
       "width": "auto"
      }
     },
     "997e4a051d394c3e8eb0ccefca04551e": {
      "model_module": "@jupyter-widgets/base",
      "model_module_version": "1.2.0",
      "model_name": "LayoutModel",
      "state": {}
     },
     "9a1b0e467b6644f0bd6477c631737e50": {
      "model_module": "@jupyter-widgets/base",
      "model_module_version": "1.2.0",
      "model_name": "LayoutModel",
      "state": {
       "margin": "0px 5px 0px 5px"
      }
     },
     "9a463acd9b7d484791688dd0e6da1a6d": {
      "model_module": "@jupyter-widgets/base",
      "model_module_version": "1.2.0",
      "model_name": "LayoutModel",
      "state": {}
     },
     "9a7644b0d9a944f3986cab15be7e13b6": {
      "model_module": "@jupyter-widgets/controls",
      "model_module_version": "1.5.0",
      "model_name": "ButtonStyleModel",
      "state": {
       "button_color": "#50bf8f"
      }
     },
     "9b24a9fa1be3400b922af508b64b3672": {
      "model_module": "@jupyter-widgets/controls",
      "model_module_version": "1.5.0",
      "model_name": "ButtonModel",
      "state": {
       "description": "Load bbox from file",
       "layout": "IPY_MODEL_3ae1770de60d439ea7e61034dc20a6b4",
       "style": "IPY_MODEL_6bb089b9ee2d44ae814af0059843d90d"
      }
     },
     "9b6013eb4dcc42acbfcf9d0fea37d768": {
      "model_module": "@jupyter-widgets/base",
      "model_module_version": "1.2.0",
      "model_name": "LayoutModel",
      "state": {}
     },
     "9b656c008ae94d199d40e9cb5c003df8": {
      "model_module": "@jupyter-widgets/controls",
      "model_module_version": "1.5.0",
      "model_name": "ButtonModel",
      "state": {
       "description": "Generate ROI",
       "layout": "IPY_MODEL_28d7e52aae4a46ad8af11ceadb50fee6",
       "style": "IPY_MODEL_22216b77d4144002a9df0dc2141470b9"
      }
     },
     "9c36b7f2bd6941edb9bc15925c28314f": {
      "model_module": "jupyter-leaflet",
      "model_module_version": "^0.17.0",
      "model_name": "LeafletScaleControlModel",
      "state": {
       "_model_module_version": "^0.17.0",
       "_view_module_version": "^0.17.0",
       "imperial": true,
       "max_width": 100,
       "metric": true,
       "options": [
        "imperial",
        "max_width",
        "metric",
        "position",
        "update_when_idle"
       ],
       "position": "bottomleft",
       "update_when_idle": false
      }
     },
     "9c3d3406b6e14884b1e6b05e9aaad85a": {
      "model_module": "@jupyter-widgets/base",
      "model_module_version": "1.2.0",
      "model_name": "LayoutModel",
      "state": {}
     },
     "9d7a56892d7c4415b6dc564cb55fe995": {
      "model_module": "@jupyter-widgets/controls",
      "model_module_version": "1.5.0",
      "model_name": "HBoxModel",
      "state": {
       "children": [
        "IPY_MODEL_dc43e79e92e040af99554008fd3b0e53",
        "IPY_MODEL_b33f5981cc784eccb8ab041fe0eb433e",
        "IPY_MODEL_807b5e8146a5437998d1a55a88e74b7a"
       ],
       "layout": "IPY_MODEL_ae496b85236048b199b677bdb7a25db6"
      }
     },
     "9dace204790a43c6b7edf6b8acced86e": {
      "model_module": "@jupyter-widgets/controls",
      "model_module_version": "1.5.0",
      "model_name": "ToggleButtonModel",
      "state": {
       "button_style": "primary",
       "icon": "search-plus",
       "layout": "IPY_MODEL_6b4d7e46db0c4e48bc1f9ba8f3bd81a2",
       "style": "IPY_MODEL_7f282b86feba402eb9229f12c2babba9",
       "tooltip": "Search features in GeoJSON layer"
      }
     },
     "9dc744d5fc0f4ff78b649f14282cdb0b": {
      "model_module": "@jupyter-widgets/base",
      "model_module_version": "1.2.0",
      "model_name": "LayoutModel",
      "state": {}
     },
     "9e8bdff09a7d439ea1dc8fc9f79bd982": {
      "model_module": "jupyter-leaflet",
      "model_module_version": "^0.17.0",
      "model_name": "LeafletTileLayerModel",
      "state": {
       "_model_module_version": "^0.17.0",
       "_view_module_version": "^0.17.0",
       "attribution": "Map data: (C) OpenStreetMap contributors | Map style: (C) waymarkedtrails.org (CC-BY-SA)",
       "name": "WaymarkedTrails.slopes",
       "options": [
        "attribution",
        "bounds",
        "detect_retina",
        "max_native_zoom",
        "max_zoom",
        "min_native_zoom",
        "min_zoom",
        "no_wrap",
        "tile_size",
        "tms"
       ],
       "url": "https://tile.waymarkedtrails.org/slopes/{z}/{x}/{y}.png"
      }
     },
     "9ed2610977c649eca2e6f303e764455a": {
      "model_module": "jupyter-leaflet",
      "model_module_version": "^0.17.0",
      "model_name": "LeafletWMSLayerModel",
      "state": {
       "_model_module_version": "^0.17.0",
       "_view_module_version": "^0.17.0",
       "attribution": "ESA",
       "crs": {
        "custom": false,
        "name": "EPSG3857"
       },
       "format": "image/png",
       "layers": "WORLDCOVER_2020_S2_TCC",
       "name": "ESA Worldcover 2020 S2 TCC",
       "options": [
        "attribution",
        "bounds",
        "detect_retina",
        "format",
        "layers",
        "max_native_zoom",
        "max_zoom",
        "min_native_zoom",
        "min_zoom",
        "no_wrap",
        "styles",
        "tile_size",
        "tms",
        "transparent",
        "uppercase"
       ],
       "transparent": true,
       "url": "https://services.terrascope.be/wms/v2"
      }
     },
     "9eda0a6a7d5845eea1c96031eeddfc55": {
      "model_module": "@jupyter-widgets/controls",
      "model_module_version": "1.5.0",
      "model_name": "HBoxModel",
      "state": {
       "children": [
        "IPY_MODEL_e500ab12d9bc484c9bf292a8aa501e2f",
        "IPY_MODEL_5e1373dd3e69498a934a803128bbe788"
       ],
       "layout": "IPY_MODEL_317c466f567d4b0e9c86ef15e8413edc"
      }
     },
     "a0635e50b958460aa46e93377db5012f": {
      "model_module": "@jupyter-widgets/base",
      "model_module_version": "1.2.0",
      "model_name": "LayoutModel",
      "state": {}
     },
     "a08d1e73dae74d9fa4f48379253ea6df": {
      "model_module": "@jupyter-widgets/controls",
      "model_module_version": "1.5.0",
      "model_name": "VBoxModel",
      "state": {
       "children": [
        "IPY_MODEL_d0065b4ea08a41da967eb9cb451969bf"
       ],
       "layout": "IPY_MODEL_889be9ac3f7f42b39c312f3cb444b1a9"
      }
     },
     "a0aa9630afb4452591a369f4b42757a0": {
      "model_module": "jupyter-leaflet",
      "model_module_version": "^0.17.0",
      "model_name": "LeafletTileLayerModel",
      "state": {
       "_model_module_version": "^0.17.0",
       "_view_module_version": "^0.17.0",
       "attribution": "Justice Map",
       "max_zoom": 22,
       "name": "JusticeMap.black",
       "options": [
        "attribution",
        "bounds",
        "detect_retina",
        "max_native_zoom",
        "max_zoom",
        "min_native_zoom",
        "min_zoom",
        "no_wrap",
        "tile_size",
        "tms"
       ],
       "url": "https://www.justicemap.org/tile/county/black/{z}/{x}/{y}.png"
      }
     },
     "a0b04a52191c4ecc840275ad764f2925": {
      "model_module": "@jupyter-widgets/controls",
      "model_module_version": "1.5.0",
      "model_name": "DescriptionStyleModel",
      "state": {
       "description_width": ""
      }
     },
     "a14737b7212147c3b4e500c604201e3d": {
      "model_module": "@jupyter-widgets/base",
      "model_module_version": "1.2.0",
      "model_name": "LayoutModel",
      "state": {
       "height": "auto",
       "padding": "0px 0px 0px 4px",
       "width": "auto"
      }
     },
     "a216c5ac26154456a09f5c29d55e09a7": {
      "model_module": "jupyter-leaflet",
      "model_module_version": "^0.17.0",
      "model_name": "LeafletTileLayerModel",
      "state": {
       "_model_module_version": "^0.17.0",
       "_view_module_version": "^0.17.0",
       "attribution": "![](https://docs.onemap.sg/maps/images/oneMap64-01.png) New OneMap | Map data (C) contributors, Singapore Land Authority",
       "name": "OneMapSG.LandLot",
       "options": [
        "attribution",
        "bounds",
        "detect_retina",
        "max_native_zoom",
        "max_zoom",
        "min_native_zoom",
        "min_zoom",
        "no_wrap",
        "tile_size",
        "tms"
       ],
       "url": "https://maps-a.onemap.sg/v3/LandLot/{z}/{x}/{y}.png"
      }
     },
     "a2298b9756874c6692fb6aa7e5e04c80": {
      "model_module": "@jupyter-widgets/controls",
      "model_module_version": "1.5.0",
      "model_name": "VBoxModel",
      "state": {
       "children": [
        "IPY_MODEL_fd418e6ae99341ad956db7ca94d0aab1",
        "IPY_MODEL_10925f2e162542c18b95db72b45a5b25"
       ],
       "layout": "IPY_MODEL_c43cc782995e4f6d9dd8e40d1b52d390"
      }
     },
     "a54a80a65dec4824b92d2210a2b00e8b": {
      "model_module": "jupyter-leaflet",
      "model_module_version": "^0.17.0",
      "model_name": "LeafletTileLayerModel",
      "state": {
       "_model_module_version": "^0.17.0",
       "_view_module_version": "^0.17.0",
       "attribution": "Map tiles by <a href=\"https://labs.strava.com/heatmap\">Strava 2021</a>",
       "max_zoom": 15,
       "name": "Strava.All",
       "options": [
        "attribution",
        "bounds",
        "detect_retina",
        "max_native_zoom",
        "max_zoom",
        "min_native_zoom",
        "min_zoom",
        "no_wrap",
        "tile_size",
        "tms"
       ],
       "url": "https://heatmap-external-a.strava.com/tiles/all/hot/{z}/{x}/{y}.png"
      }
     },
     "a690183feae94f4d9a3c5e8aa8bcf358": {
      "model_module": "@jupyter-widgets/base",
      "model_module_version": "1.2.0",
      "model_name": "LayoutModel",
      "state": {}
     },
     "a69dae202c544d879339a9ae8f6d2e90": {
      "model_module": "@jupyter-widgets/controls",
      "model_module_version": "1.5.0",
      "model_name": "DescriptionStyleModel",
      "state": {
       "description_width": ""
      }
     },
     "a6c4da5c14c34828b1ab5f8f885fdab2": {
      "model_module": "jupyter-leaflet",
      "model_module_version": "^0.17.0",
      "model_name": "LeafletWMSLayerModel",
      "state": {
       "_model_module_version": "^0.17.0",
       "_view_module_version": "^0.17.0",
       "attribution": "MRLC",
       "crs": {
        "custom": false,
        "name": "EPSG3857"
       },
       "format": "image/png",
       "layers": "NLCD_2019_Land_Cover_L48",
       "name": "NLCD 2019 CONUS Land Cover",
       "options": [
        "attribution",
        "bounds",
        "detect_retina",
        "format",
        "layers",
        "max_native_zoom",
        "max_zoom",
        "min_native_zoom",
        "min_zoom",
        "no_wrap",
        "styles",
        "tile_size",
        "tms",
        "transparent",
        "uppercase"
       ],
       "transparent": true,
       "url": "https://www.mrlc.gov/geoserver/mrlc_display/NLCD_2019_Land_Cover_L48/wms?"
      }
     },
     "a78f0b2f3b8648dba59ee9fe8da10ebf": {
      "model_module": "@jupyter-widgets/base",
      "model_module_version": "1.2.0",
      "model_name": "LayoutModel",
      "state": {}
     },
     "a7cc0ad56183410b8683e5add7e760b9": {
      "model_module": "@jupyter-widgets/base",
      "model_module_version": "1.2.0",
      "model_name": "LayoutModel",
      "state": {}
     },
     "a82912ee76ac44f4a7121467e250c22d": {
      "model_module": "@jupyter-widgets/controls",
      "model_module_version": "1.5.0",
      "model_name": "ToggleButtonModel",
      "state": {
       "button_style": "primary",
       "icon": "stack-exchange",
       "layout": "IPY_MODEL_188cd994dd09448aa43e891f107267d5",
       "style": "IPY_MODEL_ddd34a2782a84565af1b5bbef87f794c",
       "tooltip": "Discover STAC Catalog"
      }
     },
     "a83f2fdb11b641fcaf7e1bd5fb0be66b": {
      "model_module": "@jupyter-widgets/controls",
      "model_module_version": "1.5.0",
      "model_name": "HBoxModel",
      "state": {
       "children": [
        "IPY_MODEL_71bd87db312742dbbdcada7890129c44",
        "IPY_MODEL_6b99f903951c41b5aba15823ecf226b1"
       ],
       "layout": "IPY_MODEL_492d82e9a3e546a684000ecae60c26cc"
      }
     },
     "a8a7137118fc49e79b2cea2ff97e4f21": {
      "model_module": "jupyter-leaflet",
      "model_module_version": "^0.17.0",
      "model_name": "LeafletDrawControlModel",
      "state": {
       "_model_module_version": "^0.17.0",
       "_view_module_version": "^0.17.0",
       "data": [
        {
         "geometry": {
          "coordinates": [
           [
            [
             -124.172326,
             40.86756
            ],
            [
             -124.172326,
             40.88934
            ],
            [
             -124.13785,
             40.88934
            ],
            [
             -124.13785,
             40.86756
            ],
            [
             -124.172326,
             40.86756
            ]
           ]
          ],
          "type": "Polygon"
         },
         "properties": {
          "style": {
           "Opacity": 0.1,
           "clickable": true,
           "color": "green",
           "fill": true,
           "fillColor": "green",
           "fillOpacity": 0.1,
           "opacity": 0.5,
           "stroke": true,
           "weight": 4
          }
         },
         "type": "Feature"
        }
       ],
       "options": [
        "position"
       ],
       "polygon": {},
       "polyline": {},
       "rectangle": {
        "allowIntersection": false,
        "drawError": {
         "color": "#dd253b",
         "message": "Ops!"
        },
        "shapeOptions": {
         "Opacity": 0.1,
         "color": "green",
         "fillColor": "green",
         "fillOpacity": 0.1
        },
        "transform": true
       }
      }
     },
     "a956769cb14149aa8b5b976c596049a8": {
      "model_module": "jupyter-leaflet",
      "model_module_version": "^0.17.0",
      "model_name": "LeafletAttributionControlModel",
      "state": {
       "_model_module_version": "^0.17.0",
       "_view_module_version": "^0.17.0",
       "options": [
        "position",
        "prefix"
       ],
       "position": "bottomright",
       "prefix": "ipyleaflet"
      }
     },
     "aa977a954678487ba1ed4d0dd32d0627": {
      "model_module": "jupyter-leaflet",
      "model_module_version": "^0.17.0",
      "model_name": "LeafletTileLayerModel",
      "state": {
       "_model_module_version": "^0.17.0",
       "_view_module_version": "^0.17.0",
       "attribution": "Imagery provided by services from the Global Imagery Browse Services (GIBS), operated by the NASA/GSFC/Earth Science Data and Information System (ESDIS) with funding provided by NASA/HQ.",
       "max_zoom": 5,
       "name": "NASAGIBS.BlueMarble3413",
       "options": [
        "attribution",
        "bounds",
        "detect_retina",
        "max_native_zoom",
        "max_zoom",
        "min_native_zoom",
        "min_zoom",
        "no_wrap",
        "tile_size",
        "tms"
       ],
       "url": "https://gibs.earthdata.nasa.gov/wmts/epsg3413/best/BlueMarble_NextGeneration/default/EPSG3413_500m/{z}/{y}/{x}.jpeg"
      }
     },
     "ab36ed062dc241fd8ffd7aab41e4d28e": {
      "model_module": "jupyter-leaflet",
      "model_module_version": "^0.17.0",
      "model_name": "LeafletTileLayerModel",
      "state": {
       "_model_module_version": "^0.17.0",
       "_view_module_version": "^0.17.0",
       "attribution": "(C) OpenStreetMap contributors (C) CARTO",
       "max_zoom": 20,
       "name": "CartoDB.Positron",
       "options": [
        "attribution",
        "bounds",
        "detect_retina",
        "max_native_zoom",
        "max_zoom",
        "min_native_zoom",
        "min_zoom",
        "no_wrap",
        "tile_size",
        "tms"
       ],
       "url": "https://a.basemaps.cartocdn.com/light_all/{z}/{x}/{y}.png"
      }
     },
     "ab3f3fa968a14d85a834c9d7087c899f": {
      "model_module": "@jupyter-widgets/controls",
      "model_module_version": "1.5.0",
      "model_name": "HTMLModel",
      "state": {
       "layout": "IPY_MODEL_997e4a051d394c3e8eb0ccefca04551e",
       "style": "IPY_MODEL_f708339beda54806bdeac7e9309c7d78",
       "value": "Downloading ROIs: 100%"
      }
     },
     "ac1f4daddd9c40729670abbfd5557a0d": {
      "model_module": "jupyter-leaflet",
      "model_module_version": "^0.17.0",
      "model_name": "LeafletTileLayerModel",
      "state": {
       "_model_module_version": "^0.17.0",
       "_view_module_version": "^0.17.0",
       "attribution": "Map tiles by Stamen Design, CC BY 3.0 -- Map data (C) OpenStreetMap contributors",
       "max_zoom": 20,
       "name": "Stamen.Toner",
       "options": [
        "attribution",
        "bounds",
        "detect_retina",
        "max_native_zoom",
        "max_zoom",
        "min_native_zoom",
        "min_zoom",
        "no_wrap",
        "tile_size",
        "tms"
       ],
       "url": "https://stamen-tiles-a.a.ssl.fastly.net/toner/{z}/{x}/{y}.png"
      }
     },
     "ad027df7819442c89771e3ce1ea4e5d7": {
      "model_module": "@jupyter-widgets/controls",
      "model_module_version": "1.5.0",
      "model_name": "DescriptionStyleModel",
      "state": {
       "description_width": ""
      }
     },
     "ad0b9088695948d29d9520928255988e": {
      "model_module": "@jupyter-widgets/base",
      "model_module_version": "1.2.0",
      "model_name": "LayoutModel",
      "state": {
       "margin": "0px 0px 0px 20px"
      }
     },
     "ad1e257b4f86419fa2e27e1be2c11ae7": {
      "model_module": "jupyter-leaflet",
      "model_module_version": "^0.17.0",
      "model_name": "LeafletTileLayerModel",
      "state": {
       "_model_module_version": "^0.17.0",
       "_view_module_version": "^0.17.0",
       "attribution": "Justice Map",
       "max_zoom": 22,
       "name": "JusticeMap.nonWhite",
       "options": [
        "attribution",
        "bounds",
        "detect_retina",
        "max_native_zoom",
        "max_zoom",
        "min_native_zoom",
        "min_zoom",
        "no_wrap",
        "tile_size",
        "tms"
       ],
       "url": "https://www.justicemap.org/tile/county/nonwhite/{z}/{x}/{y}.png"
      }
     },
     "ae496b85236048b199b677bdb7a25db6": {
      "model_module": "@jupyter-widgets/base",
      "model_module_version": "1.2.0",
      "model_name": "LayoutModel",
      "state": {}
     },
     "ae78524f469d4fb4b93ed2f273dfc3a5": {
      "model_module": "@jupyter-widgets/base",
      "model_module_version": "1.2.0",
      "model_name": "LayoutModel",
      "state": {}
     },
     "aecce44b64ef4927935976d18dc1dde7": {
      "model_module": "@jupyter-widgets/base",
      "model_module_version": "1.2.0",
      "model_name": "LayoutModel",
      "state": {
       "border": "1px solid black"
      }
     },
     "b0d57b153e274374bb0562c1a6cd2341": {
      "model_module": "@jupyter-widgets/base",
      "model_module_version": "1.2.0",
      "model_name": "LayoutModel",
      "state": {}
     },
     "b1204ce2ecfb4073b18b8ef9ca455bf8": {
      "model_module": "jupyter-leaflet",
      "model_module_version": "^0.17.0",
      "model_name": "LeafletTileLayerModel",
      "state": {
       "_model_module_version": "^0.17.0",
       "_view_module_version": "^0.17.0",
       "attribution": "(C) OpenStreetMap contributors (C) CARTO",
       "max_zoom": 20,
       "name": "CartoDB.VoyagerNoLabels",
       "options": [
        "attribution",
        "bounds",
        "detect_retina",
        "max_native_zoom",
        "max_zoom",
        "min_native_zoom",
        "min_zoom",
        "no_wrap",
        "tile_size",
        "tms"
       ],
       "url": "https://a.basemaps.cartocdn.com/rastertiles/voyager_nolabels/{z}/{x}/{y}.png"
      }
     },
     "b15d9b9d3e474e48bb046839323855d1": {
      "model_module": "@jupyter-widgets/base",
      "model_module_version": "1.2.0",
      "model_name": "LayoutModel",
      "state": {}
     },
     "b1bf78ed61184209903483a88d9b49c0": {
      "model_module": "jupyter-leaflet",
      "model_module_version": "^0.17.0",
      "model_name": "LeafletTileLayerModel",
      "state": {
       "_model_module_version": "^0.17.0",
       "_view_module_version": "^0.17.0",
       "attribution": "&copy; <a href=\"https://www.openstreetmap.org/copyright\">OpenStreetMap</a> contributors",
       "base": true,
       "max_zoom": 19,
       "min_zoom": 1,
       "name": "OpenStreetMap",
       "options": [
        "attribution",
        "bounds",
        "detect_retina",
        "max_native_zoom",
        "max_zoom",
        "min_native_zoom",
        "min_zoom",
        "no_wrap",
        "tile_size",
        "tms"
       ],
       "url": "https://a.tile.openstreetmap.org/{z}/{x}/{y}.png"
      }
     },
     "b1dd7b774aff4790ac104ea55815d940": {
      "model_module": "jupyter-leaflet",
      "model_module_version": "^0.17.0",
      "model_name": "LeafletTileLayerModel",
      "state": {
       "_model_module_version": "^0.17.0",
       "_view_module_version": "^0.17.0",
       "attribution": "Geoportail France",
       "name": "GeoportailFrance.plan",
       "options": [
        "attribution",
        "bounds",
        "detect_retina",
        "max_native_zoom",
        "max_zoom",
        "min_native_zoom",
        "min_zoom",
        "no_wrap",
        "tile_size",
        "tms"
       ],
       "url": "https://wxs.ign.fr/choisirgeoportail/geoportail/wmts?REQUEST=GetTile&SERVICE=WMTS&VERSION=1.0.0&STYLE=normal&TILEMATRIXSET=PM&FORMAT=image/png&LAYER=GEOGRAPHICALGRIDSYSTEMS.PLANIGNV2&TILEMATRIX={z}&TILEROW={y}&TILECOL={x}"
      }
     },
     "b28ab130f4924d528b22fe30b5585fdb": {
      "model_module": "jupyter-leaflet",
      "model_module_version": "^0.17.0",
      "model_name": "LeafletWMSLayerModel",
      "state": {
       "_model_module_version": "^0.17.0",
       "_view_module_version": "^0.17.0",
       "attribution": "USGS",
       "crs": {
        "custom": false,
        "name": "EPSG3857"
       },
       "format": "image/png",
       "layers": "0",
       "name": "USGS Hydrography",
       "options": [
        "attribution",
        "bounds",
        "detect_retina",
        "format",
        "layers",
        "max_native_zoom",
        "max_zoom",
        "min_native_zoom",
        "min_zoom",
        "no_wrap",
        "styles",
        "tile_size",
        "tms",
        "transparent",
        "uppercase"
       ],
       "transparent": true,
       "url": "https://basemap.nationalmap.gov/arcgis/services/USGSHydroCached/MapServer/WMSServer?"
      }
     },
     "b2db198791ab4232a2f6d7166c9f2f0c": {
      "model_module": "@jupyter-widgets/base",
      "model_module_version": "1.2.0",
      "model_name": "LayoutModel",
      "state": {}
     },
     "b33f5981cc784eccb8ab041fe0eb433e": {
      "model_module": "@jupyter-widgets/controls",
      "model_module_version": "1.5.0",
      "model_name": "RadioButtonsModel",
      "state": {
       "_options_labels": [
        "landsat_6229071",
        "landsat_6230083",
        "SWED-RGB_6824384",
        "coast-train-RGB_6950479",
        "S2-water-SWED_6950474"
       ],
       "description": "Select Model:",
       "index": 0,
       "layout": "IPY_MODEL_7758843ef7a74e119514e04017a1e372",
       "style": "IPY_MODEL_554d7f6ef589440f9cdec0095d29bf34"
      }
     },
     "b448afdd53054b65b105fcdf82506a1b": {
      "model_module": "@jupyter-widgets/controls",
      "model_module_version": "1.5.0",
      "model_name": "DescriptionStyleModel",
      "state": {
       "description_width": ""
      }
     },
     "b61c0f8cb4b843ae8a950e9609bd0872": {
      "model_module": "jupyter-leaflet",
      "model_module_version": "^0.17.0",
      "model_name": "LeafletTileLayerModel",
      "state": {
       "_model_module_version": "^0.17.0",
       "_view_module_version": "^0.17.0",
       "attribution": "(C) OpenStreetMap contributors",
       "name": "OpenStreetMap.CH",
       "options": [
        "attribution",
        "bounds",
        "detect_retina",
        "max_native_zoom",
        "max_zoom",
        "min_native_zoom",
        "min_zoom",
        "no_wrap",
        "tile_size",
        "tms"
       ],
       "url": "https://tile.osm.ch/switzerland/{z}/{x}/{y}.png"
      }
     },
     "b650c3b19c0344a9998f04497576cd59": {
      "model_module": "@jupyter-widgets/base",
      "model_module_version": "1.2.0",
      "model_name": "LayoutModel",
      "state": {}
     },
     "b6c7390a1f4443888941b35a4feb08ee": {
      "model_module": "@jupyter-widgets/controls",
      "model_module_version": "1.5.0",
      "model_name": "ButtonModel",
      "state": {
       "description": "Remove ROIs",
       "layout": "IPY_MODEL_160485d61b86409ea9b0f2f551e69017",
       "style": "IPY_MODEL_b73ab74b137b452381d7da979ab95a26"
      }
     },
     "b73ab74b137b452381d7da979ab95a26": {
      "model_module": "@jupyter-widgets/controls",
      "model_module_version": "1.5.0",
      "model_name": "ButtonStyleModel",
      "state": {
       "button_color": "red"
      }
     },
     "b7582bd621e2421bada4ef89331e3ed9": {
      "model_module": "@jupyter-widgets/base",
      "model_module_version": "1.2.0",
      "model_name": "LayoutModel",
      "state": {}
     },
     "b7b3912b369346539dbf8664345ae2d0": {
      "model_module": "@jupyter-widgets/controls",
      "model_module_version": "1.5.0",
      "model_name": "ButtonModel",
      "state": {
       "description": "Select Your Images",
       "layout": "IPY_MODEL_9706a07953834ca0a4080765afca9517",
       "style": "IPY_MODEL_bdc9c3fc87cc4cde8b93cdc49d9a3d37"
      }
     },
     "b7d79ac554914ad4859b3f16a171e6cd": {
      "model_module": "@jupyter-widgets/base",
      "model_module_version": "1.2.0",
      "model_name": "LayoutModel",
      "state": {}
     },
     "b7d8458980d446dfbef70927a3c68785": {
      "model_module": "@jupyter-widgets/controls",
      "model_module_version": "1.5.0",
      "model_name": "ButtonModel",
      "state": {
       "description": "Extract Shorelines",
       "layout": "IPY_MODEL_177d4f246545497a9b08a6ad739a0aa9",
       "style": "IPY_MODEL_7e59064f357849aa9991f1f6c1ca9f18"
      }
     },
     "b885620977fb4e8f8db772cce14d87b6": {
      "model_module": "jupyter-leaflet",
      "model_module_version": "^0.17.0",
      "model_name": "LeafletTileLayerModel",
      "state": {
       "_model_module_version": "^0.17.0",
       "_view_module_version": "^0.17.0",
       "attribution": "Map tiles by <a href=\"https://labs.strava.com/heatmap\">Strava 2021</a>",
       "max_zoom": 15,
       "name": "Strava.Ride",
       "options": [
        "attribution",
        "bounds",
        "detect_retina",
        "max_native_zoom",
        "max_zoom",
        "min_native_zoom",
        "min_zoom",
        "no_wrap",
        "tile_size",
        "tms"
       ],
       "url": "https://heatmap-external-a.strava.com/tiles/ride/hot/{z}/{x}/{y}.png"
      }
     },
     "b911ab4240d541288986af9b821d19be": {
      "model_module": "@jupyter-widgets/controls",
      "model_module_version": "1.5.0",
      "model_name": "VBoxModel",
      "state": {
       "children": [
        "IPY_MODEL_469d806219c047148776bb818c1549e4",
        "IPY_MODEL_1385feab648546b49ad089d4acfe9b80"
       ],
       "layout": "IPY_MODEL_bfd0ddd37e1446b8b0f378242555bce6"
      }
     },
     "b9a8bc6e192e46ddb6957b7cab6167f2": {
      "model_module": "jupyter-leaflet",
      "model_module_version": "^0.17.0",
      "model_name": "LeafletWMSLayerModel",
      "state": {
       "_model_module_version": "^0.17.0",
       "_view_module_version": "^0.17.0",
       "attribution": "MRLC",
       "crs": {
        "custom": false,
        "name": "EPSG3857"
       },
       "format": "image/png",
       "layers": "NLCD_2004_Land_Cover_L48",
       "name": "NLCD 2004 CONUS Land Cover",
       "options": [
        "attribution",
        "bounds",
        "detect_retina",
        "format",
        "layers",
        "max_native_zoom",
        "max_zoom",
        "min_native_zoom",
        "min_zoom",
        "no_wrap",
        "styles",
        "tile_size",
        "tms",
        "transparent",
        "uppercase"
       ],
       "transparent": true,
       "url": "https://www.mrlc.gov/geoserver/mrlc_display/NLCD_2004_Land_Cover_L48/wms?"
      }
     },
     "b9cdfe8908aa487ea594b5de320597b7": {
      "model_module": "@jupyter-widgets/controls",
      "model_module_version": "1.5.0",
      "model_name": "ButtonModel",
      "state": {
       "description": "Run Model",
       "layout": "IPY_MODEL_f2873d3e8f964333999c7eff3de93a12",
       "style": "IPY_MODEL_3f239a3ff87d423baad18c4c2caaa5de"
      }
     },
     "ba575fe5e9704d25b645cfd9c0043110": {
      "model_module": "@jupyter-widgets/controls",
      "model_module_version": "1.5.0",
      "model_name": "ButtonModel",
      "state": {
       "description": "Save Bbox",
       "layout": "IPY_MODEL_4fac8a4e42ce403d9bf0bb435b8a1496",
       "style": "IPY_MODEL_6780342c7b7d45139f59a464d4db8dc8"
      }
     },
     "baacd93919ab4027a5e19d8987c56325": {
      "model_module": "@jupyter-widgets/controls",
      "model_module_version": "1.5.0",
      "model_name": "DescriptionStyleModel",
      "state": {
       "description_width": ""
      }
     },
     "bae467dcd58745ec8bd71d46e2a9acb4": {
      "model_module": "@jupyter-widgets/base",
      "model_module_version": "1.2.0",
      "model_name": "LayoutModel",
      "state": {}
     },
     "bb65ca33846b4cdb944f54e7ed166fae": {
      "model_module": "@jupyter-widgets/controls",
      "model_module_version": "1.5.0",
      "model_name": "ToggleButtonModel",
      "state": {
       "icon": "wrench",
       "layout": "IPY_MODEL_1462c47654b848bd8a9d40e8c6818e06",
       "style": "IPY_MODEL_58b6a7478e814b608613fa48dd393462",
       "tooltip": "Toolbar"
      }
     },
     "bc40d0d6824247db8222304d049905db": {
      "model_module": "@jupyter-widgets/controls",
      "model_module_version": "1.5.0",
      "model_name": "VBoxModel",
      "state": {
       "children": [
        "IPY_MODEL_2e17692096954095b9c33fa9ed890f93",
        "IPY_MODEL_6980570d165c46e8a68cb369c44818dd",
        "IPY_MODEL_ba575fe5e9704d25b645cfd9c0043110",
        "IPY_MODEL_e0cf7f1b8a954da998f90f1d92f8080d",
        "IPY_MODEL_6d772954a248449a81cd014feda4b08e",
        "IPY_MODEL_331520ba296445ba87c55cdefc0a13a3",
        "IPY_MODEL_e2097c46a2214f9aaca6140aede01ca0",
        "IPY_MODEL_9b24a9fa1be3400b922af508b64b3672",
        "IPY_MODEL_02582031b6d6466e92072f1a48844296"
       ],
       "layout": "IPY_MODEL_a7cc0ad56183410b8683e5add7e760b9"
      }
     },
     "bd394f46ca4545749f28e36136e84a41": {
      "model_module": "@jupyter-widgets/controls",
      "model_module_version": "1.5.0",
      "model_name": "ButtonStyleModel",
      "state": {
       "button_color": "#50bf8f"
      }
     },
     "bd3bcbfa060a44729ae752146812810f": {
      "model_module": "@jupyter-widgets/controls",
      "model_module_version": "1.5.0",
      "model_name": "DescriptionStyleModel",
      "state": {
       "description_width": ""
      }
     },
     "bdc9c3fc87cc4cde8b93cdc49d9a3d37": {
      "model_module": "@jupyter-widgets/controls",
      "model_module_version": "1.5.0",
      "model_name": "ButtonStyleModel",
      "state": {
       "button_color": "#69add1"
      }
     },
     "be372d1e772b406781547b718fc3f950": {
      "model_module": "@jupyter-widgets/controls",
      "model_module_version": "1.5.0",
      "model_name": "DescriptionStyleModel",
      "state": {
       "description_width": ""
      }
     },
     "bea45b733b174a38856af03f586d345a": {
      "model_module": "jupyter-leaflet",
      "model_module_version": "^0.17.0",
      "model_name": "LeafletTileLayerModel",
      "state": {
       "_model_module_version": "^0.17.0",
       "_view_module_version": "^0.17.0",
       "attribution": "Map tiles by Stamen Design, CC BY 3.0 -- Map data (C) OpenStreetMap contributors",
       "max_zoom": 20,
       "name": "Stamen.TopOSMFeatures",
       "options": [
        "attribution",
        "bounds",
        "detect_retina",
        "max_native_zoom",
        "max_zoom",
        "min_native_zoom",
        "min_zoom",
        "no_wrap",
        "tile_size",
        "tms"
       ],
       "url": "https://stamen-tiles-a.a.ssl.fastly.net/toposm-features/{z}/{x}/{y}.png"
      }
     },
     "bec640a99f6b45a9bd4f784de2c53dc0": {
      "model_module": "@jupyter-widgets/base",
      "model_module_version": "1.2.0",
      "model_name": "LayoutModel",
      "state": {}
     },
     "bfc5ed35cd514a06ab9108935a6d499e": {
      "model_module": "jupyter-leaflet",
      "model_module_version": "^0.17.0",
      "model_name": "LeafletTileLayerModel",
      "state": {
       "_model_module_version": "^0.17.0",
       "_view_module_version": "^0.17.0",
       "attribution": "Kaartgegevens (C) Kadaster",
       "max_zoom": 19,
       "name": "nlmaps.standaard",
       "options": [
        "attribution",
        "bounds",
        "detect_retina",
        "max_native_zoom",
        "max_zoom",
        "min_native_zoom",
        "min_zoom",
        "no_wrap",
        "tile_size",
        "tms"
       ],
       "url": "https://service.pdok.nl/brt/achtergrondkaart/wmts/v2_0/standaard/EPSG:3857/{z}/{x}/{y}.png"
      }
     },
     "bfd0ddd37e1446b8b0f378242555bce6": {
      "model_module": "@jupyter-widgets/base",
      "model_module_version": "1.2.0",
      "model_name": "LayoutModel",
      "state": {}
     },
     "c08be488f6f6495d8313379b6edbc43f": {
      "model_module": "jupyter-leaflet",
      "model_module_version": "^0.17.0",
      "model_name": "LeafletTileLayerModel",
      "state": {
       "_model_module_version": "^0.17.0",
       "_view_module_version": "^0.17.0",
       "attribution": "Tiles (C) Esri -- Esri, DeLorme, NAVTEQ, TomTom, Intermap, iPC, USGS, FAO, NPS, NRCAN, GeoBase, Kadaster NL, Ordnance Survey, Esri Japan, METI, Esri China (Hong Kong), and the GIS User Community",
       "max_zoom": 22,
       "name": "Esri.WorldTopoMap",
       "options": [
        "attribution",
        "bounds",
        "detect_retina",
        "max_native_zoom",
        "max_zoom",
        "min_native_zoom",
        "min_zoom",
        "no_wrap",
        "tile_size",
        "tms"
       ],
       "url": "https://server.arcgisonline.com/ArcGIS/rest/services/World_Topo_Map/MapServer/tile/{z}/{y}/{x}"
      }
     },
     "c0cd5c90827242f5b4c5b021a23ff536": {
      "model_module": "@jupyter-widgets/output",
      "model_module_version": "1.0.0",
      "model_name": "OutputModel",
      "state": {
       "layout": "IPY_MODEL_aecce44b64ef4927935976d18dc1dde7",
       "outputs": [
        {
         "name": "stdout",
         "output_type": "stream",
         "text": "The images in the folder will be segmented :\nC:/1_USGS/CoastSeg/repos/2_CoastSeg/CoastSeg_fork/Seg2Map/data/ID_1_datetime11-03-22__02_33_22/jpg_files/preprocessed/RGB \n"
        }
       ]
      }
     },
     "c0cee2b34b924883a21bbc4fa1983825": {
      "model_module": "jupyter-leaflet",
      "model_module_version": "^0.17.0",
      "model_name": "LeafletWMSLayerModel",
      "state": {
       "_model_module_version": "^0.17.0",
       "_view_module_version": "^0.17.0",
       "attribution": "MRLC",
       "crs": {
        "custom": false,
        "name": "EPSG3857"
       },
       "format": "image/png",
       "layers": "NLCD_2006_Land_Cover_L48",
       "name": "NLCD 2006 CONUS Land Cover",
       "options": [
        "attribution",
        "bounds",
        "detect_retina",
        "format",
        "layers",
        "max_native_zoom",
        "max_zoom",
        "min_native_zoom",
        "min_zoom",
        "no_wrap",
        "styles",
        "tile_size",
        "tms",
        "transparent",
        "uppercase"
       ],
       "transparent": true,
       "url": "https://www.mrlc.gov/geoserver/mrlc_display/NLCD_2006_Land_Cover_L48/wms?"
      }
     },
     "c351b6460dc242cfa4c14af49128070a": {
      "model_module": "jupyter-leaflet",
      "model_module_version": "^0.17.0",
      "model_name": "LeafletTileLayerModel",
      "state": {
       "_model_module_version": "^0.17.0",
       "_view_module_version": "^0.17.0",
       "attribution": "Imagery provided by services from the Global Imagery Browse Services (GIBS), operated by the NASA/GSFC/Earth Science Data and Information System (ESDIS) with funding provided by NASA/HQ.",
       "max_zoom": 12,
       "name": "NASAGIBS.ASTER_GDEM_Greyscale_Shaded_Relief",
       "options": [
        "attribution",
        "bounds",
        "detect_retina",
        "max_native_zoom",
        "max_zoom",
        "min_native_zoom",
        "min_zoom",
        "no_wrap",
        "tile_size",
        "tms"
       ],
       "url": "https://gibs.earthdata.nasa.gov/wmts/epsg3857/best/ASTER_GDEM_Greyscale_Shaded_Relief/default/GoogleMapsCompatible_Level12/{z}/{y}/{x}.jpg"
      }
     },
     "c3fc9caf77ab4e5ca859b0355fa6374f": {
      "model_module": "jupyter-leaflet",
      "model_module_version": "^0.17.0",
      "model_name": "LeafletTileLayerModel",
      "state": {
       "_model_module_version": "^0.17.0",
       "_view_module_version": "^0.17.0",
       "attribution": "Tiles (C) Esri -- Sources: GEBCO, NOAA, CHS, OSU, UNH, CSUMB, National Geographic, DeLorme, NAVTEQ, and Esri",
       "max_zoom": 13,
       "name": "Esri.OceanBasemap",
       "options": [
        "attribution",
        "bounds",
        "detect_retina",
        "max_native_zoom",
        "max_zoom",
        "min_native_zoom",
        "min_zoom",
        "no_wrap",
        "tile_size",
        "tms"
       ],
       "url": "https://server.arcgisonline.com/ArcGIS/rest/services/Ocean_Basemap/MapServer/tile/{z}/{y}/{x}"
      }
     },
     "c43ca494b76d4dd5b9a9b48ac49faf80": {
      "model_module": "@jupyter-widgets/base",
      "model_module_version": "1.2.0",
      "model_name": "LayoutModel",
      "state": {
       "margin": "0px 0px 0px 5px"
      }
     },
     "c43cc782995e4f6d9dd8e40d1b52d390": {
      "model_module": "@jupyter-widgets/base",
      "model_module_version": "1.2.0",
      "model_name": "LayoutModel",
      "state": {}
     },
     "c4e6d4d30ae940919d3bb13eb14805fa": {
      "model_module": "@jupyter-widgets/controls",
      "model_module_version": "1.5.0",
      "model_name": "HBoxModel",
      "state": {
       "children": [
        "IPY_MODEL_ab3f3fa968a14d85a834c9d7087c899f",
        "IPY_MODEL_8f6cde7647954202bc56cc63a62b719c",
        "IPY_MODEL_5f426be996c6482f92d29cff8fcb93a2"
       ],
       "layout": "IPY_MODEL_a0635e50b958460aa46e93377db5012f"
      }
     },
     "c4f77742c93740dba7ea305fd282d98c": {
      "model_module": "@jupyter-widgets/controls",
      "model_module_version": "1.5.0",
      "model_name": "DescriptionStyleModel",
      "state": {
       "description_width": ""
      }
     },
     "c4fa3209524244b3bbf1a2cc9b4a4a3c": {
      "model_module": "jupyter-leaflet",
      "model_module_version": "^0.17.0",
      "model_name": "LeafletWMSLayerModel",
      "state": {
       "_model_module_version": "^0.17.0",
       "_view_module_version": "^0.17.0",
       "attribution": "USGS",
       "crs": {
        "custom": false,
        "name": "EPSG3857"
       },
       "format": "image/png",
       "layers": "33DEPElevation:Hillshade Elevation Tinted",
       "name": "USGS 3DEP Elevation",
       "options": [
        "attribution",
        "bounds",
        "detect_retina",
        "format",
        "layers",
        "max_native_zoom",
        "max_zoom",
        "min_native_zoom",
        "min_zoom",
        "no_wrap",
        "styles",
        "tile_size",
        "tms",
        "transparent",
        "uppercase"
       ],
       "transparent": true,
       "url": "https://elevation.nationalmap.gov/arcgis/services/3DEPElevation/ImageServer/WMSServer?"
      }
     },
     "c535cd08410c4afb89e825583273b8e8": {
      "model_module": "@jupyter-widgets/base",
      "model_module_version": "1.2.0",
      "model_name": "LayoutModel",
      "state": {}
     },
     "c64e245ba05e41d3867c77a8e8c9c3a4": {
      "model_module": "@jupyter-widgets/base",
      "model_module_version": "1.2.0",
      "model_name": "LayoutModel",
      "state": {
       "padding": "10px"
      }
     },
     "c6fdb59af35f41b9927d4b428c1eb149": {
      "model_module": "@jupyter-widgets/base",
      "model_module_version": "1.2.0",
      "model_name": "LayoutModel",
      "state": {
       "border": "1px solid black"
      }
     },
     "c73a47dd25c84662a460571daccf0a83": {
      "model_module": "@jupyter-widgets/base",
      "model_module_version": "1.2.0",
      "model_name": "LayoutModel",
      "state": {}
     },
     "c963832678a94dea9685706fe4439906": {
      "model_module": "@jupyter-widgets/controls",
      "model_module_version": "1.5.0",
      "model_name": "DescriptionStyleModel",
      "state": {
       "description_width": ""
      }
     },
     "c9a9ca42695141f7824071d93aa55c80": {
      "model_module": "@jupyter-widgets/controls",
      "model_module_version": "1.5.0",
      "model_name": "HTMLModel",
      "state": {
       "layout": "IPY_MODEL_a690183feae94f4d9a3c5e8aa8bcf358",
       "style": "IPY_MODEL_2dce02127dcb45c5a958f884d3c062de",
       "value": "Extracting Shorelines: 100%"
      }
     },
     "cb0d865d47d8434194059fc8c6e77da5": {
      "model_module": "jupyter-leaflet",
      "model_module_version": "^0.17.0",
      "model_name": "LeafletTileLayerModel",
      "state": {
       "_model_module_version": "^0.17.0",
       "_view_module_version": "^0.17.0",
       "attribution": "Justice Map",
       "max_zoom": 22,
       "name": "JusticeMap.hispanic",
       "options": [
        "attribution",
        "bounds",
        "detect_retina",
        "max_native_zoom",
        "max_zoom",
        "min_native_zoom",
        "min_zoom",
        "no_wrap",
        "tile_size",
        "tms"
       ],
       "url": "https://www.justicemap.org/tile/county/hispanic/{z}/{x}/{y}.png"
      }
     },
     "cb8ffe72b23e49d7afef8c4c1325167b": {
      "model_module": "@jupyter-widgets/controls",
      "model_module_version": "1.5.0",
      "model_name": "HBoxModel",
      "state": {
       "children": [
        "IPY_MODEL_11200c85c9cc45028c9405d0882c46f3",
        "IPY_MODEL_970f5c56221346d0b7816d55f26da8bf",
        "IPY_MODEL_f14e703331454eacb751877e5ef6d328"
       ],
       "layout": "IPY_MODEL_5a7babade576462e86cd9b2c9ed55adf"
      }
     },
     "cd71a8481bd2499a8ddcda23ef8971b1": {
      "model_module": "@jupyter-widgets/controls",
      "model_module_version": "1.5.0",
      "model_name": "DescriptionStyleModel",
      "state": {
       "description_width": ""
      }
     },
     "ce7d1529495f41239f92575667b46b89": {
      "model_module": "jupyter-leaflet",
      "model_module_version": "^0.17.0",
      "model_name": "LeafletMapStyleModel",
      "state": {
       "_model_module_version": "^0.17.0"
      }
     },
     "cec75e9901044db398ba3dfb3543c3ec": {
      "model_module": "@jupyter-widgets/controls",
      "model_module_version": "1.5.0",
      "model_name": "ToggleButtonModel",
      "state": {
       "button_style": "primary",
       "icon": "folder-open",
       "layout": "IPY_MODEL_6e3cc7c3740347d4a6978380bb8d69d5",
       "style": "IPY_MODEL_fe796e17b6cc4d21b8889afeba728e7d",
       "tooltip": "Open local vector/raster data"
      }
     },
     "cee6a81b3f4c47b8bee040ddd955d2b0": {
      "model_module": "@jupyter-widgets/base",
      "model_module_version": "1.2.0",
      "model_name": "LayoutModel",
      "state": {}
     },
     "cf2b8e89e0a5456a8e9a9beb0fa37f35": {
      "model_module": "@jupyter-widgets/controls",
      "model_module_version": "1.5.0",
      "model_name": "HTMLModel",
      "state": {
       "layout": "IPY_MODEL_c43ca494b76d4dd5b9a9b48ac49faf80",
       "style": "IPY_MODEL_be372d1e772b406781547b718fc3f950",
       "value": "<h2><b>Download ROIs</b></h2>                 <b> You must click 'Save ROI' before you can download ROIs</b>                 </br> Scroll past the map to see the download progress                     <li> The data you downloaded will be in the 'data' folder</li>                     "
      }
     },
     "d0065b4ea08a41da967eb9cb451969bf": {
      "model_module": "@jupyter-widgets/controls",
      "model_module_version": "1.5.0",
      "model_name": "GridBoxModel",
      "state": {
       "children": [
        "IPY_MODEL_e4824fa472f84693878a7d6c9aceef16",
        "IPY_MODEL_8a5e90b8606046dab2a7d1c1ef8e5b27",
        "IPY_MODEL_7338766046f24ea9a4f731203a84b571",
        "IPY_MODEL_cec75e9901044db398ba3dfb3543c3ec",
        "IPY_MODEL_fc091bf6c0dd459b94c9e5fd32fb379b",
        "IPY_MODEL_15149c5283fe4e7bb146193a9c9eb6df",
        "IPY_MODEL_f8b64ccd46244ab090c49ceaa6a7e7e2",
        "IPY_MODEL_0a157f9de2ab45e689dd6ca383b5fe63",
        "IPY_MODEL_9337d43492f54f11afcf4549d6f1fc13",
        "IPY_MODEL_f13ed0222b7541989ef7f3d76b68aa37",
        "IPY_MODEL_58b6d0ae623f447386ffd58e0052aca2",
        "IPY_MODEL_076c8bcf4473421bbf8b38f924e3a584",
        "IPY_MODEL_755200d1815944b99db014cef2d559ec",
        "IPY_MODEL_9dace204790a43c6b7edf6b8acced86e",
        "IPY_MODEL_e087484a1b1f486699006ea28af5f153",
        "IPY_MODEL_7d00aa1256404871864fdbb55a2ec91e",
        "IPY_MODEL_a82912ee76ac44f4a7121467e250c22d",
        "IPY_MODEL_2b475d998dfa44c98411a681d639a22e"
       ],
       "layout": "IPY_MODEL_ebc0c0321f444e77ba1670039054e33e"
      }
     },
     "d0298315d5934a42abc6655d4e3297ce": {
      "model_module": "jupyter-leaflet",
      "model_module_version": "^0.17.0",
      "model_name": "LeafletTileLayerModel",
      "state": {
       "_model_module_version": "^0.17.0",
       "_view_module_version": "^0.17.0",
       "attribution": "(C) OpenStreetMap contributors, Tiles courtesy of Breton OpenStreetMap Team",
       "max_zoom": 19,
       "name": "OpenStreetMap.BZH",
       "options": [
        "attribution",
        "bounds",
        "detect_retina",
        "max_native_zoom",
        "max_zoom",
        "min_native_zoom",
        "min_zoom",
        "no_wrap",
        "tile_size",
        "tms"
       ],
       "url": "https://tile.openstreetmap.bzh/br/{z}/{x}/{y}.png"
      }
     },
     "d0a2ef501d6c484d84eb7d496f6b94dc": {
      "model_module": "jupyter-leaflet",
      "model_module_version": "^0.17.0",
      "model_name": "LeafletTileLayerModel",
      "state": {
       "_model_module_version": "^0.17.0",
       "_view_module_version": "^0.17.0",
       "attribution": "CyclOSM | Map data: (C) OpenStreetMap contributors",
       "max_zoom": 20,
       "name": "CyclOSM",
       "options": [
        "attribution",
        "bounds",
        "detect_retina",
        "max_native_zoom",
        "max_zoom",
        "min_native_zoom",
        "min_zoom",
        "no_wrap",
        "tile_size",
        "tms"
       ],
       "url": "https://a.tile-cyclosm.openstreetmap.fr/cyclosm/{z}/{x}/{y}.png"
      }
     },
     "d0e57df4293a4253847b0923421f139d": {
      "model_module": "@jupyter-widgets/base",
      "model_module_version": "1.2.0",
      "model_name": "LayoutModel",
      "state": {}
     },
     "d3149a60560c43d0a9ddfd118905917c": {
      "model_module": "jupyter-leaflet",
      "model_module_version": "^0.17.0",
      "model_name": "LeafletWMSLayerModel",
      "state": {
       "_model_module_version": "^0.17.0",
       "_view_module_version": "^0.17.0",
       "attribution": "FWS",
       "crs": {
        "custom": false,
        "name": "EPSG3857"
       },
       "format": "image/png",
       "layers": "1",
       "name": "FWS NWI Wetlands",
       "options": [
        "attribution",
        "bounds",
        "detect_retina",
        "format",
        "layers",
        "max_native_zoom",
        "max_zoom",
        "min_native_zoom",
        "min_zoom",
        "no_wrap",
        "styles",
        "tile_size",
        "tms",
        "transparent",
        "uppercase"
       ],
       "transparent": true,
       "url": "https://www.fws.gov/wetlands/arcgis/services/Wetlands/MapServer/WMSServer?"
      }
     },
     "d32ab0bddfba40b79e623b9d3c3a46c0": {
      "model_module": "jupyter-leaflet",
      "model_module_version": "^0.17.0",
      "model_name": "LeafletTileLayerModel",
      "state": {
       "_model_module_version": "^0.17.0",
       "_view_module_version": "^0.17.0",
       "attribution": "Google",
       "max_zoom": 22,
       "name": "Google Satellite",
       "options": [
        "attribution",
        "bounds",
        "detect_retina",
        "max_native_zoom",
        "max_zoom",
        "min_native_zoom",
        "min_zoom",
        "no_wrap",
        "tile_size",
        "tms"
       ],
       "url": "https://mt1.google.com/vt/lyrs=y&x={x}&y={y}&z={z}"
      }
     },
     "d36f687601174f09800e1deebdc0d265": {
      "model_module": "@jupyter-widgets/controls",
      "model_module_version": "1.5.0",
      "model_name": "DescriptionStyleModel",
      "state": {
       "description_width": ""
      }
     },
     "d442911db1844d1fb40c6ffdd655314d": {
      "model_module": "jupyter-leaflet",
      "model_module_version": "^0.17.0",
      "model_name": "LeafletTileLayerModel",
      "state": {
       "_model_module_version": "^0.17.0",
       "_view_module_version": "^0.17.0",
       "attribution": "Imagery provided by services from the Global Imagery Browse Services (GIBS), operated by the NASA/GSFC/Earth Science Data and Information System (ESDIS) with funding provided by NASA/HQ.",
       "max_zoom": 6,
       "name": "NASAGIBS.ModisTerraAOD",
       "options": [
        "attribution",
        "bounds",
        "detect_retina",
        "max_native_zoom",
        "max_zoom",
        "min_native_zoom",
        "min_zoom",
        "no_wrap",
        "tile_size",
        "tms"
       ],
       "url": "https://map1.vis.earthdata.nasa.gov/wmts-webmerc/MODIS_Terra_Aerosol/default//GoogleMapsCompatible_Level6/{z}/{y}/{x}.png"
      }
     },
     "d506cfda63c542eea7ab601e8a0da9c0": {
      "model_module": "@jupyter-widgets/base",
      "model_module_version": "1.2.0",
      "model_name": "LayoutModel",
      "state": {
       "height": "auto",
       "padding": "0px 0px 0px 4px",
       "width": "auto"
      }
     },
     "d5fbf56b110c448cbfdc9838081a171d": {
      "model_module": "@jupyter-widgets/controls",
      "model_module_version": "1.5.0",
      "model_name": "ButtonStyleModel",
      "state": {
       "button_color": "#50bf8f"
      }
     },
     "d6105575d87e4280bebf8b4f985b835e": {
      "model_module": "jupyter-leaflet",
      "model_module_version": "^0.17.0",
      "model_name": "LeafletGeoJSONModel",
      "state": {
       "_model_module_version": "^0.17.0",
       "_view_module_version": "^0.17.0",
       "data": {
        "features": [
         {
          "geometry": {
           "coordinates": [
            [
             -124.16403913566536,
             40.86756
            ],
            [
             -124.16403127799998,
             40.86756689300006
            ],
            [
             -124.16380638099997,
             40.867813614000056
            ],
            [
             -124.16377567199999,
             40.86785028000003
            ],
            [
             -124.16374774599996,
             40.86789935100006
            ],
            [
             -124.16323902299996,
             40.86893059800008
            ],
            [
             -124.16321393099997,
             40.868986352000036
            ],
            [
             -124.16319588199997,
             40.86904915400004
            ],
            [
             -124.16318270699998,
             40.86911682700003
            ],
            [
             -124.16317256399998,
             40.86918753100008
            ],
            [
             -124.16315498899996,
             40.869331654000064
            ],
            [
             -124.163144494,
             40.869402008000066
            ],
            [
             -124.16313065999998,
             40.86946902100004
            ],
            [
             -124.16311153199996,
             40.86953074100006
            ],
            [
             -124.16308475799997,
             40.86958481600004
            ],
            [
             -124.16305538899996,
             40.869622820000075
            ],
            [
             -124.16259300599995,
             40.87027067100007
            ]
           ],
           "type": "LineString"
          },
          "id": "0",
          "properties": {
           "CSU_ID": 19775,
           "ERODIBILITY": "High",
           "MEAN_SIG_WAVEHEIGHT": 2.305355,
           "TIDAL_RANGE": 2.983468,
           "river_label": "moderate river discharge",
           "sinuosity_label": "straight",
           "slope_label": "flat",
           "style": {
            "color": "yellow",
            "dashArray": "5",
            "fillOpacity": 0.5,
            "fill_color": "yellow",
            "opacity": 1,
            "weight": 4
           },
           "turbid_label": "clear"
          },
          "type": "Feature"
         },
         {
          "geometry": {
           "coordinates": [
            [
             -124.16259300599995,
             40.87027067100007
            ],
            [
             -124.16238196399996,
             40.87056636400007
            ],
            [
             -124.16205675199996,
             40.871097760000055
            ],
            [
             -124.16178549799997,
             40.87145211700005
            ],
            [
             -124.16156997299998,
             40.871727458000066
            ],
            [
             -124.161351707,
             40.87216367700006
            ],
            [
             -124.16132671199995,
             40.87221953200003
            ],
            [
             -124.16130875599998,
             40.87228242200007
            ],
            [
             -124.16129565399996,
             40.87235017000006
            ],
            [
             -124.16128556899997,
             40.87242093200007
            ],
            [
             -124.16126805599998,
             40.87256511700008
            ],
            [
             -124.161257563,
             40.87263547200007
            ],
            [
             -124.16124370999995,
             40.87270246800006
            ],
            [
             -124.16122454199996,
             40.872764149000034
            ],
            [
             -124.16119770599994,
             40.872818161000055
            ],
            [
             -124.16116826599995,
             40.87285609500003
            ],
            [
             -124.16097883699996,
             40.873070909000035
            ],
            [
             -124.16076148499997,
             40.87334443300006
            ],
            [
             -124.160541546,
             40.87377906100005
            ],
            [
             -124.16051785899998,
             40.87383239800005
            ],
            [
             -124.16050098999995,
             40.873892556000044
            ],
            [
             -124.16048917899997,
             40.87395778200005
            ],
            [
             -124.16048101599995,
             40.87402666200006
            ],
            [
             -124.16047534899997,
             40.87409805200008
            ],
            [
             -124.16045995699994,
             40.87439105100003
            ],
            [
             -124.16045386399998,
             40.874462116000075
            ],
            [
             -124.160445026,
             40.874530469000035
            ],
            [
             -124.16043220799997,
             40.874594881000064
            ],
            [
             -124.16041387499996,
             40.87465382200003
            ],
            [
             -124.16038810699996,
             40.874705379000034
            ],
            [
             -124.16035843199995,
             40.874743410000065
            ],
            [
             -124.16016592499994,
             40.874958108000044
            ],
            [
             -124.16003086699999,
             40.87509456400005
            ],
            [
             -124.16000124199996,
             40.875132422000036
            ],
            [
             -124.15997471699995,
             40.875186358000065
            ],
            [
             -124.15995675699997,
             40.875247975000036
            ],
            [
             -124.15994546699994,
             40.875314907000075
            ],
            [
             -124.15993952999997,
             40.875385178000045
            ],
            [
             -124.15993813699998,
             40.875457064000045
            ],
            [
             -124.15994093499995,
             40.87552897300003
            ],
            [
             -124.15994798999998,
             40.87559930900005
            ],
            [
             -124.15995979799999,
             40.87566635300004
            ],
            [
             -124.15997725799997,
             40.87572812500008
            ],
            [
             -124.16000172399998,
             40.87578225900006
            ],
            [
             -124.16002791299996,
             40.875820307000026
            ],
            [
             -124.16008359899996,
             40.87588657400005
            ],
            [
             -124.16010558999994,
             40.87592043200004
            ],
            [
             -124.16011920399995,
             40.87595764900004
            ],
            [
             -124.160124199,
             40.875996901000065
            ],
            [
             -124.16012075099997,
             40.87603607800003
            ],
            [
             -124.16010859099998,
             40.876073062000046
            ],
            [
             -124.1599086,
             40.87648977300006
            ],
            [
             -124.15988729099996,
             40.87653324000007
            ]
           ],
           "type": "LineString"
          },
          "id": "1",
          "properties": {
           "CSU_ID": 20304,
           "ERODIBILITY": "High",
           "MEAN_SIG_WAVEHEIGHT": 2.305355,
           "TIDAL_RANGE": 2.983468,
           "river_label": "moderate river discharge",
           "sinuosity_label": "straight",
           "slope_label": "sloping",
           "style": {
            "color": "yellow",
            "dashArray": "5",
            "fillOpacity": 0.5,
            "fill_color": "yellow",
            "opacity": 1,
            "weight": 4
           },
           "turbid_label": "turbid"
          },
          "type": "Feature"
         },
         {
          "geometry": {
           "coordinates": [
            [
             -124.15988729099996,
             40.87653324000007
            ],
            [
             -124.15961346399996,
             40.87709180000007
            ],
            [
             -124.159585484,
             40.87714117500008
            ],
            [
             -124.15955475699997,
             40.87717770300003
            ],
            [
             -124.15936185499999,
             40.877363915000046
            ],
            [
             -124.15933012699998,
             40.87738634900006
            ],
            [
             -124.15929424299998,
             40.877399608000076
            ],
            [
             -124.15925587399994,
             40.877403865000076
            ],
            [
             -124.15921742399996,
             40.877399670000045
            ],
            [
             -124.15918128899995,
             40.87738714000005
            ],
            [
             -124.159149104,
             40.87736682100007
            ],
            [
             -124.15908943199997,
             40.87731773200005
            ],
            [
             -124.15905723299994,
             40.87729739200006
            ],
            [
             -124.15902107699998,
             40.87728482700004
            ],
            [
             -124.15898260399996,
             40.877280591000044
            ],
            [
             -124.15894422099996,
             40.87728480800007
            ],
            [
             -124.15890834199996,
             40.87729803700006
            ],
            [
             -124.158876653,
             40.877320471000075
            ],
            [
             -124.15868669899999,
             40.87750911000006
            ],
            [
             -124.15865753299994,
             40.877547046000075
            ],
            [
             -124.15863103999999,
             40.87760156400003
            ],
            [
             -124.15861219899995,
             40.877664055000025
            ],
            [
             -124.15859862999997,
             40.877731984000036
            ],
            [
             -124.15858834499994,
             40.877803260000064
            ],
            [
             -124.15857086399996,
             40.87794886000006
            ],
            [
             -124.15856048199998,
             40.87801994000006
            ],
            [
             -124.15854675899999,
             40.878087606000065
            ],
            [
             -124.15852772099998,
             40.87814988900004
            ],
            [
             -124.15850100299997,
             40.87820442300006
            ],
            [
             -124.15847165399998,
             40.87824273700005
            ],
            [
             -124.15828316299996,
             40.87845953000004
            ],
            [
             -124.15815077299999,
             40.87859692300003
            ],
            [
             -124.15812137699999,
             40.878634945000044
            ],
            [
             -124.158094587,
             40.87868904800007
            ],
            [
             -124.15807545799998,
             40.87875080200007
            ],
            [
             -124.158061627,
             40.87881784600006
            ],
            [
             -124.15805111499998,
             40.87888820500007
            ],
            [
             -124.15803330699998,
             40.87903212500004
            ],
            [
             -124.15802282599998,
             40.87910250300007
            ],
            [
             -124.15800903899998,
             40.87916957300007
            ],
            [
             -124.15798997199994,
             40.87923136100005
            ],
            [
             -124.15796325599996,
             40.87928549800006
            ],
            [
             -124.15793392599994,
             40.879323544000044
            ],
            [
             -124.15774523199997,
             40.87953910400006
            ],
            [
             -124.15752908399998,
             40.87981382300006
            ],
            [
             -124.157257389,
             40.880350613000076
            ],
            [
             -124.15703906899995,
             40.88078677800007
            ],
            [
             -124.15701536399996,
             40.88084007200007
            ],
            [
             -124.15699848999998,
             40.88090019600003
            ],
            [
             -124.15698669799997,
             40.88096540500004
            ],
            [
             -124.15697858199997,
             40.881034287000034
            ],
            [
             -124.15697299699997,
             40.881105699000045
            ],
            [
             -124.15695832199998,
             40.88139901900007
            ],
            [
             -124.15695252699999,
             40.881470222000075
            ],
            [
             -124.15694403499998,
             40.881538729000056
            ],
            [
             -124.15693161099995,
             40.88160330300008
            ],
            [
             -124.15691371599996,
             40.88166240600003
            ],
            [
             -124.15688841499997,
             40.881714104000025
            ],
            [
             -124.15685915599994,
             40.88175221900008
            ],
            [
             -124.15666690599994,
             40.881964211000025
            ],
            [
             -124.156634753,
             40.88199943200004
            ],
            [
             -124.156598439,
             40.882030490000034
            ],
            [
             -124.15652090099996,
             40.882087700000056
            ],
            [
             -124.15648458599998,
             40.882118760000026
            ],
            [
             -124.156452436,
             40.88215398400007
            ],
            [
             -124.15634659699998,
             40.88227073300004
            ]
           ],
           "type": "LineString"
          },
          "id": "2",
          "properties": {
           "CSU_ID": 19802,
           "ERODIBILITY": "High",
           "MEAN_SIG_WAVEHEIGHT": 2.305355,
           "TIDAL_RANGE": 2.983468,
           "river_label": "moderate river discharge",
           "sinuosity_label": "straight",
           "slope_label": "flat",
           "style": {
            "color": "yellow",
            "dashArray": "5",
            "fillOpacity": 0.5,
            "fill_color": "yellow",
            "opacity": 1,
            "weight": 4
           },
           "turbid_label": "turbid"
          },
          "type": "Feature"
         },
         {
          "geometry": {
           "coordinates": [
            [
             -124.15841834899999,
             40.879638502000034
            ],
            [
             -124.15838015299994,
             40.879634569000075
            ],
            [
             -124.15836270799997,
             40.87963067700008
            ],
            [
             -124.15834711899998,
             40.879624861000025
            ],
            [
             -124.15833417999994,
             40.87961637700005
            ],
            [
             -124.15832457599998,
             40.87960457300005
            ],
            [
             -124.158317792,
             40.87958998000005
            ],
            [
             -124.15831313999996,
             40.87957298200007
            ],
            [
             -124.158310127,
             40.879551578000076
            ],
            [
             -124.15830843599997,
             40.87952648400005
            ],
            [
             -124.15830788,
             40.87947104700004
            ],
            [
             -124.158311374,
             40.879364140000064
            ],
            [
             -124.15841828199996,
             40.879360646000066
            ],
            [
             -124.15847371799998,
             40.87936120100005
            ],
            [
             -124.15849881399998,
             40.87936289100003
            ],
            [
             -124.15852021799998,
             40.87936590600003
            ],
            [
             -124.15853721499997,
             40.87937055700007
            ],
            [
             -124.15855180699998,
             40.879377341000065
            ],
            [
             -124.15856361299996,
             40.87938694600007
            ],
            [
             -124.15857209599994,
             40.879399884000065
            ],
            [
             -124.15857791099995,
             40.87941547300005
            ],
            [
             -124.158581804,
             40.87943291800008
            ],
            [
             -124.15858573699995,
             40.87947111500006
            ],
            [
             -124.15858618099998,
             40.879511053000044
            ],
            [
             -124.15858343399998,
             40.87955016400008
            ],
            [
             -124.15858048099994,
             40.87956856100004
            ],
            [
             -124.158576031,
             40.87958560800007
            ],
            [
             -124.15856957199998,
             40.879600725000046
            ],
            [
             -124.15856040299997,
             40.87961316800005
            ],
            [
             -124.15854795999996,
             40.87962233700006
            ],
            [
             -124.15853284399998,
             40.879628797000066
            ],
            [
             -124.15851579599996,
             40.879633246000026
            ],
            [
             -124.15849739899994,
             40.87963619900006
            ],
            [
             -124.15845828799996,
             40.87963894600006
            ],
            [
             -124.15841834899999,
             40.879638502000034
            ]
           ],
           "type": "LineString"
          },
          "id": "3",
          "properties": {
           "CSU_ID": 19802,
           "ERODIBILITY": "High",
           "MEAN_SIG_WAVEHEIGHT": 2.305355,
           "TIDAL_RANGE": 2.983468,
           "river_label": "moderate river discharge",
           "sinuosity_label": "straight",
           "slope_label": "flat",
           "style": {
            "color": "yellow",
            "dashArray": "5",
            "fillOpacity": 0.5,
            "fill_color": "yellow",
            "opacity": 1,
            "weight": 4
           },
           "turbid_label": "turbid"
          },
          "type": "Feature"
         },
         {
          "geometry": {
           "coordinates": [
            [
             -124.15634659699998,
             40.88227073300004
            ],
            [
             -124.15626022199996,
             40.882366012000034
            ],
            [
             -124.15623097599996,
             40.88240413900007
            ],
            [
             -124.15620569099997,
             40.88245585300007
            ],
            [
             -124.15618781799998,
             40.88251497700003
            ],
            [
             -124.15617541999995,
             40.88257957800005
            ],
            [
             -124.15616695999995,
             40.88264811700003
            ],
            [
             -124.15616120199996,
             40.88271935800003
            ],
            [
             -124.15614677899998,
             40.883012929000074
            ],
            [
             -124.15614128799996,
             40.88308443600005
            ],
            [
             -124.15613327999995,
             40.88315342900006
            ],
            [
             -124.15612161499996,
             40.88321876400005
            ],
            [
             -124.15610488399994,
             40.883279033000065
            ],
            [
             -124.15608133599994,
             40.88333248500004
            ],
            [
             -124.15584084199998,
             40.88382354200007
            ],
            [
             -124.15581269999996,
             40.88387241800007
            ],
            [
             -124.15578180999995,
             40.883908922000046
            ],
            [
             -124.15555582999997,
             40.88415489100004
            ],
            [
             -124.155519788,
             40.88418631600007
            ],
            [
             -124.15544280399996,
             40.88424432200003
            ],
            [
             -124.15540672499998,
             40.884275770000045
            ],
            [
             -124.15517968299997,
             40.88452241600004
            ],
            [
             -124.15514850599999,
             40.88455909000004
            ],
            [
             -124.15511999399996,
             40.884608179000054
            ],
            [
             -124.154878968,
             40.88509626900003
            ],
            [
             -124.15485776699995,
             40.885146889000055
            ],
            [
             -124.15484489599999,
             40.885202900000024
            ],
            [
             -124.15483922599998,
             40.88526201500008
            ],
            [
             -124.15484018199999,
             40.88532212400003
            ],
            [
             -124.15484770599994,
             40.88538118200006
            ],
            [
             -124.15486226299998,
             40.88543707800005
            ],
            [
             -124.15488483499996,
             40.885487529000045
            ],
            [
             -124.15491148999996,
             40.885526036000044
            ],
            [
             -124.15497188999996,
             40.88559699100006
            ],
            [
             -124.15499848999997,
             40.88563544100003
            ],
            [
             -124.15502095699998,
             40.88568578700006
            ],
            [
             -124.15503536899996,
             40.88574153900004
            ],
            [
             -124.15504272199996,
             40.88580042500007
            ],
            [
             -124.15504349399998,
             40.885860352000066
            ],
            [
             -124.15503765699998,
             40.88591929800003
            ],
            [
             -124.15502466799995,
             40.88597519000007
            ],
            [
             -124.15479055699996,
             40.88664676900004
            ],
            [
             -124.15464348299997,
             40.88694654200003
            ],
            [
             -124.15455851499996,
             40.88717215300005
            ],
            [
             -124.15434604499995,
             40.887795968000034
            ],
            [
             -124.15427835999998,
             40.88805233700003
            ],
            [
             -124.15419291799998,
             40.88845441900003
            ],
            [
             -124.15412563799998,
             40.888659793000045
            ]
           ],
           "type": "LineString"
          },
          "id": "4",
          "properties": {
           "CSU_ID": 19802,
           "ERODIBILITY": "High",
           "MEAN_SIG_WAVEHEIGHT": 2.305355,
           "TIDAL_RANGE": 2.983468,
           "river_label": "moderate river discharge",
           "sinuosity_label": "straight",
           "slope_label": "flat",
           "style": {
            "color": "yellow",
            "dashArray": "5",
            "fillOpacity": 0.5,
            "fill_color": "yellow",
            "opacity": 1,
            "weight": 4
           },
           "turbid_label": "turbid"
          },
          "type": "Feature"
         },
         {
          "geometry": {
           "coordinates": [
            [
             -124.15412563799998,
             40.888659793000045
            ],
            [
             -124.15396916199995,
             40.88913743300003
            ],
            [
             -124.15394988199995,
             40.88918888500007
            ],
            [
             -124.15392291599994,
             40.88922744700005
            ],
            [
             -124.15389333699994,
             40.88924706500006
            ],
            [
             -124.15385945999998,
             40.88925589300004
            ],
            [
             -124.15382411799999,
             40.88925491300006
            ],
            [
             -124.15379004199997,
             40.889244577000056
            ],
            [
             -124.15375912899998,
             40.88922569600004
            ],
            [
             -124.15370038299994,
             40.88917796900006
            ],
            [
             -124.153668101,
             40.88915782500004
            ],
            [
             -124.15363161899995,
             40.88914526000008
            ],
            [
             -124.15359264099999,
             40.88914089100007
            ],
            [
             -124.15355361199994,
             40.889144886000054
            ],
            [
             -124.15351698799998,
             40.88915784200003
            ],
            [
             -124.15348447199995,
             40.889179969000054
            ],
            [
             -124.15345456399996,
             40.88920856900006
            ],
            [
             -124.15332351899997,
             40.88933388600003
            ],
            [
             -124.1533171538803,
             40.88934
            ]
           ],
           "type": "LineString"
          },
          "id": "5",
          "properties": {
           "CSU_ID": 19802,
           "ERODIBILITY": "High",
           "MEAN_SIG_WAVEHEIGHT": 2.305355,
           "TIDAL_RANGE": 2.983468,
           "river_label": "moderate river discharge",
           "sinuosity_label": "straight",
           "slope_label": "flat",
           "style": {
            "color": "yellow",
            "dashArray": "5",
            "fillOpacity": 0.5,
            "fill_color": "yellow",
            "opacity": 1,
            "weight": 4
           },
           "turbid_label": "turbid"
          },
          "type": "Feature"
         },
         {
          "geometry": {
           "coordinates": [
            [
             -124.16403913566536,
             40.86756
            ],
            [
             -124.16403127799998,
             40.86756689300006
            ],
            [
             -124.16380638099997,
             40.867813614000056
            ],
            [
             -124.16377567199999,
             40.86785028000003
            ],
            [
             -124.16374774599996,
             40.86789935100006
            ],
            [
             -124.16323902299996,
             40.86893059800008
            ],
            [
             -124.16321393099997,
             40.868986352000036
            ],
            [
             -124.16319588199997,
             40.86904915400004
            ],
            [
             -124.16318270699998,
             40.86911682700003
            ],
            [
             -124.16317256399998,
             40.86918753100008
            ],
            [
             -124.16315498899996,
             40.869331654000064
            ],
            [
             -124.163144494,
             40.869402008000066
            ],
            [
             -124.16313065999998,
             40.86946902100004
            ],
            [
             -124.16311153199996,
             40.86953074100006
            ],
            [
             -124.16308475799997,
             40.86958481600004
            ],
            [
             -124.16305538899996,
             40.869622820000075
            ],
            [
             -124.16259300599995,
             40.87027067100007
            ]
           ],
           "type": "LineString"
          },
          "id": "6",
          "properties": {
           "CSU_ID": 19775,
           "ERODIBILITY": "High",
           "MEAN_SIG_WAVEHEIGHT": 2.305355,
           "TIDAL_RANGE": 2.983468,
           "river_label": "moderate river discharge",
           "sinuosity_label": "straight",
           "slope_label": "flat",
           "style": {
            "color": "yellow",
            "dashArray": "5",
            "fillOpacity": 0.5,
            "fill_color": "yellow",
            "opacity": 1,
            "weight": 4
           },
           "turbid_label": "clear"
          },
          "type": "Feature"
         },
         {
          "geometry": {
           "coordinates": [
            [
             -124.16259300599995,
             40.87027067100007
            ],
            [
             -124.16238196399996,
             40.87056636400007
            ],
            [
             -124.16205675199996,
             40.871097760000055
            ],
            [
             -124.16178549799997,
             40.87145211700005
            ],
            [
             -124.16156997299998,
             40.871727458000066
            ],
            [
             -124.161351707,
             40.87216367700006
            ],
            [
             -124.16132671199995,
             40.87221953200003
            ],
            [
             -124.16130875599998,
             40.87228242200007
            ],
            [
             -124.16129565399996,
             40.87235017000006
            ],
            [
             -124.16128556899997,
             40.87242093200007
            ],
            [
             -124.16126805599998,
             40.87256511700008
            ],
            [
             -124.161257563,
             40.87263547200007
            ],
            [
             -124.16124370999995,
             40.87270246800006
            ],
            [
             -124.16122454199996,
             40.872764149000034
            ],
            [
             -124.16119770599994,
             40.872818161000055
            ],
            [
             -124.16116826599995,
             40.87285609500003
            ],
            [
             -124.16097883699996,
             40.873070909000035
            ],
            [
             -124.16076148499997,
             40.87334443300006
            ],
            [
             -124.160541546,
             40.87377906100005
            ],
            [
             -124.16051785899998,
             40.87383239800005
            ],
            [
             -124.16050098999995,
             40.873892556000044
            ],
            [
             -124.16048917899997,
             40.87395778200005
            ],
            [
             -124.16048101599995,
             40.87402666200006
            ],
            [
             -124.16047534899997,
             40.87409805200008
            ],
            [
             -124.16045995699994,
             40.87439105100003
            ],
            [
             -124.16045386399998,
             40.874462116000075
            ],
            [
             -124.160445026,
             40.874530469000035
            ],
            [
             -124.16043220799997,
             40.874594881000064
            ],
            [
             -124.16041387499996,
             40.87465382200003
            ],
            [
             -124.16038810699996,
             40.874705379000034
            ],
            [
             -124.16035843199995,
             40.874743410000065
            ],
            [
             -124.16016592499994,
             40.874958108000044
            ],
            [
             -124.16003086699999,
             40.87509456400005
            ],
            [
             -124.16000124199996,
             40.875132422000036
            ],
            [
             -124.15997471699995,
             40.875186358000065
            ],
            [
             -124.15995675699997,
             40.875247975000036
            ],
            [
             -124.15994546699994,
             40.875314907000075
            ],
            [
             -124.15993952999997,
             40.875385178000045
            ],
            [
             -124.15993813699998,
             40.875457064000045
            ],
            [
             -124.15994093499995,
             40.87552897300003
            ],
            [
             -124.15994798999998,
             40.87559930900005
            ],
            [
             -124.15995979799999,
             40.87566635300004
            ],
            [
             -124.15997725799997,
             40.87572812500008
            ],
            [
             -124.16000172399998,
             40.87578225900006
            ],
            [
             -124.16002791299996,
             40.875820307000026
            ],
            [
             -124.16008359899996,
             40.87588657400005
            ],
            [
             -124.16010558999994,
             40.87592043200004
            ],
            [
             -124.16011920399995,
             40.87595764900004
            ],
            [
             -124.160124199,
             40.875996901000065
            ],
            [
             -124.16012075099997,
             40.87603607800003
            ],
            [
             -124.16010859099998,
             40.876073062000046
            ],
            [
             -124.1599086,
             40.87648977300006
            ],
            [
             -124.15988729099996,
             40.87653324000007
            ]
           ],
           "type": "LineString"
          },
          "id": "7",
          "properties": {
           "CSU_ID": 20304,
           "ERODIBILITY": "High",
           "MEAN_SIG_WAVEHEIGHT": 2.305355,
           "TIDAL_RANGE": 2.983468,
           "river_label": "moderate river discharge",
           "sinuosity_label": "straight",
           "slope_label": "sloping",
           "style": {
            "color": "yellow",
            "dashArray": "5",
            "fillOpacity": 0.5,
            "fill_color": "yellow",
            "opacity": 1,
            "weight": 4
           },
           "turbid_label": "turbid"
          },
          "type": "Feature"
         },
         {
          "geometry": {
           "coordinates": [
            [
             -124.15988729099996,
             40.87653324000007
            ],
            [
             -124.15961346399996,
             40.87709180000007
            ],
            [
             -124.159585484,
             40.87714117500008
            ],
            [
             -124.15955475699997,
             40.87717770300003
            ],
            [
             -124.15936185499999,
             40.877363915000046
            ],
            [
             -124.15933012699998,
             40.87738634900006
            ],
            [
             -124.15929424299998,
             40.877399608000076
            ],
            [
             -124.15925587399994,
             40.877403865000076
            ],
            [
             -124.15921742399996,
             40.877399670000045
            ],
            [
             -124.15918128899995,
             40.87738714000005
            ],
            [
             -124.159149104,
             40.87736682100007
            ],
            [
             -124.15908943199997,
             40.87731773200005
            ],
            [
             -124.15905723299994,
             40.87729739200006
            ],
            [
             -124.15902107699998,
             40.87728482700004
            ],
            [
             -124.15898260399996,
             40.877280591000044
            ],
            [
             -124.15894422099996,
             40.87728480800007
            ],
            [
             -124.15890834199996,
             40.87729803700006
            ],
            [
             -124.158876653,
             40.877320471000075
            ],
            [
             -124.15868669899999,
             40.87750911000006
            ],
            [
             -124.15865753299994,
             40.877547046000075
            ],
            [
             -124.15863103999999,
             40.87760156400003
            ],
            [
             -124.15861219899995,
             40.877664055000025
            ],
            [
             -124.15859862999997,
             40.877731984000036
            ],
            [
             -124.15858834499994,
             40.877803260000064
            ],
            [
             -124.15857086399996,
             40.87794886000006
            ],
            [
             -124.15856048199998,
             40.87801994000006
            ],
            [
             -124.15854675899999,
             40.878087606000065
            ],
            [
             -124.15852772099998,
             40.87814988900004
            ],
            [
             -124.15850100299997,
             40.87820442300006
            ],
            [
             -124.15847165399998,
             40.87824273700005
            ],
            [
             -124.15828316299996,
             40.87845953000004
            ],
            [
             -124.15815077299999,
             40.87859692300003
            ],
            [
             -124.15812137699999,
             40.878634945000044
            ],
            [
             -124.158094587,
             40.87868904800007
            ],
            [
             -124.15807545799998,
             40.87875080200007
            ],
            [
             -124.158061627,
             40.87881784600006
            ],
            [
             -124.15805111499998,
             40.87888820500007
            ],
            [
             -124.15803330699998,
             40.87903212500004
            ],
            [
             -124.15802282599998,
             40.87910250300007
            ],
            [
             -124.15800903899998,
             40.87916957300007
            ],
            [
             -124.15798997199994,
             40.87923136100005
            ],
            [
             -124.15796325599996,
             40.87928549800006
            ],
            [
             -124.15793392599994,
             40.879323544000044
            ],
            [
             -124.15774523199997,
             40.87953910400006
            ],
            [
             -124.15752908399998,
             40.87981382300006
            ],
            [
             -124.157257389,
             40.880350613000076
            ],
            [
             -124.15703906899995,
             40.88078677800007
            ],
            [
             -124.15701536399996,
             40.88084007200007
            ],
            [
             -124.15699848999998,
             40.88090019600003
            ],
            [
             -124.15698669799997,
             40.88096540500004
            ],
            [
             -124.15697858199997,
             40.881034287000034
            ],
            [
             -124.15697299699997,
             40.881105699000045
            ],
            [
             -124.15695832199998,
             40.88139901900007
            ],
            [
             -124.15695252699999,
             40.881470222000075
            ],
            [
             -124.15694403499998,
             40.881538729000056
            ],
            [
             -124.15693161099995,
             40.88160330300008
            ],
            [
             -124.15691371599996,
             40.88166240600003
            ],
            [
             -124.15688841499997,
             40.881714104000025
            ],
            [
             -124.15685915599994,
             40.88175221900008
            ],
            [
             -124.15666690599994,
             40.881964211000025
            ],
            [
             -124.156634753,
             40.88199943200004
            ],
            [
             -124.156598439,
             40.882030490000034
            ],
            [
             -124.15652090099996,
             40.882087700000056
            ],
            [
             -124.15648458599998,
             40.882118760000026
            ],
            [
             -124.156452436,
             40.88215398400007
            ],
            [
             -124.15634659699998,
             40.88227073300004
            ]
           ],
           "type": "LineString"
          },
          "id": "8",
          "properties": {
           "CSU_ID": 19802,
           "ERODIBILITY": "High",
           "MEAN_SIG_WAVEHEIGHT": 2.305355,
           "TIDAL_RANGE": 2.983468,
           "river_label": "moderate river discharge",
           "sinuosity_label": "straight",
           "slope_label": "flat",
           "style": {
            "color": "yellow",
            "dashArray": "5",
            "fillOpacity": 0.5,
            "fill_color": "yellow",
            "opacity": 1,
            "weight": 4
           },
           "turbid_label": "turbid"
          },
          "type": "Feature"
         },
         {
          "geometry": {
           "coordinates": [
            [
             -124.15841834899999,
             40.879638502000034
            ],
            [
             -124.15838015299994,
             40.879634569000075
            ],
            [
             -124.15836270799997,
             40.87963067700008
            ],
            [
             -124.15834711899998,
             40.879624861000025
            ],
            [
             -124.15833417999994,
             40.87961637700005
            ],
            [
             -124.15832457599998,
             40.87960457300005
            ],
            [
             -124.158317792,
             40.87958998000005
            ],
            [
             -124.15831313999996,
             40.87957298200007
            ],
            [
             -124.158310127,
             40.879551578000076
            ],
            [
             -124.15830843599997,
             40.87952648400005
            ],
            [
             -124.15830788,
             40.87947104700004
            ],
            [
             -124.158311374,
             40.879364140000064
            ],
            [
             -124.15841828199996,
             40.879360646000066
            ],
            [
             -124.15847371799998,
             40.87936120100005
            ],
            [
             -124.15849881399998,
             40.87936289100003
            ],
            [
             -124.15852021799998,
             40.87936590600003
            ],
            [
             -124.15853721499997,
             40.87937055700007
            ],
            [
             -124.15855180699998,
             40.879377341000065
            ],
            [
             -124.15856361299996,
             40.87938694600007
            ],
            [
             -124.15857209599994,
             40.879399884000065
            ],
            [
             -124.15857791099995,
             40.87941547300005
            ],
            [
             -124.158581804,
             40.87943291800008
            ],
            [
             -124.15858573699995,
             40.87947111500006
            ],
            [
             -124.15858618099998,
             40.879511053000044
            ],
            [
             -124.15858343399998,
             40.87955016400008
            ],
            [
             -124.15858048099994,
             40.87956856100004
            ],
            [
             -124.158576031,
             40.87958560800007
            ],
            [
             -124.15856957199998,
             40.879600725000046
            ],
            [
             -124.15856040299997,
             40.87961316800005
            ],
            [
             -124.15854795999996,
             40.87962233700006
            ],
            [
             -124.15853284399998,
             40.879628797000066
            ],
            [
             -124.15851579599996,
             40.879633246000026
            ],
            [
             -124.15849739899994,
             40.87963619900006
            ],
            [
             -124.15845828799996,
             40.87963894600006
            ],
            [
             -124.15841834899999,
             40.879638502000034
            ]
           ],
           "type": "LineString"
          },
          "id": "9",
          "properties": {
           "CSU_ID": 19802,
           "ERODIBILITY": "High",
           "MEAN_SIG_WAVEHEIGHT": 2.305355,
           "TIDAL_RANGE": 2.983468,
           "river_label": "moderate river discharge",
           "sinuosity_label": "straight",
           "slope_label": "flat",
           "style": {
            "color": "yellow",
            "dashArray": "5",
            "fillOpacity": 0.5,
            "fill_color": "yellow",
            "opacity": 1,
            "weight": 4
           },
           "turbid_label": "turbid"
          },
          "type": "Feature"
         },
         {
          "geometry": {
           "coordinates": [
            [
             -124.15634659699998,
             40.88227073300004
            ],
            [
             -124.15626022199996,
             40.882366012000034
            ],
            [
             -124.15623097599996,
             40.88240413900007
            ],
            [
             -124.15620569099997,
             40.88245585300007
            ],
            [
             -124.15618781799998,
             40.88251497700003
            ],
            [
             -124.15617541999995,
             40.88257957800005
            ],
            [
             -124.15616695999995,
             40.88264811700003
            ],
            [
             -124.15616120199996,
             40.88271935800003
            ],
            [
             -124.15614677899998,
             40.883012929000074
            ],
            [
             -124.15614128799996,
             40.88308443600005
            ],
            [
             -124.15613327999995,
             40.88315342900006
            ],
            [
             -124.15612161499996,
             40.88321876400005
            ],
            [
             -124.15610488399994,
             40.883279033000065
            ],
            [
             -124.15608133599994,
             40.88333248500004
            ],
            [
             -124.15584084199998,
             40.88382354200007
            ],
            [
             -124.15581269999996,
             40.88387241800007
            ],
            [
             -124.15578180999995,
             40.883908922000046
            ],
            [
             -124.15555582999997,
             40.88415489100004
            ],
            [
             -124.155519788,
             40.88418631600007
            ],
            [
             -124.15544280399996,
             40.88424432200003
            ],
            [
             -124.15540672499998,
             40.884275770000045
            ],
            [
             -124.15517968299997,
             40.88452241600004
            ],
            [
             -124.15514850599999,
             40.88455909000004
            ],
            [
             -124.15511999399996,
             40.884608179000054
            ],
            [
             -124.154878968,
             40.88509626900003
            ],
            [
             -124.15485776699995,
             40.885146889000055
            ],
            [
             -124.15484489599999,
             40.885202900000024
            ],
            [
             -124.15483922599998,
             40.88526201500008
            ],
            [
             -124.15484018199999,
             40.88532212400003
            ],
            [
             -124.15484770599994,
             40.88538118200006
            ],
            [
             -124.15486226299998,
             40.88543707800005
            ],
            [
             -124.15488483499996,
             40.885487529000045
            ],
            [
             -124.15491148999996,
             40.885526036000044
            ],
            [
             -124.15497188999996,
             40.88559699100006
            ],
            [
             -124.15499848999997,
             40.88563544100003
            ],
            [
             -124.15502095699998,
             40.88568578700006
            ],
            [
             -124.15503536899996,
             40.88574153900004
            ],
            [
             -124.15504272199996,
             40.88580042500007
            ],
            [
             -124.15504349399998,
             40.885860352000066
            ],
            [
             -124.15503765699998,
             40.88591929800003
            ],
            [
             -124.15502466799995,
             40.88597519000007
            ],
            [
             -124.15479055699996,
             40.88664676900004
            ],
            [
             -124.15464348299997,
             40.88694654200003
            ],
            [
             -124.15455851499996,
             40.88717215300005
            ],
            [
             -124.15434604499995,
             40.887795968000034
            ],
            [
             -124.15427835999998,
             40.88805233700003
            ],
            [
             -124.15419291799998,
             40.88845441900003
            ],
            [
             -124.15412563799998,
             40.888659793000045
            ]
           ],
           "type": "LineString"
          },
          "id": "10",
          "properties": {
           "CSU_ID": 19802,
           "ERODIBILITY": "High",
           "MEAN_SIG_WAVEHEIGHT": 2.305355,
           "TIDAL_RANGE": 2.983468,
           "river_label": "moderate river discharge",
           "sinuosity_label": "straight",
           "slope_label": "flat",
           "style": {
            "color": "yellow",
            "dashArray": "5",
            "fillOpacity": 0.5,
            "fill_color": "yellow",
            "opacity": 1,
            "weight": 4
           },
           "turbid_label": "turbid"
          },
          "type": "Feature"
         },
         {
          "geometry": {
           "coordinates": [
            [
             -124.15412563799998,
             40.888659793000045
            ],
            [
             -124.15396916199995,
             40.88913743300003
            ],
            [
             -124.15394988199995,
             40.88918888500007
            ],
            [
             -124.15392291599994,
             40.88922744700005
            ],
            [
             -124.15389333699994,
             40.88924706500006
            ],
            [
             -124.15385945999998,
             40.88925589300004
            ],
            [
             -124.15382411799999,
             40.88925491300006
            ],
            [
             -124.15379004199997,
             40.889244577000056
            ],
            [
             -124.15375912899998,
             40.88922569600004
            ],
            [
             -124.15370038299994,
             40.88917796900006
            ],
            [
             -124.153668101,
             40.88915782500004
            ],
            [
             -124.15363161899995,
             40.88914526000008
            ],
            [
             -124.15359264099999,
             40.88914089100007
            ],
            [
             -124.15355361199994,
             40.889144886000054
            ],
            [
             -124.15351698799998,
             40.88915784200003
            ],
            [
             -124.15348447199995,
             40.889179969000054
            ],
            [
             -124.15345456399996,
             40.88920856900006
            ],
            [
             -124.15332351899997,
             40.88933388600003
            ],
            [
             -124.1533171538803,
             40.88934
            ]
           ],
           "type": "LineString"
          },
          "id": "11",
          "properties": {
           "CSU_ID": 19802,
           "ERODIBILITY": "High",
           "MEAN_SIG_WAVEHEIGHT": 2.305355,
           "TIDAL_RANGE": 2.983468,
           "river_label": "moderate river discharge",
           "sinuosity_label": "straight",
           "slope_label": "flat",
           "style": {
            "color": "yellow",
            "dashArray": "5",
            "fillOpacity": 0.5,
            "fill_color": "yellow",
            "opacity": 1,
            "weight": 4
           },
           "turbid_label": "turbid"
          },
          "type": "Feature"
         }
        ],
        "type": "FeatureCollection"
       },
       "hover_style": {
        "color": "white",
        "dashArray": "4",
        "fillOpacity": 0.7
       },
       "name": "shoreline",
       "style": {
        "color": "yellow",
        "dashArray": "5",
        "fillOpacity": 0.5,
        "fill_color": "yellow",
        "opacity": 1,
        "weight": 4
       }
      }
     },
     "d749467a3a4e4c1abb1f65dfd1efe339": {
      "model_module": "jupyter-leaflet",
      "model_module_version": "^0.17.0",
      "model_name": "LeafletTileLayerModel",
      "state": {
       "_model_module_version": "^0.17.0",
       "_view_module_version": "^0.17.0",
       "attribution": "(C) OpenStreetMap contributors (C) CARTO",
       "max_zoom": 20,
       "name": "CartoDB.DarkMatterNoLabels",
       "options": [
        "attribution",
        "bounds",
        "detect_retina",
        "max_native_zoom",
        "max_zoom",
        "min_native_zoom",
        "min_zoom",
        "no_wrap",
        "tile_size",
        "tms"
       ],
       "url": "https://a.basemaps.cartocdn.com/dark_nolabels/{z}/{x}/{y}.png"
      }
     },
     "d938caae6686442782ffd04b7e142296": {
      "model_module": "jupyter-leaflet",
      "model_module_version": "^0.17.0",
      "model_name": "LeafletTileLayerModel",
      "state": {
       "_model_module_version": "^0.17.0",
       "_view_module_version": "^0.17.0",
       "attribution": "Map tiles by Stamen Design, CC BY 3.0 -- Map data (C) OpenStreetMap contributors",
       "max_zoom": 16,
       "name": "Stamen.Watercolor",
       "options": [
        "attribution",
        "bounds",
        "detect_retina",
        "max_native_zoom",
        "max_zoom",
        "min_native_zoom",
        "min_zoom",
        "no_wrap",
        "tile_size",
        "tms"
       ],
       "url": "https://stamen-tiles-a.a.ssl.fastly.net/watercolor/{z}/{x}/{y}.jpg"
      }
     },
     "d9814d3047f94715af779f27f3630c68": {
      "model_module": "jupyter-leaflet",
      "model_module_version": "^0.17.0",
      "model_name": "LeafletTileLayerModel",
      "state": {
       "_model_module_version": "^0.17.0",
       "_view_module_version": "^0.17.0",
       "attribution": "Datenquelle: basemap.at",
       "max_zoom": 19,
       "name": "BasemapAT.highdpi",
       "options": [
        "attribution",
        "bounds",
        "detect_retina",
        "max_native_zoom",
        "max_zoom",
        "min_native_zoom",
        "min_zoom",
        "no_wrap",
        "tile_size",
        "tms"
       ],
       "url": "https://maps.wien.gv.at/basemap/bmaphidpi/normal/google3857/{z}/{y}/{x}.jpeg"
      }
     },
     "d9a75f05c44c4a4bb87dc73c5cf647f8": {
      "model_module": "jupyter-leaflet",
      "model_module_version": "^0.17.0",
      "model_name": "LeafletTileLayerModel",
      "state": {
       "_model_module_version": "^0.17.0",
       "_view_module_version": "^0.17.0",
       "attribution": "Justice Map",
       "max_zoom": 22,
       "name": "JusticeMap.plurality",
       "options": [
        "attribution",
        "bounds",
        "detect_retina",
        "max_native_zoom",
        "max_zoom",
        "min_native_zoom",
        "min_zoom",
        "no_wrap",
        "tile_size",
        "tms"
       ],
       "url": "https://www.justicemap.org/tile/county/plural/{z}/{x}/{y}.png"
      }
     },
     "d9d4fbc08d6246e99e41df95af70201f": {
      "model_module": "@jupyter-widgets/controls",
      "model_module_version": "1.5.0",
      "model_name": "HTMLModel",
      "state": {
       "layout": "IPY_MODEL_e5b548196f1c4094ab8c016436c57cfa",
       "style": "IPY_MODEL_d36f687601174f09800e1deebdc0d265",
       "value": "____________________________________________________"
      }
     },
     "d9dd72a5bbf04cc297aee81c36ec3f44": {
      "model_module": "jupyter-leaflet",
      "model_module_version": "^0.17.0",
      "model_name": "LeafletTileLayerModel",
      "state": {
       "_model_module_version": "^0.17.0",
       "_view_module_version": "^0.17.0",
       "attribution": "Tiles courtesy of the U.S. Geological Survey",
       "max_zoom": 20,
       "name": "USGS.USTopo",
       "options": [
        "attribution",
        "bounds",
        "detect_retina",
        "max_native_zoom",
        "max_zoom",
        "min_native_zoom",
        "min_zoom",
        "no_wrap",
        "tile_size",
        "tms"
       ],
       "url": "https://basemap.nationalmap.gov/arcgis/rest/services/USGSTopo/MapServer/tile/{z}/{y}/{x}"
      }
     },
     "da01cd1d41d54756a141589017549681": {
      "model_module": "jupyter-leaflet",
      "model_module_version": "^0.17.0",
      "model_name": "LeafletMapStyleModel",
      "state": {
       "_model_module_version": "^0.17.0",
       "cursor": "wait"
      }
     },
     "da134a8b1f6f44659827dbdc27165323": {
      "model_module": "@jupyter-widgets/base",
      "model_module_version": "1.2.0",
      "model_name": "LayoutModel",
      "state": {
       "height": "auto",
       "padding": "0px 0px 0px 4px",
       "width": "auto"
      }
     },
     "da4b25c157764e2d80d88de9f239f8f2": {
      "model_module": "jupyter-leaflet",
      "model_module_version": "^0.17.0",
      "model_name": "LeafletTileLayerModel",
      "state": {
       "_model_module_version": "^0.17.0",
       "_view_module_version": "^0.17.0",
       "attribution": "Imagery provided by services from the Global Imagery Browse Services (GIBS), operated by the NASA/GSFC/Earth Science Data and Information System (ESDIS) with funding provided by NASA/HQ.",
       "max_zoom": 8,
       "name": "NASAGIBS.ModisTerraSnowCover",
       "options": [
        "attribution",
        "bounds",
        "detect_retina",
        "max_native_zoom",
        "max_zoom",
        "min_native_zoom",
        "min_zoom",
        "no_wrap",
        "tile_size",
        "tms"
       ],
       "url": "https://map1.vis.earthdata.nasa.gov/wmts-webmerc/MODIS_Terra_NDSI_Snow_Cover/default//GoogleMapsCompatible_Level8/{z}/{y}/{x}.png"
      }
     },
     "da50a0255c5c4be5ba0cf54ab8128308": {
      "model_module": "jupyter-leaflet",
      "model_module_version": "^0.17.0",
      "model_name": "LeafletTileLayerModel",
      "state": {
       "_model_module_version": "^0.17.0",
       "_view_module_version": "^0.17.0",
       "attribution": "Map tiles by Stamen Design, CC BY 3.0 -- Map data (C) OpenStreetMap contributors",
       "name": "Stamen.Terrain",
       "options": [
        "attribution",
        "bounds",
        "detect_retina",
        "max_native_zoom",
        "max_zoom",
        "min_native_zoom",
        "min_zoom",
        "no_wrap",
        "tile_size",
        "tms"
       ],
       "url": "https://stamen-tiles-a.a.ssl.fastly.net/terrain/{z}/{x}/{y}.png"
      }
     },
     "dbda504ebd044b5a869791ae973a45cf": {
      "model_module": "jupyter-leaflet",
      "model_module_version": "^0.17.0",
      "model_name": "LeafletTileLayerModel",
      "state": {
       "_model_module_version": "^0.17.0",
       "_view_module_version": "^0.17.0",
       "attribution": "Tiles &copy; Esri &mdash; Esri, DeLorme, NAVTEQ, TomTom, Intermap, iPC, USGS, FAO, NPS, NRCAN, GeoBase, Kadaster NL, Ordnance Survey, Esri Japan, METI, Esri China (Hong Kong), and the GIS User Community",
       "max_zoom": 24,
       "name": "Esri.ArcticOceanReference",
       "options": [
        "attribution",
        "bounds",
        "detect_retina",
        "max_native_zoom",
        "max_zoom",
        "min_native_zoom",
        "min_zoom",
        "no_wrap",
        "tile_size",
        "tms"
       ],
       "url": "http://server.arcgisonline.com/ArcGIS/rest/services/Polar/Arctic_Ocean_Reference/MapServer/tile/{z}/{y}/{x}"
      }
     },
     "dbed1ad869d74ada96a45a9731dd7ea9": {
      "model_module": "jupyter-leaflet",
      "model_module_version": "^0.17.0",
      "model_name": "LeafletTileLayerModel",
      "state": {
       "_model_module_version": "^0.17.0",
       "_view_module_version": "^0.17.0",
       "attribution": "Map data: (C) OpenStreetMap contributors, SRTM | Map style: (C) OpenTopoMap (CC-BY-SA)",
       "max_zoom": 17,
       "name": "OpenTopoMap",
       "options": [
        "attribution",
        "bounds",
        "detect_retina",
        "max_native_zoom",
        "max_zoom",
        "min_native_zoom",
        "min_zoom",
        "no_wrap",
        "tile_size",
        "tms"
       ],
       "url": "https://a.tile.opentopomap.org/{z}/{x}/{y}.png"
      }
     },
     "dc43e79e92e040af99554008fd3b0e53": {
      "model_module": "@jupyter-widgets/controls",
      "model_module_version": "1.5.0",
      "model_name": "RadioButtonsModel",
      "state": {
       "_options_labels": [
        "RGB",
        "MNDWI"
       ],
       "description": "Model Input:",
       "index": 0,
       "layout": "IPY_MODEL_fd5152f5c59c4cb0bdc864f01d6e5028",
       "style": "IPY_MODEL_baacd93919ab4027a5e19d8987c56325"
      }
     },
     "dc4a0dc06eff42df8095e4965eced444": {
      "model_module": "jupyter-leaflet",
      "model_module_version": "^0.17.0",
      "model_name": "LeafletTileLayerModel",
      "state": {
       "_model_module_version": "^0.17.0",
       "_view_module_version": "^0.17.0",
       "attribution": "(C) OpenStreetMap France | (C) OpenStreetMap contributors",
       "max_zoom": 20,
       "name": "OpenStreetMap.France",
       "options": [
        "attribution",
        "bounds",
        "detect_retina",
        "max_native_zoom",
        "max_zoom",
        "min_native_zoom",
        "min_zoom",
        "no_wrap",
        "tile_size",
        "tms"
       ],
       "url": "https://a.tile.openstreetmap.fr/osmfr/{z}/{x}/{y}.png"
      }
     },
     "dca2020eb8034d898284c227f5076099": {
      "model_module": "jupyter-leaflet",
      "model_module_version": "^0.17.0",
      "model_name": "LeafletTileLayerModel",
      "state": {
       "_model_module_version": "^0.17.0",
       "_view_module_version": "^0.17.0",
       "attribution": "Map tiles by Stamen Design, CC BY 3.0 -- Map data (C) OpenStreetMap contributors",
       "max_zoom": 20,
       "name": "Stamen.TonerBackground",
       "options": [
        "attribution",
        "bounds",
        "detect_retina",
        "max_native_zoom",
        "max_zoom",
        "min_native_zoom",
        "min_zoom",
        "no_wrap",
        "tile_size",
        "tms"
       ],
       "url": "https://stamen-tiles-a.a.ssl.fastly.net/toner-background/{z}/{x}/{y}.png"
      }
     },
     "dd2708d8cefd4859b39a704b701f8c21": {
      "model_module": "jupyter-leaflet",
      "model_module_version": "^0.17.0",
      "model_name": "LeafletTileLayerModel",
      "state": {
       "_model_module_version": "^0.17.0",
       "_view_module_version": "^0.17.0",
       "attribution": "(C) Stadia Maps, (C) OpenMapTiles (C) OpenStreetMap contributors",
       "max_zoom": 20,
       "name": "Stadia.AlidadeSmooth",
       "options": [
        "attribution",
        "bounds",
        "detect_retina",
        "max_native_zoom",
        "max_zoom",
        "min_native_zoom",
        "min_zoom",
        "no_wrap",
        "tile_size",
        "tms"
       ],
       "url": "https://tiles.stadiamaps.com/tiles/alidade_smooth/{z}/{x}/{y}.png"
      }
     },
     "dd6bfd39e3e947259d3ca0bf04d33709": {
      "model_module": "jupyter-leaflet",
      "model_module_version": "^0.17.0",
      "model_name": "LeafletTileLayerModel",
      "state": {
       "_model_module_version": "^0.17.0",
       "_view_module_version": "^0.17.0",
       "attribution": "Imagery provided by services from the Global Imagery Browse Services (GIBS), operated by the NASA/GSFC/Earth Science Data and Information System (ESDIS) with funding provided by NASA/HQ.",
       "max_zoom": 5,
       "name": "NASAGIBS.BlueMarble3031",
       "options": [
        "attribution",
        "bounds",
        "detect_retina",
        "max_native_zoom",
        "max_zoom",
        "min_native_zoom",
        "min_zoom",
        "no_wrap",
        "tile_size",
        "tms"
       ],
       "url": "https://gibs.earthdata.nasa.gov/wmts/epsg3031/best/BlueMarble_NextGeneration/default/EPSG3031_500m/{z}/{y}/{x}.jpeg"
      }
     },
     "dd8b66b3649c44a78da706f7879313e7": {
      "model_module": "jupyter-leaflet",
      "model_module_version": "^0.17.0",
      "model_name": "LeafletTileLayerModel",
      "state": {
       "_model_module_version": "^0.17.0",
       "_view_module_version": "^0.17.0",
       "attribution": "Datenquelle: basemap.at",
       "max_zoom": 20,
       "name": "BasemapAT.orthofoto",
       "options": [
        "attribution",
        "bounds",
        "detect_retina",
        "max_native_zoom",
        "max_zoom",
        "min_native_zoom",
        "min_zoom",
        "no_wrap",
        "tile_size",
        "tms"
       ],
       "url": "https://maps.wien.gv.at/basemap/bmaporthofoto30cm/normal/google3857/{z}/{y}/{x}.jpeg"
      }
     },
     "ddae291009b146ad8fac854975037389": {
      "model_module": "jupyter-leaflet",
      "model_module_version": "^0.17.0",
      "model_name": "LeafletTileLayerModel",
      "state": {
       "_model_module_version": "^0.17.0",
       "_view_module_version": "^0.17.0",
       "attribution": "Datenquelle: basemap.at",
       "max_zoom": 19,
       "name": "BasemapAT.surface",
       "options": [
        "attribution",
        "bounds",
        "detect_retina",
        "max_native_zoom",
        "max_zoom",
        "min_native_zoom",
        "min_zoom",
        "no_wrap",
        "tile_size",
        "tms"
       ],
       "url": "https://maps.wien.gv.at/basemap/bmapoberflaeche/grau/google3857/{z}/{y}/{x}.jpeg"
      }
     },
     "ddd34a2782a84565af1b5bbef87f794c": {
      "model_module": "@jupyter-widgets/controls",
      "model_module_version": "1.5.0",
      "model_name": "DescriptionStyleModel",
      "state": {
       "description_width": ""
      }
     },
     "de651bb5d7bf4c0682595d65e624b304": {
      "model_module": "jupyter-leaflet",
      "model_module_version": "^0.17.0",
      "model_name": "LeafletTileLayerModel",
      "state": {
       "_model_module_version": "^0.17.0",
       "_view_module_version": "^0.17.0",
       "attribution": "Map tiles by Stamen Design, CC BY 3.0 -- Map data (C) OpenStreetMap contributors",
       "name": "Stamen.TerrainBackground",
       "options": [
        "attribution",
        "bounds",
        "detect_retina",
        "max_native_zoom",
        "max_zoom",
        "min_native_zoom",
        "min_zoom",
        "no_wrap",
        "tile_size",
        "tms"
       ],
       "url": "https://stamen-tiles-a.a.ssl.fastly.net/terrain-background/{z}/{x}/{y}.png"
      }
     },
     "de7b560114e1444d8f2a2ab1214891e3": {
      "model_module": "jupyter-leaflet",
      "model_module_version": "^0.17.0",
      "model_name": "LeafletGeoJSONModel",
      "state": {
       "_model_module_version": "^0.17.0",
       "_view_module_version": "^0.17.0",
       "data": {
        "features": [
         {
          "geometry": {
           "coordinates": [
            [
             -124.15724882881906,
             40.88024267792214
            ],
            [
             -124.15720843998203,
             40.8803782055918
            ],
            [
             -124.15718414556042,
             40.88048775950494
            ],
            [
             -124.15717896310639,
             40.88051362375534
            ],
            [
             -124.15704057122471,
             40.880650134677175
            ],
            [
             -124.15700955876824,
             40.88068543233375
            ],
            [
             -124.15694039635261,
             40.880786262049284
            ],
            [
             -124.15683467458467,
             40.88086608558015
            ],
            [
             -124.1566567003415,
             40.88086931068361
            ],
            [
             -124.15765599662572,
             40.879292734644224
            ],
            [
             -124.15760360398818,
             40.87942838296289
            ],
            [
             -124.15758870910338,
             40.87956365487966
            ],
            [
             -124.15757814270228,
             40.87969888334518
            ],
            [
             -124.15752826784399,
             40.87980267001702
            ],
            [
             -124.15749435553344,
             40.87983484672094
            ],
            [
             -124.15735266059245,
             40.87994160478775
            ],
            [
             -124.15800040557677,
             40.87847854242455
            ],
            [
             -124.15795624545477,
             40.87861410825453
            ],
            [
             -124.15792845428568,
             40.8787495097162
            ],
            [
             -124.15789126394044,
             40.878885005536986
            ],
            [
             -124.15786870628804,
             40.87890659888602
            ],
            [
             -124.15779910666876,
             40.87902105318297
            ],
            [
             -124.15771056281069,
             40.87915706448032
            ],
            [
             -124.1576956926668,
             40.879194204541804
            ]
           ],
           "type": "LineString"
          },
          "id": "0",
          "properties": {
           "style": {
            "color": "#9933ff",
            "fillOpacity": 0.5,
            "fill_color": "#9933ff",
            "opacity": 1,
            "weight": 2
           }
          },
          "type": "Feature"
         }
        ],
        "type": "FeatureCollection"
       },
       "hover_style": {
        "color": "white",
        "fillOpacity": 0.7
       },
       "name": "shorelines_1.geojson",
       "style": {
        "color": "#9933ff",
        "fillOpacity": 0.5,
        "fill_color": "#9933ff",
        "opacity": 1,
        "weight": 2
       }
      }
     },
     "defc5408cf9c46b1b99605bceaab7fa4": {
      "model_module": "@jupyter-widgets/base",
      "model_module_version": "1.2.0",
      "model_name": "LayoutModel",
      "state": {}
     },
     "df43de452ef6488d923cd0d70b5343a9": {
      "model_module": "@jupyter-widgets/output",
      "model_module_version": "1.0.0",
      "model_name": "OutputModel",
      "state": {
       "layout": "IPY_MODEL_ea1ffd52134c4147a37631f680bffb5b",
       "outputs": [
        {
         "name": "stdout",
         "output_type": "stream",
         "text": "Download in process\n"
        },
        {
         "data": {
          "application/vnd.jupyter.widget-view+json": {
           "model_id": "c4e6d4d30ae940919d3bb13eb14805fa",
           "version_major": 2,
           "version_minor": 0
          },
          "text/plain": "Downloading ROIs:   0%|          | 0/1 [00:00<?, ?it/s]"
         },
         "metadata": {},
         "output_type": "display_data"
        },
        {
         "name": "stdout",
         "output_type": "stream",
         "text": "Number of images available between 2018-12-01 and 2019-03-01:\n- In Landsat Tier 1 & Sentinel-2 Level-1C:\n     L8: 3 images\n  Total to download: 3 images\n- In Landsat Tier 2 (not suitable for time-series analysis):\n     L8: 12 images\n  Total Tier 2: 12 images\n\nDownloading images:\nL8: 3 images\n100%\nSatellite images downloaded from GEE and save in C:\\1_USGS\\CoastSeg\\repos\\2_CoastSeg\\CoastSeg_fork\\Seg2Map\\data\\ID_1_datetime11-03-22__02_33_22\ninputs: {'dates': ['2018-12-01', '2019-03-01'], 'sat_list': ['L8'], 'roi_id': '1', 'polygon': [[[-124.17231991102625, 40.867214779304916], [-124.17287634605553, 40.89873764103481], [-124.13133180034464, 40.899152705731765], [-124.13079506441677, 40.8676293858108], [-124.17231991102625, 40.867214779304916]]], 'landsat_collection': 'C01', 'sitename': 'ID_1_datetime11-03-22__02_33_22', 'filepath': 'C:\\\\1_USGS\\\\CoastSeg\\\\repos\\\\2_CoastSeg\\\\CoastSeg_fork\\\\Seg2Map\\\\data'}\nSaving images as jpg:\nL8: 3 images\n100%\nSatellite images saved as .jpg in C:\\1_USGS\\CoastSeg\\repos\\2_CoastSeg\\CoastSeg_fork\\Seg2Map\\data\\ID_1_datetime11-03-22__02_33_22\\jpg_files\\preprocessed\nLocated previously downloaded ROI data.\nSaved config json: config.json \nSaved to C:\\1_USGS\\CoastSeg\\repos\\2_CoastSeg\\CoastSeg_fork\\Seg2Map\\data\\ID_1_datetime11-03-22__02_33_22\\config.json\nSaved config json: config_gdf.geojson \nSaved to C:\\1_USGS\\CoastSeg\\repos\\2_CoastSeg\\CoastSeg_fork\\Seg2Map\\data\\ID_1_datetime11-03-22__02_33_22\\config_gdf.geojson\nSaved config files for each ROI\n"
        }
       ]
      }
     },
     "e087484a1b1f486699006ea28af5f153": {
      "model_module": "@jupyter-widgets/controls",
      "model_module_version": "1.5.0",
      "model_name": "ToggleButtonModel",
      "state": {
       "button_style": "primary",
       "icon": "table",
       "layout": "IPY_MODEL_6e76b30cd90a4622a2ee5b1874b721bb",
       "style": "IPY_MODEL_a69dae202c544d879339a9ae8f6d2e90",
       "tooltip": "Open attribute table"
      }
     },
     "e0893fcfbec1480bb3f7570d4351f6d9": {
      "model_module": "@jupyter-widgets/controls",
      "model_module_version": "1.5.0",
      "model_name": "ButtonStyleModel",
      "state": {
       "button_color": "#ae3cf0"
      }
     },
     "e0cf7f1b8a954da998f90f1d92f8080d": {
      "model_module": "@jupyter-widgets/controls",
      "model_module_version": "1.5.0",
      "model_name": "ButtonModel",
      "state": {
       "description": "Save shorelines",
       "layout": "IPY_MODEL_17c32411271b4b23b350e6b834aa7473",
       "style": "IPY_MODEL_d5fbf56b110c448cbfdc9838081a171d"
      }
     },
     "e113d8e6dc7a44b983a7dfb79214c6cb": {
      "model_module": "jupyter-leaflet",
      "model_module_version": "^0.17.0",
      "model_name": "LeafletTileLayerModel",
      "state": {
       "_model_module_version": "^0.17.0",
       "_view_module_version": "^0.17.0",
       "attribution": "(C) OpenStreetMap contributors (C) CARTO",
       "max_zoom": 20,
       "name": "CartoDB.PositronOnlyLabels",
       "options": [
        "attribution",
        "bounds",
        "detect_retina",
        "max_native_zoom",
        "max_zoom",
        "min_native_zoom",
        "min_zoom",
        "no_wrap",
        "tile_size",
        "tms"
       ],
       "url": "https://a.basemaps.cartocdn.com/light_only_labels/{z}/{x}/{y}.png"
      }
     },
     "e2097c46a2214f9aaca6140aede01ca0": {
      "model_module": "@jupyter-widgets/controls",
      "model_module_version": "1.5.0",
      "model_name": "ButtonModel",
      "state": {
       "description": "Load rois from file",
       "layout": "IPY_MODEL_b7582bd621e2421bada4ef89331e3ed9",
       "style": "IPY_MODEL_f06310ead3af4c4688275627c63a37d3"
      }
     },
     "e2880aaf59284e2093bead385d6a86be": {
      "model_module": "jupyter-leaflet",
      "model_module_version": "^0.17.0",
      "model_name": "LeafletTileLayerModel",
      "state": {
       "_model_module_version": "^0.17.0",
       "_view_module_version": "^0.17.0",
       "attribution": "Imagery provided by services from the Global Imagery Browse Services (GIBS), operated by the NASA/GSFC/Earth Science Data and Information System (ESDIS) with funding provided by NASA/HQ.",
       "max_zoom": 9,
       "name": "NASAGIBS.ModisTerraTrueColorCR",
       "options": [
        "attribution",
        "bounds",
        "detect_retina",
        "max_native_zoom",
        "max_zoom",
        "min_native_zoom",
        "min_zoom",
        "no_wrap",
        "tile_size",
        "tms"
       ],
       "url": "https://map1.vis.earthdata.nasa.gov/wmts-webmerc/MODIS_Terra_CorrectedReflectance_TrueColor/default//GoogleMapsCompatible_Level9/{z}/{y}/{x}.jpg"
      }
     },
     "e289a003815647d8a000c5446e48c4ec": {
      "model_module": "@jupyter-widgets/controls",
      "model_module_version": "1.5.0",
      "model_name": "DescriptionStyleModel",
      "state": {
       "description_width": ""
      }
     },
     "e2a3c3565124459395ae929069d1f935": {
      "model_module": "jupyter-leaflet",
      "model_module_version": "^0.17.0",
      "model_name": "LeafletMapStyleModel",
      "state": {
       "_model_module_version": "^0.17.0",
       "cursor": "move"
      }
     },
     "e2b007cfe1ca4522bff15db4d175be4f": {
      "model_module": "@jupyter-widgets/base",
      "model_module_version": "1.2.0",
      "model_name": "LayoutModel",
      "state": {}
     },
     "e30d533aadf74204a663cf5747eaf22f": {
      "model_module": "@jupyter-widgets/controls",
      "model_module_version": "1.5.0",
      "model_name": "ButtonStyleModel",
      "state": {
       "button_color": "red"
      }
     },
     "e3eca992d5154f06a3f19e7b98562e56": {
      "model_module": "jupyter-leaflet",
      "model_module_version": "^0.17.0",
      "model_name": "LeafletTileLayerModel",
      "state": {
       "_model_module_version": "^0.17.0",
       "_view_module_version": "^0.17.0",
       "attribution": "![](https://docs.onemap.sg/maps/images/oneMap64-01.png) New OneMap | Map data (C) contributors, Singapore Land Authority",
       "name": "OneMapSG.Default",
       "options": [
        "attribution",
        "bounds",
        "detect_retina",
        "max_native_zoom",
        "max_zoom",
        "min_native_zoom",
        "min_zoom",
        "no_wrap",
        "tile_size",
        "tms"
       ],
       "url": "https://maps-a.onemap.sg/v3/Default/{z}/{x}/{y}.png"
      }
     },
     "e40f98e069cb4267808bca66f21296ca": {
      "model_module": "@jupyter-widgets/base",
      "model_module_version": "1.2.0",
      "model_name": "LayoutModel",
      "state": {
       "padding": "10px"
      }
     },
     "e4824fa472f84693878a7d6c9aceef16": {
      "model_module": "@jupyter-widgets/controls",
      "model_module_version": "1.5.0",
      "model_name": "ToggleButtonModel",
      "state": {
       "button_style": "primary",
       "icon": "map",
       "layout": "IPY_MODEL_da134a8b1f6f44659827dbdc27165323",
       "style": "IPY_MODEL_b448afdd53054b65b105fcdf82506a1b",
       "tooltip": "Change basemap"
      }
     },
     "e48ca6f1b55b4597b93abbb3c0ee949d": {
      "model_module": "jupyter-leaflet",
      "model_module_version": "^0.17.0",
      "model_name": "LeafletTileLayerModel",
      "state": {
       "_model_module_version": "^0.17.0",
       "_view_module_version": "^0.17.0",
       "attribution": "Map data: (C) OpenStreetMap contributors | Map style: (C) waymarkedtrails.org (CC-BY-SA)",
       "name": "WaymarkedTrails.cycling",
       "options": [
        "attribution",
        "bounds",
        "detect_retina",
        "max_native_zoom",
        "max_zoom",
        "min_native_zoom",
        "min_zoom",
        "no_wrap",
        "tile_size",
        "tms"
       ],
       "url": "https://tile.waymarkedtrails.org/cycling/{z}/{x}/{y}.png"
      }
     },
     "e500ab12d9bc484c9bf292a8aa501e2f": {
      "model_module": "@jupyter-widgets/controls",
      "model_module_version": "1.5.0",
      "model_name": "DatePickerModel",
      "state": {
       "description": "Start Date",
       "disabled": false,
       "layout": "IPY_MODEL_d0e57df4293a4253847b0923421f139d",
       "style": "IPY_MODEL_7ecc27649e0f43498da6b6fd2b3031f0",
       "value": {
        "date": 1,
        "month": 11,
        "year": 2018
       }
      }
     },
     "e531e643d8ef41a6a4a922981d0ff2f7": {
      "model_module": "jupyter-leaflet",
      "model_module_version": "^0.17.0",
      "model_name": "LeafletTileLayerModel",
      "state": {
       "_model_module_version": "^0.17.0",
       "_view_module_version": "^0.17.0",
       "attribution": "(C) OpenStreetMap contributors, Tiles style by Humanitarian OpenStreetMap Team hosted by OpenStreetMap France",
       "max_zoom": 19,
       "name": "OpenStreetMap.HOT",
       "options": [
        "attribution",
        "bounds",
        "detect_retina",
        "max_native_zoom",
        "max_zoom",
        "min_native_zoom",
        "min_zoom",
        "no_wrap",
        "tile_size",
        "tms"
       ],
       "url": "https://a.tile.openstreetmap.fr/hot/{z}/{x}/{y}.png"
      }
     },
     "e598e4f8f0b7420384011f307e8dda8b": {
      "model_module": "@jupyter-widgets/controls",
      "model_module_version": "1.5.0",
      "model_name": "DescriptionStyleModel",
      "state": {
       "description_width": ""
      }
     },
     "e5b548196f1c4094ab8c016436c57cfa": {
      "model_module": "@jupyter-widgets/base",
      "model_module_version": "1.2.0",
      "model_name": "LayoutModel",
      "state": {}
     },
     "e5f3e23fdf844fac81e4cc829481fd03": {
      "model_module": "jupyter-leaflet",
      "model_module_version": "^0.17.0",
      "model_name": "LeafletTileLayerModel",
      "state": {
       "_model_module_version": "^0.17.0",
       "_view_module_version": "^0.17.0",
       "attribution": "Imagery provided by services from the Global Imagery Browse Services (GIBS), operated by the NASA/GSFC/Earth Science Data and Information System (ESDIS) with funding provided by NASA/HQ.",
       "max_zoom": 9,
       "name": "NASAGIBS.ViirsTrueColorCR",
       "options": [
        "attribution",
        "bounds",
        "detect_retina",
        "max_native_zoom",
        "max_zoom",
        "min_native_zoom",
        "min_zoom",
        "no_wrap",
        "tile_size",
        "tms"
       ],
       "url": "https://gibs.earthdata.nasa.gov/wmts/epsg3857/best/VIIRS_SNPP_CorrectedReflectance_TrueColor/default//GoogleMapsCompatible_Level9/{z}/{y}/{x}.jpg"
      }
     },
     "e67cb9fa4a9b4f56b47af4345403282d": {
      "model_module": "@jupyter-widgets/controls",
      "model_module_version": "1.5.0",
      "model_name": "VBoxModel",
      "state": {
       "children": [
        "IPY_MODEL_7b05a7f29ddb4825b0d6c79e58443313",
        "IPY_MODEL_d9d4fbc08d6246e99e41df95af70201f",
        "IPY_MODEL_7d85147c8cff4e0daa70e2c65ac61664",
        "IPY_MODEL_3198cb37bf264c66a9ef81445cbbeacd",
        "IPY_MODEL_9360a8f9a9bd46618a48dae87b981789"
       ],
       "layout": "IPY_MODEL_838aadeb12dd4b9ca06b9d3cea1d7607"
      }
     },
     "e8b34b790ca24a498bc2763ed6293bdf": {
      "model_module": "jupyter-leaflet",
      "model_module_version": "^0.17.0",
      "model_name": "LeafletTileLayerModel",
      "state": {
       "_model_module_version": "^0.17.0",
       "_view_module_version": "^0.17.0",
       "attribution": "Kaartgegevens (C) Kadaster",
       "max_zoom": 19,
       "name": "nlmaps.water",
       "options": [
        "attribution",
        "bounds",
        "detect_retina",
        "max_native_zoom",
        "max_zoom",
        "min_native_zoom",
        "min_zoom",
        "no_wrap",
        "tile_size",
        "tms"
       ],
       "url": "https://service.pdok.nl/brt/achtergrondkaart/wmts/v2_0/water/EPSG:3857/{z}/{x}/{y}.png"
      }
     },
     "e8c0001d3e8e4ddfb7a65daa0512b4d5": {
      "model_module": "@jupyter-widgets/controls",
      "model_module_version": "1.5.0",
      "model_name": "ButtonModel",
      "state": {
       "description": "Compute Transects",
       "layout": "IPY_MODEL_b650c3b19c0344a9998f04497576cd59",
       "style": "IPY_MODEL_e0893fcfbec1480bb3f7570d4351f6d9"
      }
     },
     "ea1ffd52134c4147a37631f680bffb5b": {
      "model_module": "@jupyter-widgets/base",
      "model_module_version": "1.2.0",
      "model_name": "LayoutModel",
      "state": {
       "border": "1px solid black"
      }
     },
     "eb39947924274ad98e6d4c1be2966b8c": {
      "model_module": "@jupyter-widgets/controls",
      "model_module_version": "1.5.0",
      "model_name": "DescriptionStyleModel",
      "state": {
       "description_width": ""
      }
     },
     "eb8985b2e7f241418df13f58b47d958f": {
      "model_module": "@jupyter-widgets/base",
      "model_module_version": "1.2.0",
      "model_name": "LayoutModel",
      "state": {}
     },
     "ebb9fc58fc2941da88a9f1c17aead6ab": {
      "model_module": "@jupyter-widgets/base",
      "model_module_version": "1.2.0",
      "model_name": "LayoutModel",
      "state": {
       "height": "auto",
       "padding": "0px 0px 0px 4px",
       "width": "auto"
      }
     },
     "ebc0c0321f444e77ba1670039054e33e": {
      "model_module": "@jupyter-widgets/base",
      "model_module_version": "1.2.0",
      "model_name": "LayoutModel",
      "state": {
       "grid_gap": "1px 1px",
       "grid_template_columns": "32px 32px 32px ",
       "grid_template_rows": "32px 32px 32px 32px 32px 32px ",
       "padding": "5px",
       "width": "109px"
      }
     },
     "ec1d64a4c7a04f11a4759396531a6aac": {
      "model_module": "jupyter-leaflet",
      "model_module_version": "^0.17.0",
      "model_name": "LeafletTileLayerModel",
      "state": {
       "_model_module_version": "^0.17.0",
       "_view_module_version": "^0.17.0",
       "attribution": "Tiles (C) Esri -- National Geographic, Esri, DeLorme, NAVTEQ, UNEP-WCMC, USGS, NASA, ESA, METI, NRCAN, GEBCO, NOAA, iPC",
       "max_zoom": 16,
       "name": "Esri.NatGeoWorldMap",
       "options": [
        "attribution",
        "bounds",
        "detect_retina",
        "max_native_zoom",
        "max_zoom",
        "min_native_zoom",
        "min_zoom",
        "no_wrap",
        "tile_size",
        "tms"
       ],
       "url": "https://server.arcgisonline.com/ArcGIS/rest/services/NatGeo_World_Map/MapServer/tile/{z}/{y}/{x}"
      }
     },
     "eca7dd2cb3374450ba94ab38920da57e": {
      "model_module": "@jupyter-widgets/controls",
      "model_module_version": "1.5.0",
      "model_name": "ButtonModel",
      "state": {
       "description": "Open Model Results",
       "layout": "IPY_MODEL_b0d57b153e274374bb0562c1a6cd2341",
       "style": "IPY_MODEL_04563e46b69043b9940226a6db5f9be2"
      }
     },
     "ed2a2dd986f0433c8d5888b7629f659c": {
      "model_module": "jupyter-leaflet",
      "model_module_version": "^0.17.0",
      "model_name": "LeafletLayersControlModel",
      "state": {
       "_model_module_version": "^0.17.0",
       "_view_module_version": "^0.17.0",
       "options": [
        "position"
       ],
       "position": "topright"
      }
     },
     "ed4eef92e23044aa86a57ed3f7d7c6e1": {
      "model_module": "jupyter-leaflet",
      "model_module_version": "^0.17.0",
      "model_name": "LeafletTileLayerModel",
      "state": {
       "_model_module_version": "^0.17.0",
       "_view_module_version": "^0.17.0",
       "attribution": "(C) OpenStreetMap contributors & USGS",
       "max_zoom": 22,
       "name": "MtbMap",
       "options": [
        "attribution",
        "bounds",
        "detect_retina",
        "max_native_zoom",
        "max_zoom",
        "min_native_zoom",
        "min_zoom",
        "no_wrap",
        "tile_size",
        "tms"
       ],
       "url": "http://tile.mtbmap.cz/mtbmap_tiles/{z}/{x}/{y}.png"
      }
     },
     "ed6dc3490643468291f3ffc10a3def4a": {
      "model_module": "@jupyter-widgets/base",
      "model_module_version": "1.2.0",
      "model_name": "LayoutModel",
      "state": {
       "margin": "0px 20px 20px 20px"
      }
     },
     "ede1e3d9b770488d8dca0dd0477fbbbe": {
      "model_module": "jupyter-leaflet",
      "model_module_version": "^0.17.0",
      "model_name": "LeafletTileLayerModel",
      "state": {
       "_model_module_version": "^0.17.0",
       "_view_module_version": "^0.17.0",
       "attribution": "Map tiles by Stamen Design, CC BY 3.0 -- Map data (C) OpenStreetMap contributors",
       "name": "Stamen.TerrainLabels",
       "options": [
        "attribution",
        "bounds",
        "detect_retina",
        "max_native_zoom",
        "max_zoom",
        "min_native_zoom",
        "min_zoom",
        "no_wrap",
        "tile_size",
        "tms"
       ],
       "url": "https://stamen-tiles-a.a.ssl.fastly.net/terrain-labels/{z}/{x}/{y}.png"
      }
     },
     "eee82e9f4248478aaf1fc7af1270ea22": {
      "model_module": "@jupyter-widgets/base",
      "model_module_version": "1.2.0",
      "model_name": "LayoutModel",
      "state": {
       "height": "auto",
       "padding": "0px 0px 0px 4px",
       "width": "auto"
      }
     },
     "efe0b021e85f4f0eb63e2c1c320db952": {
      "model_module": "jupyter-leaflet",
      "model_module_version": "^0.17.0",
      "model_name": "LeafletTileLayerModel",
      "state": {
       "_model_module_version": "^0.17.0",
       "_view_module_version": "^0.17.0",
       "attribution": "Tiles (C) Esri -- Source: Esri",
       "max_zoom": 13,
       "name": "Esri.WorldShadedRelief",
       "options": [
        "attribution",
        "bounds",
        "detect_retina",
        "max_native_zoom",
        "max_zoom",
        "min_native_zoom",
        "min_zoom",
        "no_wrap",
        "tile_size",
        "tms"
       ],
       "url": "https://server.arcgisonline.com/ArcGIS/rest/services/World_Shaded_Relief/MapServer/tile/{z}/{y}/{x}"
      }
     },
     "f06310ead3af4c4688275627c63a37d3": {
      "model_module": "@jupyter-widgets/controls",
      "model_module_version": "1.5.0",
      "model_name": "ButtonStyleModel",
      "state": {
       "button_color": "#69add1"
      }
     },
     "f13ed0222b7541989ef7f3d76b68aa37": {
      "model_module": "@jupyter-widgets/controls",
      "model_module_version": "1.5.0",
      "model_name": "ToggleButtonModel",
      "state": {
       "button_style": "primary",
       "icon": "info",
       "layout": "IPY_MODEL_8dc27780c40e46c2ba9375c88fe70d00",
       "style": "IPY_MODEL_3dd5a5897a64442a938020fe511ec887",
       "tooltip": "Get COG/STAC pixel value"
      }
     },
     "f14e703331454eacb751877e5ef6d328": {
      "model_module": "@jupyter-widgets/controls",
      "model_module_version": "1.5.0",
      "model_name": "HTMLModel",
      "state": {
       "layout": "IPY_MODEL_bec640a99f6b45a9bd4f784de2c53dc0",
       "style": "IPY_MODEL_7908465832c5413caeb07c67e8dc906b",
       "value": " 2/2 [00:13&lt;00:00,  6.48s/it]"
      }
     },
     "f1bf1a34c36a432e8d42029ed8487b30": {
      "model_module": "@jupyter-widgets/controls",
      "model_module_version": "1.5.0",
      "model_name": "DescriptionStyleModel",
      "state": {
       "description_width": ""
      }
     },
     "f2873d3e8f964333999c7eff3de93a12": {
      "model_module": "@jupyter-widgets/base",
      "model_module_version": "1.2.0",
      "model_name": "LayoutModel",
      "state": {}
     },
     "f3d560d15a8b4d0cb89a27395db58c1d": {
      "model_module": "jupyter-leaflet",
      "model_module_version": "^0.17.0",
      "model_name": "LeafletTileLayerModel",
      "state": {
       "_model_module_version": "^0.17.0",
       "_view_module_version": "^0.17.0",
       "attribution": "Map tiles by Stamen Design, CC BY 3.0 -- Map data (C) OpenStreetMap contributors",
       "max_zoom": 20,
       "name": "Stamen.TonerLite",
       "options": [
        "attribution",
        "bounds",
        "detect_retina",
        "max_native_zoom",
        "max_zoom",
        "min_native_zoom",
        "min_zoom",
        "no_wrap",
        "tile_size",
        "tms"
       ],
       "url": "https://stamen-tiles-a.a.ssl.fastly.net/toner-lite/{z}/{x}/{y}.png"
      }
     },
     "f4377077332f4b8db4dcdb3d93e91cd5": {
      "model_module": "jupyter-leaflet",
      "model_module_version": "^0.17.0",
      "model_name": "LeafletTileLayerModel",
      "state": {
       "_model_module_version": "^0.17.0",
       "_view_module_version": "^0.17.0",
       "attribution": "OpenStreetMap",
       "max_zoom": 22,
       "name": "OpenStreetMap",
       "options": [
        "attribution",
        "bounds",
        "detect_retina",
        "max_native_zoom",
        "max_zoom",
        "min_native_zoom",
        "min_zoom",
        "no_wrap",
        "tile_size",
        "tms"
       ]
      }
     },
     "f52b85aaea9843578e6162cb86785ef9": {
      "model_module": "jupyter-leaflet",
      "model_module_version": "^0.17.0",
      "model_name": "LeafletTileLayerModel",
      "state": {
       "_model_module_version": "^0.17.0",
       "_view_module_version": "^0.17.0",
       "attribution": "Imagery provided by NOAA National Centers for Environmental Information (NCEI); International Bathymetric Chart of the Southern Ocean (IBCSO); General Bathymetric Chart of the Oceans (GEBCO).",
       "max_zoom": 9,
       "name": "Esri.AntarcticBasemap",
       "options": [
        "attribution",
        "bounds",
        "detect_retina",
        "max_native_zoom",
        "max_zoom",
        "min_native_zoom",
        "min_zoom",
        "no_wrap",
        "tile_size",
        "tms"
       ],
       "url": "https://tiles.arcgis.com/tiles/C8EMgrsFcRFL6LrL/arcgis/rest/services/Antarctic_Basemap/MapServer/tile/{z}/{y}/{x}"
      }
     },
     "f708339beda54806bdeac7e9309c7d78": {
      "model_module": "@jupyter-widgets/controls",
      "model_module_version": "1.5.0",
      "model_name": "DescriptionStyleModel",
      "state": {
       "description_width": ""
      }
     },
     "f7e93108dc2a40429de712c34f0757a6": {
      "model_module": "jupyter-leaflet",
      "model_module_version": "^0.17.0",
      "model_name": "LeafletTileLayerModel",
      "state": {
       "_model_module_version": "^0.17.0",
       "_view_module_version": "^0.17.0",
       "attribution": "Datenquelle: basemap.at",
       "max_zoom": 20,
       "name": "BasemapAT.basemap",
       "options": [
        "attribution",
        "bounds",
        "detect_retina",
        "max_native_zoom",
        "max_zoom",
        "min_native_zoom",
        "min_zoom",
        "no_wrap",
        "tile_size",
        "tms"
       ],
       "url": "https://maps.wien.gv.at/basemap/geolandbasemap/normal/google3857/{z}/{y}/{x}.png"
      }
     },
     "f8b64ccd46244ab090c49ceaa6a7e7e2": {
      "model_module": "@jupyter-widgets/controls",
      "model_module_version": "1.5.0",
      "model_name": "ToggleButtonModel",
      "state": {
       "button_style": "primary",
       "icon": "eraser",
       "layout": "IPY_MODEL_5b999e654a5340b5bc339663606fbbed",
       "style": "IPY_MODEL_44a91ddd25544926870e3c7fc0e6b57d",
       "tooltip": "Remove all drawn features"
      }
     },
     "fc091bf6c0dd459b94c9e5fd32fb379b": {
      "model_module": "@jupyter-widgets/controls",
      "model_module_version": "1.5.0",
      "model_name": "ToggleButtonModel",
      "state": {
       "button_style": "primary",
       "icon": "gears",
       "layout": "IPY_MODEL_2febd83b70a94517bef56c1bafc5f7b9",
       "style": "IPY_MODEL_7cb830b11d184ff18ab8374e914b56f8",
       "tooltip": "WhiteboxTools for local geoprocessing"
      }
     },
     "fc2c453fd0d544999ee21cfb431bfcc1": {
      "model_module": "@jupyter-widgets/controls",
      "model_module_version": "1.5.0",
      "model_name": "DescriptionStyleModel",
      "state": {
       "description_width": ""
      }
     },
     "fd418e6ae99341ad956db7ca94d0aab1": {
      "model_module": "@jupyter-widgets/controls",
      "model_module_version": "1.5.0",
      "model_name": "HTMLModel",
      "state": {
       "layout": "IPY_MODEL_68e31e5bf2194b839e2ff1631c2c4dcc",
       "style": "IPY_MODEL_bd3bcbfa060a44729ae752146812810f",
       "value": "<b>Pick multiple satellites by holding the control key:</b>         <br> - images prior to 2022/01/01 will be downloaded from Collection 1         <br> - images after 2022/01/01 will be automatically downloaded from Collection 2         <br> C01: LandSat Collection 1 : All dates before 2022/01/01        <br> C02: LandSat Collection 2 : All dates after 2022/01/01         <br> - Landsat 9 is only available in C02"
      }
     },
     "fd5152f5c59c4cb0bdc864f01d6e5028": {
      "model_module": "@jupyter-widgets/base",
      "model_module_version": "1.2.0",
      "model_name": "LayoutModel",
      "state": {}
     },
     "fe035c1d838b45fa88b8fcacdefd934c": {
      "model_module": "jupyter-leaflet",
      "model_module_version": "^0.17.0",
      "model_name": "LeafletWMSLayerModel",
      "state": {
       "_model_module_version": "^0.17.0",
       "_view_module_version": "^0.17.0",
       "attribution": "USGS",
       "crs": {
        "custom": false,
        "name": "EPSG3857"
       },
       "format": "image/png",
       "layers": "USGSNAIPImagery:NaturalColor",
       "name": "USGS NAIP Imagery",
       "options": [
        "attribution",
        "bounds",
        "detect_retina",
        "format",
        "layers",
        "max_native_zoom",
        "max_zoom",
        "min_native_zoom",
        "min_zoom",
        "no_wrap",
        "styles",
        "tile_size",
        "tms",
        "transparent",
        "uppercase"
       ],
       "transparent": true,
       "url": "https://imagery.nationalmap.gov/arcgis/services/USGSNAIPImagery/ImageServer/WMSServer?"
      }
     },
     "fe796e17b6cc4d21b8889afeba728e7d": {
      "model_module": "@jupyter-widgets/controls",
      "model_module_version": "1.5.0",
      "model_name": "DescriptionStyleModel",
      "state": {
       "description_width": ""
      }
     }
    },
    "version_major": 2,
    "version_minor": 0
   }
  }
 },
 "nbformat": 4,
 "nbformat_minor": 4
}
