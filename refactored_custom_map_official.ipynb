{
 "cells": [
  {
   "cell_type": "code",
   "execution_count": 1,
   "metadata": {},
   "outputs": [],
   "source": [
    "import os\n",
    "import datetime\n",
    "# Local Imports\n",
    "from src.coastseg import coastseg_logs #must be the first module loaded to create logs folder\n",
    "from src.coastseg import coastseg_map\n",
    "\n",
    "# External Imports\n",
    "import ee\n",
    "from google.auth import exceptions as google_auth_exceptions\n",
    "from IPython.display import display, clear_output\n",
    "from tkinter import Tk,filedialog\n",
    "from ipywidgets import Button, HBox, VBox, Layout, DatePicker, HTML, RadioButtons, SelectMultiple, Output, Checkbox\n",
    "\n",
    "# suppress tensorflow warnings\n",
    "os.environ['TF_CPP_MIN_LOG_LEVEL'] = '3'"
   ]
  },
  {
   "cell_type": "markdown",
   "metadata": {},
   "source": [
    "## Authenticate and Initialize with Google Earth Engine (GEE)\n",
    "\n",
    "- Run this cell to initialize with GEE which will allow you to download remote sensing data from GEE.\n",
    "\n",
    "### First Time Users\n",
    "\n",
    "- In order to use Google Earth Engine (GEE) you will need to sign up to request access to use Google Earth Engine.https://signup.earthengine.google.com. You will only need to do this once and it takes only a day to get your account verified.\n",
    "\n",
    "### How `ee.Authenticate()` works\n",
    "\n",
    "- In order to initialize with GEE you will need an authorization token with is obtained by running `ee.Authenticate()`.This token lasts 7 days and during those 7 days you will not need to authenticate with google earth engine with an access code. Once the 7 days are up you will need to reauthenticate to use GEE again.\n"
   ]
  },
  {
   "cell_type": "code",
   "execution_count": 2,
   "metadata": {},
   "outputs": [],
   "source": [
    "try:\n",
    "    ee.Initialize()\n",
    "except google_auth_exceptions.RefreshError as exception:\n",
    "    print(\"Please authenticate with Google:\\n\")\n",
    "    ee.Authenticate()\n",
    "    ee.Initialize()"
   ]
  },
  {
   "cell_type": "code",
   "execution_count": 3,
   "metadata": {},
   "outputs": [
    {
     "data": {
      "application/vnd.jupyter.widget-view+json": {
       "model_id": "5efeb334005b4f7e8455c255e21d1115",
       "version_major": 2,
       "version_minor": 0
      },
      "text/plain": [
       "VBox(children=(VBox(children=(HTML(value='<b>Pick a date:</b>', layout=Layout(padding='10px')), HBox(children=…"
      ]
     },
     "metadata": {},
     "output_type": "display_data"
    }
   ],
   "source": [
    "# Date Widgets\n",
    "start_date=DatePicker(\n",
    "    description='Start Date',\n",
    "    value=datetime.date(2018, 12, 1),\n",
    "    disabled=False,\n",
    ")\n",
    "end_date=DatePicker(\n",
    "    description='End Date',\n",
    "    value=datetime.date(2019, 3, 1), #2019, 1, 1\n",
    "    disabled=False,\n",
    ")\n",
    "date_instr=HTML(\n",
    "    value=\"<b>Pick a date:</b>\",\n",
    "    layout=Layout(padding='10px')\n",
    ")\n",
    "dates_box=HBox([start_date,end_date])\n",
    "dates_vbox=VBox([date_instr,dates_box])\n",
    "\n",
    "\n",
    "collection_instr=HTML(\n",
    "    value=\"<b>Pick a collection</b>\\\n",
    "        <br> C01: LandSat Collection 1 \\\n",
    "        <br> C02: LandSat Collection 2  [2022/01/01 and beyond] \\\n",
    "        <br>      - Landsat 9 is only available in C02\",\n",
    "    layout=Layout(padding='10px')\n",
    ")\n",
    "collection_radio=RadioButtons(\n",
    "    options=['C01', 'C02'],\n",
    "    value='C01',\n",
    "    description='Collection:',\n",
    "    disabled=False\n",
    ")\n",
    "collection_vbox=VBox([collection_instr,collection_radio])\n",
    "\n",
    "sat_instr=HTML(\n",
    "    value=\"<b>Pick multiple satellites by holding the control key:</b> \\\n",
    "        <br> - images prior to 2022/01/01 will be downloaded from Collection 1 \\\n",
    "        <br> - images after 2022/01/01 will be automatically downloaded from Collection 2 \\\n",
    "        <br> C01: LandSat Collection 1 : All dates before 2022/01/01\\\n",
    "        <br> C02: LandSat Collection 2 : All dates after 2022/01/01 \\\n",
    "        <br> - Landsat 9 is only available in C02\",\n",
    "    layout=Layout(padding='10px')\n",
    ")\n",
    "\n",
    "\n",
    "satellite_selection=SelectMultiple(\n",
    "    options=['L5', 'L7', 'L8', 'S2'],\n",
    "    value=['L8'],\n",
    "    description='Satellites',\n",
    "    disabled=False\n",
    ")\n",
    "# value=['S2'],\n",
    "sat_vbox = VBox([sat_instr,satellite_selection])\n",
    "\n",
    "def handle_collection_change(change):\n",
    "    if change['new'] == 'C02':\n",
    "        satellite_selection.options=['L5', 'L7', 'L8', 'L9', 'S2']\n",
    "    else:\n",
    "        satellite_selection.options=['L5', 'L7', 'L8', 'S2']\n",
    "\n",
    "collection_radio.observe(handle_collection_change,\"value\")\n",
    "\n",
    "controls_vbox=VBox([dates_vbox, collection_vbox, sat_vbox])\n",
    "controls_vbox"
   ]
  },
  {
   "cell_type": "code",
   "execution_count": 4,
   "metadata": {
    "scrolled": true
   },
   "outputs": [
    {
     "name": "stdout",
     "output_type": "stream",
     "text": [
      "dates: ['2018-12-01', '2019-03-01']\n",
      "collection: C01\n",
      "sat_list: ['L8']\n"
     ]
    }
   ],
   "source": [
    "# CoastSat Download Variables\n",
    "# ------------------------------\n",
    "# Save the satellites selected to sat_list\n",
    "if satellite_selection.value:\n",
    "    sat_list = list(satellite_selection.value)\n",
    "elif not satellite_selection.value:\n",
    "    print(\"ERROR: You must select at least one satellite first\")\n",
    "# Save the dates selected by the user as well as the selected collection\n",
    "dates = [str(start_date.value),str(end_date.value)]\n",
    "collection = collection_radio.value\n",
    "print(f\"dates: {dates}\")\n",
    "print(f\"collection: {collection}\")\n",
    "print(f\"sat_list: {sat_list}\")"
   ]
  },
  {
   "cell_type": "markdown",
   "metadata": {},
   "source": [
    "## Settings for CoastSat\n",
    "\n",
    "Modify any of the following setting to determine how data is downloaded from CoastSat\n"
   ]
  },
  {
   "cell_type": "code",
   "execution_count": 5,
   "metadata": {},
   "outputs": [],
   "source": [
    "pre_process_settings = { \n",
    "    # general parameters:\n",
    "    'cloud_thresh': 0.5,        # threshold on maximum cloud cover\n",
    "     'dist_clouds': 300,        # ditance around clouds where shoreline can't be mapped\n",
    "    'output_epsg': 3857,        # epsg code of spatial reference system desired for the output   \n",
    "    # quality control:\n",
    "    'check_detection': True,    # if True, shows each shoreline detection to the user for validation\n",
    "    'adjust_detection': False,  # if True, allows user to adjust the postion of each shoreline by changing the threhold\n",
    "    'save_figure': True,        # if True, saves a figure showing the mapped shoreline for each image\n",
    "    # [ONLY FOR ADVANCED USERS] shoreline detection parameters:\n",
    "    'min_beach_area': 4500,     # minimum area (in metres^2) for an object to be labelled as a beach\n",
    "    'buffer_size': 150,         # radius (in metres) of the buffer around sandy pixels considered in the shoreline detection\n",
    "    'min_length_sl': 200,       # minimum length (in metres) of shoreline perimeter to be valid\n",
    "    'cloud_mask_issue': False,  # switch this parameter to True if sand pixels are masked (in black) on many images  \n",
    "    'sand_color': 'default',    # 'default', 'dark' (for grey/black sand beaches) or 'bright' (for white sand beaches)\n",
    "    'pan_off':'False',          # if True, no pan-sharpening is performed on Landsat 7,8 and 9 imagery\n",
    "    'create_plot':False,        # True create a matplotlib plot of the image with the datetime as the title\n",
    "    'max_dist_ref':25\n",
    "}"
   ]
  },
  {
   "cell_type": "markdown",
   "metadata": {},
   "source": [
    "# Create the Map\n",
    "\n",
    "- Create the map object here\n",
    "- Save all the settings created earlier\n",
    "- Save the list of satellites, dates, and the collection to coastseg_map instance\n"
   ]
  },
  {
   "cell_type": "code",
   "execution_count": 6,
   "metadata": {},
   "outputs": [],
   "source": [
    "coastsegmap=coastseg_map.CoastSeg_Map()"
   ]
  },
  {
   "cell_type": "code",
   "execution_count": 7,
   "metadata": {},
   "outputs": [],
   "source": [
    "coastsegmap.save_settings(sat_list=sat_list, collection = collection,dates=dates,**pre_process_settings)"
   ]
  },
  {
   "cell_type": "code",
   "execution_count": 8,
   "metadata": {},
   "outputs": [
    {
     "data": {
      "text/plain": [
       "{'sat_list': ['L8'],\n",
       " 'collection': 'C01',\n",
       " 'dates': ['2018-12-01', '2019-03-01'],\n",
       " 'cloud_thresh': 0.5,\n",
       " 'dist_clouds': 300,\n",
       " 'output_epsg': 3857,\n",
       " 'check_detection': True,\n",
       " 'adjust_detection': False,\n",
       " 'save_figure': True,\n",
       " 'min_beach_area': 4500,\n",
       " 'buffer_size': 150,\n",
       " 'min_length_sl': 200,\n",
       " 'cloud_mask_issue': False,\n",
       " 'sand_color': 'default',\n",
       " 'pan_off': 'False',\n",
       " 'create_plot': False,\n",
       " 'max_dist_ref': 25}"
      ]
     },
     "execution_count": 8,
     "metadata": {},
     "output_type": "execute_result"
    }
   ],
   "source": [
    "coastsegmap.settings"
   ]
  },
  {
   "cell_type": "markdown",
   "metadata": {
    "tags": []
   },
   "source": [
    "# How to Use The Map\n",
    "\n",
    "---\n",
    "\n",
    "1. Use the rectangle tool to draw a bounding box along the coastline.\n",
    "2. Click `Generate ROI` to create ROI rectangles along the coastline in the bounding box. This may take some time.\n",
    "\n",
    "- You should see a coastline appear in yellow and some rectangles along it.\n",
    "\n",
    "3. Click 1 or more ROIs then click `Save ROI` to save these ROIs for downloading later\n",
    "4. You're ready to download the ROIs. Run the next block of code.\n"
   ]
  },
  {
   "cell_type": "code",
   "execution_count": 9,
   "metadata": {},
   "outputs": [
    {
     "data": {
      "application/vnd.jupyter.widget-view+json": {
       "model_id": "3a6c74a8dc2240118a9514b455812065",
       "version_major": 2,
       "version_minor": 0
      },
      "text/plain": [
       "HBox(children=(VBox(children=(HTML(value='<h2><b>Generate ROIs</b></h2>                 Use the two sliders to…"
      ]
     },
     "metadata": {},
     "output_type": "display_data"
    },
    {
     "data": {
      "application/vnd.jupyter.widget-view+json": {
       "model_id": "9a5efcf885244936b95d0db7b485310d",
       "version_major": 2,
       "version_minor": 0
      },
      "text/plain": [
       "HBox(children=(HBox(children=(Button(description='Load Transects', style=ButtonStyle(button_color='#69add1')),…"
      ]
     },
     "metadata": {},
     "output_type": "display_data"
    },
    {
     "data": {
      "application/vnd.jupyter.widget-view+json": {
       "model_id": "b35ab291213349569a82af3fd9e57675",
       "version_major": 2,
       "version_minor": 0
      },
      "text/plain": [
       "HBox(children=(HBox(children=(Button(description='Remove all', style=ButtonStyle(button_color='red')), Button(…"
      ]
     },
     "metadata": {},
     "output_type": "display_data"
    },
    {
     "data": {
      "application/vnd.jupyter.widget-view+json": {
       "model_id": "fb501366a8134a8f9fad0546d4f390e9",
       "version_major": 2,
       "version_minor": 0
      },
      "text/plain": [
       "HBox(children=(Button(description='Clear TextBox', style=ButtonStyle(button_color='#a3adac')), Output(layout=L…"
      ]
     },
     "metadata": {},
     "output_type": "display_data"
    },
    {
     "data": {
      "application/vnd.jupyter.widget-view+json": {
       "model_id": "870800625714438ab3a1c49d50f66f43",
       "version_major": 2,
       "version_minor": 0
      },
      "text/plain": [
       "HBox(children=(Output(layout=Layout(border='1px solid black')),))"
      ]
     },
     "metadata": {},
     "output_type": "display_data"
    },
    {
     "data": {
      "application/vnd.jupyter.widget-view+json": {
       "model_id": "58bf58d0c5574792988e19b0af44dce9",
       "version_major": 2,
       "version_minor": 0
      },
      "text/plain": [
       "HBox(children=(Map(center=[40.8630302395, -124.166267], controls=(ZoomControl(options=['position', 'zoom_in_te…"
      ]
     },
     "metadata": {},
     "output_type": "display_data"
    }
   ],
   "source": [
    "from src.coastseg.map_UI import UI\n",
    "coastseg_ui = UI(coastsegmap)\n",
    "coastseg_ui.create_dashboard()"
   ]
  },
  {
   "cell_type": "code",
   "execution_count": null,
   "metadata": {},
   "outputs": [],
   "source": [
    "coastsegmap.settings"
   ]
  },
  {
   "cell_type": "code",
   "execution_count": null,
   "metadata": {},
   "outputs": [],
   "source": [
    "coastsegmap.rois.master_config"
   ]
  },
  {
   "cell_type": "code",
   "execution_count": null,
   "metadata": {},
   "outputs": [],
   "source": [
    "import geopandas as gpd\n",
    "import numpy as np\n",
    "file_path=r'C:\\1_USGS\\CoastSeg\\repos\\2_CoastSeg\\CoastSeg_fork\\Seg2Map\\data\\ID02022-10-07__13_hr_15_min45sec\\ID12022-10-07__13_hr_15_min45sec_output_lines_staticref.geojson'\n",
    "with open(file_path, 'r') as f:\n",
    "    gpd_data = gpd.read_file(f)\n",
    "gpd_data = gpd_data.to_crs(\"epsg:4326\")\n",
    "gpd_data.to_file('static_shoreline.geojson',driver='GeoJSON')"
   ]
  },
  {
   "cell_type": "code",
   "execution_count": null,
   "metadata": {},
   "outputs": [],
   "source": [
    "from shapely.geometry import Point\n",
    "d = {'col1': ['name1', 'name2'], 'geometry': [Point(1, 2), Point(2, 1)]}\n",
    "gpd.GeoDataFrame(d).to_file('HAHAA.geojson',driver='GeoJSON')"
   ]
  },
  {
   "cell_type": "code",
   "execution_count": null,
   "metadata": {},
   "outputs": [],
   "source": [
    "gpd_data.crs"
   ]
  },
  {
   "cell_type": "code",
   "execution_count": null,
   "metadata": {},
   "outputs": [],
   "source": [
    "gpd_data = gpd_data.to_crs(\"epsg:4326\")\n",
    "gpd_data"
   ]
  },
  {
   "cell_type": "code",
   "execution_count": null,
   "metadata": {},
   "outputs": [],
   "source": [
    "print(gpd_data['geometry'][0])"
   ]
  },
  {
   "cell_type": "code",
   "execution_count": null,
   "metadata": {},
   "outputs": [],
   "source": [
    "gpd_data.crs"
   ]
  },
  {
   "cell_type": "code",
   "execution_count": null,
   "metadata": {},
   "outputs": [],
   "source": [
    "gpd_data.to_file('static_shoreline.geojson',driver='GeoJSON')"
   ]
  },
  {
   "cell_type": "code",
   "execution_count": null,
   "metadata": {},
   "outputs": [],
   "source": [
    "with open(r'C:\\1_USGS\\CoastSeg\\repos\\2_CoastSeg\\CoastSeg_fork\\Seg2Map\\ugh.geojson', 'r') as f:\n",
    "    gpd_data = gpd.read_file(f)\n",
    "gpd_data"
   ]
  },
  {
   "cell_type": "code",
   "execution_count": null,
   "metadata": {},
   "outputs": [],
   "source": [
    "gpd_data.crs"
   ]
  },
  {
   "cell_type": "code",
   "execution_count": null,
   "metadata": {},
   "outputs": [],
   "source": [
    "import os\n",
    "import json\n",
    "import logging\n",
    "from typing import Union\n",
    "\n",
    "from src.coastseg.bbox import Bounding_Box\n",
    "from src.coastseg import common\n",
    "from src.coastseg.shoreline import Shoreline\n",
    "from src.coastseg.transects import Transects\n",
    "from src.coastseg.roi import ROI\n",
    "from src.coastseg import exceptions\n",
    "\n",
    "import geopandas as gpd\n",
    "import numpy as np\n",
    "from shapely.geometry import Polygon\n",
    "\n",
    "from coastsat import SDS_tools, SDS_download, SDS_tools,SDS_transects,SDS_shoreline, SDS_preprocess\n",
    "from ipyleaflet import DrawControl, LayersControl,  WidgetControl, GeoJSON\n",
    "from leafmap import Map\n",
    "from ipywidgets import Layout, HTML, Accordion\n",
    "from tqdm.auto import tqdm\n",
    "from pyproj import Proj, transform"
   ]
  },
  {
   "cell_type": "code",
   "execution_count": null,
   "metadata": {},
   "outputs": [],
   "source": [
    "settings_transects = { # parameters for computing intersections\n",
    "                      'along_dist':          25,        # along-shore distance to use for computing the intersection\n",
    "                      'min_points':          3,         # minimum number of shoreline points to calculate an intersection\n",
    "                      'max_std':             15,        # max std for points around transect\n",
    "                      'max_range':           30,        # max range for points around transect\n",
    "                      'min_chainage':        -100,      # largest negative value along transect (landwards of transect origin)\n",
    "                      'multiple_inter':      'max',    # mode for removing outliers ('auto', 'nan', 'max')\n",
    "                      'prc_multiple':         0.1,      # percentage of the time that multiple intersects are present to use the max\n",
    "                     }\n",
    "settings_transects"
   ]
  },
  {
   "cell_type": "code",
   "execution_count": null,
   "metadata": {},
   "outputs": [],
   "source": [
    "roi_id=16\n",
    "inProj = Proj(init='epsg:4326')\n",
    "outProj = Proj(init='epsg:'+str(coastsegmap.settings['output_epsg']))\n",
    "cross_distance_max = 0\n",
    "try:\n",
    "    # Select a single roi by id\n",
    "    single_roi = coastsegmap.rois.gdf[coastsegmap.rois.gdf['id']==roi_id]\n",
    "    # if the id was not found in the geodataframe raise an exception\n",
    "    if single_roi.empty:\n",
    "        logger.error(f\"Id: {id} was not found in {coastsegmap.rois.gdf}\")\n",
    "        raise Exception(\"Id: {id} was not found in {coastsegmap.rois.gdf}\")\n",
    "    \n",
    "    extracted_shoreline=coastsegmap.rois.extracted_shorelines[int(roi_id)]\n",
    "    # if no extracted shoreline exists for the roi's id then return cross distance = 0  \n",
    "    if extracted_shoreline == {} :\n",
    "         print({})\n",
    "    \n",
    "    # Get transects intersecting this specific ROI as a geodataframe\n",
    "    transect_in_roi=coastsegmap.get_intersecting_transects(coastsegmap.rois.gdf,coastsegmap.transects.gdf,roi_id)\n",
    "    \n",
    "    print(f\"compute_transects_for_roi() :transect_in_roi: {transect_in_roi}\")\n",
    "    # Do not compute the transect if no shoreline exists\n",
    "    if not coastsegmap.is_shoreline_present(coastsegmap.rois.extracted_shorelines,int(roi_id)):\n",
    "        raise exceptions.No_Extracted_Shoreline(f\"No extracted shoreline at this roi {roi_id}\")\n",
    "    else:\n",
    "        print(\"Shoreline present at ROI: \",roi_id)\n",
    "        print(\"Creating transects...\")\n",
    "        print(f\"compute_transects_for_roi() :Shoreline present at ROI: {roi_id}\")\n",
    "        # convert transects to lan,lon tuples \n",
    "        transects_coords = []\n",
    "        for k in transect_in_roi['geometry'].keys():\n",
    "            transects_coords.append(tuple(np.array(transect_in_roi['geometry'][k]).tolist()))\n",
    "        print(f\"transects_coords:{transects_coords}\")\n",
    "        # convert to dict of numpy arrays of start and end points\n",
    "        transects = {}\n",
    "        for counter,i in enumerate(transects_coords):\n",
    "            x0,y0 = transform(inProj,outProj,i[0][0],i[0][1])\n",
    "            x1,y1 = transform(inProj,outProj,i[1][0],i[1][1])    \n",
    "            transects['NA'+str(counter)] = np.array([[x0,y0],[x1,y1]])\n",
    "        print(f\"compute_transects_for_roi():: transects: {transects}\")\n",
    "        # defines along-shore distance over which to consider shoreline points to compute median intersection (robust to outliers)\n",
    "        if 'along_dist' not in coastsegmap.settings.keys():\n",
    "            coastsegmap.settings['along_dist'] = 25 \n",
    "        cross_distance_max = SDS_transects.compute_intersection(extracted_shoreline, transects, settings_transects ) \n",
    "        print(f\"transects cross_distance:{cross_distance}\")\n",
    "except Exception as err:\n",
    "    raise Exception(err)\n",
    "\n",
    "cross_distance_max"
   ]
  },
  {
   "cell_type": "code",
   "execution_count": null,
   "metadata": {},
   "outputs": [],
   "source": [
    "cross_distance_max"
   ]
  },
  {
   "cell_type": "code",
   "execution_count": null,
   "metadata": {},
   "outputs": [],
   "source": [
    "cross_distance_standard"
   ]
  },
  {
   "cell_type": "code",
   "execution_count": null,
   "metadata": {},
   "outputs": [],
   "source": [
    "#auto settings\n",
    "cross_distance_auto"
   ]
  },
  {
   "cell_type": "code",
   "execution_count": null,
   "metadata": {},
   "outputs": [],
   "source": [
    "import json\n",
    "with open(f\"ROI_{roi_id}_transects_cross_dis_auto.json\",'w')as f:\n",
    "    json.dump(cross_distance,f)"
   ]
  },
  {
   "cell_type": "code",
   "execution_count": null,
   "metadata": {},
   "outputs": [],
   "source": [
    "coastsegmap.rois.cross_distance_transects"
   ]
  },
  {
   "cell_type": "code",
   "execution_count": null,
   "metadata": {},
   "outputs": [],
   "source": []
  },
  {
   "cell_type": "code",
   "execution_count": null,
   "metadata": {},
   "outputs": [],
   "source": [
    "coastsegmap.inputs_dict"
   ]
  },
  {
   "cell_type": "code",
   "execution_count": null,
   "metadata": {},
   "outputs": [],
   "source": [
    "coastsegmap.rois.inputs_dict"
   ]
  },
  {
   "cell_type": "code",
   "execution_count": null,
   "metadata": {},
   "outputs": [],
   "source": [
    "import json\n",
    "with open(\"inputs.json\",'w') as f:\n",
    "    json.dump(coastsegmap.rois.inputs_dict,f)"
   ]
  },
  {
   "cell_type": "code",
   "execution_count": null,
   "metadata": {},
   "outputs": [],
   "source": [
    "coastsegmap.shoreline.gdf"
   ]
  },
  {
   "cell_type": "code",
   "execution_count": null,
   "metadata": {},
   "outputs": [],
   "source": []
  },
  {
   "cell_type": "code",
   "execution_count": null,
   "metadata": {},
   "outputs": [],
   "source": [
    "coastsegmap.selected_ROI_layer.data"
   ]
  },
  {
   "cell_type": "code",
   "execution_count": null,
   "metadata": {},
   "outputs": [],
   "source": [
    "import geopandas as gpd\n",
    "import numpy as np\n",
    "single_roi_gdf = coastsegmap.rois.gdf[coastsegmap.rois.gdf['id']==23]\n",
    "single_roi_gdf"
   ]
  },
  {
   "cell_type": "code",
   "execution_count": null,
   "metadata": {},
   "outputs": [],
   "source": [
    "shoreline_in_roi = gpd.clip(coastsegmap.shoreline.gdf, single_roi_gdf)\n",
    "shoreline_in_roi"
   ]
  },
  {
   "cell_type": "code",
   "execution_count": null,
   "metadata": {},
   "outputs": [],
   "source": [
    "shoreline_in_roi.iloc[-1:][\"geometry\"]"
   ]
  },
  {
   "cell_type": "code",
   "execution_count": null,
   "metadata": {},
   "outputs": [],
   "source": [
    "shoreline_in_roi['geometry'][10]"
   ]
  },
  {
   "cell_type": "code",
   "execution_count": null,
   "metadata": {},
   "outputs": [],
   "source": [
    "type(shoreline_in_roi['geometry'][10])"
   ]
  },
  {
   "cell_type": "code",
   "execution_count": null,
   "metadata": {},
   "outputs": [],
   "source": [
    "np.array(shoreline_in_roi['geometry'][10])"
   ]
  },
  {
   "cell_type": "code",
   "execution_count": null,
   "metadata": {},
   "outputs": [],
   "source": [
    "type(shoreline_in_roi['geometry'][21])"
   ]
  },
  {
   "cell_type": "code",
   "execution_count": null,
   "metadata": {},
   "outputs": [],
   "source": [
    "shoreline_in_roi['geometry']"
   ]
  },
  {
   "cell_type": "code",
   "execution_count": null,
   "metadata": {},
   "outputs": [],
   "source": [
    "exploded = shoreline_in_roi.explode()\n",
    "exploded "
   ]
  },
  {
   "cell_type": "code",
   "execution_count": null,
   "metadata": {},
   "outputs": [],
   "source": [
    "np.array(shoreline_in_roi['geometry'][21])"
   ]
  },
  {
   "cell_type": "code",
   "execution_count": null,
   "metadata": {},
   "outputs": [],
   "source": [
    "shoreline_in_roi['geometry'][21]"
   ]
  },
  {
   "cell_type": "code",
   "execution_count": null,
   "metadata": {},
   "outputs": [],
   "source": [
    "shoreline_in_roi['geometry'].keys()"
   ]
  },
  {
   "cell_type": "code",
   "execution_count": null,
   "metadata": {},
   "outputs": [],
   "source": [
    "# for index in shoreline_in_roi['geometry'].keys():\n",
    "#     print(index)\n",
    "#     print(type(index))"
   ]
  },
  {
   "cell_type": "code",
   "execution_count": null,
   "metadata": {},
   "outputs": [],
   "source": [
    "    for k in shoreline_in_roi['geometry'].keys():\n",
    "            #For each linestring portion of shoreline convert to lat,lon tuples\n",
    "            shorelines.append(tuple(np.array(shoreline_in_roi['geometry'][k]).tolist()))"
   ]
  },
  {
   "cell_type": "code",
   "execution_count": null,
   "metadata": {},
   "outputs": [],
   "source": [
    "coastsegmap.settings"
   ]
  },
  {
   "cell_type": "code",
   "execution_count": null,
   "metadata": {},
   "outputs": [],
   "source": [
    "coastsegmap.rois.inputs_dict"
   ]
  },
  {
   "cell_type": "code",
   "execution_count": null,
   "metadata": {},
   "outputs": [],
   "source": [
    "coastsegmap.ROI_layer"
   ]
  },
  {
   "cell_type": "code",
   "execution_count": null,
   "metadata": {},
   "outputs": [],
   "source": [
    "coastsegmap.selected_ROI_layer.data"
   ]
  },
  {
   "cell_type": "code",
   "execution_count": null,
   "metadata": {},
   "outputs": [],
   "source": [
    "for roi in coastsegmap.selected_ROI_layer.data['features']:\n",
    "    print(roi)\n",
    "    print(roi['properties'])"
   ]
  },
  {
   "cell_type": "code",
   "execution_count": null,
   "metadata": {},
   "outputs": [],
   "source": []
  },
  {
   "cell_type": "code",
   "execution_count": null,
   "metadata": {},
   "outputs": [],
   "source": []
  },
  {
   "cell_type": "code",
   "execution_count": null,
   "metadata": {},
   "outputs": [],
   "source": [
    "def get_inputs_list(selected_roi_geojson,\n",
    "    dates: list,\n",
    "    sat_list: list,\n",
    "    collection: str)->list[dict]:\n",
    "    \"\"\"get_inputs_list Returns a list of all download settings each of ROI.\n",
    "        Sample download settings:\n",
    "        {'polygon': roi[\"geometry\"][\"coordinates\"],\n",
    "        'roi_id':roi['id'],\n",
    "        'dates': dates,\n",
    "        'sat_list': sat_list,\n",
    "        'sitename' : 'ID02022-10-04__21_hr_39_min03sec',(ex folder name)\n",
    "        'filepath': filepath,\n",
    "        'landsat_collection': collection}\n",
    "    Args:\n",
    "        selected_roi_geojson:dict\n",
    "            A geojson dictionary containing all the ROIs selected by the user\n",
    "        dates: list\n",
    "            A list of length two that contains a valid start and end date\n",
    "        collection : str\n",
    "        whether to use LandSat Collection 1 (`C01`) or Collection 2 (`C02`).\n",
    "        sat_list: list\n",
    "            A list of strings containing the names of the satellite\n",
    "    Returns:\n",
    "        list[dict]: list of all download settings each of ROI\n",
    "    \"\"\"        \n",
    "    date_str = generate_datestring()\n",
    "    # filepath: directory where data will be saved\n",
    "    filepath = os.path.join(os.getcwd(), 'data')\n",
    "    # create unique sitenames using the date and index of ROI\n",
    "    # for each site create dictionary with download settings eg. dates,sitename\n",
    "    site_ids=np.arange(len(selected_roi_geojson['features']))\n",
    "    sitenames=list(map(lambda x:'ID' + str(x) + date_str,site_ids))\n",
    "    attributes = list(map(lambda x: { 'dates': dates,\n",
    "                                        'sat_list': sat_list,\n",
    "                                        'sitename' : x,\n",
    "                                        'filepath': filepath,\n",
    "                                        'landsat_collection': collection} ,sitenames))\n",
    "    logger.info(f\"attributes: {attributes}\")\n",
    "    inputs_list=list(starmap(combine_inputs,(zip(selected_roi_geojson['features'],attributes))))\n",
    "    logger.info(f\"inputs_list: {inputs_list}\")\n",
    "    del attributes,sitenames,site_ids\n",
    "    if inputs_list == []:\n",
    "        logger.error(\"Error: No ROIs were selected. Please click a valid ROI on the map\")\n",
    "        raise Exception(\"Error: No ROIs were selected. Please click a valid ROI on the map\\n\")\n",
    "    logger.info(f\"Images available: \\n {inputs_list}\")\n",
    "    return inputs_list"
   ]
  },
  {
   "cell_type": "code",
   "execution_count": null,
   "metadata": {},
   "outputs": [],
   "source": [
    "coastsegmap.selected_ROI_layer.data['features'][0]['properties']['id']"
   ]
  },
  {
   "cell_type": "code",
   "execution_count": null,
   "metadata": {},
   "outputs": [],
   "source": [
    "'roi_id':roi['id'],"
   ]
  },
  {
   "cell_type": "code",
   "execution_count": null,
   "metadata": {},
   "outputs": [],
   "source": [
    "    polygon = roi[\"geometry\"][\"coordinates\"]\n",
    "    polygon = SDS_tools.smallest_rectangle(polygon)\n",
    "    inputs = {\n",
    "    'polygon': polygon,\n",
    "    'roi_id':roi['id'],"
   ]
  },
  {
   "cell_type": "markdown",
   "metadata": {},
   "source": [
    "## Run Models on Imagery\n",
    "1. Select if you want to use a GPU or not. By default you won't your computer's GPU\n",
    "2. Select if you want to use CRF post-processing or not. By default CRF post-processing is not enabled\n",
    "<br>**WARNING**: There is a bug with CRF post-processing and the models so you will need to enable CRF post-processing until it is fixed.\n",
    "3. Select whether your data is the type RGB or MNDWI\n",
    "4. Select the model you want to use\n",
    "5. Select Ensemble or Best (Ensemble is recommended) \n",
    "6. \n"
   ]
  },
  {
   "cell_type": "code",
   "execution_count": null,
   "metadata": {},
   "outputs": [],
   "source": [
    "from src.coastseg.UI_models import UI_Models\n",
    "models_ui = UI_Models()\n",
    "models_ui.create_dashboard()"
   ]
  },
  {
   "cell_type": "code",
   "execution_count": null,
   "metadata": {},
   "outputs": [],
   "source": []
  }
 ],
 "metadata": {
  "kernelspec": {
   "display_name": "Python 3 (ipykernel)",
   "language": "python",
   "name": "python3"
  },
  "language_info": {
   "codemirror_mode": {
    "name": "ipython",
    "version": 3
   },
   "file_extension": ".py",
   "mimetype": "text/x-python",
   "name": "python",
   "nbconvert_exporter": "python",
   "pygments_lexer": "ipython3",
   "version": "3.10.4"
  },
  "vscode": {
   "interpreter": {
    "hash": "53ab1155a6fba8dac112dd11f6ebbdb1bff1a2fc6fa221ef0a2c21c817842ec3"
   }
  },
  "widgets": {
   "application/vnd.jupyter.widget-state+json": {
    "state": {
     "0028bc7d6b684d88846f623fa02c62a3": {
      "model_module": "jupyter-leaflet",
      "model_module_version": "^0.17.0",
      "model_name": "LeafletTileLayerModel",
      "state": {
       "_model_module_version": "^0.17.0",
       "_view_module_version": "^0.17.0",
       "attribution": "Map tiles by Stamen Design, CC BY 3.0 -- Map data (C) OpenStreetMap contributors",
       "max_zoom": 20,
       "name": "Stamen.TonerLite",
       "options": [
        "attribution",
        "bounds",
        "detect_retina",
        "max_native_zoom",
        "max_zoom",
        "min_native_zoom",
        "min_zoom",
        "no_wrap",
        "tile_size",
        "tms"
       ],
       "url": "https://stamen-tiles-a.a.ssl.fastly.net/toner-lite/{z}/{x}/{y}.png"
      }
     },
     "014ba87bdefb4edb9db9363cf13e67be": {
      "model_module": "jupyter-leaflet",
      "model_module_version": "^0.17.0",
      "model_name": "LeafletMapStyleModel",
      "state": {
       "_model_module_version": "^0.17.0",
       "cursor": "default"
      }
     },
     "020372f80e944c738106c0f7fd427f73": {
      "model_module": "@jupyter-widgets/controls",
      "model_module_version": "1.5.0",
      "model_name": "ToggleButtonModel",
      "state": {
       "button_style": "primary",
       "icon": "fast-forward",
       "layout": "IPY_MODEL_ed4e359837fb4b858e5f5dda0b05707a",
       "style": "IPY_MODEL_c3566e1baef9488fbacaa2696d2a824a",
       "tooltip": "Activate the time slider"
      }
     },
     "03fe7dcd4dd44b4fb5ec61146383d5f9": {
      "model_module": "@jupyter-widgets/controls",
      "model_module_version": "1.5.0",
      "model_name": "ButtonModel",
      "state": {
       "description": "Load rois from file",
       "layout": "IPY_MODEL_13632b0899024743bec0c27f9b564b77",
       "style": "IPY_MODEL_b841e5423d1646bf9c1ce3f76dbffc20"
      }
     },
     "04135197f811410eae86dcf860351a2f": {
      "model_module": "@jupyter-widgets/base",
      "model_module_version": "1.2.0",
      "model_name": "LayoutModel",
      "state": {}
     },
     "06ac1d7b32a84c2b9f2c126d59197561": {
      "model_module": "@jupyter-widgets/controls",
      "model_module_version": "1.5.0",
      "model_name": "ToggleButtonModel",
      "state": {
       "button_style": "primary",
       "icon": "globe",
       "layout": "IPY_MODEL_0eddda6b6a9f47929800491a3e12ee69",
       "style": "IPY_MODEL_33ed089418604b41a4c1b5cb34b385e5",
       "tooltip": "Split-panel map"
      }
     },
     "074cb4bd6737477f837237d011623e98": {
      "model_module": "jupyter-leaflet",
      "model_module_version": "^0.17.0",
      "model_name": "LeafletTileLayerModel",
      "state": {
       "_model_module_version": "^0.17.0",
       "_view_module_version": "^0.17.0",
       "attribution": "(C) Stadia Maps, (C) OpenMapTiles (C) OpenStreetMap contributors",
       "max_zoom": 20,
       "name": "Stadia.Outdoors",
       "options": [
        "attribution",
        "bounds",
        "detect_retina",
        "max_native_zoom",
        "max_zoom",
        "min_native_zoom",
        "min_zoom",
        "no_wrap",
        "tile_size",
        "tms"
       ],
       "url": "https://tiles.stadiamaps.com/tiles/outdoors/{z}/{x}/{y}.png"
      }
     },
     "08de13f462c442199e03af7335d63744": {
      "model_module": "jupyter-leaflet",
      "model_module_version": "^0.17.0",
      "model_name": "LeafletWMSLayerModel",
      "state": {
       "_model_module_version": "^0.17.0",
       "_view_module_version": "^0.17.0",
       "attribution": "MRLC",
       "crs": {
        "custom": false,
        "name": "EPSG3857"
       },
       "format": "image/png",
       "layers": "NLCD_2013_Land_Cover_L48",
       "name": "NLCD 2013 CONUS Land Cover",
       "options": [
        "attribution",
        "bounds",
        "detect_retina",
        "format",
        "layers",
        "max_native_zoom",
        "max_zoom",
        "min_native_zoom",
        "min_zoom",
        "no_wrap",
        "styles",
        "tile_size",
        "tms",
        "transparent",
        "uppercase"
       ],
       "transparent": true,
       "url": "https://www.mrlc.gov/geoserver/mrlc_display/NLCD_2013_Land_Cover_L48/wms?"
      }
     },
     "08f3f079547a4af09f17560385249daf": {
      "model_module": "jupyter-leaflet",
      "model_module_version": "^0.17.0",
      "model_name": "LeafletTileLayerModel",
      "state": {
       "_model_module_version": "^0.17.0",
       "_view_module_version": "^0.17.0",
       "attribution": "© swisstopo",
       "name": "SwissFederalGeoportal.NationalMapGrey",
       "options": [
        "attribution",
        "bounds",
        "detect_retina",
        "max_native_zoom",
        "max_zoom",
        "min_native_zoom",
        "min_zoom",
        "no_wrap",
        "tile_size",
        "tms"
       ],
       "url": "https://wmts.geo.admin.ch/1.0.0/ch.swisstopo.pixelkarte-grau/default/current/3857/{z}/{x}/{y}.jpeg"
      }
     },
     "0a77e09466cc43b788bfa0696118e0cf": {
      "model_module": "@jupyter-widgets/base",
      "model_module_version": "1.2.0",
      "model_name": "LayoutModel",
      "state": {}
     },
     "0bcf6c6258d64a528f78f0d7c820fd15": {
      "model_module": "@jupyter-widgets/controls",
      "model_module_version": "1.5.0",
      "model_name": "ButtonStyleModel",
      "state": {
       "button_color": "#69add1"
      }
     },
     "0c29f42ecdb44eeaa6d20aa762c0a235": {
      "model_module": "jupyter-leaflet",
      "model_module_version": "^0.17.0",
      "model_name": "LeafletTileLayerModel",
      "state": {
       "_model_module_version": "^0.17.0",
       "_view_module_version": "^0.17.0",
       "attribution": "(C) OpenStreetMap contributors (C) CARTO",
       "max_zoom": 20,
       "name": "CartoDB.PositronOnlyLabels",
       "options": [
        "attribution",
        "bounds",
        "detect_retina",
        "max_native_zoom",
        "max_zoom",
        "min_native_zoom",
        "min_zoom",
        "no_wrap",
        "tile_size",
        "tms"
       ],
       "url": "https://a.basemaps.cartocdn.com/light_only_labels/{z}/{x}/{y}.png"
      }
     },
     "0db62a3c8ec340f1b18bca9af83b0300": {
      "model_module": "@jupyter-widgets/base",
      "model_module_version": "1.2.0",
      "model_name": "LayoutModel",
      "state": {
       "height": "28px",
       "width": "72px"
      }
     },
     "0de83058f7444375aee48731817875d3": {
      "model_module": "jupyter-leaflet",
      "model_module_version": "^0.17.0",
      "model_name": "LeafletTileLayerModel",
      "state": {
       "_model_module_version": "^0.17.0",
       "_view_module_version": "^0.17.0",
       "attribution": "Tiles (C) Esri -- National Geographic, Esri, DeLorme, NAVTEQ, UNEP-WCMC, USGS, NASA, ESA, METI, NRCAN, GEBCO, NOAA, iPC",
       "max_zoom": 16,
       "name": "Esri.NatGeoWorldMap",
       "options": [
        "attribution",
        "bounds",
        "detect_retina",
        "max_native_zoom",
        "max_zoom",
        "min_native_zoom",
        "min_zoom",
        "no_wrap",
        "tile_size",
        "tms"
       ],
       "url": "https://server.arcgisonline.com/ArcGIS/rest/services/NatGeo_World_Map/MapServer/tile/{z}/{y}/{x}"
      }
     },
     "0df3d1a730924211a4731eb82bad4c87": {
      "model_module": "@jupyter-widgets/base",
      "model_module_version": "1.2.0",
      "model_name": "LayoutModel",
      "state": {
       "height": "auto",
       "padding": "0px 0px 0px 4px",
       "width": "auto"
      }
     },
     "0df6c1976fb349a49a4d078b2fb83328": {
      "model_module": "@jupyter-widgets/base",
      "model_module_version": "1.2.0",
      "model_name": "LayoutModel",
      "state": {
       "height": "auto",
       "padding": "0px 0px 0px 4px",
       "width": "auto"
      }
     },
     "0e211d0d06bb4193b43d2abc72bc8c1b": {
      "model_module": "jupyter-leaflet",
      "model_module_version": "^0.17.0",
      "model_name": "LeafletWMSLayerModel",
      "state": {
       "_model_module_version": "^0.17.0",
       "_view_module_version": "^0.17.0",
       "attribution": "FWS",
       "crs": {
        "custom": false,
        "name": "EPSG3857"
       },
       "format": "image/png",
       "layers": "1",
       "name": "FWS NWI Wetlands",
       "options": [
        "attribution",
        "bounds",
        "detect_retina",
        "format",
        "layers",
        "max_native_zoom",
        "max_zoom",
        "min_native_zoom",
        "min_zoom",
        "no_wrap",
        "styles",
        "tile_size",
        "tms",
        "transparent",
        "uppercase"
       ],
       "transparent": true,
       "url": "https://www.fws.gov/wetlands/arcgis/services/Wetlands/MapServer/WMSServer?"
      }
     },
     "0eb07c4149244b07a289af5cd3f629e5": {
      "model_module": "@jupyter-widgets/base",
      "model_module_version": "1.2.0",
      "model_name": "LayoutModel",
      "state": {
       "height": "auto",
       "padding": "0px 0px 0px 4px",
       "width": "auto"
      }
     },
     "0eddda6b6a9f47929800491a3e12ee69": {
      "model_module": "@jupyter-widgets/base",
      "model_module_version": "1.2.0",
      "model_name": "LayoutModel",
      "state": {
       "height": "auto",
       "padding": "0px 0px 0px 4px",
       "width": "auto"
      }
     },
     "0efd4b4ac6ac4d0590641d0fe6f25315": {
      "model_module": "@jupyter-widgets/base",
      "model_module_version": "1.2.0",
      "model_name": "LayoutModel",
      "state": {}
     },
     "0ff2929bdcc04dea888e4bae843a7a12": {
      "model_module": "jupyter-leaflet",
      "model_module_version": "^0.17.0",
      "model_name": "LeafletTileLayerModel",
      "state": {
       "_model_module_version": "^0.17.0",
       "_view_module_version": "^0.17.0",
       "attribution": "OpenStreetMap",
       "max_zoom": 22,
       "name": "OpenStreetMap",
       "options": [
        "attribution",
        "bounds",
        "detect_retina",
        "max_native_zoom",
        "max_zoom",
        "min_native_zoom",
        "min_zoom",
        "no_wrap",
        "tile_size",
        "tms"
       ]
      }
     },
     "117f14a63aff433d9a2f6d3b06136767": {
      "model_module": "jupyter-leaflet",
      "model_module_version": "^0.17.0",
      "model_name": "LeafletTileLayerModel",
      "state": {
       "_model_module_version": "^0.17.0",
       "_view_module_version": "^0.17.0",
       "attribution": "Map data: (C) OpenStreetMap contributors | Map style: (C) OpenRailwayMap (CC-BY-SA)",
       "max_zoom": 19,
       "name": "OpenRailwayMap",
       "options": [
        "attribution",
        "bounds",
        "detect_retina",
        "max_native_zoom",
        "max_zoom",
        "min_native_zoom",
        "min_zoom",
        "no_wrap",
        "tile_size",
        "tms"
       ],
       "url": "https://a.tiles.openrailwaymap.org/standard/{z}/{x}/{y}.png"
      }
     },
     "11837e03767a470bbbd5340268f13b94": {
      "model_module": "@jupyter-widgets/controls",
      "model_module_version": "1.5.0",
      "model_name": "ButtonStyleModel",
      "state": {
       "button_color": "#a3adac"
      }
     },
     "121021f4db3041c0960e87a9c7fddc2e": {
      "model_module": "@jupyter-widgets/controls",
      "model_module_version": "1.5.0",
      "model_name": "ButtonStyleModel",
      "state": {
       "button_color": "#ae3cf0"
      }
     },
     "13067b18cb6441b186fa723ef9db037b": {
      "model_module": "@jupyter-widgets/controls",
      "model_module_version": "1.5.0",
      "model_name": "DescriptionStyleModel",
      "state": {
       "description_width": ""
      }
     },
     "13632b0899024743bec0c27f9b564b77": {
      "model_module": "@jupyter-widgets/base",
      "model_module_version": "1.2.0",
      "model_name": "LayoutModel",
      "state": {}
     },
     "13a0704f8e7f4b59a4001b1fc6f49a9f": {
      "model_module": "jupyter-leaflet",
      "model_module_version": "^0.17.0",
      "model_name": "LeafletTileLayerModel",
      "state": {
       "_model_module_version": "^0.17.0",
       "_view_module_version": "^0.17.0",
       "attribution": "Datenquelle: basemap.at",
       "max_zoom": 19,
       "name": "BasemapAT.surface",
       "options": [
        "attribution",
        "bounds",
        "detect_retina",
        "max_native_zoom",
        "max_zoom",
        "min_native_zoom",
        "min_zoom",
        "no_wrap",
        "tile_size",
        "tms"
       ],
       "url": "https://maps.wien.gv.at/basemap/bmapoberflaeche/grau/google3857/{z}/{y}/{x}.jpeg"
      }
     },
     "145b52db4e6844838b634e4b4436d81c": {
      "model_module": "@jupyter-widgets/base",
      "model_module_version": "1.2.0",
      "model_name": "LayoutModel",
      "state": {}
     },
     "146b2d1881bc43e3bb644bedd10f1053": {
      "model_module": "@jupyter-widgets/controls",
      "model_module_version": "1.5.0",
      "model_name": "HTMLModel",
      "state": {
       "layout": "IPY_MODEL_dca09901f09747af9a1b95bcf45e08ab",
       "style": "IPY_MODEL_fc997f6009764d579ad31d03454fa09a",
       "value": "Downloading ROIs: 100%"
      }
     },
     "15aa8c376bf74b57b846b877de2821be": {
      "model_module": "@jupyter-widgets/controls",
      "model_module_version": "1.5.0",
      "model_name": "ButtonStyleModel",
      "state": {
       "button_color": "#69add1"
      }
     },
     "15b284ce564a4d9c8a849fbccc4b12f4": {
      "model_module": "@jupyter-widgets/controls",
      "model_module_version": "1.5.0",
      "model_name": "ToggleButtonModel",
      "state": {
       "button_style": "primary",
       "icon": "folder-open",
       "layout": "IPY_MODEL_bae94028d9d04ecb94c31d4310f79ea5",
       "style": "IPY_MODEL_fd02b52946ab495da092117537798176",
       "tooltip": "Open local vector/raster data"
      }
     },
     "16677c422d6f40d3869743b745a0e733": {
      "model_module": "@jupyter-widgets/controls",
      "model_module_version": "1.5.0",
      "model_name": "DescriptionStyleModel",
      "state": {
       "description_width": ""
      }
     },
     "1794ab087e034630bf09e3dd9bee3960": {
      "model_module": "jupyter-leaflet",
      "model_module_version": "^0.17.0",
      "model_name": "LeafletTileLayerModel",
      "state": {
       "_model_module_version": "^0.17.0",
       "_view_module_version": "^0.17.0",
       "attribution": "CyclOSM | Map data: (C) OpenStreetMap contributors",
       "max_zoom": 20,
       "name": "CyclOSM",
       "options": [
        "attribution",
        "bounds",
        "detect_retina",
        "max_native_zoom",
        "max_zoom",
        "min_native_zoom",
        "min_zoom",
        "no_wrap",
        "tile_size",
        "tms"
       ],
       "url": "https://a.tile-cyclosm.openstreetmap.fr/cyclosm/{z}/{x}/{y}.png"
      }
     },
     "17b962f239fe4b07811ec0fb5a11fb84": {
      "model_module": "jupyter-leaflet",
      "model_module_version": "^0.17.0",
      "model_name": "LeafletTileLayerModel",
      "state": {
       "_model_module_version": "^0.17.0",
       "_view_module_version": "^0.17.0",
       "attribution": "Tiles (C) Esri -- Sources: GEBCO, NOAA, CHS, OSU, UNH, CSUMB, National Geographic, DeLorme, NAVTEQ, and Esri",
       "max_zoom": 13,
       "name": "Esri.OceanBasemap",
       "options": [
        "attribution",
        "bounds",
        "detect_retina",
        "max_native_zoom",
        "max_zoom",
        "min_native_zoom",
        "min_zoom",
        "no_wrap",
        "tile_size",
        "tms"
       ],
       "url": "https://server.arcgisonline.com/ArcGIS/rest/services/Ocean_Basemap/MapServer/tile/{z}/{y}/{x}"
      }
     },
     "181bafbb288a4a068561f24a5ea84e9e": {
      "model_module": "@jupyter-widgets/controls",
      "model_module_version": "1.5.0",
      "model_name": "VBoxModel",
      "state": {
       "children": [
        "IPY_MODEL_c736d6a90bc04b70bed3f6ff4a94b113",
        "IPY_MODEL_f5153341799247518cb0fb3fc902b955"
       ],
       "layout": "IPY_MODEL_6501170b913e45be9c71252e07f0915a"
      }
     },
     "18f4405b08554535a00cf8a096f98163": {
      "model_module": "jupyter-leaflet",
      "model_module_version": "^0.17.0",
      "model_name": "LeafletTileLayerModel",
      "state": {
       "_model_module_version": "^0.17.0",
       "_view_module_version": "^0.17.0",
       "attribution": "(C) OpenStreetMap contributors",
       "max_zoom": 19,
       "name": "HikeBike.HikeBike",
       "options": [
        "attribution",
        "bounds",
        "detect_retina",
        "max_native_zoom",
        "max_zoom",
        "min_native_zoom",
        "min_zoom",
        "no_wrap",
        "tile_size",
        "tms"
       ],
       "url": "https://tiles.wmflabs.org/hikebike/{z}/{x}/{y}.png"
      }
     },
     "191d5c9e46384c0d87de42c8bf638ee5": {
      "model_module": "jupyter-leaflet",
      "model_module_version": "^0.17.0",
      "model_name": "LeafletTileLayerModel",
      "state": {
       "_model_module_version": "^0.17.0",
       "_view_module_version": "^0.17.0",
       "attribution": "Justice Map",
       "max_zoom": 22,
       "name": "JusticeMap.income",
       "options": [
        "attribution",
        "bounds",
        "detect_retina",
        "max_native_zoom",
        "max_zoom",
        "min_native_zoom",
        "min_zoom",
        "no_wrap",
        "tile_size",
        "tms"
       ],
       "url": "https://www.justicemap.org/tile/county/income/{z}/{x}/{y}.png"
      }
     },
     "197acdf0a7a9479d9e9509b124177741": {
      "model_module": "jupyter-leaflet",
      "model_module_version": "^0.17.0",
      "model_name": "LeafletAttributionControlModel",
      "state": {
       "_model_module_version": "^0.17.0",
       "_view_module_version": "^0.17.0",
       "options": [
        "position",
        "prefix"
       ],
       "position": "bottomright",
       "prefix": "ipyleaflet"
      }
     },
     "1b22f22b2eb54c55bf656cd1b3572ecc": {
      "model_module": "@jupyter-widgets/controls",
      "model_module_version": "1.5.0",
      "model_name": "ButtonStyleModel",
      "state": {
       "button_color": "red"
      }
     },
     "1c4b5477d93f4fc187ac91c3b77c3f26": {
      "model_module": "jupyter-leaflet",
      "model_module_version": "^0.17.0",
      "model_name": "LeafletTileLayerModel",
      "state": {
       "_model_module_version": "^0.17.0",
       "_view_module_version": "^0.17.0",
       "attribution": "Imagery provided by services from the Global Imagery Browse Services (GIBS), operated by the NASA/GSFC/Earth Science Data and Information System (ESDIS) with funding provided by NASA/HQ.",
       "max_zoom": 8,
       "name": "NASAGIBS.ViirsEarthAtNight2012",
       "options": [
        "attribution",
        "bounds",
        "detect_retina",
        "max_native_zoom",
        "max_zoom",
        "min_native_zoom",
        "min_zoom",
        "no_wrap",
        "tile_size",
        "tms"
       ],
       "url": "https://map1.vis.earthdata.nasa.gov/wmts-webmerc/VIIRS_CityLights_2012/default//GoogleMapsCompatible_Level8/{z}/{y}/{x}.jpg"
      }
     },
     "1ce3883f69f2407cbceb94f2195a3e41": {
      "model_module": "@jupyter-widgets/controls",
      "model_module_version": "1.5.0",
      "model_name": "VBoxModel",
      "state": {
       "_view_count": 1,
       "children": [
        "IPY_MODEL_78398ea10bc44917a74e8579d8fd65de"
       ],
       "layout": "IPY_MODEL_d13f4ac6af0a407fa59a5f0075fc02e3"
      }
     },
     "1cf6d85b6dab4bcbbdcab5af3cb4d381": {
      "model_module": "jupyter-leaflet",
      "model_module_version": "^0.17.0",
      "model_name": "LeafletTileLayerModel",
      "state": {
       "_model_module_version": "^0.17.0",
       "_view_module_version": "^0.17.0",
       "attribution": "(C) OpenStreetMap contributors",
       "name": "OpenStreetMap.BlackAndWhite",
       "options": [
        "attribution",
        "bounds",
        "detect_retina",
        "max_native_zoom",
        "max_zoom",
        "min_native_zoom",
        "min_zoom",
        "no_wrap",
        "tile_size",
        "tms"
       ],
       "url": "http://a.tiles.wmflabs.org/bw-mapnik/{z}/{x}/{y}.png"
      }
     },
     "1d948953615e485dbde84c0ed1a03e64": {
      "model_module": "@jupyter-widgets/controls",
      "model_module_version": "1.5.0",
      "model_name": "HBoxModel",
      "state": {
       "children": [
        "IPY_MODEL_b8712df0821b4f319cf745c161a65f70",
        "IPY_MODEL_78398ea10bc44917a74e8579d8fd65de"
       ],
       "layout": "IPY_MODEL_f14f41c2010b4994ae50e9f78f030fb3"
      }
     },
     "1e7d61df215c40319407b3f3026d4014": {
      "model_module": "@jupyter-widgets/base",
      "model_module_version": "1.2.0",
      "model_name": "LayoutModel",
      "state": {}
     },
     "1fcd398dddd94b048064f4960bc84dd9": {
      "model_module": "@jupyter-widgets/controls",
      "model_module_version": "1.5.0",
      "model_name": "HTMLModel",
      "state": {
       "layout": "IPY_MODEL_ac29abdfceb74e60aed0e29584b04cce",
       "style": "IPY_MODEL_91a8b999a75e445ca4dd9d2708fc69ff",
       "value": "<h2><b>Load ROIs/BBox</b></h2>                You can upload ROIs or Bbox geojson file.                    <li> Load BBox: Load bounding box from geojson file (ex. 'bbox.geojson')</li>                <li> Load ROIs: Load ROIs from geojson file (ex. 'rois.geojson')</li>                    "
      }
     },
     "2129a65d4e30467db1c6e7154a03a98e": {
      "model_module": "@jupyter-widgets/controls",
      "model_module_version": "1.5.0",
      "model_name": "ButtonModel",
      "state": {
       "description": "Remove ROIs",
       "layout": "IPY_MODEL_5d6f6c2844f44c49af3fcd15ce11e5b6",
       "style": "IPY_MODEL_51a32c6b67ba4e939958ca12b717d4ec"
      }
     },
     "21d2f9d118c84975ab76e609a3273eef": {
      "model_module": "@jupyter-widgets/controls",
      "model_module_version": "1.5.0",
      "model_name": "DescriptionStyleModel",
      "state": {
       "description_width": ""
      }
     },
     "2434fa45aa474ef7bf881e9c470d8298": {
      "model_module": "@jupyter-widgets/controls",
      "model_module_version": "1.5.0",
      "model_name": "SliderStyleModel",
      "state": {
       "description_width": "initial"
      }
     },
     "251dfd730fd14e17b7792ccbe88ed4ba": {
      "model_module": "jupyter-leaflet",
      "model_module_version": "^0.17.0",
      "model_name": "LeafletMapStyleModel",
      "state": {
       "_model_module_version": "^0.17.0"
      }
     },
     "2521ba33ca6f4501b22243f7eaf2f4b1": {
      "model_module": "jupyter-leaflet",
      "model_module_version": "^0.17.0",
      "model_name": "LeafletTileLayerModel",
      "state": {
       "_model_module_version": "^0.17.0",
       "_view_module_version": "^0.17.0",
       "attribution": "Map data: (C) OpenStreetMap contributors & ODbL, (C) www.opensnowmap.org CC-BY-SA",
       "name": "OpenSnowMap.pistes",
       "options": [
        "attribution",
        "bounds",
        "detect_retina",
        "max_native_zoom",
        "max_zoom",
        "min_native_zoom",
        "min_zoom",
        "no_wrap",
        "tile_size",
        "tms"
       ],
       "url": "https://tiles.opensnowmap.org/pistes/{z}/{x}/{y}.png"
      }
     },
     "2690022ca21e46908f5cf78d6be4ae4c": {
      "model_module": "jupyter-leaflet",
      "model_module_version": "^0.17.0",
      "model_name": "LeafletTileLayerModel",
      "state": {
       "_model_module_version": "^0.17.0",
       "_view_module_version": "^0.17.0",
       "attribution": "Map data: (C) OpenSeaMap contributors",
       "max_zoom": 22,
       "name": "OpenSeaMap",
       "options": [
        "attribution",
        "bounds",
        "detect_retina",
        "max_native_zoom",
        "max_zoom",
        "min_native_zoom",
        "min_zoom",
        "no_wrap",
        "tile_size",
        "tms"
       ],
       "url": "https://tiles.openseamap.org/seamark/{z}/{x}/{y}.png"
      }
     },
     "2715e863af50410488f890f5bdb6a188": {
      "model_module": "jupyter-leaflet",
      "model_module_version": "^0.17.0",
      "model_name": "LeafletWMSLayerModel",
      "state": {
       "_model_module_version": "^0.17.0",
       "_view_module_version": "^0.17.0",
       "attribution": "MRLC",
       "crs": {
        "custom": false,
        "name": "EPSG3857"
       },
       "format": "image/png",
       "layers": "NLCD_2006_Land_Cover_L48",
       "name": "NLCD 2006 CONUS Land Cover",
       "options": [
        "attribution",
        "bounds",
        "detect_retina",
        "format",
        "layers",
        "max_native_zoom",
        "max_zoom",
        "min_native_zoom",
        "min_zoom",
        "no_wrap",
        "styles",
        "tile_size",
        "tms",
        "transparent",
        "uppercase"
       ],
       "transparent": true,
       "url": "https://www.mrlc.gov/geoserver/mrlc_display/NLCD_2006_Land_Cover_L48/wms?"
      }
     },
     "291bc942479b40d18b0f0d20e9e4e2e2": {
      "model_module": "jupyter-leaflet",
      "model_module_version": "^0.17.0",
      "model_name": "LeafletTileLayerModel",
      "state": {
       "_model_module_version": "^0.17.0",
       "_view_module_version": "^0.17.0",
       "attribution": "(C) Stadia Maps, (C) OpenMapTiles (C) OpenStreetMap contributors",
       "max_zoom": 20,
       "name": "Stadia.OSMBright",
       "options": [
        "attribution",
        "bounds",
        "detect_retina",
        "max_native_zoom",
        "max_zoom",
        "min_native_zoom",
        "min_zoom",
        "no_wrap",
        "tile_size",
        "tms"
       ],
       "url": "https://tiles.stadiamaps.com/tiles/osm_bright/{z}/{x}/{y}.png"
      }
     },
     "2927900aec9c418dbdb9a28d39d07190": {
      "model_module": "@jupyter-widgets/controls",
      "model_module_version": "1.5.0",
      "model_name": "ToggleButtonModel",
      "state": {
       "button_style": "primary",
       "icon": "question",
       "layout": "IPY_MODEL_30c000cc2ae44d5284e5fd537ffa9d39",
       "style": "IPY_MODEL_2f9a8cc03f024cb49b15134e468c30bb",
       "tooltip": "Get help"
      }
     },
     "29923a1d011f4723ab191ef4bfd1e9c5": {
      "model_module": "@jupyter-widgets/controls",
      "model_module_version": "1.5.0",
      "model_name": "DescriptionStyleModel",
      "state": {
       "description_width": ""
      }
     },
     "2a014fe9942d4084b3b3fbaf5dcafe08": {
      "model_module": "jupyter-leaflet",
      "model_module_version": "^0.17.0",
      "model_name": "LeafletTileLayerModel",
      "state": {
       "_model_module_version": "^0.17.0",
       "_view_module_version": "^0.17.0",
       "attribution": "Map tiles by Stamen Design, CC BY 3.0 -- Map data (C) OpenStreetMap contributors",
       "max_zoom": 20,
       "name": "Stamen.Toner",
       "options": [
        "attribution",
        "bounds",
        "detect_retina",
        "max_native_zoom",
        "max_zoom",
        "min_native_zoom",
        "min_zoom",
        "no_wrap",
        "tile_size",
        "tms"
       ],
       "url": "https://stamen-tiles-a.a.ssl.fastly.net/toner/{z}/{x}/{y}.png"
      }
     },
     "2a82b81303bc4f0db4513a92ffc3e185": {
      "model_module": "@jupyter-widgets/controls",
      "model_module_version": "1.5.0",
      "model_name": "DescriptionStyleModel",
      "state": {
       "description_width": ""
      }
     },
     "2af201d423094dcda6870678296e5227": {
      "model_module": "@jupyter-widgets/controls",
      "model_module_version": "1.5.0",
      "model_name": "HTMLModel",
      "state": {
       "layout": "IPY_MODEL_4ed60249e857469ea122dac92c86dfba",
       "style": "IPY_MODEL_ac03dc103b974040b3d39db37a23f02b",
       "value": "<h2><b>Download ROIs</b></h2>                 <b> You must click 'Save ROI' before you can download ROIs</b>                 </br> Scroll past the map to see the download progress                     <li> The data you downloaded will be in the 'data' folder</li>                     "
      }
     },
     "2ba315b3a73c4b198fb1eebd322abc78": {
      "model_module": "@jupyter-widgets/base",
      "model_module_version": "1.2.0",
      "model_name": "LayoutModel",
      "state": {}
     },
     "2c286db06be84397bc79db3501b1c40e": {
      "model_module": "@jupyter-widgets/controls",
      "model_module_version": "1.5.0",
      "model_name": "ToggleButtonModel",
      "state": {
       "button_style": "primary",
       "icon": "map",
       "layout": "IPY_MODEL_99a8c706d96c4eddaf00e9e72332398b",
       "style": "IPY_MODEL_ba5466b994c24a1885269959f9879b48",
       "tooltip": "Change basemap"
      }
     },
     "2d2c12169b254be3937c0edd20e822f1": {
      "model_module": "jupyter-leaflet",
      "model_module_version": "^0.17.0",
      "model_name": "LeafletMapStyleModel",
      "state": {
       "_model_module_version": "^0.17.0",
       "cursor": "wait"
      }
     },
     "2dc74ab2899447449596f20e167ea698": {
      "model_module": "jupyter-leaflet",
      "model_module_version": "^0.17.0",
      "model_name": "LeafletTileLayerModel",
      "state": {
       "_model_module_version": "^0.17.0",
       "_view_module_version": "^0.17.0",
       "attribution": "Kaartgegevens (C) Kadaster",
       "max_zoom": 19,
       "name": "nlmaps.luchtfoto",
       "options": [
        "attribution",
        "bounds",
        "detect_retina",
        "max_native_zoom",
        "max_zoom",
        "min_native_zoom",
        "min_zoom",
        "no_wrap",
        "tile_size",
        "tms"
       ],
       "url": "https://service.pdok.nl/hwh/luchtfotorgb/wmts/v1_0/Actueel_ortho25/EPSG:3857/{z}/{x}/{y}.jpeg"
      }
     },
     "2df7d59f63674efc8ba41dd08e1a9753": {
      "model_module": "jupyter-leaflet",
      "model_module_version": "^0.17.0",
      "model_name": "LeafletTileLayerModel",
      "state": {
       "_model_module_version": "^0.17.0",
       "_view_module_version": "^0.17.0",
       "attribution": "Map tiles by Stamen Design, CC BY 3.0 -- Map data (C) OpenStreetMap contributors",
       "name": "Stamen.TerrainBackground",
       "options": [
        "attribution",
        "bounds",
        "detect_retina",
        "max_native_zoom",
        "max_zoom",
        "min_native_zoom",
        "min_zoom",
        "no_wrap",
        "tile_size",
        "tms"
       ],
       "url": "https://stamen-tiles-a.a.ssl.fastly.net/terrain-background/{z}/{x}/{y}.png"
      }
     },
     "2e0d4aca6844455b8bcee86acada0a4d": {
      "model_module": "jupyter-leaflet",
      "model_module_version": "^0.17.0",
      "model_name": "LeafletTileLayerModel",
      "state": {
       "_model_module_version": "^0.17.0",
       "_view_module_version": "^0.17.0",
       "attribution": "Justice Map",
       "max_zoom": 22,
       "name": "JusticeMap.americanIndian",
       "options": [
        "attribution",
        "bounds",
        "detect_retina",
        "max_native_zoom",
        "max_zoom",
        "min_native_zoom",
        "min_zoom",
        "no_wrap",
        "tile_size",
        "tms"
       ],
       "url": "https://www.justicemap.org/tile/county/indian/{z}/{x}/{y}.png"
      }
     },
     "2ebf59fc059f4f7cbc4ca463c963a39d": {
      "model_module": "@jupyter-widgets/controls",
      "model_module_version": "1.5.0",
      "model_name": "ButtonStyleModel",
      "state": {
       "button_color": "#50bf8f"
      }
     },
     "2f9a8cc03f024cb49b15134e468c30bb": {
      "model_module": "@jupyter-widgets/controls",
      "model_module_version": "1.5.0",
      "model_name": "DescriptionStyleModel",
      "state": {
       "description_width": ""
      }
     },
     "3036e4d475a4404fa241e0601a6a3cd4": {
      "model_module": "@jupyter-widgets/base",
      "model_module_version": "1.2.0",
      "model_name": "LayoutModel",
      "state": {}
     },
     "308e1abc42ca47c9b4710d2a614fd262": {
      "model_module": "@jupyter-widgets/base",
      "model_module_version": "1.2.0",
      "model_name": "LayoutModel",
      "state": {
       "height": "28px",
       "padding": "0px 0px 0px 4px",
       "width": "28px"
      }
     },
     "3090e797ffc74c4dbc77d02b8e87b885": {
      "model_module": "jupyter-leaflet",
      "model_module_version": "^0.17.0",
      "model_name": "LeafletTileLayerModel",
      "state": {
       "_model_module_version": "^0.17.0",
       "_view_module_version": "^0.17.0",
       "attribution": "Geoportail France",
       "name": "GeoportailFrance.plan",
       "options": [
        "attribution",
        "bounds",
        "detect_retina",
        "max_native_zoom",
        "max_zoom",
        "min_native_zoom",
        "min_zoom",
        "no_wrap",
        "tile_size",
        "tms"
       ],
       "url": "https://wxs.ign.fr/choisirgeoportail/geoportail/wmts?REQUEST=GetTile&SERVICE=WMTS&VERSION=1.0.0&STYLE=normal&TILEMATRIXSET=PM&FORMAT=image/png&LAYER=GEOGRAPHICALGRIDSYSTEMS.PLANIGNV2&TILEMATRIX={z}&TILEROW={y}&TILECOL={x}"
      }
     },
     "30c000cc2ae44d5284e5fd537ffa9d39": {
      "model_module": "@jupyter-widgets/base",
      "model_module_version": "1.2.0",
      "model_name": "LayoutModel",
      "state": {
       "height": "auto",
       "padding": "0px 0px 0px 4px",
       "width": "auto"
      }
     },
     "31e5d8b5c7ae46b4b967e9b73f9605e6": {
      "model_module": "@jupyter-widgets/controls",
      "model_module_version": "1.5.0",
      "model_name": "VBoxModel",
      "state": {
       "children": [
        "IPY_MODEL_fe571e7a43754def86bd8f75642d61de",
        "IPY_MODEL_63fbd4d60a21467987d6820933a9fbcd"
       ],
       "layout": "IPY_MODEL_391bd1f29e4a497286a3bf5c0311452d"
      }
     },
     "32549856163d432099a9c5364a711af3": {
      "model_module": "jupyter-leaflet",
      "model_module_version": "^0.17.0",
      "model_name": "LeafletTileLayerModel",
      "state": {
       "_model_module_version": "^0.17.0",
       "_view_module_version": "^0.17.0",
       "attribution": "Tiles &copy; Esri &mdash; Esri, DeLorme, NAVTEQ, TomTom, Intermap, iPC, USGS, FAO, NPS, NRCAN, GeoBase, Kadaster NL, Ordnance Survey, Esri Japan, METI, Esri China (Hong Kong), and the GIS User Community",
       "max_zoom": 24,
       "name": "Esri.ArcticOceanBase",
       "options": [
        "attribution",
        "bounds",
        "detect_retina",
        "max_native_zoom",
        "max_zoom",
        "min_native_zoom",
        "min_zoom",
        "no_wrap",
        "tile_size",
        "tms"
       ],
       "url": "http://server.arcgisonline.com/ArcGIS/rest/services/Polar/Arctic_Ocean_Base/MapServer/tile/{z}/{y}/{x}"
      }
     },
     "339b9609d5be4f71b892bddef14d06f2": {
      "model_module": "@jupyter-widgets/controls",
      "model_module_version": "1.5.0",
      "model_name": "AccordionModel",
      "state": {
       "_titles": {
        "0": "Shoreline Data"
       },
       "children": [
        "IPY_MODEL_87ccdd17800d458f9b08341a89376e92"
       ],
       "layout": "IPY_MODEL_904f4128351441739b27810a47a4586a"
      }
     },
     "33ed089418604b41a4c1b5cb34b385e5": {
      "model_module": "@jupyter-widgets/controls",
      "model_module_version": "1.5.0",
      "model_name": "DescriptionStyleModel",
      "state": {
       "description_width": ""
      }
     },
     "343cc0a0391a4524a26d45e0a1b5a5e3": {
      "model_module": "@jupyter-widgets/controls",
      "model_module_version": "1.5.0",
      "model_name": "DescriptionStyleModel",
      "state": {
       "description_width": ""
      }
     },
     "3465067659fc4b66b79d6f128d45790e": {
      "model_module": "jupyter-leaflet",
      "model_module_version": "^0.17.0",
      "model_name": "LeafletTileLayerModel",
      "state": {
       "_model_module_version": "^0.17.0",
       "_view_module_version": "^0.17.0",
       "attribution": "![](https://docs.onemap.sg/maps/images/oneMap64-01.png) New OneMap | Map data (C) contributors, Singapore Land Authority",
       "name": "OneMapSG.Grey",
       "options": [
        "attribution",
        "bounds",
        "detect_retina",
        "max_native_zoom",
        "max_zoom",
        "min_native_zoom",
        "min_zoom",
        "no_wrap",
        "tile_size",
        "tms"
       ],
       "url": "https://maps-a.onemap.sg/v3/Grey/{z}/{x}/{y}.png"
      }
     },
     "354618e8d97f4aa7ab9afe19224fd277": {
      "model_module": "jupyter-leaflet",
      "model_module_version": "^0.17.0",
      "model_name": "LeafletTileLayerModel",
      "state": {
       "_model_module_version": "^0.17.0",
       "_view_module_version": "^0.17.0",
       "attribution": "Justice Map",
       "max_zoom": 22,
       "name": "JusticeMap.nonWhite",
       "options": [
        "attribution",
        "bounds",
        "detect_retina",
        "max_native_zoom",
        "max_zoom",
        "min_native_zoom",
        "min_zoom",
        "no_wrap",
        "tile_size",
        "tms"
       ],
       "url": "https://www.justicemap.org/tile/county/nonwhite/{z}/{x}/{y}.png"
      }
     },
     "3564a1ca0bac4ee383151b6302f903bf": {
      "model_module": "@jupyter-widgets/base",
      "model_module_version": "1.2.0",
      "model_name": "LayoutModel",
      "state": {}
     },
     "35f915707a4a4fbeb992040039c2957f": {
      "model_module": "jupyter-leaflet",
      "model_module_version": "^0.17.0",
      "model_name": "LeafletWidgetControlModel",
      "state": {
       "_model_module": "jupyter-leaflet",
       "_model_module_version": "^0.17.0",
       "_view_count": null,
       "_view_module": "jupyter-leaflet",
       "_view_module_version": "^0.17.0",
       "options": [
        "position",
        "transparent_bg"
       ],
       "position": "topright",
       "widget": "IPY_MODEL_339b9609d5be4f71b892bddef14d06f2"
      }
     },
     "36a7c2a6d0ad4d06881366185f478f1f": {
      "model_module": "@jupyter-widgets/controls",
      "model_module_version": "1.5.0",
      "model_name": "DescriptionStyleModel",
      "state": {
       "description_width": ""
      }
     },
     "36f3a5deaf9f4679bb7a82fa9f3f6232": {
      "model_module": "jupyter-leaflet",
      "model_module_version": "^0.17.0",
      "model_name": "LeafletGeoJSONModel",
      "state": {
       "_model_module_version": "^0.17.0",
       "_view_module_version": "^0.17.0",
       "data": {
        "features": [
         {
          "geometry": {
           "coordinates": [
            [
             -124.18542437937772,
             40.8267736332408
            ],
            [
             -124.1897812631434,
             40.82821183246377
            ]
           ],
           "type": "LineString"
          },
          "id": "7173",
          "properties": {
           "id": "usa_CA_0288-0078",
           "slope": 0.055,
           "style": {
            "color": "grey",
            "fillOpacity": 0.2,
            "fill_color": "grey",
            "opacity": 1,
            "weight": 2
           }
          },
          "type": "Feature"
         },
         {
          "geometry": {
           "coordinates": [
            [
             -124.18492169173658,
             40.82758899584255
            ],
            [
             -124.18927862355469,
             40.82902721249227
            ]
           ],
           "type": "LineString"
          },
          "id": "7174",
          "properties": {
           "id": "usa_CA_0288-0079",
           "slope": 0.05,
           "style": {
            "color": "grey",
            "fillOpacity": 0.2,
            "fill_color": "grey",
            "opacity": 1,
            "weight": 2
           }
          },
          "type": "Feature"
         },
         {
          "geometry": {
           "coordinates": [
            [
             -124.18441899499896,
             40.82840435650422
            ],
            [
             -124.1887759748707,
             40.82984259058122
            ]
           ],
           "type": "LineString"
          },
          "id": "7175",
          "properties": {
           "id": "usa_CA_0288-0080",
           "slope": 0.05,
           "style": {
            "color": "grey",
            "fillOpacity": 0.2,
            "fill_color": "grey",
            "opacity": 1,
            "weight": 2
           }
          },
          "type": "Feature"
         },
         {
          "geometry": {
           "coordinates": [
            [
             -124.1839162891643,
             40.82921971522579
            ],
            [
             -124.18827331709086,
             40.83065796673062
            ]
           ],
           "type": "LineString"
          },
          "id": "7176",
          "properties": {
           "id": "usa_CA_0288-0081",
           "slope": 0.055,
           "style": {
            "color": "grey",
            "fillOpacity": 0.2,
            "fill_color": "grey",
            "opacity": 1,
            "weight": 2
           }
          },
          "type": "Feature"
         },
         {
          "geometry": {
           "coordinates": [
            [
             -124.18341357423208,
             40.83003507200721
            ],
            [
             -124.18777065021465,
             40.83147334094042
            ]
           ],
           "type": "LineString"
          },
          "id": "7177",
          "properties": {
           "id": "usa_CA_0288-0082",
           "slope": 0.055,
           "style": {
            "color": "grey",
            "fillOpacity": 0.2,
            "fill_color": "grey",
            "opacity": 1,
            "weight": 2
           }
          },
          "type": "Feature"
         },
         {
          "geometry": {
           "coordinates": [
            [
             -124.18291085020176,
             40.830850426848485
            ],
            [
             -124.1872679742415,
             40.832288713210616
            ]
           ],
           "type": "LineString"
          },
          "id": "7178",
          "properties": {
           "id": "usa_CA_0288-0083",
           "slope": 0.045,
           "style": {
            "color": "grey",
            "fillOpacity": 0.2,
            "fill_color": "grey",
            "opacity": 1,
            "weight": 2
           }
          },
          "type": "Feature"
         },
         {
          "geometry": {
           "coordinates": [
            [
             -124.18240811707275,
             40.83166577974957
            ],
            [
             -124.18676528917082,
             40.833104083541166
            ]
           ],
           "type": "LineString"
          },
          "id": "7179",
          "properties": {
           "id": "usa_CA_0288-0084",
           "slope": 0.045,
           "style": {
            "color": "grey",
            "fillOpacity": 0.2,
            "fill_color": "grey",
            "opacity": 1,
            "weight": 2
           }
          },
          "type": "Feature"
         },
         {
          "geometry": {
           "coordinates": [
            [
             -124.18190537484456,
             40.832481130710434
            ],
            [
             -124.18626259500216,
             40.83391945193205
            ]
           ],
           "type": "LineString"
          },
          "id": "7180",
          "properties": {
           "id": "usa_CA_0288-0085",
           "slope": 0.05,
           "style": {
            "color": "grey",
            "fillOpacity": 0.2,
            "fill_color": "grey",
            "opacity": 1,
            "weight": 2
           }
          },
          "type": "Feature"
         },
         {
          "geometry": {
           "coordinates": [
            [
             -124.18140356604272,
             40.83329495304669
            ],
            [
             -124.18575894929867,
             40.83473634510029
            ]
           ],
           "type": "LineString"
          },
          "id": "7181",
          "properties": {
           "id": "usa_CA_0288-0086",
           "slope": 0.045,
           "style": {
            "color": "grey",
            "fillOpacity": 0.2,
            "fill_color": "grey",
            "opacity": 1,
            "weight": 2
           }
          },
          "type": "Feature"
         },
         {
          "geometry": {
           "coordinates": [
            [
             -124.18091654794732,
             40.8340814945334
            ],
            [
             -124.18523644866109,
             40.835579116085015
            ]
           ],
           "type": "LineString"
          },
          "id": "7182",
          "properties": {
           "id": "usa_CA_0288-0087",
           "slope": 0.04,
           "style": {
            "color": "grey",
            "fillOpacity": 0.2,
            "fill_color": "grey",
            "opacity": 1,
            "weight": 2
           }
          },
          "type": "Feature"
         },
         {
          "geometry": {
           "coordinates": [
            [
             -124.18039377717976,
             40.83485752620072
            ],
            [
             -124.18467892406818,
             40.836407923221614
            ]
           ],
           "type": "LineString"
          },
          "id": "7183",
          "properties": {
           "id": "usa_CA_0288-0088",
           "slope": 0.045,
           "style": {
            "color": "grey",
            "fillOpacity": 0.2,
            "fill_color": "grey",
            "opacity": 1,
            "weight": 2
           }
          },
          "type": "Feature"
         },
         {
          "geometry": {
           "coordinates": [
            [
             -124.17985359647734,
             40.83565993364702
            ],
            [
             -124.18413878811,
             40.83721034946655
            ]
           ],
           "type": "LineString"
          },
          "id": "7184",
          "properties": {
           "id": "usa_CA_0288-0089",
           "slope": 0.05,
           "style": {
            "color": "grey",
            "fillOpacity": 0.2,
            "fill_color": "grey",
            "opacity": 1,
            "weight": 2
           }
          },
          "type": "Feature"
         },
         {
          "geometry": {
           "coordinates": [
            [
             -124.17931340586952,
             40.83646233883928
            ],
            [
             -124.18359864224738,
             40.83801277345798
            ]
           ],
           "type": "LineString"
          },
          "id": "7185",
          "properties": {
           "id": "usa_CA_0288-0090",
           "slope": 0.06,
           "style": {
            "color": "grey",
            "fillOpacity": 0.2,
            "fill_color": "grey",
            "opacity": 1,
            "weight": 2
           }
          },
          "type": "Feature"
         },
         {
          "geometry": {
           "coordinates": [
            [
             -124.17877320535574,
             40.83726474177743
            ],
            [
             -124.18305848647972,
             40.83881519519586
            ]
           ],
           "type": "LineString"
          },
          "id": "7186",
          "properties": {
           "id": "usa_CA_0288-0091",
           "slope": 0.065,
           "style": {
            "color": "grey",
            "fillOpacity": 0.2,
            "fill_color": "grey",
            "opacity": 1,
            "weight": 2
           }
          },
          "type": "Feature"
         },
         {
          "geometry": {
           "coordinates": [
            [
             -124.17823299493536,
             40.83806714246143
            ],
            [
             -124.18251832080644,
             40.83961761468017
            ]
           ],
           "type": "LineString"
          },
          "id": "7187",
          "properties": {
           "id": "usa_CA_0288-0092",
           "slope": 0.055,
           "style": {
            "color": "grey",
            "fillOpacity": 0.2,
            "fill_color": "grey",
            "opacity": 1,
            "weight": 2
           }
          },
          "type": "Feature"
         },
         {
          "geometry": {
           "coordinates": [
            [
             -124.1776927746079,
             40.83886954089121
            ],
            [
             -124.18197814522696,
             40.84042003191085
            ]
           ],
           "type": "LineString"
          },
          "id": "7188",
          "properties": {
           "id": "usa_CA_0288-0093",
           "slope": 0.045,
           "style": {
            "color": "grey",
            "fillOpacity": 0.2,
            "fill_color": "grey",
            "opacity": 1,
            "weight": 2
           }
          },
          "type": "Feature"
         },
         {
          "geometry": {
           "coordinates": [
            [
             -124.17715254437272,
             40.83967193706678
            ],
            [
             -124.18143795974076,
             40.84122244688786
            ]
           ],
           "type": "LineString"
          },
          "id": "7189",
          "properties": {
           "id": "usa_CA_0288-0094",
           "slope": 0.045,
           "style": {
            "color": "grey",
            "fillOpacity": 0.2,
            "fill_color": "grey",
            "opacity": 1,
            "weight": 2
           }
          },
          "type": "Feature"
         },
         {
          "geometry": {
           "coordinates": [
            [
             -124.17657728397076,
             40.84052856924866
            ],
            [
             -124.18093278149536,
             40.84197062013349
            ]
           ],
           "type": "LineString"
          },
          "id": "7190",
          "properties": {
           "id": "usa_CA_0288-0095",
           "slope": 0.05,
           "style": {
            "color": "grey",
            "fillOpacity": 0.2,
            "fill_color": "grey",
            "opacity": 1,
            "weight": 2
           }
          },
          "type": "Feature"
         },
         {
          "geometry": {
           "coordinates": [
            [
             -124.17607598691772,
             40.84141282570887
            ],
            [
             -124.18049975622904,
             40.842739331473865
            ]
           ],
           "type": "LineString"
          },
          "id": "7191",
          "properties": {
           "id": "usa_CA_0288-0096",
           "slope": 0.045,
           "style": {
            "color": "grey",
            "fillOpacity": 0.2,
            "fill_color": "grey",
            "opacity": 1,
            "weight": 2
           }
          },
          "type": "Feature"
         },
         {
          "geometry": {
           "coordinates": [
            [
             -124.17561085581876,
             40.84224321118748
            ],
            [
             -124.18003773751204,
             40.84356428002749
            ]
           ],
           "type": "LineString"
          },
          "id": "7192",
          "properties": {
           "id": "usa_CA_0288-0097",
           "slope": 0.05,
           "style": {
            "color": "grey",
            "fillOpacity": 0.2,
            "fill_color": "grey",
            "opacity": 1,
            "weight": 2
           }
          },
          "type": "Feature"
         },
         {
          "geometry": {
           "coordinates": [
            [
             -124.17514724714644,
             40.84307086861869
            ],
            [
             -124.1795741801016,
             40.84439195339728
            ]
           ],
           "type": "LineString"
          },
          "id": "7193",
          "properties": {
           "id": "usa_CA_0288-0098",
           "slope": 0.05,
           "style": {
            "color": "grey",
            "fillOpacity": 0.2,
            "fill_color": "grey",
            "opacity": 1,
            "weight": 2
           }
          },
          "type": "Feature"
         },
         {
          "geometry": {
           "coordinates": [
            [
             -124.17468363025516,
             40.84389852440768
            ],
            [
             -124.1791106144736,
             40.84521962512537
            ]
           ],
           "type": "LineString"
          },
          "id": "7194",
          "properties": {
           "id": "usa_CA_0288-0099",
           "slope": 0.05,
           "style": {
            "color": "grey",
            "fillOpacity": 0.2,
            "fill_color": "grey",
            "opacity": 1,
            "weight": 2
           }
          },
          "type": "Feature"
         },
         {
          "geometry": {
           "coordinates": [
            [
             -124.17422000514446,
             40.84472617855444
            ],
            [
             -124.17864704062764,
             40.84604729521174
            ]
           ],
           "type": "LineString"
          },
          "id": "7195",
          "properties": {
           "id": "usa_CA_0288-0100",
           "slope": 0.045,
           "style": {
            "color": "grey",
            "fillOpacity": 0.2,
            "fill_color": "grey",
            "opacity": 1,
            "weight": 2
           }
          },
          "type": "Feature"
         },
         {
          "geometry": {
           "coordinates": [
            [
             -124.17375637181378,
             40.84555383105897
            ],
            [
             -124.17818345856308,
             40.84687496365639
            ]
           ],
           "type": "LineString"
          },
          "id": "7196",
          "properties": {
           "id": "usa_CA_0288-0101",
           "slope": 0.055,
           "style": {
            "color": "grey",
            "fillOpacity": 0.2,
            "fill_color": "grey",
            "opacity": 1,
            "weight": 2
           }
          },
          "type": "Feature"
         },
         {
          "geometry": {
           "coordinates": [
            [
             -124.17329273026265,
             40.84638148192123
            ],
            [
             -124.17771986827948,
             40.847702630459295
            ]
           ],
           "type": "LineString"
          },
          "id": "7197",
          "properties": {
           "id": "usa_CA_0288-0102",
           "slope": 0.045,
           "style": {
            "color": "grey",
            "fillOpacity": 0.2,
            "fill_color": "grey",
            "opacity": 1,
            "weight": 2
           }
          },
          "type": "Feature"
         },
         {
          "geometry": {
           "coordinates": [
            [
             -124.17283105328724,
             40.847205619971525
            ],
            [
             -124.17725429719673,
             40.848533806858
            ]
           ],
           "type": "LineString"
          },
          "id": "7198",
          "properties": {
           "id": "usa_CA_0288-0103",
           "slope": 0.045,
           "style": {
            "color": "grey",
            "fillOpacity": 0.2,
            "fill_color": "grey",
            "opacity": 1,
            "weight": 2
           }
          },
          "type": "Feature"
         },
         {
          "geometry": {
           "coordinates": [
            [
             -124.1723689464941,
             40.84802087858792
            ],
            [
             -124.17677977126388,
             40.84937100931404
            ]
           ],
           "type": "LineString"
          },
          "id": "7199",
          "properties": {
           "id": "usa_CA_0288-0104",
           "slope": 0.045,
           "style": {
            "color": "grey",
            "fillOpacity": 0.2,
            "fill_color": "grey",
            "opacity": 1,
            "weight": 2
           }
          },
          "type": "Feature"
         },
         {
          "geometry": {
           "coordinates": [
            [
             -124.17189492557618,
             40.848836624832906
            ],
            [
             -124.17629720600648,
             40.85020165540497
            ]
           ],
           "type": "LineString"
          },
          "id": "7200",
          "properties": {
           "id": "usa_CA_0288-0105",
           "slope": 0.045,
           "style": {
            "color": "grey",
            "fillOpacity": 0.2,
            "fill_color": "grey",
            "opacity": 1,
            "weight": 2
           }
          },
          "type": "Feature"
         },
         {
          "geometry": {
           "coordinates": [
            [
             -124.17141659864367,
             40.84965981092239
            ],
            [
             -124.1758189291926,
             40.85102485800368
            ]
           ],
           "type": "LineString"
          },
          "id": "7201",
          "properties": {
           "id": "usa_CA_0288-0106",
           "slope": 0.045,
           "style": {
            "color": "grey",
            "fillOpacity": 0.2,
            "fill_color": "grey",
            "opacity": 1,
            "weight": 2
           }
          },
          "type": "Feature"
         },
         {
          "geometry": {
           "coordinates": [
            [
             -124.1709382631516,
             40.8504829952618
            ],
            [
             -124.17534064382043,
             40.85184805885287
            ]
           ],
           "type": "LineString"
          },
          "id": "7202",
          "properties": {
           "id": "usa_CA_0288-0107",
           "slope": 0.05,
           "style": {
            "color": "grey",
            "fillOpacity": 0.2,
            "fill_color": "grey",
            "opacity": 1,
            "weight": 2
           }
          },
          "type": "Feature"
         },
         {
          "geometry": {
           "coordinates": [
            [
             -124.1704599190995,
             40.85130617785118
            ],
            [
             -124.17486234988958,
             40.85267125795253
            ]
           ],
           "type": "LineString"
          },
          "id": "7203",
          "properties": {
           "id": "usa_CA_0288-0108",
           "slope": 0.05,
           "style": {
            "color": "grey",
            "fillOpacity": 0.2,
            "fill_color": "grey",
            "opacity": 1,
            "weight": 2
           }
          },
          "type": "Feature"
         },
         {
          "geometry": {
           "coordinates": [
            [
             -124.16998156648675,
             40.85212935869046
            ],
            [
             -124.17438404739944,
             40.85349445530263
            ]
           ],
           "type": "LineString"
          },
          "id": "7204",
          "properties": {
           "id": "usa_CA_0288-0109",
           "slope": 0.045,
           "style": {
            "color": "grey",
            "fillOpacity": 0.2,
            "fill_color": "grey",
            "opacity": 1,
            "weight": 2
           }
          },
          "type": "Feature"
         },
         {
          "geometry": {
           "coordinates": [
            [
             -124.16950320531292,
             40.85295253777965
            ],
            [
             -124.17390573634948,
             40.85431765090315
            ]
           ],
           "type": "LineString"
          },
          "id": "7205",
          "properties": {
           "id": "usa_CA_0288-0110",
           "slope": 0.04,
           "style": {
            "color": "grey",
            "fillOpacity": 0.2,
            "fill_color": "grey",
            "opacity": 1,
            "weight": 2
           }
          },
          "type": "Feature"
         },
         {
          "geometry": {
           "coordinates": [
            [
             -124.16902483557745,
             40.853775715118736
            ],
            [
             -124.17342741673922,
             40.85514084475409
            ]
           ],
           "type": "LineString"
          },
          "id": "7206",
          "properties": {
           "id": "usa_CA_0288-0111",
           "slope": 0.045,
           "style": {
            "color": "grey",
            "fillOpacity": 0.2,
            "fill_color": "grey",
            "opacity": 1,
            "weight": 2
           }
          },
          "type": "Feature"
         },
         {
          "geometry": {
           "coordinates": [
            [
             -124.16854728873332,
             40.85459746167226
            ],
            [
             -124.17294825720153,
             40.855965465919525
            ]
           ],
           "type": "LineString"
          },
          "id": "7207",
          "properties": {
           "id": "usa_CA_0288-0112",
           "slope": 0.05,
           "style": {
            "color": "grey",
            "fillOpacity": 0.2,
            "fill_color": "grey",
            "opacity": 1,
            "weight": 2
           }
          },
          "type": "Feature"
         },
         {
          "geometry": {
           "coordinates": [
            [
             -124.16807119819684,
             40.85541286270028
            ],
            [
             -124.1724638096147,
             40.85679523158112
            ]
           ],
           "type": "LineString"
          },
          "id": "7208",
          "properties": {
           "id": "usa_CA_0288-0113",
           "slope": 0.055,
           "style": {
            "color": "grey",
            "fillOpacity": 0.2,
            "fill_color": "grey",
            "opacity": 1,
            "weight": 2
           }
          },
          "type": "Feature"
         },
         {
          "geometry": {
           "coordinates": [
            [
             -124.16758661427892,
             40.85622728819544
            ],
            [
             -124.17197248056009,
             40.85762114796357
            ]
           ],
           "type": "LineString"
          },
          "id": "7209",
          "properties": {
           "id": "usa_CA_0288-0114",
           "slope": 0.05,
           "style": {
            "color": "grey",
            "fillOpacity": 0.2,
            "fill_color": "grey",
            "opacity": 1,
            "weight": 2
           }
          },
          "type": "Feature"
         },
         {
          "geometry": {
           "coordinates": [
            [
             -124.16709862416349,
             40.8570474488127
            ],
            [
             -124.17148453979664,
             40.8584413254609
            ]
           ],
           "type": "LineString"
          },
          "id": "7210",
          "properties": {
           "id": "usa_CA_0288-0115",
           "slope": 0.045,
           "style": {
            "color": "grey",
            "fillOpacity": 0.2,
            "fill_color": "grey",
            "opacity": 1,
            "weight": 2
           }
          },
          "type": "Feature"
         },
         {
          "geometry": {
           "coordinates": [
            [
             -124.16661062526676,
             40.8578676076069
            ],
            [
             -124.1709965902532,
             40.85926150113569
            ]
           ],
           "type": "LineString"
          },
          "id": "7211",
          "properties": {
           "id": "usa_CA_0288-0116",
           "slope": 0.05,
           "style": {
            "color": "grey",
            "fillOpacity": 0.2,
            "fill_color": "grey",
            "opacity": 1,
            "weight": 2
           }
          },
          "type": "Feature"
         },
         {
          "geometry": {
           "coordinates": [
            [
             -124.1661226175882,
             40.85868776457801
            ],
            [
             -124.1705086319292,
             40.86008167498793
            ]
           ],
           "type": "LineString"
          },
          "id": "7212",
          "properties": {
           "id": "usa_CA_0288-0117",
           "slope": 0.045,
           "style": {
            "color": "grey",
            "fillOpacity": 0.2,
            "fill_color": "grey",
            "opacity": 1,
            "weight": 2
           }
          },
          "type": "Feature"
         },
         {
          "geometry": {
           "coordinates": [
            [
             -124.1656346011273,
             40.85950791972601
            ],
            [
             -124.17002066482412,
             40.8609018470176
            ]
           ],
           "type": "LineString"
          },
          "id": "7213",
          "properties": {
           "id": "usa_CA_0288-0118",
           "slope": 0.04,
           "style": {
            "color": "grey",
            "fillOpacity": 0.2,
            "fill_color": "grey",
            "opacity": 1,
            "weight": 2
           }
          },
          "type": "Feature"
         },
         {
          "geometry": {
           "coordinates": [
            [
             -124.16514657588348,
             40.86032807305088
            ],
            [
             -124.1695326889374,
             40.86172201722466
            ]
           ],
           "type": "LineString"
          },
          "id": "7214",
          "properties": {
           "id": "usa_CA_0288-0119",
           "slope": 0.04,
           "style": {
            "color": "grey",
            "fillOpacity": 0.2,
            "fill_color": "grey",
            "opacity": 1,
            "weight": 2
           }
          },
          "type": "Feature"
         },
         {
          "geometry": {
           "coordinates": [
            [
             -124.1646585418562,
             40.8611482245526
            ],
            [
             -124.16904470426852,
             40.86254218560911
            ]
           ],
           "type": "LineString"
          },
          "id": "7215",
          "properties": {
           "id": "usa_CA_0288-0120",
           "slope": 0.045,
           "style": {
            "color": "grey",
            "fillOpacity": 0.2,
            "fill_color": "grey",
            "opacity": 1,
            "weight": 2
           }
          },
          "type": "Feature"
         },
         {
          "geometry": {
           "coordinates": [
            [
             -124.16417112302662,
             40.86196732654281
            ],
            [
             -124.16855608689836,
             40.86336339988083
            ]
           ],
           "type": "LineString"
          },
          "id": "7216",
          "properties": {
           "id": "usa_CA_0288-0121",
           "slope": 0.045,
           "style": {
            "color": "grey",
            "fillOpacity": 0.2,
            "fill_color": "grey",
            "opacity": 1,
            "weight": 2
           }
          },
          "type": "Feature"
         },
         {
          "geometry": {
           "coordinates": [
            [
             -124.16368350717684,
             40.86278395563743
            ],
            [
             -124.1680648494752,
             40.8641861890271
            ]
           ],
           "type": "LineString"
          },
          "id": "7217",
          "properties": {
           "id": "usa_CA_0288-0122",
           "slope": 0.05,
           "style": {
            "color": "grey",
            "fillOpacity": 0.2,
            "fill_color": "grey",
            "opacity": 1,
            "weight": 2
           }
          },
          "type": "Feature"
         },
         {
          "geometry": {
           "coordinates": [
            [
             -124.16319255481548,
             40.863600766732304
            ],
            [
             -124.16757151833087,
             40.86500706329972
            ]
           ],
           "type": "LineString"
          },
          "id": "7218",
          "properties": {
           "id": "usa_CA_0288-0123",
           "slope": 0.045,
           "style": {
            "color": "grey",
            "fillOpacity": 0.2,
            "fill_color": "grey",
            "opacity": 1,
            "weight": 2
           }
          },
          "type": "Feature"
         },
         {
          "geometry": {
           "coordinates": [
            [
             -124.16270037961276,
             40.86441959902001
            ],
            [
             -124.16707939215252,
             40.86582591262795
            ]
           ],
           "type": "LineString"
          },
          "id": "7219",
          "properties": {
           "id": "usa_CA_0288-0124",
           "slope": 0.045,
           "style": {
            "color": "grey",
            "fillOpacity": 0.2,
            "fill_color": "grey",
            "opacity": 1,
            "weight": 2
           }
          },
          "type": "Feature"
         },
         {
          "geometry": {
           "coordinates": [
            [
             -124.16220819553176,
             40.865238429452674
            ],
            [
             -124.16658725709708,
             40.866644760101686
            ]
           ],
           "type": "LineString"
          },
          "id": "7220",
          "properties": {
           "id": "usa_CA_0288-0125",
           "slope": 0.04,
           "style": {
            "color": "grey",
            "fillOpacity": 0.2,
            "fill_color": "grey",
            "opacity": 1,
            "weight": 2
           }
          },
          "type": "Feature"
         },
         {
          "geometry": {
           "coordinates": [
            [
             -124.16171600257196,
             40.86605725803027
            ],
            [
             -124.16609511316408,
             40.86746360572087
            ]
           ],
           "type": "LineString"
          },
          "id": "7221",
          "properties": {
           "id": "usa_CA_0288-0126",
           "slope": 0.045,
           "style": {
            "color": "grey",
            "fillOpacity": 0.2,
            "fill_color": "grey",
            "opacity": 1,
            "weight": 2
           }
          },
          "type": "Feature"
         },
         {
          "geometry": {
           "coordinates": [
            [
             -124.16122380073276,
             40.86687608475276
            ],
            [
             -124.16560296035298,
             40.86828244948551
            ]
           ],
           "type": "LineString"
          },
          "id": "7222",
          "properties": {
           "id": "usa_CA_0288-0127",
           "slope": 0.04,
           "style": {
            "color": "grey",
            "fillOpacity": 0.2,
            "fill_color": "grey",
            "opacity": 1,
            "weight": 2
           }
          },
          "type": "Feature"
         },
         {
          "geometry": {
           "coordinates": [
            [
             -124.1607315900137,
             40.86769490962013
            ],
            [
             -124.16511079866322,
             40.86910129139556
            ]
           ],
           "type": "LineString"
          },
          "id": "7223",
          "properties": {
           "id": "usa_CA_0288-0128",
           "slope": 0.045,
           "style": {
            "color": "grey",
            "fillOpacity": 0.2,
            "fill_color": "grey",
            "opacity": 1,
            "weight": 2
           }
          },
          "type": "Feature"
         },
         {
          "geometry": {
           "coordinates": [
            [
             -124.16023937041416,
             40.868513732632366
            ],
            [
             -124.16461862809426,
             40.86992013145101
            ]
           ],
           "type": "LineString"
          },
          "id": "7224",
          "properties": {
           "id": "usa_CA_0288-0129",
           "slope": 0.045,
           "style": {
            "color": "grey",
            "fillOpacity": 0.2,
            "fill_color": "grey",
            "opacity": 1,
            "weight": 2
           }
          },
          "type": "Feature"
         },
         {
          "geometry": {
           "coordinates": [
            [
             -124.1597421658541,
             40.8693408875499
            ],
            [
             -124.1641314242243,
             40.87073063571912
            ]
           ],
           "type": "LineString"
          },
          "id": "7225",
          "properties": {
           "id": "usa_CA_0288-0130",
           "slope": 0.045,
           "style": {
            "color": "grey",
            "fillOpacity": 0.2,
            "fill_color": "grey",
            "opacity": 1,
            "weight": 2
           }
          },
          "type": "Feature"
         },
         {
          "geometry": {
           "coordinates": [
            [
             -124.15922331087646,
             40.87023060390582
            ],
            [
             -124.16368851598467,
             40.87148504083176
            ]
           ],
           "type": "LineString"
          },
          "id": "7226",
          "properties": {
           "id": "usa_CA_0288-0131",
           "slope": 0.045,
           "style": {
            "color": "grey",
            "fillOpacity": 0.2,
            "fill_color": "grey",
            "opacity": 1,
            "weight": 2
           }
          },
          "type": "Feature"
         },
         {
          "geometry": {
           "coordinates": [
            [
             -124.1587919592432,
             40.87113549303228
            ],
            [
             -124.16331753188892,
             40.87226976169797
            ]
           ],
           "type": "LineString"
          },
          "id": "7227",
          "properties": {
           "id": "usa_CA_0288-0132",
           "slope": 0.04,
           "style": {
            "color": "grey",
            "fillOpacity": 0.2,
            "fill_color": "grey",
            "opacity": 1,
            "weight": 2
           }
          },
          "type": "Feature"
         },
         {
          "geometry": {
           "coordinates": [
            [
             -124.15839075870096,
             40.87198029058521
            ],
            [
             -124.16291638712688,
             40.87311457269802
            ]
           ],
           "type": "LineString"
          },
          "id": "7228",
          "properties": {
           "id": "usa_CA_0288-0133",
           "slope": 0.04,
           "style": {
            "color": "grey",
            "fillOpacity": 0.2,
            "fill_color": "grey",
            "opacity": 1,
            "weight": 2
           }
          },
          "type": "Feature"
         },
         {
          "geometry": {
           "coordinates": [
            [
             -124.15798955142256,
             40.8728250869076
            ],
            [
             -124.16251523563042,
             40.87395938246797
            ]
           ],
           "type": "LineString"
          },
          "id": "7229",
          "properties": {
           "id": "usa_CA_0288-0134",
           "slope": 0.045,
           "style": {
            "color": "grey",
            "fillOpacity": 0.2,
            "fill_color": "grey",
            "opacity": 1,
            "weight": 2
           }
          },
          "type": "Feature"
         },
         {
          "geometry": {
           "coordinates": [
            [
             -124.15758833740756,
             40.87366988199946
            ],
            [
             -124.16211407739912,
             40.87480419100782
            ]
           ],
           "type": "LineString"
          },
          "id": "7230",
          "properties": {
           "id": "usa_CA_0288-0135",
           "slope": 0.045,
           "style": {
            "color": "grey",
            "fillOpacity": 0.2,
            "fill_color": "grey",
            "opacity": 1,
            "weight": 2
           }
          },
          "type": "Feature"
         },
         {
          "geometry": {
           "coordinates": [
            [
             -124.15718711665552,
             40.87451467586078
            ],
            [
             -124.16171291243256,
             40.87564899831758
            ]
           ],
           "type": "LineString"
          },
          "id": "7231",
          "properties": {
           "id": "usa_CA_0288-0136",
           "slope": 0.045,
           "style": {
            "color": "grey",
            "fillOpacity": 0.2,
            "fill_color": "grey",
            "opacity": 1,
            "weight": 2
           }
          },
          "type": "Feature"
         },
         {
          "geometry": {
           "coordinates": [
            [
             -124.15678588916596,
             40.87535946849156
            ],
            [
             -124.1613117407302,
             40.876493804397256
            ]
           ],
           "type": "LineString"
          },
          "id": "7232",
          "properties": {
           "id": "usa_CA_0288-0137",
           "slope": 0.045,
           "style": {
            "color": "grey",
            "fillOpacity": 0.2,
            "fill_color": "grey",
            "opacity": 1,
            "weight": 2
           }
          },
          "type": "Feature"
         },
         {
          "geometry": {
           "coordinates": [
            [
             -124.15638465493848,
             40.87620425989182
            ],
            [
             -124.16091056229163,
             40.87733860924686
            ]
           ],
           "type": "LineString"
          },
          "id": "7233",
          "properties": {
           "id": "usa_CA_0288-0138",
           "slope": 0.045,
           "style": {
            "color": "grey",
            "fillOpacity": 0.2,
            "fill_color": "grey",
            "opacity": 1,
            "weight": 2
           }
          },
          "type": "Feature"
         },
         {
          "geometry": {
           "coordinates": [
            [
             -124.15598341397256,
             40.87704905006155
            ],
            [
             -124.16050937711644,
             40.87818341286643
            ]
           ],
           "type": "LineString"
          },
          "id": "7234",
          "properties": {
           "id": "usa_CA_0288-0139",
           "slope": 0.05,
           "style": {
            "color": "grey",
            "fillOpacity": 0.2,
            "fill_color": "grey",
            "opacity": 1,
            "weight": 2
           }
          },
          "type": "Feature"
         },
         {
          "geometry": {
           "coordinates": [
            [
             -124.15558216626782,
             40.87789383900079
            ],
            [
             -124.16010818520417,
             40.8790282152559
            ]
           ],
           "type": "LineString"
          },
          "id": "7235",
          "properties": {
           "id": "usa_CA_0288-0140",
           "slope": 0.045,
           "style": {
            "color": "grey",
            "fillOpacity": 0.2,
            "fill_color": "grey",
            "opacity": 1,
            "weight": 2
           }
          },
          "type": "Feature"
         },
         {
          "geometry": {
           "coordinates": [
            [
             -124.15519279717756,
             40.87871416543687
            ],
            [
             -124.15969510280436,
             40.87989747808814
            ]
           ],
           "type": "LineString"
          },
          "id": "7236",
          "properties": {
           "id": "usa_CA_0288-0141",
           "slope": 0.05,
           "style": {
            "color": "grey",
            "fillOpacity": 0.2,
            "fill_color": "grey",
            "opacity": 1,
            "weight": 2
           }
          },
          "type": "Feature"
         },
         {
          "geometry": {
           "coordinates": [
            [
             -124.15477927829036,
             40.87951070126901
            ],
            [
             -124.1592410335782,
             40.88077291420641
            ]
           ],
           "type": "LineString"
          },
          "id": "7237",
          "properties": {
           "id": "usa_CA_0288-0142",
           "slope": 0.05,
           "style": {
            "color": "grey",
            "fillOpacity": 0.2,
            "fill_color": "grey",
            "opacity": 1,
            "weight": 2
           }
          },
          "type": "Feature"
         },
         {
          "geometry": {
           "coordinates": [
            [
             -124.15433328322425,
             40.88032614652256
            ],
            [
             -124.15877885018512,
             40.881618462989614
            ]
           ],
           "type": "LineString"
          },
          "id": "7238",
          "properties": {
           "id": "usa_CA_0288-0143",
           "slope": 0.045,
           "style": {
            "color": "grey",
            "fillOpacity": 0.2,
            "fill_color": "grey",
            "opacity": 1,
            "weight": 2
           }
          },
          "type": "Feature"
         },
         {
          "geometry": {
           "coordinates": [
            [
             -124.1538791594682,
             40.88115663404134
            ],
            [
             -124.15832477851056,
             40.882448966084645
            ]
           ],
           "type": "LineString"
          },
          "id": "7239",
          "properties": {
           "id": "usa_CA_0288-0144",
           "slope": 0.04,
           "style": {
            "color": "grey",
            "fillOpacity": 0.2,
            "fill_color": "grey",
            "opacity": 1,
            "weight": 2
           }
          },
          "type": "Feature"
         },
         {
          "geometry": {
           "coordinates": [
            [
             -124.15342502769948,
             40.8819871199874
            ],
            [
             -124.15787069882474,
             40.88327946760748
            ]
           ],
           "type": "LineString"
          },
          "id": "7240",
          "properties": {
           "id": "usa_CA_0288-0145",
           "slope": 0.04,
           "style": {
            "color": "grey",
            "fillOpacity": 0.2,
            "fill_color": "grey",
            "opacity": 1,
            "weight": 2
           }
          },
          "type": "Feature"
         },
         {
          "geometry": {
           "coordinates": [
            [
             -124.15297088791752,
             40.88281760436075
            ],
            [
             -124.15741661112722,
             40.8841099675581
            ]
           ],
           "type": "LineString"
          },
          "id": "7241",
          "properties": {
           "id": "usa_CA_0288-0146",
           "slope": 0.035,
           "style": {
            "color": "grey",
            "fillOpacity": 0.2,
            "fill_color": "grey",
            "opacity": 1,
            "weight": 2
           }
          },
          "type": "Feature"
         },
         {
          "geometry": {
           "coordinates": [
            [
             -124.1525167401219,
             40.88364808716139
            ],
            [
             -124.15696251541743,
             40.88494046593654
            ]
           ],
           "type": "LineString"
          },
          "id": "7242",
          "properties": {
           "id": "usa_CA_0288-0147",
           "slope": 0.04,
           "style": {
            "color": "grey",
            "fillOpacity": 0.2,
            "fill_color": "grey",
            "opacity": 1,
            "weight": 2
           }
          },
          "type": "Feature"
         },
         {
          "geometry": {
           "coordinates": [
            [
             -124.15206258431206,
             40.8844785683893
            ],
            [
             -124.15650841169496,
             40.88577096274271
            ]
           ],
           "type": "LineString"
          },
          "id": "7243",
          "properties": {
           "id": "usa_CA_0288-0148",
           "slope": 0.045,
           "style": {
            "color": "grey",
            "fillOpacity": 0.2,
            "fill_color": "grey",
            "opacity": 1,
            "weight": 2
           }
          },
          "type": "Feature"
         },
         {
          "geometry": {
           "coordinates": [
            [
             -124.15160842048756,
             40.885309048044455
            ],
            [
             -124.15605429995928,
             40.88660145797666
            ]
           ],
           "type": "LineString"
          },
          "id": "7244",
          "properties": {
           "id": "usa_CA_0288-0149",
           "slope": 0.04,
           "style": {
            "color": "grey",
            "fillOpacity": 0.2,
            "fill_color": "grey",
            "opacity": 1,
            "weight": 2
           }
          },
          "type": "Feature"
         },
         {
          "geometry": {
           "coordinates": [
            [
             -124.15112962849744,
             40.88618640104093
            ],
            [
             -124.15562479737096,
             40.887385075884495
            ]
           ],
           "type": "LineString"
          },
          "id": "7245",
          "properties": {
           "id": "usa_CA_0288-0150",
           "slope": 0.045,
           "style": {
            "color": "grey",
            "fillOpacity": 0.2,
            "fill_color": "grey",
            "opacity": 1,
            "weight": 2
           }
          },
          "type": "Feature"
         },
         {
          "geometry": {
           "coordinates": [
            [
             -124.1507138355472,
             40.88708508042095
            ],
            [
             -124.15525856892584,
             40.88818077923964
            ]
           ],
           "type": "LineString"
          },
          "id": "7246",
          "properties": {
           "id": "usa_CA_0288-0151",
           "slope": 0.05,
           "style": {
            "color": "grey",
            "fillOpacity": 0.2,
            "fill_color": "grey",
            "opacity": 1,
            "weight": 2
           }
          },
          "type": "Feature"
         },
         {
          "geometry": {
           "coordinates": [
            [
             -124.15032639774005,
             40.88793786183725
            ],
            [
             -124.15487496716244,
             40.88902528726909
            ]
           ],
           "type": "LineString"
          },
          "id": "7247",
          "properties": {
           "id": "usa_CA_0288-0152",
           "slope": 0.05,
           "style": {
            "color": "grey",
            "fillOpacity": 0.2,
            "fill_color": "grey",
            "opacity": 1,
            "weight": 2
           }
          },
          "type": "Feature"
         },
         {
          "geometry": {
           "coordinates": [
            [
             -124.14994084333138,
             40.88878649905007
            ],
            [
             -124.15448946957348,
             40.88987393728709
            ]
           ],
           "type": "LineString"
          },
          "id": "7248",
          "properties": {
           "id": "usa_CA_0288-0153",
           "slope": 0.05,
           "style": {
            "color": "grey",
            "fillOpacity": 0.2,
            "fill_color": "grey",
            "opacity": 1,
            "weight": 2
           }
          },
          "type": "Feature"
         },
         {
          "geometry": {
           "coordinates": [
            [
             -124.14955528256928,
             40.88963513512383
            ],
            [
             -124.15410396563294,
             40.89072258616645
            ]
           ],
           "type": "LineString"
          },
          "id": "7249",
          "properties": {
           "id": "usa_CA_0288-0154",
           "slope": 0.055,
           "style": {
            "color": "grey",
            "fillOpacity": 0.2,
            "fill_color": "grey",
            "opacity": 1,
            "weight": 2
           }
          },
          "type": "Feature"
         },
         {
          "geometry": {
           "coordinates": [
            [
             -124.14916971545334,
             40.89048377005852
            ],
            [
             -124.15371845534035,
             40.89157123390718
            ]
           ],
           "type": "LineString"
          },
          "id": "7250",
          "properties": {
           "id": "usa_CA_0288-0155",
           "slope": 0.05,
           "style": {
            "color": "grey",
            "fillOpacity": 0.2,
            "fill_color": "grey",
            "opacity": 1,
            "weight": 2
           }
          },
          "type": "Feature"
         },
         {
          "geometry": {
           "coordinates": [
            [
             -124.14878414198311,
             40.89133240385417
            ],
            [
             -124.15333293869531,
             40.89241988050928
            ]
           ],
           "type": "LineString"
          },
          "id": "7251",
          "properties": {
           "id": "usa_CA_0288-0156",
           "slope": 0.045,
           "style": {
            "color": "grey",
            "fillOpacity": 0.2,
            "fill_color": "grey",
            "opacity": 1,
            "weight": 2
           }
          },
          "type": "Feature"
         },
         {
          "geometry": {
           "coordinates": [
            [
             -124.14839856215822,
             40.89218103651079
            ],
            [
             -124.15294741569744,
             40.8932685259728
            ]
           ],
           "type": "LineString"
          },
          "id": "7252",
          "properties": {
           "id": "usa_CA_0288-0157",
           "slope": 0.045,
           "style": {
            "color": "grey",
            "fillOpacity": 0.2,
            "fill_color": "grey",
            "opacity": 1,
            "weight": 2
           }
          },
          "type": "Feature"
         },
         {
          "geometry": {
           "coordinates": [
            [
             -124.14801297597818,
             40.89302966802837
            ],
            [
             -124.15256188634623,
             40.89411717029772
            ]
           ],
           "type": "LineString"
          },
          "id": "7253",
          "properties": {
           "id": "usa_CA_0288-0158",
           "slope": 0.04,
           "style": {
            "color": "grey",
            "fillOpacity": 0.2,
            "fill_color": "grey",
            "opacity": 1,
            "weight": 2
           }
          },
          "type": "Feature"
         },
         {
          "geometry": {
           "coordinates": [
            [
             -124.1476256224162,
             40.89388218868971
            ],
            [
             -124.15217811140688,
             40.89496192314283
            ]
           ],
           "type": "LineString"
          },
          "id": "7254",
          "properties": {
           "id": "usa_CA_0288-0159",
           "slope": 0.05,
           "style": {
            "color": "grey",
            "fillOpacity": 0.2,
            "fill_color": "grey",
            "opacity": 1,
            "weight": 2
           }
          },
          "type": "Feature"
         },
         {
          "geometry": {
           "coordinates": [
            [
             -124.14724180751092,
             40.89473972073771
            ],
            [
             -124.15180122369648,
             40.895804118936
            ]
           ],
           "type": "LineString"
          },
          "id": "7255",
          "properties": {
           "id": "usa_CA_0288-0160",
           "slope": 0.045,
           "style": {
            "color": "grey",
            "fillOpacity": 0.2,
            "fill_color": "grey",
            "opacity": 1,
            "weight": 2
           }
          },
          "type": "Feature"
         },
         {
          "geometry": {
           "coordinates": [
            [
             -124.14686481241552,
             40.895594553397565
            ],
            [
             -124.15142763559643,
             40.89665139631545
            ]
           ],
           "type": "LineString"
          },
          "id": "7256",
          "properties": {
           "id": "usa_CA_0288-0161",
           "slope": 0.045,
           "style": {
            "color": "grey",
            "fillOpacity": 0.2,
            "fill_color": "grey",
            "opacity": 1,
            "weight": 2
           }
          },
          "type": "Feature"
         }
        ],
        "type": "FeatureCollection"
       },
       "hover_style": {
        "color": "blue",
        "fillOpacity": 0.7
       },
       "name": "transects",
       "style": {
        "color": "grey",
        "fillOpacity": 0.2,
        "fill_color": "grey",
        "opacity": 1,
        "weight": 2
       }
      }
     },
     "37321fe30a7e42c39751055e36c1c51f": {
      "model_module": "@jupyter-widgets/base",
      "model_module_version": "1.2.0",
      "model_name": "LayoutModel",
      "state": {}
     },
     "37ffb2ecef8d41428d7e0b54ecc01a70": {
      "model_module": "@jupyter-widgets/controls",
      "model_module_version": "1.5.0",
      "model_name": "ButtonModel",
      "state": {
       "description": "Remove transects",
       "layout": "IPY_MODEL_4f81bece39344fcaa8d79661dcd11dac",
       "style": "IPY_MODEL_98d14398357247579027efb2959708fc"
      }
     },
     "3880868e3c394b0e961616d0b6f920ba": {
      "model_module": "jupyter-leaflet",
      "model_module_version": "^0.17.0",
      "model_name": "LeafletTileLayerModel",
      "state": {
       "_model_module_version": "^0.17.0",
       "_view_module_version": "^0.17.0",
       "attribution": "Tiles (C) Esri -- Esri, DeLorme, NAVTEQ",
       "max_zoom": 16,
       "name": "Esri.WorldGrayCanvas",
       "options": [
        "attribution",
        "bounds",
        "detect_retina",
        "max_native_zoom",
        "max_zoom",
        "min_native_zoom",
        "min_zoom",
        "no_wrap",
        "tile_size",
        "tms"
       ],
       "url": "https://server.arcgisonline.com/ArcGIS/rest/services/Canvas/World_Light_Gray_Base/MapServer/tile/{z}/{y}/{x}"
      }
     },
     "38c9c45d2e9741f989074063bd2ed742": {
      "model_module": "jupyter-leaflet",
      "model_module_version": "^0.17.0",
      "model_name": "LeafletScaleControlModel",
      "state": {
       "_model_module_version": "^0.17.0",
       "_view_module_version": "^0.17.0",
       "imperial": true,
       "max_width": 100,
       "metric": true,
       "options": [
        "imperial",
        "max_width",
        "metric",
        "position",
        "update_when_idle"
       ],
       "position": "bottomleft",
       "update_when_idle": false
      }
     },
     "391bd1f29e4a497286a3bf5c0311452d": {
      "model_module": "@jupyter-widgets/base",
      "model_module_version": "1.2.0",
      "model_name": "LayoutModel",
      "state": {}
     },
     "3950cb34cf894f87af336471f6dad335": {
      "model_module": "@jupyter-widgets/controls",
      "model_module_version": "1.5.0",
      "model_name": "DescriptionStyleModel",
      "state": {
       "description_width": ""
      }
     },
     "39a193ac4d15472eaa6c06ba6b0ffdf8": {
      "model_module": "@jupyter-widgets/controls",
      "model_module_version": "1.5.0",
      "model_name": "DescriptionStyleModel",
      "state": {
       "description_width": ""
      }
     },
     "3a6c74a8dc2240118a9514b455812065": {
      "model_module": "@jupyter-widgets/controls",
      "model_module_version": "1.5.0",
      "model_name": "HBoxModel",
      "state": {
       "children": [
        "IPY_MODEL_d55dbe1f9686430d9b8f9e3946feb565",
        "IPY_MODEL_8b7970c4869846f7a31e1192d8b42dda",
        "IPY_MODEL_c444bae9958b4277befab117576b3d36"
       ],
       "layout": "IPY_MODEL_67a75ecb59294df0b6df18d9b37cf61a"
      }
     },
     "3ad084db59854ebf808da0f7e6f1911e": {
      "model_module": "jupyter-leaflet",
      "model_module_version": "^0.17.0",
      "model_name": "LeafletTileLayerModel",
      "state": {
       "_model_module_version": "^0.17.0",
       "_view_module_version": "^0.17.0",
       "attribution": "(C) OpenStreetMap contributors (C) CARTO",
       "max_zoom": 20,
       "name": "CartoDB.DarkMatterOnlyLabels",
       "options": [
        "attribution",
        "bounds",
        "detect_retina",
        "max_native_zoom",
        "max_zoom",
        "min_native_zoom",
        "min_zoom",
        "no_wrap",
        "tile_size",
        "tms"
       ],
       "url": "https://a.basemaps.cartocdn.com/dark_only_labels/{z}/{x}/{y}.png"
      }
     },
     "3bb88e70588540aca208cf8d5d063e84": {
      "model_module": "@jupyter-widgets/controls",
      "model_module_version": "1.5.0",
      "model_name": "HBoxModel",
      "state": {
       "children": [
        "IPY_MODEL_31e5d8b5c7ae46b4b967e9b73f9605e6",
        "IPY_MODEL_f5791bc25d4a4e6c9f1e9902bc245e18"
       ],
       "layout": "IPY_MODEL_b0e296b613b54372b545c9579691bdb1"
      }
     },
     "3bcedae6abff415ebf9cb0da0e41c822": {
      "model_module": "jupyter-leaflet",
      "model_module_version": "^0.17.0",
      "model_name": "LeafletTileLayerModel",
      "state": {
       "_model_module_version": "^0.17.0",
       "_view_module_version": "^0.17.0",
       "attribution": "Tiles (C) Esri -- Source: Esri, DeLorme, NAVTEQ, USGS, Intermap, iPC, NRCAN, Esri Japan, METI, Esri China (Hong Kong), Esri (Thailand), TomTom, 2012",
       "max_zoom": 22,
       "name": "Esri.WorldStreetMap",
       "options": [
        "attribution",
        "bounds",
        "detect_retina",
        "max_native_zoom",
        "max_zoom",
        "min_native_zoom",
        "min_zoom",
        "no_wrap",
        "tile_size",
        "tms"
       ],
       "url": "https://server.arcgisonline.com/ArcGIS/rest/services/World_Street_Map/MapServer/tile/{z}/{y}/{x}"
      }
     },
     "3c57cda3e6f5440888fa8731f86061a4": {
      "model_module": "@jupyter-widgets/controls",
      "model_module_version": "1.5.0",
      "model_name": "FloatProgressModel",
      "state": {
       "bar_style": "success",
       "layout": "IPY_MODEL_8a7d6faf73744da98dd891748ea0c862",
       "max": 2,
       "style": "IPY_MODEL_db87d4a854fe4bcaa332e21bb7891ebb",
       "value": 2
      }
     },
     "3c7e77d0551a481f8ed5a3f229cca5a5": {
      "model_module": "jupyter-leaflet",
      "model_module_version": "^0.17.0",
      "model_name": "LeafletTileLayerModel",
      "state": {
       "_model_module_version": "^0.17.0",
       "_view_module_version": "^0.17.0",
       "attribution": "Kaartgegevens (C) Kadaster",
       "max_zoom": 19,
       "name": "nlmaps.pastel",
       "options": [
        "attribution",
        "bounds",
        "detect_retina",
        "max_native_zoom",
        "max_zoom",
        "min_native_zoom",
        "min_zoom",
        "no_wrap",
        "tile_size",
        "tms"
       ],
       "url": "https://service.pdok.nl/brt/achtergrondkaart/wmts/v2_0/pastel/EPSG:3857/{z}/{x}/{y}.png"
      }
     },
     "3dded71013f54932a69d6ff5673c9661": {
      "model_module": "jupyter-leaflet",
      "model_module_version": "^0.17.0",
      "model_name": "LeafletTileLayerModel",
      "state": {
       "_model_module_version": "^0.17.0",
       "_view_module_version": "^0.17.0",
       "attribution": "![](https://docs.onemap.sg/maps/images/oneMap64-01.png) New OneMap | Map data (C) contributors, Singapore Land Authority",
       "name": "OneMapSG.Original",
       "options": [
        "attribution",
        "bounds",
        "detect_retina",
        "max_native_zoom",
        "max_zoom",
        "min_native_zoom",
        "min_zoom",
        "no_wrap",
        "tile_size",
        "tms"
       ],
       "url": "https://maps-a.onemap.sg/v3/Original/{z}/{x}/{y}.png"
      }
     },
     "3e61ae9645be48d1825affb328724712": {
      "model_module": "jupyter-leaflet",
      "model_module_version": "^0.17.0",
      "model_name": "LeafletTileLayerModel",
      "state": {
       "_model_module_version": "^0.17.0",
       "_view_module_version": "^0.17.0",
       "attribution": "Kaartgegevens (C) Kadaster",
       "max_zoom": 19,
       "name": "nlmaps.standaard",
       "options": [
        "attribution",
        "bounds",
        "detect_retina",
        "max_native_zoom",
        "max_zoom",
        "min_native_zoom",
        "min_zoom",
        "no_wrap",
        "tile_size",
        "tms"
       ],
       "url": "https://service.pdok.nl/brt/achtergrondkaart/wmts/v2_0/standaard/EPSG:3857/{z}/{x}/{y}.png"
      }
     },
     "3f7e0dd08bd54aa0ab70931a55e21169": {
      "model_module": "jupyter-leaflet",
      "model_module_version": "^0.17.0",
      "model_name": "LeafletMapStyleModel",
      "state": {
       "_model_module_version": "^0.17.0",
       "cursor": "default"
      }
     },
     "4013eb4f3061412b95dc89275da7b241": {
      "model_module": "@jupyter-widgets/controls",
      "model_module_version": "1.5.0",
      "model_name": "DescriptionStyleModel",
      "state": {
       "description_width": ""
      }
     },
     "4115c5ff532a4f44a8f0dd9ba766f56f": {
      "model_module": "jupyter-leaflet",
      "model_module_version": "^0.17.0",
      "model_name": "LeafletTileLayerModel",
      "state": {
       "_model_module_version": "^0.17.0",
       "_view_module_version": "^0.17.0",
       "attribution": "Map data: (C) OpenStreetMap contributors | Map style: (C) waymarkedtrails.org (CC-BY-SA)",
       "name": "WaymarkedTrails.slopes",
       "options": [
        "attribution",
        "bounds",
        "detect_retina",
        "max_native_zoom",
        "max_zoom",
        "min_native_zoom",
        "min_zoom",
        "no_wrap",
        "tile_size",
        "tms"
       ],
       "url": "https://tile.waymarkedtrails.org/slopes/{z}/{x}/{y}.png"
      }
     },
     "41c95c33568e4f67950b1bdfa4107fc0": {
      "model_module": "jupyter-leaflet",
      "model_module_version": "^0.17.0",
      "model_name": "LeafletGeoJSONModel",
      "state": {
       "_model_module_version": "^0.17.0",
       "_view_module_version": "^0.17.0",
       "data": {
        "features": [
         {
          "geometry": {
           "coordinates": [
            [
             [
              -124.2131880328652,
              40.82702372104678
             ],
             [
              -124.21384526769731,
              40.86304954943669
             ],
             [
              -124.16639190083663,
              40.86353920968574
             ],
             [
              -124.16576034508793,
              40.82751276347161
             ],
             [
              -124.2131880328652,
              40.82702372104678
             ]
            ]
           ],
           "type": "Polygon"
          },
          "id": "0",
          "properties": {
           "id": 0,
           "style": {
            "color": "#555555",
            "fillOpacity": 0.1,
            "fill_color": "#555555",
            "weight": 1
           }
          },
          "type": "Feature"
         },
         {
          "geometry": {
           "coordinates": [
            [
             [
              -124.2131880328652,
              40.82702372104678
             ],
             [
              -124.21384526769731,
              40.86304954943669
             ],
             [
              -124.16639190083663,
              40.86353920968574
             ],
             [
              -124.16576034508793,
              40.82751276347161
             ],
             [
              -124.2131880328652,
              40.82702372104678
             ]
            ]
           ],
           "type": "Polygon"
          },
          "id": "1",
          "properties": {
           "id": 1,
           "style": {
            "color": "#555555",
            "fillOpacity": 0.1,
            "fill_color": "#555555",
            "weight": 1
           }
          },
          "type": "Feature"
         },
         {
          "geometry": {
           "coordinates": [
            [
             [
              -124.2131880328652,
              40.82702372104678
             ],
             [
              -124.21384526769731,
              40.86304954943669
             ],
             [
              -124.16639190083663,
              40.86353920968574
             ],
             [
              -124.16576034508793,
              40.82751276347161
             ],
             [
              -124.2131880328652,
              40.82702372104678
             ]
            ]
           ],
           "type": "Polygon"
          },
          "id": "2",
          "properties": {
           "id": 2,
           "style": {
            "color": "#555555",
            "fillOpacity": 0.1,
            "fill_color": "#555555",
            "weight": 1
           }
          },
          "type": "Feature"
         },
         {
          "geometry": {
           "coordinates": [
            [
             [
              -124.16576034508793,
              40.82751276347161
             ],
             [
              -124.16639190083663,
              40.86353920968574
             ],
             [
              -124.11893738946702,
              40.86400935270878
             ],
             [
              -124.11833151515256,
              40.82798231328761
             ],
             [
              -124.16576034508793,
              40.82751276347161
             ]
            ]
           ],
           "type": "Polygon"
          },
          "id": "3",
          "properties": {
           "id": 3,
           "style": {
            "color": "#555555",
            "fillOpacity": 0.1,
            "fill_color": "#555555",
            "weight": 1
           }
          },
          "type": "Feature"
         },
         {
          "geometry": {
           "coordinates": [
            [
             [
              -124.2131880328652,
              40.82702372104678
             ],
             [
              -124.21384526769731,
              40.86304954943669
             ],
             [
              -124.16639190083663,
              40.86353920968574
             ],
             [
              -124.16576034508793,
              40.82751276347161
             ],
             [
              -124.2131880328652,
              40.82702372104678
             ]
            ]
           ],
           "type": "Polygon"
          },
          "id": "4",
          "properties": {
           "id": 4,
           "style": {
            "color": "#555555",
            "fillOpacity": 0.1,
            "fill_color": "#555555",
            "weight": 1
           }
          },
          "type": "Feature"
         },
         {
          "geometry": {
           "coordinates": [
            [
             [
              -124.16576034508793,
              40.82751276347161
             ],
             [
              -124.16639190083663,
              40.86353920968574
             ],
             [
              -124.11893738946702,
              40.86400935270878
             ],
             [
              -124.11833151515256,
              40.82798231328761
             ],
             [
              -124.16576034508793,
              40.82751276347161
             ]
            ]
           ],
           "type": "Polygon"
          },
          "id": "5",
          "properties": {
           "id": 5,
           "style": {
            "color": "#555555",
            "fillOpacity": 0.1,
            "fill_color": "#555555",
            "weight": 1
           }
          },
          "type": "Feature"
         },
         {
          "geometry": {
           "coordinates": [
            [
             [
              -124.2131880328652,
              40.82702372104678
             ],
             [
              -124.21384526769731,
              40.86304954943669
             ],
             [
              -124.16639190083663,
              40.86353920968574
             ],
             [
              -124.16576034508793,
              40.82751276347161
             ],
             [
              -124.2131880328652,
              40.82702372104678
             ]
            ]
           ],
           "type": "Polygon"
          },
          "id": "6",
          "properties": {
           "id": 6,
           "style": {
            "color": "#555555",
            "fillOpacity": 0.1,
            "fill_color": "#555555",
            "weight": 1
           }
          },
          "type": "Feature"
         },
         {
          "geometry": {
           "coordinates": [
            [
             [
              -124.2131880328652,
              40.82702372104678
             ],
             [
              -124.21384526769731,
              40.86304954943669
             ],
             [
              -124.16639190083663,
              40.86353920968574
             ],
             [
              -124.16576034508793,
              40.82751276347161
             ],
             [
              -124.2131880328652,
              40.82702372104678
             ]
            ]
           ],
           "type": "Polygon"
          },
          "id": "7",
          "properties": {
           "id": 7,
           "style": {
            "color": "#555555",
            "fillOpacity": 0.1,
            "fill_color": "#555555",
            "weight": 1
           }
          },
          "type": "Feature"
         },
         {
          "geometry": {
           "coordinates": [
            [
             [
              -124.2131880328652,
              40.82702372104678
             ],
             [
              -124.21384526769731,
              40.86304954943669
             ],
             [
              -124.16639190083663,
              40.86353920968574
             ],
             [
              -124.16576034508793,
              40.82751276347161
             ],
             [
              -124.2131880328652,
              40.82702372104678
             ]
            ]
           ],
           "type": "Polygon"
          },
          "id": "8",
          "properties": {
           "id": 8,
           "style": {
            "color": "#555555",
            "fillOpacity": 0.1,
            "fill_color": "#555555",
            "weight": 1
           }
          },
          "type": "Feature"
         },
         {
          "geometry": {
           "coordinates": [
            [
             [
              -124.2131880328652,
              40.82702372104678
             ],
             [
              -124.21384526769731,
              40.86304954943669
             ],
             [
              -124.16639190083663,
              40.86353920968574
             ],
             [
              -124.16576034508793,
              40.82751276347161
             ],
             [
              -124.2131880328652,
              40.82702372104678
             ]
            ]
           ],
           "type": "Polygon"
          },
          "id": "9",
          "properties": {
           "id": 9,
           "style": {
            "color": "#555555",
            "fillOpacity": 0.1,
            "fill_color": "#555555",
            "weight": 1
           }
          },
          "type": "Feature"
         },
         {
          "geometry": {
           "coordinates": [
            [
             [
              -124.2131880328652,
              40.82702372104678
             ],
             [
              -124.21384526769731,
              40.86304954943669
             ],
             [
              -124.16639190083663,
              40.86353920968574
             ],
             [
              -124.16576034508793,
              40.82751276347161
             ],
             [
              -124.2131880328652,
              40.82702372104678
             ]
            ]
           ],
           "type": "Polygon"
          },
          "id": "10",
          "properties": {
           "id": 10,
           "style": {
            "color": "#555555",
            "fillOpacity": 0.1,
            "fill_color": "#555555",
            "weight": 1
           }
          },
          "type": "Feature"
         },
         {
          "geometry": {
           "coordinates": [
            [
             [
              -124.2131880328652,
              40.82702372104678
             ],
             [
              -124.21384526769731,
              40.86304954943669
             ],
             [
              -124.16639190083663,
              40.86353920968574
             ],
             [
              -124.16576034508793,
              40.82751276347161
             ],
             [
              -124.2131880328652,
              40.82702372104678
             ]
            ]
           ],
           "type": "Polygon"
          },
          "id": "11",
          "properties": {
           "id": 11,
           "style": {
            "color": "#555555",
            "fillOpacity": 0.1,
            "fill_color": "#555555",
            "weight": 1
           }
          },
          "type": "Feature"
         },
         {
          "geometry": {
           "coordinates": [
            [
             [
              -124.2131880328652,
              40.82702372104678
             ],
             [
              -124.21384526769731,
              40.86304954943669
             ],
             [
              -124.16639190083663,
              40.86353920968574
             ],
             [
              -124.16576034508793,
              40.82751276347161
             ],
             [
              -124.2131880328652,
              40.82702372104678
             ]
            ]
           ],
           "type": "Polygon"
          },
          "id": "12",
          "properties": {
           "id": 12,
           "style": {
            "color": "#555555",
            "fillOpacity": 0.1,
            "fill_color": "#555555",
            "weight": 1
           }
          },
          "type": "Feature"
         },
         {
          "geometry": {
           "coordinates": [
            [
             [
              -124.2131880328652,
              40.82702372104678
             ],
             [
              -124.21384526769731,
              40.86304954943669
             ],
             [
              -124.16639190083663,
              40.86353920968574
             ],
             [
              -124.16576034508793,
              40.82751276347161
             ],
             [
              -124.2131880328652,
              40.82702372104678
             ]
            ]
           ],
           "type": "Polygon"
          },
          "id": "13",
          "properties": {
           "id": 13,
           "style": {
            "color": "#555555",
            "fillOpacity": 0.1,
            "fill_color": "#555555",
            "weight": 1
           }
          },
          "type": "Feature"
         },
         {
          "geometry": {
           "coordinates": [
            [
             [
              -124.2131880328652,
              40.82702372104678
             ],
             [
              -124.21384526769731,
              40.86304954943669
             ],
             [
              -124.16639190083663,
              40.86353920968574
             ],
             [
              -124.16576034508793,
              40.82751276347161
             ],
             [
              -124.2131880328652,
              40.82702372104678
             ]
            ]
           ],
           "type": "Polygon"
          },
          "id": "14",
          "properties": {
           "id": 14,
           "style": {
            "color": "#555555",
            "fillOpacity": 0.1,
            "fill_color": "#555555",
            "weight": 1
           }
          },
          "type": "Feature"
         },
         {
          "geometry": {
           "coordinates": [
            [
             [
              -124.2131880328652,
              40.82702372104678
             ],
             [
              -124.21384526769731,
              40.86304954943669
             ],
             [
              -124.16639190083663,
              40.86353920968574
             ],
             [
              -124.16576034508793,
              40.82751276347161
             ],
             [
              -124.2131880328652,
              40.82702372104678
             ]
            ]
           ],
           "type": "Polygon"
          },
          "id": "15",
          "properties": {
           "id": 15,
           "style": {
            "color": "#555555",
            "fillOpacity": 0.1,
            "fill_color": "#555555",
            "weight": 1
           }
          },
          "type": "Feature"
         },
         {
          "geometry": {
           "coordinates": [
            [
             [
              -124.2131880328652,
              40.82702372104678
             ],
             [
              -124.21384526769731,
              40.86304954943669
             ],
             [
              -124.16639190083663,
              40.86353920968574
             ],
             [
              -124.16576034508793,
              40.82751276347161
             ],
             [
              -124.2131880328652,
              40.82702372104678
             ]
            ]
           ],
           "type": "Polygon"
          },
          "id": "16",
          "properties": {
           "id": 16,
           "style": {
            "color": "#555555",
            "fillOpacity": 0.1,
            "fill_color": "#555555",
            "weight": 1
           }
          },
          "type": "Feature"
         },
         {
          "geometry": {
           "coordinates": [
            [
             [
              -124.2131880328652,
              40.82702372104678
             ],
             [
              -124.21384526769731,
              40.86304954943669
             ],
             [
              -124.16639190083663,
              40.86353920968574
             ],
             [
              -124.16576034508793,
              40.82751276347161
             ],
             [
              -124.2131880328652,
              40.82702372104678
             ]
            ]
           ],
           "type": "Polygon"
          },
          "id": "17",
          "properties": {
           "id": 17,
           "style": {
            "color": "#555555",
            "fillOpacity": 0.1,
            "fill_color": "#555555",
            "weight": 1
           }
          },
          "type": "Feature"
         },
         {
          "geometry": {
           "coordinates": [
            [
             [
              -124.2131880328652,
              40.82702372104678
             ],
             [
              -124.21384526769731,
              40.86304954943669
             ],
             [
              -124.16639190083663,
              40.86353920968574
             ],
             [
              -124.16576034508793,
              40.82751276347161
             ],
             [
              -124.2131880328652,
              40.82702372104678
             ]
            ]
           ],
           "type": "Polygon"
          },
          "id": "18",
          "properties": {
           "id": 18,
           "style": {
            "color": "#555555",
            "fillOpacity": 0.1,
            "fill_color": "#555555",
            "weight": 1
           }
          },
          "type": "Feature"
         },
         {
          "geometry": {
           "coordinates": [
            [
             [
              -124.2131880328652,
              40.82702372104678
             ],
             [
              -124.21384526769731,
              40.86304954943669
             ],
             [
              -124.16639190083663,
              40.86353920968574
             ],
             [
              -124.16576034508793,
              40.82751276347161
             ],
             [
              -124.2131880328652,
              40.82702372104678
             ]
            ]
           ],
           "type": "Polygon"
          },
          "id": "19",
          "properties": {
           "id": 19,
           "style": {
            "color": "#555555",
            "fillOpacity": 0.1,
            "fill_color": "#555555",
            "weight": 1
           }
          },
          "type": "Feature"
         },
         {
          "geometry": {
           "coordinates": [
            [
             [
              -124.2131880328652,
              40.82702372104678
             ],
             [
              -124.21384526769731,
              40.86304954943669
             ],
             [
              -124.16639190083663,
              40.86353920968574
             ],
             [
              -124.16576034508793,
              40.82751276347161
             ],
             [
              -124.2131880328652,
              40.82702372104678
             ]
            ]
           ],
           "type": "Polygon"
          },
          "id": "20",
          "properties": {
           "id": 20,
           "style": {
            "color": "#555555",
            "fillOpacity": 0.1,
            "fill_color": "#555555",
            "weight": 1
           }
          },
          "type": "Feature"
         },
         {
          "geometry": {
           "coordinates": [
            [
             [
              -124.16576034508793,
              40.82751276347161
             ],
             [
              -124.16639190083663,
              40.86353920968574
             ],
             [
              -124.11893738946702,
              40.86400935270878
             ],
             [
              -124.11833151515256,
              40.82798231328761
             ],
             [
              -124.16576034508793,
              40.82751276347161
             ]
            ]
           ],
           "type": "Polygon"
          },
          "id": "21",
          "properties": {
           "id": 21,
           "style": {
            "color": "#555555",
            "fillOpacity": 0.1,
            "fill_color": "#555555",
            "weight": 1
           }
          },
          "type": "Feature"
         },
         {
          "geometry": {
           "coordinates": [
            [
             [
              -124.16639190083663,
              40.86353920968574
             ],
             [
              -124.16702460109545,
              40.899565422078155
             ],
             [
              -124.11954436177322,
              40.900036158943706
             ],
             [
              -124.11893738946702,
              40.86400935270878
             ],
             [
              -124.16639190083663,
              40.86353920968574
             ]
            ]
           ],
           "type": "Polygon"
          },
          "id": "22",
          "properties": {
           "id": 22,
           "style": {
            "color": "#555555",
            "fillOpacity": 0.1,
            "fill_color": "#555555",
            "weight": 1
           }
          },
          "type": "Feature"
         },
         {
          "geometry": {
           "coordinates": [
            [
             [
              -124.2131880328652,
              40.82702372104678
             ],
             [
              -124.21384526769731,
              40.86304954943669
             ],
             [
              -124.16639190083663,
              40.86353920968574
             ],
             [
              -124.16576034508793,
              40.82751276347161
             ],
             [
              -124.2131880328652,
              40.82702372104678
             ]
            ]
           ],
           "type": "Polygon"
          },
          "id": "23",
          "properties": {
           "id": 23,
           "style": {
            "color": "#555555",
            "fillOpacity": 0.1,
            "fill_color": "#555555",
            "weight": 1
           }
          },
          "type": "Feature"
         },
         {
          "geometry": {
           "coordinates": [
            [
             [
              -124.16576034508793,
              40.82751276347161
             ],
             [
              -124.16639190083663,
              40.86353920968574
             ],
             [
              -124.11893738946702,
              40.86400935270878
             ],
             [
              -124.11833151515256,
              40.82798231328761
             ],
             [
              -124.16576034508793,
              40.82751276347161
             ]
            ]
           ],
           "type": "Polygon"
          },
          "id": "24",
          "properties": {
           "id": 24,
           "style": {
            "color": "#555555",
            "fillOpacity": 0.1,
            "fill_color": "#555555",
            "weight": 1
           }
          },
          "type": "Feature"
         },
         {
          "geometry": {
           "coordinates": [
            [
             [
              -124.16639190083663,
              40.86353920968574
             ],
             [
              -124.16702460109545,
              40.899565422078155
             ],
             [
              -124.11954436177322,
              40.900036158943706
             ],
             [
              -124.11893738946702,
              40.86400935270878
             ],
             [
              -124.16639190083663,
              40.86353920968574
             ]
            ]
           ],
           "type": "Polygon"
          },
          "id": "25",
          "properties": {
           "id": 25,
           "style": {
            "color": "#555555",
            "fillOpacity": 0.1,
            "fill_color": "#555555",
            "weight": 1
           }
          },
          "type": "Feature"
         },
         {
          "geometry": {
           "coordinates": [
            [
             [
              -124.16576034508793,
              40.82751276347161
             ],
             [
              -124.16639190083663,
              40.86353920968574
             ],
             [
              -124.11893738946702,
              40.86400935270878
             ],
             [
              -124.11833151515256,
              40.82798231328761
             ],
             [
              -124.16576034508793,
              40.82751276347161
             ]
            ]
           ],
           "type": "Polygon"
          },
          "id": "26",
          "properties": {
           "id": 26,
           "style": {
            "color": "#555555",
            "fillOpacity": 0.1,
            "fill_color": "#555555",
            "weight": 1
           }
          },
          "type": "Feature"
         },
         {
          "geometry": {
           "coordinates": [
            [
             [
              -124.16576034508793,
              40.82751276347161
             ],
             [
              -124.16639190083663,
              40.86353920968574
             ],
             [
              -124.11893738946702,
              40.86400935270878
             ],
             [
              -124.11833151515256,
              40.82798231328761
             ],
             [
              -124.16576034508793,
              40.82751276347161
             ]
            ]
           ],
           "type": "Polygon"
          },
          "id": "27",
          "properties": {
           "id": 27,
           "style": {
            "color": "#555555",
            "fillOpacity": 0.1,
            "fill_color": "#555555",
            "weight": 1
           }
          },
          "type": "Feature"
         },
         {
          "geometry": {
           "coordinates": [
            [
             [
              -124.16576034508793,
              40.82751276347161
             ],
             [
              -124.16639190083663,
              40.86353920968574
             ],
             [
              -124.11893738946702,
              40.86400935270878
             ],
             [
              -124.11833151515256,
              40.82798231328761
             ],
             [
              -124.16576034508793,
              40.82751276347161
             ]
            ]
           ],
           "type": "Polygon"
          },
          "id": "28",
          "properties": {
           "id": 28,
           "style": {
            "color": "#555555",
            "fillOpacity": 0.1,
            "fill_color": "#555555",
            "weight": 1
           }
          },
          "type": "Feature"
         },
         {
          "geometry": {
           "coordinates": [
            [
             [
              -124.16576034508793,
              40.82751276347161
             ],
             [
              -124.16639190083663,
              40.86353920968574
             ],
             [
              -124.11893738946702,
              40.86400935270878
             ],
             [
              -124.11833151515256,
              40.82798231328761
             ],
             [
              -124.16576034508793,
              40.82751276347161
             ]
            ]
           ],
           "type": "Polygon"
          },
          "id": "29",
          "properties": {
           "id": 29,
           "style": {
            "color": "#555555",
            "fillOpacity": 0.1,
            "fill_color": "#555555",
            "weight": 1
           }
          },
          "type": "Feature"
         },
         {
          "geometry": {
           "coordinates": [
            [
             [
              -124.16576034508793,
              40.82751276347161
             ],
             [
              -124.16639190083663,
              40.86353920968574
             ],
             [
              -124.11893738946702,
              40.86400935270878
             ],
             [
              -124.11833151515256,
              40.82798231328761
             ],
             [
              -124.16576034508793,
              40.82751276347161
             ]
            ]
           ],
           "type": "Polygon"
          },
          "id": "30",
          "properties": {
           "id": 30,
           "style": {
            "color": "#555555",
            "fillOpacity": 0.1,
            "fill_color": "#555555",
            "weight": 1
           }
          },
          "type": "Feature"
         },
         {
          "geometry": {
           "coordinates": [
            [
             [
              -124.16576034508793,
              40.82751276347161
             ],
             [
              -124.16639190083663,
              40.86353920968574
             ],
             [
              -124.11893738946702,
              40.86400935270878
             ],
             [
              -124.11833151515256,
              40.82798231328761
             ],
             [
              -124.16576034508793,
              40.82751276347161
             ]
            ]
           ],
           "type": "Polygon"
          },
          "id": "31",
          "properties": {
           "id": 31,
           "style": {
            "color": "#555555",
            "fillOpacity": 0.1,
            "fill_color": "#555555",
            "weight": 1
           }
          },
          "type": "Feature"
         },
         {
          "geometry": {
           "coordinates": [
            [
             [
              -124.16576034508793,
              40.82751276347161
             ],
             [
              -124.16639190083663,
              40.86353920968574
             ],
             [
              -124.11893738946702,
              40.86400935270878
             ],
             [
              -124.11833151515256,
              40.82798231328761
             ],
             [
              -124.16576034508793,
              40.82751276347161
             ]
            ]
           ],
           "type": "Polygon"
          },
          "id": "32",
          "properties": {
           "id": 32,
           "style": {
            "color": "#555555",
            "fillOpacity": 0.1,
            "fill_color": "#555555",
            "weight": 1
           }
          },
          "type": "Feature"
         },
         {
          "geometry": {
           "coordinates": [
            [
             [
              -124.16576034508793,
              40.82751276347161
             ],
             [
              -124.16639190083663,
              40.86353920968574
             ],
             [
              -124.11893738946702,
              40.86400935270878
             ],
             [
              -124.11833151515256,
              40.82798231328761
             ],
             [
              -124.16576034508793,
              40.82751276347161
             ]
            ]
           ],
           "type": "Polygon"
          },
          "id": "33",
          "properties": {
           "id": 33,
           "style": {
            "color": "#555555",
            "fillOpacity": 0.1,
            "fill_color": "#555555",
            "weight": 1
           }
          },
          "type": "Feature"
         },
         {
          "geometry": {
           "coordinates": [
            [
             [
              -124.16576034508793,
              40.82751276347161
             ],
             [
              -124.16639190083663,
              40.86353920968574
             ],
             [
              -124.11893738946702,
              40.86400935270878
             ],
             [
              -124.11833151515256,
              40.82798231328761
             ],
             [
              -124.16576034508793,
              40.82751276347161
             ]
            ]
           ],
           "type": "Polygon"
          },
          "id": "34",
          "properties": {
           "id": 34,
           "style": {
            "color": "#555555",
            "fillOpacity": 0.1,
            "fill_color": "#555555",
            "weight": 1
           }
          },
          "type": "Feature"
         },
         {
          "geometry": {
           "coordinates": [
            [
             [
              -124.16576034508793,
              40.82751276347161
             ],
             [
              -124.16639190083663,
              40.86353920968574
             ],
             [
              -124.11893738946702,
              40.86400935270878
             ],
             [
              -124.11833151515256,
              40.82798231328761
             ],
             [
              -124.16576034508793,
              40.82751276347161
             ]
            ]
           ],
           "type": "Polygon"
          },
          "id": "35",
          "properties": {
           "id": 35,
           "style": {
            "color": "#555555",
            "fillOpacity": 0.1,
            "fill_color": "#555555",
            "weight": 1
           }
          },
          "type": "Feature"
         },
         {
          "geometry": {
           "coordinates": [
            [
             [
              -124.16576034508793,
              40.82751276347161
             ],
             [
              -124.16639190083663,
              40.86353920968574
             ],
             [
              -124.11893738946702,
              40.86400935270878
             ],
             [
              -124.11833151515256,
              40.82798231328761
             ],
             [
              -124.16576034508793,
              40.82751276347161
             ]
            ]
           ],
           "type": "Polygon"
          },
          "id": "36",
          "properties": {
           "id": 36,
           "style": {
            "color": "#555555",
            "fillOpacity": 0.1,
            "fill_color": "#555555",
            "weight": 1
           }
          },
          "type": "Feature"
         },
         {
          "geometry": {
           "coordinates": [
            [
             [
              -124.16576034508793,
              40.82751276347161
             ],
             [
              -124.16639190083663,
              40.86353920968574
             ],
             [
              -124.11893738946702,
              40.86400935270878
             ],
             [
              -124.11833151515256,
              40.82798231328761
             ],
             [
              -124.16576034508793,
              40.82751276347161
             ]
            ]
           ],
           "type": "Polygon"
          },
          "id": "37",
          "properties": {
           "id": 37,
           "style": {
            "color": "#555555",
            "fillOpacity": 0.1,
            "fill_color": "#555555",
            "weight": 1
           }
          },
          "type": "Feature"
         },
         {
          "geometry": {
           "coordinates": [
            [
             [
              -124.16576034508793,
              40.82751276347161
             ],
             [
              -124.16639190083663,
              40.86353920968574
             ],
             [
              -124.11893738946702,
              40.86400935270878
             ],
             [
              -124.11833151515256,
              40.82798231328761
             ],
             [
              -124.16576034508793,
              40.82751276347161
             ]
            ]
           ],
           "type": "Polygon"
          },
          "id": "38",
          "properties": {
           "id": 38,
           "style": {
            "color": "#555555",
            "fillOpacity": 0.1,
            "fill_color": "#555555",
            "weight": 1
           }
          },
          "type": "Feature"
         },
         {
          "geometry": {
           "coordinates": [
            [
             [
              -124.16576034508793,
              40.82751276347161
             ],
             [
              -124.16639190083663,
              40.86353920968574
             ],
             [
              -124.11893738946702,
              40.86400935270878
             ],
             [
              -124.11833151515256,
              40.82798231328761
             ],
             [
              -124.16576034508793,
              40.82751276347161
             ]
            ]
           ],
           "type": "Polygon"
          },
          "id": "39",
          "properties": {
           "id": 39,
           "style": {
            "color": "#555555",
            "fillOpacity": 0.1,
            "fill_color": "#555555",
            "weight": 1
           }
          },
          "type": "Feature"
         },
         {
          "geometry": {
           "coordinates": [
            [
             [
              -124.16576034508793,
              40.82751276347161
             ],
             [
              -124.16639190083663,
              40.86353920968574
             ],
             [
              -124.11893738946702,
              40.86400935270878
             ],
             [
              -124.11833151515256,
              40.82798231328761
             ],
             [
              -124.16576034508793,
              40.82751276347161
             ]
            ]
           ],
           "type": "Polygon"
          },
          "id": "40",
          "properties": {
           "id": 40,
           "style": {
            "color": "#555555",
            "fillOpacity": 0.1,
            "fill_color": "#555555",
            "weight": 1
           }
          },
          "type": "Feature"
         },
         {
          "geometry": {
           "coordinates": [
            [
             [
              -124.16576034508793,
              40.82751276347161
             ],
             [
              -124.16639190083663,
              40.86353920968574
             ],
             [
              -124.11893738946702,
              40.86400935270878
             ],
             [
              -124.11833151515256,
              40.82798231328761
             ],
             [
              -124.16576034508793,
              40.82751276347161
             ]
            ]
           ],
           "type": "Polygon"
          },
          "id": "41",
          "properties": {
           "id": 41,
           "style": {
            "color": "#555555",
            "fillOpacity": 0.1,
            "fill_color": "#555555",
            "weight": 1
           }
          },
          "type": "Feature"
         },
         {
          "geometry": {
           "coordinates": [
            [
             [
              -124.16576034508793,
              40.82751276347161
             ],
             [
              -124.16639190083663,
              40.86353920968574
             ],
             [
              -124.11893738946702,
              40.86400935270878
             ],
             [
              -124.11833151515256,
              40.82798231328761
             ],
             [
              -124.16576034508793,
              40.82751276347161
             ]
            ]
           ],
           "type": "Polygon"
          },
          "id": "42",
          "properties": {
           "id": 42,
           "style": {
            "color": "#555555",
            "fillOpacity": 0.1,
            "fill_color": "#555555",
            "weight": 1
           }
          },
          "type": "Feature"
         },
         {
          "geometry": {
           "coordinates": [
            [
             [
              -124.16576034508793,
              40.82751276347161
             ],
             [
              -124.16639190083663,
              40.86353920968574
             ],
             [
              -124.11893738946702,
              40.86400935270878
             ],
             [
              -124.11833151515256,
              40.82798231328761
             ],
             [
              -124.16576034508793,
              40.82751276347161
             ]
            ]
           ],
           "type": "Polygon"
          },
          "id": "43",
          "properties": {
           "id": 43,
           "style": {
            "color": "#555555",
            "fillOpacity": 0.1,
            "fill_color": "#555555",
            "weight": 1
           }
          },
          "type": "Feature"
         },
         {
          "geometry": {
           "coordinates": [
            [
             [
              -124.16576034508793,
              40.82751276347161
             ],
             [
              -124.16639190083663,
              40.86353920968574
             ],
             [
              -124.11893738946702,
              40.86400935270878
             ],
             [
              -124.11833151515256,
              40.82798231328761
             ],
             [
              -124.16576034508793,
              40.82751276347161
             ]
            ]
           ],
           "type": "Polygon"
          },
          "id": "44",
          "properties": {
           "id": 44,
           "style": {
            "color": "#555555",
            "fillOpacity": 0.1,
            "fill_color": "#555555",
            "weight": 1
           }
          },
          "type": "Feature"
         },
         {
          "geometry": {
           "coordinates": [
            [
             [
              -124.16576034508793,
              40.82751276347161
             ],
             [
              -124.16639190083663,
              40.86353920968574
             ],
             [
              -124.11893738946702,
              40.86400935270878
             ],
             [
              -124.11833151515256,
              40.82798231328761
             ],
             [
              -124.16576034508793,
              40.82751276347161
             ]
            ]
           ],
           "type": "Polygon"
          },
          "id": "45",
          "properties": {
           "id": 45,
           "style": {
            "color": "#555555",
            "fillOpacity": 0.1,
            "fill_color": "#555555",
            "weight": 1
           }
          },
          "type": "Feature"
         },
         {
          "geometry": {
           "coordinates": [
            [
             [
              -124.16576034508793,
              40.82751276347161
             ],
             [
              -124.16639190083663,
              40.86353920968574
             ],
             [
              -124.11893738946702,
              40.86400935270878
             ],
             [
              -124.11833151515256,
              40.82798231328761
             ],
             [
              -124.16576034508793,
              40.82751276347161
             ]
            ]
           ],
           "type": "Polygon"
          },
          "id": "46",
          "properties": {
           "id": 46,
           "style": {
            "color": "#555555",
            "fillOpacity": 0.1,
            "fill_color": "#555555",
            "weight": 1
           }
          },
          "type": "Feature"
         },
         {
          "geometry": {
           "coordinates": [
            [
             [
              -124.16576034508793,
              40.82751276347161
             ],
             [
              -124.16639190083663,
              40.86353920968574
             ],
             [
              -124.11893738946702,
              40.86400935270878
             ],
             [
              -124.11833151515256,
              40.82798231328761
             ],
             [
              -124.16576034508793,
              40.82751276347161
             ]
            ]
           ],
           "type": "Polygon"
          },
          "id": "47",
          "properties": {
           "id": 47,
           "style": {
            "color": "#555555",
            "fillOpacity": 0.1,
            "fill_color": "#555555",
            "weight": 1
           }
          },
          "type": "Feature"
         },
         {
          "geometry": {
           "coordinates": [
            [
             [
              -124.16576034508793,
              40.82751276347161
             ],
             [
              -124.16639190083663,
              40.86353920968574
             ],
             [
              -124.11893738946702,
              40.86400935270878
             ],
             [
              -124.11833151515256,
              40.82798231328761
             ],
             [
              -124.16576034508793,
              40.82751276347161
             ]
            ]
           ],
           "type": "Polygon"
          },
          "id": "48",
          "properties": {
           "id": 48,
           "style": {
            "color": "#555555",
            "fillOpacity": 0.1,
            "fill_color": "#555555",
            "weight": 1
           }
          },
          "type": "Feature"
         },
         {
          "geometry": {
           "coordinates": [
            [
             [
              -124.16576034508793,
              40.82751276347161
             ],
             [
              -124.16639190083663,
              40.86353920968574
             ],
             [
              -124.11893738946702,
              40.86400935270878
             ],
             [
              -124.11833151515256,
              40.82798231328761
             ],
             [
              -124.16576034508793,
              40.82751276347161
             ]
            ]
           ],
           "type": "Polygon"
          },
          "id": "49",
          "properties": {
           "id": 49,
           "style": {
            "color": "#555555",
            "fillOpacity": 0.1,
            "fill_color": "#555555",
            "weight": 1
           }
          },
          "type": "Feature"
         },
         {
          "geometry": {
           "coordinates": [
            [
             [
              -124.16576034508793,
              40.82751276347161
             ],
             [
              -124.16639190083663,
              40.86353920968574
             ],
             [
              -124.11893738946702,
              40.86400935270878
             ],
             [
              -124.11833151515256,
              40.82798231328761
             ],
             [
              -124.16576034508793,
              40.82751276347161
             ]
            ]
           ],
           "type": "Polygon"
          },
          "id": "50",
          "properties": {
           "id": 50,
           "style": {
            "color": "#555555",
            "fillOpacity": 0.1,
            "fill_color": "#555555",
            "weight": 1
           }
          },
          "type": "Feature"
         },
         {
          "geometry": {
           "coordinates": [
            [
             [
              -124.16576034508793,
              40.82751276347161
             ],
             [
              -124.16639190083663,
              40.86353920968574
             ],
             [
              -124.11893738946702,
              40.86400935270878
             ],
             [
              -124.11833151515256,
              40.82798231328761
             ],
             [
              -124.16576034508793,
              40.82751276347161
             ]
            ]
           ],
           "type": "Polygon"
          },
          "id": "51",
          "properties": {
           "id": 51,
           "style": {
            "color": "#555555",
            "fillOpacity": 0.1,
            "fill_color": "#555555",
            "weight": 1
           }
          },
          "type": "Feature"
         },
         {
          "geometry": {
           "coordinates": [
            [
             [
              -124.16576034508793,
              40.82751276347161
             ],
             [
              -124.16639190083663,
              40.86353920968574
             ],
             [
              -124.11893738946702,
              40.86400935270878
             ],
             [
              -124.11833151515256,
              40.82798231328761
             ],
             [
              -124.16576034508793,
              40.82751276347161
             ]
            ]
           ],
           "type": "Polygon"
          },
          "id": "52",
          "properties": {
           "id": 52,
           "style": {
            "color": "#555555",
            "fillOpacity": 0.1,
            "fill_color": "#555555",
            "weight": 1
           }
          },
          "type": "Feature"
         },
         {
          "geometry": {
           "coordinates": [
            [
             [
              -124.16576034508793,
              40.82751276347161
             ],
             [
              -124.16639190083663,
              40.86353920968574
             ],
             [
              -124.11893738946702,
              40.86400935270878
             ],
             [
              -124.11833151515256,
              40.82798231328761
             ],
             [
              -124.16576034508793,
              40.82751276347161
             ]
            ]
           ],
           "type": "Polygon"
          },
          "id": "53",
          "properties": {
           "id": 53,
           "style": {
            "color": "#555555",
            "fillOpacity": 0.1,
            "fill_color": "#555555",
            "weight": 1
           }
          },
          "type": "Feature"
         },
         {
          "geometry": {
           "coordinates": [
            [
             [
              -124.16576034508793,
              40.82751276347161
             ],
             [
              -124.16639190083663,
              40.86353920968574
             ],
             [
              -124.11893738946702,
              40.86400935270878
             ],
             [
              -124.11833151515256,
              40.82798231328761
             ],
             [
              -124.16576034508793,
              40.82751276347161
             ]
            ]
           ],
           "type": "Polygon"
          },
          "id": "54",
          "properties": {
           "id": 54,
           "style": {
            "color": "#555555",
            "fillOpacity": 0.1,
            "fill_color": "#555555",
            "weight": 1
           }
          },
          "type": "Feature"
         },
         {
          "geometry": {
           "coordinates": [
            [
             [
              -124.16576034508793,
              40.82751276347161
             ],
             [
              -124.16639190083663,
              40.86353920968574
             ],
             [
              -124.11893738946702,
              40.86400935270878
             ],
             [
              -124.11833151515256,
              40.82798231328761
             ],
             [
              -124.16576034508793,
              40.82751276347161
             ]
            ]
           ],
           "type": "Polygon"
          },
          "id": "55",
          "properties": {
           "id": 55,
           "style": {
            "color": "#555555",
            "fillOpacity": 0.1,
            "fill_color": "#555555",
            "weight": 1
           }
          },
          "type": "Feature"
         },
         {
          "geometry": {
           "coordinates": [
            [
             [
              -124.16576034508793,
              40.82751276347161
             ],
             [
              -124.16639190083663,
              40.86353920968574
             ],
             [
              -124.11893738946702,
              40.86400935270878
             ],
             [
              -124.11833151515256,
              40.82798231328761
             ],
             [
              -124.16576034508793,
              40.82751276347161
             ]
            ]
           ],
           "type": "Polygon"
          },
          "id": "56",
          "properties": {
           "id": 56,
           "style": {
            "color": "#555555",
            "fillOpacity": 0.1,
            "fill_color": "#555555",
            "weight": 1
           }
          },
          "type": "Feature"
         },
         {
          "geometry": {
           "coordinates": [
            [
             [
              -124.16576034508793,
              40.82751276347161
             ],
             [
              -124.16639190083663,
              40.86353920968574
             ],
             [
              -124.11893738946702,
              40.86400935270878
             ],
             [
              -124.11833151515256,
              40.82798231328761
             ],
             [
              -124.16576034508793,
              40.82751276347161
             ]
            ]
           ],
           "type": "Polygon"
          },
          "id": "57",
          "properties": {
           "id": 57,
           "style": {
            "color": "#555555",
            "fillOpacity": 0.1,
            "fill_color": "#555555",
            "weight": 1
           }
          },
          "type": "Feature"
         },
         {
          "geometry": {
           "coordinates": [
            [
             [
              -124.16576034508793,
              40.82751276347161
             ],
             [
              -124.16639190083663,
              40.86353920968574
             ],
             [
              -124.11893738946702,
              40.86400935270878
             ],
             [
              -124.11833151515256,
              40.82798231328761
             ],
             [
              -124.16576034508793,
              40.82751276347161
             ]
            ]
           ],
           "type": "Polygon"
          },
          "id": "58",
          "properties": {
           "id": 58,
           "style": {
            "color": "#555555",
            "fillOpacity": 0.1,
            "fill_color": "#555555",
            "weight": 1
           }
          },
          "type": "Feature"
         },
         {
          "geometry": {
           "coordinates": [
            [
             [
              -124.16576034508793,
              40.82751276347161
             ],
             [
              -124.16639190083663,
              40.86353920968574
             ],
             [
              -124.11893738946702,
              40.86400935270878
             ],
             [
              -124.11833151515256,
              40.82798231328761
             ],
             [
              -124.16576034508793,
              40.82751276347161
             ]
            ]
           ],
           "type": "Polygon"
          },
          "id": "59",
          "properties": {
           "id": 59,
           "style": {
            "color": "#555555",
            "fillOpacity": 0.1,
            "fill_color": "#555555",
            "weight": 1
           }
          },
          "type": "Feature"
         },
         {
          "geometry": {
           "coordinates": [
            [
             [
              -124.16576034508793,
              40.82751276347161
             ],
             [
              -124.16639190083663,
              40.86353920968574
             ],
             [
              -124.11893738946702,
              40.86400935270878
             ],
             [
              -124.11833151515256,
              40.82798231328761
             ],
             [
              -124.16576034508793,
              40.82751276347161
             ]
            ]
           ],
           "type": "Polygon"
          },
          "id": "60",
          "properties": {
           "id": 60,
           "style": {
            "color": "#555555",
            "fillOpacity": 0.1,
            "fill_color": "#555555",
            "weight": 1
           }
          },
          "type": "Feature"
         },
         {
          "geometry": {
           "coordinates": [
            [
             [
              -124.16639190083663,
              40.86353920968574
             ],
             [
              -124.16702460109545,
              40.899565422078155
             ],
             [
              -124.11954436177322,
              40.900036158943706
             ],
             [
              -124.11893738946702,
              40.86400935270878
             ],
             [
              -124.16639190083663,
              40.86353920968574
             ]
            ]
           ],
           "type": "Polygon"
          },
          "id": "61",
          "properties": {
           "id": 61,
           "style": {
            "color": "#555555",
            "fillOpacity": 0.1,
            "fill_color": "#555555",
            "weight": 1
           }
          },
          "type": "Feature"
         },
         {
          "geometry": {
           "coordinates": [
            [
             [
              -124.16576034508793,
              40.82751276347161
             ],
             [
              -124.16639190083663,
              40.86353920968574
             ],
             [
              -124.11893738946702,
              40.86400935270878
             ],
             [
              -124.11833151515256,
              40.82798231328761
             ],
             [
              -124.16576034508793,
              40.82751276347161
             ]
            ]
           ],
           "type": "Polygon"
          },
          "id": "62",
          "properties": {
           "id": 62,
           "style": {
            "color": "#555555",
            "fillOpacity": 0.1,
            "fill_color": "#555555",
            "weight": 1
           }
          },
          "type": "Feature"
         },
         {
          "geometry": {
           "coordinates": [
            [
             [
              -124.16639190083663,
              40.86353920968574
             ],
             [
              -124.16702460109545,
              40.899565422078155
             ],
             [
              -124.11954436177322,
              40.900036158943706
             ],
             [
              -124.11893738946702,
              40.86400935270878
             ],
             [
              -124.16639190083663,
              40.86353920968574
             ]
            ]
           ],
           "type": "Polygon"
          },
          "id": "63",
          "properties": {
           "id": 63,
           "style": {
            "color": "#555555",
            "fillOpacity": 0.1,
            "fill_color": "#555555",
            "weight": 1
           }
          },
          "type": "Feature"
         },
         {
          "geometry": {
           "coordinates": [
            [
             [
              -124.16576034508793,
              40.82751276347161
             ],
             [
              -124.16639190083663,
              40.86353920968574
             ],
             [
              -124.11893738946702,
              40.86400935270878
             ],
             [
              -124.11833151515256,
              40.82798231328761
             ],
             [
              -124.16576034508793,
              40.82751276347161
             ]
            ]
           ],
           "type": "Polygon"
          },
          "id": "64",
          "properties": {
           "id": 64,
           "style": {
            "color": "#555555",
            "fillOpacity": 0.1,
            "fill_color": "#555555",
            "weight": 1
           }
          },
          "type": "Feature"
         },
         {
          "geometry": {
           "coordinates": [
            [
             [
              -124.16639190083663,
              40.86353920968574
             ],
             [
              -124.16702460109545,
              40.899565422078155
             ],
             [
              -124.11954436177322,
              40.900036158943706
             ],
             [
              -124.11893738946702,
              40.86400935270878
             ],
             [
              -124.16639190083663,
              40.86353920968574
             ]
            ]
           ],
           "type": "Polygon"
          },
          "id": "65",
          "properties": {
           "id": 65,
           "style": {
            "color": "#555555",
            "fillOpacity": 0.1,
            "fill_color": "#555555",
            "weight": 1
           }
          },
          "type": "Feature"
         },
         {
          "geometry": {
           "coordinates": [
            [
             [
              -124.16576034508793,
              40.82751276347161
             ],
             [
              -124.16639190083663,
              40.86353920968574
             ],
             [
              -124.11893738946702,
              40.86400935270878
             ],
             [
              -124.11833151515256,
              40.82798231328761
             ],
             [
              -124.16576034508793,
              40.82751276347161
             ]
            ]
           ],
           "type": "Polygon"
          },
          "id": "66",
          "properties": {
           "id": 66,
           "style": {
            "color": "#555555",
            "fillOpacity": 0.1,
            "fill_color": "#555555",
            "weight": 1
           }
          },
          "type": "Feature"
         },
         {
          "geometry": {
           "coordinates": [
            [
             [
              -124.16639190083663,
              40.86353920968574
             ],
             [
              -124.16702460109545,
              40.899565422078155
             ],
             [
              -124.11954436177322,
              40.900036158943706
             ],
             [
              -124.11893738946702,
              40.86400935270878
             ],
             [
              -124.16639190083663,
              40.86353920968574
             ]
            ]
           ],
           "type": "Polygon"
          },
          "id": "67",
          "properties": {
           "id": 67,
           "style": {
            "color": "#555555",
            "fillOpacity": 0.1,
            "fill_color": "#555555",
            "weight": 1
           }
          },
          "type": "Feature"
         },
         {
          "geometry": {
           "coordinates": [
            [
             [
              -124.16639190083663,
              40.86353920968574
             ],
             [
              -124.16702460109545,
              40.899565422078155
             ],
             [
              -124.11954436177322,
              40.900036158943706
             ],
             [
              -124.11893738946702,
              40.86400935270878
             ],
             [
              -124.16639190083663,
              40.86353920968574
             ]
            ]
           ],
           "type": "Polygon"
          },
          "id": "68",
          "properties": {
           "id": 68,
           "style": {
            "color": "#555555",
            "fillOpacity": 0.1,
            "fill_color": "#555555",
            "weight": 1
           }
          },
          "type": "Feature"
         },
         {
          "geometry": {
           "coordinates": [
            [
             [
              -124.16639190083663,
              40.86353920968574
             ],
             [
              -124.16702460109545,
              40.899565422078155
             ],
             [
              -124.11954436177322,
              40.900036158943706
             ],
             [
              -124.11893738946702,
              40.86400935270878
             ],
             [
              -124.16639190083663,
              40.86353920968574
             ]
            ]
           ],
           "type": "Polygon"
          },
          "id": "69",
          "properties": {
           "id": 69,
           "style": {
            "color": "#555555",
            "fillOpacity": 0.1,
            "fill_color": "#555555",
            "weight": 1
           }
          },
          "type": "Feature"
         },
         {
          "geometry": {
           "coordinates": [
            [
             [
              -124.16639190083663,
              40.86353920968574
             ],
             [
              -124.16702460109545,
              40.899565422078155
             ],
             [
              -124.11954436177322,
              40.900036158943706
             ],
             [
              -124.11893738946702,
              40.86400935270878
             ],
             [
              -124.16639190083663,
              40.86353920968574
             ]
            ]
           ],
           "type": "Polygon"
          },
          "id": "70",
          "properties": {
           "id": 70,
           "style": {
            "color": "#555555",
            "fillOpacity": 0.1,
            "fill_color": "#555555",
            "weight": 1
           }
          },
          "type": "Feature"
         },
         {
          "geometry": {
           "coordinates": [
            [
             [
              -124.16639190083663,
              40.86353920968574
             ],
             [
              -124.16702460109545,
              40.899565422078155
             ],
             [
              -124.11954436177322,
              40.900036158943706
             ],
             [
              -124.11893738946702,
              40.86400935270878
             ],
             [
              -124.16639190083663,
              40.86353920968574
             ]
            ]
           ],
           "type": "Polygon"
          },
          "id": "71",
          "properties": {
           "id": 71,
           "style": {
            "color": "#555555",
            "fillOpacity": 0.1,
            "fill_color": "#555555",
            "weight": 1
           }
          },
          "type": "Feature"
         },
         {
          "geometry": {
           "coordinates": [
            [
             [
              -124.16639190083663,
              40.86353920968574
             ],
             [
              -124.16702460109545,
              40.899565422078155
             ],
             [
              -124.11954436177322,
              40.900036158943706
             ],
             [
              -124.11893738946702,
              40.86400935270878
             ],
             [
              -124.16639190083663,
              40.86353920968574
             ]
            ]
           ],
           "type": "Polygon"
          },
          "id": "72",
          "properties": {
           "id": 72,
           "style": {
            "color": "#555555",
            "fillOpacity": 0.1,
            "fill_color": "#555555",
            "weight": 1
           }
          },
          "type": "Feature"
         },
         {
          "geometry": {
           "coordinates": [
            [
             [
              -124.16639190083663,
              40.86353920968574
             ],
             [
              -124.16702460109545,
              40.899565422078155
             ],
             [
              -124.11954436177322,
              40.900036158943706
             ],
             [
              -124.11893738946702,
              40.86400935270878
             ],
             [
              -124.16639190083663,
              40.86353920968574
             ]
            ]
           ],
           "type": "Polygon"
          },
          "id": "73",
          "properties": {
           "id": 73,
           "style": {
            "color": "#555555",
            "fillOpacity": 0.1,
            "fill_color": "#555555",
            "weight": 1
           }
          },
          "type": "Feature"
         },
         {
          "geometry": {
           "coordinates": [
            [
             [
              -124.16639190083663,
              40.86353920968574
             ],
             [
              -124.16702460109545,
              40.899565422078155
             ],
             [
              -124.11954436177322,
              40.900036158943706
             ],
             [
              -124.11893738946702,
              40.86400935270878
             ],
             [
              -124.16639190083663,
              40.86353920968574
             ]
            ]
           ],
           "type": "Polygon"
          },
          "id": "74",
          "properties": {
           "id": 74,
           "style": {
            "color": "#555555",
            "fillOpacity": 0.1,
            "fill_color": "#555555",
            "weight": 1
           }
          },
          "type": "Feature"
         },
         {
          "geometry": {
           "coordinates": [
            [
             [
              -124.16639190083663,
              40.86353920968574
             ],
             [
              -124.16702460109545,
              40.899565422078155
             ],
             [
              -124.11954436177322,
              40.900036158943706
             ],
             [
              -124.11893738946702,
              40.86400935270878
             ],
             [
              -124.16639190083663,
              40.86353920968574
             ]
            ]
           ],
           "type": "Polygon"
          },
          "id": "75",
          "properties": {
           "id": 75,
           "style": {
            "color": "#555555",
            "fillOpacity": 0.1,
            "fill_color": "#555555",
            "weight": 1
           }
          },
          "type": "Feature"
         },
         {
          "geometry": {
           "coordinates": [
            [
             [
              -124.16639190083663,
              40.86353920968574
             ],
             [
              -124.16702460109545,
              40.899565422078155
             ],
             [
              -124.11954436177322,
              40.900036158943706
             ],
             [
              -124.11893738946702,
              40.86400935270878
             ],
             [
              -124.16639190083663,
              40.86353920968574
             ]
            ]
           ],
           "type": "Polygon"
          },
          "id": "76",
          "properties": {
           "id": 76,
           "style": {
            "color": "#555555",
            "fillOpacity": 0.1,
            "fill_color": "#555555",
            "weight": 1
           }
          },
          "type": "Feature"
         },
         {
          "geometry": {
           "coordinates": [
            [
             [
              -124.16639190083663,
              40.86353920968574
             ],
             [
              -124.16702460109545,
              40.899565422078155
             ],
             [
              -124.11954436177322,
              40.900036158943706
             ],
             [
              -124.11893738946702,
              40.86400935270878
             ],
             [
              -124.16639190083663,
              40.86353920968574
             ]
            ]
           ],
           "type": "Polygon"
          },
          "id": "77",
          "properties": {
           "id": 77,
           "style": {
            "color": "#555555",
            "fillOpacity": 0.1,
            "fill_color": "#555555",
            "weight": 1
           }
          },
          "type": "Feature"
         },
         {
          "geometry": {
           "coordinates": [
            [
             [
              -124.16639190083663,
              40.86353920968574
             ],
             [
              -124.16702460109545,
              40.899565422078155
             ],
             [
              -124.11954436177322,
              40.900036158943706
             ],
             [
              -124.11893738946702,
              40.86400935270878
             ],
             [
              -124.16639190083663,
              40.86353920968574
             ]
            ]
           ],
           "type": "Polygon"
          },
          "id": "78",
          "properties": {
           "id": 78,
           "style": {
            "color": "#555555",
            "fillOpacity": 0.1,
            "fill_color": "#555555",
            "weight": 1
           }
          },
          "type": "Feature"
         },
         {
          "geometry": {
           "coordinates": [
            [
             [
              -124.16639190083663,
              40.86353920968574
             ],
             [
              -124.16702460109545,
              40.899565422078155
             ],
             [
              -124.11954436177322,
              40.900036158943706
             ],
             [
              -124.11893738946702,
              40.86400935270878
             ],
             [
              -124.16639190083663,
              40.86353920968574
             ]
            ]
           ],
           "type": "Polygon"
          },
          "id": "79",
          "properties": {
           "id": 79,
           "style": {
            "color": "#555555",
            "fillOpacity": 0.1,
            "fill_color": "#555555",
            "weight": 1
           }
          },
          "type": "Feature"
         },
         {
          "geometry": {
           "coordinates": [
            [
             [
              -124.16639190083663,
              40.86353920968574
             ],
             [
              -124.16702460109545,
              40.899565422078155
             ],
             [
              -124.11954436177322,
              40.900036158943706
             ],
             [
              -124.11893738946702,
              40.86400935270878
             ],
             [
              -124.16639190083663,
              40.86353920968574
             ]
            ]
           ],
           "type": "Polygon"
          },
          "id": "80",
          "properties": {
           "id": 80,
           "style": {
            "color": "#555555",
            "fillOpacity": 0.1,
            "fill_color": "#555555",
            "weight": 1
           }
          },
          "type": "Feature"
         },
         {
          "geometry": {
           "coordinates": [
            [
             [
              -124.16639190083663,
              40.86353920968574
             ],
             [
              -124.16702460109545,
              40.899565422078155
             ],
             [
              -124.11954436177322,
              40.900036158943706
             ],
             [
              -124.11893738946702,
              40.86400935270878
             ],
             [
              -124.16639190083663,
              40.86353920968574
             ]
            ]
           ],
           "type": "Polygon"
          },
          "id": "81",
          "properties": {
           "id": 81,
           "style": {
            "color": "#555555",
            "fillOpacity": 0.1,
            "fill_color": "#555555",
            "weight": 1
           }
          },
          "type": "Feature"
         },
         {
          "geometry": {
           "coordinates": [
            [
             [
              -124.16639190083663,
              40.86353920968574
             ],
             [
              -124.16702460109545,
              40.899565422078155
             ],
             [
              -124.11954436177322,
              40.900036158943706
             ],
             [
              -124.11893738946702,
              40.86400935270878
             ],
             [
              -124.16639190083663,
              40.86353920968574
             ]
            ]
           ],
           "type": "Polygon"
          },
          "id": "82",
          "properties": {
           "id": 82,
           "style": {
            "color": "#555555",
            "fillOpacity": 0.1,
            "fill_color": "#555555",
            "weight": 1
           }
          },
          "type": "Feature"
         },
         {
          "geometry": {
           "coordinates": [
            [
             [
              -124.16639190083663,
              40.86353920968574
             ],
             [
              -124.16702460109545,
              40.899565422078155
             ],
             [
              -124.11954436177322,
              40.900036158943706
             ],
             [
              -124.11893738946702,
              40.86400935270878
             ],
             [
              -124.16639190083663,
              40.86353920968574
             ]
            ]
           ],
           "type": "Polygon"
          },
          "id": "83",
          "properties": {
           "id": 83,
           "style": {
            "color": "#555555",
            "fillOpacity": 0.1,
            "fill_color": "#555555",
            "weight": 1
           }
          },
          "type": "Feature"
         },
         {
          "geometry": {
           "coordinates": [
            [
             [
              -124.2131880328652,
              40.82702372104678
             ],
             [
              -124.21376304825955,
              40.85854633371003
             ],
             [
              -124.17224422665804,
              40.858975785973804
             ],
             [
              -124.17168886947383,
              40.827452699142675
             ],
             [
              -124.2131880328652,
              40.82702372104678
             ]
            ]
           ],
           "type": "Polygon"
          },
          "id": "84",
          "properties": {
           "id": 84,
           "style": {
            "color": "#555555",
            "fillOpacity": 0.1,
            "fill_color": "#555555",
            "weight": 1
           }
          },
          "type": "Feature"
         },
         {
          "geometry": {
           "coordinates": [
            [
             [
              -124.2131880328652,
              40.82702372104678
             ],
             [
              -124.21376304825955,
              40.85854633371003
             ],
             [
              -124.17224422665804,
              40.858975785973804
             ],
             [
              -124.17168886947383,
              40.827452699142675
             ],
             [
              -124.2131880328652,
              40.82702372104678
             ]
            ]
           ],
           "type": "Polygon"
          },
          "id": "85",
          "properties": {
           "id": 85,
           "style": {
            "color": "#555555",
            "fillOpacity": 0.1,
            "fill_color": "#555555",
            "weight": 1
           }
          },
          "type": "Feature"
         },
         {
          "geometry": {
           "coordinates": [
            [
             [
              -124.2131880328652,
              40.82702372104678
             ],
             [
              -124.21376304825955,
              40.85854633371003
             ],
             [
              -124.17224422665804,
              40.858975785973804
             ],
             [
              -124.17168886947383,
              40.827452699142675
             ],
             [
              -124.2131880328652,
              40.82702372104678
             ]
            ]
           ],
           "type": "Polygon"
          },
          "id": "86",
          "properties": {
           "id": 86,
           "style": {
            "color": "#555555",
            "fillOpacity": 0.1,
            "fill_color": "#555555",
            "weight": 1
           }
          },
          "type": "Feature"
         },
         {
          "geometry": {
           "coordinates": [
            [
             [
              -124.2131880328652,
              40.82702372104678
             ],
             [
              -124.21376304825955,
              40.85854633371003
             ],
             [
              -124.17224422665804,
              40.858975785973804
             ],
             [
              -124.17168886947383,
              40.827452699142675
             ],
             [
              -124.2131880328652,
              40.82702372104678
             ]
            ]
           ],
           "type": "Polygon"
          },
          "id": "87",
          "properties": {
           "id": 87,
           "style": {
            "color": "#555555",
            "fillOpacity": 0.1,
            "fill_color": "#555555",
            "weight": 1
           }
          },
          "type": "Feature"
         },
         {
          "geometry": {
           "coordinates": [
            [
             [
              -124.2131880328652,
              40.82702372104678
             ],
             [
              -124.21376304825955,
              40.85854633371003
             ],
             [
              -124.17224422665804,
              40.858975785973804
             ],
             [
              -124.17168886947383,
              40.827452699142675
             ],
             [
              -124.2131880328652,
              40.82702372104678
             ]
            ]
           ],
           "type": "Polygon"
          },
          "id": "88",
          "properties": {
           "id": 88,
           "style": {
            "color": "#555555",
            "fillOpacity": 0.1,
            "fill_color": "#555555",
            "weight": 1
           }
          },
          "type": "Feature"
         },
         {
          "geometry": {
           "coordinates": [
            [
             [
              -124.2131880328652,
              40.82702372104678
             ],
             [
              -124.21376304825955,
              40.85854633371003
             ],
             [
              -124.17224422665804,
              40.858975785973804
             ],
             [
              -124.17168886947383,
              40.827452699142675
             ],
             [
              -124.2131880328652,
              40.82702372104678
             ]
            ]
           ],
           "type": "Polygon"
          },
          "id": "89",
          "properties": {
           "id": 89,
           "style": {
            "color": "#555555",
            "fillOpacity": 0.1,
            "fill_color": "#555555",
            "weight": 1
           }
          },
          "type": "Feature"
         },
         {
          "geometry": {
           "coordinates": [
            [
             [
              -124.2131880328652,
              40.82702372104678
             ],
             [
              -124.21376304825955,
              40.85854633371003
             ],
             [
              -124.17224422665804,
              40.858975785973804
             ],
             [
              -124.17168886947383,
              40.827452699142675
             ],
             [
              -124.2131880328652,
              40.82702372104678
             ]
            ]
           ],
           "type": "Polygon"
          },
          "id": "90",
          "properties": {
           "id": 90,
           "style": {
            "color": "#555555",
            "fillOpacity": 0.1,
            "fill_color": "#555555",
            "weight": 1
           }
          },
          "type": "Feature"
         },
         {
          "geometry": {
           "coordinates": [
            [
             [
              -124.2131880328652,
              40.82702372104678
             ],
             [
              -124.21376304825955,
              40.85854633371003
             ],
             [
              -124.17224422665804,
              40.858975785973804
             ],
             [
              -124.17168886947383,
              40.827452699142675
             ],
             [
              -124.2131880328652,
              40.82702372104678
             ]
            ]
           ],
           "type": "Polygon"
          },
          "id": "91",
          "properties": {
           "id": 91,
           "style": {
            "color": "#555555",
            "fillOpacity": 0.1,
            "fill_color": "#555555",
            "weight": 1
           }
          },
          "type": "Feature"
         },
         {
          "geometry": {
           "coordinates": [
            [
             [
              -124.2131880328652,
              40.82702372104678
             ],
             [
              -124.21376304825955,
              40.85854633371003
             ],
             [
              -124.17224422665804,
              40.858975785973804
             ],
             [
              -124.17168886947383,
              40.827452699142675
             ],
             [
              -124.2131880328652,
              40.82702372104678
             ]
            ]
           ],
           "type": "Polygon"
          },
          "id": "92",
          "properties": {
           "id": 92,
           "style": {
            "color": "#555555",
            "fillOpacity": 0.1,
            "fill_color": "#555555",
            "weight": 1
           }
          },
          "type": "Feature"
         },
         {
          "geometry": {
           "coordinates": [
            [
             [
              -124.2131880328652,
              40.82702372104678
             ],
             [
              -124.21376304825955,
              40.85854633371003
             ],
             [
              -124.17224422665804,
              40.858975785973804
             ],
             [
              -124.17168886947383,
              40.827452699142675
             ],
             [
              -124.2131880328652,
              40.82702372104678
             ]
            ]
           ],
           "type": "Polygon"
          },
          "id": "93",
          "properties": {
           "id": 93,
           "style": {
            "color": "#555555",
            "fillOpacity": 0.1,
            "fill_color": "#555555",
            "weight": 1
           }
          },
          "type": "Feature"
         },
         {
          "geometry": {
           "coordinates": [
            [
             [
              -124.2131880328652,
              40.82702372104678
             ],
             [
              -124.21376304825955,
              40.85854633371003
             ],
             [
              -124.17224422665804,
              40.858975785973804
             ],
             [
              -124.17168886947383,
              40.827452699142675
             ],
             [
              -124.2131880328652,
              40.82702372104678
             ]
            ]
           ],
           "type": "Polygon"
          },
          "id": "94",
          "properties": {
           "id": 94,
           "style": {
            "color": "#555555",
            "fillOpacity": 0.1,
            "fill_color": "#555555",
            "weight": 1
           }
          },
          "type": "Feature"
         },
         {
          "geometry": {
           "coordinates": [
            [
             [
              -124.17168886947383,
              40.827452699142675
             ],
             [
              -124.17224422665804,
              40.858975785973804
             ],
             [
              -124.13072452456662,
              40.85939029784808
             ],
             [
              -124.13018882717512,
              40.82786675333934
             ],
             [
              -124.17168886947383,
              40.827452699142675
             ]
            ]
           ],
           "type": "Polygon"
          },
          "id": "95",
          "properties": {
           "id": 95,
           "style": {
            "color": "#555555",
            "fillOpacity": 0.1,
            "fill_color": "#555555",
            "weight": 1
           }
          },
          "type": "Feature"
         },
         {
          "geometry": {
           "coordinates": [
            [
             [
              -124.2131880328652,
              40.82702372104678
             ],
             [
              -124.21376304825955,
              40.85854633371003
             ],
             [
              -124.17224422665804,
              40.858975785973804
             ],
             [
              -124.17168886947383,
              40.827452699142675
             ],
             [
              -124.2131880328652,
              40.82702372104678
             ]
            ]
           ],
           "type": "Polygon"
          },
          "id": "96",
          "properties": {
           "id": 96,
           "style": {
            "color": "#555555",
            "fillOpacity": 0.1,
            "fill_color": "#555555",
            "weight": 1
           }
          },
          "type": "Feature"
         },
         {
          "geometry": {
           "coordinates": [
            [
             [
              -124.17168886947383,
              40.827452699142675
             ],
             [
              -124.17224422665804,
              40.858975785973804
             ],
             [
              -124.13072452456662,
              40.85939029784808
             ],
             [
              -124.13018882717512,
              40.82786675333934
             ],
             [
              -124.17168886947383,
              40.827452699142675
             ]
            ]
           ],
           "type": "Polygon"
          },
          "id": "97",
          "properties": {
           "id": 97,
           "style": {
            "color": "#555555",
            "fillOpacity": 0.1,
            "fill_color": "#555555",
            "weight": 1
           }
          },
          "type": "Feature"
         },
         {
          "geometry": {
           "coordinates": [
            [
             [
              -124.17168886947383,
              40.827452699142675
             ],
             [
              -124.17224422665804,
              40.858975785973804
             ],
             [
              -124.13072452456662,
              40.85939029784808
             ],
             [
              -124.13018882717512,
              40.82786675333934
             ],
             [
              -124.17168886947383,
              40.827452699142675
             ]
            ]
           ],
           "type": "Polygon"
          },
          "id": "98",
          "properties": {
           "id": 98,
           "style": {
            "color": "#555555",
            "fillOpacity": 0.1,
            "fill_color": "#555555",
            "weight": 1
           }
          },
          "type": "Feature"
         },
         {
          "geometry": {
           "coordinates": [
            [
             [
              -124.17168886947383,
              40.827452699142675
             ],
             [
              -124.17224422665804,
              40.858975785973804
             ],
             [
              -124.13072452456662,
              40.85939029784808
             ],
             [
              -124.13018882717512,
              40.82786675333934
             ],
             [
              -124.17168886947383,
              40.827452699142675
             ]
            ]
           ],
           "type": "Polygon"
          },
          "id": "99",
          "properties": {
           "id": 99,
           "style": {
            "color": "#555555",
            "fillOpacity": 0.1,
            "fill_color": "#555555",
            "weight": 1
           }
          },
          "type": "Feature"
         },
         {
          "geometry": {
           "coordinates": [
            [
             [
              -124.17168886947383,
              40.827452699142675
             ],
             [
              -124.17224422665804,
              40.858975785973804
             ],
             [
              -124.13072452456662,
              40.85939029784808
             ],
             [
              -124.13018882717512,
              40.82786675333934
             ],
             [
              -124.17168886947383,
              40.827452699142675
             ]
            ]
           ],
           "type": "Polygon"
          },
          "id": "100",
          "properties": {
           "id": 100,
           "style": {
            "color": "#555555",
            "fillOpacity": 0.1,
            "fill_color": "#555555",
            "weight": 1
           }
          },
          "type": "Feature"
         },
         {
          "geometry": {
           "coordinates": [
            [
             [
              -124.17168886947383,
              40.827452699142675
             ],
             [
              -124.17224422665804,
              40.858975785973804
             ],
             [
              -124.13072452456662,
              40.85939029784808
             ],
             [
              -124.13018882717512,
              40.82786675333934
             ],
             [
              -124.17168886947383,
              40.827452699142675
             ]
            ]
           ],
           "type": "Polygon"
          },
          "id": "101",
          "properties": {
           "id": 101,
           "style": {
            "color": "#555555",
            "fillOpacity": 0.1,
            "fill_color": "#555555",
            "weight": 1
           }
          },
          "type": "Feature"
         },
         {
          "geometry": {
           "coordinates": [
            [
             [
              -124.17168886947383,
              40.827452699142675
             ],
             [
              -124.17224422665804,
              40.858975785973804
             ],
             [
              -124.13072452456662,
              40.85939029784808
             ],
             [
              -124.13018882717512,
              40.82786675333934
             ],
             [
              -124.17168886947383,
              40.827452699142675
             ]
            ]
           ],
           "type": "Polygon"
          },
          "id": "102",
          "properties": {
           "id": 102,
           "style": {
            "color": "#555555",
            "fillOpacity": 0.1,
            "fill_color": "#555555",
            "weight": 1
           }
          },
          "type": "Feature"
         },
         {
          "geometry": {
           "coordinates": [
            [
             [
              -124.17168886947383,
              40.827452699142675
             ],
             [
              -124.17224422665804,
              40.858975785973804
             ],
             [
              -124.13072452456662,
              40.85939029784808
             ],
             [
              -124.13018882717512,
              40.82786675333934
             ],
             [
              -124.17168886947383,
              40.827452699142675
             ]
            ]
           ],
           "type": "Polygon"
          },
          "id": "103",
          "properties": {
           "id": 103,
           "style": {
            "color": "#555555",
            "fillOpacity": 0.1,
            "fill_color": "#555555",
            "weight": 1
           }
          },
          "type": "Feature"
         },
         {
          "geometry": {
           "coordinates": [
            [
             [
              -124.17168886947383,
              40.827452699142675
             ],
             [
              -124.17224422665804,
              40.858975785973804
             ],
             [
              -124.13072452456662,
              40.85939029784808
             ],
             [
              -124.13018882717512,
              40.82786675333934
             ],
             [
              -124.17168886947383,
              40.827452699142675
             ]
            ]
           ],
           "type": "Polygon"
          },
          "id": "104",
          "properties": {
           "id": 104,
           "style": {
            "color": "#555555",
            "fillOpacity": 0.1,
            "fill_color": "#555555",
            "weight": 1
           }
          },
          "type": "Feature"
         },
         {
          "geometry": {
           "coordinates": [
            [
             [
              -124.17168886947383,
              40.827452699142675
             ],
             [
              -124.17224422665804,
              40.858975785973804
             ],
             [
              -124.13072452456662,
              40.85939029784808
             ],
             [
              -124.13018882717512,
              40.82786675333934
             ],
             [
              -124.17168886947383,
              40.827452699142675
             ]
            ]
           ],
           "type": "Polygon"
          },
          "id": "105",
          "properties": {
           "id": 105,
           "style": {
            "color": "#555555",
            "fillOpacity": 0.1,
            "fill_color": "#555555",
            "weight": 1
           }
          },
          "type": "Feature"
         },
         {
          "geometry": {
           "coordinates": [
            [
             [
              -124.17168886947383,
              40.827452699142675
             ],
             [
              -124.17224422665804,
              40.858975785973804
             ],
             [
              -124.13072452456662,
              40.85939029784808
             ],
             [
              -124.13018882717512,
              40.82786675333934
             ],
             [
              -124.17168886947383,
              40.827452699142675
             ]
            ]
           ],
           "type": "Polygon"
          },
          "id": "106",
          "properties": {
           "id": 106,
           "style": {
            "color": "#555555",
            "fillOpacity": 0.1,
            "fill_color": "#555555",
            "weight": 1
           }
          },
          "type": "Feature"
         },
         {
          "geometry": {
           "coordinates": [
            [
             [
              -124.17168886947383,
              40.827452699142675
             ],
             [
              -124.17224422665804,
              40.858975785973804
             ],
             [
              -124.13072452456662,
              40.85939029784808
             ],
             [
              -124.13018882717512,
              40.82786675333934
             ],
             [
              -124.17168886947383,
              40.827452699142675
             ]
            ]
           ],
           "type": "Polygon"
          },
          "id": "107",
          "properties": {
           "id": 107,
           "style": {
            "color": "#555555",
            "fillOpacity": 0.1,
            "fill_color": "#555555",
            "weight": 1
           }
          },
          "type": "Feature"
         },
         {
          "geometry": {
           "coordinates": [
            [
             [
              -124.17168886947383,
              40.827452699142675
             ],
             [
              -124.17224422665804,
              40.858975785973804
             ],
             [
              -124.13072452456662,
              40.85939029784808
             ],
             [
              -124.13018882717512,
              40.82786675333934
             ],
             [
              -124.17168886947383,
              40.827452699142675
             ]
            ]
           ],
           "type": "Polygon"
          },
          "id": "108",
          "properties": {
           "id": 108,
           "style": {
            "color": "#555555",
            "fillOpacity": 0.1,
            "fill_color": "#555555",
            "weight": 1
           }
          },
          "type": "Feature"
         },
         {
          "geometry": {
           "coordinates": [
            [
             [
              -124.17168886947383,
              40.827452699142675
             ],
             [
              -124.17224422665804,
              40.858975785973804
             ],
             [
              -124.13072452456662,
              40.85939029784808
             ],
             [
              -124.13018882717512,
              40.82786675333934
             ],
             [
              -124.17168886947383,
              40.827452699142675
             ]
            ]
           ],
           "type": "Polygon"
          },
          "id": "109",
          "properties": {
           "id": 109,
           "style": {
            "color": "#555555",
            "fillOpacity": 0.1,
            "fill_color": "#555555",
            "weight": 1
           }
          },
          "type": "Feature"
         },
         {
          "geometry": {
           "coordinates": [
            [
             [
              -124.17168886947383,
              40.827452699142675
             ],
             [
              -124.17224422665804,
              40.858975785973804
             ],
             [
              -124.13072452456662,
              40.85939029784808
             ],
             [
              -124.13018882717512,
              40.82786675333934
             ],
             [
              -124.17168886947383,
              40.827452699142675
             ]
            ]
           ],
           "type": "Polygon"
          },
          "id": "110",
          "properties": {
           "id": 110,
           "style": {
            "color": "#555555",
            "fillOpacity": 0.1,
            "fill_color": "#555555",
            "weight": 1
           }
          },
          "type": "Feature"
         },
         {
          "geometry": {
           "coordinates": [
            [
             [
              -124.17168886947383,
              40.827452699142675
             ],
             [
              -124.17224422665804,
              40.858975785973804
             ],
             [
              -124.13072452456662,
              40.85939029784808
             ],
             [
              -124.13018882717512,
              40.82786675333934
             ],
             [
              -124.17168886947383,
              40.827452699142675
             ]
            ]
           ],
           "type": "Polygon"
          },
          "id": "111",
          "properties": {
           "id": 111,
           "style": {
            "color": "#555555",
            "fillOpacity": 0.1,
            "fill_color": "#555555",
            "weight": 1
           }
          },
          "type": "Feature"
         },
         {
          "geometry": {
           "coordinates": [
            [
             [
              -124.17168886947383,
              40.827452699142675
             ],
             [
              -124.17224422665804,
              40.858975785973804
             ],
             [
              -124.13072452456662,
              40.85939029784808
             ],
             [
              -124.13018882717512,
              40.82786675333934
             ],
             [
              -124.17168886947383,
              40.827452699142675
             ]
            ]
           ],
           "type": "Polygon"
          },
          "id": "112",
          "properties": {
           "id": 112,
           "style": {
            "color": "#555555",
            "fillOpacity": 0.1,
            "fill_color": "#555555",
            "weight": 1
           }
          },
          "type": "Feature"
         },
         {
          "geometry": {
           "coordinates": [
            [
             [
              -124.17168886947383,
              40.827452699142675
             ],
             [
              -124.17224422665804,
              40.858975785973804
             ],
             [
              -124.13072452456662,
              40.85939029784808
             ],
             [
              -124.13018882717512,
              40.82786675333934
             ],
             [
              -124.17168886947383,
              40.827452699142675
             ]
            ]
           ],
           "type": "Polygon"
          },
          "id": "113",
          "properties": {
           "id": 113,
           "style": {
            "color": "#555555",
            "fillOpacity": 0.1,
            "fill_color": "#555555",
            "weight": 1
           }
          },
          "type": "Feature"
         },
         {
          "geometry": {
           "coordinates": [
            [
             [
              -124.17168886947383,
              40.827452699142675
             ],
             [
              -124.17224422665804,
              40.858975785973804
             ],
             [
              -124.13072452456662,
              40.85939029784808
             ],
             [
              -124.13018882717512,
              40.82786675333934
             ],
             [
              -124.17168886947383,
              40.827452699142675
             ]
            ]
           ],
           "type": "Polygon"
          },
          "id": "114",
          "properties": {
           "id": 114,
           "style": {
            "color": "#555555",
            "fillOpacity": 0.1,
            "fill_color": "#555555",
            "weight": 1
           }
          },
          "type": "Feature"
         },
         {
          "geometry": {
           "coordinates": [
            [
             [
              -124.17168886947383,
              40.827452699142675
             ],
             [
              -124.17224422665804,
              40.858975785973804
             ],
             [
              -124.13072452456662,
              40.85939029784808
             ],
             [
              -124.13018882717512,
              40.82786675333934
             ],
             [
              -124.17168886947383,
              40.827452699142675
             ]
            ]
           ],
           "type": "Polygon"
          },
          "id": "115",
          "properties": {
           "id": 115,
           "style": {
            "color": "#555555",
            "fillOpacity": 0.1,
            "fill_color": "#555555",
            "weight": 1
           }
          },
          "type": "Feature"
         },
         {
          "geometry": {
           "coordinates": [
            [
             [
              -124.17168886947383,
              40.827452699142675
             ],
             [
              -124.17224422665804,
              40.858975785973804
             ],
             [
              -124.13072452456662,
              40.85939029784808
             ],
             [
              -124.13018882717512,
              40.82786675333934
             ],
             [
              -124.17168886947383,
              40.827452699142675
             ]
            ]
           ],
           "type": "Polygon"
          },
          "id": "116",
          "properties": {
           "id": 116,
           "style": {
            "color": "#555555",
            "fillOpacity": 0.1,
            "fill_color": "#555555",
            "weight": 1
           }
          },
          "type": "Feature"
         },
         {
          "geometry": {
           "coordinates": [
            [
             [
              -124.17168886947383,
              40.827452699142675
             ],
             [
              -124.17224422665804,
              40.858975785973804
             ],
             [
              -124.13072452456662,
              40.85939029784808
             ],
             [
              -124.13018882717512,
              40.82786675333934
             ],
             [
              -124.17168886947383,
              40.827452699142675
             ]
            ]
           ],
           "type": "Polygon"
          },
          "id": "117",
          "properties": {
           "id": 117,
           "style": {
            "color": "#555555",
            "fillOpacity": 0.1,
            "fill_color": "#555555",
            "weight": 1
           }
          },
          "type": "Feature"
         },
         {
          "geometry": {
           "coordinates": [
            [
             [
              -124.17168886947383,
              40.827452699142675
             ],
             [
              -124.17224422665804,
              40.858975785973804
             ],
             [
              -124.13072452456662,
              40.85939029784808
             ],
             [
              -124.13018882717512,
              40.82786675333934
             ],
             [
              -124.17168886947383,
              40.827452699142675
             ]
            ]
           ],
           "type": "Polygon"
          },
          "id": "118",
          "properties": {
           "id": 118,
           "style": {
            "color": "#555555",
            "fillOpacity": 0.1,
            "fill_color": "#555555",
            "weight": 1
           }
          },
          "type": "Feature"
         },
         {
          "geometry": {
           "coordinates": [
            [
             [
              -124.17168886947383,
              40.827452699142675
             ],
             [
              -124.17224422665804,
              40.858975785973804
             ],
             [
              -124.13072452456662,
              40.85939029784808
             ],
             [
              -124.13018882717512,
              40.82786675333934
             ],
             [
              -124.17168886947383,
              40.827452699142675
             ]
            ]
           ],
           "type": "Polygon"
          },
          "id": "119",
          "properties": {
           "id": 119,
           "style": {
            "color": "#555555",
            "fillOpacity": 0.1,
            "fill_color": "#555555",
            "weight": 1
           }
          },
          "type": "Feature"
         },
         {
          "geometry": {
           "coordinates": [
            [
             [
              -124.17168886947383,
              40.827452699142675
             ],
             [
              -124.17224422665804,
              40.858975785973804
             ],
             [
              -124.13072452456662,
              40.85939029784808
             ],
             [
              -124.13018882717512,
              40.82786675333934
             ],
             [
              -124.17168886947383,
              40.827452699142675
             ]
            ]
           ],
           "type": "Polygon"
          },
          "id": "120",
          "properties": {
           "id": 120,
           "style": {
            "color": "#555555",
            "fillOpacity": 0.1,
            "fill_color": "#555555",
            "weight": 1
           }
          },
          "type": "Feature"
         },
         {
          "geometry": {
           "coordinates": [
            [
             [
              -124.17168886947383,
              40.827452699142675
             ],
             [
              -124.17224422665804,
              40.858975785973804
             ],
             [
              -124.13072452456662,
              40.85939029784808
             ],
             [
              -124.13018882717512,
              40.82786675333934
             ],
             [
              -124.17168886947383,
              40.827452699142675
             ]
            ]
           ],
           "type": "Polygon"
          },
          "id": "121",
          "properties": {
           "id": 121,
           "style": {
            "color": "#555555",
            "fillOpacity": 0.1,
            "fill_color": "#555555",
            "weight": 1
           }
          },
          "type": "Feature"
         },
         {
          "geometry": {
           "coordinates": [
            [
             [
              -124.17168886947383,
              40.827452699142675
             ],
             [
              -124.17224422665804,
              40.858975785973804
             ],
             [
              -124.13072452456662,
              40.85939029784808
             ],
             [
              -124.13018882717512,
              40.82786675333934
             ],
             [
              -124.17168886947383,
              40.827452699142675
             ]
            ]
           ],
           "type": "Polygon"
          },
          "id": "122",
          "properties": {
           "id": 122,
           "style": {
            "color": "#555555",
            "fillOpacity": 0.1,
            "fill_color": "#555555",
            "weight": 1
           }
          },
          "type": "Feature"
         },
         {
          "geometry": {
           "coordinates": [
            [
             [
              -124.17168886947383,
              40.827452699142675
             ],
             [
              -124.17224422665804,
              40.858975785973804
             ],
             [
              -124.13072452456662,
              40.85939029784808
             ],
             [
              -124.13018882717512,
              40.82786675333934
             ],
             [
              -124.17168886947383,
              40.827452699142675
             ]
            ]
           ],
           "type": "Polygon"
          },
          "id": "123",
          "properties": {
           "id": 123,
           "style": {
            "color": "#555555",
            "fillOpacity": 0.1,
            "fill_color": "#555555",
            "weight": 1
           }
          },
          "type": "Feature"
         },
         {
          "geometry": {
           "coordinates": [
            [
             [
              -124.17168886947383,
              40.827452699142675
             ],
             [
              -124.17224422665804,
              40.858975785973804
             ],
             [
              -124.13072452456662,
              40.85939029784808
             ],
             [
              -124.13018882717512,
              40.82786675333934
             ],
             [
              -124.17168886947383,
              40.827452699142675
             ]
            ]
           ],
           "type": "Polygon"
          },
          "id": "124",
          "properties": {
           "id": 124,
           "style": {
            "color": "#555555",
            "fillOpacity": 0.1,
            "fill_color": "#555555",
            "weight": 1
           }
          },
          "type": "Feature"
         },
         {
          "geometry": {
           "coordinates": [
            [
             [
              -124.17168886947383,
              40.827452699142675
             ],
             [
              -124.17224422665804,
              40.858975785973804
             ],
             [
              -124.13072452456662,
              40.85939029784808
             ],
             [
              -124.13018882717512,
              40.82786675333934
             ],
             [
              -124.17168886947383,
              40.827452699142675
             ]
            ]
           ],
           "type": "Polygon"
          },
          "id": "125",
          "properties": {
           "id": 125,
           "style": {
            "color": "#555555",
            "fillOpacity": 0.1,
            "fill_color": "#555555",
            "weight": 1
           }
          },
          "type": "Feature"
         },
         {
          "geometry": {
           "coordinates": [
            [
             [
              -124.17168886947383,
              40.827452699142675
             ],
             [
              -124.17224422665804,
              40.858975785973804
             ],
             [
              -124.13072452456662,
              40.85939029784808
             ],
             [
              -124.13018882717512,
              40.82786675333934
             ],
             [
              -124.17168886947383,
              40.827452699142675
             ]
            ]
           ],
           "type": "Polygon"
          },
          "id": "126",
          "properties": {
           "id": 126,
           "style": {
            "color": "#555555",
            "fillOpacity": 0.1,
            "fill_color": "#555555",
            "weight": 1
           }
          },
          "type": "Feature"
         },
         {
          "geometry": {
           "coordinates": [
            [
             [
              -124.17168886947383,
              40.827452699142675
             ],
             [
              -124.17224422665804,
              40.858975785973804
             ],
             [
              -124.13072452456662,
              40.85939029784808
             ],
             [
              -124.13018882717512,
              40.82786675333934
             ],
             [
              -124.17168886947383,
              40.827452699142675
             ]
            ]
           ],
           "type": "Polygon"
          },
          "id": "127",
          "properties": {
           "id": 127,
           "style": {
            "color": "#555555",
            "fillOpacity": 0.1,
            "fill_color": "#555555",
            "weight": 1
           }
          },
          "type": "Feature"
         },
         {
          "geometry": {
           "coordinates": [
            [
             [
              -124.17168886947383,
              40.827452699142675
             ],
             [
              -124.17224422665804,
              40.858975785973804
             ],
             [
              -124.13072452456662,
              40.85939029784808
             ],
             [
              -124.13018882717512,
              40.82786675333934
             ],
             [
              -124.17168886947383,
              40.827452699142675
             ]
            ]
           ],
           "type": "Polygon"
          },
          "id": "128",
          "properties": {
           "id": 128,
           "style": {
            "color": "#555555",
            "fillOpacity": 0.1,
            "fill_color": "#555555",
            "weight": 1
           }
          },
          "type": "Feature"
         },
         {
          "geometry": {
           "coordinates": [
            [
             [
              -124.17168886947383,
              40.827452699142675
             ],
             [
              -124.17224422665804,
              40.858975785973804
             ],
             [
              -124.13072452456662,
              40.85939029784808
             ],
             [
              -124.13018882717512,
              40.82786675333934
             ],
             [
              -124.17168886947383,
              40.827452699142675
             ]
            ]
           ],
           "type": "Polygon"
          },
          "id": "129",
          "properties": {
           "id": 129,
           "style": {
            "color": "#555555",
            "fillOpacity": 0.1,
            "fill_color": "#555555",
            "weight": 1
           }
          },
          "type": "Feature"
         },
         {
          "geometry": {
           "coordinates": [
            [
             [
              -124.17168886947383,
              40.827452699142675
             ],
             [
              -124.17224422665804,
              40.858975785973804
             ],
             [
              -124.13072452456662,
              40.85939029784808
             ],
             [
              -124.13018882717512,
              40.82786675333934
             ],
             [
              -124.17168886947383,
              40.827452699142675
             ]
            ]
           ],
           "type": "Polygon"
          },
          "id": "130",
          "properties": {
           "id": 130,
           "style": {
            "color": "#555555",
            "fillOpacity": 0.1,
            "fill_color": "#555555",
            "weight": 1
           }
          },
          "type": "Feature"
         },
         {
          "geometry": {
           "coordinates": [
            [
             [
              -124.17224422665804,
              40.858975785973804
             ],
             [
              -124.17280046433285,
              40.890498693728546
             ],
             [
              -124.13126107129395,
              40.89091366370934
             ],
             [
              -124.13072452456662,
              40.85939029784808
             ],
             [
              -124.17224422665804,
              40.858975785973804
             ]
            ]
           ],
           "type": "Polygon"
          },
          "id": "131",
          "properties": {
           "id": 131,
           "style": {
            "color": "#555555",
            "fillOpacity": 0.1,
            "fill_color": "#555555",
            "weight": 1
           }
          },
          "type": "Feature"
         },
         {
          "geometry": {
           "coordinates": [
            [
             [
              -124.17168886947383,
              40.827452699142675
             ],
             [
              -124.17224422665804,
              40.858975785973804
             ],
             [
              -124.13072452456662,
              40.85939029784808
             ],
             [
              -124.13018882717512,
              40.82786675333934
             ],
             [
              -124.17168886947383,
              40.827452699142675
             ]
            ]
           ],
           "type": "Polygon"
          },
          "id": "132",
          "properties": {
           "id": 132,
           "style": {
            "color": "#555555",
            "fillOpacity": 0.1,
            "fill_color": "#555555",
            "weight": 1
           }
          },
          "type": "Feature"
         },
         {
          "geometry": {
           "coordinates": [
            [
             [
              -124.17224422665804,
              40.858975785973804
             ],
             [
              -124.17280046433285,
              40.890498693728546
             ],
             [
              -124.13126107129395,
              40.89091366370934
             ],
             [
              -124.13072452456662,
              40.85939029784808
             ],
             [
              -124.17224422665804,
              40.858975785973804
             ]
            ]
           ],
           "type": "Polygon"
          },
          "id": "133",
          "properties": {
           "id": 133,
           "style": {
            "color": "#555555",
            "fillOpacity": 0.1,
            "fill_color": "#555555",
            "weight": 1
           }
          },
          "type": "Feature"
         },
         {
          "geometry": {
           "coordinates": [
            [
             [
              -124.17168886947383,
              40.827452699142675
             ],
             [
              -124.17224422665804,
              40.858975785973804
             ],
             [
              -124.13072452456662,
              40.85939029784808
             ],
             [
              -124.13018882717512,
              40.82786675333934
             ],
             [
              -124.17168886947383,
              40.827452699142675
             ]
            ]
           ],
           "type": "Polygon"
          },
          "id": "134",
          "properties": {
           "id": 134,
           "style": {
            "color": "#555555",
            "fillOpacity": 0.1,
            "fill_color": "#555555",
            "weight": 1
           }
          },
          "type": "Feature"
         },
         {
          "geometry": {
           "coordinates": [
            [
             [
              -124.17224422665804,
              40.858975785973804
             ],
             [
              -124.17280046433285,
              40.890498693728546
             ],
             [
              -124.13126107129395,
              40.89091366370934
             ],
             [
              -124.13072452456662,
              40.85939029784808
             ],
             [
              -124.17224422665804,
              40.858975785973804
             ]
            ]
           ],
           "type": "Polygon"
          },
          "id": "135",
          "properties": {
           "id": 135,
           "style": {
            "color": "#555555",
            "fillOpacity": 0.1,
            "fill_color": "#555555",
            "weight": 1
           }
          },
          "type": "Feature"
         },
         {
          "geometry": {
           "coordinates": [
            [
             [
              -124.17168886947383,
              40.827452699142675
             ],
             [
              -124.17224422665804,
              40.858975785973804
             ],
             [
              -124.13072452456662,
              40.85939029784808
             ],
             [
              -124.13018882717512,
              40.82786675333934
             ],
             [
              -124.17168886947383,
              40.827452699142675
             ]
            ]
           ],
           "type": "Polygon"
          },
          "id": "136",
          "properties": {
           "id": 136,
           "style": {
            "color": "#555555",
            "fillOpacity": 0.1,
            "fill_color": "#555555",
            "weight": 1
           }
          },
          "type": "Feature"
         },
         {
          "geometry": {
           "coordinates": [
            [
             [
              -124.17224422665804,
              40.858975785973804
             ],
             [
              -124.17280046433285,
              40.890498693728546
             ],
             [
              -124.13126107129395,
              40.89091366370934
             ],
             [
              -124.13072452456662,
              40.85939029784808
             ],
             [
              -124.17224422665804,
              40.858975785973804
             ]
            ]
           ],
           "type": "Polygon"
          },
          "id": "137",
          "properties": {
           "id": 137,
           "style": {
            "color": "#555555",
            "fillOpacity": 0.1,
            "fill_color": "#555555",
            "weight": 1
           }
          },
          "type": "Feature"
         },
         {
          "geometry": {
           "coordinates": [
            [
             [
              -124.17168886947383,
              40.827452699142675
             ],
             [
              -124.17224422665804,
              40.858975785973804
             ],
             [
              -124.13072452456662,
              40.85939029784808
             ],
             [
              -124.13018882717512,
              40.82786675333934
             ],
             [
              -124.17168886947383,
              40.827452699142675
             ]
            ]
           ],
           "type": "Polygon"
          },
          "id": "138",
          "properties": {
           "id": 138,
           "style": {
            "color": "#555555",
            "fillOpacity": 0.1,
            "fill_color": "#555555",
            "weight": 1
           }
          },
          "type": "Feature"
         },
         {
          "geometry": {
           "coordinates": [
            [
             [
              -124.17224422665804,
              40.858975785973804
             ],
             [
              -124.17280046433285,
              40.890498693728546
             ],
             [
              -124.13126107129395,
              40.89091366370934
             ],
             [
              -124.13072452456662,
              40.85939029784808
             ],
             [
              -124.17224422665804,
              40.858975785973804
             ]
            ]
           ],
           "type": "Polygon"
          },
          "id": "139",
          "properties": {
           "id": 139,
           "style": {
            "color": "#555555",
            "fillOpacity": 0.1,
            "fill_color": "#555555",
            "weight": 1
           }
          },
          "type": "Feature"
         },
         {
          "geometry": {
           "coordinates": [
            [
             [
              -124.17168886947383,
              40.827452699142675
             ],
             [
              -124.17224422665804,
              40.858975785973804
             ],
             [
              -124.13072452456662,
              40.85939029784808
             ],
             [
              -124.13018882717512,
              40.82786675333934
             ],
             [
              -124.17168886947383,
              40.827452699142675
             ]
            ]
           ],
           "type": "Polygon"
          },
          "id": "140",
          "properties": {
           "id": 140,
           "style": {
            "color": "#555555",
            "fillOpacity": 0.1,
            "fill_color": "#555555",
            "weight": 1
           }
          },
          "type": "Feature"
         },
         {
          "geometry": {
           "coordinates": [
            [
             [
              -124.17224422665804,
              40.858975785973804
             ],
             [
              -124.17280046433285,
              40.890498693728546
             ],
             [
              -124.13126107129395,
              40.89091366370934
             ],
             [
              -124.13072452456662,
              40.85939029784808
             ],
             [
              -124.17224422665804,
              40.858975785973804
             ]
            ]
           ],
           "type": "Polygon"
          },
          "id": "141",
          "properties": {
           "id": 141,
           "style": {
            "color": "#555555",
            "fillOpacity": 0.1,
            "fill_color": "#555555",
            "weight": 1
           }
          },
          "type": "Feature"
         },
         {
          "geometry": {
           "coordinates": [
            [
             [
              -124.17224422665804,
              40.858975785973804
             ],
             [
              -124.17280046433285,
              40.890498693728546
             ],
             [
              -124.13126107129395,
              40.89091366370934
             ],
             [
              -124.13072452456662,
              40.85939029784808
             ],
             [
              -124.17224422665804,
              40.858975785973804
             ]
            ]
           ],
           "type": "Polygon"
          },
          "id": "142",
          "properties": {
           "id": 142,
           "style": {
            "color": "#555555",
            "fillOpacity": 0.1,
            "fill_color": "#555555",
            "weight": 1
           }
          },
          "type": "Feature"
         },
         {
          "geometry": {
           "coordinates": [
            [
             [
              -124.17280046433285,
              40.890498693728546
             ],
             [
              -124.173357584085,
              40.92202142236781
             ],
             [
              -124.13179846888775,
              40.922436850884885
             ],
             [
              -124.13126107129395,
              40.89091366370934
             ],
             [
              -124.17280046433285,
              40.890498693728546
             ]
            ]
           ],
           "type": "Polygon"
          },
          "id": "143",
          "properties": {
           "id": 143,
           "style": {
            "color": "#555555",
            "fillOpacity": 0.1,
            "fill_color": "#555555",
            "weight": 1
           }
          },
          "type": "Feature"
         },
         {
          "geometry": {
           "coordinates": [
            [
             [
              -124.17224422665804,
              40.858975785973804
             ],
             [
              -124.17280046433285,
              40.890498693728546
             ],
             [
              -124.13126107129395,
              40.89091366370934
             ],
             [
              -124.13072452456662,
              40.85939029784808
             ],
             [
              -124.17224422665804,
              40.858975785973804
             ]
            ]
           ],
           "type": "Polygon"
          },
          "id": "144",
          "properties": {
           "id": 144,
           "style": {
            "color": "#555555",
            "fillOpacity": 0.1,
            "fill_color": "#555555",
            "weight": 1
           }
          },
          "type": "Feature"
         },
         {
          "geometry": {
           "coordinates": [
            [
             [
              -124.17280046433285,
              40.890498693728546
             ],
             [
              -124.173357584085,
              40.92202142236781
             ],
             [
              -124.13179846888775,
              40.922436850884885
             ],
             [
              -124.13126107129395,
              40.89091366370934
             ],
             [
              -124.17280046433285,
              40.890498693728546
             ]
            ]
           ],
           "type": "Polygon"
          },
          "id": "145",
          "properties": {
           "id": 145,
           "style": {
            "color": "#555555",
            "fillOpacity": 0.1,
            "fill_color": "#555555",
            "weight": 1
           }
          },
          "type": "Feature"
         },
         {
          "geometry": {
           "coordinates": [
            [
             [
              -124.17224422665804,
              40.858975785973804
             ],
             [
              -124.17280046433285,
              40.890498693728546
             ],
             [
              -124.13126107129395,
              40.89091366370934
             ],
             [
              -124.13072452456662,
              40.85939029784808
             ],
             [
              -124.17224422665804,
              40.858975785973804
             ]
            ]
           ],
           "type": "Polygon"
          },
          "id": "146",
          "properties": {
           "id": 146,
           "style": {
            "color": "#555555",
            "fillOpacity": 0.1,
            "fill_color": "#555555",
            "weight": 1
           }
          },
          "type": "Feature"
         },
         {
          "geometry": {
           "coordinates": [
            [
             [
              -124.17224422665804,
              40.858975785973804
             ],
             [
              -124.17280046433285,
              40.890498693728546
             ],
             [
              -124.13126107129395,
              40.89091366370934
             ],
             [
              -124.13072452456662,
              40.85939029784808
             ],
             [
              -124.17224422665804,
              40.858975785973804
             ]
            ]
           ],
           "type": "Polygon"
          },
          "id": "147",
          "properties": {
           "id": 147,
           "style": {
            "color": "#555555",
            "fillOpacity": 0.1,
            "fill_color": "#555555",
            "weight": 1
           }
          },
          "type": "Feature"
         },
         {
          "geometry": {
           "coordinates": [
            [
             [
              -124.17224422665804,
              40.858975785973804
             ],
             [
              -124.17280046433285,
              40.890498693728546
             ],
             [
              -124.13126107129395,
              40.89091366370934
             ],
             [
              -124.13072452456662,
              40.85939029784808
             ],
             [
              -124.17224422665804,
              40.858975785973804
             ]
            ]
           ],
           "type": "Polygon"
          },
          "id": "148",
          "properties": {
           "id": 148,
           "style": {
            "color": "#555555",
            "fillOpacity": 0.1,
            "fill_color": "#555555",
            "weight": 1
           }
          },
          "type": "Feature"
         },
         {
          "geometry": {
           "coordinates": [
            [
             [
              -124.17224422665804,
              40.858975785973804
             ],
             [
              -124.17280046433285,
              40.890498693728546
             ],
             [
              -124.13126107129395,
              40.89091366370934
             ],
             [
              -124.13072452456662,
              40.85939029784808
             ],
             [
              -124.17224422665804,
              40.858975785973804
             ]
            ]
           ],
           "type": "Polygon"
          },
          "id": "149",
          "properties": {
           "id": 149,
           "style": {
            "color": "#555555",
            "fillOpacity": 0.1,
            "fill_color": "#555555",
            "weight": 1
           }
          },
          "type": "Feature"
         },
         {
          "geometry": {
           "coordinates": [
            [
             [
              -124.17224422665804,
              40.858975785973804
             ],
             [
              -124.17280046433285,
              40.890498693728546
             ],
             [
              -124.13126107129395,
              40.89091366370934
             ],
             [
              -124.13072452456662,
              40.85939029784808
             ],
             [
              -124.17224422665804,
              40.858975785973804
             ]
            ]
           ],
           "type": "Polygon"
          },
          "id": "150",
          "properties": {
           "id": 150,
           "style": {
            "color": "#555555",
            "fillOpacity": 0.1,
            "fill_color": "#555555",
            "weight": 1
           }
          },
          "type": "Feature"
         },
         {
          "geometry": {
           "coordinates": [
            [
             [
              -124.17224422665804,
              40.858975785973804
             ],
             [
              -124.17280046433285,
              40.890498693728546
             ],
             [
              -124.13126107129395,
              40.89091366370934
             ],
             [
              -124.13072452456662,
              40.85939029784808
             ],
             [
              -124.17224422665804,
              40.858975785973804
             ]
            ]
           ],
           "type": "Polygon"
          },
          "id": "151",
          "properties": {
           "id": 151,
           "style": {
            "color": "#555555",
            "fillOpacity": 0.1,
            "fill_color": "#555555",
            "weight": 1
           }
          },
          "type": "Feature"
         },
         {
          "geometry": {
           "coordinates": [
            [
             [
              -124.17224422665804,
              40.858975785973804
             ],
             [
              -124.17280046433285,
              40.890498693728546
             ],
             [
              -124.13126107129395,
              40.89091366370934
             ],
             [
              -124.13072452456662,
              40.85939029784808
             ],
             [
              -124.17224422665804,
              40.858975785973804
             ]
            ]
           ],
           "type": "Polygon"
          },
          "id": "152",
          "properties": {
           "id": 152,
           "style": {
            "color": "#555555",
            "fillOpacity": 0.1,
            "fill_color": "#555555",
            "weight": 1
           }
          },
          "type": "Feature"
         },
         {
          "geometry": {
           "coordinates": [
            [
             [
              -124.17224422665804,
              40.858975785973804
             ],
             [
              -124.17280046433285,
              40.890498693728546
             ],
             [
              -124.13126107129395,
              40.89091366370934
             ],
             [
              -124.13072452456662,
              40.85939029784808
             ],
             [
              -124.17224422665804,
              40.858975785973804
             ]
            ]
           ],
           "type": "Polygon"
          },
          "id": "153",
          "properties": {
           "id": 153,
           "style": {
            "color": "#555555",
            "fillOpacity": 0.1,
            "fill_color": "#555555",
            "weight": 1
           }
          },
          "type": "Feature"
         },
         {
          "geometry": {
           "coordinates": [
            [
             [
              -124.17224422665804,
              40.858975785973804
             ],
             [
              -124.17280046433285,
              40.890498693728546
             ],
             [
              -124.13126107129395,
              40.89091366370934
             ],
             [
              -124.13072452456662,
              40.85939029784808
             ],
             [
              -124.17224422665804,
              40.858975785973804
             ]
            ]
           ],
           "type": "Polygon"
          },
          "id": "154",
          "properties": {
           "id": 154,
           "style": {
            "color": "#555555",
            "fillOpacity": 0.1,
            "fill_color": "#555555",
            "weight": 1
           }
          },
          "type": "Feature"
         },
         {
          "geometry": {
           "coordinates": [
            [
             [
              -124.17224422665804,
              40.858975785973804
             ],
             [
              -124.17280046433285,
              40.890498693728546
             ],
             [
              -124.13126107129395,
              40.89091366370934
             ],
             [
              -124.13072452456662,
              40.85939029784808
             ],
             [
              -124.17224422665804,
              40.858975785973804
             ]
            ]
           ],
           "type": "Polygon"
          },
          "id": "155",
          "properties": {
           "id": 155,
           "style": {
            "color": "#555555",
            "fillOpacity": 0.1,
            "fill_color": "#555555",
            "weight": 1
           }
          },
          "type": "Feature"
         },
         {
          "geometry": {
           "coordinates": [
            [
             [
              -124.17224422665804,
              40.858975785973804
             ],
             [
              -124.17280046433285,
              40.890498693728546
             ],
             [
              -124.13126107129395,
              40.89091366370934
             ],
             [
              -124.13072452456662,
              40.85939029784808
             ],
             [
              -124.17224422665804,
              40.858975785973804
             ]
            ]
           ],
           "type": "Polygon"
          },
          "id": "156",
          "properties": {
           "id": 156,
           "style": {
            "color": "#555555",
            "fillOpacity": 0.1,
            "fill_color": "#555555",
            "weight": 1
           }
          },
          "type": "Feature"
         },
         {
          "geometry": {
           "coordinates": [
            [
             [
              -124.17224422665804,
              40.858975785973804
             ],
             [
              -124.17280046433285,
              40.890498693728546
             ],
             [
              -124.13126107129395,
              40.89091366370934
             ],
             [
              -124.13072452456662,
              40.85939029784808
             ],
             [
              -124.17224422665804,
              40.858975785973804
             ]
            ]
           ],
           "type": "Polygon"
          },
          "id": "157",
          "properties": {
           "id": 157,
           "style": {
            "color": "#555555",
            "fillOpacity": 0.1,
            "fill_color": "#555555",
            "weight": 1
           }
          },
          "type": "Feature"
         },
         {
          "geometry": {
           "coordinates": [
            [
             [
              -124.17224422665804,
              40.858975785973804
             ],
             [
              -124.17280046433285,
              40.890498693728546
             ],
             [
              -124.13126107129395,
              40.89091366370934
             ],
             [
              -124.13072452456662,
              40.85939029784808
             ],
             [
              -124.17224422665804,
              40.858975785973804
             ]
            ]
           ],
           "type": "Polygon"
          },
          "id": "158",
          "properties": {
           "id": 158,
           "style": {
            "color": "#555555",
            "fillOpacity": 0.1,
            "fill_color": "#555555",
            "weight": 1
           }
          },
          "type": "Feature"
         },
         {
          "geometry": {
           "coordinates": [
            [
             [
              -124.17224422665804,
              40.858975785973804
             ],
             [
              -124.17280046433285,
              40.890498693728546
             ],
             [
              -124.13126107129395,
              40.89091366370934
             ],
             [
              -124.13072452456662,
              40.85939029784808
             ],
             [
              -124.17224422665804,
              40.858975785973804
             ]
            ]
           ],
           "type": "Polygon"
          },
          "id": "159",
          "properties": {
           "id": 159,
           "style": {
            "color": "#555555",
            "fillOpacity": 0.1,
            "fill_color": "#555555",
            "weight": 1
           }
          },
          "type": "Feature"
         },
         {
          "geometry": {
           "coordinates": [
            [
             [
              -124.17224422665804,
              40.858975785973804
             ],
             [
              -124.17280046433285,
              40.890498693728546
             ],
             [
              -124.13126107129395,
              40.89091366370934
             ],
             [
              -124.13072452456662,
              40.85939029784808
             ],
             [
              -124.17224422665804,
              40.858975785973804
             ]
            ]
           ],
           "type": "Polygon"
          },
          "id": "160",
          "properties": {
           "id": 160,
           "style": {
            "color": "#555555",
            "fillOpacity": 0.1,
            "fill_color": "#555555",
            "weight": 1
           }
          },
          "type": "Feature"
         },
         {
          "geometry": {
           "coordinates": [
            [
             [
              -124.17224422665804,
              40.858975785973804
             ],
             [
              -124.17280046433285,
              40.890498693728546
             ],
             [
              -124.13126107129395,
              40.89091366370934
             ],
             [
              -124.13072452456662,
              40.85939029784808
             ],
             [
              -124.17224422665804,
              40.858975785973804
             ]
            ]
           ],
           "type": "Polygon"
          },
          "id": "161",
          "properties": {
           "id": 161,
           "style": {
            "color": "#555555",
            "fillOpacity": 0.1,
            "fill_color": "#555555",
            "weight": 1
           }
          },
          "type": "Feature"
         },
         {
          "geometry": {
           "coordinates": [
            [
             [
              -124.17224422665804,
              40.858975785973804
             ],
             [
              -124.17280046433285,
              40.890498693728546
             ],
             [
              -124.13126107129395,
              40.89091366370934
             ],
             [
              -124.13072452456662,
              40.85939029784808
             ],
             [
              -124.17224422665804,
              40.858975785973804
             ]
            ]
           ],
           "type": "Polygon"
          },
          "id": "162",
          "properties": {
           "id": 162,
           "style": {
            "color": "#555555",
            "fillOpacity": 0.1,
            "fill_color": "#555555",
            "weight": 1
           }
          },
          "type": "Feature"
         },
         {
          "geometry": {
           "coordinates": [
            [
             [
              -124.17224422665804,
              40.858975785973804
             ],
             [
              -124.17280046433285,
              40.890498693728546
             ],
             [
              -124.13126107129395,
              40.89091366370934
             ],
             [
              -124.13072452456662,
              40.85939029784808
             ],
             [
              -124.17224422665804,
              40.858975785973804
             ]
            ]
           ],
           "type": "Polygon"
          },
          "id": "163",
          "properties": {
           "id": 163,
           "style": {
            "color": "#555555",
            "fillOpacity": 0.1,
            "fill_color": "#555555",
            "weight": 1
           }
          },
          "type": "Feature"
         },
         {
          "geometry": {
           "coordinates": [
            [
             [
              -124.17224422665804,
              40.858975785973804
             ],
             [
              -124.17280046433285,
              40.890498693728546
             ],
             [
              -124.13126107129395,
              40.89091366370934
             ],
             [
              -124.13072452456662,
              40.85939029784808
             ],
             [
              -124.17224422665804,
              40.858975785973804
             ]
            ]
           ],
           "type": "Polygon"
          },
          "id": "164",
          "properties": {
           "id": 164,
           "style": {
            "color": "#555555",
            "fillOpacity": 0.1,
            "fill_color": "#555555",
            "weight": 1
           }
          },
          "type": "Feature"
         },
         {
          "geometry": {
           "coordinates": [
            [
             [
              -124.17224422665804,
              40.858975785973804
             ],
             [
              -124.17280046433285,
              40.890498693728546
             ],
             [
              -124.13126107129395,
              40.89091366370934
             ],
             [
              -124.13072452456662,
              40.85939029784808
             ],
             [
              -124.17224422665804,
              40.858975785973804
             ]
            ]
           ],
           "type": "Polygon"
          },
          "id": "165",
          "properties": {
           "id": 165,
           "style": {
            "color": "#555555",
            "fillOpacity": 0.1,
            "fill_color": "#555555",
            "weight": 1
           }
          },
          "type": "Feature"
         },
         {
          "geometry": {
           "coordinates": [
            [
             [
              -124.17280046433285,
              40.890498693728546
             ],
             [
              -124.173357584085,
              40.92202142236781
             ],
             [
              -124.13179846888775,
              40.922436850884885
             ],
             [
              -124.13126107129395,
              40.89091366370934
             ],
             [
              -124.17280046433285,
              40.890498693728546
             ]
            ]
           ],
           "type": "Polygon"
          },
          "id": "166",
          "properties": {
           "id": 166,
           "style": {
            "color": "#555555",
            "fillOpacity": 0.1,
            "fill_color": "#555555",
            "weight": 1
           }
          },
          "type": "Feature"
         },
         {
          "geometry": {
           "coordinates": [
            [
             [
              -124.17280046433285,
              40.890498693728546
             ],
             [
              -124.173357584085,
              40.92202142236781
             ],
             [
              -124.13179846888775,
              40.922436850884885
             ],
             [
              -124.13126107129395,
              40.89091366370934
             ],
             [
              -124.17280046433285,
              40.890498693728546
             ]
            ]
           ],
           "type": "Polygon"
          },
          "id": "167",
          "properties": {
           "id": 167,
           "style": {
            "color": "#555555",
            "fillOpacity": 0.1,
            "fill_color": "#555555",
            "weight": 1
           }
          },
          "type": "Feature"
         }
        ],
        "type": "FeatureCollection"
       },
       "hover_style": {
        "color": "crimson",
        "fillOpacity": 0.1
       },
       "name": "ROIs",
       "style": {
        "color": "#555555",
        "fillOpacity": 0.1,
        "fill_color": "#555555",
        "weight": 1
       }
      }
     },
     "42d7491f9bf94a2eb69c20bf0cc54e48": {
      "model_module": "jupyter-leaflet",
      "model_module_version": "^0.17.0",
      "model_name": "LeafletTileLayerModel",
      "state": {
       "_model_module_version": "^0.17.0",
       "_view_module_version": "^0.17.0",
       "attribution": "Map data: (C) OpenStreetMap contributors, SRTM | Map style: (C) OpenTopoMap (CC-BY-SA)",
       "max_zoom": 17,
       "name": "OpenTopoMap",
       "options": [
        "attribution",
        "bounds",
        "detect_retina",
        "max_native_zoom",
        "max_zoom",
        "min_native_zoom",
        "min_zoom",
        "no_wrap",
        "tile_size",
        "tms"
       ],
       "url": "https://a.tile.opentopomap.org/{z}/{x}/{y}.png"
      }
     },
     "43152c5e9d354fc1b90e04d3734b51b0": {
      "model_module": "jupyter-leaflet",
      "model_module_version": "^0.17.0",
      "model_name": "LeafletTileLayerModel",
      "state": {
       "_model_module_version": "^0.17.0",
       "_view_module_version": "^0.17.0",
       "attribution": "Map tiles by Stamen Design, CC BY 3.0 -- Map data (C) OpenStreetMap contributors",
       "max_zoom": 20,
       "name": "Stamen.TopOSMRelief",
       "options": [
        "attribution",
        "bounds",
        "detect_retina",
        "max_native_zoom",
        "max_zoom",
        "min_native_zoom",
        "min_zoom",
        "no_wrap",
        "tile_size",
        "tms"
       ],
       "url": "https://stamen-tiles-a.a.ssl.fastly.net/toposm-color-relief/{z}/{x}/{y}.jpg"
      }
     },
     "443c988fb36f4396870af3e312389210": {
      "model_module": "jupyter-leaflet",
      "model_module_version": "^0.17.0",
      "model_name": "LeafletTileLayerModel",
      "state": {
       "_model_module_version": "^0.17.0",
       "_view_module_version": "^0.17.0",
       "attribution": "Map tiles by Stamen Design, CC BY 3.0 -- Map data (C) OpenStreetMap contributors",
       "max_zoom": 20,
       "name": "Stamen.TonerLines",
       "options": [
        "attribution",
        "bounds",
        "detect_retina",
        "max_native_zoom",
        "max_zoom",
        "min_native_zoom",
        "min_zoom",
        "no_wrap",
        "tile_size",
        "tms"
       ],
       "url": "https://stamen-tiles-a.a.ssl.fastly.net/toner-lines/{z}/{x}/{y}.png"
      }
     },
     "44a0053530814f3d895f8ff72e6537ff": {
      "model_module": "jupyter-leaflet",
      "model_module_version": "^0.17.0",
      "model_name": "LeafletTileLayerModel",
      "state": {
       "_model_module_version": "^0.17.0",
       "_view_module_version": "^0.17.0",
       "attribution": "Imagery provided by services from the Global Imagery Browse Services (GIBS), operated by the NASA/GSFC/Earth Science Data and Information System (ESDIS) with funding provided by NASA/HQ.",
       "max_zoom": 8,
       "name": "NASAGIBS.ModisTerraSnowCover",
       "options": [
        "attribution",
        "bounds",
        "detect_retina",
        "max_native_zoom",
        "max_zoom",
        "min_native_zoom",
        "min_zoom",
        "no_wrap",
        "tile_size",
        "tms"
       ],
       "url": "https://map1.vis.earthdata.nasa.gov/wmts-webmerc/MODIS_Terra_NDSI_Snow_Cover/default//GoogleMapsCompatible_Level8/{z}/{y}/{x}.png"
      }
     },
     "45780cfa8a48453496ad9b94a62d18c2": {
      "model_module": "@jupyter-widgets/controls",
      "model_module_version": "1.5.0",
      "model_name": "ButtonStyleModel",
      "state": {
       "button_color": "#69add1"
      }
     },
     "4664eab79b2a4fabb0e92b799262d901": {
      "model_module": "jupyter-leaflet",
      "model_module_version": "^0.17.0",
      "model_name": "LeafletTileLayerModel",
      "state": {
       "_model_module_version": "^0.17.0",
       "_view_module_version": "^0.17.0",
       "attribution": "Map data: (C) OpenStreetMap contributors | Map style: (C) waymarkedtrails.org (CC-BY-SA)",
       "name": "WaymarkedTrails.skating",
       "options": [
        "attribution",
        "bounds",
        "detect_retina",
        "max_native_zoom",
        "max_zoom",
        "min_native_zoom",
        "min_zoom",
        "no_wrap",
        "tile_size",
        "tms"
       ],
       "url": "https://tile.waymarkedtrails.org/skating/{z}/{x}/{y}.png"
      }
     },
     "467aad9af3ed4f57ad75b4d730dffffe": {
      "model_module": "jupyter-leaflet",
      "model_module_version": "^0.17.0",
      "model_name": "LeafletMapStyleModel",
      "state": {
       "_model_module_version": "^0.17.0",
       "cursor": "wait"
      }
     },
     "467ab282858d4ff29fae513511563b51": {
      "model_module": "jupyter-leaflet",
      "model_module_version": "^0.17.0",
      "model_name": "LeafletTileLayerModel",
      "state": {
       "_model_module_version": "^0.17.0",
       "_view_module_version": "^0.17.0",
       "attribution": "Earthstar Geographics",
       "max_zoom": 24,
       "name": "Esri.AntarcticImagery",
       "options": [
        "attribution",
        "bounds",
        "detect_retina",
        "max_native_zoom",
        "max_zoom",
        "min_native_zoom",
        "min_zoom",
        "no_wrap",
        "tile_size",
        "tms"
       ],
       "url": "http://server.arcgisonline.com/ArcGIS/rest/services/Polar/Antarctic_Imagery/MapServer/tile/{z}/{y}/{x}"
      }
     },
     "47e7e02f66994373a9d14e45833a5980": {
      "model_module": "@jupyter-widgets/base",
      "model_module_version": "1.2.0",
      "model_name": "LayoutModel",
      "state": {}
     },
     "489db9326adb45439dce96638ba0dd34": {
      "model_module": "jupyter-leaflet",
      "model_module_version": "^0.17.0",
      "model_name": "LeafletWMSLayerModel",
      "state": {
       "_model_module_version": "^0.17.0",
       "_view_module_version": "^0.17.0",
       "attribution": "ESA",
       "crs": {
        "custom": false,
        "name": "EPSG3857"
       },
       "format": "image/png",
       "layers": "WORLDCOVER_2020_MAP",
       "name": "ESA Worldcover 2020",
       "options": [
        "attribution",
        "bounds",
        "detect_retina",
        "format",
        "layers",
        "max_native_zoom",
        "max_zoom",
        "min_native_zoom",
        "min_zoom",
        "no_wrap",
        "styles",
        "tile_size",
        "tms",
        "transparent",
        "uppercase"
       ],
       "transparent": true,
       "url": "https://services.terrascope.be/wms/v2"
      }
     },
     "48d03d7a4a5642c2a95a51b587597261": {
      "model_module": "@jupyter-widgets/base",
      "model_module_version": "1.2.0",
      "model_name": "LayoutModel",
      "state": {
       "padding": "10px"
      }
     },
     "496473cf077a41bc8e0dfa751e0c8e8f": {
      "model_module": "@jupyter-widgets/base",
      "model_module_version": "1.2.0",
      "model_name": "LayoutModel",
      "state": {
       "margin": "0px 5px 0px 5px"
      }
     },
     "4972f94614804d2bb3f0d74f067cd6af": {
      "model_module": "jupyter-leaflet",
      "model_module_version": "^0.17.0",
      "model_name": "LeafletTileLayerModel",
      "state": {
       "_model_module_version": "^0.17.0",
       "_view_module_version": "^0.17.0",
       "attribution": "(C) OpenStreetMap contributors (C) CARTO",
       "max_zoom": 20,
       "name": "CartoDB.DarkMatterNoLabels",
       "options": [
        "attribution",
        "bounds",
        "detect_retina",
        "max_native_zoom",
        "max_zoom",
        "min_native_zoom",
        "min_zoom",
        "no_wrap",
        "tile_size",
        "tms"
       ],
       "url": "https://a.basemaps.cartocdn.com/dark_nolabels/{z}/{x}/{y}.png"
      }
     },
     "4bef74b80e5346418cdc955bd403209d": {
      "model_module": "jupyter-leaflet",
      "model_module_version": "^0.17.0",
      "model_name": "LeafletTileLayerModel",
      "state": {
       "_model_module_version": "^0.17.0",
       "_view_module_version": "^0.17.0",
       "attribution": "Map tiles by Stamen Design, CC BY 3.0 -- Map data (C) OpenStreetMap contributors",
       "name": "Stamen.Terrain",
       "options": [
        "attribution",
        "bounds",
        "detect_retina",
        "max_native_zoom",
        "max_zoom",
        "min_native_zoom",
        "min_zoom",
        "no_wrap",
        "tile_size",
        "tms"
       ],
       "url": "https://stamen-tiles-a.a.ssl.fastly.net/terrain/{z}/{x}/{y}.png"
      }
     },
     "4c4ff7875f494394b9a40ef7b488ef86": {
      "model_module": "jupyter-leaflet",
      "model_module_version": "^0.17.0",
      "model_name": "LeafletTileLayerModel",
      "state": {
       "_model_module_version": "^0.17.0",
       "_view_module_version": "^0.17.0",
       "attribution": "Justice Map",
       "max_zoom": 22,
       "name": "JusticeMap.multi",
       "options": [
        "attribution",
        "bounds",
        "detect_retina",
        "max_native_zoom",
        "max_zoom",
        "min_native_zoom",
        "min_zoom",
        "no_wrap",
        "tile_size",
        "tms"
       ],
       "url": "https://www.justicemap.org/tile/county/multi/{z}/{x}/{y}.png"
      }
     },
     "4d5bbfdab2df45268635abee7c046039": {
      "model_module": "jupyter-leaflet",
      "model_module_version": "^0.17.0",
      "model_name": "LeafletGeoJSONModel",
      "state": {
       "_model_module_version": "^0.17.0",
       "_view_module_version": "^0.17.0",
       "data": {
        "features": [
         {
          "geometry": {
           "coordinates": [
            [
             -124.19003378855201,
             40.82779
            ],
            [
             -124.19000925899996,
             40.827855570000054
            ],
            [
             -124.18981931299999,
             40.82825273700007
            ],
            [
             -124.189517,
             40.82883590600005
            ],
            [
             -124.18948307999995,
             40.82887898600006
            ],
            [
             -124.18943916299997,
             40.828912065000054
            ],
            [
             -124.18938749299997,
             40.828937395000025
            ],
            [
             -124.18933108999994,
             40.82895799200003
            ],
            [
             -124.18921471299996,
             40.82899561100004
            ],
            [
             -124.18915982899995,
             40.829017726000075
            ],
            [
             -124.18911071199994,
             40.82904560700007
            ],
            [
             -124.18907400199998,
             40.829076271000076
            ],
            [
             -124.18887129599995,
             40.82927780800003
            ],
            [
             -124.18884060599999,
             40.82931449100005
            ],
            [
             -124.18881289799998,
             40.82936378000005
            ],
            [
             -124.18879127599996,
             40.829419157000075
            ],
            [
             -124.18873811499998,
             40.82959699200006
            ],
            [
             -124.18871652399997,
             40.829652399000054
            ],
            [
             -124.18868885699999,
             40.82970172900008
            ],
            [
             -124.18865820599996,
             40.82973845200007
            ],
            [
             -124.18863659899995,
             40.82975987900005
            ]
           ],
           "type": "LineString"
          },
          "id": "0",
          "properties": {
           "CSU_ID": 19790,
           "ERODIBILITY": "High",
           "MEAN_SIG_WAVEHEIGHT": 2.305355,
           "TIDAL_RANGE": 2.979268,
           "river_label": "moderate river discharge",
           "sinuosity_label": "straight",
           "slope_label": "flat",
           "style": {
            "color": "yellow",
            "dashArray": "5",
            "fillOpacity": 0.5,
            "fill_color": "yellow",
            "opacity": 1,
            "weight": 4
           },
           "turbid_label": "moderately turbid"
          },
          "type": "Feature"
         },
         {
          "geometry": {
           "coordinates": [
            [
             -124.164710357,
             40.82985126500006
            ],
            [
             -124.16480652399997,
             40.829688918000045
            ],
            [
             -124.16539423499995,
             40.82877515900003
            ],
            [
             -124.16542480699997,
             40.82873835800007
            ],
            [
             -124.16564881,
             40.82849074400008
            ],
            [
             -124.16568461399999,
             40.828459175000035
            ],
            [
             -124.16576112299998,
             40.82840093600004
            ],
            [
             -124.16579695499996,
             40.82836939500004
            ],
            [
             -124.16602155199996,
             40.82812237700006
            ],
            [
             -124.16605222099997,
             40.82808567200004
            ],
            [
             -124.16608009599997,
             40.828036549000046
            ],
            [
             -124.16619755475762,
             40.82779
            ]
           ],
           "type": "LineString"
          },
          "id": "1",
          "properties": {
           "CSU_ID": 19790,
           "ERODIBILITY": "High",
           "MEAN_SIG_WAVEHEIGHT": 2.305355,
           "TIDAL_RANGE": 2.979268,
           "river_label": "moderate river discharge",
           "sinuosity_label": "straight",
           "slope_label": "flat",
           "style": {
            "color": "yellow",
            "dashArray": "5",
            "fillOpacity": 0.5,
            "fill_color": "yellow",
            "opacity": 1,
            "weight": 4
           },
           "turbid_label": "moderately turbid"
          },
          "type": "Feature"
         },
         {
          "geometry": {
           "coordinates": [
            [
             -124.16989284319548,
             40.82779
            ],
            [
             -124.16989000099994,
             40.82782645100008
            ],
            [
             -124.16988126499996,
             40.82789870600004
            ],
            [
             -124.16986854699996,
             40.82796695400003
            ],
            [
             -124.16985040699996,
             40.828029757000024
            ],
            [
             -124.16982499,
             40.82808526500003
            ],
            [
             -124.16979741299997,
             40.828125114000045
            ],
            [
             -124.16973580099994,
             40.828198334000035
            ],
            [
             -124.16970833799996,
             40.82823827900006
            ],
            [
             -124.16968356599995,
             40.82829280900006
            ],
            [
             -124.16966592399996,
             40.82835446300004
            ],
            [
             -124.16965363399999,
             40.82842147100007
            ],
            [
             -124.16964530099995,
             40.82849243600003
            ],
            [
             -124.16963983399995,
             40.82856627100006
            ],
            [
             -124.16963423699997,
             40.82871929500004
            ],
            [
             -124.169628263,
             40.829030706000026
            ],
            [
             -124.16962479999995,
             40.82910663700005
            ],
            [
             -124.16961923699995,
             40.829180499000074
            ],
            [
             -124.16961062899998,
             40.82925134900006
            ],
            [
             -124.16959775099997,
             40.82931797100008
            ],
            [
             -124.16957902499996,
             40.82937878800004
            ],
            [
             -124.16955241699998,
             40.82943178200003
            ],
            [
             -124.16952253699998,
             40.82946960900006
            ],
            [
             -124.16932865399997,
             40.82968293000005
            ],
            [
             -124.16919255999994,
             40.82981835000004
            ],
            [
             -124.16916264399998,
             40.82985591700003
            ],
            [
             -124.16913575199999,
             40.82990948500003
            ],
            [
             -124.169117412,
             40.82997072100005
            ],
            [
             -124.16910573599995,
             40.83003726900006
            ],
            [
             -124.16909943199994,
             40.830107172000055
            ],
            [
             -124.16909772899999,
             40.83017874800004
            ],
            [
             -124.16910033299996,
             40.83025046100005
            ],
            [
             -124.169107398,
             40.83032080500004
            ],
            [
             -124.16911954699998,
             40.830388190000065
            ],
            [
             -124.16913787199996,
             40.83045082600006
            ],
            [
             -124.16916398899997,
             40.830506607000075
            ],
            [
             -124.169192421,
             40.830546895000055
            ],
            [
             -124.16925620999996,
             40.83062126200008
            ],
            [
             -124.169284904,
             40.83066181800007
            ],
            [
             -124.16931053299999,
             40.83071534700008
            ],
            [
             -124.16932938399998,
             40.83077556300003
            ],
            [
             -124.16934302899995,
             40.830840772000045
            ],
            [
             -124.16935266599995,
             40.83090960200008
            ],
            [
             -124.16935916999995,
             40.83098093800004
            ],
            [
             -124.16936313399998,
             40.83105384400005
            ],
            [
             -124.16936489399995,
             40.83112750300006
            ],
            [
             -124.16936454699999,
             40.83120114600007
            ],
            [
             -124.16936194599998,
             40.83127399400007
            ],
            [
             -124.16935669199995,
             40.83134518500003
            ],
            [
             -124.16934811099998,
             40.83141371100004
            ],
            [
             -124.16933520299995,
             40.831478341000036
            ],
            [
             -124.16931658699997,
             40.831537540000056
            ],
            [
             -124.16929043999994,
             40.831589379000036
            ],
            [
             -124.16926039099997,
             40.83162765700007
            ],
            [
             -124.16903041699999,
             40.83187759500004
            ],
            [
             -124.16899328799997,
             40.831909342000074
            ],
            [
             -124.168914041,
             40.83196819200003
            ],
            [
             -124.16888706999998,
             40.83199139100003
            ]
           ],
           "type": "LineString"
          },
          "id": "2",
          "properties": {
           "CSU_ID": 19790,
           "ERODIBILITY": "High",
           "MEAN_SIG_WAVEHEIGHT": 2.305355,
           "TIDAL_RANGE": 2.979268,
           "river_label": "moderate river discharge",
           "sinuosity_label": "straight",
           "slope_label": "flat",
           "style": {
            "color": "yellow",
            "dashArray": "5",
            "fillOpacity": 0.5,
            "fill_color": "yellow",
            "opacity": 1,
            "weight": 4
           },
           "turbid_label": "moderately turbid"
          },
          "type": "Feature"
         },
         {
          "geometry": {
           "coordinates": [
            [
             -124.16888706999998,
             40.83199139100003
            ],
            [
             -124.16887682799995,
             40.83200020000004
            ],
            [
             -124.16884375299998,
             40.832036438000046
            ],
            [
             -124.16864732899995,
             40.83225304600006
            ],
            [
             -124.16861840699994,
             40.832290510000064
            ],
            [
             -124.16859444899995,
             40.832340111000065
            ],
            [
             -124.16857940999995,
             40.83239498700004
            ],
            [
             -124.16857204599995,
             40.83245223100005
            ],
            [
             -124.16857175999996,
             40.83250897700003
            ],
            [
             -124.16857857099995,
             40.83256221600004
            ],
            [
             -124.16859312999998,
             40.83260860300004
            ],
            [
             -124.16861672999994,
             40.83264421800004
            ],
            [
             -124.16864550899999,
             40.83266370800004
            ],
            [
             -124.16867944599994,
             40.83267263400006
            ],
            [
             -124.16871558399998,
             40.83267170000005
            ],
            [
             -124.16875114699997,
             40.832661038000026
            ],
            [
             -124.16923298199998,
             40.83243633400008
            ],
            [
             -124.16928350599994,
             40.83240781400008
            ],
            [
             -124.16932143499997,
             40.83237670500006
            ],
            [
             -124.16957610699995,
             40.83215217400004
            ],
            [
             -124.16960829099997,
             40.83211639500007
            ],
            [
             -124.16980018099997,
             40.83190200200005
            ],
            [
             -124.16982949299995,
             40.83186376400005
            ],
            [
             -124.16985594599998,
             40.83180919900008
            ],
            [
             -124.16987435199997,
             40.83174661700008
            ],
            [
             -124.16988683999995,
             40.83167815000007
            ],
            [
             -124.169895049,
             40.83160542300004
            ],
            [
             -124.16990020599997,
             40.831529663000026
            ],
            [
             -124.16990477399997,
             40.83137243900006
            ],
            [
             -124.16990477399997,
             40.831129814000064
            ],
            [
             -124.16989665299997,
             40.83031314200008
            ],
            [
             -124.16989675199994,
             40.830151543000056
            ],
            [
             -124.169899655,
             40.82999274600007
            ],
            [
             -124.16990304599994,
             40.82991528900004
            ],
            [
             -124.169908492,
             40.82983988600006
            ],
            [
             -124.169916818,
             40.82976736400008
            ],
            [
             -124.16992912599994,
             40.82969882300006
            ],
            [
             -124.16994686199996,
             40.82963570800007
            ],
            [
             -124.17022048399997,
             40.82883132200004
            ],
            [
             -124.17024788499998,
             40.82877786500006
            ],
            [
             -124.170277791,
             40.82874038700004
            ],
            [
             -124.17046968099999,
             40.82852791700003
            ],
            [
             -124.17060437599997,
             40.82839291600004
            ],
            [
             -124.17063420299996,
             40.82835529400006
            ],
            [
             -124.17066100999995,
             40.82830213900007
            ],
            [
             -124.17067992999995,
             40.82824107000005
            ],
            [
             -124.17069301299995,
             40.82817413500004
            ],
            [
             -124.17070184499994,
             40.828102914000056
            ],
            [
             -124.17070763199996,
             40.828028602000074
            ],
            [
             -124.170711273,
             40.82795209600005
            ],
            [
             -124.17071461499995,
             40.82779497000007
            ],
            [
             -124.1707146131919,
             40.82779
            ]
           ],
           "type": "LineString"
          },
          "id": "3",
          "properties": {
           "CSU_ID": 19790,
           "ERODIBILITY": "High",
           "MEAN_SIG_WAVEHEIGHT": 2.305355,
           "TIDAL_RANGE": 2.979268,
           "river_label": "moderate river discharge",
           "sinuosity_label": "straight",
           "slope_label": "flat",
           "style": {
            "color": "yellow",
            "dashArray": "5",
            "fillOpacity": 0.5,
            "fill_color": "yellow",
            "opacity": 1,
            "weight": 4
           },
           "turbid_label": "moderately turbid"
          },
          "type": "Feature"
         },
         {
          "geometry": {
           "coordinates": [
            [
             -124.16209618899995,
             40.83530325500004
            ],
            [
             -124.16202628099995,
             40.835224726000035
            ],
            [
             -124.16177454299998,
             40.83500393400004
            ],
            [
             -124.16173690299996,
             40.83497394800003
            ],
            [
             -124.161686681,
             40.83494682600008
            ],
            [
             -124.16163046099996,
             40.83492563000004
            ],
            [
             -124.16145002999997,
             40.83487325600004
            ],
            [
             -124.16139360799997,
             40.83485184800003
            ],
            [
             -124.16134315099998,
             40.83482433800003
            ],
            [
             -124.16130535599996,
             40.83479380000006
            ],
            [
             -124.16109813299994,
             40.83458944700004
            ],
            [
             -124.16106788399998,
             40.83455127800005
            ],
            [
             -124.16104076599999,
             40.83449678100004
            ],
            [
             -124.16102231299999,
             40.83443453900003
            ],
            [
             -124.16101063399998,
             40.83436705400004
            ],
            [
             -124.16100447399998,
             40.83429642700003
            ],
            [
             -124.16100318199994,
             40.83422452700006
            ],
            [
             -124.16100665899995,
             40.83415312400007
            ],
            [
             -124.16101536399998,
             40.83408404700003
            ],
            [
             -124.16103034599996,
             40.834019331000036
            ],
            [
             -124.16105330099998,
             40.83396137500006
            ],
            [
             -124.16108667199995,
             40.83391310800005
            ],
            [
             -124.16112989399994,
             40.833878208000044
            ],
            [
             -124.16118162599997,
             40.833851657000025
            ],
            [
             -124.161238557,
             40.83383026900003
            ],
            [
             -124.16135663499995,
             40.83379188200007
            ],
            [
             -124.161412456,
             40.83376963300003
            ],
            [
             -124.16146248099994,
             40.83374170900004
            ],
            [
             -124.16149993299996,
             40.83371105900005
            ],
            [
             -124.16170573699998,
             40.83350987800003
            ],
            [
             -124.16173673299994,
             40.83347324700003
            ],
            [
             -124.16176473299998,
             40.833424008000065
            ],
            [
             -124.16178659099995,
             40.83336867100007
            ],
            [
             -124.16184018899997,
             40.83319087700005
            ],
            [
             -124.16186185199996,
             40.833135457000026
            ],
            [
             -124.16188955999996,
             40.83308609800008
            ],
            [
             -124.16192022299998,
             40.833049336000045
            ],
            [
             -124.16212276199997,
             40.83284747700003
            ],
            [
             -124.16215963199994,
             40.83281696300003
            ],
            [
             -124.16220912899996,
             40.83278944800003
            ],
            [
             -124.162264699,
             40.83276801200003
            ],
            [
             -124.16244306399994,
             40.83271536600006
            ],
            [
             -124.16249864499997,
             40.832693945000074
            ],
            [
             -124.16254815599996,
             40.83266645400005
            ],
            [
             -124.16258504899997,
             40.83263597100006
            ],
            [
             -124.16278775199999,
             40.83243442700007
            ],
            [
             -124.162818432,
             40.83239773300005
            ],
            [
             -124.16284614799997,
             40.83234844800006
            ],
            [
             -124.16286778699998,
             40.832293091000054
            ],
            [
             -124.16292094099998,
             40.832115249000026
            ],
            [
             -124.162942408,
             40.83205971800004
            ],
            [
             -124.16296980599998,
             40.83201011700004
            ],
            [
             -124.16300003499998,
             40.831972972000074
            ],
            [
             -124.163190467,
             40.831759162000026
            ],
            [
             -124.16325742799995,
             40.83169137500005
            ],
            [
             -124.16349236899998,
             40.83145470100004
            ],
            [
             -124.16352829099998,
             40.83142324800008
            ],
            [
             -124.16419260599997,
             40.83073046700008
            ],
            [
             -124.16453799199996,
             40.83014224600004
            ],
            [
             -124.164710357,
             40.82985126500006
            ]
           ],
           "type": "LineString"
          },
          "id": "4",
          "properties": {
           "CSU_ID": 80667,
           "ERODIBILITY": "Non",
           "MEAN_SIG_WAVEHEIGHT": 2.305355,
           "TIDAL_RANGE": 2.979268,
           "river_label": "moderate river discharge",
           "sinuosity_label": "straight",
           "slope_label": "flat",
           "style": {
            "color": "yellow",
            "dashArray": "5",
            "fillOpacity": 0.5,
            "fill_color": "yellow",
            "opacity": 1,
            "weight": 4
           },
           "turbid_label": "moderately turbid"
          },
          "type": "Feature"
         },
         {
          "geometry": {
           "coordinates": [
            [
             -124.18863659899995,
             40.82975987900005
            ],
            [
             -124.18845523699997,
             40.82993972700007
            ],
            [
             -124.188418201,
             40.829970064000065
            ],
            [
             -124.18836847899996,
             40.829997339000045
            ],
            [
             -124.18831263399994,
             40.83001849300007
            ],
            [
             -124.18813315199998,
             40.83007000500004
            ],
            [
             -124.18807710399994,
             40.83009095700004
            ],
            [
             -124.18802709599998,
             40.83011794600003
            ],
            [
             -124.18798975699997,
             40.830147983000074
            ],
            [
             -124.18778653499999,
             40.83034900300004
            ],
            [
             -124.18775697299998,
             40.830386815000054
            ],
            [
             -124.18773048999998,
             40.83044117900005
            ],
            [
             -124.18771227599996,
             40.830503812000075
            ],
            [
             -124.18770013699998,
             40.83057252200007
            ],
            [
             -124.18769240199998,
             40.83064563600004
            ],
            [
             -124.18768781399996,
             40.83072189500007
            ],
            [
             -124.18768542899994,
             40.83080035900008
            ],
            [
             -124.18768466599994,
             40.830961294000076
            ],
            [
             -124.18768823199997,
             40.83136910200005
            ],
            [
             -124.18768504999997,
             40.83152761700006
            ],
            [
             -124.18768051999996,
             40.83160393500003
            ],
            [
             -124.18767286099995,
             40.83167712300008
            ],
            [
             -124.18766081299998,
             40.83174592300003
            ],
            [
             -124.18764270699995,
             40.831808667000075
            ],
            [
             -124.18761635599998,
             40.83186316500007
            ],
            [
             -124.18758691999994,
             40.831901102000074
            ],
            [
             -124.18738474199995,
             40.832103166000024
            ],
            [
             -124.18734758299996,
             40.83213338000007
            ],
            [
             -124.18729773799998,
             40.832160534000025
            ],
            [
             -124.18724177299998,
             40.83218156800007
            ],
            [
             -124.18691329399996,
             40.83230545500004
            ],
            [
             -124.18646921799996,
             40.83252549100007
            ],
            [
             -124.18642550099997,
             40.83255877000005
            ],
            [
             -124.18639182799996,
             40.83260209600007
            ],
            [
             -124.18614385099994,
             40.833085606000054
            ],
            [
             -124.18611915399998,
             40.83314175700008
            ],
            [
             -124.18610138599996,
             40.83320483700004
            ],
            [
             -124.18608829699997,
             40.83327259600003
            ],
            [
             -124.18605868599997,
             40.833485531000065
            ],
            [
             -124.18604631699998,
             40.83355400900007
            ],
            [
             -124.18602957799999,
             40.83361812000004
            ],
            [
             -124.186006148,
             40.83367553800008
            ],
            [
             -124.18597318299999,
             40.83372342200005
            ],
            [
             -124.18593097799999,
             40.833758216000035
            ],
            [
             -124.18588081899998,
             40.83378505400003
            ],
            [
             -124.18571518299996,
             40.83385041400004
            ],
            [
             -124.18566512499996,
             40.83387735400004
            ],
            [
             -124.18562312199998,
             40.83391235000005
            ],
            [
             -124.18559185599997,
             40.83395808200004
            ],
            [
             -124.18556963299994,
             40.83401285700006
            ],
            [
             -124.18555410099998,
             40.83407432300004
            ],
            [
             -124.18533819399994,
             40.83497489300004
            ],
            [
             -124.18526258099996,
             40.83554419200004
            ]
           ],
           "type": "LineString"
          },
          "id": "5",
          "properties": {
           "CSU_ID": 19790,
           "ERODIBILITY": "High",
           "MEAN_SIG_WAVEHEIGHT": 2.305355,
           "TIDAL_RANGE": 2.979268,
           "river_label": "moderate river discharge",
           "sinuosity_label": "straight",
           "slope_label": "flat",
           "style": {
            "color": "yellow",
            "dashArray": "5",
            "fillOpacity": 0.5,
            "fill_color": "yellow",
            "opacity": 1,
            "weight": 4
           },
           "turbid_label": "moderately turbid"
          },
          "type": "Feature"
         },
         {
          "geometry": {
           "coordinates": [
            [
             -124.16115849999994,
             40.83534533400007
            ],
            [
             -124.16142558899998,
             40.83547850400004
            ],
            [
             -124.16147485199997,
             40.83550638400004
            ],
            [
             -124.16151148699998,
             40.83553722900007
            ],
            [
             -124.16171042699995,
             40.83574287500005
            ],
            [
             -124.16173948,
             40.83578122100005
            ],
            [
             -124.16176560399998,
             40.83583597100005
            ],
            [
             -124.16178389599997,
             40.835898548000046
            ],
            [
             -124.161796789,
             40.835966521000046
            ],
            [
             -124.16180630599996,
             40.83603786300006
            ],
            [
             -124.16182208499998,
             40.83618380200005
            ],
            [
             -124.16183157999996,
             40.83625516200004
            ],
            [
             -124.16184444199996,
             40.83632315400007
            ],
            [
             -124.16186270299994,
             40.83638574500003
            ],
            [
             -124.16188881899996,
             40.83644048200006
            ],
            [
             -124.16191790099998,
             40.836478777000025
            ],
            [
             -124.16211963199999,
             40.83668131400003
            ],
            [
             -124.16215777999997,
             40.83671054400003
            ],
            [
             -124.16221232799995,
             40.83673685300005
            ],
            [
             -124.16227471099995,
             40.83675533200005
            ],
            [
             -124.16234247499995,
             40.83676843100005
            ],
            [
             -124.16241358499997,
             40.83677818900003
            ],
            [
             -124.16255897599996,
             40.83679454900005
            ],
            [
             -124.16263004399997,
             40.83680437000004
            ],
            [
             -124.16269776599995,
             40.83681754600008
            ],
            [
             -124.162760161,
             40.83683606200003
            ],
            [
             -124.16281485099995,
             40.836862299000074
            ],
            [
             -124.16285330799997,
             40.83689129900006
            ],
            [
             -124.16306872499996,
             40.837081125000054
            ],
            [
             -124.16310458599997,
             40.837112939000065
            ],
            [
             -124.16333729599995,
             40.83735613400006
            ],
            [
             -124.16346383499996,
             40.837504257000035
            ],
            [
             -124.163496077,
             40.83754105300005
            ],
            [
             -124.16353256399998,
             40.83757372500003
            ],
            [
             -124.16375031599995,
             40.83776847300004
            ],
            [
             -124.163787878,
             40.837797254000066
            ],
            [
             -124.16383755799995,
             40.837821090000034
            ],
            [
             -124.16389248299998,
             40.83783604900003
            ],
            [
             -124.16394974699995,
             40.83784336400004
            ],
            [
             -124.16400649399998,
             40.83784362700004
            ],
            [
             -124.16405972499996,
             40.83783680800008
            ],
            [
             -124.16410610499997,
             40.83782224300006
            ],
            [
             -124.16414173199996,
             40.83779861900007
            ],
            [
             -124.16416126499996,
             40.83776978800006
            ],
            [
             -124.164170292,
             40.83773574400004
            ],
            [
             -124.16416954199997,
             40.83769941600008
            ],
            [
             -124.16415919199994,
             40.83766354000005
            ],
            [
             -124.16394320299997,
             40.83698353700004
            ],
            [
             -124.16391823299995,
             40.836925962000066
            ],
            [
             -124.16388311699995,
             40.836878753000065
            ],
            [
             -124.16383539999998,
             40.83684436100003
            ],
            [
             -124.16377753199998,
             40.83682031400008
            ],
            [
             -124.16371263099995,
             40.83680347100005
            ],
            [
             -124.16364323,
             40.836791283000025
            ],
            [
             -124.16342810999998,
             40.83676233700004
            ],
            [
             -124.16336020999995,
             40.836749061000035
            ],
            [
             -124.16329750899996,
             40.836730644000056
            ],
            [
             -124.16324244499998,
             40.83670464800008
            ],
            [
             -124.16320365299998,
             40.83667591900007
            ],
            [
             -124.162986263,
             40.83648859600004
            ],
            [
             -124.16295010999994,
             40.83645733900005
            ],
            [
             -124.16271634699996,
             40.83621935800005
            ],
            [
             -124.16264977099996,
             40.836151174000065
            ],
            [
             -124.16245982899994,
             40.83593684900006
            ],
            [
             -124.16242959799996,
             40.83589970100007
            ],
            [
             -124.16240218499996,
             40.83585011300005
            ],
            [
             -124.16238069299999,
             40.83579460000004
            ],
            [
             -124.16232760099996,
             40.83561667600003
            ],
            [
             -124.16230612399994,
             40.835561143000064
            ],
            [
             -124.16227872699994,
             40.83551152900003
            ],
            [
             -124.16224850799995,
             40.835474358000056
            ],
            [
             -124.16209618899995,
             40.83530325500004
            ]
           ],
           "type": "LineString"
          },
          "id": "6",
          "properties": {
           "CSU_ID": 19775,
           "ERODIBILITY": "High",
           "MEAN_SIG_WAVEHEIGHT": 2.305355,
           "TIDAL_RANGE": 2.979268,
           "river_label": "moderate river discharge",
           "sinuosity_label": "straight",
           "slope_label": "flat",
           "style": {
            "color": "yellow",
            "dashArray": "5",
            "fillOpacity": 0.5,
            "fill_color": "yellow",
            "opacity": 1,
            "weight": 4
           },
           "turbid_label": "clear"
          },
          "type": "Feature"
         },
         {
          "geometry": {
           "coordinates": [
            [
             -124.16095601599994,
             40.84036897500005
            ],
            [
             -124.160793722,
             40.84023099400008
            ],
            [
             -124.16076152199997,
             40.84019574100006
            ],
            [
             -124.160570711,
             40.83998204200003
            ],
            [
             -124.16054175399995,
             40.83994360400004
            ],
            [
             -124.16051678899998,
             40.83989155100005
            ],
            [
             -124.16049921499996,
             40.83983210900004
            ],
            [
             -124.16048709799998,
             40.83976721600004
            ],
            [
             -124.16047889699996,
             40.83969840900005
            ],
            [
             -124.16047337299995,
             40.839626929000076
            ],
            [
             -124.16046329699998,
             40.839405991000035
            ],
            [
             -124.16045934799996,
             40.83933293900003
            ],
            [
             -124.16045368899995,
             40.839261597000075
            ],
            [
             -124.16044530499994,
             40.83919298100005
            ],
            [
             -124.16043296599997,
             40.83912832100003
            ],
            [
             -124.16041513699997,
             40.83906915000006
            ],
            [
             -124.16038990099997,
             40.83901738600008
            ],
            [
             -124.160360718,
             40.838979195000036
            ],
            [
             -124.160171199,
             40.83876446800008
            ],
            [
             -124.15995315999999,
             40.83849163000008
            ],
            [
             -124.15975950199999,
             40.83809810300005
            ],
            [
             -124.15967062599998,
             40.837811438000074
            ],
            [
             -124.15941777799998,
             40.83686079700004
            ],
            [
             -124.15940477499998,
             40.836793595000074
            ],
            [
             -124.159395653,
             40.836722472000076
            ],
            [
             -124.15938938199997,
             40.836648515000036
            ],
            [
             -124.15938521299995,
             40.83657257100003
            ],
            [
             -124.15938261599996,
             40.83649531200007
            ],
            [
             -124.15938098699996,
             40.83633898900007
            ],
            [
             -124.15938382599995,
             40.83618340900006
            ],
            [
             -124.159387429,
             40.83610717500005
            ],
            [
             -124.15939312399996,
             40.83603284600008
            ],
            [
             -124.15940167899998,
             40.835961284000064
            ],
            [
             -124.15941414199995,
             40.83589360500008
            ],
            [
             -124.15943191399998,
             40.83583124000006
            ],
            [
             -124.15945681199997,
             40.83577602500003
            ],
            [
             -124.15969970599997,
             40.83527951100007
            ],
            [
             -124.15972788299996,
             40.835229696000056
            ],
            [
             -124.15975891599999,
             40.83519249400007
            ],
            [
             -124.159962286,
             40.834990936000054
            ],
            [
             -124.15999907499997,
             40.83496254900007
            ],
            [
             -124.16004843499996,
             40.83493931900006
            ],
            [
             -124.16010387299997,
             40.83492502400003
            ],
            [
             -124.16016287499997,
             40.83491832800007
            ],
            [
             -124.16022317299996,
             40.83491851400004
            ],
            [
             -124.16028260599995,
             40.83492547000003
            ],
            [
             -124.16033898799998,
             40.834939664000046
            ],
            [
             -124.16038998699997,
             40.83496215200006
            ],
            [
             -124.16115849999994,
             40.83534533400007
            ]
           ],
           "type": "LineString"
          },
          "id": "7",
          "properties": {
           "CSU_ID": 80386,
           "ERODIBILITY": "Non",
           "MEAN_SIG_WAVEHEIGHT": 2.305355,
           "TIDAL_RANGE": 2.979268,
           "river_label": "moderate river discharge",
           "sinuosity_label": "sinuous",
           "slope_label": "sloping",
           "style": {
            "color": "yellow",
            "dashArray": "5",
            "fillOpacity": 0.5,
            "fill_color": "yellow",
            "opacity": 1,
            "weight": 4
           },
           "turbid_label": "clear"
          },
          "type": "Feature"
         },
         {
          "geometry": {
           "coordinates": [
            [
             -124.15760623299997,
             40.83886704200006
            ],
            [
             -124.157578393,
             40.838848864000056
            ],
            [
             -124.15755249799997,
             40.838810617000036
            ],
            [
             -124.15753353699995,
             40.83875845800003
            ],
            [
             -124.15751941699995,
             40.838696656000025
            ],
            [
             -124.15742389999997,
             40.83822057900005
            ],
            [
             -124.15742685599997,
             40.83773754900005
            ],
            [
             -124.15750289099998,
             40.83732298500007
            ],
            [
             -124.157515392,
             40.83732018200004
            ],
            [
             -124.157542853,
             40.83732362300003
            ],
            [
             -124.157580898,
             40.83733431300004
            ],
            [
             -124.15762484299995,
             40.83735378800003
            ],
            [
             -124.15767052099994,
             40.83738313200007
            ],
            [
             -124.15771664299996,
             40.83742058900003
            ],
            [
             -124.15790941399996,
             40.83758689000007
            ],
            [
             -124.15795120899998,
             40.83762568600008
            ],
            [
             -124.15798205899995,
             40.837665506000064
            ],
            [
             -124.15800384299996,
             40.83771617700006
            ],
            [
             -124.15801639699998,
             40.83777296200003
            ],
            [
             -124.15802132099998,
             40.83783312300005
            ],
            [
             -124.15801946899995,
             40.83789431500003
            ],
            [
             -124.15801102799998,
             40.83795440700004
            ],
            [
             -124.15799557699995,
             40.838011315000074
            ],
            [
             -124.15774071599998,
             40.838757764000036
            ],
            [
             -124.15772184999997,
             40.838810023000065
            ],
            [
             -124.15769606099997,
             40.838848453000026
            ],
            [
             -124.15766828699998,
             40.83886682600007
            ],
            [
             -124.15763727299998,
             40.83887290100006
            ],
            [
             -124.15760623299997,
             40.83886704200006
            ]
           ],
           "type": "LineString"
          },
          "id": "8",
          "properties": {
           "CSU_ID": 80660,
           "ERODIBILITY": "Non",
           "MEAN_SIG_WAVEHEIGHT": 2.305355,
           "TIDAL_RANGE": 2.979268,
           "river_label": "moderate river discharge",
           "sinuosity_label": "straight",
           "slope_label": "flat",
           "style": {
            "color": "yellow",
            "dashArray": "5",
            "fillOpacity": 0.5,
            "fill_color": "yellow",
            "opacity": 1,
            "weight": 4
           },
           "turbid_label": "clear"
          },
          "type": "Feature"
         },
         {
          "geometry": {
           "coordinates": [
            [
             -124.18526258099996,
             40.83554419200004
            ],
            [
             -124.185256945,
             40.83558663100007
            ],
            [
             -124.18525115899996,
             40.835657842000046
            ],
            [
             -124.18524272199994,
             40.83572640500006
            ],
            [
             -124.18523040699995,
             40.835791088000065
            ],
            [
             -124.18521267199998,
             40.83585035200008
            ],
            [
             -124.18518758299996,
             40.83590226100006
            ],
            [
             -124.18515854799995,
             40.83594060100006
            ],
            [
             -124.18496793399999,
             40.836154228000055
            ],
            [
             -124.18493588499996,
             40.836189552000064
            ],
            [
             -124.18468260199995,
             40.836407886000075
            ],
            [
             -124.18464520799995,
             40.83643786500005
            ],
            [
             -124.18459555899994,
             40.83646521400004
            ],
            [
             -124.18454032399995,
             40.83648697900003
            ],
            [
             -124.18442359,
             40.83652424100006
            ],
            [
             -124.18436710599997,
             40.836544754000045
            ],
            [
             -124.18431539099998,
             40.83657003700006
            ],
            [
             -124.18427144799995,
             40.836603093000065
            ],
            [
             -124.18423752599995,
             40.83664616900006
            ],
            [
             -124.18398817999997,
             40.837128309000036
            ],
            [
             -124.18396363299996,
             40.837184609000076
            ],
            [
             -124.18394615499994,
             40.837247982000065
            ],
            [
             -124.183933562,
             40.83731623600005
            ],
            [
             -124.18392399899994,
             40.837387524000064
            ],
            [
             -124.18390755799999,
             40.837532777000035
            ],
            [
             -124.18389758199999,
             40.83760365000006
            ],
            [
             -124.18388419999997,
             40.83767111700007
            ],
            [
             -124.18386540799997,
             40.83773317400005
            ],
            [
             -124.18383878099996,
             40.83778739500008
            ],
            [
             -124.18380930899997,
             40.83782529500007
            ],
            [
             -124.18360778099998,
             40.83802800900003
            ],
            [
             -124.18357071099996,
             40.838058312000044
            ],
            [
             -124.18352097199994,
             40.83808557300006
            ],
            [
             -124.18346515999997,
             40.83810676000007
            ],
            [
             -124.18328617599997,
             40.838158770000064
            ],
            [
             -124.18323043699996,
             40.838180030000046
            ],
            [
             -124.18318079299996,
             40.83820738500003
            ],
            [
             -124.18314380699996,
             40.838237771000024
            ],
            [
             -124.18294087199996,
             40.83843907900007
            ],
            [
             -124.182910204,
             40.83847578500007
            ],
            [
             -124.18288251999996,
             40.83852510000003
            ],
            [
             -124.18286092999995,
             40.838580507000074
            ],
            [
             -124.18280803699997,
             40.83875861000007
            ],
            [
             -124.18278669199998,
             40.838814263000074
            ],
            [
             -124.18275943199995,
             40.838864003000026
            ],
            [
             -124.18272933399999,
             40.83890127800004
            ],
            [
             -124.18253937299994,
             40.83911555800006
            ],
            [
             -124.18247190599999,
             40.839182838000056
            ],
            [
             -124.18225689999997,
             40.83937207800005
            ],
            [
             -124.18221944899994,
             40.83940200100005
            ],
            [
             -124.18216948099996,
             40.839429031000066
            ],
            [
             -124.18211356199998,
             40.839450113000055
            ],
            [
             -124.181934432,
             40.83950198400004
            ],
            [
             -124.18187860999996,
             40.839523162000035
            ],
            [
             -124.18182885699997,
             40.83955041100006
            ],
            [
             -124.18179176299998,
             40.83958069800008
            ],
            [
             -124.18159032499995,
             40.839783554000064
            ],
            [
             -124.181561075,
             40.83982169500007
            ],
            [
             -124.18153596899998,
             40.83987361000004
            ],
            [
             -124.18151839399997,
             40.839933065000025
            ],
            [
             -124.18150636499996,
             40.83999807300006
            ],
            [
             -124.18149830299996,
             40.84006705500008
            ],
            [
             -124.18149294799997,
             40.840138756000044
            ],
            [
             -124.18147963499996,
             40.84043383300008
            ],
            [
             -124.181474128,
             40.84050548400006
            ],
            [
             -124.18146587799998,
             40.84057442400007
            ],
            [
             -124.18145364099996,
             40.84063941900007
            ],
            [
             -124.18143588099997,
             40.840698932000066
            ],
            [
             -124.18141066099997,
             40.840751037000075
            ],
            [
             -124.18115445399997,
             40.841191406000064
            ]
           ],
           "type": "LineString"
          },
          "id": "9",
          "properties": {
           "CSU_ID": 19775,
           "ERODIBILITY": "High",
           "MEAN_SIG_WAVEHEIGHT": 2.305355,
           "TIDAL_RANGE": 2.979268,
           "river_label": "moderate river discharge",
           "sinuosity_label": "straight",
           "slope_label": "flat",
           "style": {
            "color": "yellow",
            "dashArray": "5",
            "fillOpacity": 0.5,
            "fill_color": "yellow",
            "opacity": 1,
            "weight": 4
           },
           "turbid_label": "clear"
          },
          "type": "Feature"
         },
         {
          "geometry": {
           "coordinates": [
            [
             -124.15839921999998,
             40.84426494600007
            ],
            [
             -124.158362819,
             40.84425105300005
            ],
            [
             -124.158330746,
             40.84422789800004
            ],
            [
             -124.15814977899998,
             40.844046270000035
            ],
            [
             -124.158126714,
             40.84401403900006
            ],
            [
             -124.15811283899995,
             40.84397738000007
            ],
            [
             -124.15810814799994,
             40.84393796900008
            ],
            [
             -124.15811229199994,
             40.84389817400006
            ],
            [
             -124.15812540999997,
             40.843860300000074
            ],
            [
             -124.15833861799996,
             40.84343597000003
            ],
            [
             -124.15848319099996,
             40.84321721300006
            ],
            [
             -124.15851044399994,
             40.84317826100005
            ],
            [
             -124.15853315399994,
             40.84312740800004
            ],
            [
             -124.15854742599998,
             40.84307125300006
            ],
            [
             -124.15855433499996,
             40.84301212400004
            ],
            [
             -124.15855437399995,
             40.84295218800003
            ],
            [
             -124.15854745699994,
             40.842893580000066
            ],
            [
             -124.15853292399999,
             40.84283852600004
            ],
            [
             -124.15850950099997,
             40.842789475000075
            ],
            [
             -124.15848106199996,
             40.84275282600004
            ],
            [
             -124.15828941299998,
             40.84253983000008
            ],
            [
             -124.158067126,
             40.84226550300008
            ],
            [
             -124.15784082799996,
             40.84183066800006
            ],
            [
             -124.15781635399998,
             40.84177739100005
            ],
            [
             -124.15779881699996,
             40.84171730300005
            ],
            [
             -124.15778656999998,
             40.84165215400003
            ],
            [
             -124.15777837499996,
             40.84158335400008
            ],
            [
             -124.15777332399995,
             40.84151203500005
            ],
            [
             -124.15777080999999,
             40.84143914100008
            ],
            [
             -124.15777047999995,
             40.84136548600003
            ],
            [
             -124.15777221899998,
             40.84129182200007
            ],
            [
             -124.15777613999995,
             40.84121890100005
            ],
            [
             -124.15778257899996,
             40.84114753600005
            ],
            [
             -124.15779212499996,
             40.84107867200004
            ],
            [
             -124.15780564599999,
             40.84101345200003
            ],
            [
             -124.15782431699995,
             40.84095329100006
            ],
            [
             -124.15784967999997,
             40.84089996100005
            ],
            [
             -124.15787804599995,
             40.84085977900003
            ],
            [
             -124.15794064399995,
             40.84078706500003
            ],
            [
             -124.15796798599996,
             40.84074824400005
            ],
            [
             -124.15799111099994,
             40.84069770100007
            ],
            [
             -124.15800602799999,
             40.84064190000004
            ],
            [
             -124.15801374399996,
             40.84058308600004
            ],
            [
             -124.15801469499996,
             40.840523371000074
            ],
            [
             -124.15800874899998,
             40.84046487300003
            ],
            [
             -124.15799517699998,
             40.84040984300003
            ],
            [
             -124.15797260599999,
             40.84036081200003
            ],
            [
             -124.157944709,
             40.84032428200004
            ],
            [
             -124.15775373799994,
             40.840112833000035
            ],
            [
             -124.15761402699997,
             40.839980171000036
            ],
            [
             -124.15758197599996,
             40.839944142000036
            ],
            [
             -124.15755177899996,
             40.839885217000074
            ],
            [
             -124.15752986599995,
             40.839806743000054
            ],
            [
             -124.15751498299994,
             40.839714849000075
            ],
            [
             -124.15750578499996,
             40.839615750000064
            ],
            [
             -124.15750096999994,
             40.83951560600008
            ],
            [
             -124.15749934399997,
             40.83942047800008
            ],
            [
             -124.15749979699996,
             40.83933633600003
            ],
            [
             -124.15750289099998,
             40.83920944700003
            ],
            [
             -124.15779482599999,
             40.83920077500005
            ],
            [
             -124.158001631,
             40.83919747900006
            ],
            [
             -124.15810448499997,
             40.83919836900003
            ],
            [
             -124.15820023699996,
             40.839201897000066
            ],
            [
             -124.15828372199996,
             40.83920885200007
            ],
            [
             -124.15835155099995,
             40.83922006100005
            ],
            [
             -124.15841128699998,
             40.839236732000074
            ],
            [
             -124.158462666,
             40.839260628000034
            ],
            [
             -124.158502941,
             40.839294024000026
            ],
            [
             -124.15852989099994,
             40.839338490000046
            ],
            [
             -124.15854552299999,
             40.83939114700007
            ],
            [
             -124.15855210599995,
             40.83944857500006
            ],
            [
             -124.15855101799997,
             40.83950787500004
            ],
            [
             -124.15854289499998,
             40.83956644400007
            ],
            [
             -124.15852772999995,
             40.839621762000036
            ],
            [
             -124.15850493799996,
             40.83967120900007
            ],
            [
             -124.15847874299999,
             40.83970825400007
            ],
            [
             -124.15842253599999,
             40.83977384900004
            ],
            [
             -124.15840911199996,
             40.83979442700007
            ]
           ],
           "type": "LineString"
          },
          "id": "10",
          "properties": {
           "CSU_ID": 80660,
           "ERODIBILITY": "Non",
           "MEAN_SIG_WAVEHEIGHT": 2.305355,
           "TIDAL_RANGE": 2.979268,
           "river_label": "moderate river discharge",
           "sinuosity_label": "straight",
           "slope_label": "flat",
           "style": {
            "color": "yellow",
            "dashArray": "5",
            "fillOpacity": 0.5,
            "fill_color": "yellow",
            "opacity": 1,
            "weight": 4
           },
           "turbid_label": "clear"
          },
          "type": "Feature"
         },
         {
          "geometry": {
           "coordinates": [
            [
             -124.15840911199996,
             40.83979442700007
            ],
            [
             -124.15840040999996,
             40.83980777000005
            ],
            [
             -124.15838690599998,
             40.83984510100004
            ],
            [
             -124.15838233499994,
             40.839884304000066
            ],
            [
             -124.15838662899995,
             40.839923062000025
            ],
            [
             -124.15840020199994,
             40.83995904100004
            ],
            [
             -124.15842312499996,
             40.83999064300008
            ],
            [
             -124.15861282099996,
             40.84018083600006
            ],
            [
             -124.158649917,
             40.840210918000025
            ],
            [
             -124.15869991799997,
             40.84023812700008
            ],
            [
             -124.15875613499998,
             40.84025939500003
            ],
            [
             -124.158936601,
             40.840311952000036
            ],
            [
             -124.15899282799995,
             40.840333387000044
            ],
            [
             -124.15904294399996,
             40.84036087900006
            ],
            [
             -124.15908033299996,
             40.840391348000026
            ],
            [
             -124.15928567299994,
             40.84059220700004
            ],
            [
             -124.15931674999996,
             40.84062871000003
            ],
            [
             -124.15934488499994,
             40.84067777800004
            ],
            [
             -124.15986164299994,
             40.841710213000056
            ],
            [
             -124.15988652599998,
             40.84176358700006
            ],
            [
             -124.15990456699996,
             40.84182380000004
            ],
            [
             -124.15991741,
             40.841889104000074
            ],
            [
             -124.15992630099998,
             40.84195809000005
            ],
            [
             -124.15993214699995,
             40.842029618000026
            ],
            [
             -124.159935551,
             40.84210273300005
            ],
            [
             -124.15993685499996,
             40.842176606000066
            ],
            [
             -124.15993614699994,
             40.84225045300008
            ],
            [
             -124.15993327199999,
             40.84232348300003
            ],
            [
             -124.15992781999995,
             40.84239481900005
            ],
            [
             -124.15991908999996,
             40.842463430000066
            ],
            [
             -124.15990604999996,
             40.842528059000074
            ],
            [
             -124.15988728699995,
             40.84258712800005
            ],
            [
             -124.159860918,
             40.84263865400004
            ],
            [
             -124.15983055499998,
             40.84267644700003
            ],
            [
             -124.15962380299999,
             40.84287757100003
            ],
            [
             -124.15958629299996,
             40.84290783900008
            ],
            [
             -124.159536377,
             40.84293532800007
            ],
            [
             -124.15948086099996,
             40.84295716400004
            ],
            [
             -124.15936394099998,
             40.84299483400008
            ],
            [
             -124.159307776,
             40.84301592500003
            ],
            [
             -124.15925683199998,
             40.843042224000044
            ],
            [
             -124.15921428299998,
             40.84307691500004
            ],
            [
             -124.15918126699995,
             40.84312500800007
            ],
            [
             -124.15915796999997,
             40.843182839000065
            ],
            [
             -124.15914145499994,
             40.84324748300003
            ],
            [
             -124.15912931599996,
             40.84331654400006
            ],
            [
             -124.15909969999996,
             40.84353094000005
            ],
            [
             -124.15908607899996,
             40.84359884300005
            ],
            [
             -124.15906729599999,
             40.84366170700008
            ],
            [
             -124.159040915,
             40.84371710600004
            ],
            [
             -124.15901185299998,
             40.843756306000046
            ],
            [
             -124.15882200899995,
             40.84397782700006
            ],
            [
             -124.15879018899994,
             40.84401455100004
            ],
            [
             -124.15875412599996,
             40.84404679900007
            ],
            [
             -124.15854684799996,
             40.84422811400003
            ],
            [
             -124.15851406099995,
             40.84425119700006
            ],
            [
             -124.15847729199999,
             40.84426502000008
            ],
            [
             -124.15843819899999,
             40.844269516000054
            ],
            [
             -124.15839921999998,
             40.84426494600007
            ]
           ],
           "type": "LineString"
          },
          "id": "11",
          "properties": {
           "CSU_ID": 80660,
           "ERODIBILITY": "Non",
           "MEAN_SIG_WAVEHEIGHT": 2.305355,
           "TIDAL_RANGE": 2.979268,
           "river_label": "moderate river discharge",
           "sinuosity_label": "straight",
           "slope_label": "flat",
           "style": {
            "color": "yellow",
            "dashArray": "5",
            "fillOpacity": 0.5,
            "fill_color": "yellow",
            "opacity": 1,
            "weight": 4
           },
           "turbid_label": "clear"
          },
          "type": "Feature"
         },
         {
          "geometry": {
           "coordinates": [
            [
             -124.15992726499996,
             40.844888164000054
            ],
            [
             -124.15992768899997,
             40.84481836700007
            ],
            [
             -124.15993013699995,
             40.84473924900004
            ],
            [
             -124.15993474199996,
             40.844662397000036
            ],
            [
             -124.15994242099998,
             40.844588713000064
            ],
            [
             -124.15995439599999,
             40.84451941300006
            ],
            [
             -124.15997229599998,
             40.84445610900008
            ],
            [
             -124.15999824399995,
             40.84440091500005
            ],
            [
             -124.16002712299996,
             40.84436221900006
            ],
            [
             -124.16021585799996,
             40.844145999000034
            ],
            [
             -124.16024738399994,
             40.84411008200004
            ],
            [
             -124.16028321399995,
             40.84407847400007
            ],
            [
             -124.16049860599998,
             40.843889269000044
            ],
            [
             -124.16053708799996,
             40.84386029700005
            ],
            [
             -124.16059033199997,
             40.84383483400006
            ],
            [
             -124.16065125499995,
             40.843817028000046
            ],
            [
             -124.16071788999994,
             40.84380490600006
            ],
            [
             -124.16078872399999,
             40.84379694900008
            ],
            [
             -124.16086261299995,
             40.84379200400008
            ],
            [
             -124.160938698,
             40.843789205000064
            ],
            [
             -124.16109512399998,
             40.843787657000064
            ],
            [
             -124.16165834599997,
             40.84379421400007
            ],
            [
             -124.16181819299999,
             40.84379347400005
            ],
            [
             -124.16189658699994,
             40.84379134200003
            ],
            [
             -124.16197315499994,
             40.84378731700008
            ],
            [
             -124.16204697999996,
             40.84378060100005
            ],
            [
             -124.16211679599996,
             40.84377013000005
            ],
            [
             -124.16218087899995,
             40.843754485000034
            ],
            [
             -124.16223690599998,
             40.84373180000006
            ],
            [
             -124.162281797,
             40.84369966000003
            ],
            [
             -124.16231236599998,
             40.84365729600006
            ],
            [
             -124.16233113399994,
             40.843606874000045
            ],
            [
             -124.16233986599997,
             40.84355184400005
            ],
            [
             -124.16233943199995,
             40.843495346000054
            ],
            [
             -124.16232982699995,
             40.84344041400004
            ],
            [
             -124.16231018399998,
             40.84339018000003
            ],
            [
             -124.16227873999998,
             40.84334808300008
            ],
            [
             -124.16223402099996,
             40.84331681100008
            ],
            [
             -124.16217858599998,
             40.843294677000074
            ],
            [
             -124.16211539799997,
             40.843279333000055
            ],
            [
             -124.16204674199997,
             40.84326891400008
            ],
            [
             -124.16197438699999,
             40.843261935000044
            ],
            [
             -124.16189972499996,
             40.84325718600007
            ],
            [
             -124.16167250899997,
             40.843246573000044
            ],
            [
             -124.16159884199999,
             40.84324120400004
            ],
            [
             -124.161527907,
             40.84323322600005
            ],
            [
             -124.16146098599995,
             40.84322134900003
            ],
            [
             -124.16139966699996,
             40.84320398400007
            ],
            [
             -124.161345956,
             40.843179131000056
            ],
            [
             -124.16130632599999,
             40.84315013600008
            ],
            [
             -124.16127144799998,
             40.843116535000036
            ],
            [
             -124.16113374699995,
             40.842983383000046
            ],
            [
             -124.16110014199995,
             40.84295081100004
            ],
            [
             -124.16107177299995,
             40.842914147000045
            ],
            [
             -124.16104866999996,
             40.842864880000036
            ],
            [
             -124.16103458299995,
             40.84280950900006
            ],
            [
             -124.16102813699996,
             40.842750558000034
            ],
            [
             -124.16102858599999,
             40.84269029200004
            ],
            [
             -124.161035788,
             40.84263086200008
            ],
            [
             -124.16105016699998,
             40.84257441900007
            ],
            [
             -124.161295796,
             40.84189900400003
            ],
            [
             -124.16144856499994,
             40.841597954000065
            ],
            [
             -124.16147680499995,
             40.84155729200006
            ],
            [
             -124.16150190499997,
             40.84150363100008
            ],
            [
             -124.16152025599996,
             40.84144326900008
            ],
            [
             -124.16153344699995,
             40.841377916000056
            ],
            [
             -124.16154267499996,
             40.84130895900006
            ],
            [
             -124.16154880299996,
             40.841237541000055
            ],
            [
             -124.16155238099998,
             40.84116463500004
            ],
            [
             -124.16155369699999,
             40.84109111400005
            ],
            [
             -124.16155275799997,
             40.841017831000045
            ],
            [
             -124.161549305,
             40.84094567600005
            ],
            [
             -124.16154278899995,
             40.840875666000045
            ],
            [
             -124.16153231899995,
             40.84080901900006
            ],
            [
             -124.16151661599997,
             40.84074724800007
            ],
            [
             -124.161493931,
             40.84069226500003
            ],
            [
             -124.16146195199997,
             40.84064649100003
            ],
            [
             -124.161418949,
             40.84061172200006
            ],
            [
             -124.16136751,
             40.84058542100007
            ],
            [
             -124.16131088099996,
             40.84056436600008
            ],
            [
             -124.16119321499997,
             40.84052686800004
            ],
            [
             -124.16113739699995,
             40.840505214000075
            ],
            [
             -124.16108715599995,
             40.84047804900007
            ],
            [
             -124.16104926799994,
             40.84044825800004
            ],
            [
             -124.16095601599994,
             40.84036897500005
            ]
           ],
           "type": "LineString"
          },
          "id": "12",
          "properties": {
           "CSU_ID": 18876,
           "ERODIBILITY": "High",
           "MEAN_SIG_WAVEHEIGHT": 2.305355,
           "TIDAL_RANGE": 2.979268,
           "river_label": "moderate river discharge",
           "sinuosity_label": "sinuous",
           "slope_label": "sloping",
           "style": {
            "color": "yellow",
            "dashArray": "5",
            "fillOpacity": 0.5,
            "fill_color": "yellow",
            "opacity": 1,
            "weight": 4
           },
           "turbid_label": "clear"
          },
          "type": "Feature"
         },
         {
          "geometry": {
           "coordinates": [
            [
             -124.18115445399997,
             40.841191406000064
            ],
            [
             -124.18085987299997,
             40.84169772600006
            ],
            [
             -124.18026711299996,
             40.842219476000025
            ],
            [
             -124.180217154,
             40.842247117000056
            ],
            [
             -124.18017995999998,
             40.84227777500007
            ],
            [
             -124.17997904099997,
             40.84248298800003
            ],
            [
             -124.17994983799997,
             40.842521342000055
            ],
            [
             -124.17992354299997,
             40.842576078000036
            ],
            [
             -124.17990503799996,
             40.842638571000066
            ],
            [
             -124.17989180999996,
             40.842706312000075
            ],
            [
             -124.17986348599999,
             40.84292077500004
            ],
            [
             -124.17985160299997,
             40.842989791000036
            ],
            [
             -124.17983510699997,
             40.84305418400004
            ],
            [
             -124.17981144999999,
             40.84311140900007
            ],
            [
             -124.17977749999994,
             40.84315833200003
            ],
            [
             -124.17973079399997,
             40.84319249500004
            ],
            [
             -124.17967379399994,
             40.84321636100003
            ],
            [
             -124.17960963099995,
             40.843233059000056
            ],
            [
             -124.17954085199995,
             40.84324514000008
            ],
            [
             -124.17932706,
             40.84327391700003
            ],
            [
             -124.17925947199996,
             40.843287184000076
            ],
            [
             -124.179197037,
             40.84330560600006
            ],
            [
             -124.17914220399996,
             40.843331628000044
            ],
            [
             -124.17910358499995,
             40.84336039300007
            ],
            [
             -124.17888707999998,
             40.84354821000005
            ],
            [
             -124.178851066,
             40.84357959600004
            ],
            [
             -124.17803531599998,
             40.844389929000045
            ],
            [
             -124.17800295099994,
             40.84442603400004
            ],
            [
             -124.17781126299997,
             40.84463995100003
            ],
            [
             -124.17778345699998,
             40.84467682300004
            ],
            [
             -124.17776104399996,
             40.844725880000055
            ],
            [
             -124.177747937,
             40.84478051700006
            ],
            [
             -124.17774302899994,
             40.84483807500004
            ],
            [
             -124.17774588799995,
             40.84489604200007
            ],
            [
             -124.17775674099994,
             40.84495190700005
            ],
            [
             -124.17777648999999,
             40.84500299500007
            ],
            [
             -124.17780673899995,
             40.84504631200008
            ],
            [
             -124.17784858299996,
             40.84507963600004
            ],
            [
             -124.177898847,
             40.845105199000045
            ],
            [
             -124.17795364399996,
             40.84512600200003
            ],
            [
             -124.17806259799994,
             40.845163942000056
            ],
            [
             -124.17810951799999,
             40.84518616200006
            ],
            [
             -124.17814598899997,
             40.845214112000065
            ],
            [
             -124.17816634899998,
             40.845244801000035
            ],
            [
             -124.178176179,
             40.84527943200004
            ],
            [
             -124.17817612199997,
             40.84531542800005
            ],
            [
             -124.17816627899998,
             40.845350300000064
            ],
            [
             -124.17794408099996,
             40.84581891300007
            ],
            [
             -124.17791520599997,
             40.84586828700003
            ],
            [
             -124.177369506,
             40.84667901200004
            ],
            [
             -124.17736816899998,
             40.84668061600007
            ]
           ],
           "type": "LineString"
          },
          "id": "13",
          "properties": {
           "CSU_ID": 19775,
           "ERODIBILITY": "High",
           "MEAN_SIG_WAVEHEIGHT": 2.305355,
           "TIDAL_RANGE": 2.979268,
           "river_label": "moderate river discharge",
           "sinuosity_label": "straight",
           "slope_label": "flat",
           "style": {
            "color": "yellow",
            "dashArray": "5",
            "fillOpacity": 0.5,
            "fill_color": "yellow",
            "opacity": 1,
            "weight": 4
           },
           "turbid_label": "clear"
          },
          "type": "Feature"
         },
         {
          "geometry": {
           "coordinates": [
            [
             -124.15464490499994,
             40.84804745800005
            ],
            [
             -124.15477044999994,
             40.84799910800007
            ],
            [
             -124.155229739,
             40.84778654300004
            ],
            [
             -124.15527926399994,
             40.84775880300003
            ],
            [
             -124.15531589699998,
             40.84772824800007
            ],
            [
             -124.15550238799995,
             40.84753587600005
            ],
            [
             -124.15552482799995,
             40.84750417400005
            ],
            [
             -124.15553808199996,
             40.84746830500006
            ],
            [
             -124.15554232199997,
             40.84742993500004
            ],
            [
             -124.15553810499995,
             40.84739147300007
            ],
            [
             -124.15552553899994,
             40.847355314000026
            ],
            [
             -124.15550517499997,
             40.84732309300006
            ],
            [
             -124.15545596399994,
             40.84726331200005
            ],
            [
             -124.15543554399994,
             40.847231039000064
            ],
            [
             -124.15542289099994,
             40.84719479700004
            ],
            [
             -124.15541855199996,
             40.84715622500005
            ],
            [
             -124.15542265299996,
             40.84711772800006
            ],
            [
             -124.15543575899994,
             40.847081728000035
            ],
            [
             -124.155458061,
             40.84704990900008
            ],
            [
             -124.15548684899994,
             40.84702075200005
            ],
            [
             -124.15561311899995,
             40.84689291400008
            ],
            [
             -124.15564626399998,
             40.84685952500007
            ],
            [
             -124.15568437799999,
             40.84683053800006
            ],
            [
             -124.15573652599994,
             40.84680554000005
            ],
            [
             -124.15579637099995,
             40.84678794300004
            ],
            [
             -124.15586185299998,
             40.84677582000006
            ],
            [
             -124.15593133299996,
             40.846767629000055
            ],
            [
             -124.156003522,
             40.84676213600005
            ],
            [
             -124.156300161,
             40.846748510000054
            ],
            [
             -124.15637208599998,
             40.846743024000034
            ],
            [
             -124.15644125899996,
             40.846734843000036
            ],
            [
             -124.15650644699997,
             40.84672273100006
            ],
            [
             -124.156566119,
             40.84670515200003
            ],
            [
             -124.15661835099996,
             40.84668017400003
            ],
            [
             -124.15665691499999,
             40.84665121000006
            ],
            [
             -124.15687155199998,
             40.84646107000003
            ],
            [
             -124.15690721799996,
             40.84642931500008
            ],
            [
             -124.15713821299994,
             40.84618850600003
            ],
            [
             -124.15726242099998,
             40.84604313700004
            ],
            [
             -124.15729366999994,
             40.846006989000045
            ],
            [
             -124.15752866399998,
             40.845770007000056
            ],
            [
             -124.15759591299997,
             40.845702291000066
            ],
            [
             -124.15781011899998,
             40.84551090100007
            ],
            [
             -124.15784828299996,
             40.845481310000025
            ],
            [
             -124.15790258799996,
             40.84545422100007
            ],
            [
             -124.15870882499996,
             40.84518407300004
            ],
            [
             -124.15876506799998,
             40.84517045200005
            ],
            [
             -124.15882425599995,
             40.84516403300006
            ],
            [
             -124.15888425699995,
             40.845164381000075
            ],
            [
             -124.15894296399995,
             40.84517162700007
            ],
            [
             -124.15899815699998,
             40.84518647800007
            ],
            [
             -124.15904738999996,
             40.84521024900005
            ],
            [
             -124.15908422599995,
             40.84523905400005
            ],
            [
             -124.15929733299998,
             40.84543657200004
            ],
            [
             -124.15933344099994,
             40.845470170000056
            ],
            [
             -124.15936545999995,
             40.84550798200007
            ],
            [
             -124.15942462499999,
             40.84558853400006
            ],
            [
             -124.15945656599996,
             40.845626269000036
            ],
            [
             -124.15949249699997,
             40.84565969000005
            ],
            [
             -124.15969438699994,
             40.84584599100003
            ],
            [
             -124.15972494099998,
             40.845868514000074
            ],
            [
             -124.15975870299997,
             40.84588089700003
            ],
            [
             -124.15979374999995,
             40.84588277900008
            ],
            [
             -124.15982730899998,
             40.84587401700003
            ],
            [
             -124.15985648299994,
             40.84585383700005
            ],
            [
             -124.15988274699998,
             40.84581393600007
            ],
            [
             -124.15990091799995,
             40.84576047000007
            ],
            [
             -124.15991312099999,
             40.84569722500004
            ],
            [
             -124.15992098799995,
             40.845627053000044
            ],
            [
             -124.15992574399996,
             40.84555205800007
            ],
            [
             -124.15992937699997,
             40.845393356000045
            ],
            [
             -124.15992670299994,
             40.84498085900003
            ],
            [
             -124.15992726499996,
             40.844888164000054
            ]
           ],
           "type": "LineString"
          },
          "id": "14",
          "properties": {
           "CSU_ID": 18876,
           "ERODIBILITY": "High",
           "MEAN_SIG_WAVEHEIGHT": 2.305355,
           "TIDAL_RANGE": 2.979268,
           "river_label": "moderate river discharge",
           "sinuosity_label": "sinuous",
           "slope_label": "sloping",
           "style": {
            "color": "yellow",
            "dashArray": "5",
            "fillOpacity": 0.5,
            "fill_color": "yellow",
            "opacity": 1,
            "weight": 4
           },
           "turbid_label": "clear"
          },
          "type": "Feature"
         },
         {
          "geometry": {
           "coordinates": [
            [
             -124.17736816899998,
             40.84668061600007
            ],
            [
             -124.17733884199998,
             40.84671577600005
            ],
            [
             -124.17711416599997,
             40.84696290900007
            ],
            [
             -124.17707825699995,
             40.84699438700005
            ],
            [
             -124.17700156499996,
             40.84705246200008
            ],
            [
             -124.17696567099995,
             40.84708395100006
            ],
            [
             -124.17693392899997,
             40.84711959400005
            ],
            [
             -124.17674357499999,
             40.84733354800005
            ],
            [
             -124.17671437399997,
             40.84737174000003
            ],
            [
             -124.17668786099995,
             40.84742610200004
            ],
            [
             -124.17666902499997,
             40.847488148000025
            ],
            [
             -124.176655488,
             40.847555500000055
            ],
            [
             -124.17664526599998,
             40.84762617700005
            ],
            [
             -124.17662800999994,
             40.84777076100005
            ],
            [
             -124.17661779499997,
             40.84784149500007
            ],
            [
             -124.17660428,
             40.847908948000054
            ],
            [
             -124.17658549199996,
             40.847971158000064
            ],
            [
             -124.17655906999994,
             40.84802576800007
            ],
            [
             -124.17604395599994,
             40.84878501400004
            ],
            [
             -124.17601050499997,
             40.84882546100005
            ],
            [
             -124.17596707399997,
             40.84885385000007
            ],
            [
             -124.17591583599994,
             40.848871494000036
            ],
            [
             -124.17585972899997,
             40.84888016900004
            ],
            [
             -124.175801332,
             40.84888092800003
            ],
            [
             -124.17574303599997,
             40.84887416500004
            ],
            [
             -124.17568717399996,
             40.848859642000036
            ],
            [
             -124.17563616899997,
             40.84883651800004
            ],
            [
             -124.17559674899996,
             40.848808947000066
            ],
            [
             -124.17552272799998,
             40.84874548200003
            ],
            [
             -124.17548201499994,
             40.84871662000006
            ],
            [
             -124.17542544699995,
             40.84868970900004
            ],
            [
             -124.17536188999998,
             40.848670456000036
            ],
            [
             -124.17529359899999,
             40.84865739800006
            ],
            [
             -124.17522251799994,
             40.848649590000036
            ],
            [
             -124.17515041399997,
             40.84864659600004
            ],
            [
             -124.17507901899995,
             40.84864847600005
            ],
            [
             -124.17501016499995,
             40.84865582600003
            ],
            [
             -124.17494594599998,
             40.84866983000006
            ],
            [
             -124.174888883,
             40.84869234300004
            ],
            [
             -124.17484208599996,
             40.84872600700004
            ],
            [
             -124.17480800499999,
             40.848772936000046
            ],
            [
             -124.17478416799997,
             40.84883043000008
            ],
            [
             -124.17476743499998,
             40.84889519400008
            ],
            [
             -124.17475525699996,
             40.84896457700006
            ],
            [
             -124.17472576999995,
             40.84917963100003
            ],
            [
             -124.17471212699996,
             40.849247380000065
            ],
            [
             -124.17469326699995,
             40.849309841000036
            ],
            [
             -124.17466675999998,
             40.849364585000046
            ],
            [
             -124.17463757499996,
             40.84940306300007
            ],
            [
             -124.17444925899997,
             40.84962002900005
            ],
            [
             -124.17431657399999,
             40.84975712900007
            ],
            [
             -124.17428727699996,
             40.84979524900007
            ],
            [
             -124.174261291,
             40.84984857000006
            ],
            [
             -124.17424313699996,
             40.849909712000056
            ],
            [
             -124.17423079799994,
             40.84997666600003
            ],
            [
             -124.17422271199996,
             40.85004786400003
            ],
            [
             -124.17421767099995,
             40.85012210300005
            ],
            [
             -124.17421318199996,
             40.850276163000046
            ],
            [
             -124.17420969399996,
             40.850589754000055
            ],
            [
             -124.17420688299995,
             40.85066620900005
            ],
            [
             -124.17420200099997,
             40.85074059300007
            ],
            [
             -124.17419411099996,
             40.85081196700003
            ],
            [
             -124.17418199499997,
             40.850879117000034
            ],
            [
             -124.17416407999997,
             40.850940465000065
            ],
            [
             -124.17413832999995,
             40.850993978000076
            ],
            [
             -124.17410920599997,
             40.85103223100003
            ],
            [
             -124.173918271,
             40.85124553700007
            ],
            [
             -124.17388644399995,
             40.851281087000075
            ],
            [
             -124.17385046899994,
             40.85131248500005
            ],
            [
             -124.17370525299998,
             40.85143676300004
            ],
            [
             -124.17350108399995,
             40.85163683600007
            ],
            [
             -124.17343328599998,
             40.85170378600003
            ],
            [
             -124.17334851899994,
             40.85178786200004
            ]
           ],
           "type": "LineString"
          },
          "id": "15",
          "properties": {
           "CSU_ID": 19775,
           "ERODIBILITY": "High",
           "MEAN_SIG_WAVEHEIGHT": 2.305355,
           "TIDAL_RANGE": 2.979268,
           "river_label": "moderate river discharge",
           "sinuosity_label": "straight",
           "slope_label": "flat",
           "style": {
            "color": "yellow",
            "dashArray": "5",
            "fillOpacity": 0.5,
            "fill_color": "yellow",
            "opacity": 1,
            "weight": 4
           },
           "turbid_label": "clear"
          },
          "type": "Feature"
         },
         {
          "geometry": {
           "coordinates": [
            [
             -124.15534058699996,
             40.85429963800004
            ],
            [
             -124.15534014399998,
             40.85428103100003
            ],
            [
             -124.155340159,
             40.854038444000025
            ],
            [
             -124.15534722599995,
             40.85346541800004
            ],
            [
             -124.15534932999998,
             40.853139913000064
            ],
            [
             -124.15534792399995,
             40.85297961300006
            ],
            [
             -124.15534584,
             40.85290084600007
            ],
            [
             -124.15534227799998,
             40.852823553000064
            ],
            [
             -124.15533662899998,
             40.852748345000066
            ],
            [
             -124.15532806899995,
             40.852676047000045
            ],
            [
             -124.15531550399999,
             40.85260775300003
            ],
            [
             -124.15529749599995,
             40.85254489600004
            ],
            [
             -124.15527219499995,
             40.85248932700006
            ],
            [
             -124.15524471099997,
             40.85244941900004
            ],
            [
             -124.155183266,
             40.85237605900005
            ],
            [
             -124.15515588399995,
             40.85233602900007
            ],
            [
             -124.15513121199996,
             40.852281385000026
            ],
            [
             -124.15511366599998,
             40.85221960200005
            ],
            [
             -124.15510147099997,
             40.85215245200004
            ],
            [
             -124.15509322599996,
             40.85208133000003
            ],
            [
             -124.15508783599995,
             40.852007334000064
            ],
            [
             -124.15508229299996,
             40.85185400700004
            ],
            [
             -124.15507784799996,
             40.85161984200005
            ],
            [
             -124.15507515299998,
             40.851542892000055
            ],
            [
             -124.15507074699997,
             40.851467584000034
            ],
            [
             -124.15506374799998,
             40.85139480700008
            ],
            [
             -124.155053007,
             40.85132570500008
            ],
            [
             -124.15503703799999,
             40.85126176400007
            ],
            [
             -124.15501392099998,
             40.85120493000005
            ],
            [
             -124.15498117499999,
             40.85115770900006
            ],
            [
             -124.15493842099994,
             40.85112281500005
            ],
            [
             -124.15488761299997,
             40.85109608600004
            ],
            [
             -124.15472070399994,
             40.851032460000056
            ],
            [
             -124.15467096999998,
             40.85100686200008
            ],
            [
             -124.154630054,
             40.85097388300005
            ],
            [
             -124.15460098199998,
             40.85093112800007
            ],
            [
             -124.15458254099997,
             40.850880688000075
            ],
            [
             -124.15457301199996,
             40.85082543400006
            ],
            [
             -124.15457137299995,
             40.85076791100005
            ],
            [
             -124.15457725999994,
             40.85071049100003
            ],
            [
             -124.15459090699994,
             40.85065550000007
            ],
            [
             -124.15461316399995,
             40.85060535800005
            ],
            [
             -124.15463997999996,
             40.85056668500005
            ],
            [
             -124.15470195799998,
             40.850494138000045
            ],
            [
             -124.15473009199997,
             40.85045414500007
            ],
            [
             -124.15475616499998,
             40.850398400000074
            ],
            [
             -124.15477466199997,
             40.85033557700007
            ],
            [
             -124.15478711699996,
             40.85026786800006
            ],
            [
             -124.15479457899994,
             40.85019709800008
            ],
            [
             -124.15479766399994,
             40.850124866000044
            ],
            [
             -124.15479655499996,
             40.850052650000066
            ],
            [
             -124.15479101199998,
             40.849981925000066
            ],
            [
             -124.154780357,
             40.84991428300003
            ],
            [
             -124.15476342699998,
             40.84985153500003
            ],
            [
             -124.15473853099996,
             40.84979584800004
            ],
            [
             -124.15451342199998,
             40.84935900700003
            ],
            [
             -124.15436799099996,
             40.84914241300004
            ],
            [
             -124.15428785899996,
             40.84899691000004
            ],
            [
             -124.15407878599996,
             40.848578340000074
            ],
            [
             -124.154065791,
             40.84854135300003
            ],
            [
             -124.15406175399994,
             40.848502472000064
            ],
            [
             -124.15406657399996,
             40.84846396800003
            ],
            [
             -124.15408063999996,
             40.84842815800005
            ],
            [
             -124.154104013,
             40.848396637000064
            ],
            [
             -124.15429567199999,
             40.848205963000055
            ],
            [
             -124.15433291099998,
             40.84817564700006
            ],
            [
             -124.15438302999996,
             40.84814814600003
            ],
            [
             -124.15443937699996,
             40.848126609000076
            ],
            [
             -124.15464490499994,
             40.84804745800005
            ]
           ],
           "type": "LineString"
          },
          "id": "16",
          "properties": {
           "CSU_ID": 18482,
           "ERODIBILITY": "High",
           "MEAN_SIG_WAVEHEIGHT": 2.305355,
           "TIDAL_RANGE": 2.979268,
           "river_label": "moderate river discharge",
           "sinuosity_label": "sinuous",
           "slope_label": "flat",
           "style": {
            "color": "yellow",
            "dashArray": "5",
            "fillOpacity": 0.5,
            "fill_color": "yellow",
            "opacity": 1,
            "weight": 4
           },
           "turbid_label": "clear"
          },
          "type": "Feature"
         },
         {
          "geometry": {
           "coordinates": [
            [
             -124.148017633,
             40.85374962700007
            ],
            [
             -124.14796419099997,
             40.85374174900005
            ],
            [
             -124.14791419599999,
             40.85372765300008
            ],
            [
             -124.147869701,
             40.85370615000005
            ],
            [
             -124.14783213399994,
             40.85367649600005
            ],
            [
             -124.14763067599995,
             40.85347894900008
            ],
            [
             -124.14760322099994,
             40.85344671900003
            ],
            [
             -124.14758569699995,
             40.85340940300006
            ],
            [
             -124.14758071399996,
             40.853364499000065
            ],
            [
             -124.14758928299995,
             40.853314271000045
            ],
            [
             -124.14761115999994,
             40.85326345900006
            ],
            [
             -124.14780108599996,
             40.85295367000003
            ],
            [
             -124.14799682599994,
             40.85294750000003
            ],
            [
             -124.14808779199996,
             40.85294662800004
            ],
            [
             -124.148184255,
             40.85294821700006
            ],
            [
             -124.14828057399995,
             40.85295341900007
            ],
            [
             -124.14837098399994,
             40.85296349500004
            ],
            [
             -124.14844956499996,
             40.852979799000025
            ],
            [
             -124.14851031999996,
             40.85300369500004
            ],
            [
             -124.14855117899998,
             40.85303681700003
            ],
            [
             -124.14857677099997,
             40.853076962000046
            ],
            [
             -124.14859305299996,
             40.85312424400007
            ],
            [
             -124.14860187099998,
             40.85317598000006
            ],
            [
             -124.14860435999998,
             40.85322993500006
            ],
            [
             -124.14860103399997,
             40.85328414700007
            ],
            [
             -124.14859185899996,
             40.85333677800003
            ],
            [
             -124.14857628599998,
             40.85338597300006
            ],
            [
             -124.148553258,
             40.853429736000066
            ],
            [
             -124.14852219199997,
             40.85346681000004
            ],
            [
             -124.14831288899995,
             40.85367343900003
            ],
            [
             -124.14827523999998,
             40.853703652000036
            ],
            [
             -124.14823085699999,
             40.85372577800007
            ],
            [
             -124.14818103199997,
             40.85374051000008
            ],
            [
             -124.14812772699997,
             40.85374901300003
            ],
            [
             -124.14807270399996,
             40.85375197500008
            ],
            [
             -124.148017633,
             40.85374962700007
            ]
           ],
           "type": "LineString"
          },
          "id": "17",
          "properties": {
           "CSU_ID": 80660,
           "ERODIBILITY": "Non",
           "MEAN_SIG_WAVEHEIGHT": 2.305355,
           "TIDAL_RANGE": 2.979268,
           "river_label": "moderate river discharge",
           "sinuosity_label": "straight",
           "slope_label": "flat",
           "style": {
            "color": "yellow",
            "dashArray": "5",
            "fillOpacity": 0.5,
            "fill_color": "yellow",
            "opacity": 1,
            "weight": 4
           },
           "turbid_label": "clear"
          },
          "type": "Feature"
         },
         {
          "geometry": {
           "coordinates": [
            [
             -124.17334851899994,
             40.85178786200004
            ],
            [
             -124.17323033699995,
             40.85190507900006
            ],
            [
             -124.172892172,
             40.852240651000045
            ],
            [
             -124.17268930899996,
             40.85244203000008
            ],
            [
             -124.17262229599999,
             40.85250976400005
            ],
            [
             -124.17243138299995,
             40.852723092000076
            ],
            [
             -124.17240102599999,
             40.85276010800004
            ],
            [
             -124.17237346999997,
             40.852809551000064
            ],
            [
             -124.17235184099997,
             40.85286492000006
            ],
            [
             -124.17229831499998,
             40.85304239000004
            ],
            [
             -124.17227668099997,
             40.85309775400003
            ],
            [
             -124.172249121,
             40.85314719300004
            ],
            [
             -124.17221875899997,
             40.85318420400006
            ],
            [
             -124.17202775599998,
             40.85339744400005
            ],
            [
             -124.17196068599998,
             40.853465121000056
            ],
            [
             -124.17172551199997,
             40.853701562000026
            ],
            [
             -124.17168956399996,
             40.85373298800005
            ],
            [
             -124.17154497699994,
             40.85385789600008
            ],
            [
             -124.17134141799994,
             40.854058578000036
            ],
            [
             -124.17127412399998,
             40.85412603100008
            ],
            [
             -124.17108205399995,
             40.854338203000054
            ],
            [
             -124.17105148099995,
             40.854375005000065
            ],
            [
             -124.17102369699995,
             40.854424219000066
            ],
            [
             -124.17080957099995,
             40.854874203000065
            ],
            [
             -124.170681157,
             40.855198157000075
            ],
            [
             -124.16985172199998,
             40.85687117200007
            ],
            [
             -124.16982370399995,
             40.85692015200004
            ],
            [
             -124.16979293999998,
             40.85695676000006
            ],
            [
             -124.16960187399997,
             40.85716993600005
            ],
            [
             -124.16946735299996,
             40.85730491100003
            ],
            [
             -124.16943658899999,
             40.85734152100008
            ],
            [
             -124.16940857099996,
             40.857390501000054
            ],
            [
             -124.16923808299998,
             40.85774527600006
            ]
           ],
           "type": "LineString"
          },
          "id": "18",
          "properties": {
           "CSU_ID": 20274,
           "ERODIBILITY": "High",
           "MEAN_SIG_WAVEHEIGHT": 2.305355,
           "TIDAL_RANGE": 2.979268,
           "river_label": "moderate river discharge",
           "sinuosity_label": "straight",
           "slope_label": "sloping",
           "style": {
            "color": "yellow",
            "dashArray": "5",
            "fillOpacity": 0.5,
            "fill_color": "yellow",
            "opacity": 1,
            "weight": 4
           },
           "turbid_label": "clear"
          },
          "type": "Feature"
         },
         {
          "geometry": {
           "coordinates": [
            [
             -124.14335350899995,
             40.85754427900008
            ],
            [
             -124.143392329,
             40.857505411000034
            ],
            [
             -124.14345964999995,
             40.85743788000008
            ],
            [
             -124.14366143599995,
             40.85723474300005
            ],
            [
             -124.14372860999998,
             40.85716673200005
            ],
            [
             -124.14392983899995,
             40.85696117900005
            ],
            [
             -124.14405545399995,
             40.85681414100003
            ],
            [
             -124.14408723699995,
             40.85677758700007
            ],
            [
             -124.14433635399996,
             40.85655189900007
            ],
            [
             -124.144373326,
             40.85652341500003
            ],
            [
             -124.144422707,
             40.85649994100004
            ],
            [
             -124.144478,
             40.85648536700006
            ],
            [
             -124.14453669,
             40.856478451000044
            ],
            [
             -124.144596477,
             40.85647858400006
            ],
            [
             -124.14465512399994,
             40.85648577100005
            ],
            [
             -124.14471032299997,
             40.85650063000003
            ],
            [
             -124.14475956499996,
             40.85652441000008
            ],
            [
             -124.14479637599999,
             40.85655318800008
            ],
            [
             -124.14500775799996,
             40.85674898000008
            ],
            [
             -124.14504327699996,
             40.85678198700003
            ],
            [
             -124.145074637,
             40.856819141000074
            ],
            [
             -124.14513240599996,
             40.85689829300003
            ],
            [
             -124.14516370999996,
             40.85693538900006
            ],
            [
             -124.14519914799996,
             40.856968316000064
            ],
            [
             -124.14541206499996,
             40.85716561300006
            ],
            [
             -124.14545034899999,
             40.857195854000054
            ],
            [
             -124.14550394399998,
             40.857222980000074
            ],
            [
             -124.14556542599996,
             40.85724234500003
            ],
            [
             -124.14563276099994,
             40.85725597800007
            ],
            [
             -124.145704374,
             40.85726543200008
            ],
            [
             -124.14577904699996,
             40.85727186500003
            ],
            [
             -124.14585583699994,
             40.857276117000026
            ],
            [
             -124.14593400299998,
             40.85727876000004
            ],
            [
             -124.14609206499995,
             40.857280400000036
            ],
            [
             -124.14624878499995,
             40.85727716800005
            ],
            [
             -124.14632507999994,
             40.85727295300006
            ],
            [
             -124.14639888299996,
             40.85726611200005
            ],
            [
             -124.14646905099994,
             40.85725559000008
            ],
            [
             -124.14653407399999,
             40.85723993200003
            ],
            [
             -124.14659198599998,
             40.85721719000003
            ],
            [
             -124.14664022299996,
             40.85718480300005
            ],
            [
             -124.14667595599997,
             40.85714223700006
            ],
            [
             -124.14670324699995,
             40.85709123500004
            ],
            [
             -124.14693254899998,
             40.85665444800003
            ],
            [
             -124.14695739299998,
             40.85659767800007
            ],
            [
             -124.14697445299998,
             40.85653390700003
            ],
            [
             -124.14698541999996,
             40.85646531900005
            ],
            [
             -124.14699142899997,
             40.85639375200003
            ],
            [
             -124.14699311399994,
             40.85632083200005
            ],
            [
             -124.14699061999994,
             40.856248082000036
            ],
            [
             -124.146983622,
             40.856177056000035
            ],
            [
             -124.14697130099995,
             40.85610946600008
            ],
            [
             -124.14695229199998,
             40.856047309000076
            ],
            [
             -124.14692461699997,
             40.85599300900003
            ],
            [
             -124.14689386699996,
             40.85595505600003
            ],
            [
             -124.14668285099998,
             40.85575218200006
            ],
            [
             -124.14664462699994,
             40.855721868000046
            ],
            [
             -124.14659406699997,
             40.85569459900006
            ],
            [
             -124.14653822699995,
             40.85567340700004
            ],
            [
             -124.14642250499998,
             40.85563912600003
            ],
            [
             -124.14636855099997,
             40.855621384000074
            ],
            [
             -124.146321565,
             40.85560011600006
            ],
            [
             -124.14628547199999,
             40.85557274800004
            ],
            [
             -124.14626566199996,
             40.855542341000046
            ],
            [
             -124.1462565,
             40.855507835000026
            ],
            [
             -124.14625728299995,
             40.855471840000064
            ],
            [
             -124.14626786699995,
             40.85543686900007
            ],
            [
             -124.14647102499998,
             40.85501648400003
            ],
            [
             -124.14676936899997,
             40.85443130200008
            ],
            [
             -124.14679565399996,
             40.854398005000064
            ],
            [
             -124.14682402999995,
             40.85438167700005
            ],
            [
             -124.146855115,
             40.854377326000076
            ],
            [
             -124.14688583299994,
             40.854384707000065
            ],
            [
             -124.14691307699997,
             40.85440426000008
            ],
            [
             -124.14693805199994,
             40.85444400100005
            ],
            [
             -124.14695600599998,
             40.854497483000046
            ],
            [
             -124.14696607099995,
             40.854545587000075
            ]
           ],
           "type": "LineString"
          },
          "id": "19",
          "properties": {
           "CSU_ID": 80247,
           "ERODIBILITY": "Non",
           "MEAN_SIG_WAVEHEIGHT": 2.305355,
           "TIDAL_RANGE": 2.983468,
           "river_label": "moderate river discharge",
           "sinuosity_label": "sinuous",
           "slope_label": "flat",
           "style": {
            "color": "yellow",
            "dashArray": "5",
            "fillOpacity": 0.5,
            "fill_color": "yellow",
            "opacity": 1,
            "weight": 4
           },
           "turbid_label": "clear"
          },
          "type": "Feature"
         },
         {
          "geometry": {
           "coordinates": [
            [
             -124.15153531299995,
             40.85806933500004
            ],
            [
             -124.15155484699994,
             40.85806895800005
            ],
            [
             -124.15170836399994,
             40.85806311700003
            ],
            [
             -124.15178250399998,
             40.85805748000007
            ],
            [
             -124.15185381999999,
             40.85804894900008
            ],
            [
             -124.15192121999996,
             40.85803644200007
            ],
            [
             -124.15198330199996,
             40.85801857300004
            ],
            [
             -124.152038286,
             40.857993591000024
            ],
            [
             -124.15207862199998,
             40.857965980000074
            ],
            [
             -124.15215252599995,
             40.85790428900003
            ],
            [
             -124.152192593,
             40.857876875000045
            ],
            [
             -124.15224813699996,
             40.85785195700004
            ],
            [
             -124.15231057399996,
             40.857834817000025
            ],
            [
             -124.15237781599996,
             40.85782384100003
            ],
            [
             -124.152448102,
             40.85781792100005
            ],
            [
             -124.15251987399995,
             40.85781641400007
            ],
            [
             -124.15259167399995,
             40.85781910800006
            ],
            [
             -124.15266204199997,
             40.85782620200007
            ],
            [
             -124.15272939099998,
             40.85783831700007
            ],
            [
             -124.15279190299998,
             40.857856526000035
            ],
            [
             -124.15284741,
             40.85788237500003
            ],
            [
             -124.15288727499996,
             40.857910391000075
            ],
            [
             -124.15295984899996,
             40.85797240900007
            ],
            [
             -124.152998745,
             40.85799945400004
            ],
            [
             -124.15304939199996,
             40.858022221000056
            ],
            [
             -124.15310525899997,
             40.858036748000075
            ],
            [
             -124.15316406899996,
             40.85804402600007
            ],
            [
             -124.15322368199998,
             40.85804448300007
            ],
            [
             -124.15328198499998,
             40.858038005000026
            ],
            [
             -124.15333676499995,
             40.85802390200007
            ],
            [
             -124.15338557799998,
             40.85800089500003
            ],
            [
             -124.15342205299999,
             40.85797279900004
            ],
            [
             -124.15363467099996,
             40.85778298500003
            ],
            [
             -124.15390993399996,
             40.857563517000074
            ],
            [
             -124.15484364499997,
             40.857099195000046
            ],
            [
             -124.155312988,
             40.85689463400007
            ],
            [
             -124.15576383799998,
             40.85668054100006
            ],
            [
             -124.155813288,
             40.856652763000056
            ],
            [
             -124.15585033499997,
             40.856622198000025
            ],
            [
             -124.15606516799994,
             40.856430214000056
            ],
            [
             -124.15637718,
             40.856127858000036
            ],
            [
             -124.15659075599996,
             40.85588912700007
            ],
            [
             -124.15661391299994,
             40.85585734800003
            ],
            [
             -124.15662778999996,
             40.855821594000076
            ],
            [
             -124.15663231299999,
             40.85578347300003
            ],
            [
             -124.156627744,
             40.855745358000036
            ],
            [
             -124.15661382499997,
             40.85570961500008
            ],
            [
             -124.15659061599996,
             40.85567786000007
            ],
            [
             -124.156408576,
             40.85547537900004
            ],
            [
             -124.15637642899998,
             40.855439647000026
            ],
            [
             -124.15613153599998,
             40.85520634300008
            ],
            [
             -124.15606163299998,
             40.855140052000024
            ],
            [
             -124.15584286299998,
             40.85495200300005
            ],
            [
             -124.15580521599998,
             40.85492203700005
            ],
            [
             -124.15575528399995,
             40.85489474100007
            ],
            [
             -124.15569980899994,
             40.85487303100007
            ],
            [
             -124.15558292399999,
             40.85483564300006
            ],
            [
             -124.15552672499996,
             40.854814744000066
            ],
            [
             -124.15547573799995,
             40.85478865400006
            ],
            [
             -124.15543319399995,
             40.85475413000006
            ],
            [
             -124.155400349,
             40.854706073000045
            ],
            [
             -124.15537755799994,
             40.85464797100008
            ],
            [
             -124.15536213699994,
             40.85458251000006
            ],
            [
             -124.15535203299999,
             40.85451173700005
            ],
            [
             -124.15534570899996,
             40.854437191000045
            ],
            [
             -124.155342024,
             40.85436001000005
            ],
            [
             -124.15534058699996,
             40.85429963800004
            ]
           ],
           "type": "LineString"
          },
          "id": "20",
          "properties": {
           "CSU_ID": 18482,
           "ERODIBILITY": "High",
           "MEAN_SIG_WAVEHEIGHT": 2.305355,
           "TIDAL_RANGE": 2.983468,
           "river_label": "moderate river discharge",
           "sinuosity_label": "sinuous",
           "slope_label": "flat",
           "style": {
            "color": "yellow",
            "dashArray": "5",
            "fillOpacity": 0.5,
            "fill_color": "yellow",
            "opacity": 1,
            "weight": 4
           },
           "turbid_label": "clear"
          },
          "type": "Feature"
         },
         {
          "geometry": {
           "coordinates": [
            [
             -124.14696607099995,
             40.854545587000075
            ],
            [
             -124.14696916999998,
             40.85456040100007
            ],
            [
             -124.146979467,
             40.85462929400006
            ],
            [
             -124.14699834899994,
             40.854773830000056
            ],
            [
             -124.14701038799996,
             40.85484445000003
            ],
            [
             -124.14702674399996,
             40.85491052900005
            ],
            [
             -124.14704979799995,
             40.85496907100003
            ],
            [
             -124.14708246499998,
             40.85501645000005
            ],
            [
             -124.14712457199994,
             40.85504833500005
            ],
            [
             -124.14717496399999,
             40.85506875500005
            ],
            [
             -124.14723046499995,
             40.85507959300003
            ],
            [
             -124.14728827899995,
             40.855081950000056
            ],
            [
             -124.14734580199996,
             40.85507619800006
            ],
            [
             -124.14740046799994,
             40.85506200700007
            ],
            [
             -124.14744958399996,
             40.85503834900004
            ],
            [
             -124.14748652799994,
             40.85500937100005
            ],
            [
             -124.14770269399997,
             40.854812397000046
            ],
            [
             -124.14783923199997,
             40.85467487300008
            ],
            [
             -124.14787616099994,
             40.854645496000046
            ],
            [
             -124.14792548399998,
             40.85462104700008
            ],
            [
             -124.14798076399995,
             40.85460552500007
            ],
            [
             -124.14803955899998,
             40.85459764600006
            ],
            [
             -124.14809964799997,
             40.85459672700006
            ],
            [
             -124.14815889999994,
             40.85460266600006
            ],
            [
             -124.14821515499995,
             40.85461593800005
            ],
            [
             -124.14826608499999,
             40.85463759800007
            ],
            [
             -124.14875931499995,
             40.854881230000046
            ],
            [
             -124.14880931899995,
             40.854909744000054
            ],
            [
             -124.14884688099994,
             40.85494088100006
            ],
            [
             -124.149100998,
             40.855166893000046
            ],
            [
             -124.14913304699996,
             40.85520280700007
            ],
            [
             -124.14931370499994,
             40.85540806500006
            ],
            [
             -124.14933689099996,
             40.85544064900006
            ],
            [
             -124.14935096999994,
             40.85547742000006
            ],
            [
             -124.14935595699995,
             40.855516830000056
            ],
            [
             -124.14935220399997,
             40.85555659400006
            ],
            [
             -124.14933958199998,
             40.85559445500007
            ],
            [
             -124.14911172199999,
             40.85604811500008
            ],
            [
             -124.14908271899998,
             40.85608274500004
            ],
            [
             -124.149050881,
             40.85610127500007
            ],
            [
             -124.14901494699996,
             40.856109177000064
            ],
            [
             -124.14897751299998,
             40.85610718400005
            ],
            [
             -124.14894105199994,
             40.85609549000003
            ],
            [
             -124.14890717099996,
             40.85607462000007
            ],
            [
             -124.14883930499997,
             40.85601961500004
            ],
            [
             -124.14879995999996,
             40.85599328500007
            ],
            [
             -124.14874401799995,
             40.85596843700006
            ],
            [
             -124.14868028999996,
             40.85595049300008
            ],
            [
             -124.14861127299997,
             40.85593823500005
            ],
            [
             -124.14853909299995,
             40.85593088100006
            ],
            [
             -124.14846567499995,
             40.85592809000008
            ],
            [
             -124.14839288499996,
             40.855929966000076
            ],
            [
             -124.14832271599994,
             40.85593709800003
            ],
            [
             -124.14825745799999,
             40.85595060900005
            ],
            [
             -124.14819988999994,
             40.85597224000003
            ],
            [
             -124.14815349799994,
             40.85600444700003
            ],
            [
             -124.14812248699997,
             40.856046707000075
            ],
            [
             -124.14810283699995,
             40.856097618000035
            ],
            [
             -124.14809265999997,
             40.856153859000074
            ],
            [
             -124.14809085999997,
             40.85621251600003
            ],
            [
             -124.14809710199995,
             40.85627089600007
            ],
            [
             -124.14811176299997,
             40.856326344000024
            ],
            [
             -124.14813595599998,
             40.85637607500007
            ],
            [
             -124.14816554199996,
             40.85641333500007
            ],
            [
             -124.14837741199995,
             40.856618866000076
            ],
            [
             -124.14841623099994,
             40.85664993000006
            ],
            [
             -124.14846748999997,
             40.856678034000026
            ],
            [
             -124.14852402499997,
             40.85670001400007
            ],
            [
             -124.14864103099995,
             40.85673565500008
            ],
            [
             -124.14869553499994,
             40.85675392700006
            ],
            [
             -124.14874296099998,
             40.85677558200007
            ],
            [
             -124.14877934199995,
             40.85680314200005
            ],
            [
             -124.14879922199998,
             40.856833497000025
            ],
            [
             -124.14880821199995,
             40.85686767200008
            ],
            [
             -124.14880692699995,
             40.85690296100006
            ],
            [
             -124.14879538199995,
             40.856936724000036
            ],
            [
             -124.14877386599994,
             40.85696714100004
            ],
            [
             -124.14859503599996,
             40.85716810300005
            ],
            [
             -124.14856296799996,
             40.85720404500006
            ],
            [
             -124.14824953699997,
             40.85750701000006
            ],
            [
             -124.14803344799998,
             40.85769850300005
            ],
            [
             -124.14799618199999,
             40.85772895400004
            ],
            [
             -124.147946505,
             40.85775662300006
            ],
            [
             -124.14789094099996,
             40.85777836800003
            ],
            [
             -124.14760292099999,
             40.857945640000025
            ]
           ],
           "type": "LineString"
          },
          "id": "21",
          "properties": {
           "CSU_ID": 18482,
           "ERODIBILITY": "High",
           "MEAN_SIG_WAVEHEIGHT": 2.305355,
           "TIDAL_RANGE": 2.983468,
           "river_label": "moderate river discharge",
           "sinuosity_label": "sinuous",
           "slope_label": "flat",
           "style": {
            "color": "yellow",
            "dashArray": "5",
            "fillOpacity": 0.5,
            "fill_color": "yellow",
            "opacity": 1,
            "weight": 4
           },
           "turbid_label": "clear"
          },
          "type": "Feature"
         },
         {
          "geometry": {
           "coordinates": [
            [
             -124.14760292099999,
             40.857945640000025
            ],
            [
             -124.14743218099994,
             40.85804480000007
            ],
            [
             -124.14684481299997,
             40.85840016900005
            ],
            [
             -124.14680342699995,
             40.858433803000025
            ],
            [
             -124.14677402499996,
             40.85847739800005
            ],
            [
             -124.14675531999995,
             40.858528730000046
            ],
            [
             -124.14674557599994,
             40.85858480600007
            ],
            [
             -124.14674381599997,
             40.85864295500005
            ],
            [
             -124.14674975899999,
             40.85870066700005
            ],
            [
             -124.14676380999998,
             40.858755434000045
            ],
            [
             -124.14678706399997,
             40.85880460000004
            ],
            [
             -124.14681552099995,
             40.85884155300005
            ],
            [
             -124.14704226199996,
             40.859091901000056
            ],
            [
             -124.14785725099995,
             40.85990688900006
            ],
            [
             -124.14810763499997,
             40.86013366800006
            ],
            [
             -124.14814615399996,
             40.86016369200007
            ],
            [
             -124.14819831999995,
             40.86018994700004
            ],
            [
             -124.14825790099997,
             40.86020881200005
            ],
            [
             -124.14832297899994,
             40.86022211900007
            ],
            [
             -124.14839201599995,
             40.86023124800005
            ],
            [
             -124.14846378399994,
             40.86023719700006
            ],
            [
             -124.14853726899997,
             40.86024064600008
            ],
            [
             -124.14861160199996,
             40.86024198300004
            ],
            [
             -124.14868597199995,
             40.86024133400008
            ],
            [
             -124.14875957699996,
             40.860238569000046
            ],
            [
             -124.14883152599998,
             40.86023329100004
            ],
            [
             -124.14890079399999,
             40.860224809000044
            ],
            [
             -124.14896610999995,
             40.860212097000044
            ],
            [
             -124.14902589399998,
             40.86019372700008
            ],
            [
             -124.14907814599997,
             40.86016781100005
            ],
            [
             -124.14911656499999,
             40.86013786900003
            ],
            [
             -124.149284879,
             40.85996550900006
            ],
            [
             -124.14931841799995,
             40.85993115300005
            ],
            [
             -124.14934727299999,
             40.859892183000056
            ],
            [
             -124.14937189299997,
             40.859839366000074
            ],
            [
             -124.14938896199999,
             40.85977907100005
            ],
            [
             -124.14940047799996,
             40.859713286000044
            ],
            [
             -124.14940802099994,
             40.85964357800003
            ],
            [
             -124.14941284999998,
             40.85957120300003
            ],
            [
             -124.14942387999997,
             40.85927373100003
            ],
            [
             -124.14942875899999,
             40.859201539000026
            ],
            [
             -124.14943637199997,
             40.859132095000064
            ],
            [
             -124.14944797899994,
             40.85906665500005
            ],
            [
             -124.14946515599996,
             40.85900679800005
            ],
            [
             -124.14948989899995,
             40.858954512000025
            ],
            [
             -124.14951887099994,
             40.85891608800006
            ],
            [
             -124.14955252899995,
             40.85888235600004
            ],
            [
             -124.14972106599998,
             40.85871397500006
            ],
            [
             -124.14975928499996,
             40.85868481500006
            ],
            [
             -124.14981387699999,
             40.858658552000065
            ],
            [
             -124.14987625499998,
             40.858640077000075
            ],
            [
             -124.14994395499997,
             40.858626926000056
            ],
            [
             -124.15001494399996,
             40.858617063000054
            ],
            [
             -124.15015989499994,
             40.85860031300007
            ],
            [
             -124.15023064199994,
             40.85859020600003
            ],
            [
             -124.150297976,
             40.858576689000074
            ],
            [
             -124.15035992399999,
             40.85855778600006
            ],
            [
             -124.15041412299996,
             40.85853113200005
            ],
            [
             -124.15045215099997,
             40.85850178100003
            ],
            [
             -124.15066699699997,
             40.85831233000005
            ],
            [
             -124.15080319999998,
             40.85817894500008
            ],
            [
             -124.15084112699998,
             40.858149463000075
            ],
            [
             -124.15089422399996,
             40.85812324200003
            ],
            [
             -124.15095514099994,
             40.85810482900007
            ],
            [
             -124.15102185699999,
             40.858092200000044
            ],
            [
             -124.151092802,
             40.85808378100006
            ],
            [
             -124.15116676599996,
             40.85807835500003
            ],
            [
             -124.15124280899994,
             40.858074980000026
            ],
            [
             -124.15153531299995,
             40.85806933500004
            ]
           ],
           "type": "LineString"
          },
          "id": "22",
          "properties": {
           "CSU_ID": 80247,
           "ERODIBILITY": "Non",
           "MEAN_SIG_WAVEHEIGHT": 2.305355,
           "TIDAL_RANGE": 2.983468,
           "river_label": "moderate river discharge",
           "sinuosity_label": "sinuous",
           "slope_label": "flat",
           "style": {
            "color": "yellow",
            "dashArray": "5",
            "fillOpacity": 0.5,
            "fill_color": "yellow",
            "opacity": 1,
            "weight": 4
           },
           "turbid_label": "clear"
          },
          "type": "Feature"
         },
         {
          "geometry": {
           "coordinates": [
            [
             -124.14365759299994,
             40.86151429300003
            ],
            [
             -124.14340329199996,
             40.86138684200006
            ],
            [
             -124.14334634999994,
             40.861361481000074
            ],
            [
             -124.14328221199997,
             40.861343101000045
            ],
            [
             -124.14321312499999,
             40.861329460000036
            ],
            [
             -124.14299510199999,
             40.86129853500006
            ],
            [
             -124.14292500399995,
             40.861285818000056
            ],
            [
             -124.14285975999996,
             40.86126876600008
            ],
            [
             -124.14280218,
             40.86124504500003
            ],
            [
             -124.14275581299995,
             40.861211807000075
            ],
            [
             -124.14272495699998,
             40.86116935000007
            ],
            [
             -124.14270572999999,
             40.86111894100003
            ],
            [
             -124.142696436,
             40.86106396300005
            ],
            [
             -124.14269625799994,
             40.86100750600008
            ],
            [
             -124.14270523299996,
             40.860952575000056
            ],
            [
             -124.14272425399997,
             40.86090229200005
            ],
            [
             -124.14275511299996,
             40.86086009400003
            ],
            [
             -124.14280183799997,
             40.860827381000036
            ],
            [
             -124.14286032499996,
             40.860804607000034
            ],
            [
             -124.14292727799995,
             40.86078916300005
            ],
            [
             -124.14300023499999,
             40.860779052000055
            ],
            [
             -124.14307737999997,
             40.86077276300006
            ],
            [
             -124.14315739299997,
             40.86076916500008
            ],
            [
             -124.14323931899997,
             40.860767414000065
            ],
            [
             -124.14340632799997,
             40.86076710300006
            ],
            [
             -124.14365834399996,
             40.86076867600008
            ],
            [
             -124.143822651,
             40.86076716500003
            ],
            [
             -124.14390187199996,
             40.86076435800004
            ],
            [
             -124.14397777399995,
             40.86075931200003
            ],
            [
             -124.14404882899998,
             40.86075110000007
            ],
            [
             -124.14411294699994,
             40.86073849200005
            ],
            [
             -124.14416729099997,
             40.860719860000074
            ],
            [
             -124.14420807,
             40.860693093000066
            ],
            [
             -124.14422897599997,
             40.86066347900004
            ],
            [
             -124.14423844699996,
             40.860629491000054
            ],
            [
             -124.14423722899994,
             40.860594056000025
            ],
            [
             -124.14422541999994,
             40.86055999300004
            ],
            [
             -124.14420332599997,
             40.86052930000005
            ],
            [
             -124.144008424,
             40.860338359000025
            ],
            [
             -124.143969073,
             40.86030890300003
            ],
            [
             -124.14391564199997,
             40.86028337300007
            ],
            [
             -124.14385465999999,
             40.86026526900008
            ],
            [
             -124.14378820199994,
             40.86025267000008
            ],
            [
             -124.14371788999995,
             40.86024404200003
            ],
            [
             -124.143645011,
             40.860238148000064
            ],
            [
             -124.14334675599997,
             40.86022319800003
            ],
            [
             -124.14327464499996,
             40.860217428000055
            ],
            [
             -124.14320534899997,
             40.86020897800006
            ],
            [
             -124.14314008399998,
             40.86019661000006
            ],
            [
             -124.14308035799996,
             40.86017879600007
            ],
            [
             -124.14302807599995,
             40.86015361600005
            ],
            [
             -124.14220649099997,
             40.85961807800004
            ],
            [
             -124.14216887999999,
             40.85958728600008
            ],
            [
             -124.14196483799998,
             40.85938455400003
            ],
            [
             -124.14193608499994,
             40.85934774800006
            ],
            [
             -124.14191248499998,
             40.85929835500008
            ],
            [
             -124.14189789799997,
             40.859242907000066
            ],
            [
             -124.14189102399996,
             40.859183967000035
            ],
            [
             -124.14189121299995,
             40.859123871000065
            ],
            [
             -124.141898444,
             40.85906487800003
            ],
            [
             -124.14191330999995,
             40.85900930300005
            ],
            [
             -124.14193704799999,
             40.85895966500004
            ],
            [
             -124.14196574099998,
             40.858922491000044
            ],
            [
             -124.14219230499998,
             40.858672511000066
            ],
            [
             -124.14222892499998,
             40.85864066500005
            ],
            [
             -124.14237613299997,
             40.858514883000055
            ],
            [
             -124.14258179099994,
             40.85831355100004
            ],
            [
             -124.14264981699995,
             40.858246362000045
            ],
            [
             -124.14285297699996,
             40.85804455500005
            ],
            [
             -124.14292050899996,
             40.85797722900003
            ],
            [
             -124.14312285099999,
             40.85777514400007
            ],
            [
             -124.14319024599996,
             40.85770774900004
            ],
            [
             -124.14335350899995,
             40.85754427900008
            ]
           ],
           "type": "LineString"
          },
          "id": "23",
          "properties": {
           "CSU_ID": 80247,
           "ERODIBILITY": "Non",
           "MEAN_SIG_WAVEHEIGHT": 2.305355,
           "TIDAL_RANGE": 2.983468,
           "river_label": "moderate river discharge",
           "sinuosity_label": "sinuous",
           "slope_label": "flat",
           "style": {
            "color": "yellow",
            "dashArray": "5",
            "fillOpacity": 0.5,
            "fill_color": "yellow",
            "opacity": 1,
            "weight": 4
           },
           "turbid_label": "clear"
          },
          "type": "Feature"
         },
         {
          "geometry": {
           "coordinates": [
            [
             -124.16923808299998,
             40.85774527600006
            ],
            [
             -124.16919301599995,
             40.857839057000035
            ],
            [
             -124.16871873399998,
             40.85884699700006
            ],
            [
             -124.16796526199994,
             40.860374602000036
            ],
            [
             -124.167937242,
             40.86042358100008
            ],
            [
             -124.16790647699997,
             40.86046019200006
            ],
            [
             -124.16771541299994,
             40.86067336600007
            ],
            [
             -124.16758089199999,
             40.86080834100005
            ],
            [
             -124.16755012799996,
             40.86084495100005
            ],
            [
             -124.16752211,
             40.86089393000003
            ],
            [
             -124.167306554,
             40.86134248700006
            ],
            [
             -124.16683227199997,
             40.862350425000045
            ],
            [
             -124.16629419399999,
             40.863429315000076
            ],
            [
             -124.16591894399994,
             40.86404023500006
            ]
           ],
           "type": "LineString"
          },
          "id": "24",
          "properties": {
           "CSU_ID": 20274,
           "ERODIBILITY": "High",
           "MEAN_SIG_WAVEHEIGHT": 2.305355,
           "TIDAL_RANGE": 2.983468,
           "river_label": "moderate river discharge",
           "sinuosity_label": "straight",
           "slope_label": "sloping",
           "style": {
            "color": "yellow",
            "dashArray": "5",
            "fillOpacity": 0.5,
            "fill_color": "yellow",
            "opacity": 1,
            "weight": 4
           },
           "turbid_label": "clear"
          },
          "type": "Feature"
         },
         {
          "geometry": {
           "coordinates": [
            [
             -124.14125776199995,
             40.86235723600004
            ],
            [
             -124.14120213599995,
             40.86234297800007
            ],
            [
             -124.14115209999994,
             40.862319496000055
            ],
            [
             -124.141114416,
             40.862290839000025
            ],
            [
             -124.14089547199995,
             40.86209728100005
            ],
            [
             -124.14075857899996,
             40.86195834500006
            ],
            [
             -124.14072171299995,
             40.86192662500008
            ],
            [
             -124.14067252299998,
             40.86189760900004
            ],
            [
             -124.14018007099997,
             40.86165348800006
            ],
            [
             -124.140126469,
             40.86162992700008
            ],
            [
             -124.14006604099995,
             40.86161322400005
            ],
            [
             -124.14000054499996,
             40.86160161600003
            ],
            [
             -124.13993140199995,
             40.86159367500005
            ],
            [
             -124.13985977599998,
             40.86158823300008
            ],
            [
             -124.13963938899997,
             40.86157749200004
            ],
            [
             -124.13956698499999,
             40.86157287000003
            ],
            [
             -124.13949670299996,
             40.861566131000075
            ],
            [
             -124.139429754,
             40.861556062000034
            ],
            [
             -124.13936765399995,
             40.86154115100004
            ],
            [
             -124.13931232199997,
             40.86151947500008
            ],
            [
             -124.13926620999996,
             40.86148858100006
            ],
            [
             -124.13923116499996,
             40.86144661900005
            ],
            [
             -124.13920468299995,
             40.86139609600008
            ],
            [
             -124.13918355299995,
             40.86134022500005
            ],
            [
             -124.13914616799997,
             40.86122360600007
            ],
            [
             -124.139124601,
             40.86116817100003
            ],
            [
             -124.139097387,
             40.86111838700003
            ],
            [
             -124.13906728299997,
             40.86108111600004
            ],
            [
             -124.13887018699995,
             40.86087396600004
            ],
            [
             -124.13883476099994,
             40.860842019000074
            ],
            [
             -124.13878670799994,
             40.86081307300003
            ],
            [
             -124.13873220799996,
             40.86079057500007
            ],
            [
             -124.13861342599995,
             40.86075353200005
            ],
            [
             -124.13855154699996,
             40.86072590600003
            ],
            [
             -124.13849346299997,
             40.860686154000064
            ],
            [
             -124.13844492599998,
             40.86063270500006
            ],
            [
             -124.13840982299996,
             40.86056585700004
            ],
            [
             -124.13838674699997,
             40.860491197000044
            ],
            [
             -124.13837315999996,
             40.86041544200003
            ],
            [
             -124.13836670299997,
             40.86034513200008
            ],
            [
             -124.13836517899995,
             40.86028664600008
            ],
            [
             -124.13836650199994,
             40.860246252000024
            ],
            [
             -124.138368776,
             40.86023002400003
            ],
            [
             -124.138877633,
             40.86022113000007
            ],
            [
             -124.13908294599997,
             40.86021918300003
            ],
            [
             -124.139249281,
             40.86022141400008
            ],
            [
             -124.13932507399994,
             40.86022488300006
            ],
            [
             -124.13939853499994,
             40.86023068700007
            ],
            [
             -124.139468777,
             40.86023970800005
            ],
            [
             -124.139534632,
             40.860253115000035
            ],
            [
             -124.13959457299995,
             40.860272440000074
            ],
            [
             -124.13964662399997,
             40.86029965200004
            ],
            [
             -124.13968366799998,
             40.860329980000074
            ],
            [
             -124.13992930799998,
             40.86055596800003
            ],
            [
             -124.13996048499996,
             40.86059216800004
            ],
            [
             -124.14008418999998,
             40.86073798000007
            ],
            [
             -124.14028389299995,
             40.860942614000066
            ],
            [
             -124.14035137499997,
             40.86100995000004
            ],
            [
             -124.14056470699995,
             40.861201332000064
            ],
            [
             -124.14060184599998,
             40.86123171300005
            ],
            [
             -124.14065147899998,
             40.86125928100006
            ],
            [
             -124.14070709499998,
             40.86128091300003
            ],
            [
             -124.14088571999997,
             40.86133442100004
            ],
            [
             -124.14094163799996,
             40.861356054000055
            ],
            [
             -124.14099173099999,
             40.86138362500003
            ],
            [
             -124.14102940699996,
             40.86141401300006
            ],
            [
             -124.14128534699995,
             40.861638249000066
            ],
            [
             -124.14131805699998,
             40.86167469600008
            ],
            [
             -124.14151157199996,
             40.86189368300006
            ],
            [
             -124.14153988199996,
             40.861931715000026
            ],
            [
             -124.14156298299997,
             40.86198213100005
            ],
            [
             -124.14157689599995,
             40.86203810100005
            ],
            [
             -124.14158271999997,
             40.86209685600005
            ],
            [
             -124.14158085999998,
             40.86215572700007
            ],
            [
             -124.14157212499998,
             40.86220573400004
            ]
           ],
           "type": "LineString"
          },
          "id": "25",
          "properties": {
           "CSU_ID": 19802,
           "ERODIBILITY": "High",
           "MEAN_SIG_WAVEHEIGHT": 2.305355,
           "TIDAL_RANGE": 2.983468,
           "river_label": "moderate river discharge",
           "sinuosity_label": "straight",
           "slope_label": "flat",
           "style": {
            "color": "yellow",
            "dashArray": "5",
            "fillOpacity": 0.5,
            "fill_color": "yellow",
            "opacity": 1,
            "weight": 4
           },
           "turbid_label": "turbid"
          },
          "type": "Feature"
         },
         {
          "geometry": {
           "coordinates": [
            [
             -124.14157212499998,
             40.86220573400004
            ],
            [
             -124.14157103699995,
             40.86221196100007
            ],
            [
             -124.14155226899999,
             40.86226254400003
            ],
            [
             -124.141522824,
             40.86230399200008
            ],
            [
             -124.14148140999998,
             40.86233340300004
            ],
            [
             -124.14143092899997,
             40.86235206900005
            ],
            [
             -124.14137486199996,
             40.86236172400004
            ],
            [
             -124.141316223,
             40.862363352000045
            ],
            [
             -124.14125776199995,
             40.86235723600004
            ]
           ],
           "type": "LineString"
          },
          "id": "26",
          "properties": {
           "CSU_ID": 19802,
           "ERODIBILITY": "High",
           "MEAN_SIG_WAVEHEIGHT": 2.305355,
           "TIDAL_RANGE": 2.983468,
           "river_label": "moderate river discharge",
           "sinuosity_label": "straight",
           "slope_label": "flat",
           "style": {
            "color": "yellow",
            "dashArray": "5",
            "fillOpacity": 0.5,
            "fill_color": "yellow",
            "opacity": 1,
            "weight": 4
           },
           "turbid_label": "turbid"
          },
          "type": "Feature"
         },
         {
          "geometry": {
           "coordinates": [
            [
             -124.14972321099998,
             40.865066772000034
            ],
            [
             -124.14977800699995,
             40.86505650000004
            ],
            [
             -124.14984188399995,
             40.86503751600003
            ],
            [
             -124.14989746999998,
             40.86501051600004
            ],
            [
             -124.149936191,
             40.864980769000056
            ],
            [
             -124.15012996899998,
             40.86478698900004
            ],
            [
             -124.15015316699998,
             40.86475481900004
            ],
            [
             -124.15016688999998,
             40.86471854500007
            ],
            [
             -124.15017112199996,
             40.86467986700006
            ],
            [
             -124.15016613999995,
             40.864641230000075
            ],
            [
             -124.15015168199994,
             40.864605072000074
            ],
            [
             -124.15012778,
             40.86457308000007
            ],
            [
             -124.14993279099997,
             40.86437941600008
            ],
            [
             -124.14989520699999,
             40.86434868600003
            ],
            [
             -124.14907049399994,
             40.86381213100003
            ],
            [
             -124.14901607499996,
             40.863785574000076
            ],
            [
             -124.14895402699995,
             40.86376667400003
            ],
            [
             -124.148886705,
             40.863753065000026
            ],
            [
             -124.14881608299999,
             40.86374277500005
            ],
            [
             -124.14867166199997,
             40.863725405000025
            ],
            [
             -124.14860104599995,
             40.863715144000025
            ],
            [
             -124.14853373899996,
             40.86370157700003
            ],
            [
             -124.14847173099997,
             40.863682717000074
            ],
            [
             -124.148417398,
             40.863656185000025
            ],
            [
             -124.147338091,
             40.862848977000056
            ],
            [
             -124.14730117,
             40.86281852400003
            ],
            [
             -124.14708864299996,
             40.86262681000005
            ],
            [
             -124.14702134199996,
             40.86255936400005
            ],
            [
             -124.14682211299998,
             40.86235434900004
            ],
            [
             -124.14669862899996,
             40.86220833900006
            ],
            [
             -124.146667429,
             40.86217216400007
            ],
            [
             -124.14642028599997,
             40.86194769300005
            ],
            [
             -124.14638236899998,
             40.861918236000065
            ],
            [
             -124.14632813599997,
             40.86189161900006
            ],
            [
             -124.14626583799998,
             40.86187307100005
            ],
            [
             -124.14619760799997,
             40.86186045200003
            ],
            [
             -124.14612507699997,
             40.86185213300007
            ],
            [
             -124.14604947699996,
             40.861846884000045
            ],
            [
             -124.14589248899995,
             40.86184217700003
            ],
            [
             -124.14573136099995,
             40.86184160600004
            ],
            [
             -124.14491457799994,
             40.86184988400004
            ],
            [
             -124.144752069,
             40.86185067900004
            ],
            [
             -124.14459138899997,
             40.861849636000045
            ],
            [
             -124.14443480199998,
             40.86184448500006
            ],
            [
             -124.14435929499996,
             40.86183911300003
            ],
            [
             -124.14428669799997,
             40.86183082200006
            ],
            [
             -124.14421813899997,
             40.861818483000036
            ],
            [
             -124.144155104,
             40.86180060700008
            ],
            [
             -124.14409951899995,
             40.86177526500006
            ],
            [
             -124.14405980099997,
             40.861747527000034
            ],
            [
             -124.14384312099997,
             40.861607277000076
            ],
            [
             -124.14365759299994,
             40.86151429300003
            ]
           ],
           "type": "LineString"
          },
          "id": "27",
          "properties": {
           "CSU_ID": 80247,
           "ERODIBILITY": "Non",
           "MEAN_SIG_WAVEHEIGHT": 2.305355,
           "TIDAL_RANGE": 2.983468,
           "river_label": "moderate river discharge",
           "sinuosity_label": "sinuous",
           "slope_label": "flat",
           "style": {
            "color": "yellow",
            "dashArray": "5",
            "fillOpacity": 0.5,
            "fill_color": "yellow",
            "opacity": 1,
            "weight": 4
           },
           "turbid_label": "clear"
          },
          "type": "Feature"
         },
         {
          "geometry": {
           "coordinates": [
            [
             -124.137996,
             40.864074530157524
            ],
            [
             -124.13802218799998,
             40.86408020700003
            ],
            [
             -124.13864453399998,
             40.86429512600006
            ],
            [
             -124.13894322599998,
             40.864444270000035
            ],
            [
             -124.13898346999997,
             40.86447199700007
            ],
            [
             -124.13903662299998,
             40.864496495000026
            ],
            [
             -124.13909643299996,
             40.864514222000025
            ],
            [
             -124.13916120399995,
             40.864526769000065
            ],
            [
             -124.13922955399994,
             40.864535345000036
            ],
            [
             -124.13930036999994,
             40.86454082900008
            ],
            [
             -124.13937271299994,
             40.86454381600004
            ],
            [
             -124.13944578099995,
             40.86454465200006
            ],
            [
             -124.13951881499997,
             40.86454344400005
            ],
            [
             -124.13959107099998,
             40.86454007800006
            ],
            [
             -124.13966173499995,
             40.86453420300006
            ],
            [
             -124.13972988199998,
             40.864525222000054
            ],
            [
             -124.13979439599996,
             40.86451225500008
            ],
            [
             -124.13985391199998,
             40.864494096000044
            ],
            [
             -124.13990674299998,
             40.86446916700004
            ],
            [
             -124.13994670499994,
             40.86444107700004
            ],
            [
             -124.140020027,
             40.86437837300008
            ],
            [
             -124.14005994299998,
             40.86435034600004
            ],
            [
             -124.14011553399996,
             40.864324475000046
            ],
            [
             -124.14017841299994,
             40.864305975000036
            ],
            [
             -124.140246731,
             40.864292988000045
            ],
            [
             -124.14031904299998,
             40.86428407000005
            ],
            [
             -124.14039425599998,
             40.86427811200008
            ],
            [
             -124.14047154199994,
             40.86427428400003
            ],
            [
             -124.14055028999996,
             40.86427196400007
            ],
            [
             -124.14071050299998,
             40.864270152000074
            ],
            [
             -124.14095404199998,
             40.86427085500003
            ],
            [
             -124.14160666299995,
             40.86427643700006
            ],
            [
             -124.14184853399996,
             40.86427574100003
            ],
            [
             -124.14200529699997,
             40.86427079600003
            ],
            [
             -124.14208092899997,
             40.864265577000026
            ],
            [
             -124.14215367899999,
             40.86425747700008
            ],
            [
             -124.14222241999994,
             40.864245366000034
            ],
            [
             -124.14225379199996,
             40.86423663200003
            ]
           ],
           "type": "LineString"
          },
          "id": "28",
          "properties": {
           "CSU_ID": 18508,
           "ERODIBILITY": "High",
           "MEAN_SIG_WAVEHEIGHT": 2.305355,
           "TIDAL_RANGE": 2.983468,
           "river_label": "moderate river discharge",
           "sinuosity_label": "sinuous",
           "slope_label": "flat",
           "style": {
            "color": "yellow",
            "dashArray": "5",
            "fillOpacity": 0.5,
            "fill_color": "yellow",
            "opacity": 1,
            "weight": 4
           },
           "turbid_label": "turbid"
          },
          "type": "Feature"
         },
         {
          "geometry": {
           "coordinates": [
            [
             -124.14225379199996,
             40.86423663200003
            ],
            [
             -124.14228566499997,
             40.86422775900007
            ],
            [
             -124.14234148099996,
             40.86420272500004
            ],
            [
             -124.14282954599997,
             40.86395923300006
            ],
            [
             -124.14287793099999,
             40.86393060000006
            ],
            [
             -124.14291382299996,
             40.86389909600007
            ],
            [
             -124.143111047,
             40.863691810000034
            ],
            [
             -124.14314109099996,
             40.86365439900004
            ],
            [
             -124.14316832099996,
             40.86360452000008
            ],
            [
             -124.14318987599995,
             40.863548937000076
            ],
            [
             -124.14322686799994,
             40.86343156300006
            ],
            [
             -124.14324758899994,
             40.86337504100004
            ],
            [
             -124.14327353799996,
             40.863323699000034
            ],
            [
             -124.14330796699994,
             40.86328078100007
            ],
            [
             -124.14335598099996,
             40.86324751500007
            ],
            [
             -124.14341410099996,
             40.863224280000054
            ],
            [
             -124.14347964099994,
             40.86320838300003
            ],
            [
             -124.14355054699996,
             40.86319777500006
            ],
            [
             -124.14362527699996,
             40.86319091400003
            ],
            [
             -124.14370267299995,
             40.86318666300008
            ],
            [
             -124.14378188199998,
             40.86318420300006
            ],
            [
             -124.14394334999997,
             40.86318254300005
            ],
            [
             -124.14418728399994,
             40.863184673000035
            ],
            [
             -124.14434728999998,
             40.863189453000075
            ],
            [
             -124.14442531399999,
             40.863193685000056
            ],
            [
             -124.14450122399995,
             40.863199887000064
            ],
            [
             -124.14457418699999,
             40.86320888200004
            ],
            [
             -124.14464309899995,
             40.86322178000006
            ],
            [
             -124.14470651099998,
             40.86324002900005
            ],
            [
             -124.14538492399998,
             40.863481325000066
            ],
            [
             -124.14560925199999,
             40.86356709200004
            ],
            [
             -124.14582610599996,
             40.863706438000065
            ],
            [
             -124.14622045599998,
             40.86389923000007
            ],
            [
             -124.14644531399995,
             40.86398429700006
            ],
            [
             -124.14707102799997,
             40.86419402000007
            ],
            [
             -124.14747202099994,
             40.86427813500006
            ],
            [
             -124.14754227999998,
             40.864288731000045
            ],
            [
             -124.14760919999998,
             40.864302665000025
            ],
            [
             -124.14767081699995,
             40.86432190700003
            ],
            [
             -124.14772475599995,
             40.864348826000025
            ],
            [
             -124.147762608,
             40.86437836300007
            ],
            [
             -124.14797448999997,
             40.864570882000066
            ],
            [
             -124.14800974699995,
             40.86460305300005
            ],
            [
             -124.14804082799998,
             40.86463940500005
            ],
            [
             -124.14809802999997,
             40.86471711300004
            ],
            [
             -124.14812905599996,
             40.864753568000026
            ],
            [
             -124.14837552499995,
             40.86498036100005
            ],
            [
             -124.14841351799998,
             40.865010177000045
            ],
            [
             -124.14846791599996,
             40.865037244000064
            ],
            [
             -124.14853046299999,
             40.86505628200007
            ],
            [
             -124.14859903599995,
             40.86506943200004
            ],
            [
             -124.14867200199996,
             40.86507833400003
            ],
            [
             -124.14874813299997,
             40.86508422400004
            ],
            [
             -124.14882650799996,
             40.86508801700006
            ],
            [
             -124.14898745199997,
             40.86509176900006
            ],
            [
             -124.14915117199996,
             40.865092719000074
            ],
            [
             -124.14931529599994,
             40.86509180400003
            ],
            [
             -124.149477446,
             40.86508809400004
            ],
            [
             -124.14955671799999,
             40.865084327000034
            ],
            [
             -124.14963392399994,
             40.865078467000046
            ],
            [
             -124.14970811499995,
             40.86506960200006
            ],
            [
             -124.14972321099998,
             40.865066772000034
            ]
           ],
           "type": "LineString"
          },
          "id": "29",
          "properties": {
           "CSU_ID": 80259,
           "ERODIBILITY": "Non",
           "MEAN_SIG_WAVEHEIGHT": 2.305355,
           "TIDAL_RANGE": 2.983468,
           "river_label": "moderate river discharge",
           "sinuosity_label": "sinuous",
           "slope_label": "flat",
           "style": {
            "color": "yellow",
            "dashArray": "5",
            "fillOpacity": 0.5,
            "fill_color": "yellow",
            "opacity": 1,
            "weight": 4
           },
           "turbid_label": "turbid"
          },
          "type": "Feature"
         },
         {
          "geometry": {
           "coordinates": [
            [
             -124.16591894399994,
             40.86404023500006
            ],
            [
             -124.16588400899997,
             40.864097109000056
            ],
            [
             -124.16569493499998,
             40.86431227700007
            ],
            [
             -124.16566551099999,
             40.864350226000056
            ],
            [
             -124.16563867899998,
             40.864404242000035
            ],
            [
             -124.16561950299996,
             40.86446591400005
            ],
            [
             -124.16560562599994,
             40.864532885000074
            ],
            [
             -124.16559509399997,
             40.86460320100008
            ],
            [
             -124.16557745299997,
             40.86474725700003
            ],
            [
             -124.16556727699998,
             40.864817929000026
            ],
            [
             -124.16555406799995,
             40.86488556900008
            ],
            [
             -124.16553598499996,
             40.864948336000054
            ],
            [
             -124.16551085199995,
             40.86500405000004
            ],
            [
             -124.16529280999998,
             40.86544049400004
            ],
            [
             -124.16515223,
             40.86565603400004
            ],
            [
             -124.16507557299997,
             40.86580074700004
            ],
            [
             -124.16480623299998,
             40.86633989200004
            ],
            [
             -124.16467772099998,
             40.86666374400005
            ],
            [
             -124.16446312199997,
             40.86711325700003
            ],
            [
             -124.16443522399999,
             40.86716235600005
            ],
            [
             -124.16440453299998,
             40.86719903900007
            ],
            [
             -124.164179704,
             40.86744582500006
            ],
            [
             -124.16414381499999,
             40.86747731000003
            ],
            [
             -124.16406716699998,
             40.86753541000007
            ],
            [
             -124.16403127799998,
             40.86756689300006
            ],
            [
             -124.16380638099997,
             40.867813614000056
            ],
            [
             -124.16377567199999,
             40.86785028000003
            ],
            [
             -124.16374774599996,
             40.86789935100006
            ],
            [
             -124.16323902299996,
             40.86893059800008
            ],
            [
             -124.16321393099997,
             40.868986352000036
            ],
            [
             -124.16319588199997,
             40.86904915400004
            ],
            [
             -124.16318270699998,
             40.86911682700003
            ],
            [
             -124.16317256399998,
             40.86918753100008
            ],
            [
             -124.16315498899996,
             40.869331654000064
            ],
            [
             -124.163144494,
             40.869402008000066
            ],
            [
             -124.16313065999998,
             40.86946902100004
            ],
            [
             -124.16311153199996,
             40.86953074100006
            ],
            [
             -124.16308475799997,
             40.86958481600004
            ],
            [
             -124.16305538899996,
             40.869622820000075
            ],
            [
             -124.16259300599995,
             40.87027067100007
            ]
           ],
           "type": "LineString"
          },
          "id": "30",
          "properties": {
           "CSU_ID": 19775,
           "ERODIBILITY": "High",
           "MEAN_SIG_WAVEHEIGHT": 2.305355,
           "TIDAL_RANGE": 2.983468,
           "river_label": "moderate river discharge",
           "sinuosity_label": "straight",
           "slope_label": "flat",
           "style": {
            "color": "yellow",
            "dashArray": "5",
            "fillOpacity": 0.5,
            "fill_color": "yellow",
            "opacity": 1,
            "weight": 4
           },
           "turbid_label": "clear"
          },
          "type": "Feature"
         },
         {
          "geometry": {
           "coordinates": [
            [
             -124.16259300599995,
             40.87027067100007
            ],
            [
             -124.16238196399996,
             40.87056636400007
            ],
            [
             -124.16205675199996,
             40.871097760000055
            ],
            [
             -124.16178549799997,
             40.87145211700005
            ],
            [
             -124.16156997299998,
             40.871727458000066
            ],
            [
             -124.161351707,
             40.87216367700006
            ],
            [
             -124.16132671199995,
             40.87221953200003
            ],
            [
             -124.16130875599998,
             40.87228242200007
            ],
            [
             -124.16129565399996,
             40.87235017000006
            ],
            [
             -124.16128556899997,
             40.87242093200007
            ],
            [
             -124.16126805599998,
             40.87256511700008
            ],
            [
             -124.161257563,
             40.87263547200007
            ],
            [
             -124.16124370999995,
             40.87270246800006
            ],
            [
             -124.16122454199996,
             40.872764149000034
            ],
            [
             -124.16119770599994,
             40.872818161000055
            ],
            [
             -124.16116826599995,
             40.87285609500003
            ],
            [
             -124.16097883699996,
             40.873070909000035
            ],
            [
             -124.16076148499997,
             40.87334443300006
            ],
            [
             -124.160541546,
             40.87377906100005
            ],
            [
             -124.16051785899998,
             40.87383239800005
            ],
            [
             -124.16050098999995,
             40.873892556000044
            ],
            [
             -124.16048917899997,
             40.87395778200005
            ],
            [
             -124.16048101599995,
             40.87402666200006
            ],
            [
             -124.16047534899997,
             40.87409805200008
            ],
            [
             -124.16045995699994,
             40.87439105100003
            ],
            [
             -124.16045386399998,
             40.874462116000075
            ],
            [
             -124.160445026,
             40.874530469000035
            ],
            [
             -124.16043220799997,
             40.874594881000064
            ],
            [
             -124.16041387499996,
             40.87465382200003
            ],
            [
             -124.16038810699996,
             40.874705379000034
            ],
            [
             -124.16035843199995,
             40.874743410000065
            ],
            [
             -124.16016592499994,
             40.874958108000044
            ],
            [
             -124.16003086699999,
             40.87509456400005
            ],
            [
             -124.16000124199996,
             40.875132422000036
            ],
            [
             -124.15997471699995,
             40.875186358000065
            ],
            [
             -124.15995675699997,
             40.875247975000036
            ],
            [
             -124.15994546699994,
             40.875314907000075
            ],
            [
             -124.15993952999997,
             40.875385178000045
            ],
            [
             -124.15993813699998,
             40.875457064000045
            ],
            [
             -124.15994093499995,
             40.87552897300003
            ],
            [
             -124.15994798999998,
             40.87559930900005
            ],
            [
             -124.15995979799999,
             40.87566635300004
            ],
            [
             -124.15997725799997,
             40.87572812500008
            ],
            [
             -124.16000172399998,
             40.87578225900006
            ],
            [
             -124.16002791299996,
             40.875820307000026
            ],
            [
             -124.16008359899996,
             40.87588657400005
            ],
            [
             -124.16010558999994,
             40.87592043200004
            ],
            [
             -124.16011920399995,
             40.87595764900004
            ],
            [
             -124.160124199,
             40.875996901000065
            ],
            [
             -124.16012075099997,
             40.87603607800003
            ],
            [
             -124.16010859099998,
             40.876073062000046
            ],
            [
             -124.1599086,
             40.87648977300006
            ],
            [
             -124.15988729099996,
             40.87653324000007
            ]
           ],
           "type": "LineString"
          },
          "id": "31",
          "properties": {
           "CSU_ID": 20304,
           "ERODIBILITY": "High",
           "MEAN_SIG_WAVEHEIGHT": 2.305355,
           "TIDAL_RANGE": 2.983468,
           "river_label": "moderate river discharge",
           "sinuosity_label": "straight",
           "slope_label": "sloping",
           "style": {
            "color": "yellow",
            "dashArray": "5",
            "fillOpacity": 0.5,
            "fill_color": "yellow",
            "opacity": 1,
            "weight": 4
           },
           "turbid_label": "turbid"
          },
          "type": "Feature"
         },
         {
          "geometry": {
           "coordinates": [
            [
             -124.15988729099996,
             40.87653324000007
            ],
            [
             -124.15961346399996,
             40.87709180000007
            ],
            [
             -124.159585484,
             40.87714117500008
            ],
            [
             -124.15955475699997,
             40.87717770300003
            ],
            [
             -124.15936185499999,
             40.877363915000046
            ],
            [
             -124.15933012699998,
             40.87738634900006
            ],
            [
             -124.15929424299998,
             40.877399608000076
            ],
            [
             -124.15925587399994,
             40.877403865000076
            ],
            [
             -124.15921742399996,
             40.877399670000045
            ],
            [
             -124.15918128899995,
             40.87738714000005
            ],
            [
             -124.159149104,
             40.87736682100007
            ],
            [
             -124.15908943199997,
             40.87731773200005
            ],
            [
             -124.15905723299994,
             40.87729739200006
            ],
            [
             -124.15902107699998,
             40.87728482700004
            ],
            [
             -124.15898260399996,
             40.877280591000044
            ],
            [
             -124.15894422099996,
             40.87728480800007
            ],
            [
             -124.15890834199996,
             40.87729803700006
            ],
            [
             -124.158876653,
             40.877320471000075
            ],
            [
             -124.15868669899999,
             40.87750911000006
            ],
            [
             -124.15865753299994,
             40.877547046000075
            ],
            [
             -124.15863103999999,
             40.87760156400003
            ],
            [
             -124.15861219899995,
             40.877664055000025
            ],
            [
             -124.15859862999997,
             40.877731984000036
            ],
            [
             -124.15858834499994,
             40.877803260000064
            ],
            [
             -124.15857086399996,
             40.87794886000006
            ],
            [
             -124.15856048199998,
             40.87801994000006
            ],
            [
             -124.15854675899999,
             40.878087606000065
            ],
            [
             -124.15852772099998,
             40.87814988900004
            ],
            [
             -124.15850100299997,
             40.87820442300006
            ],
            [
             -124.15847165399998,
             40.87824273700005
            ],
            [
             -124.15828316299996,
             40.87845953000004
            ],
            [
             -124.15815077299999,
             40.87859692300003
            ],
            [
             -124.15812137699999,
             40.878634945000044
            ],
            [
             -124.158094587,
             40.87868904800007
            ],
            [
             -124.15807545799998,
             40.87875080200007
            ],
            [
             -124.158061627,
             40.87881784600006
            ],
            [
             -124.15805111499998,
             40.87888820500007
            ],
            [
             -124.15803330699998,
             40.87903212500004
            ],
            [
             -124.15802282599998,
             40.87910250300007
            ],
            [
             -124.15800903899998,
             40.87916957300007
            ],
            [
             -124.15798997199994,
             40.87923136100005
            ],
            [
             -124.15796325599996,
             40.87928549800006
            ],
            [
             -124.15793392599994,
             40.879323544000044
            ],
            [
             -124.15774523199997,
             40.87953910400006
            ],
            [
             -124.15752908399998,
             40.87981382300006
            ],
            [
             -124.157257389,
             40.880350613000076
            ],
            [
             -124.15703906899995,
             40.88078677800007
            ],
            [
             -124.15701536399996,
             40.88084007200007
            ],
            [
             -124.15699848999998,
             40.88090019600003
            ],
            [
             -124.15698669799997,
             40.88096540500004
            ],
            [
             -124.15697858199997,
             40.881034287000034
            ],
            [
             -124.15697299699997,
             40.881105699000045
            ],
            [
             -124.15695832199998,
             40.88139901900007
            ],
            [
             -124.15695252699999,
             40.881470222000075
            ],
            [
             -124.15694403499998,
             40.881538729000056
            ],
            [
             -124.15693161099995,
             40.88160330300008
            ],
            [
             -124.15691371599996,
             40.88166240600003
            ],
            [
             -124.15688841499997,
             40.881714104000025
            ],
            [
             -124.15685915599994,
             40.88175221900008
            ],
            [
             -124.15666690599994,
             40.881964211000025
            ],
            [
             -124.156634753,
             40.88199943200004
            ],
            [
             -124.156598439,
             40.882030490000034
            ],
            [
             -124.15652090099996,
             40.882087700000056
            ],
            [
             -124.15648458599998,
             40.882118760000026
            ],
            [
             -124.156452436,
             40.88215398400007
            ],
            [
             -124.15634659699998,
             40.88227073300004
            ]
           ],
           "type": "LineString"
          },
          "id": "32",
          "properties": {
           "CSU_ID": 19802,
           "ERODIBILITY": "High",
           "MEAN_SIG_WAVEHEIGHT": 2.305355,
           "TIDAL_RANGE": 2.983468,
           "river_label": "moderate river discharge",
           "sinuosity_label": "straight",
           "slope_label": "flat",
           "style": {
            "color": "yellow",
            "dashArray": "5",
            "fillOpacity": 0.5,
            "fill_color": "yellow",
            "opacity": 1,
            "weight": 4
           },
           "turbid_label": "turbid"
          },
          "type": "Feature"
         },
         {
          "geometry": {
           "coordinates": [
            [
             -124.15841834899999,
             40.879638502000034
            ],
            [
             -124.15838015299994,
             40.879634569000075
            ],
            [
             -124.15836270799997,
             40.87963067700008
            ],
            [
             -124.15834711899998,
             40.879624861000025
            ],
            [
             -124.15833417999994,
             40.87961637700005
            ],
            [
             -124.15832457599998,
             40.87960457300005
            ],
            [
             -124.158317792,
             40.87958998000005
            ],
            [
             -124.15831313999996,
             40.87957298200007
            ],
            [
             -124.158310127,
             40.879551578000076
            ],
            [
             -124.15830843599997,
             40.87952648400005
            ],
            [
             -124.15830788,
             40.87947104700004
            ],
            [
             -124.158311374,
             40.879364140000064
            ],
            [
             -124.15841828199996,
             40.879360646000066
            ],
            [
             -124.15847371799998,
             40.87936120100005
            ],
            [
             -124.15849881399998,
             40.87936289100003
            ],
            [
             -124.15852021799998,
             40.87936590600003
            ],
            [
             -124.15853721499997,
             40.87937055700007
            ],
            [
             -124.15855180699998,
             40.879377341000065
            ],
            [
             -124.15856361299996,
             40.87938694600007
            ],
            [
             -124.15857209599994,
             40.879399884000065
            ],
            [
             -124.15857791099995,
             40.87941547300005
            ],
            [
             -124.158581804,
             40.87943291800008
            ],
            [
             -124.15858573699995,
             40.87947111500006
            ],
            [
             -124.15858618099998,
             40.879511053000044
            ],
            [
             -124.15858343399998,
             40.87955016400008
            ],
            [
             -124.15858048099994,
             40.87956856100004
            ],
            [
             -124.158576031,
             40.87958560800007
            ],
            [
             -124.15856957199998,
             40.879600725000046
            ],
            [
             -124.15856040299997,
             40.87961316800005
            ],
            [
             -124.15854795999996,
             40.87962233700006
            ],
            [
             -124.15853284399998,
             40.879628797000066
            ],
            [
             -124.15851579599996,
             40.879633246000026
            ],
            [
             -124.15849739899994,
             40.87963619900006
            ],
            [
             -124.15845828799996,
             40.87963894600006
            ],
            [
             -124.15841834899999,
             40.879638502000034
            ]
           ],
           "type": "LineString"
          },
          "id": "33",
          "properties": {
           "CSU_ID": 19802,
           "ERODIBILITY": "High",
           "MEAN_SIG_WAVEHEIGHT": 2.305355,
           "TIDAL_RANGE": 2.983468,
           "river_label": "moderate river discharge",
           "sinuosity_label": "straight",
           "slope_label": "flat",
           "style": {
            "color": "yellow",
            "dashArray": "5",
            "fillOpacity": 0.5,
            "fill_color": "yellow",
            "opacity": 1,
            "weight": 4
           },
           "turbid_label": "turbid"
          },
          "type": "Feature"
         },
         {
          "geometry": {
           "coordinates": [
            [
             -124.15634659699998,
             40.88227073300004
            ],
            [
             -124.15626022199996,
             40.882366012000034
            ],
            [
             -124.15623097599996,
             40.88240413900007
            ],
            [
             -124.15620569099997,
             40.88245585300007
            ],
            [
             -124.15618781799998,
             40.88251497700003
            ],
            [
             -124.15617541999995,
             40.88257957800005
            ],
            [
             -124.15616695999995,
             40.88264811700003
            ],
            [
             -124.15616120199996,
             40.88271935800003
            ],
            [
             -124.15614677899998,
             40.883012929000074
            ],
            [
             -124.15614128799996,
             40.88308443600005
            ],
            [
             -124.15613327999995,
             40.88315342900006
            ],
            [
             -124.15612161499996,
             40.88321876400005
            ],
            [
             -124.15610488399994,
             40.883279033000065
            ],
            [
             -124.15608133599994,
             40.88333248500004
            ],
            [
             -124.15584084199998,
             40.88382354200007
            ],
            [
             -124.15581269999996,
             40.88387241800007
            ],
            [
             -124.15578180999995,
             40.883908922000046
            ],
            [
             -124.15555582999997,
             40.88415489100004
            ],
            [
             -124.155519788,
             40.88418631600007
            ],
            [
             -124.15544280399996,
             40.88424432200003
            ],
            [
             -124.15540672499998,
             40.884275770000045
            ],
            [
             -124.15517968299997,
             40.88452241600004
            ],
            [
             -124.15514850599999,
             40.88455909000004
            ],
            [
             -124.15511999399996,
             40.884608179000054
            ],
            [
             -124.154878968,
             40.88509626900003
            ],
            [
             -124.15485776699995,
             40.885146889000055
            ],
            [
             -124.15484489599999,
             40.885202900000024
            ],
            [
             -124.15483922599998,
             40.88526201500008
            ],
            [
             -124.15484018199999,
             40.88532212400003
            ],
            [
             -124.15484770599994,
             40.88538118200006
            ],
            [
             -124.15486226299998,
             40.88543707800005
            ],
            [
             -124.15488483499996,
             40.885487529000045
            ],
            [
             -124.15491148999996,
             40.885526036000044
            ],
            [
             -124.15497188999996,
             40.88559699100006
            ],
            [
             -124.15499848999997,
             40.88563544100003
            ],
            [
             -124.15502095699998,
             40.88568578700006
            ],
            [
             -124.15503536899996,
             40.88574153900004
            ],
            [
             -124.15504272199996,
             40.88580042500007
            ],
            [
             -124.15504349399998,
             40.885860352000066
            ],
            [
             -124.15503765699998,
             40.88591929800003
            ],
            [
             -124.15502466799995,
             40.88597519000007
            ],
            [
             -124.15479055699996,
             40.88664676900004
            ],
            [
             -124.15464348299997,
             40.88694654200003
            ],
            [
             -124.15455851499996,
             40.88717215300005
            ],
            [
             -124.15434604499995,
             40.887795968000034
            ],
            [
             -124.15427835999998,
             40.88805233700003
            ],
            [
             -124.15419291799998,
             40.88845441900003
            ],
            [
             -124.15412563799998,
             40.888659793000045
            ]
           ],
           "type": "LineString"
          },
          "id": "34",
          "properties": {
           "CSU_ID": 19802,
           "ERODIBILITY": "High",
           "MEAN_SIG_WAVEHEIGHT": 2.305355,
           "TIDAL_RANGE": 2.983468,
           "river_label": "moderate river discharge",
           "sinuosity_label": "straight",
           "slope_label": "flat",
           "style": {
            "color": "yellow",
            "dashArray": "5",
            "fillOpacity": 0.5,
            "fill_color": "yellow",
            "opacity": 1,
            "weight": 4
           },
           "turbid_label": "turbid"
          },
          "type": "Feature"
         },
         {
          "geometry": {
           "coordinates": [
            [
             -124.15412563799998,
             40.888659793000045
            ],
            [
             -124.15396916199995,
             40.88913743300003
            ],
            [
             -124.15394988199995,
             40.88918888500007
            ],
            [
             -124.15392291599994,
             40.88922744700005
            ],
            [
             -124.15389333699994,
             40.88924706500006
            ],
            [
             -124.15385945999998,
             40.88925589300004
            ],
            [
             -124.15382411799999,
             40.88925491300006
            ],
            [
             -124.15379004199997,
             40.889244577000056
            ],
            [
             -124.15375912899998,
             40.88922569600004
            ],
            [
             -124.15370038299994,
             40.88917796900006
            ],
            [
             -124.153668101,
             40.88915782500004
            ],
            [
             -124.15363161899995,
             40.88914526000008
            ],
            [
             -124.15359264099999,
             40.88914089100007
            ],
            [
             -124.15355361199994,
             40.889144886000054
            ],
            [
             -124.15351698799998,
             40.88915784200003
            ],
            [
             -124.15348447199995,
             40.889179969000054
            ],
            [
             -124.15345456399996,
             40.88920856900006
            ],
            [
             -124.15332351899997,
             40.88933388600003
            ],
            [
             -124.15328940199998,
             40.88936665700004
            ],
            [
             -124.15325981399997,
             40.88940427500006
            ],
            [
             -124.15323333699996,
             40.88945842000004
            ],
            [
             -124.15321540899998,
             40.88952055400006
            ],
            [
             -124.15320413699999,
             40.889588151000055
            ],
            [
             -124.15319821499997,
             40.88965914500005
            ],
            [
             -124.15319686699996,
             40.88973178500004
            ],
            [
             -124.15319979799995,
             40.889804498000046
            ],
            [
             -124.15320716599996,
             40.88987575200008
            ],
            [
             -124.15321958399994,
             40.88994394500003
            ],
            [
             -124.15323814099997,
             40.89000727800004
            ],
            [
             -124.15326443799995,
             40.89006363800007
            ],
            [
             -124.15329296199997,
             40.890104300000075
            ],
            [
             -124.15335669799998,
             40.89017905600008
            ],
            [
             -124.15338518099998,
             40.89021956900007
            ],
            [
             -124.15341139099996,
             40.89027562100006
            ],
            [
             -124.15342983499994,
             40.89033851700003
            ],
            [
             -124.15344212199994,
             40.89040616200003
            ],
            [
             -124.15344937099997,
             40.890476782000064
            ],
            [
             -124.15345222299999,
             40.89054882100004
            ],
            [
             -124.15345088999999,
             40.890620829000056
            ],
            [
             -124.153445149,
             40.890691342000025
            ],
            [
             -124.153434329,
             40.89075878300008
            ],
            [
             -124.15341727199996,
             40.890821337000034
            ],
            [
             -124.153392296,
             40.89087684700007
            ],
            [
             -124.15254570999997,
             40.89253320100005
            ],
            [
             -124.152064742,
             40.89324286300007
            ],
            [
             -124.15203689099997,
             40.89327739600003
            ],
            [
             -124.15200626899997,
             40.893295659000046
            ],
            [
             -124.15197181599996,
             40.89330302800005
            ],
            [
             -124.15193623999994,
             40.89330010600003
            ],
            [
             -124.15190218099997,
             40.89328692000004
            ],
            [
             -124.15187146199997,
             40.89326377500004
            ],
            [
             -124.15174566999997,
             40.893137196000055
            ],
            [
             -124.15154193099994,
             40.89295327600007
            ],
            [
             -124.15151074099998,
             40.89293017700004
            ],
            [
             -124.15147612799996,
             40.89291705200003
            ],
            [
             -124.15143992399999,
             40.892914200000064
            ],
            [
             -124.15140477699998,
             40.89292165200004
            ],
            [
             -124.15137342199995,
             40.89294001300004
            ],
            [
             -124.15134471999994,
             40.89297467600005
            ],
            [
             -124.15132200499994,
             40.893020388000025
            ],
            [
             -124.15111936999995,
             40.89342997800003
            ],
            [
             -124.15110744799995,
             40.89346777600008
            ],
            [
             -124.15110449999997,
             40.89350742800008
            ],
            [
             -124.15111039099997,
             40.89354667400005
            ],
            [
             -124.15112545799997,
             40.89358322900006
            ],
            [
             -124.15113887399997,
             40.893601130000036
            ]
           ],
           "type": "LineString"
          },
          "id": "35",
          "properties": {
           "CSU_ID": 19802,
           "ERODIBILITY": "High",
           "MEAN_SIG_WAVEHEIGHT": 2.305355,
           "TIDAL_RANGE": 2.983468,
           "river_label": "moderate river discharge",
           "sinuosity_label": "straight",
           "slope_label": "flat",
           "style": {
            "color": "yellow",
            "dashArray": "5",
            "fillOpacity": 0.5,
            "fill_color": "yellow",
            "opacity": 1,
            "weight": 4
           },
           "turbid_label": "turbid"
          },
          "type": "Feature"
         },
         {
          "geometry": {
           "coordinates": [
            [
             -124.15113887399997,
             40.893601130000036
            ],
            [
             -124.15114967799997,
             40.893615546000035
            ],
            [
             -124.151332793,
             40.89381853500004
            ],
            [
             -124.15145937499994,
             40.89394442300005
            ],
            [
             -124.151483601,
             40.893976259000056
            ],
            [
             -124.15149867399998,
             40.89401225100005
            ],
            [
             -124.15150456999999,
             40.89405085400006
            ],
            [
             -124.15150163199996,
             40.89408980300004
            ],
            [
             -124.151489718,
             40.894126852000056
            ],
            [
             -124.15126470499996,
             40.89460277200004
            ],
            [
             -124.15123607599998,
             40.894652724000025
            ],
            [
             -124.15120479499996,
             40.89469023000004
            ],
            [
             -124.15097751699994,
             40.89494229200005
            ],
            [
             -124.15094144799997,
             40.89497369000003
            ],
            [
             -124.15073623999996,
             40.89514836400008
            ],
            [
             -124.15070406599995,
             40.895170423000025
            ],
            [
             -124.15066794699999,
             40.895183503000055
            ],
            [
             -124.15062952,
             40.89518775100004
            ],
            [
             -124.15059118099998,
             40.89518370700006
            ],
            [
             -124.15055533299994,
             40.895171498000025
            ],
            [
             -124.15052364299999,
             40.89515170400006
            ],
            [
             -124.150465828,
             40.895104512000046
            ],
            [
             -124.15043517699996,
             40.895085735000066
            ],
            [
             -124.15040116299997,
             40.89507532600004
            ],
            [
             -124.15036561399995,
             40.89507402400005
            ],
            [
             -124.15033117599995,
             40.89508219500004
            ],
            [
             -124.15030056699999,
             40.89510070100005
            ],
            [
             -124.15027274999994,
             40.895135081000035
            ],
            [
             -124.15005850399996,
             40.89556156200007
            ],
            [
             -124.1499708987221,
             40.895785
            ]
           ],
           "type": "LineString"
          },
          "id": "36",
          "properties": {
           "CSU_ID": 19802,
           "ERODIBILITY": "High",
           "MEAN_SIG_WAVEHEIGHT": 2.305355,
           "TIDAL_RANGE": 2.983468,
           "river_label": "moderate river discharge",
           "sinuosity_label": "straight",
           "slope_label": "flat",
           "style": {
            "color": "yellow",
            "dashArray": "5",
            "fillOpacity": 0.5,
            "fill_color": "yellow",
            "opacity": 1,
            "weight": 4
           },
           "turbid_label": "turbid"
          },
          "type": "Feature"
         },
         {
          "geometry": {
           "coordinates": [
            [
             -124.18526258099996,
             40.83554419200004
            ],
            [
             -124.185256945,
             40.83558663100007
            ],
            [
             -124.18525115899996,
             40.835657842000046
            ],
            [
             -124.18524272199994,
             40.83572640500006
            ],
            [
             -124.18523040699995,
             40.835791088000065
            ],
            [
             -124.18521267199998,
             40.83585035200008
            ],
            [
             -124.18518758299996,
             40.83590226100006
            ],
            [
             -124.18515854799995,
             40.83594060100006
            ],
            [
             -124.18496793399999,
             40.836154228000055
            ],
            [
             -124.18493588499996,
             40.836189552000064
            ],
            [
             -124.18468260199995,
             40.836407886000075
            ],
            [
             -124.18464520799995,
             40.83643786500005
            ],
            [
             -124.18459555899994,
             40.83646521400004
            ],
            [
             -124.18454032399995,
             40.83648697900003
            ],
            [
             -124.18442359,
             40.83652424100006
            ],
            [
             -124.18436710599997,
             40.836544754000045
            ],
            [
             -124.18431539099998,
             40.83657003700006
            ],
            [
             -124.18427144799995,
             40.836603093000065
            ],
            [
             -124.18423752599995,
             40.83664616900006
            ],
            [
             -124.18398817999997,
             40.837128309000036
            ],
            [
             -124.18396363299996,
             40.837184609000076
            ],
            [
             -124.18394615499994,
             40.837247982000065
            ],
            [
             -124.183933562,
             40.83731623600005
            ],
            [
             -124.18392399899994,
             40.837387524000064
            ],
            [
             -124.18390755799999,
             40.837532777000035
            ],
            [
             -124.18389758199999,
             40.83760365000006
            ],
            [
             -124.18388419999997,
             40.83767111700007
            ],
            [
             -124.18386540799997,
             40.83773317400005
            ],
            [
             -124.18383878099996,
             40.83778739500008
            ],
            [
             -124.18380930899997,
             40.83782529500007
            ],
            [
             -124.18360778099998,
             40.83802800900003
            ],
            [
             -124.18357071099996,
             40.838058312000044
            ],
            [
             -124.18352097199994,
             40.83808557300006
            ],
            [
             -124.18346515999997,
             40.83810676000007
            ],
            [
             -124.18328617599997,
             40.838158770000064
            ],
            [
             -124.18323043699996,
             40.838180030000046
            ],
            [
             -124.18318079299996,
             40.83820738500003
            ],
            [
             -124.18314380699996,
             40.838237771000024
            ],
            [
             -124.18294087199996,
             40.83843907900007
            ],
            [
             -124.182910204,
             40.83847578500007
            ],
            [
             -124.18288251999996,
             40.83852510000003
            ],
            [
             -124.18286092999995,
             40.838580507000074
            ],
            [
             -124.18280803699997,
             40.83875861000007
            ],
            [
             -124.18278669199998,
             40.838814263000074
            ],
            [
             -124.18275943199995,
             40.838864003000026
            ],
            [
             -124.18272933399999,
             40.83890127800004
            ],
            [
             -124.18253937299994,
             40.83911555800006
            ],
            [
             -124.18247190599999,
             40.839182838000056
            ],
            [
             -124.18225689999997,
             40.83937207800005
            ],
            [
             -124.18221944899994,
             40.83940200100005
            ],
            [
             -124.18216948099996,
             40.839429031000066
            ],
            [
             -124.18211356199998,
             40.839450113000055
            ],
            [
             -124.181934432,
             40.83950198400004
            ],
            [
             -124.18187860999996,
             40.839523162000035
            ],
            [
             -124.18182885699997,
             40.83955041100006
            ],
            [
             -124.18179176299998,
             40.83958069800008
            ],
            [
             -124.18159032499995,
             40.839783554000064
            ],
            [
             -124.181561075,
             40.83982169500007
            ],
            [
             -124.18153596899998,
             40.83987361000004
            ],
            [
             -124.18151839399997,
             40.839933065000025
            ],
            [
             -124.18150636499996,
             40.83999807300006
            ],
            [
             -124.18149830299996,
             40.84006705500008
            ],
            [
             -124.18149294799997,
             40.840138756000044
            ],
            [
             -124.18147963499996,
             40.84043383300008
            ],
            [
             -124.181474128,
             40.84050548400006
            ],
            [
             -124.18146587799998,
             40.84057442400007
            ],
            [
             -124.18145364099996,
             40.84063941900007
            ],
            [
             -124.18143588099997,
             40.840698932000066
            ],
            [
             -124.18141066099997,
             40.840751037000075
            ],
            [
             -124.18115445399997,
             40.841191406000064
            ]
           ],
           "type": "LineString"
          },
          "id": "37",
          "properties": {
           "CSU_ID": 19775,
           "ERODIBILITY": "High",
           "MEAN_SIG_WAVEHEIGHT": 2.305355,
           "TIDAL_RANGE": 2.979268,
           "river_label": "moderate river discharge",
           "sinuosity_label": "straight",
           "slope_label": "flat",
           "style": {
            "color": "yellow",
            "dashArray": "5",
            "fillOpacity": 0.5,
            "fill_color": "yellow",
            "opacity": 1,
            "weight": 4
           },
           "turbid_label": "clear"
          },
          "type": "Feature"
         },
         {
          "geometry": {
           "coordinates": [
            [
             -124.15839921999998,
             40.84426494600007
            ],
            [
             -124.158362819,
             40.84425105300005
            ],
            [
             -124.158330746,
             40.84422789800004
            ],
            [
             -124.15814977899998,
             40.844046270000035
            ],
            [
             -124.158126714,
             40.84401403900006
            ],
            [
             -124.15811283899995,
             40.84397738000007
            ],
            [
             -124.15810814799994,
             40.84393796900008
            ],
            [
             -124.15811229199994,
             40.84389817400006
            ],
            [
             -124.15812540999997,
             40.843860300000074
            ],
            [
             -124.15833861799996,
             40.84343597000003
            ],
            [
             -124.15848319099996,
             40.84321721300006
            ],
            [
             -124.15851044399994,
             40.84317826100005
            ],
            [
             -124.15853315399994,
             40.84312740800004
            ],
            [
             -124.15854742599998,
             40.84307125300006
            ],
            [
             -124.15855433499996,
             40.84301212400004
            ],
            [
             -124.15855437399995,
             40.84295218800003
            ],
            [
             -124.15854745699994,
             40.842893580000066
            ],
            [
             -124.15853292399999,
             40.84283852600004
            ],
            [
             -124.15850950099997,
             40.842789475000075
            ],
            [
             -124.15848106199996,
             40.84275282600004
            ],
            [
             -124.15828941299998,
             40.84253983000008
            ],
            [
             -124.158067126,
             40.84226550300008
            ],
            [
             -124.15784082799996,
             40.84183066800006
            ],
            [
             -124.15781635399998,
             40.84177739100005
            ],
            [
             -124.15779881699996,
             40.84171730300005
            ],
            [
             -124.15778656999998,
             40.84165215400003
            ],
            [
             -124.15777837499996,
             40.84158335400008
            ],
            [
             -124.15777332399995,
             40.84151203500005
            ],
            [
             -124.15777080999999,
             40.84143914100008
            ],
            [
             -124.15777047999995,
             40.84136548600003
            ],
            [
             -124.15777221899998,
             40.84129182200007
            ],
            [
             -124.15777613999995,
             40.84121890100005
            ],
            [
             -124.15778257899996,
             40.84114753600005
            ],
            [
             -124.15779212499996,
             40.84107867200004
            ],
            [
             -124.15780564599999,
             40.84101345200003
            ],
            [
             -124.15782431699995,
             40.84095329100006
            ],
            [
             -124.15784967999997,
             40.84089996100005
            ],
            [
             -124.15787804599995,
             40.84085977900003
            ],
            [
             -124.15794064399995,
             40.84078706500003
            ],
            [
             -124.15796798599996,
             40.84074824400005
            ],
            [
             -124.15799111099994,
             40.84069770100007
            ],
            [
             -124.15800602799999,
             40.84064190000004
            ],
            [
             -124.15801374399996,
             40.84058308600004
            ],
            [
             -124.15801469499996,
             40.840523371000074
            ],
            [
             -124.15800874899998,
             40.84046487300003
            ],
            [
             -124.15799517699998,
             40.84040984300003
            ],
            [
             -124.15797260599999,
             40.84036081200003
            ],
            [
             -124.157944709,
             40.84032428200004
            ],
            [
             -124.15775373799994,
             40.840112833000035
            ],
            [
             -124.15761402699997,
             40.839980171000036
            ],
            [
             -124.15758197599996,
             40.839944142000036
            ],
            [
             -124.15755177899996,
             40.839885217000074
            ],
            [
             -124.15752986599995,
             40.839806743000054
            ],
            [
             -124.15751498299994,
             40.839714849000075
            ],
            [
             -124.15750578499996,
             40.839615750000064
            ],
            [
             -124.15750096999994,
             40.83951560600008
            ],
            [
             -124.15749934399997,
             40.83942047800008
            ],
            [
             -124.15749979699996,
             40.83933633600003
            ],
            [
             -124.15750289099998,
             40.83920944700003
            ],
            [
             -124.15779482599999,
             40.83920077500005
            ],
            [
             -124.158001631,
             40.83919747900006
            ],
            [
             -124.15810448499997,
             40.83919836900003
            ],
            [
             -124.15820023699996,
             40.839201897000066
            ],
            [
             -124.15828372199996,
             40.83920885200007
            ],
            [
             -124.15835155099995,
             40.83922006100005
            ],
            [
             -124.15841128699998,
             40.839236732000074
            ],
            [
             -124.158462666,
             40.839260628000034
            ],
            [
             -124.158502941,
             40.839294024000026
            ],
            [
             -124.15852989099994,
             40.839338490000046
            ],
            [
             -124.15854552299999,
             40.83939114700007
            ],
            [
             -124.15855210599995,
             40.83944857500006
            ],
            [
             -124.15855101799997,
             40.83950787500004
            ],
            [
             -124.15854289499998,
             40.83956644400007
            ],
            [
             -124.15852772999995,
             40.839621762000036
            ],
            [
             -124.15850493799996,
             40.83967120900007
            ],
            [
             -124.15847874299999,
             40.83970825400007
            ],
            [
             -124.15842253599999,
             40.83977384900004
            ],
            [
             -124.15840911199996,
             40.83979442700007
            ]
           ],
           "type": "LineString"
          },
          "id": "38",
          "properties": {
           "CSU_ID": 80660,
           "ERODIBILITY": "Non",
           "MEAN_SIG_WAVEHEIGHT": 2.305355,
           "TIDAL_RANGE": 2.979268,
           "river_label": "moderate river discharge",
           "sinuosity_label": "straight",
           "slope_label": "flat",
           "style": {
            "color": "yellow",
            "dashArray": "5",
            "fillOpacity": 0.5,
            "fill_color": "yellow",
            "opacity": 1,
            "weight": 4
           },
           "turbid_label": "clear"
          },
          "type": "Feature"
         },
         {
          "geometry": {
           "coordinates": [
            [
             -124.15840911199996,
             40.83979442700007
            ],
            [
             -124.15840040999996,
             40.83980777000005
            ],
            [
             -124.15838690599998,
             40.83984510100004
            ],
            [
             -124.15838233499994,
             40.839884304000066
            ],
            [
             -124.15838662899995,
             40.839923062000025
            ],
            [
             -124.15840020199994,
             40.83995904100004
            ],
            [
             -124.15842312499996,
             40.83999064300008
            ],
            [
             -124.15861282099996,
             40.84018083600006
            ],
            [
             -124.158649917,
             40.840210918000025
            ],
            [
             -124.15869991799997,
             40.84023812700008
            ],
            [
             -124.15875613499998,
             40.84025939500003
            ],
            [
             -124.158936601,
             40.840311952000036
            ],
            [
             -124.15899282799995,
             40.840333387000044
            ],
            [
             -124.15904294399996,
             40.84036087900006
            ],
            [
             -124.15908033299996,
             40.840391348000026
            ],
            [
             -124.15928567299994,
             40.84059220700004
            ],
            [
             -124.15931674999996,
             40.84062871000003
            ],
            [
             -124.15934488499994,
             40.84067777800004
            ],
            [
             -124.15986164299994,
             40.841710213000056
            ],
            [
             -124.15988652599998,
             40.84176358700006
            ],
            [
             -124.15990456699996,
             40.84182380000004
            ],
            [
             -124.15991741,
             40.841889104000074
            ],
            [
             -124.15992630099998,
             40.84195809000005
            ],
            [
             -124.15993214699995,
             40.842029618000026
            ],
            [
             -124.159935551,
             40.84210273300005
            ],
            [
             -124.15993685499996,
             40.842176606000066
            ],
            [
             -124.15993614699994,
             40.84225045300008
            ],
            [
             -124.15993327199999,
             40.84232348300003
            ],
            [
             -124.15992781999995,
             40.84239481900005
            ],
            [
             -124.15991908999996,
             40.842463430000066
            ],
            [
             -124.15990604999996,
             40.842528059000074
            ],
            [
             -124.15988728699995,
             40.84258712800005
            ],
            [
             -124.159860918,
             40.84263865400004
            ],
            [
             -124.15983055499998,
             40.84267644700003
            ],
            [
             -124.15962380299999,
             40.84287757100003
            ],
            [
             -124.15958629299996,
             40.84290783900008
            ],
            [
             -124.159536377,
             40.84293532800007
            ],
            [
             -124.15948086099996,
             40.84295716400004
            ],
            [
             -124.15936394099998,
             40.84299483400008
            ],
            [
             -124.159307776,
             40.84301592500003
            ],
            [
             -124.15925683199998,
             40.843042224000044
            ],
            [
             -124.15921428299998,
             40.84307691500004
            ],
            [
             -124.15918126699995,
             40.84312500800007
            ],
            [
             -124.15915796999997,
             40.843182839000065
            ],
            [
             -124.15914145499994,
             40.84324748300003
            ],
            [
             -124.15912931599996,
             40.84331654400006
            ],
            [
             -124.15909969999996,
             40.84353094000005
            ],
            [
             -124.15908607899996,
             40.84359884300005
            ],
            [
             -124.15906729599999,
             40.84366170700008
            ],
            [
             -124.159040915,
             40.84371710600004
            ],
            [
             -124.15901185299998,
             40.843756306000046
            ],
            [
             -124.15882200899995,
             40.84397782700006
            ],
            [
             -124.15879018899994,
             40.84401455100004
            ],
            [
             -124.15875412599996,
             40.84404679900007
            ],
            [
             -124.15854684799996,
             40.84422811400003
            ],
            [
             -124.15851406099995,
             40.84425119700006
            ],
            [
             -124.15847729199999,
             40.84426502000008
            ],
            [
             -124.15843819899999,
             40.844269516000054
            ],
            [
             -124.15839921999998,
             40.84426494600007
            ]
           ],
           "type": "LineString"
          },
          "id": "39",
          "properties": {
           "CSU_ID": 80660,
           "ERODIBILITY": "Non",
           "MEAN_SIG_WAVEHEIGHT": 2.305355,
           "TIDAL_RANGE": 2.979268,
           "river_label": "moderate river discharge",
           "sinuosity_label": "straight",
           "slope_label": "flat",
           "style": {
            "color": "yellow",
            "dashArray": "5",
            "fillOpacity": 0.5,
            "fill_color": "yellow",
            "opacity": 1,
            "weight": 4
           },
           "turbid_label": "clear"
          },
          "type": "Feature"
         },
         {
          "geometry": {
           "coordinates": [
            [
             -124.15992726499996,
             40.844888164000054
            ],
            [
             -124.15992768899997,
             40.84481836700007
            ],
            [
             -124.15993013699995,
             40.84473924900004
            ],
            [
             -124.15993474199996,
             40.844662397000036
            ],
            [
             -124.15994242099998,
             40.844588713000064
            ],
            [
             -124.15995439599999,
             40.84451941300006
            ],
            [
             -124.15997229599998,
             40.84445610900008
            ],
            [
             -124.15999824399995,
             40.84440091500005
            ],
            [
             -124.16002712299996,
             40.84436221900006
            ],
            [
             -124.16021585799996,
             40.844145999000034
            ],
            [
             -124.16024738399994,
             40.84411008200004
            ],
            [
             -124.16028321399995,
             40.84407847400007
            ],
            [
             -124.16049860599998,
             40.843889269000044
            ],
            [
             -124.16053708799996,
             40.84386029700005
            ],
            [
             -124.16059033199997,
             40.84383483400006
            ],
            [
             -124.16065125499995,
             40.843817028000046
            ],
            [
             -124.16071788999994,
             40.84380490600006
            ],
            [
             -124.16078872399999,
             40.84379694900008
            ],
            [
             -124.16086261299995,
             40.84379200400008
            ],
            [
             -124.160938698,
             40.843789205000064
            ],
            [
             -124.16109512399998,
             40.843787657000064
            ],
            [
             -124.16165834599997,
             40.84379421400007
            ],
            [
             -124.16181819299999,
             40.84379347400005
            ],
            [
             -124.16189658699994,
             40.84379134200003
            ],
            [
             -124.16197315499994,
             40.84378731700008
            ],
            [
             -124.16204697999996,
             40.84378060100005
            ],
            [
             -124.16211679599996,
             40.84377013000005
            ],
            [
             -124.16218087899995,
             40.843754485000034
            ],
            [
             -124.16223690599998,
             40.84373180000006
            ],
            [
             -124.162281797,
             40.84369966000003
            ],
            [
             -124.16231236599998,
             40.84365729600006
            ],
            [
             -124.16233113399994,
             40.843606874000045
            ],
            [
             -124.16233986599997,
             40.84355184400005
            ],
            [
             -124.16233943199995,
             40.843495346000054
            ],
            [
             -124.16232982699995,
             40.84344041400004
            ],
            [
             -124.16231018399998,
             40.84339018000003
            ],
            [
             -124.16227873999998,
             40.84334808300008
            ],
            [
             -124.16223402099996,
             40.84331681100008
            ],
            [
             -124.16217858599998,
             40.843294677000074
            ],
            [
             -124.16211539799997,
             40.843279333000055
            ],
            [
             -124.16204674199997,
             40.84326891400008
            ],
            [
             -124.16197438699999,
             40.843261935000044
            ],
            [
             -124.16189972499996,
             40.84325718600007
            ],
            [
             -124.16167250899997,
             40.843246573000044
            ],
            [
             -124.16159884199999,
             40.84324120400004
            ],
            [
             -124.161527907,
             40.84323322600005
            ],
            [
             -124.16146098599995,
             40.84322134900003
            ],
            [
             -124.16139966699996,
             40.84320398400007
            ],
            [
             -124.161345956,
             40.843179131000056
            ],
            [
             -124.16130632599999,
             40.84315013600008
            ],
            [
             -124.16127144799998,
             40.843116535000036
            ],
            [
             -124.16113374699995,
             40.842983383000046
            ],
            [
             -124.16110014199995,
             40.84295081100004
            ],
            [
             -124.16107177299995,
             40.842914147000045
            ],
            [
             -124.16104866999996,
             40.842864880000036
            ],
            [
             -124.16103458299995,
             40.84280950900006
            ],
            [
             -124.16102813699996,
             40.842750558000034
            ],
            [
             -124.16102858599999,
             40.84269029200004
            ],
            [
             -124.161035788,
             40.84263086200008
            ],
            [
             -124.16105016699998,
             40.84257441900007
            ],
            [
             -124.161295796,
             40.84189900400003
            ],
            [
             -124.16144856499994,
             40.841597954000065
            ],
            [
             -124.16147680499995,
             40.84155729200006
            ],
            [
             -124.16150190499997,
             40.84150363100008
            ],
            [
             -124.16152025599996,
             40.84144326900008
            ],
            [
             -124.16153344699995,
             40.841377916000056
            ],
            [
             -124.16154267499996,
             40.84130895900006
            ],
            [
             -124.16154880299996,
             40.841237541000055
            ],
            [
             -124.16155238099998,
             40.84116463500004
            ],
            [
             -124.16155369699999,
             40.84109111400005
            ],
            [
             -124.16155275799997,
             40.841017831000045
            ],
            [
             -124.161549305,
             40.84094567600005
            ],
            [
             -124.16154278899995,
             40.840875666000045
            ],
            [
             -124.16153231899995,
             40.84080901900006
            ],
            [
             -124.16151661599997,
             40.84074724800007
            ],
            [
             -124.161493931,
             40.84069226500003
            ],
            [
             -124.16146195199997,
             40.84064649100003
            ],
            [
             -124.161418949,
             40.84061172200006
            ],
            [
             -124.16136751,
             40.84058542100007
            ],
            [
             -124.16131088099996,
             40.84056436600008
            ],
            [
             -124.16119321499997,
             40.84052686800004
            ],
            [
             -124.16113739699995,
             40.840505214000075
            ],
            [
             -124.16108715599995,
             40.84047804900007
            ],
            [
             -124.16104926799994,
             40.84044825800004
            ],
            [
             -124.16095601599994,
             40.84036897500005
            ]
           ],
           "type": "LineString"
          },
          "id": "40",
          "properties": {
           "CSU_ID": 18876,
           "ERODIBILITY": "High",
           "MEAN_SIG_WAVEHEIGHT": 2.305355,
           "TIDAL_RANGE": 2.979268,
           "river_label": "moderate river discharge",
           "sinuosity_label": "sinuous",
           "slope_label": "sloping",
           "style": {
            "color": "yellow",
            "dashArray": "5",
            "fillOpacity": 0.5,
            "fill_color": "yellow",
            "opacity": 1,
            "weight": 4
           },
           "turbid_label": "clear"
          },
          "type": "Feature"
         },
         {
          "geometry": {
           "coordinates": [
            [
             -124.18115445399997,
             40.841191406000064
            ],
            [
             -124.18085987299997,
             40.84169772600006
            ],
            [
             -124.18026711299996,
             40.842219476000025
            ],
            [
             -124.180217154,
             40.842247117000056
            ],
            [
             -124.18017995999998,
             40.84227777500007
            ],
            [
             -124.17997904099997,
             40.84248298800003
            ],
            [
             -124.17994983799997,
             40.842521342000055
            ],
            [
             -124.17992354299997,
             40.842576078000036
            ],
            [
             -124.17990503799996,
             40.842638571000066
            ],
            [
             -124.17989180999996,
             40.842706312000075
            ],
            [
             -124.17986348599999,
             40.84292077500004
            ],
            [
             -124.17985160299997,
             40.842989791000036
            ],
            [
             -124.17983510699997,
             40.84305418400004
            ],
            [
             -124.17981144999999,
             40.84311140900007
            ],
            [
             -124.17977749999994,
             40.84315833200003
            ],
            [
             -124.17973079399997,
             40.84319249500004
            ],
            [
             -124.17967379399994,
             40.84321636100003
            ],
            [
             -124.17960963099995,
             40.843233059000056
            ],
            [
             -124.17954085199995,
             40.84324514000008
            ],
            [
             -124.17932706,
             40.84327391700003
            ],
            [
             -124.17925947199996,
             40.843287184000076
            ],
            [
             -124.179197037,
             40.84330560600006
            ],
            [
             -124.17914220399996,
             40.843331628000044
            ],
            [
             -124.17910358499995,
             40.84336039300007
            ],
            [
             -124.17888707999998,
             40.84354821000005
            ],
            [
             -124.178851066,
             40.84357959600004
            ],
            [
             -124.17803531599998,
             40.844389929000045
            ],
            [
             -124.17800295099994,
             40.84442603400004
            ],
            [
             -124.17781126299997,
             40.84463995100003
            ],
            [
             -124.17778345699998,
             40.84467682300004
            ],
            [
             -124.17776104399996,
             40.844725880000055
            ],
            [
             -124.177747937,
             40.84478051700006
            ],
            [
             -124.17774302899994,
             40.84483807500004
            ],
            [
             -124.17774588799995,
             40.84489604200007
            ],
            [
             -124.17775674099994,
             40.84495190700005
            ],
            [
             -124.17777648999999,
             40.84500299500007
            ],
            [
             -124.17780673899995,
             40.84504631200008
            ],
            [
             -124.17784858299996,
             40.84507963600004
            ],
            [
             -124.177898847,
             40.845105199000045
            ],
            [
             -124.17795364399996,
             40.84512600200003
            ],
            [
             -124.17806259799994,
             40.845163942000056
            ],
            [
             -124.17810951799999,
             40.84518616200006
            ],
            [
             -124.17814598899997,
             40.845214112000065
            ],
            [
             -124.17816634899998,
             40.845244801000035
            ],
            [
             -124.178176179,
             40.84527943200004
            ],
            [
             -124.17817612199997,
             40.84531542800005
            ],
            [
             -124.17816627899998,
             40.845350300000064
            ],
            [
             -124.17794408099996,
             40.84581891300007
            ],
            [
             -124.17791520599997,
             40.84586828700003
            ],
            [
             -124.177369506,
             40.84667901200004
            ],
            [
             -124.17736816899998,
             40.84668061600007
            ]
           ],
           "type": "LineString"
          },
          "id": "41",
          "properties": {
           "CSU_ID": 19775,
           "ERODIBILITY": "High",
           "MEAN_SIG_WAVEHEIGHT": 2.305355,
           "TIDAL_RANGE": 2.979268,
           "river_label": "moderate river discharge",
           "sinuosity_label": "straight",
           "slope_label": "flat",
           "style": {
            "color": "yellow",
            "dashArray": "5",
            "fillOpacity": 0.5,
            "fill_color": "yellow",
            "opacity": 1,
            "weight": 4
           },
           "turbid_label": "clear"
          },
          "type": "Feature"
         },
         {
          "geometry": {
           "coordinates": [
            [
             -124.15464490499994,
             40.84804745800005
            ],
            [
             -124.15477044999994,
             40.84799910800007
            ],
            [
             -124.155229739,
             40.84778654300004
            ],
            [
             -124.15527926399994,
             40.84775880300003
            ],
            [
             -124.15531589699998,
             40.84772824800007
            ],
            [
             -124.15550238799995,
             40.84753587600005
            ],
            [
             -124.15552482799995,
             40.84750417400005
            ],
            [
             -124.15553808199996,
             40.84746830500006
            ],
            [
             -124.15554232199997,
             40.84742993500004
            ],
            [
             -124.15553810499995,
             40.84739147300007
            ],
            [
             -124.15552553899994,
             40.847355314000026
            ],
            [
             -124.15550517499997,
             40.84732309300006
            ],
            [
             -124.15545596399994,
             40.84726331200005
            ],
            [
             -124.15543554399994,
             40.847231039000064
            ],
            [
             -124.15542289099994,
             40.84719479700004
            ],
            [
             -124.15541855199996,
             40.84715622500005
            ],
            [
             -124.15542265299996,
             40.84711772800006
            ],
            [
             -124.15543575899994,
             40.847081728000035
            ],
            [
             -124.155458061,
             40.84704990900008
            ],
            [
             -124.15548684899994,
             40.84702075200005
            ],
            [
             -124.15561311899995,
             40.84689291400008
            ],
            [
             -124.15564626399998,
             40.84685952500007
            ],
            [
             -124.15568437799999,
             40.84683053800006
            ],
            [
             -124.15573652599994,
             40.84680554000005
            ],
            [
             -124.15579637099995,
             40.84678794300004
            ],
            [
             -124.15586185299998,
             40.84677582000006
            ],
            [
             -124.15593133299996,
             40.846767629000055
            ],
            [
             -124.156003522,
             40.84676213600005
            ],
            [
             -124.156300161,
             40.846748510000054
            ],
            [
             -124.15637208599998,
             40.846743024000034
            ],
            [
             -124.15644125899996,
             40.846734843000036
            ],
            [
             -124.15650644699997,
             40.84672273100006
            ],
            [
             -124.156566119,
             40.84670515200003
            ],
            [
             -124.15661835099996,
             40.84668017400003
            ],
            [
             -124.15665691499999,
             40.84665121000006
            ],
            [
             -124.15687155199998,
             40.84646107000003
            ],
            [
             -124.15690721799996,
             40.84642931500008
            ],
            [
             -124.15713821299994,
             40.84618850600003
            ],
            [
             -124.15726242099998,
             40.84604313700004
            ],
            [
             -124.15729366999994,
             40.846006989000045
            ],
            [
             -124.15752866399998,
             40.845770007000056
            ],
            [
             -124.15759591299997,
             40.845702291000066
            ],
            [
             -124.15781011899998,
             40.84551090100007
            ],
            [
             -124.15784828299996,
             40.845481310000025
            ],
            [
             -124.15790258799996,
             40.84545422100007
            ],
            [
             -124.15870882499996,
             40.84518407300004
            ],
            [
             -124.15876506799998,
             40.84517045200005
            ],
            [
             -124.15882425599995,
             40.84516403300006
            ],
            [
             -124.15888425699995,
             40.845164381000075
            ],
            [
             -124.15894296399995,
             40.84517162700007
            ],
            [
             -124.15899815699998,
             40.84518647800007
            ],
            [
             -124.15904738999996,
             40.84521024900005
            ],
            [
             -124.15908422599995,
             40.84523905400005
            ],
            [
             -124.15929733299998,
             40.84543657200004
            ],
            [
             -124.15933344099994,
             40.845470170000056
            ],
            [
             -124.15936545999995,
             40.84550798200007
            ],
            [
             -124.15942462499999,
             40.84558853400006
            ],
            [
             -124.15945656599996,
             40.845626269000036
            ],
            [
             -124.15949249699997,
             40.84565969000005
            ],
            [
             -124.15969438699994,
             40.84584599100003
            ],
            [
             -124.15972494099998,
             40.845868514000074
            ],
            [
             -124.15975870299997,
             40.84588089700003
            ],
            [
             -124.15979374999995,
             40.84588277900008
            ],
            [
             -124.15982730899998,
             40.84587401700003
            ],
            [
             -124.15985648299994,
             40.84585383700005
            ],
            [
             -124.15988274699998,
             40.84581393600007
            ],
            [
             -124.15990091799995,
             40.84576047000007
            ],
            [
             -124.15991312099999,
             40.84569722500004
            ],
            [
             -124.15992098799995,
             40.845627053000044
            ],
            [
             -124.15992574399996,
             40.84555205800007
            ],
            [
             -124.15992937699997,
             40.845393356000045
            ],
            [
             -124.15992670299994,
             40.84498085900003
            ],
            [
             -124.15992726499996,
             40.844888164000054
            ]
           ],
           "type": "LineString"
          },
          "id": "42",
          "properties": {
           "CSU_ID": 18876,
           "ERODIBILITY": "High",
           "MEAN_SIG_WAVEHEIGHT": 2.305355,
           "TIDAL_RANGE": 2.979268,
           "river_label": "moderate river discharge",
           "sinuosity_label": "sinuous",
           "slope_label": "sloping",
           "style": {
            "color": "yellow",
            "dashArray": "5",
            "fillOpacity": 0.5,
            "fill_color": "yellow",
            "opacity": 1,
            "weight": 4
           },
           "turbid_label": "clear"
          },
          "type": "Feature"
         },
         {
          "geometry": {
           "coordinates": [
            [
             -124.17736816899998,
             40.84668061600007
            ],
            [
             -124.17733884199998,
             40.84671577600005
            ],
            [
             -124.17711416599997,
             40.84696290900007
            ],
            [
             -124.17707825699995,
             40.84699438700005
            ],
            [
             -124.17700156499996,
             40.84705246200008
            ],
            [
             -124.17696567099995,
             40.84708395100006
            ],
            [
             -124.17693392899997,
             40.84711959400005
            ],
            [
             -124.17674357499999,
             40.84733354800005
            ],
            [
             -124.17671437399997,
             40.84737174000003
            ],
            [
             -124.17668786099995,
             40.84742610200004
            ],
            [
             -124.17666902499997,
             40.847488148000025
            ],
            [
             -124.176655488,
             40.847555500000055
            ],
            [
             -124.17664526599998,
             40.84762617700005
            ],
            [
             -124.17662800999994,
             40.84777076100005
            ],
            [
             -124.17661779499997,
             40.84784149500007
            ],
            [
             -124.17660428,
             40.847908948000054
            ],
            [
             -124.17658549199996,
             40.847971158000064
            ],
            [
             -124.17655906999994,
             40.84802576800007
            ],
            [
             -124.17604395599994,
             40.84878501400004
            ],
            [
             -124.17601050499997,
             40.84882546100005
            ],
            [
             -124.17596707399997,
             40.84885385000007
            ],
            [
             -124.17591583599994,
             40.848871494000036
            ],
            [
             -124.17585972899997,
             40.84888016900004
            ],
            [
             -124.175801332,
             40.84888092800003
            ],
            [
             -124.17574303599997,
             40.84887416500004
            ],
            [
             -124.17568717399996,
             40.848859642000036
            ],
            [
             -124.17563616899997,
             40.84883651800004
            ],
            [
             -124.17559674899996,
             40.848808947000066
            ],
            [
             -124.17552272799998,
             40.84874548200003
            ],
            [
             -124.17548201499994,
             40.84871662000006
            ],
            [
             -124.17542544699995,
             40.84868970900004
            ],
            [
             -124.17536188999998,
             40.848670456000036
            ],
            [
             -124.17529359899999,
             40.84865739800006
            ],
            [
             -124.17522251799994,
             40.848649590000036
            ],
            [
             -124.17515041399997,
             40.84864659600004
            ],
            [
             -124.17507901899995,
             40.84864847600005
            ],
            [
             -124.17501016499995,
             40.84865582600003
            ],
            [
             -124.17494594599998,
             40.84866983000006
            ],
            [
             -124.174888883,
             40.84869234300004
            ],
            [
             -124.17484208599996,
             40.84872600700004
            ],
            [
             -124.17480800499999,
             40.848772936000046
            ],
            [
             -124.17478416799997,
             40.84883043000008
            ],
            [
             -124.17476743499998,
             40.84889519400008
            ],
            [
             -124.17475525699996,
             40.84896457700006
            ],
            [
             -124.17472576999995,
             40.84917963100003
            ],
            [
             -124.17471212699996,
             40.849247380000065
            ],
            [
             -124.17469326699995,
             40.849309841000036
            ],
            [
             -124.17466675999998,
             40.849364585000046
            ],
            [
             -124.17463757499996,
             40.84940306300007
            ],
            [
             -124.17444925899997,
             40.84962002900005
            ],
            [
             -124.17431657399999,
             40.84975712900007
            ],
            [
             -124.17428727699996,
             40.84979524900007
            ],
            [
             -124.174261291,
             40.84984857000006
            ],
            [
             -124.17424313699996,
             40.849909712000056
            ],
            [
             -124.17423079799994,
             40.84997666600003
            ],
            [
             -124.17422271199996,
             40.85004786400003
            ],
            [
             -124.17421767099995,
             40.85012210300005
            ],
            [
             -124.17421318199996,
             40.850276163000046
            ],
            [
             -124.17420969399996,
             40.850589754000055
            ],
            [
             -124.17420688299995,
             40.85066620900005
            ],
            [
             -124.17420200099997,
             40.85074059300007
            ],
            [
             -124.17419411099996,
             40.85081196700003
            ],
            [
             -124.17418199499997,
             40.850879117000034
            ],
            [
             -124.17416407999997,
             40.850940465000065
            ],
            [
             -124.17413832999995,
             40.850993978000076
            ],
            [
             -124.17410920599997,
             40.85103223100003
            ],
            [
             -124.173918271,
             40.85124553700007
            ],
            [
             -124.17388644399995,
             40.851281087000075
            ],
            [
             -124.17385046899994,
             40.85131248500005
            ],
            [
             -124.17370525299998,
             40.85143676300004
            ],
            [
             -124.17350108399995,
             40.85163683600007
            ],
            [
             -124.17343328599998,
             40.85170378600003
            ],
            [
             -124.17334851899994,
             40.85178786200004
            ]
           ],
           "type": "LineString"
          },
          "id": "43",
          "properties": {
           "CSU_ID": 19775,
           "ERODIBILITY": "High",
           "MEAN_SIG_WAVEHEIGHT": 2.305355,
           "TIDAL_RANGE": 2.979268,
           "river_label": "moderate river discharge",
           "sinuosity_label": "straight",
           "slope_label": "flat",
           "style": {
            "color": "yellow",
            "dashArray": "5",
            "fillOpacity": 0.5,
            "fill_color": "yellow",
            "opacity": 1,
            "weight": 4
           },
           "turbid_label": "clear"
          },
          "type": "Feature"
         },
         {
          "geometry": {
           "coordinates": [
            [
             -124.15534058699996,
             40.85429963800004
            ],
            [
             -124.15534014399998,
             40.85428103100003
            ],
            [
             -124.155340159,
             40.854038444000025
            ],
            [
             -124.15534722599995,
             40.85346541800004
            ],
            [
             -124.15534932999998,
             40.853139913000064
            ],
            [
             -124.15534792399995,
             40.85297961300006
            ],
            [
             -124.15534584,
             40.85290084600007
            ],
            [
             -124.15534227799998,
             40.852823553000064
            ],
            [
             -124.15533662899998,
             40.852748345000066
            ],
            [
             -124.15532806899995,
             40.852676047000045
            ],
            [
             -124.15531550399999,
             40.85260775300003
            ],
            [
             -124.15529749599995,
             40.85254489600004
            ],
            [
             -124.15527219499995,
             40.85248932700006
            ],
            [
             -124.15524471099997,
             40.85244941900004
            ],
            [
             -124.155183266,
             40.85237605900005
            ],
            [
             -124.15515588399995,
             40.85233602900007
            ],
            [
             -124.15513121199996,
             40.852281385000026
            ],
            [
             -124.15511366599998,
             40.85221960200005
            ],
            [
             -124.15510147099997,
             40.85215245200004
            ],
            [
             -124.15509322599996,
             40.85208133000003
            ],
            [
             -124.15508783599995,
             40.852007334000064
            ],
            [
             -124.15508229299996,
             40.85185400700004
            ],
            [
             -124.15507784799996,
             40.85161984200005
            ],
            [
             -124.15507515299998,
             40.851542892000055
            ],
            [
             -124.15507074699997,
             40.851467584000034
            ],
            [
             -124.15506374799998,
             40.85139480700008
            ],
            [
             -124.155053007,
             40.85132570500008
            ],
            [
             -124.15503703799999,
             40.85126176400007
            ],
            [
             -124.15501392099998,
             40.85120493000005
            ],
            [
             -124.15498117499999,
             40.85115770900006
            ],
            [
             -124.15493842099994,
             40.85112281500005
            ],
            [
             -124.15488761299997,
             40.85109608600004
            ],
            [
             -124.15472070399994,
             40.851032460000056
            ],
            [
             -124.15467096999998,
             40.85100686200008
            ],
            [
             -124.154630054,
             40.85097388300005
            ],
            [
             -124.15460098199998,
             40.85093112800007
            ],
            [
             -124.15458254099997,
             40.850880688000075
            ],
            [
             -124.15457301199996,
             40.85082543400006
            ],
            [
             -124.15457137299995,
             40.85076791100005
            ],
            [
             -124.15457725999994,
             40.85071049100003
            ],
            [
             -124.15459090699994,
             40.85065550000007
            ],
            [
             -124.15461316399995,
             40.85060535800005
            ],
            [
             -124.15463997999996,
             40.85056668500005
            ],
            [
             -124.15470195799998,
             40.850494138000045
            ],
            [
             -124.15473009199997,
             40.85045414500007
            ],
            [
             -124.15475616499998,
             40.850398400000074
            ],
            [
             -124.15477466199997,
             40.85033557700007
            ],
            [
             -124.15478711699996,
             40.85026786800006
            ],
            [
             -124.15479457899994,
             40.85019709800008
            ],
            [
             -124.15479766399994,
             40.850124866000044
            ],
            [
             -124.15479655499996,
             40.850052650000066
            ],
            [
             -124.15479101199998,
             40.849981925000066
            ],
            [
             -124.154780357,
             40.84991428300003
            ],
            [
             -124.15476342699998,
             40.84985153500003
            ],
            [
             -124.15473853099996,
             40.84979584800004
            ],
            [
             -124.15451342199998,
             40.84935900700003
            ],
            [
             -124.15436799099996,
             40.84914241300004
            ],
            [
             -124.15428785899996,
             40.84899691000004
            ],
            [
             -124.15407878599996,
             40.848578340000074
            ],
            [
             -124.154065791,
             40.84854135300003
            ],
            [
             -124.15406175399994,
             40.848502472000064
            ],
            [
             -124.15406657399996,
             40.84846396800003
            ],
            [
             -124.15408063999996,
             40.84842815800005
            ],
            [
             -124.154104013,
             40.848396637000064
            ],
            [
             -124.15429567199999,
             40.848205963000055
            ],
            [
             -124.15433291099998,
             40.84817564700006
            ],
            [
             -124.15438302999996,
             40.84814814600003
            ],
            [
             -124.15443937699996,
             40.848126609000076
            ],
            [
             -124.15464490499994,
             40.84804745800005
            ]
           ],
           "type": "LineString"
          },
          "id": "44",
          "properties": {
           "CSU_ID": 18482,
           "ERODIBILITY": "High",
           "MEAN_SIG_WAVEHEIGHT": 2.305355,
           "TIDAL_RANGE": 2.979268,
           "river_label": "moderate river discharge",
           "sinuosity_label": "sinuous",
           "slope_label": "flat",
           "style": {
            "color": "yellow",
            "dashArray": "5",
            "fillOpacity": 0.5,
            "fill_color": "yellow",
            "opacity": 1,
            "weight": 4
           },
           "turbid_label": "clear"
          },
          "type": "Feature"
         },
         {
          "geometry": {
           "coordinates": [
            [
             -124.148017633,
             40.85374962700007
            ],
            [
             -124.14796419099997,
             40.85374174900005
            ],
            [
             -124.14791419599999,
             40.85372765300008
            ],
            [
             -124.147869701,
             40.85370615000005
            ],
            [
             -124.14783213399994,
             40.85367649600005
            ],
            [
             -124.14763067599995,
             40.85347894900008
            ],
            [
             -124.14760322099994,
             40.85344671900003
            ],
            [
             -124.14758569699995,
             40.85340940300006
            ],
            [
             -124.14758071399996,
             40.853364499000065
            ],
            [
             -124.14758928299995,
             40.853314271000045
            ],
            [
             -124.14761115999994,
             40.85326345900006
            ],
            [
             -124.14780108599996,
             40.85295367000003
            ],
            [
             -124.14799682599994,
             40.85294750000003
            ],
            [
             -124.14808779199996,
             40.85294662800004
            ],
            [
             -124.148184255,
             40.85294821700006
            ],
            [
             -124.14828057399995,
             40.85295341900007
            ],
            [
             -124.14837098399994,
             40.85296349500004
            ],
            [
             -124.14844956499996,
             40.852979799000025
            ],
            [
             -124.14851031999996,
             40.85300369500004
            ],
            [
             -124.14855117899998,
             40.85303681700003
            ],
            [
             -124.14857677099997,
             40.853076962000046
            ],
            [
             -124.14859305299996,
             40.85312424400007
            ],
            [
             -124.14860187099998,
             40.85317598000006
            ],
            [
             -124.14860435999998,
             40.85322993500006
            ],
            [
             -124.14860103399997,
             40.85328414700007
            ],
            [
             -124.14859185899996,
             40.85333677800003
            ],
            [
             -124.14857628599998,
             40.85338597300006
            ],
            [
             -124.148553258,
             40.853429736000066
            ],
            [
             -124.14852219199997,
             40.85346681000004
            ],
            [
             -124.14831288899995,
             40.85367343900003
            ],
            [
             -124.14827523999998,
             40.853703652000036
            ],
            [
             -124.14823085699999,
             40.85372577800007
            ],
            [
             -124.14818103199997,
             40.85374051000008
            ],
            [
             -124.14812772699997,
             40.85374901300003
            ],
            [
             -124.14807270399996,
             40.85375197500008
            ],
            [
             -124.148017633,
             40.85374962700007
            ]
           ],
           "type": "LineString"
          },
          "id": "45",
          "properties": {
           "CSU_ID": 80660,
           "ERODIBILITY": "Non",
           "MEAN_SIG_WAVEHEIGHT": 2.305355,
           "TIDAL_RANGE": 2.979268,
           "river_label": "moderate river discharge",
           "sinuosity_label": "straight",
           "slope_label": "flat",
           "style": {
            "color": "yellow",
            "dashArray": "5",
            "fillOpacity": 0.5,
            "fill_color": "yellow",
            "opacity": 1,
            "weight": 4
           },
           "turbid_label": "clear"
          },
          "type": "Feature"
         },
         {
          "geometry": {
           "coordinates": [
            [
             -124.17334851899994,
             40.85178786200004
            ],
            [
             -124.17323033699995,
             40.85190507900006
            ],
            [
             -124.172892172,
             40.852240651000045
            ],
            [
             -124.17268930899996,
             40.85244203000008
            ],
            [
             -124.17262229599999,
             40.85250976400005
            ],
            [
             -124.17243138299995,
             40.852723092000076
            ],
            [
             -124.17240102599999,
             40.85276010800004
            ],
            [
             -124.17237346999997,
             40.852809551000064
            ],
            [
             -124.17235184099997,
             40.85286492000006
            ],
            [
             -124.17229831499998,
             40.85304239000004
            ],
            [
             -124.17227668099997,
             40.85309775400003
            ],
            [
             -124.172249121,
             40.85314719300004
            ],
            [
             -124.17221875899997,
             40.85318420400006
            ],
            [
             -124.17202775599998,
             40.85339744400005
            ],
            [
             -124.17196068599998,
             40.853465121000056
            ],
            [
             -124.17172551199997,
             40.853701562000026
            ],
            [
             -124.17168956399996,
             40.85373298800005
            ],
            [
             -124.17154497699994,
             40.85385789600008
            ],
            [
             -124.17134141799994,
             40.854058578000036
            ],
            [
             -124.17127412399998,
             40.85412603100008
            ],
            [
             -124.17108205399995,
             40.854338203000054
            ],
            [
             -124.17105148099995,
             40.854375005000065
            ],
            [
             -124.17102369699995,
             40.854424219000066
            ],
            [
             -124.17080957099995,
             40.854874203000065
            ],
            [
             -124.170681157,
             40.855198157000075
            ],
            [
             -124.16985172199998,
             40.85687117200007
            ],
            [
             -124.16982370399995,
             40.85692015200004
            ],
            [
             -124.16979293999998,
             40.85695676000006
            ],
            [
             -124.16960187399997,
             40.85716993600005
            ],
            [
             -124.16946735299996,
             40.85730491100003
            ],
            [
             -124.16943658899999,
             40.85734152100008
            ],
            [
             -124.16940857099996,
             40.857390501000054
            ],
            [
             -124.16923808299998,
             40.85774527600006
            ]
           ],
           "type": "LineString"
          },
          "id": "46",
          "properties": {
           "CSU_ID": 20274,
           "ERODIBILITY": "High",
           "MEAN_SIG_WAVEHEIGHT": 2.305355,
           "TIDAL_RANGE": 2.979268,
           "river_label": "moderate river discharge",
           "sinuosity_label": "straight",
           "slope_label": "sloping",
           "style": {
            "color": "yellow",
            "dashArray": "5",
            "fillOpacity": 0.5,
            "fill_color": "yellow",
            "opacity": 1,
            "weight": 4
           },
           "turbid_label": "clear"
          },
          "type": "Feature"
         },
         {
          "geometry": {
           "coordinates": [
            [
             -124.14335350899995,
             40.85754427900008
            ],
            [
             -124.143392329,
             40.857505411000034
            ],
            [
             -124.14345964999995,
             40.85743788000008
            ],
            [
             -124.14366143599995,
             40.85723474300005
            ],
            [
             -124.14372860999998,
             40.85716673200005
            ],
            [
             -124.14392983899995,
             40.85696117900005
            ],
            [
             -124.14405545399995,
             40.85681414100003
            ],
            [
             -124.14408723699995,
             40.85677758700007
            ],
            [
             -124.14433635399996,
             40.85655189900007
            ],
            [
             -124.144373326,
             40.85652341500003
            ],
            [
             -124.144422707,
             40.85649994100004
            ],
            [
             -124.144478,
             40.85648536700006
            ],
            [
             -124.14453669,
             40.856478451000044
            ],
            [
             -124.144596477,
             40.85647858400006
            ],
            [
             -124.14465512399994,
             40.85648577100005
            ],
            [
             -124.14471032299997,
             40.85650063000003
            ],
            [
             -124.14475956499996,
             40.85652441000008
            ],
            [
             -124.14479637599999,
             40.85655318800008
            ],
            [
             -124.14500775799996,
             40.85674898000008
            ],
            [
             -124.14504327699996,
             40.85678198700003
            ],
            [
             -124.145074637,
             40.856819141000074
            ],
            [
             -124.14513240599996,
             40.85689829300003
            ],
            [
             -124.14516370999996,
             40.85693538900006
            ],
            [
             -124.14519914799996,
             40.856968316000064
            ],
            [
             -124.14541206499996,
             40.85716561300006
            ],
            [
             -124.14545034899999,
             40.857195854000054
            ],
            [
             -124.14550394399998,
             40.857222980000074
            ],
            [
             -124.14556542599996,
             40.85724234500003
            ],
            [
             -124.14563276099994,
             40.85725597800007
            ],
            [
             -124.145704374,
             40.85726543200008
            ],
            [
             -124.14577904699996,
             40.85727186500003
            ],
            [
             -124.14585583699994,
             40.857276117000026
            ],
            [
             -124.14593400299998,
             40.85727876000004
            ],
            [
             -124.14609206499995,
             40.857280400000036
            ],
            [
             -124.14624878499995,
             40.85727716800005
            ],
            [
             -124.14632507999994,
             40.85727295300006
            ],
            [
             -124.14639888299996,
             40.85726611200005
            ],
            [
             -124.14646905099994,
             40.85725559000008
            ],
            [
             -124.14653407399999,
             40.85723993200003
            ],
            [
             -124.14659198599998,
             40.85721719000003
            ],
            [
             -124.14664022299996,
             40.85718480300005
            ],
            [
             -124.14667595599997,
             40.85714223700006
            ],
            [
             -124.14670324699995,
             40.85709123500004
            ],
            [
             -124.14693254899998,
             40.85665444800003
            ],
            [
             -124.14695739299998,
             40.85659767800007
            ],
            [
             -124.14697445299998,
             40.85653390700003
            ],
            [
             -124.14698541999996,
             40.85646531900005
            ],
            [
             -124.14699142899997,
             40.85639375200003
            ],
            [
             -124.14699311399994,
             40.85632083200005
            ],
            [
             -124.14699061999994,
             40.856248082000036
            ],
            [
             -124.146983622,
             40.856177056000035
            ],
            [
             -124.14697130099995,
             40.85610946600008
            ],
            [
             -124.14695229199998,
             40.856047309000076
            ],
            [
             -124.14692461699997,
             40.85599300900003
            ],
            [
             -124.14689386699996,
             40.85595505600003
            ],
            [
             -124.14668285099998,
             40.85575218200006
            ],
            [
             -124.14664462699994,
             40.855721868000046
            ],
            [
             -124.14659406699997,
             40.85569459900006
            ],
            [
             -124.14653822699995,
             40.85567340700004
            ],
            [
             -124.14642250499998,
             40.85563912600003
            ],
            [
             -124.14636855099997,
             40.855621384000074
            ],
            [
             -124.146321565,
             40.85560011600006
            ],
            [
             -124.14628547199999,
             40.85557274800004
            ],
            [
             -124.14626566199996,
             40.855542341000046
            ],
            [
             -124.1462565,
             40.855507835000026
            ],
            [
             -124.14625728299995,
             40.855471840000064
            ],
            [
             -124.14626786699995,
             40.85543686900007
            ],
            [
             -124.14647102499998,
             40.85501648400003
            ],
            [
             -124.14676936899997,
             40.85443130200008
            ],
            [
             -124.14679565399996,
             40.854398005000064
            ],
            [
             -124.14682402999995,
             40.85438167700005
            ],
            [
             -124.146855115,
             40.854377326000076
            ],
            [
             -124.14688583299994,
             40.854384707000065
            ],
            [
             -124.14691307699997,
             40.85440426000008
            ],
            [
             -124.14693805199994,
             40.85444400100005
            ],
            [
             -124.14695600599998,
             40.854497483000046
            ],
            [
             -124.14696607099995,
             40.854545587000075
            ]
           ],
           "type": "LineString"
          },
          "id": "47",
          "properties": {
           "CSU_ID": 80247,
           "ERODIBILITY": "Non",
           "MEAN_SIG_WAVEHEIGHT": 2.305355,
           "TIDAL_RANGE": 2.983468,
           "river_label": "moderate river discharge",
           "sinuosity_label": "sinuous",
           "slope_label": "flat",
           "style": {
            "color": "yellow",
            "dashArray": "5",
            "fillOpacity": 0.5,
            "fill_color": "yellow",
            "opacity": 1,
            "weight": 4
           },
           "turbid_label": "clear"
          },
          "type": "Feature"
         },
         {
          "geometry": {
           "coordinates": [
            [
             -124.15153531299995,
             40.85806933500004
            ],
            [
             -124.15155484699994,
             40.85806895800005
            ],
            [
             -124.15170836399994,
             40.85806311700003
            ],
            [
             -124.15178250399998,
             40.85805748000007
            ],
            [
             -124.15185381999999,
             40.85804894900008
            ],
            [
             -124.15192121999996,
             40.85803644200007
            ],
            [
             -124.15198330199996,
             40.85801857300004
            ],
            [
             -124.152038286,
             40.857993591000024
            ],
            [
             -124.15207862199998,
             40.857965980000074
            ],
            [
             -124.15215252599995,
             40.85790428900003
            ],
            [
             -124.152192593,
             40.857876875000045
            ],
            [
             -124.15224813699996,
             40.85785195700004
            ],
            [
             -124.15231057399996,
             40.857834817000025
            ],
            [
             -124.15237781599996,
             40.85782384100003
            ],
            [
             -124.152448102,
             40.85781792100005
            ],
            [
             -124.15251987399995,
             40.85781641400007
            ],
            [
             -124.15259167399995,
             40.85781910800006
            ],
            [
             -124.15266204199997,
             40.85782620200007
            ],
            [
             -124.15272939099998,
             40.85783831700007
            ],
            [
             -124.15279190299998,
             40.857856526000035
            ],
            [
             -124.15284741,
             40.85788237500003
            ],
            [
             -124.15288727499996,
             40.857910391000075
            ],
            [
             -124.15295984899996,
             40.85797240900007
            ],
            [
             -124.152998745,
             40.85799945400004
            ],
            [
             -124.15304939199996,
             40.858022221000056
            ],
            [
             -124.15310525899997,
             40.858036748000075
            ],
            [
             -124.15316406899996,
             40.85804402600007
            ],
            [
             -124.15322368199998,
             40.85804448300007
            ],
            [
             -124.15328198499998,
             40.858038005000026
            ],
            [
             -124.15333676499995,
             40.85802390200007
            ],
            [
             -124.15338557799998,
             40.85800089500003
            ],
            [
             -124.15342205299999,
             40.85797279900004
            ],
            [
             -124.15363467099996,
             40.85778298500003
            ],
            [
             -124.15390993399996,
             40.857563517000074
            ],
            [
             -124.15484364499997,
             40.857099195000046
            ],
            [
             -124.155312988,
             40.85689463400007
            ],
            [
             -124.15576383799998,
             40.85668054100006
            ],
            [
             -124.155813288,
             40.856652763000056
            ],
            [
             -124.15585033499997,
             40.856622198000025
            ],
            [
             -124.15606516799994,
             40.856430214000056
            ],
            [
             -124.15637718,
             40.856127858000036
            ],
            [
             -124.15659075599996,
             40.85588912700007
            ],
            [
             -124.15661391299994,
             40.85585734800003
            ],
            [
             -124.15662778999996,
             40.855821594000076
            ],
            [
             -124.15663231299999,
             40.85578347300003
            ],
            [
             -124.156627744,
             40.855745358000036
            ],
            [
             -124.15661382499997,
             40.85570961500008
            ],
            [
             -124.15659061599996,
             40.85567786000007
            ],
            [
             -124.156408576,
             40.85547537900004
            ],
            [
             -124.15637642899998,
             40.855439647000026
            ],
            [
             -124.15613153599998,
             40.85520634300008
            ],
            [
             -124.15606163299998,
             40.855140052000024
            ],
            [
             -124.15584286299998,
             40.85495200300005
            ],
            [
             -124.15580521599998,
             40.85492203700005
            ],
            [
             -124.15575528399995,
             40.85489474100007
            ],
            [
             -124.15569980899994,
             40.85487303100007
            ],
            [
             -124.15558292399999,
             40.85483564300006
            ],
            [
             -124.15552672499996,
             40.854814744000066
            ],
            [
             -124.15547573799995,
             40.85478865400006
            ],
            [
             -124.15543319399995,
             40.85475413000006
            ],
            [
             -124.155400349,
             40.854706073000045
            ],
            [
             -124.15537755799994,
             40.85464797100008
            ],
            [
             -124.15536213699994,
             40.85458251000006
            ],
            [
             -124.15535203299999,
             40.85451173700005
            ],
            [
             -124.15534570899996,
             40.854437191000045
            ],
            [
             -124.155342024,
             40.85436001000005
            ],
            [
             -124.15534058699996,
             40.85429963800004
            ]
           ],
           "type": "LineString"
          },
          "id": "48",
          "properties": {
           "CSU_ID": 18482,
           "ERODIBILITY": "High",
           "MEAN_SIG_WAVEHEIGHT": 2.305355,
           "TIDAL_RANGE": 2.983468,
           "river_label": "moderate river discharge",
           "sinuosity_label": "sinuous",
           "slope_label": "flat",
           "style": {
            "color": "yellow",
            "dashArray": "5",
            "fillOpacity": 0.5,
            "fill_color": "yellow",
            "opacity": 1,
            "weight": 4
           },
           "turbid_label": "clear"
          },
          "type": "Feature"
         },
         {
          "geometry": {
           "coordinates": [
            [
             -124.14696607099995,
             40.854545587000075
            ],
            [
             -124.14696916999998,
             40.85456040100007
            ],
            [
             -124.146979467,
             40.85462929400006
            ],
            [
             -124.14699834899994,
             40.854773830000056
            ],
            [
             -124.14701038799996,
             40.85484445000003
            ],
            [
             -124.14702674399996,
             40.85491052900005
            ],
            [
             -124.14704979799995,
             40.85496907100003
            ],
            [
             -124.14708246499998,
             40.85501645000005
            ],
            [
             -124.14712457199994,
             40.85504833500005
            ],
            [
             -124.14717496399999,
             40.85506875500005
            ],
            [
             -124.14723046499995,
             40.85507959300003
            ],
            [
             -124.14728827899995,
             40.855081950000056
            ],
            [
             -124.14734580199996,
             40.85507619800006
            ],
            [
             -124.14740046799994,
             40.85506200700007
            ],
            [
             -124.14744958399996,
             40.85503834900004
            ],
            [
             -124.14748652799994,
             40.85500937100005
            ],
            [
             -124.14770269399997,
             40.854812397000046
            ],
            [
             -124.14783923199997,
             40.85467487300008
            ],
            [
             -124.14787616099994,
             40.854645496000046
            ],
            [
             -124.14792548399998,
             40.85462104700008
            ],
            [
             -124.14798076399995,
             40.85460552500007
            ],
            [
             -124.14803955899998,
             40.85459764600006
            ],
            [
             -124.14809964799997,
             40.85459672700006
            ],
            [
             -124.14815889999994,
             40.85460266600006
            ],
            [
             -124.14821515499995,
             40.85461593800005
            ],
            [
             -124.14826608499999,
             40.85463759800007
            ],
            [
             -124.14875931499995,
             40.854881230000046
            ],
            [
             -124.14880931899995,
             40.854909744000054
            ],
            [
             -124.14884688099994,
             40.85494088100006
            ],
            [
             -124.149100998,
             40.855166893000046
            ],
            [
             -124.14913304699996,
             40.85520280700007
            ],
            [
             -124.14931370499994,
             40.85540806500006
            ],
            [
             -124.14933689099996,
             40.85544064900006
            ],
            [
             -124.14935096999994,
             40.85547742000006
            ],
            [
             -124.14935595699995,
             40.855516830000056
            ],
            [
             -124.14935220399997,
             40.85555659400006
            ],
            [
             -124.14933958199998,
             40.85559445500007
            ],
            [
             -124.14911172199999,
             40.85604811500008
            ],
            [
             -124.14908271899998,
             40.85608274500004
            ],
            [
             -124.149050881,
             40.85610127500007
            ],
            [
             -124.14901494699996,
             40.856109177000064
            ],
            [
             -124.14897751299998,
             40.85610718400005
            ],
            [
             -124.14894105199994,
             40.85609549000003
            ],
            [
             -124.14890717099996,
             40.85607462000007
            ],
            [
             -124.14883930499997,
             40.85601961500004
            ],
            [
             -124.14879995999996,
             40.85599328500007
            ],
            [
             -124.14874401799995,
             40.85596843700006
            ],
            [
             -124.14868028999996,
             40.85595049300008
            ],
            [
             -124.14861127299997,
             40.85593823500005
            ],
            [
             -124.14853909299995,
             40.85593088100006
            ],
            [
             -124.14846567499995,
             40.85592809000008
            ],
            [
             -124.14839288499996,
             40.855929966000076
            ],
            [
             -124.14832271599994,
             40.85593709800003
            ],
            [
             -124.14825745799999,
             40.85595060900005
            ],
            [
             -124.14819988999994,
             40.85597224000003
            ],
            [
             -124.14815349799994,
             40.85600444700003
            ],
            [
             -124.14812248699997,
             40.856046707000075
            ],
            [
             -124.14810283699995,
             40.856097618000035
            ],
            [
             -124.14809265999997,
             40.856153859000074
            ],
            [
             -124.14809085999997,
             40.85621251600003
            ],
            [
             -124.14809710199995,
             40.85627089600007
            ],
            [
             -124.14811176299997,
             40.856326344000024
            ],
            [
             -124.14813595599998,
             40.85637607500007
            ],
            [
             -124.14816554199996,
             40.85641333500007
            ],
            [
             -124.14837741199995,
             40.856618866000076
            ],
            [
             -124.14841623099994,
             40.85664993000006
            ],
            [
             -124.14846748999997,
             40.856678034000026
            ],
            [
             -124.14852402499997,
             40.85670001400007
            ],
            [
             -124.14864103099995,
             40.85673565500008
            ],
            [
             -124.14869553499994,
             40.85675392700006
            ],
            [
             -124.14874296099998,
             40.85677558200007
            ],
            [
             -124.14877934199995,
             40.85680314200005
            ],
            [
             -124.14879922199998,
             40.856833497000025
            ],
            [
             -124.14880821199995,
             40.85686767200008
            ],
            [
             -124.14880692699995,
             40.85690296100006
            ],
            [
             -124.14879538199995,
             40.856936724000036
            ],
            [
             -124.14877386599994,
             40.85696714100004
            ],
            [
             -124.14859503599996,
             40.85716810300005
            ],
            [
             -124.14856296799996,
             40.85720404500006
            ],
            [
             -124.14824953699997,
             40.85750701000006
            ],
            [
             -124.14803344799998,
             40.85769850300005
            ],
            [
             -124.14799618199999,
             40.85772895400004
            ],
            [
             -124.147946505,
             40.85775662300006
            ],
            [
             -124.14789094099996,
             40.85777836800003
            ],
            [
             -124.14760292099999,
             40.857945640000025
            ]
           ],
           "type": "LineString"
          },
          "id": "49",
          "properties": {
           "CSU_ID": 18482,
           "ERODIBILITY": "High",
           "MEAN_SIG_WAVEHEIGHT": 2.305355,
           "TIDAL_RANGE": 2.983468,
           "river_label": "moderate river discharge",
           "sinuosity_label": "sinuous",
           "slope_label": "flat",
           "style": {
            "color": "yellow",
            "dashArray": "5",
            "fillOpacity": 0.5,
            "fill_color": "yellow",
            "opacity": 1,
            "weight": 4
           },
           "turbid_label": "clear"
          },
          "type": "Feature"
         },
         {
          "geometry": {
           "coordinates": [
            [
             -124.14760292099999,
             40.857945640000025
            ],
            [
             -124.14743218099994,
             40.85804480000007
            ],
            [
             -124.14684481299997,
             40.85840016900005
            ],
            [
             -124.14680342699995,
             40.858433803000025
            ],
            [
             -124.14677402499996,
             40.85847739800005
            ],
            [
             -124.14675531999995,
             40.858528730000046
            ],
            [
             -124.14674557599994,
             40.85858480600007
            ],
            [
             -124.14674381599997,
             40.85864295500005
            ],
            [
             -124.14674975899999,
             40.85870066700005
            ],
            [
             -124.14676380999998,
             40.858755434000045
            ],
            [
             -124.14678706399997,
             40.85880460000004
            ],
            [
             -124.14681552099995,
             40.85884155300005
            ],
            [
             -124.14704226199996,
             40.859091901000056
            ],
            [
             -124.14785725099995,
             40.85990688900006
            ],
            [
             -124.14810763499997,
             40.86013366800006
            ],
            [
             -124.14814615399996,
             40.86016369200007
            ],
            [
             -124.14819831999995,
             40.86018994700004
            ],
            [
             -124.14825790099997,
             40.86020881200005
            ],
            [
             -124.14832297899994,
             40.86022211900007
            ],
            [
             -124.14839201599995,
             40.86023124800005
            ],
            [
             -124.14846378399994,
             40.86023719700006
            ],
            [
             -124.14853726899997,
             40.86024064600008
            ],
            [
             -124.14861160199996,
             40.86024198300004
            ],
            [
             -124.14868597199995,
             40.86024133400008
            ],
            [
             -124.14875957699996,
             40.860238569000046
            ],
            [
             -124.14883152599998,
             40.86023329100004
            ],
            [
             -124.14890079399999,
             40.860224809000044
            ],
            [
             -124.14896610999995,
             40.860212097000044
            ],
            [
             -124.14902589399998,
             40.86019372700008
            ],
            [
             -124.14907814599997,
             40.86016781100005
            ],
            [
             -124.14911656499999,
             40.86013786900003
            ],
            [
             -124.149284879,
             40.85996550900006
            ],
            [
             -124.14931841799995,
             40.85993115300005
            ],
            [
             -124.14934727299999,
             40.859892183000056
            ],
            [
             -124.14937189299997,
             40.859839366000074
            ],
            [
             -124.14938896199999,
             40.85977907100005
            ],
            [
             -124.14940047799996,
             40.859713286000044
            ],
            [
             -124.14940802099994,
             40.85964357800003
            ],
            [
             -124.14941284999998,
             40.85957120300003
            ],
            [
             -124.14942387999997,
             40.85927373100003
            ],
            [
             -124.14942875899999,
             40.859201539000026
            ],
            [
             -124.14943637199997,
             40.859132095000064
            ],
            [
             -124.14944797899994,
             40.85906665500005
            ],
            [
             -124.14946515599996,
             40.85900679800005
            ],
            [
             -124.14948989899995,
             40.858954512000025
            ],
            [
             -124.14951887099994,
             40.85891608800006
            ],
            [
             -124.14955252899995,
             40.85888235600004
            ],
            [
             -124.14972106599998,
             40.85871397500006
            ],
            [
             -124.14975928499996,
             40.85868481500006
            ],
            [
             -124.14981387699999,
             40.858658552000065
            ],
            [
             -124.14987625499998,
             40.858640077000075
            ],
            [
             -124.14994395499997,
             40.858626926000056
            ],
            [
             -124.15001494399996,
             40.858617063000054
            ],
            [
             -124.15015989499994,
             40.85860031300007
            ],
            [
             -124.15023064199994,
             40.85859020600003
            ],
            [
             -124.150297976,
             40.858576689000074
            ],
            [
             -124.15035992399999,
             40.85855778600006
            ],
            [
             -124.15041412299996,
             40.85853113200005
            ],
            [
             -124.15045215099997,
             40.85850178100003
            ],
            [
             -124.15066699699997,
             40.85831233000005
            ],
            [
             -124.15080319999998,
             40.85817894500008
            ],
            [
             -124.15084112699998,
             40.858149463000075
            ],
            [
             -124.15089422399996,
             40.85812324200003
            ],
            [
             -124.15095514099994,
             40.85810482900007
            ],
            [
             -124.15102185699999,
             40.858092200000044
            ],
            [
             -124.151092802,
             40.85808378100006
            ],
            [
             -124.15116676599996,
             40.85807835500003
            ],
            [
             -124.15124280899994,
             40.858074980000026
            ],
            [
             -124.15153531299995,
             40.85806933500004
            ]
           ],
           "type": "LineString"
          },
          "id": "50",
          "properties": {
           "CSU_ID": 80247,
           "ERODIBILITY": "Non",
           "MEAN_SIG_WAVEHEIGHT": 2.305355,
           "TIDAL_RANGE": 2.983468,
           "river_label": "moderate river discharge",
           "sinuosity_label": "sinuous",
           "slope_label": "flat",
           "style": {
            "color": "yellow",
            "dashArray": "5",
            "fillOpacity": 0.5,
            "fill_color": "yellow",
            "opacity": 1,
            "weight": 4
           },
           "turbid_label": "clear"
          },
          "type": "Feature"
         },
         {
          "geometry": {
           "coordinates": [
            [
             -124.14365759299994,
             40.86151429300003
            ],
            [
             -124.14340329199996,
             40.86138684200006
            ],
            [
             -124.14334634999994,
             40.861361481000074
            ],
            [
             -124.14328221199997,
             40.861343101000045
            ],
            [
             -124.14321312499999,
             40.861329460000036
            ],
            [
             -124.14299510199999,
             40.86129853500006
            ],
            [
             -124.14292500399995,
             40.861285818000056
            ],
            [
             -124.14285975999996,
             40.86126876600008
            ],
            [
             -124.14280218,
             40.86124504500003
            ],
            [
             -124.14275581299995,
             40.861211807000075
            ],
            [
             -124.14272495699998,
             40.86116935000007
            ],
            [
             -124.14270572999999,
             40.86111894100003
            ],
            [
             -124.142696436,
             40.86106396300005
            ],
            [
             -124.14269625799994,
             40.86100750600008
            ],
            [
             -124.14270523299996,
             40.860952575000056
            ],
            [
             -124.14272425399997,
             40.86090229200005
            ],
            [
             -124.14275511299996,
             40.86086009400003
            ],
            [
             -124.14280183799997,
             40.860827381000036
            ],
            [
             -124.14286032499996,
             40.860804607000034
            ],
            [
             -124.14292727799995,
             40.86078916300005
            ],
            [
             -124.14300023499999,
             40.860779052000055
            ],
            [
             -124.14307737999997,
             40.86077276300006
            ],
            [
             -124.14315739299997,
             40.86076916500008
            ],
            [
             -124.14323931899997,
             40.860767414000065
            ],
            [
             -124.14340632799997,
             40.86076710300006
            ],
            [
             -124.14365834399996,
             40.86076867600008
            ],
            [
             -124.143822651,
             40.86076716500003
            ],
            [
             -124.14390187199996,
             40.86076435800004
            ],
            [
             -124.14397777399995,
             40.86075931200003
            ],
            [
             -124.14404882899998,
             40.86075110000007
            ],
            [
             -124.14411294699994,
             40.86073849200005
            ],
            [
             -124.14416729099997,
             40.860719860000074
            ],
            [
             -124.14420807,
             40.860693093000066
            ],
            [
             -124.14422897599997,
             40.86066347900004
            ],
            [
             -124.14423844699996,
             40.860629491000054
            ],
            [
             -124.14423722899994,
             40.860594056000025
            ],
            [
             -124.14422541999994,
             40.86055999300004
            ],
            [
             -124.14420332599997,
             40.86052930000005
            ],
            [
             -124.144008424,
             40.860338359000025
            ],
            [
             -124.143969073,
             40.86030890300003
            ],
            [
             -124.14391564199997,
             40.86028337300007
            ],
            [
             -124.14385465999999,
             40.86026526900008
            ],
            [
             -124.14378820199994,
             40.86025267000008
            ],
            [
             -124.14371788999995,
             40.86024404200003
            ],
            [
             -124.143645011,
             40.860238148000064
            ],
            [
             -124.14334675599997,
             40.86022319800003
            ],
            [
             -124.14327464499996,
             40.860217428000055
            ],
            [
             -124.14320534899997,
             40.86020897800006
            ],
            [
             -124.14314008399998,
             40.86019661000006
            ],
            [
             -124.14308035799996,
             40.86017879600007
            ],
            [
             -124.14302807599995,
             40.86015361600005
            ],
            [
             -124.14220649099997,
             40.85961807800004
            ],
            [
             -124.14216887999999,
             40.85958728600008
            ],
            [
             -124.14196483799998,
             40.85938455400003
            ],
            [
             -124.14193608499994,
             40.85934774800006
            ],
            [
             -124.14191248499998,
             40.85929835500008
            ],
            [
             -124.14189789799997,
             40.859242907000066
            ],
            [
             -124.14189102399996,
             40.859183967000035
            ],
            [
             -124.14189121299995,
             40.859123871000065
            ],
            [
             -124.141898444,
             40.85906487800003
            ],
            [
             -124.14191330999995,
             40.85900930300005
            ],
            [
             -124.14193704799999,
             40.85895966500004
            ],
            [
             -124.14196574099998,
             40.858922491000044
            ],
            [
             -124.14219230499998,
             40.858672511000066
            ],
            [
             -124.14222892499998,
             40.85864066500005
            ],
            [
             -124.14237613299997,
             40.858514883000055
            ],
            [
             -124.14258179099994,
             40.85831355100004
            ],
            [
             -124.14264981699995,
             40.858246362000045
            ],
            [
             -124.14285297699996,
             40.85804455500005
            ],
            [
             -124.14292050899996,
             40.85797722900003
            ],
            [
             -124.14312285099999,
             40.85777514400007
            ],
            [
             -124.14319024599996,
             40.85770774900004
            ],
            [
             -124.14335350899995,
             40.85754427900008
            ]
           ],
           "type": "LineString"
          },
          "id": "51",
          "properties": {
           "CSU_ID": 80247,
           "ERODIBILITY": "Non",
           "MEAN_SIG_WAVEHEIGHT": 2.305355,
           "TIDAL_RANGE": 2.983468,
           "river_label": "moderate river discharge",
           "sinuosity_label": "sinuous",
           "slope_label": "flat",
           "style": {
            "color": "yellow",
            "dashArray": "5",
            "fillOpacity": 0.5,
            "fill_color": "yellow",
            "opacity": 1,
            "weight": 4
           },
           "turbid_label": "clear"
          },
          "type": "Feature"
         },
         {
          "geometry": {
           "coordinates": [
            [
             -124.16923808299998,
             40.85774527600006
            ],
            [
             -124.16919301599995,
             40.857839057000035
            ],
            [
             -124.16871873399998,
             40.85884699700006
            ],
            [
             -124.16796526199994,
             40.860374602000036
            ],
            [
             -124.167937242,
             40.86042358100008
            ],
            [
             -124.16790647699997,
             40.86046019200006
            ],
            [
             -124.16771541299994,
             40.86067336600007
            ],
            [
             -124.16758089199999,
             40.86080834100005
            ],
            [
             -124.16755012799996,
             40.86084495100005
            ],
            [
             -124.16752211,
             40.86089393000003
            ],
            [
             -124.167306554,
             40.86134248700006
            ],
            [
             -124.16683227199997,
             40.862350425000045
            ],
            [
             -124.16629419399999,
             40.863429315000076
            ],
            [
             -124.16591894399994,
             40.86404023500006
            ]
           ],
           "type": "LineString"
          },
          "id": "52",
          "properties": {
           "CSU_ID": 20274,
           "ERODIBILITY": "High",
           "MEAN_SIG_WAVEHEIGHT": 2.305355,
           "TIDAL_RANGE": 2.983468,
           "river_label": "moderate river discharge",
           "sinuosity_label": "straight",
           "slope_label": "sloping",
           "style": {
            "color": "yellow",
            "dashArray": "5",
            "fillOpacity": 0.5,
            "fill_color": "yellow",
            "opacity": 1,
            "weight": 4
           },
           "turbid_label": "clear"
          },
          "type": "Feature"
         },
         {
          "geometry": {
           "coordinates": [
            [
             -124.14125776199995,
             40.86235723600004
            ],
            [
             -124.14120213599995,
             40.86234297800007
            ],
            [
             -124.14115209999994,
             40.862319496000055
            ],
            [
             -124.141114416,
             40.862290839000025
            ],
            [
             -124.14089547199995,
             40.86209728100005
            ],
            [
             -124.14075857899996,
             40.86195834500006
            ],
            [
             -124.14072171299995,
             40.86192662500008
            ],
            [
             -124.14067252299998,
             40.86189760900004
            ],
            [
             -124.14018007099997,
             40.86165348800006
            ],
            [
             -124.140126469,
             40.86162992700008
            ],
            [
             -124.14006604099995,
             40.86161322400005
            ],
            [
             -124.14000054499996,
             40.86160161600003
            ],
            [
             -124.13993140199995,
             40.86159367500005
            ],
            [
             -124.13985977599998,
             40.86158823300008
            ],
            [
             -124.13963938899997,
             40.86157749200004
            ],
            [
             -124.13956698499999,
             40.86157287000003
            ],
            [
             -124.13949670299996,
             40.861566131000075
            ],
            [
             -124.139429754,
             40.861556062000034
            ],
            [
             -124.13936765399995,
             40.86154115100004
            ],
            [
             -124.13931232199997,
             40.86151947500008
            ],
            [
             -124.13926620999996,
             40.86148858100006
            ],
            [
             -124.13923116499996,
             40.86144661900005
            ],
            [
             -124.13920468299995,
             40.86139609600008
            ],
            [
             -124.13918355299995,
             40.86134022500005
            ],
            [
             -124.13914616799997,
             40.86122360600007
            ],
            [
             -124.139124601,
             40.86116817100003
            ],
            [
             -124.139097387,
             40.86111838700003
            ],
            [
             -124.13906728299997,
             40.86108111600004
            ],
            [
             -124.13887018699995,
             40.86087396600004
            ],
            [
             -124.13883476099994,
             40.860842019000074
            ],
            [
             -124.13878670799994,
             40.86081307300003
            ],
            [
             -124.13873220799996,
             40.86079057500007
            ],
            [
             -124.13861342599995,
             40.86075353200005
            ],
            [
             -124.13855154699996,
             40.86072590600003
            ],
            [
             -124.13849346299997,
             40.860686154000064
            ],
            [
             -124.13844492599998,
             40.86063270500006
            ],
            [
             -124.13840982299996,
             40.86056585700004
            ],
            [
             -124.13838674699997,
             40.860491197000044
            ],
            [
             -124.13837315999996,
             40.86041544200003
            ],
            [
             -124.13836670299997,
             40.86034513200008
            ],
            [
             -124.13836517899995,
             40.86028664600008
            ],
            [
             -124.13836650199994,
             40.860246252000024
            ],
            [
             -124.138368776,
             40.86023002400003
            ],
            [
             -124.138877633,
             40.86022113000007
            ],
            [
             -124.13908294599997,
             40.86021918300003
            ],
            [
             -124.139249281,
             40.86022141400008
            ],
            [
             -124.13932507399994,
             40.86022488300006
            ],
            [
             -124.13939853499994,
             40.86023068700007
            ],
            [
             -124.139468777,
             40.86023970800005
            ],
            [
             -124.139534632,
             40.860253115000035
            ],
            [
             -124.13959457299995,
             40.860272440000074
            ],
            [
             -124.13964662399997,
             40.86029965200004
            ],
            [
             -124.13968366799998,
             40.860329980000074
            ],
            [
             -124.13992930799998,
             40.86055596800003
            ],
            [
             -124.13996048499996,
             40.86059216800004
            ],
            [
             -124.14008418999998,
             40.86073798000007
            ],
            [
             -124.14028389299995,
             40.860942614000066
            ],
            [
             -124.14035137499997,
             40.86100995000004
            ],
            [
             -124.14056470699995,
             40.861201332000064
            ],
            [
             -124.14060184599998,
             40.86123171300005
            ],
            [
             -124.14065147899998,
             40.86125928100006
            ],
            [
             -124.14070709499998,
             40.86128091300003
            ],
            [
             -124.14088571999997,
             40.86133442100004
            ],
            [
             -124.14094163799996,
             40.861356054000055
            ],
            [
             -124.14099173099999,
             40.86138362500003
            ],
            [
             -124.14102940699996,
             40.86141401300006
            ],
            [
             -124.14128534699995,
             40.861638249000066
            ],
            [
             -124.14131805699998,
             40.86167469600008
            ],
            [
             -124.14151157199996,
             40.86189368300006
            ],
            [
             -124.14153988199996,
             40.861931715000026
            ],
            [
             -124.14156298299997,
             40.86198213100005
            ],
            [
             -124.14157689599995,
             40.86203810100005
            ],
            [
             -124.14158271999997,
             40.86209685600005
            ],
            [
             -124.14158085999998,
             40.86215572700007
            ],
            [
             -124.14157212499998,
             40.86220573400004
            ]
           ],
           "type": "LineString"
          },
          "id": "53",
          "properties": {
           "CSU_ID": 19802,
           "ERODIBILITY": "High",
           "MEAN_SIG_WAVEHEIGHT": 2.305355,
           "TIDAL_RANGE": 2.983468,
           "river_label": "moderate river discharge",
           "sinuosity_label": "straight",
           "slope_label": "flat",
           "style": {
            "color": "yellow",
            "dashArray": "5",
            "fillOpacity": 0.5,
            "fill_color": "yellow",
            "opacity": 1,
            "weight": 4
           },
           "turbid_label": "turbid"
          },
          "type": "Feature"
         },
         {
          "geometry": {
           "coordinates": [
            [
             -124.14157212499998,
             40.86220573400004
            ],
            [
             -124.14157103699995,
             40.86221196100007
            ],
            [
             -124.14155226899999,
             40.86226254400003
            ],
            [
             -124.141522824,
             40.86230399200008
            ],
            [
             -124.14148140999998,
             40.86233340300004
            ],
            [
             -124.14143092899997,
             40.86235206900005
            ],
            [
             -124.14137486199996,
             40.86236172400004
            ],
            [
             -124.141316223,
             40.862363352000045
            ],
            [
             -124.14125776199995,
             40.86235723600004
            ]
           ],
           "type": "LineString"
          },
          "id": "54",
          "properties": {
           "CSU_ID": 19802,
           "ERODIBILITY": "High",
           "MEAN_SIG_WAVEHEIGHT": 2.305355,
           "TIDAL_RANGE": 2.983468,
           "river_label": "moderate river discharge",
           "sinuosity_label": "straight",
           "slope_label": "flat",
           "style": {
            "color": "yellow",
            "dashArray": "5",
            "fillOpacity": 0.5,
            "fill_color": "yellow",
            "opacity": 1,
            "weight": 4
           },
           "turbid_label": "turbid"
          },
          "type": "Feature"
         },
         {
          "geometry": {
           "coordinates": [
            [
             -124.14972321099998,
             40.865066772000034
            ],
            [
             -124.14977800699995,
             40.86505650000004
            ],
            [
             -124.14984188399995,
             40.86503751600003
            ],
            [
             -124.14989746999998,
             40.86501051600004
            ],
            [
             -124.149936191,
             40.864980769000056
            ],
            [
             -124.15012996899998,
             40.86478698900004
            ],
            [
             -124.15015316699998,
             40.86475481900004
            ],
            [
             -124.15016688999998,
             40.86471854500007
            ],
            [
             -124.15017112199996,
             40.86467986700006
            ],
            [
             -124.15016613999995,
             40.864641230000075
            ],
            [
             -124.15015168199994,
             40.864605072000074
            ],
            [
             -124.15012778,
             40.86457308000007
            ],
            [
             -124.14993279099997,
             40.86437941600008
            ],
            [
             -124.14989520699999,
             40.86434868600003
            ],
            [
             -124.14907049399994,
             40.86381213100003
            ],
            [
             -124.14901607499996,
             40.863785574000076
            ],
            [
             -124.14895402699995,
             40.86376667400003
            ],
            [
             -124.148886705,
             40.863753065000026
            ],
            [
             -124.14881608299999,
             40.86374277500005
            ],
            [
             -124.14867166199997,
             40.863725405000025
            ],
            [
             -124.14860104599995,
             40.863715144000025
            ],
            [
             -124.14853373899996,
             40.86370157700003
            ],
            [
             -124.14847173099997,
             40.863682717000074
            ],
            [
             -124.148417398,
             40.863656185000025
            ],
            [
             -124.147338091,
             40.862848977000056
            ],
            [
             -124.14730117,
             40.86281852400003
            ],
            [
             -124.14708864299996,
             40.86262681000005
            ],
            [
             -124.14702134199996,
             40.86255936400005
            ],
            [
             -124.14682211299998,
             40.86235434900004
            ],
            [
             -124.14669862899996,
             40.86220833900006
            ],
            [
             -124.146667429,
             40.86217216400007
            ],
            [
             -124.14642028599997,
             40.86194769300005
            ],
            [
             -124.14638236899998,
             40.861918236000065
            ],
            [
             -124.14632813599997,
             40.86189161900006
            ],
            [
             -124.14626583799998,
             40.86187307100005
            ],
            [
             -124.14619760799997,
             40.86186045200003
            ],
            [
             -124.14612507699997,
             40.86185213300007
            ],
            [
             -124.14604947699996,
             40.861846884000045
            ],
            [
             -124.14589248899995,
             40.86184217700003
            ],
            [
             -124.14573136099995,
             40.86184160600004
            ],
            [
             -124.14491457799994,
             40.86184988400004
            ],
            [
             -124.144752069,
             40.86185067900004
            ],
            [
             -124.14459138899997,
             40.861849636000045
            ],
            [
             -124.14443480199998,
             40.86184448500006
            ],
            [
             -124.14435929499996,
             40.86183911300003
            ],
            [
             -124.14428669799997,
             40.86183082200006
            ],
            [
             -124.14421813899997,
             40.861818483000036
            ],
            [
             -124.144155104,
             40.86180060700008
            ],
            [
             -124.14409951899995,
             40.86177526500006
            ],
            [
             -124.14405980099997,
             40.861747527000034
            ],
            [
             -124.14384312099997,
             40.861607277000076
            ],
            [
             -124.14365759299994,
             40.86151429300003
            ]
           ],
           "type": "LineString"
          },
          "id": "55",
          "properties": {
           "CSU_ID": 80247,
           "ERODIBILITY": "Non",
           "MEAN_SIG_WAVEHEIGHT": 2.305355,
           "TIDAL_RANGE": 2.983468,
           "river_label": "moderate river discharge",
           "sinuosity_label": "sinuous",
           "slope_label": "flat",
           "style": {
            "color": "yellow",
            "dashArray": "5",
            "fillOpacity": 0.5,
            "fill_color": "yellow",
            "opacity": 1,
            "weight": 4
           },
           "turbid_label": "clear"
          },
          "type": "Feature"
         },
         {
          "geometry": {
           "coordinates": [
            [
             -124.137996,
             40.864074530157524
            ],
            [
             -124.13802218799998,
             40.86408020700003
            ],
            [
             -124.13864453399998,
             40.86429512600006
            ],
            [
             -124.13894322599998,
             40.864444270000035
            ],
            [
             -124.13898346999997,
             40.86447199700007
            ],
            [
             -124.13903662299998,
             40.864496495000026
            ],
            [
             -124.13909643299996,
             40.864514222000025
            ],
            [
             -124.13916120399995,
             40.864526769000065
            ],
            [
             -124.13922955399994,
             40.864535345000036
            ],
            [
             -124.13930036999994,
             40.86454082900008
            ],
            [
             -124.13937271299994,
             40.86454381600004
            ],
            [
             -124.13944578099995,
             40.86454465200006
            ],
            [
             -124.13951881499997,
             40.86454344400005
            ],
            [
             -124.13959107099998,
             40.86454007800006
            ],
            [
             -124.13966173499995,
             40.86453420300006
            ],
            [
             -124.13972988199998,
             40.864525222000054
            ],
            [
             -124.13979439599996,
             40.86451225500008
            ],
            [
             -124.13985391199998,
             40.864494096000044
            ],
            [
             -124.13990674299998,
             40.86446916700004
            ],
            [
             -124.13994670499994,
             40.86444107700004
            ],
            [
             -124.140020027,
             40.86437837300008
            ],
            [
             -124.14005994299998,
             40.86435034600004
            ],
            [
             -124.14011553399996,
             40.864324475000046
            ],
            [
             -124.14017841299994,
             40.864305975000036
            ],
            [
             -124.140246731,
             40.864292988000045
            ],
            [
             -124.14031904299998,
             40.86428407000005
            ],
            [
             -124.14039425599998,
             40.86427811200008
            ],
            [
             -124.14047154199994,
             40.86427428400003
            ],
            [
             -124.14055028999996,
             40.86427196400007
            ],
            [
             -124.14071050299998,
             40.864270152000074
            ],
            [
             -124.14095404199998,
             40.86427085500003
            ],
            [
             -124.14160666299995,
             40.86427643700006
            ],
            [
             -124.14184853399996,
             40.86427574100003
            ],
            [
             -124.14200529699997,
             40.86427079600003
            ],
            [
             -124.14208092899997,
             40.864265577000026
            ],
            [
             -124.14215367899999,
             40.86425747700008
            ],
            [
             -124.14222241999994,
             40.864245366000034
            ],
            [
             -124.14225379199996,
             40.86423663200003
            ]
           ],
           "type": "LineString"
          },
          "id": "56",
          "properties": {
           "CSU_ID": 18508,
           "ERODIBILITY": "High",
           "MEAN_SIG_WAVEHEIGHT": 2.305355,
           "TIDAL_RANGE": 2.983468,
           "river_label": "moderate river discharge",
           "sinuosity_label": "sinuous",
           "slope_label": "flat",
           "style": {
            "color": "yellow",
            "dashArray": "5",
            "fillOpacity": 0.5,
            "fill_color": "yellow",
            "opacity": 1,
            "weight": 4
           },
           "turbid_label": "turbid"
          },
          "type": "Feature"
         },
         {
          "geometry": {
           "coordinates": [
            [
             -124.14225379199996,
             40.86423663200003
            ],
            [
             -124.14228566499997,
             40.86422775900007
            ],
            [
             -124.14234148099996,
             40.86420272500004
            ],
            [
             -124.14282954599997,
             40.86395923300006
            ],
            [
             -124.14287793099999,
             40.86393060000006
            ],
            [
             -124.14291382299996,
             40.86389909600007
            ],
            [
             -124.143111047,
             40.863691810000034
            ],
            [
             -124.14314109099996,
             40.86365439900004
            ],
            [
             -124.14316832099996,
             40.86360452000008
            ],
            [
             -124.14318987599995,
             40.863548937000076
            ],
            [
             -124.14322686799994,
             40.86343156300006
            ],
            [
             -124.14324758899994,
             40.86337504100004
            ],
            [
             -124.14327353799996,
             40.863323699000034
            ],
            [
             -124.14330796699994,
             40.86328078100007
            ],
            [
             -124.14335598099996,
             40.86324751500007
            ],
            [
             -124.14341410099996,
             40.863224280000054
            ],
            [
             -124.14347964099994,
             40.86320838300003
            ],
            [
             -124.14355054699996,
             40.86319777500006
            ],
            [
             -124.14362527699996,
             40.86319091400003
            ],
            [
             -124.14370267299995,
             40.86318666300008
            ],
            [
             -124.14378188199998,
             40.86318420300006
            ],
            [
             -124.14394334999997,
             40.86318254300005
            ],
            [
             -124.14418728399994,
             40.863184673000035
            ],
            [
             -124.14434728999998,
             40.863189453000075
            ],
            [
             -124.14442531399999,
             40.863193685000056
            ],
            [
             -124.14450122399995,
             40.863199887000064
            ],
            [
             -124.14457418699999,
             40.86320888200004
            ],
            [
             -124.14464309899995,
             40.86322178000006
            ],
            [
             -124.14470651099998,
             40.86324002900005
            ],
            [
             -124.14538492399998,
             40.863481325000066
            ],
            [
             -124.14560925199999,
             40.86356709200004
            ],
            [
             -124.14582610599996,
             40.863706438000065
            ],
            [
             -124.14622045599998,
             40.86389923000007
            ],
            [
             -124.14644531399995,
             40.86398429700006
            ],
            [
             -124.14707102799997,
             40.86419402000007
            ],
            [
             -124.14747202099994,
             40.86427813500006
            ],
            [
             -124.14754227999998,
             40.864288731000045
            ],
            [
             -124.14760919999998,
             40.864302665000025
            ],
            [
             -124.14767081699995,
             40.86432190700003
            ],
            [
             -124.14772475599995,
             40.864348826000025
            ],
            [
             -124.147762608,
             40.86437836300007
            ],
            [
             -124.14797448999997,
             40.864570882000066
            ],
            [
             -124.14800974699995,
             40.86460305300005
            ],
            [
             -124.14804082799998,
             40.86463940500005
            ],
            [
             -124.14809802999997,
             40.86471711300004
            ],
            [
             -124.14812905599996,
             40.864753568000026
            ],
            [
             -124.14837552499995,
             40.86498036100005
            ],
            [
             -124.14841351799998,
             40.865010177000045
            ],
            [
             -124.14846791599996,
             40.865037244000064
            ],
            [
             -124.14853046299999,
             40.86505628200007
            ],
            [
             -124.14859903599995,
             40.86506943200004
            ],
            [
             -124.14867200199996,
             40.86507833400003
            ],
            [
             -124.14874813299997,
             40.86508422400004
            ],
            [
             -124.14882650799996,
             40.86508801700006
            ],
            [
             -124.14898745199997,
             40.86509176900006
            ],
            [
             -124.14915117199996,
             40.865092719000074
            ],
            [
             -124.14931529599994,
             40.86509180400003
            ],
            [
             -124.149477446,
             40.86508809400004
            ],
            [
             -124.14955671799999,
             40.865084327000034
            ],
            [
             -124.14963392399994,
             40.865078467000046
            ],
            [
             -124.14970811499995,
             40.86506960200006
            ],
            [
             -124.14972321099998,
             40.865066772000034
            ]
           ],
           "type": "LineString"
          },
          "id": "57",
          "properties": {
           "CSU_ID": 80259,
           "ERODIBILITY": "Non",
           "MEAN_SIG_WAVEHEIGHT": 2.305355,
           "TIDAL_RANGE": 2.983468,
           "river_label": "moderate river discharge",
           "sinuosity_label": "sinuous",
           "slope_label": "flat",
           "style": {
            "color": "yellow",
            "dashArray": "5",
            "fillOpacity": 0.5,
            "fill_color": "yellow",
            "opacity": 1,
            "weight": 4
           },
           "turbid_label": "turbid"
          },
          "type": "Feature"
         },
         {
          "geometry": {
           "coordinates": [
            [
             -124.16591894399994,
             40.86404023500006
            ],
            [
             -124.16588400899997,
             40.864097109000056
            ],
            [
             -124.16569493499998,
             40.86431227700007
            ],
            [
             -124.16566551099999,
             40.864350226000056
            ],
            [
             -124.16563867899998,
             40.864404242000035
            ],
            [
             -124.16561950299996,
             40.86446591400005
            ],
            [
             -124.16560562599994,
             40.864532885000074
            ],
            [
             -124.16559509399997,
             40.86460320100008
            ],
            [
             -124.16557745299997,
             40.86474725700003
            ],
            [
             -124.16556727699998,
             40.864817929000026
            ],
            [
             -124.16555406799995,
             40.86488556900008
            ],
            [
             -124.16553598499996,
             40.864948336000054
            ],
            [
             -124.16551085199995,
             40.86500405000004
            ],
            [
             -124.16529280999998,
             40.86544049400004
            ],
            [
             -124.16515223,
             40.86565603400004
            ],
            [
             -124.16507557299997,
             40.86580074700004
            ],
            [
             -124.16480623299998,
             40.86633989200004
            ],
            [
             -124.16467772099998,
             40.86666374400005
            ],
            [
             -124.16446312199997,
             40.86711325700003
            ],
            [
             -124.16443522399999,
             40.86716235600005
            ],
            [
             -124.16440453299998,
             40.86719903900007
            ],
            [
             -124.164179704,
             40.86744582500006
            ],
            [
             -124.16414381499999,
             40.86747731000003
            ],
            [
             -124.16406716699998,
             40.86753541000007
            ],
            [
             -124.16403127799998,
             40.86756689300006
            ],
            [
             -124.16380638099997,
             40.867813614000056
            ],
            [
             -124.16377567199999,
             40.86785028000003
            ],
            [
             -124.16374774599996,
             40.86789935100006
            ],
            [
             -124.16323902299996,
             40.86893059800008
            ],
            [
             -124.16321393099997,
             40.868986352000036
            ],
            [
             -124.16319588199997,
             40.86904915400004
            ],
            [
             -124.16318270699998,
             40.86911682700003
            ],
            [
             -124.16317256399998,
             40.86918753100008
            ],
            [
             -124.16315498899996,
             40.869331654000064
            ],
            [
             -124.163144494,
             40.869402008000066
            ],
            [
             -124.16313065999998,
             40.86946902100004
            ],
            [
             -124.16311153199996,
             40.86953074100006
            ],
            [
             -124.16308475799997,
             40.86958481600004
            ],
            [
             -124.16305538899996,
             40.869622820000075
            ],
            [
             -124.16259300599995,
             40.87027067100007
            ]
           ],
           "type": "LineString"
          },
          "id": "58",
          "properties": {
           "CSU_ID": 19775,
           "ERODIBILITY": "High",
           "MEAN_SIG_WAVEHEIGHT": 2.305355,
           "TIDAL_RANGE": 2.983468,
           "river_label": "moderate river discharge",
           "sinuosity_label": "straight",
           "slope_label": "flat",
           "style": {
            "color": "yellow",
            "dashArray": "5",
            "fillOpacity": 0.5,
            "fill_color": "yellow",
            "opacity": 1,
            "weight": 4
           },
           "turbid_label": "clear"
          },
          "type": "Feature"
         },
         {
          "geometry": {
           "coordinates": [
            [
             -124.16259300599995,
             40.87027067100007
            ],
            [
             -124.16238196399996,
             40.87056636400007
            ],
            [
             -124.16205675199996,
             40.871097760000055
            ],
            [
             -124.16178549799997,
             40.87145211700005
            ],
            [
             -124.16156997299998,
             40.871727458000066
            ],
            [
             -124.161351707,
             40.87216367700006
            ],
            [
             -124.16132671199995,
             40.87221953200003
            ],
            [
             -124.16130875599998,
             40.87228242200007
            ],
            [
             -124.16129565399996,
             40.87235017000006
            ],
            [
             -124.16128556899997,
             40.87242093200007
            ],
            [
             -124.16126805599998,
             40.87256511700008
            ],
            [
             -124.161257563,
             40.87263547200007
            ],
            [
             -124.16124370999995,
             40.87270246800006
            ],
            [
             -124.16122454199996,
             40.872764149000034
            ],
            [
             -124.16119770599994,
             40.872818161000055
            ],
            [
             -124.16116826599995,
             40.87285609500003
            ],
            [
             -124.16097883699996,
             40.873070909000035
            ],
            [
             -124.16076148499997,
             40.87334443300006
            ],
            [
             -124.160541546,
             40.87377906100005
            ],
            [
             -124.16051785899998,
             40.87383239800005
            ],
            [
             -124.16050098999995,
             40.873892556000044
            ],
            [
             -124.16048917899997,
             40.87395778200005
            ],
            [
             -124.16048101599995,
             40.87402666200006
            ],
            [
             -124.16047534899997,
             40.87409805200008
            ],
            [
             -124.16045995699994,
             40.87439105100003
            ],
            [
             -124.16045386399998,
             40.874462116000075
            ],
            [
             -124.160445026,
             40.874530469000035
            ],
            [
             -124.16043220799997,
             40.874594881000064
            ],
            [
             -124.16041387499996,
             40.87465382200003
            ],
            [
             -124.16038810699996,
             40.874705379000034
            ],
            [
             -124.16035843199995,
             40.874743410000065
            ],
            [
             -124.16016592499994,
             40.874958108000044
            ],
            [
             -124.16003086699999,
             40.87509456400005
            ],
            [
             -124.16000124199996,
             40.875132422000036
            ],
            [
             -124.15997471699995,
             40.875186358000065
            ],
            [
             -124.15995675699997,
             40.875247975000036
            ],
            [
             -124.15994546699994,
             40.875314907000075
            ],
            [
             -124.15993952999997,
             40.875385178000045
            ],
            [
             -124.15993813699998,
             40.875457064000045
            ],
            [
             -124.15994093499995,
             40.87552897300003
            ],
            [
             -124.15994798999998,
             40.87559930900005
            ],
            [
             -124.15995979799999,
             40.87566635300004
            ],
            [
             -124.15997725799997,
             40.87572812500008
            ],
            [
             -124.16000172399998,
             40.87578225900006
            ],
            [
             -124.16002791299996,
             40.875820307000026
            ],
            [
             -124.16008359899996,
             40.87588657400005
            ],
            [
             -124.16010558999994,
             40.87592043200004
            ],
            [
             -124.16011920399995,
             40.87595764900004
            ],
            [
             -124.160124199,
             40.875996901000065
            ],
            [
             -124.16012075099997,
             40.87603607800003
            ],
            [
             -124.16010859099998,
             40.876073062000046
            ],
            [
             -124.1599086,
             40.87648977300006
            ],
            [
             -124.15988729099996,
             40.87653324000007
            ]
           ],
           "type": "LineString"
          },
          "id": "59",
          "properties": {
           "CSU_ID": 20304,
           "ERODIBILITY": "High",
           "MEAN_SIG_WAVEHEIGHT": 2.305355,
           "TIDAL_RANGE": 2.983468,
           "river_label": "moderate river discharge",
           "sinuosity_label": "straight",
           "slope_label": "sloping",
           "style": {
            "color": "yellow",
            "dashArray": "5",
            "fillOpacity": 0.5,
            "fill_color": "yellow",
            "opacity": 1,
            "weight": 4
           },
           "turbid_label": "turbid"
          },
          "type": "Feature"
         },
         {
          "geometry": {
           "coordinates": [
            [
             -124.15988729099996,
             40.87653324000007
            ],
            [
             -124.15961346399996,
             40.87709180000007
            ],
            [
             -124.159585484,
             40.87714117500008
            ],
            [
             -124.15955475699997,
             40.87717770300003
            ],
            [
             -124.15936185499999,
             40.877363915000046
            ],
            [
             -124.15933012699998,
             40.87738634900006
            ],
            [
             -124.15929424299998,
             40.877399608000076
            ],
            [
             -124.15925587399994,
             40.877403865000076
            ],
            [
             -124.15921742399996,
             40.877399670000045
            ],
            [
             -124.15918128899995,
             40.87738714000005
            ],
            [
             -124.159149104,
             40.87736682100007
            ],
            [
             -124.15908943199997,
             40.87731773200005
            ],
            [
             -124.15905723299994,
             40.87729739200006
            ],
            [
             -124.15902107699998,
             40.87728482700004
            ],
            [
             -124.15898260399996,
             40.877280591000044
            ],
            [
             -124.15894422099996,
             40.87728480800007
            ],
            [
             -124.15890834199996,
             40.87729803700006
            ],
            [
             -124.158876653,
             40.877320471000075
            ],
            [
             -124.15868669899999,
             40.87750911000006
            ],
            [
             -124.15865753299994,
             40.877547046000075
            ],
            [
             -124.15863103999999,
             40.87760156400003
            ],
            [
             -124.15861219899995,
             40.877664055000025
            ],
            [
             -124.15859862999997,
             40.877731984000036
            ],
            [
             -124.15858834499994,
             40.877803260000064
            ],
            [
             -124.15857086399996,
             40.87794886000006
            ],
            [
             -124.15856048199998,
             40.87801994000006
            ],
            [
             -124.15854675899999,
             40.878087606000065
            ],
            [
             -124.15852772099998,
             40.87814988900004
            ],
            [
             -124.15850100299997,
             40.87820442300006
            ],
            [
             -124.15847165399998,
             40.87824273700005
            ],
            [
             -124.15828316299996,
             40.87845953000004
            ],
            [
             -124.15815077299999,
             40.87859692300003
            ],
            [
             -124.15812137699999,
             40.878634945000044
            ],
            [
             -124.158094587,
             40.87868904800007
            ],
            [
             -124.15807545799998,
             40.87875080200007
            ],
            [
             -124.158061627,
             40.87881784600006
            ],
            [
             -124.15805111499998,
             40.87888820500007
            ],
            [
             -124.15803330699998,
             40.87903212500004
            ],
            [
             -124.15802282599998,
             40.87910250300007
            ],
            [
             -124.15800903899998,
             40.87916957300007
            ],
            [
             -124.15798997199994,
             40.87923136100005
            ],
            [
             -124.15796325599996,
             40.87928549800006
            ],
            [
             -124.15793392599994,
             40.879323544000044
            ],
            [
             -124.15774523199997,
             40.87953910400006
            ],
            [
             -124.15752908399998,
             40.87981382300006
            ],
            [
             -124.157257389,
             40.880350613000076
            ],
            [
             -124.15703906899995,
             40.88078677800007
            ],
            [
             -124.15701536399996,
             40.88084007200007
            ],
            [
             -124.15699848999998,
             40.88090019600003
            ],
            [
             -124.15698669799997,
             40.88096540500004
            ],
            [
             -124.15697858199997,
             40.881034287000034
            ],
            [
             -124.15697299699997,
             40.881105699000045
            ],
            [
             -124.15695832199998,
             40.88139901900007
            ],
            [
             -124.15695252699999,
             40.881470222000075
            ],
            [
             -124.15694403499998,
             40.881538729000056
            ],
            [
             -124.15693161099995,
             40.88160330300008
            ],
            [
             -124.15691371599996,
             40.88166240600003
            ],
            [
             -124.15688841499997,
             40.881714104000025
            ],
            [
             -124.15685915599994,
             40.88175221900008
            ],
            [
             -124.15666690599994,
             40.881964211000025
            ],
            [
             -124.156634753,
             40.88199943200004
            ],
            [
             -124.156598439,
             40.882030490000034
            ],
            [
             -124.15652090099996,
             40.882087700000056
            ],
            [
             -124.15648458599998,
             40.882118760000026
            ],
            [
             -124.156452436,
             40.88215398400007
            ],
            [
             -124.15634659699998,
             40.88227073300004
            ]
           ],
           "type": "LineString"
          },
          "id": "60",
          "properties": {
           "CSU_ID": 19802,
           "ERODIBILITY": "High",
           "MEAN_SIG_WAVEHEIGHT": 2.305355,
           "TIDAL_RANGE": 2.983468,
           "river_label": "moderate river discharge",
           "sinuosity_label": "straight",
           "slope_label": "flat",
           "style": {
            "color": "yellow",
            "dashArray": "5",
            "fillOpacity": 0.5,
            "fill_color": "yellow",
            "opacity": 1,
            "weight": 4
           },
           "turbid_label": "turbid"
          },
          "type": "Feature"
         },
         {
          "geometry": {
           "coordinates": [
            [
             -124.15841834899999,
             40.879638502000034
            ],
            [
             -124.15838015299994,
             40.879634569000075
            ],
            [
             -124.15836270799997,
             40.87963067700008
            ],
            [
             -124.15834711899998,
             40.879624861000025
            ],
            [
             -124.15833417999994,
             40.87961637700005
            ],
            [
             -124.15832457599998,
             40.87960457300005
            ],
            [
             -124.158317792,
             40.87958998000005
            ],
            [
             -124.15831313999996,
             40.87957298200007
            ],
            [
             -124.158310127,
             40.879551578000076
            ],
            [
             -124.15830843599997,
             40.87952648400005
            ],
            [
             -124.15830788,
             40.87947104700004
            ],
            [
             -124.158311374,
             40.879364140000064
            ],
            [
             -124.15841828199996,
             40.879360646000066
            ],
            [
             -124.15847371799998,
             40.87936120100005
            ],
            [
             -124.15849881399998,
             40.87936289100003
            ],
            [
             -124.15852021799998,
             40.87936590600003
            ],
            [
             -124.15853721499997,
             40.87937055700007
            ],
            [
             -124.15855180699998,
             40.879377341000065
            ],
            [
             -124.15856361299996,
             40.87938694600007
            ],
            [
             -124.15857209599994,
             40.879399884000065
            ],
            [
             -124.15857791099995,
             40.87941547300005
            ],
            [
             -124.158581804,
             40.87943291800008
            ],
            [
             -124.15858573699995,
             40.87947111500006
            ],
            [
             -124.15858618099998,
             40.879511053000044
            ],
            [
             -124.15858343399998,
             40.87955016400008
            ],
            [
             -124.15858048099994,
             40.87956856100004
            ],
            [
             -124.158576031,
             40.87958560800007
            ],
            [
             -124.15856957199998,
             40.879600725000046
            ],
            [
             -124.15856040299997,
             40.87961316800005
            ],
            [
             -124.15854795999996,
             40.87962233700006
            ],
            [
             -124.15853284399998,
             40.879628797000066
            ],
            [
             -124.15851579599996,
             40.879633246000026
            ],
            [
             -124.15849739899994,
             40.87963619900006
            ],
            [
             -124.15845828799996,
             40.87963894600006
            ],
            [
             -124.15841834899999,
             40.879638502000034
            ]
           ],
           "type": "LineString"
          },
          "id": "61",
          "properties": {
           "CSU_ID": 19802,
           "ERODIBILITY": "High",
           "MEAN_SIG_WAVEHEIGHT": 2.305355,
           "TIDAL_RANGE": 2.983468,
           "river_label": "moderate river discharge",
           "sinuosity_label": "straight",
           "slope_label": "flat",
           "style": {
            "color": "yellow",
            "dashArray": "5",
            "fillOpacity": 0.5,
            "fill_color": "yellow",
            "opacity": 1,
            "weight": 4
           },
           "turbid_label": "turbid"
          },
          "type": "Feature"
         },
         {
          "geometry": {
           "coordinates": [
            [
             -124.15634659699998,
             40.88227073300004
            ],
            [
             -124.15626022199996,
             40.882366012000034
            ],
            [
             -124.15623097599996,
             40.88240413900007
            ],
            [
             -124.15620569099997,
             40.88245585300007
            ],
            [
             -124.15618781799998,
             40.88251497700003
            ],
            [
             -124.15617541999995,
             40.88257957800005
            ],
            [
             -124.15616695999995,
             40.88264811700003
            ],
            [
             -124.15616120199996,
             40.88271935800003
            ],
            [
             -124.15614677899998,
             40.883012929000074
            ],
            [
             -124.15614128799996,
             40.88308443600005
            ],
            [
             -124.15613327999995,
             40.88315342900006
            ],
            [
             -124.15612161499996,
             40.88321876400005
            ],
            [
             -124.15610488399994,
             40.883279033000065
            ],
            [
             -124.15608133599994,
             40.88333248500004
            ],
            [
             -124.15584084199998,
             40.88382354200007
            ],
            [
             -124.15581269999996,
             40.88387241800007
            ],
            [
             -124.15578180999995,
             40.883908922000046
            ],
            [
             -124.15555582999997,
             40.88415489100004
            ],
            [
             -124.155519788,
             40.88418631600007
            ],
            [
             -124.15544280399996,
             40.88424432200003
            ],
            [
             -124.15540672499998,
             40.884275770000045
            ],
            [
             -124.15517968299997,
             40.88452241600004
            ],
            [
             -124.15514850599999,
             40.88455909000004
            ],
            [
             -124.15511999399996,
             40.884608179000054
            ],
            [
             -124.154878968,
             40.88509626900003
            ],
            [
             -124.15485776699995,
             40.885146889000055
            ],
            [
             -124.15484489599999,
             40.885202900000024
            ],
            [
             -124.15483922599998,
             40.88526201500008
            ],
            [
             -124.15484018199999,
             40.88532212400003
            ],
            [
             -124.15484770599994,
             40.88538118200006
            ],
            [
             -124.15486226299998,
             40.88543707800005
            ],
            [
             -124.15488483499996,
             40.885487529000045
            ],
            [
             -124.15491148999996,
             40.885526036000044
            ],
            [
             -124.15497188999996,
             40.88559699100006
            ],
            [
             -124.15499848999997,
             40.88563544100003
            ],
            [
             -124.15502095699998,
             40.88568578700006
            ],
            [
             -124.15503536899996,
             40.88574153900004
            ],
            [
             -124.15504272199996,
             40.88580042500007
            ],
            [
             -124.15504349399998,
             40.885860352000066
            ],
            [
             -124.15503765699998,
             40.88591929800003
            ],
            [
             -124.15502466799995,
             40.88597519000007
            ],
            [
             -124.15479055699996,
             40.88664676900004
            ],
            [
             -124.15464348299997,
             40.88694654200003
            ],
            [
             -124.15455851499996,
             40.88717215300005
            ],
            [
             -124.15434604499995,
             40.887795968000034
            ],
            [
             -124.15427835999998,
             40.88805233700003
            ],
            [
             -124.15419291799998,
             40.88845441900003
            ],
            [
             -124.15412563799998,
             40.888659793000045
            ]
           ],
           "type": "LineString"
          },
          "id": "62",
          "properties": {
           "CSU_ID": 19802,
           "ERODIBILITY": "High",
           "MEAN_SIG_WAVEHEIGHT": 2.305355,
           "TIDAL_RANGE": 2.983468,
           "river_label": "moderate river discharge",
           "sinuosity_label": "straight",
           "slope_label": "flat",
           "style": {
            "color": "yellow",
            "dashArray": "5",
            "fillOpacity": 0.5,
            "fill_color": "yellow",
            "opacity": 1,
            "weight": 4
           },
           "turbid_label": "turbid"
          },
          "type": "Feature"
         },
         {
          "geometry": {
           "coordinates": [
            [
             -124.15412563799998,
             40.888659793000045
            ],
            [
             -124.15396916199995,
             40.88913743300003
            ],
            [
             -124.15394988199995,
             40.88918888500007
            ],
            [
             -124.15392291599994,
             40.88922744700005
            ],
            [
             -124.15389333699994,
             40.88924706500006
            ],
            [
             -124.15385945999998,
             40.88925589300004
            ],
            [
             -124.15382411799999,
             40.88925491300006
            ],
            [
             -124.15379004199997,
             40.889244577000056
            ],
            [
             -124.15375912899998,
             40.88922569600004
            ],
            [
             -124.15370038299994,
             40.88917796900006
            ],
            [
             -124.153668101,
             40.88915782500004
            ],
            [
             -124.15363161899995,
             40.88914526000008
            ],
            [
             -124.15359264099999,
             40.88914089100007
            ],
            [
             -124.15355361199994,
             40.889144886000054
            ],
            [
             -124.15351698799998,
             40.88915784200003
            ],
            [
             -124.15348447199995,
             40.889179969000054
            ],
            [
             -124.15345456399996,
             40.88920856900006
            ],
            [
             -124.15332351899997,
             40.88933388600003
            ],
            [
             -124.15328940199998,
             40.88936665700004
            ],
            [
             -124.15325981399997,
             40.88940427500006
            ],
            [
             -124.15323333699996,
             40.88945842000004
            ],
            [
             -124.15321540899998,
             40.88952055400006
            ],
            [
             -124.15320413699999,
             40.889588151000055
            ],
            [
             -124.15319821499997,
             40.88965914500005
            ],
            [
             -124.15319686699996,
             40.88973178500004
            ],
            [
             -124.15319979799995,
             40.889804498000046
            ],
            [
             -124.15320716599996,
             40.88987575200008
            ],
            [
             -124.15321958399994,
             40.88994394500003
            ],
            [
             -124.15323814099997,
             40.89000727800004
            ],
            [
             -124.15326443799995,
             40.89006363800007
            ],
            [
             -124.15329296199997,
             40.890104300000075
            ],
            [
             -124.15335669799998,
             40.89017905600008
            ],
            [
             -124.15338518099998,
             40.89021956900007
            ],
            [
             -124.15341139099996,
             40.89027562100006
            ],
            [
             -124.15342983499994,
             40.89033851700003
            ],
            [
             -124.15344212199994,
             40.89040616200003
            ],
            [
             -124.15344937099997,
             40.890476782000064
            ],
            [
             -124.15345222299999,
             40.89054882100004
            ],
            [
             -124.15345088999999,
             40.890620829000056
            ],
            [
             -124.153445149,
             40.890691342000025
            ],
            [
             -124.153434329,
             40.89075878300008
            ],
            [
             -124.15341727199996,
             40.890821337000034
            ],
            [
             -124.153392296,
             40.89087684700007
            ],
            [
             -124.15254570999997,
             40.89253320100005
            ],
            [
             -124.152064742,
             40.89324286300007
            ],
            [
             -124.15203689099997,
             40.89327739600003
            ],
            [
             -124.15200626899997,
             40.893295659000046
            ],
            [
             -124.15197181599996,
             40.89330302800005
            ],
            [
             -124.15193623999994,
             40.89330010600003
            ],
            [
             -124.15190218099997,
             40.89328692000004
            ],
            [
             -124.15187146199997,
             40.89326377500004
            ],
            [
             -124.15174566999997,
             40.893137196000055
            ],
            [
             -124.15154193099994,
             40.89295327600007
            ],
            [
             -124.15151074099998,
             40.89293017700004
            ],
            [
             -124.15147612799996,
             40.89291705200003
            ],
            [
             -124.15143992399999,
             40.892914200000064
            ],
            [
             -124.15140477699998,
             40.89292165200004
            ],
            [
             -124.15137342199995,
             40.89294001300004
            ],
            [
             -124.15134471999994,
             40.89297467600005
            ],
            [
             -124.15132200499994,
             40.893020388000025
            ],
            [
             -124.15111936999995,
             40.89342997800003
            ],
            [
             -124.15110744799995,
             40.89346777600008
            ],
            [
             -124.15110449999997,
             40.89350742800008
            ],
            [
             -124.15111039099997,
             40.89354667400005
            ],
            [
             -124.15112545799997,
             40.89358322900006
            ],
            [
             -124.15113887399997,
             40.893601130000036
            ]
           ],
           "type": "LineString"
          },
          "id": "63",
          "properties": {
           "CSU_ID": 19802,
           "ERODIBILITY": "High",
           "MEAN_SIG_WAVEHEIGHT": 2.305355,
           "TIDAL_RANGE": 2.983468,
           "river_label": "moderate river discharge",
           "sinuosity_label": "straight",
           "slope_label": "flat",
           "style": {
            "color": "yellow",
            "dashArray": "5",
            "fillOpacity": 0.5,
            "fill_color": "yellow",
            "opacity": 1,
            "weight": 4
           },
           "turbid_label": "turbid"
          },
          "type": "Feature"
         },
         {
          "geometry": {
           "coordinates": [
            [
             -124.15113887399997,
             40.893601130000036
            ],
            [
             -124.15114967799997,
             40.893615546000035
            ],
            [
             -124.151332793,
             40.89381853500004
            ],
            [
             -124.15145937499994,
             40.89394442300005
            ],
            [
             -124.151483601,
             40.893976259000056
            ],
            [
             -124.15149867399998,
             40.89401225100005
            ],
            [
             -124.15150456999999,
             40.89405085400006
            ],
            [
             -124.15150163199996,
             40.89408980300004
            ],
            [
             -124.151489718,
             40.894126852000056
            ],
            [
             -124.15126470499996,
             40.89460277200004
            ],
            [
             -124.15123607599998,
             40.894652724000025
            ],
            [
             -124.15120479499996,
             40.89469023000004
            ],
            [
             -124.15097751699994,
             40.89494229200005
            ],
            [
             -124.15094144799997,
             40.89497369000003
            ],
            [
             -124.15073623999996,
             40.89514836400008
            ],
            [
             -124.15070406599995,
             40.895170423000025
            ],
            [
             -124.15066794699999,
             40.895183503000055
            ],
            [
             -124.15062952,
             40.89518775100004
            ],
            [
             -124.15059118099998,
             40.89518370700006
            ],
            [
             -124.15055533299994,
             40.895171498000025
            ],
            [
             -124.15052364299999,
             40.89515170400006
            ],
            [
             -124.150465828,
             40.895104512000046
            ],
            [
             -124.15043517699996,
             40.895085735000066
            ],
            [
             -124.15040116299997,
             40.89507532600004
            ],
            [
             -124.15036561399995,
             40.89507402400005
            ],
            [
             -124.15033117599995,
             40.89508219500004
            ],
            [
             -124.15030056699999,
             40.89510070100005
            ],
            [
             -124.15027274999994,
             40.895135081000035
            ],
            [
             -124.15005850399996,
             40.89556156200007
            ],
            [
             -124.1499708987221,
             40.895785
            ]
           ],
           "type": "LineString"
          },
          "id": "64",
          "properties": {
           "CSU_ID": 19802,
           "ERODIBILITY": "High",
           "MEAN_SIG_WAVEHEIGHT": 2.305355,
           "TIDAL_RANGE": 2.983468,
           "river_label": "moderate river discharge",
           "sinuosity_label": "straight",
           "slope_label": "flat",
           "style": {
            "color": "yellow",
            "dashArray": "5",
            "fillOpacity": 0.5,
            "fill_color": "yellow",
            "opacity": 1,
            "weight": 4
           },
           "turbid_label": "turbid"
          },
          "type": "Feature"
         },
         {
          "geometry": {
           "coordinates": [
            [
             -124.19003378855201,
             40.82779
            ],
            [
             -124.19000925899996,
             40.827855570000054
            ],
            [
             -124.18981931299999,
             40.82825273700007
            ],
            [
             -124.189517,
             40.82883590600005
            ],
            [
             -124.18948307999995,
             40.82887898600006
            ],
            [
             -124.18943916299997,
             40.828912065000054
            ],
            [
             -124.18938749299997,
             40.828937395000025
            ],
            [
             -124.18933108999994,
             40.82895799200003
            ],
            [
             -124.18921471299996,
             40.82899561100004
            ],
            [
             -124.18915982899995,
             40.829017726000075
            ],
            [
             -124.18911071199994,
             40.82904560700007
            ],
            [
             -124.18907400199998,
             40.829076271000076
            ],
            [
             -124.18887129599995,
             40.82927780800003
            ],
            [
             -124.18884060599999,
             40.82931449100005
            ],
            [
             -124.18881289799998,
             40.82936378000005
            ],
            [
             -124.18879127599996,
             40.829419157000075
            ],
            [
             -124.18873811499998,
             40.82959699200006
            ],
            [
             -124.18871652399997,
             40.829652399000054
            ],
            [
             -124.18868885699999,
             40.82970172900008
            ],
            [
             -124.18865820599996,
             40.82973845200007
            ],
            [
             -124.18863659899995,
             40.82975987900005
            ]
           ],
           "type": "LineString"
          },
          "id": "65",
          "properties": {
           "CSU_ID": 19790,
           "ERODIBILITY": "High",
           "MEAN_SIG_WAVEHEIGHT": 2.305355,
           "TIDAL_RANGE": 2.979268,
           "river_label": "moderate river discharge",
           "sinuosity_label": "straight",
           "slope_label": "flat",
           "style": {
            "color": "yellow",
            "dashArray": "5",
            "fillOpacity": 0.5,
            "fill_color": "yellow",
            "opacity": 1,
            "weight": 4
           },
           "turbid_label": "moderately turbid"
          },
          "type": "Feature"
         },
         {
          "geometry": {
           "coordinates": [
            [
             -124.164710357,
             40.82985126500006
            ],
            [
             -124.16480652399997,
             40.829688918000045
            ],
            [
             -124.16539423499995,
             40.82877515900003
            ],
            [
             -124.16542480699997,
             40.82873835800007
            ],
            [
             -124.16564881,
             40.82849074400008
            ],
            [
             -124.16568461399999,
             40.828459175000035
            ],
            [
             -124.16576112299998,
             40.82840093600004
            ],
            [
             -124.16579695499996,
             40.82836939500004
            ],
            [
             -124.16602155199996,
             40.82812237700006
            ],
            [
             -124.16605222099997,
             40.82808567200004
            ],
            [
             -124.16608009599997,
             40.828036549000046
            ],
            [
             -124.16619755475762,
             40.82779
            ]
           ],
           "type": "LineString"
          },
          "id": "66",
          "properties": {
           "CSU_ID": 19790,
           "ERODIBILITY": "High",
           "MEAN_SIG_WAVEHEIGHT": 2.305355,
           "TIDAL_RANGE": 2.979268,
           "river_label": "moderate river discharge",
           "sinuosity_label": "straight",
           "slope_label": "flat",
           "style": {
            "color": "yellow",
            "dashArray": "5",
            "fillOpacity": 0.5,
            "fill_color": "yellow",
            "opacity": 1,
            "weight": 4
           },
           "turbid_label": "moderately turbid"
          },
          "type": "Feature"
         },
         {
          "geometry": {
           "coordinates": [
            [
             -124.16989284319548,
             40.82779
            ],
            [
             -124.16989000099994,
             40.82782645100008
            ],
            [
             -124.16988126499996,
             40.82789870600004
            ],
            [
             -124.16986854699996,
             40.82796695400003
            ],
            [
             -124.16985040699996,
             40.828029757000024
            ],
            [
             -124.16982499,
             40.82808526500003
            ],
            [
             -124.16979741299997,
             40.828125114000045
            ],
            [
             -124.16973580099994,
             40.828198334000035
            ],
            [
             -124.16970833799996,
             40.82823827900006
            ],
            [
             -124.16968356599995,
             40.82829280900006
            ],
            [
             -124.16966592399996,
             40.82835446300004
            ],
            [
             -124.16965363399999,
             40.82842147100007
            ],
            [
             -124.16964530099995,
             40.82849243600003
            ],
            [
             -124.16963983399995,
             40.82856627100006
            ],
            [
             -124.16963423699997,
             40.82871929500004
            ],
            [
             -124.169628263,
             40.829030706000026
            ],
            [
             -124.16962479999995,
             40.82910663700005
            ],
            [
             -124.16961923699995,
             40.829180499000074
            ],
            [
             -124.16961062899998,
             40.82925134900006
            ],
            [
             -124.16959775099997,
             40.82931797100008
            ],
            [
             -124.16957902499996,
             40.82937878800004
            ],
            [
             -124.16955241699998,
             40.82943178200003
            ],
            [
             -124.16952253699998,
             40.82946960900006
            ],
            [
             -124.16932865399997,
             40.82968293000005
            ],
            [
             -124.16919255999994,
             40.82981835000004
            ],
            [
             -124.16916264399998,
             40.82985591700003
            ],
            [
             -124.16913575199999,
             40.82990948500003
            ],
            [
             -124.169117412,
             40.82997072100005
            ],
            [
             -124.16910573599995,
             40.83003726900006
            ],
            [
             -124.16909943199994,
             40.830107172000055
            ],
            [
             -124.16909772899999,
             40.83017874800004
            ],
            [
             -124.16910033299996,
             40.83025046100005
            ],
            [
             -124.169107398,
             40.83032080500004
            ],
            [
             -124.16911954699998,
             40.830388190000065
            ],
            [
             -124.16913787199996,
             40.83045082600006
            ],
            [
             -124.16916398899997,
             40.830506607000075
            ],
            [
             -124.169192421,
             40.830546895000055
            ],
            [
             -124.16925620999996,
             40.83062126200008
            ],
            [
             -124.169284904,
             40.83066181800007
            ],
            [
             -124.16931053299999,
             40.83071534700008
            ],
            [
             -124.16932938399998,
             40.83077556300003
            ],
            [
             -124.16934302899995,
             40.830840772000045
            ],
            [
             -124.16935266599995,
             40.83090960200008
            ],
            [
             -124.16935916999995,
             40.83098093800004
            ],
            [
             -124.16936313399998,
             40.83105384400005
            ],
            [
             -124.16936489399995,
             40.83112750300006
            ],
            [
             -124.16936454699999,
             40.83120114600007
            ],
            [
             -124.16936194599998,
             40.83127399400007
            ],
            [
             -124.16935669199995,
             40.83134518500003
            ],
            [
             -124.16934811099998,
             40.83141371100004
            ],
            [
             -124.16933520299995,
             40.831478341000036
            ],
            [
             -124.16931658699997,
             40.831537540000056
            ],
            [
             -124.16929043999994,
             40.831589379000036
            ],
            [
             -124.16926039099997,
             40.83162765700007
            ],
            [
             -124.16903041699999,
             40.83187759500004
            ],
            [
             -124.16899328799997,
             40.831909342000074
            ],
            [
             -124.168914041,
             40.83196819200003
            ],
            [
             -124.16888706999998,
             40.83199139100003
            ]
           ],
           "type": "LineString"
          },
          "id": "67",
          "properties": {
           "CSU_ID": 19790,
           "ERODIBILITY": "High",
           "MEAN_SIG_WAVEHEIGHT": 2.305355,
           "TIDAL_RANGE": 2.979268,
           "river_label": "moderate river discharge",
           "sinuosity_label": "straight",
           "slope_label": "flat",
           "style": {
            "color": "yellow",
            "dashArray": "5",
            "fillOpacity": 0.5,
            "fill_color": "yellow",
            "opacity": 1,
            "weight": 4
           },
           "turbid_label": "moderately turbid"
          },
          "type": "Feature"
         },
         {
          "geometry": {
           "coordinates": [
            [
             -124.16888706999998,
             40.83199139100003
            ],
            [
             -124.16887682799995,
             40.83200020000004
            ],
            [
             -124.16884375299998,
             40.832036438000046
            ],
            [
             -124.16864732899995,
             40.83225304600006
            ],
            [
             -124.16861840699994,
             40.832290510000064
            ],
            [
             -124.16859444899995,
             40.832340111000065
            ],
            [
             -124.16857940999995,
             40.83239498700004
            ],
            [
             -124.16857204599995,
             40.83245223100005
            ],
            [
             -124.16857175999996,
             40.83250897700003
            ],
            [
             -124.16857857099995,
             40.83256221600004
            ],
            [
             -124.16859312999998,
             40.83260860300004
            ],
            [
             -124.16861672999994,
             40.83264421800004
            ],
            [
             -124.16864550899999,
             40.83266370800004
            ],
            [
             -124.16867944599994,
             40.83267263400006
            ],
            [
             -124.16871558399998,
             40.83267170000005
            ],
            [
             -124.16875114699997,
             40.832661038000026
            ],
            [
             -124.16923298199998,
             40.83243633400008
            ],
            [
             -124.16928350599994,
             40.83240781400008
            ],
            [
             -124.16932143499997,
             40.83237670500006
            ],
            [
             -124.16957610699995,
             40.83215217400004
            ],
            [
             -124.16960829099997,
             40.83211639500007
            ],
            [
             -124.16980018099997,
             40.83190200200005
            ],
            [
             -124.16982949299995,
             40.83186376400005
            ],
            [
             -124.16985594599998,
             40.83180919900008
            ],
            [
             -124.16987435199997,
             40.83174661700008
            ],
            [
             -124.16988683999995,
             40.83167815000007
            ],
            [
             -124.169895049,
             40.83160542300004
            ],
            [
             -124.16990020599997,
             40.831529663000026
            ],
            [
             -124.16990477399997,
             40.83137243900006
            ],
            [
             -124.16990477399997,
             40.831129814000064
            ],
            [
             -124.16989665299997,
             40.83031314200008
            ],
            [
             -124.16989675199994,
             40.830151543000056
            ],
            [
             -124.169899655,
             40.82999274600007
            ],
            [
             -124.16990304599994,
             40.82991528900004
            ],
            [
             -124.169908492,
             40.82983988600006
            ],
            [
             -124.169916818,
             40.82976736400008
            ],
            [
             -124.16992912599994,
             40.82969882300006
            ],
            [
             -124.16994686199996,
             40.82963570800007
            ],
            [
             -124.17022048399997,
             40.82883132200004
            ],
            [
             -124.17024788499998,
             40.82877786500006
            ],
            [
             -124.170277791,
             40.82874038700004
            ],
            [
             -124.17046968099999,
             40.82852791700003
            ],
            [
             -124.17060437599997,
             40.82839291600004
            ],
            [
             -124.17063420299996,
             40.82835529400006
            ],
            [
             -124.17066100999995,
             40.82830213900007
            ],
            [
             -124.17067992999995,
             40.82824107000005
            ],
            [
             -124.17069301299995,
             40.82817413500004
            ],
            [
             -124.17070184499994,
             40.828102914000056
            ],
            [
             -124.17070763199996,
             40.828028602000074
            ],
            [
             -124.170711273,
             40.82795209600005
            ],
            [
             -124.17071461499995,
             40.82779497000007
            ],
            [
             -124.1707146131919,
             40.82779
            ]
           ],
           "type": "LineString"
          },
          "id": "68",
          "properties": {
           "CSU_ID": 19790,
           "ERODIBILITY": "High",
           "MEAN_SIG_WAVEHEIGHT": 2.305355,
           "TIDAL_RANGE": 2.979268,
           "river_label": "moderate river discharge",
           "sinuosity_label": "straight",
           "slope_label": "flat",
           "style": {
            "color": "yellow",
            "dashArray": "5",
            "fillOpacity": 0.5,
            "fill_color": "yellow",
            "opacity": 1,
            "weight": 4
           },
           "turbid_label": "moderately turbid"
          },
          "type": "Feature"
         },
         {
          "geometry": {
           "coordinates": [
            [
             -124.16209618899995,
             40.83530325500004
            ],
            [
             -124.16202628099995,
             40.835224726000035
            ],
            [
             -124.16177454299998,
             40.83500393400004
            ],
            [
             -124.16173690299996,
             40.83497394800003
            ],
            [
             -124.161686681,
             40.83494682600008
            ],
            [
             -124.16163046099996,
             40.83492563000004
            ],
            [
             -124.16145002999997,
             40.83487325600004
            ],
            [
             -124.16139360799997,
             40.83485184800003
            ],
            [
             -124.16134315099998,
             40.83482433800003
            ],
            [
             -124.16130535599996,
             40.83479380000006
            ],
            [
             -124.16109813299994,
             40.83458944700004
            ],
            [
             -124.16106788399998,
             40.83455127800005
            ],
            [
             -124.16104076599999,
             40.83449678100004
            ],
            [
             -124.16102231299999,
             40.83443453900003
            ],
            [
             -124.16101063399998,
             40.83436705400004
            ],
            [
             -124.16100447399998,
             40.83429642700003
            ],
            [
             -124.16100318199994,
             40.83422452700006
            ],
            [
             -124.16100665899995,
             40.83415312400007
            ],
            [
             -124.16101536399998,
             40.83408404700003
            ],
            [
             -124.16103034599996,
             40.834019331000036
            ],
            [
             -124.16105330099998,
             40.83396137500006
            ],
            [
             -124.16108667199995,
             40.83391310800005
            ],
            [
             -124.16112989399994,
             40.833878208000044
            ],
            [
             -124.16118162599997,
             40.833851657000025
            ],
            [
             -124.161238557,
             40.83383026900003
            ],
            [
             -124.16135663499995,
             40.83379188200007
            ],
            [
             -124.161412456,
             40.83376963300003
            ],
            [
             -124.16146248099994,
             40.83374170900004
            ],
            [
             -124.16149993299996,
             40.83371105900005
            ],
            [
             -124.16170573699998,
             40.83350987800003
            ],
            [
             -124.16173673299994,
             40.83347324700003
            ],
            [
             -124.16176473299998,
             40.833424008000065
            ],
            [
             -124.16178659099995,
             40.83336867100007
            ],
            [
             -124.16184018899997,
             40.83319087700005
            ],
            [
             -124.16186185199996,
             40.833135457000026
            ],
            [
             -124.16188955999996,
             40.83308609800008
            ],
            [
             -124.16192022299998,
             40.833049336000045
            ],
            [
             -124.16212276199997,
             40.83284747700003
            ],
            [
             -124.16215963199994,
             40.83281696300003
            ],
            [
             -124.16220912899996,
             40.83278944800003
            ],
            [
             -124.162264699,
             40.83276801200003
            ],
            [
             -124.16244306399994,
             40.83271536600006
            ],
            [
             -124.16249864499997,
             40.832693945000074
            ],
            [
             -124.16254815599996,
             40.83266645400005
            ],
            [
             -124.16258504899997,
             40.83263597100006
            ],
            [
             -124.16278775199999,
             40.83243442700007
            ],
            [
             -124.162818432,
             40.83239773300005
            ],
            [
             -124.16284614799997,
             40.83234844800006
            ],
            [
             -124.16286778699998,
             40.832293091000054
            ],
            [
             -124.16292094099998,
             40.832115249000026
            ],
            [
             -124.162942408,
             40.83205971800004
            ],
            [
             -124.16296980599998,
             40.83201011700004
            ],
            [
             -124.16300003499998,
             40.831972972000074
            ],
            [
             -124.163190467,
             40.831759162000026
            ],
            [
             -124.16325742799995,
             40.83169137500005
            ],
            [
             -124.16349236899998,
             40.83145470100004
            ],
            [
             -124.16352829099998,
             40.83142324800008
            ],
            [
             -124.16419260599997,
             40.83073046700008
            ],
            [
             -124.16453799199996,
             40.83014224600004
            ],
            [
             -124.164710357,
             40.82985126500006
            ]
           ],
           "type": "LineString"
          },
          "id": "69",
          "properties": {
           "CSU_ID": 80667,
           "ERODIBILITY": "Non",
           "MEAN_SIG_WAVEHEIGHT": 2.305355,
           "TIDAL_RANGE": 2.979268,
           "river_label": "moderate river discharge",
           "sinuosity_label": "straight",
           "slope_label": "flat",
           "style": {
            "color": "yellow",
            "dashArray": "5",
            "fillOpacity": 0.5,
            "fill_color": "yellow",
            "opacity": 1,
            "weight": 4
           },
           "turbid_label": "moderately turbid"
          },
          "type": "Feature"
         },
         {
          "geometry": {
           "coordinates": [
            [
             -124.18863659899995,
             40.82975987900005
            ],
            [
             -124.18845523699997,
             40.82993972700007
            ],
            [
             -124.188418201,
             40.829970064000065
            ],
            [
             -124.18836847899996,
             40.829997339000045
            ],
            [
             -124.18831263399994,
             40.83001849300007
            ],
            [
             -124.18813315199998,
             40.83007000500004
            ],
            [
             -124.18807710399994,
             40.83009095700004
            ],
            [
             -124.18802709599998,
             40.83011794600003
            ],
            [
             -124.18798975699997,
             40.830147983000074
            ],
            [
             -124.18778653499999,
             40.83034900300004
            ],
            [
             -124.18775697299998,
             40.830386815000054
            ],
            [
             -124.18773048999998,
             40.83044117900005
            ],
            [
             -124.18771227599996,
             40.830503812000075
            ],
            [
             -124.18770013699998,
             40.83057252200007
            ],
            [
             -124.18769240199998,
             40.83064563600004
            ],
            [
             -124.18768781399996,
             40.83072189500007
            ],
            [
             -124.18768542899994,
             40.83080035900008
            ],
            [
             -124.18768466599994,
             40.830961294000076
            ],
            [
             -124.18768823199997,
             40.83136910200005
            ],
            [
             -124.18768504999997,
             40.83152761700006
            ],
            [
             -124.18768051999996,
             40.83160393500003
            ],
            [
             -124.18767286099995,
             40.83167712300008
            ],
            [
             -124.18766081299998,
             40.83174592300003
            ],
            [
             -124.18764270699995,
             40.831808667000075
            ],
            [
             -124.18761635599998,
             40.83186316500007
            ],
            [
             -124.18758691999994,
             40.831901102000074
            ],
            [
             -124.18738474199995,
             40.832103166000024
            ],
            [
             -124.18734758299996,
             40.83213338000007
            ],
            [
             -124.18729773799998,
             40.832160534000025
            ],
            [
             -124.18724177299998,
             40.83218156800007
            ],
            [
             -124.18691329399996,
             40.83230545500004
            ],
            [
             -124.18646921799996,
             40.83252549100007
            ],
            [
             -124.18642550099997,
             40.83255877000005
            ],
            [
             -124.18639182799996,
             40.83260209600007
            ],
            [
             -124.18614385099994,
             40.833085606000054
            ],
            [
             -124.18611915399998,
             40.83314175700008
            ],
            [
             -124.18610138599996,
             40.83320483700004
            ],
            [
             -124.18608829699997,
             40.83327259600003
            ],
            [
             -124.18605868599997,
             40.833485531000065
            ],
            [
             -124.18604631699998,
             40.83355400900007
            ],
            [
             -124.18602957799999,
             40.83361812000004
            ],
            [
             -124.186006148,
             40.83367553800008
            ],
            [
             -124.18597318299999,
             40.83372342200005
            ],
            [
             -124.18593097799999,
             40.833758216000035
            ],
            [
             -124.18588081899998,
             40.83378505400003
            ],
            [
             -124.18571518299996,
             40.83385041400004
            ],
            [
             -124.18566512499996,
             40.83387735400004
            ],
            [
             -124.18562312199998,
             40.83391235000005
            ],
            [
             -124.18559185599997,
             40.83395808200004
            ],
            [
             -124.18556963299994,
             40.83401285700006
            ],
            [
             -124.18555410099998,
             40.83407432300004
            ],
            [
             -124.18533819399994,
             40.83497489300004
            ],
            [
             -124.18526258099996,
             40.83554419200004
            ]
           ],
           "type": "LineString"
          },
          "id": "70",
          "properties": {
           "CSU_ID": 19790,
           "ERODIBILITY": "High",
           "MEAN_SIG_WAVEHEIGHT": 2.305355,
           "TIDAL_RANGE": 2.979268,
           "river_label": "moderate river discharge",
           "sinuosity_label": "straight",
           "slope_label": "flat",
           "style": {
            "color": "yellow",
            "dashArray": "5",
            "fillOpacity": 0.5,
            "fill_color": "yellow",
            "opacity": 1,
            "weight": 4
           },
           "turbid_label": "moderately turbid"
          },
          "type": "Feature"
         },
         {
          "geometry": {
           "coordinates": [
            [
             -124.16115849999994,
             40.83534533400007
            ],
            [
             -124.16142558899998,
             40.83547850400004
            ],
            [
             -124.16147485199997,
             40.83550638400004
            ],
            [
             -124.16151148699998,
             40.83553722900007
            ],
            [
             -124.16171042699995,
             40.83574287500005
            ],
            [
             -124.16173948,
             40.83578122100005
            ],
            [
             -124.16176560399998,
             40.83583597100005
            ],
            [
             -124.16178389599997,
             40.835898548000046
            ],
            [
             -124.161796789,
             40.835966521000046
            ],
            [
             -124.16180630599996,
             40.83603786300006
            ],
            [
             -124.16182208499998,
             40.83618380200005
            ],
            [
             -124.16183157999996,
             40.83625516200004
            ],
            [
             -124.16184444199996,
             40.83632315400007
            ],
            [
             -124.16186270299994,
             40.83638574500003
            ],
            [
             -124.16188881899996,
             40.83644048200006
            ],
            [
             -124.16191790099998,
             40.836478777000025
            ],
            [
             -124.16211963199999,
             40.83668131400003
            ],
            [
             -124.16215777999997,
             40.83671054400003
            ],
            [
             -124.16221232799995,
             40.83673685300005
            ],
            [
             -124.16227471099995,
             40.83675533200005
            ],
            [
             -124.16234247499995,
             40.83676843100005
            ],
            [
             -124.16241358499997,
             40.83677818900003
            ],
            [
             -124.16255897599996,
             40.83679454900005
            ],
            [
             -124.16263004399997,
             40.83680437000004
            ],
            [
             -124.16269776599995,
             40.83681754600008
            ],
            [
             -124.162760161,
             40.83683606200003
            ],
            [
             -124.16281485099995,
             40.836862299000074
            ],
            [
             -124.16285330799997,
             40.83689129900006
            ],
            [
             -124.16306872499996,
             40.837081125000054
            ],
            [
             -124.16310458599997,
             40.837112939000065
            ],
            [
             -124.16333729599995,
             40.83735613400006
            ],
            [
             -124.16346383499996,
             40.837504257000035
            ],
            [
             -124.163496077,
             40.83754105300005
            ],
            [
             -124.16353256399998,
             40.83757372500003
            ],
            [
             -124.16375031599995,
             40.83776847300004
            ],
            [
             -124.163787878,
             40.837797254000066
            ],
            [
             -124.16383755799995,
             40.837821090000034
            ],
            [
             -124.16389248299998,
             40.83783604900003
            ],
            [
             -124.16394974699995,
             40.83784336400004
            ],
            [
             -124.16400649399998,
             40.83784362700004
            ],
            [
             -124.16405972499996,
             40.83783680800008
            ],
            [
             -124.16410610499997,
             40.83782224300006
            ],
            [
             -124.16414173199996,
             40.83779861900007
            ],
            [
             -124.16416126499996,
             40.83776978800006
            ],
            [
             -124.164170292,
             40.83773574400004
            ],
            [
             -124.16416954199997,
             40.83769941600008
            ],
            [
             -124.16415919199994,
             40.83766354000005
            ],
            [
             -124.16394320299997,
             40.83698353700004
            ],
            [
             -124.16391823299995,
             40.836925962000066
            ],
            [
             -124.16388311699995,
             40.836878753000065
            ],
            [
             -124.16383539999998,
             40.83684436100003
            ],
            [
             -124.16377753199998,
             40.83682031400008
            ],
            [
             -124.16371263099995,
             40.83680347100005
            ],
            [
             -124.16364323,
             40.836791283000025
            ],
            [
             -124.16342810999998,
             40.83676233700004
            ],
            [
             -124.16336020999995,
             40.836749061000035
            ],
            [
             -124.16329750899996,
             40.836730644000056
            ],
            [
             -124.16324244499998,
             40.83670464800008
            ],
            [
             -124.16320365299998,
             40.83667591900007
            ],
            [
             -124.162986263,
             40.83648859600004
            ],
            [
             -124.16295010999994,
             40.83645733900005
            ],
            [
             -124.16271634699996,
             40.83621935800005
            ],
            [
             -124.16264977099996,
             40.836151174000065
            ],
            [
             -124.16245982899994,
             40.83593684900006
            ],
            [
             -124.16242959799996,
             40.83589970100007
            ],
            [
             -124.16240218499996,
             40.83585011300005
            ],
            [
             -124.16238069299999,
             40.83579460000004
            ],
            [
             -124.16232760099996,
             40.83561667600003
            ],
            [
             -124.16230612399994,
             40.835561143000064
            ],
            [
             -124.16227872699994,
             40.83551152900003
            ],
            [
             -124.16224850799995,
             40.835474358000056
            ],
            [
             -124.16209618899995,
             40.83530325500004
            ]
           ],
           "type": "LineString"
          },
          "id": "71",
          "properties": {
           "CSU_ID": 19775,
           "ERODIBILITY": "High",
           "MEAN_SIG_WAVEHEIGHT": 2.305355,
           "TIDAL_RANGE": 2.979268,
           "river_label": "moderate river discharge",
           "sinuosity_label": "straight",
           "slope_label": "flat",
           "style": {
            "color": "yellow",
            "dashArray": "5",
            "fillOpacity": 0.5,
            "fill_color": "yellow",
            "opacity": 1,
            "weight": 4
           },
           "turbid_label": "clear"
          },
          "type": "Feature"
         },
         {
          "geometry": {
           "coordinates": [
            [
             -124.16095601599994,
             40.84036897500005
            ],
            [
             -124.160793722,
             40.84023099400008
            ],
            [
             -124.16076152199997,
             40.84019574100006
            ],
            [
             -124.160570711,
             40.83998204200003
            ],
            [
             -124.16054175399995,
             40.83994360400004
            ],
            [
             -124.16051678899998,
             40.83989155100005
            ],
            [
             -124.16049921499996,
             40.83983210900004
            ],
            [
             -124.16048709799998,
             40.83976721600004
            ],
            [
             -124.16047889699996,
             40.83969840900005
            ],
            [
             -124.16047337299995,
             40.839626929000076
            ],
            [
             -124.16046329699998,
             40.839405991000035
            ],
            [
             -124.16045934799996,
             40.83933293900003
            ],
            [
             -124.16045368899995,
             40.839261597000075
            ],
            [
             -124.16044530499994,
             40.83919298100005
            ],
            [
             -124.16043296599997,
             40.83912832100003
            ],
            [
             -124.16041513699997,
             40.83906915000006
            ],
            [
             -124.16038990099997,
             40.83901738600008
            ],
            [
             -124.160360718,
             40.838979195000036
            ],
            [
             -124.160171199,
             40.83876446800008
            ],
            [
             -124.15995315999999,
             40.83849163000008
            ],
            [
             -124.15975950199999,
             40.83809810300005
            ],
            [
             -124.15967062599998,
             40.837811438000074
            ],
            [
             -124.15941777799998,
             40.83686079700004
            ],
            [
             -124.15940477499998,
             40.836793595000074
            ],
            [
             -124.159395653,
             40.836722472000076
            ],
            [
             -124.15938938199997,
             40.836648515000036
            ],
            [
             -124.15938521299995,
             40.83657257100003
            ],
            [
             -124.15938261599996,
             40.83649531200007
            ],
            [
             -124.15938098699996,
             40.83633898900007
            ],
            [
             -124.15938382599995,
             40.83618340900006
            ],
            [
             -124.159387429,
             40.83610717500005
            ],
            [
             -124.15939312399996,
             40.83603284600008
            ],
            [
             -124.15940167899998,
             40.835961284000064
            ],
            [
             -124.15941414199995,
             40.83589360500008
            ],
            [
             -124.15943191399998,
             40.83583124000006
            ],
            [
             -124.15945681199997,
             40.83577602500003
            ],
            [
             -124.15969970599997,
             40.83527951100007
            ],
            [
             -124.15972788299996,
             40.835229696000056
            ],
            [
             -124.15975891599999,
             40.83519249400007
            ],
            [
             -124.159962286,
             40.834990936000054
            ],
            [
             -124.15999907499997,
             40.83496254900007
            ],
            [
             -124.16004843499996,
             40.83493931900006
            ],
            [
             -124.16010387299997,
             40.83492502400003
            ],
            [
             -124.16016287499997,
             40.83491832800007
            ],
            [
             -124.16022317299996,
             40.83491851400004
            ],
            [
             -124.16028260599995,
             40.83492547000003
            ],
            [
             -124.16033898799998,
             40.834939664000046
            ],
            [
             -124.16038998699997,
             40.83496215200006
            ],
            [
             -124.16115849999994,
             40.83534533400007
            ]
           ],
           "type": "LineString"
          },
          "id": "72",
          "properties": {
           "CSU_ID": 80386,
           "ERODIBILITY": "Non",
           "MEAN_SIG_WAVEHEIGHT": 2.305355,
           "TIDAL_RANGE": 2.979268,
           "river_label": "moderate river discharge",
           "sinuosity_label": "sinuous",
           "slope_label": "sloping",
           "style": {
            "color": "yellow",
            "dashArray": "5",
            "fillOpacity": 0.5,
            "fill_color": "yellow",
            "opacity": 1,
            "weight": 4
           },
           "turbid_label": "clear"
          },
          "type": "Feature"
         },
         {
          "geometry": {
           "coordinates": [
            [
             -124.15760623299997,
             40.83886704200006
            ],
            [
             -124.157578393,
             40.838848864000056
            ],
            [
             -124.15755249799997,
             40.838810617000036
            ],
            [
             -124.15753353699995,
             40.83875845800003
            ],
            [
             -124.15751941699995,
             40.838696656000025
            ],
            [
             -124.15742389999997,
             40.83822057900005
            ],
            [
             -124.15742685599997,
             40.83773754900005
            ],
            [
             -124.15750289099998,
             40.83732298500007
            ],
            [
             -124.157515392,
             40.83732018200004
            ],
            [
             -124.157542853,
             40.83732362300003
            ],
            [
             -124.157580898,
             40.83733431300004
            ],
            [
             -124.15762484299995,
             40.83735378800003
            ],
            [
             -124.15767052099994,
             40.83738313200007
            ],
            [
             -124.15771664299996,
             40.83742058900003
            ],
            [
             -124.15790941399996,
             40.83758689000007
            ],
            [
             -124.15795120899998,
             40.83762568600008
            ],
            [
             -124.15798205899995,
             40.837665506000064
            ],
            [
             -124.15800384299996,
             40.83771617700006
            ],
            [
             -124.15801639699998,
             40.83777296200003
            ],
            [
             -124.15802132099998,
             40.83783312300005
            ],
            [
             -124.15801946899995,
             40.83789431500003
            ],
            [
             -124.15801102799998,
             40.83795440700004
            ],
            [
             -124.15799557699995,
             40.838011315000074
            ],
            [
             -124.15774071599998,
             40.838757764000036
            ],
            [
             -124.15772184999997,
             40.838810023000065
            ],
            [
             -124.15769606099997,
             40.838848453000026
            ],
            [
             -124.15766828699998,
             40.83886682600007
            ],
            [
             -124.15763727299998,
             40.83887290100006
            ],
            [
             -124.15760623299997,
             40.83886704200006
            ]
           ],
           "type": "LineString"
          },
          "id": "73",
          "properties": {
           "CSU_ID": 80660,
           "ERODIBILITY": "Non",
           "MEAN_SIG_WAVEHEIGHT": 2.305355,
           "TIDAL_RANGE": 2.979268,
           "river_label": "moderate river discharge",
           "sinuosity_label": "straight",
           "slope_label": "flat",
           "style": {
            "color": "yellow",
            "dashArray": "5",
            "fillOpacity": 0.5,
            "fill_color": "yellow",
            "opacity": 1,
            "weight": 4
           },
           "turbid_label": "clear"
          },
          "type": "Feature"
         }
        ],
        "type": "FeatureCollection"
       },
       "hover_style": {
        "color": "white",
        "dashArray": "4",
        "fillOpacity": 0.7
       },
       "name": "shoreline",
       "style": {
        "color": "yellow",
        "dashArray": "5",
        "fillOpacity": 0.5,
        "fill_color": "yellow",
        "opacity": 1,
        "weight": 4
       }
      }
     },
     "4d7ff083df8743d1aef3b9947c92d5f6": {
      "model_module": "@jupyter-widgets/controls",
      "model_module_version": "1.5.0",
      "model_name": "HBoxModel",
      "state": {
       "children": [
        "IPY_MODEL_67749c900b16441aabdc500b1104c761",
        "IPY_MODEL_37ffb2ecef8d41428d7e0b54ecc01a70",
        "IPY_MODEL_5c1e28ad311e4b07bcc102ce23533c6e",
        "IPY_MODEL_6bedfa9513c54942906fb1f74f0a26cb",
        "IPY_MODEL_2129a65d4e30467db1c6e7154a03a98e"
       ],
       "layout": "IPY_MODEL_47e7e02f66994373a9d14e45833a5980"
      }
     },
     "4dc5badf3d81407ca6c785bb4485a3ac": {
      "model_module": "@jupyter-widgets/base",
      "model_module_version": "1.2.0",
      "model_name": "LayoutModel",
      "state": {
       "height": "auto",
       "padding": "0px 0px 0px 4px",
       "width": "auto"
      }
     },
     "4e36a04b2bc64aafba701fa2ed704025": {
      "model_module": "jupyter-leaflet",
      "model_module_version": "^0.17.0",
      "model_name": "LeafletMapStyleModel",
      "state": {
       "_model_module_version": "^0.17.0",
       "cursor": "wait"
      }
     },
     "4ed60249e857469ea122dac92c86dfba": {
      "model_module": "@jupyter-widgets/base",
      "model_module_version": "1.2.0",
      "model_name": "LayoutModel",
      "state": {
       "margin": "0px 0px 0px 5px"
      }
     },
     "4f680fc214bb4d6f944040f50475ea7a": {
      "model_module": "jupyter-leaflet",
      "model_module_version": "^0.17.0",
      "model_name": "LeafletTileLayerModel",
      "state": {
       "_model_module_version": "^0.17.0",
       "_view_module_version": "^0.17.0",
       "attribution": "Google",
       "max_zoom": 22,
       "name": "Google Maps",
       "options": [
        "attribution",
        "bounds",
        "detect_retina",
        "max_native_zoom",
        "max_zoom",
        "min_native_zoom",
        "min_zoom",
        "no_wrap",
        "tile_size",
        "tms"
       ],
       "url": "https://mt1.google.com/vt/lyrs=m&x={x}&y={y}&z={z}"
      }
     },
     "4f68cc0df7ef4c32b219ff45e961e214": {
      "model_module": "jupyter-leaflet",
      "model_module_version": "^0.17.0",
      "model_name": "LeafletTileLayerModel",
      "state": {
       "_model_module_version": "^0.17.0",
       "_view_module_version": "^0.17.0",
       "attribution": "© swisstopo",
       "max_zoom": 19,
       "name": "SwissFederalGeoportal.SWISSIMAGE",
       "options": [
        "attribution",
        "bounds",
        "detect_retina",
        "max_native_zoom",
        "max_zoom",
        "min_native_zoom",
        "min_zoom",
        "no_wrap",
        "tile_size",
        "tms"
       ],
       "url": "https://wmts.geo.admin.ch/1.0.0/ch.swisstopo.swissimage/default/current/3857/{z}/{x}/{y}.jpeg"
      }
     },
     "4f81bece39344fcaa8d79661dcd11dac": {
      "model_module": "@jupyter-widgets/base",
      "model_module_version": "1.2.0",
      "model_name": "LayoutModel",
      "state": {}
     },
     "4fdeba4865d44a619b2b5fba85ac4598": {
      "model_module": "@jupyter-widgets/controls",
      "model_module_version": "1.5.0",
      "model_name": "DescriptionStyleModel",
      "state": {
       "description_width": ""
      }
     },
     "502c338dcac745fe8cd374cc7cd57e49": {
      "model_module": "jupyter-leaflet",
      "model_module_version": "^0.17.0",
      "model_name": "LeafletTileLayerModel",
      "state": {
       "_model_module_version": "^0.17.0",
       "_view_module_version": "^0.17.0",
       "attribution": "Imagery provided by NOAA National Centers for Environmental Information (NCEI); International Bathymetric Chart of the Southern Ocean (IBCSO); General Bathymetric Chart of the Oceans (GEBCO).",
       "max_zoom": 9,
       "name": "Esri.AntarcticBasemap",
       "options": [
        "attribution",
        "bounds",
        "detect_retina",
        "max_native_zoom",
        "max_zoom",
        "min_native_zoom",
        "min_zoom",
        "no_wrap",
        "tile_size",
        "tms"
       ],
       "url": "https://tiles.arcgis.com/tiles/C8EMgrsFcRFL6LrL/arcgis/rest/services/Antarctic_Basemap/MapServer/tile/{z}/{y}/{x}"
      }
     },
     "517470cd87a14975bef9c0b2cf107e7d": {
      "model_module": "jupyter-leaflet",
      "model_module_version": "^0.17.0",
      "model_name": "LeafletTileLayerModel",
      "state": {
       "_model_module_version": "^0.17.0",
       "_view_module_version": "^0.17.0",
       "attribution": "(C) Stadia Maps, (C) OpenMapTiles (C) OpenStreetMap contributors",
       "max_zoom": 20,
       "name": "Stadia.AlidadeSmooth",
       "options": [
        "attribution",
        "bounds",
        "detect_retina",
        "max_native_zoom",
        "max_zoom",
        "min_native_zoom",
        "min_zoom",
        "no_wrap",
        "tile_size",
        "tms"
       ],
       "url": "https://tiles.stadiamaps.com/tiles/alidade_smooth/{z}/{x}/{y}.png"
      }
     },
     "518efd58aeab430e9d53422903404da2": {
      "model_module": "jupyter-leaflet",
      "model_module_version": "^0.17.0",
      "model_name": "LeafletGeoJSONModel",
      "state": {
       "_model_module_version": "^0.17.0",
       "_view_module_version": "^0.17.0",
       "data": {
        "features": [
         {
          "geometry": {
           "coordinates": [
            [
             [
              -124.17280046433285,
              40.890498693728546
             ],
             [
              -124.173357584085,
              40.92202142236781
             ],
             [
              -124.13179846888775,
              40.922436850884885
             ],
             [
              -124.13126107129395,
              40.89091366370934
             ],
             [
              -124.17280046433285,
              40.890498693728546
             ]
            ]
           ],
           "type": "Polygon"
          },
          "id": "167",
          "properties": {
           "id": 167,
           "style": {
            "color": "blue",
            "fillColor": "blue",
            "fillOpacity": 0.1,
            "weight": 2
           }
          },
          "type": "Feature"
         }
        ],
        "type": "FeatureCollection"
       },
       "hover_style": {
        "color": "aqua",
        "fillColor": "blue",
        "fillOpacity": 0.1
       },
       "name": "Selected ROIs"
      }
     },
     "51a32c6b67ba4e939958ca12b717d4ec": {
      "model_module": "@jupyter-widgets/controls",
      "model_module_version": "1.5.0",
      "model_name": "ButtonStyleModel",
      "state": {
       "button_color": "red"
      }
     },
     "51ac7ffc457d4ab4acca3b34240e3f69": {
      "model_module": "jupyter-leaflet",
      "model_module_version": "^0.17.0",
      "model_name": "LeafletTileLayerModel",
      "state": {
       "_model_module_version": "^0.17.0",
       "_view_module_version": "^0.17.0",
       "attribution": "Imagery provided by services from the Global Imagery Browse Services (GIBS), operated by the NASA/GSFC/Earth Science Data and Information System (ESDIS) with funding provided by NASA/HQ.",
       "max_zoom": 6,
       "name": "NASAGIBS.ModisTerraAOD",
       "options": [
        "attribution",
        "bounds",
        "detect_retina",
        "max_native_zoom",
        "max_zoom",
        "min_native_zoom",
        "min_zoom",
        "no_wrap",
        "tile_size",
        "tms"
       ],
       "url": "https://map1.vis.earthdata.nasa.gov/wmts-webmerc/MODIS_Terra_Aerosol/default//GoogleMapsCompatible_Level6/{z}/{y}/{x}.png"
      }
     },
     "51bd983ee39144f190a75bbfe5504820": {
      "model_module": "jupyter-leaflet",
      "model_module_version": "^0.17.0",
      "model_name": "LeafletTileLayerModel",
      "state": {
       "_model_module_version": "^0.17.0",
       "_view_module_version": "^0.17.0",
       "attribution": "Tiles courtesy of the U.S. Geological Survey",
       "max_zoom": 20,
       "name": "USGS.USTopo",
       "options": [
        "attribution",
        "bounds",
        "detect_retina",
        "max_native_zoom",
        "max_zoom",
        "min_native_zoom",
        "min_zoom",
        "no_wrap",
        "tile_size",
        "tms"
       ],
       "url": "https://basemap.nationalmap.gov/arcgis/rest/services/USGSTopo/MapServer/tile/{z}/{y}/{x}"
      }
     },
     "52b3d2564ceb4bceadfbc7dbe2983afa": {
      "model_module": "@jupyter-widgets/base",
      "model_module_version": "1.2.0",
      "model_name": "LayoutModel",
      "state": {}
     },
     "53b1fc82633f4fd59f2c477ace63a42d": {
      "model_module": "@jupyter-widgets/controls",
      "model_module_version": "1.5.0",
      "model_name": "HTMLModel",
      "state": {
       "layout": "IPY_MODEL_e7ce3234e0d5472fa8984ac3369bf8ff",
       "style": "IPY_MODEL_4013eb4f3061412b95dc89275da7b241",
       "value": "<h2><b>Generate ROIs</b></h2>                 Use the two sliders to control the size of the ROIs generated.<br>                    <li> No Overlap: Set small slider to 0 and large slider to desired ROI size.</li>                    <li>Overlap: Set small slider to a value and large slider to desired ROI size.</li>                    <b>How it Works</b><br>                     Two fishnets (grids) are created out of ROIs (squares) and placed <br>                     within the bounding box.You control the size of the individual ROIs <br>                     that compose the small and large fishnets.<br>                    The ROIs are measured in meters squared."
      }
     },
     "53bf7580dd964d8ba2a458989068f961": {
      "model_module": "jupyter-leaflet",
      "model_module_version": "^0.17.0",
      "model_name": "LeafletTileLayerModel",
      "state": {
       "_model_module_version": "^0.17.0",
       "_view_module_version": "^0.17.0",
       "attribution": "Geoportail France",
       "max_zoom": 20,
       "name": "GeoportailFrance.parcels",
       "options": [
        "attribution",
        "bounds",
        "detect_retina",
        "max_native_zoom",
        "max_zoom",
        "min_native_zoom",
        "min_zoom",
        "no_wrap",
        "tile_size",
        "tms"
       ],
       "url": "https://wxs.ign.fr/choisirgeoportail/geoportail/wmts?REQUEST=GetTile&SERVICE=WMTS&VERSION=1.0.0&STYLE=PCI vecteur&TILEMATRIXSET=PM&FORMAT=image/png&LAYER=CADASTRALPARCELS.PARCELLAIRE_EXPRESS&TILEMATRIX={z}&TILEROW={y}&TILECOL={x}"
      }
     },
     "549dfa5e01df430da8a77ac81f188c86": {
      "model_module": "jupyter-leaflet",
      "model_module_version": "^0.17.0",
      "model_name": "LeafletTileLayerModel",
      "state": {
       "_model_module_version": "^0.17.0",
       "_view_module_version": "^0.17.0",
       "attribution": "Map tiles by <a href=\"https://labs.strava.com/heatmap\">Strava 2021</a>",
       "max_zoom": 15,
       "name": "Strava.Run",
       "options": [
        "attribution",
        "bounds",
        "detect_retina",
        "max_native_zoom",
        "max_zoom",
        "min_native_zoom",
        "min_zoom",
        "no_wrap",
        "tile_size",
        "tms"
       ],
       "url": "https://heatmap-external-a.strava.com/tiles/run/bluered/{z}/{x}/{y}.png"
      }
     },
     "54c60f487562488eb5a79f684607d91e": {
      "model_module": "jupyter-leaflet",
      "model_module_version": "^0.17.0",
      "model_name": "LeafletTileLayerModel",
      "state": {
       "_model_module_version": "^0.17.0",
       "_view_module_version": "^0.17.0",
       "attribution": "Google",
       "max_zoom": 22,
       "name": "Google Satellite",
       "options": [
        "attribution",
        "bounds",
        "detect_retina",
        "max_native_zoom",
        "max_zoom",
        "min_native_zoom",
        "min_zoom",
        "no_wrap",
        "tile_size",
        "tms"
       ],
       "url": "https://mt1.google.com/vt/lyrs=y&x={x}&y={y}&z={z}"
      }
     },
     "551556a3ef3a4931bb61afd48f1962de": {
      "model_module": "@jupyter-widgets/base",
      "model_module_version": "1.2.0",
      "model_name": "LayoutModel",
      "state": {}
     },
     "55a0d80f7d1944f9a01fa8eec72511b3": {
      "model_module": "jupyter-leaflet",
      "model_module_version": "^0.17.0",
      "model_name": "LeafletTileLayerModel",
      "state": {
       "_model_module_version": "^0.17.0",
       "_view_module_version": "^0.17.0",
       "attribution": "© swisstopo",
       "name": "SwissFederalGeoportal.JourneyThroughTime",
       "options": [
        "attribution",
        "bounds",
        "detect_retina",
        "max_native_zoom",
        "max_zoom",
        "min_native_zoom",
        "min_zoom",
        "no_wrap",
        "tile_size",
        "tms"
       ],
       "url": "https://wmts.geo.admin.ch/1.0.0/ch.swisstopo.zeitreihen/default/18641231/3857/{z}/{x}/{y}.png"
      }
     },
     "562bed85cbe14aa3af3e44e587db3f82": {
      "model_module": "jupyter-leaflet",
      "model_module_version": "^0.17.0",
      "model_name": "LeafletTileLayerModel",
      "state": {
       "_model_module_version": "^0.17.0",
       "_view_module_version": "^0.17.0",
       "attribution": "Imagery provided by services from the Global Imagery Browse Services (GIBS), operated by the NASA/GSFC/Earth Science Data and Information System (ESDIS) with funding provided by NASA/HQ.",
       "max_zoom": 9,
       "name": "NASAGIBS.ModisAquaTrueColorCR",
       "options": [
        "attribution",
        "bounds",
        "detect_retina",
        "max_native_zoom",
        "max_zoom",
        "min_native_zoom",
        "min_zoom",
        "no_wrap",
        "tile_size",
        "tms"
       ],
       "url": "https://gibs.earthdata.nasa.gov/wmts/epsg3857/best/MODIS_Aqua_CorrectedReflectance_TrueColor/default//GoogleMapsCompatible_Level9/{z}/{y}/{x}.jpg"
      }
     },
     "564031b49f574bc986311c1552f902e3": {
      "model_module": "jupyter-leaflet",
      "model_module_version": "^0.17.0",
      "model_name": "LeafletTileLayerModel",
      "state": {
       "_model_module_version": "^0.17.0",
       "_view_module_version": "^0.17.0",
       "attribution": "Justice Map",
       "max_zoom": 22,
       "name": "JusticeMap.white",
       "options": [
        "attribution",
        "bounds",
        "detect_retina",
        "max_native_zoom",
        "max_zoom",
        "min_native_zoom",
        "min_zoom",
        "no_wrap",
        "tile_size",
        "tms"
       ],
       "url": "https://www.justicemap.org/tile/county/white/{z}/{x}/{y}.png"
      }
     },
     "564d0839011f48e7bd8f05712d6bd336": {
      "model_module": "@jupyter-widgets/base",
      "model_module_version": "1.2.0",
      "model_name": "LayoutModel",
      "state": {}
     },
     "57076caba6924fffbfe14c651c113c35": {
      "model_module": "jupyter-leaflet",
      "model_module_version": "^0.17.0",
      "model_name": "LeafletTileLayerModel",
      "state": {
       "_model_module_version": "^0.17.0",
       "_view_module_version": "^0.17.0",
       "attribution": "Tiles (C) Esri -- Source: Esri",
       "max_zoom": 13,
       "name": "Esri.WorldShadedRelief",
       "options": [
        "attribution",
        "bounds",
        "detect_retina",
        "max_native_zoom",
        "max_zoom",
        "min_native_zoom",
        "min_zoom",
        "no_wrap",
        "tile_size",
        "tms"
       ],
       "url": "https://server.arcgisonline.com/ArcGIS/rest/services/World_Shaded_Relief/MapServer/tile/{z}/{y}/{x}"
      }
     },
     "5775657692654781a2c83133b5ecc3ea": {
      "model_module": "@jupyter-widgets/base",
      "model_module_version": "1.2.0",
      "model_name": "LayoutModel",
      "state": {}
     },
     "57efdf55a9fe49c8a0164c0dbe5e7cf7": {
      "model_module": "jupyter-leaflet",
      "model_module_version": "^0.17.0",
      "model_name": "LeafletTileLayerModel",
      "state": {
       "_model_module_version": "^0.17.0",
       "_view_module_version": "^0.17.0",
       "attribution": "(C) OpenStreetMap contributors (C) CARTO",
       "max_zoom": 20,
       "name": "CartoDB.Positron",
       "options": [
        "attribution",
        "bounds",
        "detect_retina",
        "max_native_zoom",
        "max_zoom",
        "min_native_zoom",
        "min_zoom",
        "no_wrap",
        "tile_size",
        "tms"
       ],
       "url": "https://a.basemaps.cartocdn.com/light_all/{z}/{x}/{y}.png"
      }
     },
     "584d70a9a53b4038a79c00a74ed0dd54": {
      "model_module": "@jupyter-widgets/base",
      "model_module_version": "1.2.0",
      "model_name": "LayoutModel",
      "state": {
       "height": "auto",
       "padding": "0px 0px 0px 4px",
       "width": "auto"
      }
     },
     "586344507ffb4c1484f071a5e2da5099": {
      "model_module": "@jupyter-widgets/base",
      "model_module_version": "1.2.0",
      "model_name": "LayoutModel",
      "state": {}
     },
     "58bf58d0c5574792988e19b0af44dce9": {
      "model_module": "@jupyter-widgets/controls",
      "model_module_version": "1.5.0",
      "model_name": "HBoxModel",
      "state": {
       "children": [
        "IPY_MODEL_a53f4bf7ced94b9181dd05b5e85763eb"
       ],
       "layout": "IPY_MODEL_b57bd56da1664a2683c31779b39a63cc"
      }
     },
     "58c5806d676d4e9a8a686c5510f34c88": {
      "model_module": "jupyter-leaflet",
      "model_module_version": "^0.17.0",
      "model_name": "LeafletDrawControlModel",
      "state": {
       "_model_module_version": "^0.17.0",
       "_view_module_version": "^0.17.0",
       "data": [
        {
         "geometry": {
          "coordinates": [
           [
            [
             -124.213202,
             40.82779
            ],
            [
             -124.213202,
             40.895785
            ],
            [
             -124.137996,
             40.895785
            ],
            [
             -124.137996,
             40.82779
            ],
            [
             -124.213202,
             40.82779
            ]
           ]
          ],
          "type": "Polygon"
         },
         "properties": {
          "style": {
           "Opacity": 0.1,
           "clickable": true,
           "color": "green",
           "fill": true,
           "fillColor": "green",
           "fillOpacity": 0.1,
           "opacity": 0.5,
           "stroke": true,
           "weight": 4
          }
         },
         "type": "Feature"
        }
       ],
       "options": [
        "position"
       ],
       "polygon": {},
       "polyline": {},
       "rectangle": {
        "allowIntersection": false,
        "drawError": {
         "color": "#dd253b",
         "message": "Ops!"
        },
        "shapeOptions": {
         "Opacity": 0.1,
         "color": "green",
         "fillColor": "green",
         "fillOpacity": 0.1
        },
        "transform": true
       }
      }
     },
     "5af6d98728f64983ab6f930c596017a3": {
      "model_module": "@jupyter-widgets/base",
      "model_module_version": "1.2.0",
      "model_name": "LayoutModel",
      "state": {
       "margin": "0px 20px 20px 20px"
      }
     },
     "5b21cceb34d44f299ca10f5928e9930c": {
      "model_module": "@jupyter-widgets/controls",
      "model_module_version": "1.5.0",
      "model_name": "ButtonModel",
      "state": {
       "description": "Download ROIs",
       "layout": "IPY_MODEL_758191808e544a4592f4b2d7207bf2a1",
       "style": "IPY_MODEL_121021f4db3041c0960e87a9c7fddc2e"
      }
     },
     "5bae8f3a2d3c413f8ce29f5b6bf2af36": {
      "model_module": "@jupyter-widgets/controls",
      "model_module_version": "1.5.0",
      "model_name": "ButtonStyleModel",
      "state": {
       "button_color": "red"
      }
     },
     "5beceb0c951247169be13a3b1affbbd2": {
      "model_module": "@jupyter-widgets/controls",
      "model_module_version": "1.5.0",
      "model_name": "ToggleButtonModel",
      "state": {
       "button_style": "primary",
       "icon": "adjust",
       "layout": "IPY_MODEL_0df6c1976fb349a49a4d078b2fb83328",
       "style": "IPY_MODEL_9e4bb864db504cb6a6770d33b35dedee",
       "tooltip": "Planet imagery"
      }
     },
     "5bfaf3d48c694da899b9b2934c28a358": {
      "model_module": "jupyter-leaflet",
      "model_module_version": "^0.17.0",
      "model_name": "LeafletTileLayerModel",
      "state": {
       "_model_module_version": "^0.17.0",
       "_view_module_version": "^0.17.0",
       "attribution": "Justice Map",
       "max_zoom": 22,
       "name": "JusticeMap.hispanic",
       "options": [
        "attribution",
        "bounds",
        "detect_retina",
        "max_native_zoom",
        "max_zoom",
        "min_native_zoom",
        "min_zoom",
        "no_wrap",
        "tile_size",
        "tms"
       ],
       "url": "https://www.justicemap.org/tile/county/hispanic/{z}/{x}/{y}.png"
      }
     },
     "5c1e28ad311e4b07bcc102ce23533c6e": {
      "model_module": "@jupyter-widgets/controls",
      "model_module_version": "1.5.0",
      "model_name": "ButtonModel",
      "state": {
       "description": "Remove bbox",
       "layout": "IPY_MODEL_1e7d61df215c40319407b3f3026d4014",
       "style": "IPY_MODEL_5bae8f3a2d3c413f8ce29f5b6bf2af36"
      }
     },
     "5d6f6c2844f44c49af3fcd15ce11e5b6": {
      "model_module": "@jupyter-widgets/base",
      "model_module_version": "1.2.0",
      "model_name": "LayoutModel",
      "state": {}
     },
     "5e411347ff0546198218de522236f8dd": {
      "model_module": "jupyter-leaflet",
      "model_module_version": "^0.17.0",
      "model_name": "LeafletTileLayerModel",
      "state": {
       "_model_module_version": "^0.17.0",
       "_view_module_version": "^0.17.0",
       "attribution": "Imagery provided by services from the Global Imagery Browse Services (GIBS), operated by the NASA/GSFC/Earth Science Data and Information System (ESDIS) with funding provided by NASA/HQ.",
       "max_zoom": 12,
       "name": "NASAGIBS.ASTER_GDEM_Greyscale_Shaded_Relief",
       "options": [
        "attribution",
        "bounds",
        "detect_retina",
        "max_native_zoom",
        "max_zoom",
        "min_native_zoom",
        "min_zoom",
        "no_wrap",
        "tile_size",
        "tms"
       ],
       "url": "https://gibs.earthdata.nasa.gov/wmts/epsg3857/best/ASTER_GDEM_Greyscale_Shaded_Relief/default/GoogleMapsCompatible_Level12/{z}/{y}/{x}.jpg"
      }
     },
     "5efeb334005b4f7e8455c255e21d1115": {
      "model_module": "@jupyter-widgets/controls",
      "model_module_version": "1.5.0",
      "model_name": "VBoxModel",
      "state": {
       "children": [
        "IPY_MODEL_181bafbb288a4a068561f24a5ea84e9e",
        "IPY_MODEL_b37beafd20984b92855c7dbe22b69cc6",
        "IPY_MODEL_bce1c6aebba645d5ac04ad4914d04407"
       ],
       "layout": "IPY_MODEL_8f1776c93a744f67aa748c480684c179"
      }
     },
     "607a3086bf054e9b979f0d869e2876d1": {
      "model_module": "jupyter-leaflet",
      "model_module_version": "^0.17.0",
      "model_name": "LeafletTileLayerModel",
      "state": {
       "_model_module_version": "^0.17.0",
       "_view_module_version": "^0.17.0",
       "attribution": "Imagery provided by services from the Global Imagery Browse Services (GIBS), operated by the NASA/GSFC/Earth Science Data and Information System (ESDIS) with funding provided by NASA/HQ.",
       "max_zoom": 7,
       "name": "NASAGIBS.ModisTerraChlorophyll",
       "options": [
        "attribution",
        "bounds",
        "detect_retina",
        "max_native_zoom",
        "max_zoom",
        "min_native_zoom",
        "min_zoom",
        "no_wrap",
        "tile_size",
        "tms"
       ],
       "url": "https://map1.vis.earthdata.nasa.gov/wmts-webmerc/MODIS_Terra_Chlorophyll_A/default//GoogleMapsCompatible_Level7/{z}/{y}/{x}.png"
      }
     },
     "61a1aae3a3434c0885fb6233c6935691": {
      "model_module": "@jupyter-widgets/controls",
      "model_module_version": "1.5.0",
      "model_name": "DescriptionStyleModel",
      "state": {
       "description_width": ""
      }
     },
     "6286c8aee54f4dcca0af162b567f07cf": {
      "model_module": "@jupyter-widgets/controls",
      "model_module_version": "1.5.0",
      "model_name": "ButtonStyleModel",
      "state": {
       "button_color": "#ae3cf0"
      }
     },
     "63fbd4d60a21467987d6820933a9fbcd": {
      "model_module": "@jupyter-widgets/controls",
      "model_module_version": "1.5.0",
      "model_name": "IntSliderModel",
      "state": {
       "continuous_update": false,
       "description": "Large Fishnet:",
       "layout": "IPY_MODEL_f1cd42f139644e92b3361230ed163454",
       "max": 10000,
       "min": 1000,
       "step": 100,
       "style": "IPY_MODEL_895e3dd97c9d499286ddeb6e1ca5f382",
       "value": 4000
      }
     },
     "646f57ce81f3491e890ead12586a7551": {
      "model_module": "@jupyter-widgets/base",
      "model_module_version": "1.2.0",
      "model_name": "LayoutModel",
      "state": {
       "height": "600px",
       "width": "100%"
      }
     },
     "6501170b913e45be9c71252e07f0915a": {
      "model_module": "@jupyter-widgets/base",
      "model_module_version": "1.2.0",
      "model_name": "LayoutModel",
      "state": {}
     },
     "650842a1d0574cac8afd86a2acadb62f": {
      "model_module": "@jupyter-widgets/controls",
      "model_module_version": "1.5.0",
      "model_name": "ButtonModel",
      "state": {
       "description": "Load Shoreline",
       "layout": "IPY_MODEL_37321fe30a7e42c39751055e36c1c51f",
       "style": "IPY_MODEL_0bcf6c6258d64a528f78f0d7c820fd15"
      }
     },
     "66a640123a2e4fc59e98bec8fd0a046d": {
      "model_module": "ipyevents",
      "model_module_version": "2.0.1",
      "model_name": "EventModel",
      "state": {
       "_supported_key_events": [
        "keydown",
        "keyup"
       ],
       "_supported_mouse_events": [
        "click",
        "auxclick",
        "dblclick",
        "mouseenter",
        "mouseleave",
        "mousedown",
        "mouseup",
        "mousemove",
        "wheel",
        "contextmenu",
        "dragstart",
        "drag",
        "dragend",
        "dragenter",
        "dragover",
        "dragleave",
        "drop"
       ],
       "_supported_touch_events": [
        "touchstart",
        "touchend",
        "touchmove",
        "touchcancel"
       ],
       "_view_module": "@jupyter-widgets/controls",
       "_view_module_version": "1.5.0",
       "source": "IPY_MODEL_1ce3883f69f2407cbceb94f2195a3e41",
       "throttle_or_debounce": "",
       "watched_events": [
        "mouseenter",
        "mouseleave"
       ],
       "xy_coordinate_system": ""
      }
     },
     "67749c900b16441aabdc500b1104c761": {
      "model_module": "@jupyter-widgets/controls",
      "model_module_version": "1.5.0",
      "model_name": "ButtonModel",
      "state": {
       "description": "Remove all",
       "layout": "IPY_MODEL_0a77e09466cc43b788bfa0696118e0cf",
       "style": "IPY_MODEL_1b22f22b2eb54c55bf656cd1b3572ecc"
      }
     },
     "67a75ecb59294df0b6df18d9b37cf61a": {
      "model_module": "@jupyter-widgets/base",
      "model_module_version": "1.2.0",
      "model_name": "LayoutModel",
      "state": {}
     },
     "689fbcbdf6ab4757947782d9a1070f66": {
      "model_module": "jupyter-leaflet",
      "model_module_version": "^0.17.0",
      "model_name": "LeafletTileLayerModel",
      "state": {
       "_model_module_version": "^0.17.0",
       "_view_module_version": "^0.17.0",
       "attribution": "Earthstar Geographics",
       "max_zoom": 24,
       "name": "Esri.ArcticImagery",
       "options": [
        "attribution",
        "bounds",
        "detect_retina",
        "max_native_zoom",
        "max_zoom",
        "min_native_zoom",
        "min_zoom",
        "no_wrap",
        "tile_size",
        "tms"
       ],
       "url": "http://server.arcgisonline.com/ArcGIS/rest/services/Polar/Arctic_Imagery/MapServer/tile/{z}/{y}/{x}"
      }
     },
     "691fa16bc7674d28a65190524291a48a": {
      "model_module": "jupyter-leaflet",
      "model_module_version": "^0.17.0",
      "model_name": "LeafletTileLayerModel",
      "state": {
       "_model_module_version": "^0.17.0",
       "_view_module_version": "^0.17.0",
       "attribution": "Map tiles by <a href=\"https://labs.strava.com/heatmap\">Strava 2021</a>",
       "max_zoom": 15,
       "name": "Strava.Winter",
       "options": [
        "attribution",
        "bounds",
        "detect_retina",
        "max_native_zoom",
        "max_zoom",
        "min_native_zoom",
        "min_zoom",
        "no_wrap",
        "tile_size",
        "tms"
       ],
       "url": "https://heatmap-external-a.strava.com/tiles/winter/hot/{z}/{x}/{y}.png"
      }
     },
     "6994ee674e8a421bafb5f42c2b6c0c0a": {
      "model_module": "jupyter-leaflet",
      "model_module_version": "^0.17.0",
      "model_name": "LeafletTileLayerModel",
      "state": {
       "_model_module_version": "^0.17.0",
       "_view_module_version": "^0.17.0",
       "attribution": "Tiles (C) Esri -- Copyright: (C)2012 DeLorme",
       "max_zoom": 11,
       "name": "Esri.DeLorme",
       "options": [
        "attribution",
        "bounds",
        "detect_retina",
        "max_native_zoom",
        "max_zoom",
        "min_native_zoom",
        "min_zoom",
        "no_wrap",
        "tile_size",
        "tms"
       ],
       "url": "https://server.arcgisonline.com/ArcGIS/rest/services/Specialty/DeLorme_World_Base_Map/MapServer/tile/{z}/{y}/{x}"
      }
     },
     "69ad47f2a70244a1bc19c1395bf617bb": {
      "model_module": "@jupyter-widgets/controls",
      "model_module_version": "1.5.0",
      "model_name": "DescriptionStyleModel",
      "state": {
       "description_width": ""
      }
     },
     "69b5358740c240a4b393a71b215a8e97": {
      "model_module": "@jupyter-widgets/base",
      "model_module_version": "1.2.0",
      "model_name": "LayoutModel",
      "state": {
       "height": "auto",
       "padding": "0px 0px 0px 4px",
       "width": "auto"
      }
     },
     "69d0376b11c149f0a9d7671a0b41a3b6": {
      "model_module": "@jupyter-widgets/controls",
      "model_module_version": "1.5.0",
      "model_name": "DescriptionStyleModel",
      "state": {
       "description_width": ""
      }
     },
     "6a94af4ac0134689a3d66cd69809e607": {
      "model_module": "@jupyter-widgets/controls",
      "model_module_version": "1.5.0",
      "model_name": "GridBoxModel",
      "state": {
       "children": [
        "IPY_MODEL_2c286db06be84397bc79db3501b1c40e",
        "IPY_MODEL_06ac1d7b32a84c2b9f2c126d59197561",
        "IPY_MODEL_5beceb0c951247169be13a3b1affbbd2",
        "IPY_MODEL_15b284ce564a4d9c8a849fbccc4b12f4",
        "IPY_MODEL_d58e729adc724566b646a78418c39bbc",
        "IPY_MODEL_020372f80e944c738106c0f7fd427f73",
        "IPY_MODEL_fe513f46a6f648f48328a655199de667",
        "IPY_MODEL_d269c51650dc4fe783e9ab1a56bb45de",
        "IPY_MODEL_8f3c81590a224f1fa4257b81443af7d7",
        "IPY_MODEL_e5531d00b1a24ea1921968d20aa1e0a1",
        "IPY_MODEL_97c8a4b7f0ed4fa3b8dce4f074ea5aae",
        "IPY_MODEL_f946165ee75047998c7beaac308fb9f9",
        "IPY_MODEL_a3aeb37a9c084f18bcc84eca9fc6cef9",
        "IPY_MODEL_a3eae18fb1514d26bcc3b070893d246e",
        "IPY_MODEL_a46fec9cb74c497f91ada06cddb0a965",
        "IPY_MODEL_fdc9337301a84a57b820c582ba9754f5",
        "IPY_MODEL_fae2000f82b348e18fde7ad0155f68ca",
        "IPY_MODEL_2927900aec9c418dbdb9a28d39d07190"
       ],
       "layout": "IPY_MODEL_8e55d999f0304cd09ba4ee7acfd97d1e"
      }
     },
     "6b11c3e6297d48248a8c59e427dc5a04": {
      "model_module": "@jupyter-widgets/base",
      "model_module_version": "1.2.0",
      "model_name": "LayoutModel",
      "state": {
       "height": "auto",
       "padding": "0px 0px 0px 4px",
       "width": "auto"
      }
     },
     "6bedfa9513c54942906fb1f74f0a26cb": {
      "model_module": "@jupyter-widgets/controls",
      "model_module_version": "1.5.0",
      "model_name": "ButtonModel",
      "state": {
       "description": "Remove shoreline",
       "layout": "IPY_MODEL_f95e584a0015418a9d5296f2149a436c",
       "style": "IPY_MODEL_ceff65103a5149a388b6bbe3ac40e459"
      }
     },
     "6c9a24385bf64785be75362c7f97a53b": {
      "model_module": "@jupyter-widgets/base",
      "model_module_version": "1.2.0",
      "model_name": "LayoutModel",
      "state": {}
     },
     "6e665d15450b4f11ac22958e381d945f": {
      "model_module": "jupyter-leaflet",
      "model_module_version": "^0.17.0",
      "model_name": "LeafletLayersControlModel",
      "state": {
       "_model_module_version": "^0.17.0",
       "_view_module_version": "^0.17.0",
       "options": [
        "position"
       ],
       "position": "topright"
      }
     },
     "6fd5f6c1e14f4fe7b35e3f58891e0550": {
      "model_module": "@jupyter-widgets/controls",
      "model_module_version": "1.5.0",
      "model_name": "ButtonModel",
      "state": {
       "description": "Load bbox from file",
       "layout": "IPY_MODEL_2ba315b3a73c4b198fb1eebd322abc78",
       "style": "IPY_MODEL_15aa8c376bf74b57b846b877de2821be"
      }
     },
     "7013aa14e5f94d42a13e02e2a228a149": {
      "model_module": "jupyter-leaflet",
      "model_module_version": "^0.17.0",
      "model_name": "LeafletTileLayerModel",
      "state": {
       "_model_module_version": "^0.17.0",
       "_view_module_version": "^0.17.0",
       "attribution": "Map data: (C) OpenStreetMap contributors | Map style: (C) waymarkedtrails.org (CC-BY-SA)",
       "name": "WaymarkedTrails.riding",
       "options": [
        "attribution",
        "bounds",
        "detect_retina",
        "max_native_zoom",
        "max_zoom",
        "min_native_zoom",
        "min_zoom",
        "no_wrap",
        "tile_size",
        "tms"
       ],
       "url": "https://tile.waymarkedtrails.org/riding/{z}/{x}/{y}.png"
      }
     },
     "7034756d581d4e35932de43dbc9f19d6": {
      "model_module": "jupyter-leaflet",
      "model_module_version": "^0.17.0",
      "model_name": "LeafletWMSLayerModel",
      "state": {
       "_model_module_version": "^0.17.0",
       "_view_module_version": "^0.17.0",
       "attribution": "MRLC",
       "crs": {
        "custom": false,
        "name": "EPSG3857"
       },
       "format": "image/png",
       "layers": "NLCD_2019_Land_Cover_L48",
       "name": "NLCD 2019 CONUS Land Cover",
       "options": [
        "attribution",
        "bounds",
        "detect_retina",
        "format",
        "layers",
        "max_native_zoom",
        "max_zoom",
        "min_native_zoom",
        "min_zoom",
        "no_wrap",
        "styles",
        "tile_size",
        "tms",
        "transparent",
        "uppercase"
       ],
       "transparent": true,
       "url": "https://www.mrlc.gov/geoserver/mrlc_display/NLCD_2019_Land_Cover_L48/wms?"
      }
     },
     "70885414a97243ebb371146b4f7f4981": {
      "model_module": "jupyter-leaflet",
      "model_module_version": "^0.17.0",
      "model_name": "LeafletWidgetControlModel",
      "state": {
       "_model_module": "jupyter-leaflet",
       "_model_module_version": "^0.17.0",
       "_view_count": null,
       "_view_module": "jupyter-leaflet",
       "_view_module_version": "^0.17.0",
       "options": [
        "position",
        "transparent_bg"
       ],
       "position": "topright",
       "widget": "IPY_MODEL_1ce3883f69f2407cbceb94f2195a3e41"
      }
     },
     "70a754374a854eb18dcec44ecb976293": {
      "model_module": "jupyter-leaflet",
      "model_module_version": "^0.17.0",
      "model_name": "LeafletTileLayerModel",
      "state": {
       "_model_module_version": "^0.17.0",
       "_view_module_version": "^0.17.0",
       "attribution": "Map tiles by <a href=\"https://labs.strava.com/heatmap\">Strava 2021</a>",
       "max_zoom": 15,
       "name": "Strava.All",
       "options": [
        "attribution",
        "bounds",
        "detect_retina",
        "max_native_zoom",
        "max_zoom",
        "min_native_zoom",
        "min_zoom",
        "no_wrap",
        "tile_size",
        "tms"
       ],
       "url": "https://heatmap-external-a.strava.com/tiles/all/hot/{z}/{x}/{y}.png"
      }
     },
     "71b2bcd6ed2146f6b370b97e20feec06": {
      "model_module": "jupyter-leaflet",
      "model_module_version": "^0.17.0",
      "model_name": "LeafletTileLayerModel",
      "state": {
       "_model_module_version": "^0.17.0",
       "_view_module_version": "^0.17.0",
       "attribution": "Datenquelle: basemap.at",
       "max_zoom": 19,
       "name": "BasemapAT.terrain",
       "options": [
        "attribution",
        "bounds",
        "detect_retina",
        "max_native_zoom",
        "max_zoom",
        "min_native_zoom",
        "min_zoom",
        "no_wrap",
        "tile_size",
        "tms"
       ],
       "url": "https://maps.wien.gv.at/basemap/bmapgelaende/grau/google3857/{z}/{y}/{x}.jpeg"
      }
     },
     "72bf2e951bff4e8bb4829850ea920c1a": {
      "model_module": "jupyter-leaflet",
      "model_module_version": "^0.17.0",
      "model_name": "LeafletTileLayerModel",
      "state": {
       "_model_module_version": "^0.17.0",
       "_view_module_version": "^0.17.0",
       "attribution": "(C) OpenStreetMap contributors (C) CARTO",
       "max_zoom": 20,
       "name": "CartoDB.VoyagerLabelsUnder",
       "options": [
        "attribution",
        "bounds",
        "detect_retina",
        "max_native_zoom",
        "max_zoom",
        "min_native_zoom",
        "min_zoom",
        "no_wrap",
        "tile_size",
        "tms"
       ],
       "url": "https://a.basemaps.cartocdn.com/rastertiles/voyager_labels_under/{z}/{x}/{y}.png"
      }
     },
     "74a2bf2335414f09bb20f9ccdcc6648a": {
      "model_module": "jupyter-leaflet",
      "model_module_version": "^0.17.0",
      "model_name": "LeafletTileLayerModel",
      "state": {
       "_model_module_version": "^0.17.0",
       "_view_module_version": "^0.17.0",
       "attribution": "![](https://docs.onemap.sg/maps/images/oneMap64-01.png) New OneMap | Map data (C) contributors, Singapore Land Authority",
       "name": "OneMapSG.Night",
       "options": [
        "attribution",
        "bounds",
        "detect_retina",
        "max_native_zoom",
        "max_zoom",
        "min_native_zoom",
        "min_zoom",
        "no_wrap",
        "tile_size",
        "tms"
       ],
       "url": "https://maps-a.onemap.sg/v3/Night/{z}/{x}/{y}.png"
      }
     },
     "74a9aaf8052046de8591bc90c247bbac": {
      "model_module": "@jupyter-widgets/base",
      "model_module_version": "1.2.0",
      "model_name": "LayoutModel",
      "state": {
       "height": "auto",
       "padding": "0px 0px 0px 4px",
       "width": "auto"
      }
     },
     "74fc62225b704ee68042a430ca2710b4": {
      "model_module": "@jupyter-widgets/controls",
      "model_module_version": "1.5.0",
      "model_name": "ButtonModel",
      "state": {
       "description": "Clear TextBox",
       "layout": "IPY_MODEL_551556a3ef3a4931bb61afd48f1962de",
       "style": "IPY_MODEL_11837e03767a470bbbd5340268f13b94"
      }
     },
     "750b2df39c4143a9bcb1bcc6ab78db91": {
      "model_module": "@jupyter-widgets/base",
      "model_module_version": "1.2.0",
      "model_name": "LayoutModel",
      "state": {
       "padding": "10px"
      }
     },
     "750b9d481e614212b39ce2e4c5e8b9c8": {
      "model_module": "@jupyter-widgets/controls",
      "model_module_version": "1.5.0",
      "model_name": "DescriptionStyleModel",
      "state": {
       "description_width": ""
      }
     },
     "752c3ef414574fcb9b06368689e9d5c4": {
      "model_module": "jupyter-leaflet",
      "model_module_version": "^0.17.0",
      "model_name": "LeafletWMSLayerModel",
      "state": {
       "_model_module_version": "^0.17.0",
       "_view_module_version": "^0.17.0",
       "attribution": "MRLC",
       "crs": {
        "custom": false,
        "name": "EPSG3857"
       },
       "format": "image/png",
       "layers": "NLCD_2001_Land_Cover_L48",
       "name": "NLCD 2001 CONUS Land Cover",
       "options": [
        "attribution",
        "bounds",
        "detect_retina",
        "format",
        "layers",
        "max_native_zoom",
        "max_zoom",
        "min_native_zoom",
        "min_zoom",
        "no_wrap",
        "styles",
        "tile_size",
        "tms",
        "transparent",
        "uppercase"
       ],
       "transparent": true,
       "url": "https://www.mrlc.gov/geoserver/mrlc_display/NLCD_2001_Land_Cover_L48/wms?"
      }
     },
     "758191808e544a4592f4b2d7207bf2a1": {
      "model_module": "@jupyter-widgets/base",
      "model_module_version": "1.2.0",
      "model_name": "LayoutModel",
      "state": {}
     },
     "7638d5d93389483a826ab84ff4ab8391": {
      "model_module": "@jupyter-widgets/base",
      "model_module_version": "1.2.0",
      "model_name": "LayoutModel",
      "state": {}
     },
     "77176bb4a900439ea30344e5ea598602": {
      "model_module": "jupyter-leaflet",
      "model_module_version": "^0.17.0",
      "model_name": "LeafletTileLayerModel",
      "state": {
       "_model_module_version": "^0.17.0",
       "_view_module_version": "^0.17.0",
       "attribution": "Imagery provided by services from the Global Imagery Browse Services (GIBS), operated by the NASA/GSFC/Earth Science Data and Information System (ESDIS) with funding provided by NASA/HQ.",
       "max_zoom": 5,
       "name": "NASAGIBS.BlueMarble3413",
       "options": [
        "attribution",
        "bounds",
        "detect_retina",
        "max_native_zoom",
        "max_zoom",
        "min_native_zoom",
        "min_zoom",
        "no_wrap",
        "tile_size",
        "tms"
       ],
       "url": "https://gibs.earthdata.nasa.gov/wmts/epsg3413/best/BlueMarble_NextGeneration/default/EPSG3413_500m/{z}/{y}/{x}.jpeg"
      }
     },
     "78398ea10bc44917a74e8579d8fd65de": {
      "model_module": "@jupyter-widgets/controls",
      "model_module_version": "1.5.0",
      "model_name": "ToggleButtonModel",
      "state": {
       "icon": "wrench",
       "layout": "IPY_MODEL_308e1abc42ca47c9b4710d2a614fd262",
       "style": "IPY_MODEL_7c5c98d0c5fe43cab4e05a3ec3fdfaba",
       "tooltip": "Toolbar"
      }
     },
     "78db61435cac4750a91121a0bf87349a": {
      "model_module": "jupyter-leaflet",
      "model_module_version": "^0.17.0",
      "model_name": "LeafletTileLayerModel",
      "state": {
       "_model_module_version": "^0.17.0",
       "_view_module_version": "^0.17.0",
       "attribution": "(C) OpenStreetMap contributors (C) CARTO",
       "max_zoom": 20,
       "name": "CartoDB.VoyagerOnlyLabels",
       "options": [
        "attribution",
        "bounds",
        "detect_retina",
        "max_native_zoom",
        "max_zoom",
        "min_native_zoom",
        "min_zoom",
        "no_wrap",
        "tile_size",
        "tms"
       ],
       "url": "https://a.basemaps.cartocdn.com/rastertiles/voyager_only_labels/{z}/{x}/{y}.png"
      }
     },
     "7968c0ad25584d94a8b944e2d7848f7b": {
      "model_module": "@jupyter-widgets/base",
      "model_module_version": "1.2.0",
      "model_name": "LayoutModel",
      "state": {
       "height": "auto",
       "padding": "0px 0px 0px 4px",
       "width": "auto"
      }
     },
     "7b647468589f49a4ad0fb111896379fd": {
      "model_module": "jupyter-leaflet",
      "model_module_version": "^0.17.0",
      "model_name": "LeafletTileLayerModel",
      "state": {
       "_model_module_version": "^0.17.0",
       "_view_module_version": "^0.17.0",
       "attribution": "![](https://docs.onemap.sg/maps/images/oneMap64-01.png) New OneMap | Map data (C) contributors, Singapore Land Authority",
       "name": "OneMapSG.Default",
       "options": [
        "attribution",
        "bounds",
        "detect_retina",
        "max_native_zoom",
        "max_zoom",
        "min_native_zoom",
        "min_zoom",
        "no_wrap",
        "tile_size",
        "tms"
       ],
       "url": "https://maps-a.onemap.sg/v3/Default/{z}/{x}/{y}.png"
      }
     },
     "7b86032791cb4b88948285c2b656a265": {
      "model_module": "jupyter-leaflet",
      "model_module_version": "^0.17.0",
      "model_name": "LeafletTileLayerModel",
      "state": {
       "_model_module_version": "^0.17.0",
       "_view_module_version": "^0.17.0",
       "attribution": "Map data: (C) OpenStreetMap contributors | Map style: (C) SafeCast (CC-BY-SA)",
       "max_zoom": 16,
       "name": "SafeCast",
       "options": [
        "attribution",
        "bounds",
        "detect_retina",
        "max_native_zoom",
        "max_zoom",
        "min_native_zoom",
        "min_zoom",
        "no_wrap",
        "tile_size",
        "tms"
       ],
       "url": "https://s3.amazonaws.com/te512.safecast.org/{z}/{x}/{y}.png"
      }
     },
     "7c5c98d0c5fe43cab4e05a3ec3fdfaba": {
      "model_module": "@jupyter-widgets/controls",
      "model_module_version": "1.5.0",
      "model_name": "DescriptionStyleModel",
      "state": {
       "description_width": ""
      }
     },
     "7cda5780406d43a8a734bc03394a3c50": {
      "model_module": "@jupyter-widgets/controls",
      "model_module_version": "1.5.0",
      "model_name": "HTMLModel",
      "state": {
       "layout": "IPY_MODEL_750b2df39c4143a9bcb1bcc6ab78db91",
       "style": "IPY_MODEL_61a1aae3a3434c0885fb6233c6935691",
       "value": "<b>Pick a collection</b>        <br> C01: LandSat Collection 1         <br> C02: LandSat Collection 2  [2022/01/01 and beyond]         <br>      - Landsat 9 is only available in C02"
      }
     },
     "7da2edad0a9b40248c4ecca6f32d0ce0": {
      "model_module": "@jupyter-widgets/output",
      "model_module_version": "1.0.0",
      "model_name": "OutputModel",
      "state": {
       "layout": "IPY_MODEL_e525c12980754f3786aa34b0cc4d5957",
       "outputs": [
        {
         "name": "stdout",
         "output_type": "stream",
         "text": "Loading transects please wait.\nLoading  CA_USA_transects.geojson\nTransects Loaded.\n"
        },
        {
         "name": "stdout",
         "output_type": "stream",
         "text": "Scroll down past map to see download progress."
        }
       ]
      }
     },
     "7de21fc47eb74432aae104f22bdc0897": {
      "model_module": "jupyter-leaflet",
      "model_module_version": "^0.17.0",
      "model_name": "LeafletTileLayerModel",
      "state": {
       "_model_module_version": "^0.17.0",
       "_view_module_version": "^0.17.0",
       "attribution": "Imagery provided by services from the Global Imagery Browse Services (GIBS), operated by the NASA/GSFC/Earth Science Data and Information System (ESDIS) with funding provided by NASA/HQ.",
       "max_zoom": 9,
       "name": "NASAGIBS.ModisTerraBands367CR",
       "options": [
        "attribution",
        "bounds",
        "detect_retina",
        "max_native_zoom",
        "max_zoom",
        "min_native_zoom",
        "min_zoom",
        "no_wrap",
        "tile_size",
        "tms"
       ],
       "url": "https://map1.vis.earthdata.nasa.gov/wmts-webmerc/MODIS_Terra_CorrectedReflectance_Bands367/default//GoogleMapsCompatible_Level9/{z}/{y}/{x}.jpg"
      }
     },
     "7e359bac0f6b4186aaef4f359c793072": {
      "model_module": "@jupyter-widgets/controls",
      "model_module_version": "1.5.0",
      "model_name": "DescriptionStyleModel",
      "state": {
       "description_width": ""
      }
     },
     "7e8a2c18e9c64c299f899b6b2ed4c8ff": {
      "model_module": "@jupyter-widgets/base",
      "model_module_version": "1.2.0",
      "model_name": "LayoutModel",
      "state": {}
     },
     "816cb04ca9b245f684a00fbfd82cf093": {
      "model_module": "@jupyter-widgets/controls",
      "model_module_version": "1.5.0",
      "model_name": "HTMLModel",
      "state": {
       "layout": "IPY_MODEL_52b3d2564ceb4bceadfbc7dbe2983afa",
       "style": "IPY_MODEL_29923a1d011f4723ab191ef4bfd1e9c5",
       "value": " 2/2 [00:00&lt;00:00, 59.96it/s]"
      }
     },
     "81e67b481045427595a9e48ac0b05bd1": {
      "model_module": "@jupyter-widgets/controls",
      "model_module_version": "1.5.0",
      "model_name": "DescriptionStyleModel",
      "state": {
       "description_width": ""
      }
     },
     "828f66aa879c422dbaa0753aeb707b16": {
      "model_module": "@jupyter-widgets/base",
      "model_module_version": "1.2.0",
      "model_name": "LayoutModel",
      "state": {
       "padding": "10px"
      }
     },
     "83866ed718fc4238b901395edaadb324": {
      "model_module": "@jupyter-widgets/base",
      "model_module_version": "1.2.0",
      "model_name": "LayoutModel",
      "state": {}
     },
     "858c27ad1deb4ec884874eb1398b5de8": {
      "model_module": "@jupyter-widgets/controls",
      "model_module_version": "1.5.0",
      "model_name": "DescriptionStyleModel",
      "state": {
       "description_width": ""
      }
     },
     "86919bb1a06e494097ce8fca9a1c5132": {
      "model_module": "@jupyter-widgets/controls",
      "model_module_version": "1.5.0",
      "model_name": "ProgressStyleModel",
      "state": {
       "description_width": ""
      }
     },
     "870800625714438ab3a1c49d50f66f43": {
      "model_module": "@jupyter-widgets/controls",
      "model_module_version": "1.5.0",
      "model_name": "HBoxModel",
      "state": {
       "children": [
        "IPY_MODEL_e76b67750c5b46a284da28fb29de86a5"
       ],
       "layout": "IPY_MODEL_aa751529af5b44cd867591b45c336a08"
      }
     },
     "87ccdd17800d458f9b08341a89376e92": {
      "model_module": "@jupyter-widgets/controls",
      "model_module_version": "1.5.0",
      "model_name": "HTMLModel",
      "state": {
       "layout": "IPY_MODEL_5af6d98728f64983ab6f930c596017a3",
       "style": "IPY_MODEL_90ccabdfe5154a5794570e7ab9604b72",
       "value": "Hover over shoreline"
      }
     },
     "8897eaab512e45f19406d371d9482ebc": {
      "model_module": "@jupyter-widgets/base",
      "model_module_version": "1.2.0",
      "model_name": "LayoutModel",
      "state": {}
     },
     "895e3dd97c9d499286ddeb6e1ca5f382": {
      "model_module": "@jupyter-widgets/controls",
      "model_module_version": "1.5.0",
      "model_name": "SliderStyleModel",
      "state": {
       "description_width": "initial"
      }
     },
     "8a1161fdbbbc489a9c2c846189c4f94a": {
      "model_module": "@jupyter-widgets/base",
      "model_module_version": "1.2.0",
      "model_name": "LayoutModel",
      "state": {
       "border": "1px solid black"
      }
     },
     "8a7d6faf73744da98dd891748ea0c862": {
      "model_module": "@jupyter-widgets/base",
      "model_module_version": "1.2.0",
      "model_name": "LayoutModel",
      "state": {}
     },
     "8af0ab80c4cf46a4b2ec13ab0b8ea095": {
      "model_module": "jupyter-leaflet",
      "model_module_version": "^0.17.0",
      "model_name": "LeafletMapStyleModel",
      "state": {
       "_model_module_version": "^0.17.0",
       "cursor": "default"
      }
     },
     "8b221adc8b434c86909e4388a4693b00": {
      "model_module": "jupyter-leaflet",
      "model_module_version": "^0.17.0",
      "model_name": "LeafletTileLayerModel",
      "state": {
       "_model_module_version": "^0.17.0",
       "_view_module_version": "^0.17.0",
       "attribution": "Imagery provided by services from the Global Imagery Browse Services (GIBS), operated by the NASA/GSFC/Earth Science Data and Information System (ESDIS) with funding provided by NASA/HQ.",
       "max_zoom": 8,
       "name": "NASAGIBS.BlueMarble",
       "options": [
        "attribution",
        "bounds",
        "detect_retina",
        "max_native_zoom",
        "max_zoom",
        "min_native_zoom",
        "min_zoom",
        "no_wrap",
        "tile_size",
        "tms"
       ],
       "url": "https://gibs.earthdata.nasa.gov/wmts/epsg3857/best/BlueMarble_NextGeneration/default/EPSG3857_500m/{z}/{y}/{x}.jpeg"
      }
     },
     "8b5b855d21b14cd3b1bb737debd14a67": {
      "model_module": "jupyter-leaflet",
      "model_module_version": "^0.17.0",
      "model_name": "LeafletTileLayerModel",
      "state": {
       "_model_module_version": "^0.17.0",
       "_view_module_version": "^0.17.0",
       "attribution": "Imagery provided by services from the Global Imagery Browse Services (GIBS), operated by the NASA/GSFC/Earth Science Data and Information System (ESDIS) with funding provided by NASA/HQ.",
       "max_zoom": 9,
       "name": "NASAGIBS.ModisTerraTrueColorCR",
       "options": [
        "attribution",
        "bounds",
        "detect_retina",
        "max_native_zoom",
        "max_zoom",
        "min_native_zoom",
        "min_zoom",
        "no_wrap",
        "tile_size",
        "tms"
       ],
       "url": "https://map1.vis.earthdata.nasa.gov/wmts-webmerc/MODIS_Terra_CorrectedReflectance_TrueColor/default//GoogleMapsCompatible_Level9/{z}/{y}/{x}.jpg"
      }
     },
     "8b7970c4869846f7a31e1192d8b42dda": {
      "model_module": "@jupyter-widgets/controls",
      "model_module_version": "1.5.0",
      "model_name": "VBoxModel",
      "state": {
       "children": [
        "IPY_MODEL_8f4aa8890779497184330c4a610999b5",
        "IPY_MODEL_ab3aa3e6af30481da40956daf9089c4a",
        "IPY_MODEL_b4c7b387074c4110859d1784903053e1",
        "IPY_MODEL_a5bd6ec36ca54003a80d93d3511f2859",
        "IPY_MODEL_9ef9bfce2e8c41d49d1561aa21c223ce",
        "IPY_MODEL_1fcd398dddd94b048064f4960bc84dd9",
        "IPY_MODEL_03fe7dcd4dd44b4fb5ec61146383d5f9",
        "IPY_MODEL_6fd5f6c1e14f4fe7b35e3f58891e0550",
        "IPY_MODEL_9d6192ff69e145d392cf7586ff15d5ea"
       ],
       "layout": "IPY_MODEL_b6c72397d2744121abf09f0aa917448f"
      }
     },
     "8be6a7e406a94e70bec90af174f37413": {
      "model_module": "jupyter-leaflet",
      "model_module_version": "^0.17.0",
      "model_name": "LeafletTileLayerModel",
      "state": {
       "_model_module_version": "^0.17.0",
       "_view_module_version": "^0.17.0",
       "attribution": "Kaartgegevens (C) Kadaster",
       "max_zoom": 19,
       "name": "nlmaps.water",
       "options": [
        "attribution",
        "bounds",
        "detect_retina",
        "max_native_zoom",
        "max_zoom",
        "min_native_zoom",
        "min_zoom",
        "no_wrap",
        "tile_size",
        "tms"
       ],
       "url": "https://service.pdok.nl/brt/achtergrondkaart/wmts/v2_0/water/EPSG:3857/{z}/{x}/{y}.png"
      }
     },
     "8c6c03d3e446472699bf32527552c1a9": {
      "model_module": "jupyter-leaflet",
      "model_module_version": "^0.17.0",
      "model_name": "LeafletTileLayerModel",
      "state": {
       "_model_module_version": "^0.17.0",
       "_view_module_version": "^0.17.0",
       "attribution": "![](https://docs.onemap.sg/maps/images/oneMap64-01.png) New OneMap | Map data (C) contributors, Singapore Land Authority",
       "name": "OneMapSG.LandLot",
       "options": [
        "attribution",
        "bounds",
        "detect_retina",
        "max_native_zoom",
        "max_zoom",
        "min_native_zoom",
        "min_zoom",
        "no_wrap",
        "tile_size",
        "tms"
       ],
       "url": "https://maps-a.onemap.sg/v3/LandLot/{z}/{x}/{y}.png"
      }
     },
     "8ce2b53e4e1a43a082bb582fcf249f48": {
      "model_module": "jupyter-leaflet",
      "model_module_version": "^0.17.0",
      "model_name": "LeafletTileLayerModel",
      "state": {
       "_model_module_version": "^0.17.0",
       "_view_module_version": "^0.17.0",
       "attribution": "Datenquelle: basemap.at",
       "max_zoom": 20,
       "name": "BasemapAT.orthofoto",
       "options": [
        "attribution",
        "bounds",
        "detect_retina",
        "max_native_zoom",
        "max_zoom",
        "min_native_zoom",
        "min_zoom",
        "no_wrap",
        "tile_size",
        "tms"
       ],
       "url": "https://maps.wien.gv.at/basemap/bmaporthofoto30cm/normal/google3857/{z}/{y}/{x}.jpeg"
      }
     },
     "8e55d999f0304cd09ba4ee7acfd97d1e": {
      "model_module": "@jupyter-widgets/base",
      "model_module_version": "1.2.0",
      "model_name": "LayoutModel",
      "state": {
       "grid_gap": "1px 1px",
       "grid_template_columns": "32px 32px 32px ",
       "grid_template_rows": "32px 32px 32px 32px 32px 32px ",
       "padding": "5px",
       "width": "109px"
      }
     },
     "8f1776c93a744f67aa748c480684c179": {
      "model_module": "@jupyter-widgets/base",
      "model_module_version": "1.2.0",
      "model_name": "LayoutModel",
      "state": {}
     },
     "8f3c81590a224f1fa4257b81443af7d7": {
      "model_module": "@jupyter-widgets/controls",
      "model_module_version": "1.5.0",
      "model_name": "ToggleButtonModel",
      "state": {
       "button_style": "primary",
       "icon": "address-book",
       "layout": "IPY_MODEL_9aeb305a194f4400b954f4dd47ff08eb",
       "style": "IPY_MODEL_39a193ac4d15472eaa6c06ba6b0ffdf8",
       "tooltip": "Get US Census data"
      }
     },
     "8f4aa8890779497184330c4a610999b5": {
      "model_module": "@jupyter-widgets/controls",
      "model_module_version": "1.5.0",
      "model_name": "HTMLModel",
      "state": {
       "layout": "IPY_MODEL_496473cf077a41bc8e0dfa751e0c8e8f",
       "style": "IPY_MODEL_36a7c2a6d0ad4d06881366185f478f1f",
       "value": "<h2><b>Save ROIs</b></h2>                 You must click save ROI before you can download ROIs                <br> Use the save buttons to save the ROIs you selected <br>                <li> Save BBox: Save the bounding box to a geojson file called 'bbox.geojson'</li>                    <li> Save ROIs: Save the selected ROI to a geojson file called 'rois.geojson'</li>                    "
      }
     },
     "8fd9299dbe034249b2d8ab6ff4df12ee": {
      "model_module": "@jupyter-widgets/controls",
      "model_module_version": "1.5.0",
      "model_name": "DescriptionStyleModel",
      "state": {
       "description_width": ""
      }
     },
     "90215145c7884fadb9244b06e2f5e063": {
      "model_module": "@jupyter-widgets/controls",
      "model_module_version": "1.5.0",
      "model_name": "RadioButtonsModel",
      "state": {
       "_options_labels": [
        "C01",
        "C02"
       ],
       "description": "Collection:",
       "index": 0,
       "layout": "IPY_MODEL_fdb9219f9ff4438597c180178e0e19bc",
       "style": "IPY_MODEL_21d2f9d118c84975ab76e609a3273eef"
      }
     },
     "904f4128351441739b27810a47a4586a": {
      "model_module": "@jupyter-widgets/base",
      "model_module_version": "1.2.0",
      "model_name": "LayoutModel",
      "state": {}
     },
     "90ccabdfe5154a5794570e7ab9604b72": {
      "model_module": "@jupyter-widgets/controls",
      "model_module_version": "1.5.0",
      "model_name": "DescriptionStyleModel",
      "state": {
       "description_width": ""
      }
     },
     "91a8b999a75e445ca4dd9d2708fc69ff": {
      "model_module": "@jupyter-widgets/controls",
      "model_module_version": "1.5.0",
      "model_name": "DescriptionStyleModel",
      "state": {
       "description_width": ""
      }
     },
     "940993d101394eb0af7419f1de0349b3": {
      "model_module": "@jupyter-widgets/base",
      "model_module_version": "1.2.0",
      "model_name": "LayoutModel",
      "state": {}
     },
     "97c8a4b7f0ed4fa3b8dce4f074ea5aae": {
      "model_module": "@jupyter-widgets/controls",
      "model_module_version": "1.5.0",
      "model_name": "ToggleButtonModel",
      "state": {
       "button_style": "primary",
       "icon": "search",
       "layout": "IPY_MODEL_4dc5badf3d81407ca6c785bb4485a3ac",
       "style": "IPY_MODEL_3950cb34cf894f87af336471f6dad335",
       "tooltip": "Search XYZ tile services"
      }
     },
     "97e4a877d2904b1cb6eb8dcb518fd92b": {
      "model_module": "jupyter-leaflet",
      "model_module_version": "^0.17.0",
      "model_name": "LeafletTileLayerModel",
      "state": {
       "_model_module_version": "^0.17.0",
       "_view_module_version": "^0.17.0",
       "attribution": "(C) OpenStreetMap contributors (C) CARTO",
       "max_zoom": 20,
       "name": "CartoDB.VoyagerNoLabels",
       "options": [
        "attribution",
        "bounds",
        "detect_retina",
        "max_native_zoom",
        "max_zoom",
        "min_native_zoom",
        "min_zoom",
        "no_wrap",
        "tile_size",
        "tms"
       ],
       "url": "https://a.basemaps.cartocdn.com/rastertiles/voyager_nolabels/{z}/{x}/{y}.png"
      }
     },
     "97e9fbda63054f6a869aa4de797b1518": {
      "model_module": "jupyter-leaflet",
      "model_module_version": "^0.17.0",
      "model_name": "LeafletWMSLayerModel",
      "state": {
       "_model_module_version": "^0.17.0",
       "_view_module_version": "^0.17.0",
       "attribution": "USGS",
       "crs": {
        "custom": false,
        "name": "EPSG3857"
       },
       "format": "image/png",
       "layers": "USGSNAIPImagery:FalseColorComposite",
       "name": "USGS NAIP Imagery False Color",
       "options": [
        "attribution",
        "bounds",
        "detect_retina",
        "format",
        "layers",
        "max_native_zoom",
        "max_zoom",
        "min_native_zoom",
        "min_zoom",
        "no_wrap",
        "styles",
        "tile_size",
        "tms",
        "transparent",
        "uppercase"
       ],
       "transparent": true,
       "url": "https://imagery.nationalmap.gov/arcgis/services/USGSNAIPImagery/ImageServer/WMSServer?"
      }
     },
     "9884909fb0694aee9bae74d1b85810ea": {
      "model_module": "jupyter-leaflet",
      "model_module_version": "^0.17.0",
      "model_name": "LeafletTileLayerModel",
      "state": {
       "_model_module_version": "^0.17.0",
       "_view_module_version": "^0.17.0",
       "attribution": "Tiles (C) Esri -- Source: USGS, Esri, TANA, DeLorme, and NPS",
       "max_zoom": 13,
       "name": "Esri.WorldTerrain",
       "options": [
        "attribution",
        "bounds",
        "detect_retina",
        "max_native_zoom",
        "max_zoom",
        "min_native_zoom",
        "min_zoom",
        "no_wrap",
        "tile_size",
        "tms"
       ],
       "url": "https://server.arcgisonline.com/ArcGIS/rest/services/World_Terrain_Base/MapServer/tile/{z}/{y}/{x}"
      }
     },
     "98d14398357247579027efb2959708fc": {
      "model_module": "@jupyter-widgets/controls",
      "model_module_version": "1.5.0",
      "model_name": "ButtonStyleModel",
      "state": {
       "button_color": "red"
      }
     },
     "99a8c706d96c4eddaf00e9e72332398b": {
      "model_module": "@jupyter-widgets/base",
      "model_module_version": "1.2.0",
      "model_name": "LayoutModel",
      "state": {
       "height": "auto",
       "padding": "0px 0px 0px 4px",
       "width": "auto"
      }
     },
     "9a5efcf885244936b95d0db7b485310d": {
      "model_module": "@jupyter-widgets/controls",
      "model_module_version": "1.5.0",
      "model_name": "HBoxModel",
      "state": {
       "children": [
        "IPY_MODEL_f4edcc70ca5349fab951cc1c5ccfe817"
       ],
       "layout": "IPY_MODEL_6c9a24385bf64785be75362c7f97a53b"
      }
     },
     "9adac635a6c24a37b60608af844d95e1": {
      "model_module": "jupyter-leaflet",
      "model_module_version": "^0.17.0",
      "model_name": "LeafletTileLayerModel",
      "state": {
       "_model_module_version": "^0.17.0",
       "_view_module_version": "^0.17.0",
       "attribution": "&copy; <a href=\"https://www.openstreetmap.org/copyright\">OpenStreetMap</a> contributors",
       "base": true,
       "max_zoom": 19,
       "min_zoom": 1,
       "name": "OpenStreetMap",
       "options": [
        "attribution",
        "bounds",
        "detect_retina",
        "max_native_zoom",
        "max_zoom",
        "min_native_zoom",
        "min_zoom",
        "no_wrap",
        "tile_size",
        "tms"
       ],
       "url": "https://a.tile.openstreetmap.org/{z}/{x}/{y}.png"
      }
     },
     "9aeb305a194f4400b954f4dd47ff08eb": {
      "model_module": "@jupyter-widgets/base",
      "model_module_version": "1.2.0",
      "model_name": "LayoutModel",
      "state": {
       "height": "auto",
       "padding": "0px 0px 0px 4px",
       "width": "auto"
      }
     },
     "9b2eb32228f94036919f60cb0fcfbb6e": {
      "model_module": "jupyter-leaflet",
      "model_module_version": "^0.17.0",
      "model_name": "LeafletTileLayerModel",
      "state": {
       "_model_module_version": "^0.17.0",
       "_view_module_version": "^0.17.0",
       "attribution": "Tiles (C) Esri -- Source: US National Park Service",
       "max_zoom": 8,
       "name": "Esri.WorldPhysical",
       "options": [
        "attribution",
        "bounds",
        "detect_retina",
        "max_native_zoom",
        "max_zoom",
        "min_native_zoom",
        "min_zoom",
        "no_wrap",
        "tile_size",
        "tms"
       ],
       "url": "https://server.arcgisonline.com/ArcGIS/rest/services/World_Physical_Map/MapServer/tile/{z}/{y}/{x}"
      }
     },
     "9b6b8a7be6aa45b6801e6113c41998ce": {
      "model_module": "@jupyter-widgets/controls",
      "model_module_version": "1.5.0",
      "model_name": "ButtonModel",
      "state": {
       "description": "Load Transects",
       "layout": "IPY_MODEL_3036e4d475a4404fa241e0601a6a3cd4",
       "style": "IPY_MODEL_45780cfa8a48453496ad9b94a62d18c2"
      }
     },
     "9b91947de3e94ed284019024cd2dc188": {
      "model_module": "jupyter-leaflet",
      "model_module_version": "^0.17.0",
      "model_name": "LeafletWMSLayerModel",
      "state": {
       "_model_module_version": "^0.17.0",
       "_view_module_version": "^0.17.0",
       "attribution": "MRLC",
       "crs": {
        "custom": false,
        "name": "EPSG3857"
       },
       "format": "image/png",
       "layers": "NLCD_2008_Land_Cover_L48",
       "name": "NLCD 2008 CONUS Land Cover",
       "options": [
        "attribution",
        "bounds",
        "detect_retina",
        "format",
        "layers",
        "max_native_zoom",
        "max_zoom",
        "min_native_zoom",
        "min_zoom",
        "no_wrap",
        "styles",
        "tile_size",
        "tms",
        "transparent",
        "uppercase"
       ],
       "transparent": true,
       "url": "https://www.mrlc.gov/geoserver/mrlc_display/NLCD_2008_Land_Cover_L48/wms?"
      }
     },
     "9d14deaf746e48d6909861d5fca9e6d2": {
      "model_module": "@jupyter-widgets/controls",
      "model_module_version": "1.5.0",
      "model_name": "ButtonStyleModel",
      "state": {
       "button_color": "#69add1"
      }
     },
     "9d6192ff69e145d392cf7586ff15d5ea": {
      "model_module": "@jupyter-widgets/controls",
      "model_module_version": "1.5.0",
      "model_name": "ButtonModel",
      "state": {
       "description": "Load gdf from file",
       "layout": "IPY_MODEL_f9501312be984550b717a2e90c0c3d17",
       "style": "IPY_MODEL_9d14deaf746e48d6909861d5fca9e6d2"
      }
     },
     "9d6419e66ae5421f81d70be64a469a3a": {
      "model_module": "jupyter-leaflet",
      "model_module_version": "^0.17.0",
      "model_name": "LeafletWMSLayerModel",
      "state": {
       "_model_module_version": "^0.17.0",
       "_view_module_version": "^0.17.0",
       "attribution": "MRLC",
       "crs": {
        "custom": false,
        "name": "EPSG3857"
       },
       "format": "image/png",
       "layers": "NLCD_2004_Land_Cover_L48",
       "name": "NLCD 2004 CONUS Land Cover",
       "options": [
        "attribution",
        "bounds",
        "detect_retina",
        "format",
        "layers",
        "max_native_zoom",
        "max_zoom",
        "min_native_zoom",
        "min_zoom",
        "no_wrap",
        "styles",
        "tile_size",
        "tms",
        "transparent",
        "uppercase"
       ],
       "transparent": true,
       "url": "https://www.mrlc.gov/geoserver/mrlc_display/NLCD_2004_Land_Cover_L48/wms?"
      }
     },
     "9d9197e39ec644f4b4ecfca1b7079621": {
      "model_module": "jupyter-leaflet",
      "model_module_version": "^0.17.0",
      "model_name": "LeafletTileLayerModel",
      "state": {
       "_model_module_version": "^0.17.0",
       "_view_module_version": "^0.17.0",
       "attribution": "(C) OpenStreetMap contributors & USGS",
       "max_zoom": 22,
       "name": "MtbMap",
       "options": [
        "attribution",
        "bounds",
        "detect_retina",
        "max_native_zoom",
        "max_zoom",
        "min_native_zoom",
        "min_zoom",
        "no_wrap",
        "tile_size",
        "tms"
       ],
       "url": "http://tile.mtbmap.cz/mtbmap_tiles/{z}/{x}/{y}.png"
      }
     },
     "9e4bb864db504cb6a6770d33b35dedee": {
      "model_module": "@jupyter-widgets/controls",
      "model_module_version": "1.5.0",
      "model_name": "DescriptionStyleModel",
      "state": {
       "description_width": ""
      }
     },
     "9ef9bfce2e8c41d49d1561aa21c223ce": {
      "model_module": "@jupyter-widgets/controls",
      "model_module_version": "1.5.0",
      "model_name": "ButtonModel",
      "state": {
       "description": "Save transects",
       "layout": "IPY_MODEL_5775657692654781a2c83133b5ecc3ea",
       "style": "IPY_MODEL_2ebf59fc059f4f7cbc4ca463c963a39d"
      }
     },
     "9f7f0764dd1f416194092e03bcc8b65e": {
      "model_module": "jupyter-leaflet",
      "model_module_version": "^0.17.0",
      "model_name": "LeafletTileLayerModel",
      "state": {
       "_model_module_version": "^0.17.0",
       "_view_module_version": "^0.17.0",
       "attribution": "&copy; <a href=\"http://www.gaode.com/\">Gaode.com</a>",
       "max_zoom": 19,
       "name": "Gaode.Normal",
       "options": [
        "attribution",
        "bounds",
        "detect_retina",
        "max_native_zoom",
        "max_zoom",
        "min_native_zoom",
        "min_zoom",
        "no_wrap",
        "tile_size",
        "tms"
       ],
       "url": "http://webrd01.is.autonavi.com/appmaptile?lang=zh_cn&size=1&scale=1&style=7&x={x}&y={y}&z={z}"
      }
     },
     "a2d78ab4e00644e984ddfcc103150a9c": {
      "model_module": "@jupyter-widgets/controls",
      "model_module_version": "1.5.0",
      "model_name": "DescriptionStyleModel",
      "state": {
       "description_width": ""
      }
     },
     "a329cbd323ae4a95b939c71ff7858f2e": {
      "model_module": "jupyter-leaflet",
      "model_module_version": "^0.17.0",
      "model_name": "LeafletTileLayerModel",
      "state": {
       "_model_module_version": "^0.17.0",
       "_view_module_version": "^0.17.0",
       "attribution": "Tiles courtesy of the U.S. Geological Survey",
       "max_zoom": 20,
       "name": "USGS.USImagery",
       "options": [
        "attribution",
        "bounds",
        "detect_retina",
        "max_native_zoom",
        "max_zoom",
        "min_native_zoom",
        "min_zoom",
        "no_wrap",
        "tile_size",
        "tms"
       ],
       "url": "https://basemap.nationalmap.gov/arcgis/rest/services/USGSImageryOnly/MapServer/tile/{z}/{y}/{x}"
      }
     },
     "a3aeb37a9c084f18bcc84eca9fc6cef9": {
      "model_module": "@jupyter-widgets/controls",
      "model_module_version": "1.5.0",
      "model_name": "ToggleButtonModel",
      "state": {
       "button_style": "primary",
       "icon": "picture-o",
       "layout": "IPY_MODEL_6b11c3e6297d48248a8c59e427dc5a04",
       "style": "IPY_MODEL_858c27ad1deb4ec884874eb1398b5de8",
       "tooltip": "Open COG/STAC dataset"
      }
     },
     "a3eae18fb1514d26bcc3b070893d246e": {
      "model_module": "@jupyter-widgets/controls",
      "model_module_version": "1.5.0",
      "model_name": "ToggleButtonModel",
      "state": {
       "button_style": "primary",
       "icon": "search-plus",
       "layout": "IPY_MODEL_69b5358740c240a4b393a71b215a8e97",
       "style": "IPY_MODEL_2a82b81303bc4f0db4513a92ffc3e185",
       "tooltip": "Search features in GeoJSON layer"
      }
     },
     "a46fec9cb74c497f91ada06cddb0a965": {
      "model_module": "@jupyter-widgets/controls",
      "model_module_version": "1.5.0",
      "model_name": "ToggleButtonModel",
      "state": {
       "button_style": "primary",
       "icon": "table",
       "layout": "IPY_MODEL_584d70a9a53b4038a79c00a74ed0dd54",
       "style": "IPY_MODEL_81e67b481045427595a9e48ac0b05bd1",
       "tooltip": "Open attribute table"
      }
     },
     "a4b4c7b62b7e43c49ceb8ea02a22e827": {
      "model_module": "jupyter-leaflet",
      "model_module_version": "^0.17.0",
      "model_name": "LeafletTileLayerModel",
      "state": {
       "_model_module_version": "^0.17.0",
       "_view_module_version": "^0.17.0",
       "attribution": "Imagery provided by services from the Global Imagery Browse Services (GIBS), operated by the NASA/GSFC/Earth Science Data and Information System (ESDIS) with funding provided by NASA/HQ.",
       "max_zoom": 9,
       "name": "NASAGIBS.ModisTerraBands721CR",
       "options": [
        "attribution",
        "bounds",
        "detect_retina",
        "max_native_zoom",
        "max_zoom",
        "min_native_zoom",
        "min_zoom",
        "no_wrap",
        "tile_size",
        "tms"
       ],
       "url": "https://gibs.earthdata.nasa.gov/wmts/epsg3857/best/MODIS_Terra_CorrectedReflectance_Bands721/default//GoogleMapsCompatible_Level9/{z}/{y}/{x}.jpg"
      }
     },
     "a53f4bf7ced94b9181dd05b5e85763eb": {
      "model_module": "jupyter-leaflet",
      "model_module_version": "^0.17.0",
      "model_name": "LeafletMapModel",
      "state": {
       "_model_module_version": "^0.17.0",
       "_view_module_version": "^0.17.0",
       "bottom": 394055,
       "center": [
        40.840047632245124,
        -124.16387421703337
       ],
       "controls": [
        "IPY_MODEL_f5d8a06e08164543bbb2966e0c602b8b",
        "IPY_MODEL_197acdf0a7a9479d9e9509b124177741",
        "IPY_MODEL_38c9c45d2e9741f989074063bd2ed742",
        "IPY_MODEL_70885414a97243ebb371146b4f7f4981",
        "IPY_MODEL_58c5806d676d4e9a8a686c5510f34c88",
        "IPY_MODEL_6e665d15450b4f11ac22958e381d945f",
        "IPY_MODEL_35f915707a4a4fbeb992040039c2957f"
       ],
       "default_style": "IPY_MODEL_3f7e0dd08bd54aa0ab70931a55e21169",
       "dragging_style": "IPY_MODEL_c29639c1a788472da2dff4c63af4991e",
       "east": -123.9192581176758,
       "fullscreen": false,
       "interpolation": "bilinear",
       "layers": [
        "IPY_MODEL_9adac635a6c24a37b60608af844d95e1",
        "IPY_MODEL_4d5bbfdab2df45268635abee7c046039",
        "IPY_MODEL_41c95c33568e4f67950b1bdfa4107fc0",
        "IPY_MODEL_e5e5916ed14f423f94be4199e7d0b8af",
        "IPY_MODEL_36f3a5deaf9f4679bb7a82fa9f3f6232"
       ],
       "layout": "IPY_MODEL_646f57ce81f3491e890ead12586a7551",
       "left": 161923,
       "max_zoom": 24,
       "modisdate": "2022-10-09",
       "north": 40.91792305645495,
       "options": [
        "bounce_at_zoom_limits",
        "box_zoom",
        "center",
        "close_popup_on_click",
        "double_click_zoom",
        "dragging",
        "fullscreen",
        "inertia",
        "inertia_deceleration",
        "inertia_max_speed",
        "interpolation",
        "keyboard",
        "keyboard_pan_offset",
        "keyboard_zoom_offset",
        "max_zoom",
        "min_zoom",
        "prefer_canvas",
        "scroll_wheel_zoom",
        "tap",
        "tap_tolerance",
        "touch_zoom",
        "world_copy_jump",
        "zoom",
        "zoom_animation_threshold",
        "zoom_delta",
        "zoom_snap"
       ],
       "prefer_canvas": false,
       "right": 163347,
       "scroll_wheel_zoom": true,
       "south": 40.76208101161184,
       "style": "IPY_MODEL_3f7e0dd08bd54aa0ab70931a55e21169",
       "top": 393455,
       "west": -124.4081497192383,
       "window_url": "http://localhost:8888/lab/tree/refactored_custom_map_official.ipynb"
      }
     },
     "a585f8f8e5884a57beb5a1c8949cfe3b": {
      "model_module": "@jupyter-widgets/base",
      "model_module_version": "1.2.0",
      "model_name": "LayoutModel",
      "state": {}
     },
     "a5b2b25d6f5d4eb093c24895409f409a": {
      "model_module": "jupyter-leaflet",
      "model_module_version": "^0.17.0",
      "model_name": "LeafletTileLayerModel",
      "state": {
       "_model_module_version": "^0.17.0",
       "_view_module_version": "^0.17.0",
       "attribution": "Imagery provided by services from the Global Imagery Browse Services (GIBS), operated by the NASA/GSFC/Earth Science Data and Information System (ESDIS) with funding provided by NASA/HQ.",
       "max_zoom": 5,
       "name": "NASAGIBS.BlueMarble3031",
       "options": [
        "attribution",
        "bounds",
        "detect_retina",
        "max_native_zoom",
        "max_zoom",
        "min_native_zoom",
        "min_zoom",
        "no_wrap",
        "tile_size",
        "tms"
       ],
       "url": "https://gibs.earthdata.nasa.gov/wmts/epsg3031/best/BlueMarble_NextGeneration/default/EPSG3031_500m/{z}/{y}/{x}.jpeg"
      }
     },
     "a5bd6ec36ca54003a80d93d3511f2859": {
      "model_module": "@jupyter-widgets/controls",
      "model_module_version": "1.5.0",
      "model_name": "ButtonModel",
      "state": {
       "description": "Save shorelines",
       "layout": "IPY_MODEL_e53de786204e40e695be021ec8077628",
       "style": "IPY_MODEL_ba4ff882f7734aa1856d5d88bb4eecb6"
      }
     },
     "a6844061a0ce41f880fc80497fcaf1a0": {
      "model_module": "@jupyter-widgets/controls",
      "model_module_version": "1.5.0",
      "model_name": "FloatProgressModel",
      "state": {
       "bar_style": "success",
       "layout": "IPY_MODEL_145b52db4e6844838b634e4b4436d81c",
       "max": 2,
       "style": "IPY_MODEL_86919bb1a06e494097ce8fca9a1c5132",
       "value": 2
      }
     },
     "a6bb3c5e13714763a4c7ee143d75fb60": {
      "model_module": "jupyter-leaflet",
      "model_module_version": "^0.17.0",
      "model_name": "LeafletTileLayerModel",
      "state": {
       "_model_module_version": "^0.17.0",
       "_view_module_version": "^0.17.0",
       "attribution": "Map tiles by Stamen Design, CC BY 3.0 -- Map data (C) OpenStreetMap contributors",
       "name": "Stamen.TerrainLabels",
       "options": [
        "attribution",
        "bounds",
        "detect_retina",
        "max_native_zoom",
        "max_zoom",
        "min_native_zoom",
        "min_zoom",
        "no_wrap",
        "tile_size",
        "tms"
       ],
       "url": "https://stamen-tiles-a.a.ssl.fastly.net/terrain-labels/{z}/{x}/{y}.png"
      }
     },
     "a81714a20e3444b9812eaaf4a5689f57": {
      "model_module": "@jupyter-widgets/controls",
      "model_module_version": "1.5.0",
      "model_name": "DescriptionStyleModel",
      "state": {
       "description_width": ""
      }
     },
     "a8705c5c6e30427b9e666380ba8e5c5f": {
      "model_module": "jupyter-leaflet",
      "model_module_version": "^0.17.0",
      "model_name": "LeafletTileLayerModel",
      "state": {
       "_model_module_version": "^0.17.0",
       "_view_module_version": "^0.17.0",
       "attribution": "Datenquelle: basemap.at",
       "max_zoom": 19,
       "name": "BasemapAT.overlay",
       "options": [
        "attribution",
        "bounds",
        "detect_retina",
        "max_native_zoom",
        "max_zoom",
        "min_native_zoom",
        "min_zoom",
        "no_wrap",
        "tile_size",
        "tms"
       ],
       "url": "https://maps.wien.gv.at/basemap/bmapoverlay/normal/google3857/{z}/{y}/{x}.png"
      }
     },
     "a9049138a7764cab87370747ce65e0bc": {
      "model_module": "@jupyter-widgets/controls",
      "model_module_version": "1.5.0",
      "model_name": "ButtonStyleModel",
      "state": {
       "button_color": "#ae3cf0"
      }
     },
     "a9537eded5584e51aa1671f4c5e82823": {
      "model_module": "@jupyter-widgets/base",
      "model_module_version": "1.2.0",
      "model_name": "LayoutModel",
      "state": {}
     },
     "aa751529af5b44cd867591b45c336a08": {
      "model_module": "@jupyter-widgets/base",
      "model_module_version": "1.2.0",
      "model_name": "LayoutModel",
      "state": {}
     },
     "aa7992cce1a04d29ac203d5c1918313a": {
      "model_module": "jupyter-leaflet",
      "model_module_version": "^0.17.0",
      "model_name": "LeafletTileLayerModel",
      "state": {
       "_model_module_version": "^0.17.0",
       "_view_module_version": "^0.17.0",
       "attribution": "(C) OpenStreetMap contributors",
       "name": "OpenStreetMap.CH",
       "options": [
        "attribution",
        "bounds",
        "detect_retina",
        "max_native_zoom",
        "max_zoom",
        "min_native_zoom",
        "min_zoom",
        "no_wrap",
        "tile_size",
        "tms"
       ],
       "url": "https://tile.osm.ch/switzerland/{z}/{x}/{y}.png"
      }
     },
     "ab0cd08f032f4b048f8a7d5c011ac907": {
      "model_module": "jupyter-leaflet",
      "model_module_version": "^0.17.0",
      "model_name": "LeafletWMSLayerModel",
      "state": {
       "_model_module_version": "^0.17.0",
       "_view_module_version": "^0.17.0",
       "attribution": "USGS",
       "crs": {
        "custom": false,
        "name": "EPSG3857"
       },
       "format": "image/png",
       "layers": "USGSNAIPImagery:NaturalColor",
       "name": "USGS NAIP Imagery",
       "options": [
        "attribution",
        "bounds",
        "detect_retina",
        "format",
        "layers",
        "max_native_zoom",
        "max_zoom",
        "min_native_zoom",
        "min_zoom",
        "no_wrap",
        "styles",
        "tile_size",
        "tms",
        "transparent",
        "uppercase"
       ],
       "transparent": true,
       "url": "https://imagery.nationalmap.gov/arcgis/services/USGSNAIPImagery/ImageServer/WMSServer?"
      }
     },
     "ab228e2231184cd79dbab6f12ac0f349": {
      "model_module": "@jupyter-widgets/base",
      "model_module_version": "1.2.0",
      "model_name": "LayoutModel",
      "state": {
       "margin": "0px 5px 5px 0px"
      }
     },
     "ab3aa3e6af30481da40956daf9089c4a": {
      "model_module": "@jupyter-widgets/controls",
      "model_module_version": "1.5.0",
      "model_name": "ButtonModel",
      "state": {
       "description": "Save ROI",
       "layout": "IPY_MODEL_a585f8f8e5884a57beb5a1c8949cfe3b",
       "style": "IPY_MODEL_d976d6777b7d4d50a8941b16acd70758"
      }
     },
     "ab3b2b231d0c42fca0bbfb2d5192fa63": {
      "model_module": "@jupyter-widgets/controls",
      "model_module_version": "1.5.0",
      "model_name": "SelectMultipleModel",
      "state": {
       "_options_labels": [
        "L5",
        "L7",
        "L8",
        "S2"
       ],
       "description": "Satellites",
       "index": [
        2
       ],
       "layout": "IPY_MODEL_ab44cacd7fdd405fb5dcbb5f7bf5d9f4",
       "rows": 5,
       "style": "IPY_MODEL_8fd9299dbe034249b2d8ab6ff4df12ee"
      }
     },
     "ab44cacd7fdd405fb5dcbb5f7bf5d9f4": {
      "model_module": "@jupyter-widgets/base",
      "model_module_version": "1.2.0",
      "model_name": "LayoutModel",
      "state": {}
     },
     "ab794ca37d3b48348d099d562943ae22": {
      "model_module": "jupyter-leaflet",
      "model_module_version": "^0.17.0",
      "model_name": "LeafletTileLayerModel",
      "state": {
       "_model_module_version": "^0.17.0",
       "_view_module_version": "^0.17.0",
       "attribution": "(C) OpenStreetMap contributors (C) CARTO",
       "max_zoom": 20,
       "name": "CartoDB.PositronNoLabels",
       "options": [
        "attribution",
        "bounds",
        "detect_retina",
        "max_native_zoom",
        "max_zoom",
        "min_native_zoom",
        "min_zoom",
        "no_wrap",
        "tile_size",
        "tms"
       ],
       "url": "https://a.basemaps.cartocdn.com/light_nolabels/{z}/{x}/{y}.png"
      }
     },
     "ac03dc103b974040b3d39db37a23f02b": {
      "model_module": "@jupyter-widgets/controls",
      "model_module_version": "1.5.0",
      "model_name": "DescriptionStyleModel",
      "state": {
       "description_width": ""
      }
     },
     "ac29abdfceb74e60aed0e29584b04cce": {
      "model_module": "@jupyter-widgets/base",
      "model_module_version": "1.2.0",
      "model_name": "LayoutModel",
      "state": {
       "margin": "0px 5px 0px 5px"
      }
     },
     "ad2d401226c04dff97999553aa7b2946": {
      "model_module": "jupyter-leaflet",
      "model_module_version": "^0.17.0",
      "model_name": "LeafletTileLayerModel",
      "state": {
       "_model_module_version": "^0.17.0",
       "_view_module_version": "^0.17.0",
       "attribution": "openAIP Data (CC-BY-NC-SA)",
       "max_zoom": 14,
       "name": "OpenAIP",
       "options": [
        "attribution",
        "bounds",
        "detect_retina",
        "max_native_zoom",
        "max_zoom",
        "min_native_zoom",
        "min_zoom",
        "no_wrap",
        "tile_size",
        "tms"
       ],
       "url": "https://1.tile.maps.openaip.net/geowebcache/service/tms/1.0.0/openaip_basemap@EPSG%3A900913@png/{z}/{x}/{y}.png"
      }
     },
     "aebb356a37664d4db239603d33023258": {
      "model_module": "jupyter-leaflet",
      "model_module_version": "^0.17.0",
      "model_name": "LeafletTileLayerModel",
      "state": {
       "_model_module_version": "^0.17.0",
       "_view_module_version": "^0.17.0",
       "attribution": "Google",
       "max_zoom": 22,
       "name": "Google Satellite",
       "options": [
        "attribution",
        "bounds",
        "detect_retina",
        "max_native_zoom",
        "max_zoom",
        "min_native_zoom",
        "min_zoom",
        "no_wrap",
        "tile_size",
        "tms"
       ],
       "url": "https://mt1.google.com/vt/lyrs=s&x={x}&y={y}&z={z}"
      }
     },
     "b00c5074fa284f7c9dac63d10c9fd01a": {
      "model_module": "jupyter-leaflet",
      "model_module_version": "^0.17.0",
      "model_name": "LeafletTileLayerModel",
      "state": {
       "_model_module_version": "^0.17.0",
       "_view_module_version": "^0.17.0",
       "attribution": "Google",
       "max_zoom": 22,
       "name": "Google Terrain",
       "options": [
        "attribution",
        "bounds",
        "detect_retina",
        "max_native_zoom",
        "max_zoom",
        "min_native_zoom",
        "min_zoom",
        "no_wrap",
        "tile_size",
        "tms"
       ],
       "url": "https://mt1.google.com/vt/lyrs=p&x={x}&y={y}&z={z}"
      }
     },
     "b0d55f9f317c434b933e4b69707fbc6f": {
      "model_module": "jupyter-leaflet",
      "model_module_version": "^0.17.0",
      "model_name": "LeafletTileLayerModel",
      "state": {
       "_model_module_version": "^0.17.0",
       "_view_module_version": "^0.17.0",
       "attribution": "Justice Map",
       "max_zoom": 22,
       "name": "JusticeMap.asian",
       "options": [
        "attribution",
        "bounds",
        "detect_retina",
        "max_native_zoom",
        "max_zoom",
        "min_native_zoom",
        "min_zoom",
        "no_wrap",
        "tile_size",
        "tms"
       ],
       "url": "https://www.justicemap.org/tile/county/asian/{z}/{x}/{y}.png"
      }
     },
     "b0e296b613b54372b545c9579691bdb1": {
      "model_module": "@jupyter-widgets/base",
      "model_module_version": "1.2.0",
      "model_name": "LayoutModel",
      "state": {}
     },
     "b10ac2bf2f4c4ef6943129a3d8f21a15": {
      "model_module": "jupyter-leaflet",
      "model_module_version": "^0.17.0",
      "model_name": "LeafletTileLayerModel",
      "state": {
       "_model_module_version": "^0.17.0",
       "_view_module_version": "^0.17.0",
       "attribution": "(C) OpenStreetMap contributors",
       "name": "OpenStreetMap.DE",
       "options": [
        "attribution",
        "bounds",
        "detect_retina",
        "max_native_zoom",
        "max_zoom",
        "min_native_zoom",
        "min_zoom",
        "no_wrap",
        "tile_size",
        "tms"
       ],
       "url": "https://a.tile.openstreetmap.de/{z}/{x}/{y}.png"
      }
     },
     "b233160c17df4b5e8862ff2b4a0bf662": {
      "model_module": "@jupyter-widgets/base",
      "model_module_version": "1.2.0",
      "model_name": "LayoutModel",
      "state": {}
     },
     "b2d1100dd937467b8f3629f28c0aaa77": {
      "model_module": "jupyter-leaflet",
      "model_module_version": "^0.17.0",
      "model_name": "LeafletTileLayerModel",
      "state": {
       "_model_module_version": "^0.17.0",
       "_view_module_version": "^0.17.0",
       "attribution": "Imagery provided by services from the Global Imagery Browse Services (GIBS), operated by the NASA/GSFC/Earth Science Data and Information System (ESDIS) with funding provided by NASA/HQ.",
       "max_zoom": 7,
       "name": "NASAGIBS.ModisTerraLSTDay",
       "options": [
        "attribution",
        "bounds",
        "detect_retina",
        "max_native_zoom",
        "max_zoom",
        "min_native_zoom",
        "min_zoom",
        "no_wrap",
        "tile_size",
        "tms"
       ],
       "url": "https://map1.vis.earthdata.nasa.gov/wmts-webmerc/MODIS_Terra_Land_Surface_Temp_Day/default//GoogleMapsCompatible_Level7/{z}/{y}/{x}.png"
      }
     },
     "b35ab291213349569a82af3fd9e57675": {
      "model_module": "@jupyter-widgets/controls",
      "model_module_version": "1.5.0",
      "model_name": "HBoxModel",
      "state": {
       "children": [
        "IPY_MODEL_4d7ff083df8743d1aef3b9947c92d5f6"
       ],
       "layout": "IPY_MODEL_7638d5d93389483a826ab84ff4ab8391"
      }
     },
     "b37beafd20984b92855c7dbe22b69cc6": {
      "model_module": "@jupyter-widgets/controls",
      "model_module_version": "1.5.0",
      "model_name": "VBoxModel",
      "state": {
       "children": [
        "IPY_MODEL_7cda5780406d43a8a734bc03394a3c50",
        "IPY_MODEL_90215145c7884fadb9244b06e2f5e063"
       ],
       "layout": "IPY_MODEL_3564a1ca0bac4ee383151b6302f903bf"
      }
     },
     "b43f29d78fe542d9a258bfe0d8eefd0e": {
      "model_module": "jupyter-leaflet",
      "model_module_version": "^0.17.0",
      "model_name": "LeafletWMSLayerModel",
      "state": {
       "_model_module_version": "^0.17.0",
       "_view_module_version": "^0.17.0",
       "attribution": "ESA",
       "crs": {
        "custom": false,
        "name": "EPSG3857"
       },
       "format": "image/png",
       "layers": "WORLDCOVER_2020_S2_FCC",
       "name": "ESA Worldcover 2020 S2 FCC",
       "options": [
        "attribution",
        "bounds",
        "detect_retina",
        "format",
        "layers",
        "max_native_zoom",
        "max_zoom",
        "min_native_zoom",
        "min_zoom",
        "no_wrap",
        "styles",
        "tile_size",
        "tms",
        "transparent",
        "uppercase"
       ],
       "transparent": true,
       "url": "https://services.terrascope.be/wms/v2"
      }
     },
     "b46f5e11c91b437a9e2529e64846d010": {
      "model_module": "jupyter-leaflet",
      "model_module_version": "^0.17.0",
      "model_name": "LeafletTileLayerModel",
      "state": {
       "_model_module_version": "^0.17.0",
       "_view_module_version": "^0.17.0",
       "attribution": "Map tiles by Stamen Design, CC BY 3.0 -- Map data (C) OpenStreetMap contributors",
       "max_zoom": 20,
       "name": "Stamen.TonerLabels",
       "options": [
        "attribution",
        "bounds",
        "detect_retina",
        "max_native_zoom",
        "max_zoom",
        "min_native_zoom",
        "min_zoom",
        "no_wrap",
        "tile_size",
        "tms"
       ],
       "url": "https://stamen-tiles-a.a.ssl.fastly.net/toner-labels/{z}/{x}/{y}.png"
      }
     },
     "b4c7b387074c4110859d1784903053e1": {
      "model_module": "@jupyter-widgets/controls",
      "model_module_version": "1.5.0",
      "model_name": "ButtonModel",
      "state": {
       "description": "Save Bbox",
       "layout": "IPY_MODEL_e35ac173241e433fbec779deefc2496e",
       "style": "IPY_MODEL_f7c2c71400bd4479b0cc9aebfcb3de1b"
      }
     },
     "b57bd56da1664a2683c31779b39a63cc": {
      "model_module": "@jupyter-widgets/base",
      "model_module_version": "1.2.0",
      "model_name": "LayoutModel",
      "state": {}
     },
     "b6c72397d2744121abf09f0aa917448f": {
      "model_module": "@jupyter-widgets/base",
      "model_module_version": "1.2.0",
      "model_name": "LayoutModel",
      "state": {}
     },
     "b841e5423d1646bf9c1ce3f76dbffc20": {
      "model_module": "@jupyter-widgets/controls",
      "model_module_version": "1.5.0",
      "model_name": "ButtonStyleModel",
      "state": {
       "button_color": "#69add1"
      }
     },
     "b8712df0821b4f319cf745c161a65f70": {
      "model_module": "@jupyter-widgets/controls",
      "model_module_version": "1.5.0",
      "model_name": "ToggleButtonModel",
      "state": {
       "icon": "server",
       "layout": "IPY_MODEL_0db62a3c8ec340f1b18bca9af83b0300",
       "style": "IPY_MODEL_4fdeba4865d44a619b2b5fba85ac4598",
       "tooltip": "Layers"
      }
     },
     "b9767028c95b4962ac86f82efd068823": {
      "model_module": "@jupyter-widgets/base",
      "model_module_version": "1.2.0",
      "model_name": "LayoutModel",
      "state": {}
     },
     "ba0e92c7ae524becb18b202ae8a0c6f5": {
      "model_module": "jupyter-leaflet",
      "model_module_version": "^0.17.0",
      "model_name": "LeafletTileLayerModel",
      "state": {
       "_model_module_version": "^0.17.0",
       "_view_module_version": "^0.17.0",
       "attribution": "(C) OpenStreetMap France | (C) OpenStreetMap contributors",
       "max_zoom": 20,
       "name": "OpenStreetMap.France",
       "options": [
        "attribution",
        "bounds",
        "detect_retina",
        "max_native_zoom",
        "max_zoom",
        "min_native_zoom",
        "min_zoom",
        "no_wrap",
        "tile_size",
        "tms"
       ],
       "url": "https://a.tile.openstreetmap.fr/osmfr/{z}/{x}/{y}.png"
      }
     },
     "ba47bc68e4aa4b8c90f692ac47ecd530": {
      "model_module": "@jupyter-widgets/base",
      "model_module_version": "1.2.0",
      "model_name": "LayoutModel",
      "state": {}
     },
     "ba4ff882f7734aa1856d5d88bb4eecb6": {
      "model_module": "@jupyter-widgets/controls",
      "model_module_version": "1.5.0",
      "model_name": "ButtonStyleModel",
      "state": {
       "button_color": "#50bf8f"
      }
     },
     "ba5466b994c24a1885269959f9879b48": {
      "model_module": "@jupyter-widgets/controls",
      "model_module_version": "1.5.0",
      "model_name": "DescriptionStyleModel",
      "state": {
       "description_width": ""
      }
     },
     "bae94028d9d04ecb94c31d4310f79ea5": {
      "model_module": "@jupyter-widgets/base",
      "model_module_version": "1.2.0",
      "model_name": "LayoutModel",
      "state": {
       "height": "auto",
       "padding": "0px 0px 0px 4px",
       "width": "auto"
      }
     },
     "bcd038c8e387448e88317bdd14e7df30": {
      "model_module": "@jupyter-widgets/base",
      "model_module_version": "1.2.0",
      "model_name": "LayoutModel",
      "state": {
       "height": "auto",
       "padding": "0px 0px 0px 4px",
       "width": "auto"
      }
     },
     "bce1c6aebba645d5ac04ad4914d04407": {
      "model_module": "@jupyter-widgets/controls",
      "model_module_version": "1.5.0",
      "model_name": "VBoxModel",
      "state": {
       "children": [
        "IPY_MODEL_e4d2597988b24bad9e12af274104c7a1",
        "IPY_MODEL_ab3b2b231d0c42fca0bbfb2d5192fa63"
       ],
       "layout": "IPY_MODEL_b9767028c95b4962ac86f82efd068823"
      }
     },
     "c1aac566d7f0436c80e6c0b450b3a9da": {
      "model_module": "jupyter-leaflet",
      "model_module_version": "^0.17.0",
      "model_name": "LeafletTileLayerModel",
      "state": {
       "_model_module_version": "^0.17.0",
       "_view_module_version": "^0.17.0",
       "attribution": "(C) OpenStreetMap contributors (C) CARTO",
       "max_zoom": 20,
       "name": "CartoDB.DarkMatter",
       "options": [
        "attribution",
        "bounds",
        "detect_retina",
        "max_native_zoom",
        "max_zoom",
        "min_native_zoom",
        "min_zoom",
        "no_wrap",
        "tile_size",
        "tms"
       ],
       "url": "https://a.basemaps.cartocdn.com/dark_all/{z}/{x}/{y}.png"
      }
     },
     "c29639c1a788472da2dff4c63af4991e": {
      "model_module": "jupyter-leaflet",
      "model_module_version": "^0.17.0",
      "model_name": "LeafletMapStyleModel",
      "state": {
       "_model_module_version": "^0.17.0",
       "cursor": "move"
      }
     },
     "c2be5f348d6d40699a7419bd3e616292": {
      "model_module": "jupyter-leaflet",
      "model_module_version": "^0.17.0",
      "model_name": "LeafletMapStyleModel",
      "state": {
       "_model_module_version": "^0.17.0"
      }
     },
     "c3566e1baef9488fbacaa2696d2a824a": {
      "model_module": "@jupyter-widgets/controls",
      "model_module_version": "1.5.0",
      "model_name": "DescriptionStyleModel",
      "state": {
       "description_width": ""
      }
     },
     "c444bae9958b4277befab117576b3d36": {
      "model_module": "@jupyter-widgets/controls",
      "model_module_version": "1.5.0",
      "model_name": "VBoxModel",
      "state": {
       "children": [
        "IPY_MODEL_2af201d423094dcda6870678296e5227",
        "IPY_MODEL_5b21cceb34d44f299ca10f5928e9930c",
        "IPY_MODEL_f76385ef059d4ed2a6dbdc9c95b4f815",
        "IPY_MODEL_de435af2744b46d18819ff3030fb717a"
       ],
       "layout": "IPY_MODEL_e2a2e8c571df48bb97404324f8c6e210"
      }
     },
     "c4ac0119a5bf4b30905dcf13149b6dd2": {
      "model_module": "jupyter-leaflet",
      "model_module_version": "^0.17.0",
      "model_name": "LeafletTileLayerModel",
      "state": {
       "_model_module_version": "^0.17.0",
       "_view_module_version": "^0.17.0",
       "attribution": "(C) OpenStreetMap contributors (C) CARTO",
       "max_zoom": 20,
       "name": "CartoDB.Voyager",
       "options": [
        "attribution",
        "bounds",
        "detect_retina",
        "max_native_zoom",
        "max_zoom",
        "min_native_zoom",
        "min_zoom",
        "no_wrap",
        "tile_size",
        "tms"
       ],
       "url": "https://a.basemaps.cartocdn.com/rastertiles/voyager/{z}/{x}/{y}.png"
      }
     },
     "c50a4d96897c4434beb91d45718dd343": {
      "model_module": "jupyter-leaflet",
      "model_module_version": "^0.17.0",
      "model_name": "LeafletTileLayerModel",
      "state": {
       "_model_module_version": "^0.17.0",
       "_view_module_version": "^0.17.0",
       "attribution": "Map tiles by Stamen Design, CC BY 3.0 -- Map data (C) OpenStreetMap contributors",
       "max_zoom": 16,
       "name": "Stamen.Watercolor",
       "options": [
        "attribution",
        "bounds",
        "detect_retina",
        "max_native_zoom",
        "max_zoom",
        "min_native_zoom",
        "min_zoom",
        "no_wrap",
        "tile_size",
        "tms"
       ],
       "url": "https://stamen-tiles-a.a.ssl.fastly.net/watercolor/{z}/{x}/{y}.jpg"
      }
     },
     "c5e24ca43b5a4a0992f7b343e93e9a1f": {
      "model_module": "jupyter-leaflet",
      "model_module_version": "^0.17.0",
      "model_name": "LeafletTileLayerModel",
      "state": {
       "_model_module_version": "^0.17.0",
       "_view_module_version": "^0.17.0",
       "attribution": "National Library of Scotland Historic Maps",
       "name": "NLS",
       "options": [
        "attribution",
        "bounds",
        "detect_retina",
        "max_native_zoom",
        "max_zoom",
        "min_native_zoom",
        "min_zoom",
        "no_wrap",
        "tile_size",
        "tms"
       ],
       "url": "https://nls-0.tileserver.com/nls/{z}/{x}/{y}.jpg"
      }
     },
     "c736d6a90bc04b70bed3f6ff4a94b113": {
      "model_module": "@jupyter-widgets/controls",
      "model_module_version": "1.5.0",
      "model_name": "HTMLModel",
      "state": {
       "layout": "IPY_MODEL_828f66aa879c422dbaa0753aeb707b16",
       "style": "IPY_MODEL_69ad47f2a70244a1bc19c1395bf617bb",
       "value": "<b>Pick a date:</b>"
      }
     },
     "c7ebe22ca2b447858d2f899cea3136be": {
      "model_module": "jupyter-leaflet",
      "model_module_version": "^0.17.0",
      "model_name": "LeafletWMSLayerModel",
      "state": {
       "_model_module_version": "^0.17.0",
       "_view_module_version": "^0.17.0",
       "attribution": "FWS",
       "crs": {
        "custom": false,
        "name": "EPSG3857"
       },
       "format": "image/png",
       "layers": "0",
       "name": "FWS NWI Wetlands Raster",
       "options": [
        "attribution",
        "bounds",
        "detect_retina",
        "format",
        "layers",
        "max_native_zoom",
        "max_zoom",
        "min_native_zoom",
        "min_zoom",
        "no_wrap",
        "styles",
        "tile_size",
        "tms",
        "transparent",
        "uppercase"
       ],
       "transparent": true,
       "url": "https://www.fws.gov/wetlands/arcgis/services/Wetlands_Raster/ImageServer/WMSServer?"
      }
     },
     "ca0af26c951c4cb28a8f3cf928a02aab": {
      "model_module": "jupyter-leaflet",
      "model_module_version": "^0.17.0",
      "model_name": "LeafletTileLayerModel",
      "state": {
       "_model_module_version": "^0.17.0",
       "_view_module_version": "^0.17.0",
       "attribution": "Map tiles by <a href=\"https://labs.strava.com/heatmap\">Strava 2021</a>",
       "max_zoom": 15,
       "name": "Strava.Ride",
       "options": [
        "attribution",
        "bounds",
        "detect_retina",
        "max_native_zoom",
        "max_zoom",
        "min_native_zoom",
        "min_zoom",
        "no_wrap",
        "tile_size",
        "tms"
       ],
       "url": "https://heatmap-external-a.strava.com/tiles/ride/hot/{z}/{x}/{y}.png"
      }
     },
     "ca6a2851052c42ababfbcf4d203a0eb8": {
      "model_module": "jupyter-leaflet",
      "model_module_version": "^0.17.0",
      "model_name": "LeafletTileLayerModel",
      "state": {
       "_model_module_version": "^0.17.0",
       "_view_module_version": "^0.17.0",
       "attribution": "Imagery provided by services from the Global Imagery Browse Services (GIBS), operated by the NASA/GSFC/Earth Science Data and Information System (ESDIS) with funding provided by NASA/HQ.",
       "max_zoom": 9,
       "name": "NASAGIBS.ViirsTrueColorCR",
       "options": [
        "attribution",
        "bounds",
        "detect_retina",
        "max_native_zoom",
        "max_zoom",
        "min_native_zoom",
        "min_zoom",
        "no_wrap",
        "tile_size",
        "tms"
       ],
       "url": "https://gibs.earthdata.nasa.gov/wmts/epsg3857/best/VIIRS_SNPP_CorrectedReflectance_TrueColor/default//GoogleMapsCompatible_Level9/{z}/{y}/{x}.jpg"
      }
     },
     "cb50c68e3a7a4836b76b4e8abfc49faf": {
      "model_module": "jupyter-leaflet",
      "model_module_version": "^0.17.0",
      "model_name": "LeafletTileLayerModel",
      "state": {
       "_model_module_version": "^0.17.0",
       "_view_module_version": "^0.17.0",
       "attribution": "Map data: (C) OpenStreetMap contributors | Map style: (C) OpenFireMap (CC-BY-SA)",
       "max_zoom": 19,
       "name": "OpenFireMap",
       "options": [
        "attribution",
        "bounds",
        "detect_retina",
        "max_native_zoom",
        "max_zoom",
        "min_native_zoom",
        "min_zoom",
        "no_wrap",
        "tile_size",
        "tms"
       ],
       "url": "http://openfiremap.org/hytiles/{z}/{x}/{y}.png"
      }
     },
     "cc0c1e54ab084e5aa3dbe3c95193252e": {
      "model_module": "jupyter-leaflet",
      "model_module_version": "^0.17.0",
      "model_name": "LeafletWMSLayerModel",
      "state": {
       "_model_module_version": "^0.17.0",
       "_view_module_version": "^0.17.0",
       "attribution": "USGS",
       "crs": {
        "custom": false,
        "name": "EPSG3857"
       },
       "format": "image/png",
       "layers": "33DEPElevation:Hillshade Elevation Tinted",
       "name": "USGS 3DEP Elevation",
       "options": [
        "attribution",
        "bounds",
        "detect_retina",
        "format",
        "layers",
        "max_native_zoom",
        "max_zoom",
        "min_native_zoom",
        "min_zoom",
        "no_wrap",
        "styles",
        "tile_size",
        "tms",
        "transparent",
        "uppercase"
       ],
       "transparent": true,
       "url": "https://elevation.nationalmap.gov/arcgis/services/3DEPElevation/ImageServer/WMSServer?"
      }
     },
     "cc8d671c80b5457d98f3782b78196ded": {
      "model_module": "jupyter-leaflet",
      "model_module_version": "^0.17.0",
      "model_name": "LeafletTileLayerModel",
      "state": {
       "_model_module_version": "^0.17.0",
       "_view_module_version": "^0.17.0",
       "attribution": "Map tiles by Stamen Design, CC BY 3.0 -- Map data (C) OpenStreetMap contributors",
       "max_zoom": 20,
       "name": "Stamen.TopOSMFeatures",
       "options": [
        "attribution",
        "bounds",
        "detect_retina",
        "max_native_zoom",
        "max_zoom",
        "min_native_zoom",
        "min_zoom",
        "no_wrap",
        "tile_size",
        "tms"
       ],
       "url": "https://stamen-tiles-a.a.ssl.fastly.net/toposm-features/{z}/{x}/{y}.png"
      }
     },
     "cc96a313c8a64eac82198015acb47fc6": {
      "model_module": "jupyter-leaflet",
      "model_module_version": "^0.17.0",
      "model_name": "LeafletWMSLayerModel",
      "state": {
       "_model_module_version": "^0.17.0",
       "_view_module_version": "^0.17.0",
       "attribution": "USGS",
       "crs": {
        "custom": false,
        "name": "EPSG3857"
       },
       "format": "image/png",
       "layers": "0",
       "name": "USGS Hydrography",
       "options": [
        "attribution",
        "bounds",
        "detect_retina",
        "format",
        "layers",
        "max_native_zoom",
        "max_zoom",
        "min_native_zoom",
        "min_zoom",
        "no_wrap",
        "styles",
        "tile_size",
        "tms",
        "transparent",
        "uppercase"
       ],
       "transparent": true,
       "url": "https://basemap.nationalmap.gov/arcgis/services/USGSHydroCached/MapServer/WMSServer?"
      }
     },
     "cd76d1377ea14d6d8fe2d6a102e66a2d": {
      "model_module": "jupyter-leaflet",
      "model_module_version": "^0.17.0",
      "model_name": "LeafletTileLayerModel",
      "state": {
       "_model_module_version": "^0.17.0",
       "_view_module_version": "^0.17.0",
       "attribution": "Datenquelle: basemap.at",
       "max_zoom": 19,
       "name": "BasemapAT.highdpi",
       "options": [
        "attribution",
        "bounds",
        "detect_retina",
        "max_native_zoom",
        "max_zoom",
        "min_native_zoom",
        "min_zoom",
        "no_wrap",
        "tile_size",
        "tms"
       ],
       "url": "https://maps.wien.gv.at/basemap/bmaphidpi/normal/google3857/{z}/{y}/{x}.jpeg"
      }
     },
     "ceff65103a5149a388b6bbe3ac40e459": {
      "model_module": "@jupyter-widgets/controls",
      "model_module_version": "1.5.0",
      "model_name": "ButtonStyleModel",
      "state": {
       "button_color": "red"
      }
     },
     "cf73f007671c4bd1997f4786d4a944fd": {
      "model_module": "@jupyter-widgets/controls",
      "model_module_version": "1.5.0",
      "model_name": "DescriptionStyleModel",
      "state": {
       "description_width": ""
      }
     },
     "d13f4ac6af0a407fa59a5f0075fc02e3": {
      "model_module": "@jupyter-widgets/base",
      "model_module_version": "1.2.0",
      "model_name": "LayoutModel",
      "state": {}
     },
     "d269c51650dc4fe783e9ab1a56bb45de": {
      "model_module": "@jupyter-widgets/controls",
      "model_module_version": "1.5.0",
      "model_name": "ToggleButtonModel",
      "state": {
       "button_style": "primary",
       "icon": "camera",
       "layout": "IPY_MODEL_74a9aaf8052046de8591bc90c247bbac",
       "style": "IPY_MODEL_7e359bac0f6b4186aaef4f359c793072",
       "tooltip": "Save map as HTML or image"
      }
     },
     "d4f713ab2a444c539b40dd8b42f551c2": {
      "model_module": "jupyter-leaflet",
      "model_module_version": "^0.17.0",
      "model_name": "LeafletTileLayerModel",
      "state": {
       "_model_module_version": "^0.17.0",
       "_view_module_version": "^0.17.0",
       "attribution": "Justice Map",
       "max_zoom": 22,
       "name": "JusticeMap.black",
       "options": [
        "attribution",
        "bounds",
        "detect_retina",
        "max_native_zoom",
        "max_zoom",
        "min_native_zoom",
        "min_zoom",
        "no_wrap",
        "tile_size",
        "tms"
       ],
       "url": "https://www.justicemap.org/tile/county/black/{z}/{x}/{y}.png"
      }
     },
     "d55dbe1f9686430d9b8f9e3946feb565": {
      "model_module": "@jupyter-widgets/controls",
      "model_module_version": "1.5.0",
      "model_name": "VBoxModel",
      "state": {
       "children": [
        "IPY_MODEL_53b1fc82633f4fd59f2c477ace63a42d",
        "IPY_MODEL_3bb88e70588540aca208cf8d5d063e84"
       ],
       "layout": "IPY_MODEL_ab228e2231184cd79dbab6f12ac0f349"
      }
     },
     "d568aa38ef9146bf81e91d6ae4e38d19": {
      "model_module": "jupyter-leaflet",
      "model_module_version": "^0.17.0",
      "model_name": "LeafletTileLayerModel",
      "state": {
       "_model_module_version": "^0.17.0",
       "_view_module_version": "^0.17.0",
       "attribution": "(C) OpenStreetMap contributors, Tiles style by Humanitarian OpenStreetMap Team hosted by OpenStreetMap France",
       "max_zoom": 19,
       "name": "OpenStreetMap.HOT",
       "options": [
        "attribution",
        "bounds",
        "detect_retina",
        "max_native_zoom",
        "max_zoom",
        "min_native_zoom",
        "min_zoom",
        "no_wrap",
        "tile_size",
        "tms"
       ],
       "url": "https://a.tile.openstreetmap.fr/hot/{z}/{x}/{y}.png"
      }
     },
     "d58e729adc724566b646a78418c39bbc": {
      "model_module": "@jupyter-widgets/controls",
      "model_module_version": "1.5.0",
      "model_name": "ToggleButtonModel",
      "state": {
       "button_style": "primary",
       "icon": "gears",
       "layout": "IPY_MODEL_d9984139eaa649b2915185930b5306eb",
       "style": "IPY_MODEL_a81714a20e3444b9812eaaf4a5689f57",
       "tooltip": "WhiteboxTools for local geoprocessing"
      }
     },
     "d5d3a2a5308649a38e3ee984ef6eeab8": {
      "model_module": "jupyter-leaflet",
      "model_module_version": "^0.17.0",
      "model_name": "LeafletTileLayerModel",
      "state": {
       "_model_module_version": "^0.17.0",
       "_view_module_version": "^0.17.0",
       "attribution": "(C) OpenStreetMap contributors",
       "max_zoom": 19,
       "name": "OpenStreetMap.Mapnik",
       "options": [
        "attribution",
        "bounds",
        "detect_retina",
        "max_native_zoom",
        "max_zoom",
        "min_native_zoom",
        "min_zoom",
        "no_wrap",
        "tile_size",
        "tms"
       ],
       "url": "https://a.tile.openstreetmap.org/{z}/{x}/{y}.png"
      }
     },
     "d69e26058dac400e80f8e819b56c223b": {
      "model_module": "jupyter-leaflet",
      "model_module_version": "^0.17.0",
      "model_name": "LeafletTileLayerModel",
      "state": {
       "_model_module_version": "^0.17.0",
       "_view_module_version": "^0.17.0",
       "attribution": "Map data: (C) OpenStreetMap contributors | Map style: (C) waymarkedtrails.org (CC-BY-SA)",
       "name": "WaymarkedTrails.hiking",
       "options": [
        "attribution",
        "bounds",
        "detect_retina",
        "max_native_zoom",
        "max_zoom",
        "min_native_zoom",
        "min_zoom",
        "no_wrap",
        "tile_size",
        "tms"
       ],
       "url": "https://tile.waymarkedtrails.org/hiking/{z}/{x}/{y}.png"
      }
     },
     "d6c02a2f696745f5a621888b2d6ec175": {
      "model_module": "jupyter-leaflet",
      "model_module_version": "^0.17.0",
      "model_name": "LeafletTileLayerModel",
      "state": {
       "_model_module_version": "^0.17.0",
       "_view_module_version": "^0.17.0",
       "attribution": "Map tiles by Stamen Design, CC BY 3.0 -- Map data (C) OpenStreetMap contributors",
       "max_zoom": 20,
       "name": "Stamen.TonerHybrid",
       "options": [
        "attribution",
        "bounds",
        "detect_retina",
        "max_native_zoom",
        "max_zoom",
        "min_native_zoom",
        "min_zoom",
        "no_wrap",
        "tile_size",
        "tms"
       ],
       "url": "https://stamen-tiles-a.a.ssl.fastly.net/toner-hybrid/{z}/{x}/{y}.png"
      }
     },
     "d976d6777b7d4d50a8941b16acd70758": {
      "model_module": "@jupyter-widgets/controls",
      "model_module_version": "1.5.0",
      "model_name": "ButtonStyleModel",
      "state": {
       "button_color": "#50bf8f"
      }
     },
     "d9984139eaa649b2915185930b5306eb": {
      "model_module": "@jupyter-widgets/base",
      "model_module_version": "1.2.0",
      "model_name": "LayoutModel",
      "state": {
       "height": "auto",
       "padding": "0px 0px 0px 4px",
       "width": "auto"
      }
     },
     "d998c5a1f04149b787a5ddbb51ff1aca": {
      "model_module": "jupyter-leaflet",
      "model_module_version": "^0.17.0",
      "model_name": "LeafletTileLayerModel",
      "state": {
       "_model_module_version": "^0.17.0",
       "_view_module_version": "^0.17.0",
       "attribution": "Tiles (C) Esri -- Source: Esri, i-cubed, USDA, USGS, AEX, GeoEye, Getmapping, Aerogrid, IGN, IGP, UPR-EGP, and the GIS User Community",
       "max_zoom": 22,
       "name": "Esri.WorldImagery",
       "options": [
        "attribution",
        "bounds",
        "detect_retina",
        "max_native_zoom",
        "max_zoom",
        "min_native_zoom",
        "min_zoom",
        "no_wrap",
        "tile_size",
        "tms"
       ],
       "url": "https://server.arcgisonline.com/ArcGIS/rest/services/World_Imagery/MapServer/tile/{z}/{y}/{x}"
      }
     },
     "d9f4f1e508724ffcb4445252a4762436": {
      "model_module": "jupyter-leaflet",
      "model_module_version": "^0.17.0",
      "model_name": "LeafletTileLayerModel",
      "state": {
       "_model_module_version": "^0.17.0",
       "_view_module_version": "^0.17.0",
       "attribution": "Map tiles by <a href=\"https://labs.strava.com/heatmap\">Strava 2021</a>",
       "max_zoom": 15,
       "name": "Strava.Water",
       "options": [
        "attribution",
        "bounds",
        "detect_retina",
        "max_native_zoom",
        "max_zoom",
        "min_native_zoom",
        "min_zoom",
        "no_wrap",
        "tile_size",
        "tms"
       ],
       "url": "https://heatmap-external-a.strava.com/tiles/water/blue/{z}/{x}/{y}.png"
      }
     },
     "da4b7f926b7e450ca3823c3ee1bc0a75": {
      "model_module": "jupyter-leaflet",
      "model_module_version": "^0.17.0",
      "model_name": "LeafletTileLayerModel",
      "state": {
       "_model_module_version": "^0.17.0",
       "_view_module_version": "^0.17.0",
       "attribution": "Map tiles by Stamen Design, CC BY 3.0 -- Map data (C) OpenStreetMap contributors",
       "max_zoom": 20,
       "name": "Stamen.TonerBackground",
       "options": [
        "attribution",
        "bounds",
        "detect_retina",
        "max_native_zoom",
        "max_zoom",
        "min_native_zoom",
        "min_zoom",
        "no_wrap",
        "tile_size",
        "tms"
       ],
       "url": "https://stamen-tiles-a.a.ssl.fastly.net/toner-background/{z}/{x}/{y}.png"
      }
     },
     "da5f0e25ce0e49eab5f9d7f5fea39e0b": {
      "model_module": "jupyter-leaflet",
      "model_module_version": "^0.17.0",
      "model_name": "LeafletTileLayerModel",
      "state": {
       "_model_module_version": "^0.17.0",
       "_view_module_version": "^0.17.0",
       "attribution": "Tiles courtesy of the U.S. Geological Survey",
       "max_zoom": 20,
       "name": "USGS.USImageryTopo",
       "options": [
        "attribution",
        "bounds",
        "detect_retina",
        "max_native_zoom",
        "max_zoom",
        "min_native_zoom",
        "min_zoom",
        "no_wrap",
        "tile_size",
        "tms"
       ],
       "url": "https://basemap.nationalmap.gov/arcgis/rest/services/USGSImageryTopo/MapServer/tile/{z}/{y}/{x}"
      }
     },
     "daf9f4561bb84e32b9d15c0e25bfd0d1": {
      "model_module": "jupyter-leaflet",
      "model_module_version": "^0.17.0",
      "model_name": "LeafletTileLayerModel",
      "state": {
       "_model_module_version": "^0.17.0",
       "_view_module_version": "^0.17.0",
       "attribution": "Tiles (C) Esri -- Esri, DeLorme, NAVTEQ, TomTom, Intermap, iPC, USGS, FAO, NPS, NRCAN, GeoBase, Kadaster NL, Ordnance Survey, Esri Japan, METI, Esri China (Hong Kong), and the GIS User Community",
       "max_zoom": 22,
       "name": "Esri.WorldTopoMap",
       "options": [
        "attribution",
        "bounds",
        "detect_retina",
        "max_native_zoom",
        "max_zoom",
        "min_native_zoom",
        "min_zoom",
        "no_wrap",
        "tile_size",
        "tms"
       ],
       "url": "https://server.arcgisonline.com/ArcGIS/rest/services/World_Topo_Map/MapServer/tile/{z}/{y}/{x}"
      }
     },
     "db87d4a854fe4bcaa332e21bb7891ebb": {
      "model_module": "@jupyter-widgets/controls",
      "model_module_version": "1.5.0",
      "model_name": "ProgressStyleModel",
      "state": {
       "description_width": ""
      }
     },
     "dca09901f09747af9a1b95bcf45e08ab": {
      "model_module": "@jupyter-widgets/base",
      "model_module_version": "1.2.0",
      "model_name": "LayoutModel",
      "state": {}
     },
     "dcf6b79a5bf64a3fb02b529eca47b3a8": {
      "model_module": "jupyter-leaflet",
      "model_module_version": "^0.17.0",
      "model_name": "LeafletWMSLayerModel",
      "state": {
       "_model_module_version": "^0.17.0",
       "_view_module_version": "^0.17.0",
       "attribution": "MRLC",
       "crs": {
        "custom": false,
        "name": "EPSG3857"
       },
       "format": "image/png",
       "layers": "NLCD_2011_Land_Cover_L48",
       "name": "NLCD 2011 CONUS Land Cover",
       "options": [
        "attribution",
        "bounds",
        "detect_retina",
        "format",
        "layers",
        "max_native_zoom",
        "max_zoom",
        "min_native_zoom",
        "min_zoom",
        "no_wrap",
        "styles",
        "tile_size",
        "tms",
        "transparent",
        "uppercase"
       ],
       "transparent": true,
       "url": "https://www.mrlc.gov/geoserver/mrlc_display/NLCD_2011_Land_Cover_L48/wms?"
      }
     },
     "de435af2744b46d18819ff3030fb717a": {
      "model_module": "@jupyter-widgets/controls",
      "model_module_version": "1.5.0",
      "model_name": "ButtonModel",
      "state": {
       "description": "Compute Transects",
       "layout": "IPY_MODEL_7e8a2c18e9c64c299f899b6b2ed4c8ff",
       "style": "IPY_MODEL_6286c8aee54f4dcca0af162b567f07cf"
      }
     },
     "dfb3d796c5944abea80d95e68c696ba0": {
      "model_module": "jupyter-leaflet",
      "model_module_version": "^0.17.0",
      "model_name": "LeafletTileLayerModel",
      "state": {
       "_model_module_version": "^0.17.0",
       "_view_module_version": "^0.17.0",
       "attribution": "&copy; <a href=\"http://www.gaode.com/\">Gaode.com</a>",
       "max_zoom": 19,
       "name": "Gaode.Satellite",
       "options": [
        "attribution",
        "bounds",
        "detect_retina",
        "max_native_zoom",
        "max_zoom",
        "min_native_zoom",
        "min_zoom",
        "no_wrap",
        "tile_size",
        "tms"
       ],
       "url": "http://webst01.is.autonavi.com/appmaptile?style=6&x={x}&y={y}&z={z}"
      }
     },
     "e294bdb6366b483b924b6d70e8b9dae6": {
      "model_module": "jupyter-leaflet",
      "model_module_version": "^0.17.0",
      "model_name": "LeafletTileLayerModel",
      "state": {
       "_model_module_version": "^0.17.0",
       "_view_module_version": "^0.17.0",
       "attribution": "Tiles &copy; Esri &mdash; Esri, DeLorme, NAVTEQ, TomTom, Intermap, iPC, USGS, FAO, NPS, NRCAN, GeoBase, Kadaster NL, Ordnance Survey, Esri Japan, METI, Esri China (Hong Kong), and the GIS User Community",
       "max_zoom": 24,
       "name": "Esri.ArcticOceanReference",
       "options": [
        "attribution",
        "bounds",
        "detect_retina",
        "max_native_zoom",
        "max_zoom",
        "min_native_zoom",
        "min_zoom",
        "no_wrap",
        "tile_size",
        "tms"
       ],
       "url": "http://server.arcgisonline.com/ArcGIS/rest/services/Polar/Arctic_Ocean_Reference/MapServer/tile/{z}/{y}/{x}"
      }
     },
     "e295a530c77747318c3db231a7343284": {
      "model_module": "jupyter-leaflet",
      "model_module_version": "^0.17.0",
      "model_name": "LeafletWMSLayerModel",
      "state": {
       "_model_module_version": "^0.17.0",
       "_view_module_version": "^0.17.0",
       "attribution": "ESA",
       "crs": {
        "custom": false,
        "name": "EPSG3857"
       },
       "format": "image/png",
       "layers": "WORLDCOVER_2020_S2_TCC",
       "name": "ESA Worldcover 2020 S2 TCC",
       "options": [
        "attribution",
        "bounds",
        "detect_retina",
        "format",
        "layers",
        "max_native_zoom",
        "max_zoom",
        "min_native_zoom",
        "min_zoom",
        "no_wrap",
        "styles",
        "tile_size",
        "tms",
        "transparent",
        "uppercase"
       ],
       "transparent": true,
       "url": "https://services.terrascope.be/wms/v2"
      }
     },
     "e2a2e8c571df48bb97404324f8c6e210": {
      "model_module": "@jupyter-widgets/base",
      "model_module_version": "1.2.0",
      "model_name": "LayoutModel",
      "state": {}
     },
     "e2baab629e7645909fdff94e0ee42639": {
      "model_module": "@jupyter-widgets/controls",
      "model_module_version": "1.5.0",
      "model_name": "DescriptionStyleModel",
      "state": {
       "description_width": ""
      }
     },
     "e3459f4a62404a4ba171397906dae306": {
      "model_module": "jupyter-leaflet",
      "model_module_version": "^0.17.0",
      "model_name": "LeafletWMSLayerModel",
      "state": {
       "_model_module_version": "^0.17.0",
       "_view_module_version": "^0.17.0",
       "attribution": "MRLC",
       "crs": {
        "custom": false,
        "name": "EPSG3857"
       },
       "format": "image/png",
       "layers": "NLCD_2016_Land_Cover_L48",
       "name": "NLCD 2016 CONUS Land Cover",
       "options": [
        "attribution",
        "bounds",
        "detect_retina",
        "format",
        "layers",
        "max_native_zoom",
        "max_zoom",
        "min_native_zoom",
        "min_zoom",
        "no_wrap",
        "styles",
        "tile_size",
        "tms",
        "transparent",
        "uppercase"
       ],
       "transparent": true,
       "url": "https://www.mrlc.gov/geoserver/mrlc_display/NLCD_2016_Land_Cover_L48/wms?"
      }
     },
     "e35ac173241e433fbec779deefc2496e": {
      "model_module": "@jupyter-widgets/base",
      "model_module_version": "1.2.0",
      "model_name": "LayoutModel",
      "state": {}
     },
     "e4d2597988b24bad9e12af274104c7a1": {
      "model_module": "@jupyter-widgets/controls",
      "model_module_version": "1.5.0",
      "model_name": "HTMLModel",
      "state": {
       "layout": "IPY_MODEL_48d03d7a4a5642c2a95a51b587597261",
       "style": "IPY_MODEL_eb7e3c40d1544adb80f00edf5557f153",
       "value": "<b>Pick multiple satellites by holding the control key:</b>         <br> - images prior to 2022/01/01 will be downloaded from Collection 1         <br> - images after 2022/01/01 will be automatically downloaded from Collection 2         <br> C01: LandSat Collection 1 : All dates before 2022/01/01        <br> C02: LandSat Collection 2 : All dates after 2022/01/01         <br> - Landsat 9 is only available in C02"
      }
     },
     "e525c12980754f3786aa34b0cc4d5957": {
      "model_module": "@jupyter-widgets/base",
      "model_module_version": "1.2.0",
      "model_name": "LayoutModel",
      "state": {
       "border": "1px solid black"
      }
     },
     "e53de786204e40e695be021ec8077628": {
      "model_module": "@jupyter-widgets/base",
      "model_module_version": "1.2.0",
      "model_name": "LayoutModel",
      "state": {}
     },
     "e5531d00b1a24ea1921968d20aa1e0a1": {
      "model_module": "@jupyter-widgets/controls",
      "model_module_version": "1.5.0",
      "model_name": "ToggleButtonModel",
      "state": {
       "button_style": "primary",
       "icon": "info",
       "layout": "IPY_MODEL_0df3d1a730924211a4731eb82bad4c87",
       "style": "IPY_MODEL_343cc0a0391a4524a26d45e0a1b5a5e3",
       "tooltip": "Get COG/STAC pixel value"
      }
     },
     "e5e5916ed14f423f94be4199e7d0b8af": {
      "model_module": "jupyter-leaflet",
      "model_module_version": "^0.17.0",
      "model_name": "LeafletGeoJSONModel",
      "state": {
       "_model_module_version": "^0.17.0",
       "_view_module_version": "^0.17.0",
       "data": {
        "features": [
         {
          "geometry": {
           "coordinates": [
            [
             [
              -124.17224422665804,
              40.858975785973804
             ],
             [
              -124.17280046433285,
              40.890498693728546
             ],
             [
              -124.13126107129395,
              40.89091366370934
             ],
             [
              -124.13072452456662,
              40.85939029784808
             ],
             [
              -124.17224422665804,
              40.858975785973804
             ]
            ]
           ],
           "type": "Polygon"
          },
          "id": "165",
          "properties": {
           "id": 165,
           "style": {
            "color": "blue",
            "fillColor": "blue",
            "fillOpacity": 0.1,
            "weight": 2
           }
          },
          "type": "Feature"
         },
         {
          "geometry": {
           "coordinates": [
            [
             [
              -124.17280046433285,
              40.890498693728546
             ],
             [
              -124.173357584085,
              40.92202142236781
             ],
             [
              -124.13179846888775,
              40.922436850884885
             ],
             [
              -124.13126107129395,
              40.89091366370934
             ],
             [
              -124.17280046433285,
              40.890498693728546
             ]
            ]
           ],
           "type": "Polygon"
          },
          "id": "167",
          "properties": {
           "id": 167,
           "style": {
            "color": "blue",
            "fillColor": "blue",
            "fillOpacity": 0.1,
            "weight": 2
           }
          },
          "type": "Feature"
         }
        ],
        "type": "FeatureCollection"
       },
       "hover_style": {
        "color": "aqua",
        "fillColor": "blue",
        "fillOpacity": 0.1
       },
       "name": "Selected ROIs"
      }
     },
     "e6476c0add8540f988d0cc867e833362": {
      "model_module": "jupyter-leaflet",
      "model_module_version": "^0.17.0",
      "model_name": "LeafletTileLayerModel",
      "state": {
       "_model_module_version": "^0.17.0",
       "_view_module_version": "^0.17.0",
       "attribution": "Justice Map",
       "max_zoom": 22,
       "name": "JusticeMap.plurality",
       "options": [
        "attribution",
        "bounds",
        "detect_retina",
        "max_native_zoom",
        "max_zoom",
        "min_native_zoom",
        "min_zoom",
        "no_wrap",
        "tile_size",
        "tms"
       ],
       "url": "https://www.justicemap.org/tile/county/plural/{z}/{x}/{y}.png"
      }
     },
     "e68bfc62b5594dca950553bb6a50eb8c": {
      "model_module": "@jupyter-widgets/base",
      "model_module_version": "1.2.0",
      "model_name": "LayoutModel",
      "state": {}
     },
     "e76b67750c5b46a284da28fb29de86a5": {
      "model_module": "@jupyter-widgets/output",
      "model_module_version": "1.0.0",
      "model_name": "OutputModel",
      "state": {
       "layout": "IPY_MODEL_8a1161fdbbbc489a9c2c846189c4f94a",
       "outputs": [
        {
         "name": "stdout",
         "output_type": "stream",
         "text": "Download_imagery called\nDownload in process\n"
        },
        {
         "data": {
          "application/vnd.jupyter.widget-view+json": {
           "model_id": "fd2a2d4e2df746bb85fdd49ddcde1740",
           "version_major": 2,
           "version_minor": 0
          },
          "text/plain": "Downloading ROIs:   0%|          | 0/2 [00:00<?, ?it/s]"
         },
         "metadata": {},
         "output_type": "display_data"
        },
        {
         "name": "stdout",
         "output_type": "stream",
         "text": "Number of images available between 2018-12-01 and 2019-03-01:\n- In Landsat Tier 1 & Sentinel-2 Level-1C:\n     L8: 3 images\n  Total to download: 3 images\n- In Landsat Tier 2 (not suitable for time-series analysis):\n     L8: 12 images\n  Total Tier 2: 12 images\n\nDownloading images:\nL8: 3 images\n100%\nSatellite images downloaded from GEE and save in C:\\1_USGS\\CoastSeg\\repos\\2_CoastSeg\\CoastSeg_fork\\Seg2Map\\data\\ID02022-10-10__21_hr_30_min32sec\ninputs: {'dates': ['2018-12-01', '2019-03-01'], 'sat_list': ['L8'], 'sitename': 'ID02022-10-10__21_hr_30_min32sec', 'filepath': 'C:\\\\1_USGS\\\\CoastSeg\\\\repos\\\\2_CoastSeg\\\\CoastSeg_fork\\\\Seg2Map\\\\data', 'roi_id': 165, 'polygon': [[[-124.17224422665804, 40.858975785973804], [-124.17280046433285, 40.890498693728546], [-124.13126107129395, 40.89091366370934], [-124.13072452456662, 40.85939029784808], [-124.17224422665804, 40.858975785973804]]], 'landsat_collection': 'C01'}\nSaving images as jpg:\nL8: 3 images\n100%\nSatellite images saved as .jpg in C:\\1_USGS\\CoastSeg\\repos\\2_CoastSeg\\CoastSeg_fork\\Seg2Map\\data\\ID02022-10-10__21_hr_30_min32sec\\jpg_files\\preprocessed\nNumber of images available between 2018-12-01 and 2019-03-01:\n- In Landsat Tier 1 & Sentinel-2 Level-1C:\n     L8: 7 images\n  Total to download: 7 images\n- In Landsat Tier 2 (not suitable for time-series analysis):\n     L8: 13 images\n  Total Tier 2: 13 images\n\nDownloading images:\nL8: 7 images\n100%\nSatellite images downloaded from GEE and save in C:\\1_USGS\\CoastSeg\\repos\\2_CoastSeg\\CoastSeg_fork\\Seg2Map\\data\\ID12022-10-10__21_hr_30_min32sec\ninputs: {'dates': ['2018-12-01', '2019-03-01'], 'sat_list': ['L8'], 'sitename': 'ID12022-10-10__21_hr_30_min32sec', 'filepath': 'C:\\\\1_USGS\\\\CoastSeg\\\\repos\\\\2_CoastSeg\\\\CoastSeg_fork\\\\Seg2Map\\\\data', 'roi_id': 167, 'polygon': [[[-124.17280046433285, 40.890498693728546], [-124.173357584085, 40.92202142236781], [-124.13179846888775, 40.922436850884885], [-124.13126107129395, 40.89091366370934], [-124.17280046433285, 40.890498693728546]]], 'landsat_collection': 'C01'}\nSaving images as jpg:\nL8: 7 images\n100%\nSatellite images saved as .jpg in C:\\1_USGS\\CoastSeg\\repos\\2_CoastSeg\\CoastSeg_fork\\Seg2Map\\data\\ID12022-10-10__21_hr_30_min32sec\\jpg_files\\preprocessed\n"
        },
        {
         "data": {
          "application/vnd.jupyter.widget-view+json": {
           "model_id": "eff4299f5cd64beea58c20b2881522c2",
           "version_major": 2,
           "version_minor": 0
          },
          "text/plain": "Saving settings:   0%|          | 0/2 [00:00<?, ?it/s]"
         },
         "metadata": {},
         "output_type": "display_data"
        }
       ]
      }
     },
     "e7ce3234e0d5472fa8984ac3369bf8ff": {
      "model_module": "@jupyter-widgets/base",
      "model_module_version": "1.2.0",
      "model_name": "LayoutModel",
      "state": {
       "margin": "0px 5px 0px 0px"
      }
     },
     "e8e2509ce99c45ffa6a3399134c3bf8d": {
      "model_module": "@jupyter-widgets/controls",
      "model_module_version": "1.5.0",
      "model_name": "DescriptionStyleModel",
      "state": {
       "description_width": ""
      }
     },
     "e994887e44164446bd64dcc70a9e2f5e": {
      "model_module": "jupyter-leaflet",
      "model_module_version": "^0.17.0",
      "model_name": "LeafletTileLayerModel",
      "state": {
       "_model_module_version": "^0.17.0",
       "_view_module_version": "^0.17.0",
       "attribution": "Geoportail France",
       "max_zoom": 19,
       "name": "GeoportailFrance.orthos",
       "options": [
        "attribution",
        "bounds",
        "detect_retina",
        "max_native_zoom",
        "max_zoom",
        "min_native_zoom",
        "min_zoom",
        "no_wrap",
        "tile_size",
        "tms"
       ],
       "url": "https://wxs.ign.fr/choisirgeoportail/geoportail/wmts?REQUEST=GetTile&SERVICE=WMTS&VERSION=1.0.0&STYLE=normal&TILEMATRIXSET=PM&FORMAT=image/jpeg&LAYER=ORTHOIMAGERY.ORTHOPHOTOS&TILEMATRIX={z}&TILEROW={y}&TILECOL={x}"
      }
     },
     "ea5a76825aca4a878a21e6976cdf6c30": {
      "model_module": "jupyter-leaflet",
      "model_module_version": "^0.17.0",
      "model_name": "LeafletTileLayerModel",
      "state": {
       "_model_module_version": "^0.17.0",
       "_view_module_version": "^0.17.0",
       "attribution": "Map data: (C) OpenStreetMap contributors | Map style: (C) waymarkedtrails.org (CC-BY-SA)",
       "name": "WaymarkedTrails.cycling",
       "options": [
        "attribution",
        "bounds",
        "detect_retina",
        "max_native_zoom",
        "max_zoom",
        "min_native_zoom",
        "min_zoom",
        "no_wrap",
        "tile_size",
        "tms"
       ],
       "url": "https://tile.waymarkedtrails.org/cycling/{z}/{x}/{y}.png"
      }
     },
     "eb7e3c40d1544adb80f00edf5557f153": {
      "model_module": "@jupyter-widgets/controls",
      "model_module_version": "1.5.0",
      "model_name": "DescriptionStyleModel",
      "state": {
       "description_width": ""
      }
     },
     "ec1d67e31c0646f0a79ede8be63e9b58": {
      "model_module": "jupyter-leaflet",
      "model_module_version": "^0.17.0",
      "model_name": "LeafletTileLayerModel",
      "state": {
       "_model_module_version": "^0.17.0",
       "_view_module_version": "^0.17.0",
       "attribution": "(C) OpenStreetMap contributors, Tiles courtesy of Breton OpenStreetMap Team",
       "max_zoom": 19,
       "name": "OpenStreetMap.BZH",
       "options": [
        "attribution",
        "bounds",
        "detect_retina",
        "max_native_zoom",
        "max_zoom",
        "min_native_zoom",
        "min_zoom",
        "no_wrap",
        "tile_size",
        "tms"
       ],
       "url": "https://tile.openstreetmap.bzh/br/{z}/{x}/{y}.png"
      }
     },
     "ed4e359837fb4b858e5f5dda0b05707a": {
      "model_module": "@jupyter-widgets/base",
      "model_module_version": "1.2.0",
      "model_name": "LayoutModel",
      "state": {
       "height": "auto",
       "padding": "0px 0px 0px 4px",
       "width": "auto"
      }
     },
     "ed6aed453c83429aabb4d6480ac2be0c": {
      "model_module": "jupyter-leaflet",
      "model_module_version": "^0.17.0",
      "model_name": "LeafletTileLayerModel",
      "state": {
       "_model_module_version": "^0.17.0",
       "_view_module_version": "^0.17.0",
       "attribution": "(C) OpenStreetMap contributors, vizualization CC-By-SA 2.0 Freemap.sk",
       "max_zoom": 16,
       "name": "FreeMapSK",
       "options": [
        "attribution",
        "bounds",
        "detect_retina",
        "max_native_zoom",
        "max_zoom",
        "min_native_zoom",
        "min_zoom",
        "no_wrap",
        "tile_size",
        "tms"
       ],
       "url": "https://a.freemap.sk/T/{z}/{x}/{y}.jpeg"
      }
     },
     "ee6ba3dc95b3412e80d7bcfc1a50696f": {
      "model_module": "@jupyter-widgets/controls",
      "model_module_version": "1.5.0",
      "model_name": "VBoxModel",
      "state": {
       "children": [
        "IPY_MODEL_6a94af4ac0134689a3d66cd69809e607"
       ],
       "layout": "IPY_MODEL_83866ed718fc4238b901395edaadb324"
      }
     },
     "ef91cf6347fd48f59b334ce5388725a7": {
      "model_module": "jupyter-leaflet",
      "model_module_version": "^0.17.0",
      "model_name": "LeafletTileLayerModel",
      "state": {
       "_model_module_version": "^0.17.0",
       "_view_module_version": "^0.17.0",
       "attribution": "Map memomaps.de CC-BY-SA, map data (C) OpenStreetMap contributors",
       "name": "OPNVKarte",
       "options": [
        "attribution",
        "bounds",
        "detect_retina",
        "max_native_zoom",
        "max_zoom",
        "min_native_zoom",
        "min_zoom",
        "no_wrap",
        "tile_size",
        "tms"
       ],
       "url": "https://tileserver.memomaps.de/tilegen/{z}/{x}/{y}.png"
      }
     },
     "ef9d66c5541548c396e7a4d2109bf72f": {
      "model_module": "@jupyter-widgets/controls",
      "model_module_version": "1.5.0",
      "model_name": "ButtonStyleModel",
      "state": {
       "button_color": "#ae3cf0"
      }
     },
     "eff4299f5cd64beea58c20b2881522c2": {
      "model_module": "@jupyter-widgets/controls",
      "model_module_version": "1.5.0",
      "model_name": "HBoxModel",
      "state": {
       "children": [
        "IPY_MODEL_fb6bc96c2d0f46028a99d43aa90337ad",
        "IPY_MODEL_a6844061a0ce41f880fc80497fcaf1a0",
        "IPY_MODEL_816cb04ca9b245f684a00fbfd82cf093"
       ],
       "layout": "IPY_MODEL_8897eaab512e45f19406d371d9482ebc"
      }
     },
     "f14f41c2010b4994ae50e9f78f030fb3": {
      "model_module": "@jupyter-widgets/base",
      "model_module_version": "1.2.0",
      "model_name": "LayoutModel",
      "state": {}
     },
     "f1cd42f139644e92b3361230ed163454": {
      "model_module": "@jupyter-widgets/base",
      "model_module_version": "1.2.0",
      "model_name": "LayoutModel",
      "state": {}
     },
     "f1e78e1878e0498a828a932733f8270a": {
      "model_module": "@jupyter-widgets/controls",
      "model_module_version": "1.5.0",
      "model_name": "DatePickerModel",
      "state": {
       "description": "End Date",
       "disabled": false,
       "layout": "IPY_MODEL_586344507ffb4c1484f071a5e2da5099",
       "style": "IPY_MODEL_69d0376b11c149f0a9d7671a0b41a3b6",
       "value": {
        "date": 1,
        "month": 2,
        "year": 2019
       }
      }
     },
     "f2edce928a7e45159925fd548b713e21": {
      "model_module": "jupyter-leaflet",
      "model_module_version": "^0.17.0",
      "model_name": "LeafletTileLayerModel",
      "state": {
       "_model_module_version": "^0.17.0",
       "_view_module_version": "^0.17.0",
       "attribution": "Datenquelle: basemap.at",
       "max_zoom": 19,
       "name": "BasemapAT.grau",
       "options": [
        "attribution",
        "bounds",
        "detect_retina",
        "max_native_zoom",
        "max_zoom",
        "min_native_zoom",
        "min_zoom",
        "no_wrap",
        "tile_size",
        "tms"
       ],
       "url": "https://maps.wien.gv.at/basemap/bmapgrau/normal/google3857/{z}/{y}/{x}.png"
      }
     },
     "f4aa2f18d26d4a3e9e7c75e83da90f18": {
      "model_module": "jupyter-leaflet",
      "model_module_version": "^0.17.0",
      "model_name": "LeafletTileLayerModel",
      "state": {
       "_model_module_version": "^0.17.0",
       "_view_module_version": "^0.17.0",
       "attribution": "© swisstopo",
       "name": "SwissFederalGeoportal.NationalMapColor",
       "options": [
        "attribution",
        "bounds",
        "detect_retina",
        "max_native_zoom",
        "max_zoom",
        "min_native_zoom",
        "min_zoom",
        "no_wrap",
        "tile_size",
        "tms"
       ],
       "url": "https://wmts.geo.admin.ch/1.0.0/ch.swisstopo.pixelkarte-farbe/default/current/3857/{z}/{x}/{y}.jpeg"
      }
     },
     "f4edcc70ca5349fab951cc1c5ccfe817": {
      "model_module": "@jupyter-widgets/controls",
      "model_module_version": "1.5.0",
      "model_name": "HBoxModel",
      "state": {
       "children": [
        "IPY_MODEL_9b6b8a7be6aa45b6801e6113c41998ce",
        "IPY_MODEL_650842a1d0574cac8afd86a2acadb62f"
       ],
       "layout": "IPY_MODEL_940993d101394eb0af7419f1de0349b3"
      }
     },
     "f5153341799247518cb0fb3fc902b955": {
      "model_module": "@jupyter-widgets/controls",
      "model_module_version": "1.5.0",
      "model_name": "HBoxModel",
      "state": {
       "children": [
        "IPY_MODEL_fce885a4ccae4d188cc9f7ca9e87034b",
        "IPY_MODEL_f1e78e1878e0498a828a932733f8270a"
       ],
       "layout": "IPY_MODEL_ba47bc68e4aa4b8c90f692ac47ecd530"
      }
     },
     "f5791bc25d4a4e6c9f1e9902bc245e18": {
      "model_module": "@jupyter-widgets/controls",
      "model_module_version": "1.5.0",
      "model_name": "ButtonModel",
      "state": {
       "description": "Generate ROI",
       "layout": "IPY_MODEL_a9537eded5584e51aa1671f4c5e82823",
       "style": "IPY_MODEL_ef9d66c5541548c396e7a4d2109bf72f"
      }
     },
     "f5b2b88740574c94acfa90c3a1e72aa9": {
      "model_module": "jupyter-leaflet",
      "model_module_version": "^0.17.0",
      "model_name": "LeafletTileLayerModel",
      "state": {
       "_model_module_version": "^0.17.0",
       "_view_module_version": "^0.17.0",
       "attribution": "Map data: (C) OpenStreetMap contributors | Map style: (C) waymarkedtrails.org (CC-BY-SA)",
       "name": "WaymarkedTrails.mtb",
       "options": [
        "attribution",
        "bounds",
        "detect_retina",
        "max_native_zoom",
        "max_zoom",
        "min_native_zoom",
        "min_zoom",
        "no_wrap",
        "tile_size",
        "tms"
       ],
       "url": "https://tile.waymarkedtrails.org/mtb/{z}/{x}/{y}.png"
      }
     },
     "f5d8a06e08164543bbb2966e0c602b8b": {
      "model_module": "jupyter-leaflet",
      "model_module_version": "^0.17.0",
      "model_name": "LeafletZoomControlModel",
      "state": {
       "_model_module_version": "^0.17.0",
       "_view_module_version": "^0.17.0",
       "options": [
        "position",
        "zoom_in_text",
        "zoom_in_title",
        "zoom_out_text",
        "zoom_out_title"
       ]
      }
     },
     "f5e2806fd5e549c8aed8d9dc80beaac1": {
      "model_module": "@jupyter-widgets/base",
      "model_module_version": "1.2.0",
      "model_name": "LayoutModel",
      "state": {}
     },
     "f66b642de6004b3c823a81e15b74db33": {
      "model_module": "@jupyter-widgets/base",
      "model_module_version": "1.2.0",
      "model_name": "LayoutModel",
      "state": {
       "width": "500px"
      }
     },
     "f76385ef059d4ed2a6dbdc9c95b4f815": {
      "model_module": "@jupyter-widgets/controls",
      "model_module_version": "1.5.0",
      "model_name": "ButtonModel",
      "state": {
       "description": "Extract Shorelines",
       "layout": "IPY_MODEL_564d0839011f48e7bd8f05712d6bd336",
       "style": "IPY_MODEL_a9049138a7764cab87370747ce65e0bc"
      }
     },
     "f7691ce2755e4d7189d67824cfc4bf22": {
      "model_module": "@jupyter-widgets/base",
      "model_module_version": "1.2.0",
      "model_name": "LayoutModel",
      "state": {
       "height": "auto",
       "padding": "0px 0px 0px 4px",
       "width": "auto"
      }
     },
     "f7c2c71400bd4479b0cc9aebfcb3de1b": {
      "model_module": "@jupyter-widgets/controls",
      "model_module_version": "1.5.0",
      "model_name": "ButtonStyleModel",
      "state": {
       "button_color": "#50bf8f"
      }
     },
     "f8343e18de5b463782b690412a29952d": {
      "model_module": "jupyter-leaflet",
      "model_module_version": "^0.17.0",
      "model_name": "LeafletTileLayerModel",
      "state": {
       "_model_module_version": "^0.17.0",
       "_view_module_version": "^0.17.0",
       "attribution": "Imagery provided by services from the Global Imagery Browse Services (GIBS), operated by the NASA/GSFC/Earth Science Data and Information System (ESDIS) with funding provided by NASA/HQ.",
       "max_zoom": 9,
       "name": "NASAGIBS.ModisAquaBands721CR",
       "options": [
        "attribution",
        "bounds",
        "detect_retina",
        "max_native_zoom",
        "max_zoom",
        "min_native_zoom",
        "min_zoom",
        "no_wrap",
        "tile_size",
        "tms"
       ],
       "url": "https://gibs.earthdata.nasa.gov/wmts/epsg3857/best/MODIS_Aqua_CorrectedReflectance_Bands721/default//GoogleMapsCompatible_Level9/{z}/{y}/{x}.jpg"
      }
     },
     "f946165ee75047998c7beaac308fb9f9": {
      "model_module": "@jupyter-widgets/controls",
      "model_module_version": "1.5.0",
      "model_name": "ToggleButtonModel",
      "state": {
       "button_style": "primary",
       "icon": "download",
       "layout": "IPY_MODEL_f7691ce2755e4d7189d67824cfc4bf22",
       "style": "IPY_MODEL_e8e2509ce99c45ffa6a3399134c3bf8d",
       "tooltip": "Download OSM data"
      }
     },
     "f9501312be984550b717a2e90c0c3d17": {
      "model_module": "@jupyter-widgets/base",
      "model_module_version": "1.2.0",
      "model_name": "LayoutModel",
      "state": {}
     },
     "f95e584a0015418a9d5296f2149a436c": {
      "model_module": "@jupyter-widgets/base",
      "model_module_version": "1.2.0",
      "model_name": "LayoutModel",
      "state": {}
     },
     "f97d89b1e7b44a3cb6063ec0f835f9c5": {
      "model_module": "jupyter-leaflet",
      "model_module_version": "^0.17.0",
      "model_name": "LeafletTileLayerModel",
      "state": {
       "_model_module_version": "^0.17.0",
       "_view_module_version": "^0.17.0",
       "attribution": "Datenquelle: basemap.at",
       "max_zoom": 20,
       "name": "BasemapAT.basemap",
       "options": [
        "attribution",
        "bounds",
        "detect_retina",
        "max_native_zoom",
        "max_zoom",
        "min_native_zoom",
        "min_zoom",
        "no_wrap",
        "tile_size",
        "tms"
       ],
       "url": "https://maps.wien.gv.at/basemap/geolandbasemap/normal/google3857/{z}/{y}/{x}.png"
      }
     },
     "fac2e01247c54ed299d11365e772cd9e": {
      "model_module": "jupyter-leaflet",
      "model_module_version": "^0.17.0",
      "model_name": "LeafletTileLayerModel",
      "state": {
       "_model_module_version": "^0.17.0",
       "_view_module_version": "^0.17.0",
       "attribution": "(C) OpenStreetMap contributors",
       "max_zoom": 15,
       "name": "HikeBike.HillShading",
       "options": [
        "attribution",
        "bounds",
        "detect_retina",
        "max_native_zoom",
        "max_zoom",
        "min_native_zoom",
        "min_zoom",
        "no_wrap",
        "tile_size",
        "tms"
       ],
       "url": "https://tiles.wmflabs.org/hillshading/{z}/{x}/{y}.png"
      }
     },
     "fae2000f82b348e18fde7ad0155f68ca": {
      "model_module": "@jupyter-widgets/controls",
      "model_module_version": "1.5.0",
      "model_name": "ToggleButtonModel",
      "state": {
       "button_style": "primary",
       "icon": "stack-exchange",
       "layout": "IPY_MODEL_7968c0ad25584d94a8b944e2d7848f7b",
       "style": "IPY_MODEL_750b9d481e614212b39ce2e4c5e8b9c8",
       "tooltip": "Discover STAC Catalog"
      }
     },
     "fb501366a8134a8f9fad0546d4f390e9": {
      "model_module": "@jupyter-widgets/controls",
      "model_module_version": "1.5.0",
      "model_name": "HBoxModel",
      "state": {
       "children": [
        "IPY_MODEL_74fc62225b704ee68042a430ca2710b4",
        "IPY_MODEL_7da2edad0a9b40248c4ecca6f32d0ce0"
       ],
       "layout": "IPY_MODEL_e68bfc62b5594dca950553bb6a50eb8c"
      }
     },
     "fb5fc18ce7334532b46db048bfcffc76": {
      "model_module": "jupyter-leaflet",
      "model_module_version": "^0.17.0",
      "model_name": "LeafletTileLayerModel",
      "state": {
       "_model_module_version": "^0.17.0",
       "_view_module_version": "^0.17.0",
       "attribution": "(C) Stadia Maps, (C) OpenMapTiles (C) OpenStreetMap contributors",
       "max_zoom": 20,
       "name": "Stadia.AlidadeSmoothDark",
       "options": [
        "attribution",
        "bounds",
        "detect_retina",
        "max_native_zoom",
        "max_zoom",
        "min_native_zoom",
        "min_zoom",
        "no_wrap",
        "tile_size",
        "tms"
       ],
       "url": "https://tiles.stadiamaps.com/tiles/alidade_smooth_dark/{z}/{x}/{y}.png"
      }
     },
     "fb6bc96c2d0f46028a99d43aa90337ad": {
      "model_module": "@jupyter-widgets/controls",
      "model_module_version": "1.5.0",
      "model_name": "HTMLModel",
      "state": {
       "layout": "IPY_MODEL_0efd4b4ac6ac4d0590641d0fe6f25315",
       "style": "IPY_MODEL_16677c422d6f40d3869743b745a0e733",
       "value": "Saving settings: 100%"
      }
     },
     "fbffa681d09e4b0694247cef83083d4f": {
      "model_module": "jupyter-leaflet",
      "model_module_version": "^0.17.0",
      "model_name": "LeafletWMSLayerModel",
      "state": {
       "_model_module_version": "^0.17.0",
       "_view_module_version": "^0.17.0",
       "attribution": "USGS",
       "crs": {
        "custom": false,
        "name": "EPSG3857"
       },
       "format": "image/png",
       "layers": "USGSNAIPImagery:NDVI_Color",
       "name": "USGS NAIP Imagery NDVI",
       "options": [
        "attribution",
        "bounds",
        "detect_retina",
        "format",
        "layers",
        "max_native_zoom",
        "max_zoom",
        "min_native_zoom",
        "min_zoom",
        "no_wrap",
        "styles",
        "tile_size",
        "tms",
        "transparent",
        "uppercase"
       ],
       "transparent": true,
       "url": "https://imagery.nationalmap.gov/arcgis/services/USGSNAIPImagery/ImageServer/WMSServer?"
      }
     },
     "fc997f6009764d579ad31d03454fa09a": {
      "model_module": "@jupyter-widgets/controls",
      "model_module_version": "1.5.0",
      "model_name": "DescriptionStyleModel",
      "state": {
       "description_width": ""
      }
     },
     "fce885a4ccae4d188cc9f7ca9e87034b": {
      "model_module": "@jupyter-widgets/controls",
      "model_module_version": "1.5.0",
      "model_name": "DatePickerModel",
      "state": {
       "description": "Start Date",
       "disabled": false,
       "layout": "IPY_MODEL_04135197f811410eae86dcf860351a2f",
       "style": "IPY_MODEL_e2baab629e7645909fdff94e0ee42639",
       "value": {
        "date": 1,
        "month": 11,
        "year": 2018
       }
      }
     },
     "fd02b52946ab495da092117537798176": {
      "model_module": "@jupyter-widgets/controls",
      "model_module_version": "1.5.0",
      "model_name": "DescriptionStyleModel",
      "state": {
       "description_width": ""
      }
     },
     "fd2a2d4e2df746bb85fdd49ddcde1740": {
      "model_module": "@jupyter-widgets/controls",
      "model_module_version": "1.5.0",
      "model_name": "HBoxModel",
      "state": {
       "children": [
        "IPY_MODEL_146b2d1881bc43e3bb644bedd10f1053",
        "IPY_MODEL_3c57cda3e6f5440888fa8731f86061a4",
        "IPY_MODEL_ff7e2fa85256497187b3164d9bc4b3b3"
       ],
       "layout": "IPY_MODEL_b233160c17df4b5e8862ff2b4a0bf662"
      }
     },
     "fdb9219f9ff4438597c180178e0e19bc": {
      "model_module": "@jupyter-widgets/base",
      "model_module_version": "1.2.0",
      "model_name": "LayoutModel",
      "state": {}
     },
     "fdc9337301a84a57b820c582ba9754f5": {
      "model_module": "@jupyter-widgets/controls",
      "model_module_version": "1.5.0",
      "model_name": "ToggleButtonModel",
      "state": {
       "button_style": "primary",
       "icon": "pencil-square-o",
       "layout": "IPY_MODEL_0eb07c4149244b07a289af5cd3f629e5",
       "style": "IPY_MODEL_a2d78ab4e00644e984ddfcc103150a9c",
       "tooltip": "Create vector data"
      }
     },
     "fe1328518dc242c1aaf464232a355b8e": {
      "model_module": "@jupyter-widgets/base",
      "model_module_version": "1.2.0",
      "model_name": "LayoutModel",
      "state": {}
     },
     "fe513f46a6f648f48328a655199de667": {
      "model_module": "@jupyter-widgets/controls",
      "model_module_version": "1.5.0",
      "model_name": "ToggleButtonModel",
      "state": {
       "button_style": "primary",
       "icon": "eraser",
       "layout": "IPY_MODEL_bcd038c8e387448e88317bdd14e7df30",
       "style": "IPY_MODEL_13067b18cb6441b186fa723ef9db037b",
       "tooltip": "Remove all drawn features"
      }
     },
     "fe571e7a43754def86bd8f75642d61de": {
      "model_module": "@jupyter-widgets/controls",
      "model_module_version": "1.5.0",
      "model_name": "IntSliderModel",
      "state": {
       "continuous_update": false,
       "description": "Small Fishnet:",
       "layout": "IPY_MODEL_f5e2806fd5e549c8aed8d9dc80beaac1",
       "max": 10000,
       "step": 100,
       "style": "IPY_MODEL_2434fa45aa474ef7bf881e9c470d8298",
       "value": 3500
      }
     },
     "ff4b376aea1341a0934b40d2001f6e51": {
      "model_module": "jupyter-leaflet",
      "model_module_version": "^0.17.0",
      "model_name": "LeafletTileLayerModel",
      "state": {
       "_model_module_version": "^0.17.0",
       "_view_module_version": "^0.17.0",
       "attribution": "Kaartgegevens (C) Kadaster",
       "max_zoom": 19,
       "name": "nlmaps.grijs",
       "options": [
        "attribution",
        "bounds",
        "detect_retina",
        "max_native_zoom",
        "max_zoom",
        "min_native_zoom",
        "min_zoom",
        "no_wrap",
        "tile_size",
        "tms"
       ],
       "url": "https://service.pdok.nl/brt/achtergrondkaart/wmts/v2_0/grijs/EPSG:3857/{z}/{x}/{y}.png"
      }
     },
     "ff7e2fa85256497187b3164d9bc4b3b3": {
      "model_module": "@jupyter-widgets/controls",
      "model_module_version": "1.5.0",
      "model_name": "HTMLModel",
      "state": {
       "layout": "IPY_MODEL_fe1328518dc242c1aaf464232a355b8e",
       "style": "IPY_MODEL_cf73f007671c4bd1997f4786d4a944fd",
       "value": " 2/2 [00:44&lt;00:00, 24.11s/it]"
      }
     }
    },
    "version_major": 2,
    "version_minor": 0
   }
  }
 },
 "nbformat": 4,
 "nbformat_minor": 4
}
