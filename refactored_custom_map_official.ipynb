{
 "cells": [
  {
   "cell_type": "code",
   "execution_count": null,
   "metadata": {},
   "outputs": [],
   "source": [
    "import os\n",
    "import datetime\n",
    "# Local Imports\n",
    "import coastseg\n",
    "from coastseg import coastseg_map\n",
    "from coastseg import coastseg_logs #must be the first module loaded to create logs folder\n",
    "\n",
    "# External Imports\n",
    "import ee\n",
    "from google.auth import exceptions as google_auth_exceptions\n",
    "from IPython.display import display, clear_output\n",
    "from tkinter import Tk,filedialog\n",
    "from ipywidgets import Button, HBox, VBox, Layout, DatePicker, HTML, RadioButtons, SelectMultiple, Output, Checkbox\n",
    "\n",
    "# suppress tensorflow warnings\n",
    "os.environ['TF_CPP_MIN_LOG_LEVEL'] = '3'"
   ]
  },
  {
   "cell_type": "markdown",
   "metadata": {},
   "source": [
    "## Authenticate and Initialize with Google Earth Engine (GEE)\n",
    "\n",
    "- Run this cell to initialize with GEE which will allow you to download remote sensing data from GEE.\n",
    "\n",
    "### First Time Users\n",
    "\n",
    "- In order to use Google Earth Engine (GEE) you will need to sign up to request access to use Google Earth Engine.https://signup.earthengine.google.com. You will only need to do this once and it takes only a day to get your account verified.\n",
    "\n",
    "### How `ee.Authenticate()` works\n",
    "\n",
    "- In order to initialize with GEE you will need an authorization token with is obtained by running `ee.Authenticate()`.This token lasts 7 days and during those 7 days you will not need to authenticate with google earth engine with an access code. Once the 7 days are up you will need to reauthenticate to use GEE again.\n"
   ]
  },
  {
   "cell_type": "code",
   "execution_count": null,
   "metadata": {},
   "outputs": [],
   "source": [
    "try:\n",
    "    ee.Initialize()\n",
    "except google_auth_exceptions.RefreshError as exception:\n",
    "    print(\"Please authenticate with Google:\\n\")\n",
    "    ee.Authenticate()\n",
    "    ee.Initialize()"
   ]
  },
  {
   "cell_type": "code",
   "execution_count": null,
   "metadata": {},
   "outputs": [],
   "source": [
    "# Date Widgets\n",
    "start_date=DatePicker(\n",
    "    description='Start Date',\n",
    "    value=datetime.date(2018, 12, 1),\n",
    "    disabled=False,\n",
    ")\n",
    "end_date=DatePicker(\n",
    "    description='End Date',\n",
    "    value=datetime.date(2019, 3, 1), #2019, 1, 1\n",
    "    disabled=False,\n",
    ")\n",
    "date_instr=HTML(\n",
    "    value=\"<b>Pick a date:</b>\",\n",
    "    layout=Layout(padding='10px')\n",
    ")\n",
    "dates_box=HBox([start_date,end_date])\n",
    "dates_vbox=VBox([date_instr,dates_box])\n",
    "\n",
    "\n",
    "collection_instr=HTML(\n",
    "    value=\"<b>Pick a collection</b>\\\n",
    "        <br> C01: LandSat Collection 1 \\\n",
    "        <br> C02: LandSat Collection 2  [2022/01/01 and beyond] \\\n",
    "        <br>      - Landsat 9 is only available in C02\",\n",
    "    layout=Layout(padding='10px')\n",
    ")\n",
    "collection_radio=RadioButtons(\n",
    "    options=['C01', 'C02'],\n",
    "    value='C01',\n",
    "    description='Collection:',\n",
    "    disabled=False\n",
    ")\n",
    "collection_vbox=VBox([collection_instr,collection_radio])\n",
    "\n",
    "sat_instr=HTML(\n",
    "    value=\"<b>Pick multiple satellites by holding the control key:</b> \\\n",
    "        <br> - images prior to 2022/01/01 will be downloaded from Collection 1 \\\n",
    "        <br> - images after 2022/01/01 will be automatically downloaded from Collection 2 \\\n",
    "        <br> C01: LandSat Collection 1 : All dates before 2022/01/01\\\n",
    "        <br> C02: LandSat Collection 2 : All dates after 2022/01/01 \\\n",
    "        <br> - Landsat 9 is only available in C02\",\n",
    "    layout=Layout(padding='10px')\n",
    ")\n",
    "\n",
    "\n",
    "satellite_selection=SelectMultiple(\n",
    "    options=['L5', 'L7', 'L8', 'S2'],\n",
    "    value=['L8'],\n",
    "    description='Satellites',\n",
    "    disabled=False\n",
    ")\n",
    "# value=['S2'],\n",
    "sat_vbox = VBox([sat_instr,satellite_selection])\n",
    "\n",
    "def handle_collection_change(change):\n",
    "    if change['new'] == 'C02':\n",
    "        satellite_selection.options=['L5', 'L7', 'L8', 'L9', 'S2']\n",
    "    else:\n",
    "        satellite_selection.options=['L5', 'L7', 'L8', 'S2']\n",
    "\n",
    "collection_radio.observe(handle_collection_change,\"value\")\n",
    "\n",
    "controls_vbox=VBox([dates_vbox, collection_vbox, sat_vbox])\n",
    "controls_vbox"
   ]
  },
  {
   "cell_type": "code",
   "execution_count": null,
   "metadata": {
    "scrolled": true
   },
   "outputs": [],
   "source": [
    "# CoastSat Download Variables\n",
    "# ------------------------------\n",
    "# Save the satellites selected to sat_list\n",
    "if satellite_selection.value:\n",
    "    sat_list = list(satellite_selection.value)\n",
    "elif not satellite_selection.value:\n",
    "    print(\"ERROR: You must select at least one satellite first\")\n",
    "# Save the dates selected by the user as well as the selected collection\n",
    "dates = [str(start_date.value),str(end_date.value)]\n",
    "landsat_collection = collection_radio.value\n",
    "print(f\"dates: {dates}\")\n",
    "print(f\"landsat_collection: {landsat_collection}\")\n",
    "print(f\"sat_list: {sat_list}\")"
   ]
  },
  {
   "cell_type": "markdown",
   "metadata": {},
   "source": [
    "## Settings for CoastSat\n",
    "\n",
    "Modify any of the following setting to determine how data is downloaded from CoastSat\n",
    "## Future Plan\n",
    " All of the settings and the widgets to control the settings will be incorperated into the main dashboard"
   ]
  },
  {
   "cell_type": "code",
   "execution_count": null,
   "metadata": {},
   "outputs": [],
   "source": [
    "settings = { \n",
    "    # general parameters:\n",
    "    'cloud_thresh': 0.5,        # threshold on maximum cloud cover\n",
    "     'dist_clouds': 300,        # ditance around clouds where shoreline can't be mapped\n",
    "    'output_epsg': 3857,        # epsg code of spatial reference system desired for the output   \n",
    "    # quality control:\n",
    "    'check_detection': False,    # if True, shows each shoreline detection to the user for validation\n",
    "    'adjust_detection': False,  # if True, allows user to adjust the postion of each shoreline by changing the threhold\n",
    "    'save_figure': True,        # if True, saves a figure showing the mapped shoreline for each image\n",
    "    # [ONLY FOR ADVANCED USERS] shoreline detection parameters:\n",
    "    'min_beach_area': 4500,     # minimum area (in metres^2) for an object to be labelled as a beach\n",
    "    'buffer_size': 550,         # radius (in metres) of the buffer around sandy pixels considered in the shoreline detection\n",
    "    'min_length_sl': 100,       # minimum length (in metres) of shoreline perimeter to be valid\n",
    "    'cloud_mask_issue': False,  # switch this parameter to True if sand pixels are masked (in black) on many images  \n",
    "    'sand_color': 'default',    # 'default', 'dark' (for grey/black sand beaches) or 'bright' (for white sand beaches)\n",
    "    'pan_off':'False',          # if True, no pan-sharpening is performed on Landsat 7,8 and 9 imagery\n",
    "    'create_plot':False,        # True create a matplotlib plot of the image with the datetime as the title\n",
    "    'max_dist_ref':25,\n",
    "    'along_dist' :25,\n",
    "}"
   ]
  },
  {
   "cell_type": "markdown",
   "metadata": {},
   "source": [
    "# Create the Map\n",
    "\n",
    "- Create the map here\n",
    "- Save all the settings created earlier\n",
    "- Save the list of satellites, dates, and the collection to coastseg_map \n",
    "\n",
    "\n",
    "## Future Plan\n",
    "Note: This save settings function will eventually be converted into a button.\n"
   ]
  },
  {
   "cell_type": "code",
   "execution_count": null,
   "metadata": {},
   "outputs": [],
   "source": [
    "coastsegmap=coastseg_map.CoastSeg_Map()"
   ]
  },
  {
   "cell_type": "code",
   "execution_count": null,
   "metadata": {},
   "outputs": [],
   "source": [
    "coastsegmap.save_settings(sat_list=sat_list, landsat_collection = landsat_collection,dates=dates,**settings)"
   ]
  },
  {
   "cell_type": "code",
   "execution_count": null,
   "metadata": {},
   "outputs": [],
   "source": [
    "coastsegmap.settings"
   ]
  },
  {
   "cell_type": "markdown",
   "metadata": {
    "tags": []
   },
   "source": [
    "# How to Use The Map\n",
    "\n",
    "---\n",
    "\n",
    "1. Use the rectangle tool to draw a bounding box along the coastline.\n",
    "2. Click `Generate ROI` to create ROI rectangles along the coastline in the bounding box. This may take some time.\n",
    "- You should see a coastline appear in yellow and some rectangles along it.\n",
    "3. Load transects into your bounding box with the `Load Transects` button. If any exist for the bounding box you selected they should appear.\n",
    "4. Click the ROIs you want to download.\n",
    "5. Once you've selected all the ROIs you want to download click `Downlod ROIs`\n",
    " - If any of the ROIs succesfully download they will have their own folder with all their data in the `data` directory in the `CoastSeg` directory\n",
    "6. To extract a timeseries of shorelines for the ROIs you downloaded click `Extract Shorelines`\n",
    "- Note this feature is still under development. This instruction will be updated later\n",
    "7. If any shorelines were extracted you can compute the cross distances along the transects and shoreline by clicking `Compute Transects` \n",
    "- Note this feature is still under development. This instruction will be updated later\n",
    "\n",
    "## How to Use Config Files\n",
    "---\n",
    "Config files are used to save and restore the state of your map. When you click `save config` or `download ROI` all the selected ROIs, transects, shorelines and the current bounding box loaded onto the map are saved to two config files: `config.json` and `config_gdf.geojson`. Extracted shorelines and cross distances for transects are not saved to the config files.\n",
    "\n",
    "## Saving Config Files\n",
    "---\n",
    "Config files are automatically saved in the `data` directory within each ROI directory when `Download ROIs` is clicked. \n",
    "Config files can be saved at any time when the `Save Config Files` button. If the ROIs selected on the map have been downloaded before and exist in the `data` directory then the config files will be stored in  within each ROI directory. If the ROIs on the map have not been downloaded before then the config files will be saved in the coastseg directory.\n",
    "\n",
    "#### Steps\n",
    "1. Click the ROIs on the map you want to save\n",
    "2. Click the `Save Config Files` button. \n",
    "- If the ROIs have been downloaded the config file is in each ROI's folder in file: 'config_gdf.geojson'\n",
    "- If the ROIs have not been downloaded the config file is in main CoastSeg directory in file: 'config_gdf.geojson'\n",
    "- The 'config.json' will be saved in the same directory as the 'config_gdf.geojson'.\n",
    "\n",
    "## Loading Config Files\n",
    "___\n",
    "### Load Config Files For Download ROIs\n",
    "To load config files for ROIs that have been downloaded before go to the `data` directory within `coastseg` then find the directory of the ROIs you want to upload. Inside that directory, for example the \n",
    "`ID_3_datetime10-20-22__07_09_07` directory, there should be `geojson` file named `config_gdf_id_3.geojson`. You should notice the `ID_<ROI ID NUMBER>` in the directory name and the geojson file match, in this case this is ROI id 3. Upload the `config_gdf_id_<roi id number>.geojson`.\n",
    "This will load the ROI in that directory and all the other selected ROIs,shorelines, transects, and the bounding box that were on the map when it was saved.\n",
    "#### Steps\n",
    "1. Click `Load Config`\n",
    "2. Open `data` directory\n",
    "3. Open ROI directory ex. **ID_3_datetime10-20-22__07_09_07**\n",
    "3. Select `config_gdf_id_<roi id number>.geojson` ex. **config_gdf_id_3.geojson**\n",
    "\n",
    "### Load Config Files For ROIs That Have Not Been Downloaded\n",
    "To load config files for ROIs that have not been downloaded before first click the `Load Config` button,  open the coastseg directory and select `config_gdf.geojson`. This will loaded the selected ROIs, shorelines, transects, and bounding box that was saved with the `Save Config Files` button. \n",
    "NOTE: You will not be able to extract shorelines or compute transects until you download the data for these ROIs.\n",
    "#### Steps\n",
    "1. Click `Load Config`\n",
    "2. Open `coastseg` application directory\n",
    "3. Select `config_gdf.geojson`"
   ]
  },
  {
   "cell_type": "code",
   "execution_count": null,
   "metadata": {},
   "outputs": [],
   "source": [
    "from src.coastseg.map_UI import UI\n",
    "coastseg_ui = UI(coastsegmap)\n",
    "coastseg_ui.create_dashboard()"
   ]
  },
  {
   "cell_type": "markdown",
   "metadata": {},
   "source": [
    "# The Rest of this Notebook is Still Under Active Development\n",
    "---"
   ]
  },
  {
   "cell_type": "markdown",
   "metadata": {},
   "source": [
    "# Extract Shorelines From Downloaded Imagery\n",
    "------\n",
    "Extracted Shorelines are shoreline vectors in the imagery you downloaded from GEE. The extracted shorelines are created by analyzing each `.tiff` file for each set of satellite imagery downloaded to check if a shoreline classifier can be applied to it. If the `.tiff` file meets the quality standards by being under the maxiumum theshold for cloud cover and other metrics the image is analyzed by a special image segmentation model which classifies the sand, water and surf in the image. Using the labeled images from the image segmentation model a shoreline vector will be detected in the image and saved to a dictionary entry for the ROI it belonged to. The extracted shoreline will appear in purple on the map.\n",
    "\n",
    "## Beta Shorelines Do Not Always Work Properly\n",
    "The classifier to extract shorelines is still under development and fails for complex shorelines sometimes. If you see extracted shorelines that zig and zag this is likely the result of the classifier failing to classifiy your image. You may want to try changing the sand color parameter of the classifier if the sand on your coast is dark or light.\n",
    "\n",
    "## Current Bugs Under Development\n",
    "1. Multiple shoreline vectors will be rendered onto the map at the same location because all the shorelines accross the time period you selected are calculated at the same time. In the next release of CoastSeg these will be rendered one at a time on the map and you will be able to select which dates are rendered.\n",
    "2. Sometimes shorelines will be not be able to be extracted from any of the imagery downloaded for the ROI on the map due to image quality issues such as excessive cloud cover or too many 'no data'(black) pixels in the downloaded imagery. When this is the case the extracted shoreline will not appear on the map. In a future update of coastseg there will be error messages to tell you when this has occured.\n",
    "\n",
    "\n",
    "## How to Extract Shorelines From Your Iamgery\n",
    "See the extracted shorelines for the ROIs selected on the map by first selecting your ROIs, downloading their data from GEE and then clicking extract shorelines.\n",
    "1. Click the ROIs to extract shorelines from on the map\n",
    "2. Download the ROIs data from GEE or already have it downloaded.\n",
    "3. Click `extract shorelines`\n",
    "4. You should see extracted shorelines appear in purple within some of your ROIs.\n",
    "5. Run the following code block to see the extracted shorelines for each ROI."
   ]
  },
  {
   "cell_type": "code",
   "execution_count": null,
   "metadata": {},
   "outputs": [],
   "source": [
    "if coastsegmap.rois is None or len(coastsegmap.selected_set) ==0:\n",
    "    print(\"Please select ROIs on the map first\")\n",
    "elif coastsegmap.rois is not None:\n",
    "    if coastsegmap.data_downloaded == False:\n",
    "        print(\"Download the data first to extract shorelines from it\")\n",
    "    elif coastsegmap.data_downloaded == True:\n",
    "        print(coastsegmap.rois.extracted_shorelines)"
   ]
  },
  {
   "cell_type": "markdown",
   "metadata": {},
   "source": [
    "# Compute Transect Cross Distance for Extracted Shorelines\n",
    "--------\n",
    "# How Compute Transect Cross Distance for Extracted Shorelines\n",
    "1. Click `Extract Shorelines`\n",
    "2.  Click `Compute Transects`"
   ]
  },
  {
   "cell_type": "markdown",
   "metadata": {},
   "source": [
    "## Run Models on Imagery\n",
    "1. Select if you want to use a GPU or not. By default you won't your computer's GPU\n",
    "2. Select if you want to use CRF post-processing or not. By default CRF post-processing is not enabled\n",
    "<br>**WARNING**: There is a bug with CRF post-processing and the models so you will need to enable CRF post-processing until it is fixed.\n",
    "3. Select whether your data is the type RGB or MNDWI\n",
    "4. Select the model you want to use\n",
    "5. Select Ensemble or Best (Ensemble is recommended) \n",
    "6. \n"
   ]
  },
  {
   "cell_type": "code",
   "execution_count": null,
   "metadata": {},
   "outputs": [],
   "source": [
    "from src.coastseg.UI_models import UI_Models\n",
    "models_ui = UI_Models()\n",
    "models_ui.create_dashboard()"
   ]
  },
  {
   "cell_type": "code",
   "execution_count": null,
   "metadata": {},
   "outputs": [],
   "source": []
  }
 ],
 "metadata": {
  "kernelspec": {
   "display_name": "Python 3 (ipykernel)",
   "language": "python",
   "name": "python3"
  },
  "language_info": {
   "codemirror_mode": {
    "name": "ipython",
    "version": 3
   },
   "file_extension": ".py",
   "mimetype": "text/x-python",
   "name": "python",
   "nbconvert_exporter": "python",
   "pygments_lexer": "ipython3",
   "version": "3.10.4"
  },
  "vscode": {
   "interpreter": {
    "hash": "53ab1155a6fba8dac112dd11f6ebbdb1bff1a2fc6fa221ef0a2c21c817842ec3"
   }
  },
  "widgets": {
   "application/vnd.jupyter.widget-state+json": {
    "state": {},
    "version_major": 2,
    "version_minor": 0
   }
  }
 },
 "nbformat": 4,
 "nbformat_minor": 4
}
