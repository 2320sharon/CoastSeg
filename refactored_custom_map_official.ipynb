{
 "cells": [
  {
   "cell_type": "code",
   "execution_count": null,
   "metadata": {},
   "outputs": [],
   "source": [
    "import os\n",
    "import datetime\n",
    "# Local Imports\n",
    "import coastseg\n",
    "from coastseg import coastseg_map\n",
    "from coastseg import coastseg_logs #must be the first module loaded to create logs folder\n",
    "\n",
    "# External Imports\n",
    "import ee\n",
    "from google.auth import exceptions as google_auth_exceptions\n",
    "from IPython.display import display, clear_output\n",
    "from tkinter import Tk,filedialog\n",
    "from ipywidgets import Button, HBox, VBox, Layout, DatePicker, HTML, RadioButtons, SelectMultiple, Output, Checkbox\n",
    "\n",
    "# suppress tensorflow warnings\n",
    "os.environ['TF_CPP_MIN_LOG_LEVEL'] = '3'"
   ]
  },
  {
   "cell_type": "markdown",
   "metadata": {},
   "source": [
    "## Authenticate and Initialize with Google Earth Engine (GEE)\n",
    "\n",
    "- Run this cell to initialize with GEE which will allow you to download remote sensing data from GEE.\n",
    "\n",
    "### First Time Users\n",
    "\n",
    "- In order to use Google Earth Engine (GEE) you will need to sign up to request access to use Google Earth Engine.https://signup.earthengine.google.com. You will only need to do this once and it takes only a day to get your account verified.\n",
    "\n",
    "### How `ee.Authenticate()` works\n",
    "\n",
    "- In order to initialize with GEE you will need an authorization token with is obtained by running `ee.Authenticate()`.This token lasts 7 days and during those 7 days you will not need to authenticate with google earth engine with an access code. Once the 7 days are up you will need to reauthenticate to use GEE again.\n"
   ]
  },
  {
   "cell_type": "code",
   "execution_count": null,
   "metadata": {},
   "outputs": [],
   "source": [
    "try:\n",
    "    ee.Initialize()\n",
    "except google_auth_exceptions.RefreshError as exception:\n",
    "    print(\"Please authenticate with Google:\\n\")\n",
    "    ee.Authenticate()\n",
    "    ee.Initialize()"
   ]
  },
  {
   "cell_type": "code",
   "execution_count": null,
   "metadata": {},
   "outputs": [],
   "source": [
    "# Date Widgets\n",
    "start_date=DatePicker(\n",
    "    description='Start Date',\n",
    "    value=datetime.date(2018, 12, 1),\n",
    "    disabled=False,\n",
    ")\n",
    "end_date=DatePicker(\n",
    "    description='End Date',\n",
    "    value=datetime.date(2019, 3, 1), #2019, 1, 1\n",
    "    disabled=False,\n",
    ")\n",
    "date_instr=HTML(\n",
    "    value=\"<b>Pick a date:</b>\",\n",
    "    layout=Layout(padding='10px')\n",
    ")\n",
    "dates_box=HBox([start_date,end_date])\n",
    "dates_vbox=VBox([date_instr,dates_box])\n",
    "\n",
    "\n",
    "collection_instr=HTML(\n",
    "    value=\"<b>Pick a collection</b>\\\n",
    "        <br> C01: LandSat Collection 1 \\\n",
    "        <br> C02: LandSat Collection 2  [2022/01/01 and beyond] \\\n",
    "        <br>      - Landsat 9 is only available in C02\",\n",
    "    layout=Layout(padding='10px')\n",
    ")\n",
    "collection_radio=RadioButtons(\n",
    "    options=['C01', 'C02'],\n",
    "    value='C01',\n",
    "    description='Collection:',\n",
    "    disabled=False\n",
    ")\n",
    "collection_vbox=VBox([collection_instr,collection_radio])\n",
    "\n",
    "sat_instr=HTML(\n",
    "    value=\"<b>Pick multiple satellites by holding the control key:</b> \\\n",
    "        <br> - images prior to 2022/01/01 will be downloaded from Collection 1 \\\n",
    "        <br> - images after 2022/01/01 will be automatically downloaded from Collection 2 \\\n",
    "        <br> C01: LandSat Collection 1 : All dates before 2022/01/01\\\n",
    "        <br> C02: LandSat Collection 2 : All dates after 2022/01/01 \\\n",
    "        <br> - Landsat 9 is only available in C02\",\n",
    "    layout=Layout(padding='10px')\n",
    ")\n",
    "\n",
    "\n",
    "satellite_selection=SelectMultiple(\n",
    "    options=['L5', 'L7', 'L8', 'S2'],\n",
    "    value=['L8'],\n",
    "    description='Satellites',\n",
    "    disabled=False\n",
    ")\n",
    "# value=['S2'],\n",
    "sat_vbox = VBox([sat_instr,satellite_selection])\n",
    "\n",
    "def handle_collection_change(change):\n",
    "    if change['new'] == 'C02':\n",
    "        satellite_selection.options=['L5', 'L7', 'L8', 'L9', 'S2']\n",
    "    else:\n",
    "        satellite_selection.options=['L5', 'L7', 'L8', 'S2']\n",
    "\n",
    "collection_radio.observe(handle_collection_change,\"value\")\n",
    "\n",
    "controls_vbox=VBox([dates_vbox, collection_vbox, sat_vbox])\n",
    "controls_vbox"
   ]
  },
  {
   "cell_type": "code",
   "execution_count": null,
   "metadata": {
    "scrolled": true
   },
   "outputs": [],
   "source": [
    "# CoastSat Download Variables\n",
    "# ------------------------------\n",
    "# Save the satellites selected to sat_list\n",
    "if satellite_selection.value:\n",
    "    sat_list = list(satellite_selection.value)\n",
    "elif not satellite_selection.value:\n",
    "    print(\"ERROR: You must select at least one satellite first\")\n",
    "# Save the dates selected by the user as well as the selected collection\n",
    "dates = [str(start_date.value),str(end_date.value)]\n",
    "collection = collection_radio.value\n",
    "print(f\"dates: {dates}\")\n",
    "print(f\"collection: {collection}\")\n",
    "print(f\"sat_list: {sat_list}\")"
   ]
  },
  {
   "cell_type": "markdown",
   "metadata": {},
   "source": [
    "## Settings for CoastSat\n",
    "\n",
    "Modify any of the following setting to determine how data is downloaded from CoastSat\n"
   ]
  },
  {
   "cell_type": "code",
   "execution_count": null,
   "metadata": {},
   "outputs": [],
   "source": [
    "settings = { \n",
    "    # general parameters:\n",
    "    'cloud_thresh': 0.5,        # threshold on maximum cloud cover\n",
    "     'dist_clouds': 300,        # ditance around clouds where shoreline can't be mapped\n",
    "    'output_epsg': 3857,        # epsg code of spatial reference system desired for the output   \n",
    "    # quality control:\n",
    "    'check_detection': False,    # if True, shows each shoreline detection to the user for validation\n",
    "    'adjust_detection': False,  # if True, allows user to adjust the postion of each shoreline by changing the threhold\n",
    "    'save_figure': True,        # if True, saves a figure showing the mapped shoreline for each image\n",
    "    # [ONLY FOR ADVANCED USERS] shoreline detection parameters:\n",
    "    'min_beach_area': 4500,     # minimum area (in metres^2) for an object to be labelled as a beach\n",
    "    'buffer_size': 550,         # radius (in metres) of the buffer around sandy pixels considered in the shoreline detection\n",
    "    'min_length_sl': 100,       # minimum length (in metres) of shoreline perimeter to be valid\n",
    "    'cloud_mask_issue': False,  # switch this parameter to True if sand pixels are masked (in black) on many images  \n",
    "    'sand_color': 'default',    # 'default', 'dark' (for grey/black sand beaches) or 'bright' (for white sand beaches)\n",
    "    'pan_off':'False',          # if True, no pan-sharpening is performed on Landsat 7,8 and 9 imagery\n",
    "    'create_plot':False,        # True create a matplotlib plot of the image with the datetime as the title\n",
    "    'max_dist_ref':25,\n",
    "    'along_dist' :25,\n",
    "}"
   ]
  },
  {
   "cell_type": "markdown",
   "metadata": {},
   "source": [
    "# Create the Map\n",
    "\n",
    "- Create the map object here\n",
    "- Save all the settings created earlier\n",
    "- Save the list of satellites, dates, and the collection to coastseg_map instance\n"
   ]
  },
  {
   "cell_type": "code",
   "execution_count": null,
   "metadata": {},
   "outputs": [],
   "source": [
    "coastsegmap=coastseg_map.CoastSeg_Map()"
   ]
  },
  {
   "cell_type": "code",
   "execution_count": null,
   "metadata": {},
   "outputs": [],
   "source": [
    "coastsegmap.save_settings(sat_list=sat_list, collection = collection,dates=dates,**settings)"
   ]
  },
  {
   "cell_type": "code",
   "execution_count": null,
   "metadata": {},
   "outputs": [],
   "source": [
    "coastsegmap.settings"
   ]
  },
  {
   "cell_type": "markdown",
   "metadata": {
    "tags": []
   },
   "source": [
    "# How to Use The Map\n",
    "\n",
    "---\n",
    "\n",
    "1. Use the rectangle tool to draw a bounding box along the coastline.\n",
    "2. Click `Generate ROI` to create ROI rectangles along the coastline in the bounding box. This may take some time.\n",
    "\n",
    "- You should see a coastline appear in yellow and some rectangles along it.\n",
    "\n",
    "3. Click 1 or more ROIs then click `Save ROI` to save these ROIs for downloading later\n",
    "4. You're ready to download the ROIs. Run the next block of code.\n",
    "\n",
    "## Config Files\n",
    "---\n",
    "Config files are used to save the state of your map. When you click `save config` or `download ROI` all the  Selected ROIs, transects, shorelines and the current bounding box loaded onto the map are saved to two config files. Extracted shorelines and transects are not saved to the config files.\n",
    "\n",
    "## Saving Config Files\n",
    "---\n",
    "Config files are automatically saved in the `data` directory within each ROI directory when `Download ROIs` is clicked. \n",
    "Config files can be saved at any time when the `Save Config Files` button. If the ROIs selected on the map have been downloaded before and exist in the `data` directory then the config files will be stored in  within each ROI directory. If the ROIs on the map have not been downloaded before then the config files will be saved in the coastseg directory.\n",
    "#### Steps\n",
    "1. Click the ROIs on the map you want to save\n",
    "2. Click the `Save Config Files` button. \n",
    "\n",
    "## Loading Config Files\n",
    "___\n",
    "### Load Config Files For Download ROIs\n",
    "To load config files for ROIs that have been downloaded before go to the `data` directory within `coastseg` then find the directory of the ROIs you want to upload. Inside that directory, for example the \n",
    "`ID_3_datetime10-20-22__07_09_07` directory, there should be `geojson` file named `config_gdf_id_3.geojson`. You should notice the `ID_<ROI ID NUMBER>` in the directory name and the geojson file match, in this case this is ROI id 3. Upload the `config_gdf_id_<roi id number>.geojson`.\n",
    "This will load the ROI in that directory and all the other selected ROIs,shorelines, transects, and the bounding box that were on the map when it was saved.\n",
    "#### Steps\n",
    "1. Click `Load Config`\n",
    "2. Open `data` directory\n",
    "3. Open ROI directory ex. **ID_3_datetime10-20-22__07_09_07**\n",
    "3. Select `config_gdf_id_<roi id number>.geojson` ex. **config_gdf_id_3.geojson**\n",
    "\n",
    "### Load Config Files For ROIs That Have Not Been Downloaded\n",
    "To load config files for ROIs that have not been downloaded before first click the `Load Config` button,  open the coastseg directory and select `config_gdf.geojson`. This will loaded the selected ROIs, shorelines, transects, and bounding box that was saved with the `Save Config Files` button. \n",
    "NOTE: You will not be able to extract shorelines or compute transects until you download the data for these ROIs.\n",
    "#### Steps\n",
    "1. Click `Load Config`\n",
    "2. Open `coastseg` application directory\n",
    "3. Select `config_gdf.geojson`"
   ]
  },
  {
   "cell_type": "code",
   "execution_count": null,
   "metadata": {},
   "outputs": [],
   "source": [
    "from src.coastseg.map_UI import UI\n",
    "coastseg_ui = UI(coastsegmap)\n",
    "coastseg_ui.create_dashboard()"
   ]
  },
  {
   "cell_type": "markdown",
   "metadata": {},
   "source": [
    "# Extract Shorelines From Downloaded Imagery\n",
    "------\n",
    "Extracted Shorelines are shoreline vectors in the imagery you downloaded from GEE. The extracted shorelines are created by analyzing each `.tiff` file for each set of satellite imagery downloaded to check if a shoreline classifier can be applied to it. If the `.tiff` file meets the quality standards by being under the maxiumum theshold for cloud cover and other metrics the image is analyzed by a special image segmentation model which classifies the sand, water and surf in the image. Using the labeled images from the image segmentation model a shoreline vector will be detected in the image and saved to a dictionary entry for the ROI it belonged to. The extracted shoreline will appear in purple on the map.\n",
    "\n",
    "## Beta Shorelines Do Not Always Work Properly\n",
    "The classifier to extract shorelines is still under development and fails for complex shorelines sometimes. If you see extracted shorelines that zig and zag this is likely the result of the classifier failing to classifiy your image. You may want to try changing the sand color parameter of the classifier if the sand on your coast is dark or light.\n",
    "\n",
    "## Current Bugs Under Development\n",
    "1. Multiple shoreline vectors will be rendered onto the map at the same location because all the shorelines accross the time period you selected are calculated at the same time. In the next release of CoastSeg these will be rendered one at a time on the map and you will be able to select which dates are rendered.\n",
    "2. Sometimes shorelines will be not be able to be extracted from any of the imagery downloaded for the ROI on the map due to image quality issues such as excessive cloud cover or too many 'no data'(black) pixels in the downloaded imagery. When this is the case the extracted shoreline will not appear on the map. In a future update of coastseg there will be error messages to tell you when this has occured.\n",
    "\n",
    "\n",
    "## How to Extract Shorelines From Your Iamgery\n",
    "See the extracted shorelines for the ROIs selected on the map by first selecting your ROIs, downloading their data from GEE and then clicking extract shorelines.\n",
    "1. Click the ROIs to extract shorelines from on the map\n",
    "2. Download the ROIs data from GEE or already have it downloaded.\n",
    "3. Click `extract shorelines`\n",
    "4. You should see extracted shorelines appear in purple within some of your ROIs.\n",
    "5. Run the following code block to see the extracted shorelines for each ROI."
   ]
  },
  {
   "cell_type": "code",
   "execution_count": null,
   "metadata": {},
   "outputs": [],
   "source": [
    "if coastsegmap.rois is None or len(coastsegmap.selected_set) ==0:\n",
    "    print(\"Please select ROIs on the map first\")\n",
    "elif coastsegmap.rois is not None:\n",
    "    if coastsegmap.data_downloaded == False:\n",
    "        print(\"Download the data first to extract shorelines from it\")\n",
    "    elif coastsegmap.data_downloaded == True:\n",
    "        print(coastsegmap.rois.extracted_shorelines)"
   ]
  },
  {
   "cell_type": "markdown",
   "metadata": {},
   "source": [
    "# Compute Transect Cross Distance for Extracted Shorelines\n",
    "--------\n",
    "# How Compute Transect Cross Distance for Extracted Shorelines\n",
    "1. Click `Extract Shorelines`\n",
    "2.  Click `Compute Transects`"
   ]
  },
  {
   "cell_type": "code",
   "execution_count": null,
   "metadata": {},
   "outputs": [],
   "source": []
  },
  {
   "cell_type": "code",
   "execution_count": null,
   "metadata": {},
   "outputs": [],
   "source": [
    "coastsegmap.rois.master_config"
   ]
  },
  {
   "cell_type": "code",
   "execution_count": null,
   "metadata": {},
   "outputs": [],
   "source": [
    "coastsegmap.data_downloaded"
   ]
  },
  {
   "cell_type": "code",
   "execution_count": null,
   "metadata": {},
   "outputs": [],
   "source": [
    "coastsegmap.rois.inputs_dict"
   ]
  },
  {
   "cell_type": "code",
   "execution_count": null,
   "metadata": {},
   "outputs": [],
   "source": [
    "coastsegmap.selected_ROI_layer"
   ]
  },
  {
   "cell_type": "code",
   "execution_count": null,
   "metadata": {},
   "outputs": [],
   "source": [
    "coastsegmap.rois.gdf['id']"
   ]
  },
  {
   "cell_type": "code",
   "execution_count": null,
   "metadata": {},
   "outputs": [],
   "source": [
    "for roi in self.selected_ROI_layer.data[\"features\"]:"
   ]
  },
  {
   "cell_type": "markdown",
   "metadata": {},
   "source": [
    "## Run Models on Imagery\n",
    "1. Select if you want to use a GPU or not. By default you won't your computer's GPU\n",
    "2. Select if you want to use CRF post-processing or not. By default CRF post-processing is not enabled\n",
    "<br>**WARNING**: There is a bug with CRF post-processing and the models so you will need to enable CRF post-processing until it is fixed.\n",
    "3. Select whether your data is the type RGB or MNDWI\n",
    "4. Select the model you want to use\n",
    "5. Select Ensemble or Best (Ensemble is recommended) \n",
    "6. \n"
   ]
  },
  {
   "cell_type": "code",
   "execution_count": null,
   "metadata": {},
   "outputs": [],
   "source": [
    "from src.coastseg.UI_models import UI_Models\n",
    "models_ui = UI_Models()\n",
    "models_ui.create_dashboard()"
   ]
  },
  {
   "cell_type": "code",
   "execution_count": null,
   "metadata": {},
   "outputs": [],
   "source": []
  }
 ],
 "metadata": {
  "kernelspec": {
   "display_name": "Python 3 (ipykernel)",
   "language": "python",
   "name": "python3"
  },
  "language_info": {
   "codemirror_mode": {
    "name": "ipython",
    "version": 3
   },
   "file_extension": ".py",
   "mimetype": "text/x-python",
   "name": "python",
   "nbconvert_exporter": "python",
   "pygments_lexer": "ipython3",
   "version": "3.9.13"
  },
  "vscode": {
   "interpreter": {
    "hash": "53ab1155a6fba8dac112dd11f6ebbdb1bff1a2fc6fa221ef0a2c21c817842ec3"
   }
  },
  "widgets": {
   "application/vnd.jupyter.widget-state+json": {
    "state": {
     "0051385707e6472ab9958e5048b09ec5": {
      "model_module": "@jupyter-widgets/controls",
      "model_module_version": "1.5.0",
      "model_name": "DescriptionStyleModel",
      "state": {
       "description_width": ""
      }
     },
     "011cef40cd0b4296b31cf0cc6cbdebcb": {
      "model_module": "jupyter-leaflet",
      "model_module_version": "^0.17.0",
      "model_name": "LeafletGeoJSONModel",
      "state": {
       "_model_module_version": "^0.17.0",
       "_view_module_version": "^0.17.0",
       "data": {
        "features": [
         {
          "geometry": {
           "coordinates": [
            [
             [
              -124.17404858142513,
              40.86422220794567
             ],
             [
              -124.1746854497345,
              40.9002483174463
             ],
             [
              -124.12720484834989,
              40.9007222145803
             ],
             [
              -124.12659370860285,
              40.86469550725421
             ],
             [
              -124.17404858142513,
              40.86422220794567
             ]
            ]
           ],
           "type": "Polygon"
          },
          "id": "0",
          "properties": {
           "id": "0",
           "style": {
            "color": "#555555",
            "fillOpacity": 0.1,
            "fill_color": "#555555",
            "weight": 1
           }
          },
          "type": "Feature"
         },
         {
          "geometry": {
           "coordinates": [
            [
             [
              -124.17404858142513,
              40.86422220794567
             ],
             [
              -124.17460577811191,
              40.89574506655364
             ],
             [
              -124.1330631297143,
              40.89616072971841
             ],
             [
              -124.13252562911848,
              40.86463741225173
             ],
             [
              -124.17404858142513,
              40.86422220794567
             ]
            ]
           ],
           "type": "Polygon"
          },
          "id": "1",
          "properties": {
           "id": "1",
           "style": {
            "color": "#555555",
            "fillOpacity": 0.1,
            "fill_color": "#555555",
            "weight": 1
           }
          },
          "type": "Feature"
         }
        ],
        "type": "FeatureCollection"
       },
       "hover_style": {
        "color": "crimson",
        "fillOpacity": 0.1
       },
       "name": "ROIs",
       "style": {
        "color": "#555555",
        "fillOpacity": 0.1,
        "fill_color": "#555555",
        "weight": 1
       }
      }
     },
     "01cf202fa138454fa62c5259965bc3e6": {
      "model_module": "jupyter-leaflet",
      "model_module_version": "^0.17.0",
      "model_name": "LeafletTileLayerModel",
      "state": {
       "_model_module_version": "^0.17.0",
       "_view_module_version": "^0.17.0",
       "attribution": "Map tiles by <a href=\"https://labs.strava.com/heatmap\">Strava 2021</a>",
       "max_zoom": 15,
       "name": "Strava.All",
       "options": [
        "attribution",
        "bounds",
        "detect_retina",
        "max_native_zoom",
        "max_zoom",
        "min_native_zoom",
        "min_zoom",
        "no_wrap",
        "tile_size",
        "tms"
       ],
       "url": "https://heatmap-external-a.strava.com/tiles/all/hot/{z}/{x}/{y}.png"
      }
     },
     "023b53ea673a4df19f32e4676815438b": {
      "model_module": "@jupyter-widgets/controls",
      "model_module_version": "1.5.0",
      "model_name": "HBoxModel",
      "state": {
       "children": [
        "IPY_MODEL_15e7dafd68ff49b4884d14a74dae4217",
        "IPY_MODEL_e9a00fbb4dfa48628a6f2851f110caea",
        "IPY_MODEL_520aae8b252b486ba852bacb9a45190c"
       ],
       "layout": "IPY_MODEL_2f63fa597a154766a3dc70bc76fac2ed"
      }
     },
     "024dc37214e14590bc9cc5ac726f289f": {
      "model_module": "@jupyter-widgets/base",
      "model_module_version": "1.2.0",
      "model_name": "LayoutModel",
      "state": {
       "margin": "0px 5px 0px 5px"
      }
     },
     "0314c89cb005411dac5134fe9009f344": {
      "model_module": "jupyter-leaflet",
      "model_module_version": "^0.17.0",
      "model_name": "LeafletMapStyleModel",
      "state": {
       "_model_module_version": "^0.17.0"
      }
     },
     "039770ecb0764178a53fd595a8a5ddc4": {
      "model_module": "jupyter-leaflet",
      "model_module_version": "^0.17.0",
      "model_name": "LeafletMapStyleModel",
      "state": {
       "_model_module_version": "^0.17.0",
       "cursor": "default"
      }
     },
     "03b07eae794a41119f95450add1c7c33": {
      "model_module": "jupyter-leaflet",
      "model_module_version": "^0.17.0",
      "model_name": "LeafletWMSLayerModel",
      "state": {
       "_model_module_version": "^0.17.0",
       "_view_module_version": "^0.17.0",
       "attribution": "USGS",
       "crs": {
        "custom": false,
        "name": "EPSG3857"
       },
       "format": "image/png",
       "layers": "0",
       "name": "USGS Hydrography",
       "options": [
        "attribution",
        "bounds",
        "detect_retina",
        "format",
        "layers",
        "max_native_zoom",
        "max_zoom",
        "min_native_zoom",
        "min_zoom",
        "no_wrap",
        "styles",
        "tile_size",
        "tms",
        "transparent",
        "uppercase"
       ],
       "transparent": true,
       "url": "https://basemap.nationalmap.gov/arcgis/services/USGSHydroCached/MapServer/WMSServer?"
      }
     },
     "03c95a373eab49d0a75ad6c47e218757": {
      "model_module": "@jupyter-widgets/base",
      "model_module_version": "1.2.0",
      "model_name": "LayoutModel",
      "state": {}
     },
     "03e728cd1f1c4ff38b7bd7b7f47abd3a": {
      "model_module": "@jupyter-widgets/base",
      "model_module_version": "1.2.0",
      "model_name": "LayoutModel",
      "state": {}
     },
     "0570cdf9fa8c4dacabcaf0ff88656e50": {
      "model_module": "jupyter-leaflet",
      "model_module_version": "^0.17.0",
      "model_name": "LeafletMapStyleModel",
      "state": {
       "_model_module_version": "^0.17.0",
       "cursor": "wait"
      }
     },
     "0629ab031664479aad0d39df596584cf": {
      "model_module": "@jupyter-widgets/controls",
      "model_module_version": "1.5.0",
      "model_name": "HBoxModel",
      "state": {
       "children": [
        "IPY_MODEL_0b5e390057a240b0a949dbedad4a6142",
        "IPY_MODEL_eeeee501d9d3477685c5275dd8df96b0"
       ],
       "layout": "IPY_MODEL_22ba6285d23642cd8473c465eb108dd0"
      }
     },
     "06b9b242d18f4e6fb1938fb92d4703b9": {
      "model_module": "jupyter-leaflet",
      "model_module_version": "^0.17.0",
      "model_name": "LeafletMapStyleModel",
      "state": {
       "_model_module_version": "^0.17.0",
       "cursor": "default"
      }
     },
     "06bc55c689494cab972ad5778a4105df": {
      "model_module": "@jupyter-widgets/controls",
      "model_module_version": "1.5.0",
      "model_name": "DescriptionStyleModel",
      "state": {
       "description_width": ""
      }
     },
     "06de5dc81c67481a8497b079cf6e13c6": {
      "model_module": "jupyter-leaflet",
      "model_module_version": "^0.17.0",
      "model_name": "LeafletMapStyleModel",
      "state": {
       "_model_module_version": "^0.17.0",
       "cursor": "default"
      }
     },
     "07531327208b42fa827d2002628945e9": {
      "model_module": "jupyter-leaflet",
      "model_module_version": "^0.17.0",
      "model_name": "LeafletTileLayerModel",
      "state": {
       "_model_module_version": "^0.17.0",
       "_view_module_version": "^0.17.0",
       "attribution": "(C) OpenStreetMap contributors",
       "max_zoom": 19,
       "name": "OpenStreetMap.Mapnik",
       "options": [
        "attribution",
        "bounds",
        "detect_retina",
        "max_native_zoom",
        "max_zoom",
        "min_native_zoom",
        "min_zoom",
        "no_wrap",
        "tile_size",
        "tms"
       ],
       "url": "https://a.tile.openstreetmap.org/{z}/{x}/{y}.png"
      }
     },
     "07b5f16e6d504d5cad2f74905ebc8729": {
      "model_module": "jupyter-leaflet",
      "model_module_version": "^0.17.0",
      "model_name": "LeafletTileLayerModel",
      "state": {
       "_model_module_version": "^0.17.0",
       "_view_module_version": "^0.17.0",
       "attribution": "Map tiles by Stamen Design, CC BY 3.0 -- Map data (C) OpenStreetMap contributors",
       "max_zoom": 20,
       "name": "Stamen.TonerHybrid",
       "options": [
        "attribution",
        "bounds",
        "detect_retina",
        "max_native_zoom",
        "max_zoom",
        "min_native_zoom",
        "min_zoom",
        "no_wrap",
        "tile_size",
        "tms"
       ],
       "url": "https://stamen-tiles-a.a.ssl.fastly.net/toner-hybrid/{z}/{x}/{y}.png"
      }
     },
     "0841045e102d4d4f8da051d61ec0cf2e": {
      "model_module": "jupyter-leaflet",
      "model_module_version": "^0.17.0",
      "model_name": "LeafletWMSLayerModel",
      "state": {
       "_model_module_version": "^0.17.0",
       "_view_module_version": "^0.17.0",
       "attribution": "MRLC",
       "crs": {
        "custom": false,
        "name": "EPSG3857"
       },
       "format": "image/png",
       "layers": "NLCD_2013_Land_Cover_L48",
       "name": "NLCD 2013 CONUS Land Cover",
       "options": [
        "attribution",
        "bounds",
        "detect_retina",
        "format",
        "layers",
        "max_native_zoom",
        "max_zoom",
        "min_native_zoom",
        "min_zoom",
        "no_wrap",
        "styles",
        "tile_size",
        "tms",
        "transparent",
        "uppercase"
       ],
       "transparent": true,
       "url": "https://www.mrlc.gov/geoserver/mrlc_display/NLCD_2013_Land_Cover_L48/wms?"
      }
     },
     "08d507df7ecb440f96a67ad4afad1c6c": {
      "model_module": "jupyter-leaflet",
      "model_module_version": "^0.17.0",
      "model_name": "LeafletTileLayerModel",
      "state": {
       "_model_module_version": "^0.17.0",
       "_view_module_version": "^0.17.0",
       "attribution": "Map tiles by Stamen Design, CC BY 3.0 -- Map data (C) OpenStreetMap contributors",
       "max_zoom": 16,
       "name": "Stamen.Watercolor",
       "options": [
        "attribution",
        "bounds",
        "detect_retina",
        "max_native_zoom",
        "max_zoom",
        "min_native_zoom",
        "min_zoom",
        "no_wrap",
        "tile_size",
        "tms"
       ],
       "url": "https://stamen-tiles-a.a.ssl.fastly.net/watercolor/{z}/{x}/{y}.jpg"
      }
     },
     "08fd8945366f44ff90fda9958c6edd1e": {
      "model_module": "@jupyter-widgets/base",
      "model_module_version": "1.2.0",
      "model_name": "LayoutModel",
      "state": {
       "height": "auto",
       "padding": "0px 0px 0px 4px",
       "width": "auto"
      }
     },
     "090264ef3a1d464f9c2d3f52d07fdc83": {
      "model_module": "@jupyter-widgets/controls",
      "model_module_version": "1.5.0",
      "model_name": "DescriptionStyleModel",
      "state": {
       "description_width": ""
      }
     },
     "0a67d07cb9aa4f7aac1e879162f63e48": {
      "model_module": "@jupyter-widgets/controls",
      "model_module_version": "1.5.0",
      "model_name": "ButtonModel",
      "state": {
       "description": "Load Shoreline",
       "layout": "IPY_MODEL_1fde95e9d40a45e0a2eba6f0c9ac298a",
       "style": "IPY_MODEL_5b366c5755974b5caeab65794c738c66"
      }
     },
     "0aac358468644e6f90334e0152f92183": {
      "model_module": "@jupyter-widgets/controls",
      "model_module_version": "1.5.0",
      "model_name": "ButtonStyleModel",
      "state": {
       "button_color": "#50bf8f"
      }
     },
     "0ab80f43bec342ba8cba76272c343277": {
      "model_module": "@jupyter-widgets/controls",
      "model_module_version": "1.5.0",
      "model_name": "HTMLModel",
      "state": {
       "layout": "IPY_MODEL_15282ea08f034c0984e5abe1d650dc26",
       "style": "IPY_MODEL_6b311f517b5b4d1e9f5610533c0ef0d4",
       "value": "<h2><b>Load ROIs/BBox</b></h2>                You can upload ROIs or Bbox geojson file.                    <li> Load BBox: Load bounding box from geojson file (ex. 'bbox.geojson')</li>                <li> Load ROIs: Load ROIs from geojson file (ex. 'rois.geojson')</li>                    "
      }
     },
     "0ac8be2e5e2f43a596a6bf92a367d6fe": {
      "model_module": "@jupyter-widgets/controls",
      "model_module_version": "1.5.0",
      "model_name": "DescriptionStyleModel",
      "state": {
       "description_width": ""
      }
     },
     "0b4e76677ceb4cd681a1f7d3f5a468bc": {
      "model_module": "jupyter-leaflet",
      "model_module_version": "^0.17.0",
      "model_name": "LeafletGeoJSONModel",
      "state": {
       "_model_module_version": "^0.17.0",
       "_view_module_version": "^0.17.0",
       "data": {
        "features": [
         {
          "geometry": {
           "coordinates": [
            [
             -124.16368350717684,
             40.86278395563743
            ],
            [
             -124.1680648494752,
             40.8641861890271
            ]
           ],
           "type": "LineString"
          },
          "id": "7217",
          "properties": {
           "id": "usa_CA_0288-0122",
           "slope": 0.05,
           "style": {
            "color": "grey",
            "fillOpacity": 0.2,
            "fill_color": "grey",
            "opacity": 1,
            "weight": 2
           }
          },
          "type": "Feature"
         },
         {
          "geometry": {
           "coordinates": [
            [
             -124.16319255481548,
             40.863600766732304
            ],
            [
             -124.16757151833087,
             40.86500706329972
            ]
           ],
           "type": "LineString"
          },
          "id": "7218",
          "properties": {
           "id": "usa_CA_0288-0123",
           "slope": 0.045,
           "style": {
            "color": "grey",
            "fillOpacity": 0.2,
            "fill_color": "grey",
            "opacity": 1,
            "weight": 2
           }
          },
          "type": "Feature"
         },
         {
          "geometry": {
           "coordinates": [
            [
             -124.16270037961276,
             40.86441959902001
            ],
            [
             -124.16707939215252,
             40.86582591262795
            ]
           ],
           "type": "LineString"
          },
          "id": "7219",
          "properties": {
           "id": "usa_CA_0288-0124",
           "slope": 0.045,
           "style": {
            "color": "grey",
            "fillOpacity": 0.2,
            "fill_color": "grey",
            "opacity": 1,
            "weight": 2
           }
          },
          "type": "Feature"
         },
         {
          "geometry": {
           "coordinates": [
            [
             -124.16220819553176,
             40.865238429452674
            ],
            [
             -124.16658725709708,
             40.866644760101686
            ]
           ],
           "type": "LineString"
          },
          "id": "7220",
          "properties": {
           "id": "usa_CA_0288-0125",
           "slope": 0.04,
           "style": {
            "color": "grey",
            "fillOpacity": 0.2,
            "fill_color": "grey",
            "opacity": 1,
            "weight": 2
           }
          },
          "type": "Feature"
         },
         {
          "geometry": {
           "coordinates": [
            [
             -124.16171600257196,
             40.86605725803027
            ],
            [
             -124.16609511316408,
             40.86746360572087
            ]
           ],
           "type": "LineString"
          },
          "id": "7221",
          "properties": {
           "id": "usa_CA_0288-0126",
           "slope": 0.045,
           "style": {
            "color": "grey",
            "fillOpacity": 0.2,
            "fill_color": "grey",
            "opacity": 1,
            "weight": 2
           }
          },
          "type": "Feature"
         },
         {
          "geometry": {
           "coordinates": [
            [
             -124.16122380073276,
             40.86687608475276
            ],
            [
             -124.16560296035298,
             40.86828244948551
            ]
           ],
           "type": "LineString"
          },
          "id": "7222",
          "properties": {
           "id": "usa_CA_0288-0127",
           "slope": 0.04,
           "style": {
            "color": "grey",
            "fillOpacity": 0.2,
            "fill_color": "grey",
            "opacity": 1,
            "weight": 2
           }
          },
          "type": "Feature"
         },
         {
          "geometry": {
           "coordinates": [
            [
             -124.1607315900137,
             40.86769490962013
            ],
            [
             -124.16511079866322,
             40.86910129139556
            ]
           ],
           "type": "LineString"
          },
          "id": "7223",
          "properties": {
           "id": "usa_CA_0288-0128",
           "slope": 0.045,
           "style": {
            "color": "grey",
            "fillOpacity": 0.2,
            "fill_color": "grey",
            "opacity": 1,
            "weight": 2
           }
          },
          "type": "Feature"
         },
         {
          "geometry": {
           "coordinates": [
            [
             -124.16023937041416,
             40.868513732632366
            ],
            [
             -124.16461862809426,
             40.86992013145101
            ]
           ],
           "type": "LineString"
          },
          "id": "7224",
          "properties": {
           "id": "usa_CA_0288-0129",
           "slope": 0.045,
           "style": {
            "color": "grey",
            "fillOpacity": 0.2,
            "fill_color": "grey",
            "opacity": 1,
            "weight": 2
           }
          },
          "type": "Feature"
         },
         {
          "geometry": {
           "coordinates": [
            [
             -124.1597421658541,
             40.8693408875499
            ],
            [
             -124.1641314242243,
             40.87073063571912
            ]
           ],
           "type": "LineString"
          },
          "id": "7225",
          "properties": {
           "id": "usa_CA_0288-0130",
           "slope": 0.045,
           "style": {
            "color": "grey",
            "fillOpacity": 0.2,
            "fill_color": "grey",
            "opacity": 1,
            "weight": 2
           }
          },
          "type": "Feature"
         },
         {
          "geometry": {
           "coordinates": [
            [
             -124.15922331087646,
             40.87023060390582
            ],
            [
             -124.16368851598467,
             40.87148504083176
            ]
           ],
           "type": "LineString"
          },
          "id": "7226",
          "properties": {
           "id": "usa_CA_0288-0131",
           "slope": 0.045,
           "style": {
            "color": "grey",
            "fillOpacity": 0.2,
            "fill_color": "grey",
            "opacity": 1,
            "weight": 2
           }
          },
          "type": "Feature"
         },
         {
          "geometry": {
           "coordinates": [
            [
             -124.1587919592432,
             40.87113549303228
            ],
            [
             -124.16331753188892,
             40.87226976169797
            ]
           ],
           "type": "LineString"
          },
          "id": "7227",
          "properties": {
           "id": "usa_CA_0288-0132",
           "slope": 0.04,
           "style": {
            "color": "grey",
            "fillOpacity": 0.2,
            "fill_color": "grey",
            "opacity": 1,
            "weight": 2
           }
          },
          "type": "Feature"
         },
         {
          "geometry": {
           "coordinates": [
            [
             -124.15839075870096,
             40.87198029058521
            ],
            [
             -124.16291638712688,
             40.87311457269802
            ]
           ],
           "type": "LineString"
          },
          "id": "7228",
          "properties": {
           "id": "usa_CA_0288-0133",
           "slope": 0.04,
           "style": {
            "color": "grey",
            "fillOpacity": 0.2,
            "fill_color": "grey",
            "opacity": 1,
            "weight": 2
           }
          },
          "type": "Feature"
         },
         {
          "geometry": {
           "coordinates": [
            [
             -124.15798955142256,
             40.8728250869076
            ],
            [
             -124.16251523563042,
             40.87395938246797
            ]
           ],
           "type": "LineString"
          },
          "id": "7229",
          "properties": {
           "id": "usa_CA_0288-0134",
           "slope": 0.045,
           "style": {
            "color": "grey",
            "fillOpacity": 0.2,
            "fill_color": "grey",
            "opacity": 1,
            "weight": 2
           }
          },
          "type": "Feature"
         },
         {
          "geometry": {
           "coordinates": [
            [
             -124.15758833740756,
             40.87366988199946
            ],
            [
             -124.16211407739912,
             40.87480419100782
            ]
           ],
           "type": "LineString"
          },
          "id": "7230",
          "properties": {
           "id": "usa_CA_0288-0135",
           "slope": 0.045,
           "style": {
            "color": "grey",
            "fillOpacity": 0.2,
            "fill_color": "grey",
            "opacity": 1,
            "weight": 2
           }
          },
          "type": "Feature"
         },
         {
          "geometry": {
           "coordinates": [
            [
             -124.15718711665552,
             40.87451467586078
            ],
            [
             -124.16171291243256,
             40.87564899831758
            ]
           ],
           "type": "LineString"
          },
          "id": "7231",
          "properties": {
           "id": "usa_CA_0288-0136",
           "slope": 0.045,
           "style": {
            "color": "grey",
            "fillOpacity": 0.2,
            "fill_color": "grey",
            "opacity": 1,
            "weight": 2
           }
          },
          "type": "Feature"
         },
         {
          "geometry": {
           "coordinates": [
            [
             -124.15678588916596,
             40.87535946849156
            ],
            [
             -124.1613117407302,
             40.876493804397256
            ]
           ],
           "type": "LineString"
          },
          "id": "7232",
          "properties": {
           "id": "usa_CA_0288-0137",
           "slope": 0.045,
           "style": {
            "color": "grey",
            "fillOpacity": 0.2,
            "fill_color": "grey",
            "opacity": 1,
            "weight": 2
           }
          },
          "type": "Feature"
         },
         {
          "geometry": {
           "coordinates": [
            [
             -124.15638465493848,
             40.87620425989182
            ],
            [
             -124.16091056229163,
             40.87733860924686
            ]
           ],
           "type": "LineString"
          },
          "id": "7233",
          "properties": {
           "id": "usa_CA_0288-0138",
           "slope": 0.045,
           "style": {
            "color": "grey",
            "fillOpacity": 0.2,
            "fill_color": "grey",
            "opacity": 1,
            "weight": 2
           }
          },
          "type": "Feature"
         },
         {
          "geometry": {
           "coordinates": [
            [
             -124.15598341397256,
             40.87704905006155
            ],
            [
             -124.16050937711644,
             40.87818341286643
            ]
           ],
           "type": "LineString"
          },
          "id": "7234",
          "properties": {
           "id": "usa_CA_0288-0139",
           "slope": 0.05,
           "style": {
            "color": "grey",
            "fillOpacity": 0.2,
            "fill_color": "grey",
            "opacity": 1,
            "weight": 2
           }
          },
          "type": "Feature"
         },
         {
          "geometry": {
           "coordinates": [
            [
             -124.15558216626782,
             40.87789383900079
            ],
            [
             -124.16010818520417,
             40.8790282152559
            ]
           ],
           "type": "LineString"
          },
          "id": "7235",
          "properties": {
           "id": "usa_CA_0288-0140",
           "slope": 0.045,
           "style": {
            "color": "grey",
            "fillOpacity": 0.2,
            "fill_color": "grey",
            "opacity": 1,
            "weight": 2
           }
          },
          "type": "Feature"
         },
         {
          "geometry": {
           "coordinates": [
            [
             -124.15519279717756,
             40.87871416543687
            ],
            [
             -124.15969510280436,
             40.87989747808814
            ]
           ],
           "type": "LineString"
          },
          "id": "7236",
          "properties": {
           "id": "usa_CA_0288-0141",
           "slope": 0.05,
           "style": {
            "color": "grey",
            "fillOpacity": 0.2,
            "fill_color": "grey",
            "opacity": 1,
            "weight": 2
           }
          },
          "type": "Feature"
         },
         {
          "geometry": {
           "coordinates": [
            [
             -124.15477927829036,
             40.87951070126901
            ],
            [
             -124.1592410335782,
             40.88077291420641
            ]
           ],
           "type": "LineString"
          },
          "id": "7237",
          "properties": {
           "id": "usa_CA_0288-0142",
           "slope": 0.05,
           "style": {
            "color": "grey",
            "fillOpacity": 0.2,
            "fill_color": "grey",
            "opacity": 1,
            "weight": 2
           }
          },
          "type": "Feature"
         },
         {
          "geometry": {
           "coordinates": [
            [
             -124.15433328322425,
             40.88032614652256
            ],
            [
             -124.15877885018512,
             40.881618462989614
            ]
           ],
           "type": "LineString"
          },
          "id": "7238",
          "properties": {
           "id": "usa_CA_0288-0143",
           "slope": 0.045,
           "style": {
            "color": "grey",
            "fillOpacity": 0.2,
            "fill_color": "grey",
            "opacity": 1,
            "weight": 2
           }
          },
          "type": "Feature"
         },
         {
          "geometry": {
           "coordinates": [
            [
             -124.1538791594682,
             40.88115663404134
            ],
            [
             -124.15832477851056,
             40.882448966084645
            ]
           ],
           "type": "LineString"
          },
          "id": "7239",
          "properties": {
           "id": "usa_CA_0288-0144",
           "slope": 0.04,
           "style": {
            "color": "grey",
            "fillOpacity": 0.2,
            "fill_color": "grey",
            "opacity": 1,
            "weight": 2
           }
          },
          "type": "Feature"
         },
         {
          "geometry": {
           "coordinates": [
            [
             -124.15342502769948,
             40.8819871199874
            ],
            [
             -124.15787069882474,
             40.88327946760748
            ]
           ],
           "type": "LineString"
          },
          "id": "7240",
          "properties": {
           "id": "usa_CA_0288-0145",
           "slope": 0.04,
           "style": {
            "color": "grey",
            "fillOpacity": 0.2,
            "fill_color": "grey",
            "opacity": 1,
            "weight": 2
           }
          },
          "type": "Feature"
         },
         {
          "geometry": {
           "coordinates": [
            [
             -124.15297088791752,
             40.88281760436075
            ],
            [
             -124.15741661112722,
             40.8841099675581
            ]
           ],
           "type": "LineString"
          },
          "id": "7241",
          "properties": {
           "id": "usa_CA_0288-0146",
           "slope": 0.035,
           "style": {
            "color": "grey",
            "fillOpacity": 0.2,
            "fill_color": "grey",
            "opacity": 1,
            "weight": 2
           }
          },
          "type": "Feature"
         },
         {
          "geometry": {
           "coordinates": [
            [
             -124.1525167401219,
             40.88364808716139
            ],
            [
             -124.15696251541743,
             40.88494046593654
            ]
           ],
           "type": "LineString"
          },
          "id": "7242",
          "properties": {
           "id": "usa_CA_0288-0147",
           "slope": 0.04,
           "style": {
            "color": "grey",
            "fillOpacity": 0.2,
            "fill_color": "grey",
            "opacity": 1,
            "weight": 2
           }
          },
          "type": "Feature"
         },
         {
          "geometry": {
           "coordinates": [
            [
             -124.15206258431206,
             40.8844785683893
            ],
            [
             -124.15650841169496,
             40.88577096274271
            ]
           ],
           "type": "LineString"
          },
          "id": "7243",
          "properties": {
           "id": "usa_CA_0288-0148",
           "slope": 0.045,
           "style": {
            "color": "grey",
            "fillOpacity": 0.2,
            "fill_color": "grey",
            "opacity": 1,
            "weight": 2
           }
          },
          "type": "Feature"
         },
         {
          "geometry": {
           "coordinates": [
            [
             -124.15160842048756,
             40.885309048044455
            ],
            [
             -124.15605429995928,
             40.88660145797666
            ]
           ],
           "type": "LineString"
          },
          "id": "7244",
          "properties": {
           "id": "usa_CA_0288-0149",
           "slope": 0.04,
           "style": {
            "color": "grey",
            "fillOpacity": 0.2,
            "fill_color": "grey",
            "opacity": 1,
            "weight": 2
           }
          },
          "type": "Feature"
         },
         {
          "geometry": {
           "coordinates": [
            [
             -124.15112962849744,
             40.88618640104093
            ],
            [
             -124.15562479737096,
             40.887385075884495
            ]
           ],
           "type": "LineString"
          },
          "id": "7245",
          "properties": {
           "id": "usa_CA_0288-0150",
           "slope": 0.045,
           "style": {
            "color": "grey",
            "fillOpacity": 0.2,
            "fill_color": "grey",
            "opacity": 1,
            "weight": 2
           }
          },
          "type": "Feature"
         },
         {
          "geometry": {
           "coordinates": [
            [
             -124.1507138355472,
             40.88708508042095
            ],
            [
             -124.15525856892584,
             40.88818077923964
            ]
           ],
           "type": "LineString"
          },
          "id": "7246",
          "properties": {
           "id": "usa_CA_0288-0151",
           "slope": 0.05,
           "style": {
            "color": "grey",
            "fillOpacity": 0.2,
            "fill_color": "grey",
            "opacity": 1,
            "weight": 2
           }
          },
          "type": "Feature"
         },
         {
          "geometry": {
           "coordinates": [
            [
             -124.15032639774005,
             40.88793786183725
            ],
            [
             -124.15487496716244,
             40.88902528726909
            ]
           ],
           "type": "LineString"
          },
          "id": "7247",
          "properties": {
           "id": "usa_CA_0288-0152",
           "slope": 0.05,
           "style": {
            "color": "grey",
            "fillOpacity": 0.2,
            "fill_color": "grey",
            "opacity": 1,
            "weight": 2
           }
          },
          "type": "Feature"
         },
         {
          "geometry": {
           "coordinates": [
            [
             -124.14994084333138,
             40.88878649905007
            ],
            [
             -124.15448946957348,
             40.88987393728709
            ]
           ],
           "type": "LineString"
          },
          "id": "7248",
          "properties": {
           "id": "usa_CA_0288-0153",
           "slope": 0.05,
           "style": {
            "color": "grey",
            "fillOpacity": 0.2,
            "fill_color": "grey",
            "opacity": 1,
            "weight": 2
           }
          },
          "type": "Feature"
         },
         {
          "geometry": {
           "coordinates": [
            [
             -124.14955528256928,
             40.88963513512383
            ],
            [
             -124.15410396563294,
             40.89072258616645
            ]
           ],
           "type": "LineString"
          },
          "id": "7249",
          "properties": {
           "id": "usa_CA_0288-0154",
           "slope": 0.055,
           "style": {
            "color": "grey",
            "fillOpacity": 0.2,
            "fill_color": "grey",
            "opacity": 1,
            "weight": 2
           }
          },
          "type": "Feature"
         },
         {
          "geometry": {
           "coordinates": [
            [
             -124.14916971545334,
             40.89048377005852
            ],
            [
             -124.15371845534035,
             40.89157123390718
            ]
           ],
           "type": "LineString"
          },
          "id": "7250",
          "properties": {
           "id": "usa_CA_0288-0155",
           "slope": 0.05,
           "style": {
            "color": "grey",
            "fillOpacity": 0.2,
            "fill_color": "grey",
            "opacity": 1,
            "weight": 2
           }
          },
          "type": "Feature"
         },
         {
          "geometry": {
           "coordinates": [
            [
             -124.14878414198311,
             40.89133240385417
            ],
            [
             -124.15333293869531,
             40.89241988050928
            ]
           ],
           "type": "LineString"
          },
          "id": "7251",
          "properties": {
           "id": "usa_CA_0288-0156",
           "slope": 0.045,
           "style": {
            "color": "grey",
            "fillOpacity": 0.2,
            "fill_color": "grey",
            "opacity": 1,
            "weight": 2
           }
          },
          "type": "Feature"
         },
         {
          "geometry": {
           "coordinates": [
            [
             -124.14839856215822,
             40.89218103651079
            ],
            [
             -124.15294741569744,
             40.8932685259728
            ]
           ],
           "type": "LineString"
          },
          "id": "7252",
          "properties": {
           "id": "usa_CA_0288-0157",
           "slope": 0.045,
           "style": {
            "color": "grey",
            "fillOpacity": 0.2,
            "fill_color": "grey",
            "opacity": 1,
            "weight": 2
           }
          },
          "type": "Feature"
         },
         {
          "geometry": {
           "coordinates": [
            [
             -124.14801297597818,
             40.89302966802837
            ],
            [
             -124.15256188634623,
             40.89411717029772
            ]
           ],
           "type": "LineString"
          },
          "id": "7253",
          "properties": {
           "id": "usa_CA_0288-0158",
           "slope": 0.04,
           "style": {
            "color": "grey",
            "fillOpacity": 0.2,
            "fill_color": "grey",
            "opacity": 1,
            "weight": 2
           }
          },
          "type": "Feature"
         },
         {
          "geometry": {
           "coordinates": [
            [
             -124.1476256224162,
             40.89388218868971
            ],
            [
             -124.15217811140688,
             40.89496192314283
            ]
           ],
           "type": "LineString"
          },
          "id": "7254",
          "properties": {
           "id": "usa_CA_0288-0159",
           "slope": 0.05,
           "style": {
            "color": "grey",
            "fillOpacity": 0.2,
            "fill_color": "grey",
            "opacity": 1,
            "weight": 2
           }
          },
          "type": "Feature"
         }
        ],
        "type": "FeatureCollection"
       },
       "hover_style": {
        "color": "blue",
        "fillOpacity": 0.7
       },
       "name": "transects",
       "style": {
        "color": "grey",
        "fillOpacity": 0.2,
        "fill_color": "grey",
        "opacity": 1,
        "weight": 2
       }
      }
     },
     "0b5e390057a240b0a949dbedad4a6142": {
      "model_module": "@jupyter-widgets/controls",
      "model_module_version": "1.5.0",
      "model_name": "ToggleButtonModel",
      "state": {
       "icon": "server",
       "layout": "IPY_MODEL_b61491407b7c4355b19b99607807e9b3",
       "style": "IPY_MODEL_b2ba4bffdcee4fa8b1f34eebe2ce8e94",
       "tooltip": "Layers"
      }
     },
     "0bb865919ec6423dbda8cfdf2e76afc3": {
      "model_module": "jupyter-leaflet",
      "model_module_version": "^0.17.0",
      "model_name": "LeafletWMSLayerModel",
      "state": {
       "_model_module_version": "^0.17.0",
       "_view_module_version": "^0.17.0",
       "attribution": "ESA",
       "crs": {
        "custom": false,
        "name": "EPSG3857"
       },
       "format": "image/png",
       "layers": "WORLDCOVER_2020_S2_TCC",
       "name": "ESA Worldcover 2020 S2 TCC",
       "options": [
        "attribution",
        "bounds",
        "detect_retina",
        "format",
        "layers",
        "max_native_zoom",
        "max_zoom",
        "min_native_zoom",
        "min_zoom",
        "no_wrap",
        "styles",
        "tile_size",
        "tms",
        "transparent",
        "uppercase"
       ],
       "transparent": true,
       "url": "https://services.terrascope.be/wms/v2"
      }
     },
     "0bbcadc32af1498790fc6b38a6f7218b": {
      "model_module": "@jupyter-widgets/controls",
      "model_module_version": "1.5.0",
      "model_name": "DescriptionStyleModel",
      "state": {
       "description_width": ""
      }
     },
     "0c29a697fb0b40029e556292148e7ed8": {
      "model_module": "jupyter-leaflet",
      "model_module_version": "^0.17.0",
      "model_name": "LeafletMapStyleModel",
      "state": {
       "_model_module_version": "^0.17.0",
       "cursor": "default"
      }
     },
     "0c3f6321ffee4f58afaafbafed03b918": {
      "model_module": "@jupyter-widgets/output",
      "model_module_version": "1.0.0",
      "model_name": "OutputModel",
      "state": {
       "layout": "IPY_MODEL_4436975e60f647c082239898ec6d441a"
      }
     },
     "0c7395f20c814990ad3997597133eb12": {
      "model_module": "@jupyter-widgets/base",
      "model_module_version": "1.2.0",
      "model_name": "LayoutModel",
      "state": {
       "height": "auto",
       "padding": "0px 0px 0px 4px",
       "width": "auto"
      }
     },
     "0d44c04326d04fb58057fd94dbf999ae": {
      "model_module": "jupyter-leaflet",
      "model_module_version": "^0.17.0",
      "model_name": "LeafletTileLayerModel",
      "state": {
       "_model_module_version": "^0.17.0",
       "_view_module_version": "^0.17.0",
       "attribution": "(C) OpenStreetMap contributors (C) CARTO",
       "max_zoom": 20,
       "name": "CartoDB.DarkMatterNoLabels",
       "options": [
        "attribution",
        "bounds",
        "detect_retina",
        "max_native_zoom",
        "max_zoom",
        "min_native_zoom",
        "min_zoom",
        "no_wrap",
        "tile_size",
        "tms"
       ],
       "url": "https://a.basemaps.cartocdn.com/dark_nolabels/{z}/{x}/{y}.png"
      }
     },
     "0d9d1934bf0d45c5807b9cd2fe84f1e1": {
      "model_module": "jupyter-leaflet",
      "model_module_version": "^0.17.0",
      "model_name": "LeafletDrawControlModel",
      "state": {
       "_model_module_version": "^0.17.0",
       "_view_module_version": "^0.17.0",
       "options": [
        "position"
       ],
       "polygon": {},
       "polyline": {},
       "rectangle": {
        "allowIntersection": false,
        "drawError": {
         "color": "#dd253b",
         "message": "Ops!"
        },
        "shapeOptions": {
         "Opacity": 0.1,
         "color": "green",
         "fillColor": "green",
         "fillOpacity": 0.1
        },
        "transform": true
       }
      }
     },
     "0d9e988d2f124c24890ec04144153542": {
      "model_module": "@jupyter-widgets/base",
      "model_module_version": "1.2.0",
      "model_name": "LayoutModel",
      "state": {}
     },
     "0e35ef6e92134e9c9f62ff67698870dc": {
      "model_module": "@jupyter-widgets/controls",
      "model_module_version": "1.5.0",
      "model_name": "ButtonStyleModel",
      "state": {
       "button_color": "#69add1"
      }
     },
     "0ea2e560e5dc4101a288df291c547582": {
      "model_module": "@jupyter-widgets/controls",
      "model_module_version": "1.5.0",
      "model_name": "ButtonStyleModel",
      "state": {
       "button_color": "#50bf8f"
      }
     },
     "0ea30bb689f942a88937e06576657268": {
      "model_module": "jupyter-leaflet",
      "model_module_version": "^0.17.0",
      "model_name": "LeafletTileLayerModel",
      "state": {
       "_model_module_version": "^0.17.0",
       "_view_module_version": "^0.17.0",
       "attribution": "&copy; <a href=\"http://www.gaode.com/\">Gaode.com</a>",
       "max_zoom": 19,
       "name": "Gaode.Satellite",
       "options": [
        "attribution",
        "bounds",
        "detect_retina",
        "max_native_zoom",
        "max_zoom",
        "min_native_zoom",
        "min_zoom",
        "no_wrap",
        "tile_size",
        "tms"
       ],
       "url": "http://webst01.is.autonavi.com/appmaptile?style=6&x={x}&y={y}&z={z}"
      }
     },
     "10e2cab0d8da4981b0d2fcda5cc70f81": {
      "model_module": "@jupyter-widgets/controls",
      "model_module_version": "1.5.0",
      "model_name": "ToggleButtonModel",
      "state": {
       "button_style": "primary",
       "icon": "search-plus",
       "layout": "IPY_MODEL_3c56fed233604c67ab9e522590b076c3",
       "style": "IPY_MODEL_215347f9d79c477db00bb3683b1e92ad",
       "tooltip": "Search features in GeoJSON layer"
      }
     },
     "11f18a0aa4594c5790d4dde2ff1f7f82": {
      "model_module": "@jupyter-widgets/controls",
      "model_module_version": "1.5.0",
      "model_name": "HBoxModel",
      "state": {
       "children": [
        "IPY_MODEL_62e81048707b47a692747d9b9db947b1",
        "IPY_MODEL_0a67d07cb9aa4f7aac1e879162f63e48"
       ],
       "layout": "IPY_MODEL_81befd4d62b84adf9bac36dd101980f0"
      }
     },
     "1323db35720042a1a59333db3f384aa9": {
      "model_module": "@jupyter-widgets/controls",
      "model_module_version": "1.5.0",
      "model_name": "HTMLModel",
      "state": {
       "layout": "IPY_MODEL_024dc37214e14590bc9cc5ac726f289f",
       "style": "IPY_MODEL_9405117b9334407ea60657569a230785",
       "value": "<h2><b>Load Config Files</b></h2>                Use the load configs button to select a config.geojson file.                Make sure the config.json is in the same directory                You can upload a config json and config geojson file.                    <li> Load Config Json: Load settings from json file (ex. 'config_id_241.json')</li>                <li> Load Config geojson: Load rois, shorelines, and transects from geojson file (ex. 'config_gdf_id_241.geojson')</li>                    "
      }
     },
     "13a7d60bb955485792e9a3da906e2e85": {
      "model_module": "@jupyter-widgets/base",
      "model_module_version": "1.2.0",
      "model_name": "LayoutModel",
      "state": {
       "border": "1px solid black"
      }
     },
     "144da16df1174029bca7b457d36c4baf": {
      "model_module": "@jupyter-widgets/base",
      "model_module_version": "1.2.0",
      "model_name": "LayoutModel",
      "state": {}
     },
     "146f4be7358b407bba47c2b69e550c48": {
      "model_module": "jupyter-leaflet",
      "model_module_version": "^0.17.0",
      "model_name": "LeafletGeoJSONModel",
      "state": {
       "_model_module_version": "^0.17.0",
       "_view_module_version": "^0.17.0",
       "data": {
        "features": [
         {
          "geometry": {
           "coordinates": [
            [
             -124.14972321099998,
             40.865066772000034
            ],
            [
             -124.14977800699995,
             40.86505650000004
            ],
            [
             -124.14984188399995,
             40.86503751600003
            ],
            [
             -124.14989746999998,
             40.86501051600004
            ],
            [
             -124.149936191,
             40.864980769000056
            ],
            [
             -124.15012996899998,
             40.86478698900004
            ],
            [
             -124.15015316699998,
             40.86475481900004
            ],
            [
             -124.15016688999998,
             40.86471854500007
            ],
            [
             -124.15017112199996,
             40.86467986700006
            ],
            [
             -124.15016613999995,
             40.864641230000075
            ],
            [
             -124.15015168199994,
             40.864605072000074
            ],
            [
             -124.15012778,
             40.86457308000007
            ],
            [
             -124.14993279099997,
             40.86437941600008
            ],
            [
             -124.14989520699999,
             40.86434868600003
            ],
            [
             -124.14907049399994,
             40.86381213100003
            ],
            [
             -124.14901607499996,
             40.863785574000076
            ],
            [
             -124.14895402699995,
             40.86376667400003
            ],
            [
             -124.148886705,
             40.863753065000026
            ],
            [
             -124.14881608299999,
             40.86374277500005
            ],
            [
             -124.14867166199997,
             40.863725405000025
            ],
            [
             -124.14860104599995,
             40.863715144000025
            ],
            [
             -124.14853373899996,
             40.86370157700003
            ],
            [
             -124.14847173099997,
             40.863682717000074
            ],
            [
             -124.148417398,
             40.863656185000025
            ],
            [
             -124.14770582056785,
             40.863124
            ]
           ],
           "type": "LineString"
          },
          "id": "0",
          "properties": {
           "CSU_ID": 80247,
           "ERODIBILITY": "Non",
           "MEAN_SIG_WAVEHEIGHT": 2.305355,
           "TIDAL_RANGE": 2.983468,
           "river_label": "moderate river discharge",
           "sinuosity_label": "sinuous",
           "slope_label": "flat",
           "style": {
            "color": "yellow",
            "dashArray": "5",
            "fillOpacity": 0.5,
            "fill_color": "yellow",
            "opacity": 1,
            "weight": 4
           },
           "turbid_label": "clear"
          },
          "type": "Feature"
         },
         {
          "geometry": {
           "coordinates": [
            [
             -124.144508,
             40.863200722356616
            ],
            [
             -124.14457418699999,
             40.86320888200004
            ],
            [
             -124.14464309899995,
             40.86322178000006
            ],
            [
             -124.14470651099998,
             40.86324002900005
            ],
            [
             -124.14538492399998,
             40.863481325000066
            ],
            [
             -124.14560925199999,
             40.86356709200004
            ],
            [
             -124.14582610599996,
             40.863706438000065
            ],
            [
             -124.14622045599998,
             40.86389923000007
            ],
            [
             -124.14644531399995,
             40.86398429700006
            ],
            [
             -124.14707102799997,
             40.86419402000007
            ],
            [
             -124.14747202099994,
             40.86427813500006
            ],
            [
             -124.14754227999998,
             40.864288731000045
            ],
            [
             -124.14760919999998,
             40.864302665000025
            ],
            [
             -124.14767081699995,
             40.86432190700003
            ],
            [
             -124.14772475599995,
             40.864348826000025
            ],
            [
             -124.147762608,
             40.86437836300007
            ],
            [
             -124.14797448999997,
             40.864570882000066
            ],
            [
             -124.14800974699995,
             40.86460305300005
            ],
            [
             -124.14804082799998,
             40.86463940500005
            ],
            [
             -124.14809802999997,
             40.86471711300004
            ],
            [
             -124.14812905599996,
             40.864753568000026
            ],
            [
             -124.14837552499995,
             40.86498036100005
            ],
            [
             -124.14841351799998,
             40.865010177000045
            ],
            [
             -124.14846791599996,
             40.865037244000064
            ],
            [
             -124.14853046299999,
             40.86505628200007
            ],
            [
             -124.14859903599995,
             40.86506943200004
            ],
            [
             -124.14867200199996,
             40.86507833400003
            ],
            [
             -124.14874813299997,
             40.86508422400004
            ],
            [
             -124.14882650799996,
             40.86508801700006
            ],
            [
             -124.14898745199997,
             40.86509176900006
            ],
            [
             -124.14915117199996,
             40.865092719000074
            ],
            [
             -124.14931529599994,
             40.86509180400003
            ],
            [
             -124.149477446,
             40.86508809400004
            ],
            [
             -124.14955671799999,
             40.865084327000034
            ],
            [
             -124.14963392399994,
             40.865078467000046
            ],
            [
             -124.14970811499995,
             40.86506960200006
            ],
            [
             -124.14972321099998,
             40.865066772000034
            ]
           ],
           "type": "LineString"
          },
          "id": "1",
          "properties": {
           "CSU_ID": 80259,
           "ERODIBILITY": "Non",
           "MEAN_SIG_WAVEHEIGHT": 2.305355,
           "TIDAL_RANGE": 2.983468,
           "river_label": "moderate river discharge",
           "sinuosity_label": "sinuous",
           "slope_label": "flat",
           "style": {
            "color": "yellow",
            "dashArray": "5",
            "fillOpacity": 0.5,
            "fill_color": "yellow",
            "opacity": 1,
            "weight": 4
           },
           "turbid_label": "turbid"
          },
          "type": "Feature"
         },
         {
          "geometry": {
           "coordinates": [
            [
             -124.164869,
             40.86621424963639
            ],
            [
             -124.16480623299998,
             40.86633989200004
            ],
            [
             -124.16467772099998,
             40.86666374400005
            ],
            [
             -124.16446312199997,
             40.86711325700003
            ],
            [
             -124.16443522399999,
             40.86716235600005
            ],
            [
             -124.16440453299998,
             40.86719903900007
            ],
            [
             -124.164179704,
             40.86744582500006
            ],
            [
             -124.16414381499999,
             40.86747731000003
            ],
            [
             -124.16406716699998,
             40.86753541000007
            ],
            [
             -124.16403127799998,
             40.86756689300006
            ],
            [
             -124.16380638099997,
             40.867813614000056
            ],
            [
             -124.16377567199999,
             40.86785028000003
            ],
            [
             -124.16374774599996,
             40.86789935100006
            ],
            [
             -124.16323902299996,
             40.86893059800008
            ],
            [
             -124.16321393099997,
             40.868986352000036
            ],
            [
             -124.16319588199997,
             40.86904915400004
            ],
            [
             -124.16318270699998,
             40.86911682700003
            ],
            [
             -124.16317256399998,
             40.86918753100008
            ],
            [
             -124.16315498899996,
             40.869331654000064
            ],
            [
             -124.163144494,
             40.869402008000066
            ],
            [
             -124.16313065999998,
             40.86946902100004
            ],
            [
             -124.16311153199996,
             40.86953074100006
            ],
            [
             -124.16308475799997,
             40.86958481600004
            ],
            [
             -124.16305538899996,
             40.869622820000075
            ],
            [
             -124.16259300599995,
             40.87027067100007
            ]
           ],
           "type": "LineString"
          },
          "id": "2",
          "properties": {
           "CSU_ID": 19775,
           "ERODIBILITY": "High",
           "MEAN_SIG_WAVEHEIGHT": 2.305355,
           "TIDAL_RANGE": 2.983468,
           "river_label": "moderate river discharge",
           "sinuosity_label": "straight",
           "slope_label": "flat",
           "style": {
            "color": "yellow",
            "dashArray": "5",
            "fillOpacity": 0.5,
            "fill_color": "yellow",
            "opacity": 1,
            "weight": 4
           },
           "turbid_label": "clear"
          },
          "type": "Feature"
         },
         {
          "geometry": {
           "coordinates": [
            [
             -124.16259300599995,
             40.87027067100007
            ],
            [
             -124.16238196399996,
             40.87056636400007
            ],
            [
             -124.16205675199996,
             40.871097760000055
            ],
            [
             -124.16178549799997,
             40.87145211700005
            ],
            [
             -124.16156997299998,
             40.871727458000066
            ],
            [
             -124.161351707,
             40.87216367700006
            ],
            [
             -124.16132671199995,
             40.87221953200003
            ],
            [
             -124.16130875599998,
             40.87228242200007
            ],
            [
             -124.16129565399996,
             40.87235017000006
            ],
            [
             -124.16128556899997,
             40.87242093200007
            ],
            [
             -124.16126805599998,
             40.87256511700008
            ],
            [
             -124.161257563,
             40.87263547200007
            ],
            [
             -124.16124370999995,
             40.87270246800006
            ],
            [
             -124.16122454199996,
             40.872764149000034
            ],
            [
             -124.16119770599994,
             40.872818161000055
            ],
            [
             -124.16116826599995,
             40.87285609500003
            ],
            [
             -124.16097883699996,
             40.873070909000035
            ],
            [
             -124.16076148499997,
             40.87334443300006
            ],
            [
             -124.160541546,
             40.87377906100005
            ],
            [
             -124.16051785899998,
             40.87383239800005
            ],
            [
             -124.16050098999995,
             40.873892556000044
            ],
            [
             -124.16048917899997,
             40.87395778200005
            ],
            [
             -124.16048101599995,
             40.87402666200006
            ],
            [
             -124.16047534899997,
             40.87409805200008
            ],
            [
             -124.16045995699994,
             40.87439105100003
            ],
            [
             -124.16045386399998,
             40.874462116000075
            ],
            [
             -124.160445026,
             40.874530469000035
            ],
            [
             -124.16043220799997,
             40.874594881000064
            ],
            [
             -124.16041387499996,
             40.87465382200003
            ],
            [
             -124.16038810699996,
             40.874705379000034
            ],
            [
             -124.16035843199995,
             40.874743410000065
            ],
            [
             -124.16016592499994,
             40.874958108000044
            ],
            [
             -124.16003086699999,
             40.87509456400005
            ],
            [
             -124.16000124199996,
             40.875132422000036
            ],
            [
             -124.15997471699995,
             40.875186358000065
            ],
            [
             -124.15995675699997,
             40.875247975000036
            ],
            [
             -124.15994546699994,
             40.875314907000075
            ],
            [
             -124.15993952999997,
             40.875385178000045
            ],
            [
             -124.15993813699998,
             40.875457064000045
            ],
            [
             -124.15994093499995,
             40.87552897300003
            ],
            [
             -124.15994798999998,
             40.87559930900005
            ],
            [
             -124.15995979799999,
             40.87566635300004
            ],
            [
             -124.15997725799997,
             40.87572812500008
            ],
            [
             -124.16000172399998,
             40.87578225900006
            ],
            [
             -124.16002791299996,
             40.875820307000026
            ],
            [
             -124.16008359899996,
             40.87588657400005
            ],
            [
             -124.16010558999994,
             40.87592043200004
            ],
            [
             -124.16011920399995,
             40.87595764900004
            ],
            [
             -124.160124199,
             40.875996901000065
            ],
            [
             -124.16012075099997,
             40.87603607800003
            ],
            [
             -124.16010859099998,
             40.876073062000046
            ],
            [
             -124.1599086,
             40.87648977300006
            ],
            [
             -124.15988729099996,
             40.87653324000007
            ]
           ],
           "type": "LineString"
          },
          "id": "3",
          "properties": {
           "CSU_ID": 20304,
           "ERODIBILITY": "High",
           "MEAN_SIG_WAVEHEIGHT": 2.305355,
           "TIDAL_RANGE": 2.983468,
           "river_label": "moderate river discharge",
           "sinuosity_label": "straight",
           "slope_label": "sloping",
           "style": {
            "color": "yellow",
            "dashArray": "5",
            "fillOpacity": 0.5,
            "fill_color": "yellow",
            "opacity": 1,
            "weight": 4
           },
           "turbid_label": "turbid"
          },
          "type": "Feature"
         },
         {
          "geometry": {
           "coordinates": [
            [
             -124.15988729099996,
             40.87653324000007
            ],
            [
             -124.15961346399996,
             40.87709180000007
            ],
            [
             -124.159585484,
             40.87714117500008
            ],
            [
             -124.15955475699997,
             40.87717770300003
            ],
            [
             -124.15936185499999,
             40.877363915000046
            ],
            [
             -124.15933012699998,
             40.87738634900006
            ],
            [
             -124.15929424299998,
             40.877399608000076
            ],
            [
             -124.15925587399994,
             40.877403865000076
            ],
            [
             -124.15921742399996,
             40.877399670000045
            ],
            [
             -124.15918128899995,
             40.87738714000005
            ],
            [
             -124.159149104,
             40.87736682100007
            ],
            [
             -124.15908943199997,
             40.87731773200005
            ],
            [
             -124.15905723299994,
             40.87729739200006
            ],
            [
             -124.15902107699998,
             40.87728482700004
            ],
            [
             -124.15898260399996,
             40.877280591000044
            ],
            [
             -124.15894422099996,
             40.87728480800007
            ],
            [
             -124.15890834199996,
             40.87729803700006
            ],
            [
             -124.158876653,
             40.877320471000075
            ],
            [
             -124.15868669899999,
             40.87750911000006
            ],
            [
             -124.15865753299994,
             40.877547046000075
            ],
            [
             -124.15863103999999,
             40.87760156400003
            ],
            [
             -124.15861219899995,
             40.877664055000025
            ],
            [
             -124.15859862999997,
             40.877731984000036
            ],
            [
             -124.15858834499994,
             40.877803260000064
            ],
            [
             -124.15857086399996,
             40.87794886000006
            ],
            [
             -124.15856048199998,
             40.87801994000006
            ],
            [
             -124.15854675899999,
             40.878087606000065
            ],
            [
             -124.15852772099998,
             40.87814988900004
            ],
            [
             -124.15850100299997,
             40.87820442300006
            ],
            [
             -124.15847165399998,
             40.87824273700005
            ],
            [
             -124.15828316299996,
             40.87845953000004
            ],
            [
             -124.15815077299999,
             40.87859692300003
            ],
            [
             -124.15812137699999,
             40.878634945000044
            ],
            [
             -124.158094587,
             40.87868904800007
            ],
            [
             -124.15807545799998,
             40.87875080200007
            ],
            [
             -124.158061627,
             40.87881784600006
            ],
            [
             -124.15805111499998,
             40.87888820500007
            ],
            [
             -124.15803330699998,
             40.87903212500004
            ],
            [
             -124.15802282599998,
             40.87910250300007
            ],
            [
             -124.15800903899998,
             40.87916957300007
            ],
            [
             -124.15798997199994,
             40.87923136100005
            ],
            [
             -124.15796325599996,
             40.87928549800006
            ],
            [
             -124.15793392599994,
             40.879323544000044
            ],
            [
             -124.15774523199997,
             40.87953910400006
            ],
            [
             -124.15752908399998,
             40.87981382300006
            ],
            [
             -124.157257389,
             40.880350613000076
            ],
            [
             -124.15703906899995,
             40.88078677800007
            ],
            [
             -124.15701536399996,
             40.88084007200007
            ],
            [
             -124.15699848999998,
             40.88090019600003
            ],
            [
             -124.15698669799997,
             40.88096540500004
            ],
            [
             -124.15697858199997,
             40.881034287000034
            ],
            [
             -124.15697299699997,
             40.881105699000045
            ],
            [
             -124.15695832199998,
             40.88139901900007
            ],
            [
             -124.15695252699999,
             40.881470222000075
            ],
            [
             -124.15694403499998,
             40.881538729000056
            ],
            [
             -124.15693161099995,
             40.88160330300008
            ],
            [
             -124.15691371599996,
             40.88166240600003
            ],
            [
             -124.15688841499997,
             40.881714104000025
            ],
            [
             -124.15685915599994,
             40.88175221900008
            ],
            [
             -124.15666690599994,
             40.881964211000025
            ],
            [
             -124.156634753,
             40.88199943200004
            ],
            [
             -124.156598439,
             40.882030490000034
            ],
            [
             -124.15652090099996,
             40.882087700000056
            ],
            [
             -124.15648458599998,
             40.882118760000026
            ],
            [
             -124.156452436,
             40.88215398400007
            ],
            [
             -124.15634659699998,
             40.88227073300004
            ]
           ],
           "type": "LineString"
          },
          "id": "4",
          "properties": {
           "CSU_ID": 19802,
           "ERODIBILITY": "High",
           "MEAN_SIG_WAVEHEIGHT": 2.305355,
           "TIDAL_RANGE": 2.983468,
           "river_label": "moderate river discharge",
           "sinuosity_label": "straight",
           "slope_label": "flat",
           "style": {
            "color": "yellow",
            "dashArray": "5",
            "fillOpacity": 0.5,
            "fill_color": "yellow",
            "opacity": 1,
            "weight": 4
           },
           "turbid_label": "turbid"
          },
          "type": "Feature"
         },
         {
          "geometry": {
           "coordinates": [
            [
             -124.15841834899999,
             40.879638502000034
            ],
            [
             -124.15838015299994,
             40.879634569000075
            ],
            [
             -124.15836270799997,
             40.87963067700008
            ],
            [
             -124.15834711899998,
             40.879624861000025
            ],
            [
             -124.15833417999994,
             40.87961637700005
            ],
            [
             -124.15832457599998,
             40.87960457300005
            ],
            [
             -124.158317792,
             40.87958998000005
            ],
            [
             -124.15831313999996,
             40.87957298200007
            ],
            [
             -124.158310127,
             40.879551578000076
            ],
            [
             -124.15830843599997,
             40.87952648400005
            ],
            [
             -124.15830788,
             40.87947104700004
            ],
            [
             -124.158311374,
             40.879364140000064
            ],
            [
             -124.15841828199996,
             40.879360646000066
            ],
            [
             -124.15847371799998,
             40.87936120100005
            ],
            [
             -124.15849881399998,
             40.87936289100003
            ],
            [
             -124.15852021799998,
             40.87936590600003
            ],
            [
             -124.15853721499997,
             40.87937055700007
            ],
            [
             -124.15855180699998,
             40.879377341000065
            ],
            [
             -124.15856361299996,
             40.87938694600007
            ],
            [
             -124.15857209599994,
             40.879399884000065
            ],
            [
             -124.15857791099995,
             40.87941547300005
            ],
            [
             -124.158581804,
             40.87943291800008
            ],
            [
             -124.15858573699995,
             40.87947111500006
            ],
            [
             -124.15858618099998,
             40.879511053000044
            ],
            [
             -124.15858343399998,
             40.87955016400008
            ],
            [
             -124.15858048099994,
             40.87956856100004
            ],
            [
             -124.158576031,
             40.87958560800007
            ],
            [
             -124.15856957199998,
             40.879600725000046
            ],
            [
             -124.15856040299997,
             40.87961316800005
            ],
            [
             -124.15854795999996,
             40.87962233700006
            ],
            [
             -124.15853284399998,
             40.879628797000066
            ],
            [
             -124.15851579599996,
             40.879633246000026
            ],
            [
             -124.15849739899994,
             40.87963619900006
            ],
            [
             -124.15845828799996,
             40.87963894600006
            ],
            [
             -124.15841834899999,
             40.879638502000034
            ]
           ],
           "type": "LineString"
          },
          "id": "5",
          "properties": {
           "CSU_ID": 19802,
           "ERODIBILITY": "High",
           "MEAN_SIG_WAVEHEIGHT": 2.305355,
           "TIDAL_RANGE": 2.983468,
           "river_label": "moderate river discharge",
           "sinuosity_label": "straight",
           "slope_label": "flat",
           "style": {
            "color": "yellow",
            "dashArray": "5",
            "fillOpacity": 0.5,
            "fill_color": "yellow",
            "opacity": 1,
            "weight": 4
           },
           "turbid_label": "turbid"
          },
          "type": "Feature"
         },
         {
          "geometry": {
           "coordinates": [
            [
             -124.15634659699998,
             40.88227073300004
            ],
            [
             -124.15626022199996,
             40.882366012000034
            ],
            [
             -124.15623097599996,
             40.88240413900007
            ],
            [
             -124.15620569099997,
             40.88245585300007
            ],
            [
             -124.15618781799998,
             40.88251497700003
            ],
            [
             -124.15617541999995,
             40.88257957800005
            ],
            [
             -124.15616695999995,
             40.88264811700003
            ],
            [
             -124.15616120199996,
             40.88271935800003
            ],
            [
             -124.15614677899998,
             40.883012929000074
            ],
            [
             -124.15614128799996,
             40.88308443600005
            ],
            [
             -124.15613327999995,
             40.88315342900006
            ],
            [
             -124.15612161499996,
             40.88321876400005
            ],
            [
             -124.15610488399994,
             40.883279033000065
            ],
            [
             -124.15608133599994,
             40.88333248500004
            ],
            [
             -124.15584084199998,
             40.88382354200007
            ],
            [
             -124.15581269999996,
             40.88387241800007
            ],
            [
             -124.15578180999995,
             40.883908922000046
            ],
            [
             -124.15555582999997,
             40.88415489100004
            ],
            [
             -124.155519788,
             40.88418631600007
            ],
            [
             -124.15544280399996,
             40.88424432200003
            ],
            [
             -124.15540672499998,
             40.884275770000045
            ],
            [
             -124.15517968299997,
             40.88452241600004
            ],
            [
             -124.15514850599999,
             40.88455909000004
            ],
            [
             -124.15511999399996,
             40.884608179000054
            ],
            [
             -124.154878968,
             40.88509626900003
            ],
            [
             -124.15485776699995,
             40.885146889000055
            ],
            [
             -124.15484489599999,
             40.885202900000024
            ],
            [
             -124.15483922599998,
             40.88526201500008
            ],
            [
             -124.15484018199999,
             40.88532212400003
            ],
            [
             -124.15484770599994,
             40.88538118200006
            ],
            [
             -124.15486226299998,
             40.88543707800005
            ],
            [
             -124.15488483499996,
             40.885487529000045
            ],
            [
             -124.15491148999996,
             40.885526036000044
            ],
            [
             -124.15497188999996,
             40.88559699100006
            ],
            [
             -124.15499848999997,
             40.88563544100003
            ],
            [
             -124.15502095699998,
             40.88568578700006
            ],
            [
             -124.15503536899996,
             40.88574153900004
            ],
            [
             -124.15504272199996,
             40.88580042500007
            ],
            [
             -124.15504349399998,
             40.885860352000066
            ],
            [
             -124.15503765699998,
             40.88591929800003
            ],
            [
             -124.15502466799995,
             40.88597519000007
            ],
            [
             -124.15479055699996,
             40.88664676900004
            ],
            [
             -124.15464348299997,
             40.88694654200003
            ],
            [
             -124.15455851499996,
             40.88717215300005
            ],
            [
             -124.15434604499995,
             40.887795968000034
            ],
            [
             -124.15427835999998,
             40.88805233700003
            ],
            [
             -124.15419291799998,
             40.88845441900003
            ],
            [
             -124.15412563799998,
             40.888659793000045
            ]
           ],
           "type": "LineString"
          },
          "id": "6",
          "properties": {
           "CSU_ID": 19802,
           "ERODIBILITY": "High",
           "MEAN_SIG_WAVEHEIGHT": 2.305355,
           "TIDAL_RANGE": 2.983468,
           "river_label": "moderate river discharge",
           "sinuosity_label": "straight",
           "slope_label": "flat",
           "style": {
            "color": "yellow",
            "dashArray": "5",
            "fillOpacity": 0.5,
            "fill_color": "yellow",
            "opacity": 1,
            "weight": 4
           },
           "turbid_label": "turbid"
          },
          "type": "Feature"
         },
         {
          "geometry": {
           "coordinates": [
            [
             -124.15412563799998,
             40.888659793000045
            ],
            [
             -124.15396916199995,
             40.88913743300003
            ],
            [
             -124.15394988199995,
             40.88918888500007
            ],
            [
             -124.15392291599994,
             40.88922744700005
            ],
            [
             -124.15389333699994,
             40.88924706500006
            ],
            [
             -124.15385945999998,
             40.88925589300004
            ],
            [
             -124.15382411799999,
             40.88925491300006
            ],
            [
             -124.15379004199997,
             40.889244577000056
            ],
            [
             -124.15375912899998,
             40.88922569600004
            ],
            [
             -124.15370038299994,
             40.88917796900006
            ],
            [
             -124.153668101,
             40.88915782500004
            ],
            [
             -124.15363161899995,
             40.88914526000008
            ],
            [
             -124.15359264099999,
             40.88914089100007
            ],
            [
             -124.15355361199994,
             40.889144886000054
            ],
            [
             -124.15351698799998,
             40.88915784200003
            ],
            [
             -124.15348447199995,
             40.889179969000054
            ],
            [
             -124.15345456399996,
             40.88920856900006
            ],
            [
             -124.15332351899997,
             40.88933388600003
            ],
            [
             -124.15328940199998,
             40.88936665700004
            ],
            [
             -124.15325981399997,
             40.88940427500006
            ],
            [
             -124.15323333699996,
             40.88945842000004
            ],
            [
             -124.15321540899998,
             40.88952055400006
            ],
            [
             -124.15320413699999,
             40.889588151000055
            ],
            [
             -124.15319821499997,
             40.88965914500005
            ],
            [
             -124.15319686699996,
             40.88973178500004
            ],
            [
             -124.15319979799995,
             40.889804498000046
            ],
            [
             -124.15320716599996,
             40.88987575200008
            ],
            [
             -124.15321958399994,
             40.88994394500003
            ],
            [
             -124.15323814099997,
             40.89000727800004
            ],
            [
             -124.15326443799995,
             40.89006363800007
            ],
            [
             -124.15329296199997,
             40.890104300000075
            ],
            [
             -124.15335669799998,
             40.89017905600008
            ],
            [
             -124.15338518099998,
             40.89021956900007
            ],
            [
             -124.15341139099996,
             40.89027562100006
            ],
            [
             -124.15342983499994,
             40.89033851700003
            ],
            [
             -124.15344212199994,
             40.89040616200003
            ],
            [
             -124.15344937099997,
             40.890476782000064
            ],
            [
             -124.15345222299999,
             40.89054882100004
            ],
            [
             -124.15345088999999,
             40.890620829000056
            ],
            [
             -124.153445149,
             40.890691342000025
            ],
            [
             -124.153434329,
             40.89075878300008
            ],
            [
             -124.15341727199996,
             40.890821337000034
            ],
            [
             -124.153392296,
             40.89087684700007
            ],
            [
             -124.15254570999997,
             40.89253320100005
            ],
            [
             -124.152064742,
             40.89324286300007
            ],
            [
             -124.15203689099997,
             40.89327739600003
            ],
            [
             -124.15200626899997,
             40.893295659000046
            ],
            [
             -124.15197181599996,
             40.89330302800005
            ],
            [
             -124.15193623999994,
             40.89330010600003
            ],
            [
             -124.15190218099997,
             40.89328692000004
            ],
            [
             -124.15187146199997,
             40.89326377500004
            ],
            [
             -124.15174566999997,
             40.893137196000055
            ],
            [
             -124.15154193099994,
             40.89295327600007
            ],
            [
             -124.15151074099998,
             40.89293017700004
            ],
            [
             -124.15147612799996,
             40.89291705200003
            ],
            [
             -124.15143992399999,
             40.892914200000064
            ],
            [
             -124.15140477699998,
             40.89292165200004
            ],
            [
             -124.15137342199995,
             40.89294001300004
            ],
            [
             -124.15134471999994,
             40.89297467600005
            ],
            [
             -124.15132200499994,
             40.893020388000025
            ],
            [
             -124.15111936999995,
             40.89342997800003
            ],
            [
             -124.15110744799995,
             40.89346777600008
            ],
            [
             -124.15110449999997,
             40.89350742800008
            ],
            [
             -124.15111039099997,
             40.89354667400005
            ],
            [
             -124.15112545799997,
             40.89358322900006
            ],
            [
             -124.15113887399997,
             40.893601130000036
            ]
           ],
           "type": "LineString"
          },
          "id": "7",
          "properties": {
           "CSU_ID": 19802,
           "ERODIBILITY": "High",
           "MEAN_SIG_WAVEHEIGHT": 2.305355,
           "TIDAL_RANGE": 2.983468,
           "river_label": "moderate river discharge",
           "sinuosity_label": "straight",
           "slope_label": "flat",
           "style": {
            "color": "yellow",
            "dashArray": "5",
            "fillOpacity": 0.5,
            "fill_color": "yellow",
            "opacity": 1,
            "weight": 4
           },
           "turbid_label": "turbid"
          },
          "type": "Feature"
         },
         {
          "geometry": {
           "coordinates": [
            [
             -124.15113887399997,
             40.893601130000036
            ],
            [
             -124.15114967799997,
             40.893615546000035
            ],
            [
             -124.151332793,
             40.89381853500004
            ],
            [
             -124.15145937499994,
             40.89394442300005
            ],
            [
             -124.151483601,
             40.893976259000056
            ],
            [
             -124.15149867399998,
             40.89401225100005
            ],
            [
             -124.15150456999999,
             40.89405085400006
            ],
            [
             -124.15150163199996,
             40.89408980300004
            ],
            [
             -124.151489718,
             40.894126852000056
            ],
            [
             -124.15141305509884,
             40.894289
            ]
           ],
           "type": "LineString"
          },
          "id": "8",
          "properties": {
           "CSU_ID": 19802,
           "ERODIBILITY": "High",
           "MEAN_SIG_WAVEHEIGHT": 2.305355,
           "TIDAL_RANGE": 2.983468,
           "river_label": "moderate river discharge",
           "sinuosity_label": "straight",
           "slope_label": "flat",
           "style": {
            "color": "yellow",
            "dashArray": "5",
            "fillOpacity": 0.5,
            "fill_color": "yellow",
            "opacity": 1,
            "weight": 4
           },
           "turbid_label": "turbid"
          },
          "type": "Feature"
         },
         {
          "geometry": {
           "coordinates": [
            [
             -124.14972321099998,
             40.865066772000034
            ],
            [
             -124.14977800699995,
             40.86505650000004
            ],
            [
             -124.14984188399995,
             40.86503751600003
            ],
            [
             -124.14989746999998,
             40.86501051600004
            ],
            [
             -124.149936191,
             40.864980769000056
            ],
            [
             -124.15012996899998,
             40.86478698900004
            ],
            [
             -124.15015316699998,
             40.86475481900004
            ],
            [
             -124.15016688999998,
             40.86471854500007
            ],
            [
             -124.15017112199996,
             40.86467986700006
            ],
            [
             -124.15016613999995,
             40.864641230000075
            ],
            [
             -124.15015168199994,
             40.864605072000074
            ],
            [
             -124.15012778,
             40.86457308000007
            ],
            [
             -124.14993279099997,
             40.86437941600008
            ],
            [
             -124.14989520699999,
             40.86434868600003
            ],
            [
             -124.14907049399994,
             40.86381213100003
            ],
            [
             -124.14901607499996,
             40.863785574000076
            ],
            [
             -124.14895402699995,
             40.86376667400003
            ],
            [
             -124.148886705,
             40.863753065000026
            ],
            [
             -124.14881608299999,
             40.86374277500005
            ],
            [
             -124.14867166199997,
             40.863725405000025
            ],
            [
             -124.14860104599995,
             40.863715144000025
            ],
            [
             -124.14853373899996,
             40.86370157700003
            ],
            [
             -124.14847173099997,
             40.863682717000074
            ],
            [
             -124.148417398,
             40.863656185000025
            ],
            [
             -124.14770582056785,
             40.863124
            ]
           ],
           "type": "LineString"
          },
          "id": "9",
          "properties": {
           "CSU_ID": 80247,
           "ERODIBILITY": "Non",
           "MEAN_SIG_WAVEHEIGHT": 2.305355,
           "TIDAL_RANGE": 2.983468,
           "river_label": "moderate river discharge",
           "sinuosity_label": "sinuous",
           "slope_label": "flat",
           "style": {
            "color": "yellow",
            "dashArray": "5",
            "fillOpacity": 0.5,
            "fill_color": "yellow",
            "opacity": 1,
            "weight": 4
           },
           "turbid_label": "clear"
          },
          "type": "Feature"
         },
         {
          "geometry": {
           "coordinates": [
            [
             -124.144508,
             40.863200722356616
            ],
            [
             -124.14457418699999,
             40.86320888200004
            ],
            [
             -124.14464309899995,
             40.86322178000006
            ],
            [
             -124.14470651099998,
             40.86324002900005
            ],
            [
             -124.14538492399998,
             40.863481325000066
            ],
            [
             -124.14560925199999,
             40.86356709200004
            ],
            [
             -124.14582610599996,
             40.863706438000065
            ],
            [
             -124.14622045599998,
             40.86389923000007
            ],
            [
             -124.14644531399995,
             40.86398429700006
            ],
            [
             -124.14707102799997,
             40.86419402000007
            ],
            [
             -124.14747202099994,
             40.86427813500006
            ],
            [
             -124.14754227999998,
             40.864288731000045
            ],
            [
             -124.14760919999998,
             40.864302665000025
            ],
            [
             -124.14767081699995,
             40.86432190700003
            ],
            [
             -124.14772475599995,
             40.864348826000025
            ],
            [
             -124.147762608,
             40.86437836300007
            ],
            [
             -124.14797448999997,
             40.864570882000066
            ],
            [
             -124.14800974699995,
             40.86460305300005
            ],
            [
             -124.14804082799998,
             40.86463940500005
            ],
            [
             -124.14809802999997,
             40.86471711300004
            ],
            [
             -124.14812905599996,
             40.864753568000026
            ],
            [
             -124.14837552499995,
             40.86498036100005
            ],
            [
             -124.14841351799998,
             40.865010177000045
            ],
            [
             -124.14846791599996,
             40.865037244000064
            ],
            [
             -124.14853046299999,
             40.86505628200007
            ],
            [
             -124.14859903599995,
             40.86506943200004
            ],
            [
             -124.14867200199996,
             40.86507833400003
            ],
            [
             -124.14874813299997,
             40.86508422400004
            ],
            [
             -124.14882650799996,
             40.86508801700006
            ],
            [
             -124.14898745199997,
             40.86509176900006
            ],
            [
             -124.14915117199996,
             40.865092719000074
            ],
            [
             -124.14931529599994,
             40.86509180400003
            ],
            [
             -124.149477446,
             40.86508809400004
            ],
            [
             -124.14955671799999,
             40.865084327000034
            ],
            [
             -124.14963392399994,
             40.865078467000046
            ],
            [
             -124.14970811499995,
             40.86506960200006
            ],
            [
             -124.14972321099998,
             40.865066772000034
            ]
           ],
           "type": "LineString"
          },
          "id": "10",
          "properties": {
           "CSU_ID": 80259,
           "ERODIBILITY": "Non",
           "MEAN_SIG_WAVEHEIGHT": 2.305355,
           "TIDAL_RANGE": 2.983468,
           "river_label": "moderate river discharge",
           "sinuosity_label": "sinuous",
           "slope_label": "flat",
           "style": {
            "color": "yellow",
            "dashArray": "5",
            "fillOpacity": 0.5,
            "fill_color": "yellow",
            "opacity": 1,
            "weight": 4
           },
           "turbid_label": "turbid"
          },
          "type": "Feature"
         },
         {
          "geometry": {
           "coordinates": [
            [
             -124.164869,
             40.86621424963639
            ],
            [
             -124.16480623299998,
             40.86633989200004
            ],
            [
             -124.16467772099998,
             40.86666374400005
            ],
            [
             -124.16446312199997,
             40.86711325700003
            ],
            [
             -124.16443522399999,
             40.86716235600005
            ],
            [
             -124.16440453299998,
             40.86719903900007
            ],
            [
             -124.164179704,
             40.86744582500006
            ],
            [
             -124.16414381499999,
             40.86747731000003
            ],
            [
             -124.16406716699998,
             40.86753541000007
            ],
            [
             -124.16403127799998,
             40.86756689300006
            ],
            [
             -124.16380638099997,
             40.867813614000056
            ],
            [
             -124.16377567199999,
             40.86785028000003
            ],
            [
             -124.16374774599996,
             40.86789935100006
            ],
            [
             -124.16323902299996,
             40.86893059800008
            ],
            [
             -124.16321393099997,
             40.868986352000036
            ],
            [
             -124.16319588199997,
             40.86904915400004
            ],
            [
             -124.16318270699998,
             40.86911682700003
            ],
            [
             -124.16317256399998,
             40.86918753100008
            ],
            [
             -124.16315498899996,
             40.869331654000064
            ],
            [
             -124.163144494,
             40.869402008000066
            ],
            [
             -124.16313065999998,
             40.86946902100004
            ],
            [
             -124.16311153199996,
             40.86953074100006
            ],
            [
             -124.16308475799997,
             40.86958481600004
            ],
            [
             -124.16305538899996,
             40.869622820000075
            ],
            [
             -124.16259300599995,
             40.87027067100007
            ]
           ],
           "type": "LineString"
          },
          "id": "11",
          "properties": {
           "CSU_ID": 19775,
           "ERODIBILITY": "High",
           "MEAN_SIG_WAVEHEIGHT": 2.305355,
           "TIDAL_RANGE": 2.983468,
           "river_label": "moderate river discharge",
           "sinuosity_label": "straight",
           "slope_label": "flat",
           "style": {
            "color": "yellow",
            "dashArray": "5",
            "fillOpacity": 0.5,
            "fill_color": "yellow",
            "opacity": 1,
            "weight": 4
           },
           "turbid_label": "clear"
          },
          "type": "Feature"
         },
         {
          "geometry": {
           "coordinates": [
            [
             -124.16259300599995,
             40.87027067100007
            ],
            [
             -124.16238196399996,
             40.87056636400007
            ],
            [
             -124.16205675199996,
             40.871097760000055
            ],
            [
             -124.16178549799997,
             40.87145211700005
            ],
            [
             -124.16156997299998,
             40.871727458000066
            ],
            [
             -124.161351707,
             40.87216367700006
            ],
            [
             -124.16132671199995,
             40.87221953200003
            ],
            [
             -124.16130875599998,
             40.87228242200007
            ],
            [
             -124.16129565399996,
             40.87235017000006
            ],
            [
             -124.16128556899997,
             40.87242093200007
            ],
            [
             -124.16126805599998,
             40.87256511700008
            ],
            [
             -124.161257563,
             40.87263547200007
            ],
            [
             -124.16124370999995,
             40.87270246800006
            ],
            [
             -124.16122454199996,
             40.872764149000034
            ],
            [
             -124.16119770599994,
             40.872818161000055
            ],
            [
             -124.16116826599995,
             40.87285609500003
            ],
            [
             -124.16097883699996,
             40.873070909000035
            ],
            [
             -124.16076148499997,
             40.87334443300006
            ],
            [
             -124.160541546,
             40.87377906100005
            ],
            [
             -124.16051785899998,
             40.87383239800005
            ],
            [
             -124.16050098999995,
             40.873892556000044
            ],
            [
             -124.16048917899997,
             40.87395778200005
            ],
            [
             -124.16048101599995,
             40.87402666200006
            ],
            [
             -124.16047534899997,
             40.87409805200008
            ],
            [
             -124.16045995699994,
             40.87439105100003
            ],
            [
             -124.16045386399998,
             40.874462116000075
            ],
            [
             -124.160445026,
             40.874530469000035
            ],
            [
             -124.16043220799997,
             40.874594881000064
            ],
            [
             -124.16041387499996,
             40.87465382200003
            ],
            [
             -124.16038810699996,
             40.874705379000034
            ],
            [
             -124.16035843199995,
             40.874743410000065
            ],
            [
             -124.16016592499994,
             40.874958108000044
            ],
            [
             -124.16003086699999,
             40.87509456400005
            ],
            [
             -124.16000124199996,
             40.875132422000036
            ],
            [
             -124.15997471699995,
             40.875186358000065
            ],
            [
             -124.15995675699997,
             40.875247975000036
            ],
            [
             -124.15994546699994,
             40.875314907000075
            ],
            [
             -124.15993952999997,
             40.875385178000045
            ],
            [
             -124.15993813699998,
             40.875457064000045
            ],
            [
             -124.15994093499995,
             40.87552897300003
            ],
            [
             -124.15994798999998,
             40.87559930900005
            ],
            [
             -124.15995979799999,
             40.87566635300004
            ],
            [
             -124.15997725799997,
             40.87572812500008
            ],
            [
             -124.16000172399998,
             40.87578225900006
            ],
            [
             -124.16002791299996,
             40.875820307000026
            ],
            [
             -124.16008359899996,
             40.87588657400005
            ],
            [
             -124.16010558999994,
             40.87592043200004
            ],
            [
             -124.16011920399995,
             40.87595764900004
            ],
            [
             -124.160124199,
             40.875996901000065
            ],
            [
             -124.16012075099997,
             40.87603607800003
            ],
            [
             -124.16010859099998,
             40.876073062000046
            ],
            [
             -124.1599086,
             40.87648977300006
            ],
            [
             -124.15988729099996,
             40.87653324000007
            ]
           ],
           "type": "LineString"
          },
          "id": "12",
          "properties": {
           "CSU_ID": 20304,
           "ERODIBILITY": "High",
           "MEAN_SIG_WAVEHEIGHT": 2.305355,
           "TIDAL_RANGE": 2.983468,
           "river_label": "moderate river discharge",
           "sinuosity_label": "straight",
           "slope_label": "sloping",
           "style": {
            "color": "yellow",
            "dashArray": "5",
            "fillOpacity": 0.5,
            "fill_color": "yellow",
            "opacity": 1,
            "weight": 4
           },
           "turbid_label": "turbid"
          },
          "type": "Feature"
         },
         {
          "geometry": {
           "coordinates": [
            [
             -124.15988729099996,
             40.87653324000007
            ],
            [
             -124.15961346399996,
             40.87709180000007
            ],
            [
             -124.159585484,
             40.87714117500008
            ],
            [
             -124.15955475699997,
             40.87717770300003
            ],
            [
             -124.15936185499999,
             40.877363915000046
            ],
            [
             -124.15933012699998,
             40.87738634900006
            ],
            [
             -124.15929424299998,
             40.877399608000076
            ],
            [
             -124.15925587399994,
             40.877403865000076
            ],
            [
             -124.15921742399996,
             40.877399670000045
            ],
            [
             -124.15918128899995,
             40.87738714000005
            ],
            [
             -124.159149104,
             40.87736682100007
            ],
            [
             -124.15908943199997,
             40.87731773200005
            ],
            [
             -124.15905723299994,
             40.87729739200006
            ],
            [
             -124.15902107699998,
             40.87728482700004
            ],
            [
             -124.15898260399996,
             40.877280591000044
            ],
            [
             -124.15894422099996,
             40.87728480800007
            ],
            [
             -124.15890834199996,
             40.87729803700006
            ],
            [
             -124.158876653,
             40.877320471000075
            ],
            [
             -124.15868669899999,
             40.87750911000006
            ],
            [
             -124.15865753299994,
             40.877547046000075
            ],
            [
             -124.15863103999999,
             40.87760156400003
            ],
            [
             -124.15861219899995,
             40.877664055000025
            ],
            [
             -124.15859862999997,
             40.877731984000036
            ],
            [
             -124.15858834499994,
             40.877803260000064
            ],
            [
             -124.15857086399996,
             40.87794886000006
            ],
            [
             -124.15856048199998,
             40.87801994000006
            ],
            [
             -124.15854675899999,
             40.878087606000065
            ],
            [
             -124.15852772099998,
             40.87814988900004
            ],
            [
             -124.15850100299997,
             40.87820442300006
            ],
            [
             -124.15847165399998,
             40.87824273700005
            ],
            [
             -124.15828316299996,
             40.87845953000004
            ],
            [
             -124.15815077299999,
             40.87859692300003
            ],
            [
             -124.15812137699999,
             40.878634945000044
            ],
            [
             -124.158094587,
             40.87868904800007
            ],
            [
             -124.15807545799998,
             40.87875080200007
            ],
            [
             -124.158061627,
             40.87881784600006
            ],
            [
             -124.15805111499998,
             40.87888820500007
            ],
            [
             -124.15803330699998,
             40.87903212500004
            ],
            [
             -124.15802282599998,
             40.87910250300007
            ],
            [
             -124.15800903899998,
             40.87916957300007
            ],
            [
             -124.15798997199994,
             40.87923136100005
            ],
            [
             -124.15796325599996,
             40.87928549800006
            ],
            [
             -124.15793392599994,
             40.879323544000044
            ],
            [
             -124.15774523199997,
             40.87953910400006
            ],
            [
             -124.15752908399998,
             40.87981382300006
            ],
            [
             -124.157257389,
             40.880350613000076
            ],
            [
             -124.15703906899995,
             40.88078677800007
            ],
            [
             -124.15701536399996,
             40.88084007200007
            ],
            [
             -124.15699848999998,
             40.88090019600003
            ],
            [
             -124.15698669799997,
             40.88096540500004
            ],
            [
             -124.15697858199997,
             40.881034287000034
            ],
            [
             -124.15697299699997,
             40.881105699000045
            ],
            [
             -124.15695832199998,
             40.88139901900007
            ],
            [
             -124.15695252699999,
             40.881470222000075
            ],
            [
             -124.15694403499998,
             40.881538729000056
            ],
            [
             -124.15693161099995,
             40.88160330300008
            ],
            [
             -124.15691371599996,
             40.88166240600003
            ],
            [
             -124.15688841499997,
             40.881714104000025
            ],
            [
             -124.15685915599994,
             40.88175221900008
            ],
            [
             -124.15666690599994,
             40.881964211000025
            ],
            [
             -124.156634753,
             40.88199943200004
            ],
            [
             -124.156598439,
             40.882030490000034
            ],
            [
             -124.15652090099996,
             40.882087700000056
            ],
            [
             -124.15648458599998,
             40.882118760000026
            ],
            [
             -124.156452436,
             40.88215398400007
            ],
            [
             -124.15634659699998,
             40.88227073300004
            ]
           ],
           "type": "LineString"
          },
          "id": "13",
          "properties": {
           "CSU_ID": 19802,
           "ERODIBILITY": "High",
           "MEAN_SIG_WAVEHEIGHT": 2.305355,
           "TIDAL_RANGE": 2.983468,
           "river_label": "moderate river discharge",
           "sinuosity_label": "straight",
           "slope_label": "flat",
           "style": {
            "color": "yellow",
            "dashArray": "5",
            "fillOpacity": 0.5,
            "fill_color": "yellow",
            "opacity": 1,
            "weight": 4
           },
           "turbid_label": "turbid"
          },
          "type": "Feature"
         },
         {
          "geometry": {
           "coordinates": [
            [
             -124.15841834899999,
             40.879638502000034
            ],
            [
             -124.15838015299994,
             40.879634569000075
            ],
            [
             -124.15836270799997,
             40.87963067700008
            ],
            [
             -124.15834711899998,
             40.879624861000025
            ],
            [
             -124.15833417999994,
             40.87961637700005
            ],
            [
             -124.15832457599998,
             40.87960457300005
            ],
            [
             -124.158317792,
             40.87958998000005
            ],
            [
             -124.15831313999996,
             40.87957298200007
            ],
            [
             -124.158310127,
             40.879551578000076
            ],
            [
             -124.15830843599997,
             40.87952648400005
            ],
            [
             -124.15830788,
             40.87947104700004
            ],
            [
             -124.158311374,
             40.879364140000064
            ],
            [
             -124.15841828199996,
             40.879360646000066
            ],
            [
             -124.15847371799998,
             40.87936120100005
            ],
            [
             -124.15849881399998,
             40.87936289100003
            ],
            [
             -124.15852021799998,
             40.87936590600003
            ],
            [
             -124.15853721499997,
             40.87937055700007
            ],
            [
             -124.15855180699998,
             40.879377341000065
            ],
            [
             -124.15856361299996,
             40.87938694600007
            ],
            [
             -124.15857209599994,
             40.879399884000065
            ],
            [
             -124.15857791099995,
             40.87941547300005
            ],
            [
             -124.158581804,
             40.87943291800008
            ],
            [
             -124.15858573699995,
             40.87947111500006
            ],
            [
             -124.15858618099998,
             40.879511053000044
            ],
            [
             -124.15858343399998,
             40.87955016400008
            ],
            [
             -124.15858048099994,
             40.87956856100004
            ],
            [
             -124.158576031,
             40.87958560800007
            ],
            [
             -124.15856957199998,
             40.879600725000046
            ],
            [
             -124.15856040299997,
             40.87961316800005
            ],
            [
             -124.15854795999996,
             40.87962233700006
            ],
            [
             -124.15853284399998,
             40.879628797000066
            ],
            [
             -124.15851579599996,
             40.879633246000026
            ],
            [
             -124.15849739899994,
             40.87963619900006
            ],
            [
             -124.15845828799996,
             40.87963894600006
            ],
            [
             -124.15841834899999,
             40.879638502000034
            ]
           ],
           "type": "LineString"
          },
          "id": "14",
          "properties": {
           "CSU_ID": 19802,
           "ERODIBILITY": "High",
           "MEAN_SIG_WAVEHEIGHT": 2.305355,
           "TIDAL_RANGE": 2.983468,
           "river_label": "moderate river discharge",
           "sinuosity_label": "straight",
           "slope_label": "flat",
           "style": {
            "color": "yellow",
            "dashArray": "5",
            "fillOpacity": 0.5,
            "fill_color": "yellow",
            "opacity": 1,
            "weight": 4
           },
           "turbid_label": "turbid"
          },
          "type": "Feature"
         },
         {
          "geometry": {
           "coordinates": [
            [
             -124.15634659699998,
             40.88227073300004
            ],
            [
             -124.15626022199996,
             40.882366012000034
            ],
            [
             -124.15623097599996,
             40.88240413900007
            ],
            [
             -124.15620569099997,
             40.88245585300007
            ],
            [
             -124.15618781799998,
             40.88251497700003
            ],
            [
             -124.15617541999995,
             40.88257957800005
            ],
            [
             -124.15616695999995,
             40.88264811700003
            ],
            [
             -124.15616120199996,
             40.88271935800003
            ],
            [
             -124.15614677899998,
             40.883012929000074
            ],
            [
             -124.15614128799996,
             40.88308443600005
            ],
            [
             -124.15613327999995,
             40.88315342900006
            ],
            [
             -124.15612161499996,
             40.88321876400005
            ],
            [
             -124.15610488399994,
             40.883279033000065
            ],
            [
             -124.15608133599994,
             40.88333248500004
            ],
            [
             -124.15584084199998,
             40.88382354200007
            ],
            [
             -124.15581269999996,
             40.88387241800007
            ],
            [
             -124.15578180999995,
             40.883908922000046
            ],
            [
             -124.15555582999997,
             40.88415489100004
            ],
            [
             -124.155519788,
             40.88418631600007
            ],
            [
             -124.15544280399996,
             40.88424432200003
            ],
            [
             -124.15540672499998,
             40.884275770000045
            ],
            [
             -124.15517968299997,
             40.88452241600004
            ],
            [
             -124.15514850599999,
             40.88455909000004
            ],
            [
             -124.15511999399996,
             40.884608179000054
            ],
            [
             -124.154878968,
             40.88509626900003
            ],
            [
             -124.15485776699995,
             40.885146889000055
            ],
            [
             -124.15484489599999,
             40.885202900000024
            ],
            [
             -124.15483922599998,
             40.88526201500008
            ],
            [
             -124.15484018199999,
             40.88532212400003
            ],
            [
             -124.15484770599994,
             40.88538118200006
            ],
            [
             -124.15486226299998,
             40.88543707800005
            ],
            [
             -124.15488483499996,
             40.885487529000045
            ],
            [
             -124.15491148999996,
             40.885526036000044
            ],
            [
             -124.15497188999996,
             40.88559699100006
            ],
            [
             -124.15499848999997,
             40.88563544100003
            ],
            [
             -124.15502095699998,
             40.88568578700006
            ],
            [
             -124.15503536899996,
             40.88574153900004
            ],
            [
             -124.15504272199996,
             40.88580042500007
            ],
            [
             -124.15504349399998,
             40.885860352000066
            ],
            [
             -124.15503765699998,
             40.88591929800003
            ],
            [
             -124.15502466799995,
             40.88597519000007
            ],
            [
             -124.15479055699996,
             40.88664676900004
            ],
            [
             -124.15464348299997,
             40.88694654200003
            ],
            [
             -124.15455851499996,
             40.88717215300005
            ],
            [
             -124.15434604499995,
             40.887795968000034
            ],
            [
             -124.15427835999998,
             40.88805233700003
            ],
            [
             -124.15419291799998,
             40.88845441900003
            ],
            [
             -124.15412563799998,
             40.888659793000045
            ]
           ],
           "type": "LineString"
          },
          "id": "15",
          "properties": {
           "CSU_ID": 19802,
           "ERODIBILITY": "High",
           "MEAN_SIG_WAVEHEIGHT": 2.305355,
           "TIDAL_RANGE": 2.983468,
           "river_label": "moderate river discharge",
           "sinuosity_label": "straight",
           "slope_label": "flat",
           "style": {
            "color": "yellow",
            "dashArray": "5",
            "fillOpacity": 0.5,
            "fill_color": "yellow",
            "opacity": 1,
            "weight": 4
           },
           "turbid_label": "turbid"
          },
          "type": "Feature"
         },
         {
          "geometry": {
           "coordinates": [
            [
             -124.15412563799998,
             40.888659793000045
            ],
            [
             -124.15396916199995,
             40.88913743300003
            ],
            [
             -124.15394988199995,
             40.88918888500007
            ],
            [
             -124.15392291599994,
             40.88922744700005
            ],
            [
             -124.15389333699994,
             40.88924706500006
            ],
            [
             -124.15385945999998,
             40.88925589300004
            ],
            [
             -124.15382411799999,
             40.88925491300006
            ],
            [
             -124.15379004199997,
             40.889244577000056
            ],
            [
             -124.15375912899998,
             40.88922569600004
            ],
            [
             -124.15370038299994,
             40.88917796900006
            ],
            [
             -124.153668101,
             40.88915782500004
            ],
            [
             -124.15363161899995,
             40.88914526000008
            ],
            [
             -124.15359264099999,
             40.88914089100007
            ],
            [
             -124.15355361199994,
             40.889144886000054
            ],
            [
             -124.15351698799998,
             40.88915784200003
            ],
            [
             -124.15348447199995,
             40.889179969000054
            ],
            [
             -124.15345456399996,
             40.88920856900006
            ],
            [
             -124.15332351899997,
             40.88933388600003
            ],
            [
             -124.15328940199998,
             40.88936665700004
            ],
            [
             -124.15325981399997,
             40.88940427500006
            ],
            [
             -124.15323333699996,
             40.88945842000004
            ],
            [
             -124.15321540899998,
             40.88952055400006
            ],
            [
             -124.15320413699999,
             40.889588151000055
            ],
            [
             -124.15319821499997,
             40.88965914500005
            ],
            [
             -124.15319686699996,
             40.88973178500004
            ],
            [
             -124.15319979799995,
             40.889804498000046
            ],
            [
             -124.15320716599996,
             40.88987575200008
            ],
            [
             -124.15321958399994,
             40.88994394500003
            ],
            [
             -124.15323814099997,
             40.89000727800004
            ],
            [
             -124.15326443799995,
             40.89006363800007
            ],
            [
             -124.15329296199997,
             40.890104300000075
            ],
            [
             -124.15335669799998,
             40.89017905600008
            ],
            [
             -124.15338518099998,
             40.89021956900007
            ],
            [
             -124.15341139099996,
             40.89027562100006
            ],
            [
             -124.15342983499994,
             40.89033851700003
            ],
            [
             -124.15344212199994,
             40.89040616200003
            ],
            [
             -124.15344937099997,
             40.890476782000064
            ],
            [
             -124.15345222299999,
             40.89054882100004
            ],
            [
             -124.15345088999999,
             40.890620829000056
            ],
            [
             -124.153445149,
             40.890691342000025
            ],
            [
             -124.153434329,
             40.89075878300008
            ],
            [
             -124.15341727199996,
             40.890821337000034
            ],
            [
             -124.153392296,
             40.89087684700007
            ],
            [
             -124.15254570999997,
             40.89253320100005
            ],
            [
             -124.152064742,
             40.89324286300007
            ],
            [
             -124.15203689099997,
             40.89327739600003
            ],
            [
             -124.15200626899997,
             40.893295659000046
            ],
            [
             -124.15197181599996,
             40.89330302800005
            ],
            [
             -124.15193623999994,
             40.89330010600003
            ],
            [
             -124.15190218099997,
             40.89328692000004
            ],
            [
             -124.15187146199997,
             40.89326377500004
            ],
            [
             -124.15174566999997,
             40.893137196000055
            ],
            [
             -124.15154193099994,
             40.89295327600007
            ],
            [
             -124.15151074099998,
             40.89293017700004
            ],
            [
             -124.15147612799996,
             40.89291705200003
            ],
            [
             -124.15143992399999,
             40.892914200000064
            ],
            [
             -124.15140477699998,
             40.89292165200004
            ],
            [
             -124.15137342199995,
             40.89294001300004
            ],
            [
             -124.15134471999994,
             40.89297467600005
            ],
            [
             -124.15132200499994,
             40.893020388000025
            ],
            [
             -124.15111936999995,
             40.89342997800003
            ],
            [
             -124.15110744799995,
             40.89346777600008
            ],
            [
             -124.15110449999997,
             40.89350742800008
            ],
            [
             -124.15111039099997,
             40.89354667400005
            ],
            [
             -124.15112545799997,
             40.89358322900006
            ],
            [
             -124.15113887399997,
             40.893601130000036
            ]
           ],
           "type": "LineString"
          },
          "id": "16",
          "properties": {
           "CSU_ID": 19802,
           "ERODIBILITY": "High",
           "MEAN_SIG_WAVEHEIGHT": 2.305355,
           "TIDAL_RANGE": 2.983468,
           "river_label": "moderate river discharge",
           "sinuosity_label": "straight",
           "slope_label": "flat",
           "style": {
            "color": "yellow",
            "dashArray": "5",
            "fillOpacity": 0.5,
            "fill_color": "yellow",
            "opacity": 1,
            "weight": 4
           },
           "turbid_label": "turbid"
          },
          "type": "Feature"
         },
         {
          "geometry": {
           "coordinates": [
            [
             -124.15113887399997,
             40.893601130000036
            ],
            [
             -124.15114967799997,
             40.893615546000035
            ],
            [
             -124.151332793,
             40.89381853500004
            ],
            [
             -124.15145937499994,
             40.89394442300005
            ],
            [
             -124.151483601,
             40.893976259000056
            ],
            [
             -124.15149867399998,
             40.89401225100005
            ],
            [
             -124.15150456999999,
             40.89405085400006
            ],
            [
             -124.15150163199996,
             40.89408980300004
            ],
            [
             -124.151489718,
             40.894126852000056
            ],
            [
             -124.15141305509884,
             40.894289
            ]
           ],
           "type": "LineString"
          },
          "id": "17",
          "properties": {
           "CSU_ID": 19802,
           "ERODIBILITY": "High",
           "MEAN_SIG_WAVEHEIGHT": 2.305355,
           "TIDAL_RANGE": 2.983468,
           "river_label": "moderate river discharge",
           "sinuosity_label": "straight",
           "slope_label": "flat",
           "style": {
            "color": "yellow",
            "dashArray": "5",
            "fillOpacity": 0.5,
            "fill_color": "yellow",
            "opacity": 1,
            "weight": 4
           },
           "turbid_label": "turbid"
          },
          "type": "Feature"
         }
        ],
        "type": "FeatureCollection"
       },
       "hover_style": {
        "color": "white",
        "dashArray": "4",
        "fillOpacity": 0.7
       },
       "name": "shoreline",
       "style": {
        "color": "yellow",
        "dashArray": "5",
        "fillOpacity": 0.5,
        "fill_color": "yellow",
        "opacity": 1,
        "weight": 4
       }
      }
     },
     "1479a6c4f62a4c6c9781e2ddc7b761d3": {
      "model_module": "@jupyter-widgets/base",
      "model_module_version": "1.2.0",
      "model_name": "LayoutModel",
      "state": {}
     },
     "14e98eb8963d4acd9248610559d1d80c": {
      "model_module": "jupyter-leaflet",
      "model_module_version": "^0.17.0",
      "model_name": "LeafletTileLayerModel",
      "state": {
       "_model_module_version": "^0.17.0",
       "_view_module_version": "^0.17.0",
       "attribution": "Justice Map",
       "max_zoom": 22,
       "name": "JusticeMap.hispanic",
       "options": [
        "attribution",
        "bounds",
        "detect_retina",
        "max_native_zoom",
        "max_zoom",
        "min_native_zoom",
        "min_zoom",
        "no_wrap",
        "tile_size",
        "tms"
       ],
       "url": "https://www.justicemap.org/tile/county/hispanic/{z}/{x}/{y}.png"
      }
     },
     "15282ea08f034c0984e5abe1d650dc26": {
      "model_module": "@jupyter-widgets/base",
      "model_module_version": "1.2.0",
      "model_name": "LayoutModel",
      "state": {
       "margin": "0px 5px 0px 5px"
      }
     },
     "15e7dafd68ff49b4884d14a74dae4217": {
      "model_module": "@jupyter-widgets/controls",
      "model_module_version": "1.5.0",
      "model_name": "HTMLModel",
      "state": {
       "layout": "IPY_MODEL_b5249d5e0a734585b882e40aebf62466",
       "style": "IPY_MODEL_edc872a5f667400d96aea6c6302e064e",
       "value": "Saving settings: 100%"
      }
     },
     "1636c53e1175438482daa4564f220380": {
      "model_module": "@jupyter-widgets/controls",
      "model_module_version": "1.5.0",
      "model_name": "DescriptionStyleModel",
      "state": {
       "description_width": ""
      }
     },
     "17064ebe5f0e4bbebb2e0f9d49c39087": {
      "model_module": "@jupyter-widgets/controls",
      "model_module_version": "1.5.0",
      "model_name": "DescriptionStyleModel",
      "state": {
       "description_width": ""
      }
     },
     "188cb0327a754d3188d993594784d19d": {
      "model_module": "jupyter-leaflet",
      "model_module_version": "^0.17.0",
      "model_name": "LeafletGeoJSONModel",
      "state": {
       "_model_module_version": "^0.17.0",
       "_view_module_version": "^0.17.0",
       "data": {
        "features": [
         {
          "geometry": {
           "coordinates": [
            [
             [
              -124.17404858142513,
              40.86422220794567
             ],
             [
              -124.1746854497345,
              40.9002483174463
             ],
             [
              -124.12720484834989,
              40.9007222145803
             ],
             [
              -124.12659370860285,
              40.86469550725421
             ],
             [
              -124.17404858142513,
              40.86422220794567
             ]
            ]
           ],
           "type": "Polygon"
          },
          "id": "0",
          "properties": {
           "id": "0",
           "style": {
            "color": "blue",
            "fillColor": "blue",
            "fillOpacity": 0.1,
            "weight": 2
           }
          },
          "type": "Feature"
         },
         {
          "geometry": {
           "coordinates": [
            [
             [
              -124.17404858142513,
              40.86422220794567
             ],
             [
              -124.17460577811191,
              40.89574506655364
             ],
             [
              -124.1330631297143,
              40.89616072971841
             ],
             [
              -124.13252562911848,
              40.86463741225173
             ],
             [
              -124.17404858142513,
              40.86422220794567
             ]
            ]
           ],
           "type": "Polygon"
          },
          "id": "1",
          "properties": {
           "id": "1",
           "style": {
            "color": "blue",
            "fillColor": "blue",
            "fillOpacity": 0.1,
            "weight": 2
           }
          },
          "type": "Feature"
         }
        ],
        "type": "FeatureCollection"
       },
       "hover_style": {
        "color": "aqua",
        "fillColor": "blue",
        "fillOpacity": 0.1
       },
       "name": "Selected ROIs"
      }
     },
     "190c22920c264002a1982480e9217e1e": {
      "model_module": "@jupyter-widgets/controls",
      "model_module_version": "1.5.0",
      "model_name": "DescriptionStyleModel",
      "state": {
       "description_width": ""
      }
     },
     "191a0a55fa02421aa33d76c3e1891a13": {
      "model_module": "@jupyter-widgets/base",
      "model_module_version": "1.2.0",
      "model_name": "LayoutModel",
      "state": {
       "height": "auto",
       "padding": "0px 0px 0px 4px",
       "width": "auto"
      }
     },
     "195ccc819eae4e2aa5491a990bcb7ccf": {
      "model_module": "@jupyter-widgets/controls",
      "model_module_version": "1.5.0",
      "model_name": "VBoxModel",
      "state": {
       "children": [
        "IPY_MODEL_baf5d7c3a23a47b9a6a1261a633c68ba"
       ],
       "layout": "IPY_MODEL_7fe1e4ff080c4dafb8ec4373e77ac699"
      }
     },
     "19f35d68b8ed4aa4b62966352927a708": {
      "model_module": "@jupyter-widgets/controls",
      "model_module_version": "1.5.0",
      "model_name": "DescriptionStyleModel",
      "state": {
       "description_width": ""
      }
     },
     "1a6ae80bdf6b4d599cd9f374bedd1335": {
      "model_module": "jupyter-leaflet",
      "model_module_version": "^0.17.0",
      "model_name": "LeafletTileLayerModel",
      "state": {
       "_model_module_version": "^0.17.0",
       "_view_module_version": "^0.17.0",
       "attribution": "(C) OpenStreetMap contributors (C) CARTO",
       "max_zoom": 20,
       "name": "CartoDB.Voyager",
       "options": [
        "attribution",
        "bounds",
        "detect_retina",
        "max_native_zoom",
        "max_zoom",
        "min_native_zoom",
        "min_zoom",
        "no_wrap",
        "tile_size",
        "tms"
       ],
       "url": "https://a.basemaps.cartocdn.com/rastertiles/voyager/{z}/{x}/{y}.png"
      }
     },
     "1b319080db6c4f5f9f2c2803826e22d6": {
      "model_module": "@jupyter-widgets/controls",
      "model_module_version": "1.5.0",
      "model_name": "DescriptionStyleModel",
      "state": {
       "description_width": ""
      }
     },
     "1bc98d1562a24d2fbe619c3740ff4c4b": {
      "model_module": "jupyter-leaflet",
      "model_module_version": "^0.17.0",
      "model_name": "LeafletMapStyleModel",
      "state": {
       "_model_module_version": "^0.17.0",
       "cursor": "default"
      }
     },
     "1c3d991908d24de9b6d4fff066561ea7": {
      "model_module": "jupyter-leaflet",
      "model_module_version": "^0.17.0",
      "model_name": "LeafletTileLayerModel",
      "state": {
       "_model_module_version": "^0.17.0",
       "_view_module_version": "^0.17.0",
       "attribution": "Imagery provided by services from the Global Imagery Browse Services (GIBS), operated by the NASA/GSFC/Earth Science Data and Information System (ESDIS) with funding provided by NASA/HQ.",
       "max_zoom": 9,
       "name": "NASAGIBS.ModisTerraTrueColorCR",
       "options": [
        "attribution",
        "bounds",
        "detect_retina",
        "max_native_zoom",
        "max_zoom",
        "min_native_zoom",
        "min_zoom",
        "no_wrap",
        "tile_size",
        "tms"
       ],
       "url": "https://map1.vis.earthdata.nasa.gov/wmts-webmerc/MODIS_Terra_CorrectedReflectance_TrueColor/default//GoogleMapsCompatible_Level9/{z}/{y}/{x}.jpg"
      }
     },
     "1c5a7886b54642808d7fb4ff0cbe41b7": {
      "model_module": "jupyter-leaflet",
      "model_module_version": "^0.17.0",
      "model_name": "LeafletWMSLayerModel",
      "state": {
       "_model_module_version": "^0.17.0",
       "_view_module_version": "^0.17.0",
       "attribution": "MRLC",
       "crs": {
        "custom": false,
        "name": "EPSG3857"
       },
       "format": "image/png",
       "layers": "NLCD_2016_Land_Cover_L48",
       "name": "NLCD 2016 CONUS Land Cover",
       "options": [
        "attribution",
        "bounds",
        "detect_retina",
        "format",
        "layers",
        "max_native_zoom",
        "max_zoom",
        "min_native_zoom",
        "min_zoom",
        "no_wrap",
        "styles",
        "tile_size",
        "tms",
        "transparent",
        "uppercase"
       ],
       "transparent": true,
       "url": "https://www.mrlc.gov/geoserver/mrlc_display/NLCD_2016_Land_Cover_L48/wms?"
      }
     },
     "1c5dfc015c11403e81c82c71e0248443": {
      "model_module": "@jupyter-widgets/base",
      "model_module_version": "1.2.0",
      "model_name": "LayoutModel",
      "state": {}
     },
     "1d9b55f0f7ec470c8037220cd1375daf": {
      "model_module": "@jupyter-widgets/controls",
      "model_module_version": "1.5.0",
      "model_name": "DatePickerModel",
      "state": {
       "description": "Start Date",
       "disabled": false,
       "layout": "IPY_MODEL_b73f5fb519a84227a54d2037bc947aa0",
       "style": "IPY_MODEL_eff6d2b6abcc41ef8850ebd8c4d8a5c5",
       "value": {
        "date": 1,
        "month": 11,
        "year": 2018
       }
      }
     },
     "1ec7b49ebd3e46d38f3060182f6a999f": {
      "model_module": "jupyter-leaflet",
      "model_module_version": "^0.17.0",
      "model_name": "LeafletTileLayerModel",
      "state": {
       "_model_module_version": "^0.17.0",
       "_view_module_version": "^0.17.0",
       "attribution": "Imagery provided by services from the Global Imagery Browse Services (GIBS), operated by the NASA/GSFC/Earth Science Data and Information System (ESDIS) with funding provided by NASA/HQ.",
       "max_zoom": 9,
       "name": "NASAGIBS.ModisTerraBands367CR",
       "options": [
        "attribution",
        "bounds",
        "detect_retina",
        "max_native_zoom",
        "max_zoom",
        "min_native_zoom",
        "min_zoom",
        "no_wrap",
        "tile_size",
        "tms"
       ],
       "url": "https://map1.vis.earthdata.nasa.gov/wmts-webmerc/MODIS_Terra_CorrectedReflectance_Bands367/default//GoogleMapsCompatible_Level9/{z}/{y}/{x}.jpg"
      }
     },
     "1f07d00b6010493f9a705ed22f12de33": {
      "model_module": "jupyter-leaflet",
      "model_module_version": "^0.17.0",
      "model_name": "LeafletTileLayerModel",
      "state": {
       "_model_module_version": "^0.17.0",
       "_view_module_version": "^0.17.0",
       "attribution": "Map tiles by <a href=\"https://labs.strava.com/heatmap\">Strava 2021</a>",
       "max_zoom": 15,
       "name": "Strava.Water",
       "options": [
        "attribution",
        "bounds",
        "detect_retina",
        "max_native_zoom",
        "max_zoom",
        "min_native_zoom",
        "min_zoom",
        "no_wrap",
        "tile_size",
        "tms"
       ],
       "url": "https://heatmap-external-a.strava.com/tiles/water/blue/{z}/{x}/{y}.png"
      }
     },
     "1f14df6ebdb9401795b6079a1c4de2b2": {
      "model_module": "jupyter-leaflet",
      "model_module_version": "^0.17.0",
      "model_name": "LeafletMapStyleModel",
      "state": {
       "_model_module_version": "^0.17.0",
       "cursor": "wait"
      }
     },
     "1f7f25aaa3cd4d8b89e5443458ab275a": {
      "model_module": "@jupyter-widgets/controls",
      "model_module_version": "1.5.0",
      "model_name": "HTMLModel",
      "state": {
       "layout": "IPY_MODEL_486ba9db54534264babfa404213d11d1",
       "style": "IPY_MODEL_5d56dde78a1247829518124f3270c971",
       "value": "Downloading ROIs: 100%"
      }
     },
     "1fde95e9d40a45e0a2eba6f0c9ac298a": {
      "model_module": "@jupyter-widgets/base",
      "model_module_version": "1.2.0",
      "model_name": "LayoutModel",
      "state": {}
     },
     "1ff129a2276b4f6e88e4cd6814a4d027": {
      "model_module": "jupyter-leaflet",
      "model_module_version": "^0.17.0",
      "model_name": "LeafletGeoJSONModel",
      "state": {
       "_model_module_version": "^0.17.0",
       "_view_module_version": "^0.17.0",
       "data": {
        "features": [
         {
          "geometry": {
           "coordinates": [
            [
             [
              -124.174054,
              40.864529
             ],
             [
              -124.174054,
              40.887263
             ],
             [
              -124.143513,
              40.887263
             ],
             [
              -124.143513,
              40.864529
             ],
             [
              -124.174054,
              40.864529
             ]
            ]
           ],
           "type": "Polygon"
          },
          "id": "45",
          "properties": {
           "style": {
            "color": "#75b671",
            "fillOpacity": 0.1,
            "fill_color": "#75b671",
            "opacity": 1,
            "weight": 1
           }
          },
          "type": "Feature"
         }
        ],
        "type": "FeatureCollection"
       },
       "name": "Bbox",
       "style": {
        "color": "#75b671",
        "fillOpacity": 0.1,
        "fill_color": "#75b671",
        "opacity": 1,
        "weight": 1
       }
      }
     },
     "1ff3564d1b694a2bbfe0a710ef362505": {
      "model_module": "@jupyter-widgets/base",
      "model_module_version": "1.2.0",
      "model_name": "LayoutModel",
      "state": {
       "height": "auto",
       "padding": "0px 0px 0px 4px",
       "width": "auto"
      }
     },
     "206e8b17a7fc4da8a7f2f994493c5831": {
      "model_module": "jupyter-leaflet",
      "model_module_version": "^0.17.0",
      "model_name": "LeafletTileLayerModel",
      "state": {
       "_model_module_version": "^0.17.0",
       "_view_module_version": "^0.17.0",
       "attribution": "(C) OpenStreetMap contributors (C) CARTO",
       "max_zoom": 20,
       "name": "CartoDB.VoyagerLabelsUnder",
       "options": [
        "attribution",
        "bounds",
        "detect_retina",
        "max_native_zoom",
        "max_zoom",
        "min_native_zoom",
        "min_zoom",
        "no_wrap",
        "tile_size",
        "tms"
       ],
       "url": "https://a.basemaps.cartocdn.com/rastertiles/voyager_labels_under/{z}/{x}/{y}.png"
      }
     },
     "21007909e9664fa3ab4c5119ca761c07": {
      "model_module": "jupyter-leaflet",
      "model_module_version": "^0.17.0",
      "model_name": "LeafletWMSLayerModel",
      "state": {
       "_model_module_version": "^0.17.0",
       "_view_module_version": "^0.17.0",
       "attribution": "MRLC",
       "crs": {
        "custom": false,
        "name": "EPSG3857"
       },
       "format": "image/png",
       "layers": "NLCD_2006_Land_Cover_L48",
       "name": "NLCD 2006 CONUS Land Cover",
       "options": [
        "attribution",
        "bounds",
        "detect_retina",
        "format",
        "layers",
        "max_native_zoom",
        "max_zoom",
        "min_native_zoom",
        "min_zoom",
        "no_wrap",
        "styles",
        "tile_size",
        "tms",
        "transparent",
        "uppercase"
       ],
       "transparent": true,
       "url": "https://www.mrlc.gov/geoserver/mrlc_display/NLCD_2006_Land_Cover_L48/wms?"
      }
     },
     "215347f9d79c477db00bb3683b1e92ad": {
      "model_module": "@jupyter-widgets/controls",
      "model_module_version": "1.5.0",
      "model_name": "DescriptionStyleModel",
      "state": {
       "description_width": ""
      }
     },
     "226d2fe470514b50860068a5551b861d": {
      "model_module": "@jupyter-widgets/controls",
      "model_module_version": "1.5.0",
      "model_name": "ToggleButtonModel",
      "state": {
       "button_style": "primary",
       "icon": "info",
       "layout": "IPY_MODEL_08fd8945366f44ff90fda9958c6edd1e",
       "style": "IPY_MODEL_32ec0be63b9c450a9e09aa742543ee30",
       "tooltip": "Get COG/STAC pixel value"
      }
     },
     "22ba6285d23642cd8473c465eb108dd0": {
      "model_module": "@jupyter-widgets/base",
      "model_module_version": "1.2.0",
      "model_name": "LayoutModel",
      "state": {}
     },
     "22f44d99e64c4ecdaad5c66533ee07b4": {
      "model_module": "@jupyter-widgets/controls",
      "model_module_version": "1.5.0",
      "model_name": "DescriptionStyleModel",
      "state": {
       "description_width": ""
      }
     },
     "23985a9dd06848f38fd03a15266c59a6": {
      "model_module": "jupyter-leaflet",
      "model_module_version": "^0.17.0",
      "model_name": "LeafletTileLayerModel",
      "state": {
       "_model_module_version": "^0.17.0",
       "_view_module_version": "^0.17.0",
       "attribution": "Map data: (C) OpenSeaMap contributors",
       "max_zoom": 22,
       "name": "OpenSeaMap",
       "options": [
        "attribution",
        "bounds",
        "detect_retina",
        "max_native_zoom",
        "max_zoom",
        "min_native_zoom",
        "min_zoom",
        "no_wrap",
        "tile_size",
        "tms"
       ],
       "url": "https://tiles.openseamap.org/seamark/{z}/{x}/{y}.png"
      }
     },
     "23dc1d68166f4ff39d4cfc68561e7a2f": {
      "model_module": "@jupyter-widgets/controls",
      "model_module_version": "1.5.0",
      "model_name": "HBoxModel",
      "state": {
       "children": [
        "IPY_MODEL_e7dc0e28cace42acac91b1febbe6d44a",
        "IPY_MODEL_f27fdcfa3be14e4d8edf946d9c357cdb",
        "IPY_MODEL_ff9f954968af4495935d62454e38cf5e"
       ],
       "layout": "IPY_MODEL_cd4b7dac9ba2487dae8189b61ff6160a"
      }
     },
     "24968859e15d40408ae54e22182d9d6a": {
      "model_module": "jupyter-leaflet",
      "model_module_version": "^0.17.0",
      "model_name": "LeafletTileLayerModel",
      "state": {
       "_model_module_version": "^0.17.0",
       "_view_module_version": "^0.17.0",
       "attribution": "Map tiles by Stamen Design, CC BY 3.0 -- Map data (C) OpenStreetMap contributors",
       "max_zoom": 20,
       "name": "Stamen.Toner",
       "options": [
        "attribution",
        "bounds",
        "detect_retina",
        "max_native_zoom",
        "max_zoom",
        "min_native_zoom",
        "min_zoom",
        "no_wrap",
        "tile_size",
        "tms"
       ],
       "url": "https://stamen-tiles-a.a.ssl.fastly.net/toner/{z}/{x}/{y}.png"
      }
     },
     "2543a391bc5f436a91dd75753db5d1cd": {
      "model_module": "jupyter-leaflet",
      "model_module_version": "^0.17.0",
      "model_name": "LeafletWMSLayerModel",
      "state": {
       "_model_module_version": "^0.17.0",
       "_view_module_version": "^0.17.0",
       "attribution": "MRLC",
       "crs": {
        "custom": false,
        "name": "EPSG3857"
       },
       "format": "image/png",
       "layers": "NLCD_2019_Land_Cover_L48",
       "name": "NLCD 2019 CONUS Land Cover",
       "options": [
        "attribution",
        "bounds",
        "detect_retina",
        "format",
        "layers",
        "max_native_zoom",
        "max_zoom",
        "min_native_zoom",
        "min_zoom",
        "no_wrap",
        "styles",
        "tile_size",
        "tms",
        "transparent",
        "uppercase"
       ],
       "transparent": true,
       "url": "https://www.mrlc.gov/geoserver/mrlc_display/NLCD_2019_Land_Cover_L48/wms?"
      }
     },
     "2745092aa837422ebe8f2379b066c1e5": {
      "model_module": "jupyter-leaflet",
      "model_module_version": "^0.17.0",
      "model_name": "LeafletTileLayerModel",
      "state": {
       "_model_module_version": "^0.17.0",
       "_view_module_version": "^0.17.0",
       "attribution": "Tiles (C) Esri -- Source: US National Park Service",
       "max_zoom": 8,
       "name": "Esri.WorldPhysical",
       "options": [
        "attribution",
        "bounds",
        "detect_retina",
        "max_native_zoom",
        "max_zoom",
        "min_native_zoom",
        "min_zoom",
        "no_wrap",
        "tile_size",
        "tms"
       ],
       "url": "https://server.arcgisonline.com/ArcGIS/rest/services/World_Physical_Map/MapServer/tile/{z}/{y}/{x}"
      }
     },
     "274c1bc936be46ceb6681ebe7a31b6c4": {
      "model_module": "jupyter-leaflet",
      "model_module_version": "^0.17.0",
      "model_name": "LeafletTileLayerModel",
      "state": {
       "_model_module_version": "^0.17.0",
       "_view_module_version": "^0.17.0",
       "attribution": "Geoportail France",
       "name": "GeoportailFrance.plan",
       "options": [
        "attribution",
        "bounds",
        "detect_retina",
        "max_native_zoom",
        "max_zoom",
        "min_native_zoom",
        "min_zoom",
        "no_wrap",
        "tile_size",
        "tms"
       ],
       "url": "https://wxs.ign.fr/choisirgeoportail/geoportail/wmts?REQUEST=GetTile&SERVICE=WMTS&VERSION=1.0.0&STYLE=normal&TILEMATRIXSET=PM&FORMAT=image/png&LAYER=GEOGRAPHICALGRIDSYSTEMS.PLANIGNV2&TILEMATRIX={z}&TILEROW={y}&TILECOL={x}"
      }
     },
     "279d5bda6de7490f88b61be6e8676d42": {
      "model_module": "jupyter-leaflet",
      "model_module_version": "^0.17.0",
      "model_name": "LeafletTileLayerModel",
      "state": {
       "_model_module_version": "^0.17.0",
       "_view_module_version": "^0.17.0",
       "attribution": "Earthstar Geographics",
       "max_zoom": 24,
       "name": "Esri.AntarcticImagery",
       "options": [
        "attribution",
        "bounds",
        "detect_retina",
        "max_native_zoom",
        "max_zoom",
        "min_native_zoom",
        "min_zoom",
        "no_wrap",
        "tile_size",
        "tms"
       ],
       "url": "http://server.arcgisonline.com/ArcGIS/rest/services/Polar/Antarctic_Imagery/MapServer/tile/{z}/{y}/{x}"
      }
     },
     "27f5fea1130f429fb134dd6196040aa2": {
      "model_module": "jupyter-leaflet",
      "model_module_version": "^0.17.0",
      "model_name": "LeafletAttributionControlModel",
      "state": {
       "_model_module_version": "^0.17.0",
       "_view_module_version": "^0.17.0",
       "options": [
        "position",
        "prefix"
       ],
       "position": "bottomright",
       "prefix": "ipyleaflet"
      }
     },
     "286763b3060e4cd085a07e6222349626": {
      "model_module": "jupyter-leaflet",
      "model_module_version": "^0.17.0",
      "model_name": "LeafletTileLayerModel",
      "state": {
       "_model_module_version": "^0.17.0",
       "_view_module_version": "^0.17.0",
       "attribution": "© swisstopo",
       "name": "SwissFederalGeoportal.NationalMapColor",
       "options": [
        "attribution",
        "bounds",
        "detect_retina",
        "max_native_zoom",
        "max_zoom",
        "min_native_zoom",
        "min_zoom",
        "no_wrap",
        "tile_size",
        "tms"
       ],
       "url": "https://wmts.geo.admin.ch/1.0.0/ch.swisstopo.pixelkarte-farbe/default/current/3857/{z}/{x}/{y}.jpeg"
      }
     },
     "28ddf8fa924a4c399fe79f82b5793d07": {
      "model_module": "@jupyter-widgets/controls",
      "model_module_version": "1.5.0",
      "model_name": "DescriptionStyleModel",
      "state": {
       "description_width": ""
      }
     },
     "28e05cae62af4f1687124f84d0f28578": {
      "model_module": "jupyter-leaflet",
      "model_module_version": "^0.17.0",
      "model_name": "LeafletLayersControlModel",
      "state": {
       "_model_module_version": "^0.17.0",
       "_view_module_version": "^0.17.0",
       "options": [
        "position"
       ],
       "position": "topright"
      }
     },
     "2982e6d60d684c44a6878d6a39f26ba5": {
      "model_module": "jupyter-leaflet",
      "model_module_version": "^0.17.0",
      "model_name": "LeafletWMSLayerModel",
      "state": {
       "_model_module_version": "^0.17.0",
       "_view_module_version": "^0.17.0",
       "attribution": "MRLC",
       "crs": {
        "custom": false,
        "name": "EPSG3857"
       },
       "format": "image/png",
       "layers": "NLCD_2004_Land_Cover_L48",
       "name": "NLCD 2004 CONUS Land Cover",
       "options": [
        "attribution",
        "bounds",
        "detect_retina",
        "format",
        "layers",
        "max_native_zoom",
        "max_zoom",
        "min_native_zoom",
        "min_zoom",
        "no_wrap",
        "styles",
        "tile_size",
        "tms",
        "transparent",
        "uppercase"
       ],
       "transparent": true,
       "url": "https://www.mrlc.gov/geoserver/mrlc_display/NLCD_2004_Land_Cover_L48/wms?"
      }
     },
     "2ae3860bf7b0402d8872e6d4a6916359": {
      "model_module": "jupyter-leaflet",
      "model_module_version": "^0.17.0",
      "model_name": "LeafletGeoJSONModel",
      "state": {
       "_model_module_version": "^0.17.0",
       "_view_module_version": "^0.17.0",
       "data": {
        "features": [
         {
          "geometry": {
           "coordinates": [
            [
             [
              -124.17404858142513,
              40.86422220794567
             ],
             [
              -124.17460577811191,
              40.89574506655364
             ],
             [
              -124.1330631297143,
              40.89616072971841
             ],
             [
              -124.13252562911848,
              40.86463741225173
             ],
             [
              -124.17404858142513,
              40.86422220794567
             ]
            ]
           ],
           "type": "Polygon"
          },
          "id": "1",
          "properties": {
           "id": "1",
           "style": {
            "color": "blue",
            "fillColor": "blue",
            "fillOpacity": 0.1,
            "weight": 2
           }
          },
          "type": "Feature"
         }
        ],
        "type": "FeatureCollection"
       },
       "hover_style": {
        "color": "aqua",
        "fillColor": "blue",
        "fillOpacity": 0.1
       },
       "name": "Selected ROIs"
      }
     },
     "2aee08eb6f0b4721bc6cb95a596d9fe0": {
      "model_module": "@jupyter-widgets/controls",
      "model_module_version": "1.5.0",
      "model_name": "ButtonModel",
      "state": {
       "description": "Load configs",
       "layout": "IPY_MODEL_3d25c223339a426eb6887afc29ca9a40",
       "style": "IPY_MODEL_0e35ef6e92134e9c9f62ff67698870dc"
      }
     },
     "2afc23d10d404781a7cc3e0b57a6390a": {
      "model_module": "jupyter-leaflet",
      "model_module_version": "^0.17.0",
      "model_name": "LeafletTileLayerModel",
      "state": {
       "_model_module_version": "^0.17.0",
       "_view_module_version": "^0.17.0",
       "attribution": "Geoportail France",
       "max_zoom": 19,
       "name": "GeoportailFrance.orthos",
       "options": [
        "attribution",
        "bounds",
        "detect_retina",
        "max_native_zoom",
        "max_zoom",
        "min_native_zoom",
        "min_zoom",
        "no_wrap",
        "tile_size",
        "tms"
       ],
       "url": "https://wxs.ign.fr/choisirgeoportail/geoportail/wmts?REQUEST=GetTile&SERVICE=WMTS&VERSION=1.0.0&STYLE=normal&TILEMATRIXSET=PM&FORMAT=image/jpeg&LAYER=ORTHOIMAGERY.ORTHOPHOTOS&TILEMATRIX={z}&TILEROW={y}&TILECOL={x}"
      }
     },
     "2b06a58bf707411996f0d195bb8a5e8b": {
      "model_module": "@jupyter-widgets/base",
      "model_module_version": "1.2.0",
      "model_name": "LayoutModel",
      "state": {
       "height": "600px",
       "width": "100%"
      }
     },
     "2baa7f2c2cd64e7db14c182174b69cd8": {
      "model_module": "@jupyter-widgets/base",
      "model_module_version": "1.2.0",
      "model_name": "LayoutModel",
      "state": {}
     },
     "2c227290754f4d109dd10f9956212baa": {
      "model_module": "@jupyter-widgets/controls",
      "model_module_version": "1.5.0",
      "model_name": "DescriptionStyleModel",
      "state": {
       "description_width": ""
      }
     },
     "2cbc1907d9bd4f75a8540f3c3cd35c0b": {
      "model_module": "@jupyter-widgets/controls",
      "model_module_version": "1.5.0",
      "model_name": "HBoxModel",
      "state": {
       "children": [
        "IPY_MODEL_ab5361c0d37a4db9a91a515f00c1bed0"
       ],
       "layout": "IPY_MODEL_9ece31741137499a8731cfddc98999d6"
      }
     },
     "2d717d4b70174ce095f7bdc5b543e53c": {
      "model_module": "@jupyter-widgets/controls",
      "model_module_version": "1.5.0",
      "model_name": "ProgressStyleModel",
      "state": {
       "description_width": ""
      }
     },
     "2d88420c774b48b2af6a88f40763ffa3": {
      "model_module": "jupyter-leaflet",
      "model_module_version": "^0.17.0",
      "model_name": "LeafletGeoJSONModel",
      "state": {
       "_model_module_version": "^0.17.0",
       "_view_module_version": "^0.17.0",
       "data": {
        "features": [
         {
          "geometry": {
           "coordinates": [
            [
             [
              -124.17404858142513,
              40.86422220794567
             ],
             [
              -124.1746854497345,
              40.9002483174463
             ],
             [
              -124.12720484834989,
              40.9007222145803
             ],
             [
              -124.12659370860285,
              40.86469550725421
             ],
             [
              -124.17404858142513,
              40.86422220794567
             ]
            ]
           ],
           "type": "Polygon"
          },
          "id": "0",
          "properties": {
           "id": "0",
           "style": {
            "color": "blue",
            "fillColor": "blue",
            "fillOpacity": 0.1,
            "weight": 2
           }
          },
          "type": "Feature"
         },
         {
          "geometry": {
           "coordinates": [
            [
             [
              -124.17404858142513,
              40.86422220794567
             ],
             [
              -124.17460577811191,
              40.89574506655364
             ],
             [
              -124.1330631297143,
              40.89616072971841
             ],
             [
              -124.13252562911848,
              40.86463741225173
             ],
             [
              -124.17404858142513,
              40.86422220794567
             ]
            ]
           ],
           "type": "Polygon"
          },
          "id": "1",
          "properties": {
           "id": "1",
           "style": {
            "color": "blue",
            "fillColor": "blue",
            "fillOpacity": 0.1,
            "weight": 2
           }
          },
          "type": "Feature"
         }
        ],
        "type": "FeatureCollection"
       },
       "hover_style": {
        "color": "aqua",
        "fillColor": "blue",
        "fillOpacity": 0.1
       },
       "name": "Selected ROIs"
      }
     },
     "2f63fa597a154766a3dc70bc76fac2ed": {
      "model_module": "@jupyter-widgets/base",
      "model_module_version": "1.2.0",
      "model_name": "LayoutModel",
      "state": {}
     },
     "2f7e41f6e0624ff184e5ec7a74dc1f56": {
      "model_module": "jupyter-leaflet",
      "model_module_version": "^0.17.0",
      "model_name": "LeafletTileLayerModel",
      "state": {
       "_model_module_version": "^0.17.0",
       "_view_module_version": "^0.17.0",
       "attribution": "Map tiles by Stamen Design, CC BY 3.0 -- Map data (C) OpenStreetMap contributors",
       "max_zoom": 20,
       "name": "Stamen.TonerLabels",
       "options": [
        "attribution",
        "bounds",
        "detect_retina",
        "max_native_zoom",
        "max_zoom",
        "min_native_zoom",
        "min_zoom",
        "no_wrap",
        "tile_size",
        "tms"
       ],
       "url": "https://stamen-tiles-a.a.ssl.fastly.net/toner-labels/{z}/{x}/{y}.png"
      }
     },
     "3040f73fceb540799187f142ba4f3da3": {
      "model_module": "jupyter-leaflet",
      "model_module_version": "^0.17.0",
      "model_name": "LeafletMapStyleModel",
      "state": {
       "_model_module_version": "^0.17.0",
       "cursor": "wait"
      }
     },
     "3059993666a24ccfbed7900da1eac9c4": {
      "model_module": "@jupyter-widgets/base",
      "model_module_version": "1.2.0",
      "model_name": "LayoutModel",
      "state": {
       "height": "auto",
       "padding": "0px 0px 0px 4px",
       "width": "auto"
      }
     },
     "312c6d53afcd44dfbfbf96599e62a9b3": {
      "model_module": "@jupyter-widgets/controls",
      "model_module_version": "1.5.0",
      "model_name": "ToggleButtonModel",
      "state": {
       "button_style": "primary",
       "icon": "download",
       "layout": "IPY_MODEL_71cbd1d005a34a54812c0ba5a915842e",
       "style": "IPY_MODEL_ebce25255232415083aae021a0462d33",
       "tooltip": "Download OSM data"
      }
     },
     "316fd352b2d9446a965177fe493a49bf": {
      "model_module": "@jupyter-widgets/controls",
      "model_module_version": "1.5.0",
      "model_name": "ProgressStyleModel",
      "state": {
       "description_width": ""
      }
     },
     "319172d354174bc5abd4b3e08e296f1c": {
      "model_module": "jupyter-leaflet",
      "model_module_version": "^0.17.0",
      "model_name": "LeafletTileLayerModel",
      "state": {
       "_model_module_version": "^0.17.0",
       "_view_module_version": "^0.17.0",
       "attribution": "Kaartgegevens (C) Kadaster",
       "max_zoom": 19,
       "name": "nlmaps.standaard",
       "options": [
        "attribution",
        "bounds",
        "detect_retina",
        "max_native_zoom",
        "max_zoom",
        "min_native_zoom",
        "min_zoom",
        "no_wrap",
        "tile_size",
        "tms"
       ],
       "url": "https://service.pdok.nl/brt/achtergrondkaart/wmts/v2_0/standaard/EPSG:3857/{z}/{x}/{y}.png"
      }
     },
     "3202eb41b8474f7994119c637f3789b7": {
      "model_module": "jupyter-leaflet",
      "model_module_version": "^0.17.0",
      "model_name": "LeafletTileLayerModel",
      "state": {
       "_model_module_version": "^0.17.0",
       "_view_module_version": "^0.17.0",
       "attribution": "Map data: (C) OpenStreetMap contributors, SRTM | Map style: (C) OpenTopoMap (CC-BY-SA)",
       "max_zoom": 17,
       "name": "OpenTopoMap",
       "options": [
        "attribution",
        "bounds",
        "detect_retina",
        "max_native_zoom",
        "max_zoom",
        "min_native_zoom",
        "min_zoom",
        "no_wrap",
        "tile_size",
        "tms"
       ],
       "url": "https://a.tile.opentopomap.org/{z}/{x}/{y}.png"
      }
     },
     "32344f14cd46400fb10332541be1b1a2": {
      "model_module": "jupyter-leaflet",
      "model_module_version": "^0.17.0",
      "model_name": "LeafletTileLayerModel",
      "state": {
       "_model_module_version": "^0.17.0",
       "_view_module_version": "^0.17.0",
       "attribution": "(C) OpenStreetMap contributors (C) CARTO",
       "max_zoom": 20,
       "name": "CartoDB.VoyagerNoLabels",
       "options": [
        "attribution",
        "bounds",
        "detect_retina",
        "max_native_zoom",
        "max_zoom",
        "min_native_zoom",
        "min_zoom",
        "no_wrap",
        "tile_size",
        "tms"
       ],
       "url": "https://a.basemaps.cartocdn.com/rastertiles/voyager_nolabels/{z}/{x}/{y}.png"
      }
     },
     "3257b90f30bc4de68f8fccf097036cca": {
      "model_module": "jupyter-leaflet",
      "model_module_version": "^0.17.0",
      "model_name": "LeafletMapStyleModel",
      "state": {
       "_model_module_version": "^0.17.0",
       "cursor": "default"
      }
     },
     "32ec0be63b9c450a9e09aa742543ee30": {
      "model_module": "@jupyter-widgets/controls",
      "model_module_version": "1.5.0",
      "model_name": "DescriptionStyleModel",
      "state": {
       "description_width": ""
      }
     },
     "3364070f71324238b65912cc24e044e0": {
      "model_module": "jupyter-leaflet",
      "model_module_version": "^0.17.0",
      "model_name": "LeafletWMSLayerModel",
      "state": {
       "_model_module_version": "^0.17.0",
       "_view_module_version": "^0.17.0",
       "attribution": "MRLC",
       "crs": {
        "custom": false,
        "name": "EPSG3857"
       },
       "format": "image/png",
       "layers": "NLCD_2001_Land_Cover_L48",
       "name": "NLCD 2001 CONUS Land Cover",
       "options": [
        "attribution",
        "bounds",
        "detect_retina",
        "format",
        "layers",
        "max_native_zoom",
        "max_zoom",
        "min_native_zoom",
        "min_zoom",
        "no_wrap",
        "styles",
        "tile_size",
        "tms",
        "transparent",
        "uppercase"
       ],
       "transparent": true,
       "url": "https://www.mrlc.gov/geoserver/mrlc_display/NLCD_2001_Land_Cover_L48/wms?"
      }
     },
     "3366145a1fdb4e3baa4edcf22ce2552f": {
      "model_module": "@jupyter-widgets/base",
      "model_module_version": "1.2.0",
      "model_name": "LayoutModel",
      "state": {}
     },
     "338ea0043b0045d998e9d845847da1f3": {
      "model_module": "@jupyter-widgets/base",
      "model_module_version": "1.2.0",
      "model_name": "LayoutModel",
      "state": {
       "margin": "0px 5px 5px 0px"
      }
     },
     "33c61fbc82674bc6b544f7bca5d80081": {
      "model_module": "@jupyter-widgets/base",
      "model_module_version": "1.2.0",
      "model_name": "LayoutModel",
      "state": {
       "margin": "0px 5px 0px 5px"
      }
     },
     "342b907c224a4ccdb0dd2bf0a2e70252": {
      "model_module": "jupyter-leaflet",
      "model_module_version": "^0.17.0",
      "model_name": "LeafletTileLayerModel",
      "state": {
       "_model_module_version": "^0.17.0",
       "_view_module_version": "^0.17.0",
       "attribution": "Tiles (C) Esri -- Source: Esri, i-cubed, USDA, USGS, AEX, GeoEye, Getmapping, Aerogrid, IGN, IGP, UPR-EGP, and the GIS User Community",
       "max_zoom": 22,
       "name": "Esri.WorldImagery",
       "options": [
        "attribution",
        "bounds",
        "detect_retina",
        "max_native_zoom",
        "max_zoom",
        "min_native_zoom",
        "min_zoom",
        "no_wrap",
        "tile_size",
        "tms"
       ],
       "url": "https://server.arcgisonline.com/ArcGIS/rest/services/World_Imagery/MapServer/tile/{z}/{y}/{x}"
      }
     },
     "343392b1507443369585cbec89f6dc37": {
      "model_module": "@jupyter-widgets/controls",
      "model_module_version": "1.5.0",
      "model_name": "HTMLModel",
      "state": {
       "layout": "IPY_MODEL_737425df1c554dd5957be1221e35faa4",
       "style": "IPY_MODEL_06bc55c689494cab972ad5778a4105df",
       "value": "Downloading ROIs: 100%"
      }
     },
     "348a4ca764ac40399da2263680b365f6": {
      "model_module": "jupyter-leaflet",
      "model_module_version": "^0.17.0",
      "model_name": "LeafletTileLayerModel",
      "state": {
       "_model_module_version": "^0.17.0",
       "_view_module_version": "^0.17.0",
       "attribution": "Map data: (C) OpenStreetMap contributors | Map style: (C) waymarkedtrails.org (CC-BY-SA)",
       "name": "WaymarkedTrails.mtb",
       "options": [
        "attribution",
        "bounds",
        "detect_retina",
        "max_native_zoom",
        "max_zoom",
        "min_native_zoom",
        "min_zoom",
        "no_wrap",
        "tile_size",
        "tms"
       ],
       "url": "https://tile.waymarkedtrails.org/mtb/{z}/{x}/{y}.png"
      }
     },
     "34a8a5ca85d54f1590aca75c684b759d": {
      "model_module": "@jupyter-widgets/controls",
      "model_module_version": "1.5.0",
      "model_name": "ProgressStyleModel",
      "state": {
       "description_width": ""
      }
     },
     "350a9f67d315492d897bf58797a8b77d": {
      "model_module": "jupyter-leaflet",
      "model_module_version": "^0.17.0",
      "model_name": "LeafletTileLayerModel",
      "state": {
       "_model_module_version": "^0.17.0",
       "_view_module_version": "^0.17.0",
       "attribution": "Map data: (C) OpenStreetMap contributors | Map style: (C) SafeCast (CC-BY-SA)",
       "max_zoom": 16,
       "name": "SafeCast",
       "options": [
        "attribution",
        "bounds",
        "detect_retina",
        "max_native_zoom",
        "max_zoom",
        "min_native_zoom",
        "min_zoom",
        "no_wrap",
        "tile_size",
        "tms"
       ],
       "url": "https://s3.amazonaws.com/te512.safecast.org/{z}/{x}/{y}.png"
      }
     },
     "357733f00b6144978bd0a0466c5b3738": {
      "model_module": "jupyter-leaflet",
      "model_module_version": "^0.17.0",
      "model_name": "LeafletTileLayerModel",
      "state": {
       "_model_module_version": "^0.17.0",
       "_view_module_version": "^0.17.0",
       "attribution": "Google",
       "max_zoom": 22,
       "name": "Google Satellite",
       "options": [
        "attribution",
        "bounds",
        "detect_retina",
        "max_native_zoom",
        "max_zoom",
        "min_native_zoom",
        "min_zoom",
        "no_wrap",
        "tile_size",
        "tms"
       ],
       "url": "https://mt1.google.com/vt/lyrs=y&x={x}&y={y}&z={z}"
      }
     },
     "35996c5e111f4f7b8b0ed62259a6e8a5": {
      "model_module": "jupyter-leaflet",
      "model_module_version": "^0.17.0",
      "model_name": "LeafletTileLayerModel",
      "state": {
       "_model_module_version": "^0.17.0",
       "_view_module_version": "^0.17.0",
       "attribution": "Tiles (C) Esri -- Copyright: (C)2012 DeLorme",
       "max_zoom": 11,
       "name": "Esri.DeLorme",
       "options": [
        "attribution",
        "bounds",
        "detect_retina",
        "max_native_zoom",
        "max_zoom",
        "min_native_zoom",
        "min_zoom",
        "no_wrap",
        "tile_size",
        "tms"
       ],
       "url": "https://server.arcgisonline.com/ArcGIS/rest/services/Specialty/DeLorme_World_Base_Map/MapServer/tile/{z}/{y}/{x}"
      }
     },
     "36744833d5ec4b2eb4c15b83ccf75cd0": {
      "model_module": "@jupyter-widgets/controls",
      "model_module_version": "1.5.0",
      "model_name": "RadioButtonsModel",
      "state": {
       "_options_labels": [
        "C01",
        "C02"
       ],
       "description": "Collection:",
       "index": 0,
       "layout": "IPY_MODEL_80584b22141f441bbb6c127585361c9f",
       "style": "IPY_MODEL_f292339e777844018546660cf3ae2673"
      }
     },
     "38873be720d5423991b42ccacba58054": {
      "model_module": "@jupyter-widgets/controls",
      "model_module_version": "1.5.0",
      "model_name": "HBoxModel",
      "state": {
       "children": [
        "IPY_MODEL_817e7d25da344fbbae17eaed21441c6f",
        "IPY_MODEL_9c28ede3401644378f6df447a7b533df",
        "IPY_MODEL_dddd237ae685497ead8845bedfff36ee"
       ],
       "layout": "IPY_MODEL_caf7e9741f8d4e2585390a001e7c109a"
      }
     },
     "39390d964d3b4c84a322dd572d75ad5b": {
      "model_module": "@jupyter-widgets/base",
      "model_module_version": "1.2.0",
      "model_name": "LayoutModel",
      "state": {}
     },
     "3c56fed233604c67ab9e522590b076c3": {
      "model_module": "@jupyter-widgets/base",
      "model_module_version": "1.2.0",
      "model_name": "LayoutModel",
      "state": {
       "height": "auto",
       "padding": "0px 0px 0px 4px",
       "width": "auto"
      }
     },
     "3ca6dea5997346dabac20c80eb369188": {
      "model_module": "@jupyter-widgets/controls",
      "model_module_version": "1.5.0",
      "model_name": "ButtonModel",
      "state": {
       "description": "Remove transects",
       "layout": "IPY_MODEL_9b96f07f81404d40aaa884dcb5a04727",
       "style": "IPY_MODEL_5221dfdf96094fb8918cda29a87e80c6"
      }
     },
     "3cef4383da764d20bcb5b6b41caa48f4": {
      "model_module": "jupyter-leaflet",
      "model_module_version": "^0.17.0",
      "model_name": "LeafletTileLayerModel",
      "state": {
       "_model_module_version": "^0.17.0",
       "_view_module_version": "^0.17.0",
       "attribution": "Tiles courtesy of the U.S. Geological Survey",
       "max_zoom": 20,
       "name": "USGS.USImageryTopo",
       "options": [
        "attribution",
        "bounds",
        "detect_retina",
        "max_native_zoom",
        "max_zoom",
        "min_native_zoom",
        "min_zoom",
        "no_wrap",
        "tile_size",
        "tms"
       ],
       "url": "https://basemap.nationalmap.gov/arcgis/rest/services/USGSImageryTopo/MapServer/tile/{z}/{y}/{x}"
      }
     },
     "3d25c223339a426eb6887afc29ca9a40": {
      "model_module": "@jupyter-widgets/base",
      "model_module_version": "1.2.0",
      "model_name": "LayoutModel",
      "state": {}
     },
     "3d8826c42c8746ee8672fdda34fb1cac": {
      "model_module": "@jupyter-widgets/controls",
      "model_module_version": "1.5.0",
      "model_name": "VBoxModel",
      "state": {
       "children": [
        "IPY_MODEL_8ffb6d8eb5fb44a2b73d5788a25a581a",
        "IPY_MODEL_a7b7f3c69c854361a7fd39ae709ea92f",
        "IPY_MODEL_bfbd08ff8cf4449ba2ae209b3dd1c946",
        "IPY_MODEL_e4957e2c5eda4195ac926d79331c6451",
        "IPY_MODEL_5ca680ad33044071826444bda8ca7ad5",
        "IPY_MODEL_0ab80f43bec342ba8cba76272c343277",
        "IPY_MODEL_b2ea423b1fc14d57ad0c7583ca7d0749",
        "IPY_MODEL_d9084b05506c418b8a36fd4098f693cb",
        "IPY_MODEL_7b33df7615a042d28f9da0542126bc0d"
       ],
       "layout": "IPY_MODEL_c48a1e659a7f4f2f9cdff1e0847a070a"
      }
     },
     "3db0192f8263440abbd51f3c8b8bfa03": {
      "model_module": "@jupyter-widgets/base",
      "model_module_version": "1.2.0",
      "model_name": "LayoutModel",
      "state": {
       "height": "auto",
       "padding": "0px 0px 0px 4px",
       "width": "auto"
      }
     },
     "3deeac64e94a49abb7d507f310f9d47e": {
      "model_module": "@jupyter-widgets/base",
      "model_module_version": "1.2.0",
      "model_name": "LayoutModel",
      "state": {}
     },
     "3e6469df4c304f76944efeae8a7c7ed1": {
      "model_module": "jupyter-leaflet",
      "model_module_version": "^0.17.0",
      "model_name": "LeafletMapStyleModel",
      "state": {
       "_model_module_version": "^0.17.0",
       "cursor": "wait"
      }
     },
     "3eae55aa0b054c1b9eeae5f6f0954ab3": {
      "model_module": "jupyter-leaflet",
      "model_module_version": "^0.17.0",
      "model_name": "LeafletTileLayerModel",
      "state": {
       "_model_module_version": "^0.17.0",
       "_view_module_version": "^0.17.0",
       "attribution": "Datenquelle: basemap.at",
       "max_zoom": 19,
       "name": "BasemapAT.highdpi",
       "options": [
        "attribution",
        "bounds",
        "detect_retina",
        "max_native_zoom",
        "max_zoom",
        "min_native_zoom",
        "min_zoom",
        "no_wrap",
        "tile_size",
        "tms"
       ],
       "url": "https://maps.wien.gv.at/basemap/bmaphidpi/normal/google3857/{z}/{y}/{x}.jpeg"
      }
     },
     "3fc404efd88a4a2fb9b79dd5957ae246": {
      "model_module": "jupyter-leaflet",
      "model_module_version": "^0.17.0",
      "model_name": "LeafletTileLayerModel",
      "state": {
       "_model_module_version": "^0.17.0",
       "_view_module_version": "^0.17.0",
       "attribution": "Tiles courtesy of the U.S. Geological Survey",
       "max_zoom": 20,
       "name": "USGS.USImagery",
       "options": [
        "attribution",
        "bounds",
        "detect_retina",
        "max_native_zoom",
        "max_zoom",
        "min_native_zoom",
        "min_zoom",
        "no_wrap",
        "tile_size",
        "tms"
       ],
       "url": "https://basemap.nationalmap.gov/arcgis/rest/services/USGSImageryOnly/MapServer/tile/{z}/{y}/{x}"
      }
     },
     "403da15803564817908551adf76b4e31": {
      "model_module": "@jupyter-widgets/controls",
      "model_module_version": "1.5.0",
      "model_name": "VBoxModel",
      "state": {
       "children": [
        "IPY_MODEL_961248c68e904644898fc741c99d7ef5",
        "IPY_MODEL_c9f3432ad3284bb5a37de355eb6ce81b",
        "IPY_MODEL_b17c3adefb5f4412a3cfe9c136566298"
       ],
       "layout": "IPY_MODEL_8f8b4e421faa406fafdd0b2e48f4252a"
      }
     },
     "405c75e915984dfd965199f823f61ec2": {
      "model_module": "@jupyter-widgets/base",
      "model_module_version": "1.2.0",
      "model_name": "LayoutModel",
      "state": {}
     },
     "407e7cb3fad34697bb3c1d079119584d": {
      "model_module": "@jupyter-widgets/controls",
      "model_module_version": "1.5.0",
      "model_name": "ButtonStyleModel",
      "state": {
       "button_color": "#50bf8f"
      }
     },
     "40df585669b94ae5a2d271430c1e506e": {
      "model_module": "jupyter-leaflet",
      "model_module_version": "^0.17.0",
      "model_name": "LeafletTileLayerModel",
      "state": {
       "_model_module_version": "^0.17.0",
       "_view_module_version": "^0.17.0",
       "attribution": "(C) OpenStreetMap contributors (C) CARTO",
       "max_zoom": 20,
       "name": "CartoDB.Positron",
       "options": [
        "attribution",
        "bounds",
        "detect_retina",
        "max_native_zoom",
        "max_zoom",
        "min_native_zoom",
        "min_zoom",
        "no_wrap",
        "tile_size",
        "tms"
       ],
       "url": "https://a.basemaps.cartocdn.com/light_all/{z}/{x}/{y}.png"
      }
     },
     "414a081022414884b961e3066115b884": {
      "model_module": "@jupyter-widgets/controls",
      "model_module_version": "1.5.0",
      "model_name": "ButtonStyleModel",
      "state": {
       "button_color": "#69add1"
      }
     },
     "41577c4e8c834c55baf7930dc5cb83d3": {
      "model_module": "@jupyter-widgets/controls",
      "model_module_version": "1.5.0",
      "model_name": "IntSliderModel",
      "state": {
       "continuous_update": false,
       "description": "Large Fishnet:",
       "layout": "IPY_MODEL_5581933c4cd742b487fff0d6594c0a33",
       "max": 10000,
       "min": 1000,
       "step": 100,
       "style": "IPY_MODEL_f3cf3b6381184dfbbf06020ffd4fc243",
       "value": 4000
      }
     },
     "417506d7ab0943829cc32280e13c1c9d": {
      "model_module": "jupyter-leaflet",
      "model_module_version": "^0.17.0",
      "model_name": "LeafletTileLayerModel",
      "state": {
       "_model_module_version": "^0.17.0",
       "_view_module_version": "^0.17.0",
       "attribution": "Tiles courtesy of the U.S. Geological Survey",
       "max_zoom": 20,
       "name": "USGS.USTopo",
       "options": [
        "attribution",
        "bounds",
        "detect_retina",
        "max_native_zoom",
        "max_zoom",
        "min_native_zoom",
        "min_zoom",
        "no_wrap",
        "tile_size",
        "tms"
       ],
       "url": "https://basemap.nationalmap.gov/arcgis/rest/services/USGSTopo/MapServer/tile/{z}/{y}/{x}"
      }
     },
     "4175f93e29b04a4296b97edfe393f195": {
      "model_module": "jupyter-leaflet",
      "model_module_version": "^0.17.0",
      "model_name": "LeafletTileLayerModel",
      "state": {
       "_model_module_version": "^0.17.0",
       "_view_module_version": "^0.17.0",
       "attribution": "© swisstopo",
       "name": "SwissFederalGeoportal.NationalMapGrey",
       "options": [
        "attribution",
        "bounds",
        "detect_retina",
        "max_native_zoom",
        "max_zoom",
        "min_native_zoom",
        "min_zoom",
        "no_wrap",
        "tile_size",
        "tms"
       ],
       "url": "https://wmts.geo.admin.ch/1.0.0/ch.swisstopo.pixelkarte-grau/default/current/3857/{z}/{x}/{y}.jpeg"
      }
     },
     "41aeb8aac94e4664828a5f8ad4cafe70": {
      "model_module": "jupyter-leaflet",
      "model_module_version": "^0.17.0",
      "model_name": "LeafletTileLayerModel",
      "state": {
       "_model_module_version": "^0.17.0",
       "_view_module_version": "^0.17.0",
       "attribution": "Map tiles by Stamen Design, CC BY 3.0 -- Map data (C) OpenStreetMap contributors",
       "max_zoom": 20,
       "name": "Stamen.TonerLines",
       "options": [
        "attribution",
        "bounds",
        "detect_retina",
        "max_native_zoom",
        "max_zoom",
        "min_native_zoom",
        "min_zoom",
        "no_wrap",
        "tile_size",
        "tms"
       ],
       "url": "https://stamen-tiles-a.a.ssl.fastly.net/toner-lines/{z}/{x}/{y}.png"
      }
     },
     "422c1d0237b140b981a546d44276fa55": {
      "model_module": "@jupyter-widgets/base",
      "model_module_version": "1.2.0",
      "model_name": "LayoutModel",
      "state": {}
     },
     "42408be2cfb0403fac851b228fae6c59": {
      "model_module": "jupyter-leaflet",
      "model_module_version": "^0.17.0",
      "model_name": "LeafletTileLayerModel",
      "state": {
       "_model_module_version": "^0.17.0",
       "_view_module_version": "^0.17.0",
       "attribution": "Justice Map",
       "max_zoom": 22,
       "name": "JusticeMap.white",
       "options": [
        "attribution",
        "bounds",
        "detect_retina",
        "max_native_zoom",
        "max_zoom",
        "min_native_zoom",
        "min_zoom",
        "no_wrap",
        "tile_size",
        "tms"
       ],
       "url": "https://www.justicemap.org/tile/county/white/{z}/{x}/{y}.png"
      }
     },
     "431180002c2f46f0924dae73cefc4cfa": {
      "model_module": "jupyter-leaflet",
      "model_module_version": "^0.17.0",
      "model_name": "LeafletTileLayerModel",
      "state": {
       "_model_module_version": "^0.17.0",
       "_view_module_version": "^0.17.0",
       "attribution": "![](https://docs.onemap.sg/maps/images/oneMap64-01.png) New OneMap | Map data (C) contributors, Singapore Land Authority",
       "name": "OneMapSG.Default",
       "options": [
        "attribution",
        "bounds",
        "detect_retina",
        "max_native_zoom",
        "max_zoom",
        "min_native_zoom",
        "min_zoom",
        "no_wrap",
        "tile_size",
        "tms"
       ],
       "url": "https://maps-a.onemap.sg/v3/Default/{z}/{x}/{y}.png"
      }
     },
     "432a38983d5344edb022b74af0a17d3c": {
      "model_module": "jupyter-leaflet",
      "model_module_version": "^0.17.0",
      "model_name": "LeafletMapStyleModel",
      "state": {
       "_model_module_version": "^0.17.0",
       "cursor": "default"
      }
     },
     "439b109511204eb096a07270101c8884": {
      "model_module": "jupyter-leaflet",
      "model_module_version": "^0.17.0",
      "model_name": "LeafletGeoJSONModel",
      "state": {
       "_model_module_version": "^0.17.0",
       "_view_module_version": "^0.17.0",
       "data": {
        "features": [
         {
          "geometry": {
           "coordinates": [
            [
             [
              -124.17404858142513,
              40.86422220794567
             ],
             [
              -124.17460577811191,
              40.89574506655364
             ],
             [
              -124.1330631297143,
              40.89616072971841
             ],
             [
              -124.13252562911848,
              40.86463741225173
             ],
             [
              -124.17404858142513,
              40.86422220794567
             ]
            ]
           ],
           "type": "Polygon"
          },
          "id": "1",
          "properties": {
           "id": "1",
           "style": {
            "color": "blue",
            "fillColor": "blue",
            "fillOpacity": 0.1,
            "weight": 2
           }
          },
          "type": "Feature"
         }
        ],
        "type": "FeatureCollection"
       },
       "hover_style": {
        "color": "aqua",
        "fillColor": "blue",
        "fillOpacity": 0.1
       },
       "name": "Selected ROIs"
      }
     },
     "43cfb3b296b343d6ac23828a1a7b8b18": {
      "model_module": "@jupyter-widgets/controls",
      "model_module_version": "1.5.0",
      "model_name": "HBoxModel",
      "state": {
       "children": [
        "IPY_MODEL_9c079e0f959b43189073edc720b849c0",
        "IPY_MODEL_3ca6dea5997346dabac20c80eb369188",
        "IPY_MODEL_894b13c3b7f44e5387483c8d769f3332",
        "IPY_MODEL_4451f12bdf7946dcbadd37345da22321",
        "IPY_MODEL_8f74b6c5f85e4e7796722154a608490a"
       ],
       "layout": "IPY_MODEL_ffc99d7b5f2b458f94dc4a1528b6a2bd"
      }
     },
     "4436975e60f647c082239898ec6d441a": {
      "model_module": "@jupyter-widgets/base",
      "model_module_version": "1.2.0",
      "model_name": "LayoutModel",
      "state": {
       "border": "1px solid black"
      }
     },
     "4451f12bdf7946dcbadd37345da22321": {
      "model_module": "@jupyter-widgets/controls",
      "model_module_version": "1.5.0",
      "model_name": "ButtonModel",
      "state": {
       "description": "Remove shoreline",
       "layout": "IPY_MODEL_5e059041cdc948cabad56701bce3a437",
       "style": "IPY_MODEL_d955bc388b6d4ee58e691ca83fbe1c54"
      }
     },
     "449f19995dc54ce7a5f72060197f8d24": {
      "model_module": "@jupyter-widgets/controls",
      "model_module_version": "1.5.0",
      "model_name": "VBoxModel",
      "state": {
       "children": [
        "IPY_MODEL_e9bdf528ed044631a214f91babfee62e",
        "IPY_MODEL_b1a46a960f19489f8414de08aaa9243e"
       ],
       "layout": "IPY_MODEL_675bf023ef714afd8c9cd1cc7bbc0507"
      }
     },
     "450edf2822cb4051b7032e122d8146db": {
      "model_module": "jupyter-leaflet",
      "model_module_version": "^0.17.0",
      "model_name": "LeafletMapStyleModel",
      "state": {
       "_model_module_version": "^0.17.0",
       "cursor": "default"
      }
     },
     "4597b5991c634ebc84f01ecb6dc282bc": {
      "model_module": "@jupyter-widgets/controls",
      "model_module_version": "1.5.0",
      "model_name": "DescriptionStyleModel",
      "state": {
       "description_width": ""
      }
     },
     "45991139fbcf415495fba461b2f3fb48": {
      "model_module": "@jupyter-widgets/controls",
      "model_module_version": "1.5.0",
      "model_name": "ProgressStyleModel",
      "state": {
       "description_width": ""
      }
     },
     "45cdaa341935418b96246081a0991075": {
      "model_module": "@jupyter-widgets/controls",
      "model_module_version": "1.5.0",
      "model_name": "DescriptionStyleModel",
      "state": {
       "description_width": ""
      }
     },
     "460c8c3afdae48528f905fefd260a25a": {
      "model_module": "@jupyter-widgets/base",
      "model_module_version": "1.2.0",
      "model_name": "LayoutModel",
      "state": {}
     },
     "46c7f932a87a43dda05d547975b2022f": {
      "model_module": "@jupyter-widgets/controls",
      "model_module_version": "1.5.0",
      "model_name": "ToggleButtonModel",
      "state": {
       "button_style": "primary",
       "icon": "search",
       "layout": "IPY_MODEL_3db0192f8263440abbd51f3c8b8bfa03",
       "style": "IPY_MODEL_f2efcc177f984a3ca947274522816e8c",
       "tooltip": "Search XYZ tile services"
      }
     },
     "472cc919681f45f2943d6475b7c588ed": {
      "model_module": "jupyter-leaflet",
      "model_module_version": "^0.17.0",
      "model_name": "LeafletWMSLayerModel",
      "state": {
       "_model_module_version": "^0.17.0",
       "_view_module_version": "^0.17.0",
       "attribution": "USGS",
       "crs": {
        "custom": false,
        "name": "EPSG3857"
       },
       "format": "image/png",
       "layers": "USGSNAIPImagery:NDVI_Color",
       "name": "USGS NAIP Imagery NDVI",
       "options": [
        "attribution",
        "bounds",
        "detect_retina",
        "format",
        "layers",
        "max_native_zoom",
        "max_zoom",
        "min_native_zoom",
        "min_zoom",
        "no_wrap",
        "styles",
        "tile_size",
        "tms",
        "transparent",
        "uppercase"
       ],
       "transparent": true,
       "url": "https://imagery.nationalmap.gov/arcgis/services/USGSNAIPImagery/ImageServer/WMSServer?"
      }
     },
     "4783892006d64dea9616c5293d29bee2": {
      "model_module": "jupyter-leaflet",
      "model_module_version": "^0.17.0",
      "model_name": "LeafletWMSLayerModel",
      "state": {
       "_model_module_version": "^0.17.0",
       "_view_module_version": "^0.17.0",
       "attribution": "ESA",
       "crs": {
        "custom": false,
        "name": "EPSG3857"
       },
       "format": "image/png",
       "layers": "WORLDCOVER_2020_S2_FCC",
       "name": "ESA Worldcover 2020 S2 FCC",
       "options": [
        "attribution",
        "bounds",
        "detect_retina",
        "format",
        "layers",
        "max_native_zoom",
        "max_zoom",
        "min_native_zoom",
        "min_zoom",
        "no_wrap",
        "styles",
        "tile_size",
        "tms",
        "transparent",
        "uppercase"
       ],
       "transparent": true,
       "url": "https://services.terrascope.be/wms/v2"
      }
     },
     "4849ae3b5eef4b95b4f70b963e7c17d0": {
      "model_module": "@jupyter-widgets/controls",
      "model_module_version": "1.5.0",
      "model_name": "HBoxModel",
      "state": {
       "children": [
        "IPY_MODEL_71279fa2276d4b79b5fee54993872870",
        "IPY_MODEL_d0f7757c320a49239444efbd1138d783",
        "IPY_MODEL_5a79fd76cc434b12acc51895617d8c9b"
       ],
       "layout": "IPY_MODEL_da3f5c83d78f43e98df76bb2168105a1"
      }
     },
     "486ba9db54534264babfa404213d11d1": {
      "model_module": "@jupyter-widgets/base",
      "model_module_version": "1.2.0",
      "model_name": "LayoutModel",
      "state": {}
     },
     "49d771b7147f4a4f82b20d51746bada6": {
      "model_module": "@jupyter-widgets/controls",
      "model_module_version": "1.5.0",
      "model_name": "ButtonStyleModel",
      "state": {
       "button_color": "red"
      }
     },
     "4a7adf77a143470da73236799beabbba": {
      "model_module": "jupyter-leaflet",
      "model_module_version": "^0.17.0",
      "model_name": "LeafletTileLayerModel",
      "state": {
       "_model_module_version": "^0.17.0",
       "_view_module_version": "^0.17.0",
       "attribution": "(C) OpenStreetMap contributors (C) CARTO",
       "max_zoom": 20,
       "name": "CartoDB.PositronNoLabels",
       "options": [
        "attribution",
        "bounds",
        "detect_retina",
        "max_native_zoom",
        "max_zoom",
        "min_native_zoom",
        "min_zoom",
        "no_wrap",
        "tile_size",
        "tms"
       ],
       "url": "https://a.basemaps.cartocdn.com/light_nolabels/{z}/{x}/{y}.png"
      }
     },
     "4b1319d2544243be82a5371e341f0b38": {
      "model_module": "@jupyter-widgets/controls",
      "model_module_version": "1.5.0",
      "model_name": "FloatProgressModel",
      "state": {
       "bar_style": "success",
       "layout": "IPY_MODEL_5426cce679114597b36eebc43087ddad",
       "max": 2,
       "style": "IPY_MODEL_316fd352b2d9446a965177fe493a49bf",
       "value": 2
      }
     },
     "4d187a6fe01a413ca9a7699040170bc7": {
      "model_module": "jupyter-leaflet",
      "model_module_version": "^0.17.0",
      "model_name": "LeafletWidgetControlModel",
      "state": {
       "_model_module": "jupyter-leaflet",
       "_model_module_version": "^0.17.0",
       "_view_count": null,
       "_view_module": "jupyter-leaflet",
       "_view_module_version": "^0.17.0",
       "options": [
        "position",
        "transparent_bg"
       ],
       "position": "topright",
       "widget": "IPY_MODEL_9c3e0788b0a74351bdcfb90e9e6b9786"
      }
     },
     "4d85abbfd45a43c0af983b9708549c3a": {
      "model_module": "@jupyter-widgets/controls",
      "model_module_version": "1.5.0",
      "model_name": "ToggleButtonModel",
      "state": {
       "button_style": "primary",
       "icon": "eraser",
       "layout": "IPY_MODEL_8471ac3bb17446f29ce9fbcac8c2ae0b",
       "style": "IPY_MODEL_28ddf8fa924a4c399fe79f82b5793d07",
       "tooltip": "Remove all drawn features"
      }
     },
     "4dea47ef95f8435baa08c7b7fef64eb3": {
      "model_module": "jupyter-leaflet",
      "model_module_version": "^0.17.0",
      "model_name": "LeafletTileLayerModel",
      "state": {
       "_model_module_version": "^0.17.0",
       "_view_module_version": "^0.17.0",
       "attribution": "Map data: (C) OpenStreetMap contributors | Map style: (C) waymarkedtrails.org (CC-BY-SA)",
       "name": "WaymarkedTrails.cycling",
       "options": [
        "attribution",
        "bounds",
        "detect_retina",
        "max_native_zoom",
        "max_zoom",
        "min_native_zoom",
        "min_zoom",
        "no_wrap",
        "tile_size",
        "tms"
       ],
       "url": "https://tile.waymarkedtrails.org/cycling/{z}/{x}/{y}.png"
      }
     },
     "4ea76da0b3004280aad98950d4c0a71b": {
      "model_module": "jupyter-leaflet",
      "model_module_version": "^0.17.0",
      "model_name": "LeafletTileLayerModel",
      "state": {
       "_model_module_version": "^0.17.0",
       "_view_module_version": "^0.17.0",
       "attribution": "Tiles (C) Esri -- Source: Esri",
       "max_zoom": 13,
       "name": "Esri.WorldShadedRelief",
       "options": [
        "attribution",
        "bounds",
        "detect_retina",
        "max_native_zoom",
        "max_zoom",
        "min_native_zoom",
        "min_zoom",
        "no_wrap",
        "tile_size",
        "tms"
       ],
       "url": "https://server.arcgisonline.com/ArcGIS/rest/services/World_Shaded_Relief/MapServer/tile/{z}/{y}/{x}"
      }
     },
     "4eed115669104b3a872031513796bdcd": {
      "model_module": "jupyter-leaflet",
      "model_module_version": "^0.17.0",
      "model_name": "LeafletWidgetControlModel",
      "state": {
       "_model_module": "jupyter-leaflet",
       "_model_module_version": "^0.17.0",
       "_view_count": null,
       "_view_module": "jupyter-leaflet",
       "_view_module_version": "^0.17.0",
       "options": [
        "position",
        "transparent_bg"
       ],
       "position": "topright",
       "widget": "IPY_MODEL_55f4fb3dc105483ca63dd4f8776f5590"
      }
     },
     "4f032de5852548ceba245daeaa3e3ac5": {
      "model_module": "jupyter-leaflet",
      "model_module_version": "^0.17.0",
      "model_name": "LeafletTileLayerModel",
      "state": {
       "_model_module_version": "^0.17.0",
       "_view_module_version": "^0.17.0",
       "attribution": "Imagery provided by NOAA National Centers for Environmental Information (NCEI); International Bathymetric Chart of the Southern Ocean (IBCSO); General Bathymetric Chart of the Oceans (GEBCO).",
       "max_zoom": 9,
       "name": "Esri.AntarcticBasemap",
       "options": [
        "attribution",
        "bounds",
        "detect_retina",
        "max_native_zoom",
        "max_zoom",
        "min_native_zoom",
        "min_zoom",
        "no_wrap",
        "tile_size",
        "tms"
       ],
       "url": "https://tiles.arcgis.com/tiles/C8EMgrsFcRFL6LrL/arcgis/rest/services/Antarctic_Basemap/MapServer/tile/{z}/{y}/{x}"
      }
     },
     "4f326c1ccb1b43bca75eae1bfd643eae": {
      "model_module": "@jupyter-widgets/controls",
      "model_module_version": "1.5.0",
      "model_name": "ToggleButtonModel",
      "state": {
       "button_style": "primary",
       "icon": "table",
       "layout": "IPY_MODEL_1ff3564d1b694a2bbfe0a710ef362505",
       "style": "IPY_MODEL_88b84956a01547329bc773b6ae19920b",
       "tooltip": "Open attribute table"
      }
     },
     "4fd9a271e01048958fa67ed607f18838": {
      "model_module": "@jupyter-widgets/controls",
      "model_module_version": "1.5.0",
      "model_name": "ButtonStyleModel",
      "state": {
       "button_color": "#50bf8f"
      }
     },
     "4fe68d4b1bee4a6c8542e2930d1c013b": {
      "model_module": "jupyter-leaflet",
      "model_module_version": "^0.17.0",
      "model_name": "LeafletTileLayerModel",
      "state": {
       "_model_module_version": "^0.17.0",
       "_view_module_version": "^0.17.0",
       "attribution": "Tiles (C) Esri -- Source: USGS, Esri, TANA, DeLorme, and NPS",
       "max_zoom": 13,
       "name": "Esri.WorldTerrain",
       "options": [
        "attribution",
        "bounds",
        "detect_retina",
        "max_native_zoom",
        "max_zoom",
        "min_native_zoom",
        "min_zoom",
        "no_wrap",
        "tile_size",
        "tms"
       ],
       "url": "https://server.arcgisonline.com/ArcGIS/rest/services/World_Terrain_Base/MapServer/tile/{z}/{y}/{x}"
      }
     },
     "5044be4eaceb4c8596b5395fcc4ba437": {
      "model_module": "jupyter-leaflet",
      "model_module_version": "^0.17.0",
      "model_name": "LeafletWMSLayerModel",
      "state": {
       "_model_module_version": "^0.17.0",
       "_view_module_version": "^0.17.0",
       "attribution": "USGS",
       "crs": {
        "custom": false,
        "name": "EPSG3857"
       },
       "format": "image/png",
       "layers": "USGSNAIPImagery:NaturalColor",
       "name": "USGS NAIP Imagery",
       "options": [
        "attribution",
        "bounds",
        "detect_retina",
        "format",
        "layers",
        "max_native_zoom",
        "max_zoom",
        "min_native_zoom",
        "min_zoom",
        "no_wrap",
        "styles",
        "tile_size",
        "tms",
        "transparent",
        "uppercase"
       ],
       "transparent": true,
       "url": "https://imagery.nationalmap.gov/arcgis/services/USGSNAIPImagery/ImageServer/WMSServer?"
      }
     },
     "50dc933a7111463297baf872c1bcb4da": {
      "model_module": "@jupyter-widgets/controls",
      "model_module_version": "1.5.0",
      "model_name": "ButtonModel",
      "state": {
       "description": "Compute Transects",
       "layout": "IPY_MODEL_d61abdf823d54c7cbe2553b0a5ee012a",
       "style": "IPY_MODEL_d801c774e97f46f085fa0ec7c242c670"
      }
     },
     "515e22c65745476bb97d2d88dc7f022c": {
      "model_module": "jupyter-leaflet",
      "model_module_version": "^0.17.0",
      "model_name": "LeafletMapModel",
      "state": {
       "_model_module_version": "^0.17.0",
       "_view_module_version": "^0.17.0",
       "bottom": 1574787,
       "center": [
        40.874648721748194,
        -124.14237499237062
       ],
       "controls": [
        "IPY_MODEL_75acd5861103477aab684c00e22e211d",
        "IPY_MODEL_27f5fea1130f429fb134dd6196040aa2",
        "IPY_MODEL_a28d8b6fff9d449ba107ec8f22ce3b14",
        "IPY_MODEL_4d187a6fe01a413ca9a7699040170bc7",
        "IPY_MODEL_0d9d1934bf0d45c5807b9cd2fe84f1e1",
        "IPY_MODEL_28e05cae62af4f1687124f84d0f28578",
        "IPY_MODEL_4eed115669104b3a872031513796bdcd"
       ],
       "default_style": "IPY_MODEL_06de5dc81c67481a8497b079cf6e13c6",
       "dragging_style": "IPY_MODEL_548aa1701c8f490aa29481d6eb2a755a",
       "east": -124.09040451049806,
       "fullscreen": false,
       "interpolation": "bilinear",
       "layers": [
        "IPY_MODEL_7d35dfabfadc4878ba0b448a7f8edda0",
        "IPY_MODEL_f4b192bba46e4b7bb102a6b0399c215d",
        "IPY_MODEL_e72532f7db13499b8647841f822b45d0",
        "IPY_MODEL_f541074ae4e64ad38b1c0db1902209b2"
       ],
       "layout": "IPY_MODEL_2b06a58bf707411996f0d195bb8a5e8b",
       "left": 650183,
       "max_zoom": 24,
       "modisdate": "2022-10-24",
       "north": 40.89411594332179,
       "options": [
        "bounce_at_zoom_limits",
        "box_zoom",
        "center",
        "close_popup_on_click",
        "double_click_zoom",
        "dragging",
        "fullscreen",
        "inertia",
        "inertia_deceleration",
        "inertia_max_speed",
        "interpolation",
        "keyboard",
        "keyboard_pan_offset",
        "keyboard_zoom_offset",
        "max_zoom",
        "min_zoom",
        "prefer_canvas",
        "scroll_wheel_zoom",
        "tap",
        "tap_tolerance",
        "touch_zoom",
        "world_copy_jump",
        "zoom",
        "zoom_animation_threshold",
        "zoom_delta",
        "zoom_snap"
       ],
       "prefer_canvas": false,
       "right": 651394,
       "scroll_wheel_zoom": true,
       "south": 40.85517577410636,
       "style": "IPY_MODEL_06de5dc81c67481a8497b079cf6e13c6",
       "top": 1574187,
       "west": -124.19434547424318,
       "window_url": "http://localhost:8888/lab/tree/refactored_custom_map_official.ipynb",
       "zoom": 14
      }
     },
     "519da82b62b34518a61cdc9ab1b60bef": {
      "model_module": "jupyter-leaflet",
      "model_module_version": "^0.17.0",
      "model_name": "LeafletTileLayerModel",
      "state": {
       "_model_module_version": "^0.17.0",
       "_view_module_version": "^0.17.0",
       "attribution": "![](https://docs.onemap.sg/maps/images/oneMap64-01.png) New OneMap | Map data (C) contributors, Singapore Land Authority",
       "name": "OneMapSG.Grey",
       "options": [
        "attribution",
        "bounds",
        "detect_retina",
        "max_native_zoom",
        "max_zoom",
        "min_native_zoom",
        "min_zoom",
        "no_wrap",
        "tile_size",
        "tms"
       ],
       "url": "https://maps-a.onemap.sg/v3/Grey/{z}/{x}/{y}.png"
      }
     },
     "520aae8b252b486ba852bacb9a45190c": {
      "model_module": "@jupyter-widgets/controls",
      "model_module_version": "1.5.0",
      "model_name": "HTMLModel",
      "state": {
       "layout": "IPY_MODEL_1479a6c4f62a4c6c9781e2ddc7b761d3",
       "style": "IPY_MODEL_d822f3ad3fa9483db96916d8d5437f66",
       "value": " 2/2 [00:00&lt;00:00, 76.93it/s]"
      }
     },
     "5221dfdf96094fb8918cda29a87e80c6": {
      "model_module": "@jupyter-widgets/controls",
      "model_module_version": "1.5.0",
      "model_name": "ButtonStyleModel",
      "state": {
       "button_color": "red"
      }
     },
     "52a37891dd57497f904c2189a0470d06": {
      "model_module": "@jupyter-widgets/controls",
      "model_module_version": "1.5.0",
      "model_name": "DatePickerModel",
      "state": {
       "description": "Start Date",
       "disabled": false,
       "layout": "IPY_MODEL_0d9e988d2f124c24890ec04144153542",
       "style": "IPY_MODEL_0ac8be2e5e2f43a596a6bf92a367d6fe",
       "value": {
        "date": 1,
        "month": 11,
        "year": 2018
       }
      }
     },
     "52a3826a9b754a01b32ad9bd8b19b97a": {
      "model_module": "jupyter-leaflet",
      "model_module_version": "^0.17.0",
      "model_name": "LeafletTileLayerModel",
      "state": {
       "_model_module_version": "^0.17.0",
       "_view_module_version": "^0.17.0",
       "attribution": "![](https://docs.onemap.sg/maps/images/oneMap64-01.png) New OneMap | Map data (C) contributors, Singapore Land Authority",
       "name": "OneMapSG.Original",
       "options": [
        "attribution",
        "bounds",
        "detect_retina",
        "max_native_zoom",
        "max_zoom",
        "min_native_zoom",
        "min_zoom",
        "no_wrap",
        "tile_size",
        "tms"
       ],
       "url": "https://maps-a.onemap.sg/v3/Original/{z}/{x}/{y}.png"
      }
     },
     "52bfe07ac65f4d80a5ad3f10b10e002e": {
      "model_module": "@jupyter-widgets/controls",
      "model_module_version": "1.5.0",
      "model_name": "DescriptionStyleModel",
      "state": {
       "description_width": ""
      }
     },
     "52ca3f2a7325414a83df090702002270": {
      "model_module": "@jupyter-widgets/base",
      "model_module_version": "1.2.0",
      "model_name": "LayoutModel",
      "state": {}
     },
     "538d37776d994e0b8771bf7163ae6b80": {
      "model_module": "@jupyter-widgets/controls",
      "model_module_version": "1.5.0",
      "model_name": "ButtonModel",
      "state": {
       "description": "Extract Shorelines",
       "layout": "IPY_MODEL_b054f40b86124642a7a07a0123a05623",
       "style": "IPY_MODEL_f3e1f26bbab540cba4e86fca7d4297e0"
      }
     },
     "53b8f221af1b45d59ec141c642dba724": {
      "model_module": "@jupyter-widgets/base",
      "model_module_version": "1.2.0",
      "model_name": "LayoutModel",
      "state": {
       "height": "auto",
       "padding": "0px 0px 0px 4px",
       "width": "auto"
      }
     },
     "5426cce679114597b36eebc43087ddad": {
      "model_module": "@jupyter-widgets/base",
      "model_module_version": "1.2.0",
      "model_name": "LayoutModel",
      "state": {}
     },
     "546a72d270a544abb9f86d289cedc2aa": {
      "model_module": "@jupyter-widgets/controls",
      "model_module_version": "1.5.0",
      "model_name": "HTMLModel",
      "state": {
       "layout": "IPY_MODEL_cf6f1521dd8b4fd7b7b15583fb464248",
       "style": "IPY_MODEL_b8e5e540a0424ffc980a1b9ef4dad4b0",
       "value": "<h2><b>Generate ROIs</b></h2>                 Use the two sliders to control the size of the ROIs generated.<br>                    <li> No Overlap: Set small slider to 0 and large slider to desired ROI size.</li>                    <li>Overlap: Set small slider to a value and large slider to desired ROI size.</li>                    <b>How it Works</b><br>                     Two fishnets (grids) are created out of ROIs (squares) and placed <br>                     within the bounding box.You control the size of the individual ROIs <br>                     that compose the small and large fishnets.<br>                    The ROIs are measured in meters squared."
      }
     },
     "548aa1701c8f490aa29481d6eb2a755a": {
      "model_module": "jupyter-leaflet",
      "model_module_version": "^0.17.0",
      "model_name": "LeafletMapStyleModel",
      "state": {
       "_model_module_version": "^0.17.0",
       "cursor": "move"
      }
     },
     "54d9dbbc2af6452eadd8f08ea1099051": {
      "model_module": "@jupyter-widgets/base",
      "model_module_version": "1.2.0",
      "model_name": "LayoutModel",
      "state": {
       "width": "500px"
      }
     },
     "5524f44f2cba4f8ba4ea53b980f48680": {
      "model_module": "@jupyter-widgets/base",
      "model_module_version": "1.2.0",
      "model_name": "LayoutModel",
      "state": {}
     },
     "5581933c4cd742b487fff0d6594c0a33": {
      "model_module": "@jupyter-widgets/base",
      "model_module_version": "1.2.0",
      "model_name": "LayoutModel",
      "state": {}
     },
     "55f4fb3dc105483ca63dd4f8776f5590": {
      "model_module": "@jupyter-widgets/controls",
      "model_module_version": "1.5.0",
      "model_name": "AccordionModel",
      "state": {
       "_titles": {
        "0": "Shoreline Data"
       },
       "children": [
        "IPY_MODEL_e16c1abb8791410dbe3012cab414f417"
       ],
       "layout": "IPY_MODEL_1c5dfc015c11403e81c82c71e0248443"
      }
     },
     "565cfe9d5e804560a6f74c80259093ca": {
      "model_module": "jupyter-leaflet",
      "model_module_version": "^0.17.0",
      "model_name": "LeafletGeoJSONModel",
      "state": {
       "_model_module_version": "^0.17.0",
       "_view_module_version": "^0.17.0",
       "data": {
        "features": [
         {
          "geometry": {
           "coordinates": [
            [
             -124.15723465266632,
             40.88024282017237
            ],
            [
             -124.15719503114482,
             40.880378340137895
            ],
            [
             -124.15718317122587,
             40.880431821566276
            ],
            [
             -124.15716675586822,
             40.88051374624144
            ],
            [
             -124.15703004052256,
             40.88065024032859
            ],
            [
             -124.15700935588923,
             40.880673783095965
            ],
            [
             -124.15693214610452,
             40.88078634481455
            ],
            [
             -124.15683456894453,
             40.88086001888561
            ],
            [
             -124.15665658822697,
             40.88086287118599
            ],
            [
             -124.15764763618746,
             40.87929281856618
            ],
            [
             -124.15759464181578,
             40.879428472921006
            ],
            [
             -124.15757998347985,
             40.87956374246233
            ],
            [
             -124.15756962111108,
             40.87969896887917
            ],
            [
             -124.15752797113242,
             40.879785640053086
            ],
            [
             -124.1574759151986,
             40.87983503179857
            ],
            [
             -124.15735242487852,
             40.87992807383824
            ],
            [
             -124.15799150820382,
             40.878478631762434
            ],
            [
             -124.15794740576844,
             40.87861419700988
            ],
            [
             -124.15791797092179,
             40.87874961497244
            ],
            [
             -124.15787845588908,
             40.878885134129625
            ],
            [
             -124.15786849832821,
             40.87889466602014
            ],
            [
             -124.15779159648642,
             40.87902112857929
            ],
            [
             -124.15770225235445,
             40.87915714790443
            ],
            [
             -124.15769534746255,
             40.87917439374298
            ],
            [
             -124.14861516341772,
             40.86478988733218
            ],
            [
             -124.14872566394482,
             40.864920455886434
            ],
            [
             -124.14872809719736,
             40.86492388538227
            ],
            [
             -124.14890503164312,
             40.865000296231784
            ],
            [
             -124.14904362746101,
             40.865055865103194
            ],
            [
             -124.14908436549906,
             40.86507815390469
            ],
            [
             -124.14926224837212,
             40.865072064401375
            ],
            [
             -124.14944013952613,
             40.865066455762545
            ],
            [
             -124.14961803443849,
             40.86506106626452
            ],
            [
             -124.14979588645546,
             40.86505319866173
            ],
            [
             -124.14997383249597,
             40.865050768427984
            ],
            [
             -124.15011896533974,
             40.86518026969086
            ]
           ],
           "type": "LineString"
          },
          "id": "0",
          "properties": {
           "style": {
            "color": "#9933ff",
            "fillOpacity": 0.5,
            "fill_color": "#9933ff",
            "opacity": 1,
            "weight": 2
           }
          },
          "type": "Feature"
         },
         {
          "geometry": {
           "coordinates": [
            [
             -124.1486105760738,
             40.86478993301696
            ],
            [
             -124.14869940280866,
             40.864924171171296
            ],
            [
             -124.14872594088078,
             40.86493648107689
            ],
            [
             -124.14890551920516,
             40.865028505025705
            ],
            [
             -124.14895989345847,
             40.8650566992829
            ],
            [
             -124.14908531931846,
             40.865133330070414
            ],
            [
             -124.14926318757502,
             40.865126386639545
            ],
            [
             -124.1494410613329,
             40.86511976358763
            ],
            [
             -124.14961866031186,
             40.8650972547647
            ],
            [
             -124.14979618166373,
             40.865070265214214
            ],
            [
             -124.14995711327747,
             40.86504676077208
            ],
            [
             -124.14997370189593,
             40.86504321935447
            ],
            [
             -124.15014719166984,
             40.864909742642546
            ],
            [
             -124.15014932744303,
             40.86490667993759
            ],
            [
             -124.15019624906432,
             40.864774130631844
            ]
           ],
           "type": "LineString"
          },
          "id": "1",
          "properties": {
           "style": {
            "color": "#9933ff",
            "fillOpacity": 0.5,
            "fill_color": "#9933ff",
            "opacity": 1,
            "weight": 2
           }
          },
          "type": "Feature"
         }
        ],
        "type": "FeatureCollection"
       },
       "hover_style": {
        "color": "white",
        "fillOpacity": 0.7
       },
       "name": "shorelines_0.geojson",
       "style": {
        "color": "#9933ff",
        "fillOpacity": 0.5,
        "fill_color": "#9933ff",
        "opacity": 1,
        "weight": 2
       }
      }
     },
     "57c2264a140c4cf8a2fdd4dc2c5edb97": {
      "model_module": "jupyter-leaflet",
      "model_module_version": "^0.17.0",
      "model_name": "LeafletTileLayerModel",
      "state": {
       "_model_module_version": "^0.17.0",
       "_view_module_version": "^0.17.0",
       "attribution": "Map tiles by Stamen Design, CC BY 3.0 -- Map data (C) OpenStreetMap contributors",
       "max_zoom": 20,
       "name": "Stamen.TonerBackground",
       "options": [
        "attribution",
        "bounds",
        "detect_retina",
        "max_native_zoom",
        "max_zoom",
        "min_native_zoom",
        "min_zoom",
        "no_wrap",
        "tile_size",
        "tms"
       ],
       "url": "https://stamen-tiles-a.a.ssl.fastly.net/toner-background/{z}/{x}/{y}.png"
      }
     },
     "589eab196d8147e4b3193018d18e22f0": {
      "model_module": "@jupyter-widgets/base",
      "model_module_version": "1.2.0",
      "model_name": "LayoutModel",
      "state": {}
     },
     "5910037aa53446adbe8064f8884c5e15": {
      "model_module": "jupyter-leaflet",
      "model_module_version": "^0.17.0",
      "model_name": "LeafletTileLayerModel",
      "state": {
       "_model_module_version": "^0.17.0",
       "_view_module_version": "^0.17.0",
       "attribution": "Map data: (C) OpenStreetMap contributors | Map style: (C) waymarkedtrails.org (CC-BY-SA)",
       "name": "WaymarkedTrails.skating",
       "options": [
        "attribution",
        "bounds",
        "detect_retina",
        "max_native_zoom",
        "max_zoom",
        "min_native_zoom",
        "min_zoom",
        "no_wrap",
        "tile_size",
        "tms"
       ],
       "url": "https://tile.waymarkedtrails.org/skating/{z}/{x}/{y}.png"
      }
     },
     "595c4266e3d44d4bb258ef1ea16bdbbc": {
      "model_module": "@jupyter-widgets/controls",
      "model_module_version": "1.5.0",
      "model_name": "DescriptionStyleModel",
      "state": {
       "description_width": ""
      }
     },
     "5a79fd76cc434b12acc51895617d8c9b": {
      "model_module": "@jupyter-widgets/controls",
      "model_module_version": "1.5.0",
      "model_name": "HTMLModel",
      "state": {
       "layout": "IPY_MODEL_39390d964d3b4c84a322dd572d75ad5b",
       "style": "IPY_MODEL_595c4266e3d44d4bb258ef1ea16bdbbc",
       "value": " 2/2 [00:02&lt;00:00,  1.10s/it]"
      }
     },
     "5a82a120375f403ab5f2a60469615698": {
      "model_module": "jupyter-leaflet",
      "model_module_version": "^0.17.0",
      "model_name": "LeafletTileLayerModel",
      "state": {
       "_model_module_version": "^0.17.0",
       "_view_module_version": "^0.17.0",
       "attribution": "National Library of Scotland Historic Maps",
       "name": "NLS",
       "options": [
        "attribution",
        "bounds",
        "detect_retina",
        "max_native_zoom",
        "max_zoom",
        "min_native_zoom",
        "min_zoom",
        "no_wrap",
        "tile_size",
        "tms"
       ],
       "url": "https://nls-0.tileserver.com/nls/{z}/{x}/{y}.jpg"
      }
     },
     "5b039802c0c241f090ce527c46061155": {
      "model_module": "@jupyter-widgets/base",
      "model_module_version": "1.2.0",
      "model_name": "LayoutModel",
      "state": {
       "height": "28px",
       "padding": "0px 0px 0px 4px",
       "width": "28px"
      }
     },
     "5b366c5755974b5caeab65794c738c66": {
      "model_module": "@jupyter-widgets/controls",
      "model_module_version": "1.5.0",
      "model_name": "ButtonStyleModel",
      "state": {
       "button_color": "#69add1"
      }
     },
     "5ca680ad33044071826444bda8ca7ad5": {
      "model_module": "@jupyter-widgets/controls",
      "model_module_version": "1.5.0",
      "model_name": "ButtonModel",
      "state": {
       "description": "Save transects",
       "layout": "IPY_MODEL_648a8b4e786c41cf9dc39ce1628e8b75",
       "style": "IPY_MODEL_4fd9a271e01048958fa67ed607f18838"
      }
     },
     "5d56dde78a1247829518124f3270c971": {
      "model_module": "@jupyter-widgets/controls",
      "model_module_version": "1.5.0",
      "model_name": "DescriptionStyleModel",
      "state": {
       "description_width": ""
      }
     },
     "5e059041cdc948cabad56701bce3a437": {
      "model_module": "@jupyter-widgets/base",
      "model_module_version": "1.2.0",
      "model_name": "LayoutModel",
      "state": {}
     },
     "5e26643c44654133939d8ec9a2444f9b": {
      "model_module": "@jupyter-widgets/base",
      "model_module_version": "1.2.0",
      "model_name": "LayoutModel",
      "state": {}
     },
     "5eacd518702449c7b8d2551f17b9bc33": {
      "model_module": "jupyter-leaflet",
      "model_module_version": "^0.17.0",
      "model_name": "LeafletTileLayerModel",
      "state": {
       "_model_module_version": "^0.17.0",
       "_view_module_version": "^0.17.0",
       "attribution": "Geoportail France",
       "max_zoom": 20,
       "name": "GeoportailFrance.parcels",
       "options": [
        "attribution",
        "bounds",
        "detect_retina",
        "max_native_zoom",
        "max_zoom",
        "min_native_zoom",
        "min_zoom",
        "no_wrap",
        "tile_size",
        "tms"
       ],
       "url": "https://wxs.ign.fr/choisirgeoportail/geoportail/wmts?REQUEST=GetTile&SERVICE=WMTS&VERSION=1.0.0&STYLE=PCI vecteur&TILEMATRIXSET=PM&FORMAT=image/png&LAYER=CADASTRALPARCELS.PARCELLAIRE_EXPRESS&TILEMATRIX={z}&TILEROW={y}&TILECOL={x}"
      }
     },
     "5ef670bacf1e40a8a35f51b4b390de7e": {
      "model_module": "@jupyter-widgets/controls",
      "model_module_version": "1.5.0",
      "model_name": "DescriptionStyleModel",
      "state": {
       "description_width": ""
      }
     },
     "6091cdfd2e3a4f33909c0f02feb5082b": {
      "model_module": "jupyter-leaflet",
      "model_module_version": "^0.17.0",
      "model_name": "LeafletTileLayerModel",
      "state": {
       "_model_module_version": "^0.17.0",
       "_view_module_version": "^0.17.0",
       "attribution": "Justice Map",
       "max_zoom": 22,
       "name": "JusticeMap.multi",
       "options": [
        "attribution",
        "bounds",
        "detect_retina",
        "max_native_zoom",
        "max_zoom",
        "min_native_zoom",
        "min_zoom",
        "no_wrap",
        "tile_size",
        "tms"
       ],
       "url": "https://www.justicemap.org/tile/county/multi/{z}/{x}/{y}.png"
      }
     },
     "609f5bd9ff314c89bc04c0e1a89fc6cc": {
      "model_module": "@jupyter-widgets/controls",
      "model_module_version": "1.5.0",
      "model_name": "DescriptionStyleModel",
      "state": {
       "description_width": ""
      }
     },
     "60e703439627445fabd21e7bca2a114e": {
      "model_module": "jupyter-leaflet",
      "model_module_version": "^0.17.0",
      "model_name": "LeafletGeoJSONModel",
      "state": {
       "_model_module_version": "^0.17.0",
       "_view_module_version": "^0.17.0",
       "data": {
        "features": [
         {
          "geometry": {
           "coordinates": [
            [
             -124.16319255481548,
             40.863600766732304
            ],
            [
             -124.16757151833087,
             40.86500706329972
            ]
           ],
           "type": "LineString"
          },
          "id": "7218",
          "properties": {
           "id": "usa_CA_0288-0123",
           "slope": 0.045,
           "style": {
            "color": "grey",
            "fillOpacity": 0.2,
            "fill_color": "grey",
            "opacity": 1,
            "weight": 2
           }
          },
          "type": "Feature"
         },
         {
          "geometry": {
           "coordinates": [
            [
             -124.16270037961276,
             40.86441959902001
            ],
            [
             -124.16707939215252,
             40.86582591262795
            ]
           ],
           "type": "LineString"
          },
          "id": "7219",
          "properties": {
           "id": "usa_CA_0288-0124",
           "slope": 0.045,
           "style": {
            "color": "grey",
            "fillOpacity": 0.2,
            "fill_color": "grey",
            "opacity": 1,
            "weight": 2
           }
          },
          "type": "Feature"
         },
         {
          "geometry": {
           "coordinates": [
            [
             -124.16220819553176,
             40.865238429452674
            ],
            [
             -124.16658725709708,
             40.866644760101686
            ]
           ],
           "type": "LineString"
          },
          "id": "7220",
          "properties": {
           "id": "usa_CA_0288-0125",
           "slope": 0.04,
           "style": {
            "color": "grey",
            "fillOpacity": 0.2,
            "fill_color": "grey",
            "opacity": 1,
            "weight": 2
           }
          },
          "type": "Feature"
         },
         {
          "geometry": {
           "coordinates": [
            [
             -124.16171600257196,
             40.86605725803027
            ],
            [
             -124.16609511316408,
             40.86746360572087
            ]
           ],
           "type": "LineString"
          },
          "id": "7221",
          "properties": {
           "id": "usa_CA_0288-0126",
           "slope": 0.045,
           "style": {
            "color": "grey",
            "fillOpacity": 0.2,
            "fill_color": "grey",
            "opacity": 1,
            "weight": 2
           }
          },
          "type": "Feature"
         },
         {
          "geometry": {
           "coordinates": [
            [
             -124.16122380073276,
             40.86687608475276
            ],
            [
             -124.16560296035298,
             40.86828244948551
            ]
           ],
           "type": "LineString"
          },
          "id": "7222",
          "properties": {
           "id": "usa_CA_0288-0127",
           "slope": 0.04,
           "style": {
            "color": "grey",
            "fillOpacity": 0.2,
            "fill_color": "grey",
            "opacity": 1,
            "weight": 2
           }
          },
          "type": "Feature"
         },
         {
          "geometry": {
           "coordinates": [
            [
             -124.1607315900137,
             40.86769490962013
            ],
            [
             -124.16511079866322,
             40.86910129139556
            ]
           ],
           "type": "LineString"
          },
          "id": "7223",
          "properties": {
           "id": "usa_CA_0288-0128",
           "slope": 0.045,
           "style": {
            "color": "grey",
            "fillOpacity": 0.2,
            "fill_color": "grey",
            "opacity": 1,
            "weight": 2
           }
          },
          "type": "Feature"
         },
         {
          "geometry": {
           "coordinates": [
            [
             -124.16023937041416,
             40.868513732632366
            ],
            [
             -124.16461862809426,
             40.86992013145101
            ]
           ],
           "type": "LineString"
          },
          "id": "7224",
          "properties": {
           "id": "usa_CA_0288-0129",
           "slope": 0.045,
           "style": {
            "color": "grey",
            "fillOpacity": 0.2,
            "fill_color": "grey",
            "opacity": 1,
            "weight": 2
           }
          },
          "type": "Feature"
         },
         {
          "geometry": {
           "coordinates": [
            [
             -124.1597421658541,
             40.8693408875499
            ],
            [
             -124.1641314242243,
             40.87073063571912
            ]
           ],
           "type": "LineString"
          },
          "id": "7225",
          "properties": {
           "id": "usa_CA_0288-0130",
           "slope": 0.045,
           "style": {
            "color": "grey",
            "fillOpacity": 0.2,
            "fill_color": "grey",
            "opacity": 1,
            "weight": 2
           }
          },
          "type": "Feature"
         },
         {
          "geometry": {
           "coordinates": [
            [
             -124.15922331087646,
             40.87023060390582
            ],
            [
             -124.16368851598467,
             40.87148504083176
            ]
           ],
           "type": "LineString"
          },
          "id": "7226",
          "properties": {
           "id": "usa_CA_0288-0131",
           "slope": 0.045,
           "style": {
            "color": "grey",
            "fillOpacity": 0.2,
            "fill_color": "grey",
            "opacity": 1,
            "weight": 2
           }
          },
          "type": "Feature"
         },
         {
          "geometry": {
           "coordinates": [
            [
             -124.1587919592432,
             40.87113549303228
            ],
            [
             -124.16331753188892,
             40.87226976169797
            ]
           ],
           "type": "LineString"
          },
          "id": "7227",
          "properties": {
           "id": "usa_CA_0288-0132",
           "slope": 0.04,
           "style": {
            "color": "grey",
            "fillOpacity": 0.2,
            "fill_color": "grey",
            "opacity": 1,
            "weight": 2
           }
          },
          "type": "Feature"
         },
         {
          "geometry": {
           "coordinates": [
            [
             -124.15839075870096,
             40.87198029058521
            ],
            [
             -124.16291638712688,
             40.87311457269802
            ]
           ],
           "type": "LineString"
          },
          "id": "7228",
          "properties": {
           "id": "usa_CA_0288-0133",
           "slope": 0.04,
           "style": {
            "color": "grey",
            "fillOpacity": 0.2,
            "fill_color": "grey",
            "opacity": 1,
            "weight": 2
           }
          },
          "type": "Feature"
         },
         {
          "geometry": {
           "coordinates": [
            [
             -124.15798955142256,
             40.8728250869076
            ],
            [
             -124.16251523563042,
             40.87395938246797
            ]
           ],
           "type": "LineString"
          },
          "id": "7229",
          "properties": {
           "id": "usa_CA_0288-0134",
           "slope": 0.045,
           "style": {
            "color": "grey",
            "fillOpacity": 0.2,
            "fill_color": "grey",
            "opacity": 1,
            "weight": 2
           }
          },
          "type": "Feature"
         },
         {
          "geometry": {
           "coordinates": [
            [
             -124.15758833740756,
             40.87366988199946
            ],
            [
             -124.16211407739912,
             40.87480419100782
            ]
           ],
           "type": "LineString"
          },
          "id": "7230",
          "properties": {
           "id": "usa_CA_0288-0135",
           "slope": 0.045,
           "style": {
            "color": "grey",
            "fillOpacity": 0.2,
            "fill_color": "grey",
            "opacity": 1,
            "weight": 2
           }
          },
          "type": "Feature"
         },
         {
          "geometry": {
           "coordinates": [
            [
             -124.15718711665552,
             40.87451467586078
            ],
            [
             -124.16171291243256,
             40.87564899831758
            ]
           ],
           "type": "LineString"
          },
          "id": "7231",
          "properties": {
           "id": "usa_CA_0288-0136",
           "slope": 0.045,
           "style": {
            "color": "grey",
            "fillOpacity": 0.2,
            "fill_color": "grey",
            "opacity": 1,
            "weight": 2
           }
          },
          "type": "Feature"
         },
         {
          "geometry": {
           "coordinates": [
            [
             -124.15678588916596,
             40.87535946849156
            ],
            [
             -124.1613117407302,
             40.876493804397256
            ]
           ],
           "type": "LineString"
          },
          "id": "7232",
          "properties": {
           "id": "usa_CA_0288-0137",
           "slope": 0.045,
           "style": {
            "color": "grey",
            "fillOpacity": 0.2,
            "fill_color": "grey",
            "opacity": 1,
            "weight": 2
           }
          },
          "type": "Feature"
         },
         {
          "geometry": {
           "coordinates": [
            [
             -124.15638465493848,
             40.87620425989182
            ],
            [
             -124.16091056229163,
             40.87733860924686
            ]
           ],
           "type": "LineString"
          },
          "id": "7233",
          "properties": {
           "id": "usa_CA_0288-0138",
           "slope": 0.045,
           "style": {
            "color": "grey",
            "fillOpacity": 0.2,
            "fill_color": "grey",
            "opacity": 1,
            "weight": 2
           }
          },
          "type": "Feature"
         },
         {
          "geometry": {
           "coordinates": [
            [
             -124.15598341397256,
             40.87704905006155
            ],
            [
             -124.16050937711644,
             40.87818341286643
            ]
           ],
           "type": "LineString"
          },
          "id": "7234",
          "properties": {
           "id": "usa_CA_0288-0139",
           "slope": 0.05,
           "style": {
            "color": "grey",
            "fillOpacity": 0.2,
            "fill_color": "grey",
            "opacity": 1,
            "weight": 2
           }
          },
          "type": "Feature"
         },
         {
          "geometry": {
           "coordinates": [
            [
             -124.15558216626782,
             40.87789383900079
            ],
            [
             -124.16010818520417,
             40.8790282152559
            ]
           ],
           "type": "LineString"
          },
          "id": "7235",
          "properties": {
           "id": "usa_CA_0288-0140",
           "slope": 0.045,
           "style": {
            "color": "grey",
            "fillOpacity": 0.2,
            "fill_color": "grey",
            "opacity": 1,
            "weight": 2
           }
          },
          "type": "Feature"
         },
         {
          "geometry": {
           "coordinates": [
            [
             -124.15519279717756,
             40.87871416543687
            ],
            [
             -124.15969510280436,
             40.87989747808814
            ]
           ],
           "type": "LineString"
          },
          "id": "7236",
          "properties": {
           "id": "usa_CA_0288-0141",
           "slope": 0.05,
           "style": {
            "color": "grey",
            "fillOpacity": 0.2,
            "fill_color": "grey",
            "opacity": 1,
            "weight": 2
           }
          },
          "type": "Feature"
         },
         {
          "geometry": {
           "coordinates": [
            [
             -124.15477927829036,
             40.87951070126901
            ],
            [
             -124.1592410335782,
             40.88077291420641
            ]
           ],
           "type": "LineString"
          },
          "id": "7237",
          "properties": {
           "id": "usa_CA_0288-0142",
           "slope": 0.05,
           "style": {
            "color": "grey",
            "fillOpacity": 0.2,
            "fill_color": "grey",
            "opacity": 1,
            "weight": 2
           }
          },
          "type": "Feature"
         },
         {
          "geometry": {
           "coordinates": [
            [
             -124.15433328322425,
             40.88032614652256
            ],
            [
             -124.15877885018512,
             40.881618462989614
            ]
           ],
           "type": "LineString"
          },
          "id": "7238",
          "properties": {
           "id": "usa_CA_0288-0143",
           "slope": 0.045,
           "style": {
            "color": "grey",
            "fillOpacity": 0.2,
            "fill_color": "grey",
            "opacity": 1,
            "weight": 2
           }
          },
          "type": "Feature"
         },
         {
          "geometry": {
           "coordinates": [
            [
             -124.1538791594682,
             40.88115663404134
            ],
            [
             -124.15832477851056,
             40.882448966084645
            ]
           ],
           "type": "LineString"
          },
          "id": "7239",
          "properties": {
           "id": "usa_CA_0288-0144",
           "slope": 0.04,
           "style": {
            "color": "grey",
            "fillOpacity": 0.2,
            "fill_color": "grey",
            "opacity": 1,
            "weight": 2
           }
          },
          "type": "Feature"
         },
         {
          "geometry": {
           "coordinates": [
            [
             -124.15342502769948,
             40.8819871199874
            ],
            [
             -124.15787069882474,
             40.88327946760748
            ]
           ],
           "type": "LineString"
          },
          "id": "7240",
          "properties": {
           "id": "usa_CA_0288-0145",
           "slope": 0.04,
           "style": {
            "color": "grey",
            "fillOpacity": 0.2,
            "fill_color": "grey",
            "opacity": 1,
            "weight": 2
           }
          },
          "type": "Feature"
         },
         {
          "geometry": {
           "coordinates": [
            [
             -124.15297088791752,
             40.88281760436075
            ],
            [
             -124.15741661112722,
             40.8841099675581
            ]
           ],
           "type": "LineString"
          },
          "id": "7241",
          "properties": {
           "id": "usa_CA_0288-0146",
           "slope": 0.035,
           "style": {
            "color": "grey",
            "fillOpacity": 0.2,
            "fill_color": "grey",
            "opacity": 1,
            "weight": 2
           }
          },
          "type": "Feature"
         },
         {
          "geometry": {
           "coordinates": [
            [
             -124.1525167401219,
             40.88364808716139
            ],
            [
             -124.15696251541743,
             40.88494046593654
            ]
           ],
           "type": "LineString"
          },
          "id": "7242",
          "properties": {
           "id": "usa_CA_0288-0147",
           "slope": 0.04,
           "style": {
            "color": "grey",
            "fillOpacity": 0.2,
            "fill_color": "grey",
            "opacity": 1,
            "weight": 2
           }
          },
          "type": "Feature"
         },
         {
          "geometry": {
           "coordinates": [
            [
             -124.15206258431206,
             40.8844785683893
            ],
            [
             -124.15650841169496,
             40.88577096274271
            ]
           ],
           "type": "LineString"
          },
          "id": "7243",
          "properties": {
           "id": "usa_CA_0288-0148",
           "slope": 0.045,
           "style": {
            "color": "grey",
            "fillOpacity": 0.2,
            "fill_color": "grey",
            "opacity": 1,
            "weight": 2
           }
          },
          "type": "Feature"
         },
         {
          "geometry": {
           "coordinates": [
            [
             -124.15160842048756,
             40.885309048044455
            ],
            [
             -124.15605429995928,
             40.88660145797666
            ]
           ],
           "type": "LineString"
          },
          "id": "7244",
          "properties": {
           "id": "usa_CA_0288-0149",
           "slope": 0.04,
           "style": {
            "color": "grey",
            "fillOpacity": 0.2,
            "fill_color": "grey",
            "opacity": 1,
            "weight": 2
           }
          },
          "type": "Feature"
         },
         {
          "geometry": {
           "coordinates": [
            [
             -124.15112962849744,
             40.88618640104093
            ],
            [
             -124.15562479737096,
             40.887385075884495
            ]
           ],
           "type": "LineString"
          },
          "id": "7245",
          "properties": {
           "id": "usa_CA_0288-0150",
           "slope": 0.045,
           "style": {
            "color": "grey",
            "fillOpacity": 0.2,
            "fill_color": "grey",
            "opacity": 1,
            "weight": 2
           }
          },
          "type": "Feature"
         },
         {
          "geometry": {
           "coordinates": [
            [
             -124.1507138355472,
             40.88708508042095
            ],
            [
             -124.15525856892584,
             40.88818077923964
            ]
           ],
           "type": "LineString"
          },
          "id": "7246",
          "properties": {
           "id": "usa_CA_0288-0151",
           "slope": 0.05,
           "style": {
            "color": "grey",
            "fillOpacity": 0.2,
            "fill_color": "grey",
            "opacity": 1,
            "weight": 2
           }
          },
          "type": "Feature"
         }
        ],
        "type": "FeatureCollection"
       },
       "hover_style": {
        "color": "blue",
        "fillOpacity": 0.7
       },
       "name": "transects",
       "style": {
        "color": "grey",
        "fillOpacity": 0.2,
        "fill_color": "grey",
        "opacity": 1,
        "weight": 2
       }
      }
     },
     "6188ebf186a84215ac9db4673f2c3ecb": {
      "model_module": "@jupyter-widgets/controls",
      "model_module_version": "1.5.0",
      "model_name": "HTMLModel",
      "state": {
       "layout": "IPY_MODEL_f79aa4859e774b5ea6ff37b2fcbe7cfb",
       "style": "IPY_MODEL_5ef670bacf1e40a8a35f51b4b390de7e",
       "value": "Downloading province1257_ref_shoreline.geojson: 100%"
      }
     },
     "6268aa9273ec4154a2c5b8bd38cccf69": {
      "model_module": "jupyter-leaflet",
      "model_module_version": "^0.17.0",
      "model_name": "LeafletMapStyleModel",
      "state": {
       "_model_module_version": "^0.17.0",
       "cursor": "default"
      }
     },
     "6273c4e6dbdd4a399379d33ef5e2f545": {
      "model_module": "@jupyter-widgets/controls",
      "model_module_version": "1.5.0",
      "model_name": "DescriptionStyleModel",
      "state": {
       "description_width": ""
      }
     },
     "628421440f4c43ce834da0af548b25d1": {
      "model_module": "@jupyter-widgets/base",
      "model_module_version": "1.2.0",
      "model_name": "LayoutModel",
      "state": {
       "margin": "0px 20px 20px 20px"
      }
     },
     "62b1b8b11722404fb2384090a8148ed2": {
      "model_module": "@jupyter-widgets/base",
      "model_module_version": "1.2.0",
      "model_name": "LayoutModel",
      "state": {}
     },
     "62e81048707b47a692747d9b9db947b1": {
      "model_module": "@jupyter-widgets/controls",
      "model_module_version": "1.5.0",
      "model_name": "ButtonModel",
      "state": {
       "description": "Load Transects",
       "layout": "IPY_MODEL_cc94b2317dca43d089d2f7f5ef6bb5d3",
       "style": "IPY_MODEL_78d2ff11a70d4c8bb20b4ef6acf07031"
      }
     },
     "63b78bb58ff34365bf72597167fdabdb": {
      "model_module": "jupyter-leaflet",
      "model_module_version": "^0.17.0",
      "model_name": "LeafletTileLayerModel",
      "state": {
       "_model_module_version": "^0.17.0",
       "_view_module_version": "^0.17.0",
       "attribution": "(C) OpenStreetMap contributors & USGS",
       "max_zoom": 22,
       "name": "MtbMap",
       "options": [
        "attribution",
        "bounds",
        "detect_retina",
        "max_native_zoom",
        "max_zoom",
        "min_native_zoom",
        "min_zoom",
        "no_wrap",
        "tile_size",
        "tms"
       ],
       "url": "http://tile.mtbmap.cz/mtbmap_tiles/{z}/{x}/{y}.png"
      }
     },
     "648a8b4e786c41cf9dc39ce1628e8b75": {
      "model_module": "@jupyter-widgets/base",
      "model_module_version": "1.2.0",
      "model_name": "LayoutModel",
      "state": {}
     },
     "64e6554c65a3461aa06c2a452bfbd921": {
      "model_module": "jupyter-leaflet",
      "model_module_version": "^0.17.0",
      "model_name": "LeafletWMSLayerModel",
      "state": {
       "_model_module_version": "^0.17.0",
       "_view_module_version": "^0.17.0",
       "attribution": "MRLC",
       "crs": {
        "custom": false,
        "name": "EPSG3857"
       },
       "format": "image/png",
       "layers": "NLCD_2011_Land_Cover_L48",
       "name": "NLCD 2011 CONUS Land Cover",
       "options": [
        "attribution",
        "bounds",
        "detect_retina",
        "format",
        "layers",
        "max_native_zoom",
        "max_zoom",
        "min_native_zoom",
        "min_zoom",
        "no_wrap",
        "styles",
        "tile_size",
        "tms",
        "transparent",
        "uppercase"
       ],
       "transparent": true,
       "url": "https://www.mrlc.gov/geoserver/mrlc_display/NLCD_2011_Land_Cover_L48/wms?"
      }
     },
     "650afac75f934574a802d38a9350aa2c": {
      "model_module": "jupyter-leaflet",
      "model_module_version": "^0.17.0",
      "model_name": "LeafletTileLayerModel",
      "state": {
       "_model_module_version": "^0.17.0",
       "_view_module_version": "^0.17.0",
       "attribution": "Tiles &copy; Esri &mdash; Esri, DeLorme, NAVTEQ, TomTom, Intermap, iPC, USGS, FAO, NPS, NRCAN, GeoBase, Kadaster NL, Ordnance Survey, Esri Japan, METI, Esri China (Hong Kong), and the GIS User Community",
       "max_zoom": 24,
       "name": "Esri.ArcticOceanReference",
       "options": [
        "attribution",
        "bounds",
        "detect_retina",
        "max_native_zoom",
        "max_zoom",
        "min_native_zoom",
        "min_zoom",
        "no_wrap",
        "tile_size",
        "tms"
       ],
       "url": "http://server.arcgisonline.com/ArcGIS/rest/services/Polar/Arctic_Ocean_Reference/MapServer/tile/{z}/{y}/{x}"
      }
     },
     "65538b66509e46b291d2ac9f43c783bf": {
      "model_module": "@jupyter-widgets/controls",
      "model_module_version": "1.5.0",
      "model_name": "HTMLModel",
      "state": {
       "layout": "IPY_MODEL_5524f44f2cba4f8ba4ea53b980f48680",
       "style": "IPY_MODEL_de76af5b4acd4735af911f0d17bdf153",
       "value": "Downloading us_county336_ref_shoreline.geojson: 100%"
      }
     },
     "6606d3a4bf974105a5185e0090a017ef": {
      "model_module": "@jupyter-widgets/controls",
      "model_module_version": "1.5.0",
      "model_name": "ToggleButtonModel",
      "state": {
       "button_style": "primary",
       "icon": "stack-exchange",
       "layout": "IPY_MODEL_db1a3c9ee531455daa8c04a95d711954",
       "style": "IPY_MODEL_2c227290754f4d109dd10f9956212baa",
       "tooltip": "Discover STAC Catalog"
      }
     },
     "661ef67639be430ab707be361ad34f39": {
      "model_module": "@jupyter-widgets/controls",
      "model_module_version": "1.5.0",
      "model_name": "DatePickerModel",
      "state": {
       "description": "End Date",
       "disabled": false,
       "layout": "IPY_MODEL_e22dce2de6114ac2a5429aece74c0699",
       "style": "IPY_MODEL_ebca68787d8c40b091b5344e4fb253b7",
       "value": {
        "date": 1,
        "month": 2,
        "year": 2019
       }
      }
     },
     "66446af24a4b4d50b01827a8764bda0f": {
      "model_module": "@jupyter-widgets/controls",
      "model_module_version": "1.5.0",
      "model_name": "ButtonModel",
      "state": {
       "description": "Save config files",
       "layout": "IPY_MODEL_62b1b8b11722404fb2384090a8148ed2",
       "style": "IPY_MODEL_0aac358468644e6f90334e0152f92183"
      }
     },
     "66de48fa5ead4aac8b46eb804730939e": {
      "model_module": "jupyter-leaflet",
      "model_module_version": "^0.17.0",
      "model_name": "LeafletTileLayerModel",
      "state": {
       "_model_module_version": "^0.17.0",
       "_view_module_version": "^0.17.0",
       "attribution": "Map tiles by Stamen Design, CC BY 3.0 -- Map data (C) OpenStreetMap contributors",
       "max_zoom": 20,
       "name": "Stamen.TonerLite",
       "options": [
        "attribution",
        "bounds",
        "detect_retina",
        "max_native_zoom",
        "max_zoom",
        "min_native_zoom",
        "min_zoom",
        "no_wrap",
        "tile_size",
        "tms"
       ],
       "url": "https://stamen-tiles-a.a.ssl.fastly.net/toner-lite/{z}/{x}/{y}.png"
      }
     },
     "672a810b4a7245cd88ef58db23783ecb": {
      "model_module": "@jupyter-widgets/base",
      "model_module_version": "1.2.0",
      "model_name": "LayoutModel",
      "state": {
       "padding": "10px"
      }
     },
     "675bf023ef714afd8c9cd1cc7bbc0507": {
      "model_module": "@jupyter-widgets/base",
      "model_module_version": "1.2.0",
      "model_name": "LayoutModel",
      "state": {}
     },
     "68102745c8814f198e5f69b0c14e92dd": {
      "model_module": "@jupyter-widgets/base",
      "model_module_version": "1.2.0",
      "model_name": "LayoutModel",
      "state": {
       "height": "auto",
       "padding": "0px 0px 0px 4px",
       "width": "auto"
      }
     },
     "68c0b145db1545e1861bc4bb951da3b8": {
      "model_module": "jupyter-leaflet",
      "model_module_version": "^0.17.0",
      "model_name": "LeafletTileLayerModel",
      "state": {
       "_model_module_version": "^0.17.0",
       "_view_module_version": "^0.17.0",
       "attribution": "Justice Map",
       "max_zoom": 22,
       "name": "JusticeMap.income",
       "options": [
        "attribution",
        "bounds",
        "detect_retina",
        "max_native_zoom",
        "max_zoom",
        "min_native_zoom",
        "min_zoom",
        "no_wrap",
        "tile_size",
        "tms"
       ],
       "url": "https://www.justicemap.org/tile/county/income/{z}/{x}/{y}.png"
      }
     },
     "69ccc7367227428eae8ba84efc9fb29a": {
      "model_module": "jupyter-leaflet",
      "model_module_version": "^0.17.0",
      "model_name": "LeafletTileLayerModel",
      "state": {
       "_model_module_version": "^0.17.0",
       "_view_module_version": "^0.17.0",
       "attribution": "(C) Stadia Maps, (C) OpenMapTiles (C) OpenStreetMap contributors",
       "max_zoom": 20,
       "name": "Stadia.AlidadeSmoothDark",
       "options": [
        "attribution",
        "bounds",
        "detect_retina",
        "max_native_zoom",
        "max_zoom",
        "min_native_zoom",
        "min_zoom",
        "no_wrap",
        "tile_size",
        "tms"
       ],
       "url": "https://tiles.stadiamaps.com/tiles/alidade_smooth_dark/{z}/{x}/{y}.png"
      }
     },
     "6aa3d2a83714426abe084e584948a423": {
      "model_module": "jupyter-leaflet",
      "model_module_version": "^0.17.0",
      "model_name": "LeafletGeoJSONModel",
      "state": {
       "_model_module_version": "^0.17.0",
       "_view_module_version": "^0.17.0",
       "data": {
        "features": [
         {
          "geometry": {
           "coordinates": [
            [
             [
              -124.17404858142513,
              40.86422220794567
             ],
             [
              -124.1746854497345,
              40.9002483174463
             ],
             [
              -124.12720484834989,
              40.9007222145803
             ],
             [
              -124.12659370860285,
              40.86469550725421
             ],
             [
              -124.17404858142513,
              40.86422220794567
             ]
            ]
           ],
           "type": "Polygon"
          },
          "id": "0",
          "properties": {
           "id": "0",
           "style": {
            "color": "#555555",
            "fillOpacity": 0.1,
            "fill_color": "#555555",
            "weight": 1
           }
          },
          "type": "Feature"
         },
         {
          "geometry": {
           "coordinates": [
            [
             [
              -124.17404858142513,
              40.86422220794567
             ],
             [
              -124.17460577811191,
              40.89574506655364
             ],
             [
              -124.1330631297143,
              40.89616072971841
             ],
             [
              -124.13252562911848,
              40.86463741225173
             ],
             [
              -124.17404858142513,
              40.86422220794567
             ]
            ]
           ],
           "type": "Polygon"
          },
          "id": "1",
          "properties": {
           "id": "1",
           "style": {
            "color": "#555555",
            "fillOpacity": 0.1,
            "fill_color": "#555555",
            "weight": 1
           }
          },
          "type": "Feature"
         }
        ],
        "type": "FeatureCollection"
       },
       "hover_style": {
        "color": "crimson",
        "fillOpacity": 0.1
       },
       "name": "ROIs",
       "style": {
        "color": "#555555",
        "fillOpacity": 0.1,
        "fill_color": "#555555",
        "weight": 1
       }
      }
     },
     "6b311f517b5b4d1e9f5610533c0ef0d4": {
      "model_module": "@jupyter-widgets/controls",
      "model_module_version": "1.5.0",
      "model_name": "DescriptionStyleModel",
      "state": {
       "description_width": ""
      }
     },
     "6b7030b45b774be08cf0f00f5c7c3284": {
      "model_module": "@jupyter-widgets/controls",
      "model_module_version": "1.5.0",
      "model_name": "ButtonModel",
      "state": {
       "description": "Download ROIs",
       "layout": "IPY_MODEL_8203e9c2d32e4f3a8685935e2e72f581",
       "style": "IPY_MODEL_8329167329204e0a8094098d8eae2e26"
      }
     },
     "6b9567c6a0f645a38e34be677a978d6a": {
      "model_module": "jupyter-leaflet",
      "model_module_version": "^0.17.0",
      "model_name": "LeafletTileLayerModel",
      "state": {
       "_model_module_version": "^0.17.0",
       "_view_module_version": "^0.17.0",
       "attribution": "(C) OpenStreetMap contributors (C) CARTO",
       "max_zoom": 20,
       "name": "CartoDB.VoyagerOnlyLabels",
       "options": [
        "attribution",
        "bounds",
        "detect_retina",
        "max_native_zoom",
        "max_zoom",
        "min_native_zoom",
        "min_zoom",
        "no_wrap",
        "tile_size",
        "tms"
       ],
       "url": "https://a.basemaps.cartocdn.com/rastertiles/voyager_only_labels/{z}/{x}/{y}.png"
      }
     },
     "6edc703a53f84118ad1667bc69f8fbf5": {
      "model_module": "jupyter-leaflet",
      "model_module_version": "^0.17.0",
      "model_name": "LeafletTileLayerModel",
      "state": {
       "_model_module_version": "^0.17.0",
       "_view_module_version": "^0.17.0",
       "attribution": "Google",
       "max_zoom": 22,
       "name": "Google Satellite",
       "options": [
        "attribution",
        "bounds",
        "detect_retina",
        "max_native_zoom",
        "max_zoom",
        "min_native_zoom",
        "min_zoom",
        "no_wrap",
        "tile_size",
        "tms"
       ],
       "url": "https://mt1.google.com/vt/lyrs=s&x={x}&y={y}&z={z}"
      }
     },
     "6f48e7ef42cd4fd0ba1038095cd3da1e": {
      "model_module": "@jupyter-widgets/controls",
      "model_module_version": "1.5.0",
      "model_name": "FloatProgressModel",
      "state": {
       "bar_style": "success",
       "layout": "IPY_MODEL_6faf419690c14ce98475e4e64c24988f",
       "max": 2,
       "style": "IPY_MODEL_45991139fbcf415495fba461b2f3fb48",
       "value": 2
      }
     },
     "6fa083e1c6304e2ca55b03ac9e8fd1b4": {
      "model_module": "jupyter-leaflet",
      "model_module_version": "^0.17.0",
      "model_name": "LeafletTileLayerModel",
      "state": {
       "_model_module_version": "^0.17.0",
       "_view_module_version": "^0.17.0",
       "attribution": "(C) OpenStreetMap contributors (C) CARTO",
       "max_zoom": 20,
       "name": "CartoDB.DarkMatter",
       "options": [
        "attribution",
        "bounds",
        "detect_retina",
        "max_native_zoom",
        "max_zoom",
        "min_native_zoom",
        "min_zoom",
        "no_wrap",
        "tile_size",
        "tms"
       ],
       "url": "https://a.basemaps.cartocdn.com/dark_all/{z}/{x}/{y}.png"
      }
     },
     "6fa5b078112c49fa83231abfd4f86f3c": {
      "model_module": "jupyter-leaflet",
      "model_module_version": "^0.17.0",
      "model_name": "LeafletTileLayerModel",
      "state": {
       "_model_module_version": "^0.17.0",
       "_view_module_version": "^0.17.0",
       "attribution": "Datenquelle: basemap.at",
       "max_zoom": 20,
       "name": "BasemapAT.basemap",
       "options": [
        "attribution",
        "bounds",
        "detect_retina",
        "max_native_zoom",
        "max_zoom",
        "min_native_zoom",
        "min_zoom",
        "no_wrap",
        "tile_size",
        "tms"
       ],
       "url": "https://maps.wien.gv.at/basemap/geolandbasemap/normal/google3857/{z}/{y}/{x}.png"
      }
     },
     "6faf419690c14ce98475e4e64c24988f": {
      "model_module": "@jupyter-widgets/base",
      "model_module_version": "1.2.0",
      "model_name": "LayoutModel",
      "state": {}
     },
     "70304f387f08455a898e4bf411af3cc1": {
      "model_module": "@jupyter-widgets/base",
      "model_module_version": "1.2.0",
      "model_name": "LayoutModel",
      "state": {
       "height": "auto",
       "padding": "0px 0px 0px 4px",
       "width": "auto"
      }
     },
     "71279fa2276d4b79b5fee54993872870": {
      "model_module": "@jupyter-widgets/controls",
      "model_module_version": "1.5.0",
      "model_name": "HTMLModel",
      "state": {
       "layout": "IPY_MODEL_9cdad6b4f7c7487fa8873a307d912678",
       "style": "IPY_MODEL_190c22920c264002a1982480e9217e1e",
       "value": "Computing Cross Distance Transects: 100%"
      }
     },
     "715fe885fa754fa482d2cce8e12d8792": {
      "model_module": "jupyter-leaflet",
      "model_module_version": "^0.17.0",
      "model_name": "LeafletGeoJSONModel",
      "state": {
       "_model_module_version": "^0.17.0",
       "_view_module_version": "^0.17.0",
       "data": {
        "features": [
         {
          "geometry": {
           "coordinates": [
            [
             -124.16319255481548,
             40.863600766732304
            ],
            [
             -124.16757151833087,
             40.86500706329972
            ]
           ],
           "type": "LineString"
          },
          "id": "16",
          "properties": {
           "id": "usa_CA_0288-0123",
           "slope": 0.045,
           "style": {
            "color": "grey",
            "fillOpacity": 0.2,
            "fill_color": "grey",
            "opacity": 1,
            "weight": 2
           }
          },
          "type": "Feature"
         },
         {
          "geometry": {
           "coordinates": [
            [
             -124.16270037961276,
             40.86441959902001
            ],
            [
             -124.16707939215252,
             40.86582591262795
            ]
           ],
           "type": "LineString"
          },
          "id": "17",
          "properties": {
           "id": "usa_CA_0288-0124",
           "slope": 0.045,
           "style": {
            "color": "grey",
            "fillOpacity": 0.2,
            "fill_color": "grey",
            "opacity": 1,
            "weight": 2
           }
          },
          "type": "Feature"
         },
         {
          "geometry": {
           "coordinates": [
            [
             -124.16220819553176,
             40.865238429452674
            ],
            [
             -124.16658725709708,
             40.866644760101686
            ]
           ],
           "type": "LineString"
          },
          "id": "18",
          "properties": {
           "id": "usa_CA_0288-0125",
           "slope": 0.04,
           "style": {
            "color": "grey",
            "fillOpacity": 0.2,
            "fill_color": "grey",
            "opacity": 1,
            "weight": 2
           }
          },
          "type": "Feature"
         },
         {
          "geometry": {
           "coordinates": [
            [
             -124.16171600257196,
             40.86605725803027
            ],
            [
             -124.16609511316408,
             40.86746360572087
            ]
           ],
           "type": "LineString"
          },
          "id": "19",
          "properties": {
           "id": "usa_CA_0288-0126",
           "slope": 0.045,
           "style": {
            "color": "grey",
            "fillOpacity": 0.2,
            "fill_color": "grey",
            "opacity": 1,
            "weight": 2
           }
          },
          "type": "Feature"
         },
         {
          "geometry": {
           "coordinates": [
            [
             -124.16122380073276,
             40.86687608475276
            ],
            [
             -124.16560296035298,
             40.86828244948551
            ]
           ],
           "type": "LineString"
          },
          "id": "20",
          "properties": {
           "id": "usa_CA_0288-0127",
           "slope": 0.04,
           "style": {
            "color": "grey",
            "fillOpacity": 0.2,
            "fill_color": "grey",
            "opacity": 1,
            "weight": 2
           }
          },
          "type": "Feature"
         },
         {
          "geometry": {
           "coordinates": [
            [
             -124.1607315900137,
             40.86769490962013
            ],
            [
             -124.16511079866322,
             40.86910129139556
            ]
           ],
           "type": "LineString"
          },
          "id": "21",
          "properties": {
           "id": "usa_CA_0288-0128",
           "slope": 0.045,
           "style": {
            "color": "grey",
            "fillOpacity": 0.2,
            "fill_color": "grey",
            "opacity": 1,
            "weight": 2
           }
          },
          "type": "Feature"
         },
         {
          "geometry": {
           "coordinates": [
            [
             -124.16023937041416,
             40.868513732632366
            ],
            [
             -124.16461862809426,
             40.86992013145101
            ]
           ],
           "type": "LineString"
          },
          "id": "22",
          "properties": {
           "id": "usa_CA_0288-0129",
           "slope": 0.045,
           "style": {
            "color": "grey",
            "fillOpacity": 0.2,
            "fill_color": "grey",
            "opacity": 1,
            "weight": 2
           }
          },
          "type": "Feature"
         },
         {
          "geometry": {
           "coordinates": [
            [
             -124.1597421658541,
             40.8693408875499
            ],
            [
             -124.1641314242243,
             40.87073063571912
            ]
           ],
           "type": "LineString"
          },
          "id": "23",
          "properties": {
           "id": "usa_CA_0288-0130",
           "slope": 0.045,
           "style": {
            "color": "grey",
            "fillOpacity": 0.2,
            "fill_color": "grey",
            "opacity": 1,
            "weight": 2
           }
          },
          "type": "Feature"
         },
         {
          "geometry": {
           "coordinates": [
            [
             -124.15922331087646,
             40.87023060390582
            ],
            [
             -124.16368851598467,
             40.87148504083176
            ]
           ],
           "type": "LineString"
          },
          "id": "24",
          "properties": {
           "id": "usa_CA_0288-0131",
           "slope": 0.045,
           "style": {
            "color": "grey",
            "fillOpacity": 0.2,
            "fill_color": "grey",
            "opacity": 1,
            "weight": 2
           }
          },
          "type": "Feature"
         },
         {
          "geometry": {
           "coordinates": [
            [
             -124.1587919592432,
             40.87113549303228
            ],
            [
             -124.16331753188892,
             40.87226976169797
            ]
           ],
           "type": "LineString"
          },
          "id": "25",
          "properties": {
           "id": "usa_CA_0288-0132",
           "slope": 0.04,
           "style": {
            "color": "grey",
            "fillOpacity": 0.2,
            "fill_color": "grey",
            "opacity": 1,
            "weight": 2
           }
          },
          "type": "Feature"
         },
         {
          "geometry": {
           "coordinates": [
            [
             -124.15839075870096,
             40.87198029058521
            ],
            [
             -124.16291638712688,
             40.87311457269802
            ]
           ],
           "type": "LineString"
          },
          "id": "26",
          "properties": {
           "id": "usa_CA_0288-0133",
           "slope": 0.04,
           "style": {
            "color": "grey",
            "fillOpacity": 0.2,
            "fill_color": "grey",
            "opacity": 1,
            "weight": 2
           }
          },
          "type": "Feature"
         },
         {
          "geometry": {
           "coordinates": [
            [
             -124.15798955142256,
             40.8728250869076
            ],
            [
             -124.16251523563042,
             40.87395938246797
            ]
           ],
           "type": "LineString"
          },
          "id": "27",
          "properties": {
           "id": "usa_CA_0288-0134",
           "slope": 0.045,
           "style": {
            "color": "grey",
            "fillOpacity": 0.2,
            "fill_color": "grey",
            "opacity": 1,
            "weight": 2
           }
          },
          "type": "Feature"
         },
         {
          "geometry": {
           "coordinates": [
            [
             -124.15758833740756,
             40.87366988199946
            ],
            [
             -124.16211407739912,
             40.87480419100782
            ]
           ],
           "type": "LineString"
          },
          "id": "28",
          "properties": {
           "id": "usa_CA_0288-0135",
           "slope": 0.045,
           "style": {
            "color": "grey",
            "fillOpacity": 0.2,
            "fill_color": "grey",
            "opacity": 1,
            "weight": 2
           }
          },
          "type": "Feature"
         },
         {
          "geometry": {
           "coordinates": [
            [
             -124.15718711665552,
             40.87451467586078
            ],
            [
             -124.16171291243256,
             40.87564899831758
            ]
           ],
           "type": "LineString"
          },
          "id": "29",
          "properties": {
           "id": "usa_CA_0288-0136",
           "slope": 0.045,
           "style": {
            "color": "grey",
            "fillOpacity": 0.2,
            "fill_color": "grey",
            "opacity": 1,
            "weight": 2
           }
          },
          "type": "Feature"
         },
         {
          "geometry": {
           "coordinates": [
            [
             -124.15678588916596,
             40.87535946849156
            ],
            [
             -124.1613117407302,
             40.876493804397256
            ]
           ],
           "type": "LineString"
          },
          "id": "30",
          "properties": {
           "id": "usa_CA_0288-0137",
           "slope": 0.045,
           "style": {
            "color": "grey",
            "fillOpacity": 0.2,
            "fill_color": "grey",
            "opacity": 1,
            "weight": 2
           }
          },
          "type": "Feature"
         },
         {
          "geometry": {
           "coordinates": [
            [
             -124.15638465493848,
             40.87620425989182
            ],
            [
             -124.16091056229163,
             40.87733860924686
            ]
           ],
           "type": "LineString"
          },
          "id": "31",
          "properties": {
           "id": "usa_CA_0288-0138",
           "slope": 0.045,
           "style": {
            "color": "grey",
            "fillOpacity": 0.2,
            "fill_color": "grey",
            "opacity": 1,
            "weight": 2
           }
          },
          "type": "Feature"
         },
         {
          "geometry": {
           "coordinates": [
            [
             -124.15598341397256,
             40.87704905006155
            ],
            [
             -124.16050937711644,
             40.87818341286643
            ]
           ],
           "type": "LineString"
          },
          "id": "32",
          "properties": {
           "id": "usa_CA_0288-0139",
           "slope": 0.05,
           "style": {
            "color": "grey",
            "fillOpacity": 0.2,
            "fill_color": "grey",
            "opacity": 1,
            "weight": 2
           }
          },
          "type": "Feature"
         },
         {
          "geometry": {
           "coordinates": [
            [
             -124.15558216626782,
             40.87789383900079
            ],
            [
             -124.16010818520417,
             40.8790282152559
            ]
           ],
           "type": "LineString"
          },
          "id": "33",
          "properties": {
           "id": "usa_CA_0288-0140",
           "slope": 0.045,
           "style": {
            "color": "grey",
            "fillOpacity": 0.2,
            "fill_color": "grey",
            "opacity": 1,
            "weight": 2
           }
          },
          "type": "Feature"
         },
         {
          "geometry": {
           "coordinates": [
            [
             -124.15519279717756,
             40.87871416543687
            ],
            [
             -124.15969510280436,
             40.87989747808814
            ]
           ],
           "type": "LineString"
          },
          "id": "34",
          "properties": {
           "id": "usa_CA_0288-0141",
           "slope": 0.05,
           "style": {
            "color": "grey",
            "fillOpacity": 0.2,
            "fill_color": "grey",
            "opacity": 1,
            "weight": 2
           }
          },
          "type": "Feature"
         },
         {
          "geometry": {
           "coordinates": [
            [
             -124.15477927829036,
             40.87951070126901
            ],
            [
             -124.1592410335782,
             40.88077291420641
            ]
           ],
           "type": "LineString"
          },
          "id": "35",
          "properties": {
           "id": "usa_CA_0288-0142",
           "slope": 0.05,
           "style": {
            "color": "grey",
            "fillOpacity": 0.2,
            "fill_color": "grey",
            "opacity": 1,
            "weight": 2
           }
          },
          "type": "Feature"
         },
         {
          "geometry": {
           "coordinates": [
            [
             -124.15433328322425,
             40.88032614652256
            ],
            [
             -124.15877885018512,
             40.881618462989614
            ]
           ],
           "type": "LineString"
          },
          "id": "36",
          "properties": {
           "id": "usa_CA_0288-0143",
           "slope": 0.045,
           "style": {
            "color": "grey",
            "fillOpacity": 0.2,
            "fill_color": "grey",
            "opacity": 1,
            "weight": 2
           }
          },
          "type": "Feature"
         },
         {
          "geometry": {
           "coordinates": [
            [
             -124.1538791594682,
             40.88115663404134
            ],
            [
             -124.15832477851056,
             40.882448966084645
            ]
           ],
           "type": "LineString"
          },
          "id": "37",
          "properties": {
           "id": "usa_CA_0288-0144",
           "slope": 0.04,
           "style": {
            "color": "grey",
            "fillOpacity": 0.2,
            "fill_color": "grey",
            "opacity": 1,
            "weight": 2
           }
          },
          "type": "Feature"
         },
         {
          "geometry": {
           "coordinates": [
            [
             -124.15342502769948,
             40.8819871199874
            ],
            [
             -124.15787069882474,
             40.88327946760748
            ]
           ],
           "type": "LineString"
          },
          "id": "38",
          "properties": {
           "id": "usa_CA_0288-0145",
           "slope": 0.04,
           "style": {
            "color": "grey",
            "fillOpacity": 0.2,
            "fill_color": "grey",
            "opacity": 1,
            "weight": 2
           }
          },
          "type": "Feature"
         },
         {
          "geometry": {
           "coordinates": [
            [
             -124.15297088791752,
             40.88281760436075
            ],
            [
             -124.15741661112722,
             40.8841099675581
            ]
           ],
           "type": "LineString"
          },
          "id": "39",
          "properties": {
           "id": "usa_CA_0288-0146",
           "slope": 0.035,
           "style": {
            "color": "grey",
            "fillOpacity": 0.2,
            "fill_color": "grey",
            "opacity": 1,
            "weight": 2
           }
          },
          "type": "Feature"
         },
         {
          "geometry": {
           "coordinates": [
            [
             -124.1525167401219,
             40.88364808716139
            ],
            [
             -124.15696251541743,
             40.88494046593654
            ]
           ],
           "type": "LineString"
          },
          "id": "40",
          "properties": {
           "id": "usa_CA_0288-0147",
           "slope": 0.04,
           "style": {
            "color": "grey",
            "fillOpacity": 0.2,
            "fill_color": "grey",
            "opacity": 1,
            "weight": 2
           }
          },
          "type": "Feature"
         },
         {
          "geometry": {
           "coordinates": [
            [
             -124.15206258431206,
             40.8844785683893
            ],
            [
             -124.15650841169496,
             40.88577096274271
            ]
           ],
           "type": "LineString"
          },
          "id": "41",
          "properties": {
           "id": "usa_CA_0288-0148",
           "slope": 0.045,
           "style": {
            "color": "grey",
            "fillOpacity": 0.2,
            "fill_color": "grey",
            "opacity": 1,
            "weight": 2
           }
          },
          "type": "Feature"
         },
         {
          "geometry": {
           "coordinates": [
            [
             -124.15160842048756,
             40.885309048044455
            ],
            [
             -124.15605429995928,
             40.88660145797666
            ]
           ],
           "type": "LineString"
          },
          "id": "42",
          "properties": {
           "id": "usa_CA_0288-0149",
           "slope": 0.04,
           "style": {
            "color": "grey",
            "fillOpacity": 0.2,
            "fill_color": "grey",
            "opacity": 1,
            "weight": 2
           }
          },
          "type": "Feature"
         },
         {
          "geometry": {
           "coordinates": [
            [
             -124.15112962849744,
             40.88618640104093
            ],
            [
             -124.15562479737096,
             40.887385075884495
            ]
           ],
           "type": "LineString"
          },
          "id": "43",
          "properties": {
           "id": "usa_CA_0288-0150",
           "slope": 0.045,
           "style": {
            "color": "grey",
            "fillOpacity": 0.2,
            "fill_color": "grey",
            "opacity": 1,
            "weight": 2
           }
          },
          "type": "Feature"
         },
         {
          "geometry": {
           "coordinates": [
            [
             -124.1507138355472,
             40.88708508042095
            ],
            [
             -124.15525856892584,
             40.88818077923964
            ]
           ],
           "type": "LineString"
          },
          "id": "44",
          "properties": {
           "id": "usa_CA_0288-0151",
           "slope": 0.05,
           "style": {
            "color": "grey",
            "fillOpacity": 0.2,
            "fill_color": "grey",
            "opacity": 1,
            "weight": 2
           }
          },
          "type": "Feature"
         }
        ],
        "type": "FeatureCollection"
       },
       "hover_style": {
        "color": "blue",
        "fillOpacity": 0.7
       },
       "name": "transects",
       "style": {
        "color": "grey",
        "fillOpacity": 0.2,
        "fill_color": "grey",
        "opacity": 1,
        "weight": 2
       }
      }
     },
     "71cbd1d005a34a54812c0ba5a915842e": {
      "model_module": "@jupyter-widgets/base",
      "model_module_version": "1.2.0",
      "model_name": "LayoutModel",
      "state": {
       "height": "auto",
       "padding": "0px 0px 0px 4px",
       "width": "auto"
      }
     },
     "71e512b5b07342f7a6bc77993defa390": {
      "model_module": "jupyter-leaflet",
      "model_module_version": "^0.17.0",
      "model_name": "LeafletTileLayerModel",
      "state": {
       "_model_module_version": "^0.17.0",
       "_view_module_version": "^0.17.0",
       "attribution": "Map tiles by Stamen Design, CC BY 3.0 -- Map data (C) OpenStreetMap contributors",
       "max_zoom": 20,
       "name": "Stamen.TopOSMFeatures",
       "options": [
        "attribution",
        "bounds",
        "detect_retina",
        "max_native_zoom",
        "max_zoom",
        "min_native_zoom",
        "min_zoom",
        "no_wrap",
        "tile_size",
        "tms"
       ],
       "url": "https://stamen-tiles-a.a.ssl.fastly.net/toposm-features/{z}/{x}/{y}.png"
      }
     },
     "726b172b08264ed595c8514e98ac815c": {
      "model_module": "@jupyter-widgets/base",
      "model_module_version": "1.2.0",
      "model_name": "LayoutModel",
      "state": {}
     },
     "72912f52fc3943e8832ff6b89e0b30b7": {
      "model_module": "jupyter-leaflet",
      "model_module_version": "^0.17.0",
      "model_name": "LeafletTileLayerModel",
      "state": {
       "_model_module_version": "^0.17.0",
       "_view_module_version": "^0.17.0",
       "attribution": "(C) Stadia Maps, (C) OpenMapTiles (C) OpenStreetMap contributors",
       "max_zoom": 20,
       "name": "Stadia.OSMBright",
       "options": [
        "attribution",
        "bounds",
        "detect_retina",
        "max_native_zoom",
        "max_zoom",
        "min_native_zoom",
        "min_zoom",
        "no_wrap",
        "tile_size",
        "tms"
       ],
       "url": "https://tiles.stadiamaps.com/tiles/osm_bright/{z}/{x}/{y}.png"
      }
     },
     "737425df1c554dd5957be1221e35faa4": {
      "model_module": "@jupyter-widgets/base",
      "model_module_version": "1.2.0",
      "model_name": "LayoutModel",
      "state": {}
     },
     "73d16acbb71846619699be6a233373be": {
      "model_module": "jupyter-leaflet",
      "model_module_version": "^0.17.0",
      "model_name": "LeafletTileLayerModel",
      "state": {
       "_model_module_version": "^0.17.0",
       "_view_module_version": "^0.17.0",
       "attribution": "Map data: (C) OpenStreetMap contributors | Map style: (C) OpenFireMap (CC-BY-SA)",
       "max_zoom": 19,
       "name": "OpenFireMap",
       "options": [
        "attribution",
        "bounds",
        "detect_retina",
        "max_native_zoom",
        "max_zoom",
        "min_native_zoom",
        "min_zoom",
        "no_wrap",
        "tile_size",
        "tms"
       ],
       "url": "http://openfiremap.org/hytiles/{z}/{x}/{y}.png"
      }
     },
     "73fd9f0eae4243a2b1fce21f98ad09b7": {
      "model_module": "@jupyter-widgets/base",
      "model_module_version": "1.2.0",
      "model_name": "LayoutModel",
      "state": {}
     },
     "74b5d2c4a0ac49cd9561041c6da08e35": {
      "model_module": "@jupyter-widgets/controls",
      "model_module_version": "1.5.0",
      "model_name": "HBoxModel",
      "state": {
       "children": [
        "IPY_MODEL_343392b1507443369585cbec89f6dc37",
        "IPY_MODEL_6f48e7ef42cd4fd0ba1038095cd3da1e",
        "IPY_MODEL_86ecd343f5334f61899d7da3a343bc23"
       ],
       "layout": "IPY_MODEL_fd9aaf83ac43420d886abb464e3faefb"
      }
     },
     "75310a1ea2664e6fbb4db5b84ebf9962": {
      "model_module": "@jupyter-widgets/controls",
      "model_module_version": "1.5.0",
      "model_name": "DescriptionStyleModel",
      "state": {
       "description_width": ""
      }
     },
     "75acd5861103477aab684c00e22e211d": {
      "model_module": "jupyter-leaflet",
      "model_module_version": "^0.17.0",
      "model_name": "LeafletZoomControlModel",
      "state": {
       "_model_module_version": "^0.17.0",
       "_view_module_version": "^0.17.0",
       "options": [
        "position",
        "zoom_in_text",
        "zoom_in_title",
        "zoom_out_text",
        "zoom_out_title"
       ]
      }
     },
     "75bb8d9040bf4999aefe738609219e84": {
      "model_module": "@jupyter-widgets/controls",
      "model_module_version": "1.5.0",
      "model_name": "DescriptionStyleModel",
      "state": {
       "description_width": ""
      }
     },
     "7631b9ffe85147fc867c09ad13ce566b": {
      "model_module": "@jupyter-widgets/controls",
      "model_module_version": "1.5.0",
      "model_name": "FloatProgressModel",
      "state": {
       "bar_style": "success",
       "layout": "IPY_MODEL_796a401f12344ca18713e6e7a3fd5b4f",
       "max": 1664094,
       "style": "IPY_MODEL_92ebf5b29d904781bdd53a403a529fcf",
       "value": 1664094
      }
     },
     "76a15cde8878419c88bfc9a1f60fb81a": {
      "model_module": "jupyter-leaflet",
      "model_module_version": "^0.17.0",
      "model_name": "LeafletTileLayerModel",
      "state": {
       "_model_module_version": "^0.17.0",
       "_view_module_version": "^0.17.0",
       "attribution": "Tiles (C) Esri -- Esri, DeLorme, NAVTEQ, TomTom, Intermap, iPC, USGS, FAO, NPS, NRCAN, GeoBase, Kadaster NL, Ordnance Survey, Esri Japan, METI, Esri China (Hong Kong), and the GIS User Community",
       "max_zoom": 22,
       "name": "Esri.WorldTopoMap",
       "options": [
        "attribution",
        "bounds",
        "detect_retina",
        "max_native_zoom",
        "max_zoom",
        "min_native_zoom",
        "min_zoom",
        "no_wrap",
        "tile_size",
        "tms"
       ],
       "url": "https://server.arcgisonline.com/ArcGIS/rest/services/World_Topo_Map/MapServer/tile/{z}/{y}/{x}"
      }
     },
     "78bc364320f44aa88b51da30e26bc465": {
      "model_module": "@jupyter-widgets/base",
      "model_module_version": "1.2.0",
      "model_name": "LayoutModel",
      "state": {}
     },
     "78d2ff11a70d4c8bb20b4ef6acf07031": {
      "model_module": "@jupyter-widgets/controls",
      "model_module_version": "1.5.0",
      "model_name": "ButtonStyleModel",
      "state": {
       "button_color": "#69add1"
      }
     },
     "796a401f12344ca18713e6e7a3fd5b4f": {
      "model_module": "@jupyter-widgets/base",
      "model_module_version": "1.2.0",
      "model_name": "LayoutModel",
      "state": {}
     },
     "7b183733022d4c04a2507eeeb6a08a4c": {
      "model_module": "jupyter-leaflet",
      "model_module_version": "^0.17.0",
      "model_name": "LeafletTileLayerModel",
      "state": {
       "_model_module_version": "^0.17.0",
       "_view_module_version": "^0.17.0",
       "attribution": "openAIP Data (CC-BY-NC-SA)",
       "max_zoom": 14,
       "name": "OpenAIP",
       "options": [
        "attribution",
        "bounds",
        "detect_retina",
        "max_native_zoom",
        "max_zoom",
        "min_native_zoom",
        "min_zoom",
        "no_wrap",
        "tile_size",
        "tms"
       ],
       "url": "https://1.tile.maps.openaip.net/geowebcache/service/tms/1.0.0/openaip_basemap@EPSG%3A900913@png/{z}/{x}/{y}.png"
      }
     },
     "7b1e7b05b8234687b0fb940d84bd580b": {
      "model_module": "@jupyter-widgets/controls",
      "model_module_version": "1.5.0",
      "model_name": "HTMLModel",
      "state": {
       "layout": "IPY_MODEL_bc4c401f2062470cbdfb0b5f77d81df8",
       "style": "IPY_MODEL_0051385707e6472ab9958e5048b09ec5",
       "value": "<b>Pick multiple satellites by holding the control key:</b>         <br> - images prior to 2022/01/01 will be downloaded from Collection 1         <br> - images after 2022/01/01 will be automatically downloaded from Collection 2         <br> C01: LandSat Collection 1 : All dates before 2022/01/01        <br> C02: LandSat Collection 2 : All dates after 2022/01/01         <br> - Landsat 9 is only available in C02"
      }
     },
     "7b33df7615a042d28f9da0542126bc0d": {
      "model_module": "@jupyter-widgets/controls",
      "model_module_version": "1.5.0",
      "model_name": "ButtonModel",
      "state": {
       "description": "Load gdf from file",
       "layout": "IPY_MODEL_52ca3f2a7325414a83df090702002270",
       "style": "IPY_MODEL_414a081022414884b961e3066115b884"
      }
     },
     "7b95737506fe4557b1aff3ea01b70009": {
      "model_module": "@jupyter-widgets/base",
      "model_module_version": "1.2.0",
      "model_name": "LayoutModel",
      "state": {
       "padding": "10px"
      }
     },
     "7bf3e635069b41148257b735df112867": {
      "model_module": "@jupyter-widgets/controls",
      "model_module_version": "1.5.0",
      "model_name": "SliderStyleModel",
      "state": {
       "description_width": "initial"
      }
     },
     "7c02bada346e44a484883fd853249cf1": {
      "model_module": "jupyter-leaflet",
      "model_module_version": "^0.17.0",
      "model_name": "LeafletTileLayerModel",
      "state": {
       "_model_module_version": "^0.17.0",
       "_view_module_version": "^0.17.0",
       "attribution": "Imagery provided by services from the Global Imagery Browse Services (GIBS), operated by the NASA/GSFC/Earth Science Data and Information System (ESDIS) with funding provided by NASA/HQ.",
       "max_zoom": 7,
       "name": "NASAGIBS.ModisTerraLSTDay",
       "options": [
        "attribution",
        "bounds",
        "detect_retina",
        "max_native_zoom",
        "max_zoom",
        "min_native_zoom",
        "min_zoom",
        "no_wrap",
        "tile_size",
        "tms"
       ],
       "url": "https://map1.vis.earthdata.nasa.gov/wmts-webmerc/MODIS_Terra_Land_Surface_Temp_Day/default//GoogleMapsCompatible_Level7/{z}/{y}/{x}.png"
      }
     },
     "7d35dfabfadc4878ba0b448a7f8edda0": {
      "model_module": "jupyter-leaflet",
      "model_module_version": "^0.17.0",
      "model_name": "LeafletTileLayerModel",
      "state": {
       "_model_module_version": "^0.17.0",
       "_view_module_version": "^0.17.0",
       "attribution": "&copy; <a href=\"https://www.openstreetmap.org/copyright\">OpenStreetMap</a> contributors",
       "base": true,
       "max_zoom": 19,
       "min_zoom": 1,
       "name": "OpenStreetMap",
       "options": [
        "attribution",
        "bounds",
        "detect_retina",
        "max_native_zoom",
        "max_zoom",
        "min_native_zoom",
        "min_zoom",
        "no_wrap",
        "tile_size",
        "tms"
       ],
       "url": "https://a.tile.openstreetmap.org/{z}/{x}/{y}.png"
      }
     },
     "7d7f885e45a2465082d9ba0589a74859": {
      "model_module": "jupyter-leaflet",
      "model_module_version": "^0.17.0",
      "model_name": "LeafletTileLayerModel",
      "state": {
       "_model_module_version": "^0.17.0",
       "_view_module_version": "^0.17.0",
       "attribution": "Imagery provided by services from the Global Imagery Browse Services (GIBS), operated by the NASA/GSFC/Earth Science Data and Information System (ESDIS) with funding provided by NASA/HQ.",
       "max_zoom": 9,
       "name": "NASAGIBS.ViirsTrueColorCR",
       "options": [
        "attribution",
        "bounds",
        "detect_retina",
        "max_native_zoom",
        "max_zoom",
        "min_native_zoom",
        "min_zoom",
        "no_wrap",
        "tile_size",
        "tms"
       ],
       "url": "https://gibs.earthdata.nasa.gov/wmts/epsg3857/best/VIIRS_SNPP_CorrectedReflectance_TrueColor/default//GoogleMapsCompatible_Level9/{z}/{y}/{x}.jpg"
      }
     },
     "7df62f9a2f22436db85959985e72b96b": {
      "model_module": "@jupyter-widgets/base",
      "model_module_version": "1.2.0",
      "model_name": "LayoutModel",
      "state": {}
     },
     "7ecba166fa8949c49a02d18d35fa6d67": {
      "model_module": "@jupyter-widgets/base",
      "model_module_version": "1.2.0",
      "model_name": "LayoutModel",
      "state": {
       "height": "auto",
       "padding": "0px 0px 0px 4px",
       "width": "auto"
      }
     },
     "7f1785c0785540ebae2903e49300c199": {
      "model_module": "@jupyter-widgets/controls",
      "model_module_version": "1.5.0",
      "model_name": "ButtonStyleModel",
      "state": {
       "button_color": "#ae3cf0"
      }
     },
     "7fdbb2434137498d9a63b91c231b921f": {
      "model_module": "@jupyter-widgets/controls",
      "model_module_version": "1.5.0",
      "model_name": "HBoxModel",
      "state": {
       "children": [
        "IPY_MODEL_11f18a0aa4594c5790d4dde2ff1f7f82"
       ],
       "layout": "IPY_MODEL_a0b212b50e0c4359ab08130a46244a6c"
      }
     },
     "7fe1e4ff080c4dafb8ec4373e77ac699": {
      "model_module": "@jupyter-widgets/base",
      "model_module_version": "1.2.0",
      "model_name": "LayoutModel",
      "state": {}
     },
     "800f3a9988814f3dbdf829acfcc15ab5": {
      "model_module": "jupyter-leaflet",
      "model_module_version": "^0.17.0",
      "model_name": "LeafletWMSLayerModel",
      "state": {
       "_model_module_version": "^0.17.0",
       "_view_module_version": "^0.17.0",
       "attribution": "ESA",
       "crs": {
        "custom": false,
        "name": "EPSG3857"
       },
       "format": "image/png",
       "layers": "WORLDCOVER_2020_MAP",
       "name": "ESA Worldcover 2020",
       "options": [
        "attribution",
        "bounds",
        "detect_retina",
        "format",
        "layers",
        "max_native_zoom",
        "max_zoom",
        "min_native_zoom",
        "min_zoom",
        "no_wrap",
        "styles",
        "tile_size",
        "tms",
        "transparent",
        "uppercase"
       ],
       "transparent": true,
       "url": "https://services.terrascope.be/wms/v2"
      }
     },
     "8021a515144f47bf86d917510096b21f": {
      "model_module": "@jupyter-widgets/controls",
      "model_module_version": "1.5.0",
      "model_name": "HTMLModel",
      "state": {
       "layout": "IPY_MODEL_9b2ce64570e94069ac25c2610c85b3ef",
       "style": "IPY_MODEL_f47fafa2073f4a6eb0853137610554d7",
       "value": " 1.59M/1.59M [00:01&lt;00:00, 1.27MB/s]"
      }
     },
     "80584b22141f441bbb6c127585361c9f": {
      "model_module": "@jupyter-widgets/base",
      "model_module_version": "1.2.0",
      "model_name": "LayoutModel",
      "state": {}
     },
     "817e7d25da344fbbae17eaed21441c6f": {
      "model_module": "@jupyter-widgets/controls",
      "model_module_version": "1.5.0",
      "model_name": "HTMLModel",
      "state": {
       "layout": "IPY_MODEL_a42a4c4722d34fd49a885a4a33f0abb5",
       "style": "IPY_MODEL_17064ebe5f0e4bbebb2e0f9d49c39087",
       "value": "Extracting Shorelines: 100%"
      }
     },
     "81befd4d62b84adf9bac36dd101980f0": {
      "model_module": "@jupyter-widgets/base",
      "model_module_version": "1.2.0",
      "model_name": "LayoutModel",
      "state": {}
     },
     "8203e9c2d32e4f3a8685935e2e72f581": {
      "model_module": "@jupyter-widgets/base",
      "model_module_version": "1.2.0",
      "model_name": "LayoutModel",
      "state": {}
     },
     "82f5b3d4132544fabd0bbd148f06d0e3": {
      "model_module": "jupyter-leaflet",
      "model_module_version": "^0.17.0",
      "model_name": "LeafletMapStyleModel",
      "state": {
       "_model_module_version": "^0.17.0",
       "cursor": "wait"
      }
     },
     "8329167329204e0a8094098d8eae2e26": {
      "model_module": "@jupyter-widgets/controls",
      "model_module_version": "1.5.0",
      "model_name": "ButtonStyleModel",
      "state": {
       "button_color": "#ae3cf0"
      }
     },
     "835db78f4f804eaf8e142197ace7f64a": {
      "model_module": "@jupyter-widgets/controls",
      "model_module_version": "1.5.0",
      "model_name": "SelectMultipleModel",
      "state": {
       "_options_labels": [
        "L5",
        "L7",
        "L8",
        "S2"
       ],
       "description": "Satellites",
       "index": [
        2
       ],
       "layout": "IPY_MODEL_eb22000fa6894746841ed6c1b512ad29",
       "rows": 5,
       "style": "IPY_MODEL_45cdaa341935418b96246081a0991075"
      }
     },
     "839d446d404047f7945670e5a7e5ec4e": {
      "model_module": "jupyter-leaflet",
      "model_module_version": "^0.17.0",
      "model_name": "LeafletGeoJSONModel",
      "state": {
       "_model_module_version": "^0.17.0",
       "_view_module_version": "^0.17.0",
       "data": {
        "features": [
         {
          "geometry": {
           "coordinates": [
            [
             -124.16319255481548,
             40.863600766732304
            ],
            [
             -124.16757151833087,
             40.86500706329972
            ]
           ],
           "type": "LineString"
          },
          "id": "16",
          "properties": {
           "id": "usa_CA_0288-0123",
           "slope": 0.045,
           "style": {
            "color": "grey",
            "fillOpacity": 0.2,
            "fill_color": "grey",
            "opacity": 1,
            "weight": 2
           },
           "type": "transect"
          },
          "type": "Feature"
         },
         {
          "geometry": {
           "coordinates": [
            [
             -124.16270037961276,
             40.86441959902001
            ],
            [
             -124.16707939215252,
             40.86582591262795
            ]
           ],
           "type": "LineString"
          },
          "id": "17",
          "properties": {
           "id": "usa_CA_0288-0124",
           "slope": 0.045,
           "style": {
            "color": "grey",
            "fillOpacity": 0.2,
            "fill_color": "grey",
            "opacity": 1,
            "weight": 2
           },
           "type": "transect"
          },
          "type": "Feature"
         },
         {
          "geometry": {
           "coordinates": [
            [
             -124.16220819553176,
             40.865238429452674
            ],
            [
             -124.16658725709708,
             40.866644760101686
            ]
           ],
           "type": "LineString"
          },
          "id": "18",
          "properties": {
           "id": "usa_CA_0288-0125",
           "slope": 0.04,
           "style": {
            "color": "grey",
            "fillOpacity": 0.2,
            "fill_color": "grey",
            "opacity": 1,
            "weight": 2
           },
           "type": "transect"
          },
          "type": "Feature"
         },
         {
          "geometry": {
           "coordinates": [
            [
             -124.16171600257196,
             40.86605725803027
            ],
            [
             -124.16609511316408,
             40.86746360572087
            ]
           ],
           "type": "LineString"
          },
          "id": "19",
          "properties": {
           "id": "usa_CA_0288-0126",
           "slope": 0.045,
           "style": {
            "color": "grey",
            "fillOpacity": 0.2,
            "fill_color": "grey",
            "opacity": 1,
            "weight": 2
           },
           "type": "transect"
          },
          "type": "Feature"
         },
         {
          "geometry": {
           "coordinates": [
            [
             -124.16122380073276,
             40.86687608475276
            ],
            [
             -124.16560296035298,
             40.86828244948551
            ]
           ],
           "type": "LineString"
          },
          "id": "20",
          "properties": {
           "id": "usa_CA_0288-0127",
           "slope": 0.04,
           "style": {
            "color": "grey",
            "fillOpacity": 0.2,
            "fill_color": "grey",
            "opacity": 1,
            "weight": 2
           },
           "type": "transect"
          },
          "type": "Feature"
         },
         {
          "geometry": {
           "coordinates": [
            [
             -124.1607315900137,
             40.86769490962013
            ],
            [
             -124.16511079866322,
             40.86910129139556
            ]
           ],
           "type": "LineString"
          },
          "id": "21",
          "properties": {
           "id": "usa_CA_0288-0128",
           "slope": 0.045,
           "style": {
            "color": "grey",
            "fillOpacity": 0.2,
            "fill_color": "grey",
            "opacity": 1,
            "weight": 2
           },
           "type": "transect"
          },
          "type": "Feature"
         },
         {
          "geometry": {
           "coordinates": [
            [
             -124.16023937041416,
             40.868513732632366
            ],
            [
             -124.16461862809426,
             40.86992013145101
            ]
           ],
           "type": "LineString"
          },
          "id": "22",
          "properties": {
           "id": "usa_CA_0288-0129",
           "slope": 0.045,
           "style": {
            "color": "grey",
            "fillOpacity": 0.2,
            "fill_color": "grey",
            "opacity": 1,
            "weight": 2
           },
           "type": "transect"
          },
          "type": "Feature"
         },
         {
          "geometry": {
           "coordinates": [
            [
             -124.1597421658541,
             40.8693408875499
            ],
            [
             -124.1641314242243,
             40.87073063571912
            ]
           ],
           "type": "LineString"
          },
          "id": "23",
          "properties": {
           "id": "usa_CA_0288-0130",
           "slope": 0.045,
           "style": {
            "color": "grey",
            "fillOpacity": 0.2,
            "fill_color": "grey",
            "opacity": 1,
            "weight": 2
           },
           "type": "transect"
          },
          "type": "Feature"
         },
         {
          "geometry": {
           "coordinates": [
            [
             -124.15922331087646,
             40.87023060390582
            ],
            [
             -124.16368851598467,
             40.87148504083176
            ]
           ],
           "type": "LineString"
          },
          "id": "24",
          "properties": {
           "id": "usa_CA_0288-0131",
           "slope": 0.045,
           "style": {
            "color": "grey",
            "fillOpacity": 0.2,
            "fill_color": "grey",
            "opacity": 1,
            "weight": 2
           },
           "type": "transect"
          },
          "type": "Feature"
         },
         {
          "geometry": {
           "coordinates": [
            [
             -124.1587919592432,
             40.87113549303228
            ],
            [
             -124.16331753188892,
             40.87226976169797
            ]
           ],
           "type": "LineString"
          },
          "id": "25",
          "properties": {
           "id": "usa_CA_0288-0132",
           "slope": 0.04,
           "style": {
            "color": "grey",
            "fillOpacity": 0.2,
            "fill_color": "grey",
            "opacity": 1,
            "weight": 2
           },
           "type": "transect"
          },
          "type": "Feature"
         },
         {
          "geometry": {
           "coordinates": [
            [
             -124.15839075870096,
             40.87198029058521
            ],
            [
             -124.16291638712688,
             40.87311457269802
            ]
           ],
           "type": "LineString"
          },
          "id": "26",
          "properties": {
           "id": "usa_CA_0288-0133",
           "slope": 0.04,
           "style": {
            "color": "grey",
            "fillOpacity": 0.2,
            "fill_color": "grey",
            "opacity": 1,
            "weight": 2
           },
           "type": "transect"
          },
          "type": "Feature"
         },
         {
          "geometry": {
           "coordinates": [
            [
             -124.15798955142256,
             40.8728250869076
            ],
            [
             -124.16251523563042,
             40.87395938246797
            ]
           ],
           "type": "LineString"
          },
          "id": "27",
          "properties": {
           "id": "usa_CA_0288-0134",
           "slope": 0.045,
           "style": {
            "color": "grey",
            "fillOpacity": 0.2,
            "fill_color": "grey",
            "opacity": 1,
            "weight": 2
           },
           "type": "transect"
          },
          "type": "Feature"
         },
         {
          "geometry": {
           "coordinates": [
            [
             -124.15758833740756,
             40.87366988199946
            ],
            [
             -124.16211407739912,
             40.87480419100782
            ]
           ],
           "type": "LineString"
          },
          "id": "28",
          "properties": {
           "id": "usa_CA_0288-0135",
           "slope": 0.045,
           "style": {
            "color": "grey",
            "fillOpacity": 0.2,
            "fill_color": "grey",
            "opacity": 1,
            "weight": 2
           },
           "type": "transect"
          },
          "type": "Feature"
         },
         {
          "geometry": {
           "coordinates": [
            [
             -124.15718711665552,
             40.87451467586078
            ],
            [
             -124.16171291243256,
             40.87564899831758
            ]
           ],
           "type": "LineString"
          },
          "id": "29",
          "properties": {
           "id": "usa_CA_0288-0136",
           "slope": 0.045,
           "style": {
            "color": "grey",
            "fillOpacity": 0.2,
            "fill_color": "grey",
            "opacity": 1,
            "weight": 2
           },
           "type": "transect"
          },
          "type": "Feature"
         },
         {
          "geometry": {
           "coordinates": [
            [
             -124.15678588916596,
             40.87535946849156
            ],
            [
             -124.1613117407302,
             40.876493804397256
            ]
           ],
           "type": "LineString"
          },
          "id": "30",
          "properties": {
           "id": "usa_CA_0288-0137",
           "slope": 0.045,
           "style": {
            "color": "grey",
            "fillOpacity": 0.2,
            "fill_color": "grey",
            "opacity": 1,
            "weight": 2
           },
           "type": "transect"
          },
          "type": "Feature"
         },
         {
          "geometry": {
           "coordinates": [
            [
             -124.15638465493848,
             40.87620425989182
            ],
            [
             -124.16091056229163,
             40.87733860924686
            ]
           ],
           "type": "LineString"
          },
          "id": "31",
          "properties": {
           "id": "usa_CA_0288-0138",
           "slope": 0.045,
           "style": {
            "color": "grey",
            "fillOpacity": 0.2,
            "fill_color": "grey",
            "opacity": 1,
            "weight": 2
           },
           "type": "transect"
          },
          "type": "Feature"
         },
         {
          "geometry": {
           "coordinates": [
            [
             -124.15598341397256,
             40.87704905006155
            ],
            [
             -124.16050937711644,
             40.87818341286643
            ]
           ],
           "type": "LineString"
          },
          "id": "32",
          "properties": {
           "id": "usa_CA_0288-0139",
           "slope": 0.05,
           "style": {
            "color": "grey",
            "fillOpacity": 0.2,
            "fill_color": "grey",
            "opacity": 1,
            "weight": 2
           },
           "type": "transect"
          },
          "type": "Feature"
         },
         {
          "geometry": {
           "coordinates": [
            [
             -124.15558216626782,
             40.87789383900079
            ],
            [
             -124.16010818520417,
             40.8790282152559
            ]
           ],
           "type": "LineString"
          },
          "id": "33",
          "properties": {
           "id": "usa_CA_0288-0140",
           "slope": 0.045,
           "style": {
            "color": "grey",
            "fillOpacity": 0.2,
            "fill_color": "grey",
            "opacity": 1,
            "weight": 2
           },
           "type": "transect"
          },
          "type": "Feature"
         },
         {
          "geometry": {
           "coordinates": [
            [
             -124.15519279717756,
             40.87871416543687
            ],
            [
             -124.15969510280436,
             40.87989747808814
            ]
           ],
           "type": "LineString"
          },
          "id": "34",
          "properties": {
           "id": "usa_CA_0288-0141",
           "slope": 0.05,
           "style": {
            "color": "grey",
            "fillOpacity": 0.2,
            "fill_color": "grey",
            "opacity": 1,
            "weight": 2
           },
           "type": "transect"
          },
          "type": "Feature"
         },
         {
          "geometry": {
           "coordinates": [
            [
             -124.15477927829036,
             40.87951070126901
            ],
            [
             -124.1592410335782,
             40.88077291420641
            ]
           ],
           "type": "LineString"
          },
          "id": "35",
          "properties": {
           "id": "usa_CA_0288-0142",
           "slope": 0.05,
           "style": {
            "color": "grey",
            "fillOpacity": 0.2,
            "fill_color": "grey",
            "opacity": 1,
            "weight": 2
           },
           "type": "transect"
          },
          "type": "Feature"
         },
         {
          "geometry": {
           "coordinates": [
            [
             -124.15433328322425,
             40.88032614652256
            ],
            [
             -124.15877885018512,
             40.881618462989614
            ]
           ],
           "type": "LineString"
          },
          "id": "36",
          "properties": {
           "id": "usa_CA_0288-0143",
           "slope": 0.045,
           "style": {
            "color": "grey",
            "fillOpacity": 0.2,
            "fill_color": "grey",
            "opacity": 1,
            "weight": 2
           },
           "type": "transect"
          },
          "type": "Feature"
         },
         {
          "geometry": {
           "coordinates": [
            [
             -124.1538791594682,
             40.88115663404134
            ],
            [
             -124.15832477851056,
             40.882448966084645
            ]
           ],
           "type": "LineString"
          },
          "id": "37",
          "properties": {
           "id": "usa_CA_0288-0144",
           "slope": 0.04,
           "style": {
            "color": "grey",
            "fillOpacity": 0.2,
            "fill_color": "grey",
            "opacity": 1,
            "weight": 2
           },
           "type": "transect"
          },
          "type": "Feature"
         },
         {
          "geometry": {
           "coordinates": [
            [
             -124.15342502769948,
             40.8819871199874
            ],
            [
             -124.15787069882474,
             40.88327946760748
            ]
           ],
           "type": "LineString"
          },
          "id": "38",
          "properties": {
           "id": "usa_CA_0288-0145",
           "slope": 0.04,
           "style": {
            "color": "grey",
            "fillOpacity": 0.2,
            "fill_color": "grey",
            "opacity": 1,
            "weight": 2
           },
           "type": "transect"
          },
          "type": "Feature"
         },
         {
          "geometry": {
           "coordinates": [
            [
             -124.15297088791752,
             40.88281760436075
            ],
            [
             -124.15741661112722,
             40.8841099675581
            ]
           ],
           "type": "LineString"
          },
          "id": "39",
          "properties": {
           "id": "usa_CA_0288-0146",
           "slope": 0.035,
           "style": {
            "color": "grey",
            "fillOpacity": 0.2,
            "fill_color": "grey",
            "opacity": 1,
            "weight": 2
           },
           "type": "transect"
          },
          "type": "Feature"
         },
         {
          "geometry": {
           "coordinates": [
            [
             -124.1525167401219,
             40.88364808716139
            ],
            [
             -124.15696251541743,
             40.88494046593654
            ]
           ],
           "type": "LineString"
          },
          "id": "40",
          "properties": {
           "id": "usa_CA_0288-0147",
           "slope": 0.04,
           "style": {
            "color": "grey",
            "fillOpacity": 0.2,
            "fill_color": "grey",
            "opacity": 1,
            "weight": 2
           },
           "type": "transect"
          },
          "type": "Feature"
         },
         {
          "geometry": {
           "coordinates": [
            [
             -124.15206258431206,
             40.8844785683893
            ],
            [
             -124.15650841169496,
             40.88577096274271
            ]
           ],
           "type": "LineString"
          },
          "id": "41",
          "properties": {
           "id": "usa_CA_0288-0148",
           "slope": 0.045,
           "style": {
            "color": "grey",
            "fillOpacity": 0.2,
            "fill_color": "grey",
            "opacity": 1,
            "weight": 2
           },
           "type": "transect"
          },
          "type": "Feature"
         },
         {
          "geometry": {
           "coordinates": [
            [
             -124.15160842048756,
             40.885309048044455
            ],
            [
             -124.15605429995928,
             40.88660145797666
            ]
           ],
           "type": "LineString"
          },
          "id": "42",
          "properties": {
           "id": "usa_CA_0288-0149",
           "slope": 0.04,
           "style": {
            "color": "grey",
            "fillOpacity": 0.2,
            "fill_color": "grey",
            "opacity": 1,
            "weight": 2
           },
           "type": "transect"
          },
          "type": "Feature"
         },
         {
          "geometry": {
           "coordinates": [
            [
             -124.15112962849744,
             40.88618640104093
            ],
            [
             -124.15562479737096,
             40.887385075884495
            ]
           ],
           "type": "LineString"
          },
          "id": "43",
          "properties": {
           "id": "usa_CA_0288-0150",
           "slope": 0.045,
           "style": {
            "color": "grey",
            "fillOpacity": 0.2,
            "fill_color": "grey",
            "opacity": 1,
            "weight": 2
           },
           "type": "transect"
          },
          "type": "Feature"
         },
         {
          "geometry": {
           "coordinates": [
            [
             -124.1507138355472,
             40.88708508042095
            ],
            [
             -124.15525856892584,
             40.88818077923964
            ]
           ],
           "type": "LineString"
          },
          "id": "44",
          "properties": {
           "id": "usa_CA_0288-0151",
           "slope": 0.05,
           "style": {
            "color": "grey",
            "fillOpacity": 0.2,
            "fill_color": "grey",
            "opacity": 1,
            "weight": 2
           },
           "type": "transect"
          },
          "type": "Feature"
         }
        ],
        "type": "FeatureCollection"
       },
       "hover_style": {
        "color": "blue",
        "fillOpacity": 0.7
       },
       "name": "transects",
       "style": {
        "color": "grey",
        "fillOpacity": 0.2,
        "fill_color": "grey",
        "opacity": 1,
        "weight": 2
       }
      }
     },
     "8471ac3bb17446f29ce9fbcac8c2ae0b": {
      "model_module": "@jupyter-widgets/base",
      "model_module_version": "1.2.0",
      "model_name": "LayoutModel",
      "state": {
       "height": "auto",
       "padding": "0px 0px 0px 4px",
       "width": "auto"
      }
     },
     "84e30fe5b6fd4e5da88beaf46df0921f": {
      "model_module": "jupyter-leaflet",
      "model_module_version": "^0.17.0",
      "model_name": "LeafletMapStyleModel",
      "state": {
       "_model_module_version": "^0.17.0",
       "cursor": "wait"
      }
     },
     "84ec70e0fafb429c9928f1f9c0d718f5": {
      "model_module": "jupyter-leaflet",
      "model_module_version": "^0.17.0",
      "model_name": "LeafletTileLayerModel",
      "state": {
       "_model_module_version": "^0.17.0",
       "_view_module_version": "^0.17.0",
       "attribution": "(C) OpenStreetMap contributors (C) CARTO",
       "max_zoom": 20,
       "name": "CartoDB.PositronOnlyLabels",
       "options": [
        "attribution",
        "bounds",
        "detect_retina",
        "max_native_zoom",
        "max_zoom",
        "min_native_zoom",
        "min_zoom",
        "no_wrap",
        "tile_size",
        "tms"
       ],
       "url": "https://a.basemaps.cartocdn.com/light_only_labels/{z}/{x}/{y}.png"
      }
     },
     "8505c34af8ac49e6bc71271567f97966": {
      "model_module": "@jupyter-widgets/base",
      "model_module_version": "1.2.0",
      "model_name": "LayoutModel",
      "state": {}
     },
     "8578a12b9f59434a9fd9fe94e4abeba7": {
      "model_module": "jupyter-leaflet",
      "model_module_version": "^0.17.0",
      "model_name": "LeafletTileLayerModel",
      "state": {
       "_model_module_version": "^0.17.0",
       "_view_module_version": "^0.17.0",
       "attribution": "Imagery provided by services from the Global Imagery Browse Services (GIBS), operated by the NASA/GSFC/Earth Science Data and Information System (ESDIS) with funding provided by NASA/HQ.",
       "max_zoom": 12,
       "name": "NASAGIBS.ASTER_GDEM_Greyscale_Shaded_Relief",
       "options": [
        "attribution",
        "bounds",
        "detect_retina",
        "max_native_zoom",
        "max_zoom",
        "min_native_zoom",
        "min_zoom",
        "no_wrap",
        "tile_size",
        "tms"
       ],
       "url": "https://gibs.earthdata.nasa.gov/wmts/epsg3857/best/ASTER_GDEM_Greyscale_Shaded_Relief/default/GoogleMapsCompatible_Level12/{z}/{y}/{x}.jpg"
      }
     },
     "85d9a2b90c85494fb99d9fc15330a83e": {
      "model_module": "jupyter-leaflet",
      "model_module_version": "^0.17.0",
      "model_name": "LeafletTileLayerModel",
      "state": {
       "_model_module_version": "^0.17.0",
       "_view_module_version": "^0.17.0",
       "attribution": "Imagery provided by services from the Global Imagery Browse Services (GIBS), operated by the NASA/GSFC/Earth Science Data and Information System (ESDIS) with funding provided by NASA/HQ.",
       "max_zoom": 9,
       "name": "NASAGIBS.ModisTerraBands721CR",
       "options": [
        "attribution",
        "bounds",
        "detect_retina",
        "max_native_zoom",
        "max_zoom",
        "min_native_zoom",
        "min_zoom",
        "no_wrap",
        "tile_size",
        "tms"
       ],
       "url": "https://gibs.earthdata.nasa.gov/wmts/epsg3857/best/MODIS_Terra_CorrectedReflectance_Bands721/default//GoogleMapsCompatible_Level9/{z}/{y}/{x}.jpg"
      }
     },
     "861089cd368c4e0ab7e4623936838d0b": {
      "model_module": "@jupyter-widgets/controls",
      "model_module_version": "1.5.0",
      "model_name": "DescriptionStyleModel",
      "state": {
       "description_width": ""
      }
     },
     "86ecd343f5334f61899d7da3a343bc23": {
      "model_module": "@jupyter-widgets/controls",
      "model_module_version": "1.5.0",
      "model_name": "HTMLModel",
      "state": {
       "layout": "IPY_MODEL_e62d5c3227844323b727885875d10e3f",
       "style": "IPY_MODEL_609f5bd9ff314c89bc04c0e1a89fc6cc",
       "value": " 2/2 [00:43&lt;00:00, 20.47s/it]"
      }
     },
     "87a9d7e716d24f4d8a00db9847fa0781": {
      "model_module": "@jupyter-widgets/controls",
      "model_module_version": "1.5.0",
      "model_name": "ToggleButtonModel",
      "state": {
       "button_style": "primary",
       "icon": "globe",
       "layout": "IPY_MODEL_68102745c8814f198e5f69b0c14e92dd",
       "style": "IPY_MODEL_22f44d99e64c4ecdaad5c66533ee07b4",
       "tooltip": "Split-panel map"
      }
     },
     "88b84956a01547329bc773b6ae19920b": {
      "model_module": "@jupyter-widgets/controls",
      "model_module_version": "1.5.0",
      "model_name": "DescriptionStyleModel",
      "state": {
       "description_width": ""
      }
     },
     "894b13c3b7f44e5387483c8d769f3332": {
      "model_module": "@jupyter-widgets/controls",
      "model_module_version": "1.5.0",
      "model_name": "ButtonModel",
      "state": {
       "description": "Remove bbox",
       "layout": "IPY_MODEL_03e728cd1f1c4ff38b7bd7b7f47abd3a",
       "style": "IPY_MODEL_49d771b7147f4a4f82b20d51746bada6"
      }
     },
     "899dd993236b400082f7e3ec4505c450": {
      "model_module": "jupyter-leaflet",
      "model_module_version": "^0.17.0",
      "model_name": "LeafletTileLayerModel",
      "state": {
       "_model_module_version": "^0.17.0",
       "_view_module_version": "^0.17.0",
       "attribution": "Justice Map",
       "max_zoom": 22,
       "name": "JusticeMap.black",
       "options": [
        "attribution",
        "bounds",
        "detect_retina",
        "max_native_zoom",
        "max_zoom",
        "min_native_zoom",
        "min_zoom",
        "no_wrap",
        "tile_size",
        "tms"
       ],
       "url": "https://www.justicemap.org/tile/county/black/{z}/{x}/{y}.png"
      }
     },
     "8a30828098414c6fb4b26eaa7745ef97": {
      "model_module": "@jupyter-widgets/controls",
      "model_module_version": "1.5.0",
      "model_name": "DescriptionStyleModel",
      "state": {
       "description_width": ""
      }
     },
     "8abda62c976440a88eab97594b450c34": {
      "model_module": "jupyter-leaflet",
      "model_module_version": "^0.17.0",
      "model_name": "LeafletTileLayerModel",
      "state": {
       "_model_module_version": "^0.17.0",
       "_view_module_version": "^0.17.0",
       "attribution": "Datenquelle: basemap.at",
       "max_zoom": 19,
       "name": "BasemapAT.overlay",
       "options": [
        "attribution",
        "bounds",
        "detect_retina",
        "max_native_zoom",
        "max_zoom",
        "min_native_zoom",
        "min_zoom",
        "no_wrap",
        "tile_size",
        "tms"
       ],
       "url": "https://maps.wien.gv.at/basemap/bmapoverlay/normal/google3857/{z}/{y}/{x}.png"
      }
     },
     "8b1cb7bb18994a7f85cbb9d90a798174": {
      "model_module": "jupyter-leaflet",
      "model_module_version": "^0.17.0",
      "model_name": "LeafletMapStyleModel",
      "state": {
       "_model_module_version": "^0.17.0",
       "cursor": "wait"
      }
     },
     "8d63505b0e1a41b4b6452c2c1688ca87": {
      "model_module": "jupyter-leaflet",
      "model_module_version": "^0.17.0",
      "model_name": "LeafletGeoJSONModel",
      "state": {
       "_model_module_version": "^0.17.0",
       "_view_module_version": "^0.17.0",
       "data": {
        "features": [
         {
          "geometry": {
           "coordinates": [
            [
             [
              -124.17404858142513,
              40.86422220794567
             ],
             [
              -124.1746854497345,
              40.9002483174463
             ],
             [
              -124.12720484834989,
              40.9007222145803
             ],
             [
              -124.12659370860285,
              40.86469550725421
             ],
             [
              -124.17404858142513,
              40.86422220794567
             ]
            ]
           ],
           "type": "Polygon"
          },
          "id": "0",
          "properties": {
           "id": "0",
           "style": {
            "color": "#555555",
            "fillOpacity": 0.1,
            "fill_color": "#555555",
            "weight": 1
           }
          },
          "type": "Feature"
         },
         {
          "geometry": {
           "coordinates": [
            [
             [
              -124.17404858142513,
              40.86422220794567
             ],
             [
              -124.17460577811191,
              40.89574506655364
             ],
             [
              -124.1330631297143,
              40.89616072971841
             ],
             [
              -124.13252562911848,
              40.86463741225173
             ],
             [
              -124.17404858142513,
              40.86422220794567
             ]
            ]
           ],
           "type": "Polygon"
          },
          "id": "1",
          "properties": {
           "id": "1",
           "style": {
            "color": "#555555",
            "fillOpacity": 0.1,
            "fill_color": "#555555",
            "weight": 1
           }
          },
          "type": "Feature"
         }
        ],
        "type": "FeatureCollection"
       },
       "hover_style": {
        "color": "crimson",
        "fillOpacity": 0.1
       },
       "name": "ROIs",
       "style": {
        "color": "#555555",
        "fillOpacity": 0.1,
        "fill_color": "#555555",
        "weight": 1
       }
      }
     },
     "8d9e1990de0f4fb280744d652c930fc5": {
      "model_module": "@jupyter-widgets/controls",
      "model_module_version": "1.5.0",
      "model_name": "ButtonStyleModel",
      "state": {
       "button_color": "red"
      }
     },
     "8e05bc59334a4c5db00c40ebc96a4964": {
      "model_module": "jupyter-leaflet",
      "model_module_version": "^0.17.0",
      "model_name": "LeafletTileLayerModel",
      "state": {
       "_model_module_version": "^0.17.0",
       "_view_module_version": "^0.17.0",
       "attribution": "Imagery provided by services from the Global Imagery Browse Services (GIBS), operated by the NASA/GSFC/Earth Science Data and Information System (ESDIS) with funding provided by NASA/HQ.",
       "max_zoom": 7,
       "name": "NASAGIBS.ModisTerraChlorophyll",
       "options": [
        "attribution",
        "bounds",
        "detect_retina",
        "max_native_zoom",
        "max_zoom",
        "min_native_zoom",
        "min_zoom",
        "no_wrap",
        "tile_size",
        "tms"
       ],
       "url": "https://map1.vis.earthdata.nasa.gov/wmts-webmerc/MODIS_Terra_Chlorophyll_A/default//GoogleMapsCompatible_Level7/{z}/{y}/{x}.png"
      }
     },
     "8f74b6c5f85e4e7796722154a608490a": {
      "model_module": "@jupyter-widgets/controls",
      "model_module_version": "1.5.0",
      "model_name": "ButtonModel",
      "state": {
       "description": "Remove ROIs",
       "layout": "IPY_MODEL_144da16df1174029bca7b457d36c4baf",
       "style": "IPY_MODEL_fc9ba0d5e9d44f298f1e505b088d1ef3"
      }
     },
     "8f822f4b06424a2a8bbdb81271c04c3d": {
      "model_module": "@jupyter-widgets/controls",
      "model_module_version": "1.5.0",
      "model_name": "ButtonStyleModel",
      "state": {
       "button_color": "#69add1"
      }
     },
     "8f8b4e421faa406fafdd0b2e48f4252a": {
      "model_module": "@jupyter-widgets/base",
      "model_module_version": "1.2.0",
      "model_name": "LayoutModel",
      "state": {}
     },
     "8ff0666e0ae9403d97a20c3731c37723": {
      "model_module": "@jupyter-widgets/base",
      "model_module_version": "1.2.0",
      "model_name": "LayoutModel",
      "state": {
       "height": "auto",
       "padding": "0px 0px 0px 4px",
       "width": "auto"
      }
     },
     "8ffb6d8eb5fb44a2b73d5788a25a581a": {
      "model_module": "@jupyter-widgets/controls",
      "model_module_version": "1.5.0",
      "model_name": "HTMLModel",
      "state": {
       "layout": "IPY_MODEL_33c61fbc82674bc6b544f7bca5d80081",
       "style": "IPY_MODEL_8a30828098414c6fb4b26eaa7745ef97",
       "value": "<h2><b>Save ROIs</b></h2>                 You must click save ROI before you can download ROIs                <br> Use the save buttons to save the ROIs you selected <br>                <li> Save BBox: Save the bounding box to a geojson file called 'bbox.geojson'</li>                    <li> Save ROIs: Save the selected ROI to a geojson file called 'rois.geojson'</li>                    "
      }
     },
     "90496935ed95469abc886f3c0a9b2918": {
      "model_module": "jupyter-leaflet",
      "model_module_version": "^0.17.0",
      "model_name": "LeafletTileLayerModel",
      "state": {
       "_model_module_version": "^0.17.0",
       "_view_module_version": "^0.17.0",
       "attribution": "![](https://docs.onemap.sg/maps/images/oneMap64-01.png) New OneMap | Map data (C) contributors, Singapore Land Authority",
       "name": "OneMapSG.LandLot",
       "options": [
        "attribution",
        "bounds",
        "detect_retina",
        "max_native_zoom",
        "max_zoom",
        "min_native_zoom",
        "min_zoom",
        "no_wrap",
        "tile_size",
        "tms"
       ],
       "url": "https://maps-a.onemap.sg/v3/LandLot/{z}/{x}/{y}.png"
      }
     },
     "9232bfd36e1644fd906406acf5e43a11": {
      "model_module": "@jupyter-widgets/base",
      "model_module_version": "1.2.0",
      "model_name": "LayoutModel",
      "state": {
       "margin": "0px 0px 0px 5px"
      }
     },
     "924e19aed3624183a9bcc266fc6cc9f6": {
      "model_module": "@jupyter-widgets/base",
      "model_module_version": "1.2.0",
      "model_name": "LayoutModel",
      "state": {}
     },
     "9252d9d9753741818ae3f920ca3d809b": {
      "model_module": "jupyter-leaflet",
      "model_module_version": "^0.17.0",
      "model_name": "LeafletMapStyleModel",
      "state": {
       "_model_module_version": "^0.17.0",
       "cursor": "wait"
      }
     },
     "92ebf5b29d904781bdd53a403a529fcf": {
      "model_module": "@jupyter-widgets/controls",
      "model_module_version": "1.5.0",
      "model_name": "ProgressStyleModel",
      "state": {
       "description_width": ""
      }
     },
     "932005db18c848da96257b55642e8fac": {
      "model_module": "jupyter-leaflet",
      "model_module_version": "^0.17.0",
      "model_name": "LeafletTileLayerModel",
      "state": {
       "_model_module_version": "^0.17.0",
       "_view_module_version": "^0.17.0",
       "attribution": "Map tiles by Stamen Design, CC BY 3.0 -- Map data (C) OpenStreetMap contributors",
       "name": "Stamen.TerrainBackground",
       "options": [
        "attribution",
        "bounds",
        "detect_retina",
        "max_native_zoom",
        "max_zoom",
        "min_native_zoom",
        "min_zoom",
        "no_wrap",
        "tile_size",
        "tms"
       ],
       "url": "https://stamen-tiles-a.a.ssl.fastly.net/terrain-background/{z}/{x}/{y}.png"
      }
     },
     "93c4f42bf124434ca92c70038794da9e": {
      "model_module": "@jupyter-widgets/base",
      "model_module_version": "1.2.0",
      "model_name": "LayoutModel",
      "state": {}
     },
     "9405117b9334407ea60657569a230785": {
      "model_module": "@jupyter-widgets/controls",
      "model_module_version": "1.5.0",
      "model_name": "DescriptionStyleModel",
      "state": {
       "description_width": ""
      }
     },
     "948fac1e5e44433c8bb57dbf164ebf54": {
      "model_module": "jupyter-leaflet",
      "model_module_version": "^0.17.0",
      "model_name": "LeafletGeoJSONModel",
      "state": {
       "_model_module_version": "^0.17.0",
       "_view_module_version": "^0.17.0",
       "data": {
        "features": [
         {
          "geometry": {
           "coordinates": [
            [
             -124.14972321099998,
             40.865066772000034
            ],
            [
             -124.14977800699995,
             40.86505650000004
            ],
            [
             -124.14984188399995,
             40.86503751600003
            ],
            [
             -124.14989746999998,
             40.86501051600004
            ],
            [
             -124.149936191,
             40.864980769000056
            ],
            [
             -124.15012996899998,
             40.86478698900004
            ],
            [
             -124.15015316699998,
             40.86475481900004
            ],
            [
             -124.15016688999998,
             40.86471854500007
            ],
            [
             -124.15017112199996,
             40.86467986700006
            ],
            [
             -124.15016613999995,
             40.864641230000075
            ],
            [
             -124.15015168199994,
             40.864605072000074
            ],
            [
             -124.15012778,
             40.86457308000007
            ],
            [
             -124.15008339841573,
             40.864529
            ]
           ],
           "type": "LineString"
          },
          "id": "0",
          "properties": {
           "CSU_ID": 80247,
           "ERODIBILITY": "Non",
           "MEAN_SIG_WAVEHEIGHT": 2.305355,
           "TIDAL_RANGE": 2.983468,
           "river_label": "moderate river discharge",
           "sinuosity_label": "sinuous",
           "slope_label": "flat",
           "style": {
            "color": "yellow",
            "dashArray": "5",
            "fillOpacity": 0.5,
            "fill_color": "yellow",
            "opacity": 1,
            "weight": 4
           },
           "turbid_label": "clear"
          },
          "type": "Feature"
         },
         {
          "geometry": {
           "coordinates": [
            [
             -124.14792839563039,
             40.864529
            ],
            [
             -124.14797448999997,
             40.864570882000066
            ],
            [
             -124.14800974699995,
             40.86460305300005
            ],
            [
             -124.14804082799998,
             40.86463940500005
            ],
            [
             -124.14809802999997,
             40.86471711300004
            ],
            [
             -124.14812905599996,
             40.864753568000026
            ],
            [
             -124.14837552499995,
             40.86498036100005
            ],
            [
             -124.14841351799998,
             40.865010177000045
            ],
            [
             -124.14846791599996,
             40.865037244000064
            ],
            [
             -124.14853046299999,
             40.86505628200007
            ],
            [
             -124.14859903599995,
             40.86506943200004
            ],
            [
             -124.14867200199996,
             40.86507833400003
            ],
            [
             -124.14874813299997,
             40.86508422400004
            ],
            [
             -124.14882650799996,
             40.86508801700006
            ],
            [
             -124.14898745199997,
             40.86509176900006
            ],
            [
             -124.14915117199996,
             40.865092719000074
            ],
            [
             -124.14931529599994,
             40.86509180400003
            ],
            [
             -124.149477446,
             40.86508809400004
            ],
            [
             -124.14955671799999,
             40.865084327000034
            ],
            [
             -124.14963392399994,
             40.865078467000046
            ],
            [
             -124.14970811499995,
             40.86506960200006
            ],
            [
             -124.14972321099998,
             40.865066772000034
            ]
           ],
           "type": "LineString"
          },
          "id": "1",
          "properties": {
           "CSU_ID": 80259,
           "ERODIBILITY": "Non",
           "MEAN_SIG_WAVEHEIGHT": 2.305355,
           "TIDAL_RANGE": 2.983468,
           "river_label": "moderate river discharge",
           "sinuosity_label": "sinuous",
           "slope_label": "flat",
           "style": {
            "color": "yellow",
            "dashArray": "5",
            "fillOpacity": 0.5,
            "fill_color": "yellow",
            "opacity": 1,
            "weight": 4
           },
           "turbid_label": "turbid"
          },
          "type": "Feature"
         },
         {
          "geometry": {
           "coordinates": [
            [
             -124.16560643100728,
             40.864529
            ],
            [
             -124.16560562599994,
             40.864532885000074
            ],
            [
             -124.16559509399997,
             40.86460320100008
            ],
            [
             -124.16557745299997,
             40.86474725700003
            ],
            [
             -124.16556727699998,
             40.864817929000026
            ],
            [
             -124.16555406799995,
             40.86488556900008
            ],
            [
             -124.16553598499996,
             40.864948336000054
            ],
            [
             -124.16551085199995,
             40.86500405000004
            ],
            [
             -124.16529280999998,
             40.86544049400004
            ],
            [
             -124.16515223,
             40.86565603400004
            ],
            [
             -124.16507557299997,
             40.86580074700004
            ],
            [
             -124.16480623299998,
             40.86633989200004
            ],
            [
             -124.16467772099998,
             40.86666374400005
            ],
            [
             -124.16446312199997,
             40.86711325700003
            ],
            [
             -124.16443522399999,
             40.86716235600005
            ],
            [
             -124.16440453299998,
             40.86719903900007
            ],
            [
             -124.164179704,
             40.86744582500006
            ],
            [
             -124.16414381499999,
             40.86747731000003
            ],
            [
             -124.16406716699998,
             40.86753541000007
            ],
            [
             -124.16403127799998,
             40.86756689300006
            ],
            [
             -124.16380638099997,
             40.867813614000056
            ],
            [
             -124.16377567199999,
             40.86785028000003
            ],
            [
             -124.16374774599996,
             40.86789935100006
            ],
            [
             -124.16323902299996,
             40.86893059800008
            ],
            [
             -124.16321393099997,
             40.868986352000036
            ],
            [
             -124.16319588199997,
             40.86904915400004
            ],
            [
             -124.16318270699998,
             40.86911682700003
            ],
            [
             -124.16317256399998,
             40.86918753100008
            ],
            [
             -124.16315498899996,
             40.869331654000064
            ],
            [
             -124.163144494,
             40.869402008000066
            ],
            [
             -124.16313065999998,
             40.86946902100004
            ],
            [
             -124.16311153199996,
             40.86953074100006
            ],
            [
             -124.16308475799997,
             40.86958481600004
            ],
            [
             -124.16305538899996,
             40.869622820000075
            ],
            [
             -124.16259300599995,
             40.87027067100007
            ]
           ],
           "type": "LineString"
          },
          "id": "2",
          "properties": {
           "CSU_ID": 19775,
           "ERODIBILITY": "High",
           "MEAN_SIG_WAVEHEIGHT": 2.305355,
           "TIDAL_RANGE": 2.983468,
           "river_label": "moderate river discharge",
           "sinuosity_label": "straight",
           "slope_label": "flat",
           "style": {
            "color": "yellow",
            "dashArray": "5",
            "fillOpacity": 0.5,
            "fill_color": "yellow",
            "opacity": 1,
            "weight": 4
           },
           "turbid_label": "clear"
          },
          "type": "Feature"
         },
         {
          "geometry": {
           "coordinates": [
            [
             -124.16259300599995,
             40.87027067100007
            ],
            [
             -124.16238196399996,
             40.87056636400007
            ],
            [
             -124.16205675199996,
             40.871097760000055
            ],
            [
             -124.16178549799997,
             40.87145211700005
            ],
            [
             -124.16156997299998,
             40.871727458000066
            ],
            [
             -124.161351707,
             40.87216367700006
            ],
            [
             -124.16132671199995,
             40.87221953200003
            ],
            [
             -124.16130875599998,
             40.87228242200007
            ],
            [
             -124.16129565399996,
             40.87235017000006
            ],
            [
             -124.16128556899997,
             40.87242093200007
            ],
            [
             -124.16126805599998,
             40.87256511700008
            ],
            [
             -124.161257563,
             40.87263547200007
            ],
            [
             -124.16124370999995,
             40.87270246800006
            ],
            [
             -124.16122454199996,
             40.872764149000034
            ],
            [
             -124.16119770599994,
             40.872818161000055
            ],
            [
             -124.16116826599995,
             40.87285609500003
            ],
            [
             -124.16097883699996,
             40.873070909000035
            ],
            [
             -124.16076148499997,
             40.87334443300006
            ],
            [
             -124.160541546,
             40.87377906100005
            ],
            [
             -124.16051785899998,
             40.87383239800005
            ],
            [
             -124.16050098999995,
             40.873892556000044
            ],
            [
             -124.16048917899997,
             40.87395778200005
            ],
            [
             -124.16048101599995,
             40.87402666200006
            ],
            [
             -124.16047534899997,
             40.87409805200008
            ],
            [
             -124.16045995699994,
             40.87439105100003
            ],
            [
             -124.16045386399998,
             40.874462116000075
            ],
            [
             -124.160445026,
             40.874530469000035
            ],
            [
             -124.16043220799997,
             40.874594881000064
            ],
            [
             -124.16041387499996,
             40.87465382200003
            ],
            [
             -124.16038810699996,
             40.874705379000034
            ],
            [
             -124.16035843199995,
             40.874743410000065
            ],
            [
             -124.16016592499994,
             40.874958108000044
            ],
            [
             -124.16003086699999,
             40.87509456400005
            ],
            [
             -124.16000124199996,
             40.875132422000036
            ],
            [
             -124.15997471699995,
             40.875186358000065
            ],
            [
             -124.15995675699997,
             40.875247975000036
            ],
            [
             -124.15994546699994,
             40.875314907000075
            ],
            [
             -124.15993952999997,
             40.875385178000045
            ],
            [
             -124.15993813699998,
             40.875457064000045
            ],
            [
             -124.15994093499995,
             40.87552897300003
            ],
            [
             -124.15994798999998,
             40.87559930900005
            ],
            [
             -124.15995979799999,
             40.87566635300004
            ],
            [
             -124.15997725799997,
             40.87572812500008
            ],
            [
             -124.16000172399998,
             40.87578225900006
            ],
            [
             -124.16002791299996,
             40.875820307000026
            ],
            [
             -124.16008359899996,
             40.87588657400005
            ],
            [
             -124.16010558999994,
             40.87592043200004
            ],
            [
             -124.16011920399995,
             40.87595764900004
            ],
            [
             -124.160124199,
             40.875996901000065
            ],
            [
             -124.16012075099997,
             40.87603607800003
            ],
            [
             -124.16010859099998,
             40.876073062000046
            ],
            [
             -124.1599086,
             40.87648977300006
            ],
            [
             -124.15988729099996,
             40.87653324000007
            ]
           ],
           "type": "LineString"
          },
          "id": "3",
          "properties": {
           "CSU_ID": 20304,
           "ERODIBILITY": "High",
           "MEAN_SIG_WAVEHEIGHT": 2.305355,
           "TIDAL_RANGE": 2.983468,
           "river_label": "moderate river discharge",
           "sinuosity_label": "straight",
           "slope_label": "sloping",
           "style": {
            "color": "yellow",
            "dashArray": "5",
            "fillOpacity": 0.5,
            "fill_color": "yellow",
            "opacity": 1,
            "weight": 4
           },
           "turbid_label": "turbid"
          },
          "type": "Feature"
         },
         {
          "geometry": {
           "coordinates": [
            [
             -124.15988729099996,
             40.87653324000007
            ],
            [
             -124.15961346399996,
             40.87709180000007
            ],
            [
             -124.159585484,
             40.87714117500008
            ],
            [
             -124.15955475699997,
             40.87717770300003
            ],
            [
             -124.15936185499999,
             40.877363915000046
            ],
            [
             -124.15933012699998,
             40.87738634900006
            ],
            [
             -124.15929424299998,
             40.877399608000076
            ],
            [
             -124.15925587399994,
             40.877403865000076
            ],
            [
             -124.15921742399996,
             40.877399670000045
            ],
            [
             -124.15918128899995,
             40.87738714000005
            ],
            [
             -124.159149104,
             40.87736682100007
            ],
            [
             -124.15908943199997,
             40.87731773200005
            ],
            [
             -124.15905723299994,
             40.87729739200006
            ],
            [
             -124.15902107699998,
             40.87728482700004
            ],
            [
             -124.15898260399996,
             40.877280591000044
            ],
            [
             -124.15894422099996,
             40.87728480800007
            ],
            [
             -124.15890834199996,
             40.87729803700006
            ],
            [
             -124.158876653,
             40.877320471000075
            ],
            [
             -124.15868669899999,
             40.87750911000006
            ],
            [
             -124.15865753299994,
             40.877547046000075
            ],
            [
             -124.15863103999999,
             40.87760156400003
            ],
            [
             -124.15861219899995,
             40.877664055000025
            ],
            [
             -124.15859862999997,
             40.877731984000036
            ],
            [
             -124.15858834499994,
             40.877803260000064
            ],
            [
             -124.15857086399996,
             40.87794886000006
            ],
            [
             -124.15856048199998,
             40.87801994000006
            ],
            [
             -124.15854675899999,
             40.878087606000065
            ],
            [
             -124.15852772099998,
             40.87814988900004
            ],
            [
             -124.15850100299997,
             40.87820442300006
            ],
            [
             -124.15847165399998,
             40.87824273700005
            ],
            [
             -124.15828316299996,
             40.87845953000004
            ],
            [
             -124.15815077299999,
             40.87859692300003
            ],
            [
             -124.15812137699999,
             40.878634945000044
            ],
            [
             -124.158094587,
             40.87868904800007
            ],
            [
             -124.15807545799998,
             40.87875080200007
            ],
            [
             -124.158061627,
             40.87881784600006
            ],
            [
             -124.15805111499998,
             40.87888820500007
            ],
            [
             -124.15803330699998,
             40.87903212500004
            ],
            [
             -124.15802282599998,
             40.87910250300007
            ],
            [
             -124.15800903899998,
             40.87916957300007
            ],
            [
             -124.15798997199994,
             40.87923136100005
            ],
            [
             -124.15796325599996,
             40.87928549800006
            ],
            [
             -124.15793392599994,
             40.879323544000044
            ],
            [
             -124.15774523199997,
             40.87953910400006
            ],
            [
             -124.15752908399998,
             40.87981382300006
            ],
            [
             -124.157257389,
             40.880350613000076
            ],
            [
             -124.15703906899995,
             40.88078677800007
            ],
            [
             -124.15701536399996,
             40.88084007200007
            ],
            [
             -124.15699848999998,
             40.88090019600003
            ],
            [
             -124.15698669799997,
             40.88096540500004
            ],
            [
             -124.15697858199997,
             40.881034287000034
            ],
            [
             -124.15697299699997,
             40.881105699000045
            ],
            [
             -124.15695832199998,
             40.88139901900007
            ],
            [
             -124.15695252699999,
             40.881470222000075
            ],
            [
             -124.15694403499998,
             40.881538729000056
            ],
            [
             -124.15693161099995,
             40.88160330300008
            ],
            [
             -124.15691371599996,
             40.88166240600003
            ],
            [
             -124.15688841499997,
             40.881714104000025
            ],
            [
             -124.15685915599994,
             40.88175221900008
            ],
            [
             -124.15666690599994,
             40.881964211000025
            ],
            [
             -124.156634753,
             40.88199943200004
            ],
            [
             -124.156598439,
             40.882030490000034
            ],
            [
             -124.15652090099996,
             40.882087700000056
            ],
            [
             -124.15648458599998,
             40.882118760000026
            ],
            [
             -124.156452436,
             40.88215398400007
            ],
            [
             -124.15634659699998,
             40.88227073300004
            ]
           ],
           "type": "LineString"
          },
          "id": "4",
          "properties": {
           "CSU_ID": 19802,
           "ERODIBILITY": "High",
           "MEAN_SIG_WAVEHEIGHT": 2.305355,
           "TIDAL_RANGE": 2.983468,
           "river_label": "moderate river discharge",
           "sinuosity_label": "straight",
           "slope_label": "flat",
           "style": {
            "color": "yellow",
            "dashArray": "5",
            "fillOpacity": 0.5,
            "fill_color": "yellow",
            "opacity": 1,
            "weight": 4
           },
           "turbid_label": "turbid"
          },
          "type": "Feature"
         },
         {
          "geometry": {
           "coordinates": [
            [
             -124.15841834899999,
             40.879638502000034
            ],
            [
             -124.15838015299994,
             40.879634569000075
            ],
            [
             -124.15836270799997,
             40.87963067700008
            ],
            [
             -124.15834711899998,
             40.879624861000025
            ],
            [
             -124.15833417999994,
             40.87961637700005
            ],
            [
             -124.15832457599998,
             40.87960457300005
            ],
            [
             -124.158317792,
             40.87958998000005
            ],
            [
             -124.15831313999996,
             40.87957298200007
            ],
            [
             -124.158310127,
             40.879551578000076
            ],
            [
             -124.15830843599997,
             40.87952648400005
            ],
            [
             -124.15830788,
             40.87947104700004
            ],
            [
             -124.158311374,
             40.879364140000064
            ],
            [
             -124.15841828199996,
             40.879360646000066
            ],
            [
             -124.15847371799998,
             40.87936120100005
            ],
            [
             -124.15849881399998,
             40.87936289100003
            ],
            [
             -124.15852021799998,
             40.87936590600003
            ],
            [
             -124.15853721499997,
             40.87937055700007
            ],
            [
             -124.15855180699998,
             40.879377341000065
            ],
            [
             -124.15856361299996,
             40.87938694600007
            ],
            [
             -124.15857209599994,
             40.879399884000065
            ],
            [
             -124.15857791099995,
             40.87941547300005
            ],
            [
             -124.158581804,
             40.87943291800008
            ],
            [
             -124.15858573699995,
             40.87947111500006
            ],
            [
             -124.15858618099998,
             40.879511053000044
            ],
            [
             -124.15858343399998,
             40.87955016400008
            ],
            [
             -124.15858048099994,
             40.87956856100004
            ],
            [
             -124.158576031,
             40.87958560800007
            ],
            [
             -124.15856957199998,
             40.879600725000046
            ],
            [
             -124.15856040299997,
             40.87961316800005
            ],
            [
             -124.15854795999996,
             40.87962233700006
            ],
            [
             -124.15853284399998,
             40.879628797000066
            ],
            [
             -124.15851579599996,
             40.879633246000026
            ],
            [
             -124.15849739899994,
             40.87963619900006
            ],
            [
             -124.15845828799996,
             40.87963894600006
            ],
            [
             -124.15841834899999,
             40.879638502000034
            ]
           ],
           "type": "LineString"
          },
          "id": "5",
          "properties": {
           "CSU_ID": 19802,
           "ERODIBILITY": "High",
           "MEAN_SIG_WAVEHEIGHT": 2.305355,
           "TIDAL_RANGE": 2.983468,
           "river_label": "moderate river discharge",
           "sinuosity_label": "straight",
           "slope_label": "flat",
           "style": {
            "color": "yellow",
            "dashArray": "5",
            "fillOpacity": 0.5,
            "fill_color": "yellow",
            "opacity": 1,
            "weight": 4
           },
           "turbid_label": "turbid"
          },
          "type": "Feature"
         },
         {
          "geometry": {
           "coordinates": [
            [
             -124.15634659699998,
             40.88227073300004
            ],
            [
             -124.15626022199996,
             40.882366012000034
            ],
            [
             -124.15623097599996,
             40.88240413900007
            ],
            [
             -124.15620569099997,
             40.88245585300007
            ],
            [
             -124.15618781799998,
             40.88251497700003
            ],
            [
             -124.15617541999995,
             40.88257957800005
            ],
            [
             -124.15616695999995,
             40.88264811700003
            ],
            [
             -124.15616120199996,
             40.88271935800003
            ],
            [
             -124.15614677899998,
             40.883012929000074
            ],
            [
             -124.15614128799996,
             40.88308443600005
            ],
            [
             -124.15613327999995,
             40.88315342900006
            ],
            [
             -124.15612161499996,
             40.88321876400005
            ],
            [
             -124.15610488399994,
             40.883279033000065
            ],
            [
             -124.15608133599994,
             40.88333248500004
            ],
            [
             -124.15584084199998,
             40.88382354200007
            ],
            [
             -124.15581269999996,
             40.88387241800007
            ],
            [
             -124.15578180999995,
             40.883908922000046
            ],
            [
             -124.15555582999997,
             40.88415489100004
            ],
            [
             -124.155519788,
             40.88418631600007
            ],
            [
             -124.15544280399996,
             40.88424432200003
            ],
            [
             -124.15540672499998,
             40.884275770000045
            ],
            [
             -124.15517968299997,
             40.88452241600004
            ],
            [
             -124.15514850599999,
             40.88455909000004
            ],
            [
             -124.15511999399996,
             40.884608179000054
            ],
            [
             -124.154878968,
             40.88509626900003
            ],
            [
             -124.15485776699995,
             40.885146889000055
            ],
            [
             -124.15484489599999,
             40.885202900000024
            ],
            [
             -124.15483922599998,
             40.88526201500008
            ],
            [
             -124.15484018199999,
             40.88532212400003
            ],
            [
             -124.15484770599994,
             40.88538118200006
            ],
            [
             -124.15486226299998,
             40.88543707800005
            ],
            [
             -124.15488483499996,
             40.885487529000045
            ],
            [
             -124.15491148999996,
             40.885526036000044
            ],
            [
             -124.15497188999996,
             40.88559699100006
            ],
            [
             -124.15499848999997,
             40.88563544100003
            ],
            [
             -124.15502095699998,
             40.88568578700006
            ],
            [
             -124.15503536899996,
             40.88574153900004
            ],
            [
             -124.15504272199996,
             40.88580042500007
            ],
            [
             -124.15504349399998,
             40.885860352000066
            ],
            [
             -124.15503765699998,
             40.88591929800003
            ],
            [
             -124.15502466799995,
             40.88597519000007
            ],
            [
             -124.15479055699996,
             40.88664676900004
            ],
            [
             -124.15464348299997,
             40.88694654200003
            ],
            [
             -124.15455851499996,
             40.88717215300005
            ],
            [
             -124.15452757271406,
             40.887263
            ]
           ],
           "type": "LineString"
          },
          "id": "6",
          "properties": {
           "CSU_ID": 19802,
           "ERODIBILITY": "High",
           "MEAN_SIG_WAVEHEIGHT": 2.305355,
           "TIDAL_RANGE": 2.983468,
           "river_label": "moderate river discharge",
           "sinuosity_label": "straight",
           "slope_label": "flat",
           "style": {
            "color": "yellow",
            "dashArray": "5",
            "fillOpacity": 0.5,
            "fill_color": "yellow",
            "opacity": 1,
            "weight": 4
           },
           "turbid_label": "turbid"
          },
          "type": "Feature"
         },
         {
          "geometry": {
           "coordinates": [
            [
             -124.14972321099998,
             40.865066772000034
            ],
            [
             -124.14977800699995,
             40.86505650000004
            ],
            [
             -124.14984188399995,
             40.86503751600003
            ],
            [
             -124.14989746999998,
             40.86501051600004
            ],
            [
             -124.149936191,
             40.864980769000056
            ],
            [
             -124.15012996899998,
             40.86478698900004
            ],
            [
             -124.15015316699998,
             40.86475481900004
            ],
            [
             -124.15016688999998,
             40.86471854500007
            ],
            [
             -124.15017112199996,
             40.86467986700006
            ],
            [
             -124.15016613999995,
             40.864641230000075
            ],
            [
             -124.15015168199994,
             40.864605072000074
            ],
            [
             -124.15012778,
             40.86457308000007
            ],
            [
             -124.15008339841573,
             40.864529
            ]
           ],
           "type": "LineString"
          },
          "id": "7",
          "properties": {
           "CSU_ID": 80247,
           "ERODIBILITY": "Non",
           "MEAN_SIG_WAVEHEIGHT": 2.305355,
           "TIDAL_RANGE": 2.983468,
           "river_label": "moderate river discharge",
           "sinuosity_label": "sinuous",
           "slope_label": "flat",
           "style": {
            "color": "yellow",
            "dashArray": "5",
            "fillOpacity": 0.5,
            "fill_color": "yellow",
            "opacity": 1,
            "weight": 4
           },
           "turbid_label": "clear"
          },
          "type": "Feature"
         },
         {
          "geometry": {
           "coordinates": [
            [
             -124.14792839563039,
             40.864529
            ],
            [
             -124.14797448999997,
             40.864570882000066
            ],
            [
             -124.14800974699995,
             40.86460305300005
            ],
            [
             -124.14804082799998,
             40.86463940500005
            ],
            [
             -124.14809802999997,
             40.86471711300004
            ],
            [
             -124.14812905599996,
             40.864753568000026
            ],
            [
             -124.14837552499995,
             40.86498036100005
            ],
            [
             -124.14841351799998,
             40.865010177000045
            ],
            [
             -124.14846791599996,
             40.865037244000064
            ],
            [
             -124.14853046299999,
             40.86505628200007
            ],
            [
             -124.14859903599995,
             40.86506943200004
            ],
            [
             -124.14867200199996,
             40.86507833400003
            ],
            [
             -124.14874813299997,
             40.86508422400004
            ],
            [
             -124.14882650799996,
             40.86508801700006
            ],
            [
             -124.14898745199997,
             40.86509176900006
            ],
            [
             -124.14915117199996,
             40.865092719000074
            ],
            [
             -124.14931529599994,
             40.86509180400003
            ],
            [
             -124.149477446,
             40.86508809400004
            ],
            [
             -124.14955671799999,
             40.865084327000034
            ],
            [
             -124.14963392399994,
             40.865078467000046
            ],
            [
             -124.14970811499995,
             40.86506960200006
            ],
            [
             -124.14972321099998,
             40.865066772000034
            ]
           ],
           "type": "LineString"
          },
          "id": "8",
          "properties": {
           "CSU_ID": 80259,
           "ERODIBILITY": "Non",
           "MEAN_SIG_WAVEHEIGHT": 2.305355,
           "TIDAL_RANGE": 2.983468,
           "river_label": "moderate river discharge",
           "sinuosity_label": "sinuous",
           "slope_label": "flat",
           "style": {
            "color": "yellow",
            "dashArray": "5",
            "fillOpacity": 0.5,
            "fill_color": "yellow",
            "opacity": 1,
            "weight": 4
           },
           "turbid_label": "turbid"
          },
          "type": "Feature"
         },
         {
          "geometry": {
           "coordinates": [
            [
             -124.16560643100728,
             40.864529
            ],
            [
             -124.16560562599994,
             40.864532885000074
            ],
            [
             -124.16559509399997,
             40.86460320100008
            ],
            [
             -124.16557745299997,
             40.86474725700003
            ],
            [
             -124.16556727699998,
             40.864817929000026
            ],
            [
             -124.16555406799995,
             40.86488556900008
            ],
            [
             -124.16553598499996,
             40.864948336000054
            ],
            [
             -124.16551085199995,
             40.86500405000004
            ],
            [
             -124.16529280999998,
             40.86544049400004
            ],
            [
             -124.16515223,
             40.86565603400004
            ],
            [
             -124.16507557299997,
             40.86580074700004
            ],
            [
             -124.16480623299998,
             40.86633989200004
            ],
            [
             -124.16467772099998,
             40.86666374400005
            ],
            [
             -124.16446312199997,
             40.86711325700003
            ],
            [
             -124.16443522399999,
             40.86716235600005
            ],
            [
             -124.16440453299998,
             40.86719903900007
            ],
            [
             -124.164179704,
             40.86744582500006
            ],
            [
             -124.16414381499999,
             40.86747731000003
            ],
            [
             -124.16406716699998,
             40.86753541000007
            ],
            [
             -124.16403127799998,
             40.86756689300006
            ],
            [
             -124.16380638099997,
             40.867813614000056
            ],
            [
             -124.16377567199999,
             40.86785028000003
            ],
            [
             -124.16374774599996,
             40.86789935100006
            ],
            [
             -124.16323902299996,
             40.86893059800008
            ],
            [
             -124.16321393099997,
             40.868986352000036
            ],
            [
             -124.16319588199997,
             40.86904915400004
            ],
            [
             -124.16318270699998,
             40.86911682700003
            ],
            [
             -124.16317256399998,
             40.86918753100008
            ],
            [
             -124.16315498899996,
             40.869331654000064
            ],
            [
             -124.163144494,
             40.869402008000066
            ],
            [
             -124.16313065999998,
             40.86946902100004
            ],
            [
             -124.16311153199996,
             40.86953074100006
            ],
            [
             -124.16308475799997,
             40.86958481600004
            ],
            [
             -124.16305538899996,
             40.869622820000075
            ],
            [
             -124.16259300599995,
             40.87027067100007
            ]
           ],
           "type": "LineString"
          },
          "id": "9",
          "properties": {
           "CSU_ID": 19775,
           "ERODIBILITY": "High",
           "MEAN_SIG_WAVEHEIGHT": 2.305355,
           "TIDAL_RANGE": 2.983468,
           "river_label": "moderate river discharge",
           "sinuosity_label": "straight",
           "slope_label": "flat",
           "style": {
            "color": "yellow",
            "dashArray": "5",
            "fillOpacity": 0.5,
            "fill_color": "yellow",
            "opacity": 1,
            "weight": 4
           },
           "turbid_label": "clear"
          },
          "type": "Feature"
         },
         {
          "geometry": {
           "coordinates": [
            [
             -124.16259300599995,
             40.87027067100007
            ],
            [
             -124.16238196399996,
             40.87056636400007
            ],
            [
             -124.16205675199996,
             40.871097760000055
            ],
            [
             -124.16178549799997,
             40.87145211700005
            ],
            [
             -124.16156997299998,
             40.871727458000066
            ],
            [
             -124.161351707,
             40.87216367700006
            ],
            [
             -124.16132671199995,
             40.87221953200003
            ],
            [
             -124.16130875599998,
             40.87228242200007
            ],
            [
             -124.16129565399996,
             40.87235017000006
            ],
            [
             -124.16128556899997,
             40.87242093200007
            ],
            [
             -124.16126805599998,
             40.87256511700008
            ],
            [
             -124.161257563,
             40.87263547200007
            ],
            [
             -124.16124370999995,
             40.87270246800006
            ],
            [
             -124.16122454199996,
             40.872764149000034
            ],
            [
             -124.16119770599994,
             40.872818161000055
            ],
            [
             -124.16116826599995,
             40.87285609500003
            ],
            [
             -124.16097883699996,
             40.873070909000035
            ],
            [
             -124.16076148499997,
             40.87334443300006
            ],
            [
             -124.160541546,
             40.87377906100005
            ],
            [
             -124.16051785899998,
             40.87383239800005
            ],
            [
             -124.16050098999995,
             40.873892556000044
            ],
            [
             -124.16048917899997,
             40.87395778200005
            ],
            [
             -124.16048101599995,
             40.87402666200006
            ],
            [
             -124.16047534899997,
             40.87409805200008
            ],
            [
             -124.16045995699994,
             40.87439105100003
            ],
            [
             -124.16045386399998,
             40.874462116000075
            ],
            [
             -124.160445026,
             40.874530469000035
            ],
            [
             -124.16043220799997,
             40.874594881000064
            ],
            [
             -124.16041387499996,
             40.87465382200003
            ],
            [
             -124.16038810699996,
             40.874705379000034
            ],
            [
             -124.16035843199995,
             40.874743410000065
            ],
            [
             -124.16016592499994,
             40.874958108000044
            ],
            [
             -124.16003086699999,
             40.87509456400005
            ],
            [
             -124.16000124199996,
             40.875132422000036
            ],
            [
             -124.15997471699995,
             40.875186358000065
            ],
            [
             -124.15995675699997,
             40.875247975000036
            ],
            [
             -124.15994546699994,
             40.875314907000075
            ],
            [
             -124.15993952999997,
             40.875385178000045
            ],
            [
             -124.15993813699998,
             40.875457064000045
            ],
            [
             -124.15994093499995,
             40.87552897300003
            ],
            [
             -124.15994798999998,
             40.87559930900005
            ],
            [
             -124.15995979799999,
             40.87566635300004
            ],
            [
             -124.15997725799997,
             40.87572812500008
            ],
            [
             -124.16000172399998,
             40.87578225900006
            ],
            [
             -124.16002791299996,
             40.875820307000026
            ],
            [
             -124.16008359899996,
             40.87588657400005
            ],
            [
             -124.16010558999994,
             40.87592043200004
            ],
            [
             -124.16011920399995,
             40.87595764900004
            ],
            [
             -124.160124199,
             40.875996901000065
            ],
            [
             -124.16012075099997,
             40.87603607800003
            ],
            [
             -124.16010859099998,
             40.876073062000046
            ],
            [
             -124.1599086,
             40.87648977300006
            ],
            [
             -124.15988729099996,
             40.87653324000007
            ]
           ],
           "type": "LineString"
          },
          "id": "10",
          "properties": {
           "CSU_ID": 20304,
           "ERODIBILITY": "High",
           "MEAN_SIG_WAVEHEIGHT": 2.305355,
           "TIDAL_RANGE": 2.983468,
           "river_label": "moderate river discharge",
           "sinuosity_label": "straight",
           "slope_label": "sloping",
           "style": {
            "color": "yellow",
            "dashArray": "5",
            "fillOpacity": 0.5,
            "fill_color": "yellow",
            "opacity": 1,
            "weight": 4
           },
           "turbid_label": "turbid"
          },
          "type": "Feature"
         },
         {
          "geometry": {
           "coordinates": [
            [
             -124.15988729099996,
             40.87653324000007
            ],
            [
             -124.15961346399996,
             40.87709180000007
            ],
            [
             -124.159585484,
             40.87714117500008
            ],
            [
             -124.15955475699997,
             40.87717770300003
            ],
            [
             -124.15936185499999,
             40.877363915000046
            ],
            [
             -124.15933012699998,
             40.87738634900006
            ],
            [
             -124.15929424299998,
             40.877399608000076
            ],
            [
             -124.15925587399994,
             40.877403865000076
            ],
            [
             -124.15921742399996,
             40.877399670000045
            ],
            [
             -124.15918128899995,
             40.87738714000005
            ],
            [
             -124.159149104,
             40.87736682100007
            ],
            [
             -124.15908943199997,
             40.87731773200005
            ],
            [
             -124.15905723299994,
             40.87729739200006
            ],
            [
             -124.15902107699998,
             40.87728482700004
            ],
            [
             -124.15898260399996,
             40.877280591000044
            ],
            [
             -124.15894422099996,
             40.87728480800007
            ],
            [
             -124.15890834199996,
             40.87729803700006
            ],
            [
             -124.158876653,
             40.877320471000075
            ],
            [
             -124.15868669899999,
             40.87750911000006
            ],
            [
             -124.15865753299994,
             40.877547046000075
            ],
            [
             -124.15863103999999,
             40.87760156400003
            ],
            [
             -124.15861219899995,
             40.877664055000025
            ],
            [
             -124.15859862999997,
             40.877731984000036
            ],
            [
             -124.15858834499994,
             40.877803260000064
            ],
            [
             -124.15857086399996,
             40.87794886000006
            ],
            [
             -124.15856048199998,
             40.87801994000006
            ],
            [
             -124.15854675899999,
             40.878087606000065
            ],
            [
             -124.15852772099998,
             40.87814988900004
            ],
            [
             -124.15850100299997,
             40.87820442300006
            ],
            [
             -124.15847165399998,
             40.87824273700005
            ],
            [
             -124.15828316299996,
             40.87845953000004
            ],
            [
             -124.15815077299999,
             40.87859692300003
            ],
            [
             -124.15812137699999,
             40.878634945000044
            ],
            [
             -124.158094587,
             40.87868904800007
            ],
            [
             -124.15807545799998,
             40.87875080200007
            ],
            [
             -124.158061627,
             40.87881784600006
            ],
            [
             -124.15805111499998,
             40.87888820500007
            ],
            [
             -124.15803330699998,
             40.87903212500004
            ],
            [
             -124.15802282599998,
             40.87910250300007
            ],
            [
             -124.15800903899998,
             40.87916957300007
            ],
            [
             -124.15798997199994,
             40.87923136100005
            ],
            [
             -124.15796325599996,
             40.87928549800006
            ],
            [
             -124.15793392599994,
             40.879323544000044
            ],
            [
             -124.15774523199997,
             40.87953910400006
            ],
            [
             -124.15752908399998,
             40.87981382300006
            ],
            [
             -124.157257389,
             40.880350613000076
            ],
            [
             -124.15703906899995,
             40.88078677800007
            ],
            [
             -124.15701536399996,
             40.88084007200007
            ],
            [
             -124.15699848999998,
             40.88090019600003
            ],
            [
             -124.15698669799997,
             40.88096540500004
            ],
            [
             -124.15697858199997,
             40.881034287000034
            ],
            [
             -124.15697299699997,
             40.881105699000045
            ],
            [
             -124.15695832199998,
             40.88139901900007
            ],
            [
             -124.15695252699999,
             40.881470222000075
            ],
            [
             -124.15694403499998,
             40.881538729000056
            ],
            [
             -124.15693161099995,
             40.88160330300008
            ],
            [
             -124.15691371599996,
             40.88166240600003
            ],
            [
             -124.15688841499997,
             40.881714104000025
            ],
            [
             -124.15685915599994,
             40.88175221900008
            ],
            [
             -124.15666690599994,
             40.881964211000025
            ],
            [
             -124.156634753,
             40.88199943200004
            ],
            [
             -124.156598439,
             40.882030490000034
            ],
            [
             -124.15652090099996,
             40.882087700000056
            ],
            [
             -124.15648458599998,
             40.882118760000026
            ],
            [
             -124.156452436,
             40.88215398400007
            ],
            [
             -124.15634659699998,
             40.88227073300004
            ]
           ],
           "type": "LineString"
          },
          "id": "11",
          "properties": {
           "CSU_ID": 19802,
           "ERODIBILITY": "High",
           "MEAN_SIG_WAVEHEIGHT": 2.305355,
           "TIDAL_RANGE": 2.983468,
           "river_label": "moderate river discharge",
           "sinuosity_label": "straight",
           "slope_label": "flat",
           "style": {
            "color": "yellow",
            "dashArray": "5",
            "fillOpacity": 0.5,
            "fill_color": "yellow",
            "opacity": 1,
            "weight": 4
           },
           "turbid_label": "turbid"
          },
          "type": "Feature"
         },
         {
          "geometry": {
           "coordinates": [
            [
             -124.15841834899999,
             40.879638502000034
            ],
            [
             -124.15838015299994,
             40.879634569000075
            ],
            [
             -124.15836270799997,
             40.87963067700008
            ],
            [
             -124.15834711899998,
             40.879624861000025
            ],
            [
             -124.15833417999994,
             40.87961637700005
            ],
            [
             -124.15832457599998,
             40.87960457300005
            ],
            [
             -124.158317792,
             40.87958998000005
            ],
            [
             -124.15831313999996,
             40.87957298200007
            ],
            [
             -124.158310127,
             40.879551578000076
            ],
            [
             -124.15830843599997,
             40.87952648400005
            ],
            [
             -124.15830788,
             40.87947104700004
            ],
            [
             -124.158311374,
             40.879364140000064
            ],
            [
             -124.15841828199996,
             40.879360646000066
            ],
            [
             -124.15847371799998,
             40.87936120100005
            ],
            [
             -124.15849881399998,
             40.87936289100003
            ],
            [
             -124.15852021799998,
             40.87936590600003
            ],
            [
             -124.15853721499997,
             40.87937055700007
            ],
            [
             -124.15855180699998,
             40.879377341000065
            ],
            [
             -124.15856361299996,
             40.87938694600007
            ],
            [
             -124.15857209599994,
             40.879399884000065
            ],
            [
             -124.15857791099995,
             40.87941547300005
            ],
            [
             -124.158581804,
             40.87943291800008
            ],
            [
             -124.15858573699995,
             40.87947111500006
            ],
            [
             -124.15858618099998,
             40.879511053000044
            ],
            [
             -124.15858343399998,
             40.87955016400008
            ],
            [
             -124.15858048099994,
             40.87956856100004
            ],
            [
             -124.158576031,
             40.87958560800007
            ],
            [
             -124.15856957199998,
             40.879600725000046
            ],
            [
             -124.15856040299997,
             40.87961316800005
            ],
            [
             -124.15854795999996,
             40.87962233700006
            ],
            [
             -124.15853284399998,
             40.879628797000066
            ],
            [
             -124.15851579599996,
             40.879633246000026
            ],
            [
             -124.15849739899994,
             40.87963619900006
            ],
            [
             -124.15845828799996,
             40.87963894600006
            ],
            [
             -124.15841834899999,
             40.879638502000034
            ]
           ],
           "type": "LineString"
          },
          "id": "12",
          "properties": {
           "CSU_ID": 19802,
           "ERODIBILITY": "High",
           "MEAN_SIG_WAVEHEIGHT": 2.305355,
           "TIDAL_RANGE": 2.983468,
           "river_label": "moderate river discharge",
           "sinuosity_label": "straight",
           "slope_label": "flat",
           "style": {
            "color": "yellow",
            "dashArray": "5",
            "fillOpacity": 0.5,
            "fill_color": "yellow",
            "opacity": 1,
            "weight": 4
           },
           "turbid_label": "turbid"
          },
          "type": "Feature"
         },
         {
          "geometry": {
           "coordinates": [
            [
             -124.15634659699998,
             40.88227073300004
            ],
            [
             -124.15626022199996,
             40.882366012000034
            ],
            [
             -124.15623097599996,
             40.88240413900007
            ],
            [
             -124.15620569099997,
             40.88245585300007
            ],
            [
             -124.15618781799998,
             40.88251497700003
            ],
            [
             -124.15617541999995,
             40.88257957800005
            ],
            [
             -124.15616695999995,
             40.88264811700003
            ],
            [
             -124.15616120199996,
             40.88271935800003
            ],
            [
             -124.15614677899998,
             40.883012929000074
            ],
            [
             -124.15614128799996,
             40.88308443600005
            ],
            [
             -124.15613327999995,
             40.88315342900006
            ],
            [
             -124.15612161499996,
             40.88321876400005
            ],
            [
             -124.15610488399994,
             40.883279033000065
            ],
            [
             -124.15608133599994,
             40.88333248500004
            ],
            [
             -124.15584084199998,
             40.88382354200007
            ],
            [
             -124.15581269999996,
             40.88387241800007
            ],
            [
             -124.15578180999995,
             40.883908922000046
            ],
            [
             -124.15555582999997,
             40.88415489100004
            ],
            [
             -124.155519788,
             40.88418631600007
            ],
            [
             -124.15544280399996,
             40.88424432200003
            ],
            [
             -124.15540672499998,
             40.884275770000045
            ],
            [
             -124.15517968299997,
             40.88452241600004
            ],
            [
             -124.15514850599999,
             40.88455909000004
            ],
            [
             -124.15511999399996,
             40.884608179000054
            ],
            [
             -124.154878968,
             40.88509626900003
            ],
            [
             -124.15485776699995,
             40.885146889000055
            ],
            [
             -124.15484489599999,
             40.885202900000024
            ],
            [
             -124.15483922599998,
             40.88526201500008
            ],
            [
             -124.15484018199999,
             40.88532212400003
            ],
            [
             -124.15484770599994,
             40.88538118200006
            ],
            [
             -124.15486226299998,
             40.88543707800005
            ],
            [
             -124.15488483499996,
             40.885487529000045
            ],
            [
             -124.15491148999996,
             40.885526036000044
            ],
            [
             -124.15497188999996,
             40.88559699100006
            ],
            [
             -124.15499848999997,
             40.88563544100003
            ],
            [
             -124.15502095699998,
             40.88568578700006
            ],
            [
             -124.15503536899996,
             40.88574153900004
            ],
            [
             -124.15504272199996,
             40.88580042500007
            ],
            [
             -124.15504349399998,
             40.885860352000066
            ],
            [
             -124.15503765699998,
             40.88591929800003
            ],
            [
             -124.15502466799995,
             40.88597519000007
            ],
            [
             -124.15479055699996,
             40.88664676900004
            ],
            [
             -124.15464348299997,
             40.88694654200003
            ],
            [
             -124.15455851499996,
             40.88717215300005
            ],
            [
             -124.15452757271406,
             40.887263
            ]
           ],
           "type": "LineString"
          },
          "id": "13",
          "properties": {
           "CSU_ID": 19802,
           "ERODIBILITY": "High",
           "MEAN_SIG_WAVEHEIGHT": 2.305355,
           "TIDAL_RANGE": 2.983468,
           "river_label": "moderate river discharge",
           "sinuosity_label": "straight",
           "slope_label": "flat",
           "style": {
            "color": "yellow",
            "dashArray": "5",
            "fillOpacity": 0.5,
            "fill_color": "yellow",
            "opacity": 1,
            "weight": 4
           },
           "turbid_label": "turbid"
          },
          "type": "Feature"
         }
        ],
        "type": "FeatureCollection"
       },
       "hover_style": {
        "color": "white",
        "dashArray": "4",
        "fillOpacity": 0.7
       },
       "name": "shoreline",
       "style": {
        "color": "yellow",
        "dashArray": "5",
        "fillOpacity": 0.5,
        "fill_color": "yellow",
        "opacity": 1,
        "weight": 4
       }
      }
     },
     "9530954e21b640af8e2eb9eaae556573": {
      "model_module": "jupyter-leaflet",
      "model_module_version": "^0.17.0",
      "model_name": "LeafletTileLayerModel",
      "state": {
       "_model_module_version": "^0.17.0",
       "_view_module_version": "^0.17.0",
       "attribution": "Imagery provided by services from the Global Imagery Browse Services (GIBS), operated by the NASA/GSFC/Earth Science Data and Information System (ESDIS) with funding provided by NASA/HQ.",
       "max_zoom": 9,
       "name": "NASAGIBS.ModisAquaTrueColorCR",
       "options": [
        "attribution",
        "bounds",
        "detect_retina",
        "max_native_zoom",
        "max_zoom",
        "min_native_zoom",
        "min_zoom",
        "no_wrap",
        "tile_size",
        "tms"
       ],
       "url": "https://gibs.earthdata.nasa.gov/wmts/epsg3857/best/MODIS_Aqua_CorrectedReflectance_TrueColor/default//GoogleMapsCompatible_Level9/{z}/{y}/{x}.jpg"
      }
     },
     "956061ce02334d9592d63422d8106317": {
      "model_module": "jupyter-leaflet",
      "model_module_version": "^0.17.0",
      "model_name": "LeafletTileLayerModel",
      "state": {
       "_model_module_version": "^0.17.0",
       "_view_module_version": "^0.17.0",
       "attribution": "CyclOSM | Map data: (C) OpenStreetMap contributors",
       "max_zoom": 20,
       "name": "CyclOSM",
       "options": [
        "attribution",
        "bounds",
        "detect_retina",
        "max_native_zoom",
        "max_zoom",
        "min_native_zoom",
        "min_zoom",
        "no_wrap",
        "tile_size",
        "tms"
       ],
       "url": "https://a.tile-cyclosm.openstreetmap.fr/cyclosm/{z}/{x}/{y}.png"
      }
     },
     "958a79aec9bf47609b35fc16cb6fec37": {
      "model_module": "@jupyter-widgets/controls",
      "model_module_version": "1.5.0",
      "model_name": "ToggleButtonModel",
      "state": {
       "button_style": "primary",
       "icon": "adjust",
       "layout": "IPY_MODEL_c9b9264d8465478f9a2ba34bea0005ba",
       "style": "IPY_MODEL_d58a0aa0091a47af960283e0e3e9ac56",
       "tooltip": "Planet imagery"
      }
     },
     "961248c68e904644898fc741c99d7ef5": {
      "model_module": "@jupyter-widgets/controls",
      "model_module_version": "1.5.0",
      "model_name": "VBoxModel",
      "state": {
       "children": [
        "IPY_MODEL_f7824cdc25fe4405ae58252716112d9e",
        "IPY_MODEL_bbcc1d45f88f48cc9735c9edb3e3c722"
       ],
       "layout": "IPY_MODEL_924e19aed3624183a9bcc266fc6cc9f6"
      }
     },
     "9644c96f4b7147f39e8fe198438e13db": {
      "model_module": "@jupyter-widgets/controls",
      "model_module_version": "1.5.0",
      "model_name": "HTMLModel",
      "state": {
       "layout": "IPY_MODEL_7b95737506fe4557b1aff3ea01b70009",
       "style": "IPY_MODEL_4597b5991c634ebc84f01ecb6dc282bc",
       "value": "<b>Pick a collection</b>        <br> C01: LandSat Collection 1         <br> C02: LandSat Collection 2  [2022/01/01 and beyond]         <br>      - Landsat 9 is only available in C02"
      }
     },
     "9652fc01c3ed4cabaec55ed207587757": {
      "model_module": "@jupyter-widgets/controls",
      "model_module_version": "1.5.0",
      "model_name": "HTMLModel",
      "state": {
       "layout": "IPY_MODEL_9232bfd36e1644fd906406acf5e43a11",
       "style": "IPY_MODEL_a43ba25df44a480aab4723e9da205f7a",
       "value": "<h2><b>Download ROIs</b></h2>                 <b> You must click 'Save ROI' before you can download ROIs</b>                 </br> Scroll past the map to see the download progress                     <li> The data you downloaded will be in the 'data' folder</li>                     "
      }
     },
     "981695dc73bd4a5ba372a7df3c27018a": {
      "model_module": "jupyter-leaflet",
      "model_module_version": "^0.17.0",
      "model_name": "LeafletTileLayerModel",
      "state": {
       "_model_module_version": "^0.17.0",
       "_view_module_version": "^0.17.0",
       "attribution": "(C) OpenStreetMap contributors, Tiles courtesy of Breton OpenStreetMap Team",
       "max_zoom": 19,
       "name": "OpenStreetMap.BZH",
       "options": [
        "attribution",
        "bounds",
        "detect_retina",
        "max_native_zoom",
        "max_zoom",
        "min_native_zoom",
        "min_zoom",
        "no_wrap",
        "tile_size",
        "tms"
       ],
       "url": "https://tile.openstreetmap.bzh/br/{z}/{x}/{y}.png"
      }
     },
     "98435fb154d44aa1b27d5bf347fbc22f": {
      "model_module": "jupyter-leaflet",
      "model_module_version": "^0.17.0",
      "model_name": "LeafletTileLayerModel",
      "state": {
       "_model_module_version": "^0.17.0",
       "_view_module_version": "^0.17.0",
       "attribution": "Map data: (C) OpenStreetMap contributors | Map style: (C) waymarkedtrails.org (CC-BY-SA)",
       "name": "WaymarkedTrails.slopes",
       "options": [
        "attribution",
        "bounds",
        "detect_retina",
        "max_native_zoom",
        "max_zoom",
        "min_native_zoom",
        "min_zoom",
        "no_wrap",
        "tile_size",
        "tms"
       ],
       "url": "https://tile.waymarkedtrails.org/slopes/{z}/{x}/{y}.png"
      }
     },
     "9858f63e99cf4f2aaca18358add82e4a": {
      "model_module": "jupyter-leaflet",
      "model_module_version": "^0.17.0",
      "model_name": "LeafletTileLayerModel",
      "state": {
       "_model_module_version": "^0.17.0",
       "_view_module_version": "^0.17.0",
       "attribution": "(C) OpenStreetMap contributors (C) CARTO",
       "max_zoom": 20,
       "name": "CartoDB.DarkMatterOnlyLabels",
       "options": [
        "attribution",
        "bounds",
        "detect_retina",
        "max_native_zoom",
        "max_zoom",
        "min_native_zoom",
        "min_zoom",
        "no_wrap",
        "tile_size",
        "tms"
       ],
       "url": "https://a.basemaps.cartocdn.com/dark_only_labels/{z}/{x}/{y}.png"
      }
     },
     "98b5f5ef35724e8fa3e8bcaee5318feb": {
      "model_module": "@jupyter-widgets/controls",
      "model_module_version": "1.5.0",
      "model_name": "HBoxModel",
      "state": {
       "children": [
        "IPY_MODEL_65538b66509e46b291d2ac9f43c783bf",
        "IPY_MODEL_7631b9ffe85147fc867c09ad13ce566b",
        "IPY_MODEL_8021a515144f47bf86d917510096b21f"
       ],
       "layout": "IPY_MODEL_ab1bd3e8a1c94d0f934baca1ae86f10f"
      }
     },
     "991d825d244c4bc6afab5f21cfcfedeb": {
      "model_module": "@jupyter-widgets/controls",
      "model_module_version": "1.5.0",
      "model_name": "ProgressStyleModel",
      "state": {
       "description_width": ""
      }
     },
     "99501f9c5aa042fc8f110abe0f39dacd": {
      "model_module": "jupyter-leaflet",
      "model_module_version": "^0.17.0",
      "model_name": "LeafletTileLayerModel",
      "state": {
       "_model_module_version": "^0.17.0",
       "_view_module_version": "^0.17.0",
       "attribution": "Imagery provided by services from the Global Imagery Browse Services (GIBS), operated by the NASA/GSFC/Earth Science Data and Information System (ESDIS) with funding provided by NASA/HQ.",
       "max_zoom": 8,
       "name": "NASAGIBS.ViirsEarthAtNight2012",
       "options": [
        "attribution",
        "bounds",
        "detect_retina",
        "max_native_zoom",
        "max_zoom",
        "min_native_zoom",
        "min_zoom",
        "no_wrap",
        "tile_size",
        "tms"
       ],
       "url": "https://map1.vis.earthdata.nasa.gov/wmts-webmerc/VIIRS_CityLights_2012/default//GoogleMapsCompatible_Level8/{z}/{y}/{x}.jpg"
      }
     },
     "997aacc703754254a56068da5e149bd2": {
      "model_module": "@jupyter-widgets/controls",
      "model_module_version": "1.5.0",
      "model_name": "FloatProgressModel",
      "state": {
       "bar_style": "success",
       "layout": "IPY_MODEL_a018ac25adf7417094cbbe47f812dc58",
       "max": 22741879,
       "style": "IPY_MODEL_34a8a5ca85d54f1590aca75c684b759d",
       "value": 22741879
      }
     },
     "99ae94eb2369444686c64fea5b80993f": {
      "model_module": "jupyter-leaflet",
      "model_module_version": "^0.17.0",
      "model_name": "LeafletTileLayerModel",
      "state": {
       "_model_module_version": "^0.17.0",
       "_view_module_version": "^0.17.0",
       "attribution": "Kaartgegevens (C) Kadaster",
       "max_zoom": 19,
       "name": "nlmaps.grijs",
       "options": [
        "attribution",
        "bounds",
        "detect_retina",
        "max_native_zoom",
        "max_zoom",
        "min_native_zoom",
        "min_zoom",
        "no_wrap",
        "tile_size",
        "tms"
       ],
       "url": "https://service.pdok.nl/brt/achtergrondkaart/wmts/v2_0/grijs/EPSG:3857/{z}/{x}/{y}.png"
      }
     },
     "9a7158d83faf4a3bb31be25c77a791d1": {
      "model_module": "jupyter-leaflet",
      "model_module_version": "^0.17.0",
      "model_name": "LeafletTileLayerModel",
      "state": {
       "_model_module_version": "^0.17.0",
       "_view_module_version": "^0.17.0",
       "attribution": "Datenquelle: basemap.at",
       "max_zoom": 19,
       "name": "BasemapAT.terrain",
       "options": [
        "attribution",
        "bounds",
        "detect_retina",
        "max_native_zoom",
        "max_zoom",
        "min_native_zoom",
        "min_zoom",
        "no_wrap",
        "tile_size",
        "tms"
       ],
       "url": "https://maps.wien.gv.at/basemap/bmapgelaende/grau/google3857/{z}/{y}/{x}.jpeg"
      }
     },
     "9b0d44ed046941068981169e92805d46": {
      "model_module": "jupyter-leaflet",
      "model_module_version": "^0.17.0",
      "model_name": "LeafletTileLayerModel",
      "state": {
       "_model_module_version": "^0.17.0",
       "_view_module_version": "^0.17.0",
       "attribution": "Tiles (C) Esri -- Esri, DeLorme, NAVTEQ",
       "max_zoom": 16,
       "name": "Esri.WorldGrayCanvas",
       "options": [
        "attribution",
        "bounds",
        "detect_retina",
        "max_native_zoom",
        "max_zoom",
        "min_native_zoom",
        "min_zoom",
        "no_wrap",
        "tile_size",
        "tms"
       ],
       "url": "https://server.arcgisonline.com/ArcGIS/rest/services/Canvas/World_Light_Gray_Base/MapServer/tile/{z}/{y}/{x}"
      }
     },
     "9b2ce64570e94069ac25c2610c85b3ef": {
      "model_module": "@jupyter-widgets/base",
      "model_module_version": "1.2.0",
      "model_name": "LayoutModel",
      "state": {}
     },
     "9b3e0a5013b6466b9c7396e4f49910c3": {
      "model_module": "@jupyter-widgets/base",
      "model_module_version": "1.2.0",
      "model_name": "LayoutModel",
      "state": {
       "height": "auto",
       "padding": "0px 0px 0px 4px",
       "width": "auto"
      }
     },
     "9b96f07f81404d40aaa884dcb5a04727": {
      "model_module": "@jupyter-widgets/base",
      "model_module_version": "1.2.0",
      "model_name": "LayoutModel",
      "state": {}
     },
     "9c079e0f959b43189073edc720b849c0": {
      "model_module": "@jupyter-widgets/controls",
      "model_module_version": "1.5.0",
      "model_name": "ButtonModel",
      "state": {
       "description": "Remove all",
       "layout": "IPY_MODEL_f7250b1463a14036b635fc97e7cbae61",
       "style": "IPY_MODEL_8d9e1990de0f4fb280744d652c930fc5"
      }
     },
     "9c28ede3401644378f6df447a7b533df": {
      "model_module": "@jupyter-widgets/controls",
      "model_module_version": "1.5.0",
      "model_name": "FloatProgressModel",
      "state": {
       "bar_style": "success",
       "layout": "IPY_MODEL_460c8c3afdae48528f905fefd260a25a",
       "max": 2,
       "style": "IPY_MODEL_2d717d4b70174ce095f7bdc5b543e53c",
       "value": 2
      }
     },
     "9c3e0788b0a74351bdcfb90e9e6b9786": {
      "model_module": "@jupyter-widgets/controls",
      "model_module_version": "1.5.0",
      "model_name": "VBoxModel",
      "state": {
       "_view_count": 1,
       "children": [
        "IPY_MODEL_eeeee501d9d3477685c5275dd8df96b0"
       ],
       "layout": "IPY_MODEL_d842e3c56aed416dbf63497121d36225"
      }
     },
     "9cdad6b4f7c7487fa8873a307d912678": {
      "model_module": "@jupyter-widgets/base",
      "model_module_version": "1.2.0",
      "model_name": "LayoutModel",
      "state": {}
     },
     "9df53d032f8647ccb9e1bc122bc37453": {
      "model_module": "@jupyter-widgets/controls",
      "model_module_version": "1.5.0",
      "model_name": "ToggleButtonModel",
      "state": {
       "button_style": "primary",
       "icon": "gears",
       "layout": "IPY_MODEL_d6a96176286842809ce6f82a0dcbff5f",
       "style": "IPY_MODEL_b4e6217569ea44da8f6334de1d0e4205",
       "tooltip": "WhiteboxTools for local geoprocessing"
      }
     },
     "9df994a2eb41427ca61e891dd86105eb": {
      "model_module": "jupyter-leaflet",
      "model_module_version": "^0.17.0",
      "model_name": "LeafletTileLayerModel",
      "state": {
       "_model_module_version": "^0.17.0",
       "_view_module_version": "^0.17.0",
       "attribution": "Map memomaps.de CC-BY-SA, map data (C) OpenStreetMap contributors",
       "name": "OPNVKarte",
       "options": [
        "attribution",
        "bounds",
        "detect_retina",
        "max_native_zoom",
        "max_zoom",
        "min_native_zoom",
        "min_zoom",
        "no_wrap",
        "tile_size",
        "tms"
       ],
       "url": "https://tileserver.memomaps.de/tilegen/{z}/{x}/{y}.png"
      }
     },
     "9ece31741137499a8731cfddc98999d6": {
      "model_module": "@jupyter-widgets/base",
      "model_module_version": "1.2.0",
      "model_name": "LayoutModel",
      "state": {}
     },
     "9eede4fa53e3406d83f25bc12a0d2b66": {
      "model_module": "@jupyter-widgets/controls",
      "model_module_version": "1.5.0",
      "model_name": "ToggleButtonModel",
      "state": {
       "button_style": "primary",
       "icon": "address-book",
       "layout": "IPY_MODEL_70304f387f08455a898e4bf411af3cc1",
       "style": "IPY_MODEL_090264ef3a1d464f9c2d3f52d07fdc83",
       "tooltip": "Get US Census data"
      }
     },
     "a018ac25adf7417094cbbe47f812dc58": {
      "model_module": "@jupyter-widgets/base",
      "model_module_version": "1.2.0",
      "model_name": "LayoutModel",
      "state": {}
     },
     "a055139ae9b249608f0078eca66945f6": {
      "model_module": "jupyter-leaflet",
      "model_module_version": "^0.17.0",
      "model_name": "LeafletTileLayerModel",
      "state": {
       "_model_module_version": "^0.17.0",
       "_view_module_version": "^0.17.0",
       "attribution": "Imagery provided by services from the Global Imagery Browse Services (GIBS), operated by the NASA/GSFC/Earth Science Data and Information System (ESDIS) with funding provided by NASA/HQ.",
       "max_zoom": 5,
       "name": "NASAGIBS.BlueMarble3413",
       "options": [
        "attribution",
        "bounds",
        "detect_retina",
        "max_native_zoom",
        "max_zoom",
        "min_native_zoom",
        "min_zoom",
        "no_wrap",
        "tile_size",
        "tms"
       ],
       "url": "https://gibs.earthdata.nasa.gov/wmts/epsg3413/best/BlueMarble_NextGeneration/default/EPSG3413_500m/{z}/{y}/{x}.jpeg"
      }
     },
     "a0b212b50e0c4359ab08130a46244a6c": {
      "model_module": "@jupyter-widgets/base",
      "model_module_version": "1.2.0",
      "model_name": "LayoutModel",
      "state": {}
     },
     "a28d8b6fff9d449ba107ec8f22ce3b14": {
      "model_module": "jupyter-leaflet",
      "model_module_version": "^0.17.0",
      "model_name": "LeafletScaleControlModel",
      "state": {
       "_model_module_version": "^0.17.0",
       "_view_module_version": "^0.17.0",
       "imperial": true,
       "max_width": 100,
       "metric": true,
       "options": [
        "imperial",
        "max_width",
        "metric",
        "position",
        "update_when_idle"
       ],
       "position": "bottomleft",
       "update_when_idle": false
      }
     },
     "a2a501b651fb453c84c3b3e0b1087fe5": {
      "model_module": "jupyter-leaflet",
      "model_module_version": "^0.17.0",
      "model_name": "LeafletTileLayerModel",
      "state": {
       "_model_module_version": "^0.17.0",
       "_view_module_version": "^0.17.0",
       "attribution": "Google",
       "max_zoom": 22,
       "name": "Google Maps",
       "options": [
        "attribution",
        "bounds",
        "detect_retina",
        "max_native_zoom",
        "max_zoom",
        "min_native_zoom",
        "min_zoom",
        "no_wrap",
        "tile_size",
        "tms"
       ],
       "url": "https://mt1.google.com/vt/lyrs=m&x={x}&y={y}&z={z}"
      }
     },
     "a42a4c4722d34fd49a885a4a33f0abb5": {
      "model_module": "@jupyter-widgets/base",
      "model_module_version": "1.2.0",
      "model_name": "LayoutModel",
      "state": {}
     },
     "a43ba25df44a480aab4723e9da205f7a": {
      "model_module": "@jupyter-widgets/controls",
      "model_module_version": "1.5.0",
      "model_name": "DescriptionStyleModel",
      "state": {
       "description_width": ""
      }
     },
     "a5ef4a887d3142d5bc2b41833af639cd": {
      "model_module": "@jupyter-widgets/controls",
      "model_module_version": "1.5.0",
      "model_name": "HBoxModel",
      "state": {
       "children": [
        "IPY_MODEL_1f7f25aaa3cd4d8b89e5443458ab275a",
        "IPY_MODEL_4b1319d2544243be82a5371e341f0b38",
        "IPY_MODEL_c089d6fa382f40aea852e49cd6299b65"
       ],
       "layout": "IPY_MODEL_422c1d0237b140b981a546d44276fa55"
      }
     },
     "a667d0a493e94f999786b2bdbd1d6d34": {
      "model_module": "jupyter-leaflet",
      "model_module_version": "^0.17.0",
      "model_name": "LeafletTileLayerModel",
      "state": {
       "_model_module_version": "^0.17.0",
       "_view_module_version": "^0.17.0",
       "attribution": "Map data: (C) OpenStreetMap contributors & ODbL, (C) www.opensnowmap.org CC-BY-SA",
       "name": "OpenSnowMap.pistes",
       "options": [
        "attribution",
        "bounds",
        "detect_retina",
        "max_native_zoom",
        "max_zoom",
        "min_native_zoom",
        "min_zoom",
        "no_wrap",
        "tile_size",
        "tms"
       ],
       "url": "https://tiles.opensnowmap.org/pistes/{z}/{x}/{y}.png"
      }
     },
     "a7b7f3c69c854361a7fd39ae709ea92f": {
      "model_module": "@jupyter-widgets/controls",
      "model_module_version": "1.5.0",
      "model_name": "ButtonModel",
      "state": {
       "description": "Save ROI",
       "layout": "IPY_MODEL_93c4f42bf124434ca92c70038794da9e",
       "style": "IPY_MODEL_0ea2e560e5dc4101a288df291c547582"
      }
     },
     "a7cebdc66c264f87bc4bc49c319d79ee": {
      "model_module": "jupyter-leaflet",
      "model_module_version": "^0.17.0",
      "model_name": "LeafletTileLayerModel",
      "state": {
       "_model_module_version": "^0.17.0",
       "_view_module_version": "^0.17.0",
       "attribution": "Map data: (C) OpenStreetMap contributors | Map style: (C) waymarkedtrails.org (CC-BY-SA)",
       "name": "WaymarkedTrails.hiking",
       "options": [
        "attribution",
        "bounds",
        "detect_retina",
        "max_native_zoom",
        "max_zoom",
        "min_native_zoom",
        "min_zoom",
        "no_wrap",
        "tile_size",
        "tms"
       ],
       "url": "https://tile.waymarkedtrails.org/hiking/{z}/{x}/{y}.png"
      }
     },
     "a869f143cc05440ab4aa7d4167f180ba": {
      "model_module": "jupyter-leaflet",
      "model_module_version": "^0.17.0",
      "model_name": "LeafletTileLayerModel",
      "state": {
       "_model_module_version": "^0.17.0",
       "_view_module_version": "^0.17.0",
       "attribution": "Imagery provided by services from the Global Imagery Browse Services (GIBS), operated by the NASA/GSFC/Earth Science Data and Information System (ESDIS) with funding provided by NASA/HQ.",
       "max_zoom": 8,
       "name": "NASAGIBS.ModisTerraSnowCover",
       "options": [
        "attribution",
        "bounds",
        "detect_retina",
        "max_native_zoom",
        "max_zoom",
        "min_native_zoom",
        "min_zoom",
        "no_wrap",
        "tile_size",
        "tms"
       ],
       "url": "https://map1.vis.earthdata.nasa.gov/wmts-webmerc/MODIS_Terra_NDSI_Snow_Cover/default//GoogleMapsCompatible_Level8/{z}/{y}/{x}.png"
      }
     },
     "a8b43945431040048f9de628603a689d": {
      "model_module": "jupyter-leaflet",
      "model_module_version": "^0.17.0",
      "model_name": "LeafletTileLayerModel",
      "state": {
       "_model_module_version": "^0.17.0",
       "_view_module_version": "^0.17.0",
       "attribution": "(C) Stadia Maps, (C) OpenMapTiles (C) OpenStreetMap contributors",
       "max_zoom": 20,
       "name": "Stadia.AlidadeSmooth",
       "options": [
        "attribution",
        "bounds",
        "detect_retina",
        "max_native_zoom",
        "max_zoom",
        "min_native_zoom",
        "min_zoom",
        "no_wrap",
        "tile_size",
        "tms"
       ],
       "url": "https://tiles.stadiamaps.com/tiles/alidade_smooth/{z}/{x}/{y}.png"
      }
     },
     "ab1bd3e8a1c94d0f934baca1ae86f10f": {
      "model_module": "@jupyter-widgets/base",
      "model_module_version": "1.2.0",
      "model_name": "LayoutModel",
      "state": {}
     },
     "ab5361c0d37a4db9a91a515f00c1bed0": {
      "model_module": "@jupyter-widgets/output",
      "model_module_version": "1.0.0",
      "model_name": "OutputModel",
      "state": {
       "layout": "IPY_MODEL_13a7d60bb955485792e9a3da906e2e85"
      }
     },
     "ab84d6691f6b4b1cb106434a47ea5207": {
      "model_module": "jupyter-leaflet",
      "model_module_version": "^0.17.0",
      "model_name": "LeafletTileLayerModel",
      "state": {
       "_model_module_version": "^0.17.0",
       "_view_module_version": "^0.17.0",
       "attribution": "Justice Map",
       "max_zoom": 22,
       "name": "JusticeMap.asian",
       "options": [
        "attribution",
        "bounds",
        "detect_retina",
        "max_native_zoom",
        "max_zoom",
        "min_native_zoom",
        "min_zoom",
        "no_wrap",
        "tile_size",
        "tms"
       ],
       "url": "https://www.justicemap.org/tile/county/asian/{z}/{x}/{y}.png"
      }
     },
     "abc85760beeb463abf9bfea7a531fc43": {
      "model_module": "@jupyter-widgets/controls",
      "model_module_version": "1.5.0",
      "model_name": "HBoxModel",
      "state": {
       "children": [
        "IPY_MODEL_515e22c65745476bb97d2d88dc7f022c"
       ],
       "layout": "IPY_MODEL_726b172b08264ed595c8514e98ac815c"
      }
     },
     "ad58307d5dc3402f97e9ea38d7b94a2a": {
      "model_module": "jupyter-leaflet",
      "model_module_version": "^0.17.0",
      "model_name": "LeafletMapStyleModel",
      "state": {
       "_model_module_version": "^0.17.0",
       "cursor": "default"
      }
     },
     "ae0e52e3cf1646ff8a7d948f9de66baa": {
      "model_module": "jupyter-leaflet",
      "model_module_version": "^0.17.0",
      "model_name": "LeafletTileLayerModel",
      "state": {
       "_model_module_version": "^0.17.0",
       "_view_module_version": "^0.17.0",
       "attribution": "Datenquelle: basemap.at",
       "max_zoom": 20,
       "name": "BasemapAT.orthofoto",
       "options": [
        "attribution",
        "bounds",
        "detect_retina",
        "max_native_zoom",
        "max_zoom",
        "min_native_zoom",
        "min_zoom",
        "no_wrap",
        "tile_size",
        "tms"
       ],
       "url": "https://maps.wien.gv.at/basemap/bmaporthofoto30cm/normal/google3857/{z}/{y}/{x}.jpeg"
      }
     },
     "ae73bb27997e4ae5a500e383ffb7f032": {
      "model_module": "jupyter-leaflet",
      "model_module_version": "^0.17.0",
      "model_name": "LeafletTileLayerModel",
      "state": {
       "_model_module_version": "^0.17.0",
       "_view_module_version": "^0.17.0",
       "attribution": "Tiles (C) Esri -- Sources: GEBCO, NOAA, CHS, OSU, UNH, CSUMB, National Geographic, DeLorme, NAVTEQ, and Esri",
       "max_zoom": 13,
       "name": "Esri.OceanBasemap",
       "options": [
        "attribution",
        "bounds",
        "detect_retina",
        "max_native_zoom",
        "max_zoom",
        "min_native_zoom",
        "min_zoom",
        "no_wrap",
        "tile_size",
        "tms"
       ],
       "url": "https://server.arcgisonline.com/ArcGIS/rest/services/Ocean_Basemap/MapServer/tile/{z}/{y}/{x}"
      }
     },
     "ae9e596ddc8749f9905de6d06997f7fe": {
      "model_module": "jupyter-leaflet",
      "model_module_version": "^0.17.0",
      "model_name": "LeafletTileLayerModel",
      "state": {
       "_model_module_version": "^0.17.0",
       "_view_module_version": "^0.17.0",
       "attribution": "(C) Stadia Maps, (C) OpenMapTiles (C) OpenStreetMap contributors",
       "max_zoom": 20,
       "name": "Stadia.Outdoors",
       "options": [
        "attribution",
        "bounds",
        "detect_retina",
        "max_native_zoom",
        "max_zoom",
        "min_native_zoom",
        "min_zoom",
        "no_wrap",
        "tile_size",
        "tms"
       ],
       "url": "https://tiles.stadiamaps.com/tiles/outdoors/{z}/{x}/{y}.png"
      }
     },
     "b054f40b86124642a7a07a0123a05623": {
      "model_module": "@jupyter-widgets/base",
      "model_module_version": "1.2.0",
      "model_name": "LayoutModel",
      "state": {}
     },
     "b0a2f36950644248acbc4710c366dc2f": {
      "model_module": "jupyter-leaflet",
      "model_module_version": "^0.17.0",
      "model_name": "LeafletGeoJSONModel",
      "state": {
       "_model_module_version": "^0.17.0",
       "_view_module_version": "^0.17.0",
       "data": {
        "features": [
         {
          "geometry": {
           "coordinates": [
            [
             -124.15723465266632,
             40.88024282017237
            ],
            [
             -124.15719503114482,
             40.880378340137895
            ],
            [
             -124.15718317122587,
             40.880431821566276
            ],
            [
             -124.15716675586822,
             40.88051374624144
            ],
            [
             -124.15703004052256,
             40.88065024032859
            ],
            [
             -124.15700935588923,
             40.880673783095965
            ],
            [
             -124.15693214610452,
             40.88078634481455
            ],
            [
             -124.15683456894453,
             40.88086001888561
            ],
            [
             -124.15665658822697,
             40.88086287118599
            ],
            [
             -124.15764763618746,
             40.87929281856618
            ],
            [
             -124.15759464181578,
             40.879428472921006
            ],
            [
             -124.15757998347985,
             40.87956374246233
            ],
            [
             -124.15756962111108,
             40.87969896887917
            ],
            [
             -124.15752797113242,
             40.879785640053086
            ],
            [
             -124.1574759151986,
             40.87983503179857
            ],
            [
             -124.15735242487852,
             40.87992807383824
            ],
            [
             -124.15799150820382,
             40.878478631762434
            ],
            [
             -124.15794740576844,
             40.87861419700988
            ],
            [
             -124.15791797092179,
             40.87874961497244
            ],
            [
             -124.15787845588908,
             40.878885134129625
            ],
            [
             -124.15786849832821,
             40.87889466602014
            ],
            [
             -124.15779159648642,
             40.87902112857929
            ],
            [
             -124.15770225235445,
             40.87915714790443
            ],
            [
             -124.15769534746255,
             40.87917439374298
            ],
            [
             -124.14861516341772,
             40.86478988733218
            ],
            [
             -124.14872566394482,
             40.864920455886434
            ],
            [
             -124.14872809719736,
             40.86492388538227
            ],
            [
             -124.14890503164312,
             40.865000296231784
            ],
            [
             -124.14904362746101,
             40.865055865103194
            ],
            [
             -124.14908436549906,
             40.86507815390469
            ],
            [
             -124.14926224837212,
             40.865072064401375
            ],
            [
             -124.14944013952613,
             40.865066455762545
            ],
            [
             -124.14961803443849,
             40.86506106626452
            ],
            [
             -124.14979588645546,
             40.86505319866173
            ],
            [
             -124.14997383249597,
             40.865050768427984
            ],
            [
             -124.15011896533974,
             40.86518026969086
            ]
           ],
           "type": "LineString"
          },
          "id": "0",
          "properties": {
           "style": {
            "color": "#9933ff",
            "fillOpacity": 0.5,
            "fill_color": "#9933ff",
            "opacity": 1,
            "weight": 2
           }
          },
          "type": "Feature"
         },
         {
          "geometry": {
           "coordinates": [
            [
             -124.1486105760738,
             40.86478993301696
            ],
            [
             -124.14869940280866,
             40.864924171171296
            ],
            [
             -124.14872594088078,
             40.86493648107689
            ],
            [
             -124.14890551920516,
             40.865028505025705
            ],
            [
             -124.14895989345847,
             40.8650566992829
            ],
            [
             -124.14908531931846,
             40.865133330070414
            ],
            [
             -124.14926318757502,
             40.865126386639545
            ],
            [
             -124.1494410613329,
             40.86511976358763
            ],
            [
             -124.14961866031186,
             40.8650972547647
            ],
            [
             -124.14979618166373,
             40.865070265214214
            ],
            [
             -124.14995711327747,
             40.86504676077208
            ],
            [
             -124.14997370189593,
             40.86504321935447
            ],
            [
             -124.15014719166984,
             40.864909742642546
            ],
            [
             -124.15014932744303,
             40.86490667993759
            ],
            [
             -124.15019624906432,
             40.864774130631844
            ]
           ],
           "type": "LineString"
          },
          "id": "1",
          "properties": {
           "style": {
            "color": "#9933ff",
            "fillOpacity": 0.5,
            "fill_color": "#9933ff",
            "opacity": 1,
            "weight": 2
           }
          },
          "type": "Feature"
         }
        ],
        "type": "FeatureCollection"
       },
       "hover_style": {
        "color": "white",
        "fillOpacity": 0.7
       },
       "name": "shorelines_1.geojson",
       "style": {
        "color": "#9933ff",
        "fillOpacity": 0.5,
        "fill_color": "#9933ff",
        "opacity": 1,
        "weight": 2
       }
      }
     },
     "b17c3adefb5f4412a3cfe9c136566298": {
      "model_module": "@jupyter-widgets/controls",
      "model_module_version": "1.5.0",
      "model_name": "VBoxModel",
      "state": {
       "children": [
        "IPY_MODEL_7b1e7b05b8234687b0fb940d84bd580b",
        "IPY_MODEL_835db78f4f804eaf8e142197ace7f64a"
       ],
       "layout": "IPY_MODEL_3deeac64e94a49abb7d507f310f9d47e"
      }
     },
     "b1a46a960f19489f8414de08aaa9243e": {
      "model_module": "@jupyter-widgets/controls",
      "model_module_version": "1.5.0",
      "model_name": "ButtonModel",
      "state": {
       "description": "Generate ROI",
       "layout": "IPY_MODEL_7df62f9a2f22436db85959985e72b96b",
       "style": "IPY_MODEL_7f1785c0785540ebae2903e49300c199"
      }
     },
     "b2ba4bffdcee4fa8b1f34eebe2ce8e94": {
      "model_module": "@jupyter-widgets/controls",
      "model_module_version": "1.5.0",
      "model_name": "DescriptionStyleModel",
      "state": {
       "description_width": ""
      }
     },
     "b2ea423b1fc14d57ad0c7583ca7d0749": {
      "model_module": "@jupyter-widgets/controls",
      "model_module_version": "1.5.0",
      "model_name": "ButtonModel",
      "state": {
       "description": "Load rois from file",
       "layout": "IPY_MODEL_3366145a1fdb4e3baa4edcf22ce2552f",
       "style": "IPY_MODEL_d37835c013c445f08a0b1f758578c8c5"
      }
     },
     "b46f9eb8149341cbb5f48a8856b35c3b": {
      "model_module": "jupyter-leaflet",
      "model_module_version": "^0.17.0",
      "model_name": "LeafletMapStyleModel",
      "state": {
       "_model_module_version": "^0.17.0",
       "cursor": "wait"
      }
     },
     "b47dcb4885b544b4b3bb5a9493f8ffa3": {
      "model_module": "jupyter-leaflet",
      "model_module_version": "^0.17.0",
      "model_name": "LeafletTileLayerModel",
      "state": {
       "_model_module_version": "^0.17.0",
       "_view_module_version": "^0.17.0",
       "attribution": "![](https://docs.onemap.sg/maps/images/oneMap64-01.png) New OneMap | Map data (C) contributors, Singapore Land Authority",
       "name": "OneMapSG.Night",
       "options": [
        "attribution",
        "bounds",
        "detect_retina",
        "max_native_zoom",
        "max_zoom",
        "min_native_zoom",
        "min_zoom",
        "no_wrap",
        "tile_size",
        "tms"
       ],
       "url": "https://maps-a.onemap.sg/v3/Night/{z}/{x}/{y}.png"
      }
     },
     "b491a8a1461343fcb88e437d02e9f113": {
      "model_module": "jupyter-leaflet",
      "model_module_version": "^0.17.0",
      "model_name": "LeafletTileLayerModel",
      "state": {
       "_model_module_version": "^0.17.0",
       "_view_module_version": "^0.17.0",
       "attribution": "Imagery provided by services from the Global Imagery Browse Services (GIBS), operated by the NASA/GSFC/Earth Science Data and Information System (ESDIS) with funding provided by NASA/HQ.",
       "max_zoom": 8,
       "name": "NASAGIBS.BlueMarble",
       "options": [
        "attribution",
        "bounds",
        "detect_retina",
        "max_native_zoom",
        "max_zoom",
        "min_native_zoom",
        "min_zoom",
        "no_wrap",
        "tile_size",
        "tms"
       ],
       "url": "https://gibs.earthdata.nasa.gov/wmts/epsg3857/best/BlueMarble_NextGeneration/default/EPSG3857_500m/{z}/{y}/{x}.jpeg"
      }
     },
     "b4e6217569ea44da8f6334de1d0e4205": {
      "model_module": "@jupyter-widgets/controls",
      "model_module_version": "1.5.0",
      "model_name": "DescriptionStyleModel",
      "state": {
       "description_width": ""
      }
     },
     "b5249d5e0a734585b882e40aebf62466": {
      "model_module": "@jupyter-widgets/base",
      "model_module_version": "1.2.0",
      "model_name": "LayoutModel",
      "state": {}
     },
     "b5a3f6f417704d699434e5f4a22fffe1": {
      "model_module": "jupyter-leaflet",
      "model_module_version": "^0.17.0",
      "model_name": "LeafletTileLayerModel",
      "state": {
       "_model_module_version": "^0.17.0",
       "_view_module_version": "^0.17.0",
       "attribution": "© swisstopo",
       "max_zoom": 19,
       "name": "SwissFederalGeoportal.SWISSIMAGE",
       "options": [
        "attribution",
        "bounds",
        "detect_retina",
        "max_native_zoom",
        "max_zoom",
        "min_native_zoom",
        "min_zoom",
        "no_wrap",
        "tile_size",
        "tms"
       ],
       "url": "https://wmts.geo.admin.ch/1.0.0/ch.swisstopo.swissimage/default/current/3857/{z}/{x}/{y}.jpeg"
      }
     },
     "b5c98137dc93459eba17a664acbb87f2": {
      "model_module": "jupyter-leaflet",
      "model_module_version": "^0.17.0",
      "model_name": "LeafletTileLayerModel",
      "state": {
       "_model_module_version": "^0.17.0",
       "_view_module_version": "^0.17.0",
       "attribution": "(C) OpenStreetMap contributors, vizualization CC-By-SA 2.0 Freemap.sk",
       "max_zoom": 16,
       "name": "FreeMapSK",
       "options": [
        "attribution",
        "bounds",
        "detect_retina",
        "max_native_zoom",
        "max_zoom",
        "min_native_zoom",
        "min_zoom",
        "no_wrap",
        "tile_size",
        "tms"
       ],
       "url": "https://a.freemap.sk/T/{z}/{x}/{y}.jpeg"
      }
     },
     "b61491407b7c4355b19b99607807e9b3": {
      "model_module": "@jupyter-widgets/base",
      "model_module_version": "1.2.0",
      "model_name": "LayoutModel",
      "state": {
       "height": "28px",
       "width": "72px"
      }
     },
     "b62491eb2e4e493d85db84e47ee1d2ef": {
      "model_module": "@jupyter-widgets/controls",
      "model_module_version": "1.5.0",
      "model_name": "HTMLModel",
      "state": {
       "layout": "IPY_MODEL_f3009853ec4b4e31b0070a4ad5c8dbcf",
       "style": "IPY_MODEL_861089cd368c4e0ab7e4623936838d0b",
       "value": " 21.7M/21.7M [00:05&lt;00:00, 5.10MB/s]"
      }
     },
     "b66308b9ecf84e4e8010b6853d78bc85": {
      "model_module": "@jupyter-widgets/controls",
      "model_module_version": "1.5.0",
      "model_name": "ToggleButtonModel",
      "state": {
       "button_style": "primary",
       "icon": "picture-o",
       "layout": "IPY_MODEL_53b8f221af1b45d59ec141c642dba724",
       "style": "IPY_MODEL_be4cef998fdf49e3b91510a34780572a",
       "tooltip": "Open COG/STAC dataset"
      }
     },
     "b70b1b1e47044a5483d286bba91c1f5a": {
      "model_module": "@jupyter-widgets/base",
      "model_module_version": "1.2.0",
      "model_name": "LayoutModel",
      "state": {}
     },
     "b73f5fb519a84227a54d2037bc947aa0": {
      "model_module": "@jupyter-widgets/base",
      "model_module_version": "1.2.0",
      "model_name": "LayoutModel",
      "state": {}
     },
     "b8483ea92817444fbd2fc706ff19d425": {
      "model_module": "@jupyter-widgets/controls",
      "model_module_version": "1.5.0",
      "model_name": "HBoxModel",
      "state": {
       "children": [
        "IPY_MODEL_db794238fc724763bc6d048ef5728c45",
        "IPY_MODEL_3d8826c42c8746ee8672fdda34fb1cac",
        "IPY_MODEL_d9ceb778e2184143bb46b2d4f522b479"
       ],
       "layout": "IPY_MODEL_5e26643c44654133939d8ec9a2444f9b"
      }
     },
     "b8808f6bf2af487d95d2074f7af4ee26": {
      "model_module": "@jupyter-widgets/base",
      "model_module_version": "1.2.0",
      "model_name": "LayoutModel",
      "state": {
       "grid_gap": "1px 1px",
       "grid_template_columns": "32px 32px 32px ",
       "grid_template_rows": "32px 32px 32px 32px 32px 32px ",
       "padding": "5px",
       "width": "109px"
      }
     },
     "b8e5e540a0424ffc980a1b9ef4dad4b0": {
      "model_module": "@jupyter-widgets/controls",
      "model_module_version": "1.5.0",
      "model_name": "DescriptionStyleModel",
      "state": {
       "description_width": ""
      }
     },
     "b950cfc2ae154190be3de072e0f70da4": {
      "model_module": "jupyter-leaflet",
      "model_module_version": "^0.17.0",
      "model_name": "LeafletTileLayerModel",
      "state": {
       "_model_module_version": "^0.17.0",
       "_view_module_version": "^0.17.0",
       "attribution": "Justice Map",
       "max_zoom": 22,
       "name": "JusticeMap.plurality",
       "options": [
        "attribution",
        "bounds",
        "detect_retina",
        "max_native_zoom",
        "max_zoom",
        "min_native_zoom",
        "min_zoom",
        "no_wrap",
        "tile_size",
        "tms"
       ],
       "url": "https://www.justicemap.org/tile/county/plural/{z}/{x}/{y}.png"
      }
     },
     "ba18660b66f44df0bbeca3c88a88a984": {
      "model_module": "@jupyter-widgets/controls",
      "model_module_version": "1.5.0",
      "model_name": "ButtonStyleModel",
      "state": {
       "button_color": "#a3adac"
      }
     },
     "ba2b9b70c99f49aebe9c90f80ebd7c66": {
      "model_module": "jupyter-leaflet",
      "model_module_version": "^0.17.0",
      "model_name": "LeafletTileLayerModel",
      "state": {
       "_model_module_version": "^0.17.0",
       "_view_module_version": "^0.17.0",
       "attribution": "&copy; <a href=\"http://www.gaode.com/\">Gaode.com</a>",
       "max_zoom": 19,
       "name": "Gaode.Normal",
       "options": [
        "attribution",
        "bounds",
        "detect_retina",
        "max_native_zoom",
        "max_zoom",
        "min_native_zoom",
        "min_zoom",
        "no_wrap",
        "tile_size",
        "tms"
       ],
       "url": "http://webrd01.is.autonavi.com/appmaptile?lang=zh_cn&size=1&scale=1&style=7&x={x}&y={y}&z={z}"
      }
     },
     "babdbd90814245599e9d4a8e6dc8d54e": {
      "model_module": "jupyter-leaflet",
      "model_module_version": "^0.17.0",
      "model_name": "LeafletMapStyleModel",
      "state": {
       "_model_module_version": "^0.17.0"
      }
     },
     "baf5d7c3a23a47b9a6a1261a633c68ba": {
      "model_module": "@jupyter-widgets/controls",
      "model_module_version": "1.5.0",
      "model_name": "GridBoxModel",
      "state": {
       "children": [
        "IPY_MODEL_edc8fd8ecd5045eeb1dcde12ed6f3896",
        "IPY_MODEL_87a9d7e716d24f4d8a00db9847fa0781",
        "IPY_MODEL_958a79aec9bf47609b35fc16cb6fec37",
        "IPY_MODEL_ff286b707b3c45c3a0fce780b7cc05fe",
        "IPY_MODEL_9df53d032f8647ccb9e1bc122bc37453",
        "IPY_MODEL_db3deadea03f48658e2f03c0284d027f",
        "IPY_MODEL_4d85abbfd45a43c0af983b9708549c3a",
        "IPY_MODEL_cfc5d3e53e87491c9ed6333afb9f6083",
        "IPY_MODEL_9eede4fa53e3406d83f25bc12a0d2b66",
        "IPY_MODEL_226d2fe470514b50860068a5551b861d",
        "IPY_MODEL_46c7f932a87a43dda05d547975b2022f",
        "IPY_MODEL_312c6d53afcd44dfbfbf96599e62a9b3",
        "IPY_MODEL_b66308b9ecf84e4e8010b6853d78bc85",
        "IPY_MODEL_10e2cab0d8da4981b0d2fcda5cc70f81",
        "IPY_MODEL_4f326c1ccb1b43bca75eae1bfd643eae",
        "IPY_MODEL_f3c66f1fe1ae4bd0a0d4652f19726461",
        "IPY_MODEL_6606d3a4bf974105a5185e0090a017ef",
        "IPY_MODEL_def3f27fbb4146a28b566c46e173d02b"
       ],
       "layout": "IPY_MODEL_b8808f6bf2af487d95d2074f7af4ee26"
      }
     },
     "bbcc1d45f88f48cc9735c9edb3e3c722": {
      "model_module": "@jupyter-widgets/controls",
      "model_module_version": "1.5.0",
      "model_name": "HBoxModel",
      "state": {
       "children": [
        "IPY_MODEL_1d9b55f0f7ec470c8037220cd1375daf",
        "IPY_MODEL_661ef67639be430ab707be361ad34f39"
       ],
       "layout": "IPY_MODEL_405c75e915984dfd965199f823f61ec2"
      }
     },
     "bc4c401f2062470cbdfb0b5f77d81df8": {
      "model_module": "@jupyter-widgets/base",
      "model_module_version": "1.2.0",
      "model_name": "LayoutModel",
      "state": {
       "padding": "10px"
      }
     },
     "bd63c56fe2e942d5976f4ca7acb17c1d": {
      "model_module": "jupyter-leaflet",
      "model_module_version": "^0.17.0",
      "model_name": "LeafletTileLayerModel",
      "state": {
       "_model_module_version": "^0.17.0",
       "_view_module_version": "^0.17.0",
       "attribution": "Map tiles by Stamen Design, CC BY 3.0 -- Map data (C) OpenStreetMap contributors",
       "name": "Stamen.Terrain",
       "options": [
        "attribution",
        "bounds",
        "detect_retina",
        "max_native_zoom",
        "max_zoom",
        "min_native_zoom",
        "min_zoom",
        "no_wrap",
        "tile_size",
        "tms"
       ],
       "url": "https://stamen-tiles-a.a.ssl.fastly.net/terrain/{z}/{x}/{y}.png"
      }
     },
     "be4cef998fdf49e3b91510a34780572a": {
      "model_module": "@jupyter-widgets/controls",
      "model_module_version": "1.5.0",
      "model_name": "DescriptionStyleModel",
      "state": {
       "description_width": ""
      }
     },
     "bfbd08ff8cf4449ba2ae209b3dd1c946": {
      "model_module": "@jupyter-widgets/controls",
      "model_module_version": "1.5.0",
      "model_name": "ButtonModel",
      "state": {
       "description": "Save Bbox",
       "layout": "IPY_MODEL_fa539870aad64343a73301d30223f79d",
       "style": "IPY_MODEL_407e7cb3fad34697bb3c1d079119584d"
      }
     },
     "c07bb03dc4764cefa219ed9e47f61f8a": {
      "model_module": "jupyter-leaflet",
      "model_module_version": "^0.17.0",
      "model_name": "LeafletTileLayerModel",
      "state": {
       "_model_module_version": "^0.17.0",
       "_view_module_version": "^0.17.0",
       "attribution": "(C) OpenStreetMap France | (C) OpenStreetMap contributors",
       "max_zoom": 20,
       "name": "OpenStreetMap.France",
       "options": [
        "attribution",
        "bounds",
        "detect_retina",
        "max_native_zoom",
        "max_zoom",
        "min_native_zoom",
        "min_zoom",
        "no_wrap",
        "tile_size",
        "tms"
       ],
       "url": "https://a.tile.openstreetmap.fr/osmfr/{z}/{x}/{y}.png"
      }
     },
     "c089d6fa382f40aea852e49cd6299b65": {
      "model_module": "@jupyter-widgets/controls",
      "model_module_version": "1.5.0",
      "model_name": "HTMLModel",
      "state": {
       "layout": "IPY_MODEL_78bc364320f44aa88b51da30e26bc465",
       "style": "IPY_MODEL_1636c53e1175438482daa4564f220380",
       "value": " 2/2 [00:47&lt;00:00, 22.23s/it]"
      }
     },
     "c0b8d5742c554fb08525bce4d81971d8": {
      "model_module": "jupyter-leaflet",
      "model_module_version": "^0.17.0",
      "model_name": "LeafletWMSLayerModel",
      "state": {
       "_model_module_version": "^0.17.0",
       "_view_module_version": "^0.17.0",
       "attribution": "MRLC",
       "crs": {
        "custom": false,
        "name": "EPSG3857"
       },
       "format": "image/png",
       "layers": "NLCD_2008_Land_Cover_L48",
       "name": "NLCD 2008 CONUS Land Cover",
       "options": [
        "attribution",
        "bounds",
        "detect_retina",
        "format",
        "layers",
        "max_native_zoom",
        "max_zoom",
        "min_native_zoom",
        "min_zoom",
        "no_wrap",
        "styles",
        "tile_size",
        "tms",
        "transparent",
        "uppercase"
       ],
       "transparent": true,
       "url": "https://www.mrlc.gov/geoserver/mrlc_display/NLCD_2008_Land_Cover_L48/wms?"
      }
     },
     "c1012d10d74b40ea978c2a7002475031": {
      "model_module": "jupyter-leaflet",
      "model_module_version": "^0.17.0",
      "model_name": "LeafletTileLayerModel",
      "state": {
       "_model_module_version": "^0.17.0",
       "_view_module_version": "^0.17.0",
       "attribution": "Imagery provided by services from the Global Imagery Browse Services (GIBS), operated by the NASA/GSFC/Earth Science Data and Information System (ESDIS) with funding provided by NASA/HQ.",
       "max_zoom": 9,
       "name": "NASAGIBS.ModisAquaBands721CR",
       "options": [
        "attribution",
        "bounds",
        "detect_retina",
        "max_native_zoom",
        "max_zoom",
        "min_native_zoom",
        "min_zoom",
        "no_wrap",
        "tile_size",
        "tms"
       ],
       "url": "https://gibs.earthdata.nasa.gov/wmts/epsg3857/best/MODIS_Aqua_CorrectedReflectance_Bands721/default//GoogleMapsCompatible_Level9/{z}/{y}/{x}.jpg"
      }
     },
     "c1c0a5cd25b94fcb918915b70c09cd9a": {
      "model_module": "jupyter-leaflet",
      "model_module_version": "^0.17.0",
      "model_name": "LeafletTileLayerModel",
      "state": {
       "_model_module_version": "^0.17.0",
       "_view_module_version": "^0.17.0",
       "attribution": "Map tiles by Stamen Design, CC BY 3.0 -- Map data (C) OpenStreetMap contributors",
       "name": "Stamen.TerrainLabels",
       "options": [
        "attribution",
        "bounds",
        "detect_retina",
        "max_native_zoom",
        "max_zoom",
        "min_native_zoom",
        "min_zoom",
        "no_wrap",
        "tile_size",
        "tms"
       ],
       "url": "https://stamen-tiles-a.a.ssl.fastly.net/terrain-labels/{z}/{x}/{y}.png"
      }
     },
     "c423efec94754515a8c8390e450dbf35": {
      "model_module": "jupyter-leaflet",
      "model_module_version": "^0.17.0",
      "model_name": "LeafletTileLayerModel",
      "state": {
       "_model_module_version": "^0.17.0",
       "_view_module_version": "^0.17.0",
       "attribution": "Kaartgegevens (C) Kadaster",
       "max_zoom": 19,
       "name": "nlmaps.luchtfoto",
       "options": [
        "attribution",
        "bounds",
        "detect_retina",
        "max_native_zoom",
        "max_zoom",
        "min_native_zoom",
        "min_zoom",
        "no_wrap",
        "tile_size",
        "tms"
       ],
       "url": "https://service.pdok.nl/hwh/luchtfotorgb/wmts/v1_0/Actueel_ortho25/EPSG:3857/{z}/{x}/{y}.jpeg"
      }
     },
     "c46a0cd5209d4b0597573694611eb094": {
      "model_module": "@jupyter-widgets/base",
      "model_module_version": "1.2.0",
      "model_name": "LayoutModel",
      "state": {}
     },
     "c48a1e659a7f4f2f9cdff1e0847a070a": {
      "model_module": "@jupyter-widgets/base",
      "model_module_version": "1.2.0",
      "model_name": "LayoutModel",
      "state": {}
     },
     "c55addaf5b224fa492c3c59f7c722fe8": {
      "model_module": "jupyter-leaflet",
      "model_module_version": "^0.17.0",
      "model_name": "LeafletTileLayerModel",
      "state": {
       "_model_module_version": "^0.17.0",
       "_view_module_version": "^0.17.0",
       "attribution": "Map data: (C) OpenStreetMap contributors | Map style: (C) waymarkedtrails.org (CC-BY-SA)",
       "name": "WaymarkedTrails.riding",
       "options": [
        "attribution",
        "bounds",
        "detect_retina",
        "max_native_zoom",
        "max_zoom",
        "min_native_zoom",
        "min_zoom",
        "no_wrap",
        "tile_size",
        "tms"
       ],
       "url": "https://tile.waymarkedtrails.org/riding/{z}/{x}/{y}.png"
      }
     },
     "c568ca78bc2c4192aec0127c5234d72b": {
      "model_module": "@jupyter-widgets/base",
      "model_module_version": "1.2.0",
      "model_name": "LayoutModel",
      "state": {}
     },
     "c7c2e8460ab74c478d27bc2124456e09": {
      "model_module": "jupyter-leaflet",
      "model_module_version": "^0.17.0",
      "model_name": "LeafletTileLayerModel",
      "state": {
       "_model_module_version": "^0.17.0",
       "_view_module_version": "^0.17.0",
       "attribution": "Justice Map",
       "max_zoom": 22,
       "name": "JusticeMap.americanIndian",
       "options": [
        "attribution",
        "bounds",
        "detect_retina",
        "max_native_zoom",
        "max_zoom",
        "min_native_zoom",
        "min_zoom",
        "no_wrap",
        "tile_size",
        "tms"
       ],
       "url": "https://www.justicemap.org/tile/county/indian/{z}/{x}/{y}.png"
      }
     },
     "c992ba5d53b44becb73b358a478bce24": {
      "model_module": "jupyter-leaflet",
      "model_module_version": "^0.17.0",
      "model_name": "LeafletTileLayerModel",
      "state": {
       "_model_module_version": "^0.17.0",
       "_view_module_version": "^0.17.0",
       "attribution": "Kaartgegevens (C) Kadaster",
       "max_zoom": 19,
       "name": "nlmaps.pastel",
       "options": [
        "attribution",
        "bounds",
        "detect_retina",
        "max_native_zoom",
        "max_zoom",
        "min_native_zoom",
        "min_zoom",
        "no_wrap",
        "tile_size",
        "tms"
       ],
       "url": "https://service.pdok.nl/brt/achtergrondkaart/wmts/v2_0/pastel/EPSG:3857/{z}/{x}/{y}.png"
      }
     },
     "c9b9264d8465478f9a2ba34bea0005ba": {
      "model_module": "@jupyter-widgets/base",
      "model_module_version": "1.2.0",
      "model_name": "LayoutModel",
      "state": {
       "height": "auto",
       "padding": "0px 0px 0px 4px",
       "width": "auto"
      }
     },
     "c9f3432ad3284bb5a37de355eb6ce81b": {
      "model_module": "@jupyter-widgets/controls",
      "model_module_version": "1.5.0",
      "model_name": "VBoxModel",
      "state": {
       "children": [
        "IPY_MODEL_9644c96f4b7147f39e8fe198438e13db",
        "IPY_MODEL_36744833d5ec4b2eb4c15b83ccf75cd0"
       ],
       "layout": "IPY_MODEL_fb2469bf77114fafa1529b5db7003cd1"
      }
     },
     "caf7e9741f8d4e2585390a001e7c109a": {
      "model_module": "@jupyter-widgets/base",
      "model_module_version": "1.2.0",
      "model_name": "LayoutModel",
      "state": {}
     },
     "cc4fb303051d4c488b13a025a28acb74": {
      "model_module": "@jupyter-widgets/controls",
      "model_module_version": "1.5.0",
      "model_name": "IntSliderModel",
      "state": {
       "continuous_update": false,
       "description": "Small Fishnet:",
       "layout": "IPY_MODEL_ddf28efad47445db8411aefd41dc1862",
       "max": 10000,
       "step": 100,
       "style": "IPY_MODEL_7bf3e635069b41148257b735df112867",
       "value": 3500
      }
     },
     "cc94b2317dca43d089d2f7f5ef6bb5d3": {
      "model_module": "@jupyter-widgets/base",
      "model_module_version": "1.2.0",
      "model_name": "LayoutModel",
      "state": {}
     },
     "cd020459ad9b4c38b734017fcdd4a374": {
      "model_module": "@jupyter-widgets/base",
      "model_module_version": "1.2.0",
      "model_name": "LayoutModel",
      "state": {}
     },
     "cd4b7dac9ba2487dae8189b61ff6160a": {
      "model_module": "@jupyter-widgets/base",
      "model_module_version": "1.2.0",
      "model_name": "LayoutModel",
      "state": {}
     },
     "cf6f1521dd8b4fd7b7b15583fb464248": {
      "model_module": "@jupyter-widgets/base",
      "model_module_version": "1.2.0",
      "model_name": "LayoutModel",
      "state": {
       "margin": "0px 5px 0px 0px"
      }
     },
     "cfc5d3e53e87491c9ed6333afb9f6083": {
      "model_module": "@jupyter-widgets/controls",
      "model_module_version": "1.5.0",
      "model_name": "ToggleButtonModel",
      "state": {
       "button_style": "primary",
       "icon": "camera",
       "layout": "IPY_MODEL_9b3e0a5013b6466b9c7396e4f49910c3",
       "style": "IPY_MODEL_75310a1ea2664e6fbb4db5b84ebf9962",
       "tooltip": "Save map as HTML or image"
      }
     },
     "d0029b58c8c446dea9f7e00186534d6d": {
      "model_module": "@jupyter-widgets/base",
      "model_module_version": "1.2.0",
      "model_name": "LayoutModel",
      "state": {}
     },
     "d0f7757c320a49239444efbd1138d783": {
      "model_module": "@jupyter-widgets/controls",
      "model_module_version": "1.5.0",
      "model_name": "FloatProgressModel",
      "state": {
       "bar_style": "success",
       "layout": "IPY_MODEL_c46a0cd5209d4b0597573694611eb094",
       "max": 2,
       "style": "IPY_MODEL_991d825d244c4bc6afab5f21cfcfedeb",
       "value": 2
      }
     },
     "d11490e3a16345a494a24ddf0674fc8f": {
      "model_module": "jupyter-leaflet",
      "model_module_version": "^0.17.0",
      "model_name": "LeafletTileLayerModel",
      "state": {
       "_model_module_version": "^0.17.0",
       "_view_module_version": "^0.17.0",
       "attribution": "Kaartgegevens (C) Kadaster",
       "max_zoom": 19,
       "name": "nlmaps.water",
       "options": [
        "attribution",
        "bounds",
        "detect_retina",
        "max_native_zoom",
        "max_zoom",
        "min_native_zoom",
        "min_zoom",
        "no_wrap",
        "tile_size",
        "tms"
       ],
       "url": "https://service.pdok.nl/brt/achtergrondkaart/wmts/v2_0/water/EPSG:3857/{z}/{x}/{y}.png"
      }
     },
     "d3142b73ed374f1e8f21018468dfe79d": {
      "model_module": "jupyter-leaflet",
      "model_module_version": "^0.17.0",
      "model_name": "LeafletTileLayerModel",
      "state": {
       "_model_module_version": "^0.17.0",
       "_view_module_version": "^0.17.0",
       "attribution": "(C) OpenStreetMap contributors",
       "name": "OpenStreetMap.BlackAndWhite",
       "options": [
        "attribution",
        "bounds",
        "detect_retina",
        "max_native_zoom",
        "max_zoom",
        "min_native_zoom",
        "min_zoom",
        "no_wrap",
        "tile_size",
        "tms"
       ],
       "url": "http://a.tiles.wmflabs.org/bw-mapnik/{z}/{x}/{y}.png"
      }
     },
     "d37835c013c445f08a0b1f758578c8c5": {
      "model_module": "@jupyter-widgets/controls",
      "model_module_version": "1.5.0",
      "model_name": "ButtonStyleModel",
      "state": {
       "button_color": "#69add1"
      }
     },
     "d4b272df343e46cc837f57216b2f1830": {
      "model_module": "jupyter-leaflet",
      "model_module_version": "^0.17.0",
      "model_name": "LeafletGeoJSONModel",
      "state": {
       "_model_module_version": "^0.17.0",
       "_view_module_version": "^0.17.0",
       "data": {
        "features": [
         {
          "geometry": {
           "coordinates": [
            [
             -124.14972321099998,
             40.865066772000034
            ],
            [
             -124.14977800699995,
             40.86505650000004
            ],
            [
             -124.14984188399995,
             40.86503751600003
            ],
            [
             -124.14989746999998,
             40.86501051600004
            ],
            [
             -124.149936191,
             40.864980769000056
            ],
            [
             -124.15012996899998,
             40.86478698900004
            ],
            [
             -124.15015316699998,
             40.86475481900004
            ],
            [
             -124.15016688999998,
             40.86471854500007
            ],
            [
             -124.15017112199996,
             40.86467986700006
            ],
            [
             -124.15016613999995,
             40.864641230000075
            ],
            [
             -124.15015168199994,
             40.864605072000074
            ],
            [
             -124.15012778,
             40.86457308000007
            ],
            [
             -124.15008339841573,
             40.864529
            ]
           ],
           "type": "LineString"
          },
          "id": "2",
          "properties": {
           "CSU_ID": 80247,
           "ERODIBILITY": "Non",
           "MEAN_SIG_WAVEHEIGHT": 2.305355,
           "TIDAL_RANGE": 2.983468,
           "river_label": "moderate river discharge",
           "sinuosity_label": "sinuous",
           "slope": null,
           "slope_label": "flat",
           "style": {
            "color": "yellow",
            "dashArray": "5",
            "fillOpacity": 0.5,
            "fill_color": "yellow",
            "opacity": 1,
            "weight": 4
           },
           "turbid_label": "clear",
           "type": "shoreline"
          },
          "type": "Feature"
         },
         {
          "geometry": {
           "coordinates": [
            [
             -124.14792839563039,
             40.864529
            ],
            [
             -124.14797448999997,
             40.864570882000066
            ],
            [
             -124.14800974699995,
             40.86460305300005
            ],
            [
             -124.14804082799998,
             40.86463940500005
            ],
            [
             -124.14809802999997,
             40.86471711300004
            ],
            [
             -124.14812905599996,
             40.864753568000026
            ],
            [
             -124.14837552499995,
             40.86498036100005
            ],
            [
             -124.14841351799998,
             40.865010177000045
            ],
            [
             -124.14846791599996,
             40.865037244000064
            ],
            [
             -124.14853046299999,
             40.86505628200007
            ],
            [
             -124.14859903599995,
             40.86506943200004
            ],
            [
             -124.14867200199996,
             40.86507833400003
            ],
            [
             -124.14874813299997,
             40.86508422400004
            ],
            [
             -124.14882650799996,
             40.86508801700006
            ],
            [
             -124.14898745199997,
             40.86509176900006
            ],
            [
             -124.14915117199996,
             40.865092719000074
            ],
            [
             -124.14931529599994,
             40.86509180400003
            ],
            [
             -124.149477446,
             40.86508809400004
            ],
            [
             -124.14955671799999,
             40.865084327000034
            ],
            [
             -124.14963392399994,
             40.865078467000046
            ],
            [
             -124.14970811499995,
             40.86506960200006
            ],
            [
             -124.14972321099998,
             40.865066772000034
            ]
           ],
           "type": "LineString"
          },
          "id": "3",
          "properties": {
           "CSU_ID": 80259,
           "ERODIBILITY": "Non",
           "MEAN_SIG_WAVEHEIGHT": 2.305355,
           "TIDAL_RANGE": 2.983468,
           "river_label": "moderate river discharge",
           "sinuosity_label": "sinuous",
           "slope": null,
           "slope_label": "flat",
           "style": {
            "color": "yellow",
            "dashArray": "5",
            "fillOpacity": 0.5,
            "fill_color": "yellow",
            "opacity": 1,
            "weight": 4
           },
           "turbid_label": "turbid",
           "type": "shoreline"
          },
          "type": "Feature"
         },
         {
          "geometry": {
           "coordinates": [
            [
             -124.16560643100728,
             40.864529
            ],
            [
             -124.16560562599994,
             40.864532885000074
            ],
            [
             -124.16559509399997,
             40.86460320100008
            ],
            [
             -124.16557745299997,
             40.86474725700003
            ],
            [
             -124.16556727699998,
             40.864817929000026
            ],
            [
             -124.16555406799995,
             40.86488556900008
            ],
            [
             -124.16553598499996,
             40.864948336000054
            ],
            [
             -124.16551085199995,
             40.86500405000004
            ],
            [
             -124.16529280999998,
             40.86544049400004
            ],
            [
             -124.16515223,
             40.86565603400004
            ],
            [
             -124.16507557299997,
             40.86580074700004
            ],
            [
             -124.16480623299998,
             40.86633989200004
            ],
            [
             -124.16467772099998,
             40.86666374400005
            ],
            [
             -124.16446312199997,
             40.86711325700003
            ],
            [
             -124.16443522399999,
             40.86716235600005
            ],
            [
             -124.16440453299998,
             40.86719903900007
            ],
            [
             -124.164179704,
             40.86744582500006
            ],
            [
             -124.16414381499999,
             40.86747731000003
            ],
            [
             -124.16406716699998,
             40.86753541000007
            ],
            [
             -124.16403127799998,
             40.86756689300006
            ],
            [
             -124.16380638099997,
             40.867813614000056
            ],
            [
             -124.16377567199999,
             40.86785028000003
            ],
            [
             -124.16374774599996,
             40.86789935100006
            ],
            [
             -124.16323902299996,
             40.86893059800008
            ],
            [
             -124.16321393099997,
             40.868986352000036
            ],
            [
             -124.16319588199997,
             40.86904915400004
            ],
            [
             -124.16318270699998,
             40.86911682700003
            ],
            [
             -124.16317256399998,
             40.86918753100008
            ],
            [
             -124.16315498899996,
             40.869331654000064
            ],
            [
             -124.163144494,
             40.869402008000066
            ],
            [
             -124.16313065999998,
             40.86946902100004
            ],
            [
             -124.16311153199996,
             40.86953074100006
            ],
            [
             -124.16308475799997,
             40.86958481600004
            ],
            [
             -124.16305538899996,
             40.869622820000075
            ],
            [
             -124.16259300599995,
             40.87027067100007
            ]
           ],
           "type": "LineString"
          },
          "id": "4",
          "properties": {
           "CSU_ID": 19775,
           "ERODIBILITY": "High",
           "MEAN_SIG_WAVEHEIGHT": 2.305355,
           "TIDAL_RANGE": 2.983468,
           "river_label": "moderate river discharge",
           "sinuosity_label": "straight",
           "slope": null,
           "slope_label": "flat",
           "style": {
            "color": "yellow",
            "dashArray": "5",
            "fillOpacity": 0.5,
            "fill_color": "yellow",
            "opacity": 1,
            "weight": 4
           },
           "turbid_label": "clear",
           "type": "shoreline"
          },
          "type": "Feature"
         },
         {
          "geometry": {
           "coordinates": [
            [
             -124.16259300599995,
             40.87027067100007
            ],
            [
             -124.16238196399996,
             40.87056636400007
            ],
            [
             -124.16205675199996,
             40.871097760000055
            ],
            [
             -124.16178549799997,
             40.87145211700005
            ],
            [
             -124.16156997299998,
             40.871727458000066
            ],
            [
             -124.161351707,
             40.87216367700006
            ],
            [
             -124.16132671199995,
             40.87221953200003
            ],
            [
             -124.16130875599998,
             40.87228242200007
            ],
            [
             -124.16129565399996,
             40.87235017000006
            ],
            [
             -124.16128556899997,
             40.87242093200007
            ],
            [
             -124.16126805599998,
             40.87256511700008
            ],
            [
             -124.161257563,
             40.87263547200007
            ],
            [
             -124.16124370999995,
             40.87270246800006
            ],
            [
             -124.16122454199996,
             40.872764149000034
            ],
            [
             -124.16119770599994,
             40.872818161000055
            ],
            [
             -124.16116826599995,
             40.87285609500003
            ],
            [
             -124.16097883699996,
             40.873070909000035
            ],
            [
             -124.16076148499997,
             40.87334443300006
            ],
            [
             -124.160541546,
             40.87377906100005
            ],
            [
             -124.16051785899998,
             40.87383239800005
            ],
            [
             -124.16050098999995,
             40.873892556000044
            ],
            [
             -124.16048917899997,
             40.87395778200005
            ],
            [
             -124.16048101599995,
             40.87402666200006
            ],
            [
             -124.16047534899997,
             40.87409805200008
            ],
            [
             -124.16045995699994,
             40.87439105100003
            ],
            [
             -124.16045386399998,
             40.874462116000075
            ],
            [
             -124.160445026,
             40.874530469000035
            ],
            [
             -124.16043220799997,
             40.874594881000064
            ],
            [
             -124.16041387499996,
             40.87465382200003
            ],
            [
             -124.16038810699996,
             40.874705379000034
            ],
            [
             -124.16035843199995,
             40.874743410000065
            ],
            [
             -124.16016592499994,
             40.874958108000044
            ],
            [
             -124.16003086699999,
             40.87509456400005
            ],
            [
             -124.16000124199996,
             40.875132422000036
            ],
            [
             -124.15997471699995,
             40.875186358000065
            ],
            [
             -124.15995675699997,
             40.875247975000036
            ],
            [
             -124.15994546699994,
             40.875314907000075
            ],
            [
             -124.15993952999997,
             40.875385178000045
            ],
            [
             -124.15993813699998,
             40.875457064000045
            ],
            [
             -124.15994093499995,
             40.87552897300003
            ],
            [
             -124.15994798999998,
             40.87559930900005
            ],
            [
             -124.15995979799999,
             40.87566635300004
            ],
            [
             -124.15997725799997,
             40.87572812500008
            ],
            [
             -124.16000172399998,
             40.87578225900006
            ],
            [
             -124.16002791299996,
             40.875820307000026
            ],
            [
             -124.16008359899996,
             40.87588657400005
            ],
            [
             -124.16010558999994,
             40.87592043200004
            ],
            [
             -124.16011920399995,
             40.87595764900004
            ],
            [
             -124.160124199,
             40.875996901000065
            ],
            [
             -124.16012075099997,
             40.87603607800003
            ],
            [
             -124.16010859099998,
             40.876073062000046
            ],
            [
             -124.1599086,
             40.87648977300006
            ],
            [
             -124.15988729099996,
             40.87653324000007
            ]
           ],
           "type": "LineString"
          },
          "id": "5",
          "properties": {
           "CSU_ID": 20304,
           "ERODIBILITY": "High",
           "MEAN_SIG_WAVEHEIGHT": 2.305355,
           "TIDAL_RANGE": 2.983468,
           "river_label": "moderate river discharge",
           "sinuosity_label": "straight",
           "slope": null,
           "slope_label": "sloping",
           "style": {
            "color": "yellow",
            "dashArray": "5",
            "fillOpacity": 0.5,
            "fill_color": "yellow",
            "opacity": 1,
            "weight": 4
           },
           "turbid_label": "turbid",
           "type": "shoreline"
          },
          "type": "Feature"
         },
         {
          "geometry": {
           "coordinates": [
            [
             -124.15988729099996,
             40.87653324000007
            ],
            [
             -124.15961346399996,
             40.87709180000007
            ],
            [
             -124.159585484,
             40.87714117500008
            ],
            [
             -124.15955475699997,
             40.87717770300003
            ],
            [
             -124.15936185499999,
             40.877363915000046
            ],
            [
             -124.15933012699998,
             40.87738634900006
            ],
            [
             -124.15929424299998,
             40.877399608000076
            ],
            [
             -124.15925587399994,
             40.877403865000076
            ],
            [
             -124.15921742399996,
             40.877399670000045
            ],
            [
             -124.15918128899995,
             40.87738714000005
            ],
            [
             -124.159149104,
             40.87736682100007
            ],
            [
             -124.15908943199997,
             40.87731773200005
            ],
            [
             -124.15905723299994,
             40.87729739200006
            ],
            [
             -124.15902107699998,
             40.87728482700004
            ],
            [
             -124.15898260399996,
             40.877280591000044
            ],
            [
             -124.15894422099996,
             40.87728480800007
            ],
            [
             -124.15890834199996,
             40.87729803700006
            ],
            [
             -124.158876653,
             40.877320471000075
            ],
            [
             -124.15868669899999,
             40.87750911000006
            ],
            [
             -124.15865753299994,
             40.877547046000075
            ],
            [
             -124.15863103999999,
             40.87760156400003
            ],
            [
             -124.15861219899995,
             40.877664055000025
            ],
            [
             -124.15859862999997,
             40.877731984000036
            ],
            [
             -124.15858834499994,
             40.877803260000064
            ],
            [
             -124.15857086399996,
             40.87794886000006
            ],
            [
             -124.15856048199998,
             40.87801994000006
            ],
            [
             -124.15854675899999,
             40.878087606000065
            ],
            [
             -124.15852772099998,
             40.87814988900004
            ],
            [
             -124.15850100299997,
             40.87820442300006
            ],
            [
             -124.15847165399998,
             40.87824273700005
            ],
            [
             -124.15828316299996,
             40.87845953000004
            ],
            [
             -124.15815077299999,
             40.87859692300003
            ],
            [
             -124.15812137699999,
             40.878634945000044
            ],
            [
             -124.158094587,
             40.87868904800007
            ],
            [
             -124.15807545799998,
             40.87875080200007
            ],
            [
             -124.158061627,
             40.87881784600006
            ],
            [
             -124.15805111499998,
             40.87888820500007
            ],
            [
             -124.15803330699998,
             40.87903212500004
            ],
            [
             -124.15802282599998,
             40.87910250300007
            ],
            [
             -124.15800903899998,
             40.87916957300007
            ],
            [
             -124.15798997199994,
             40.87923136100005
            ],
            [
             -124.15796325599996,
             40.87928549800006
            ],
            [
             -124.15793392599994,
             40.879323544000044
            ],
            [
             -124.15774523199997,
             40.87953910400006
            ],
            [
             -124.15752908399998,
             40.87981382300006
            ],
            [
             -124.157257389,
             40.880350613000076
            ],
            [
             -124.15703906899995,
             40.88078677800007
            ],
            [
             -124.15701536399996,
             40.88084007200007
            ],
            [
             -124.15699848999998,
             40.88090019600003
            ],
            [
             -124.15698669799997,
             40.88096540500004
            ],
            [
             -124.15697858199997,
             40.881034287000034
            ],
            [
             -124.15697299699997,
             40.881105699000045
            ],
            [
             -124.15695832199998,
             40.88139901900007
            ],
            [
             -124.15695252699999,
             40.881470222000075
            ],
            [
             -124.15694403499998,
             40.881538729000056
            ],
            [
             -124.15693161099995,
             40.88160330300008
            ],
            [
             -124.15691371599996,
             40.88166240600003
            ],
            [
             -124.15688841499997,
             40.881714104000025
            ],
            [
             -124.15685915599994,
             40.88175221900008
            ],
            [
             -124.15666690599994,
             40.881964211000025
            ],
            [
             -124.156634753,
             40.88199943200004
            ],
            [
             -124.156598439,
             40.882030490000034
            ],
            [
             -124.15652090099996,
             40.882087700000056
            ],
            [
             -124.15648458599998,
             40.882118760000026
            ],
            [
             -124.156452436,
             40.88215398400007
            ],
            [
             -124.15634659699998,
             40.88227073300004
            ]
           ],
           "type": "LineString"
          },
          "id": "6",
          "properties": {
           "CSU_ID": 19802,
           "ERODIBILITY": "High",
           "MEAN_SIG_WAVEHEIGHT": 2.305355,
           "TIDAL_RANGE": 2.983468,
           "river_label": "moderate river discharge",
           "sinuosity_label": "straight",
           "slope": null,
           "slope_label": "flat",
           "style": {
            "color": "yellow",
            "dashArray": "5",
            "fillOpacity": 0.5,
            "fill_color": "yellow",
            "opacity": 1,
            "weight": 4
           },
           "turbid_label": "turbid",
           "type": "shoreline"
          },
          "type": "Feature"
         },
         {
          "geometry": {
           "coordinates": [
            [
             -124.15841834899999,
             40.879638502000034
            ],
            [
             -124.15838015299994,
             40.879634569000075
            ],
            [
             -124.15836270799997,
             40.87963067700008
            ],
            [
             -124.15834711899998,
             40.879624861000025
            ],
            [
             -124.15833417999994,
             40.87961637700005
            ],
            [
             -124.15832457599998,
             40.87960457300005
            ],
            [
             -124.158317792,
             40.87958998000005
            ],
            [
             -124.15831313999996,
             40.87957298200007
            ],
            [
             -124.158310127,
             40.879551578000076
            ],
            [
             -124.15830843599997,
             40.87952648400005
            ],
            [
             -124.15830788,
             40.87947104700004
            ],
            [
             -124.158311374,
             40.879364140000064
            ],
            [
             -124.15841828199996,
             40.879360646000066
            ],
            [
             -124.15847371799998,
             40.87936120100005
            ],
            [
             -124.15849881399998,
             40.87936289100003
            ],
            [
             -124.15852021799998,
             40.87936590600003
            ],
            [
             -124.15853721499997,
             40.87937055700007
            ],
            [
             -124.15855180699998,
             40.879377341000065
            ],
            [
             -124.15856361299996,
             40.87938694600007
            ],
            [
             -124.15857209599994,
             40.879399884000065
            ],
            [
             -124.15857791099995,
             40.87941547300005
            ],
            [
             -124.158581804,
             40.87943291800008
            ],
            [
             -124.15858573699995,
             40.87947111500006
            ],
            [
             -124.15858618099998,
             40.879511053000044
            ],
            [
             -124.15858343399998,
             40.87955016400008
            ],
            [
             -124.15858048099994,
             40.87956856100004
            ],
            [
             -124.158576031,
             40.87958560800007
            ],
            [
             -124.15856957199998,
             40.879600725000046
            ],
            [
             -124.15856040299997,
             40.87961316800005
            ],
            [
             -124.15854795999996,
             40.87962233700006
            ],
            [
             -124.15853284399998,
             40.879628797000066
            ],
            [
             -124.15851579599996,
             40.879633246000026
            ],
            [
             -124.15849739899994,
             40.87963619900006
            ],
            [
             -124.15845828799996,
             40.87963894600006
            ],
            [
             -124.15841834899999,
             40.879638502000034
            ]
           ],
           "type": "LineString"
          },
          "id": "7",
          "properties": {
           "CSU_ID": 19802,
           "ERODIBILITY": "High",
           "MEAN_SIG_WAVEHEIGHT": 2.305355,
           "TIDAL_RANGE": 2.983468,
           "river_label": "moderate river discharge",
           "sinuosity_label": "straight",
           "slope": null,
           "slope_label": "flat",
           "style": {
            "color": "yellow",
            "dashArray": "5",
            "fillOpacity": 0.5,
            "fill_color": "yellow",
            "opacity": 1,
            "weight": 4
           },
           "turbid_label": "turbid",
           "type": "shoreline"
          },
          "type": "Feature"
         },
         {
          "geometry": {
           "coordinates": [
            [
             -124.15634659699998,
             40.88227073300004
            ],
            [
             -124.15626022199996,
             40.882366012000034
            ],
            [
             -124.15623097599996,
             40.88240413900007
            ],
            [
             -124.15620569099997,
             40.88245585300007
            ],
            [
             -124.15618781799998,
             40.88251497700003
            ],
            [
             -124.15617541999995,
             40.88257957800005
            ],
            [
             -124.15616695999995,
             40.88264811700003
            ],
            [
             -124.15616120199996,
             40.88271935800003
            ],
            [
             -124.15614677899998,
             40.883012929000074
            ],
            [
             -124.15614128799996,
             40.88308443600005
            ],
            [
             -124.15613327999995,
             40.88315342900006
            ],
            [
             -124.15612161499996,
             40.88321876400005
            ],
            [
             -124.15610488399994,
             40.883279033000065
            ],
            [
             -124.15608133599994,
             40.88333248500004
            ],
            [
             -124.15584084199998,
             40.88382354200007
            ],
            [
             -124.15581269999996,
             40.88387241800007
            ],
            [
             -124.15578180999995,
             40.883908922000046
            ],
            [
             -124.15555582999997,
             40.88415489100004
            ],
            [
             -124.155519788,
             40.88418631600007
            ],
            [
             -124.15544280399996,
             40.88424432200003
            ],
            [
             -124.15540672499998,
             40.884275770000045
            ],
            [
             -124.15517968299997,
             40.88452241600004
            ],
            [
             -124.15514850599999,
             40.88455909000004
            ],
            [
             -124.15511999399996,
             40.884608179000054
            ],
            [
             -124.154878968,
             40.88509626900003
            ],
            [
             -124.15485776699995,
             40.885146889000055
            ],
            [
             -124.15484489599999,
             40.885202900000024
            ],
            [
             -124.15483922599998,
             40.88526201500008
            ],
            [
             -124.15484018199999,
             40.88532212400003
            ],
            [
             -124.15484770599994,
             40.88538118200006
            ],
            [
             -124.15486226299998,
             40.88543707800005
            ],
            [
             -124.15488483499996,
             40.885487529000045
            ],
            [
             -124.15491148999996,
             40.885526036000044
            ],
            [
             -124.15497188999996,
             40.88559699100006
            ],
            [
             -124.15499848999997,
             40.88563544100003
            ],
            [
             -124.15502095699998,
             40.88568578700006
            ],
            [
             -124.15503536899996,
             40.88574153900004
            ],
            [
             -124.15504272199996,
             40.88580042500007
            ],
            [
             -124.15504349399998,
             40.885860352000066
            ],
            [
             -124.15503765699998,
             40.88591929800003
            ],
            [
             -124.15502466799995,
             40.88597519000007
            ],
            [
             -124.15479055699996,
             40.88664676900004
            ],
            [
             -124.15464348299997,
             40.88694654200003
            ],
            [
             -124.15455851499996,
             40.88717215300005
            ],
            [
             -124.15452757271406,
             40.887263
            ]
           ],
           "type": "LineString"
          },
          "id": "8",
          "properties": {
           "CSU_ID": 19802,
           "ERODIBILITY": "High",
           "MEAN_SIG_WAVEHEIGHT": 2.305355,
           "TIDAL_RANGE": 2.983468,
           "river_label": "moderate river discharge",
           "sinuosity_label": "straight",
           "slope": null,
           "slope_label": "flat",
           "style": {
            "color": "yellow",
            "dashArray": "5",
            "fillOpacity": 0.5,
            "fill_color": "yellow",
            "opacity": 1,
            "weight": 4
           },
           "turbid_label": "turbid",
           "type": "shoreline"
          },
          "type": "Feature"
         },
         {
          "geometry": {
           "coordinates": [
            [
             -124.14972321099998,
             40.865066772000034
            ],
            [
             -124.14977800699995,
             40.86505650000004
            ],
            [
             -124.14984188399995,
             40.86503751600003
            ],
            [
             -124.14989746999998,
             40.86501051600004
            ],
            [
             -124.149936191,
             40.864980769000056
            ],
            [
             -124.15012996899998,
             40.86478698900004
            ],
            [
             -124.15015316699998,
             40.86475481900004
            ],
            [
             -124.15016688999998,
             40.86471854500007
            ],
            [
             -124.15017112199996,
             40.86467986700006
            ],
            [
             -124.15016613999995,
             40.864641230000075
            ],
            [
             -124.15015168199994,
             40.864605072000074
            ],
            [
             -124.15012778,
             40.86457308000007
            ],
            [
             -124.15008339841573,
             40.864529
            ]
           ],
           "type": "LineString"
          },
          "id": "9",
          "properties": {
           "CSU_ID": 80247,
           "ERODIBILITY": "Non",
           "MEAN_SIG_WAVEHEIGHT": 2.305355,
           "TIDAL_RANGE": 2.983468,
           "river_label": "moderate river discharge",
           "sinuosity_label": "sinuous",
           "slope": null,
           "slope_label": "flat",
           "style": {
            "color": "yellow",
            "dashArray": "5",
            "fillOpacity": 0.5,
            "fill_color": "yellow",
            "opacity": 1,
            "weight": 4
           },
           "turbid_label": "clear",
           "type": "shoreline"
          },
          "type": "Feature"
         },
         {
          "geometry": {
           "coordinates": [
            [
             -124.14792839563039,
             40.864529
            ],
            [
             -124.14797448999997,
             40.864570882000066
            ],
            [
             -124.14800974699995,
             40.86460305300005
            ],
            [
             -124.14804082799998,
             40.86463940500005
            ],
            [
             -124.14809802999997,
             40.86471711300004
            ],
            [
             -124.14812905599996,
             40.864753568000026
            ],
            [
             -124.14837552499995,
             40.86498036100005
            ],
            [
             -124.14841351799998,
             40.865010177000045
            ],
            [
             -124.14846791599996,
             40.865037244000064
            ],
            [
             -124.14853046299999,
             40.86505628200007
            ],
            [
             -124.14859903599995,
             40.86506943200004
            ],
            [
             -124.14867200199996,
             40.86507833400003
            ],
            [
             -124.14874813299997,
             40.86508422400004
            ],
            [
             -124.14882650799996,
             40.86508801700006
            ],
            [
             -124.14898745199997,
             40.86509176900006
            ],
            [
             -124.14915117199996,
             40.865092719000074
            ],
            [
             -124.14931529599994,
             40.86509180400003
            ],
            [
             -124.149477446,
             40.86508809400004
            ],
            [
             -124.14955671799999,
             40.865084327000034
            ],
            [
             -124.14963392399994,
             40.865078467000046
            ],
            [
             -124.14970811499995,
             40.86506960200006
            ],
            [
             -124.14972321099998,
             40.865066772000034
            ]
           ],
           "type": "LineString"
          },
          "id": "10",
          "properties": {
           "CSU_ID": 80259,
           "ERODIBILITY": "Non",
           "MEAN_SIG_WAVEHEIGHT": 2.305355,
           "TIDAL_RANGE": 2.983468,
           "river_label": "moderate river discharge",
           "sinuosity_label": "sinuous",
           "slope": null,
           "slope_label": "flat",
           "style": {
            "color": "yellow",
            "dashArray": "5",
            "fillOpacity": 0.5,
            "fill_color": "yellow",
            "opacity": 1,
            "weight": 4
           },
           "turbid_label": "turbid",
           "type": "shoreline"
          },
          "type": "Feature"
         },
         {
          "geometry": {
           "coordinates": [
            [
             -124.16560643100728,
             40.864529
            ],
            [
             -124.16560562599994,
             40.864532885000074
            ],
            [
             -124.16559509399997,
             40.86460320100008
            ],
            [
             -124.16557745299997,
             40.86474725700003
            ],
            [
             -124.16556727699998,
             40.864817929000026
            ],
            [
             -124.16555406799995,
             40.86488556900008
            ],
            [
             -124.16553598499996,
             40.864948336000054
            ],
            [
             -124.16551085199995,
             40.86500405000004
            ],
            [
             -124.16529280999998,
             40.86544049400004
            ],
            [
             -124.16515223,
             40.86565603400004
            ],
            [
             -124.16507557299997,
             40.86580074700004
            ],
            [
             -124.16480623299998,
             40.86633989200004
            ],
            [
             -124.16467772099998,
             40.86666374400005
            ],
            [
             -124.16446312199997,
             40.86711325700003
            ],
            [
             -124.16443522399999,
             40.86716235600005
            ],
            [
             -124.16440453299998,
             40.86719903900007
            ],
            [
             -124.164179704,
             40.86744582500006
            ],
            [
             -124.16414381499999,
             40.86747731000003
            ],
            [
             -124.16406716699998,
             40.86753541000007
            ],
            [
             -124.16403127799998,
             40.86756689300006
            ],
            [
             -124.16380638099997,
             40.867813614000056
            ],
            [
             -124.16377567199999,
             40.86785028000003
            ],
            [
             -124.16374774599996,
             40.86789935100006
            ],
            [
             -124.16323902299996,
             40.86893059800008
            ],
            [
             -124.16321393099997,
             40.868986352000036
            ],
            [
             -124.16319588199997,
             40.86904915400004
            ],
            [
             -124.16318270699998,
             40.86911682700003
            ],
            [
             -124.16317256399998,
             40.86918753100008
            ],
            [
             -124.16315498899996,
             40.869331654000064
            ],
            [
             -124.163144494,
             40.869402008000066
            ],
            [
             -124.16313065999998,
             40.86946902100004
            ],
            [
             -124.16311153199996,
             40.86953074100006
            ],
            [
             -124.16308475799997,
             40.86958481600004
            ],
            [
             -124.16305538899996,
             40.869622820000075
            ],
            [
             -124.16259300599995,
             40.87027067100007
            ]
           ],
           "type": "LineString"
          },
          "id": "11",
          "properties": {
           "CSU_ID": 19775,
           "ERODIBILITY": "High",
           "MEAN_SIG_WAVEHEIGHT": 2.305355,
           "TIDAL_RANGE": 2.983468,
           "river_label": "moderate river discharge",
           "sinuosity_label": "straight",
           "slope": null,
           "slope_label": "flat",
           "style": {
            "color": "yellow",
            "dashArray": "5",
            "fillOpacity": 0.5,
            "fill_color": "yellow",
            "opacity": 1,
            "weight": 4
           },
           "turbid_label": "clear",
           "type": "shoreline"
          },
          "type": "Feature"
         },
         {
          "geometry": {
           "coordinates": [
            [
             -124.16259300599995,
             40.87027067100007
            ],
            [
             -124.16238196399996,
             40.87056636400007
            ],
            [
             -124.16205675199996,
             40.871097760000055
            ],
            [
             -124.16178549799997,
             40.87145211700005
            ],
            [
             -124.16156997299998,
             40.871727458000066
            ],
            [
             -124.161351707,
             40.87216367700006
            ],
            [
             -124.16132671199995,
             40.87221953200003
            ],
            [
             -124.16130875599998,
             40.87228242200007
            ],
            [
             -124.16129565399996,
             40.87235017000006
            ],
            [
             -124.16128556899997,
             40.87242093200007
            ],
            [
             -124.16126805599998,
             40.87256511700008
            ],
            [
             -124.161257563,
             40.87263547200007
            ],
            [
             -124.16124370999995,
             40.87270246800006
            ],
            [
             -124.16122454199996,
             40.872764149000034
            ],
            [
             -124.16119770599994,
             40.872818161000055
            ],
            [
             -124.16116826599995,
             40.87285609500003
            ],
            [
             -124.16097883699996,
             40.873070909000035
            ],
            [
             -124.16076148499997,
             40.87334443300006
            ],
            [
             -124.160541546,
             40.87377906100005
            ],
            [
             -124.16051785899998,
             40.87383239800005
            ],
            [
             -124.16050098999995,
             40.873892556000044
            ],
            [
             -124.16048917899997,
             40.87395778200005
            ],
            [
             -124.16048101599995,
             40.87402666200006
            ],
            [
             -124.16047534899997,
             40.87409805200008
            ],
            [
             -124.16045995699994,
             40.87439105100003
            ],
            [
             -124.16045386399998,
             40.874462116000075
            ],
            [
             -124.160445026,
             40.874530469000035
            ],
            [
             -124.16043220799997,
             40.874594881000064
            ],
            [
             -124.16041387499996,
             40.87465382200003
            ],
            [
             -124.16038810699996,
             40.874705379000034
            ],
            [
             -124.16035843199995,
             40.874743410000065
            ],
            [
             -124.16016592499994,
             40.874958108000044
            ],
            [
             -124.16003086699999,
             40.87509456400005
            ],
            [
             -124.16000124199996,
             40.875132422000036
            ],
            [
             -124.15997471699995,
             40.875186358000065
            ],
            [
             -124.15995675699997,
             40.875247975000036
            ],
            [
             -124.15994546699994,
             40.875314907000075
            ],
            [
             -124.15993952999997,
             40.875385178000045
            ],
            [
             -124.15993813699998,
             40.875457064000045
            ],
            [
             -124.15994093499995,
             40.87552897300003
            ],
            [
             -124.15994798999998,
             40.87559930900005
            ],
            [
             -124.15995979799999,
             40.87566635300004
            ],
            [
             -124.15997725799997,
             40.87572812500008
            ],
            [
             -124.16000172399998,
             40.87578225900006
            ],
            [
             -124.16002791299996,
             40.875820307000026
            ],
            [
             -124.16008359899996,
             40.87588657400005
            ],
            [
             -124.16010558999994,
             40.87592043200004
            ],
            [
             -124.16011920399995,
             40.87595764900004
            ],
            [
             -124.160124199,
             40.875996901000065
            ],
            [
             -124.16012075099997,
             40.87603607800003
            ],
            [
             -124.16010859099998,
             40.876073062000046
            ],
            [
             -124.1599086,
             40.87648977300006
            ],
            [
             -124.15988729099996,
             40.87653324000007
            ]
           ],
           "type": "LineString"
          },
          "id": "12",
          "properties": {
           "CSU_ID": 20304,
           "ERODIBILITY": "High",
           "MEAN_SIG_WAVEHEIGHT": 2.305355,
           "TIDAL_RANGE": 2.983468,
           "river_label": "moderate river discharge",
           "sinuosity_label": "straight",
           "slope": null,
           "slope_label": "sloping",
           "style": {
            "color": "yellow",
            "dashArray": "5",
            "fillOpacity": 0.5,
            "fill_color": "yellow",
            "opacity": 1,
            "weight": 4
           },
           "turbid_label": "turbid",
           "type": "shoreline"
          },
          "type": "Feature"
         },
         {
          "geometry": {
           "coordinates": [
            [
             -124.15988729099996,
             40.87653324000007
            ],
            [
             -124.15961346399996,
             40.87709180000007
            ],
            [
             -124.159585484,
             40.87714117500008
            ],
            [
             -124.15955475699997,
             40.87717770300003
            ],
            [
             -124.15936185499999,
             40.877363915000046
            ],
            [
             -124.15933012699998,
             40.87738634900006
            ],
            [
             -124.15929424299998,
             40.877399608000076
            ],
            [
             -124.15925587399994,
             40.877403865000076
            ],
            [
             -124.15921742399996,
             40.877399670000045
            ],
            [
             -124.15918128899995,
             40.87738714000005
            ],
            [
             -124.159149104,
             40.87736682100007
            ],
            [
             -124.15908943199997,
             40.87731773200005
            ],
            [
             -124.15905723299994,
             40.87729739200006
            ],
            [
             -124.15902107699998,
             40.87728482700004
            ],
            [
             -124.15898260399996,
             40.877280591000044
            ],
            [
             -124.15894422099996,
             40.87728480800007
            ],
            [
             -124.15890834199996,
             40.87729803700006
            ],
            [
             -124.158876653,
             40.877320471000075
            ],
            [
             -124.15868669899999,
             40.87750911000006
            ],
            [
             -124.15865753299994,
             40.877547046000075
            ],
            [
             -124.15863103999999,
             40.87760156400003
            ],
            [
             -124.15861219899995,
             40.877664055000025
            ],
            [
             -124.15859862999997,
             40.877731984000036
            ],
            [
             -124.15858834499994,
             40.877803260000064
            ],
            [
             -124.15857086399996,
             40.87794886000006
            ],
            [
             -124.15856048199998,
             40.87801994000006
            ],
            [
             -124.15854675899999,
             40.878087606000065
            ],
            [
             -124.15852772099998,
             40.87814988900004
            ],
            [
             -124.15850100299997,
             40.87820442300006
            ],
            [
             -124.15847165399998,
             40.87824273700005
            ],
            [
             -124.15828316299996,
             40.87845953000004
            ],
            [
             -124.15815077299999,
             40.87859692300003
            ],
            [
             -124.15812137699999,
             40.878634945000044
            ],
            [
             -124.158094587,
             40.87868904800007
            ],
            [
             -124.15807545799998,
             40.87875080200007
            ],
            [
             -124.158061627,
             40.87881784600006
            ],
            [
             -124.15805111499998,
             40.87888820500007
            ],
            [
             -124.15803330699998,
             40.87903212500004
            ],
            [
             -124.15802282599998,
             40.87910250300007
            ],
            [
             -124.15800903899998,
             40.87916957300007
            ],
            [
             -124.15798997199994,
             40.87923136100005
            ],
            [
             -124.15796325599996,
             40.87928549800006
            ],
            [
             -124.15793392599994,
             40.879323544000044
            ],
            [
             -124.15774523199997,
             40.87953910400006
            ],
            [
             -124.15752908399998,
             40.87981382300006
            ],
            [
             -124.157257389,
             40.880350613000076
            ],
            [
             -124.15703906899995,
             40.88078677800007
            ],
            [
             -124.15701536399996,
             40.88084007200007
            ],
            [
             -124.15699848999998,
             40.88090019600003
            ],
            [
             -124.15698669799997,
             40.88096540500004
            ],
            [
             -124.15697858199997,
             40.881034287000034
            ],
            [
             -124.15697299699997,
             40.881105699000045
            ],
            [
             -124.15695832199998,
             40.88139901900007
            ],
            [
             -124.15695252699999,
             40.881470222000075
            ],
            [
             -124.15694403499998,
             40.881538729000056
            ],
            [
             -124.15693161099995,
             40.88160330300008
            ],
            [
             -124.15691371599996,
             40.88166240600003
            ],
            [
             -124.15688841499997,
             40.881714104000025
            ],
            [
             -124.15685915599994,
             40.88175221900008
            ],
            [
             -124.15666690599994,
             40.881964211000025
            ],
            [
             -124.156634753,
             40.88199943200004
            ],
            [
             -124.156598439,
             40.882030490000034
            ],
            [
             -124.15652090099996,
             40.882087700000056
            ],
            [
             -124.15648458599998,
             40.882118760000026
            ],
            [
             -124.156452436,
             40.88215398400007
            ],
            [
             -124.15634659699998,
             40.88227073300004
            ]
           ],
           "type": "LineString"
          },
          "id": "13",
          "properties": {
           "CSU_ID": 19802,
           "ERODIBILITY": "High",
           "MEAN_SIG_WAVEHEIGHT": 2.305355,
           "TIDAL_RANGE": 2.983468,
           "river_label": "moderate river discharge",
           "sinuosity_label": "straight",
           "slope": null,
           "slope_label": "flat",
           "style": {
            "color": "yellow",
            "dashArray": "5",
            "fillOpacity": 0.5,
            "fill_color": "yellow",
            "opacity": 1,
            "weight": 4
           },
           "turbid_label": "turbid",
           "type": "shoreline"
          },
          "type": "Feature"
         },
         {
          "geometry": {
           "coordinates": [
            [
             -124.15841834899999,
             40.879638502000034
            ],
            [
             -124.15838015299994,
             40.879634569000075
            ],
            [
             -124.15836270799997,
             40.87963067700008
            ],
            [
             -124.15834711899998,
             40.879624861000025
            ],
            [
             -124.15833417999994,
             40.87961637700005
            ],
            [
             -124.15832457599998,
             40.87960457300005
            ],
            [
             -124.158317792,
             40.87958998000005
            ],
            [
             -124.15831313999996,
             40.87957298200007
            ],
            [
             -124.158310127,
             40.879551578000076
            ],
            [
             -124.15830843599997,
             40.87952648400005
            ],
            [
             -124.15830788,
             40.87947104700004
            ],
            [
             -124.158311374,
             40.879364140000064
            ],
            [
             -124.15841828199996,
             40.879360646000066
            ],
            [
             -124.15847371799998,
             40.87936120100005
            ],
            [
             -124.15849881399998,
             40.87936289100003
            ],
            [
             -124.15852021799998,
             40.87936590600003
            ],
            [
             -124.15853721499997,
             40.87937055700007
            ],
            [
             -124.15855180699998,
             40.879377341000065
            ],
            [
             -124.15856361299996,
             40.87938694600007
            ],
            [
             -124.15857209599994,
             40.879399884000065
            ],
            [
             -124.15857791099995,
             40.87941547300005
            ],
            [
             -124.158581804,
             40.87943291800008
            ],
            [
             -124.15858573699995,
             40.87947111500006
            ],
            [
             -124.15858618099998,
             40.879511053000044
            ],
            [
             -124.15858343399998,
             40.87955016400008
            ],
            [
             -124.15858048099994,
             40.87956856100004
            ],
            [
             -124.158576031,
             40.87958560800007
            ],
            [
             -124.15856957199998,
             40.879600725000046
            ],
            [
             -124.15856040299997,
             40.87961316800005
            ],
            [
             -124.15854795999996,
             40.87962233700006
            ],
            [
             -124.15853284399998,
             40.879628797000066
            ],
            [
             -124.15851579599996,
             40.879633246000026
            ],
            [
             -124.15849739899994,
             40.87963619900006
            ],
            [
             -124.15845828799996,
             40.87963894600006
            ],
            [
             -124.15841834899999,
             40.879638502000034
            ]
           ],
           "type": "LineString"
          },
          "id": "14",
          "properties": {
           "CSU_ID": 19802,
           "ERODIBILITY": "High",
           "MEAN_SIG_WAVEHEIGHT": 2.305355,
           "TIDAL_RANGE": 2.983468,
           "river_label": "moderate river discharge",
           "sinuosity_label": "straight",
           "slope": null,
           "slope_label": "flat",
           "style": {
            "color": "yellow",
            "dashArray": "5",
            "fillOpacity": 0.5,
            "fill_color": "yellow",
            "opacity": 1,
            "weight": 4
           },
           "turbid_label": "turbid",
           "type": "shoreline"
          },
          "type": "Feature"
         },
         {
          "geometry": {
           "coordinates": [
            [
             -124.15634659699998,
             40.88227073300004
            ],
            [
             -124.15626022199996,
             40.882366012000034
            ],
            [
             -124.15623097599996,
             40.88240413900007
            ],
            [
             -124.15620569099997,
             40.88245585300007
            ],
            [
             -124.15618781799998,
             40.88251497700003
            ],
            [
             -124.15617541999995,
             40.88257957800005
            ],
            [
             -124.15616695999995,
             40.88264811700003
            ],
            [
             -124.15616120199996,
             40.88271935800003
            ],
            [
             -124.15614677899998,
             40.883012929000074
            ],
            [
             -124.15614128799996,
             40.88308443600005
            ],
            [
             -124.15613327999995,
             40.88315342900006
            ],
            [
             -124.15612161499996,
             40.88321876400005
            ],
            [
             -124.15610488399994,
             40.883279033000065
            ],
            [
             -124.15608133599994,
             40.88333248500004
            ],
            [
             -124.15584084199998,
             40.88382354200007
            ],
            [
             -124.15581269999996,
             40.88387241800007
            ],
            [
             -124.15578180999995,
             40.883908922000046
            ],
            [
             -124.15555582999997,
             40.88415489100004
            ],
            [
             -124.155519788,
             40.88418631600007
            ],
            [
             -124.15544280399996,
             40.88424432200003
            ],
            [
             -124.15540672499998,
             40.884275770000045
            ],
            [
             -124.15517968299997,
             40.88452241600004
            ],
            [
             -124.15514850599999,
             40.88455909000004
            ],
            [
             -124.15511999399996,
             40.884608179000054
            ],
            [
             -124.154878968,
             40.88509626900003
            ],
            [
             -124.15485776699995,
             40.885146889000055
            ],
            [
             -124.15484489599999,
             40.885202900000024
            ],
            [
             -124.15483922599998,
             40.88526201500008
            ],
            [
             -124.15484018199999,
             40.88532212400003
            ],
            [
             -124.15484770599994,
             40.88538118200006
            ],
            [
             -124.15486226299998,
             40.88543707800005
            ],
            [
             -124.15488483499996,
             40.885487529000045
            ],
            [
             -124.15491148999996,
             40.885526036000044
            ],
            [
             -124.15497188999996,
             40.88559699100006
            ],
            [
             -124.15499848999997,
             40.88563544100003
            ],
            [
             -124.15502095699998,
             40.88568578700006
            ],
            [
             -124.15503536899996,
             40.88574153900004
            ],
            [
             -124.15504272199996,
             40.88580042500007
            ],
            [
             -124.15504349399998,
             40.885860352000066
            ],
            [
             -124.15503765699998,
             40.88591929800003
            ],
            [
             -124.15502466799995,
             40.88597519000007
            ],
            [
             -124.15479055699996,
             40.88664676900004
            ],
            [
             -124.15464348299997,
             40.88694654200003
            ],
            [
             -124.15455851499996,
             40.88717215300005
            ],
            [
             -124.15452757271406,
             40.887263
            ]
           ],
           "type": "LineString"
          },
          "id": "15",
          "properties": {
           "CSU_ID": 19802,
           "ERODIBILITY": "High",
           "MEAN_SIG_WAVEHEIGHT": 2.305355,
           "TIDAL_RANGE": 2.983468,
           "river_label": "moderate river discharge",
           "sinuosity_label": "straight",
           "slope": null,
           "slope_label": "flat",
           "style": {
            "color": "yellow",
            "dashArray": "5",
            "fillOpacity": 0.5,
            "fill_color": "yellow",
            "opacity": 1,
            "weight": 4
           },
           "turbid_label": "turbid",
           "type": "shoreline"
          },
          "type": "Feature"
         }
        ],
        "type": "FeatureCollection"
       },
       "hover_style": {
        "color": "white",
        "dashArray": "4",
        "fillOpacity": 0.7
       },
       "name": "shoreline",
       "style": {
        "color": "yellow",
        "dashArray": "5",
        "fillOpacity": 0.5,
        "fill_color": "yellow",
        "opacity": 1,
        "weight": 4
       }
      }
     },
     "d4e97663368d4dab9cdcd196ccd2df87": {
      "model_module": "jupyter-leaflet",
      "model_module_version": "^0.17.0",
      "model_name": "LeafletMapStyleModel",
      "state": {
       "_model_module_version": "^0.17.0",
       "cursor": "default"
      }
     },
     "d580ce001e264b91a8fb439838956f70": {
      "model_module": "jupyter-leaflet",
      "model_module_version": "^0.17.0",
      "model_name": "LeafletWMSLayerModel",
      "state": {
       "_model_module_version": "^0.17.0",
       "_view_module_version": "^0.17.0",
       "attribution": "USGS",
       "crs": {
        "custom": false,
        "name": "EPSG3857"
       },
       "format": "image/png",
       "layers": "33DEPElevation:Hillshade Elevation Tinted",
       "name": "USGS 3DEP Elevation",
       "options": [
        "attribution",
        "bounds",
        "detect_retina",
        "format",
        "layers",
        "max_native_zoom",
        "max_zoom",
        "min_native_zoom",
        "min_zoom",
        "no_wrap",
        "styles",
        "tile_size",
        "tms",
        "transparent",
        "uppercase"
       ],
       "transparent": true,
       "url": "https://elevation.nationalmap.gov/arcgis/services/3DEPElevation/ImageServer/WMSServer?"
      }
     },
     "d58a0aa0091a47af960283e0e3e9ac56": {
      "model_module": "@jupyter-widgets/controls",
      "model_module_version": "1.5.0",
      "model_name": "DescriptionStyleModel",
      "state": {
       "description_width": ""
      }
     },
     "d5a15573870f4b06b8a6913d422ddc8c": {
      "model_module": "@jupyter-widgets/controls",
      "model_module_version": "1.5.0",
      "model_name": "DescriptionStyleModel",
      "state": {
       "description_width": ""
      }
     },
     "d5b84533ff2f4324a655edd517fb54b1": {
      "model_module": "jupyter-leaflet",
      "model_module_version": "^0.17.0",
      "model_name": "LeafletWMSLayerModel",
      "state": {
       "_model_module_version": "^0.17.0",
       "_view_module_version": "^0.17.0",
       "attribution": "FWS",
       "crs": {
        "custom": false,
        "name": "EPSG3857"
       },
       "format": "image/png",
       "layers": "1",
       "name": "FWS NWI Wetlands",
       "options": [
        "attribution",
        "bounds",
        "detect_retina",
        "format",
        "layers",
        "max_native_zoom",
        "max_zoom",
        "min_native_zoom",
        "min_zoom",
        "no_wrap",
        "styles",
        "tile_size",
        "tms",
        "transparent",
        "uppercase"
       ],
       "transparent": true,
       "url": "https://www.fws.gov/wetlands/arcgis/services/Wetlands/MapServer/WMSServer?"
      }
     },
     "d61abdf823d54c7cbe2553b0a5ee012a": {
      "model_module": "@jupyter-widgets/base",
      "model_module_version": "1.2.0",
      "model_name": "LayoutModel",
      "state": {}
     },
     "d6a96176286842809ce6f82a0dcbff5f": {
      "model_module": "@jupyter-widgets/base",
      "model_module_version": "1.2.0",
      "model_name": "LayoutModel",
      "state": {
       "height": "auto",
       "padding": "0px 0px 0px 4px",
       "width": "auto"
      }
     },
     "d733cbea912a4bda9ff9cea4a0d64e3d": {
      "model_module": "jupyter-leaflet",
      "model_module_version": "^0.17.0",
      "model_name": "LeafletTileLayerModel",
      "state": {
       "_model_module_version": "^0.17.0",
       "_view_module_version": "^0.17.0",
       "attribution": "Datenquelle: basemap.at",
       "max_zoom": 19,
       "name": "BasemapAT.surface",
       "options": [
        "attribution",
        "bounds",
        "detect_retina",
        "max_native_zoom",
        "max_zoom",
        "min_native_zoom",
        "min_zoom",
        "no_wrap",
        "tile_size",
        "tms"
       ],
       "url": "https://maps.wien.gv.at/basemap/bmapoberflaeche/grau/google3857/{z}/{y}/{x}.jpeg"
      }
     },
     "d801c774e97f46f085fa0ec7c242c670": {
      "model_module": "@jupyter-widgets/controls",
      "model_module_version": "1.5.0",
      "model_name": "ButtonStyleModel",
      "state": {
       "button_color": "#ae3cf0"
      }
     },
     "d822f3ad3fa9483db96916d8d5437f66": {
      "model_module": "@jupyter-widgets/controls",
      "model_module_version": "1.5.0",
      "model_name": "DescriptionStyleModel",
      "state": {
       "description_width": ""
      }
     },
     "d842e3c56aed416dbf63497121d36225": {
      "model_module": "@jupyter-widgets/base",
      "model_module_version": "1.2.0",
      "model_name": "LayoutModel",
      "state": {}
     },
     "d8af880b9774442d9b8d6e0a4b1085a9": {
      "model_module": "@jupyter-widgets/controls",
      "model_module_version": "1.5.0",
      "model_name": "DescriptionStyleModel",
      "state": {
       "description_width": ""
      }
     },
     "d9084b05506c418b8a36fd4098f693cb": {
      "model_module": "@jupyter-widgets/controls",
      "model_module_version": "1.5.0",
      "model_name": "ButtonModel",
      "state": {
       "description": "Load bbox from file",
       "layout": "IPY_MODEL_e44da4af389d4d88afe2cc47ae29439b",
       "style": "IPY_MODEL_8f822f4b06424a2a8bbdb81271c04c3d"
      }
     },
     "d942161a3f584d0f9ac2423b34eaff65": {
      "model_module": "jupyter-leaflet",
      "model_module_version": "^0.17.0",
      "model_name": "LeafletTileLayerModel",
      "state": {
       "_model_module_version": "^0.17.0",
       "_view_module_version": "^0.17.0",
       "attribution": "(C) OpenStreetMap contributors, Tiles style by Humanitarian OpenStreetMap Team hosted by OpenStreetMap France",
       "max_zoom": 19,
       "name": "OpenStreetMap.HOT",
       "options": [
        "attribution",
        "bounds",
        "detect_retina",
        "max_native_zoom",
        "max_zoom",
        "min_native_zoom",
        "min_zoom",
        "no_wrap",
        "tile_size",
        "tms"
       ],
       "url": "https://a.tile.openstreetmap.fr/hot/{z}/{x}/{y}.png"
      }
     },
     "d955bc388b6d4ee58e691ca83fbe1c54": {
      "model_module": "@jupyter-widgets/controls",
      "model_module_version": "1.5.0",
      "model_name": "ButtonStyleModel",
      "state": {
       "button_color": "red"
      }
     },
     "d9647016b95f4b9eb8d5997881ad631c": {
      "model_module": "jupyter-leaflet",
      "model_module_version": "^0.17.0",
      "model_name": "LeafletTileLayerModel",
      "state": {
       "_model_module_version": "^0.17.0",
       "_view_module_version": "^0.17.0",
       "attribution": "Map data: (C) OpenStreetMap contributors | Map style: (C) OpenRailwayMap (CC-BY-SA)",
       "max_zoom": 19,
       "name": "OpenRailwayMap",
       "options": [
        "attribution",
        "bounds",
        "detect_retina",
        "max_native_zoom",
        "max_zoom",
        "min_native_zoom",
        "min_zoom",
        "no_wrap",
        "tile_size",
        "tms"
       ],
       "url": "https://a.tiles.openrailwaymap.org/standard/{z}/{x}/{y}.png"
      }
     },
     "d99b73f3e7e1493e9c72a3bd7888f797": {
      "model_module": "@jupyter-widgets/controls",
      "model_module_version": "1.5.0",
      "model_name": "HBoxModel",
      "state": {
       "children": [
        "IPY_MODEL_6188ebf186a84215ac9db4673f2c3ecb",
        "IPY_MODEL_997aacc703754254a56068da5e149bd2",
        "IPY_MODEL_b62491eb2e4e493d85db84e47ee1d2ef"
       ],
       "layout": "IPY_MODEL_de290878f97f4e5dbacbc2e8e8f2001f"
      }
     },
     "d9ceb778e2184143bb46b2d4f522b479": {
      "model_module": "@jupyter-widgets/controls",
      "model_module_version": "1.5.0",
      "model_name": "VBoxModel",
      "state": {
       "children": [
        "IPY_MODEL_9652fc01c3ed4cabaec55ed207587757",
        "IPY_MODEL_6b7030b45b774be08cf0f00f5c7c3284",
        "IPY_MODEL_538d37776d994e0b8771bf7163ae6b80",
        "IPY_MODEL_50dc933a7111463297baf872c1bcb4da",
        "IPY_MODEL_f25e4e8f1648413ba9eacfab4851a748"
       ],
       "layout": "IPY_MODEL_dbe97e8d5ec84134b12248c9cd90659d"
      }
     },
     "da3f5c83d78f43e98df76bb2168105a1": {
      "model_module": "@jupyter-widgets/base",
      "model_module_version": "1.2.0",
      "model_name": "LayoutModel",
      "state": {}
     },
     "db1a3c9ee531455daa8c04a95d711954": {
      "model_module": "@jupyter-widgets/base",
      "model_module_version": "1.2.0",
      "model_name": "LayoutModel",
      "state": {
       "height": "auto",
       "padding": "0px 0px 0px 4px",
       "width": "auto"
      }
     },
     "db3deadea03f48658e2f03c0284d027f": {
      "model_module": "@jupyter-widgets/controls",
      "model_module_version": "1.5.0",
      "model_name": "ToggleButtonModel",
      "state": {
       "button_style": "primary",
       "icon": "fast-forward",
       "layout": "IPY_MODEL_0c7395f20c814990ad3997597133eb12",
       "style": "IPY_MODEL_dec618451004454ebcccbc4139edfeeb",
       "tooltip": "Activate the time slider"
      }
     },
     "db794238fc724763bc6d048ef5728c45": {
      "model_module": "@jupyter-widgets/controls",
      "model_module_version": "1.5.0",
      "model_name": "VBoxModel",
      "state": {
       "children": [
        "IPY_MODEL_546a72d270a544abb9f86d289cedc2aa",
        "IPY_MODEL_449f19995dc54ce7a5f72060197f8d24"
       ],
       "layout": "IPY_MODEL_338ea0043b0045d998e9d845847da1f3"
      }
     },
     "dbe97e8d5ec84134b12248c9cd90659d": {
      "model_module": "@jupyter-widgets/base",
      "model_module_version": "1.2.0",
      "model_name": "LayoutModel",
      "state": {}
     },
     "dc4c8aef422d4a08bed0a1656bbd669b": {
      "model_module": "jupyter-leaflet",
      "model_module_version": "^0.17.0",
      "model_name": "LeafletTileLayerModel",
      "state": {
       "_model_module_version": "^0.17.0",
       "_view_module_version": "^0.17.0",
       "attribution": "Map tiles by Stamen Design, CC BY 3.0 -- Map data (C) OpenStreetMap contributors",
       "max_zoom": 20,
       "name": "Stamen.TopOSMRelief",
       "options": [
        "attribution",
        "bounds",
        "detect_retina",
        "max_native_zoom",
        "max_zoom",
        "min_native_zoom",
        "min_zoom",
        "no_wrap",
        "tile_size",
        "tms"
       ],
       "url": "https://stamen-tiles-a.a.ssl.fastly.net/toposm-color-relief/{z}/{x}/{y}.jpg"
      }
     },
     "dddd237ae685497ead8845bedfff36ee": {
      "model_module": "@jupyter-widgets/controls",
      "model_module_version": "1.5.0",
      "model_name": "HTMLModel",
      "state": {
       "layout": "IPY_MODEL_2baa7f2c2cd64e7db14c182174b69cd8",
       "style": "IPY_MODEL_19f35d68b8ed4aa4b62966352927a708",
       "value": " 2/2 [00:24&lt;00:00, 12.10s/it]"
      }
     },
     "ddf28efad47445db8411aefd41dc1862": {
      "model_module": "@jupyter-widgets/base",
      "model_module_version": "1.2.0",
      "model_name": "LayoutModel",
      "state": {}
     },
     "de290878f97f4e5dbacbc2e8e8f2001f": {
      "model_module": "@jupyter-widgets/base",
      "model_module_version": "1.2.0",
      "model_name": "LayoutModel",
      "state": {}
     },
     "de6b5274ebab47178d7c6e583d0350de": {
      "model_module": "jupyter-leaflet",
      "model_module_version": "^0.17.0",
      "model_name": "LeafletTileLayerModel",
      "state": {
       "_model_module_version": "^0.17.0",
       "_view_module_version": "^0.17.0",
       "attribution": "Imagery provided by services from the Global Imagery Browse Services (GIBS), operated by the NASA/GSFC/Earth Science Data and Information System (ESDIS) with funding provided by NASA/HQ.",
       "max_zoom": 6,
       "name": "NASAGIBS.ModisTerraAOD",
       "options": [
        "attribution",
        "bounds",
        "detect_retina",
        "max_native_zoom",
        "max_zoom",
        "min_native_zoom",
        "min_zoom",
        "no_wrap",
        "tile_size",
        "tms"
       ],
       "url": "https://map1.vis.earthdata.nasa.gov/wmts-webmerc/MODIS_Terra_Aerosol/default//GoogleMapsCompatible_Level6/{z}/{y}/{x}.png"
      }
     },
     "de76af5b4acd4735af911f0d17bdf153": {
      "model_module": "@jupyter-widgets/controls",
      "model_module_version": "1.5.0",
      "model_name": "DescriptionStyleModel",
      "state": {
       "description_width": ""
      }
     },
     "dec618451004454ebcccbc4139edfeeb": {
      "model_module": "@jupyter-widgets/controls",
      "model_module_version": "1.5.0",
      "model_name": "DescriptionStyleModel",
      "state": {
       "description_width": ""
      }
     },
     "def3f27fbb4146a28b566c46e173d02b": {
      "model_module": "@jupyter-widgets/controls",
      "model_module_version": "1.5.0",
      "model_name": "ToggleButtonModel",
      "state": {
       "button_style": "primary",
       "icon": "question",
       "layout": "IPY_MODEL_8ff0666e0ae9403d97a20c3731c37723",
       "style": "IPY_MODEL_f51b4d1e98db4cae8c6153bf90341664",
       "tooltip": "Get help"
      }
     },
     "e03fe6dd0ab447078db1e05e3a4b1fe0": {
      "model_module": "jupyter-leaflet",
      "model_module_version": "^0.17.0",
      "model_name": "LeafletMapStyleModel",
      "state": {
       "_model_module_version": "^0.17.0",
       "cursor": "wait"
      }
     },
     "e16c1abb8791410dbe3012cab414f417": {
      "model_module": "@jupyter-widgets/controls",
      "model_module_version": "1.5.0",
      "model_name": "HTMLModel",
      "state": {
       "layout": "IPY_MODEL_628421440f4c43ce834da0af548b25d1",
       "style": "IPY_MODEL_52bfe07ac65f4d80a5ad3f10b10e002e",
       "value": "Hover over the shoreline."
      }
     },
     "e22dce2de6114ac2a5429aece74c0699": {
      "model_module": "@jupyter-widgets/base",
      "model_module_version": "1.2.0",
      "model_name": "LayoutModel",
      "state": {}
     },
     "e22f2ef4d26f42b8b2329e62f82be88c": {
      "model_module": "@jupyter-widgets/base",
      "model_module_version": "1.2.0",
      "model_name": "LayoutModel",
      "state": {}
     },
     "e29e533bc47b4addbae9f4d525f2ff2e": {
      "model_module": "jupyter-leaflet",
      "model_module_version": "^0.17.0",
      "model_name": "LeafletTileLayerModel",
      "state": {
       "_model_module_version": "^0.17.0",
       "_view_module_version": "^0.17.0",
       "attribution": "© swisstopo",
       "name": "SwissFederalGeoportal.JourneyThroughTime",
       "options": [
        "attribution",
        "bounds",
        "detect_retina",
        "max_native_zoom",
        "max_zoom",
        "min_native_zoom",
        "min_zoom",
        "no_wrap",
        "tile_size",
        "tms"
       ],
       "url": "https://wmts.geo.admin.ch/1.0.0/ch.swisstopo.zeitreihen/default/18641231/3857/{z}/{x}/{y}.png"
      }
     },
     "e40771ba0fdb40ca89d369b49766a449": {
      "model_module": "jupyter-leaflet",
      "model_module_version": "^0.17.0",
      "model_name": "LeafletTileLayerModel",
      "state": {
       "_model_module_version": "^0.17.0",
       "_view_module_version": "^0.17.0",
       "attribution": "(C) OpenStreetMap contributors",
       "max_zoom": 15,
       "name": "HikeBike.HillShading",
       "options": [
        "attribution",
        "bounds",
        "detect_retina",
        "max_native_zoom",
        "max_zoom",
        "min_native_zoom",
        "min_zoom",
        "no_wrap",
        "tile_size",
        "tms"
       ],
       "url": "https://tiles.wmflabs.org/hillshading/{z}/{x}/{y}.png"
      }
     },
     "e4417c548ce942fe92ee29084332162c": {
      "model_module": "@jupyter-widgets/controls",
      "model_module_version": "1.5.0",
      "model_name": "HBoxModel",
      "state": {
       "children": [
        "IPY_MODEL_43cfb3b296b343d6ac23828a1a7b8b18"
       ],
       "layout": "IPY_MODEL_cd020459ad9b4c38b734017fcdd4a374"
      }
     },
     "e44da4af389d4d88afe2cc47ae29439b": {
      "model_module": "@jupyter-widgets/base",
      "model_module_version": "1.2.0",
      "model_name": "LayoutModel",
      "state": {}
     },
     "e4957e2c5eda4195ac926d79331c6451": {
      "model_module": "@jupyter-widgets/controls",
      "model_module_version": "1.5.0",
      "model_name": "ButtonModel",
      "state": {
       "description": "Save shorelines",
       "layout": "IPY_MODEL_e22f2ef4d26f42b8b2329e62f82be88c",
       "style": "IPY_MODEL_e524e6d4e2a64d1e8d8872250139a655"
      }
     },
     "e524e6d4e2a64d1e8d8872250139a655": {
      "model_module": "@jupyter-widgets/controls",
      "model_module_version": "1.5.0",
      "model_name": "ButtonStyleModel",
      "state": {
       "button_color": "#50bf8f"
      }
     },
     "e59da55349344add88ff9cded397bbee": {
      "model_module": "@jupyter-widgets/controls",
      "model_module_version": "1.5.0",
      "model_name": "ProgressStyleModel",
      "state": {
       "description_width": ""
      }
     },
     "e5abcf0e6daa4817aee022e583b51377": {
      "model_module": "ipyevents",
      "model_module_version": "2.0.1",
      "model_name": "EventModel",
      "state": {
       "_supported_key_events": [
        "keydown",
        "keyup"
       ],
       "_supported_mouse_events": [
        "click",
        "auxclick",
        "dblclick",
        "mouseenter",
        "mouseleave",
        "mousedown",
        "mouseup",
        "mousemove",
        "wheel",
        "contextmenu",
        "dragstart",
        "drag",
        "dragend",
        "dragenter",
        "dragover",
        "dragleave",
        "drop"
       ],
       "_supported_touch_events": [
        "touchstart",
        "touchend",
        "touchmove",
        "touchcancel"
       ],
       "_view_module": "@jupyter-widgets/controls",
       "_view_module_version": "1.5.0",
       "source": "IPY_MODEL_9c3e0788b0a74351bdcfb90e9e6b9786",
       "throttle_or_debounce": "",
       "watched_events": [
        "mouseenter",
        "mouseleave"
       ],
       "xy_coordinate_system": ""
      }
     },
     "e62d5c3227844323b727885875d10e3f": {
      "model_module": "@jupyter-widgets/base",
      "model_module_version": "1.2.0",
      "model_name": "LayoutModel",
      "state": {}
     },
     "e65bfedef59a4ff4a81ea470a4e32f3e": {
      "model_module": "@jupyter-widgets/controls",
      "model_module_version": "1.5.0",
      "model_name": "ProgressStyleModel",
      "state": {
       "description_width": ""
      }
     },
     "e6f6c67064c84528b6d55575172572e4": {
      "model_module": "jupyter-leaflet",
      "model_module_version": "^0.17.0",
      "model_name": "LeafletTileLayerModel",
      "state": {
       "_model_module_version": "^0.17.0",
       "_view_module_version": "^0.17.0",
       "attribution": "Tiles (C) Esri -- Source: Esri, DeLorme, NAVTEQ, USGS, Intermap, iPC, NRCAN, Esri Japan, METI, Esri China (Hong Kong), Esri (Thailand), TomTom, 2012",
       "max_zoom": 22,
       "name": "Esri.WorldStreetMap",
       "options": [
        "attribution",
        "bounds",
        "detect_retina",
        "max_native_zoom",
        "max_zoom",
        "min_native_zoom",
        "min_zoom",
        "no_wrap",
        "tile_size",
        "tms"
       ],
       "url": "https://server.arcgisonline.com/ArcGIS/rest/services/World_Street_Map/MapServer/tile/{z}/{y}/{x}"
      }
     },
     "e72532f7db13499b8647841f822b45d0": {
      "model_module": "jupyter-leaflet",
      "model_module_version": "^0.17.0",
      "model_name": "LeafletGeoJSONModel",
      "state": {
       "_model_module_version": "^0.17.0",
       "_view_module_version": "^0.17.0",
       "data": {
        "features": [
         {
          "geometry": {
           "coordinates": [
            [
             [
              -124.164869,
              40.863124
             ],
             [
              -124.164869,
              40.894289
             ],
             [
              -124.144508,
              40.894289
             ],
             [
              -124.144508,
              40.863124
             ],
             [
              -124.164869,
              40.863124
             ]
            ]
           ],
           "type": "Polygon"
          },
          "id": "0",
          "properties": {
           "style": {
            "color": "#75b671",
            "fillOpacity": 0.1,
            "fill_color": "#75b671",
            "opacity": 1,
            "weight": 1
           }
          },
          "type": "Feature"
         }
        ],
        "type": "FeatureCollection"
       },
       "name": "Bbox",
       "style": {
        "color": "#75b671",
        "fillOpacity": 0.1,
        "fill_color": "#75b671",
        "opacity": 1,
        "weight": 1
       }
      }
     },
     "e7dc0e28cace42acac91b1febbe6d44a": {
      "model_module": "@jupyter-widgets/controls",
      "model_module_version": "1.5.0",
      "model_name": "HTMLModel",
      "state": {
       "layout": "IPY_MODEL_b70b1b1e47044a5483d286bba91c1f5a",
       "style": "IPY_MODEL_d5a15573870f4b06b8a6913d422ddc8c",
       "value": "Saving settings: 100%"
      }
     },
     "e7faa4396c764b8ba5729a713304a639": {
      "model_module": "@jupyter-widgets/controls",
      "model_module_version": "1.5.0",
      "model_name": "DescriptionStyleModel",
      "state": {
       "description_width": ""
      }
     },
     "e9366d19f7d945a2913615e99f0b3378": {
      "model_module": "@jupyter-widgets/controls",
      "model_module_version": "1.5.0",
      "model_name": "ButtonModel",
      "state": {
       "description": "Clear TextBox",
       "layout": "IPY_MODEL_73fd9f0eae4243a2b1fce21f98ad09b7",
       "style": "IPY_MODEL_ba18660b66f44df0bbeca3c88a88a984"
      }
     },
     "e988a4bb7410468d95c6a1e75ad80496": {
      "model_module": "jupyter-leaflet",
      "model_module_version": "^0.17.0",
      "model_name": "LeafletTileLayerModel",
      "state": {
       "_model_module_version": "^0.17.0",
       "_view_module_version": "^0.17.0",
       "attribution": "Tiles (C) Esri -- National Geographic, Esri, DeLorme, NAVTEQ, UNEP-WCMC, USGS, NASA, ESA, METI, NRCAN, GEBCO, NOAA, iPC",
       "max_zoom": 16,
       "name": "Esri.NatGeoWorldMap",
       "options": [
        "attribution",
        "bounds",
        "detect_retina",
        "max_native_zoom",
        "max_zoom",
        "min_native_zoom",
        "min_zoom",
        "no_wrap",
        "tile_size",
        "tms"
       ],
       "url": "https://server.arcgisonline.com/ArcGIS/rest/services/NatGeo_World_Map/MapServer/tile/{z}/{y}/{x}"
      }
     },
     "e9a00fbb4dfa48628a6f2851f110caea": {
      "model_module": "@jupyter-widgets/controls",
      "model_module_version": "1.5.0",
      "model_name": "FloatProgressModel",
      "state": {
       "bar_style": "success",
       "layout": "IPY_MODEL_c568ca78bc2c4192aec0127c5234d72b",
       "max": 2,
       "style": "IPY_MODEL_e59da55349344add88ff9cded397bbee",
       "value": 2
      }
     },
     "e9aba386998941a78ace8c5731683cbb": {
      "model_module": "jupyter-leaflet",
      "model_module_version": "^0.17.0",
      "model_name": "LeafletTileLayerModel",
      "state": {
       "_model_module_version": "^0.17.0",
       "_view_module_version": "^0.17.0",
       "attribution": "Map tiles by <a href=\"https://labs.strava.com/heatmap\">Strava 2021</a>",
       "max_zoom": 15,
       "name": "Strava.Ride",
       "options": [
        "attribution",
        "bounds",
        "detect_retina",
        "max_native_zoom",
        "max_zoom",
        "min_native_zoom",
        "min_zoom",
        "no_wrap",
        "tile_size",
        "tms"
       ],
       "url": "https://heatmap-external-a.strava.com/tiles/ride/hot/{z}/{x}/{y}.png"
      }
     },
     "e9bdf528ed044631a214f91babfee62e": {
      "model_module": "@jupyter-widgets/controls",
      "model_module_version": "1.5.0",
      "model_name": "VBoxModel",
      "state": {
       "children": [
        "IPY_MODEL_cc4fb303051d4c488b13a025a28acb74",
        "IPY_MODEL_41577c4e8c834c55baf7930dc5cb83d3"
       ],
       "layout": "IPY_MODEL_d0029b58c8c446dea9f7e00186534d6d"
      }
     },
     "ea0d4f6f90954842b328c23bd4f4a3c6": {
      "model_module": "jupyter-leaflet",
      "model_module_version": "^0.17.0",
      "model_name": "LeafletTileLayerModel",
      "state": {
       "_model_module_version": "^0.17.0",
       "_view_module_version": "^0.17.0",
       "attribution": "Google",
       "max_zoom": 22,
       "name": "Google Terrain",
       "options": [
        "attribution",
        "bounds",
        "detect_retina",
        "max_native_zoom",
        "max_zoom",
        "min_native_zoom",
        "min_zoom",
        "no_wrap",
        "tile_size",
        "tms"
       ],
       "url": "https://mt1.google.com/vt/lyrs=p&x={x}&y={y}&z={z}"
      }
     },
     "eb22000fa6894746841ed6c1b512ad29": {
      "model_module": "@jupyter-widgets/base",
      "model_module_version": "1.2.0",
      "model_name": "LayoutModel",
      "state": {}
     },
     "eb3c548ad6ca479d8543b89931302ea1": {
      "model_module": "jupyter-leaflet",
      "model_module_version": "^0.17.0",
      "model_name": "LeafletGeoJSONModel",
      "state": {
       "_model_module_version": "^0.17.0",
       "_view_module_version": "^0.17.0",
       "data": {
        "features": [
         {
          "geometry": {
           "coordinates": [
            [
             -124.14972321099998,
             40.865066772000034
            ],
            [
             -124.14977800699995,
             40.86505650000004
            ],
            [
             -124.14984188399995,
             40.86503751600003
            ],
            [
             -124.14989746999998,
             40.86501051600004
            ],
            [
             -124.149936191,
             40.864980769000056
            ],
            [
             -124.15012996899998,
             40.86478698900004
            ],
            [
             -124.15015316699998,
             40.86475481900004
            ],
            [
             -124.15016688999998,
             40.86471854500007
            ],
            [
             -124.15017112199996,
             40.86467986700006
            ],
            [
             -124.15016613999995,
             40.864641230000075
            ],
            [
             -124.15015168199994,
             40.864605072000074
            ],
            [
             -124.15012778,
             40.86457308000007
            ],
            [
             -124.15008339841573,
             40.864529
            ]
           ],
           "type": "LineString"
          },
          "id": "2",
          "properties": {
           "CSU_ID": 80247,
           "ERODIBILITY": "Non",
           "MEAN_SIG_WAVEHEIGHT": 2.305355,
           "TIDAL_RANGE": 2.983468,
           "river_label": "moderate river discharge",
           "sinuosity_label": "sinuous",
           "slope": null,
           "slope_label": "flat",
           "style": {
            "color": "yellow",
            "dashArray": "5",
            "fillOpacity": 0.5,
            "fill_color": "yellow",
            "opacity": 1,
            "weight": 4
           },
           "turbid_label": "clear"
          },
          "type": "Feature"
         },
         {
          "geometry": {
           "coordinates": [
            [
             -124.14792839563039,
             40.864529
            ],
            [
             -124.14797448999997,
             40.864570882000066
            ],
            [
             -124.14800974699995,
             40.86460305300005
            ],
            [
             -124.14804082799998,
             40.86463940500005
            ],
            [
             -124.14809802999997,
             40.86471711300004
            ],
            [
             -124.14812905599996,
             40.864753568000026
            ],
            [
             -124.14837552499995,
             40.86498036100005
            ],
            [
             -124.14841351799998,
             40.865010177000045
            ],
            [
             -124.14846791599996,
             40.865037244000064
            ],
            [
             -124.14853046299999,
             40.86505628200007
            ],
            [
             -124.14859903599995,
             40.86506943200004
            ],
            [
             -124.14867200199996,
             40.86507833400003
            ],
            [
             -124.14874813299997,
             40.86508422400004
            ],
            [
             -124.14882650799996,
             40.86508801700006
            ],
            [
             -124.14898745199997,
             40.86509176900006
            ],
            [
             -124.14915117199996,
             40.865092719000074
            ],
            [
             -124.14931529599994,
             40.86509180400003
            ],
            [
             -124.149477446,
             40.86508809400004
            ],
            [
             -124.14955671799999,
             40.865084327000034
            ],
            [
             -124.14963392399994,
             40.865078467000046
            ],
            [
             -124.14970811499995,
             40.86506960200006
            ],
            [
             -124.14972321099998,
             40.865066772000034
            ]
           ],
           "type": "LineString"
          },
          "id": "3",
          "properties": {
           "CSU_ID": 80259,
           "ERODIBILITY": "Non",
           "MEAN_SIG_WAVEHEIGHT": 2.305355,
           "TIDAL_RANGE": 2.983468,
           "river_label": "moderate river discharge",
           "sinuosity_label": "sinuous",
           "slope": null,
           "slope_label": "flat",
           "style": {
            "color": "yellow",
            "dashArray": "5",
            "fillOpacity": 0.5,
            "fill_color": "yellow",
            "opacity": 1,
            "weight": 4
           },
           "turbid_label": "turbid"
          },
          "type": "Feature"
         },
         {
          "geometry": {
           "coordinates": [
            [
             -124.16560643100728,
             40.864529
            ],
            [
             -124.16560562599994,
             40.864532885000074
            ],
            [
             -124.16559509399997,
             40.86460320100008
            ],
            [
             -124.16557745299997,
             40.86474725700003
            ],
            [
             -124.16556727699998,
             40.864817929000026
            ],
            [
             -124.16555406799995,
             40.86488556900008
            ],
            [
             -124.16553598499996,
             40.864948336000054
            ],
            [
             -124.16551085199995,
             40.86500405000004
            ],
            [
             -124.16529280999998,
             40.86544049400004
            ],
            [
             -124.16515223,
             40.86565603400004
            ],
            [
             -124.16507557299997,
             40.86580074700004
            ],
            [
             -124.16480623299998,
             40.86633989200004
            ],
            [
             -124.16467772099998,
             40.86666374400005
            ],
            [
             -124.16446312199997,
             40.86711325700003
            ],
            [
             -124.16443522399999,
             40.86716235600005
            ],
            [
             -124.16440453299998,
             40.86719903900007
            ],
            [
             -124.164179704,
             40.86744582500006
            ],
            [
             -124.16414381499999,
             40.86747731000003
            ],
            [
             -124.16406716699998,
             40.86753541000007
            ],
            [
             -124.16403127799998,
             40.86756689300006
            ],
            [
             -124.16380638099997,
             40.867813614000056
            ],
            [
             -124.16377567199999,
             40.86785028000003
            ],
            [
             -124.16374774599996,
             40.86789935100006
            ],
            [
             -124.16323902299996,
             40.86893059800008
            ],
            [
             -124.16321393099997,
             40.868986352000036
            ],
            [
             -124.16319588199997,
             40.86904915400004
            ],
            [
             -124.16318270699998,
             40.86911682700003
            ],
            [
             -124.16317256399998,
             40.86918753100008
            ],
            [
             -124.16315498899996,
             40.869331654000064
            ],
            [
             -124.163144494,
             40.869402008000066
            ],
            [
             -124.16313065999998,
             40.86946902100004
            ],
            [
             -124.16311153199996,
             40.86953074100006
            ],
            [
             -124.16308475799997,
             40.86958481600004
            ],
            [
             -124.16305538899996,
             40.869622820000075
            ],
            [
             -124.16259300599995,
             40.87027067100007
            ]
           ],
           "type": "LineString"
          },
          "id": "4",
          "properties": {
           "CSU_ID": 19775,
           "ERODIBILITY": "High",
           "MEAN_SIG_WAVEHEIGHT": 2.305355,
           "TIDAL_RANGE": 2.983468,
           "river_label": "moderate river discharge",
           "sinuosity_label": "straight",
           "slope": null,
           "slope_label": "flat",
           "style": {
            "color": "yellow",
            "dashArray": "5",
            "fillOpacity": 0.5,
            "fill_color": "yellow",
            "opacity": 1,
            "weight": 4
           },
           "turbid_label": "clear"
          },
          "type": "Feature"
         },
         {
          "geometry": {
           "coordinates": [
            [
             -124.16259300599995,
             40.87027067100007
            ],
            [
             -124.16238196399996,
             40.87056636400007
            ],
            [
             -124.16205675199996,
             40.871097760000055
            ],
            [
             -124.16178549799997,
             40.87145211700005
            ],
            [
             -124.16156997299998,
             40.871727458000066
            ],
            [
             -124.161351707,
             40.87216367700006
            ],
            [
             -124.16132671199995,
             40.87221953200003
            ],
            [
             -124.16130875599998,
             40.87228242200007
            ],
            [
             -124.16129565399996,
             40.87235017000006
            ],
            [
             -124.16128556899997,
             40.87242093200007
            ],
            [
             -124.16126805599998,
             40.87256511700008
            ],
            [
             -124.161257563,
             40.87263547200007
            ],
            [
             -124.16124370999995,
             40.87270246800006
            ],
            [
             -124.16122454199996,
             40.872764149000034
            ],
            [
             -124.16119770599994,
             40.872818161000055
            ],
            [
             -124.16116826599995,
             40.87285609500003
            ],
            [
             -124.16097883699996,
             40.873070909000035
            ],
            [
             -124.16076148499997,
             40.87334443300006
            ],
            [
             -124.160541546,
             40.87377906100005
            ],
            [
             -124.16051785899998,
             40.87383239800005
            ],
            [
             -124.16050098999995,
             40.873892556000044
            ],
            [
             -124.16048917899997,
             40.87395778200005
            ],
            [
             -124.16048101599995,
             40.87402666200006
            ],
            [
             -124.16047534899997,
             40.87409805200008
            ],
            [
             -124.16045995699994,
             40.87439105100003
            ],
            [
             -124.16045386399998,
             40.874462116000075
            ],
            [
             -124.160445026,
             40.874530469000035
            ],
            [
             -124.16043220799997,
             40.874594881000064
            ],
            [
             -124.16041387499996,
             40.87465382200003
            ],
            [
             -124.16038810699996,
             40.874705379000034
            ],
            [
             -124.16035843199995,
             40.874743410000065
            ],
            [
             -124.16016592499994,
             40.874958108000044
            ],
            [
             -124.16003086699999,
             40.87509456400005
            ],
            [
             -124.16000124199996,
             40.875132422000036
            ],
            [
             -124.15997471699995,
             40.875186358000065
            ],
            [
             -124.15995675699997,
             40.875247975000036
            ],
            [
             -124.15994546699994,
             40.875314907000075
            ],
            [
             -124.15993952999997,
             40.875385178000045
            ],
            [
             -124.15993813699998,
             40.875457064000045
            ],
            [
             -124.15994093499995,
             40.87552897300003
            ],
            [
             -124.15994798999998,
             40.87559930900005
            ],
            [
             -124.15995979799999,
             40.87566635300004
            ],
            [
             -124.15997725799997,
             40.87572812500008
            ],
            [
             -124.16000172399998,
             40.87578225900006
            ],
            [
             -124.16002791299996,
             40.875820307000026
            ],
            [
             -124.16008359899996,
             40.87588657400005
            ],
            [
             -124.16010558999994,
             40.87592043200004
            ],
            [
             -124.16011920399995,
             40.87595764900004
            ],
            [
             -124.160124199,
             40.875996901000065
            ],
            [
             -124.16012075099997,
             40.87603607800003
            ],
            [
             -124.16010859099998,
             40.876073062000046
            ],
            [
             -124.1599086,
             40.87648977300006
            ],
            [
             -124.15988729099996,
             40.87653324000007
            ]
           ],
           "type": "LineString"
          },
          "id": "5",
          "properties": {
           "CSU_ID": 20304,
           "ERODIBILITY": "High",
           "MEAN_SIG_WAVEHEIGHT": 2.305355,
           "TIDAL_RANGE": 2.983468,
           "river_label": "moderate river discharge",
           "sinuosity_label": "straight",
           "slope": null,
           "slope_label": "sloping",
           "style": {
            "color": "yellow",
            "dashArray": "5",
            "fillOpacity": 0.5,
            "fill_color": "yellow",
            "opacity": 1,
            "weight": 4
           },
           "turbid_label": "turbid"
          },
          "type": "Feature"
         },
         {
          "geometry": {
           "coordinates": [
            [
             -124.15988729099996,
             40.87653324000007
            ],
            [
             -124.15961346399996,
             40.87709180000007
            ],
            [
             -124.159585484,
             40.87714117500008
            ],
            [
             -124.15955475699997,
             40.87717770300003
            ],
            [
             -124.15936185499999,
             40.877363915000046
            ],
            [
             -124.15933012699998,
             40.87738634900006
            ],
            [
             -124.15929424299998,
             40.877399608000076
            ],
            [
             -124.15925587399994,
             40.877403865000076
            ],
            [
             -124.15921742399996,
             40.877399670000045
            ],
            [
             -124.15918128899995,
             40.87738714000005
            ],
            [
             -124.159149104,
             40.87736682100007
            ],
            [
             -124.15908943199997,
             40.87731773200005
            ],
            [
             -124.15905723299994,
             40.87729739200006
            ],
            [
             -124.15902107699998,
             40.87728482700004
            ],
            [
             -124.15898260399996,
             40.877280591000044
            ],
            [
             -124.15894422099996,
             40.87728480800007
            ],
            [
             -124.15890834199996,
             40.87729803700006
            ],
            [
             -124.158876653,
             40.877320471000075
            ],
            [
             -124.15868669899999,
             40.87750911000006
            ],
            [
             -124.15865753299994,
             40.877547046000075
            ],
            [
             -124.15863103999999,
             40.87760156400003
            ],
            [
             -124.15861219899995,
             40.877664055000025
            ],
            [
             -124.15859862999997,
             40.877731984000036
            ],
            [
             -124.15858834499994,
             40.877803260000064
            ],
            [
             -124.15857086399996,
             40.87794886000006
            ],
            [
             -124.15856048199998,
             40.87801994000006
            ],
            [
             -124.15854675899999,
             40.878087606000065
            ],
            [
             -124.15852772099998,
             40.87814988900004
            ],
            [
             -124.15850100299997,
             40.87820442300006
            ],
            [
             -124.15847165399998,
             40.87824273700005
            ],
            [
             -124.15828316299996,
             40.87845953000004
            ],
            [
             -124.15815077299999,
             40.87859692300003
            ],
            [
             -124.15812137699999,
             40.878634945000044
            ],
            [
             -124.158094587,
             40.87868904800007
            ],
            [
             -124.15807545799998,
             40.87875080200007
            ],
            [
             -124.158061627,
             40.87881784600006
            ],
            [
             -124.15805111499998,
             40.87888820500007
            ],
            [
             -124.15803330699998,
             40.87903212500004
            ],
            [
             -124.15802282599998,
             40.87910250300007
            ],
            [
             -124.15800903899998,
             40.87916957300007
            ],
            [
             -124.15798997199994,
             40.87923136100005
            ],
            [
             -124.15796325599996,
             40.87928549800006
            ],
            [
             -124.15793392599994,
             40.879323544000044
            ],
            [
             -124.15774523199997,
             40.87953910400006
            ],
            [
             -124.15752908399998,
             40.87981382300006
            ],
            [
             -124.157257389,
             40.880350613000076
            ],
            [
             -124.15703906899995,
             40.88078677800007
            ],
            [
             -124.15701536399996,
             40.88084007200007
            ],
            [
             -124.15699848999998,
             40.88090019600003
            ],
            [
             -124.15698669799997,
             40.88096540500004
            ],
            [
             -124.15697858199997,
             40.881034287000034
            ],
            [
             -124.15697299699997,
             40.881105699000045
            ],
            [
             -124.15695832199998,
             40.88139901900007
            ],
            [
             -124.15695252699999,
             40.881470222000075
            ],
            [
             -124.15694403499998,
             40.881538729000056
            ],
            [
             -124.15693161099995,
             40.88160330300008
            ],
            [
             -124.15691371599996,
             40.88166240600003
            ],
            [
             -124.15688841499997,
             40.881714104000025
            ],
            [
             -124.15685915599994,
             40.88175221900008
            ],
            [
             -124.15666690599994,
             40.881964211000025
            ],
            [
             -124.156634753,
             40.88199943200004
            ],
            [
             -124.156598439,
             40.882030490000034
            ],
            [
             -124.15652090099996,
             40.882087700000056
            ],
            [
             -124.15648458599998,
             40.882118760000026
            ],
            [
             -124.156452436,
             40.88215398400007
            ],
            [
             -124.15634659699998,
             40.88227073300004
            ]
           ],
           "type": "LineString"
          },
          "id": "6",
          "properties": {
           "CSU_ID": 19802,
           "ERODIBILITY": "High",
           "MEAN_SIG_WAVEHEIGHT": 2.305355,
           "TIDAL_RANGE": 2.983468,
           "river_label": "moderate river discharge",
           "sinuosity_label": "straight",
           "slope": null,
           "slope_label": "flat",
           "style": {
            "color": "yellow",
            "dashArray": "5",
            "fillOpacity": 0.5,
            "fill_color": "yellow",
            "opacity": 1,
            "weight": 4
           },
           "turbid_label": "turbid"
          },
          "type": "Feature"
         },
         {
          "geometry": {
           "coordinates": [
            [
             -124.15841834899999,
             40.879638502000034
            ],
            [
             -124.15838015299994,
             40.879634569000075
            ],
            [
             -124.15836270799997,
             40.87963067700008
            ],
            [
             -124.15834711899998,
             40.879624861000025
            ],
            [
             -124.15833417999994,
             40.87961637700005
            ],
            [
             -124.15832457599998,
             40.87960457300005
            ],
            [
             -124.158317792,
             40.87958998000005
            ],
            [
             -124.15831313999996,
             40.87957298200007
            ],
            [
             -124.158310127,
             40.879551578000076
            ],
            [
             -124.15830843599997,
             40.87952648400005
            ],
            [
             -124.15830788,
             40.87947104700004
            ],
            [
             -124.158311374,
             40.879364140000064
            ],
            [
             -124.15841828199996,
             40.879360646000066
            ],
            [
             -124.15847371799998,
             40.87936120100005
            ],
            [
             -124.15849881399998,
             40.87936289100003
            ],
            [
             -124.15852021799998,
             40.87936590600003
            ],
            [
             -124.15853721499997,
             40.87937055700007
            ],
            [
             -124.15855180699998,
             40.879377341000065
            ],
            [
             -124.15856361299996,
             40.87938694600007
            ],
            [
             -124.15857209599994,
             40.879399884000065
            ],
            [
             -124.15857791099995,
             40.87941547300005
            ],
            [
             -124.158581804,
             40.87943291800008
            ],
            [
             -124.15858573699995,
             40.87947111500006
            ],
            [
             -124.15858618099998,
             40.879511053000044
            ],
            [
             -124.15858343399998,
             40.87955016400008
            ],
            [
             -124.15858048099994,
             40.87956856100004
            ],
            [
             -124.158576031,
             40.87958560800007
            ],
            [
             -124.15856957199998,
             40.879600725000046
            ],
            [
             -124.15856040299997,
             40.87961316800005
            ],
            [
             -124.15854795999996,
             40.87962233700006
            ],
            [
             -124.15853284399998,
             40.879628797000066
            ],
            [
             -124.15851579599996,
             40.879633246000026
            ],
            [
             -124.15849739899994,
             40.87963619900006
            ],
            [
             -124.15845828799996,
             40.87963894600006
            ],
            [
             -124.15841834899999,
             40.879638502000034
            ]
           ],
           "type": "LineString"
          },
          "id": "7",
          "properties": {
           "CSU_ID": 19802,
           "ERODIBILITY": "High",
           "MEAN_SIG_WAVEHEIGHT": 2.305355,
           "TIDAL_RANGE": 2.983468,
           "river_label": "moderate river discharge",
           "sinuosity_label": "straight",
           "slope": null,
           "slope_label": "flat",
           "style": {
            "color": "yellow",
            "dashArray": "5",
            "fillOpacity": 0.5,
            "fill_color": "yellow",
            "opacity": 1,
            "weight": 4
           },
           "turbid_label": "turbid"
          },
          "type": "Feature"
         },
         {
          "geometry": {
           "coordinates": [
            [
             -124.15634659699998,
             40.88227073300004
            ],
            [
             -124.15626022199996,
             40.882366012000034
            ],
            [
             -124.15623097599996,
             40.88240413900007
            ],
            [
             -124.15620569099997,
             40.88245585300007
            ],
            [
             -124.15618781799998,
             40.88251497700003
            ],
            [
             -124.15617541999995,
             40.88257957800005
            ],
            [
             -124.15616695999995,
             40.88264811700003
            ],
            [
             -124.15616120199996,
             40.88271935800003
            ],
            [
             -124.15614677899998,
             40.883012929000074
            ],
            [
             -124.15614128799996,
             40.88308443600005
            ],
            [
             -124.15613327999995,
             40.88315342900006
            ],
            [
             -124.15612161499996,
             40.88321876400005
            ],
            [
             -124.15610488399994,
             40.883279033000065
            ],
            [
             -124.15608133599994,
             40.88333248500004
            ],
            [
             -124.15584084199998,
             40.88382354200007
            ],
            [
             -124.15581269999996,
             40.88387241800007
            ],
            [
             -124.15578180999995,
             40.883908922000046
            ],
            [
             -124.15555582999997,
             40.88415489100004
            ],
            [
             -124.155519788,
             40.88418631600007
            ],
            [
             -124.15544280399996,
             40.88424432200003
            ],
            [
             -124.15540672499998,
             40.884275770000045
            ],
            [
             -124.15517968299997,
             40.88452241600004
            ],
            [
             -124.15514850599999,
             40.88455909000004
            ],
            [
             -124.15511999399996,
             40.884608179000054
            ],
            [
             -124.154878968,
             40.88509626900003
            ],
            [
             -124.15485776699995,
             40.885146889000055
            ],
            [
             -124.15484489599999,
             40.885202900000024
            ],
            [
             -124.15483922599998,
             40.88526201500008
            ],
            [
             -124.15484018199999,
             40.88532212400003
            ],
            [
             -124.15484770599994,
             40.88538118200006
            ],
            [
             -124.15486226299998,
             40.88543707800005
            ],
            [
             -124.15488483499996,
             40.885487529000045
            ],
            [
             -124.15491148999996,
             40.885526036000044
            ],
            [
             -124.15497188999996,
             40.88559699100006
            ],
            [
             -124.15499848999997,
             40.88563544100003
            ],
            [
             -124.15502095699998,
             40.88568578700006
            ],
            [
             -124.15503536899996,
             40.88574153900004
            ],
            [
             -124.15504272199996,
             40.88580042500007
            ],
            [
             -124.15504349399998,
             40.885860352000066
            ],
            [
             -124.15503765699998,
             40.88591929800003
            ],
            [
             -124.15502466799995,
             40.88597519000007
            ],
            [
             -124.15479055699996,
             40.88664676900004
            ],
            [
             -124.15464348299997,
             40.88694654200003
            ],
            [
             -124.15455851499996,
             40.88717215300005
            ],
            [
             -124.15452757271406,
             40.887263
            ]
           ],
           "type": "LineString"
          },
          "id": "8",
          "properties": {
           "CSU_ID": 19802,
           "ERODIBILITY": "High",
           "MEAN_SIG_WAVEHEIGHT": 2.305355,
           "TIDAL_RANGE": 2.983468,
           "river_label": "moderate river discharge",
           "sinuosity_label": "straight",
           "slope": null,
           "slope_label": "flat",
           "style": {
            "color": "yellow",
            "dashArray": "5",
            "fillOpacity": 0.5,
            "fill_color": "yellow",
            "opacity": 1,
            "weight": 4
           },
           "turbid_label": "turbid"
          },
          "type": "Feature"
         },
         {
          "geometry": {
           "coordinates": [
            [
             -124.14972321099998,
             40.865066772000034
            ],
            [
             -124.14977800699995,
             40.86505650000004
            ],
            [
             -124.14984188399995,
             40.86503751600003
            ],
            [
             -124.14989746999998,
             40.86501051600004
            ],
            [
             -124.149936191,
             40.864980769000056
            ],
            [
             -124.15012996899998,
             40.86478698900004
            ],
            [
             -124.15015316699998,
             40.86475481900004
            ],
            [
             -124.15016688999998,
             40.86471854500007
            ],
            [
             -124.15017112199996,
             40.86467986700006
            ],
            [
             -124.15016613999995,
             40.864641230000075
            ],
            [
             -124.15015168199994,
             40.864605072000074
            ],
            [
             -124.15012778,
             40.86457308000007
            ],
            [
             -124.15008339841573,
             40.864529
            ]
           ],
           "type": "LineString"
          },
          "id": "9",
          "properties": {
           "CSU_ID": 80247,
           "ERODIBILITY": "Non",
           "MEAN_SIG_WAVEHEIGHT": 2.305355,
           "TIDAL_RANGE": 2.983468,
           "river_label": "moderate river discharge",
           "sinuosity_label": "sinuous",
           "slope": null,
           "slope_label": "flat",
           "style": {
            "color": "yellow",
            "dashArray": "5",
            "fillOpacity": 0.5,
            "fill_color": "yellow",
            "opacity": 1,
            "weight": 4
           },
           "turbid_label": "clear"
          },
          "type": "Feature"
         },
         {
          "geometry": {
           "coordinates": [
            [
             -124.14792839563039,
             40.864529
            ],
            [
             -124.14797448999997,
             40.864570882000066
            ],
            [
             -124.14800974699995,
             40.86460305300005
            ],
            [
             -124.14804082799998,
             40.86463940500005
            ],
            [
             -124.14809802999997,
             40.86471711300004
            ],
            [
             -124.14812905599996,
             40.864753568000026
            ],
            [
             -124.14837552499995,
             40.86498036100005
            ],
            [
             -124.14841351799998,
             40.865010177000045
            ],
            [
             -124.14846791599996,
             40.865037244000064
            ],
            [
             -124.14853046299999,
             40.86505628200007
            ],
            [
             -124.14859903599995,
             40.86506943200004
            ],
            [
             -124.14867200199996,
             40.86507833400003
            ],
            [
             -124.14874813299997,
             40.86508422400004
            ],
            [
             -124.14882650799996,
             40.86508801700006
            ],
            [
             -124.14898745199997,
             40.86509176900006
            ],
            [
             -124.14915117199996,
             40.865092719000074
            ],
            [
             -124.14931529599994,
             40.86509180400003
            ],
            [
             -124.149477446,
             40.86508809400004
            ],
            [
             -124.14955671799999,
             40.865084327000034
            ],
            [
             -124.14963392399994,
             40.865078467000046
            ],
            [
             -124.14970811499995,
             40.86506960200006
            ],
            [
             -124.14972321099998,
             40.865066772000034
            ]
           ],
           "type": "LineString"
          },
          "id": "10",
          "properties": {
           "CSU_ID": 80259,
           "ERODIBILITY": "Non",
           "MEAN_SIG_WAVEHEIGHT": 2.305355,
           "TIDAL_RANGE": 2.983468,
           "river_label": "moderate river discharge",
           "sinuosity_label": "sinuous",
           "slope": null,
           "slope_label": "flat",
           "style": {
            "color": "yellow",
            "dashArray": "5",
            "fillOpacity": 0.5,
            "fill_color": "yellow",
            "opacity": 1,
            "weight": 4
           },
           "turbid_label": "turbid"
          },
          "type": "Feature"
         },
         {
          "geometry": {
           "coordinates": [
            [
             -124.16560643100728,
             40.864529
            ],
            [
             -124.16560562599994,
             40.864532885000074
            ],
            [
             -124.16559509399997,
             40.86460320100008
            ],
            [
             -124.16557745299997,
             40.86474725700003
            ],
            [
             -124.16556727699998,
             40.864817929000026
            ],
            [
             -124.16555406799995,
             40.86488556900008
            ],
            [
             -124.16553598499996,
             40.864948336000054
            ],
            [
             -124.16551085199995,
             40.86500405000004
            ],
            [
             -124.16529280999998,
             40.86544049400004
            ],
            [
             -124.16515223,
             40.86565603400004
            ],
            [
             -124.16507557299997,
             40.86580074700004
            ],
            [
             -124.16480623299998,
             40.86633989200004
            ],
            [
             -124.16467772099998,
             40.86666374400005
            ],
            [
             -124.16446312199997,
             40.86711325700003
            ],
            [
             -124.16443522399999,
             40.86716235600005
            ],
            [
             -124.16440453299998,
             40.86719903900007
            ],
            [
             -124.164179704,
             40.86744582500006
            ],
            [
             -124.16414381499999,
             40.86747731000003
            ],
            [
             -124.16406716699998,
             40.86753541000007
            ],
            [
             -124.16403127799998,
             40.86756689300006
            ],
            [
             -124.16380638099997,
             40.867813614000056
            ],
            [
             -124.16377567199999,
             40.86785028000003
            ],
            [
             -124.16374774599996,
             40.86789935100006
            ],
            [
             -124.16323902299996,
             40.86893059800008
            ],
            [
             -124.16321393099997,
             40.868986352000036
            ],
            [
             -124.16319588199997,
             40.86904915400004
            ],
            [
             -124.16318270699998,
             40.86911682700003
            ],
            [
             -124.16317256399998,
             40.86918753100008
            ],
            [
             -124.16315498899996,
             40.869331654000064
            ],
            [
             -124.163144494,
             40.869402008000066
            ],
            [
             -124.16313065999998,
             40.86946902100004
            ],
            [
             -124.16311153199996,
             40.86953074100006
            ],
            [
             -124.16308475799997,
             40.86958481600004
            ],
            [
             -124.16305538899996,
             40.869622820000075
            ],
            [
             -124.16259300599995,
             40.87027067100007
            ]
           ],
           "type": "LineString"
          },
          "id": "11",
          "properties": {
           "CSU_ID": 19775,
           "ERODIBILITY": "High",
           "MEAN_SIG_WAVEHEIGHT": 2.305355,
           "TIDAL_RANGE": 2.983468,
           "river_label": "moderate river discharge",
           "sinuosity_label": "straight",
           "slope": null,
           "slope_label": "flat",
           "style": {
            "color": "yellow",
            "dashArray": "5",
            "fillOpacity": 0.5,
            "fill_color": "yellow",
            "opacity": 1,
            "weight": 4
           },
           "turbid_label": "clear"
          },
          "type": "Feature"
         },
         {
          "geometry": {
           "coordinates": [
            [
             -124.16259300599995,
             40.87027067100007
            ],
            [
             -124.16238196399996,
             40.87056636400007
            ],
            [
             -124.16205675199996,
             40.871097760000055
            ],
            [
             -124.16178549799997,
             40.87145211700005
            ],
            [
             -124.16156997299998,
             40.871727458000066
            ],
            [
             -124.161351707,
             40.87216367700006
            ],
            [
             -124.16132671199995,
             40.87221953200003
            ],
            [
             -124.16130875599998,
             40.87228242200007
            ],
            [
             -124.16129565399996,
             40.87235017000006
            ],
            [
             -124.16128556899997,
             40.87242093200007
            ],
            [
             -124.16126805599998,
             40.87256511700008
            ],
            [
             -124.161257563,
             40.87263547200007
            ],
            [
             -124.16124370999995,
             40.87270246800006
            ],
            [
             -124.16122454199996,
             40.872764149000034
            ],
            [
             -124.16119770599994,
             40.872818161000055
            ],
            [
             -124.16116826599995,
             40.87285609500003
            ],
            [
             -124.16097883699996,
             40.873070909000035
            ],
            [
             -124.16076148499997,
             40.87334443300006
            ],
            [
             -124.160541546,
             40.87377906100005
            ],
            [
             -124.16051785899998,
             40.87383239800005
            ],
            [
             -124.16050098999995,
             40.873892556000044
            ],
            [
             -124.16048917899997,
             40.87395778200005
            ],
            [
             -124.16048101599995,
             40.87402666200006
            ],
            [
             -124.16047534899997,
             40.87409805200008
            ],
            [
             -124.16045995699994,
             40.87439105100003
            ],
            [
             -124.16045386399998,
             40.874462116000075
            ],
            [
             -124.160445026,
             40.874530469000035
            ],
            [
             -124.16043220799997,
             40.874594881000064
            ],
            [
             -124.16041387499996,
             40.87465382200003
            ],
            [
             -124.16038810699996,
             40.874705379000034
            ],
            [
             -124.16035843199995,
             40.874743410000065
            ],
            [
             -124.16016592499994,
             40.874958108000044
            ],
            [
             -124.16003086699999,
             40.87509456400005
            ],
            [
             -124.16000124199996,
             40.875132422000036
            ],
            [
             -124.15997471699995,
             40.875186358000065
            ],
            [
             -124.15995675699997,
             40.875247975000036
            ],
            [
             -124.15994546699994,
             40.875314907000075
            ],
            [
             -124.15993952999997,
             40.875385178000045
            ],
            [
             -124.15993813699998,
             40.875457064000045
            ],
            [
             -124.15994093499995,
             40.87552897300003
            ],
            [
             -124.15994798999998,
             40.87559930900005
            ],
            [
             -124.15995979799999,
             40.87566635300004
            ],
            [
             -124.15997725799997,
             40.87572812500008
            ],
            [
             -124.16000172399998,
             40.87578225900006
            ],
            [
             -124.16002791299996,
             40.875820307000026
            ],
            [
             -124.16008359899996,
             40.87588657400005
            ],
            [
             -124.16010558999994,
             40.87592043200004
            ],
            [
             -124.16011920399995,
             40.87595764900004
            ],
            [
             -124.160124199,
             40.875996901000065
            ],
            [
             -124.16012075099997,
             40.87603607800003
            ],
            [
             -124.16010859099998,
             40.876073062000046
            ],
            [
             -124.1599086,
             40.87648977300006
            ],
            [
             -124.15988729099996,
             40.87653324000007
            ]
           ],
           "type": "LineString"
          },
          "id": "12",
          "properties": {
           "CSU_ID": 20304,
           "ERODIBILITY": "High",
           "MEAN_SIG_WAVEHEIGHT": 2.305355,
           "TIDAL_RANGE": 2.983468,
           "river_label": "moderate river discharge",
           "sinuosity_label": "straight",
           "slope": null,
           "slope_label": "sloping",
           "style": {
            "color": "yellow",
            "dashArray": "5",
            "fillOpacity": 0.5,
            "fill_color": "yellow",
            "opacity": 1,
            "weight": 4
           },
           "turbid_label": "turbid"
          },
          "type": "Feature"
         },
         {
          "geometry": {
           "coordinates": [
            [
             -124.15988729099996,
             40.87653324000007
            ],
            [
             -124.15961346399996,
             40.87709180000007
            ],
            [
             -124.159585484,
             40.87714117500008
            ],
            [
             -124.15955475699997,
             40.87717770300003
            ],
            [
             -124.15936185499999,
             40.877363915000046
            ],
            [
             -124.15933012699998,
             40.87738634900006
            ],
            [
             -124.15929424299998,
             40.877399608000076
            ],
            [
             -124.15925587399994,
             40.877403865000076
            ],
            [
             -124.15921742399996,
             40.877399670000045
            ],
            [
             -124.15918128899995,
             40.87738714000005
            ],
            [
             -124.159149104,
             40.87736682100007
            ],
            [
             -124.15908943199997,
             40.87731773200005
            ],
            [
             -124.15905723299994,
             40.87729739200006
            ],
            [
             -124.15902107699998,
             40.87728482700004
            ],
            [
             -124.15898260399996,
             40.877280591000044
            ],
            [
             -124.15894422099996,
             40.87728480800007
            ],
            [
             -124.15890834199996,
             40.87729803700006
            ],
            [
             -124.158876653,
             40.877320471000075
            ],
            [
             -124.15868669899999,
             40.87750911000006
            ],
            [
             -124.15865753299994,
             40.877547046000075
            ],
            [
             -124.15863103999999,
             40.87760156400003
            ],
            [
             -124.15861219899995,
             40.877664055000025
            ],
            [
             -124.15859862999997,
             40.877731984000036
            ],
            [
             -124.15858834499994,
             40.877803260000064
            ],
            [
             -124.15857086399996,
             40.87794886000006
            ],
            [
             -124.15856048199998,
             40.87801994000006
            ],
            [
             -124.15854675899999,
             40.878087606000065
            ],
            [
             -124.15852772099998,
             40.87814988900004
            ],
            [
             -124.15850100299997,
             40.87820442300006
            ],
            [
             -124.15847165399998,
             40.87824273700005
            ],
            [
             -124.15828316299996,
             40.87845953000004
            ],
            [
             -124.15815077299999,
             40.87859692300003
            ],
            [
             -124.15812137699999,
             40.878634945000044
            ],
            [
             -124.158094587,
             40.87868904800007
            ],
            [
             -124.15807545799998,
             40.87875080200007
            ],
            [
             -124.158061627,
             40.87881784600006
            ],
            [
             -124.15805111499998,
             40.87888820500007
            ],
            [
             -124.15803330699998,
             40.87903212500004
            ],
            [
             -124.15802282599998,
             40.87910250300007
            ],
            [
             -124.15800903899998,
             40.87916957300007
            ],
            [
             -124.15798997199994,
             40.87923136100005
            ],
            [
             -124.15796325599996,
             40.87928549800006
            ],
            [
             -124.15793392599994,
             40.879323544000044
            ],
            [
             -124.15774523199997,
             40.87953910400006
            ],
            [
             -124.15752908399998,
             40.87981382300006
            ],
            [
             -124.157257389,
             40.880350613000076
            ],
            [
             -124.15703906899995,
             40.88078677800007
            ],
            [
             -124.15701536399996,
             40.88084007200007
            ],
            [
             -124.15699848999998,
             40.88090019600003
            ],
            [
             -124.15698669799997,
             40.88096540500004
            ],
            [
             -124.15697858199997,
             40.881034287000034
            ],
            [
             -124.15697299699997,
             40.881105699000045
            ],
            [
             -124.15695832199998,
             40.88139901900007
            ],
            [
             -124.15695252699999,
             40.881470222000075
            ],
            [
             -124.15694403499998,
             40.881538729000056
            ],
            [
             -124.15693161099995,
             40.88160330300008
            ],
            [
             -124.15691371599996,
             40.88166240600003
            ],
            [
             -124.15688841499997,
             40.881714104000025
            ],
            [
             -124.15685915599994,
             40.88175221900008
            ],
            [
             -124.15666690599994,
             40.881964211000025
            ],
            [
             -124.156634753,
             40.88199943200004
            ],
            [
             -124.156598439,
             40.882030490000034
            ],
            [
             -124.15652090099996,
             40.882087700000056
            ],
            [
             -124.15648458599998,
             40.882118760000026
            ],
            [
             -124.156452436,
             40.88215398400007
            ],
            [
             -124.15634659699998,
             40.88227073300004
            ]
           ],
           "type": "LineString"
          },
          "id": "13",
          "properties": {
           "CSU_ID": 19802,
           "ERODIBILITY": "High",
           "MEAN_SIG_WAVEHEIGHT": 2.305355,
           "TIDAL_RANGE": 2.983468,
           "river_label": "moderate river discharge",
           "sinuosity_label": "straight",
           "slope": null,
           "slope_label": "flat",
           "style": {
            "color": "yellow",
            "dashArray": "5",
            "fillOpacity": 0.5,
            "fill_color": "yellow",
            "opacity": 1,
            "weight": 4
           },
           "turbid_label": "turbid"
          },
          "type": "Feature"
         },
         {
          "geometry": {
           "coordinates": [
            [
             -124.15841834899999,
             40.879638502000034
            ],
            [
             -124.15838015299994,
             40.879634569000075
            ],
            [
             -124.15836270799997,
             40.87963067700008
            ],
            [
             -124.15834711899998,
             40.879624861000025
            ],
            [
             -124.15833417999994,
             40.87961637700005
            ],
            [
             -124.15832457599998,
             40.87960457300005
            ],
            [
             -124.158317792,
             40.87958998000005
            ],
            [
             -124.15831313999996,
             40.87957298200007
            ],
            [
             -124.158310127,
             40.879551578000076
            ],
            [
             -124.15830843599997,
             40.87952648400005
            ],
            [
             -124.15830788,
             40.87947104700004
            ],
            [
             -124.158311374,
             40.879364140000064
            ],
            [
             -124.15841828199996,
             40.879360646000066
            ],
            [
             -124.15847371799998,
             40.87936120100005
            ],
            [
             -124.15849881399998,
             40.87936289100003
            ],
            [
             -124.15852021799998,
             40.87936590600003
            ],
            [
             -124.15853721499997,
             40.87937055700007
            ],
            [
             -124.15855180699998,
             40.879377341000065
            ],
            [
             -124.15856361299996,
             40.87938694600007
            ],
            [
             -124.15857209599994,
             40.879399884000065
            ],
            [
             -124.15857791099995,
             40.87941547300005
            ],
            [
             -124.158581804,
             40.87943291800008
            ],
            [
             -124.15858573699995,
             40.87947111500006
            ],
            [
             -124.15858618099998,
             40.879511053000044
            ],
            [
             -124.15858343399998,
             40.87955016400008
            ],
            [
             -124.15858048099994,
             40.87956856100004
            ],
            [
             -124.158576031,
             40.87958560800007
            ],
            [
             -124.15856957199998,
             40.879600725000046
            ],
            [
             -124.15856040299997,
             40.87961316800005
            ],
            [
             -124.15854795999996,
             40.87962233700006
            ],
            [
             -124.15853284399998,
             40.879628797000066
            ],
            [
             -124.15851579599996,
             40.879633246000026
            ],
            [
             -124.15849739899994,
             40.87963619900006
            ],
            [
             -124.15845828799996,
             40.87963894600006
            ],
            [
             -124.15841834899999,
             40.879638502000034
            ]
           ],
           "type": "LineString"
          },
          "id": "14",
          "properties": {
           "CSU_ID": 19802,
           "ERODIBILITY": "High",
           "MEAN_SIG_WAVEHEIGHT": 2.305355,
           "TIDAL_RANGE": 2.983468,
           "river_label": "moderate river discharge",
           "sinuosity_label": "straight",
           "slope": null,
           "slope_label": "flat",
           "style": {
            "color": "yellow",
            "dashArray": "5",
            "fillOpacity": 0.5,
            "fill_color": "yellow",
            "opacity": 1,
            "weight": 4
           },
           "turbid_label": "turbid"
          },
          "type": "Feature"
         },
         {
          "geometry": {
           "coordinates": [
            [
             -124.15634659699998,
             40.88227073300004
            ],
            [
             -124.15626022199996,
             40.882366012000034
            ],
            [
             -124.15623097599996,
             40.88240413900007
            ],
            [
             -124.15620569099997,
             40.88245585300007
            ],
            [
             -124.15618781799998,
             40.88251497700003
            ],
            [
             -124.15617541999995,
             40.88257957800005
            ],
            [
             -124.15616695999995,
             40.88264811700003
            ],
            [
             -124.15616120199996,
             40.88271935800003
            ],
            [
             -124.15614677899998,
             40.883012929000074
            ],
            [
             -124.15614128799996,
             40.88308443600005
            ],
            [
             -124.15613327999995,
             40.88315342900006
            ],
            [
             -124.15612161499996,
             40.88321876400005
            ],
            [
             -124.15610488399994,
             40.883279033000065
            ],
            [
             -124.15608133599994,
             40.88333248500004
            ],
            [
             -124.15584084199998,
             40.88382354200007
            ],
            [
             -124.15581269999996,
             40.88387241800007
            ],
            [
             -124.15578180999995,
             40.883908922000046
            ],
            [
             -124.15555582999997,
             40.88415489100004
            ],
            [
             -124.155519788,
             40.88418631600007
            ],
            [
             -124.15544280399996,
             40.88424432200003
            ],
            [
             -124.15540672499998,
             40.884275770000045
            ],
            [
             -124.15517968299997,
             40.88452241600004
            ],
            [
             -124.15514850599999,
             40.88455909000004
            ],
            [
             -124.15511999399996,
             40.884608179000054
            ],
            [
             -124.154878968,
             40.88509626900003
            ],
            [
             -124.15485776699995,
             40.885146889000055
            ],
            [
             -124.15484489599999,
             40.885202900000024
            ],
            [
             -124.15483922599998,
             40.88526201500008
            ],
            [
             -124.15484018199999,
             40.88532212400003
            ],
            [
             -124.15484770599994,
             40.88538118200006
            ],
            [
             -124.15486226299998,
             40.88543707800005
            ],
            [
             -124.15488483499996,
             40.885487529000045
            ],
            [
             -124.15491148999996,
             40.885526036000044
            ],
            [
             -124.15497188999996,
             40.88559699100006
            ],
            [
             -124.15499848999997,
             40.88563544100003
            ],
            [
             -124.15502095699998,
             40.88568578700006
            ],
            [
             -124.15503536899996,
             40.88574153900004
            ],
            [
             -124.15504272199996,
             40.88580042500007
            ],
            [
             -124.15504349399998,
             40.885860352000066
            ],
            [
             -124.15503765699998,
             40.88591929800003
            ],
            [
             -124.15502466799995,
             40.88597519000007
            ],
            [
             -124.15479055699996,
             40.88664676900004
            ],
            [
             -124.15464348299997,
             40.88694654200003
            ],
            [
             -124.15455851499996,
             40.88717215300005
            ],
            [
             -124.15452757271406,
             40.887263
            ]
           ],
           "type": "LineString"
          },
          "id": "15",
          "properties": {
           "CSU_ID": 19802,
           "ERODIBILITY": "High",
           "MEAN_SIG_WAVEHEIGHT": 2.305355,
           "TIDAL_RANGE": 2.983468,
           "river_label": "moderate river discharge",
           "sinuosity_label": "straight",
           "slope": null,
           "slope_label": "flat",
           "style": {
            "color": "yellow",
            "dashArray": "5",
            "fillOpacity": 0.5,
            "fill_color": "yellow",
            "opacity": 1,
            "weight": 4
           },
           "turbid_label": "turbid"
          },
          "type": "Feature"
         }
        ],
        "type": "FeatureCollection"
       },
       "hover_style": {
        "color": "white",
        "dashArray": "4",
        "fillOpacity": 0.7
       },
       "name": "shoreline",
       "style": {
        "color": "yellow",
        "dashArray": "5",
        "fillOpacity": 0.5,
        "fill_color": "yellow",
        "opacity": 1,
        "weight": 4
       }
      }
     },
     "ebca68787d8c40b091b5344e4fb253b7": {
      "model_module": "@jupyter-widgets/controls",
      "model_module_version": "1.5.0",
      "model_name": "DescriptionStyleModel",
      "state": {
       "description_width": ""
      }
     },
     "ebce25255232415083aae021a0462d33": {
      "model_module": "@jupyter-widgets/controls",
      "model_module_version": "1.5.0",
      "model_name": "DescriptionStyleModel",
      "state": {
       "description_width": ""
      }
     },
     "ece65f3e0c114f5cb03d1079b9227414": {
      "model_module": "jupyter-leaflet",
      "model_module_version": "^0.17.0",
      "model_name": "LeafletTileLayerModel",
      "state": {
       "_model_module_version": "^0.17.0",
       "_view_module_version": "^0.17.0",
       "attribution": "(C) OpenStreetMap contributors",
       "name": "OpenStreetMap.DE",
       "options": [
        "attribution",
        "bounds",
        "detect_retina",
        "max_native_zoom",
        "max_zoom",
        "min_native_zoom",
        "min_zoom",
        "no_wrap",
        "tile_size",
        "tms"
       ],
       "url": "https://a.tile.openstreetmap.de/{z}/{x}/{y}.png"
      }
     },
     "edb947f476fa43c0b5d9e30ae22ef381": {
      "model_module": "jupyter-leaflet",
      "model_module_version": "^0.17.0",
      "model_name": "LeafletTileLayerModel",
      "state": {
       "_model_module_version": "^0.17.0",
       "_view_module_version": "^0.17.0",
       "attribution": "Imagery provided by services from the Global Imagery Browse Services (GIBS), operated by the NASA/GSFC/Earth Science Data and Information System (ESDIS) with funding provided by NASA/HQ.",
       "max_zoom": 5,
       "name": "NASAGIBS.BlueMarble3031",
       "options": [
        "attribution",
        "bounds",
        "detect_retina",
        "max_native_zoom",
        "max_zoom",
        "min_native_zoom",
        "min_zoom",
        "no_wrap",
        "tile_size",
        "tms"
       ],
       "url": "https://gibs.earthdata.nasa.gov/wmts/epsg3031/best/BlueMarble_NextGeneration/default/EPSG3031_500m/{z}/{y}/{x}.jpeg"
      }
     },
     "edc872a5f667400d96aea6c6302e064e": {
      "model_module": "@jupyter-widgets/controls",
      "model_module_version": "1.5.0",
      "model_name": "DescriptionStyleModel",
      "state": {
       "description_width": ""
      }
     },
     "edc8fd8ecd5045eeb1dcde12ed6f3896": {
      "model_module": "@jupyter-widgets/controls",
      "model_module_version": "1.5.0",
      "model_name": "ToggleButtonModel",
      "state": {
       "button_style": "primary",
       "icon": "map",
       "layout": "IPY_MODEL_3059993666a24ccfbed7900da1eac9c4",
       "style": "IPY_MODEL_e7faa4396c764b8ba5729a713304a639",
       "tooltip": "Change basemap"
      }
     },
     "eddb1321a2924dd5844fd21acee769ee": {
      "model_module": "jupyter-leaflet",
      "model_module_version": "^0.17.0",
      "model_name": "LeafletTileLayerModel",
      "state": {
       "_model_module_version": "^0.17.0",
       "_view_module_version": "^0.17.0",
       "attribution": "Map tiles by <a href=\"https://labs.strava.com/heatmap\">Strava 2021</a>",
       "max_zoom": 15,
       "name": "Strava.Run",
       "options": [
        "attribution",
        "bounds",
        "detect_retina",
        "max_native_zoom",
        "max_zoom",
        "min_native_zoom",
        "min_zoom",
        "no_wrap",
        "tile_size",
        "tms"
       ],
       "url": "https://heatmap-external-a.strava.com/tiles/run/bluered/{z}/{x}/{y}.png"
      }
     },
     "eedf32b151b442938b255fa026af4f42": {
      "model_module": "jupyter-leaflet",
      "model_module_version": "^0.17.0",
      "model_name": "LeafletMapStyleModel",
      "state": {
       "_model_module_version": "^0.17.0",
       "cursor": "wait"
      }
     },
     "eeeee501d9d3477685c5275dd8df96b0": {
      "model_module": "@jupyter-widgets/controls",
      "model_module_version": "1.5.0",
      "model_name": "ToggleButtonModel",
      "state": {
       "icon": "wrench",
       "layout": "IPY_MODEL_5b039802c0c241f090ce527c46061155",
       "style": "IPY_MODEL_75bb8d9040bf4999aefe738609219e84",
       "tooltip": "Toolbar"
      }
     },
     "eff6d2b6abcc41ef8850ebd8c4d8a5c5": {
      "model_module": "@jupyter-widgets/controls",
      "model_module_version": "1.5.0",
      "model_name": "DescriptionStyleModel",
      "state": {
       "description_width": ""
      }
     },
     "f08fe0470ec24de6b86e816bab70e67d": {
      "model_module": "jupyter-leaflet",
      "model_module_version": "^0.17.0",
      "model_name": "LeafletWMSLayerModel",
      "state": {
       "_model_module_version": "^0.17.0",
       "_view_module_version": "^0.17.0",
       "attribution": "USGS",
       "crs": {
        "custom": false,
        "name": "EPSG3857"
       },
       "format": "image/png",
       "layers": "USGSNAIPImagery:FalseColorComposite",
       "name": "USGS NAIP Imagery False Color",
       "options": [
        "attribution",
        "bounds",
        "detect_retina",
        "format",
        "layers",
        "max_native_zoom",
        "max_zoom",
        "min_native_zoom",
        "min_zoom",
        "no_wrap",
        "styles",
        "tile_size",
        "tms",
        "transparent",
        "uppercase"
       ],
       "transparent": true,
       "url": "https://imagery.nationalmap.gov/arcgis/services/USGSNAIPImagery/ImageServer/WMSServer?"
      }
     },
     "f185f716a3a24293a15ffafbc621019f": {
      "model_module": "jupyter-leaflet",
      "model_module_version": "^0.17.0",
      "model_name": "LeafletTileLayerModel",
      "state": {
       "_model_module_version": "^0.17.0",
       "_view_module_version": "^0.17.0",
       "attribution": "OpenStreetMap",
       "max_zoom": 22,
       "name": "OpenStreetMap",
       "options": [
        "attribution",
        "bounds",
        "detect_retina",
        "max_native_zoom",
        "max_zoom",
        "min_native_zoom",
        "min_zoom",
        "no_wrap",
        "tile_size",
        "tms"
       ]
      }
     },
     "f24d1cf665b44c25b8a00142740e9021": {
      "model_module": "jupyter-leaflet",
      "model_module_version": "^0.17.0",
      "model_name": "LeafletTileLayerModel",
      "state": {
       "_model_module_version": "^0.17.0",
       "_view_module_version": "^0.17.0",
       "attribution": "Tiles &copy; Esri &mdash; Esri, DeLorme, NAVTEQ, TomTom, Intermap, iPC, USGS, FAO, NPS, NRCAN, GeoBase, Kadaster NL, Ordnance Survey, Esri Japan, METI, Esri China (Hong Kong), and the GIS User Community",
       "max_zoom": 24,
       "name": "Esri.ArcticOceanBase",
       "options": [
        "attribution",
        "bounds",
        "detect_retina",
        "max_native_zoom",
        "max_zoom",
        "min_native_zoom",
        "min_zoom",
        "no_wrap",
        "tile_size",
        "tms"
       ],
       "url": "http://server.arcgisonline.com/ArcGIS/rest/services/Polar/Arctic_Ocean_Base/MapServer/tile/{z}/{y}/{x}"
      }
     },
     "f25e4e8f1648413ba9eacfab4851a748": {
      "model_module": "@jupyter-widgets/controls",
      "model_module_version": "1.5.0",
      "model_name": "VBoxModel",
      "state": {
       "children": [
        "IPY_MODEL_1323db35720042a1a59333db3f384aa9",
        "IPY_MODEL_2aee08eb6f0b4721bc6cb95a596d9fe0",
        "IPY_MODEL_66446af24a4b4d50b01827a8764bda0f"
       ],
       "layout": "IPY_MODEL_589eab196d8147e4b3193018d18e22f0"
      }
     },
     "f27fdcfa3be14e4d8edf946d9c357cdb": {
      "model_module": "@jupyter-widgets/controls",
      "model_module_version": "1.5.0",
      "model_name": "FloatProgressModel",
      "state": {
       "bar_style": "success",
       "layout": "IPY_MODEL_ff82b2a746094719a72213be7adaeb7e",
       "max": 2,
       "style": "IPY_MODEL_e65bfedef59a4ff4a81ea470a4e32f3e",
       "value": 2
      }
     },
     "f292339e777844018546660cf3ae2673": {
      "model_module": "@jupyter-widgets/controls",
      "model_module_version": "1.5.0",
      "model_name": "DescriptionStyleModel",
      "state": {
       "description_width": ""
      }
     },
     "f2efcc177f984a3ca947274522816e8c": {
      "model_module": "@jupyter-widgets/controls",
      "model_module_version": "1.5.0",
      "model_name": "DescriptionStyleModel",
      "state": {
       "description_width": ""
      }
     },
     "f3009853ec4b4e31b0070a4ad5c8dbcf": {
      "model_module": "@jupyter-widgets/base",
      "model_module_version": "1.2.0",
      "model_name": "LayoutModel",
      "state": {}
     },
     "f378fec75b564eebba60a8e444bc3f25": {
      "model_module": "jupyter-leaflet",
      "model_module_version": "^0.17.0",
      "model_name": "LeafletTileLayerModel",
      "state": {
       "_model_module_version": "^0.17.0",
       "_view_module_version": "^0.17.0",
       "attribution": "Map tiles by <a href=\"https://labs.strava.com/heatmap\">Strava 2021</a>",
       "max_zoom": 15,
       "name": "Strava.Winter",
       "options": [
        "attribution",
        "bounds",
        "detect_retina",
        "max_native_zoom",
        "max_zoom",
        "min_native_zoom",
        "min_zoom",
        "no_wrap",
        "tile_size",
        "tms"
       ],
       "url": "https://heatmap-external-a.strava.com/tiles/winter/hot/{z}/{x}/{y}.png"
      }
     },
     "f3c66f1fe1ae4bd0a0d4652f19726461": {
      "model_module": "@jupyter-widgets/controls",
      "model_module_version": "1.5.0",
      "model_name": "ToggleButtonModel",
      "state": {
       "button_style": "primary",
       "icon": "pencil-square-o",
       "layout": "IPY_MODEL_7ecba166fa8949c49a02d18d35fa6d67",
       "style": "IPY_MODEL_6273c4e6dbdd4a399379d33ef5e2f545",
       "tooltip": "Create vector data"
      }
     },
     "f3c7ffa6420f46b490ba8da47db2e594": {
      "model_module": "@jupyter-widgets/controls",
      "model_module_version": "1.5.0",
      "model_name": "HBoxModel",
      "state": {
       "children": [
        "IPY_MODEL_e9366d19f7d945a2913615e99f0b3378",
        "IPY_MODEL_0c3f6321ffee4f58afaafbafed03b918"
       ],
       "layout": "IPY_MODEL_8505c34af8ac49e6bc71271567f97966"
      }
     },
     "f3cf3b6381184dfbbf06020ffd4fc243": {
      "model_module": "@jupyter-widgets/controls",
      "model_module_version": "1.5.0",
      "model_name": "SliderStyleModel",
      "state": {
       "description_width": "initial"
      }
     },
     "f3e1f26bbab540cba4e86fca7d4297e0": {
      "model_module": "@jupyter-widgets/controls",
      "model_module_version": "1.5.0",
      "model_name": "ButtonStyleModel",
      "state": {
       "button_color": "#ae3cf0"
      }
     },
     "f47fafa2073f4a6eb0853137610554d7": {
      "model_module": "@jupyter-widgets/controls",
      "model_module_version": "1.5.0",
      "model_name": "DescriptionStyleModel",
      "state": {
       "description_width": ""
      }
     },
     "f4b192bba46e4b7bb102a6b0399c215d": {
      "model_module": "jupyter-leaflet",
      "model_module_version": "^0.17.0",
      "model_name": "LeafletGeoJSONModel",
      "state": {
       "_model_module_version": "^0.17.0",
       "_view_module_version": "^0.17.0",
       "data": {
        "features": [
         {
          "geometry": {
           "coordinates": [
            [
             [
              -124.17404858142513,
              40.86422220794567
             ],
             [
              -124.1746854497345,
              40.9002483174463
             ],
             [
              -124.12720484834989,
              40.9007222145803
             ],
             [
              -124.12659370860285,
              40.86469550725421
             ],
             [
              -124.17404858142513,
              40.86422220794567
             ]
            ]
           ],
           "type": "Polygon"
          },
          "id": "0",
          "properties": {
           "id": "0",
           "style": {
            "color": "#555555",
            "fillOpacity": 0.1,
            "fill_color": "#555555",
            "weight": 1
           }
          },
          "type": "Feature"
         },
         {
          "geometry": {
           "coordinates": [
            [
             [
              -124.17404858142513,
              40.86422220794567
             ],
             [
              -124.17460577811191,
              40.89574506655364
             ],
             [
              -124.1330631297143,
              40.89616072971841
             ],
             [
              -124.13252562911848,
              40.86463741225173
             ],
             [
              -124.17404858142513,
              40.86422220794567
             ]
            ]
           ],
           "type": "Polygon"
          },
          "id": "1",
          "properties": {
           "id": "1",
           "style": {
            "color": "#555555",
            "fillOpacity": 0.1,
            "fill_color": "#555555",
            "weight": 1
           }
          },
          "type": "Feature"
         }
        ],
        "type": "FeatureCollection"
       },
       "hover_style": {
        "color": "crimson",
        "fillOpacity": 0.1
       },
       "name": "ROIs",
       "style": {
        "color": "#555555",
        "fillOpacity": 0.1,
        "fill_color": "#555555",
        "weight": 1
       }
      }
     },
     "f51b4d1e98db4cae8c6153bf90341664": {
      "model_module": "@jupyter-widgets/controls",
      "model_module_version": "1.5.0",
      "model_name": "DescriptionStyleModel",
      "state": {
       "description_width": ""
      }
     },
     "f540058274c34aabb2704808f1a51386": {
      "model_module": "jupyter-leaflet",
      "model_module_version": "^0.17.0",
      "model_name": "LeafletTileLayerModel",
      "state": {
       "_model_module_version": "^0.17.0",
       "_view_module_version": "^0.17.0",
       "attribution": "(C) OpenStreetMap contributors",
       "name": "OpenStreetMap.CH",
       "options": [
        "attribution",
        "bounds",
        "detect_retina",
        "max_native_zoom",
        "max_zoom",
        "min_native_zoom",
        "min_zoom",
        "no_wrap",
        "tile_size",
        "tms"
       ],
       "url": "https://tile.osm.ch/switzerland/{z}/{x}/{y}.png"
      }
     },
     "f541074ae4e64ad38b1c0db1902209b2": {
      "model_module": "jupyter-leaflet",
      "model_module_version": "^0.17.0",
      "model_name": "LeafletGeoJSONModel",
      "state": {
       "_model_module_version": "^0.17.0",
       "_view_module_version": "^0.17.0",
       "data": {
        "features": [
         {
          "geometry": {
           "coordinates": [
            [
             -124.15992912793195,
             40.876447
            ],
            [
             -124.1599086,
             40.87648977300006
            ],
            [
             -124.15988729099996,
             40.87653324000007
            ]
           ],
           "type": "LineString"
          },
          "id": "0",
          "properties": {
           "style": {
            "color": "#9933ff",
            "fillOpacity": 0.5,
            "fill_color": "#9933ff",
            "opacity": 1,
            "weight": 2
           }
          },
          "type": "Feature"
         },
         {
          "geometry": {
           "coordinates": [
            [
             -124.15988729099996,
             40.87653324000007
            ],
            [
             -124.15961346399996,
             40.87709180000007
            ],
            [
             -124.159585484,
             40.87714117500008
            ],
            [
             -124.15955475699997,
             40.87717770300003
            ],
            [
             -124.15936185499999,
             40.877363915000046
            ],
            [
             -124.15933012699998,
             40.87738634900006
            ],
            [
             -124.15929424299998,
             40.877399608000076
            ],
            [
             -124.15925587399994,
             40.877403865000076
            ],
            [
             -124.15921742399996,
             40.877399670000045
            ],
            [
             -124.15918128899995,
             40.87738714000005
            ],
            [
             -124.159149104,
             40.87736682100007
            ],
            [
             -124.15908943199997,
             40.87731773200005
            ],
            [
             -124.15905723299994,
             40.87729739200006
            ],
            [
             -124.15902107699998,
             40.87728482700004
            ],
            [
             -124.15898260399996,
             40.877280591000044
            ],
            [
             -124.15894422099996,
             40.87728480800007
            ],
            [
             -124.15890834199996,
             40.87729803700006
            ],
            [
             -124.158876653,
             40.877320471000075
            ],
            [
             -124.15868669899999,
             40.87750911000006
            ],
            [
             -124.15865753299994,
             40.877547046000075
            ],
            [
             -124.15863103999999,
             40.87760156400003
            ],
            [
             -124.15861219899995,
             40.877664055000025
            ],
            [
             -124.15859862999997,
             40.877731984000036
            ],
            [
             -124.15858834499994,
             40.877803260000064
            ],
            [
             -124.15857086399996,
             40.87794886000006
            ],
            [
             -124.15856048199998,
             40.87801994000006
            ],
            [
             -124.15854675899999,
             40.878087606000065
            ],
            [
             -124.15852772099998,
             40.87814988900004
            ],
            [
             -124.15850100299997,
             40.87820442300006
            ],
            [
             -124.15847165399998,
             40.87824273700005
            ],
            [
             -124.15828316299996,
             40.87845953000004
            ],
            [
             -124.15815077299999,
             40.87859692300003
            ],
            [
             -124.15812137699999,
             40.878634945000044
            ],
            [
             -124.158094587,
             40.87868904800007
            ],
            [
             -124.15807545799998,
             40.87875080200007
            ],
            [
             -124.158061627,
             40.87881784600006
            ],
            [
             -124.15805111499998,
             40.87888820500007
            ],
            [
             -124.15803330699998,
             40.87903212500004
            ],
            [
             -124.15802282599998,
             40.87910250300007
            ],
            [
             -124.15800903899998,
             40.87916957300007
            ],
            [
             -124.15798997199994,
             40.87923136100005
            ],
            [
             -124.15796325599996,
             40.87928549800006
            ],
            [
             -124.15793392599994,
             40.879323544000044
            ],
            [
             -124.15774523199997,
             40.87953910400006
            ],
            [
             -124.15752908399998,
             40.87981382300006
            ],
            [
             -124.157257389,
             40.880350613000076
            ],
            [
             -124.15703906899995,
             40.88078677800007
            ],
            [
             -124.15701536399996,
             40.88084007200007
            ],
            [
             -124.15699848999998,
             40.88090019600003
            ],
            [
             -124.15698669799997,
             40.88096540500004
            ],
            [
             -124.15697858199997,
             40.881034287000034
            ],
            [
             -124.15697299699997,
             40.881105699000045
            ],
            [
             -124.15695832199998,
             40.88139901900007
            ],
            [
             -124.15695252699999,
             40.881470222000075
            ],
            [
             -124.15694403499998,
             40.881538729000056
            ],
            [
             -124.15693161099995,
             40.88160330300008
            ],
            [
             -124.15691371599996,
             40.88166240600003
            ],
            [
             -124.15688841499997,
             40.881714104000025
            ],
            [
             -124.15685915599994,
             40.88175221900008
            ],
            [
             -124.15666690599994,
             40.881964211000025
            ],
            [
             -124.156634753,
             40.88199943200004
            ],
            [
             -124.156598439,
             40.882030490000034
            ],
            [
             -124.15652090099996,
             40.882087700000056
            ],
            [
             -124.15648458599998,
             40.882118760000026
            ],
            [
             -124.156452436,
             40.88215398400007
            ],
            [
             -124.15634659699998,
             40.88227073300004
            ]
           ],
           "type": "LineString"
          },
          "id": "1",
          "properties": {
           "style": {
            "color": "#9933ff",
            "fillOpacity": 0.5,
            "fill_color": "#9933ff",
            "opacity": 1,
            "weight": 2
           }
          },
          "type": "Feature"
         },
         {
          "geometry": {
           "coordinates": [
            [
             -124.15841834899999,
             40.879638502000034
            ],
            [
             -124.15838015299994,
             40.879634569000075
            ],
            [
             -124.15836270799997,
             40.87963067700008
            ],
            [
             -124.15834711899998,
             40.879624861000025
            ],
            [
             -124.15833417999994,
             40.87961637700005
            ],
            [
             -124.15832457599998,
             40.87960457300005
            ],
            [
             -124.158317792,
             40.87958998000005
            ],
            [
             -124.15831313999996,
             40.87957298200007
            ],
            [
             -124.158310127,
             40.879551578000076
            ],
            [
             -124.15830843599997,
             40.87952648400005
            ],
            [
             -124.15830788,
             40.87947104700004
            ],
            [
             -124.158311374,
             40.879364140000064
            ],
            [
             -124.15841828199996,
             40.879360646000066
            ],
            [
             -124.15847371799998,
             40.87936120100005
            ],
            [
             -124.15849881399998,
             40.87936289100003
            ],
            [
             -124.15852021799998,
             40.87936590600003
            ],
            [
             -124.15853721499997,
             40.87937055700007
            ],
            [
             -124.15855180699998,
             40.879377341000065
            ],
            [
             -124.15856361299996,
             40.87938694600007
            ],
            [
             -124.15857209599994,
             40.879399884000065
            ],
            [
             -124.15857791099995,
             40.87941547300005
            ],
            [
             -124.158581804,
             40.87943291800008
            ],
            [
             -124.15858573699995,
             40.87947111500006
            ],
            [
             -124.15858618099998,
             40.879511053000044
            ],
            [
             -124.15858343399998,
             40.87955016400008
            ],
            [
             -124.15858048099994,
             40.87956856100004
            ],
            [
             -124.158576031,
             40.87958560800007
            ],
            [
             -124.15856957199998,
             40.879600725000046
            ],
            [
             -124.15856040299997,
             40.87961316800005
            ],
            [
             -124.15854795999996,
             40.87962233700006
            ],
            [
             -124.15853284399998,
             40.879628797000066
            ],
            [
             -124.15851579599996,
             40.879633246000026
            ],
            [
             -124.15849739899994,
             40.87963619900006
            ],
            [
             -124.15845828799996,
             40.87963894600006
            ],
            [
             -124.15841834899999,
             40.879638502000034
            ]
           ],
           "type": "LineString"
          },
          "id": "2",
          "properties": {
           "style": {
            "color": "#9933ff",
            "fillOpacity": 0.5,
            "fill_color": "#9933ff",
            "opacity": 1,
            "weight": 2
           }
          },
          "type": "Feature"
         },
         {
          "geometry": {
           "coordinates": [
            [
             -124.15634659699998,
             40.88227073300004
            ],
            [
             -124.15626022199996,
             40.882366012000034
            ],
            [
             -124.15623097599996,
             40.88240413900007
            ],
            [
             -124.15620569099997,
             40.88245585300007
            ],
            [
             -124.15618781799998,
             40.88251497700003
            ],
            [
             -124.15617541999995,
             40.88257957800005
            ],
            [
             -124.15616695999995,
             40.88264811700003
            ],
            [
             -124.15616120199996,
             40.88271935800003
            ],
            [
             -124.15614677899998,
             40.883012929000074
            ],
            [
             -124.15614128799996,
             40.88308443600005
            ],
            [
             -124.15613327999995,
             40.88315342900006
            ],
            [
             -124.15612161499996,
             40.88321876400005
            ],
            [
             -124.15610488399994,
             40.883279033000065
            ],
            [
             -124.15608133599994,
             40.88333248500004
            ],
            [
             -124.15584084199998,
             40.88382354200007
            ],
            [
             -124.15581269999996,
             40.88387241800007
            ],
            [
             -124.15578180999995,
             40.883908922000046
            ],
            [
             -124.15555582999997,
             40.88415489100004
            ],
            [
             -124.155519788,
             40.88418631600007
            ],
            [
             -124.15544280399996,
             40.88424432200003
            ],
            [
             -124.15540672499998,
             40.884275770000045
            ],
            [
             -124.15517968299997,
             40.88452241600004
            ],
            [
             -124.15514850599999,
             40.88455909000004
            ],
            [
             -124.15511999399996,
             40.884608179000054
            ],
            [
             -124.154878968,
             40.88509626900003
            ],
            [
             -124.15485776699995,
             40.885146889000055
            ],
            [
             -124.15484489599999,
             40.885202900000024
            ],
            [
             -124.15483922599998,
             40.88526201500008
            ],
            [
             -124.15484018199999,
             40.88532212400003
            ],
            [
             -124.15484770599994,
             40.88538118200006
            ],
            [
             -124.15486226299998,
             40.88543707800005
            ],
            [
             -124.15488483499996,
             40.885487529000045
            ],
            [
             -124.15491148999996,
             40.885526036000044
            ],
            [
             -124.15497188999996,
             40.88559699100006
            ],
            [
             -124.15499848999997,
             40.88563544100003
            ],
            [
             -124.15502095699998,
             40.88568578700006
            ],
            [
             -124.15503536899996,
             40.88574153900004
            ],
            [
             -124.15504272199996,
             40.88580042500007
            ],
            [
             -124.15504349399998,
             40.885860352000066
            ],
            [
             -124.15503765699998,
             40.88591929800003
            ],
            [
             -124.15502466799995,
             40.88597519000007
            ],
            [
             -124.15479055699996,
             40.88664676900004
            ],
            [
             -124.15464348299997,
             40.88694654200003
            ],
            [
             -124.15455851499996,
             40.88717215300005
            ],
            [
             -124.15434604499995,
             40.887795968000034
            ],
            [
             -124.15427835999998,
             40.88805233700003
            ],
            [
             -124.15419291799998,
             40.88845441900003
            ],
            [
             -124.15412563799998,
             40.888659793000045
            ]
           ],
           "type": "LineString"
          },
          "id": "3",
          "properties": {
           "style": {
            "color": "#9933ff",
            "fillOpacity": 0.5,
            "fill_color": "#9933ff",
            "opacity": 1,
            "weight": 2
           }
          },
          "type": "Feature"
         },
         {
          "geometry": {
           "coordinates": [
            [
             -124.15412563799998,
             40.888659793000045
            ],
            [
             -124.15396916199995,
             40.88913743300003
            ],
            [
             -124.15394988199995,
             40.88918888500007
            ],
            [
             -124.15392291599994,
             40.88922744700005
            ],
            [
             -124.15389333699994,
             40.88924706500006
            ],
            [
             -124.15385945999998,
             40.88925589300004
            ],
            [
             -124.15382411799999,
             40.88925491300006
            ],
            [
             -124.15379004199997,
             40.889244577000056
            ],
            [
             -124.15375912899998,
             40.88922569600004
            ],
            [
             -124.15370038299994,
             40.88917796900006
            ],
            [
             -124.153668101,
             40.88915782500004
            ],
            [
             -124.15363161899995,
             40.88914526000008
            ],
            [
             -124.15359264099999,
             40.88914089100007
            ],
            [
             -124.15355361199994,
             40.889144886000054
            ],
            [
             -124.15351698799998,
             40.88915784200003
            ],
            [
             -124.15348447199995,
             40.889179969000054
            ],
            [
             -124.15345456399996,
             40.88920856900006
            ],
            [
             -124.15332351899997,
             40.88933388600003
            ],
            [
             -124.15328940199998,
             40.88936665700004
            ],
            [
             -124.15325981399997,
             40.88940427500006
            ],
            [
             -124.15323333699996,
             40.88945842000004
            ],
            [
             -124.15321540899998,
             40.88952055400006
            ],
            [
             -124.15320413699999,
             40.889588151000055
            ],
            [
             -124.15319821499997,
             40.88965914500005
            ],
            [
             -124.15319686699996,
             40.88973178500004
            ],
            [
             -124.15319979799995,
             40.889804498000046
            ],
            [
             -124.15320716599996,
             40.88987575200008
            ],
            [
             -124.15321958399994,
             40.88994394500003
            ],
            [
             -124.15323814099997,
             40.89000727800004
            ],
            [
             -124.15326443799995,
             40.89006363800007
            ],
            [
             -124.15329296199997,
             40.890104300000075
            ],
            [
             -124.15335669799998,
             40.89017905600008
            ],
            [
             -124.15338518099998,
             40.89021956900007
            ],
            [
             -124.15341139099996,
             40.89027562100006
            ],
            [
             -124.15342983499994,
             40.89033851700003
            ],
            [
             -124.15344212199994,
             40.89040616200003
            ],
            [
             -124.15344937099997,
             40.890476782000064
            ],
            [
             -124.15345222299999,
             40.89054882100004
            ],
            [
             -124.15345088999999,
             40.890620829000056
            ],
            [
             -124.153445149,
             40.890691342000025
            ],
            [
             -124.153434329,
             40.89075878300008
            ],
            [
             -124.15341727199996,
             40.890821337000034
            ],
            [
             -124.153392296,
             40.89087684700007
            ],
            [
             -124.15254570999997,
             40.89253320100005
            ],
            [
             -124.152064742,
             40.89324286300007
            ],
            [
             -124.15203689099997,
             40.89327739600003
            ],
            [
             -124.15200626899997,
             40.893295659000046
            ],
            [
             -124.15197181599996,
             40.89330302800005
            ],
            [
             -124.15193623999994,
             40.89330010600003
            ],
            [
             -124.15190218099997,
             40.89328692000004
            ],
            [
             -124.15187146199997,
             40.89326377500004
            ],
            [
             -124.15174566999997,
             40.893137196000055
            ],
            [
             -124.15154193099994,
             40.89295327600007
            ],
            [
             -124.15151074099998,
             40.89293017700004
            ],
            [
             -124.15147612799996,
             40.89291705200003
            ],
            [
             -124.15143992399999,
             40.892914200000064
            ],
            [
             -124.15140477699998,
             40.89292165200004
            ],
            [
             -124.15137342199995,
             40.89294001300004
            ],
            [
             -124.15134471999994,
             40.89297467600005
            ],
            [
             -124.15132200499994,
             40.893020388000025
            ],
            [
             -124.15111936999995,
             40.89342997800003
            ],
            [
             -124.15110744799995,
             40.89346777600008
            ],
            [
             -124.15110449999997,
             40.89350742800008
            ],
            [
             -124.15111039099997,
             40.89354667400005
            ],
            [
             -124.15112545799997,
             40.89358322900006
            ],
            [
             -124.15113887399997,
             40.893601130000036
            ]
           ],
           "type": "LineString"
          },
          "id": "4",
          "properties": {
           "style": {
            "color": "#9933ff",
            "fillOpacity": 0.5,
            "fill_color": "#9933ff",
            "opacity": 1,
            "weight": 2
           }
          },
          "type": "Feature"
         },
         {
          "geometry": {
           "coordinates": [
            [
             -124.15113887399997,
             40.893601130000036
            ],
            [
             -124.15114967799997,
             40.893615546000035
            ],
            [
             -124.151332793,
             40.89381853500004
            ],
            [
             -124.15145937499994,
             40.89394442300005
            ],
            [
             -124.151483601,
             40.893976259000056
            ],
            [
             -124.15149867399998,
             40.89401225100005
            ],
            [
             -124.15150456999999,
             40.89405085400006
            ],
            [
             -124.15150163199996,
             40.89408980300004
            ],
            [
             -124.151489718,
             40.894126852000056
            ],
            [
             -124.15126470499996,
             40.89460277200004
            ],
            [
             -124.15123607599998,
             40.894652724000025
            ],
            [
             -124.15120479499996,
             40.89469023000004
            ],
            [
             -124.15097751699994,
             40.89494229200005
            ],
            [
             -124.15094144799997,
             40.89497369000003
            ],
            [
             -124.15073623999996,
             40.89514836400008
            ],
            [
             -124.15070406599995,
             40.895170423000025
            ],
            [
             -124.15066794699999,
             40.895183503000055
            ],
            [
             -124.15062952,
             40.89518775100004
            ],
            [
             -124.15059118099998,
             40.89518370700006
            ],
            [
             -124.15055533299994,
             40.895171498000025
            ],
            [
             -124.15052364299999,
             40.89515170400006
            ],
            [
             -124.150465828,
             40.895104512000046
            ],
            [
             -124.15043517699996,
             40.895085735000066
            ],
            [
             -124.15040116299997,
             40.89507532600004
            ],
            [
             -124.15036561399995,
             40.89507402400005
            ],
            [
             -124.15033117599995,
             40.89508219500004
            ],
            [
             -124.15030056699999,
             40.89510070100005
            ],
            [
             -124.15027274999994,
             40.895135081000035
            ],
            [
             -124.15005850399996,
             40.89556156200007
            ],
            [
             -124.14993006999998,
             40.89588913400007
            ],
            [
             -124.14966103499995,
             40.89643096100008
            ],
            [
             -124.14939155499997,
             40.89697025800007
            ],
            [
             -124.14912174199998,
             40.897508955000035
            ],
            [
             -124.14904502699994,
             40.897653612000056
            ],
            [
             -124.14890431699996,
             40.89786902000003
            ],
            [
             -124.14868563999994,
             40.898304832000065
            ],
            [
             -124.14866038999997,
             40.89836043100007
            ],
            [
             -124.14864219999998,
             40.89842308900006
            ],
            [
             -124.14862890399996,
             40.89849064200007
            ],
            [
             -124.148618683,
             40.89856127000007
            ],
            [
             -124.14860123299997,
             40.89870551700005
            ],
            [
             -124.14859105099998,
             40.89877618400004
            ],
            [
             -124.14858443183618,
             40.89881
            ]
           ],
           "type": "LineString"
          },
          "id": "5",
          "properties": {
           "style": {
            "color": "#9933ff",
            "fillOpacity": 0.5,
            "fill_color": "#9933ff",
            "opacity": 1,
            "weight": 2
           }
          },
          "type": "Feature"
         },
         {
          "geometry": {
           "coordinates": [
            [
             -124.15992912793195,
             40.876447
            ],
            [
             -124.1599086,
             40.87648977300006
            ],
            [
             -124.15988729099996,
             40.87653324000007
            ]
           ],
           "type": "LineString"
          },
          "id": "6",
          "properties": {
           "style": {
            "color": "#9933ff",
            "fillOpacity": 0.5,
            "fill_color": "#9933ff",
            "opacity": 1,
            "weight": 2
           }
          },
          "type": "Feature"
         },
         {
          "geometry": {
           "coordinates": [
            [
             -124.15988729099996,
             40.87653324000007
            ],
            [
             -124.15961346399996,
             40.87709180000007
            ],
            [
             -124.159585484,
             40.87714117500008
            ],
            [
             -124.15955475699997,
             40.87717770300003
            ],
            [
             -124.15936185499999,
             40.877363915000046
            ],
            [
             -124.15933012699998,
             40.87738634900006
            ],
            [
             -124.15929424299998,
             40.877399608000076
            ],
            [
             -124.15925587399994,
             40.877403865000076
            ],
            [
             -124.15921742399996,
             40.877399670000045
            ],
            [
             -124.15918128899995,
             40.87738714000005
            ],
            [
             -124.159149104,
             40.87736682100007
            ],
            [
             -124.15908943199997,
             40.87731773200005
            ],
            [
             -124.15905723299994,
             40.87729739200006
            ],
            [
             -124.15902107699998,
             40.87728482700004
            ],
            [
             -124.15898260399996,
             40.877280591000044
            ],
            [
             -124.15894422099996,
             40.87728480800007
            ],
            [
             -124.15890834199996,
             40.87729803700006
            ],
            [
             -124.158876653,
             40.877320471000075
            ],
            [
             -124.15868669899999,
             40.87750911000006
            ],
            [
             -124.15865753299994,
             40.877547046000075
            ],
            [
             -124.15863103999999,
             40.87760156400003
            ],
            [
             -124.15861219899995,
             40.877664055000025
            ],
            [
             -124.15859862999997,
             40.877731984000036
            ],
            [
             -124.15858834499994,
             40.877803260000064
            ],
            [
             -124.15857086399996,
             40.87794886000006
            ],
            [
             -124.15856048199998,
             40.87801994000006
            ],
            [
             -124.15854675899999,
             40.878087606000065
            ],
            [
             -124.15852772099998,
             40.87814988900004
            ],
            [
             -124.15850100299997,
             40.87820442300006
            ],
            [
             -124.15847165399998,
             40.87824273700005
            ],
            [
             -124.15828316299996,
             40.87845953000004
            ],
            [
             -124.15815077299999,
             40.87859692300003
            ],
            [
             -124.15812137699999,
             40.878634945000044
            ],
            [
             -124.158094587,
             40.87868904800007
            ],
            [
             -124.15807545799998,
             40.87875080200007
            ],
            [
             -124.158061627,
             40.87881784600006
            ],
            [
             -124.15805111499998,
             40.87888820500007
            ],
            [
             -124.15803330699998,
             40.87903212500004
            ],
            [
             -124.15802282599998,
             40.87910250300007
            ],
            [
             -124.15800903899998,
             40.87916957300007
            ],
            [
             -124.15798997199994,
             40.87923136100005
            ],
            [
             -124.15796325599996,
             40.87928549800006
            ],
            [
             -124.15793392599994,
             40.879323544000044
            ],
            [
             -124.15774523199997,
             40.87953910400006
            ],
            [
             -124.15752908399998,
             40.87981382300006
            ],
            [
             -124.157257389,
             40.880350613000076
            ],
            [
             -124.15703906899995,
             40.88078677800007
            ],
            [
             -124.15701536399996,
             40.88084007200007
            ],
            [
             -124.15699848999998,
             40.88090019600003
            ],
            [
             -124.15698669799997,
             40.88096540500004
            ],
            [
             -124.15697858199997,
             40.881034287000034
            ],
            [
             -124.15697299699997,
             40.881105699000045
            ],
            [
             -124.15695832199998,
             40.88139901900007
            ],
            [
             -124.15695252699999,
             40.881470222000075
            ],
            [
             -124.15694403499998,
             40.881538729000056
            ],
            [
             -124.15693161099995,
             40.88160330300008
            ],
            [
             -124.15691371599996,
             40.88166240600003
            ],
            [
             -124.15688841499997,
             40.881714104000025
            ],
            [
             -124.15685915599994,
             40.88175221900008
            ],
            [
             -124.15666690599994,
             40.881964211000025
            ],
            [
             -124.156634753,
             40.88199943200004
            ],
            [
             -124.156598439,
             40.882030490000034
            ],
            [
             -124.15652090099996,
             40.882087700000056
            ],
            [
             -124.15648458599998,
             40.882118760000026
            ],
            [
             -124.156452436,
             40.88215398400007
            ],
            [
             -124.15634659699998,
             40.88227073300004
            ]
           ],
           "type": "LineString"
          },
          "id": "7",
          "properties": {
           "style": {
            "color": "#9933ff",
            "fillOpacity": 0.5,
            "fill_color": "#9933ff",
            "opacity": 1,
            "weight": 2
           }
          },
          "type": "Feature"
         },
         {
          "geometry": {
           "coordinates": [
            [
             -124.15841834899999,
             40.879638502000034
            ],
            [
             -124.15838015299994,
             40.879634569000075
            ],
            [
             -124.15836270799997,
             40.87963067700008
            ],
            [
             -124.15834711899998,
             40.879624861000025
            ],
            [
             -124.15833417999994,
             40.87961637700005
            ],
            [
             -124.15832457599998,
             40.87960457300005
            ],
            [
             -124.158317792,
             40.87958998000005
            ],
            [
             -124.15831313999996,
             40.87957298200007
            ],
            [
             -124.158310127,
             40.879551578000076
            ],
            [
             -124.15830843599997,
             40.87952648400005
            ],
            [
             -124.15830788,
             40.87947104700004
            ],
            [
             -124.158311374,
             40.879364140000064
            ],
            [
             -124.15841828199996,
             40.879360646000066
            ],
            [
             -124.15847371799998,
             40.87936120100005
            ],
            [
             -124.15849881399998,
             40.87936289100003
            ],
            [
             -124.15852021799998,
             40.87936590600003
            ],
            [
             -124.15853721499997,
             40.87937055700007
            ],
            [
             -124.15855180699998,
             40.879377341000065
            ],
            [
             -124.15856361299996,
             40.87938694600007
            ],
            [
             -124.15857209599994,
             40.879399884000065
            ],
            [
             -124.15857791099995,
             40.87941547300005
            ],
            [
             -124.158581804,
             40.87943291800008
            ],
            [
             -124.15858573699995,
             40.87947111500006
            ],
            [
             -124.15858618099998,
             40.879511053000044
            ],
            [
             -124.15858343399998,
             40.87955016400008
            ],
            [
             -124.15858048099994,
             40.87956856100004
            ],
            [
             -124.158576031,
             40.87958560800007
            ],
            [
             -124.15856957199998,
             40.879600725000046
            ],
            [
             -124.15856040299997,
             40.87961316800005
            ],
            [
             -124.15854795999996,
             40.87962233700006
            ],
            [
             -124.15853284399998,
             40.879628797000066
            ],
            [
             -124.15851579599996,
             40.879633246000026
            ],
            [
             -124.15849739899994,
             40.87963619900006
            ],
            [
             -124.15845828799996,
             40.87963894600006
            ],
            [
             -124.15841834899999,
             40.879638502000034
            ]
           ],
           "type": "LineString"
          },
          "id": "8",
          "properties": {
           "style": {
            "color": "#9933ff",
            "fillOpacity": 0.5,
            "fill_color": "#9933ff",
            "opacity": 1,
            "weight": 2
           }
          },
          "type": "Feature"
         },
         {
          "geometry": {
           "coordinates": [
            [
             -124.15634659699998,
             40.88227073300004
            ],
            [
             -124.15626022199996,
             40.882366012000034
            ],
            [
             -124.15623097599996,
             40.88240413900007
            ],
            [
             -124.15620569099997,
             40.88245585300007
            ],
            [
             -124.15618781799998,
             40.88251497700003
            ],
            [
             -124.15617541999995,
             40.88257957800005
            ],
            [
             -124.15616695999995,
             40.88264811700003
            ],
            [
             -124.15616120199996,
             40.88271935800003
            ],
            [
             -124.15614677899998,
             40.883012929000074
            ],
            [
             -124.15614128799996,
             40.88308443600005
            ],
            [
             -124.15613327999995,
             40.88315342900006
            ],
            [
             -124.15612161499996,
             40.88321876400005
            ],
            [
             -124.15610488399994,
             40.883279033000065
            ],
            [
             -124.15608133599994,
             40.88333248500004
            ],
            [
             -124.15584084199998,
             40.88382354200007
            ],
            [
             -124.15581269999996,
             40.88387241800007
            ],
            [
             -124.15578180999995,
             40.883908922000046
            ],
            [
             -124.15555582999997,
             40.88415489100004
            ],
            [
             -124.155519788,
             40.88418631600007
            ],
            [
             -124.15544280399996,
             40.88424432200003
            ],
            [
             -124.15540672499998,
             40.884275770000045
            ],
            [
             -124.15517968299997,
             40.88452241600004
            ],
            [
             -124.15514850599999,
             40.88455909000004
            ],
            [
             -124.15511999399996,
             40.884608179000054
            ],
            [
             -124.154878968,
             40.88509626900003
            ],
            [
             -124.15485776699995,
             40.885146889000055
            ],
            [
             -124.15484489599999,
             40.885202900000024
            ],
            [
             -124.15483922599998,
             40.88526201500008
            ],
            [
             -124.15484018199999,
             40.88532212400003
            ],
            [
             -124.15484770599994,
             40.88538118200006
            ],
            [
             -124.15486226299998,
             40.88543707800005
            ],
            [
             -124.15488483499996,
             40.885487529000045
            ],
            [
             -124.15491148999996,
             40.885526036000044
            ],
            [
             -124.15497188999996,
             40.88559699100006
            ],
            [
             -124.15499848999997,
             40.88563544100003
            ],
            [
             -124.15502095699998,
             40.88568578700006
            ],
            [
             -124.15503536899996,
             40.88574153900004
            ],
            [
             -124.15504272199996,
             40.88580042500007
            ],
            [
             -124.15504349399998,
             40.885860352000066
            ],
            [
             -124.15503765699998,
             40.88591929800003
            ],
            [
             -124.15502466799995,
             40.88597519000007
            ],
            [
             -124.15479055699996,
             40.88664676900004
            ],
            [
             -124.15464348299997,
             40.88694654200003
            ],
            [
             -124.15455851499996,
             40.88717215300005
            ],
            [
             -124.15434604499995,
             40.887795968000034
            ],
            [
             -124.15427835999998,
             40.88805233700003
            ],
            [
             -124.15419291799998,
             40.88845441900003
            ],
            [
             -124.15412563799998,
             40.888659793000045
            ]
           ],
           "type": "LineString"
          },
          "id": "9",
          "properties": {
           "style": {
            "color": "#9933ff",
            "fillOpacity": 0.5,
            "fill_color": "#9933ff",
            "opacity": 1,
            "weight": 2
           }
          },
          "type": "Feature"
         },
         {
          "geometry": {
           "coordinates": [
            [
             -124.15412563799998,
             40.888659793000045
            ],
            [
             -124.15396916199995,
             40.88913743300003
            ],
            [
             -124.15394988199995,
             40.88918888500007
            ],
            [
             -124.15392291599994,
             40.88922744700005
            ],
            [
             -124.15389333699994,
             40.88924706500006
            ],
            [
             -124.15385945999998,
             40.88925589300004
            ],
            [
             -124.15382411799999,
             40.88925491300006
            ],
            [
             -124.15379004199997,
             40.889244577000056
            ],
            [
             -124.15375912899998,
             40.88922569600004
            ],
            [
             -124.15370038299994,
             40.88917796900006
            ],
            [
             -124.153668101,
             40.88915782500004
            ],
            [
             -124.15363161899995,
             40.88914526000008
            ],
            [
             -124.15359264099999,
             40.88914089100007
            ],
            [
             -124.15355361199994,
             40.889144886000054
            ],
            [
             -124.15351698799998,
             40.88915784200003
            ],
            [
             -124.15348447199995,
             40.889179969000054
            ],
            [
             -124.15345456399996,
             40.88920856900006
            ],
            [
             -124.15332351899997,
             40.88933388600003
            ],
            [
             -124.15328940199998,
             40.88936665700004
            ],
            [
             -124.15325981399997,
             40.88940427500006
            ],
            [
             -124.15323333699996,
             40.88945842000004
            ],
            [
             -124.15321540899998,
             40.88952055400006
            ],
            [
             -124.15320413699999,
             40.889588151000055
            ],
            [
             -124.15319821499997,
             40.88965914500005
            ],
            [
             -124.15319686699996,
             40.88973178500004
            ],
            [
             -124.15319979799995,
             40.889804498000046
            ],
            [
             -124.15320716599996,
             40.88987575200008
            ],
            [
             -124.15321958399994,
             40.88994394500003
            ],
            [
             -124.15323814099997,
             40.89000727800004
            ],
            [
             -124.15326443799995,
             40.89006363800007
            ],
            [
             -124.15329296199997,
             40.890104300000075
            ],
            [
             -124.15335669799998,
             40.89017905600008
            ],
            [
             -124.15338518099998,
             40.89021956900007
            ],
            [
             -124.15341139099996,
             40.89027562100006
            ],
            [
             -124.15342983499994,
             40.89033851700003
            ],
            [
             -124.15344212199994,
             40.89040616200003
            ],
            [
             -124.15344937099997,
             40.890476782000064
            ],
            [
             -124.15345222299999,
             40.89054882100004
            ],
            [
             -124.15345088999999,
             40.890620829000056
            ],
            [
             -124.153445149,
             40.890691342000025
            ],
            [
             -124.153434329,
             40.89075878300008
            ],
            [
             -124.15341727199996,
             40.890821337000034
            ],
            [
             -124.153392296,
             40.89087684700007
            ],
            [
             -124.15254570999997,
             40.89253320100005
            ],
            [
             -124.152064742,
             40.89324286300007
            ],
            [
             -124.15203689099997,
             40.89327739600003
            ],
            [
             -124.15200626899997,
             40.893295659000046
            ],
            [
             -124.15197181599996,
             40.89330302800005
            ],
            [
             -124.15193623999994,
             40.89330010600003
            ],
            [
             -124.15190218099997,
             40.89328692000004
            ],
            [
             -124.15187146199997,
             40.89326377500004
            ],
            [
             -124.15174566999997,
             40.893137196000055
            ],
            [
             -124.15154193099994,
             40.89295327600007
            ],
            [
             -124.15151074099998,
             40.89293017700004
            ],
            [
             -124.15147612799996,
             40.89291705200003
            ],
            [
             -124.15143992399999,
             40.892914200000064
            ],
            [
             -124.15140477699998,
             40.89292165200004
            ],
            [
             -124.15137342199995,
             40.89294001300004
            ],
            [
             -124.15134471999994,
             40.89297467600005
            ],
            [
             -124.15132200499994,
             40.893020388000025
            ],
            [
             -124.15111936999995,
             40.89342997800003
            ],
            [
             -124.15110744799995,
             40.89346777600008
            ],
            [
             -124.15110449999997,
             40.89350742800008
            ],
            [
             -124.15111039099997,
             40.89354667400005
            ],
            [
             -124.15112545799997,
             40.89358322900006
            ],
            [
             -124.15113887399997,
             40.893601130000036
            ]
           ],
           "type": "LineString"
          },
          "id": "10",
          "properties": {
           "style": {
            "color": "#9933ff",
            "fillOpacity": 0.5,
            "fill_color": "#9933ff",
            "opacity": 1,
            "weight": 2
           }
          },
          "type": "Feature"
         },
         {
          "geometry": {
           "coordinates": [
            [
             -124.15113887399997,
             40.893601130000036
            ],
            [
             -124.15114967799997,
             40.893615546000035
            ],
            [
             -124.151332793,
             40.89381853500004
            ],
            [
             -124.15145937499994,
             40.89394442300005
            ],
            [
             -124.151483601,
             40.893976259000056
            ],
            [
             -124.15149867399998,
             40.89401225100005
            ],
            [
             -124.15150456999999,
             40.89405085400006
            ],
            [
             -124.15150163199996,
             40.89408980300004
            ],
            [
             -124.151489718,
             40.894126852000056
            ],
            [
             -124.15126470499996,
             40.89460277200004
            ],
            [
             -124.15123607599998,
             40.894652724000025
            ],
            [
             -124.15120479499996,
             40.89469023000004
            ],
            [
             -124.15097751699994,
             40.89494229200005
            ],
            [
             -124.15094144799997,
             40.89497369000003
            ],
            [
             -124.15073623999996,
             40.89514836400008
            ],
            [
             -124.15070406599995,
             40.895170423000025
            ],
            [
             -124.15066794699999,
             40.895183503000055
            ],
            [
             -124.15062952,
             40.89518775100004
            ],
            [
             -124.15059118099998,
             40.89518370700006
            ],
            [
             -124.15055533299994,
             40.895171498000025
            ],
            [
             -124.15052364299999,
             40.89515170400006
            ],
            [
             -124.150465828,
             40.895104512000046
            ],
            [
             -124.15043517699996,
             40.895085735000066
            ],
            [
             -124.15040116299997,
             40.89507532600004
            ],
            [
             -124.15036561399995,
             40.89507402400005
            ],
            [
             -124.15033117599995,
             40.89508219500004
            ],
            [
             -124.15030056699999,
             40.89510070100005
            ],
            [
             -124.15027274999994,
             40.895135081000035
            ],
            [
             -124.15005850399996,
             40.89556156200007
            ],
            [
             -124.14993006999998,
             40.89588913400007
            ],
            [
             -124.14966103499995,
             40.89643096100008
            ],
            [
             -124.14939155499997,
             40.89697025800007
            ],
            [
             -124.14912174199998,
             40.897508955000035
            ],
            [
             -124.14904502699994,
             40.897653612000056
            ],
            [
             -124.14890431699996,
             40.89786902000003
            ],
            [
             -124.14868563999994,
             40.898304832000065
            ],
            [
             -124.14866038999997,
             40.89836043100007
            ],
            [
             -124.14864219999998,
             40.89842308900006
            ],
            [
             -124.14862890399996,
             40.89849064200007
            ],
            [
             -124.148618683,
             40.89856127000007
            ],
            [
             -124.14860123299997,
             40.89870551700005
            ],
            [
             -124.14859105099998,
             40.89877618400004
            ],
            [
             -124.14858443183618,
             40.89881
            ]
           ],
           "type": "LineString"
          },
          "id": "11",
          "properties": {
           "style": {
            "color": "#9933ff",
            "fillOpacity": 0.5,
            "fill_color": "#9933ff",
            "opacity": 1,
            "weight": 2
           }
          },
          "type": "Feature"
         }
        ],
        "type": "FeatureCollection"
       },
       "hover_style": {
        "color": "white",
        "fillOpacity": 0.7
       },
       "name": "geodataframe",
       "style": {
        "color": "#9933ff",
        "fillOpacity": 0.5,
        "fill_color": "#9933ff",
        "opacity": 1,
        "weight": 2
       }
      }
     },
     "f6d0bb36b97f42d2a743753ed7a2236d": {
      "model_module": "jupyter-leaflet",
      "model_module_version": "^0.17.0",
      "model_name": "LeafletWMSLayerModel",
      "state": {
       "_model_module_version": "^0.17.0",
       "_view_module_version": "^0.17.0",
       "attribution": "FWS",
       "crs": {
        "custom": false,
        "name": "EPSG3857"
       },
       "format": "image/png",
       "layers": "0",
       "name": "FWS NWI Wetlands Raster",
       "options": [
        "attribution",
        "bounds",
        "detect_retina",
        "format",
        "layers",
        "max_native_zoom",
        "max_zoom",
        "min_native_zoom",
        "min_zoom",
        "no_wrap",
        "styles",
        "tile_size",
        "tms",
        "transparent",
        "uppercase"
       ],
       "transparent": true,
       "url": "https://www.fws.gov/wetlands/arcgis/services/Wetlands_Raster/ImageServer/WMSServer?"
      }
     },
     "f7250b1463a14036b635fc97e7cbae61": {
      "model_module": "@jupyter-widgets/base",
      "model_module_version": "1.2.0",
      "model_name": "LayoutModel",
      "state": {}
     },
     "f7824cdc25fe4405ae58252716112d9e": {
      "model_module": "@jupyter-widgets/controls",
      "model_module_version": "1.5.0",
      "model_name": "HTMLModel",
      "state": {
       "layout": "IPY_MODEL_672a810b4a7245cd88ef58db23783ecb",
       "style": "IPY_MODEL_1b319080db6c4f5f9f2c2803826e22d6",
       "value": "<b>Pick a date:</b>"
      }
     },
     "f79aa4859e774b5ea6ff37b2fcbe7cfb": {
      "model_module": "@jupyter-widgets/base",
      "model_module_version": "1.2.0",
      "model_name": "LayoutModel",
      "state": {}
     },
     "fa514f5bcf5c44ce990ffbc373556e1e": {
      "model_module": "jupyter-leaflet",
      "model_module_version": "^0.17.0",
      "model_name": "LeafletTileLayerModel",
      "state": {
       "_model_module_version": "^0.17.0",
       "_view_module_version": "^0.17.0",
       "attribution": "(C) OpenStreetMap contributors",
       "max_zoom": 19,
       "name": "HikeBike.HikeBike",
       "options": [
        "attribution",
        "bounds",
        "detect_retina",
        "max_native_zoom",
        "max_zoom",
        "min_native_zoom",
        "min_zoom",
        "no_wrap",
        "tile_size",
        "tms"
       ],
       "url": "https://tiles.wmflabs.org/hikebike/{z}/{x}/{y}.png"
      }
     },
     "fa539870aad64343a73301d30223f79d": {
      "model_module": "@jupyter-widgets/base",
      "model_module_version": "1.2.0",
      "model_name": "LayoutModel",
      "state": {}
     },
     "fb2469bf77114fafa1529b5db7003cd1": {
      "model_module": "@jupyter-widgets/base",
      "model_module_version": "1.2.0",
      "model_name": "LayoutModel",
      "state": {}
     },
     "fc9ba0d5e9d44f298f1e505b088d1ef3": {
      "model_module": "@jupyter-widgets/controls",
      "model_module_version": "1.5.0",
      "model_name": "ButtonStyleModel",
      "state": {
       "button_color": "red"
      }
     },
     "fcdc36e52e0e4837a5c9096b7cfed23b": {
      "model_module": "jupyter-leaflet",
      "model_module_version": "^0.17.0",
      "model_name": "LeafletTileLayerModel",
      "state": {
       "_model_module_version": "^0.17.0",
       "_view_module_version": "^0.17.0",
       "attribution": "Earthstar Geographics",
       "max_zoom": 24,
       "name": "Esri.ArcticImagery",
       "options": [
        "attribution",
        "bounds",
        "detect_retina",
        "max_native_zoom",
        "max_zoom",
        "min_native_zoom",
        "min_zoom",
        "no_wrap",
        "tile_size",
        "tms"
       ],
       "url": "http://server.arcgisonline.com/ArcGIS/rest/services/Polar/Arctic_Imagery/MapServer/tile/{z}/{y}/{x}"
      }
     },
     "fd9aaf83ac43420d886abb464e3faefb": {
      "model_module": "@jupyter-widgets/base",
      "model_module_version": "1.2.0",
      "model_name": "LayoutModel",
      "state": {}
     },
     "fea3e8c5b59d4a718c5374ba70d552a3": {
      "model_module": "jupyter-leaflet",
      "model_module_version": "^0.17.0",
      "model_name": "LeafletTileLayerModel",
      "state": {
       "_model_module_version": "^0.17.0",
       "_view_module_version": "^0.17.0",
       "attribution": "Justice Map",
       "max_zoom": 22,
       "name": "JusticeMap.nonWhite",
       "options": [
        "attribution",
        "bounds",
        "detect_retina",
        "max_native_zoom",
        "max_zoom",
        "min_native_zoom",
        "min_zoom",
        "no_wrap",
        "tile_size",
        "tms"
       ],
       "url": "https://www.justicemap.org/tile/county/nonwhite/{z}/{x}/{y}.png"
      }
     },
     "ff286b707b3c45c3a0fce780b7cc05fe": {
      "model_module": "@jupyter-widgets/controls",
      "model_module_version": "1.5.0",
      "model_name": "ToggleButtonModel",
      "state": {
       "button_style": "primary",
       "icon": "folder-open",
       "layout": "IPY_MODEL_191a0a55fa02421aa33d76c3e1891a13",
       "style": "IPY_MODEL_0bbcadc32af1498790fc6b38a6f7218b",
       "tooltip": "Open local vector/raster data"
      }
     },
     "ff51baf3288d47ecb7db84d5d6d5f0ea": {
      "model_module": "jupyter-leaflet",
      "model_module_version": "^0.17.0",
      "model_name": "LeafletTileLayerModel",
      "state": {
       "_model_module_version": "^0.17.0",
       "_view_module_version": "^0.17.0",
       "attribution": "Datenquelle: basemap.at",
       "max_zoom": 19,
       "name": "BasemapAT.grau",
       "options": [
        "attribution",
        "bounds",
        "detect_retina",
        "max_native_zoom",
        "max_zoom",
        "min_native_zoom",
        "min_zoom",
        "no_wrap",
        "tile_size",
        "tms"
       ],
       "url": "https://maps.wien.gv.at/basemap/bmapgrau/normal/google3857/{z}/{y}/{x}.png"
      }
     },
     "ff82b2a746094719a72213be7adaeb7e": {
      "model_module": "@jupyter-widgets/base",
      "model_module_version": "1.2.0",
      "model_name": "LayoutModel",
      "state": {}
     },
     "ff9f954968af4495935d62454e38cf5e": {
      "model_module": "@jupyter-widgets/controls",
      "model_module_version": "1.5.0",
      "model_name": "HTMLModel",
      "state": {
       "layout": "IPY_MODEL_03c95a373eab49d0a75ad6c47e218757",
       "style": "IPY_MODEL_d8af880b9774442d9b8d6e0a4b1085a9",
       "value": " 2/2 [00:00&lt;00:00, 74.07it/s]"
      }
     },
     "ffc99d7b5f2b458f94dc4a1528b6a2bd": {
      "model_module": "@jupyter-widgets/base",
      "model_module_version": "1.2.0",
      "model_name": "LayoutModel",
      "state": {}
     }
    },
    "version_major": 2,
    "version_minor": 0
   }
  }
 },
 "nbformat": 4,
 "nbformat_minor": 4
}
