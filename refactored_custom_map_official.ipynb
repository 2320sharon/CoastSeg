{
 "cells": [
  {
   "cell_type": "code",
   "execution_count": null,
   "metadata": {},
   "outputs": [],
   "source": [
    "import os\n",
    "import datetime\n",
    "# Local Imports\n",
    "from src.coastseg import coastseg_logs #must be the first module loaded to create logs folder\n",
    "from src.coastseg import coastseg_map\n",
    "\n",
    "# External Imports\n",
    "import ee\n",
    "from google.auth import exceptions as google_auth_exceptions\n",
    "from IPython.display import display, clear_output\n",
    "from tkinter import Tk,filedialog\n",
    "from ipywidgets import Button, HBox, VBox, Layout, DatePicker, HTML, RadioButtons, SelectMultiple, Output, Checkbox\n",
    "\n",
    "# suppress tensorflow warnings\n",
    "os.environ['TF_CPP_MIN_LOG_LEVEL'] = '3'"
   ]
  },
  {
   "cell_type": "markdown",
   "metadata": {},
   "source": [
    "## Authenticate and Initialize with Google Earth Engine (GEE)\n",
    "\n",
    "- Run this cell to initialize with GEE which will allow you to download remote sensing data from GEE.\n",
    "\n",
    "### First Time Users\n",
    "\n",
    "- In order to use Google Earth Engine (GEE) you will need to sign up to request access to use Google Earth Engine.https://signup.earthengine.google.com. You will only need to do this once and it takes only a day to get your account verified.\n",
    "\n",
    "### How `ee.Authenticate()` works\n",
    "\n",
    "- In order to initialize with GEE you will need an authorization token with is obtained by running `ee.Authenticate()`.This token lasts 7 days and during those 7 days you will not need to authenticate with google earth engine with an access code. Once the 7 days are up you will need to reauthenticate to use GEE again.\n"
   ]
  },
  {
   "cell_type": "code",
   "execution_count": null,
   "metadata": {},
   "outputs": [],
   "source": [
    "try:\n",
    "    ee.Initialize()\n",
    "except google_auth_exceptions.RefreshError as exception:\n",
    "    print(\"Please authenticate with Google:\\n\")\n",
    "    ee.Authenticate()\n",
    "    ee.Initialize()"
   ]
  },
  {
   "cell_type": "code",
   "execution_count": null,
   "metadata": {},
   "outputs": [],
   "source": [
    "# Date Widgets\n",
    "start_date=DatePicker(\n",
    "    description='Start Date',\n",
    "    value=datetime.date(2018, 12, 1),\n",
    "    disabled=False,\n",
    ")\n",
    "end_date=DatePicker(\n",
    "    description='End Date',\n",
    "    value=datetime.date(2019, 3, 1), #2019, 1, 1\n",
    "    disabled=False,\n",
    ")\n",
    "date_instr=HTML(\n",
    "    value=\"<b>Pick a date:</b>\",\n",
    "    layout=Layout(padding='10px')\n",
    ")\n",
    "dates_box=HBox([start_date,end_date])\n",
    "dates_vbox=VBox([date_instr,dates_box])\n",
    "\n",
    "\n",
    "collection_instr=HTML(\n",
    "    value=\"<b>Pick a collection</b>\\\n",
    "        <br> C01: LandSat Collection 1 \\\n",
    "        <br> C02: LandSat Collection 2  [2022/01/01 and beyond] \\\n",
    "        <br>      - Landsat 9 is only available in C02\",\n",
    "    layout=Layout(padding='10px')\n",
    ")\n",
    "collection_radio=RadioButtons(\n",
    "    options=['C01', 'C02'],\n",
    "    value='C01',\n",
    "    description='Collection:',\n",
    "    disabled=False\n",
    ")\n",
    "collection_vbox=VBox([collection_instr,collection_radio])\n",
    "\n",
    "sat_instr=HTML(\n",
    "    value=\"<b>Pick multiple satellites by holding the control key:</b> \\\n",
    "        <br> - images prior to 2022/01/01 will be downloaded from Collection 1 \\\n",
    "        <br> - images after 2022/01/01 will be automatically downloaded from Collection 2 \\\n",
    "        <br> C01: LandSat Collection 1 : All dates before 2022/01/01\\\n",
    "        <br> C02: LandSat Collection 2 : All dates after 2022/01/01 \\\n",
    "        <br> - Landsat 9 is only available in C02\",\n",
    "    layout=Layout(padding='10px')\n",
    ")\n",
    "\n",
    "\n",
    "satellite_selection=SelectMultiple(\n",
    "    options=['L5', 'L7', 'L8', 'S2'],\n",
    "    value=['L8'],\n",
    "    description='Satellites',\n",
    "    disabled=False\n",
    ")\n",
    "# value=['S2'],\n",
    "sat_vbox = VBox([sat_instr,satellite_selection])\n",
    "\n",
    "def handle_collection_change(change):\n",
    "    if change['new'] == 'C02':\n",
    "        satellite_selection.options=['L5', 'L7', 'L8', 'L9', 'S2']\n",
    "    else:\n",
    "        satellite_selection.options=['L5', 'L7', 'L8', 'S2']\n",
    "\n",
    "collection_radio.observe(handle_collection_change,\"value\")\n",
    "\n",
    "controls_vbox=VBox([dates_vbox, collection_vbox, sat_vbox])\n",
    "controls_vbox"
   ]
  },
  {
   "cell_type": "code",
   "execution_count": null,
   "metadata": {
    "scrolled": true
   },
   "outputs": [],
   "source": [
    "# CoastSat Download Variables\n",
    "# ------------------------------\n",
    "# Save the satellites selected to sat_list\n",
    "if satellite_selection.value:\n",
    "    sat_list = list(satellite_selection.value)\n",
    "elif not satellite_selection.value:\n",
    "    print(\"ERROR: You must select at least one satellite first\")\n",
    "# Save the dates selected by the user as well as the selected collection\n",
    "dates = [str(start_date.value),str(end_date.value)]\n",
    "collection = collection_radio.value\n",
    "print(f\"dates: {dates}\")\n",
    "print(f\"collection: {collection}\")\n",
    "print(f\"sat_list: {sat_list}\")"
   ]
  },
  {
   "cell_type": "markdown",
   "metadata": {},
   "source": [
    "## Settings for CoastSat\n",
    "\n",
    "Modify any of the following setting to determine how data is downloaded from CoastSat\n"
   ]
  },
  {
   "cell_type": "code",
   "execution_count": null,
   "metadata": {},
   "outputs": [],
   "source": [
    "pre_process_settings = { \n",
    "    # general parameters:\n",
    "    'cloud_thresh': 0.5,        # threshold on maximum cloud cover\n",
    "     'dist_clouds': 300,        # ditance around clouds where shoreline can't be mapped\n",
    "    'output_epsg': 3857,        # epsg code of spatial reference system desired for the output   \n",
    "    # quality control:\n",
    "    'check_detection': True,    # if True, shows each shoreline detection to the user for validation\n",
    "    'adjust_detection': False,  # if True, allows user to adjust the postion of each shoreline by changing the threhold\n",
    "    'save_figure': True,        # if True, saves a figure showing the mapped shoreline for each image\n",
    "    # [ONLY FOR ADVANCED USERS] shoreline detection parameters:\n",
    "    'min_beach_area': 4500,     # minimum area (in metres^2) for an object to be labelled as a beach\n",
    "    'buffer_size': 150,         # radius (in metres) of the buffer around sandy pixels considered in the shoreline detection\n",
    "    'min_length_sl': 200,       # minimum length (in metres) of shoreline perimeter to be valid\n",
    "    'cloud_mask_issue': False,  # switch this parameter to True if sand pixels are masked (in black) on many images  \n",
    "    'sand_color': 'default',    # 'default', 'dark' (for grey/black sand beaches) or 'bright' (for white sand beaches)\n",
    "    'pan_off':'False',          # if True, no pan-sharpening is performed on Landsat 7,8 and 9 imagery\n",
    "    'create_plot':False,        # True create a matplotlib plot of the image with the datetime as the title\n",
    "    'max_dist_ref':25\n",
    "}"
   ]
  },
  {
   "cell_type": "markdown",
   "metadata": {},
   "source": [
    "# Create the Map\n",
    "\n",
    "- Create the map object here\n",
    "- Save all the settings created earlier\n",
    "- Save the list of satellites, dates, and the collection to coastseg_map instance\n"
   ]
  },
  {
   "cell_type": "code",
   "execution_count": null,
   "metadata": {},
   "outputs": [],
   "source": [
    "coastsegmap=coastseg_map.CoastSeg_Map()"
   ]
  },
  {
   "cell_type": "code",
   "execution_count": null,
   "metadata": {},
   "outputs": [],
   "source": [
    "coastsegmap.save_settings(sat_list=sat_list, collection = collection,dates=dates,**pre_process_settings)"
   ]
  },
  {
   "cell_type": "code",
   "execution_count": null,
   "metadata": {},
   "outputs": [],
   "source": [
    "coastsegmap.settings"
   ]
  },
  {
   "cell_type": "markdown",
   "metadata": {
    "tags": []
   },
   "source": [
    "# How to Use The Map\n",
    "\n",
    "---\n",
    "\n",
    "1. Use the rectangle tool to draw a bounding box along the coastline.\n",
    "2. Click `Generate ROI` to create ROI rectangles along the coastline in the bounding box. This may take some time.\n",
    "\n",
    "- You should see a coastline appear in yellow and some rectangles along it.\n",
    "\n",
    "3. Click 1 or more ROIs then click `Save ROI` to save these ROIs for downloading later\n",
    "4. You're ready to download the ROIs. Run the next block of code.\n"
   ]
  },
  {
   "cell_type": "code",
   "execution_count": null,
   "metadata": {},
   "outputs": [],
   "source": [
    "from src.coastseg.map_UI import UI\n",
    "coastseg_ui = UI(coastsegmap)\n",
    "coastseg_ui.create_dashboard()"
   ]
  },
  {
   "cell_type": "code",
   "execution_count": null,
   "metadata": {},
   "outputs": [],
   "source": [
    "coastsegmap.rois.master_config"
   ]
  },
  {
   "cell_type": "code",
   "execution_count": null,
   "metadata": {},
   "outputs": [],
   "source": [
    "import re\n",
    "# r\"[a-zA-Z]onfi[a-zA-Z].*\\.jso[a-zA-Z]\"\n",
    "# r\"*config*\\.json\"\n",
    "def use_regex(input_text):\n",
    "    pattern = re.compile(r\"config.*\\.json\", re.IGNORECASE)\n",
    "    return pattern.match(input_text)\n",
    "\n",
    "print(use_regex(\"config_23_.json\"))\n",
    "print(use_regex(\"config.json\"))\n",
    "print(use_regex(\"config_gdf.geojson\")) # should not match\n",
    "print(use_regex(\"config_id_117.json\"))"
   ]
  },
  {
   "cell_type": "code",
   "execution_count": null,
   "metadata": {},
   "outputs": [],
   "source": [
    "import os\n",
    "import re\n",
    "\n",
    "def find_config_json(dir_path):\n",
    "    def use_regex(input_text):\n",
    "        pattern = re.compile(r\"config.*\\.json\", re.IGNORECASE)\n",
    "        if pattern.match(input_text) is not None:\n",
    "            return True\n",
    "        return False\n",
    "\n",
    "    for item in os.listdir(dir_path):\n",
    "        print(item)\n",
    "        if use_regex(item):\n",
    "            print(f\"{item} matched regex\")\n",
    "            return item\n",
    "    \n",
    "\n",
    "\n",
    "# filepath = os.path.join(os.getcwd(),'catt.geojson')\n",
    "filepath = r'C:\\1_USGS\\CoastSeg\\repos\\2_CoastSeg\\CoastSeg_fork\\Seg2Map\\data\\ID12022-10-14__13_hr_36_min42sec\\config_gdf_id_117.geojson'\n",
    "dir_path = os.path.dirname(os.path.realpath(filepath))\n",
    "print(dir_path)\n",
    "config_file = find_config_json(dir_path)\n",
    "if config_file is None:\n",
    "    raise Exception(f'config.json file was not found at {dir_path}')\n",
    "config_path = os.path.join(dir_path,config_file)\n",
    "print(config_path)\n",
    "# list(map(lambda x:os.path.isfile(x),os.listdir(dir_path)))"
   ]
  },
  {
   "cell_type": "code",
   "execution_count": null,
   "metadata": {},
   "outputs": [],
   "source": [
    "coastsegmap.data_downloaded"
   ]
  },
  {
   "cell_type": "code",
   "execution_count": null,
   "metadata": {},
   "outputs": [],
   "source": [
    "coastsegmap.rois.inputs_dict[70]"
   ]
  },
  {
   "cell_type": "code",
   "execution_count": null,
   "metadata": {},
   "outputs": [],
   "source": [
    "all_filepaths_exist = True\n",
    "if \"filepath\" in coastsegmap.rois.inputs_dict[70]:\n",
    "    print(\"yes\")\n",
    "    if not os.path.exists(coastsegmap.rois.inputs_dict[70]['filepath']):\n",
    "            all_filepaths_exist=False\n",
    "all_filepaths_exist"
   ]
  },
  {
   "cell_type": "code",
   "execution_count": null,
   "metadata": {},
   "outputs": [],
   "source": [
    "import numpy as np\n",
    "np.array([1,2,3])"
   ]
  },
  {
   "cell_type": "code",
   "execution_count": null,
   "metadata": {},
   "outputs": [],
   "source": [
    "roi_ids = coastsegmap.rois.master_config['roi_ids']\n",
    "roi_ids"
   ]
  },
  {
   "cell_type": "code",
   "execution_count": null,
   "metadata": {},
   "outputs": [],
   "source": [
    "selected_rois_gdf = coastsegmap.rois.gdf[coastsegmap.rois.gdf['id'].astype(int).isin(roi_ids)]\n",
    "selected_rois_gdf"
   ]
  },
  {
   "cell_type": "code",
   "execution_count": null,
   "metadata": {},
   "outputs": [],
   "source": [
    "id = roi_ids[0]\n",
    "single_roi = selected_rois_gdf[selected_rois_gdf['id'].astype(int)==id]\n",
    "single_roi"
   ]
  },
  {
   "cell_type": "code",
   "execution_count": null,
   "metadata": {},
   "outputs": [],
   "source": [
    "selected_rois_gdf['id'][0]"
   ]
  },
  {
   "cell_type": "code",
   "execution_count": null,
   "metadata": {},
   "outputs": [],
   "source": [
    "inputs_dict={}\n",
    "roi_ids= coastsegmap.rois.master_config['roi_ids']\n",
    "for id in roi_ids:\n",
    "    print(id)\n",
    "    inputs_dict[id]=coastsegmap.rois.master_config[str(id)]"
   ]
  },
  {
   "cell_type": "code",
   "execution_count": null,
   "metadata": {},
   "outputs": [],
   "source": [
    "coastsegmap.rois.inputs_dict"
   ]
  },
  {
   "cell_type": "code",
   "execution_count": null,
   "metadata": {},
   "outputs": [],
   "source": [
    "coastsegmap.selected_ROI_layer.data"
   ]
  },
  {
   "cell_type": "code",
   "execution_count": null,
   "metadata": {},
   "outputs": [],
   "source": [
    "coastsegmap.rois.gdf['id'][0]"
   ]
  },
  {
   "cell_type": "code",
   "execution_count": null,
   "metadata": {},
   "outputs": [],
   "source": [
    "inputs = {1:{'doge':1},\n",
    "         2:{'cate':2}}\n",
    "inputs"
   ]
  },
  {
   "cell_type": "code",
   "execution_count": null,
   "metadata": {},
   "outputs": [],
   "source": [
    "list(inputs.keys())"
   ]
  },
  {
   "cell_type": "code",
   "execution_count": null,
   "metadata": {},
   "outputs": [],
   "source": [
    "l1=[1,2,3,4]\n",
    "l2=[5,6]\n",
    "l1=[*l1,*l2]\n",
    "l1"
   ]
  },
  {
   "cell_type": "code",
   "execution_count": null,
   "metadata": {},
   "outputs": [],
   "source": [
    "l2.append(6)\n",
    "l1"
   ]
  },
  {
   "cell_type": "code",
   "execution_count": null,
   "metadata": {},
   "outputs": [],
   "source": [
    "l"
   ]
  },
  {
   "cell_type": "code",
   "execution_count": null,
   "metadata": {},
   "outputs": [],
   "source": [
    "list(map(lambda x:str(x),inputs.keys()))"
   ]
  },
  {
   "cell_type": "code",
   "execution_count": null,
   "metadata": {},
   "outputs": [],
   "source": [
    "'doge'in inputs"
   ]
  },
  {
   "cell_type": "code",
   "execution_count": null,
   "metadata": {},
   "outputs": [],
   "source": [
    "master_config={'settings':'blahh'}"
   ]
  },
  {
   "cell_type": "code",
   "execution_count": null,
   "metadata": {},
   "outputs": [],
   "source": [
    "master_config={**master_config,**inputs}\n",
    "master_config"
   ]
  },
  {
   "cell_type": "code",
   "execution_count": null,
   "metadata": {},
   "outputs": [],
   "source": [
    "master_config={'roi':[1,2]}\n",
    "if 'roi_ids' not in master_config:\n",
    "    print(\"yes\")"
   ]
  },
  {
   "cell_type": "code",
   "execution_count": null,
   "metadata": {},
   "outputs": [],
   "source": [
    "list(coastsegmap.selected_set)"
   ]
  },
  {
   "cell_type": "code",
   "execution_count": null,
   "metadata": {},
   "outputs": [],
   "source": [
    "coastsegmap.selected_ROI_layer.data[\"features\"]"
   ]
  },
  {
   "cell_type": "code",
   "execution_count": null,
   "metadata": {},
   "outputs": [],
   "source": [
    "coastsegmap.settings"
   ]
  },
  {
   "cell_type": "code",
   "execution_count": null,
   "metadata": {},
   "outputs": [],
   "source": [
    "roi_ids=coastsegmap.rois.master_config['roi_ids']\n",
    "string_rois=list(map(lambda x: str(x),roi_ids))\n",
    "string_rois"
   ]
  },
  {
   "cell_type": "code",
   "execution_count": null,
   "metadata": {},
   "outputs": [],
   "source": [
    "coastsegmap.rois.gdf['id'].astype(int)"
   ]
  },
  {
   "cell_type": "code",
   "execution_count": null,
   "metadata": {},
   "outputs": [],
   "source": [
    "import os\n",
    "import json\n",
    "import logging\n",
    "from typing import Union\n",
    "\n",
    "from src.coastseg.bbox import Bounding_Box\n",
    "from src.coastseg import common\n",
    "from src.coastseg.shoreline import Shoreline\n",
    "from src.coastseg.transects import Transects\n",
    "from src.coastseg.roi import ROI\n",
    "from src.coastseg import exceptions\n",
    "\n",
    "import geopandas as gpd\n",
    "import numpy as np\n",
    "from shapely.geometry import Polygon\n",
    "\n",
    "from coastsat import SDS_tools, SDS_download, SDS_tools,SDS_transects,SDS_shoreline, SDS_preprocess\n",
    "from ipyleaflet import DrawControl, LayersControl,  WidgetControl, GeoJSON\n",
    "from leafmap import Map\n",
    "from ipywidgets import Layout, HTML, Accordion\n",
    "from tqdm.auto import tqdm\n",
    "from pyproj import Proj, transform"
   ]
  },
  {
   "cell_type": "code",
   "execution_count": null,
   "metadata": {},
   "outputs": [],
   "source": [
    "settings_transects = { # parameters for computing intersections\n",
    "                      'along_dist':          25,        # along-shore distance to use for computing the intersection\n",
    "                      'min_points':          3,         # minimum number of shoreline points to calculate an intersection\n",
    "                      'max_std':             15,        # max std for points around transect\n",
    "                      'max_range':           30,        # max range for points around transect\n",
    "                      'min_chainage':        -100,      # largest negative value along transect (landwards of transect origin)\n",
    "                      'multiple_inter':      'max',    # mode for removing outliers ('auto', 'nan', 'max')\n",
    "                      'prc_multiple':         0.1,      # percentage of the time that multiple intersects are present to use the max\n",
    "                     }\n",
    "settings_transects"
   ]
  },
  {
   "cell_type": "code",
   "execution_count": null,
   "metadata": {},
   "outputs": [],
   "source": [
    "roi_id=16\n",
    "inProj = Proj(init='epsg:4326')\n",
    "outProj = Proj(init='epsg:'+str(coastsegmap.settings['output_epsg']))\n",
    "cross_distance_max = 0\n",
    "try:\n",
    "    # Select a single roi by id\n",
    "    single_roi = coastsegmap.rois.gdf[coastsegmap.rois.gdf['id']==roi_id]\n",
    "    # if the id was not found in the geodataframe raise an exception\n",
    "    if single_roi.empty:\n",
    "        logger.error(f\"Id: {id} was not found in {coastsegmap.rois.gdf}\")\n",
    "        raise Exception(\"Id: {id} was not found in {coastsegmap.rois.gdf}\")\n",
    "    \n",
    "    extracted_shoreline=coastsegmap.rois.extracted_shorelines[int(roi_id)]\n",
    "    # if no extracted shoreline exists for the roi's id then return cross distance = 0  \n",
    "    if extracted_shoreline == {} :\n",
    "         print({})\n",
    "    \n",
    "    # Get transects intersecting this specific ROI as a geodataframe\n",
    "    transect_in_roi=coastsegmap.get_intersecting_transects(coastsegmap.rois.gdf,coastsegmap.transects.gdf,roi_id)\n",
    "    \n",
    "    print(f\"compute_transects_for_roi() :transect_in_roi: {transect_in_roi}\")\n",
    "    # Do not compute the transect if no shoreline exists\n",
    "    if not coastsegmap.is_shoreline_present(coastsegmap.rois.extracted_shorelines,int(roi_id)):\n",
    "        raise exceptions.No_Extracted_Shoreline(f\"No extracted shoreline at this roi {roi_id}\")\n",
    "    else:\n",
    "        print(\"Shoreline present at ROI: \",roi_id)\n",
    "        print(\"Creating transects...\")\n",
    "        print(f\"compute_transects_for_roi() :Shoreline present at ROI: {roi_id}\")\n",
    "        # convert transects to lan,lon tuples \n",
    "        transects_coords = []\n",
    "        for k in transect_in_roi['geometry'].keys():\n",
    "            transects_coords.append(tuple(np.array(transect_in_roi['geometry'][k]).tolist()))\n",
    "        print(f\"transects_coords:{transects_coords}\")\n",
    "        # convert to dict of numpy arrays of start and end points\n",
    "        transects = {}\n",
    "        for counter,i in enumerate(transects_coords):\n",
    "            x0,y0 = transform(inProj,outProj,i[0][0],i[0][1])\n",
    "            x1,y1 = transform(inProj,outProj,i[1][0],i[1][1])    \n",
    "            transects['NA'+str(counter)] = np.array([[x0,y0],[x1,y1]])\n",
    "        print(f\"compute_transects_for_roi():: transects: {transects}\")\n",
    "        # defines along-shore distance over which to consider shoreline points to compute median intersection (robust to outliers)\n",
    "        if 'along_dist' not in coastsegmap.settings.keys():\n",
    "            coastsegmap.settings['along_dist'] = 25 \n",
    "        cross_distance_max = SDS_transects.compute_intersection(extracted_shoreline, transects, settings_transects ) \n",
    "        print(f\"transects cross_distance:{cross_distance}\")\n",
    "except Exception as err:\n",
    "    raise Exception(err)\n",
    "\n",
    "cross_distance_max"
   ]
  },
  {
   "cell_type": "code",
   "execution_count": null,
   "metadata": {},
   "outputs": [],
   "source": [
    "cross_distance_max"
   ]
  },
  {
   "cell_type": "code",
   "execution_count": null,
   "metadata": {},
   "outputs": [],
   "source": [
    "cross_distance_standard"
   ]
  },
  {
   "cell_type": "code",
   "execution_count": null,
   "metadata": {},
   "outputs": [],
   "source": [
    "#auto settings\n",
    "cross_distance_auto"
   ]
  },
  {
   "cell_type": "code",
   "execution_count": null,
   "metadata": {},
   "outputs": [],
   "source": [
    "import json\n",
    "with open(f\"ROI_{roi_id}_transects_cross_dis_auto.json\",'w')as f:\n",
    "    json.dump(cross_distance,f)"
   ]
  },
  {
   "cell_type": "code",
   "execution_count": null,
   "metadata": {},
   "outputs": [],
   "source": [
    "coastsegmap.rois.cross_distance_transects"
   ]
  },
  {
   "cell_type": "code",
   "execution_count": null,
   "metadata": {},
   "outputs": [],
   "source": []
  },
  {
   "cell_type": "code",
   "execution_count": null,
   "metadata": {},
   "outputs": [],
   "source": [
    "coastsegmap.inputs_dict"
   ]
  },
  {
   "cell_type": "code",
   "execution_count": null,
   "metadata": {},
   "outputs": [],
   "source": [
    "coastsegmap.rois.inputs_dict"
   ]
  },
  {
   "cell_type": "code",
   "execution_count": null,
   "metadata": {},
   "outputs": [],
   "source": [
    "import json\n",
    "with open(\"inputs.json\",'w') as f:\n",
    "    json.dump(coastsegmap.rois.inputs_dict,f)"
   ]
  },
  {
   "cell_type": "code",
   "execution_count": null,
   "metadata": {},
   "outputs": [],
   "source": [
    "coastsegmap.shoreline.gdf"
   ]
  },
  {
   "cell_type": "code",
   "execution_count": null,
   "metadata": {},
   "outputs": [],
   "source": []
  },
  {
   "cell_type": "code",
   "execution_count": null,
   "metadata": {},
   "outputs": [],
   "source": [
    "coastsegmap.selected_ROI_layer.data"
   ]
  },
  {
   "cell_type": "code",
   "execution_count": null,
   "metadata": {},
   "outputs": [],
   "source": [
    "import geopandas as gpd\n",
    "import numpy as np\n",
    "single_roi_gdf = coastsegmap.rois.gdf[coastsegmap.rois.gdf['id']==23]\n",
    "single_roi_gdf"
   ]
  },
  {
   "cell_type": "code",
   "execution_count": null,
   "metadata": {},
   "outputs": [],
   "source": [
    "shoreline_in_roi = gpd.clip(coastsegmap.shoreline.gdf, single_roi_gdf)\n",
    "shoreline_in_roi"
   ]
  },
  {
   "cell_type": "code",
   "execution_count": null,
   "metadata": {},
   "outputs": [],
   "source": [
    "shoreline_in_roi.iloc[-1:][\"geometry\"]"
   ]
  },
  {
   "cell_type": "code",
   "execution_count": null,
   "metadata": {},
   "outputs": [],
   "source": [
    "shoreline_in_roi['geometry'][10]"
   ]
  },
  {
   "cell_type": "code",
   "execution_count": null,
   "metadata": {},
   "outputs": [],
   "source": [
    "type(shoreline_in_roi['geometry'][10])"
   ]
  },
  {
   "cell_type": "code",
   "execution_count": null,
   "metadata": {},
   "outputs": [],
   "source": [
    "np.array(shoreline_in_roi['geometry'][10])"
   ]
  },
  {
   "cell_type": "code",
   "execution_count": null,
   "metadata": {},
   "outputs": [],
   "source": [
    "type(shoreline_in_roi['geometry'][21])"
   ]
  },
  {
   "cell_type": "code",
   "execution_count": null,
   "metadata": {},
   "outputs": [],
   "source": [
    "shoreline_in_roi['geometry']"
   ]
  },
  {
   "cell_type": "code",
   "execution_count": null,
   "metadata": {},
   "outputs": [],
   "source": [
    "exploded = shoreline_in_roi.explode()\n",
    "exploded "
   ]
  },
  {
   "cell_type": "code",
   "execution_count": null,
   "metadata": {},
   "outputs": [],
   "source": [
    "np.array(shoreline_in_roi['geometry'][21])"
   ]
  },
  {
   "cell_type": "code",
   "execution_count": null,
   "metadata": {},
   "outputs": [],
   "source": [
    "shoreline_in_roi['geometry'][21]"
   ]
  },
  {
   "cell_type": "code",
   "execution_count": null,
   "metadata": {},
   "outputs": [],
   "source": [
    "shoreline_in_roi['geometry'].keys()"
   ]
  },
  {
   "cell_type": "code",
   "execution_count": null,
   "metadata": {},
   "outputs": [],
   "source": [
    "# for index in shoreline_in_roi['geometry'].keys():\n",
    "#     print(index)\n",
    "#     print(type(index))"
   ]
  },
  {
   "cell_type": "code",
   "execution_count": null,
   "metadata": {},
   "outputs": [],
   "source": [
    "    for k in shoreline_in_roi['geometry'].keys():\n",
    "            #For each linestring portion of shoreline convert to lat,lon tuples\n",
    "            shorelines.append(tuple(np.array(shoreline_in_roi['geometry'][k]).tolist()))"
   ]
  },
  {
   "cell_type": "code",
   "execution_count": null,
   "metadata": {},
   "outputs": [],
   "source": [
    "coastsegmap.settings"
   ]
  },
  {
   "cell_type": "code",
   "execution_count": null,
   "metadata": {},
   "outputs": [],
   "source": [
    "coastsegmap.rois.inputs_dict"
   ]
  },
  {
   "cell_type": "code",
   "execution_count": null,
   "metadata": {},
   "outputs": [],
   "source": [
    "coastsegmap.ROI_layer"
   ]
  },
  {
   "cell_type": "code",
   "execution_count": null,
   "metadata": {},
   "outputs": [],
   "source": [
    "coastsegmap.selected_ROI_layer.data"
   ]
  },
  {
   "cell_type": "code",
   "execution_count": null,
   "metadata": {},
   "outputs": [],
   "source": [
    "for roi in coastsegmap.selected_ROI_layer.data['features']:\n",
    "    print(roi)\n",
    "    print(roi['properties'])"
   ]
  },
  {
   "cell_type": "code",
   "execution_count": null,
   "metadata": {},
   "outputs": [],
   "source": []
  },
  {
   "cell_type": "code",
   "execution_count": null,
   "metadata": {},
   "outputs": [],
   "source": []
  },
  {
   "cell_type": "code",
   "execution_count": null,
   "metadata": {},
   "outputs": [],
   "source": [
    "def get_inputs_list(selected_roi_geojson,\n",
    "    dates: list,\n",
    "    sat_list: list,\n",
    "    collection: str)->list[dict]:\n",
    "    \"\"\"get_inputs_list Returns a list of all download settings each of ROI.\n",
    "        Sample download settings:\n",
    "        {'polygon': roi[\"geometry\"][\"coordinates\"],\n",
    "        'roi_id':roi['id'],\n",
    "        'dates': dates,\n",
    "        'sat_list': sat_list,\n",
    "        'sitename' : 'ID02022-10-04__21_hr_39_min03sec',(ex folder name)\n",
    "        'filepath': filepath,\n",
    "        'landsat_collection': collection}\n",
    "    Args:\n",
    "        selected_roi_geojson:dict\n",
    "            A geojson dictionary containing all the ROIs selected by the user\n",
    "        dates: list\n",
    "            A list of length two that contains a valid start and end date\n",
    "        collection : str\n",
    "        whether to use LandSat Collection 1 (`C01`) or Collection 2 (`C02`).\n",
    "        sat_list: list\n",
    "            A list of strings containing the names of the satellite\n",
    "    Returns:\n",
    "        list[dict]: list of all download settings each of ROI\n",
    "    \"\"\"        \n",
    "    date_str = generate_datestring()\n",
    "    # filepath: directory where data will be saved\n",
    "    filepath = os.path.join(os.getcwd(), 'data')\n",
    "    # create unique sitenames using the date and index of ROI\n",
    "    # for each site create dictionary with download settings eg. dates,sitename\n",
    "    site_ids=np.arange(len(selected_roi_geojson['features']))\n",
    "    sitenames=list(map(lambda x:'ID' + str(x) + date_str,site_ids))\n",
    "    attributes = list(map(lambda x: { 'dates': dates,\n",
    "                                        'sat_list': sat_list,\n",
    "                                        'sitename' : x,\n",
    "                                        'filepath': filepath,\n",
    "                                        'landsat_collection': collection} ,sitenames))\n",
    "    logger.info(f\"attributes: {attributes}\")\n",
    "    inputs_list=list(starmap(combine_inputs,(zip(selected_roi_geojson['features'],attributes))))\n",
    "    logger.info(f\"inputs_list: {inputs_list}\")\n",
    "    del attributes,sitenames,site_ids\n",
    "    if inputs_list == []:\n",
    "        logger.error(\"Error: No ROIs were selected. Please click a valid ROI on the map\")\n",
    "        raise Exception(\"Error: No ROIs were selected. Please click a valid ROI on the map\\n\")\n",
    "    logger.info(f\"Images available: \\n {inputs_list}\")\n",
    "    return inputs_list"
   ]
  },
  {
   "cell_type": "code",
   "execution_count": null,
   "metadata": {},
   "outputs": [],
   "source": [
    "coastsegmap.selected_ROI_layer.data['features'][0]['properties']['id']"
   ]
  },
  {
   "cell_type": "code",
   "execution_count": null,
   "metadata": {},
   "outputs": [],
   "source": [
    "'roi_id':roi['id'],"
   ]
  },
  {
   "cell_type": "code",
   "execution_count": null,
   "metadata": {},
   "outputs": [],
   "source": [
    "    polygon = roi[\"geometry\"][\"coordinates\"]\n",
    "    polygon = SDS_tools.smallest_rectangle(polygon)\n",
    "    inputs = {\n",
    "    'polygon': polygon,\n",
    "    'roi_id':roi['id'],"
   ]
  },
  {
   "cell_type": "markdown",
   "metadata": {},
   "source": [
    "## Run Models on Imagery\n",
    "1. Select if you want to use a GPU or not. By default you won't your computer's GPU\n",
    "2. Select if you want to use CRF post-processing or not. By default CRF post-processing is not enabled\n",
    "<br>**WARNING**: There is a bug with CRF post-processing and the models so you will need to enable CRF post-processing until it is fixed.\n",
    "3. Select whether your data is the type RGB or MNDWI\n",
    "4. Select the model you want to use\n",
    "5. Select Ensemble or Best (Ensemble is recommended) \n",
    "6. \n"
   ]
  },
  {
   "cell_type": "code",
   "execution_count": null,
   "metadata": {},
   "outputs": [],
   "source": [
    "from src.coastseg.UI_models import UI_Models\n",
    "models_ui = UI_Models()\n",
    "models_ui.create_dashboard()"
   ]
  },
  {
   "cell_type": "code",
   "execution_count": null,
   "metadata": {},
   "outputs": [],
   "source": []
  }
 ],
 "metadata": {
  "kernelspec": {
   "display_name": "Python 3 (ipykernel)",
   "language": "python",
   "name": "python3"
  },
  "language_info": {
   "codemirror_mode": {
    "name": "ipython",
    "version": 3
   },
   "file_extension": ".py",
   "mimetype": "text/x-python",
   "name": "python",
   "nbconvert_exporter": "python",
   "pygments_lexer": "ipython3",
   "version": "3.10.4"
  },
  "vscode": {
   "interpreter": {
    "hash": "53ab1155a6fba8dac112dd11f6ebbdb1bff1a2fc6fa221ef0a2c21c817842ec3"
   }
  },
  "widgets": {
   "application/vnd.jupyter.widget-state+json": {
    "state": {},
    "version_major": 2,
    "version_minor": 0
   }
  }
 },
 "nbformat": 4,
 "nbformat_minor": 4
}
