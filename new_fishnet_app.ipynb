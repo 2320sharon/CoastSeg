{
 "cells": [
  {
   "cell_type": "code",
   "execution_count": 1,
   "metadata": {},
   "outputs": [
    {
     "name": "stdout",
     "output_type": "stream",
     "text": [
      "Version:  2.9.1\n",
      "Eager mode:  True\n",
      "Version:  2.9.1\n",
      "Eager mode:  True\n",
      "GPU name:  []\n",
      "Num GPUs Available:  0\n"
     ]
    }
   ],
   "source": [
    "# Internal Imports\n",
    "import warnings\n",
    "# External Imports\n",
    "from IPython.display import display\n",
    "from tkinter import Tk,filedialog\n",
    "import ipywidgets as widgets\n",
    "from ipywidgets import HBox, VBox, Layout\n",
    "import os\n",
    "import datetime\n",
    "import glob\n",
    "\n",
    "# Local Imports \n",
    "from CoastSeg import download_roi, file_functions, zoo_model_module, coastseg_map_class\n",
    "\n",
    "#suppress tensorflow warnings\n",
    "os.environ['TF_CPP_MIN_LOG_LEVEL'] = '3'\n",
    "root = Tk()\n"
   ]
  },
  {
   "cell_type": "code",
   "execution_count": 2,
   "metadata": {},
   "outputs": [
    {
     "data": {
      "application/vnd.jupyter.widget-view+json": {
       "model_id": "b48cc58b7d93484fb34f90f2b9f6efcf",
       "version_major": 2,
       "version_minor": 0
      },
      "text/plain": [
       "VBox(children=(VBox(children=(HTML(value='<b>Pick a date:</b>', layout=Layout(padding='10px')), HBox(children=…"
      ]
     },
     "metadata": {},
     "output_type": "display_data"
    }
   ],
   "source": [
    "# Date Widgets\n",
    "start_date=widgets.DatePicker(\n",
    "    description='Start Date',\n",
    "    value=datetime.date(2018, 12, 1),\n",
    "    disabled=False,\n",
    ")\n",
    "end_date=widgets.DatePicker(\n",
    "    description='End Date',\n",
    "    value=datetime.date(2019, 3, 1), #2019, 1, 1\n",
    "    disabled=False,\n",
    ")\n",
    "date_instr=widgets.HTML(\n",
    "    value=\"<b>Pick a date:</b>\",\n",
    "    layout=Layout(padding='10px')\n",
    ")\n",
    "dates_box=widgets.HBox([start_date,end_date])\n",
    "dates_vbox=widgets.VBox([date_instr,dates_box])\n",
    "\n",
    "\n",
    "collection_instr=widgets.HTML(\n",
    "    value=\"<b>Pick a collection</b>\\\n",
    "        <br> C01: LandSat Collection 1 \\\n",
    "        <br> C02: LandSat Collection 2  [2022/01/01 and beyond] \\\n",
    "        <br>      - Landsat 9 is only available in C02\",\n",
    "    layout=Layout(padding='10px')\n",
    ")\n",
    "collection_radio=widgets.RadioButtons(\n",
    "    options=['C01', 'C02'],\n",
    "    value='C01',\n",
    "    description='Collection:',\n",
    "    disabled=False\n",
    ")\n",
    "collection_vbox=widgets.VBox([collection_instr,collection_radio])\n",
    "\n",
    "sat_instr=widgets.HTML(\n",
    "    value=\"<b>Pick multiple satellites by holding the control key:</b> \\\n",
    "        <br> - images prior to 2022/01/01 will be downloaded from Collection 1 \\\n",
    "        <br> - images after 2022/01/01 will be automatically downloaded from Collection 2 \\\n",
    "        <br> C01: LandSat Collection 1 : All dates before 2022/01/01\\\n",
    "        <br> C02: LandSat Collection 2 : All dates after 2022/01/01 \\\n",
    "        <br> - Landsat 9 is only available in C02\",\n",
    "    layout=Layout(padding='10px')\n",
    ")\n",
    "\n",
    "\n",
    "satellite_selection=widgets.SelectMultiple(\n",
    "    options=['L5', 'L7', 'L8', 'S2'],\n",
    "    value=['L8'],\n",
    "    description='Satellites',\n",
    "    disabled=False\n",
    ")\n",
    "sat_vbox=widgets.VBox([sat_instr,satellite_selection])\n",
    "\n",
    "def handle_collection_change(change):\n",
    "    if change['new'] == 'C02':\n",
    "        satellite_selection.options=['L5', 'L7', 'L8', 'L9', 'S2']\n",
    "    else:\n",
    "        satellite_selection.options=['L5', 'L7', 'L8', 'S2']\n",
    "\n",
    "collection_radio.observe(handle_collection_change,\"value\")\n",
    "\n",
    "controls_vbox=widgets.VBox([dates_vbox, collection_vbox, sat_vbox])\n",
    "controls_vbox"
   ]
  },
  {
   "cell_type": "code",
   "execution_count": 3,
   "metadata": {},
   "outputs": [
    {
     "name": "stdout",
     "output_type": "stream",
     "text": [
      "dates: ['2018-12-01', '2019-03-01']\n",
      "collection: C01\n",
      "sat_list: ['L8']\n"
     ]
    }
   ],
   "source": [
    "# CoastSat Download Variables\n",
    "# ------------------------------\n",
    "# Save the satellites selected to sat_list\n",
    "if satellite_selection.value:\n",
    "    sat_list = list(satellite_selection.value)\n",
    "elif not satellite_selection.value:\n",
    "    print(\"ERROR: You must select at least one satellite first\")\n",
    "# Save the dates selected by the user as well as the selected collection\n",
    "dates = [str(start_date.value),str(end_date.value)]\n",
    "collection = collection_radio.value\n",
    "print(f\"dates: {dates}\")\n",
    "print(f\"collection: {collection}\")\n",
    "print(f\"sat_list: {sat_list}\")"
   ]
  },
  {
   "cell_type": "code",
   "execution_count": 4,
   "metadata": {},
   "outputs": [],
   "source": [
    "pre_process_settings = { \n",
    "    # general parameters:\n",
    "    'cloud_thresh': 0.5,        # threshold on maximum cloud cover\n",
    "    'output_epsg': 3857,        # epsg code of spatial reference system desired for the output   \n",
    "    # quality control:\n",
    "    'check_detection': True,    # if True, shows each shoreline detection to the user for validation\n",
    "    'adjust_detection': False,  # if True, allows user to adjust the postion of each shoreline by changing the threhold\n",
    "    'save_figure': True,        # if True, saves a figure showing the mapped shoreline for each image\n",
    "    # [ONLY FOR ADVANCED USERS] shoreline detection parameters:\n",
    "    'min_beach_area': 4500,     # minimum area (in metres^2) for an object to be labelled as a beach\n",
    "    'buffer_size': 150,         # radius (in metres) of the buffer around sandy pixels considered in the shoreline detection\n",
    "    'min_length_sl': 200,       # minimum length (in metres) of shoreline perimeter to be valid\n",
    "    'cloud_mask_issue': False,  # switch this parameter to True if sand pixels are masked (in black) on many images  \n",
    "    'sand_color': 'default',    # 'default', 'dark' (for grey/black sand beaches) or 'bright' (for white sand beaches)\n",
    "}\n",
    "\n",
    "# Output wdiget used to print messages and exceptions created by CoastSeg_Map\n",
    "debug_view = widgets.Output(layout={'border': '1px solid black'})"
   ]
  },
  {
   "cell_type": "markdown",
   "metadata": {},
   "source": [
    "# Create the Map\n",
    "- Create the map using the map settings set above"
   ]
  },
  {
   "cell_type": "code",
   "execution_count": 5,
   "metadata": {},
   "outputs": [],
   "source": [
    "coastseg_map=coastseg_map_class.CoastSeg_Map()"
   ]
  },
  {
   "cell_type": "markdown",
   "metadata": {},
   "source": [
    "# How to Use The Map\n",
    "---\n",
    "1. Use the rectangle tool to draw a bounding box along the coastline.\n",
    "2. Click `Generate ROI` to create ROI rectangles along the coastline in the bounding box. This may take some time.\n",
    "- You should see a coastline appear in yellow and some rectangles along it.\n",
    "3. Click 1 or more ROIs then click `Save ROI` to save these ROIs for downloading later\n",
    "4. You're ready to download the ROIs. Run the next block of code."
   ]
  },
  {
   "cell_type": "code",
   "execution_count": 6,
   "metadata": {},
   "outputs": [
    {
     "data": {
      "application/vnd.jupyter.widget-view+json": {
       "model_id": "4967b4390f4f4a85af252ec253d1c1a8",
       "version_major": 2,
       "version_minor": 0
      },
      "text/plain": [
       "Output(layout=Layout(border='1px solid black'))"
      ]
     },
     "metadata": {},
     "output_type": "display_data"
    },
    {
     "data": {
      "application/vnd.jupyter.widget-view+json": {
       "model_id": "93ac59c4e66a406885892e2e4d0708d0",
       "version_major": 2,
       "version_minor": 0
      },
      "text/plain": [
       "Output(layout=Layout(border='1px solid black'))"
      ]
     },
     "metadata": {},
     "output_type": "display_data"
    },
    {
     "data": {
      "application/vnd.jupyter.widget-view+json": {
       "model_id": "f7b00167a7ce488c81391a33d77e6b6a",
       "version_major": 2,
       "version_minor": 0
      },
      "text/plain": [
       "HBox(children=(Button(description='Generate ROI', style=ButtonStyle()), Button(description='Save ROI', style=B…"
      ]
     },
     "metadata": {},
     "output_type": "display_data"
    },
    {
     "data": {
      "application/vnd.jupyter.widget-view+json": {
       "model_id": "689a9d5dcf3441c0aee52918d3205c1d",
       "version_major": 2,
       "version_minor": 0
      },
      "text/plain": [
       "HBox(children=(Button(description='Remove all', style=ButtonStyle()), Button(description='Remove bbox', style=…"
      ]
     },
     "metadata": {},
     "output_type": "display_data"
    },
    {
     "data": {
      "application/vnd.jupyter.widget-view+json": {
       "model_id": "52ab94489af14571b3959109d3c54038",
       "version_major": 2,
       "version_minor": 0
      },
      "text/plain": [
       "Map(center=[36, -121.5], controls=(ZoomControl(options=['position', 'zoom_in_text', 'zoom_in_title', 'zoom_out…"
      ]
     },
     "metadata": {},
     "output_type": "display_data"
    }
   ],
   "source": [
    "gen_button = widgets.Button(description=\"Generate ROI\")\n",
    "save_button = widgets.Button(description=\"Save ROI\")\n",
    "\n",
    "remove_all_button = widgets.Button(description=\"Remove all\")\n",
    "remove_bbox_button = widgets.Button(description=\"Remove bbox\")\n",
    "remove_coastline_button = widgets.Button(description=\"Remove coastline\")\n",
    "remove_rois_button = widgets.Button(description=\"Remove ROIs\")\n",
    "remove_saved_roi_button = widgets.Button(description=\"Remove saved ROIs\")\n",
    "\n",
    "\n",
    "        \n",
    "@debug_view.capture(clear_output=True)\n",
    "def on_gen_button_clicked(b):\n",
    "    if coastseg_map.shapes_list == [] :\n",
    "        print(\"Draw a bounding box on the coast first, then click Generate ROI.\")\n",
    "    else:\n",
    "        debug_view.clear_output(wait=True)\n",
    "        print(\"Generating ROIs please wait.\") \n",
    "        # Generate ROIs along the coastline within the bounding box\n",
    "        coastseg_map.generate_ROIS_fishnet()\n",
    "        debug_view.clear_output(wait=True)\n",
    "        # Add the Clickable ROIs to the map\n",
    "        coastseg_map.add_geojson_layer_to_map()\n",
    "        print(\"ROIs generated. Please Select at least one ROI and click Save ROI.\")\n",
    "\n",
    "@debug_view.capture(clear_output=True)\n",
    "def on_save_button_clicked(b):\n",
    "    if coastseg_map.selected_set:\n",
    "        if len(coastseg_map.selected_set) == 0:\n",
    "             print(\"Must select at least 1 ROI first before you can save ROIs.\")\n",
    "        else:\n",
    "            debug_view.clear_output(wait=True)\n",
    "            coastseg_map.save_roi_fishnet(\"fishnet_rois.geojson\")\n",
    "            print(\"Saving ROIs\")\n",
    "            debug_view.clear_output(wait=True)\n",
    "            print(\"ROIs have been saved. Now click Download ROI to download the ROIs using CoastSat\")\n",
    "    else:\n",
    "        print(\"No ROIs were selected.\")\n",
    "\n",
    "\n",
    "def remove_all_from_map(b):\n",
    "    coastseg_map.remove_all()\n",
    "def remove_bbox_from_map(b):\n",
    "    coastseg_map.remove_bbox()\n",
    "def remove_coastline_from_map(b):\n",
    "    coastseg_map.remove_coastline()\n",
    "def remove_all_rois_from_map(b):\n",
    "    coastseg_map.remove_all_rois()\n",
    "def remove_saved_roi_clicked(b):\n",
    "    coastseg_map.remove_saved_roi()\n",
    "        \n",
    "gen_button.on_click(on_gen_button_clicked)\n",
    "save_button.on_click(on_save_button_clicked)\n",
    "\n",
    "\n",
    "remove_all_button.on_click(remove_all_from_map)\n",
    "remove_bbox_button.on_click(remove_bbox_from_map)\n",
    "remove_coastline_button.on_click(remove_coastline_from_map)\n",
    "remove_rois_button.on_click(remove_all_rois_from_map)\n",
    "remove_saved_roi_button.on_click(remove_saved_roi_clicked)\n",
    "\n",
    "erase_buttons=HBox([remove_all_button, remove_bbox_button, remove_coastline_button, remove_rois_button, remove_saved_roi_button])\n",
    "\n",
    "display(coastseg_map_class.debug_map_view,debug_view,HBox([gen_button, save_button]),erase_buttons)\n",
    "coastseg_map.m"
   ]
  },
  {
   "cell_type": "markdown",
   "metadata": {},
   "source": [
    "## Download the Selected ROIs\n",
    "- Download the satellite imagery for the ROIs using CoastSat.\n",
    "\n",
    "⚠️ Make sure you have clicked `Save ROI` before running the following code.\n",
    " \n",
    "### Parameters for download_imagery()\n",
    "1. `coastseg_map.selected_ROI` : geojson for the ROI clicked\n",
    "2. `pre_process_settings`: settings for downloading data using CoastSat\n",
    "3. `dates` : date range to download the imagery\n",
    "4. `sat_list` : list of satellites to download imagery from\n",
    "5. `collection` : LandSat Collection 1 (`C01`) or Collection 2 (`C02`)\n",
    "6. `inputs_filename` : inputs_file is the json file where the input data for download imagery with CoastSat will be written to"
   ]
  },
  {
   "cell_type": "code",
   "execution_count": 8,
   "metadata": {},
   "outputs": [
    {
     "name": "stdout",
     "output_type": "stream",
     "text": [
      "Number of images available between 2018-12-01 and 2019-03-01:\n",
      "- In Landsat Tier 1 & Sentinel-2 Level-1C:\n",
      "     L8: 10 images\n",
      "  Total to download: 10 images\n",
      "- In Landsat Tier 2 (not suitable for time-series analysis):\n",
      "     L8: 1 images\n",
      "  Total Tier 2: 1 images\n",
      "Number of images available between 2018-12-01 and 2019-03-01:\n",
      "- In Landsat Tier 1 & Sentinel-2 Level-1C:\n",
      "     L8: 10 images\n",
      "  Total to download: 10 images\n",
      "- In Landsat Tier 2 (not suitable for time-series analysis):\n",
      "     L8: 1 images\n",
      "  Total Tier 2: 1 images\n",
      "Number of images available between 2018-12-01 and 2019-03-01:\n",
      "- In Landsat Tier 1 & Sentinel-2 Level-1C:\n",
      "     L8: 10 images\n",
      "  Total to download: 10 images\n",
      "- In Landsat Tier 2 (not suitable for time-series analysis):\n",
      "     L8: 1 images\n",
      "  Total Tier 2: 1 images\n",
      "Images available: \n",
      " [{'polygon': [[[-74.06094069431761, 40.591243753118896], [-74.04297438863522, 40.591243753118896], [-74.04297438863522, 40.6048854483804], [-74.06094069431761, 40.6048854483804], [-74.06094069431761, 40.591243753118896]]], 'dates': ['2018-12-01', '2019-03-01'], 'sat_list': ['L8'], 'sitename': 'ID02022-07-07__15_hr_11_min45', 'filepath': 'C:\\\\1_USGS\\\\CoastSeg\\\\repos\\\\2_CoastSeg\\\\CoastSeg_fork\\\\Seg2Map\\\\data', 'landsat_collection': 'C01'}, {'polygon': [[[-74.078907, 40.6048854483804], [-74.06094069431761, 40.6048854483804], [-74.06094069431761, 40.61852435986958], [-74.078907, 40.61852435986958], [-74.078907, 40.6048854483804]]], 'dates': ['2018-12-01', '2019-03-01'], 'sat_list': ['L8'], 'sitename': 'ID12022-07-07__15_hr_11_min45', 'filepath': 'C:\\\\1_USGS\\\\CoastSeg\\\\repos\\\\2_CoastSeg\\\\CoastSeg_fork\\\\Seg2Map\\\\data', 'landsat_collection': 'C01'}, {'polygon': [[[-74.078907, 40.584421861637644], [-74.0654322707382, 40.584421861637644], [-74.0654322707382, 40.59465443790172], [-74.078907, 40.59465443790172], [-74.078907, 40.584421861637644]]], 'dates': ['2018-12-01', '2019-03-01'], 'sat_list': ['L8'], 'sitename': 'ID22022-07-07__15_hr_11_min45', 'filepath': 'C:\\\\1_USGS\\\\CoastSeg\\\\repos\\\\2_CoastSeg\\\\CoastSeg_fork\\\\Seg2Map\\\\data', 'landsat_collection': 'C01'}]\n"
     ]
    },
    {
     "name": "stderr",
     "output_type": "stream",
     "text": [
      "\r",
      "Downloading ROIs:   0%|                                                                          | 0/3 [00:00<?, ?it/s]"
     ]
    },
    {
     "name": "stdout",
     "output_type": "stream",
     "text": [
      "Number of images available between 2018-12-01 and 2019-03-01:\n",
      "- In Landsat Tier 1 & Sentinel-2 Level-1C:\n",
      "     L8: 10 images\n",
      "  Total to download: 10 images\n",
      "- In Landsat Tier 2 (not suitable for time-series analysis):\n",
      "     L8: 1 images\n",
      "  Total Tier 2: 1 images\n",
      "\n",
      "Downloading images:\n",
      "L8: 10 images\n",
      "100%\n"
     ]
    },
    {
     "name": "stderr",
     "output_type": "stream",
     "text": [
      "\r",
      "Downloading ROIs:  33%|██████████████████████                                            | 1/3 [00:23<00:47, 23.61s/it]"
     ]
    },
    {
     "name": "stdout",
     "output_type": "stream",
     "text": [
      "Satellite images saved as .jpg in C:\\1_USGS\\CoastSeg\\repos\\2_CoastSeg\\CoastSeg_fork\\Seg2Map\\data\\ID02022-07-07__15_hr_11_min45\\jpg_files\\preprocessed\n",
      "Number of images available between 2018-12-01 and 2019-03-01:\n",
      "- In Landsat Tier 1 & Sentinel-2 Level-1C:\n",
      "     L8: 10 images\n",
      "  Total to download: 10 images\n",
      "- In Landsat Tier 2 (not suitable for time-series analysis):\n",
      "     L8: 1 images\n",
      "  Total Tier 2: 1 images\n",
      "\n",
      "Downloading images:\n",
      "L8: 10 images\n",
      "100%\n"
     ]
    },
    {
     "name": "stderr",
     "output_type": "stream",
     "text": [
      "\r",
      "Downloading ROIs:  67%|████████████████████████████████████████████                      | 2/3 [00:46<00:23, 23.10s/it]"
     ]
    },
    {
     "name": "stdout",
     "output_type": "stream",
     "text": [
      "Satellite images saved as .jpg in C:\\1_USGS\\CoastSeg\\repos\\2_CoastSeg\\CoastSeg_fork\\Seg2Map\\data\\ID12022-07-07__15_hr_11_min45\\jpg_files\\preprocessed\n",
      "Number of images available between 2018-12-01 and 2019-03-01:\n",
      "- In Landsat Tier 1 & Sentinel-2 Level-1C:\n",
      "     L8: 10 images\n",
      "  Total to download: 10 images\n",
      "- In Landsat Tier 2 (not suitable for time-series analysis):\n",
      "     L8: 1 images\n",
      "  Total Tier 2: 1 images\n",
      "\n",
      "Downloading images:\n",
      "L8: 10 images\n",
      "100%\n"
     ]
    },
    {
     "name": "stderr",
     "output_type": "stream",
     "text": [
      "Downloading ROIs: 100%|██████████████████████████████████████████████████████████████████| 3/3 [01:06<00:00, 22.08s/it]"
     ]
    },
    {
     "name": "stdout",
     "output_type": "stream",
     "text": [
      "Satellite images saved as .jpg in C:\\1_USGS\\CoastSeg\\repos\\2_CoastSeg\\CoastSeg_fork\\Seg2Map\\data\\ID22022-07-07__15_hr_11_min45\\jpg_files\\preprocessed\n"
     ]
    },
    {
     "name": "stderr",
     "output_type": "stream",
     "text": [
      "\n"
     ]
    }
   ],
   "source": [
    "if coastseg_map.selected_ROI:\n",
    "    download_roi.download_imagery(coastseg_map.selected_ROI,pre_process_settings,dates,sat_list,collection)\n",
    "else:\n",
    "    print(\"No ROIs were selected. \\nPlease select at least one ROI and click 'Save ROI' to save these ROI for download.\")"
   ]
  },
  {
   "cell_type": "code",
   "execution_count": 9,
   "metadata": {},
   "outputs": [
    {
     "data": {
      "application/vnd.jupyter.widget-view+json": {
       "model_id": "a1b67f689aa943b0854100c7bb08b703",
       "version_major": 2,
       "version_minor": 0
      },
      "text/plain": [
       "Checkbox(value=False, description='Use GPU?', indent=False)"
      ]
     },
     "metadata": {},
     "output_type": "display_data"
    },
    {
     "data": {
      "application/vnd.jupyter.widget-view+json": {
       "model_id": "0b9256a577ef44b18366035ef3fdb489",
       "version_major": 2,
       "version_minor": 0
      },
      "text/plain": [
       "Output()"
      ]
     },
     "metadata": {},
     "output_type": "display_data"
    },
    {
     "data": {
      "application/vnd.jupyter.widget-view+json": {
       "model_id": "ef151f7a9be44a37b16092f35aa1face",
       "version_major": 2,
       "version_minor": 0
      },
      "text/plain": [
       "HBox(children=(RadioButtons(description='Select Model:', options=('landsat_6229071', 'landsat_6230083'), value…"
      ]
     },
     "metadata": {},
     "output_type": "display_data"
    },
    {
     "data": {
      "application/vnd.jupyter.widget-view+json": {
       "model_id": "7611decc01064fdf82de68dc0a62056b",
       "version_major": 2,
       "version_minor": 0
      },
      "text/plain": [
       "VBox(children=(HTML(value='<h4>Click ONE of the following buttons:</h4>', layout=Layout(margin='0px 0px 0px 0p…"
      ]
     },
     "metadata": {},
     "output_type": "display_data"
    },
    {
     "data": {
      "application/vnd.jupyter.widget-view+json": {
       "model_id": "5f70b65ea9cf4ff4b963a931f026147f",
       "version_major": 2,
       "version_minor": 0
      },
      "text/plain": [
       "Button(description='Use Data Button', style=ButtonStyle())"
      ]
     },
     "metadata": {},
     "output_type": "display_data"
    },
    {
     "data": {
      "application/vnd.jupyter.widget-view+json": {
       "model_id": "aa952f24110c442c8d6b67dac087e911",
       "version_major": 2,
       "version_minor": 0
      },
      "text/plain": [
       "Button(description='Select Your Images', style=ButtonStyle())"
      ]
     },
     "metadata": {},
     "output_type": "display_data"
    },
    {
     "data": {
      "application/vnd.jupyter.widget-view+json": {
       "model_id": "f4bda4039cb44446a9a7869f9b7534f1",
       "version_major": 2,
       "version_minor": 0
      },
      "text/plain": [
       "HTML(value='____________________________________________________')"
      ]
     },
     "metadata": {},
     "output_type": "display_data"
    },
    {
     "data": {
      "application/vnd.jupyter.widget-view+json": {
       "model_id": "4dd3fc8ada48487c948a6a291b88b244",
       "version_major": 2,
       "version_minor": 0
      },
      "text/plain": [
       "Output(layout=Layout(border='1px solid black'))"
      ]
     },
     "metadata": {},
     "output_type": "display_data"
    },
    {
     "data": {
      "application/vnd.jupyter.widget-view+json": {
       "model_id": "93879bbc56674feb95d41f3cbe75086b",
       "version_major": 2,
       "version_minor": 0
      },
      "text/plain": [
       "Button(description='Run Model', style=ButtonStyle())"
      ]
     },
     "metadata": {},
     "output_type": "display_data"
    },
    {
     "data": {
      "application/vnd.jupyter.widget-view+json": {
       "model_id": "da8b4f0f9ef54763a76247b3053e07ca",
       "version_major": 2,
       "version_minor": 0
      },
      "text/plain": [
       "Output(layout=Layout(border='1px solid black'))"
      ]
     },
     "metadata": {},
     "output_type": "display_data"
    }
   ],
   "source": [
    "model_dict={\"sample_direc\":None,\"use_GPU\":False, 'implementation':'ENSEMBLE','model_type':'landsat_6229071'}\n",
    "\n",
    "model_view = widgets.Output(layout={'border': '1px solid black'})\n",
    "run_model_view = widgets.Output(layout={'border': '1px solid black'})\n",
    "GPU_view = widgets.Output()\n",
    "\n",
    "run_model_button = widgets.Button(description=\"Run Model\")\n",
    "use_data_button = widgets.Button(description=\"Use Data Button\")\n",
    "use_select_images_button = widgets.Button(description=\"Select Your Images\")\n",
    "\n",
    "\n",
    "model_implementation=widgets.RadioButtons(\n",
    "    options=['ENSEMBLE', 'BEST'],\n",
    "   value='ENSEMBLE',\n",
    "    description='Select:',\n",
    "    disabled=False\n",
    ")\n",
    "\n",
    "model_dropdown=widgets.RadioButtons(\n",
    "    options= ['landsat_6229071', 'landsat_6230083'],\n",
    "    value='landsat_6229071',\n",
    "    description='Select Model:',\n",
    "    disabled=False,\n",
    ")\n",
    "\n",
    "\n",
    "GPU_checkbox=widgets.Checkbox(\n",
    "    value=False,\n",
    "    description='Use GPU?',\n",
    "    disabled=False,\n",
    "    indent=False\n",
    ")\n",
    "\n",
    "\n",
    "def handle_model_type(change):\n",
    "    model_dict[\"model_type\"]=change['new']\n",
    "\n",
    "\n",
    "def handle_model_implementation(change):\n",
    "    model_dict[\"implementation\"]=change['new']\n",
    "\n",
    "\n",
    "@GPU_view.capture(clear_output=True)\n",
    "def handle_GPU_checkbox(change):\n",
    "    if change[\"new\"] == True:\n",
    "        model_dict[\"use_GPU\"]=True\n",
    "        print(\"Using the GPU\")\n",
    "    else:\n",
    "        model_dict[\"use_GPU\"]=False\n",
    "        print(\"Not using the GPU\")\n",
    "        \n",
    "\n",
    "@model_view.capture(clear_output=True)\n",
    "def use_data_button_clicked(button):\n",
    "    # Use the data folder as the input for segmentation\n",
    "    print(\"Loading in the jpgs from the data directory\")\n",
    "    # Copy the jpgs from data to a new folder called segmentation_data_[datetime]\n",
    "    sample_direc = file_functions.get_jpgs_from_data()\n",
    "    model_dict[\"sample_direc\"]=sample_direc\n",
    "    jpgs = glob.glob1(sample_direc + os.sep, \"*jpg\")\n",
    "    if jpgs == []:\n",
    "        raise Exception(\"\\nThe directory contains no jpgs! Please select a directory with jpgs.\")\n",
    "    print(f\"\\nContents of the data directory saved in {sample_direc}\")\n",
    "\n",
    "\n",
    "@model_view.capture(clear_output=True)\n",
    "def use_select_images_button_clicked(button):\n",
    "    # Prompt the user to select a directory of images                              \n",
    "    root.withdraw()                                        # Hide the main window.\n",
    "    root.call('wm', 'attributes', '.', '-topmost', True)   # Raise the root to the top of all windows.\n",
    "    root.filename =  filedialog.askdirectory(initialdir = \"/samples\",title = \"Select directory of images (or npzs) to segment\")\n",
    "    # Save the filename as an attribute of the button\n",
    "    if root.filename:\n",
    "        sample_direc= root.filename\n",
    "        model_dict[\"sample_direc\"]=root.filename\n",
    "        print(f\"The images in the folder will be segmented :\\n{sample_direc} \")\n",
    "        jpgs = glob.glob1(sample_direc + os.sep, \"*jpg\")\n",
    "        if jpgs == []:\n",
    "            raise Exception(\"The directory contains no jpgs! Please select a directory with jpgs.\")\n",
    "    else:\n",
    "        raise Exception(\"You must select a valid directory first!\")\n",
    "\n",
    "@run_model_view.capture(clear_output=True)\n",
    "def run_model_button_clicked(button):\n",
    "    print(\"Called Run Model\")\n",
    "    if model_dict[\"sample_direc\"] is None:\n",
    "        print(\"You must click 'Use Data' or 'Select Images' First\")\n",
    "        return\n",
    "    else:\n",
    "        if model_dict[\"use_GPU\"] == False:\n",
    "            print(\"Not using the GPU\")\n",
    "            ## to use the CPU (not recommended):\n",
    "            os.environ['CUDA_VISIBLE_DEVICES'] = '-1'\n",
    "        elif model_dict[\"use_GPU\"] == True:\n",
    "            print(\"Using the GPU\")\n",
    "            ##use the first available GPU\n",
    "            os.environ['CUDA_VISIBLE_DEVICES'] = '0' #'1'\n",
    "        dataset_id=model_dict['model_type']\n",
    "        dataset='RGB'\n",
    "        model_choice=model_dict['implementation']\n",
    "        zoo_model=zoo_model_module.Zoo_Model()\n",
    "        # # First download the specified model\n",
    "        zoo_model.download_model(dataset,dataset_id)\n",
    "        # # Get weights as list\n",
    "        Ww=zoo_model.get_weights_list(model_choice)\n",
    "        # Load the model from the config files\n",
    "        model, model_list, config_files, model_types=zoo_model.get_model(Ww)\n",
    "        metadatadict=zoo_model.get_metadatadict(Ww,config_files, model_types)\n",
    "        # # Compute the segmentation\n",
    "        zoo_model.compute_segmentation(model_dict[\"sample_direc\"], model_list, metadatadict)\n",
    "    \n",
    "    \n",
    "model_implementation.observe(handle_model_implementation,\"value\")\n",
    "model_dropdown.observe(handle_model_type,\"value\")\n",
    "GPU_checkbox.observe(handle_GPU_checkbox,\"value\")\n",
    "\n",
    "\n",
    "run_model_button.on_click(run_model_button_clicked)\n",
    "use_data_button.on_click(use_data_button_clicked)\n",
    "use_select_images_button.on_click(use_select_images_button_clicked)\n",
    "\n",
    "model_choices_box=HBox([model_dropdown, model_implementation])\n",
    "\n",
    "line_widget=widgets.HTML(value=\"____________________________________________________\")\n",
    "\n",
    "instr_header=widgets.HTML(\n",
    "    value=\"<h4>Click ONE of the following buttons:</h4>\",layout=Layout(margin='0px 0px 0px 0px'))\n",
    "\n",
    "instr_use_data=widgets.HTML(\n",
    "    value=\"<b>1. Use Data Folder Button</b> \\\n",
    "        <br> - When CoastSat downloads imagery it created a folder called 'data'in the CoastSeg directory.\\\n",
    "            The jpgs within the 'data' folder will be copied to another folder with a name such as\\\n",
    "            <span style=\\\"background-color:LightGray;\\\">segmentation_data_2022-07-07__10_hr_04_min58 </span>\\\n",
    "            (the date and time will be the current date and time) <br> \\\n",
    "           The model will be applied to this folder and the model outputs will be generated within a subdirectory \\\n",
    "            called 'out'\",layout=Layout(margin='0px 0px 0px 20px'))\n",
    "\n",
    "instr_select_images=widgets.HTML(\n",
    "    value=\"<b>2. Select Images Button</b> \\\n",
    "        <br> - This will open a pop up window where the folder containing the jpgs can be selected.<br>\\\n",
    "             - The model will be applied to this folder and the model outputs will be generated within a subdirectory\\\n",
    "             called 'out'<br>\\\n",
    "      - <span style=\\\"background-color:yellow;\\\">WARNING :</span> You will not be able to see the files within the folder you select.<br>\\\n",
    "    \",layout=Layout(margin='0px 0px 0px 20px'))\n",
    "\n",
    "instr_vbox=VBox([instr_header, line_widget, instr_use_data, instr_select_images])\n",
    "\n",
    "display(GPU_checkbox,GPU_view,model_choices_box,instr_vbox,use_data_button,use_select_images_button,line_widget, model_view,run_model_button,run_model_view)"
   ]
  },
  {
   "cell_type": "code",
   "execution_count": null,
   "metadata": {},
   "outputs": [],
   "source": []
  }
 ],
 "metadata": {
  "kernelspec": {
   "display_name": "Python 3 (ipykernel)",
   "language": "python",
   "name": "python3"
  },
  "language_info": {
   "codemirror_mode": {
    "name": "ipython",
    "version": 3
   },
   "file_extension": ".py",
   "mimetype": "text/x-python",
   "name": "python",
   "nbconvert_exporter": "python",
   "pygments_lexer": "ipython3",
   "version": "3.7.12"
  },
  "vscode": {
   "interpreter": {
    "hash": "088071472be1149c98f4fac6f3f0aaf1d7e5463e43e04f4165f4dff779b5df37"
   }
  }
 },
 "nbformat": 4,
 "nbformat_minor": 2
}
