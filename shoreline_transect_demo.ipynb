{
 "cells": [
  {
   "cell_type": "code",
   "execution_count": 1,
   "metadata": {},
   "outputs": [
    {
     "name": "stdout",
     "output_type": "stream",
     "text": [
      "Version:  2.9.1\n",
      "Eager mode:  True\n",
      "Version:  2.9.1\n",
      "Eager mode:  True\n",
      "GPU name:  []\n",
      "Num GPUs Available:  0\n"
     ]
    }
   ],
   "source": [
    "import warnings\n",
    "# External Imports\n",
    "from IPython.display import display\n",
    "from tkinter import Tk,filedialog\n",
    "# import ipywidgets as widgets\n",
    "from ipywidgets import Button, HBox, VBox, Layout, DatePicker, HTML, RadioButtons, SelectMultiple, Output, Checkbox\n",
    "import os\n",
    "import datetime\n",
    "import glob\n",
    "import json\n",
    "import pandas as pd\n",
    "import geopandas as gpd\n",
    "from shapely.geometry import Polygon\n",
    "\n",
    "# New imports for coastsat shoreline extraction\n",
    "import numpy as np\n",
    "# Local Imports \n",
    "from CoastSeg import download_roi, file_functions, zoo_model_module, coastseg_map_class\n",
    "from CoastSeg.CoastSat.coastsat import SDS_shoreline,SDS_download,SDS_tools\n",
    "# suppress tensorflow warnings\n",
    "os.environ['TF_CPP_MIN_LOG_LEVEL'] = '3'\n",
    "root = Tk()"
   ]
  },
  {
   "cell_type": "code",
   "execution_count": 2,
   "metadata": {},
   "outputs": [
    {
     "data": {
      "application/vnd.jupyter.widget-view+json": {
       "model_id": "90cada8a1dbe4940a85f325331f94556",
       "version_major": 2,
       "version_minor": 0
      },
      "text/plain": [
       "VBox(children=(VBox(children=(HTML(value='<b>Pick a date:</b>', layout=Layout(padding='10px')), HBox(children=…"
      ]
     },
     "metadata": {},
     "output_type": "display_data"
    }
   ],
   "source": [
    "# Date Widgets\n",
    "start_date=DatePicker(\n",
    "    description='Start Date',\n",
    "    value=datetime.date(2018, 12, 1),\n",
    "    disabled=False,\n",
    ")\n",
    "end_date=DatePicker(\n",
    "    description='End Date',\n",
    "    value=datetime.date(2019, 3, 1), #2019, 1, 1\n",
    "    disabled=False,\n",
    ")\n",
    "date_instr=HTML(\n",
    "    value=\"<b>Pick a date:</b>\",\n",
    "    layout=Layout(padding='10px')\n",
    ")\n",
    "dates_box=HBox([start_date,end_date])\n",
    "dates_vbox=VBox([date_instr,dates_box])\n",
    "\n",
    "\n",
    "collection_instr=HTML(\n",
    "    value=\"<b>Pick a collection</b>\\\n",
    "        <br> C01: LandSat Collection 1 \\\n",
    "        <br> C02: LandSat Collection 2  [2022/01/01 and beyond] \\\n",
    "        <br>      - Landsat 9 is only available in C02\",\n",
    "    layout=Layout(padding='10px')\n",
    ")\n",
    "collection_radio=RadioButtons(\n",
    "    options=['C01', 'C02'],\n",
    "    value='C01',\n",
    "    description='Collection:',\n",
    "    disabled=False\n",
    ")\n",
    "collection_vbox=VBox([collection_instr,collection_radio])\n",
    "\n",
    "sat_instr=HTML(\n",
    "    value=\"<b>Pick multiple satellites by holding the control key:</b> \\\n",
    "        <br> - images prior to 2022/01/01 will be downloaded from Collection 1 \\\n",
    "        <br> - images after 2022/01/01 will be automatically downloaded from Collection 2 \\\n",
    "        <br> C01: LandSat Collection 1 : All dates before 2022/01/01\\\n",
    "        <br> C02: LandSat Collection 2 : All dates after 2022/01/01 \\\n",
    "        <br> - Landsat 9 is only available in C02\",\n",
    "    layout=Layout(padding='10px')\n",
    ")\n",
    "\n",
    "\n",
    "satellite_selection=SelectMultiple(\n",
    "    options=['L5', 'L7', 'L8', 'S2'],\n",
    "    value=['L8'],\n",
    "    description='Satellites',\n",
    "    disabled=False\n",
    ")\n",
    "sat_vbox = VBox([sat_instr,satellite_selection])\n",
    "\n",
    "def handle_collection_change(change):\n",
    "    if change['new'] == 'C02':\n",
    "        satellite_selection.options=['L5', 'L7', 'L8', 'L9', 'S2']\n",
    "    else:\n",
    "        satellite_selection.options=['L5', 'L7', 'L8', 'S2']\n",
    "\n",
    "collection_radio.observe(handle_collection_change,\"value\")\n",
    "\n",
    "controls_vbox=VBox([dates_vbox, collection_vbox, sat_vbox])\n",
    "controls_vbox"
   ]
  },
  {
   "cell_type": "code",
   "execution_count": 3,
   "metadata": {
    "scrolled": true
   },
   "outputs": [
    {
     "name": "stdout",
     "output_type": "stream",
     "text": [
      "dates: ['2018-12-01', '2019-03-01']\n",
      "collection: C01\n",
      "sat_list: ['L8']\n"
     ]
    }
   ],
   "source": [
    "# CoastSat Download Variables\n",
    "# ------------------------------\n",
    "# Save the satellites selected to sat_list\n",
    "if satellite_selection.value:\n",
    "    sat_list = list(satellite_selection.value)\n",
    "elif not satellite_selection.value:\n",
    "    print(\"ERROR: You must select at least one satellite first\")\n",
    "# Save the dates selected by the user as well as the selected collection\n",
    "dates = [str(start_date.value),str(end_date.value)]\n",
    "collection = collection_radio.value\n",
    "print(f\"dates: {dates}\")\n",
    "print(f\"collection: {collection}\")\n",
    "print(f\"sat_list: {sat_list}\")"
   ]
  },
  {
   "cell_type": "code",
   "execution_count": 4,
   "metadata": {},
   "outputs": [],
   "source": [
    "# 'output_epsg': 3857,        # epsg code of spatial reference system desired for the output \n",
    "pre_process_settings = { \n",
    "    # general parameters:\n",
    "    'cloud_thresh': 0.5,        # threshold on maximum cloud cover\n",
    "    'output_epsg': 3857,        # epsg code of spatial reference system desired for the output   \n",
    "    # quality control:\n",
    "    'check_detection': True,    # if True, shows each shoreline detection to the user for validation\n",
    "    'adjust_detection': False,  # if True, allows user to adjust the postion of each shoreline by changing the threhold\n",
    "    'save_figure': True,        # if True, saves a figure showing the mapped shoreline for each image\n",
    "    # [ONLY FOR ADVANCED USERS] shoreline detection parameters:\n",
    "    'min_beach_area': 4500,     # minimum area (in metres^2) for an object to be labelled as a beach\n",
    "    'buffer_size': 150,         # radius (in metres) of the buffer around sandy pixels considered in the shoreline detection\n",
    "    'min_length_sl': 200,       # minimum length (in metres) of shoreline perimeter to be valid\n",
    "    'cloud_mask_issue': False,  # switch this parameter to True if sand pixels are masked (in black) on many images  \n",
    "    'sand_color': 'default',    # 'default', 'dark' (for grey/black sand beaches) or 'bright' (for white sand beaches)\n",
    "}\n",
    "\n",
    "# Output wdiget used to print messages and exceptions created by CoastSeg_Map\n",
    "debug_view = Output(layout={'border': '1px solid black'})"
   ]
  },
  {
   "cell_type": "markdown",
   "metadata": {},
   "source": [
    "# Create the Map\n",
    "- Create the map using the map settings set above"
   ]
  },
  {
   "cell_type": "code",
   "execution_count": 5,
   "metadata": {},
   "outputs": [],
   "source": [
    "coastseg_map=coastseg_map_class.CoastSeg_Map()"
   ]
  },
  {
   "cell_type": "markdown",
   "metadata": {},
   "source": [
    "# How to Use The Map\n",
    "---\n",
    "1. Use the rectangle tool to draw a bounding box along the coastline.\n",
    "2. Click `Generate ROI` to create ROI rectangles along the coastline in the bounding box. This may take some time.\n",
    "- You should see a coastline appear in yellow and some rectangles along it.\n",
    "3. Click 1 or more ROIs then click `Save ROI` to save these ROIs for downloading later\n",
    "4. You're ready to download the ROIs. Run the next block of code."
   ]
  },
  {
   "cell_type": "code",
   "execution_count": 6,
   "metadata": {},
   "outputs": [
    {
     "data": {
      "application/vnd.jupyter.widget-view+json": {
       "model_id": "e1d786f4b7684923a184ded7256445fe",
       "version_major": 2,
       "version_minor": 0
      },
      "text/plain": [
       "Output(layout=Layout(border='1px solid black'))"
      ]
     },
     "metadata": {},
     "output_type": "display_data"
    },
    {
     "data": {
      "application/vnd.jupyter.widget-view+json": {
       "model_id": "2e0870b5d3664157b856ee9b0694a8db",
       "version_major": 2,
       "version_minor": 0
      },
      "text/plain": [
       "HBox(children=(Button(description='Load Transects', style=ButtonStyle()), Button(description='Load Shoreline',…"
      ]
     },
     "metadata": {},
     "output_type": "display_data"
    },
    {
     "data": {
      "application/vnd.jupyter.widget-view+json": {
       "model_id": "d0b212c4dd134f3698449abe7f49d123",
       "version_major": 2,
       "version_minor": 0
      },
      "text/plain": [
       "HBox(children=(Button(description='Remove all', style=ButtonStyle()), Button(description='Remove transects', s…"
      ]
     },
     "metadata": {},
     "output_type": "display_data"
    },
    {
     "data": {
      "application/vnd.jupyter.widget-view+json": {
       "model_id": "9b7419788d4846449296ecf620581ebb",
       "version_major": 2,
       "version_minor": 0
      },
      "text/plain": [
       "Map(center=[36, -121.5], controls=(ZoomControl(options=['position', 'zoom_in_text', 'zoom_in_title', 'zoom_out…"
      ]
     },
     "metadata": {},
     "output_type": "display_data"
    }
   ],
   "source": [
    "transects_button = Button(description=\"Load Transects\")\n",
    "shoreline_button = Button(description=\"Load Shoreline\")\n",
    "gen_button =Button(description=\"Generate ROI\")\n",
    "save_button = Button(description=\"Save ROI\")\n",
    "\n",
    "remove_all_button = Button(description=\"Remove all\")\n",
    "remove_transects_button = Button(description=\"Remove transects\")\n",
    "remove_bbox_button = Button(description=\"Remove bbox\")\n",
    "remove_coastline_button = Button(description=\"Remove coastline\")\n",
    "remove_rois_button = Button(description=\"Remove ROIs\")\n",
    "remove_saved_roi_button = Button(description=\"Remove saved ROIs\")\n",
    "\n",
    "@debug_view.capture(clear_output=True)\n",
    "def on_shoreline_button_clicked(b):\n",
    "    if coastseg_map.shapes_list == [] :\n",
    "        print(\"Draw a bounding box on the coast first, then click Load Transects.\")\n",
    "    else:\n",
    "        debug_view.clear_output(wait=True)\n",
    "        print(\"Loading shoreline please wait.\") \n",
    "        # Add the transects to the map\n",
    "        coastseg_map.load_shoreline_on_map()\n",
    "        print(\"Shoreline loaded.\")\n",
    "\n",
    "@debug_view.capture(clear_output=True)\n",
    "def on_transects_button_clicked(b):\n",
    "    if coastseg_map.shapes_list == [] :\n",
    "        print(\"Draw a bounding box on the coast first, then click Load Transects.\")\n",
    "    else:\n",
    "        debug_view.clear_output(wait=True)\n",
    "        print(\"Loading transects please wait.\") \n",
    "        # Add the transects to the map\n",
    "        coastseg_map.load_transects_on_map()\n",
    "        print(\"Transects Loaded.\")\n",
    "\n",
    "        \n",
    "@debug_view.capture(clear_output=True)\n",
    "def on_gen_button_clicked(b):\n",
    "    if coastseg_map.shapes_list == [] :\n",
    "        print(\"Draw a bounding box on the coast first, then click Generate ROI.\")\n",
    "    else:\n",
    "        debug_view.clear_output(wait=True)\n",
    "        print(\"Generating ROIs please wait.\") \n",
    "        # Generate ROIs along the coastline within the bounding box\n",
    "        coastseg_map.generate_ROIS_fishnet()\n",
    "        debug_view.clear_output(wait=True)\n",
    "        # Add the Clickable ROIs to the map\n",
    "        coastseg_map.add_geojson_layer_to_map()\n",
    "        print(\"ROIs generated. Please Select at least one ROI and click Save ROI.\")\n",
    "\n",
    "@debug_view.capture(clear_output=True)\n",
    "def on_save_button_clicked(b):\n",
    "    if coastseg_map.selected_set:\n",
    "        if len(coastseg_map.selected_set) == 0:\n",
    "             print(\"Must select at least 1 ROI first before you can save ROIs.\")\n",
    "        else:\n",
    "            debug_view.clear_output(wait=True)\n",
    "            coastseg_map.save_roi_fishnet(\"fishnet_rois.geojson\")\n",
    "            print(\"Saving ROIs\")\n",
    "            debug_view.clear_output(wait=True)\n",
    "            print(\"ROIs have been saved. Now click Download ROI to download the ROIs using CoastSat\")\n",
    "    else:\n",
    "        print(\"No ROIs were selected.\")\n",
    "\n",
    "\n",
    "def remove_all_from_map(b):\n",
    "    coastseg_map.remove_all()\n",
    "def remove_transects(b):\n",
    "    coastseg_map.remove_transects()\n",
    "def remove_bbox_from_map(b):\n",
    "    coastseg_map.remove_bbox()\n",
    "def remove_coastline_from_map(b):\n",
    "    coastseg_map.remove_shoreline()\n",
    "def remove_all_rois_from_map(b):\n",
    "    coastseg_map.remove_all_rois()\n",
    "def remove_saved_roi_clicked(b):\n",
    "    coastseg_map.remove_saved_roi()\n",
    "\n",
    "transects_button.on_click(on_transects_button_clicked)    \n",
    "shoreline_button.on_click(on_shoreline_button_clicked) \n",
    "gen_button.on_click(on_gen_button_clicked)\n",
    "save_button.on_click(on_save_button_clicked)\n",
    "\n",
    "\n",
    "remove_all_button.on_click(remove_all_from_map)\n",
    "remove_transects_button.on_click(remove_transects)\n",
    "remove_bbox_button.on_click(remove_bbox_from_map)\n",
    "remove_coastline_button.on_click(remove_coastline_from_map)\n",
    "remove_rois_button.on_click(remove_all_rois_from_map)\n",
    "remove_saved_roi_button.on_click(remove_saved_roi_clicked)\n",
    "\n",
    "erase_buttons=HBox([remove_all_button, remove_transects_button, remove_bbox_button, remove_coastline_button, remove_rois_button, remove_saved_roi_button])\n",
    "\n",
    "display(debug_view,HBox([transects_button,shoreline_button, gen_button, save_button]),erase_buttons)\n",
    "# Display the map\n",
    "coastseg_map.m"
   ]
  },
  {
   "cell_type": "markdown",
   "metadata": {},
   "source": [
    "## Download the Selected ROIs\n",
    "- Download the satellite imagery for the ROIs using CoastSat.\n",
    "\n",
    "⚠️ Make sure you have clicked `Save ROI` before running the following code.\n",
    " \n",
    "### Parameters for download_imagery()\n",
    "1. `coastseg_map.selected_ROI` : geojson for the ROI clicked\n",
    "2. `pre_process_settings`: settings for downloading data using CoastSat\n",
    "3. `dates` : date range to download the imagery\n",
    "4. `sat_list` : list of satellites to download imagery from\n",
    "5. `collection` : LandSat Collection 1 (`C01`) or Collection 2 (`C02`)"
   ]
  },
  {
   "cell_type": "code",
   "execution_count": 7,
   "metadata": {},
   "outputs": [
    {
     "name": "stdout",
     "output_type": "stream",
     "text": [
      "Images available: \n",
      " [{'polygon': [[[-81.17381599999999, 29.492883980050735], [-81.12890023579402, 29.492883980050735], [-81.12890023579402, 29.531971871616403], [-81.17381599999999, 29.531971871616403], [-81.17381599999999, 29.492883980050735]]], 'dates': ['2018-12-01', '2019-03-01'], 'sat_list': ['L8'], 'sitename': 'ID02022-08-10__18_hr_11_min13', 'filepath': 'C:\\\\1_USGS\\\\CoastSeg\\\\repos\\\\2_CoastSeg\\\\CoastSeg_fork\\\\Seg2Map\\\\data', 'roi_id': '28', 'landsat_collection': 'C01'}]\n"
     ]
    },
    {
     "name": "stderr",
     "output_type": "stream",
     "text": [
      "Downloading ROIs:   0%|                                                                          | 0/1 [00:00<?, ?it/s]"
     ]
    },
    {
     "name": "stdout",
     "output_type": "stream",
     "text": [
      "Number of images available between 2018-12-01 and 2019-03-01:\n",
      "- In Landsat Tier 1 & Sentinel-2 Level-1C:\n",
      "     L8: 12 images\n",
      "  Total to download: 12 images\n",
      "- In Landsat Tier 2 (not suitable for time-series analysis):\n",
      "     L8: 12 images\n",
      "  Total Tier 2: 12 images\n",
      "\n",
      "Downloading images:\n",
      "L8: 12 images\n",
      "100%\n"
     ]
    },
    {
     "name": "stderr",
     "output_type": "stream",
     "text": [
      "Downloading ROIs: 100%|██████████████████████████████████████████████████████████████████| 1/1 [00:52<00:00, 52.48s/it]"
     ]
    },
    {
     "name": "stdout",
     "output_type": "stream",
     "text": [
      "Satellite images saved as .jpg in C:\\1_USGS\\CoastSeg\\repos\\2_CoastSeg\\CoastSeg_fork\\Seg2Map\\data\\ID02022-08-10__18_hr_11_min13\\jpg_files\\preprocessed\n"
     ]
    },
    {
     "name": "stderr",
     "output_type": "stream",
     "text": [
      "\n"
     ]
    }
   ],
   "source": [
    "if coastseg_map.selected_ROI:\n",
    "    inputs_dict=download_roi.download_imagery(coastseg_map.selected_ROI,pre_process_settings,dates,sat_list,collection)\n",
    "else:\n",
    "    print(\"No ROIs were selected. \\nPlease select at least one ROI and click 'Save ROI' to save these ROI for download.\")"
   ]
  },
  {
   "cell_type": "code",
   "execution_count": 8,
   "metadata": {},
   "outputs": [
    {
     "name": "stdout",
     "output_type": "stream",
     "text": [
      "Mapping shorelines:\n",
      "L8:   100%\n",
      "5 duplicates\n",
      "0 bad georef\n"
     ]
    }
   ],
   "source": [
    "extracted_shorelines=coastseg_map.extract_shorelines_from_rois(coastseg_map.selected_ROI,inputs_dict,pre_process_settings,coastseg_map.shorelines_gdf)"
   ]
  },
  {
   "cell_type": "code",
   "execution_count": 9,
   "metadata": {},
   "outputs": [
    {
     "data": {
      "text/plain": [
       "{28: {'dates': [datetime.datetime(2018, 12, 6, 15, 55, 18, tzinfo=<UTC>),\n",
       "   datetime.datetime(2018, 12, 22, 15, 55, 17, tzinfo=<UTC>),\n",
       "   datetime.datetime(2019, 1, 7, 15, 55, 16, tzinfo=<UTC>),\n",
       "   datetime.datetime(2019, 1, 23, 15, 55, 13, tzinfo=<UTC>),\n",
       "   datetime.datetime(2019, 2, 8, 15, 55, 10, tzinfo=<UTC>)],\n",
       "  'shorelines': [array([[-9033771.2352255 ,  3443474.54173075],\n",
       "          [-9033763.7727348 ,  3443458.87476559],\n",
       "          [-9033763.12097355,  3443457.23192269],\n",
       "          [-9033759.48643775,  3443439.91625927],\n",
       "          [-9033747.7977659 ,  3443422.6111733 ],\n",
       "          [-9033746.49078717,  3443420.76354902],\n",
       "          [-9033740.86641236,  3443405.29986947],\n",
       "          [-9033735.26404106,  3443387.98684471],\n",
       "          [-9033729.19482953,  3443371.76014331],\n",
       "          [-9033728.85168527,  3443370.67490041],\n",
       "          [-9033719.4084673 ,  3443353.36694055],\n",
       "          [-9033711.92392861,  3443342.01614496],\n",
       "          [-9033709.33370565,  3443336.0598221 ],\n",
       "          [-9033704.95625428,  3443318.74527383],\n",
       "          [-9033699.95134292,  3443301.43156666],\n",
       "          [-9033694.62489998,  3443290.45516699],\n",
       "          [-9033691.5574073 ,  3443284.12230638],\n",
       "          [-9033682.10806402,  3443266.81444085],\n",
       "          [-9033518.42629058,  3442903.30804616],\n",
       "          [-9033512.20564462,  3442885.99638325],\n",
       "          [-9033504.5336723 ,  3442871.1615682 ],\n",
       "          [-9033503.53036392,  3442868.68790959],\n",
       "          [-9033496.51475006,  3442851.37731099],\n",
       "          [-9033488.81939001,  3442834.06760819],\n",
       "          [-9033487.25007446,  3442830.54843066],\n",
       "          [-9033481.83382715,  3442816.75700832],\n",
       "          [-9033470.81235891,  3442799.45162859],\n",
       "          [-9033469.97725696,  3442798.30260464],\n",
       "          [-9033463.02390497,  3442782.14209854],\n",
       "          [-9033455.63573338,  3442764.83207122],\n",
       "          [-9033452.69293698,  3442756.96164246],\n",
       "          [-9033449.56292134,  3442747.52036972],\n",
       "          [-9033442.12737553,  3442730.21044111],\n",
       "          [-9033435.40633202,  3442713.73884361],\n",
       "          [-9033435.16784568,  3442712.89991891],\n",
       "          [-9033427.49560939,  3442695.59033167],\n",
       "          [-9033418.12106048,  3442671.47419535],\n",
       "          [-9033414.52484607,  3442660.9681637 ],\n",
       "          [-9033402.5650134 ,  3442643.66413506],\n",
       "          [-9033400.85219957,  3442642.04168617],\n",
       "          [-9033393.28418407,  3442626.35668247],\n",
       "          [-9033387.36072363,  3442609.04494209],\n",
       "          [-9033383.55846304,  3442592.94115689],\n",
       "          [-9033383.28813877,  3442591.7308496 ],\n",
       "          [-9033377.40819159,  3442574.41909441],\n",
       "          [-9033366.28219143,  3442557.51730211],\n",
       "          [-9033366.08559546,  3442557.11432901],\n",
       "          [-9033360.47978659,  3442539.80226058],\n",
       "          [-9033353.81695451,  3442522.49156488],\n",
       "          [-9033348.99426848,  3442512.81620716],\n",
       "          [-9033345.54439715,  3442505.18294701],\n",
       "          [-9033336.98972232,  3442487.87470714],\n",
       "          [-9033331.72213949,  3442480.50892782],\n",
       "          [-9032943.85283859,  3441605.12332761],\n",
       "          [-9032941.90434639,  3441587.80776593],\n",
       "          [-9032937.57335827,  3441570.49519744],\n",
       "          [-9032934.27103114,  3441562.50602944],\n",
       "          [-9032929.6318798 ,  3441553.18715004],\n",
       "          [-9032917.01329289,  3441540.01121524],\n",
       "          [-9032914.66041823,  3441535.88787474],\n",
       "          [-9032908.3215441 ,  3441518.5778643 ],\n",
       "          [-9032904.06522115,  3441501.26528262],\n",
       "          [-9032899.71840741,  3441487.29714394],\n",
       "          [-9032898.49853678,  3441483.9543521 ],\n",
       "          [-9032893.65939581,  3441466.64253736],\n",
       "          [-9032887.59354865,  3441449.33226826],\n",
       "          [-9032882.43349526,  3441442.57789422],\n",
       "          [-9032876.47787053,  3441432.02829196],\n",
       "          [-9032871.40871624,  3441414.71682279],\n",
       "          [-9032865.15336143,  3441401.65107789],\n",
       "          [-9032863.13424254,  3441397.40935244],\n",
       "          [-9032854.11086859,  3441380.10282836],\n",
       "          [-9032847.88367021,  3441369.14471571],\n",
       "          [-9032277.74574859,  3440054.18704531],\n",
       "          [-9032274.71991708,  3440047.41232698],\n",
       "          [-9032268.74223168,  3440030.10352562],\n",
       "          [-9032260.47362578,  3440016.8627213 ],\n",
       "          [-9032258.07756677,  3440012.8003394 ],\n",
       "          [-9032252.02245291,  3439995.49166815],\n",
       "          [-9032246.17078393,  3439978.18277417],\n",
       "          [-9032243.19365233,  3439972.80313214],\n",
       "          [-9032237.65596762,  3439960.87707498],\n",
       "          [-9032225.93167934,  3439943.91158422],\n",
       "          [-9032225.67952865,  3439943.57551632],\n",
       "          [-9032217.9425579 ,  3439926.26892305],\n",
       "          [-9032213.45055604,  3439908.95848643],\n",
       "          [-9032208.64255243,  3439891.89750168],\n",
       "          [-9032208.58018228,  3439891.64852117],\n",
       "          [-9032202.49871726,  3439874.34001714],\n",
       "          [-9032195.96445105,  3439857.03207124],\n",
       "          [-9032191.36623736,  3439850.65700319],\n",
       "          [-9032186.95668472,  3439839.72708357],\n",
       "          [-9032182.03764755,  3439822.41725705],\n",
       "          [-9032174.08648328,  3439806.39625273],\n",
       "          [-9032173.26370566,  3439805.11202755],\n",
       "          [-9032162.99265957,  3439787.80859065],\n",
       "          [-9031764.92469779,  3438870.5790537 ],\n",
       "          [-9031759.5363134 ,  3438856.65054779],\n",
       "          [-9031757.97428243,  3438853.27268444],\n",
       "          [-9031750.83956395,  3438835.96654681],\n",
       "          [-9031742.26960296,  3438821.36833276],\n",
       "          [-9031740.86910669,  3438818.6636982 ],\n",
       "          [-9031729.2675592 ,  3438801.36274404],\n",
       "          [-9031725.01237364,  3438794.31916934],\n",
       "          [-9031718.36376509,  3438784.06099877],\n",
       "          [-9031713.03386886,  3438766.75285292],\n",
       "          [-9031707.7429163 ,  3438756.47001462],\n",
       "          [-9031704.54891714,  3438749.44835719],\n",
       "          [-9031700.37353403,  3438732.13892351],\n",
       "          [-9031693.70173273,  3438714.83238093],\n",
       "          [-9031690.46376127,  3438710.00720404],\n",
       "          [-9031685.08813612,  3438697.5280884 ],\n",
       "          [-9031676.92804971,  3438680.22329215],\n",
       "          [-9031673.19936477,  3438676.42501656],\n",
       "          [-9031664.50002596,  3438662.92341011],\n",
       "          [-9031660.58155899,  3438645.61378247]]),\n",
       "   array([[-9033308.82283884,  3442453.27239143],\n",
       "          [-9033302.55183368,  3442435.96128293],\n",
       "          [-9033297.19091082,  3442426.01393205],\n",
       "          [-9033292.0879646 ,  3442418.65553892],\n",
       "          [-9033286.84579691,  3442401.3431569 ],\n",
       "          [-9033279.91976885,  3442384.03294021],\n",
       "          [-9033279.90679102,  3442384.00179446],\n",
       "          [-9033272.01359807,  3442366.7239903 ],\n",
       "          [-9033266.50594036,  3442349.41200623],\n",
       "          [-9033262.62216391,  3442341.49795194],\n",
       "          [-9033258.36864474,  3442332.10338755],\n",
       "          [-9033248.95677977,  3442314.79640675],\n",
       "          [-9033245.34417648,  3442304.1818936 ],\n",
       "          [-9033242.69168675,  3442297.48544357],\n",
       "          [-9033233.14943676,  3442280.17866235],\n",
       "          [-9033228.06754426,  3442267.865174  ],\n",
       "          [-9032938.20879788,  3441605.13036612],\n",
       "          [-9032934.31123221,  3441595.0862308 ],\n",
       "          [-9032930.22492188,  3441587.82232641],\n",
       "          [-9032924.97447725,  3441570.51089944],\n",
       "          [-9032918.88526558,  3441553.20053765],\n",
       "          [-9032917.02577482,  3441550.13793643],\n",
       "          [-9032908.81376385,  3441535.89515251],\n",
       "          [-9032901.62023632,  3441518.58620236],\n",
       "          [-9032899.75205571,  3441514.62611431],\n",
       "          [-9032892.04551526,  3441501.28023154],\n",
       "          [-9032882.89842278,  3441483.97374499],\n",
       "          [-9032882.48254745,  3441482.46120256],\n",
       "          [-9032876.66050067,  3441466.66366171],\n",
       "          [-9032868.56411564,  3441449.35590538],\n",
       "          [-9032865.19643132,  3441436.7085295 ],\n",
       "          [-9032863.70753566,  3441432.04414646],\n",
       "          [-9032856.85083754,  3441414.73488972],\n",
       "          [-9032848.28606469,  3441397.42776987],\n",
       "          [-9032847.91763878,  3441396.82414058],\n",
       "          [-9032704.35652614,  3441068.57264396],\n",
       "          [-9032696.76064694,  3441051.26468756],\n",
       "          [-9032692.41381128,  3441038.29862237],\n",
       "          [-9032690.88136026,  3441033.95464245],\n",
       "          [-9032685.10241728,  3441016.64449428],\n",
       "          [-9032677.39569241,  3440999.33673068],\n",
       "          [-9032675.13049817,  3440993.81576077],\n",
       "          [-9032669.3850708 ,  3440982.02935773],\n",
       "          [-9032664.9530071 ,  3440964.71761768],\n",
       "          [-9032658.56271414,  3440947.40829775],\n",
       "          [-9032657.84355155,  3440946.23841332],\n",
       "          [-9032647.61388423,  3440930.10457825],\n",
       "          [-9032641.0449859 ,  3440912.79551372],\n",
       "          [-9032640.57290101,  3440912.01153943],\n",
       "          [-9032631.19407861,  3440895.49048225],\n",
       "          [-9032625.44612494,  3440878.18045135],\n",
       "          [-9032623.29709842,  3440873.45084804],\n",
       "          [-9032616.22474513,  3440860.87468435],\n",
       "          [-9032610.23772252,  3440843.5649842 ],\n",
       "          [-9032277.76980779,  3440074.52412757],\n",
       "          [-9032274.07756933,  3440064.72905992],\n",
       "          [-9032261.73127846,  3440047.42784042],\n",
       "          [-9032260.50745831,  3440045.49346605],\n",
       "          [-9032253.98658704,  3440030.12114161],\n",
       "          [-9032248.03612224,  3440012.81232083],\n",
       "          [-9032244.52201124,  3439995.50061485],\n",
       "          [-9032243.21568324,  3439991.46796799],\n",
       "          [-9032236.52263196,  3439978.19427746],\n",
       "          [-9032229.7336187 ,  3439960.88651589],\n",
       "          [-9032225.94167793,  3439952.39211124],\n",
       "          [-9032221.37398677,  3439943.58064374],\n",
       "          [-9032214.20479208,  3439926.27337212],\n",
       "          [-9032210.04351874,  3439908.96254068],\n",
       "          [-9032208.65842238,  3439905.37327411],\n",
       "          [-9032202.87122447,  3439891.65531192],\n",
       "          [-9032191.81824247,  3439874.35271431],\n",
       "          [-9032191.39329069,  3439873.65513146]]),\n",
       "   array([[-9033763.74180522,  3443435.0506042 ],\n",
       "          [-9033753.47069658,  3443422.60373893],\n",
       "          [-9033746.48210917,  3443414.07224321],\n",
       "          [-9033739.79845196,  3443405.30126817],\n",
       "          [-9033732.17694848,  3443387.99088625],\n",
       "          [-9033729.36624987,  3443370.67422694],\n",
       "          [-9033729.19266877,  3443370.09233107],\n",
       "          [-9033721.14218905,  3443353.36467263],\n",
       "          [-9033711.92069311,  3443339.51618991],\n",
       "          [-9033710.20473185,  3443336.05868341],\n",
       "          [-9033698.40215615,  3443318.75383783],\n",
       "          [-9033694.65198893,  3443311.40750733],\n",
       "          [-9033692.2212005 ,  3443301.44166396],\n",
       "          [-9033687.36618209,  3443284.12777888],\n",
       "          [-9033677.36817167,  3443271.53943576],\n",
       "          [-9033674.22424664,  3443266.82472782],\n",
       "          [-9033667.44830712,  3443249.51338646],\n",
       "          [-9033512.33585512,  3442885.99621504],\n",
       "          [-9033504.54082448,  3442876.75735864],\n",
       "          [-9033498.24462711,  3442868.6947331 ],\n",
       "          [-9033490.37227921,  3442851.38523689],\n",
       "          [-9033487.26605925,  3442843.06787773],\n",
       "          [-9033484.75488226,  3442834.07285068],\n",
       "          [-9033481.76958995,  3442816.75709114],\n",
       "          [-9033469.97975407,  3442800.26042489],\n",
       "          [-9033469.49975629,  3442799.4533199 ],\n",
       "          [-9033461.05483994,  3442782.14463447],\n",
       "          [-9033453.3051266 ,  3442764.83507139],\n",
       "          [-9033452.69462478,  3442758.28632132],\n",
       "          [-9033451.95519246,  3442747.51729088],\n",
       "          [-9033439.99588511,  3442730.21318272],\n",
       "          [-9033435.42100078,  3442725.26386885],\n",
       "          [-9033428.68050209,  3442712.90825855],\n",
       "          [-9033420.48387502,  3442695.59934106],\n",
       "          [-9032709.66185154,  3441053.68870264],\n",
       "          [-9032708.58239399,  3441051.25016574],\n",
       "          [-9032703.26231529,  3441033.93943914],\n",
       "          [-9032699.35573315,  3441016.62699721],\n",
       "          [-9032692.3716511 ,  3441003.60335687],\n",
       "          [-9032689.23964777,  3440999.32219955],\n",
       "          [-9032675.11772826,  3440983.29533325],\n",
       "          [-9032674.2011176 ,  3440982.02345334],\n",
       "          [-9032666.2313078 ,  3440964.71605113],\n",
       "          [-9032658.75710111,  3440947.40805963],\n",
       "          [-9032657.84341051,  3440946.12208947],\n",
       "          [-9032652.90256557,  3440930.09810335],\n",
       "          [-9032646.80324232,  3440912.78846677],\n",
       "          [-9032640.56218526,  3440903.1638916 ],\n",
       "          [-9032636.92417599,  3440895.48347418],\n",
       "          [-9032630.38978197,  3440878.1744075 ],\n",
       "          [-9032623.28541056,  3440863.78987811],\n",
       "          [-9032622.30961241,  3440860.86724945],\n",
       "          [-9032616.02052528,  3440843.55792116],\n",
       "          [-9032277.76080022,  3440066.91009822],\n",
       "          [-9032277.074388  ,  3440064.72547884],\n",
       "          [-9032270.17349431,  3440047.41775865],\n",
       "          [-9032264.4631575 ,  3440030.10863592],\n",
       "          [-9032260.4825135 ,  3440024.38396404],\n",
       "          [-9032253.19618306,  3440012.80616483],\n",
       "          [-9032249.07223764,  3439995.49518776],\n",
       "          [-9032243.20791755,  3439984.88880191],\n",
       "          [-9032240.54239588,  3439978.18948566],\n",
       "          [-9032233.57449371,  3439960.8819394 ],\n",
       "          [-9032225.93509873,  3439946.81182037],\n",
       "          [-9032224.24023375,  3439943.57723052],\n",
       "          [-9032225.91409723,  3439928.99888855],\n",
       "          [-9032226.53217448,  3439926.25869469],\n",
       "          [-9032225.91009285,  3439925.60246331],\n",
       "          [-9032212.2020593 ,  3439908.9599722 ],\n",
       "          [-9032208.65299769,  3439900.766977  ],\n",
       "          [-9032207.00570469,  3439891.65039425],\n",
       "          [-9032193.72340614,  3439874.35045006],\n",
       "          [-9032191.39108885,  3439871.78334251]]),\n",
       "   array([], shape=(0, 2), dtype=float64),\n",
       "   array([[-9033519.89058481,  3442903.30615377],\n",
       "          [-9033511.61905276,  3442885.997141  ],\n",
       "          [-9033504.54152754,  3442877.30742679],\n",
       "          [-9033498.76375405,  3442868.69406304],\n",
       "          [-9033497.96006255,  3442851.37544561],\n",
       "          [-9033493.36044895,  3442834.06174951],\n",
       "          [-9033487.23670625,  3442820.07827544],\n",
       "          [-9033486.22330307,  3442816.75134763],\n",
       "          [-9033481.65899691,  3442799.43764736],\n",
       "          [-9033473.0448689 ,  3442782.12918803],\n",
       "          [-9033469.95093984,  3442777.66903527],\n",
       "          [-9033458.92665274,  3442764.82783413],\n",
       "          [-9033452.69277958,  3442756.83810084],\n",
       "          [-9033449.41986441,  3442747.52055382],\n",
       "          [-9033446.36064043,  3442730.20499508],\n",
       "          [-9033446.30589687,  3442712.88559306],\n",
       "          [-9032277.76752954,  3440072.59833912],\n",
       "          [-9032276.05231072,  3440064.72670026],\n",
       "          [-9032270.55297025,  3440047.41730534],\n",
       "          [-9032262.74347236,  3440030.11068926],\n",
       "          [-9032260.48528307,  3440026.72771888],\n",
       "          [-9032252.52047806,  3440012.80697107],\n",
       "          [-9032248.00945743,  3439995.49645549],\n",
       "          [-9032243.20828215,  3439985.19769313],\n",
       "          [-9032240.54971644,  3439978.18947693],\n",
       "          [-9032236.97927273,  3439960.87788157],\n",
       "          [-9032225.93442738,  3439946.24240353],\n",
       "          [-9032223.23663468,  3439943.57842571],\n",
       "          [-9032214.89814983,  3439926.2725469 ],\n",
       "          [-9032208.66710382,  3439912.74499761],\n",
       "          [-9032206.9903139 ,  3439908.96617311],\n",
       "          [-9032201.25109953,  3439891.65723858],\n",
       "          [-9032194.96571131,  3439874.34897345],\n",
       "          [-9032191.38460432,  3439866.27083664],\n",
       "          [-9031759.57103202,  3438887.02872818],\n",
       "          [-9031753.97299194,  3438870.59169824],\n",
       "          [-9031747.30793905,  3438853.28499381],\n",
       "          [-9031742.29486815,  3438843.50082794],\n",
       "          [-9031737.36276925,  3438835.98209056],\n",
       "          [-9031728.58576074,  3438818.67785647],\n",
       "          [-9031725.03234495,  3438811.83464877],\n",
       "          [-9031720.42024012,  3438801.37293498],\n",
       "          [-9031715.09714364,  3438784.06475941],\n",
       "          [-9031707.75856625,  3438770.21164596],\n",
       "          [-9031705.73584191,  3438766.76125046],\n",
       "          [-9031699.03313767,  3438749.4547007 ],\n",
       "          [-9031691.39933264,  3438732.14924028],\n",
       "          [-9031690.48624357,  3438729.7712925 ],\n",
       "          [-9031686.5752893 ,  3438714.84057029],\n",
       "          [-9031683.61976132,  3438697.52977512],\n",
       "          [-9031674.1005284 ,  3438680.22653817],\n",
       "          [-9031673.20258785,  3438679.26175398],\n",
       "          [-9031662.17228733,  3438662.92608016],\n",
       "          [-9031655.94219346,  3438649.1308158 ],\n",
       "          [-9031654.32177963,  3438645.62095991]])],\n",
       "  'filename': ['2018-12-06-15-55-18_L8_ID02022-08-10__18_hr_11_min13_pan.tif',\n",
       "   '2018-12-22-15-55-17_L8_ID02022-08-10__18_hr_11_min13_pan.tif',\n",
       "   '2019-01-07-15-55-16_L8_ID02022-08-10__18_hr_11_min13_pan.tif',\n",
       "   '2019-01-23-15-55-13_L8_ID02022-08-10__18_hr_11_min13_pan.tif',\n",
       "   '2019-02-08-15-55-10_L8_ID02022-08-10__18_hr_11_min13_pan.tif'],\n",
       "  'cloud_cover': [0.0, 0.0, 0.002547649376778295, 0.0, 0.0],\n",
       "  'geoaccuracy': [6.318999767303467,\n",
       "   6.752999782562256,\n",
       "   6.630000114440918,\n",
       "   7.989999771118164,\n",
       "   6.3460001945495605],\n",
       "  'idx': [1, 3, 5, 7, 9],\n",
       "  'MNDWI_threshold': [-0.13274789976185675,\n",
       "   -0.21912047871318535,\n",
       "   -0.2393195466173243,\n",
       "   -0.10100813924446794,\n",
       "   -0.191627166417907],\n",
       "  'satname': ['L8', 'L8', 'L8', 'L8', 'L8']}}"
      ]
     },
     "execution_count": 9,
     "metadata": {},
     "output_type": "execute_result"
    }
   ],
   "source": [
    "extracted_shorelines"
   ]
  },
  {
   "cell_type": "code",
   "execution_count": 10,
   "metadata": {},
   "outputs": [
    {
     "name": "stdout",
     "output_type": "stream",
     "text": [
      "Shoreline present at ROI:  28\n",
      "Time-series of the shoreline change along the transects saved as:\n",
      "C:\\1_USGS\\CoastSeg\\repos\\2_CoastSeg\\CoastSeg_fork\\Seg2Map\\data\\ID02022-08-10__18_hr_11_min13\\transect_time_series.csv\n"
     ]
    },
    {
     "data": {
      "text/plain": [
       "{'28': {'NA0': array([nan, nan, nan, nan, nan]),\n",
       "  'NA1': array([nan, nan, nan, nan, nan]),\n",
       "  'NA2': array([nan, nan, nan, nan, nan]),\n",
       "  'NA3': array([nan, nan, nan, nan, nan]),\n",
       "  'NA4': array([58.41862985,         nan,         nan,         nan, 64.11738495]),\n",
       "  'NA5': array([57.56430561,         nan,         nan,         nan, 59.42746877]),\n",
       "  'NA6': array([55.35255488,         nan,         nan,         nan, 63.39320426]),\n",
       "  'NA7': array([57.59076423,         nan,         nan,         nan, 64.00219022]),\n",
       "  'NA8': array([48.74241372,         nan,         nan,         nan, 59.93606429]),\n",
       "  'NA9': array([51.3121904 ,         nan,         nan,         nan, 62.08203805]),\n",
       "  'NA10': array([nan, nan, nan, nan, nan]),\n",
       "  'NA11': array([nan, nan, nan, nan, nan]),\n",
       "  'NA12': array([nan, nan, nan, nan, nan]),\n",
       "  'NA13': array([nan, nan, nan, nan, nan]),\n",
       "  'NA14': array([nan, nan, nan, nan, nan]),\n",
       "  'NA15': array([nan, nan, nan, nan, nan]),\n",
       "  'NA16': array([nan, nan, nan, nan, nan]),\n",
       "  'NA17': array([nan, nan, nan, nan, nan]),\n",
       "  'NA18': array([nan, nan, nan, nan, nan]),\n",
       "  'NA19': array([nan, nan, nan, nan, nan]),\n",
       "  'NA20': array([nan, nan, nan, nan, nan]),\n",
       "  'NA21': array([nan, nan, nan, nan, nan]),\n",
       "  'NA22': array([nan, nan, nan, nan, nan]),\n",
       "  'NA23': array([nan, nan, nan, nan, nan]),\n",
       "  'NA24': array([nan, nan, nan, nan, nan]),\n",
       "  'NA25': array([nan, nan, nan, nan, nan]),\n",
       "  'NA26': array([45.71689879,         nan,         nan,         nan,         nan]),\n",
       "  'NA27': array([45.81181578,         nan,         nan,         nan,         nan]),\n",
       "  'NA28': array([47.70883497, 53.17107114, 51.26470253,         nan, 55.21739016]),\n",
       "  'NA29': array([51.9903764 , 55.31141452, 48.85467954,         nan, 52.86783751]),\n",
       "  'NA30': array([46.70190718, 53.20997741, 50.127764  ,         nan, 50.31465313]),\n",
       "  'NA31': array([47.28798663, 57.32321468, 52.09369385,         nan, 53.03201221]),\n",
       "  'NA32': array([nan, nan, nan, nan, nan]),\n",
       "  'NA33': array([nan, nan, nan, nan, nan]),\n",
       "  'NA34': array([nan, nan, nan, nan, nan]),\n",
       "  'NA35': array([nan, nan, nan, nan, nan]),\n",
       "  'NA36': array([nan, nan, nan, nan, nan]),\n",
       "  'NA37': array([nan, nan, nan, nan, nan]),\n",
       "  'NA38': array([nan, nan, nan, nan, nan]),\n",
       "  'NA39': array([nan, nan, nan, nan, nan]),\n",
       "  'NA40': array([nan, nan, nan, nan, nan]),\n",
       "  'NA41': array([nan, nan, nan, nan, nan]),\n",
       "  'NA42': array([nan, nan, nan, nan, nan]),\n",
       "  'NA43': array([nan, nan, nan, nan, nan]),\n",
       "  'NA44': array([nan, nan, nan, nan, nan]),\n",
       "  'NA45': array([nan, nan, nan, nan, nan]),\n",
       "  'NA46': array([        nan, 56.35450573, 52.00984266,         nan,         nan]),\n",
       "  'NA47': array([        nan, 56.84391468, 53.3966113 ,         nan,         nan]),\n",
       "  'NA48': array([        nan, 54.62422447, 53.9021244 ,         nan,         nan]),\n",
       "  'NA49': array([        nan, 57.54597585, 45.46390749,         nan,         nan]),\n",
       "  'NA50': array([        nan, 61.09886414, 50.30537268,         nan,         nan]),\n",
       "  'NA51': array([nan, nan, nan, nan, nan]),\n",
       "  'NA52': array([nan, nan, nan, nan, nan]),\n",
       "  'NA53': array([nan, nan, nan, nan, nan]),\n",
       "  'NA54': array([nan, nan, nan, nan, nan]),\n",
       "  'NA55': array([nan, nan, nan, nan, nan]),\n",
       "  'NA56': array([49.53507075, 61.7182658 ,         nan,         nan,         nan]),\n",
       "  'NA57': array([48.11627323, 61.83266414,         nan,         nan,         nan]),\n",
       "  'NA58': array([46.7927346 , 60.86017844,         nan,         nan,         nan]),\n",
       "  'NA59': array([57.09133583, 61.22435208,         nan,         nan,         nan]),\n",
       "  'NA60': array([52.17247005, 62.34325707,         nan,         nan,         nan]),\n",
       "  'NA61': array([nan, nan, nan, nan, nan]),\n",
       "  'NA62': array([nan, nan, nan, nan, nan]),\n",
       "  'NA63': array([nan, nan, nan, nan, nan]),\n",
       "  'NA64': array([nan, nan, nan, nan, nan]),\n",
       "  'NA65': array([nan, nan, nan, nan, nan]),\n",
       "  'NA66': array([nan, nan, nan, nan, nan]),\n",
       "  'NA67': array([nan, nan, nan, nan, nan]),\n",
       "  'NA68': array([nan, nan, nan, nan, nan]),\n",
       "  'NA69': array([nan, nan, nan, nan, nan]),\n",
       "  'NA70': array([nan, nan, nan, nan, nan]),\n",
       "  'NA71': array([nan, nan, nan, nan, nan]),\n",
       "  'NA72': array([nan, nan, nan, nan, nan]),\n",
       "  'NA73': array([        nan, 54.65716109,         nan,         nan,         nan]),\n",
       "  'NA74': array([        nan, 53.27353932,         nan,         nan,         nan]),\n",
       "  'NA75': array([        nan, 54.81270005,         nan,         nan,         nan]),\n",
       "  'NA76': array([        nan, 55.37387452,         nan,         nan,         nan]),\n",
       "  'NA77': array([43.77261208,         nan,         nan,         nan,         nan]),\n",
       "  'NA78': array([43.62978747,         nan,         nan,         nan,         nan]),\n",
       "  'NA79': array([46.08009056,         nan,         nan,         nan,         nan]),\n",
       "  'NA80': array([48.77248727,         nan,         nan,         nan,         nan]),\n",
       "  'NA81': array([46.22533642,         nan, 52.09170901,         nan, 35.85909958]),\n",
       "  'NA82': array([47.64132796,         nan, 48.15745996,         nan, 45.97099303]),\n",
       "  'NA83': array([49.79281319,         nan, 50.87528431,         nan, 41.6681976 ]),\n",
       "  'NA84': array([45.27879732,         nan, 50.19204933,         nan, 47.71659011]),\n",
       "  'NA85': array([45.24718133,         nan,         nan,         nan, 43.8985982 ]),\n",
       "  'NA86': array([nan, nan, nan, nan, nan]),\n",
       "  'NA87': array([nan, nan, nan, nan, nan]),\n",
       "  'NA88': array([nan, nan, nan, nan, nan]),\n",
       "  'NA89': array([nan, nan, nan, nan, nan]),\n",
       "  'NA90': array([nan, nan, nan, nan, nan]),\n",
       "  'NA91': array([       nan,        nan, 49.6194831,        nan,        nan]),\n",
       "  'NA92': array([41.8923027 ,         nan, 49.21699367,         nan,         nan]),\n",
       "  'NA93': array([46.56588755,         nan, 46.93253763,         nan,         nan]),\n",
       "  'NA94': array([45.59738845,         nan, 46.60282355,         nan,         nan]),\n",
       "  'NA95': array([48.46340889,         nan, 41.47572374,         nan,         nan]),\n",
       "  'NA96': array([47.75689646,         nan,         nan,         nan,         nan]),\n",
       "  'NA97': array([nan, nan, nan, nan, nan])}}"
      ]
     },
     "execution_count": 10,
     "metadata": {},
     "output_type": "execute_result"
    }
   ],
   "source": [
    "cross_distances_rois=coastseg_map.compute_transects(coastseg_map.selected_ROI,extracted_shorelines,pre_process_settings)\n",
    "cross_distances_rois"
   ]
  },
  {
   "cell_type": "code",
   "execution_count": 11,
   "metadata": {},
   "outputs": [
    {
     "data": {
      "application/vnd.jupyter.widget-view+json": {
       "model_id": "85ac2592a1284db8a4daf253c48c68f8",
       "version_major": 2,
       "version_minor": 0
      },
      "text/plain": [
       "Checkbox(value=False, description='Use GPU?', indent=False)"
      ]
     },
     "metadata": {},
     "output_type": "display_data"
    },
    {
     "data": {
      "application/vnd.jupyter.widget-view+json": {
       "model_id": "4b1a3bc6c3504d51bfcd2b7e68867f92",
       "version_major": 2,
       "version_minor": 0
      },
      "text/plain": [
       "Output()"
      ]
     },
     "metadata": {},
     "output_type": "display_data"
    },
    {
     "data": {
      "application/vnd.jupyter.widget-view+json": {
       "model_id": "61c68f9a53984a018d7e8ec6d822762c",
       "version_major": 2,
       "version_minor": 0
      },
      "text/plain": [
       "HBox(children=(RadioButtons(description='Select Model:', options=('landsat_6229071', 'landsat_6230083', 'SWED-…"
      ]
     },
     "metadata": {},
     "output_type": "display_data"
    },
    {
     "data": {
      "application/vnd.jupyter.widget-view+json": {
       "model_id": "16366ae3f9ce4e558b00350beda0ca72",
       "version_major": 2,
       "version_minor": 0
      },
      "text/plain": [
       "VBox(children=(HTML(value='<h4>Click ONE of the following buttons:</h4>', layout=Layout(margin='0px 0px 0px 0p…"
      ]
     },
     "metadata": {},
     "output_type": "display_data"
    },
    {
     "data": {
      "application/vnd.jupyter.widget-view+json": {
       "model_id": "85ffee7b863d4346b498d188e716a5f0",
       "version_major": 2,
       "version_minor": 0
      },
      "text/plain": [
       "Button(description='Use Data Button', style=ButtonStyle())"
      ]
     },
     "metadata": {},
     "output_type": "display_data"
    },
    {
     "data": {
      "application/vnd.jupyter.widget-view+json": {
       "model_id": "f8f7e806c4c04dcaa221f345b0aa9fc6",
       "version_major": 2,
       "version_minor": 0
      },
      "text/plain": [
       "Button(description='Select Your Images', style=ButtonStyle())"
      ]
     },
     "metadata": {},
     "output_type": "display_data"
    },
    {
     "data": {
      "application/vnd.jupyter.widget-view+json": {
       "model_id": "3c74b3c2dddb4e52b75d11bae334ac4b",
       "version_major": 2,
       "version_minor": 0
      },
      "text/plain": [
       "HTML(value='____________________________________________________')"
      ]
     },
     "metadata": {},
     "output_type": "display_data"
    },
    {
     "data": {
      "application/vnd.jupyter.widget-view+json": {
       "model_id": "63cd6f11ea2748d9840e3fd647acc495",
       "version_major": 2,
       "version_minor": 0
      },
      "text/plain": [
       "Output(layout=Layout(border='1px solid black'))"
      ]
     },
     "metadata": {},
     "output_type": "display_data"
    },
    {
     "data": {
      "application/vnd.jupyter.widget-view+json": {
       "model_id": "856a5ed12fc64a6a89b37e184a45b8c0",
       "version_major": 2,
       "version_minor": 0
      },
      "text/plain": [
       "Button(description='Run Model', style=ButtonStyle())"
      ]
     },
     "metadata": {},
     "output_type": "display_data"
    },
    {
     "data": {
      "application/vnd.jupyter.widget-view+json": {
       "model_id": "40bcb656c488467aa4d8317731fd9a28",
       "version_major": 2,
       "version_minor": 0
      },
      "text/plain": [
       "Output(layout=Layout(border='1px solid black'))"
      ]
     },
     "metadata": {},
     "output_type": "display_data"
    }
   ],
   "source": [
    "model_dict={\"sample_direc\":None,\"use_GPU\":False, 'implementation':'ENSEMBLE','model_type':'landsat_6229071'}\n",
    "\n",
    "model_view = Output(layout={'border': '1px solid black'})\n",
    "run_model_view = Output(layout={'border': '1px solid black'})\n",
    "GPU_view = Output()\n",
    "\n",
    "run_model_button = Button(description=\"Run Model\")\n",
    "use_data_button = Button(description=\"Use Data Button\")\n",
    "use_select_images_button = Button(description=\"Select Your Images\")\n",
    "\n",
    "\n",
    "model_implementation = RadioButtons(\n",
    "    options=['ENSEMBLE', 'BEST'],\n",
    "   value='ENSEMBLE',\n",
    "    description='Select:',\n",
    "    disabled=False\n",
    ")\n",
    "\n",
    "model_dropdown = RadioButtons(\n",
    "    options= ['landsat_6229071', 'landsat_6230083','SWED-RGB_6824384','SWED-MNDWI_6824342'],\n",
    "    value='landsat_6229071',\n",
    "    description='Select Model:',\n",
    "    disabled=False,\n",
    ")\n",
    "\n",
    "\n",
    "GPU_checkbox = Checkbox(\n",
    "    value=False,\n",
    "    description='Use GPU?',\n",
    "    disabled=False,\n",
    "    indent=False\n",
    ")\n",
    "\n",
    "\n",
    "def handle_model_type(change):\n",
    "    model_dict[\"model_type\"]=change['new']\n",
    "\n",
    "\n",
    "def handle_model_implementation(change):\n",
    "    model_dict[\"implementation\"]=change['new']\n",
    "\n",
    "\n",
    "@GPU_view.capture(clear_output=True)\n",
    "def handle_GPU_checkbox(change):\n",
    "    if change[\"new\"] == True:\n",
    "        model_dict[\"use_GPU\"]=True\n",
    "        print(\"Using the GPU\")\n",
    "    else:\n",
    "        model_dict[\"use_GPU\"]=False\n",
    "        print(\"Not using the GPU\")\n",
    "        \n",
    "\n",
    "@model_view.capture(clear_output=True)\n",
    "def use_data_button_clicked(button):\n",
    "    # Use the data folder as the input for segmentation\n",
    "    print(\"Loading in the jpgs from the data directory\")\n",
    "    # Copy the jpgs from data to a new folder called segmentation_data_[datetime]\n",
    "    if 'MNDWI' in model_dropdown.value:\n",
    "        sample_direc =r'C:\\1_USGS\\CoastSeg\\repos\\2_CoastSeg\\CoastSeg_fork\\Seg2Map\\MNDWI_outputs\\MNDWI_ouputs_2022-07-21__07_hr_57_min14'\n",
    "#         sample_direc = file_functions.get_jpgs_from_data('MNDWI')\n",
    "#         RGB_path=sample_direc+os.sep+'RGB'\n",
    "#         NIR_path=sample_direc+os.sep+'NIR'\n",
    "#         sample_direc = coastseg_map.RGB_to_MNDWI(RGB_path,NIR_path,sample_direc)\n",
    "        model_dict[\"sample_direc\"]=sample_direc\n",
    "    else:\n",
    "        sample_direc = file_functions.get_jpgs_from_data(None)\n",
    "        model_dict[\"sample_direc\"]=sample_direc\n",
    "        jpgs = glob.glob1(sample_direc + os.sep, \"*jpg\")\n",
    "        if jpgs == []:\n",
    "            raise Exception(\"\\nThe directory contains no jpgs! Please select a directory with jpgs.\")\n",
    "    print(f\"\\nContents of the data directory saved in {sample_direc}\")\n",
    "\n",
    "\n",
    "@model_view.capture(clear_output=True)\n",
    "def use_select_images_button_clicked(button):\n",
    "    # Prompt the user to select a directory of images                              \n",
    "    root.withdraw()                                        # Hide the main window.\n",
    "    root.call('wm', 'attributes', '.', '-topmost', True)   # Raise the root to the top of all windows.\n",
    "    root.filename =  filedialog.askdirectory(initialdir = \"/samples\",title = \"Select directory of images (or npzs) to segment\")\n",
    "    # Save the filename as an attribute of the button\n",
    "    if root.filename:\n",
    "        sample_direc= root.filename\n",
    "        model_dict[\"sample_direc\"]=root.filename\n",
    "        print(f\"The images in the folder will be segmented :\\n{sample_direc} \")\n",
    "        jpgs = glob.glob1(sample_direc + os.sep, \"*jpg\")\n",
    "        if jpgs == []:\n",
    "            raise Exception(\"The directory contains no jpgs! Please select a directory with jpgs.\")\n",
    "    else:\n",
    "        raise Exception(\"You must select a valid directory first!\")\n",
    "\n",
    "@run_model_view.capture(clear_output=True)\n",
    "def run_model_button_clicked(button):\n",
    "    print(\"Called Run Model\")\n",
    "    if model_dict[\"sample_direc\"] is None:\n",
    "        print(\"You must click 'Use Data' or 'Select Images' First\")\n",
    "        return\n",
    "    else:\n",
    "        if model_dict[\"use_GPU\"] == False:\n",
    "            print(\"Not using the GPU\")\n",
    "            ## to use the CPU (not recommended):\n",
    "            os.environ['CUDA_VISIBLE_DEVICES'] = '-1'\n",
    "        elif model_dict[\"use_GPU\"] == True:\n",
    "            print(\"Using the GPU\")\n",
    "            ##use the first available GPU\n",
    "            os.environ['CUDA_VISIBLE_DEVICES'] = '0' #'1'\n",
    "        if 'MNDWI' in model_dropdown.value:\n",
    "            dataset='MNDWI'\n",
    "        else:\n",
    "            dataset='RGB'\n",
    "        dataset_id=model_dict['model_type']\n",
    "#         model_dict['implementation']=model_implementation.value\n",
    "        model_choice=model_dict['implementation']\n",
    "        zoo_model=zoo_model_module.Zoo_Model()\n",
    "        # # First download the specified model\n",
    "        zoo_model.download_model(dataset,dataset_id)\n",
    "        # # Get weights as list\n",
    "        Ww=zoo_model.get_weights_list(model_choice)\n",
    "        # Load the model from the config files\n",
    "        model, model_list, config_files, model_types=zoo_model.get_model(Ww)\n",
    "        metadatadict=zoo_model.get_metadatadict(Ww,config_files, model_types)\n",
    "        # # Compute the segmentation\n",
    "        zoo_model.compute_segmentation(model_dict[\"sample_direc\"], model_list, metadatadict)\n",
    "    \n",
    "    \n",
    "model_implementation.observe(handle_model_implementation,\"value\")\n",
    "model_dropdown.observe(handle_model_type,\"value\")\n",
    "GPU_checkbox.observe(handle_GPU_checkbox,\"value\")\n",
    "\n",
    "\n",
    "run_model_button.on_click(run_model_button_clicked)\n",
    "use_data_button.on_click(use_data_button_clicked)\n",
    "use_select_images_button.on_click(use_select_images_button_clicked)\n",
    "\n",
    "model_choices_box=HBox([model_dropdown, model_implementation])\n",
    "\n",
    "line_widget=HTML(value=\"____________________________________________________\")\n",
    "\n",
    "instr_header=HTML(\n",
    "    value=\"<h4>Click ONE of the following buttons:</h4>\",layout=Layout(margin='0px 0px 0px 0px'))\n",
    "\n",
    "instr_use_data=HTML(\n",
    "    value=\"<b>1. Use Data Folder Button</b> \\\n",
    "        <br> - When CoastSat downloads imagery it created a folder called 'data'in the CoastSeg directory.\\\n",
    "            The jpgs within the 'data' folder will be copied to another folder with a name such as\\\n",
    "            <span style=\\\"background-color:LightGray;\\\">segmentation_data_2022-07-07__10_hr_04_min58 </span>\\\n",
    "            (the date and time will be the current date and time) <br> \\\n",
    "           The model will be applied to this folder and the model outputs will be generated within a subdirectory \\\n",
    "            called 'out'\",layout=Layout(margin='0px 0px 0px 20px'))\n",
    "\n",
    "instr_select_images=HTML(\n",
    "    value=\"<b>2. Select Images Button</b> \\\n",
    "        <br> - This will open a pop up window where the folder containing the jpgs can be selected.<br>\\\n",
    "             - The model will be applied to this folder and the model outputs will be generated within a subdirectory\\\n",
    "             called 'out'<br>\\\n",
    "      - <span style=\\\"background-color:yellow;\\\">WARNING :</span> You will not be able to see the files within the folder you select.<br>\\\n",
    "    \",layout=Layout(margin='0px 0px 0px 20px'))\n",
    "\n",
    "instr_vbox=VBox([instr_header, line_widget, instr_use_data, instr_select_images])\n",
    "\n",
    "display(GPU_checkbox,GPU_view,model_choices_box,instr_vbox,use_data_button,use_select_images_button,line_widget, model_view,run_model_button,run_model_view)"
   ]
  },
  {
   "cell_type": "markdown",
   "metadata": {},
   "source": [
    "## Example Using New RGB_to_MNDWI function\n",
    "Replace `rgb_path` and `nir_path` was the full path to the directories containing the corresponding RGB and NIR images.\n",
    "The outputs will be in a directory called `MNDWI_outputs` as `.npz`"
   ]
  },
  {
   "cell_type": "code",
   "execution_count": null,
   "metadata": {},
   "outputs": [],
   "source": [
    "# Replace these temp paths with the paths you have\n",
    "rgb_path=r'C:\\1_USGS\\CoastSeg\\repos\\2_CoastSeg\\CoastSeg_fork\\Seg2Map\\zenodo_sample_data\\data_sample\\images'\n",
    "nir_path = r'C:\\1_USGS\\CoastSeg\\repos\\2_CoastSeg\\CoastSeg_fork\\Seg2Map\\zenodo_sample_data\\data_sample\\nir'\n",
    "coastseg_map_copy=coastseg_map_class.CoastSeg_Map()\n",
    "coastseg_map_copy.RGB_to_MNDWI(rgb_path,nir_path,os.getcwd())"
   ]
  },
  {
   "cell_type": "code",
   "execution_count": null,
   "metadata": {},
   "outputs": [],
   "source": []
  }
 ],
 "metadata": {
  "kernelspec": {
   "display_name": "Python 3 (ipykernel)",
   "language": "python",
   "name": "python3"
  },
  "language_info": {
   "codemirror_mode": {
    "name": "ipython",
    "version": 3
   },
   "file_extension": ".py",
   "mimetype": "text/x-python",
   "name": "python",
   "nbconvert_exporter": "python",
   "pygments_lexer": "ipython3",
   "version": "3.7.12"
  },
  "vscode": {
   "interpreter": {
    "hash": "9d097efbdf24db87a2507c17c632c6d564e7aff5ba5cfc04e62a44a8b3d6a20a"
   }
  },
  "widgets": {
   "application/vnd.jupyter.widget-state+json": {
    "state": {
     "012ce2ae90ac4a67bc719630afc93b51": {
      "model_module": "jupyter-leaflet",
      "model_module_version": "^0.16.0",
      "model_name": "LeafletTileLayerModel",
      "state": {
       "_model_module_version": "^0.16.0",
       "_view_module_version": "^0.16.0",
       "attribution": "(C) OpenStreetMap contributors",
       "max_native_zoom": 18,
       "min_native_zoom": 0,
       "name": "OpenStreetMap.DE",
       "options": [
        "attribution",
        "bounds",
        "detect_retina",
        "max_native_zoom",
        "max_zoom",
        "min_native_zoom",
        "min_zoom",
        "no_wrap",
        "tile_size",
        "tms"
       ],
       "url": "https://a.tile.openstreetmap.de/{z}/{x}/{y}.png"
      }
     },
     "019ed6af53214340b70b009b14176476": {
      "model_module": "@jupyter-widgets/controls",
      "model_module_version": "1.5.0",
      "model_name": "HTMLModel",
      "state": {
       "layout": "IPY_MODEL_7c142c1340cb41808544f73c9977fa0d",
       "style": "IPY_MODEL_37c973cf40784a11a1582da259050d6a",
       "value": "<b>Pick a date:</b>"
      }
     },
     "0231a613f075406fafbf30ba4d0ef5f7": {
      "model_module": "jupyter-leaflet",
      "model_module_version": "^0.16.0",
      "model_name": "LeafletTileLayerModel",
      "state": {
       "_model_module_version": "^0.16.0",
       "_view_module_version": "^0.16.0",
       "attribution": "(C) OpenStreetMap contributors (C) CARTO",
       "max_native_zoom": 18,
       "max_zoom": 20,
       "min_native_zoom": 0,
       "name": "CartoDB.VoyagerLabelsUnder",
       "options": [
        "attribution",
        "bounds",
        "detect_retina",
        "max_native_zoom",
        "max_zoom",
        "min_native_zoom",
        "min_zoom",
        "no_wrap",
        "tile_size",
        "tms"
       ],
       "url": "https://a.basemaps.cartocdn.com/rastertiles/voyager_labels_under/{z}/{x}/{y}.png"
      }
     },
     "0365ececce0c4bc9b6063c87bc4ac916": {
      "model_module": "@jupyter-widgets/base",
      "model_module_version": "1.2.0",
      "model_name": "LayoutModel",
      "state": {}
     },
     "03e449e7e2744a23bcc93ad10c91c668": {
      "model_module": "@jupyter-widgets/controls",
      "model_module_version": "1.5.0",
      "model_name": "DescriptionStyleModel",
      "state": {
       "description_width": ""
      }
     },
     "04d74a6c79964454a2bed05e1b27c2b6": {
      "model_module": "jupyter-leaflet",
      "model_module_version": "^0.16.0",
      "model_name": "LeafletWidgetControlModel",
      "state": {
       "_model_module": "jupyter-leaflet",
       "_model_module_version": "^0.16.0",
       "_view_count": null,
       "_view_module": "jupyter-leaflet",
       "_view_module_version": "^0.16.0",
       "options": [
        "position",
        "transparent_bg"
       ],
       "position": "topright",
       "widget": "IPY_MODEL_3780921bd78f4a5388d02906376f80cc"
      }
     },
     "05b40be2ce1a43eda0bf4526b24a0122": {
      "model_module": "@jupyter-widgets/base",
      "model_module_version": "1.2.0",
      "model_name": "LayoutModel",
      "state": {}
     },
     "0652372fecdc4ff7b7891536b90ac196": {
      "model_module": "jupyter-leaflet",
      "model_module_version": "^0.16.0",
      "model_name": "LeafletTileLayerModel",
      "state": {
       "_model_module_version": "^0.16.0",
       "_view_module_version": "^0.16.0",
       "attribution": "(C) OpenStreetMap contributors (C) CARTO",
       "max_native_zoom": 18,
       "max_zoom": 20,
       "min_native_zoom": 0,
       "name": "CartoDB.Voyager",
       "options": [
        "attribution",
        "bounds",
        "detect_retina",
        "max_native_zoom",
        "max_zoom",
        "min_native_zoom",
        "min_zoom",
        "no_wrap",
        "tile_size",
        "tms"
       ],
       "url": "https://a.basemaps.cartocdn.com/rastertiles/voyager/{z}/{x}/{y}.png"
      }
     },
     "06600ec352d0463d9cb3bf379f350a7e": {
      "model_module": "@jupyter-widgets/base",
      "model_module_version": "1.2.0",
      "model_name": "LayoutModel",
      "state": {
       "height": "auto",
       "padding": "0px 0px 0px 4px",
       "width": "auto"
      }
     },
     "07f6179e1af449c48a22683138b920a6": {
      "model_module": "@jupyter-widgets/controls",
      "model_module_version": "1.5.0",
      "model_name": "ToggleButtonModel",
      "state": {
       "button_style": "primary",
       "icon": "question",
       "layout": "IPY_MODEL_1d5d5308205e49c890ea158ce398ccf6",
       "style": "IPY_MODEL_aae4679fa7894be48d886fe070b94bb6",
       "tooltip": "Get help"
      }
     },
     "08440232bfca48389c2bbce02cbeca82": {
      "model_module": "jupyter-leaflet",
      "model_module_version": "^0.16.0",
      "model_name": "LeafletTileLayerModel",
      "state": {
       "_model_module_version": "^0.16.0",
       "_view_module_version": "^0.16.0",
       "attribution": "Imagery provided by services from the Global Imagery Browse Services (GIBS), operated by the NASA/GSFC/Earth Science Data and Information System (ESDIS) with funding provided by NASA/HQ.",
       "max_native_zoom": 18,
       "max_zoom": 9,
       "min_native_zoom": 0,
       "name": "NASAGIBS.ModisTerraTrueColorCR",
       "options": [
        "attribution",
        "bounds",
        "detect_retina",
        "max_native_zoom",
        "max_zoom",
        "min_native_zoom",
        "min_zoom",
        "no_wrap",
        "tile_size",
        "tms"
       ],
       "url": "https://map1.vis.earthdata.nasa.gov/wmts-webmerc/MODIS_Terra_CorrectedReflectance_TrueColor/default//GoogleMapsCompatible_Level9/{z}/{y}/{x}.jpg"
      }
     },
     "088cea5376b34a65b6d651de14978225": {
      "model_module": "jupyter-leaflet",
      "model_module_version": "^0.16.0",
      "model_name": "LeafletTileLayerModel",
      "state": {
       "_model_module_version": "^0.16.0",
       "_view_module_version": "^0.16.0",
       "attribution": "(C) OpenStreetMap contributors (C) CARTO",
       "max_native_zoom": 18,
       "max_zoom": 20,
       "min_native_zoom": 0,
       "name": "CartoDB.VoyagerOnlyLabels",
       "options": [
        "attribution",
        "bounds",
        "detect_retina",
        "max_native_zoom",
        "max_zoom",
        "min_native_zoom",
        "min_zoom",
        "no_wrap",
        "tile_size",
        "tms"
       ],
       "url": "https://a.basemaps.cartocdn.com/rastertiles/voyager_only_labels/{z}/{x}/{y}.png"
      }
     },
     "0a189ceed8d04780a4817937776a67c1": {
      "model_module": "jupyter-leaflet",
      "model_module_version": "^0.16.0",
      "model_name": "LeafletTileLayerModel",
      "state": {
       "_model_module_version": "^0.16.0",
       "_view_module_version": "^0.16.0",
       "attribution": "Justice Map",
       "max_native_zoom": 18,
       "max_zoom": 22,
       "min_native_zoom": 0,
       "name": "JusticeMap.nonWhite",
       "options": [
        "attribution",
        "bounds",
        "detect_retina",
        "max_native_zoom",
        "max_zoom",
        "min_native_zoom",
        "min_zoom",
        "no_wrap",
        "tile_size",
        "tms"
       ],
       "url": "https://www.justicemap.org/tile/county/nonwhite/{z}/{x}/{y}.png"
      }
     },
     "0b142dbd984043ff9289646863ba208c": {
      "model_module": "@jupyter-widgets/base",
      "model_module_version": "1.2.0",
      "model_name": "LayoutModel",
      "state": {
       "height": "auto",
       "padding": "0px 0px 0px 4px",
       "width": "auto"
      }
     },
     "0b62f54bf398450c8a48f83dd2e2eb9c": {
      "model_module": "@jupyter-widgets/controls",
      "model_module_version": "1.5.0",
      "model_name": "HTMLModel",
      "state": {
       "layout": "IPY_MODEL_e5fe94d8c76640d38f961bf23e250237",
       "style": "IPY_MODEL_278230fe94394974b215d1571dc1687c",
       "value": "<b>Pick multiple satellites by holding the control key:</b>         <br> - images prior to 2022/01/01 will be downloaded from Collection 1         <br> - images after 2022/01/01 will be automatically downloaded from Collection 2         <br> C01: LandSat Collection 1 : All dates before 2022/01/01        <br> C02: LandSat Collection 2 : All dates after 2022/01/01         <br> - Landsat 9 is only available in C02"
      }
     },
     "0bca67dfb3044a86a65551cefc55ec18": {
      "model_module": "@jupyter-widgets/base",
      "model_module_version": "1.2.0",
      "model_name": "LayoutModel",
      "state": {
       "margin": "0px 0px 0px 20px"
      }
     },
     "0bfc1be959a04127a415afe627840b12": {
      "model_module": "jupyter-leaflet",
      "model_module_version": "^0.16.0",
      "model_name": "LeafletTileLayerModel",
      "state": {
       "_model_module_version": "^0.16.0",
       "_view_module_version": "^0.16.0",
       "attribution": "Datenquelle: basemap.at",
       "max_native_zoom": 18,
       "max_zoom": 19,
       "min_native_zoom": 0,
       "name": "BasemapAT.highdpi",
       "options": [
        "attribution",
        "bounds",
        "detect_retina",
        "max_native_zoom",
        "max_zoom",
        "min_native_zoom",
        "min_zoom",
        "no_wrap",
        "tile_size",
        "tms"
       ],
       "url": "https://maps.wien.gv.at/basemap/bmaphidpi/normal/google3857/{z}/{y}/{x}.jpeg"
      }
     },
     "0d83fe43c6254cc1bcb8b1fe43cfbcad": {
      "model_module": "jupyter-leaflet",
      "model_module_version": "^0.16.0",
      "model_name": "LeafletTileLayerModel",
      "state": {
       "_model_module_version": "^0.16.0",
       "_view_module_version": "^0.16.0",
       "attribution": "Kaartgegevens (C) Kadaster",
       "max_native_zoom": 18,
       "max_zoom": 19,
       "min_native_zoom": 0,
       "name": "nlmaps.luchtfoto",
       "options": [
        "attribution",
        "bounds",
        "detect_retina",
        "max_native_zoom",
        "max_zoom",
        "min_native_zoom",
        "min_zoom",
        "no_wrap",
        "tile_size",
        "tms"
       ],
       "url": "https://service.pdok.nl/hwh/luchtfotorgb/wmts/v1_0/Actueel_ortho25/EPSG:3857/{z}/{x}/{y}.jpeg"
      }
     },
     "0e0e833e3c1d49709d88df835c4887a7": {
      "model_module": "@jupyter-widgets/base",
      "model_module_version": "1.2.0",
      "model_name": "LayoutModel",
      "state": {}
     },
     "106786af1aef437fb059d1426d0e5ca3": {
      "model_module": "@jupyter-widgets/base",
      "model_module_version": "1.2.0",
      "model_name": "LayoutModel",
      "state": {}
     },
     "106b79e84eeb4f89af61e3f368944885": {
      "model_module": "jupyter-leaflet",
      "model_module_version": "^0.16.0",
      "model_name": "LeafletTileLayerModel",
      "state": {
       "_model_module_version": "^0.16.0",
       "_view_module_version": "^0.16.0",
       "attribution": "Tiles (C) Esri -- Source: USGS, Esri, TANA, DeLorme, and NPS",
       "max_native_zoom": 18,
       "max_zoom": 13,
       "min_native_zoom": 0,
       "name": "Esri.WorldTerrain",
       "options": [
        "attribution",
        "bounds",
        "detect_retina",
        "max_native_zoom",
        "max_zoom",
        "min_native_zoom",
        "min_zoom",
        "no_wrap",
        "tile_size",
        "tms"
       ],
       "url": "https://server.arcgisonline.com/ArcGIS/rest/services/World_Terrain_Base/MapServer/tile/{z}/{y}/{x}"
      }
     },
     "117c28a315da4cb3b9513494b3c6aef4": {
      "model_module": "@jupyter-widgets/base",
      "model_module_version": "1.2.0",
      "model_name": "LayoutModel",
      "state": {
       "padding": "10px"
      }
     },
     "11f509c328b144b6851ce448e940944f": {
      "model_module": "jupyter-leaflet",
      "model_module_version": "^0.16.0",
      "model_name": "LeafletTileLayerModel",
      "state": {
       "_model_module_version": "^0.16.0",
       "_view_module_version": "^0.16.0",
       "attribution": "(C) OpenStreetMap contributors",
       "max_native_zoom": 18,
       "max_zoom": 15,
       "min_native_zoom": 0,
       "name": "HikeBike.HillShading",
       "options": [
        "attribution",
        "bounds",
        "detect_retina",
        "max_native_zoom",
        "max_zoom",
        "min_native_zoom",
        "min_zoom",
        "no_wrap",
        "tile_size",
        "tms"
       ],
       "url": "https://tiles.wmflabs.org/hillshading/{z}/{x}/{y}.png"
      }
     },
     "129549aa6cf143c38ebdeab8e06b450a": {
      "model_module": "jupyter-leaflet",
      "model_module_version": "^0.16.0",
      "model_name": "LeafletTileLayerModel",
      "state": {
       "_model_module_version": "^0.16.0",
       "_view_module_version": "^0.16.0",
       "attribution": "![](https://docs.onemap.sg/maps/images/oneMap64-01.png) New OneMap | Map data (C) contributors, Singapore Land Authority",
       "max_native_zoom": 18,
       "min_native_zoom": 0,
       "name": "OneMapSG.Night",
       "options": [
        "attribution",
        "bounds",
        "detect_retina",
        "max_native_zoom",
        "max_zoom",
        "min_native_zoom",
        "min_zoom",
        "no_wrap",
        "tile_size",
        "tms"
       ],
       "url": "https://maps-a.onemap.sg/v3/Night/{z}/{x}/{y}.png"
      }
     },
     "14370e1317164b02b0b82c0309d3ec41": {
      "model_module": "jupyter-leaflet",
      "model_module_version": "^0.16.0",
      "model_name": "LeafletWMSLayerModel",
      "state": {
       "_model_module_version": "^0.16.0",
       "_view_module_version": "^0.16.0",
       "attribution": "FWS",
       "crs": {
        "custom": false,
        "name": "EPSG3857"
       },
       "format": "image/png",
       "layers": "1",
       "max_native_zoom": 18,
       "min_native_zoom": 0,
       "name": "FWS NWI Wetlands",
       "options": [
        "attribution",
        "bounds",
        "detect_retina",
        "format",
        "layers",
        "max_native_zoom",
        "max_zoom",
        "min_native_zoom",
        "min_zoom",
        "no_wrap",
        "styles",
        "tile_size",
        "tms",
        "transparent",
        "uppercase"
       ],
       "transparent": true,
       "url": "https://www.fws.gov/wetlands/arcgis/services/Wetlands/MapServer/WMSServer?"
      }
     },
     "14622525dbfc4e2aa532e7563a059d5d": {
      "model_module": "@jupyter-widgets/controls",
      "model_module_version": "1.5.0",
      "model_name": "ButtonModel",
      "state": {
       "description": "Load Shoreline",
       "layout": "IPY_MODEL_86889a699ef64dbe8725b1ff48365c04",
       "style": "IPY_MODEL_da5efece50ad4bb99389a4057ad1c432"
      }
     },
     "16366ae3f9ce4e558b00350beda0ca72": {
      "model_module": "@jupyter-widgets/controls",
      "model_module_version": "1.5.0",
      "model_name": "VBoxModel",
      "state": {
       "children": [
        "IPY_MODEL_691386963ec84d2380adf6563ef37680",
        "IPY_MODEL_3c74b3c2dddb4e52b75d11bae334ac4b",
        "IPY_MODEL_a68a25b3b1d943d29c16e993ba28b870",
        "IPY_MODEL_990659237ee64a5b9daa36d782e03be1"
       ],
       "layout": "IPY_MODEL_0365ececce0c4bc9b6063c87bc4ac916"
      }
     },
     "180fbe61802c4746a77eaaed2e40b55a": {
      "model_module": "@jupyter-widgets/controls",
      "model_module_version": "1.5.0",
      "model_name": "DescriptionStyleModel",
      "state": {
       "description_width": ""
      }
     },
     "18b7b95d1b024d5ebce6a9cedd19c1fe": {
      "model_module": "jupyter-leaflet",
      "model_module_version": "^0.16.0",
      "model_name": "LeafletTileLayerModel",
      "state": {
       "_model_module_version": "^0.16.0",
       "_view_module_version": "^0.16.0",
       "attribution": "Map data: (C) OpenStreetMap contributors | Map style: (C) waymarkedtrails.org (CC-BY-SA)",
       "max_native_zoom": 18,
       "min_native_zoom": 0,
       "name": "WaymarkedTrails.cycling",
       "options": [
        "attribution",
        "bounds",
        "detect_retina",
        "max_native_zoom",
        "max_zoom",
        "min_native_zoom",
        "min_zoom",
        "no_wrap",
        "tile_size",
        "tms"
       ],
       "url": "https://tile.waymarkedtrails.org/cycling/{z}/{x}/{y}.png"
      }
     },
     "18ec1b4311a44022a4c1628536bc2a22": {
      "model_module": "jupyter-leaflet",
      "model_module_version": "^0.16.0",
      "model_name": "LeafletTileLayerModel",
      "state": {
       "_model_module_version": "^0.16.0",
       "_view_module_version": "^0.16.0",
       "attribution": "National Library of Scotland Historic Maps",
       "max_native_zoom": 18,
       "min_native_zoom": 0,
       "name": "NLS",
       "options": [
        "attribution",
        "bounds",
        "detect_retina",
        "max_native_zoom",
        "max_zoom",
        "min_native_zoom",
        "min_zoom",
        "no_wrap",
        "tile_size",
        "tms"
       ],
       "url": "https://nls-0.tileserver.com/nls/{z}/{x}/{y}.jpg"
      }
     },
     "199c663998c5452f89dcddb53f354a3d": {
      "model_module": "jupyter-leaflet",
      "model_module_version": "^0.16.0",
      "model_name": "LeafletTileLayerModel",
      "state": {
       "_model_module_version": "^0.16.0",
       "_view_module_version": "^0.16.0",
       "attribution": "Justice Map",
       "max_native_zoom": 18,
       "max_zoom": 22,
       "min_native_zoom": 0,
       "name": "JusticeMap.asian",
       "options": [
        "attribution",
        "bounds",
        "detect_retina",
        "max_native_zoom",
        "max_zoom",
        "min_native_zoom",
        "min_zoom",
        "no_wrap",
        "tile_size",
        "tms"
       ],
       "url": "https://www.justicemap.org/tile/county/asian/{z}/{x}/{y}.png"
      }
     },
     "1ac1a8313f234a7e9158658ffdb5a04e": {
      "model_module": "@jupyter-widgets/base",
      "model_module_version": "1.2.0",
      "model_name": "LayoutModel",
      "state": {
       "width": "500px"
      }
     },
     "1b55bb7d4428457b9fbeca35adb7004b": {
      "model_module": "jupyter-leaflet",
      "model_module_version": "^0.16.0",
      "model_name": "LeafletTileLayerModel",
      "state": {
       "_model_module_version": "^0.16.0",
       "_view_module_version": "^0.16.0",
       "attribution": "Tiles (C) Esri -- Source: Esri, DeLorme, NAVTEQ, USGS, Intermap, iPC, NRCAN, Esri Japan, METI, Esri China (Hong Kong), Esri (Thailand), TomTom, 2012",
       "max_native_zoom": 18,
       "max_zoom": 22,
       "min_native_zoom": 0,
       "name": "Esri.WorldStreetMap",
       "options": [
        "attribution",
        "bounds",
        "detect_retina",
        "max_native_zoom",
        "max_zoom",
        "min_native_zoom",
        "min_zoom",
        "no_wrap",
        "tile_size",
        "tms"
       ],
       "url": "https://server.arcgisonline.com/ArcGIS/rest/services/World_Street_Map/MapServer/tile/{z}/{y}/{x}"
      }
     },
     "1bf9fbe0b350450da3dfa831977565ce": {
      "model_module": "jupyter-leaflet",
      "model_module_version": "^0.16.0",
      "model_name": "LeafletWidgetControlModel",
      "state": {
       "_model_module": "jupyter-leaflet",
       "_model_module_version": "^0.16.0",
       "_view_count": null,
       "_view_module": "jupyter-leaflet",
       "_view_module_version": "^0.16.0",
       "options": [
        "position",
        "transparent_bg"
       ],
       "position": "bottomright",
       "widget": "IPY_MODEL_8780dd38bdcf47b5bd8a26c545a97e4b"
      }
     },
     "1c2a35b94f5c4bd7bccb99d416b20bae": {
      "model_module": "ipyevents",
      "model_module_version": "2.0.1",
      "model_name": "EventModel",
      "state": {
       "_supported_key_events": [
        "keydown",
        "keyup"
       ],
       "_supported_mouse_events": [
        "click",
        "auxclick",
        "dblclick",
        "mouseenter",
        "mouseleave",
        "mousedown",
        "mouseup",
        "mousemove",
        "wheel",
        "contextmenu",
        "dragstart",
        "drag",
        "dragend",
        "dragenter",
        "dragover",
        "dragleave",
        "drop"
       ],
       "_supported_touch_events": [
        "touchstart",
        "touchend",
        "touchmove",
        "touchcancel"
       ],
       "_view_module": "@jupyter-widgets/controls",
       "_view_module_version": "1.5.0",
       "source": "IPY_MODEL_9c4aaa47001d4315b97f273b8e885303",
       "throttle_or_debounce": "",
       "watched_events": [
        "mouseenter",
        "mouseleave"
       ],
       "xy_coordinate_system": ""
      }
     },
     "1c4f8eb0853745068f5f944f09adcf50": {
      "model_module": "@jupyter-widgets/base",
      "model_module_version": "1.2.0",
      "model_name": "LayoutModel",
      "state": {
       "height": "auto",
       "padding": "0px 0px 0px 4px",
       "width": "auto"
      }
     },
     "1d0d088cff5c414d8b742e38d460aad4": {
      "model_module": "jupyter-leaflet",
      "model_module_version": "^0.16.0",
      "model_name": "LeafletTileLayerModel",
      "state": {
       "_model_module_version": "^0.16.0",
       "_view_module_version": "^0.16.0",
       "attribution": "Imagery provided by services from the Global Imagery Browse Services (GIBS), operated by the NASA/GSFC/Earth Science Data and Information System (ESDIS) with funding provided by NASA/HQ.",
       "max_native_zoom": 18,
       "max_zoom": 9,
       "min_native_zoom": 0,
       "name": "NASAGIBS.ModisAquaBands721CR",
       "options": [
        "attribution",
        "bounds",
        "detect_retina",
        "max_native_zoom",
        "max_zoom",
        "min_native_zoom",
        "min_zoom",
        "no_wrap",
        "tile_size",
        "tms"
       ],
       "url": "https://gibs.earthdata.nasa.gov/wmts/epsg3857/best/MODIS_Aqua_CorrectedReflectance_Bands721/default//GoogleMapsCompatible_Level9/{z}/{y}/{x}.jpg"
      }
     },
     "1d5cdf0358e44540b374238a104c356e": {
      "model_module": "jupyter-leaflet",
      "model_module_version": "^0.16.0",
      "model_name": "LeafletTileLayerModel",
      "state": {
       "_model_module_version": "^0.16.0",
       "_view_module_version": "^0.16.0",
       "attribution": "Justice Map",
       "max_native_zoom": 18,
       "max_zoom": 22,
       "min_native_zoom": 0,
       "name": "JusticeMap.hispanic",
       "options": [
        "attribution",
        "bounds",
        "detect_retina",
        "max_native_zoom",
        "max_zoom",
        "min_native_zoom",
        "min_zoom",
        "no_wrap",
        "tile_size",
        "tms"
       ],
       "url": "https://www.justicemap.org/tile/county/hispanic/{z}/{x}/{y}.png"
      }
     },
     "1d5d5308205e49c890ea158ce398ccf6": {
      "model_module": "@jupyter-widgets/base",
      "model_module_version": "1.2.0",
      "model_name": "LayoutModel",
      "state": {
       "height": "auto",
       "padding": "0px 0px 0px 4px",
       "width": "auto"
      }
     },
     "1d819e4a324b4191966dff10b5aa1b0b": {
      "model_module": "@jupyter-widgets/base",
      "model_module_version": "1.2.0",
      "model_name": "LayoutModel",
      "state": {}
     },
     "1ea17d15bc3545a4a714582b70e96e97": {
      "model_module": "@jupyter-widgets/base",
      "model_module_version": "1.2.0",
      "model_name": "LayoutModel",
      "state": {
       "margin": "0px 0px 0px 20px"
      }
     },
     "1ec60282db8b47d7b6846f65edaa1be4": {
      "model_module": "jupyter-leaflet",
      "model_module_version": "^0.16.0",
      "model_name": "LeafletTileLayerModel",
      "state": {
       "_model_module_version": "^0.16.0",
       "_view_module_version": "^0.16.0",
       "attribution": "Map tiles by <a href=\"https://labs.strava.com/heatmap\">Strava 2021</a>",
       "max_native_zoom": 18,
       "max_zoom": 15,
       "min_native_zoom": 0,
       "name": "Strava.Run",
       "options": [
        "attribution",
        "bounds",
        "detect_retina",
        "max_native_zoom",
        "max_zoom",
        "min_native_zoom",
        "min_zoom",
        "no_wrap",
        "tile_size",
        "tms"
       ],
       "url": "https://heatmap-external-a.strava.com/tiles/run/bluered/{z}/{x}/{y}.png"
      }
     },
     "1ed10518fa2343caba85e4fddbe0c75d": {
      "model_module": "jupyter-leaflet",
      "model_module_version": "^0.16.0",
      "model_name": "LeafletTileLayerModel",
      "state": {
       "_model_module_version": "^0.16.0",
       "_view_module_version": "^0.16.0",
       "attribution": "Justice Map",
       "max_native_zoom": 18,
       "max_zoom": 22,
       "min_native_zoom": 0,
       "name": "JusticeMap.white",
       "options": [
        "attribution",
        "bounds",
        "detect_retina",
        "max_native_zoom",
        "max_zoom",
        "min_native_zoom",
        "min_zoom",
        "no_wrap",
        "tile_size",
        "tms"
       ],
       "url": "https://www.justicemap.org/tile/county/white/{z}/{x}/{y}.png"
      }
     },
     "1ee09d6b83164b6d8744f9293e7b526a": {
      "model_module": "@jupyter-widgets/controls",
      "model_module_version": "1.5.0",
      "model_name": "ButtonModel",
      "state": {
       "description": "Generate ROI",
       "layout": "IPY_MODEL_3b5f48d744474103b33cfe6da8ab0367",
       "style": "IPY_MODEL_47056f2ead784dd8b528b5ddab57227e"
      }
     },
     "1f1d703ec7244b87a6f80353df08fab6": {
      "model_module": "jupyter-leaflet",
      "model_module_version": "^0.16.0",
      "model_name": "LeafletTileLayerModel",
      "state": {
       "_model_module_version": "^0.16.0",
       "_view_module_version": "^0.16.0",
       "attribution": "Justice Map",
       "max_native_zoom": 18,
       "max_zoom": 22,
       "min_native_zoom": 0,
       "name": "JusticeMap.plurality",
       "options": [
        "attribution",
        "bounds",
        "detect_retina",
        "max_native_zoom",
        "max_zoom",
        "min_native_zoom",
        "min_zoom",
        "no_wrap",
        "tile_size",
        "tms"
       ],
       "url": "https://www.justicemap.org/tile/county/plural/{z}/{x}/{y}.png"
      }
     },
     "1f20150e947e443a8050bf82f7432f8f": {
      "model_module": "jupyter-leaflet",
      "model_module_version": "^0.16.0",
      "model_name": "LeafletTileLayerModel",
      "state": {
       "_model_module_version": "^0.16.0",
       "_view_module_version": "^0.16.0",
       "attribution": "Map tiles by Stamen Design, CC BY 3.0 -- Map data (C) OpenStreetMap contributors",
       "max_native_zoom": 18,
       "max_zoom": 20,
       "min_native_zoom": 0,
       "name": "Stamen.TonerLines",
       "options": [
        "attribution",
        "bounds",
        "detect_retina",
        "max_native_zoom",
        "max_zoom",
        "min_native_zoom",
        "min_zoom",
        "no_wrap",
        "tile_size",
        "tms"
       ],
       "url": "https://stamen-tiles-a.a.ssl.fastly.net/toner-lines/{z}/{x}/{y}.png"
      }
     },
     "200353eddab649de9a6919cbf406e0aa": {
      "model_module": "@jupyter-widgets/controls",
      "model_module_version": "1.5.0",
      "model_name": "ToggleButtonModel",
      "state": {
       "button_style": "primary",
       "icon": "address-book",
       "layout": "IPY_MODEL_cc4907b4de164b63ac253746237a6c94",
       "style": "IPY_MODEL_e708d57ad785414ab4fd62b626a0f071",
       "tooltip": "Get US Census data"
      }
     },
     "201375d0ccab4957a66d3e82e71c2f6f": {
      "model_module": "jupyter-leaflet",
      "model_module_version": "^0.16.0",
      "model_name": "LeafletTileLayerModel",
      "state": {
       "_model_module_version": "^0.16.0",
       "_view_module_version": "^0.16.0",
       "attribution": "Datenquelle: basemap.at",
       "max_native_zoom": 18,
       "max_zoom": 19,
       "min_native_zoom": 0,
       "name": "BasemapAT.overlay",
       "options": [
        "attribution",
        "bounds",
        "detect_retina",
        "max_native_zoom",
        "max_zoom",
        "min_native_zoom",
        "min_zoom",
        "no_wrap",
        "tile_size",
        "tms"
       ],
       "url": "https://maps.wien.gv.at/basemap/bmapoverlay/normal/google3857/{z}/{y}/{x}.png"
      }
     },
     "208838bacb15496e93e955c7586217e8": {
      "model_module": "@jupyter-widgets/controls",
      "model_module_version": "1.5.0",
      "model_name": "ToggleButtonModel",
      "state": {
       "button_style": "primary",
       "icon": "search-plus",
       "layout": "IPY_MODEL_b3abc15504164037b00eadb9b29fc70e",
       "style": "IPY_MODEL_83aee2492fcf4c9690db340618c67dcb",
       "tooltip": "Search features in GeoJSON layer"
      }
     },
     "21081c8d1caf48f996960fff3453dde5": {
      "model_module": "@jupyter-widgets/base",
      "model_module_version": "1.2.0",
      "model_name": "LayoutModel",
      "state": {}
     },
     "22b89c8097b64ed8a64f58908930619a": {
      "model_module": "jupyter-leaflet",
      "model_module_version": "^0.16.0",
      "model_name": "LeafletTileLayerModel",
      "state": {
       "_model_module_version": "^0.16.0",
       "_view_module_version": "^0.16.0",
       "attribution": "Kaartgegevens (C) Kadaster",
       "max_native_zoom": 18,
       "max_zoom": 19,
       "min_native_zoom": 0,
       "name": "nlmaps.standaard",
       "options": [
        "attribution",
        "bounds",
        "detect_retina",
        "max_native_zoom",
        "max_zoom",
        "min_native_zoom",
        "min_zoom",
        "no_wrap",
        "tile_size",
        "tms"
       ],
       "url": "https://service.pdok.nl/brt/achtergrondkaart/wmts/v2_0/standaard/EPSG:3857/{z}/{x}/{y}.png"
      }
     },
     "2371b5a1a7e240709b31a86745e73e54": {
      "model_module": "@jupyter-widgets/base",
      "model_module_version": "1.2.0",
      "model_name": "LayoutModel",
      "state": {}
     },
     "23979735e028434781cc6d47068e8946": {
      "model_module": "@jupyter-widgets/controls",
      "model_module_version": "1.5.0",
      "model_name": "ButtonStyleModel",
      "state": {}
     },
     "25b4b76e8c5d4cf3a632f1f96ed4ff55": {
      "model_module": "@jupyter-widgets/base",
      "model_module_version": "1.2.0",
      "model_name": "LayoutModel",
      "state": {
       "border": "1px solid black"
      }
     },
     "278230fe94394974b215d1571dc1687c": {
      "model_module": "@jupyter-widgets/controls",
      "model_module_version": "1.5.0",
      "model_name": "DescriptionStyleModel",
      "state": {
       "description_width": ""
      }
     },
     "27a632aa3fdc431a928679c8b8cf7252": {
      "model_module": "@jupyter-widgets/controls",
      "model_module_version": "1.5.0",
      "model_name": "ToggleButtonModel",
      "state": {
       "icon": "info",
       "layout": "IPY_MODEL_883115d1cd734d5ea18f7483b92259d4",
       "style": "IPY_MODEL_7ae0827b15ec431dafabd70bd41d991f",
       "tooltip": "Toolbar",
       "value": true
      }
     },
     "27ddfba66a71469eaf9c8e3b839f5ba9": {
      "model_module": "jupyter-leaflet",
      "model_module_version": "^0.16.0",
      "model_name": "LeafletTileLayerModel",
      "state": {
       "_model_module_version": "^0.16.0",
       "_view_module_version": "^0.16.0",
       "attribution": "CyclOSM | Map data: (C) OpenStreetMap contributors",
       "max_native_zoom": 18,
       "max_zoom": 20,
       "min_native_zoom": 0,
       "name": "CyclOSM",
       "options": [
        "attribution",
        "bounds",
        "detect_retina",
        "max_native_zoom",
        "max_zoom",
        "min_native_zoom",
        "min_zoom",
        "no_wrap",
        "tile_size",
        "tms"
       ],
       "url": "https://a.tile-cyclosm.openstreetmap.fr/cyclosm/{z}/{x}/{y}.png"
      }
     },
     "297648b7da524787a0d8964cdd24f397": {
      "model_module": "jupyter-leaflet",
      "model_module_version": "^0.16.0",
      "model_name": "LeafletWMSLayerModel",
      "state": {
       "_model_module_version": "^0.16.0",
       "_view_module_version": "^0.16.0",
       "attribution": "USGS",
       "crs": {
        "custom": false,
        "name": "EPSG3857"
       },
       "format": "image/png",
       "layers": "USGSNAIPImagery:FalseColorComposite",
       "max_native_zoom": 18,
       "min_native_zoom": 0,
       "name": "USGS NAIP Imagery False Color",
       "options": [
        "attribution",
        "bounds",
        "detect_retina",
        "format",
        "layers",
        "max_native_zoom",
        "max_zoom",
        "min_native_zoom",
        "min_zoom",
        "no_wrap",
        "styles",
        "tile_size",
        "tms",
        "transparent",
        "uppercase"
       ],
       "transparent": true,
       "url": "https://imagery.nationalmap.gov/arcgis/services/USGSNAIPImagery/ImageServer/WMSServer?"
      }
     },
     "29bb77bdb3ca4d82a854e72414c96173": {
      "model_module": "@jupyter-widgets/controls",
      "model_module_version": "1.5.0",
      "model_name": "DescriptionStyleModel",
      "state": {
       "description_width": ""
      }
     },
     "2a451687f87a4c489353e855f3baf9c5": {
      "model_module": "jupyter-leaflet",
      "model_module_version": "^0.16.0",
      "model_name": "LeafletTileLayerModel",
      "state": {
       "_model_module_version": "^0.16.0",
       "_view_module_version": "^0.16.0",
       "attribution": "(C) OpenStreetMap contributors (C) CARTO",
       "max_native_zoom": 18,
       "max_zoom": 20,
       "min_native_zoom": 0,
       "name": "CartoDB.DarkMatterOnlyLabels",
       "options": [
        "attribution",
        "bounds",
        "detect_retina",
        "max_native_zoom",
        "max_zoom",
        "min_native_zoom",
        "min_zoom",
        "no_wrap",
        "tile_size",
        "tms"
       ],
       "url": "https://a.basemaps.cartocdn.com/dark_only_labels/{z}/{x}/{y}.png"
      }
     },
     "2b6b15e83d764b4faafbebd22169e609": {
      "model_module": "jupyter-leaflet",
      "model_module_version": "^0.16.0",
      "model_name": "LeafletTileLayerModel",
      "state": {
       "_model_module_version": "^0.16.0",
       "_view_module_version": "^0.16.0",
       "attribution": "Map data: (C) OpenStreetMap contributors | Map style: (C) waymarkedtrails.org (CC-BY-SA)",
       "max_native_zoom": 18,
       "min_native_zoom": 0,
       "name": "WaymarkedTrails.mtb",
       "options": [
        "attribution",
        "bounds",
        "detect_retina",
        "max_native_zoom",
        "max_zoom",
        "min_native_zoom",
        "min_zoom",
        "no_wrap",
        "tile_size",
        "tms"
       ],
       "url": "https://tile.waymarkedtrails.org/mtb/{z}/{x}/{y}.png"
      }
     },
     "2c760aa980f54e1ba67e5a3142eae129": {
      "model_module": "@jupyter-widgets/controls",
      "model_module_version": "1.5.0",
      "model_name": "SelectMultipleModel",
      "state": {
       "_options_labels": [
        "L5",
        "L7",
        "L8",
        "S2"
       ],
       "description": "Satellites",
       "index": [
        2
       ],
       "layout": "IPY_MODEL_4de6c02c99d94395af71cb334cd6cfa7",
       "rows": 5,
       "style": "IPY_MODEL_a2dfc13c1d5d40e3942d65c90bd3063d"
      }
     },
     "2d51d97dbb81477e89b321bdc13d798e": {
      "model_module": "@jupyter-widgets/controls",
      "model_module_version": "1.5.0",
      "model_name": "VBoxModel",
      "state": {
       "children": [
        "IPY_MODEL_db1cdef97f5048039a190838abbf9da5",
        "IPY_MODEL_96ea8f566971450c8a65252ad37610ef"
       ],
       "layout": "IPY_MODEL_bdf55d582eed44bfaf09d55b55176f86"
      }
     },
     "2dc3ee785bc741d19cfc6bf04e501c71": {
      "model_module": "jupyter-leaflet",
      "model_module_version": "^0.16.0",
      "model_name": "LeafletGeoJSONModel",
      "state": {
       "_model_module_version": "^0.16.0",
       "_view_module_version": "^0.16.0",
       "data": {
        "features": [
         {
          "geometry": {
           "coordinates": [
            [
             [
              -81.17381599999999,
              29.492883980050735
             ],
             [
              -81.17381599999999,
              29.531971871616403
             ],
             [
              -81.12890023579402,
              29.531971871616403
             ],
             [
              -81.12890023579402,
              29.492883980050735
             ],
             [
              -81.17381599999999,
              29.492883980050735
             ]
            ]
           ],
           "type": "Polygon"
          },
          "id": "28",
          "properties": {
           "CHLOROPHYLL": 1.613319,
           "CSU_Descriptor": "sloping, straight, low erodibility, sub tropical moist, low river discharge, low wave energy, moderately tidal, euhaline-oxic-warm to very warm, clear, low chlorophyll",
           "CSU_ID": 33370,
           "Cluster": 2,
           "EMU_PHYSICAL": "Euhaline-Oxic-Warm to Very Warm",
           "ERODIBILITY": "Low",
           "GHM": 0.59004,
           "LENGTH_GEO": 867.3093599767453,
           "MAX_SLOPE": 13.344147,
           "MEAN_SIG_WAVEHEIGHT": 0.932785,
           "MasterKey": 3195090,
           "OBJECTID": 3195090,
           "OUTFLOW_DENSITY": 0,
           "OUTFLOW_DENSITY_RESCALED": 0,
           "REGIONAL_SINUOSITY": 1.008314,
           "RandomSort": 2432887.75474734,
           "Shape_Length": 0.00800124385153516,
           "TEMP_MOISTURE": "Sub Tropical Moist",
           "TIDAL_RANGE": 1.774261,
           "TURBIDITY": 0.055,
           "chl_label": "low chlorophyll",
           "id": 28,
           "index_right": 5108,
           "river_label": "low river discharge",
           "sinuosity_label": "straight",
           "slope_label": "sloping",
           "style": {
            "color": "blue",
            "fillColor": "grey",
            "fillOpacity": 0.1,
            "weight": 3
           },
           "tidal_label": "moderately tidal",
           "turbid_label": "clear",
           "wave_label": "low wave energy"
          },
          "type": "Feature"
         },
         {
          "geometry": {
           "coordinates": [
            [
             [
              -81.17381599999999,
              29.531971871616403
             ],
             [
              -81.17381599999999,
              29.571044662334106
             ],
             [
              -81.12890023579402,
              29.571044662334106
             ],
             [
              -81.12890023579402,
              29.531971871616403
             ],
             [
              -81.17381599999999,
              29.531971871616403
             ]
            ]
           ],
           "type": "Polygon"
          },
          "id": "33",
          "properties": {
           "CHLOROPHYLL": 1.611638,
           "CSU_Descriptor": "sloping, straight, low erodibility, sub tropical moist, low river discharge, low wave energy, moderately tidal, euhaline-oxic-warm to very warm, clear, low chlorophyll",
           "CSU_ID": 33370,
           "Cluster": 2,
           "EMU_PHYSICAL": "Euhaline-Oxic-Warm to Very Warm",
           "ERODIBILITY": "Low",
           "GHM": 0.569271,
           "LENGTH_GEO": 867.0855238250028,
           "MAX_SLOPE": 14.219745,
           "MEAN_SIG_WAVEHEIGHT": 0.997365,
           "MasterKey": 3195096,
           "OBJECTID": 3195096,
           "OUTFLOW_DENSITY": 0,
           "OUTFLOW_DENSITY_RESCALED": 0,
           "REGIONAL_SINUOSITY": 1.008314,
           "RandomSort": 463417.386088918,
           "Shape_Length": 0.00803617835816143,
           "TEMP_MOISTURE": "Sub Tropical Moist",
           "TIDAL_RANGE": 1.780457,
           "TURBIDITY": 0.055,
           "chl_label": "low chlorophyll",
           "id": 33,
           "index_right": 5114,
           "river_label": "low river discharge",
           "sinuosity_label": "straight",
           "slope_label": "sloping",
           "style": {
            "color": "blue",
            "fillColor": "grey",
            "fillOpacity": 0.1,
            "weight": 3
           },
           "tidal_label": "moderately tidal",
           "turbid_label": "clear",
           "wave_label": "low wave energy"
          },
          "type": "Feature"
         }
        ],
        "type": "FeatureCollection"
       },
       "hover_style": {
        "color": "aqua",
        "fillColor": "blue"
       },
       "name": "Selected ROIs"
      }
     },
     "2e0870b5d3664157b856ee9b0694a8db": {
      "model_module": "@jupyter-widgets/controls",
      "model_module_version": "1.5.0",
      "model_name": "HBoxModel",
      "state": {
       "children": [
        "IPY_MODEL_7b545ff0f8454c318e26874ec8dad7ef",
        "IPY_MODEL_14622525dbfc4e2aa532e7563a059d5d",
        "IPY_MODEL_1ee09d6b83164b6d8744f9293e7b526a",
        "IPY_MODEL_d3a7946960504938bc0c580ea3c65004"
       ],
       "layout": "IPY_MODEL_2371b5a1a7e240709b31a86745e73e54"
      }
     },
     "2e24710855004e4c8eacb1403e900f07": {
      "model_module": "@jupyter-widgets/controls",
      "model_module_version": "1.5.0",
      "model_name": "ToggleButtonModel",
      "state": {
       "button_style": "primary",
       "icon": "stack-exchange",
       "layout": "IPY_MODEL_f29c7162e55c478eb0bf6c6e28136617",
       "style": "IPY_MODEL_e708696077f24a6290573e2333248ded",
       "tooltip": "Discover STAC Catalog"
      }
     },
     "2e6b30503ce04036b31d7b02f0c805c3": {
      "model_module": "jupyter-leaflet",
      "model_module_version": "^0.16.0",
      "model_name": "LeafletTileLayerModel",
      "state": {
       "_model_module_version": "^0.16.0",
       "_view_module_version": "^0.16.0",
       "attribution": "Map tiles by <a href=\"https://labs.strava.com/heatmap\">Strava 2021</a>",
       "max_native_zoom": 18,
       "max_zoom": 15,
       "min_native_zoom": 0,
       "name": "Strava.Winter",
       "options": [
        "attribution",
        "bounds",
        "detect_retina",
        "max_native_zoom",
        "max_zoom",
        "min_native_zoom",
        "min_zoom",
        "no_wrap",
        "tile_size",
        "tms"
       ],
       "url": "https://heatmap-external-a.strava.com/tiles/winter/hot/{z}/{x}/{y}.png"
      }
     },
     "2f178a5151ad41b4aa95e2c1355d5744": {
      "model_module": "@jupyter-widgets/controls",
      "model_module_version": "1.5.0",
      "model_name": "ButtonStyleModel",
      "state": {}
     },
     "2f71b7c2e5d94e37a2cbd7992b06123b": {
      "model_module": "@jupyter-widgets/controls",
      "model_module_version": "1.5.0",
      "model_name": "DatePickerModel",
      "state": {
       "description": "End Date",
       "disabled": false,
       "layout": "IPY_MODEL_fd16b171493f4aa68e0d92851fe72f61",
       "style": "IPY_MODEL_aa835c6f9bf145c3a890e451cdde2fd7",
       "value": {
        "date": 1,
        "month": 2,
        "year": 2019
       }
      }
     },
     "30209774ffc549d6b7a5bff9816fc016": {
      "model_module": "@jupyter-widgets/controls",
      "model_module_version": "1.5.0",
      "model_name": "DescriptionStyleModel",
      "state": {
       "description_width": ""
      }
     },
     "322a80ceef814445899c28f85a3a8379": {
      "model_module": "jupyter-leaflet",
      "model_module_version": "^0.16.0",
      "model_name": "LeafletTileLayerModel",
      "state": {
       "_model_module_version": "^0.16.0",
       "_view_module_version": "^0.16.0",
       "attribution": "Google",
       "max_native_zoom": 18,
       "max_zoom": 22,
       "min_native_zoom": 0,
       "name": "Google Terrain",
       "options": [
        "attribution",
        "bounds",
        "detect_retina",
        "max_native_zoom",
        "max_zoom",
        "min_native_zoom",
        "min_zoom",
        "no_wrap",
        "tile_size",
        "tms"
       ],
       "url": "https://mt1.google.com/vt/lyrs=p&x={x}&y={y}&z={z}"
      }
     },
     "3241b1094cc244b1add856846e163f8f": {
      "model_module": "@jupyter-widgets/controls",
      "model_module_version": "1.5.0",
      "model_name": "DescriptionStyleModel",
      "state": {
       "description_width": ""
      }
     },
     "333b20dd40f3435a9ad9155e2a5d1844": {
      "model_module": "@jupyter-widgets/base",
      "model_module_version": "1.2.0",
      "model_name": "LayoutModel",
      "state": {}
     },
     "33ee8d3d9c96451a9e104be00396da39": {
      "model_module": "jupyter-leaflet",
      "model_module_version": "^0.16.0",
      "model_name": "LeafletTileLayerModel",
      "state": {
       "_model_module_version": "^0.16.0",
       "_view_module_version": "^0.16.0",
       "attribution": "Kaartgegevens (C) Kadaster",
       "max_native_zoom": 18,
       "max_zoom": 19,
       "min_native_zoom": 0,
       "name": "nlmaps.grijs",
       "options": [
        "attribution",
        "bounds",
        "detect_retina",
        "max_native_zoom",
        "max_zoom",
        "min_native_zoom",
        "min_zoom",
        "no_wrap",
        "tile_size",
        "tms"
       ],
       "url": "https://service.pdok.nl/brt/achtergrondkaart/wmts/v2_0/grijs/EPSG:3857/{z}/{x}/{y}.png"
      }
     },
     "35b257a0464c4fca8f990a21f3b1fa2e": {
      "model_module": "@jupyter-widgets/controls",
      "model_module_version": "1.5.0",
      "model_name": "DescriptionStyleModel",
      "state": {
       "description_width": ""
      }
     },
     "35e02e517fbc4bdd88dedce0556ea32b": {
      "model_module": "@jupyter-widgets/controls",
      "model_module_version": "1.5.0",
      "model_name": "GridBoxModel",
      "state": {
       "children": [
        "IPY_MODEL_6d32231a9f2147f0813daecdc6c62ed9",
        "IPY_MODEL_43ad65ad9c7145f38caed64c5d7c153f",
        "IPY_MODEL_6050cec753f041fda510a3d8de5c9de6",
        "IPY_MODEL_ef02ac039ef94e009b63c282a6520d00",
        "IPY_MODEL_bcb288a247394d4f90d17774d0bef01d",
        "IPY_MODEL_6602fef8229046978fa22b9ea6368c99",
        "IPY_MODEL_b513169e99724a8f970528b1048688ac",
        "IPY_MODEL_7cf7c5e647f44457bfbf8087799ec221",
        "IPY_MODEL_200353eddab649de9a6919cbf406e0aa",
        "IPY_MODEL_f9aebfee36824875af30dfb33977b820",
        "IPY_MODEL_3a39dc9d4a2c4cd7ac62fc50d345a05e",
        "IPY_MODEL_d18e74cffda14620aff2d7634e0a4cf1",
        "IPY_MODEL_ba29e77e4bdf44f49e40a2d7d9a23954",
        "IPY_MODEL_208838bacb15496e93e955c7586217e8",
        "IPY_MODEL_3aace0723f8b4ac0833dee5886aec7fb",
        "IPY_MODEL_d58bb67ff4044571a85ed80235f7cc24",
        "IPY_MODEL_2e24710855004e4c8eacb1403e900f07",
        "IPY_MODEL_07f6179e1af449c48a22683138b920a6"
       ],
       "layout": "IPY_MODEL_3ea073ff886841a3b0d6d4b3a1aaca21"
      }
     },
     "3731dc30485e4ec98f30a79ca7314d01": {
      "model_module": "@jupyter-widgets/base",
      "model_module_version": "1.2.0",
      "model_name": "LayoutModel",
      "state": {
       "height": "auto",
       "padding": "0px 0px 0px 4px",
       "width": "auto"
      }
     },
     "373bde975fe749f3877f6491538c3f88": {
      "model_module": "jupyter-leaflet",
      "model_module_version": "^0.16.0",
      "model_name": "LeafletTileLayerModel",
      "state": {
       "_model_module_version": "^0.16.0",
       "_view_module_version": "^0.16.0",
       "attribution": "Datenquelle: basemap.at",
       "max_native_zoom": 18,
       "max_zoom": 19,
       "min_native_zoom": 0,
       "name": "BasemapAT.surface",
       "options": [
        "attribution",
        "bounds",
        "detect_retina",
        "max_native_zoom",
        "max_zoom",
        "min_native_zoom",
        "min_zoom",
        "no_wrap",
        "tile_size",
        "tms"
       ],
       "url": "https://maps.wien.gv.at/basemap/bmapoberflaeche/grau/google3857/{z}/{y}/{x}.jpeg"
      }
     },
     "374aec389ace4b07abdd40d09dd391a3": {
      "model_module": "@jupyter-widgets/base",
      "model_module_version": "1.2.0",
      "model_name": "LayoutModel",
      "state": {}
     },
     "3780921bd78f4a5388d02906376f80cc": {
      "model_module": "@jupyter-widgets/controls",
      "model_module_version": "1.5.0",
      "model_name": "AccordionModel",
      "state": {
       "_titles": {
        "0": "Shoreline Data"
       },
       "children": [
        "IPY_MODEL_968aeaee92f5436882d26271aa5af06b"
       ],
       "layout": "IPY_MODEL_53ae8b8f29d741c7a4a55df1c1c4b35a"
      }
     },
     "37c973cf40784a11a1582da259050d6a": {
      "model_module": "@jupyter-widgets/controls",
      "model_module_version": "1.5.0",
      "model_name": "DescriptionStyleModel",
      "state": {
       "description_width": ""
      }
     },
     "38acf1e6c1f14c29b268ef3cdd018652": {
      "model_module": "jupyter-leaflet",
      "model_module_version": "^0.16.0",
      "model_name": "LeafletTileLayerModel",
      "state": {
       "_model_module_version": "^0.16.0",
       "_view_module_version": "^0.16.0",
       "attribution": "© swisstopo",
       "max_native_zoom": 18,
       "max_zoom": 19,
       "min_native_zoom": 0,
       "name": "SwissFederalGeoportal.SWISSIMAGE",
       "options": [
        "attribution",
        "bounds",
        "detect_retina",
        "max_native_zoom",
        "max_zoom",
        "min_native_zoom",
        "min_zoom",
        "no_wrap",
        "tile_size",
        "tms"
       ],
       "url": "https://wmts.geo.admin.ch/1.0.0/ch.swisstopo.swissimage/default/current/3857/{z}/{x}/{y}.jpeg"
      }
     },
     "399e8c5fe5a443c0af708b35867e131a": {
      "model_module": "@jupyter-widgets/controls",
      "model_module_version": "1.5.0",
      "model_name": "VBoxModel",
      "state": {
       "children": [
        "IPY_MODEL_019ed6af53214340b70b009b14176476",
        "IPY_MODEL_e1c5ef000a874532b83d3709f263ab88"
       ],
       "layout": "IPY_MODEL_aaf79f72f608410b909460cfc51e7f6a"
      }
     },
     "3a39dc9d4a2c4cd7ac62fc50d345a05e": {
      "model_module": "@jupyter-widgets/controls",
      "model_module_version": "1.5.0",
      "model_name": "ToggleButtonModel",
      "state": {
       "button_style": "primary",
       "icon": "search",
       "layout": "IPY_MODEL_be425fc9dd2640e3a1994474de5941c7",
       "style": "IPY_MODEL_765700339e574c2ea9adaa09178643a9",
       "tooltip": "Search XYZ tile services"
      }
     },
     "3aace0723f8b4ac0833dee5886aec7fb": {
      "model_module": "@jupyter-widgets/controls",
      "model_module_version": "1.5.0",
      "model_name": "ToggleButtonModel",
      "state": {
       "button_style": "primary",
       "icon": "table",
       "layout": "IPY_MODEL_79ed0243e5a64c9198f1ebc88a9edde7",
       "style": "IPY_MODEL_fcf1e8f6818347cb86e96217070cd650",
       "tooltip": "Open attribute table"
      }
     },
     "3b5f48d744474103b33cfe6da8ab0367": {
      "model_module": "@jupyter-widgets/base",
      "model_module_version": "1.2.0",
      "model_name": "LayoutModel",
      "state": {}
     },
     "3bbb0dbd35ce494997a6726f49efe156": {
      "model_module": "jupyter-leaflet",
      "model_module_version": "^0.16.0",
      "model_name": "LeafletTileLayerModel",
      "state": {
       "_model_module_version": "^0.16.0",
       "_view_module_version": "^0.16.0",
       "attribution": "Map data: (C) OpenStreetMap contributors | Map style: (C) waymarkedtrails.org (CC-BY-SA)",
       "max_native_zoom": 18,
       "min_native_zoom": 0,
       "name": "WaymarkedTrails.hiking",
       "options": [
        "attribution",
        "bounds",
        "detect_retina",
        "max_native_zoom",
        "max_zoom",
        "min_native_zoom",
        "min_zoom",
        "no_wrap",
        "tile_size",
        "tms"
       ],
       "url": "https://tile.waymarkedtrails.org/hiking/{z}/{x}/{y}.png"
      }
     },
     "3c74b3c2dddb4e52b75d11bae334ac4b": {
      "model_module": "@jupyter-widgets/controls",
      "model_module_version": "1.5.0",
      "model_name": "HTMLModel",
      "state": {
       "layout": "IPY_MODEL_88d4909b93934bfea02ab211d5baf41c",
       "style": "IPY_MODEL_29bb77bdb3ca4d82a854e72414c96173",
       "value": "____________________________________________________"
      }
     },
     "3c7e4c1e57c54609a49f6ec8feb4846a": {
      "model_module": "jupyter-leaflet",
      "model_module_version": "^0.16.0",
      "model_name": "LeafletWMSLayerModel",
      "state": {
       "_model_module_version": "^0.16.0",
       "_view_module_version": "^0.16.0",
       "attribution": "USGS",
       "crs": {
        "custom": false,
        "name": "EPSG3857"
       },
       "format": "image/png",
       "layers": "33DEPElevation:Hillshade Elevation Tinted",
       "max_native_zoom": 18,
       "min_native_zoom": 0,
       "name": "USGS 3DEP Elevation",
       "options": [
        "attribution",
        "bounds",
        "detect_retina",
        "format",
        "layers",
        "max_native_zoom",
        "max_zoom",
        "min_native_zoom",
        "min_zoom",
        "no_wrap",
        "styles",
        "tile_size",
        "tms",
        "transparent",
        "uppercase"
       ],
       "transparent": true,
       "url": "https://elevation.nationalmap.gov/arcgis/services/3DEPElevation/ImageServer/WMSServer?"
      }
     },
     "3d2e78f24df74439b70cb961f6675293": {
      "model_module": "jupyter-leaflet",
      "model_module_version": "^0.16.0",
      "model_name": "LeafletTileLayerModel",
      "state": {
       "_model_module_version": "^0.16.0",
       "_view_module_version": "^0.16.0",
       "attribution": "![](https://docs.onemap.sg/maps/images/oneMap64-01.png) New OneMap | Map data (C) contributors, Singapore Land Authority",
       "max_native_zoom": 18,
       "min_native_zoom": 0,
       "name": "OneMapSG.LandLot",
       "options": [
        "attribution",
        "bounds",
        "detect_retina",
        "max_native_zoom",
        "max_zoom",
        "min_native_zoom",
        "min_zoom",
        "no_wrap",
        "tile_size",
        "tms"
       ],
       "url": "https://maps-a.onemap.sg/v3/LandLot/{z}/{x}/{y}.png"
      }
     },
     "3ea073ff886841a3b0d6d4b3a1aaca21": {
      "model_module": "@jupyter-widgets/base",
      "model_module_version": "1.2.0",
      "model_name": "LayoutModel",
      "state": {
       "grid_gap": "1px 1px",
       "grid_template_columns": "32px 32px 32px ",
       "grid_template_rows": "32px 32px 32px 32px 32px 32px ",
       "padding": "5px",
       "width": "109px"
      }
     },
     "408985c66e244817a8d441d055103638": {
      "model_module": "jupyter-leaflet",
      "model_module_version": "^0.16.0",
      "model_name": "LeafletTileLayerModel",
      "state": {
       "_model_module_version": "^0.16.0",
       "_view_module_version": "^0.16.0",
       "attribution": "Imagery provided by services from the Global Imagery Browse Services (GIBS), operated by the NASA/GSFC/Earth Science Data and Information System (ESDIS) with funding provided by NASA/HQ.",
       "max_native_zoom": 18,
       "max_zoom": 8,
       "min_native_zoom": 0,
       "name": "NASAGIBS.BlueMarble",
       "options": [
        "attribution",
        "bounds",
        "detect_retina",
        "max_native_zoom",
        "max_zoom",
        "min_native_zoom",
        "min_zoom",
        "no_wrap",
        "tile_size",
        "tms"
       ],
       "url": "https://gibs.earthdata.nasa.gov/wmts/epsg3857/best/BlueMarble_NextGeneration/default/EPSG3857_500m/{z}/{y}/{x}.jpeg"
      }
     },
     "40bcb656c488467aa4d8317731fd9a28": {
      "model_module": "@jupyter-widgets/output",
      "model_module_version": "1.0.0",
      "model_name": "OutputModel",
      "state": {
       "layout": "IPY_MODEL_8d0c5c809dde4f2396208a3dddba11d5"
      }
     },
     "40f6f3aa58934a6383d1066863f3bba3": {
      "model_module": "jupyter-leaflet",
      "model_module_version": "^0.16.0",
      "model_name": "LeafletTileLayerModel",
      "state": {
       "_model_module_version": "^0.16.0",
       "_view_module_version": "^0.16.0",
       "attribution": "(C) Stadia Maps, (C) OpenMapTiles (C) OpenStreetMap contributors",
       "max_native_zoom": 18,
       "max_zoom": 20,
       "min_native_zoom": 0,
       "name": "Stadia.OSMBright",
       "options": [
        "attribution",
        "bounds",
        "detect_retina",
        "max_native_zoom",
        "max_zoom",
        "min_native_zoom",
        "min_zoom",
        "no_wrap",
        "tile_size",
        "tms"
       ],
       "url": "https://tiles.stadiamaps.com/tiles/osm_bright/{z}/{x}/{y}.png"
      }
     },
     "421fc200991c422e926d453509afd0d6": {
      "model_module": "jupyter-leaflet",
      "model_module_version": "^0.16.0",
      "model_name": "LeafletTileLayerModel",
      "state": {
       "_model_module_version": "^0.16.0",
       "_view_module_version": "^0.16.0",
       "attribution": "openAIP Data (CC-BY-NC-SA)",
       "max_native_zoom": 18,
       "max_zoom": 14,
       "min_native_zoom": 0,
       "name": "OpenAIP",
       "options": [
        "attribution",
        "bounds",
        "detect_retina",
        "max_native_zoom",
        "max_zoom",
        "min_native_zoom",
        "min_zoom",
        "no_wrap",
        "tile_size",
        "tms"
       ],
       "url": "https://1.tile.maps.openaip.net/geowebcache/service/tms/1.0.0/openaip_basemap@EPSG%3A900913@png/{z}/{x}/{y}.png"
      }
     },
     "423acdf39a894aa3b4216976a4348286": {
      "model_module": "@jupyter-widgets/controls",
      "model_module_version": "1.5.0",
      "model_name": "ButtonModel",
      "state": {
       "description": "Remove bbox",
       "layout": "IPY_MODEL_44b7a2e0f8d749c3bca33e06ef030e2f",
       "style": "IPY_MODEL_4a251a7599e34ee7b9931a7447837570"
      }
     },
     "42b5d696cff3401b926afd92d9459d62": {
      "model_module": "jupyter-leaflet",
      "model_module_version": "^0.16.0",
      "model_name": "LeafletTileLayerModel",
      "state": {
       "_model_module_version": "^0.16.0",
       "_view_module_version": "^0.16.0",
       "attribution": "Justice Map",
       "max_native_zoom": 18,
       "max_zoom": 22,
       "min_native_zoom": 0,
       "name": "JusticeMap.multi",
       "options": [
        "attribution",
        "bounds",
        "detect_retina",
        "max_native_zoom",
        "max_zoom",
        "min_native_zoom",
        "min_zoom",
        "no_wrap",
        "tile_size",
        "tms"
       ],
       "url": "https://www.justicemap.org/tile/county/multi/{z}/{x}/{y}.png"
      }
     },
     "433b366ae5a84c15a03c833c96827e36": {
      "model_module": "@jupyter-widgets/controls",
      "model_module_version": "1.5.0",
      "model_name": "ButtonStyleModel",
      "state": {}
     },
     "438c74c5a6f04f6e97a608838e1857a5": {
      "model_module": "jupyter-leaflet",
      "model_module_version": "^0.16.0",
      "model_name": "LeafletTileLayerModel",
      "state": {
       "_model_module_version": "^0.16.0",
       "_view_module_version": "^0.16.0",
       "attribution": "Imagery provided by services from the Global Imagery Browse Services (GIBS), operated by the NASA/GSFC/Earth Science Data and Information System (ESDIS) with funding provided by NASA/HQ.",
       "max_native_zoom": 18,
       "max_zoom": 8,
       "min_native_zoom": 0,
       "name": "NASAGIBS.ModisTerraSnowCover",
       "options": [
        "attribution",
        "bounds",
        "detect_retina",
        "max_native_zoom",
        "max_zoom",
        "min_native_zoom",
        "min_zoom",
        "no_wrap",
        "tile_size",
        "tms"
       ],
       "url": "https://map1.vis.earthdata.nasa.gov/wmts-webmerc/MODIS_Terra_NDSI_Snow_Cover/default//GoogleMapsCompatible_Level8/{z}/{y}/{x}.png"
      }
     },
     "43ad65ad9c7145f38caed64c5d7c153f": {
      "model_module": "@jupyter-widgets/controls",
      "model_module_version": "1.5.0",
      "model_name": "ToggleButtonModel",
      "state": {
       "button_style": "primary",
       "icon": "globe",
       "layout": "IPY_MODEL_e75a3d631ca64c95a3a7459b704fc5dc",
       "style": "IPY_MODEL_f39feaa4b94746df81622eaffc0bb2dd",
       "tooltip": "Split-panel map"
      }
     },
     "44a0dccbcf604998a1b170f503692130": {
      "model_module": "@jupyter-widgets/base",
      "model_module_version": "1.2.0",
      "model_name": "LayoutModel",
      "state": {}
     },
     "44b7a2e0f8d749c3bca33e06ef030e2f": {
      "model_module": "@jupyter-widgets/base",
      "model_module_version": "1.2.0",
      "model_name": "LayoutModel",
      "state": {}
     },
     "44ccb60cc09a48e69b1ef62b256ee5b4": {
      "model_module": "@jupyter-widgets/controls",
      "model_module_version": "1.5.0",
      "model_name": "DescriptionStyleModel",
      "state": {
       "description_width": ""
      }
     },
     "450e249a958d49548e42a4d606268a91": {
      "model_module": "jupyter-leaflet",
      "model_module_version": "^0.16.0",
      "model_name": "LeafletZoomControlModel",
      "state": {
       "_model_module_version": "^0.16.0",
       "_view_module_version": "^0.16.0",
       "options": [
        "position",
        "zoom_in_text",
        "zoom_in_title",
        "zoom_out_text",
        "zoom_out_title"
       ]
      }
     },
     "45bfd0fea40f49b3a4b92a1c49d81a92": {
      "model_module": "jupyter-leaflet",
      "model_module_version": "^0.16.0",
      "model_name": "LeafletTileLayerModel",
      "state": {
       "_model_module_version": "^0.16.0",
       "_view_module_version": "^0.16.0",
       "attribution": "Map tiles by Stamen Design, CC BY 3.0 -- Map data (C) OpenStreetMap contributors",
       "max_native_zoom": 18,
       "max_zoom": 20,
       "min_native_zoom": 0,
       "name": "Stamen.TonerLabels",
       "options": [
        "attribution",
        "bounds",
        "detect_retina",
        "max_native_zoom",
        "max_zoom",
        "min_native_zoom",
        "min_zoom",
        "no_wrap",
        "tile_size",
        "tms"
       ],
       "url": "https://stamen-tiles-a.a.ssl.fastly.net/toner-labels/{z}/{x}/{y}.png"
      }
     },
     "45e5dd54194c47658c3b5ff26f37e8ee": {
      "model_module": "@jupyter-widgets/base",
      "model_module_version": "1.2.0",
      "model_name": "LayoutModel",
      "state": {
       "height": "28px",
       "padding": "0px 0px 0px 4px",
       "width": "28px"
      }
     },
     "461f14ccc5564be5b8e2a9bc7eaa773b": {
      "model_module": "@jupyter-widgets/base",
      "model_module_version": "1.2.0",
      "model_name": "LayoutModel",
      "state": {}
     },
     "464fe8dd169747da830f8d34045d022a": {
      "model_module": "jupyter-leaflet",
      "model_module_version": "^0.16.0",
      "model_name": "LeafletTileLayerModel",
      "state": {
       "_model_module_version": "^0.16.0",
       "_view_module_version": "^0.16.0",
       "attribution": "(C) Stadia Maps, (C) OpenMapTiles (C) OpenStreetMap contributors",
       "max_native_zoom": 18,
       "max_zoom": 20,
       "min_native_zoom": 0,
       "name": "Stadia.Outdoors",
       "options": [
        "attribution",
        "bounds",
        "detect_retina",
        "max_native_zoom",
        "max_zoom",
        "min_native_zoom",
        "min_zoom",
        "no_wrap",
        "tile_size",
        "tms"
       ],
       "url": "https://tiles.stadiamaps.com/tiles/outdoors/{z}/{x}/{y}.png"
      }
     },
     "47056f2ead784dd8b528b5ddab57227e": {
      "model_module": "@jupyter-widgets/controls",
      "model_module_version": "1.5.0",
      "model_name": "ButtonStyleModel",
      "state": {}
     },
     "4763f612fa2843bd9f52fdf74b677726": {
      "model_module": "jupyter-leaflet",
      "model_module_version": "^0.16.0",
      "model_name": "LeafletTileLayerModel",
      "state": {
       "_model_module_version": "^0.16.0",
       "_view_module_version": "^0.16.0",
       "attribution": "(C) OpenStreetMap contributors (C) CARTO",
       "max_native_zoom": 18,
       "max_zoom": 20,
       "min_native_zoom": 0,
       "name": "CartoDB.PositronOnlyLabels",
       "options": [
        "attribution",
        "bounds",
        "detect_retina",
        "max_native_zoom",
        "max_zoom",
        "min_native_zoom",
        "min_zoom",
        "no_wrap",
        "tile_size",
        "tms"
       ],
       "url": "https://a.basemaps.cartocdn.com/light_only_labels/{z}/{x}/{y}.png"
      }
     },
     "476e9ef5516c465fad1b98797cfca276": {
      "model_module": "jupyter-leaflet",
      "model_module_version": "^0.16.0",
      "model_name": "LeafletTileLayerModel",
      "state": {
       "_model_module_version": "^0.16.0",
       "_view_module_version": "^0.16.0",
       "attribution": "&copy; <a href=\"https://www.openstreetmap.org/copyright\">OpenStreetMap</a> contributors",
       "base": true,
       "max_native_zoom": 18,
       "max_zoom": 19,
       "min_native_zoom": 0,
       "min_zoom": 1,
       "name": "OpenStreetMap",
       "options": [
        "attribution",
        "bounds",
        "detect_retina",
        "max_native_zoom",
        "max_zoom",
        "min_native_zoom",
        "min_zoom",
        "no_wrap",
        "tile_size",
        "tms"
       ],
       "url": "https://a.tile.openstreetmap.org/{z}/{x}/{y}.png"
      }
     },
     "486d95a0f10144eea66b4a3dcc9d4b81": {
      "model_module": "@jupyter-widgets/controls",
      "model_module_version": "1.5.0",
      "model_name": "DescriptionStyleModel",
      "state": {
       "description_width": ""
      }
     },
     "48bac4d5e52144c9896765ace71d850c": {
      "model_module": "jupyter-leaflet",
      "model_module_version": "^0.16.0",
      "model_name": "LeafletTileLayerModel",
      "state": {
       "_model_module_version": "^0.16.0",
       "_view_module_version": "^0.16.0",
       "attribution": "Map tiles by Stamen Design, CC BY 3.0 -- Map data (C) OpenStreetMap contributors",
       "max_native_zoom": 18,
       "min_native_zoom": 0,
       "name": "Stamen.TerrainBackground",
       "options": [
        "attribution",
        "bounds",
        "detect_retina",
        "max_native_zoom",
        "max_zoom",
        "min_native_zoom",
        "min_zoom",
        "no_wrap",
        "tile_size",
        "tms"
       ],
       "url": "https://stamen-tiles-a.a.ssl.fastly.net/terrain-background/{z}/{x}/{y}.png"
      }
     },
     "495d9cc54c0e4eda95784e67178930d3": {
      "model_module": "@jupyter-widgets/controls",
      "model_module_version": "1.5.0",
      "model_name": "HTMLModel",
      "state": {
       "layout": "IPY_MODEL_95f036cfc15d4ac98b04ff3ebbfb4b0d",
       "style": "IPY_MODEL_180fbe61802c4746a77eaaed2e40b55a"
      }
     },
     "4a251a7599e34ee7b9931a7447837570": {
      "model_module": "@jupyter-widgets/controls",
      "model_module_version": "1.5.0",
      "model_name": "ButtonStyleModel",
      "state": {}
     },
     "4a626013875841c6a4168cc21bfe6da3": {
      "model_module": "jupyter-leaflet",
      "model_module_version": "^0.16.0",
      "model_name": "LeafletTileLayerModel",
      "state": {
       "_model_module_version": "^0.16.0",
       "_view_module_version": "^0.16.0",
       "attribution": "Imagery provided by services from the Global Imagery Browse Services (GIBS), operated by the NASA/GSFC/Earth Science Data and Information System (ESDIS) with funding provided by NASA/HQ.",
       "max_native_zoom": 18,
       "max_zoom": 9,
       "min_native_zoom": 0,
       "name": "NASAGIBS.ModisAquaTrueColorCR",
       "options": [
        "attribution",
        "bounds",
        "detect_retina",
        "max_native_zoom",
        "max_zoom",
        "min_native_zoom",
        "min_zoom",
        "no_wrap",
        "tile_size",
        "tms"
       ],
       "url": "https://gibs.earthdata.nasa.gov/wmts/epsg3857/best/MODIS_Aqua_CorrectedReflectance_TrueColor/default//GoogleMapsCompatible_Level9/{z}/{y}/{x}.jpg"
      }
     },
     "4ae9c99ef25743658b62aa00fc7851fc": {
      "model_module": "jupyter-leaflet",
      "model_module_version": "^0.16.0",
      "model_name": "LeafletTileLayerModel",
      "state": {
       "_model_module_version": "^0.16.0",
       "_view_module_version": "^0.16.0",
       "attribution": "Tiles (C) Esri -- Source: Esri, i-cubed, USDA, USGS, AEX, GeoEye, Getmapping, Aerogrid, IGN, IGP, UPR-EGP, and the GIS User Community",
       "max_native_zoom": 18,
       "max_zoom": 22,
       "min_native_zoom": 0,
       "name": "Esri.WorldImagery",
       "options": [
        "attribution",
        "bounds",
        "detect_retina",
        "max_native_zoom",
        "max_zoom",
        "min_native_zoom",
        "min_zoom",
        "no_wrap",
        "tile_size",
        "tms"
       ],
       "url": "https://server.arcgisonline.com/ArcGIS/rest/services/World_Imagery/MapServer/tile/{z}/{y}/{x}"
      }
     },
     "4b09d8e7a4ae4dbba52619ae18bd61c3": {
      "model_module": "jupyter-leaflet",
      "model_module_version": "^0.16.0",
      "model_name": "LeafletTileLayerModel",
      "state": {
       "_model_module_version": "^0.16.0",
       "_view_module_version": "^0.16.0",
       "attribution": "Tiles (C) Esri -- Source: US National Park Service",
       "max_native_zoom": 18,
       "max_zoom": 8,
       "min_native_zoom": 0,
       "name": "Esri.WorldPhysical",
       "options": [
        "attribution",
        "bounds",
        "detect_retina",
        "max_native_zoom",
        "max_zoom",
        "min_native_zoom",
        "min_zoom",
        "no_wrap",
        "tile_size",
        "tms"
       ],
       "url": "https://server.arcgisonline.com/ArcGIS/rest/services/World_Physical_Map/MapServer/tile/{z}/{y}/{x}"
      }
     },
     "4b1a3bc6c3504d51bfcd2b7e68867f92": {
      "model_module": "@jupyter-widgets/output",
      "model_module_version": "1.0.0",
      "model_name": "OutputModel",
      "state": {
       "layout": "IPY_MODEL_21081c8d1caf48f996960fff3453dde5"
      }
     },
     "4b263b2561924a9989099420a8048bd6": {
      "model_module": "jupyter-leaflet",
      "model_module_version": "^0.16.0",
      "model_name": "LeafletTileLayerModel",
      "state": {
       "_model_module_version": "^0.16.0",
       "_view_module_version": "^0.16.0",
       "attribution": "Tiles (C) Esri -- Source: Esri",
       "max_native_zoom": 18,
       "max_zoom": 13,
       "min_native_zoom": 0,
       "name": "Esri.WorldShadedRelief",
       "options": [
        "attribution",
        "bounds",
        "detect_retina",
        "max_native_zoom",
        "max_zoom",
        "min_native_zoom",
        "min_zoom",
        "no_wrap",
        "tile_size",
        "tms"
       ],
       "url": "https://server.arcgisonline.com/ArcGIS/rest/services/World_Shaded_Relief/MapServer/tile/{z}/{y}/{x}"
      }
     },
     "4b5c33e01e3446c1961c6c35b55b3d72": {
      "model_module": "@jupyter-widgets/base",
      "model_module_version": "1.2.0",
      "model_name": "LayoutModel",
      "state": {
       "height": "auto",
       "padding": "0px 0px 0px 4px",
       "width": "auto"
      }
     },
     "4c1c8ab7815949ada0a16258ade262eb": {
      "model_module": "jupyter-leaflet",
      "model_module_version": "^0.16.0",
      "model_name": "LeafletTileLayerModel",
      "state": {
       "_model_module_version": "^0.16.0",
       "_view_module_version": "^0.16.0",
       "attribution": "Imagery provided by services from the Global Imagery Browse Services (GIBS), operated by the NASA/GSFC/Earth Science Data and Information System (ESDIS) with funding provided by NASA/HQ.",
       "max_native_zoom": 18,
       "max_zoom": 9,
       "min_native_zoom": 0,
       "name": "NASAGIBS.ViirsTrueColorCR",
       "options": [
        "attribution",
        "bounds",
        "detect_retina",
        "max_native_zoom",
        "max_zoom",
        "min_native_zoom",
        "min_zoom",
        "no_wrap",
        "tile_size",
        "tms"
       ],
       "url": "https://gibs.earthdata.nasa.gov/wmts/epsg3857/best/VIIRS_SNPP_CorrectedReflectance_TrueColor/default//GoogleMapsCompatible_Level9/{z}/{y}/{x}.jpg"
      }
     },
     "4de6c02c99d94395af71cb334cd6cfa7": {
      "model_module": "@jupyter-widgets/base",
      "model_module_version": "1.2.0",
      "model_name": "LayoutModel",
      "state": {}
     },
     "500957c7bd8b426eb1fbf60b26d75291": {
      "model_module": "@jupyter-widgets/controls",
      "model_module_version": "1.5.0",
      "model_name": "ButtonStyleModel",
      "state": {}
     },
     "51adaeca7c1346d4a5987f2919d9757a": {
      "model_module": "@jupyter-widgets/base",
      "model_module_version": "1.2.0",
      "model_name": "LayoutModel",
      "state": {}
     },
     "52549655995047ee875e1e35204d7ba4": {
      "model_module": "jupyter-leaflet",
      "model_module_version": "^0.16.0",
      "model_name": "LeafletTileLayerModel",
      "state": {
       "_model_module_version": "^0.16.0",
       "_view_module_version": "^0.16.0",
       "attribution": "(C) OpenStreetMap contributors (C) CARTO",
       "max_native_zoom": 18,
       "max_zoom": 20,
       "min_native_zoom": 0,
       "name": "CartoDB.PositronNoLabels",
       "options": [
        "attribution",
        "bounds",
        "detect_retina",
        "max_native_zoom",
        "max_zoom",
        "min_native_zoom",
        "min_zoom",
        "no_wrap",
        "tile_size",
        "tms"
       ],
       "url": "https://a.basemaps.cartocdn.com/light_nolabels/{z}/{x}/{y}.png"
      }
     },
     "52ba49d809c24462820f0915c13e37f5": {
      "model_module": "@jupyter-widgets/base",
      "model_module_version": "1.2.0",
      "model_name": "LayoutModel",
      "state": {
       "height": "600px",
       "width": "100%"
      }
     },
     "53ae8b8f29d741c7a4a55df1c1c4b35a": {
      "model_module": "@jupyter-widgets/base",
      "model_module_version": "1.2.0",
      "model_name": "LayoutModel",
      "state": {}
     },
     "543c470bdda04213b6198ce978b95766": {
      "model_module": "jupyter-leaflet",
      "model_module_version": "^0.16.0",
      "model_name": "LeafletTileLayerModel",
      "state": {
       "_model_module_version": "^0.16.0",
       "_view_module_version": "^0.16.0",
       "attribution": "Tiles (C) Esri -- Esri, DeLorme, NAVTEQ",
       "max_native_zoom": 18,
       "max_zoom": 16,
       "min_native_zoom": 0,
       "name": "Esri.WorldGrayCanvas",
       "options": [
        "attribution",
        "bounds",
        "detect_retina",
        "max_native_zoom",
        "max_zoom",
        "min_native_zoom",
        "min_zoom",
        "no_wrap",
        "tile_size",
        "tms"
       ],
       "url": "https://server.arcgisonline.com/ArcGIS/rest/services/Canvas/World_Light_Gray_Base/MapServer/tile/{z}/{y}/{x}"
      }
     },
     "55cc0dcb4b0a4a2185612743125881cf": {
      "model_module": "jupyter-leaflet",
      "model_module_version": "^0.16.0",
      "model_name": "LeafletTileLayerModel",
      "state": {
       "_model_module_version": "^0.16.0",
       "_view_module_version": "^0.16.0",
       "attribution": "Map data: (C) OpenStreetMap contributors | Map style: (C) OpenFireMap (CC-BY-SA)",
       "max_native_zoom": 18,
       "max_zoom": 19,
       "min_native_zoom": 0,
       "name": "OpenFireMap",
       "options": [
        "attribution",
        "bounds",
        "detect_retina",
        "max_native_zoom",
        "max_zoom",
        "min_native_zoom",
        "min_zoom",
        "no_wrap",
        "tile_size",
        "tms"
       ],
       "url": "http://openfiremap.org/hytiles/{z}/{x}/{y}.png"
      }
     },
     "56254162ccaa40c691e7ce89c616b80d": {
      "model_module": "jupyter-leaflet",
      "model_module_version": "^0.16.0",
      "model_name": "LeafletTileLayerModel",
      "state": {
       "_model_module_version": "^0.16.0",
       "_view_module_version": "^0.16.0",
       "attribution": "Map tiles by Stamen Design, CC BY 3.0 -- Map data (C) OpenStreetMap contributors",
       "max_native_zoom": 18,
       "max_zoom": 20,
       "min_native_zoom": 0,
       "name": "Stamen.TopOSMRelief",
       "options": [
        "attribution",
        "bounds",
        "detect_retina",
        "max_native_zoom",
        "max_zoom",
        "min_native_zoom",
        "min_zoom",
        "no_wrap",
        "tile_size",
        "tms"
       ],
       "url": "https://stamen-tiles-a.a.ssl.fastly.net/toposm-color-relief/{z}/{x}/{y}.jpg"
      }
     },
     "566810d3614044aa83a4446d60c161e1": {
      "model_module": "jupyter-leaflet",
      "model_module_version": "^0.16.0",
      "model_name": "LeafletTileLayerModel",
      "state": {
       "_model_module_version": "^0.16.0",
       "_view_module_version": "^0.16.0",
       "attribution": "&copy; <a href=\"http://www.gaode.com/\">Gaode.com</a>",
       "max_native_zoom": 18,
       "max_zoom": 19,
       "min_native_zoom": 0,
       "name": "Gaode.Satellite",
       "options": [
        "attribution",
        "bounds",
        "detect_retina",
        "max_native_zoom",
        "max_zoom",
        "min_native_zoom",
        "min_zoom",
        "no_wrap",
        "tile_size",
        "tms"
       ],
       "url": "http://webst01.is.autonavi.com/appmaptile?style=6&x={x}&y={y}&z={z}"
      }
     },
     "5828964403554ed48143e73f4b79cb50": {
      "model_module": "jupyter-leaflet",
      "model_module_version": "^0.16.0",
      "model_name": "LeafletTileLayerModel",
      "state": {
       "_model_module_version": "^0.16.0",
       "_view_module_version": "^0.16.0",
       "attribution": "Map tiles by <a href=\"https://labs.strava.com/heatmap\">Strava 2021</a>",
       "max_native_zoom": 18,
       "max_zoom": 15,
       "min_native_zoom": 0,
       "name": "Strava.Ride",
       "options": [
        "attribution",
        "bounds",
        "detect_retina",
        "max_native_zoom",
        "max_zoom",
        "min_native_zoom",
        "min_zoom",
        "no_wrap",
        "tile_size",
        "tms"
       ],
       "url": "https://heatmap-external-a.strava.com/tiles/ride/hot/{z}/{x}/{y}.png"
      }
     },
     "5a98ded5a5e9471ea1d47f85af47a148": {
      "model_module": "jupyter-leaflet",
      "model_module_version": "^0.16.0",
      "model_name": "LeafletGeoJSONModel",
      "state": {
       "_model_module_version": "^0.16.0",
       "_view_module_version": "^0.16.0",
       "data": {
        "features": [
         {
          "geometry": {
           "coordinates": [
            [
             -81.12303887799999,
             29.473329372000023
            ],
            [
             -81.12240284699999,
             29.472053557000038
            ],
            [
             -81.12237468999996,
             29.472004715000025
            ],
            [
             -81.12234379999995,
             29.47196823200005
            ],
            [
             -81.12220883799995,
             29.471833699000058
            ],
            [
             -81.12201970999996,
             29.471618586000034
            ],
            [
             -81.12199026799993,
             29.471580654000036
            ],
            [
             -81.12196341299995,
             29.471526660000052
            ],
            [
             -81.12194420499998,
             29.47146501900005
            ],
            [
             -81.12193029099996,
             29.471398085000033
            ],
            [
             -81.12191971299995,
             29.471327815000052
            ],
            [
             -81.12190194699997,
             29.471183885000073
            ],
            [
             -81.12189168699996,
             29.471113295000066
            ],
            [
             -81.12187837699997,
             29.47104575700007
            ],
            [
             -81.12186017399995,
             29.470983112000056
            ],
            [
             -81.12183489599994,
             29.470927541000037
            ],
            [
             -81.12161500099995,
             29.47049295000005
            ],
            [
             -81.12147614399998,
             29.47027568900006
            ],
            [
             -81.12144875799999,
             29.470235701000036
            ],
            [
             -81.12142484299994,
             29.47018262000006
            ],
            [
             -81.12140775699999,
             29.47012270600004
            ],
            [
             -81.12139575199996,
             29.470057712000028
            ],
            [
             -81.12138742199994,
             29.469989044000044
            ],
            [
             -81.12138162599996,
             29.46991784200003
            ],
            [
             -81.12137741699996,
             29.46984505300003
            ],
            [
             -81.12136638999993,
             29.46962508200005
            ],
            [
             -81.12136066599999,
             29.469553808000057
            ],
            [
             -81.12135243699998,
             29.469485039000062
            ],
            [
             -81.12134056499997,
             29.469419913000024
            ],
            [
             -81.12132363999996,
             29.46935984000004
            ],
            [
             -81.12129990799997,
             29.46930657200005
            ],
            [
             -81.12108018999999,
             29.46887180500005
            ],
            [
             -81.12086354899998,
             29.46859758100004
            ],
            [
             -81.12067202899993,
             29.468384859000025
            ],
            [
             -81.12064122199996,
             29.46834829100004
            ],
            [
             -81.12061316099994,
             29.468299353000077
            ],
            [
             -81.12025,
             29.46756996846055
            ]
           ],
           "type": "LineString"
          },
          "id": "5104",
          "properties": {
           "CHLOROPHYLL": 1.606994,
           "CSU_Descriptor": "sloping, straight, low erodibility, sub tropical moist, moderate river discharge, low wave energy, moderately tidal, euhaline-oxic-warm to very warm, clear, low chlorophyll",
           "CSU_ID": 39712,
           "Cluster": 2,
           "EMU_PHYSICAL": "Euhaline-Oxic-Warm to Very Warm",
           "ERODIBILITY": "Low",
           "GHM": 0.607793,
           "LENGTH_GEO": 867.6045068233993,
           "MAX_SLOPE": 18.874876,
           "MEAN_SIG_WAVEHEIGHT": 0.932785,
           "MasterKey": 3195086,
           "OBJECTID": 3195086,
           "OUTFLOW_DENSITY": 89183.070312,
           "OUTFLOW_DENSITY_RESCALED": 0.00010782942434698485,
           "REGIONAL_SINUOSITY": 1.0097,
           "RandomSort": 2868267.56196405,
           "Shape_Length": 0.008017516064115231,
           "TEMP_MOISTURE": "Sub Tropical Moist",
           "TIDAL_RANGE": 1.774261,
           "TURBIDITY": 0.0628,
           "chl_label": "low chlorophyll",
           "river_label": "moderate river discharge",
           "sinuosity_label": "straight",
           "slope_label": "sloping",
           "style": {
            "color": "yellow",
            "dashArray": "5",
            "fillOpacity": 0.5,
            "fill_color": "yellow",
            "opacity": 1,
            "weight": 4
           },
           "tidal_label": "moderately tidal",
           "turbid_label": "clear",
           "wave_label": "low wave energy"
          },
          "type": "Feature"
         },
         {
          "geometry": {
           "coordinates": [
            [
             -81.12610684899994,
             29.480576430000042
            ],
            [
             -81.12604779799995,
             29.48052623800004
            ],
            [
             -81.12601176499999,
             29.48049489600004
            ],
            [
             -81.12597990999996,
             29.480459378000035
            ],
            [
             -81.125789119,
             29.480245927000055
            ],
            [
             -81.12576002099996,
             29.480207651000057
            ],
            [
             -81.12573487599997,
             29.480155798000055
            ],
            [
             -81.12571710699996,
             29.48009656800008
            ],
            [
             -81.12570478699996,
             29.480031891000067
            ],
            [
             -81.12569637599995,
             29.479963303000034
            ],
            [
             -81.12569064099995,
             29.47989203900005
            ],
            [
             -81.12567603699995,
             29.47959865000007
            ],
            [
             -81.12567042999996,
             29.479527258000076
            ],
            [
             -81.12566227599996,
             29.479458414000078
            ],
            [
             -81.12565043199999,
             29.479393259000062
            ],
            [
             -81.12563348899994,
             29.479333203000067
            ],
            [
             -81.12512871799998,
             29.478117059000056
            ],
            [
             -81.12484977499997,
             29.47768184100005
            ],
            [
             -81.12463276599993,
             29.47740798500007
            ],
            [
             -81.124440097,
             29.47701354000003
            ],
            [
             -81.12434537499996,
             29.47671749500006
            ],
            [
             -81.12426067199993,
             29.476317109000036
            ],
            [
             -81.12405030199994,
             29.475692045000073
            ],
            [
             -81.12396547799995,
             29.475466952000033
            ],
            [
             -81.12377353499994,
             29.475071779000075
            ],
            [
             -81.12363229099998,
             29.47485690600007
            ],
            [
             -81.12355515799999,
             29.47471266900004
            ],
            [
             -81.12333605099997,
             29.474277290000032
            ],
            [
             -81.12331075699996,
             29.47422173600006
            ],
            [
             -81.12329251599994,
             29.474159128000053
            ],
            [
             -81.12327916199996,
             29.474091634000047
            ],
            [
             -81.12326887799998,
             29.47402106900006
            ],
            [
             -81.12325126599995,
             29.47387698400007
            ],
            [
             -81.12324098499994,
             29.47380641700005
            ],
            [
             -81.12322763899994,
             29.47373891600006
            ],
            [
             -81.12320940799998,
             29.473676297000054
            ],
            [
             -81.12318412799993,
             29.47362072900006
            ],
            [
             -81.12303887799999,
             29.473329372000023
            ]
           ],
           "type": "LineString"
          },
          "id": "5105",
          "properties": {
           "CHLOROPHYLL": 1.612173,
           "CSU_Descriptor": "sloping, straight, low erodibility, sub tropical moist, moderate river discharge, low wave energy, moderately tidal, euhaline-oxic-warm to very warm, clear, low chlorophyll",
           "CSU_ID": 39712,
           "Cluster": 2,
           "EMU_PHYSICAL": "Euhaline-Oxic-Warm to Very Warm",
           "ERODIBILITY": "Low",
           "GHM": 0.629787,
           "LENGTH_GEO": 867.443908618233,
           "MAX_SLOPE": 10.6239,
           "MEAN_SIG_WAVEHEIGHT": 0.932785,
           "MasterKey": 3195087,
           "OBJECTID": 3195087,
           "OUTFLOW_DENSITY": 89183.070312,
           "OUTFLOW_DENSITY_RESCALED": 0.00010782942434698485,
           "REGIONAL_SINUOSITY": 1.0097,
           "RandomSort": 3259449.19266848,
           "Shape_Length": 0.00798966092467035,
           "TEMP_MOISTURE": "Sub Tropical Moist",
           "TIDAL_RANGE": 1.774261,
           "TURBIDITY": 0.0628,
           "chl_label": "low chlorophyll",
           "river_label": "moderate river discharge",
           "sinuosity_label": "straight",
           "slope_label": "sloping",
           "style": {
            "color": "yellow",
            "dashArray": "5",
            "fillOpacity": 0.5,
            "fill_color": "yellow",
            "opacity": 1,
            "weight": 4
           },
           "tidal_label": "moderately tidal",
           "turbid_label": "clear",
           "wave_label": "low wave energy"
          },
          "type": "Feature"
         },
         {
          "geometry": {
           "coordinates": [
            [
             -81.12974292899997,
             29.487628442000073
            ],
            [
             -81.12953436099997,
             29.487213094000026
            ],
            [
             -81.12950908099998,
             29.48715752700008
            ],
            [
             -81.12949084899998,
             29.487094909000064
            ],
            [
             -81.12947750599994,
             29.48702740600004
            ],
            [
             -81.12946722799995,
             29.48695683400007
            ],
            [
             -81.12944962599994,
             29.48681274100005
            ],
            [
             -81.12943934799995,
             29.486742169000024
            ],
            [
             -81.12942600499997,
             29.486674664000077
            ],
            [
             -81.12940777599994,
             29.486612044000026
            ],
            [
             -81.12938249799998,
             29.486556474000054
            ],
            [
             -81.12860192899996,
             29.484988590000057
            ],
            [
             -81.12857388199996,
             29.48493963900006
            ],
            [
             -81.12854308799996,
             29.484903058000043
            ],
            [
             -81.12835172099994,
             29.484690182000065
            ],
            [
             -81.12813560099994,
             29.48441543900003
            ],
            [
             -81.12791645299995,
             29.483980100000053
            ],
            [
             -81.12789130999994,
             29.48392439500003
            ],
            [
             -81.12787320599995,
             29.48386165100004
            ],
            [
             -81.12785997399999,
             29.483794035000074
            ],
            [
             -81.12784979199995,
             29.483723368000028
            ],
            [
             -81.12783234099999,
             29.483579123000027
            ],
            [
             -81.12782212099995,
             29.483508494000034
            ],
            [
             -81.12780882499999,
             29.483440941000026
            ],
            [
             -81.12779063399995,
             29.483378282000047
            ],
            [
             -81.12776538499998,
             29.48332268200005
            ],
            [
             -81.12754671899995,
             29.48288686500007
            ],
            [
             -81.12740602699995,
             29.482671438000068
            ],
            [
             -81.12732933799998,
             29.482526756000027
            ],
            [
             -81.12705998199993,
             29.481987627000024
            ],
            [
             -81.12693151499997,
             29.481663730000037
            ],
            [
             -81.12671721899994,
             29.48121391400008
            ],
            [
             -81.12668939199995,
             29.48116474300008
            ],
            [
             -81.12665877099994,
             29.48112799000006
            ],
            [
             -81.12646616999996,
             29.48091634900004
            ],
            [
             -81.12639855899994,
             29.480849213000056
            ],
            [
             -81.12619347099997,
             29.480650058000037
            ],
            [
             -81.12610684899994,
             29.480576430000042
            ]
           ],
           "type": "LineString"
          },
          "id": "5106",
          "properties": {
           "CHLOROPHYLL": 1.614199,
           "CSU_Descriptor": "sloping, straight, low erodibility, sub tropical moist, low river discharge, low wave energy, moderately tidal, euhaline-oxic-warm to very warm, clear, low chlorophyll",
           "CSU_ID": 33370,
           "Cluster": 2,
           "EMU_PHYSICAL": "Euhaline-Oxic-Warm to Very Warm",
           "ERODIBILITY": "Low",
           "GHM": 0.632229,
           "LENGTH_GEO": 867.5823110312031,
           "MAX_SLOPE": 10.27186,
           "MEAN_SIG_WAVEHEIGHT": 0.932785,
           "MasterKey": 3195088,
           "OBJECTID": 3195088,
           "OUTFLOW_DENSITY": 0,
           "OUTFLOW_DENSITY_RESCALED": 0,
           "REGIONAL_SINUOSITY": 1.0097,
           "RandomSort": 3276461.90043216,
           "Shape_Length": 0.008043482225097452,
           "TEMP_MOISTURE": "Sub Tropical Moist",
           "TIDAL_RANGE": 1.774261,
           "TURBIDITY": 0.0628,
           "chl_label": "low chlorophyll",
           "river_label": "low river discharge",
           "sinuosity_label": "straight",
           "slope_label": "sloping",
           "style": {
            "color": "yellow",
            "dashArray": "5",
            "fillOpacity": 0.5,
            "fill_color": "yellow",
            "opacity": 1,
            "weight": 4
           },
           "tidal_label": "moderately tidal",
           "turbid_label": "clear",
           "wave_label": "low wave energy"
          },
          "type": "Feature"
         },
         {
          "geometry": {
           "coordinates": [
            [
             -81.13333929099997,
             29.49473794000005
            ],
            [
             -81.13320669599995,
             29.494474540000056
            ],
            [
             -81.13299057499995,
             29.494199796000032
            ],
            [
             -81.13279920899998,
             29.493986920000054
            ],
            [
             -81.13276841599998,
             29.493950341000073
            ],
            [
             -81.13274036799999,
             29.49390138900003
            ],
            [
             -81.13217850699994,
             29.492769284000076
            ],
            [
             -81.13190283699998,
             29.492147921000026
            ],
            [
             -81.13133767599999,
             29.49058407600006
            ],
            [
             -81.13132711099996,
             29.490513793000048
            ],
            [
             -81.13131320999997,
             29.490446846000054
            ],
            [
             -81.13129401199996,
             29.490385194000055
            ],
            [
             -81.13126716599999,
             29.49033119300003
            ],
            [
             -81.13123772899996,
             29.49029325600003
            ],
            [
             -81.13104861899996,
             29.490078124000036
            ],
            [
             -81.13091366799995,
             29.489943581000034
            ],
            [
             -81.13088277999998,
             29.489907096000024
            ],
            [
             -81.13085462699996,
             29.489858249000065
            ],
            [
             -81.13063841899998,
             29.489410346000057
            ],
            [
             -81.130433268,
             29.488941760000046
            ],
            [
             -81.12997058899998,
             29.488008842000056
            ],
            [
             -81.12989387199997,
             29.48786418900005
            ],
            [
             -81.12975314899995,
             29.48764879400005
            ],
            [
             -81.12974292899997,
             29.487628442000073
            ]
           ],
           "type": "LineString"
          },
          "id": "5107",
          "properties": {
           "CHLOROPHYLL": 1.611487,
           "CSU_Descriptor": "sloping, straight, low erodibility, sub tropical moist, low river discharge, low wave energy, moderately tidal, euhaline-oxic-warm to very warm, clear, low chlorophyll",
           "CSU_ID": 33370,
           "Cluster": 2,
           "EMU_PHYSICAL": "Euhaline-Oxic-Warm to Very Warm",
           "ERODIBILITY": "Low",
           "GHM": 0.59004,
           "LENGTH_GEO": 867.4690676079314,
           "MAX_SLOPE": 12.567444,
           "MEAN_SIG_WAVEHEIGHT": 0.932785,
           "MasterKey": 3195089,
           "OBJECTID": 3195089,
           "OUTFLOW_DENSITY": 0,
           "OUTFLOW_DENSITY_RESCALED": 0,
           "REGIONAL_SINUOSITY": 1.008314,
           "RandomSort": 3177012.73702526,
           "Shape_Length": 0.008028952852176342,
           "TEMP_MOISTURE": "Sub Tropical Moist",
           "TIDAL_RANGE": 1.774261,
           "TURBIDITY": 0.0628,
           "chl_label": "low chlorophyll",
           "river_label": "low river discharge",
           "sinuosity_label": "straight",
           "slope_label": "sloping",
           "style": {
            "color": "yellow",
            "dashArray": "5",
            "fillOpacity": 0.5,
            "fill_color": "yellow",
            "opacity": 1,
            "weight": 4
           },
           "tidal_label": "moderately tidal",
           "turbid_label": "clear",
           "wave_label": "low wave energy"
          },
          "type": "Feature"
         },
         {
          "geometry": {
           "coordinates": [
            [
             -81.13666818199994,
             29.50194527000008
            ],
            [
             -81.13654273199995,
             29.50176429100003
            ],
            [
             -81.13651593699996,
             29.501710238000044
            ],
            [
             -81.13649678099995,
             29.501648545000023
            ],
            [
             -81.13648291499999,
             29.50158156400005
            ],
            [
             -81.13647237699996,
             29.501511251000068
            ],
            [
             -81.13590732499995,
             29.499947297000062
            ],
            [
             -81.13480039699994,
             29.497654743000055
            ],
            [
             -81.134772377,
             29.49760576400007
            ],
            [
             -81.13474161299996,
             29.497569154000075
            ],
            [
             -81.13455054099995,
             29.497355983000034
            ],
            [
             -81.13441601699998,
             29.497221015000036
            ],
            [
             -81.13438524999998,
             29.49718440600003
            ],
            [
             -81.13435722699995,
             29.49713543100006
            ],
            [
             -81.13357689999998,
             29.495567308000034
            ],
            [
             -81.13355165399997,
             29.495511704000023
            ],
            [
             -81.13353346599996,
             29.495449045000043
            ],
            [
             -81.13352017099999,
             29.495381491000046
            ],
            [
             -81.13350995299999,
             29.495310860000075
            ],
            [
             -81.13349250299996,
             29.495166613000038
            ],
            [
             -81.13348232299995,
             29.49509594500006
            ],
            [
             -81.13346908899996,
             29.495028330000025
            ],
            [
             -81.13345098599996,
             29.494965585000045
            ],
            [
             -81.13342584399999,
             29.494909879000033
            ],
            [
             -81.13333929099997,
             29.49473794000005
            ]
           ],
           "type": "LineString"
          },
          "id": "5108",
          "properties": {
           "CHLOROPHYLL": 1.613319,
           "CSU_Descriptor": "sloping, straight, low erodibility, sub tropical moist, low river discharge, low wave energy, moderately tidal, euhaline-oxic-warm to very warm, clear, low chlorophyll",
           "CSU_ID": 33370,
           "Cluster": 2,
           "EMU_PHYSICAL": "Euhaline-Oxic-Warm to Very Warm",
           "ERODIBILITY": "Low",
           "GHM": 0.59004,
           "LENGTH_GEO": 867.3093599767453,
           "MAX_SLOPE": 13.344147,
           "MEAN_SIG_WAVEHEIGHT": 0.932785,
           "MasterKey": 3195090,
           "OBJECTID": 3195090,
           "OUTFLOW_DENSITY": 0,
           "OUTFLOW_DENSITY_RESCALED": 0,
           "REGIONAL_SINUOSITY": 1.008314,
           "RandomSort": 2432887.75474734,
           "Shape_Length": 0.00800124385153516,
           "TEMP_MOISTURE": "Sub Tropical Moist",
           "TIDAL_RANGE": 1.774261,
           "TURBIDITY": 0.055,
           "chl_label": "low chlorophyll",
           "river_label": "low river discharge",
           "sinuosity_label": "straight",
           "slope_label": "sloping",
           "style": {
            "color": "yellow",
            "dashArray": "5",
            "fillOpacity": 0.5,
            "fill_color": "yellow",
            "opacity": 1,
            "weight": 4
           },
           "tidal_label": "moderately tidal",
           "turbid_label": "clear",
           "wave_label": "low wave energy"
          },
          "type": "Feature"
         },
         {
          "geometry": {
           "coordinates": [
            [
             -81.14030997299994,
             29.509029157000043
            ],
            [
             -81.13994974199994,
             29.508032135000064
            ],
            [
             -81.13884280699995,
             29.505739590000076
            ],
            [
             -81.13881478599995,
             29.50569061400006
            ],
            [
             -81.13878401799997,
             29.505654006000043
            ],
            [
             -81.13859291399996,
             29.50544086900004
            ],
            [
             -81.13837741699996,
             29.505165500000032
            ],
            [
             -81.13810681499996,
             29.50462761700004
            ],
            [
             -81.13788869399997,
             29.504191252000055
            ],
            [
             -81.13786347399997,
             29.50413562500006
            ],
            [
             -81.13784530599997,
             29.504072945000075
            ],
            [
             -81.13783202899998,
             29.50400537400003
            ],
            [
             -81.13782182299997,
             29.503934729000036
            ],
            [
             -81.13780439599998,
             29.50379046000006
            ],
            [
             -81.13779422599998,
             29.503719785000044
            ],
            [
             -81.13778100099995,
             29.50365215900007
            ],
            [
             -81.13776290499999,
             29.50358940700005
            ],
            [
             -81.13773777299997,
             29.50353369100003
            ],
            [
             -81.13751877299995,
             29.503098204000025
            ],
            [
             -81.13730303299997,
             29.502823077000073
            ],
            [
             -81.13703133499996,
             29.502469164000047
            ],
            [
             -81.13666818199994,
             29.50194527000008
            ]
           ],
           "type": "LineString"
          },
          "id": "5109",
          "properties": {
           "CHLOROPHYLL": 1.606853,
           "CSU_Descriptor": "sloping, straight, low erodibility, sub tropical moist, low river discharge, low wave energy, moderately tidal, euhaline-oxic-warm to very warm, clear, low chlorophyll",
           "CSU_ID": 33370,
           "Cluster": 2,
           "EMU_PHYSICAL": "Euhaline-Oxic-Warm to Very Warm",
           "ERODIBILITY": "Low",
           "GHM": 0.6026,
           "LENGTH_GEO": 867.3753508355283,
           "MAX_SLOPE": 17.633044,
           "MEAN_SIG_WAVEHEIGHT": 0.997365,
           "MasterKey": 3195091,
           "OBJECTID": 3195091,
           "OUTFLOW_DENSITY": 0,
           "OUTFLOW_DENSITY_RESCALED": 0,
           "REGIONAL_SINUOSITY": 1.008314,
           "RandomSort": 898930.070721515,
           "Shape_Length": 0.008035381183041868,
           "TEMP_MOISTURE": "Sub Tropical Moist",
           "TIDAL_RANGE": 1.774261,
           "TURBIDITY": 0.055,
           "chl_label": "low chlorophyll",
           "river_label": "low river discharge",
           "sinuosity_label": "straight",
           "slope_label": "sloping",
           "style": {
            "color": "yellow",
            "dashArray": "5",
            "fillOpacity": 0.5,
            "fill_color": "yellow",
            "opacity": 1,
            "weight": 4
           },
           "tidal_label": "moderately tidal",
           "turbid_label": "clear",
           "wave_label": "low wave energy"
          },
          "type": "Feature"
         },
         {
          "geometry": {
           "coordinates": [
            [
             -81.14385385899999,
             29.516120931000046
            ],
            [
             -81.14381770699998,
             29.516048883000053
            ],
            [
             -81.14379245699996,
             29.515993283000057
            ],
            [
             -81.14377426799996,
             29.515930626000056
            ],
            [
             -81.14376097099995,
             29.515863073000048
            ],
            [
             -81.14375075199996,
             29.515792444000056
            ],
            [
             -81.14373329999995,
             29.515648199000054
            ],
            [
             -81.14372311999995,
             29.515577532000066
            ],
            [
             -81.14370988599995,
             29.515509916000042
            ],
            [
             -81.14369178099997,
             29.51544717200005
            ],
            [
             -81.14366663899995,
             29.51539146600004
            ],
            [
             -81.14344749099996,
             29.51495612900004
            ],
            [
             -81.14323137199995,
             29.51468138100006
            ],
            [
             -81.14304001399995,
             29.514468498000042
            ],
            [
             -81.14300922299998,
             29.514431915000046
            ],
            [
             -81.14298117799996,
             29.51438296200007
            ],
            [
             -81.14276552999996,
             29.513934498000026
            ],
            [
             -81.14256050299997,
             29.513465788000076
            ],
            [
             -81.14209788499994,
             29.51253281100003
            ],
            [
             -81.14202120499993,
             29.512388120000026
            ],
            [
             -81.14188061099998,
             29.512172596000028
            ],
            [
             -81.14166258299997,
             29.511736136000025
            ],
            [
             -81.14163745699994,
             29.511680414000068
            ],
            [
             -81.14161938199999,
             29.511617640000054
            ],
            [
             -81.14160618499994,
             29.51154998900006
            ],
            [
             -81.14159602299998,
             29.511479303000044
            ],
            [
             -81.14157841799994,
             29.511335210000027
            ],
            [
             -81.14156791199997,
             29.51126486900006
            ],
            [
             -81.14155406599997,
             29.511197867000078
            ],
            [
             -81.14153492699995,
             29.511136158000056
            ],
            [
             -81.14150814099997,
             29.511082094000074
            ],
            [
             -81.14101902099998,
             29.510377738000045
            ],
            [
             -81.14080325399993,
             29.51010264100006
            ],
            [
             -81.14061456699994,
             29.50988708500006
            ],
            [
             -81.14058517699993,
             29.50984910300008
            ],
            [
             -81.14055837499996,
             29.50979505500004
            ],
            [
             -81.14053921599998,
             29.509733366000034
            ],
            [
             -81.14052534499996,
             29.509666388000028
            ],
            [
             -81.14051480699999,
             29.50959607900006
            ],
            [
             -81.14030997299994,
             29.509029157000043
            ]
           ],
           "type": "LineString"
          },
          "id": "5110",
          "properties": {
           "CHLOROPHYLL": 1.611233,
           "CSU_Descriptor": "sloping, straight, low erodibility, sub tropical moist, low river discharge, low wave energy, moderately tidal, euhaline-oxic-warm to very warm, clear, low chlorophyll",
           "CSU_ID": 33370,
           "Cluster": 2,
           "EMU_PHYSICAL": "Euhaline-Oxic-Warm to Very Warm",
           "ERODIBILITY": "Low",
           "GHM": 0.566738,
           "LENGTH_GEO": 867.3030252400168,
           "MAX_SLOPE": 14.674723,
           "MEAN_SIG_WAVEHEIGHT": 0.997365,
           "MasterKey": 3195092,
           "OBJECTID": 3195092,
           "OUTFLOW_DENSITY": 0,
           "OUTFLOW_DENSITY_RESCALED": 0,
           "REGIONAL_SINUOSITY": 1.008314,
           "RandomSort": 1136932.3329067,
           "Shape_Length": 0.008031416781246914,
           "TEMP_MOISTURE": "Sub Tropical Moist",
           "TIDAL_RANGE": 1.780457,
           "TURBIDITY": 0.055,
           "chl_label": "low chlorophyll",
           "river_label": "low river discharge",
           "sinuosity_label": "straight",
           "slope_label": "sloping",
           "style": {
            "color": "yellow",
            "dashArray": "5",
            "fillOpacity": 0.5,
            "fill_color": "yellow",
            "opacity": 1,
            "weight": 4
           },
           "tidal_label": "moderately tidal",
           "turbid_label": "clear",
           "wave_label": "low wave energy"
          },
          "type": "Feature"
         },
         {
          "geometry": {
           "coordinates": [
            [
             -81.14747275299999,
             29.523226743000066
            ],
            [
             -81.14735192599994,
             29.52309232600004
            ],
            [
             -81.14732113499997,
             29.523055742000054
            ],
            [
             -81.14729308999995,
             29.523006790000068
            ],
            [
             -81.14707743399998,
             29.522558333000063
            ],
            [
             -81.14694867899993,
             29.522234724000043
            ],
            [
             -81.14667921199998,
             29.52169570600006
            ],
            [
             -81.14660251599997,
             29.521551033000037
            ],
            [
             -81.14646180799997,
             29.521335622000038
            ],
            [
             -81.14624303599999,
             29.520899907000057
            ],
            [
             -81.14621775899997,
             29.52084433600004
            ],
            [
             -81.14619953299996,
             29.520781714000066
            ],
            [
             -81.14618619499998,
             29.520714204000058
            ],
            [
             -81.14617592299999,
             29.520643627000027
            ],
            [
             -81.14615833799996,
             29.52049951500004
            ],
            [
             -81.14614807499999,
             29.520428931000026
            ],
            [
             -81.14613474699996,
             29.520361410000078
            ],
            [
             -81.14611653799994,
             29.520298770000068
            ],
            [
             -81.14609128299998,
             29.520243177000054
            ],
            [
             -81.14587304699995,
             29.51980692500007
            ],
            [
             -81.14560242699997,
             29.519269062000035
            ],
            [
             -81.14538692799994,
             29.518993695000063
            ],
            [
             -81.14519582599996,
             29.51878055700007
            ],
            [
             -81.14516505899996,
             29.518743950000044
            ],
            [
             -81.14513703699998,
             29.51869497200005
            ],
            [
             -81.14492147299995,
             29.518246427000065
            ],
            [
             -81.14471645799995,
             29.517777704000025
            ],
            [
             -81.14425380399996,
             29.516844760000026
            ],
            [
             -81.14417709099996,
             29.51670010400005
            ],
            [
             -81.14403638199997,
             29.51648469400004
            ],
            [
             -81.14385385899999,
             29.516120931000046
            ]
           ],
           "type": "LineString"
          },
          "id": "5111",
          "properties": {
           "CHLOROPHYLL": 1.608937,
           "CSU_Descriptor": "sloping, straight, low erodibility, sub tropical moist, low river discharge, low wave energy, moderately tidal, euhaline-oxic-warm to very warm, clear, low chlorophyll",
           "CSU_ID": 33370,
           "Cluster": 2,
           "EMU_PHYSICAL": "Euhaline-Oxic-Warm to Very Warm",
           "ERODIBILITY": "Low",
           "GHM": 0.612673,
           "LENGTH_GEO": 867.2337223015505,
           "MAX_SLOPE": 20.343725,
           "MEAN_SIG_WAVEHEIGHT": 0.997365,
           "MasterKey": 3195093,
           "OBJECTID": 3195093,
           "OUTFLOW_DENSITY": 0,
           "OUTFLOW_DENSITY_RESCALED": 0,
           "REGIONAL_SINUOSITY": 1.008314,
           "RandomSort": 1965884.53649755,
           "Shape_Length": 0.008028830225891126,
           "TEMP_MOISTURE": "Sub Tropical Moist",
           "TIDAL_RANGE": 1.780457,
           "TURBIDITY": 0.055,
           "chl_label": "low chlorophyll",
           "river_label": "low river discharge",
           "sinuosity_label": "straight",
           "slope_label": "sloping",
           "style": {
            "color": "yellow",
            "dashArray": "5",
            "fillOpacity": 0.5,
            "fill_color": "yellow",
            "opacity": 1,
            "weight": 4
           },
           "tidal_label": "moderately tidal",
           "turbid_label": "clear",
           "wave_label": "low wave energy"
          },
          "type": "Feature"
         },
         {
          "geometry": {
           "coordinates": [
            [
             -81.15106062599995,
             29.530313514000056
            ],
            [
             -81.15098966499994,
             29.530234371000063
            ],
            [
             -81.15077416699995,
             29.529959004000034
            ],
            [
             -81.15050354499994,
             29.529421142000047
            ],
            [
             -81.15028531099995,
             29.52898489000006
            ],
            [
             -81.150260055,
             29.52892929500007
            ],
            [
             -81.15024184599997,
             29.528866656000048
            ],
            [
             -81.15022851999998,
             29.528799135000042
            ],
            [
             -81.15021825599996,
             29.52872855100003
            ],
            [
             -81.15020067099994,
             29.528584438000053
            ],
            [
             -81.15019039999999,
             29.52851386100008
            ],
            [
             -81.15017706199995,
             29.52844635200006
            ],
            [
             -81.15015883499996,
             29.52838373000003
            ],
            [
             -81.15013355599996,
             29.52832815900007
            ],
            [
             -81.14991478699994,
             29.52789244300004
            ],
            [
             -81.14977407799995,
             29.52767703300003
            ],
            [
             -81.14969738199994,
             29.527532359000077
            ],
            [
             -81.14942791899995,
             29.526993338000068
            ],
            [
             -81.14929917399996,
             29.52666971700006
            ],
            [
             -81.14908360199996,
             29.52622117900006
            ],
            [
             -81.14905557999998,
             29.526172202000055
            ],
            [
             -81.14902481199994,
             29.526135595000028
            ],
            [
             -81.14883370999996,
             29.525922457000036
            ],
            [
             -81.14861821199997,
             29.525647089000074
            ],
            [
             -81.14834760899998,
             29.525109206000025
            ],
            [
             -81.14812948799994,
             29.524672844000065
            ],
            [
             -81.14810426499997,
             29.524617216000024
            ],
            [
             -81.14808609599999,
             29.52455453600004
            ],
            [
             -81.14807281799995,
             29.52448696700003
            ],
            [
             -81.148062612,
             29.52441632400007
            ],
            [
             -81.14804518099999,
             29.524272058000065
            ],
            [
             -81.14803500699998,
             29.524201386000072
            ],
            [
             -81.14802177899998,
             29.524133764000055
            ],
            [
             -81.14800367899994,
             29.52407101500006
            ],
            [
             -81.14797853999994,
             29.524015306000024
            ],
            [
             -81.14775940199996,
             29.52357995500006
            ],
            [
             -81.14754328499998,
             29.523305209000057
            ],
            [
             -81.14747275299999,
             29.523226743000066
            ]
           ],
           "type": "LineString"
          },
          "id": "5112",
          "properties": {
           "CHLOROPHYLL": 1.617344,
           "CSU_Descriptor": "sloping, straight, low erodibility, sub tropical moist, low river discharge, low wave energy, moderately tidal, euhaline-oxic-warm to very warm, clear, low chlorophyll",
           "CSU_ID": 33370,
           "Cluster": 2,
           "EMU_PHYSICAL": "Euhaline-Oxic-Warm to Very Warm",
           "ERODIBILITY": "Low",
           "GHM": 0.575571,
           "LENGTH_GEO": 867.188848814597,
           "MAX_SLOPE": 12.368083,
           "MEAN_SIG_WAVEHEIGHT": 0.997365,
           "MasterKey": 3195094,
           "OBJECTID": 3195094,
           "OUTFLOW_DENSITY": 0,
           "OUTFLOW_DENSITY_RESCALED": 0,
           "REGIONAL_SINUOSITY": 1.008314,
           "RandomSort": 1588201.84961137,
           "Shape_Length": 0.008032270789446395,
           "TEMP_MOISTURE": "Sub Tropical Moist",
           "TIDAL_RANGE": 1.780457,
           "TURBIDITY": 0.055,
           "chl_label": "low chlorophyll",
           "river_label": "low river discharge",
           "sinuosity_label": "straight",
           "slope_label": "sloping",
           "style": {
            "color": "yellow",
            "dashArray": "5",
            "fillOpacity": 0.5,
            "fill_color": "yellow",
            "opacity": 1,
            "weight": 4
           },
           "tidal_label": "moderately tidal",
           "turbid_label": "clear",
           "wave_label": "low wave energy"
          },
          "type": "Feature"
         },
         {
          "geometry": {
           "coordinates": [
            [
             -81.15450965999997,
             29.537459952000063
            ],
            [
             -81.15450205599996,
             29.537407440000038
            ],
            [
             -81.15448875199996,
             29.53733989500006
            ],
            [
             -81.15447055199996,
             29.537277247000077
            ],
            [
             -81.15444529099994,
             29.537221657000032
            ],
            [
             -81.15422634699996,
             29.536786117000077
            ],
            [
             -81.15408524899993,
             29.536571098000024
            ],
            [
             -81.15400822599997,
             29.536426748000054
            ],
            [
             -81.15378987499997,
             29.53599061400007
            ],
            [
             -81.15376472799994,
             29.535934912000073
            ],
            [
             -81.15374663399996,
             29.535872158000075
            ],
            [
             -81.15373341799994,
             29.53580452600005
            ],
            [
             -81.15372323499997,
             29.53573386200003
            ],
            [
             -81.15370558199999,
             29.535589817000073
            ],
            [
             -81.15369504499995,
             29.535519505000025
            ],
            [
             -81.15368116199994,
             29.53545253900006
            ],
            [
             -81.15366198199996,
             29.53539087200005
            ],
            [
             -81.15363514599994,
             29.53533685900004
            ],
            [
             -81.15360571699995,
             29.535298914000066
            ],
            [
             -81.15341660399997,
             29.53508378400005
            ],
            [
             -81.15320030499998,
             29.534809219000067
            ],
            [
             -81.15292908499998,
             29.534271957000044
            ],
            [
             -81.15271077499995,
             29.53383578000006
            ],
            [
             -81.15268551699995,
             29.533780188000037
            ],
            [
             -81.15266730599996,
             29.533717550000063
            ],
            [
             -81.15265397699994,
             29.533650032000025
            ],
            [
             -81.15264371099994,
             29.533579449000058
            ],
            [
             -81.15262612399994,
             29.53343533800006
            ],
            [
             -81.15261585299999,
             29.533364762000076
            ],
            [
             -81.15260251299998,
             29.533297253000057
            ],
            [
             -81.15258428699997,
             29.533234632000074
            ],
            [
             -81.15255900799997,
             29.533179061000055
            ],
            [
             -81.15234022899995,
             29.532743353000058
            ],
            [
             -81.15219950799997,
             29.53252795800006
            ],
            [
             -81.15212279199994,
             29.532383302000028
            ],
            [
             -81.15166013599998,
             29.531450361000054
            ],
            [
             -81.15145511999998,
             29.53098164000005
            ],
            [
             -81.15123955599995,
             29.53053309300003
            ],
            [
             -81.15121153499996,
             29.530484115000036
            ],
            [
             -81.15118076799996,
             29.530447510000045
            ],
            [
             -81.15106062599995,
             29.530313514000056
            ]
           ],
           "type": "LineString"
          },
          "id": "5113",
          "properties": {
           "CHLOROPHYLL": 1.608816,
           "CSU_Descriptor": "sloping, straight, low erodibility, sub tropical moist, low river discharge, low wave energy, moderately tidal, euhaline-oxic-warm to very warm, clear, low chlorophyll",
           "CSU_ID": 33370,
           "Cluster": 2,
           "EMU_PHYSICAL": "Euhaline-Oxic-Warm to Very Warm",
           "ERODIBILITY": "Low",
           "GHM": 0.569271,
           "LENGTH_GEO": 867.068831765796,
           "MAX_SLOPE": 13.2501,
           "MEAN_SIG_WAVEHEIGHT": 0.997365,
           "MasterKey": 3195095,
           "OBJECTID": 3195095,
           "OUTFLOW_DENSITY": 0,
           "OUTFLOW_DENSITY_RESCALED": 0,
           "REGIONAL_SINUOSITY": 1.008314,
           "RandomSort": 3121103.21470149,
           "Shape_Length": 0.008015456048683308,
           "TEMP_MOISTURE": "Sub Tropical Moist",
           "TIDAL_RANGE": 1.780457,
           "TURBIDITY": 0.055,
           "chl_label": "low chlorophyll",
           "river_label": "low river discharge",
           "sinuosity_label": "straight",
           "slope_label": "sloping",
           "style": {
            "color": "yellow",
            "dashArray": "5",
            "fillOpacity": 0.5,
            "fill_color": "yellow",
            "opacity": 1,
            "weight": 4
           },
           "tidal_label": "moderately tidal",
           "turbid_label": "clear",
           "wave_label": "low wave energy"
          },
          "type": "Feature"
         },
         {
          "geometry": {
           "coordinates": [
            [
             -81.15815135499997,
             29.544530879000035
            ],
            [
             -81.15797507499997,
             29.544013519000032
            ],
            [
             -81.15794991699994,
             29.543957828000032
            ],
            [
             -81.15773072999997,
             29.54352252800004
            ],
            [
             -81.15711306499998,
             29.54257135000006
            ],
            [
             -81.15651505499994,
             29.54168714000008
            ],
            [
             -81.15648563499997,
             29.54164918300006
            ],
            [
             -81.15645881099994,
             29.541595161000032
            ],
            [
             -81.15643963999997,
             29.54153348500006
            ],
            [
             -81.15642576499994,
             29.541466510000078
            ],
            [
             -81.15641523499994,
             29.541396192000036
            ],
            [
             -81.15639759799996,
             29.541252132000068
            ],
            [
             -81.15638742299996,
             29.54118145800004
            ],
            [
             -81.15637421599996,
             29.541113817000053
            ],
            [
             -81.15635613499995,
             29.54105105000008
            ],
            [
             -81.15633100199994,
             29.540995335000048
            ],
            [
             -81.15611296099996,
             29.540558890000057
            ],
            [
             -81.15597237799994,
             29.540343354000072
            ],
            [
             -81.15589571699996,
             29.540198645000032
            ],
            [
             -81.15562628699996,
             29.53965959100003
            ],
            [
             -81.15549753299996,
             29.539335978000054
            ],
            [
             -81.15528187899997,
             29.53888752200004
            ],
            [
             -81.15525383299996,
             29.538838568000074
            ],
            [
             -81.15522304199999,
             29.538801985000077
            ],
            [
             -81.15503168299995,
             29.53858910300005
            ],
            [
             -81.15481556499998,
             29.538314357000047
            ],
            [
             -81.15459641099994,
             29.537879024000063
            ],
            [
             -81.15457126699994,
             29.53782331900004
            ],
            [
             -81.15455316099997,
             29.53776057600004
            ],
            [
             -81.15453992599998,
             29.53769296300004
            ],
            [
             -81.15452974199997,
             29.537622299000077
            ],
            [
             -81.15451228199998,
             29.537478062000048
            ],
            [
             -81.15450965999997,
             29.537459952000063
            ]
           ],
           "type": "LineString"
          },
          "id": "5114",
          "properties": {
           "CHLOROPHYLL": 1.611638,
           "CSU_Descriptor": "sloping, straight, low erodibility, sub tropical moist, low river discharge, low wave energy, moderately tidal, euhaline-oxic-warm to very warm, clear, low chlorophyll",
           "CSU_ID": 33370,
           "Cluster": 2,
           "EMU_PHYSICAL": "Euhaline-Oxic-Warm to Very Warm",
           "ERODIBILITY": "Low",
           "GHM": 0.569271,
           "LENGTH_GEO": 867.0855238250028,
           "MAX_SLOPE": 14.219745,
           "MEAN_SIG_WAVEHEIGHT": 0.997365,
           "MasterKey": 3195096,
           "OBJECTID": 3195096,
           "OUTFLOW_DENSITY": 0,
           "OUTFLOW_DENSITY_RESCALED": 0,
           "REGIONAL_SINUOSITY": 1.008314,
           "RandomSort": 463417.386088918,
           "Shape_Length": 0.00803617835816143,
           "TEMP_MOISTURE": "Sub Tropical Moist",
           "TIDAL_RANGE": 1.780457,
           "TURBIDITY": 0.055,
           "chl_label": "low chlorophyll",
           "river_label": "low river discharge",
           "sinuosity_label": "straight",
           "slope_label": "sloping",
           "style": {
            "color": "yellow",
            "dashArray": "5",
            "fillOpacity": 0.5,
            "fill_color": "yellow",
            "opacity": 1,
            "weight": 4
           },
           "tidal_label": "moderately tidal",
           "turbid_label": "clear",
           "wave_label": "low wave energy"
          },
          "type": "Feature"
         },
         {
          "geometry": {
           "coordinates": [
            [
             -81.16163402199999,
             29.551673722000032
            ],
            [
             -81.16150148799994,
             29.55152290700005
            ],
            [
             -81.16136653899997,
             29.551388363000058
            ],
            [
             -81.16133564899997,
             29.551351878000048
            ],
            [
             -81.16130749499996,
             29.551303035000046
            ],
            [
             -81.16052616999997,
             29.54973590800006
            ],
            [
             -81.16050087699995,
             29.549680352000053
            ],
            [
             -81.16020775399994,
             29.548822347000055
            ],
            [
             -81.15987981399996,
             29.547849015000054
            ],
            [
             -81.15986065899995,
             29.547787322000033
            ],
            [
             -81.15983386199997,
             29.547733270000037
            ],
            [
             -81.15934525899996,
             29.54702839600003
            ],
            [
             -81.15907355799999,
             29.54667448400005
            ],
            [
             -81.15859547299993,
             29.545845520000057
            ],
            [
             -81.15826761999995,
             29.544872101000067
            ],
            [
             -81.15815135499997,
             29.544530879000035
            ]
           ],
           "type": "LineString"
          },
          "id": "5115",
          "properties": {
           "CHLOROPHYLL": 1.611994,
           "CSU_Descriptor": "sloping, straight, low erodibility, sub tropical moist, low river discharge, low wave energy, moderately tidal, euhaline-oxic-warm to very warm, clear, low chlorophyll",
           "CSU_ID": 33370,
           "Cluster": 2,
           "EMU_PHYSICAL": "Euhaline-Oxic-Warm to Very Warm",
           "ERODIBILITY": "Low",
           "GHM": 0.562215,
           "LENGTH_GEO": 866.9494008641831,
           "MAX_SLOPE": 20.313735,
           "MEAN_SIG_WAVEHEIGHT": 0.997365,
           "MasterKey": 3195097,
           "OBJECTID": 3195097,
           "OUTFLOW_DENSITY": 0,
           "OUTFLOW_DENSITY_RESCALED": 0,
           "REGIONAL_SINUOSITY": 1.008314,
           "RandomSort": 283816.363589803,
           "Shape_Length": 0.008014793555007154,
           "TEMP_MOISTURE": "Sub Tropical Moist",
           "TIDAL_RANGE": 1.789799,
           "TURBIDITY": 0.0476,
           "chl_label": "low chlorophyll",
           "river_label": "low river discharge",
           "sinuosity_label": "straight",
           "slope_label": "sloping",
           "style": {
            "color": "yellow",
            "dashArray": "5",
            "fillOpacity": 0.5,
            "fill_color": "yellow",
            "opacity": 1,
            "weight": 4
           },
           "tidal_label": "moderately tidal",
           "turbid_label": "clear",
           "wave_label": "low wave energy"
          },
          "type": "Feature"
         },
         {
          "geometry": {
           "coordinates": [
            [
             -81.16498339299994,
             29.558844928000042
            ],
            [
             -81.16498098699998,
             29.558836668000026
            ],
            [
             -81.16495569599994,
             29.55878111000004
            ],
            [
             -81.16473661499998,
             29.55834570500008
            ],
            [
             -81.16465949999997,
             29.55820145000007
            ],
            [
             -81.16451831699999,
             29.55798651500004
            ],
            [
             -81.16429922499998,
             29.55755111900004
            ],
            [
             -81.16427393199996,
             29.557495564000078
            ],
            [
             -81.16425569199998,
             29.55743295700006
            ],
            [
             -81.16424233699996,
             29.557365462000064
            ],
            [
             -81.16423205399997,
             29.557294897000077
            ],
            [
             -81.16421444199995,
             29.55715081200003
            ],
            [
             -81.16420416199998,
             29.557080244000076
            ],
            [
             -81.16419081599997,
             29.55701274100005
            ],
            [
             -81.16417258499996,
             29.556950123000036
            ],
            [
             -81.16414730499997,
             29.556894555000042
            ],
            [
             -81.16336673099994,
             29.55532667700004
            ],
            [
             -81.16333868199996,
             29.555277725000053
            ],
            [
             -81.16330788999994,
             29.55524114600007
            ],
            [
             -81.16311652399997,
             29.555028270000037
            ],
            [
             -81.16290040199993,
             29.55475352600007
            ],
            [
             -81.16268124899995,
             29.55431819300003
            ],
            [
             -81.16265610499994,
             29.554262488000063
            ],
            [
             -81.16263799899997,
             29.55419974600005
            ],
            [
             -81.16262476399999,
             29.554132134000042
            ],
            [
             -81.16261457899998,
             29.554061469000033
            ],
            [
             -81.16259711899994,
             29.55391723200006
            ],
            [
             -81.16258689399996,
             29.55384661000005
            ],
            [
             -81.16257359099995,
             29.55377906500007
            ],
            [
             -81.16255538999997,
             29.553716416000043
            ],
            [
             -81.16253012899995,
             29.553660828000034
            ],
            [
             -81.16231118499996,
             29.553225286000043
            ],
            [
             -81.16217008599995,
             29.553010267000047
            ],
            [
             -81.16209306399998,
             29.552865919000055
            ],
            [
             -81.16187471299997,
             29.552429782000047
            ],
            [
             -81.161849567,
             29.55237408100004
            ],
            [
             -81.16183147399994,
             29.552311325000062
            ],
            [
             -81.16181825799998,
             29.552243694000026
            ],
            [
             -81.16180807399996,
             29.552173028000027
            ],
            [
             -81.16179042399995,
             29.552028981000035
            ],
            [
             -81.16177988799996,
             29.551958669000044
            ],
            [
             -81.16176600799997,
             29.551891700000056
            ],
            [
             -81.16174682799993,
             29.551830031000065
            ],
            [
             -81.16171999499994,
             29.551776016000076
            ],
            [
             -81.16169056899997,
             29.551738069000066
            ],
            [
             -81.16163402199999,
             29.551673722000032
            ]
           ],
           "type": "LineString"
          },
          "id": "5116",
          "properties": {
           "CHLOROPHYLL": 1.631854,
           "CSU_Descriptor": "sloping, straight, low erodibility, sub tropical moist, low river discharge, low wave energy, moderately tidal, euhaline-oxic-warm to very warm, clear, low chlorophyll",
           "CSU_ID": 33370,
           "Cluster": 2,
           "EMU_PHYSICAL": "Euhaline-Oxic-Warm to Very Warm",
           "ERODIBILITY": "Low",
           "GHM": 0.5989,
           "LENGTH_GEO": 866.8603065639834,
           "MAX_SLOPE": 12.664399,
           "MEAN_SIG_WAVEHEIGHT": 0.997365,
           "MasterKey": 3195098,
           "OBJECTID": 3195098,
           "OUTFLOW_DENSITY": 0,
           "OUTFLOW_DENSITY_RESCALED": 0,
           "REGIONAL_SINUOSITY": 1.008314,
           "RandomSort": 2632163.40947423,
           "Shape_Length": 0.008006412737049697,
           "TEMP_MOISTURE": "Sub Tropical Moist",
           "TIDAL_RANGE": 1.789799,
           "TURBIDITY": 0.0476,
           "chl_label": "low chlorophyll",
           "river_label": "low river discharge",
           "sinuosity_label": "straight",
           "slope_label": "sloping",
           "style": {
            "color": "yellow",
            "dashArray": "5",
            "fillOpacity": 0.5,
            "fill_color": "yellow",
            "opacity": 1,
            "weight": 4
           },
           "tidal_label": "moderately tidal",
           "turbid_label": "clear",
           "wave_label": "low wave energy"
          },
          "type": "Feature"
         },
         {
          "geometry": {
           "coordinates": [
            [
             -81.16828090799999,
             29.56603775600007
            ],
            [
             -81.16798893499998,
             29.56523408000004
            ],
            [
             -81.16797836899997,
             29.565163796000036
            ],
            [
             -81.16796446599994,
             29.565096853000057
            ],
            [
             -81.16794526599995,
             29.565035203000036
            ],
            [
             -81.16791841599996,
             29.564981206000027
            ],
            [
             -81.16788897799995,
             29.56494327200005
            ],
            [
             -81.16769983099994,
             29.564728175000027
            ],
            [
             -81.16748352099995,
             29.56445362100004
            ],
            [
             -81.16721228799997,
             29.563916370000072
            ],
            [
             -81.16699392599998,
             29.56348024500005
            ],
            [
             -81.16696865099993,
             29.563424670000074
            ],
            [
             -81.16667543699998,
             29.56256675900005
            ],
            [
             -81.16634752799996,
             29.561593392000077
            ],
            [
             -81.16632940499994,
             29.561530669000035
            ],
            [
             -81.16630424599998,
             29.561474979000025
            ],
            [
             -81.16608503699996,
             29.561039700000038
            ],
            [
             -81.16586888599994,
             29.560764988000074
            ],
            [
             -81.16567744899999,
             29.560552182000038
            ],
            [
             -81.16564663499997,
             29.560515621000036
            ],
            [
             -81.16561855999998,
             29.560466699000074
            ],
            [
             -81.16510750799995,
             29.559437782000032
            ],
            [
             -81.16508225199993,
             29.559382191000054
            ],
            [
             -81.16506404099994,
             29.55931955400007
            ],
            [
             -81.16505070999995,
             29.559252034000053
            ],
            [
             -81.16504044299995,
             29.559181454000054
            ],
            [
             -81.16502284899997,
             29.55903735100003
            ],
            [
             -81.16501257199997,
             29.558966781000038
            ],
            [
             -81.16499922199995,
             29.55889928000005
            ],
            [
             -81.16498339299994,
             29.558844928000042
            ]
           ],
           "type": "LineString"
          },
          "id": "5117",
          "properties": {
           "CHLOROPHYLL": 1.621199,
           "CSU_Descriptor": "sloping, straight, low erodibility, sub tropical moist, low river discharge, low wave energy, moderately tidal, euhaline-oxic-warm to very warm, clear, low chlorophyll",
           "CSU_ID": 33370,
           "Cluster": 2,
           "EMU_PHYSICAL": "Euhaline-Oxic-Warm to Very Warm",
           "ERODIBILITY": "Low",
           "GHM": 0.59171,
           "LENGTH_GEO": 866.773841966696,
           "MAX_SLOPE": 14.121604,
           "MEAN_SIG_WAVEHEIGHT": 0.997365,
           "MasterKey": 3195099,
           "OBJECTID": 3195099,
           "OUTFLOW_DENSITY": 0,
           "OUTFLOW_DENSITY_RESCALED": 0,
           "REGIONAL_SINUOSITY": 1.009652,
           "RandomSort": 38099.509191087,
           "Shape_Length": 0.00799870223889527,
           "TEMP_MOISTURE": "Sub Tropical Moist",
           "TIDAL_RANGE": 1.805485,
           "TURBIDITY": 0.0476,
           "chl_label": "low chlorophyll",
           "river_label": "low river discharge",
           "sinuosity_label": "straight",
           "slope_label": "sloping",
           "style": {
            "color": "yellow",
            "dashArray": "5",
            "fillOpacity": 0.5,
            "fill_color": "yellow",
            "opacity": 1,
            "weight": 4
           },
           "tidal_label": "moderately tidal",
           "turbid_label": "clear",
           "wave_label": "low wave energy"
          },
          "type": "Feature"
         },
         {
          "geometry": {
           "coordinates": [
            [
             -81.16935627922106,
             29.568838
            ],
            [
             -81.16917984999998,
             29.568638048000025
            ],
            [
             -81.16915058599994,
             29.568599937000045
            ],
            [
             -81.16912523199994,
             29.56854829300005
            ],
            [
             -81.16910724999997,
             29.568489278000072
            ],
            [
             -81.16909472099996,
             29.56842480800003
            ],
            [
             -81.16908611799994,
             29.56835641300006
            ],
            [
             -81.16908020799997,
             29.568285324000044
            ],
            [
             -81.16906509799998,
             29.567992441000058
            ],
            [
             -81.16905940199996,
             29.56792113800003
            ],
            [
             -81.16905117299996,
             29.567852368000047
            ],
            [
             -81.16903926599997,
             29.567787277000036
            ],
            [
             -81.16902226599996,
             29.567727279000053
            ],
            [
             -81.16899842299995,
             29.567674124000064
            ],
            [
             -81.16877852099998,
             29.567239538000024
            ],
            [
             -81.16854414099998,
             29.566727032000074
            ],
            [
             -81.16829261399994,
             29.566069979000076
            ],
            [
             -81.16828090799999,
             29.56603775600007
            ]
           ],
           "type": "LineString"
          },
          "id": "5118",
          "properties": {
           "CHLOROPHYLL": 1.595215,
           "CSU_Descriptor": "sloping, straight, low erodibility, sub tropical moist, low river discharge, low wave energy, moderately tidal, euhaline-oxic-warm to very warm, clear, low chlorophyll",
           "CSU_ID": 33370,
           "Cluster": 2,
           "EMU_PHYSICAL": "Euhaline-Oxic-Warm to Very Warm",
           "ERODIBILITY": "Low",
           "GHM": 0.650257,
           "LENGTH_GEO": 866.6767615258575,
           "MAX_SLOPE": 24.791954,
           "MEAN_SIG_WAVEHEIGHT": 0.997365,
           "MasterKey": 3195100,
           "OBJECTID": 3195100,
           "OUTFLOW_DENSITY": 0,
           "OUTFLOW_DENSITY_RESCALED": 0,
           "REGIONAL_SINUOSITY": 1.009652,
           "RandomSort": 2263980.1744524,
           "Shape_Length": 0.007987976071278725,
           "TEMP_MOISTURE": "Sub Tropical Moist",
           "TIDAL_RANGE": 1.805485,
           "TURBIDITY": 0.0476,
           "chl_label": "low chlorophyll",
           "river_label": "low river discharge",
           "sinuosity_label": "straight",
           "slope_label": "sloping",
           "style": {
            "color": "yellow",
            "dashArray": "5",
            "fillOpacity": 0.5,
            "fill_color": "yellow",
            "opacity": 1,
            "weight": 4
           },
           "tidal_label": "moderately tidal",
           "turbid_label": "clear",
           "wave_label": "low wave energy"
          },
          "type": "Feature"
         }
        ],
        "type": "FeatureCollection"
       },
       "hover_style": {
        "color": "white",
        "dashArray": "4",
        "fillOpacity": 0.7
       },
       "name": "SE_USA_Louisiana_Georgia_ref_shoreline",
       "style": {
        "color": "yellow",
        "dashArray": "5",
        "fillOpacity": 0.5,
        "fill_color": "yellow",
        "opacity": 1,
        "weight": 4
       }
      }
     },
     "5af4531268de4682a86b1b2709d53495": {
      "model_module": "jupyter-leaflet",
      "model_module_version": "^0.16.0",
      "model_name": "LeafletTileLayerModel",
      "state": {
       "_model_module_version": "^0.16.0",
       "_view_module_version": "^0.16.0",
       "attribution": "(C) OpenStreetMap contributors",
       "max_native_zoom": 18,
       "min_native_zoom": 0,
       "name": "OpenStreetMap.CH",
       "options": [
        "attribution",
        "bounds",
        "detect_retina",
        "max_native_zoom",
        "max_zoom",
        "min_native_zoom",
        "min_zoom",
        "no_wrap",
        "tile_size",
        "tms"
       ],
       "url": "https://tile.osm.ch/switzerland/{z}/{x}/{y}.png"
      }
     },
     "5c43c2b7c23140dcb67001a0a55ec7cc": {
      "model_module": "jupyter-leaflet",
      "model_module_version": "^0.16.0",
      "model_name": "LeafletTileLayerModel",
      "state": {
       "_model_module_version": "^0.16.0",
       "_view_module_version": "^0.16.0",
       "attribution": "Map data: (C) OpenSeaMap contributors",
       "max_native_zoom": 18,
       "max_zoom": 22,
       "min_native_zoom": 0,
       "name": "OpenSeaMap",
       "options": [
        "attribution",
        "bounds",
        "detect_retina",
        "max_native_zoom",
        "max_zoom",
        "min_native_zoom",
        "min_zoom",
        "no_wrap",
        "tile_size",
        "tms"
       ],
       "url": "https://tiles.openseamap.org/seamark/{z}/{x}/{y}.png"
      }
     },
     "5cf8687c1d4048a4b4182f736dc6ffb4": {
      "model_module": "jupyter-leaflet",
      "model_module_version": "^0.16.0",
      "model_name": "LeafletTileLayerModel",
      "state": {
       "_model_module_version": "^0.16.0",
       "_view_module_version": "^0.16.0",
       "attribution": "Tiles (C) Esri -- Esri, DeLorme, NAVTEQ, TomTom, Intermap, iPC, USGS, FAO, NPS, NRCAN, GeoBase, Kadaster NL, Ordnance Survey, Esri Japan, METI, Esri China (Hong Kong), and the GIS User Community",
       "max_native_zoom": 18,
       "max_zoom": 22,
       "min_native_zoom": 0,
       "name": "Esri.WorldTopoMap",
       "options": [
        "attribution",
        "bounds",
        "detect_retina",
        "max_native_zoom",
        "max_zoom",
        "min_native_zoom",
        "min_zoom",
        "no_wrap",
        "tile_size",
        "tms"
       ],
       "url": "https://server.arcgisonline.com/ArcGIS/rest/services/World_Topo_Map/MapServer/tile/{z}/{y}/{x}"
      }
     },
     "5d268ce56798437082309b0ed37774d3": {
      "model_module": "jupyter-leaflet",
      "model_module_version": "^0.16.0",
      "model_name": "LeafletTileLayerModel",
      "state": {
       "_model_module_version": "^0.16.0",
       "_view_module_version": "^0.16.0",
       "attribution": "(C) OpenStreetMap contributors (C) CARTO",
       "max_native_zoom": 18,
       "max_zoom": 20,
       "min_native_zoom": 0,
       "name": "CartoDB.DarkMatterNoLabels",
       "options": [
        "attribution",
        "bounds",
        "detect_retina",
        "max_native_zoom",
        "max_zoom",
        "min_native_zoom",
        "min_zoom",
        "no_wrap",
        "tile_size",
        "tms"
       ],
       "url": "https://a.basemaps.cartocdn.com/dark_nolabels/{z}/{x}/{y}.png"
      }
     },
     "5d2ef7f230df43abb216aead290bd950": {
      "model_module": "@jupyter-widgets/controls",
      "model_module_version": "1.5.0",
      "model_name": "DescriptionStyleModel",
      "state": {
       "description_width": ""
      }
     },
     "5d84d2f5a72548f3bc37341869cf9f64": {
      "model_module": "jupyter-leaflet",
      "model_module_version": "^0.16.0",
      "model_name": "LeafletTileLayerModel",
      "state": {
       "_model_module_version": "^0.16.0",
       "_view_module_version": "^0.16.0",
       "attribution": "Map memomaps.de CC-BY-SA, map data (C) OpenStreetMap contributors",
       "max_native_zoom": 18,
       "min_native_zoom": 0,
       "name": "OPNVKarte",
       "options": [
        "attribution",
        "bounds",
        "detect_retina",
        "max_native_zoom",
        "max_zoom",
        "min_native_zoom",
        "min_zoom",
        "no_wrap",
        "tile_size",
        "tms"
       ],
       "url": "https://tileserver.memomaps.de/tilegen/{z}/{x}/{y}.png"
      }
     },
     "5d9e89da55574780868d84fc8d903028": {
      "model_module": "jupyter-leaflet",
      "model_module_version": "^0.16.0",
      "model_name": "LeafletTileLayerModel",
      "state": {
       "_model_module_version": "^0.16.0",
       "_view_module_version": "^0.16.0",
       "attribution": "Map data: (C) OpenStreetMap contributors | Map style: (C) waymarkedtrails.org (CC-BY-SA)",
       "max_native_zoom": 18,
       "min_native_zoom": 0,
       "name": "WaymarkedTrails.riding",
       "options": [
        "attribution",
        "bounds",
        "detect_retina",
        "max_native_zoom",
        "max_zoom",
        "min_native_zoom",
        "min_zoom",
        "no_wrap",
        "tile_size",
        "tms"
       ],
       "url": "https://tile.waymarkedtrails.org/riding/{z}/{x}/{y}.png"
      }
     },
     "5db4f23db8e54c448f9e8c6d29b7881b": {
      "model_module": "@jupyter-widgets/controls",
      "model_module_version": "1.5.0",
      "model_name": "DescriptionStyleModel",
      "state": {
       "description_width": ""
      }
     },
     "6044414060a24e38b55e1eb50c8df3da": {
      "model_module": "jupyter-leaflet",
      "model_module_version": "^0.16.0",
      "model_name": "LeafletScaleControlModel",
      "state": {
       "_model_module_version": "^0.16.0",
       "_view_module_version": "^0.16.0",
       "imperial": true,
       "max_width": 100,
       "metric": true,
       "options": [
        "imperial",
        "max_width",
        "metric",
        "position",
        "update_when_idle"
       ],
       "position": "bottomleft",
       "update_when_idle": false
      }
     },
     "6050cec753f041fda510a3d8de5c9de6": {
      "model_module": "@jupyter-widgets/controls",
      "model_module_version": "1.5.0",
      "model_name": "ToggleButtonModel",
      "state": {
       "button_style": "primary",
       "icon": "adjust",
       "layout": "IPY_MODEL_dfda5b6aa96e44b29e6c5a930d8dfdd4",
       "style": "IPY_MODEL_8011e7bde57441d0bd13423b5a481309",
       "tooltip": "Planet imagery"
      }
     },
     "60837631b47e41098c41c81c50f1d04f": {
      "model_module": "jupyter-leaflet",
      "model_module_version": "^0.16.0",
      "model_name": "LeafletTileLayerModel",
      "state": {
       "_model_module_version": "^0.16.0",
       "_view_module_version": "^0.16.0",
       "attribution": "Tiles (C) Esri -- Sources: GEBCO, NOAA, CHS, OSU, UNH, CSUMB, National Geographic, DeLorme, NAVTEQ, and Esri",
       "max_native_zoom": 18,
       "max_zoom": 13,
       "min_native_zoom": 0,
       "name": "Esri.OceanBasemap",
       "options": [
        "attribution",
        "bounds",
        "detect_retina",
        "max_native_zoom",
        "max_zoom",
        "min_native_zoom",
        "min_zoom",
        "no_wrap",
        "tile_size",
        "tms"
       ],
       "url": "https://server.arcgisonline.com/ArcGIS/rest/services/Ocean_Basemap/MapServer/tile/{z}/{y}/{x}"
      }
     },
     "610f32209d3b40d4bcfbf488fc900195": {
      "model_module": "jupyter-leaflet",
      "model_module_version": "^0.16.0",
      "model_name": "LeafletTileLayerModel",
      "state": {
       "_model_module_version": "^0.16.0",
       "_view_module_version": "^0.16.0",
       "attribution": "Map data: (C) OpenStreetMap contributors | Map style: (C) SafeCast (CC-BY-SA)",
       "max_native_zoom": 18,
       "max_zoom": 16,
       "min_native_zoom": 0,
       "name": "SafeCast",
       "options": [
        "attribution",
        "bounds",
        "detect_retina",
        "max_native_zoom",
        "max_zoom",
        "min_native_zoom",
        "min_zoom",
        "no_wrap",
        "tile_size",
        "tms"
       ],
       "url": "https://s3.amazonaws.com/te512.safecast.org/{z}/{x}/{y}.png"
      }
     },
     "614f9292237c46c9843c2d8e2132907d": {
      "model_module": "jupyter-leaflet",
      "model_module_version": "^0.16.0",
      "model_name": "LeafletGeoJSONModel",
      "state": {
       "_model_module_version": "^0.16.0",
       "_view_module_version": "^0.16.0",
       "data": {
        "features": [
         {
          "geometry": {
           "coordinates": [
            [
             [
              -81.17381599999999,
              29.492883980050735
             ],
             [
              -81.17381599999999,
              29.531971871616403
             ],
             [
              -81.12890023579402,
              29.531971871616403
             ],
             [
              -81.12890023579402,
              29.492883980050735
             ],
             [
              -81.17381599999999,
              29.492883980050735
             ]
            ]
           ],
           "type": "Polygon"
          },
          "id": "28",
          "properties": {
           "CHLOROPHYLL": 1.613319,
           "CSU_Descriptor": "sloping, straight, low erodibility, sub tropical moist, low river discharge, low wave energy, moderately tidal, euhaline-oxic-warm to very warm, clear, low chlorophyll",
           "CSU_ID": 33370,
           "Cluster": 2,
           "EMU_PHYSICAL": "Euhaline-Oxic-Warm to Very Warm",
           "ERODIBILITY": "Low",
           "GHM": 0.59004,
           "LENGTH_GEO": 867.3093599767453,
           "MAX_SLOPE": 13.344147,
           "MEAN_SIG_WAVEHEIGHT": 0.932785,
           "MasterKey": 3195090,
           "OBJECTID": 3195090,
           "OUTFLOW_DENSITY": 0,
           "OUTFLOW_DENSITY_RESCALED": 0,
           "REGIONAL_SINUOSITY": 1.008314,
           "RandomSort": 2432887.75474734,
           "Shape_Length": 0.00800124385153516,
           "TEMP_MOISTURE": "Sub Tropical Moist",
           "TIDAL_RANGE": 1.774261,
           "TURBIDITY": 0.055,
           "chl_label": "low chlorophyll",
           "id": 28,
           "index_right": 5108,
           "river_label": "low river discharge",
           "sinuosity_label": "straight",
           "slope_label": "sloping",
           "style": {
            "color": "blue",
            "fillColor": "grey",
            "fillOpacity": 0.1,
            "weight": 3
           },
           "tidal_label": "moderately tidal",
           "turbid_label": "clear",
           "wave_label": "low wave energy"
          },
          "type": "Feature"
         }
        ],
        "type": "FeatureCollection"
       },
       "hover_style": {
        "color": "aqua",
        "fillColor": "blue"
       },
       "name": "Selected ROIs"
      }
     },
     "6189e1059aa0426ea39993ae3f5b0657": {
      "model_module": "jupyter-leaflet",
      "model_module_version": "^0.16.0",
      "model_name": "LeafletTileLayerModel",
      "state": {
       "_model_module_version": "^0.16.0",
       "_view_module_version": "^0.16.0",
       "attribution": "Map data: (C) OpenStreetMap contributors | Map style: (C) waymarkedtrails.org (CC-BY-SA)",
       "max_native_zoom": 18,
       "min_native_zoom": 0,
       "name": "WaymarkedTrails.skating",
       "options": [
        "attribution",
        "bounds",
        "detect_retina",
        "max_native_zoom",
        "max_zoom",
        "min_native_zoom",
        "min_zoom",
        "no_wrap",
        "tile_size",
        "tms"
       ],
       "url": "https://tile.waymarkedtrails.org/skating/{z}/{x}/{y}.png"
      }
     },
     "61c68f9a53984a018d7e8ec6d822762c": {
      "model_module": "@jupyter-widgets/controls",
      "model_module_version": "1.5.0",
      "model_name": "HBoxModel",
      "state": {
       "children": [
        "IPY_MODEL_e39cb4549c7e4cbaae6e1b816de47692",
        "IPY_MODEL_8cd9b1ff41eb4c73a282ae72086b7375"
       ],
       "layout": "IPY_MODEL_374aec389ace4b07abdd40d09dd391a3"
      }
     },
     "63cd6f11ea2748d9840e3fd647acc495": {
      "model_module": "@jupyter-widgets/output",
      "model_module_version": "1.0.0",
      "model_name": "OutputModel",
      "state": {
       "layout": "IPY_MODEL_c2c559c7ddac4e049e857235a17a9a54"
      }
     },
     "64705602774849a08b03a608bffafbc7": {
      "model_module": "jupyter-leaflet",
      "model_module_version": "^0.16.0",
      "model_name": "LeafletTileLayerModel",
      "state": {
       "_model_module_version": "^0.16.0",
       "_view_module_version": "^0.16.0",
       "attribution": "Map tiles by Stamen Design, CC BY 3.0 -- Map data (C) OpenStreetMap contributors",
       "max_native_zoom": 18,
       "min_native_zoom": 0,
       "name": "Stamen.TerrainLabels",
       "options": [
        "attribution",
        "bounds",
        "detect_retina",
        "max_native_zoom",
        "max_zoom",
        "min_native_zoom",
        "min_zoom",
        "no_wrap",
        "tile_size",
        "tms"
       ],
       "url": "https://stamen-tiles-a.a.ssl.fastly.net/terrain-labels/{z}/{x}/{y}.png"
      }
     },
     "648e43d6d3254c798dcb656220bf9d61": {
      "model_module": "jupyter-leaflet",
      "model_module_version": "^0.16.0",
      "model_name": "LeafletTileLayerModel",
      "state": {
       "_model_module_version": "^0.16.0",
       "_view_module_version": "^0.16.0",
       "attribution": "Tiles courtesy of the U.S. Geological Survey",
       "max_native_zoom": 18,
       "max_zoom": 20,
       "min_native_zoom": 0,
       "name": "USGS.USImageryTopo",
       "options": [
        "attribution",
        "bounds",
        "detect_retina",
        "max_native_zoom",
        "max_zoom",
        "min_native_zoom",
        "min_zoom",
        "no_wrap",
        "tile_size",
        "tms"
       ],
       "url": "https://basemap.nationalmap.gov/arcgis/rest/services/USGSImageryTopo/MapServer/tile/{z}/{y}/{x}"
      }
     },
     "6602fef8229046978fa22b9ea6368c99": {
      "model_module": "@jupyter-widgets/controls",
      "model_module_version": "1.5.0",
      "model_name": "ToggleButtonModel",
      "state": {
       "button_style": "primary",
       "icon": "fast-forward",
       "layout": "IPY_MODEL_3731dc30485e4ec98f30a79ca7314d01",
       "style": "IPY_MODEL_44ccb60cc09a48e69b1ef62b256ee5b4",
       "tooltip": "Activate the time slider"
      }
     },
     "66376fc5372745cdaa90a7faf66edc88": {
      "model_module": "@jupyter-widgets/controls",
      "model_module_version": "1.5.0",
      "model_name": "DescriptionStyleModel",
      "state": {
       "description_width": ""
      }
     },
     "66dc69d15fc24a0cac1b84984fc6a807": {
      "model_module": "jupyter-leaflet",
      "model_module_version": "^0.16.0",
      "model_name": "LeafletTileLayerModel",
      "state": {
       "_model_module_version": "^0.16.0",
       "_view_module_version": "^0.16.0",
       "attribution": "(C) OpenStreetMap contributors & USGS",
       "max_native_zoom": 18,
       "max_zoom": 22,
       "min_native_zoom": 0,
       "name": "MtbMap",
       "options": [
        "attribution",
        "bounds",
        "detect_retina",
        "max_native_zoom",
        "max_zoom",
        "min_native_zoom",
        "min_zoom",
        "no_wrap",
        "tile_size",
        "tms"
       ],
       "url": "http://tile.mtbmap.cz/mtbmap_tiles/{z}/{x}/{y}.png"
      }
     },
     "66f2c482b640411ab6c99ed2211eeef1": {
      "model_module": "@jupyter-widgets/base",
      "model_module_version": "1.2.0",
      "model_name": "LayoutModel",
      "state": {}
     },
     "68ae9ed9eef94add8b2fa347524720be": {
      "model_module": "@jupyter-widgets/controls",
      "model_module_version": "1.5.0",
      "model_name": "DescriptionStyleModel",
      "state": {
       "description_width": ""
      }
     },
     "691386963ec84d2380adf6563ef37680": {
      "model_module": "@jupyter-widgets/controls",
      "model_module_version": "1.5.0",
      "model_name": "HTMLModel",
      "state": {
       "layout": "IPY_MODEL_69fc4a18fe1842fe9dc61a28773a8e45",
       "style": "IPY_MODEL_03e449e7e2744a23bcc93ad10c91c668",
       "value": "<h4>Click ONE of the following buttons:</h4>"
      }
     },
     "69fc4a18fe1842fe9dc61a28773a8e45": {
      "model_module": "@jupyter-widgets/base",
      "model_module_version": "1.2.0",
      "model_name": "LayoutModel",
      "state": {
       "margin": "0px 0px 0px 0px"
      }
     },
     "6a6f798752744dd89ef73b6ffa9c5dea": {
      "model_module": "@jupyter-widgets/controls",
      "model_module_version": "1.5.0",
      "model_name": "DescriptionStyleModel",
      "state": {
       "description_width": ""
      }
     },
     "6c1157dc27ba4b4781a385ecdc7bec9f": {
      "model_module": "jupyter-leaflet",
      "model_module_version": "^0.16.0",
      "model_name": "LeafletTileLayerModel",
      "state": {
       "_model_module_version": "^0.16.0",
       "_view_module_version": "^0.16.0",
       "attribution": "Imagery provided by NOAA National Centers for Environmental Information (NCEI); International Bathymetric Chart of the Southern Ocean (IBCSO); General Bathymetric Chart of the Oceans (GEBCO).",
       "max_native_zoom": 18,
       "max_zoom": 9,
       "min_native_zoom": 0,
       "name": "Esri.AntarcticBasemap",
       "options": [
        "attribution",
        "bounds",
        "detect_retina",
        "max_native_zoom",
        "max_zoom",
        "min_native_zoom",
        "min_zoom",
        "no_wrap",
        "tile_size",
        "tms"
       ],
       "url": "https://tiles.arcgis.com/tiles/C8EMgrsFcRFL6LrL/arcgis/rest/services/Antarctic_Basemap/MapServer/tile/{z}/{y}/{x}"
      }
     },
     "6d32231a9f2147f0813daecdc6c62ed9": {
      "model_module": "@jupyter-widgets/controls",
      "model_module_version": "1.5.0",
      "model_name": "ToggleButtonModel",
      "state": {
       "button_style": "primary",
       "icon": "map",
       "layout": "IPY_MODEL_1c4f8eb0853745068f5f944f09adcf50",
       "style": "IPY_MODEL_6a6f798752744dd89ef73b6ffa9c5dea",
       "tooltip": "Change basemap"
      }
     },
     "7009fe5ca7cd4d05b2e33147f1588b34": {
      "model_module": "@jupyter-widgets/base",
      "model_module_version": "1.2.0",
      "model_name": "LayoutModel",
      "state": {
       "height": "auto",
       "padding": "0px 0px 0px 4px",
       "width": "auto"
      }
     },
     "72179068329e46dca3e49c22a5a7c9bb": {
      "model_module": "jupyter-leaflet",
      "model_module_version": "^0.16.0",
      "model_name": "LeafletTileLayerModel",
      "state": {
       "_model_module_version": "^0.16.0",
       "_view_module_version": "^0.16.0",
       "attribution": "(C) OpenStreetMap contributors (C) CARTO",
       "max_native_zoom": 18,
       "max_zoom": 20,
       "min_native_zoom": 0,
       "name": "CartoDB.Positron",
       "options": [
        "attribution",
        "bounds",
        "detect_retina",
        "max_native_zoom",
        "max_zoom",
        "min_native_zoom",
        "min_zoom",
        "no_wrap",
        "tile_size",
        "tms"
       ],
       "url": "https://a.basemaps.cartocdn.com/light_all/{z}/{x}/{y}.png"
      }
     },
     "72f21bb59fa44472b29de7aeb9665ba5": {
      "model_module": "jupyter-leaflet",
      "model_module_version": "^0.16.0",
      "model_name": "LeafletTileLayerModel",
      "state": {
       "_model_module_version": "^0.16.0",
       "_view_module_version": "^0.16.0",
       "attribution": "Earthstar Geographics",
       "max_native_zoom": 18,
       "max_zoom": 24,
       "min_native_zoom": 0,
       "name": "Esri.AntarcticImagery",
       "options": [
        "attribution",
        "bounds",
        "detect_retina",
        "max_native_zoom",
        "max_zoom",
        "min_native_zoom",
        "min_zoom",
        "no_wrap",
        "tile_size",
        "tms"
       ],
       "url": "http://server.arcgisonline.com/ArcGIS/rest/services/Polar/Antarctic_Imagery/MapServer/tile/{z}/{y}/{x}"
      }
     },
     "737cf74763354abda9fdae5232d97d75": {
      "model_module": "jupyter-leaflet",
      "model_module_version": "^0.16.0",
      "model_name": "LeafletTileLayerModel",
      "state": {
       "_model_module_version": "^0.16.0",
       "_view_module_version": "^0.16.0",
       "attribution": "Imagery provided by services from the Global Imagery Browse Services (GIBS), operated by the NASA/GSFC/Earth Science Data and Information System (ESDIS) with funding provided by NASA/HQ.",
       "max_native_zoom": 18,
       "max_zoom": 5,
       "min_native_zoom": 0,
       "name": "NASAGIBS.BlueMarble3031",
       "options": [
        "attribution",
        "bounds",
        "detect_retina",
        "max_native_zoom",
        "max_zoom",
        "min_native_zoom",
        "min_zoom",
        "no_wrap",
        "tile_size",
        "tms"
       ],
       "url": "https://gibs.earthdata.nasa.gov/wmts/epsg3031/best/BlueMarble_NextGeneration/default/EPSG3031_500m/{z}/{y}/{x}.jpeg"
      }
     },
     "743898d74c4943da88d2da360b785a22": {
      "model_module": "jupyter-leaflet",
      "model_module_version": "^0.16.0",
      "model_name": "LeafletTileLayerModel",
      "state": {
       "_model_module_version": "^0.16.0",
       "_view_module_version": "^0.16.0",
       "attribution": "Map tiles by Stamen Design, CC BY 3.0 -- Map data (C) OpenStreetMap contributors",
       "max_native_zoom": 18,
       "max_zoom": 16,
       "min_native_zoom": 0,
       "name": "Stamen.Watercolor",
       "options": [
        "attribution",
        "bounds",
        "detect_retina",
        "max_native_zoom",
        "max_zoom",
        "min_native_zoom",
        "min_zoom",
        "no_wrap",
        "tile_size",
        "tms"
       ],
       "url": "https://stamen-tiles-a.a.ssl.fastly.net/watercolor/{z}/{x}/{y}.jpg"
      }
     },
     "765700339e574c2ea9adaa09178643a9": {
      "model_module": "@jupyter-widgets/controls",
      "model_module_version": "1.5.0",
      "model_name": "DescriptionStyleModel",
      "state": {
       "description_width": ""
      }
     },
     "7683c2c7bb174f168d97ec41fc4bc9c1": {
      "model_module": "jupyter-leaflet",
      "model_module_version": "^0.16.0",
      "model_name": "LeafletTileLayerModel",
      "state": {
       "_model_module_version": "^0.16.0",
       "_view_module_version": "^0.16.0",
       "attribution": "(C) OpenStreetMap contributors",
       "max_native_zoom": 18,
       "max_zoom": 19,
       "min_native_zoom": 0,
       "name": "HikeBike.HikeBike",
       "options": [
        "attribution",
        "bounds",
        "detect_retina",
        "max_native_zoom",
        "max_zoom",
        "min_native_zoom",
        "min_zoom",
        "no_wrap",
        "tile_size",
        "tms"
       ],
       "url": "https://tiles.wmflabs.org/hikebike/{z}/{x}/{y}.png"
      }
     },
     "7780abee2074424a9c1d0efacebc9e99": {
      "model_module": "jupyter-leaflet",
      "model_module_version": "^0.16.0",
      "model_name": "LeafletWMSLayerModel",
      "state": {
       "_model_module_version": "^0.16.0",
       "_view_module_version": "^0.16.0",
       "attribution": "MRLC",
       "crs": {
        "custom": false,
        "name": "EPSG3857"
       },
       "format": "image/png",
       "layers": "NLCD_2019_Land_Cover_L48",
       "max_native_zoom": 18,
       "min_native_zoom": 0,
       "name": "NLCD 2019 CONUS Land Cover",
       "options": [
        "attribution",
        "bounds",
        "detect_retina",
        "format",
        "layers",
        "max_native_zoom",
        "max_zoom",
        "min_native_zoom",
        "min_zoom",
        "no_wrap",
        "styles",
        "tile_size",
        "tms",
        "transparent",
        "uppercase"
       ],
       "transparent": true,
       "url": "https://www.mrlc.gov/geoserver/mrlc_display/NLCD_2019_Land_Cover_L48/wms?"
      }
     },
     "7850600e88ce44a3b00dde0ef67cb488": {
      "model_module": "@jupyter-widgets/controls",
      "model_module_version": "1.5.0",
      "model_name": "HBoxModel",
      "state": {
       "children": [
        "IPY_MODEL_9264c3b95f5849bf8b4b2c0c13a228d0",
        "IPY_MODEL_a1e5de67d95945748f688ea6acfceabd"
       ],
       "layout": "IPY_MODEL_ab02fdc59d5443aa8e28ff3fdb2d4ada"
      }
     },
     "785c60413be6402e8ef5a764f86a43b4": {
      "model_module": "@jupyter-widgets/base",
      "model_module_version": "1.2.0",
      "model_name": "LayoutModel",
      "state": {}
     },
     "789ad5c53e614c62a94e3b6622110fc7": {
      "model_module": "jupyter-leaflet",
      "model_module_version": "^0.16.0",
      "model_name": "LeafletWMSLayerModel",
      "state": {
       "_model_module_version": "^0.16.0",
       "_view_module_version": "^0.16.0",
       "attribution": "MRLC",
       "crs": {
        "custom": false,
        "name": "EPSG3857"
       },
       "format": "image/png",
       "layers": "NLCD_2011_Land_Cover_L48",
       "max_native_zoom": 18,
       "min_native_zoom": 0,
       "name": "NLCD 2011 CONUS Land Cover",
       "options": [
        "attribution",
        "bounds",
        "detect_retina",
        "format",
        "layers",
        "max_native_zoom",
        "max_zoom",
        "min_native_zoom",
        "min_zoom",
        "no_wrap",
        "styles",
        "tile_size",
        "tms",
        "transparent",
        "uppercase"
       ],
       "transparent": true,
       "url": "https://www.mrlc.gov/geoserver/mrlc_display/NLCD_2011_Land_Cover_L48/wms?"
      }
     },
     "78ff40673d3449dda6c3e4025ca2dcca": {
      "model_module": "jupyter-leaflet",
      "model_module_version": "^0.16.0",
      "model_name": "LeafletTileLayerModel",
      "state": {
       "_model_module_version": "^0.16.0",
       "_view_module_version": "^0.16.0",
       "attribution": "Google",
       "max_native_zoom": 18,
       "max_zoom": 22,
       "min_native_zoom": 0,
       "name": "Google Maps",
       "options": [
        "attribution",
        "bounds",
        "detect_retina",
        "max_native_zoom",
        "max_zoom",
        "min_native_zoom",
        "min_zoom",
        "no_wrap",
        "tile_size",
        "tms"
       ],
       "url": "https://mt1.google.com/vt/lyrs=m&x={x}&y={y}&z={z}"
      }
     },
     "79ed0243e5a64c9198f1ebc88a9edde7": {
      "model_module": "@jupyter-widgets/base",
      "model_module_version": "1.2.0",
      "model_name": "LayoutModel",
      "state": {
       "height": "auto",
       "padding": "0px 0px 0px 4px",
       "width": "auto"
      }
     },
     "7a44c883b4c94bd3ba1348664e66cb3d": {
      "model_module": "@jupyter-widgets/base",
      "model_module_version": "1.2.0",
      "model_name": "LayoutModel",
      "state": {}
     },
     "7a5b79ba721c4d6fb495515c473fc2d1": {
      "model_module": "jupyter-leaflet",
      "model_module_version": "^0.16.0",
      "model_name": "LeafletTileLayerModel",
      "state": {
       "_model_module_version": "^0.16.0",
       "_view_module_version": "^0.16.0",
       "attribution": "Justice Map",
       "max_native_zoom": 18,
       "max_zoom": 22,
       "min_native_zoom": 0,
       "name": "JusticeMap.black",
       "options": [
        "attribution",
        "bounds",
        "detect_retina",
        "max_native_zoom",
        "max_zoom",
        "min_native_zoom",
        "min_zoom",
        "no_wrap",
        "tile_size",
        "tms"
       ],
       "url": "https://www.justicemap.org/tile/county/black/{z}/{x}/{y}.png"
      }
     },
     "7ae0827b15ec431dafabd70bd41d991f": {
      "model_module": "@jupyter-widgets/controls",
      "model_module_version": "1.5.0",
      "model_name": "DescriptionStyleModel",
      "state": {
       "description_width": ""
      }
     },
     "7aeefb20ce48457ea77f091204e53e2f": {
      "model_module": "jupyter-leaflet",
      "model_module_version": "^0.16.0",
      "model_name": "LeafletTileLayerModel",
      "state": {
       "_model_module_version": "^0.16.0",
       "_view_module_version": "^0.16.0",
       "attribution": "Tiles (C) Esri -- National Geographic, Esri, DeLorme, NAVTEQ, UNEP-WCMC, USGS, NASA, ESA, METI, NRCAN, GEBCO, NOAA, iPC",
       "max_native_zoom": 18,
       "max_zoom": 16,
       "min_native_zoom": 0,
       "name": "Esri.NatGeoWorldMap",
       "options": [
        "attribution",
        "bounds",
        "detect_retina",
        "max_native_zoom",
        "max_zoom",
        "min_native_zoom",
        "min_zoom",
        "no_wrap",
        "tile_size",
        "tms"
       ],
       "url": "https://server.arcgisonline.com/ArcGIS/rest/services/NatGeo_World_Map/MapServer/tile/{z}/{y}/{x}"
      }
     },
     "7b1386c080c242b9940994ed4e83d690": {
      "model_module": "@jupyter-widgets/base",
      "model_module_version": "1.2.0",
      "model_name": "LayoutModel",
      "state": {
       "height": "auto",
       "padding": "0px 0px 0px 4px",
       "width": "auto"
      }
     },
     "7b545ff0f8454c318e26874ec8dad7ef": {
      "model_module": "@jupyter-widgets/controls",
      "model_module_version": "1.5.0",
      "model_name": "ButtonModel",
      "state": {
       "description": "Load Transects",
       "layout": "IPY_MODEL_0e0e833e3c1d49709d88df835c4887a7",
       "style": "IPY_MODEL_e88f60975d294615909ec61662f5be7c"
      }
     },
     "7c142c1340cb41808544f73c9977fa0d": {
      "model_module": "@jupyter-widgets/base",
      "model_module_version": "1.2.0",
      "model_name": "LayoutModel",
      "state": {
       "padding": "10px"
      }
     },
     "7cf7c5e647f44457bfbf8087799ec221": {
      "model_module": "@jupyter-widgets/controls",
      "model_module_version": "1.5.0",
      "model_name": "ToggleButtonModel",
      "state": {
       "button_style": "primary",
       "icon": "camera",
       "layout": "IPY_MODEL_ebec2fba2c3b4c2ca90883c410a12def",
       "style": "IPY_MODEL_486d95a0f10144eea66b4a3dcc9d4b81",
       "tooltip": "Save map as HTML or image"
      }
     },
     "7db30266734d4f8ba4a18f25fc41e9f9": {
      "model_module": "jupyter-leaflet",
      "model_module_version": "^0.16.0",
      "model_name": "LeafletLayersControlModel",
      "state": {
       "_model_module_version": "^0.16.0",
       "_view_module_version": "^0.16.0",
       "options": [
        "position"
       ],
       "position": "topright"
      }
     },
     "7dd89e93cf404d238ebb61608cd5abdb": {
      "model_module": "jupyter-leaflet",
      "model_module_version": "^0.16.0",
      "model_name": "LeafletTileLayerModel",
      "state": {
       "_model_module_version": "^0.16.0",
       "_view_module_version": "^0.16.0",
       "attribution": "Imagery provided by services from the Global Imagery Browse Services (GIBS), operated by the NASA/GSFC/Earth Science Data and Information System (ESDIS) with funding provided by NASA/HQ.",
       "max_native_zoom": 18,
       "max_zoom": 5,
       "min_native_zoom": 0,
       "name": "NASAGIBS.BlueMarble3413",
       "options": [
        "attribution",
        "bounds",
        "detect_retina",
        "max_native_zoom",
        "max_zoom",
        "min_native_zoom",
        "min_zoom",
        "no_wrap",
        "tile_size",
        "tms"
       ],
       "url": "https://gibs.earthdata.nasa.gov/wmts/epsg3413/best/BlueMarble_NextGeneration/default/EPSG3413_500m/{z}/{y}/{x}.jpeg"
      }
     },
     "80037ae5f5514d3baa2ef846bba682e0": {
      "model_module": "@jupyter-widgets/base",
      "model_module_version": "1.2.0",
      "model_name": "LayoutModel",
      "state": {
       "height": "auto",
       "padding": "0px 0px 0px 4px",
       "width": "auto"
      }
     },
     "8011e7bde57441d0bd13423b5a481309": {
      "model_module": "@jupyter-widgets/controls",
      "model_module_version": "1.5.0",
      "model_name": "DescriptionStyleModel",
      "state": {
       "description_width": ""
      }
     },
     "810fd3ef431d41e698030b7d5fa28012": {
      "model_module": "jupyter-leaflet",
      "model_module_version": "^0.16.0",
      "model_name": "LeafletTileLayerModel",
      "state": {
       "_model_module_version": "^0.16.0",
       "_view_module_version": "^0.16.0",
       "attribution": "Tiles courtesy of the U.S. Geological Survey",
       "max_native_zoom": 18,
       "max_zoom": 20,
       "min_native_zoom": 0,
       "name": "USGS.USTopo",
       "options": [
        "attribution",
        "bounds",
        "detect_retina",
        "max_native_zoom",
        "max_zoom",
        "min_native_zoom",
        "min_zoom",
        "no_wrap",
        "tile_size",
        "tms"
       ],
       "url": "https://basemap.nationalmap.gov/arcgis/rest/services/USGSTopo/MapServer/tile/{z}/{y}/{x}"
      }
     },
     "81ad0cb9232a431ab146e68a40bae4df": {
      "model_module": "@jupyter-widgets/controls",
      "model_module_version": "1.5.0",
      "model_name": "DescriptionStyleModel",
      "state": {
       "description_width": ""
      }
     },
     "823b3da1e75e4b2d801da6b08d8129c3": {
      "model_module": "@jupyter-widgets/controls",
      "model_module_version": "1.5.0",
      "model_name": "DescriptionStyleModel",
      "state": {
       "description_width": ""
      }
     },
     "83aee2492fcf4c9690db340618c67dcb": {
      "model_module": "@jupyter-widgets/controls",
      "model_module_version": "1.5.0",
      "model_name": "DescriptionStyleModel",
      "state": {
       "description_width": ""
      }
     },
     "84d2cdee4dbe461da68987349832c18a": {
      "model_module": "jupyter-leaflet",
      "model_module_version": "^0.16.0",
      "model_name": "LeafletGeoJSONModel",
      "state": {
       "_model_module_version": "^0.16.0",
       "_view_module_version": "^0.16.0",
       "data": {
        "features": [
         {
          "geometry": {
           "coordinates": [
            [
             [
              -81.17381599999999,
              29.492883980050735
             ],
             [
              -81.17381599999999,
              29.531971871616403
             ],
             [
              -81.12890023579402,
              29.531971871616403
             ],
             [
              -81.12890023579402,
              29.492883980050735
             ],
             [
              -81.17381599999999,
              29.492883980050735
             ]
            ]
           ],
           "type": "Polygon"
          },
          "id": "28",
          "properties": {
           "CHLOROPHYLL": 1.613319,
           "CSU_Descriptor": "sloping, straight, low erodibility, sub tropical moist, low river discharge, low wave energy, moderately tidal, euhaline-oxic-warm to very warm, clear, low chlorophyll",
           "CSU_ID": 33370,
           "Cluster": 2,
           "EMU_PHYSICAL": "Euhaline-Oxic-Warm to Very Warm",
           "ERODIBILITY": "Low",
           "GHM": 0.59004,
           "LENGTH_GEO": 867.3093599767453,
           "MAX_SLOPE": 13.344147,
           "MEAN_SIG_WAVEHEIGHT": 0.932785,
           "MasterKey": 3195090,
           "OBJECTID": 3195090,
           "OUTFLOW_DENSITY": 0,
           "OUTFLOW_DENSITY_RESCALED": 0,
           "REGIONAL_SINUOSITY": 1.008314,
           "RandomSort": 2432887.75474734,
           "Shape_Length": 0.00800124385153516,
           "TEMP_MOISTURE": "Sub Tropical Moist",
           "TIDAL_RANGE": 1.774261,
           "TURBIDITY": 0.055,
           "chl_label": "low chlorophyll",
           "id": 28,
           "index_right": 5108,
           "river_label": "low river discharge",
           "sinuosity_label": "straight",
           "slope_label": "sloping",
           "style": {
            "color": "blue",
            "fillColor": "grey",
            "fillOpacity": 0.1,
            "weight": 3
           },
           "tidal_label": "moderately tidal",
           "turbid_label": "clear",
           "wave_label": "low wave energy"
          },
          "type": "Feature"
         }
        ],
        "type": "FeatureCollection"
       },
       "hover_style": {
        "color": "aqua",
        "fillColor": "blue"
       },
       "name": "Selected ROIs"
      }
     },
     "856a5ed12fc64a6a89b37e184a45b8c0": {
      "model_module": "@jupyter-widgets/controls",
      "model_module_version": "1.5.0",
      "model_name": "ButtonModel",
      "state": {
       "description": "Run Model",
       "layout": "IPY_MODEL_66f2c482b640411ab6c99ed2211eeef1",
       "style": "IPY_MODEL_faaccb00a4814b4680ba16441bd14bf1"
      }
     },
     "85ac2592a1284db8a4daf253c48c68f8": {
      "model_module": "@jupyter-widgets/controls",
      "model_module_version": "1.5.0",
      "model_name": "CheckboxModel",
      "state": {
       "description": "Use GPU?",
       "disabled": false,
       "indent": false,
       "layout": "IPY_MODEL_7a44c883b4c94bd3ba1348664e66cb3d",
       "style": "IPY_MODEL_a97bca8bd73f4da88616701bb819000a",
       "value": false
      }
     },
     "85ffee7b863d4346b498d188e716a5f0": {
      "model_module": "@jupyter-widgets/controls",
      "model_module_version": "1.5.0",
      "model_name": "ButtonModel",
      "state": {
       "description": "Use Data Button",
       "layout": "IPY_MODEL_a92efa7b3ed3437fb8346ce04988acc5",
       "style": "IPY_MODEL_8ea3d2b41c6d479a9b0a32995c7ab6e4"
      }
     },
     "861a76639d084da78bbed03b246dfe74": {
      "model_module": "jupyter-leaflet",
      "model_module_version": "^0.16.0",
      "model_name": "LeafletTileLayerModel",
      "state": {
       "_model_module_version": "^0.16.0",
       "_view_module_version": "^0.16.0",
       "attribution": "Tiles (C) Esri -- Copyright: (C)2012 DeLorme",
       "max_native_zoom": 18,
       "max_zoom": 11,
       "min_native_zoom": 0,
       "name": "Esri.DeLorme",
       "options": [
        "attribution",
        "bounds",
        "detect_retina",
        "max_native_zoom",
        "max_zoom",
        "min_native_zoom",
        "min_zoom",
        "no_wrap",
        "tile_size",
        "tms"
       ],
       "url": "https://server.arcgisonline.com/ArcGIS/rest/services/Specialty/DeLorme_World_Base_Map/MapServer/tile/{z}/{y}/{x}"
      }
     },
     "86889a699ef64dbe8725b1ff48365c04": {
      "model_module": "@jupyter-widgets/base",
      "model_module_version": "1.2.0",
      "model_name": "LayoutModel",
      "state": {}
     },
     "8780dd38bdcf47b5bd8a26c545a97e4b": {
      "model_module": "@jupyter-widgets/controls",
      "model_module_version": "1.5.0",
      "model_name": "VBoxModel",
      "state": {
       "children": [
        "IPY_MODEL_da54fff1b29842dfb7f09a230cc94392",
        "IPY_MODEL_495d9cc54c0e4eda95784e67178930d3"
       ],
       "layout": "IPY_MODEL_f50d552d31284250954bc10b13993f6e"
      }
     },
     "87d283d8447f45a9bb08501012fcee8e": {
      "model_module": "jupyter-leaflet",
      "model_module_version": "^0.16.0",
      "model_name": "LeafletTileLayerModel",
      "state": {
       "_model_module_version": "^0.16.0",
       "_view_module_version": "^0.16.0",
       "attribution": "Map tiles by <a href=\"https://labs.strava.com/heatmap\">Strava 2021</a>",
       "max_native_zoom": 18,
       "max_zoom": 15,
       "min_native_zoom": 0,
       "name": "Strava.All",
       "options": [
        "attribution",
        "bounds",
        "detect_retina",
        "max_native_zoom",
        "max_zoom",
        "min_native_zoom",
        "min_zoom",
        "no_wrap",
        "tile_size",
        "tms"
       ],
       "url": "https://heatmap-external-a.strava.com/tiles/all/hot/{z}/{x}/{y}.png"
      }
     },
     "883115d1cd734d5ea18f7483b92259d4": {
      "model_module": "@jupyter-widgets/base",
      "model_module_version": "1.2.0",
      "model_name": "LayoutModel",
      "state": {
       "height": "28px",
       "padding": "0px 0px 0px 4px",
       "width": "28px"
      }
     },
     "889042d9988148c7a8cd88a4e0802fd2": {
      "model_module": "jupyter-leaflet",
      "model_module_version": "^0.16.0",
      "model_name": "LeafletWMSLayerModel",
      "state": {
       "_model_module_version": "^0.16.0",
       "_view_module_version": "^0.16.0",
       "attribution": "MRLC",
       "crs": {
        "custom": false,
        "name": "EPSG3857"
       },
       "format": "image/png",
       "layers": "NLCD_2006_Land_Cover_L48",
       "max_native_zoom": 18,
       "min_native_zoom": 0,
       "name": "NLCD 2006 CONUS Land Cover",
       "options": [
        "attribution",
        "bounds",
        "detect_retina",
        "format",
        "layers",
        "max_native_zoom",
        "max_zoom",
        "min_native_zoom",
        "min_zoom",
        "no_wrap",
        "styles",
        "tile_size",
        "tms",
        "transparent",
        "uppercase"
       ],
       "transparent": true,
       "url": "https://www.mrlc.gov/geoserver/mrlc_display/NLCD_2006_Land_Cover_L48/wms?"
      }
     },
     "88d4909b93934bfea02ab211d5baf41c": {
      "model_module": "@jupyter-widgets/base",
      "model_module_version": "1.2.0",
      "model_name": "LayoutModel",
      "state": {}
     },
     "88f1afe0a19f4947b3660b72450da4f8": {
      "model_module": "jupyter-leaflet",
      "model_module_version": "^0.16.0",
      "model_name": "LeafletTileLayerModel",
      "state": {
       "_model_module_version": "^0.16.0",
       "_view_module_version": "^0.16.0",
       "attribution": "Imagery provided by services from the Global Imagery Browse Services (GIBS), operated by the NASA/GSFC/Earth Science Data and Information System (ESDIS) with funding provided by NASA/HQ.",
       "max_native_zoom": 18,
       "max_zoom": 7,
       "min_native_zoom": 0,
       "name": "NASAGIBS.ModisTerraChlorophyll",
       "options": [
        "attribution",
        "bounds",
        "detect_retina",
        "max_native_zoom",
        "max_zoom",
        "min_native_zoom",
        "min_zoom",
        "no_wrap",
        "tile_size",
        "tms"
       ],
       "url": "https://map1.vis.earthdata.nasa.gov/wmts-webmerc/MODIS_Terra_Chlorophyll_A/default//GoogleMapsCompatible_Level7/{z}/{y}/{x}.png"
      }
     },
     "8ac125cdcd50461781c8f5a1633fcb14": {
      "model_module": "jupyter-leaflet",
      "model_module_version": "^0.16.0",
      "model_name": "LeafletTileLayerModel",
      "state": {
       "_model_module_version": "^0.16.0",
       "_view_module_version": "^0.16.0",
       "attribution": "Justice Map",
       "max_native_zoom": 18,
       "max_zoom": 22,
       "min_native_zoom": 0,
       "name": "JusticeMap.income",
       "options": [
        "attribution",
        "bounds",
        "detect_retina",
        "max_native_zoom",
        "max_zoom",
        "min_native_zoom",
        "min_zoom",
        "no_wrap",
        "tile_size",
        "tms"
       ],
       "url": "https://www.justicemap.org/tile/county/income/{z}/{x}/{y}.png"
      }
     },
     "8c27685d66004590b47308425b4cfbf0": {
      "model_module": "@jupyter-widgets/controls",
      "model_module_version": "1.5.0",
      "model_name": "ButtonModel",
      "state": {
       "description": "Remove ROIs",
       "layout": "IPY_MODEL_96f34f97761b4f018e55fc581894265c",
       "style": "IPY_MODEL_c22174d4f6254438a80d9629f6925efc"
      }
     },
     "8cd9b1ff41eb4c73a282ae72086b7375": {
      "model_module": "@jupyter-widgets/controls",
      "model_module_version": "1.5.0",
      "model_name": "RadioButtonsModel",
      "state": {
       "_options_labels": [
        "ENSEMBLE",
        "BEST"
       ],
       "description": "Select:",
       "index": 0,
       "layout": "IPY_MODEL_ba7726cbfdec4e6d83f86badaa51ca5e",
       "style": "IPY_MODEL_68ae9ed9eef94add8b2fa347524720be"
      }
     },
     "8d0c5c809dde4f2396208a3dddba11d5": {
      "model_module": "@jupyter-widgets/base",
      "model_module_version": "1.2.0",
      "model_name": "LayoutModel",
      "state": {
       "border": "1px solid black"
      }
     },
     "8d27eb202c27413d892773ecb1cff2e7": {
      "model_module": "jupyter-leaflet",
      "model_module_version": "^0.16.0",
      "model_name": "LeafletTileLayerModel",
      "state": {
       "_model_module_version": "^0.16.0",
       "_view_module_version": "^0.16.0",
       "attribution": "Justice Map",
       "max_native_zoom": 18,
       "max_zoom": 22,
       "min_native_zoom": 0,
       "name": "JusticeMap.americanIndian",
       "options": [
        "attribution",
        "bounds",
        "detect_retina",
        "max_native_zoom",
        "max_zoom",
        "min_native_zoom",
        "min_zoom",
        "no_wrap",
        "tile_size",
        "tms"
       ],
       "url": "https://www.justicemap.org/tile/county/indian/{z}/{x}/{y}.png"
      }
     },
     "8db0666e74a749f9935fb567a6d922c2": {
      "model_module": "jupyter-leaflet",
      "model_module_version": "^0.16.0",
      "model_name": "LeafletTileLayerModel",
      "state": {
       "_model_module_version": "^0.16.0",
       "_view_module_version": "^0.16.0",
       "attribution": "© swisstopo",
       "max_native_zoom": 18,
       "min_native_zoom": 0,
       "name": "SwissFederalGeoportal.NationalMapColor",
       "options": [
        "attribution",
        "bounds",
        "detect_retina",
        "max_native_zoom",
        "max_zoom",
        "min_native_zoom",
        "min_zoom",
        "no_wrap",
        "tile_size",
        "tms"
       ],
       "url": "https://wmts.geo.admin.ch/1.0.0/ch.swisstopo.pixelkarte-farbe/default/current/3857/{z}/{x}/{y}.jpeg"
      }
     },
     "8ddbba351c8949c99047c93db2525a4d": {
      "model_module": "jupyter-leaflet",
      "model_module_version": "^0.16.0",
      "model_name": "LeafletWMSLayerModel",
      "state": {
       "_model_module_version": "^0.16.0",
       "_view_module_version": "^0.16.0",
       "attribution": "MRLC",
       "crs": {
        "custom": false,
        "name": "EPSG3857"
       },
       "format": "image/png",
       "layers": "NLCD_2013_Land_Cover_L48",
       "max_native_zoom": 18,
       "min_native_zoom": 0,
       "name": "NLCD 2013 CONUS Land Cover",
       "options": [
        "attribution",
        "bounds",
        "detect_retina",
        "format",
        "layers",
        "max_native_zoom",
        "max_zoom",
        "min_native_zoom",
        "min_zoom",
        "no_wrap",
        "styles",
        "tile_size",
        "tms",
        "transparent",
        "uppercase"
       ],
       "transparent": true,
       "url": "https://www.mrlc.gov/geoserver/mrlc_display/NLCD_2013_Land_Cover_L48/wms?"
      }
     },
     "8e4ac0b852a843e59aa58bdea454c7d2": {
      "model_module": "jupyter-leaflet",
      "model_module_version": "^0.16.0",
      "model_name": "LeafletAttributionControlModel",
      "state": {
       "_model_module_version": "^0.16.0",
       "_view_module_version": "^0.16.0",
       "options": [
        "position",
        "prefix"
       ],
       "position": "bottomright",
       "prefix": "ipyleaflet"
      }
     },
     "8ea3d2b41c6d479a9b0a32995c7ab6e4": {
      "model_module": "@jupyter-widgets/controls",
      "model_module_version": "1.5.0",
      "model_name": "ButtonStyleModel",
      "state": {}
     },
     "8f09e52e3f084723a48b7bcafd5eb5dd": {
      "model_module": "jupyter-leaflet",
      "model_module_version": "^0.16.0",
      "model_name": "LeafletTileLayerModel",
      "state": {
       "_model_module_version": "^0.16.0",
       "_view_module_version": "^0.16.0",
       "attribution": "Kaartgegevens (C) Kadaster",
       "max_native_zoom": 18,
       "max_zoom": 19,
       "min_native_zoom": 0,
       "name": "nlmaps.water",
       "options": [
        "attribution",
        "bounds",
        "detect_retina",
        "max_native_zoom",
        "max_zoom",
        "min_native_zoom",
        "min_zoom",
        "no_wrap",
        "tile_size",
        "tms"
       ],
       "url": "https://service.pdok.nl/brt/achtergrondkaart/wmts/v2_0/water/EPSG:3857/{z}/{x}/{y}.png"
      }
     },
     "908a1b5f27e3482aaff6712e463de1c2": {
      "model_module": "jupyter-leaflet",
      "model_module_version": "^0.16.0",
      "model_name": "LeafletTileLayerModel",
      "state": {
       "_model_module_version": "^0.16.0",
       "_view_module_version": "^0.16.0",
       "attribution": "Tiles courtesy of the U.S. Geological Survey",
       "max_native_zoom": 18,
       "max_zoom": 20,
       "min_native_zoom": 0,
       "name": "USGS.USImagery",
       "options": [
        "attribution",
        "bounds",
        "detect_retina",
        "max_native_zoom",
        "max_zoom",
        "min_native_zoom",
        "min_zoom",
        "no_wrap",
        "tile_size",
        "tms"
       ],
       "url": "https://basemap.nationalmap.gov/arcgis/rest/services/USGSImageryOnly/MapServer/tile/{z}/{y}/{x}"
      }
     },
     "90cada8a1dbe4940a85f325331f94556": {
      "model_module": "@jupyter-widgets/controls",
      "model_module_version": "1.5.0",
      "model_name": "VBoxModel",
      "state": {
       "children": [
        "IPY_MODEL_399e8c5fe5a443c0af708b35867e131a",
        "IPY_MODEL_2d51d97dbb81477e89b321bdc13d798e",
        "IPY_MODEL_d49cabc04d2849af8e763cbdd93f933e"
       ],
       "layout": "IPY_MODEL_f4a14043fdfb4be192ccb5d7356a4f77"
      }
     },
     "9126f424bb03436ebd53190a2562356b": {
      "model_module": "jupyter-leaflet",
      "model_module_version": "^0.16.0",
      "model_name": "LeafletGeoJSONModel",
      "state": {
       "_model_module_version": "^0.16.0",
       "_view_module_version": "^0.16.0",
       "data": {
        "features": [
         {
          "geometry": {
           "coordinates": [
            [
             -81.12028411140554,
             29.46647268162196,
             1
            ],
            [
             -81.11605353625174,
             29.46798638706591,
             1
            ]
           ],
           "type": "LineString"
          },
          "id": "8911",
          "properties": {
           "id": "8912",
           "style": {
            "color": "black",
            "fillColor": "black",
            "fillOpacity": 0.2,
            "weight": 1
           }
          },
          "type": "Feature"
         },
         {
          "geometry": {
           "coordinates": [
            [
             -81.12047727490902,
             29.4668910979008,
             1
            ],
            [
             -81.1162486963853,
             29.46840408945906,
             1
            ]
           ],
           "type": "LineString"
          },
          "id": "8912",
          "properties": {
           "id": "8913",
           "style": {
            "color": "black",
            "fillColor": "black",
            "fillOpacity": 0.2,
            "weight": 1
           }
          },
          "type": "Feature"
         },
         {
          "geometry": {
           "coordinates": [
            [
             -81.12066801809777,
             29.46731037933949,
             1
            ],
            [
             -81.11644385812366,
             29.46882179153543,
             1
            ]
           ],
           "type": "LineString"
          },
          "id": "8913",
          "properties": {
           "id": "8914",
           "style": {
            "color": "black",
            "fillColor": "black",
            "fillOpacity": 0.2,
            "weight": 1
           }
          },
          "type": "Feature"
         },
         {
          "geometry": {
           "coordinates": [
            [
             -81.12089201303112,
             29.46771776403265,
             1
            ],
            [
             -81.1166390214669,
             29.46923949329506,
             1
            ]
           ],
           "type": "LineString"
          },
          "id": "8914",
          "properties": {
           "id": "8915",
           "style": {
            "color": "black",
            "fillColor": "black",
            "fillOpacity": 0.2,
            "weight": 1
           }
          },
          "type": "Feature"
         },
         {
          "geometry": {
           "coordinates": [
            [
             -81.12105078084502,
             29.46814848824651,
             1
            ],
            [
             -81.11683418641503,
             29.46965719473778,
             1
            ]
           ],
           "type": "LineString"
          },
          "id": "8915",
          "properties": {
           "id": "8916",
           "style": {
            "color": "black",
            "fillColor": "black",
            "fillOpacity": 0.2,
            "weight": 1
           }
          },
          "type": "Feature"
         },
         {
          "geometry": {
           "coordinates": [
            [
             -81.1212554342979,
             29.46856279363334,
             1
            ],
            [
             -81.11702935296812,
             29.47007489586368,
             1
            ]
           ],
           "type": "LineString"
          },
          "id": "8916",
          "properties": {
           "id": "8917",
           "style": {
            "color": "black",
            "fillColor": "black",
            "fillOpacity": 0.2,
            "weight": 1
           }
          },
          "type": "Feature"
         },
         {
          "geometry": {
           "coordinates": [
            [
             -81.12145085959828,
             29.4689804022428,
             1
            ],
            [
             -81.11722452112623,
             29.47049259667267,
             1
            ]
           ],
           "type": "LineString"
          },
          "id": "8917",
          "properties": {
           "id": "8918",
           "style": {
            "color": "black",
            "fillColor": "black",
            "fillOpacity": 0.2,
            "weight": 1
           }
          },
          "type": "Feature"
         },
         {
          "geometry": {
           "coordinates": [
            [
             -81.12164258085924,
             29.46939933516837,
             1
            ],
            [
             -81.11741969088942,
             29.47091029716491,
             1
            ]
           ],
           "type": "LineString"
          },
          "id": "8918",
          "properties": {
           "id": "8919",
           "style": {
            "color": "black",
            "fillColor": "black",
            "fillOpacity": 0.2,
            "weight": 1
           }
          },
          "type": "Feature"
         },
         {
          "geometry": {
           "coordinates": [
            [
             -81.12184782479538,
             29.46981342997148,
             1
            ],
            [
             -81.11761486225771,
             29.47132799734014,
             1
            ]
           ],
           "type": "LineString"
          },
          "id": "8919",
          "properties": {
           "id": "8920",
           "style": {
            "color": "black",
            "fillColor": "black",
            "fillOpacity": 0.2,
            "weight": 1
           }
          },
          "type": "Feature"
         },
         {
          "geometry": {
           "coordinates": [
            [
             -81.1220668274246,
             29.47022260193077,
             1
            ],
            [
             -81.11781003523114,
             29.47174569719849,
             1
            ]
           ],
           "type": "LineString"
          },
          "id": "8920",
          "properties": {
           "id": "8921",
           "style": {
            "color": "black",
            "fillColor": "black",
            "fillOpacity": 0.2,
            "weight": 1
           }
          },
          "type": "Feature"
         },
         {
          "geometry": {
           "coordinates": [
            [
             -81.1222638608209,
             29.47063963514475,
             1
            ],
            [
             -81.1180052098098,
             29.47216339673994,
             1
            ]
           ],
           "type": "LineString"
          },
          "id": "8921",
          "properties": {
           "id": "8922",
           "style": {
            "color": "black",
            "fillColor": "black",
            "fillOpacity": 0.2,
            "weight": 1
           }
          },
          "type": "Feature"
         },
         {
          "geometry": {
           "coordinates": [
            [
             -81.12245208526076,
             29.47105982133433,
             1
            ],
            [
             -81.11820038599369,
             29.47258109596444,
             1
            ]
           ],
           "type": "LineString"
          },
          "id": "8922",
          "properties": {
           "id": "8923",
           "style": {
            "color": "black",
            "fillColor": "black",
            "fillOpacity": 0.2,
            "weight": 1
           }
          },
          "type": "Feature"
         },
         {
          "geometry": {
           "coordinates": [
            [
             -81.12264620931653,
             29.4714778958963,
             1
            ],
            [
             -81.11839556378287,
             29.47299879487209,
             1
            ]
           ],
           "type": "LineString"
          },
          "id": "8923",
          "properties": {
           "id": "8924",
           "style": {
            "color": "black",
            "fillColor": "black",
            "fillOpacity": 0.2,
            "weight": 1
           }
          },
          "type": "Feature"
         },
         {
          "geometry": {
           "coordinates": [
            [
             -81.12283485983869,
             29.47189793018299,
             1
            ],
            [
             -81.11859074317738,
             29.47341649346266,
             1
            ]
           ],
           "type": "LineString"
          },
          "id": "8924",
          "properties": {
           "id": "8925",
           "style": {
            "color": "black",
            "fillColor": "black",
            "fillOpacity": 0.2,
            "weight": 1
           }
          },
          "type": "Feature"
         },
         {
          "geometry": {
           "coordinates": [
            [
             -81.1230475269153,
             29.47230937001876,
             1
            ],
            [
             -81.11878592417733,
             29.4738341917363,
             1
            ]
           ],
           "type": "LineString"
          },
          "id": "8925",
          "properties": {
           "id": "8926",
           "style": {
            "color": "black",
            "fillColor": "black",
            "fillOpacity": 0.2,
            "weight": 1
           }
          },
          "type": "Feature"
         },
         {
          "geometry": {
           "coordinates": [
            [
             -81.12327004965917,
             29.47271728404564,
             1
            ],
            [
             -81.11898110678267,
             29.4742518896929,
             1
            ]
           ],
           "type": "LineString"
          },
          "id": "8926",
          "properties": {
           "id": "8927",
           "style": {
            "color": "black",
            "fillColor": "black",
            "fillOpacity": 0.2,
            "weight": 1
           }
          },
          "type": "Feature"
         },
         {
          "geometry": {
           "coordinates": [
            [
             -81.12340733514975,
             29.47315569805488,
             1
            ],
            [
             -81.11917629099354,
             29.47466958733252,
             1
            ]
           ],
           "type": "LineString"
          },
          "id": "8927",
          "properties": {
           "id": "8928",
           "style": {
            "color": "black",
            "fillColor": "black",
            "fillOpacity": 0.2,
            "weight": 1
           }
          },
          "type": "Feature"
         },
         {
          "geometry": {
           "coordinates": [
            [
             -81.12361213018066,
             29.47356678715619,
             1
            ],
            [
             -81.11937147680996,
             29.4750872846551,
             1
            ]
           ],
           "type": "LineString"
          },
          "id": "8928",
          "properties": {
           "id": "8929",
           "style": {
            "color": "black",
            "fillColor": "black",
            "fillOpacity": 0.2,
            "weight": 1
           }
          },
          "type": "Feature"
         },
         {
          "geometry": {
           "coordinates": [
            [
             -81.12378927427666,
             29.47398688128431,
             1
            ],
            [
             -81.11956666423193,
             29.47550498166068,
             1
            ]
           ],
           "type": "LineString"
          },
          "id": "8929",
          "properties": {
           "id": "8930",
           "style": {
            "color": "black",
            "fillColor": "black",
            "fillOpacity": 0.2,
            "weight": 1
           }
          },
          "type": "Feature"
         },
         {
          "geometry": {
           "coordinates": [
            [
             -81.12397109746858,
             29.47440532004176,
             1
            ],
            [
             -81.11976185325953,
             29.47592267834928,
             1
            ]
           ],
           "type": "LineString"
          },
          "id": "8930",
          "properties": {
           "id": "8931",
           "style": {
            "color": "black",
            "fillColor": "black",
            "fillOpacity": 0.2,
            "weight": 1
           }
          },
          "type": "Feature"
         },
         {
          "geometry": {
           "coordinates": [
            [
             -81.12419741416757,
             29.47480769945508,
             1
            ],
            [
             -81.11995704389282,
             29.47634037472071,
             1
            ]
           ],
           "type": "LineString"
          },
          "id": "8931",
          "properties": {
           "id": "8932",
           "style": {
            "color": "black",
            "fillColor": "black",
            "fillOpacity": 0.2,
            "weight": 1
           }
          },
          "type": "Feature"
         },
         {
          "geometry": {
           "coordinates": [
            [
             -81.12439397209425,
             29.47522080099005,
             1
            ],
            [
             -81.12015223613184,
             29.47675807077509,
             1
            ]
           ],
           "type": "LineString"
          },
          "id": "8932",
          "properties": {
           "id": "8933",
           "style": {
            "color": "black",
            "fillColor": "black",
            "fillOpacity": 0.2,
            "weight": 1
           }
          },
          "type": "Feature"
         },
         {
          "geometry": {
           "coordinates": [
            [
             -81.12458610881558,
             29.47563550412435,
             1
            ],
            [
             -81.12034742997665,
             29.47717576651235,
             1
            ]
           ],
           "type": "LineString"
          },
          "id": "8933",
          "properties": {
           "id": "8934",
           "style": {
            "color": "black",
            "fillColor": "black",
            "fillOpacity": 0.2,
            "weight": 1
           }
          },
          "type": "Feature"
         },
         {
          "geometry": {
           "coordinates": [
            [
             -81.12479272459258,
             29.4760449336608,
             1
            ],
            [
             -81.12054262542726,
             29.4775934619326,
             1
            ]
           ],
           "type": "LineString"
          },
          "id": "8934",
          "properties": {
           "id": "8935",
           "style": {
            "color": "black",
            "fillColor": "black",
            "fillOpacity": 0.2,
            "weight": 1
           }
          },
          "type": "Feature"
         },
         {
          "geometry": {
           "coordinates": [
            [
             -81.12497324531371,
             29.47646387165869,
             1
            ],
            [
             -81.12073782248375,
             29.47801115703562,
             1
            ]
           ],
           "type": "LineString"
          },
          "id": "8935",
          "properties": {
           "id": "8936",
           "style": {
            "color": "black",
            "fillColor": "black",
            "fillOpacity": 0.2,
            "weight": 1
           }
          },
          "type": "Feature"
         },
         {
          "geometry": {
           "coordinates": [
            [
             -81.12516376665313,
             29.47687917211812,
             1
            ],
            [
             -81.12093302114616,
             29.47842885182153,
             1
            ]
           ],
           "type": "LineString"
          },
          "id": "8936",
          "properties": {
           "id": "8937",
           "style": {
            "color": "black",
            "fillColor": "black",
            "fillOpacity": 0.2,
            "weight": 1
           }
          },
          "type": "Feature"
         },
         {
          "geometry": {
           "coordinates": [
            [
             -81.12536108685192,
             29.4772919820561,
             1
            ],
            [
             -81.12112822141455,
             29.47884654629026,
             1
            ]
           ],
           "type": "LineString"
          },
          "id": "8937",
          "properties": {
           "id": "8938",
           "style": {
            "color": "black",
            "fillColor": "black",
            "fillOpacity": 0.2,
            "weight": 1
           }
          },
          "type": "Feature"
         },
         {
          "geometry": {
           "coordinates": [
            [
             -81.12553090699889,
             29.47771491094196,
             1
            ],
            [
             -81.12132342328896,
             29.47926424044193,
             1
            ]
           ],
           "type": "LineString"
          },
          "id": "8938",
          "properties": {
           "id": "8939",
           "style": {
            "color": "black",
            "fillColor": "black",
            "fillOpacity": 0.2,
            "weight": 1
           }
          },
          "type": "Feature"
         },
         {
          "geometry": {
           "coordinates": [
            [
             -81.12569706027777,
             29.47813924039491,
             1
            ],
            [
             -81.1215186267694,
             29.47968193427631,
             1
            ]
           ],
           "type": "LineString"
          },
          "id": "8939",
          "properties": {
           "id": "8940",
           "style": {
            "color": "black",
            "fillColor": "black",
            "fillOpacity": 0.2,
            "weight": 1
           }
          },
          "type": "Feature"
         },
         {
          "geometry": {
           "coordinates": [
            [
             -81.12587674783869,
             29.47855861920326,
             1
            ],
            [
             -81.12172217433113,
             29.48009654607549,
             1
            ]
           ],
           "type": "LineString"
          },
          "id": "8940",
          "properties": {
           "id": "8941",
           "style": {
            "color": "black",
            "fillColor": "black",
            "fillOpacity": 0.2,
            "weight": 1
           }
          },
          "type": "Feature"
         },
         {
          "geometry": {
           "coordinates": [
            [
             -81.12606374935145,
             29.47897533236915,
             1
            ],
            [
             -81.12192813699308,
             29.48051026600545,
             1
            ]
           ],
           "type": "LineString"
          },
          "id": "8941",
          "properties": {
           "id": "8942",
           "style": {
            "color": "black",
            "fillColor": "black",
            "fillOpacity": 0.2,
            "weight": 1
           }
          },
          "type": "Feature"
         },
         {
          "geometry": {
           "coordinates": [
            [
             -81.12626681663858,
             29.47938609910392,
             1
            ],
            [
             -81.12213410133313,
             29.48092398558613,
             1
            ]
           ],
           "type": "LineString"
          },
          "id": "8942",
          "properties": {
           "id": "8943",
           "style": {
            "color": "black",
            "fillColor": "black",
            "fillOpacity": 0.2,
            "weight": 1
           }
          },
          "type": "Feature"
         },
         {
          "geometry": {
           "coordinates": [
            [
             -81.12633799344577,
             29.47984608006754,
             1
            ],
            [
             -81.12234006735133,
             29.48133770481747,
             1
            ]
           ],
           "type": "LineString"
          },
          "id": "8943",
          "properties": {
           "id": "8944",
           "style": {
            "color": "black",
            "fillColor": "black",
            "fillOpacity": 0.2,
            "weight": 1
           }
          },
          "type": "Feature"
         },
         {
          "geometry": {
           "coordinates": [
            [
             -81.12671314679841,
             29.48019260529981,
             1
            ],
            [
             -81.12254603504773,
             29.48175142369935,
             1
            ]
           ],
           "type": "LineString"
          },
          "id": "8944",
          "properties": {
           "id": "8945",
           "style": {
            "color": "black",
            "fillColor": "black",
            "fillOpacity": 0.2,
            "weight": 1
           }
          },
          "type": "Feature"
         },
         {
          "geometry": {
           "coordinates": [
            [
             -81.1268905443343,
             29.48061296852395,
             1
            ],
            [
             -81.1227520044224,
             29.48216514223185,
             1
            ]
           ],
           "type": "LineString"
          },
          "id": "8945",
          "properties": {
           "id": "8946",
           "style": {
            "color": "black",
            "fillColor": "black",
            "fillOpacity": 0.2,
            "weight": 1
           }
          },
          "type": "Feature"
         },
         {
          "geometry": {
           "coordinates": [
            [
             -81.1271099025327,
             29.48101760724474,
             1
            ],
            [
             -81.12295797547536,
             29.48257886041482,
             1
            ]
           ],
           "type": "LineString"
          },
          "id": "8946",
          "properties": {
           "id": "8947",
           "style": {
            "color": "black",
            "fillColor": "black",
            "fillOpacity": 0.2,
            "weight": 1
           }
          },
          "type": "Feature"
         },
         {
          "geometry": {
           "coordinates": [
            [
             -81.1273338701393,
             29.48142047869218,
             1
            ],
            [
             -81.12316394820667,
             29.48299257824852,
             1
            ]
           ],
           "type": "LineString"
          },
          "id": "8947",
          "properties": {
           "id": "8948",
           "style": {
            "color": "black",
            "fillColor": "black",
            "fillOpacity": 0.2,
            "weight": 1
           }
          },
          "type": "Feature"
         },
         {
          "geometry": {
           "coordinates": [
            [
             -81.12753182222353,
             29.48183314426528,
             1
            ],
            [
             -81.1233699226164,
             29.48340629573257,
             1
            ]
           ],
           "type": "LineString"
          },
          "id": "8948",
          "properties": {
           "id": "8949",
           "style": {
            "color": "black",
            "fillColor": "black",
            "fillOpacity": 0.2,
            "weight": 1
           }
          },
          "type": "Feature"
         },
         {
          "geometry": {
           "coordinates": [
            [
             -81.1277526005593,
             29.48223717346993,
             1
            ],
            [
             -81.12357589870454,
             29.48382001286724,
             1
            ]
           ],
           "type": "LineString"
          },
          "id": "8949",
          "properties": {
           "id": "8950",
           "style": {
            "color": "black",
            "fillColor": "black",
            "fillOpacity": 0.2,
            "weight": 1
           }
          },
          "type": "Feature"
         },
         {
          "geometry": {
           "coordinates": [
            [
             -81.12795656800714,
             29.48264755785883,
             1
            ],
            [
             -81.12378187647118,
             29.48423372965242,
             1
            ]
           ],
           "type": "LineString"
          },
          "id": "8950",
          "properties": {
           "id": "8951",
           "style": {
            "color": "black",
            "fillColor": "black",
            "fillOpacity": 0.2,
            "weight": 1
           }
          },
          "type": "Feature"
         },
         {
          "geometry": {
           "coordinates": [
            [
             -81.1281684732258,
             29.48305491870765,
             1
            ],
            [
             -81.12398785591641,
             29.48464744608804,
             1
            ]
           ],
           "type": "LineString"
          },
          "id": "8951",
          "properties": {
           "id": "8952",
           "style": {
            "color": "black",
            "fillColor": "black",
            "fillOpacity": 0.2,
            "weight": 1
           }
          },
          "type": "Feature"
         },
         {
          "geometry": {
           "coordinates": [
            [
             -81.12836921080938,
             29.48346971199466,
             1
            ],
            [
             -81.1241938370402,
             29.48506116217417,
             1
            ]
           ],
           "type": "LineString"
          },
          "id": "8952",
          "properties": {
           "id": "8953",
           "style": {
            "color": "black",
            "fillColor": "black",
            "fillOpacity": 0.2,
            "weight": 1
           }
          },
          "type": "Feature"
         },
         {
          "geometry": {
           "coordinates": [
            [
             -81.12858090285891,
             29.48388125071504,
             1
            ],
            [
             -81.1243998198426,
             29.48547487791073,
             1
            ]
           ],
           "type": "LineString"
          },
          "id": "8953",
          "properties": {
           "id": "8954",
           "style": {
            "color": "black",
            "fillColor": "black",
            "fillOpacity": 0.2,
            "weight": 1
           }
          },
          "type": "Feature"
         },
         {
          "geometry": {
           "coordinates": [
            [
             -81.1287763071786,
             29.48429899695103,
             1
            ],
            [
             -81.12460580432375,
             29.48588859329764,
             1
            ]
           ],
           "type": "LineString"
          },
          "id": "8954",
          "properties": {
           "id": "8955",
           "style": {
            "color": "black",
            "fillColor": "black",
            "fillOpacity": 0.2,
            "weight": 1
           }
          },
          "type": "Feature"
         },
         {
          "geometry": {
           "coordinates": [
            [
             -81.1289649104342,
             29.48471933675495,
             1
            ],
            [
             -81.12481179048362,
             29.48630230833507,
             1
            ]
           ],
           "type": "LineString"
          },
          "id": "8955",
          "properties": {
           "id": "8956",
           "style": {
            "color": "black",
            "fillColor": "black",
            "fillOpacity": 0.2,
            "weight": 1
           }
          },
          "type": "Feature"
         },
         {
          "geometry": {
           "coordinates": [
            [
             -81.12917555732149,
             29.48513127413541,
             1
            ],
            [
             -81.12501777832226,
             29.48671602302289,
             1
            ]
           ],
           "type": "LineString"
          },
          "id": "8956",
          "properties": {
           "id": "8957",
           "style": {
            "color": "black",
            "fillColor": "black",
            "fillOpacity": 0.2,
            "weight": 1
           }
          },
          "type": "Feature"
         },
         {
          "geometry": {
           "coordinates": [
            [
             -81.12937746091592,
             29.48554654492527,
             1
            ],
            [
             -81.12522376783977,
             29.48712973736112,
             1
            ]
           ],
           "type": "LineString"
          },
          "id": "8957",
          "properties": {
           "id": "8958",
           "style": {
            "color": "black",
            "fillColor": "black",
            "fillOpacity": 0.2,
            "weight": 1
           }
          },
          "type": "Feature"
         },
         {
          "geometry": {
           "coordinates": [
            [
             -81.12957312824764,
             29.48596419374079,
             1
            ],
            [
             -81.12542975903617,
             29.48754345134964,
             1
            ]
           ],
           "type": "LineString"
          },
          "id": "8958",
          "properties": {
           "id": "8959",
           "style": {
            "color": "black",
            "fillColor": "black",
            "fillOpacity": 0.2,
            "weight": 1
           }
          },
          "type": "Feature"
         },
         {
          "geometry": {
           "coordinates": [
            [
             -81.12976426719402,
             29.48638356756723,
             1
            ],
            [
             -81.12563575191152,
             29.48795716498857,
             1
            ]
           ],
           "type": "LineString"
          },
          "id": "8959",
          "properties": {
           "id": "8960",
           "style": {
            "color": "black",
            "fillColor": "black",
            "fillOpacity": 0.2,
            "weight": 1
           }
          },
          "type": "Feature"
         },
         {
          "geometry": {
           "coordinates": [
            [
             -81.12993976449245,
             29.48680890463641,
             1
            ],
            [
             -81.12584174646582,
             29.48837087827795,
             1
            ]
           ],
           "type": "LineString"
          },
          "id": "8960",
          "properties": {
           "id": "8961",
           "style": {
            "color": "black",
            "fillColor": "black",
            "fillOpacity": 0.2,
            "weight": 1
           }
          },
          "type": "Feature"
         },
         {
          "geometry": {
           "coordinates": [
            [
             -81.13016366474147,
             29.48721579195779,
             1
            ],
            [
             -81.12604774269917,
             29.48878459121744,
             1
            ]
           ],
           "type": "LineString"
          },
          "id": "8961",
          "properties": {
           "id": "8962",
           "style": {
            "color": "black",
            "fillColor": "black",
            "fillOpacity": 0.2,
            "weight": 1
           }
          },
          "type": "Feature"
         },
         {
          "geometry": {
           "coordinates": [
            [
             -81.13037286684612,
             29.48762828142587,
             1
            ],
            [
             -81.1262537406116,
             29.48919830380736,
             1
            ]
           ],
           "type": "LineString"
          },
          "id": "8962",
          "properties": {
           "id": "8963",
           "style": {
            "color": "black",
            "fillColor": "black",
            "fillOpacity": 0.2,
            "weight": 1
           }
          },
          "type": "Feature"
         },
         {
          "geometry": {
           "coordinates": [
            [
             -81.13056106803866,
             29.48804877697187,
             1
            ],
            [
             -81.12645974020317,
             29.48961201604757,
             1
            ]
           ],
           "type": "LineString"
          },
          "id": "8963",
          "properties": {
           "id": "8964",
           "style": {
            "color": "black",
            "fillColor": "black",
            "fillOpacity": 0.2,
            "weight": 1
           }
          },
          "type": "Feature"
         },
         {
          "geometry": {
           "coordinates": [
            [
             -81.13074957653481,
             29.48846915574271,
             1
            ],
            [
             -81.12666574147393,
             29.49002572793803,
             1
            ]
           ],
           "type": "LineString"
          },
          "id": "8964",
          "properties": {
           "id": "8965",
           "style": {
            "color": "black",
            "fillColor": "black",
            "fillOpacity": 0.2,
            "weight": 1
           }
          },
          "type": "Feature"
         },
         {
          "geometry": {
           "coordinates": [
            [
             -81.13097585809811,
             29.48887513643917,
             1
            ],
            [
             -81.12687174442391,
             29.49043943947877,
             1
            ]
           ],
           "type": "LineString"
          },
          "id": "8965",
          "properties": {
           "id": "8966",
           "style": {
            "color": "black",
            "fillColor": "black",
            "fillOpacity": 0.2,
            "weight": 1
           }
          },
          "type": "Feature"
         },
         {
          "geometry": {
           "coordinates": [
            [
             -81.13116619460193,
             29.4892948189903,
             1
            ],
            [
             -81.1270777490532,
             29.49085315066968,
             1
            ]
           ],
           "type": "LineString"
          },
          "id": "8966",
          "properties": {
           "id": "8967",
           "style": {
            "color": "black",
            "fillColor": "black",
            "fillOpacity": 0.2,
            "weight": 1
           }
          },
          "type": "Feature"
         },
         {
          "geometry": {
           "coordinates": [
            [
             -81.13138139542139,
             29.48970502400472,
             1
            ],
            [
             -81.12728375536179,
             29.49126686151087,
             1
            ]
           ],
           "type": "LineString"
          },
          "id": "8967",
          "properties": {
           "id": "8968",
           "style": {
            "color": "black",
            "fillColor": "black",
            "fillOpacity": 0.2,
            "weight": 1
           }
          },
          "type": "Feature"
         },
         {
          "geometry": {
           "coordinates": [
            [
             -81.13160082040596,
             29.49011361827037,
             1
            ],
            [
             -81.12748976334979,
             29.49168057200228,
             1
            ]
           ],
           "type": "LineString"
          },
          "id": "8968",
          "properties": {
           "id": "8969",
           "style": {
            "color": "black",
            "fillColor": "black",
            "fillOpacity": 0.2,
            "weight": 1
           }
          },
          "type": "Feature"
         },
         {
          "geometry": {
           "coordinates": [
            [
             -81.13181972085806,
             29.4905224142307,
             1
            ],
            [
             -81.1276957730172,
             29.49209428214388,
             1
            ]
           ],
           "type": "LineString"
          },
          "id": "8969",
          "properties": {
           "id": "8970",
           "style": {
            "color": "black",
            "fillColor": "black",
            "fillOpacity": 0.2,
            "weight": 1
           }
          },
          "type": "Feature"
         },
         {
          "geometry": {
           "coordinates": [
            [
             -81.1320024745817,
             29.49094498733528,
             1
            ],
            [
             -81.1279017843641,
             29.49250799193567,
             1
            ]
           ],
           "type": "LineString"
          },
          "id": "8970",
          "properties": {
           "id": "8971",
           "style": {
            "color": "black",
            "fillColor": "black",
            "fillOpacity": 0.2,
            "weight": 1
           }
          },
          "type": "Feature"
         },
         {
          "geometry": {
           "coordinates": [
            [
             -81.13223269138388,
             29.49134947018971,
             1
            ],
            [
             -81.12810779739051,
             29.4929217013775,
             1
            ]
           ],
           "type": "LineString"
          },
          "id": "8971",
          "properties": {
           "id": "8972",
           "style": {
            "color": "black",
            "fillColor": "black",
            "fillOpacity": 0.2,
            "weight": 1
           }
          },
          "type": "Feature"
         },
         {
          "geometry": {
           "coordinates": [
            [
             -81.1324015453434,
             29.49177734349022,
             1
            ],
            [
             -81.12831381209654,
             29.49333541046969,
             1
            ]
           ],
           "type": "LineString"
          },
          "id": "8972",
          "properties": {
           "id": "8973",
           "style": {
            "color": "black",
            "fillColor": "black",
            "fillOpacity": 0.2,
            "weight": 1
           }
          },
          "type": "Feature"
         },
         {
          "geometry": {
           "coordinates": [
            [
             -81.13259189926723,
             29.49219702062468,
             1
            ],
            [
             -81.12851982848215,
             29.4937491192118,
             1
            ]
           ],
           "type": "LineString"
          },
          "id": "8973",
          "properties": {
           "id": "8974",
           "style": {
            "color": "black",
            "fillColor": "black",
            "fillOpacity": 0.2,
            "weight": 1
           }
          },
          "type": "Feature"
         },
         {
          "geometry": {
           "coordinates": [
            [
             -81.13278339411299,
             29.49261626424969,
             1
            ],
            [
             -81.12872584654745,
             29.49416282760412,
             1
            ]
           ],
           "type": "LineString"
          },
          "id": "8974",
          "properties": {
           "id": "8975",
           "style": {
            "color": "black",
            "fillColor": "black",
            "fillOpacity": 0.2,
            "weight": 1
           }
          },
          "type": "Feature"
         },
         {
          "geometry": {
           "coordinates": [
            [
             -81.13299368572685,
             29.49302834284649,
             1
            ],
            [
             -81.12893186629248,
             29.49457653564654,
             1
            ]
           ],
           "type": "LineString"
          },
          "id": "8975",
          "properties": {
           "id": "8976",
           "style": {
            "color": "black",
            "fillColor": "black",
            "fillOpacity": 0.2,
            "weight": 1
           }
          },
          "type": "Feature"
         },
         {
          "geometry": {
           "coordinates": [
            [
             -81.13318825610851,
             29.49344641355981,
             1
            ],
            [
             -81.12913788771728,
             29.49499024333894,
             1
            ]
           ],
           "type": "LineString"
          },
          "id": "8976",
          "properties": {
           "id": "8977",
           "style": {
            "color": "black",
            "fillColor": "black",
            "fillOpacity": 0.2,
            "weight": 1
           }
          },
          "type": "Feature"
         },
         {
          "geometry": {
           "coordinates": [
            [
             -81.13339021504818,
             29.49386166959615,
             1
            ],
            [
             -81.1293439108219,
             29.49540395068158,
             1
            ]
           ],
           "type": "LineString"
          },
          "id": "8977",
          "properties": {
           "id": "8978",
           "style": {
            "color": "black",
            "fillColor": "black",
            "fillOpacity": 0.2,
            "weight": 1
           }
          },
          "type": "Feature"
         },
         {
          "geometry": {
           "coordinates": [
            [
             -81.13359213686965,
             29.4942769395209,
             1
            ],
            [
             -81.12954993560642,
             29.49581765767409,
             1
            ]
           ],
           "type": "LineString"
          },
          "id": "8978",
          "properties": {
           "id": "8979",
           "style": {
            "color": "black",
            "fillColor": "black",
            "fillOpacity": 0.2,
            "weight": 1
           }
          },
          "type": "Feature"
         },
         {
          "geometry": {
           "coordinates": [
            [
             -81.13380000043638,
             29.49468994441276,
             1
            ],
            [
             -81.12975596207085,
             29.49623136431672,
             1
            ]
           ],
           "type": "LineString"
          },
          "id": "8979",
          "properties": {
           "id": "8980",
           "style": {
            "color": "black",
            "fillColor": "black",
            "fillOpacity": 0.2,
            "weight": 1
           }
          },
          "type": "Feature"
         },
         {
          "geometry": {
           "coordinates": [
            [
             -81.13398849986524,
             29.49511033099299,
             1
            ],
            [
             -81.12996199021524,
             29.49664507060937,
             1
            ]
           ],
           "type": "LineString"
          },
          "id": "8980",
          "properties": {
           "id": "8981",
           "style": {
            "color": "black",
            "fillColor": "black",
            "fillOpacity": 0.2,
            "weight": 1
           }
          },
          "type": "Feature"
         },
         {
          "geometry": {
           "coordinates": [
            [
             -81.1342127143848,
             29.49551710476707,
             1
            ],
            [
             -81.13016802003965,
             29.49705877655193,
             1
            ]
           ],
           "type": "LineString"
          },
          "id": "8981",
          "properties": {
           "id": "8982",
           "style": {
            "color": "black",
            "fillColor": "black",
            "fillOpacity": 0.2,
            "weight": 1
           }
          },
          "type": "Feature"
         },
         {
          "geometry": {
           "coordinates": [
            [
             -81.13442082343326,
             29.49593001653713,
             1
            ],
            [
             -81.13037405154411,
             29.49747248214464,
             1
            ]
           ],
           "type": "LineString"
          },
          "id": "8982",
          "properties": {
           "id": "8983",
           "style": {
            "color": "black",
            "fillColor": "black",
            "fillOpacity": 0.2,
            "weight": 1
           }
          },
          "type": "Feature"
         },
         {
          "geometry": {
           "coordinates": [
            [
             -81.13461814186358,
             29.49634704272158,
             1
            ],
            [
             -81.13058008472873,
             29.49788618738713,
             1
            ]
           ],
           "type": "LineString"
          },
          "id": "8983",
          "properties": {
           "id": "8984",
           "style": {
            "color": "black",
            "fillColor": "black",
            "fillOpacity": 0.2,
            "weight": 1
           }
          },
          "type": "Feature"
         },
         {
          "geometry": {
           "coordinates": [
            [
             -81.13482304915476,
             29.49676117596815,
             1
            ],
            [
             -81.1307861195935,
             29.4982998922797,
             1
            ]
           ],
           "type": "LineString"
          },
          "id": "8984",
          "properties": {
           "id": "8985",
           "style": {
            "color": "black",
            "fillColor": "black",
            "fillOpacity": 0.2,
            "weight": 1
           }
          },
          "type": "Feature"
         },
         {
          "geometry": {
           "coordinates": [
            [
             -81.135065372266,
             29.49716104777746,
             1
            ],
            [
             -81.13099215613848,
             29.49871359682215,
             1
            ]
           ],
           "type": "LineString"
          },
          "id": "8985",
          "properties": {
           "id": "8986",
           "style": {
            "color": "black",
            "fillColor": "black",
            "fillOpacity": 0.2,
            "weight": 1
           }
          },
          "type": "Feature"
         },
         {
          "geometry": {
           "coordinates": [
            [
             -81.13522588159829,
             29.497592105773,
             1
            ],
            [
             -81.13119819436372,
             29.49912730101453,
             1
            ]
           ],
           "type": "LineString"
          },
          "id": "8986",
          "properties": {
           "id": "8987",
           "style": {
            "color": "black",
            "fillColor": "black",
            "fillOpacity": 0.2,
            "weight": 1
           }
          },
          "type": "Feature"
         },
         {
          "geometry": {
           "coordinates": [
            [
             -81.13545561536284,
             29.49799677628791,
             1
            ],
            [
             -81.13140423426928,
             29.49954100485682,
             1
            ]
           ],
           "type": "LineString"
          },
          "id": "8987",
          "properties": {
           "id": "8988",
           "style": {
            "color": "black",
            "fillColor": "black",
            "fillOpacity": 0.2,
            "weight": 1
           }
          },
          "type": "Feature"
         },
         {
          "geometry": {
           "coordinates": [
            [
             -81.1356867228628,
             29.49840092400973,
             1
            ],
            [
             -81.13161027585522,
             29.49995470834892,
             1
            ]
           ],
           "type": "LineString"
          },
          "id": "8988",
          "properties": {
           "id": "8989",
           "style": {
            "color": "black",
            "fillColor": "black",
            "fillOpacity": 0.2,
            "weight": 1
           }
          },
          "type": "Feature"
         },
         {
          "geometry": {
           "coordinates": [
            [
             -81.13588172945245,
             29.49881883347017,
             1
            ],
            [
             -81.13181631912157,
             29.50036841149094,
             1
            ]
           ],
           "type": "LineString"
          },
          "id": "8989",
          "properties": {
           "id": "8990",
           "style": {
            "color": "black",
            "fillColor": "black",
            "fillOpacity": 0.2,
            "weight": 1
           }
          },
          "type": "Feature"
         },
         {
          "geometry": {
           "coordinates": [
            [
             -81.1360760042576,
             29.49923702116236,
             1
            ],
            [
             -81.13202236406836,
             29.50078211428283,
             1
            ]
           ],
           "type": "LineString"
          },
          "id": "8990",
          "properties": {
           "id": "8991",
           "style": {
            "color": "black",
            "fillColor": "black",
            "fillOpacity": 0.2,
            "weight": 1
           }
          },
          "type": "Feature"
         },
         {
          "geometry": {
           "coordinates": [
            [
             -81.13626694997983,
             29.49965647940439,
             1
            ],
            [
             -81.13222841069573,
             29.50119581672456,
             1
            ]
           ],
           "type": "LineString"
          },
          "id": "8991",
          "properties": {
           "id": "8992",
           "style": {
            "color": "black",
            "fillColor": "black",
            "fillOpacity": 0.2,
            "weight": 1
           }
          },
          "type": "Feature"
         },
         {
          "geometry": {
           "coordinates": [
            [
             -81.13648360665823,
             29.50006613655727,
             1
            ],
            [
             -81.13243445900359,
             29.50160951881609,
             1
            ]
           ],
           "type": "LineString"
          },
          "id": "8992",
          "properties": {
           "id": "8993",
           "style": {
            "color": "black",
            "fillColor": "black",
            "fillOpacity": 0.2,
            "weight": 1
           }
          },
          "type": "Feature"
         },
         {
          "geometry": {
           "coordinates": [
            [
             -81.1366729913417,
             29.50048618956764,
             1
            ],
            [
             -81.13264050899207,
             29.50202322055733,
             1
            ]
           ],
           "type": "LineString"
          },
          "id": "8993",
          "properties": {
           "id": "8994",
           "style": {
            "color": "black",
            "fillColor": "black",
            "fillOpacity": 0.2,
            "weight": 1
           }
          },
          "type": "Feature"
         },
         {
          "geometry": {
           "coordinates": [
            [
             -81.13689564476246,
             29.5008935609218,
             1
            ],
            [
             -81.13284656066124,
             29.50243692194857,
             1
            ]
           ],
           "type": "LineString"
          },
          "id": "8994",
          "properties": {
           "id": "8995",
           "style": {
            "color": "black",
            "fillColor": "black",
            "fillOpacity": 0.2,
            "weight": 1
           }
          },
          "type": "Feature"
         },
         {
          "geometry": {
           "coordinates": [
            [
             -81.13708640448074,
             29.50131370200362,
             1
            ],
            [
             -81.1330526140111,
             29.50285062298936,
             1
            ]
           ],
           "type": "LineString"
          },
          "id": "8995",
          "properties": {
           "id": "8996",
           "style": {
            "color": "black",
            "fillColor": "black",
            "fillOpacity": 0.2,
            "weight": 1
           }
          },
          "type": "Feature"
         },
         {
          "geometry": {
           "coordinates": [
            [
             -81.13728853194726,
             29.50173088021563,
             1
            ],
            [
             -81.1332586690417,
             29.50326432368004,
             1
            ]
           ],
           "type": "LineString"
          },
          "id": "8996",
          "properties": {
           "id": "8997",
           "style": {
            "color": "black",
            "fillColor": "black",
            "fillOpacity": 0.2,
            "weight": 1
           }
          },
          "type": "Feature"
         },
         {
          "geometry": {
           "coordinates": [
            [
             -81.13748332135553,
             29.50215084422782,
             1
            ],
            [
             -81.13346472575314,
             29.50367802402041,
             1
            ]
           ],
           "type": "LineString"
          },
          "id": "8997",
          "properties": {
           "id": "8998",
           "style": {
            "color": "black",
            "fillColor": "black",
            "fillOpacity": 0.2,
            "weight": 1
           }
          },
          "type": "Feature"
         },
         {
          "geometry": {
           "coordinates": [
            [
             -81.13769564877636,
             29.50256413907515,
             1
            ],
            [
             -81.13367078414542,
             29.50409172401052,
             1
            ]
           ],
           "type": "LineString"
          },
          "id": "8998",
          "properties": {
           "id": "8999",
           "style": {
            "color": "black",
            "fillColor": "black",
            "fillOpacity": 0.2,
            "weight": 1
           }
          },
          "type": "Feature"
         },
         {
          "geometry": {
           "coordinates": [
            [
             -81.13789932185837,
             29.50298072006762,
             1
            ],
            [
             -81.13387684421863,
             29.50450542365033,
             1
            ]
           ],
           "type": "LineString"
          },
          "id": "8999",
          "properties": {
           "id": "9000",
           "style": {
            "color": "black",
            "fillColor": "black",
            "fillOpacity": 0.2,
            "weight": 1
           }
          },
          "type": "Feature"
         },
         {
          "geometry": {
           "coordinates": [
            [
             -81.13810943880891,
             29.5033948592941,
             1
            ],
            [
             -81.13408290597275,
             29.50491912293976,
             1
            ]
           ],
           "type": "LineString"
          },
          "id": "9000",
          "properties": {
           "id": "9001",
           "style": {
            "color": "black",
            "fillColor": "black",
            "fillOpacity": 0.2,
            "weight": 1
           }
          },
          "type": "Feature"
         },
         {
          "geometry": {
           "coordinates": [
            [
             -81.1383112882052,
             29.50381212708905,
             1
            ],
            [
             -81.1342889694079,
             29.50533282187894,
             1
            ]
           ],
           "type": "LineString"
          },
          "id": "9001",
          "properties": {
           "id": "9002",
           "style": {
            "color": "black",
            "fillColor": "black",
            "fillOpacity": 0.2,
            "weight": 1
           }
          },
          "type": "Feature"
         },
         {
          "geometry": {
           "coordinates": [
            [
             -81.13850008501157,
             29.50423431946906,
             1
            ],
            [
             -81.13449503452412,
             29.50574652046776,
             1
            ]
           ],
           "type": "LineString"
          },
          "id": "9002",
          "properties": {
           "id": "9003",
           "style": {
            "color": "black",
            "fillColor": "black",
            "fillOpacity": 0.2,
            "weight": 1
           }
          },
          "type": "Feature"
         },
         {
          "geometry": {
           "coordinates": [
            [
             -81.13871700191704,
             29.50464589042848,
             1
            ],
            [
             -81.1347011013214,
             29.50616021870623,
             1
            ]
           ],
           "type": "LineString"
          },
          "id": "9003",
          "properties": {
           "id": "9004",
           "style": {
            "color": "black",
            "fillColor": "black",
            "fillOpacity": 0.2,
            "weight": 1
           }
          },
          "type": "Feature"
         },
         {
          "geometry": {
           "coordinates": [
            [
             -81.1389352942453,
             29.50505695205496,
             1
            ],
            [
             -81.13490716979987,
             29.50657391659432,
             1
            ]
           ],
           "type": "LineString"
          },
          "id": "9004",
          "properties": {
           "id": "9005",
           "style": {
            "color": "black",
            "fillColor": "black",
            "fillOpacity": 0.2,
            "weight": 1
           }
          },
          "type": "Feature"
         },
         {
          "geometry": {
           "coordinates": [
            [
             -81.13912544138933,
             29.50547861308388,
             1
            ],
            [
             -81.13511323995951,
             29.50698761413202,
             1
            ]
           ],
           "type": "LineString"
          },
          "id": "9005",
          "properties": {
           "id": "9006",
           "style": {
            "color": "black",
            "fillColor": "black",
            "fillOpacity": 0.2,
            "weight": 1
           }
          },
          "type": "Feature"
         },
         {
          "geometry": {
           "coordinates": [
            [
             -81.13933676891145,
             29.50589230097905,
             1
            ],
            [
             -81.13531931180042,
             29.50740131131924,
             1
            ]
           ],
           "type": "LineString"
          },
          "id": "9006",
          "properties": {
           "id": "9007",
           "style": {
            "color": "black",
            "fillColor": "black",
            "fillOpacity": 0.2,
            "weight": 1
           }
          },
          "type": "Feature"
         },
         {
          "geometry": {
           "coordinates": [
            [
             -81.13955399869421,
             29.50630377961483,
             1
            ],
            [
             -81.13552373025838,
             29.50781562922518,
             1
            ]
           ],
           "type": "LineString"
          },
          "id": "9007",
          "properties": {
           "id": "9008",
           "style": {
            "color": "black",
            "fillColor": "black",
            "fillOpacity": 0.2,
            "weight": 1
           }
          },
          "type": "Feature"
         },
         {
          "geometry": {
           "coordinates": [
            [
             -81.13974456688963,
             29.50672526097404,
             1
            ],
            [
             -81.13572442460944,
             29.50823134489867,
             1
            ]
           ],
           "type": "LineString"
          },
          "id": "9008",
          "properties": {
           "id": "9009",
           "style": {
            "color": "black",
            "fillColor": "black",
            "fillOpacity": 0.2,
            "weight": 1
           }
          },
          "type": "Feature"
         },
         {
          "geometry": {
           "coordinates": [
            [
             -81.13995482182523,
             29.50713936664975,
             1
            ],
            [
             -81.13592512060627,
             29.50864706023804,
             1
            ]
           ],
           "type": "LineString"
          },
          "id": "9009",
          "properties": {
           "id": "9010",
           "style": {
            "color": "black",
            "fillColor": "black",
            "fillOpacity": 0.2,
            "weight": 1
           }
          },
          "type": "Feature"
         },
         {
          "geometry": {
           "coordinates": [
            [
             -81.14014639293286,
             29.50756046239411,
             1
            ],
            [
             -81.13612581824891,
             29.50906277524332,
             1
            ]
           ],
           "type": "LineString"
          },
          "id": "9010",
          "properties": {
           "id": "9011",
           "style": {
            "color": "black",
            "fillColor": "black",
            "fillOpacity": 0.2,
            "weight": 1
           }
          },
          "type": "Feature"
         },
         {
          "geometry": {
           "coordinates": [
            [
             -81.1403356590209,
             29.50798240937781,
             1
            ],
            [
             -81.13632651753737,
             29.50947848991428,
             1
            ]
           ],
           "type": "LineString"
          },
          "id": "9011",
          "properties": {
           "id": "9012",
           "style": {
            "color": "black",
            "fillColor": "black",
            "fillOpacity": 0.2,
            "weight": 1
           }
          },
          "type": "Feature"
         },
         {
          "geometry": {
           "coordinates": [
            [
             -81.1405642229972,
             29.50838969780038,
             1
            ],
            [
             -81.1365272184717,
             29.50989420425111,
             1
            ]
           ],
           "type": "LineString"
          },
          "id": "9012",
          "properties": {
           "id": "9013",
           "style": {
            "color": "black",
            "fillColor": "black",
            "fillOpacity": 0.2,
            "weight": 1
           }
          },
          "type": "Feature"
         },
         {
          "geometry": {
           "coordinates": [
            [
             -81.14078227247542,
             29.50880092633106,
             1
            ],
            [
             -81.13672792105201,
             29.51030991825379,
             1
            ]
           ],
           "type": "LineString"
          },
          "id": "9013",
          "properties": {
           "id": "9014",
           "style": {
            "color": "black",
            "fillColor": "black",
            "fillOpacity": 0.2,
            "weight": 1
           }
          },
          "type": "Feature"
         },
         {
          "geometry": {
           "coordinates": [
            [
             -81.14100260393279,
             29.50921132414095,
             1
            ],
            [
             -81.13692862527832,
             29.51072563192222,
             1
            ]
           ],
           "type": "LineString"
          },
          "id": "9014",
          "properties": {
           "id": "9015",
           "style": {
            "color": "black",
            "fillColor": "black",
            "fillOpacity": 0.2,
            "weight": 1
           }
          },
          "type": "Feature"
         },
         {
          "geometry": {
           "coordinates": [
            [
             -81.14119490214189,
             29.50963214680233,
             1
            ],
            [
             -81.13712933115063,
             29.51114134525642,
             1
            ]
           ],
           "type": "LineString"
          },
          "id": "9015",
          "properties": {
           "id": "9016",
           "style": {
            "color": "black",
            "fillColor": "black",
            "fillOpacity": 0.2,
            "weight": 1
           }
          },
          "type": "Feature"
         },
         {
          "geometry": {
           "coordinates": [
            [
             -81.14141241925347,
             29.51004361027283,
             1
            ],
            [
             -81.13733003866902,
             29.51155705825651,
             1
            ]
           ],
           "type": "LineString"
          },
          "id": "9016",
          "properties": {
           "id": "9017",
           "style": {
            "color": "black",
            "fillColor": "black",
            "fillOpacity": 0.2,
            "weight": 1
           }
          },
          "type": "Feature"
         },
         {
          "geometry": {
           "coordinates": [
            [
             -81.14162634288516,
             29.51045642112673,
             1
            ],
            [
             -81.13753074783357,
             29.51197277092211,
             1
            ]
           ],
           "type": "LineString"
          },
          "id": "9017",
          "properties": {
           "id": "9018",
           "style": {
            "color": "black",
            "fillColor": "black",
            "fillOpacity": 0.2,
            "weight": 1
           }
          },
          "type": "Feature"
         },
         {
          "geometry": {
           "coordinates": [
            [
             -81.14182125545113,
             29.51087627373736,
             1
            ],
            [
             -81.13773145864431,
             29.51238848325357,
             1
            ]
           ],
           "type": "LineString"
          },
          "id": "9018",
          "properties": {
           "id": "9019",
           "style": {
            "color": "black",
            "fillColor": "black",
            "fillOpacity": 0.2,
            "weight": 1
           }
          },
          "type": "Feature"
         },
         {
          "geometry": {
           "coordinates": [
            [
             -81.14203804723522,
             29.5112874241505,
             1
            ],
            [
             -81.13793217110126,
             29.51280419525078,
             1
            ]
           ],
           "type": "LineString"
          },
          "id": "9019",
          "properties": {
           "id": "9020",
           "style": {
            "color": "black",
            "fillColor": "black",
            "fillOpacity": 0.2,
            "weight": 1
           }
          },
          "type": "Feature"
         },
         {
          "geometry": {
           "coordinates": [
            [
             -81.14224022409401,
             29.51170259460784,
             1
            ],
            [
             -81.13813288520448,
             29.51321990691352,
             1
            ]
           ],
           "type": "LineString"
          },
          "id": "9020",
          "properties": {
           "id": "9021",
           "style": {
            "color": "black",
            "fillColor": "black",
            "fillOpacity": 0.2,
            "weight": 1
           }
          },
          "type": "Feature"
         },
         {
          "geometry": {
           "coordinates": [
            [
             -81.14244719919277,
             29.51211599273805,
             1
            ],
            [
             -81.13833360095407,
             29.51363561824203,
             1
            ]
           ],
           "type": "LineString"
          },
          "id": "9021",
          "properties": {
           "id": "9022",
           "style": {
            "color": "black",
            "fillColor": "black",
            "fillOpacity": 0.2,
            "weight": 1
           }
          },
          "type": "Feature"
         },
         {
          "geometry": {
           "coordinates": [
            [
             -81.14265930330836,
             29.51252749579201,
             1
            ],
            [
             -81.13853431835004,
             29.5140513292362,
             1
            ]
           ],
           "type": "LineString"
          },
          "id": "9022",
          "properties": {
           "id": "9023",
           "style": {
            "color": "black",
            "fillColor": "black",
            "fillOpacity": 0.2,
            "weight": 1
           }
          },
          "type": "Feature"
         },
         {
          "geometry": {
           "coordinates": [
            [
             -81.14285853984815,
             29.51294375289796,
             1
            ],
            [
             -81.13873503739241,
             29.51446703989611,
             1
            ]
           ],
           "type": "LineString"
          },
          "id": "9023",
          "properties": {
           "id": "9024",
           "style": {
            "color": "black",
            "fillColor": "black",
            "fillOpacity": 0.2,
            "weight": 1
           }
          },
          "type": "Feature"
         },
         {
          "geometry": {
           "coordinates": [
            [
             -81.14308825053826,
             29.51334875179563,
             1
            ],
            [
             -81.13893575808126,
             29.51488275022148,
             1
            ]
           ],
           "type": "LineString"
          },
          "id": "9024",
          "properties": {
           "id": "9025",
           "style": {
            "color": "black",
            "fillColor": "black",
            "fillOpacity": 0.2,
            "weight": 1
           }
          },
          "type": "Feature"
         },
         {
          "geometry": {
           "coordinates": [
            [
             -81.14328138957266,
             29.51376726226923,
             1
            ],
            [
             -81.13913648041662,
             29.51529846021262,
             1
            ]
           ],
           "type": "LineString"
          },
          "id": "9025",
          "properties": {
           "id": "9026",
           "style": {
            "color": "black",
            "fillColor": "black",
            "fillOpacity": 0.2,
            "weight": 1
           }
          },
          "type": "Feature"
         },
         {
          "geometry": {
           "coordinates": [
            [
             -81.14347691428625,
             29.51418489241467,
             1
            ],
            [
             -81.13933720439859,
             29.51571416986921,
             1
            ]
           ],
           "type": "LineString"
          },
          "id": "9026",
          "properties": {
           "id": "9027",
           "style": {
            "color": "black",
            "fillColor": "black",
            "fillOpacity": 0.2,
            "weight": 1
           }
          },
          "type": "Feature"
         },
         {
          "geometry": {
           "coordinates": [
            [
             -81.14369349480275,
             29.51459474272387,
             1
            ],
            [
             -81.13953793002713,
             29.51612987919153,
             1
            ]
           ],
           "type": "LineString"
          },
          "id": "9027",
          "properties": {
           "id": "9028",
           "style": {
            "color": "black",
            "fillColor": "black",
            "fillOpacity": 0.2,
            "weight": 1
           }
          },
          "type": "Feature"
         },
         {
          "geometry": {
           "coordinates": [
            [
             -81.14391271029653,
             29.5150036204869,
             1
            ],
            [
             -81.13973865730239,
             29.51654558817937,
             1
            ]
           ],
           "type": "LineString"
          },
          "id": "9028",
          "properties": {
           "id": "9029",
           "style": {
            "color": "black",
            "fillColor": "black",
            "fillOpacity": 0.2,
            "weight": 1
           }
          },
          "type": "Feature"
         },
         {
          "geometry": {
           "coordinates": [
            [
             -81.14412021792803,
             29.5154168239754,
             1
            ],
            [
             -81.13993938622438,
             29.51696129683273,
             1
            ]
           ],
           "type": "LineString"
          },
          "id": "9029",
          "properties": {
           "id": "9030",
           "style": {
            "color": "black",
            "fillColor": "black",
            "fillOpacity": 0.2,
            "weight": 1
           }
          },
          "type": "Feature"
         },
         {
          "geometry": {
           "coordinates": [
            [
             -81.14429652204326,
             29.51584155529367,
             1
            ],
            [
             -81.14014011679309,
             29.51737700515155,
             1
            ]
           ],
           "type": "LineString"
          },
          "id": "9030",
          "properties": {
           "id": "9031",
           "style": {
            "color": "black",
            "fillColor": "black",
            "fillOpacity": 0.2,
            "weight": 1
           }
          },
          "type": "Feature"
         },
         {
          "geometry": {
           "coordinates": [
            [
             -81.14454625955554,
             29.51623915714968,
             1
            ],
            [
             -81.14034084900861,
             29.51779271313596,
             1
            ]
           ],
           "type": "LineString"
          },
          "id": "9031",
          "properties": {
           "id": "9032",
           "style": {
            "color": "black",
            "fillColor": "black",
            "fillOpacity": 0.2,
            "weight": 1
           }
          },
          "type": "Feature"
         },
         {
          "geometry": {
           "coordinates": [
            [
             -81.14474153393559,
             29.51665688103137,
             1
            ],
            [
             -81.14054158287101,
             29.51820842078601,
             1
            ]
           ],
           "type": "LineString"
          },
          "id": "9032",
          "properties": {
           "id": "9033",
           "style": {
            "color": "black",
            "fillColor": "black",
            "fillOpacity": 0.2,
            "weight": 1
           }
          },
          "type": "Feature"
         },
         {
          "geometry": {
           "coordinates": [
            [
             -81.14495620697907,
             29.51706743874099,
             1
            ],
            [
             -81.14074231838033,
             29.51862412810141,
             1
            ]
           ],
           "type": "LineString"
          },
          "id": "9033",
          "properties": {
           "id": "9034",
           "style": {
            "color": "black",
            "fillColor": "black",
            "fillOpacity": 0.2,
            "weight": 1
           }
          },
          "type": "Feature"
         },
         {
          "geometry": {
           "coordinates": [
            [
             -81.14517754381099,
             29.517475533765,
             1
            ],
            [
             -81.14094305553662,
             29.51903983508234,
             1
            ]
           ],
           "type": "LineString"
          },
          "id": "9034",
          "properties": {
           "id": "9035",
           "style": {
            "color": "black",
            "fillColor": "black",
            "fillOpacity": 0.2,
            "weight": 1
           }
          },
          "type": "Feature"
         },
         {
          "geometry": {
           "coordinates": [
            [
             -81.14538542302691,
             29.51788860094985,
             1
            ],
            [
             -81.14114379433991,
             29.51945554172863,
             1
            ]
           ],
           "type": "LineString"
          },
          "id": "9035",
          "properties": {
           "id": "9036",
           "style": {
            "color": "black",
            "fillColor": "black",
            "fillOpacity": 0.2,
            "weight": 1
           }
          },
          "type": "Feature"
         },
         {
          "geometry": {
           "coordinates": [
            [
             -81.14559831609701,
             29.51829981644048,
             1
            ],
            [
             -81.14134453479025,
             29.51987124804051,
             1
            ]
           ],
           "type": "LineString"
          },
          "id": "9036",
          "properties": {
           "id": "9037",
           "style": {
            "color": "black",
            "fillColor": "black",
            "fillOpacity": 0.2,
            "weight": 1
           }
          },
          "type": "Feature"
         },
         {
          "geometry": {
           "coordinates": [
            [
             -81.14579505993972,
             29.51871699892821,
             1
            ],
            [
             -81.14154527688773,
             29.52028695401775,
             1
            ]
           ],
           "type": "LineString"
          },
          "id": "9037",
          "properties": {
           "id": "9038",
           "style": {
            "color": "black",
            "fillColor": "black",
            "fillOpacity": 0.2,
            "weight": 1
           }
          },
          "type": "Feature"
         },
         {
          "geometry": {
           "coordinates": [
            [
             -81.14601527392274,
             29.51912551035759,
             1
            ],
            [
             -81.14174602063234,
             29.5207026596604,
             1
            ]
           ],
           "type": "LineString"
          },
          "id": "9038",
          "properties": {
           "id": "9039",
           "style": {
            "color": "black",
            "fillColor": "black",
            "fillOpacity": 0.2,
            "weight": 1
           }
          },
          "type": "Feature"
         },
         {
          "geometry": {
           "coordinates": [
            [
             -81.14623969960495,
             29.51953246595819,
             1
            ],
            [
             -81.14194676602413,
             29.52111836496834,
             1
            ]
           ],
           "type": "LineString"
          },
          "id": "9039",
          "properties": {
           "id": "9040",
           "style": {
            "color": "black",
            "fillColor": "black",
            "fillOpacity": 0.2,
            "weight": 1
           }
          },
          "type": "Feature"
         },
         {
          "geometry": {
           "coordinates": [
            [
             -81.14644715970475,
             29.51994568958623,
             1
            ],
            [
             -81.1421475130632,
             29.52153406994188,
             1
            ]
           ],
           "type": "LineString"
          },
          "id": "9040",
          "properties": {
           "id": "9041",
           "style": {
            "color": "black",
            "fillColor": "black",
            "fillOpacity": 0.2,
            "weight": 1
           }
          },
          "type": "Feature"
         },
         {
          "geometry": {
           "coordinates": [
            [
             -81.14656036765463,
             29.52039373395345,
             1
            ],
            [
             -81.14234826174959,
             29.52194977458068,
             1
            ]
           ],
           "type": "LineString"
          },
          "id": "9041",
          "properties": {
           "id": "9042",
           "style": {
            "color": "black",
            "fillColor": "black",
            "fillOpacity": 0.2,
            "weight": 1
           }
          },
          "type": "Feature"
         },
         {
          "geometry": {
           "coordinates": [
            [
             -81.14676168737181,
             29.520809227442,
             1
            ],
            [
             -81.14254901208328,
             29.52236547888484,
             1
            ]
           ],
           "type": "LineString"
          },
          "id": "9042",
          "properties": {
           "id": "9043",
           "style": {
            "color": "black",
            "fillColor": "black",
            "fillOpacity": 0.2,
            "weight": 1
           }
          },
          "type": "Feature"
         },
         {
          "geometry": {
           "coordinates": [
            [
             -81.1469693454871,
             29.52122237888269,
             1
            ],
            [
             -81.14274976406442,
             29.52278118285431,
             1
            ]
           ],
           "type": "LineString"
          },
          "id": "9043",
          "properties": {
           "id": "9044",
           "style": {
            "color": "black",
            "fillColor": "black",
            "fillOpacity": 0.2,
            "weight": 1
           }
          },
          "type": "Feature"
         },
         {
          "geometry": {
           "coordinates": [
            [
             -81.147173666628,
             29.52163676322624,
             1
            ],
            [
             -81.14295051769298,
             29.52319688648912,
             1
            ]
           ],
           "type": "LineString"
          },
          "id": "9044",
          "properties": {
           "id": "9045",
           "style": {
            "color": "black",
            "fillColor": "black",
            "fillOpacity": 0.2,
            "weight": 1
           }
          },
          "type": "Feature"
         },
         {
          "geometry": {
           "coordinates": [
            [
             -81.14738218766585,
             29.52204959630665,
             1
            ],
            [
             -81.14315127296905,
             29.52361258978923,
             1
            ]
           ],
           "type": "LineString"
          },
          "id": "9045",
          "properties": {
           "id": "9046",
           "style": {
            "color": "black",
            "fillColor": "black",
            "fillOpacity": 0.2,
            "weight": 1
           }
          },
          "type": "Feature"
         },
         {
          "geometry": {
           "coordinates": [
            [
             -81.14759024020388,
             29.5224626027009,
             1
            ],
            [
             -81.14335202989264,
             29.52402829275463,
             1
            ]
           ],
           "type": "LineString"
          },
          "id": "9046",
          "properties": {
           "id": "9047",
           "style": {
            "color": "black",
            "fillColor": "black",
            "fillOpacity": 0.2,
            "weight": 1
           }
          },
          "type": "Feature"
         },
         {
          "geometry": {
           "coordinates": [
            [
             -81.1477990820003,
             29.52287531814476,
             1
            ],
            [
             -81.14355278846386,
             29.52444399538529,
             1
            ]
           ],
           "type": "LineString"
          },
          "id": "9047",
          "properties": {
           "id": "9048",
           "style": {
            "color": "black",
            "fillColor": "black",
            "fillOpacity": 0.2,
            "weight": 1
           }
          },
          "type": "Feature"
         },
         {
          "geometry": {
           "coordinates": [
            [
             -81.14800386335085,
             29.52328953352706,
             1
            ],
            [
             -81.14375354868271,
             29.52485969768115,
             1
            ]
           ],
           "type": "LineString"
          },
          "id": "9048",
          "properties": {
           "id": "9049",
           "style": {
            "color": "black",
            "fillColor": "black",
            "fillOpacity": 0.2,
            "weight": 1
           }
          },
          "type": "Feature"
         },
         {
          "geometry": {
           "coordinates": [
            [
             -81.14821324068667,
             29.52370205186519,
             1
            ],
            [
             -81.14395431054925,
             29.5252753996424,
             1
            ]
           ],
           "type": "LineString"
          },
          "id": "9049",
          "properties": {
           "id": "9050",
           "style": {
            "color": "black",
            "fillColor": "black",
            "fillOpacity": 0.2,
            "weight": 1
           }
          },
          "type": "Feature"
         },
         {
          "geometry": {
           "coordinates": [
            [
             -81.14841901918993,
             29.52411589926093,
             1
            ],
            [
             -81.1441550740635,
             29.52569110126882,
             1
            ]
           ],
           "type": "LineString"
          },
          "id": "9050",
          "properties": {
           "id": "9051",
           "style": {
            "color": "black",
            "fillColor": "black",
            "fillOpacity": 0.2,
            "weight": 1
           }
          },
          "type": "Feature"
         },
         {
          "geometry": {
           "coordinates": [
            [
             -81.1486532022261,
             29.52451925262089,
             1
            ],
            [
             -81.14435583922558,
             29.52610680256043,
             1
            ]
           ],
           "type": "LineString"
          },
          "id": "9051",
          "properties": {
           "id": "9052",
           "style": {
            "color": "black",
            "fillColor": "black",
            "fillOpacity": 0.2,
            "weight": 1
           }
          },
          "type": "Feature"
         },
         {
          "geometry": {
           "coordinates": [
            [
             -81.14885391068081,
             29.52493497419465,
             1
            ],
            [
             -81.1445566060355,
             29.52652250351724,
             1
            ]
           ],
           "type": "LineString"
          },
          "id": "9052",
          "properties": {
           "id": "9053",
           "style": {
            "color": "black",
            "fillColor": "black",
            "fillOpacity": 0.2,
            "weight": 1
           }
          },
          "type": "Feature"
         },
         {
          "geometry": {
           "coordinates": [
            [
             -81.14906278146245,
             29.5253476806401,
             1
            ],
            [
             -81.14475737449327,
             29.52693820413923,
             1
            ]
           ],
           "type": "LineString"
          },
          "id": "9053",
          "properties": {
           "id": "9054",
           "style": {
            "color": "black",
            "fillColor": "black",
            "fillOpacity": 0.2,
            "weight": 1
           }
          },
          "type": "Feature"
         },
         {
          "geometry": {
           "coordinates": [
            [
             -81.14926890629836,
             29.52576140177293,
             1
            ],
            [
             -81.14495814459897,
             29.52735390442637,
             1
            ]
           ],
           "type": "LineString"
          },
          "id": "9054",
          "properties": {
           "id": "9055",
           "style": {
            "color": "black",
            "fillColor": "black",
            "fillOpacity": 0.2,
            "weight": 1
           }
          },
          "type": "Feature"
         },
         {
          "geometry": {
           "coordinates": [
            [
             -81.14948982065374,
             29.52616965950283,
             1
            ],
            [
             -81.14515891635268,
             29.52776960437868,
             1
            ]
           ],
           "type": "LineString"
          },
          "id": "9055",
          "properties": {
           "id": "9056",
           "style": {
            "color": "black",
            "fillColor": "black",
            "fillOpacity": 0.2,
            "weight": 1
           }
          },
          "type": "Feature"
         },
         {
          "geometry": {
           "coordinates": [
            [
             -81.14968030312946,
             29.52658915920264,
             1
            ],
            [
             -81.14535968975443,
             29.52818530399612,
             1
            ]
           ],
           "type": "LineString"
          },
          "id": "9056",
          "properties": {
           "id": "9057",
           "style": {
            "color": "black",
            "fillColor": "black",
            "fillOpacity": 0.2,
            "weight": 1
           }
          },
          "type": "Feature"
         },
         {
          "geometry": {
           "coordinates": [
            [
             -81.14988406431628,
             29.52700375395557,
             1
            ],
            [
             -81.14556046480423,
             29.52860100327868,
             1
            ]
           ],
           "type": "LineString"
          },
          "id": "9057",
          "properties": {
           "id": "9058",
           "style": {
            "color": "black",
            "fillColor": "black",
            "fillOpacity": 0.2,
            "weight": 1
           }
          },
          "type": "Feature"
         },
         {
          "geometry": {
           "coordinates": [
            [
             -81.1501265915938,
             29.52740402738865,
             1
            ],
            [
             -81.14576124150216,
             29.52901670222635,
             1
            ]
           ],
           "type": "LineString"
          },
          "id": "9058",
          "properties": {
           "id": "9059",
           "style": {
            "color": "black",
            "fillColor": "black",
            "fillOpacity": 0.2,
            "weight": 1
           }
          },
          "type": "Feature"
         },
         {
          "geometry": {
           "coordinates": [
            [
             -81.1503209691645,
             29.52782208985079,
             1
            ],
            [
             -81.14596201984828,
             29.52943240083907,
             1
            ]
           ],
           "type": "LineString"
          },
          "id": "9059",
          "properties": {
           "id": "9060",
           "style": {
            "color": "black",
            "fillColor": "black",
            "fillOpacity": 0.2,
            "weight": 1
           }
          },
          "type": "Feature"
         },
         {
          "geometry": {
           "coordinates": [
            [
             -81.15053254425085,
             29.52823379865658,
             1
            ],
            [
             -81.14616279984264,
             29.52984809911691,
             1
            ]
           ],
           "type": "LineString"
          },
          "id": "9060",
          "properties": {
           "id": "9061",
           "style": {
            "color": "black",
            "fillColor": "black",
            "fillOpacity": 0.2,
            "weight": 1
           }
          },
          "type": "Feature"
         },
         {
          "geometry": {
           "coordinates": [
            [
             -81.15073735926828,
             29.52864800546625,
             1
            ],
            [
             -81.14636358148528,
             29.53026379705977,
             1
            ]
           ],
           "type": "LineString"
          },
          "id": "9061",
          "properties": {
           "id": "9062",
           "style": {
            "color": "black",
            "fillColor": "black",
            "fillOpacity": 0.2,
            "weight": 1
           }
          },
          "type": "Feature"
         },
         {
          "geometry": {
           "coordinates": [
            [
             -81.15095101937575,
             29.5290589439016,
             1
            ],
            [
             -81.14656436477618,
             29.53067949466769,
             1
            ]
           ],
           "type": "LineString"
          },
          "id": "9062",
          "properties": {
           "id": "9063",
           "style": {
            "color": "black",
            "fillColor": "black",
            "fillOpacity": 0.2,
            "weight": 1
           }
          },
          "type": "Feature"
         },
         {
          "geometry": {
           "coordinates": [
            [
             -81.15115083944667,
             29.52947499724717,
             1
            ],
            [
             -81.14676514971549,
             29.53109519194064,
             1
            ]
           ],
           "type": "LineString"
          },
          "id": "9063",
          "properties": {
           "id": "9064",
           "style": {
            "color": "black",
            "fillColor": "black",
            "fillOpacity": 0.2,
            "weight": 1
           }
          },
          "type": "Feature"
         },
         {
          "geometry": {
           "coordinates": [
            [
             -81.15136257527887,
             29.52988664780409,
             1
            ],
            [
             -81.14696593630325,
             29.53151088887859,
             1
            ]
           ],
           "type": "LineString"
          },
          "id": "9064",
          "properties": {
           "id": "9065",
           "style": {
            "color": "black",
            "fillColor": "black",
            "fillOpacity": 0.2,
            "weight": 1
           }
          },
          "type": "Feature"
         },
         {
          "geometry": {
           "coordinates": [
            [
             -81.15158037928073,
             29.53029605703263,
             1
            ],
            [
             -81.14716672453943,
             29.53192658548151,
             1
            ]
           ],
           "type": "LineString"
          },
          "id": "9065",
          "properties": {
           "id": "9066",
           "style": {
            "color": "black",
            "fillColor": "black",
            "fillOpacity": 0.2,
            "weight": 1
           }
          },
          "type": "Feature"
         },
         {
          "geometry": {
           "coordinates": [
            [
             -81.15179697243342,
             29.53070591305479,
             1
            ],
            [
             -81.14736751442416,
             29.53234228174945,
             1
            ]
           ],
           "type": "LineString"
          },
          "id": "9066",
          "properties": {
           "id": "9067",
           "style": {
            "color": "black",
            "fillColor": "black",
            "fillOpacity": 0.2,
            "weight": 1
           }
          },
          "type": "Feature"
         },
         {
          "geometry": {
           "coordinates": [
            [
             -81.1520079873484,
             29.53111783138226,
             1
            ],
            [
             -81.14756830595744,
             29.53275797768234,
             1
            ]
           ],
           "type": "LineString"
          },
          "id": "9067",
          "properties": {
           "id": "9068",
           "style": {
            "color": "black",
            "fillColor": "black",
            "fillOpacity": 0.2,
            "weight": 1
           }
          },
          "type": "Feature"
         },
         {
          "geometry": {
           "coordinates": [
            [
             -81.15221085251281,
             29.53153275929476,
             1
            ],
            [
             -81.14776909913935,
             29.53317367328016,
             1
            ]
           ],
           "type": "LineString"
          },
          "id": "9068",
          "properties": {
           "id": "9069",
           "style": {
            "color": "black",
            "fillColor": "black",
            "fillOpacity": 0.2,
            "weight": 1
           }
          },
          "type": "Feature"
         },
         {
          "geometry": {
           "coordinates": [
            [
             -81.15242639475866,
             29.53194300479054,
             1
            ],
            [
             -81.14796989396991,
             29.53358936854293,
             1
            ]
           ],
           "type": "LineString"
          },
          "id": "9069",
          "properties": {
           "id": "9070",
           "style": {
            "color": "black",
            "fillColor": "black",
            "fillOpacity": 0.2,
            "weight": 1
           }
          },
          "type": "Feature"
         },
         {
          "geometry": {
           "coordinates": [
            [
             -81.15262921537608,
             29.53235795127337,
             1
            ],
            [
             -81.14817069044918,
             29.53400506347063,
             1
            ]
           ],
           "type": "LineString"
          },
          "id": "9070",
          "properties": {
           "id": "9071",
           "style": {
            "color": "black",
            "fillColor": "black",
            "fillOpacity": 0.2,
            "weight": 1
           }
          },
          "type": "Feature"
         },
         {
          "geometry": {
           "coordinates": [
            [
             -81.1528374420228,
             29.53277090027283,
             1
            ],
            [
             -81.14837148857724,
             29.5344207580632,
             1
            ]
           ],
           "type": "LineString"
          },
          "id": "9071",
          "properties": {
           "id": "9072",
           "style": {
            "color": "black",
            "fillColor": "black",
            "fillOpacity": 0.2,
            "weight": 1
           }
          },
          "type": "Feature"
         },
         {
          "geometry": {
           "coordinates": [
            [
             -81.15309008274428,
             29.5331674404725,
             1
            ],
            [
             -81.14857228835409,
             29.53483645232066,
             1
            ]
           ],
           "type": "LineString"
          },
          "id": "9072",
          "properties": {
           "id": "9073",
           "style": {
            "color": "black",
            "fillColor": "black",
            "fillOpacity": 0.2,
            "weight": 1
           }
          },
          "type": "Feature"
         },
         {
          "geometry": {
           "coordinates": [
            [
             -81.15328454621424,
             29.53358547502752,
             1
            ],
            [
             -81.1487730897798,
             29.535252146243,
             1
            ]
           ],
           "type": "LineString"
          },
          "id": "9073",
          "properties": {
           "id": "9074",
           "style": {
            "color": "black",
            "fillColor": "black",
            "fillOpacity": 0.2,
            "weight": 1
           }
          },
          "type": "Feature"
         },
         {
          "geometry": {
           "coordinates": [
            [
             -81.15348389515017,
             29.53400170412455,
             1
            ],
            [
             -81.1489738928544,
             29.53566783983018,
             1
            ]
           ],
           "type": "LineString"
          },
          "id": "9074",
          "properties": {
           "id": "9075",
           "style": {
            "color": "black",
            "fillColor": "black",
            "fillOpacity": 0.2,
            "weight": 1
           }
          },
          "type": "Feature"
         },
         {
          "geometry": {
           "coordinates": [
            [
             -81.15368174711558,
             29.53441848795257,
             1
            ],
            [
             -81.14917469757798,
             29.53608353308224,
             1
            ]
           ],
           "type": "LineString"
          },
          "id": "9075",
          "properties": {
           "id": "9076",
           "style": {
            "color": "black",
            "fillColor": "black",
            "fillOpacity": 0.2,
            "weight": 1
           }
          },
          "type": "Feature"
         },
         {
          "geometry": {
           "coordinates": [
            [
             -81.15387812848127,
             29.53483581400987,
             1
            ],
            [
             -81.14937550395055,
             29.53649922599907,
             1
            ]
           ],
           "type": "LineString"
          },
          "id": "9076",
          "properties": {
           "id": "9077",
           "style": {
            "color": "black",
            "fillColor": "black",
            "fillOpacity": 0.2,
            "weight": 1
           }
          },
          "type": "Feature"
         },
         {
          "geometry": {
           "coordinates": [
            [
             -81.15406606245271,
             29.53525626171101,
             1
            ],
            [
             -81.14957631197215,
             29.53691491858073,
             1
            ]
           ],
           "type": "LineString"
          },
          "id": "9077",
          "properties": {
           "id": "9078",
           "style": {
            "color": "black",
            "fillColor": "black",
            "fillOpacity": 0.2,
            "weight": 1
           }
          },
          "type": "Feature"
         },
         {
          "geometry": {
           "coordinates": [
            [
             -81.15427544950077,
             29.53566878322546,
             1
            ],
            [
             -81.1497771216429,
             29.5373306108272,
             1
            ]
           ],
           "type": "LineString"
          },
          "id": "9078",
          "properties": {
           "id": "9079",
           "style": {
            "color": "black",
            "fillColor": "black",
            "fillOpacity": 0.2,
            "weight": 1
           }
          },
          "type": "Feature"
         },
         {
          "geometry": {
           "coordinates": [
            [
             -81.15447834215763,
             29.53608370548724,
             1
            ],
            [
             -81.14997793296278,
             29.53774630273841,
             1
            ]
           ],
           "type": "LineString"
          },
          "id": "9079",
          "properties": {
           "id": "9080",
           "style": {
            "color": "black",
            "fillColor": "black",
            "fillOpacity": 0.2,
            "weight": 1
           }
          },
          "type": "Feature"
         },
         {
          "geometry": {
           "coordinates": [
            [
             -81.15469293534824,
             29.53649430458745,
             1
            ],
            [
             -81.15017874593185,
             29.53816199431442,
             1
            ]
           ],
           "type": "LineString"
          },
          "id": "9080",
          "properties": {
           "id": "9081",
           "style": {
            "color": "black",
            "fillColor": "black",
            "fillOpacity": 0.2,
            "weight": 1
           }
          },
          "type": "Feature"
         },
         {
          "geometry": {
           "coordinates": [
            [
             -81.15488897702714,
             29.53691175854182,
             1
            ],
            [
             -81.15037956055016,
             29.53857768555516,
             1
            ]
           ],
           "type": "LineString"
          },
          "id": "9081",
          "properties": {
           "id": "9082",
           "style": {
            "color": "black",
            "fillColor": "black",
            "fillOpacity": 0.2,
            "weight": 1
           }
          },
          "type": "Feature"
         },
         {
          "geometry": {
           "coordinates": [
            [
             -81.15512186856925,
             29.53731559783882,
             1
            ],
            [
             -81.15058037681779,
             29.53899337646071,
             1
            ]
           ],
           "type": "LineString"
          },
          "id": "9082",
          "properties": {
           "id": "9083",
           "style": {
            "color": "black",
            "fillColor": "black",
            "fillOpacity": 0.2,
            "weight": 1
           }
          },
          "type": "Feature"
         },
         {
          "geometry": {
           "coordinates": [
            [
             -81.15539237401882,
             29.53770554040315,
             1
            ],
            [
             -81.15078119473478,
             29.53940906703078,
             1
            ]
           ],
           "type": "LineString"
          },
          "id": "9083",
          "properties": {
           "id": "9084",
           "style": {
            "color": "black",
            "fillColor": "black",
            "fillOpacity": 0.2,
            "weight": 1
           }
          },
          "type": "Feature"
         },
         {
          "geometry": {
           "coordinates": [
            [
             -81.15558113044627,
             29.53812568560109,
             1
            ],
            [
             -81.1509820143011,
             29.53982475726568,
             1
            ]
           ],
           "type": "LineString"
          },
          "id": "9084",
          "properties": {
           "id": "9085",
           "style": {
            "color": "black",
            "fillColor": "black",
            "fillOpacity": 0.2,
            "weight": 1
           }
          },
          "type": "Feature"
         },
         {
          "geometry": {
           "coordinates": [
            [
             -81.15576952692757,
             29.53854596513664,
             1
            ],
            [
             -81.15118283551692,
             29.54024044716525,
             1
            ]
           ],
           "type": "LineString"
          },
          "id": "9085",
          "properties": {
           "id": "9086",
           "style": {
            "color": "black",
            "fillColor": "black",
            "fillOpacity": 0.2,
            "weight": 1
           }
          },
          "type": "Feature"
         },
         {
          "geometry": {
           "coordinates": [
            [
             -81.15599769841762,
             29.53895154936763,
             1
            ],
            [
             -81.15138365838222,
             29.54065613672946,
             1
            ]
           ],
           "type": "LineString"
          },
          "id": "9086",
          "properties": {
           "id": "9087",
           "style": {
            "color": "black",
            "fillColor": "black",
            "fillOpacity": 0.2,
            "weight": 1
           }
          },
          "type": "Feature"
         },
         {
          "geometry": {
           "coordinates": [
            [
             -81.15619839713163,
             29.5393672836348,
             1
            ],
            [
             -81.15158448289704,
             29.54107182595837,
             1
            ]
           ],
           "type": "LineString"
          },
          "id": "9087",
          "properties": {
           "id": "9088",
           "style": {
            "color": "black",
            "fillColor": "black",
            "fillOpacity": 0.2,
            "weight": 1
           }
          },
          "type": "Feature"
         },
         {
          "geometry": {
           "coordinates": [
            [
             -81.15641143680888,
             29.53977845938462,
             1
            ],
            [
             -81.15178530906144,
             29.54148751485195,
             1
            ]
           ],
           "type": "LineString"
          },
          "id": "9088",
          "properties": {
           "id": "9089",
           "style": {
            "color": "black",
            "fillColor": "black",
            "fillOpacity": 0.2,
            "weight": 1
           }
          },
          "type": "Feature"
         },
         {
          "geometry": {
           "coordinates": [
            [
             -81.15662091170742,
             29.54019095173945,
             1
            ],
            [
             -81.15198613687551,
             29.54190320341002,
             1
            ]
           ],
           "type": "LineString"
          },
          "id": "9089",
          "properties": {
           "id": "9090",
           "style": {
            "color": "black",
            "fillColor": "black",
            "fillOpacity": 0.2,
            "weight": 1
           }
          },
          "type": "Feature"
         },
         {
          "geometry": {
           "coordinates": [
            [
             -81.15681824732226,
             29.54060792980686,
             1
            ],
            [
             -81.15218696633926,
             29.54231889163276,
             1
            ]
           ],
           "type": "LineString"
          },
          "id": "9090",
          "properties": {
           "id": "9091",
           "style": {
            "color": "black",
            "fillColor": "black",
            "fillOpacity": 0.2,
            "weight": 1
           }
          },
          "type": "Feature"
         },
         {
          "geometry": {
           "coordinates": [
            [
             -81.1569820993027,
             29.54103727875998,
             1
            ],
            [
             -81.1523877974527,
             29.54273457952009,
             1
            ]
           ],
           "type": "LineString"
          },
          "id": "9091",
          "properties": {
           "id": "9092",
           "style": {
            "color": "black",
            "fillColor": "black",
            "fillOpacity": 0.2,
            "weight": 1
           }
          },
          "type": "Feature"
         },
         {
          "geometry": {
           "coordinates": [
            [
             -81.15717912657567,
             29.54145437054442,
             1
            ],
            [
             -81.15258863021599,
             29.54315026707203,
             1
            ]
           ],
           "type": "LineString"
          },
          "id": "9092",
          "properties": {
           "id": "9093",
           "style": {
            "color": "black",
            "fillColor": "black",
            "fillOpacity": 0.2,
            "weight": 1
           }
          },
          "type": "Feature"
         },
         {
          "geometry": {
           "coordinates": [
            [
             -81.15737101277217,
             29.54187336346193,
             1
            ],
            [
             -81.15278946462908,
             29.54356595428847,
             1
            ]
           ],
           "type": "LineString"
          },
          "id": "9093",
          "properties": {
           "id": "9094",
           "style": {
            "color": "black",
            "fillColor": "black",
            "fillOpacity": 0.2,
            "weight": 1
           }
          },
          "type": "Feature"
         },
         {
          "geometry": {
           "coordinates": [
            [
             -81.15760152166902,
             29.54227808608911,
             1
            ],
            [
             -81.15299030069207,
             29.54398164116947,
             1
            ]
           ],
           "type": "LineString"
          },
          "id": "9094",
          "properties": {
           "id": "9095",
           "style": {
            "color": "black",
            "fillColor": "black",
            "fillOpacity": 0.2,
            "weight": 1
           }
          },
          "type": "Feature"
         },
         {
          "geometry": {
           "coordinates": [
            [
             -81.157824643695,
             29.54268553791209,
             1
            ],
            [
             -81.15319113840495,
             29.54439732771515,
             1
            ]
           ],
           "type": "LineString"
          },
          "id": "9095",
          "properties": {
           "id": "9096",
           "style": {
            "color": "black",
            "fillColor": "black",
            "fillOpacity": 0.2,
            "weight": 1
           }
          },
          "type": "Feature"
         },
         {
          "geometry": {
           "coordinates": [
            [
             -81.1580261620199,
             29.54310097246919,
             1
            ],
            [
             -81.15339197776784,
             29.5448130139251,
             1
            ]
           ],
           "type": "LineString"
          },
          "id": "9096",
          "properties": {
           "id": "9097",
           "style": {
            "color": "black",
            "fillColor": "black",
            "fillOpacity": 0.2,
            "weight": 1
           }
          },
          "type": "Feature"
         },
         {
          "geometry": {
           "coordinates": [
            [
             -81.1582415738299,
             29.5435112733665,
             1
            ],
            [
             -81.15359281878074,
             29.54522869979973,
             1
            ]
           ],
           "type": "LineString"
          },
          "id": "9097",
          "properties": {
           "id": "9098",
           "style": {
            "color": "black",
            "fillColor": "black",
            "fillOpacity": 0.2,
            "weight": 1
           }
          },
          "type": "Feature"
         },
         {
          "geometry": {
           "coordinates": [
            [
             -81.15846073184147,
             29.5439201907314,
             1
            ],
            [
             -81.15379366144371,
             29.54564438533867,
             1
            ]
           ],
           "type": "LineString"
          },
          "id": "9098",
          "properties": {
           "id": "9099",
           "style": {
            "color": "black",
            "fillColor": "black",
            "fillOpacity": 0.2,
            "weight": 1
           }
          },
          "type": "Feature"
         },
         {
          "geometry": {
           "coordinates": [
            [
             -81.15863634908054,
             29.54434519548022,
             1
            ],
            [
             -81.15399450575681,
             29.54606007054224,
             1
            ]
           ],
           "type": "LineString"
          },
          "id": "9099",
          "properties": {
           "id": "9100",
           "style": {
            "color": "black",
            "fillColor": "black",
            "fillOpacity": 0.2,
            "weight": 1
           }
          },
          "type": "Feature"
         },
         {
          "geometry": {
           "coordinates": [
            [
             -81.15885277959094,
             29.54475512043618,
             1
            ],
            [
             -81.15419535172008,
             29.54647575541021,
             1
            ]
           ],
           "type": "LineString"
          },
          "id": "9100",
          "properties": {
           "id": "9101",
           "style": {
            "color": "black",
            "fillColor": "black",
            "fillOpacity": 0.2,
            "weight": 1
           }
          },
          "type": "Feature"
         },
         {
          "geometry": {
           "coordinates": [
            [
             -81.15904101130067,
             29.54517546488628,
             1
            ],
            [
             -81.15439619933358,
             29.54689143994251,
             1
            ]
           ],
           "type": "LineString"
          },
          "id": "9101",
          "properties": {
           "id": "9102",
           "style": {
            "color": "black",
            "fillColor": "black",
            "fillOpacity": 0.2,
            "weight": 1
           }
          },
          "type": "Feature"
         },
         {
          "geometry": {
           "coordinates": [
            [
             -81.15928752895277,
             29.5455742751338,
             1
            ],
            [
             -81.15459704859732,
             29.54730712413931,
             1
            ]
           ],
           "type": "LineString"
          },
          "id": "9102",
          "properties": {
           "id": "9103",
           "style": {
            "color": "black",
            "fillColor": "black",
            "fillOpacity": 0.2,
            "weight": 1
           }
          },
          "type": "Feature"
         },
         {
          "geometry": {
           "coordinates": [
            [
             -81.15948413377218,
             29.5459915269164,
             1
            ],
            [
             -81.15479789951142,
             29.54772280800051,
             1
            ]
           ],
           "type": "LineString"
          },
          "id": "9103",
          "properties": {
           "id": "9104",
           "style": {
            "color": "black",
            "fillColor": "black",
            "fillOpacity": 0.2,
            "weight": 1
           }
          },
          "type": "Feature"
         },
         {
          "geometry": {
           "coordinates": [
            [
             -81.15969159785529,
             29.5464047669564,
             1
            ],
            [
             -81.15499875207587,
             29.54813849152609,
             1
            ]
           ],
           "type": "LineString"
          },
          "id": "9104",
          "properties": {
           "id": "9105",
           "style": {
            "color": "black",
            "fillColor": "black",
            "fillOpacity": 0.2,
            "weight": 1
           }
          },
          "type": "Feature"
         },
         {
          "geometry": {
           "coordinates": [
            [
             -81.1598628958474,
             29.5468313684926,
             1
            ],
            [
             -81.15519960629075,
             29.54855417471607,
             1
            ]
           ],
           "type": "LineString"
          },
          "id": "9105",
          "properties": {
           "id": "9106",
           "style": {
            "color": "black",
            "fillColor": "black",
            "fillOpacity": 0.2,
            "weight": 1
           }
          },
          "type": "Feature"
         },
         {
          "geometry": {
           "coordinates": [
            [
             -81.1600996897232,
             29.54723377175206,
             1
            ],
            [
             -81.15540046215607,
             29.54896985757049,
             1
            ]
           ],
           "type": "LineString"
          },
          "id": "9106",
          "properties": {
           "id": "9107",
           "style": {
            "color": "black",
            "fillColor": "black",
            "fillOpacity": 0.2,
            "weight": 1
           }
          },
          "type": "Feature"
         },
         {
          "geometry": {
           "coordinates": [
            [
             -81.16028935861063,
             29.54765358733116,
             1
            ],
            [
             -81.1556013196719,
             29.54938554008906,
             1
            ]
           ],
           "type": "LineString"
          },
          "id": "9107",
          "properties": {
           "id": "9108",
           "style": {
            "color": "black",
            "fillColor": "black",
            "fillOpacity": 0.2,
            "weight": 1
           }
          },
          "type": "Feature"
         },
         {
          "geometry": {
           "coordinates": [
            [
             -81.16049840595039,
             29.54806624347184,
             1
            ],
            [
             -81.15580217883831,
             29.54980122227214,
             1
            ]
           ],
           "type": "LineString"
          },
          "id": "9108",
          "properties": {
           "id": "9109",
           "style": {
            "color": "black",
            "fillColor": "black",
            "fillOpacity": 0.2,
            "weight": 1
           }
          },
          "type": "Feature"
         },
         {
          "geometry": {
           "coordinates": [
            [
             -81.16073159586549,
             29.54846997924972,
             1
            ],
            [
             -81.15600303965533,
             29.55021690411936,
             1
            ]
           ],
           "type": "LineString"
          },
          "id": "9109",
          "properties": {
           "id": "9110",
           "style": {
            "color": "black",
            "fillColor": "black",
            "fillOpacity": 0.2,
            "weight": 1
           }
          },
          "type": "Feature"
         },
         {
          "geometry": {
           "coordinates": [
            [
             -81.1608797477874,
             29.54890513401811,
             1
            ],
            [
             -81.15620390212297,
             29.55063258563104,
             1
            ]
           ],
           "type": "LineString"
          },
          "id": "9110",
          "properties": {
           "id": "9111",
           "style": {
            "color": "black",
            "fillColor": "black",
            "fillOpacity": 0.2,
            "weight": 1
           }
          },
          "type": "Feature"
         },
         {
          "geometry": {
           "coordinates": [
            [
             -81.16111632830803,
             29.54930761757021,
             1
            ],
            [
             -81.15640476624138,
             29.55104826680682,
             1
            ]
           ],
           "type": "LineString"
          },
          "id": "9111",
          "properties": {
           "id": "9112",
           "style": {
            "color": "black",
            "fillColor": "black",
            "fillOpacity": 0.2,
            "weight": 1
           }
          },
          "type": "Feature"
         },
         {
          "geometry": {
           "coordinates": [
            [
             -81.16129177016205,
             29.54973269116741,
             1
            ],
            [
             -81.15660563201054,
             29.55146394764705,
             1
            ]
           ],
           "type": "LineString"
          },
          "id": "9112",
          "properties": {
           "id": "9113",
           "style": {
            "color": "black",
            "fillColor": "black",
            "fillOpacity": 0.2,
            "weight": 1
           }
          },
          "type": "Feature"
         },
         {
          "geometry": {
           "coordinates": [
            [
             -81.16150738887097,
             29.5501429201144,
             1
            ],
            [
             -81.15680649943047,
             29.55187962815145,
             1
            ]
           ],
           "type": "LineString"
          },
          "id": "9113",
          "properties": {
           "id": "9114",
           "style": {
            "color": "black",
            "fillColor": "black",
            "fillOpacity": 0.2,
            "weight": 1
           }
          },
          "type": "Feature"
         },
         {
          "geometry": {
           "coordinates": [
            [
             -81.16169813358894,
             29.5505623397367,
             1
            ],
            [
             -81.15700736850124,
             29.55229530832004,
             1
            ]
           ],
           "type": "LineString"
          },
          "id": "9114",
          "properties": {
           "id": "9115",
           "style": {
            "color": "black",
            "fillColor": "black",
            "fillOpacity": 0.2,
            "weight": 1
           }
          },
          "type": "Feature"
         },
         {
          "geometry": {
           "coordinates": [
            [
             -81.16190802644691,
             29.55097468516469,
             1
            ],
            [
             -81.15720823922297,
             29.55271098815289,
             1
            ]
           ],
           "type": "LineString"
          },
          "id": "9115",
          "properties": {
           "id": "9116",
           "style": {
            "color": "black",
            "fillColor": "black",
            "fillOpacity": 0.2,
            "weight": 1
           }
          },
          "type": "Feature"
         },
         {
          "geometry": {
           "coordinates": [
            [
             -81.16208749751442,
             29.55139826985482,
             1
            ],
            [
             -81.15740911159561,
             29.55312666764994,
             1
            ]
           ],
           "type": "LineString"
          },
          "id": "9116",
          "properties": {
           "id": "9117",
           "style": {
            "color": "black",
            "fillColor": "black",
            "fillOpacity": 0.2,
            "weight": 1
           }
          },
          "type": "Feature"
         },
         {
          "geometry": {
           "coordinates": [
            [
             -81.16227659278876,
             29.55181830017492,
             1
            ],
            [
             -81.15760998561929,
             29.55354234681115,
             1
            ]
           ],
           "type": "LineString"
          },
          "id": "9117",
          "properties": {
           "id": "9118",
           "style": {
            "color": "black",
            "fillColor": "black",
            "fillOpacity": 0.2,
            "weight": 1
           }
          },
          "type": "Feature"
         },
         {
          "geometry": {
           "coordinates": [
            [
             -81.16249339539138,
             29.5522280926168,
             1
            ],
            [
             -81.15781086129395,
             29.55395802563645,
             1
            ]
           ],
           "type": "LineString"
          },
          "id": "9118",
          "properties": {
           "id": "9119",
           "style": {
            "color": "black",
            "fillColor": "black",
            "fillOpacity": 0.2,
            "weight": 1
           }
          },
          "type": "Feature"
         },
         {
          "geometry": {
           "coordinates": [
            [
             -81.1627039842558,
             29.55264018178308,
             1
            ],
            [
             -81.15801173861975,
             29.5543737041261,
             1
            ]
           ],
           "type": "LineString"
          },
          "id": "9119",
          "properties": {
           "id": "9120",
           "style": {
            "color": "black",
            "fillColor": "black",
            "fillOpacity": 0.2,
            "weight": 1
           }
          },
          "type": "Feature"
         },
         {
          "geometry": {
           "coordinates": [
            [
             -81.1629172833048,
             29.55305127026568,
             1
            ],
            [
             -81.1582126175967,
             29.55478938227967,
             1
            ]
           ],
           "type": "LineString"
          },
          "id": "9120",
          "properties": {
           "id": "9121",
           "style": {
            "color": "black",
            "fillColor": "black",
            "fillOpacity": 0.2,
            "weight": 1
           }
          },
          "type": "Feature"
         },
         {
          "geometry": {
           "coordinates": [
            [
             -81.16312929142325,
             29.55346283555293,
             1
            ],
            [
             -81.15841349822485,
             29.55520506009759,
             1
            ]
           ],
           "type": "LineString"
          },
          "id": "9121",
          "properties": {
           "id": "9122",
           "style": {
            "color": "black",
            "fillColor": "black",
            "fillOpacity": 0.2,
            "weight": 1
           }
          },
          "type": "Feature"
         },
         {
          "geometry": {
           "coordinates": [
            [
             -81.16330702117077,
             29.55388706584828,
             1
            ],
            [
             -81.15861438050422,
             29.55562073757944,
             1
            ]
           ],
           "type": "LineString"
          },
          "id": "9122",
          "properties": {
           "id": "9123",
           "style": {
            "color": "black",
            "fillColor": "black",
            "fillOpacity": 0.2,
            "weight": 1
           }
          },
          "type": "Feature"
         },
         {
          "geometry": {
           "coordinates": [
            [
             -81.16348736820363,
             29.55431032997219,
             1
            ],
            [
             -81.15881526443489,
             29.55603641472553,
             1
            ]
           ],
           "type": "LineString"
          },
          "id": "9123",
          "properties": {
           "id": "9124",
           "style": {
            "color": "black",
            "fillColor": "black",
            "fillOpacity": 0.2,
            "weight": 1
           }
          },
          "type": "Feature"
         },
         {
          "geometry": {
           "coordinates": [
            [
             -81.16369162383941,
             29.55472476009041,
             1
            ],
            [
             -81.15901615001691,
             29.55645209153562,
             1
            ]
           ],
           "type": "LineString"
          },
          "id": "9124",
          "properties": {
           "id": "9125",
           "style": {
            "color": "black",
            "fillColor": "black",
            "fillOpacity": 0.2,
            "weight": 1
           }
          },
          "type": "Feature"
         },
         {
          "geometry": {
           "coordinates": [
            [
             -81.16388312263035,
             29.55514390389206,
             1
            ],
            [
             -81.15921703725029,
             29.55686776800977,
             1
            ]
           ],
           "type": "LineString"
          },
          "id": "9125",
          "properties": {
           "id": "9126",
           "style": {
            "color": "black",
            "fillColor": "black",
            "fillOpacity": 0.2,
            "weight": 1
           }
          },
          "type": "Feature"
         },
         {
          "geometry": {
           "coordinates": [
            [
             -81.16408456588839,
             29.55555937471518,
             1
            ],
            [
             -81.15941792613515,
             29.55728344414797,
             1
            ]
           ],
           "type": "LineString"
          },
          "id": "9126",
          "properties": {
           "id": "9127",
           "style": {
            "color": "black",
            "fillColor": "black",
            "fillOpacity": 0.2,
            "weight": 1
           }
          },
          "type": "Feature"
         },
         {
          "geometry": {
           "coordinates": [
            [
             -81.16428109103903,
             29.555976661288,
             1
            ],
            [
             -81.15961881667147,
             29.55769911995018,
             1
            ]
           ],
           "type": "LineString"
          },
          "id": "9127",
          "properties": {
           "id": "9128",
           "style": {
            "color": "black",
            "fillColor": "black",
            "fillOpacity": 0.2,
            "weight": 1
           }
          },
          "type": "Feature"
         },
         {
          "geometry": {
           "coordinates": [
            [
             -81.16448265535108,
             29.55639580955133,
             1
            ],
            [
             -81.15981970885936,
             29.55811479541644,
             1
            ]
           ],
           "type": "LineString"
          },
          "id": "9128",
          "properties": {
           "id": "9129",
           "style": {
            "color": "black",
            "fillColor": "black",
            "fillOpacity": 0.2,
            "weight": 1
           }
          },
          "type": "Feature"
         },
         {
          "geometry": {
           "coordinates": [
            [
             -81.16467093974587,
             29.55682585811885,
             1
            ],
            [
             -81.1600206026988,
             29.55853047054659,
             1
            ]
           ],
           "type": "LineString"
          },
          "id": "9129",
          "properties": {
           "id": "9130",
           "style": {
            "color": "black",
            "fillColor": "black",
            "fillOpacity": 0.2,
            "weight": 1
           }
          },
          "type": "Feature"
         },
         {
          "geometry": {
           "coordinates": [
            [
             -81.16489702959333,
             29.55724205797794,
             1
            ],
            [
             -81.16022149818988,
             29.5589461453409,
             1
            ]
           ],
           "type": "LineString"
          },
          "id": "9130",
          "properties": {
           "id": "9131",
           "style": {
            "color": "black",
            "fillColor": "black",
            "fillOpacity": 0.2,
            "weight": 1
           }
          },
          "type": "Feature"
         },
         {
          "geometry": {
           "coordinates": [
            [
             -81.16509655190148,
             29.55766797663607,
             1
            ],
            [
             -81.16042239533265,
             29.55936181979908,
             1
            ]
           ],
           "type": "LineString"
          },
          "id": "9131",
          "properties": {
           "id": "9132",
           "style": {
            "color": "black",
            "fillColor": "black",
            "fillOpacity": 0.2,
            "weight": 1
           }
          },
          "type": "Feature"
         },
         {
          "geometry": {
           "coordinates": [
            [
             -81.16533195506713,
             29.55808094519006,
             1
            ],
            [
             -81.16062329412713,
             29.55977749392123,
             1
            ]
           ],
           "type": "LineString"
          },
          "id": "9132",
          "properties": {
           "id": "9133",
           "style": {
            "color": "black",
            "fillColor": "black",
            "fillOpacity": 0.2,
            "weight": 1
           }
          },
          "type": "Feature"
         },
         {
          "geometry": {
           "coordinates": [
            [
             -81.16556480832249,
             29.55849495393385,
             1
            ],
            [
             -81.16082419457341,
             29.56019316770733,
             1
            ]
           ],
           "type": "LineString"
          },
          "id": "9133",
          "properties": {
           "id": "9134",
           "style": {
            "color": "black",
            "fillColor": "black",
            "fillOpacity": 0.2,
            "weight": 1
           }
          },
          "type": "Feature"
         },
         {
          "geometry": {
           "coordinates": [
            [
             -81.1657614908992,
             29.55892196427766,
             1
            ],
            [
             -81.1610250966715,
             29.56060884115734,
             1
            ]
           ],
           "type": "LineString"
          },
          "id": "9134",
          "properties": {
           "id": "9135",
           "style": {
            "color": "black",
            "fillColor": "black",
            "fillOpacity": 0.2,
            "weight": 1
           }
          },
          "type": "Feature"
         },
         {
          "geometry": {
           "coordinates": [
            [
             -81.16595676674446,
             29.55934943904063,
             1
            ],
            [
             -81.1612260004215,
             29.56102451427125,
             1
            ]
           ],
           "type": "LineString"
          },
          "id": "9135",
          "properties": {
           "id": "9136",
           "style": {
            "color": "black",
            "fillColor": "black",
            "fillOpacity": 0.2,
            "weight": 1
           }
          },
          "type": "Feature"
         },
         {
          "geometry": {
           "coordinates": [
            [
             -81.16612201417142,
             29.55978744611932,
             1
            ],
            [
             -81.1614269058234,
             29.56144018704905,
             1
            ]
           ],
           "type": "LineString"
          },
          "id": "9136",
          "properties": {
           "id": "9137",
           "style": {
            "color": "black",
            "fillColor": "black",
            "fillOpacity": 0.2,
            "weight": 1
           }
          },
          "type": "Feature"
         },
         {
          "geometry": {
           "coordinates": [
            [
             -81.16629954936509,
             29.56022099016149,
             1
            ],
            [
             -81.16162781287727,
             29.56185585949071,
             1
            ]
           ],
           "type": "LineString"
          },
          "id": "9137",
          "properties": {
           "id": "9138",
           "style": {
            "color": "black",
            "fillColor": "black",
            "fillOpacity": 0.2,
            "weight": 1
           }
          },
          "type": "Feature"
         },
         {
          "geometry": {
           "coordinates": [
            [
             -81.16648740619415,
             29.56065083004342,
             1
            ],
            [
             -81.16182872158316,
             29.56227153159625,
             1
            ]
           ],
           "type": "LineString"
          },
          "id": "9138",
          "properties": {
           "id": "9139",
           "style": {
            "color": "black",
            "fillColor": "black",
            "fillOpacity": 0.2,
            "weight": 1
           }
          },
          "type": "Feature"
         },
         {
          "geometry": {
           "coordinates": [
            [
             -81.16669104519322,
             29.56107514481629,
             1
            ],
            [
             -81.16202963194115,
             29.56268720336563,
             1
            ]
           ],
           "type": "LineString"
          },
          "id": "9139",
          "properties": {
           "id": "9140",
           "style": {
            "color": "black",
            "fillColor": "black",
            "fillOpacity": 0.2,
            "weight": 1
           }
          },
          "type": "Feature"
         },
         {
          "geometry": {
           "coordinates": [
            [
             -81.16687482924337,
             29.56150628774847,
             1
            ],
            [
             -81.16222161110049,
             29.56310595248693,
             1
            ]
           ],
           "type": "LineString"
          },
          "id": "9140",
          "properties": {
           "id": "9141",
           "style": {
            "color": "black",
            "fillColor": "black",
            "fillOpacity": 0.2,
            "weight": 1
           }
          },
          "type": "Feature"
         },
         {
          "geometry": {
           "coordinates": [
            [
             -81.1670901717337,
             29.56192663830545,
             1
            ],
            [
             -81.16239909153757,
             29.56352969717894,
             1
            ]
           ],
           "type": "LineString"
          },
          "id": "9141",
          "properties": {
           "id": "9142",
           "style": {
            "color": "black",
            "fillColor": "black",
            "fillOpacity": 0.2,
            "weight": 1
           }
          },
          "type": "Feature"
         },
         {
          "geometry": {
           "coordinates": [
            [
             -81.16727753841636,
             29.56235663199849,
             1
            ],
            [
             -81.16257657346387,
             29.56395344160121,
             1
            ]
           ],
           "type": "LineString"
          },
          "id": "9142",
          "properties": {
           "id": "9143",
           "style": {
            "color": "black",
            "fillColor": "black",
            "fillOpacity": 0.2,
            "weight": 1
           }
          },
          "type": "Feature"
         },
         {
          "geometry": {
           "coordinates": [
            [
             -81.16748069265041,
             29.56278131962071,
             1
            ],
            [
             -81.16275405687946,
             29.56437718575352,
             1
            ]
           ],
           "type": "LineString"
          },
          "id": "9143",
          "properties": {
           "id": "9144",
           "style": {
            "color": "black",
            "fillColor": "black",
            "fillOpacity": 0.2,
            "weight": 1
           }
          },
          "type": "Feature"
         },
         {
          "geometry": {
           "coordinates": [
            [
             -81.16766634000108,
             29.56321197273367,
             1
            ],
            [
             -81.16293154178432,
             29.56480092963603,
             1
            ]
           ],
           "type": "LineString"
          },
          "id": "9144",
          "properties": {
           "id": "9145",
           "style": {
            "color": "black",
            "fillColor": "black",
            "fillOpacity": 0.2,
            "weight": 1
           }
          },
          "type": "Feature"
         },
         {
          "geometry": {
           "coordinates": [
            [
             -81.1678539097716,
             29.5636420026119,
             1
            ],
            [
             -81.1631090281786,
             29.56522467324871,
             1
            ]
           ],
           "type": "LineString"
          },
          "id": "9145",
          "properties": {
           "id": "9146",
           "style": {
            "color": "black",
            "fillColor": "black",
            "fillOpacity": 0.2,
            "weight": 1
           }
          },
          "type": "Feature"
         },
         {
          "geometry": {
           "coordinates": [
            [
             -81.16804703413182,
             29.56407021758089,
             1
            ],
            [
             -81.16328651606223,
             29.56564841659139,
             1
            ]
           ],
           "type": "LineString"
          },
          "id": "9146",
          "properties": {
           "id": "9147",
           "style": {
            "color": "black",
            "fillColor": "black",
            "fillOpacity": 0.2,
            "weight": 1
           }
          },
          "type": "Feature"
         },
         {
          "geometry": {
           "coordinates": [
            [
             -81.16824596522103,
             29.56449656755018,
             1
            ],
            [
             -81.16346400543536,
             29.56607215966431,
             1
            ]
           ],
           "type": "LineString"
          },
          "id": "9147",
          "properties": {
           "id": "9148",
           "style": {
            "color": "black",
            "fillColor": "black",
            "fillOpacity": 0.2,
            "weight": 1
           }
          },
          "type": "Feature"
         },
         {
          "geometry": {
           "coordinates": [
            [
             -81.16845407163454,
             29.56491998315098,
             1
            ],
            [
             -81.16364149629796,
             29.56649590246727,
             1
            ]
           ],
           "type": "LineString"
          },
          "id": "9148",
          "properties": {
           "id": "9149",
           "style": {
            "color": "black",
            "fillColor": "black",
            "fillOpacity": 0.2,
            "weight": 1
           }
          },
          "type": "Feature"
         },
         {
          "geometry": {
           "coordinates": [
            [
             -81.16865818576123,
             29.56534480665364,
             1
            ],
            [
             -81.1638189886501,
             29.56691964500018,
             1
            ]
           ],
           "type": "LineString"
          },
          "id": "9149",
          "properties": {
           "id": "9150",
           "style": {
            "color": "black",
            "fillColor": "black",
            "fillOpacity": 0.2,
            "weight": 1
           }
          },
          "type": "Feature"
         },
         {
          "geometry": {
           "coordinates": [
            [
             -81.16882380974198,
             29.56578217272675,
             1
            ],
            [
             -81.16399648249185,
             29.56734338726325,
             1
            ]
           ],
           "type": "LineString"
          },
          "id": "9150",
          "properties": {
           "id": "9151",
           "style": {
            "color": "black",
            "fillColor": "black",
            "fillOpacity": 0.2,
            "weight": 1
           }
          },
          "type": "Feature"
         },
         {
          "geometry": {
           "coordinates": [
            [
             -81.1690096840073,
             29.56621296619346,
             1
            ],
            [
             -81.1641739778232,
             29.56776712925639,
             1
            ]
           ],
           "type": "LineString"
          },
          "id": "9151",
          "properties": {
           "id": "9152",
           "style": {
            "color": "black",
            "fillColor": "black",
            "fillOpacity": 0.2,
            "weight": 1
           }
          },
          "type": "Feature"
         },
         {
          "geometry": {
           "coordinates": [
            [
             -81.16921123731044,
             29.56663503821861,
             1
            ],
            [
             -81.16435147464426,
             29.56819087097941,
             1
            ]
           ],
           "type": "LineString"
          },
          "id": "9152",
          "properties": {
           "id": "9153",
           "style": {
            "color": "black",
            "fillColor": "black",
            "fillOpacity": 0.2,
            "weight": 1
           }
          },
          "type": "Feature"
         },
         {
          "geometry": {
           "coordinates": [
            [
             -81.16938263072853,
             29.56706073357783,
             1
            ],
            [
             -81.164528972955,
             29.56861461243259,
             1
            ]
           ],
           "type": "LineString"
          },
          "id": "9153",
          "properties": {
           "id": "9154",
           "style": {
            "color": "black",
            "fillColor": "black",
            "fillOpacity": 0.2,
            "weight": 1
           }
          },
          "type": "Feature"
         },
         {
          "geometry": {
           "coordinates": [
            [
             -81.1695823089088,
             29.56747737337644,
             1
            ],
            [
             -81.16470647275557,
             29.56903835361566,
             1
            ]
           ],
           "type": "LineString"
          },
          "id": "9154",
          "properties": {
           "id": "9155",
           "style": {
            "color": "black",
            "fillColor": "black",
            "fillOpacity": 0.2,
            "weight": 1
           }
          },
          "type": "Feature"
         },
         {
          "geometry": {
           "coordinates": [
            [
             -81.16976422590132,
             29.56789969858752,
             1
            ],
            [
             -81.16488397404594,
             29.56946209452894,
             1
            ]
           ],
           "type": "LineString"
          },
          "id": "9155",
          "properties": {
           "id": "9156",
           "style": {
            "color": "black",
            "fillColor": "black",
            "fillOpacity": 0.2,
            "weight": 1
           }
          },
          "type": "Feature"
         },
         {
          "geometry": {
           "coordinates": [
            [
             -81.16993639301346,
             29.56832514716425,
             1
            ],
            [
             -81.16506147682612,
             29.56988583517209,
             1
            ]
           ],
           "type": "LineString"
          },
          "id": "9156",
          "properties": {
           "id": "9157",
           "style": {
            "color": "black",
            "fillColor": "black",
            "fillOpacity": 0.2,
            "weight": 1
           }
          },
          "type": "Feature"
         },
         {
          "geometry": {
           "coordinates": [
            [
             -81.17013018747558,
             29.56874367103194,
             1
            ],
            [
             -81.16523898109625,
             29.57030957554512,
             1
            ]
           ],
           "type": "LineString"
          },
          "id": "9157",
          "properties": {
           "id": "9158",
           "style": {
            "color": "black",
            "fillColor": "black",
            "fillOpacity": 0.2,
            "weight": 1
           }
          },
          "type": "Feature"
         }
        ],
        "type": "FeatureCollection"
       },
       "hover_style": {
        "fillOpacity": 0.5,
        "weight": 2
       },
       "name": "SE_USA_transects",
       "style": {
        "color": "#000000",
        "fillOpacity": 0.1,
        "opacity": 1,
        "weight": 1
       }
      }
     },
     "9264c3b95f5849bf8b4b2c0c13a228d0": {
      "model_module": "@jupyter-widgets/controls",
      "model_module_version": "1.5.0",
      "model_name": "ToggleButtonModel",
      "state": {
       "icon": "server",
       "layout": "IPY_MODEL_f7d52d4bc1b84dd8a460f50c8b6541d0",
       "style": "IPY_MODEL_94dae92dc7304cbcaeaa2d0590b1a7d9",
       "tooltip": "Layers"
      }
     },
     "94c46c7abd834ddb904a783ff3dae7cc": {
      "model_module": "jupyter-leaflet",
      "model_module_version": "^0.16.0",
      "model_name": "LeafletWMSLayerModel",
      "state": {
       "_model_module_version": "^0.16.0",
       "_view_module_version": "^0.16.0",
       "attribution": "ESA",
       "crs": {
        "custom": false,
        "name": "EPSG3857"
       },
       "format": "image/png",
       "layers": "WORLDCOVER_2020_S2_TCC",
       "max_native_zoom": 18,
       "min_native_zoom": 0,
       "name": "ESA Worldcover 2020 S2 TCC",
       "options": [
        "attribution",
        "bounds",
        "detect_retina",
        "format",
        "layers",
        "max_native_zoom",
        "max_zoom",
        "min_native_zoom",
        "min_zoom",
        "no_wrap",
        "styles",
        "tile_size",
        "tms",
        "transparent",
        "uppercase"
       ],
       "transparent": true,
       "url": "https://services.terrascope.be/wms/v2"
      }
     },
     "94dae92dc7304cbcaeaa2d0590b1a7d9": {
      "model_module": "@jupyter-widgets/controls",
      "model_module_version": "1.5.0",
      "model_name": "DescriptionStyleModel",
      "state": {
       "description_width": ""
      }
     },
     "95f036cfc15d4ac98b04ff3ebbfb4b0d": {
      "model_module": "@jupyter-widgets/base",
      "model_module_version": "1.2.0",
      "model_name": "LayoutModel",
      "state": {
       "margin": "0px 10px 0px 10px",
       "max_height": "250px",
       "max_width": "250px"
      }
     },
     "9606d19a21694f47accedc9704f4e6db": {
      "model_module": "jupyter-leaflet",
      "model_module_version": "^0.16.0",
      "model_name": "LeafletTileLayerModel",
      "state": {
       "_model_module_version": "^0.16.0",
       "_view_module_version": "^0.16.0",
       "attribution": "Datenquelle: basemap.at",
       "max_native_zoom": 18,
       "max_zoom": 19,
       "min_native_zoom": 0,
       "name": "BasemapAT.terrain",
       "options": [
        "attribution",
        "bounds",
        "detect_retina",
        "max_native_zoom",
        "max_zoom",
        "min_native_zoom",
        "min_zoom",
        "no_wrap",
        "tile_size",
        "tms"
       ],
       "url": "https://maps.wien.gv.at/basemap/bmapgelaende/grau/google3857/{z}/{y}/{x}.jpeg"
      }
     },
     "968aeaee92f5436882d26271aa5af06b": {
      "model_module": "@jupyter-widgets/controls",
      "model_module_version": "1.5.0",
      "model_name": "HTMLModel",
      "state": {
       "layout": "IPY_MODEL_e1afda53cfdd4237810bbfdda8219fb9",
       "style": "IPY_MODEL_5d2ef7f230df43abb216aead290bd950",
       "value": "Hover over shoreline"
      }
     },
     "96ea8f566971450c8a65252ad37610ef": {
      "model_module": "@jupyter-widgets/controls",
      "model_module_version": "1.5.0",
      "model_name": "RadioButtonsModel",
      "state": {
       "_options_labels": [
        "C01",
        "C02"
       ],
       "description": "Collection:",
       "index": 0,
       "layout": "IPY_MODEL_05b40be2ce1a43eda0bf4526b24a0122",
       "style": "IPY_MODEL_c7fecd7f22184c5b87c8d1cfde665479"
      }
     },
     "96f34f97761b4f018e55fc581894265c": {
      "model_module": "@jupyter-widgets/base",
      "model_module_version": "1.2.0",
      "model_name": "LayoutModel",
      "state": {}
     },
     "96f975fdb0804e919c9bce78f985ed7a": {
      "model_module": "@jupyter-widgets/controls",
      "model_module_version": "1.5.0",
      "model_name": "DescriptionStyleModel",
      "state": {
       "description_width": ""
      }
     },
     "988ef9d6eb044618a2694077a9395ca8": {
      "model_module": "jupyter-leaflet",
      "model_module_version": "^0.16.0",
      "model_name": "LeafletTileLayerModel",
      "state": {
       "_model_module_version": "^0.16.0",
       "_view_module_version": "^0.16.0",
       "attribution": "![](https://docs.onemap.sg/maps/images/oneMap64-01.png) New OneMap | Map data (C) contributors, Singapore Land Authority",
       "max_native_zoom": 18,
       "min_native_zoom": 0,
       "name": "OneMapSG.Grey",
       "options": [
        "attribution",
        "bounds",
        "detect_retina",
        "max_native_zoom",
        "max_zoom",
        "min_native_zoom",
        "min_zoom",
        "no_wrap",
        "tile_size",
        "tms"
       ],
       "url": "https://maps-a.onemap.sg/v3/Grey/{z}/{x}/{y}.png"
      }
     },
     "98f6e1121c99422cbd51460c4f57a115": {
      "model_module": "jupyter-leaflet",
      "model_module_version": "^0.16.0",
      "model_name": "LeafletTileLayerModel",
      "state": {
       "_model_module_version": "^0.16.0",
       "_view_module_version": "^0.16.0",
       "attribution": "Imagery provided by services from the Global Imagery Browse Services (GIBS), operated by the NASA/GSFC/Earth Science Data and Information System (ESDIS) with funding provided by NASA/HQ.",
       "max_native_zoom": 18,
       "max_zoom": 12,
       "min_native_zoom": 0,
       "name": "NASAGIBS.ASTER_GDEM_Greyscale_Shaded_Relief",
       "options": [
        "attribution",
        "bounds",
        "detect_retina",
        "max_native_zoom",
        "max_zoom",
        "min_native_zoom",
        "min_zoom",
        "no_wrap",
        "tile_size",
        "tms"
       ],
       "url": "https://gibs.earthdata.nasa.gov/wmts/epsg3857/best/ASTER_GDEM_Greyscale_Shaded_Relief/default/GoogleMapsCompatible_Level12/{z}/{y}/{x}.jpg"
      }
     },
     "990659237ee64a5b9daa36d782e03be1": {
      "model_module": "@jupyter-widgets/controls",
      "model_module_version": "1.5.0",
      "model_name": "HTMLModel",
      "state": {
       "layout": "IPY_MODEL_1ea17d15bc3545a4a714582b70e96e97",
       "style": "IPY_MODEL_5db4f23db8e54c448f9e8c6d29b7881b",
       "value": "<b>2. Select Images Button</b>         <br> - This will open a pop up window where the folder containing the jpgs can be selected.<br>             - The model will be applied to this folder and the model outputs will be generated within a subdirectory             called 'out'<br>      - <span style=\"background-color:yellow;\">WARNING :</span> You will not be able to see the files within the folder you select.<br>    "
      }
     },
     "99ee8b497f5a419bbd1884abae75ba1d": {
      "model_module": "@jupyter-widgets/base",
      "model_module_version": "1.2.0",
      "model_name": "LayoutModel",
      "state": {}
     },
     "9ac52a6fa6714d7297760451f1fd6f73": {
      "model_module": "jupyter-leaflet",
      "model_module_version": "^0.16.0",
      "model_name": "LeafletTileLayerModel",
      "state": {
       "_model_module_version": "^0.16.0",
       "_view_module_version": "^0.16.0",
       "attribution": "Kaartgegevens (C) Kadaster",
       "max_native_zoom": 18,
       "max_zoom": 19,
       "min_native_zoom": 0,
       "name": "nlmaps.pastel",
       "options": [
        "attribution",
        "bounds",
        "detect_retina",
        "max_native_zoom",
        "max_zoom",
        "min_native_zoom",
        "min_zoom",
        "no_wrap",
        "tile_size",
        "tms"
       ],
       "url": "https://service.pdok.nl/brt/achtergrondkaart/wmts/v2_0/pastel/EPSG:3857/{z}/{x}/{y}.png"
      }
     },
     "9af69ee71b3f47e799f4611e61759ffe": {
      "model_module": "jupyter-leaflet",
      "model_module_version": "^0.16.0",
      "model_name": "LeafletTileLayerModel",
      "state": {
       "_model_module_version": "^0.16.0",
       "_view_module_version": "^0.16.0",
       "attribution": "Google",
       "max_native_zoom": 18,
       "max_zoom": 22,
       "min_native_zoom": 0,
       "name": "Google Satellite",
       "options": [
        "attribution",
        "bounds",
        "detect_retina",
        "max_native_zoom",
        "max_zoom",
        "min_native_zoom",
        "min_zoom",
        "no_wrap",
        "tile_size",
        "tms"
       ],
       "url": "https://mt1.google.com/vt/lyrs=s&x={x}&y={y}&z={z}"
      }
     },
     "9b7419788d4846449296ecf620581ebb": {
      "model_module": "jupyter-leaflet",
      "model_module_version": "^0.16.0",
      "model_name": "LeafletMapModel",
      "state": {
       "_model_module_version": "^0.16.0",
       "_view_module_version": "^0.16.0",
       "bottom": 434714.7631792226,
       "center": [
        29.463883736730185,
        -81.08522780700069
       ],
       "controls": [
        "IPY_MODEL_450e249a958d49548e42a4d606268a91",
        "IPY_MODEL_8e4ac0b852a843e59aa58bdea454c7d2",
        "IPY_MODEL_6044414060a24e38b55e1eb50c8df3da",
        "IPY_MODEL_ceabb90f197f4e52a90014019311477a",
        "IPY_MODEL_dfab4554d2c047269042bc9ce7be9f77",
        "IPY_MODEL_7db30266734d4f8ba4a18f25fc41e9f9",
        "IPY_MODEL_04d74a6c79964454a2bed05e1b27c2b6",
        "IPY_MODEL_1bf9fbe0b350450da3dfa831977565ce"
       ],
       "default_style": "IPY_MODEL_ddb7936818134a80b3c01702a04ab7e0",
       "dragging_style": "IPY_MODEL_ce8394f1da014b229f8fd470f2e1b812",
       "east": -80.93862899108272,
       "fullscreen": false,
       "interpolation": "bilinear",
       "layers": [
        "IPY_MODEL_476e9ef5516c465fad1b98797cfca276",
        "IPY_MODEL_5a98ded5a5e9471ea1d47f85af47a148",
        "IPY_MODEL_9126f424bb03436ebd53190a2562356b",
        "IPY_MODEL_b0861bf5d9f74023bba12dc8645925b4",
        "IPY_MODEL_84d2cdee4dbe461da68987349832c18a"
       ],
       "layout": "IPY_MODEL_52ba49d809c24462820f0915c13e37f5",
       "left": 287683.15601957345,
       "max_zoom": 24,
       "modisdate": "2022-08-09",
       "north": 29.55351989219975,
       "options": [
        "bounce_at_zoom_limits",
        "box_zoom",
        "center",
        "close_popup_on_click",
        "double_click_zoom",
        "dragging",
        "fullscreen",
        "inertia",
        "inertia_deceleration",
        "inertia_max_speed",
        "interpolation",
        "keyboard",
        "keyboard_pan_offset",
        "keyboard_zoom_offset",
        "max_zoom",
        "min_zoom",
        "prefer_canvas",
        "scroll_wheel_zoom",
        "tap",
        "tap_tolerance",
        "touch_zoom",
        "world_copy_jump",
        "zoom",
        "zoom_animation_threshold",
        "zoom_delta",
        "zoom_snap",
        "zoom_start"
       ],
       "prefer_canvas": false,
       "right": 288537.15601957345,
       "scroll_wheel_zoom": true,
       "south": 29.374168289002217,
       "style": "IPY_MODEL_ddb7936818134a80b3c01702a04ab7e0",
       "top": 434114.7631792226,
       "west": -81.23182662291866,
       "window_url": "http://localhost:8888/lab/workspaces/auto-S/tree/shoreline_transect_demo.ipynb"
      }
     },
     "9c4aaa47001d4315b97f273b8e885303": {
      "model_module": "@jupyter-widgets/controls",
      "model_module_version": "1.5.0",
      "model_name": "VBoxModel",
      "state": {
       "_view_count": 1,
       "children": [
        "IPY_MODEL_a1e5de67d95945748f688ea6acfceabd"
       ],
       "layout": "IPY_MODEL_44a0dccbcf604998a1b170f503692130"
      }
     },
     "a03f18c0859447fc97d71557137ca0db": {
      "model_module": "jupyter-leaflet",
      "model_module_version": "^0.16.0",
      "model_name": "LeafletTileLayerModel",
      "state": {
       "_model_module_version": "^0.16.0",
       "_view_module_version": "^0.16.0",
       "attribution": "Geoportail France",
       "max_native_zoom": 18,
       "max_zoom": 20,
       "min_native_zoom": 0,
       "name": "GeoportailFrance.parcels",
       "options": [
        "attribution",
        "bounds",
        "detect_retina",
        "max_native_zoom",
        "max_zoom",
        "min_native_zoom",
        "min_zoom",
        "no_wrap",
        "tile_size",
        "tms"
       ],
       "url": "https://wxs.ign.fr/choisirgeoportail/geoportail/wmts?REQUEST=GetTile&SERVICE=WMTS&VERSION=1.0.0&STYLE=PCI vecteur&TILEMATRIXSET=PM&FORMAT=image/png&LAYER=CADASTRALPARCELS.PARCELLAIRE_EXPRESS&TILEMATRIX={z}&TILEROW={y}&TILECOL={x}"
      }
     },
     "a086bfac3a5f413bb9d339fb7b98ba59": {
      "model_module": "jupyter-leaflet",
      "model_module_version": "^0.16.0",
      "model_name": "LeafletTileLayerModel",
      "state": {
       "_model_module_version": "^0.16.0",
       "_view_module_version": "^0.16.0",
       "attribution": "&copy; <a href=\"http://www.gaode.com/\">Gaode.com</a>",
       "max_native_zoom": 18,
       "max_zoom": 19,
       "min_native_zoom": 0,
       "name": "Gaode.Normal",
       "options": [
        "attribution",
        "bounds",
        "detect_retina",
        "max_native_zoom",
        "max_zoom",
        "min_native_zoom",
        "min_zoom",
        "no_wrap",
        "tile_size",
        "tms"
       ],
       "url": "http://webrd01.is.autonavi.com/appmaptile?lang=zh_cn&size=1&scale=1&style=7&x={x}&y={y}&z={z}"
      }
     },
     "a17d4af0843849b68c5b08690ffdb9b3": {
      "model_module": "jupyter-leaflet",
      "model_module_version": "^0.16.0",
      "model_name": "LeafletTileLayerModel",
      "state": {
       "_model_module_version": "^0.16.0",
       "_view_module_version": "^0.16.0",
       "attribution": "Geoportail France",
       "max_native_zoom": 18,
       "max_zoom": 19,
       "min_native_zoom": 0,
       "name": "GeoportailFrance.orthos",
       "options": [
        "attribution",
        "bounds",
        "detect_retina",
        "max_native_zoom",
        "max_zoom",
        "min_native_zoom",
        "min_zoom",
        "no_wrap",
        "tile_size",
        "tms"
       ],
       "url": "https://wxs.ign.fr/choisirgeoportail/geoportail/wmts?REQUEST=GetTile&SERVICE=WMTS&VERSION=1.0.0&STYLE=normal&TILEMATRIXSET=PM&FORMAT=image/jpeg&LAYER=ORTHOIMAGERY.ORTHOPHOTOS&TILEMATRIX={z}&TILEROW={y}&TILECOL={x}"
      }
     },
     "a1837580702243a491fc3b7bd1ad1512": {
      "model_module": "@jupyter-widgets/base",
      "model_module_version": "1.2.0",
      "model_name": "LayoutModel",
      "state": {}
     },
     "a1e5de67d95945748f688ea6acfceabd": {
      "model_module": "@jupyter-widgets/controls",
      "model_module_version": "1.5.0",
      "model_name": "ToggleButtonModel",
      "state": {
       "icon": "wrench",
       "layout": "IPY_MODEL_d624f0109dbf405b8997b548effec6e6",
       "style": "IPY_MODEL_81ad0cb9232a431ab146e68a40bae4df",
       "tooltip": "Toolbar"
      }
     },
     "a261bf0b0e85487a834ebf6f6a53e86e": {
      "model_module": "jupyter-leaflet",
      "model_module_version": "^0.16.0",
      "model_name": "LeafletTileLayerModel",
      "state": {
       "_model_module_version": "^0.16.0",
       "_view_module_version": "^0.16.0",
       "attribution": "(C) OpenStreetMap France | (C) OpenStreetMap contributors",
       "max_native_zoom": 18,
       "max_zoom": 20,
       "min_native_zoom": 0,
       "name": "OpenStreetMap.France",
       "options": [
        "attribution",
        "bounds",
        "detect_retina",
        "max_native_zoom",
        "max_zoom",
        "min_native_zoom",
        "min_zoom",
        "no_wrap",
        "tile_size",
        "tms"
       ],
       "url": "https://a.tile.openstreetmap.fr/osmfr/{z}/{x}/{y}.png"
      }
     },
     "a2dfc13c1d5d40e3942d65c90bd3063d": {
      "model_module": "@jupyter-widgets/controls",
      "model_module_version": "1.5.0",
      "model_name": "DescriptionStyleModel",
      "state": {
       "description_width": ""
      }
     },
     "a30b687c19134c60a4fd3baabd2b127c": {
      "model_module": "jupyter-leaflet",
      "model_module_version": "^0.16.0",
      "model_name": "LeafletTileLayerModel",
      "state": {
       "_model_module_version": "^0.16.0",
       "_view_module_version": "^0.16.0",
       "attribution": "Imagery provided by services from the Global Imagery Browse Services (GIBS), operated by the NASA/GSFC/Earth Science Data and Information System (ESDIS) with funding provided by NASA/HQ.",
       "max_native_zoom": 18,
       "max_zoom": 8,
       "min_native_zoom": 0,
       "name": "NASAGIBS.ViirsEarthAtNight2012",
       "options": [
        "attribution",
        "bounds",
        "detect_retina",
        "max_native_zoom",
        "max_zoom",
        "min_native_zoom",
        "min_zoom",
        "no_wrap",
        "tile_size",
        "tms"
       ],
       "url": "https://map1.vis.earthdata.nasa.gov/wmts-webmerc/VIIRS_CityLights_2012/default//GoogleMapsCompatible_Level8/{z}/{y}/{x}.jpg"
      }
     },
     "a39bd0bd7c81482c94968ad49ad49c95": {
      "model_module": "jupyter-leaflet",
      "model_module_version": "^0.16.0",
      "model_name": "LeafletTileLayerModel",
      "state": {
       "_model_module_version": "^0.16.0",
       "_view_module_version": "^0.16.0",
       "attribution": "© swisstopo",
       "max_native_zoom": 18,
       "min_native_zoom": 0,
       "name": "SwissFederalGeoportal.NationalMapGrey",
       "options": [
        "attribution",
        "bounds",
        "detect_retina",
        "max_native_zoom",
        "max_zoom",
        "min_native_zoom",
        "min_zoom",
        "no_wrap",
        "tile_size",
        "tms"
       ],
       "url": "https://wmts.geo.admin.ch/1.0.0/ch.swisstopo.pixelkarte-grau/default/current/3857/{z}/{x}/{y}.jpeg"
      }
     },
     "a5fabe3c6ff7464a981716e24cbdeb2d": {
      "model_module": "jupyter-leaflet",
      "model_module_version": "^0.16.0",
      "model_name": "LeafletWMSLayerModel",
      "state": {
       "_model_module_version": "^0.16.0",
       "_view_module_version": "^0.16.0",
       "attribution": "MRLC",
       "crs": {
        "custom": false,
        "name": "EPSG3857"
       },
       "format": "image/png",
       "layers": "NLCD_2004_Land_Cover_L48",
       "max_native_zoom": 18,
       "min_native_zoom": 0,
       "name": "NLCD 2004 CONUS Land Cover",
       "options": [
        "attribution",
        "bounds",
        "detect_retina",
        "format",
        "layers",
        "max_native_zoom",
        "max_zoom",
        "min_native_zoom",
        "min_zoom",
        "no_wrap",
        "styles",
        "tile_size",
        "tms",
        "transparent",
        "uppercase"
       ],
       "transparent": true,
       "url": "https://www.mrlc.gov/geoserver/mrlc_display/NLCD_2004_Land_Cover_L48/wms?"
      }
     },
     "a68a25b3b1d943d29c16e993ba28b870": {
      "model_module": "@jupyter-widgets/controls",
      "model_module_version": "1.5.0",
      "model_name": "HTMLModel",
      "state": {
       "layout": "IPY_MODEL_0bca67dfb3044a86a65551cefc55ec18",
       "style": "IPY_MODEL_30209774ffc549d6b7a5bff9816fc016",
       "value": "<b>1. Use Data Folder Button</b>         <br> - When CoastSat downloads imagery it created a folder called 'data'in the CoastSeg directory.            The jpgs within the 'data' folder will be copied to another folder with a name such as            <span style=\"background-color:LightGray;\">segmentation_data_2022-07-07__10_hr_04_min58 </span>            (the date and time will be the current date and time) <br>            The model will be applied to this folder and the model outputs will be generated within a subdirectory             called 'out'"
      }
     },
     "a814105e4b3547789a987a1d55598765": {
      "model_module": "jupyter-leaflet",
      "model_module_version": "^0.16.0",
      "model_name": "LeafletTileLayerModel",
      "state": {
       "_model_module_version": "^0.16.0",
       "_view_module_version": "^0.16.0",
       "attribution": "Map tiles by Stamen Design, CC BY 3.0 -- Map data (C) OpenStreetMap contributors",
       "max_native_zoom": 18,
       "max_zoom": 20,
       "min_native_zoom": 0,
       "name": "Stamen.TonerHybrid",
       "options": [
        "attribution",
        "bounds",
        "detect_retina",
        "max_native_zoom",
        "max_zoom",
        "min_native_zoom",
        "min_zoom",
        "no_wrap",
        "tile_size",
        "tms"
       ],
       "url": "https://stamen-tiles-a.a.ssl.fastly.net/toner-hybrid/{z}/{x}/{y}.png"
      }
     },
     "a82b53650e774ff3b8a4816a340125c6": {
      "model_module": "jupyter-leaflet",
      "model_module_version": "^0.16.0",
      "model_name": "LeafletTileLayerModel",
      "state": {
       "_model_module_version": "^0.16.0",
       "_view_module_version": "^0.16.0",
       "attribution": "Map tiles by Stamen Design, CC BY 3.0 -- Map data (C) OpenStreetMap contributors",
       "max_native_zoom": 18,
       "max_zoom": 20,
       "min_native_zoom": 0,
       "name": "Stamen.TopOSMFeatures",
       "options": [
        "attribution",
        "bounds",
        "detect_retina",
        "max_native_zoom",
        "max_zoom",
        "min_native_zoom",
        "min_zoom",
        "no_wrap",
        "tile_size",
        "tms"
       ],
       "url": "https://stamen-tiles-a.a.ssl.fastly.net/toposm-features/{z}/{x}/{y}.png"
      }
     },
     "a890085efc4443b0a8718760495109fa": {
      "model_module": "jupyter-leaflet",
      "model_module_version": "^0.16.0",
      "model_name": "LeafletWMSLayerModel",
      "state": {
       "_model_module_version": "^0.16.0",
       "_view_module_version": "^0.16.0",
       "attribution": "FWS",
       "crs": {
        "custom": false,
        "name": "EPSG3857"
       },
       "format": "image/png",
       "layers": "0",
       "max_native_zoom": 18,
       "min_native_zoom": 0,
       "name": "FWS NWI Wetlands Raster",
       "options": [
        "attribution",
        "bounds",
        "detect_retina",
        "format",
        "layers",
        "max_native_zoom",
        "max_zoom",
        "min_native_zoom",
        "min_zoom",
        "no_wrap",
        "styles",
        "tile_size",
        "tms",
        "transparent",
        "uppercase"
       ],
       "transparent": true,
       "url": "https://www.fws.gov/wetlands/arcgis/services/Wetlands_Raster/ImageServer/WMSServer?"
      }
     },
     "a8fe98317b6a4d888f3810416851ebad": {
      "model_module": "jupyter-leaflet",
      "model_module_version": "^0.16.0",
      "model_name": "LeafletTileLayerModel",
      "state": {
       "_model_module_version": "^0.16.0",
       "_view_module_version": "^0.16.0",
       "attribution": "Imagery provided by services from the Global Imagery Browse Services (GIBS), operated by the NASA/GSFC/Earth Science Data and Information System (ESDIS) with funding provided by NASA/HQ.",
       "max_native_zoom": 18,
       "max_zoom": 7,
       "min_native_zoom": 0,
       "name": "NASAGIBS.ModisTerraLSTDay",
       "options": [
        "attribution",
        "bounds",
        "detect_retina",
        "max_native_zoom",
        "max_zoom",
        "min_native_zoom",
        "min_zoom",
        "no_wrap",
        "tile_size",
        "tms"
       ],
       "url": "https://map1.vis.earthdata.nasa.gov/wmts-webmerc/MODIS_Terra_Land_Surface_Temp_Day/default//GoogleMapsCompatible_Level7/{z}/{y}/{x}.png"
      }
     },
     "a92efa7b3ed3437fb8346ce04988acc5": {
      "model_module": "@jupyter-widgets/base",
      "model_module_version": "1.2.0",
      "model_name": "LayoutModel",
      "state": {}
     },
     "a97bca8bd73f4da88616701bb819000a": {
      "model_module": "@jupyter-widgets/controls",
      "model_module_version": "1.5.0",
      "model_name": "DescriptionStyleModel",
      "state": {
       "description_width": ""
      }
     },
     "aa81b9d72c7442f68d75b658fda881fb": {
      "model_module": "jupyter-leaflet",
      "model_module_version": "^0.16.0",
      "model_name": "LeafletTileLayerModel",
      "state": {
       "_model_module_version": "^0.16.0",
       "_view_module_version": "^0.16.0",
       "attribution": "(C) OpenStreetMap contributors, Tiles style by Humanitarian OpenStreetMap Team hosted by OpenStreetMap France",
       "max_native_zoom": 18,
       "max_zoom": 19,
       "min_native_zoom": 0,
       "name": "OpenStreetMap.HOT",
       "options": [
        "attribution",
        "bounds",
        "detect_retina",
        "max_native_zoom",
        "max_zoom",
        "min_native_zoom",
        "min_zoom",
        "no_wrap",
        "tile_size",
        "tms"
       ],
       "url": "https://a.tile.openstreetmap.fr/hot/{z}/{x}/{y}.png"
      }
     },
     "aa835c6f9bf145c3a890e451cdde2fd7": {
      "model_module": "@jupyter-widgets/controls",
      "model_module_version": "1.5.0",
      "model_name": "DescriptionStyleModel",
      "state": {
       "description_width": ""
      }
     },
     "aae4679fa7894be48d886fe070b94bb6": {
      "model_module": "@jupyter-widgets/controls",
      "model_module_version": "1.5.0",
      "model_name": "DescriptionStyleModel",
      "state": {
       "description_width": ""
      }
     },
     "aaf79f72f608410b909460cfc51e7f6a": {
      "model_module": "@jupyter-widgets/base",
      "model_module_version": "1.2.0",
      "model_name": "LayoutModel",
      "state": {}
     },
     "ab02fdc59d5443aa8e28ff3fdb2d4ada": {
      "model_module": "@jupyter-widgets/base",
      "model_module_version": "1.2.0",
      "model_name": "LayoutModel",
      "state": {}
     },
     "ac59f7dccf5649a49ab42b1874e60c26": {
      "model_module": "@jupyter-widgets/controls",
      "model_module_version": "1.5.0",
      "model_name": "DescriptionStyleModel",
      "state": {
       "description_width": ""
      }
     },
     "b019bbaaa1f542dca8b86ac6c56642a5": {
      "model_module": "jupyter-leaflet",
      "model_module_version": "^0.16.0",
      "model_name": "LeafletWMSLayerModel",
      "state": {
       "_model_module_version": "^0.16.0",
       "_view_module_version": "^0.16.0",
       "attribution": "ESA",
       "crs": {
        "custom": false,
        "name": "EPSG3857"
       },
       "format": "image/png",
       "layers": "WORLDCOVER_2020_MAP",
       "max_native_zoom": 18,
       "min_native_zoom": 0,
       "name": "ESA Worldcover 2020",
       "options": [
        "attribution",
        "bounds",
        "detect_retina",
        "format",
        "layers",
        "max_native_zoom",
        "max_zoom",
        "min_native_zoom",
        "min_zoom",
        "no_wrap",
        "styles",
        "tile_size",
        "tms",
        "transparent",
        "uppercase"
       ],
       "transparent": true,
       "url": "https://services.terrascope.be/wms/v2"
      }
     },
     "b028db0125124b4495e787a3bef6459d": {
      "model_module": "jupyter-leaflet",
      "model_module_version": "^0.16.0",
      "model_name": "LeafletTileLayerModel",
      "state": {
       "_model_module_version": "^0.16.0",
       "_view_module_version": "^0.16.0",
       "attribution": "![](https://docs.onemap.sg/maps/images/oneMap64-01.png) New OneMap | Map data (C) contributors, Singapore Land Authority",
       "max_native_zoom": 18,
       "min_native_zoom": 0,
       "name": "OneMapSG.Default",
       "options": [
        "attribution",
        "bounds",
        "detect_retina",
        "max_native_zoom",
        "max_zoom",
        "min_native_zoom",
        "min_zoom",
        "no_wrap",
        "tile_size",
        "tms"
       ],
       "url": "https://maps-a.onemap.sg/v3/Default/{z}/{x}/{y}.png"
      }
     },
     "b0861bf5d9f74023bba12dc8645925b4": {
      "model_module": "jupyter-leaflet",
      "model_module_version": "^0.16.0",
      "model_name": "LeafletGeoJSONModel",
      "state": {
       "_model_module_version": "^0.16.0",
       "_view_module_version": "^0.16.0",
       "data": {
        "features": [
         {
          "geometry": {
           "coordinates": [
            [
             [
              -81.17381599999999,
              29.453780999999996
             ],
             [
              -81.17381599999999,
              29.51242981266766
             ],
             [
              -81.10644235369102,
              29.51242981266766
             ],
             [
              -81.10644235369102,
              29.453780999999996
             ],
             [
              -81.17381599999999,
              29.453780999999996
             ]
            ]
           ],
           "type": "Polygon"
          },
          "id": "0",
          "properties": {
           "CHLOROPHYLL": 1.611233,
           "CSU_Descriptor": "sloping, straight, low erodibility, sub tropical moist, low river discharge, low wave energy, moderately tidal, euhaline-oxic-warm to very warm, clear, low chlorophyll",
           "CSU_ID": 33370,
           "Cluster": 2,
           "EMU_PHYSICAL": "Euhaline-Oxic-Warm to Very Warm",
           "ERODIBILITY": "Low",
           "GHM": 0.566738,
           "LENGTH_GEO": 867.3030252400168,
           "MAX_SLOPE": 14.674723,
           "MEAN_SIG_WAVEHEIGHT": 0.997365,
           "MasterKey": 3195092,
           "OBJECTID": 3195092,
           "OUTFLOW_DENSITY": 0,
           "OUTFLOW_DENSITY_RESCALED": 0,
           "REGIONAL_SINUOSITY": 1.008314,
           "RandomSort": 1136932.3329067,
           "Shape_Length": 0.008031416781246914,
           "TEMP_MOISTURE": "Sub Tropical Moist",
           "TIDAL_RANGE": 1.780457,
           "TURBIDITY": 0.055,
           "chl_label": "low chlorophyll",
           "id": 0,
           "index_right": 5110,
           "river_label": "low river discharge",
           "sinuosity_label": "straight",
           "slope_label": "sloping",
           "style": {
            "color": "black",
            "fillColor": "grey",
            "fillOpacity": 0.1,
            "weight": 3
           },
           "tidal_label": "moderately tidal",
           "turbid_label": "clear",
           "wave_label": "low wave energy"
          },
          "type": "Feature"
         },
         {
          "geometry": {
           "coordinates": [
            [
             [
              -81.17381599999999,
              29.51242981266766
             ],
             [
              -81.17381599999999,
              29.571044662334106
             ],
             [
              -81.10644235369102,
              29.571044662334106
             ],
             [
              -81.10644235369102,
              29.51242981266766
             ],
             [
              -81.17381599999999,
              29.51242981266766
             ]
            ]
           ],
           "type": "Polygon"
          },
          "id": "1",
          "properties": {
           "CHLOROPHYLL": 1.611233,
           "CSU_Descriptor": "sloping, straight, low erodibility, sub tropical moist, low river discharge, low wave energy, moderately tidal, euhaline-oxic-warm to very warm, clear, low chlorophyll",
           "CSU_ID": 33370,
           "Cluster": 2,
           "EMU_PHYSICAL": "Euhaline-Oxic-Warm to Very Warm",
           "ERODIBILITY": "Low",
           "GHM": 0.566738,
           "LENGTH_GEO": 867.3030252400168,
           "MAX_SLOPE": 14.674723,
           "MEAN_SIG_WAVEHEIGHT": 0.997365,
           "MasterKey": 3195092,
           "OBJECTID": 3195092,
           "OUTFLOW_DENSITY": 0,
           "OUTFLOW_DENSITY_RESCALED": 0,
           "REGIONAL_SINUOSITY": 1.008314,
           "RandomSort": 1136932.3329067,
           "Shape_Length": 0.008031416781246914,
           "TEMP_MOISTURE": "Sub Tropical Moist",
           "TIDAL_RANGE": 1.780457,
           "TURBIDITY": 0.055,
           "chl_label": "low chlorophyll",
           "id": 1,
           "index_right": 5110,
           "river_label": "low river discharge",
           "sinuosity_label": "straight",
           "slope_label": "sloping",
           "style": {
            "color": "black",
            "fillColor": "grey",
            "fillOpacity": 0.1,
            "weight": 3
           },
           "tidal_label": "moderately tidal",
           "turbid_label": "clear",
           "wave_label": "low wave energy"
          },
          "type": "Feature"
         },
         {
          "geometry": {
           "coordinates": [
            [
             [
              -81.17381599999999,
              29.453780999999996
             ],
             [
              -81.17381599999999,
              29.51242981266766
             ],
             [
              -81.10644235369102,
              29.51242981266766
             ],
             [
              -81.10644235369102,
              29.453780999999996
             ],
             [
              -81.17381599999999,
              29.453780999999996
             ]
            ]
           ],
           "type": "Polygon"
          },
          "id": "2",
          "properties": {
           "CHLOROPHYLL": 1.606853,
           "CSU_Descriptor": "sloping, straight, low erodibility, sub tropical moist, low river discharge, low wave energy, moderately tidal, euhaline-oxic-warm to very warm, clear, low chlorophyll",
           "CSU_ID": 33370,
           "Cluster": 2,
           "EMU_PHYSICAL": "Euhaline-Oxic-Warm to Very Warm",
           "ERODIBILITY": "Low",
           "GHM": 0.6026,
           "LENGTH_GEO": 867.3753508355283,
           "MAX_SLOPE": 17.633044,
           "MEAN_SIG_WAVEHEIGHT": 0.997365,
           "MasterKey": 3195091,
           "OBJECTID": 3195091,
           "OUTFLOW_DENSITY": 0,
           "OUTFLOW_DENSITY_RESCALED": 0,
           "REGIONAL_SINUOSITY": 1.008314,
           "RandomSort": 898930.070721515,
           "Shape_Length": 0.008035381183041868,
           "TEMP_MOISTURE": "Sub Tropical Moist",
           "TIDAL_RANGE": 1.774261,
           "TURBIDITY": 0.055,
           "chl_label": "low chlorophyll",
           "id": 2,
           "index_right": 5109,
           "river_label": "low river discharge",
           "sinuosity_label": "straight",
           "slope_label": "sloping",
           "style": {
            "color": "black",
            "fillColor": "grey",
            "fillOpacity": 0.1,
            "weight": 3
           },
           "tidal_label": "moderately tidal",
           "turbid_label": "clear",
           "wave_label": "low wave energy"
          },
          "type": "Feature"
         },
         {
          "geometry": {
           "coordinates": [
            [
             [
              -81.17381599999999,
              29.453780999999996
             ],
             [
              -81.17381599999999,
              29.51242981266766
             ],
             [
              -81.10644235369102,
              29.51242981266766
             ],
             [
              -81.10644235369102,
              29.453780999999996
             ],
             [
              -81.17381599999999,
              29.453780999999996
             ]
            ]
           ],
           "type": "Polygon"
          },
          "id": "3",
          "properties": {
           "CHLOROPHYLL": 1.613319,
           "CSU_Descriptor": "sloping, straight, low erodibility, sub tropical moist, low river discharge, low wave energy, moderately tidal, euhaline-oxic-warm to very warm, clear, low chlorophyll",
           "CSU_ID": 33370,
           "Cluster": 2,
           "EMU_PHYSICAL": "Euhaline-Oxic-Warm to Very Warm",
           "ERODIBILITY": "Low",
           "GHM": 0.59004,
           "LENGTH_GEO": 867.3093599767453,
           "MAX_SLOPE": 13.344147,
           "MEAN_SIG_WAVEHEIGHT": 0.932785,
           "MasterKey": 3195090,
           "OBJECTID": 3195090,
           "OUTFLOW_DENSITY": 0,
           "OUTFLOW_DENSITY_RESCALED": 0,
           "REGIONAL_SINUOSITY": 1.008314,
           "RandomSort": 2432887.75474734,
           "Shape_Length": 0.00800124385153516,
           "TEMP_MOISTURE": "Sub Tropical Moist",
           "TIDAL_RANGE": 1.774261,
           "TURBIDITY": 0.055,
           "chl_label": "low chlorophyll",
           "id": 3,
           "index_right": 5108,
           "river_label": "low river discharge",
           "sinuosity_label": "straight",
           "slope_label": "sloping",
           "style": {
            "color": "black",
            "fillColor": "grey",
            "fillOpacity": 0.1,
            "weight": 3
           },
           "tidal_label": "moderately tidal",
           "turbid_label": "clear",
           "wave_label": "low wave energy"
          },
          "type": "Feature"
         },
         {
          "geometry": {
           "coordinates": [
            [
             [
              -81.17381599999999,
              29.453780999999996
             ],
             [
              -81.17381599999999,
              29.51242981266766
             ],
             [
              -81.10644235369102,
              29.51242981266766
             ],
             [
              -81.10644235369102,
              29.453780999999996
             ],
             [
              -81.17381599999999,
              29.453780999999996
             ]
            ]
           ],
           "type": "Polygon"
          },
          "id": "4",
          "properties": {
           "CHLOROPHYLL": 1.611487,
           "CSU_Descriptor": "sloping, straight, low erodibility, sub tropical moist, low river discharge, low wave energy, moderately tidal, euhaline-oxic-warm to very warm, clear, low chlorophyll",
           "CSU_ID": 33370,
           "Cluster": 2,
           "EMU_PHYSICAL": "Euhaline-Oxic-Warm to Very Warm",
           "ERODIBILITY": "Low",
           "GHM": 0.59004,
           "LENGTH_GEO": 867.4690676079314,
           "MAX_SLOPE": 12.567444,
           "MEAN_SIG_WAVEHEIGHT": 0.932785,
           "MasterKey": 3195089,
           "OBJECTID": 3195089,
           "OUTFLOW_DENSITY": 0,
           "OUTFLOW_DENSITY_RESCALED": 0,
           "REGIONAL_SINUOSITY": 1.008314,
           "RandomSort": 3177012.73702526,
           "Shape_Length": 0.008028952852176342,
           "TEMP_MOISTURE": "Sub Tropical Moist",
           "TIDAL_RANGE": 1.774261,
           "TURBIDITY": 0.0628,
           "chl_label": "low chlorophyll",
           "id": 4,
           "index_right": 5107,
           "river_label": "low river discharge",
           "sinuosity_label": "straight",
           "slope_label": "sloping",
           "style": {
            "color": "black",
            "fillColor": "grey",
            "fillOpacity": 0.1,
            "weight": 3
           },
           "tidal_label": "moderately tidal",
           "turbid_label": "clear",
           "wave_label": "low wave energy"
          },
          "type": "Feature"
         },
         {
          "geometry": {
           "coordinates": [
            [
             [
              -81.17381599999999,
              29.453780999999996
             ],
             [
              -81.17381599999999,
              29.51242981266766
             ],
             [
              -81.10644235369102,
              29.51242981266766
             ],
             [
              -81.10644235369102,
              29.453780999999996
             ],
             [
              -81.17381599999999,
              29.453780999999996
             ]
            ]
           ],
           "type": "Polygon"
          },
          "id": "5",
          "properties": {
           "CHLOROPHYLL": 1.614199,
           "CSU_Descriptor": "sloping, straight, low erodibility, sub tropical moist, low river discharge, low wave energy, moderately tidal, euhaline-oxic-warm to very warm, clear, low chlorophyll",
           "CSU_ID": 33370,
           "Cluster": 2,
           "EMU_PHYSICAL": "Euhaline-Oxic-Warm to Very Warm",
           "ERODIBILITY": "Low",
           "GHM": 0.632229,
           "LENGTH_GEO": 867.5823110312031,
           "MAX_SLOPE": 10.27186,
           "MEAN_SIG_WAVEHEIGHT": 0.932785,
           "MasterKey": 3195088,
           "OBJECTID": 3195088,
           "OUTFLOW_DENSITY": 0,
           "OUTFLOW_DENSITY_RESCALED": 0,
           "REGIONAL_SINUOSITY": 1.0097,
           "RandomSort": 3276461.90043216,
           "Shape_Length": 0.008043482225097452,
           "TEMP_MOISTURE": "Sub Tropical Moist",
           "TIDAL_RANGE": 1.774261,
           "TURBIDITY": 0.0628,
           "chl_label": "low chlorophyll",
           "id": 5,
           "index_right": 5106,
           "river_label": "low river discharge",
           "sinuosity_label": "straight",
           "slope_label": "sloping",
           "style": {
            "color": "black",
            "fillColor": "grey",
            "fillOpacity": 0.1,
            "weight": 3
           },
           "tidal_label": "moderately tidal",
           "turbid_label": "clear",
           "wave_label": "low wave energy"
          },
          "type": "Feature"
         },
         {
          "geometry": {
           "coordinates": [
            [
             [
              -81.17381599999999,
              29.453780999999996
             ],
             [
              -81.17381599999999,
              29.51242981266766
             ],
             [
              -81.10644235369102,
              29.51242981266766
             ],
             [
              -81.10644235369102,
              29.453780999999996
             ],
             [
              -81.17381599999999,
              29.453780999999996
             ]
            ]
           ],
           "type": "Polygon"
          },
          "id": "6",
          "properties": {
           "CHLOROPHYLL": 1.612173,
           "CSU_Descriptor": "sloping, straight, low erodibility, sub tropical moist, moderate river discharge, low wave energy, moderately tidal, euhaline-oxic-warm to very warm, clear, low chlorophyll",
           "CSU_ID": 39712,
           "Cluster": 2,
           "EMU_PHYSICAL": "Euhaline-Oxic-Warm to Very Warm",
           "ERODIBILITY": "Low",
           "GHM": 0.629787,
           "LENGTH_GEO": 867.443908618233,
           "MAX_SLOPE": 10.6239,
           "MEAN_SIG_WAVEHEIGHT": 0.932785,
           "MasterKey": 3195087,
           "OBJECTID": 3195087,
           "OUTFLOW_DENSITY": 89183.070312,
           "OUTFLOW_DENSITY_RESCALED": 0.00010782942434698485,
           "REGIONAL_SINUOSITY": 1.0097,
           "RandomSort": 3259449.19266848,
           "Shape_Length": 0.00798966092467035,
           "TEMP_MOISTURE": "Sub Tropical Moist",
           "TIDAL_RANGE": 1.774261,
           "TURBIDITY": 0.0628,
           "chl_label": "low chlorophyll",
           "id": 6,
           "index_right": 5105,
           "river_label": "moderate river discharge",
           "sinuosity_label": "straight",
           "slope_label": "sloping",
           "style": {
            "color": "black",
            "fillColor": "grey",
            "fillOpacity": 0.1,
            "weight": 3
           },
           "tidal_label": "moderately tidal",
           "turbid_label": "clear",
           "wave_label": "low wave energy"
          },
          "type": "Feature"
         },
         {
          "geometry": {
           "coordinates": [
            [
             [
              -81.17381599999999,
              29.453780999999996
             ],
             [
              -81.17381599999999,
              29.51242981266766
             ],
             [
              -81.10644235369102,
              29.51242981266766
             ],
             [
              -81.10644235369102,
              29.453780999999996
             ],
             [
              -81.17381599999999,
              29.453780999999996
             ]
            ]
           ],
           "type": "Polygon"
          },
          "id": "7",
          "properties": {
           "CHLOROPHYLL": 1.606994,
           "CSU_Descriptor": "sloping, straight, low erodibility, sub tropical moist, moderate river discharge, low wave energy, moderately tidal, euhaline-oxic-warm to very warm, clear, low chlorophyll",
           "CSU_ID": 39712,
           "Cluster": 2,
           "EMU_PHYSICAL": "Euhaline-Oxic-Warm to Very Warm",
           "ERODIBILITY": "Low",
           "GHM": 0.607793,
           "LENGTH_GEO": 867.6045068233993,
           "MAX_SLOPE": 18.874876,
           "MEAN_SIG_WAVEHEIGHT": 0.932785,
           "MasterKey": 3195086,
           "OBJECTID": 3195086,
           "OUTFLOW_DENSITY": 89183.070312,
           "OUTFLOW_DENSITY_RESCALED": 0.00010782942434698485,
           "REGIONAL_SINUOSITY": 1.0097,
           "RandomSort": 2868267.56196405,
           "Shape_Length": 0.008017516064115231,
           "TEMP_MOISTURE": "Sub Tropical Moist",
           "TIDAL_RANGE": 1.774261,
           "TURBIDITY": 0.0628,
           "chl_label": "low chlorophyll",
           "id": 7,
           "index_right": 5104,
           "river_label": "moderate river discharge",
           "sinuosity_label": "straight",
           "slope_label": "sloping",
           "style": {
            "color": "black",
            "fillColor": "grey",
            "fillOpacity": 0.1,
            "weight": 3
           },
           "tidal_label": "moderately tidal",
           "turbid_label": "clear",
           "wave_label": "low wave energy"
          },
          "type": "Feature"
         },
         {
          "geometry": {
           "coordinates": [
            [
             [
              -81.17381599999999,
              29.51242981266766
             ],
             [
              -81.17381599999999,
              29.571044662334106
             ],
             [
              -81.10644235369102,
              29.571044662334106
             ],
             [
              -81.10644235369102,
              29.51242981266766
             ],
             [
              -81.17381599999999,
              29.51242981266766
             ]
            ]
           ],
           "type": "Polygon"
          },
          "id": "8",
          "properties": {
           "CHLOROPHYLL": 1.595215,
           "CSU_Descriptor": "sloping, straight, low erodibility, sub tropical moist, low river discharge, low wave energy, moderately tidal, euhaline-oxic-warm to very warm, clear, low chlorophyll",
           "CSU_ID": 33370,
           "Cluster": 2,
           "EMU_PHYSICAL": "Euhaline-Oxic-Warm to Very Warm",
           "ERODIBILITY": "Low",
           "GHM": 0.650257,
           "LENGTH_GEO": 866.6767615258575,
           "MAX_SLOPE": 24.791954,
           "MEAN_SIG_WAVEHEIGHT": 0.997365,
           "MasterKey": 3195100,
           "OBJECTID": 3195100,
           "OUTFLOW_DENSITY": 0,
           "OUTFLOW_DENSITY_RESCALED": 0,
           "REGIONAL_SINUOSITY": 1.009652,
           "RandomSort": 2263980.1744524,
           "Shape_Length": 0.007987976071278725,
           "TEMP_MOISTURE": "Sub Tropical Moist",
           "TIDAL_RANGE": 1.805485,
           "TURBIDITY": 0.0476,
           "chl_label": "low chlorophyll",
           "id": 8,
           "index_right": 5118,
           "river_label": "low river discharge",
           "sinuosity_label": "straight",
           "slope_label": "sloping",
           "style": {
            "color": "black",
            "fillColor": "grey",
            "fillOpacity": 0.1,
            "weight": 3
           },
           "tidal_label": "moderately tidal",
           "turbid_label": "clear",
           "wave_label": "low wave energy"
          },
          "type": "Feature"
         },
         {
          "geometry": {
           "coordinates": [
            [
             [
              -81.17381599999999,
              29.51242981266766
             ],
             [
              -81.17381599999999,
              29.571044662334106
             ],
             [
              -81.10644235369102,
              29.571044662334106
             ],
             [
              -81.10644235369102,
              29.51242981266766
             ],
             [
              -81.17381599999999,
              29.51242981266766
             ]
            ]
           ],
           "type": "Polygon"
          },
          "id": "9",
          "properties": {
           "CHLOROPHYLL": 1.621199,
           "CSU_Descriptor": "sloping, straight, low erodibility, sub tropical moist, low river discharge, low wave energy, moderately tidal, euhaline-oxic-warm to very warm, clear, low chlorophyll",
           "CSU_ID": 33370,
           "Cluster": 2,
           "EMU_PHYSICAL": "Euhaline-Oxic-Warm to Very Warm",
           "ERODIBILITY": "Low",
           "GHM": 0.59171,
           "LENGTH_GEO": 866.773841966696,
           "MAX_SLOPE": 14.121604,
           "MEAN_SIG_WAVEHEIGHT": 0.997365,
           "MasterKey": 3195099,
           "OBJECTID": 3195099,
           "OUTFLOW_DENSITY": 0,
           "OUTFLOW_DENSITY_RESCALED": 0,
           "REGIONAL_SINUOSITY": 1.009652,
           "RandomSort": 38099.509191087,
           "Shape_Length": 0.00799870223889527,
           "TEMP_MOISTURE": "Sub Tropical Moist",
           "TIDAL_RANGE": 1.805485,
           "TURBIDITY": 0.0476,
           "chl_label": "low chlorophyll",
           "id": 9,
           "index_right": 5117,
           "river_label": "low river discharge",
           "sinuosity_label": "straight",
           "slope_label": "sloping",
           "style": {
            "color": "black",
            "fillColor": "grey",
            "fillOpacity": 0.1,
            "weight": 3
           },
           "tidal_label": "moderately tidal",
           "turbid_label": "clear",
           "wave_label": "low wave energy"
          },
          "type": "Feature"
         },
         {
          "geometry": {
           "coordinates": [
            [
             [
              -81.17381599999999,
              29.51242981266766
             ],
             [
              -81.17381599999999,
              29.571044662334106
             ],
             [
              -81.10644235369102,
              29.571044662334106
             ],
             [
              -81.10644235369102,
              29.51242981266766
             ],
             [
              -81.17381599999999,
              29.51242981266766
             ]
            ]
           ],
           "type": "Polygon"
          },
          "id": "10",
          "properties": {
           "CHLOROPHYLL": 1.631854,
           "CSU_Descriptor": "sloping, straight, low erodibility, sub tropical moist, low river discharge, low wave energy, moderately tidal, euhaline-oxic-warm to very warm, clear, low chlorophyll",
           "CSU_ID": 33370,
           "Cluster": 2,
           "EMU_PHYSICAL": "Euhaline-Oxic-Warm to Very Warm",
           "ERODIBILITY": "Low",
           "GHM": 0.5989,
           "LENGTH_GEO": 866.8603065639834,
           "MAX_SLOPE": 12.664399,
           "MEAN_SIG_WAVEHEIGHT": 0.997365,
           "MasterKey": 3195098,
           "OBJECTID": 3195098,
           "OUTFLOW_DENSITY": 0,
           "OUTFLOW_DENSITY_RESCALED": 0,
           "REGIONAL_SINUOSITY": 1.008314,
           "RandomSort": 2632163.40947423,
           "Shape_Length": 0.008006412737049697,
           "TEMP_MOISTURE": "Sub Tropical Moist",
           "TIDAL_RANGE": 1.789799,
           "TURBIDITY": 0.0476,
           "chl_label": "low chlorophyll",
           "id": 10,
           "index_right": 5116,
           "river_label": "low river discharge",
           "sinuosity_label": "straight",
           "slope_label": "sloping",
           "style": {
            "color": "black",
            "fillColor": "grey",
            "fillOpacity": 0.1,
            "weight": 3
           },
           "tidal_label": "moderately tidal",
           "turbid_label": "clear",
           "wave_label": "low wave energy"
          },
          "type": "Feature"
         },
         {
          "geometry": {
           "coordinates": [
            [
             [
              -81.17381599999999,
              29.51242981266766
             ],
             [
              -81.17381599999999,
              29.571044662334106
             ],
             [
              -81.10644235369102,
              29.571044662334106
             ],
             [
              -81.10644235369102,
              29.51242981266766
             ],
             [
              -81.17381599999999,
              29.51242981266766
             ]
            ]
           ],
           "type": "Polygon"
          },
          "id": "11",
          "properties": {
           "CHLOROPHYLL": 1.611994,
           "CSU_Descriptor": "sloping, straight, low erodibility, sub tropical moist, low river discharge, low wave energy, moderately tidal, euhaline-oxic-warm to very warm, clear, low chlorophyll",
           "CSU_ID": 33370,
           "Cluster": 2,
           "EMU_PHYSICAL": "Euhaline-Oxic-Warm to Very Warm",
           "ERODIBILITY": "Low",
           "GHM": 0.562215,
           "LENGTH_GEO": 866.9494008641831,
           "MAX_SLOPE": 20.313735,
           "MEAN_SIG_WAVEHEIGHT": 0.997365,
           "MasterKey": 3195097,
           "OBJECTID": 3195097,
           "OUTFLOW_DENSITY": 0,
           "OUTFLOW_DENSITY_RESCALED": 0,
           "REGIONAL_SINUOSITY": 1.008314,
           "RandomSort": 283816.363589803,
           "Shape_Length": 0.008014793555007154,
           "TEMP_MOISTURE": "Sub Tropical Moist",
           "TIDAL_RANGE": 1.789799,
           "TURBIDITY": 0.0476,
           "chl_label": "low chlorophyll",
           "id": 11,
           "index_right": 5115,
           "river_label": "low river discharge",
           "sinuosity_label": "straight",
           "slope_label": "sloping",
           "style": {
            "color": "black",
            "fillColor": "grey",
            "fillOpacity": 0.1,
            "weight": 3
           },
           "tidal_label": "moderately tidal",
           "turbid_label": "clear",
           "wave_label": "low wave energy"
          },
          "type": "Feature"
         },
         {
          "geometry": {
           "coordinates": [
            [
             [
              -81.17381599999999,
              29.51242981266766
             ],
             [
              -81.17381599999999,
              29.571044662334106
             ],
             [
              -81.10644235369102,
              29.571044662334106
             ],
             [
              -81.10644235369102,
              29.51242981266766
             ],
             [
              -81.17381599999999,
              29.51242981266766
             ]
            ]
           ],
           "type": "Polygon"
          },
          "id": "12",
          "properties": {
           "CHLOROPHYLL": 1.611638,
           "CSU_Descriptor": "sloping, straight, low erodibility, sub tropical moist, low river discharge, low wave energy, moderately tidal, euhaline-oxic-warm to very warm, clear, low chlorophyll",
           "CSU_ID": 33370,
           "Cluster": 2,
           "EMU_PHYSICAL": "Euhaline-Oxic-Warm to Very Warm",
           "ERODIBILITY": "Low",
           "GHM": 0.569271,
           "LENGTH_GEO": 867.0855238250028,
           "MAX_SLOPE": 14.219745,
           "MEAN_SIG_WAVEHEIGHT": 0.997365,
           "MasterKey": 3195096,
           "OBJECTID": 3195096,
           "OUTFLOW_DENSITY": 0,
           "OUTFLOW_DENSITY_RESCALED": 0,
           "REGIONAL_SINUOSITY": 1.008314,
           "RandomSort": 463417.386088918,
           "Shape_Length": 0.00803617835816143,
           "TEMP_MOISTURE": "Sub Tropical Moist",
           "TIDAL_RANGE": 1.780457,
           "TURBIDITY": 0.055,
           "chl_label": "low chlorophyll",
           "id": 12,
           "index_right": 5114,
           "river_label": "low river discharge",
           "sinuosity_label": "straight",
           "slope_label": "sloping",
           "style": {
            "color": "black",
            "fillColor": "grey",
            "fillOpacity": 0.1,
            "weight": 3
           },
           "tidal_label": "moderately tidal",
           "turbid_label": "clear",
           "wave_label": "low wave energy"
          },
          "type": "Feature"
         },
         {
          "geometry": {
           "coordinates": [
            [
             [
              -81.17381599999999,
              29.51242981266766
             ],
             [
              -81.17381599999999,
              29.571044662334106
             ],
             [
              -81.10644235369102,
              29.571044662334106
             ],
             [
              -81.10644235369102,
              29.51242981266766
             ],
             [
              -81.17381599999999,
              29.51242981266766
             ]
            ]
           ],
           "type": "Polygon"
          },
          "id": "13",
          "properties": {
           "CHLOROPHYLL": 1.608816,
           "CSU_Descriptor": "sloping, straight, low erodibility, sub tropical moist, low river discharge, low wave energy, moderately tidal, euhaline-oxic-warm to very warm, clear, low chlorophyll",
           "CSU_ID": 33370,
           "Cluster": 2,
           "EMU_PHYSICAL": "Euhaline-Oxic-Warm to Very Warm",
           "ERODIBILITY": "Low",
           "GHM": 0.569271,
           "LENGTH_GEO": 867.068831765796,
           "MAX_SLOPE": 13.2501,
           "MEAN_SIG_WAVEHEIGHT": 0.997365,
           "MasterKey": 3195095,
           "OBJECTID": 3195095,
           "OUTFLOW_DENSITY": 0,
           "OUTFLOW_DENSITY_RESCALED": 0,
           "REGIONAL_SINUOSITY": 1.008314,
           "RandomSort": 3121103.21470149,
           "Shape_Length": 0.008015456048683308,
           "TEMP_MOISTURE": "Sub Tropical Moist",
           "TIDAL_RANGE": 1.780457,
           "TURBIDITY": 0.055,
           "chl_label": "low chlorophyll",
           "id": 13,
           "index_right": 5113,
           "river_label": "low river discharge",
           "sinuosity_label": "straight",
           "slope_label": "sloping",
           "style": {
            "color": "black",
            "fillColor": "grey",
            "fillOpacity": 0.1,
            "weight": 3
           },
           "tidal_label": "moderately tidal",
           "turbid_label": "clear",
           "wave_label": "low wave energy"
          },
          "type": "Feature"
         },
         {
          "geometry": {
           "coordinates": [
            [
             [
              -81.17381599999999,
              29.51242981266766
             ],
             [
              -81.17381599999999,
              29.571044662334106
             ],
             [
              -81.10644235369102,
              29.571044662334106
             ],
             [
              -81.10644235369102,
              29.51242981266766
             ],
             [
              -81.17381599999999,
              29.51242981266766
             ]
            ]
           ],
           "type": "Polygon"
          },
          "id": "14",
          "properties": {
           "CHLOROPHYLL": 1.617344,
           "CSU_Descriptor": "sloping, straight, low erodibility, sub tropical moist, low river discharge, low wave energy, moderately tidal, euhaline-oxic-warm to very warm, clear, low chlorophyll",
           "CSU_ID": 33370,
           "Cluster": 2,
           "EMU_PHYSICAL": "Euhaline-Oxic-Warm to Very Warm",
           "ERODIBILITY": "Low",
           "GHM": 0.575571,
           "LENGTH_GEO": 867.188848814597,
           "MAX_SLOPE": 12.368083,
           "MEAN_SIG_WAVEHEIGHT": 0.997365,
           "MasterKey": 3195094,
           "OBJECTID": 3195094,
           "OUTFLOW_DENSITY": 0,
           "OUTFLOW_DENSITY_RESCALED": 0,
           "REGIONAL_SINUOSITY": 1.008314,
           "RandomSort": 1588201.84961137,
           "Shape_Length": 0.008032270789446395,
           "TEMP_MOISTURE": "Sub Tropical Moist",
           "TIDAL_RANGE": 1.780457,
           "TURBIDITY": 0.055,
           "chl_label": "low chlorophyll",
           "id": 14,
           "index_right": 5112,
           "river_label": "low river discharge",
           "sinuosity_label": "straight",
           "slope_label": "sloping",
           "style": {
            "color": "black",
            "fillColor": "grey",
            "fillOpacity": 0.1,
            "weight": 3
           },
           "tidal_label": "moderately tidal",
           "turbid_label": "clear",
           "wave_label": "low wave energy"
          },
          "type": "Feature"
         },
         {
          "geometry": {
           "coordinates": [
            [
             [
              -81.17381599999999,
              29.51242981266766
             ],
             [
              -81.17381599999999,
              29.571044662334106
             ],
             [
              -81.10644235369102,
              29.571044662334106
             ],
             [
              -81.10644235369102,
              29.51242981266766
             ],
             [
              -81.17381599999999,
              29.51242981266766
             ]
            ]
           ],
           "type": "Polygon"
          },
          "id": "15",
          "properties": {
           "CHLOROPHYLL": 1.608937,
           "CSU_Descriptor": "sloping, straight, low erodibility, sub tropical moist, low river discharge, low wave energy, moderately tidal, euhaline-oxic-warm to very warm, clear, low chlorophyll",
           "CSU_ID": 33370,
           "Cluster": 2,
           "EMU_PHYSICAL": "Euhaline-Oxic-Warm to Very Warm",
           "ERODIBILITY": "Low",
           "GHM": 0.612673,
           "LENGTH_GEO": 867.2337223015505,
           "MAX_SLOPE": 20.343725,
           "MEAN_SIG_WAVEHEIGHT": 0.997365,
           "MasterKey": 3195093,
           "OBJECTID": 3195093,
           "OUTFLOW_DENSITY": 0,
           "OUTFLOW_DENSITY_RESCALED": 0,
           "REGIONAL_SINUOSITY": 1.008314,
           "RandomSort": 1965884.53649755,
           "Shape_Length": 0.008028830225891126,
           "TEMP_MOISTURE": "Sub Tropical Moist",
           "TIDAL_RANGE": 1.780457,
           "TURBIDITY": 0.055,
           "chl_label": "low chlorophyll",
           "id": 15,
           "index_right": 5111,
           "river_label": "low river discharge",
           "sinuosity_label": "straight",
           "slope_label": "sloping",
           "style": {
            "color": "black",
            "fillColor": "grey",
            "fillOpacity": 0.1,
            "weight": 3
           },
           "tidal_label": "moderately tidal",
           "turbid_label": "clear",
           "wave_label": "low wave energy"
          },
          "type": "Feature"
         },
         {
          "geometry": {
           "coordinates": [
            [
             [
              -81.17381599999999,
              29.453780999999996
             ],
             [
              -81.17381599999999,
              29.492883980050735
             ],
             [
              -81.12890023579402,
              29.492883980050735
             ],
             [
              -81.12890023579402,
              29.453780999999996
             ],
             [
              -81.17381599999999,
              29.453780999999996
             ]
            ]
           ],
           "type": "Polygon"
          },
          "id": "16",
          "properties": {
           "CHLOROPHYLL": 1.611487,
           "CSU_Descriptor": "sloping, straight, low erodibility, sub tropical moist, low river discharge, low wave energy, moderately tidal, euhaline-oxic-warm to very warm, clear, low chlorophyll",
           "CSU_ID": 33370,
           "Cluster": 2,
           "EMU_PHYSICAL": "Euhaline-Oxic-Warm to Very Warm",
           "ERODIBILITY": "Low",
           "GHM": 0.59004,
           "LENGTH_GEO": 867.4690676079314,
           "MAX_SLOPE": 12.567444,
           "MEAN_SIG_WAVEHEIGHT": 0.932785,
           "MasterKey": 3195089,
           "OBJECTID": 3195089,
           "OUTFLOW_DENSITY": 0,
           "OUTFLOW_DENSITY_RESCALED": 0,
           "REGIONAL_SINUOSITY": 1.008314,
           "RandomSort": 3177012.73702526,
           "Shape_Length": 0.008028952852176342,
           "TEMP_MOISTURE": "Sub Tropical Moist",
           "TIDAL_RANGE": 1.774261,
           "TURBIDITY": 0.0628,
           "chl_label": "low chlorophyll",
           "id": 16,
           "index_right": 5107,
           "river_label": "low river discharge",
           "sinuosity_label": "straight",
           "slope_label": "sloping",
           "style": {
            "color": "black",
            "fillColor": "grey",
            "fillOpacity": 0.1,
            "weight": 3
           },
           "tidal_label": "moderately tidal",
           "turbid_label": "clear",
           "wave_label": "low wave energy"
          },
          "type": "Feature"
         },
         {
          "geometry": {
           "coordinates": [
            [
             [
              -81.17381599999999,
              29.492883980050735
             ],
             [
              -81.17381599999999,
              29.531971871616403
             ],
             [
              -81.12890023579402,
              29.531971871616403
             ],
             [
              -81.12890023579402,
              29.492883980050735
             ],
             [
              -81.17381599999999,
              29.492883980050735
             ]
            ]
           ],
           "type": "Polygon"
          },
          "id": "17",
          "properties": {
           "CHLOROPHYLL": 1.611487,
           "CSU_Descriptor": "sloping, straight, low erodibility, sub tropical moist, low river discharge, low wave energy, moderately tidal, euhaline-oxic-warm to very warm, clear, low chlorophyll",
           "CSU_ID": 33370,
           "Cluster": 2,
           "EMU_PHYSICAL": "Euhaline-Oxic-Warm to Very Warm",
           "ERODIBILITY": "Low",
           "GHM": 0.59004,
           "LENGTH_GEO": 867.4690676079314,
           "MAX_SLOPE": 12.567444,
           "MEAN_SIG_WAVEHEIGHT": 0.932785,
           "MasterKey": 3195089,
           "OBJECTID": 3195089,
           "OUTFLOW_DENSITY": 0,
           "OUTFLOW_DENSITY_RESCALED": 0,
           "REGIONAL_SINUOSITY": 1.008314,
           "RandomSort": 3177012.73702526,
           "Shape_Length": 0.008028952852176342,
           "TEMP_MOISTURE": "Sub Tropical Moist",
           "TIDAL_RANGE": 1.774261,
           "TURBIDITY": 0.0628,
           "chl_label": "low chlorophyll",
           "id": 17,
           "index_right": 5107,
           "river_label": "low river discharge",
           "sinuosity_label": "straight",
           "slope_label": "sloping",
           "style": {
            "color": "black",
            "fillColor": "grey",
            "fillOpacity": 0.1,
            "weight": 3
           },
           "tidal_label": "moderately tidal",
           "turbid_label": "clear",
           "wave_label": "low wave energy"
          },
          "type": "Feature"
         },
         {
          "geometry": {
           "coordinates": [
            [
             [
              -81.17381599999999,
              29.453780999999996
             ],
             [
              -81.17381599999999,
              29.492883980050735
             ],
             [
              -81.12890023579402,
              29.492883980050735
             ],
             [
              -81.12890023579402,
              29.453780999999996
             ],
             [
              -81.17381599999999,
              29.453780999999996
             ]
            ]
           ],
           "type": "Polygon"
          },
          "id": "18",
          "properties": {
           "CHLOROPHYLL": 1.614199,
           "CSU_Descriptor": "sloping, straight, low erodibility, sub tropical moist, low river discharge, low wave energy, moderately tidal, euhaline-oxic-warm to very warm, clear, low chlorophyll",
           "CSU_ID": 33370,
           "Cluster": 2,
           "EMU_PHYSICAL": "Euhaline-Oxic-Warm to Very Warm",
           "ERODIBILITY": "Low",
           "GHM": 0.632229,
           "LENGTH_GEO": 867.5823110312031,
           "MAX_SLOPE": 10.27186,
           "MEAN_SIG_WAVEHEIGHT": 0.932785,
           "MasterKey": 3195088,
           "OBJECTID": 3195088,
           "OUTFLOW_DENSITY": 0,
           "OUTFLOW_DENSITY_RESCALED": 0,
           "REGIONAL_SINUOSITY": 1.0097,
           "RandomSort": 3276461.90043216,
           "Shape_Length": 0.008043482225097452,
           "TEMP_MOISTURE": "Sub Tropical Moist",
           "TIDAL_RANGE": 1.774261,
           "TURBIDITY": 0.0628,
           "chl_label": "low chlorophyll",
           "id": 18,
           "index_right": 5106,
           "river_label": "low river discharge",
           "sinuosity_label": "straight",
           "slope_label": "sloping",
           "style": {
            "color": "black",
            "fillColor": "grey",
            "fillOpacity": 0.1,
            "weight": 3
           },
           "tidal_label": "moderately tidal",
           "turbid_label": "clear",
           "wave_label": "low wave energy"
          },
          "type": "Feature"
         },
         {
          "geometry": {
           "coordinates": [
            [
             [
              -81.12890023579402,
              29.453780999999996
             ],
             [
              -81.12890023579402,
              29.492883980050735
             ],
             [
              -81.08398447158804,
              29.492883980050735
             ],
             [
              -81.08398447158804,
              29.453780999999996
             ],
             [
              -81.12890023579402,
              29.453780999999996
             ]
            ]
           ],
           "type": "Polygon"
          },
          "id": "19",
          "properties": {
           "CHLOROPHYLL": 1.614199,
           "CSU_Descriptor": "sloping, straight, low erodibility, sub tropical moist, low river discharge, low wave energy, moderately tidal, euhaline-oxic-warm to very warm, clear, low chlorophyll",
           "CSU_ID": 33370,
           "Cluster": 2,
           "EMU_PHYSICAL": "Euhaline-Oxic-Warm to Very Warm",
           "ERODIBILITY": "Low",
           "GHM": 0.632229,
           "LENGTH_GEO": 867.5823110312031,
           "MAX_SLOPE": 10.27186,
           "MEAN_SIG_WAVEHEIGHT": 0.932785,
           "MasterKey": 3195088,
           "OBJECTID": 3195088,
           "OUTFLOW_DENSITY": 0,
           "OUTFLOW_DENSITY_RESCALED": 0,
           "REGIONAL_SINUOSITY": 1.0097,
           "RandomSort": 3276461.90043216,
           "Shape_Length": 0.008043482225097452,
           "TEMP_MOISTURE": "Sub Tropical Moist",
           "TIDAL_RANGE": 1.774261,
           "TURBIDITY": 0.0628,
           "chl_label": "low chlorophyll",
           "id": 19,
           "index_right": 5106,
           "river_label": "low river discharge",
           "sinuosity_label": "straight",
           "slope_label": "sloping",
           "style": {
            "color": "black",
            "fillColor": "grey",
            "fillOpacity": 0.1,
            "weight": 3
           },
           "tidal_label": "moderately tidal",
           "turbid_label": "clear",
           "wave_label": "low wave energy"
          },
          "type": "Feature"
         },
         {
          "geometry": {
           "coordinates": [
            [
             [
              -81.12890023579402,
              29.453780999999996
             ],
             [
              -81.12890023579402,
              29.492883980050735
             ],
             [
              -81.08398447158804,
              29.492883980050735
             ],
             [
              -81.08398447158804,
              29.453780999999996
             ],
             [
              -81.12890023579402,
              29.453780999999996
             ]
            ]
           ],
           "type": "Polygon"
          },
          "id": "20",
          "properties": {
           "CHLOROPHYLL": 1.612173,
           "CSU_Descriptor": "sloping, straight, low erodibility, sub tropical moist, moderate river discharge, low wave energy, moderately tidal, euhaline-oxic-warm to very warm, clear, low chlorophyll",
           "CSU_ID": 39712,
           "Cluster": 2,
           "EMU_PHYSICAL": "Euhaline-Oxic-Warm to Very Warm",
           "ERODIBILITY": "Low",
           "GHM": 0.629787,
           "LENGTH_GEO": 867.443908618233,
           "MAX_SLOPE": 10.6239,
           "MEAN_SIG_WAVEHEIGHT": 0.932785,
           "MasterKey": 3195087,
           "OBJECTID": 3195087,
           "OUTFLOW_DENSITY": 89183.070312,
           "OUTFLOW_DENSITY_RESCALED": 0.00010782942434698485,
           "REGIONAL_SINUOSITY": 1.0097,
           "RandomSort": 3259449.19266848,
           "Shape_Length": 0.00798966092467035,
           "TEMP_MOISTURE": "Sub Tropical Moist",
           "TIDAL_RANGE": 1.774261,
           "TURBIDITY": 0.0628,
           "chl_label": "low chlorophyll",
           "id": 20,
           "index_right": 5105,
           "river_label": "moderate river discharge",
           "sinuosity_label": "straight",
           "slope_label": "sloping",
           "style": {
            "color": "black",
            "fillColor": "grey",
            "fillOpacity": 0.1,
            "weight": 3
           },
           "tidal_label": "moderately tidal",
           "turbid_label": "clear",
           "wave_label": "low wave energy"
          },
          "type": "Feature"
         },
         {
          "geometry": {
           "coordinates": [
            [
             [
              -81.12890023579402,
              29.453780999999996
             ],
             [
              -81.12890023579402,
              29.492883980050735
             ],
             [
              -81.08398447158804,
              29.492883980050735
             ],
             [
              -81.08398447158804,
              29.453780999999996
             ],
             [
              -81.12890023579402,
              29.453780999999996
             ]
            ]
           ],
           "type": "Polygon"
          },
          "id": "21",
          "properties": {
           "CHLOROPHYLL": 1.606994,
           "CSU_Descriptor": "sloping, straight, low erodibility, sub tropical moist, moderate river discharge, low wave energy, moderately tidal, euhaline-oxic-warm to very warm, clear, low chlorophyll",
           "CSU_ID": 39712,
           "Cluster": 2,
           "EMU_PHYSICAL": "Euhaline-Oxic-Warm to Very Warm",
           "ERODIBILITY": "Low",
           "GHM": 0.607793,
           "LENGTH_GEO": 867.6045068233993,
           "MAX_SLOPE": 18.874876,
           "MEAN_SIG_WAVEHEIGHT": 0.932785,
           "MasterKey": 3195086,
           "OBJECTID": 3195086,
           "OUTFLOW_DENSITY": 89183.070312,
           "OUTFLOW_DENSITY_RESCALED": 0.00010782942434698485,
           "REGIONAL_SINUOSITY": 1.0097,
           "RandomSort": 2868267.56196405,
           "Shape_Length": 0.008017516064115231,
           "TEMP_MOISTURE": "Sub Tropical Moist",
           "TIDAL_RANGE": 1.774261,
           "TURBIDITY": 0.0628,
           "chl_label": "low chlorophyll",
           "id": 21,
           "index_right": 5104,
           "river_label": "moderate river discharge",
           "sinuosity_label": "straight",
           "slope_label": "sloping",
           "style": {
            "color": "black",
            "fillColor": "grey",
            "fillOpacity": 0.1,
            "weight": 3
           },
           "tidal_label": "moderately tidal",
           "turbid_label": "clear",
           "wave_label": "low wave energy"
          },
          "type": "Feature"
         },
         {
          "geometry": {
           "coordinates": [
            [
             [
              -81.17381599999999,
              29.492883980050735
             ],
             [
              -81.17381599999999,
              29.531971871616403
             ],
             [
              -81.12890023579402,
              29.531971871616403
             ],
             [
              -81.12890023579402,
              29.492883980050735
             ],
             [
              -81.17381599999999,
              29.492883980050735
             ]
            ]
           ],
           "type": "Polygon"
          },
          "id": "22",
          "properties": {
           "CHLOROPHYLL": 1.608816,
           "CSU_Descriptor": "sloping, straight, low erodibility, sub tropical moist, low river discharge, low wave energy, moderately tidal, euhaline-oxic-warm to very warm, clear, low chlorophyll",
           "CSU_ID": 33370,
           "Cluster": 2,
           "EMU_PHYSICAL": "Euhaline-Oxic-Warm to Very Warm",
           "ERODIBILITY": "Low",
           "GHM": 0.569271,
           "LENGTH_GEO": 867.068831765796,
           "MAX_SLOPE": 13.2501,
           "MEAN_SIG_WAVEHEIGHT": 0.997365,
           "MasterKey": 3195095,
           "OBJECTID": 3195095,
           "OUTFLOW_DENSITY": 0,
           "OUTFLOW_DENSITY_RESCALED": 0,
           "REGIONAL_SINUOSITY": 1.008314,
           "RandomSort": 3121103.21470149,
           "Shape_Length": 0.008015456048683308,
           "TEMP_MOISTURE": "Sub Tropical Moist",
           "TIDAL_RANGE": 1.780457,
           "TURBIDITY": 0.055,
           "chl_label": "low chlorophyll",
           "id": 22,
           "index_right": 5113,
           "river_label": "low river discharge",
           "sinuosity_label": "straight",
           "slope_label": "sloping",
           "style": {
            "color": "black",
            "fillColor": "grey",
            "fillOpacity": 0.1,
            "weight": 3
           },
           "tidal_label": "moderately tidal",
           "turbid_label": "clear",
           "wave_label": "low wave energy"
          },
          "type": "Feature"
         },
         {
          "geometry": {
           "coordinates": [
            [
             [
              -81.17381599999999,
              29.531971871616403
             ],
             [
              -81.17381599999999,
              29.571044662334106
             ],
             [
              -81.12890023579402,
              29.571044662334106
             ],
             [
              -81.12890023579402,
              29.531971871616403
             ],
             [
              -81.17381599999999,
              29.531971871616403
             ]
            ]
           ],
           "type": "Polygon"
          },
          "id": "23",
          "properties": {
           "CHLOROPHYLL": 1.608816,
           "CSU_Descriptor": "sloping, straight, low erodibility, sub tropical moist, low river discharge, low wave energy, moderately tidal, euhaline-oxic-warm to very warm, clear, low chlorophyll",
           "CSU_ID": 33370,
           "Cluster": 2,
           "EMU_PHYSICAL": "Euhaline-Oxic-Warm to Very Warm",
           "ERODIBILITY": "Low",
           "GHM": 0.569271,
           "LENGTH_GEO": 867.068831765796,
           "MAX_SLOPE": 13.2501,
           "MEAN_SIG_WAVEHEIGHT": 0.997365,
           "MasterKey": 3195095,
           "OBJECTID": 3195095,
           "OUTFLOW_DENSITY": 0,
           "OUTFLOW_DENSITY_RESCALED": 0,
           "REGIONAL_SINUOSITY": 1.008314,
           "RandomSort": 3121103.21470149,
           "Shape_Length": 0.008015456048683308,
           "TEMP_MOISTURE": "Sub Tropical Moist",
           "TIDAL_RANGE": 1.780457,
           "TURBIDITY": 0.055,
           "chl_label": "low chlorophyll",
           "id": 23,
           "index_right": 5113,
           "river_label": "low river discharge",
           "sinuosity_label": "straight",
           "slope_label": "sloping",
           "style": {
            "color": "black",
            "fillColor": "grey",
            "fillOpacity": 0.1,
            "weight": 3
           },
           "tidal_label": "moderately tidal",
           "turbid_label": "clear",
           "wave_label": "low wave energy"
          },
          "type": "Feature"
         },
         {
          "geometry": {
           "coordinates": [
            [
             [
              -81.17381599999999,
              29.492883980050735
             ],
             [
              -81.17381599999999,
              29.531971871616403
             ],
             [
              -81.12890023579402,
              29.531971871616403
             ],
             [
              -81.12890023579402,
              29.492883980050735
             ],
             [
              -81.17381599999999,
              29.492883980050735
             ]
            ]
           ],
           "type": "Polygon"
          },
          "id": "24",
          "properties": {
           "CHLOROPHYLL": 1.617344,
           "CSU_Descriptor": "sloping, straight, low erodibility, sub tropical moist, low river discharge, low wave energy, moderately tidal, euhaline-oxic-warm to very warm, clear, low chlorophyll",
           "CSU_ID": 33370,
           "Cluster": 2,
           "EMU_PHYSICAL": "Euhaline-Oxic-Warm to Very Warm",
           "ERODIBILITY": "Low",
           "GHM": 0.575571,
           "LENGTH_GEO": 867.188848814597,
           "MAX_SLOPE": 12.368083,
           "MEAN_SIG_WAVEHEIGHT": 0.997365,
           "MasterKey": 3195094,
           "OBJECTID": 3195094,
           "OUTFLOW_DENSITY": 0,
           "OUTFLOW_DENSITY_RESCALED": 0,
           "REGIONAL_SINUOSITY": 1.008314,
           "RandomSort": 1588201.84961137,
           "Shape_Length": 0.008032270789446395,
           "TEMP_MOISTURE": "Sub Tropical Moist",
           "TIDAL_RANGE": 1.780457,
           "TURBIDITY": 0.055,
           "chl_label": "low chlorophyll",
           "id": 24,
           "index_right": 5112,
           "river_label": "low river discharge",
           "sinuosity_label": "straight",
           "slope_label": "sloping",
           "style": {
            "color": "black",
            "fillColor": "grey",
            "fillOpacity": 0.1,
            "weight": 3
           },
           "tidal_label": "moderately tidal",
           "turbid_label": "clear",
           "wave_label": "low wave energy"
          },
          "type": "Feature"
         },
         {
          "geometry": {
           "coordinates": [
            [
             [
              -81.17381599999999,
              29.492883980050735
             ],
             [
              -81.17381599999999,
              29.531971871616403
             ],
             [
              -81.12890023579402,
              29.531971871616403
             ],
             [
              -81.12890023579402,
              29.492883980050735
             ],
             [
              -81.17381599999999,
              29.492883980050735
             ]
            ]
           ],
           "type": "Polygon"
          },
          "id": "25",
          "properties": {
           "CHLOROPHYLL": 1.608937,
           "CSU_Descriptor": "sloping, straight, low erodibility, sub tropical moist, low river discharge, low wave energy, moderately tidal, euhaline-oxic-warm to very warm, clear, low chlorophyll",
           "CSU_ID": 33370,
           "Cluster": 2,
           "EMU_PHYSICAL": "Euhaline-Oxic-Warm to Very Warm",
           "ERODIBILITY": "Low",
           "GHM": 0.612673,
           "LENGTH_GEO": 867.2337223015505,
           "MAX_SLOPE": 20.343725,
           "MEAN_SIG_WAVEHEIGHT": 0.997365,
           "MasterKey": 3195093,
           "OBJECTID": 3195093,
           "OUTFLOW_DENSITY": 0,
           "OUTFLOW_DENSITY_RESCALED": 0,
           "REGIONAL_SINUOSITY": 1.008314,
           "RandomSort": 1965884.53649755,
           "Shape_Length": 0.008028830225891126,
           "TEMP_MOISTURE": "Sub Tropical Moist",
           "TIDAL_RANGE": 1.780457,
           "TURBIDITY": 0.055,
           "chl_label": "low chlorophyll",
           "id": 25,
           "index_right": 5111,
           "river_label": "low river discharge",
           "sinuosity_label": "straight",
           "slope_label": "sloping",
           "style": {
            "color": "black",
            "fillColor": "grey",
            "fillOpacity": 0.1,
            "weight": 3
           },
           "tidal_label": "moderately tidal",
           "turbid_label": "clear",
           "wave_label": "low wave energy"
          },
          "type": "Feature"
         },
         {
          "geometry": {
           "coordinates": [
            [
             [
              -81.17381599999999,
              29.492883980050735
             ],
             [
              -81.17381599999999,
              29.531971871616403
             ],
             [
              -81.12890023579402,
              29.531971871616403
             ],
             [
              -81.12890023579402,
              29.492883980050735
             ],
             [
              -81.17381599999999,
              29.492883980050735
             ]
            ]
           ],
           "type": "Polygon"
          },
          "id": "26",
          "properties": {
           "CHLOROPHYLL": 1.611233,
           "CSU_Descriptor": "sloping, straight, low erodibility, sub tropical moist, low river discharge, low wave energy, moderately tidal, euhaline-oxic-warm to very warm, clear, low chlorophyll",
           "CSU_ID": 33370,
           "Cluster": 2,
           "EMU_PHYSICAL": "Euhaline-Oxic-Warm to Very Warm",
           "ERODIBILITY": "Low",
           "GHM": 0.566738,
           "LENGTH_GEO": 867.3030252400168,
           "MAX_SLOPE": 14.674723,
           "MEAN_SIG_WAVEHEIGHT": 0.997365,
           "MasterKey": 3195092,
           "OBJECTID": 3195092,
           "OUTFLOW_DENSITY": 0,
           "OUTFLOW_DENSITY_RESCALED": 0,
           "REGIONAL_SINUOSITY": 1.008314,
           "RandomSort": 1136932.3329067,
           "Shape_Length": 0.008031416781246914,
           "TEMP_MOISTURE": "Sub Tropical Moist",
           "TIDAL_RANGE": 1.780457,
           "TURBIDITY": 0.055,
           "chl_label": "low chlorophyll",
           "id": 26,
           "index_right": 5110,
           "river_label": "low river discharge",
           "sinuosity_label": "straight",
           "slope_label": "sloping",
           "style": {
            "color": "black",
            "fillColor": "grey",
            "fillOpacity": 0.1,
            "weight": 3
           },
           "tidal_label": "moderately tidal",
           "turbid_label": "clear",
           "wave_label": "low wave energy"
          },
          "type": "Feature"
         },
         {
          "geometry": {
           "coordinates": [
            [
             [
              -81.17381599999999,
              29.492883980050735
             ],
             [
              -81.17381599999999,
              29.531971871616403
             ],
             [
              -81.12890023579402,
              29.531971871616403
             ],
             [
              -81.12890023579402,
              29.492883980050735
             ],
             [
              -81.17381599999999,
              29.492883980050735
             ]
            ]
           ],
           "type": "Polygon"
          },
          "id": "27",
          "properties": {
           "CHLOROPHYLL": 1.606853,
           "CSU_Descriptor": "sloping, straight, low erodibility, sub tropical moist, low river discharge, low wave energy, moderately tidal, euhaline-oxic-warm to very warm, clear, low chlorophyll",
           "CSU_ID": 33370,
           "Cluster": 2,
           "EMU_PHYSICAL": "Euhaline-Oxic-Warm to Very Warm",
           "ERODIBILITY": "Low",
           "GHM": 0.6026,
           "LENGTH_GEO": 867.3753508355283,
           "MAX_SLOPE": 17.633044,
           "MEAN_SIG_WAVEHEIGHT": 0.997365,
           "MasterKey": 3195091,
           "OBJECTID": 3195091,
           "OUTFLOW_DENSITY": 0,
           "OUTFLOW_DENSITY_RESCALED": 0,
           "REGIONAL_SINUOSITY": 1.008314,
           "RandomSort": 898930.070721515,
           "Shape_Length": 0.008035381183041868,
           "TEMP_MOISTURE": "Sub Tropical Moist",
           "TIDAL_RANGE": 1.774261,
           "TURBIDITY": 0.055,
           "chl_label": "low chlorophyll",
           "id": 27,
           "index_right": 5109,
           "river_label": "low river discharge",
           "sinuosity_label": "straight",
           "slope_label": "sloping",
           "style": {
            "color": "black",
            "fillColor": "grey",
            "fillOpacity": 0.1,
            "weight": 3
           },
           "tidal_label": "moderately tidal",
           "turbid_label": "clear",
           "wave_label": "low wave energy"
          },
          "type": "Feature"
         },
         {
          "geometry": {
           "coordinates": [
            [
             [
              -81.17381599999999,
              29.492883980050735
             ],
             [
              -81.17381599999999,
              29.531971871616403
             ],
             [
              -81.12890023579402,
              29.531971871616403
             ],
             [
              -81.12890023579402,
              29.492883980050735
             ],
             [
              -81.17381599999999,
              29.492883980050735
             ]
            ]
           ],
           "type": "Polygon"
          },
          "id": "28",
          "properties": {
           "CHLOROPHYLL": 1.613319,
           "CSU_Descriptor": "sloping, straight, low erodibility, sub tropical moist, low river discharge, low wave energy, moderately tidal, euhaline-oxic-warm to very warm, clear, low chlorophyll",
           "CSU_ID": 33370,
           "Cluster": 2,
           "EMU_PHYSICAL": "Euhaline-Oxic-Warm to Very Warm",
           "ERODIBILITY": "Low",
           "GHM": 0.59004,
           "LENGTH_GEO": 867.3093599767453,
           "MAX_SLOPE": 13.344147,
           "MEAN_SIG_WAVEHEIGHT": 0.932785,
           "MasterKey": 3195090,
           "OBJECTID": 3195090,
           "OUTFLOW_DENSITY": 0,
           "OUTFLOW_DENSITY_RESCALED": 0,
           "REGIONAL_SINUOSITY": 1.008314,
           "RandomSort": 2432887.75474734,
           "Shape_Length": 0.00800124385153516,
           "TEMP_MOISTURE": "Sub Tropical Moist",
           "TIDAL_RANGE": 1.774261,
           "TURBIDITY": 0.055,
           "chl_label": "low chlorophyll",
           "id": 28,
           "index_right": 5108,
           "river_label": "low river discharge",
           "sinuosity_label": "straight",
           "slope_label": "sloping",
           "style": {
            "color": "black",
            "fillColor": "grey",
            "fillOpacity": 0.1,
            "weight": 3
           },
           "tidal_label": "moderately tidal",
           "turbid_label": "clear",
           "wave_label": "low wave energy"
          },
          "type": "Feature"
         },
         {
          "geometry": {
           "coordinates": [
            [
             [
              -81.17381599999999,
              29.531971871616403
             ],
             [
              -81.17381599999999,
              29.571044662334106
             ],
             [
              -81.12890023579402,
              29.571044662334106
             ],
             [
              -81.12890023579402,
              29.531971871616403
             ],
             [
              -81.17381599999999,
              29.531971871616403
             ]
            ]
           ],
           "type": "Polygon"
          },
          "id": "29",
          "properties": {
           "CHLOROPHYLL": 1.595215,
           "CSU_Descriptor": "sloping, straight, low erodibility, sub tropical moist, low river discharge, low wave energy, moderately tidal, euhaline-oxic-warm to very warm, clear, low chlorophyll",
           "CSU_ID": 33370,
           "Cluster": 2,
           "EMU_PHYSICAL": "Euhaline-Oxic-Warm to Very Warm",
           "ERODIBILITY": "Low",
           "GHM": 0.650257,
           "LENGTH_GEO": 866.6767615258575,
           "MAX_SLOPE": 24.791954,
           "MEAN_SIG_WAVEHEIGHT": 0.997365,
           "MasterKey": 3195100,
           "OBJECTID": 3195100,
           "OUTFLOW_DENSITY": 0,
           "OUTFLOW_DENSITY_RESCALED": 0,
           "REGIONAL_SINUOSITY": 1.009652,
           "RandomSort": 2263980.1744524,
           "Shape_Length": 0.007987976071278725,
           "TEMP_MOISTURE": "Sub Tropical Moist",
           "TIDAL_RANGE": 1.805485,
           "TURBIDITY": 0.0476,
           "chl_label": "low chlorophyll",
           "id": 29,
           "index_right": 5118,
           "river_label": "low river discharge",
           "sinuosity_label": "straight",
           "slope_label": "sloping",
           "style": {
            "color": "black",
            "fillColor": "grey",
            "fillOpacity": 0.1,
            "weight": 3
           },
           "tidal_label": "moderately tidal",
           "turbid_label": "clear",
           "wave_label": "low wave energy"
          },
          "type": "Feature"
         },
         {
          "geometry": {
           "coordinates": [
            [
             [
              -81.17381599999999,
              29.531971871616403
             ],
             [
              -81.17381599999999,
              29.571044662334106
             ],
             [
              -81.12890023579402,
              29.571044662334106
             ],
             [
              -81.12890023579402,
              29.531971871616403
             ],
             [
              -81.17381599999999,
              29.531971871616403
             ]
            ]
           ],
           "type": "Polygon"
          },
          "id": "30",
          "properties": {
           "CHLOROPHYLL": 1.621199,
           "CSU_Descriptor": "sloping, straight, low erodibility, sub tropical moist, low river discharge, low wave energy, moderately tidal, euhaline-oxic-warm to very warm, clear, low chlorophyll",
           "CSU_ID": 33370,
           "Cluster": 2,
           "EMU_PHYSICAL": "Euhaline-Oxic-Warm to Very Warm",
           "ERODIBILITY": "Low",
           "GHM": 0.59171,
           "LENGTH_GEO": 866.773841966696,
           "MAX_SLOPE": 14.121604,
           "MEAN_SIG_WAVEHEIGHT": 0.997365,
           "MasterKey": 3195099,
           "OBJECTID": 3195099,
           "OUTFLOW_DENSITY": 0,
           "OUTFLOW_DENSITY_RESCALED": 0,
           "REGIONAL_SINUOSITY": 1.009652,
           "RandomSort": 38099.509191087,
           "Shape_Length": 0.00799870223889527,
           "TEMP_MOISTURE": "Sub Tropical Moist",
           "TIDAL_RANGE": 1.805485,
           "TURBIDITY": 0.0476,
           "chl_label": "low chlorophyll",
           "id": 30,
           "index_right": 5117,
           "river_label": "low river discharge",
           "sinuosity_label": "straight",
           "slope_label": "sloping",
           "style": {
            "color": "black",
            "fillColor": "grey",
            "fillOpacity": 0.1,
            "weight": 3
           },
           "tidal_label": "moderately tidal",
           "turbid_label": "clear",
           "wave_label": "low wave energy"
          },
          "type": "Feature"
         },
         {
          "geometry": {
           "coordinates": [
            [
             [
              -81.17381599999999,
              29.531971871616403
             ],
             [
              -81.17381599999999,
              29.571044662334106
             ],
             [
              -81.12890023579402,
              29.571044662334106
             ],
             [
              -81.12890023579402,
              29.531971871616403
             ],
             [
              -81.17381599999999,
              29.531971871616403
             ]
            ]
           ],
           "type": "Polygon"
          },
          "id": "31",
          "properties": {
           "CHLOROPHYLL": 1.631854,
           "CSU_Descriptor": "sloping, straight, low erodibility, sub tropical moist, low river discharge, low wave energy, moderately tidal, euhaline-oxic-warm to very warm, clear, low chlorophyll",
           "CSU_ID": 33370,
           "Cluster": 2,
           "EMU_PHYSICAL": "Euhaline-Oxic-Warm to Very Warm",
           "ERODIBILITY": "Low",
           "GHM": 0.5989,
           "LENGTH_GEO": 866.8603065639834,
           "MAX_SLOPE": 12.664399,
           "MEAN_SIG_WAVEHEIGHT": 0.997365,
           "MasterKey": 3195098,
           "OBJECTID": 3195098,
           "OUTFLOW_DENSITY": 0,
           "OUTFLOW_DENSITY_RESCALED": 0,
           "REGIONAL_SINUOSITY": 1.008314,
           "RandomSort": 2632163.40947423,
           "Shape_Length": 0.008006412737049697,
           "TEMP_MOISTURE": "Sub Tropical Moist",
           "TIDAL_RANGE": 1.789799,
           "TURBIDITY": 0.0476,
           "chl_label": "low chlorophyll",
           "id": 31,
           "index_right": 5116,
           "river_label": "low river discharge",
           "sinuosity_label": "straight",
           "slope_label": "sloping",
           "style": {
            "color": "black",
            "fillColor": "grey",
            "fillOpacity": 0.1,
            "weight": 3
           },
           "tidal_label": "moderately tidal",
           "turbid_label": "clear",
           "wave_label": "low wave energy"
          },
          "type": "Feature"
         },
         {
          "geometry": {
           "coordinates": [
            [
             [
              -81.17381599999999,
              29.531971871616403
             ],
             [
              -81.17381599999999,
              29.571044662334106
             ],
             [
              -81.12890023579402,
              29.571044662334106
             ],
             [
              -81.12890023579402,
              29.531971871616403
             ],
             [
              -81.17381599999999,
              29.531971871616403
             ]
            ]
           ],
           "type": "Polygon"
          },
          "id": "32",
          "properties": {
           "CHLOROPHYLL": 1.611994,
           "CSU_Descriptor": "sloping, straight, low erodibility, sub tropical moist, low river discharge, low wave energy, moderately tidal, euhaline-oxic-warm to very warm, clear, low chlorophyll",
           "CSU_ID": 33370,
           "Cluster": 2,
           "EMU_PHYSICAL": "Euhaline-Oxic-Warm to Very Warm",
           "ERODIBILITY": "Low",
           "GHM": 0.562215,
           "LENGTH_GEO": 866.9494008641831,
           "MAX_SLOPE": 20.313735,
           "MEAN_SIG_WAVEHEIGHT": 0.997365,
           "MasterKey": 3195097,
           "OBJECTID": 3195097,
           "OUTFLOW_DENSITY": 0,
           "OUTFLOW_DENSITY_RESCALED": 0,
           "REGIONAL_SINUOSITY": 1.008314,
           "RandomSort": 283816.363589803,
           "Shape_Length": 0.008014793555007154,
           "TEMP_MOISTURE": "Sub Tropical Moist",
           "TIDAL_RANGE": 1.789799,
           "TURBIDITY": 0.0476,
           "chl_label": "low chlorophyll",
           "id": 32,
           "index_right": 5115,
           "river_label": "low river discharge",
           "sinuosity_label": "straight",
           "slope_label": "sloping",
           "style": {
            "color": "black",
            "fillColor": "grey",
            "fillOpacity": 0.1,
            "weight": 3
           },
           "tidal_label": "moderately tidal",
           "turbid_label": "clear",
           "wave_label": "low wave energy"
          },
          "type": "Feature"
         },
         {
          "geometry": {
           "coordinates": [
            [
             [
              -81.17381599999999,
              29.531971871616403
             ],
             [
              -81.17381599999999,
              29.571044662334106
             ],
             [
              -81.12890023579402,
              29.571044662334106
             ],
             [
              -81.12890023579402,
              29.531971871616403
             ],
             [
              -81.17381599999999,
              29.531971871616403
             ]
            ]
           ],
           "type": "Polygon"
          },
          "id": "33",
          "properties": {
           "CHLOROPHYLL": 1.611638,
           "CSU_Descriptor": "sloping, straight, low erodibility, sub tropical moist, low river discharge, low wave energy, moderately tidal, euhaline-oxic-warm to very warm, clear, low chlorophyll",
           "CSU_ID": 33370,
           "Cluster": 2,
           "EMU_PHYSICAL": "Euhaline-Oxic-Warm to Very Warm",
           "ERODIBILITY": "Low",
           "GHM": 0.569271,
           "LENGTH_GEO": 867.0855238250028,
           "MAX_SLOPE": 14.219745,
           "MEAN_SIG_WAVEHEIGHT": 0.997365,
           "MasterKey": 3195096,
           "OBJECTID": 3195096,
           "OUTFLOW_DENSITY": 0,
           "OUTFLOW_DENSITY_RESCALED": 0,
           "REGIONAL_SINUOSITY": 1.008314,
           "RandomSort": 463417.386088918,
           "Shape_Length": 0.00803617835816143,
           "TEMP_MOISTURE": "Sub Tropical Moist",
           "TIDAL_RANGE": 1.780457,
           "TURBIDITY": 0.055,
           "chl_label": "low chlorophyll",
           "id": 33,
           "index_right": 5114,
           "river_label": "low river discharge",
           "sinuosity_label": "straight",
           "slope_label": "sloping",
           "style": {
            "color": "black",
            "fillColor": "grey",
            "fillOpacity": 0.1,
            "weight": 3
           },
           "tidal_label": "moderately tidal",
           "turbid_label": "clear",
           "wave_label": "low wave energy"
          },
          "type": "Feature"
         }
        ],
        "type": "FeatureCollection"
       },
       "hover_style": {
        "color": "crimson",
        "fillColor": "red"
       },
       "name": "GeoJSON data"
      }
     },
     "b123d485d1d046e08cc2afbb84e23633": {
      "model_module": "jupyter-leaflet",
      "model_module_version": "^0.16.0",
      "model_name": "LeafletTileLayerModel",
      "state": {
       "_model_module_version": "^0.16.0",
       "_view_module_version": "^0.16.0",
       "attribution": "Imagery provided by services from the Global Imagery Browse Services (GIBS), operated by the NASA/GSFC/Earth Science Data and Information System (ESDIS) with funding provided by NASA/HQ.",
       "max_native_zoom": 18,
       "max_zoom": 6,
       "min_native_zoom": 0,
       "name": "NASAGIBS.ModisTerraAOD",
       "options": [
        "attribution",
        "bounds",
        "detect_retina",
        "max_native_zoom",
        "max_zoom",
        "min_native_zoom",
        "min_zoom",
        "no_wrap",
        "tile_size",
        "tms"
       ],
       "url": "https://map1.vis.earthdata.nasa.gov/wmts-webmerc/MODIS_Terra_Aerosol/default//GoogleMapsCompatible_Level6/{z}/{y}/{x}.png"
      }
     },
     "b2411167106e410b849a908608b2b818": {
      "model_module": "jupyter-leaflet",
      "model_module_version": "^0.16.0",
      "model_name": "LeafletTileLayerModel",
      "state": {
       "_model_module_version": "^0.16.0",
       "_view_module_version": "^0.16.0",
       "attribution": "Tiles &copy; Esri &mdash; Esri, DeLorme, NAVTEQ, TomTom, Intermap, iPC, USGS, FAO, NPS, NRCAN, GeoBase, Kadaster NL, Ordnance Survey, Esri Japan, METI, Esri China (Hong Kong), and the GIS User Community",
       "max_native_zoom": 18,
       "max_zoom": 24,
       "min_native_zoom": 0,
       "name": "Esri.ArcticOceanReference",
       "options": [
        "attribution",
        "bounds",
        "detect_retina",
        "max_native_zoom",
        "max_zoom",
        "min_native_zoom",
        "min_zoom",
        "no_wrap",
        "tile_size",
        "tms"
       ],
       "url": "http://server.arcgisonline.com/ArcGIS/rest/services/Polar/Arctic_Ocean_Reference/MapServer/tile/{z}/{y}/{x}"
      }
     },
     "b2b119e75c564527b3445a90e0f9daa5": {
      "model_module": "@jupyter-widgets/controls",
      "model_module_version": "1.5.0",
      "model_name": "DescriptionStyleModel",
      "state": {
       "description_width": ""
      }
     },
     "b2cee3d9a98e4238ba84efcfb5231a67": {
      "model_module": "@jupyter-widgets/base",
      "model_module_version": "1.2.0",
      "model_name": "LayoutModel",
      "state": {
       "height": "auto",
       "padding": "0px 0px 0px 4px",
       "width": "auto"
      }
     },
     "b3abc15504164037b00eadb9b29fc70e": {
      "model_module": "@jupyter-widgets/base",
      "model_module_version": "1.2.0",
      "model_name": "LayoutModel",
      "state": {
       "height": "auto",
       "padding": "0px 0px 0px 4px",
       "width": "auto"
      }
     },
     "b3ea88b6dab841c7a9355171f4ec8057": {
      "model_module": "@jupyter-widgets/controls",
      "model_module_version": "1.5.0",
      "model_name": "ButtonStyleModel",
      "state": {}
     },
     "b41e48c4eaac48e287c0b9884409bbba": {
      "model_module": "@jupyter-widgets/controls",
      "model_module_version": "1.5.0",
      "model_name": "DescriptionStyleModel",
      "state": {
       "description_width": ""
      }
     },
     "b513169e99724a8f970528b1048688ac": {
      "model_module": "@jupyter-widgets/controls",
      "model_module_version": "1.5.0",
      "model_name": "ToggleButtonModel",
      "state": {
       "button_style": "primary",
       "icon": "eraser",
       "layout": "IPY_MODEL_0b142dbd984043ff9289646863ba208c",
       "style": "IPY_MODEL_bcee74bacde9462194833e642b7a4a5c",
       "tooltip": "Remove all drawn features"
      }
     },
     "ba29e77e4bdf44f49e40a2d7d9a23954": {
      "model_module": "@jupyter-widgets/controls",
      "model_module_version": "1.5.0",
      "model_name": "ToggleButtonModel",
      "state": {
       "button_style": "primary",
       "icon": "picture-o",
       "layout": "IPY_MODEL_06600ec352d0463d9cb3bf379f350a7e",
       "style": "IPY_MODEL_96f975fdb0804e919c9bce78f985ed7a",
       "tooltip": "Open COG/STAC dataset"
      }
     },
     "ba7726cbfdec4e6d83f86badaa51ca5e": {
      "model_module": "@jupyter-widgets/base",
      "model_module_version": "1.2.0",
      "model_name": "LayoutModel",
      "state": {}
     },
     "bb494e19313e4b44ba63d2c9af59172f": {
      "model_module": "jupyter-leaflet",
      "model_module_version": "^0.16.0",
      "model_name": "LeafletTileLayerModel",
      "state": {
       "_model_module_version": "^0.16.0",
       "_view_module_version": "^0.16.0",
       "attribution": "(C) Stadia Maps, (C) OpenMapTiles (C) OpenStreetMap contributors",
       "max_native_zoom": 18,
       "max_zoom": 20,
       "min_native_zoom": 0,
       "name": "Stadia.AlidadeSmoothDark",
       "options": [
        "attribution",
        "bounds",
        "detect_retina",
        "max_native_zoom",
        "max_zoom",
        "min_native_zoom",
        "min_zoom",
        "no_wrap",
        "tile_size",
        "tms"
       ],
       "url": "https://tiles.stadiamaps.com/tiles/alidade_smooth_dark/{z}/{x}/{y}.png"
      }
     },
     "bb7621e81e724eacb4b89ac72a3e2b4e": {
      "model_module": "@jupyter-widgets/base",
      "model_module_version": "1.2.0",
      "model_name": "LayoutModel",
      "state": {}
     },
     "bc607862ec3f4cd09c8d21b17a9ad0c8": {
      "model_module": "jupyter-leaflet",
      "model_module_version": "^0.16.0",
      "model_name": "LeafletTileLayerModel",
      "state": {
       "_model_module_version": "^0.16.0",
       "_view_module_version": "^0.16.0",
       "attribution": "Datenquelle: basemap.at",
       "max_native_zoom": 18,
       "max_zoom": 19,
       "min_native_zoom": 0,
       "name": "BasemapAT.grau",
       "options": [
        "attribution",
        "bounds",
        "detect_retina",
        "max_native_zoom",
        "max_zoom",
        "min_native_zoom",
        "min_zoom",
        "no_wrap",
        "tile_size",
        "tms"
       ],
       "url": "https://maps.wien.gv.at/basemap/bmapgrau/normal/google3857/{z}/{y}/{x}.png"
      }
     },
     "bcb288a247394d4f90d17774d0bef01d": {
      "model_module": "@jupyter-widgets/controls",
      "model_module_version": "1.5.0",
      "model_name": "ToggleButtonModel",
      "state": {
       "button_style": "primary",
       "icon": "gears",
       "layout": "IPY_MODEL_7009fe5ca7cd4d05b2e33147f1588b34",
       "style": "IPY_MODEL_66376fc5372745cdaa90a7faf66edc88",
       "tooltip": "WhiteboxTools for local geoprocessing"
      }
     },
     "bcee74bacde9462194833e642b7a4a5c": {
      "model_module": "@jupyter-widgets/controls",
      "model_module_version": "1.5.0",
      "model_name": "DescriptionStyleModel",
      "state": {
       "description_width": ""
      }
     },
     "bdf55d582eed44bfaf09d55b55176f86": {
      "model_module": "@jupyter-widgets/base",
      "model_module_version": "1.2.0",
      "model_name": "LayoutModel",
      "state": {}
     },
     "be425fc9dd2640e3a1994474de5941c7": {
      "model_module": "@jupyter-widgets/base",
      "model_module_version": "1.2.0",
      "model_name": "LayoutModel",
      "state": {
       "height": "auto",
       "padding": "0px 0px 0px 4px",
       "width": "auto"
      }
     },
     "be8649769e6c4ea684f2fa957353493f": {
      "model_module": "@jupyter-widgets/base",
      "model_module_version": "1.2.0",
      "model_name": "LayoutModel",
      "state": {}
     },
     "c0958f563c834207941f437cdd2c5bcb": {
      "model_module": "jupyter-leaflet",
      "model_module_version": "^0.16.0",
      "model_name": "LeafletTileLayerModel",
      "state": {
       "_model_module_version": "^0.16.0",
       "_view_module_version": "^0.16.0",
       "attribution": "Earthstar Geographics",
       "max_native_zoom": 18,
       "max_zoom": 24,
       "min_native_zoom": 0,
       "name": "Esri.ArcticImagery",
       "options": [
        "attribution",
        "bounds",
        "detect_retina",
        "max_native_zoom",
        "max_zoom",
        "min_native_zoom",
        "min_zoom",
        "no_wrap",
        "tile_size",
        "tms"
       ],
       "url": "http://server.arcgisonline.com/ArcGIS/rest/services/Polar/Arctic_Imagery/MapServer/tile/{z}/{y}/{x}"
      }
     },
     "c22174d4f6254438a80d9629f6925efc": {
      "model_module": "@jupyter-widgets/controls",
      "model_module_version": "1.5.0",
      "model_name": "ButtonStyleModel",
      "state": {}
     },
     "c2c559c7ddac4e049e857235a17a9a54": {
      "model_module": "@jupyter-widgets/base",
      "model_module_version": "1.2.0",
      "model_name": "LayoutModel",
      "state": {
       "border": "1px solid black"
      }
     },
     "c3f68a57bd3d4b0c810c4771041d9cb5": {
      "model_module": "@jupyter-widgets/controls",
      "model_module_version": "1.5.0",
      "model_name": "DescriptionStyleModel",
      "state": {
       "description_width": ""
      }
     },
     "c52a68058fda4c3ca76b3c49ad28c79c": {
      "model_module": "@jupyter-widgets/controls",
      "model_module_version": "1.5.0",
      "model_name": "DatePickerModel",
      "state": {
       "description": "Start Date",
       "disabled": false,
       "layout": "IPY_MODEL_106786af1aef437fb059d1426d0e5ca3",
       "style": "IPY_MODEL_ac59f7dccf5649a49ab42b1874e60c26",
       "value": {
        "date": 1,
        "month": 11,
        "year": 2018
       }
      }
     },
     "c60ce92cd5b74bb5a06182b33d774ee9": {
      "model_module": "jupyter-leaflet",
      "model_module_version": "^0.16.0",
      "model_name": "LeafletTileLayerModel",
      "state": {
       "_model_module_version": "^0.16.0",
       "_view_module_version": "^0.16.0",
       "attribution": "Map tiles by <a href=\"https://labs.strava.com/heatmap\">Strava 2021</a>",
       "max_native_zoom": 18,
       "max_zoom": 15,
       "min_native_zoom": 0,
       "name": "Strava.Water",
       "options": [
        "attribution",
        "bounds",
        "detect_retina",
        "max_native_zoom",
        "max_zoom",
        "min_native_zoom",
        "min_zoom",
        "no_wrap",
        "tile_size",
        "tms"
       ],
       "url": "https://heatmap-external-a.strava.com/tiles/water/blue/{z}/{x}/{y}.png"
      }
     },
     "c7fecd7f22184c5b87c8d1cfde665479": {
      "model_module": "@jupyter-widgets/controls",
      "model_module_version": "1.5.0",
      "model_name": "DescriptionStyleModel",
      "state": {
       "description_width": ""
      }
     },
     "c9db0849baf2476cabd26fb3863a5833": {
      "model_module": "jupyter-leaflet",
      "model_module_version": "^0.16.0",
      "model_name": "LeafletMapStyleModel",
      "state": {
       "_model_module_version": "^0.16.0"
      }
     },
     "cc4907b4de164b63ac253746237a6c94": {
      "model_module": "@jupyter-widgets/base",
      "model_module_version": "1.2.0",
      "model_name": "LayoutModel",
      "state": {
       "height": "auto",
       "padding": "0px 0px 0px 4px",
       "width": "auto"
      }
     },
     "cc53eb180d9542519627890f88ec13e1": {
      "model_module": "@jupyter-widgets/controls",
      "model_module_version": "1.5.0",
      "model_name": "ButtonModel",
      "state": {
       "description": "Remove saved ROIs",
       "layout": "IPY_MODEL_be8649769e6c4ea684f2fa957353493f",
       "style": "IPY_MODEL_ed594c2643d64bc0b85a46d5ab5e40b0"
      }
     },
     "ce8394f1da014b229f8fd470f2e1b812": {
      "model_module": "jupyter-leaflet",
      "model_module_version": "^0.16.0",
      "model_name": "LeafletMapStyleModel",
      "state": {
       "_model_module_version": "^0.16.0",
       "cursor": "move"
      }
     },
     "ceabb90f197f4e52a90014019311477a": {
      "model_module": "jupyter-leaflet",
      "model_module_version": "^0.16.0",
      "model_name": "LeafletWidgetControlModel",
      "state": {
       "_model_module": "jupyter-leaflet",
       "_model_module_version": "^0.16.0",
       "_view_count": null,
       "_view_module": "jupyter-leaflet",
       "_view_module_version": "^0.16.0",
       "options": [
        "position",
        "transparent_bg"
       ],
       "position": "topright",
       "widget": "IPY_MODEL_9c4aaa47001d4315b97f273b8e885303"
      }
     },
     "cf0396e02cc7409bbab12086e013fb3c": {
      "model_module": "@jupyter-widgets/controls",
      "model_module_version": "1.5.0",
      "model_name": "ToggleButtonModel",
      "state": {
       "icon": "times",
       "layout": "IPY_MODEL_45e5dd54194c47658c3b5ff26f37e8ee",
       "style": "IPY_MODEL_b41e48c4eaac48e287c0b9884409bbba",
       "tooltip": "Close the tool"
      }
     },
     "d01a79cdd839473cb9965115ca222642": {
      "model_module": "jupyter-leaflet",
      "model_module_version": "^0.16.0",
      "model_name": "LeafletTileLayerModel",
      "state": {
       "_model_module_version": "^0.16.0",
       "_view_module_version": "^0.16.0",
       "attribution": "(C) OpenStreetMap contributors",
       "max_native_zoom": 18,
       "max_zoom": 19,
       "min_native_zoom": 0,
       "name": "OpenStreetMap.Mapnik",
       "options": [
        "attribution",
        "bounds",
        "detect_retina",
        "max_native_zoom",
        "max_zoom",
        "min_native_zoom",
        "min_zoom",
        "no_wrap",
        "tile_size",
        "tms"
       ],
       "url": "https://a.tile.openstreetmap.org/{z}/{x}/{y}.png"
      }
     },
     "d0216a1353a143679be99d3e52314135": {
      "model_module": "jupyter-leaflet",
      "model_module_version": "^0.16.0",
      "model_name": "LeafletTileLayerModel",
      "state": {
       "_model_module_version": "^0.16.0",
       "_view_module_version": "^0.16.0",
       "attribution": "Tiles &copy; Esri &mdash; Esri, DeLorme, NAVTEQ, TomTom, Intermap, iPC, USGS, FAO, NPS, NRCAN, GeoBase, Kadaster NL, Ordnance Survey, Esri Japan, METI, Esri China (Hong Kong), and the GIS User Community",
       "max_native_zoom": 18,
       "max_zoom": 24,
       "min_native_zoom": 0,
       "name": "Esri.ArcticOceanBase",
       "options": [
        "attribution",
        "bounds",
        "detect_retina",
        "max_native_zoom",
        "max_zoom",
        "min_native_zoom",
        "min_zoom",
        "no_wrap",
        "tile_size",
        "tms"
       ],
       "url": "http://server.arcgisonline.com/ArcGIS/rest/services/Polar/Arctic_Ocean_Base/MapServer/tile/{z}/{y}/{x}"
      }
     },
     "d04181ab83594b149be12fcc2411395e": {
      "model_module": "jupyter-leaflet",
      "model_module_version": "^0.16.0",
      "model_name": "LeafletTileLayerModel",
      "state": {
       "_model_module_version": "^0.16.0",
       "_view_module_version": "^0.16.0",
       "attribution": "(C) Stadia Maps, (C) OpenMapTiles (C) OpenStreetMap contributors",
       "max_native_zoom": 18,
       "max_zoom": 20,
       "min_native_zoom": 0,
       "name": "Stadia.AlidadeSmooth",
       "options": [
        "attribution",
        "bounds",
        "detect_retina",
        "max_native_zoom",
        "max_zoom",
        "min_native_zoom",
        "min_zoom",
        "no_wrap",
        "tile_size",
        "tms"
       ],
       "url": "https://tiles.stadiamaps.com/tiles/alidade_smooth/{z}/{x}/{y}.png"
      }
     },
     "d057237821354ba5954ea701857db848": {
      "model_module": "jupyter-leaflet",
      "model_module_version": "^0.16.0",
      "model_name": "LeafletTileLayerModel",
      "state": {
       "_model_module_version": "^0.16.0",
       "_view_module_version": "^0.16.0",
       "attribution": "OpenStreetMap",
       "max_native_zoom": 18,
       "max_zoom": 22,
       "min_native_zoom": 0,
       "name": "OpenStreetMap",
       "options": [
        "attribution",
        "bounds",
        "detect_retina",
        "max_native_zoom",
        "max_zoom",
        "min_native_zoom",
        "min_zoom",
        "no_wrap",
        "tile_size",
        "tms"
       ]
      }
     },
     "d0b212c4dd134f3698449abe7f49d123": {
      "model_module": "@jupyter-widgets/controls",
      "model_module_version": "1.5.0",
      "model_name": "HBoxModel",
      "state": {
       "children": [
        "IPY_MODEL_e59de1b8cd64453194e8bc8f659acecf",
        "IPY_MODEL_fbf39a356e944cb0a3910811d1fe6b0e",
        "IPY_MODEL_423acdf39a894aa3b4216976a4348286",
        "IPY_MODEL_d7b0707a74b54e9282479d9ed92665b5",
        "IPY_MODEL_8c27685d66004590b47308425b4cfbf0",
        "IPY_MODEL_cc53eb180d9542519627890f88ec13e1"
       ],
       "layout": "IPY_MODEL_d915d534258c4ecd8eed2d902d7941f4"
      }
     },
     "d18e74cffda14620aff2d7634e0a4cf1": {
      "model_module": "@jupyter-widgets/controls",
      "model_module_version": "1.5.0",
      "model_name": "ToggleButtonModel",
      "state": {
       "button_style": "primary",
       "icon": "download",
       "layout": "IPY_MODEL_b2cee3d9a98e4238ba84efcfb5231a67",
       "style": "IPY_MODEL_c3f68a57bd3d4b0c810c4771041d9cb5",
       "tooltip": "Download OSM data"
      }
     },
     "d2101be3186f49149dc20ea12b0b0c56": {
      "model_module": "jupyter-leaflet",
      "model_module_version": "^0.16.0",
      "model_name": "LeafletTileLayerModel",
      "state": {
       "_model_module_version": "^0.16.0",
       "_view_module_version": "^0.16.0",
       "attribution": "![](https://docs.onemap.sg/maps/images/oneMap64-01.png) New OneMap | Map data (C) contributors, Singapore Land Authority",
       "max_native_zoom": 18,
       "min_native_zoom": 0,
       "name": "OneMapSG.Original",
       "options": [
        "attribution",
        "bounds",
        "detect_retina",
        "max_native_zoom",
        "max_zoom",
        "min_native_zoom",
        "min_zoom",
        "no_wrap",
        "tile_size",
        "tms"
       ],
       "url": "https://maps-a.onemap.sg/v3/Original/{z}/{x}/{y}.png"
      }
     },
     "d3a7946960504938bc0c580ea3c65004": {
      "model_module": "@jupyter-widgets/controls",
      "model_module_version": "1.5.0",
      "model_name": "ButtonModel",
      "state": {
       "description": "Save ROI",
       "layout": "IPY_MODEL_461f14ccc5564be5b8e2a9bc7eaa773b",
       "style": "IPY_MODEL_500957c7bd8b426eb1fbf60b26d75291"
      }
     },
     "d49279e1a6404571821bec9c7ef5e239": {
      "model_module": "jupyter-leaflet",
      "model_module_version": "^0.16.0",
      "model_name": "LeafletWMSLayerModel",
      "state": {
       "_model_module_version": "^0.16.0",
       "_view_module_version": "^0.16.0",
       "attribution": "ESA",
       "crs": {
        "custom": false,
        "name": "EPSG3857"
       },
       "format": "image/png",
       "layers": "WORLDCOVER_2020_S2_FCC",
       "max_native_zoom": 18,
       "min_native_zoom": 0,
       "name": "ESA Worldcover 2020 S2 FCC",
       "options": [
        "attribution",
        "bounds",
        "detect_retina",
        "format",
        "layers",
        "max_native_zoom",
        "max_zoom",
        "min_native_zoom",
        "min_zoom",
        "no_wrap",
        "styles",
        "tile_size",
        "tms",
        "transparent",
        "uppercase"
       ],
       "transparent": true,
       "url": "https://services.terrascope.be/wms/v2"
      }
     },
     "d49cabc04d2849af8e763cbdd93f933e": {
      "model_module": "@jupyter-widgets/controls",
      "model_module_version": "1.5.0",
      "model_name": "VBoxModel",
      "state": {
       "children": [
        "IPY_MODEL_0b62f54bf398450c8a48f83dd2e2eb9c",
        "IPY_MODEL_2c760aa980f54e1ba67e5a3142eae129"
       ],
       "layout": "IPY_MODEL_bb7621e81e724eacb4b89ac72a3e2b4e"
      }
     },
     "d4c35f2eb7d542a18aa260420cdd9d07": {
      "model_module": "jupyter-leaflet",
      "model_module_version": "^0.16.0",
      "model_name": "LeafletTileLayerModel",
      "state": {
       "_model_module_version": "^0.16.0",
       "_view_module_version": "^0.16.0",
       "attribution": "Map data: (C) OpenStreetMap contributors, SRTM | Map style: (C) OpenTopoMap (CC-BY-SA)",
       "max_native_zoom": 18,
       "max_zoom": 17,
       "min_native_zoom": 0,
       "name": "OpenTopoMap",
       "options": [
        "attribution",
        "bounds",
        "detect_retina",
        "max_native_zoom",
        "max_zoom",
        "min_native_zoom",
        "min_zoom",
        "no_wrap",
        "tile_size",
        "tms"
       ],
       "url": "https://a.tile.opentopomap.org/{z}/{x}/{y}.png"
      }
     },
     "d58bb67ff4044571a85ed80235f7cc24": {
      "model_module": "@jupyter-widgets/controls",
      "model_module_version": "1.5.0",
      "model_name": "ToggleButtonModel",
      "state": {
       "button_style": "primary",
       "icon": "pencil-square-o",
       "layout": "IPY_MODEL_80037ae5f5514d3baa2ef846bba682e0",
       "style": "IPY_MODEL_35b257a0464c4fca8f990a21f3b1fa2e",
       "tooltip": "Create vector data"
      }
     },
     "d59a7c3b2efa4dd7be0a768359ba5670": {
      "model_module": "jupyter-leaflet",
      "model_module_version": "^0.16.0",
      "model_name": "LeafletTileLayerModel",
      "state": {
       "_model_module_version": "^0.16.0",
       "_view_module_version": "^0.16.0",
       "attribution": "Map tiles by Stamen Design, CC BY 3.0 -- Map data (C) OpenStreetMap contributors",
       "max_native_zoom": 18,
       "max_zoom": 20,
       "min_native_zoom": 0,
       "name": "Stamen.TonerLite",
       "options": [
        "attribution",
        "bounds",
        "detect_retina",
        "max_native_zoom",
        "max_zoom",
        "min_native_zoom",
        "min_zoom",
        "no_wrap",
        "tile_size",
        "tms"
       ],
       "url": "https://stamen-tiles-a.a.ssl.fastly.net/toner-lite/{z}/{x}/{y}.png"
      }
     },
     "d624f0109dbf405b8997b548effec6e6": {
      "model_module": "@jupyter-widgets/base",
      "model_module_version": "1.2.0",
      "model_name": "LayoutModel",
      "state": {
       "height": "28px",
       "padding": "0px 0px 0px 4px",
       "width": "28px"
      }
     },
     "d7b0707a74b54e9282479d9ed92665b5": {
      "model_module": "@jupyter-widgets/controls",
      "model_module_version": "1.5.0",
      "model_name": "ButtonModel",
      "state": {
       "description": "Remove coastline",
       "layout": "IPY_MODEL_51adaeca7c1346d4a5987f2919d9757a",
       "style": "IPY_MODEL_433b366ae5a84c15a03c833c96827e36"
      }
     },
     "d7f8f5bb16284f279e93ebefc0833300": {
      "model_module": "jupyter-leaflet",
      "model_module_version": "^0.16.0",
      "model_name": "LeafletWMSLayerModel",
      "state": {
       "_model_module_version": "^0.16.0",
       "_view_module_version": "^0.16.0",
       "attribution": "USGS",
       "crs": {
        "custom": false,
        "name": "EPSG3857"
       },
       "format": "image/png",
       "layers": "0",
       "max_native_zoom": 18,
       "min_native_zoom": 0,
       "name": "USGS Hydrography",
       "options": [
        "attribution",
        "bounds",
        "detect_retina",
        "format",
        "layers",
        "max_native_zoom",
        "max_zoom",
        "min_native_zoom",
        "min_zoom",
        "no_wrap",
        "styles",
        "tile_size",
        "tms",
        "transparent",
        "uppercase"
       ],
       "transparent": true,
       "url": "https://basemap.nationalmap.gov/arcgis/services/USGSHydroCached/MapServer/WMSServer?"
      }
     },
     "d80544b912c149078582b7ce900ab16c": {
      "model_module": "jupyter-leaflet",
      "model_module_version": "^0.16.0",
      "model_name": "LeafletWMSLayerModel",
      "state": {
       "_model_module_version": "^0.16.0",
       "_view_module_version": "^0.16.0",
       "attribution": "USGS",
       "crs": {
        "custom": false,
        "name": "EPSG3857"
       },
       "format": "image/png",
       "layers": "USGSNAIPImagery:NDVI_Color",
       "max_native_zoom": 18,
       "min_native_zoom": 0,
       "name": "USGS NAIP Imagery NDVI",
       "options": [
        "attribution",
        "bounds",
        "detect_retina",
        "format",
        "layers",
        "max_native_zoom",
        "max_zoom",
        "min_native_zoom",
        "min_zoom",
        "no_wrap",
        "styles",
        "tile_size",
        "tms",
        "transparent",
        "uppercase"
       ],
       "transparent": true,
       "url": "https://imagery.nationalmap.gov/arcgis/services/USGSNAIPImagery/ImageServer/WMSServer?"
      }
     },
     "d915d534258c4ecd8eed2d902d7941f4": {
      "model_module": "@jupyter-widgets/base",
      "model_module_version": "1.2.0",
      "model_name": "LayoutModel",
      "state": {}
     },
     "da54fff1b29842dfb7f09a230cc94392": {
      "model_module": "@jupyter-widgets/controls",
      "model_module_version": "1.5.0",
      "model_name": "HBoxModel",
      "state": {
       "children": [
        "IPY_MODEL_27a632aa3fdc431a928679c8b8cf7252",
        "IPY_MODEL_cf0396e02cc7409bbab12086e013fb3c"
       ],
       "layout": "IPY_MODEL_99ee8b497f5a419bbd1884abae75ba1d"
      }
     },
     "da5efece50ad4bb99389a4057ad1c432": {
      "model_module": "@jupyter-widgets/controls",
      "model_module_version": "1.5.0",
      "model_name": "ButtonStyleModel",
      "state": {}
     },
     "daec65c6db784ad78a47aec0b06d69b2": {
      "model_module": "jupyter-leaflet",
      "model_module_version": "^0.16.0",
      "model_name": "LeafletTileLayerModel",
      "state": {
       "_model_module_version": "^0.16.0",
       "_view_module_version": "^0.16.0",
       "attribution": "Datenquelle: basemap.at",
       "max_native_zoom": 18,
       "max_zoom": 20,
       "min_native_zoom": 0,
       "name": "BasemapAT.orthofoto",
       "options": [
        "attribution",
        "bounds",
        "detect_retina",
        "max_native_zoom",
        "max_zoom",
        "min_native_zoom",
        "min_zoom",
        "no_wrap",
        "tile_size",
        "tms"
       ],
       "url": "https://maps.wien.gv.at/basemap/bmaporthofoto30cm/normal/google3857/{z}/{y}/{x}.jpeg"
      }
     },
     "db1cdef97f5048039a190838abbf9da5": {
      "model_module": "@jupyter-widgets/controls",
      "model_module_version": "1.5.0",
      "model_name": "HTMLModel",
      "state": {
       "layout": "IPY_MODEL_117c28a315da4cb3b9513494b3c6aef4",
       "style": "IPY_MODEL_3241b1094cc244b1add856846e163f8f",
       "value": "<b>Pick a collection</b>        <br> C01: LandSat Collection 1         <br> C02: LandSat Collection 2  [2022/01/01 and beyond]         <br>      - Landsat 9 is only available in C02"
      }
     },
     "db5d4b11a99f41f9a7cdd236db97df7c": {
      "model_module": "@jupyter-widgets/base",
      "model_module_version": "1.2.0",
      "model_name": "LayoutModel",
      "state": {}
     },
     "dd1f55a7eff941dca32218af09a5553d": {
      "model_module": "@jupyter-widgets/base",
      "model_module_version": "1.2.0",
      "model_name": "LayoutModel",
      "state": {}
     },
     "dd5f5786e96b4ae7a709f7181027765e": {
      "model_module": "jupyter-leaflet",
      "model_module_version": "^0.16.0",
      "model_name": "LeafletWMSLayerModel",
      "state": {
       "_model_module_version": "^0.16.0",
       "_view_module_version": "^0.16.0",
       "attribution": "MRLC",
       "crs": {
        "custom": false,
        "name": "EPSG3857"
       },
       "format": "image/png",
       "layers": "NLCD_2008_Land_Cover_L48",
       "max_native_zoom": 18,
       "min_native_zoom": 0,
       "name": "NLCD 2008 CONUS Land Cover",
       "options": [
        "attribution",
        "bounds",
        "detect_retina",
        "format",
        "layers",
        "max_native_zoom",
        "max_zoom",
        "min_native_zoom",
        "min_zoom",
        "no_wrap",
        "styles",
        "tile_size",
        "tms",
        "transparent",
        "uppercase"
       ],
       "transparent": true,
       "url": "https://www.mrlc.gov/geoserver/mrlc_display/NLCD_2008_Land_Cover_L48/wms?"
      }
     },
     "ddb7936818134a80b3c01702a04ab7e0": {
      "model_module": "jupyter-leaflet",
      "model_module_version": "^0.16.0",
      "model_name": "LeafletMapStyleModel",
      "state": {
       "_model_module_version": "^0.16.0"
      }
     },
     "dfab4554d2c047269042bc9ce7be9f77": {
      "model_module": "jupyter-leaflet",
      "model_module_version": "^0.16.0",
      "model_name": "LeafletDrawControlModel",
      "state": {
       "_model_module_version": "^0.16.0",
       "_view_module_version": "^0.16.0",
       "data": [
        {
         "geometry": {
          "coordinates": [
           [
            [
             -81.173816,
             29.453781
            ],
            [
             -81.173816,
             29.568838
            ],
            [
             -81.12025,
             29.568838
            ],
            [
             -81.12025,
             29.453781
            ],
            [
             -81.173816,
             29.453781
            ]
           ]
          ],
          "type": "Polygon"
         },
         "properties": {
          "style": {
           "Opacity": 0.1,
           "clickable": true,
           "color": "green",
           "fill": true,
           "fillColor": "green",
           "fillOpacity": 0.1,
           "opacity": 0.5,
           "stroke": true,
           "weight": 4
          }
         },
         "type": "Feature"
        }
       ],
       "options": [
        "position"
       ],
       "polygon": {},
       "polyline": {},
       "rectangle": {
        "allowIntersection": false,
        "drawError": {
         "color": "#dd253b",
         "message": "Ops!"
        },
        "shapeOptions": {
         "Opacity": 0.1,
         "color": "green",
         "fillColor": "green",
         "fillOpacity": 0.1
        },
        "transform": true
       }
      }
     },
     "dfda5b6aa96e44b29e6c5a930d8dfdd4": {
      "model_module": "@jupyter-widgets/base",
      "model_module_version": "1.2.0",
      "model_name": "LayoutModel",
      "state": {
       "height": "auto",
       "padding": "0px 0px 0px 4px",
       "width": "auto"
      }
     },
     "e1afda53cfdd4237810bbfdda8219fb9": {
      "model_module": "@jupyter-widgets/base",
      "model_module_version": "1.2.0",
      "model_name": "LayoutModel",
      "state": {
       "margin": "0px 20px 20px 20px"
      }
     },
     "e1c5ef000a874532b83d3709f263ab88": {
      "model_module": "@jupyter-widgets/controls",
      "model_module_version": "1.5.0",
      "model_name": "HBoxModel",
      "state": {
       "children": [
        "IPY_MODEL_c52a68058fda4c3ca76b3c49ad28c79c",
        "IPY_MODEL_2f71b7c2e5d94e37a2cbd7992b06123b"
       ],
       "layout": "IPY_MODEL_db5d4b11a99f41f9a7cdd236db97df7c"
      }
     },
     "e1d786f4b7684923a184ded7256445fe": {
      "model_module": "@jupyter-widgets/output",
      "model_module_version": "1.0.0",
      "model_name": "OutputModel",
      "state": {
       "layout": "IPY_MODEL_25b4b76e8c5d4cf3a632f1f96ed4ff55",
       "outputs": [
        {
         "name": "stdout",
         "output_type": "stream",
         "text": "ROIs have been saved. Now click Download ROI to download the ROIs using CoastSat\n"
        }
       ]
      }
     },
     "e39cb4549c7e4cbaae6e1b816de47692": {
      "model_module": "@jupyter-widgets/controls",
      "model_module_version": "1.5.0",
      "model_name": "RadioButtonsModel",
      "state": {
       "_options_labels": [
        "landsat_6229071",
        "landsat_6230083",
        "SWED-RGB_6824384",
        "SWED-MNDWI_6824342"
       ],
       "description": "Select Model:",
       "index": 0,
       "layout": "IPY_MODEL_dd1f55a7eff941dca32218af09a5553d",
       "style": "IPY_MODEL_e90302a0d8be49b2bde2607f2f5285e1"
      }
     },
     "e3b3f5835921493bbda101e4627eb23f": {
      "model_module": "jupyter-leaflet",
      "model_module_version": "^0.16.0",
      "model_name": "LeafletTileLayerModel",
      "state": {
       "_model_module_version": "^0.16.0",
       "_view_module_version": "^0.16.0",
       "attribution": "(C) OpenStreetMap contributors (C) CARTO",
       "max_native_zoom": 18,
       "max_zoom": 20,
       "min_native_zoom": 0,
       "name": "CartoDB.DarkMatter",
       "options": [
        "attribution",
        "bounds",
        "detect_retina",
        "max_native_zoom",
        "max_zoom",
        "min_native_zoom",
        "min_zoom",
        "no_wrap",
        "tile_size",
        "tms"
       ],
       "url": "https://a.basemaps.cartocdn.com/dark_all/{z}/{x}/{y}.png"
      }
     },
     "e41aff292d6f409ab2450bd6d714f845": {
      "model_module": "jupyter-leaflet",
      "model_module_version": "^0.16.0",
      "model_name": "LeafletTileLayerModel",
      "state": {
       "_model_module_version": "^0.16.0",
       "_view_module_version": "^0.16.0",
       "attribution": "Geoportail France",
       "max_native_zoom": 18,
       "min_native_zoom": 0,
       "name": "GeoportailFrance.plan",
       "options": [
        "attribution",
        "bounds",
        "detect_retina",
        "max_native_zoom",
        "max_zoom",
        "min_native_zoom",
        "min_zoom",
        "no_wrap",
        "tile_size",
        "tms"
       ],
       "url": "https://wxs.ign.fr/choisirgeoportail/geoportail/wmts?REQUEST=GetTile&SERVICE=WMTS&VERSION=1.0.0&STYLE=normal&TILEMATRIXSET=PM&FORMAT=image/png&LAYER=GEOGRAPHICALGRIDSYSTEMS.PLANIGNV2&TILEMATRIX={z}&TILEROW={y}&TILECOL={x}"
      }
     },
     "e59de1b8cd64453194e8bc8f659acecf": {
      "model_module": "@jupyter-widgets/controls",
      "model_module_version": "1.5.0",
      "model_name": "ButtonModel",
      "state": {
       "description": "Remove all",
       "layout": "IPY_MODEL_785c60413be6402e8ef5a764f86a43b4",
       "style": "IPY_MODEL_b3ea88b6dab841c7a9355171f4ec8057"
      }
     },
     "e5fe94d8c76640d38f961bf23e250237": {
      "model_module": "@jupyter-widgets/base",
      "model_module_version": "1.2.0",
      "model_name": "LayoutModel",
      "state": {
       "padding": "10px"
      }
     },
     "e708696077f24a6290573e2333248ded": {
      "model_module": "@jupyter-widgets/controls",
      "model_module_version": "1.5.0",
      "model_name": "DescriptionStyleModel",
      "state": {
       "description_width": ""
      }
     },
     "e708d57ad785414ab4fd62b626a0f071": {
      "model_module": "@jupyter-widgets/controls",
      "model_module_version": "1.5.0",
      "model_name": "DescriptionStyleModel",
      "state": {
       "description_width": ""
      }
     },
     "e75a3d631ca64c95a3a7459b704fc5dc": {
      "model_module": "@jupyter-widgets/base",
      "model_module_version": "1.2.0",
      "model_name": "LayoutModel",
      "state": {
       "height": "auto",
       "padding": "0px 0px 0px 4px",
       "width": "auto"
      }
     },
     "e88f60975d294615909ec61662f5be7c": {
      "model_module": "@jupyter-widgets/controls",
      "model_module_version": "1.5.0",
      "model_name": "ButtonStyleModel",
      "state": {}
     },
     "e8d571549c0c4ac9a3cca2f63069e7a4": {
      "model_module": "jupyter-leaflet",
      "model_module_version": "^0.16.0",
      "model_name": "LeafletTileLayerModel",
      "state": {
       "_model_module_version": "^0.16.0",
       "_view_module_version": "^0.16.0",
       "attribution": "Map data: (C) OpenStreetMap contributors | Map style: (C) OpenRailwayMap (CC-BY-SA)",
       "max_native_zoom": 18,
       "max_zoom": 19,
       "min_native_zoom": 0,
       "name": "OpenRailwayMap",
       "options": [
        "attribution",
        "bounds",
        "detect_retina",
        "max_native_zoom",
        "max_zoom",
        "min_native_zoom",
        "min_zoom",
        "no_wrap",
        "tile_size",
        "tms"
       ],
       "url": "https://a.tiles.openrailwaymap.org/standard/{z}/{x}/{y}.png"
      }
     },
     "e90302a0d8be49b2bde2607f2f5285e1": {
      "model_module": "@jupyter-widgets/controls",
      "model_module_version": "1.5.0",
      "model_name": "DescriptionStyleModel",
      "state": {
       "description_width": ""
      }
     },
     "e932e2443ae6450780d29d0875ef69ab": {
      "model_module": "jupyter-leaflet",
      "model_module_version": "^0.16.0",
      "model_name": "LeafletTileLayerModel",
      "state": {
       "_model_module_version": "^0.16.0",
       "_view_module_version": "^0.16.0",
       "attribution": "Imagery provided by services from the Global Imagery Browse Services (GIBS), operated by the NASA/GSFC/Earth Science Data and Information System (ESDIS) with funding provided by NASA/HQ.",
       "max_native_zoom": 18,
       "max_zoom": 9,
       "min_native_zoom": 0,
       "name": "NASAGIBS.ModisTerraBands367CR",
       "options": [
        "attribution",
        "bounds",
        "detect_retina",
        "max_native_zoom",
        "max_zoom",
        "min_native_zoom",
        "min_zoom",
        "no_wrap",
        "tile_size",
        "tms"
       ],
       "url": "https://map1.vis.earthdata.nasa.gov/wmts-webmerc/MODIS_Terra_CorrectedReflectance_Bands367/default//GoogleMapsCompatible_Level9/{z}/{y}/{x}.jpg"
      }
     },
     "e96b7f474602485d832335cc508e9b63": {
      "model_module": "jupyter-leaflet",
      "model_module_version": "^0.16.0",
      "model_name": "LeafletTileLayerModel",
      "state": {
       "_model_module_version": "^0.16.0",
       "_view_module_version": "^0.16.0",
       "attribution": "(C) OpenStreetMap contributors (C) CARTO",
       "max_native_zoom": 18,
       "max_zoom": 20,
       "min_native_zoom": 0,
       "name": "CartoDB.VoyagerNoLabels",
       "options": [
        "attribution",
        "bounds",
        "detect_retina",
        "max_native_zoom",
        "max_zoom",
        "min_native_zoom",
        "min_zoom",
        "no_wrap",
        "tile_size",
        "tms"
       ],
       "url": "https://a.basemaps.cartocdn.com/rastertiles/voyager_nolabels/{z}/{x}/{y}.png"
      }
     },
     "ea42c9ac87cd4156b70743df9ff1d388": {
      "model_module": "jupyter-leaflet",
      "model_module_version": "^0.16.0",
      "model_name": "LeafletWMSLayerModel",
      "state": {
       "_model_module_version": "^0.16.0",
       "_view_module_version": "^0.16.0",
       "attribution": "MRLC",
       "crs": {
        "custom": false,
        "name": "EPSG3857"
       },
       "format": "image/png",
       "layers": "NLCD_2001_Land_Cover_L48",
       "max_native_zoom": 18,
       "min_native_zoom": 0,
       "name": "NLCD 2001 CONUS Land Cover",
       "options": [
        "attribution",
        "bounds",
        "detect_retina",
        "format",
        "layers",
        "max_native_zoom",
        "max_zoom",
        "min_native_zoom",
        "min_zoom",
        "no_wrap",
        "styles",
        "tile_size",
        "tms",
        "transparent",
        "uppercase"
       ],
       "transparent": true,
       "url": "https://www.mrlc.gov/geoserver/mrlc_display/NLCD_2001_Land_Cover_L48/wms?"
      }
     },
     "ebec2fba2c3b4c2ca90883c410a12def": {
      "model_module": "@jupyter-widgets/base",
      "model_module_version": "1.2.0",
      "model_name": "LayoutModel",
      "state": {
       "height": "auto",
       "padding": "0px 0px 0px 4px",
       "width": "auto"
      }
     },
     "ed594c2643d64bc0b85a46d5ab5e40b0": {
      "model_module": "@jupyter-widgets/controls",
      "model_module_version": "1.5.0",
      "model_name": "ButtonStyleModel",
      "state": {}
     },
     "ef02ac039ef94e009b63c282a6520d00": {
      "model_module": "@jupyter-widgets/controls",
      "model_module_version": "1.5.0",
      "model_name": "ToggleButtonModel",
      "state": {
       "button_style": "primary",
       "icon": "folder-open",
       "layout": "IPY_MODEL_4b5c33e01e3446c1961c6c35b55b3d72",
       "style": "IPY_MODEL_b2b119e75c564527b3445a90e0f9daa5",
       "tooltip": "Open local vector/raster data"
      }
     },
     "ef42f9b04b164fbea99b9dd9b5acb12d": {
      "model_module": "jupyter-leaflet",
      "model_module_version": "^0.16.0",
      "model_name": "LeafletWMSLayerModel",
      "state": {
       "_model_module_version": "^0.16.0",
       "_view_module_version": "^0.16.0",
       "attribution": "MRLC",
       "crs": {
        "custom": false,
        "name": "EPSG3857"
       },
       "format": "image/png",
       "layers": "NLCD_2016_Land_Cover_L48",
       "max_native_zoom": 18,
       "min_native_zoom": 0,
       "name": "NLCD 2016 CONUS Land Cover",
       "options": [
        "attribution",
        "bounds",
        "detect_retina",
        "format",
        "layers",
        "max_native_zoom",
        "max_zoom",
        "min_native_zoom",
        "min_zoom",
        "no_wrap",
        "styles",
        "tile_size",
        "tms",
        "transparent",
        "uppercase"
       ],
       "transparent": true,
       "url": "https://www.mrlc.gov/geoserver/mrlc_display/NLCD_2016_Land_Cover_L48/wms?"
      }
     },
     "efa31a58127741918f92f52d42ca3083": {
      "model_module": "jupyter-leaflet",
      "model_module_version": "^0.16.0",
      "model_name": "LeafletTileLayerModel",
      "state": {
       "_model_module_version": "^0.16.0",
       "_view_module_version": "^0.16.0",
       "attribution": "Map tiles by Stamen Design, CC BY 3.0 -- Map data (C) OpenStreetMap contributors",
       "max_native_zoom": 18,
       "min_native_zoom": 0,
       "name": "Stamen.Terrain",
       "options": [
        "attribution",
        "bounds",
        "detect_retina",
        "max_native_zoom",
        "max_zoom",
        "min_native_zoom",
        "min_zoom",
        "no_wrap",
        "tile_size",
        "tms"
       ],
       "url": "https://stamen-tiles-a.a.ssl.fastly.net/terrain/{z}/{x}/{y}.png"
      }
     },
     "f00605bd59b24fde8a54188263f5d5e9": {
      "model_module": "jupyter-leaflet",
      "model_module_version": "^0.16.0",
      "model_name": "LeafletTileLayerModel",
      "state": {
       "_model_module_version": "^0.16.0",
       "_view_module_version": "^0.16.0",
       "attribution": "Map data: (C) OpenStreetMap contributors & ODbL, (C) www.opensnowmap.org CC-BY-SA",
       "max_native_zoom": 18,
       "min_native_zoom": 0,
       "name": "OpenSnowMap.pistes",
       "options": [
        "attribution",
        "bounds",
        "detect_retina",
        "max_native_zoom",
        "max_zoom",
        "min_native_zoom",
        "min_zoom",
        "no_wrap",
        "tile_size",
        "tms"
       ],
       "url": "https://tiles.opensnowmap.org/pistes/{z}/{x}/{y}.png"
      }
     },
     "f08e7efa99b2453eae4d64d428d0a1e0": {
      "model_module": "jupyter-leaflet",
      "model_module_version": "^0.16.0",
      "model_name": "LeafletTileLayerModel",
      "state": {
       "_model_module_version": "^0.16.0",
       "_view_module_version": "^0.16.0",
       "attribution": "Imagery provided by services from the Global Imagery Browse Services (GIBS), operated by the NASA/GSFC/Earth Science Data and Information System (ESDIS) with funding provided by NASA/HQ.",
       "max_native_zoom": 18,
       "max_zoom": 9,
       "min_native_zoom": 0,
       "name": "NASAGIBS.ModisTerraBands721CR",
       "options": [
        "attribution",
        "bounds",
        "detect_retina",
        "max_native_zoom",
        "max_zoom",
        "min_native_zoom",
        "min_zoom",
        "no_wrap",
        "tile_size",
        "tms"
       ],
       "url": "https://gibs.earthdata.nasa.gov/wmts/epsg3857/best/MODIS_Terra_CorrectedReflectance_Bands721/default//GoogleMapsCompatible_Level9/{z}/{y}/{x}.jpg"
      }
     },
     "f0d95a4f49314930bf1b83920412097c": {
      "model_module": "jupyter-leaflet",
      "model_module_version": "^0.16.0",
      "model_name": "LeafletWMSLayerModel",
      "state": {
       "_model_module_version": "^0.16.0",
       "_view_module_version": "^0.16.0",
       "attribution": "USGS",
       "crs": {
        "custom": false,
        "name": "EPSG3857"
       },
       "format": "image/png",
       "layers": "USGSNAIPImagery:NaturalColor",
       "max_native_zoom": 18,
       "min_native_zoom": 0,
       "name": "USGS NAIP Imagery",
       "options": [
        "attribution",
        "bounds",
        "detect_retina",
        "format",
        "layers",
        "max_native_zoom",
        "max_zoom",
        "min_native_zoom",
        "min_zoom",
        "no_wrap",
        "styles",
        "tile_size",
        "tms",
        "transparent",
        "uppercase"
       ],
       "transparent": true,
       "url": "https://imagery.nationalmap.gov/arcgis/services/USGSNAIPImagery/ImageServer/WMSServer?"
      }
     },
     "f29c7162e55c478eb0bf6c6e28136617": {
      "model_module": "@jupyter-widgets/base",
      "model_module_version": "1.2.0",
      "model_name": "LayoutModel",
      "state": {
       "height": "auto",
       "padding": "0px 0px 0px 4px",
       "width": "auto"
      }
     },
     "f39feaa4b94746df81622eaffc0bb2dd": {
      "model_module": "@jupyter-widgets/controls",
      "model_module_version": "1.5.0",
      "model_name": "DescriptionStyleModel",
      "state": {
       "description_width": ""
      }
     },
     "f4a14043fdfb4be192ccb5d7356a4f77": {
      "model_module": "@jupyter-widgets/base",
      "model_module_version": "1.2.0",
      "model_name": "LayoutModel",
      "state": {}
     },
     "f503152619ed456a98811fa640d0ef41": {
      "model_module": "jupyter-leaflet",
      "model_module_version": "^0.16.0",
      "model_name": "LeafletTileLayerModel",
      "state": {
       "_model_module_version": "^0.16.0",
       "_view_module_version": "^0.16.0",
       "attribution": "(C) OpenStreetMap contributors, vizualization CC-By-SA 2.0 Freemap.sk",
       "max_native_zoom": 18,
       "max_zoom": 16,
       "min_native_zoom": 0,
       "name": "FreeMapSK",
       "options": [
        "attribution",
        "bounds",
        "detect_retina",
        "max_native_zoom",
        "max_zoom",
        "min_native_zoom",
        "min_zoom",
        "no_wrap",
        "tile_size",
        "tms"
       ],
       "url": "https://a.freemap.sk/T/{z}/{x}/{y}.jpeg"
      }
     },
     "f50d552d31284250954bc10b13993f6e": {
      "model_module": "@jupyter-widgets/base",
      "model_module_version": "1.2.0",
      "model_name": "LayoutModel",
      "state": {}
     },
     "f5dc7fd831aa4d7e86ae08fd730bc78d": {
      "model_module": "jupyter-leaflet",
      "model_module_version": "^0.16.0",
      "model_name": "LeafletTileLayerModel",
      "state": {
       "_model_module_version": "^0.16.0",
       "_view_module_version": "^0.16.0",
       "attribution": "Map data: (C) OpenStreetMap contributors | Map style: (C) waymarkedtrails.org (CC-BY-SA)",
       "max_native_zoom": 18,
       "min_native_zoom": 0,
       "name": "WaymarkedTrails.slopes",
       "options": [
        "attribution",
        "bounds",
        "detect_retina",
        "max_native_zoom",
        "max_zoom",
        "min_native_zoom",
        "min_zoom",
        "no_wrap",
        "tile_size",
        "tms"
       ],
       "url": "https://tile.waymarkedtrails.org/slopes/{z}/{x}/{y}.png"
      }
     },
     "f6d18d8dba3846349187901796fb9886": {
      "model_module": "jupyter-leaflet",
      "model_module_version": "^0.16.0",
      "model_name": "LeafletTileLayerModel",
      "state": {
       "_model_module_version": "^0.16.0",
       "_view_module_version": "^0.16.0",
       "attribution": "Map tiles by Stamen Design, CC BY 3.0 -- Map data (C) OpenStreetMap contributors",
       "max_native_zoom": 18,
       "max_zoom": 20,
       "min_native_zoom": 0,
       "name": "Stamen.Toner",
       "options": [
        "attribution",
        "bounds",
        "detect_retina",
        "max_native_zoom",
        "max_zoom",
        "min_native_zoom",
        "min_zoom",
        "no_wrap",
        "tile_size",
        "tms"
       ],
       "url": "https://stamen-tiles-a.a.ssl.fastly.net/toner/{z}/{x}/{y}.png"
      }
     },
     "f7d52d4bc1b84dd8a460f50c8b6541d0": {
      "model_module": "@jupyter-widgets/base",
      "model_module_version": "1.2.0",
      "model_name": "LayoutModel",
      "state": {
       "height": "28px",
       "width": "72px"
      }
     },
     "f883e20741ea418cb494a66d0c73900c": {
      "model_module": "@jupyter-widgets/controls",
      "model_module_version": "1.5.0",
      "model_name": "VBoxModel",
      "state": {
       "children": [
        "IPY_MODEL_35e02e517fbc4bdd88dedce0556ea32b"
       ],
       "layout": "IPY_MODEL_1d819e4a324b4191966dff10b5aa1b0b"
      }
     },
     "f89c6a9990794072a2c37bd5987e14a2": {
      "model_module": "jupyter-leaflet",
      "model_module_version": "^0.16.0",
      "model_name": "LeafletTileLayerModel",
      "state": {
       "_model_module_version": "^0.16.0",
       "_view_module_version": "^0.16.0",
       "attribution": "Map tiles by Stamen Design, CC BY 3.0 -- Map data (C) OpenStreetMap contributors",
       "max_native_zoom": 18,
       "max_zoom": 20,
       "min_native_zoom": 0,
       "name": "Stamen.TonerBackground",
       "options": [
        "attribution",
        "bounds",
        "detect_retina",
        "max_native_zoom",
        "max_zoom",
        "min_native_zoom",
        "min_zoom",
        "no_wrap",
        "tile_size",
        "tms"
       ],
       "url": "https://stamen-tiles-a.a.ssl.fastly.net/toner-background/{z}/{x}/{y}.png"
      }
     },
     "f8f7e806c4c04dcaa221f345b0aa9fc6": {
      "model_module": "@jupyter-widgets/controls",
      "model_module_version": "1.5.0",
      "model_name": "ButtonModel",
      "state": {
       "description": "Select Your Images",
       "layout": "IPY_MODEL_a1837580702243a491fc3b7bd1ad1512",
       "style": "IPY_MODEL_23979735e028434781cc6d47068e8946"
      }
     },
     "f9aebfee36824875af30dfb33977b820": {
      "model_module": "@jupyter-widgets/controls",
      "model_module_version": "1.5.0",
      "model_name": "ToggleButtonModel",
      "state": {
       "button_style": "primary",
       "icon": "info",
       "layout": "IPY_MODEL_7b1386c080c242b9940994ed4e83d690",
       "style": "IPY_MODEL_823b3da1e75e4b2d801da6b08d8129c3",
       "tooltip": "Get COG/STAC pixel value"
      }
     },
     "faaccb00a4814b4680ba16441bd14bf1": {
      "model_module": "@jupyter-widgets/controls",
      "model_module_version": "1.5.0",
      "model_name": "ButtonStyleModel",
      "state": {}
     },
     "fbf39a356e944cb0a3910811d1fe6b0e": {
      "model_module": "@jupyter-widgets/controls",
      "model_module_version": "1.5.0",
      "model_name": "ButtonModel",
      "state": {
       "description": "Remove transects",
       "layout": "IPY_MODEL_333b20dd40f3435a9ad9155e2a5d1844",
       "style": "IPY_MODEL_2f178a5151ad41b4aa95e2c1355d5744"
      }
     },
     "fc222da861ee40eb943ff0705a238cf6": {
      "model_module": "jupyter-leaflet",
      "model_module_version": "^0.16.0",
      "model_name": "LeafletTileLayerModel",
      "state": {
       "_model_module_version": "^0.16.0",
       "_view_module_version": "^0.16.0",
       "attribution": "Google",
       "max_native_zoom": 18,
       "max_zoom": 22,
       "min_native_zoom": 0,
       "name": "Google Satellite",
       "options": [
        "attribution",
        "bounds",
        "detect_retina",
        "max_native_zoom",
        "max_zoom",
        "min_native_zoom",
        "min_zoom",
        "no_wrap",
        "tile_size",
        "tms"
       ],
       "url": "https://mt1.google.com/vt/lyrs=y&x={x}&y={y}&z={z}"
      }
     },
     "fcf1e8f6818347cb86e96217070cd650": {
      "model_module": "@jupyter-widgets/controls",
      "model_module_version": "1.5.0",
      "model_name": "DescriptionStyleModel",
      "state": {
       "description_width": ""
      }
     },
     "fd16b171493f4aa68e0d92851fe72f61": {
      "model_module": "@jupyter-widgets/base",
      "model_module_version": "1.2.0",
      "model_name": "LayoutModel",
      "state": {}
     },
     "fd336a618c4e405baf36d02ca48ccf5c": {
      "model_module": "jupyter-leaflet",
      "model_module_version": "^0.16.0",
      "model_name": "LeafletTileLayerModel",
      "state": {
       "_model_module_version": "^0.16.0",
       "_view_module_version": "^0.16.0",
       "attribution": "(C) OpenStreetMap contributors, Tiles courtesy of Breton OpenStreetMap Team",
       "max_native_zoom": 18,
       "max_zoom": 19,
       "min_native_zoom": 0,
       "name": "OpenStreetMap.BZH",
       "options": [
        "attribution",
        "bounds",
        "detect_retina",
        "max_native_zoom",
        "max_zoom",
        "min_native_zoom",
        "min_zoom",
        "no_wrap",
        "tile_size",
        "tms"
       ],
       "url": "https://tile.openstreetmap.bzh/br/{z}/{x}/{y}.png"
      }
     },
     "fdacd14c75434a7797ebf3256405575e": {
      "model_module": "jupyter-leaflet",
      "model_module_version": "^0.16.0",
      "model_name": "LeafletTileLayerModel",
      "state": {
       "_model_module_version": "^0.16.0",
       "_view_module_version": "^0.16.0",
       "attribution": "© swisstopo",
       "max_native_zoom": 18,
       "min_native_zoom": 0,
       "name": "SwissFederalGeoportal.JourneyThroughTime",
       "options": [
        "attribution",
        "bounds",
        "detect_retina",
        "max_native_zoom",
        "max_zoom",
        "min_native_zoom",
        "min_zoom",
        "no_wrap",
        "tile_size",
        "tms"
       ],
       "url": "https://wmts.geo.admin.ch/1.0.0/ch.swisstopo.zeitreihen/default/18641231/3857/{z}/{x}/{y}.png"
      }
     },
     "fdede6ab351041c687569726556ad8d5": {
      "model_module": "jupyter-leaflet",
      "model_module_version": "^0.16.0",
      "model_name": "LeafletTileLayerModel",
      "state": {
       "_model_module_version": "^0.16.0",
       "_view_module_version": "^0.16.0",
       "attribution": "Datenquelle: basemap.at",
       "max_native_zoom": 18,
       "max_zoom": 20,
       "min_native_zoom": 0,
       "name": "BasemapAT.basemap",
       "options": [
        "attribution",
        "bounds",
        "detect_retina",
        "max_native_zoom",
        "max_zoom",
        "min_native_zoom",
        "min_zoom",
        "no_wrap",
        "tile_size",
        "tms"
       ],
       "url": "https://maps.wien.gv.at/basemap/geolandbasemap/normal/google3857/{z}/{y}/{x}.png"
      }
     },
     "fe33e9438dde4999a305279a111540eb": {
      "model_module": "jupyter-leaflet",
      "model_module_version": "^0.16.0",
      "model_name": "LeafletTileLayerModel",
      "state": {
       "_model_module_version": "^0.16.0",
       "_view_module_version": "^0.16.0",
       "attribution": "(C) OpenStreetMap contributors",
       "max_native_zoom": 18,
       "min_native_zoom": 0,
       "name": "OpenStreetMap.BlackAndWhite",
       "options": [
        "attribution",
        "bounds",
        "detect_retina",
        "max_native_zoom",
        "max_zoom",
        "min_native_zoom",
        "min_zoom",
        "no_wrap",
        "tile_size",
        "tms"
       ],
       "url": "http://a.tiles.wmflabs.org/bw-mapnik/{z}/{x}/{y}.png"
      }
     }
    },
    "version_major": 2,
    "version_minor": 0
   }
  }
 },
 "nbformat": 4,
 "nbformat_minor": 4
}
