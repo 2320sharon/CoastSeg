{
 "cells": [
  {
   "cell_type": "code",
   "execution_count": 1,
   "metadata": {},
   "outputs": [
    {
     "name": "stdout",
     "output_type": "stream",
     "text": [
      "Version:  2.9.1\n",
      "Eager mode:  True\n",
      "Version:  2.9.1\n",
      "Eager mode:  True\n",
      "GPU name:  []\n",
      "Num GPUs Available:  0\n"
     ]
    }
   ],
   "source": [
    "import warnings\n",
    "# External Imports\n",
    "from IPython.display import display\n",
    "from tkinter import Tk,filedialog\n",
    "# import ipywidgets as widgets\n",
    "from ipywidgets import Button, HBox, VBox, Layout, DatePicker, HTML, RadioButtons, SelectMultiple, Output, Checkbox\n",
    "import os\n",
    "import datetime\n",
    "import glob\n",
    "import json\n",
    "import pandas as pd\n",
    "import geopandas as gpd\n",
    "from shapely.geometry import Polygon\n",
    "\n",
    "# New imports for coastsat shoreline extraction\n",
    "import numpy as np\n",
    "# Local Imports \n",
    "from CoastSeg import download_roi, file_functions, zoo_model_module, coastseg_map_class\n",
    "from CoastSeg.CoastSat.coastsat import SDS_shoreline,SDS_download,SDS_tools\n",
    "# suppress tensorflow warnings\n",
    "os.environ['TF_CPP_MIN_LOG_LEVEL'] = '3'\n",
    "root = Tk()"
   ]
  },
  {
   "cell_type": "code",
   "execution_count": 2,
   "metadata": {},
   "outputs": [
    {
     "data": {
      "application/vnd.jupyter.widget-view+json": {
       "model_id": "413f91ed500a42a1b49fb99e1cb25ac6",
       "version_major": 2,
       "version_minor": 0
      },
      "text/plain": [
       "VBox(children=(VBox(children=(HTML(value='<b>Pick a date:</b>', layout=Layout(padding='10px')), HBox(children=…"
      ]
     },
     "metadata": {},
     "output_type": "display_data"
    }
   ],
   "source": [
    "# Date Widgets\n",
    "start_date=DatePicker(\n",
    "    description='Start Date',\n",
    "    value=datetime.date(2018, 12, 1),\n",
    "    disabled=False,\n",
    ")\n",
    "end_date=DatePicker(\n",
    "    description='End Date',\n",
    "    value=datetime.date(2019, 3, 1), #2019, 1, 1\n",
    "    disabled=False,\n",
    ")\n",
    "date_instr=HTML(\n",
    "    value=\"<b>Pick a date:</b>\",\n",
    "    layout=Layout(padding='10px')\n",
    ")\n",
    "dates_box=HBox([start_date,end_date])\n",
    "dates_vbox=VBox([date_instr,dates_box])\n",
    "\n",
    "\n",
    "collection_instr=HTML(\n",
    "    value=\"<b>Pick a collection</b>\\\n",
    "        <br> C01: LandSat Collection 1 \\\n",
    "        <br> C02: LandSat Collection 2  [2022/01/01 and beyond] \\\n",
    "        <br>      - Landsat 9 is only available in C02\",\n",
    "    layout=Layout(padding='10px')\n",
    ")\n",
    "collection_radio=RadioButtons(\n",
    "    options=['C01', 'C02'],\n",
    "    value='C01',\n",
    "    description='Collection:',\n",
    "    disabled=False\n",
    ")\n",
    "collection_vbox=VBox([collection_instr,collection_radio])\n",
    "\n",
    "sat_instr=HTML(\n",
    "    value=\"<b>Pick multiple satellites by holding the control key:</b> \\\n",
    "        <br> - images prior to 2022/01/01 will be downloaded from Collection 1 \\\n",
    "        <br> - images after 2022/01/01 will be automatically downloaded from Collection 2 \\\n",
    "        <br> C01: LandSat Collection 1 : All dates before 2022/01/01\\\n",
    "        <br> C02: LandSat Collection 2 : All dates after 2022/01/01 \\\n",
    "        <br> - Landsat 9 is only available in C02\",\n",
    "    layout=Layout(padding='10px')\n",
    ")\n",
    "\n",
    "\n",
    "satellite_selection=SelectMultiple(\n",
    "    options=['L5', 'L7', 'L8', 'S2'],\n",
    "    value=['L8'],\n",
    "    description='Satellites',\n",
    "    disabled=False\n",
    ")\n",
    "sat_vbox = VBox([sat_instr,satellite_selection])\n",
    "\n",
    "def handle_collection_change(change):\n",
    "    if change['new'] == 'C02':\n",
    "        satellite_selection.options=['L5', 'L7', 'L8', 'L9', 'S2']\n",
    "    else:\n",
    "        satellite_selection.options=['L5', 'L7', 'L8', 'S2']\n",
    "\n",
    "collection_radio.observe(handle_collection_change,\"value\")\n",
    "\n",
    "controls_vbox=VBox([dates_vbox, collection_vbox, sat_vbox])\n",
    "controls_vbox"
   ]
  },
  {
   "cell_type": "code",
   "execution_count": 3,
   "metadata": {
    "scrolled": true
   },
   "outputs": [
    {
     "name": "stdout",
     "output_type": "stream",
     "text": [
      "dates: ['2018-12-01', '2019-03-01']\n",
      "collection: C01\n",
      "sat_list: ['L8']\n"
     ]
    }
   ],
   "source": [
    "# CoastSat Download Variables\n",
    "# ------------------------------\n",
    "# Save the satellites selected to sat_list\n",
    "if satellite_selection.value:\n",
    "    sat_list = list(satellite_selection.value)\n",
    "elif not satellite_selection.value:\n",
    "    print(\"ERROR: You must select at least one satellite first\")\n",
    "# Save the dates selected by the user as well as the selected collection\n",
    "dates = [str(start_date.value),str(end_date.value)]\n",
    "collection = collection_radio.value\n",
    "print(f\"dates: {dates}\")\n",
    "print(f\"collection: {collection}\")\n",
    "print(f\"sat_list: {sat_list}\")"
   ]
  },
  {
   "cell_type": "code",
   "execution_count": 4,
   "metadata": {},
   "outputs": [],
   "source": [
    "# 'output_epsg': 3857,        # epsg code of spatial reference system desired for the output \n",
    "pre_process_settings = { \n",
    "    # general parameters:\n",
    "    'cloud_thresh': 0.5,        # threshold on maximum cloud cover\n",
    "    'output_epsg': 3857,        # epsg code of spatial reference system desired for the output   \n",
    "    # quality control:\n",
    "    'check_detection': True,    # if True, shows each shoreline detection to the user for validation\n",
    "    'adjust_detection': False,  # if True, allows user to adjust the postion of each shoreline by changing the threhold\n",
    "    'save_figure': True,        # if True, saves a figure showing the mapped shoreline for each image\n",
    "    # [ONLY FOR ADVANCED USERS] shoreline detection parameters:\n",
    "    'min_beach_area': 4500,     # minimum area (in metres^2) for an object to be labelled as a beach\n",
    "    'buffer_size': 150,         # radius (in metres) of the buffer around sandy pixels considered in the shoreline detection\n",
    "    'min_length_sl': 200,       # minimum length (in metres) of shoreline perimeter to be valid\n",
    "    'cloud_mask_issue': False,  # switch this parameter to True if sand pixels are masked (in black) on many images  \n",
    "    'sand_color': 'default',    # 'default', 'dark' (for grey/black sand beaches) or 'bright' (for white sand beaches)\n",
    "}\n",
    "\n",
    "# Output wdiget used to print messages and exceptions created by CoastSeg_Map\n",
    "debug_view = Output(layout={'border': '1px solid black'})"
   ]
  },
  {
   "cell_type": "markdown",
   "metadata": {},
   "source": [
    "# Create the Map\n",
    "- Create the map using the map settings set above"
   ]
  },
  {
   "cell_type": "code",
   "execution_count": 5,
   "metadata": {},
   "outputs": [],
   "source": [
    "coastseg_map=coastseg_map_class.CoastSeg_Map()"
   ]
  },
  {
   "cell_type": "markdown",
   "metadata": {},
   "source": [
    "# How to Use The Map\n",
    "---\n",
    "1. Use the rectangle tool to draw a bounding box along the coastline.\n",
    "2. Click `Generate ROI` to create ROI rectangles along the coastline in the bounding box. This may take some time.\n",
    "- You should see a coastline appear in yellow and some rectangles along it.\n",
    "3. Click 1 or more ROIs then click `Save ROI` to save these ROIs for downloading later\n",
    "4. You're ready to download the ROIs. Run the next block of code."
   ]
  },
  {
   "cell_type": "code",
   "execution_count": 6,
   "metadata": {},
   "outputs": [
    {
     "data": {
      "application/vnd.jupyter.widget-view+json": {
       "model_id": "419a7a73af6c40e6a5a30737b62310bd",
       "version_major": 2,
       "version_minor": 0
      },
      "text/plain": [
       "Output(layout=Layout(border='1px solid black'))"
      ]
     },
     "metadata": {},
     "output_type": "display_data"
    },
    {
     "data": {
      "application/vnd.jupyter.widget-view+json": {
       "model_id": "1d79a7b660e14387b01776b81f7e8f42",
       "version_major": 2,
       "version_minor": 0
      },
      "text/plain": [
       "HBox(children=(Button(description='Load Transects', style=ButtonStyle()), Button(description='Load Shoreline',…"
      ]
     },
     "metadata": {},
     "output_type": "display_data"
    },
    {
     "data": {
      "application/vnd.jupyter.widget-view+json": {
       "model_id": "10bdff87d23a431cb5a4a32862ccb62e",
       "version_major": 2,
       "version_minor": 0
      },
      "text/plain": [
       "HBox(children=(Button(description='Remove all', style=ButtonStyle()), Button(description='Remove transects', s…"
      ]
     },
     "metadata": {},
     "output_type": "display_data"
    },
    {
     "data": {
      "application/vnd.jupyter.widget-view+json": {
       "model_id": "e6f4bac76b27429f84b84bf829915d64",
       "version_major": 2,
       "version_minor": 0
      },
      "text/plain": [
       "Map(center=[36, -121.5], controls=(ZoomControl(options=['position', 'zoom_in_text', 'zoom_in_title', 'zoom_out…"
      ]
     },
     "metadata": {},
     "output_type": "display_data"
    }
   ],
   "source": [
    "transects_button = Button(description=\"Load Transects\")\n",
    "shoreline_button = Button(description=\"Load Shoreline\")\n",
    "gen_button =Button(description=\"Generate ROI\")\n",
    "save_button = Button(description=\"Save ROI\")\n",
    "\n",
    "remove_all_button = Button(description=\"Remove all\")\n",
    "remove_transects_button = Button(description=\"Remove transects\")\n",
    "remove_bbox_button = Button(description=\"Remove bbox\")\n",
    "remove_coastline_button = Button(description=\"Remove coastline\")\n",
    "remove_rois_button = Button(description=\"Remove ROIs\")\n",
    "remove_saved_roi_button = Button(description=\"Remove saved ROIs\")\n",
    "\n",
    "@debug_view.capture(clear_output=True)\n",
    "def on_shoreline_button_clicked(b):\n",
    "    if coastseg_map.shapes_list == [] :\n",
    "        print(\"Draw a bounding box on the coast first, then click Load Transects.\")\n",
    "    else:\n",
    "        debug_view.clear_output(wait=True)\n",
    "        print(\"Loading shoreline please wait.\") \n",
    "        # Add the transects to the map\n",
    "        coastseg_map.load_shoreline_on_map()\n",
    "        print(\"Shoreline loaded.\")\n",
    "\n",
    "@debug_view.capture(clear_output=True)\n",
    "def on_transects_button_clicked(b):\n",
    "    if coastseg_map.shapes_list == [] :\n",
    "        print(\"Draw a bounding box on the coast first, then click Load Transects.\")\n",
    "    else:\n",
    "        debug_view.clear_output(wait=True)\n",
    "        print(\"Loading transects please wait.\") \n",
    "        # Add the transects to the map\n",
    "        coastseg_map.load_transects_on_map()\n",
    "        print(\"Transects Loaded.\")\n",
    "\n",
    "        \n",
    "@debug_view.capture(clear_output=True)\n",
    "def on_gen_button_clicked(b):\n",
    "    if coastseg_map.shapes_list == [] :\n",
    "        print(\"Draw a bounding box on the coast first, then click Generate ROI.\")\n",
    "    else:\n",
    "        debug_view.clear_output(wait=True)\n",
    "        print(\"Generating ROIs please wait.\") \n",
    "        # Generate ROIs along the coastline within the bounding box\n",
    "        coastseg_map.generate_ROIS_fishnet()\n",
    "        debug_view.clear_output(wait=True)\n",
    "        # Add the Clickable ROIs to the map\n",
    "        coastseg_map.add_geojson_layer_to_map()\n",
    "        print(\"ROIs generated. Please Select at least one ROI and click Save ROI.\")\n",
    "\n",
    "@debug_view.capture(clear_output=True)\n",
    "def on_save_button_clicked(b):\n",
    "    if coastseg_map.selected_set:\n",
    "        if len(coastseg_map.selected_set) == 0:\n",
    "             print(\"Must select at least 1 ROI first before you can save ROIs.\")\n",
    "        else:\n",
    "            debug_view.clear_output(wait=True)\n",
    "            coastseg_map.save_roi_fishnet(\"fishnet_rois.geojson\")\n",
    "            print(\"Saving ROIs\")\n",
    "            debug_view.clear_output(wait=True)\n",
    "            print(\"ROIs have been saved. Now click Download ROI to download the ROIs using CoastSat\")\n",
    "    else:\n",
    "        print(\"No ROIs were selected.\")\n",
    "\n",
    "\n",
    "def remove_all_from_map(b):\n",
    "    coastseg_map.remove_all()\n",
    "def remove_transects(b):\n",
    "    coastseg_map.remove_transects()\n",
    "def remove_bbox_from_map(b):\n",
    "    coastseg_map.remove_bbox()\n",
    "def remove_coastline_from_map(b):\n",
    "    coastseg_map.remove_shoreline()\n",
    "def remove_all_rois_from_map(b):\n",
    "    coastseg_map.remove_all_rois()\n",
    "def remove_saved_roi_clicked(b):\n",
    "    coastseg_map.remove_saved_roi()\n",
    "\n",
    "transects_button.on_click(on_transects_button_clicked)    \n",
    "shoreline_button.on_click(on_shoreline_button_clicked) \n",
    "gen_button.on_click(on_gen_button_clicked)\n",
    "save_button.on_click(on_save_button_clicked)\n",
    "\n",
    "\n",
    "remove_all_button.on_click(remove_all_from_map)\n",
    "remove_transects_button.on_click(remove_transects)\n",
    "remove_bbox_button.on_click(remove_bbox_from_map)\n",
    "remove_coastline_button.on_click(remove_coastline_from_map)\n",
    "remove_rois_button.on_click(remove_all_rois_from_map)\n",
    "remove_saved_roi_button.on_click(remove_saved_roi_clicked)\n",
    "\n",
    "erase_buttons=HBox([remove_all_button, remove_transects_button, remove_bbox_button, remove_coastline_button, remove_rois_button, remove_saved_roi_button])\n",
    "\n",
    "display(debug_view,HBox([transects_button,shoreline_button, gen_button, save_button]),erase_buttons)\n",
    "# Display the map\n",
    "coastseg_map.m"
   ]
  },
  {
   "cell_type": "markdown",
   "metadata": {},
   "source": [
    "## Download the Selected ROIs\n",
    "- Download the satellite imagery for the ROIs using CoastSat.\n",
    "\n",
    "⚠️ Make sure you have clicked `Save ROI` before running the following code.\n",
    " \n",
    "### Parameters for download_imagery()\n",
    "1. `coastseg_map.selected_ROI` : geojson for the ROI clicked\n",
    "2. `pre_process_settings`: settings for downloading data using CoastSat\n",
    "3. `dates` : date range to download the imagery\n",
    "4. `sat_list` : list of satellites to download imagery from\n",
    "5. `collection` : LandSat Collection 1 (`C01`) or Collection 2 (`C02`)"
   ]
  },
  {
   "cell_type": "code",
   "execution_count": 7,
   "metadata": {},
   "outputs": [
    {
     "name": "stdout",
     "output_type": "stream",
     "text": [
      "Images available: \n",
      " [{'polygon': [[[-121.51668099999998, 35.999629], [-121.47176523579402, 35.999629], [-121.47176523579402, 36.03595841454629], [-121.51668099999998, 36.03595841454629], [-121.51668099999998, 35.999629]]], 'dates': ['2018-12-01', '2019-03-01'], 'sat_list': ['L8'], 'sitename': 'ID02022-08-10__17_hr_55_min26', 'filepath': 'C:\\\\1_USGS\\\\CoastSeg\\\\repos\\\\2_CoastSeg\\\\CoastSeg_fork\\\\Seg2Map\\\\data', 'roi_id': '5', 'landsat_collection': 'C01'}]\n"
     ]
    },
    {
     "name": "stderr",
     "output_type": "stream",
     "text": [
      "Downloading ROIs:   0%|                                                                          | 0/1 [00:00<?, ?it/s]"
     ]
    },
    {
     "name": "stdout",
     "output_type": "stream",
     "text": [
      "Number of images available between 2018-12-01 and 2019-03-01:\n",
      "- In Landsat Tier 1 & Sentinel-2 Level-1C:\n",
      "     L8: 8 images\n",
      "  Total to download: 8 images\n",
      "- In Landsat Tier 2 (not suitable for time-series analysis):\n",
      "     L8: 6 images\n",
      "  Total Tier 2: 6 images\n",
      "\n",
      "Downloading images:\n",
      "L8: 8 images\n",
      "100%\n"
     ]
    },
    {
     "name": "stderr",
     "output_type": "stream",
     "text": [
      "Downloading ROIs: 100%|██████████████████████████████████████████████████████████████████| 1/1 [00:39<00:00, 39.64s/it]"
     ]
    },
    {
     "name": "stdout",
     "output_type": "stream",
     "text": [
      "Satellite images saved as .jpg in C:\\1_USGS\\CoastSeg\\repos\\2_CoastSeg\\CoastSeg_fork\\Seg2Map\\data\\ID02022-08-10__17_hr_55_min26\\jpg_files\\preprocessed\n"
     ]
    },
    {
     "name": "stderr",
     "output_type": "stream",
     "text": [
      "\n"
     ]
    }
   ],
   "source": [
    "if coastseg_map.selected_ROI:\n",
    "    inputs_dict=download_roi.download_imagery(coastseg_map.selected_ROI,pre_process_settings,dates,sat_list,collection)\n",
    "else:\n",
    "    print(\"No ROIs were selected. \\nPlease select at least one ROI and click 'Save ROI' to save these ROI for download.\")"
   ]
  },
  {
   "cell_type": "code",
   "execution_count": 9,
   "metadata": {},
   "outputs": [
    {
     "name": "stdout",
     "output_type": "stream",
     "text": [
      "Mapping shorelines:\n",
      "L8:   100%\n",
      "0 duplicates\n",
      "0 bad georef\n"
     ]
    }
   ],
   "source": [
    "extracted_shorelines=coastseg_map.extract_shorelines_from_rois(coastseg_map.selected_ROI,inputs_dict,pre_process_settings,coastseg_map.shorelines_gdf)"
   ]
  },
  {
   "cell_type": "code",
   "execution_count": 10,
   "metadata": {},
   "outputs": [
    {
     "data": {
      "text/plain": [
       "{5: {'dates': [datetime.datetime(2018, 12, 3, 18, 40, 12, tzinfo=<UTC>),\n",
       "   datetime.datetime(2018, 12, 10, 18, 46, 21, tzinfo=<UTC>),\n",
       "   datetime.datetime(2018, 12, 19, 18, 40, 10, tzinfo=<UTC>),\n",
       "   datetime.datetime(2018, 12, 26, 18, 46, 21, tzinfo=<UTC>),\n",
       "   datetime.datetime(2019, 1, 4, 18, 40, 9, tzinfo=<UTC>),\n",
       "   datetime.datetime(2019, 1, 27, 18, 46, 15, tzinfo=<UTC>),\n",
       "   datetime.datetime(2019, 2, 21, 18, 40, tzinfo=<UTC>)],\n",
       "  'shorelines': [array([], shape=(0, 2), dtype=float64),\n",
       "   array([], shape=(0, 2), dtype=float64),\n",
       "   array([[-13526507.92726654,   4301461.6555443 ],\n",
       "          [-13526514.83832366,   4301469.32264561],\n",
       "          [-13526526.15827077,   4301481.0733464 ],\n",
       "          [-13526537.43861207,   4301488.27775355],\n",
       "          [-13526544.46713502,   4301495.3777225 ],\n",
       "          [-13526550.75447936,   4301507.0903564 ],\n",
       "          [-13526562.61447304,   4301520.3034414 ],\n",
       "          [-13526581.05623001,   4301525.87846823],\n",
       "          [-13526581.75783366,   4301526.17440448],\n",
       "          [-13526599.42157311,   4301536.47904177],\n",
       "          [-13526616.55495141,   4301545.31660204],\n",
       "          [-13526617.79918802,   4301546.27501542],\n",
       "          [-13526636.16501301,   4301556.84855097],\n",
       "          [-13526654.6326027 ,   4301560.73114107],\n",
       "          [-13526660.56269209,   4301564.59999699],\n",
       "          [-13526672.94464281,   4301574.84662595],\n",
       "          [-13526685.60074151,   4301583.59235503]]),\n",
       "   array([], shape=(0, 2), dtype=float64),\n",
       "   array([[-13526507.91693153,   4301462.33471362],\n",
       "          [-13526513.69767697,   4301469.30513544],\n",
       "          [-13526526.113804  ,   4301483.99580813],\n",
       "          [-13526530.58655744,   4301488.17257923],\n",
       "          [-13526544.37901995,   4301501.16947757],\n",
       "          [-13526548.38940929,   4301507.0540575 ],\n",
       "          [-13526562.55196865,   4301524.41225327],\n",
       "          [-13526565.43855385,   4301525.92397296],\n",
       "          [-13526580.90172191,   4301536.03638323],\n",
       "          [-13526599.3180493 ,   4301543.28581238],\n",
       "          [-13526602.46650415,   4301545.10045046],\n",
       "          [-13526617.67492925,   4301554.44601707],\n",
       "          [-13526636.10540471,   4301560.76869977],\n",
       "          [-13526648.15328908,   4301564.40965703],\n",
       "          [-13526654.52665787,   4301567.69938858],\n",
       "          [-13526672.85714497,   4301580.60219395],\n",
       "          [-13526677.62593674,   4301583.47005428]]),\n",
       "   array([], shape=(0, 2), dtype=float64),\n",
       "   array([], shape=(0, 2), dtype=float64)],\n",
       "  'filename': ['2018-12-03-18-40-12_L8_ID02022-08-10__17_hr_55_min26_pan.tif',\n",
       "   '2018-12-10-18-46-21_L8_ID02022-08-10__17_hr_55_min26_pan.tif',\n",
       "   '2018-12-19-18-40-10_L8_ID02022-08-10__17_hr_55_min26_pan.tif',\n",
       "   '2018-12-26-18-46-21_L8_ID02022-08-10__17_hr_55_min26_pan.tif',\n",
       "   '2019-01-04-18-40-09_L8_ID02022-08-10__17_hr_55_min26_pan.tif',\n",
       "   '2019-01-27-18-46-15_L8_ID02022-08-10__17_hr_55_min26_pan.tif',\n",
       "   '2019-02-21-18-40-00_L8_ID02022-08-10__17_hr_55_min26_pan.tif'],\n",
       "  'cloud_cover': [0.2563132887281996,\n",
       "   0.0,\n",
       "   0.0,\n",
       "   0.0,\n",
       "   0.0,\n",
       "   0.0,\n",
       "   0.2939367493662469],\n",
       "  'geoaccuracy': [8.269000053405762,\n",
       "   7.440999984741211,\n",
       "   8.206999778747559,\n",
       "   8.111000061035156,\n",
       "   8.338000297546387,\n",
       "   7.354000091552734,\n",
       "   8.753999710083008],\n",
       "  'idx': [0, 1, 2, 3, 4, 5, 7],\n",
       "  'MNDWI_threshold': [-0.036128097289353844,\n",
       "   0.07807856684023479,\n",
       "   -0.15122667842599585,\n",
       "   -0.12999942532934028,\n",
       "   -0.14934699290793968,\n",
       "   -0.07647674619619016,\n",
       "   -0.07188459565602573],\n",
       "  'satname': ['L8', 'L8', 'L8', 'L8', 'L8', 'L8', 'L8']}}"
      ]
     },
     "execution_count": 10,
     "metadata": {},
     "output_type": "execute_result"
    }
   ],
   "source": [
    "extracted_shorelines"
   ]
  },
  {
   "cell_type": "code",
   "execution_count": 11,
   "metadata": {},
   "outputs": [
    {
     "name": "stdout",
     "output_type": "stream",
     "text": [
      "No transects were found in this region.\n"
     ]
    }
   ],
   "source": [
    "cross_distances_rois=coastseg_map.compute_transects(coastseg_map.selected_ROI,extracted_shorelines,pre_process_settings)\n",
    "cross_distances_rois"
   ]
  },
  {
   "cell_type": "code",
   "execution_count": 12,
   "metadata": {},
   "outputs": [
    {
     "data": {
      "application/vnd.jupyter.widget-view+json": {
       "model_id": "b8b13edc5d3a497fa9054d6cbddb3bfa",
       "version_major": 2,
       "version_minor": 0
      },
      "text/plain": [
       "Checkbox(value=False, description='Use GPU?', indent=False)"
      ]
     },
     "metadata": {},
     "output_type": "display_data"
    },
    {
     "data": {
      "application/vnd.jupyter.widget-view+json": {
       "model_id": "a823f7cd4a174a12958f4aaf0a8de31b",
       "version_major": 2,
       "version_minor": 0
      },
      "text/plain": [
       "Output()"
      ]
     },
     "metadata": {},
     "output_type": "display_data"
    },
    {
     "data": {
      "application/vnd.jupyter.widget-view+json": {
       "model_id": "7529056288824ad19c83c7abc4068f78",
       "version_major": 2,
       "version_minor": 0
      },
      "text/plain": [
       "HBox(children=(RadioButtons(description='Select Model:', options=('landsat_6229071', 'landsat_6230083', 'SWED-…"
      ]
     },
     "metadata": {},
     "output_type": "display_data"
    },
    {
     "data": {
      "application/vnd.jupyter.widget-view+json": {
       "model_id": "b04e71f108804e8db06aa6567fe077bc",
       "version_major": 2,
       "version_minor": 0
      },
      "text/plain": [
       "VBox(children=(HTML(value='<h4>Click ONE of the following buttons:</h4>', layout=Layout(margin='0px 0px 0px 0p…"
      ]
     },
     "metadata": {},
     "output_type": "display_data"
    },
    {
     "data": {
      "application/vnd.jupyter.widget-view+json": {
       "model_id": "00275aa1776547d3b1983bf423171003",
       "version_major": 2,
       "version_minor": 0
      },
      "text/plain": [
       "Button(description='Use Data Button', style=ButtonStyle())"
      ]
     },
     "metadata": {},
     "output_type": "display_data"
    },
    {
     "data": {
      "application/vnd.jupyter.widget-view+json": {
       "model_id": "787c64d625eb4e62aa7a58223d4ed276",
       "version_major": 2,
       "version_minor": 0
      },
      "text/plain": [
       "Button(description='Select Your Images', style=ButtonStyle())"
      ]
     },
     "metadata": {},
     "output_type": "display_data"
    },
    {
     "data": {
      "application/vnd.jupyter.widget-view+json": {
       "model_id": "66e01e8aa15243978f0d5b80ca40b21d",
       "version_major": 2,
       "version_minor": 0
      },
      "text/plain": [
       "HTML(value='____________________________________________________')"
      ]
     },
     "metadata": {},
     "output_type": "display_data"
    },
    {
     "data": {
      "application/vnd.jupyter.widget-view+json": {
       "model_id": "4f48f96e82d5438d86adceb3e62cb376",
       "version_major": 2,
       "version_minor": 0
      },
      "text/plain": [
       "Output(layout=Layout(border='1px solid black'))"
      ]
     },
     "metadata": {},
     "output_type": "display_data"
    },
    {
     "data": {
      "application/vnd.jupyter.widget-view+json": {
       "model_id": "3aa3050b0c1748f38856fbe77a283693",
       "version_major": 2,
       "version_minor": 0
      },
      "text/plain": [
       "Button(description='Run Model', style=ButtonStyle())"
      ]
     },
     "metadata": {},
     "output_type": "display_data"
    },
    {
     "data": {
      "application/vnd.jupyter.widget-view+json": {
       "model_id": "8fca455aff3b463c96e53e5fb2210eae",
       "version_major": 2,
       "version_minor": 0
      },
      "text/plain": [
       "Output(layout=Layout(border='1px solid black'))"
      ]
     },
     "metadata": {},
     "output_type": "display_data"
    }
   ],
   "source": [
    "model_dict={\"sample_direc\":None,\"use_GPU\":False, 'implementation':'ENSEMBLE','model_type':'landsat_6229071'}\n",
    "\n",
    "model_view = Output(layout={'border': '1px solid black'})\n",
    "run_model_view = Output(layout={'border': '1px solid black'})\n",
    "GPU_view = Output()\n",
    "\n",
    "run_model_button = Button(description=\"Run Model\")\n",
    "use_data_button = Button(description=\"Use Data Button\")\n",
    "use_select_images_button = Button(description=\"Select Your Images\")\n",
    "\n",
    "\n",
    "model_implementation = RadioButtons(\n",
    "    options=['ENSEMBLE', 'BEST'],\n",
    "   value='ENSEMBLE',\n",
    "    description='Select:',\n",
    "    disabled=False\n",
    ")\n",
    "\n",
    "model_dropdown = RadioButtons(\n",
    "    options= ['landsat_6229071', 'landsat_6230083','SWED-RGB_6824384','SWED-MNDWI_6824342'],\n",
    "    value='landsat_6229071',\n",
    "    description='Select Model:',\n",
    "    disabled=False,\n",
    ")\n",
    "\n",
    "\n",
    "GPU_checkbox = Checkbox(\n",
    "    value=False,\n",
    "    description='Use GPU?',\n",
    "    disabled=False,\n",
    "    indent=False\n",
    ")\n",
    "\n",
    "\n",
    "def handle_model_type(change):\n",
    "    model_dict[\"model_type\"]=change['new']\n",
    "\n",
    "\n",
    "def handle_model_implementation(change):\n",
    "    model_dict[\"implementation\"]=change['new']\n",
    "\n",
    "\n",
    "@GPU_view.capture(clear_output=True)\n",
    "def handle_GPU_checkbox(change):\n",
    "    if change[\"new\"] == True:\n",
    "        model_dict[\"use_GPU\"]=True\n",
    "        print(\"Using the GPU\")\n",
    "    else:\n",
    "        model_dict[\"use_GPU\"]=False\n",
    "        print(\"Not using the GPU\")\n",
    "        \n",
    "\n",
    "@model_view.capture(clear_output=True)\n",
    "def use_data_button_clicked(button):\n",
    "    # Use the data folder as the input for segmentation\n",
    "    print(\"Loading in the jpgs from the data directory\")\n",
    "    # Copy the jpgs from data to a new folder called segmentation_data_[datetime]\n",
    "    if 'MNDWI' in model_dropdown.value:\n",
    "        sample_direc =r'C:\\1_USGS\\CoastSeg\\repos\\2_CoastSeg\\CoastSeg_fork\\Seg2Map\\MNDWI_outputs\\MNDWI_ouputs_2022-07-21__07_hr_57_min14'\n",
    "#         sample_direc = file_functions.get_jpgs_from_data('MNDWI')\n",
    "#         RGB_path=sample_direc+os.sep+'RGB'\n",
    "#         NIR_path=sample_direc+os.sep+'NIR'\n",
    "#         sample_direc = coastseg_map.RGB_to_MNDWI(RGB_path,NIR_path,sample_direc)\n",
    "        model_dict[\"sample_direc\"]=sample_direc\n",
    "    else:\n",
    "        sample_direc = file_functions.get_jpgs_from_data(None)\n",
    "        model_dict[\"sample_direc\"]=sample_direc\n",
    "        jpgs = glob.glob1(sample_direc + os.sep, \"*jpg\")\n",
    "        if jpgs == []:\n",
    "            raise Exception(\"\\nThe directory contains no jpgs! Please select a directory with jpgs.\")\n",
    "    print(f\"\\nContents of the data directory saved in {sample_direc}\")\n",
    "\n",
    "\n",
    "@model_view.capture(clear_output=True)\n",
    "def use_select_images_button_clicked(button):\n",
    "    # Prompt the user to select a directory of images                              \n",
    "    root.withdraw()                                        # Hide the main window.\n",
    "    root.call('wm', 'attributes', '.', '-topmost', True)   # Raise the root to the top of all windows.\n",
    "    root.filename =  filedialog.askdirectory(initialdir = \"/samples\",title = \"Select directory of images (or npzs) to segment\")\n",
    "    # Save the filename as an attribute of the button\n",
    "    if root.filename:\n",
    "        sample_direc= root.filename\n",
    "        model_dict[\"sample_direc\"]=root.filename\n",
    "        print(f\"The images in the folder will be segmented :\\n{sample_direc} \")\n",
    "        jpgs = glob.glob1(sample_direc + os.sep, \"*jpg\")\n",
    "        if jpgs == []:\n",
    "            raise Exception(\"The directory contains no jpgs! Please select a directory with jpgs.\")\n",
    "    else:\n",
    "        raise Exception(\"You must select a valid directory first!\")\n",
    "\n",
    "@run_model_view.capture(clear_output=True)\n",
    "def run_model_button_clicked(button):\n",
    "    print(\"Called Run Model\")\n",
    "    if model_dict[\"sample_direc\"] is None:\n",
    "        print(\"You must click 'Use Data' or 'Select Images' First\")\n",
    "        return\n",
    "    else:\n",
    "        if model_dict[\"use_GPU\"] == False:\n",
    "            print(\"Not using the GPU\")\n",
    "            ## to use the CPU (not recommended):\n",
    "            os.environ['CUDA_VISIBLE_DEVICES'] = '-1'\n",
    "        elif model_dict[\"use_GPU\"] == True:\n",
    "            print(\"Using the GPU\")\n",
    "            ##use the first available GPU\n",
    "            os.environ['CUDA_VISIBLE_DEVICES'] = '0' #'1'\n",
    "        if 'MNDWI' in model_dropdown.value:\n",
    "            dataset='MNDWI'\n",
    "        else:\n",
    "            dataset='RGB'\n",
    "        dataset_id=model_dict['model_type']\n",
    "#         model_dict['implementation']=model_implementation.value\n",
    "        model_choice=model_dict['implementation']\n",
    "        zoo_model=zoo_model_module.Zoo_Model()\n",
    "        # # First download the specified model\n",
    "        zoo_model.download_model(dataset,dataset_id)\n",
    "        # # Get weights as list\n",
    "        Ww=zoo_model.get_weights_list(model_choice)\n",
    "        # Load the model from the config files\n",
    "        model, model_list, config_files, model_types=zoo_model.get_model(Ww)\n",
    "        metadatadict=zoo_model.get_metadatadict(Ww,config_files, model_types)\n",
    "        # # Compute the segmentation\n",
    "        zoo_model.compute_segmentation(model_dict[\"sample_direc\"], model_list, metadatadict)\n",
    "    \n",
    "    \n",
    "model_implementation.observe(handle_model_implementation,\"value\")\n",
    "model_dropdown.observe(handle_model_type,\"value\")\n",
    "GPU_checkbox.observe(handle_GPU_checkbox,\"value\")\n",
    "\n",
    "\n",
    "run_model_button.on_click(run_model_button_clicked)\n",
    "use_data_button.on_click(use_data_button_clicked)\n",
    "use_select_images_button.on_click(use_select_images_button_clicked)\n",
    "\n",
    "model_choices_box=HBox([model_dropdown, model_implementation])\n",
    "\n",
    "line_widget=HTML(value=\"____________________________________________________\")\n",
    "\n",
    "instr_header=HTML(\n",
    "    value=\"<h4>Click ONE of the following buttons:</h4>\",layout=Layout(margin='0px 0px 0px 0px'))\n",
    "\n",
    "instr_use_data=HTML(\n",
    "    value=\"<b>1. Use Data Folder Button</b> \\\n",
    "        <br> - When CoastSat downloads imagery it created a folder called 'data'in the CoastSeg directory.\\\n",
    "            The jpgs within the 'data' folder will be copied to another folder with a name such as\\\n",
    "            <span style=\\\"background-color:LightGray;\\\">segmentation_data_2022-07-07__10_hr_04_min58 </span>\\\n",
    "            (the date and time will be the current date and time) <br> \\\n",
    "           The model will be applied to this folder and the model outputs will be generated within a subdirectory \\\n",
    "            called 'out'\",layout=Layout(margin='0px 0px 0px 20px'))\n",
    "\n",
    "instr_select_images=HTML(\n",
    "    value=\"<b>2. Select Images Button</b> \\\n",
    "        <br> - This will open a pop up window where the folder containing the jpgs can be selected.<br>\\\n",
    "             - The model will be applied to this folder and the model outputs will be generated within a subdirectory\\\n",
    "             called 'out'<br>\\\n",
    "      - <span style=\\\"background-color:yellow;\\\">WARNING :</span> You will not be able to see the files within the folder you select.<br>\\\n",
    "    \",layout=Layout(margin='0px 0px 0px 20px'))\n",
    "\n",
    "instr_vbox=VBox([instr_header, line_widget, instr_use_data, instr_select_images])\n",
    "\n",
    "display(GPU_checkbox,GPU_view,model_choices_box,instr_vbox,use_data_button,use_select_images_button,line_widget, model_view,run_model_button,run_model_view)"
   ]
  },
  {
   "cell_type": "markdown",
   "metadata": {},
   "source": [
    "## Example Using New RGB_to_MNDWI function\n",
    "Replace `rgb_path` and `nir_path` was the full path to the directories containing the corresponding RGB and NIR images.\n",
    "The outputs will be in a directory called `MNDWI_outputs` as `.npz`"
   ]
  },
  {
   "cell_type": "code",
   "execution_count": null,
   "metadata": {},
   "outputs": [],
   "source": [
    "# Replace these temp paths with the paths you have\n",
    "rgb_path=r'C:\\1_USGS\\CoastSeg\\repos\\2_CoastSeg\\CoastSeg_fork\\Seg2Map\\zenodo_sample_data\\data_sample\\images'\n",
    "nir_path = r'C:\\1_USGS\\CoastSeg\\repos\\2_CoastSeg\\CoastSeg_fork\\Seg2Map\\zenodo_sample_data\\data_sample\\nir'\n",
    "coastseg_map_copy=coastseg_map_class.CoastSeg_Map()\n",
    "coastseg_map_copy.RGB_to_MNDWI(rgb_path,nir_path,os.getcwd())"
   ]
  },
  {
   "cell_type": "code",
   "execution_count": null,
   "metadata": {},
   "outputs": [],
   "source": []
  }
 ],
 "metadata": {
  "kernelspec": {
   "display_name": "Python 3 (ipykernel)",
   "language": "python",
   "name": "python3"
  },
  "language_info": {
   "codemirror_mode": {
    "name": "ipython",
    "version": 3
   },
   "file_extension": ".py",
   "mimetype": "text/x-python",
   "name": "python",
   "nbconvert_exporter": "python",
   "pygments_lexer": "ipython3",
   "version": "3.7.12"
  },
  "vscode": {
   "interpreter": {
    "hash": "9d097efbdf24db87a2507c17c632c6d564e7aff5ba5cfc04e62a44a8b3d6a20a"
   }
  },
  "widgets": {
   "application/vnd.jupyter.widget-state+json": {
    "state": {
     "000307e166d94935b4e38d43b3ac3b73": {
      "model_module": "jupyter-leaflet",
      "model_module_version": "^0.16.0",
      "model_name": "LeafletTileLayerModel",
      "state": {
       "_model_module_version": "^0.16.0",
       "_view_module_version": "^0.16.0",
       "attribution": "Justice Map",
       "max_native_zoom": 18,
       "max_zoom": 22,
       "min_native_zoom": 0,
       "name": "JusticeMap.income",
       "options": [
        "attribution",
        "bounds",
        "detect_retina",
        "max_native_zoom",
        "max_zoom",
        "min_native_zoom",
        "min_zoom",
        "no_wrap",
        "tile_size",
        "tms"
       ],
       "url": "https://www.justicemap.org/tile/county/income/{z}/{x}/{y}.png"
      }
     },
     "00275aa1776547d3b1983bf423171003": {
      "model_module": "@jupyter-widgets/controls",
      "model_module_version": "1.5.0",
      "model_name": "ButtonModel",
      "state": {
       "description": "Use Data Button",
       "layout": "IPY_MODEL_cda3b50eb81a42f3849b84ba1f8dedb9",
       "style": "IPY_MODEL_ee79ce2f0e8d414086030b874b841ecc"
      }
     },
     "013cccd167944d2aba4bb2607c6dfeee": {
      "model_module": "jupyter-leaflet",
      "model_module_version": "^0.16.0",
      "model_name": "LeafletTileLayerModel",
      "state": {
       "_model_module_version": "^0.16.0",
       "_view_module_version": "^0.16.0",
       "attribution": "(C) OpenStreetMap contributors & USGS",
       "max_native_zoom": 18,
       "max_zoom": 22,
       "min_native_zoom": 0,
       "name": "MtbMap",
       "options": [
        "attribution",
        "bounds",
        "detect_retina",
        "max_native_zoom",
        "max_zoom",
        "min_native_zoom",
        "min_zoom",
        "no_wrap",
        "tile_size",
        "tms"
       ],
       "url": "http://tile.mtbmap.cz/mtbmap_tiles/{z}/{x}/{y}.png"
      }
     },
     "014a742b114b4dab86614b72021e679f": {
      "model_module": "jupyter-leaflet",
      "model_module_version": "^0.16.0",
      "model_name": "LeafletTileLayerModel",
      "state": {
       "_model_module_version": "^0.16.0",
       "_view_module_version": "^0.16.0",
       "attribution": "Earthstar Geographics",
       "max_native_zoom": 18,
       "max_zoom": 24,
       "min_native_zoom": 0,
       "name": "Esri.ArcticImagery",
       "options": [
        "attribution",
        "bounds",
        "detect_retina",
        "max_native_zoom",
        "max_zoom",
        "min_native_zoom",
        "min_zoom",
        "no_wrap",
        "tile_size",
        "tms"
       ],
       "url": "http://server.arcgisonline.com/ArcGIS/rest/services/Polar/Arctic_Imagery/MapServer/tile/{z}/{y}/{x}"
      }
     },
     "0182d646cc8b4701a9eda6f6608c52b6": {
      "model_module": "jupyter-leaflet",
      "model_module_version": "^0.16.0",
      "model_name": "LeafletTileLayerModel",
      "state": {
       "_model_module_version": "^0.16.0",
       "_view_module_version": "^0.16.0",
       "attribution": "Kaartgegevens (C) Kadaster",
       "max_native_zoom": 18,
       "max_zoom": 19,
       "min_native_zoom": 0,
       "name": "nlmaps.water",
       "options": [
        "attribution",
        "bounds",
        "detect_retina",
        "max_native_zoom",
        "max_zoom",
        "min_native_zoom",
        "min_zoom",
        "no_wrap",
        "tile_size",
        "tms"
       ],
       "url": "https://service.pdok.nl/brt/achtergrondkaart/wmts/v2_0/water/EPSG:3857/{z}/{x}/{y}.png"
      }
     },
     "01c60c70ae294b9d9ce2ed02ae4cad5f": {
      "model_module": "jupyter-leaflet",
      "model_module_version": "^0.16.0",
      "model_name": "LeafletTileLayerModel",
      "state": {
       "_model_module_version": "^0.16.0",
       "_view_module_version": "^0.16.0",
       "attribution": "(C) OpenStreetMap contributors, Tiles courtesy of Breton OpenStreetMap Team",
       "max_native_zoom": 18,
       "max_zoom": 19,
       "min_native_zoom": 0,
       "name": "OpenStreetMap.BZH",
       "options": [
        "attribution",
        "bounds",
        "detect_retina",
        "max_native_zoom",
        "max_zoom",
        "min_native_zoom",
        "min_zoom",
        "no_wrap",
        "tile_size",
        "tms"
       ],
       "url": "https://tile.openstreetmap.bzh/br/{z}/{x}/{y}.png"
      }
     },
     "01e5d62fdbfa4ce1ab50299bca30bdd4": {
      "model_module": "@jupyter-widgets/controls",
      "model_module_version": "1.5.0",
      "model_name": "DescriptionStyleModel",
      "state": {
       "description_width": ""
      }
     },
     "021e5d2fd6eb46e3af5ed8b34c283468": {
      "model_module": "jupyter-leaflet",
      "model_module_version": "^0.16.0",
      "model_name": "LeafletMapStyleModel",
      "state": {
       "_model_module_version": "^0.16.0",
       "cursor": "move"
      }
     },
     "025c854ffb6740708a7941fe106ca19a": {
      "model_module": "@jupyter-widgets/controls",
      "model_module_version": "1.5.0",
      "model_name": "ToggleButtonModel",
      "state": {
       "button_style": "primary",
       "icon": "search",
       "layout": "IPY_MODEL_c6c5e301aa4a4809ad1e5b23af88020b",
       "style": "IPY_MODEL_c6d743d24c5c4c0d8b647944cf8cf996",
       "tooltip": "Search XYZ tile services"
      }
     },
     "02b6c3a1f4044b2da99f858a3f56494e": {
      "model_module": "@jupyter-widgets/controls",
      "model_module_version": "1.5.0",
      "model_name": "ToggleButtonModel",
      "state": {
       "button_style": "primary",
       "icon": "globe",
       "layout": "IPY_MODEL_298a63a06bca448d91a87f2904ad9c87",
       "style": "IPY_MODEL_c246c60804a44becab0dc9e88d6d0fd0",
       "tooltip": "Split-panel map"
      }
     },
     "04339c0bdee5461ea81403e78af0e530": {
      "model_module": "jupyter-leaflet",
      "model_module_version": "^0.16.0",
      "model_name": "LeafletGeoJSONModel",
      "state": {
       "_model_module_version": "^0.16.0",
       "_view_module_version": "^0.16.0",
       "data": {
        "features": [
         {
          "geometry": {
           "coordinates": [
            [
             [
              -121.51668099999998,
              35.999629
             ],
             [
              -121.51668099999998,
              36.03595841454629
             ],
             [
              -121.47176523579402,
              36.03595841454629
             ],
             [
              -121.47176523579402,
              35.999629
             ],
             [
              -121.51668099999998,
              35.999629
             ]
            ]
           ],
           "type": "Polygon"
          },
          "id": "5",
          "properties": {
           "CHLOROPHYLL": 2.417483,
           "CSU_Descriptor": "steeply sloping, straight, medium erodibility, warm temperate dry, low river discharge, moderate wave energy, moderately tidal, euhaline-oxic-moderate to cool, clear, moderate chlorophyll",
           "CSU_ID": 70981,
           "Cluster": 6,
           "EMU_PHYSICAL": "Euhaline-Oxic-Moderate to Cool",
           "ERODIBILITY": "Medium",
           "GHM": 0.089518,
           "LENGTH_GEO": 808.1809419432676,
           "MAX_SLOPE": 165.651852,
           "MEAN_SIG_WAVEHEIGHT": 1.687268,
           "MasterKey": 2753664,
           "OBJECTID": 2753664,
           "OUTFLOW_DENSITY": 8671.790039,
           "OUTFLOW_DENSITY_RESCALED": 1.0484883786709782e-05,
           "REGIONAL_SINUOSITY": 1.140924,
           "RandomSort": 529649.555212264,
           "Shape_Length": 0.00817329505061152,
           "TEMP_MOISTURE": "Warm Temperate Dry",
           "TIDAL_RANGE": 2.410373,
           "TURBIDITY": 0.024533,
           "chl_label": "moderate chlorophyll",
           "id": 5,
           "index_right": 1969,
           "river_label": "low river discharge",
           "sinuosity_label": "straight",
           "slope_label": "steeply sloping",
           "style": {
            "color": "blue",
            "fillColor": "grey",
            "fillOpacity": 0.1,
            "weight": 3
           },
           "tidal_label": "moderately tidal",
           "turbid_label": "clear",
           "wave_label": "moderate wave energy"
          },
          "type": "Feature"
         }
        ],
        "type": "FeatureCollection"
       },
       "hover_style": {
        "color": "aqua",
        "fillColor": "blue"
       },
       "name": "Selected ROIs"
      }
     },
     "0437bd310f344a6986abb19a54869f4b": {
      "model_module": "jupyter-leaflet",
      "model_module_version": "^0.16.0",
      "model_name": "LeafletTileLayerModel",
      "state": {
       "_model_module_version": "^0.16.0",
       "_view_module_version": "^0.16.0",
       "attribution": "Map data: (C) OpenStreetMap contributors | Map style: (C) waymarkedtrails.org (CC-BY-SA)",
       "max_native_zoom": 18,
       "min_native_zoom": 0,
       "name": "WaymarkedTrails.cycling",
       "options": [
        "attribution",
        "bounds",
        "detect_retina",
        "max_native_zoom",
        "max_zoom",
        "min_native_zoom",
        "min_zoom",
        "no_wrap",
        "tile_size",
        "tms"
       ],
       "url": "https://tile.waymarkedtrails.org/cycling/{z}/{x}/{y}.png"
      }
     },
     "048f655501744eb39e95cf4d74ee0264": {
      "model_module": "@jupyter-widgets/base",
      "model_module_version": "1.2.0",
      "model_name": "LayoutModel",
      "state": {
       "padding": "10px"
      }
     },
     "09625b1628464ed49062809247c9bb4f": {
      "model_module": "jupyter-leaflet",
      "model_module_version": "^0.16.0",
      "model_name": "LeafletTileLayerModel",
      "state": {
       "_model_module_version": "^0.16.0",
       "_view_module_version": "^0.16.0",
       "attribution": "![](https://docs.onemap.sg/maps/images/oneMap64-01.png) New OneMap | Map data (C) contributors, Singapore Land Authority",
       "max_native_zoom": 18,
       "min_native_zoom": 0,
       "name": "OneMapSG.Grey",
       "options": [
        "attribution",
        "bounds",
        "detect_retina",
        "max_native_zoom",
        "max_zoom",
        "min_native_zoom",
        "min_zoom",
        "no_wrap",
        "tile_size",
        "tms"
       ],
       "url": "https://maps-a.onemap.sg/v3/Grey/{z}/{x}/{y}.png"
      }
     },
     "09c453b8be0f40df8bc110f113c57967": {
      "model_module": "@jupyter-widgets/controls",
      "model_module_version": "1.5.0",
      "model_name": "ToggleButtonModel",
      "state": {
       "button_style": "primary",
       "icon": "picture-o",
       "layout": "IPY_MODEL_f51d3d696f564f78a499de2c8bc1dbed",
       "style": "IPY_MODEL_1b4d31c23072493fb10ac0428b04e8f0",
       "tooltip": "Open COG/STAC dataset"
      }
     },
     "0a542d5314af4553b00b3cdb4d5f8ecc": {
      "model_module": "@jupyter-widgets/controls",
      "model_module_version": "1.5.0",
      "model_name": "ToggleButtonModel",
      "state": {
       "button_style": "primary",
       "icon": "download",
       "layout": "IPY_MODEL_6ed25a2fb6494e48823e17c0077d7201",
       "style": "IPY_MODEL_01e5d62fdbfa4ce1ab50299bca30bdd4",
       "tooltip": "Download OSM data"
      }
     },
     "0aa03cf52ebf48e0b557ada875888678": {
      "model_module": "jupyter-leaflet",
      "model_module_version": "^0.16.0",
      "model_name": "LeafletTileLayerModel",
      "state": {
       "_model_module_version": "^0.16.0",
       "_view_module_version": "^0.16.0",
       "attribution": "(C) OpenStreetMap contributors (C) CARTO",
       "max_native_zoom": 18,
       "max_zoom": 20,
       "min_native_zoom": 0,
       "name": "CartoDB.PositronOnlyLabels",
       "options": [
        "attribution",
        "bounds",
        "detect_retina",
        "max_native_zoom",
        "max_zoom",
        "min_native_zoom",
        "min_zoom",
        "no_wrap",
        "tile_size",
        "tms"
       ],
       "url": "https://a.basemaps.cartocdn.com/light_only_labels/{z}/{x}/{y}.png"
      }
     },
     "0b3744d3da49495495a4afbe6c212f73": {
      "model_module": "jupyter-leaflet",
      "model_module_version": "^0.16.0",
      "model_name": "LeafletTileLayerModel",
      "state": {
       "_model_module_version": "^0.16.0",
       "_view_module_version": "^0.16.0",
       "attribution": "(C) OpenStreetMap contributors (C) CARTO",
       "max_native_zoom": 18,
       "max_zoom": 20,
       "min_native_zoom": 0,
       "name": "CartoDB.DarkMatterNoLabels",
       "options": [
        "attribution",
        "bounds",
        "detect_retina",
        "max_native_zoom",
        "max_zoom",
        "min_native_zoom",
        "min_zoom",
        "no_wrap",
        "tile_size",
        "tms"
       ],
       "url": "https://a.basemaps.cartocdn.com/dark_nolabels/{z}/{x}/{y}.png"
      }
     },
     "0ba7088f9b334bc5a1f33fb7aa6b301f": {
      "model_module": "@jupyter-widgets/base",
      "model_module_version": "1.2.0",
      "model_name": "LayoutModel",
      "state": {
       "height": "auto",
       "padding": "0px 0px 0px 4px",
       "width": "auto"
      }
     },
     "0c7f417869e1465da18965d0f03c38b1": {
      "model_module": "@jupyter-widgets/controls",
      "model_module_version": "1.5.0",
      "model_name": "DescriptionStyleModel",
      "state": {
       "description_width": ""
      }
     },
     "0de681a6632d4713a37cefbeb2600b0e": {
      "model_module": "jupyter-leaflet",
      "model_module_version": "^0.16.0",
      "model_name": "LeafletWMSLayerModel",
      "state": {
       "_model_module_version": "^0.16.0",
       "_view_module_version": "^0.16.0",
       "attribution": "ESA",
       "crs": {
        "custom": false,
        "name": "EPSG3857"
       },
       "format": "image/png",
       "layers": "WORLDCOVER_2020_MAP",
       "max_native_zoom": 18,
       "min_native_zoom": 0,
       "name": "ESA Worldcover 2020",
       "options": [
        "attribution",
        "bounds",
        "detect_retina",
        "format",
        "layers",
        "max_native_zoom",
        "max_zoom",
        "min_native_zoom",
        "min_zoom",
        "no_wrap",
        "styles",
        "tile_size",
        "tms",
        "transparent",
        "uppercase"
       ],
       "transparent": true,
       "url": "https://services.terrascope.be/wms/v2"
      }
     },
     "0f8e528c3f0a458d9e162e290c98907c": {
      "model_module": "@jupyter-widgets/base",
      "model_module_version": "1.2.0",
      "model_name": "LayoutModel",
      "state": {}
     },
     "0fa1c4cce9c94fa3864330a7223c5626": {
      "model_module": "@jupyter-widgets/controls",
      "model_module_version": "1.5.0",
      "model_name": "ButtonStyleModel",
      "state": {}
     },
     "10bdff87d23a431cb5a4a32862ccb62e": {
      "model_module": "@jupyter-widgets/controls",
      "model_module_version": "1.5.0",
      "model_name": "HBoxModel",
      "state": {
       "children": [
        "IPY_MODEL_bbbd620ecc914f96be212168b2d9ae1b",
        "IPY_MODEL_356c4a5f64334d509f823dd188e79c5f",
        "IPY_MODEL_d7d0a672b25c40b99725540ab1764ad7",
        "IPY_MODEL_a6efbf6efed04e0090cdc456338b53b7",
        "IPY_MODEL_b1ecd41b976b496e966a363608d1b36e",
        "IPY_MODEL_37e02098fb4b45569e81f76e7cca4bdd"
       ],
       "layout": "IPY_MODEL_3df656524ab34c369356ea156c2f93ca"
      }
     },
     "11e5395e726c461db946ccb0cb763fe3": {
      "model_module": "jupyter-leaflet",
      "model_module_version": "^0.16.0",
      "model_name": "LeafletWMSLayerModel",
      "state": {
       "_model_module_version": "^0.16.0",
       "_view_module_version": "^0.16.0",
       "attribution": "MRLC",
       "crs": {
        "custom": false,
        "name": "EPSG3857"
       },
       "format": "image/png",
       "layers": "NLCD_2016_Land_Cover_L48",
       "max_native_zoom": 18,
       "min_native_zoom": 0,
       "name": "NLCD 2016 CONUS Land Cover",
       "options": [
        "attribution",
        "bounds",
        "detect_retina",
        "format",
        "layers",
        "max_native_zoom",
        "max_zoom",
        "min_native_zoom",
        "min_zoom",
        "no_wrap",
        "styles",
        "tile_size",
        "tms",
        "transparent",
        "uppercase"
       ],
       "transparent": true,
       "url": "https://www.mrlc.gov/geoserver/mrlc_display/NLCD_2016_Land_Cover_L48/wms?"
      }
     },
     "12e0a2a39ed64acc89f3a6d55ae64ca9": {
      "model_module": "@jupyter-widgets/controls",
      "model_module_version": "1.5.0",
      "model_name": "ButtonModel",
      "state": {
       "description": "Generate ROI",
       "layout": "IPY_MODEL_f29fceb892484c268d848951acab7eef",
       "style": "IPY_MODEL_8e507d5fde114dad9665c655d9417adb"
      }
     },
     "1340f840f3d040019f227786a713e452": {
      "model_module": "@jupyter-widgets/base",
      "model_module_version": "1.2.0",
      "model_name": "LayoutModel",
      "state": {}
     },
     "18339767a18a4f4a801979419e417988": {
      "model_module": "jupyter-leaflet",
      "model_module_version": "^0.16.0",
      "model_name": "LeafletTileLayerModel",
      "state": {
       "_model_module_version": "^0.16.0",
       "_view_module_version": "^0.16.0",
       "attribution": "Justice Map",
       "max_native_zoom": 18,
       "max_zoom": 22,
       "min_native_zoom": 0,
       "name": "JusticeMap.black",
       "options": [
        "attribution",
        "bounds",
        "detect_retina",
        "max_native_zoom",
        "max_zoom",
        "min_native_zoom",
        "min_zoom",
        "no_wrap",
        "tile_size",
        "tms"
       ],
       "url": "https://www.justicemap.org/tile/county/black/{z}/{x}/{y}.png"
      }
     },
     "19d9b0a6a0e64892ba5adfb2480850b5": {
      "model_module": "jupyter-leaflet",
      "model_module_version": "^0.16.0",
      "model_name": "LeafletTileLayerModel",
      "state": {
       "_model_module_version": "^0.16.0",
       "_view_module_version": "^0.16.0",
       "attribution": "Map data: (C) OpenStreetMap contributors | Map style: (C) waymarkedtrails.org (CC-BY-SA)",
       "max_native_zoom": 18,
       "min_native_zoom": 0,
       "name": "WaymarkedTrails.riding",
       "options": [
        "attribution",
        "bounds",
        "detect_retina",
        "max_native_zoom",
        "max_zoom",
        "min_native_zoom",
        "min_zoom",
        "no_wrap",
        "tile_size",
        "tms"
       ],
       "url": "https://tile.waymarkedtrails.org/riding/{z}/{x}/{y}.png"
      }
     },
     "1a4a27fe7cce4a60a80036a1d96cfddf": {
      "model_module": "jupyter-leaflet",
      "model_module_version": "^0.16.0",
      "model_name": "LeafletLayersControlModel",
      "state": {
       "_model_module_version": "^0.16.0",
       "_view_module_version": "^0.16.0",
       "options": [
        "position"
       ],
       "position": "topright"
      }
     },
     "1ad9405ed8dd4df3b3b17e9aa47cc40e": {
      "model_module": "jupyter-leaflet",
      "model_module_version": "^0.16.0",
      "model_name": "LeafletTileLayerModel",
      "state": {
       "_model_module_version": "^0.16.0",
       "_view_module_version": "^0.16.0",
       "attribution": "(C) OpenStreetMap contributors (C) CARTO",
       "max_native_zoom": 18,
       "max_zoom": 20,
       "min_native_zoom": 0,
       "name": "CartoDB.VoyagerOnlyLabels",
       "options": [
        "attribution",
        "bounds",
        "detect_retina",
        "max_native_zoom",
        "max_zoom",
        "min_native_zoom",
        "min_zoom",
        "no_wrap",
        "tile_size",
        "tms"
       ],
       "url": "https://a.basemaps.cartocdn.com/rastertiles/voyager_only_labels/{z}/{x}/{y}.png"
      }
     },
     "1b4d31c23072493fb10ac0428b04e8f0": {
      "model_module": "@jupyter-widgets/controls",
      "model_module_version": "1.5.0",
      "model_name": "DescriptionStyleModel",
      "state": {
       "description_width": ""
      }
     },
     "1c74489137654529b3747ab2302f2312": {
      "model_module": "@jupyter-widgets/base",
      "model_module_version": "1.2.0",
      "model_name": "LayoutModel",
      "state": {
       "margin": "0px 0px 0px 20px"
      }
     },
     "1cd630fc995049ab8b6e012f19d6aff2": {
      "model_module": "@jupyter-widgets/controls",
      "model_module_version": "1.5.0",
      "model_name": "DescriptionStyleModel",
      "state": {
       "description_width": ""
      }
     },
     "1d5e6e2db8764864adfbfd796c2dc714": {
      "model_module": "jupyter-leaflet",
      "model_module_version": "^0.16.0",
      "model_name": "LeafletWMSLayerModel",
      "state": {
       "_model_module_version": "^0.16.0",
       "_view_module_version": "^0.16.0",
       "attribution": "MRLC",
       "crs": {
        "custom": false,
        "name": "EPSG3857"
       },
       "format": "image/png",
       "layers": "NLCD_2001_Land_Cover_L48",
       "max_native_zoom": 18,
       "min_native_zoom": 0,
       "name": "NLCD 2001 CONUS Land Cover",
       "options": [
        "attribution",
        "bounds",
        "detect_retina",
        "format",
        "layers",
        "max_native_zoom",
        "max_zoom",
        "min_native_zoom",
        "min_zoom",
        "no_wrap",
        "styles",
        "tile_size",
        "tms",
        "transparent",
        "uppercase"
       ],
       "transparent": true,
       "url": "https://www.mrlc.gov/geoserver/mrlc_display/NLCD_2001_Land_Cover_L48/wms?"
      }
     },
     "1d79a7b660e14387b01776b81f7e8f42": {
      "model_module": "@jupyter-widgets/controls",
      "model_module_version": "1.5.0",
      "model_name": "HBoxModel",
      "state": {
       "children": [
        "IPY_MODEL_36cc8bcaa2304db1a5b5c7c8594cdc05",
        "IPY_MODEL_4544912af7654977bdaafb574326abbc",
        "IPY_MODEL_12e0a2a39ed64acc89f3a6d55ae64ca9",
        "IPY_MODEL_3cd9e33a4086492fa47c6d56b044f0e5"
       ],
       "layout": "IPY_MODEL_8775bbd7cc59430e944b109e4248db46"
      }
     },
     "21cded29c51c49958bca73eed3cb5aff": {
      "model_module": "jupyter-leaflet",
      "model_module_version": "^0.16.0",
      "model_name": "LeafletTileLayerModel",
      "state": {
       "_model_module_version": "^0.16.0",
       "_view_module_version": "^0.16.0",
       "attribution": "Imagery provided by services from the Global Imagery Browse Services (GIBS), operated by the NASA/GSFC/Earth Science Data and Information System (ESDIS) with funding provided by NASA/HQ.",
       "max_native_zoom": 18,
       "max_zoom": 5,
       "min_native_zoom": 0,
       "name": "NASAGIBS.BlueMarble3031",
       "options": [
        "attribution",
        "bounds",
        "detect_retina",
        "max_native_zoom",
        "max_zoom",
        "min_native_zoom",
        "min_zoom",
        "no_wrap",
        "tile_size",
        "tms"
       ],
       "url": "https://gibs.earthdata.nasa.gov/wmts/epsg3031/best/BlueMarble_NextGeneration/default/EPSG3031_500m/{z}/{y}/{x}.jpeg"
      }
     },
     "21ec621799824a3f87651e8306ce5cfa": {
      "model_module": "jupyter-leaflet",
      "model_module_version": "^0.16.0",
      "model_name": "LeafletTileLayerModel",
      "state": {
       "_model_module_version": "^0.16.0",
       "_view_module_version": "^0.16.0",
       "attribution": "(C) OpenStreetMap contributors",
       "max_native_zoom": 18,
       "max_zoom": 19,
       "min_native_zoom": 0,
       "name": "HikeBike.HikeBike",
       "options": [
        "attribution",
        "bounds",
        "detect_retina",
        "max_native_zoom",
        "max_zoom",
        "min_native_zoom",
        "min_zoom",
        "no_wrap",
        "tile_size",
        "tms"
       ],
       "url": "https://tiles.wmflabs.org/hikebike/{z}/{x}/{y}.png"
      }
     },
     "224ce16ac1d64fc9bf77d95fdbc3ffb8": {
      "model_module": "@jupyter-widgets/controls",
      "model_module_version": "1.5.0",
      "model_name": "DescriptionStyleModel",
      "state": {
       "description_width": ""
      }
     },
     "224d0426bc1140aaacc221c685b1f65a": {
      "model_module": "@jupyter-widgets/controls",
      "model_module_version": "1.5.0",
      "model_name": "ToggleButtonModel",
      "state": {
       "button_style": "primary",
       "icon": "map",
       "layout": "IPY_MODEL_0ba7088f9b334bc5a1f33fb7aa6b301f",
       "style": "IPY_MODEL_a66adf39aa9c448196e2612a0482159b",
       "tooltip": "Change basemap"
      }
     },
     "22cc9db9904240faab23bb7ccbd41357": {
      "model_module": "jupyter-leaflet",
      "model_module_version": "^0.16.0",
      "model_name": "LeafletTileLayerModel",
      "state": {
       "_model_module_version": "^0.16.0",
       "_view_module_version": "^0.16.0",
       "attribution": "© swisstopo",
       "max_native_zoom": 18,
       "min_native_zoom": 0,
       "name": "SwissFederalGeoportal.NationalMapColor",
       "options": [
        "attribution",
        "bounds",
        "detect_retina",
        "max_native_zoom",
        "max_zoom",
        "min_native_zoom",
        "min_zoom",
        "no_wrap",
        "tile_size",
        "tms"
       ],
       "url": "https://wmts.geo.admin.ch/1.0.0/ch.swisstopo.pixelkarte-farbe/default/current/3857/{z}/{x}/{y}.jpeg"
      }
     },
     "23256b6831b04314979c43a6efb82728": {
      "model_module": "jupyter-leaflet",
      "model_module_version": "^0.16.0",
      "model_name": "LeafletWidgetControlModel",
      "state": {
       "_model_module": "jupyter-leaflet",
       "_model_module_version": "^0.16.0",
       "_view_count": null,
       "_view_module": "jupyter-leaflet",
       "_view_module_version": "^0.16.0",
       "options": [
        "position",
        "transparent_bg"
       ],
       "position": "topright",
       "widget": "IPY_MODEL_faee565378c0433c932b72228886525f"
      }
     },
     "233883b5ccea461fa3865dfb0570d11c": {
      "model_module": "jupyter-leaflet",
      "model_module_version": "^0.16.0",
      "model_name": "LeafletTileLayerModel",
      "state": {
       "_model_module_version": "^0.16.0",
       "_view_module_version": "^0.16.0",
       "attribution": "Earthstar Geographics",
       "max_native_zoom": 18,
       "max_zoom": 24,
       "min_native_zoom": 0,
       "name": "Esri.AntarcticImagery",
       "options": [
        "attribution",
        "bounds",
        "detect_retina",
        "max_native_zoom",
        "max_zoom",
        "min_native_zoom",
        "min_zoom",
        "no_wrap",
        "tile_size",
        "tms"
       ],
       "url": "http://server.arcgisonline.com/ArcGIS/rest/services/Polar/Antarctic_Imagery/MapServer/tile/{z}/{y}/{x}"
      }
     },
     "23da68a2dd7048f790d676d44fd96b0e": {
      "model_module": "jupyter-leaflet",
      "model_module_version": "^0.16.0",
      "model_name": "LeafletAttributionControlModel",
      "state": {
       "_model_module_version": "^0.16.0",
       "_view_module_version": "^0.16.0",
       "options": [
        "position",
        "prefix"
       ],
       "position": "bottomright",
       "prefix": "ipyleaflet"
      }
     },
     "23ff71d81efa4f0083f8f9106869383f": {
      "model_module": "jupyter-leaflet",
      "model_module_version": "^0.16.0",
      "model_name": "LeafletTileLayerModel",
      "state": {
       "_model_module_version": "^0.16.0",
       "_view_module_version": "^0.16.0",
       "attribution": "Imagery provided by services from the Global Imagery Browse Services (GIBS), operated by the NASA/GSFC/Earth Science Data and Information System (ESDIS) with funding provided by NASA/HQ.",
       "max_native_zoom": 18,
       "max_zoom": 7,
       "min_native_zoom": 0,
       "name": "NASAGIBS.ModisTerraChlorophyll",
       "options": [
        "attribution",
        "bounds",
        "detect_retina",
        "max_native_zoom",
        "max_zoom",
        "min_native_zoom",
        "min_zoom",
        "no_wrap",
        "tile_size",
        "tms"
       ],
       "url": "https://map1.vis.earthdata.nasa.gov/wmts-webmerc/MODIS_Terra_Chlorophyll_A/default//GoogleMapsCompatible_Level7/{z}/{y}/{x}.png"
      }
     },
     "26c63974044f4644a5b39bc649c29907": {
      "model_module": "@jupyter-widgets/base",
      "model_module_version": "1.2.0",
      "model_name": "LayoutModel",
      "state": {}
     },
     "271df7fece944ec289ce09936471a7e2": {
      "model_module": "@jupyter-widgets/base",
      "model_module_version": "1.2.0",
      "model_name": "LayoutModel",
      "state": {}
     },
     "278da3cd89324f989cccbad06e2deac8": {
      "model_module": "jupyter-leaflet",
      "model_module_version": "^0.16.0",
      "model_name": "LeafletTileLayerModel",
      "state": {
       "_model_module_version": "^0.16.0",
       "_view_module_version": "^0.16.0",
       "attribution": "Imagery provided by services from the Global Imagery Browse Services (GIBS), operated by the NASA/GSFC/Earth Science Data and Information System (ESDIS) with funding provided by NASA/HQ.",
       "max_native_zoom": 18,
       "max_zoom": 12,
       "min_native_zoom": 0,
       "name": "NASAGIBS.ASTER_GDEM_Greyscale_Shaded_Relief",
       "options": [
        "attribution",
        "bounds",
        "detect_retina",
        "max_native_zoom",
        "max_zoom",
        "min_native_zoom",
        "min_zoom",
        "no_wrap",
        "tile_size",
        "tms"
       ],
       "url": "https://gibs.earthdata.nasa.gov/wmts/epsg3857/best/ASTER_GDEM_Greyscale_Shaded_Relief/default/GoogleMapsCompatible_Level12/{z}/{y}/{x}.jpg"
      }
     },
     "284939274cce420881e2c88cf2421f6b": {
      "model_module": "@jupyter-widgets/controls",
      "model_module_version": "1.5.0",
      "model_name": "DescriptionStyleModel",
      "state": {
       "description_width": ""
      }
     },
     "286a08060c944a9c88339da27368e866": {
      "model_module": "jupyter-leaflet",
      "model_module_version": "^0.16.0",
      "model_name": "LeafletTileLayerModel",
      "state": {
       "_model_module_version": "^0.16.0",
       "_view_module_version": "^0.16.0",
       "attribution": "Map tiles by Stamen Design, CC BY 3.0 -- Map data (C) OpenStreetMap contributors",
       "max_native_zoom": 18,
       "min_native_zoom": 0,
       "name": "Stamen.TerrainLabels",
       "options": [
        "attribution",
        "bounds",
        "detect_retina",
        "max_native_zoom",
        "max_zoom",
        "min_native_zoom",
        "min_zoom",
        "no_wrap",
        "tile_size",
        "tms"
       ],
       "url": "https://stamen-tiles-a.a.ssl.fastly.net/terrain-labels/{z}/{x}/{y}.png"
      }
     },
     "289e6ca87306490a9929aef879aaf589": {
      "model_module": "jupyter-leaflet",
      "model_module_version": "^0.16.0",
      "model_name": "LeafletTileLayerModel",
      "state": {
       "_model_module_version": "^0.16.0",
       "_view_module_version": "^0.16.0",
       "attribution": "Tiles (C) Esri -- Source: Esri",
       "max_native_zoom": 18,
       "max_zoom": 13,
       "min_native_zoom": 0,
       "name": "Esri.WorldShadedRelief",
       "options": [
        "attribution",
        "bounds",
        "detect_retina",
        "max_native_zoom",
        "max_zoom",
        "min_native_zoom",
        "min_zoom",
        "no_wrap",
        "tile_size",
        "tms"
       ],
       "url": "https://server.arcgisonline.com/ArcGIS/rest/services/World_Shaded_Relief/MapServer/tile/{z}/{y}/{x}"
      }
     },
     "28a9997f89ec4dceafd7a5b1528d2101": {
      "model_module": "@jupyter-widgets/controls",
      "model_module_version": "1.5.0",
      "model_name": "VBoxModel",
      "state": {
       "children": [
        "IPY_MODEL_2b104759aeec4bc298922d7142233ced",
        "IPY_MODEL_5bf305ec9c354dbb83e289727c07c0d1"
       ],
       "layout": "IPY_MODEL_3880ea550d704005b55c62952521a8f5"
      }
     },
     "290eff97ae4549e89b4608822f19e4ad": {
      "model_module": "@jupyter-widgets/controls",
      "model_module_version": "1.5.0",
      "model_name": "ToggleButtonModel",
      "state": {
       "icon": "wrench",
       "layout": "IPY_MODEL_e793d7e93cf64ad8b08f830355c743eb",
       "style": "IPY_MODEL_be0d8c9194b04471a49e4f3786b554f4",
       "tooltip": "Toolbar"
      }
     },
     "298a63a06bca448d91a87f2904ad9c87": {
      "model_module": "@jupyter-widgets/base",
      "model_module_version": "1.2.0",
      "model_name": "LayoutModel",
      "state": {
       "height": "auto",
       "padding": "0px 0px 0px 4px",
       "width": "auto"
      }
     },
     "29b8c5fe7cc04b36b28718eaee1a9473": {
      "model_module": "@jupyter-widgets/controls",
      "model_module_version": "1.5.0",
      "model_name": "HTMLModel",
      "state": {
       "layout": "IPY_MODEL_97e625279da149519cc5048cb6af09b8",
       "style": "IPY_MODEL_770bb38505fb4ca4b10d47bbcb87ed17",
       "value": "Hover over shoreline"
      }
     },
     "2a03006822674d40b430924c58b51c32": {
      "model_module": "jupyter-leaflet",
      "model_module_version": "^0.16.0",
      "model_name": "LeafletTileLayerModel",
      "state": {
       "_model_module_version": "^0.16.0",
       "_view_module_version": "^0.16.0",
       "attribution": "Tiles (C) Esri -- Source: US National Park Service",
       "max_native_zoom": 18,
       "max_zoom": 8,
       "min_native_zoom": 0,
       "name": "Esri.WorldPhysical",
       "options": [
        "attribution",
        "bounds",
        "detect_retina",
        "max_native_zoom",
        "max_zoom",
        "min_native_zoom",
        "min_zoom",
        "no_wrap",
        "tile_size",
        "tms"
       ],
       "url": "https://server.arcgisonline.com/ArcGIS/rest/services/World_Physical_Map/MapServer/tile/{z}/{y}/{x}"
      }
     },
     "2ad78925e22b4f25886aa4c33442c1b9": {
      "model_module": "@jupyter-widgets/controls",
      "model_module_version": "1.5.0",
      "model_name": "GridBoxModel",
      "state": {
       "children": [
        "IPY_MODEL_224d0426bc1140aaacc221c685b1f65a",
        "IPY_MODEL_02b6c3a1f4044b2da99f858a3f56494e",
        "IPY_MODEL_c475e99bc7c34ca798f2889f35e067a8",
        "IPY_MODEL_da00c26790244132a4be19484598c777",
        "IPY_MODEL_90fb1e7b528342578018b0414c3a3c1d",
        "IPY_MODEL_68599b85e3ac44b58e82bf34dbfa8bf7",
        "IPY_MODEL_6466824efe8140e8884115870cc20ea3",
        "IPY_MODEL_35285049583b498382246e45ac8a4d54",
        "IPY_MODEL_915cb4dce71e4df280a0ba03c7f5b0a3",
        "IPY_MODEL_6820fcfb7d004ec8a1bf08070d7994a5",
        "IPY_MODEL_025c854ffb6740708a7941fe106ca19a",
        "IPY_MODEL_0a542d5314af4553b00b3cdb4d5f8ecc",
        "IPY_MODEL_09c453b8be0f40df8bc110f113c57967",
        "IPY_MODEL_90afe110ffa64411ae488e40c7a4fdf1",
        "IPY_MODEL_8c133937cbaa4f44b6959de036e1c7c8",
        "IPY_MODEL_c59bc225c0044d1da0b2aa7cbf1631e0",
        "IPY_MODEL_f6fb0c4f555f4c0f99b41a4567af332e",
        "IPY_MODEL_db3eaf5b725a4d4da465e354e91f2d57"
       ],
       "layout": "IPY_MODEL_6a84b7a1f604418685e1f5e8584619ce"
      }
     },
     "2aee334568c74f12bd6b3fddbfd5dbe4": {
      "model_module": "jupyter-leaflet",
      "model_module_version": "^0.16.0",
      "model_name": "LeafletTileLayerModel",
      "state": {
       "_model_module_version": "^0.16.0",
       "_view_module_version": "^0.16.0",
       "attribution": "Map tiles by <a href=\"https://labs.strava.com/heatmap\">Strava 2021</a>",
       "max_native_zoom": 18,
       "max_zoom": 15,
       "min_native_zoom": 0,
       "name": "Strava.Water",
       "options": [
        "attribution",
        "bounds",
        "detect_retina",
        "max_native_zoom",
        "max_zoom",
        "min_native_zoom",
        "min_zoom",
        "no_wrap",
        "tile_size",
        "tms"
       ],
       "url": "https://heatmap-external-a.strava.com/tiles/water/blue/{z}/{x}/{y}.png"
      }
     },
     "2b104759aeec4bc298922d7142233ced": {
      "model_module": "@jupyter-widgets/controls",
      "model_module_version": "1.5.0",
      "model_name": "HTMLModel",
      "state": {
       "layout": "IPY_MODEL_3d7d03c1c0ce453aab66c8dc82427eb9",
       "style": "IPY_MODEL_1cd630fc995049ab8b6e012f19d6aff2",
       "value": "<b>Pick multiple satellites by holding the control key:</b>         <br> - images prior to 2022/01/01 will be downloaded from Collection 1         <br> - images after 2022/01/01 will be automatically downloaded from Collection 2         <br> C01: LandSat Collection 1 : All dates before 2022/01/01        <br> C02: LandSat Collection 2 : All dates after 2022/01/01         <br> - Landsat 9 is only available in C02"
      }
     },
     "2b1f3ab632514556abd80a15ebbe3b78": {
      "model_module": "@jupyter-widgets/controls",
      "model_module_version": "1.5.0",
      "model_name": "DescriptionStyleModel",
      "state": {
       "description_width": ""
      }
     },
     "2b6dc76f6f4f497396452a03565d5ba7": {
      "model_module": "@jupyter-widgets/controls",
      "model_module_version": "1.5.0",
      "model_name": "ButtonStyleModel",
      "state": {}
     },
     "2b8fb261818a4385b2b1709544d48609": {
      "model_module": "@jupyter-widgets/base",
      "model_module_version": "1.2.0",
      "model_name": "LayoutModel",
      "state": {}
     },
     "2db7246b0a184d788a7b52bb5568ee40": {
      "model_module": "@jupyter-widgets/base",
      "model_module_version": "1.2.0",
      "model_name": "LayoutModel",
      "state": {
       "height": "auto",
       "padding": "0px 0px 0px 4px",
       "width": "auto"
      }
     },
     "2e331a1d9c49423e96820e5e8a845f02": {
      "model_module": "@jupyter-widgets/controls",
      "model_module_version": "1.5.0",
      "model_name": "DescriptionStyleModel",
      "state": {
       "description_width": ""
      }
     },
     "2eb8d2b4d7ac4c69ba8d152f797543a1": {
      "model_module": "jupyter-leaflet",
      "model_module_version": "^0.16.0",
      "model_name": "LeafletTileLayerModel",
      "state": {
       "_model_module_version": "^0.16.0",
       "_view_module_version": "^0.16.0",
       "attribution": "(C) OpenStreetMap contributors",
       "max_native_zoom": 18,
       "min_native_zoom": 0,
       "name": "OpenStreetMap.DE",
       "options": [
        "attribution",
        "bounds",
        "detect_retina",
        "max_native_zoom",
        "max_zoom",
        "min_native_zoom",
        "min_zoom",
        "no_wrap",
        "tile_size",
        "tms"
       ],
       "url": "https://a.tile.openstreetmap.de/{z}/{x}/{y}.png"
      }
     },
     "2ed0ccde4dde4c2493a32c4af3b0a705": {
      "model_module": "@jupyter-widgets/controls",
      "model_module_version": "1.5.0",
      "model_name": "HTMLModel",
      "state": {
       "layout": "IPY_MODEL_f55fff34cb5247a296ef543a37e9f02b",
       "style": "IPY_MODEL_88cc012937ec46139dd31099743333f0",
       "value": "<h4>Click ONE of the following buttons:</h4>"
      }
     },
     "2f608cdfda9c4a8292a18d5bf21a1716": {
      "model_module": "@jupyter-widgets/base",
      "model_module_version": "1.2.0",
      "model_name": "LayoutModel",
      "state": {
       "margin": "0px 0px 0px 20px"
      }
     },
     "308f38cd025840aeb45e47808cf1310a": {
      "model_module": "jupyter-leaflet",
      "model_module_version": "^0.16.0",
      "model_name": "LeafletTileLayerModel",
      "state": {
       "_model_module_version": "^0.16.0",
       "_view_module_version": "^0.16.0",
       "attribution": "Map data: (C) OpenStreetMap contributors | Map style: (C) waymarkedtrails.org (CC-BY-SA)",
       "max_native_zoom": 18,
       "min_native_zoom": 0,
       "name": "WaymarkedTrails.skating",
       "options": [
        "attribution",
        "bounds",
        "detect_retina",
        "max_native_zoom",
        "max_zoom",
        "min_native_zoom",
        "min_zoom",
        "no_wrap",
        "tile_size",
        "tms"
       ],
       "url": "https://tile.waymarkedtrails.org/skating/{z}/{x}/{y}.png"
      }
     },
     "31aeb64af2134241b7fc24f82945fac7": {
      "model_module": "jupyter-leaflet",
      "model_module_version": "^0.16.0",
      "model_name": "LeafletTileLayerModel",
      "state": {
       "_model_module_version": "^0.16.0",
       "_view_module_version": "^0.16.0",
       "attribution": "openAIP Data (CC-BY-NC-SA)",
       "max_native_zoom": 18,
       "max_zoom": 14,
       "min_native_zoom": 0,
       "name": "OpenAIP",
       "options": [
        "attribution",
        "bounds",
        "detect_retina",
        "max_native_zoom",
        "max_zoom",
        "min_native_zoom",
        "min_zoom",
        "no_wrap",
        "tile_size",
        "tms"
       ],
       "url": "https://1.tile.maps.openaip.net/geowebcache/service/tms/1.0.0/openaip_basemap@EPSG%3A900913@png/{z}/{x}/{y}.png"
      }
     },
     "3238954f68aa46f2b598ab594efa0e75": {
      "model_module": "@jupyter-widgets/controls",
      "model_module_version": "1.5.0",
      "model_name": "DescriptionStyleModel",
      "state": {
       "description_width": ""
      }
     },
     "330f9edf8b8d402bab889f32aab6633c": {
      "model_module": "jupyter-leaflet",
      "model_module_version": "^0.16.0",
      "model_name": "LeafletTileLayerModel",
      "state": {
       "_model_module_version": "^0.16.0",
       "_view_module_version": "^0.16.0",
       "attribution": "Map data: (C) OpenStreetMap contributors | Map style: (C) SafeCast (CC-BY-SA)",
       "max_native_zoom": 18,
       "max_zoom": 16,
       "min_native_zoom": 0,
       "name": "SafeCast",
       "options": [
        "attribution",
        "bounds",
        "detect_retina",
        "max_native_zoom",
        "max_zoom",
        "min_native_zoom",
        "min_zoom",
        "no_wrap",
        "tile_size",
        "tms"
       ],
       "url": "https://s3.amazonaws.com/te512.safecast.org/{z}/{x}/{y}.png"
      }
     },
     "35285049583b498382246e45ac8a4d54": {
      "model_module": "@jupyter-widgets/controls",
      "model_module_version": "1.5.0",
      "model_name": "ToggleButtonModel",
      "state": {
       "button_style": "primary",
       "icon": "camera",
       "layout": "IPY_MODEL_66d8645aad894d13a30bcd3138ec9a18",
       "style": "IPY_MODEL_f465de630b864255b4a3091bb732b33c",
       "tooltip": "Save map as HTML or image"
      }
     },
     "355ea4b9b38b4a71a3f3331ce4619e66": {
      "model_module": "jupyter-leaflet",
      "model_module_version": "^0.16.0",
      "model_name": "LeafletTileLayerModel",
      "state": {
       "_model_module_version": "^0.16.0",
       "_view_module_version": "^0.16.0",
       "attribution": "![](https://docs.onemap.sg/maps/images/oneMap64-01.png) New OneMap | Map data (C) contributors, Singapore Land Authority",
       "max_native_zoom": 18,
       "min_native_zoom": 0,
       "name": "OneMapSG.Default",
       "options": [
        "attribution",
        "bounds",
        "detect_retina",
        "max_native_zoom",
        "max_zoom",
        "min_native_zoom",
        "min_zoom",
        "no_wrap",
        "tile_size",
        "tms"
       ],
       "url": "https://maps-a.onemap.sg/v3/Default/{z}/{x}/{y}.png"
      }
     },
     "356c4a5f64334d509f823dd188e79c5f": {
      "model_module": "@jupyter-widgets/controls",
      "model_module_version": "1.5.0",
      "model_name": "ButtonModel",
      "state": {
       "description": "Remove transects",
       "layout": "IPY_MODEL_98d7bd13df5b456599bd29a76d0f558c",
       "style": "IPY_MODEL_5128cef7df8a433b817e09eee057df24"
      }
     },
     "35806456ed3744c69c9fd4bdb2f2d701": {
      "model_module": "jupyter-leaflet",
      "model_module_version": "^0.16.0",
      "model_name": "LeafletTileLayerModel",
      "state": {
       "_model_module_version": "^0.16.0",
       "_view_module_version": "^0.16.0",
       "attribution": "Tiles (C) Esri -- Sources: GEBCO, NOAA, CHS, OSU, UNH, CSUMB, National Geographic, DeLorme, NAVTEQ, and Esri",
       "max_native_zoom": 18,
       "max_zoom": 13,
       "min_native_zoom": 0,
       "name": "Esri.OceanBasemap",
       "options": [
        "attribution",
        "bounds",
        "detect_retina",
        "max_native_zoom",
        "max_zoom",
        "min_native_zoom",
        "min_zoom",
        "no_wrap",
        "tile_size",
        "tms"
       ],
       "url": "https://server.arcgisonline.com/ArcGIS/rest/services/Ocean_Basemap/MapServer/tile/{z}/{y}/{x}"
      }
     },
     "358c6023c5b74628b5fe81b1c4e233d3": {
      "model_module": "@jupyter-widgets/controls",
      "model_module_version": "1.5.0",
      "model_name": "DescriptionStyleModel",
      "state": {
       "description_width": ""
      }
     },
     "35a347fe7c814fdf87f97960ad5d31b5": {
      "model_module": "jupyter-leaflet",
      "model_module_version": "^0.16.0",
      "model_name": "LeafletWMSLayerModel",
      "state": {
       "_model_module_version": "^0.16.0",
       "_view_module_version": "^0.16.0",
       "attribution": "USGS",
       "crs": {
        "custom": false,
        "name": "EPSG3857"
       },
       "format": "image/png",
       "layers": "USGSNAIPImagery:FalseColorComposite",
       "max_native_zoom": 18,
       "min_native_zoom": 0,
       "name": "USGS NAIP Imagery False Color",
       "options": [
        "attribution",
        "bounds",
        "detect_retina",
        "format",
        "layers",
        "max_native_zoom",
        "max_zoom",
        "min_native_zoom",
        "min_zoom",
        "no_wrap",
        "styles",
        "tile_size",
        "tms",
        "transparent",
        "uppercase"
       ],
       "transparent": true,
       "url": "https://imagery.nationalmap.gov/arcgis/services/USGSNAIPImagery/ImageServer/WMSServer?"
      }
     },
     "35e383749f2546e5a4c7570b20426877": {
      "model_module": "@jupyter-widgets/base",
      "model_module_version": "1.2.0",
      "model_name": "LayoutModel",
      "state": {
       "height": "auto",
       "padding": "0px 0px 0px 4px",
       "width": "auto"
      }
     },
     "36cc8bcaa2304db1a5b5c7c8594cdc05": {
      "model_module": "@jupyter-widgets/controls",
      "model_module_version": "1.5.0",
      "model_name": "ButtonModel",
      "state": {
       "description": "Load Transects",
       "layout": "IPY_MODEL_3f31120d33bd485b8f4870befc0b6622",
       "style": "IPY_MODEL_bdcc6d88b15f49509645393d1edf6919"
      }
     },
     "37e02098fb4b45569e81f76e7cca4bdd": {
      "model_module": "@jupyter-widgets/controls",
      "model_module_version": "1.5.0",
      "model_name": "ButtonModel",
      "state": {
       "description": "Remove saved ROIs",
       "layout": "IPY_MODEL_271df7fece944ec289ce09936471a7e2",
       "style": "IPY_MODEL_4eece176415f43d58e1fda53936733e2"
      }
     },
     "3880ea550d704005b55c62952521a8f5": {
      "model_module": "@jupyter-widgets/base",
      "model_module_version": "1.2.0",
      "model_name": "LayoutModel",
      "state": {}
     },
     "38aa1f5d28dd4a82b6b06bc2ac33c578": {
      "model_module": "@jupyter-widgets/base",
      "model_module_version": "1.2.0",
      "model_name": "LayoutModel",
      "state": {
       "height": "auto",
       "padding": "0px 0px 0px 4px",
       "width": "auto"
      }
     },
     "38deb22f901245eeb3e2437878c9cdfb": {
      "model_module": "@jupyter-widgets/base",
      "model_module_version": "1.2.0",
      "model_name": "LayoutModel",
      "state": {}
     },
     "3aa3050b0c1748f38856fbe77a283693": {
      "model_module": "@jupyter-widgets/controls",
      "model_module_version": "1.5.0",
      "model_name": "ButtonModel",
      "state": {
       "description": "Run Model",
       "layout": "IPY_MODEL_2b8fb261818a4385b2b1709544d48609",
       "style": "IPY_MODEL_66db711283cd4499baff560e81030668"
      }
     },
     "3b2eacdb7b814e779abc3f58c35820a8": {
      "model_module": "jupyter-leaflet",
      "model_module_version": "^0.16.0",
      "model_name": "LeafletWMSLayerModel",
      "state": {
       "_model_module_version": "^0.16.0",
       "_view_module_version": "^0.16.0",
       "attribution": "ESA",
       "crs": {
        "custom": false,
        "name": "EPSG3857"
       },
       "format": "image/png",
       "layers": "WORLDCOVER_2020_S2_TCC",
       "max_native_zoom": 18,
       "min_native_zoom": 0,
       "name": "ESA Worldcover 2020 S2 TCC",
       "options": [
        "attribution",
        "bounds",
        "detect_retina",
        "format",
        "layers",
        "max_native_zoom",
        "max_zoom",
        "min_native_zoom",
        "min_zoom",
        "no_wrap",
        "styles",
        "tile_size",
        "tms",
        "transparent",
        "uppercase"
       ],
       "transparent": true,
       "url": "https://services.terrascope.be/wms/v2"
      }
     },
     "3cc755a5811246b596b8e064729aad60": {
      "model_module": "jupyter-leaflet",
      "model_module_version": "^0.16.0",
      "model_name": "LeafletTileLayerModel",
      "state": {
       "_model_module_version": "^0.16.0",
       "_view_module_version": "^0.16.0",
       "attribution": "Tiles courtesy of the U.S. Geological Survey",
       "max_native_zoom": 18,
       "max_zoom": 20,
       "min_native_zoom": 0,
       "name": "USGS.USTopo",
       "options": [
        "attribution",
        "bounds",
        "detect_retina",
        "max_native_zoom",
        "max_zoom",
        "min_native_zoom",
        "min_zoom",
        "no_wrap",
        "tile_size",
        "tms"
       ],
       "url": "https://basemap.nationalmap.gov/arcgis/rest/services/USGSTopo/MapServer/tile/{z}/{y}/{x}"
      }
     },
     "3cd9e33a4086492fa47c6d56b044f0e5": {
      "model_module": "@jupyter-widgets/controls",
      "model_module_version": "1.5.0",
      "model_name": "ButtonModel",
      "state": {
       "description": "Save ROI",
       "layout": "IPY_MODEL_4bf0a962bb214240b5788a71df4a3a33",
       "style": "IPY_MODEL_b9b542524b1f42328dbf8082f0fd6272"
      }
     },
     "3d7d03c1c0ce453aab66c8dc82427eb9": {
      "model_module": "@jupyter-widgets/base",
      "model_module_version": "1.2.0",
      "model_name": "LayoutModel",
      "state": {
       "padding": "10px"
      }
     },
     "3df656524ab34c369356ea156c2f93ca": {
      "model_module": "@jupyter-widgets/base",
      "model_module_version": "1.2.0",
      "model_name": "LayoutModel",
      "state": {}
     },
     "3e4963335a254ccb85f12c3ac6c87b48": {
      "model_module": "jupyter-leaflet",
      "model_module_version": "^0.16.0",
      "model_name": "LeafletTileLayerModel",
      "state": {
       "_model_module_version": "^0.16.0",
       "_view_module_version": "^0.16.0",
       "attribution": "Justice Map",
       "max_native_zoom": 18,
       "max_zoom": 22,
       "min_native_zoom": 0,
       "name": "JusticeMap.asian",
       "options": [
        "attribution",
        "bounds",
        "detect_retina",
        "max_native_zoom",
        "max_zoom",
        "min_native_zoom",
        "min_zoom",
        "no_wrap",
        "tile_size",
        "tms"
       ],
       "url": "https://www.justicemap.org/tile/county/asian/{z}/{x}/{y}.png"
      }
     },
     "3e52e9fe710e46d9823f9337af443031": {
      "model_module": "jupyter-leaflet",
      "model_module_version": "^0.16.0",
      "model_name": "LeafletTileLayerModel",
      "state": {
       "_model_module_version": "^0.16.0",
       "_view_module_version": "^0.16.0",
       "attribution": "Imagery provided by services from the Global Imagery Browse Services (GIBS), operated by the NASA/GSFC/Earth Science Data and Information System (ESDIS) with funding provided by NASA/HQ.",
       "max_native_zoom": 18,
       "max_zoom": 8,
       "min_native_zoom": 0,
       "name": "NASAGIBS.BlueMarble",
       "options": [
        "attribution",
        "bounds",
        "detect_retina",
        "max_native_zoom",
        "max_zoom",
        "min_native_zoom",
        "min_zoom",
        "no_wrap",
        "tile_size",
        "tms"
       ],
       "url": "https://gibs.earthdata.nasa.gov/wmts/epsg3857/best/BlueMarble_NextGeneration/default/EPSG3857_500m/{z}/{y}/{x}.jpeg"
      }
     },
     "3f31120d33bd485b8f4870befc0b6622": {
      "model_module": "@jupyter-widgets/base",
      "model_module_version": "1.2.0",
      "model_name": "LayoutModel",
      "state": {}
     },
     "3ff5c0b2e69d461eb6f4d82d8ae098c0": {
      "model_module": "jupyter-leaflet",
      "model_module_version": "^0.16.0",
      "model_name": "LeafletTileLayerModel",
      "state": {
       "_model_module_version": "^0.16.0",
       "_view_module_version": "^0.16.0",
       "attribution": "Tiles (C) Esri -- National Geographic, Esri, DeLorme, NAVTEQ, UNEP-WCMC, USGS, NASA, ESA, METI, NRCAN, GEBCO, NOAA, iPC",
       "max_native_zoom": 18,
       "max_zoom": 16,
       "min_native_zoom": 0,
       "name": "Esri.NatGeoWorldMap",
       "options": [
        "attribution",
        "bounds",
        "detect_retina",
        "max_native_zoom",
        "max_zoom",
        "min_native_zoom",
        "min_zoom",
        "no_wrap",
        "tile_size",
        "tms"
       ],
       "url": "https://server.arcgisonline.com/ArcGIS/rest/services/NatGeo_World_Map/MapServer/tile/{z}/{y}/{x}"
      }
     },
     "40fb70a77a53447b9b2453abc437d7bd": {
      "model_module": "jupyter-leaflet",
      "model_module_version": "^0.16.0",
      "model_name": "LeafletTileLayerModel",
      "state": {
       "_model_module_version": "^0.16.0",
       "_view_module_version": "^0.16.0",
       "attribution": "Tiles (C) Esri -- Source: USGS, Esri, TANA, DeLorme, and NPS",
       "max_native_zoom": 18,
       "max_zoom": 13,
       "min_native_zoom": 0,
       "name": "Esri.WorldTerrain",
       "options": [
        "attribution",
        "bounds",
        "detect_retina",
        "max_native_zoom",
        "max_zoom",
        "min_native_zoom",
        "min_zoom",
        "no_wrap",
        "tile_size",
        "tms"
       ],
       "url": "https://server.arcgisonline.com/ArcGIS/rest/services/World_Terrain_Base/MapServer/tile/{z}/{y}/{x}"
      }
     },
     "4100607e20764c8cbd70ac6725980492": {
      "model_module": "@jupyter-widgets/base",
      "model_module_version": "1.2.0",
      "model_name": "LayoutModel",
      "state": {
       "height": "auto",
       "padding": "0px 0px 0px 4px",
       "width": "auto"
      }
     },
     "413f91ed500a42a1b49fb99e1cb25ac6": {
      "model_module": "@jupyter-widgets/controls",
      "model_module_version": "1.5.0",
      "model_name": "VBoxModel",
      "state": {
       "children": [
        "IPY_MODEL_97770506d5174303bd477d962494d47a",
        "IPY_MODEL_e7cbe5bbfeb4411d8556c6d2b1563c5e",
        "IPY_MODEL_28a9997f89ec4dceafd7a5b1528d2101"
       ],
       "layout": "IPY_MODEL_52055e4e3a354174b43730d2111494a0"
      }
     },
     "419a7a73af6c40e6a5a30737b62310bd": {
      "model_module": "@jupyter-widgets/output",
      "model_module_version": "1.0.0",
      "model_name": "OutputModel",
      "state": {
       "layout": "IPY_MODEL_d135e20b190d420d8fc666b8d24cfea7",
       "outputs": [
        {
         "name": "stdout",
         "output_type": "stream",
         "text": "Loading transects please wait.\nLoading  CA_USA_transects.geojson\nSkipping  CA_USA_transects\nNo transects were found in this region. Draw a new bounding box.\nTransects Loaded.\n"
        }
       ]
      }
     },
     "4544912af7654977bdaafb574326abbc": {
      "model_module": "@jupyter-widgets/controls",
      "model_module_version": "1.5.0",
      "model_name": "ButtonModel",
      "state": {
       "description": "Load Shoreline",
       "layout": "IPY_MODEL_841f0919255f4cf0adc4827f307f75b0",
       "style": "IPY_MODEL_fe2cb002e797455d8d4264360649920e"
      }
     },
     "45665280fe394a1ab81f61ddb6558b08": {
      "model_module": "jupyter-leaflet",
      "model_module_version": "^0.16.0",
      "model_name": "LeafletWMSLayerModel",
      "state": {
       "_model_module_version": "^0.16.0",
       "_view_module_version": "^0.16.0",
       "attribution": "USGS",
       "crs": {
        "custom": false,
        "name": "EPSG3857"
       },
       "format": "image/png",
       "layers": "33DEPElevation:Hillshade Elevation Tinted",
       "max_native_zoom": 18,
       "min_native_zoom": 0,
       "name": "USGS 3DEP Elevation",
       "options": [
        "attribution",
        "bounds",
        "detect_retina",
        "format",
        "layers",
        "max_native_zoom",
        "max_zoom",
        "min_native_zoom",
        "min_zoom",
        "no_wrap",
        "styles",
        "tile_size",
        "tms",
        "transparent",
        "uppercase"
       ],
       "transparent": true,
       "url": "https://elevation.nationalmap.gov/arcgis/services/3DEPElevation/ImageServer/WMSServer?"
      }
     },
     "4567aad71f1c4253b6df51d1b2d93241": {
      "model_module": "@jupyter-widgets/controls",
      "model_module_version": "1.5.0",
      "model_name": "ToggleButtonModel",
      "state": {
       "icon": "server",
       "layout": "IPY_MODEL_78a30ecdc82841a6bc7d4619e077725c",
       "style": "IPY_MODEL_515259e535424228968ad9cf391ae43c",
       "tooltip": "Layers"
      }
     },
     "473bb3c547e444628c2be43f671e5749": {
      "model_module": "jupyter-leaflet",
      "model_module_version": "^0.16.0",
      "model_name": "LeafletGeoJSONModel",
      "state": {
       "_model_module_version": "^0.16.0",
       "_view_module_version": "^0.16.0",
       "data": {
        "features": [
         {
          "geometry": {
           "coordinates": [
            [
             [
              -121.51668099999998,
              35.999629
             ],
             [
              -121.51668099999998,
              36.05411684080844
             ],
             [
              -121.44930735369103,
              36.05411684080844
             ],
             [
              -121.44930735369103,
              35.999629
             ],
             [
              -121.51668099999998,
              35.999629
             ]
            ]
           ],
           "type": "Polygon"
          },
          "id": "0",
          "properties": {
           "CHLOROPHYLL": 2.417483,
           "CSU_Descriptor": "steeply sloping, straight, medium erodibility, warm temperate dry, low river discharge, moderate wave energy, moderately tidal, euhaline-oxic-moderate to cool, clear, moderate chlorophyll",
           "CSU_ID": 70981,
           "Cluster": 6,
           "EMU_PHYSICAL": "Euhaline-Oxic-Moderate to Cool",
           "ERODIBILITY": "Medium",
           "GHM": 0.10134,
           "LENGTH_GEO": 808.8271837845471,
           "MAX_SLOPE": 152.033411,
           "MEAN_SIG_WAVEHEIGHT": 1.687268,
           "MasterKey": 2753662,
           "OBJECTID": 2753662,
           "OUTFLOW_DENSITY": 8671.790039,
           "OUTFLOW_DENSITY_RESCALED": 1.0484883786709782e-05,
           "REGIONAL_SINUOSITY": 1.140924,
           "RandomSort": 297054.39133329,
           "Shape_Length": 0.008495092439177234,
           "TEMP_MOISTURE": "Warm Temperate Dry",
           "TIDAL_RANGE": 2.410373,
           "TURBIDITY": 0.024533,
           "chl_label": "moderate chlorophyll",
           "id": 0,
           "index_right": 1971,
           "river_label": "low river discharge",
           "sinuosity_label": "straight",
           "slope_label": "steeply sloping",
           "style": {
            "color": "black",
            "fillColor": "grey",
            "fillOpacity": 0.1,
            "weight": 3
           },
           "tidal_label": "moderately tidal",
           "turbid_label": "clear",
           "wave_label": "moderate wave energy"
          },
          "type": "Feature"
         },
         {
          "geometry": {
           "coordinates": [
            [
             [
              -121.51668099999998,
              35.999629
             ],
             [
              -121.51668099999998,
              36.05411684080844
             ],
             [
              -121.44930735369103,
              36.05411684080844
             ],
             [
              -121.44930735369103,
              35.999629
             ],
             [
              -121.51668099999998,
              35.999629
             ]
            ]
           ],
           "type": "Polygon"
          },
          "id": "1",
          "properties": {
           "CHLOROPHYLL": 2.417483,
           "CSU_Descriptor": "steeply sloping, straight, medium erodibility, warm temperate dry, low river discharge, moderate wave energy, moderately tidal, euhaline-oxic-moderate to cool, clear, moderate chlorophyll",
           "CSU_ID": 70981,
           "Cluster": 6,
           "EMU_PHYSICAL": "Euhaline-Oxic-Moderate to Cool",
           "ERODIBILITY": "Medium",
           "GHM": 0.057545,
           "LENGTH_GEO": 808.7053256467224,
           "MAX_SLOPE": 108.650524,
           "MEAN_SIG_WAVEHEIGHT": 1.687268,
           "MasterKey": 2753663,
           "OBJECTID": 2753663,
           "OUTFLOW_DENSITY": 8671.790039,
           "OUTFLOW_DENSITY_RESCALED": 1.0484883786709782e-05,
           "REGIONAL_SINUOSITY": 1.140924,
           "RandomSort": 2361457.62831946,
           "Shape_Length": 0.008435847190592267,
           "TEMP_MOISTURE": "Warm Temperate Dry",
           "TIDAL_RANGE": 2.410373,
           "TURBIDITY": 0.024533,
           "chl_label": "moderate chlorophyll",
           "id": 1,
           "index_right": 1970,
           "river_label": "low river discharge",
           "sinuosity_label": "straight",
           "slope_label": "steeply sloping",
           "style": {
            "color": "black",
            "fillColor": "grey",
            "fillOpacity": 0.1,
            "weight": 3
           },
           "tidal_label": "moderately tidal",
           "turbid_label": "clear",
           "wave_label": "moderate wave energy"
          },
          "type": "Feature"
         },
         {
          "geometry": {
           "coordinates": [
            [
             [
              -121.51668099999998,
              35.999629
             ],
             [
              -121.51668099999998,
              36.05411684080844
             ],
             [
              -121.44930735369103,
              36.05411684080844
             ],
             [
              -121.44930735369103,
              35.999629
             ],
             [
              -121.51668099999998,
              35.999629
             ]
            ]
           ],
           "type": "Polygon"
          },
          "id": "2",
          "properties": {
           "CHLOROPHYLL": 2.417483,
           "CSU_Descriptor": "steeply sloping, straight, medium erodibility, warm temperate dry, low river discharge, moderate wave energy, moderately tidal, euhaline-oxic-moderate to cool, clear, moderate chlorophyll",
           "CSU_ID": 70981,
           "Cluster": 6,
           "EMU_PHYSICAL": "Euhaline-Oxic-Moderate to Cool",
           "ERODIBILITY": "Medium",
           "GHM": 0.089518,
           "LENGTH_GEO": 808.1809419432676,
           "MAX_SLOPE": 165.651852,
           "MEAN_SIG_WAVEHEIGHT": 1.687268,
           "MasterKey": 2753664,
           "OBJECTID": 2753664,
           "OUTFLOW_DENSITY": 8671.790039,
           "OUTFLOW_DENSITY_RESCALED": 1.0484883786709782e-05,
           "REGIONAL_SINUOSITY": 1.140924,
           "RandomSort": 529649.555212264,
           "Shape_Length": 0.00817329505061152,
           "TEMP_MOISTURE": "Warm Temperate Dry",
           "TIDAL_RANGE": 2.410373,
           "TURBIDITY": 0.024533,
           "chl_label": "moderate chlorophyll",
           "id": 2,
           "index_right": 1969,
           "river_label": "low river discharge",
           "sinuosity_label": "straight",
           "slope_label": "steeply sloping",
           "style": {
            "color": "black",
            "fillColor": "grey",
            "fillOpacity": 0.1,
            "weight": 3
           },
           "tidal_label": "moderately tidal",
           "turbid_label": "clear",
           "wave_label": "moderate wave energy"
          },
          "type": "Feature"
         },
         {
          "geometry": {
           "coordinates": [
            [
             [
              -121.51668099999998,
              35.999629
             ],
             [
              -121.51668099999998,
              36.03595841454629
             ],
             [
              -121.47176523579402,
              36.03595841454629
             ],
             [
              -121.47176523579402,
              35.999629
             ],
             [
              -121.51668099999998,
              35.999629
             ]
            ]
           ],
           "type": "Polygon"
          },
          "id": "3",
          "properties": {
           "CHLOROPHYLL": 2.417483,
           "CSU_Descriptor": "steeply sloping, straight, medium erodibility, warm temperate dry, low river discharge, moderate wave energy, moderately tidal, euhaline-oxic-moderate to cool, clear, moderate chlorophyll",
           "CSU_ID": 70981,
           "Cluster": 6,
           "EMU_PHYSICAL": "Euhaline-Oxic-Moderate to Cool",
           "ERODIBILITY": "Medium",
           "GHM": 0.10134,
           "LENGTH_GEO": 808.8271837845471,
           "MAX_SLOPE": 152.033411,
           "MEAN_SIG_WAVEHEIGHT": 1.687268,
           "MasterKey": 2753662,
           "OBJECTID": 2753662,
           "OUTFLOW_DENSITY": 8671.790039,
           "OUTFLOW_DENSITY_RESCALED": 1.0484883786709782e-05,
           "REGIONAL_SINUOSITY": 1.140924,
           "RandomSort": 297054.39133329,
           "Shape_Length": 0.008495092439177234,
           "TEMP_MOISTURE": "Warm Temperate Dry",
           "TIDAL_RANGE": 2.410373,
           "TURBIDITY": 0.024533,
           "chl_label": "moderate chlorophyll",
           "id": 3,
           "index_right": 1971,
           "river_label": "low river discharge",
           "sinuosity_label": "straight",
           "slope_label": "steeply sloping",
           "style": {
            "color": "black",
            "fillColor": "grey",
            "fillOpacity": 0.1,
            "weight": 3
           },
           "tidal_label": "moderately tidal",
           "turbid_label": "clear",
           "wave_label": "moderate wave energy"
          },
          "type": "Feature"
         },
         {
          "geometry": {
           "coordinates": [
            [
             [
              -121.51668099999998,
              35.999629
             ],
             [
              -121.51668099999998,
              36.03595841454629
             ],
             [
              -121.47176523579402,
              36.03595841454629
             ],
             [
              -121.47176523579402,
              35.999629
             ],
             [
              -121.51668099999998,
              35.999629
             ]
            ]
           ],
           "type": "Polygon"
          },
          "id": "4",
          "properties": {
           "CHLOROPHYLL": 2.417483,
           "CSU_Descriptor": "steeply sloping, straight, medium erodibility, warm temperate dry, low river discharge, moderate wave energy, moderately tidal, euhaline-oxic-moderate to cool, clear, moderate chlorophyll",
           "CSU_ID": 70981,
           "Cluster": 6,
           "EMU_PHYSICAL": "Euhaline-Oxic-Moderate to Cool",
           "ERODIBILITY": "Medium",
           "GHM": 0.057545,
           "LENGTH_GEO": 808.7053256467224,
           "MAX_SLOPE": 108.650524,
           "MEAN_SIG_WAVEHEIGHT": 1.687268,
           "MasterKey": 2753663,
           "OBJECTID": 2753663,
           "OUTFLOW_DENSITY": 8671.790039,
           "OUTFLOW_DENSITY_RESCALED": 1.0484883786709782e-05,
           "REGIONAL_SINUOSITY": 1.140924,
           "RandomSort": 2361457.62831946,
           "Shape_Length": 0.008435847190592267,
           "TEMP_MOISTURE": "Warm Temperate Dry",
           "TIDAL_RANGE": 2.410373,
           "TURBIDITY": 0.024533,
           "chl_label": "moderate chlorophyll",
           "id": 4,
           "index_right": 1970,
           "river_label": "low river discharge",
           "sinuosity_label": "straight",
           "slope_label": "steeply sloping",
           "style": {
            "color": "black",
            "fillColor": "grey",
            "fillOpacity": 0.1,
            "weight": 3
           },
           "tidal_label": "moderately tidal",
           "turbid_label": "clear",
           "wave_label": "moderate wave energy"
          },
          "type": "Feature"
         },
         {
          "geometry": {
           "coordinates": [
            [
             [
              -121.51668099999998,
              35.999629
             ],
             [
              -121.51668099999998,
              36.03595841454629
             ],
             [
              -121.47176523579402,
              36.03595841454629
             ],
             [
              -121.47176523579402,
              35.999629
             ],
             [
              -121.51668099999998,
              35.999629
             ]
            ]
           ],
           "type": "Polygon"
          },
          "id": "5",
          "properties": {
           "CHLOROPHYLL": 2.417483,
           "CSU_Descriptor": "steeply sloping, straight, medium erodibility, warm temperate dry, low river discharge, moderate wave energy, moderately tidal, euhaline-oxic-moderate to cool, clear, moderate chlorophyll",
           "CSU_ID": 70981,
           "Cluster": 6,
           "EMU_PHYSICAL": "Euhaline-Oxic-Moderate to Cool",
           "ERODIBILITY": "Medium",
           "GHM": 0.089518,
           "LENGTH_GEO": 808.1809419432676,
           "MAX_SLOPE": 165.651852,
           "MEAN_SIG_WAVEHEIGHT": 1.687268,
           "MasterKey": 2753664,
           "OBJECTID": 2753664,
           "OUTFLOW_DENSITY": 8671.790039,
           "OUTFLOW_DENSITY_RESCALED": 1.0484883786709782e-05,
           "REGIONAL_SINUOSITY": 1.140924,
           "RandomSort": 529649.555212264,
           "Shape_Length": 0.00817329505061152,
           "TEMP_MOISTURE": "Warm Temperate Dry",
           "TIDAL_RANGE": 2.410373,
           "TURBIDITY": 0.024533,
           "chl_label": "moderate chlorophyll",
           "id": 5,
           "index_right": 1969,
           "river_label": "low river discharge",
           "sinuosity_label": "straight",
           "slope_label": "steeply sloping",
           "style": {
            "color": "black",
            "fillColor": "grey",
            "fillOpacity": 0.1,
            "weight": 3
           },
           "tidal_label": "moderately tidal",
           "turbid_label": "clear",
           "wave_label": "moderate wave energy"
          },
          "type": "Feature"
         }
        ],
        "type": "FeatureCollection"
       },
       "hover_style": {
        "color": "crimson",
        "fillColor": "red"
       },
       "name": "GeoJSON data"
      }
     },
     "493b22122c04446b9a9a518d6889f1f0": {
      "model_module": "jupyter-leaflet",
      "model_module_version": "^0.16.0",
      "model_name": "LeafletTileLayerModel",
      "state": {
       "_model_module_version": "^0.16.0",
       "_view_module_version": "^0.16.0",
       "attribution": "Datenquelle: basemap.at",
       "max_native_zoom": 18,
       "max_zoom": 20,
       "min_native_zoom": 0,
       "name": "BasemapAT.orthofoto",
       "options": [
        "attribution",
        "bounds",
        "detect_retina",
        "max_native_zoom",
        "max_zoom",
        "min_native_zoom",
        "min_zoom",
        "no_wrap",
        "tile_size",
        "tms"
       ],
       "url": "https://maps.wien.gv.at/basemap/bmaporthofoto30cm/normal/google3857/{z}/{y}/{x}.jpeg"
      }
     },
     "49597e4f28da4ca698b8d6aac326c586": {
      "model_module": "jupyter-leaflet",
      "model_module_version": "^0.16.0",
      "model_name": "LeafletTileLayerModel",
      "state": {
       "_model_module_version": "^0.16.0",
       "_view_module_version": "^0.16.0",
       "attribution": "Datenquelle: basemap.at",
       "max_native_zoom": 18,
       "max_zoom": 19,
       "min_native_zoom": 0,
       "name": "BasemapAT.overlay",
       "options": [
        "attribution",
        "bounds",
        "detect_retina",
        "max_native_zoom",
        "max_zoom",
        "min_native_zoom",
        "min_zoom",
        "no_wrap",
        "tile_size",
        "tms"
       ],
       "url": "https://maps.wien.gv.at/basemap/bmapoverlay/normal/google3857/{z}/{y}/{x}.png"
      }
     },
     "4b698c5b89bf4fc8892d4251b043d228": {
      "model_module": "jupyter-leaflet",
      "model_module_version": "^0.16.0",
      "model_name": "LeafletTileLayerModel",
      "state": {
       "_model_module_version": "^0.16.0",
       "_view_module_version": "^0.16.0",
       "attribution": "(C) OpenStreetMap contributors, vizualization CC-By-SA 2.0 Freemap.sk",
       "max_native_zoom": 18,
       "max_zoom": 16,
       "min_native_zoom": 0,
       "name": "FreeMapSK",
       "options": [
        "attribution",
        "bounds",
        "detect_retina",
        "max_native_zoom",
        "max_zoom",
        "min_native_zoom",
        "min_zoom",
        "no_wrap",
        "tile_size",
        "tms"
       ],
       "url": "https://a.freemap.sk/T/{z}/{x}/{y}.jpeg"
      }
     },
     "4bb4278024e6467694e3ba4241520937": {
      "model_module": "@jupyter-widgets/base",
      "model_module_version": "1.2.0",
      "model_name": "LayoutModel",
      "state": {}
     },
     "4bf0a962bb214240b5788a71df4a3a33": {
      "model_module": "@jupyter-widgets/base",
      "model_module_version": "1.2.0",
      "model_name": "LayoutModel",
      "state": {}
     },
     "4bfb4070595f49cd8864142da9131e25": {
      "model_module": "jupyter-leaflet",
      "model_module_version": "^0.16.0",
      "model_name": "LeafletTileLayerModel",
      "state": {
       "_model_module_version": "^0.16.0",
       "_view_module_version": "^0.16.0",
       "attribution": "Tiles (C) Esri -- Esri, DeLorme, NAVTEQ",
       "max_native_zoom": 18,
       "max_zoom": 16,
       "min_native_zoom": 0,
       "name": "Esri.WorldGrayCanvas",
       "options": [
        "attribution",
        "bounds",
        "detect_retina",
        "max_native_zoom",
        "max_zoom",
        "min_native_zoom",
        "min_zoom",
        "no_wrap",
        "tile_size",
        "tms"
       ],
       "url": "https://server.arcgisonline.com/ArcGIS/rest/services/Canvas/World_Light_Gray_Base/MapServer/tile/{z}/{y}/{x}"
      }
     },
     "4de7610c1f10461292234e9f1477db26": {
      "model_module": "jupyter-leaflet",
      "model_module_version": "^0.16.0",
      "model_name": "LeafletTileLayerModel",
      "state": {
       "_model_module_version": "^0.16.0",
       "_view_module_version": "^0.16.0",
       "attribution": "© swisstopo",
       "max_native_zoom": 18,
       "min_native_zoom": 0,
       "name": "SwissFederalGeoportal.NationalMapGrey",
       "options": [
        "attribution",
        "bounds",
        "detect_retina",
        "max_native_zoom",
        "max_zoom",
        "min_native_zoom",
        "min_zoom",
        "no_wrap",
        "tile_size",
        "tms"
       ],
       "url": "https://wmts.geo.admin.ch/1.0.0/ch.swisstopo.pixelkarte-grau/default/current/3857/{z}/{x}/{y}.jpeg"
      }
     },
     "4eece176415f43d58e1fda53936733e2": {
      "model_module": "@jupyter-widgets/controls",
      "model_module_version": "1.5.0",
      "model_name": "ButtonStyleModel",
      "state": {}
     },
     "4efae7085c844a8ab2d843f2c33abb9f": {
      "model_module": "ipyevents",
      "model_module_version": "2.0.1",
      "model_name": "EventModel",
      "state": {
       "_supported_key_events": [
        "keydown",
        "keyup"
       ],
       "_supported_mouse_events": [
        "click",
        "auxclick",
        "dblclick",
        "mouseenter",
        "mouseleave",
        "mousedown",
        "mouseup",
        "mousemove",
        "wheel",
        "contextmenu",
        "dragstart",
        "drag",
        "dragend",
        "dragenter",
        "dragover",
        "dragleave",
        "drop"
       ],
       "_supported_touch_events": [
        "touchstart",
        "touchend",
        "touchmove",
        "touchcancel"
       ],
       "_view_module": "@jupyter-widgets/controls",
       "_view_module_version": "1.5.0",
       "source": "IPY_MODEL_faee565378c0433c932b72228886525f",
       "throttle_or_debounce": "",
       "watched_events": [
        "mouseenter",
        "mouseleave"
       ],
       "xy_coordinate_system": ""
      }
     },
     "4f2e7e3e2f51420fa4e7059733ce0c34": {
      "model_module": "@jupyter-widgets/controls",
      "model_module_version": "1.5.0",
      "model_name": "DescriptionStyleModel",
      "state": {
       "description_width": ""
      }
     },
     "4f48f96e82d5438d86adceb3e62cb376": {
      "model_module": "@jupyter-widgets/output",
      "model_module_version": "1.0.0",
      "model_name": "OutputModel",
      "state": {
       "layout": "IPY_MODEL_bc79fcbdd17c4cab9a6c7a7bc43a7660",
       "outputs": [
        {
         "name": "stdout",
         "output_type": "stream",
         "text": "Loading in the jpgs from the data directory\nRenamed files in C:\\1_USGS\\CoastSeg\\repos\\2_CoastSeg\\CoastSeg_fork\\Seg2Map\\data \n\nCopied files that matched C:\\1_USGS\\CoastSeg\\repos\\2_CoastSeg\\CoastSeg_fork\\Seg2Map\\data\\**\\\\**\\preprocessed\\*.jpg  \nto C:\\1_USGS\\CoastSeg\\repos\\2_CoastSeg\\CoastSeg_fork\\Seg2Map\\segmentation_data_2022-08-10__18_hr_08_min16\n\nContents of the data directory saved in C:\\1_USGS\\CoastSeg\\repos\\2_CoastSeg\\CoastSeg_fork\\Seg2Map\\segmentation_data_2022-08-10__18_hr_08_min16\n"
        }
       ]
      }
     },
     "4f6a3aa3a29c4da386f9462b78c0ec9e": {
      "model_module": "@jupyter-widgets/controls",
      "model_module_version": "1.5.0",
      "model_name": "VBoxModel",
      "state": {
       "children": [
        "IPY_MODEL_2ad78925e22b4f25886aa4c33442c1b9"
       ],
       "layout": "IPY_MODEL_69f089e5b83749e9973bc6219f668625"
      }
     },
     "5016bb8d2f4d4c6eb5ce9f457bb7c332": {
      "model_module": "@jupyter-widgets/controls",
      "model_module_version": "1.5.0",
      "model_name": "DescriptionStyleModel",
      "state": {
       "description_width": ""
      }
     },
     "50d74291d0834869aeedfa23cc753666": {
      "model_module": "jupyter-leaflet",
      "model_module_version": "^0.16.0",
      "model_name": "LeafletTileLayerModel",
      "state": {
       "_model_module_version": "^0.16.0",
       "_view_module_version": "^0.16.0",
       "attribution": "Map tiles by Stamen Design, CC BY 3.0 -- Map data (C) OpenStreetMap contributors",
       "max_native_zoom": 18,
       "max_zoom": 20,
       "min_native_zoom": 0,
       "name": "Stamen.TonerLabels",
       "options": [
        "attribution",
        "bounds",
        "detect_retina",
        "max_native_zoom",
        "max_zoom",
        "min_native_zoom",
        "min_zoom",
        "no_wrap",
        "tile_size",
        "tms"
       ],
       "url": "https://stamen-tiles-a.a.ssl.fastly.net/toner-labels/{z}/{x}/{y}.png"
      }
     },
     "5128cef7df8a433b817e09eee057df24": {
      "model_module": "@jupyter-widgets/controls",
      "model_module_version": "1.5.0",
      "model_name": "ButtonStyleModel",
      "state": {}
     },
     "515259e535424228968ad9cf391ae43c": {
      "model_module": "@jupyter-widgets/controls",
      "model_module_version": "1.5.0",
      "model_name": "DescriptionStyleModel",
      "state": {
       "description_width": ""
      }
     },
     "52055e4e3a354174b43730d2111494a0": {
      "model_module": "@jupyter-widgets/base",
      "model_module_version": "1.2.0",
      "model_name": "LayoutModel",
      "state": {}
     },
     "5425fdf6b74e40688397b04bed8bedc5": {
      "model_module": "jupyter-leaflet",
      "model_module_version": "^0.16.0",
      "model_name": "LeafletWMSLayerModel",
      "state": {
       "_model_module_version": "^0.16.0",
       "_view_module_version": "^0.16.0",
       "attribution": "MRLC",
       "crs": {
        "custom": false,
        "name": "EPSG3857"
       },
       "format": "image/png",
       "layers": "NLCD_2004_Land_Cover_L48",
       "max_native_zoom": 18,
       "min_native_zoom": 0,
       "name": "NLCD 2004 CONUS Land Cover",
       "options": [
        "attribution",
        "bounds",
        "detect_retina",
        "format",
        "layers",
        "max_native_zoom",
        "max_zoom",
        "min_native_zoom",
        "min_zoom",
        "no_wrap",
        "styles",
        "tile_size",
        "tms",
        "transparent",
        "uppercase"
       ],
       "transparent": true,
       "url": "https://www.mrlc.gov/geoserver/mrlc_display/NLCD_2004_Land_Cover_L48/wms?"
      }
     },
     "54e494273a2244be8cdd67de783b4c80": {
      "model_module": "jupyter-leaflet",
      "model_module_version": "^0.16.0",
      "model_name": "LeafletTileLayerModel",
      "state": {
       "_model_module_version": "^0.16.0",
       "_view_module_version": "^0.16.0",
       "attribution": "Imagery provided by services from the Global Imagery Browse Services (GIBS), operated by the NASA/GSFC/Earth Science Data and Information System (ESDIS) with funding provided by NASA/HQ.",
       "max_native_zoom": 18,
       "max_zoom": 8,
       "min_native_zoom": 0,
       "name": "NASAGIBS.ViirsEarthAtNight2012",
       "options": [
        "attribution",
        "bounds",
        "detect_retina",
        "max_native_zoom",
        "max_zoom",
        "min_native_zoom",
        "min_zoom",
        "no_wrap",
        "tile_size",
        "tms"
       ],
       "url": "https://map1.vis.earthdata.nasa.gov/wmts-webmerc/VIIRS_CityLights_2012/default//GoogleMapsCompatible_Level8/{z}/{y}/{x}.jpg"
      }
     },
     "54ea470250a24c7781748e43779b70f8": {
      "model_module": "@jupyter-widgets/controls",
      "model_module_version": "1.5.0",
      "model_name": "DescriptionStyleModel",
      "state": {
       "description_width": ""
      }
     },
     "5546f9d8b3ae4b7b89cddedce96044b2": {
      "model_module": "jupyter-leaflet",
      "model_module_version": "^0.16.0",
      "model_name": "LeafletTileLayerModel",
      "state": {
       "_model_module_version": "^0.16.0",
       "_view_module_version": "^0.16.0",
       "attribution": "Imagery provided by NOAA National Centers for Environmental Information (NCEI); International Bathymetric Chart of the Southern Ocean (IBCSO); General Bathymetric Chart of the Oceans (GEBCO).",
       "max_native_zoom": 18,
       "max_zoom": 9,
       "min_native_zoom": 0,
       "name": "Esri.AntarcticBasemap",
       "options": [
        "attribution",
        "bounds",
        "detect_retina",
        "max_native_zoom",
        "max_zoom",
        "min_native_zoom",
        "min_zoom",
        "no_wrap",
        "tile_size",
        "tms"
       ],
       "url": "https://tiles.arcgis.com/tiles/C8EMgrsFcRFL6LrL/arcgis/rest/services/Antarctic_Basemap/MapServer/tile/{z}/{y}/{x}"
      }
     },
     "563fbdb1a6c74a58aefe0663cfe8b857": {
      "model_module": "@jupyter-widgets/controls",
      "model_module_version": "1.5.0",
      "model_name": "DescriptionStyleModel",
      "state": {
       "description_width": ""
      }
     },
     "563fef7718814642a665c10c9a067d7c": {
      "model_module": "@jupyter-widgets/base",
      "model_module_version": "1.2.0",
      "model_name": "LayoutModel",
      "state": {}
     },
     "577daabbd4ad4c38bf44972fbff13650": {
      "model_module": "@jupyter-widgets/base",
      "model_module_version": "1.2.0",
      "model_name": "LayoutModel",
      "state": {}
     },
     "57de201a56c641d8a727d4a2788c59ce": {
      "model_module": "jupyter-leaflet",
      "model_module_version": "^0.16.0",
      "model_name": "LeafletTileLayerModel",
      "state": {
       "_model_module_version": "^0.16.0",
       "_view_module_version": "^0.16.0",
       "attribution": "![](https://docs.onemap.sg/maps/images/oneMap64-01.png) New OneMap | Map data (C) contributors, Singapore Land Authority",
       "max_native_zoom": 18,
       "min_native_zoom": 0,
       "name": "OneMapSG.Night",
       "options": [
        "attribution",
        "bounds",
        "detect_retina",
        "max_native_zoom",
        "max_zoom",
        "min_native_zoom",
        "min_zoom",
        "no_wrap",
        "tile_size",
        "tms"
       ],
       "url": "https://maps-a.onemap.sg/v3/Night/{z}/{x}/{y}.png"
      }
     },
     "58b3b3eabd434c658e6428e2cc86b065": {
      "model_module": "jupyter-leaflet",
      "model_module_version": "^0.16.0",
      "model_name": "LeafletTileLayerModel",
      "state": {
       "_model_module_version": "^0.16.0",
       "_view_module_version": "^0.16.0",
       "attribution": "Imagery provided by services from the Global Imagery Browse Services (GIBS), operated by the NASA/GSFC/Earth Science Data and Information System (ESDIS) with funding provided by NASA/HQ.",
       "max_native_zoom": 18,
       "max_zoom": 9,
       "min_native_zoom": 0,
       "name": "NASAGIBS.ModisTerraBands721CR",
       "options": [
        "attribution",
        "bounds",
        "detect_retina",
        "max_native_zoom",
        "max_zoom",
        "min_native_zoom",
        "min_zoom",
        "no_wrap",
        "tile_size",
        "tms"
       ],
       "url": "https://gibs.earthdata.nasa.gov/wmts/epsg3857/best/MODIS_Terra_CorrectedReflectance_Bands721/default//GoogleMapsCompatible_Level9/{z}/{y}/{x}.jpg"
      }
     },
     "59677ae0d4344c72950066d1e9f2dc9e": {
      "model_module": "@jupyter-widgets/base",
      "model_module_version": "1.2.0",
      "model_name": "LayoutModel",
      "state": {}
     },
     "59cf3ae0d1274dd9aa02b5bfd093cc72": {
      "model_module": "@jupyter-widgets/controls",
      "model_module_version": "1.5.0",
      "model_name": "DescriptionStyleModel",
      "state": {
       "description_width": ""
      }
     },
     "5b95a512e0f94fe1a2b5f6893f47d29a": {
      "model_module": "jupyter-leaflet",
      "model_module_version": "^0.16.0",
      "model_name": "LeafletScaleControlModel",
      "state": {
       "_model_module_version": "^0.16.0",
       "_view_module_version": "^0.16.0",
       "imperial": true,
       "max_width": 100,
       "metric": true,
       "options": [
        "imperial",
        "max_width",
        "metric",
        "position",
        "update_when_idle"
       ],
       "position": "bottomleft",
       "update_when_idle": false
      }
     },
     "5beb1903785c44279270f65fcdb88fba": {
      "model_module": "jupyter-leaflet",
      "model_module_version": "^0.16.0",
      "model_name": "LeafletTileLayerModel",
      "state": {
       "_model_module_version": "^0.16.0",
       "_view_module_version": "^0.16.0",
       "attribution": "Kaartgegevens (C) Kadaster",
       "max_native_zoom": 18,
       "max_zoom": 19,
       "min_native_zoom": 0,
       "name": "nlmaps.grijs",
       "options": [
        "attribution",
        "bounds",
        "detect_retina",
        "max_native_zoom",
        "max_zoom",
        "min_native_zoom",
        "min_zoom",
        "no_wrap",
        "tile_size",
        "tms"
       ],
       "url": "https://service.pdok.nl/brt/achtergrondkaart/wmts/v2_0/grijs/EPSG:3857/{z}/{x}/{y}.png"
      }
     },
     "5bf305ec9c354dbb83e289727c07c0d1": {
      "model_module": "@jupyter-widgets/controls",
      "model_module_version": "1.5.0",
      "model_name": "SelectMultipleModel",
      "state": {
       "_options_labels": [
        "L5",
        "L7",
        "L8",
        "S2"
       ],
       "description": "Satellites",
       "index": [
        2
       ],
       "layout": "IPY_MODEL_f122434a04bc4239824cdce2f8421505",
       "rows": 5,
       "style": "IPY_MODEL_8767d58227bc4ffa8bc48910b302196f"
      }
     },
     "5c047711f91c4b66a1f2a21cceb45c8e": {
      "model_module": "jupyter-leaflet",
      "model_module_version": "^0.16.0",
      "model_name": "LeafletTileLayerModel",
      "state": {
       "_model_module_version": "^0.16.0",
       "_view_module_version": "^0.16.0",
       "attribution": "Justice Map",
       "max_native_zoom": 18,
       "max_zoom": 22,
       "min_native_zoom": 0,
       "name": "JusticeMap.americanIndian",
       "options": [
        "attribution",
        "bounds",
        "detect_retina",
        "max_native_zoom",
        "max_zoom",
        "min_native_zoom",
        "min_zoom",
        "no_wrap",
        "tile_size",
        "tms"
       ],
       "url": "https://www.justicemap.org/tile/county/indian/{z}/{x}/{y}.png"
      }
     },
     "5c6b932e0dcd49829d384a6875cdd823": {
      "model_module": "jupyter-leaflet",
      "model_module_version": "^0.16.0",
      "model_name": "LeafletTileLayerModel",
      "state": {
       "_model_module_version": "^0.16.0",
       "_view_module_version": "^0.16.0",
       "attribution": "Imagery provided by services from the Global Imagery Browse Services (GIBS), operated by the NASA/GSFC/Earth Science Data and Information System (ESDIS) with funding provided by NASA/HQ.",
       "max_native_zoom": 18,
       "max_zoom": 7,
       "min_native_zoom": 0,
       "name": "NASAGIBS.ModisTerraLSTDay",
       "options": [
        "attribution",
        "bounds",
        "detect_retina",
        "max_native_zoom",
        "max_zoom",
        "min_native_zoom",
        "min_zoom",
        "no_wrap",
        "tile_size",
        "tms"
       ],
       "url": "https://map1.vis.earthdata.nasa.gov/wmts-webmerc/MODIS_Terra_Land_Surface_Temp_Day/default//GoogleMapsCompatible_Level7/{z}/{y}/{x}.png"
      }
     },
     "5c7f2e66e04448db8152c899335a7db6": {
      "model_module": "jupyter-leaflet",
      "model_module_version": "^0.16.0",
      "model_name": "LeafletTileLayerModel",
      "state": {
       "_model_module_version": "^0.16.0",
       "_view_module_version": "^0.16.0",
       "attribution": "Imagery provided by services from the Global Imagery Browse Services (GIBS), operated by the NASA/GSFC/Earth Science Data and Information System (ESDIS) with funding provided by NASA/HQ.",
       "max_native_zoom": 18,
       "max_zoom": 5,
       "min_native_zoom": 0,
       "name": "NASAGIBS.BlueMarble3413",
       "options": [
        "attribution",
        "bounds",
        "detect_retina",
        "max_native_zoom",
        "max_zoom",
        "min_native_zoom",
        "min_zoom",
        "no_wrap",
        "tile_size",
        "tms"
       ],
       "url": "https://gibs.earthdata.nasa.gov/wmts/epsg3413/best/BlueMarble_NextGeneration/default/EPSG3413_500m/{z}/{y}/{x}.jpeg"
      }
     },
     "5c800e5d80f94b648148d636634a9dfd": {
      "model_module": "@jupyter-widgets/controls",
      "model_module_version": "1.5.0",
      "model_name": "HTMLModel",
      "state": {
       "layout": "IPY_MODEL_2f608cdfda9c4a8292a18d5bf21a1716",
       "style": "IPY_MODEL_ce63d07ad75f4d06bc0ef27bb55216eb",
       "value": "<b>2. Select Images Button</b>         <br> - This will open a pop up window where the folder containing the jpgs can be selected.<br>             - The model will be applied to this folder and the model outputs will be generated within a subdirectory             called 'out'<br>      - <span style=\"background-color:yellow;\">WARNING :</span> You will not be able to see the files within the folder you select.<br>    "
      }
     },
     "5cc7c8945cae4ec29c5dee21000b5b3f": {
      "model_module": "jupyter-leaflet",
      "model_module_version": "^0.16.0",
      "model_name": "LeafletTileLayerModel",
      "state": {
       "_model_module_version": "^0.16.0",
       "_view_module_version": "^0.16.0",
       "attribution": "Map data: (C) OpenStreetMap contributors | Map style: (C) OpenRailwayMap (CC-BY-SA)",
       "max_native_zoom": 18,
       "max_zoom": 19,
       "min_native_zoom": 0,
       "name": "OpenRailwayMap",
       "options": [
        "attribution",
        "bounds",
        "detect_retina",
        "max_native_zoom",
        "max_zoom",
        "min_native_zoom",
        "min_zoom",
        "no_wrap",
        "tile_size",
        "tms"
       ],
       "url": "https://a.tiles.openrailwaymap.org/standard/{z}/{x}/{y}.png"
      }
     },
     "5ee8223682e446f0a0f0ae5f016cf734": {
      "model_module": "jupyter-leaflet",
      "model_module_version": "^0.16.0",
      "model_name": "LeafletTileLayerModel",
      "state": {
       "_model_module_version": "^0.16.0",
       "_view_module_version": "^0.16.0",
       "attribution": "Imagery provided by services from the Global Imagery Browse Services (GIBS), operated by the NASA/GSFC/Earth Science Data and Information System (ESDIS) with funding provided by NASA/HQ.",
       "max_native_zoom": 18,
       "max_zoom": 9,
       "min_native_zoom": 0,
       "name": "NASAGIBS.ModisTerraTrueColorCR",
       "options": [
        "attribution",
        "bounds",
        "detect_retina",
        "max_native_zoom",
        "max_zoom",
        "min_native_zoom",
        "min_zoom",
        "no_wrap",
        "tile_size",
        "tms"
       ],
       "url": "https://map1.vis.earthdata.nasa.gov/wmts-webmerc/MODIS_Terra_CorrectedReflectance_TrueColor/default//GoogleMapsCompatible_Level9/{z}/{y}/{x}.jpg"
      }
     },
     "5efc374bec7b478283c2293f5083bece": {
      "model_module": "jupyter-leaflet",
      "model_module_version": "^0.16.0",
      "model_name": "LeafletTileLayerModel",
      "state": {
       "_model_module_version": "^0.16.0",
       "_view_module_version": "^0.16.0",
       "attribution": "Justice Map",
       "max_native_zoom": 18,
       "max_zoom": 22,
       "min_native_zoom": 0,
       "name": "JusticeMap.nonWhite",
       "options": [
        "attribution",
        "bounds",
        "detect_retina",
        "max_native_zoom",
        "max_zoom",
        "min_native_zoom",
        "min_zoom",
        "no_wrap",
        "tile_size",
        "tms"
       ],
       "url": "https://www.justicemap.org/tile/county/nonwhite/{z}/{x}/{y}.png"
      }
     },
     "60a9356a121443379b1fb13b3610940c": {
      "model_module": "@jupyter-widgets/base",
      "model_module_version": "1.2.0",
      "model_name": "LayoutModel",
      "state": {}
     },
     "61155ad9dd7e433aa07d14d407ba7ecc": {
      "model_module": "@jupyter-widgets/base",
      "model_module_version": "1.2.0",
      "model_name": "LayoutModel",
      "state": {
       "height": "auto",
       "padding": "0px 0px 0px 4px",
       "width": "auto"
      }
     },
     "617d2e0dc37242d3affe7aeb3c002eb3": {
      "model_module": "jupyter-leaflet",
      "model_module_version": "^0.16.0",
      "model_name": "LeafletTileLayerModel",
      "state": {
       "_model_module_version": "^0.16.0",
       "_view_module_version": "^0.16.0",
       "attribution": "Imagery provided by services from the Global Imagery Browse Services (GIBS), operated by the NASA/GSFC/Earth Science Data and Information System (ESDIS) with funding provided by NASA/HQ.",
       "max_native_zoom": 18,
       "max_zoom": 8,
       "min_native_zoom": 0,
       "name": "NASAGIBS.ModisTerraSnowCover",
       "options": [
        "attribution",
        "bounds",
        "detect_retina",
        "max_native_zoom",
        "max_zoom",
        "min_native_zoom",
        "min_zoom",
        "no_wrap",
        "tile_size",
        "tms"
       ],
       "url": "https://map1.vis.earthdata.nasa.gov/wmts-webmerc/MODIS_Terra_NDSI_Snow_Cover/default//GoogleMapsCompatible_Level8/{z}/{y}/{x}.png"
      }
     },
     "63f9efa9fb884075a69c9f11a323b610": {
      "model_module": "jupyter-leaflet",
      "model_module_version": "^0.16.0",
      "model_name": "LeafletTileLayerModel",
      "state": {
       "_model_module_version": "^0.16.0",
       "_view_module_version": "^0.16.0",
       "attribution": "![](https://docs.onemap.sg/maps/images/oneMap64-01.png) New OneMap | Map data (C) contributors, Singapore Land Authority",
       "max_native_zoom": 18,
       "min_native_zoom": 0,
       "name": "OneMapSG.Original",
       "options": [
        "attribution",
        "bounds",
        "detect_retina",
        "max_native_zoom",
        "max_zoom",
        "min_native_zoom",
        "min_zoom",
        "no_wrap",
        "tile_size",
        "tms"
       ],
       "url": "https://maps-a.onemap.sg/v3/Original/{z}/{x}/{y}.png"
      }
     },
     "6466824efe8140e8884115870cc20ea3": {
      "model_module": "@jupyter-widgets/controls",
      "model_module_version": "1.5.0",
      "model_name": "ToggleButtonModel",
      "state": {
       "button_style": "primary",
       "icon": "eraser",
       "layout": "IPY_MODEL_4100607e20764c8cbd70ac6725980492",
       "style": "IPY_MODEL_358c6023c5b74628b5fe81b1c4e233d3",
       "tooltip": "Remove all drawn features"
      }
     },
     "64c267d4390e4de0bfda56ebaa527cd5": {
      "model_module": "jupyter-leaflet",
      "model_module_version": "^0.16.0",
      "model_name": "LeafletTileLayerModel",
      "state": {
       "_model_module_version": "^0.16.0",
       "_view_module_version": "^0.16.0",
       "attribution": "Kaartgegevens (C) Kadaster",
       "max_native_zoom": 18,
       "max_zoom": 19,
       "min_native_zoom": 0,
       "name": "nlmaps.luchtfoto",
       "options": [
        "attribution",
        "bounds",
        "detect_retina",
        "max_native_zoom",
        "max_zoom",
        "min_native_zoom",
        "min_zoom",
        "no_wrap",
        "tile_size",
        "tms"
       ],
       "url": "https://service.pdok.nl/hwh/luchtfotorgb/wmts/v1_0/Actueel_ortho25/EPSG:3857/{z}/{x}/{y}.jpeg"
      }
     },
     "651bd204b0644d77bbd6518c104a3447": {
      "model_module": "jupyter-leaflet",
      "model_module_version": "^0.16.0",
      "model_name": "LeafletMapStyleModel",
      "state": {
       "_model_module_version": "^0.16.0"
      }
     },
     "66d8645aad894d13a30bcd3138ec9a18": {
      "model_module": "@jupyter-widgets/base",
      "model_module_version": "1.2.0",
      "model_name": "LayoutModel",
      "state": {
       "height": "auto",
       "padding": "0px 0px 0px 4px",
       "width": "auto"
      }
     },
     "66db711283cd4499baff560e81030668": {
      "model_module": "@jupyter-widgets/controls",
      "model_module_version": "1.5.0",
      "model_name": "ButtonStyleModel",
      "state": {}
     },
     "66e01e8aa15243978f0d5b80ca40b21d": {
      "model_module": "@jupyter-widgets/controls",
      "model_module_version": "1.5.0",
      "model_name": "HTMLModel",
      "state": {
       "layout": "IPY_MODEL_60a9356a121443379b1fb13b3610940c",
       "style": "IPY_MODEL_4f2e7e3e2f51420fa4e7059733ce0c34",
       "value": "____________________________________________________"
      }
     },
     "67efb98cbbbd4a1eaaffcbb27c9b747a": {
      "model_module": "jupyter-leaflet",
      "model_module_version": "^0.16.0",
      "model_name": "LeafletTileLayerModel",
      "state": {
       "_model_module_version": "^0.16.0",
       "_view_module_version": "^0.16.0",
       "attribution": "Geoportail France",
       "max_native_zoom": 18,
       "max_zoom": 19,
       "min_native_zoom": 0,
       "name": "GeoportailFrance.orthos",
       "options": [
        "attribution",
        "bounds",
        "detect_retina",
        "max_native_zoom",
        "max_zoom",
        "min_native_zoom",
        "min_zoom",
        "no_wrap",
        "tile_size",
        "tms"
       ],
       "url": "https://wxs.ign.fr/choisirgeoportail/geoportail/wmts?REQUEST=GetTile&SERVICE=WMTS&VERSION=1.0.0&STYLE=normal&TILEMATRIXSET=PM&FORMAT=image/jpeg&LAYER=ORTHOIMAGERY.ORTHOPHOTOS&TILEMATRIX={z}&TILEROW={y}&TILECOL={x}"
      }
     },
     "6820fcfb7d004ec8a1bf08070d7994a5": {
      "model_module": "@jupyter-widgets/controls",
      "model_module_version": "1.5.0",
      "model_name": "ToggleButtonModel",
      "state": {
       "button_style": "primary",
       "icon": "info",
       "layout": "IPY_MODEL_9322b520943d45b78c04f446c26135dd",
       "style": "IPY_MODEL_e01a3d4a828f41f19625f01ca8f938c4",
       "tooltip": "Get COG/STAC pixel value"
      }
     },
     "68599b85e3ac44b58e82bf34dbfa8bf7": {
      "model_module": "@jupyter-widgets/controls",
      "model_module_version": "1.5.0",
      "model_name": "ToggleButtonModel",
      "state": {
       "button_style": "primary",
       "icon": "fast-forward",
       "layout": "IPY_MODEL_6e0ab1139aef46968e19af1ae0b314f3",
       "style": "IPY_MODEL_54ea470250a24c7781748e43779b70f8",
       "tooltip": "Activate the time slider"
      }
     },
     "6904440d4e674deea97c73a254aeb009": {
      "model_module": "jupyter-leaflet",
      "model_module_version": "^0.16.0",
      "model_name": "LeafletTileLayerModel",
      "state": {
       "_model_module_version": "^0.16.0",
       "_view_module_version": "^0.16.0",
       "attribution": "Map tiles by <a href=\"https://labs.strava.com/heatmap\">Strava 2021</a>",
       "max_native_zoom": 18,
       "max_zoom": 15,
       "min_native_zoom": 0,
       "name": "Strava.All",
       "options": [
        "attribution",
        "bounds",
        "detect_retina",
        "max_native_zoom",
        "max_zoom",
        "min_native_zoom",
        "min_zoom",
        "no_wrap",
        "tile_size",
        "tms"
       ],
       "url": "https://heatmap-external-a.strava.com/tiles/all/hot/{z}/{x}/{y}.png"
      }
     },
     "69f089e5b83749e9973bc6219f668625": {
      "model_module": "@jupyter-widgets/base",
      "model_module_version": "1.2.0",
      "model_name": "LayoutModel",
      "state": {}
     },
     "6a4f330415834b65b64a58e5cc286abe": {
      "model_module": "@jupyter-widgets/base",
      "model_module_version": "1.2.0",
      "model_name": "LayoutModel",
      "state": {}
     },
     "6a84b7a1f604418685e1f5e8584619ce": {
      "model_module": "@jupyter-widgets/base",
      "model_module_version": "1.2.0",
      "model_name": "LayoutModel",
      "state": {
       "grid_gap": "1px 1px",
       "grid_template_columns": "32px 32px 32px ",
       "grid_template_rows": "32px 32px 32px 32px 32px 32px ",
       "padding": "5px",
       "width": "109px"
      }
     },
     "6afb26d61578488cb6ef5e7ce5c2ae46": {
      "model_module": "@jupyter-widgets/controls",
      "model_module_version": "1.5.0",
      "model_name": "ButtonStyleModel",
      "state": {}
     },
     "6c6dab60e7b94847b5ec310ab3cefbe7": {
      "model_module": "jupyter-leaflet",
      "model_module_version": "^0.16.0",
      "model_name": "LeafletTileLayerModel",
      "state": {
       "_model_module_version": "^0.16.0",
       "_view_module_version": "^0.16.0",
       "attribution": "(C) OpenStreetMap contributors (C) CARTO",
       "max_native_zoom": 18,
       "max_zoom": 20,
       "min_native_zoom": 0,
       "name": "CartoDB.Voyager",
       "options": [
        "attribution",
        "bounds",
        "detect_retina",
        "max_native_zoom",
        "max_zoom",
        "min_native_zoom",
        "min_zoom",
        "no_wrap",
        "tile_size",
        "tms"
       ],
       "url": "https://a.basemaps.cartocdn.com/rastertiles/voyager/{z}/{x}/{y}.png"
      }
     },
     "6d855af39ec1432cbe7a32e70814fd71": {
      "model_module": "@jupyter-widgets/base",
      "model_module_version": "1.2.0",
      "model_name": "LayoutModel",
      "state": {
       "height": "auto",
       "padding": "0px 0px 0px 4px",
       "width": "auto"
      }
     },
     "6e079cc74a38488593e1e4c8cf584d90": {
      "model_module": "jupyter-leaflet",
      "model_module_version": "^0.16.0",
      "model_name": "LeafletTileLayerModel",
      "state": {
       "_model_module_version": "^0.16.0",
       "_view_module_version": "^0.16.0",
       "attribution": "Imagery provided by services from the Global Imagery Browse Services (GIBS), operated by the NASA/GSFC/Earth Science Data and Information System (ESDIS) with funding provided by NASA/HQ.",
       "max_native_zoom": 18,
       "max_zoom": 9,
       "min_native_zoom": 0,
       "name": "NASAGIBS.ModisAquaBands721CR",
       "options": [
        "attribution",
        "bounds",
        "detect_retina",
        "max_native_zoom",
        "max_zoom",
        "min_native_zoom",
        "min_zoom",
        "no_wrap",
        "tile_size",
        "tms"
       ],
       "url": "https://gibs.earthdata.nasa.gov/wmts/epsg3857/best/MODIS_Aqua_CorrectedReflectance_Bands721/default//GoogleMapsCompatible_Level9/{z}/{y}/{x}.jpg"
      }
     },
     "6e0ab1139aef46968e19af1ae0b314f3": {
      "model_module": "@jupyter-widgets/base",
      "model_module_version": "1.2.0",
      "model_name": "LayoutModel",
      "state": {
       "height": "auto",
       "padding": "0px 0px 0px 4px",
       "width": "auto"
      }
     },
     "6ec6aa9328614670b539694999ad19f0": {
      "model_module": "@jupyter-widgets/base",
      "model_module_version": "1.2.0",
      "model_name": "LayoutModel",
      "state": {}
     },
     "6ed25a2fb6494e48823e17c0077d7201": {
      "model_module": "@jupyter-widgets/base",
      "model_module_version": "1.2.0",
      "model_name": "LayoutModel",
      "state": {
       "height": "auto",
       "padding": "0px 0px 0px 4px",
       "width": "auto"
      }
     },
     "6f5b18605da14e0391b2b1e4a1462e75": {
      "model_module": "jupyter-leaflet",
      "model_module_version": "^0.16.0",
      "model_name": "LeafletTileLayerModel",
      "state": {
       "_model_module_version": "^0.16.0",
       "_view_module_version": "^0.16.0",
       "attribution": "Datenquelle: basemap.at",
       "max_native_zoom": 18,
       "max_zoom": 19,
       "min_native_zoom": 0,
       "name": "BasemapAT.highdpi",
       "options": [
        "attribution",
        "bounds",
        "detect_retina",
        "max_native_zoom",
        "max_zoom",
        "min_native_zoom",
        "min_zoom",
        "no_wrap",
        "tile_size",
        "tms"
       ],
       "url": "https://maps.wien.gv.at/basemap/bmaphidpi/normal/google3857/{z}/{y}/{x}.jpeg"
      }
     },
     "6fa0c836965641eda782b76ef7bb720a": {
      "model_module": "jupyter-leaflet",
      "model_module_version": "^0.16.0",
      "model_name": "LeafletTileLayerModel",
      "state": {
       "_model_module_version": "^0.16.0",
       "_view_module_version": "^0.16.0",
       "attribution": "Map tiles by Stamen Design, CC BY 3.0 -- Map data (C) OpenStreetMap contributors",
       "max_native_zoom": 18,
       "max_zoom": 16,
       "min_native_zoom": 0,
       "name": "Stamen.Watercolor",
       "options": [
        "attribution",
        "bounds",
        "detect_retina",
        "max_native_zoom",
        "max_zoom",
        "min_native_zoom",
        "min_zoom",
        "no_wrap",
        "tile_size",
        "tms"
       ],
       "url": "https://stamen-tiles-a.a.ssl.fastly.net/watercolor/{z}/{x}/{y}.jpg"
      }
     },
     "700f197f92a940fba0e9d7c33fd460cd": {
      "model_module": "jupyter-leaflet",
      "model_module_version": "^0.16.0",
      "model_name": "LeafletTileLayerModel",
      "state": {
       "_model_module_version": "^0.16.0",
       "_view_module_version": "^0.16.0",
       "attribution": "(C) Stadia Maps, (C) OpenMapTiles (C) OpenStreetMap contributors",
       "max_native_zoom": 18,
       "max_zoom": 20,
       "min_native_zoom": 0,
       "name": "Stadia.OSMBright",
       "options": [
        "attribution",
        "bounds",
        "detect_retina",
        "max_native_zoom",
        "max_zoom",
        "min_native_zoom",
        "min_zoom",
        "no_wrap",
        "tile_size",
        "tms"
       ],
       "url": "https://tiles.stadiamaps.com/tiles/osm_bright/{z}/{x}/{y}.png"
      }
     },
     "7048a650371d4cd999923b164a3b3743": {
      "model_module": "jupyter-leaflet",
      "model_module_version": "^0.16.0",
      "model_name": "LeafletTileLayerModel",
      "state": {
       "_model_module_version": "^0.16.0",
       "_view_module_version": "^0.16.0",
       "attribution": "Map data: (C) OpenStreetMap contributors & ODbL, (C) www.opensnowmap.org CC-BY-SA",
       "max_native_zoom": 18,
       "min_native_zoom": 0,
       "name": "OpenSnowMap.pistes",
       "options": [
        "attribution",
        "bounds",
        "detect_retina",
        "max_native_zoom",
        "max_zoom",
        "min_native_zoom",
        "min_zoom",
        "no_wrap",
        "tile_size",
        "tms"
       ],
       "url": "https://tiles.opensnowmap.org/pistes/{z}/{x}/{y}.png"
      }
     },
     "73a0aebb738a4de2a2326a0255b48859": {
      "model_module": "jupyter-leaflet",
      "model_module_version": "^0.16.0",
      "model_name": "LeafletTileLayerModel",
      "state": {
       "_model_module_version": "^0.16.0",
       "_view_module_version": "^0.16.0",
       "attribution": "Justice Map",
       "max_native_zoom": 18,
       "max_zoom": 22,
       "min_native_zoom": 0,
       "name": "JusticeMap.hispanic",
       "options": [
        "attribution",
        "bounds",
        "detect_retina",
        "max_native_zoom",
        "max_zoom",
        "min_native_zoom",
        "min_zoom",
        "no_wrap",
        "tile_size",
        "tms"
       ],
       "url": "https://www.justicemap.org/tile/county/hispanic/{z}/{x}/{y}.png"
      }
     },
     "74a56393c2034de19147b2ccf216aa05": {
      "model_module": "jupyter-leaflet",
      "model_module_version": "^0.16.0",
      "model_name": "LeafletTileLayerModel",
      "state": {
       "_model_module_version": "^0.16.0",
       "_view_module_version": "^0.16.0",
       "attribution": "Datenquelle: basemap.at",
       "max_native_zoom": 18,
       "max_zoom": 19,
       "min_native_zoom": 0,
       "name": "BasemapAT.terrain",
       "options": [
        "attribution",
        "bounds",
        "detect_retina",
        "max_native_zoom",
        "max_zoom",
        "min_native_zoom",
        "min_zoom",
        "no_wrap",
        "tile_size",
        "tms"
       ],
       "url": "https://maps.wien.gv.at/basemap/bmapgelaende/grau/google3857/{z}/{y}/{x}.jpeg"
      }
     },
     "74e83557a1214793a33ec115d72b6c76": {
      "model_module": "jupyter-leaflet",
      "model_module_version": "^0.16.0",
      "model_name": "LeafletWMSLayerModel",
      "state": {
       "_model_module_version": "^0.16.0",
       "_view_module_version": "^0.16.0",
       "attribution": "MRLC",
       "crs": {
        "custom": false,
        "name": "EPSG3857"
       },
       "format": "image/png",
       "layers": "NLCD_2008_Land_Cover_L48",
       "max_native_zoom": 18,
       "min_native_zoom": 0,
       "name": "NLCD 2008 CONUS Land Cover",
       "options": [
        "attribution",
        "bounds",
        "detect_retina",
        "format",
        "layers",
        "max_native_zoom",
        "max_zoom",
        "min_native_zoom",
        "min_zoom",
        "no_wrap",
        "styles",
        "tile_size",
        "tms",
        "transparent",
        "uppercase"
       ],
       "transparent": true,
       "url": "https://www.mrlc.gov/geoserver/mrlc_display/NLCD_2008_Land_Cover_L48/wms?"
      }
     },
     "7529056288824ad19c83c7abc4068f78": {
      "model_module": "@jupyter-widgets/controls",
      "model_module_version": "1.5.0",
      "model_name": "HBoxModel",
      "state": {
       "children": [
        "IPY_MODEL_e4622622e2aa417e87fcc31deb22d486",
        "IPY_MODEL_9ef178c601c44351a441d61683f056e9"
       ],
       "layout": "IPY_MODEL_d11c65772b614cfc8749e1e6b999f5af"
      }
     },
     "770bb38505fb4ca4b10d47bbcb87ed17": {
      "model_module": "@jupyter-widgets/controls",
      "model_module_version": "1.5.0",
      "model_name": "DescriptionStyleModel",
      "state": {
       "description_width": ""
      }
     },
     "784658a9ede742449857fb2a6029b123": {
      "model_module": "jupyter-leaflet",
      "model_module_version": "^0.16.0",
      "model_name": "LeafletTileLayerModel",
      "state": {
       "_model_module_version": "^0.16.0",
       "_view_module_version": "^0.16.0",
       "attribution": "Kaartgegevens (C) Kadaster",
       "max_native_zoom": 18,
       "max_zoom": 19,
       "min_native_zoom": 0,
       "name": "nlmaps.pastel",
       "options": [
        "attribution",
        "bounds",
        "detect_retina",
        "max_native_zoom",
        "max_zoom",
        "min_native_zoom",
        "min_zoom",
        "no_wrap",
        "tile_size",
        "tms"
       ],
       "url": "https://service.pdok.nl/brt/achtergrondkaart/wmts/v2_0/pastel/EPSG:3857/{z}/{x}/{y}.png"
      }
     },
     "787c64d625eb4e62aa7a58223d4ed276": {
      "model_module": "@jupyter-widgets/controls",
      "model_module_version": "1.5.0",
      "model_name": "ButtonModel",
      "state": {
       "description": "Select Your Images",
       "layout": "IPY_MODEL_6ec6aa9328614670b539694999ad19f0",
       "style": "IPY_MODEL_d36afdad95e142338655f6820e0c78a1"
      }
     },
     "787cf51879fb4fa0ab44f3a6c4cc74bc": {
      "model_module": "jupyter-leaflet",
      "model_module_version": "^0.16.0",
      "model_name": "LeafletWMSLayerModel",
      "state": {
       "_model_module_version": "^0.16.0",
       "_view_module_version": "^0.16.0",
       "attribution": "USGS",
       "crs": {
        "custom": false,
        "name": "EPSG3857"
       },
       "format": "image/png",
       "layers": "USGSNAIPImagery:NaturalColor",
       "max_native_zoom": 18,
       "min_native_zoom": 0,
       "name": "USGS NAIP Imagery",
       "options": [
        "attribution",
        "bounds",
        "detect_retina",
        "format",
        "layers",
        "max_native_zoom",
        "max_zoom",
        "min_native_zoom",
        "min_zoom",
        "no_wrap",
        "styles",
        "tile_size",
        "tms",
        "transparent",
        "uppercase"
       ],
       "transparent": true,
       "url": "https://imagery.nationalmap.gov/arcgis/services/USGSNAIPImagery/ImageServer/WMSServer?"
      }
     },
     "78a30ecdc82841a6bc7d4619e077725c": {
      "model_module": "@jupyter-widgets/base",
      "model_module_version": "1.2.0",
      "model_name": "LayoutModel",
      "state": {
       "height": "28px",
       "width": "72px"
      }
     },
     "79c7580966bb44e89d7e22c79caa3323": {
      "model_module": "@jupyter-widgets/base",
      "model_module_version": "1.2.0",
      "model_name": "LayoutModel",
      "state": {}
     },
     "7bd4206332db48f6a55a58912aea6721": {
      "model_module": "jupyter-leaflet",
      "model_module_version": "^0.16.0",
      "model_name": "LeafletTileLayerModel",
      "state": {
       "_model_module_version": "^0.16.0",
       "_view_module_version": "^0.16.0",
       "attribution": "Map tiles by Stamen Design, CC BY 3.0 -- Map data (C) OpenStreetMap contributors",
       "max_native_zoom": 18,
       "max_zoom": 20,
       "min_native_zoom": 0,
       "name": "Stamen.TonerBackground",
       "options": [
        "attribution",
        "bounds",
        "detect_retina",
        "max_native_zoom",
        "max_zoom",
        "min_native_zoom",
        "min_zoom",
        "no_wrap",
        "tile_size",
        "tms"
       ],
       "url": "https://stamen-tiles-a.a.ssl.fastly.net/toner-background/{z}/{x}/{y}.png"
      }
     },
     "7bdcbe25b8f24cf8a79dbf5085ef3e24": {
      "model_module": "jupyter-leaflet",
      "model_module_version": "^0.16.0",
      "model_name": "LeafletTileLayerModel",
      "state": {
       "_model_module_version": "^0.16.0",
       "_view_module_version": "^0.16.0",
       "attribution": "(C) Stadia Maps, (C) OpenMapTiles (C) OpenStreetMap contributors",
       "max_native_zoom": 18,
       "max_zoom": 20,
       "min_native_zoom": 0,
       "name": "Stadia.AlidadeSmooth",
       "options": [
        "attribution",
        "bounds",
        "detect_retina",
        "max_native_zoom",
        "max_zoom",
        "min_native_zoom",
        "min_zoom",
        "no_wrap",
        "tile_size",
        "tms"
       ],
       "url": "https://tiles.stadiamaps.com/tiles/alidade_smooth/{z}/{x}/{y}.png"
      }
     },
     "80919f38ea6a41b29fc1a0f6c273f228": {
      "model_module": "jupyter-leaflet",
      "model_module_version": "^0.16.0",
      "model_name": "LeafletTileLayerModel",
      "state": {
       "_model_module_version": "^0.16.0",
       "_view_module_version": "^0.16.0",
       "attribution": "© swisstopo",
       "max_native_zoom": 18,
       "min_native_zoom": 0,
       "name": "SwissFederalGeoportal.JourneyThroughTime",
       "options": [
        "attribution",
        "bounds",
        "detect_retina",
        "max_native_zoom",
        "max_zoom",
        "min_native_zoom",
        "min_zoom",
        "no_wrap",
        "tile_size",
        "tms"
       ],
       "url": "https://wmts.geo.admin.ch/1.0.0/ch.swisstopo.zeitreihen/default/18641231/3857/{z}/{x}/{y}.png"
      }
     },
     "817a56d4239d481b89d32b98c307f324": {
      "model_module": "jupyter-leaflet",
      "model_module_version": "^0.16.0",
      "model_name": "LeafletTileLayerModel",
      "state": {
       "_model_module_version": "^0.16.0",
       "_view_module_version": "^0.16.0",
       "attribution": "Map tiles by Stamen Design, CC BY 3.0 -- Map data (C) OpenStreetMap contributors",
       "max_native_zoom": 18,
       "max_zoom": 20,
       "min_native_zoom": 0,
       "name": "Stamen.TonerLite",
       "options": [
        "attribution",
        "bounds",
        "detect_retina",
        "max_native_zoom",
        "max_zoom",
        "min_native_zoom",
        "min_zoom",
        "no_wrap",
        "tile_size",
        "tms"
       ],
       "url": "https://stamen-tiles-a.a.ssl.fastly.net/toner-lite/{z}/{x}/{y}.png"
      }
     },
     "82b594a147a5468d98f06bb4e203b07d": {
      "model_module": "jupyter-leaflet",
      "model_module_version": "^0.16.0",
      "model_name": "LeafletWMSLayerModel",
      "state": {
       "_model_module_version": "^0.16.0",
       "_view_module_version": "^0.16.0",
       "attribution": "USGS",
       "crs": {
        "custom": false,
        "name": "EPSG3857"
       },
       "format": "image/png",
       "layers": "USGSNAIPImagery:NDVI_Color",
       "max_native_zoom": 18,
       "min_native_zoom": 0,
       "name": "USGS NAIP Imagery NDVI",
       "options": [
        "attribution",
        "bounds",
        "detect_retina",
        "format",
        "layers",
        "max_native_zoom",
        "max_zoom",
        "min_native_zoom",
        "min_zoom",
        "no_wrap",
        "styles",
        "tile_size",
        "tms",
        "transparent",
        "uppercase"
       ],
       "transparent": true,
       "url": "https://imagery.nationalmap.gov/arcgis/services/USGSNAIPImagery/ImageServer/WMSServer?"
      }
     },
     "841f0919255f4cf0adc4827f307f75b0": {
      "model_module": "@jupyter-widgets/base",
      "model_module_version": "1.2.0",
      "model_name": "LayoutModel",
      "state": {}
     },
     "8580027e58bf4d80a06b0aed488d0246": {
      "model_module": "@jupyter-widgets/controls",
      "model_module_version": "1.5.0",
      "model_name": "DescriptionStyleModel",
      "state": {
       "description_width": ""
      }
     },
     "85fa67ddc76243448876892f20fa2881": {
      "model_module": "jupyter-leaflet",
      "model_module_version": "^0.16.0",
      "model_name": "LeafletTileLayerModel",
      "state": {
       "_model_module_version": "^0.16.0",
       "_view_module_version": "^0.16.0",
       "attribution": "(C) OpenStreetMap contributors (C) CARTO",
       "max_native_zoom": 18,
       "max_zoom": 20,
       "min_native_zoom": 0,
       "name": "CartoDB.DarkMatter",
       "options": [
        "attribution",
        "bounds",
        "detect_retina",
        "max_native_zoom",
        "max_zoom",
        "min_native_zoom",
        "min_zoom",
        "no_wrap",
        "tile_size",
        "tms"
       ],
       "url": "https://a.basemaps.cartocdn.com/dark_all/{z}/{x}/{y}.png"
      }
     },
     "86eac7ec304b4860a199a068d7daca01": {
      "model_module": "jupyter-leaflet",
      "model_module_version": "^0.16.0",
      "model_name": "LeafletTileLayerModel",
      "state": {
       "_model_module_version": "^0.16.0",
       "_view_module_version": "^0.16.0",
       "attribution": "Map tiles by Stamen Design, CC BY 3.0 -- Map data (C) OpenStreetMap contributors",
       "max_native_zoom": 18,
       "max_zoom": 20,
       "min_native_zoom": 0,
       "name": "Stamen.TonerLines",
       "options": [
        "attribution",
        "bounds",
        "detect_retina",
        "max_native_zoom",
        "max_zoom",
        "min_native_zoom",
        "min_zoom",
        "no_wrap",
        "tile_size",
        "tms"
       ],
       "url": "https://stamen-tiles-a.a.ssl.fastly.net/toner-lines/{z}/{x}/{y}.png"
      }
     },
     "8767d58227bc4ffa8bc48910b302196f": {
      "model_module": "@jupyter-widgets/controls",
      "model_module_version": "1.5.0",
      "model_name": "DescriptionStyleModel",
      "state": {
       "description_width": ""
      }
     },
     "8775bbd7cc59430e944b109e4248db46": {
      "model_module": "@jupyter-widgets/base",
      "model_module_version": "1.2.0",
      "model_name": "LayoutModel",
      "state": {}
     },
     "88cc012937ec46139dd31099743333f0": {
      "model_module": "@jupyter-widgets/controls",
      "model_module_version": "1.5.0",
      "model_name": "DescriptionStyleModel",
      "state": {
       "description_width": ""
      }
     },
     "8bdc3cfabdf04d229d6f36240028cdcb": {
      "model_module": "jupyter-leaflet",
      "model_module_version": "^0.16.0",
      "model_name": "LeafletTileLayerModel",
      "state": {
       "_model_module_version": "^0.16.0",
       "_view_module_version": "^0.16.0",
       "attribution": "Map data: (C) OpenSeaMap contributors",
       "max_native_zoom": 18,
       "max_zoom": 22,
       "min_native_zoom": 0,
       "name": "OpenSeaMap",
       "options": [
        "attribution",
        "bounds",
        "detect_retina",
        "max_native_zoom",
        "max_zoom",
        "min_native_zoom",
        "min_zoom",
        "no_wrap",
        "tile_size",
        "tms"
       ],
       "url": "https://tiles.openseamap.org/seamark/{z}/{x}/{y}.png"
      }
     },
     "8c133937cbaa4f44b6959de036e1c7c8": {
      "model_module": "@jupyter-widgets/controls",
      "model_module_version": "1.5.0",
      "model_name": "ToggleButtonModel",
      "state": {
       "button_style": "primary",
       "icon": "table",
       "layout": "IPY_MODEL_9a6ba3b88f31465ea11e95e97bff9fb6",
       "style": "IPY_MODEL_0c7f417869e1465da18965d0f03c38b1",
       "tooltip": "Open attribute table"
      }
     },
     "8c1b5a29b1ba455ca3d7fffbd6ef184d": {
      "model_module": "@jupyter-widgets/base",
      "model_module_version": "1.2.0",
      "model_name": "LayoutModel",
      "state": {
       "height": "600px",
       "width": "100%"
      }
     },
     "8e3022e31ab5472f8ddf987bb9206db6": {
      "model_module": "@jupyter-widgets/base",
      "model_module_version": "1.2.0",
      "model_name": "LayoutModel",
      "state": {}
     },
     "8e507d5fde114dad9665c655d9417adb": {
      "model_module": "@jupyter-widgets/controls",
      "model_module_version": "1.5.0",
      "model_name": "ButtonStyleModel",
      "state": {}
     },
     "8fca455aff3b463c96e53e5fb2210eae": {
      "model_module": "@jupyter-widgets/output",
      "model_module_version": "1.0.0",
      "model_name": "OutputModel",
      "state": {
       "layout": "IPY_MODEL_ecee5cd530644bfd89d0f4a98dc0675e",
       "msg_id": "06abec79-ba60-4c16-b259-e4d2ddb9a9fd",
       "outputs": [
        {
         "name": "stdout",
         "output_type": "stream",
         "text": "Called Run Model\nNot using the GPU\n"
        },
        {
         "name": "stderr",
         "output_type": "stream",
         "text": "  0%|                                                                                            | 0/7 [00:00<?, ?it/s]"
        },
        {
         "name": "stdout",
         "output_type": "stream",
         "text": "1/1 [==============================] - 2s 2s/step\n1/1 [==============================] - 2s 2s/step\n1/1 [==============================] - 2s 2s/step\n"
        },
        {
         "name": "stderr",
         "output_type": "stream",
         "text": " 14%|████████████                                                                        | 1/7 [00:07<00:45,  7.53s/it]"
        },
        {
         "name": "stdout",
         "output_type": "stream",
         "text": "1/1 [==============================] - 1s 987ms/step\n1/1 [==============================] - 1s 953ms/step\n1/1 [==============================] - 1s 951ms/step\n"
        },
        {
         "name": "stderr",
         "output_type": "stream",
         "text": " 29%|████████████████████████                                                            | 2/7 [00:11<00:28,  5.67s/it]"
        },
        {
         "name": "stdout",
         "output_type": "stream",
         "text": "1/1 [==============================] - 1s 949ms/step\n1/1 [==============================] - 1s 960ms/step\n1/1 [==============================] - 1s 999ms/step\n"
        }
       ]
      }
     },
     "8fdede210c924075bd97c0818bd57471": {
      "model_module": "jupyter-leaflet",
      "model_module_version": "^0.16.0",
      "model_name": "LeafletTileLayerModel",
      "state": {
       "_model_module_version": "^0.16.0",
       "_view_module_version": "^0.16.0",
       "attribution": "Geoportail France",
       "max_native_zoom": 18,
       "max_zoom": 20,
       "min_native_zoom": 0,
       "name": "GeoportailFrance.parcels",
       "options": [
        "attribution",
        "bounds",
        "detect_retina",
        "max_native_zoom",
        "max_zoom",
        "min_native_zoom",
        "min_zoom",
        "no_wrap",
        "tile_size",
        "tms"
       ],
       "url": "https://wxs.ign.fr/choisirgeoportail/geoportail/wmts?REQUEST=GetTile&SERVICE=WMTS&VERSION=1.0.0&STYLE=PCI vecteur&TILEMATRIXSET=PM&FORMAT=image/png&LAYER=CADASTRALPARCELS.PARCELLAIRE_EXPRESS&TILEMATRIX={z}&TILEROW={y}&TILECOL={x}"
      }
     },
     "90afe110ffa64411ae488e40c7a4fdf1": {
      "model_module": "@jupyter-widgets/controls",
      "model_module_version": "1.5.0",
      "model_name": "ToggleButtonModel",
      "state": {
       "button_style": "primary",
       "icon": "search-plus",
       "layout": "IPY_MODEL_c236f1a82298414c99cef79cdd121074",
       "style": "IPY_MODEL_9cf81ab8de9b4f9a85a79a60714aa842",
       "tooltip": "Search features in GeoJSON layer"
      }
     },
     "90ee44edb03545eea8220768520c3749": {
      "model_module": "jupyter-leaflet",
      "model_module_version": "^0.16.0",
      "model_name": "LeafletTileLayerModel",
      "state": {
       "_model_module_version": "^0.16.0",
       "_view_module_version": "^0.16.0",
       "attribution": "Tiles (C) Esri -- Copyright: (C)2012 DeLorme",
       "max_native_zoom": 18,
       "max_zoom": 11,
       "min_native_zoom": 0,
       "name": "Esri.DeLorme",
       "options": [
        "attribution",
        "bounds",
        "detect_retina",
        "max_native_zoom",
        "max_zoom",
        "min_native_zoom",
        "min_zoom",
        "no_wrap",
        "tile_size",
        "tms"
       ],
       "url": "https://server.arcgisonline.com/ArcGIS/rest/services/Specialty/DeLorme_World_Base_Map/MapServer/tile/{z}/{y}/{x}"
      }
     },
     "90fb1e7b528342578018b0414c3a3c1d": {
      "model_module": "@jupyter-widgets/controls",
      "model_module_version": "1.5.0",
      "model_name": "ToggleButtonModel",
      "state": {
       "button_style": "primary",
       "icon": "gears",
       "layout": "IPY_MODEL_38aa1f5d28dd4a82b6b06bc2ac33c578",
       "style": "IPY_MODEL_e883b9c963854bf1a25ee6788db3e5fe",
       "tooltip": "WhiteboxTools for local geoprocessing"
      }
     },
     "913036538ef44eee826ba402cc8b7768": {
      "model_module": "@jupyter-widgets/base",
      "model_module_version": "1.2.0",
      "model_name": "LayoutModel",
      "state": {}
     },
     "9146accee8564898a41aec46456c7e2b": {
      "model_module": "jupyter-leaflet",
      "model_module_version": "^0.16.0",
      "model_name": "LeafletTileLayerModel",
      "state": {
       "_model_module_version": "^0.16.0",
       "_view_module_version": "^0.16.0",
       "attribution": "&copy; <a href=\"https://www.openstreetmap.org/copyright\">OpenStreetMap</a> contributors",
       "base": true,
       "max_native_zoom": 18,
       "max_zoom": 19,
       "min_native_zoom": 0,
       "min_zoom": 1,
       "name": "OpenStreetMap",
       "options": [
        "attribution",
        "bounds",
        "detect_retina",
        "max_native_zoom",
        "max_zoom",
        "min_native_zoom",
        "min_zoom",
        "no_wrap",
        "tile_size",
        "tms"
       ],
       "url": "https://a.tile.openstreetmap.org/{z}/{x}/{y}.png"
      }
     },
     "915cb4dce71e4df280a0ba03c7f5b0a3": {
      "model_module": "@jupyter-widgets/controls",
      "model_module_version": "1.5.0",
      "model_name": "ToggleButtonModel",
      "state": {
       "button_style": "primary",
       "icon": "address-book",
       "layout": "IPY_MODEL_a65adae8dcd342a592f3bc262fe142c7",
       "style": "IPY_MODEL_224ce16ac1d64fc9bf77d95fdbc3ffb8",
       "tooltip": "Get US Census data"
      }
     },
     "9179bcb3ca1b45558bab76c09ca56f45": {
      "model_module": "jupyter-leaflet",
      "model_module_version": "^0.16.0",
      "model_name": "LeafletTileLayerModel",
      "state": {
       "_model_module_version": "^0.16.0",
       "_view_module_version": "^0.16.0",
       "attribution": "(C) OpenStreetMap contributors",
       "max_native_zoom": 18,
       "max_zoom": 19,
       "min_native_zoom": 0,
       "name": "OpenStreetMap.Mapnik",
       "options": [
        "attribution",
        "bounds",
        "detect_retina",
        "max_native_zoom",
        "max_zoom",
        "min_native_zoom",
        "min_zoom",
        "no_wrap",
        "tile_size",
        "tms"
       ],
       "url": "https://a.tile.openstreetmap.org/{z}/{x}/{y}.png"
      }
     },
     "92e0442ad5aa4701bd1600fb54b002ab": {
      "model_module": "jupyter-leaflet",
      "model_module_version": "^0.16.0",
      "model_name": "LeafletTileLayerModel",
      "state": {
       "_model_module_version": "^0.16.0",
       "_view_module_version": "^0.16.0",
       "attribution": "Map memomaps.de CC-BY-SA, map data (C) OpenStreetMap contributors",
       "max_native_zoom": 18,
       "min_native_zoom": 0,
       "name": "OPNVKarte",
       "options": [
        "attribution",
        "bounds",
        "detect_retina",
        "max_native_zoom",
        "max_zoom",
        "min_native_zoom",
        "min_zoom",
        "no_wrap",
        "tile_size",
        "tms"
       ],
       "url": "https://tileserver.memomaps.de/tilegen/{z}/{x}/{y}.png"
      }
     },
     "9322b520943d45b78c04f446c26135dd": {
      "model_module": "@jupyter-widgets/base",
      "model_module_version": "1.2.0",
      "model_name": "LayoutModel",
      "state": {
       "height": "auto",
       "padding": "0px 0px 0px 4px",
       "width": "auto"
      }
     },
     "935bb31848aa45bd96638a0d11e78acb": {
      "model_module": "jupyter-leaflet",
      "model_module_version": "^0.16.0",
      "model_name": "LeafletTileLayerModel",
      "state": {
       "_model_module_version": "^0.16.0",
       "_view_module_version": "^0.16.0",
       "attribution": "(C) OpenStreetMap contributors, Tiles style by Humanitarian OpenStreetMap Team hosted by OpenStreetMap France",
       "max_native_zoom": 18,
       "max_zoom": 19,
       "min_native_zoom": 0,
       "name": "OpenStreetMap.HOT",
       "options": [
        "attribution",
        "bounds",
        "detect_retina",
        "max_native_zoom",
        "max_zoom",
        "min_native_zoom",
        "min_zoom",
        "no_wrap",
        "tile_size",
        "tms"
       ],
       "url": "https://a.tile.openstreetmap.fr/hot/{z}/{x}/{y}.png"
      }
     },
     "935f5bcfc0cb467e9584931c7ff760e5": {
      "model_module": "@jupyter-widgets/controls",
      "model_module_version": "1.5.0",
      "model_name": "RadioButtonsModel",
      "state": {
       "_options_labels": [
        "C01",
        "C02"
       ],
       "description": "Collection:",
       "index": 0,
       "layout": "IPY_MODEL_577daabbd4ad4c38bf44972fbff13650",
       "style": "IPY_MODEL_59cf3ae0d1274dd9aa02b5bfd093cc72"
      }
     },
     "94fd8be3f13843dcb7c059924e72d60e": {
      "model_module": "jupyter-leaflet",
      "model_module_version": "^0.16.0",
      "model_name": "LeafletTileLayerModel",
      "state": {
       "_model_module_version": "^0.16.0",
       "_view_module_version": "^0.16.0",
       "attribution": "(C) OpenStreetMap contributors",
       "max_native_zoom": 18,
       "min_native_zoom": 0,
       "name": "OpenStreetMap.CH",
       "options": [
        "attribution",
        "bounds",
        "detect_retina",
        "max_native_zoom",
        "max_zoom",
        "min_native_zoom",
        "min_zoom",
        "no_wrap",
        "tile_size",
        "tms"
       ],
       "url": "https://tile.osm.ch/switzerland/{z}/{x}/{y}.png"
      }
     },
     "955a79d16a7c45008669a08548532bff": {
      "model_module": "@jupyter-widgets/base",
      "model_module_version": "1.2.0",
      "model_name": "LayoutModel",
      "state": {}
     },
     "97770506d5174303bd477d962494d47a": {
      "model_module": "@jupyter-widgets/controls",
      "model_module_version": "1.5.0",
      "model_name": "VBoxModel",
      "state": {
       "children": [
        "IPY_MODEL_c2e895fe19764e60b373739a4b7c2ee6",
        "IPY_MODEL_a701b3abccad4a78bb48b554ea5a93f2"
       ],
       "layout": "IPY_MODEL_a8631d6e34c94a17ba74997f7cbb72bd"
      }
     },
     "97e625279da149519cc5048cb6af09b8": {
      "model_module": "@jupyter-widgets/base",
      "model_module_version": "1.2.0",
      "model_name": "LayoutModel",
      "state": {
       "margin": "0px 20px 20px 20px"
      }
     },
     "98d7bd13df5b456599bd29a76d0f558c": {
      "model_module": "@jupyter-widgets/base",
      "model_module_version": "1.2.0",
      "model_name": "LayoutModel",
      "state": {}
     },
     "9a1dca0961314be9b687f5c0422d3336": {
      "model_module": "jupyter-leaflet",
      "model_module_version": "^0.16.0",
      "model_name": "LeafletTileLayerModel",
      "state": {
       "_model_module_version": "^0.16.0",
       "_view_module_version": "^0.16.0",
       "attribution": "Justice Map",
       "max_native_zoom": 18,
       "max_zoom": 22,
       "min_native_zoom": 0,
       "name": "JusticeMap.plurality",
       "options": [
        "attribution",
        "bounds",
        "detect_retina",
        "max_native_zoom",
        "max_zoom",
        "min_native_zoom",
        "min_zoom",
        "no_wrap",
        "tile_size",
        "tms"
       ],
       "url": "https://www.justicemap.org/tile/county/plural/{z}/{x}/{y}.png"
      }
     },
     "9a6ba3b88f31465ea11e95e97bff9fb6": {
      "model_module": "@jupyter-widgets/base",
      "model_module_version": "1.2.0",
      "model_name": "LayoutModel",
      "state": {
       "height": "auto",
       "padding": "0px 0px 0px 4px",
       "width": "auto"
      }
     },
     "9b2b8ea8493a4a9f81afd698723f0fbb": {
      "model_module": "jupyter-leaflet",
      "model_module_version": "^0.16.0",
      "model_name": "LeafletTileLayerModel",
      "state": {
       "_model_module_version": "^0.16.0",
       "_view_module_version": "^0.16.0",
       "attribution": "Tiles &copy; Esri &mdash; Esri, DeLorme, NAVTEQ, TomTom, Intermap, iPC, USGS, FAO, NPS, NRCAN, GeoBase, Kadaster NL, Ordnance Survey, Esri Japan, METI, Esri China (Hong Kong), and the GIS User Community",
       "max_native_zoom": 18,
       "max_zoom": 24,
       "min_native_zoom": 0,
       "name": "Esri.ArcticOceanReference",
       "options": [
        "attribution",
        "bounds",
        "detect_retina",
        "max_native_zoom",
        "max_zoom",
        "min_native_zoom",
        "min_zoom",
        "no_wrap",
        "tile_size",
        "tms"
       ],
       "url": "http://server.arcgisonline.com/ArcGIS/rest/services/Polar/Arctic_Ocean_Reference/MapServer/tile/{z}/{y}/{x}"
      }
     },
     "9b477c630ceb4ae996abdc0818035c4a": {
      "model_module": "jupyter-leaflet",
      "model_module_version": "^0.16.0",
      "model_name": "LeafletTileLayerModel",
      "state": {
       "_model_module_version": "^0.16.0",
       "_view_module_version": "^0.16.0",
       "attribution": "Tiles &copy; Esri &mdash; Esri, DeLorme, NAVTEQ, TomTom, Intermap, iPC, USGS, FAO, NPS, NRCAN, GeoBase, Kadaster NL, Ordnance Survey, Esri Japan, METI, Esri China (Hong Kong), and the GIS User Community",
       "max_native_zoom": 18,
       "max_zoom": 24,
       "min_native_zoom": 0,
       "name": "Esri.ArcticOceanBase",
       "options": [
        "attribution",
        "bounds",
        "detect_retina",
        "max_native_zoom",
        "max_zoom",
        "min_native_zoom",
        "min_zoom",
        "no_wrap",
        "tile_size",
        "tms"
       ],
       "url": "http://server.arcgisonline.com/ArcGIS/rest/services/Polar/Arctic_Ocean_Base/MapServer/tile/{z}/{y}/{x}"
      }
     },
     "9cf81ab8de9b4f9a85a79a60714aa842": {
      "model_module": "@jupyter-widgets/controls",
      "model_module_version": "1.5.0",
      "model_name": "DescriptionStyleModel",
      "state": {
       "description_width": ""
      }
     },
     "9e7e88a0887c437688c6a777ce87e46a": {
      "model_module": "jupyter-leaflet",
      "model_module_version": "^0.16.0",
      "model_name": "LeafletTileLayerModel",
      "state": {
       "_model_module_version": "^0.16.0",
       "_view_module_version": "^0.16.0",
       "attribution": "Google",
       "max_native_zoom": 18,
       "max_zoom": 22,
       "min_native_zoom": 0,
       "name": "Google Terrain",
       "options": [
        "attribution",
        "bounds",
        "detect_retina",
        "max_native_zoom",
        "max_zoom",
        "min_native_zoom",
        "min_zoom",
        "no_wrap",
        "tile_size",
        "tms"
       ],
       "url": "https://mt1.google.com/vt/lyrs=p&x={x}&y={y}&z={z}"
      }
     },
     "9ef178c601c44351a441d61683f056e9": {
      "model_module": "@jupyter-widgets/controls",
      "model_module_version": "1.5.0",
      "model_name": "RadioButtonsModel",
      "state": {
       "_options_labels": [
        "ENSEMBLE",
        "BEST"
       ],
       "description": "Select:",
       "index": 0,
       "layout": "IPY_MODEL_913036538ef44eee826ba402cc8b7768",
       "style": "IPY_MODEL_2b1f3ab632514556abd80a15ebbe3b78"
      }
     },
     "a27fbb4b1dc54e45a9bd0302d950d6e5": {
      "model_module": "jupyter-leaflet",
      "model_module_version": "^0.16.0",
      "model_name": "LeafletTileLayerModel",
      "state": {
       "_model_module_version": "^0.16.0",
       "_view_module_version": "^0.16.0",
       "attribution": "OpenStreetMap",
       "max_native_zoom": 18,
       "max_zoom": 22,
       "min_native_zoom": 0,
       "name": "OpenStreetMap",
       "options": [
        "attribution",
        "bounds",
        "detect_retina",
        "max_native_zoom",
        "max_zoom",
        "min_native_zoom",
        "min_zoom",
        "no_wrap",
        "tile_size",
        "tms"
       ]
      }
     },
     "a65adae8dcd342a592f3bc262fe142c7": {
      "model_module": "@jupyter-widgets/base",
      "model_module_version": "1.2.0",
      "model_name": "LayoutModel",
      "state": {
       "height": "auto",
       "padding": "0px 0px 0px 4px",
       "width": "auto"
      }
     },
     "a66adf39aa9c448196e2612a0482159b": {
      "model_module": "@jupyter-widgets/controls",
      "model_module_version": "1.5.0",
      "model_name": "DescriptionStyleModel",
      "state": {
       "description_width": ""
      }
     },
     "a692f6f5f79b4c089e33ccbab01d94ef": {
      "model_module": "jupyter-leaflet",
      "model_module_version": "^0.16.0",
      "model_name": "LeafletTileLayerModel",
      "state": {
       "_model_module_version": "^0.16.0",
       "_view_module_version": "^0.16.0",
       "attribution": "Map tiles by Stamen Design, CC BY 3.0 -- Map data (C) OpenStreetMap contributors",
       "max_native_zoom": 18,
       "min_native_zoom": 0,
       "name": "Stamen.Terrain",
       "options": [
        "attribution",
        "bounds",
        "detect_retina",
        "max_native_zoom",
        "max_zoom",
        "min_native_zoom",
        "min_zoom",
        "no_wrap",
        "tile_size",
        "tms"
       ],
       "url": "https://stamen-tiles-a.a.ssl.fastly.net/terrain/{z}/{x}/{y}.png"
      }
     },
     "a6bf6c84cd78411ea007c619143e3e62": {
      "model_module": "jupyter-leaflet",
      "model_module_version": "^0.16.0",
      "model_name": "LeafletTileLayerModel",
      "state": {
       "_model_module_version": "^0.16.0",
       "_view_module_version": "^0.16.0",
       "attribution": "Datenquelle: basemap.at",
       "max_native_zoom": 18,
       "max_zoom": 20,
       "min_native_zoom": 0,
       "name": "BasemapAT.basemap",
       "options": [
        "attribution",
        "bounds",
        "detect_retina",
        "max_native_zoom",
        "max_zoom",
        "min_native_zoom",
        "min_zoom",
        "no_wrap",
        "tile_size",
        "tms"
       ],
       "url": "https://maps.wien.gv.at/basemap/geolandbasemap/normal/google3857/{z}/{y}/{x}.png"
      }
     },
     "a6e2699b6b0e4dedbb939c58fff133ed": {
      "model_module": "jupyter-leaflet",
      "model_module_version": "^0.16.0",
      "model_name": "LeafletWMSLayerModel",
      "state": {
       "_model_module_version": "^0.16.0",
       "_view_module_version": "^0.16.0",
       "attribution": "ESA",
       "crs": {
        "custom": false,
        "name": "EPSG3857"
       },
       "format": "image/png",
       "layers": "WORLDCOVER_2020_S2_FCC",
       "max_native_zoom": 18,
       "min_native_zoom": 0,
       "name": "ESA Worldcover 2020 S2 FCC",
       "options": [
        "attribution",
        "bounds",
        "detect_retina",
        "format",
        "layers",
        "max_native_zoom",
        "max_zoom",
        "min_native_zoom",
        "min_zoom",
        "no_wrap",
        "styles",
        "tile_size",
        "tms",
        "transparent",
        "uppercase"
       ],
       "transparent": true,
       "url": "https://services.terrascope.be/wms/v2"
      }
     },
     "a6efbf6efed04e0090cdc456338b53b7": {
      "model_module": "@jupyter-widgets/controls",
      "model_module_version": "1.5.0",
      "model_name": "ButtonModel",
      "state": {
       "description": "Remove coastline",
       "layout": "IPY_MODEL_eebed43798394a508522aca8eef6bc49",
       "style": "IPY_MODEL_d22974107a0f4465affceff5de5cb9ff"
      }
     },
     "a6f21b55a53b43838553669ab167ce29": {
      "model_module": "jupyter-leaflet",
      "model_module_version": "^0.16.0",
      "model_name": "LeafletWMSLayerModel",
      "state": {
       "_model_module_version": "^0.16.0",
       "_view_module_version": "^0.16.0",
       "attribution": "FWS",
       "crs": {
        "custom": false,
        "name": "EPSG3857"
       },
       "format": "image/png",
       "layers": "1",
       "max_native_zoom": 18,
       "min_native_zoom": 0,
       "name": "FWS NWI Wetlands",
       "options": [
        "attribution",
        "bounds",
        "detect_retina",
        "format",
        "layers",
        "max_native_zoom",
        "max_zoom",
        "min_native_zoom",
        "min_zoom",
        "no_wrap",
        "styles",
        "tile_size",
        "tms",
        "transparent",
        "uppercase"
       ],
       "transparent": true,
       "url": "https://www.fws.gov/wetlands/arcgis/services/Wetlands/MapServer/WMSServer?"
      }
     },
     "a701b3abccad4a78bb48b554ea5a93f2": {
      "model_module": "@jupyter-widgets/controls",
      "model_module_version": "1.5.0",
      "model_name": "HBoxModel",
      "state": {
       "children": [
        "IPY_MODEL_c12ce2580a5542eca14f920b665a0469",
        "IPY_MODEL_fb0e5932e1cc4d0db8f699db992cd68f"
       ],
       "layout": "IPY_MODEL_ffcfe6ffa6144bcf9a6909cdb72b9671"
      }
     },
     "a7476c808ed64ec0a039efea82028125": {
      "model_module": "@jupyter-widgets/controls",
      "model_module_version": "1.5.0",
      "model_name": "DescriptionStyleModel",
      "state": {
       "description_width": ""
      }
     },
     "a78134c6c61f42428af2d73a9c8c86e0": {
      "model_module": "jupyter-leaflet",
      "model_module_version": "^0.16.0",
      "model_name": "LeafletTileLayerModel",
      "state": {
       "_model_module_version": "^0.16.0",
       "_view_module_version": "^0.16.0",
       "attribution": "CyclOSM | Map data: (C) OpenStreetMap contributors",
       "max_native_zoom": 18,
       "max_zoom": 20,
       "min_native_zoom": 0,
       "name": "CyclOSM",
       "options": [
        "attribution",
        "bounds",
        "detect_retina",
        "max_native_zoom",
        "max_zoom",
        "min_native_zoom",
        "min_zoom",
        "no_wrap",
        "tile_size",
        "tms"
       ],
       "url": "https://a.tile-cyclosm.openstreetmap.fr/cyclosm/{z}/{x}/{y}.png"
      }
     },
     "a79adc1931c54ce4a7a5f3a3411b562f": {
      "model_module": "jupyter-leaflet",
      "model_module_version": "^0.16.0",
      "model_name": "LeafletTileLayerModel",
      "state": {
       "_model_module_version": "^0.16.0",
       "_view_module_version": "^0.16.0",
       "attribution": "Map data: (C) OpenStreetMap contributors | Map style: (C) OpenFireMap (CC-BY-SA)",
       "max_native_zoom": 18,
       "max_zoom": 19,
       "min_native_zoom": 0,
       "name": "OpenFireMap",
       "options": [
        "attribution",
        "bounds",
        "detect_retina",
        "max_native_zoom",
        "max_zoom",
        "min_native_zoom",
        "min_zoom",
        "no_wrap",
        "tile_size",
        "tms"
       ],
       "url": "http://openfiremap.org/hytiles/{z}/{x}/{y}.png"
      }
     },
     "a823f7cd4a174a12958f4aaf0a8de31b": {
      "model_module": "@jupyter-widgets/output",
      "model_module_version": "1.0.0",
      "model_name": "OutputModel",
      "state": {
       "layout": "IPY_MODEL_38deb22f901245eeb3e2437878c9cdfb"
      }
     },
     "a8631d6e34c94a17ba74997f7cbb72bd": {
      "model_module": "@jupyter-widgets/base",
      "model_module_version": "1.2.0",
      "model_name": "LayoutModel",
      "state": {}
     },
     "ad687eaa0bd14c41b2e3d390c0226acc": {
      "model_module": "jupyter-leaflet",
      "model_module_version": "^0.16.0",
      "model_name": "LeafletTileLayerModel",
      "state": {
       "_model_module_version": "^0.16.0",
       "_view_module_version": "^0.16.0",
       "attribution": "Map tiles by <a href=\"https://labs.strava.com/heatmap\">Strava 2021</a>",
       "max_native_zoom": 18,
       "max_zoom": 15,
       "min_native_zoom": 0,
       "name": "Strava.Winter",
       "options": [
        "attribution",
        "bounds",
        "detect_retina",
        "max_native_zoom",
        "max_zoom",
        "min_native_zoom",
        "min_zoom",
        "no_wrap",
        "tile_size",
        "tms"
       ],
       "url": "https://heatmap-external-a.strava.com/tiles/winter/hot/{z}/{x}/{y}.png"
      }
     },
     "adb5ba54d6e14fbe9b0b3447d739a989": {
      "model_module": "jupyter-leaflet",
      "model_module_version": "^0.16.0",
      "model_name": "LeafletTileLayerModel",
      "state": {
       "_model_module_version": "^0.16.0",
       "_view_module_version": "^0.16.0",
       "attribution": "(C) OpenStreetMap contributors",
       "max_native_zoom": 18,
       "max_zoom": 15,
       "min_native_zoom": 0,
       "name": "HikeBike.HillShading",
       "options": [
        "attribution",
        "bounds",
        "detect_retina",
        "max_native_zoom",
        "max_zoom",
        "min_native_zoom",
        "min_zoom",
        "no_wrap",
        "tile_size",
        "tms"
       ],
       "url": "https://tiles.wmflabs.org/hillshading/{z}/{x}/{y}.png"
      }
     },
     "ae7da1745b6846aa958716db7fda23b5": {
      "model_module": "jupyter-leaflet",
      "model_module_version": "^0.16.0",
      "model_name": "LeafletWidgetControlModel",
      "state": {
       "_model_module": "jupyter-leaflet",
       "_model_module_version": "^0.16.0",
       "_view_count": null,
       "_view_module": "jupyter-leaflet",
       "_view_module_version": "^0.16.0",
       "options": [
        "position",
        "transparent_bg"
       ],
       "position": "topright",
       "widget": "IPY_MODEL_dd199db4265443359a30b2897fa99fab"
      }
     },
     "af608f50b27d4258b9a137246a5831f6": {
      "model_module": "jupyter-leaflet",
      "model_module_version": "^0.16.0",
      "model_name": "LeafletTileLayerModel",
      "state": {
       "_model_module_version": "^0.16.0",
       "_view_module_version": "^0.16.0",
       "attribution": "© swisstopo",
       "max_native_zoom": 18,
       "max_zoom": 19,
       "min_native_zoom": 0,
       "name": "SwissFederalGeoportal.SWISSIMAGE",
       "options": [
        "attribution",
        "bounds",
        "detect_retina",
        "max_native_zoom",
        "max_zoom",
        "min_native_zoom",
        "min_zoom",
        "no_wrap",
        "tile_size",
        "tms"
       ],
       "url": "https://wmts.geo.admin.ch/1.0.0/ch.swisstopo.swissimage/default/current/3857/{z}/{x}/{y}.jpeg"
      }
     },
     "afd21125e4394f1f9a648ee9a6514590": {
      "model_module": "jupyter-leaflet",
      "model_module_version": "^0.16.0",
      "model_name": "LeafletTileLayerModel",
      "state": {
       "_model_module_version": "^0.16.0",
       "_view_module_version": "^0.16.0",
       "attribution": "Imagery provided by services from the Global Imagery Browse Services (GIBS), operated by the NASA/GSFC/Earth Science Data and Information System (ESDIS) with funding provided by NASA/HQ.",
       "max_native_zoom": 18,
       "max_zoom": 9,
       "min_native_zoom": 0,
       "name": "NASAGIBS.ModisTerraBands367CR",
       "options": [
        "attribution",
        "bounds",
        "detect_retina",
        "max_native_zoom",
        "max_zoom",
        "min_native_zoom",
        "min_zoom",
        "no_wrap",
        "tile_size",
        "tms"
       ],
       "url": "https://map1.vis.earthdata.nasa.gov/wmts-webmerc/MODIS_Terra_CorrectedReflectance_Bands367/default//GoogleMapsCompatible_Level9/{z}/{y}/{x}.jpg"
      }
     },
     "b04e71f108804e8db06aa6567fe077bc": {
      "model_module": "@jupyter-widgets/controls",
      "model_module_version": "1.5.0",
      "model_name": "VBoxModel",
      "state": {
       "children": [
        "IPY_MODEL_2ed0ccde4dde4c2493a32c4af3b0a705",
        "IPY_MODEL_66e01e8aa15243978f0d5b80ca40b21d",
        "IPY_MODEL_fb135cbebec447fe814a251e226de779",
        "IPY_MODEL_5c800e5d80f94b648148d636634a9dfd"
       ],
       "layout": "IPY_MODEL_0f8e528c3f0a458d9e162e290c98907c"
      }
     },
     "b1ecd41b976b496e966a363608d1b36e": {
      "model_module": "@jupyter-widgets/controls",
      "model_module_version": "1.5.0",
      "model_name": "ButtonModel",
      "state": {
       "description": "Remove ROIs",
       "layout": "IPY_MODEL_563fef7718814642a665c10c9a067d7c",
       "style": "IPY_MODEL_2b6dc76f6f4f497396452a03565d5ba7"
      }
     },
     "b49bd772f6504ffda8cd4d067d5ed585": {
      "model_module": "jupyter-leaflet",
      "model_module_version": "^0.16.0",
      "model_name": "LeafletTileLayerModel",
      "state": {
       "_model_module_version": "^0.16.0",
       "_view_module_version": "^0.16.0",
       "attribution": "Map tiles by Stamen Design, CC BY 3.0 -- Map data (C) OpenStreetMap contributors",
       "max_native_zoom": 18,
       "max_zoom": 20,
       "min_native_zoom": 0,
       "name": "Stamen.Toner",
       "options": [
        "attribution",
        "bounds",
        "detect_retina",
        "max_native_zoom",
        "max_zoom",
        "min_native_zoom",
        "min_zoom",
        "no_wrap",
        "tile_size",
        "tms"
       ],
       "url": "https://stamen-tiles-a.a.ssl.fastly.net/toner/{z}/{x}/{y}.png"
      }
     },
     "b5bc8521455146ee94264ef64fbbae8e": {
      "model_module": "@jupyter-widgets/controls",
      "model_module_version": "1.5.0",
      "model_name": "DescriptionStyleModel",
      "state": {
       "description_width": ""
      }
     },
     "b6f4d7b27f3f4ec3a9321a1b2a717a8b": {
      "model_module": "@jupyter-widgets/base",
      "model_module_version": "1.2.0",
      "model_name": "LayoutModel",
      "state": {}
     },
     "b84e6eb93a93463b8f5ec474e31778b4": {
      "model_module": "jupyter-leaflet",
      "model_module_version": "^0.16.0",
      "model_name": "LeafletTileLayerModel",
      "state": {
       "_model_module_version": "^0.16.0",
       "_view_module_version": "^0.16.0",
       "attribution": "(C) OpenStreetMap France | (C) OpenStreetMap contributors",
       "max_native_zoom": 18,
       "max_zoom": 20,
       "min_native_zoom": 0,
       "name": "OpenStreetMap.France",
       "options": [
        "attribution",
        "bounds",
        "detect_retina",
        "max_native_zoom",
        "max_zoom",
        "min_native_zoom",
        "min_zoom",
        "no_wrap",
        "tile_size",
        "tms"
       ],
       "url": "https://a.tile.openstreetmap.fr/osmfr/{z}/{x}/{y}.png"
      }
     },
     "b8b13edc5d3a497fa9054d6cbddb3bfa": {
      "model_module": "@jupyter-widgets/controls",
      "model_module_version": "1.5.0",
      "model_name": "CheckboxModel",
      "state": {
       "description": "Use GPU?",
       "disabled": false,
       "indent": false,
       "layout": "IPY_MODEL_6a4f330415834b65b64a58e5cc286abe",
       "style": "IPY_MODEL_dc61c93f227149efb00b8edd93924337",
       "value": false
      }
     },
     "b8e733b006a14a32b4ab6e7c0ad3474b": {
      "model_module": "jupyter-leaflet",
      "model_module_version": "^0.16.0",
      "model_name": "LeafletTileLayerModel",
      "state": {
       "_model_module_version": "^0.16.0",
       "_view_module_version": "^0.16.0",
       "attribution": "Map tiles by Stamen Design, CC BY 3.0 -- Map data (C) OpenStreetMap contributors",
       "max_native_zoom": 18,
       "min_native_zoom": 0,
       "name": "Stamen.TerrainBackground",
       "options": [
        "attribution",
        "bounds",
        "detect_retina",
        "max_native_zoom",
        "max_zoom",
        "min_native_zoom",
        "min_zoom",
        "no_wrap",
        "tile_size",
        "tms"
       ],
       "url": "https://stamen-tiles-a.a.ssl.fastly.net/terrain-background/{z}/{x}/{y}.png"
      }
     },
     "b8e8510dd3af4480a13c6a06aa85d160": {
      "model_module": "jupyter-leaflet",
      "model_module_version": "^0.16.0",
      "model_name": "LeafletTileLayerModel",
      "state": {
       "_model_module_version": "^0.16.0",
       "_view_module_version": "^0.16.0",
       "attribution": "Map data: (C) OpenStreetMap contributors | Map style: (C) waymarkedtrails.org (CC-BY-SA)",
       "max_native_zoom": 18,
       "min_native_zoom": 0,
       "name": "WaymarkedTrails.mtb",
       "options": [
        "attribution",
        "bounds",
        "detect_retina",
        "max_native_zoom",
        "max_zoom",
        "min_native_zoom",
        "min_zoom",
        "no_wrap",
        "tile_size",
        "tms"
       ],
       "url": "https://tile.waymarkedtrails.org/mtb/{z}/{x}/{y}.png"
      }
     },
     "b9b542524b1f42328dbf8082f0fd6272": {
      "model_module": "@jupyter-widgets/controls",
      "model_module_version": "1.5.0",
      "model_name": "ButtonStyleModel",
      "state": {}
     },
     "b9f8e9645b5c430da4eb153e75988888": {
      "model_module": "jupyter-leaflet",
      "model_module_version": "^0.16.0",
      "model_name": "LeafletTileLayerModel",
      "state": {
       "_model_module_version": "^0.16.0",
       "_view_module_version": "^0.16.0",
       "attribution": "(C) Stadia Maps, (C) OpenMapTiles (C) OpenStreetMap contributors",
       "max_native_zoom": 18,
       "max_zoom": 20,
       "min_native_zoom": 0,
       "name": "Stadia.Outdoors",
       "options": [
        "attribution",
        "bounds",
        "detect_retina",
        "max_native_zoom",
        "max_zoom",
        "min_native_zoom",
        "min_zoom",
        "no_wrap",
        "tile_size",
        "tms"
       ],
       "url": "https://tiles.stadiamaps.com/tiles/outdoors/{z}/{x}/{y}.png"
      }
     },
     "bba7dfc990fc4a09829e2975df83ecea": {
      "model_module": "jupyter-leaflet",
      "model_module_version": "^0.16.0",
      "model_name": "LeafletTileLayerModel",
      "state": {
       "_model_module_version": "^0.16.0",
       "_view_module_version": "^0.16.0",
       "attribution": "National Library of Scotland Historic Maps",
       "max_native_zoom": 18,
       "min_native_zoom": 0,
       "name": "NLS",
       "options": [
        "attribution",
        "bounds",
        "detect_retina",
        "max_native_zoom",
        "max_zoom",
        "min_native_zoom",
        "min_zoom",
        "no_wrap",
        "tile_size",
        "tms"
       ],
       "url": "https://nls-0.tileserver.com/nls/{z}/{x}/{y}.jpg"
      }
     },
     "bbbd620ecc914f96be212168b2d9ae1b": {
      "model_module": "@jupyter-widgets/controls",
      "model_module_version": "1.5.0",
      "model_name": "ButtonModel",
      "state": {
       "description": "Remove all",
       "layout": "IPY_MODEL_dd94addf77df4c3091149d40172935fe",
       "style": "IPY_MODEL_6afb26d61578488cb6ef5e7ce5c2ae46"
      }
     },
     "bc79fcbdd17c4cab9a6c7a7bc43a7660": {
      "model_module": "@jupyter-widgets/base",
      "model_module_version": "1.2.0",
      "model_name": "LayoutModel",
      "state": {
       "border": "1px solid black"
      }
     },
     "bdcc6d88b15f49509645393d1edf6919": {
      "model_module": "@jupyter-widgets/controls",
      "model_module_version": "1.5.0",
      "model_name": "ButtonStyleModel",
      "state": {}
     },
     "be0d8c9194b04471a49e4f3786b554f4": {
      "model_module": "@jupyter-widgets/controls",
      "model_module_version": "1.5.0",
      "model_name": "DescriptionStyleModel",
      "state": {
       "description_width": ""
      }
     },
     "be45af76dde64e63ba1897c698cd558c": {
      "model_module": "jupyter-leaflet",
      "model_module_version": "^0.16.0",
      "model_name": "LeafletTileLayerModel",
      "state": {
       "_model_module_version": "^0.16.0",
       "_view_module_version": "^0.16.0",
       "attribution": "Imagery provided by services from the Global Imagery Browse Services (GIBS), operated by the NASA/GSFC/Earth Science Data and Information System (ESDIS) with funding provided by NASA/HQ.",
       "max_native_zoom": 18,
       "max_zoom": 9,
       "min_native_zoom": 0,
       "name": "NASAGIBS.ModisAquaTrueColorCR",
       "options": [
        "attribution",
        "bounds",
        "detect_retina",
        "max_native_zoom",
        "max_zoom",
        "min_native_zoom",
        "min_zoom",
        "no_wrap",
        "tile_size",
        "tms"
       ],
       "url": "https://gibs.earthdata.nasa.gov/wmts/epsg3857/best/MODIS_Aqua_CorrectedReflectance_TrueColor/default//GoogleMapsCompatible_Level9/{z}/{y}/{x}.jpg"
      }
     },
     "bef5e28514b74a26bed533fc7f99d561": {
      "model_module": "jupyter-leaflet",
      "model_module_version": "^0.16.0",
      "model_name": "LeafletTileLayerModel",
      "state": {
       "_model_module_version": "^0.16.0",
       "_view_module_version": "^0.16.0",
       "attribution": "Imagery provided by services from the Global Imagery Browse Services (GIBS), operated by the NASA/GSFC/Earth Science Data and Information System (ESDIS) with funding provided by NASA/HQ.",
       "max_native_zoom": 18,
       "max_zoom": 9,
       "min_native_zoom": 0,
       "name": "NASAGIBS.ViirsTrueColorCR",
       "options": [
        "attribution",
        "bounds",
        "detect_retina",
        "max_native_zoom",
        "max_zoom",
        "min_native_zoom",
        "min_zoom",
        "no_wrap",
        "tile_size",
        "tms"
       ],
       "url": "https://gibs.earthdata.nasa.gov/wmts/epsg3857/best/VIIRS_SNPP_CorrectedReflectance_TrueColor/default//GoogleMapsCompatible_Level9/{z}/{y}/{x}.jpg"
      }
     },
     "bf020e4420f1425da122d53b32d78dbe": {
      "model_module": "jupyter-leaflet",
      "model_module_version": "^0.16.0",
      "model_name": "LeafletTileLayerModel",
      "state": {
       "_model_module_version": "^0.16.0",
       "_view_module_version": "^0.16.0",
       "attribution": "Tiles (C) Esri -- Source: Esri, DeLorme, NAVTEQ, USGS, Intermap, iPC, NRCAN, Esri Japan, METI, Esri China (Hong Kong), Esri (Thailand), TomTom, 2012",
       "max_native_zoom": 18,
       "max_zoom": 22,
       "min_native_zoom": 0,
       "name": "Esri.WorldStreetMap",
       "options": [
        "attribution",
        "bounds",
        "detect_retina",
        "max_native_zoom",
        "max_zoom",
        "min_native_zoom",
        "min_zoom",
        "no_wrap",
        "tile_size",
        "tms"
       ],
       "url": "https://server.arcgisonline.com/ArcGIS/rest/services/World_Street_Map/MapServer/tile/{z}/{y}/{x}"
      }
     },
     "bf69da5277804107b686f4dadb1296ec": {
      "model_module": "jupyter-leaflet",
      "model_module_version": "^0.16.0",
      "model_name": "LeafletTileLayerModel",
      "state": {
       "_model_module_version": "^0.16.0",
       "_view_module_version": "^0.16.0",
       "attribution": "Justice Map",
       "max_native_zoom": 18,
       "max_zoom": 22,
       "min_native_zoom": 0,
       "name": "JusticeMap.multi",
       "options": [
        "attribution",
        "bounds",
        "detect_retina",
        "max_native_zoom",
        "max_zoom",
        "min_native_zoom",
        "min_zoom",
        "no_wrap",
        "tile_size",
        "tms"
       ],
       "url": "https://www.justicemap.org/tile/county/multi/{z}/{x}/{y}.png"
      }
     },
     "c12ce2580a5542eca14f920b665a0469": {
      "model_module": "@jupyter-widgets/controls",
      "model_module_version": "1.5.0",
      "model_name": "DatePickerModel",
      "state": {
       "description": "Start Date",
       "disabled": false,
       "layout": "IPY_MODEL_b6f4d7b27f3f4ec3a9321a1b2a717a8b",
       "style": "IPY_MODEL_284939274cce420881e2c88cf2421f6b",
       "value": {
        "date": 1,
        "month": 11,
        "year": 2018
       }
      }
     },
     "c1684f4bad9946d889e0ac02dd20c462": {
      "model_module": "jupyter-leaflet",
      "model_module_version": "^0.16.0",
      "model_name": "LeafletTileLayerModel",
      "state": {
       "_model_module_version": "^0.16.0",
       "_view_module_version": "^0.16.0",
       "attribution": "Tiles courtesy of the U.S. Geological Survey",
       "max_native_zoom": 18,
       "max_zoom": 20,
       "min_native_zoom": 0,
       "name": "USGS.USImagery",
       "options": [
        "attribution",
        "bounds",
        "detect_retina",
        "max_native_zoom",
        "max_zoom",
        "min_native_zoom",
        "min_zoom",
        "no_wrap",
        "tile_size",
        "tms"
       ],
       "url": "https://basemap.nationalmap.gov/arcgis/rest/services/USGSImageryOnly/MapServer/tile/{z}/{y}/{x}"
      }
     },
     "c236f1a82298414c99cef79cdd121074": {
      "model_module": "@jupyter-widgets/base",
      "model_module_version": "1.2.0",
      "model_name": "LayoutModel",
      "state": {
       "height": "auto",
       "padding": "0px 0px 0px 4px",
       "width": "auto"
      }
     },
     "c246c60804a44becab0dc9e88d6d0fd0": {
      "model_module": "@jupyter-widgets/controls",
      "model_module_version": "1.5.0",
      "model_name": "DescriptionStyleModel",
      "state": {
       "description_width": ""
      }
     },
     "c2e895fe19764e60b373739a4b7c2ee6": {
      "model_module": "@jupyter-widgets/controls",
      "model_module_version": "1.5.0",
      "model_name": "HTMLModel",
      "state": {
       "layout": "IPY_MODEL_048f655501744eb39e95cf4d74ee0264",
       "style": "IPY_MODEL_3238954f68aa46f2b598ab594efa0e75",
       "value": "<b>Pick a date:</b>"
      }
     },
     "c475e99bc7c34ca798f2889f35e067a8": {
      "model_module": "@jupyter-widgets/controls",
      "model_module_version": "1.5.0",
      "model_name": "ToggleButtonModel",
      "state": {
       "button_style": "primary",
       "icon": "adjust",
       "layout": "IPY_MODEL_61155ad9dd7e433aa07d14d407ba7ecc",
       "style": "IPY_MODEL_b5bc8521455146ee94264ef64fbbae8e",
       "tooltip": "Planet imagery"
      }
     },
     "c59bc225c0044d1da0b2aa7cbf1631e0": {
      "model_module": "@jupyter-widgets/controls",
      "model_module_version": "1.5.0",
      "model_name": "ToggleButtonModel",
      "state": {
       "button_style": "primary",
       "icon": "pencil-square-o",
       "layout": "IPY_MODEL_35e383749f2546e5a4c7570b20426877",
       "style": "IPY_MODEL_c5f03c9b6c1443da8bb3bdaa682d6b26",
       "tooltip": "Create vector data"
      }
     },
     "c5f03c9b6c1443da8bb3bdaa682d6b26": {
      "model_module": "@jupyter-widgets/controls",
      "model_module_version": "1.5.0",
      "model_name": "DescriptionStyleModel",
      "state": {
       "description_width": ""
      }
     },
     "c6c5e301aa4a4809ad1e5b23af88020b": {
      "model_module": "@jupyter-widgets/base",
      "model_module_version": "1.2.0",
      "model_name": "LayoutModel",
      "state": {
       "height": "auto",
       "padding": "0px 0px 0px 4px",
       "width": "auto"
      }
     },
     "c6d743d24c5c4c0d8b647944cf8cf996": {
      "model_module": "@jupyter-widgets/controls",
      "model_module_version": "1.5.0",
      "model_name": "DescriptionStyleModel",
      "state": {
       "description_width": ""
      }
     },
     "c7ca4fc915a34821bca258a159b75838": {
      "model_module": "jupyter-leaflet",
      "model_module_version": "^0.16.0",
      "model_name": "LeafletTileLayerModel",
      "state": {
       "_model_module_version": "^0.16.0",
       "_view_module_version": "^0.16.0",
       "attribution": "(C) OpenStreetMap contributors (C) CARTO",
       "max_native_zoom": 18,
       "max_zoom": 20,
       "min_native_zoom": 0,
       "name": "CartoDB.DarkMatterOnlyLabels",
       "options": [
        "attribution",
        "bounds",
        "detect_retina",
        "max_native_zoom",
        "max_zoom",
        "min_native_zoom",
        "min_zoom",
        "no_wrap",
        "tile_size",
        "tms"
       ],
       "url": "https://a.basemaps.cartocdn.com/dark_only_labels/{z}/{x}/{y}.png"
      }
     },
     "c87fbc9bc71e42f5a61a0efe76590ecf": {
      "model_module": "@jupyter-widgets/controls",
      "model_module_version": "1.5.0",
      "model_name": "HTMLModel",
      "state": {
       "layout": "IPY_MODEL_d96ade15710a4f95a49564a96996d28e",
       "style": "IPY_MODEL_ff62614b04b14be398f1e7f3015f9da3",
       "value": "<b>Pick a collection</b>        <br> C01: LandSat Collection 1         <br> C02: LandSat Collection 2  [2022/01/01 and beyond]         <br>      - Landsat 9 is only available in C02"
      }
     },
     "cabc2b8740474113b4793ed0b94493d5": {
      "model_module": "jupyter-leaflet",
      "model_module_version": "^0.16.0",
      "model_name": "LeafletTileLayerModel",
      "state": {
       "_model_module_version": "^0.16.0",
       "_view_module_version": "^0.16.0",
       "attribution": "Tiles courtesy of the U.S. Geological Survey",
       "max_native_zoom": 18,
       "max_zoom": 20,
       "min_native_zoom": 0,
       "name": "USGS.USImageryTopo",
       "options": [
        "attribution",
        "bounds",
        "detect_retina",
        "max_native_zoom",
        "max_zoom",
        "min_native_zoom",
        "min_zoom",
        "no_wrap",
        "tile_size",
        "tms"
       ],
       "url": "https://basemap.nationalmap.gov/arcgis/rest/services/USGSImageryTopo/MapServer/tile/{z}/{y}/{x}"
      }
     },
     "cb2604afbf4640faa8d9b6ce9beff705": {
      "model_module": "jupyter-leaflet",
      "model_module_version": "^0.16.0",
      "model_name": "LeafletTileLayerModel",
      "state": {
       "_model_module_version": "^0.16.0",
       "_view_module_version": "^0.16.0",
       "attribution": "Google",
       "max_native_zoom": 18,
       "max_zoom": 22,
       "min_native_zoom": 0,
       "name": "Google Satellite",
       "options": [
        "attribution",
        "bounds",
        "detect_retina",
        "max_native_zoom",
        "max_zoom",
        "min_native_zoom",
        "min_zoom",
        "no_wrap",
        "tile_size",
        "tms"
       ],
       "url": "https://mt1.google.com/vt/lyrs=y&x={x}&y={y}&z={z}"
      }
     },
     "cbc25d7b8f4e48dfa9f0e2a3c7f4f1ee": {
      "model_module": "jupyter-leaflet",
      "model_module_version": "^0.16.0",
      "model_name": "LeafletZoomControlModel",
      "state": {
       "_model_module_version": "^0.16.0",
       "_view_module_version": "^0.16.0",
       "options": [
        "position",
        "zoom_in_text",
        "zoom_in_title",
        "zoom_out_text",
        "zoom_out_title"
       ]
      }
     },
     "cce20b8ad40b487483f3d0698d948547": {
      "model_module": "jupyter-leaflet",
      "model_module_version": "^0.16.0",
      "model_name": "LeafletWMSLayerModel",
      "state": {
       "_model_module_version": "^0.16.0",
       "_view_module_version": "^0.16.0",
       "attribution": "USGS",
       "crs": {
        "custom": false,
        "name": "EPSG3857"
       },
       "format": "image/png",
       "layers": "0",
       "max_native_zoom": 18,
       "min_native_zoom": 0,
       "name": "USGS Hydrography",
       "options": [
        "attribution",
        "bounds",
        "detect_retina",
        "format",
        "layers",
        "max_native_zoom",
        "max_zoom",
        "min_native_zoom",
        "min_zoom",
        "no_wrap",
        "styles",
        "tile_size",
        "tms",
        "transparent",
        "uppercase"
       ],
       "transparent": true,
       "url": "https://basemap.nationalmap.gov/arcgis/services/USGSHydroCached/MapServer/WMSServer?"
      }
     },
     "cd98de19ca37443d87d0a7671b56af86": {
      "model_module": "jupyter-leaflet",
      "model_module_version": "^0.16.0",
      "model_name": "LeafletWMSLayerModel",
      "state": {
       "_model_module_version": "^0.16.0",
       "_view_module_version": "^0.16.0",
       "attribution": "MRLC",
       "crs": {
        "custom": false,
        "name": "EPSG3857"
       },
       "format": "image/png",
       "layers": "NLCD_2006_Land_Cover_L48",
       "max_native_zoom": 18,
       "min_native_zoom": 0,
       "name": "NLCD 2006 CONUS Land Cover",
       "options": [
        "attribution",
        "bounds",
        "detect_retina",
        "format",
        "layers",
        "max_native_zoom",
        "max_zoom",
        "min_native_zoom",
        "min_zoom",
        "no_wrap",
        "styles",
        "tile_size",
        "tms",
        "transparent",
        "uppercase"
       ],
       "transparent": true,
       "url": "https://www.mrlc.gov/geoserver/mrlc_display/NLCD_2006_Land_Cover_L48/wms?"
      }
     },
     "cda3b50eb81a42f3849b84ba1f8dedb9": {
      "model_module": "@jupyter-widgets/base",
      "model_module_version": "1.2.0",
      "model_name": "LayoutModel",
      "state": {}
     },
     "ce63d07ad75f4d06bc0ef27bb55216eb": {
      "model_module": "@jupyter-widgets/controls",
      "model_module_version": "1.5.0",
      "model_name": "DescriptionStyleModel",
      "state": {
       "description_width": ""
      }
     },
     "ce7279b3118243dc8f2b5966d11c70c4": {
      "model_module": "@jupyter-widgets/base",
      "model_module_version": "1.2.0",
      "model_name": "LayoutModel",
      "state": {
       "width": "500px"
      }
     },
     "ce73dff923414d26b1d66e58096319aa": {
      "model_module": "jupyter-leaflet",
      "model_module_version": "^0.16.0",
      "model_name": "LeafletTileLayerModel",
      "state": {
       "_model_module_version": "^0.16.0",
       "_view_module_version": "^0.16.0",
       "attribution": "Justice Map",
       "max_native_zoom": 18,
       "max_zoom": 22,
       "min_native_zoom": 0,
       "name": "JusticeMap.white",
       "options": [
        "attribution",
        "bounds",
        "detect_retina",
        "max_native_zoom",
        "max_zoom",
        "min_native_zoom",
        "min_zoom",
        "no_wrap",
        "tile_size",
        "tms"
       ],
       "url": "https://www.justicemap.org/tile/county/white/{z}/{x}/{y}.png"
      }
     },
     "ced73ec4e684465d9c1ca1d0a58291ba": {
      "model_module": "jupyter-leaflet",
      "model_module_version": "^0.16.0",
      "model_name": "LeafletTileLayerModel",
      "state": {
       "_model_module_version": "^0.16.0",
       "_view_module_version": "^0.16.0",
       "attribution": "Map data: (C) OpenStreetMap contributors | Map style: (C) waymarkedtrails.org (CC-BY-SA)",
       "max_native_zoom": 18,
       "min_native_zoom": 0,
       "name": "WaymarkedTrails.hiking",
       "options": [
        "attribution",
        "bounds",
        "detect_retina",
        "max_native_zoom",
        "max_zoom",
        "min_native_zoom",
        "min_zoom",
        "no_wrap",
        "tile_size",
        "tms"
       ],
       "url": "https://tile.waymarkedtrails.org/hiking/{z}/{x}/{y}.png"
      }
     },
     "d11c65772b614cfc8749e1e6b999f5af": {
      "model_module": "@jupyter-widgets/base",
      "model_module_version": "1.2.0",
      "model_name": "LayoutModel",
      "state": {}
     },
     "d135e20b190d420d8fc666b8d24cfea7": {
      "model_module": "@jupyter-widgets/base",
      "model_module_version": "1.2.0",
      "model_name": "LayoutModel",
      "state": {
       "border": "1px solid black"
      }
     },
     "d15324fb4c164540997b04cbe4e25815": {
      "model_module": "jupyter-leaflet",
      "model_module_version": "^0.16.0",
      "model_name": "LeafletTileLayerModel",
      "state": {
       "_model_module_version": "^0.16.0",
       "_view_module_version": "^0.16.0",
       "attribution": "Map data: (C) OpenStreetMap contributors, SRTM | Map style: (C) OpenTopoMap (CC-BY-SA)",
       "max_native_zoom": 18,
       "max_zoom": 17,
       "min_native_zoom": 0,
       "name": "OpenTopoMap",
       "options": [
        "attribution",
        "bounds",
        "detect_retina",
        "max_native_zoom",
        "max_zoom",
        "min_native_zoom",
        "min_zoom",
        "no_wrap",
        "tile_size",
        "tms"
       ],
       "url": "https://a.tile.opentopomap.org/{z}/{x}/{y}.png"
      }
     },
     "d22974107a0f4465affceff5de5cb9ff": {
      "model_module": "@jupyter-widgets/controls",
      "model_module_version": "1.5.0",
      "model_name": "ButtonStyleModel",
      "state": {}
     },
     "d24546ce3ef64ea7a8e2745795aac2f5": {
      "model_module": "jupyter-leaflet",
      "model_module_version": "^0.16.0",
      "model_name": "LeafletWMSLayerModel",
      "state": {
       "_model_module_version": "^0.16.0",
       "_view_module_version": "^0.16.0",
       "attribution": "MRLC",
       "crs": {
        "custom": false,
        "name": "EPSG3857"
       },
       "format": "image/png",
       "layers": "NLCD_2019_Land_Cover_L48",
       "max_native_zoom": 18,
       "min_native_zoom": 0,
       "name": "NLCD 2019 CONUS Land Cover",
       "options": [
        "attribution",
        "bounds",
        "detect_retina",
        "format",
        "layers",
        "max_native_zoom",
        "max_zoom",
        "min_native_zoom",
        "min_zoom",
        "no_wrap",
        "styles",
        "tile_size",
        "tms",
        "transparent",
        "uppercase"
       ],
       "transparent": true,
       "url": "https://www.mrlc.gov/geoserver/mrlc_display/NLCD_2019_Land_Cover_L48/wms?"
      }
     },
     "d36afdad95e142338655f6820e0c78a1": {
      "model_module": "@jupyter-widgets/controls",
      "model_module_version": "1.5.0",
      "model_name": "ButtonStyleModel",
      "state": {}
     },
     "d41b6cd6813846c29f799eb976936a06": {
      "model_module": "jupyter-leaflet",
      "model_module_version": "^0.16.0",
      "model_name": "LeafletTileLayerModel",
      "state": {
       "_model_module_version": "^0.16.0",
       "_view_module_version": "^0.16.0",
       "attribution": "(C) OpenStreetMap contributors",
       "max_native_zoom": 18,
       "min_native_zoom": 0,
       "name": "OpenStreetMap.BlackAndWhite",
       "options": [
        "attribution",
        "bounds",
        "detect_retina",
        "max_native_zoom",
        "max_zoom",
        "min_native_zoom",
        "min_zoom",
        "no_wrap",
        "tile_size",
        "tms"
       ],
       "url": "http://a.tiles.wmflabs.org/bw-mapnik/{z}/{x}/{y}.png"
      }
     },
     "d4e1477a580c49e4a1ef09d3f2776516": {
      "model_module": "jupyter-leaflet",
      "model_module_version": "^0.16.0",
      "model_name": "LeafletTileLayerModel",
      "state": {
       "_model_module_version": "^0.16.0",
       "_view_module_version": "^0.16.0",
       "attribution": "Tiles (C) Esri -- Esri, DeLorme, NAVTEQ, TomTom, Intermap, iPC, USGS, FAO, NPS, NRCAN, GeoBase, Kadaster NL, Ordnance Survey, Esri Japan, METI, Esri China (Hong Kong), and the GIS User Community",
       "max_native_zoom": 18,
       "max_zoom": 22,
       "min_native_zoom": 0,
       "name": "Esri.WorldTopoMap",
       "options": [
        "attribution",
        "bounds",
        "detect_retina",
        "max_native_zoom",
        "max_zoom",
        "min_native_zoom",
        "min_zoom",
        "no_wrap",
        "tile_size",
        "tms"
       ],
       "url": "https://server.arcgisonline.com/ArcGIS/rest/services/World_Topo_Map/MapServer/tile/{z}/{y}/{x}"
      }
     },
     "d58687016c414a9d96f9a0824008442a": {
      "model_module": "jupyter-leaflet",
      "model_module_version": "^0.16.0",
      "model_name": "LeafletWMSLayerModel",
      "state": {
       "_model_module_version": "^0.16.0",
       "_view_module_version": "^0.16.0",
       "attribution": "MRLC",
       "crs": {
        "custom": false,
        "name": "EPSG3857"
       },
       "format": "image/png",
       "layers": "NLCD_2011_Land_Cover_L48",
       "max_native_zoom": 18,
       "min_native_zoom": 0,
       "name": "NLCD 2011 CONUS Land Cover",
       "options": [
        "attribution",
        "bounds",
        "detect_retina",
        "format",
        "layers",
        "max_native_zoom",
        "max_zoom",
        "min_native_zoom",
        "min_zoom",
        "no_wrap",
        "styles",
        "tile_size",
        "tms",
        "transparent",
        "uppercase"
       ],
       "transparent": true,
       "url": "https://www.mrlc.gov/geoserver/mrlc_display/NLCD_2011_Land_Cover_L48/wms?"
      }
     },
     "d6f9f2cd23aa45339cb45411b3ad5f1c": {
      "model_module": "jupyter-leaflet",
      "model_module_version": "^0.16.0",
      "model_name": "LeafletTileLayerModel",
      "state": {
       "_model_module_version": "^0.16.0",
       "_view_module_version": "^0.16.0",
       "attribution": "(C) OpenStreetMap contributors (C) CARTO",
       "max_native_zoom": 18,
       "max_zoom": 20,
       "min_native_zoom": 0,
       "name": "CartoDB.Positron",
       "options": [
        "attribution",
        "bounds",
        "detect_retina",
        "max_native_zoom",
        "max_zoom",
        "min_native_zoom",
        "min_zoom",
        "no_wrap",
        "tile_size",
        "tms"
       ],
       "url": "https://a.basemaps.cartocdn.com/light_all/{z}/{x}/{y}.png"
      }
     },
     "d763972dd95242c392da2fefd9cc6e62": {
      "model_module": "@jupyter-widgets/base",
      "model_module_version": "1.2.0",
      "model_name": "LayoutModel",
      "state": {
       "height": "auto",
       "padding": "0px 0px 0px 4px",
       "width": "auto"
      }
     },
     "d7d0a672b25c40b99725540ab1764ad7": {
      "model_module": "@jupyter-widgets/controls",
      "model_module_version": "1.5.0",
      "model_name": "ButtonModel",
      "state": {
       "description": "Remove bbox",
       "layout": "IPY_MODEL_26c63974044f4644a5b39bc649c29907",
       "style": "IPY_MODEL_0fa1c4cce9c94fa3864330a7223c5626"
      }
     },
     "d8d31ed49f154f70b34106da39757b29": {
      "model_module": "jupyter-leaflet",
      "model_module_version": "^0.16.0",
      "model_name": "LeafletTileLayerModel",
      "state": {
       "_model_module_version": "^0.16.0",
       "_view_module_version": "^0.16.0",
       "attribution": "Imagery provided by services from the Global Imagery Browse Services (GIBS), operated by the NASA/GSFC/Earth Science Data and Information System (ESDIS) with funding provided by NASA/HQ.",
       "max_native_zoom": 18,
       "max_zoom": 6,
       "min_native_zoom": 0,
       "name": "NASAGIBS.ModisTerraAOD",
       "options": [
        "attribution",
        "bounds",
        "detect_retina",
        "max_native_zoom",
        "max_zoom",
        "min_native_zoom",
        "min_zoom",
        "no_wrap",
        "tile_size",
        "tms"
       ],
       "url": "https://map1.vis.earthdata.nasa.gov/wmts-webmerc/MODIS_Terra_Aerosol/default//GoogleMapsCompatible_Level6/{z}/{y}/{x}.png"
      }
     },
     "d956e0cc292343259185b3ef2d4cf63f": {
      "model_module": "jupyter-leaflet",
      "model_module_version": "^0.16.0",
      "model_name": "LeafletTileLayerModel",
      "state": {
       "_model_module_version": "^0.16.0",
       "_view_module_version": "^0.16.0",
       "attribution": "Map tiles by <a href=\"https://labs.strava.com/heatmap\">Strava 2021</a>",
       "max_native_zoom": 18,
       "max_zoom": 15,
       "min_native_zoom": 0,
       "name": "Strava.Ride",
       "options": [
        "attribution",
        "bounds",
        "detect_retina",
        "max_native_zoom",
        "max_zoom",
        "min_native_zoom",
        "min_zoom",
        "no_wrap",
        "tile_size",
        "tms"
       ],
       "url": "https://heatmap-external-a.strava.com/tiles/ride/hot/{z}/{x}/{y}.png"
      }
     },
     "d96ade15710a4f95a49564a96996d28e": {
      "model_module": "@jupyter-widgets/base",
      "model_module_version": "1.2.0",
      "model_name": "LayoutModel",
      "state": {
       "padding": "10px"
      }
     },
     "da00c26790244132a4be19484598c777": {
      "model_module": "@jupyter-widgets/controls",
      "model_module_version": "1.5.0",
      "model_name": "ToggleButtonModel",
      "state": {
       "button_style": "primary",
       "icon": "folder-open",
       "layout": "IPY_MODEL_d763972dd95242c392da2fefd9cc6e62",
       "style": "IPY_MODEL_563fbdb1a6c74a58aefe0663cfe8b857",
       "tooltip": "Open local vector/raster data"
      }
     },
     "da173e129c454270ab65b9ef33f0f06e": {
      "model_module": "jupyter-leaflet",
      "model_module_version": "^0.16.0",
      "model_name": "LeafletTileLayerModel",
      "state": {
       "_model_module_version": "^0.16.0",
       "_view_module_version": "^0.16.0",
       "attribution": "Map tiles by Stamen Design, CC BY 3.0 -- Map data (C) OpenStreetMap contributors",
       "max_native_zoom": 18,
       "max_zoom": 20,
       "min_native_zoom": 0,
       "name": "Stamen.TopOSMFeatures",
       "options": [
        "attribution",
        "bounds",
        "detect_retina",
        "max_native_zoom",
        "max_zoom",
        "min_native_zoom",
        "min_zoom",
        "no_wrap",
        "tile_size",
        "tms"
       ],
       "url": "https://stamen-tiles-a.a.ssl.fastly.net/toposm-features/{z}/{x}/{y}.png"
      }
     },
     "db3eaf5b725a4d4da465e354e91f2d57": {
      "model_module": "@jupyter-widgets/controls",
      "model_module_version": "1.5.0",
      "model_name": "ToggleButtonModel",
      "state": {
       "button_style": "primary",
       "icon": "question",
       "layout": "IPY_MODEL_2db7246b0a184d788a7b52bb5568ee40",
       "style": "IPY_MODEL_2e331a1d9c49423e96820e5e8a845f02",
       "tooltip": "Get help"
      }
     },
     "db951e5bcb0e45fc99e3aee46d78588a": {
      "model_module": "jupyter-leaflet",
      "model_module_version": "^0.16.0",
      "model_name": "LeafletTileLayerModel",
      "state": {
       "_model_module_version": "^0.16.0",
       "_view_module_version": "^0.16.0",
       "attribution": "(C) OpenStreetMap contributors (C) CARTO",
       "max_native_zoom": 18,
       "max_zoom": 20,
       "min_native_zoom": 0,
       "name": "CartoDB.VoyagerNoLabels",
       "options": [
        "attribution",
        "bounds",
        "detect_retina",
        "max_native_zoom",
        "max_zoom",
        "min_native_zoom",
        "min_zoom",
        "no_wrap",
        "tile_size",
        "tms"
       ],
       "url": "https://a.basemaps.cartocdn.com/rastertiles/voyager_nolabels/{z}/{x}/{y}.png"
      }
     },
     "dbbff45275d54fbc96689a05d2c3787a": {
      "model_module": "jupyter-leaflet",
      "model_module_version": "^0.16.0",
      "model_name": "LeafletTileLayerModel",
      "state": {
       "_model_module_version": "^0.16.0",
       "_view_module_version": "^0.16.0",
       "attribution": "Geoportail France",
       "max_native_zoom": 18,
       "min_native_zoom": 0,
       "name": "GeoportailFrance.plan",
       "options": [
        "attribution",
        "bounds",
        "detect_retina",
        "max_native_zoom",
        "max_zoom",
        "min_native_zoom",
        "min_zoom",
        "no_wrap",
        "tile_size",
        "tms"
       ],
       "url": "https://wxs.ign.fr/choisirgeoportail/geoportail/wmts?REQUEST=GetTile&SERVICE=WMTS&VERSION=1.0.0&STYLE=normal&TILEMATRIXSET=PM&FORMAT=image/png&LAYER=GEOGRAPHICALGRIDSYSTEMS.PLANIGNV2&TILEMATRIX={z}&TILEROW={y}&TILECOL={x}"
      }
     },
     "dc61c93f227149efb00b8edd93924337": {
      "model_module": "@jupyter-widgets/controls",
      "model_module_version": "1.5.0",
      "model_name": "DescriptionStyleModel",
      "state": {
       "description_width": ""
      }
     },
     "dd199db4265443359a30b2897fa99fab": {
      "model_module": "@jupyter-widgets/controls",
      "model_module_version": "1.5.0",
      "model_name": "AccordionModel",
      "state": {
       "_titles": {
        "0": "Shoreline Data"
       },
       "children": [
        "IPY_MODEL_29b8c5fe7cc04b36b28718eaee1a9473"
       ],
       "layout": "IPY_MODEL_79c7580966bb44e89d7e22c79caa3323"
      }
     },
     "dd69dce027754d87856b716f5669fa1c": {
      "model_module": "jupyter-leaflet",
      "model_module_version": "^0.16.0",
      "model_name": "LeafletTileLayerModel",
      "state": {
       "_model_module_version": "^0.16.0",
       "_view_module_version": "^0.16.0",
       "attribution": "Map tiles by Stamen Design, CC BY 3.0 -- Map data (C) OpenStreetMap contributors",
       "max_native_zoom": 18,
       "max_zoom": 20,
       "min_native_zoom": 0,
       "name": "Stamen.TonerHybrid",
       "options": [
        "attribution",
        "bounds",
        "detect_retina",
        "max_native_zoom",
        "max_zoom",
        "min_native_zoom",
        "min_zoom",
        "no_wrap",
        "tile_size",
        "tms"
       ],
       "url": "https://stamen-tiles-a.a.ssl.fastly.net/toner-hybrid/{z}/{x}/{y}.png"
      }
     },
     "dd94addf77df4c3091149d40172935fe": {
      "model_module": "@jupyter-widgets/base",
      "model_module_version": "1.2.0",
      "model_name": "LayoutModel",
      "state": {}
     },
     "dded2b154f3848aba3df2a181f3b929c": {
      "model_module": "@jupyter-widgets/controls",
      "model_module_version": "1.5.0",
      "model_name": "HBoxModel",
      "state": {
       "children": [
        "IPY_MODEL_4567aad71f1c4253b6df51d1b2d93241",
        "IPY_MODEL_290eff97ae4549e89b4608822f19e4ad"
       ],
       "layout": "IPY_MODEL_8e3022e31ab5472f8ddf987bb9206db6"
      }
     },
     "def2844dee5c4b119b06df3f81c4c2e0": {
      "model_module": "jupyter-leaflet",
      "model_module_version": "^0.16.0",
      "model_name": "LeafletTileLayerModel",
      "state": {
       "_model_module_version": "^0.16.0",
       "_view_module_version": "^0.16.0",
       "attribution": "![](https://docs.onemap.sg/maps/images/oneMap64-01.png) New OneMap | Map data (C) contributors, Singapore Land Authority",
       "max_native_zoom": 18,
       "min_native_zoom": 0,
       "name": "OneMapSG.LandLot",
       "options": [
        "attribution",
        "bounds",
        "detect_retina",
        "max_native_zoom",
        "max_zoom",
        "min_native_zoom",
        "min_zoom",
        "no_wrap",
        "tile_size",
        "tms"
       ],
       "url": "https://maps-a.onemap.sg/v3/LandLot/{z}/{x}/{y}.png"
      }
     },
     "e0182676ce8b4f2397e739bb90a44799": {
      "model_module": "jupyter-leaflet",
      "model_module_version": "^0.16.0",
      "model_name": "LeafletTileLayerModel",
      "state": {
       "_model_module_version": "^0.16.0",
       "_view_module_version": "^0.16.0",
       "attribution": "&copy; <a href=\"http://www.gaode.com/\">Gaode.com</a>",
       "max_native_zoom": 18,
       "max_zoom": 19,
       "min_native_zoom": 0,
       "name": "Gaode.Satellite",
       "options": [
        "attribution",
        "bounds",
        "detect_retina",
        "max_native_zoom",
        "max_zoom",
        "min_native_zoom",
        "min_zoom",
        "no_wrap",
        "tile_size",
        "tms"
       ],
       "url": "http://webst01.is.autonavi.com/appmaptile?style=6&x={x}&y={y}&z={z}"
      }
     },
     "e01a3d4a828f41f19625f01ca8f938c4": {
      "model_module": "@jupyter-widgets/controls",
      "model_module_version": "1.5.0",
      "model_name": "DescriptionStyleModel",
      "state": {
       "description_width": ""
      }
     },
     "e1a976d0e3bc410bb2f0033dce20c2b3": {
      "model_module": "jupyter-leaflet",
      "model_module_version": "^0.16.0",
      "model_name": "LeafletWMSLayerModel",
      "state": {
       "_model_module_version": "^0.16.0",
       "_view_module_version": "^0.16.0",
       "attribution": "FWS",
       "crs": {
        "custom": false,
        "name": "EPSG3857"
       },
       "format": "image/png",
       "layers": "0",
       "max_native_zoom": 18,
       "min_native_zoom": 0,
       "name": "FWS NWI Wetlands Raster",
       "options": [
        "attribution",
        "bounds",
        "detect_retina",
        "format",
        "layers",
        "max_native_zoom",
        "max_zoom",
        "min_native_zoom",
        "min_zoom",
        "no_wrap",
        "styles",
        "tile_size",
        "tms",
        "transparent",
        "uppercase"
       ],
       "transparent": true,
       "url": "https://www.fws.gov/wetlands/arcgis/services/Wetlands_Raster/ImageServer/WMSServer?"
      }
     },
     "e457177c2ae547ed8596c4ee7ecb5ed9": {
      "model_module": "jupyter-leaflet",
      "model_module_version": "^0.16.0",
      "model_name": "LeafletTileLayerModel",
      "state": {
       "_model_module_version": "^0.16.0",
       "_view_module_version": "^0.16.0",
       "attribution": "(C) Stadia Maps, (C) OpenMapTiles (C) OpenStreetMap contributors",
       "max_native_zoom": 18,
       "max_zoom": 20,
       "min_native_zoom": 0,
       "name": "Stadia.AlidadeSmoothDark",
       "options": [
        "attribution",
        "bounds",
        "detect_retina",
        "max_native_zoom",
        "max_zoom",
        "min_native_zoom",
        "min_zoom",
        "no_wrap",
        "tile_size",
        "tms"
       ],
       "url": "https://tiles.stadiamaps.com/tiles/alidade_smooth_dark/{z}/{x}/{y}.png"
      }
     },
     "e4622622e2aa417e87fcc31deb22d486": {
      "model_module": "@jupyter-widgets/controls",
      "model_module_version": "1.5.0",
      "model_name": "RadioButtonsModel",
      "state": {
       "_options_labels": [
        "landsat_6229071",
        "landsat_6230083",
        "SWED-RGB_6824384",
        "SWED-MNDWI_6824342"
       ],
       "description": "Select Model:",
       "index": 0,
       "layout": "IPY_MODEL_1340f840f3d040019f227786a713e452",
       "style": "IPY_MODEL_fa0ee98b0e91448d99f8220d6099312a"
      }
     },
     "e4af6b93d8e449f793e9398b7d94cae3": {
      "model_module": "jupyter-leaflet",
      "model_module_version": "^0.16.0",
      "model_name": "LeafletTileLayerModel",
      "state": {
       "_model_module_version": "^0.16.0",
       "_view_module_version": "^0.16.0",
       "attribution": "&copy; <a href=\"http://www.gaode.com/\">Gaode.com</a>",
       "max_native_zoom": 18,
       "max_zoom": 19,
       "min_native_zoom": 0,
       "name": "Gaode.Normal",
       "options": [
        "attribution",
        "bounds",
        "detect_retina",
        "max_native_zoom",
        "max_zoom",
        "min_native_zoom",
        "min_zoom",
        "no_wrap",
        "tile_size",
        "tms"
       ],
       "url": "http://webrd01.is.autonavi.com/appmaptile?lang=zh_cn&size=1&scale=1&style=7&x={x}&y={y}&z={z}"
      }
     },
     "e57d3eeb62394413b8fdec105fb2c725": {
      "model_module": "jupyter-leaflet",
      "model_module_version": "^0.16.0",
      "model_name": "LeafletDrawControlModel",
      "state": {
       "_model_module_version": "^0.16.0",
       "_view_module_version": "^0.16.0",
       "data": [
        {
         "geometry": {
          "coordinates": [
           [
            [
             -121.516681,
             35.999629
            ],
            [
             -121.516681,
             36.008432
            ],
            [
             -121.505036,
             36.008432
            ],
            [
             -121.505036,
             35.999629
            ],
            [
             -121.516681,
             35.999629
            ]
           ]
          ],
          "type": "Polygon"
         },
         "properties": {
          "style": {
           "Opacity": 0.1,
           "clickable": true,
           "color": "green",
           "fill": true,
           "fillColor": "green",
           "fillOpacity": 0.1,
           "opacity": 0.5,
           "stroke": true,
           "weight": 4
          }
         },
         "type": "Feature"
        }
       ],
       "options": [
        "position"
       ],
       "polygon": {},
       "polyline": {},
       "rectangle": {
        "allowIntersection": false,
        "drawError": {
         "color": "#dd253b",
         "message": "Ops!"
        },
        "shapeOptions": {
         "Opacity": 0.1,
         "color": "green",
         "fillColor": "green",
         "fillOpacity": 0.1
        },
        "transform": true
       }
      }
     },
     "e6f4bac76b27429f84b84bf829915d64": {
      "model_module": "jupyter-leaflet",
      "model_module_version": "^0.16.0",
      "model_name": "LeafletMapModel",
      "state": {
       "_model_module_version": "^0.16.0",
       "_view_module_version": "^0.16.0",
       "bottom": 1647465,
       "center": [
        35.99156894137604,
        -121.50799382035001
       ],
       "controls": [
        "IPY_MODEL_cbc25d7b8f4e48dfa9f0e2a3c7f4f1ee",
        "IPY_MODEL_23da68a2dd7048f790d676d44fd96b0e",
        "IPY_MODEL_5b95a512e0f94fe1a2b5f6893f47d29a",
        "IPY_MODEL_23256b6831b04314979c43a6efb82728",
        "IPY_MODEL_e57d3eeb62394413b8fdec105fb2c725",
        "IPY_MODEL_1a4a27fe7cce4a60a80036a1d96cfddf",
        "IPY_MODEL_ae7da1745b6846aa958716db7fda23b5"
       ],
       "default_style": "IPY_MODEL_ff297a9e2d8e48058c06321da332fe75",
       "dragging_style": "IPY_MODEL_021e5d2fd6eb46e3af5ed8b34c283468",
       "east": -121.47136688232423,
       "fullscreen": false,
       "interpolation": "bilinear",
       "layers": [
        "IPY_MODEL_9146accee8564898a41aec46456c7e2b",
        "IPY_MODEL_f3d4d98ab92a4e37bb35bc5e5fae57d8",
        "IPY_MODEL_473bb3c547e444628c2be43f671e5749",
        "IPY_MODEL_04339c0bdee5461ea81403e78af0e530"
       ],
       "layout": "IPY_MODEL_8c1b5a29b1ba455ca3d7fffbd6ef184d",
       "left": 681054,
       "max_zoom": 24,
       "modisdate": "2022-08-09",
       "north": 36.012380325108765,
       "options": [
        "bounce_at_zoom_limits",
        "box_zoom",
        "center",
        "close_popup_on_click",
        "double_click_zoom",
        "dragging",
        "fullscreen",
        "inertia",
        "inertia_deceleration",
        "inertia_max_speed",
        "interpolation",
        "keyboard",
        "keyboard_pan_offset",
        "keyboard_zoom_offset",
        "max_zoom",
        "min_zoom",
        "prefer_canvas",
        "scroll_wheel_zoom",
        "tap",
        "tap_tolerance",
        "touch_zoom",
        "world_copy_jump",
        "zoom",
        "zoom_animation_threshold",
        "zoom_delta",
        "zoom_snap",
        "zoom_start"
       ],
       "prefer_canvas": false,
       "right": 681908,
       "scroll_wheel_zoom": true,
       "south": 35.9707127700249,
       "style": "IPY_MODEL_ff297a9e2d8e48058c06321da332fe75",
       "top": 1646865,
       "west": -121.54466629028322,
       "window_url": "http://localhost:8888/lab/workspaces/auto-S/tree/shoreline_transect_demo.ipynb",
       "zoom": 14
      }
     },
     "e74aba716a5248c69b4e5c03aaf583b6": {
      "model_module": "jupyter-leaflet",
      "model_module_version": "^0.16.0",
      "model_name": "LeafletTileLayerModel",
      "state": {
       "_model_module_version": "^0.16.0",
       "_view_module_version": "^0.16.0",
       "attribution": "Datenquelle: basemap.at",
       "max_native_zoom": 18,
       "max_zoom": 19,
       "min_native_zoom": 0,
       "name": "BasemapAT.surface",
       "options": [
        "attribution",
        "bounds",
        "detect_retina",
        "max_native_zoom",
        "max_zoom",
        "min_native_zoom",
        "min_zoom",
        "no_wrap",
        "tile_size",
        "tms"
       ],
       "url": "https://maps.wien.gv.at/basemap/bmapoberflaeche/grau/google3857/{z}/{y}/{x}.jpeg"
      }
     },
     "e793d7e93cf64ad8b08f830355c743eb": {
      "model_module": "@jupyter-widgets/base",
      "model_module_version": "1.2.0",
      "model_name": "LayoutModel",
      "state": {
       "height": "28px",
       "padding": "0px 0px 0px 4px",
       "width": "28px"
      }
     },
     "e7cbe5bbfeb4411d8556c6d2b1563c5e": {
      "model_module": "@jupyter-widgets/controls",
      "model_module_version": "1.5.0",
      "model_name": "VBoxModel",
      "state": {
       "children": [
        "IPY_MODEL_c87fbc9bc71e42f5a61a0efe76590ecf",
        "IPY_MODEL_935f5bcfc0cb467e9584931c7ff760e5"
       ],
       "layout": "IPY_MODEL_4bb4278024e6467694e3ba4241520937"
      }
     },
     "e883b9c963854bf1a25ee6788db3e5fe": {
      "model_module": "@jupyter-widgets/controls",
      "model_module_version": "1.5.0",
      "model_name": "DescriptionStyleModel",
      "state": {
       "description_width": ""
      }
     },
     "ea35ad04af674da19d0e707a881d739f": {
      "model_module": "jupyter-leaflet",
      "model_module_version": "^0.16.0",
      "model_name": "LeafletTileLayerModel",
      "state": {
       "_model_module_version": "^0.16.0",
       "_view_module_version": "^0.16.0",
       "attribution": "Map data: (C) OpenStreetMap contributors | Map style: (C) waymarkedtrails.org (CC-BY-SA)",
       "max_native_zoom": 18,
       "min_native_zoom": 0,
       "name": "WaymarkedTrails.slopes",
       "options": [
        "attribution",
        "bounds",
        "detect_retina",
        "max_native_zoom",
        "max_zoom",
        "min_native_zoom",
        "min_zoom",
        "no_wrap",
        "tile_size",
        "tms"
       ],
       "url": "https://tile.waymarkedtrails.org/slopes/{z}/{x}/{y}.png"
      }
     },
     "eb559287a7a9427fafce118ebd56cf57": {
      "model_module": "jupyter-leaflet",
      "model_module_version": "^0.16.0",
      "model_name": "LeafletWMSLayerModel",
      "state": {
       "_model_module_version": "^0.16.0",
       "_view_module_version": "^0.16.0",
       "attribution": "MRLC",
       "crs": {
        "custom": false,
        "name": "EPSG3857"
       },
       "format": "image/png",
       "layers": "NLCD_2013_Land_Cover_L48",
       "max_native_zoom": 18,
       "min_native_zoom": 0,
       "name": "NLCD 2013 CONUS Land Cover",
       "options": [
        "attribution",
        "bounds",
        "detect_retina",
        "format",
        "layers",
        "max_native_zoom",
        "max_zoom",
        "min_native_zoom",
        "min_zoom",
        "no_wrap",
        "styles",
        "tile_size",
        "tms",
        "transparent",
        "uppercase"
       ],
       "transparent": true,
       "url": "https://www.mrlc.gov/geoserver/mrlc_display/NLCD_2013_Land_Cover_L48/wms?"
      }
     },
     "ecee5cd530644bfd89d0f4a98dc0675e": {
      "model_module": "@jupyter-widgets/base",
      "model_module_version": "1.2.0",
      "model_name": "LayoutModel",
      "state": {
       "border": "1px solid black"
      }
     },
     "ee79ce2f0e8d414086030b874b841ecc": {
      "model_module": "@jupyter-widgets/controls",
      "model_module_version": "1.5.0",
      "model_name": "ButtonStyleModel",
      "state": {}
     },
     "eebed43798394a508522aca8eef6bc49": {
      "model_module": "@jupyter-widgets/base",
      "model_module_version": "1.2.0",
      "model_name": "LayoutModel",
      "state": {}
     },
     "f122434a04bc4239824cdce2f8421505": {
      "model_module": "@jupyter-widgets/base",
      "model_module_version": "1.2.0",
      "model_name": "LayoutModel",
      "state": {}
     },
     "f29fceb892484c268d848951acab7eef": {
      "model_module": "@jupyter-widgets/base",
      "model_module_version": "1.2.0",
      "model_name": "LayoutModel",
      "state": {}
     },
     "f34fa9c86a8c4793b185e2f10aac3a28": {
      "model_module": "jupyter-leaflet",
      "model_module_version": "^0.16.0",
      "model_name": "LeafletTileLayerModel",
      "state": {
       "_model_module_version": "^0.16.0",
       "_view_module_version": "^0.16.0",
       "attribution": "(C) OpenStreetMap contributors (C) CARTO",
       "max_native_zoom": 18,
       "max_zoom": 20,
       "min_native_zoom": 0,
       "name": "CartoDB.VoyagerLabelsUnder",
       "options": [
        "attribution",
        "bounds",
        "detect_retina",
        "max_native_zoom",
        "max_zoom",
        "min_native_zoom",
        "min_zoom",
        "no_wrap",
        "tile_size",
        "tms"
       ],
       "url": "https://a.basemaps.cartocdn.com/rastertiles/voyager_labels_under/{z}/{x}/{y}.png"
      }
     },
     "f3cd66afb4e640b7866da320cbe42a2d": {
      "model_module": "jupyter-leaflet",
      "model_module_version": "^0.16.0",
      "model_name": "LeafletTileLayerModel",
      "state": {
       "_model_module_version": "^0.16.0",
       "_view_module_version": "^0.16.0",
       "attribution": "Map tiles by Stamen Design, CC BY 3.0 -- Map data (C) OpenStreetMap contributors",
       "max_native_zoom": 18,
       "max_zoom": 20,
       "min_native_zoom": 0,
       "name": "Stamen.TopOSMRelief",
       "options": [
        "attribution",
        "bounds",
        "detect_retina",
        "max_native_zoom",
        "max_zoom",
        "min_native_zoom",
        "min_zoom",
        "no_wrap",
        "tile_size",
        "tms"
       ],
       "url": "https://stamen-tiles-a.a.ssl.fastly.net/toposm-color-relief/{z}/{x}/{y}.jpg"
      }
     },
     "f3d4d98ab92a4e37bb35bc5e5fae57d8": {
      "model_module": "jupyter-leaflet",
      "model_module_version": "^0.16.0",
      "model_name": "LeafletGeoJSONModel",
      "state": {
       "_model_module_version": "^0.16.0",
       "_view_module_version": "^0.16.0",
       "data": {
        "features": [
         {
          "geometry": {
           "coordinates": [
            [
             -121.51586844899998,
             36.00745398400005
            ],
            [
             -121.51592684499997,
             36.00746114700007
            ],
            [
             -121.51599399599996,
             36.00747386200004
            ],
            [
             -121.51605576399999,
             36.007491962000074
            ],
            [
             -121.51611035499997,
             36.00751724600008
            ],
            [
             -121.51615001699997,
             36.007544981000024
            ],
            [
             -121.51622276399996,
             36.00760705000005
            ],
            [
             -121.51626242099996,
             36.00763481100006
            ],
            [
             -121.51631772899998,
             36.00766041800006
            ],
            [
             -121.51638036399999,
             36.00767871200003
            ],
            [
             -121.51644847399996,
             36.007691557000044
            ],
            [
             -121.51652061099998,
             36.007700396000075
            ],
            [
             -121.51659567999997,
             36.00770633500008
            ],
            [
             -121.51667284999996,
             36.007710211000074
            ],
            [
             -121.516681,
             36.00771041116522
            ]
           ],
           "type": "LineString"
          },
          "id": "1971",
          "properties": {
           "CHLOROPHYLL": 2.417483,
           "CSU_Descriptor": "steeply sloping, straight, medium erodibility, warm temperate dry, low river discharge, moderate wave energy, moderately tidal, euhaline-oxic-moderate to cool, clear, moderate chlorophyll",
           "CSU_ID": 70981,
           "Cluster": 6,
           "EMU_PHYSICAL": "Euhaline-Oxic-Moderate to Cool",
           "ERODIBILITY": "Medium",
           "GHM": 0.10134,
           "LENGTH_GEO": 808.8271837845471,
           "MAX_SLOPE": 152.033411,
           "MEAN_SIG_WAVEHEIGHT": 1.687268,
           "MasterKey": 2753662,
           "OBJECTID": 2753662,
           "OUTFLOW_DENSITY": 8671.790039,
           "OUTFLOW_DENSITY_RESCALED": 1.0484883786709782e-05,
           "REGIONAL_SINUOSITY": 1.140924,
           "RandomSort": 297054.39133329,
           "Shape_Length": 0.008495092439177234,
           "TEMP_MOISTURE": "Warm Temperate Dry",
           "TIDAL_RANGE": 2.410373,
           "TURBIDITY": 0.024533,
           "chl_label": "moderate chlorophyll",
           "river_label": "low river discharge",
           "sinuosity_label": "straight",
           "slope_label": "steeply sloping",
           "style": {
            "color": "yellow",
            "dashArray": "5",
            "fillOpacity": 0.5,
            "fill_color": "yellow",
            "opacity": 1,
            "weight": 4
           },
           "tidal_label": "moderately tidal",
           "turbid_label": "clear",
           "wave_label": "moderate wave energy"
          },
          "type": "Feature"
         },
         {
          "geometry": {
           "coordinates": [
            [
             -121.505036,
             36.001556894034245
            ],
            [
             -121.50516455699994,
             36.001686894000045
            ],
            [
             -121.50523217999995,
             36.00175401900003
            ],
            [
             -121.50544504799996,
             36.00194539200004
            ],
            [
             -121.50548195599998,
             36.00197585900003
            ],
            [
             -121.506291095,
             36.002514191000046
            ],
            [
             -121.506340218,
             36.002542068000025
            ],
            [
             -121.50679044999998,
             36.002755946000036
            ],
            [
             -121.50711433899994,
             36.00288442300007
            ],
            [
             -121.50785867199994,
             36.00357418800007
            ],
            [
             -121.50789018899997,
             36.00361004100006
            ],
            [
             -121.50792589999998,
             36.00364170600005
            ],
            [
             -121.50814045799996,
             36.00383139100006
            ],
            [
             -121.508178741,
             36.00386048000007
            ],
            [
             -121.50823320499995,
             36.00388686400004
            ],
            [
             -121.50829534399998,
             36.00390557400004
            ],
            [
             -121.50836278099996,
             36.00391898700008
            ],
            [
             -121.50843353,
             36.00392908600003
            ],
            [
             -121.50857821399995,
             36.003946100000064
            ],
            [
             -121.50864896499996,
             36.00395619600005
            ],
            [
             -121.50871640199995,
             36.003969606000055
            ],
            [
             -121.50875486199999,
             36.00398118500004
            ]
           ],
           "type": "LineString"
          },
          "id": "1969",
          "properties": {
           "CHLOROPHYLL": 2.417483,
           "CSU_Descriptor": "steeply sloping, straight, medium erodibility, warm temperate dry, low river discharge, moderate wave energy, moderately tidal, euhaline-oxic-moderate to cool, clear, moderate chlorophyll",
           "CSU_ID": 70981,
           "Cluster": 6,
           "EMU_PHYSICAL": "Euhaline-Oxic-Moderate to Cool",
           "ERODIBILITY": "Medium",
           "GHM": 0.089518,
           "LENGTH_GEO": 808.1809419432676,
           "MAX_SLOPE": 165.651852,
           "MEAN_SIG_WAVEHEIGHT": 1.687268,
           "MasterKey": 2753664,
           "OBJECTID": 2753664,
           "OUTFLOW_DENSITY": 8671.790039,
           "OUTFLOW_DENSITY_RESCALED": 1.0484883786709782e-05,
           "REGIONAL_SINUOSITY": 1.140924,
           "RandomSort": 529649.555212264,
           "Shape_Length": 0.00817329505061152,
           "TEMP_MOISTURE": "Warm Temperate Dry",
           "TIDAL_RANGE": 2.410373,
           "TURBIDITY": 0.024533,
           "chl_label": "moderate chlorophyll",
           "river_label": "low river discharge",
           "sinuosity_label": "straight",
           "slope_label": "steeply sloping",
           "style": {
            "color": "yellow",
            "dashArray": "5",
            "fillOpacity": 0.5,
            "fill_color": "yellow",
            "opacity": 1,
            "weight": 4
           },
           "tidal_label": "moderately tidal",
           "turbid_label": "clear",
           "wave_label": "moderate wave energy"
          },
          "type": "Feature"
         },
         {
          "geometry": {
           "coordinates": [
            [
             -121.50875486199999,
             36.00398118500004
            ],
            [
             -121.50877854299995,
             36.003988314000026
            ],
            [
             -121.50883301299996,
             36.00401469500008
            ],
            [
             -121.50887129999995,
             36.00404377900003
            ],
            [
             -121.509085917,
             36.00423340400005
            ],
            [
             -121.50912164599998,
             36.00426505000007
            ],
            [
             -121.509153186,
             36.00430088100006
            ],
            [
             -121.50927768999998,
             36.004445873000066
            ],
            [
             -121.50947779999996,
             36.00465000600008
            ],
            [
             -121.50954533899994,
             36.00471721300005
            ],
            [
             -121.50975875499995,
             36.00490804000003
            ],
            [
             -121.50979587199998,
             36.004938296000034
            ],
            [
             -121.50984545199998,
             36.004965714000036
            ],
            [
             -121.50990097299996,
             36.004987193000034
            ],
            [
             -121.51007884299997,
             36.005040317000066
            ],
            [
             -121.510134231,
             36.00506192700004
            ],
            [
             -121.51018355599996,
             36.005089601000066
            ],
            [
             -121.51022029599994,
             36.00512023600004
            ],
            [
             -121.51042232699996,
             36.00532244500005
            ],
            [
             -121.51045292799995,
             36.00535921900007
            ],
            [
             -121.51048055499996,
             36.00540858900007
            ],
            [
             -121.51050211299997,
             36.00546403000004
            ],
            [
             -121.51055500399997,
             36.00564213400003
            ],
            [
             -121.51057636999997,
             36.00569776800006
            ],
            [
             -121.51060365399996,
             36.00574748300005
            ],
            [
             -121.510633768,
             36.00578474200006
            ],
            [
             -121.51082307599995,
             36.005999676000044
            ],
            [
             -121.51088943899998,
             36.00606805900003
            ],
            [
             -121.511090293,
             36.006271447000074
            ],
            [
             -121.51115788799996,
             36.00633860000005
            ],
            [
             -121.51137264099998,
             36.00652808800004
            ],
            [
             -121.51141082699996,
             36.006557276000024
            ],
            [
             -121.51146512699995,
             36.00658382200004
            ],
            [
             -121.51152706299996,
             36.00660273600005
            ],
            [
             -121.51159426899994,
             36.006616380000025
            ],
            [
             -121.51166477799995,
             36.00662672000004
            ],
            [
             -121.51180908699996,
             36.00664410500008
            ],
            [
             -121.51187982,
             36.006654221000076
            ],
            [
             -121.51194747099998,
             36.00666741800006
            ],
            [
             -121.51201020399998,
             36.00668553500003
            ],
            [
             -121.51206583699997,
             36.006710750000025
            ],
            [
             -121.512500118,
             36.00693095400004
            ],
            [
             -121.512716636,
             36.00707055500004
            ],
            [
             -121.51275646999994,
             36.00709809600005
            ],
            [
             -121.51281106799996,
             36.00712276000007
            ],
            [
             -121.51287290299996,
             36.00714018800005
            ],
            [
             -121.512940131,
             36.00715222400004
            ],
            [
             -121.51301130399997,
             36.00716031300004
            ],
            [
             -121.51308530299997,
             36.00716557700008
            ],
            [
             -121.51323845599995,
             36.007170951000035
            ],
            [
             -121.51347226699994,
             36.007174930000076
            ],
            [
             -121.51362506299995,
             36.00718065900003
            ],
            [
             -121.51369879899994,
             36.00718618600007
            ],
            [
             -121.51376967999994,
             36.007194569000035
            ],
            [
             -121.51383661499995,
             36.00720689700006
            ],
            [
             -121.51389820999998,
             36.00722456500006
            ],
            [
             -121.51395269199998,
             36.00724934700003
            ],
            [
             -121.51399260499994,
             36.00727680600005
            ],
            [
             -121.51406578099994,
             36.00733837700005
            ],
            [
             -121.51410562299998,
             36.00736591100008
            ],
            [
             -121.51416039099996,
             36.00739099000003
            ],
            [
             -121.51422230799994,
             36.00740892300007
            ],
            [
             -121.51428958399998,
             36.00742149900003
            ],
            [
             -121.51436082199996,
             36.007430112000065
            ],
            [
             -121.51443494999995,
             36.007435833000045
            ],
            [
             -121.51451116399994,
             36.007439469000076
            ],
            [
             -121.51466759199997,
             36.00744274500005
            ],
            [
             -121.51490719399999,
             36.00744269300003
            ],
            [
             -121.51538987499998,
             36.00743912100006
            ],
            [
             -121.51562787399996,
             36.00744068300003
            ],
            [
             -121.51578166099995,
             36.007446608000066
            ],
            [
             -121.515855709,
             36.00745242100004
            ],
            [
             -121.51586844899998,
             36.00745398400005
            ]
           ],
           "type": "LineString"
          },
          "id": "1970",
          "properties": {
           "CHLOROPHYLL": 2.417483,
           "CSU_Descriptor": "steeply sloping, straight, medium erodibility, warm temperate dry, low river discharge, moderate wave energy, moderately tidal, euhaline-oxic-moderate to cool, clear, moderate chlorophyll",
           "CSU_ID": 70981,
           "Cluster": 6,
           "EMU_PHYSICAL": "Euhaline-Oxic-Moderate to Cool",
           "ERODIBILITY": "Medium",
           "GHM": 0.057545,
           "LENGTH_GEO": 808.7053256467224,
           "MAX_SLOPE": 108.650524,
           "MEAN_SIG_WAVEHEIGHT": 1.687268,
           "MasterKey": 2753663,
           "OBJECTID": 2753663,
           "OUTFLOW_DENSITY": 8671.790039,
           "OUTFLOW_DENSITY_RESCALED": 1.0484883786709782e-05,
           "REGIONAL_SINUOSITY": 1.140924,
           "RandomSort": 2361457.62831946,
           "Shape_Length": 0.008435847190592267,
           "TEMP_MOISTURE": "Warm Temperate Dry",
           "TIDAL_RANGE": 2.410373,
           "TURBIDITY": 0.024533,
           "chl_label": "moderate chlorophyll",
           "river_label": "low river discharge",
           "sinuosity_label": "straight",
           "slope_label": "steeply sloping",
           "style": {
            "color": "yellow",
            "dashArray": "5",
            "fillOpacity": 0.5,
            "fill_color": "yellow",
            "opacity": 1,
            "weight": 4
           },
           "tidal_label": "moderately tidal",
           "turbid_label": "clear",
           "wave_label": "moderate wave energy"
          },
          "type": "Feature"
         }
        ],
        "type": "FeatureCollection"
       },
       "hover_style": {
        "color": "white",
        "dashArray": "4",
        "fillOpacity": 0.7
       },
       "name": "W_USA_California_ref_shoreline",
       "style": {
        "color": "yellow",
        "dashArray": "5",
        "fillOpacity": 0.5,
        "fill_color": "yellow",
        "opacity": 1,
        "weight": 4
       }
      }
     },
     "f465de630b864255b4a3091bb732b33c": {
      "model_module": "@jupyter-widgets/controls",
      "model_module_version": "1.5.0",
      "model_name": "DescriptionStyleModel",
      "state": {
       "description_width": ""
      }
     },
     "f48859d746334142825f779ecc3b2b13": {
      "model_module": "jupyter-leaflet",
      "model_module_version": "^0.16.0",
      "model_name": "LeafletTileLayerModel",
      "state": {
       "_model_module_version": "^0.16.0",
       "_view_module_version": "^0.16.0",
       "attribution": "Map tiles by <a href=\"https://labs.strava.com/heatmap\">Strava 2021</a>",
       "max_native_zoom": 18,
       "max_zoom": 15,
       "min_native_zoom": 0,
       "name": "Strava.Run",
       "options": [
        "attribution",
        "bounds",
        "detect_retina",
        "max_native_zoom",
        "max_zoom",
        "min_native_zoom",
        "min_zoom",
        "no_wrap",
        "tile_size",
        "tms"
       ],
       "url": "https://heatmap-external-a.strava.com/tiles/run/bluered/{z}/{x}/{y}.png"
      }
     },
     "f51d3d696f564f78a499de2c8bc1dbed": {
      "model_module": "@jupyter-widgets/base",
      "model_module_version": "1.2.0",
      "model_name": "LayoutModel",
      "state": {
       "height": "auto",
       "padding": "0px 0px 0px 4px",
       "width": "auto"
      }
     },
     "f55fff34cb5247a296ef543a37e9f02b": {
      "model_module": "@jupyter-widgets/base",
      "model_module_version": "1.2.0",
      "model_name": "LayoutModel",
      "state": {
       "margin": "0px 0px 0px 0px"
      }
     },
     "f6561d4454d64a399a824794cd93192c": {
      "model_module": "jupyter-leaflet",
      "model_module_version": "^0.16.0",
      "model_name": "LeafletTileLayerModel",
      "state": {
       "_model_module_version": "^0.16.0",
       "_view_module_version": "^0.16.0",
       "attribution": "Tiles (C) Esri -- Source: Esri, i-cubed, USDA, USGS, AEX, GeoEye, Getmapping, Aerogrid, IGN, IGP, UPR-EGP, and the GIS User Community",
       "max_native_zoom": 18,
       "max_zoom": 22,
       "min_native_zoom": 0,
       "name": "Esri.WorldImagery",
       "options": [
        "attribution",
        "bounds",
        "detect_retina",
        "max_native_zoom",
        "max_zoom",
        "min_native_zoom",
        "min_zoom",
        "no_wrap",
        "tile_size",
        "tms"
       ],
       "url": "https://server.arcgisonline.com/ArcGIS/rest/services/World_Imagery/MapServer/tile/{z}/{y}/{x}"
      }
     },
     "f6d639a4d2bc460fb6d0cf15a86b40a2": {
      "model_module": "jupyter-leaflet",
      "model_module_version": "^0.16.0",
      "model_name": "LeafletTileLayerModel",
      "state": {
       "_model_module_version": "^0.16.0",
       "_view_module_version": "^0.16.0",
       "attribution": "Google",
       "max_native_zoom": 18,
       "max_zoom": 22,
       "min_native_zoom": 0,
       "name": "Google Satellite",
       "options": [
        "attribution",
        "bounds",
        "detect_retina",
        "max_native_zoom",
        "max_zoom",
        "min_native_zoom",
        "min_zoom",
        "no_wrap",
        "tile_size",
        "tms"
       ],
       "url": "https://mt1.google.com/vt/lyrs=s&x={x}&y={y}&z={z}"
      }
     },
     "f6fb0c4f555f4c0f99b41a4567af332e": {
      "model_module": "@jupyter-widgets/controls",
      "model_module_version": "1.5.0",
      "model_name": "ToggleButtonModel",
      "state": {
       "button_style": "primary",
       "icon": "stack-exchange",
       "layout": "IPY_MODEL_6d855af39ec1432cbe7a32e70814fd71",
       "style": "IPY_MODEL_8580027e58bf4d80a06b0aed488d0246",
       "tooltip": "Discover STAC Catalog"
      }
     },
     "f7d7fe2b0ae6458cbb33868f89555a8b": {
      "model_module": "jupyter-leaflet",
      "model_module_version": "^0.16.0",
      "model_name": "LeafletTileLayerModel",
      "state": {
       "_model_module_version": "^0.16.0",
       "_view_module_version": "^0.16.0",
       "attribution": "Google",
       "max_native_zoom": 18,
       "max_zoom": 22,
       "min_native_zoom": 0,
       "name": "Google Maps",
       "options": [
        "attribution",
        "bounds",
        "detect_retina",
        "max_native_zoom",
        "max_zoom",
        "min_native_zoom",
        "min_zoom",
        "no_wrap",
        "tile_size",
        "tms"
       ],
       "url": "https://mt1.google.com/vt/lyrs=m&x={x}&y={y}&z={z}"
      }
     },
     "fa0ee98b0e91448d99f8220d6099312a": {
      "model_module": "@jupyter-widgets/controls",
      "model_module_version": "1.5.0",
      "model_name": "DescriptionStyleModel",
      "state": {
       "description_width": ""
      }
     },
     "fa1e864efdbb4ad2826ecfe045ee2a1c": {
      "model_module": "jupyter-leaflet",
      "model_module_version": "^0.16.0",
      "model_name": "LeafletTileLayerModel",
      "state": {
       "_model_module_version": "^0.16.0",
       "_view_module_version": "^0.16.0",
       "attribution": "Kaartgegevens (C) Kadaster",
       "max_native_zoom": 18,
       "max_zoom": 19,
       "min_native_zoom": 0,
       "name": "nlmaps.standaard",
       "options": [
        "attribution",
        "bounds",
        "detect_retina",
        "max_native_zoom",
        "max_zoom",
        "min_native_zoom",
        "min_zoom",
        "no_wrap",
        "tile_size",
        "tms"
       ],
       "url": "https://service.pdok.nl/brt/achtergrondkaart/wmts/v2_0/standaard/EPSG:3857/{z}/{x}/{y}.png"
      }
     },
     "faee565378c0433c932b72228886525f": {
      "model_module": "@jupyter-widgets/controls",
      "model_module_version": "1.5.0",
      "model_name": "VBoxModel",
      "state": {
       "_view_count": 1,
       "children": [
        "IPY_MODEL_290eff97ae4549e89b4608822f19e4ad"
       ],
       "layout": "IPY_MODEL_955a79d16a7c45008669a08548532bff"
      }
     },
     "fb0e5932e1cc4d0db8f699db992cd68f": {
      "model_module": "@jupyter-widgets/controls",
      "model_module_version": "1.5.0",
      "model_name": "DatePickerModel",
      "state": {
       "description": "End Date",
       "disabled": false,
       "layout": "IPY_MODEL_59677ae0d4344c72950066d1e9f2dc9e",
       "style": "IPY_MODEL_5016bb8d2f4d4c6eb5ce9f457bb7c332",
       "value": {
        "date": 1,
        "month": 2,
        "year": 2019
       }
      }
     },
     "fb135cbebec447fe814a251e226de779": {
      "model_module": "@jupyter-widgets/controls",
      "model_module_version": "1.5.0",
      "model_name": "HTMLModel",
      "state": {
       "layout": "IPY_MODEL_1c74489137654529b3747ab2302f2312",
       "style": "IPY_MODEL_a7476c808ed64ec0a039efea82028125",
       "value": "<b>1. Use Data Folder Button</b>         <br> - When CoastSat downloads imagery it created a folder called 'data'in the CoastSeg directory.            The jpgs within the 'data' folder will be copied to another folder with a name such as            <span style=\"background-color:LightGray;\">segmentation_data_2022-07-07__10_hr_04_min58 </span>            (the date and time will be the current date and time) <br>            The model will be applied to this folder and the model outputs will be generated within a subdirectory             called 'out'"
      }
     },
     "fdf5c3156a9b4413b5fc8129f845aaaf": {
      "model_module": "jupyter-leaflet",
      "model_module_version": "^0.16.0",
      "model_name": "LeafletTileLayerModel",
      "state": {
       "_model_module_version": "^0.16.0",
       "_view_module_version": "^0.16.0",
       "attribution": "Datenquelle: basemap.at",
       "max_native_zoom": 18,
       "max_zoom": 19,
       "min_native_zoom": 0,
       "name": "BasemapAT.grau",
       "options": [
        "attribution",
        "bounds",
        "detect_retina",
        "max_native_zoom",
        "max_zoom",
        "min_native_zoom",
        "min_zoom",
        "no_wrap",
        "tile_size",
        "tms"
       ],
       "url": "https://maps.wien.gv.at/basemap/bmapgrau/normal/google3857/{z}/{y}/{x}.png"
      }
     },
     "fe2cb002e797455d8d4264360649920e": {
      "model_module": "@jupyter-widgets/controls",
      "model_module_version": "1.5.0",
      "model_name": "ButtonStyleModel",
      "state": {}
     },
     "fe49e931d06f42dd81810b01bb8f50cb": {
      "model_module": "jupyter-leaflet",
      "model_module_version": "^0.16.0",
      "model_name": "LeafletTileLayerModel",
      "state": {
       "_model_module_version": "^0.16.0",
       "_view_module_version": "^0.16.0",
       "attribution": "(C) OpenStreetMap contributors (C) CARTO",
       "max_native_zoom": 18,
       "max_zoom": 20,
       "min_native_zoom": 0,
       "name": "CartoDB.PositronNoLabels",
       "options": [
        "attribution",
        "bounds",
        "detect_retina",
        "max_native_zoom",
        "max_zoom",
        "min_native_zoom",
        "min_zoom",
        "no_wrap",
        "tile_size",
        "tms"
       ],
       "url": "https://a.basemaps.cartocdn.com/light_nolabels/{z}/{x}/{y}.png"
      }
     },
     "ff297a9e2d8e48058c06321da332fe75": {
      "model_module": "jupyter-leaflet",
      "model_module_version": "^0.16.0",
      "model_name": "LeafletMapStyleModel",
      "state": {
       "_model_module_version": "^0.16.0"
      }
     },
     "ff62614b04b14be398f1e7f3015f9da3": {
      "model_module": "@jupyter-widgets/controls",
      "model_module_version": "1.5.0",
      "model_name": "DescriptionStyleModel",
      "state": {
       "description_width": ""
      }
     },
     "ffcfe6ffa6144bcf9a6909cdb72b9671": {
      "model_module": "@jupyter-widgets/base",
      "model_module_version": "1.2.0",
      "model_name": "LayoutModel",
      "state": {}
     }
    },
    "version_major": 2,
    "version_minor": 0
   }
  }
 },
 "nbformat": 4,
 "nbformat_minor": 4
}
