{
 "cells": [
  {
   "cell_type": "code",
   "execution_count": 1,
   "metadata": {},
   "outputs": [],
   "source": [
    "import os\n",
    "import glob\n",
    "import json\n",
    "import shutil\n",
    "\n",
    "# External Imports\n",
    "import pandas as pd\n",
    "import geopandas as gpd"
   ]
  },
  {
   "cell_type": "markdown",
   "metadata": {},
   "source": [
    "## Step 1: Convert the New Geojson File to CRS 4326\n",
    "1. Enter the name of the geojson file into the variable **geojson_file**"
   ]
  },
  {
   "cell_type": "code",
   "execution_count": 2,
   "metadata": {},
   "outputs": [],
   "source": [
    "# enter the name of the geojson file\n",
    "geojson_file = \"\"\n",
    "# Example: geojson_file = \"usa_southeast_transects_DE.geojson\""
   ]
  },
  {
   "cell_type": "markdown",
   "metadata": {},
   "source": [
    "2. Move the geojson file into the main coastseg directory\n",
    "- Manually drop the file into the coastseg directory\n",
    "- After you moved the file there run the following block of code"
   ]
  },
  {
   "cell_type": "code",
   "execution_count": 4,
   "metadata": {},
   "outputs": [
    {
     "data": {
      "text/plain": [
       "'C:\\\\1_USGS\\\\1_CoastSeg\\\\1_official_CoastSeg_repo\\\\CoastSeg\\\\usa_southeast_transects_DE.geojson'"
      ]
     },
     "execution_count": 4,
     "metadata": {},
     "output_type": "execute_result"
    }
   ],
   "source": [
    "filepath = os.path.abspath(os.getcwd())+os.sep+geojson_file \n",
    "filepath"
   ]
  },
  {
   "cell_type": "markdown",
   "metadata": {},
   "source": [
    "3. Convert geojson file to crs 4326\n",
    "- Run the following code block to convert to epsg 4326"
   ]
  },
  {
   "cell_type": "code",
   "execution_count": 5,
   "metadata": {},
   "outputs": [],
   "source": [
    "# read the geojson file into a geodataframe\n",
    "gdf = gpd.read_file(filepath)\n",
    "# convert to new crs\n",
    "gdf = gdf.to_crs(\"epsg:4326\")\n",
    "# overwrites the original file\n",
    "gdf.to_file(filepath,driver=\"GeoJSON\")"
   ]
  },
  {
   "cell_type": "markdown",
   "metadata": {},
   "source": [
    "## Step 2: Create a new Bounding Box for all the transects\n",
    "1. Move the new geojson file into the transects directory\n",
    "- Run the following code block"
   ]
  },
  {
   "cell_type": "code",
   "execution_count": 6,
   "metadata": {},
   "outputs": [
    {
     "data": {
      "text/plain": [
       "'C:\\\\1_USGS\\\\1_CoastSeg\\\\1_official_CoastSeg_repo\\\\CoastSeg\\\\src\\\\coastseg\\\\transects\\\\usa_southeast_transects_DE.geojson'"
      ]
     },
     "execution_count": 6,
     "metadata": {},
     "output_type": "execute_result"
    }
   ],
   "source": [
    "# full path to transects directory which contains all the transect geojson files\n",
    "transects_folder=os.path.join(os.getcwd(),\"src\",\"coastseg\",\"transects\")\n",
    "destination = os.path.join(transects_folder,geojson_file)\n",
    "# move the new geojson file to the transects directory\n",
    "shutil.move(filepath, destination)"
   ]
  },
  {
   "cell_type": "markdown",
   "metadata": {},
   "source": [
    "2. Make a list of the full paths to all the transect geojson files in the transects directory"
   ]
  },
  {
   "cell_type": "code",
   "execution_count": 7,
   "metadata": {},
   "outputs": [
    {
     "data": {
      "text/plain": [
       "['C:\\\\1_USGS\\\\1_CoastSeg\\\\1_official_CoastSeg_repo\\\\CoastSeg\\\\src\\\\coastseg\\\\transects\\\\CA_USA_transects.geojson',\n",
       " 'C:\\\\1_USGS\\\\1_CoastSeg\\\\1_official_CoastSeg_repo\\\\CoastSeg\\\\src\\\\coastseg\\\\transects\\\\E_aus_transects.geojson',\n",
       " 'C:\\\\1_USGS\\\\1_CoastSeg\\\\1_official_CoastSeg_repo\\\\CoastSeg\\\\src\\\\coastseg\\\\transects\\\\Gulf_USA_transects.geojson',\n",
       " 'C:\\\\1_USGS\\\\1_CoastSeg\\\\1_official_CoastSeg_repo\\\\CoastSeg\\\\src\\\\coastseg\\\\transects\\\\SE_USA_transects.geojson',\n",
       " 'C:\\\\1_USGS\\\\1_CoastSeg\\\\1_official_CoastSeg_repo\\\\CoastSeg\\\\src\\\\coastseg\\\\transects\\\\usa_southeast_transects_DE.geojson']"
      ]
     },
     "execution_count": 7,
     "metadata": {},
     "output_type": "execute_result"
    }
   ],
   "source": [
    "transects=glob.glob(transects_folder+os.sep+\"*.geojson\")\n",
    "transects"
   ]
  },
  {
   "cell_type": "markdown",
   "metadata": {},
   "source": [
    "3. Make a list of all the transect geojson filenames in the transects directory"
   ]
  },
  {
   "cell_type": "code",
   "execution_count": 8,
   "metadata": {},
   "outputs": [
    {
     "data": {
      "text/plain": [
       "['CA_USA_transects.geojson',\n",
       " 'E_aus_transects.geojson',\n",
       " 'Gulf_USA_transects.geojson',\n",
       " 'SE_USA_transects.geojson',\n",
       " 'usa_southeast_transects_DE.geojson']"
      ]
     },
     "execution_count": 8,
     "metadata": {},
     "output_type": "execute_result"
    }
   ],
   "source": [
    "transect_layer_names=[os.path.basename(transect) for transect in transects]\n",
    "transect_layer_names"
   ]
  },
  {
   "cell_type": "markdown",
   "metadata": {},
   "source": [
    "4. Create a list of the total bounds for each transect geojson file\n",
    "- This might take awhile because it has to open and close each geojson file"
   ]
  },
  {
   "cell_type": "code",
   "execution_count": 9,
   "metadata": {},
   "outputs": [
    {
     "data": {
      "text/plain": [
       "[array([-124.40626381,   32.52562529, -117.12181865,   42.01425623]),\n",
       " array([149.494188, -37.756402, 153.637952, -24.700715]),\n",
       " array([-97.3795383 ,  25.11400715, -81.07621836,  30.40009356]),\n",
       " array([-81.45954415,  25.6659261 , -75.45661196,  36.92086215]),\n",
       " array([-75.09644343,  38.4513985 , -75.04261465,  38.81059761])]"
      ]
     },
     "execution_count": 9,
     "metadata": {},
     "output_type": "execute_result"
    }
   ],
   "source": [
    "transects_total_bounds=[gpd.read_file(transect_file).total_bounds for transect_file in transects]\n",
    "transects_total_bounds"
   ]
  },
  {
   "cell_type": "markdown",
   "metadata": {},
   "source": [
    "5. Create a dataframe with the total bounds and filename of each transects file"
   ]
  },
  {
   "cell_type": "code",
   "execution_count": 10,
   "metadata": {},
   "outputs": [
    {
     "data": {
      "text/html": [
       "<div>\n",
       "<style scoped>\n",
       "    .dataframe tbody tr th:only-of-type {\n",
       "        vertical-align: middle;\n",
       "    }\n",
       "\n",
       "    .dataframe tbody tr th {\n",
       "        vertical-align: top;\n",
       "    }\n",
       "\n",
       "    .dataframe thead th {\n",
       "        text-align: right;\n",
       "    }\n",
       "</style>\n",
       "<table border=\"1\" class=\"dataframe\">\n",
       "  <thead>\n",
       "    <tr style=\"text-align: right;\">\n",
       "      <th></th>\n",
       "      <th>minx</th>\n",
       "      <th>miny</th>\n",
       "      <th>maxx</th>\n",
       "      <th>maxy</th>\n",
       "      <th>filename</th>\n",
       "    </tr>\n",
       "  </thead>\n",
       "  <tbody>\n",
       "    <tr>\n",
       "      <th>0</th>\n",
       "      <td>-124.406264</td>\n",
       "      <td>32.525625</td>\n",
       "      <td>-117.121819</td>\n",
       "      <td>42.014256</td>\n",
       "      <td>CA_USA_transects.geojson</td>\n",
       "    </tr>\n",
       "    <tr>\n",
       "      <th>1</th>\n",
       "      <td>149.494188</td>\n",
       "      <td>-37.756402</td>\n",
       "      <td>153.637952</td>\n",
       "      <td>-24.700715</td>\n",
       "      <td>E_aus_transects.geojson</td>\n",
       "    </tr>\n",
       "    <tr>\n",
       "      <th>2</th>\n",
       "      <td>-97.379538</td>\n",
       "      <td>25.114007</td>\n",
       "      <td>-81.076218</td>\n",
       "      <td>30.400094</td>\n",
       "      <td>Gulf_USA_transects.geojson</td>\n",
       "    </tr>\n",
       "    <tr>\n",
       "      <th>3</th>\n",
       "      <td>-81.459544</td>\n",
       "      <td>25.665926</td>\n",
       "      <td>-75.456612</td>\n",
       "      <td>36.920862</td>\n",
       "      <td>SE_USA_transects.geojson</td>\n",
       "    </tr>\n",
       "    <tr>\n",
       "      <th>4</th>\n",
       "      <td>-75.096443</td>\n",
       "      <td>38.451398</td>\n",
       "      <td>-75.042615</td>\n",
       "      <td>38.810598</td>\n",
       "      <td>usa_southeast_transects_DE.geojson</td>\n",
       "    </tr>\n",
       "  </tbody>\n",
       "</table>\n",
       "</div>"
      ],
      "text/plain": [
       "         minx       miny        maxx       maxy  \\\n",
       "0 -124.406264  32.525625 -117.121819  42.014256   \n",
       "1  149.494188 -37.756402  153.637952 -24.700715   \n",
       "2  -97.379538  25.114007  -81.076218  30.400094   \n",
       "3  -81.459544  25.665926  -75.456612  36.920862   \n",
       "4  -75.096443  38.451398  -75.042615  38.810598   \n",
       "\n",
       "                             filename  \n",
       "0            CA_USA_transects.geojson  \n",
       "1             E_aus_transects.geojson  \n",
       "2          Gulf_USA_transects.geojson  \n",
       "3            SE_USA_transects.geojson  \n",
       "4  usa_southeast_transects_DE.geojson  "
      ]
     },
     "execution_count": 10,
     "metadata": {},
     "output_type": "execute_result"
    }
   ],
   "source": [
    "df = pd.DataFrame(transects_total_bounds,columns=['minx', 'miny', 'maxx', 'maxy'])\n",
    "df['filename'] = transect_layer_names\n",
    "df"
   ]
  },
  {
   "cell_type": "markdown",
   "metadata": {},
   "source": [
    "## Step 3: Save the dataframe to a csv file \n",
    "- Save the CSV file to the bounding_boxes directory"
   ]
  },
  {
   "cell_type": "code",
   "execution_count": 12,
   "metadata": {},
   "outputs": [],
   "source": [
    "csv_file = \"transects_bounding_boxes.csv\"\n",
    "bounding_box_path = os.path.join(os.getcwd(),\"src\",\"coastseg\",\"bounding_boxes\")\n",
    "csv_path = transect_folder=os.path.join(bounding_box_path,csv_file)\n",
    "df.to_csv(csv_path,index=False)"
   ]
  },
  {
   "cell_type": "markdown",
   "metadata": {},
   "source": [
    "## Step 4 (Optional): Open the csv file to verify it looks correct"
   ]
  },
  {
   "cell_type": "code",
   "execution_count": 13,
   "metadata": {},
   "outputs": [
    {
     "data": {
      "text/html": [
       "<div>\n",
       "<style scoped>\n",
       "    .dataframe tbody tr th:only-of-type {\n",
       "        vertical-align: middle;\n",
       "    }\n",
       "\n",
       "    .dataframe tbody tr th {\n",
       "        vertical-align: top;\n",
       "    }\n",
       "\n",
       "    .dataframe thead th {\n",
       "        text-align: right;\n",
       "    }\n",
       "</style>\n",
       "<table border=\"1\" class=\"dataframe\">\n",
       "  <thead>\n",
       "    <tr style=\"text-align: right;\">\n",
       "      <th></th>\n",
       "      <th>minx</th>\n",
       "      <th>miny</th>\n",
       "      <th>maxx</th>\n",
       "      <th>maxy</th>\n",
       "      <th>filename</th>\n",
       "    </tr>\n",
       "  </thead>\n",
       "  <tbody>\n",
       "    <tr>\n",
       "      <th>0</th>\n",
       "      <td>-124.406264</td>\n",
       "      <td>32.525625</td>\n",
       "      <td>-117.121819</td>\n",
       "      <td>42.014256</td>\n",
       "      <td>CA_USA_transects.geojson</td>\n",
       "    </tr>\n",
       "    <tr>\n",
       "      <th>1</th>\n",
       "      <td>149.494188</td>\n",
       "      <td>-37.756402</td>\n",
       "      <td>153.637952</td>\n",
       "      <td>-24.700715</td>\n",
       "      <td>E_aus_transects.geojson</td>\n",
       "    </tr>\n",
       "    <tr>\n",
       "      <th>2</th>\n",
       "      <td>-97.379538</td>\n",
       "      <td>25.114007</td>\n",
       "      <td>-81.076218</td>\n",
       "      <td>30.400094</td>\n",
       "      <td>Gulf_USA_transects.geojson</td>\n",
       "    </tr>\n",
       "    <tr>\n",
       "      <th>3</th>\n",
       "      <td>-81.459544</td>\n",
       "      <td>25.665926</td>\n",
       "      <td>-75.456612</td>\n",
       "      <td>36.920862</td>\n",
       "      <td>SE_USA_transects.geojson</td>\n",
       "    </tr>\n",
       "    <tr>\n",
       "      <th>4</th>\n",
       "      <td>-75.096443</td>\n",
       "      <td>38.451398</td>\n",
       "      <td>-75.042615</td>\n",
       "      <td>38.810598</td>\n",
       "      <td>usa_southeast_transects_DE.geojson</td>\n",
       "    </tr>\n",
       "  </tbody>\n",
       "</table>\n",
       "</div>"
      ],
      "text/plain": [
       "         minx       miny        maxx       maxy  \\\n",
       "0 -124.406264  32.525625 -117.121819  42.014256   \n",
       "1  149.494188 -37.756402  153.637952 -24.700715   \n",
       "2  -97.379538  25.114007  -81.076218  30.400094   \n",
       "3  -81.459544  25.665926  -75.456612  36.920862   \n",
       "4  -75.096443  38.451398  -75.042615  38.810598   \n",
       "\n",
       "                             filename  \n",
       "0            CA_USA_transects.geojson  \n",
       "1             E_aus_transects.geojson  \n",
       "2          Gulf_USA_transects.geojson  \n",
       "3            SE_USA_transects.geojson  \n",
       "4  usa_southeast_transects_DE.geojson  "
      ]
     },
     "execution_count": 13,
     "metadata": {},
     "output_type": "execute_result"
    }
   ],
   "source": [
    "transects_df=pd.read_csv(csv_path)\n",
    "transects_df"
   ]
  },
  {
   "cell_type": "code",
   "execution_count": null,
   "metadata": {},
   "outputs": [],
   "source": []
  }
 ],
 "metadata": {
  "kernelspec": {
   "display_name": "Python 3 (ipykernel)",
   "language": "python",
   "name": "python3"
  },
  "language_info": {
   "codemirror_mode": {
    "name": "ipython",
    "version": 3
   },
   "file_extension": ".py",
   "mimetype": "text/x-python",
   "name": "python",
   "nbconvert_exporter": "python",
   "pygments_lexer": "ipython3",
   "version": "3.10.8"
  },
  "vscode": {
   "interpreter": {
    "hash": "9d097efbdf24db87a2507c17c632c6d564e7aff5ba5cfc04e62a44a8b3d6a20a"
   }
  }
 },
 "nbformat": 4,
 "nbformat_minor": 4
}
