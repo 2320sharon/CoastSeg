{
 "cells": [
  {
   "cell_type": "code",
   "execution_count": null,
   "metadata": {},
   "outputs": [],
   "source": [
    "import warnings\n",
    "# External Imports\n",
    "from IPython.display import display, clear_output\n",
    "from tkinter import Tk,filedialog\n",
    "from ipyleaflet import GeoJSON\n",
    "# import ipywidgets as widgets\n",
    "from ipywidgets import Button, HBox, VBox, Layout, DatePicker, HTML, RadioButtons, SelectMultiple, Output, Checkbox\n",
    "import ipywidgets\n",
    "import os\n",
    "import datetime\n",
    "import glob\n",
    "import json\n",
    "import pandas as pd\n",
    "import geopandas as gpd\n",
    "from google.auth import exceptions as google_auth_exceptions\n",
    "import ee\n",
    "# New imports for coastsat shoreline extraction\n",
    "import numpy as np\n",
    "# Local Imports\n",
    "from CoastSeg import download_roi, file_functions, zoo_model_module, coastseg_map_class\n",
    "from coastsat import SDS_shoreline,SDS_download\n",
    "from tkinter import messagebox\n",
    "action_style=dict(button_color = '#ae3cf0')\n",
    "# suppress tensorflow warnings\n",
    "os.environ['TF_CPP_MIN_LOG_LEVEL'] = '3'"
   ]
  },
  {
   "cell_type": "markdown",
   "metadata": {},
   "source": [
    "## Authenticate and Initialize with Google Earth Engine (GEE)\n",
    "\n",
    "- Run this cell to initialize with GEE which will allow you to download remote sensing data from GEE.\n",
    "\n",
    "### First Time Users\n",
    "\n",
    "- In order to use Google Earth Engine (GEE) you will need to sign up to request access to use Google Earth Engine.https://signup.earthengine.google.com. You will only need to do this once and it takes only a day to get your account verified.\n",
    "\n",
    "### How `ee.Authenticate()` works\n",
    "\n",
    "- In order to initialize with GEE you will need an authorization token with is obtained by running `ee.Authenticate()`.This token lasts 7 days and during those 7 days you will not need to authenticate with google earth engine with an access code. Once the 7 days are up you will need to reauthenticate to use GEE again.\n"
   ]
  },
  {
   "cell_type": "code",
   "execution_count": null,
   "metadata": {},
   "outputs": [],
   "source": [
    "try:\n",
    "    ee.Initialize()\n",
    "except google_auth_exceptions.RefreshError as exception:\n",
    "    print(\"Please authenticate with Google:\\n\")\n",
    "    ee.Authenticate()\n",
    "    ee.Initialize()"
   ]
  },
  {
   "cell_type": "code",
   "execution_count": null,
   "metadata": {},
   "outputs": [],
   "source": [
    "# Date Widgets\n",
    "start_date=DatePicker(\n",
    "    description='Start Date',\n",
    "    value=datetime.date(2018, 12, 1),\n",
    "    disabled=False,\n",
    ")\n",
    "end_date=DatePicker(\n",
    "    description='End Date',\n",
    "    value=datetime.date(2019, 3, 1), #2019, 1, 1\n",
    "    disabled=False,\n",
    ")\n",
    "date_instr=HTML(\n",
    "    value=\"<b>Pick a date:</b>\",\n",
    "    layout=Layout(padding='10px')\n",
    ")\n",
    "dates_box=HBox([start_date,end_date])\n",
    "dates_vbox=VBox([date_instr,dates_box])\n",
    "\n",
    "\n",
    "collection_instr=HTML(\n",
    "    value=\"<b>Pick a collection</b>\\\n",
    "        <br> C01: LandSat Collection 1 \\\n",
    "        <br> C02: LandSat Collection 2  [2022/01/01 and beyond] \\\n",
    "        <br>      - Landsat 9 is only available in C02\",\n",
    "    layout=Layout(padding='10px')\n",
    ")\n",
    "collection_radio=RadioButtons(\n",
    "    options=['C01', 'C02'],\n",
    "    value='C01',\n",
    "    description='Collection:',\n",
    "    disabled=False\n",
    ")\n",
    "collection_vbox=VBox([collection_instr,collection_radio])\n",
    "\n",
    "sat_instr=HTML(\n",
    "    value=\"<b>Pick multiple satellites by holding the control key:</b> \\\n",
    "        <br> - images prior to 2022/01/01 will be downloaded from Collection 1 \\\n",
    "        <br> - images after 2022/01/01 will be automatically downloaded from Collection 2 \\\n",
    "        <br> C01: LandSat Collection 1 : All dates before 2022/01/01\\\n",
    "        <br> C02: LandSat Collection 2 : All dates after 2022/01/01 \\\n",
    "        <br> - Landsat 9 is only available in C02\",\n",
    "    layout=Layout(padding='10px')\n",
    ")\n",
    "\n",
    "\n",
    "satellite_selection=SelectMultiple(\n",
    "    options=['L5', 'L7', 'L8', 'S2'],\n",
    "    value=['L8'],\n",
    "    description='Satellites',\n",
    "    disabled=False\n",
    ")\n",
    "sat_vbox = VBox([sat_instr,satellite_selection])\n",
    "\n",
    "def handle_collection_change(change):\n",
    "    if change['new'] == 'C02':\n",
    "        satellite_selection.options=['L5', 'L7', 'L8', 'L9', 'S2']\n",
    "    else:\n",
    "        satellite_selection.options=['L5', 'L7', 'L8', 'S2']\n",
    "\n",
    "collection_radio.observe(handle_collection_change,\"value\")\n",
    "\n",
    "controls_vbox=VBox([dates_vbox, collection_vbox, sat_vbox])\n",
    "controls_vbox"
   ]
  },
  {
   "cell_type": "code",
   "execution_count": null,
   "metadata": {
    "scrolled": true
   },
   "outputs": [],
   "source": [
    "# CoastSat Download Variables\n",
    "# ------------------------------\n",
    "# Save the satellites selected to sat_list\n",
    "if satellite_selection.value:\n",
    "    sat_list = list(satellite_selection.value)\n",
    "elif not satellite_selection.value:\n",
    "    print(\"ERROR: You must select at least one satellite first\")\n",
    "# Save the dates selected by the user as well as the selected collection\n",
    "dates = [str(start_date.value),str(end_date.value)]\n",
    "collection = collection_radio.value\n",
    "print(f\"dates: {dates}\")\n",
    "print(f\"collection: {collection}\")\n",
    "print(f\"sat_list: {sat_list}\")"
   ]
  },
  {
   "cell_type": "markdown",
   "metadata": {},
   "source": [
    "## Settings for CoastSat\n",
    "\n",
    "Modify any of the following setting to determine how data is downloaded from CoastSat\n"
   ]
  },
  {
   "cell_type": "code",
   "execution_count": null,
   "metadata": {},
   "outputs": [],
   "source": [
    "pre_process_settings = { \n",
    "    # general parameters:\n",
    "    'cloud_thresh': 0.5,        # threshold on maximum cloud cover\n",
    "     'dist_clouds': 300,        # ditance around clouds where shoreline can't be mapped\n",
    "    'output_epsg': 3857,        # epsg code of spatial reference system desired for the output   \n",
    "    # quality control:\n",
    "    'check_detection': True,    # if True, shows each shoreline detection to the user for validation\n",
    "    'adjust_detection': False,  # if True, allows user to adjust the postion of each shoreline by changing the threhold\n",
    "    'save_figure': True,        # if True, saves a figure showing the mapped shoreline for each image\n",
    "    # [ONLY FOR ADVANCED USERS] shoreline detection parameters:\n",
    "    'min_beach_area': 4500,     # minimum area (in metres^2) for an object to be labelled as a beach\n",
    "    'buffer_size': 150,         # radius (in metres) of the buffer around sandy pixels considered in the shoreline detection\n",
    "    'min_length_sl': 200,       # minimum length (in metres) of shoreline perimeter to be valid\n",
    "    'cloud_mask_issue': False,  # switch this parameter to True if sand pixels are masked (in black) on many images  \n",
    "    'sand_color': 'default',    # 'default', 'dark' (for grey/black sand beaches) or 'bright' (for white sand beaches)\n",
    "    'pan_off':'False',          # if True, no pan-sharpening is performed on Landsat 7,8 and 9 imagery\n",
    "    'create_plot':False,        # True create a matplotlib plot of the image with the datetime as the title\n",
    "}"
   ]
  },
  {
   "cell_type": "markdown",
   "metadata": {},
   "source": [
    "# Create the Map\n",
    "\n",
    "- Create the map object here\n"
   ]
  },
  {
   "cell_type": "code",
   "execution_count": null,
   "metadata": {},
   "outputs": [],
   "source": [
    "coastseg_map=coastseg_map_class.CoastSeg_Map()"
   ]
  },
  {
   "cell_type": "code",
   "execution_count": null,
   "metadata": {},
   "outputs": [],
   "source": [
    "coastseg_map.set_sat_list(sat_list)\n",
    "coastseg_map.set_collection(collection)\n",
    "coastseg_map.set_dates(dates)\n",
    "coastseg_map.set_preprocess_settings(pre_process_settings)\n"
   ]
  },
  {
   "cell_type": "markdown",
   "metadata": {},
   "source": [
    "# How to Use The Map\n",
    "\n",
    "---\n",
    "\n",
    "1. Use the rectangle tool to draw a bounding box along the coastline.\n",
    "2. Click `Generate ROI` to create ROI rectangles along the coastline in the bounding box. This may take some time.\n",
    "\n",
    "- You should see a coastline appear in yellow and some rectangles along it.\n",
    "\n",
    "3. Click 1 or more ROIs then click `Save ROI` to save these ROIs for downloading later\n",
    "4. You're ready to download the ROIs. Run the next block of code.\n"
   ]
  },
  {
   "cell_type": "code",
   "execution_count": 1,
   "metadata": {},
   "outputs": [
    {
     "name": "stdout",
     "output_type": "stream",
     "text": [
      "Version:  2.9.1\n",
      "Eager mode:  True\n",
      "Version:  2.9.1\n",
      "Eager mode:  True\n",
      "GPU name:  []\n",
      "Num GPUs Available:  0\n"
     ]
    }
   ],
   "source": [
    "from CoastSeg.UI_models import UI_Models"
   ]
  },
  {
   "cell_type": "code",
   "execution_count": 2,
   "metadata": {},
   "outputs": [],
   "source": [
    "models_ui = UI_Models()"
   ]
  },
  {
   "cell_type": "code",
   "execution_count": 3,
   "metadata": {},
   "outputs": [
    {
     "data": {
      "application/vnd.jupyter.widget-view+json": {
       "model_id": "928f5bf9fbf645c1ac3bb9e79eaf6c29",
       "version_major": 2,
       "version_minor": 0
      },
      "text/plain": [
       "HBox(children=(Checkbox(value=False, description='Use GPU?', indent=False), Checkbox(value=False, description=…"
      ]
     },
     "metadata": {},
     "output_type": "display_data"
    },
    {
     "data": {
      "application/vnd.jupyter.widget-view+json": {
       "model_id": "3bd3dcb22b784deca84101d6d5c2786d",
       "version_major": 2,
       "version_minor": 0
      },
      "text/plain": [
       "Output()"
      ]
     },
     "metadata": {},
     "output_type": "display_data"
    },
    {
     "data": {
      "application/vnd.jupyter.widget-view+json": {
       "model_id": "67ac8815c035455ca58131a4f5bbe1dd",
       "version_major": 2,
       "version_minor": 0
      },
      "text/plain": [
       "HBox(children=(RadioButtons(description='Model Input:', options=('RGB', 'MNDWI'), value='RGB'), RadioButtons(d…"
      ]
     },
     "metadata": {},
     "output_type": "display_data"
    },
    {
     "data": {
      "application/vnd.jupyter.widget-view+json": {
       "model_id": "5d803b05506c4bc6ad0e2a79cfbf5c40",
       "version_major": 2,
       "version_minor": 0
      },
      "text/plain": [
       "VBox(children=(HTML(value='<h4>Click ONE of the following buttons:</h4>', layout=Layout(margin='0px 0px 0px 0p…"
      ]
     },
     "metadata": {},
     "output_type": "display_data"
    },
    {
     "data": {
      "application/vnd.jupyter.widget-view+json": {
       "model_id": "80062d10dd824077b54564173b31c37b",
       "version_major": 2,
       "version_minor": 0
      },
      "text/plain": [
       "Button(description='Use Data Button', style=ButtonStyle(button_color='#69add1'))"
      ]
     },
     "metadata": {},
     "output_type": "display_data"
    },
    {
     "data": {
      "application/vnd.jupyter.widget-view+json": {
       "model_id": "2044aba5ab3b4b90b9d157e36ae3d7c9",
       "version_major": 2,
       "version_minor": 0
      },
      "text/plain": [
       "Button(description='Select Your Images', style=ButtonStyle(button_color='#69add1'))"
      ]
     },
     "metadata": {},
     "output_type": "display_data"
    },
    {
     "data": {
      "application/vnd.jupyter.widget-view+json": {
       "model_id": "6ac7d1fa304d4081a7aa6c56c4fa5eb2",
       "version_major": 2,
       "version_minor": 0
      },
      "text/plain": [
       "HTML(value='____________________________________________________')"
      ]
     },
     "metadata": {},
     "output_type": "display_data"
    },
    {
     "data": {
      "application/vnd.jupyter.widget-view+json": {
       "model_id": "e01db027b3be4b7faad97710bda210f7",
       "version_major": 2,
       "version_minor": 0
      },
      "text/plain": [
       "Output(layout=Layout(border='1px solid black'))"
      ]
     },
     "metadata": {},
     "output_type": "display_data"
    },
    {
     "data": {
      "application/vnd.jupyter.widget-view+json": {
       "model_id": "5cb263b0184146cea97af76e3f178c31",
       "version_major": 2,
       "version_minor": 0
      },
      "text/plain": [
       "Button(description='Run Model', style=ButtonStyle(button_color='#ae3cf0'))"
      ]
     },
     "metadata": {},
     "output_type": "display_data"
    },
    {
     "data": {
      "application/vnd.jupyter.widget-view+json": {
       "model_id": "fd734a66d2b24b428646d57e2063107d",
       "version_major": 2,
       "version_minor": 0
      },
      "text/plain": [
       "Output(layout=Layout(border='1px solid black'))"
      ]
     },
     "metadata": {},
     "output_type": "display_data"
    },
    {
     "data": {
      "application/vnd.jupyter.widget-view+json": {
       "model_id": "d2ef99ad73954251af3b2bdd79ab7502",
       "version_major": 2,
       "version_minor": 0
      },
      "text/plain": [
       "Button(description='Open Model Results', style=ButtonStyle(button_color='#69add1'))"
      ]
     },
     "metadata": {},
     "output_type": "display_data"
    }
   ],
   "source": [
    "models_ui.create_dashboard()"
   ]
  },
  {
   "cell_type": "code",
   "execution_count": null,
   "metadata": {},
   "outputs": [],
   "source": [
    "models_ui.model_implementation"
   ]
  },
  {
   "cell_type": "code",
   "execution_count": null,
   "metadata": {},
   "outputs": [],
   "source": []
  },
  {
   "cell_type": "markdown",
   "metadata": {},
   "source": [
    "## Download the Selected ROIs\n",
    "\n",
    "- Download the satellite imagery for the ROIs using CoastSat.\n",
    "\n",
    "⚠️ Make sure you have clicked `Save ROI` before running the following code.\n",
    "\n",
    "### Parameters for download_imagery()\n",
    "\n",
    "1. `coastseg_map.selected_ROI` : geojson for the ROI clicked\n",
    "2. `pre_process_settings`: settings for downloading data using CoastSat\n",
    "3. `dates` : date range to download the imagery\n",
    "4. `sat_list` : list of satellites to download imagery from\n",
    "5. `collection` : LandSat Collection 1 (`C01`) or Collection 2 (`C02`)\n"
   ]
  },
  {
   "cell_type": "code",
   "execution_count": null,
   "metadata": {},
   "outputs": [],
   "source": [
    "from CoastSeg.UI_test import UI"
   ]
  },
  {
   "cell_type": "code",
   "execution_count": null,
   "metadata": {},
   "outputs": [],
   "source": [
    "model_dict={'sample_direc':None,'use_GPU':False,'use_CRF':False, 'implementation':'ENSEMBLE','model_type':'landsat_6229071'}\n",
    "\n",
    "RGB_models=['landsat_6229071', 'landsat_6230083','SWED-RGB_6824384','coast-train-RGB_6950479', 'S2-water-SWED_6950474']\n",
    "MNDWI_models=['SWED-MNDWI_6824342']\n",
    "\n",
    "model_view = Output(layout={'border': '1px solid black'})\n",
    "run_model_view = Output(layout={'border': '1px solid black'})\n",
    "GPU_view = Output()\n",
    "\n",
    "run_model_button = Button(description=\"Run Model\",style=action_style)\n",
    "use_data_button = Button(description=\"Use Data Button\",style=load_style)\n",
    "use_select_images_button = Button(description=\"Select Your Images\",style=load_style)\n",
    "open_results_button = Button(description=\"Open Model Results\",style=load_style)\n",
    "\n",
    "model_implementation = RadioButtons(\n",
    "    options=['ENSEMBLE', 'BEST'],\n",
    "   value='ENSEMBLE',\n",
    "    description='Select:',\n",
    "    disabled=False\n",
    ")\n",
    "\n",
    "\n",
    "model_input_dropdown = ipywidgets.RadioButtons(\n",
    "    options= ['RGB', 'MNDWI'],\n",
    "    value='RGB',\n",
    "    description='Model Input:',\n",
    "    disabled=False,\n",
    ")\n",
    "\n",
    "\n",
    "model_dropdown = ipywidgets.RadioButtons(\n",
    "    options = RGB_models,\n",
    "    value = RGB_models[0],\n",
    "    description='Select Model:',\n",
    "    disabled=False,\n",
    ")\n",
    "\n",
    "GPU_checkbox = Checkbox(\n",
    "    value=False,\n",
    "    description='Use GPU?',\n",
    "    disabled=False,\n",
    "    indent=False\n",
    ")\n",
    "\n",
    "CRF_checkbox = Checkbox(\n",
    "    value=False,\n",
    "    description='Use CRF post-processing',\n",
    "    disabled=False,\n",
    "    indent=False\n",
    ")\n",
    "\n",
    "\n",
    "def handle_model_type(change):\n",
    "    model_dict[\"model_type\"]=change['new']\n",
    "\n",
    "\n",
    "def handle_model_implementation(change):\n",
    "    model_dict[\"implementation\"]=change['new']\n",
    "\n",
    "\n",
    "@GPU_view.capture(clear_output=True)\n",
    "def handle_GPU_checkbox(change):\n",
    "    if change[\"new\"] == True:\n",
    "        model_dict[\"use_GPU\"]=True\n",
    "        print(\"Using the GPU\")\n",
    "    else:\n",
    "        model_dict[\"use_GPU\"]=False\n",
    "        print(\"Not using the GPU\")\n",
    "\n",
    "        \n",
    "@GPU_view.capture(clear_output=True)\n",
    "def handle_CRF_checkbox(change):\n",
    "    if change[\"new\"] == True:\n",
    "        model_dict[\"use_CRF\"]=True\n",
    "        print(\"Using CRF post-processing\")\n",
    "    else:\n",
    "        model_dict[\"use_CRF\"]=False\n",
    "        print(\"Not using CRF post-processing\")\n",
    "        \n",
    "\n",
    "@model_view.capture(clear_output=True)\n",
    "def use_data_button_clicked(button):\n",
    "    # Use the data folder as the input for segmentation\n",
    "    print(\"Loading in the jpgs from the data directory\")\n",
    "    # Copy the jpgs from data to a new folder called segmentation_data_[datetime]\n",
    "    if 'MNDWI' in model_dropdown.value:\n",
    "        sample_direc =r'C:\\1_USGS\\CoastSeg\\repos\\2_CoastSeg\\CoastSeg_fork\\Seg2Map\\MNDWI_outputs\\MNDWI_ouputs_2022-07-21__07_hr_57_min14'\n",
    "#         sample_direc = file_functions.get_jpgs_from_data('MNDWI')\n",
    "#         RGB_path=sample_direc+os.sep+'RGB'\n",
    "#         NIR_path=sample_direc+os.sep+'NIR'\n",
    "#         sample_direc = coastseg_map.RGB_to_MNDWI(RGB_path,NIR_path,sample_direc)\n",
    "        model_dict[\"sample_direc\"]=sample_direc\n",
    "    else:\n",
    "        sample_direc = file_functions.get_jpgs_from_data('RGB')\n",
    "        jpgs = glob.glob1(sample_direc + os.sep, \"*jpg\")\n",
    "        if jpgs == []:\n",
    "            # raise Exception(\"\\nThe directory contains no jpgs! Please select a directory with jpgs.\")\n",
    "            print(\"\\nERROR!\\nThe directory contains no jpgs! Please select a directory with jpgs.\")\n",
    "        elif jpgs != []:\n",
    "            model_dict[\"sample_direc\"]=sample_direc\n",
    "    print(f\"\\nContents of the data directory saved in {sample_direc}\")\n",
    "\n",
    "\n",
    "@model_view.capture(clear_output=True)\n",
    "def use_select_images_button_clicked(button):\n",
    "    # Prompt the user to select a directory of images                              \n",
    "    root.withdraw()                                        # Hide the main window.\n",
    "    root.call('wm', 'attributes', '.', '-topmost', True)   # Raise the root to the top of all windows.\n",
    "    # path to data directory containing data downloaded using coastsat\n",
    "    data_path = os.path.join(os.getcwd(),'data')\n",
    "    if os.path.exists(data_path):\n",
    "        data_path = os.path.join(os.getcwd(),'data')\n",
    "    else: \n",
    "        data_path = os.getcwd()\n",
    "    root.filename =  filedialog.askdirectory(initialdir = data_path,title = \"Select directory of images\",)\n",
    "    # Save the filename as an attribute of the button\n",
    "    if root.filename:\n",
    "        sample_direc= root.filename\n",
    "        print(f\"The images in the folder will be segmented :\\n{sample_direc} \")\n",
    "        jpgs = glob.glob1(sample_direc + os.sep, \"*jpg\")\n",
    "        if jpgs == []:\n",
    "            # raise Exception(\"\\nThe directory contains no jpgs! Please select a directory with jpgs.\")\n",
    "            print(\"\\nERROR!\\nThe directory contains no jpgs! Please select a directory with jpgs.\")\n",
    "        elif jpgs != []:\n",
    "            model_dict[\"sample_direc\"]=sample_direc\n",
    "    else:\n",
    "        # raise Exception(\"You must select a valid directory first!\")\n",
    "        print(\"You must select a valid directory first!\")\n",
    "\n",
    "@run_model_view.capture(clear_output=True)\n",
    "def run_model_button_clicked(button):\n",
    "    print(\"Called Run Model\")\n",
    "    if model_dict[\"sample_direc\"] is None:\n",
    "        print(\"You must click 'Use Data' or 'Select Images' First\")\n",
    "        return\n",
    "    else:\n",
    "        if model_dict[\"use_GPU\"] == False:\n",
    "            print(\"Not using the GPU\")\n",
    "            ## to use the CPU (not recommended):\n",
    "            os.environ['CUDA_VISIBLE_DEVICES'] = '-1'\n",
    "        elif model_dict[\"use_GPU\"] == True:\n",
    "            print(\"Using the GPU\")\n",
    "            #use the first available GPU\n",
    "            os.environ['CUDA_VISIBLE_DEVICES'] = '0' #'1'\n",
    "        \n",
    "        # Disable run and open results buttons while the model is running\n",
    "        open_results_button.disabled = True\n",
    "        run_model_button.disabled = True\n",
    "        # model_dict['implementation']=model_implementation.value\n",
    "        model_choice=model_dict['implementation']\n",
    "        zoo_model=zoo_model_module.Zoo_Model()\n",
    "        # specify dataset_id as well as data type to download selected model\n",
    "        dataset = 'MNDWI' if 'MNDWI' in model_dropdown.value else 'RGB'\n",
    "        dataset_id=model_dict['model_type']\n",
    "        # First download the specified model\n",
    "        zoo_model.download_model(dataset,dataset_id)\n",
    "        # Get weights as list\n",
    "        Ww=zoo_model.get_weights_list(model_choice)\n",
    "        # Load the model from the config files\n",
    "        model, model_list, config_files, model_types=zoo_model.get_model(Ww)\n",
    "        metadatadict=zoo_model.get_metadatadict(Ww,config_files, model_types)\n",
    "        # # Compute the segmentation\n",
    "        zoo_model.compute_segmentation(model_dict[\"sample_direc\"], model_list, metadatadict,model_dict['use_CRF'])\n",
    "        # Enable  run and open results buttons when model has exexcuted\n",
    "        run_model_button.disabled = False\n",
    "        open_results_button.disabled = False\n",
    "\n",
    "        \n",
    "@run_model_view.capture(clear_output=True)\n",
    "def open_results_button_clicked(button):\n",
    "    if model_dict[\"sample_direc\"] is None:\n",
    "        print(\"You must click 'Run Model' first\")\n",
    "    else:\n",
    "        # Open file viewer using tkinter                          \n",
    "        root.withdraw()                                        # Hide the main window.\n",
    "        root.call('wm', 'attributes', '.', '-topmost', True)   # Raise the root to the top of all windows.\n",
    "        # path to directory containing model outputs\n",
    "        model_results_path = os.path.abspath(model_dict[\"sample_direc\"])\n",
    "        if not os.path.exists(model_results_path):\n",
    "             raise FileNotFoundError\n",
    "        filedialog.askopenfiles(initialdir = model_results_path,title = \"Open Results\")\n",
    "\n",
    "\n",
    "def handle_model_input_change(change):\n",
    "    if change['new'] == 'MNDWI':\n",
    "        model_dropdown.options = MNDWI_models\n",
    "    if change['new'] == 'RGB':\n",
    "        model_dropdown.options = RGB_models\n",
    "\n",
    "model_implementation.observe(handle_model_implementation,\"value\")\n",
    "model_dropdown.observe(handle_model_type,\"value\")\n",
    "model_input_dropdown.observe(handle_model_input_change, names='value')\n",
    "GPU_checkbox.observe(handle_GPU_checkbox,\"value\")\n",
    "CRF_checkbox.observe(handle_CRF_checkbox,\"value\")\n",
    "\n",
    "\n",
    "run_model_button.on_click(run_model_button_clicked)\n",
    "use_data_button.on_click(use_data_button_clicked)\n",
    "use_select_images_button.on_click(use_select_images_button_clicked)\n",
    "open_results_button.on_click(open_results_button_clicked)\n",
    "\n",
    "\n",
    "line_widget=HTML(value=\"____________________________________________________\")\n",
    "\n",
    "instr_header=HTML(\n",
    "    value=\"<h4>Click ONE of the following buttons:</h4>\",layout=Layout(margin='0px 0px 0px 0px'))\n",
    "\n",
    "instr_use_data=HTML(\n",
    "    value=\"<b>1. Use Data Folder Button</b> \\\n",
    "        <br> - When CoastSat downloads imagery it created a folder called 'data'in the CoastSeg directory.\\\n",
    "            The jpgs within the 'data' folder will be copied to another folder with a name such as\\\n",
    "            <span style=\\\"background-color:LightGray;color: black;\\\">segmentation_data_2022-07-07__10_hr_04_min58 </span>\\\n",
    "            (the date and time will be the current date and time) <br> \\\n",
    "           The model will be applied to this folder and the model outputs will be generated within a subdirectory \\\n",
    "            called 'out'\",layout=Layout(margin='0px 0px 0px 20px'))\n",
    "\n",
    "instr_select_images=HTML(\n",
    "    value=\"<b>2. Select Images Button</b> \\\n",
    "        <br> - This will open a pop up window where the folder containing the jpgs can be selected.<br>\\\n",
    "             - The model will be applied to this folder and the model outputs will be generated within a subdirectory\\\n",
    "             called 'out'<br>\\\n",
    "      - <span style=\\\"background-color:yellow;color: black;\\\">WARNING :</span> You will not be able to see the files within the folder you select.<br>\\\n",
    "    \",layout=Layout(margin='0px 0px 0px 20px'))\n",
    "\n",
    "instr_run_model=HTML(\n",
    "    value=\"<b>3. Run Model Button</b> \\\n",
    "        <br> - Make sure to click Select Images Button or Use Data Button.<br>\\\n",
    "             - The model will be applied to the selected folder and the model outputs will be generated within a subdirectory\\\n",
    "             called 'out'<br>\\\n",
    "      - <span style=\\\"background-color:yellow;color: black;\\\">WARNING :</span> You should not run multiple models on the same folder. Otherwise not all the model outputs\\\n",
    "      will be saved to the folder.<br>\\\n",
    "    \",layout=Layout(margin='0px 0px 0px 20px'))\n",
    "\n",
    "# HBox([model_input_dropdown, model_dropdown])\n",
    "model_choices_box=HBox([model_input_dropdown,model_dropdown, model_implementation])\n",
    "checkboxes = HBox([GPU_checkbox,CRF_checkbox])\n",
    "instr_vbox=VBox([instr_header, line_widget, instr_use_data, instr_select_images, instr_run_model])\n",
    "\n",
    "display(checkboxes, GPU_view,model_choices_box,instr_vbox,use_data_button,use_select_images_button,line_widget, model_view,run_model_button,run_model_view,open_results_button)"
   ]
  },
  {
   "cell_type": "code",
   "execution_count": null,
   "metadata": {},
   "outputs": [],
   "source": []
  }
 ],
 "metadata": {
  "kernelspec": {
   "display_name": "Python 3 (ipykernel)",
   "language": "python",
   "name": "python3"
  },
  "language_info": {
   "codemirror_mode": {
    "name": "ipython",
    "version": 3
   },
   "file_extension": ".py",
   "mimetype": "text/x-python",
   "name": "python",
   "nbconvert_exporter": "python",
   "pygments_lexer": "ipython3",
   "version": "3.10.4"
  },
  "vscode": {
   "interpreter": {
    "hash": "e7e0b71b84936f4c046643fa97da9b9fd1e868f7556eada16732fe46daf36dd2"
   }
  },
  "widgets": {
   "application/vnd.jupyter.widget-state+json": {
    "state": {
     "0377317d491b4fee9642374c91c07235": {
      "model_module": "@jupyter-widgets/base",
      "model_module_version": "1.2.0",
      "model_name": "LayoutModel",
      "state": {}
     },
     "057a17d8b95c4091a817d502c95ea8bf": {
      "model_module": "@jupyter-widgets/controls",
      "model_module_version": "1.5.0",
      "model_name": "DescriptionStyleModel",
      "state": {
       "description_width": ""
      }
     },
     "0707fcb7827a4d0fadc13687dc6b15df": {
      "model_module": "@jupyter-widgets/controls",
      "model_module_version": "1.5.0",
      "model_name": "ButtonStyleModel",
      "state": {
       "button_color": "#ae3cf0"
      }
     },
     "0bd6a836315e4330a66341e190e3aa66": {
      "model_module": "@jupyter-widgets/base",
      "model_module_version": "1.2.0",
      "model_name": "LayoutModel",
      "state": {}
     },
     "0c8ea7b2665d443eae33e2e74829e096": {
      "model_module": "@jupyter-widgets/base",
      "model_module_version": "1.2.0",
      "model_name": "LayoutModel",
      "state": {
       "margin": "0px 0px 0px 0px"
      }
     },
     "0d3c7701ddb741ccbf901b6d39fd5716": {
      "model_module": "@jupyter-widgets/controls",
      "model_module_version": "1.5.0",
      "model_name": "ProgressStyleModel",
      "state": {
       "description_width": ""
      }
     },
     "1021a994ed9448c89bc57c9ad93530a2": {
      "model_module": "@jupyter-widgets/controls",
      "model_module_version": "1.5.0",
      "model_name": "ButtonStyleModel",
      "state": {
       "button_color": "#69add1"
      }
     },
     "10abd9f3713346abae4522a7fbd5d59e": {
      "model_module": "@jupyter-widgets/base",
      "model_module_version": "1.2.0",
      "model_name": "LayoutModel",
      "state": {}
     },
     "1523f56123364f87a07a7377baff82d5": {
      "model_module": "@jupyter-widgets/base",
      "model_module_version": "1.2.0",
      "model_name": "LayoutModel",
      "state": {}
     },
     "19c16d543d2245a2a0c01d808b0ad272": {
      "model_module": "@jupyter-widgets/base",
      "model_module_version": "1.2.0",
      "model_name": "LayoutModel",
      "state": {}
     },
     "1beb7803ad164803a9c3bbae6a5d7546": {
      "model_module": "@jupyter-widgets/base",
      "model_module_version": "1.2.0",
      "model_name": "LayoutModel",
      "state": {}
     },
     "1d4bf341111347af8365f699fd31dba2": {
      "model_module": "@jupyter-widgets/base",
      "model_module_version": "1.2.0",
      "model_name": "LayoutModel",
      "state": {}
     },
     "2044aba5ab3b4b90b9d157e36ae3d7c9": {
      "model_module": "@jupyter-widgets/controls",
      "model_module_version": "1.5.0",
      "model_name": "ButtonModel",
      "state": {
       "description": "Select Your Images",
       "layout": "IPY_MODEL_1523f56123364f87a07a7377baff82d5",
       "style": "IPY_MODEL_1021a994ed9448c89bc57c9ad93530a2"
      }
     },
     "257ab7dabc534d00bad1a1864c297852": {
      "model_module": "@jupyter-widgets/controls",
      "model_module_version": "1.5.0",
      "model_name": "ButtonStyleModel",
      "state": {
       "button_color": "#69add1"
      }
     },
     "264cb3745f4145c48a578fbc611e100c": {
      "model_module": "@jupyter-widgets/controls",
      "model_module_version": "1.5.0",
      "model_name": "DescriptionStyleModel",
      "state": {
       "description_width": ""
      }
     },
     "2e000c1bc24247d3852113a88e1feaae": {
      "model_module": "@jupyter-widgets/base",
      "model_module_version": "1.2.0",
      "model_name": "LayoutModel",
      "state": {}
     },
     "31692f9f3b6548629434620821fd8084": {
      "model_module": "@jupyter-widgets/controls",
      "model_module_version": "1.5.0",
      "model_name": "CheckboxModel",
      "state": {
       "description": "Use GPU?",
       "disabled": false,
       "indent": false,
       "layout": "IPY_MODEL_efb2e432c05d4732ac0e1bf31a6e3f8c",
       "style": "IPY_MODEL_057a17d8b95c4091a817d502c95ea8bf",
       "value": false
      }
     },
     "32824a8d818646f0bed8e42cd476efdc": {
      "model_module": "@jupyter-widgets/controls",
      "model_module_version": "1.5.0",
      "model_name": "HTMLModel",
      "state": {
       "layout": "IPY_MODEL_eabbcaeddb9b4325be918213dc1779cb",
       "style": "IPY_MODEL_6a346f03ae9345bbbe6806725b9ae19f",
       "value": "<b>3. Run Model Button</b>                 <br> - Make sure to click Select Images Button or Use Data Button.<br>                    - The model will be applied to the selected folder and the model outputs will be generated within a subdirectory                    called 'out'<br>            - <span style=\"background-color:yellow;color: black;\">WARNING :</span> You should not run multiple models on the same folder. Otherwise not all the model outputs            will be saved to the folder.<br>            "
      }
     },
     "32c13abbe273478abae52da96e91b68d": {
      "model_module": "@jupyter-widgets/controls",
      "model_module_version": "1.5.0",
      "model_name": "HTMLModel",
      "state": {
       "layout": "IPY_MODEL_33cb8f5167c74107a7befc76a2000e9a",
       "style": "IPY_MODEL_f61289fc075d458f9351ed23524b9c82",
       "value": "<b>2. Select Images Button</b>                 <br> - This will open a pop up window where the folder containing the jpgs can be selected.<br>                    - The model will be applied to this folder and the model outputs will be generated within a subdirectory                    called 'out'<br>            - <span style=\"background-color:yellow;color: black;\">WARNING :</span> You will not be able to see the files within the folder you select.<br>            "
      }
     },
     "33cb8f5167c74107a7befc76a2000e9a": {
      "model_module": "@jupyter-widgets/base",
      "model_module_version": "1.2.0",
      "model_name": "LayoutModel",
      "state": {
       "margin": "0px 0px 0px 20px"
      }
     },
     "33d661e1bfd04549af5b1adf87e8ec42": {
      "model_module": "@jupyter-widgets/controls",
      "model_module_version": "1.5.0",
      "model_name": "ButtonStyleModel",
      "state": {
       "button_color": "#69add1"
      }
     },
     "33e12955dc4e41bb8d0d518713663234": {
      "model_module": "@jupyter-widgets/base",
      "model_module_version": "1.2.0",
      "model_name": "LayoutModel",
      "state": {}
     },
     "3415443d80d043d99ea32eee3c737e7c": {
      "model_module": "@jupyter-widgets/controls",
      "model_module_version": "1.5.0",
      "model_name": "DescriptionStyleModel",
      "state": {
       "description_width": ""
      }
     },
     "3692925edfa844ffa0bae5942bca9fc2": {
      "model_module": "@jupyter-widgets/controls",
      "model_module_version": "1.5.0",
      "model_name": "DescriptionStyleModel",
      "state": {
       "description_width": ""
      }
     },
     "37c4a8dbc95e4d029b6f08b4e7841b14": {
      "model_module": "@jupyter-widgets/controls",
      "model_module_version": "1.5.0",
      "model_name": "DescriptionStyleModel",
      "state": {
       "description_width": ""
      }
     },
     "3bd3dcb22b784deca84101d6d5c2786d": {
      "model_module": "@jupyter-widgets/output",
      "model_module_version": "1.0.0",
      "model_name": "OutputModel",
      "state": {
       "layout": "IPY_MODEL_709acfa19540461d8138de36bd430461",
       "outputs": [
        {
         "name": "stdout",
         "output_type": "stream",
         "text": "Not using the GPU\n"
        }
       ]
      }
     },
     "4614077cd2d6406cb0b9ad75dd0aef3d": {
      "model_module": "@jupyter-widgets/base",
      "model_module_version": "1.2.0",
      "model_name": "LayoutModel",
      "state": {
       "margin": "0px 0px 0px 20px"
      }
     },
     "49e964b8d18b4604a3b17bb4f5dc80fe": {
      "model_module": "@jupyter-widgets/controls",
      "model_module_version": "1.5.0",
      "model_name": "HTMLModel",
      "state": {
       "layout": "IPY_MODEL_0c8ea7b2665d443eae33e2e74829e096",
       "style": "IPY_MODEL_3415443d80d043d99ea32eee3c737e7c",
       "value": "<h4>Click ONE of the following buttons:</h4>"
      }
     },
     "5cb263b0184146cea97af76e3f178c31": {
      "model_module": "@jupyter-widgets/controls",
      "model_module_version": "1.5.0",
      "model_name": "ButtonModel",
      "state": {
       "description": "Run Model",
       "disabled": true,
       "layout": "IPY_MODEL_1d4bf341111347af8365f699fd31dba2",
       "style": "IPY_MODEL_0707fcb7827a4d0fadc13687dc6b15df"
      }
     },
     "5d803b05506c4bc6ad0e2a79cfbf5c40": {
      "model_module": "@jupyter-widgets/controls",
      "model_module_version": "1.5.0",
      "model_name": "VBoxModel",
      "state": {
       "children": [
        "IPY_MODEL_49e964b8d18b4604a3b17bb4f5dc80fe",
        "IPY_MODEL_6ac7d1fa304d4081a7aa6c56c4fa5eb2",
        "IPY_MODEL_7d9d55a7171648b18f91f929e3c248ef",
        "IPY_MODEL_32c13abbe273478abae52da96e91b68d",
        "IPY_MODEL_32824a8d818646f0bed8e42cd476efdc"
       ],
       "layout": "IPY_MODEL_9853b9fc079b4eda9c9d522c9c36afa4"
      }
     },
     "67ac8815c035455ca58131a4f5bbe1dd": {
      "model_module": "@jupyter-widgets/controls",
      "model_module_version": "1.5.0",
      "model_name": "HBoxModel",
      "state": {
       "children": [
        "IPY_MODEL_b9b766bd6725425f96102aa79ccd0618",
        "IPY_MODEL_74110c88e4f943e693dd79b0bdb3b639",
        "IPY_MODEL_fe50e6df345e478da3c2edbd8f322d03"
       ],
       "layout": "IPY_MODEL_19c16d543d2245a2a0c01d808b0ad272"
      }
     },
     "690db0909188443fb9057414356177e4": {
      "model_module": "@jupyter-widgets/controls",
      "model_module_version": "1.5.0",
      "model_name": "HBoxModel",
      "state": {
       "children": [
        "IPY_MODEL_b3eb41148bed481783615b8470772b6a",
        "IPY_MODEL_cc54dbab474641f79a5c2d5caddab37f",
        "IPY_MODEL_b1408ae92ff144d29b9983ac42da8b9c"
       ],
       "layout": "IPY_MODEL_0377317d491b4fee9642374c91c07235"
      }
     },
     "6a346f03ae9345bbbe6806725b9ae19f": {
      "model_module": "@jupyter-widgets/controls",
      "model_module_version": "1.5.0",
      "model_name": "DescriptionStyleModel",
      "state": {
       "description_width": ""
      }
     },
     "6ac7d1fa304d4081a7aa6c56c4fa5eb2": {
      "model_module": "@jupyter-widgets/controls",
      "model_module_version": "1.5.0",
      "model_name": "HTMLModel",
      "state": {
       "layout": "IPY_MODEL_1beb7803ad164803a9c3bbae6a5d7546",
       "style": "IPY_MODEL_b83c4082f4014a229c0c15f497f10a3f",
       "value": "____________________________________________________"
      }
     },
     "709acfa19540461d8138de36bd430461": {
      "model_module": "@jupyter-widgets/base",
      "model_module_version": "1.2.0",
      "model_name": "LayoutModel",
      "state": {}
     },
     "74110c88e4f943e693dd79b0bdb3b639": {
      "model_module": "@jupyter-widgets/controls",
      "model_module_version": "1.5.0",
      "model_name": "RadioButtonsModel",
      "state": {
       "_options_labels": [
        "landsat_6229071",
        "landsat_6230083",
        "SWED-RGB_6824384",
        "coast-train-RGB_6950479",
        "S2-water-SWED_6950474"
       ],
       "description": "Select Model:",
       "index": 0,
       "layout": "IPY_MODEL_a753ac131f0f494f89210925953b2700",
       "style": "IPY_MODEL_c4183855e04f439eb766faf2256c96d7"
      }
     },
     "742a25d783fb42d983d7f8ad4618a847": {
      "model_module": "@jupyter-widgets/base",
      "model_module_version": "1.2.0",
      "model_name": "LayoutModel",
      "state": {}
     },
     "7ccaa985aaa64fc8974df2c3e0ab4dd3": {
      "model_module": "@jupyter-widgets/base",
      "model_module_version": "1.2.0",
      "model_name": "LayoutModel",
      "state": {}
     },
     "7d9d55a7171648b18f91f929e3c248ef": {
      "model_module": "@jupyter-widgets/controls",
      "model_module_version": "1.5.0",
      "model_name": "HTMLModel",
      "state": {
       "layout": "IPY_MODEL_4614077cd2d6406cb0b9ad75dd0aef3d",
       "style": "IPY_MODEL_b4d1b7ab9125493aab01d30f2c1d63f0",
       "value": "<b>1. Use Data Folder Button</b>                 <br> - When CoastSat downloads imagery it created a folder called 'data'in the CoastSeg directory.                    The jpgs within the 'data' folder will be copied to another folder with a name such as                    <span style=\"background-color:LightGray;color: black;\">segmentation_data_2022-07-07__10_hr_04_min58 </span>                    (the date and time will be the current date and time) <br>                 The model will be applied to this folder and the model outputs will be generated within a subdirectory                     called 'out'"
      }
     },
     "80062d10dd824077b54564173b31c37b": {
      "model_module": "@jupyter-widgets/controls",
      "model_module_version": "1.5.0",
      "model_name": "ButtonModel",
      "state": {
       "description": "Use Data Button",
       "layout": "IPY_MODEL_d9c132d8ed0b4947aca3426daec83458",
       "style": "IPY_MODEL_33d661e1bfd04549af5b1adf87e8ec42"
      }
     },
     "89f8acb7c9d646f287f63c6154a91f04": {
      "model_module": "@jupyter-widgets/controls",
      "model_module_version": "1.5.0",
      "model_name": "CheckboxModel",
      "state": {
       "description": "Use CRF post-processing",
       "disabled": false,
       "indent": false,
       "layout": "IPY_MODEL_ff6ddcebaf6b4f6a9eb785ef049a2e9e",
       "style": "IPY_MODEL_37c4a8dbc95e4d029b6f08b4e7841b14",
       "value": true
      }
     },
     "8acdcab754f04a0aafd30a704ee2f2fa": {
      "model_module": "@jupyter-widgets/base",
      "model_module_version": "1.2.0",
      "model_name": "LayoutModel",
      "state": {
       "border": "1px solid black"
      }
     },
     "928f5bf9fbf645c1ac3bb9e79eaf6c29": {
      "model_module": "@jupyter-widgets/controls",
      "model_module_version": "1.5.0",
      "model_name": "HBoxModel",
      "state": {
       "children": [
        "IPY_MODEL_31692f9f3b6548629434620821fd8084",
        "IPY_MODEL_89f8acb7c9d646f287f63c6154a91f04"
       ],
       "layout": "IPY_MODEL_7ccaa985aaa64fc8974df2c3e0ab4dd3"
      }
     },
     "9853b9fc079b4eda9c9d522c9c36afa4": {
      "model_module": "@jupyter-widgets/base",
      "model_module_version": "1.2.0",
      "model_name": "LayoutModel",
      "state": {}
     },
     "9b7c00ef5fd4453f861ccde0660d9c1e": {
      "model_module": "@jupyter-widgets/controls",
      "model_module_version": "1.5.0",
      "model_name": "DescriptionStyleModel",
      "state": {
       "description_width": ""
      }
     },
     "a54c60ee66cd431ea29e44956fa56bd6": {
      "model_module": "@jupyter-widgets/controls",
      "model_module_version": "1.5.0",
      "model_name": "DescriptionStyleModel",
      "state": {
       "description_width": ""
      }
     },
     "a753ac131f0f494f89210925953b2700": {
      "model_module": "@jupyter-widgets/base",
      "model_module_version": "1.2.0",
      "model_name": "LayoutModel",
      "state": {}
     },
     "b1408ae92ff144d29b9983ac42da8b9c": {
      "model_module": "@jupyter-widgets/controls",
      "model_module_version": "1.5.0",
      "model_name": "HTMLModel",
      "state": {
       "layout": "IPY_MODEL_beeeebd2f5904810aeda6950525e5c32",
       "style": "IPY_MODEL_264cb3745f4145c48a578fbc611e100c",
       "value": " 0/7 [00:00&lt;?, ?it/s]"
      }
     },
     "b3eb41148bed481783615b8470772b6a": {
      "model_module": "@jupyter-widgets/controls",
      "model_module_version": "1.5.0",
      "model_name": "HTMLModel",
      "state": {
       "layout": "IPY_MODEL_10abd9f3713346abae4522a7fbd5d59e",
       "style": "IPY_MODEL_a54c60ee66cd431ea29e44956fa56bd6",
       "value": "  0%"
      }
     },
     "b4d1b7ab9125493aab01d30f2c1d63f0": {
      "model_module": "@jupyter-widgets/controls",
      "model_module_version": "1.5.0",
      "model_name": "DescriptionStyleModel",
      "state": {
       "description_width": ""
      }
     },
     "b83c4082f4014a229c0c15f497f10a3f": {
      "model_module": "@jupyter-widgets/controls",
      "model_module_version": "1.5.0",
      "model_name": "DescriptionStyleModel",
      "state": {
       "description_width": ""
      }
     },
     "b9b766bd6725425f96102aa79ccd0618": {
      "model_module": "@jupyter-widgets/controls",
      "model_module_version": "1.5.0",
      "model_name": "RadioButtonsModel",
      "state": {
       "_options_labels": [
        "RGB",
        "MNDWI"
       ],
       "description": "Model Input:",
       "index": 0,
       "layout": "IPY_MODEL_0bd6a836315e4330a66341e190e3aa66",
       "style": "IPY_MODEL_9b7c00ef5fd4453f861ccde0660d9c1e"
      }
     },
     "ba591970c590462f80a51ac5fba7e45d": {
      "model_module": "@jupyter-widgets/base",
      "model_module_version": "1.2.0",
      "model_name": "LayoutModel",
      "state": {
       "border": "1px solid black"
      }
     },
     "beeeebd2f5904810aeda6950525e5c32": {
      "model_module": "@jupyter-widgets/base",
      "model_module_version": "1.2.0",
      "model_name": "LayoutModel",
      "state": {}
     },
     "c4183855e04f439eb766faf2256c96d7": {
      "model_module": "@jupyter-widgets/controls",
      "model_module_version": "1.5.0",
      "model_name": "DescriptionStyleModel",
      "state": {
       "description_width": ""
      }
     },
     "cc54dbab474641f79a5c2d5caddab37f": {
      "model_module": "@jupyter-widgets/controls",
      "model_module_version": "1.5.0",
      "model_name": "FloatProgressModel",
      "state": {
       "layout": "IPY_MODEL_33e12955dc4e41bb8d0d518713663234",
       "max": 7,
       "style": "IPY_MODEL_0d3c7701ddb741ccbf901b6d39fd5716"
      }
     },
     "d2ef99ad73954251af3b2bdd79ab7502": {
      "model_module": "@jupyter-widgets/controls",
      "model_module_version": "1.5.0",
      "model_name": "ButtonModel",
      "state": {
       "description": "Open Model Results",
       "disabled": true,
       "layout": "IPY_MODEL_742a25d783fb42d983d7f8ad4618a847",
       "style": "IPY_MODEL_257ab7dabc534d00bad1a1864c297852"
      }
     },
     "d9c132d8ed0b4947aca3426daec83458": {
      "model_module": "@jupyter-widgets/base",
      "model_module_version": "1.2.0",
      "model_name": "LayoutModel",
      "state": {}
     },
     "e01db027b3be4b7faad97710bda210f7": {
      "model_module": "@jupyter-widgets/output",
      "model_module_version": "1.0.0",
      "model_name": "OutputModel",
      "state": {
       "layout": "IPY_MODEL_8acdcab754f04a0aafd30a704ee2f2fa",
       "outputs": [
        {
         "name": "stdout",
         "output_type": "stream",
         "text": "The images in the folder will be segmented :\nC:/1_USGS/CoastSeg/repos/2_CoastSeg/CoastSeg_fork/Seg2Map/data/ID02022-09-28__18_hr_29_min56/jpg_files/preprocessed/RGB \n"
        }
       ]
      }
     },
     "eabbcaeddb9b4325be918213dc1779cb": {
      "model_module": "@jupyter-widgets/base",
      "model_module_version": "1.2.0",
      "model_name": "LayoutModel",
      "state": {
       "margin": "0px 0px 0px 20px"
      }
     },
     "efb2e432c05d4732ac0e1bf31a6e3f8c": {
      "model_module": "@jupyter-widgets/base",
      "model_module_version": "1.2.0",
      "model_name": "LayoutModel",
      "state": {}
     },
     "f61289fc075d458f9351ed23524b9c82": {
      "model_module": "@jupyter-widgets/controls",
      "model_module_version": "1.5.0",
      "model_name": "DescriptionStyleModel",
      "state": {
       "description_width": ""
      }
     },
     "fd734a66d2b24b428646d57e2063107d": {
      "model_module": "@jupyter-widgets/output",
      "model_module_version": "1.0.0",
      "model_name": "OutputModel",
      "state": {
       "layout": "IPY_MODEL_ba591970c590462f80a51ac5fba7e45d",
       "msg_id": "042e4eae-40c8-4565-9cf1-5e0055a863a2",
       "outputs": [
        {
         "name": "stdout",
         "output_type": "stream",
         "text": "Called Run Model\nNot using the GPU\n\n outfile: C:\\1_USGS\\CoastSeg\\repos\\2_CoastSeg\\CoastSeg_fork\\Seg2Map\\CoastSeg\\downloaded_models\\landsat_6229071\\rgb\n"
        },
        {
         "data": {
          "application/vnd.jupyter.widget-view+json": {
           "model_id": "690db0909188443fb9057414356177e4",
           "version_major": 2,
           "version_minor": 0
          },
          "text/plain": "  0%|          | 0/7 [00:00<?, ?it/s]"
         },
         "metadata": {},
         "output_type": "display_data"
        },
        {
         "name": "stdout",
         "output_type": "stream",
         "text": "1/1 [==============================] - 4s 4s/step\n"
        }
       ]
      }
     },
     "fe50e6df345e478da3c2edbd8f322d03": {
      "model_module": "@jupyter-widgets/controls",
      "model_module_version": "1.5.0",
      "model_name": "RadioButtonsModel",
      "state": {
       "_options_labels": [
        "ENSEMBLE",
        "BEST"
       ],
       "description": "Select:",
       "index": 0,
       "layout": "IPY_MODEL_2e000c1bc24247d3852113a88e1feaae",
       "style": "IPY_MODEL_3692925edfa844ffa0bae5942bca9fc2"
      }
     },
     "ff6ddcebaf6b4f6a9eb785ef049a2e9e": {
      "model_module": "@jupyter-widgets/base",
      "model_module_version": "1.2.0",
      "model_name": "LayoutModel",
      "state": {}
     }
    },
    "version_major": 2,
    "version_minor": 0
   }
  }
 },
 "nbformat": 4,
 "nbformat_minor": 4
}
