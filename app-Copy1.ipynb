{
 "cells": [
  {
   "cell_type": "code",
   "execution_count": 1,
   "metadata": {},
   "outputs": [
    {
     "name": "stdout",
     "output_type": "stream",
     "text": [
      "Version:  2.9.1\n",
      "Eager mode:  True\n",
      "Version:  2.9.1\n",
      "Eager mode:  True\n",
      "GPU name:  []\n",
      "Num GPUs Available:  0\n"
     ]
    }
   ],
   "source": [
    "import warnings\n",
    "# External Imports\n",
    "from IPython.display import display\n",
    "from tkinter import Tk,filedialog\n",
    "# import ipywidgets as widgets\n",
    "from ipywidgets import Button, HBox, VBox, Layout, DatePicker, HTML, RadioButtons, SelectMultiple, Output, Checkbox\n",
    "import os\n",
    "import datetime\n",
    "import glob\n",
    "import json\n",
    "import pandas as pd\n",
    "import geopandas as gpd\n",
    "\n",
    "# New imports for coastsat shoreline extraction\n",
    "import numpy as np\n",
    "# Local Imports \n",
    "from CoastSeg import download_roi, file_functions, zoo_model_module, coastseg_map_class\n",
    "from CoastSeg.coastsat import SDS_shoreline,SDS_download\n",
    "# suppress tensorflow warnings\n",
    "os.environ['TF_CPP_MIN_LOG_LEVEL'] = '3'\n",
    "root = Tk()"
   ]
  },
  {
   "cell_type": "code",
   "execution_count": null,
   "metadata": {},
   "outputs": [],
   "source": [
    "# SDS_shoreline.extract_shorelines()"
   ]
  },
  {
   "cell_type": "code",
   "execution_count": 2,
   "metadata": {},
   "outputs": [
    {
     "data": {
      "application/vnd.jupyter.widget-view+json": {
       "model_id": "c6d2d31e0a744e68ac34eae14e624dd3",
       "version_major": 2,
       "version_minor": 0
      },
      "text/plain": [
       "VBox(children=(VBox(children=(HTML(value='<b>Pick a date:</b>', layout=Layout(padding='10px')), HBox(children=…"
      ]
     },
     "metadata": {},
     "output_type": "display_data"
    }
   ],
   "source": [
    "# Date Widgets\n",
    "start_date=DatePicker(\n",
    "    description='Start Date',\n",
    "    value=datetime.date(2018, 12, 1),\n",
    "    disabled=False,\n",
    ")\n",
    "end_date=DatePicker(\n",
    "    description='End Date',\n",
    "    value=datetime.date(2019, 3, 1), #2019, 1, 1\n",
    "    disabled=False,\n",
    ")\n",
    "date_instr=HTML(\n",
    "    value=\"<b>Pick a date:</b>\",\n",
    "    layout=Layout(padding='10px')\n",
    ")\n",
    "dates_box=HBox([start_date,end_date])\n",
    "dates_vbox=VBox([date_instr,dates_box])\n",
    "\n",
    "\n",
    "collection_instr=HTML(\n",
    "    value=\"<b>Pick a collection</b>\\\n",
    "        <br> C01: LandSat Collection 1 \\\n",
    "        <br> C02: LandSat Collection 2  [2022/01/01 and beyond] \\\n",
    "        <br>      - Landsat 9 is only available in C02\",\n",
    "    layout=Layout(padding='10px')\n",
    ")\n",
    "collection_radio=RadioButtons(\n",
    "    options=['C01', 'C02'],\n",
    "    value='C01',\n",
    "    description='Collection:',\n",
    "    disabled=False\n",
    ")\n",
    "collection_vbox=VBox([collection_instr,collection_radio])\n",
    "\n",
    "sat_instr=HTML(\n",
    "    value=\"<b>Pick multiple satellites by holding the control key:</b> \\\n",
    "        <br> - images prior to 2022/01/01 will be downloaded from Collection 1 \\\n",
    "        <br> - images after 2022/01/01 will be automatically downloaded from Collection 2 \\\n",
    "        <br> C01: LandSat Collection 1 : All dates before 2022/01/01\\\n",
    "        <br> C02: LandSat Collection 2 : All dates after 2022/01/01 \\\n",
    "        <br> - Landsat 9 is only available in C02\",\n",
    "    layout=Layout(padding='10px')\n",
    ")\n",
    "\n",
    "\n",
    "satellite_selection=SelectMultiple(\n",
    "    options=['L5', 'L7', 'L8', 'S2'],\n",
    "    value=['L8'],\n",
    "    description='Satellites',\n",
    "    disabled=False\n",
    ")\n",
    "sat_vbox = VBox([sat_instr,satellite_selection])\n",
    "\n",
    "def handle_collection_change(change):\n",
    "    if change['new'] == 'C02':\n",
    "        satellite_selection.options=['L5', 'L7', 'L8', 'L9', 'S2']\n",
    "    else:\n",
    "        satellite_selection.options=['L5', 'L7', 'L8', 'S2']\n",
    "\n",
    "collection_radio.observe(handle_collection_change,\"value\")\n",
    "\n",
    "controls_vbox=VBox([dates_vbox, collection_vbox, sat_vbox])\n",
    "controls_vbox"
   ]
  },
  {
   "cell_type": "code",
   "execution_count": 3,
   "metadata": {
    "scrolled": true
   },
   "outputs": [
    {
     "name": "stdout",
     "output_type": "stream",
     "text": [
      "dates: ['2018-12-01', '2019-03-01']\n",
      "collection: C01\n",
      "sat_list: ['L8']\n"
     ]
    }
   ],
   "source": [
    "# CoastSat Download Variables\n",
    "# ------------------------------\n",
    "# Save the satellites selected to sat_list\n",
    "if satellite_selection.value:\n",
    "    sat_list = list(satellite_selection.value)\n",
    "elif not satellite_selection.value:\n",
    "    print(\"ERROR: You must select at least one satellite first\")\n",
    "# Save the dates selected by the user as well as the selected collection\n",
    "dates = [str(start_date.value),str(end_date.value)]\n",
    "collection = collection_radio.value\n",
    "print(f\"dates: {dates}\")\n",
    "print(f\"collection: {collection}\")\n",
    "print(f\"sat_list: {sat_list}\")"
   ]
  },
  {
   "cell_type": "code",
   "execution_count": 4,
   "metadata": {},
   "outputs": [],
   "source": [
    "pre_process_settings = { \n",
    "    # general parameters:\n",
    "    'cloud_thresh': 0.5,        # threshold on maximum cloud cover\n",
    "    'output_epsg': 3857,        # epsg code of spatial reference system desired for the output   \n",
    "    # quality control:\n",
    "    'check_detection': True,    # if True, shows each shoreline detection to the user for validation\n",
    "    'adjust_detection': False,  # if True, allows user to adjust the postion of each shoreline by changing the threhold\n",
    "    'save_figure': True,        # if True, saves a figure showing the mapped shoreline for each image\n",
    "    # [ONLY FOR ADVANCED USERS] shoreline detection parameters:\n",
    "    'min_beach_area': 4500,     # minimum area (in metres^2) for an object to be labelled as a beach\n",
    "    'buffer_size': 150,         # radius (in metres) of the buffer around sandy pixels considered in the shoreline detection\n",
    "    'min_length_sl': 200,       # minimum length (in metres) of shoreline perimeter to be valid\n",
    "    'cloud_mask_issue': False,  # switch this parameter to True if sand pixels are masked (in black) on many images  \n",
    "    'sand_color': 'default',    # 'default', 'dark' (for grey/black sand beaches) or 'bright' (for white sand beaches)\n",
    "}\n",
    "\n",
    "# Output wdiget used to print messages and exceptions created by CoastSeg_Map\n",
    "debug_view = Output(layout={'border': '1px solid black'})"
   ]
  },
  {
   "cell_type": "markdown",
   "metadata": {},
   "source": [
    "# Create the Map\n",
    "- Create the map using the map settings set above"
   ]
  },
  {
   "cell_type": "code",
   "execution_count": 5,
   "metadata": {},
   "outputs": [],
   "source": [
    "coastseg_map=coastseg_map_class.CoastSeg_Map()"
   ]
  },
  {
   "cell_type": "markdown",
   "metadata": {},
   "source": [
    "# How to Use The Map\n",
    "---\n",
    "1. Use the rectangle tool to draw a bounding box along the coastline.\n",
    "2. Click `Generate ROI` to create ROI rectangles along the coastline in the bounding box. This may take some time.\n",
    "- You should see a coastline appear in yellow and some rectangles along it.\n",
    "3. Click 1 or more ROIs then click `Save ROI` to save these ROIs for downloading later\n",
    "4. You're ready to download the ROIs. Run the next block of code."
   ]
  },
  {
   "cell_type": "code",
   "execution_count": 6,
   "metadata": {},
   "outputs": [
    {
     "data": {
      "application/vnd.jupyter.widget-view+json": {
       "model_id": "6e6c7aab28b84394956f5de235b91278",
       "version_major": 2,
       "version_minor": 0
      },
      "text/plain": [
       "Output(layout=Layout(border='1px solid black'))"
      ]
     },
     "metadata": {},
     "output_type": "display_data"
    },
    {
     "data": {
      "application/vnd.jupyter.widget-view+json": {
       "model_id": "5d36fd0138574df28cbd36da1b1ad6cc",
       "version_major": 2,
       "version_minor": 0
      },
      "text/plain": [
       "HBox(children=(Button(description='Load Transects', style=ButtonStyle()), Button(description='Load Shoreline',…"
      ]
     },
     "metadata": {},
     "output_type": "display_data"
    },
    {
     "data": {
      "application/vnd.jupyter.widget-view+json": {
       "model_id": "ca4dd10db1f74be28e7dc171cf8bc109",
       "version_major": 2,
       "version_minor": 0
      },
      "text/plain": [
       "HBox(children=(Button(description='Remove all', style=ButtonStyle()), Button(description='Remove transects', s…"
      ]
     },
     "metadata": {},
     "output_type": "display_data"
    },
    {
     "data": {
      "application/vnd.jupyter.widget-view+json": {
       "model_id": "f7ea3ab62fdc467184b7be0c79f92c8f",
       "version_major": 2,
       "version_minor": 0
      },
      "text/plain": [
       "Map(center=[36, -121.5], controls=(ZoomControl(options=['position', 'zoom_in_text', 'zoom_in_title', 'zoom_out…"
      ]
     },
     "metadata": {},
     "output_type": "display_data"
    }
   ],
   "source": [
    "transects_button = Button(description=\"Load Transects\")\n",
    "shoreline_button = Button(description=\"Load Shoreline\")\n",
    "gen_button =Button(description=\"Generate ROI\")\n",
    "save_button = Button(description=\"Save ROI\")\n",
    "\n",
    "remove_all_button = Button(description=\"Remove all\")\n",
    "remove_transects_button = Button(description=\"Remove transects\")\n",
    "remove_bbox_button = Button(description=\"Remove bbox\")\n",
    "remove_coastline_button = Button(description=\"Remove coastline\")\n",
    "remove_rois_button = Button(description=\"Remove ROIs\")\n",
    "remove_saved_roi_button = Button(description=\"Remove saved ROIs\")\n",
    "\n",
    "@debug_view.capture(clear_output=True)\n",
    "def on_shoreline_button_clicked(b):\n",
    "    if coastseg_map.shapes_list == [] :\n",
    "        print(\"Draw a bounding box on the coast first, then click Load Transects.\")\n",
    "    else:\n",
    "        debug_view.clear_output(wait=True)\n",
    "        print(\"Loading shoreline please wait.\") \n",
    "        # Add the transects to the map\n",
    "        coastseg_map.load_shoreline_on_map()\n",
    "        print(\"Shoreline loaded.\")\n",
    "\n",
    "@debug_view.capture(clear_output=True)\n",
    "def on_transects_button_clicked(b):\n",
    "    if coastseg_map.shapes_list == [] :\n",
    "        print(\"Draw a bounding box on the coast first, then click Load Transects.\")\n",
    "    else:\n",
    "        debug_view.clear_output(wait=True)\n",
    "        print(\"Loading transects please wait.\") \n",
    "        # Add the transects to the map\n",
    "        coastseg_map.load_transects_on_map()\n",
    "        print(\"Transects Loaded.\")\n",
    "\n",
    "        \n",
    "@debug_view.capture(clear_output=True)\n",
    "def on_gen_button_clicked(b):\n",
    "    if coastseg_map.shapes_list == [] :\n",
    "        print(\"Draw a bounding box on the coast first, then click Generate ROI.\")\n",
    "    else:\n",
    "        debug_view.clear_output(wait=True)\n",
    "        print(\"Generating ROIs please wait.\") \n",
    "        # Generate ROIs along the coastline within the bounding box\n",
    "        coastseg_map.generate_ROIS_fishnet()\n",
    "        debug_view.clear_output(wait=True)\n",
    "        # Add the Clickable ROIs to the map\n",
    "        coastseg_map.add_geojson_layer_to_map()\n",
    "        print(\"ROIs generated. Please Select at least one ROI and click Save ROI.\")\n",
    "\n",
    "@debug_view.capture(clear_output=True)\n",
    "def on_save_button_clicked(b):\n",
    "    if coastseg_map.selected_set:\n",
    "        if len(coastseg_map.selected_set) == 0:\n",
    "             print(\"Must select at least 1 ROI first before you can save ROIs.\")\n",
    "        else:\n",
    "            debug_view.clear_output(wait=True)\n",
    "            coastseg_map.save_roi_fishnet(\"fishnet_rois.geojson\")\n",
    "            print(\"Saving ROIs\")\n",
    "            debug_view.clear_output(wait=True)\n",
    "            print(\"ROIs have been saved. Now click Download ROI to download the ROIs using CoastSat\")\n",
    "    else:\n",
    "        print(\"No ROIs were selected.\")\n",
    "\n",
    "\n",
    "def remove_all_from_map(b):\n",
    "    coastseg_map.remove_all()\n",
    "def remove_transects(b):\n",
    "    coastseg_map.remove_transects()\n",
    "def remove_bbox_from_map(b):\n",
    "    coastseg_map.remove_bbox()\n",
    "def remove_coastline_from_map(b):\n",
    "    coastseg_map.remove_shoreline()\n",
    "def remove_all_rois_from_map(b):\n",
    "    coastseg_map.remove_all_rois()\n",
    "def remove_saved_roi_clicked(b):\n",
    "    coastseg_map.remove_saved_roi()\n",
    "\n",
    "transects_button.on_click(on_transects_button_clicked)    \n",
    "shoreline_button.on_click(on_shoreline_button_clicked) \n",
    "gen_button.on_click(on_gen_button_clicked)\n",
    "save_button.on_click(on_save_button_clicked)\n",
    "\n",
    "\n",
    "remove_all_button.on_click(remove_all_from_map)\n",
    "remove_transects_button.on_click(remove_transects)\n",
    "remove_bbox_button.on_click(remove_bbox_from_map)\n",
    "remove_coastline_button.on_click(remove_coastline_from_map)\n",
    "remove_rois_button.on_click(remove_all_rois_from_map)\n",
    "remove_saved_roi_button.on_click(remove_saved_roi_clicked)\n",
    "\n",
    "erase_buttons=HBox([remove_all_button, remove_transects_button, remove_bbox_button, remove_coastline_button, remove_rois_button, remove_saved_roi_button])\n",
    "\n",
    "display(debug_view,HBox([transects_button,shoreline_button, gen_button, save_button]),erase_buttons)\n",
    "# Display the map\n",
    "coastseg_map.m"
   ]
  },
  {
   "cell_type": "code",
   "execution_count": 19,
   "metadata": {},
   "outputs": [
    {
     "data": {
      "text/plain": [
       "'2'"
      ]
     },
     "execution_count": 19,
     "metadata": {},
     "output_type": "execute_result"
    }
   ],
   "source": [
    "roi_id=coastseg_map.selected_ROI[\"features\"][0][\"id\"]\n",
    "roi_id"
   ]
  },
  {
   "cell_type": "code",
   "execution_count": null,
   "metadata": {},
   "outputs": [],
   "source": []
  },
  {
   "cell_type": "code",
   "execution_count": 13,
   "metadata": {},
   "outputs": [],
   "source": [
    "from shapely.geometry import Polygon, box, Point\n",
    "def get_rois_gdf(selected_roi:dict):\n",
    "    polygons=[]\n",
    "    for roi in coastseg_map.selected_ROI[\"features\"]:\n",
    "        polygons.append( Polygon(roi['geometry']['coordinates'][0]))\n",
    "    gdf = gpd.GeoDataFrame(coastseg_map.selected_ROI[\"features\"], crs=\"EPSG:4326\")\n",
    "    gdf.set_geometry(polygons,inplace=True)\n",
    "    return gdf"
   ]
  },
  {
   "cell_type": "code",
   "execution_count": 14,
   "metadata": {},
   "outputs": [
    {
     "data": {
      "text/html": [
       "<div>\n",
       "<style scoped>\n",
       "    .dataframe tbody tr th:only-of-type {\n",
       "        vertical-align: middle;\n",
       "    }\n",
       "\n",
       "    .dataframe tbody tr th {\n",
       "        vertical-align: top;\n",
       "    }\n",
       "\n",
       "    .dataframe thead th {\n",
       "        text-align: right;\n",
       "    }\n",
       "</style>\n",
       "<table border=\"1\" class=\"dataframe\">\n",
       "  <thead>\n",
       "    <tr style=\"text-align: right;\">\n",
       "      <th></th>\n",
       "      <th>id</th>\n",
       "      <th>type</th>\n",
       "      <th>properties</th>\n",
       "      <th>geometry</th>\n",
       "    </tr>\n",
       "  </thead>\n",
       "  <tbody>\n",
       "    <tr>\n",
       "      <th>0</th>\n",
       "      <td>2</td>\n",
       "      <td>Feature</td>\n",
       "      <td>{'CHLOROPHYLL': 2.417483, 'CSU_Descriptor': 's...</td>\n",
       "      <td>POLYGON ((-121.52028 35.98585, -121.52028 36.0...</td>\n",
       "    </tr>\n",
       "    <tr>\n",
       "      <th>1</th>\n",
       "      <td>16</td>\n",
       "      <td>Feature</td>\n",
       "      <td>{'CHLOROPHYLL': 2.417483, 'CSU_Descriptor': 's...</td>\n",
       "      <td>POLYGON ((-121.50680 35.99675, -121.50680 36.0...</td>\n",
       "    </tr>\n",
       "  </tbody>\n",
       "</table>\n",
       "</div>"
      ],
      "text/plain": [
       "   id     type                                         properties  \\\n",
       "0   2  Feature  {'CHLOROPHYLL': 2.417483, 'CSU_Descriptor': 's...   \n",
       "1  16  Feature  {'CHLOROPHYLL': 2.417483, 'CSU_Descriptor': 's...   \n",
       "\n",
       "                                            geometry  \n",
       "0  POLYGON ((-121.52028 35.98585, -121.52028 36.0...  \n",
       "1  POLYGON ((-121.50680 35.99675, -121.50680 36.0...  "
      ]
     },
     "execution_count": 14,
     "metadata": {},
     "output_type": "execute_result"
    }
   ],
   "source": [
    "rois_gdf=get_rois_gdf(coastseg_map.selected_ROI)\n",
    "rois_gdf"
   ]
  },
  {
   "cell_type": "code",
   "execution_count": 22,
   "metadata": {},
   "outputs": [
    {
     "data": {
      "text/html": [
       "<div>\n",
       "<style scoped>\n",
       "    .dataframe tbody tr th:only-of-type {\n",
       "        vertical-align: middle;\n",
       "    }\n",
       "\n",
       "    .dataframe tbody tr th {\n",
       "        vertical-align: top;\n",
       "    }\n",
       "\n",
       "    .dataframe thead th {\n",
       "        text-align: right;\n",
       "    }\n",
       "</style>\n",
       "<table border=\"1\" class=\"dataframe\">\n",
       "  <thead>\n",
       "    <tr style=\"text-align: right;\">\n",
       "      <th></th>\n",
       "      <th>OBJECTID</th>\n",
       "      <th>MasterKey</th>\n",
       "      <th>RandomSort</th>\n",
       "      <th>MEAN_SIG_WAVEHEIGHT</th>\n",
       "      <th>TIDAL_RANGE</th>\n",
       "      <th>CHLOROPHYLL</th>\n",
       "      <th>TURBIDITY</th>\n",
       "      <th>TEMP_MOISTURE</th>\n",
       "      <th>EMU_PHYSICAL</th>\n",
       "      <th>REGIONAL_SINUOSITY</th>\n",
       "      <th>...</th>\n",
       "      <th>sinuosity_label</th>\n",
       "      <th>slope_label</th>\n",
       "      <th>tidal_label</th>\n",
       "      <th>turbid_label</th>\n",
       "      <th>wave_label</th>\n",
       "      <th>CSU_Descriptor</th>\n",
       "      <th>CSU_ID</th>\n",
       "      <th>OUTFLOW_DENSITY_RESCALED</th>\n",
       "      <th>Shape_Length</th>\n",
       "      <th>geometry</th>\n",
       "    </tr>\n",
       "  </thead>\n",
       "  <tbody>\n",
       "    <tr>\n",
       "      <th>1969</th>\n",
       "      <td>2753664</td>\n",
       "      <td>2753664</td>\n",
       "      <td>5.296496e+05</td>\n",
       "      <td>1.687268</td>\n",
       "      <td>2.410373</td>\n",
       "      <td>2.417483</td>\n",
       "      <td>0.024533</td>\n",
       "      <td>Warm Temperate Dry</td>\n",
       "      <td>Euhaline-Oxic-Moderate to Cool</td>\n",
       "      <td>1.140924</td>\n",
       "      <td>...</td>\n",
       "      <td>straight</td>\n",
       "      <td>steeply sloping</td>\n",
       "      <td>moderately tidal</td>\n",
       "      <td>clear</td>\n",
       "      <td>moderate wave energy</td>\n",
       "      <td>steeply sloping, straight, medium erodibility,...</td>\n",
       "      <td>70981</td>\n",
       "      <td>0.00001</td>\n",
       "      <td>0.008173</td>\n",
       "      <td>LINESTRING (-121.50251 35.99903, -121.50254 35...</td>\n",
       "    </tr>\n",
       "    <tr>\n",
       "      <th>1968</th>\n",
       "      <td>2753665</td>\n",
       "      <td>2753665</td>\n",
       "      <td>1.240148e+06</td>\n",
       "      <td>2.048518</td>\n",
       "      <td>2.410373</td>\n",
       "      <td>2.417483</td>\n",
       "      <td>0.024533</td>\n",
       "      <td>Warm Temperate Dry</td>\n",
       "      <td>Euhaline-Oxic-Moderate to Cool</td>\n",
       "      <td>1.140924</td>\n",
       "      <td>...</td>\n",
       "      <td>straight</td>\n",
       "      <td>steeply sloping</td>\n",
       "      <td>moderately tidal</td>\n",
       "      <td>clear</td>\n",
       "      <td>moderately high wave energy</td>\n",
       "      <td>steeply sloping, straight, medium erodibility,...</td>\n",
       "      <td>70983</td>\n",
       "      <td>0.00001</td>\n",
       "      <td>0.007643</td>\n",
       "      <td>LINESTRING (-121.50231 35.99881, -121.50247 35...</td>\n",
       "    </tr>\n",
       "  </tbody>\n",
       "</table>\n",
       "<p>2 rows × 28 columns</p>\n",
       "</div>"
      ],
      "text/plain": [
       "      OBJECTID  MasterKey    RandomSort  MEAN_SIG_WAVEHEIGHT  TIDAL_RANGE  \\\n",
       "1969   2753664    2753664  5.296496e+05             1.687268     2.410373   \n",
       "1968   2753665    2753665  1.240148e+06             2.048518     2.410373   \n",
       "\n",
       "      CHLOROPHYLL  TURBIDITY       TEMP_MOISTURE  \\\n",
       "1969     2.417483   0.024533  Warm Temperate Dry   \n",
       "1968     2.417483   0.024533  Warm Temperate Dry   \n",
       "\n",
       "                        EMU_PHYSICAL  REGIONAL_SINUOSITY  ...  \\\n",
       "1969  Euhaline-Oxic-Moderate to Cool            1.140924  ...   \n",
       "1968  Euhaline-Oxic-Moderate to Cool            1.140924  ...   \n",
       "\n",
       "      sinuosity_label      slope_label       tidal_label turbid_label  \\\n",
       "1969         straight  steeply sloping  moderately tidal        clear   \n",
       "1968         straight  steeply sloping  moderately tidal        clear   \n",
       "\n",
       "                       wave_label  \\\n",
       "1969         moderate wave energy   \n",
       "1968  moderately high wave energy   \n",
       "\n",
       "                                         CSU_Descriptor CSU_ID  \\\n",
       "1969  steeply sloping, straight, medium erodibility,...  70981   \n",
       "1968  steeply sloping, straight, medium erodibility,...  70983   \n",
       "\n",
       "     OUTFLOW_DENSITY_RESCALED Shape_Length  \\\n",
       "1969                  0.00001     0.008173   \n",
       "1968                  0.00001     0.007643   \n",
       "\n",
       "                                               geometry  \n",
       "1969  LINESTRING (-121.50251 35.99903, -121.50254 35...  \n",
       "1968  LINESTRING (-121.50231 35.99881, -121.50247 35...  \n",
       "\n",
       "[2 rows x 28 columns]"
      ]
     },
     "execution_count": 22,
     "metadata": {},
     "output_type": "execute_result"
    }
   ],
   "source": [
    "# Get the specific roi by id\n",
    "rois_gdf[rois_gdf['id']==roi_id]\n",
    "# Clip shoreline to specific roi\n",
    "shoreline_in_roi = gpd.clip(coastseg_map.shorelines_gdf, rois_gdf[rois_gdf['id']==roi_id])\n",
    "shoreline_in_roi = shoreline_in_roi.to_crs('EPSG:4326')\n",
    "shoreline_in_roi"
   ]
  },
  {
   "cell_type": "code",
   "execution_count": 33,
   "metadata": {},
   "outputs": [],
   "source": [
    "def make_coastsat_compatible(shoreline_in_roi:\"GeoDataFrame\"):\n",
    "    # Then convert the shoreline to lat,lon tuples for CoastSat\n",
    "    shorelines = []\n",
    "    for k in shoreline_in_roi['geometry'].keys():\n",
    "        #@todo remove the following print\n",
    "        # print(tuple(np.array(shoreline_in_roi['geometry'][k]).tolist()))\n",
    "        #For each linestring portion of shoreline convert to lat,lon tuples\n",
    "        shorelines.append(tuple(np.array(shoreline_in_roi['geometry'][k]).tolist()))\n",
    "    # shorelines = [([lat,lon],[lat,lon],[lat,lon]),([lat,lon],[lat,lon],[lat,lon])...]\n",
    "    # Stack all the tuples into a single list of n rows X 2 columns\n",
    "    shorelines = np.vstack(shorelines)\n",
    "    # Add third column of 0s to represent mean sea level\n",
    "    shorelines = np.insert(shorelines, 2, np.zeros(len(s)), axis=1)\n",
    "    # shoreline = array([[lat,lon,0],[lat,lon,0],[lat,lon,0]....])\n",
    "    return shorelines"
   ]
  },
  {
   "cell_type": "code",
   "execution_count": 34,
   "metadata": {},
   "outputs": [
    {
     "data": {
      "text/plain": [
       "array([[-121.50250924,   35.99903104,    0.        ],\n",
       "       [-121.50253712,   35.99905918,    0.        ],\n",
       "       [-121.50274028,   35.99926027,    0.        ],\n",
       "       [-121.50288472,   35.99938532,    0.        ],\n",
       "       [-121.50292064,   35.99941678,    0.        ],\n",
       "       [-121.50315556,   35.99965347,    0.        ],\n",
       "       [-121.50322252,   35.99972126,    0.        ],\n",
       "       [-121.50341291,   35.99993512,    0.        ],\n",
       "       [-121.50344312,   35.99997227,    0.        ],\n",
       "       [-121.5034705 ,   36.00002189,    0.        ],\n",
       "       [-121.50349195,   36.00007744,    0.        ],\n",
       "       [-121.503545  ,   36.00025538,    0.        ],\n",
       "       [-121.5035666 ,   36.00031079,    0.        ],\n",
       "       [-121.50359426,   36.00036013,    0.        ],\n",
       "       [-121.50361691,   36.00038731,    0.        ],\n",
       "       [-121.50230969,   35.99881244,    0.        ],\n",
       "       [-121.50247006,   35.9989915 ,    0.        ],\n",
       "       [-121.50250924,   35.99903104,    0.        ]])"
      ]
     },
     "execution_count": 34,
     "metadata": {},
     "output_type": "execute_result"
    }
   ],
   "source": [
    "shorelines=make_coastsat_compatible(shoreline_in_roi)\n",
    "shorelines"
   ]
  },
  {
   "cell_type": "code",
   "execution_count": 36,
   "metadata": {},
   "outputs": [
    {
     "data": {
      "text/plain": [
       "numpy.ndarray"
      ]
     },
     "execution_count": 36,
     "metadata": {},
     "output_type": "execute_result"
    }
   ],
   "source": [
    "type(shorelines)"
   ]
  },
  {
   "cell_type": "code",
   "execution_count": 35,
   "metadata": {},
   "outputs": [],
   "source": [
    "# # For a single roi clip the shoreline within it to it\n",
    "# # Then convert the shoreline to lat,lon tuples for CoastSat\n",
    "# shorelines = []\n",
    "# for k in shoreline_in_roi['geometry'].keys():\n",
    "#     print(k)\n",
    "#     print(tuple(np.array(shoreline_in_roi['geometry'][k]).tolist()))\n",
    "# #For each linestring portion of shoreline convert to lat,lon tuples\n",
    "#     shorelines.append(tuple(np.array(shoreline_in_roi['geometry'][k]).tolist()))\n",
    "\n",
    "# # Start: [([lat,lon],[lat,lon],[lat,lon]),([lat,lon],[lat,lon],[lat,lon])...]\n",
    "# # Finish : array([[lat,lon,0],[lat,lon,0],[lat,lon,0]....])\n",
    "\n",
    "# # Stack all the tuples into a single list of n rows X 2 columns\n",
    "# s = np.vstack(shorelines)\n",
    "# # Add third column of 0s to represent mean sea level\n",
    "# s = np.insert(s, 2, np.zeros(len(s)), axis=1)\n",
    "# s "
   ]
  },
  {
   "cell_type": "code",
   "execution_count": 43,
   "metadata": {},
   "outputs": [],
   "source": [
    "from pyproj import Proj, transform\n",
    "def convert_espg(input_epsg:int,output_epsg:int,coastsat_array:np.ndarray, is_transects:bool = False):\n",
    "    if input_epsg is None:\n",
    "        input_epsg=4326\n",
    "    inProj = Proj(init='epsg:'+str(input_epsg))\n",
    "    outProj = Proj(init='epsg:'+str(output_epsg))\n",
    "    s_proj = []\n",
    "    # Convert all the lat,ln coords to new espg (operation takes some time....)\n",
    "    for coord in coastsat_array:\n",
    "        x2,y2 = transform(inProj,outProj,coord[0],coord[1])\n",
    "        s_proj.append([x2,y2,0.])\n",
    "    return s_proj"
   ]
  },
  {
   "cell_type": "code",
   "execution_count": 45,
   "metadata": {},
   "outputs": [
    {
     "data": {
      "text/plain": [
       "[[-13525597.458590493, 4300488.045461646, 0.0],\n",
       " [-13525600.562623175, 4300491.917985754, 0.0],\n",
       " [-13525623.177623011, 4300519.5870896345, 0.0],\n",
       " [-13525639.257166857, 4300536.793353833, 0.0],\n",
       " [-13525643.255651643, 4300541.121755652, 0.0],\n",
       " [-13525669.406937743, 4300573.690017847, 0.0],\n",
       " [-13525676.860334251, 4300583.018468318, 0.0],\n",
       " [-13525698.0544521, 4300612.443972011, 0.0],\n",
       " [-13525701.418081833, 4300617.556852505, 0.0],\n",
       " [-13525704.466009492, 4300624.384350138, 0.0],\n",
       " [-13525706.853255974, 4300632.028086883, 0.0],\n",
       " [-13525712.759534197, 4300656.512270535, 0.0],\n",
       " [-13525715.163255958, 4300664.135802862, 0.0],\n",
       " [-13525718.242353074, 4300670.924939648, 0.0],\n",
       " [-13525720.764158921, 4300674.666075568, 0.0],\n",
       " [-13525575.245378062, 4300457.966443563, 0.0],\n",
       " [-13525593.097204164, 4300482.604474051, 0.0],\n",
       " [-13525597.458590493, 4300488.045461646, 0.0]]"
      ]
     },
     "execution_count": 45,
     "metadata": {},
     "output_type": "execute_result"
    }
   ],
   "source": [
    "s_proj=convert_espg(4326,pre_process_settings['output_epsg'],shorelines)\n",
    "s_proj"
   ]
  },
  {
   "cell_type": "code",
   "execution_count": 26,
   "metadata": {},
   "outputs": [
    {
     "data": {
      "text/plain": [
       "[[-13525597.458590493, 4300488.045461646, 0.0],\n",
       " [-13525600.562623175, 4300491.917985754, 0.0],\n",
       " [-13525623.177623011, 4300519.5870896345, 0.0],\n",
       " [-13525639.257166857, 4300536.793353833, 0.0],\n",
       " [-13525643.255651643, 4300541.121755652, 0.0],\n",
       " [-13525669.406937743, 4300573.690017847, 0.0],\n",
       " [-13525676.860334251, 4300583.018468318, 0.0],\n",
       " [-13525698.0544521, 4300612.443972011, 0.0],\n",
       " [-13525701.418081833, 4300617.556852505, 0.0],\n",
       " [-13525704.466009492, 4300624.384350138, 0.0],\n",
       " [-13525706.853255974, 4300632.028086883, 0.0],\n",
       " [-13525712.759534197, 4300656.512270535, 0.0],\n",
       " [-13525715.163255958, 4300664.135802862, 0.0],\n",
       " [-13525718.242353074, 4300670.924939648, 0.0],\n",
       " [-13525720.764158921, 4300674.666075568, 0.0],\n",
       " [-13525575.245378062, 4300457.966443563, 0.0],\n",
       " [-13525593.097204164, 4300482.604474051, 0.0],\n",
       " [-13525597.458590493, 4300488.045461646, 0.0]]"
      ]
     },
     "execution_count": 26,
     "metadata": {},
     "output_type": "execute_result"
    }
   ],
   "source": [
    "## 6. convert to epsg projection\n",
    "from pyproj import Proj, transform\n",
    "inProj = Proj(init='epsg:4326')\n",
    "outProj = Proj(init='epsg:'+str(pre_process_settings['output_epsg']))\n",
    "s_proj = []\n",
    "# This operation takes some time....\n",
    "# Convert all the lat,ln coords to new espg\n",
    "for i in s:\n",
    "    x2,y2 = transform(inProj,outProj,i[0],i[1])\n",
    "    s_proj.append([x2,y2,0.])\n",
    "s_proj"
   ]
  },
  {
   "cell_type": "code",
   "execution_count": 29,
   "metadata": {},
   "outputs": [
    {
     "data": {
      "text/plain": [
       "{'cloud_thresh': 0.5,\n",
       " 'output_epsg': 3857,\n",
       " 'check_detection': True,\n",
       " 'adjust_detection': False,\n",
       " 'save_figure': True,\n",
       " 'min_beach_area': 4500,\n",
       " 'buffer_size': 150,\n",
       " 'min_length_sl': 200,\n",
       " 'cloud_mask_issue': False,\n",
       " 'sand_color': 'default',\n",
       " 'reference_shoreline': array([[-13525597.45859049,   4300488.04546165,         0.        ],\n",
       "        [-13525600.56262317,   4300491.91798575,         0.        ],\n",
       "        [-13525623.17762301,   4300519.58708963,         0.        ],\n",
       "        [-13525639.25716686,   4300536.79335383,         0.        ],\n",
       "        [-13525643.25565164,   4300541.12175565,         0.        ],\n",
       "        [-13525669.40693774,   4300573.69001785,         0.        ],\n",
       "        [-13525676.86033425,   4300583.01846832,         0.        ],\n",
       "        [-13525698.0544521 ,   4300612.44397201,         0.        ],\n",
       "        [-13525701.41808183,   4300617.5568525 ,         0.        ],\n",
       "        [-13525704.46600949,   4300624.38435014,         0.        ],\n",
       "        [-13525706.85325597,   4300632.02808688,         0.        ],\n",
       "        [-13525712.7595342 ,   4300656.51227054,         0.        ],\n",
       "        [-13525715.16325596,   4300664.13580286,         0.        ],\n",
       "        [-13525718.24235307,   4300670.92493965,         0.        ],\n",
       "        [-13525720.76415892,   4300674.66607557,         0.        ],\n",
       "        [-13525575.24537806,   4300457.96644356,         0.        ],\n",
       "        [-13525593.09720416,   4300482.60447405,         0.        ],\n",
       "        [-13525597.45859049,   4300488.04546165,         0.        ]])}"
      ]
     },
     "execution_count": 29,
     "metadata": {},
     "output_type": "execute_result"
    }
   ],
   "source": [
    "tmp_setting=pre_process_settings\n",
    "tmp_setting['reference_shoreline'] = np.array(s_proj)\n",
    "tmp_setting"
   ]
  },
  {
   "cell_type": "code",
   "execution_count": 21,
   "metadata": {},
   "outputs": [],
   "source": [
    "# polygons=[]\n",
    "# for roi in coastseg_map.selected_ROI[\"features\"]:\n",
    "#     polygons.append( Polygon(roi['geometry']['coordinates'][0]))\n",
    "# for poly in polygons:\n",
    "#     print(poly)"
   ]
  },
  {
   "cell_type": "code",
   "execution_count": 16,
   "metadata": {},
   "outputs": [
    {
     "data": {
      "image/svg+xml": [
       "<svg xmlns=\"http://www.w3.org/2000/svg\" xmlns:xlink=\"http://www.w3.org/1999/xlink\" width=\"100.0\" height=\"100.0\" viewBox=\"-121.52099465222729 35.9851323477727 0.019403610136976113 0.015973619118291538\" preserveAspectRatio=\"xMinYMin meet\"><g transform=\"matrix(1,0,0,-1,0,71.9862383146637)\"><path fill-rule=\"evenodd\" fill=\"#66cc99\" stroke=\"#555555\" stroke-width=\"0.00038807220273952227\" opacity=\"0.6\" d=\"M -121.520276,35.985851 L -121.520276,36.00038731466369 L -121.5023096943176,36.00038731466369 L -121.5023096943176,35.985851 L -121.520276,35.985851 z\" /></g></svg>"
      ],
      "text/plain": [
       "<shapely.geometry.polygon.Polygon at 0x17f67b1bec8>"
      ]
     },
     "execution_count": 16,
     "metadata": {},
     "output_type": "execute_result"
    }
   ],
   "source": [
    "# Polygon(coastseg_map.selected_ROI[\"features\"][0]['geometry']['coordinates'][0])"
   ]
  },
  {
   "cell_type": "code",
   "execution_count": 84,
   "metadata": {},
   "outputs": [
    {
     "data": {
      "text/plain": [
       "0    {'type': 'Polygon', 'coordinates': [[[-121.517...\n",
       "Name: geometry, dtype: object"
      ]
     },
     "execution_count": 84,
     "metadata": {},
     "output_type": "execute_result"
    }
   ],
   "source": [
    "# gdf[gdf['id']=='5']['geometry']=Polygon(coastseg_map.selected_ROI[\"features\"][0]['geometry']['coordinates'][0])\n",
    "# gdf[gdf['id']=='5']['geometry']"
   ]
  },
  {
   "cell_type": "code",
   "execution_count": 92,
   "metadata": {},
   "outputs": [
    {
     "data": {
      "text/html": [
       "<div>\n",
       "<style scoped>\n",
       "    .dataframe tbody tr th:only-of-type {\n",
       "        vertical-align: middle;\n",
       "    }\n",
       "\n",
       "    .dataframe tbody tr th {\n",
       "        vertical-align: top;\n",
       "    }\n",
       "\n",
       "    .dataframe thead th {\n",
       "        text-align: right;\n",
       "    }\n",
       "</style>\n",
       "<table border=\"1\" class=\"dataframe\">\n",
       "  <thead>\n",
       "    <tr style=\"text-align: right;\">\n",
       "      <th></th>\n",
       "      <th>id</th>\n",
       "      <th>type</th>\n",
       "      <th>properties</th>\n",
       "      <th>geometry</th>\n",
       "    </tr>\n",
       "  </thead>\n",
       "  <tbody>\n",
       "    <tr>\n",
       "      <th>0</th>\n",
       "      <td>5</td>\n",
       "      <td>Feature</td>\n",
       "      <td>{'CHLOROPHYLL': 2.417483, 'CSU_Descriptor': 's...</td>\n",
       "      <td>POLYGON ((-121.51728 36.00082, -121.51728 36.0...</td>\n",
       "    </tr>\n",
       "  </tbody>\n",
       "</table>\n",
       "</div>"
      ],
      "text/plain": [
       "  id     type                                         properties  \\\n",
       "0  5  Feature  {'CHLOROPHYLL': 2.417483, 'CSU_Descriptor': 's...   \n",
       "\n",
       "                                            geometry  \n",
       "0  POLYGON ((-121.51728 36.00082, -121.51728 36.0...  "
      ]
     },
     "execution_count": 92,
     "metadata": {},
     "output_type": "execute_result"
    }
   ],
   "source": [
    "# roi_gdf=gdf[gdf['id']=='5']\n",
    "# roi_gdf"
   ]
  },
  {
   "cell_type": "code",
   "execution_count": 95,
   "metadata": {},
   "outputs": [],
   "source": [
    "shoreline_in_roi = gpd.clip(coastseg_map.shorelines_gdf, roi_gdf)\n",
    "shoreline_in_roi = shoreline_in_roi.to_crs('EPSG:4326')"
   ]
  },
  {
   "cell_type": "code",
   "execution_count": 96,
   "metadata": {},
   "outputs": [
    {
     "data": {
      "text/html": [
       "<div>\n",
       "<style scoped>\n",
       "    .dataframe tbody tr th:only-of-type {\n",
       "        vertical-align: middle;\n",
       "    }\n",
       "\n",
       "    .dataframe tbody tr th {\n",
       "        vertical-align: top;\n",
       "    }\n",
       "\n",
       "    .dataframe thead th {\n",
       "        text-align: right;\n",
       "    }\n",
       "</style>\n",
       "<table border=\"1\" class=\"dataframe\">\n",
       "  <thead>\n",
       "    <tr style=\"text-align: right;\">\n",
       "      <th></th>\n",
       "      <th>OBJECTID</th>\n",
       "      <th>MasterKey</th>\n",
       "      <th>RandomSort</th>\n",
       "      <th>MEAN_SIG_WAVEHEIGHT</th>\n",
       "      <th>TIDAL_RANGE</th>\n",
       "      <th>CHLOROPHYLL</th>\n",
       "      <th>TURBIDITY</th>\n",
       "      <th>TEMP_MOISTURE</th>\n",
       "      <th>EMU_PHYSICAL</th>\n",
       "      <th>REGIONAL_SINUOSITY</th>\n",
       "      <th>...</th>\n",
       "      <th>sinuosity_label</th>\n",
       "      <th>slope_label</th>\n",
       "      <th>tidal_label</th>\n",
       "      <th>turbid_label</th>\n",
       "      <th>wave_label</th>\n",
       "      <th>CSU_Descriptor</th>\n",
       "      <th>CSU_ID</th>\n",
       "      <th>OUTFLOW_DENSITY_RESCALED</th>\n",
       "      <th>Shape_Length</th>\n",
       "      <th>geometry</th>\n",
       "    </tr>\n",
       "  </thead>\n",
       "  <tbody>\n",
       "    <tr>\n",
       "      <th>1971</th>\n",
       "      <td>2753662</td>\n",
       "      <td>2753662</td>\n",
       "      <td>2.970544e+05</td>\n",
       "      <td>1.687268</td>\n",
       "      <td>2.410373</td>\n",
       "      <td>2.417483</td>\n",
       "      <td>0.024533</td>\n",
       "      <td>Warm Temperate Dry</td>\n",
       "      <td>Euhaline-Oxic-Moderate to Cool</td>\n",
       "      <td>1.140924</td>\n",
       "      <td>...</td>\n",
       "      <td>straight</td>\n",
       "      <td>steeply sloping</td>\n",
       "      <td>moderately tidal</td>\n",
       "      <td>clear</td>\n",
       "      <td>moderate wave energy</td>\n",
       "      <td>steeply sloping, straight, medium erodibility,...</td>\n",
       "      <td>70981</td>\n",
       "      <td>0.00001</td>\n",
       "      <td>0.008495</td>\n",
       "      <td>LINESTRING (-121.51587 36.00745, -121.51593 36...</td>\n",
       "    </tr>\n",
       "    <tr>\n",
       "      <th>1970</th>\n",
       "      <td>2753663</td>\n",
       "      <td>2753663</td>\n",
       "      <td>2.361458e+06</td>\n",
       "      <td>1.687268</td>\n",
       "      <td>2.410373</td>\n",
       "      <td>2.417483</td>\n",
       "      <td>0.024533</td>\n",
       "      <td>Warm Temperate Dry</td>\n",
       "      <td>Euhaline-Oxic-Moderate to Cool</td>\n",
       "      <td>1.140924</td>\n",
       "      <td>...</td>\n",
       "      <td>straight</td>\n",
       "      <td>steeply sloping</td>\n",
       "      <td>moderately tidal</td>\n",
       "      <td>clear</td>\n",
       "      <td>moderate wave energy</td>\n",
       "      <td>steeply sloping, straight, medium erodibility,...</td>\n",
       "      <td>70981</td>\n",
       "      <td>0.00001</td>\n",
       "      <td>0.008436</td>\n",
       "      <td>LINESTRING (-121.50875 36.00398, -121.50878 36...</td>\n",
       "    </tr>\n",
       "    <tr>\n",
       "      <th>1969</th>\n",
       "      <td>2753664</td>\n",
       "      <td>2753664</td>\n",
       "      <td>5.296496e+05</td>\n",
       "      <td>1.687268</td>\n",
       "      <td>2.410373</td>\n",
       "      <td>2.417483</td>\n",
       "      <td>0.024533</td>\n",
       "      <td>Warm Temperate Dry</td>\n",
       "      <td>Euhaline-Oxic-Moderate to Cool</td>\n",
       "      <td>1.140924</td>\n",
       "      <td>...</td>\n",
       "      <td>straight</td>\n",
       "      <td>steeply sloping</td>\n",
       "      <td>moderately tidal</td>\n",
       "      <td>clear</td>\n",
       "      <td>moderate wave energy</td>\n",
       "      <td>steeply sloping, straight, medium erodibility,...</td>\n",
       "      <td>70981</td>\n",
       "      <td>0.00001</td>\n",
       "      <td>0.008173</td>\n",
       "      <td>LINESTRING (-121.50434 36.00086, -121.50450 36...</td>\n",
       "    </tr>\n",
       "  </tbody>\n",
       "</table>\n",
       "<p>3 rows × 28 columns</p>\n",
       "</div>"
      ],
      "text/plain": [
       "      OBJECTID  MasterKey    RandomSort  MEAN_SIG_WAVEHEIGHT  TIDAL_RANGE  \\\n",
       "1971   2753662    2753662  2.970544e+05             1.687268     2.410373   \n",
       "1970   2753663    2753663  2.361458e+06             1.687268     2.410373   \n",
       "1969   2753664    2753664  5.296496e+05             1.687268     2.410373   \n",
       "\n",
       "      CHLOROPHYLL  TURBIDITY       TEMP_MOISTURE  \\\n",
       "1971     2.417483   0.024533  Warm Temperate Dry   \n",
       "1970     2.417483   0.024533  Warm Temperate Dry   \n",
       "1969     2.417483   0.024533  Warm Temperate Dry   \n",
       "\n",
       "                        EMU_PHYSICAL  REGIONAL_SINUOSITY  ...  \\\n",
       "1971  Euhaline-Oxic-Moderate to Cool            1.140924  ...   \n",
       "1970  Euhaline-Oxic-Moderate to Cool            1.140924  ...   \n",
       "1969  Euhaline-Oxic-Moderate to Cool            1.140924  ...   \n",
       "\n",
       "      sinuosity_label      slope_label       tidal_label turbid_label  \\\n",
       "1971         straight  steeply sloping  moderately tidal        clear   \n",
       "1970         straight  steeply sloping  moderately tidal        clear   \n",
       "1969         straight  steeply sloping  moderately tidal        clear   \n",
       "\n",
       "                wave_label                                     CSU_Descriptor  \\\n",
       "1971  moderate wave energy  steeply sloping, straight, medium erodibility,...   \n",
       "1970  moderate wave energy  steeply sloping, straight, medium erodibility,...   \n",
       "1969  moderate wave energy  steeply sloping, straight, medium erodibility,...   \n",
       "\n",
       "     CSU_ID OUTFLOW_DENSITY_RESCALED Shape_Length  \\\n",
       "1971  70981                  0.00001     0.008495   \n",
       "1970  70981                  0.00001     0.008436   \n",
       "1969  70981                  0.00001     0.008173   \n",
       "\n",
       "                                               geometry  \n",
       "1971  LINESTRING (-121.51587 36.00745, -121.51593 36...  \n",
       "1970  LINESTRING (-121.50875 36.00398, -121.50878 36...  \n",
       "1969  LINESTRING (-121.50434 36.00086, -121.50450 36...  \n",
       "\n",
       "[3 rows x 28 columns]"
      ]
     },
     "execution_count": 96,
     "metadata": {},
     "output_type": "execute_result"
    }
   ],
   "source": [
    "shoreline_in_roi"
   ]
  },
  {
   "cell_type": "code",
   "execution_count": null,
   "metadata": {},
   "outputs": [],
   "source": [
    "# For a single roi clip the shoreline within it to it\n",
    "# Then convert the shoreline to lat,lon tuples for CoastSat"
   ]
  },
  {
   "cell_type": "code",
   "execution_count": 98,
   "metadata": {},
   "outputs": [
    {
     "name": "stdout",
     "output_type": "stream",
     "text": [
      "1971\n",
      "([-121.51586844899998, 36.00745398400005], [-121.51592684499997, 36.00746114700007], [-121.51599399599996, 36.00747386200004], [-121.51605576399999, 36.007491962000074], [-121.51611035499997, 36.00751724600008], [-121.51615001699997, 36.007544981000024], [-121.51622276399996, 36.00760705000005], [-121.51626242099996, 36.00763481100006], [-121.51631772899998, 36.00766041800006], [-121.51638036399999, 36.00767871200003], [-121.51644847399996, 36.007691557000044], [-121.51652061099998, 36.007700396000075], [-121.51659567999997, 36.00770633500008], [-121.51667284999996, 36.007710211000074], [-121.51683119599994, 36.007714100000044], [-121.516992475, 36.00771531000004], [-121.5172826943176, 36.007715667867664])\n",
      "1970\n",
      "([-121.50875486199999, 36.00398118500004], [-121.50877854299995, 36.003988314000026], [-121.50883301299996, 36.00401469500008], [-121.50887129999995, 36.00404377900003], [-121.509085917, 36.00423340400005], [-121.50912164599998, 36.00426505000007], [-121.509153186, 36.00430088100006], [-121.50927768999998, 36.004445873000066], [-121.50947779999996, 36.00465000600008], [-121.50954533899994, 36.00471721300005], [-121.50975875499995, 36.00490804000003], [-121.50979587199998, 36.004938296000034], [-121.50984545199998, 36.004965714000036], [-121.50990097299996, 36.004987193000034], [-121.51007884299997, 36.005040317000066], [-121.510134231, 36.00506192700004], [-121.51018355599996, 36.005089601000066], [-121.51022029599994, 36.00512023600004], [-121.51042232699996, 36.00532244500005], [-121.51045292799995, 36.00535921900007], [-121.51048055499996, 36.00540858900007], [-121.51050211299997, 36.00546403000004], [-121.51055500399997, 36.00564213400003], [-121.51057636999997, 36.00569776800006], [-121.51060365399996, 36.00574748300005], [-121.510633768, 36.00578474200006], [-121.51082307599995, 36.005999676000044], [-121.51088943899998, 36.00606805900003], [-121.511090293, 36.006271447000074], [-121.51115788799996, 36.00633860000005], [-121.51137264099998, 36.00652808800004], [-121.51141082699996, 36.006557276000024], [-121.51146512699995, 36.00658382200004], [-121.51152706299996, 36.00660273600005], [-121.51159426899994, 36.006616380000025], [-121.51166477799995, 36.00662672000004], [-121.51180908699996, 36.00664410500008], [-121.51187982, 36.006654221000076], [-121.51194747099998, 36.00666741800006], [-121.51201020399998, 36.00668553500003], [-121.51206583699997, 36.006710750000025], [-121.512500118, 36.00693095400004], [-121.512716636, 36.00707055500004], [-121.51275646999994, 36.00709809600005], [-121.51281106799996, 36.00712276000007], [-121.51287290299996, 36.00714018800005], [-121.512940131, 36.00715222400004], [-121.51301130399997, 36.00716031300004], [-121.51308530299997, 36.00716557700008], [-121.51323845599995, 36.007170951000035], [-121.51347226699994, 36.007174930000076], [-121.51362506299995, 36.00718065900003], [-121.51369879899994, 36.00718618600007], [-121.51376967999994, 36.007194569000035], [-121.51383661499995, 36.00720689700006], [-121.51389820999998, 36.00722456500006], [-121.51395269199998, 36.00724934700003], [-121.51399260499994, 36.00727680600005], [-121.51406578099994, 36.00733837700005], [-121.51410562299998, 36.00736591100008], [-121.51416039099996, 36.00739099000003], [-121.51422230799994, 36.00740892300007], [-121.51428958399998, 36.00742149900003], [-121.51436082199996, 36.007430112000065], [-121.51443494999995, 36.007435833000045], [-121.51451116399994, 36.007439469000076], [-121.51466759199997, 36.00744274500005], [-121.51490719399999, 36.00744269300003], [-121.51538987499998, 36.00743912100006], [-121.51562787399996, 36.00744068300003], [-121.51578166099995, 36.007446608000066], [-121.515855709, 36.00745242100004], [-121.51586844899998, 36.00745398400005])\n",
      "1969\n",
      "([-121.504341, 36.00085747976836], [-121.50450261299994, 36.00100136400005], [-121.50457040599997, 36.00106831900007], [-121.50480708699996, 36.00130325300006], [-121.50483853999998, 36.001339176000045], [-121.50496356499997, 36.001483646000054], [-121.50516455699994, 36.001686894000045], [-121.50523217999995, 36.00175401900003], [-121.50544504799996, 36.00194539200004], [-121.50548195599998, 36.00197585900003], [-121.506291095, 36.002514191000046], [-121.506340218, 36.002542068000025], [-121.50679044999998, 36.002755946000036], [-121.50711433899994, 36.00288442300007], [-121.50785867199994, 36.00357418800007], [-121.50789018899997, 36.00361004100006], [-121.50792589999998, 36.00364170600005], [-121.50814045799996, 36.00383139100006], [-121.508178741, 36.00386048000007], [-121.50823320499995, 36.00388686400004], [-121.50829534399998, 36.00390557400004], [-121.50836278099996, 36.00391898700008], [-121.50843353, 36.00392908600003], [-121.50857821399995, 36.003946100000064], [-121.50864896499996, 36.00395619600005], [-121.50871640199995, 36.003969606000055], [-121.50875486199999, 36.00398118500004])\n"
     ]
    }
   ],
   "source": [
    "\n",
    "# shorelines = []\n",
    "# for k in shoreline_in_roi['geometry'].keys():\n",
    "#     print(k)\n",
    "#     print(tuple(np.array(shoreline_in_roi['geometry'][k]).tolist()))\n",
    "# #For each linestring portion of shoreline convert to lat,lon tuples\n",
    "#     shorelines.append(tuple(np.array(shoreline_in_roi['geometry'][k]).tolist()))"
   ]
  },
  {
   "cell_type": "code",
   "execution_count": 99,
   "metadata": {},
   "outputs": [
    {
     "data": {
      "text/plain": [
       "[([-121.51586844899998, 36.00745398400005],\n",
       "  [-121.51592684499997, 36.00746114700007],\n",
       "  [-121.51599399599996, 36.00747386200004],\n",
       "  [-121.51605576399999, 36.007491962000074],\n",
       "  [-121.51611035499997, 36.00751724600008],\n",
       "  [-121.51615001699997, 36.007544981000024],\n",
       "  [-121.51622276399996, 36.00760705000005],\n",
       "  [-121.51626242099996, 36.00763481100006],\n",
       "  [-121.51631772899998, 36.00766041800006],\n",
       "  [-121.51638036399999, 36.00767871200003],\n",
       "  [-121.51644847399996, 36.007691557000044],\n",
       "  [-121.51652061099998, 36.007700396000075],\n",
       "  [-121.51659567999997, 36.00770633500008],\n",
       "  [-121.51667284999996, 36.007710211000074],\n",
       "  [-121.51683119599994, 36.007714100000044],\n",
       "  [-121.516992475, 36.00771531000004],\n",
       "  [-121.5172826943176, 36.007715667867664]),\n",
       " ([-121.50875486199999, 36.00398118500004],\n",
       "  [-121.50877854299995, 36.003988314000026],\n",
       "  [-121.50883301299996, 36.00401469500008],\n",
       "  [-121.50887129999995, 36.00404377900003],\n",
       "  [-121.509085917, 36.00423340400005],\n",
       "  [-121.50912164599998, 36.00426505000007],\n",
       "  [-121.509153186, 36.00430088100006],\n",
       "  [-121.50927768999998, 36.004445873000066],\n",
       "  [-121.50947779999996, 36.00465000600008],\n",
       "  [-121.50954533899994, 36.00471721300005],\n",
       "  [-121.50975875499995, 36.00490804000003],\n",
       "  [-121.50979587199998, 36.004938296000034],\n",
       "  [-121.50984545199998, 36.004965714000036],\n",
       "  [-121.50990097299996, 36.004987193000034],\n",
       "  [-121.51007884299997, 36.005040317000066],\n",
       "  [-121.510134231, 36.00506192700004],\n",
       "  [-121.51018355599996, 36.005089601000066],\n",
       "  [-121.51022029599994, 36.00512023600004],\n",
       "  [-121.51042232699996, 36.00532244500005],\n",
       "  [-121.51045292799995, 36.00535921900007],\n",
       "  [-121.51048055499996, 36.00540858900007],\n",
       "  [-121.51050211299997, 36.00546403000004],\n",
       "  [-121.51055500399997, 36.00564213400003],\n",
       "  [-121.51057636999997, 36.00569776800006],\n",
       "  [-121.51060365399996, 36.00574748300005],\n",
       "  [-121.510633768, 36.00578474200006],\n",
       "  [-121.51082307599995, 36.005999676000044],\n",
       "  [-121.51088943899998, 36.00606805900003],\n",
       "  [-121.511090293, 36.006271447000074],\n",
       "  [-121.51115788799996, 36.00633860000005],\n",
       "  [-121.51137264099998, 36.00652808800004],\n",
       "  [-121.51141082699996, 36.006557276000024],\n",
       "  [-121.51146512699995, 36.00658382200004],\n",
       "  [-121.51152706299996, 36.00660273600005],\n",
       "  [-121.51159426899994, 36.006616380000025],\n",
       "  [-121.51166477799995, 36.00662672000004],\n",
       "  [-121.51180908699996, 36.00664410500008],\n",
       "  [-121.51187982, 36.006654221000076],\n",
       "  [-121.51194747099998, 36.00666741800006],\n",
       "  [-121.51201020399998, 36.00668553500003],\n",
       "  [-121.51206583699997, 36.006710750000025],\n",
       "  [-121.512500118, 36.00693095400004],\n",
       "  [-121.512716636, 36.00707055500004],\n",
       "  [-121.51275646999994, 36.00709809600005],\n",
       "  [-121.51281106799996, 36.00712276000007],\n",
       "  [-121.51287290299996, 36.00714018800005],\n",
       "  [-121.512940131, 36.00715222400004],\n",
       "  [-121.51301130399997, 36.00716031300004],\n",
       "  [-121.51308530299997, 36.00716557700008],\n",
       "  [-121.51323845599995, 36.007170951000035],\n",
       "  [-121.51347226699994, 36.007174930000076],\n",
       "  [-121.51362506299995, 36.00718065900003],\n",
       "  [-121.51369879899994, 36.00718618600007],\n",
       "  [-121.51376967999994, 36.007194569000035],\n",
       "  [-121.51383661499995, 36.00720689700006],\n",
       "  [-121.51389820999998, 36.00722456500006],\n",
       "  [-121.51395269199998, 36.00724934700003],\n",
       "  [-121.51399260499994, 36.00727680600005],\n",
       "  [-121.51406578099994, 36.00733837700005],\n",
       "  [-121.51410562299998, 36.00736591100008],\n",
       "  [-121.51416039099996, 36.00739099000003],\n",
       "  [-121.51422230799994, 36.00740892300007],\n",
       "  [-121.51428958399998, 36.00742149900003],\n",
       "  [-121.51436082199996, 36.007430112000065],\n",
       "  [-121.51443494999995, 36.007435833000045],\n",
       "  [-121.51451116399994, 36.007439469000076],\n",
       "  [-121.51466759199997, 36.00744274500005],\n",
       "  [-121.51490719399999, 36.00744269300003],\n",
       "  [-121.51538987499998, 36.00743912100006],\n",
       "  [-121.51562787399996, 36.00744068300003],\n",
       "  [-121.51578166099995, 36.007446608000066],\n",
       "  [-121.515855709, 36.00745242100004],\n",
       "  [-121.51586844899998, 36.00745398400005]),\n",
       " ([-121.504341, 36.00085747976836],\n",
       "  [-121.50450261299994, 36.00100136400005],\n",
       "  [-121.50457040599997, 36.00106831900007],\n",
       "  [-121.50480708699996, 36.00130325300006],\n",
       "  [-121.50483853999998, 36.001339176000045],\n",
       "  [-121.50496356499997, 36.001483646000054],\n",
       "  [-121.50516455699994, 36.001686894000045],\n",
       "  [-121.50523217999995, 36.00175401900003],\n",
       "  [-121.50544504799996, 36.00194539200004],\n",
       "  [-121.50548195599998, 36.00197585900003],\n",
       "  [-121.506291095, 36.002514191000046],\n",
       "  [-121.506340218, 36.002542068000025],\n",
       "  [-121.50679044999998, 36.002755946000036],\n",
       "  [-121.50711433899994, 36.00288442300007],\n",
       "  [-121.50785867199994, 36.00357418800007],\n",
       "  [-121.50789018899997, 36.00361004100006],\n",
       "  [-121.50792589999998, 36.00364170600005],\n",
       "  [-121.50814045799996, 36.00383139100006],\n",
       "  [-121.508178741, 36.00386048000007],\n",
       "  [-121.50823320499995, 36.00388686400004],\n",
       "  [-121.50829534399998, 36.00390557400004],\n",
       "  [-121.50836278099996, 36.00391898700008],\n",
       "  [-121.50843353, 36.00392908600003],\n",
       "  [-121.50857821399995, 36.003946100000064],\n",
       "  [-121.50864896499996, 36.00395619600005],\n",
       "  [-121.50871640199995, 36.003969606000055],\n",
       "  [-121.50875486199999, 36.00398118500004])]"
      ]
     },
     "execution_count": 99,
     "metadata": {},
     "output_type": "execute_result"
    }
   ],
   "source": [
    "shorelines"
   ]
  },
  {
   "cell_type": "code",
   "execution_count": 101,
   "metadata": {},
   "outputs": [
    {
     "data": {
      "text/plain": [
       "array([[-121.51586845,   36.00745398,    0.        ],\n",
       "       [-121.51592684,   36.00746115,    0.        ],\n",
       "       [-121.515994  ,   36.00747386,    0.        ],\n",
       "       [-121.51605576,   36.00749196,    0.        ],\n",
       "       [-121.51611035,   36.00751725,    0.        ],\n",
       "       [-121.51615002,   36.00754498,    0.        ],\n",
       "       [-121.51622276,   36.00760705,    0.        ],\n",
       "       [-121.51626242,   36.00763481,    0.        ],\n",
       "       [-121.51631773,   36.00766042,    0.        ],\n",
       "       [-121.51638036,   36.00767871,    0.        ],\n",
       "       [-121.51644847,   36.00769156,    0.        ],\n",
       "       [-121.51652061,   36.0077004 ,    0.        ],\n",
       "       [-121.51659568,   36.00770634,    0.        ],\n",
       "       [-121.51667285,   36.00771021,    0.        ],\n",
       "       [-121.5168312 ,   36.0077141 ,    0.        ],\n",
       "       [-121.51699247,   36.00771531,    0.        ],\n",
       "       [-121.51728269,   36.00771567,    0.        ],\n",
       "       [-121.50875486,   36.00398119,    0.        ],\n",
       "       [-121.50877854,   36.00398831,    0.        ],\n",
       "       [-121.50883301,   36.0040147 ,    0.        ],\n",
       "       [-121.5088713 ,   36.00404378,    0.        ],\n",
       "       [-121.50908592,   36.0042334 ,    0.        ],\n",
       "       [-121.50912165,   36.00426505,    0.        ],\n",
       "       [-121.50915319,   36.00430088,    0.        ],\n",
       "       [-121.50927769,   36.00444587,    0.        ],\n",
       "       [-121.5094778 ,   36.00465001,    0.        ],\n",
       "       [-121.50954534,   36.00471721,    0.        ],\n",
       "       [-121.50975875,   36.00490804,    0.        ],\n",
       "       [-121.50979587,   36.0049383 ,    0.        ],\n",
       "       [-121.50984545,   36.00496571,    0.        ],\n",
       "       [-121.50990097,   36.00498719,    0.        ],\n",
       "       [-121.51007884,   36.00504032,    0.        ],\n",
       "       [-121.51013423,   36.00506193,    0.        ],\n",
       "       [-121.51018356,   36.0050896 ,    0.        ],\n",
       "       [-121.5102203 ,   36.00512024,    0.        ],\n",
       "       [-121.51042233,   36.00532245,    0.        ],\n",
       "       [-121.51045293,   36.00535922,    0.        ],\n",
       "       [-121.51048055,   36.00540859,    0.        ],\n",
       "       [-121.51050211,   36.00546403,    0.        ],\n",
       "       [-121.510555  ,   36.00564213,    0.        ],\n",
       "       [-121.51057637,   36.00569777,    0.        ],\n",
       "       [-121.51060365,   36.00574748,    0.        ],\n",
       "       [-121.51063377,   36.00578474,    0.        ],\n",
       "       [-121.51082308,   36.00599968,    0.        ],\n",
       "       [-121.51088944,   36.00606806,    0.        ],\n",
       "       [-121.51109029,   36.00627145,    0.        ],\n",
       "       [-121.51115789,   36.0063386 ,    0.        ],\n",
       "       [-121.51137264,   36.00652809,    0.        ],\n",
       "       [-121.51141083,   36.00655728,    0.        ],\n",
       "       [-121.51146513,   36.00658382,    0.        ],\n",
       "       [-121.51152706,   36.00660274,    0.        ],\n",
       "       [-121.51159427,   36.00661638,    0.        ],\n",
       "       [-121.51166478,   36.00662672,    0.        ],\n",
       "       [-121.51180909,   36.00664411,    0.        ],\n",
       "       [-121.51187982,   36.00665422,    0.        ],\n",
       "       [-121.51194747,   36.00666742,    0.        ],\n",
       "       [-121.5120102 ,   36.00668554,    0.        ],\n",
       "       [-121.51206584,   36.00671075,    0.        ],\n",
       "       [-121.51250012,   36.00693095,    0.        ],\n",
       "       [-121.51271664,   36.00707056,    0.        ],\n",
       "       [-121.51275647,   36.0070981 ,    0.        ],\n",
       "       [-121.51281107,   36.00712276,    0.        ],\n",
       "       [-121.5128729 ,   36.00714019,    0.        ],\n",
       "       [-121.51294013,   36.00715222,    0.        ],\n",
       "       [-121.5130113 ,   36.00716031,    0.        ],\n",
       "       [-121.5130853 ,   36.00716558,    0.        ],\n",
       "       [-121.51323846,   36.00717095,    0.        ],\n",
       "       [-121.51347227,   36.00717493,    0.        ],\n",
       "       [-121.51362506,   36.00718066,    0.        ],\n",
       "       [-121.5136988 ,   36.00718619,    0.        ],\n",
       "       [-121.51376968,   36.00719457,    0.        ],\n",
       "       [-121.51383661,   36.0072069 ,    0.        ],\n",
       "       [-121.51389821,   36.00722457,    0.        ],\n",
       "       [-121.51395269,   36.00724935,    0.        ],\n",
       "       [-121.5139926 ,   36.00727681,    0.        ],\n",
       "       [-121.51406578,   36.00733838,    0.        ],\n",
       "       [-121.51410562,   36.00736591,    0.        ],\n",
       "       [-121.51416039,   36.00739099,    0.        ],\n",
       "       [-121.51422231,   36.00740892,    0.        ],\n",
       "       [-121.51428958,   36.0074215 ,    0.        ],\n",
       "       [-121.51436082,   36.00743011,    0.        ],\n",
       "       [-121.51443495,   36.00743583,    0.        ],\n",
       "       [-121.51451116,   36.00743947,    0.        ],\n",
       "       [-121.51466759,   36.00744275,    0.        ],\n",
       "       [-121.51490719,   36.00744269,    0.        ],\n",
       "       [-121.51538987,   36.00743912,    0.        ],\n",
       "       [-121.51562787,   36.00744068,    0.        ],\n",
       "       [-121.51578166,   36.00744661,    0.        ],\n",
       "       [-121.51585571,   36.00745242,    0.        ],\n",
       "       [-121.51586845,   36.00745398,    0.        ],\n",
       "       [-121.504341  ,   36.00085748,    0.        ],\n",
       "       [-121.50450261,   36.00100136,    0.        ],\n",
       "       [-121.50457041,   36.00106832,    0.        ],\n",
       "       [-121.50480709,   36.00130325,    0.        ],\n",
       "       [-121.50483854,   36.00133918,    0.        ],\n",
       "       [-121.50496356,   36.00148365,    0.        ],\n",
       "       [-121.50516456,   36.00168689,    0.        ],\n",
       "       [-121.50523218,   36.00175402,    0.        ],\n",
       "       [-121.50544505,   36.00194539,    0.        ],\n",
       "       [-121.50548196,   36.00197586,    0.        ],\n",
       "       [-121.50629109,   36.00251419,    0.        ],\n",
       "       [-121.50634022,   36.00254207,    0.        ],\n",
       "       [-121.50679045,   36.00275595,    0.        ],\n",
       "       [-121.50711434,   36.00288442,    0.        ],\n",
       "       [-121.50785867,   36.00357419,    0.        ],\n",
       "       [-121.50789019,   36.00361004,    0.        ],\n",
       "       [-121.5079259 ,   36.00364171,    0.        ],\n",
       "       [-121.50814046,   36.00383139,    0.        ],\n",
       "       [-121.50817874,   36.00386048,    0.        ],\n",
       "       [-121.5082332 ,   36.00388686,    0.        ],\n",
       "       [-121.50829534,   36.00390557,    0.        ],\n",
       "       [-121.50836278,   36.00391899,    0.        ],\n",
       "       [-121.50843353,   36.00392909,    0.        ],\n",
       "       [-121.50857821,   36.0039461 ,    0.        ],\n",
       "       [-121.50864896,   36.0039562 ,    0.        ],\n",
       "       [-121.5087164 ,   36.00396961,    0.        ],\n",
       "       [-121.50875486,   36.00398119,    0.        ]])"
      ]
     },
     "execution_count": 101,
     "metadata": {},
     "output_type": "execute_result"
    }
   ],
   "source": [
    "# Start: [([lat,lon],[lat,lon],[lat,lon]),([lat,lon],[lat,lon],[lat,lon])...]\n",
    "# Finish : array([[lat,lon,0],[lat,lon,0],[lat,lon,0]....])\n",
    "# Stack all the tuples into a single list of n rows X 2 columns\n",
    "s = np.vstack(shorelines)\n",
    "# Add third column of 0s to represent mean sea level\n",
    "s = np.insert(s, 2, np.zeros(len(s)), axis=1)\n",
    "s"
   ]
  },
  {
   "cell_type": "code",
   "execution_count": 102,
   "metadata": {},
   "outputs": [
    {
     "name": "stdout",
     "output_type": "stream",
     "text": [
      "The autoreload extension is already loaded. To reload it, use:\n",
      "  %reload_ext autoreload\n"
     ]
    },
    {
     "data": {
      "text/plain": [
       "[<matplotlib.lines.Line2D at 0x1ccea5f7a88>]"
      ]
     },
     "execution_count": 102,
     "metadata": {},
     "output_type": "execute_result"
    }
   ],
   "source": [
    "%load_ext autoreload\n",
    "%autoreload 2\n",
    "import matplotlib\n",
    "matplotlib.use('Qt5Agg')\n",
    "import matplotlib.pyplot as plt\n",
    "from matplotlib import gridspec\n",
    "plt.ion()\n",
    "plt.plot(s[:,0], s[:,1],'k.')"
   ]
  },
  {
   "cell_type": "code",
   "execution_count": 103,
   "metadata": {},
   "outputs": [
    {
     "name": "stdout",
     "output_type": "stream",
     "text": [
      "proj=longlat datum=WGS84 no_defs ellps=WGS84 towgs84=0,0,0\n",
      "proj=merc a=6378137 b=6378137 lat_ts=0 lon_0=0 x_0=0 y_0=0 k=1 units=m nadgrids=@null no_defs\n"
     ]
    }
   ],
   "source": [
    "## 6. convert to epsg projection\n",
    "from pyproj import Proj, transform\n",
    "inProj = Proj(init='epsg:4326')\n",
    "outProj = Proj(init='epsg:'+str(pre_process_settings['output_epsg']))\n",
    "print(inProj)\n",
    "print(outProj)\n",
    "s_proj = []\n",
    "# This operation takes some time....\n",
    "# Convert all the lat,ln coords to new espg\n",
    "for i in s:\n",
    "    x2,y2 = transform(inProj,outProj,i[0],i[1])\n",
    "    s_proj.append([x2,y2,0.])"
   ]
  },
  {
   "cell_type": "code",
   "execution_count": 27,
   "metadata": {},
   "outputs": [],
   "source": [
    "# s_proj"
   ]
  },
  {
   "cell_type": "code",
   "execution_count": 28,
   "metadata": {},
   "outputs": [
    {
     "data": {
      "text/plain": [
       "{'cloud_thresh': 0.5,\n",
       " 'output_epsg': 3857,\n",
       " 'check_detection': True,\n",
       " 'adjust_detection': False,\n",
       " 'save_figure': True,\n",
       " 'min_beach_area': 4500,\n",
       " 'buffer_size': 150,\n",
       " 'min_length_sl': 200,\n",
       " 'cloud_mask_issue': False,\n",
       " 'sand_color': 'default',\n",
       " 'reference_shoreline': array([[-13525597.45859049,   4300488.04546165,         0.        ],\n",
       "        [-13525600.56262317,   4300491.91798575,         0.        ],\n",
       "        [-13525623.17762301,   4300519.58708963,         0.        ],\n",
       "        [-13525639.25716686,   4300536.79335383,         0.        ],\n",
       "        [-13525643.25565164,   4300541.12175565,         0.        ],\n",
       "        [-13525669.40693774,   4300573.69001785,         0.        ],\n",
       "        [-13525676.86033425,   4300583.01846832,         0.        ],\n",
       "        [-13525698.0544521 ,   4300612.44397201,         0.        ],\n",
       "        [-13525701.41808183,   4300617.5568525 ,         0.        ],\n",
       "        [-13525704.46600949,   4300624.38435014,         0.        ],\n",
       "        [-13525706.85325597,   4300632.02808688,         0.        ],\n",
       "        [-13525712.7595342 ,   4300656.51227054,         0.        ],\n",
       "        [-13525715.16325596,   4300664.13580286,         0.        ],\n",
       "        [-13525718.24235307,   4300670.92493965,         0.        ],\n",
       "        [-13525720.76415892,   4300674.66607557,         0.        ],\n",
       "        [-13525575.24537806,   4300457.96644356,         0.        ],\n",
       "        [-13525593.09720416,   4300482.60447405,         0.        ],\n",
       "        [-13525597.45859049,   4300488.04546165,         0.        ]])}"
      ]
     },
     "execution_count": 28,
     "metadata": {},
     "output_type": "execute_result"
    }
   ],
   "source": [
    "tmp_setting=pre_process_settings\n",
    "tmp_setting['reference_shoreline'] = np.array(s_proj)\n",
    "tmp_setting"
   ]
  },
  {
   "cell_type": "code",
   "execution_count": 105,
   "metadata": {},
   "outputs": [],
   "source": [
    "pre_process_settings['reference_shoreline'] = np.array(s_proj)"
   ]
  },
  {
   "cell_type": "code",
   "execution_count": 107,
   "metadata": {},
   "outputs": [],
   "source": [
    "polygon=coastseg_map.selected_ROI[\"features\"][0]['geometry']['coordinates'][0]"
   ]
  },
  {
   "cell_type": "code",
   "execution_count": 110,
   "metadata": {},
   "outputs": [],
   "source": [
    "sitename='ID02022-07-22__11_hr_10_min04'\n",
    "filepath = os.path.join(os.getcwd(), 'data')"
   ]
  },
  {
   "cell_type": "code",
   "execution_count": 111,
   "metadata": {},
   "outputs": [],
   "source": [
    "inputs = {'polygon': polygon, 'dates': dates, 'sat_list': sat_list, 'sitename': sitename, 'filepath':filepath,\n",
    "         'landsat_collection': collection}"
   ]
  },
  {
   "cell_type": "code",
   "execution_count": 115,
   "metadata": {},
   "outputs": [
    {
     "data": {
      "text/plain": [
       "{'L8': {'filenames': ['2018-12-03-18-40-12_L8_ID02022-07-22__11_hr_10_min04_pan.tif',\n",
       "   '2018-12-10-18-46-21_L8_ID02022-07-22__11_hr_10_min04_pan.tif',\n",
       "   '2018-12-19-18-40-10_L8_ID02022-07-22__11_hr_10_min04_pan.tif',\n",
       "   '2018-12-26-18-46-21_L8_ID02022-07-22__11_hr_10_min04_pan.tif',\n",
       "   '2019-01-04-18-40-09_L8_ID02022-07-22__11_hr_10_min04_pan.tif',\n",
       "   '2019-01-27-18-46-15_L8_ID02022-07-22__11_hr_10_min04_pan.tif',\n",
       "   '2019-02-05-18-40-03_L8_ID02022-07-22__11_hr_10_min04_pan.tif',\n",
       "   '2019-02-21-18-40-00_L8_ID02022-07-22__11_hr_10_min04_pan.tif'],\n",
       "  'acc_georef': [8.269000053405762,\n",
       "   7.440999984741211,\n",
       "   8.206999778747559,\n",
       "   8.111000061035156,\n",
       "   8.338000297546387,\n",
       "   7.354000091552734,\n",
       "   8.324999809265137,\n",
       "   8.753999710083008],\n",
       "  'epsg': [32610, 32610, 32610, 32610, 32610, 32610, 32610, 32610],\n",
       "  'dates': [datetime.datetime(2018, 12, 3, 18, 40, 12, tzinfo=<UTC>),\n",
       "   datetime.datetime(2018, 12, 10, 18, 46, 21, tzinfo=<UTC>),\n",
       "   datetime.datetime(2018, 12, 19, 18, 40, 10, tzinfo=<UTC>),\n",
       "   datetime.datetime(2018, 12, 26, 18, 46, 21, tzinfo=<UTC>),\n",
       "   datetime.datetime(2019, 1, 4, 18, 40, 9, tzinfo=<UTC>),\n",
       "   datetime.datetime(2019, 1, 27, 18, 46, 15, tzinfo=<UTC>),\n",
       "   datetime.datetime(2019, 2, 5, 18, 40, 3, tzinfo=<UTC>),\n",
       "   datetime.datetime(2019, 2, 21, 18, 40, tzinfo=<UTC>)]}}"
      ]
     },
     "execution_count": 115,
     "metadata": {},
     "output_type": "execute_result"
    }
   ],
   "source": [
    "metadata = SDS_download.get_metadata(inputs) \n",
    "metadata"
   ]
  },
  {
   "cell_type": "code",
   "execution_count": 112,
   "metadata": {},
   "outputs": [],
   "source": [
    "# coastseg_map.selected_ROI"
   ]
  },
  {
   "cell_type": "code",
   "execution_count": 119,
   "metadata": {},
   "outputs": [],
   "source": [
    "pre_process_settings['max_dist_ref']=25"
   ]
  },
  {
   "cell_type": "code",
   "execution_count": null,
   "metadata": {},
   "outputs": [],
   "source": [
    "output = SDS_shoreline.extract_shorelines(metadata, pre_process_settings)"
   ]
  },
  {
   "cell_type": "markdown",
   "metadata": {},
   "source": [
    "## Download the Selected ROIs\n",
    "- Download the satellite imagery for the ROIs using CoastSat.\n",
    "\n",
    "⚠️ Make sure you have clicked `Save ROI` before running the following code.\n",
    " \n",
    "### Parameters for download_imagery()\n",
    "1. `coastseg_map.selected_ROI` : geojson for the ROI clicked\n",
    "2. `pre_process_settings`: settings for downloading data using CoastSat\n",
    "3. `dates` : date range to download the imagery\n",
    "4. `sat_list` : list of satellites to download imagery from\n",
    "5. `collection` : LandSat Collection 1 (`C01`) or Collection 2 (`C02`)"
   ]
  },
  {
   "cell_type": "code",
   "execution_count": 46,
   "metadata": {},
   "outputs": [
    {
     "name": "stdout",
     "output_type": "stream",
     "text": [
      "('invalid_grant: Token has been expired or revoked.', {'error': 'invalid_grant', 'error_description': 'Token has been expired or revoked.'})\n"
     ]
    },
    {
     "data": {
      "text/html": [
       "<p>To authorize access needed by Earth Engine, open the following\n",
       "        URL in a web browser and follow the instructions:</p>\n",
       "        <p><a href=https://code.earthengine.google.com/client-auth?scopes=https%3A//www.googleapis.com/auth/earthengine%20https%3A//www.googleapis.com/auth/devstorage.full_control&request_id=FJzt1J7nZobRJ_S85QBCWPjkkIEIwTR87RAyaydZts0&tc=7y0--Aoqfc8wDzJXhjhyLsgXbmlk7Pt9e5Ewa-VRRwA&cc=_ox_GXRjOVTZtmVS5_Fba0nfDTugcMNg2An0BKAjYE8>https://code.earthengine.google.com/client-auth?scopes=https%3A//www.googleapis.com/auth/earthengine%20https%3A//www.googleapis.com/auth/devstorage.full_control&request_id=FJzt1J7nZobRJ_S85QBCWPjkkIEIwTR87RAyaydZts0&tc=7y0--Aoqfc8wDzJXhjhyLsgXbmlk7Pt9e5Ewa-VRRwA&cc=_ox_GXRjOVTZtmVS5_Fba0nfDTugcMNg2An0BKAjYE8</a></p>\n",
       "        <p>The authorization workflow will generate a code, which you\n",
       "        should paste in the box below</p>\n",
       "        "
      ],
      "text/plain": [
       "<IPython.core.display.HTML object>"
      ]
     },
     "metadata": {},
     "output_type": "display_data"
    },
    {
     "name": "stdout",
     "output_type": "stream",
     "text": [
      "Enter verification code: 4/1AdQt8qj83Yv1wZbcd_Pdd8eB_tuqoKvoiQyplEuwgfOirNjjleQdveuvU2Q\n",
      "\n",
      "Successfully saved authorization token.\n",
      "Number of images available between 2018-12-01 and 2019-03-01:\n",
      "- In Landsat Tier 1 & Sentinel-2 Level-1C:\n",
      "     L8: 8 images\n",
      "  Total to download: 8 images\n",
      "- In Landsat Tier 2 (not suitable for time-series analysis):\n",
      "     L8: 6 images\n",
      "  Total Tier 2: 6 images\n"
     ]
    },
    {
     "name": "stderr",
     "output_type": "stream",
     "text": [
      "\r",
      "Downloading ROIs:   0%|                                                                          | 0/1 [00:00<?, ?it/s]"
     ]
    },
    {
     "name": "stdout",
     "output_type": "stream",
     "text": [
      "Number of images available between 2018-12-01 and 2019-03-01:\n",
      "- In Landsat Tier 1 & Sentinel-2 Level-1C:\n",
      "     L8: 8 images\n",
      "  Total to download: 8 images\n",
      "- In Landsat Tier 2 (not suitable for time-series analysis):\n",
      "     L8: 6 images\n",
      "  Total Tier 2: 6 images\n",
      "\n",
      "Downloading images:\n",
      "L8: 8 images\n",
      "100%\n"
     ]
    },
    {
     "name": "stderr",
     "output_type": "stream",
     "text": [
      "Downloading ROIs: 100%|██████████████████████████████████████████████████████████████████| 1/1 [00:23<00:00, 23.42s/it]"
     ]
    },
    {
     "name": "stdout",
     "output_type": "stream",
     "text": [
      "Satellite images saved as .jpg in C:\\1_USGS_repos\\2_doodleverse\\CoastSeg\\data\\ID02022-07-22__11_hr_10_min04\\jpg_files\\preprocessed\n"
     ]
    },
    {
     "name": "stderr",
     "output_type": "stream",
     "text": [
      "\n"
     ]
    }
   ],
   "source": [
    "if coastseg_map.selected_ROI:\n",
    "    download_roi.download_imagery(coastseg_map.selected_ROI,pre_process_settings,dates,sat_list,collection)\n",
    "else:\n",
    "    print(\"No ROIs were selected. \\nPlease select at least one ROI and click 'Save ROI' to save these ROI for download.\")"
   ]
  },
  {
   "cell_type": "code",
   "execution_count": 47,
   "metadata": {
    "scrolled": false
   },
   "outputs": [
    {
     "data": {
      "application/vnd.jupyter.widget-view+json": {
       "model_id": "5ab2a6b31036473bbec73f3f487b72fa",
       "version_major": 2,
       "version_minor": 0
      },
      "text/plain": [
       "Checkbox(value=False, description='Use GPU?', indent=False)"
      ]
     },
     "metadata": {},
     "output_type": "display_data"
    },
    {
     "data": {
      "application/vnd.jupyter.widget-view+json": {
       "model_id": "55903c9de7964f9aa0201159e03f3343",
       "version_major": 2,
       "version_minor": 0
      },
      "text/plain": [
       "Output()"
      ]
     },
     "metadata": {},
     "output_type": "display_data"
    },
    {
     "data": {
      "application/vnd.jupyter.widget-view+json": {
       "model_id": "5b22456d8ff14c4dbb0887395f701e66",
       "version_major": 2,
       "version_minor": 0
      },
      "text/plain": [
       "HBox(children=(RadioButtons(description='Select Model:', options=('landsat_6229071', 'landsat_6230083', 'SWED-…"
      ]
     },
     "metadata": {},
     "output_type": "display_data"
    },
    {
     "data": {
      "application/vnd.jupyter.widget-view+json": {
       "model_id": "034519afaa0e4504826603db6bd0d557",
       "version_major": 2,
       "version_minor": 0
      },
      "text/plain": [
       "VBox(children=(HTML(value='<h4>Click ONE of the following buttons:</h4>', layout=Layout(margin='0px 0px 0px 0p…"
      ]
     },
     "metadata": {},
     "output_type": "display_data"
    },
    {
     "data": {
      "application/vnd.jupyter.widget-view+json": {
       "model_id": "487d4d8ef5b7485db17165dbe768dd6d",
       "version_major": 2,
       "version_minor": 0
      },
      "text/plain": [
       "Button(description='Use Data Button', style=ButtonStyle())"
      ]
     },
     "metadata": {},
     "output_type": "display_data"
    },
    {
     "data": {
      "application/vnd.jupyter.widget-view+json": {
       "model_id": "58a3bdce92b8494894c18dc54382bca8",
       "version_major": 2,
       "version_minor": 0
      },
      "text/plain": [
       "Button(description='Select Your Images', style=ButtonStyle())"
      ]
     },
     "metadata": {},
     "output_type": "display_data"
    },
    {
     "data": {
      "application/vnd.jupyter.widget-view+json": {
       "model_id": "0ea914a37fd84dd48b5abfbe7fe34993",
       "version_major": 2,
       "version_minor": 0
      },
      "text/plain": [
       "HTML(value='____________________________________________________')"
      ]
     },
     "metadata": {},
     "output_type": "display_data"
    },
    {
     "data": {
      "application/vnd.jupyter.widget-view+json": {
       "model_id": "f4287cdc3c5e49bd9ae4f2c2e9b7fb35",
       "version_major": 2,
       "version_minor": 0
      },
      "text/plain": [
       "Output(layout=Layout(border='1px solid black'))"
      ]
     },
     "metadata": {},
     "output_type": "display_data"
    },
    {
     "data": {
      "application/vnd.jupyter.widget-view+json": {
       "model_id": "2004353913ba46e3aa86cc8b12bf5eb3",
       "version_major": 2,
       "version_minor": 0
      },
      "text/plain": [
       "Button(description='Run Model', style=ButtonStyle())"
      ]
     },
     "metadata": {},
     "output_type": "display_data"
    },
    {
     "data": {
      "application/vnd.jupyter.widget-view+json": {
       "model_id": "2c6e1b067b5842deb00129c821fbd57a",
       "version_major": 2,
       "version_minor": 0
      },
      "text/plain": [
       "Output(layout=Layout(border='1px solid black'))"
      ]
     },
     "metadata": {},
     "output_type": "display_data"
    }
   ],
   "source": [
    "model_dict={\"sample_direc\":None,\"use_GPU\":False, 'implementation':'ENSEMBLE','model_type':'landsat_6229071'}\n",
    "\n",
    "model_view = Output(layout={'border': '1px solid black'})\n",
    "run_model_view = Output(layout={'border': '1px solid black'})\n",
    "GPU_view = Output()\n",
    "\n",
    "run_model_button = Button(description=\"Run Model\")\n",
    "use_data_button = Button(description=\"Use Data Button\")\n",
    "use_select_images_button = Button(description=\"Select Your Images\")\n",
    "\n",
    "\n",
    "model_implementation = RadioButtons(\n",
    "    options=['ENSEMBLE', 'BEST'],\n",
    "   value='ENSEMBLE',\n",
    "    description='Select:',\n",
    "    disabled=False\n",
    ")\n",
    "\n",
    "model_dropdown = RadioButtons(\n",
    "    options= ['landsat_6229071', 'landsat_6230083','SWED-RGB_6824384','SWED-MNDWI_6824342'],\n",
    "    value='landsat_6229071',\n",
    "    description='Select Model:',\n",
    "    disabled=False,\n",
    ")\n",
    "\n",
    "\n",
    "GPU_checkbox = Checkbox(\n",
    "    value=False,\n",
    "    description='Use GPU?',\n",
    "    disabled=False,\n",
    "    indent=False\n",
    ")\n",
    "\n",
    "\n",
    "def handle_model_type(change):\n",
    "    model_dict[\"model_type\"]=change['new']\n",
    "\n",
    "\n",
    "def handle_model_implementation(change):\n",
    "    model_dict[\"implementation\"]=change['new']\n",
    "\n",
    "\n",
    "@GPU_view.capture(clear_output=True)\n",
    "def handle_GPU_checkbox(change):\n",
    "    if change[\"new\"] == True:\n",
    "        model_dict[\"use_GPU\"]=True\n",
    "        print(\"Using the GPU\")\n",
    "    else:\n",
    "        model_dict[\"use_GPU\"]=False\n",
    "        print(\"Not using the GPU\")\n",
    "        \n",
    "\n",
    "@model_view.capture(clear_output=True)\n",
    "def use_data_button_clicked(button):\n",
    "    # Use the data folder as the input for segmentation\n",
    "    print(\"Loading in the jpgs from the data directory\")\n",
    "    # Copy the jpgs from data to a new folder called segmentation_data_[datetime]\n",
    "    if 'MNDWI' in model_dropdown.value:\n",
    "        sample_direc =r'C:\\1_USGS\\CoastSeg\\repos\\2_CoastSeg\\CoastSeg_fork\\Seg2Map\\MNDWI_outputs\\MNDWI_ouputs_2022-07-21__07_hr_57_min14'\n",
    "#         sample_direc = file_functions.get_jpgs_from_data('MNDWI')\n",
    "#         RGB_path=sample_direc+os.sep+'RGB'\n",
    "#         NIR_path=sample_direc+os.sep+'NIR'\n",
    "#         sample_direc = coastseg_map.RGB_to_MNDWI(RGB_path,NIR_path,sample_direc)\n",
    "        model_dict[\"sample_direc\"]=sample_direc\n",
    "    else:\n",
    "        sample_direc = file_functions.get_jpgs_from_data('RGB')\n",
    "        model_dict[\"sample_direc\"]=sample_direc\n",
    "        jpgs = glob.glob1(sample_direc + os.sep, \"*jpg\")\n",
    "        if jpgs == []:\n",
    "            raise Exception(\"\\nThe directory contains no jpgs! Please select a directory with jpgs.\")\n",
    "    print(f\"\\nContents of the data directory saved in {sample_direc}\")\n",
    "\n",
    "\n",
    "@model_view.capture(clear_output=True)\n",
    "def use_select_images_button_clicked(button):\n",
    "    # Prompt the user to select a directory of images                              \n",
    "    root.withdraw()                                        # Hide the main window.\n",
    "    root.call('wm', 'attributes', '.', '-topmost', True)   # Raise the root to the top of all windows.\n",
    "    root.filename =  filedialog.askdirectory(initialdir = \"/samples\",title = \"Select directory of images (or npzs) to segment\")\n",
    "    # Save the filename as an attribute of the button\n",
    "    if root.filename:\n",
    "        sample_direc= root.filename\n",
    "        model_dict[\"sample_direc\"]=root.filename\n",
    "        print(f\"The images in the folder will be segmented :\\n{sample_direc} \")\n",
    "        jpgs = glob.glob1(sample_direc + os.sep, \"*jpg\")\n",
    "        if jpgs == []:\n",
    "            raise Exception(\"The directory contains no jpgs! Please select a directory with jpgs.\")\n",
    "    else:\n",
    "        raise Exception(\"You must select a valid directory first!\")\n",
    "\n",
    "@run_model_view.capture(clear_output=True)\n",
    "def run_model_button_clicked(button):\n",
    "    print(\"Called Run Model\")\n",
    "    if model_dict[\"sample_direc\"] is None:\n",
    "        print(\"You must click 'Use Data' or 'Select Images' First\")\n",
    "        return\n",
    "    else:\n",
    "        if model_dict[\"use_GPU\"] == False:\n",
    "            print(\"Not using the GPU\")\n",
    "            ## to use the CPU (not recommended):\n",
    "            os.environ['CUDA_VISIBLE_DEVICES'] = '-1'\n",
    "        elif model_dict[\"use_GPU\"] == True:\n",
    "            print(\"Using the GPU\")\n",
    "            ##use the first available GPU\n",
    "            os.environ['CUDA_VISIBLE_DEVICES'] = '0' #'1'\n",
    "        if 'MNDWI' in model_dropdown.value:\n",
    "            dataset='MNDWI'\n",
    "        else:\n",
    "            dataset='RGB'\n",
    "        dataset_id=model_dict['model_type']\n",
    "#         model_dict['implementation']=model_implementation.value\n",
    "        model_choice=model_dict['implementation']\n",
    "        zoo_model=zoo_model_module.Zoo_Model()\n",
    "        # # First download the specified model\n",
    "        zoo_model.download_model(dataset,dataset_id)\n",
    "        # # Get weights as list\n",
    "        Ww=zoo_model.get_weights_list(model_choice)\n",
    "        # Load the model from the config files\n",
    "        model, model_list, config_files, model_types=zoo_model.get_model(Ww)\n",
    "        metadatadict=zoo_model.get_metadatadict(Ww,config_files, model_types)\n",
    "        # # Compute the segmentation\n",
    "        zoo_model.compute_segmentation(model_dict[\"sample_direc\"], model_list, metadatadict)\n",
    "    \n",
    "    \n",
    "model_implementation.observe(handle_model_implementation,\"value\")\n",
    "model_dropdown.observe(handle_model_type,\"value\")\n",
    "GPU_checkbox.observe(handle_GPU_checkbox,\"value\")\n",
    "\n",
    "\n",
    "run_model_button.on_click(run_model_button_clicked)\n",
    "use_data_button.on_click(use_data_button_clicked)\n",
    "use_select_images_button.on_click(use_select_images_button_clicked)\n",
    "\n",
    "model_choices_box=HBox([model_dropdown, model_implementation])\n",
    "\n",
    "line_widget=HTML(value=\"____________________________________________________\")\n",
    "\n",
    "instr_header=HTML(\n",
    "    value=\"<h4>Click ONE of the following buttons:</h4>\",layout=Layout(margin='0px 0px 0px 0px'))\n",
    "\n",
    "instr_use_data=HTML(\n",
    "    value=\"<b>1. Use Data Folder Button</b> \\\n",
    "        <br> - When CoastSat downloads imagery it created a folder called 'data'in the CoastSeg directory.\\\n",
    "            The jpgs within the 'data' folder will be copied to another folder with a name such as\\\n",
    "            <span style=\\\"background-color:LightGray;\\\">segmentation_data_2022-07-07__10_hr_04_min58 </span>\\\n",
    "            (the date and time will be the current date and time) <br> \\\n",
    "           The model will be applied to this folder and the model outputs will be generated within a subdirectory \\\n",
    "            called 'out'\",layout=Layout(margin='0px 0px 0px 20px'))\n",
    "\n",
    "instr_select_images=HTML(\n",
    "    value=\"<b>2. Select Images Button</b> \\\n",
    "        <br> - This will open a pop up window where the folder containing the jpgs can be selected.<br>\\\n",
    "             - The model will be applied to this folder and the model outputs will be generated within a subdirectory\\\n",
    "             called 'out'<br>\\\n",
    "      - <span style=\\\"background-color:yellow;\\\">WARNING :</span> You will not be able to see the files within the folder you select.<br>\\\n",
    "    \",layout=Layout(margin='0px 0px 0px 20px'))\n",
    "\n",
    "instr_vbox=VBox([instr_header, line_widget, instr_use_data, instr_select_images])\n",
    "\n",
    "display(GPU_checkbox,GPU_view,model_choices_box,instr_vbox,use_data_button,use_select_images_button,line_widget, model_view,run_model_button,run_model_view)"
   ]
  },
  {
   "cell_type": "markdown",
   "metadata": {},
   "source": [
    "## Example Using New RGB_to_MNDWI function\n",
    "Replace `rgb_path` and `nir_path` was the full path to the directories containing the corresponding RGB and NIR images.\n",
    "The outputs will be in a directory called `MNDWI_outputs` as `.npz`"
   ]
  },
  {
   "cell_type": "code",
   "execution_count": 8,
   "metadata": {},
   "outputs": [
    {
     "data": {
      "text/plain": [
       "'C:\\\\1_USGS\\\\CoastSeg\\\\repos\\\\2_CoastSeg\\\\CoastSeg_fork\\\\Seg2Map\\\\MNDWI_outputs\\\\MNDWI_ouputs_2022-07-21__15_hr_46_min20'"
      ]
     },
     "execution_count": 8,
     "metadata": {},
     "output_type": "execute_result"
    }
   ],
   "source": [
    "# Replace these temp paths with the paths you have\n",
    "rgb_path=r'C:\\1_USGS\\CoastSeg\\repos\\2_CoastSeg\\CoastSeg_fork\\Seg2Map\\zenodo_sample_data\\data_sample\\images'\n",
    "nir_path = r'C:\\1_USGS\\CoastSeg\\repos\\2_CoastSeg\\CoastSeg_fork\\Seg2Map\\zenodo_sample_data\\data_sample\\nir'\n",
    "coastseg_map_copy=coastseg_map_class.CoastSeg_Map()\n",
    "coastseg_map_copy.RGB_to_MNDWI(rgb_path,nir_path,os.getcwd())"
   ]
  },
  {
   "cell_type": "code",
   "execution_count": null,
   "metadata": {},
   "outputs": [],
   "source": []
  }
 ],
 "metadata": {
  "kernelspec": {
   "display_name": "Python 3 (ipykernel)",
   "language": "python",
   "name": "python3"
  },
  "language_info": {
   "codemirror_mode": {
    "name": "ipython",
    "version": 3
   },
   "file_extension": ".py",
   "mimetype": "text/x-python",
   "name": "python",
   "nbconvert_exporter": "python",
   "pygments_lexer": "ipython3",
   "version": "3.7.12"
  },
  "vscode": {
   "interpreter": {
    "hash": "9d097efbdf24db87a2507c17c632c6d564e7aff5ba5cfc04e62a44a8b3d6a20a"
   }
  }
 },
 "nbformat": 4,
 "nbformat_minor": 2
}
