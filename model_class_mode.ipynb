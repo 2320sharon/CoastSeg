{
 "cells": [
  {
   "cell_type": "code",
   "execution_count": 1,
   "metadata": {},
   "outputs": [
    {
     "name": "stdout",
     "output_type": "stream",
     "text": [
      "Version:  2.9.1\n",
      "Eager mode:  True\n",
      "Version:  2.9.1\n",
      "Eager mode:  True\n",
      "GPU name:  []\n",
      "Num GPUs Available:  0\n"
     ]
    }
   ],
   "source": [
    "import os\n",
    "# from datetime import datetime\n",
    "import datetime\n",
    "from tkinter import Tk,filedialog\n",
    "from tkinter import *\n",
    "import ipywidgets as widgets\n",
    "from ipywidgets import HBox, VBox, Layout\n",
    "from CoastSeg import zoo_model_module\n",
    "from IPython.display import  display\n",
    "\n",
    "from doodleverse_utils.prediction_imports import do_seg\n",
    "from doodleverse_utils.imports import simple_resunet, simple_unet, simple_satunet, custom_resunet, custom_unet, mean_iou, dice_coef\n",
    "import tensorflow as tf\n",
    "\n",
    "from CoastSeg import file_functions\n",
    "\n",
    "#suppress tensorflow warnings\n",
    "os.environ['TF_CPP_MIN_LOG_LEVEL'] = '3'\n",
    "root = Tk()\n",
    "out = widgets.Output()\n",
    "\n",
    "output_select_all = widgets.Output()"
   ]
  },
  {
   "cell_type": "code",
   "execution_count": 2,
   "metadata": {},
   "outputs": [
    {
     "data": {
      "application/vnd.jupyter.widget-view+json": {
       "model_id": "c93834b8288840ce9c5edb128d8200b5",
       "version_major": 2,
       "version_minor": 0
      },
      "text/plain": [
       "VBox(children=(VBox(children=(HTML(value='<b>Pick a date:<b>', layout=Layout(padding='10px')), HBox(children=(…"
      ]
     },
     "metadata": {},
     "output_type": "display_data"
    }
   ],
   "source": [
    "# Date Widgets\n",
    "start_date=widgets.DatePicker(\n",
    "    description='Start Date',\n",
    "    value=datetime.date(2018, 12, 1),\n",
    "    disabled=False,\n",
    ")\n",
    "end_date=widgets.DatePicker(\n",
    "    description='End Date',\n",
    "    value=datetime.date(2019, 1, 1),\n",
    "    disabled=False,\n",
    ")\n",
    "date_instr=widgets.HTML(\n",
    "    value=\"<b>Pick a date:<b>\",\n",
    "    layout=Layout(padding='10px')\n",
    ")\n",
    "dates_box=widgets.HBox([start_date,end_date])\n",
    "dates_vbox=widgets.VBox([date_instr,dates_box])\n",
    "\n",
    "\n",
    "collection_instr=widgets.HTML(\n",
    "    value=\"<b>Pick a collection<b>\\\n",
    "        <br> C01: LandSat Collection 1 \\\n",
    "        <br> C02: LandSat Collection 2  [2022/01/01 and beyond] \\\n",
    "        <br>      - Landsat 9 is only available in C02\",\n",
    "    layout=Layout(padding='10px')\n",
    ")\n",
    "collection_radio=widgets.RadioButtons(\n",
    "    options=['C01', 'C02'],\n",
    "    value='C01',\n",
    "    description='Collection:',\n",
    "    disabled=False\n",
    ")\n",
    "collection_vbox=widgets.VBox([collection_instr,collection_radio])\n",
    "\n",
    "controls_vbox=widgets.VBox([dates_vbox,collection_vbox])\n",
    "controls_vbox"
   ]
  },
  {
   "cell_type": "code",
   "execution_count": 3,
   "metadata": {},
   "outputs": [],
   "source": [
    "data_selection=widgets.Dropdown(\n",
    "    options=[('Select Your Images', 1), ('Use Data Folder', 2)],\n",
    "    value=1,\n",
    "    description='Number:',\n",
    ")\n",
    "\n",
    "use_GPU_output = widgets.Output()\n",
    "GPU_checkbox=widgets.Checkbox(\n",
    "    value=False,\n",
    "    description='Use GPU?',\n",
    "    disabled=False,\n",
    "    indent=False\n",
    ")\n"
   ]
  },
  {
   "cell_type": "code",
   "execution_count": 5,
   "metadata": {},
   "outputs": [
    {
     "data": {
      "application/vnd.jupyter.widget-view+json": {
       "model_id": "7861c50abc4d4627a17dabd053d00988",
       "version_major": 2,
       "version_minor": 0
      },
      "text/plain": [
       "Dropdown(description='Number:', options=(('Select Your Images', 1), ('Use Data Folder', 2)), value=1)"
      ]
     },
     "metadata": {},
     "output_type": "display_data"
    },
    {
     "data": {
      "application/vnd.jupyter.widget-view+json": {
       "model_id": "c2ba824678da4f0f8eb16a89befacf68",
       "version_major": 2,
       "version_minor": 0
      },
      "text/plain": [
       "Checkbox(value=False, description='Use GPU?', indent=False)"
      ]
     },
     "metadata": {},
     "output_type": "display_data"
    },
    {
     "data": {
      "application/vnd.jupyter.widget-view+json": {
       "model_id": "320b03d1a9234911b3c1a46a2e15d2fb",
       "version_major": 2,
       "version_minor": 0
      },
      "text/plain": [
       "Output()"
      ]
     },
     "metadata": {},
     "output_type": "display_data"
    },
    {
     "data": {
      "application/vnd.jupyter.widget-view+json": {
       "model_id": "c93834b8288840ce9c5edb128d8200b5",
       "version_major": 2,
       "version_minor": 0
      },
      "text/plain": [
       "VBox(children=(VBox(children=(HTML(value='<b>Pick a date:<b>', layout=Layout(padding='10px')), HBox(children=(…"
      ]
     },
     "metadata": {},
     "output_type": "display_data"
    }
   ],
   "source": [
    "#Rerun this to save the selections\n",
    "display(data_selection, GPU_checkbox, use_GPU_output,controls_vbox)"
   ]
  },
  {
   "cell_type": "code",
   "execution_count": null,
   "metadata": {},
   "outputs": [],
   "source": [
    "def get_jpgs_from_data():\n",
    "    \"\"\"Copies all the jpgs from the data folder in CoastSeg to a new folder, where the model\n",
    "    will save the computed segmentations.\"\"\"\n",
    "    # Data folder location \n",
    "    src_path=os.getcwd()+os.sep+\"data\"\n",
    "    if os.path.exists(src_path):\n",
    "        file_functions.rename_jpgs(src_path)\n",
    "        # Create a new folder to hold all the data\n",
    "        location=os.getcwd()\n",
    "        name=\"segmentation_data\"\n",
    "        new_folder=file_functions.mk_new_dir(name,location)\n",
    "        glob_str = src_path + str(os.sep + \"**\" + os.sep) * 3 + \"*jpg\"\n",
    "        file_functions.copy_files_to_dst(src_path,new_folder, glob_str)\n",
    "        return new_folder\n",
    "    else:\n",
    "        print(\"ERROR: Cannot find the data directory in CoastSeg\")\n",
    "        raise Exception(\"ERROR: Cannot find the data directory in CoastSeg\")\n"
   ]
  },
  {
   "cell_type": "code",
   "execution_count": null,
   "metadata": {},
   "outputs": [],
   "source": [
    "if data_selection.value == 1:\n",
    "    # Prompt the user to select a directory of images                              \n",
    "    root.withdraw()                                        # Hide the main window.\n",
    "    root.call('wm', 'attributes', '.', '-topmost', True)   # Raise the root to the top of all windows.\n",
    "    root.filename =  filedialog.askdirectory(initialdir = \"/samples\",title = \"Select directory of images (or npzs) to segment\")\n",
    "    # Save the filename as an attribute of the button\n",
    "    if root.filename:\n",
    "        sample_direc= root.filename\n",
    "        print(f\"{sample_direc} will be segmented\")\n",
    "    else:\n",
    "        raise Exception(\"You must select a valid directory first!\")\n",
    "elif data_selection.value ==2:\n",
    "    # Use the data folder as the input for segmentation\n",
    "    print(\"Loading in the jpgs from the data directory\")\n",
    "    # Copy the jpgs from data to a new folder called segmentation_data_[datetime]\n",
    "    sample_direc = get_jpgs_from_data()\n",
    "    print(f\"Contents of the data directory saved in {sample_direc}\")"
   ]
  },
  {
   "cell_type": "code",
   "execution_count": null,
   "metadata": {},
   "outputs": [],
   "source": [
    "if GPU_checkbox.value == False:\n",
    "    print(\"Not using the GPU\")\n",
    "    ## to use the CPU (not recommended):\n",
    "    os.environ['CUDA_VISIBLE_DEVICES'] = '-1'\n",
    "else:\n",
    "    print(\"Using the GPU\")\n",
    "    ##use the first available GPU\n",
    "    os.environ['CUDA_VISIBLE_DEVICES'] = '0' #'1'"
   ]
  },
  {
   "cell_type": "code",
   "execution_count": null,
   "metadata": {},
   "outputs": [],
   "source": [
    "dataset='RGB'\n",
    "dataset_id ='landsat_6229071'\n",
    "model_choice='ENSEMBLE'\n",
    "zoo_model=zoo_model_module.Zoo_Model()\n",
    "# # First download the specified model\n",
    "zoo_model.download_model(dataset,dataset_id)\n",
    "# # Get weights as list\n",
    "Ww=zoo_model.get_weights_list(model_choice)\n",
    "# Load the model from the config files\n",
    "model, model_list, config_files, model_types=zoo_model.get_model(Ww)\n",
    "metadatadict=zoo_model.get_metadatadict(Ww,config_files, model_types)\n",
    "# # Compute the segmentation\n",
    "zoo_model.compute_segmentation(sample_direc, model_list, metadatadict)\n"
   ]
  }
 ],
 "metadata": {
  "interpreter": {
   "hash": "670bff6dfb781cff587e0f7de211727f02447e3138c9db25847103c3ecfbe788"
  },
  "kernelspec": {
   "display_name": "Python 3.7.12 ('coastseg')",
   "language": "python",
   "name": "python3"
  },
  "language_info": {
   "codemirror_mode": {
    "name": "ipython",
    "version": 3
   },
   "file_extension": ".py",
   "mimetype": "text/x-python",
   "name": "python",
   "nbconvert_exporter": "python",
   "pygments_lexer": "ipython3",
   "version": "3.7.12"
  },
  "orig_nbformat": 4
 },
 "nbformat": 4,
 "nbformat_minor": 2
}
