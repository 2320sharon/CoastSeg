{
 "cells": [
  {
   "cell_type": "code",
   "execution_count": 1,
   "metadata": {},
   "outputs": [
    {
     "name": "stderr",
     "output_type": "stream",
     "text": [
      "Can't load requested DLL: C:\\Program Files\\GDAL\\gdalplugins\\gdal_KEA.dll\n",
      "127: The specified procedure could not be found.\n",
      "\n",
      "Can't load requested DLL: C:\\Program Files\\GDAL\\gdalplugins\\gdal_KEA.dll\n",
      "127: The specified procedure could not be found.\n",
      "\n",
      "Can't load requested DLL: C:\\Program Files\\GDAL\\gdalplugins\\gdal_KEA.dll\n",
      "127: The specified procedure could not be found.\n",
      "\n",
      "Can't load requested DLL: C:\\Program Files\\GDAL\\gdalplugins\\gdal_KEA.dll\n",
      "127: The specified procedure could not be found.\n",
      "\n"
     ]
    },
    {
     "name": "stdout",
     "output_type": "stream",
     "text": [
      "Version:  2.8.0\n",
      "Eager mode:  True\n",
      "Version:  2.8.0\n",
      "Eager mode:  True\n",
      "GPU name:  []\n",
      "Num GPUs Available:  0\n"
     ]
    }
   ],
   "source": [
    "import os\n",
    "from datetime import datetime\n",
    "from tkinter import Tk,filedialog\n",
    "from tkinter import *\n",
    "import ipywidgets as widgets\n",
    "from CoastSeg import zoo_model_module\n",
    "from IPython.display import  display\n",
    "\n",
    "from doodleverse_utils.prediction_imports import do_seg\n",
    "from doodleverse_utils.imports import simple_resunet, simple_unet, simple_satunet, custom_resunet, custom_unet, mean_iou, dice_coef\n",
    "import tensorflow as tf\n",
    "\n",
    "from CoastSeg import file_functions\n",
    "\n",
    "#suppress tensorflow warnings\n",
    "os.environ['TF_CPP_MIN_LOG_LEVEL'] = '3'\n",
    "root = Tk()\n",
    "out = widgets.Output()\n",
    "\n",
    "output_select_all = widgets.Output()"
   ]
  },
  {
   "cell_type": "code",
   "execution_count": 4,
   "metadata": {},
   "outputs": [],
   "source": [
    "data_selection=widgets.Dropdown(\n",
    "    options=[('Select Your Images', 1), ('Use Data Folder', 2)],\n",
    "    value=1,\n",
    "    description='Number:',\n",
    ")\n",
    "\n",
    "use_GPU_output = widgets.Output()\n",
    "GPU_checkbox=widgets.Checkbox(\n",
    "    value=False,\n",
    "    description='Use GPU?',\n",
    "    disabled=False,\n",
    "    indent=False\n",
    ")\n"
   ]
  },
  {
   "cell_type": "code",
   "execution_count": 8,
   "metadata": {},
   "outputs": [
    {
     "data": {
      "application/vnd.jupyter.widget-view+json": {
       "model_id": "dbc2f3147a8044b69fe3ac6163ac2ea5",
       "version_major": 2,
       "version_minor": 0
      },
      "text/plain": [
       "Dropdown(description='Number:', index=1, options=(('Select Your Images', 1), ('Use Data Folder', 2)), value=2)"
      ]
     },
     "metadata": {},
     "output_type": "display_data"
    },
    {
     "data": {
      "application/vnd.jupyter.widget-view+json": {
       "model_id": "3b5d6420f468412b835367b3b3e7eecc",
       "version_major": 2,
       "version_minor": 0
      },
      "text/plain": [
       "Checkbox(value=False, description='Use GPU?', indent=False)"
      ]
     },
     "metadata": {},
     "output_type": "display_data"
    },
    {
     "data": {
      "application/vnd.jupyter.widget-view+json": {
       "model_id": "4e51a537ea9f4218b2cf65ab60283611",
       "version_major": 2,
       "version_minor": 0
      },
      "text/plain": [
       "Output()"
      ]
     },
     "metadata": {},
     "output_type": "display_data"
    }
   ],
   "source": [
    "#Rerun this to save the selections\n",
    "display(data_selection, GPU_checkbox, use_GPU_output)"
   ]
  },
  {
   "cell_type": "code",
   "execution_count": 9,
   "metadata": {},
   "outputs": [],
   "source": [
    "def get_jpgs_from_data():\n",
    "    \"\"\"Copies all the jpgs from the data folder in CoastSeg to a new folder, where the model\n",
    "    will save the computed segmentations.\"\"\"\n",
    "    # Data folder location \n",
    "    src_path=os.getcwd()+os.sep+\"data\"\n",
    "    if os.path.exists(src_path):\n",
    "        file_functions.rename_jpgs(src_path)\n",
    "        # Create a new folder to hold all the data\n",
    "        location=os.getcwd()\n",
    "        name=\"segmentation_data\"\n",
    "        new_folder=file_functions.mk_new_dir(name,location)\n",
    "        glob_str = src_path + str(os.sep + \"**\" + os.sep) * 3 + \"*jpg\"\n",
    "        file_functions.copy_files_to_dst(src_path,new_folder, glob_str)\n",
    "        return new_folder\n",
    "    else:\n",
    "        print(\"ERROR: Cannot find the data directory in CoastSeg\")\n",
    "        raise Exception(\"ERROR: Cannot find the data directory in CoastSeg\")\n"
   ]
  },
  {
   "cell_type": "code",
   "execution_count": 11,
   "metadata": {},
   "outputs": [
    {
     "name": "stdout",
     "output_type": "stream",
     "text": [
      "Loading in the jpgs from the data directory\n",
      "2022-06-13 17:54:12.677515\n",
      "Copied files that matched c:\\1_USGS\\CoastSeg\\repos\\2_CoastSeg\\CoastSeg_fork\\Seg2Map\\data\\**\\\\**\\\\**\\*jpg  to c:\\1_USGS\\CoastSeg\\repos\\2_CoastSeg\\CoastSeg_fork\\Seg2Map\\segmentation_data_2022-06-13__17_hr_54_min\n",
      "Contents of the data directory saved in c:\\1_USGS\\CoastSeg\\repos\\2_CoastSeg\\CoastSeg_fork\\Seg2Map\\segmentation_data_2022-06-13__17_hr_54_min\n"
     ]
    }
   ],
   "source": [
    "if data_selection.value == 1:\n",
    "    # Prompt the user to select a directory of images                              \n",
    "    root.withdraw()                                        # Hide the main window.\n",
    "    root.call('wm', 'attributes', '.', '-topmost', True)   # Raise the root to the top of all windows.\n",
    "    root.filename =  filedialog.askdirectory(initialdir = \"/samples\",title = \"Select directory of images (or npzs) to segment\")\n",
    "    # Save the filename as an attribute of the button\n",
    "    if root.filename:\n",
    "        sample_direc= root.filename\n",
    "        print(f\"{sample_direc} will be segmented\")\n",
    "    else:\n",
    "        raise Exception(\"You must select a valid directory first!\")\n",
    "elif data_selection.value ==2:\n",
    "    # Use the data folder as the input for segmentation\n",
    "    print(\"Loading in the jpgs from the data directory\")\n",
    "    # Copy the jpgs from data to a new folder called segmentation_data_[datetime]\n",
    "    sample_direc = get_jpgs_from_data()\n",
    "    print(f\"Contents of the data directory saved in {sample_direc}\")"
   ]
  },
  {
   "cell_type": "code",
   "execution_count": 12,
   "metadata": {},
   "outputs": [
    {
     "name": "stdout",
     "output_type": "stream",
     "text": [
      "Not using the GPU\n"
     ]
    }
   ],
   "source": [
    "if GPU_checkbox.value == False:\n",
    "    print(\"Not using the GPU\")\n",
    "    ## to use the CPU (not recommended):\n",
    "    os.environ['CUDA_VISIBLE_DEVICES'] = '-1'\n",
    "else:\n",
    "    print(\"Using the GPU\")\n",
    "    ##use the first available GPU\n",
    "    os.environ['CUDA_VISIBLE_DEVICES'] = '0' #'1'"
   ]
  },
  {
   "cell_type": "code",
   "execution_count": 13,
   "metadata": {},
   "outputs": [
    {
     "name": "stderr",
     "output_type": "stream",
     "text": [
      "100%|██████████| 36/36 [03:06<00:00,  5.19s/it]\n"
     ]
    }
   ],
   "source": [
    "dataset='RGB'\n",
    "dataset_id ='landsat_6229071'\n",
    "model_choice='ENSEMBLE'\n",
    "zoo_model=zoo_model_module.Zoo_Model()\n",
    "# # First download the specified model\n",
    "zoo_model.download_model(dataset,dataset_id)\n",
    "# # Get weights as list\n",
    "Ww=zoo_model.get_weights_list(model_choice)\n",
    "# Load the model from the config files\n",
    "model, model_list, config_files, model_types=zoo_model.get_model(Ww)\n",
    "metadatadict=zoo_model.get_metadatadict(Ww,config_files, model_types)\n",
    "# # Compute the segmentation\n",
    "zoo_model.compute_segmentation(sample_direc, model_list, metadatadict)\n"
   ]
  }
 ],
 "metadata": {
  "interpreter": {
   "hash": "9d097efbdf24db87a2507c17c632c6d564e7aff5ba5cfc04e62a44a8b3d6a20a"
  },
  "kernelspec": {
   "display_name": "Python 3.7.12 ('coastseg')",
   "language": "python",
   "name": "python3"
  },
  "language_info": {
   "codemirror_mode": {
    "name": "ipython",
    "version": 3
   },
   "file_extension": ".py",
   "mimetype": "text/x-python",
   "name": "python",
   "nbconvert_exporter": "python",
   "pygments_lexer": "ipython3",
   "version": "3.7.12"
  },
  "orig_nbformat": 4
 },
 "nbformat": 4,
 "nbformat_minor": 2
}
