{
 "cells": [
  {
   "cell_type": "code",
   "execution_count": null,
   "metadata": {},
   "outputs": [],
   "source": [
    "import os\n",
    "from tkinter import Tk,filedialog\n",
    "from tkinter import *\n",
    "import ipywidgets as widgets\n",
    "from IPython.display import display\n",
    "\n",
    "from CoastSeg import zoo_model_module\n",
    "from CoastSeg import file_functions\n",
    "\n",
    "#suppress tensorflow warnings\n",
    "os.environ['TF_CPP_MIN_LOG_LEVEL'] = '3'\n",
    "root = Tk()"
   ]
  },
  {
   "cell_type": "code",
   "execution_count": null,
   "metadata": {},
   "outputs": [],
   "source": [
    "data_selection=widgets.Dropdown(\n",
    "    options=[('Select Your Images', 1), ('Use Data Folder', 2)],\n",
    "    value=1,\n",
    "    description='Number:',\n",
    ")\n",
    "\n",
    "use_GPU_output = widgets.Output()\n",
    "GPU_checkbox=widgets.Checkbox(\n",
    "    value=False,\n",
    "    description='Use GPU?',\n",
    "    disabled=False,\n",
    "    indent=False\n",
    ")\n"
   ]
  },
  {
   "cell_type": "code",
   "execution_count": null,
   "metadata": {},
   "outputs": [],
   "source": [
    "#Rerun this to save the selections\n",
    "display(data_selection, GPU_checkbox, use_GPU_output)"
   ]
  },
  {
   "cell_type": "code",
   "execution_count": null,
   "metadata": {},
   "outputs": [],
   "source": [
    "def get_jpgs_from_data():\n",
    "    \"\"\"Copies all the jpgs from the data folder in CoastSeg to a new folder, where the model\n",
    "    will save the computed segmentations.\"\"\"\n",
    "    # Data folder location \n",
    "    src_path=os.getcwd()+os.sep+\"data\"\n",
    "    if os.path.exists(src_path):\n",
    "        file_functions.rename_jpgs(src_path)\n",
    "        # Create a new folder to hold all the data\n",
    "        location=os.getcwd()\n",
    "        name=\"segmentation_data\"\n",
    "        new_folder=file_functions.mk_new_dir(name,location)\n",
    "        glob_str = src_path + str(os.sep + \"**\" + os.sep) * 3 + \"*jpg\"\n",
    "        file_functions.copy_files_to_dst(src_path,new_folder, glob_str)\n",
    "        return new_folder\n",
    "    else:\n",
    "        print(\"ERROR: Cannot find the data directory in CoastSeg\")\n",
    "        raise Exception(\"ERROR: Cannot find the data directory in CoastSeg\")\n"
   ]
  },
  {
   "cell_type": "code",
   "execution_count": null,
   "metadata": {},
   "outputs": [],
   "source": [
    "if data_selection.value == 1:\n",
    "    # Prompt the user to select a directory of images                              \n",
    "    root.withdraw()                                        # Hide the main window.\n",
    "    root.call('wm', 'attributes', '.', '-topmost', True)   # Raise the root to the top of all windows.\n",
    "    root.filename =  filedialog.askdirectory(initialdir = \"/samples\",title = \"Select directory of images (or npzs) to segment\")\n",
    "    # Save the filename as an attribute of the button\n",
    "    if root.filename:\n",
    "        sample_direc= root.filename\n",
    "        print(f\"{sample_direc} will be segmented\")\n",
    "    else:\n",
    "        raise Exception(\"You must select a valid directory first!\")\n",
    "elif data_selection.value ==2:\n",
    "    # Use the data folder as the input for segmentation\n",
    "    print(\"Loading in the jpgs from the data directory\")\n",
    "    # Copy the jpgs from data to a new folder called segmentation_data_[datetime]\n",
    "    sample_direc = get_jpgs_from_data()\n",
    "    print(f\"Contents of the data directory saved in {sample_direc}\")"
   ]
  },
  {
   "cell_type": "code",
   "execution_count": null,
   "metadata": {},
   "outputs": [],
   "source": [
    "if GPU_checkbox.value == False:\n",
    "    print(\"Not using the GPU\")\n",
    "    ## to use the CPU (not recommended):\n",
    "    os.environ['CUDA_VISIBLE_DEVICES'] = '-1'\n",
    "else:\n",
    "    print(\"Using the GPU\")\n",
    "    ##use the first available GPU\n",
    "    os.environ['CUDA_VISIBLE_DEVICES'] = '0' #'1'"
   ]
  },
  {
   "cell_type": "code",
   "execution_count": null,
   "metadata": {},
   "outputs": [],
   "source": [
    "dataset='RGB'\n",
    "dataset_id ='landsat_6229071'\n",
    "model_choice='ENSEMBLE'\n",
    "zoo_model=zoo_model_module.Zoo_Model()\n",
    "# # First download the specified model\n",
    "zoo_model.download_model(dataset,dataset_id)\n",
    "# # Get weights as list\n",
    "Ww=zoo_model.get_weights_list(model_choice)\n",
    "# Load the model from the config files\n",
    "model, model_list, config_files, model_types=zoo_model.get_model(Ww)\n",
    "metadatadict=zoo_model.get_metadatadict(Ww,config_files, model_types)\n",
    "# # Compute the segmentation\n",
    "zoo_model.compute_segmentation(sample_direc, model_list, metadatadict)\n"
   ]
  }
 ],
 "metadata": {
  "interpreter": {
   "hash": "9d097efbdf24db87a2507c17c632c6d564e7aff5ba5cfc04e62a44a8b3d6a20a"
  },
  "kernelspec": {
   "display_name": "Python 3.7.12 ('coastseg')",
   "language": "python",
   "name": "python3"
  },
  "language_info": {
   "codemirror_mode": {
    "name": "ipython",
    "version": 3
   },
   "file_extension": ".py",
   "mimetype": "text/x-python",
   "name": "python",
   "nbconvert_exporter": "python",
   "pygments_lexer": "ipython3",
   "version": "3.7.12"
  },
  "orig_nbformat": 4
 },
 "nbformat": 4,
 "nbformat_minor": 2
}
