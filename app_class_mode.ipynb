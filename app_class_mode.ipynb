{
 "cells": [
  {
   "cell_type": "markdown",
   "metadata": {},
   "source": [
    "## CoastSeg\n",
    "----"
   ]
  },
  {
   "cell_type": "code",
   "execution_count": 1,
   "metadata": {},
   "outputs": [
    {
     "name": "stderr",
     "output_type": "stream",
     "text": [
      "Can't load requested DLL: C:\\Program Files\\GDAL\\gdalplugins\\gdal_KEA.dll\n",
      "127: The specified procedure could not be found.\n",
      "\n",
      "Can't load requested DLL: C:\\Program Files\\GDAL\\gdalplugins\\gdal_KEA.dll\n",
      "127: The specified procedure could not be found.\n",
      "\n",
      "Can't load requested DLL: C:\\Program Files\\GDAL\\gdalplugins\\gdal_KEA.dll\n",
      "127: The specified procedure could not be found.\n",
      "\n",
      "Can't load requested DLL: C:\\Program Files\\GDAL\\gdalplugins\\gdal_KEA.dll\n",
      "127: The specified procedure could not be found.\n",
      "\n"
     ]
    },
    {
     "name": "stdout",
     "output_type": "stream",
     "text": [
      "Version:  2.8.0\n",
      "Eager mode:  True\n",
      "Version:  2.8.0\n",
      "Eager mode:  True\n",
      "GPU name:  []\n",
      "Num GPUs Available:  0\n"
     ]
    }
   ],
   "source": [
    "# Internal Imports\n",
    "import warnings\n",
    "# warnings.filterwarnings(\"ignore\")\n",
    "# External Imports\n",
    "from IPython.display import display\n",
    "from tkinter import Tk,filedialog\n",
    "import ipywidgets as widgets\n",
    "from ipywidgets import HBox, VBox, Layout\n",
    "from ipyleaflet import DrawControl, GeoJSON, LayersControl\n",
    "import leafmap\n",
    "import os\n",
    "\n",
    "# Local Imports \n",
    "from CoastSeg import download_roi\n",
    "from CoastSeg import bbox\n",
    "from CoastSeg import make_overlapping_roi\n",
    "from CoastSeg import zoo_model_module\n",
    "from CoastSeg import file_functions\n",
    "\n",
    "#suppress tensorflow warnings\n",
    "os.environ['TF_CPP_MIN_LOG_LEVEL'] = '3'\n",
    "root = Tk()"
   ]
  },
  {
   "cell_type": "code",
   "execution_count": 2,
   "metadata": {},
   "outputs": [],
   "source": [
    "debug_view = widgets.Output(layout={'border': '1px solid black'})\n",
    "download_view = widgets.Output(layout={'border': '1px solid black'})\n",
    "model_view = widgets.Output(layout={'border': '1px solid black'})"
   ]
  },
  {
   "cell_type": "code",
   "execution_count": 3,
   "metadata": {},
   "outputs": [],
   "source": [
    "# Map Variables\n",
    "# ---------------\n",
    "center_point = ( 36, -121.5)\n",
    "zoom = 13\n",
    "ROI_SIZE = 0.008\n",
    "\n",
    "map_settings={\n",
    "\"center_point\": center_point,\n",
    "\"zoom\":zoom,\n",
    " \"draw_control\":False,\n",
    " \"measure_control\":False, \n",
    " \"fullscreen_control\":False, \n",
    " \"attribution_control\":True,\n",
    " \"Layout\":Layout(width='100%', height='100px')\n",
    "}\n",
    "\n",
    "# CoastSat Download Variables\n",
    "# ------------------------------\n",
    "dates = ['2018-12-01', '2019-01-01']\n",
    "sat_list = ['S2','L7','L8','L9']\n",
    "# choose Landsat collection 'C01' or 'C02'\n",
    "collection = 'C01'\n",
    "\n",
    "pre_process_settings = { \n",
    "    # general parameters:\n",
    "    'cloud_thresh': 0.5,        # threshold on maximum cloud cover\n",
    "    'output_epsg': 3857,        # epsg code of spatial reference system desired for the output   \n",
    "    # quality control:\n",
    "    'check_detection': True,    # if True, shows each shoreline detection to the user for validation\n",
    "    'adjust_detection': False,  # if True, allows user to adjust the postion of each shoreline by changing the threhold\n",
    "    'save_figure': True,        # if True, saves a figure showing the mapped shoreline for each image\n",
    "    # [ONLY FOR ADVANCED USERS] shoreline detection parameters:\n",
    "    'min_beach_area': 4500,     # minimum area (in metres^2) for an object to be labelled as a beach\n",
    "    'buffer_size': 150,         # radius (in metres) of the buffer around sandy pixels considered in the shoreline detection\n",
    "    'min_length_sl': 200,       # minimum length (in metres) of shoreline perimeter to be valid\n",
    "    'cloud_mask_issue': False,  # switch this parameter to True if sand pixels are masked (in black) on many images  \n",
    "    'sand_color': 'default',    # 'default', 'dark' (for grey/black sand beaches) or 'bright' (for white sand beaches)\n",
    "}\n",
    "\n",
    "# Filenames to Store Data\n",
    "# --------------------------\n",
    "roi_filename = \"official_roi.geojson\"\n",
    "csv_filename='overlap.csv'\n",
    "selected_roi_file=\"selected_roi.geojson\"\n",
    "inputs_filename=\"inputs.json\""
   ]
  },
  {
   "cell_type": "code",
   "execution_count": 4,
   "metadata": {},
   "outputs": [],
   "source": [
    "class GeoJson_Map_Layers:\n",
    "    shoreline_file=os.getcwd()+os.sep+\"third_party_data\"+os.sep+\"stanford-xv279yj9196-geojson.json\"\n",
    "    def __init__(self, map_settings: dict):\n",
    "        # data : geojson data of the rois generated\n",
    "        self.data=None\n",
    "        # selected_set : ids of the selected rois\n",
    "        self.selected_set=set()\n",
    "        # geojson_layer : layer with all rois\n",
    "        self.geojson_layer=None\n",
    "        # selected layer :  layer containing all selected rois\n",
    "        self.selected_layer = None\n",
    "        # shapes_list : Empty list to hold all the polygons drawn by the user\n",
    "        self.shapes_list=[]\n",
    "        # coastline_for_map : coastline vector geojson for map layer\n",
    "        self.coastline_for_map=None\n",
    "        # selected_ROI : Geojson for all the ROIs selected by the user\n",
    "        self.selected_ROI=None\n",
    "        self.collection=None\n",
    "        GeoJson_Map_Layers.check_shoreline_file_exists()\n",
    "        self.m = leafmap.Map(draw_control=map_settings[\"draw_control\"],\n",
    "                        measure_control=map_settings[\"measure_control\"],\n",
    "                        fullscreen_control=map_settings[\"fullscreen_control\"],\n",
    "                        attribution_control=map_settings[\"attribution_control\"],\n",
    "                        center=map_settings[\"center_point\"],\n",
    "                        zoom=map_settings[\"zoom\"],\n",
    "                        layout=map_settings[\"Layout\"])\n",
    "        # Create drawing controls\n",
    "        self.draw_control=DrawControl()\n",
    "        self.create_DrawControl(self.draw_control)\n",
    "        self.draw_control.on_draw(self.handle_draw)\n",
    "        self.m.add_control(self.draw_control)\n",
    "        layer_control = LayersControl(position='topright')\n",
    "        self.m.add_control(layer_control)\n",
    "    \n",
    "    def check_shoreline_file_exists():\n",
    "        if not os.path.exists(GeoJson_Map_Layers.shoreline_file):\n",
    "            print(\"\\n The geojson shoreline file does not exist.\")\n",
    "            print(\"Please ensure the shoreline file is the directory 'third_party_data' \")\n",
    "    \n",
    "    def create_DrawControl(self,draw_control):\n",
    "        draw_control.polyline = {}\n",
    "        draw_control.circlemarker = {}\n",
    "        draw_control.polygon = {}\n",
    "        draw_control.rectangle = {\n",
    "            \"shapeOptions\": {\n",
    "                \"fillColor\": \"green\",\n",
    "                \"color\": \"green\",\n",
    "                \"fillOpacity\": 0.1,\n",
    "                \"Opacity\": 0.1\n",
    "            },\n",
    "            \"drawError\": {\n",
    "                \"color\": \"#dd253b\",\n",
    "                \"message\": \"Ops!\"\n",
    "            },\n",
    "            \"allowIntersection\": False,\n",
    "            \"transform\":True\n",
    "        }\n",
    "        return  draw_control \n",
    "   \n",
    "   \n",
    "    def handle_draw(self,target, action, geo_json):\n",
    "        self.action=action\n",
    "        self.geo_json=geo_json\n",
    "        self.target=target\n",
    "        if self.draw_control.last_action == 'created'and self.draw_control.last_draw['geometry']['type']=='Polygon' :\n",
    "            self.shapes_list.append( self.draw_control.last_draw['geometry'])\n",
    "        if self.draw_control.last_action == 'deleted':\n",
    "            self.shapes_list.pop()\n",
    "    \n",
    "    \n",
    "    def set_data(self, roi_filename):\n",
    "        # Read the geojson for all the ROIs generated\n",
    "        self.data=download_roi.read_geojson_file(roi_filename)\n",
    "        # Add style to each feature in the geojson\n",
    "        for feature in self.data[\"features\"]:\n",
    "            feature[\"properties\"][\"style\"] = {\n",
    "                \"color\": \"grey\",\n",
    "                \"weight\": 1,\n",
    "                \"fillColor\": \"grey\",\n",
    "                \"fillOpacity\": 0.2,\n",
    "            }\n",
    "    \n",
    "    \n",
    "    def generate_ROIS(self, roi_filename, csv_filename, progressbar=None):\n",
    "        # Make sure your bounding box is within the allowed size\n",
    "        bbox.validate_bbox_size(self.shapes_list)\n",
    "        #dictionary containing geojson coastline\n",
    "        roi_coastline=bbox.get_coastline(GeoJson_Map_Layers.shoreline_file,self.shapes_list)\n",
    "        #coastline styled for the map\n",
    "        self.coastline_for_map=self.get_coastline_layer(roi_coastline)\n",
    "        self.m.add_layer(self.coastline_for_map)\n",
    "        #Get the rois using the coastline  within bounding box\n",
    "        geojson_polygons=make_overlapping_roi.get_ROIs(roi_coastline,roi_filename,csv_filename,progressbar)\n",
    "        # Save the data from the ROI file to data\n",
    "        self.set_data(roi_filename)\n",
    "        # overlap_btw_vectors_df=make_overlapping_roi.min_overlap_btw_vectors(roi_filename,csv_filename,overlap_percent=.65)\n",
    "\n",
    "    def save_roi_to_file(self, selected_roi_file):\n",
    "        self.selected_ROI=download_roi.save_roi(roi_filename, selected_roi_file, self.selected_set)\n",
    "  \n",
    "  \n",
    "    def get_coastline_layer(self,roi_coastline: dict):\n",
    "        \"\"\"Returns a GeoJSON object that can be added as layer to map \"\"\"\n",
    "        assert roi_coastline != {}, \"ERROR.\\n Empty geojson cannot be drawn onto  map\"\n",
    "        return GeoJSON(\n",
    "            data=roi_coastline,\n",
    "            name=\"Coastline\",\n",
    "            style={\n",
    "                'color': 'yellow',\n",
    "                'fill_color': 'yellow',\n",
    "                'opacity': 1,\n",
    "                'dashArray': '5',\n",
    "                'fillOpacity': 0.5,\n",
    "                'weight': 4},\n",
    "            hover_style={\n",
    "                'color': 'white',\n",
    "                'dashArray': '4',\n",
    "                'fillOpacity': 0.7},\n",
    "        )  \n",
    "    \n",
    "    \n",
    "    def get_geojson_layer(self):\n",
    "        if self.geojson_layer is None:\n",
    "             self.geojson_layer=GeoJSON(data=self.data, name=\"geojson data\", hover_style={\"fillColor\": \"red\"})\n",
    "        return self.geojson_layer\n",
    "    \n",
    "    \n",
    "    def geojson_onclick_handler(self, event=None, id=None, properties=None, **args):\n",
    "        if properties is None:\n",
    "            return\n",
    "        cid = properties[\"id\"]\n",
    "        self.selected_set.add(cid)\n",
    "        if self.selected_layer is not None:\n",
    "            self.m.remove_layer(self.selected_layer)\n",
    "            \n",
    "        self.selected_layer = GeoJSON(\n",
    "            data=self.convert_selected_set_to_geojson(self.selected_set),\n",
    "            name=\"Selected ROIs\",\n",
    "            hover_style={\"fillColor\": \"blue\"},\n",
    "        )\n",
    "        self.selected_layer.on_click(self.selected_onclick_handler)\n",
    "        self.m.add_layer(self.selected_layer)\n",
    "        \n",
    "        \n",
    "    def selected_onclick_handler(self,event=None, id=None, properties=None, **args):\n",
    "        \"\"\"This is the on click handler for a layer that is selected.\n",
    "        This method removes the give layer's cid from the selected_set and removes the layer from\n",
    "        select_layer.\"\"\"\n",
    "        if properties is None:\n",
    "            return\n",
    "        # Remove the current layers cid from selected set\n",
    "        cid = properties[\"id\"]\n",
    "        self.selected_set.remove(cid)\n",
    "        if self.selected_layer is not None:\n",
    "            self.m.remove_layer(self.selected_layer)\n",
    "        # Recreate the selected layers wihout the layer that was removed\n",
    "        self.selected_layer = GeoJSON(\n",
    "            data = self.convert_selected_set_to_geojson(self.selected_set),\n",
    "            name=\"Selected ROIs\",\n",
    "            hover_style={\"fillColor\": \"blue\"},\n",
    "        )\n",
    "        # Recreate the onclick handler for the selected layers\n",
    "        self.selected_layer.on_click(self.selected_onclick_handler)\n",
    "        # Add selected layer to the map\n",
    "        self.m.add_layer(self.selected_layer)\n",
    "    \n",
    "    \n",
    "    def add_geojson_layer_to_map(self):\n",
    "        geojson_layer =self.get_geojson_layer()\n",
    "        geojson_layer.on_click(self.geojson_onclick_handler)\n",
    "        self.m.add_layer(geojson_layer)\n",
    "        \n",
    "            \n",
    "    def convert_selected_set_to_geojson(self,selected_set):\n",
    "        geojson = {\"type\": \"FeatureCollection\", \"features\": []}\n",
    "        # Select the geojson in the selected layer\n",
    "        geojson[\"features\"] = [\n",
    "            feature\n",
    "            for feature in self.data[\"features\"]\n",
    "            if feature[\"properties\"][\"id\"] in selected_set\n",
    "        ]\n",
    "        # Modify geojson style for each polygon in the selected layer\n",
    "        for feature in self.data[\"features\"]:\n",
    "            feature[\"properties\"][\"style\"] = {\n",
    "                \"color\": \"blue\",\n",
    "                \"weight\": 2,\n",
    "                \"fillColor\": \"grey\",\n",
    "                \"fillOpacity\": 0.2,\n",
    "            }\n",
    "        return geojson\n"
   ]
  },
  {
   "cell_type": "markdown",
   "metadata": {},
   "source": [
    "# Create the Map\n",
    "- Create the map using the map settings set above"
   ]
  },
  {
   "cell_type": "code",
   "execution_count": 5,
   "metadata": {},
   "outputs": [],
   "source": [
    "GML=GeoJson_Map_Layers(map_settings)"
   ]
  },
  {
   "cell_type": "markdown",
   "metadata": {},
   "source": [
    "# How to Use The Map\n",
    "---\n",
    "1. Use the rectangle tool to draw a bounding box along the coastline.\n",
    "2. Click `Generate ROI` to create ROI rectangles along the coastline in the bounding box. This may take some time.\n",
    "- You should see a coastline appear in yellow and some rectangles along it.\n",
    "3. Click 1 or more ROIs then click `Save ROI` to save these ROIs for downloading later\n",
    "4. You're ready to download the ROIs. Run the next block of code.\n",
    "\n",
    "## Can't Click Any ROI?\n",
    "- If the bounding box is in the way of selecting the roi click the trash can icon on the left side menu, then click the bounding box, then click save. This will delete the bounding box and allow you to click an ROI."
   ]
  },
  {
   "cell_type": "code",
   "execution_count": 6,
   "metadata": {},
   "outputs": [
    {
     "data": {
      "application/vnd.jupyter.widget-view+json": {
       "model_id": "e881ad93d7504f828d94476accb44fd4",
       "version_major": 2,
       "version_minor": 0
      },
      "text/plain": [
       "Output(layout=Layout(border='1px solid black'))"
      ]
     },
     "metadata": {},
     "output_type": "display_data"
    },
    {
     "data": {
      "application/vnd.jupyter.widget-view+json": {
       "model_id": "4d85ecfdb33344e586b149da4bedbad2",
       "version_major": 2,
       "version_minor": 0
      },
      "text/plain": [
       "HBox(children=(Button(description='Generate ROI', style=ButtonStyle()), Button(description='Save ROI', style=B…"
      ]
     },
     "metadata": {},
     "output_type": "display_data"
    },
    {
     "data": {
      "application/vnd.jupyter.widget-view+json": {
       "model_id": "88be2d716f934ee3af903c84b77e5db8",
       "version_major": 2,
       "version_minor": 0
      },
      "text/plain": [
       "Map(center=[36, -121.5], controls=(ZoomControl(options=['position', 'zoom_in_text', 'zoom_in_title', 'zoom_out…"
      ]
     },
     "metadata": {},
     "output_type": "display_data"
    }
   ],
   "source": [
    "gen_button = widgets.Button(description=\"Generate ROI\")\n",
    "save_button = widgets.Button(description=\"Save ROI\")\n",
    "# download_button = widgets.Button(description=\"Download ROI\")\n",
    "instructions = widgets.Output()\n",
    "# Print the starting instructions to screen\n",
    "with instructions:\n",
    "            if GML.shapes_list == []:\n",
    "                instructions.clear_output()\n",
    "                print(\"Draw a bounding box on the coast first, then click Generate ROI.\")\n",
    "output_vbox=VBox([instructions],layout=Layout(padding='0px 0px 0px 80px'))\n",
    "\n",
    "@debug_view.capture(clear_output=True)\n",
    "def on_gen_button_clicked(b):\n",
    "    if GML.shapes_list == []:\n",
    "        print(\"Draw a bounding box on the coast first, then click Generate ROI.\")\n",
    "    else:\n",
    "        debug_view.clear_output(wait=True)\n",
    "        print(\"Generating ROIs please wait.\") \n",
    "        # Generate ROIs along the coastline within the bounding box\n",
    "        GML.generate_ROIS(roi_filename, csv_filename)\n",
    "        # Add the Clickable ROIs to the map\n",
    "        GML.add_geojson_layer_to_map()\n",
    "        debug_view.clear_output(wait=True)\n",
    "        print(\"ROIs generated. Please Select at least one ROI and click Save ROI.\")\n",
    "\n",
    "@debug_view.capture(clear_output=True)\n",
    "def on_save_button_clicked(b):\n",
    "    if len(GML.selected_set) == 0:\n",
    "         print(\"Must select at least 1 ROI first before you can save ROIs.\")\n",
    "    else:\n",
    "        debug_view.clear_output(wait=True)\n",
    "        GML.save_roi_to_file(selected_roi_file)\n",
    "        # error_output.clear_output()\n",
    "        print(\"Saving ROIs\")\n",
    "        debug_view.clear_output(wait=True)\n",
    "        print(\"ROIs have been saved. Now click Download ROI to download the ROIs using CoastSat\")\n",
    "        \n",
    "gen_button.on_click(on_gen_button_clicked)\n",
    "save_button.on_click(on_save_button_clicked)\n",
    "\n",
    "display(debug_view,HBox([gen_button, save_button , output_vbox]))\n",
    "GML.m"
   ]
  },
  {
   "cell_type": "code",
   "execution_count": 7,
   "metadata": {},
   "outputs": [
    {
     "name": "stdout",
     "output_type": "stream",
     "text": [
      "GeoJSON(data={'type': 'FeatureCollection', 'features': [{\"geometry\": {\"coordinates\": [[[-121.600998, 36.01761], [-121.600998, 36.05761], [-121.560998, 36.05761], [-121.560998, 36.01761], [-121.600998, 36.01761]]], \"type\": \"Polygon\"}, \"properties\": {\"id\": 1, \"style\": {\"color\": \"blue\", \"fillColor\": \"grey\", \"fillOpacity\": 0.2, \"weight\": 2}}, \"type\": \"Feature\"}, {\"geometry\": {\"coordinates\": [[[-121.585208, 36.00016], [-121.585208, 36.04016], [-121.545208, 36.04016], [-121.545208, 36.00016], [-121.585208, 36.00016]]], \"type\": \"Polygon\"}, \"properties\": {\"id\": 4, \"style\": {\"color\": \"blue\", \"fillColor\": \"grey\", \"fillOpacity\": 0.2, \"weight\": 2}}, \"type\": \"Feature\"}]}, hover_style={'fillColor': 'blue'}, name='Selected ROIs')\n",
      "\n",
      " Selected ID's: {1, 4}\n",
      "\n",
      " ROI to download:  {'features': [{\"geometry\": {\"coordinates\": [[[-121.600998, 36.01761], [-121.600998, 36.05761], [-121.560998, 36.05761], [-121.560998, 36.01761], [-121.600998, 36.01761]]], \"type\": \"Polygon\"}, \"properties\": {\"id\": 1}, \"type\": \"Feature\"}, {\"geometry\": {\"coordinates\": [[[-121.585208, 36.00016], [-121.585208, 36.04016], [-121.545208, 36.04016], [-121.545208, 36.00016], [-121.585208, 36.00016]]], \"type\": \"Polygon\"}, \"properties\": {\"id\": 4}, \"type\": \"Feature\"}]}\n"
     ]
    }
   ],
   "source": [
    "print(GML.selected_layer)\n",
    "print(\"\\n Selected ID's:\",GML.selected_set)\n",
    "if GML.selected_ROI is None:\n",
    "    print(\"\\n Make sure to click 'Save ROI'\")\n",
    "print(\"\\n ROI to download: \", GML.selected_ROI)"
   ]
  },
  {
   "cell_type": "markdown",
   "metadata": {},
   "source": [
    "## Download the Selected ROIs\n",
    "- Download the satellite imagery for the ROIs using CoastSat.\n",
    "\n",
    "⚠️ Make sure you have clicked `Save ROI` before running the following code.\n",
    " \n",
    "### Parameters for download_imagery()\n",
    "1. `GML.selected_ROI` : IDs of the ROI clicked\n",
    "2. `pre_process_settings`: settings for downloading data using CoastSat\n",
    "3. `dates` : date range to download the imagery\n",
    "4. `sat_list` : list of satellites to download imagery from\n",
    "5. `collection` : LandSat Collection 1 (`C01`) or Collection 2 (`C02`)\n",
    "6. `inputs_filename` : inputs_file is the json file where the input data for download imagery with CoastSat will be written to"
   ]
  },
  {
   "cell_type": "code",
   "execution_count": 8,
   "metadata": {},
   "outputs": [
    {
     "name": "stdout",
     "output_type": "stream",
     "text": [
      "Number of images available between 2018-12-01 and 2019-01-01:\n",
      "- In Landsat Tier 1 & Sentinel-2 Level-1C:\n",
      "     S2: 13 images\n",
      "     L7: 4 images\n",
      "     L8: 4 images\n",
      "     L9: 0 images\n",
      "  Total to download: 21 images\n",
      "- In Landsat Tier 2 (not suitable for time-series analysis):\n",
      "     L7: 0 images\n",
      "     L8: 2 images\n",
      "  Total Tier 2: 2 images\n",
      "Number of images available between 2018-12-01 and 2019-01-01:\n",
      "- In Landsat Tier 1 & Sentinel-2 Level-1C:\n",
      "     S2: 7 images\n",
      "     L7: 4 images\n",
      "     L8: 4 images\n",
      "     L9: 0 images\n",
      "  Total to download: 15 images\n",
      "- In Landsat Tier 2 (not suitable for time-series analysis):\n",
      "     L7: 0 images\n",
      "     L8: 2 images\n",
      "  Total Tier 2: 2 images\n",
      "Images available: \n",
      " [{'polygon': [[[-121.600998, 36.01761], [-121.560998, 36.01761], [-121.560998, 36.05761], [-121.600998, 36.05761], [-121.600998, 36.01761]]], 'dates': ['2018-12-01', '2019-01-01'], 'sat_list': ['S2', 'L7', 'L8', 'L9'], 'sitename': 'ID02022-06-14__17_hr_31_min', 'filepath': 'c:\\\\1_USGS\\\\CoastSeg\\\\repos\\\\2_CoastSeg\\\\CoastSeg_fork\\\\Seg2Map\\\\data', 'landsat_collection': 'C01'}, {'polygon': [[[-121.585208, 36.00016], [-121.545208, 36.00016], [-121.545208, 36.04016], [-121.585208, 36.04016], [-121.585208, 36.00016]]], 'dates': ['2018-12-01', '2019-01-01'], 'sat_list': ['S2', 'L7', 'L8', 'L9'], 'sitename': 'ID12022-06-14__17_hr_31_min', 'filepath': 'c:\\\\1_USGS\\\\CoastSeg\\\\repos\\\\2_CoastSeg\\\\CoastSeg_fork\\\\Seg2Map\\\\data', 'landsat_collection': 'C01'}]\n"
     ]
    },
    {
     "data": {
      "application/vnd.jupyter.widget-view+json": {
       "model_id": "8f79ebf1c1604f639e9ea57cf19d46d6",
       "version_major": 2,
       "version_minor": 0
      },
      "text/plain": [
       "Downloading ROIs:   0%|          | 0/2 [00:00<?, ?it/s]"
      ]
     },
     "metadata": {},
     "output_type": "display_data"
    },
    {
     "name": "stdout",
     "output_type": "stream",
     "text": [
      "\n",
      "inputs:  {'polygon': [[[-121.600998, 36.01761], [-121.560998, 36.01761], [-121.560998, 36.05761], [-121.600998, 36.05761], [-121.600998, 36.01761]]], 'dates': ['2018-12-01', '2019-01-01'], 'sat_list': ['S2', 'L7', 'L8', 'L9'], 'sitename': 'ID02022-06-14__17_hr_31_min', 'filepath': 'c:\\\\1_USGS\\\\CoastSeg\\\\repos\\\\2_CoastSeg\\\\CoastSeg_fork\\\\Seg2Map\\\\data', 'landsat_collection': 'C01'} \n",
      "\n",
      "Number of images available between 2018-12-01 and 2019-01-01:\n",
      "- In Landsat Tier 1 & Sentinel-2 Level-1C:\n",
      "     S2: 13 images\n",
      "     L7: 4 images\n",
      "     L8: 4 images\n",
      "     L9: 0 images\n",
      "  Total to download: 21 images\n",
      "- In Landsat Tier 2 (not suitable for time-series analysis):\n",
      "     L7: 0 images\n",
      "     L8: 2 images\n",
      "  Total Tier 2: 2 images\n",
      "\n",
      "Downloading images:\n",
      "S2: 13 images\n",
      "100%\n",
      "L7: 4 images\n",
      "100%\n",
      "L8: 4 images\n",
      "100%\n",
      "L9: 0 images\n",
      "\n",
      "\n",
      " Called merge_overlapping_images\n",
      "\n",
      "6 out of 13 Sentinel-2 images were merged (overlapping or duplicate)\n",
      "Satellite images saved as .jpg in c:\\1_USGS\\CoastSeg\\repos\\2_CoastSeg\\CoastSeg_fork\\Seg2Map\\data\\ID02022-06-14__17_hr_31_min\\jpg_files\\preprocessed\n",
      "\n",
      "inputs:  {'polygon': [[[-121.585208, 36.00016], [-121.545208, 36.00016], [-121.545208, 36.04016], [-121.585208, 36.04016], [-121.585208, 36.00016]]], 'dates': ['2018-12-01', '2019-01-01'], 'sat_list': ['S2', 'L7', 'L8', 'L9'], 'sitename': 'ID12022-06-14__17_hr_31_min', 'filepath': 'c:\\\\1_USGS\\\\CoastSeg\\\\repos\\\\2_CoastSeg\\\\CoastSeg_fork\\\\Seg2Map\\\\data', 'landsat_collection': 'C01'} \n",
      "\n",
      "Number of images available between 2018-12-01 and 2019-01-01:\n",
      "- In Landsat Tier 1 & Sentinel-2 Level-1C:\n",
      "     S2: 7 images\n",
      "     L7: 4 images\n",
      "     L8: 4 images\n",
      "     L9: 0 images\n",
      "  Total to download: 15 images\n",
      "- In Landsat Tier 2 (not suitable for time-series analysis):\n",
      "     L7: 0 images\n",
      "     L8: 2 images\n",
      "  Total Tier 2: 2 images\n",
      "\n",
      "Downloading images:\n",
      "S2: 7 images\n",
      "100%\n",
      "L7: 4 images\n",
      "100%\n",
      "L8: 4 images\n",
      "100%\n",
      "L9: 0 images\n",
      "\n",
      "\n",
      " Called merge_overlapping_images\n",
      "\n",
      "0 out of 7 Sentinel-2 images were merged (overlapping or duplicate)\n",
      "Satellite images saved as .jpg in c:\\1_USGS\\CoastSeg\\repos\\2_CoastSeg\\CoastSeg_fork\\Seg2Map\\data\\ID12022-06-14__17_hr_31_min\\jpg_files\\preprocessed\n"
     ]
    }
   ],
   "source": [
    "download_roi.download_imagery(GML.selected_ROI,pre_process_settings,dates,sat_list,collection, inputs_filename=inputs_filename)"
   ]
  },
  {
   "cell_type": "code",
   "execution_count": 9,
   "metadata": {},
   "outputs": [],
   "source": [
    "def get_jpgs_from_data():\n",
    "    \"\"\"Copies all the jpgs from the data folder in CoastSeg to a new folder, where the model\n",
    "    will save the computed segmentations.\"\"\"\n",
    "    # Data folder location \n",
    "    src_path=os.getcwd()+os.sep+\"data\"\n",
    "    if os.path.exists(src_path):\n",
    "        file_functions.rename_jpgs(src_path)\n",
    "        # Create a new folder to hold all the data\n",
    "        location=os.getcwd()\n",
    "        name=\"segmentation_data\"\n",
    "        new_folder=file_functions.mk_new_dir(name,location)\n",
    "        glob_str = src_path + str(os.sep + \"**\" + os.sep) * 3 + \"*jpg\"\n",
    "        file_functions.copy_files_to_dst(src_path,new_folder, glob_str)\n",
    "        return new_folder\n",
    "    else:\n",
    "        print(\"ERROR: Cannot find the data directory in CoastSeg\")\n",
    "        raise Exception(\"ERROR: Cannot find the data directory in CoastSeg\")\n"
   ]
  },
  {
   "cell_type": "code",
   "execution_count": 10,
   "metadata": {},
   "outputs": [],
   "source": [
    "model_dict={\"sample_direc\":None,\"use_GPU\":False}"
   ]
  },
  {
   "cell_type": "code",
   "execution_count": 11,
   "metadata": {},
   "outputs": [
    {
     "data": {
      "application/vnd.jupyter.widget-view+json": {
       "model_id": "681d6151712e463dba4530ce1f81be9a",
       "version_major": 2,
       "version_minor": 0
      },
      "text/plain": [
       "Checkbox(value=False, description='Use GPU?', indent=False)"
      ]
     },
     "metadata": {},
     "output_type": "display_data"
    },
    {
     "data": {
      "application/vnd.jupyter.widget-view+json": {
       "model_id": "954403825aba45a486a8ed3e4fd18636",
       "version_major": 2,
       "version_minor": 0
      },
      "text/plain": [
       "Output()"
      ]
     },
     "metadata": {},
     "output_type": "display_data"
    },
    {
     "data": {
      "application/vnd.jupyter.widget-view+json": {
       "model_id": "c9ad30eaa2fb4b048a04094b889f9f62",
       "version_major": 2,
       "version_minor": 0
      },
      "text/plain": [
       "Button(description='Use Data Button', style=ButtonStyle())"
      ]
     },
     "metadata": {},
     "output_type": "display_data"
    },
    {
     "data": {
      "application/vnd.jupyter.widget-view+json": {
       "model_id": "8dae4e8063624f62a76dfe5422505181",
       "version_major": 2,
       "version_minor": 0
      },
      "text/plain": [
       "Button(description='Select Your Images', style=ButtonStyle())"
      ]
     },
     "metadata": {},
     "output_type": "display_data"
    },
    {
     "data": {
      "application/vnd.jupyter.widget-view+json": {
       "model_id": "341184ba4cdc47f6af84828c816cdfd2",
       "version_major": 2,
       "version_minor": 0
      },
      "text/plain": [
       "Output(layout=Layout(border='1px solid black'))"
      ]
     },
     "metadata": {},
     "output_type": "display_data"
    },
    {
     "data": {
      "application/vnd.jupyter.widget-view+json": {
       "model_id": "abdcae8c0f2c417f965e4481a0320259",
       "version_major": 2,
       "version_minor": 0
      },
      "text/plain": [
       "Button(description='Run Model', style=ButtonStyle())"
      ]
     },
     "metadata": {},
     "output_type": "display_data"
    },
    {
     "data": {
      "application/vnd.jupyter.widget-view+json": {
       "model_id": "f9d34e7ef0ef4a9a8ab923e88c4c8a27",
       "version_major": 2,
       "version_minor": 0
      },
      "text/plain": [
       "Output(layout=Layout(border='1px solid black'))"
      ]
     },
     "metadata": {},
     "output_type": "display_data"
    }
   ],
   "source": [
    "model_view = widgets.Output(layout={'border': '1px solid black'})\n",
    "run_model_view = widgets.Output(layout={'border': '1px solid black'})\n",
    "GPU_view = widgets.Output()\n",
    "\n",
    "run_model_button = widgets.Button(description=\"Run Model\")\n",
    "use_data_button = widgets.Button(description=\"Use Data Button\")\n",
    "use_select_images_button = widgets.Button(description=\"Select Your Images\")\n",
    "\n",
    "GPU_checkbox=widgets.Checkbox(\n",
    "    value=False,\n",
    "    description='Use GPU?',\n",
    "    disabled=False,\n",
    "    indent=False\n",
    ")\n",
    "\n",
    "@GPU_view.capture(clear_output=True)\n",
    "def handle_GPU_checkbox(change):\n",
    "    if change[\"new\"] == True:\n",
    "        model_dict[\"use_GPU\"]=True\n",
    "        print(\"Using the GPU\")\n",
    "    else:\n",
    "        model_dict[\"use_GPU\"]=False\n",
    "        print(\"Not using the GPU\")\n",
    "        \n",
    "\n",
    "@model_view.capture(clear_output=True)\n",
    "def use_data_button_clicked(button):\n",
    "    # Use the data folder as the input for segmentation\n",
    "    print(\"Loading in the jpgs from the data directory\")\n",
    "    # Copy the jpgs from data to a new folder called segmentation_data_[datetime]\n",
    "    sample_direc = get_jpgs_from_data()\n",
    "    model_dict[\"sample_direc\"]=sample_direc\n",
    "    print(f\"Contents of the data directory saved in {sample_direc}\")\n",
    "\n",
    "\n",
    "@model_view.capture(clear_output=True)\n",
    "def use_select_images_button_clicked(button):\n",
    "    # Prompt the user to select a directory of images                              \n",
    "    root.withdraw()                                        # Hide the main window.\n",
    "    root.call('wm', 'attributes', '.', '-topmost', True)   # Raise the root to the top of all windows.\n",
    "    root.filename =  filedialog.askdirectory(initialdir = \"/samples\",title = \"Select directory of images (or npzs) to segment\")\n",
    "    # Save the filename as an attribute of the button\n",
    "    if root.filename:\n",
    "        sample_direc= root.filename\n",
    "        model_dict[\"sample_direc\"]=root.filename\n",
    "        print(f\"The images in the folder will be segmented :\\n{sample_direc} \")\n",
    "    else:\n",
    "        raise Exception(\"You must select a valid directory first!\")\n",
    "\n",
    "@run_model_view.capture(clear_output=True)\n",
    "def run_model_button_clicked(button):\n",
    "    print(\"Called Run Model\")\n",
    "    if model_dict[\"sample_direc\"] is None:\n",
    "        print(\"You must click 'Use Data' or 'Select Images' First\")\n",
    "        return\n",
    "    else:\n",
    "        if model_dict[\"use_GPU\"] == False:\n",
    "            print(\"Not using the GPU\")\n",
    "            ## to use the CPU (not recommended):\n",
    "            os.environ['CUDA_VISIBLE_DEVICES'] = '-1'\n",
    "        else:\n",
    "            print(\"Using the GPU\")\n",
    "            ##use the first available GPU\n",
    "            os.environ['CUDA_VISIBLE_DEVICES'] = '0' #'1'\n",
    "        dataset='RGB'\n",
    "        dataset_id ='landsat_6229071'\n",
    "        model_choice='ENSEMBLE'\n",
    "        zoo_model=zoo_model_module.Zoo_Model()\n",
    "        # # First download the specified model\n",
    "        zoo_model.download_model(dataset,dataset_id)\n",
    "        # # Get weights as list\n",
    "        Ww=zoo_model.get_weights_list(model_choice)\n",
    "        # Load the model from the config files\n",
    "        model, model_list, config_files, model_types=zoo_model.get_model(Ww)\n",
    "        metadatadict=zoo_model.get_metadatadict(Ww,config_files, model_types)\n",
    "        # # Compute the segmentation\n",
    "        zoo_model.compute_segmentation(model_dict[\"sample_direc\"], model_list, metadatadict)\n",
    "    \n",
    "     \n",
    "GPU_checkbox.observe(handle_GPU_checkbox,\"value\")    \n",
    "run_model_button.on_click(run_model_button_clicked)\n",
    "use_data_button.on_click(use_data_button_clicked)\n",
    "use_select_images_button.on_click(use_select_images_button_clicked)\n",
    "display(GPU_checkbox,GPU_view, use_data_button,use_select_images_button,model_view,run_model_button,run_model_view)"
   ]
  }
 ],
 "metadata": {
  "interpreter": {
   "hash": "9d097efbdf24db87a2507c17c632c6d564e7aff5ba5cfc04e62a44a8b3d6a20a"
  },
  "kernelspec": {
   "display_name": "Python 3.7.12 ('coastseg')",
   "language": "python",
   "name": "python3"
  },
  "language_info": {
   "codemirror_mode": {
    "name": "ipython",
    "version": 3
   },
   "file_extension": ".py",
   "mimetype": "text/x-python",
   "name": "python",
   "nbconvert_exporter": "python",
   "pygments_lexer": "ipython3",
   "version": "3.7.12"
  },
  "widgets": {
   "application/vnd.jupyter.widget-state+json": {
    "state": {},
    "version_major": 2,
    "version_minor": 0
   }
  }
 },
 "nbformat": 4,
 "nbformat_minor": 4
}
