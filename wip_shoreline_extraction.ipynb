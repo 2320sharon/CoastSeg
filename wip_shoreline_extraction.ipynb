{
 "cells": [
  {
   "cell_type": "code",
   "execution_count": 1,
   "metadata": {},
   "outputs": [
    {
     "name": "stdout",
     "output_type": "stream",
     "text": [
      "Version:  2.9.1\n",
      "Eager mode:  True\n",
      "Version:  2.9.1\n",
      "Eager mode:  True\n",
      "GPU name:  []\n",
      "Num GPUs Available:  0\n"
     ]
    }
   ],
   "source": [
    "import warnings\n",
    "# External Imports\n",
    "from IPython.display import display\n",
    "from tkinter import Tk,filedialog\n",
    "# import ipywidgets as widgets\n",
    "from ipywidgets import Button, HBox, VBox, Layout, DatePicker, HTML, RadioButtons, SelectMultiple, Output, Checkbox\n",
    "import os\n",
    "import datetime\n",
    "import glob\n",
    "import json\n",
    "import pandas as pd\n",
    "import geopandas as gpd\n",
    "from shapely.geometry import Polygon\n",
    "\n",
    "# New imports for coastsat shoreline extraction\n",
    "import numpy as np\n",
    "# Local Imports \n",
    "from CoastSeg import download_roi, file_functions, zoo_model_module, coastseg_map_class\n",
    "from CoastSeg.coastsat import SDS_shoreline,SDS_download,SDS_tools\n",
    "# suppress tensorflow warnings\n",
    "os.environ['TF_CPP_MIN_LOG_LEVEL'] = '3'\n",
    "root = Tk()"
   ]
  },
  {
   "cell_type": "code",
   "execution_count": 2,
   "metadata": {},
   "outputs": [
    {
     "data": {
      "application/vnd.jupyter.widget-view+json": {
       "model_id": "a536b706123f4850b74ff0e97288d1b8",
       "version_major": 2,
       "version_minor": 0
      },
      "text/plain": [
       "VBox(children=(VBox(children=(HTML(value='<b>Pick a date:</b>', layout=Layout(padding='10px')), HBox(children=…"
      ]
     },
     "metadata": {},
     "output_type": "display_data"
    }
   ],
   "source": [
    "# Date Widgets\n",
    "start_date=DatePicker(\n",
    "    description='Start Date',\n",
    "    value=datetime.date(2018, 12, 1),\n",
    "    disabled=False,\n",
    ")\n",
    "end_date=DatePicker(\n",
    "    description='End Date',\n",
    "    value=datetime.date(2019, 3, 1), #2019, 1, 1\n",
    "    disabled=False,\n",
    ")\n",
    "date_instr=HTML(\n",
    "    value=\"<b>Pick a date:</b>\",\n",
    "    layout=Layout(padding='10px')\n",
    ")\n",
    "dates_box=HBox([start_date,end_date])\n",
    "dates_vbox=VBox([date_instr,dates_box])\n",
    "\n",
    "\n",
    "collection_instr=HTML(\n",
    "    value=\"<b>Pick a collection</b>\\\n",
    "        <br> C01: LandSat Collection 1 \\\n",
    "        <br> C02: LandSat Collection 2  [2022/01/01 and beyond] \\\n",
    "        <br>      - Landsat 9 is only available in C02\",\n",
    "    layout=Layout(padding='10px')\n",
    ")\n",
    "collection_radio=RadioButtons(\n",
    "    options=['C01', 'C02'],\n",
    "    value='C01',\n",
    "    description='Collection:',\n",
    "    disabled=False\n",
    ")\n",
    "collection_vbox=VBox([collection_instr,collection_radio])\n",
    "\n",
    "sat_instr=HTML(\n",
    "    value=\"<b>Pick multiple satellites by holding the control key:</b> \\\n",
    "        <br> - images prior to 2022/01/01 will be downloaded from Collection 1 \\\n",
    "        <br> - images after 2022/01/01 will be automatically downloaded from Collection 2 \\\n",
    "        <br> C01: LandSat Collection 1 : All dates before 2022/01/01\\\n",
    "        <br> C02: LandSat Collection 2 : All dates after 2022/01/01 \\\n",
    "        <br> - Landsat 9 is only available in C02\",\n",
    "    layout=Layout(padding='10px')\n",
    ")\n",
    "\n",
    "\n",
    "satellite_selection=SelectMultiple(\n",
    "    options=['L5', 'L7', 'L8', 'S2'],\n",
    "    value=['L8'],\n",
    "    description='Satellites',\n",
    "    disabled=False\n",
    ")\n",
    "sat_vbox = VBox([sat_instr,satellite_selection])\n",
    "\n",
    "def handle_collection_change(change):\n",
    "    if change['new'] == 'C02':\n",
    "        satellite_selection.options=['L5', 'L7', 'L8', 'L9', 'S2']\n",
    "    else:\n",
    "        satellite_selection.options=['L5', 'L7', 'L8', 'S2']\n",
    "\n",
    "collection_radio.observe(handle_collection_change,\"value\")\n",
    "\n",
    "controls_vbox=VBox([dates_vbox, collection_vbox, sat_vbox])\n",
    "controls_vbox"
   ]
  },
  {
   "cell_type": "code",
   "execution_count": 3,
   "metadata": {
    "scrolled": true
   },
   "outputs": [
    {
     "name": "stdout",
     "output_type": "stream",
     "text": [
      "dates: ['2018-12-01', '2019-03-01']\n",
      "collection: C01\n",
      "sat_list: ['L8']\n"
     ]
    }
   ],
   "source": [
    "# CoastSat Download Variables\n",
    "# ------------------------------\n",
    "# Save the satellites selected to sat_list\n",
    "if satellite_selection.value:\n",
    "    sat_list = list(satellite_selection.value)\n",
    "elif not satellite_selection.value:\n",
    "    print(\"ERROR: You must select at least one satellite first\")\n",
    "# Save the dates selected by the user as well as the selected collection\n",
    "dates = [str(start_date.value),str(end_date.value)]\n",
    "collection = collection_radio.value\n",
    "print(f\"dates: {dates}\")\n",
    "print(f\"collection: {collection}\")\n",
    "print(f\"sat_list: {sat_list}\")"
   ]
  },
  {
   "cell_type": "code",
   "execution_count": 4,
   "metadata": {},
   "outputs": [],
   "source": [
    "# 'output_epsg': 3857,        # epsg code of spatial reference system desired for the output \n",
    "pre_process_settings = { \n",
    "    # general parameters:\n",
    "    'cloud_thresh': 0.5,        # threshold on maximum cloud cover\n",
    "    'output_epsg': 3857,        # epsg code of spatial reference system desired for the output   \n",
    "    # quality control:\n",
    "    'check_detection': True,    # if True, shows each shoreline detection to the user for validation\n",
    "    'adjust_detection': False,  # if True, allows user to adjust the postion of each shoreline by changing the threhold\n",
    "    'save_figure': True,        # if True, saves a figure showing the mapped shoreline for each image\n",
    "    # [ONLY FOR ADVANCED USERS] shoreline detection parameters:\n",
    "    'min_beach_area': 4500,     # minimum area (in metres^2) for an object to be labelled as a beach\n",
    "    'buffer_size': 150,         # radius (in metres) of the buffer around sandy pixels considered in the shoreline detection\n",
    "    'min_length_sl': 200,       # minimum length (in metres) of shoreline perimeter to be valid\n",
    "    'cloud_mask_issue': False,  # switch this parameter to True if sand pixels are masked (in black) on many images  \n",
    "    'sand_color': 'default',    # 'default', 'dark' (for grey/black sand beaches) or 'bright' (for white sand beaches)\n",
    "}\n",
    "\n",
    "# Output wdiget used to print messages and exceptions created by CoastSeg_Map\n",
    "debug_view = Output(layout={'border': '1px solid black'})"
   ]
  },
  {
   "cell_type": "markdown",
   "metadata": {},
   "source": [
    "# Create the Map\n",
    "- Create the map using the map settings set above"
   ]
  },
  {
   "cell_type": "code",
   "execution_count": 5,
   "metadata": {},
   "outputs": [],
   "source": [
    "coastseg_map=coastseg_map_class.CoastSeg_Map()"
   ]
  },
  {
   "cell_type": "markdown",
   "metadata": {},
   "source": [
    "# How to Use The Map\n",
    "---\n",
    "1. Use the rectangle tool to draw a bounding box along the coastline.\n",
    "2. Click `Generate ROI` to create ROI rectangles along the coastline in the bounding box. This may take some time.\n",
    "- You should see a coastline appear in yellow and some rectangles along it.\n",
    "3. Click 1 or more ROIs then click `Save ROI` to save these ROIs for downloading later\n",
    "4. You're ready to download the ROIs. Run the next block of code."
   ]
  },
  {
   "cell_type": "code",
   "execution_count": 6,
   "metadata": {},
   "outputs": [
    {
     "data": {
      "application/vnd.jupyter.widget-view+json": {
       "model_id": "c0a7243a9cd84256855b2af5bbf0b0af",
       "version_major": 2,
       "version_minor": 0
      },
      "text/plain": [
       "Output(layout=Layout(border='1px solid black'))"
      ]
     },
     "metadata": {},
     "output_type": "display_data"
    },
    {
     "data": {
      "application/vnd.jupyter.widget-view+json": {
       "model_id": "b8f9f1eaa86d41e486a237e6b5b623de",
       "version_major": 2,
       "version_minor": 0
      },
      "text/plain": [
       "HBox(children=(Button(description='Load Transects', style=ButtonStyle()), Button(description='Load Shoreline',…"
      ]
     },
     "metadata": {},
     "output_type": "display_data"
    },
    {
     "data": {
      "application/vnd.jupyter.widget-view+json": {
       "model_id": "80ad1253cadd4182bbf422ddf3a87109",
       "version_major": 2,
       "version_minor": 0
      },
      "text/plain": [
       "HBox(children=(Button(description='Remove all', style=ButtonStyle()), Button(description='Remove transects', s…"
      ]
     },
     "metadata": {},
     "output_type": "display_data"
    },
    {
     "data": {
      "application/vnd.jupyter.widget-view+json": {
       "model_id": "4b3e8e80f9d84171a6e6d38d90497418",
       "version_major": 2,
       "version_minor": 0
      },
      "text/plain": [
       "Map(center=[36, -121.5], controls=(ZoomControl(options=['position', 'zoom_in_text', 'zoom_in_title', 'zoom_out…"
      ]
     },
     "metadata": {},
     "output_type": "display_data"
    }
   ],
   "source": [
    "transects_button = Button(description=\"Load Transects\")\n",
    "shoreline_button = Button(description=\"Load Shoreline\")\n",
    "gen_button =Button(description=\"Generate ROI\")\n",
    "save_button = Button(description=\"Save ROI\")\n",
    "\n",
    "remove_all_button = Button(description=\"Remove all\")\n",
    "remove_transects_button = Button(description=\"Remove transects\")\n",
    "remove_bbox_button = Button(description=\"Remove bbox\")\n",
    "remove_coastline_button = Button(description=\"Remove coastline\")\n",
    "remove_rois_button = Button(description=\"Remove ROIs\")\n",
    "remove_saved_roi_button = Button(description=\"Remove saved ROIs\")\n",
    "\n",
    "@debug_view.capture(clear_output=True)\n",
    "def on_shoreline_button_clicked(b):\n",
    "    if coastseg_map.shapes_list == [] :\n",
    "        print(\"Draw a bounding box on the coast first, then click Load Transects.\")\n",
    "    else:\n",
    "        debug_view.clear_output(wait=True)\n",
    "        print(\"Loading shoreline please wait.\") \n",
    "        # Add the transects to the map\n",
    "        coastseg_map.load_shoreline_on_map()\n",
    "        print(\"Shoreline loaded.\")\n",
    "\n",
    "@debug_view.capture(clear_output=True)\n",
    "def on_transects_button_clicked(b):\n",
    "    if coastseg_map.shapes_list == [] :\n",
    "        print(\"Draw a bounding box on the coast first, then click Load Transects.\")\n",
    "    else:\n",
    "        debug_view.clear_output(wait=True)\n",
    "        print(\"Loading transects please wait.\") \n",
    "        # Add the transects to the map\n",
    "        coastseg_map.load_transects_on_map()\n",
    "        print(\"Transects Loaded.\")\n",
    "\n",
    "        \n",
    "@debug_view.capture(clear_output=True)\n",
    "def on_gen_button_clicked(b):\n",
    "    if coastseg_map.shapes_list == [] :\n",
    "        print(\"Draw a bounding box on the coast first, then click Generate ROI.\")\n",
    "    else:\n",
    "        debug_view.clear_output(wait=True)\n",
    "        print(\"Generating ROIs please wait.\") \n",
    "        # Generate ROIs along the coastline within the bounding box\n",
    "        coastseg_map.generate_ROIS_fishnet()\n",
    "        debug_view.clear_output(wait=True)\n",
    "        # Add the Clickable ROIs to the map\n",
    "        coastseg_map.add_geojson_layer_to_map()\n",
    "        print(\"ROIs generated. Please Select at least one ROI and click Save ROI.\")\n",
    "\n",
    "@debug_view.capture(clear_output=True)\n",
    "def on_save_button_clicked(b):\n",
    "    if coastseg_map.selected_set:\n",
    "        if len(coastseg_map.selected_set) == 0:\n",
    "             print(\"Must select at least 1 ROI first before you can save ROIs.\")\n",
    "        else:\n",
    "            debug_view.clear_output(wait=True)\n",
    "            coastseg_map.save_roi_fishnet(\"fishnet_rois.geojson\")\n",
    "            print(\"Saving ROIs\")\n",
    "            debug_view.clear_output(wait=True)\n",
    "            print(\"ROIs have been saved. Now click Download ROI to download the ROIs using CoastSat\")\n",
    "    else:\n",
    "        print(\"No ROIs were selected.\")\n",
    "\n",
    "\n",
    "def remove_all_from_map(b):\n",
    "    coastseg_map.remove_all()\n",
    "def remove_transects(b):\n",
    "    coastseg_map.remove_transects()\n",
    "def remove_bbox_from_map(b):\n",
    "    coastseg_map.remove_bbox()\n",
    "def remove_coastline_from_map(b):\n",
    "    coastseg_map.remove_shoreline()\n",
    "def remove_all_rois_from_map(b):\n",
    "    coastseg_map.remove_all_rois()\n",
    "def remove_saved_roi_clicked(b):\n",
    "    coastseg_map.remove_saved_roi()\n",
    "\n",
    "transects_button.on_click(on_transects_button_clicked)    \n",
    "shoreline_button.on_click(on_shoreline_button_clicked) \n",
    "gen_button.on_click(on_gen_button_clicked)\n",
    "save_button.on_click(on_save_button_clicked)\n",
    "\n",
    "\n",
    "remove_all_button.on_click(remove_all_from_map)\n",
    "remove_transects_button.on_click(remove_transects)\n",
    "remove_bbox_button.on_click(remove_bbox_from_map)\n",
    "remove_coastline_button.on_click(remove_coastline_from_map)\n",
    "remove_rois_button.on_click(remove_all_rois_from_map)\n",
    "remove_saved_roi_button.on_click(remove_saved_roi_clicked)\n",
    "\n",
    "erase_buttons=HBox([remove_all_button, remove_transects_button, remove_bbox_button, remove_coastline_button, remove_rois_button, remove_saved_roi_button])\n",
    "\n",
    "display(debug_view,HBox([transects_button,shoreline_button, gen_button, save_button]),erase_buttons)\n",
    "# Display the map\n",
    "coastseg_map.m"
   ]
  },
  {
   "cell_type": "markdown",
   "metadata": {},
   "source": [
    "## Download the Selected ROIs\n",
    "- Download the satellite imagery for the ROIs using CoastSat.\n",
    "\n",
    "⚠️ Make sure you have clicked `Save ROI` before running the following code.\n",
    " \n",
    "### Parameters for download_imagery()\n",
    "1. `coastseg_map.selected_ROI` : geojson for the ROI clicked\n",
    "2. `pre_process_settings`: settings for downloading data using CoastSat\n",
    "3. `dates` : date range to download the imagery\n",
    "4. `sat_list` : list of satellites to download imagery from\n",
    "5. `collection` : LandSat Collection 1 (`C01`) or Collection 2 (`C02`)"
   ]
  },
  {
   "cell_type": "code",
   "execution_count": 7,
   "metadata": {},
   "outputs": [
    {
     "name": "stdout",
     "output_type": "stream",
     "text": [
      "Images available: \n",
      " [{'polygon': [[[-78.86804608295282, 33.702047104241075], [-78.85457135369101, 33.702047104241075], [-78.85457135369101, 33.713256462199816], [-78.86804608295282, 33.713256462199816], [-78.86804608295282, 33.702047104241075]]], 'dates': ['2018-12-01', '2019-03-01'], 'sat_list': ['L8'], 'sitename': 'ID02022-07-25__22_hr_24_min26', 'filepath': 'C:\\\\1_USGS_repos\\\\2_doodleverse\\\\CoastSeg\\\\data', 'roi_id': '35', 'landsat_collection': 'C01'}, {'polygon': [[[-78.84109662442923, 33.72446435706646], [-78.82762189516744, 33.72446435706646], [-78.82762189516744, 33.735670788603166], [-78.84109662442923, 33.735670788603166], [-78.84109662442923, 33.72446435706646]]], 'dates': ['2018-12-01', '2019-03-01'], 'sat_list': ['L8'], 'sitename': 'ID12022-07-25__22_hr_24_min26', 'filepath': 'C:\\\\1_USGS_repos\\\\2_doodleverse\\\\CoastSeg\\\\data', 'roi_id': '43', 'landsat_collection': 'C01'}]\n"
     ]
    },
    {
     "name": "stderr",
     "output_type": "stream",
     "text": [
      "\r",
      "Downloading ROIs:   0%|                                                                          | 0/2 [00:00<?, ?it/s]"
     ]
    },
    {
     "name": "stdout",
     "output_type": "stream",
     "text": [
      "Number of images available between 2018-12-01 and 2019-03-01:\n",
      "- In Landsat Tier 1 & Sentinel-2 Level-1C:\n",
      "     L8: 10 images\n",
      "  Total to download: 10 images\n",
      "- In Landsat Tier 2 (not suitable for time-series analysis):\n",
      "     L8: 4 images\n",
      "  Total Tier 2: 4 images\n",
      "\n",
      "Downloading images:\n",
      "L8: 10 images\n",
      "100%\n"
     ]
    },
    {
     "name": "stderr",
     "output_type": "stream",
     "text": [
      "\r",
      "Downloading ROIs:  50%|█████████████████████████████████                                 | 1/2 [00:46<00:46, 46.44s/it]"
     ]
    },
    {
     "name": "stdout",
     "output_type": "stream",
     "text": [
      "Satellite images saved as .jpg in C:\\1_USGS_repos\\2_doodleverse\\CoastSeg\\data\\ID02022-07-25__22_hr_24_min26\\jpg_files\\preprocessed\n",
      "Number of images available between 2018-12-01 and 2019-03-01:\n",
      "- In Landsat Tier 1 & Sentinel-2 Level-1C:\n",
      "     L8: 2 images\n",
      "  Total to download: 2 images\n",
      "- In Landsat Tier 2 (not suitable for time-series analysis):\n",
      "     L8: 3 images\n",
      "  Total Tier 2: 3 images\n",
      "\n",
      "Downloading images:\n",
      "L8: 2 images\n",
      "100%\n"
     ]
    },
    {
     "name": "stderr",
     "output_type": "stream",
     "text": [
      "Downloading ROIs: 100%|██████████████████████████████████████████████████████████████████| 2/2 [00:58<00:00, 29.26s/it]"
     ]
    },
    {
     "name": "stdout",
     "output_type": "stream",
     "text": [
      "Satellite images saved as .jpg in C:\\1_USGS_repos\\2_doodleverse\\CoastSeg\\data\\ID12022-07-25__22_hr_24_min26\\jpg_files\\preprocessed\n"
     ]
    },
    {
     "name": "stderr",
     "output_type": "stream",
     "text": [
      "\n"
     ]
    }
   ],
   "source": [
    "if coastseg_map.selected_ROI:\n",
    "    inputs_dict=download_roi.download_imagery(coastseg_map.selected_ROI,pre_process_settings,dates,sat_list,collection)\n",
    "else:\n",
    "    print(\"No ROIs were selected. \\nPlease select at least one ROI and click 'Save ROI' to save these ROI for download.\")"
   ]
  },
  {
   "cell_type": "code",
   "execution_count": 8,
   "metadata": {},
   "outputs": [
    {
     "name": "stdout",
     "output_type": "stream",
     "text": [
      "35\n",
      "Mapping shorelines:\n",
      "L8:   100%\n",
      "\n",
      " output['shorelines'] [array([], shape=(0, 2), dtype=float64), array([], shape=(0, 2), dtype=float64), array([], shape=(0, 2), dtype=float64), array([], shape=(0, 2), dtype=float64), array([], shape=(0, 2), dtype=float64), array([], shape=(0, 2), dtype=float64), array([], shape=(0, 2), dtype=float64), array([[-8778087.14360632,  3990090.69350711],\n",
      "       [-8778102.3778399 ,  3990072.91175576],\n",
      "       [-8778104.11197802,  3990070.94101666],\n",
      "       [-8778120.17337423,  3990055.18349716],\n",
      "       [-8778122.50273637,  3990052.82165134],\n",
      "       [-8778135.64694144,  3990037.40675105],\n",
      "       [-8778140.945036  ,  3990032.2080557 ],\n",
      "       [-8778153.64820291,  3990019.68278744],\n",
      "       [-8778159.33057245,  3990014.33533973],\n",
      "       [-8778172.76857374,  3990001.98218567],\n",
      "       [-8778177.69273393,  3989997.58996579],\n",
      "       [-8778191.12227048,  3989984.26557207],\n",
      "       [-8778196.08513337,  3989979.38000178],\n",
      "       [-8778209.48888851,  3989966.5492242 ],\n",
      "       [-8778214.47201709,  3989961.43393635],\n",
      "       [-8778227.09982757,  3989948.81709912],\n",
      "       [-8778232.89844051,  3989941.57303607],\n",
      "       [-8778242.14556225,  3989931.0314331 ],\n",
      "       [-8778251.3075902 ,  3989922.54445206],\n",
      "       [-8778260.6468824 ,  3989913.31789117],\n",
      "       [-8778269.72032703,  3989903.33942901],\n",
      "       [-8778276.00864132,  3989895.53882758],\n",
      "       [-8778288.15810877,  3989882.92001358],\n",
      "       [-8778294.60726526,  3989877.82731238],\n",
      "       [-8778306.51030927,  3989866.63732307],\n",
      "       [-8778311.91207148,  3989860.08879678],\n",
      "       [-8778324.94846066,  3989846.19402251],\n",
      "       [-8778329.27295306,  3989842.35145055],\n",
      "       [-8778343.32265855,  3989828.84172603],\n",
      "       [-8778347.56395699,  3989824.63350767],\n",
      "       [-8778361.68016429,  3989812.29441434],\n",
      "       [-8778367.81703849,  3989806.9564901 ],\n",
      "       [-8778380.02224802,  3989796.4908214 ],\n",
      "       [-8778387.11940038,  3989789.25963155],\n",
      "       [-8778398.42038282,  3989777.97230633],\n",
      "       [-8779048.86375125,  3989133.38019155],\n",
      "       [-8779060.45659755,  3989123.79147768],\n",
      "       [-8779069.06810913,  3989115.70190738],\n",
      "       [-8779078.85889474,  3989104.965743  ],\n",
      "       [-8779086.30982175,  3989097.96200718],\n",
      "       [-8779097.22259146,  3989088.01084282],\n",
      "       [-8779105.16259298,  3989080.25560467],\n",
      "       [-8779115.62551562,  3989069.14898312],\n",
      "       [-8779122.86437284,  3989062.5252664 ],\n",
      "       [-8779133.9561992 ,  3989053.79148562],\n",
      "       [-8779142.46074435,  3989044.8343133 ],\n",
      "       [-8779152.40301248,  3989032.79306289],\n",
      "       [-8779157.69195091,  3989027.05261102],\n",
      "       [-8779170.82618973,  3989012.93908408],\n",
      "       [-8779174.44523137,  3989009.30255255],\n",
      "       [-8779188.78498271,  3988991.50233071],\n",
      "       [-8779189.29487448,  3988990.87208307],\n",
      "       [-8779204.95505482,  3988973.74015726],\n",
      "       [-8779207.72376487,  3988970.73428289],\n",
      "       [-8779221.38641538,  3988955.98341679],\n",
      "       [-8779226.13606429,  3988951.39917039],\n",
      "       [-8779241.00686186,  3988938.29294824],\n",
      "       [-8779244.4853718 ,  3988935.12081249],\n",
      "       [-8779260.02653624,  3988920.58998829],\n",
      "       [-8779262.84960168,  3988918.11504981],\n",
      "       [-8779280.48513191,  3988902.91691784],\n",
      "       [-8779281.19374571,  3988902.082464  ],\n",
      "       [-8779294.53563065,  3988885.11070863],\n",
      "       [-8779299.64762515,  3988880.71584699],\n",
      "       [-8779317.45169195,  3988867.48867658]]), array([], shape=(0, 2), dtype=float64), array([], shape=(0, 2), dtype=float64)] \n",
      "\n",
      "4 duplicates\n",
      "0 bad georef\n",
      "43\n",
      "Mapping shorelines:\n",
      "L8:   100%\n",
      "\n",
      " output['shorelines'] [array([], shape=(0, 2), dtype=float64), array([], shape=(0, 2), dtype=float64)] \n",
      "\n",
      "0 duplicates\n",
      "0 bad georef\n",
      "No shorelines for ROI  43\n"
     ]
    }
   ],
   "source": [
    "extracted_shorelines=coastseg_map.extract_shorelines_from_rois(coastseg_map.selected_ROI,inputs_dict,pre_process_settings,coastseg_map.shorelines_gdf)"
   ]
  },
  {
   "cell_type": "code",
   "execution_count": 9,
   "metadata": {},
   "outputs": [
    {
     "data": {
      "text/plain": [
       "{35: {'dates': [datetime.datetime(2018, 12, 6, 15, 54, 7, tzinfo=<UTC>),\n",
       "   datetime.datetime(2018, 12, 22, 15, 54, 6, tzinfo=<UTC>),\n",
       "   datetime.datetime(2019, 1, 7, 15, 54, 5, tzinfo=<UTC>),\n",
       "   datetime.datetime(2019, 1, 16, 15, 47, 52, tzinfo=<UTC>),\n",
       "   datetime.datetime(2019, 2, 1, 15, 47, 48, tzinfo=<UTC>),\n",
       "   datetime.datetime(2019, 2, 8, 15, 53, 58, tzinfo=<UTC>)],\n",
       "  'shorelines': [array([], shape=(0, 2), dtype=float64),\n",
       "   array([], shape=(0, 2), dtype=float64),\n",
       "   array([], shape=(0, 2), dtype=float64),\n",
       "   array([], shape=(0, 2), dtype=float64),\n",
       "   array([[-8778087.14360632,  3990090.69350711],\n",
       "          [-8778102.3778399 ,  3990072.91175576],\n",
       "          [-8778104.11197802,  3990070.94101666],\n",
       "          [-8778120.17337423,  3990055.18349716],\n",
       "          [-8778122.50273637,  3990052.82165134],\n",
       "          [-8778135.64694144,  3990037.40675105],\n",
       "          [-8778140.945036  ,  3990032.2080557 ],\n",
       "          [-8778153.64820291,  3990019.68278744],\n",
       "          [-8778159.33057245,  3990014.33533973],\n",
       "          [-8778172.76857374,  3990001.98218567],\n",
       "          [-8778177.69273393,  3989997.58996579],\n",
       "          [-8778191.12227048,  3989984.26557207],\n",
       "          [-8778196.08513337,  3989979.38000178],\n",
       "          [-8778209.48888851,  3989966.5492242 ],\n",
       "          [-8778214.47201709,  3989961.43393635],\n",
       "          [-8778227.09982757,  3989948.81709912],\n",
       "          [-8778232.89844051,  3989941.57303607],\n",
       "          [-8778242.14556225,  3989931.0314331 ],\n",
       "          [-8778251.3075902 ,  3989922.54445206],\n",
       "          [-8778260.6468824 ,  3989913.31789117],\n",
       "          [-8778269.72032703,  3989903.33942901],\n",
       "          [-8778276.00864132,  3989895.53882758],\n",
       "          [-8778288.15810877,  3989882.92001358],\n",
       "          [-8778294.60726526,  3989877.82731238],\n",
       "          [-8778306.51030927,  3989866.63732307],\n",
       "          [-8778311.91207148,  3989860.08879678],\n",
       "          [-8778324.94846066,  3989846.19402251],\n",
       "          [-8778329.27295306,  3989842.35145055],\n",
       "          [-8778343.32265855,  3989828.84172603],\n",
       "          [-8778347.56395699,  3989824.63350767],\n",
       "          [-8778361.68016429,  3989812.29441434],\n",
       "          [-8778367.81703849,  3989806.9564901 ],\n",
       "          [-8778380.02224802,  3989796.4908214 ],\n",
       "          [-8778387.11940038,  3989789.25963155],\n",
       "          [-8778398.42038282,  3989777.97230633],\n",
       "          [-8779048.86375125,  3989133.38019155],\n",
       "          [-8779060.45659755,  3989123.79147768],\n",
       "          [-8779069.06810913,  3989115.70190738],\n",
       "          [-8779078.85889474,  3989104.965743  ],\n",
       "          [-8779086.30982175,  3989097.96200718],\n",
       "          [-8779097.22259146,  3989088.01084282],\n",
       "          [-8779105.16259298,  3989080.25560467],\n",
       "          [-8779115.62551562,  3989069.14898312],\n",
       "          [-8779122.86437284,  3989062.5252664 ],\n",
       "          [-8779133.9561992 ,  3989053.79148562],\n",
       "          [-8779142.46074435,  3989044.8343133 ],\n",
       "          [-8779152.40301248,  3989032.79306289],\n",
       "          [-8779157.69195091,  3989027.05261102],\n",
       "          [-8779170.82618973,  3989012.93908408],\n",
       "          [-8779174.44523137,  3989009.30255255],\n",
       "          [-8779188.78498271,  3988991.50233071],\n",
       "          [-8779189.29487448,  3988990.87208307],\n",
       "          [-8779204.95505482,  3988973.74015726],\n",
       "          [-8779207.72376487,  3988970.73428289],\n",
       "          [-8779221.38641538,  3988955.98341679],\n",
       "          [-8779226.13606429,  3988951.39917039],\n",
       "          [-8779241.00686186,  3988938.29294824],\n",
       "          [-8779244.4853718 ,  3988935.12081249],\n",
       "          [-8779260.02653624,  3988920.58998829],\n",
       "          [-8779262.84960168,  3988918.11504981],\n",
       "          [-8779280.48513191,  3988902.91691784],\n",
       "          [-8779281.19374571,  3988902.082464  ],\n",
       "          [-8779294.53563065,  3988885.11070863],\n",
       "          [-8779299.64762515,  3988880.71584699],\n",
       "          [-8779317.45169195,  3988867.48867658]]),\n",
       "   array([], shape=(0, 2), dtype=float64)],\n",
       "  'filename': ['2018-12-06-15-54-07_L8_ID02022-07-25__22_hr_24_min26_pan.tif',\n",
       "   '2018-12-22-15-54-06_L8_ID02022-07-25__22_hr_24_min26_pan.tif',\n",
       "   '2019-01-07-15-54-05_L8_ID02022-07-25__22_hr_24_min26_pan.tif',\n",
       "   '2019-01-16-15-47-52_L8_ID02022-07-25__22_hr_24_min26_pan.tif',\n",
       "   '2019-02-01-15-47-48_L8_ID02022-07-25__22_hr_24_min26_pan.tif',\n",
       "   '2019-02-08-15-53-58_L8_ID02022-07-25__22_hr_24_min26_pan.tif'],\n",
       "  'cloud_cover': [0.0, 0.0, 0.0, 0.3415488026886991, 0.0, 0.0],\n",
       "  'geoaccuracy': [7.677999973297119,\n",
       "   8.354000091552734,\n",
       "   8.135000228881836,\n",
       "   8.291999816894531,\n",
       "   7.664999961853027,\n",
       "   7.579999923706055],\n",
       "  'idx': [1, 3, 5, 6, 7, 9],\n",
       "  'MNDWI_threshold': [0.3012363964982831,\n",
       "   0.14072727499402113,\n",
       "   0.15023145691895784,\n",
       "   -0.19736746401595173,\n",
       "   -0.3713570340326158,\n",
       "   -0.08908500848613163],\n",
       "  'satname': ['L8', 'L8', 'L8', 'L8', 'L8', 'L8']},\n",
       " 43: {'dates': [datetime.datetime(2019, 1, 16, 15, 47, 52, tzinfo=<UTC>),\n",
       "   datetime.datetime(2019, 2, 1, 15, 47, 48, tzinfo=<UTC>)],\n",
       "  'shorelines': [array([], shape=(0, 2), dtype=float64),\n",
       "   array([], shape=(0, 2), dtype=float64)],\n",
       "  'filename': ['2019-01-16-15-47-52_L8_ID12022-07-25__22_hr_24_min26_pan.tif',\n",
       "   '2019-02-01-15-47-48_L8_ID12022-07-25__22_hr_24_min26_pan.tif'],\n",
       "  'cloud_cover': [0.21727710491755436, 0.0],\n",
       "  'geoaccuracy': [8.291999816894531, 7.664999961853027],\n",
       "  'idx': [0, 1],\n",
       "  'MNDWI_threshold': [-0.21615818706315315, -0.3415648217636437],\n",
       "  'satname': ['L8', 'L8']}}"
      ]
     },
     "execution_count": 9,
     "metadata": {},
     "output_type": "execute_result"
    }
   ],
   "source": [
    "extracted_shorelines"
   ]
  },
  {
   "cell_type": "code",
   "execution_count": 10,
   "metadata": {},
   "outputs": [
    {
     "name": "stdout",
     "output_type": "stream",
     "text": [
      "35\n",
      "Shoreline present at ROI:  35\n",
      "Time-series of the shoreline change along the transects saved as:\n",
      "C:\\1_USGS_repos\\2_doodleverse\\CoastSeg\\data\\ID12022-07-25__22_hr_24_min26\\transect_time_series.csv\n",
      "43\n"
     ]
    },
    {
     "data": {
      "text/plain": [
       "{'35': {'NA0': array([nan, nan, nan, nan, nan, nan]),\n",
       "  'NA1': array([        nan,         nan,         nan,         nan, 96.14867367,\n",
       "                 nan]),\n",
       "  'NA2': array([         nan,          nan,          nan,          nan,\n",
       "         104.19230666,          nan]),\n",
       "  'NA3': array([        nan,         nan,         nan,         nan, 97.87382074,\n",
       "                 nan]),\n",
       "  'NA4': array([        nan,         nan,         nan,         nan, 95.55819085,\n",
       "                 nan]),\n",
       "  'NA5': array([        nan,         nan,         nan,         nan, 94.64721238,\n",
       "                 nan]),\n",
       "  'NA6': array([         nan,          nan,          nan,          nan,\n",
       "         105.78356137,          nan]),\n",
       "  'NA7': array([        nan,         nan,         nan,         nan, 93.68006912,\n",
       "                 nan]),\n",
       "  'NA8': array([         nan,          nan,          nan,          nan,\n",
       "         113.88849924,          nan]),\n",
       "  'NA9': array([nan, nan, nan, nan, nan, nan]),\n",
       "  'NA10': array([nan, nan, nan, nan, nan, nan]),\n",
       "  'NA11': array([nan, nan, nan, nan, nan, nan]),\n",
       "  'NA12': array([nan, nan, nan, nan, nan, nan]),\n",
       "  'NA13': array([nan, nan, nan, nan, nan, nan]),\n",
       "  'NA14': array([nan, nan, nan, nan, nan, nan]),\n",
       "  'NA15': array([nan, nan, nan, nan, nan, nan]),\n",
       "  'NA16': array([nan, nan, nan, nan, nan, nan]),\n",
       "  'NA17': array([nan, nan, nan, nan, nan, nan]),\n",
       "  'NA18': array([nan, nan, nan, nan, nan, nan]),\n",
       "  'NA19': array([nan, nan, nan, nan, nan, nan]),\n",
       "  'NA20': array([nan, nan, nan, nan, nan, nan]),\n",
       "  'NA21': array([nan, nan, nan, nan, nan, nan]),\n",
       "  'NA22': array([nan, nan, nan, nan, nan, nan]),\n",
       "  'NA23': array([        nan,         nan,         nan,         nan, 90.71599798,\n",
       "                 nan]),\n",
       "  'NA24': array([        nan,         nan,         nan,         nan, 96.57487917,\n",
       "                 nan]),\n",
       "  'NA25': array([        nan,         nan,         nan,         nan, 97.95790275,\n",
       "                 nan]),\n",
       "  'NA26': array([         nan,          nan,          nan,          nan,\n",
       "         100.77680745,          nan]),\n",
       "  'NA27': array([        nan,         nan,         nan,         nan, 93.56688689,\n",
       "                 nan]),\n",
       "  'NA28': array([        nan,         nan,         nan,         nan, 93.58453661,\n",
       "                 nan]),\n",
       "  'NA29': array([       nan,        nan,        nan,        nan, 94.1579455,\n",
       "                nan]),\n",
       "  'NA30': array([        nan,         nan,         nan,         nan, 94.63704731,\n",
       "                 nan]),\n",
       "  'NA31': array([nan, nan, nan, nan, nan, nan]),\n",
       "  'NA32': array([nan, nan, nan, nan, nan, nan])}}"
      ]
     },
     "execution_count": 10,
     "metadata": {},
     "output_type": "execute_result"
    }
   ],
   "source": [
    "cross_distances_rois=coastseg_map.is_transect_present(coastseg_map.selected_ROI,extracted_shorelines,pre_process_settings)\n",
    "cross_distances_rois"
   ]
  },
  {
   "cell_type": "code",
   "execution_count": 11,
   "metadata": {
    "scrolled": false
   },
   "outputs": [
    {
     "data": {
      "application/vnd.jupyter.widget-view+json": {
       "model_id": "3252ddd4d01d4a5698a7b997e768aff1",
       "version_major": 2,
       "version_minor": 0
      },
      "text/plain": [
       "Checkbox(value=False, description='Use GPU?', indent=False)"
      ]
     },
     "metadata": {},
     "output_type": "display_data"
    },
    {
     "data": {
      "application/vnd.jupyter.widget-view+json": {
       "model_id": "1c71b117e8d74d798ac4eef909f9a1e6",
       "version_major": 2,
       "version_minor": 0
      },
      "text/plain": [
       "Output()"
      ]
     },
     "metadata": {},
     "output_type": "display_data"
    },
    {
     "data": {
      "application/vnd.jupyter.widget-view+json": {
       "model_id": "ef9f8914a1e8416abed105622e4bd925",
       "version_major": 2,
       "version_minor": 0
      },
      "text/plain": [
       "HBox(children=(RadioButtons(description='Select Model:', options=('landsat_6229071', 'landsat_6230083', 'SWED-…"
      ]
     },
     "metadata": {},
     "output_type": "display_data"
    },
    {
     "data": {
      "application/vnd.jupyter.widget-view+json": {
       "model_id": "827b2275bffa480bbe74bc0dbe02d6b5",
       "version_major": 2,
       "version_minor": 0
      },
      "text/plain": [
       "VBox(children=(HTML(value='<h4>Click ONE of the following buttons:</h4>', layout=Layout(margin='0px 0px 0px 0p…"
      ]
     },
     "metadata": {},
     "output_type": "display_data"
    },
    {
     "data": {
      "application/vnd.jupyter.widget-view+json": {
       "model_id": "16dc80cee2564d91ab370605e4d42a66",
       "version_major": 2,
       "version_minor": 0
      },
      "text/plain": [
       "Button(description='Use Data Button', style=ButtonStyle())"
      ]
     },
     "metadata": {},
     "output_type": "display_data"
    },
    {
     "data": {
      "application/vnd.jupyter.widget-view+json": {
       "model_id": "9e832db547554f4e919f68c1b8403323",
       "version_major": 2,
       "version_minor": 0
      },
      "text/plain": [
       "Button(description='Select Your Images', style=ButtonStyle())"
      ]
     },
     "metadata": {},
     "output_type": "display_data"
    },
    {
     "data": {
      "application/vnd.jupyter.widget-view+json": {
       "model_id": "c344bc67df3447c3a71dc6f18fba5dfe",
       "version_major": 2,
       "version_minor": 0
      },
      "text/plain": [
       "HTML(value='____________________________________________________')"
      ]
     },
     "metadata": {},
     "output_type": "display_data"
    },
    {
     "data": {
      "application/vnd.jupyter.widget-view+json": {
       "model_id": "8e1e40689fa84fba892c0a3356a896a6",
       "version_major": 2,
       "version_minor": 0
      },
      "text/plain": [
       "Output(layout=Layout(border='1px solid black'))"
      ]
     },
     "metadata": {},
     "output_type": "display_data"
    },
    {
     "data": {
      "application/vnd.jupyter.widget-view+json": {
       "model_id": "fd818eae6b5c439a8ed9f094b198e999",
       "version_major": 2,
       "version_minor": 0
      },
      "text/plain": [
       "Button(description='Run Model', style=ButtonStyle())"
      ]
     },
     "metadata": {},
     "output_type": "display_data"
    },
    {
     "data": {
      "application/vnd.jupyter.widget-view+json": {
       "model_id": "fed03ff5fa0849f7a6f9afbcc7233ca2",
       "version_major": 2,
       "version_minor": 0
      },
      "text/plain": [
       "Output(layout=Layout(border='1px solid black'))"
      ]
     },
     "metadata": {},
     "output_type": "display_data"
    }
   ],
   "source": [
    "model_dict={\"sample_direc\":None,\"use_GPU\":False, 'implementation':'ENSEMBLE','model_type':'landsat_6229071'}\n",
    "\n",
    "model_view = Output(layout={'border': '1px solid black'})\n",
    "run_model_view = Output(layout={'border': '1px solid black'})\n",
    "GPU_view = Output()\n",
    "\n",
    "run_model_button = Button(description=\"Run Model\")\n",
    "use_data_button = Button(description=\"Use Data Button\")\n",
    "use_select_images_button = Button(description=\"Select Your Images\")\n",
    "\n",
    "\n",
    "model_implementation = RadioButtons(\n",
    "    options=['ENSEMBLE', 'BEST'],\n",
    "   value='ENSEMBLE',\n",
    "    description='Select:',\n",
    "    disabled=False\n",
    ")\n",
    "\n",
    "model_dropdown = RadioButtons(\n",
    "    options= ['landsat_6229071', 'landsat_6230083','SWED-RGB_6824384','SWED-MNDWI_6824342'],\n",
    "    value='landsat_6229071',\n",
    "    description='Select Model:',\n",
    "    disabled=False,\n",
    ")\n",
    "\n",
    "\n",
    "GPU_checkbox = Checkbox(\n",
    "    value=False,\n",
    "    description='Use GPU?',\n",
    "    disabled=False,\n",
    "    indent=False\n",
    ")\n",
    "\n",
    "\n",
    "def handle_model_type(change):\n",
    "    model_dict[\"model_type\"]=change['new']\n",
    "\n",
    "\n",
    "def handle_model_implementation(change):\n",
    "    model_dict[\"implementation\"]=change['new']\n",
    "\n",
    "\n",
    "@GPU_view.capture(clear_output=True)\n",
    "def handle_GPU_checkbox(change):\n",
    "    if change[\"new\"] == True:\n",
    "        model_dict[\"use_GPU\"]=True\n",
    "        print(\"Using the GPU\")\n",
    "    else:\n",
    "        model_dict[\"use_GPU\"]=False\n",
    "        print(\"Not using the GPU\")\n",
    "        \n",
    "\n",
    "@model_view.capture(clear_output=True)\n",
    "def use_data_button_clicked(button):\n",
    "    # Use the data folder as the input for segmentation\n",
    "    print(\"Loading in the jpgs from the data directory\")\n",
    "    # Copy the jpgs from data to a new folder called segmentation_data_[datetime]\n",
    "    if 'MNDWI' in model_dropdown.value:\n",
    "        sample_direc =r'C:\\1_USGS\\CoastSeg\\repos\\2_CoastSeg\\CoastSeg_fork\\Seg2Map\\MNDWI_outputs\\MNDWI_ouputs_2022-07-21__07_hr_57_min14'\n",
    "#         sample_direc = file_functions.get_jpgs_from_data('MNDWI')\n",
    "#         RGB_path=sample_direc+os.sep+'RGB'\n",
    "#         NIR_path=sample_direc+os.sep+'NIR'\n",
    "#         sample_direc = coastseg_map.RGB_to_MNDWI(RGB_path,NIR_path,sample_direc)\n",
    "        model_dict[\"sample_direc\"]=sample_direc\n",
    "    else:\n",
    "        sample_direc = file_functions.get_jpgs_from_data(None)\n",
    "        model_dict[\"sample_direc\"]=sample_direc\n",
    "        jpgs = glob.glob1(sample_direc + os.sep, \"*jpg\")\n",
    "        if jpgs == []:\n",
    "            raise Exception(\"\\nThe directory contains no jpgs! Please select a directory with jpgs.\")\n",
    "    print(f\"\\nContents of the data directory saved in {sample_direc}\")\n",
    "\n",
    "\n",
    "@model_view.capture(clear_output=True)\n",
    "def use_select_images_button_clicked(button):\n",
    "    # Prompt the user to select a directory of images                              \n",
    "    root.withdraw()                                        # Hide the main window.\n",
    "    root.call('wm', 'attributes', '.', '-topmost', True)   # Raise the root to the top of all windows.\n",
    "    root.filename =  filedialog.askdirectory(initialdir = \"/samples\",title = \"Select directory of images (or npzs) to segment\")\n",
    "    # Save the filename as an attribute of the button\n",
    "    if root.filename:\n",
    "        sample_direc= root.filename\n",
    "        model_dict[\"sample_direc\"]=root.filename\n",
    "        print(f\"The images in the folder will be segmented :\\n{sample_direc} \")\n",
    "        jpgs = glob.glob1(sample_direc + os.sep, \"*jpg\")\n",
    "        if jpgs == []:\n",
    "            raise Exception(\"The directory contains no jpgs! Please select a directory with jpgs.\")\n",
    "    else:\n",
    "        raise Exception(\"You must select a valid directory first!\")\n",
    "\n",
    "@run_model_view.capture(clear_output=True)\n",
    "def run_model_button_clicked(button):\n",
    "    print(\"Called Run Model\")\n",
    "    if model_dict[\"sample_direc\"] is None:\n",
    "        print(\"You must click 'Use Data' or 'Select Images' First\")\n",
    "        return\n",
    "    else:\n",
    "        if model_dict[\"use_GPU\"] == False:\n",
    "            print(\"Not using the GPU\")\n",
    "            ## to use the CPU (not recommended):\n",
    "            os.environ['CUDA_VISIBLE_DEVICES'] = '-1'\n",
    "        elif model_dict[\"use_GPU\"] == True:\n",
    "            print(\"Using the GPU\")\n",
    "            ##use the first available GPU\n",
    "            os.environ['CUDA_VISIBLE_DEVICES'] = '0' #'1'\n",
    "        if 'MNDWI' in model_dropdown.value:\n",
    "            dataset='MNDWI'\n",
    "        else:\n",
    "            dataset='RGB'\n",
    "        dataset_id=model_dict['model_type']\n",
    "#         model_dict['implementation']=model_implementation.value\n",
    "        model_choice=model_dict['implementation']\n",
    "        zoo_model=zoo_model_module.Zoo_Model()\n",
    "        # # First download the specified model\n",
    "        zoo_model.download_model(dataset,dataset_id)\n",
    "        # # Get weights as list\n",
    "        Ww=zoo_model.get_weights_list(model_choice)\n",
    "        # Load the model from the config files\n",
    "        model, model_list, config_files, model_types=zoo_model.get_model(Ww)\n",
    "        metadatadict=zoo_model.get_metadatadict(Ww,config_files, model_types)\n",
    "        # # Compute the segmentation\n",
    "        zoo_model.compute_segmentation(model_dict[\"sample_direc\"], model_list, metadatadict)\n",
    "    \n",
    "    \n",
    "model_implementation.observe(handle_model_implementation,\"value\")\n",
    "model_dropdown.observe(handle_model_type,\"value\")\n",
    "GPU_checkbox.observe(handle_GPU_checkbox,\"value\")\n",
    "\n",
    "\n",
    "run_model_button.on_click(run_model_button_clicked)\n",
    "use_data_button.on_click(use_data_button_clicked)\n",
    "use_select_images_button.on_click(use_select_images_button_clicked)\n",
    "\n",
    "model_choices_box=HBox([model_dropdown, model_implementation])\n",
    "\n",
    "line_widget=HTML(value=\"____________________________________________________\")\n",
    "\n",
    "instr_header=HTML(\n",
    "    value=\"<h4>Click ONE of the following buttons:</h4>\",layout=Layout(margin='0px 0px 0px 0px'))\n",
    "\n",
    "instr_use_data=HTML(\n",
    "    value=\"<b>1. Use Data Folder Button</b> \\\n",
    "        <br> - When CoastSat downloads imagery it created a folder called 'data'in the CoastSeg directory.\\\n",
    "            The jpgs within the 'data' folder will be copied to another folder with a name such as\\\n",
    "            <span style=\\\"background-color:LightGray;\\\">segmentation_data_2022-07-07__10_hr_04_min58 </span>\\\n",
    "            (the date and time will be the current date and time) <br> \\\n",
    "           The model will be applied to this folder and the model outputs will be generated within a subdirectory \\\n",
    "            called 'out'\",layout=Layout(margin='0px 0px 0px 20px'))\n",
    "\n",
    "instr_select_images=HTML(\n",
    "    value=\"<b>2. Select Images Button</b> \\\n",
    "        <br> - This will open a pop up window where the folder containing the jpgs can be selected.<br>\\\n",
    "             - The model will be applied to this folder and the model outputs will be generated within a subdirectory\\\n",
    "             called 'out'<br>\\\n",
    "      - <span style=\\\"background-color:yellow;\\\">WARNING :</span> You will not be able to see the files within the folder you select.<br>\\\n",
    "    \",layout=Layout(margin='0px 0px 0px 20px'))\n",
    "\n",
    "instr_vbox=VBox([instr_header, line_widget, instr_use_data, instr_select_images])\n",
    "\n",
    "display(GPU_checkbox,GPU_view,model_choices_box,instr_vbox,use_data_button,use_select_images_button,line_widget, model_view,run_model_button,run_model_view)"
   ]
  },
  {
   "cell_type": "markdown",
   "metadata": {},
   "source": [
    "## Example Using New RGB_to_MNDWI function\n",
    "Replace `rgb_path` and `nir_path` was the full path to the directories containing the corresponding RGB and NIR images.\n",
    "The outputs will be in a directory called `MNDWI_outputs` as `.npz`"
   ]
  },
  {
   "cell_type": "code",
   "execution_count": null,
   "metadata": {},
   "outputs": [],
   "source": [
    "# Replace these temp paths with the paths you have\n",
    "rgb_path=r'C:\\1_USGS\\CoastSeg\\repos\\2_CoastSeg\\CoastSeg_fork\\Seg2Map\\zenodo_sample_data\\data_sample\\images'\n",
    "nir_path = r'C:\\1_USGS\\CoastSeg\\repos\\2_CoastSeg\\CoastSeg_fork\\Seg2Map\\zenodo_sample_data\\data_sample\\nir'\n",
    "coastseg_map_copy=coastseg_map_class.CoastSeg_Map()\n",
    "coastseg_map_copy.RGB_to_MNDWI(rgb_path,nir_path,os.getcwd())"
   ]
  },
  {
   "cell_type": "code",
   "execution_count": null,
   "metadata": {},
   "outputs": [],
   "source": []
  }
 ],
 "metadata": {
  "kernelspec": {
   "display_name": "Python 3 (ipykernel)",
   "language": "python",
   "name": "python3"
  },
  "language_info": {
   "codemirror_mode": {
    "name": "ipython",
    "version": 3
   },
   "file_extension": ".py",
   "mimetype": "text/x-python",
   "name": "python",
   "nbconvert_exporter": "python",
   "pygments_lexer": "ipython3",
   "version": "3.7.12"
  },
  "vscode": {
   "interpreter": {
    "hash": "9d097efbdf24db87a2507c17c632c6d564e7aff5ba5cfc04e62a44a8b3d6a20a"
   }
  }
 },
 "nbformat": 4,
 "nbformat_minor": 2
}
