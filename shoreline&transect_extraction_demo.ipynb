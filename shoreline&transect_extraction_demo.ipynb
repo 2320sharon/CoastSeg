{
 "cells": [
  {
   "cell_type": "code",
   "execution_count": 1,
   "metadata": {},
   "outputs": [
    {
     "name": "stdout",
     "output_type": "stream",
     "text": [
      "Version:  2.9.1\n",
      "Eager mode:  True\n",
      "Version:  2.9.1\n",
      "Eager mode:  True\n",
      "GPU name:  []\n",
      "Num GPUs Available:  0\n"
     ]
    }
   ],
   "source": [
    "import warnings\n",
    "# External Imports\n",
    "from IPython.display import display\n",
    "from tkinter import Tk,filedialog\n",
    "# import ipywidgets as widgets\n",
    "from ipywidgets import Button, HBox, VBox, Layout, DatePicker, HTML, RadioButtons, SelectMultiple, Output, Checkbox\n",
    "import os\n",
    "import datetime\n",
    "import glob\n",
    "import json\n",
    "import pandas as pd\n",
    "import geopandas as gpd\n",
    "from shapely.geometry import Polygon\n",
    "\n",
    "# New imports for coastsat shoreline extraction\n",
    "import numpy as np\n",
    "# Local Imports \n",
    "from CoastSeg import download_roi, file_functions, zoo_model_module, coastseg_map_class\n",
    "from CoastSeg.coastsat import SDS_shoreline,SDS_download,SDS_tools\n",
    "# suppress tensorflow warnings\n",
    "os.environ['TF_CPP_MIN_LOG_LEVEL'] = '3'\n",
    "root = Tk()"
   ]
  },
  {
   "cell_type": "code",
   "execution_count": 2,
   "metadata": {},
   "outputs": [
    {
     "data": {
      "application/vnd.jupyter.widget-view+json": {
       "model_id": "e8913f72f92f491cbd4c3984e6ac47e2",
       "version_major": 2,
       "version_minor": 0
      },
      "text/plain": [
       "VBox(children=(VBox(children=(HTML(value='<b>Pick a date:</b>', layout=Layout(padding='10px')), HBox(children=…"
      ]
     },
     "metadata": {},
     "output_type": "display_data"
    }
   ],
   "source": [
    "# Date Widgets\n",
    "start_date=DatePicker(\n",
    "    description='Start Date',\n",
    "    value=datetime.date(2018, 12, 1),\n",
    "    disabled=False,\n",
    ")\n",
    "end_date=DatePicker(\n",
    "    description='End Date',\n",
    "    value=datetime.date(2019, 3, 1), #2019, 1, 1\n",
    "    disabled=False,\n",
    ")\n",
    "date_instr=HTML(\n",
    "    value=\"<b>Pick a date:</b>\",\n",
    "    layout=Layout(padding='10px')\n",
    ")\n",
    "dates_box=HBox([start_date,end_date])\n",
    "dates_vbox=VBox([date_instr,dates_box])\n",
    "\n",
    "\n",
    "collection_instr=HTML(\n",
    "    value=\"<b>Pick a collection</b>\\\n",
    "        <br> C01: LandSat Collection 1 \\\n",
    "        <br> C02: LandSat Collection 2  [2022/01/01 and beyond] \\\n",
    "        <br>      - Landsat 9 is only available in C02\",\n",
    "    layout=Layout(padding='10px')\n",
    ")\n",
    "collection_radio=RadioButtons(\n",
    "    options=['C01', 'C02'],\n",
    "    value='C01',\n",
    "    description='Collection:',\n",
    "    disabled=False\n",
    ")\n",
    "collection_vbox=VBox([collection_instr,collection_radio])\n",
    "\n",
    "sat_instr=HTML(\n",
    "    value=\"<b>Pick multiple satellites by holding the control key:</b> \\\n",
    "        <br> - images prior to 2022/01/01 will be downloaded from Collection 1 \\\n",
    "        <br> - images after 2022/01/01 will be automatically downloaded from Collection 2 \\\n",
    "        <br> C01: LandSat Collection 1 : All dates before 2022/01/01\\\n",
    "        <br> C02: LandSat Collection 2 : All dates after 2022/01/01 \\\n",
    "        <br> - Landsat 9 is only available in C02\",\n",
    "    layout=Layout(padding='10px')\n",
    ")\n",
    "\n",
    "\n",
    "satellite_selection=SelectMultiple(\n",
    "    options=['L5', 'L7', 'L8', 'S2'],\n",
    "    value=['L8'],\n",
    "    description='Satellites',\n",
    "    disabled=False\n",
    ")\n",
    "sat_vbox = VBox([sat_instr,satellite_selection])\n",
    "\n",
    "def handle_collection_change(change):\n",
    "    if change['new'] == 'C02':\n",
    "        satellite_selection.options=['L5', 'L7', 'L8', 'L9', 'S2']\n",
    "    else:\n",
    "        satellite_selection.options=['L5', 'L7', 'L8', 'S2']\n",
    "\n",
    "collection_radio.observe(handle_collection_change,\"value\")\n",
    "\n",
    "controls_vbox=VBox([dates_vbox, collection_vbox, sat_vbox])\n",
    "controls_vbox"
   ]
  },
  {
   "cell_type": "code",
   "execution_count": 3,
   "metadata": {
    "scrolled": true
   },
   "outputs": [
    {
     "name": "stdout",
     "output_type": "stream",
     "text": [
      "dates: ['2018-12-01', '2019-03-01']\n",
      "collection: C01\n",
      "sat_list: ['L8']\n"
     ]
    }
   ],
   "source": [
    "# CoastSat Download Variables\n",
    "# ------------------------------\n",
    "# Save the satellites selected to sat_list\n",
    "if satellite_selection.value:\n",
    "    sat_list = list(satellite_selection.value)\n",
    "elif not satellite_selection.value:\n",
    "    print(\"ERROR: You must select at least one satellite first\")\n",
    "# Save the dates selected by the user as well as the selected collection\n",
    "dates = [str(start_date.value),str(end_date.value)]\n",
    "collection = collection_radio.value\n",
    "print(f\"dates: {dates}\")\n",
    "print(f\"collection: {collection}\")\n",
    "print(f\"sat_list: {sat_list}\")"
   ]
  },
  {
   "cell_type": "code",
   "execution_count": 4,
   "metadata": {},
   "outputs": [],
   "source": [
    "# 'output_epsg': 3857,        # epsg code of spatial reference system desired for the output \n",
    "pre_process_settings = { \n",
    "    # general parameters:\n",
    "    'cloud_thresh': 0.5,        # threshold on maximum cloud cover\n",
    "    'output_epsg': 3857,        # epsg code of spatial reference system desired for the output   \n",
    "    # quality control:\n",
    "    'check_detection': True,    # if True, shows each shoreline detection to the user for validation\n",
    "    'adjust_detection': False,  # if True, allows user to adjust the postion of each shoreline by changing the threhold\n",
    "    'save_figure': True,        # if True, saves a figure showing the mapped shoreline for each image\n",
    "    # [ONLY FOR ADVANCED USERS] shoreline detection parameters:\n",
    "    'min_beach_area': 4500,     # minimum area (in metres^2) for an object to be labelled as a beach\n",
    "    'buffer_size': 150,         # radius (in metres) of the buffer around sandy pixels considered in the shoreline detection\n",
    "    'min_length_sl': 200,       # minimum length (in metres) of shoreline perimeter to be valid\n",
    "    'cloud_mask_issue': False,  # switch this parameter to True if sand pixels are masked (in black) on many images  \n",
    "    'sand_color': 'default',    # 'default', 'dark' (for grey/black sand beaches) or 'bright' (for white sand beaches)\n",
    "}\n",
    "\n",
    "# Output wdiget used to print messages and exceptions created by CoastSeg_Map\n",
    "debug_view = Output(layout={'border': '1px solid black'})"
   ]
  },
  {
   "cell_type": "markdown",
   "metadata": {},
   "source": [
    "# Create the Map\n",
    "- Create the map using the map settings set above"
   ]
  },
  {
   "cell_type": "code",
   "execution_count": 5,
   "metadata": {},
   "outputs": [],
   "source": [
    "coastseg_map=coastseg_map_class.CoastSeg_Map()"
   ]
  },
  {
   "cell_type": "markdown",
   "metadata": {},
   "source": [
    "# How to Use The Map\n",
    "---\n",
    "1. Use the rectangle tool to draw a bounding box along the coastline.\n",
    "2. Click `Generate ROI` to create ROI rectangles along the coastline in the bounding box. This may take some time.\n",
    "- You should see a coastline appear in yellow and some rectangles along it.\n",
    "3. Click 1 or more ROIs then click `Save ROI` to save these ROIs for downloading later\n",
    "4. You're ready to download the ROIs. Run the next block of code."
   ]
  },
  {
   "cell_type": "code",
   "execution_count": 6,
   "metadata": {},
   "outputs": [
    {
     "data": {
      "application/vnd.jupyter.widget-view+json": {
       "model_id": "bfb341b342be40eeaab676957749bac2",
       "version_major": 2,
       "version_minor": 0
      },
      "text/plain": [
       "Output(layout=Layout(border='1px solid black'))"
      ]
     },
     "metadata": {},
     "output_type": "display_data"
    },
    {
     "data": {
      "application/vnd.jupyter.widget-view+json": {
       "model_id": "de44832914cf4d45abbe7d970c084dd1",
       "version_major": 2,
       "version_minor": 0
      },
      "text/plain": [
       "HBox(children=(Button(description='Load Transects', style=ButtonStyle()), Button(description='Load Shoreline',…"
      ]
     },
     "metadata": {},
     "output_type": "display_data"
    },
    {
     "data": {
      "application/vnd.jupyter.widget-view+json": {
       "model_id": "b6d3755da0a94da79f9c41161a79658e",
       "version_major": 2,
       "version_minor": 0
      },
      "text/plain": [
       "HBox(children=(Button(description='Remove all', style=ButtonStyle()), Button(description='Remove transects', s…"
      ]
     },
     "metadata": {},
     "output_type": "display_data"
    },
    {
     "data": {
      "application/vnd.jupyter.widget-view+json": {
       "model_id": "654ae3dcca384500877ecd1c1fed8d7d",
       "version_major": 2,
       "version_minor": 0
      },
      "text/plain": [
       "Map(center=[36, -121.5], controls=(ZoomControl(options=['position', 'zoom_in_text', 'zoom_in_title', 'zoom_out…"
      ]
     },
     "metadata": {},
     "output_type": "display_data"
    }
   ],
   "source": [
    "transects_button = Button(description=\"Load Transects\")\n",
    "shoreline_button = Button(description=\"Load Shoreline\")\n",
    "gen_button =Button(description=\"Generate ROI\")\n",
    "save_button = Button(description=\"Save ROI\")\n",
    "\n",
    "remove_all_button = Button(description=\"Remove all\")\n",
    "remove_transects_button = Button(description=\"Remove transects\")\n",
    "remove_bbox_button = Button(description=\"Remove bbox\")\n",
    "remove_coastline_button = Button(description=\"Remove coastline\")\n",
    "remove_rois_button = Button(description=\"Remove ROIs\")\n",
    "remove_saved_roi_button = Button(description=\"Remove saved ROIs\")\n",
    "\n",
    "@debug_view.capture(clear_output=True)\n",
    "def on_shoreline_button_clicked(b):\n",
    "    if coastseg_map.shapes_list == [] :\n",
    "        print(\"Draw a bounding box on the coast first, then click Load Transects.\")\n",
    "    else:\n",
    "        debug_view.clear_output(wait=True)\n",
    "        print(\"Loading shoreline please wait.\") \n",
    "        # Add the transects to the map\n",
    "        coastseg_map.load_shoreline_on_map()\n",
    "        print(\"Shoreline loaded.\")\n",
    "\n",
    "@debug_view.capture(clear_output=True)\n",
    "def on_transects_button_clicked(b):\n",
    "    if coastseg_map.shapes_list == [] :\n",
    "        print(\"Draw a bounding box on the coast first, then click Load Transects.\")\n",
    "    else:\n",
    "        debug_view.clear_output(wait=True)\n",
    "        print(\"Loading transects please wait.\") \n",
    "        # Add the transects to the map\n",
    "        coastseg_map.load_transects_on_map()\n",
    "        print(\"Transects Loaded.\")\n",
    "\n",
    "        \n",
    "@debug_view.capture(clear_output=True)\n",
    "def on_gen_button_clicked(b):\n",
    "    if coastseg_map.shapes_list == [] :\n",
    "        print(\"Draw a bounding box on the coast first, then click Generate ROI.\")\n",
    "    else:\n",
    "        debug_view.clear_output(wait=True)\n",
    "        print(\"Generating ROIs please wait.\") \n",
    "        # Generate ROIs along the coastline within the bounding box\n",
    "        coastseg_map.generate_ROIS_fishnet()\n",
    "        debug_view.clear_output(wait=True)\n",
    "        # Add the Clickable ROIs to the map\n",
    "        coastseg_map.add_geojson_layer_to_map()\n",
    "        print(\"ROIs generated. Please Select at least one ROI and click Save ROI.\")\n",
    "\n",
    "@debug_view.capture(clear_output=True)\n",
    "def on_save_button_clicked(b):\n",
    "    if coastseg_map.selected_set:\n",
    "        if len(coastseg_map.selected_set) == 0:\n",
    "             print(\"Must select at least 1 ROI first before you can save ROIs.\")\n",
    "        else:\n",
    "            debug_view.clear_output(wait=True)\n",
    "            coastseg_map.save_roi_fishnet(\"fishnet_rois.geojson\")\n",
    "            print(\"Saving ROIs\")\n",
    "            debug_view.clear_output(wait=True)\n",
    "            print(\"ROIs have been saved. Now click Download ROI to download the ROIs using CoastSat\")\n",
    "    else:\n",
    "        print(\"No ROIs were selected.\")\n",
    "\n",
    "\n",
    "def remove_all_from_map(b):\n",
    "    coastseg_map.remove_all()\n",
    "def remove_transects(b):\n",
    "    coastseg_map.remove_transects()\n",
    "def remove_bbox_from_map(b):\n",
    "    coastseg_map.remove_bbox()\n",
    "def remove_coastline_from_map(b):\n",
    "    coastseg_map.remove_shoreline()\n",
    "def remove_all_rois_from_map(b):\n",
    "    coastseg_map.remove_all_rois()\n",
    "def remove_saved_roi_clicked(b):\n",
    "    coastseg_map.remove_saved_roi()\n",
    "\n",
    "transects_button.on_click(on_transects_button_clicked)    \n",
    "shoreline_button.on_click(on_shoreline_button_clicked) \n",
    "gen_button.on_click(on_gen_button_clicked)\n",
    "save_button.on_click(on_save_button_clicked)\n",
    "\n",
    "\n",
    "remove_all_button.on_click(remove_all_from_map)\n",
    "remove_transects_button.on_click(remove_transects)\n",
    "remove_bbox_button.on_click(remove_bbox_from_map)\n",
    "remove_coastline_button.on_click(remove_coastline_from_map)\n",
    "remove_rois_button.on_click(remove_all_rois_from_map)\n",
    "remove_saved_roi_button.on_click(remove_saved_roi_clicked)\n",
    "\n",
    "erase_buttons=HBox([remove_all_button, remove_transects_button, remove_bbox_button, remove_coastline_button, remove_rois_button, remove_saved_roi_button])\n",
    "\n",
    "display(debug_view,HBox([transects_button,shoreline_button, gen_button, save_button]),erase_buttons)\n",
    "# Display the map\n",
    "coastseg_map.m"
   ]
  },
  {
   "cell_type": "code",
   "execution_count": null,
   "metadata": {},
   "outputs": [],
   "source": []
  },
  {
   "cell_type": "markdown",
   "metadata": {},
   "source": [
    "## Download the Selected ROIs\n",
    "- Download the satellite imagery for the ROIs using CoastSat.\n",
    "\n",
    "⚠️ Make sure you have clicked `Save ROI` before running the following code.\n",
    " \n",
    "### Parameters for download_imagery()\n",
    "1. `coastseg_map.selected_ROI` : geojson for the ROI clicked\n",
    "2. `pre_process_settings`: settings for downloading data using CoastSat\n",
    "3. `dates` : date range to download the imagery\n",
    "4. `sat_list` : list of satellites to download imagery from\n",
    "5. `collection` : LandSat Collection 1 (`C01`) or Collection 2 (`C02`)"
   ]
  },
  {
   "cell_type": "code",
   "execution_count": 7,
   "metadata": {},
   "outputs": [
    {
     "name": "stdout",
     "output_type": "stream",
     "text": [
      "Images available: \n",
      " [{'polygon': [[[-78.321935, 33.90622299999999], [-78.3039686943176, 33.90622299999999], [-78.3039686943176, 33.92113286175758], [-78.321935, 33.92113286175758], [-78.321935, 33.90622299999999]]], 'dates': ['2018-12-01', '2019-03-01'], 'sat_list': ['L8'], 'sitename': 'ID02022-07-26__09_hr_06_min04', 'filepath': 'C:\\\\1_USGS_repos\\\\2_doodleverse\\\\CoastSeg\\\\data', 'roi_id': '2', 'landsat_collection': 'C01'}, {'polygon': [[[-78.3039686943176, 33.90622299999999], [-78.28600238863521, 33.90622299999999], [-78.28600238863521, 33.92113286175758], [-78.3039686943176, 33.92113286175758], [-78.3039686943176, 33.90622299999999]]], 'dates': ['2018-12-01', '2019-03-01'], 'sat_list': ['L8'], 'sitename': 'ID12022-07-26__09_hr_06_min04', 'filepath': 'C:\\\\1_USGS_repos\\\\2_doodleverse\\\\CoastSeg\\\\data', 'roi_id': '4', 'landsat_collection': 'C01'}]\n"
     ]
    },
    {
     "name": "stderr",
     "output_type": "stream",
     "text": [
      "\r",
      "Downloading ROIs:   0%|                                                                          | 0/2 [00:00<?, ?it/s]"
     ]
    },
    {
     "name": "stdout",
     "output_type": "stream",
     "text": [
      "Number of images available between 2018-12-01 and 2019-03-01:\n",
      "- In Landsat Tier 1 & Sentinel-2 Level-1C:\n",
      "     L8: 4 images\n",
      "  Total to download: 4 images\n",
      "- In Landsat Tier 2 (not suitable for time-series analysis):\n",
      "     L8: 5 images\n",
      "  Total Tier 2: 5 images\n",
      "\n",
      "Downloading images:\n",
      "L8: 4 images\n",
      "75%"
     ]
    },
    {
     "name": "stderr",
     "output_type": "stream",
     "text": [
      "\r",
      "Downloading ROIs:  50%|█████████████████████████████████                                 | 1/2 [00:18<00:18, 18.19s/it]"
     ]
    },
    {
     "name": "stdout",
     "output_type": "stream",
     "text": [
      "100%\n",
      "Satellite images saved as .jpg in C:\\1_USGS_repos\\2_doodleverse\\CoastSeg\\data\\ID02022-07-26__09_hr_06_min04\\jpg_files\\preprocessed\n",
      "Number of images available between 2018-12-01 and 2019-03-01:\n",
      "- In Landsat Tier 1 & Sentinel-2 Level-1C:\n",
      "     L8: 4 images\n",
      "  Total to download: 4 images\n",
      "- In Landsat Tier 2 (not suitable for time-series analysis):\n",
      "     L8: 5 images\n",
      "  Total Tier 2: 5 images\n",
      "\n",
      "Downloading images:\n",
      "L8: 4 images\n",
      "75%"
     ]
    },
    {
     "name": "stderr",
     "output_type": "stream",
     "text": [
      "Downloading ROIs: 100%|██████████████████████████████████████████████████████████████████| 2/2 [00:29<00:00, 14.90s/it]"
     ]
    },
    {
     "name": "stdout",
     "output_type": "stream",
     "text": [
      "\r",
      "100%\n",
      "Satellite images saved as .jpg in C:\\1_USGS_repos\\2_doodleverse\\CoastSeg\\data\\ID12022-07-26__09_hr_06_min04\\jpg_files\\preprocessed\n"
     ]
    },
    {
     "name": "stderr",
     "output_type": "stream",
     "text": [
      "\n"
     ]
    }
   ],
   "source": [
    "if coastseg_map.selected_ROI:\n",
    "    inputs_dict=download_roi.download_imagery(coastseg_map.selected_ROI,pre_process_settings,dates,sat_list,collection)\n",
    "else:\n",
    "    print(\"No ROIs were selected. \\nPlease select at least one ROI and click 'Save ROI' to save these ROI for download.\")"
   ]
  },
  {
   "cell_type": "code",
   "execution_count": 8,
   "metadata": {},
   "outputs": [
    {
     "name": "stdout",
     "output_type": "stream",
     "text": [
      "Mapping shorelines:\n",
      "L8:   100%\n",
      "2 duplicates\n",
      "0 bad georef\n",
      "Mapping shorelines:\n",
      "L8:   100%\n",
      "2 duplicates\n",
      "0 bad georef\n",
      "No shorelines for ROI  4\n"
     ]
    }
   ],
   "source": [
    "extracted_shorelines=coastseg_map.extract_shorelines_from_rois(coastseg_map.selected_ROI,inputs_dict,pre_process_settings,coastseg_map.shorelines_gdf)"
   ]
  },
  {
   "cell_type": "code",
   "execution_count": 9,
   "metadata": {},
   "outputs": [
    {
     "data": {
      "text/plain": [
       "{2: {'dates': [datetime.datetime(2019, 1, 16, 15, 47, 52, tzinfo=<UTC>),\n",
       "   datetime.datetime(2019, 2, 1, 15, 47, 48, tzinfo=<UTC>)],\n",
       "  'shorelines': [array([[-8716756.56201347,  4016656.60321304],\n",
       "          [-8716774.31814055,  4016668.02640524],\n",
       "          [-8716792.35285333,  4016668.79607302],\n",
       "          [-8716810.43185613,  4016667.87183022],\n",
       "          [-8716828.53484896,  4016666.02986565],\n",
       "          [-8716846.65287828,  4016663.61251617],\n",
       "          [-8716864.80013185,  4016660.07691245],\n",
       "          [-8716882.91162559,  4016657.909017  ],\n",
       "          [-8716889.03320807,  4016657.1723657 ],\n",
       "          [-8716901.0375179 ,  4016655.1899987 ],\n",
       "          [-8716919.11356006,  4016654.37808992],\n",
       "          [-8716937.11337356,  4016656.48301101],\n",
       "          [-8716955.20191081,  4016655.19299814],\n",
       "          [-8717462.11450852,  4016602.40414692],\n",
       "          [-8717480.19083735,  4016601.5776133 ],\n",
       "          [-8717484.90746987,  4016600.32194906],\n",
       "          [-8717498.49350476,  4016592.07379857],\n",
       "          [-8717516.63265005,  4016588.83824359],\n",
       "          [-8717534.70020441,  4016588.34727326],\n",
       "          [-8717552.74576519,  4016588.69960813],\n",
       "          [-8717570.841698  ,  4016587.12042058],\n",
       "          [-8717582.59947998,  4016584.7550116 ],\n",
       "          [-8717588.98299177,  4016583.8015276 ],\n",
       "          [-8717607.1125762 ,  4016580.93133484],\n",
       "          [-8717625.17205486,  4016580.74964527],\n",
       "          [-8717643.20858831,  4016581.44805554],\n",
       "          [-8717661.2754455 ,  4016580.98341678],\n",
       "          [-8717679.40056321,  4016578.28384388],\n",
       "          [-8717697.51377091,  4016576.04088171],\n",
       "          [-8717715.66494484,  4016572.34109334],\n",
       "          [-8717726.38487456,  4016570.39990624],\n",
       "          [-8717733.81275852,  4016568.76981364],\n",
       "          [-8717751.84311347,  4016569.70503469],\n",
       "          [-8717769.99341351,  4016566.03782346],\n",
       "          [-8717788.15712033,  4016561.85571815],\n",
       "          [-8717806.28151585,  4016559.1817922 ],\n",
       "          [-8717824.36950365,  4016557.9048846 ],\n",
       "          [-8717842.43222854,  4016557.59749328],\n",
       "          [-8717852.8496445 ,  4016555.58754287],\n",
       "          [-8717860.56417703,  4016554.63301235],\n",
       "          [-8717878.64876741,  4016553.48611624],\n",
       "          [-8717896.75664682,  4016551.44507798],\n",
       "          [-8717914.89008423,  4016548.42262515],\n",
       "          [-8717933.00028802,  4016546.29185995],\n",
       "          [-8717951.09143145,  4016544.89270928],\n",
       "          [-8717969.18126263,  4016543.54381187],\n",
       "          [-8717987.29789784,  4016541.16549638],\n",
       "          [-8718041.68199735,  4016532.71571875],\n",
       "          [-8718059.75432596,  4016532.03811931],\n",
       "          [-8718077.89032186,  4016528.91486669],\n",
       "          [-8718096.01202285,  4016526.34040234],\n",
       "          [-8718102.4579409 ,  4016525.87135276],\n",
       "          [-8718114.09508208,  4016525.25015935],\n",
       "          [-8718132.20268202,  4016523.2169819 ],\n",
       "          [-8718150.28700887,  4016522.07778291],\n",
       "          [-8718168.32923899,  4016522.55600496],\n",
       "          [-8718186.45765188,  4016519.72263307],\n",
       "          [-8718204.58029872,  4016517.11053235],\n",
       "          [-8718222.72898935,  4016513.49725799],\n",
       "          [-8718233.97184154,  4016511.18742337],\n",
       "          [-8718240.88246338,  4016509.69973493],\n",
       "          [-8718258.9420909 ,  4016509.50884648]]),\n",
       "   array([[-8716758.3227744 ,  4016653.72335013],\n",
       "          [-8716774.34966813,  4016666.82065922],\n",
       "          [-8716792.44033823,  4016665.45008434],\n",
       "          [-8716810.50127274,  4016665.21672901],\n",
       "          [-8716828.53057016,  4016666.19353461],\n",
       "          [-8716846.63055805,  4016664.4663413 ],\n",
       "          [-8716864.79344048,  4016660.33289565],\n",
       "          [-8716882.0774329 ,  4016656.98886367],\n",
       "          [-8716882.94413143,  4016656.66540521],\n",
       "          [-8716901.15333919,  4016650.75862315],\n",
       "          [-8716919.27619967,  4016648.1550459 ],\n",
       "          [-8716937.29806826,  4016649.4156552 ],\n",
       "          [-8716955.39271876,  4016647.8912755 ],\n",
       "          [-8717009.75131505,  4016640.46025295],\n",
       "          [-8717027.83389795,  4016639.39701025],\n",
       "          [-8717045.87118969,  4016640.06737704],\n",
       "          [-8717063.96986416,  4016638.38804437],\n",
       "          [-8717082.10636063,  4016635.26057678],\n",
       "          [-8717100.22780259,  4016632.70914211],\n",
       "          [-8717118.3336921 ,  4016630.75291082],\n",
       "          [-8717136.40764238,  4016630.01945346],\n",
       "          [-8717154.51231047,  4016628.10966434],\n",
       "          [-8717155.91671234,  4016627.93261123],\n",
       "          [-8717172.64562213,  4016625.10276226],\n",
       "          [-8717190.77216276,  4016622.35484512],\n",
       "          [-8717208.92912108,  4016618.44162938],\n",
       "          [-8717227.01496962,  4016617.25164809],\n",
       "          [-8717245.12203453,  4016615.24887055],\n",
       "          [-8717258.14862521,  4016612.48811055],\n",
       "          [-8717263.26407968,  4016611.90589467],\n",
       "          [-8717281.35929565,  4016610.35654568],\n",
       "          [-8717299.46292496,  4016608.48471405],\n",
       "          [-8717317.53397274,  4016607.86102157],\n",
       "          [-8717335.61501496,  4016606.85433794],\n",
       "          [-8717353.69371461,  4016605.93733122],\n",
       "          [-8717371.7824441 ,  4016604.63589528],\n",
       "          [-8717389.8744112 ,  4016603.21026022],\n",
       "          [-8717407.98048584,  4016601.24380631],\n",
       "          [-8717424.60381142,  4016598.73410392],\n",
       "          [-8717426.11059538,  4016598.35593776],\n",
       "          [-8717444.26353192,  4016594.59278548],\n",
       "          [-8717462.36990028,  4016592.61429573],\n",
       "          [-8717480.43980564,  4016592.03341258],\n",
       "          [-8717498.55368686,  4016589.76657432],\n",
       "          [-8717516.69599875,  4016586.40947126],\n",
       "          [-8717532.95996354,  4016583.4484164 ],\n",
       "          [-8717534.83132945,  4016583.31966757],\n",
       "          [-8717552.88955588,  4016583.18604259],\n",
       "          [-8717570.95735451,  4016582.68537352],\n",
       "          [-8717589.06663432,  4016580.59391445],\n",
       "          [-8717607.16621532,  4016578.87419934],\n",
       "          [-8717625.26480709,  4016577.19225134],\n",
       "          [-8717643.35334752,  4016575.89566403],\n",
       "          [-8717661.44676356,  4016574.41193421],\n",
       "          [-8717679.53770759,  4016573.02288738],\n",
       "          [-8717697.65325967,  4016570.68966596],\n",
       "          [-8717702.44706788,  4016569.770155  ],\n",
       "          [-8717715.82574386,  4016566.1719707 ],\n",
       "          [-8717733.91357773,  4016564.90160541],\n",
       "          [-8717752.06823537,  4016561.06708416],\n",
       "          [-8717770.19921853,  4016558.14057913],\n",
       "          [-8717788.31208279,  4016555.90906281],\n",
       "          [-8717806.40514853,  4016554.43712141],\n",
       "          [-8717806.86239458,  4016554.37819014],\n",
       "          [-8718059.96089696,  4016524.10373181],\n",
       "          [-8718078.03199457,  4016523.47288906],\n",
       "          [-8718096.10303799,  4016522.8440862 ],\n",
       "          [-8718114.19709116,  4016521.33127638],\n",
       "          [-8718132.27168549,  4016520.56591366],\n",
       "          [-8718150.38430666,  4016518.33943763],\n",
       "          [-8718168.51665226,  4016515.35483261],\n",
       "          [-8718186.59435745,  4016514.46953383],\n",
       "          [-8718204.6719881 ,  4016513.58702696],\n",
       "          [-8718222.79576579,  4016510.93096726],\n",
       "          [-8718223.13426984,  4016510.90280455],\n",
       "          [-8718240.89746748,  4016509.12307581],\n",
       "          [-8718259.04037152,  4016505.73135414]])],\n",
       "  'filename': ['2019-01-16-15-47-52_L8_ID02022-07-26__09_hr_06_min04_pan.tif',\n",
       "   '2019-02-01-15-47-48_L8_ID02022-07-26__09_hr_06_min04_pan.tif'],\n",
       "  'cloud_cover': [0.005014625992478061, 0.0],\n",
       "  'geoaccuracy': [8.291999816894531, 7.664999961853027],\n",
       "  'idx': [1, 3],\n",
       "  'MNDWI_threshold': [-0.2846171414203278, -0.2765567709102658],\n",
       "  'satname': ['L8', 'L8']},\n",
       " 4: {'dates': [datetime.datetime(2019, 1, 16, 15, 47, 52, tzinfo=<UTC>),\n",
       "   datetime.datetime(2019, 2, 1, 15, 47, 48, tzinfo=<UTC>)],\n",
       "  'shorelines': [array([], shape=(0, 2), dtype=float64),\n",
       "   array([], shape=(0, 2), dtype=float64)],\n",
       "  'filename': ['2019-01-16-15-47-52_L8_ID12022-07-26__09_hr_06_min04_pan.tif',\n",
       "   '2019-02-01-15-47-48_L8_ID12022-07-26__09_hr_06_min04_pan.tif'],\n",
       "  'cloud_cover': [0.04437237997310765, 0.0],\n",
       "  'geoaccuracy': [8.291999816894531, 7.664999961853027],\n",
       "  'idx': [1, 3],\n",
       "  'MNDWI_threshold': [-0.304268755082507, -0.3111580441837215],\n",
       "  'satname': ['L8', 'L8']}}"
      ]
     },
     "execution_count": 9,
     "metadata": {},
     "output_type": "execute_result"
    }
   ],
   "source": [
    "extracted_shorelines"
   ]
  },
  {
   "cell_type": "code",
   "execution_count": 10,
   "metadata": {},
   "outputs": [
    {
     "name": "stdout",
     "output_type": "stream",
     "text": [
      "Shoreline present at ROI:  2\n",
      "Time-series of the shoreline change along the transects saved as:\n",
      "C:\\1_USGS_repos\\2_doodleverse\\CoastSeg\\data\\ID12022-07-26__09_hr_06_min04\\transect_time_series.csv\n"
     ]
    },
    {
     "data": {
      "text/plain": [
       "{'2': {'NA0': array([nan, nan]),\n",
       "  'NA1': array([nan, nan]),\n",
       "  'NA2': array([nan, nan]),\n",
       "  'NA3': array([nan, nan]),\n",
       "  'NA4': array([nan, nan]),\n",
       "  'NA5': array([nan, nan]),\n",
       "  'NA6': array([nan, nan]),\n",
       "  'NA7': array([nan, nan]),\n",
       "  'NA8': array([nan, nan]),\n",
       "  'NA9': array([85.27313262, 87.32762759]),\n",
       "  'NA10': array([82.34928603, 88.18567247]),\n",
       "  'NA11': array([83.6164711 , 87.10808286]),\n",
       "  'NA12': array([79.9224158 , 86.07856499]),\n",
       "  'NA13': array([78.98702647,         nan]),\n",
       "  'NA14': array([80.87329845,         nan]),\n",
       "  'NA15': array([80.8710239,        nan]),\n",
       "  'NA16': array([84.67850562, 90.29751207]),\n",
       "  'NA17': array([83.61016962, 91.79067586]),\n",
       "  'NA18': array([84.34436585, 89.06978503]),\n",
       "  'NA19': array([84.86776719, 90.36143195]),\n",
       "  'NA20': array([88.35294668, 91.67498735]),\n",
       "  'NA21': array([91.09908135, 94.93357887]),\n",
       "  'NA22': array([81.99998179, 92.39800452]),\n",
       "  'NA23': array([        nan, 90.91212055]),\n",
       "  'NA24': array([        nan, 92.84147673]),\n",
       "  'NA25': array([        nan, 96.11952698]),\n",
       "  'NA26': array([        nan, 95.28742729]),\n",
       "  'NA27': array([        nan, 94.83085781]),\n",
       "  'NA28': array([        nan, 95.53046328]),\n",
       "  'NA29': array([        nan, 95.59256041]),\n",
       "  'NA30': array([nan, nan]),\n",
       "  'NA31': array([ 96.23653518, 102.04085545]),\n",
       "  'NA32': array([96.7047282 , 97.13824434]),\n",
       "  'NA33': array([94.89903156, 97.52549352])}}"
      ]
     },
     "execution_count": 10,
     "metadata": {},
     "output_type": "execute_result"
    }
   ],
   "source": [
    "cross_distances_rois=coastseg_map.compute_transects(coastseg_map.selected_ROI,extracted_shorelines,pre_process_settings)\n",
    "cross_distances_rois"
   ]
  },
  {
   "cell_type": "code",
   "execution_count": 11,
   "metadata": {
    "scrolled": false
   },
   "outputs": [
    {
     "data": {
      "application/vnd.jupyter.widget-view+json": {
       "model_id": "6034a003d2fc4c2d9f3cbf3d328723c0",
       "version_major": 2,
       "version_minor": 0
      },
      "text/plain": [
       "Checkbox(value=False, description='Use GPU?', indent=False)"
      ]
     },
     "metadata": {},
     "output_type": "display_data"
    },
    {
     "data": {
      "application/vnd.jupyter.widget-view+json": {
       "model_id": "5d0f6249ede549d7bd4e4ee2760ce83d",
       "version_major": 2,
       "version_minor": 0
      },
      "text/plain": [
       "Output()"
      ]
     },
     "metadata": {},
     "output_type": "display_data"
    },
    {
     "data": {
      "application/vnd.jupyter.widget-view+json": {
       "model_id": "88084f5999f340a1a0494626b002a667",
       "version_major": 2,
       "version_minor": 0
      },
      "text/plain": [
       "HBox(children=(RadioButtons(description='Select Model:', options=('landsat_6229071', 'landsat_6230083', 'SWED-…"
      ]
     },
     "metadata": {},
     "output_type": "display_data"
    },
    {
     "data": {
      "application/vnd.jupyter.widget-view+json": {
       "model_id": "1c4b8efc33084e77a3b1c1ddf70f90cb",
       "version_major": 2,
       "version_minor": 0
      },
      "text/plain": [
       "VBox(children=(HTML(value='<h4>Click ONE of the following buttons:</h4>', layout=Layout(margin='0px 0px 0px 0p…"
      ]
     },
     "metadata": {},
     "output_type": "display_data"
    },
    {
     "data": {
      "application/vnd.jupyter.widget-view+json": {
       "model_id": "5d5dc84ee6044f97904d00fb72f630a2",
       "version_major": 2,
       "version_minor": 0
      },
      "text/plain": [
       "Button(description='Use Data Button', style=ButtonStyle())"
      ]
     },
     "metadata": {},
     "output_type": "display_data"
    },
    {
     "data": {
      "application/vnd.jupyter.widget-view+json": {
       "model_id": "ac202779ddd6447bb9cdee0d1ee2bbf1",
       "version_major": 2,
       "version_minor": 0
      },
      "text/plain": [
       "Button(description='Select Your Images', style=ButtonStyle())"
      ]
     },
     "metadata": {},
     "output_type": "display_data"
    },
    {
     "data": {
      "application/vnd.jupyter.widget-view+json": {
       "model_id": "942985b2791746d69c5435084e86c993",
       "version_major": 2,
       "version_minor": 0
      },
      "text/plain": [
       "HTML(value='____________________________________________________')"
      ]
     },
     "metadata": {},
     "output_type": "display_data"
    },
    {
     "data": {
      "application/vnd.jupyter.widget-view+json": {
       "model_id": "31aac87d8a2643a5acd2a6c4f4d7feb6",
       "version_major": 2,
       "version_minor": 0
      },
      "text/plain": [
       "Output(layout=Layout(border='1px solid black'))"
      ]
     },
     "metadata": {},
     "output_type": "display_data"
    },
    {
     "data": {
      "application/vnd.jupyter.widget-view+json": {
       "model_id": "be1722eaaa90474f92f114c864977e1d",
       "version_major": 2,
       "version_minor": 0
      },
      "text/plain": [
       "Button(description='Run Model', style=ButtonStyle())"
      ]
     },
     "metadata": {},
     "output_type": "display_data"
    },
    {
     "data": {
      "application/vnd.jupyter.widget-view+json": {
       "model_id": "b0b33cf35b5e47409eb1c6d9fdb377ed",
       "version_major": 2,
       "version_minor": 0
      },
      "text/plain": [
       "Output(layout=Layout(border='1px solid black'))"
      ]
     },
     "metadata": {},
     "output_type": "display_data"
    }
   ],
   "source": [
    "model_dict={\"sample_direc\":None,\"use_GPU\":False, 'implementation':'ENSEMBLE','model_type':'landsat_6229071'}\n",
    "\n",
    "model_view = Output(layout={'border': '1px solid black'})\n",
    "run_model_view = Output(layout={'border': '1px solid black'})\n",
    "GPU_view = Output()\n",
    "\n",
    "run_model_button = Button(description=\"Run Model\")\n",
    "use_data_button = Button(description=\"Use Data Button\")\n",
    "use_select_images_button = Button(description=\"Select Your Images\")\n",
    "\n",
    "\n",
    "model_implementation = RadioButtons(\n",
    "    options=['ENSEMBLE', 'BEST'],\n",
    "   value='ENSEMBLE',\n",
    "    description='Select:',\n",
    "    disabled=False\n",
    ")\n",
    "\n",
    "model_dropdown = RadioButtons(\n",
    "    options= ['landsat_6229071', 'landsat_6230083','SWED-RGB_6824384','SWED-MNDWI_6824342'],\n",
    "    value='landsat_6229071',\n",
    "    description='Select Model:',\n",
    "    disabled=False,\n",
    ")\n",
    "\n",
    "\n",
    "GPU_checkbox = Checkbox(\n",
    "    value=False,\n",
    "    description='Use GPU?',\n",
    "    disabled=False,\n",
    "    indent=False\n",
    ")\n",
    "\n",
    "\n",
    "def handle_model_type(change):\n",
    "    model_dict[\"model_type\"]=change['new']\n",
    "\n",
    "\n",
    "def handle_model_implementation(change):\n",
    "    model_dict[\"implementation\"]=change['new']\n",
    "\n",
    "\n",
    "@GPU_view.capture(clear_output=True)\n",
    "def handle_GPU_checkbox(change):\n",
    "    if change[\"new\"] == True:\n",
    "        model_dict[\"use_GPU\"]=True\n",
    "        print(\"Using the GPU\")\n",
    "    else:\n",
    "        model_dict[\"use_GPU\"]=False\n",
    "        print(\"Not using the GPU\")\n",
    "        \n",
    "\n",
    "@model_view.capture(clear_output=True)\n",
    "def use_data_button_clicked(button):\n",
    "    # Use the data folder as the input for segmentation\n",
    "    print(\"Loading in the jpgs from the data directory\")\n",
    "    # Copy the jpgs from data to a new folder called segmentation_data_[datetime]\n",
    "    if 'MNDWI' in model_dropdown.value:\n",
    "        sample_direc =r'C:\\1_USGS\\CoastSeg\\repos\\2_CoastSeg\\CoastSeg_fork\\Seg2Map\\MNDWI_outputs\\MNDWI_ouputs_2022-07-21__07_hr_57_min14'\n",
    "#         sample_direc = file_functions.get_jpgs_from_data('MNDWI')\n",
    "#         RGB_path=sample_direc+os.sep+'RGB'\n",
    "#         NIR_path=sample_direc+os.sep+'NIR'\n",
    "#         sample_direc = coastseg_map.RGB_to_MNDWI(RGB_path,NIR_path,sample_direc)\n",
    "        model_dict[\"sample_direc\"]=sample_direc\n",
    "    else:\n",
    "        sample_direc = file_functions.get_jpgs_from_data(None)\n",
    "        model_dict[\"sample_direc\"]=sample_direc\n",
    "        jpgs = glob.glob1(sample_direc + os.sep, \"*jpg\")\n",
    "        if jpgs == []:\n",
    "            raise Exception(\"\\nThe directory contains no jpgs! Please select a directory with jpgs.\")\n",
    "    print(f\"\\nContents of the data directory saved in {sample_direc}\")\n",
    "\n",
    "\n",
    "@model_view.capture(clear_output=True)\n",
    "def use_select_images_button_clicked(button):\n",
    "    # Prompt the user to select a directory of images                              \n",
    "    root.withdraw()                                        # Hide the main window.\n",
    "    root.call('wm', 'attributes', '.', '-topmost', True)   # Raise the root to the top of all windows.\n",
    "    root.filename =  filedialog.askdirectory(initialdir = \"/samples\",title = \"Select directory of images (or npzs) to segment\")\n",
    "    # Save the filename as an attribute of the button\n",
    "    if root.filename:\n",
    "        sample_direc= root.filename\n",
    "        model_dict[\"sample_direc\"]=root.filename\n",
    "        print(f\"The images in the folder will be segmented :\\n{sample_direc} \")\n",
    "        jpgs = glob.glob1(sample_direc + os.sep, \"*jpg\")\n",
    "        if jpgs == []:\n",
    "            raise Exception(\"The directory contains no jpgs! Please select a directory with jpgs.\")\n",
    "    else:\n",
    "        raise Exception(\"You must select a valid directory first!\")\n",
    "\n",
    "@run_model_view.capture(clear_output=True)\n",
    "def run_model_button_clicked(button):\n",
    "    print(\"Called Run Model\")\n",
    "    if model_dict[\"sample_direc\"] is None:\n",
    "        print(\"You must click 'Use Data' or 'Select Images' First\")\n",
    "        return\n",
    "    else:\n",
    "        if model_dict[\"use_GPU\"] == False:\n",
    "            print(\"Not using the GPU\")\n",
    "            ## to use the CPU (not recommended):\n",
    "            os.environ['CUDA_VISIBLE_DEVICES'] = '-1'\n",
    "        elif model_dict[\"use_GPU\"] == True:\n",
    "            print(\"Using the GPU\")\n",
    "            ##use the first available GPU\n",
    "            os.environ['CUDA_VISIBLE_DEVICES'] = '0' #'1'\n",
    "        if 'MNDWI' in model_dropdown.value:\n",
    "            dataset='MNDWI'\n",
    "        else:\n",
    "            dataset='RGB'\n",
    "        dataset_id=model_dict['model_type']\n",
    "#         model_dict['implementation']=model_implementation.value\n",
    "        model_choice=model_dict['implementation']\n",
    "        zoo_model=zoo_model_module.Zoo_Model()\n",
    "        # # First download the specified model\n",
    "        zoo_model.download_model(dataset,dataset_id)\n",
    "        # # Get weights as list\n",
    "        Ww=zoo_model.get_weights_list(model_choice)\n",
    "        # Load the model from the config files\n",
    "        model, model_list, config_files, model_types=zoo_model.get_model(Ww)\n",
    "        metadatadict=zoo_model.get_metadatadict(Ww,config_files, model_types)\n",
    "        # # Compute the segmentation\n",
    "        zoo_model.compute_segmentation(model_dict[\"sample_direc\"], model_list, metadatadict)\n",
    "    \n",
    "    \n",
    "model_implementation.observe(handle_model_implementation,\"value\")\n",
    "model_dropdown.observe(handle_model_type,\"value\")\n",
    "GPU_checkbox.observe(handle_GPU_checkbox,\"value\")\n",
    "\n",
    "\n",
    "run_model_button.on_click(run_model_button_clicked)\n",
    "use_data_button.on_click(use_data_button_clicked)\n",
    "use_select_images_button.on_click(use_select_images_button_clicked)\n",
    "\n",
    "model_choices_box=HBox([model_dropdown, model_implementation])\n",
    "\n",
    "line_widget=HTML(value=\"____________________________________________________\")\n",
    "\n",
    "instr_header=HTML(\n",
    "    value=\"<h4>Click ONE of the following buttons:</h4>\",layout=Layout(margin='0px 0px 0px 0px'))\n",
    "\n",
    "instr_use_data=HTML(\n",
    "    value=\"<b>1. Use Data Folder Button</b> \\\n",
    "        <br> - When CoastSat downloads imagery it created a folder called 'data'in the CoastSeg directory.\\\n",
    "            The jpgs within the 'data' folder will be copied to another folder with a name such as\\\n",
    "            <span style=\\\"background-color:LightGray;\\\">segmentation_data_2022-07-07__10_hr_04_min58 </span>\\\n",
    "            (the date and time will be the current date and time) <br> \\\n",
    "           The model will be applied to this folder and the model outputs will be generated within a subdirectory \\\n",
    "            called 'out'\",layout=Layout(margin='0px 0px 0px 20px'))\n",
    "\n",
    "instr_select_images=HTML(\n",
    "    value=\"<b>2. Select Images Button</b> \\\n",
    "        <br> - This will open a pop up window where the folder containing the jpgs can be selected.<br>\\\n",
    "             - The model will be applied to this folder and the model outputs will be generated within a subdirectory\\\n",
    "             called 'out'<br>\\\n",
    "      - <span style=\\\"background-color:yellow;\\\">WARNING :</span> You will not be able to see the files within the folder you select.<br>\\\n",
    "    \",layout=Layout(margin='0px 0px 0px 20px'))\n",
    "\n",
    "instr_vbox=VBox([instr_header, line_widget, instr_use_data, instr_select_images])\n",
    "\n",
    "display(GPU_checkbox,GPU_view,model_choices_box,instr_vbox,use_data_button,use_select_images_button,line_widget, model_view,run_model_button,run_model_view)"
   ]
  },
  {
   "cell_type": "markdown",
   "metadata": {},
   "source": [
    "## Example Using New RGB_to_MNDWI function\n",
    "Replace `rgb_path` and `nir_path` was the full path to the directories containing the corresponding RGB and NIR images.\n",
    "The outputs will be in a directory called `MNDWI_outputs` as `.npz`"
   ]
  },
  {
   "cell_type": "code",
   "execution_count": null,
   "metadata": {},
   "outputs": [],
   "source": [
    "# Replace these temp paths with the paths you have\n",
    "rgb_path=r'C:\\1_USGS\\CoastSeg\\repos\\2_CoastSeg\\CoastSeg_fork\\Seg2Map\\zenodo_sample_data\\data_sample\\images'\n",
    "nir_path = r'C:\\1_USGS\\CoastSeg\\repos\\2_CoastSeg\\CoastSeg_fork\\Seg2Map\\zenodo_sample_data\\data_sample\\nir'\n",
    "coastseg_map_copy=coastseg_map_class.CoastSeg_Map()\n",
    "coastseg_map_copy.RGB_to_MNDWI(rgb_path,nir_path,os.getcwd())"
   ]
  },
  {
   "cell_type": "code",
   "execution_count": null,
   "metadata": {},
   "outputs": [],
   "source": []
  }
 ],
 "metadata": {
  "kernelspec": {
   "display_name": "Python 3 (ipykernel)",
   "language": "python",
   "name": "python3"
  },
  "language_info": {
   "codemirror_mode": {
    "name": "ipython",
    "version": 3
   },
   "file_extension": ".py",
   "mimetype": "text/x-python",
   "name": "python",
   "nbconvert_exporter": "python",
   "pygments_lexer": "ipython3",
   "version": "3.7.12"
  },
  "vscode": {
   "interpreter": {
    "hash": "9d097efbdf24db87a2507c17c632c6d564e7aff5ba5cfc04e62a44a8b3d6a20a"
   }
  }
 },
 "nbformat": 4,
 "nbformat_minor": 2
}
