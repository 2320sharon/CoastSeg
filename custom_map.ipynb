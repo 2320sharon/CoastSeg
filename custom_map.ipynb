{
 "cells": [
  {
   "cell_type": "code",
   "execution_count": 1,
   "metadata": {},
   "outputs": [
    {
     "name": "stdout",
     "output_type": "stream",
     "text": [
      "Version:  2.9.1\n",
      "Eager mode:  True\n",
      "Version:  2.9.1\n",
      "Eager mode:  True\n",
      "GPU name:  []\n",
      "Num GPUs Available:  0\n"
     ]
    }
   ],
   "source": [
    "import warnings\n",
    "# External Imports\n",
    "from IPython.display import display, clear_output\n",
    "from tkinter import Tk,filedialog\n",
    "from ipyleaflet import GeoJSON\n",
    "# import ipywidgets as widgets\n",
    "from ipywidgets import Button, HBox, VBox, Layout, DatePicker, HTML, RadioButtons, SelectMultiple, Output, Checkbox\n",
    "import ipywidgets\n",
    "import os\n",
    "import datetime\n",
    "import glob\n",
    "import json\n",
    "import pandas as pd\n",
    "import geopandas as gpd\n",
    "from google.auth import exceptions as google_auth_exceptions\n",
    "import ee\n",
    "# New imports for coastsat shoreline extraction\n",
    "import numpy as np\n",
    "# Local Imports \n",
    "from CoastSeg import download_roi, file_functions, zoo_model_module, coastseg_map_class\n",
    "from CoastSeg.CoastSat.coastsat import SDS_shoreline,SDS_download\n",
    "# suppress tensorflow warnings\n",
    "os.environ['TF_CPP_MIN_LOG_LEVEL'] = '3'\n",
    "root = Tk()\n",
    "remove_style=dict(button_color = 'red')\n",
    "load_style=dict(button_color = '#69add1')\n",
    "action_style=dict(button_color = '#ae3cf0')\n",
    "save_style=dict(button_color = '#50bf8f')"
   ]
  },
  {
   "cell_type": "markdown",
   "metadata": {},
   "source": [
    "## Authenticate and Initialize with Google Earth Engine (GEE)\n",
    "- Run this cell to initialize with GEE which will allow you to download remote sensing data from GEE.\n",
    "### First Time Users\n",
    "- In order to use Google Earth Engine (GEE) you will need to sign up to request access to use Google Earth Engine.https://signup.earthengine.google.com. You will only need to do this once and it takes only a day to get your account verified.\n",
    "### How `ee.Authenticate()` works\n",
    "- In order to initialize with GEE you will need an authorization token with is obtained by running `ee.Authenticate()`.This token lasts 7 days and during those 7 days you will not need to authenticate with google earth engine with an access code. Once the 7 days are up you will need to reauthenticate to use GEE again.\n"
   ]
  },
  {
   "cell_type": "code",
   "execution_count": 2,
   "metadata": {},
   "outputs": [],
   "source": [
    "try:\n",
    "    ee.Initialize()\n",
    "except google_auth_exceptions.RefreshError as exception:\n",
    "    print(\"Please authenticate with Google:\\n\")\n",
    "    ee.Authenticate()\n",
    "    ee.Initialize()"
   ]
  },
  {
   "cell_type": "code",
   "execution_count": 3,
   "metadata": {},
   "outputs": [
    {
     "data": {
      "application/vnd.jupyter.widget-view+json": {
       "model_id": "8e9f36553c784335b7a3448863a58ee2",
       "version_major": 2,
       "version_minor": 0
      },
      "text/plain": [
       "VBox(children=(VBox(children=(HTML(value='<b>Pick a date:</b>', layout=Layout(padding='10px')), HBox(children=…"
      ]
     },
     "metadata": {},
     "output_type": "display_data"
    }
   ],
   "source": [
    "# Date Widgets\n",
    "start_date=DatePicker(\n",
    "    description='Start Date',\n",
    "    value=datetime.date(2018, 12, 1),\n",
    "    disabled=False,\n",
    ")\n",
    "end_date=DatePicker(\n",
    "    description='End Date',\n",
    "    value=datetime.date(2019, 3, 1), #2019, 1, 1\n",
    "    disabled=False,\n",
    ")\n",
    "date_instr=HTML(\n",
    "    value=\"<b>Pick a date:</b>\",\n",
    "    layout=Layout(padding='10px')\n",
    ")\n",
    "dates_box=HBox([start_date,end_date])\n",
    "dates_vbox=VBox([date_instr,dates_box])\n",
    "\n",
    "\n",
    "collection_instr=HTML(\n",
    "    value=\"<b>Pick a collection</b>\\\n",
    "        <br> C01: LandSat Collection 1 \\\n",
    "        <br> C02: LandSat Collection 2  [2022/01/01 and beyond] \\\n",
    "        <br>      - Landsat 9 is only available in C02\",\n",
    "    layout=Layout(padding='10px')\n",
    ")\n",
    "collection_radio=RadioButtons(\n",
    "    options=['C01', 'C02'],\n",
    "    value='C01',\n",
    "    description='Collection:',\n",
    "    disabled=False\n",
    ")\n",
    "collection_vbox=VBox([collection_instr,collection_radio])\n",
    "\n",
    "sat_instr=HTML(\n",
    "    value=\"<b>Pick multiple satellites by holding the control key:</b> \\\n",
    "        <br> - images prior to 2022/01/01 will be downloaded from Collection 1 \\\n",
    "        <br> - images after 2022/01/01 will be automatically downloaded from Collection 2 \\\n",
    "        <br> C01: LandSat Collection 1 : All dates before 2022/01/01\\\n",
    "        <br> C02: LandSat Collection 2 : All dates after 2022/01/01 \\\n",
    "        <br> - Landsat 9 is only available in C02\",\n",
    "    layout=Layout(padding='10px')\n",
    ")\n",
    "\n",
    "\n",
    "satellite_selection=SelectMultiple(\n",
    "    options=['L5', 'L7', 'L8', 'S2'],\n",
    "    value=['L8'],\n",
    "    description='Satellites',\n",
    "    disabled=False\n",
    ")\n",
    "sat_vbox = VBox([sat_instr,satellite_selection])\n",
    "\n",
    "def handle_collection_change(change):\n",
    "    if change['new'] == 'C02':\n",
    "        satellite_selection.options=['L5', 'L7', 'L8', 'L9', 'S2']\n",
    "    else:\n",
    "        satellite_selection.options=['L5', 'L7', 'L8', 'S2']\n",
    "\n",
    "collection_radio.observe(handle_collection_change,\"value\")\n",
    "\n",
    "controls_vbox=VBox([dates_vbox, collection_vbox, sat_vbox])\n",
    "controls_vbox"
   ]
  },
  {
   "cell_type": "code",
   "execution_count": 4,
   "metadata": {
    "scrolled": true
   },
   "outputs": [
    {
     "name": "stdout",
     "output_type": "stream",
     "text": [
      "dates: ['2018-12-01', '2019-03-01']\n",
      "collection: C01\n",
      "sat_list: ['L8']\n"
     ]
    }
   ],
   "source": [
    "# CoastSat Download Variables\n",
    "# ------------------------------\n",
    "# Save the satellites selected to sat_list\n",
    "if satellite_selection.value:\n",
    "    sat_list = list(satellite_selection.value)\n",
    "elif not satellite_selection.value:\n",
    "    print(\"ERROR: You must select at least one satellite first\")\n",
    "# Save the dates selected by the user as well as the selected collection\n",
    "dates = [str(start_date.value),str(end_date.value)]\n",
    "collection = collection_radio.value\n",
    "print(f\"dates: {dates}\")\n",
    "print(f\"collection: {collection}\")\n",
    "print(f\"sat_list: {sat_list}\")"
   ]
  },
  {
   "cell_type": "markdown",
   "metadata": {},
   "source": [
    "## Settings for CoastSat\n",
    "Modify any of the following setting to determine how data is downloaded from CoastSat"
   ]
  },
  {
   "cell_type": "code",
   "execution_count": 5,
   "metadata": {},
   "outputs": [],
   "source": [
    "pre_process_settings = { \n",
    "    # general parameters:\n",
    "    'cloud_thresh': 0.5,        # threshold on maximum cloud cover\n",
    "     'dist_clouds': 300,        # ditance around clouds where shoreline can't be mapped\n",
    "    'output_epsg': 3857,        # epsg code of spatial reference system desired for the output   \n",
    "    # quality control:\n",
    "    'check_detection': True,    # if True, shows each shoreline detection to the user for validation\n",
    "    'adjust_detection': False,  # if True, allows user to adjust the postion of each shoreline by changing the threhold\n",
    "    'save_figure': True,        # if True, saves a figure showing the mapped shoreline for each image\n",
    "    # [ONLY FOR ADVANCED USERS] shoreline detection parameters:\n",
    "    'min_beach_area': 4500,     # minimum area (in metres^2) for an object to be labelled as a beach\n",
    "    'buffer_size': 150,         # radius (in metres) of the buffer around sandy pixels considered in the shoreline detection\n",
    "    'min_length_sl': 200,       # minimum length (in metres) of shoreline perimeter to be valid\n",
    "    'cloud_mask_issue': False,  # switch this parameter to True if sand pixels are masked (in black) on many images  \n",
    "    'sand_color': 'default',    # 'default', 'dark' (for grey/black sand beaches) or 'bright' (for white sand beaches)\n",
    "    'pan_off':'False',          # if True, no pan-sharpening is performed on Landsat 7,8 and 9 imagery\n",
    "}"
   ]
  },
  {
   "cell_type": "markdown",
   "metadata": {},
   "source": [
    "# Create the Map\n",
    "- Create the map object here"
   ]
  },
  {
   "cell_type": "code",
   "execution_count": 6,
   "metadata": {},
   "outputs": [],
   "source": [
    "coastseg_map=coastseg_map_class.CoastSeg_Map()"
   ]
  },
  {
   "cell_type": "markdown",
   "metadata": {},
   "source": [
    "# How to Use The Map\n",
    "---\n",
    "1. Use the rectangle tool to draw a bounding box along the coastline.\n",
    "2. Click `Generate ROI` to create ROI rectangles along the coastline in the bounding box. This may take some time.\n",
    "- You should see a coastline appear in yellow and some rectangles along it.\n",
    "3. Click 1 or more ROIs then click `Save ROI` to save these ROIs for downloading later\n",
    "4. You're ready to download the ROIs. Run the next block of code."
   ]
  },
  {
   "cell_type": "code",
   "execution_count": 7,
   "metadata": {},
   "outputs": [
    {
     "data": {
      "application/vnd.jupyter.widget-view+json": {
       "model_id": "287d117b5f614103b75df07a2d412764",
       "version_major": 2,
       "version_minor": 0
      },
      "text/plain": [
       "HBox(children=(VBox(children=(HTML(value='<h2><b>Generate ROIs</b></h2>         Use the two sliders to control…"
      ]
     },
     "metadata": {},
     "output_type": "display_data"
    },
    {
     "data": {
      "application/vnd.jupyter.widget-view+json": {
       "model_id": "ef308d42bed74d4db553fa47f06e8c3b",
       "version_major": 2,
       "version_minor": 0
      },
      "text/plain": [
       "HBox(children=(HBox(children=(Button(description='Load Transects', style=ButtonStyle(button_color='#69add1')),…"
      ]
     },
     "metadata": {},
     "output_type": "display_data"
    },
    {
     "data": {
      "application/vnd.jupyter.widget-view+json": {
       "model_id": "544ea382798842d498ea188103cb8aad",
       "version_major": 2,
       "version_minor": 0
      },
      "text/plain": [
       "HBox(children=(HBox(children=(Button(description='Remove all', style=ButtonStyle(button_color='red')), Button(…"
      ]
     },
     "metadata": {},
     "output_type": "display_data"
    },
    {
     "data": {
      "application/vnd.jupyter.widget-view+json": {
       "model_id": "134bbf06508e45398204ae1d891a5d50",
       "version_major": 2,
       "version_minor": 0
      },
      "text/plain": [
       "HBox(children=(Button(description='Clear TextBox', style=ButtonStyle(button_color='#a3adac')), Output(layout=L…"
      ]
     },
     "metadata": {},
     "output_type": "display_data"
    },
    {
     "data": {
      "application/vnd.jupyter.widget-view+json": {
       "model_id": "fe554d9d11b043ada6281ae35d7c52b1",
       "version_major": 2,
       "version_minor": 0
      },
      "text/plain": [
       "HBox(children=(Map(center=[36, -121.5], controls=(ZoomControl(options=['position', 'zoom_in_text', 'zoom_in_ti…"
      ]
     },
     "metadata": {},
     "output_type": "display_data"
    },
    {
     "data": {
      "application/vnd.jupyter.widget-view+json": {
       "model_id": "787bc41ee5dd40849c483124b64cb8ff",
       "version_major": 2,
       "version_minor": 0
      },
      "text/plain": [
       "HBox(children=(Output(layout=Layout(border='1px solid black')),))"
      ]
     },
     "metadata": {},
     "output_type": "display_data"
    }
   ],
   "source": [
    "# Controls size of ROIs generated on map\n",
    "small_roi_size = 3500\n",
    "large_roi_size = 4000\n",
    "fishnet_sizes={'small':small_roi_size,'large':large_roi_size}\n",
    "\n",
    "# Output wdiget used to print messages and exceptions created by download progress\n",
    "download_view = Output(layout={'border': '1px solid black'})\n",
    "# Output wdiget used to print messages and exceptions created by CoastSeg_Map\n",
    "debug_view = Output(layout={'border': '1px solid black'})\n",
    "\n",
    "\n",
    "# load buttons\n",
    "transects_button = Button(description=\"Load Transects\",style=load_style)\n",
    "shoreline_button = Button(description=\"Load Shoreline\",style=load_style)\n",
    "load_rois_button = Button(description=\"Load rois from file\",style=load_style)\n",
    "load_bbox_button = Button(description=\"Load bbox from file\",style=load_style)\n",
    "\n",
    "# Save and Generate buttons\n",
    "gen_button =Button(description=\"Generate ROI\",style=action_style)\n",
    "save_button = Button(description=\"Save ROI\",style=save_style)\n",
    "save_bbox_button = Button(description=\"Save Bbox\",style=save_style)\n",
    "download_button = Button(description=\"Download ROIs\",style=action_style)\n",
    "\n",
    "\n",
    "# Remove buttons\n",
    "clear_debug_button = Button(description=\"Clear TextBox\")\n",
    "clear_debug_button.style.button_color = '#a3adac'\n",
    "\n",
    "remove_all_button = Button(description=\"Remove all\",style=remove_style)\n",
    "remove_transects_button = Button(description=\"Remove transects\",style=remove_style)\n",
    "remove_bbox_button = Button(description=\"Remove bbox\",style=remove_style)\n",
    "remove_coastline_button = Button(description=\"Remove coastline\",style=remove_style)\n",
    "remove_rois_button = Button(description=\"Remove ROIs\",style=remove_style)\n",
    "\n",
    "# widgets\n",
    "instr_create_roi=HTML(\n",
    "    value=\"<h2><b>Generate ROIs</b></h2> \\\n",
    "        Use the two sliders to control the size of the ROIs generated.<br>\\\n",
    "            <li> No Overlap: Set small slider to 0 and large slider to desired ROI size.</li>\\\n",
    "            <li>Overlap: Set small slider to a value and large slider to desired ROI size.</li>\\\n",
    "            <b>How it Works</b><br> \\\n",
    "            Two fishnets (grids) are created out of ROIs (squares) and placed <br> \\\n",
    "            within the bounding box.You control the size of the individual ROIs <br> \\\n",
    "            that compose the small and large fishnets.<br>\\\n",
    "            The ROIs are measured in meters squared.\",layout=Layout(margin='0px 5px 0px 0px'))\n",
    "\n",
    "instr_save_roi=HTML(\n",
    "    value=\"<h2><b>Save ROIs</b></h2> \\\n",
    "        You must click save ROI before you can download ROIs\\\n",
    "        <br> Use the save buttons to save the ROIs you selected <br>\\\n",
    "           <li> Save BBox: Save the bounding box to a geojson file called 'bbox.geojson'</li>\\\n",
    "            <li> Save ROIs: Save the selected ROI to a geojson file called 'rois.geojson'</li>\\\n",
    "            \",layout=Layout(margin='0px 5px 0px 5px')) #top right bottom left\n",
    "\n",
    "instr_download_roi=HTML(\n",
    "    value=\"<h2><b>Download ROIs</b></h2> \\\n",
    "         <b> You must click 'Save ROI' before you can download ROIs</b> \\\n",
    "          </br> Scroll past the map to see the download progress \\\n",
    "            <li> The data you downloaded will be in the 'data' folder</li> \\\n",
    "            \",layout=Layout(margin='0px 0px 0px 5px'))\n",
    "\n",
    "instr_load_btns=HTML(\n",
    "    value=\"<h2><b>Load ROIs/BBox</b></h2>\\\n",
    "         You can upload ROIs or Bbox geojson file.\\\n",
    "            <li> Load BBox: Load bounding box from geojson file (ex. 'bbox.geojson')</li>\\\n",
    "           <li> Load ROIs: Load ROIs from geojson file (ex. 'rois.geojson')</li>\\\n",
    "            \",layout=Layout(margin='0px 5px 0px 5px')) #top right bottom left\n",
    "\n",
    "slider_style = {'description_width': 'initial'}\n",
    "small_fishnet_slider=ipywidgets.IntSlider(\n",
    "    value=small_roi_size,\n",
    "    min=0,\n",
    "    max=10000,\n",
    "    step=100,\n",
    "    description='Small Fishnet:',\n",
    "    disabled=False,\n",
    "    continuous_update=False,\n",
    "    orientation='horizontal',\n",
    "    readout=True,\n",
    "    readout_format='d',\n",
    "    style=slider_style\n",
    ")\n",
    "\n",
    "large_fishnet_slider=ipywidgets.IntSlider(\n",
    "    value=large_roi_size,\n",
    "    min=1000,\n",
    "    max=10000,\n",
    "    step=100,\n",
    "    description='Large Fishnet:',\n",
    "    disabled=False,\n",
    "    continuous_update=False,\n",
    "    orientation='horizontal',\n",
    "    readout=True,\n",
    "    readout_format='d',\n",
    "    style=slider_style\n",
    ")\n",
    "\n",
    "def handle_small_slider_change(change):\n",
    "    fishnet_sizes['small']=change['new']\n",
    "def handle_large_slider_change(change):\n",
    "    fishnet_sizes['large']=change['new']\n",
    "\n",
    "@download_view.capture(clear_output=True)\n",
    "def download_button_clicked(btn):\n",
    "    \n",
    "    download_view.clear_output()\n",
    "    debug_view.clear_output()\n",
    "    if coastseg_map.selected_ROI:\n",
    "        coastseg_map.m.default_style = {'cursor': 'wait'}\n",
    "        debug_view.append_stdout(\"Scroll down past map to see download progress.\")\n",
    "        try:\n",
    "            download_button_clicked.disabled=True\n",
    "            download_roi.download_imagery(coastseg_map.selected_ROI,pre_process_settings,dates,sat_list,collection)\n",
    "        except google_auth_exceptions.RefreshError as exception:\n",
    "            print(exception)\n",
    "            print(\"Please authenticate with Google using the cell above: \\n  'Authenticate and Initialize with Google Earth Engine (GEE)'\")\n",
    "    else:\n",
    "        debug_view.append_stdout(\"No ROIs were selected. \\nPlease select at least one ROI and click 'Save ROI' to save these ROI for download.\")\n",
    "    download_button_clicked.disabled=False\n",
    "    coastseg_map.m.default_style = {'cursor': 'default'}\n",
    "\n",
    "@debug_view.capture(clear_output=True)\n",
    "def on_shoreline_button_clicked(b):\n",
    "    if coastseg_map.shapes_list == [] :\n",
    "        print(\"Draw a bounding box on the coast first, then click Load Transects.\")\n",
    "    else:\n",
    "        coastseg_map.m.default_style = {'cursor': 'wait'}\n",
    "        debug_view.clear_output(wait=True)\n",
    "        print(\"Loading shoreline please wait.\") \n",
    "        # Add the transects to the map\n",
    "        coastseg_map.load_shoreline_on_map()\n",
    "        print(\"Shoreline loaded.\")\n",
    "        coastseg_map.m.default_style = {'cursor': 'default'}\n",
    "        \n",
    "@debug_view.capture(clear_output=True)\n",
    "def on_load_rois_clicked(button):\n",
    "    # Prompt the user to select a directory of images                              \n",
    "    root.withdraw()                                        # Hide the main window.\n",
    "    root.call('wm', 'attributes', '.', '-topmost', True)   # Raise the root to the top of all windows.\n",
    "    root.filename =  filedialog.askopenfilename(initialdir = os.getcwd(),\n",
    "                                                filetypes=[('geojson','*.geojson')],\n",
    "                                                title = \"Select a geojson file containing rois\")\n",
    "    # Save the filename as an attribute of the button\n",
    "    if root.filename:\n",
    "        roi_file= root.filename\n",
    "        rois = gpd.read_file(roi_file)\n",
    "        # style fishnet and convert to dictionary to be added to map\n",
    "        rois_dict = coastseg_map.style_rois(rois)\n",
    "        # Save the styled fishnet to data for interactivity to be added later\n",
    "        coastseg_map.data = rois_dict\n",
    "        # Add the Clickable ROIs to the map\n",
    "        coastseg_map.add_geojson_layer_to_map()\n",
    "        \n",
    "        print(f\"Loaded the rois from the file :\\n{roi_file} \")\n",
    "    else:\n",
    "        raise Exception(\"You must select a valid geojson file first!\")\n",
    "\n",
    "@debug_view.capture(clear_output=True)\n",
    "def on_load_bbox_clicked(button):\n",
    "    # Prompt the user to select a directory of images                              \n",
    "    root.withdraw()                                        # Hide the main window.\n",
    "    root.call('wm', 'attributes', '.', '-topmost', True)   # Raise the root to the top of all windows.\n",
    "    root.filename =  filedialog.askopenfilename(initialdir = os.getcwd(),\n",
    "                                                filetypes=[('geojson','*.geojson')],\n",
    "                                                title = \"Select a geojson file containing bbox\")\n",
    "    # Save the filename as an attribute of the button\n",
    "    if root.filename:\n",
    "        bbox_file= root.filename\n",
    "        bbox_geodf = gpd.read_file(bbox_file)\n",
    "        bbox_geojson = bbox_geodf.to_json()\n",
    "        bbox_dict = json.loads(bbox_geojson)\n",
    "        coastseg_map.shapes_list.append(bbox_dict['features'][0]['geometry'])\n",
    "        bbox_layer = GeoJSON(\n",
    "            data=bbox_dict,\n",
    "            name=\"Bbox\",\n",
    "            style={\n",
    "                'color': '#75b671',\n",
    "                'fill_color': '#75b671',\n",
    "                'opacity': 1,\n",
    "                'fillOpacity': 0.2,\n",
    "                'weight': 4},\n",
    "        )\n",
    "        coastseg_map.m.add_layer(bbox_layer)\n",
    "        \n",
    "        print(f\"Loaded the rois from the file :\\n{bbox_file} \")\n",
    "    else:\n",
    "        raise Exception(\"You must select a valid geojson file first!\")\n",
    "\n",
    "\n",
    "\n",
    "@debug_view.capture(clear_output=True)\n",
    "def on_transects_button_clicked(b):\n",
    "    if coastseg_map.shapes_list == [] :\n",
    "        print(\"Draw a bounding box on the coast first, then click Load Transects.\")\n",
    "    else:\n",
    "        debug_view.clear_output(wait=True)\n",
    "        coastseg_map.m.default_style = {'cursor': 'wait'}\n",
    "        print(\"Loading transects please wait.\") \n",
    "        # Add the transects to the map\n",
    "        coastseg_map.load_transects_on_map()\n",
    "        print(\"Transects Loaded.\")\n",
    "        coastseg_map.m.default_style = {'cursor': 'default'}\n",
    "\n",
    "        \n",
    "@debug_view.capture(clear_output=True)\n",
    "def on_gen_button_clicked(b):\n",
    "    if coastseg_map.shapes_list == [] :\n",
    "        print(\"Draw a bounding box on the coast first, then click Generate ROI.\")\n",
    "    else:\n",
    "        debug_view.clear_output(wait=True)\n",
    "        coastseg_map.m.default_style = {'cursor': 'wait'}\n",
    "        print(\"Generating ROIs please wait.\") \n",
    "        # Generate ROIs along the coastline within the bounding box\n",
    "        coastseg_map.generate_ROIS_fishnet(fishnet_sizes['large'],fishnet_sizes['small'])\n",
    "        # coastseg_map.generate_ROIS_fishnet(5000,0)\n",
    "        # debug_view.clear_output(wait=True)\n",
    "        # Add the Clickable ROIs to the map\n",
    "        coastseg_map.add_geojson_layer_to_map()\n",
    "        print(\"ROIs generated. Please Select at least one ROI and click Save ROI.\")\n",
    "        coastseg_map.m.default_style = {'cursor': 'default'}\n",
    "        \n",
    "@debug_view.capture(clear_output=True)\n",
    "def on_save_bbox_button_clicked(b):\n",
    "    if coastseg_map.shapes_list != [] :\n",
    "        debug_view.clear_output(wait=True)\n",
    "        # Save selected bbox to a geojson file\n",
    "        coastseg_map.save_bbox_to_file() \n",
    "        debug_view.clear_output(wait=True)\n",
    "        print(\"BBox have been saved. Saved to bbox.geojson\")\n",
    "    else:\n",
    "         print(\"Draw a bounding box on the coast first\")\n",
    "\n",
    "        \n",
    "@debug_view.capture(clear_output=True)\n",
    "def on_save_button_clicked(b):\n",
    "    if coastseg_map.selected_set:\n",
    "        if len(coastseg_map.selected_set) == 0:\n",
    "             print(\"Must select at least 1 ROI first before you can save ROIs.\")\n",
    "        else:\n",
    "            debug_view.clear_output(wait=True)\n",
    "            coastseg_map.save_roi_fishnet(\"fishnet_rois.geojson\")\n",
    "            print(\"Saving ROIs\")\n",
    "            debug_view.clear_output(wait=True)\n",
    "            print(\"ROIs have been saved. Now click Download ROI to download the ROIs using CoastSat\")\n",
    "    else:\n",
    "        print(\"No ROIs were selected.\")\n",
    "\n",
    "\n",
    "def remove_all_from_map(b):\n",
    "    coastseg_map.remove_all()\n",
    "def remove_transects(b):\n",
    "    coastseg_map.remove_transects()\n",
    "def remove_bbox_from_map(b):\n",
    "    coastseg_map.remove_bbox()\n",
    "def remove_coastline_from_map(b):\n",
    "    coastseg_map.remove_shoreline()\n",
    "def remove_all_rois_from_map(b):\n",
    "    coastseg_map.remove_all_rois()\n",
    "def clear_debug_view(b):\n",
    "    debug_view.clear_output()\n",
    "    download_view.clear_output()\n",
    "\n",
    "# widget handlers\n",
    "small_fishnet_slider.observe(handle_small_slider_change,'value')\n",
    "large_fishnet_slider.observe(handle_large_slider_change,'value')\n",
    "\n",
    "# button handlers\n",
    "download_button.on_click(download_button_clicked)\n",
    "        \n",
    "transects_button.on_click(on_transects_button_clicked)    \n",
    "shoreline_button.on_click(on_shoreline_button_clicked) \n",
    "load_rois_button.on_click(on_load_rois_clicked)\n",
    "load_bbox_button.on_click(on_load_bbox_clicked)\n",
    "\n",
    "gen_button.on_click(on_gen_button_clicked)\n",
    "save_button.on_click(on_save_button_clicked)\n",
    "save_bbox_button.on_click(on_save_bbox_button_clicked)\n",
    "clear_debug_button.on_click(clear_debug_view)\n",
    "\n",
    "\n",
    "remove_all_button.on_click(remove_all_from_map)\n",
    "remove_transects_button.on_click(remove_transects)\n",
    "remove_bbox_button.on_click(remove_bbox_from_map)\n",
    "remove_coastline_button.on_click(remove_coastline_from_map)\n",
    "remove_rois_button.on_click(remove_all_rois_from_map)\n",
    "\n",
    "save_vbox = VBox([instr_save_roi,save_button,save_bbox_button, instr_load_btns, load_rois_button, load_bbox_button])\n",
    "download_vbox = VBox([instr_download_roi,download_button])\n",
    "\n",
    "slider_v_box = VBox([small_fishnet_slider, large_fishnet_slider])\n",
    "slider_btn_box = HBox([slider_v_box, gen_button])\n",
    "roi_controls_box = VBox([instr_create_roi, slider_btn_box],layout=Layout(margin='0px 5px 5px 0px'))\n",
    "\n",
    "action_buttons =  HBox([clear_debug_button])\n",
    "load_buttons = HBox([transects_button, shoreline_button])\n",
    "erase_buttons = HBox([remove_all_button, remove_transects_button, remove_bbox_button, remove_coastline_button, remove_rois_button])\n",
    "\n",
    "\n",
    "row_1 = HBox([roi_controls_box,save_vbox,download_vbox])\n",
    "row_2 = HBox([load_buttons])\n",
    "row_3 = HBox([erase_buttons])\n",
    "row_4 = HBox([clear_debug_button, debug_view])\n",
    "row_5 = HBox([coastseg_map.m])\n",
    "row_6 = HBox([download_view])\n",
    "\n",
    "display(row_1,row_2, row_3, row_4, row_5, row_6)"
   ]
  },
  {
   "cell_type": "markdown",
   "metadata": {},
   "source": [
    "## Download the Selected ROIs\n",
    "- Download the satellite imagery for the ROIs using CoastSat.\n",
    "\n",
    "⚠️ Make sure you have clicked `Save ROI` before running the following code.\n",
    " \n",
    "### Parameters for download_imagery()\n",
    "1. `coastseg_map.selected_ROI` : geojson for the ROI clicked\n",
    "2. `pre_process_settings`: settings for downloading data using CoastSat\n",
    "3. `dates` : date range to download the imagery\n",
    "4. `sat_list` : list of satellites to download imagery from\n",
    "5. `collection` : LandSat Collection 1 (`C01`) or Collection 2 (`C02`)"
   ]
  },
  {
   "cell_type": "code",
   "execution_count": 9,
   "metadata": {},
   "outputs": [
    {
     "data": {
      "application/vnd.jupyter.widget-view+json": {
       "model_id": "65eff6b083e84bff918c162447a051c7",
       "version_major": 2,
       "version_minor": 0
      },
      "text/plain": [
       "HBox(children=(Checkbox(value=False, description='Use GPU?', indent=False), Checkbox(value=False, description=…"
      ]
     },
     "metadata": {},
     "output_type": "display_data"
    },
    {
     "data": {
      "application/vnd.jupyter.widget-view+json": {
       "model_id": "e16141116d1d43beaeafbe713107bb97",
       "version_major": 2,
       "version_minor": 0
      },
      "text/plain": [
       "Output()"
      ]
     },
     "metadata": {},
     "output_type": "display_data"
    },
    {
     "data": {
      "application/vnd.jupyter.widget-view+json": {
       "model_id": "3b21978cdc9a4cf7a82cf7cdbc82fe33",
       "version_major": 2,
       "version_minor": 0
      },
      "text/plain": [
       "HBox(children=(RadioButtons(description='Select Model:', options=('landsat_6229071', 'landsat_6230083', 'SWED-…"
      ]
     },
     "metadata": {},
     "output_type": "display_data"
    },
    {
     "data": {
      "application/vnd.jupyter.widget-view+json": {
       "model_id": "d370ab43be8c4544b659a87086304d7c",
       "version_major": 2,
       "version_minor": 0
      },
      "text/plain": [
       "VBox(children=(HTML(value='<h4>Click ONE of the following buttons:</h4>', layout=Layout(margin='0px 0px 0px 0p…"
      ]
     },
     "metadata": {},
     "output_type": "display_data"
    },
    {
     "data": {
      "application/vnd.jupyter.widget-view+json": {
       "model_id": "2bf33172c99f490caa09c09ab4e85ce1",
       "version_major": 2,
       "version_minor": 0
      },
      "text/plain": [
       "Button(description='Use Data Button', style=ButtonStyle(button_color='#69add1'))"
      ]
     },
     "metadata": {},
     "output_type": "display_data"
    },
    {
     "data": {
      "application/vnd.jupyter.widget-view+json": {
       "model_id": "4c92077dc3e149f688cc5042eb868a08",
       "version_major": 2,
       "version_minor": 0
      },
      "text/plain": [
       "Button(description='Select Your Images', style=ButtonStyle(button_color='#69add1'))"
      ]
     },
     "metadata": {},
     "output_type": "display_data"
    },
    {
     "data": {
      "application/vnd.jupyter.widget-view+json": {
       "model_id": "7447cae2ac9e4d6783b0ef2324893ce2",
       "version_major": 2,
       "version_minor": 0
      },
      "text/plain": [
       "HTML(value='____________________________________________________')"
      ]
     },
     "metadata": {},
     "output_type": "display_data"
    },
    {
     "data": {
      "application/vnd.jupyter.widget-view+json": {
       "model_id": "e9d4e34ec04145e095c8cf4640c1abf9",
       "version_major": 2,
       "version_minor": 0
      },
      "text/plain": [
       "Output(layout=Layout(border='1px solid black'))"
      ]
     },
     "metadata": {},
     "output_type": "display_data"
    },
    {
     "data": {
      "application/vnd.jupyter.widget-view+json": {
       "model_id": "dea6fa5906924120856eb7389fc6693b",
       "version_major": 2,
       "version_minor": 0
      },
      "text/plain": [
       "Button(description='Run Model', style=ButtonStyle(button_color='#ae3cf0'))"
      ]
     },
     "metadata": {},
     "output_type": "display_data"
    },
    {
     "data": {
      "application/vnd.jupyter.widget-view+json": {
       "model_id": "2b8ec51de8354b3392417b2dd6a66dea",
       "version_major": 2,
       "version_minor": 0
      },
      "text/plain": [
       "Output(layout=Layout(border='1px solid black'))"
      ]
     },
     "metadata": {},
     "output_type": "display_data"
    },
    {
     "data": {
      "application/vnd.jupyter.widget-view+json": {
       "model_id": "9893cb9b50654361b5d1cf33d8b45557",
       "version_major": 2,
       "version_minor": 0
      },
      "text/plain": [
       "Button(description='Open Model Results', style=ButtonStyle(button_color='#69add1'))"
      ]
     },
     "metadata": {},
     "output_type": "display_data"
    }
   ],
   "source": [
    "model_dict={'sample_direc':None,'use_GPU':False,'use_CRF':False, 'implementation':'ENSEMBLE','model_type':'landsat_6229071'}\n",
    "\n",
    "model_view = Output(layout={'border': '1px solid black'})\n",
    "run_model_view = Output(layout={'border': '1px solid black'})\n",
    "GPU_view = Output()\n",
    "\n",
    "run_model_button = Button(description=\"Run Model\",style=action_style)\n",
    "use_data_button = Button(description=\"Use Data Button\",style=load_style)\n",
    "use_select_images_button = Button(description=\"Select Your Images\",style=load_style)\n",
    "open_results_button = Button(description=\"Open Model Results\",style=load_style)\n",
    "\n",
    "model_implementation = RadioButtons(\n",
    "    options=['ENSEMBLE', 'BEST'],\n",
    "   value='ENSEMBLE',\n",
    "    description='Select:',\n",
    "    disabled=False\n",
    ")\n",
    "\n",
    "model_dropdown = RadioButtons(\n",
    "    options= ['landsat_6229071', 'landsat_6230083','SWED-RGB_6824384','SWED-MNDWI_6824342','coast-train-RGB_6950479', 'S2-water-SWED_6950474'],\n",
    "    value='landsat_6229071',\n",
    "    description='Select Model:',\n",
    "    disabled=False,\n",
    ")\n",
    "\n",
    "\n",
    "GPU_checkbox = Checkbox(\n",
    "    value=False,\n",
    "    description='Use GPU?',\n",
    "    disabled=False,\n",
    "    indent=False\n",
    ")\n",
    "\n",
    "CRF_checkbox = Checkbox(\n",
    "    value=False,\n",
    "    description='Use CRF post-processing',\n",
    "    disabled=False,\n",
    "    indent=False\n",
    ")\n",
    "\n",
    "\n",
    "def handle_model_type(change):\n",
    "    model_dict[\"model_type\"]=change['new']\n",
    "\n",
    "\n",
    "def handle_model_implementation(change):\n",
    "    model_dict[\"implementation\"]=change['new']\n",
    "\n",
    "\n",
    "@GPU_view.capture(clear_output=True)\n",
    "def handle_GPU_checkbox(change):\n",
    "    if change[\"new\"] == True:\n",
    "        model_dict[\"use_GPU\"]=True\n",
    "        print(\"Using the GPU\")\n",
    "    else:\n",
    "        model_dict[\"use_GPU\"]=False\n",
    "        print(\"Not using the GPU\")\n",
    "\n",
    "        \n",
    "@GPU_view.capture(clear_output=True)\n",
    "def handle_CRF_checkbox(change):\n",
    "    if change[\"new\"] == True:\n",
    "        model_dict[\"use_CRF\"]=True\n",
    "        print(\"Using CRF post-processing\")\n",
    "    else:\n",
    "        model_dict[\"use_CRF\"]=False\n",
    "        print(\"Not using CRF post-processing\")\n",
    "        \n",
    "\n",
    "@model_view.capture(clear_output=True)\n",
    "def use_data_button_clicked(button):\n",
    "    # Use the data folder as the input for segmentation\n",
    "    print(\"Loading in the jpgs from the data directory\")\n",
    "    # Copy the jpgs from data to a new folder called segmentation_data_[datetime]\n",
    "    if 'MNDWI' in model_dropdown.value:\n",
    "        sample_direc =r'C:\\1_USGS\\CoastSeg\\repos\\2_CoastSeg\\CoastSeg_fork\\Seg2Map\\MNDWI_outputs\\MNDWI_ouputs_2022-07-21__07_hr_57_min14'\n",
    "#         sample_direc = file_functions.get_jpgs_from_data('MNDWI')\n",
    "#         RGB_path=sample_direc+os.sep+'RGB'\n",
    "#         NIR_path=sample_direc+os.sep+'NIR'\n",
    "#         sample_direc = coastseg_map.RGB_to_MNDWI(RGB_path,NIR_path,sample_direc)\n",
    "        model_dict[\"sample_direc\"]=sample_direc\n",
    "    else:\n",
    "        sample_direc = file_functions.get_jpgs_from_data('RGB')\n",
    "        jpgs = glob.glob1(sample_direc + os.sep, \"*jpg\")\n",
    "        if jpgs == []:\n",
    "            # raise Exception(\"\\nThe directory contains no jpgs! Please select a directory with jpgs.\")\n",
    "            print(\"\\nERROR!\\nThe directory contains no jpgs! Please select a directory with jpgs.\")\n",
    "        elif jpgs != []:\n",
    "            model_dict[\"sample_direc\"]=sample_direc\n",
    "    print(f\"\\nContents of the data directory saved in {sample_direc}\")\n",
    "\n",
    "\n",
    "@model_view.capture(clear_output=True)\n",
    "def use_select_images_button_clicked(button):\n",
    "    # Prompt the user to select a directory of images                              \n",
    "    root.withdraw()                                        # Hide the main window.\n",
    "    root.call('wm', 'attributes', '.', '-topmost', True)   # Raise the root to the top of all windows.\n",
    "    # path to data directory containing data downloaded using coastsat\n",
    "    data_path = os.path.join(os.getcwd(),'data')\n",
    "    if os.path.exists(data_path):\n",
    "        data_path = os.path.join(os.getcwd(),'data')\n",
    "    else: \n",
    "        data_path = os.getcwd()\n",
    "    root.filename =  filedialog.askdirectory(initialdir = data_path,title = \"Select directory of images\",)\n",
    "    # Save the filename as an attribute of the button\n",
    "    if root.filename:\n",
    "        sample_direc= root.filename\n",
    "        print(f\"The images in the folder will be segmented :\\n{sample_direc} \")\n",
    "        jpgs = glob.glob1(sample_direc + os.sep, \"*jpg\")\n",
    "        if jpgs == []:\n",
    "            # raise Exception(\"\\nThe directory contains no jpgs! Please select a directory with jpgs.\")\n",
    "            print(\"\\nERROR!\\nThe directory contains no jpgs! Please select a directory with jpgs.\")\n",
    "        elif jpgs != []:\n",
    "            model_dict[\"sample_direc\"]=sample_direc\n",
    "    else:\n",
    "        # raise Exception(\"You must select a valid directory first!\")\n",
    "        print(\"You must select a valid directory first!\")\n",
    "\n",
    "@run_model_view.capture(clear_output=True)\n",
    "def run_model_button_clicked(button):\n",
    "    print(\"Called Run Model\")\n",
    "    if model_dict[\"sample_direc\"] is None:\n",
    "        print(\"You must click 'Use Data' or 'Select Images' First\")\n",
    "        return\n",
    "    else:\n",
    "        if model_dict[\"use_GPU\"] == False:\n",
    "            print(\"Not using the GPU\")\n",
    "            ## to use the CPU (not recommended):\n",
    "            os.environ['CUDA_VISIBLE_DEVICES'] = '-1'\n",
    "        elif model_dict[\"use_GPU\"] == True:\n",
    "            print(\"Using the GPU\")\n",
    "            ##use the first available GPU\n",
    "            os.environ['CUDA_VISIBLE_DEVICES'] = '0' #'1'\n",
    "        if 'MNDWI' in model_dropdown.value:\n",
    "            dataset='MNDWI'\n",
    "        else:\n",
    "            dataset='RGB'\n",
    "        # Disable run and open results buttons while the model is running\n",
    "        open_results_button.disabled = True\n",
    "        run_model_button.disabled = True\n",
    "        dataset_id=model_dict['model_type']\n",
    "        # model_dict['implementation']=model_implementation.value\n",
    "        model_choice=model_dict['implementation']\n",
    "        zoo_model=zoo_model_module.Zoo_Model()\n",
    "        # First download the specified model\n",
    "        zoo_model.download_model(dataset,dataset_id)\n",
    "        # Get weights as list\n",
    "        Ww=zoo_model.get_weights_list(model_choice)\n",
    "        # Load the model from the config files\n",
    "        model, model_list, config_files, model_types=zoo_model.get_model(Ww)\n",
    "        metadatadict=zoo_model.get_metadatadict(Ww,config_files, model_types)\n",
    "        # # Compute the segmentation\n",
    "        zoo_model.compute_segmentation(model_dict[\"sample_direc\"], model_list, metadatadict,model_dict['use_CRF'])\n",
    "        # Enable  run and open results buttons when model has exexcuted\n",
    "        run_model_button.disabled = False\n",
    "        open_results_button.disabled = False\n",
    "\n",
    "        \n",
    "@run_model_view.capture(clear_output=True)\n",
    "def open_results_button_clicked(button):\n",
    "    if model_dict[\"sample_direc\"] is None:\n",
    "        print(\"You must click 'Run Model' first\")\n",
    "    else:\n",
    "        # Open file viewer using tkinter                          \n",
    "        root.withdraw()                                        # Hide the main window.\n",
    "        root.call('wm', 'attributes', '.', '-topmost', True)   # Raise the root to the top of all windows.\n",
    "        # path to directory containing model outputs\n",
    "        model_results_path = os.path.abspath(model_dict[\"sample_direc\"])\n",
    "        if not os.path.exists(model_results_path):\n",
    "             raise FileNotFoundError\n",
    "        filedialog.askopenfiles(initialdir = model_results_path,title = \"Open Results\")\n",
    "    \n",
    "    \n",
    "model_implementation.observe(handle_model_implementation,\"value\")\n",
    "model_dropdown.observe(handle_model_type,\"value\")\n",
    "GPU_checkbox.observe(handle_GPU_checkbox,\"value\")\n",
    "CRF_checkbox.observe(handle_CRF_checkbox,\"value\")\n",
    "\n",
    "\n",
    "run_model_button.on_click(run_model_button_clicked)\n",
    "use_data_button.on_click(use_data_button_clicked)\n",
    "use_select_images_button.on_click(use_select_images_button_clicked)\n",
    "open_results_button.on_click(open_results_button_clicked)\n",
    "\n",
    "\n",
    "line_widget=HTML(value=\"____________________________________________________\")\n",
    "\n",
    "instr_header=HTML(\n",
    "    value=\"<h4>Click ONE of the following buttons:</h4>\",layout=Layout(margin='0px 0px 0px 0px'))\n",
    "\n",
    "instr_use_data=HTML(\n",
    "    value=\"<b>1. Use Data Folder Button</b> \\\n",
    "        <br> - When CoastSat downloads imagery it created a folder called 'data'in the CoastSeg directory.\\\n",
    "            The jpgs within the 'data' folder will be copied to another folder with a name such as\\\n",
    "            <span style=\\\"background-color:LightGray;color: black;\\\">segmentation_data_2022-07-07__10_hr_04_min58 </span>\\\n",
    "            (the date and time will be the current date and time) <br> \\\n",
    "           The model will be applied to this folder and the model outputs will be generated within a subdirectory \\\n",
    "            called 'out'\",layout=Layout(margin='0px 0px 0px 20px'))\n",
    "\n",
    "instr_select_images=HTML(\n",
    "    value=\"<b>2. Select Images Button</b> \\\n",
    "        <br> - This will open a pop up window where the folder containing the jpgs can be selected.<br>\\\n",
    "             - The model will be applied to this folder and the model outputs will be generated within a subdirectory\\\n",
    "             called 'out'<br>\\\n",
    "      - <span style=\\\"background-color:yellow;color: black;\\\">WARNING :</span> You will not be able to see the files within the folder you select.<br>\\\n",
    "    \",layout=Layout(margin='0px 0px 0px 20px'))\n",
    "\n",
    "instr_run_model=HTML(\n",
    "    value=\"<b>3. Run Model Button</b> \\\n",
    "        <br> - Make sure to click Select Images Button or Use Data Button.<br>\\\n",
    "             - The model will be applied to the selected folder and the model outputs will be generated within a subdirectory\\\n",
    "             called 'out'<br>\\\n",
    "      - <span style=\\\"background-color:yellow;color: black;\\\">WARNING :</span> You should not run multiple models on the same folder. Otherwise not all the model outputs\\\n",
    "      will be saved to the folder.<br>\\\n",
    "    \",layout=Layout(margin='0px 0px 0px 20px'))\n",
    "\n",
    "model_choices_box=HBox([model_dropdown, model_implementation])\n",
    "checkboxes = HBox([GPU_checkbox,CRF_checkbox])\n",
    "instr_vbox=VBox([instr_header, line_widget, instr_use_data, instr_select_images, instr_run_model])\n",
    "\n",
    "display(checkboxes, GPU_view,model_choices_box,instr_vbox,use_data_button,use_select_images_button,line_widget, model_view,run_model_button,run_model_view,open_results_button)"
   ]
  },
  {
   "cell_type": "code",
   "execution_count": null,
   "metadata": {},
   "outputs": [],
   "source": []
  }
 ],
 "metadata": {
  "kernelspec": {
   "display_name": "Python 3 (ipykernel)",
   "language": "python",
   "name": "python3"
  },
  "language_info": {
   "codemirror_mode": {
    "name": "ipython",
    "version": 3
   },
   "file_extension": ".py",
   "mimetype": "text/x-python",
   "name": "python",
   "nbconvert_exporter": "python",
   "pygments_lexer": "ipython3",
   "version": "3.10.4"
  },
  "vscode": {
   "interpreter": {
    "hash": "9d097efbdf24db87a2507c17c632c6d564e7aff5ba5cfc04e62a44a8b3d6a20a"
   }
  },
  "widgets": {
   "application/vnd.jupyter.widget-state+json": {
    "state": {
     "00192f88348940f395d8d79ab80a5ec2": {
      "model_module": "@jupyter-widgets/controls",
      "model_module_version": "1.5.0",
      "model_name": "HTMLModel",
      "state": {
       "layout": "IPY_MODEL_8b49901270734b9cb7fa60a9c2478b6f",
       "style": "IPY_MODEL_50069354264c4d44a64233ff57be8634",
       "value": "<b>1. Use Data Folder Button</b>         <br> - When CoastSat downloads imagery it created a folder called 'data'in the CoastSeg directory.            The jpgs within the 'data' folder will be copied to another folder with a name such as            <span style=\"background-color:LightGray;color: black;\">segmentation_data_2022-07-07__10_hr_04_min58 </span>            (the date and time will be the current date and time) <br>            The model will be applied to this folder and the model outputs will be generated within a subdirectory             called 'out'"
      }
     },
     "00200995aa534b2c9ee516425308a83a": {
      "model_module": "@jupyter-widgets/controls",
      "model_module_version": "1.5.0",
      "model_name": "HBoxModel",
      "state": {
       "children": [
        "IPY_MODEL_c491d0b21eed42618c3b39c317851d89",
        "IPY_MODEL_a88c204feb864535a8a80b69d5ad99bf"
       ],
       "layout": "IPY_MODEL_737c61926708435c96b59d386ac2beb5"
      }
     },
     "0075186a57994ba29e9d95c03f61c8b1": {
      "model_module": "@jupyter-widgets/base",
      "model_module_version": "1.2.0",
      "model_name": "LayoutModel",
      "state": {
       "margin": "0px 0px 0px 20px"
      }
     },
     "00bf25d3788e44aa8a87f378e4e94dbf": {
      "model_module": "@jupyter-widgets/controls",
      "model_module_version": "1.5.0",
      "model_name": "CheckboxModel",
      "state": {
       "description": "Use CRF post-processing",
       "disabled": false,
       "indent": false,
       "layout": "IPY_MODEL_4eef4263101443409ee4c521ccac356b",
       "style": "IPY_MODEL_c5df52448577450691cddc951c4bb99f",
       "value": true
      }
     },
     "012417c918d546019b1a1c4a50c5b280": {
      "model_module": "jupyter-leaflet",
      "model_module_version": "^0.17.0",
      "model_name": "LeafletTileLayerModel",
      "state": {
       "_model_module_version": "^0.17.0",
       "_view_module_version": "^0.17.0",
       "attribution": "Tiles &copy; Esri &mdash; Esri, DeLorme, NAVTEQ, TomTom, Intermap, iPC, USGS, FAO, NPS, NRCAN, GeoBase, Kadaster NL, Ordnance Survey, Esri Japan, METI, Esri China (Hong Kong), and the GIS User Community",
       "max_zoom": 24,
       "name": "Esri.ArcticOceanBase",
       "options": [
        "attribution",
        "bounds",
        "detect_retina",
        "max_native_zoom",
        "max_zoom",
        "min_native_zoom",
        "min_zoom",
        "no_wrap",
        "tile_size",
        "tms"
       ],
       "url": "http://server.arcgisonline.com/ArcGIS/rest/services/Polar/Arctic_Ocean_Base/MapServer/tile/{z}/{y}/{x}"
      }
     },
     "02596c259cd54836b1f44641a97a2d3f": {
      "model_module": "@jupyter-widgets/controls",
      "model_module_version": "1.5.0",
      "model_name": "DatePickerModel",
      "state": {
       "description": "Start Date",
       "disabled": false,
       "layout": "IPY_MODEL_65ab68ff14f34159a48d7616b0cdd7a6",
       "style": "IPY_MODEL_af175fd7da594a928758c590279a9e2f",
       "value": {
        "date": 1,
        "month": 11,
        "year": 2018
       }
      }
     },
     "02820c0fe16f41148e8e13acbd1b6e02": {
      "model_module": "@jupyter-widgets/base",
      "model_module_version": "1.2.0",
      "model_name": "LayoutModel",
      "state": {
       "border": "1px solid black"
      }
     },
     "02b12a02df254d6da38d351f0cb86556": {
      "model_module": "@jupyter-widgets/base",
      "model_module_version": "1.2.0",
      "model_name": "LayoutModel",
      "state": {
       "height": "600px",
       "width": "100%"
      }
     },
     "02e60d41590040eca4094a99c7d03f68": {
      "model_module": "@jupyter-widgets/output",
      "model_module_version": "1.0.0",
      "model_name": "OutputModel",
      "state": {
       "layout": "IPY_MODEL_d681c4cd60bf4264a1307eaf6df34546",
       "outputs": [
        {
         "name": "stdout",
         "output_type": "stream",
         "text": "Images available: \n [{'polygon': [[[-121.57800499999999, 36.014151], [-121.54656396505581, 36.014151], [-121.54656396505581, 36.039578663197], [-121.57800499999999, 36.039578663197], [-121.57800499999999, 36.014151]]], 'dates': ['2018-12-01', '2019-03-01'], 'sat_list': ['L8'], 'sitename': 'ID02022-09-07__12_hr_11_min59', 'filepath': 'C:\\\\1_USGS\\\\CoastSeg\\\\repos\\\\2_CoastSeg\\\\CoastSeg_fork\\\\Seg2Map\\\\data', 'roi_id': '20', 'landsat_collection': 'C01'}]\n"
        },
        {
         "name": "stderr",
         "output_type": "stream",
         "text": "Downloading ROIs:   0%|                                                                          | 0/1 [00:00<?, ?it/s]"
        },
        {
         "name": "stdout",
         "output_type": "stream",
         "text": "Number of images available between 2018-12-01 and 2019-03-01:\n- In Landsat Tier 1 & Sentinel-2 Level-1C:\n     L8: 8 images\n  Total to download: 8 images\n- In Landsat Tier 2 (not suitable for time-series analysis):\n     L8: 6 images\n  Total Tier 2: 6 images\n\nDownloading images:\nL8: 8 images\n100%\nSatellite images downloaded from GEE and save in C:\\1_USGS\\CoastSeg\\repos\\2_CoastSeg\\CoastSeg_fork\\Seg2Map\\data\\ID02022-09-07__12_hr_11_min59\nSaving images as jpg:\nL8: 8 images\n50%"
        },
        {
         "name": "stderr",
         "output_type": "stream",
         "text": "Downloading ROIs: 100%|██████████████████████████████████████████████████████████████████| 1/1 [00:28<00:00, 28.08s/it]"
        },
        {
         "name": "stdout",
         "output_type": "stream",
         "text": "100%\nSatellite images saved as .jpg in C:\\1_USGS\\CoastSeg\\repos\\2_CoastSeg\\CoastSeg_fork\\Seg2Map\\data\\ID02022-09-07__12_hr_11_min59\\jpg_files\\preprocessed\n"
        },
        {
         "name": "stderr",
         "output_type": "stream",
         "text": "\n"
        }
       ]
      }
     },
     "0430af6e318b495da39d1f3a489d441b": {
      "model_module": "jupyter-leaflet",
      "model_module_version": "^0.17.0",
      "model_name": "LeafletTileLayerModel",
      "state": {
       "_model_module_version": "^0.17.0",
       "_view_module_version": "^0.17.0",
       "attribution": "&copy; <a href=\"http://www.gaode.com/\">Gaode.com</a>",
       "max_zoom": 19,
       "name": "Gaode.Satellite",
       "options": [
        "attribution",
        "bounds",
        "detect_retina",
        "max_native_zoom",
        "max_zoom",
        "min_native_zoom",
        "min_zoom",
        "no_wrap",
        "tile_size",
        "tms"
       ],
       "url": "http://webst01.is.autonavi.com/appmaptile?style=6&x={x}&y={y}&z={z}"
      }
     },
     "043115edd3cb4b269695936c864358ff": {
      "model_module": "jupyter-leaflet",
      "model_module_version": "^0.17.0",
      "model_name": "LeafletTileLayerModel",
      "state": {
       "_model_module_version": "^0.17.0",
       "_view_module_version": "^0.17.0",
       "attribution": "(C) OpenStreetMap contributors (C) CARTO",
       "max_zoom": 20,
       "name": "CartoDB.Positron",
       "options": [
        "attribution",
        "bounds",
        "detect_retina",
        "max_native_zoom",
        "max_zoom",
        "min_native_zoom",
        "min_zoom",
        "no_wrap",
        "tile_size",
        "tms"
       ],
       "url": "https://a.basemaps.cartocdn.com/light_all/{z}/{x}/{y}.png"
      }
     },
     "0461b50085fe4c7f8bff0852a8e11096": {
      "model_module": "@jupyter-widgets/controls",
      "model_module_version": "1.5.0",
      "model_name": "HTMLModel",
      "state": {
       "layout": "IPY_MODEL_72aa2f9fb839403c8d41c08aa93d416b",
       "style": "IPY_MODEL_dc53a44a9a0b46158333de680c610f0f",
       "value": "Hover over shoreline"
      }
     },
     "0470a18784574e7d99cc159edfcbfe36": {
      "model_module": "@jupyter-widgets/controls",
      "model_module_version": "1.5.0",
      "model_name": "VBoxModel",
      "state": {
       "_view_count": 1,
       "children": [
        "IPY_MODEL_6d443dcc3c444ff0a5726a799b680ed0"
       ],
       "layout": "IPY_MODEL_8c4b17224adb47bd80845bc45d51681a"
      }
     },
     "04d80d99204f4a9eb94b87ac35e495d4": {
      "model_module": "@jupyter-widgets/controls",
      "model_module_version": "1.5.0",
      "model_name": "DescriptionStyleModel",
      "state": {
       "description_width": ""
      }
     },
     "050a088659dc436c8ffd9820e1ac390c": {
      "model_module": "@jupyter-widgets/controls",
      "model_module_version": "1.5.0",
      "model_name": "HBoxModel",
      "state": {
       "children": [
        "IPY_MODEL_8e3f15f98e3f49419c3d92c1a29ada80",
        "IPY_MODEL_c9beab8cacff48f6b5162ed8fa6a4fc0",
        "IPY_MODEL_7c800c4bbb5449c6a07a8aa17fb0348a"
       ],
       "layout": "IPY_MODEL_f151d772c0c04df9a09f6b10291ef600"
      }
     },
     "05492fc2345d4a51aa34269940483903": {
      "model_module": "jupyter-leaflet",
      "model_module_version": "^0.17.0",
      "model_name": "LeafletTileLayerModel",
      "state": {
       "_model_module_version": "^0.17.0",
       "_view_module_version": "^0.17.0",
       "attribution": "Map tiles by Stamen Design, CC BY 3.0 -- Map data (C) OpenStreetMap contributors",
       "max_zoom": 20,
       "name": "Stamen.Toner",
       "options": [
        "attribution",
        "bounds",
        "detect_retina",
        "max_native_zoom",
        "max_zoom",
        "min_native_zoom",
        "min_zoom",
        "no_wrap",
        "tile_size",
        "tms"
       ],
       "url": "https://stamen-tiles-a.a.ssl.fastly.net/toner/{z}/{x}/{y}.png"
      }
     },
     "05994b181ada48a9a603c28defde4671": {
      "model_module": "jupyter-leaflet",
      "model_module_version": "^0.17.0",
      "model_name": "LeafletWMSLayerModel",
      "state": {
       "_model_module_version": "^0.17.0",
       "_view_module_version": "^0.17.0",
       "attribution": "MRLC",
       "crs": {
        "custom": false,
        "name": "EPSG3857"
       },
       "format": "image/png",
       "layers": "NLCD_2008_Land_Cover_L48",
       "name": "NLCD 2008 CONUS Land Cover",
       "options": [
        "attribution",
        "bounds",
        "detect_retina",
        "format",
        "layers",
        "max_native_zoom",
        "max_zoom",
        "min_native_zoom",
        "min_zoom",
        "no_wrap",
        "styles",
        "tile_size",
        "tms",
        "transparent",
        "uppercase"
       ],
       "transparent": true,
       "url": "https://www.mrlc.gov/geoserver/mrlc_display/NLCD_2008_Land_Cover_L48/wms?"
      }
     },
     "0663802dcb0745bab0afeab1dc084948": {
      "model_module": "@jupyter-widgets/controls",
      "model_module_version": "1.5.0",
      "model_name": "IntSliderModel",
      "state": {
       "continuous_update": false,
       "description": "Small Fishnet:",
       "layout": "IPY_MODEL_1f44f2043f1b4c2d96e1a8532d798f83",
       "max": 10000,
       "step": 100,
       "style": "IPY_MODEL_c584bc47b3dd486da64cefd39e6fc6ba",
       "value": 3500
      }
     },
     "0759d9ab96944ac8b695e6784be2eac1": {
      "model_module": "jupyter-leaflet",
      "model_module_version": "^0.17.0",
      "model_name": "LeafletWMSLayerModel",
      "state": {
       "_model_module_version": "^0.17.0",
       "_view_module_version": "^0.17.0",
       "attribution": "ESA",
       "crs": {
        "custom": false,
        "name": "EPSG3857"
       },
       "format": "image/png",
       "layers": "WORLDCOVER_2020_S2_TCC",
       "name": "ESA Worldcover 2020 S2 TCC",
       "options": [
        "attribution",
        "bounds",
        "detect_retina",
        "format",
        "layers",
        "max_native_zoom",
        "max_zoom",
        "min_native_zoom",
        "min_zoom",
        "no_wrap",
        "styles",
        "tile_size",
        "tms",
        "transparent",
        "uppercase"
       ],
       "transparent": true,
       "url": "https://services.terrascope.be/wms/v2"
      }
     },
     "07e07801619245e78a5296aab9e7854f": {
      "model_module": "@jupyter-widgets/controls",
      "model_module_version": "1.5.0",
      "model_name": "ButtonModel",
      "state": {
       "description": "Remove all",
       "layout": "IPY_MODEL_8c91043e8b7746ddaaf5090e74b944bb",
       "style": "IPY_MODEL_c7516c3c400b4f389fe57917b3b9cc1b"
      }
     },
     "0885938f1c47447db06fd08edecb9a38": {
      "model_module": "jupyter-leaflet",
      "model_module_version": "^0.17.0",
      "model_name": "LeafletTileLayerModel",
      "state": {
       "_model_module_version": "^0.17.0",
       "_view_module_version": "^0.17.0",
       "attribution": "![](https://docs.onemap.sg/maps/images/oneMap64-01.png) New OneMap | Map data (C) contributors, Singapore Land Authority",
       "name": "OneMapSG.Night",
       "options": [
        "attribution",
        "bounds",
        "detect_retina",
        "max_native_zoom",
        "max_zoom",
        "min_native_zoom",
        "min_zoom",
        "no_wrap",
        "tile_size",
        "tms"
       ],
       "url": "https://maps-a.onemap.sg/v3/Night/{z}/{x}/{y}.png"
      }
     },
     "08d307e17c7b41ecb6c742e3b2826124": {
      "model_module": "@jupyter-widgets/controls",
      "model_module_version": "1.5.0",
      "model_name": "ToggleButtonModel",
      "state": {
       "button_style": "primary",
       "icon": "folder-open",
       "layout": "IPY_MODEL_1c9d19ac6a5e4c07a294c3b1c91e6676",
       "style": "IPY_MODEL_c1a02ee6b05243eea01531c479952991",
       "tooltip": "Open local vector/raster data"
      }
     },
     "0930172d97c0475c98797922ab168969": {
      "model_module": "@jupyter-widgets/controls",
      "model_module_version": "1.5.0",
      "model_name": "VBoxModel",
      "state": {
       "children": [
        "IPY_MODEL_569e93d9cf4946e4bdebfe2e3c5c630f",
        "IPY_MODEL_e5f709bb7601480c86dab0385e829785"
       ],
       "layout": "IPY_MODEL_3a68fa8cf8b34ae38e4f04ca60fb27ed"
      }
     },
     "09d12284c90e4b8f8b906386190c54f0": {
      "model_module": "@jupyter-widgets/base",
      "model_module_version": "1.2.0",
      "model_name": "LayoutModel",
      "state": {}
     },
     "0bb4a3c7f3034318af20ecf500ed1638": {
      "model_module": "@jupyter-widgets/controls",
      "model_module_version": "1.5.0",
      "model_name": "VBoxModel",
      "state": {
       "children": [
        "IPY_MODEL_e019ec33bbc44c5d969dcc3f5dcbf19c",
        "IPY_MODEL_10a4f77b27304961886131b42dcc0764",
        "IPY_MODEL_00192f88348940f395d8d79ab80a5ec2",
        "IPY_MODEL_adf76974a83c4133b440f2e76fadd68e",
        "IPY_MODEL_6450c871368b49a29baff2e5f9c4f9d8"
       ],
       "layout": "IPY_MODEL_c5adc38e54914e6cb0a1b1db20709804"
      }
     },
     "0c928c4a2cc14dd19c8be1aa14ddd274": {
      "model_module": "@jupyter-widgets/base",
      "model_module_version": "1.2.0",
      "model_name": "LayoutModel",
      "state": {}
     },
     "0d4cd99c27a64b27b0dd241f4b066c09": {
      "model_module": "@jupyter-widgets/base",
      "model_module_version": "1.2.0",
      "model_name": "LayoutModel",
      "state": {}
     },
     "0d84f311b4034ff9944f497c6cc87b00": {
      "model_module": "@jupyter-widgets/controls",
      "model_module_version": "1.5.0",
      "model_name": "DescriptionStyleModel",
      "state": {
       "description_width": ""
      }
     },
     "0e548679eb7142938c5e23d2bc387700": {
      "model_module": "@jupyter-widgets/controls",
      "model_module_version": "1.5.0",
      "model_name": "DescriptionStyleModel",
      "state": {
       "description_width": ""
      }
     },
     "0e8307673365433783d2e8b8aadb6133": {
      "model_module": "jupyter-leaflet",
      "model_module_version": "^0.17.0",
      "model_name": "LeafletTileLayerModel",
      "state": {
       "_model_module_version": "^0.17.0",
       "_view_module_version": "^0.17.0",
       "attribution": "openAIP Data (CC-BY-NC-SA)",
       "max_zoom": 14,
       "name": "OpenAIP",
       "options": [
        "attribution",
        "bounds",
        "detect_retina",
        "max_native_zoom",
        "max_zoom",
        "min_native_zoom",
        "min_zoom",
        "no_wrap",
        "tile_size",
        "tms"
       ],
       "url": "https://1.tile.maps.openaip.net/geowebcache/service/tms/1.0.0/openaip_basemap@EPSG%3A900913@png/{z}/{x}/{y}.png"
      }
     },
     "0f2381a2c4ed4c46a8833ebbe5e21eb8": {
      "model_module": "@jupyter-widgets/controls",
      "model_module_version": "1.5.0",
      "model_name": "HBoxModel",
      "state": {
       "children": [
        "IPY_MODEL_59362a0cd80d43d6a375a36004051058",
        "IPY_MODEL_e3353efc5685457d9056099621ab324e"
       ],
       "layout": "IPY_MODEL_89acbd68be3543f49e71c41b33a9bcd6"
      }
     },
     "0f259aa0efad431e94297f5ade5ce134": {
      "model_module": "jupyter-leaflet",
      "model_module_version": "^0.17.0",
      "model_name": "LeafletTileLayerModel",
      "state": {
       "_model_module_version": "^0.17.0",
       "_view_module_version": "^0.17.0",
       "attribution": "National Library of Scotland Historic Maps",
       "name": "NLS",
       "options": [
        "attribution",
        "bounds",
        "detect_retina",
        "max_native_zoom",
        "max_zoom",
        "min_native_zoom",
        "min_zoom",
        "no_wrap",
        "tile_size",
        "tms"
       ],
       "url": "https://nls-0.tileserver.com/nls/{z}/{x}/{y}.jpg"
      }
     },
     "108a892c28744896bfb6f748a1b73099": {
      "model_module": "@jupyter-widgets/base",
      "model_module_version": "1.2.0",
      "model_name": "LayoutModel",
      "state": {
       "height": "auto",
       "padding": "0px 0px 0px 4px",
       "width": "auto"
      }
     },
     "10a4f77b27304961886131b42dcc0764": {
      "model_module": "@jupyter-widgets/controls",
      "model_module_version": "1.5.0",
      "model_name": "HTMLModel",
      "state": {
       "layout": "IPY_MODEL_6e3e9f2fa9dc4d4686e2eeec2c7763ee",
       "style": "IPY_MODEL_41b979e56ff34d6990aab99933f821fe",
       "value": "____________________________________________________"
      }
     },
     "10a6cc34845c45d4977bd9dfe314e751": {
      "model_module": "jupyter-leaflet",
      "model_module_version": "^0.17.0",
      "model_name": "LeafletDrawControlModel",
      "state": {
       "_model_module_version": "^0.17.0",
       "_view_module_version": "^0.17.0",
       "data": [
        {
         "geometry": {
          "coordinates": [
           [
            [
             -121.578005,
             36.014151
            ],
            [
             -121.578005,
             36.023682
            ],
            [
             -121.538003,
             36.023682
            ],
            [
             -121.538003,
             36.014151
            ],
            [
             -121.578005,
             36.014151
            ]
           ]
          ],
          "type": "Polygon"
         },
         "properties": {
          "style": {
           "Opacity": 0.1,
           "clickable": true,
           "color": "green",
           "fill": true,
           "fillColor": "green",
           "fillOpacity": 0.1,
           "opacity": 0.5,
           "stroke": true,
           "weight": 4
          }
         },
         "type": "Feature"
        }
       ],
       "options": [
        "position"
       ],
       "polygon": {},
       "polyline": {},
       "rectangle": {
        "allowIntersection": false,
        "drawError": {
         "color": "#dd253b",
         "message": "Ops!"
        },
        "shapeOptions": {
         "Opacity": 0.1,
         "color": "green",
         "fillColor": "green",
         "fillOpacity": 0.1
        },
        "transform": true
       }
      }
     },
     "11f97a4385fc487099bb868cf745c8f8": {
      "model_module": "jupyter-leaflet",
      "model_module_version": "^0.17.0",
      "model_name": "LeafletTileLayerModel",
      "state": {
       "_model_module_version": "^0.17.0",
       "_view_module_version": "^0.17.0",
       "attribution": "Tiles (C) Esri -- Source: Esri",
       "max_zoom": 13,
       "name": "Esri.WorldShadedRelief",
       "options": [
        "attribution",
        "bounds",
        "detect_retina",
        "max_native_zoom",
        "max_zoom",
        "min_native_zoom",
        "min_zoom",
        "no_wrap",
        "tile_size",
        "tms"
       ],
       "url": "https://server.arcgisonline.com/ArcGIS/rest/services/World_Shaded_Relief/MapServer/tile/{z}/{y}/{x}"
      }
     },
     "128dfc15e23748c4bee69238b2cab9d7": {
      "model_module": "@jupyter-widgets/controls",
      "model_module_version": "1.5.0",
      "model_name": "ButtonStyleModel",
      "state": {
       "button_color": "#50bf8f"
      }
     },
     "12a378ebc9b24a8eb006fd839e732c04": {
      "model_module": "jupyter-leaflet",
      "model_module_version": "^0.17.0",
      "model_name": "LeafletTileLayerModel",
      "state": {
       "_model_module_version": "^0.17.0",
       "_view_module_version": "^0.17.0",
       "attribution": "Map data: (C) OpenStreetMap contributors | Map style: (C) OpenFireMap (CC-BY-SA)",
       "max_zoom": 19,
       "name": "OpenFireMap",
       "options": [
        "attribution",
        "bounds",
        "detect_retina",
        "max_native_zoom",
        "max_zoom",
        "min_native_zoom",
        "min_zoom",
        "no_wrap",
        "tile_size",
        "tms"
       ],
       "url": "http://openfiremap.org/hytiles/{z}/{x}/{y}.png"
      }
     },
     "134bbf06508e45398204ae1d891a5d50": {
      "model_module": "@jupyter-widgets/controls",
      "model_module_version": "1.5.0",
      "model_name": "HBoxModel",
      "state": {
       "children": [
        "IPY_MODEL_75a9d1053c554f098455e2080b4b244b",
        "IPY_MODEL_ac4e6fa4a5d24574aa087f0b2f0898ec"
       ],
       "layout": "IPY_MODEL_a2cce2bb1f834104b380f0c729bdbd09"
      }
     },
     "1403411323d748f09b75dd300c69af0a": {
      "model_module": "@jupyter-widgets/controls",
      "model_module_version": "1.5.0",
      "model_name": "HBoxModel",
      "state": {
       "children": [
        "IPY_MODEL_75a9d1053c554f098455e2080b4b244b"
       ],
       "layout": "IPY_MODEL_09d12284c90e4b8f8b906386190c54f0"
      }
     },
     "1457e6d0644d4053815ca23d8076b4d5": {
      "model_module": "@jupyter-widgets/controls",
      "model_module_version": "1.5.0",
      "model_name": "DescriptionStyleModel",
      "state": {
       "description_width": ""
      }
     },
     "1496f889d8e242609fde22710e0ad276": {
      "model_module": "@jupyter-widgets/base",
      "model_module_version": "1.2.0",
      "model_name": "LayoutModel",
      "state": {
       "margin": "0px 5px 0px 0px"
      }
     },
     "153627e9355d4b3889c17fa51f783b49": {
      "model_module": "jupyter-leaflet",
      "model_module_version": "^0.17.0",
      "model_name": "LeafletMapStyleModel",
      "state": {
       "_model_module_version": "^0.17.0",
       "cursor": "default"
      }
     },
     "15a840fff5574cfe8d16d1bc9c5d005b": {
      "model_module": "@jupyter-widgets/controls",
      "model_module_version": "1.5.0",
      "model_name": "DescriptionStyleModel",
      "state": {
       "description_width": ""
      }
     },
     "16942e849d3744a899760b8077a7a7d0": {
      "model_module": "jupyter-leaflet",
      "model_module_version": "^0.17.0",
      "model_name": "LeafletWMSLayerModel",
      "state": {
       "_model_module_version": "^0.17.0",
       "_view_module_version": "^0.17.0",
       "attribution": "FWS",
       "crs": {
        "custom": false,
        "name": "EPSG3857"
       },
       "format": "image/png",
       "layers": "1",
       "name": "FWS NWI Wetlands",
       "options": [
        "attribution",
        "bounds",
        "detect_retina",
        "format",
        "layers",
        "max_native_zoom",
        "max_zoom",
        "min_native_zoom",
        "min_zoom",
        "no_wrap",
        "styles",
        "tile_size",
        "tms",
        "transparent",
        "uppercase"
       ],
       "transparent": true,
       "url": "https://www.fws.gov/wetlands/arcgis/services/Wetlands/MapServer/WMSServer?"
      }
     },
     "169ff51026064546bf5af85f970dab29": {
      "model_module": "@jupyter-widgets/base",
      "model_module_version": "1.2.0",
      "model_name": "LayoutModel",
      "state": {
       "height": "auto",
       "padding": "0px 0px 0px 4px",
       "width": "auto"
      }
     },
     "16d2bbd91e694564922b398cadb8fb6c": {
      "model_module": "@jupyter-widgets/controls",
      "model_module_version": "1.5.0",
      "model_name": "ToggleButtonModel",
      "state": {
       "button_style": "primary",
       "icon": "pencil-square-o",
       "layout": "IPY_MODEL_169ff51026064546bf5af85f970dab29",
       "style": "IPY_MODEL_a01d577460814a8ba933a232eecc147a",
       "tooltip": "Create vector data"
      }
     },
     "17639e5327884dc98a4ab2abb39272c1": {
      "model_module": "jupyter-leaflet",
      "model_module_version": "^0.17.0",
      "model_name": "LeafletTileLayerModel",
      "state": {
       "_model_module_version": "^0.17.0",
       "_view_module_version": "^0.17.0",
       "attribution": "Map data: (C) OpenStreetMap contributors | Map style: (C) waymarkedtrails.org (CC-BY-SA)",
       "name": "WaymarkedTrails.slopes",
       "options": [
        "attribution",
        "bounds",
        "detect_retina",
        "max_native_zoom",
        "max_zoom",
        "min_native_zoom",
        "min_zoom",
        "no_wrap",
        "tile_size",
        "tms"
       ],
       "url": "https://tile.waymarkedtrails.org/slopes/{z}/{x}/{y}.png"
      }
     },
     "17a19e3eed5d4a34806d8f7b86b56c4c": {
      "model_module": "@jupyter-widgets/controls",
      "model_module_version": "1.5.0",
      "model_name": "ToggleButtonModel",
      "state": {
       "button_style": "primary",
       "icon": "adjust",
       "layout": "IPY_MODEL_4a1696fc3a2548dd9b5960050d6fa7d7",
       "style": "IPY_MODEL_693f744acf2e47039637d6fb82519476",
       "tooltip": "Planet imagery"
      }
     },
     "181cc847e75441f78656932b65294313": {
      "model_module": "@jupyter-widgets/controls",
      "model_module_version": "1.5.0",
      "model_name": "ButtonStyleModel",
      "state": {
       "button_color": "#ae3cf0"
      }
     },
     "1916432084994cb8a911c01a991e620e": {
      "model_module": "jupyter-leaflet",
      "model_module_version": "^0.17.0",
      "model_name": "LeafletTileLayerModel",
      "state": {
       "_model_module_version": "^0.17.0",
       "_view_module_version": "^0.17.0",
       "attribution": "(C) OpenStreetMap contributors (C) CARTO",
       "max_zoom": 20,
       "name": "CartoDB.DarkMatterOnlyLabels",
       "options": [
        "attribution",
        "bounds",
        "detect_retina",
        "max_native_zoom",
        "max_zoom",
        "min_native_zoom",
        "min_zoom",
        "no_wrap",
        "tile_size",
        "tms"
       ],
       "url": "https://a.basemaps.cartocdn.com/dark_only_labels/{z}/{x}/{y}.png"
      }
     },
     "198758ccf5154f4ca87254785edb49b7": {
      "model_module": "jupyter-leaflet",
      "model_module_version": "^0.17.0",
      "model_name": "LeafletTileLayerModel",
      "state": {
       "_model_module_version": "^0.17.0",
       "_view_module_version": "^0.17.0",
       "attribution": "Datenquelle: basemap.at",
       "max_zoom": 19,
       "name": "BasemapAT.overlay",
       "options": [
        "attribution",
        "bounds",
        "detect_retina",
        "max_native_zoom",
        "max_zoom",
        "min_native_zoom",
        "min_zoom",
        "no_wrap",
        "tile_size",
        "tms"
       ],
       "url": "https://maps.wien.gv.at/basemap/bmapoverlay/normal/google3857/{z}/{y}/{x}.png"
      }
     },
     "19ca1ef1e97d4341beb9406a514948d5": {
      "model_module": "@jupyter-widgets/base",
      "model_module_version": "1.2.0",
      "model_name": "LayoutModel",
      "state": {
       "padding": "10px"
      }
     },
     "1b19a739d3cd462ea905631dae693a8a": {
      "model_module": "@jupyter-widgets/controls",
      "model_module_version": "1.5.0",
      "model_name": "DescriptionStyleModel",
      "state": {
       "description_width": ""
      }
     },
     "1bad1293d51f45c48ac464d459281f0e": {
      "model_module": "jupyter-leaflet",
      "model_module_version": "^0.17.0",
      "model_name": "LeafletGeoJSONModel",
      "state": {
       "_model_module_version": "^0.17.0",
       "_view_module_version": "^0.17.0",
       "data": {
        "features": [
         {
          "geometry": {
           "coordinates": [
            [
             -121.538003,
             36.01500374824005
            ],
            [
             -121.53802517399998,
             36.01500649800005
            ],
            [
             -121.538092539,
             36.015019333000055
            ],
            [
             -121.53815451199995,
             36.015037566000046
            ],
            [
             -121.53820928399995,
             36.015063017000045
            ],
            [
             -121.53824894399997,
             36.01509082800004
            ],
            [
             -121.53832172499995,
             36.01515304800006
            ],
            [
             -121.53836141799997,
             36.01518088900008
            ],
            [
             -121.53841513999998,
             36.01520599100007
            ],
            [
             -121.53847585499994,
             36.015224138000065
            ],
            [
             -121.53854184899996,
             36.01523705900007
            ],
            [
             -121.53861176899994,
             36.01524610900003
            ],
            [
             -121.53868458199997,
             36.015252331000056
            ],
            [
             -121.53883590299995,
             36.01525927200004
            ],
            [
             -121.53907025199999,
             36.01526272700005
            ],
            [
             -121.53938642999998,
             36.01526264600005
            ],
            [
             -121.53962088199995,
             36.01525903500004
            ],
            [
             -121.53977233899997,
             36.01525193900005
            ],
            [
             -121.539845244,
             36.015245615000026
            ],
            [
             -121.53991528399996,
             36.01523644200006
            ],
            [
             -121.53998141999995,
             36.01522337200004
            ],
            [
             -121.54004231399995,
             36.01520504600006
            ],
            [
             -121.54009624399998,
             36.01517973000006
            ],
            [
             -121.54013614899998,
             36.01515167700006
            ],
            [
             -121.54020945199994,
             36.01508893000005
            ],
            [
             -121.54024942999996,
             36.01506080000007
            ],
            [
             -121.54030399299995,
             36.015035159000035
            ],
            [
             -121.54036567499998,
             36.01501655200008
            ],
            [
             -121.540432706,
             36.015003224000054
            ],
            [
             -121.54050369099997,
             36.01499381000008
            ],
            [
             -121.540577542,
             36.01498728300004
            ],
            [
             -121.54065340399995,
             36.01498288700003
            ],
            [
             -121.54073059599995,
             36.014980098000024
            ],
            [
             -121.54088677899995,
             36.01497819100007
            ],
            [
             -121.54096478799994,
             36.01497893100003
            ],
            [
             -121.54104206599999,
             36.01498098500008
            ],
            [
             -121.54111801799996,
             36.01498471600007
            ],
            [
             -121.54119190299997,
             36.014990703000024
            ],
            [
             -121.54126277999995,
             36.014999776000025
            ],
            [
             -121.54132943499997,
             36.01501308700006
            ],
            [
             -121.54139029499999,
             36.01503216300006
            ],
            [
             -121.54144333699998,
             36.01505900400008
            ],
            [
             -121.54148121799994,
             36.01508897400004
            ],
            [
             -121.54161719599995,
             36.01522391800006
            ],
            [
             -121.54183136599994,
             36.01541503200008
            ],
            [
             -121.54186920999996,
             36.01544465600006
            ],
            [
             -121.54192314699998,
             36.015471656000045
            ],
            [
             -121.541984792,
             36.01549093600005
            ],
            [
             -121.54205176899995,
             36.015504864000036
            ],
            [
             -121.54212210599997,
             36.01551542400006
            ],
            [
             -121.54226609399996,
             36.01553320000005
            ],
            [
             -121.54233654799998,
             36.01554361700005
            ],
            [
             -121.54240371799995,
             36.015557314000034
            ],
            [
             -121.54246561399998,
             36.01557628100005
            ],
            [
             -121.54251985099995,
             36.01560290400005
            ],
            [
             -121.54255795399996,
             36.01563218300004
            ],
            [
             -121.54277151899998,
             36.015822883000055
            ],
            [
             -121.542807101,
             36.015854674000025
            ],
            [
             -121.54283852999998,
             36.015890623000075
            ],
            [
             -121.542896467,
             36.01596743500005
            ],
            [
             -121.54292786899998,
             36.016003409000064
            ],
            [
             -121.54317432899995,
             36.01622856600005
            ],
            [
             -121.543211021,
             36.01625924700005
            ],
            [
             -121.54326014999998,
             36.01628711700005
            ],
            [
             -121.54331528799997,
             36.01630897700005
            ],
            [
             -121.54363898799994,
             36.01643764500005
            ],
            [
             -121.54408953299998,
             36.01665121100007
            ],
            [
             -121.54413862999996,
             36.01667911100003
            ],
            [
             -121.54417528899995,
             36.01670982600007
            ],
            [
             -121.54442127699997,
             36.01693545400008
            ],
            [
             -121.54445256199995,
             36.01697154200008
            ],
            [
             -121.54451021999995,
             36.01704863200007
            ],
            [
             -121.54454148399998,
             36.017084742000065
            ],
            [
             -121.54457688899998,
             36.01711671000004
            ],
            [
             -121.54478952499994,
             36.017308316000026
            ],
            [
             -121.54482767299999,
             36.01733754300005
            ],
            [
             -121.54487938299997,
             36.01736283200006
            ],
            [
             -121.54493847199996,
             36.01738074000008
            ],
            [
             -121.54500300899997,
             36.01739320200005
            ],
            [
             -121.54507145399998,
             36.01740175500004
            ],
            [
             -121.54514257099999,
             36.01740763500004
            ],
            [
             -121.54543535599998,
             36.017422845000056
            ],
            [
             -121.54550661399998,
             36.01742858500006
            ],
            [
             -121.54557535799995,
             36.01743683900003
            ],
            [
             -121.54557643799996,
             36.01743703600005
            ]
           ],
           "type": "LineString"
          },
          "id": "0",
          "properties": {
           "CHLOROPHYLL": 2.417483,
           "CSU_Descriptor": "vertical, straight, medium erodibility, warm temperate dry, low river discharge, moderate wave energy, moderately tidal, euhaline-oxic-moderate to cool, clear, moderate chlorophyll",
           "CSU_ID": 71260,
           "Cluster": 6,
           "EMU_PHYSICAL": "Euhaline-Oxic-Moderate to Cool",
           "ERODIBILITY": "Medium",
           "GHM": 0.133607,
           "LENGTH_GEO": 808.8794813016038,
           "MAX_SLOPE": 318.587599,
           "MEAN_SIG_WAVEHEIGHT": 1.687268,
           "MasterKey": 2753659,
           "OBJECTID": 2753659,
           "OUTFLOW_DENSITY": 8671.790039,
           "OUTFLOW_DENSITY_RESCALED": 1.0484883786709782e-05,
           "REGIONAL_SINUOSITY": 1.270183,
           "RandomSort": 1593234.33411067,
           "Shape_Length": 0.008565231531598157,
           "TEMP_MOISTURE": "Warm Temperate Dry",
           "TIDAL_RANGE": 2.416656,
           "TURBIDITY": 0.027483,
           "chl_label": "moderate chlorophyll",
           "river_label": "low river discharge",
           "sinuosity_label": "straight",
           "slope_label": "vertical",
           "style": {
            "color": "yellow",
            "dashArray": "5",
            "fillOpacity": 0.5,
            "fill_color": "yellow",
            "opacity": 1,
            "weight": 4
           },
           "tidal_label": "moderately tidal",
           "turbid_label": "clear",
           "wave_label": "moderate wave energy"
          },
          "type": "Feature"
         },
         {
          "geometry": {
           "coordinates": [
            [
             -121.54557643799996,
             36.01743703600005
            ],
            [
             -121.54564046899998,
             36.017448726000055
            ],
            [
             -121.54570057599994,
             36.017465618000074
            ],
            [
             -121.547370662,
             36.01802848800003
            ],
            [
             -121.54799219999995,
             36.01824238200004
            ],
            [
             -121.54828958499996,
             36.01838966500003
            ],
            [
             -121.54832960799996,
             36.01841701500007
            ],
            [
             -121.548383721,
             36.018441504000066
            ],
            [
             -121.54844481499998,
             36.01845901400003
            ],
            [
             -121.54851115499997,
             36.01847127600007
            ],
            [
             -121.54858138499998,
             36.01847964800004
            ],
            [
             -121.548654468,
             36.01848516800004
            ],
            [
             -121.54880622099995,
             36.01849061900003
            ],
            [
             -121.54896219099999,
             36.01849185400005
            ],
            [
             -121.54943609199995,
             36.01848957100003
            ],
            [
             -121.54959181099997,
             36.01849105600007
            ],
            [
             -121.54966824199994,
             36.01849322800007
            ],
            [
             -121.54974316599998,
             36.01849690600005
            ],
            [
             -121.54981598899997,
             36.01850268600003
            ],
            [
             -121.54988592099994,
             36.01851135700008
            ],
            [
             -121.54995192099994,
             36.01852395800006
            ],
            [
             -121.55001264699996,
             36.018541834000075
            ],
            [
             -121.55006637799994,
             36.01856670800004
            ],
            [
             -121.55010607599996,
             36.01859438200006
            ],
            [
             -121.55017886999997,
             36.01865633600005
            ],
            [
             -121.55021853899996,
             36.01868403900005
            ],
            [
             -121.55027269399994,
             36.01870914700004
            ],
            [
             -121.550333922,
             36.018727184000056
            ],
            [
             -121.55040045899995,
             36.01873991000008
            ],
            [
             -121.55047093299999,
             36.01874870100005
            ],
            [
             -121.55054428299997,
             36.018754612000066
            ],
            [
             -121.550696615,
             36.018760807000035
            ],
            [
             -121.55093232099995,
             36.01876289000006
            ],
            [
             -121.55205056999995,
             36.01875432600008
            ],
            [
             -121.55228761399997,
             36.018755071000044
            ],
            [
             -121.55244093899995,
             36.01876027000003
            ],
            [
             -121.55251470299999,
             36.01876577000007
            ],
            [
             -121.55258542399997,
             36.01877431200006
            ],
            [
             -121.55265191399997,
             36.01878708400005
            ],
            [
             -121.55271260999996,
             36.01880565300007
            ],
            [
             -121.55276548299997,
             36.01883204300003
            ],
            [
             -121.55280319399998,
             36.01886170500006
            ],
            [
             -121.55301313599995,
             36.01905600400005
            ],
            [
             -121.55304808099999,
             36.019088434000025
            ],
            [
             -121.55307887199996,
             36.01912501600003
            ],
            [
             -121.55313555499998,
             36.01920308000007
            ],
            [
             -121.55316634599995,
             36.019239663000064
            ],
            [
             -121.55320128799997,
             36.019272095000076
            ],
            [
             -121.55341120699995,
             36.01946642000007
            ],
            [
             -121.55344890999999,
             36.019496090000075
            ],
            [
             -121.55350230599998,
             36.01952270000004
            ],
            [
             -121.55356364799997,
             36.01954136400008
            ],
            [
             -121.55363085699997,
             36.01955415900005
            ],
            [
             -121.553702333,
             36.01956269000004
            ],
            [
             -121.55377346699998,
             36.01956791600003
            ]
           ],
           "type": "LineString"
          },
          "id": "1",
          "properties": {
           "CHLOROPHYLL": 0.873553,
           "CSU_Descriptor": "steeply sloping, straight, medium erodibility, warm temperate dry, low river discharge, moderate wave energy, moderately tidal, euhaline-oxic-moderate to cool, clear, low chlorophyll",
           "CSU_ID": 62191,
           "Cluster": 6,
           "EMU_PHYSICAL": "Euhaline-Oxic-Moderate to Cool",
           "ERODIBILITY": "Medium",
           "GHM": 0.144511,
           "LENGTH_GEO": 809.2201719767945,
           "MAX_SLOPE": 109.272652,
           "MEAN_SIG_WAVEHEIGHT": 1.687268,
           "MasterKey": 2753658,
           "OBJECTID": 2753658,
           "OUTFLOW_DENSITY": 8671.790039,
           "OUTFLOW_DENSITY_RESCALED": 1.0484883786709782e-05,
           "REGIONAL_SINUOSITY": 1.270183,
           "RandomSort": 3366707.6827197,
           "Shape_Length": 0.008735799579888025,
           "TEMP_MOISTURE": "Warm Temperate Dry",
           "TIDAL_RANGE": 2.416656,
           "TURBIDITY": 0.027483,
           "chl_label": "low chlorophyll",
           "river_label": "low river discharge",
           "sinuosity_label": "straight",
           "slope_label": "steeply sloping",
           "style": {
            "color": "yellow",
            "dashArray": "5",
            "fillOpacity": 0.5,
            "fill_color": "yellow",
            "opacity": 1,
            "weight": 4
           },
           "tidal_label": "moderately tidal",
           "turbid_label": "clear",
           "wave_label": "moderate wave energy"
          },
          "type": "Feature"
         },
         {
          "geometry": {
           "coordinates": [
            [
             -121.55377346699998,
             36.01956791600003
            ],
            [
             -121.55377686499997,
             36.01956816500007
            ],
            [
             -121.55385354599997,
             36.01957149000003
            ],
            [
             -121.55401086799998,
             36.01957418100005
            ],
            [
             -121.55505582299998,
             36.01956930500006
            ],
            [
             -121.55778162999997,
             36.01956371400007
            ],
            [
             -121.55794010899996,
             36.01956524900004
            ],
            [
             -121.55801804199996,
             36.019567325000025
            ],
            [
             -121.55809453799998,
             36.01957083900004
            ],
            [
             -121.558168976,
             36.01957641000007
            ],
            [
             -121.55824051699994,
             36.019584879000035
            ],
            [
             -121.55830805299996,
             36.01959735600008
            ],
            [
             -121.55837012299997,
             36.019615300000055
            ],
            [
             -121.55842484199997,
             36.019640594000066
            ],
            [
             -121.55885449999994,
             36.01986567100005
            ],
            [
             -121.55906934899997,
             36.02000743200006
            ],
            [
             -121.55910891099995,
             36.02003540000004
            ],
            [
             -121.55916271799998,
             36.02006041100003
            ],
            [
             -121.55922367899996,
             36.02007831200007
            ],
            [
             -121.55929000199995,
             36.02009090200005
            ],
            [
             -121.55936029199995,
             36.020099584000036
            ],
            [
             -121.55943347699997,
             36.02010542700003
            ],
            [
             -121.55950875299999,
             36.02010924900003
            ],
            [
             -121.55966331199994,
             36.02011308200008
            ],
            [
             -121.55982078199997,
             36.020114189000026
            ],
            [
             -121.560058788,
             36.020113656000035
            ],
            [
             -121.56029557,
             36.020110662000036
            ],
            [
             -121.56045022299998,
             36.02010537900003
            ],
            [
             -121.56052556699996,
             36.02010076100004
            ],
            [
             -121.56059883899997,
             36.020094088000064
            ],
            [
             -121.56066923299994,
             36.02008458200004
            ],
            [
             -121.56073568399995,
             36.02007122400005
            ],
            [
             -121.56079680099998,
             36.02005270800004
            ],
            [
             -121.56085079599995,
             36.02002737300006
            ],
            [
             -121.56089054599994,
             36.01999951800008
            ],
            [
             -121.56096254599998,
             36.01993819300003
            ],
            [
             -121.56100108499999,
             36.01991158300007
            ],
            [
             -121.56105133899996,
             36.019889318000025
            ],
            [
             -121.56110687999995,
             36.019875246000026
            ],
            [
             -121.56116549199999,
             36.019868330000065
            ],
            [
             -121.56122510499995,
             36.019868065000026
            ],
            [
             -121.56128370299996,
             36.019874483000024
            ],
            [
             -121.56133919099995,
             36.01988815400006
            ],
            [
             -121.56138929499997,
             36.01991020500003
            ],
            [
             -121.56181982099997,
             36.02013608900006
            ],
            [
             -121.562034703,
             36.02027792700005
            ],
            [
             -121.56207297999998,
             36.020304628000076
            ],
            [
             -121.56212312199995,
             36.020326744000045
            ],
            [
             -121.56217865999997,
             36.02034049500003
            ],
            [
             -121.562237316,
             36.02034701400004
            ],
            [
             -121.56229700299997,
             36.020346870000026
            ],
            [
             -121.56230645899996,
             36.02034578000007
            ]
           ],
           "type": "LineString"
          },
          "id": "2",
          "properties": {
           "CHLOROPHYLL": 0.873553,
           "CSU_Descriptor": "steeply sloping, straight, medium erodibility, warm temperate dry, low river discharge, moderate wave energy, moderately tidal, euhaline-oxic-moderate to cool, clear, low chlorophyll",
           "CSU_ID": 62191,
           "Cluster": 6,
           "EMU_PHYSICAL": "Euhaline-Oxic-Moderate to Cool",
           "ERODIBILITY": "Medium",
           "GHM": 0.119442,
           "LENGTH_GEO": 809.4293303941587,
           "MAX_SLOPE": 114.768235,
           "MEAN_SIG_WAVEHEIGHT": 1.687268,
           "MasterKey": 2753657,
           "OBJECTID": 2753657,
           "OUTFLOW_DENSITY": 8671.790039,
           "OUTFLOW_DENSITY_RESCALED": 1.0484883786709782e-05,
           "REGIONAL_SINUOSITY": 1.270183,
           "RandomSort": 3110913.78667961,
           "Shape_Length": 0.00883771172510186,
           "TEMP_MOISTURE": "Warm Temperate Dry",
           "TIDAL_RANGE": 2.416656,
           "TURBIDITY": 0.027483,
           "chl_label": "low chlorophyll",
           "river_label": "low river discharge",
           "sinuosity_label": "straight",
           "slope_label": "steeply sloping",
           "style": {
            "color": "yellow",
            "dashArray": "5",
            "fillOpacity": 0.5,
            "fill_color": "yellow",
            "opacity": 1,
            "weight": 4
           },
           "tidal_label": "moderately tidal",
           "turbid_label": "clear",
           "wave_label": "moderate wave energy"
          },
          "type": "Feature"
         },
         {
          "geometry": {
           "coordinates": [
            [
             -121.56230645899996,
             36.02034578000007
            ],
            [
             -121.56235569799998,
             36.020340101000045
            ],
            [
             -121.56241133799995,
             36.020326209000075
            ],
            [
             -121.56246171099997,
             36.020304156000066
            ],
            [
             -121.56250036399996,
             36.02027776400007
            ],
            [
             -121.56257264099997,
             36.02021698100003
            ],
            [
             -121.562612549,
             36.020189455000036
            ],
            [
             -121.56266722299995,
             36.02016437700007
            ],
            [
             -121.56272912799994,
             36.020146270000055
            ],
            [
             -121.56279641699996,
             36.02013343100003
            ],
            [
             -121.56286764999999,
             36.02012450800004
            ],
            [
             -121.56294170099994,
             36.020118436000075
            ],
            [
             -121.56309495199997,
             36.02011165300007
            ],
            [
             -121.56332892199998,
             36.020106197000075
            ],
            [
             -121.56348185799999,
             36.020099886000025
            ],
            [
             -121.56355568099997,
             36.020094174000064
            ],
            [
             -121.56362666499996,
             36.02008567000007
            ],
            [
             -121.56369372199998,
             36.02007328000008
            ],
            [
             -121.56375546299995,
             36.02005560600003
            ],
            [
             -121.56381011499997,
             36.02003087400004
            ],
            [
             -121.56385019599998,
             36.02000349700006
            ],
            [
             -121.56392377999998,
             36.01994220300003
            ],
            [
             -121.56396385799997,
             36.01991485900004
            ],
            [
             -121.56401850699996,
             36.01989019900003
            ],
            [
             -121.56408024099994,
             36.019872633000034
            ],
            [
             -121.56414729099998,
             36.01986038800004
            ],
            [
             -121.56421826499997,
             36.01985207300004
            ],
            [
             -121.564292073,
             36.01984659900006
            ],
            [
             -121.56444496599994,
             36.01984093800007
            ],
            [
             -121.56467882399994,
             36.01983697800006
            ],
            [
             -121.56483194799995,
             36.01983156400007
            ],
            [
             -121.56490591199997,
             36.01982625900007
            ],
            [
             -121.56497703699995,
             36.01981811300004
            ],
            [
             -121.56504419899994,
             36.01980600500008
            ],
            [
             -121.56510595199995,
             36.01978848300007
            ],
            [
             -121.56516044399996,
             36.019763700000055
            ],
            [
             -121.56559153899997,
             36.01953999500006
            ],
            [
             -121.56580664999996,
             36.01939835700006
            ],
            [
             -121.56584625,
             36.019370380000055
            ],
            [
             -121.56590009699994,
             36.019345344000044
            ],
            [
             -121.56596109999998,
             36.019327402000044
            ],
            [
             -121.56602746599998,
             36.01931475300006
            ],
            [
             -121.56609780399998,
             36.019305994000035
            ],
            [
             -121.56617104299994,
             36.01930004500008
            ],
            [
             -121.56624638299996,
             36.019296094000026
            ],
            [
             -121.56640109999995,
             36.01929189600003
            ],
            [
             -121.56671771599997,
             36.019289592000064
            ],
            [
             -121.567034735,
             36.01929038900005
            ],
            [
             -121.56718985299995,
             36.019293864000076
            ],
            [
             -121.56726537399999,
             36.01929751500006
            ],
            [
             -121.56733873299999,
             36.019303249000075
            ],
            [
             -121.56740905299995,
             36.01931194700006
            ],
            [
             -121.56747517399998,
             36.01932477500003
            ],
            [
             -121.56753557099995,
             36.01934327200007
            ],
            [
             -121.56758826499998,
             36.01936942100008
            ],
            [
             -121.56762624499999,
             36.019398987000045
            ],
            [
             -121.56787357999997,
             36.019623901000045
            ],
            [
             -121.56790477799996,
             36.01966011600007
            ],
            [
             -121.568028202,
             36.019806290000076
            ],
            [
             -121.56822709199997,
             36.020011699000065
            ],
            [
             -121.568294187,
             36.02007936200005
            ],
            [
             -121.56850576999994,
             36.02027203100005
            ],
            [
             -121.56854251799996,
             36.02030265700006
            ],
            [
             -121.56859168499994,
             36.02033049000005
            ],
            [
             -121.56904149499996,
             36.020544793000056
            ],
            [
             -121.56936542199998,
             36.020673233000025
            ],
            [
             -121.569904872,
             36.02094226600008
            ],
            [
             -121.57004980299996,
             36.02101870400003
            ],
            [
             -121.57011324999996,
             36.021059852000064
            ]
           ],
           "type": "LineString"
          },
          "id": "3",
          "properties": {
           "CHLOROPHYLL": 0.873553,
           "CSU_Descriptor": "steeply sloping, straight, medium erodibility, warm temperate dry, low river discharge, moderate wave energy, moderately tidal, euhaline-oxic-moderate to cool, clear, low chlorophyll",
           "CSU_ID": 62191,
           "Cluster": 6,
           "EMU_PHYSICAL": "Euhaline-Oxic-Moderate to Cool",
           "ERODIBILITY": "Medium",
           "GHM": 0.119442,
           "LENGTH_GEO": 808.9428929044105,
           "MAX_SLOPE": 117.850254,
           "MEAN_SIG_WAVEHEIGHT": 1.687268,
           "MasterKey": 2753656,
           "OBJECTID": 2753656,
           "OUTFLOW_DENSITY": 8671.790039,
           "OUTFLOW_DENSITY_RESCALED": 1.0484883786709782e-05,
           "REGIONAL_SINUOSITY": 1.270183,
           "RandomSort": 2325693.95182625,
           "Shape_Length": 0.00861533106398222,
           "TEMP_MOISTURE": "Warm Temperate Dry",
           "TIDAL_RANGE": 2.416656,
           "TURBIDITY": 0.027483,
           "chl_label": "low chlorophyll",
           "river_label": "low river discharge",
           "sinuosity_label": "straight",
           "slope_label": "steeply sloping",
           "style": {
            "color": "yellow",
            "dashArray": "5",
            "fillOpacity": 0.5,
            "fill_color": "yellow",
            "opacity": 1,
            "weight": 4
           },
           "tidal_label": "moderately tidal",
           "turbid_label": "clear",
           "wave_label": "moderate wave energy"
          },
          "type": "Feature"
         },
         {
          "geometry": {
           "coordinates": [
            [
             -121.57011324999996,
             36.021059852000064
            ],
            [
             -121.57026582499998,
             36.02115880300005
            ],
            [
             -121.570804878,
             36.02142823300005
            ],
            [
             -121.57134438099996,
             36.02169721400003
            ],
            [
             -121.57166845599994,
             36.02182550300006
            ],
            [
             -121.57211918599995,
             36.02203888500003
            ],
            [
             -121.57216855999997,
             36.02206651100005
            ],
            [
             -121.57220550799997,
             36.022096936000025
            ],
            [
             -121.57241829999998,
             36.02228838600007
            ],
            [
             -121.57248533399996,
             36.02235610100007
            ],
            [
             -121.57267454899994,
             36.02257112700005
            ],
            [
             -121.57270457199996,
             36.02260847800005
            ],
            [
             -121.57273174999995,
             36.02265829500004
            ],
            [
             -121.57275302299996,
             36.02271402300005
            ],
            [
             -121.572805701,
             36.022892342000034
            ],
            [
             -121.57282721099995,
             36.02294782900003
            ],
            [
             -121.57285480399997,
             36.02299723300007
            ],
            [
             -121.57288538499995,
             36.02303402600006
            ],
            [
             -121.57308751399995,
             36.02323614000005
            ],
            [
             -121.57312430899998,
             36.02326671700007
            ],
            [
             -121.57317371699997,
             36.02329430900005
            ],
            [
             -121.57322920899998,
             36.023315817000025
            ],
            [
             -121.57340754499995,
             36.02336847500004
            ],
            [
             -121.57346328099999,
             36.02338973700006
            ],
            [
             -121.57351310999996,
             36.02341690700007
            ],
            [
             -121.57355047399994,
             36.02344691600007
            ],
            [
             -121.57376563399998,
             36.02363599800003
            ],
            [
             -121.57381221591196,
             36.023682
            ]
           ],
           "type": "LineString"
          },
          "id": "4",
          "properties": {
           "CHLOROPHYLL": 2.417483,
           "CSU_Descriptor": "steeply sloping, straight, medium erodibility, warm temperate dry, low river discharge, moderate wave energy, moderately tidal, euhaline-oxic-moderate to cool, clear, moderate chlorophyll",
           "CSU_ID": 70981,
           "Cluster": 6,
           "EMU_PHYSICAL": "Euhaline-Oxic-Moderate to Cool",
           "ERODIBILITY": "Medium",
           "GHM": 0.146464,
           "LENGTH_GEO": 807.570325164452,
           "MAX_SLOPE": 80.713103,
           "MEAN_SIG_WAVEHEIGHT": 1.687268,
           "MasterKey": 2753655,
           "OBJECTID": 2753655,
           "OUTFLOW_DENSITY": 8671.790039,
           "OUTFLOW_DENSITY_RESCALED": 1.0484883786709782e-05,
           "REGIONAL_SINUOSITY": 1.270183,
           "RandomSort": 1322999.00735509,
           "Shape_Length": 0.00797607602451941,
           "TEMP_MOISTURE": "Warm Temperate Dry",
           "TIDAL_RANGE": 2.416656,
           "TURBIDITY": 0.027483,
           "chl_label": "moderate chlorophyll",
           "river_label": "low river discharge",
           "sinuosity_label": "straight",
           "slope_label": "steeply sloping",
           "style": {
            "color": "yellow",
            "dashArray": "5",
            "fillOpacity": 0.5,
            "fill_color": "yellow",
            "opacity": 1,
            "weight": 4
           },
           "tidal_label": "moderately tidal",
           "turbid_label": "clear",
           "wave_label": "moderate wave energy"
          },
          "type": "Feature"
         },
         {
          "geometry": {
           "coordinates": [
            [
             -121.538003,
             36.01500374824005
            ],
            [
             -121.53802517399998,
             36.01500649800005
            ],
            [
             -121.538092539,
             36.015019333000055
            ],
            [
             -121.53815451199995,
             36.015037566000046
            ],
            [
             -121.53820928399995,
             36.015063017000045
            ],
            [
             -121.53824894399997,
             36.01509082800004
            ],
            [
             -121.53832172499995,
             36.01515304800006
            ],
            [
             -121.53836141799997,
             36.01518088900008
            ],
            [
             -121.53841513999998,
             36.01520599100007
            ],
            [
             -121.53847585499994,
             36.015224138000065
            ],
            [
             -121.53854184899996,
             36.01523705900007
            ],
            [
             -121.53861176899994,
             36.01524610900003
            ],
            [
             -121.53868458199997,
             36.015252331000056
            ],
            [
             -121.53883590299995,
             36.01525927200004
            ],
            [
             -121.53907025199999,
             36.01526272700005
            ],
            [
             -121.53938642999998,
             36.01526264600005
            ],
            [
             -121.53962088199995,
             36.01525903500004
            ],
            [
             -121.53977233899997,
             36.01525193900005
            ],
            [
             -121.539845244,
             36.015245615000026
            ],
            [
             -121.53991528399996,
             36.01523644200006
            ],
            [
             -121.53998141999995,
             36.01522337200004
            ],
            [
             -121.54004231399995,
             36.01520504600006
            ],
            [
             -121.54009624399998,
             36.01517973000006
            ],
            [
             -121.54013614899998,
             36.01515167700006
            ],
            [
             -121.54020945199994,
             36.01508893000005
            ],
            [
             -121.54024942999996,
             36.01506080000007
            ],
            [
             -121.54030399299995,
             36.015035159000035
            ],
            [
             -121.54036567499998,
             36.01501655200008
            ],
            [
             -121.540432706,
             36.015003224000054
            ],
            [
             -121.54050369099997,
             36.01499381000008
            ],
            [
             -121.540577542,
             36.01498728300004
            ],
            [
             -121.54065340399995,
             36.01498288700003
            ],
            [
             -121.54073059599995,
             36.014980098000024
            ],
            [
             -121.54088677899995,
             36.01497819100007
            ],
            [
             -121.54096478799994,
             36.01497893100003
            ],
            [
             -121.54104206599999,
             36.01498098500008
            ],
            [
             -121.54111801799996,
             36.01498471600007
            ],
            [
             -121.54119190299997,
             36.014990703000024
            ],
            [
             -121.54126277999995,
             36.014999776000025
            ],
            [
             -121.54132943499997,
             36.01501308700006
            ],
            [
             -121.54139029499999,
             36.01503216300006
            ],
            [
             -121.54144333699998,
             36.01505900400008
            ],
            [
             -121.54148121799994,
             36.01508897400004
            ],
            [
             -121.54161719599995,
             36.01522391800006
            ],
            [
             -121.54183136599994,
             36.01541503200008
            ],
            [
             -121.54186920999996,
             36.01544465600006
            ],
            [
             -121.54192314699998,
             36.015471656000045
            ],
            [
             -121.541984792,
             36.01549093600005
            ],
            [
             -121.54205176899995,
             36.015504864000036
            ],
            [
             -121.54212210599997,
             36.01551542400006
            ],
            [
             -121.54226609399996,
             36.01553320000005
            ],
            [
             -121.54233654799998,
             36.01554361700005
            ],
            [
             -121.54240371799995,
             36.015557314000034
            ],
            [
             -121.54246561399998,
             36.01557628100005
            ],
            [
             -121.54251985099995,
             36.01560290400005
            ],
            [
             -121.54255795399996,
             36.01563218300004
            ],
            [
             -121.54277151899998,
             36.015822883000055
            ],
            [
             -121.542807101,
             36.015854674000025
            ],
            [
             -121.54283852999998,
             36.015890623000075
            ],
            [
             -121.542896467,
             36.01596743500005
            ],
            [
             -121.54292786899998,
             36.016003409000064
            ],
            [
             -121.54317432899995,
             36.01622856600005
            ],
            [
             -121.543211021,
             36.01625924700005
            ],
            [
             -121.54326014999998,
             36.01628711700005
            ],
            [
             -121.54331528799997,
             36.01630897700005
            ],
            [
             -121.54363898799994,
             36.01643764500005
            ],
            [
             -121.54408953299998,
             36.01665121100007
            ],
            [
             -121.54413862999996,
             36.01667911100003
            ],
            [
             -121.54417528899995,
             36.01670982600007
            ],
            [
             -121.54442127699997,
             36.01693545400008
            ],
            [
             -121.54445256199995,
             36.01697154200008
            ],
            [
             -121.54451021999995,
             36.01704863200007
            ],
            [
             -121.54454148399998,
             36.017084742000065
            ],
            [
             -121.54457688899998,
             36.01711671000004
            ],
            [
             -121.54478952499994,
             36.017308316000026
            ],
            [
             -121.54482767299999,
             36.01733754300005
            ],
            [
             -121.54487938299997,
             36.01736283200006
            ],
            [
             -121.54493847199996,
             36.01738074000008
            ],
            [
             -121.54500300899997,
             36.01739320200005
            ],
            [
             -121.54507145399998,
             36.01740175500004
            ],
            [
             -121.54514257099999,
             36.01740763500004
            ],
            [
             -121.54543535599998,
             36.017422845000056
            ],
            [
             -121.54550661399998,
             36.01742858500006
            ],
            [
             -121.54557535799995,
             36.01743683900003
            ],
            [
             -121.54557643799996,
             36.01743703600005
            ]
           ],
           "type": "LineString"
          },
          "id": "5",
          "properties": {
           "CHLOROPHYLL": 2.417483,
           "CSU_Descriptor": "vertical, straight, medium erodibility, warm temperate dry, low river discharge, moderate wave energy, moderately tidal, euhaline-oxic-moderate to cool, clear, moderate chlorophyll",
           "CSU_ID": 71260,
           "Cluster": 6,
           "EMU_PHYSICAL": "Euhaline-Oxic-Moderate to Cool",
           "ERODIBILITY": "Medium",
           "GHM": 0.133607,
           "LENGTH_GEO": 808.8794813016038,
           "MAX_SLOPE": 318.587599,
           "MEAN_SIG_WAVEHEIGHT": 1.687268,
           "MasterKey": 2753659,
           "OBJECTID": 2753659,
           "OUTFLOW_DENSITY": 8671.790039,
           "OUTFLOW_DENSITY_RESCALED": 1.0484883786709782e-05,
           "REGIONAL_SINUOSITY": 1.270183,
           "RandomSort": 1593234.33411067,
           "Shape_Length": 0.008565231531598157,
           "TEMP_MOISTURE": "Warm Temperate Dry",
           "TIDAL_RANGE": 2.416656,
           "TURBIDITY": 0.027483,
           "chl_label": "moderate chlorophyll",
           "river_label": "low river discharge",
           "sinuosity_label": "straight",
           "slope_label": "vertical",
           "style": {
            "color": "yellow",
            "dashArray": "5",
            "fillOpacity": 0.5,
            "fill_color": "yellow",
            "opacity": 1,
            "weight": 4
           },
           "tidal_label": "moderately tidal",
           "turbid_label": "clear",
           "wave_label": "moderate wave energy"
          },
          "type": "Feature"
         },
         {
          "geometry": {
           "coordinates": [
            [
             -121.54557643799996,
             36.01743703600005
            ],
            [
             -121.54564046899998,
             36.017448726000055
            ],
            [
             -121.54570057599994,
             36.017465618000074
            ],
            [
             -121.547370662,
             36.01802848800003
            ],
            [
             -121.54799219999995,
             36.01824238200004
            ],
            [
             -121.54828958499996,
             36.01838966500003
            ],
            [
             -121.54832960799996,
             36.01841701500007
            ],
            [
             -121.548383721,
             36.018441504000066
            ],
            [
             -121.54844481499998,
             36.01845901400003
            ],
            [
             -121.54851115499997,
             36.01847127600007
            ],
            [
             -121.54858138499998,
             36.01847964800004
            ],
            [
             -121.548654468,
             36.01848516800004
            ],
            [
             -121.54880622099995,
             36.01849061900003
            ],
            [
             -121.54896219099999,
             36.01849185400005
            ],
            [
             -121.54943609199995,
             36.01848957100003
            ],
            [
             -121.54959181099997,
             36.01849105600007
            ],
            [
             -121.54966824199994,
             36.01849322800007
            ],
            [
             -121.54974316599998,
             36.01849690600005
            ],
            [
             -121.54981598899997,
             36.01850268600003
            ],
            [
             -121.54988592099994,
             36.01851135700008
            ],
            [
             -121.54995192099994,
             36.01852395800006
            ],
            [
             -121.55001264699996,
             36.018541834000075
            ],
            [
             -121.55006637799994,
             36.01856670800004
            ],
            [
             -121.55010607599996,
             36.01859438200006
            ],
            [
             -121.55017886999997,
             36.01865633600005
            ],
            [
             -121.55021853899996,
             36.01868403900005
            ],
            [
             -121.55027269399994,
             36.01870914700004
            ],
            [
             -121.550333922,
             36.018727184000056
            ],
            [
             -121.55040045899995,
             36.01873991000008
            ],
            [
             -121.55047093299999,
             36.01874870100005
            ],
            [
             -121.55054428299997,
             36.018754612000066
            ],
            [
             -121.550696615,
             36.018760807000035
            ],
            [
             -121.55093232099995,
             36.01876289000006
            ],
            [
             -121.55205056999995,
             36.01875432600008
            ],
            [
             -121.55228761399997,
             36.018755071000044
            ],
            [
             -121.55244093899995,
             36.01876027000003
            ],
            [
             -121.55251470299999,
             36.01876577000007
            ],
            [
             -121.55258542399997,
             36.01877431200006
            ],
            [
             -121.55265191399997,
             36.01878708400005
            ],
            [
             -121.55271260999996,
             36.01880565300007
            ],
            [
             -121.55276548299997,
             36.01883204300003
            ],
            [
             -121.55280319399998,
             36.01886170500006
            ],
            [
             -121.55301313599995,
             36.01905600400005
            ],
            [
             -121.55304808099999,
             36.019088434000025
            ],
            [
             -121.55307887199996,
             36.01912501600003
            ],
            [
             -121.55313555499998,
             36.01920308000007
            ],
            [
             -121.55316634599995,
             36.019239663000064
            ],
            [
             -121.55320128799997,
             36.019272095000076
            ],
            [
             -121.55341120699995,
             36.01946642000007
            ],
            [
             -121.55344890999999,
             36.019496090000075
            ],
            [
             -121.55350230599998,
             36.01952270000004
            ],
            [
             -121.55356364799997,
             36.01954136400008
            ],
            [
             -121.55363085699997,
             36.01955415900005
            ],
            [
             -121.553702333,
             36.01956269000004
            ],
            [
             -121.55377346699998,
             36.01956791600003
            ]
           ],
           "type": "LineString"
          },
          "id": "6",
          "properties": {
           "CHLOROPHYLL": 0.873553,
           "CSU_Descriptor": "steeply sloping, straight, medium erodibility, warm temperate dry, low river discharge, moderate wave energy, moderately tidal, euhaline-oxic-moderate to cool, clear, low chlorophyll",
           "CSU_ID": 62191,
           "Cluster": 6,
           "EMU_PHYSICAL": "Euhaline-Oxic-Moderate to Cool",
           "ERODIBILITY": "Medium",
           "GHM": 0.144511,
           "LENGTH_GEO": 809.2201719767945,
           "MAX_SLOPE": 109.272652,
           "MEAN_SIG_WAVEHEIGHT": 1.687268,
           "MasterKey": 2753658,
           "OBJECTID": 2753658,
           "OUTFLOW_DENSITY": 8671.790039,
           "OUTFLOW_DENSITY_RESCALED": 1.0484883786709782e-05,
           "REGIONAL_SINUOSITY": 1.270183,
           "RandomSort": 3366707.6827197,
           "Shape_Length": 0.008735799579888025,
           "TEMP_MOISTURE": "Warm Temperate Dry",
           "TIDAL_RANGE": 2.416656,
           "TURBIDITY": 0.027483,
           "chl_label": "low chlorophyll",
           "river_label": "low river discharge",
           "sinuosity_label": "straight",
           "slope_label": "steeply sloping",
           "style": {
            "color": "yellow",
            "dashArray": "5",
            "fillOpacity": 0.5,
            "fill_color": "yellow",
            "opacity": 1,
            "weight": 4
           },
           "tidal_label": "moderately tidal",
           "turbid_label": "clear",
           "wave_label": "moderate wave energy"
          },
          "type": "Feature"
         },
         {
          "geometry": {
           "coordinates": [
            [
             -121.55377346699998,
             36.01956791600003
            ],
            [
             -121.55377686499997,
             36.01956816500007
            ],
            [
             -121.55385354599997,
             36.01957149000003
            ],
            [
             -121.55401086799998,
             36.01957418100005
            ],
            [
             -121.55505582299998,
             36.01956930500006
            ],
            [
             -121.55778162999997,
             36.01956371400007
            ],
            [
             -121.55794010899996,
             36.01956524900004
            ],
            [
             -121.55801804199996,
             36.019567325000025
            ],
            [
             -121.55809453799998,
             36.01957083900004
            ],
            [
             -121.558168976,
             36.01957641000007
            ],
            [
             -121.55824051699994,
             36.019584879000035
            ],
            [
             -121.55830805299996,
             36.01959735600008
            ],
            [
             -121.55837012299997,
             36.019615300000055
            ],
            [
             -121.55842484199997,
             36.019640594000066
            ],
            [
             -121.55885449999994,
             36.01986567100005
            ],
            [
             -121.55906934899997,
             36.02000743200006
            ],
            [
             -121.55910891099995,
             36.02003540000004
            ],
            [
             -121.55916271799998,
             36.02006041100003
            ],
            [
             -121.55922367899996,
             36.02007831200007
            ],
            [
             -121.55929000199995,
             36.02009090200005
            ],
            [
             -121.55936029199995,
             36.020099584000036
            ],
            [
             -121.55943347699997,
             36.02010542700003
            ],
            [
             -121.55950875299999,
             36.02010924900003
            ],
            [
             -121.55966331199994,
             36.02011308200008
            ],
            [
             -121.55982078199997,
             36.020114189000026
            ],
            [
             -121.560058788,
             36.020113656000035
            ],
            [
             -121.56029557,
             36.020110662000036
            ],
            [
             -121.56045022299998,
             36.02010537900003
            ],
            [
             -121.56052556699996,
             36.02010076100004
            ],
            [
             -121.56059883899997,
             36.020094088000064
            ],
            [
             -121.56066923299994,
             36.02008458200004
            ],
            [
             -121.56073568399995,
             36.02007122400005
            ],
            [
             -121.56079680099998,
             36.02005270800004
            ],
            [
             -121.56085079599995,
             36.02002737300006
            ],
            [
             -121.56089054599994,
             36.01999951800008
            ],
            [
             -121.56096254599998,
             36.01993819300003
            ],
            [
             -121.56100108499999,
             36.01991158300007
            ],
            [
             -121.56105133899996,
             36.019889318000025
            ],
            [
             -121.56110687999995,
             36.019875246000026
            ],
            [
             -121.56116549199999,
             36.019868330000065
            ],
            [
             -121.56122510499995,
             36.019868065000026
            ],
            [
             -121.56128370299996,
             36.019874483000024
            ],
            [
             -121.56133919099995,
             36.01988815400006
            ],
            [
             -121.56138929499997,
             36.01991020500003
            ],
            [
             -121.56181982099997,
             36.02013608900006
            ],
            [
             -121.562034703,
             36.02027792700005
            ],
            [
             -121.56207297999998,
             36.020304628000076
            ],
            [
             -121.56212312199995,
             36.020326744000045
            ],
            [
             -121.56217865999997,
             36.02034049500003
            ],
            [
             -121.562237316,
             36.02034701400004
            ],
            [
             -121.56229700299997,
             36.020346870000026
            ],
            [
             -121.56230645899996,
             36.02034578000007
            ]
           ],
           "type": "LineString"
          },
          "id": "7",
          "properties": {
           "CHLOROPHYLL": 0.873553,
           "CSU_Descriptor": "steeply sloping, straight, medium erodibility, warm temperate dry, low river discharge, moderate wave energy, moderately tidal, euhaline-oxic-moderate to cool, clear, low chlorophyll",
           "CSU_ID": 62191,
           "Cluster": 6,
           "EMU_PHYSICAL": "Euhaline-Oxic-Moderate to Cool",
           "ERODIBILITY": "Medium",
           "GHM": 0.119442,
           "LENGTH_GEO": 809.4293303941587,
           "MAX_SLOPE": 114.768235,
           "MEAN_SIG_WAVEHEIGHT": 1.687268,
           "MasterKey": 2753657,
           "OBJECTID": 2753657,
           "OUTFLOW_DENSITY": 8671.790039,
           "OUTFLOW_DENSITY_RESCALED": 1.0484883786709782e-05,
           "REGIONAL_SINUOSITY": 1.270183,
           "RandomSort": 3110913.78667961,
           "Shape_Length": 0.00883771172510186,
           "TEMP_MOISTURE": "Warm Temperate Dry",
           "TIDAL_RANGE": 2.416656,
           "TURBIDITY": 0.027483,
           "chl_label": "low chlorophyll",
           "river_label": "low river discharge",
           "sinuosity_label": "straight",
           "slope_label": "steeply sloping",
           "style": {
            "color": "yellow",
            "dashArray": "5",
            "fillOpacity": 0.5,
            "fill_color": "yellow",
            "opacity": 1,
            "weight": 4
           },
           "tidal_label": "moderately tidal",
           "turbid_label": "clear",
           "wave_label": "moderate wave energy"
          },
          "type": "Feature"
         },
         {
          "geometry": {
           "coordinates": [
            [
             -121.56230645899996,
             36.02034578000007
            ],
            [
             -121.56235569799998,
             36.020340101000045
            ],
            [
             -121.56241133799995,
             36.020326209000075
            ],
            [
             -121.56246171099997,
             36.020304156000066
            ],
            [
             -121.56250036399996,
             36.02027776400007
            ],
            [
             -121.56257264099997,
             36.02021698100003
            ],
            [
             -121.562612549,
             36.020189455000036
            ],
            [
             -121.56266722299995,
             36.02016437700007
            ],
            [
             -121.56272912799994,
             36.020146270000055
            ],
            [
             -121.56279641699996,
             36.02013343100003
            ],
            [
             -121.56286764999999,
             36.02012450800004
            ],
            [
             -121.56294170099994,
             36.020118436000075
            ],
            [
             -121.56309495199997,
             36.02011165300007
            ],
            [
             -121.56332892199998,
             36.020106197000075
            ],
            [
             -121.56348185799999,
             36.020099886000025
            ],
            [
             -121.56355568099997,
             36.020094174000064
            ],
            [
             -121.56362666499996,
             36.02008567000007
            ],
            [
             -121.56369372199998,
             36.02007328000008
            ],
            [
             -121.56375546299995,
             36.02005560600003
            ],
            [
             -121.56381011499997,
             36.02003087400004
            ],
            [
             -121.56385019599998,
             36.02000349700006
            ],
            [
             -121.56392377999998,
             36.01994220300003
            ],
            [
             -121.56396385799997,
             36.01991485900004
            ],
            [
             -121.56401850699996,
             36.01989019900003
            ],
            [
             -121.56408024099994,
             36.019872633000034
            ],
            [
             -121.56414729099998,
             36.01986038800004
            ],
            [
             -121.56421826499997,
             36.01985207300004
            ],
            [
             -121.564292073,
             36.01984659900006
            ],
            [
             -121.56444496599994,
             36.01984093800007
            ],
            [
             -121.56467882399994,
             36.01983697800006
            ],
            [
             -121.56483194799995,
             36.01983156400007
            ],
            [
             -121.56490591199997,
             36.01982625900007
            ],
            [
             -121.56497703699995,
             36.01981811300004
            ],
            [
             -121.56504419899994,
             36.01980600500008
            ],
            [
             -121.56510595199995,
             36.01978848300007
            ],
            [
             -121.56516044399996,
             36.019763700000055
            ],
            [
             -121.56559153899997,
             36.01953999500006
            ],
            [
             -121.56580664999996,
             36.01939835700006
            ],
            [
             -121.56584625,
             36.019370380000055
            ],
            [
             -121.56590009699994,
             36.019345344000044
            ],
            [
             -121.56596109999998,
             36.019327402000044
            ],
            [
             -121.56602746599998,
             36.01931475300006
            ],
            [
             -121.56609780399998,
             36.019305994000035
            ],
            [
             -121.56617104299994,
             36.01930004500008
            ],
            [
             -121.56624638299996,
             36.019296094000026
            ],
            [
             -121.56640109999995,
             36.01929189600003
            ],
            [
             -121.56671771599997,
             36.019289592000064
            ],
            [
             -121.567034735,
             36.01929038900005
            ],
            [
             -121.56718985299995,
             36.019293864000076
            ],
            [
             -121.56726537399999,
             36.01929751500006
            ],
            [
             -121.56733873299999,
             36.019303249000075
            ],
            [
             -121.56740905299995,
             36.01931194700006
            ],
            [
             -121.56747517399998,
             36.01932477500003
            ],
            [
             -121.56753557099995,
             36.01934327200007
            ],
            [
             -121.56758826499998,
             36.01936942100008
            ],
            [
             -121.56762624499999,
             36.019398987000045
            ],
            [
             -121.56787357999997,
             36.019623901000045
            ],
            [
             -121.56790477799996,
             36.01966011600007
            ],
            [
             -121.568028202,
             36.019806290000076
            ],
            [
             -121.56822709199997,
             36.020011699000065
            ],
            [
             -121.568294187,
             36.02007936200005
            ],
            [
             -121.56850576999994,
             36.02027203100005
            ],
            [
             -121.56854251799996,
             36.02030265700006
            ],
            [
             -121.56859168499994,
             36.02033049000005
            ],
            [
             -121.56904149499996,
             36.020544793000056
            ],
            [
             -121.56936542199998,
             36.020673233000025
            ],
            [
             -121.569904872,
             36.02094226600008
            ],
            [
             -121.57004980299996,
             36.02101870400003
            ],
            [
             -121.57011324999996,
             36.021059852000064
            ]
           ],
           "type": "LineString"
          },
          "id": "8",
          "properties": {
           "CHLOROPHYLL": 0.873553,
           "CSU_Descriptor": "steeply sloping, straight, medium erodibility, warm temperate dry, low river discharge, moderate wave energy, moderately tidal, euhaline-oxic-moderate to cool, clear, low chlorophyll",
           "CSU_ID": 62191,
           "Cluster": 6,
           "EMU_PHYSICAL": "Euhaline-Oxic-Moderate to Cool",
           "ERODIBILITY": "Medium",
           "GHM": 0.119442,
           "LENGTH_GEO": 808.9428929044105,
           "MAX_SLOPE": 117.850254,
           "MEAN_SIG_WAVEHEIGHT": 1.687268,
           "MasterKey": 2753656,
           "OBJECTID": 2753656,
           "OUTFLOW_DENSITY": 8671.790039,
           "OUTFLOW_DENSITY_RESCALED": 1.0484883786709782e-05,
           "REGIONAL_SINUOSITY": 1.270183,
           "RandomSort": 2325693.95182625,
           "Shape_Length": 0.00861533106398222,
           "TEMP_MOISTURE": "Warm Temperate Dry",
           "TIDAL_RANGE": 2.416656,
           "TURBIDITY": 0.027483,
           "chl_label": "low chlorophyll",
           "river_label": "low river discharge",
           "sinuosity_label": "straight",
           "slope_label": "steeply sloping",
           "style": {
            "color": "yellow",
            "dashArray": "5",
            "fillOpacity": 0.5,
            "fill_color": "yellow",
            "opacity": 1,
            "weight": 4
           },
           "tidal_label": "moderately tidal",
           "turbid_label": "clear",
           "wave_label": "moderate wave energy"
          },
          "type": "Feature"
         },
         {
          "geometry": {
           "coordinates": [
            [
             -121.57011324999996,
             36.021059852000064
            ],
            [
             -121.57026582499998,
             36.02115880300005
            ],
            [
             -121.570804878,
             36.02142823300005
            ],
            [
             -121.57134438099996,
             36.02169721400003
            ],
            [
             -121.57166845599994,
             36.02182550300006
            ],
            [
             -121.57211918599995,
             36.02203888500003
            ],
            [
             -121.57216855999997,
             36.02206651100005
            ],
            [
             -121.57220550799997,
             36.022096936000025
            ],
            [
             -121.57241829999998,
             36.02228838600007
            ],
            [
             -121.57248533399996,
             36.02235610100007
            ],
            [
             -121.57267454899994,
             36.02257112700005
            ],
            [
             -121.57270457199996,
             36.02260847800005
            ],
            [
             -121.57273174999995,
             36.02265829500004
            ],
            [
             -121.57275302299996,
             36.02271402300005
            ],
            [
             -121.572805701,
             36.022892342000034
            ],
            [
             -121.57282721099995,
             36.02294782900003
            ],
            [
             -121.57285480399997,
             36.02299723300007
            ],
            [
             -121.57288538499995,
             36.02303402600006
            ],
            [
             -121.57308751399995,
             36.02323614000005
            ],
            [
             -121.57312430899998,
             36.02326671700007
            ],
            [
             -121.57317371699997,
             36.02329430900005
            ],
            [
             -121.57322920899998,
             36.023315817000025
            ],
            [
             -121.57340754499995,
             36.02336847500004
            ],
            [
             -121.57346328099999,
             36.02338973700006
            ],
            [
             -121.57351310999996,
             36.02341690700007
            ],
            [
             -121.57355047399994,
             36.02344691600007
            ],
            [
             -121.57376563399998,
             36.02363599800003
            ],
            [
             -121.57381221591196,
             36.023682
            ]
           ],
           "type": "LineString"
          },
          "id": "9",
          "properties": {
           "CHLOROPHYLL": 2.417483,
           "CSU_Descriptor": "steeply sloping, straight, medium erodibility, warm temperate dry, low river discharge, moderate wave energy, moderately tidal, euhaline-oxic-moderate to cool, clear, moderate chlorophyll",
           "CSU_ID": 70981,
           "Cluster": 6,
           "EMU_PHYSICAL": "Euhaline-Oxic-Moderate to Cool",
           "ERODIBILITY": "Medium",
           "GHM": 0.146464,
           "LENGTH_GEO": 807.570325164452,
           "MAX_SLOPE": 80.713103,
           "MEAN_SIG_WAVEHEIGHT": 1.687268,
           "MasterKey": 2753655,
           "OBJECTID": 2753655,
           "OUTFLOW_DENSITY": 8671.790039,
           "OUTFLOW_DENSITY_RESCALED": 1.0484883786709782e-05,
           "REGIONAL_SINUOSITY": 1.270183,
           "RandomSort": 1322999.00735509,
           "Shape_Length": 0.00797607602451941,
           "TEMP_MOISTURE": "Warm Temperate Dry",
           "TIDAL_RANGE": 2.416656,
           "TURBIDITY": 0.027483,
           "chl_label": "moderate chlorophyll",
           "river_label": "low river discharge",
           "sinuosity_label": "straight",
           "slope_label": "steeply sloping",
           "style": {
            "color": "yellow",
            "dashArray": "5",
            "fillOpacity": 0.5,
            "fill_color": "yellow",
            "opacity": 1,
            "weight": 4
           },
           "tidal_label": "moderately tidal",
           "turbid_label": "clear",
           "wave_label": "moderate wave energy"
          },
          "type": "Feature"
         }
        ],
        "type": "FeatureCollection"
       },
       "hover_style": {
        "color": "white",
        "dashArray": "4",
        "fillOpacity": 0.7
       },
       "name": "us_county349_ref_shoreline_province1257_ref_shoreline",
       "style": {
        "color": "yellow",
        "dashArray": "5",
        "fillOpacity": 0.5,
        "fill_color": "yellow",
        "opacity": 1,
        "weight": 4
       }
      }
     },
     "1c9d19ac6a5e4c07a294c3b1c91e6676": {
      "model_module": "@jupyter-widgets/base",
      "model_module_version": "1.2.0",
      "model_name": "LayoutModel",
      "state": {
       "height": "auto",
       "padding": "0px 0px 0px 4px",
       "width": "auto"
      }
     },
     "1d1a679f4d8a461ab687946f8e09d0f2": {
      "model_module": "@jupyter-widgets/controls",
      "model_module_version": "1.5.0",
      "model_name": "ToggleButtonModel",
      "state": {
       "button_style": "primary",
       "icon": "download",
       "layout": "IPY_MODEL_e496da4a00264638a3aafbb128b553b4",
       "style": "IPY_MODEL_3844045614bc4c2e93c6f1c1aaf4fe43",
       "tooltip": "Download OSM data"
      }
     },
     "1d1cfdbbcd9a443bb38cffbebd62570a": {
      "model_module": "@jupyter-widgets/base",
      "model_module_version": "1.2.0",
      "model_name": "LayoutModel",
      "state": {
       "width": "500px"
      }
     },
     "1f44f2043f1b4c2d96e1a8532d798f83": {
      "model_module": "@jupyter-widgets/base",
      "model_module_version": "1.2.0",
      "model_name": "LayoutModel",
      "state": {}
     },
     "200b3ad16b734c018b3002b3e854c057": {
      "model_module": "@jupyter-widgets/base",
      "model_module_version": "1.2.0",
      "model_name": "LayoutModel",
      "state": {
       "margin": "0px 5px 0px 5px"
      }
     },
     "2092b36fa9ed4da7a3afa26dae31cec2": {
      "model_module": "@jupyter-widgets/controls",
      "model_module_version": "1.5.0",
      "model_name": "SelectMultipleModel",
      "state": {
       "_options_labels": [
        "L5",
        "L7",
        "L8",
        "S2"
       ],
       "description": "Satellites",
       "index": [
        2
       ],
       "layout": "IPY_MODEL_262071c843c045cf9d0af89a5a28085f",
       "rows": 5,
       "style": "IPY_MODEL_818f6b4ce1eb425eae0955ee86e96ebb"
      }
     },
     "2100dbc4bdb0490589f48033daaf1976": {
      "model_module": "jupyter-leaflet",
      "model_module_version": "^0.17.0",
      "model_name": "LeafletTileLayerModel",
      "state": {
       "_model_module_version": "^0.17.0",
       "_view_module_version": "^0.17.0",
       "attribution": "Justice Map",
       "max_zoom": 22,
       "name": "JusticeMap.multi",
       "options": [
        "attribution",
        "bounds",
        "detect_retina",
        "max_native_zoom",
        "max_zoom",
        "min_native_zoom",
        "min_zoom",
        "no_wrap",
        "tile_size",
        "tms"
       ],
       "url": "https://www.justicemap.org/tile/county/multi/{z}/{x}/{y}.png"
      }
     },
     "213938036e0e40e4a398d37972067b51": {
      "model_module": "@jupyter-widgets/base",
      "model_module_version": "1.2.0",
      "model_name": "LayoutModel",
      "state": {
       "height": "auto",
       "padding": "0px 0px 0px 4px",
       "width": "auto"
      }
     },
     "21939a789bd942c889e168b5eb38738e": {
      "model_module": "@jupyter-widgets/controls",
      "model_module_version": "1.5.0",
      "model_name": "FloatProgressModel",
      "state": {
       "bar_style": "success",
       "layout": "IPY_MODEL_ce30a2588774451f9576258c1fc2a152",
       "max": 12,
       "style": "IPY_MODEL_e513520c36cc4cca92820debd47e79ab",
       "value": 12
      }
     },
     "222c3f2b8eb948aabcf5d298dcb5decb": {
      "model_module": "jupyter-leaflet",
      "model_module_version": "^0.17.0",
      "model_name": "LeafletWMSLayerModel",
      "state": {
       "_model_module_version": "^0.17.0",
       "_view_module_version": "^0.17.0",
       "attribution": "FWS",
       "crs": {
        "custom": false,
        "name": "EPSG3857"
       },
       "format": "image/png",
       "layers": "0",
       "name": "FWS NWI Wetlands Raster",
       "options": [
        "attribution",
        "bounds",
        "detect_retina",
        "format",
        "layers",
        "max_native_zoom",
        "max_zoom",
        "min_native_zoom",
        "min_zoom",
        "no_wrap",
        "styles",
        "tile_size",
        "tms",
        "transparent",
        "uppercase"
       ],
       "transparent": true,
       "url": "https://www.fws.gov/wetlands/arcgis/services/Wetlands_Raster/ImageServer/WMSServer?"
      }
     },
     "23557b8d215342bcad3f08819bea0dc6": {
      "model_module": "@jupyter-widgets/controls",
      "model_module_version": "1.5.0",
      "model_name": "DescriptionStyleModel",
      "state": {
       "description_width": ""
      }
     },
     "2417b78a15de48f68791013ddda09bc6": {
      "model_module": "jupyter-leaflet",
      "model_module_version": "^0.17.0",
      "model_name": "LeafletTileLayerModel",
      "state": {
       "_model_module_version": "^0.17.0",
       "_view_module_version": "^0.17.0",
       "attribution": "OpenStreetMap",
       "max_zoom": 22,
       "name": "OpenStreetMap",
       "options": [
        "attribution",
        "bounds",
        "detect_retina",
        "max_native_zoom",
        "max_zoom",
        "min_native_zoom",
        "min_zoom",
        "no_wrap",
        "tile_size",
        "tms"
       ]
      }
     },
     "249d24b5e362479989fc1dd40364460f": {
      "model_module": "jupyter-leaflet",
      "model_module_version": "^0.17.0",
      "model_name": "LeafletTileLayerModel",
      "state": {
       "_model_module_version": "^0.17.0",
       "_view_module_version": "^0.17.0",
       "attribution": "Imagery provided by services from the Global Imagery Browse Services (GIBS), operated by the NASA/GSFC/Earth Science Data and Information System (ESDIS) with funding provided by NASA/HQ.",
       "max_zoom": 8,
       "name": "NASAGIBS.BlueMarble",
       "options": [
        "attribution",
        "bounds",
        "detect_retina",
        "max_native_zoom",
        "max_zoom",
        "min_native_zoom",
        "min_zoom",
        "no_wrap",
        "tile_size",
        "tms"
       ],
       "url": "https://gibs.earthdata.nasa.gov/wmts/epsg3857/best/BlueMarble_NextGeneration/default/EPSG3857_500m/{z}/{y}/{x}.jpeg"
      }
     },
     "262071c843c045cf9d0af89a5a28085f": {
      "model_module": "@jupyter-widgets/base",
      "model_module_version": "1.2.0",
      "model_name": "LayoutModel",
      "state": {}
     },
     "269a868bd76140cb9a19996e8683fb71": {
      "model_module": "@jupyter-widgets/controls",
      "model_module_version": "1.5.0",
      "model_name": "DescriptionStyleModel",
      "state": {
       "description_width": ""
      }
     },
     "2741e11c9d914e27b211e8b311923b23": {
      "model_module": "@jupyter-widgets/controls",
      "model_module_version": "1.5.0",
      "model_name": "ToggleButtonModel",
      "state": {
       "button_style": "primary",
       "icon": "address-book",
       "layout": "IPY_MODEL_c2b0a8006ef34b75a6ece7360a2484ec",
       "style": "IPY_MODEL_1b19a739d3cd462ea905631dae693a8a",
       "tooltip": "Get US Census data"
      }
     },
     "2868f53d00a54227b7fa05996aa2bd22": {
      "model_module": "jupyter-leaflet",
      "model_module_version": "^0.17.0",
      "model_name": "LeafletMapStyleModel",
      "state": {
       "_model_module_version": "^0.17.0",
       "cursor": "default"
      }
     },
     "287d117b5f614103b75df07a2d412764": {
      "model_module": "@jupyter-widgets/controls",
      "model_module_version": "1.5.0",
      "model_name": "HBoxModel",
      "state": {
       "children": [
        "IPY_MODEL_c1fc097e13af49e8b3101db0f17c1857",
        "IPY_MODEL_3a0caf95920d446cb64924d87d25d645",
        "IPY_MODEL_79b3b6cb362e4746a3a2c6b433533cd3"
       ],
       "layout": "IPY_MODEL_8a8910932ecf434cb03d684916380a25"
      }
     },
     "29212140a9234badbcc7504f8bdeb8be": {
      "model_module": "@jupyter-widgets/controls",
      "model_module_version": "1.5.0",
      "model_name": "VBoxModel",
      "state": {
       "children": [
        "IPY_MODEL_0663802dcb0745bab0afeab1dc084948",
        "IPY_MODEL_ac84133615c84d79acbf15f21b36022f"
       ],
       "layout": "IPY_MODEL_492734b6631c4a92a53f3e9ddad83c06"
      }
     },
     "2a2c202d044c4e818804e8f0e2d42e06": {
      "model_module": "jupyter-leaflet",
      "model_module_version": "^0.17.0",
      "model_name": "LeafletTileLayerModel",
      "state": {
       "_model_module_version": "^0.17.0",
       "_view_module_version": "^0.17.0",
       "attribution": "(C) OpenStreetMap contributors (C) CARTO",
       "max_zoom": 20,
       "name": "CartoDB.VoyagerNoLabels",
       "options": [
        "attribution",
        "bounds",
        "detect_retina",
        "max_native_zoom",
        "max_zoom",
        "min_native_zoom",
        "min_zoom",
        "no_wrap",
        "tile_size",
        "tms"
       ],
       "url": "https://a.basemaps.cartocdn.com/rastertiles/voyager_nolabels/{z}/{x}/{y}.png"
      }
     },
     "2b0c0509ab63447aacb7557019315706": {
      "model_module": "@jupyter-widgets/controls",
      "model_module_version": "1.5.0",
      "model_name": "DescriptionStyleModel",
      "state": {
       "description_width": ""
      }
     },
     "2b8ec51de8354b3392417b2dd6a66dea": {
      "model_module": "@jupyter-widgets/output",
      "model_module_version": "1.0.0",
      "model_name": "OutputModel",
      "state": {
       "layout": "IPY_MODEL_02820c0fe16f41148e8e13acbd1b6e02",
       "outputs": [
        {
         "name": "stdout",
         "output_type": "stream",
         "text": "Called Run Model\nNot using the GPU\n\n outfile: C:\\1_USGS\\CoastSeg\\repos\\2_CoastSeg\\CoastSeg_fork\\Seg2Map\\CoastSeg\\downloaded_models\\landsat_6229071\\rgb\n"
        },
        {
         "data": {
          "application/vnd.jupyter.widget-view+json": {
           "model_id": "693fe6df36864f9eb6bc56170528fef0",
           "version_major": 2,
           "version_minor": 0
          },
          "text/plain": "  0%|          | 0/12 [00:00<?, ?it/s]"
         },
         "metadata": {},
         "output_type": "display_data"
        },
        {
         "name": "stdout",
         "output_type": "stream",
         "text": "1/1 [==============================] - 1s 1s/step\nWARNING:tensorflow:5 out of the last 5 calls to <function Model.make_predict_function.<locals>.predict_function at 0x000001AA911E5990> triggered tf.function retracing. Tracing is expensive and the excessive number of tracings could be due to (1) creating @tf.function repeatedly in a loop, (2) passing tensors with different shapes, (3) passing Python objects instead of tensors. For (1), please define your @tf.function outside of the loop. For (2), @tf.function has reduce_retracing=True option that can avoid unnecessary retracing. For (3), please refer to https://www.tensorflow.org/guide/function#controlling_retracing and https://www.tensorflow.org/api_docs/python/tf/function for  more details.\n1/1 [==============================] - 1s 1s/step\nWARNING:tensorflow:6 out of the last 6 calls to <function Model.make_predict_function.<locals>.predict_function at 0x000001AA911E4CA0> triggered tf.function retracing. Tracing is expensive and the excessive number of tracings could be due to (1) creating @tf.function repeatedly in a loop, (2) passing tensors with different shapes, (3) passing Python objects instead of tensors. For (1), please define your @tf.function outside of the loop. For (2), @tf.function has reduce_retracing=True option that can avoid unnecessary retracing. For (3), please refer to https://www.tensorflow.org/guide/function#controlling_retracing and https://www.tensorflow.org/api_docs/python/tf/function for  more details.\n1/1 [==============================] - 2s 2s/step\n1/1 [==============================] - 1s 956ms/step\n1/1 [==============================] - 1s 972ms/step\n1/1 [==============================] - 1s 964ms/step\n1/1 [==============================] - 1s 1s/step\n1/1 [==============================] - 1s 961ms/step\n1/1 [==============================] - 1s 981ms/step\n1/1 [==============================] - 1s 962ms/step\n1/1 [==============================] - 1s 963ms/step\n1/1 [==============================] - 1s 966ms/step\n1/1 [==============================] - 1s 953ms/step\n1/1 [==============================] - 1s 1s/step\n1/1 [==============================] - 1s 1s/step\n1/1 [==============================] - 1s 952ms/step\n1/1 [==============================] - 1s 963ms/step\n1/1 [==============================] - 1s 968ms/step\n1/1 [==============================] - 1s 979ms/step\n1/1 [==============================] - 1s 963ms/step\n1/1 [==============================] - 1s 962ms/step\n1/1 [==============================] - 1s 965ms/step\n1/1 [==============================] - 1s 993ms/step\n1/1 [==============================] - 1s 967ms/step\n1/1 [==============================] - 1s 959ms/step\n1/1 [==============================] - 1s 974ms/step\n1/1 [==============================] - 1s 970ms/step\n1/1 [==============================] - 1s 954ms/step\n1/1 [==============================] - 1s 961ms/step\n1/1 [==============================] - 1s 969ms/step\n1/1 [==============================] - 1s 984ms/step\n1/1 [==============================] - 1s 964ms/step\n1/1 [==============================] - 1s 985ms/step\n1/1 [==============================] - 1s 964ms/step\n1/1 [==============================] - 1s 964ms/step\n1/1 [==============================] - 1s 975ms/step\n"
        }
       ]
      }
     },
     "2bf33172c99f490caa09c09ab4e85ce1": {
      "model_module": "@jupyter-widgets/controls",
      "model_module_version": "1.5.0",
      "model_name": "ButtonModel",
      "state": {
       "description": "Use Data Button",
       "layout": "IPY_MODEL_ec29fbe63d5446139aaa674cee56defc",
       "style": "IPY_MODEL_eda9041cf91b42eabec57574c5efa0fa"
      }
     },
     "2ca19c75a31a423898a0a94e208a6176": {
      "model_module": "jupyter-leaflet",
      "model_module_version": "^0.17.0",
      "model_name": "LeafletTileLayerModel",
      "state": {
       "_model_module_version": "^0.17.0",
       "_view_module_version": "^0.17.0",
       "attribution": "&copy; <a href=\"http://www.gaode.com/\">Gaode.com</a>",
       "max_zoom": 19,
       "name": "Gaode.Normal",
       "options": [
        "attribution",
        "bounds",
        "detect_retina",
        "max_native_zoom",
        "max_zoom",
        "min_native_zoom",
        "min_zoom",
        "no_wrap",
        "tile_size",
        "tms"
       ],
       "url": "http://webrd01.is.autonavi.com/appmaptile?lang=zh_cn&size=1&scale=1&style=7&x={x}&y={y}&z={z}"
      }
     },
     "2ea8e106f4ff4feba81c48f19ad9c8d8": {
      "model_module": "@jupyter-widgets/controls",
      "model_module_version": "1.5.0",
      "model_name": "ToggleButtonModel",
      "state": {
       "button_style": "primary",
       "icon": "info",
       "layout": "IPY_MODEL_9916fd9713084ed98bac9b9376016556",
       "style": "IPY_MODEL_3c95928950774f49bfb918be06a7d3c9",
       "tooltip": "Get COG/STAC pixel value"
      }
     },
     "30cbf79bd75a45319f9ff099b688e6ef": {
      "model_module": "@jupyter-widgets/controls",
      "model_module_version": "1.5.0",
      "model_name": "DescriptionStyleModel",
      "state": {
       "description_width": ""
      }
     },
     "31003836f8224b76ba2ea7f1b59b01dd": {
      "model_module": "@jupyter-widgets/controls",
      "model_module_version": "1.5.0",
      "model_name": "DescriptionStyleModel",
      "state": {
       "description_width": ""
      }
     },
     "3170d4a31f0d4b86bf9ab9cd2fabe3a5": {
      "model_module": "jupyter-leaflet",
      "model_module_version": "^0.17.0",
      "model_name": "LeafletTileLayerModel",
      "state": {
       "_model_module_version": "^0.17.0",
       "_view_module_version": "^0.17.0",
       "attribution": "Map tiles by <a href=\"https://labs.strava.com/heatmap\">Strava 2021</a>",
       "max_zoom": 15,
       "name": "Strava.Water",
       "options": [
        "attribution",
        "bounds",
        "detect_retina",
        "max_native_zoom",
        "max_zoom",
        "min_native_zoom",
        "min_zoom",
        "no_wrap",
        "tile_size",
        "tms"
       ],
       "url": "https://heatmap-external-a.strava.com/tiles/water/blue/{z}/{x}/{y}.png"
      }
     },
     "319b7f5959f34cb1951c1378e5950d67": {
      "model_module": "jupyter-leaflet",
      "model_module_version": "^0.17.0",
      "model_name": "LeafletTileLayerModel",
      "state": {
       "_model_module_version": "^0.17.0",
       "_view_module_version": "^0.17.0",
       "attribution": "Imagery provided by services from the Global Imagery Browse Services (GIBS), operated by the NASA/GSFC/Earth Science Data and Information System (ESDIS) with funding provided by NASA/HQ.",
       "max_zoom": 7,
       "name": "NASAGIBS.ModisTerraChlorophyll",
       "options": [
        "attribution",
        "bounds",
        "detect_retina",
        "max_native_zoom",
        "max_zoom",
        "min_native_zoom",
        "min_zoom",
        "no_wrap",
        "tile_size",
        "tms"
       ],
       "url": "https://map1.vis.earthdata.nasa.gov/wmts-webmerc/MODIS_Terra_Chlorophyll_A/default//GoogleMapsCompatible_Level7/{z}/{y}/{x}.png"
      }
     },
     "319df9b855034701ba37661decaed5a9": {
      "model_module": "@jupyter-widgets/controls",
      "model_module_version": "1.5.0",
      "model_name": "DescriptionStyleModel",
      "state": {
       "description_width": ""
      }
     },
     "338e01eb27bf4aaa8ade8ee312eb2d2a": {
      "model_module": "@jupyter-widgets/base",
      "model_module_version": "1.2.0",
      "model_name": "LayoutModel",
      "state": {}
     },
     "3562d318749546058f500c4420312b25": {
      "model_module": "@jupyter-widgets/controls",
      "model_module_version": "1.5.0",
      "model_name": "ButtonStyleModel",
      "state": {
       "button_color": "#69add1"
      }
     },
     "35a10eb342ec40c1bad435f981a9ae33": {
      "model_module": "jupyter-leaflet",
      "model_module_version": "^0.17.0",
      "model_name": "LeafletTileLayerModel",
      "state": {
       "_model_module_version": "^0.17.0",
       "_view_module_version": "^0.17.0",
       "attribution": "Justice Map",
       "max_zoom": 22,
       "name": "JusticeMap.black",
       "options": [
        "attribution",
        "bounds",
        "detect_retina",
        "max_native_zoom",
        "max_zoom",
        "min_native_zoom",
        "min_zoom",
        "no_wrap",
        "tile_size",
        "tms"
       ],
       "url": "https://www.justicemap.org/tile/county/black/{z}/{x}/{y}.png"
      }
     },
     "35c67409105d405a8265098ef9264b73": {
      "model_module": "@jupyter-widgets/controls",
      "model_module_version": "1.5.0",
      "model_name": "HTMLModel",
      "state": {
       "layout": "IPY_MODEL_f3ad43c72a5e4ca1ac7b4251be705f40",
       "style": "IPY_MODEL_dcd4dbea839c4e478093feab82d86bbd",
       "value": " 1.17M/1.17M [00:00&lt;00:00, 1.27MB/s]"
      }
     },
     "369ef6516cc94243968caac7a111b2a6": {
      "model_module": "jupyter-leaflet",
      "model_module_version": "^0.17.0",
      "model_name": "LeafletTileLayerModel",
      "state": {
       "_model_module_version": "^0.17.0",
       "_view_module_version": "^0.17.0",
       "attribution": "(C) OpenStreetMap contributors (C) CARTO",
       "max_zoom": 20,
       "name": "CartoDB.VoyagerLabelsUnder",
       "options": [
        "attribution",
        "bounds",
        "detect_retina",
        "max_native_zoom",
        "max_zoom",
        "min_native_zoom",
        "min_zoom",
        "no_wrap",
        "tile_size",
        "tms"
       ],
       "url": "https://a.basemaps.cartocdn.com/rastertiles/voyager_labels_under/{z}/{x}/{y}.png"
      }
     },
     "37862ea5f06248e6a3aee35c5a70bb0e": {
      "model_module": "jupyter-leaflet",
      "model_module_version": "^0.17.0",
      "model_name": "LeafletTileLayerModel",
      "state": {
       "_model_module_version": "^0.17.0",
       "_view_module_version": "^0.17.0",
       "attribution": "Datenquelle: basemap.at",
       "max_zoom": 19,
       "name": "BasemapAT.highdpi",
       "options": [
        "attribution",
        "bounds",
        "detect_retina",
        "max_native_zoom",
        "max_zoom",
        "min_native_zoom",
        "min_zoom",
        "no_wrap",
        "tile_size",
        "tms"
       ],
       "url": "https://maps.wien.gv.at/basemap/bmaphidpi/normal/google3857/{z}/{y}/{x}.jpeg"
      }
     },
     "3844045614bc4c2e93c6f1c1aaf4fe43": {
      "model_module": "@jupyter-widgets/controls",
      "model_module_version": "1.5.0",
      "model_name": "DescriptionStyleModel",
      "state": {
       "description_width": ""
      }
     },
     "38b2fe25d70e41ccb7ab8f0cc53bdd94": {
      "model_module": "@jupyter-widgets/controls",
      "model_module_version": "1.5.0",
      "model_name": "HTMLModel",
      "state": {
       "layout": "IPY_MODEL_4a35dddfcee648bc94075e2c66786034",
       "style": "IPY_MODEL_4146cf876b9b438ba975eab00686e6f3",
       "value": "<h2><b>Download ROIs</b></h2>          <b> You must click 'Save ROI' before you can download ROIs</b>           </br> Scroll past the map to see the download progress             <li> The data you downloaded will be in the 'data' folder</li>             "
      }
     },
     "3a0caf95920d446cb64924d87d25d645": {
      "model_module": "@jupyter-widgets/controls",
      "model_module_version": "1.5.0",
      "model_name": "VBoxModel",
      "state": {
       "children": [
        "IPY_MODEL_f8e7f3a1e3774bdb8cb96d3fdd92be66",
        "IPY_MODEL_b5bd67f748364ab7aefd35692fdacff1",
        "IPY_MODEL_b07fd2beb5d6481289b3ef1ef878049a",
        "IPY_MODEL_6c0d2185b5cd468d82dde7b31e0ba136",
        "IPY_MODEL_dbe7eafe8de84f3a8d65d48844d85fe1",
        "IPY_MODEL_eae2f5389d374b2dbce5f7b935ef8d8e"
       ],
       "layout": "IPY_MODEL_5a4eab5c1fc84b2388c34b8744ba9dc0"
      }
     },
     "3a68fa8cf8b34ae38e4f04ca60fb27ed": {
      "model_module": "@jupyter-widgets/base",
      "model_module_version": "1.2.0",
      "model_name": "LayoutModel",
      "state": {}
     },
     "3aa6b2020eda42188725a4fb44b475fb": {
      "model_module": "jupyter-leaflet",
      "model_module_version": "^0.17.0",
      "model_name": "LeafletTileLayerModel",
      "state": {
       "_model_module_version": "^0.17.0",
       "_view_module_version": "^0.17.0",
       "attribution": "Map tiles by Stamen Design, CC BY 3.0 -- Map data (C) OpenStreetMap contributors",
       "max_zoom": 20,
       "name": "Stamen.TopOSMFeatures",
       "options": [
        "attribution",
        "bounds",
        "detect_retina",
        "max_native_zoom",
        "max_zoom",
        "min_native_zoom",
        "min_zoom",
        "no_wrap",
        "tile_size",
        "tms"
       ],
       "url": "https://stamen-tiles-a.a.ssl.fastly.net/toposm-features/{z}/{x}/{y}.png"
      }
     },
     "3b21978cdc9a4cf7a82cf7cdbc82fe33": {
      "model_module": "@jupyter-widgets/controls",
      "model_module_version": "1.5.0",
      "model_name": "HBoxModel",
      "state": {
       "children": [
        "IPY_MODEL_44872dc19f47421bb69e9f9bf062b8af",
        "IPY_MODEL_41b2f1e822ba4f0582df400a78d714e0"
       ],
       "layout": "IPY_MODEL_b44953a629c54e8c93dd7b8785b3b797"
      }
     },
     "3b6d1f85679049ecb38978f7fe8fb7e1": {
      "model_module": "@jupyter-widgets/base",
      "model_module_version": "1.2.0",
      "model_name": "LayoutModel",
      "state": {}
     },
     "3b95584c6c844c63a25606311402eacd": {
      "model_module": "jupyter-leaflet",
      "model_module_version": "^0.17.0",
      "model_name": "LeafletTileLayerModel",
      "state": {
       "_model_module_version": "^0.17.0",
       "_view_module_version": "^0.17.0",
       "attribution": "© swisstopo",
       "name": "SwissFederalGeoportal.NationalMapColor",
       "options": [
        "attribution",
        "bounds",
        "detect_retina",
        "max_native_zoom",
        "max_zoom",
        "min_native_zoom",
        "min_zoom",
        "no_wrap",
        "tile_size",
        "tms"
       ],
       "url": "https://wmts.geo.admin.ch/1.0.0/ch.swisstopo.pixelkarte-farbe/default/current/3857/{z}/{x}/{y}.jpeg"
      }
     },
     "3c8f69be25044b3095ec4d786c690047": {
      "model_module": "@jupyter-widgets/controls",
      "model_module_version": "1.5.0",
      "model_name": "DescriptionStyleModel",
      "state": {
       "description_width": ""
      }
     },
     "3c95928950774f49bfb918be06a7d3c9": {
      "model_module": "@jupyter-widgets/controls",
      "model_module_version": "1.5.0",
      "model_name": "DescriptionStyleModel",
      "state": {
       "description_width": ""
      }
     },
     "3cf58bcda3bd47e1acd685074b11eb82": {
      "model_module": "jupyter-leaflet",
      "model_module_version": "^0.17.0",
      "model_name": "LeafletTileLayerModel",
      "state": {
       "_model_module_version": "^0.17.0",
       "_view_module_version": "^0.17.0",
       "attribution": "Tiles (C) Esri -- Esri, DeLorme, NAVTEQ, TomTom, Intermap, iPC, USGS, FAO, NPS, NRCAN, GeoBase, Kadaster NL, Ordnance Survey, Esri Japan, METI, Esri China (Hong Kong), and the GIS User Community",
       "max_zoom": 22,
       "name": "Esri.WorldTopoMap",
       "options": [
        "attribution",
        "bounds",
        "detect_retina",
        "max_native_zoom",
        "max_zoom",
        "min_native_zoom",
        "min_zoom",
        "no_wrap",
        "tile_size",
        "tms"
       ],
       "url": "https://server.arcgisonline.com/ArcGIS/rest/services/World_Topo_Map/MapServer/tile/{z}/{y}/{x}"
      }
     },
     "3d09269ea63e44529136325fc23053dc": {
      "model_module": "@jupyter-widgets/base",
      "model_module_version": "1.2.0",
      "model_name": "LayoutModel",
      "state": {}
     },
     "3da4362e178a4fe3aae02c143e22d184": {
      "model_module": "@jupyter-widgets/controls",
      "model_module_version": "1.5.0",
      "model_name": "ButtonStyleModel",
      "state": {
       "button_color": "#a3adac"
      }
     },
     "3dbd9189a5f24d48bd85da1400ae0401": {
      "model_module": "jupyter-leaflet",
      "model_module_version": "^0.17.0",
      "model_name": "LeafletWidgetControlModel",
      "state": {
       "_model_module": "jupyter-leaflet",
       "_model_module_version": "^0.17.0",
       "_view_count": null,
       "_view_module": "jupyter-leaflet",
       "_view_module_version": "^0.17.0",
       "options": [
        "position",
        "transparent_bg"
       ],
       "position": "topright",
       "widget": "IPY_MODEL_6b7f188e23aa4d1c85077e72533f445a"
      }
     },
     "3de0c3d35a504821a8d38e1e9848857e": {
      "model_module": "@jupyter-widgets/base",
      "model_module_version": "1.2.0",
      "model_name": "LayoutModel",
      "state": {
       "height": "auto",
       "padding": "0px 0px 0px 4px",
       "width": "auto"
      }
     },
     "3e7763368f07418ab7f92cb5bbbba87c": {
      "model_module": "@jupyter-widgets/controls",
      "model_module_version": "1.5.0",
      "model_name": "ButtonStyleModel",
      "state": {
       "button_color": "#69add1"
      }
     },
     "405997db9cdf42c8a61f9ee4505be9ca": {
      "model_module": "jupyter-leaflet",
      "model_module_version": "^0.17.0",
      "model_name": "LeafletTileLayerModel",
      "state": {
       "_model_module_version": "^0.17.0",
       "_view_module_version": "^0.17.0",
       "attribution": "(C) OpenStreetMap contributors, vizualization CC-By-SA 2.0 Freemap.sk",
       "max_zoom": 16,
       "name": "FreeMapSK",
       "options": [
        "attribution",
        "bounds",
        "detect_retina",
        "max_native_zoom",
        "max_zoom",
        "min_native_zoom",
        "min_zoom",
        "no_wrap",
        "tile_size",
        "tms"
       ],
       "url": "https://a.freemap.sk/T/{z}/{x}/{y}.jpeg"
      }
     },
     "4146cf876b9b438ba975eab00686e6f3": {
      "model_module": "@jupyter-widgets/controls",
      "model_module_version": "1.5.0",
      "model_name": "DescriptionStyleModel",
      "state": {
       "description_width": ""
      }
     },
     "414f300636254ef6a1889584dcbd831f": {
      "model_module": "jupyter-leaflet",
      "model_module_version": "^0.17.0",
      "model_name": "LeafletTileLayerModel",
      "state": {
       "_model_module_version": "^0.17.0",
       "_view_module_version": "^0.17.0",
       "attribution": "(C) OpenStreetMap contributors (C) CARTO",
       "max_zoom": 20,
       "name": "CartoDB.DarkMatter",
       "options": [
        "attribution",
        "bounds",
        "detect_retina",
        "max_native_zoom",
        "max_zoom",
        "min_native_zoom",
        "min_zoom",
        "no_wrap",
        "tile_size",
        "tms"
       ],
       "url": "https://a.basemaps.cartocdn.com/dark_all/{z}/{x}/{y}.png"
      }
     },
     "41b2f1e822ba4f0582df400a78d714e0": {
      "model_module": "@jupyter-widgets/controls",
      "model_module_version": "1.5.0",
      "model_name": "RadioButtonsModel",
      "state": {
       "_options_labels": [
        "ENSEMBLE",
        "BEST"
       ],
       "description": "Select:",
       "index": 0,
       "layout": "IPY_MODEL_4acbf846eeed4332a36a63d2fb45eea2",
       "style": "IPY_MODEL_30cbf79bd75a45319f9ff099b688e6ef"
      }
     },
     "41b979e56ff34d6990aab99933f821fe": {
      "model_module": "@jupyter-widgets/controls",
      "model_module_version": "1.5.0",
      "model_name": "DescriptionStyleModel",
      "state": {
       "description_width": ""
      }
     },
     "41dde9ea796f49d4bb998e1f7cdcd09d": {
      "model_module": "@jupyter-widgets/controls",
      "model_module_version": "1.5.0",
      "model_name": "DescriptionStyleModel",
      "state": {
       "description_width": ""
      }
     },
     "430f0b766ddf4e3c8dc15c6ac1392f85": {
      "model_module": "jupyter-leaflet",
      "model_module_version": "^0.17.0",
      "model_name": "LeafletTileLayerModel",
      "state": {
       "_model_module_version": "^0.17.0",
       "_view_module_version": "^0.17.0",
       "attribution": "Map tiles by Stamen Design, CC BY 3.0 -- Map data (C) OpenStreetMap contributors",
       "name": "Stamen.TerrainBackground",
       "options": [
        "attribution",
        "bounds",
        "detect_retina",
        "max_native_zoom",
        "max_zoom",
        "min_native_zoom",
        "min_zoom",
        "no_wrap",
        "tile_size",
        "tms"
       ],
       "url": "https://stamen-tiles-a.a.ssl.fastly.net/terrain-background/{z}/{x}/{y}.png"
      }
     },
     "433c6746535245d9add9a2f7345df2aa": {
      "model_module": "@jupyter-widgets/controls",
      "model_module_version": "1.5.0",
      "model_name": "ButtonStyleModel",
      "state": {
       "button_color": "#69add1"
      }
     },
     "436385b863b54e9b83ab006d115539c4": {
      "model_module": "@jupyter-widgets/base",
      "model_module_version": "1.2.0",
      "model_name": "LayoutModel",
      "state": {}
     },
     "4384f95fc59c4e28b77d1729ae70b00e": {
      "model_module": "@jupyter-widgets/controls",
      "model_module_version": "1.5.0",
      "model_name": "ButtonStyleModel",
      "state": {
       "button_color": "#69add1"
      }
     },
     "4451c7ca247a48b3a501f00f33b54420": {
      "model_module": "jupyter-leaflet",
      "model_module_version": "^0.17.0",
      "model_name": "LeafletTileLayerModel",
      "state": {
       "_model_module_version": "^0.17.0",
       "_view_module_version": "^0.17.0",
       "attribution": "Imagery provided by services from the Global Imagery Browse Services (GIBS), operated by the NASA/GSFC/Earth Science Data and Information System (ESDIS) with funding provided by NASA/HQ.",
       "max_zoom": 9,
       "name": "NASAGIBS.ModisTerraTrueColorCR",
       "options": [
        "attribution",
        "bounds",
        "detect_retina",
        "max_native_zoom",
        "max_zoom",
        "min_native_zoom",
        "min_zoom",
        "no_wrap",
        "tile_size",
        "tms"
       ],
       "url": "https://map1.vis.earthdata.nasa.gov/wmts-webmerc/MODIS_Terra_CorrectedReflectance_TrueColor/default//GoogleMapsCompatible_Level9/{z}/{y}/{x}.jpg"
      }
     },
     "44872dc19f47421bb69e9f9bf062b8af": {
      "model_module": "@jupyter-widgets/controls",
      "model_module_version": "1.5.0",
      "model_name": "RadioButtonsModel",
      "state": {
       "_options_labels": [
        "landsat_6229071",
        "landsat_6230083",
        "SWED-RGB_6824384",
        "SWED-MNDWI_6824342",
        "coast-train-RGB_6950479",
        "S2-water-SWED_6950474"
       ],
       "description": "Select Model:",
       "index": 0,
       "layout": "IPY_MODEL_3b6d1f85679049ecb38978f7fe8fb7e1",
       "style": "IPY_MODEL_89f3a4d52c9343db90861e551b6269c7"
      }
     },
     "454f57808b0943d4858338815b4d10a3": {
      "model_module": "jupyter-leaflet",
      "model_module_version": "^0.17.0",
      "model_name": "LeafletTileLayerModel",
      "state": {
       "_model_module_version": "^0.17.0",
       "_view_module_version": "^0.17.0",
       "attribution": "(C) OpenStreetMap contributors (C) CARTO",
       "max_zoom": 20,
       "name": "CartoDB.VoyagerOnlyLabels",
       "options": [
        "attribution",
        "bounds",
        "detect_retina",
        "max_native_zoom",
        "max_zoom",
        "min_native_zoom",
        "min_zoom",
        "no_wrap",
        "tile_size",
        "tms"
       ],
       "url": "https://a.basemaps.cartocdn.com/rastertiles/voyager_only_labels/{z}/{x}/{y}.png"
      }
     },
     "4570a421070b4b9582380239f07e5010": {
      "model_module": "@jupyter-widgets/base",
      "model_module_version": "1.2.0",
      "model_name": "LayoutModel",
      "state": {
       "height": "auto",
       "padding": "0px 0px 0px 4px",
       "width": "auto"
      }
     },
     "46a86ac305784d4ea30bb9bf08b743c3": {
      "model_module": "jupyter-leaflet",
      "model_module_version": "^0.17.0",
      "model_name": "LeafletTileLayerModel",
      "state": {
       "_model_module_version": "^0.17.0",
       "_view_module_version": "^0.17.0",
       "attribution": "Datenquelle: basemap.at",
       "max_zoom": 19,
       "name": "BasemapAT.terrain",
       "options": [
        "attribution",
        "bounds",
        "detect_retina",
        "max_native_zoom",
        "max_zoom",
        "min_native_zoom",
        "min_zoom",
        "no_wrap",
        "tile_size",
        "tms"
       ],
       "url": "https://maps.wien.gv.at/basemap/bmapgelaende/grau/google3857/{z}/{y}/{x}.jpeg"
      }
     },
     "46bdf4f9ee0e4020830559bc7c82ae3c": {
      "model_module": "@jupyter-widgets/base",
      "model_module_version": "1.2.0",
      "model_name": "LayoutModel",
      "state": {}
     },
     "46d51ae29f834fb0b2b7b25e49714655": {
      "model_module": "jupyter-leaflet",
      "model_module_version": "^0.17.0",
      "model_name": "LeafletGeoJSONModel",
      "state": {
       "_model_module_version": "^0.17.0",
       "_view_module_version": "^0.17.0",
       "data": {
        "features": [
         {
          "geometry": {
           "coordinates": [
            [
             [
              -121.57800499999999,
              36.014151
             ],
             [
              -121.57800499999999,
              36.043210516518066
             ],
             [
              -121.5420723886352,
              36.043210516518066
             ],
             [
              -121.5420723886352,
              36.014151
             ],
             [
              -121.57800499999999,
              36.014151
             ]
            ]
           ],
           "type": "Polygon"
          },
          "id": "0",
          "properties": {
           "CHLOROPHYLL": 2.417483,
           "CSU_Descriptor": "steeply sloping, straight, medium erodibility, warm temperate dry, low river discharge, moderate wave energy, moderately tidal, euhaline-oxic-moderate to cool, clear, moderate chlorophyll",
           "CSU_ID": 70981,
           "Cluster": 6,
           "EMU_PHYSICAL": "Euhaline-Oxic-Moderate to Cool",
           "ERODIBILITY": "Medium",
           "GHM": 0.146464,
           "LENGTH_GEO": 807.570325164452,
           "MAX_SLOPE": 80.713103,
           "MEAN_SIG_WAVEHEIGHT": 1.687268,
           "MasterKey": 2753655,
           "OBJECTID": 2753655,
           "OUTFLOW_DENSITY": 8671.790039,
           "OUTFLOW_DENSITY_RESCALED": 1.0484883786709782e-05,
           "REGIONAL_SINUOSITY": 1.270183,
           "RandomSort": 1322999.00735509,
           "Shape_Length": 0.00797607602451941,
           "TEMP_MOISTURE": "Warm Temperate Dry",
           "TIDAL_RANGE": 2.416656,
           "TURBIDITY": 0.027483,
           "chl_label": "moderate chlorophyll",
           "id": 0,
           "index_right": 4,
           "river_label": "low river discharge",
           "sinuosity_label": "straight",
           "slope_label": "steeply sloping",
           "style": {
            "color": "black",
            "fillColor": "grey",
            "fillOpacity": 0.1,
            "weight": 3
           },
           "tidal_label": "moderately tidal",
           "turbid_label": "clear",
           "wave_label": "moderate wave energy"
          },
          "type": "Feature"
         },
         {
          "geometry": {
           "coordinates": [
            [
             [
              -121.57800499999999,
              36.014151
             ],
             [
              -121.57800499999999,
              36.043210516518066
             ],
             [
              -121.5420723886352,
              36.043210516518066
             ],
             [
              -121.5420723886352,
              36.014151
             ],
             [
              -121.57800499999999,
              36.014151
             ]
            ]
           ],
           "type": "Polygon"
          },
          "id": "1",
          "properties": {
           "CHLOROPHYLL": 2.417483,
           "CSU_Descriptor": "steeply sloping, straight, medium erodibility, warm temperate dry, low river discharge, moderate wave energy, moderately tidal, euhaline-oxic-moderate to cool, clear, moderate chlorophyll",
           "CSU_ID": 70981,
           "Cluster": 6,
           "EMU_PHYSICAL": "Euhaline-Oxic-Moderate to Cool",
           "ERODIBILITY": "Medium",
           "GHM": 0.146464,
           "LENGTH_GEO": 807.570325164452,
           "MAX_SLOPE": 80.713103,
           "MEAN_SIG_WAVEHEIGHT": 1.687268,
           "MasterKey": 2753655,
           "OBJECTID": 2753655,
           "OUTFLOW_DENSITY": 8671.790039,
           "OUTFLOW_DENSITY_RESCALED": 1.0484883786709782e-05,
           "REGIONAL_SINUOSITY": 1.270183,
           "RandomSort": 1322999.00735509,
           "Shape_Length": 0.00797607602451941,
           "TEMP_MOISTURE": "Warm Temperate Dry",
           "TIDAL_RANGE": 2.416656,
           "TURBIDITY": 0.027483,
           "chl_label": "moderate chlorophyll",
           "id": 1,
           "index_right": 9,
           "river_label": "low river discharge",
           "sinuosity_label": "straight",
           "slope_label": "steeply sloping",
           "style": {
            "color": "black",
            "fillColor": "grey",
            "fillOpacity": 0.1,
            "weight": 3
           },
           "tidal_label": "moderately tidal",
           "turbid_label": "clear",
           "wave_label": "moderate wave energy"
          },
          "type": "Feature"
         },
         {
          "geometry": {
           "coordinates": [
            [
             [
              -121.57800499999999,
              36.014151
             ],
             [
              -121.57800499999999,
              36.043210516518066
             ],
             [
              -121.5420723886352,
              36.043210516518066
             ],
             [
              -121.5420723886352,
              36.014151
             ],
             [
              -121.57800499999999,
              36.014151
             ]
            ]
           ],
           "type": "Polygon"
          },
          "id": "2",
          "properties": {
           "CHLOROPHYLL": 0.873553,
           "CSU_Descriptor": "steeply sloping, straight, medium erodibility, warm temperate dry, low river discharge, moderate wave energy, moderately tidal, euhaline-oxic-moderate to cool, clear, low chlorophyll",
           "CSU_ID": 62191,
           "Cluster": 6,
           "EMU_PHYSICAL": "Euhaline-Oxic-Moderate to Cool",
           "ERODIBILITY": "Medium",
           "GHM": 0.119442,
           "LENGTH_GEO": 808.9428929044105,
           "MAX_SLOPE": 117.850254,
           "MEAN_SIG_WAVEHEIGHT": 1.687268,
           "MasterKey": 2753656,
           "OBJECTID": 2753656,
           "OUTFLOW_DENSITY": 8671.790039,
           "OUTFLOW_DENSITY_RESCALED": 1.0484883786709782e-05,
           "REGIONAL_SINUOSITY": 1.270183,
           "RandomSort": 2325693.95182625,
           "Shape_Length": 0.00861533106398222,
           "TEMP_MOISTURE": "Warm Temperate Dry",
           "TIDAL_RANGE": 2.416656,
           "TURBIDITY": 0.027483,
           "chl_label": "low chlorophyll",
           "id": 2,
           "index_right": 3,
           "river_label": "low river discharge",
           "sinuosity_label": "straight",
           "slope_label": "steeply sloping",
           "style": {
            "color": "black",
            "fillColor": "grey",
            "fillOpacity": 0.1,
            "weight": 3
           },
           "tidal_label": "moderately tidal",
           "turbid_label": "clear",
           "wave_label": "moderate wave energy"
          },
          "type": "Feature"
         },
         {
          "geometry": {
           "coordinates": [
            [
             [
              -121.57800499999999,
              36.014151
             ],
             [
              -121.57800499999999,
              36.043210516518066
             ],
             [
              -121.5420723886352,
              36.043210516518066
             ],
             [
              -121.5420723886352,
              36.014151
             ],
             [
              -121.57800499999999,
              36.014151
             ]
            ]
           ],
           "type": "Polygon"
          },
          "id": "3",
          "properties": {
           "CHLOROPHYLL": 0.873553,
           "CSU_Descriptor": "steeply sloping, straight, medium erodibility, warm temperate dry, low river discharge, moderate wave energy, moderately tidal, euhaline-oxic-moderate to cool, clear, low chlorophyll",
           "CSU_ID": 62191,
           "Cluster": 6,
           "EMU_PHYSICAL": "Euhaline-Oxic-Moderate to Cool",
           "ERODIBILITY": "Medium",
           "GHM": 0.119442,
           "LENGTH_GEO": 808.9428929044105,
           "MAX_SLOPE": 117.850254,
           "MEAN_SIG_WAVEHEIGHT": 1.687268,
           "MasterKey": 2753656,
           "OBJECTID": 2753656,
           "OUTFLOW_DENSITY": 8671.790039,
           "OUTFLOW_DENSITY_RESCALED": 1.0484883786709782e-05,
           "REGIONAL_SINUOSITY": 1.270183,
           "RandomSort": 2325693.95182625,
           "Shape_Length": 0.00861533106398222,
           "TEMP_MOISTURE": "Warm Temperate Dry",
           "TIDAL_RANGE": 2.416656,
           "TURBIDITY": 0.027483,
           "chl_label": "low chlorophyll",
           "id": 3,
           "index_right": 8,
           "river_label": "low river discharge",
           "sinuosity_label": "straight",
           "slope_label": "steeply sloping",
           "style": {
            "color": "black",
            "fillColor": "grey",
            "fillOpacity": 0.1,
            "weight": 3
           },
           "tidal_label": "moderately tidal",
           "turbid_label": "clear",
           "wave_label": "moderate wave energy"
          },
          "type": "Feature"
         },
         {
          "geometry": {
           "coordinates": [
            [
             [
              -121.57800499999999,
              36.014151
             ],
             [
              -121.57800499999999,
              36.043210516518066
             ],
             [
              -121.5420723886352,
              36.043210516518066
             ],
             [
              -121.5420723886352,
              36.014151
             ],
             [
              -121.57800499999999,
              36.014151
             ]
            ]
           ],
           "type": "Polygon"
          },
          "id": "4",
          "properties": {
           "CHLOROPHYLL": 0.873553,
           "CSU_Descriptor": "steeply sloping, straight, medium erodibility, warm temperate dry, low river discharge, moderate wave energy, moderately tidal, euhaline-oxic-moderate to cool, clear, low chlorophyll",
           "CSU_ID": 62191,
           "Cluster": 6,
           "EMU_PHYSICAL": "Euhaline-Oxic-Moderate to Cool",
           "ERODIBILITY": "Medium",
           "GHM": 0.119442,
           "LENGTH_GEO": 809.4293303941587,
           "MAX_SLOPE": 114.768235,
           "MEAN_SIG_WAVEHEIGHT": 1.687268,
           "MasterKey": 2753657,
           "OBJECTID": 2753657,
           "OUTFLOW_DENSITY": 8671.790039,
           "OUTFLOW_DENSITY_RESCALED": 1.0484883786709782e-05,
           "REGIONAL_SINUOSITY": 1.270183,
           "RandomSort": 3110913.78667961,
           "Shape_Length": 0.00883771172510186,
           "TEMP_MOISTURE": "Warm Temperate Dry",
           "TIDAL_RANGE": 2.416656,
           "TURBIDITY": 0.027483,
           "chl_label": "low chlorophyll",
           "id": 4,
           "index_right": 2,
           "river_label": "low river discharge",
           "sinuosity_label": "straight",
           "slope_label": "steeply sloping",
           "style": {
            "color": "black",
            "fillColor": "grey",
            "fillOpacity": 0.1,
            "weight": 3
           },
           "tidal_label": "moderately tidal",
           "turbid_label": "clear",
           "wave_label": "moderate wave energy"
          },
          "type": "Feature"
         },
         {
          "geometry": {
           "coordinates": [
            [
             [
              -121.57800499999999,
              36.014151
             ],
             [
              -121.57800499999999,
              36.043210516518066
             ],
             [
              -121.5420723886352,
              36.043210516518066
             ],
             [
              -121.5420723886352,
              36.014151
             ],
             [
              -121.57800499999999,
              36.014151
             ]
            ]
           ],
           "type": "Polygon"
          },
          "id": "5",
          "properties": {
           "CHLOROPHYLL": 0.873553,
           "CSU_Descriptor": "steeply sloping, straight, medium erodibility, warm temperate dry, low river discharge, moderate wave energy, moderately tidal, euhaline-oxic-moderate to cool, clear, low chlorophyll",
           "CSU_ID": 62191,
           "Cluster": 6,
           "EMU_PHYSICAL": "Euhaline-Oxic-Moderate to Cool",
           "ERODIBILITY": "Medium",
           "GHM": 0.119442,
           "LENGTH_GEO": 809.4293303941587,
           "MAX_SLOPE": 114.768235,
           "MEAN_SIG_WAVEHEIGHT": 1.687268,
           "MasterKey": 2753657,
           "OBJECTID": 2753657,
           "OUTFLOW_DENSITY": 8671.790039,
           "OUTFLOW_DENSITY_RESCALED": 1.0484883786709782e-05,
           "REGIONAL_SINUOSITY": 1.270183,
           "RandomSort": 3110913.78667961,
           "Shape_Length": 0.00883771172510186,
           "TEMP_MOISTURE": "Warm Temperate Dry",
           "TIDAL_RANGE": 2.416656,
           "TURBIDITY": 0.027483,
           "chl_label": "low chlorophyll",
           "id": 5,
           "index_right": 7,
           "river_label": "low river discharge",
           "sinuosity_label": "straight",
           "slope_label": "steeply sloping",
           "style": {
            "color": "black",
            "fillColor": "grey",
            "fillOpacity": 0.1,
            "weight": 3
           },
           "tidal_label": "moderately tidal",
           "turbid_label": "clear",
           "wave_label": "moderate wave energy"
          },
          "type": "Feature"
         },
         {
          "geometry": {
           "coordinates": [
            [
             [
              -121.57800499999999,
              36.014151
             ],
             [
              -121.57800499999999,
              36.043210516518066
             ],
             [
              -121.5420723886352,
              36.043210516518066
             ],
             [
              -121.5420723886352,
              36.014151
             ],
             [
              -121.57800499999999,
              36.014151
             ]
            ]
           ],
           "type": "Polygon"
          },
          "id": "6",
          "properties": {
           "CHLOROPHYLL": 0.873553,
           "CSU_Descriptor": "steeply sloping, straight, medium erodibility, warm temperate dry, low river discharge, moderate wave energy, moderately tidal, euhaline-oxic-moderate to cool, clear, low chlorophyll",
           "CSU_ID": 62191,
           "Cluster": 6,
           "EMU_PHYSICAL": "Euhaline-Oxic-Moderate to Cool",
           "ERODIBILITY": "Medium",
           "GHM": 0.144511,
           "LENGTH_GEO": 809.2201719767945,
           "MAX_SLOPE": 109.272652,
           "MEAN_SIG_WAVEHEIGHT": 1.687268,
           "MasterKey": 2753658,
           "OBJECTID": 2753658,
           "OUTFLOW_DENSITY": 8671.790039,
           "OUTFLOW_DENSITY_RESCALED": 1.0484883786709782e-05,
           "REGIONAL_SINUOSITY": 1.270183,
           "RandomSort": 3366707.6827197,
           "Shape_Length": 0.008735799579888025,
           "TEMP_MOISTURE": "Warm Temperate Dry",
           "TIDAL_RANGE": 2.416656,
           "TURBIDITY": 0.027483,
           "chl_label": "low chlorophyll",
           "id": 6,
           "index_right": 1,
           "river_label": "low river discharge",
           "sinuosity_label": "straight",
           "slope_label": "steeply sloping",
           "style": {
            "color": "black",
            "fillColor": "grey",
            "fillOpacity": 0.1,
            "weight": 3
           },
           "tidal_label": "moderately tidal",
           "turbid_label": "clear",
           "wave_label": "moderate wave energy"
          },
          "type": "Feature"
         },
         {
          "geometry": {
           "coordinates": [
            [
             [
              -121.57800499999999,
              36.014151
             ],
             [
              -121.57800499999999,
              36.043210516518066
             ],
             [
              -121.5420723886352,
              36.043210516518066
             ],
             [
              -121.5420723886352,
              36.014151
             ],
             [
              -121.57800499999999,
              36.014151
             ]
            ]
           ],
           "type": "Polygon"
          },
          "id": "7",
          "properties": {
           "CHLOROPHYLL": 0.873553,
           "CSU_Descriptor": "steeply sloping, straight, medium erodibility, warm temperate dry, low river discharge, moderate wave energy, moderately tidal, euhaline-oxic-moderate to cool, clear, low chlorophyll",
           "CSU_ID": 62191,
           "Cluster": 6,
           "EMU_PHYSICAL": "Euhaline-Oxic-Moderate to Cool",
           "ERODIBILITY": "Medium",
           "GHM": 0.144511,
           "LENGTH_GEO": 809.2201719767945,
           "MAX_SLOPE": 109.272652,
           "MEAN_SIG_WAVEHEIGHT": 1.687268,
           "MasterKey": 2753658,
           "OBJECTID": 2753658,
           "OUTFLOW_DENSITY": 8671.790039,
           "OUTFLOW_DENSITY_RESCALED": 1.0484883786709782e-05,
           "REGIONAL_SINUOSITY": 1.270183,
           "RandomSort": 3366707.6827197,
           "Shape_Length": 0.008735799579888025,
           "TEMP_MOISTURE": "Warm Temperate Dry",
           "TIDAL_RANGE": 2.416656,
           "TURBIDITY": 0.027483,
           "chl_label": "low chlorophyll",
           "id": 7,
           "index_right": 6,
           "river_label": "low river discharge",
           "sinuosity_label": "straight",
           "slope_label": "steeply sloping",
           "style": {
            "color": "black",
            "fillColor": "grey",
            "fillOpacity": 0.1,
            "weight": 3
           },
           "tidal_label": "moderately tidal",
           "turbid_label": "clear",
           "wave_label": "moderate wave energy"
          },
          "type": "Feature"
         },
         {
          "geometry": {
           "coordinates": [
            [
             [
              -121.57800499999999,
              36.014151
             ],
             [
              -121.57800499999999,
              36.043210516518066
             ],
             [
              -121.5420723886352,
              36.043210516518066
             ],
             [
              -121.5420723886352,
              36.014151
             ],
             [
              -121.57800499999999,
              36.014151
             ]
            ]
           ],
           "type": "Polygon"
          },
          "id": "8",
          "properties": {
           "CHLOROPHYLL": 2.417483,
           "CSU_Descriptor": "vertical, straight, medium erodibility, warm temperate dry, low river discharge, moderate wave energy, moderately tidal, euhaline-oxic-moderate to cool, clear, moderate chlorophyll",
           "CSU_ID": 71260,
           "Cluster": 6,
           "EMU_PHYSICAL": "Euhaline-Oxic-Moderate to Cool",
           "ERODIBILITY": "Medium",
           "GHM": 0.133607,
           "LENGTH_GEO": 808.8794813016038,
           "MAX_SLOPE": 318.587599,
           "MEAN_SIG_WAVEHEIGHT": 1.687268,
           "MasterKey": 2753659,
           "OBJECTID": 2753659,
           "OUTFLOW_DENSITY": 8671.790039,
           "OUTFLOW_DENSITY_RESCALED": 1.0484883786709782e-05,
           "REGIONAL_SINUOSITY": 1.270183,
           "RandomSort": 1593234.33411067,
           "Shape_Length": 0.008565231531598157,
           "TEMP_MOISTURE": "Warm Temperate Dry",
           "TIDAL_RANGE": 2.416656,
           "TURBIDITY": 0.027483,
           "chl_label": "moderate chlorophyll",
           "id": 8,
           "index_right": 0,
           "river_label": "low river discharge",
           "sinuosity_label": "straight",
           "slope_label": "vertical",
           "style": {
            "color": "black",
            "fillColor": "grey",
            "fillOpacity": 0.1,
            "weight": 3
           },
           "tidal_label": "moderately tidal",
           "turbid_label": "clear",
           "wave_label": "moderate wave energy"
          },
          "type": "Feature"
         },
         {
          "geometry": {
           "coordinates": [
            [
             [
              -121.5420723886352,
              36.014151
             ],
             [
              -121.5420723886352,
              36.043210516518066
             ],
             [
              -121.50613977727042,
              36.043210516518066
             ],
             [
              -121.50613977727042,
              36.014151
             ],
             [
              -121.5420723886352,
              36.014151
             ]
            ]
           ],
           "type": "Polygon"
          },
          "id": "9",
          "properties": {
           "CHLOROPHYLL": 2.417483,
           "CSU_Descriptor": "vertical, straight, medium erodibility, warm temperate dry, low river discharge, moderate wave energy, moderately tidal, euhaline-oxic-moderate to cool, clear, moderate chlorophyll",
           "CSU_ID": 71260,
           "Cluster": 6,
           "EMU_PHYSICAL": "Euhaline-Oxic-Moderate to Cool",
           "ERODIBILITY": "Medium",
           "GHM": 0.133607,
           "LENGTH_GEO": 808.8794813016038,
           "MAX_SLOPE": 318.587599,
           "MEAN_SIG_WAVEHEIGHT": 1.687268,
           "MasterKey": 2753659,
           "OBJECTID": 2753659,
           "OUTFLOW_DENSITY": 8671.790039,
           "OUTFLOW_DENSITY_RESCALED": 1.0484883786709782e-05,
           "REGIONAL_SINUOSITY": 1.270183,
           "RandomSort": 1593234.33411067,
           "Shape_Length": 0.008565231531598157,
           "TEMP_MOISTURE": "Warm Temperate Dry",
           "TIDAL_RANGE": 2.416656,
           "TURBIDITY": 0.027483,
           "chl_label": "moderate chlorophyll",
           "id": 9,
           "index_right": 0,
           "river_label": "low river discharge",
           "sinuosity_label": "straight",
           "slope_label": "vertical",
           "style": {
            "color": "black",
            "fillColor": "grey",
            "fillOpacity": 0.1,
            "weight": 3
           },
           "tidal_label": "moderately tidal",
           "turbid_label": "clear",
           "wave_label": "moderate wave energy"
          },
          "type": "Feature"
         },
         {
          "geometry": {
           "coordinates": [
            [
             [
              -121.57800499999999,
              36.014151
             ],
             [
              -121.57800499999999,
              36.043210516518066
             ],
             [
              -121.5420723886352,
              36.043210516518066
             ],
             [
              -121.5420723886352,
              36.014151
             ],
             [
              -121.57800499999999,
              36.014151
             ]
            ]
           ],
           "type": "Polygon"
          },
          "id": "10",
          "properties": {
           "CHLOROPHYLL": 2.417483,
           "CSU_Descriptor": "vertical, straight, medium erodibility, warm temperate dry, low river discharge, moderate wave energy, moderately tidal, euhaline-oxic-moderate to cool, clear, moderate chlorophyll",
           "CSU_ID": 71260,
           "Cluster": 6,
           "EMU_PHYSICAL": "Euhaline-Oxic-Moderate to Cool",
           "ERODIBILITY": "Medium",
           "GHM": 0.133607,
           "LENGTH_GEO": 808.8794813016038,
           "MAX_SLOPE": 318.587599,
           "MEAN_SIG_WAVEHEIGHT": 1.687268,
           "MasterKey": 2753659,
           "OBJECTID": 2753659,
           "OUTFLOW_DENSITY": 8671.790039,
           "OUTFLOW_DENSITY_RESCALED": 1.0484883786709782e-05,
           "REGIONAL_SINUOSITY": 1.270183,
           "RandomSort": 1593234.33411067,
           "Shape_Length": 0.008565231531598157,
           "TEMP_MOISTURE": "Warm Temperate Dry",
           "TIDAL_RANGE": 2.416656,
           "TURBIDITY": 0.027483,
           "chl_label": "moderate chlorophyll",
           "id": 10,
           "index_right": 5,
           "river_label": "low river discharge",
           "sinuosity_label": "straight",
           "slope_label": "vertical",
           "style": {
            "color": "black",
            "fillColor": "grey",
            "fillOpacity": 0.1,
            "weight": 3
           },
           "tidal_label": "moderately tidal",
           "turbid_label": "clear",
           "wave_label": "moderate wave energy"
          },
          "type": "Feature"
         },
         {
          "geometry": {
           "coordinates": [
            [
             [
              -121.5420723886352,
              36.014151
             ],
             [
              -121.5420723886352,
              36.043210516518066
             ],
             [
              -121.50613977727042,
              36.043210516518066
             ],
             [
              -121.50613977727042,
              36.014151
             ],
             [
              -121.5420723886352,
              36.014151
             ]
            ]
           ],
           "type": "Polygon"
          },
          "id": "11",
          "properties": {
           "CHLOROPHYLL": 2.417483,
           "CSU_Descriptor": "vertical, straight, medium erodibility, warm temperate dry, low river discharge, moderate wave energy, moderately tidal, euhaline-oxic-moderate to cool, clear, moderate chlorophyll",
           "CSU_ID": 71260,
           "Cluster": 6,
           "EMU_PHYSICAL": "Euhaline-Oxic-Moderate to Cool",
           "ERODIBILITY": "Medium",
           "GHM": 0.133607,
           "LENGTH_GEO": 808.8794813016038,
           "MAX_SLOPE": 318.587599,
           "MEAN_SIG_WAVEHEIGHT": 1.687268,
           "MasterKey": 2753659,
           "OBJECTID": 2753659,
           "OUTFLOW_DENSITY": 8671.790039,
           "OUTFLOW_DENSITY_RESCALED": 1.0484883786709782e-05,
           "REGIONAL_SINUOSITY": 1.270183,
           "RandomSort": 1593234.33411067,
           "Shape_Length": 0.008565231531598157,
           "TEMP_MOISTURE": "Warm Temperate Dry",
           "TIDAL_RANGE": 2.416656,
           "TURBIDITY": 0.027483,
           "chl_label": "moderate chlorophyll",
           "id": 11,
           "index_right": 5,
           "river_label": "low river discharge",
           "sinuosity_label": "straight",
           "slope_label": "vertical",
           "style": {
            "color": "black",
            "fillColor": "grey",
            "fillOpacity": 0.1,
            "weight": 3
           },
           "tidal_label": "moderately tidal",
           "turbid_label": "clear",
           "wave_label": "moderate wave energy"
          },
          "type": "Feature"
         },
         {
          "geometry": {
           "coordinates": [
            [
             [
              -121.57800499999999,
              36.014151
             ],
             [
              -121.57800499999999,
              36.039578663197
             ],
             [
              -121.54656396505581,
              36.039578663197
             ],
             [
              -121.54656396505581,
              36.014151
             ],
             [
              -121.57800499999999,
              36.014151
             ]
            ]
           ],
           "type": "Polygon"
          },
          "id": "12",
          "properties": {
           "CHLOROPHYLL": 2.417483,
           "CSU_Descriptor": "steeply sloping, straight, medium erodibility, warm temperate dry, low river discharge, moderate wave energy, moderately tidal, euhaline-oxic-moderate to cool, clear, moderate chlorophyll",
           "CSU_ID": 70981,
           "Cluster": 6,
           "EMU_PHYSICAL": "Euhaline-Oxic-Moderate to Cool",
           "ERODIBILITY": "Medium",
           "GHM": 0.146464,
           "LENGTH_GEO": 807.570325164452,
           "MAX_SLOPE": 80.713103,
           "MEAN_SIG_WAVEHEIGHT": 1.687268,
           "MasterKey": 2753655,
           "OBJECTID": 2753655,
           "OUTFLOW_DENSITY": 8671.790039,
           "OUTFLOW_DENSITY_RESCALED": 1.0484883786709782e-05,
           "REGIONAL_SINUOSITY": 1.270183,
           "RandomSort": 1322999.00735509,
           "Shape_Length": 0.00797607602451941,
           "TEMP_MOISTURE": "Warm Temperate Dry",
           "TIDAL_RANGE": 2.416656,
           "TURBIDITY": 0.027483,
           "chl_label": "moderate chlorophyll",
           "id": 12,
           "index_right": 4,
           "river_label": "low river discharge",
           "sinuosity_label": "straight",
           "slope_label": "steeply sloping",
           "style": {
            "color": "black",
            "fillColor": "grey",
            "fillOpacity": 0.1,
            "weight": 3
           },
           "tidal_label": "moderately tidal",
           "turbid_label": "clear",
           "wave_label": "moderate wave energy"
          },
          "type": "Feature"
         },
         {
          "geometry": {
           "coordinates": [
            [
             [
              -121.57800499999999,
              36.014151
             ],
             [
              -121.57800499999999,
              36.039578663197
             ],
             [
              -121.54656396505581,
              36.039578663197
             ],
             [
              -121.54656396505581,
              36.014151
             ],
             [
              -121.57800499999999,
              36.014151
             ]
            ]
           ],
           "type": "Polygon"
          },
          "id": "13",
          "properties": {
           "CHLOROPHYLL": 2.417483,
           "CSU_Descriptor": "steeply sloping, straight, medium erodibility, warm temperate dry, low river discharge, moderate wave energy, moderately tidal, euhaline-oxic-moderate to cool, clear, moderate chlorophyll",
           "CSU_ID": 70981,
           "Cluster": 6,
           "EMU_PHYSICAL": "Euhaline-Oxic-Moderate to Cool",
           "ERODIBILITY": "Medium",
           "GHM": 0.146464,
           "LENGTH_GEO": 807.570325164452,
           "MAX_SLOPE": 80.713103,
           "MEAN_SIG_WAVEHEIGHT": 1.687268,
           "MasterKey": 2753655,
           "OBJECTID": 2753655,
           "OUTFLOW_DENSITY": 8671.790039,
           "OUTFLOW_DENSITY_RESCALED": 1.0484883786709782e-05,
           "REGIONAL_SINUOSITY": 1.270183,
           "RandomSort": 1322999.00735509,
           "Shape_Length": 0.00797607602451941,
           "TEMP_MOISTURE": "Warm Temperate Dry",
           "TIDAL_RANGE": 2.416656,
           "TURBIDITY": 0.027483,
           "chl_label": "moderate chlorophyll",
           "id": 13,
           "index_right": 9,
           "river_label": "low river discharge",
           "sinuosity_label": "straight",
           "slope_label": "steeply sloping",
           "style": {
            "color": "black",
            "fillColor": "grey",
            "fillOpacity": 0.1,
            "weight": 3
           },
           "tidal_label": "moderately tidal",
           "turbid_label": "clear",
           "wave_label": "moderate wave energy"
          },
          "type": "Feature"
         },
         {
          "geometry": {
           "coordinates": [
            [
             [
              -121.57800499999999,
              36.014151
             ],
             [
              -121.57800499999999,
              36.039578663197
             ],
             [
              -121.54656396505581,
              36.039578663197
             ],
             [
              -121.54656396505581,
              36.014151
             ],
             [
              -121.57800499999999,
              36.014151
             ]
            ]
           ],
           "type": "Polygon"
          },
          "id": "14",
          "properties": {
           "CHLOROPHYLL": 0.873553,
           "CSU_Descriptor": "steeply sloping, straight, medium erodibility, warm temperate dry, low river discharge, moderate wave energy, moderately tidal, euhaline-oxic-moderate to cool, clear, low chlorophyll",
           "CSU_ID": 62191,
           "Cluster": 6,
           "EMU_PHYSICAL": "Euhaline-Oxic-Moderate to Cool",
           "ERODIBILITY": "Medium",
           "GHM": 0.119442,
           "LENGTH_GEO": 808.9428929044105,
           "MAX_SLOPE": 117.850254,
           "MEAN_SIG_WAVEHEIGHT": 1.687268,
           "MasterKey": 2753656,
           "OBJECTID": 2753656,
           "OUTFLOW_DENSITY": 8671.790039,
           "OUTFLOW_DENSITY_RESCALED": 1.0484883786709782e-05,
           "REGIONAL_SINUOSITY": 1.270183,
           "RandomSort": 2325693.95182625,
           "Shape_Length": 0.00861533106398222,
           "TEMP_MOISTURE": "Warm Temperate Dry",
           "TIDAL_RANGE": 2.416656,
           "TURBIDITY": 0.027483,
           "chl_label": "low chlorophyll",
           "id": 14,
           "index_right": 3,
           "river_label": "low river discharge",
           "sinuosity_label": "straight",
           "slope_label": "steeply sloping",
           "style": {
            "color": "black",
            "fillColor": "grey",
            "fillOpacity": 0.1,
            "weight": 3
           },
           "tidal_label": "moderately tidal",
           "turbid_label": "clear",
           "wave_label": "moderate wave energy"
          },
          "type": "Feature"
         },
         {
          "geometry": {
           "coordinates": [
            [
             [
              -121.57800499999999,
              36.014151
             ],
             [
              -121.57800499999999,
              36.039578663197
             ],
             [
              -121.54656396505581,
              36.039578663197
             ],
             [
              -121.54656396505581,
              36.014151
             ],
             [
              -121.57800499999999,
              36.014151
             ]
            ]
           ],
           "type": "Polygon"
          },
          "id": "15",
          "properties": {
           "CHLOROPHYLL": 0.873553,
           "CSU_Descriptor": "steeply sloping, straight, medium erodibility, warm temperate dry, low river discharge, moderate wave energy, moderately tidal, euhaline-oxic-moderate to cool, clear, low chlorophyll",
           "CSU_ID": 62191,
           "Cluster": 6,
           "EMU_PHYSICAL": "Euhaline-Oxic-Moderate to Cool",
           "ERODIBILITY": "Medium",
           "GHM": 0.119442,
           "LENGTH_GEO": 808.9428929044105,
           "MAX_SLOPE": 117.850254,
           "MEAN_SIG_WAVEHEIGHT": 1.687268,
           "MasterKey": 2753656,
           "OBJECTID": 2753656,
           "OUTFLOW_DENSITY": 8671.790039,
           "OUTFLOW_DENSITY_RESCALED": 1.0484883786709782e-05,
           "REGIONAL_SINUOSITY": 1.270183,
           "RandomSort": 2325693.95182625,
           "Shape_Length": 0.00861533106398222,
           "TEMP_MOISTURE": "Warm Temperate Dry",
           "TIDAL_RANGE": 2.416656,
           "TURBIDITY": 0.027483,
           "chl_label": "low chlorophyll",
           "id": 15,
           "index_right": 8,
           "river_label": "low river discharge",
           "sinuosity_label": "straight",
           "slope_label": "steeply sloping",
           "style": {
            "color": "black",
            "fillColor": "grey",
            "fillOpacity": 0.1,
            "weight": 3
           },
           "tidal_label": "moderately tidal",
           "turbid_label": "clear",
           "wave_label": "moderate wave energy"
          },
          "type": "Feature"
         },
         {
          "geometry": {
           "coordinates": [
            [
             [
              -121.57800499999999,
              36.014151
             ],
             [
              -121.57800499999999,
              36.039578663197
             ],
             [
              -121.54656396505581,
              36.039578663197
             ],
             [
              -121.54656396505581,
              36.014151
             ],
             [
              -121.57800499999999,
              36.014151
             ]
            ]
           ],
           "type": "Polygon"
          },
          "id": "16",
          "properties": {
           "CHLOROPHYLL": 0.873553,
           "CSU_Descriptor": "steeply sloping, straight, medium erodibility, warm temperate dry, low river discharge, moderate wave energy, moderately tidal, euhaline-oxic-moderate to cool, clear, low chlorophyll",
           "CSU_ID": 62191,
           "Cluster": 6,
           "EMU_PHYSICAL": "Euhaline-Oxic-Moderate to Cool",
           "ERODIBILITY": "Medium",
           "GHM": 0.119442,
           "LENGTH_GEO": 809.4293303941587,
           "MAX_SLOPE": 114.768235,
           "MEAN_SIG_WAVEHEIGHT": 1.687268,
           "MasterKey": 2753657,
           "OBJECTID": 2753657,
           "OUTFLOW_DENSITY": 8671.790039,
           "OUTFLOW_DENSITY_RESCALED": 1.0484883786709782e-05,
           "REGIONAL_SINUOSITY": 1.270183,
           "RandomSort": 3110913.78667961,
           "Shape_Length": 0.00883771172510186,
           "TEMP_MOISTURE": "Warm Temperate Dry",
           "TIDAL_RANGE": 2.416656,
           "TURBIDITY": 0.027483,
           "chl_label": "low chlorophyll",
           "id": 16,
           "index_right": 2,
           "river_label": "low river discharge",
           "sinuosity_label": "straight",
           "slope_label": "steeply sloping",
           "style": {
            "color": "black",
            "fillColor": "grey",
            "fillOpacity": 0.1,
            "weight": 3
           },
           "tidal_label": "moderately tidal",
           "turbid_label": "clear",
           "wave_label": "moderate wave energy"
          },
          "type": "Feature"
         },
         {
          "geometry": {
           "coordinates": [
            [
             [
              -121.57800499999999,
              36.014151
             ],
             [
              -121.57800499999999,
              36.039578663197
             ],
             [
              -121.54656396505581,
              36.039578663197
             ],
             [
              -121.54656396505581,
              36.014151
             ],
             [
              -121.57800499999999,
              36.014151
             ]
            ]
           ],
           "type": "Polygon"
          },
          "id": "17",
          "properties": {
           "CHLOROPHYLL": 0.873553,
           "CSU_Descriptor": "steeply sloping, straight, medium erodibility, warm temperate dry, low river discharge, moderate wave energy, moderately tidal, euhaline-oxic-moderate to cool, clear, low chlorophyll",
           "CSU_ID": 62191,
           "Cluster": 6,
           "EMU_PHYSICAL": "Euhaline-Oxic-Moderate to Cool",
           "ERODIBILITY": "Medium",
           "GHM": 0.119442,
           "LENGTH_GEO": 809.4293303941587,
           "MAX_SLOPE": 114.768235,
           "MEAN_SIG_WAVEHEIGHT": 1.687268,
           "MasterKey": 2753657,
           "OBJECTID": 2753657,
           "OUTFLOW_DENSITY": 8671.790039,
           "OUTFLOW_DENSITY_RESCALED": 1.0484883786709782e-05,
           "REGIONAL_SINUOSITY": 1.270183,
           "RandomSort": 3110913.78667961,
           "Shape_Length": 0.00883771172510186,
           "TEMP_MOISTURE": "Warm Temperate Dry",
           "TIDAL_RANGE": 2.416656,
           "TURBIDITY": 0.027483,
           "chl_label": "low chlorophyll",
           "id": 17,
           "index_right": 7,
           "river_label": "low river discharge",
           "sinuosity_label": "straight",
           "slope_label": "steeply sloping",
           "style": {
            "color": "black",
            "fillColor": "grey",
            "fillOpacity": 0.1,
            "weight": 3
           },
           "tidal_label": "moderately tidal",
           "turbid_label": "clear",
           "wave_label": "moderate wave energy"
          },
          "type": "Feature"
         },
         {
          "geometry": {
           "coordinates": [
            [
             [
              -121.57800499999999,
              36.014151
             ],
             [
              -121.57800499999999,
              36.039578663197
             ],
             [
              -121.54656396505581,
              36.039578663197
             ],
             [
              -121.54656396505581,
              36.014151
             ],
             [
              -121.57800499999999,
              36.014151
             ]
            ]
           ],
           "type": "Polygon"
          },
          "id": "18",
          "properties": {
           "CHLOROPHYLL": 0.873553,
           "CSU_Descriptor": "steeply sloping, straight, medium erodibility, warm temperate dry, low river discharge, moderate wave energy, moderately tidal, euhaline-oxic-moderate to cool, clear, low chlorophyll",
           "CSU_ID": 62191,
           "Cluster": 6,
           "EMU_PHYSICAL": "Euhaline-Oxic-Moderate to Cool",
           "ERODIBILITY": "Medium",
           "GHM": 0.144511,
           "LENGTH_GEO": 809.2201719767945,
           "MAX_SLOPE": 109.272652,
           "MEAN_SIG_WAVEHEIGHT": 1.687268,
           "MasterKey": 2753658,
           "OBJECTID": 2753658,
           "OUTFLOW_DENSITY": 8671.790039,
           "OUTFLOW_DENSITY_RESCALED": 1.0484883786709782e-05,
           "REGIONAL_SINUOSITY": 1.270183,
           "RandomSort": 3366707.6827197,
           "Shape_Length": 0.008735799579888025,
           "TEMP_MOISTURE": "Warm Temperate Dry",
           "TIDAL_RANGE": 2.416656,
           "TURBIDITY": 0.027483,
           "chl_label": "low chlorophyll",
           "id": 18,
           "index_right": 1,
           "river_label": "low river discharge",
           "sinuosity_label": "straight",
           "slope_label": "steeply sloping",
           "style": {
            "color": "black",
            "fillColor": "grey",
            "fillOpacity": 0.1,
            "weight": 3
           },
           "tidal_label": "moderately tidal",
           "turbid_label": "clear",
           "wave_label": "moderate wave energy"
          },
          "type": "Feature"
         },
         {
          "geometry": {
           "coordinates": [
            [
             [
              -121.54656396505581,
              36.014151
             ],
             [
              -121.54656396505581,
              36.039578663197
             ],
             [
              -121.51512293011162,
              36.039578663197
             ],
             [
              -121.51512293011162,
              36.014151
             ],
             [
              -121.54656396505581,
              36.014151
             ]
            ]
           ],
           "type": "Polygon"
          },
          "id": "19",
          "properties": {
           "CHLOROPHYLL": 0.873553,
           "CSU_Descriptor": "steeply sloping, straight, medium erodibility, warm temperate dry, low river discharge, moderate wave energy, moderately tidal, euhaline-oxic-moderate to cool, clear, low chlorophyll",
           "CSU_ID": 62191,
           "Cluster": 6,
           "EMU_PHYSICAL": "Euhaline-Oxic-Moderate to Cool",
           "ERODIBILITY": "Medium",
           "GHM": 0.144511,
           "LENGTH_GEO": 809.2201719767945,
           "MAX_SLOPE": 109.272652,
           "MEAN_SIG_WAVEHEIGHT": 1.687268,
           "MasterKey": 2753658,
           "OBJECTID": 2753658,
           "OUTFLOW_DENSITY": 8671.790039,
           "OUTFLOW_DENSITY_RESCALED": 1.0484883786709782e-05,
           "REGIONAL_SINUOSITY": 1.270183,
           "RandomSort": 3366707.6827197,
           "Shape_Length": 0.008735799579888025,
           "TEMP_MOISTURE": "Warm Temperate Dry",
           "TIDAL_RANGE": 2.416656,
           "TURBIDITY": 0.027483,
           "chl_label": "low chlorophyll",
           "id": 19,
           "index_right": 1,
           "river_label": "low river discharge",
           "sinuosity_label": "straight",
           "slope_label": "steeply sloping",
           "style": {
            "color": "black",
            "fillColor": "grey",
            "fillOpacity": 0.1,
            "weight": 3
           },
           "tidal_label": "moderately tidal",
           "turbid_label": "clear",
           "wave_label": "moderate wave energy"
          },
          "type": "Feature"
         },
         {
          "geometry": {
           "coordinates": [
            [
             [
              -121.57800499999999,
              36.014151
             ],
             [
              -121.57800499999999,
              36.039578663197
             ],
             [
              -121.54656396505581,
              36.039578663197
             ],
             [
              -121.54656396505581,
              36.014151
             ],
             [
              -121.57800499999999,
              36.014151
             ]
            ]
           ],
           "type": "Polygon"
          },
          "id": "20",
          "properties": {
           "CHLOROPHYLL": 0.873553,
           "CSU_Descriptor": "steeply sloping, straight, medium erodibility, warm temperate dry, low river discharge, moderate wave energy, moderately tidal, euhaline-oxic-moderate to cool, clear, low chlorophyll",
           "CSU_ID": 62191,
           "Cluster": 6,
           "EMU_PHYSICAL": "Euhaline-Oxic-Moderate to Cool",
           "ERODIBILITY": "Medium",
           "GHM": 0.144511,
           "LENGTH_GEO": 809.2201719767945,
           "MAX_SLOPE": 109.272652,
           "MEAN_SIG_WAVEHEIGHT": 1.687268,
           "MasterKey": 2753658,
           "OBJECTID": 2753658,
           "OUTFLOW_DENSITY": 8671.790039,
           "OUTFLOW_DENSITY_RESCALED": 1.0484883786709782e-05,
           "REGIONAL_SINUOSITY": 1.270183,
           "RandomSort": 3366707.6827197,
           "Shape_Length": 0.008735799579888025,
           "TEMP_MOISTURE": "Warm Temperate Dry",
           "TIDAL_RANGE": 2.416656,
           "TURBIDITY": 0.027483,
           "chl_label": "low chlorophyll",
           "id": 20,
           "index_right": 6,
           "river_label": "low river discharge",
           "sinuosity_label": "straight",
           "slope_label": "steeply sloping",
           "style": {
            "color": "black",
            "fillColor": "grey",
            "fillOpacity": 0.1,
            "weight": 3
           },
           "tidal_label": "moderately tidal",
           "turbid_label": "clear",
           "wave_label": "moderate wave energy"
          },
          "type": "Feature"
         },
         {
          "geometry": {
           "coordinates": [
            [
             [
              -121.54656396505581,
              36.014151
             ],
             [
              -121.54656396505581,
              36.039578663197
             ],
             [
              -121.51512293011162,
              36.039578663197
             ],
             [
              -121.51512293011162,
              36.014151
             ],
             [
              -121.54656396505581,
              36.014151
             ]
            ]
           ],
           "type": "Polygon"
          },
          "id": "21",
          "properties": {
           "CHLOROPHYLL": 0.873553,
           "CSU_Descriptor": "steeply sloping, straight, medium erodibility, warm temperate dry, low river discharge, moderate wave energy, moderately tidal, euhaline-oxic-moderate to cool, clear, low chlorophyll",
           "CSU_ID": 62191,
           "Cluster": 6,
           "EMU_PHYSICAL": "Euhaline-Oxic-Moderate to Cool",
           "ERODIBILITY": "Medium",
           "GHM": 0.144511,
           "LENGTH_GEO": 809.2201719767945,
           "MAX_SLOPE": 109.272652,
           "MEAN_SIG_WAVEHEIGHT": 1.687268,
           "MasterKey": 2753658,
           "OBJECTID": 2753658,
           "OUTFLOW_DENSITY": 8671.790039,
           "OUTFLOW_DENSITY_RESCALED": 1.0484883786709782e-05,
           "REGIONAL_SINUOSITY": 1.270183,
           "RandomSort": 3366707.6827197,
           "Shape_Length": 0.008735799579888025,
           "TEMP_MOISTURE": "Warm Temperate Dry",
           "TIDAL_RANGE": 2.416656,
           "TURBIDITY": 0.027483,
           "chl_label": "low chlorophyll",
           "id": 21,
           "index_right": 6,
           "river_label": "low river discharge",
           "sinuosity_label": "straight",
           "slope_label": "steeply sloping",
           "style": {
            "color": "black",
            "fillColor": "grey",
            "fillOpacity": 0.1,
            "weight": 3
           },
           "tidal_label": "moderately tidal",
           "turbid_label": "clear",
           "wave_label": "moderate wave energy"
          },
          "type": "Feature"
         },
         {
          "geometry": {
           "coordinates": [
            [
             [
              -121.54656396505581,
              36.014151
             ],
             [
              -121.54656396505581,
              36.039578663197
             ],
             [
              -121.51512293011162,
              36.039578663197
             ],
             [
              -121.51512293011162,
              36.014151
             ],
             [
              -121.54656396505581,
              36.014151
             ]
            ]
           ],
           "type": "Polygon"
          },
          "id": "22",
          "properties": {
           "CHLOROPHYLL": 2.417483,
           "CSU_Descriptor": "vertical, straight, medium erodibility, warm temperate dry, low river discharge, moderate wave energy, moderately tidal, euhaline-oxic-moderate to cool, clear, moderate chlorophyll",
           "CSU_ID": 71260,
           "Cluster": 6,
           "EMU_PHYSICAL": "Euhaline-Oxic-Moderate to Cool",
           "ERODIBILITY": "Medium",
           "GHM": 0.133607,
           "LENGTH_GEO": 808.8794813016038,
           "MAX_SLOPE": 318.587599,
           "MEAN_SIG_WAVEHEIGHT": 1.687268,
           "MasterKey": 2753659,
           "OBJECTID": 2753659,
           "OUTFLOW_DENSITY": 8671.790039,
           "OUTFLOW_DENSITY_RESCALED": 1.0484883786709782e-05,
           "REGIONAL_SINUOSITY": 1.270183,
           "RandomSort": 1593234.33411067,
           "Shape_Length": 0.008565231531598157,
           "TEMP_MOISTURE": "Warm Temperate Dry",
           "TIDAL_RANGE": 2.416656,
           "TURBIDITY": 0.027483,
           "chl_label": "moderate chlorophyll",
           "id": 22,
           "index_right": 0,
           "river_label": "low river discharge",
           "sinuosity_label": "straight",
           "slope_label": "vertical",
           "style": {
            "color": "black",
            "fillColor": "grey",
            "fillOpacity": 0.1,
            "weight": 3
           },
           "tidal_label": "moderately tidal",
           "turbid_label": "clear",
           "wave_label": "moderate wave energy"
          },
          "type": "Feature"
         },
         {
          "geometry": {
           "coordinates": [
            [
             [
              -121.54656396505581,
              36.014151
             ],
             [
              -121.54656396505581,
              36.039578663197
             ],
             [
              -121.51512293011162,
              36.039578663197
             ],
             [
              -121.51512293011162,
              36.014151
             ],
             [
              -121.54656396505581,
              36.014151
             ]
            ]
           ],
           "type": "Polygon"
          },
          "id": "23",
          "properties": {
           "CHLOROPHYLL": 2.417483,
           "CSU_Descriptor": "vertical, straight, medium erodibility, warm temperate dry, low river discharge, moderate wave energy, moderately tidal, euhaline-oxic-moderate to cool, clear, moderate chlorophyll",
           "CSU_ID": 71260,
           "Cluster": 6,
           "EMU_PHYSICAL": "Euhaline-Oxic-Moderate to Cool",
           "ERODIBILITY": "Medium",
           "GHM": 0.133607,
           "LENGTH_GEO": 808.8794813016038,
           "MAX_SLOPE": 318.587599,
           "MEAN_SIG_WAVEHEIGHT": 1.687268,
           "MasterKey": 2753659,
           "OBJECTID": 2753659,
           "OUTFLOW_DENSITY": 8671.790039,
           "OUTFLOW_DENSITY_RESCALED": 1.0484883786709782e-05,
           "REGIONAL_SINUOSITY": 1.270183,
           "RandomSort": 1593234.33411067,
           "Shape_Length": 0.008565231531598157,
           "TEMP_MOISTURE": "Warm Temperate Dry",
           "TIDAL_RANGE": 2.416656,
           "TURBIDITY": 0.027483,
           "chl_label": "moderate chlorophyll",
           "id": 23,
           "index_right": 5,
           "river_label": "low river discharge",
           "sinuosity_label": "straight",
           "slope_label": "vertical",
           "style": {
            "color": "black",
            "fillColor": "grey",
            "fillOpacity": 0.1,
            "weight": 3
           },
           "tidal_label": "moderately tidal",
           "turbid_label": "clear",
           "wave_label": "moderate wave energy"
          },
          "type": "Feature"
         }
        ],
        "type": "FeatureCollection"
       },
       "hover_style": {
        "color": "crimson",
        "fillColor": "red"
       },
       "name": "GeoJSON data"
      }
     },
     "46f87671fa38499886cf5b32b3bc7bd1": {
      "model_module": "@jupyter-widgets/controls",
      "model_module_version": "1.5.0",
      "model_name": "ButtonModel",
      "state": {
       "description": "Download ROIs",
       "layout": "IPY_MODEL_ac6f51ee03734a6e9e2a8c51c842fcf9",
       "style": "IPY_MODEL_181cc847e75441f78656932b65294313"
      }
     },
     "47153385a8b54260a5ed854c95f8d876": {
      "model_module": "@jupyter-widgets/controls",
      "model_module_version": "1.5.0",
      "model_name": "HTMLModel",
      "state": {
       "layout": "IPY_MODEL_8ea991a0335f4a578f850c44033bb423",
       "style": "IPY_MODEL_dd4dfa9420194753b185f0995dae2764",
       "value": "100%"
      }
     },
     "47818cca82dd49d19d8055cf74bf1dda": {
      "model_module": "@jupyter-widgets/base",
      "model_module_version": "1.2.0",
      "model_name": "LayoutModel",
      "state": {}
     },
     "4784851e2aea4eac9b287f407d0ca30a": {
      "model_module": "@jupyter-widgets/base",
      "model_module_version": "1.2.0",
      "model_name": "LayoutModel",
      "state": {}
     },
     "47dc50aa85f54a38985a2d79da69c62e": {
      "model_module": "jupyter-leaflet",
      "model_module_version": "^0.17.0",
      "model_name": "LeafletTileLayerModel",
      "state": {
       "_model_module_version": "^0.17.0",
       "_view_module_version": "^0.17.0",
       "attribution": "(C) OpenStreetMap contributors",
       "max_zoom": 19,
       "name": "OpenStreetMap.Mapnik",
       "options": [
        "attribution",
        "bounds",
        "detect_retina",
        "max_native_zoom",
        "max_zoom",
        "min_native_zoom",
        "min_zoom",
        "no_wrap",
        "tile_size",
        "tms"
       ],
       "url": "https://a.tile.openstreetmap.org/{z}/{x}/{y}.png"
      }
     },
     "482aa58b29ed4255a2126b8de8bd62a3": {
      "model_module": "jupyter-leaflet",
      "model_module_version": "^0.17.0",
      "model_name": "LeafletTileLayerModel",
      "state": {
       "_model_module_version": "^0.17.0",
       "_view_module_version": "^0.17.0",
       "attribution": "(C) OpenStreetMap contributors",
       "name": "OpenStreetMap.BlackAndWhite",
       "options": [
        "attribution",
        "bounds",
        "detect_retina",
        "max_native_zoom",
        "max_zoom",
        "min_native_zoom",
        "min_zoom",
        "no_wrap",
        "tile_size",
        "tms"
       ],
       "url": "http://a.tiles.wmflabs.org/bw-mapnik/{z}/{x}/{y}.png"
      }
     },
     "48e2cc5051694d98a0804de5ca61ecdf": {
      "model_module": "jupyter-leaflet",
      "model_module_version": "^0.17.0",
      "model_name": "LeafletTileLayerModel",
      "state": {
       "_model_module_version": "^0.17.0",
       "_view_module_version": "^0.17.0",
       "attribution": "Imagery provided by services from the Global Imagery Browse Services (GIBS), operated by the NASA/GSFC/Earth Science Data and Information System (ESDIS) with funding provided by NASA/HQ.",
       "max_zoom": 9,
       "name": "NASAGIBS.ModisTerraBands721CR",
       "options": [
        "attribution",
        "bounds",
        "detect_retina",
        "max_native_zoom",
        "max_zoom",
        "min_native_zoom",
        "min_zoom",
        "no_wrap",
        "tile_size",
        "tms"
       ],
       "url": "https://gibs.earthdata.nasa.gov/wmts/epsg3857/best/MODIS_Terra_CorrectedReflectance_Bands721/default//GoogleMapsCompatible_Level9/{z}/{y}/{x}.jpg"
      }
     },
     "492734b6631c4a92a53f3e9ddad83c06": {
      "model_module": "@jupyter-widgets/base",
      "model_module_version": "1.2.0",
      "model_name": "LayoutModel",
      "state": {}
     },
     "4a12969459ad495980556ed5da02a498": {
      "model_module": "@jupyter-widgets/controls",
      "model_module_version": "1.5.0",
      "model_name": "DescriptionStyleModel",
      "state": {
       "description_width": ""
      }
     },
     "4a1696fc3a2548dd9b5960050d6fa7d7": {
      "model_module": "@jupyter-widgets/base",
      "model_module_version": "1.2.0",
      "model_name": "LayoutModel",
      "state": {
       "height": "auto",
       "padding": "0px 0px 0px 4px",
       "width": "auto"
      }
     },
     "4a3324922bd14d3f8d46ca62b089fb16": {
      "model_module": "jupyter-leaflet",
      "model_module_version": "^0.17.0",
      "model_name": "LeafletMapModel",
      "state": {
       "_model_module_version": "^0.17.0",
       "_view_module_version": "^0.17.0",
       "bottom": 823822,
       "center": [
        36,
        -121.5
       ],
       "controls": [
        "IPY_MODEL_a3cd5c7b201d417da82fd1dbffb29d6b",
        "IPY_MODEL_d6e129e294aa44028382d20dcc8aafe4",
        "IPY_MODEL_501913e794cd4cb1bd578969b5393f4e",
        "IPY_MODEL_f85907181da74378a66df53c7a390ea0",
        "IPY_MODEL_10a6cc34845c45d4977bd9dfe314e751",
        "IPY_MODEL_815a6d55add54351bf6a66692491097c",
        "IPY_MODEL_3dbd9189a5f24d48bd85da1400ae0401"
       ],
       "default_style": "IPY_MODEL_153627e9355d4b3889c17fa51f783b49",
       "dragging_style": "IPY_MODEL_da9daae3db5f4a89b7f1f300b9696b58",
       "east": -121.40768051147462,
       "fullscreen": false,
       "interpolation": "bilinear",
       "layers": [
        "IPY_MODEL_bfeacd9c66e54bc8bae39631821922ff",
        "IPY_MODEL_1bad1293d51f45c48ac464d459281f0e",
        "IPY_MODEL_46d51ae29f834fb0b2b7b25e49714655",
        "IPY_MODEL_8e0eeb07d3b447afaa848928bc7c87ed"
       ],
       "layout": "IPY_MODEL_02b12a02df254d6da38d351f0cb86556",
       "left": 340249,
       "max_zoom": 24,
       "modisdate": "2022-09-06",
       "north": 36.04160391772081,
       "options": [
        "bounce_at_zoom_limits",
        "box_zoom",
        "center",
        "close_popup_on_click",
        "double_click_zoom",
        "dragging",
        "fullscreen",
        "inertia",
        "inertia_deceleration",
        "inertia_max_speed",
        "interpolation",
        "keyboard",
        "keyboard_pan_offset",
        "keyboard_zoom_offset",
        "max_zoom",
        "min_zoom",
        "prefer_canvas",
        "scroll_wheel_zoom",
        "tap",
        "tap_tolerance",
        "touch_zoom",
        "world_copy_jump",
        "zoom",
        "zoom_animation_threshold",
        "zoom_delta",
        "zoom_snap"
       ],
       "prefer_canvas": false,
       "right": 341325,
       "scroll_wheel_zoom": true,
       "south": 35.958277687527534,
       "style": "IPY_MODEL_153627e9355d4b3889c17fa51f783b49",
       "top": 823222,
       "west": -121.59238815307619,
       "window_url": "http://localhost:8888/lab/workspaces/auto-Q/tree/custom_map.ipynb",
       "zoom": 13
      }
     },
     "4a35dddfcee648bc94075e2c66786034": {
      "model_module": "@jupyter-widgets/base",
      "model_module_version": "1.2.0",
      "model_name": "LayoutModel",
      "state": {
       "margin": "0px 0px 0px 5px"
      }
     },
     "4aa0de9a5cfa47cc9e2f4cc3a42f1a8d": {
      "model_module": "@jupyter-widgets/controls",
      "model_module_version": "1.5.0",
      "model_name": "ButtonStyleModel",
      "state": {
       "button_color": "#69add1"
      }
     },
     "4acbf846eeed4332a36a63d2fb45eea2": {
      "model_module": "@jupyter-widgets/base",
      "model_module_version": "1.2.0",
      "model_name": "LayoutModel",
      "state": {}
     },
     "4c023fbeeda648d5a8c1bc4a82b0f182": {
      "model_module": "jupyter-leaflet",
      "model_module_version": "^0.17.0",
      "model_name": "LeafletTileLayerModel",
      "state": {
       "_model_module_version": "^0.17.0",
       "_view_module_version": "^0.17.0",
       "attribution": "Map data: (C) OpenStreetMap contributors | Map style: (C) OpenRailwayMap (CC-BY-SA)",
       "max_zoom": 19,
       "name": "OpenRailwayMap",
       "options": [
        "attribution",
        "bounds",
        "detect_retina",
        "max_native_zoom",
        "max_zoom",
        "min_native_zoom",
        "min_zoom",
        "no_wrap",
        "tile_size",
        "tms"
       ],
       "url": "https://a.tiles.openrailwaymap.org/standard/{z}/{x}/{y}.png"
      }
     },
     "4c1aa527d098428fb5402c969c96d3f6": {
      "model_module": "@jupyter-widgets/controls",
      "model_module_version": "1.5.0",
      "model_name": "ButtonStyleModel",
      "state": {
       "button_color": "red"
      }
     },
     "4c6c84b145d844edb499201c618b619d": {
      "model_module": "@jupyter-widgets/base",
      "model_module_version": "1.2.0",
      "model_name": "LayoutModel",
      "state": {
       "height": "auto",
       "padding": "0px 0px 0px 4px",
       "width": "auto"
      }
     },
     "4c7b881822b549e59373d296a7e02845": {
      "model_module": "jupyter-leaflet",
      "model_module_version": "^0.17.0",
      "model_name": "LeafletTileLayerModel",
      "state": {
       "_model_module_version": "^0.17.0",
       "_view_module_version": "^0.17.0",
       "attribution": "Imagery provided by services from the Global Imagery Browse Services (GIBS), operated by the NASA/GSFC/Earth Science Data and Information System (ESDIS) with funding provided by NASA/HQ.",
       "max_zoom": 9,
       "name": "NASAGIBS.ModisAquaBands721CR",
       "options": [
        "attribution",
        "bounds",
        "detect_retina",
        "max_native_zoom",
        "max_zoom",
        "min_native_zoom",
        "min_zoom",
        "no_wrap",
        "tile_size",
        "tms"
       ],
       "url": "https://gibs.earthdata.nasa.gov/wmts/epsg3857/best/MODIS_Aqua_CorrectedReflectance_Bands721/default//GoogleMapsCompatible_Level9/{z}/{y}/{x}.jpg"
      }
     },
     "4c92077dc3e149f688cc5042eb868a08": {
      "model_module": "@jupyter-widgets/controls",
      "model_module_version": "1.5.0",
      "model_name": "ButtonModel",
      "state": {
       "description": "Select Your Images",
       "layout": "IPY_MODEL_3d09269ea63e44529136325fc23053dc",
       "style": "IPY_MODEL_3562d318749546058f500c4420312b25"
      }
     },
     "4cd23b39f4a6436098b4d3f92edd51e2": {
      "model_module": "jupyter-leaflet",
      "model_module_version": "^0.17.0",
      "model_name": "LeafletTileLayerModel",
      "state": {
       "_model_module_version": "^0.17.0",
       "_view_module_version": "^0.17.0",
       "attribution": "Map data: (C) OpenStreetMap contributors & ODbL, (C) www.opensnowmap.org CC-BY-SA",
       "name": "OpenSnowMap.pistes",
       "options": [
        "attribution",
        "bounds",
        "detect_retina",
        "max_native_zoom",
        "max_zoom",
        "min_native_zoom",
        "min_zoom",
        "no_wrap",
        "tile_size",
        "tms"
       ],
       "url": "https://tiles.opensnowmap.org/pistes/{z}/{x}/{y}.png"
      }
     },
     "4cd869705e49431185e1302cac5a538f": {
      "model_module": "@jupyter-widgets/controls",
      "model_module_version": "1.5.0",
      "model_name": "DescriptionStyleModel",
      "state": {
       "description_width": ""
      }
     },
     "4d70651fd1804336aab0ce62217232e0": {
      "model_module": "@jupyter-widgets/controls",
      "model_module_version": "1.5.0",
      "model_name": "RadioButtonsModel",
      "state": {
       "_options_labels": [
        "C01",
        "C02"
       ],
       "description": "Collection:",
       "index": 0,
       "layout": "IPY_MODEL_f03994335e69489a81dddda55001df00",
       "style": "IPY_MODEL_eafcda2bc9514897bf813578239b6b49"
      }
     },
     "4d77cfddac2b45df8f6614598f49ed26": {
      "model_module": "@jupyter-widgets/controls",
      "model_module_version": "1.5.0",
      "model_name": "HBoxModel",
      "state": {
       "children": [
        "IPY_MODEL_29212140a9234badbcc7504f8bdeb8be",
        "IPY_MODEL_85dda4f24c564f788695266bc4c8939a"
       ],
       "layout": "IPY_MODEL_f9794aeba2f0421fbe107689710d93ff"
      }
     },
     "4db39dad45a4405f86467b1cebc1e079": {
      "model_module": "jupyter-leaflet",
      "model_module_version": "^0.17.0",
      "model_name": "LeafletTileLayerModel",
      "state": {
       "_model_module_version": "^0.17.0",
       "_view_module_version": "^0.17.0",
       "attribution": "(C) OpenStreetMap contributors",
       "max_zoom": 19,
       "name": "HikeBike.HikeBike",
       "options": [
        "attribution",
        "bounds",
        "detect_retina",
        "max_native_zoom",
        "max_zoom",
        "min_native_zoom",
        "min_zoom",
        "no_wrap",
        "tile_size",
        "tms"
       ],
       "url": "https://tiles.wmflabs.org/hikebike/{z}/{x}/{y}.png"
      }
     },
     "4eef4263101443409ee4c521ccac356b": {
      "model_module": "@jupyter-widgets/base",
      "model_module_version": "1.2.0",
      "model_name": "LayoutModel",
      "state": {}
     },
     "4f2883f2a5304c0ab47ebe3859006ab0": {
      "model_module": "jupyter-leaflet",
      "model_module_version": "^0.17.0",
      "model_name": "LeafletTileLayerModel",
      "state": {
       "_model_module_version": "^0.17.0",
       "_view_module_version": "^0.17.0",
       "attribution": "Google",
       "max_zoom": 22,
       "name": "Google Maps",
       "options": [
        "attribution",
        "bounds",
        "detect_retina",
        "max_native_zoom",
        "max_zoom",
        "min_native_zoom",
        "min_zoom",
        "no_wrap",
        "tile_size",
        "tms"
       ],
       "url": "https://mt1.google.com/vt/lyrs=m&x={x}&y={y}&z={z}"
      }
     },
     "4fd564e09f934173a99078a18d74deae": {
      "model_module": "jupyter-leaflet",
      "model_module_version": "^0.17.0",
      "model_name": "LeafletTileLayerModel",
      "state": {
       "_model_module_version": "^0.17.0",
       "_view_module_version": "^0.17.0",
       "attribution": "Tiles (C) Esri -- Source: USGS, Esri, TANA, DeLorme, and NPS",
       "max_zoom": 13,
       "name": "Esri.WorldTerrain",
       "options": [
        "attribution",
        "bounds",
        "detect_retina",
        "max_native_zoom",
        "max_zoom",
        "min_native_zoom",
        "min_zoom",
        "no_wrap",
        "tile_size",
        "tms"
       ],
       "url": "https://server.arcgisonline.com/ArcGIS/rest/services/World_Terrain_Base/MapServer/tile/{z}/{y}/{x}"
      }
     },
     "4ff199c95f5d4368985cbdea00366104": {
      "model_module": "jupyter-leaflet",
      "model_module_version": "^0.17.0",
      "model_name": "LeafletWMSLayerModel",
      "state": {
       "_model_module_version": "^0.17.0",
       "_view_module_version": "^0.17.0",
       "attribution": "USGS",
       "crs": {
        "custom": false,
        "name": "EPSG3857"
       },
       "format": "image/png",
       "layers": "USGSNAIPImagery:NDVI_Color",
       "name": "USGS NAIP Imagery NDVI",
       "options": [
        "attribution",
        "bounds",
        "detect_retina",
        "format",
        "layers",
        "max_native_zoom",
        "max_zoom",
        "min_native_zoom",
        "min_zoom",
        "no_wrap",
        "styles",
        "tile_size",
        "tms",
        "transparent",
        "uppercase"
       ],
       "transparent": true,
       "url": "https://imagery.nationalmap.gov/arcgis/services/USGSNAIPImagery/ImageServer/WMSServer?"
      }
     },
     "50069354264c4d44a64233ff57be8634": {
      "model_module": "@jupyter-widgets/controls",
      "model_module_version": "1.5.0",
      "model_name": "DescriptionStyleModel",
      "state": {
       "description_width": ""
      }
     },
     "501913e794cd4cb1bd578969b5393f4e": {
      "model_module": "jupyter-leaflet",
      "model_module_version": "^0.17.0",
      "model_name": "LeafletScaleControlModel",
      "state": {
       "_model_module_version": "^0.17.0",
       "_view_module_version": "^0.17.0",
       "imperial": true,
       "max_width": 100,
       "metric": true,
       "options": [
        "imperial",
        "max_width",
        "metric",
        "position",
        "update_when_idle"
       ],
       "position": "bottomleft",
       "update_when_idle": false
      }
     },
     "502d60ae96d7421f88952446d7192047": {
      "model_module": "@jupyter-widgets/base",
      "model_module_version": "1.2.0",
      "model_name": "LayoutModel",
      "state": {}
     },
     "50573767c08f48d58787bfc7d0f20a40": {
      "model_module": "jupyter-leaflet",
      "model_module_version": "^0.17.0",
      "model_name": "LeafletTileLayerModel",
      "state": {
       "_model_module_version": "^0.17.0",
       "_view_module_version": "^0.17.0",
       "attribution": "(C) OpenStreetMap contributors",
       "max_zoom": 15,
       "name": "HikeBike.HillShading",
       "options": [
        "attribution",
        "bounds",
        "detect_retina",
        "max_native_zoom",
        "max_zoom",
        "min_native_zoom",
        "min_zoom",
        "no_wrap",
        "tile_size",
        "tms"
       ],
       "url": "https://tiles.wmflabs.org/hillshading/{z}/{x}/{y}.png"
      }
     },
     "50802e4e4057498fb04262ebb2c73f8c": {
      "model_module": "jupyter-leaflet",
      "model_module_version": "^0.17.0",
      "model_name": "LeafletWMSLayerModel",
      "state": {
       "_model_module_version": "^0.17.0",
       "_view_module_version": "^0.17.0",
       "attribution": "MRLC",
       "crs": {
        "custom": false,
        "name": "EPSG3857"
       },
       "format": "image/png",
       "layers": "NLCD_2013_Land_Cover_L48",
       "name": "NLCD 2013 CONUS Land Cover",
       "options": [
        "attribution",
        "bounds",
        "detect_retina",
        "format",
        "layers",
        "max_native_zoom",
        "max_zoom",
        "min_native_zoom",
        "min_zoom",
        "no_wrap",
        "styles",
        "tile_size",
        "tms",
        "transparent",
        "uppercase"
       ],
       "transparent": true,
       "url": "https://www.mrlc.gov/geoserver/mrlc_display/NLCD_2013_Land_Cover_L48/wms?"
      }
     },
     "50908362d4884399a6f09e2a5eb2f620": {
      "model_module": "@jupyter-widgets/base",
      "model_module_version": "1.2.0",
      "model_name": "LayoutModel",
      "state": {}
     },
     "51bd138d783b4bcc9ed616205a6c1018": {
      "model_module": "jupyter-leaflet",
      "model_module_version": "^0.17.0",
      "model_name": "LeafletTileLayerModel",
      "state": {
       "_model_module_version": "^0.17.0",
       "_view_module_version": "^0.17.0",
       "attribution": "Justice Map",
       "max_zoom": 22,
       "name": "JusticeMap.americanIndian",
       "options": [
        "attribution",
        "bounds",
        "detect_retina",
        "max_native_zoom",
        "max_zoom",
        "min_native_zoom",
        "min_zoom",
        "no_wrap",
        "tile_size",
        "tms"
       ],
       "url": "https://www.justicemap.org/tile/county/indian/{z}/{x}/{y}.png"
      }
     },
     "5250a860d5534f88a89d195d5cf0e125": {
      "model_module": "jupyter-leaflet",
      "model_module_version": "^0.17.0",
      "model_name": "LeafletTileLayerModel",
      "state": {
       "_model_module_version": "^0.17.0",
       "_view_module_version": "^0.17.0",
       "attribution": "![](https://docs.onemap.sg/maps/images/oneMap64-01.png) New OneMap | Map data (C) contributors, Singapore Land Authority",
       "name": "OneMapSG.Original",
       "options": [
        "attribution",
        "bounds",
        "detect_retina",
        "max_native_zoom",
        "max_zoom",
        "min_native_zoom",
        "min_zoom",
        "no_wrap",
        "tile_size",
        "tms"
       ],
       "url": "https://maps-a.onemap.sg/v3/Original/{z}/{x}/{y}.png"
      }
     },
     "52a0413740924b699e06475f7cab734b": {
      "model_module": "jupyter-leaflet",
      "model_module_version": "^0.17.0",
      "model_name": "LeafletTileLayerModel",
      "state": {
       "_model_module_version": "^0.17.0",
       "_view_module_version": "^0.17.0",
       "attribution": "Map data: (C) OpenStreetMap contributors | Map style: (C) waymarkedtrails.org (CC-BY-SA)",
       "name": "WaymarkedTrails.mtb",
       "options": [
        "attribution",
        "bounds",
        "detect_retina",
        "max_native_zoom",
        "max_zoom",
        "min_native_zoom",
        "min_zoom",
        "no_wrap",
        "tile_size",
        "tms"
       ],
       "url": "https://tile.waymarkedtrails.org/mtb/{z}/{x}/{y}.png"
      }
     },
     "538a2588d6f14c07a6756b5cdccf1205": {
      "model_module": "jupyter-leaflet",
      "model_module_version": "^0.17.0",
      "model_name": "LeafletWMSLayerModel",
      "state": {
       "_model_module_version": "^0.17.0",
       "_view_module_version": "^0.17.0",
       "attribution": "ESA",
       "crs": {
        "custom": false,
        "name": "EPSG3857"
       },
       "format": "image/png",
       "layers": "WORLDCOVER_2020_MAP",
       "name": "ESA Worldcover 2020",
       "options": [
        "attribution",
        "bounds",
        "detect_retina",
        "format",
        "layers",
        "max_native_zoom",
        "max_zoom",
        "min_native_zoom",
        "min_zoom",
        "no_wrap",
        "styles",
        "tile_size",
        "tms",
        "transparent",
        "uppercase"
       ],
       "transparent": true,
       "url": "https://services.terrascope.be/wms/v2"
      }
     },
     "538e6f7c83284ce892a0fb6d942b26cd": {
      "model_module": "@jupyter-widgets/controls",
      "model_module_version": "1.5.0",
      "model_name": "ToggleButtonModel",
      "state": {
       "button_style": "primary",
       "icon": "map",
       "layout": "IPY_MODEL_d6727d6022a54a678c89df398f3f505b",
       "style": "IPY_MODEL_15a840fff5574cfe8d16d1bc9c5d005b",
       "tooltip": "Change basemap"
      }
     },
     "53faf387b20f463aa552d69e3fbca85c": {
      "model_module": "@jupyter-widgets/controls",
      "model_module_version": "1.5.0",
      "model_name": "ButtonModel",
      "state": {
       "description": "Run Model",
       "disabled": true,
       "layout": "IPY_MODEL_91f84d1e20dd4b0bb84b87ed92f6a436",
       "style": "IPY_MODEL_bc9c1c34665e45ff9fdd738aa66d8e4a"
      }
     },
     "544ea382798842d498ea188103cb8aad": {
      "model_module": "@jupyter-widgets/controls",
      "model_module_version": "1.5.0",
      "model_name": "HBoxModel",
      "state": {
       "children": [
        "IPY_MODEL_90e4ff43ba1a49d6967ed97b548e326b"
       ],
       "layout": "IPY_MODEL_46bdf4f9ee0e4020830559bc7c82ae3c"
      }
     },
     "55f4e631a3074d80bd282645c4e31026": {
      "model_module": "jupyter-leaflet",
      "model_module_version": "^0.17.0",
      "model_name": "LeafletWMSLayerModel",
      "state": {
       "_model_module_version": "^0.17.0",
       "_view_module_version": "^0.17.0",
       "attribution": "USGS",
       "crs": {
        "custom": false,
        "name": "EPSG3857"
       },
       "format": "image/png",
       "layers": "USGSNAIPImagery:FalseColorComposite",
       "name": "USGS NAIP Imagery False Color",
       "options": [
        "attribution",
        "bounds",
        "detect_retina",
        "format",
        "layers",
        "max_native_zoom",
        "max_zoom",
        "min_native_zoom",
        "min_zoom",
        "no_wrap",
        "styles",
        "tile_size",
        "tms",
        "transparent",
        "uppercase"
       ],
       "transparent": true,
       "url": "https://imagery.nationalmap.gov/arcgis/services/USGSNAIPImagery/ImageServer/WMSServer?"
      }
     },
     "569e93d9cf4946e4bdebfe2e3c5c630f": {
      "model_module": "@jupyter-widgets/controls",
      "model_module_version": "1.5.0",
      "model_name": "HTMLModel",
      "state": {
       "layout": "IPY_MODEL_d642d9e8fec54740bf8fd30aee611f54",
       "style": "IPY_MODEL_cce5f097aca34a1cae277840cd927543",
       "value": "<b>Pick a date:</b>"
      }
     },
     "56a88a6ffa0a4f3695874e247a19f0ba": {
      "model_module": "@jupyter-widgets/controls",
      "model_module_version": "1.5.0",
      "model_name": "ButtonStyleModel",
      "state": {
       "button_color": "red"
      }
     },
     "574f57d0e19b4affa2a0b17ed920766c": {
      "model_module": "jupyter-leaflet",
      "model_module_version": "^0.17.0",
      "model_name": "LeafletTileLayerModel",
      "state": {
       "_model_module_version": "^0.17.0",
       "_view_module_version": "^0.17.0",
       "attribution": "Map tiles by Stamen Design, CC BY 3.0 -- Map data (C) OpenStreetMap contributors",
       "max_zoom": 20,
       "name": "Stamen.TonerLabels",
       "options": [
        "attribution",
        "bounds",
        "detect_retina",
        "max_native_zoom",
        "max_zoom",
        "min_native_zoom",
        "min_zoom",
        "no_wrap",
        "tile_size",
        "tms"
       ],
       "url": "https://stamen-tiles-a.a.ssl.fastly.net/toner-labels/{z}/{x}/{y}.png"
      }
     },
     "576a4602e52c4ad5ac78853348ccd13e": {
      "model_module": "jupyter-leaflet",
      "model_module_version": "^0.17.0",
      "model_name": "LeafletTileLayerModel",
      "state": {
       "_model_module_version": "^0.17.0",
       "_view_module_version": "^0.17.0",
       "attribution": "Geoportail France",
       "name": "GeoportailFrance.plan",
       "options": [
        "attribution",
        "bounds",
        "detect_retina",
        "max_native_zoom",
        "max_zoom",
        "min_native_zoom",
        "min_zoom",
        "no_wrap",
        "tile_size",
        "tms"
       ],
       "url": "https://wxs.ign.fr/choisirgeoportail/geoportail/wmts?REQUEST=GetTile&SERVICE=WMTS&VERSION=1.0.0&STYLE=normal&TILEMATRIXSET=PM&FORMAT=image/png&LAYER=GEOGRAPHICALGRIDSYSTEMS.PLANIGNV2&TILEMATRIX={z}&TILEROW={y}&TILECOL={x}"
      }
     },
     "583fcea96d75431380d4ef09b23f33da": {
      "model_module": "jupyter-leaflet",
      "model_module_version": "^0.17.0",
      "model_name": "LeafletTileLayerModel",
      "state": {
       "_model_module_version": "^0.17.0",
       "_view_module_version": "^0.17.0",
       "attribution": "![](https://docs.onemap.sg/maps/images/oneMap64-01.png) New OneMap | Map data (C) contributors, Singapore Land Authority",
       "name": "OneMapSG.Default",
       "options": [
        "attribution",
        "bounds",
        "detect_retina",
        "max_native_zoom",
        "max_zoom",
        "min_native_zoom",
        "min_zoom",
        "no_wrap",
        "tile_size",
        "tms"
       ],
       "url": "https://maps-a.onemap.sg/v3/Default/{z}/{x}/{y}.png"
      }
     },
     "58ad18047f344bcf9107a89caa45c843": {
      "model_module": "@jupyter-widgets/controls",
      "model_module_version": "1.5.0",
      "model_name": "ToggleButtonModel",
      "state": {
       "button_style": "primary",
       "icon": "fast-forward",
       "layout": "IPY_MODEL_5fcf66c6da264be3aa819cee54675426",
       "style": "IPY_MODEL_bb541328e529436fb2ae129045a59200",
       "tooltip": "Activate the time slider"
      }
     },
     "5902a7b6bb694a249e752a886f40f369": {
      "model_module": "jupyter-leaflet",
      "model_module_version": "^0.17.0",
      "model_name": "LeafletTileLayerModel",
      "state": {
       "_model_module_version": "^0.17.0",
       "_view_module_version": "^0.17.0",
       "attribution": "Map data: (C) OpenSeaMap contributors",
       "max_zoom": 22,
       "name": "OpenSeaMap",
       "options": [
        "attribution",
        "bounds",
        "detect_retina",
        "max_native_zoom",
        "max_zoom",
        "min_native_zoom",
        "min_zoom",
        "no_wrap",
        "tile_size",
        "tms"
       ],
       "url": "https://tiles.openseamap.org/seamark/{z}/{x}/{y}.png"
      }
     },
     "59362a0cd80d43d6a375a36004051058": {
      "model_module": "@jupyter-widgets/controls",
      "model_module_version": "1.5.0",
      "model_name": "RadioButtonsModel",
      "state": {
       "_options_labels": [
        "landsat_6229071",
        "landsat_6230083",
        "SWED-RGB_6824384",
        "SWED-MNDWI_6824342",
        "coast-train-RGB_6950479",
        "S2-water-SWED_6950474"
       ],
       "description": "Select Model:",
       "index": 0,
       "layout": "IPY_MODEL_b1c6ff65f7b84b9a9007e92a2abe5478",
       "style": "IPY_MODEL_0d84f311b4034ff9944f497c6cc87b00"
      }
     },
     "5a4eab5c1fc84b2388c34b8744ba9dc0": {
      "model_module": "@jupyter-widgets/base",
      "model_module_version": "1.2.0",
      "model_name": "LayoutModel",
      "state": {}
     },
     "5aac04ebead04d71a28b0d4773a0d6cb": {
      "model_module": "jupyter-leaflet",
      "model_module_version": "^0.17.0",
      "model_name": "LeafletTileLayerModel",
      "state": {
       "_model_module_version": "^0.17.0",
       "_view_module_version": "^0.17.0",
       "attribution": "Tiles courtesy of the U.S. Geological Survey",
       "max_zoom": 20,
       "name": "USGS.USImageryTopo",
       "options": [
        "attribution",
        "bounds",
        "detect_retina",
        "max_native_zoom",
        "max_zoom",
        "min_native_zoom",
        "min_zoom",
        "no_wrap",
        "tile_size",
        "tms"
       ],
       "url": "https://basemap.nationalmap.gov/arcgis/rest/services/USGSImageryTopo/MapServer/tile/{z}/{y}/{x}"
      }
     },
     "5b0233a74e254961b478487264caa758": {
      "model_module": "jupyter-leaflet",
      "model_module_version": "^0.17.0",
      "model_name": "LeafletTileLayerModel",
      "state": {
       "_model_module_version": "^0.17.0",
       "_view_module_version": "^0.17.0",
       "attribution": "(C) OpenStreetMap contributors (C) CARTO",
       "max_zoom": 20,
       "name": "CartoDB.Voyager",
       "options": [
        "attribution",
        "bounds",
        "detect_retina",
        "max_native_zoom",
        "max_zoom",
        "min_native_zoom",
        "min_zoom",
        "no_wrap",
        "tile_size",
        "tms"
       ],
       "url": "https://a.basemaps.cartocdn.com/rastertiles/voyager/{z}/{x}/{y}.png"
      }
     },
     "5b20d9953dfd488faac5a11a3e4a3335": {
      "model_module": "jupyter-leaflet",
      "model_module_version": "^0.17.0",
      "model_name": "LeafletWMSLayerModel",
      "state": {
       "_model_module_version": "^0.17.0",
       "_view_module_version": "^0.17.0",
       "attribution": "MRLC",
       "crs": {
        "custom": false,
        "name": "EPSG3857"
       },
       "format": "image/png",
       "layers": "NLCD_2004_Land_Cover_L48",
       "name": "NLCD 2004 CONUS Land Cover",
       "options": [
        "attribution",
        "bounds",
        "detect_retina",
        "format",
        "layers",
        "max_native_zoom",
        "max_zoom",
        "min_native_zoom",
        "min_zoom",
        "no_wrap",
        "styles",
        "tile_size",
        "tms",
        "transparent",
        "uppercase"
       ],
       "transparent": true,
       "url": "https://www.mrlc.gov/geoserver/mrlc_display/NLCD_2004_Land_Cover_L48/wms?"
      }
     },
     "5c38cf360cd842c8aa28ee53b0463f52": {
      "model_module": "jupyter-leaflet",
      "model_module_version": "^0.17.0",
      "model_name": "LeafletTileLayerModel",
      "state": {
       "_model_module_version": "^0.17.0",
       "_view_module_version": "^0.17.0",
       "attribution": "Justice Map",
       "max_zoom": 22,
       "name": "JusticeMap.white",
       "options": [
        "attribution",
        "bounds",
        "detect_retina",
        "max_native_zoom",
        "max_zoom",
        "min_native_zoom",
        "min_zoom",
        "no_wrap",
        "tile_size",
        "tms"
       ],
       "url": "https://www.justicemap.org/tile/county/white/{z}/{x}/{y}.png"
      }
     },
     "5d39dad300f6414abd13b97cea96f4a1": {
      "model_module": "jupyter-leaflet",
      "model_module_version": "^0.17.0",
      "model_name": "LeafletTileLayerModel",
      "state": {
       "_model_module_version": "^0.17.0",
       "_view_module_version": "^0.17.0",
       "attribution": "(C) OpenStreetMap contributors",
       "name": "OpenStreetMap.DE",
       "options": [
        "attribution",
        "bounds",
        "detect_retina",
        "max_native_zoom",
        "max_zoom",
        "min_native_zoom",
        "min_zoom",
        "no_wrap",
        "tile_size",
        "tms"
       ],
       "url": "https://a.tile.openstreetmap.de/{z}/{x}/{y}.png"
      }
     },
     "5fcf66c6da264be3aa819cee54675426": {
      "model_module": "@jupyter-widgets/base",
      "model_module_version": "1.2.0",
      "model_name": "LayoutModel",
      "state": {
       "height": "auto",
       "padding": "0px 0px 0px 4px",
       "width": "auto"
      }
     },
     "60113091cdee43c59cc437690e5a482a": {
      "model_module": "@jupyter-widgets/base",
      "model_module_version": "1.2.0",
      "model_name": "LayoutModel",
      "state": {}
     },
     "606a4c1b68bd4ffbbcc94e987d82a5b4": {
      "model_module": "@jupyter-widgets/controls",
      "model_module_version": "1.5.0",
      "model_name": "DescriptionStyleModel",
      "state": {
       "description_width": ""
      }
     },
     "60f583baf2f844e99ef4ac757b203da2": {
      "model_module": "@jupyter-widgets/controls",
      "model_module_version": "1.5.0",
      "model_name": "DescriptionStyleModel",
      "state": {
       "description_width": ""
      }
     },
     "610e92fe75ab43ad972af203c30eea66": {
      "model_module": "@jupyter-widgets/base",
      "model_module_version": "1.2.0",
      "model_name": "LayoutModel",
      "state": {
       "margin": "0px 5px 0px 5px"
      }
     },
     "61b15662283c428f99a82206325a1077": {
      "model_module": "jupyter-leaflet",
      "model_module_version": "^0.17.0",
      "model_name": "LeafletMapStyleModel",
      "state": {
       "_model_module_version": "^0.17.0",
       "cursor": "wait"
      }
     },
     "625ae65da96b4f15af188b35fdb90496": {
      "model_module": "jupyter-leaflet",
      "model_module_version": "^0.17.0",
      "model_name": "LeafletWMSLayerModel",
      "state": {
       "_model_module_version": "^0.17.0",
       "_view_module_version": "^0.17.0",
       "attribution": "MRLC",
       "crs": {
        "custom": false,
        "name": "EPSG3857"
       },
       "format": "image/png",
       "layers": "NLCD_2011_Land_Cover_L48",
       "name": "NLCD 2011 CONUS Land Cover",
       "options": [
        "attribution",
        "bounds",
        "detect_retina",
        "format",
        "layers",
        "max_native_zoom",
        "max_zoom",
        "min_native_zoom",
        "min_zoom",
        "no_wrap",
        "styles",
        "tile_size",
        "tms",
        "transparent",
        "uppercase"
       ],
       "transparent": true,
       "url": "https://www.mrlc.gov/geoserver/mrlc_display/NLCD_2011_Land_Cover_L48/wms?"
      }
     },
     "626d31dc9e33447db3ac02463bf8155f": {
      "model_module": "@jupyter-widgets/controls",
      "model_module_version": "1.5.0",
      "model_name": "DescriptionStyleModel",
      "state": {
       "description_width": ""
      }
     },
     "6450c871368b49a29baff2e5f9c4f9d8": {
      "model_module": "@jupyter-widgets/controls",
      "model_module_version": "1.5.0",
      "model_name": "HTMLModel",
      "state": {
       "layout": "IPY_MODEL_9fbcc0778733445faced8767571ed989",
       "style": "IPY_MODEL_269a868bd76140cb9a19996e8683fb71",
       "value": "<b>3. Run Model Button</b>         <br> - Make sure to click Select Images Button or Use Data Button.<br>             - The model will be applied to the selected folder and the model outputs will be generated within a subdirectory             called 'out'<br>      - <span style=\"background-color:yellow;color: black;\">WARNING :</span> You should not run multiple models on the same folder. Otherwise not all the model outputs      will be saved to the folder.<br>    "
      }
     },
     "64dda8a938e24e63b343c1e4e158d1a6": {
      "model_module": "jupyter-leaflet",
      "model_module_version": "^0.17.0",
      "model_name": "LeafletTileLayerModel",
      "state": {
       "_model_module_version": "^0.17.0",
       "_view_module_version": "^0.17.0",
       "attribution": "(C) OpenStreetMap France | (C) OpenStreetMap contributors",
       "max_zoom": 20,
       "name": "OpenStreetMap.France",
       "options": [
        "attribution",
        "bounds",
        "detect_retina",
        "max_native_zoom",
        "max_zoom",
        "min_native_zoom",
        "min_zoom",
        "no_wrap",
        "tile_size",
        "tms"
       ],
       "url": "https://a.tile.openstreetmap.fr/osmfr/{z}/{x}/{y}.png"
      }
     },
     "65ab68ff14f34159a48d7616b0cdd7a6": {
      "model_module": "@jupyter-widgets/base",
      "model_module_version": "1.2.0",
      "model_name": "LayoutModel",
      "state": {}
     },
     "65eff6b083e84bff918c162447a051c7": {
      "model_module": "@jupyter-widgets/controls",
      "model_module_version": "1.5.0",
      "model_name": "HBoxModel",
      "state": {
       "children": [
        "IPY_MODEL_68f72f964baa4d55b880a00fd9e9c71e",
        "IPY_MODEL_7f7c23225c27441da9f34ff06a0eb2bf"
       ],
       "layout": "IPY_MODEL_b6fc62a98e574a0e805d05dd83308b07"
      }
     },
     "661dae4d8c4a488f9bf3208ec8f80765": {
      "model_module": "@jupyter-widgets/base",
      "model_module_version": "1.2.0",
      "model_name": "LayoutModel",
      "state": {}
     },
     "66ec1e8d21a74561a6f923dd3cc0f0f7": {
      "model_module": "jupyter-leaflet",
      "model_module_version": "^0.17.0",
      "model_name": "LeafletTileLayerModel",
      "state": {
       "_model_module_version": "^0.17.0",
       "_view_module_version": "^0.17.0",
       "attribution": "(C) OpenStreetMap contributors (C) CARTO",
       "max_zoom": 20,
       "name": "CartoDB.PositronNoLabels",
       "options": [
        "attribution",
        "bounds",
        "detect_retina",
        "max_native_zoom",
        "max_zoom",
        "min_native_zoom",
        "min_zoom",
        "no_wrap",
        "tile_size",
        "tms"
       ],
       "url": "https://a.basemaps.cartocdn.com/light_nolabels/{z}/{x}/{y}.png"
      }
     },
     "674b5fb619d542c39647bda88b2a82a3": {
      "model_module": "jupyter-leaflet",
      "model_module_version": "^0.17.0",
      "model_name": "LeafletTileLayerModel",
      "state": {
       "_model_module_version": "^0.17.0",
       "_view_module_version": "^0.17.0",
       "attribution": "(C) Stadia Maps, (C) OpenMapTiles (C) OpenStreetMap contributors",
       "max_zoom": 20,
       "name": "Stadia.AlidadeSmooth",
       "options": [
        "attribution",
        "bounds",
        "detect_retina",
        "max_native_zoom",
        "max_zoom",
        "min_native_zoom",
        "min_zoom",
        "no_wrap",
        "tile_size",
        "tms"
       ],
       "url": "https://tiles.stadiamaps.com/tiles/alidade_smooth/{z}/{x}/{y}.png"
      }
     },
     "67ce5c13667e4ef984c7f18131f08a53": {
      "model_module": "jupyter-leaflet",
      "model_module_version": "^0.17.0",
      "model_name": "LeafletMapStyleModel",
      "state": {
       "_model_module_version": "^0.17.0"
      }
     },
     "68f72f964baa4d55b880a00fd9e9c71e": {
      "model_module": "@jupyter-widgets/controls",
      "model_module_version": "1.5.0",
      "model_name": "CheckboxModel",
      "state": {
       "description": "Use GPU?",
       "disabled": false,
       "indent": false,
       "layout": "IPY_MODEL_a573109baf9f48e7b13ecece9195cd22",
       "style": "IPY_MODEL_9f9b60b35da54f7ba573ffc7f67573a8",
       "value": false
      }
     },
     "693f744acf2e47039637d6fb82519476": {
      "model_module": "@jupyter-widgets/controls",
      "model_module_version": "1.5.0",
      "model_name": "DescriptionStyleModel",
      "state": {
       "description_width": ""
      }
     },
     "693fe6df36864f9eb6bc56170528fef0": {
      "model_module": "@jupyter-widgets/controls",
      "model_module_version": "1.5.0",
      "model_name": "HBoxModel",
      "state": {
       "children": [
        "IPY_MODEL_47153385a8b54260a5ed854c95f8d876",
        "IPY_MODEL_21939a789bd942c889e168b5eb38738e",
        "IPY_MODEL_7bb339ab63014b8287d1c9d964ef7d53"
       ],
       "layout": "IPY_MODEL_a5783d8c9ebc499f8f80558b1eb9f843"
      }
     },
     "69433808fe5d4a798ffea40c3157d736": {
      "model_module": "@jupyter-widgets/base",
      "model_module_version": "1.2.0",
      "model_name": "LayoutModel",
      "state": {}
     },
     "6a9b696b35b54a888acd34d3d6ad889a": {
      "model_module": "@jupyter-widgets/controls",
      "model_module_version": "1.5.0",
      "model_name": "HBoxModel",
      "state": {
       "children": [
        "IPY_MODEL_b3474d0e1d6443e5b46bedf149557441",
        "IPY_MODEL_f5f0b2500bf8418e99dcedc93996021c",
        "IPY_MODEL_35c67409105d405a8265098ef9264b73"
       ],
       "layout": "IPY_MODEL_e40090d5156a493781dfb40fd20868bc"
      }
     },
     "6a9d7fccaa0645788ad80772b68c9009": {
      "model_module": "jupyter-leaflet",
      "model_module_version": "^0.17.0",
      "model_name": "LeafletTileLayerModel",
      "state": {
       "_model_module_version": "^0.17.0",
       "_view_module_version": "^0.17.0",
       "attribution": "Google",
       "max_zoom": 22,
       "name": "Google Terrain",
       "options": [
        "attribution",
        "bounds",
        "detect_retina",
        "max_native_zoom",
        "max_zoom",
        "min_native_zoom",
        "min_zoom",
        "no_wrap",
        "tile_size",
        "tms"
       ],
       "url": "https://mt1.google.com/vt/lyrs=p&x={x}&y={y}&z={z}"
      }
     },
     "6adac1cb77ac490f87257448444379a2": {
      "model_module": "jupyter-leaflet",
      "model_module_version": "^0.17.0",
      "model_name": "LeafletTileLayerModel",
      "state": {
       "_model_module_version": "^0.17.0",
       "_view_module_version": "^0.17.0",
       "attribution": "Imagery provided by services from the Global Imagery Browse Services (GIBS), operated by the NASA/GSFC/Earth Science Data and Information System (ESDIS) with funding provided by NASA/HQ.",
       "max_zoom": 9,
       "name": "NASAGIBS.ViirsTrueColorCR",
       "options": [
        "attribution",
        "bounds",
        "detect_retina",
        "max_native_zoom",
        "max_zoom",
        "min_native_zoom",
        "min_zoom",
        "no_wrap",
        "tile_size",
        "tms"
       ],
       "url": "https://gibs.earthdata.nasa.gov/wmts/epsg3857/best/VIIRS_SNPP_CorrectedReflectance_TrueColor/default//GoogleMapsCompatible_Level9/{z}/{y}/{x}.jpg"
      }
     },
     "6af535946e6341fdbb92c00b6914fce5": {
      "model_module": "@jupyter-widgets/base",
      "model_module_version": "1.2.0",
      "model_name": "LayoutModel",
      "state": {}
     },
     "6b7f188e23aa4d1c85077e72533f445a": {
      "model_module": "@jupyter-widgets/controls",
      "model_module_version": "1.5.0",
      "model_name": "AccordionModel",
      "state": {
       "_titles": {
        "0": "Shoreline Data"
       },
       "children": [
        "IPY_MODEL_0461b50085fe4c7f8bff0852a8e11096"
       ],
       "layout": "IPY_MODEL_a2113685f89144e1b77ecaf325c0942a"
      }
     },
     "6c0d2185b5cd468d82dde7b31e0ba136": {
      "model_module": "@jupyter-widgets/controls",
      "model_module_version": "1.5.0",
      "model_name": "HTMLModel",
      "state": {
       "layout": "IPY_MODEL_610e92fe75ab43ad972af203c30eea66",
       "style": "IPY_MODEL_626d31dc9e33447db3ac02463bf8155f",
       "value": "<h2><b>Load ROIs/BBox</b></h2>         You can upload ROIs or Bbox geojson file.            <li> Load BBox: Load bounding box from geojson file (ex. 'bbox.geojson')</li>           <li> Load ROIs: Load ROIs from geojson file (ex. 'rois.geojson')</li>            "
      }
     },
     "6d05cc3572aa428bb08dee1352fedd52": {
      "model_module": "jupyter-leaflet",
      "model_module_version": "^0.17.0",
      "model_name": "LeafletTileLayerModel",
      "state": {
       "_model_module_version": "^0.17.0",
       "_view_module_version": "^0.17.0",
       "attribution": "Imagery provided by services from the Global Imagery Browse Services (GIBS), operated by the NASA/GSFC/Earth Science Data and Information System (ESDIS) with funding provided by NASA/HQ.",
       "max_zoom": 9,
       "name": "NASAGIBS.ModisAquaTrueColorCR",
       "options": [
        "attribution",
        "bounds",
        "detect_retina",
        "max_native_zoom",
        "max_zoom",
        "min_native_zoom",
        "min_zoom",
        "no_wrap",
        "tile_size",
        "tms"
       ],
       "url": "https://gibs.earthdata.nasa.gov/wmts/epsg3857/best/MODIS_Aqua_CorrectedReflectance_TrueColor/default//GoogleMapsCompatible_Level9/{z}/{y}/{x}.jpg"
      }
     },
     "6d443dcc3c444ff0a5726a799b680ed0": {
      "model_module": "@jupyter-widgets/controls",
      "model_module_version": "1.5.0",
      "model_name": "ToggleButtonModel",
      "state": {
       "icon": "wrench",
       "layout": "IPY_MODEL_a030dc35d29e47a2923be2ebc4ddda45",
       "style": "IPY_MODEL_3c8f69be25044b3095ec4d786c690047",
       "tooltip": "Toolbar"
      }
     },
     "6d63ffdda3ec4c9aa44b02d4f11f6cd3": {
      "model_module": "@jupyter-widgets/controls",
      "model_module_version": "1.5.0",
      "model_name": "DescriptionStyleModel",
      "state": {
       "description_width": ""
      }
     },
     "6d872411f4e0410e800754d049d71ba6": {
      "model_module": "@jupyter-widgets/controls",
      "model_module_version": "1.5.0",
      "model_name": "DescriptionStyleModel",
      "state": {
       "description_width": ""
      }
     },
     "6e3e9f2fa9dc4d4686e2eeec2c7763ee": {
      "model_module": "@jupyter-widgets/base",
      "model_module_version": "1.2.0",
      "model_name": "LayoutModel",
      "state": {}
     },
     "6f324c8a05fa4e899a178e7598d0bcdd": {
      "model_module": "@jupyter-widgets/controls",
      "model_module_version": "1.5.0",
      "model_name": "ButtonStyleModel",
      "state": {
       "button_color": "#69add1"
      }
     },
     "6f713d91a0fc4965b09b58d902d7340d": {
      "model_module": "@jupyter-widgets/controls",
      "model_module_version": "1.5.0",
      "model_name": "ButtonStyleModel",
      "state": {
       "button_color": "#50bf8f"
      }
     },
     "6fc166d2a1f44783a7548cd54f7308a7": {
      "model_module": "jupyter-leaflet",
      "model_module_version": "^0.17.0",
      "model_name": "LeafletWMSLayerModel",
      "state": {
       "_model_module_version": "^0.17.0",
       "_view_module_version": "^0.17.0",
       "attribution": "USGS",
       "crs": {
        "custom": false,
        "name": "EPSG3857"
       },
       "format": "image/png",
       "layers": "33DEPElevation:Hillshade Elevation Tinted",
       "name": "USGS 3DEP Elevation",
       "options": [
        "attribution",
        "bounds",
        "detect_retina",
        "format",
        "layers",
        "max_native_zoom",
        "max_zoom",
        "min_native_zoom",
        "min_zoom",
        "no_wrap",
        "styles",
        "tile_size",
        "tms",
        "transparent",
        "uppercase"
       ],
       "transparent": true,
       "url": "https://elevation.nationalmap.gov/arcgis/services/3DEPElevation/ImageServer/WMSServer?"
      }
     },
     "708c9388f12d4d52b745d539572975b2": {
      "model_module": "@jupyter-widgets/controls",
      "model_module_version": "1.5.0",
      "model_name": "ButtonModel",
      "state": {
       "description": "Remove coastline",
       "layout": "IPY_MODEL_e857a2f42bc3421d9d135f6b0fff9c9e",
       "style": "IPY_MODEL_56a88a6ffa0a4f3695874e247a19f0ba"
      }
     },
     "7118482ce80c43a89c5e1328dbf0f5cc": {
      "model_module": "@jupyter-widgets/base",
      "model_module_version": "1.2.0",
      "model_name": "LayoutModel",
      "state": {}
     },
     "72aa2f9fb839403c8d41c08aa93d416b": {
      "model_module": "@jupyter-widgets/base",
      "model_module_version": "1.2.0",
      "model_name": "LayoutModel",
      "state": {
       "margin": "0px 20px 20px 20px"
      }
     },
     "7323e3945b4b4de680cc407fc8e70bb5": {
      "model_module": "@jupyter-widgets/controls",
      "model_module_version": "1.5.0",
      "model_name": "DescriptionStyleModel",
      "state": {
       "description_width": ""
      }
     },
     "737c61926708435c96b59d386ac2beb5": {
      "model_module": "@jupyter-widgets/base",
      "model_module_version": "1.2.0",
      "model_name": "LayoutModel",
      "state": {}
     },
     "7447cae2ac9e4d6783b0ef2324893ce2": {
      "model_module": "@jupyter-widgets/controls",
      "model_module_version": "1.5.0",
      "model_name": "HTMLModel",
      "state": {
       "layout": "IPY_MODEL_828fa229cdee433f9b29764e1e21bdf1",
       "style": "IPY_MODEL_8601f14ad0764ea79494b070aea68592",
       "value": "____________________________________________________"
      }
     },
     "7543abbd337c473b937d850a2070faed": {
      "model_module": "jupyter-leaflet",
      "model_module_version": "^0.17.0",
      "model_name": "LeafletTileLayerModel",
      "state": {
       "_model_module_version": "^0.17.0",
       "_view_module_version": "^0.17.0",
       "attribution": "© swisstopo",
       "name": "SwissFederalGeoportal.JourneyThroughTime",
       "options": [
        "attribution",
        "bounds",
        "detect_retina",
        "max_native_zoom",
        "max_zoom",
        "min_native_zoom",
        "min_zoom",
        "no_wrap",
        "tile_size",
        "tms"
       ],
       "url": "https://wmts.geo.admin.ch/1.0.0/ch.swisstopo.zeitreihen/default/18641231/3857/{z}/{x}/{y}.png"
      }
     },
     "756be98847e7451ba1790a08b4f9127f": {
      "model_module": "@jupyter-widgets/base",
      "model_module_version": "1.2.0",
      "model_name": "LayoutModel",
      "state": {}
     },
     "758f313afcdf4e0e98ed61f0f85266ac": {
      "model_module": "jupyter-leaflet",
      "model_module_version": "^0.17.0",
      "model_name": "LeafletTileLayerModel",
      "state": {
       "_model_module_version": "^0.17.0",
       "_view_module_version": "^0.17.0",
       "attribution": "Kaartgegevens (C) Kadaster",
       "max_zoom": 19,
       "name": "nlmaps.water",
       "options": [
        "attribution",
        "bounds",
        "detect_retina",
        "max_native_zoom",
        "max_zoom",
        "min_native_zoom",
        "min_zoom",
        "no_wrap",
        "tile_size",
        "tms"
       ],
       "url": "https://service.pdok.nl/brt/achtergrondkaart/wmts/v2_0/water/EPSG:3857/{z}/{x}/{y}.png"
      }
     },
     "759a27ff17824ea2b20f1b24ec4785b8": {
      "model_module": "@jupyter-widgets/base",
      "model_module_version": "1.2.0",
      "model_name": "LayoutModel",
      "state": {}
     },
     "75a9d1053c554f098455e2080b4b244b": {
      "model_module": "@jupyter-widgets/controls",
      "model_module_version": "1.5.0",
      "model_name": "ButtonModel",
      "state": {
       "description": "Clear TextBox",
       "layout": "IPY_MODEL_69433808fe5d4a798ffea40c3157d736",
       "style": "IPY_MODEL_3da4362e178a4fe3aae02c143e22d184"
      }
     },
     "771a0be5f533423c9bc80d6e305b62ff": {
      "model_module": "@jupyter-widgets/base",
      "model_module_version": "1.2.0",
      "model_name": "LayoutModel",
      "state": {
       "border": "1px solid black"
      }
     },
     "7759bf9faa0c43199a837f2edf037116": {
      "model_module": "@jupyter-widgets/base",
      "model_module_version": "1.2.0",
      "model_name": "LayoutModel",
      "state": {
       "height": "auto",
       "padding": "0px 0px 0px 4px",
       "width": "auto"
      }
     },
     "77f29f7b7b4149ef8353ec67451f20c5": {
      "model_module": "jupyter-leaflet",
      "model_module_version": "^0.17.0",
      "model_name": "LeafletTileLayerModel",
      "state": {
       "_model_module_version": "^0.17.0",
       "_view_module_version": "^0.17.0",
       "attribution": "Map data: (C) OpenStreetMap contributors | Map style: (C) waymarkedtrails.org (CC-BY-SA)",
       "name": "WaymarkedTrails.riding",
       "options": [
        "attribution",
        "bounds",
        "detect_retina",
        "max_native_zoom",
        "max_zoom",
        "min_native_zoom",
        "min_zoom",
        "no_wrap",
        "tile_size",
        "tms"
       ],
       "url": "https://tile.waymarkedtrails.org/riding/{z}/{x}/{y}.png"
      }
     },
     "7801e7fee54e4649869d9f15f9e56d80": {
      "model_module": "jupyter-leaflet",
      "model_module_version": "^0.17.0",
      "model_name": "LeafletTileLayerModel",
      "state": {
       "_model_module_version": "^0.17.0",
       "_view_module_version": "^0.17.0",
       "attribution": "Justice Map",
       "max_zoom": 22,
       "name": "JusticeMap.income",
       "options": [
        "attribution",
        "bounds",
        "detect_retina",
        "max_native_zoom",
        "max_zoom",
        "min_native_zoom",
        "min_zoom",
        "no_wrap",
        "tile_size",
        "tms"
       ],
       "url": "https://www.justicemap.org/tile/county/income/{z}/{x}/{y}.png"
      }
     },
     "7842bcaacb90468381c37b67ead2c000": {
      "model_module": "@jupyter-widgets/base",
      "model_module_version": "1.2.0",
      "model_name": "LayoutModel",
      "state": {}
     },
     "787bc41ee5dd40849c483124b64cb8ff": {
      "model_module": "@jupyter-widgets/controls",
      "model_module_version": "1.5.0",
      "model_name": "HBoxModel",
      "state": {
       "children": [
        "IPY_MODEL_02e60d41590040eca4094a99c7d03f68"
       ],
       "layout": "IPY_MODEL_f51e9f1f7e384d93a5522c3815d59236"
      }
     },
     "78b06685727344c2848f8cc6262fb1c5": {
      "model_module": "@jupyter-widgets/controls",
      "model_module_version": "1.5.0",
      "model_name": "VBoxModel",
      "state": {
       "children": [
        "IPY_MODEL_dc3726a651bf498b8aa04783b1fc78fa",
        "IPY_MODEL_4d70651fd1804336aab0ce62217232e0"
       ],
       "layout": "IPY_MODEL_0c928c4a2cc14dd19c8be1aa14ddd274"
      }
     },
     "78e83a36eb83406780633c4bc262a8b3": {
      "model_module": "jupyter-leaflet",
      "model_module_version": "^0.17.0",
      "model_name": "LeafletTileLayerModel",
      "state": {
       "_model_module_version": "^0.17.0",
       "_view_module_version": "^0.17.0",
       "attribution": "(C) OpenStreetMap contributors & USGS",
       "max_zoom": 22,
       "name": "MtbMap",
       "options": [
        "attribution",
        "bounds",
        "detect_retina",
        "max_native_zoom",
        "max_zoom",
        "min_native_zoom",
        "min_zoom",
        "no_wrap",
        "tile_size",
        "tms"
       ],
       "url": "http://tile.mtbmap.cz/mtbmap_tiles/{z}/{x}/{y}.png"
      }
     },
     "79b3b6cb362e4746a3a2c6b433533cd3": {
      "model_module": "@jupyter-widgets/controls",
      "model_module_version": "1.5.0",
      "model_name": "VBoxModel",
      "state": {
       "children": [
        "IPY_MODEL_38b2fe25d70e41ccb7ab8f0cc53bdd94",
        "IPY_MODEL_46f87671fa38499886cf5b32b3bc7bd1"
       ],
       "layout": "IPY_MODEL_dd0cc894c8ac4401a43d1a1ed2745fe9"
      }
     },
     "7a84d76e437f4afda95cfe1120c8162e": {
      "model_module": "jupyter-leaflet",
      "model_module_version": "^0.17.0",
      "model_name": "LeafletMapStyleModel",
      "state": {
       "_model_module_version": "^0.17.0"
      }
     },
     "7bb339ab63014b8287d1c9d964ef7d53": {
      "model_module": "@jupyter-widgets/controls",
      "model_module_version": "1.5.0",
      "model_name": "HTMLModel",
      "state": {
       "layout": "IPY_MODEL_bac18702aa6341748189b622977ffb21",
       "style": "IPY_MODEL_c286ff5657c74682942bc650f7d04e01",
       "value": " 12/12 [00:45&lt;00:00,  3.65s/it]"
      }
     },
     "7c011be565a942b2b4afdb35ccc40e53": {
      "model_module": "jupyter-leaflet",
      "model_module_version": "^0.17.0",
      "model_name": "LeafletTileLayerModel",
      "state": {
       "_model_module_version": "^0.17.0",
       "_view_module_version": "^0.17.0",
       "attribution": "Imagery provided by services from the Global Imagery Browse Services (GIBS), operated by the NASA/GSFC/Earth Science Data and Information System (ESDIS) with funding provided by NASA/HQ.",
       "max_zoom": 8,
       "name": "NASAGIBS.ViirsEarthAtNight2012",
       "options": [
        "attribution",
        "bounds",
        "detect_retina",
        "max_native_zoom",
        "max_zoom",
        "min_native_zoom",
        "min_zoom",
        "no_wrap",
        "tile_size",
        "tms"
       ],
       "url": "https://map1.vis.earthdata.nasa.gov/wmts-webmerc/VIIRS_CityLights_2012/default//GoogleMapsCompatible_Level8/{z}/{y}/{x}.jpg"
      }
     },
     "7c4115a7b78540289029648da4ecef79": {
      "model_module": "@jupyter-widgets/base",
      "model_module_version": "1.2.0",
      "model_name": "LayoutModel",
      "state": {}
     },
     "7c800c4bbb5449c6a07a8aa17fb0348a": {
      "model_module": "@jupyter-widgets/controls",
      "model_module_version": "1.5.0",
      "model_name": "HTMLModel",
      "state": {
       "layout": "IPY_MODEL_0d4cd99c27a64b27b0dd241f4b066c09",
       "style": "IPY_MODEL_fb1642f70e944d4baee79d88aefd75e8",
       "value": " 0/7 [00:05&lt;?, ?it/s]"
      }
     },
     "7c9c25300b1440f4b7ebcbc501cba7bd": {
      "model_module": "jupyter-leaflet",
      "model_module_version": "^0.17.0",
      "model_name": "LeafletTileLayerModel",
      "state": {
       "_model_module_version": "^0.17.0",
       "_view_module_version": "^0.17.0",
       "attribution": "Map data: (C) OpenStreetMap contributors | Map style: (C) waymarkedtrails.org (CC-BY-SA)",
       "name": "WaymarkedTrails.cycling",
       "options": [
        "attribution",
        "bounds",
        "detect_retina",
        "max_native_zoom",
        "max_zoom",
        "min_native_zoom",
        "min_zoom",
        "no_wrap",
        "tile_size",
        "tms"
       ],
       "url": "https://tile.waymarkedtrails.org/cycling/{z}/{x}/{y}.png"
      }
     },
     "7d1bdea8e5d2472187a5d858770605fc": {
      "model_module": "jupyter-leaflet",
      "model_module_version": "^0.17.0",
      "model_name": "LeafletTileLayerModel",
      "state": {
       "_model_module_version": "^0.17.0",
       "_view_module_version": "^0.17.0",
       "attribution": "Map data: (C) OpenStreetMap contributors | Map style: (C) waymarkedtrails.org (CC-BY-SA)",
       "name": "WaymarkedTrails.hiking",
       "options": [
        "attribution",
        "bounds",
        "detect_retina",
        "max_native_zoom",
        "max_zoom",
        "min_native_zoom",
        "min_zoom",
        "no_wrap",
        "tile_size",
        "tms"
       ],
       "url": "https://tile.waymarkedtrails.org/hiking/{z}/{x}/{y}.png"
      }
     },
     "7d9b8fbdec1341d288dbbcd47766813e": {
      "model_module": "@jupyter-widgets/controls",
      "model_module_version": "1.5.0",
      "model_name": "ButtonStyleModel",
      "state": {
       "button_color": "red"
      }
     },
     "7dc2af9344dd440f8416557434038752": {
      "model_module": "@jupyter-widgets/output",
      "model_module_version": "1.0.0",
      "model_name": "OutputModel",
      "state": {
       "layout": "IPY_MODEL_f63f42e7052d4fa9ab80d3d76efc3907",
       "outputs": [
        {
         "name": "stdout",
         "output_type": "stream",
         "text": "Called Run Model\nNot using the GPU\n\n outfile: C:\\1_USGS\\CoastSeg\\repos\\2_CoastSeg\\CoastSeg_fork\\Seg2Map\\CoastSeg\\downloaded_models\\landsat_6229071\\rgb\n"
        },
        {
         "data": {
          "application/vnd.jupyter.widget-view+json": {
           "model_id": "",
           "version_major": 2,
           "version_minor": 0
          },
          "text/plain": "  0%|          | 0/7 [00:00<?, ?it/s]"
         },
         "metadata": {},
         "output_type": "display_data"
        },
        {
         "name": "stdout",
         "output_type": "stream",
         "text": "1/1 [==============================] - 2s 2s/step\n1/1 [==============================] - 2s 2s/step\n1/1 [==============================] - 2s 2s/step\n"
        },
        {
         "ename": "IndexError",
         "evalue": "boolean index did not match indexed array along dimension 2; dimension is 3 but corresponding boolean dimension is 5",
         "output_type": "error",
         "traceback": [
          "\u001b[1;31m---------------------------------------------------------------------------\u001b[0m",
          "\u001b[1;31mAttributeError\u001b[0m                            Traceback (most recent call last)",
          "\u001b[1;32m~\\anaconda3\\envs\\coastseg\\lib\\site-packages\\doodleverse_utils\\prediction_imports.py\u001b[0m in \u001b[0;36mdo_seg\u001b[1;34m(f, M, metadatadict, sample_direc, NCLASSES, N_DATA_BANDS, TARGET_SIZE, TESTTIMEAUG, WRITE_MODELMETADATA, do_crf)\u001b[0m\n\u001b[0;32m    449\u001b[0m             \u001b[0mest_label\u001b[0m\u001b[1;33m,\u001b[0m\u001b[1;33m\u001b[0m\u001b[1;33m\u001b[0m\u001b[0m\n\u001b[1;32m--> 450\u001b[1;33m             \u001b[0mbigimage\u001b[0m\u001b[1;33m.\u001b[0m\u001b[0mnumpy\u001b[0m\u001b[1;33m(\u001b[0m\u001b[1;33m)\u001b[0m\u001b[1;33m[\u001b[0m\u001b[1;33m:\u001b[0m\u001b[1;33m,\u001b[0m \u001b[1;33m:\u001b[0m\u001b[1;33m,\u001b[0m \u001b[1;36m0\u001b[0m\u001b[1;33m]\u001b[0m \u001b[1;33m==\u001b[0m \u001b[1;36m0\u001b[0m\u001b[1;33m,\u001b[0m\u001b[1;33m\u001b[0m\u001b[1;33m\u001b[0m\u001b[0m\n\u001b[0m\u001b[0;32m    451\u001b[0m             \u001b[0malpha\u001b[0m\u001b[1;33m=\u001b[0m\u001b[1;36m128\u001b[0m\u001b[1;33m,\u001b[0m\u001b[1;33m\u001b[0m\u001b[1;33m\u001b[0m\u001b[0m\n",
          "\u001b[1;31mAttributeError\u001b[0m: 'numpy.ndarray' object has no attribute 'numpy'",
          "\nDuring handling of the above exception, another exception occurred:\n",
          "\u001b[1;31mIndexError\u001b[0m                                Traceback (most recent call last)",
          "\u001b[1;32m~\\anaconda3\\envs\\coastseg\\lib\\site-packages\\doodleverse_utils\\prediction_imports.py\u001b[0m in \u001b[0;36mdo_seg\u001b[1;34m(f, M, metadatadict, sample_direc, NCLASSES, N_DATA_BANDS, TARGET_SIZE, TESTTIMEAUG, WRITE_MODELMETADATA, do_crf)\u001b[0m\n\u001b[0;32m    457\u001b[0m         \u001b[1;32mtry\u001b[0m\u001b[1;33m:\u001b[0m\u001b[1;33m\u001b[0m\u001b[1;33m\u001b[0m\u001b[0m\n\u001b[1;32m--> 458\u001b[1;33m             color_label = label_to_colors(\n\u001b[0m\u001b[0;32m    459\u001b[0m                 \u001b[0mest_label\u001b[0m\u001b[1;33m,\u001b[0m\u001b[1;33m\u001b[0m\u001b[1;33m\u001b[0m\u001b[0m\n",
          "\u001b[1;32m~\\anaconda3\\envs\\coastseg\\lib\\site-packages\\doodleverse_utils\\imports.py\u001b[0m in \u001b[0;36mlabel_to_colors\u001b[1;34m(img, mask, alpha, colormap, color_class_offset, do_alpha)\u001b[0m\n\u001b[0;32m    125\u001b[0m     \u001b[1;32mfor\u001b[0m \u001b[0mc\u001b[0m \u001b[1;32min\u001b[0m \u001b[0mrange\u001b[0m\u001b[1;33m(\u001b[0m\u001b[0mminc\u001b[0m\u001b[1;33m,\u001b[0m \u001b[0mmaxc\u001b[0m \u001b[1;33m+\u001b[0m \u001b[1;36m1\u001b[0m\u001b[1;33m)\u001b[0m\u001b[1;33m:\u001b[0m\u001b[1;33m\u001b[0m\u001b[1;33m\u001b[0m\u001b[0m\n\u001b[1;32m--> 126\u001b[1;33m         \u001b[0mcimg\u001b[0m\u001b[1;33m[\u001b[0m\u001b[0mimg\u001b[0m \u001b[1;33m==\u001b[0m \u001b[0mc\u001b[0m\u001b[1;33m]\u001b[0m \u001b[1;33m=\u001b[0m \u001b[0mcolormap\u001b[0m\u001b[1;33m[\u001b[0m\u001b[1;33m(\u001b[0m\u001b[0mc\u001b[0m \u001b[1;33m+\u001b[0m \u001b[0mcolor_class_offset\u001b[0m\u001b[1;33m)\u001b[0m \u001b[1;33m%\u001b[0m \u001b[0mlen\u001b[0m\u001b[1;33m(\u001b[0m\u001b[0mcolormap\u001b[0m\u001b[1;33m)\u001b[0m\u001b[1;33m]\u001b[0m\u001b[1;33m\u001b[0m\u001b[1;33m\u001b[0m\u001b[0m\n\u001b[0m\u001b[0;32m    127\u001b[0m \u001b[1;33m\u001b[0m\u001b[0m\n",
          "\u001b[1;31mIndexError\u001b[0m: boolean index did not match indexed array along dimension 2; dimension is 3 but corresponding boolean dimension is 5",
          "\nDuring handling of the above exception, another exception occurred:\n",
          "\u001b[1;31mIndexError\u001b[0m                                Traceback (most recent call last)",
          "\u001b[1;32m~\\anaconda3\\envs\\coastseg\\lib\\site-packages\\ipywidgets\\widgets\\widget_output.py\u001b[0m in \u001b[0;36minner\u001b[1;34m(*args, **kwargs)\u001b[0m\n\u001b[0;32m    101\u001b[0m                     \u001b[0mself\u001b[0m\u001b[1;33m.\u001b[0m\u001b[0mclear_output\u001b[0m\u001b[1;33m(\u001b[0m\u001b[1;33m*\u001b[0m\u001b[0mclear_args\u001b[0m\u001b[1;33m,\u001b[0m \u001b[1;33m**\u001b[0m\u001b[0mclear_kwargs\u001b[0m\u001b[1;33m)\u001b[0m\u001b[1;33m\u001b[0m\u001b[1;33m\u001b[0m\u001b[0m\n\u001b[0;32m    102\u001b[0m                 \u001b[1;32mwith\u001b[0m \u001b[0mself\u001b[0m\u001b[1;33m:\u001b[0m\u001b[1;33m\u001b[0m\u001b[1;33m\u001b[0m\u001b[0m\n\u001b[1;32m--> 103\u001b[1;33m                     \u001b[1;32mreturn\u001b[0m \u001b[0mfunc\u001b[0m\u001b[1;33m(\u001b[0m\u001b[1;33m*\u001b[0m\u001b[0margs\u001b[0m\u001b[1;33m,\u001b[0m \u001b[1;33m**\u001b[0m\u001b[0mkwargs\u001b[0m\u001b[1;33m)\u001b[0m\u001b[1;33m\u001b[0m\u001b[1;33m\u001b[0m\u001b[0m\n\u001b[0m\u001b[0;32m    104\u001b[0m             \u001b[1;32mreturn\u001b[0m \u001b[0minner\u001b[0m\u001b[1;33m\u001b[0m\u001b[1;33m\u001b[0m\u001b[0m\n\u001b[0;32m    105\u001b[0m         \u001b[1;32mreturn\u001b[0m \u001b[0mcapture_decorator\u001b[0m\u001b[1;33m\u001b[0m\u001b[1;33m\u001b[0m\u001b[0m\n",
          "\u001b[1;32m~\\AppData\\Local\\Temp/ipykernel_12572/952199450.py\u001b[0m in \u001b[0;36mrun_model_button_clicked\u001b[1;34m(button)\u001b[0m\n\u001b[0;32m    151\u001b[0m         \u001b[0mmetadatadict\u001b[0m\u001b[1;33m=\u001b[0m\u001b[0mzoo_model\u001b[0m\u001b[1;33m.\u001b[0m\u001b[0mget_metadatadict\u001b[0m\u001b[1;33m(\u001b[0m\u001b[0mWw\u001b[0m\u001b[1;33m,\u001b[0m\u001b[0mconfig_files\u001b[0m\u001b[1;33m,\u001b[0m \u001b[0mmodel_types\u001b[0m\u001b[1;33m)\u001b[0m\u001b[1;33m\u001b[0m\u001b[1;33m\u001b[0m\u001b[0m\n\u001b[0;32m    152\u001b[0m         \u001b[1;31m# # Compute the segmentation\u001b[0m\u001b[1;33m\u001b[0m\u001b[1;33m\u001b[0m\u001b[0m\n\u001b[1;32m--> 153\u001b[1;33m         \u001b[0mzoo_model\u001b[0m\u001b[1;33m.\u001b[0m\u001b[0mcompute_segmentation\u001b[0m\u001b[1;33m(\u001b[0m\u001b[0mmodel_dict\u001b[0m\u001b[1;33m[\u001b[0m\u001b[1;34m\"sample_direc\"\u001b[0m\u001b[1;33m]\u001b[0m\u001b[1;33m,\u001b[0m \u001b[0mmodel_list\u001b[0m\u001b[1;33m,\u001b[0m \u001b[0mmetadatadict\u001b[0m\u001b[1;33m,\u001b[0m\u001b[0mmodel_dict\u001b[0m\u001b[1;33m[\u001b[0m\u001b[1;34m'use_CRF'\u001b[0m\u001b[1;33m]\u001b[0m\u001b[1;33m)\u001b[0m\u001b[1;33m\u001b[0m\u001b[1;33m\u001b[0m\u001b[0m\n\u001b[0m\u001b[0;32m    154\u001b[0m         \u001b[1;31m# Enable  run and open results buttons when model has exexcuted\u001b[0m\u001b[1;33m\u001b[0m\u001b[1;33m\u001b[0m\u001b[0m\n\u001b[0;32m    155\u001b[0m         \u001b[0mrun_model_button\u001b[0m\u001b[1;33m.\u001b[0m\u001b[0mdisabled\u001b[0m \u001b[1;33m=\u001b[0m \u001b[1;32mFalse\u001b[0m\u001b[1;33m\u001b[0m\u001b[1;33m\u001b[0m\u001b[0m\n",
          "\u001b[1;32mC:\\1_USGS\\CoastSeg\\repos\\2_CoastSeg\\CoastSeg_fork\\Seg2Map\\CoastSeg\\zoo_model_module.py\u001b[0m in \u001b[0;36mcompute_segmentation\u001b[1;34m(self, sample_direc, model_list, metadatadict, do_crf)\u001b[0m\n\u001b[0;32m     41\u001b[0m         \u001b[1;31m# Compute the segmentation for each of the files\u001b[0m\u001b[1;33m\u001b[0m\u001b[1;33m\u001b[0m\u001b[0m\n\u001b[0;32m     42\u001b[0m         \u001b[1;32mfor\u001b[0m \u001b[0mf\u001b[0m \u001b[1;32min\u001b[0m \u001b[0mtqdm\u001b[0m\u001b[1;33m(\u001b[0m\u001b[0msample_filenames\u001b[0m\u001b[1;33m)\u001b[0m\u001b[1;33m:\u001b[0m\u001b[1;33m\u001b[0m\u001b[1;33m\u001b[0m\u001b[0m\n\u001b[1;32m---> 43\u001b[1;33m             do_seg(\n\u001b[0m\u001b[0;32m     44\u001b[0m                 \u001b[0mf\u001b[0m\u001b[1;33m,\u001b[0m\u001b[1;33m\u001b[0m\u001b[1;33m\u001b[0m\u001b[0m\n\u001b[0;32m     45\u001b[0m                 \u001b[0mmodel_list\u001b[0m\u001b[1;33m,\u001b[0m\u001b[1;33m\u001b[0m\u001b[1;33m\u001b[0m\u001b[0m\n",
          "\u001b[1;32m~\\anaconda3\\envs\\coastseg\\lib\\site-packages\\doodleverse_utils\\prediction_imports.py\u001b[0m in \u001b[0;36mdo_seg\u001b[1;34m(f, M, metadatadict, sample_direc, NCLASSES, N_DATA_BANDS, TARGET_SIZE, TESTTIMEAUG, WRITE_MODELMETADATA, do_crf)\u001b[0m\n\u001b[0;32m    465\u001b[0m             )\n\u001b[0;32m    466\u001b[0m         \u001b[1;32mexcept\u001b[0m\u001b[1;33m:\u001b[0m\u001b[1;33m\u001b[0m\u001b[1;33m\u001b[0m\u001b[0m\n\u001b[1;32m--> 467\u001b[1;33m             color_label = label_to_colors(\n\u001b[0m\u001b[0;32m    468\u001b[0m                 \u001b[0mest_label\u001b[0m\u001b[1;33m,\u001b[0m\u001b[1;33m\u001b[0m\u001b[1;33m\u001b[0m\u001b[0m\n\u001b[0;32m    469\u001b[0m                 \u001b[0mbigimage\u001b[0m \u001b[1;33m==\u001b[0m \u001b[1;36m0\u001b[0m\u001b[1;33m,\u001b[0m\u001b[1;33m\u001b[0m\u001b[1;33m\u001b[0m\u001b[0m\n",
          "\u001b[1;32m~\\anaconda3\\envs\\coastseg\\lib\\site-packages\\doodleverse_utils\\imports.py\u001b[0m in \u001b[0;36mlabel_to_colors\u001b[1;34m(img, mask, alpha, colormap, color_class_offset, do_alpha)\u001b[0m\n\u001b[0;32m    124\u001b[0m \u001b[1;33m\u001b[0m\u001b[0m\n\u001b[0;32m    125\u001b[0m     \u001b[1;32mfor\u001b[0m \u001b[0mc\u001b[0m \u001b[1;32min\u001b[0m \u001b[0mrange\u001b[0m\u001b[1;33m(\u001b[0m\u001b[0mminc\u001b[0m\u001b[1;33m,\u001b[0m \u001b[0mmaxc\u001b[0m \u001b[1;33m+\u001b[0m \u001b[1;36m1\u001b[0m\u001b[1;33m)\u001b[0m\u001b[1;33m:\u001b[0m\u001b[1;33m\u001b[0m\u001b[1;33m\u001b[0m\u001b[0m\n\u001b[1;32m--> 126\u001b[1;33m         \u001b[0mcimg\u001b[0m\u001b[1;33m[\u001b[0m\u001b[0mimg\u001b[0m \u001b[1;33m==\u001b[0m \u001b[0mc\u001b[0m\u001b[1;33m]\u001b[0m \u001b[1;33m=\u001b[0m \u001b[0mcolormap\u001b[0m\u001b[1;33m[\u001b[0m\u001b[1;33m(\u001b[0m\u001b[0mc\u001b[0m \u001b[1;33m+\u001b[0m \u001b[0mcolor_class_offset\u001b[0m\u001b[1;33m)\u001b[0m \u001b[1;33m%\u001b[0m \u001b[0mlen\u001b[0m\u001b[1;33m(\u001b[0m\u001b[0mcolormap\u001b[0m\u001b[1;33m)\u001b[0m\u001b[1;33m]\u001b[0m\u001b[1;33m\u001b[0m\u001b[1;33m\u001b[0m\u001b[0m\n\u001b[0m\u001b[0;32m    127\u001b[0m \u001b[1;33m\u001b[0m\u001b[0m\n\u001b[0;32m    128\u001b[0m     \u001b[0mcimg\u001b[0m\u001b[1;33m[\u001b[0m\u001b[0mmask\u001b[0m \u001b[1;33m==\u001b[0m \u001b[1;36m1\u001b[0m\u001b[1;33m]\u001b[0m \u001b[1;33m=\u001b[0m \u001b[1;33m(\u001b[0m\u001b[1;36m0\u001b[0m\u001b[1;33m,\u001b[0m \u001b[1;36m0\u001b[0m\u001b[1;33m,\u001b[0m \u001b[1;36m0\u001b[0m\u001b[1;33m)\u001b[0m\u001b[1;33m\u001b[0m\u001b[1;33m\u001b[0m\u001b[0m\n",
          "\u001b[1;31mIndexError\u001b[0m: boolean index did not match indexed array along dimension 2; dimension is 3 but corresponding boolean dimension is 5"
         ]
        }
       ]
      }
     },
     "7e2d88e921fe4ab090440402021efa79": {
      "model_module": "@jupyter-widgets/base",
      "model_module_version": "1.2.0",
      "model_name": "LayoutModel",
      "state": {}
     },
     "7f7c23225c27441da9f34ff06a0eb2bf": {
      "model_module": "@jupyter-widgets/controls",
      "model_module_version": "1.5.0",
      "model_name": "CheckboxModel",
      "state": {
       "description": "Use CRF post-processing",
       "disabled": false,
       "indent": false,
       "layout": "IPY_MODEL_47818cca82dd49d19d8055cf74bf1dda",
       "style": "IPY_MODEL_2b0c0509ab63447aacb7557019315706",
       "value": true
      }
     },
     "815a0bba90af4770a789430627b76669": {
      "model_module": "jupyter-leaflet",
      "model_module_version": "^0.17.0",
      "model_name": "LeafletTileLayerModel",
      "state": {
       "_model_module_version": "^0.17.0",
       "_view_module_version": "^0.17.0",
       "attribution": "Map tiles by <a href=\"https://labs.strava.com/heatmap\">Strava 2021</a>",
       "max_zoom": 15,
       "name": "Strava.Ride",
       "options": [
        "attribution",
        "bounds",
        "detect_retina",
        "max_native_zoom",
        "max_zoom",
        "min_native_zoom",
        "min_zoom",
        "no_wrap",
        "tile_size",
        "tms"
       ],
       "url": "https://heatmap-external-a.strava.com/tiles/ride/hot/{z}/{x}/{y}.png"
      }
     },
     "815a6d55add54351bf6a66692491097c": {
      "model_module": "jupyter-leaflet",
      "model_module_version": "^0.17.0",
      "model_name": "LeafletLayersControlModel",
      "state": {
       "_model_module_version": "^0.17.0",
       "_view_module_version": "^0.17.0",
       "options": [
        "position"
       ],
       "position": "topright"
      }
     },
     "818f6b4ce1eb425eae0955ee86e96ebb": {
      "model_module": "@jupyter-widgets/controls",
      "model_module_version": "1.5.0",
      "model_name": "DescriptionStyleModel",
      "state": {
       "description_width": ""
      }
     },
     "81fbc230154449ca9b587d191e4f317c": {
      "model_module": "@jupyter-widgets/controls",
      "model_module_version": "1.5.0",
      "model_name": "ToggleButtonModel",
      "state": {
       "button_style": "primary",
       "icon": "camera",
       "layout": "IPY_MODEL_4c6c84b145d844edb499201c618b619d",
       "style": "IPY_MODEL_319df9b855034701ba37661decaed5a9",
       "tooltip": "Save map as HTML or image"
      }
     },
     "828fa229cdee433f9b29764e1e21bdf1": {
      "model_module": "@jupyter-widgets/base",
      "model_module_version": "1.2.0",
      "model_name": "LayoutModel",
      "state": {}
     },
     "82de572fdf664db5ac9153b0308b515a": {
      "model_module": "@jupyter-widgets/controls",
      "model_module_version": "1.5.0",
      "model_name": "ButtonStyleModel",
      "state": {
       "button_color": "#69add1"
      }
     },
     "83a1c17e5e8b491c8de3cd8dd0c84697": {
      "model_module": "jupyter-leaflet",
      "model_module_version": "^0.17.0",
      "model_name": "LeafletTileLayerModel",
      "state": {
       "_model_module_version": "^0.17.0",
       "_view_module_version": "^0.17.0",
       "attribution": "Tiles (C) Esri -- Copyright: (C)2012 DeLorme",
       "max_zoom": 11,
       "name": "Esri.DeLorme",
       "options": [
        "attribution",
        "bounds",
        "detect_retina",
        "max_native_zoom",
        "max_zoom",
        "min_native_zoom",
        "min_zoom",
        "no_wrap",
        "tile_size",
        "tms"
       ],
       "url": "https://server.arcgisonline.com/ArcGIS/rest/services/Specialty/DeLorme_World_Base_Map/MapServer/tile/{z}/{y}/{x}"
      }
     },
     "845e489602724081a118f854aecf662c": {
      "model_module": "@jupyter-widgets/base",
      "model_module_version": "1.2.0",
      "model_name": "LayoutModel",
      "state": {
       "height": "auto",
       "padding": "0px 0px 0px 4px",
       "width": "auto"
      }
     },
     "85dda4f24c564f788695266bc4c8939a": {
      "model_module": "@jupyter-widgets/controls",
      "model_module_version": "1.5.0",
      "model_name": "ButtonModel",
      "state": {
       "description": "Generate ROI",
       "layout": "IPY_MODEL_b6bd6bcdf3bf44649b5eacc943d55d02",
       "style": "IPY_MODEL_b08f1c0772414cf98a9be3acbf651542"
      }
     },
     "8601f14ad0764ea79494b070aea68592": {
      "model_module": "@jupyter-widgets/controls",
      "model_module_version": "1.5.0",
      "model_name": "DescriptionStyleModel",
      "state": {
       "description_width": ""
      }
     },
     "86d7e08ebfec4c67b9c65e561e67b06d": {
      "model_module": "@jupyter-widgets/controls",
      "model_module_version": "1.5.0",
      "model_name": "ToggleButtonModel",
      "state": {
       "button_style": "primary",
       "icon": "gears",
       "layout": "IPY_MODEL_cd20c447b8ce45dab84ef6cb2136ae26",
       "style": "IPY_MODEL_31003836f8224b76ba2ea7f1b59b01dd",
       "tooltip": "WhiteboxTools for local geoprocessing"
      }
     },
     "87ab11bd258e4a198544bfcef1b28181": {
      "model_module": "@jupyter-widgets/base",
      "model_module_version": "1.2.0",
      "model_name": "LayoutModel",
      "state": {}
     },
     "87efe495c2fe439f923a086a125058d1": {
      "model_module": "jupyter-leaflet",
      "model_module_version": "^0.17.0",
      "model_name": "LeafletTileLayerModel",
      "state": {
       "_model_module_version": "^0.17.0",
       "_view_module_version": "^0.17.0",
       "attribution": "Tiles (C) Esri -- National Geographic, Esri, DeLorme, NAVTEQ, UNEP-WCMC, USGS, NASA, ESA, METI, NRCAN, GEBCO, NOAA, iPC",
       "max_zoom": 16,
       "name": "Esri.NatGeoWorldMap",
       "options": [
        "attribution",
        "bounds",
        "detect_retina",
        "max_native_zoom",
        "max_zoom",
        "min_native_zoom",
        "min_zoom",
        "no_wrap",
        "tile_size",
        "tms"
       ],
       "url": "https://server.arcgisonline.com/ArcGIS/rest/services/NatGeo_World_Map/MapServer/tile/{z}/{y}/{x}"
      }
     },
     "87f2eab6ac6f4cf1bb15a743f3b038ab": {
      "model_module": "@jupyter-widgets/controls",
      "model_module_version": "1.5.0",
      "model_name": "DescriptionStyleModel",
      "state": {
       "description_width": ""
      }
     },
     "88b4bec979e441048cad95441d275225": {
      "model_module": "jupyter-leaflet",
      "model_module_version": "^0.17.0",
      "model_name": "LeafletTileLayerModel",
      "state": {
       "_model_module_version": "^0.17.0",
       "_view_module_version": "^0.17.0",
       "attribution": "Map tiles by Stamen Design, CC BY 3.0 -- Map data (C) OpenStreetMap contributors",
       "max_zoom": 16,
       "name": "Stamen.Watercolor",
       "options": [
        "attribution",
        "bounds",
        "detect_retina",
        "max_native_zoom",
        "max_zoom",
        "min_native_zoom",
        "min_zoom",
        "no_wrap",
        "tile_size",
        "tms"
       ],
       "url": "https://stamen-tiles-a.a.ssl.fastly.net/watercolor/{z}/{x}/{y}.jpg"
      }
     },
     "88db73acefd64e21952f9cc51ef43c59": {
      "model_module": "jupyter-leaflet",
      "model_module_version": "^0.17.0",
      "model_name": "LeafletTileLayerModel",
      "state": {
       "_model_module_version": "^0.17.0",
       "_view_module_version": "^0.17.0",
       "attribution": "Datenquelle: basemap.at",
       "max_zoom": 19,
       "name": "BasemapAT.surface",
       "options": [
        "attribution",
        "bounds",
        "detect_retina",
        "max_native_zoom",
        "max_zoom",
        "min_native_zoom",
        "min_zoom",
        "no_wrap",
        "tile_size",
        "tms"
       ],
       "url": "https://maps.wien.gv.at/basemap/bmapoberflaeche/grau/google3857/{z}/{y}/{x}.jpeg"
      }
     },
     "8916c86d36144834bb94b0b610005548": {
      "model_module": "@jupyter-widgets/base",
      "model_module_version": "1.2.0",
      "model_name": "LayoutModel",
      "state": {
       "height": "auto",
       "padding": "0px 0px 0px 4px",
       "width": "auto"
      }
     },
     "899646f23ba2459095353aaf0455359a": {
      "model_module": "@jupyter-widgets/controls",
      "model_module_version": "1.5.0",
      "model_name": "GridBoxModel",
      "state": {
       "children": [
        "IPY_MODEL_538e6f7c83284ce892a0fb6d942b26cd",
        "IPY_MODEL_d3d7317e08e14d12aec52f9c2b367042",
        "IPY_MODEL_17a19e3eed5d4a34806d8f7b86b56c4c",
        "IPY_MODEL_08d307e17c7b41ecb6c742e3b2826124",
        "IPY_MODEL_86d7e08ebfec4c67b9c65e561e67b06d",
        "IPY_MODEL_58ad18047f344bcf9107a89caa45c843",
        "IPY_MODEL_cc11901b99a840de999a62a7970f5dc7",
        "IPY_MODEL_81fbc230154449ca9b587d191e4f317c",
        "IPY_MODEL_2741e11c9d914e27b211e8b311923b23",
        "IPY_MODEL_2ea8e106f4ff4feba81c48f19ad9c8d8",
        "IPY_MODEL_8e8c3278b50b4dac9c0cf28220b3180a",
        "IPY_MODEL_1d1a679f4d8a461ab687946f8e09d0f2",
        "IPY_MODEL_f741b2f4de9642b6a2748e0473aa8ec3",
        "IPY_MODEL_ec7615d483dd46c3a6b360fb06a9ba24",
        "IPY_MODEL_d138e7a6f8424304ac5730ff0f3c6c34",
        "IPY_MODEL_16d2bbd91e694564922b398cadb8fb6c",
        "IPY_MODEL_bd3616b8a3964d04b2de38ae6352b9b1",
        "IPY_MODEL_fede66f3a3c5489c883274db3fcd6ac5"
       ],
       "layout": "IPY_MODEL_91c7721617b74d1e99e30a68e2fc2b5b"
      }
     },
     "89acbd68be3543f49e71c41b33a9bcd6": {
      "model_module": "@jupyter-widgets/base",
      "model_module_version": "1.2.0",
      "model_name": "LayoutModel",
      "state": {}
     },
     "89bef142df8e45fe84b5aeb44419e056": {
      "model_module": "jupyter-leaflet",
      "model_module_version": "^0.17.0",
      "model_name": "LeafletWMSLayerModel",
      "state": {
       "_model_module_version": "^0.17.0",
       "_view_module_version": "^0.17.0",
       "attribution": "ESA",
       "crs": {
        "custom": false,
        "name": "EPSG3857"
       },
       "format": "image/png",
       "layers": "WORLDCOVER_2020_S2_FCC",
       "name": "ESA Worldcover 2020 S2 FCC",
       "options": [
        "attribution",
        "bounds",
        "detect_retina",
        "format",
        "layers",
        "max_native_zoom",
        "max_zoom",
        "min_native_zoom",
        "min_zoom",
        "no_wrap",
        "styles",
        "tile_size",
        "tms",
        "transparent",
        "uppercase"
       ],
       "transparent": true,
       "url": "https://services.terrascope.be/wms/v2"
      }
     },
     "89e6a7e286bb4218ac0e557b8b15a680": {
      "model_module": "@jupyter-widgets/base",
      "model_module_version": "1.2.0",
      "model_name": "LayoutModel",
      "state": {}
     },
     "89eb7c6d3f674c298d67e63ce4548063": {
      "model_module": "@jupyter-widgets/base",
      "model_module_version": "1.2.0",
      "model_name": "LayoutModel",
      "state": {}
     },
     "89f3a4d52c9343db90861e551b6269c7": {
      "model_module": "@jupyter-widgets/controls",
      "model_module_version": "1.5.0",
      "model_name": "DescriptionStyleModel",
      "state": {
       "description_width": ""
      }
     },
     "8a8910932ecf434cb03d684916380a25": {
      "model_module": "@jupyter-widgets/base",
      "model_module_version": "1.2.0",
      "model_name": "LayoutModel",
      "state": {}
     },
     "8b49901270734b9cb7fa60a9c2478b6f": {
      "model_module": "@jupyter-widgets/base",
      "model_module_version": "1.2.0",
      "model_name": "LayoutModel",
      "state": {
       "margin": "0px 0px 0px 20px"
      }
     },
     "8bf3e49fdf8a4517bf8064a609a55e6a": {
      "model_module": "jupyter-leaflet",
      "model_module_version": "^0.17.0",
      "model_name": "LeafletTileLayerModel",
      "state": {
       "_model_module_version": "^0.17.0",
       "_view_module_version": "^0.17.0",
       "attribution": "Tiles &copy; Esri &mdash; Esri, DeLorme, NAVTEQ, TomTom, Intermap, iPC, USGS, FAO, NPS, NRCAN, GeoBase, Kadaster NL, Ordnance Survey, Esri Japan, METI, Esri China (Hong Kong), and the GIS User Community",
       "max_zoom": 24,
       "name": "Esri.ArcticOceanReference",
       "options": [
        "attribution",
        "bounds",
        "detect_retina",
        "max_native_zoom",
        "max_zoom",
        "min_native_zoom",
        "min_zoom",
        "no_wrap",
        "tile_size",
        "tms"
       ],
       "url": "http://server.arcgisonline.com/ArcGIS/rest/services/Polar/Arctic_Ocean_Reference/MapServer/tile/{z}/{y}/{x}"
      }
     },
     "8c4b17224adb47bd80845bc45d51681a": {
      "model_module": "@jupyter-widgets/base",
      "model_module_version": "1.2.0",
      "model_name": "LayoutModel",
      "state": {}
     },
     "8c716384e1b84c7a8d6d36f83101248e": {
      "model_module": "jupyter-leaflet",
      "model_module_version": "^0.17.0",
      "model_name": "LeafletTileLayerModel",
      "state": {
       "_model_module_version": "^0.17.0",
       "_view_module_version": "^0.17.0",
       "attribution": "Map tiles by Stamen Design, CC BY 3.0 -- Map data (C) OpenStreetMap contributors",
       "max_zoom": 20,
       "name": "Stamen.TonerLines",
       "options": [
        "attribution",
        "bounds",
        "detect_retina",
        "max_native_zoom",
        "max_zoom",
        "min_native_zoom",
        "min_zoom",
        "no_wrap",
        "tile_size",
        "tms"
       ],
       "url": "https://stamen-tiles-a.a.ssl.fastly.net/toner-lines/{z}/{x}/{y}.png"
      }
     },
     "8c91043e8b7746ddaaf5090e74b944bb": {
      "model_module": "@jupyter-widgets/base",
      "model_module_version": "1.2.0",
      "model_name": "LayoutModel",
      "state": {}
     },
     "8caed59eaf4646879d5acfbb8ca49959": {
      "model_module": "@jupyter-widgets/base",
      "model_module_version": "1.2.0",
      "model_name": "LayoutModel",
      "state": {
       "margin": "0px 0px 0px 0px"
      }
     },
     "8cc51f0442284dafafb7f9be9576eb12": {
      "model_module": "@jupyter-widgets/controls",
      "model_module_version": "1.5.0",
      "model_name": "DescriptionStyleModel",
      "state": {
       "description_width": ""
      }
     },
     "8dc5355c127045cbbe1ef7350dbb34c0": {
      "model_module": "@jupyter-widgets/base",
      "model_module_version": "1.2.0",
      "model_name": "LayoutModel",
      "state": {}
     },
     "8ddf07bf7a024bd8904b78aaa32c570e": {
      "model_module": "jupyter-leaflet",
      "model_module_version": "^0.17.0",
      "model_name": "LeafletTileLayerModel",
      "state": {
       "_model_module_version": "^0.17.0",
       "_view_module_version": "^0.17.0",
       "attribution": "Map tiles by <a href=\"https://labs.strava.com/heatmap\">Strava 2021</a>",
       "max_zoom": 15,
       "name": "Strava.Run",
       "options": [
        "attribution",
        "bounds",
        "detect_retina",
        "max_native_zoom",
        "max_zoom",
        "min_native_zoom",
        "min_zoom",
        "no_wrap",
        "tile_size",
        "tms"
       ],
       "url": "https://heatmap-external-a.strava.com/tiles/run/bluered/{z}/{x}/{y}.png"
      }
     },
     "8e0eeb07d3b447afaa848928bc7c87ed": {
      "model_module": "jupyter-leaflet",
      "model_module_version": "^0.17.0",
      "model_name": "LeafletGeoJSONModel",
      "state": {
       "_model_module_version": "^0.17.0",
       "_view_module_version": "^0.17.0",
       "data": {
        "features": [
         {
          "geometry": {
           "coordinates": [
            [
             [
              -121.57800499999999,
              36.014151
             ],
             [
              -121.57800499999999,
              36.039578663197
             ],
             [
              -121.54656396505581,
              36.039578663197
             ],
             [
              -121.54656396505581,
              36.014151
             ],
             [
              -121.57800499999999,
              36.014151
             ]
            ]
           ],
           "type": "Polygon"
          },
          "id": "20",
          "properties": {
           "CHLOROPHYLL": 0.873553,
           "CSU_Descriptor": "steeply sloping, straight, medium erodibility, warm temperate dry, low river discharge, moderate wave energy, moderately tidal, euhaline-oxic-moderate to cool, clear, low chlorophyll",
           "CSU_ID": 62191,
           "Cluster": 6,
           "EMU_PHYSICAL": "Euhaline-Oxic-Moderate to Cool",
           "ERODIBILITY": "Medium",
           "GHM": 0.144511,
           "LENGTH_GEO": 809.2201719767945,
           "MAX_SLOPE": 109.272652,
           "MEAN_SIG_WAVEHEIGHT": 1.687268,
           "MasterKey": 2753658,
           "OBJECTID": 2753658,
           "OUTFLOW_DENSITY": 8671.790039,
           "OUTFLOW_DENSITY_RESCALED": 1.0484883786709782e-05,
           "REGIONAL_SINUOSITY": 1.270183,
           "RandomSort": 3366707.6827197,
           "Shape_Length": 0.008735799579888025,
           "TEMP_MOISTURE": "Warm Temperate Dry",
           "TIDAL_RANGE": 2.416656,
           "TURBIDITY": 0.027483,
           "chl_label": "low chlorophyll",
           "id": 20,
           "index_right": 6,
           "river_label": "low river discharge",
           "sinuosity_label": "straight",
           "slope_label": "steeply sloping",
           "style": {
            "color": "blue",
            "fillColor": "grey",
            "fillOpacity": 0.1,
            "weight": 3
           },
           "tidal_label": "moderately tidal",
           "turbid_label": "clear",
           "wave_label": "moderate wave energy"
          },
          "type": "Feature"
         }
        ],
        "type": "FeatureCollection"
       },
       "hover_style": {
        "color": "aqua",
        "fillColor": "blue"
       },
       "name": "Selected ROIs"
      }
     },
     "8e3f15f98e3f49419c3d92c1a29ada80": {
      "model_module": "@jupyter-widgets/controls",
      "model_module_version": "1.5.0",
      "model_name": "HTMLModel",
      "state": {
       "layout": "IPY_MODEL_759a27ff17824ea2b20f1b24ec4785b8",
       "style": "IPY_MODEL_ba3d964aff33476786962cf21896ceca",
       "value": "  0%"
      }
     },
     "8e8c3278b50b4dac9c0cf28220b3180a": {
      "model_module": "@jupyter-widgets/controls",
      "model_module_version": "1.5.0",
      "model_name": "ToggleButtonModel",
      "state": {
       "button_style": "primary",
       "icon": "search",
       "layout": "IPY_MODEL_7759bf9faa0c43199a837f2edf037116",
       "style": "IPY_MODEL_93b318af706d42849b934ccafc541d86",
       "tooltip": "Search XYZ tile services"
      }
     },
     "8e9f36553c784335b7a3448863a58ee2": {
      "model_module": "@jupyter-widgets/controls",
      "model_module_version": "1.5.0",
      "model_name": "VBoxModel",
      "state": {
       "children": [
        "IPY_MODEL_0930172d97c0475c98797922ab168969",
        "IPY_MODEL_78b06685727344c2848f8cc6262fb1c5",
        "IPY_MODEL_94647dcd3e674b5daa5c5f9f552fe56b"
       ],
       "layout": "IPY_MODEL_7c4115a7b78540289029648da4ecef79"
      }
     },
     "8ea991a0335f4a578f850c44033bb423": {
      "model_module": "@jupyter-widgets/base",
      "model_module_version": "1.2.0",
      "model_name": "LayoutModel",
      "state": {}
     },
     "90507ad8c40b403092cda47142523dd9": {
      "model_module": "jupyter-leaflet",
      "model_module_version": "^0.17.0",
      "model_name": "LeafletTileLayerModel",
      "state": {
       "_model_module_version": "^0.17.0",
       "_view_module_version": "^0.17.0",
       "attribution": "Tiles courtesy of the U.S. Geological Survey",
       "max_zoom": 20,
       "name": "USGS.USTopo",
       "options": [
        "attribution",
        "bounds",
        "detect_retina",
        "max_native_zoom",
        "max_zoom",
        "min_native_zoom",
        "min_zoom",
        "no_wrap",
        "tile_size",
        "tms"
       ],
       "url": "https://basemap.nationalmap.gov/arcgis/rest/services/USGSTopo/MapServer/tile/{z}/{y}/{x}"
      }
     },
     "90a928616b21494abf29ef583ea8fd06": {
      "model_module": "jupyter-leaflet",
      "model_module_version": "^0.17.0",
      "model_name": "LeafletTileLayerModel",
      "state": {
       "_model_module_version": "^0.17.0",
       "_view_module_version": "^0.17.0",
       "attribution": "(C) OpenStreetMap contributors",
       "name": "OpenStreetMap.CH",
       "options": [
        "attribution",
        "bounds",
        "detect_retina",
        "max_native_zoom",
        "max_zoom",
        "min_native_zoom",
        "min_zoom",
        "no_wrap",
        "tile_size",
        "tms"
       ],
       "url": "https://tile.osm.ch/switzerland/{z}/{x}/{y}.png"
      }
     },
     "90b2700ce7b447c28685ed2af53eee9a": {
      "model_module": "@jupyter-widgets/controls",
      "model_module_version": "1.5.0",
      "model_name": "DescriptionStyleModel",
      "state": {
       "description_width": ""
      }
     },
     "90e4ff43ba1a49d6967ed97b548e326b": {
      "model_module": "@jupyter-widgets/controls",
      "model_module_version": "1.5.0",
      "model_name": "HBoxModel",
      "state": {
       "children": [
        "IPY_MODEL_07e07801619245e78a5296aab9e7854f",
        "IPY_MODEL_be1414cf5288401d86eb0b7f2265a22e",
        "IPY_MODEL_d8c6b0f681e14f2ea3b3c20913b75591",
        "IPY_MODEL_708c9388f12d4d52b745d539572975b2",
        "IPY_MODEL_ad363aa7336148d396f08ed34728e927"
       ],
       "layout": "IPY_MODEL_436385b863b54e9b83ab006d115539c4"
      }
     },
     "91915463673f4e9184cff012eb138c2d": {
      "model_module": "@jupyter-widgets/controls",
      "model_module_version": "1.5.0",
      "model_name": "HBoxModel",
      "state": {
       "children": [
        "IPY_MODEL_b632e83fa385410a9a7f21d0d3d3b576",
        "IPY_MODEL_6d443dcc3c444ff0a5726a799b680ed0"
       ],
       "layout": "IPY_MODEL_7842bcaacb90468381c37b67ead2c000"
      }
     },
     "91c7721617b74d1e99e30a68e2fc2b5b": {
      "model_module": "@jupyter-widgets/base",
      "model_module_version": "1.2.0",
      "model_name": "LayoutModel",
      "state": {
       "grid_gap": "1px 1px",
       "grid_template_columns": "32px 32px 32px ",
       "grid_template_rows": "32px 32px 32px 32px 32px 32px ",
       "padding": "5px",
       "width": "109px"
      }
     },
     "91f84d1e20dd4b0bb84b87ed92f6a436": {
      "model_module": "@jupyter-widgets/base",
      "model_module_version": "1.2.0",
      "model_name": "LayoutModel",
      "state": {}
     },
     "93b318af706d42849b934ccafc541d86": {
      "model_module": "@jupyter-widgets/controls",
      "model_module_version": "1.5.0",
      "model_name": "DescriptionStyleModel",
      "state": {
       "description_width": ""
      }
     },
     "94647dcd3e674b5daa5c5f9f552fe56b": {
      "model_module": "@jupyter-widgets/controls",
      "model_module_version": "1.5.0",
      "model_name": "VBoxModel",
      "state": {
       "children": [
        "IPY_MODEL_ac6ec992b0e246d5b3a4db7ae2c18601",
        "IPY_MODEL_2092b36fa9ed4da7a3afa26dae31cec2"
       ],
       "layout": "IPY_MODEL_eb802e4b59d14a4aaa4f7b2e9a3e2727"
      }
     },
     "9495fbb6c7eb4926aa61fae0e5beeaed": {
      "model_module": "@jupyter-widgets/controls",
      "model_module_version": "1.5.0",
      "model_name": "ButtonStyleModel",
      "state": {
       "button_color": "red"
      }
     },
     "94f20f9e3a2349eeaccfecc4c36e1115": {
      "model_module": "jupyter-leaflet",
      "model_module_version": "^0.17.0",
      "model_name": "LeafletTileLayerModel",
      "state": {
       "_model_module_version": "^0.17.0",
       "_view_module_version": "^0.17.0",
       "attribution": "Map data: (C) OpenStreetMap contributors, SRTM | Map style: (C) OpenTopoMap (CC-BY-SA)",
       "max_zoom": 17,
       "name": "OpenTopoMap",
       "options": [
        "attribution",
        "bounds",
        "detect_retina",
        "max_native_zoom",
        "max_zoom",
        "min_native_zoom",
        "min_zoom",
        "no_wrap",
        "tile_size",
        "tms"
       ],
       "url": "https://a.tile.opentopomap.org/{z}/{x}/{y}.png"
      }
     },
     "97aa4af2edd64a249d5fe20aeb218a38": {
      "model_module": "@jupyter-widgets/base",
      "model_module_version": "1.2.0",
      "model_name": "LayoutModel",
      "state": {
       "height": "28px",
       "width": "72px"
      }
     },
     "9893cb9b50654361b5d1cf33d8b45557": {
      "model_module": "@jupyter-widgets/controls",
      "model_module_version": "1.5.0",
      "model_name": "ButtonModel",
      "state": {
       "description": "Open Model Results",
       "layout": "IPY_MODEL_bf99b920b2d54c849d1a7df7b4c6f09b",
       "style": "IPY_MODEL_3e7763368f07418ab7f92cb5bbbba87c"
      }
     },
     "9916fd9713084ed98bac9b9376016556": {
      "model_module": "@jupyter-widgets/base",
      "model_module_version": "1.2.0",
      "model_name": "LayoutModel",
      "state": {
       "height": "auto",
       "padding": "0px 0px 0px 4px",
       "width": "auto"
      }
     },
     "99c33aeca0334a2b919e440882bfae5c": {
      "model_module": "jupyter-leaflet",
      "model_module_version": "^0.17.0",
      "model_name": "LeafletTileLayerModel",
      "state": {
       "_model_module_version": "^0.17.0",
       "_view_module_version": "^0.17.0",
       "attribution": "© swisstopo",
       "name": "SwissFederalGeoportal.NationalMapGrey",
       "options": [
        "attribution",
        "bounds",
        "detect_retina",
        "max_native_zoom",
        "max_zoom",
        "min_native_zoom",
        "min_zoom",
        "no_wrap",
        "tile_size",
        "tms"
       ],
       "url": "https://wmts.geo.admin.ch/1.0.0/ch.swisstopo.pixelkarte-grau/default/current/3857/{z}/{x}/{y}.jpeg"
      }
     },
     "9e996227ae3d40cb9ed8bd1842f8b9dc": {
      "model_module": "@jupyter-widgets/base",
      "model_module_version": "1.2.0",
      "model_name": "LayoutModel",
      "state": {
       "border": "1px solid black"
      }
     },
     "9ef8a48303b041c0906ee3f5c66c7233": {
      "model_module": "@jupyter-widgets/base",
      "model_module_version": "1.2.0",
      "model_name": "LayoutModel",
      "state": {}
     },
     "9f82d33110aa436b9d3d6f5d21928778": {
      "model_module": "jupyter-leaflet",
      "model_module_version": "^0.17.0",
      "model_name": "LeafletTileLayerModel",
      "state": {
       "_model_module_version": "^0.17.0",
       "_view_module_version": "^0.17.0",
       "attribution": "Justice Map",
       "max_zoom": 22,
       "name": "JusticeMap.nonWhite",
       "options": [
        "attribution",
        "bounds",
        "detect_retina",
        "max_native_zoom",
        "max_zoom",
        "min_native_zoom",
        "min_zoom",
        "no_wrap",
        "tile_size",
        "tms"
       ],
       "url": "https://www.justicemap.org/tile/county/nonwhite/{z}/{x}/{y}.png"
      }
     },
     "9f985fbac60c4138b114e2f2afee7e50": {
      "model_module": "@jupyter-widgets/controls",
      "model_module_version": "1.5.0",
      "model_name": "VBoxModel",
      "state": {
       "children": [
        "IPY_MODEL_899646f23ba2459095353aaf0455359a"
       ],
       "layout": "IPY_MODEL_f593d0f34e934236ad228e4e941d620c"
      }
     },
     "9f9b60b35da54f7ba573ffc7f67573a8": {
      "model_module": "@jupyter-widgets/controls",
      "model_module_version": "1.5.0",
      "model_name": "DescriptionStyleModel",
      "state": {
       "description_width": ""
      }
     },
     "9fbcc0778733445faced8767571ed989": {
      "model_module": "@jupyter-widgets/base",
      "model_module_version": "1.2.0",
      "model_name": "LayoutModel",
      "state": {
       "margin": "0px 0px 0px 20px"
      }
     },
     "a01d577460814a8ba933a232eecc147a": {
      "model_module": "@jupyter-widgets/controls",
      "model_module_version": "1.5.0",
      "model_name": "DescriptionStyleModel",
      "state": {
       "description_width": ""
      }
     },
     "a030dc35d29e47a2923be2ebc4ddda45": {
      "model_module": "@jupyter-widgets/base",
      "model_module_version": "1.2.0",
      "model_name": "LayoutModel",
      "state": {
       "height": "28px",
       "padding": "0px 0px 0px 4px",
       "width": "28px"
      }
     },
     "a05d287856ae4a939206feddf9e75397": {
      "model_module": "jupyter-leaflet",
      "model_module_version": "^0.17.0",
      "model_name": "LeafletTileLayerModel",
      "state": {
       "_model_module_version": "^0.17.0",
       "_view_module_version": "^0.17.0",
       "attribution": "Imagery provided by NOAA National Centers for Environmental Information (NCEI); International Bathymetric Chart of the Southern Ocean (IBCSO); General Bathymetric Chart of the Oceans (GEBCO).",
       "max_zoom": 9,
       "name": "Esri.AntarcticBasemap",
       "options": [
        "attribution",
        "bounds",
        "detect_retina",
        "max_native_zoom",
        "max_zoom",
        "min_native_zoom",
        "min_zoom",
        "no_wrap",
        "tile_size",
        "tms"
       ],
       "url": "https://tiles.arcgis.com/tiles/C8EMgrsFcRFL6LrL/arcgis/rest/services/Antarctic_Basemap/MapServer/tile/{z}/{y}/{x}"
      }
     },
     "a17e32ccc1c8477d963d1382e6358a48": {
      "model_module": "jupyter-leaflet",
      "model_module_version": "^0.17.0",
      "model_name": "LeafletTileLayerModel",
      "state": {
       "_model_module_version": "^0.17.0",
       "_view_module_version": "^0.17.0",
       "attribution": "Geoportail France",
       "max_zoom": 19,
       "name": "GeoportailFrance.orthos",
       "options": [
        "attribution",
        "bounds",
        "detect_retina",
        "max_native_zoom",
        "max_zoom",
        "min_native_zoom",
        "min_zoom",
        "no_wrap",
        "tile_size",
        "tms"
       ],
       "url": "https://wxs.ign.fr/choisirgeoportail/geoportail/wmts?REQUEST=GetTile&SERVICE=WMTS&VERSION=1.0.0&STYLE=normal&TILEMATRIXSET=PM&FORMAT=image/jpeg&LAYER=ORTHOIMAGERY.ORTHOPHOTOS&TILEMATRIX={z}&TILEROW={y}&TILECOL={x}"
      }
     },
     "a1fe34a96f57414ca1b7c29af0e6d5d0": {
      "model_module": "jupyter-leaflet",
      "model_module_version": "^0.17.0",
      "model_name": "LeafletTileLayerModel",
      "state": {
       "_model_module_version": "^0.17.0",
       "_view_module_version": "^0.17.0",
       "attribution": "Map tiles by <a href=\"https://labs.strava.com/heatmap\">Strava 2021</a>",
       "max_zoom": 15,
       "name": "Strava.Winter",
       "options": [
        "attribution",
        "bounds",
        "detect_retina",
        "max_native_zoom",
        "max_zoom",
        "min_native_zoom",
        "min_zoom",
        "no_wrap",
        "tile_size",
        "tms"
       ],
       "url": "https://heatmap-external-a.strava.com/tiles/winter/hot/{z}/{x}/{y}.png"
      }
     },
     "a2113685f89144e1b77ecaf325c0942a": {
      "model_module": "@jupyter-widgets/base",
      "model_module_version": "1.2.0",
      "model_name": "LayoutModel",
      "state": {}
     },
     "a24957df6e094a1594c8b86fc03f2d83": {
      "model_module": "jupyter-leaflet",
      "model_module_version": "^0.17.0",
      "model_name": "LeafletTileLayerModel",
      "state": {
       "_model_module_version": "^0.17.0",
       "_view_module_version": "^0.17.0",
       "attribution": "Kaartgegevens (C) Kadaster",
       "max_zoom": 19,
       "name": "nlmaps.luchtfoto",
       "options": [
        "attribution",
        "bounds",
        "detect_retina",
        "max_native_zoom",
        "max_zoom",
        "min_native_zoom",
        "min_zoom",
        "no_wrap",
        "tile_size",
        "tms"
       ],
       "url": "https://service.pdok.nl/hwh/luchtfotorgb/wmts/v1_0/Actueel_ortho25/EPSG:3857/{z}/{x}/{y}.jpeg"
      }
     },
     "a2cce2bb1f834104b380f0c729bdbd09": {
      "model_module": "@jupyter-widgets/base",
      "model_module_version": "1.2.0",
      "model_name": "LayoutModel",
      "state": {}
     },
     "a3cd5c7b201d417da82fd1dbffb29d6b": {
      "model_module": "jupyter-leaflet",
      "model_module_version": "^0.17.0",
      "model_name": "LeafletZoomControlModel",
      "state": {
       "_model_module_version": "^0.17.0",
       "_view_module_version": "^0.17.0",
       "options": [
        "position",
        "zoom_in_text",
        "zoom_in_title",
        "zoom_out_text",
        "zoom_out_title"
       ]
      }
     },
     "a4897449738a4fe89024ee59d50706fa": {
      "model_module": "jupyter-leaflet",
      "model_module_version": "^0.17.0",
      "model_name": "LeafletTileLayerModel",
      "state": {
       "_model_module_version": "^0.17.0",
       "_view_module_version": "^0.17.0",
       "attribution": "(C) Stadia Maps, (C) OpenMapTiles (C) OpenStreetMap contributors",
       "max_zoom": 20,
       "name": "Stadia.AlidadeSmoothDark",
       "options": [
        "attribution",
        "bounds",
        "detect_retina",
        "max_native_zoom",
        "max_zoom",
        "min_native_zoom",
        "min_zoom",
        "no_wrap",
        "tile_size",
        "tms"
       ],
       "url": "https://tiles.stadiamaps.com/tiles/alidade_smooth_dark/{z}/{x}/{y}.png"
      }
     },
     "a5106862a3ce406cb1362493147b686b": {
      "model_module": "jupyter-leaflet",
      "model_module_version": "^0.17.0",
      "model_name": "LeafletTileLayerModel",
      "state": {
       "_model_module_version": "^0.17.0",
       "_view_module_version": "^0.17.0",
       "attribution": "Map tiles by Stamen Design, CC BY 3.0 -- Map data (C) OpenStreetMap contributors",
       "max_zoom": 20,
       "name": "Stamen.TonerLite",
       "options": [
        "attribution",
        "bounds",
        "detect_retina",
        "max_native_zoom",
        "max_zoom",
        "min_native_zoom",
        "min_zoom",
        "no_wrap",
        "tile_size",
        "tms"
       ],
       "url": "https://stamen-tiles-a.a.ssl.fastly.net/toner-lite/{z}/{x}/{y}.png"
      }
     },
     "a573109baf9f48e7b13ecece9195cd22": {
      "model_module": "@jupyter-widgets/base",
      "model_module_version": "1.2.0",
      "model_name": "LayoutModel",
      "state": {}
     },
     "a5783d8c9ebc499f8f80558b1eb9f843": {
      "model_module": "@jupyter-widgets/base",
      "model_module_version": "1.2.0",
      "model_name": "LayoutModel",
      "state": {}
     },
     "a79848c042b349b69bb9d8da9478bdb7": {
      "model_module": "@jupyter-widgets/base",
      "model_module_version": "1.2.0",
      "model_name": "LayoutModel",
      "state": {}
     },
     "a79ddfb71c094a65a92a5c737a9c7bd1": {
      "model_module": "jupyter-leaflet",
      "model_module_version": "^0.17.0",
      "model_name": "LeafletTileLayerModel",
      "state": {
       "_model_module_version": "^0.17.0",
       "_view_module_version": "^0.17.0",
       "attribution": "Geoportail France",
       "max_zoom": 20,
       "name": "GeoportailFrance.parcels",
       "options": [
        "attribution",
        "bounds",
        "detect_retina",
        "max_native_zoom",
        "max_zoom",
        "min_native_zoom",
        "min_zoom",
        "no_wrap",
        "tile_size",
        "tms"
       ],
       "url": "https://wxs.ign.fr/choisirgeoportail/geoportail/wmts?REQUEST=GetTile&SERVICE=WMTS&VERSION=1.0.0&STYLE=PCI vecteur&TILEMATRIXSET=PM&FORMAT=image/png&LAYER=CADASTRALPARCELS.PARCELLAIRE_EXPRESS&TILEMATRIX={z}&TILEROW={y}&TILECOL={x}"
      }
     },
     "a88c204feb864535a8a80b69d5ad99bf": {
      "model_module": "@jupyter-widgets/controls",
      "model_module_version": "1.5.0",
      "model_name": "ButtonModel",
      "state": {
       "description": "Load Shoreline",
       "layout": "IPY_MODEL_9ef8a48303b041c0906ee3f5c66c7233",
       "style": "IPY_MODEL_ac221f6bc6ec4cba818c405e0ce6ef65"
      }
     },
     "a8a8f2fffa8948a79a7e506517e78ed3": {
      "model_module": "@jupyter-widgets/base",
      "model_module_version": "1.2.0",
      "model_name": "LayoutModel",
      "state": {}
     },
     "a945faa91dac4ae3ac39b2a4a742892a": {
      "model_module": "jupyter-leaflet",
      "model_module_version": "^0.17.0",
      "model_name": "LeafletTileLayerModel",
      "state": {
       "_model_module_version": "^0.17.0",
       "_view_module_version": "^0.17.0",
       "attribution": "Datenquelle: basemap.at",
       "max_zoom": 19,
       "name": "BasemapAT.grau",
       "options": [
        "attribution",
        "bounds",
        "detect_retina",
        "max_native_zoom",
        "max_zoom",
        "min_native_zoom",
        "min_zoom",
        "no_wrap",
        "tile_size",
        "tms"
       ],
       "url": "https://maps.wien.gv.at/basemap/bmapgrau/normal/google3857/{z}/{y}/{x}.png"
      }
     },
     "a9c4a67538a548ed88f4db9a9239df7a": {
      "model_module": "jupyter-leaflet",
      "model_module_version": "^0.17.0",
      "model_name": "LeafletTileLayerModel",
      "state": {
       "_model_module_version": "^0.17.0",
       "_view_module_version": "^0.17.0",
       "attribution": "(C) OpenStreetMap contributors (C) CARTO",
       "max_zoom": 20,
       "name": "CartoDB.DarkMatterNoLabels",
       "options": [
        "attribution",
        "bounds",
        "detect_retina",
        "max_native_zoom",
        "max_zoom",
        "min_native_zoom",
        "min_zoom",
        "no_wrap",
        "tile_size",
        "tms"
       ],
       "url": "https://a.basemaps.cartocdn.com/dark_nolabels/{z}/{x}/{y}.png"
      }
     },
     "ab42107dcc084957bf2bf5c082ef18fd": {
      "model_module": "jupyter-leaflet",
      "model_module_version": "^0.17.0",
      "model_name": "LeafletTileLayerModel",
      "state": {
       "_model_module_version": "^0.17.0",
       "_view_module_version": "^0.17.0",
       "attribution": "Datenquelle: basemap.at",
       "max_zoom": 20,
       "name": "BasemapAT.basemap",
       "options": [
        "attribution",
        "bounds",
        "detect_retina",
        "max_native_zoom",
        "max_zoom",
        "min_native_zoom",
        "min_zoom",
        "no_wrap",
        "tile_size",
        "tms"
       ],
       "url": "https://maps.wien.gv.at/basemap/geolandbasemap/normal/google3857/{z}/{y}/{x}.png"
      }
     },
     "ac221f6bc6ec4cba818c405e0ce6ef65": {
      "model_module": "@jupyter-widgets/controls",
      "model_module_version": "1.5.0",
      "model_name": "ButtonStyleModel",
      "state": {
       "button_color": "#69add1"
      }
     },
     "ac34b7a276184774b189bd41235d1ad6": {
      "model_module": "@jupyter-widgets/controls",
      "model_module_version": "1.5.0",
      "model_name": "DescriptionStyleModel",
      "state": {
       "description_width": ""
      }
     },
     "ac4e6fa4a5d24574aa087f0b2f0898ec": {
      "model_module": "@jupyter-widgets/output",
      "model_module_version": "1.0.0",
      "model_name": "OutputModel",
      "state": {
       "layout": "IPY_MODEL_771a0be5f533423c9bc80d6e305b62ff",
       "outputs": [
        {
         "name": "stdout",
         "output_type": "stream",
         "text": "ROIs have been saved. Now click Download ROI to download the ROIs using CoastSat\n"
        },
        {
         "name": "stdout",
         "output_type": "stream",
         "text": "Scroll down past map to see download progress."
        }
       ]
      }
     },
     "ac6ec992b0e246d5b3a4db7ae2c18601": {
      "model_module": "@jupyter-widgets/controls",
      "model_module_version": "1.5.0",
      "model_name": "HTMLModel",
      "state": {
       "layout": "IPY_MODEL_cc75722bcb89449b84026cde2e95496a",
       "style": "IPY_MODEL_e87c9a30892a4616aa493462bfb9a069",
       "value": "<b>Pick multiple satellites by holding the control key:</b>         <br> - images prior to 2022/01/01 will be downloaded from Collection 1         <br> - images after 2022/01/01 will be automatically downloaded from Collection 2         <br> C01: LandSat Collection 1 : All dates before 2022/01/01        <br> C02: LandSat Collection 2 : All dates after 2022/01/01         <br> - Landsat 9 is only available in C02"
      }
     },
     "ac6f51ee03734a6e9e2a8c51c842fcf9": {
      "model_module": "@jupyter-widgets/base",
      "model_module_version": "1.2.0",
      "model_name": "LayoutModel",
      "state": {}
     },
     "ac84133615c84d79acbf15f21b36022f": {
      "model_module": "@jupyter-widgets/controls",
      "model_module_version": "1.5.0",
      "model_name": "IntSliderModel",
      "state": {
       "continuous_update": false,
       "description": "Large Fishnet:",
       "layout": "IPY_MODEL_bf7607b408094bc0a2fba9d5443698c8",
       "max": 10000,
       "min": 1000,
       "step": 100,
       "style": "IPY_MODEL_cf0bbd0fb0ba4c88bf3c450f3dab757d",
       "value": 4000
      }
     },
     "ac9c0230129c483cb5f7816f02323789": {
      "model_module": "@jupyter-widgets/controls",
      "model_module_version": "1.5.0",
      "model_name": "ButtonModel",
      "state": {
       "description": "Use Data Button",
       "layout": "IPY_MODEL_661dae4d8c4a488f9bf3208ec8f80765",
       "style": "IPY_MODEL_b0b14bdb5f314cbf967530734d411e1c"
      }
     },
     "acab8d8aea874222866cd19fc3a5dc06": {
      "model_module": "@jupyter-widgets/base",
      "model_module_version": "1.2.0",
      "model_name": "LayoutModel",
      "state": {}
     },
     "ad159ed33e1742c5b25764bf6159edd4": {
      "model_module": "@jupyter-widgets/base",
      "model_module_version": "1.2.0",
      "model_name": "LayoutModel",
      "state": {}
     },
     "ad363aa7336148d396f08ed34728e927": {
      "model_module": "@jupyter-widgets/controls",
      "model_module_version": "1.5.0",
      "model_name": "ButtonModel",
      "state": {
       "description": "Remove ROIs",
       "layout": "IPY_MODEL_acab8d8aea874222866cd19fc3a5dc06",
       "style": "IPY_MODEL_4c1aa527d098428fb5402c969c96d3f6"
      }
     },
     "adf76974a83c4133b440f2e76fadd68e": {
      "model_module": "@jupyter-widgets/controls",
      "model_module_version": "1.5.0",
      "model_name": "HTMLModel",
      "state": {
       "layout": "IPY_MODEL_f64ca986006e4169b8c291138fcb6823",
       "style": "IPY_MODEL_cd0386882c3d4ed3a7dd6bbdbc6cdc7f",
       "value": "<b>2. Select Images Button</b>         <br> - This will open a pop up window where the folder containing the jpgs can be selected.<br>             - The model will be applied to this folder and the model outputs will be generated within a subdirectory             called 'out'<br>      - <span style=\"background-color:yellow;color: black;\">WARNING :</span> You will not be able to see the files within the folder you select.<br>    "
      }
     },
     "ae7da8f5a6554189bce1817d71825ca9": {
      "model_module": "@jupyter-widgets/controls",
      "model_module_version": "1.5.0",
      "model_name": "CheckboxModel",
      "state": {
       "description": "Use GPU?",
       "disabled": false,
       "indent": false,
       "layout": "IPY_MODEL_89eb7c6d3f674c298d67e63ce4548063",
       "style": "IPY_MODEL_8cc51f0442284dafafb7f9be9576eb12",
       "value": false
      }
     },
     "af175fd7da594a928758c590279a9e2f": {
      "model_module": "@jupyter-widgets/controls",
      "model_module_version": "1.5.0",
      "model_name": "DescriptionStyleModel",
      "state": {
       "description_width": ""
      }
     },
     "af992bdaf78142599a3ebd7c1631d226": {
      "model_module": "jupyter-leaflet",
      "model_module_version": "^0.17.0",
      "model_name": "LeafletTileLayerModel",
      "state": {
       "_model_module_version": "^0.17.0",
       "_view_module_version": "^0.17.0",
       "attribution": "Imagery provided by services from the Global Imagery Browse Services (GIBS), operated by the NASA/GSFC/Earth Science Data and Information System (ESDIS) with funding provided by NASA/HQ.",
       "max_zoom": 12,
       "name": "NASAGIBS.ASTER_GDEM_Greyscale_Shaded_Relief",
       "options": [
        "attribution",
        "bounds",
        "detect_retina",
        "max_native_zoom",
        "max_zoom",
        "min_native_zoom",
        "min_zoom",
        "no_wrap",
        "tile_size",
        "tms"
       ],
       "url": "https://gibs.earthdata.nasa.gov/wmts/epsg3857/best/ASTER_GDEM_Greyscale_Shaded_Relief/default/GoogleMapsCompatible_Level12/{z}/{y}/{x}.jpg"
      }
     },
     "afd1b881aef14984abbd76fca495e26f": {
      "model_module": "jupyter-leaflet",
      "model_module_version": "^0.17.0",
      "model_name": "LeafletWMSLayerModel",
      "state": {
       "_model_module_version": "^0.17.0",
       "_view_module_version": "^0.17.0",
       "attribution": "MRLC",
       "crs": {
        "custom": false,
        "name": "EPSG3857"
       },
       "format": "image/png",
       "layers": "NLCD_2016_Land_Cover_L48",
       "name": "NLCD 2016 CONUS Land Cover",
       "options": [
        "attribution",
        "bounds",
        "detect_retina",
        "format",
        "layers",
        "max_native_zoom",
        "max_zoom",
        "min_native_zoom",
        "min_zoom",
        "no_wrap",
        "styles",
        "tile_size",
        "tms",
        "transparent",
        "uppercase"
       ],
       "transparent": true,
       "url": "https://www.mrlc.gov/geoserver/mrlc_display/NLCD_2016_Land_Cover_L48/wms?"
      }
     },
     "b07fd2beb5d6481289b3ef1ef878049a": {
      "model_module": "@jupyter-widgets/controls",
      "model_module_version": "1.5.0",
      "model_name": "ButtonModel",
      "state": {
       "description": "Save Bbox",
       "layout": "IPY_MODEL_c435dffe48704bd8adfdcfaec8c76a8f",
       "style": "IPY_MODEL_6f713d91a0fc4965b09b58d902d7340d"
      }
     },
     "b08f1c0772414cf98a9be3acbf651542": {
      "model_module": "@jupyter-widgets/controls",
      "model_module_version": "1.5.0",
      "model_name": "ButtonStyleModel",
      "state": {
       "button_color": "#ae3cf0"
      }
     },
     "b0aa7aa6465c413a9809022dc8423eef": {
      "model_module": "jupyter-leaflet",
      "model_module_version": "^0.17.0",
      "model_name": "LeafletTileLayerModel",
      "state": {
       "_model_module_version": "^0.17.0",
       "_view_module_version": "^0.17.0",
       "attribution": "![](https://docs.onemap.sg/maps/images/oneMap64-01.png) New OneMap | Map data (C) contributors, Singapore Land Authority",
       "name": "OneMapSG.LandLot",
       "options": [
        "attribution",
        "bounds",
        "detect_retina",
        "max_native_zoom",
        "max_zoom",
        "min_native_zoom",
        "min_zoom",
        "no_wrap",
        "tile_size",
        "tms"
       ],
       "url": "https://maps-a.onemap.sg/v3/LandLot/{z}/{x}/{y}.png"
      }
     },
     "b0b14bdb5f314cbf967530734d411e1c": {
      "model_module": "@jupyter-widgets/controls",
      "model_module_version": "1.5.0",
      "model_name": "ButtonStyleModel",
      "state": {
       "button_color": "#69add1"
      }
     },
     "b1c6ff65f7b84b9a9007e92a2abe5478": {
      "model_module": "@jupyter-widgets/base",
      "model_module_version": "1.2.0",
      "model_name": "LayoutModel",
      "state": {}
     },
     "b3474d0e1d6443e5b46bedf149557441": {
      "model_module": "@jupyter-widgets/controls",
      "model_module_version": "1.5.0",
      "model_name": "HTMLModel",
      "state": {
       "layout": "IPY_MODEL_c478973302524b0ab5ba0290909fcc0e",
       "style": "IPY_MODEL_1457e6d0644d4053815ca23d8076b4d5",
       "value": "Downloading us_county349_ref_shoreline.geojson: 100%"
      }
     },
     "b44953a629c54e8c93dd7b8785b3b797": {
      "model_module": "@jupyter-widgets/base",
      "model_module_version": "1.2.0",
      "model_name": "LayoutModel",
      "state": {}
     },
     "b4ec9afb253d47b090b139810bb5abda": {
      "model_module": "jupyter-leaflet",
      "model_module_version": "^0.17.0",
      "model_name": "LeafletTileLayerModel",
      "state": {
       "_model_module_version": "^0.17.0",
       "_view_module_version": "^0.17.0",
       "attribution": "Datenquelle: basemap.at",
       "max_zoom": 20,
       "name": "BasemapAT.orthofoto",
       "options": [
        "attribution",
        "bounds",
        "detect_retina",
        "max_native_zoom",
        "max_zoom",
        "min_native_zoom",
        "min_zoom",
        "no_wrap",
        "tile_size",
        "tms"
       ],
       "url": "https://maps.wien.gv.at/basemap/bmaporthofoto30cm/normal/google3857/{z}/{y}/{x}.jpeg"
      }
     },
     "b56035ef97c24a2eae2ac9648833f0c0": {
      "model_module": "@jupyter-widgets/base",
      "model_module_version": "1.2.0",
      "model_name": "LayoutModel",
      "state": {
       "margin": "0px 0px 0px 20px"
      }
     },
     "b5bd67f748364ab7aefd35692fdacff1": {
      "model_module": "@jupyter-widgets/controls",
      "model_module_version": "1.5.0",
      "model_name": "ButtonModel",
      "state": {
       "description": "Save ROI",
       "layout": "IPY_MODEL_338e01eb27bf4aaa8ade8ee312eb2d2a",
       "style": "IPY_MODEL_128dfc15e23748c4bee69238b2cab9d7"
      }
     },
     "b632e83fa385410a9a7f21d0d3d3b576": {
      "model_module": "@jupyter-widgets/controls",
      "model_module_version": "1.5.0",
      "model_name": "ToggleButtonModel",
      "state": {
       "icon": "server",
       "layout": "IPY_MODEL_97aa4af2edd64a249d5fe20aeb218a38",
       "style": "IPY_MODEL_04d80d99204f4a9eb94b87ac35e495d4",
       "tooltip": "Layers"
      }
     },
     "b6862dd9a83a41c8b8e6a7d9e2b8d99f": {
      "model_module": "jupyter-leaflet",
      "model_module_version": "^0.17.0",
      "model_name": "LeafletTileLayerModel",
      "state": {
       "_model_module_version": "^0.17.0",
       "_view_module_version": "^0.17.0",
       "attribution": "Imagery provided by services from the Global Imagery Browse Services (GIBS), operated by the NASA/GSFC/Earth Science Data and Information System (ESDIS) with funding provided by NASA/HQ.",
       "max_zoom": 8,
       "name": "NASAGIBS.ModisTerraSnowCover",
       "options": [
        "attribution",
        "bounds",
        "detect_retina",
        "max_native_zoom",
        "max_zoom",
        "min_native_zoom",
        "min_zoom",
        "no_wrap",
        "tile_size",
        "tms"
       ],
       "url": "https://map1.vis.earthdata.nasa.gov/wmts-webmerc/MODIS_Terra_NDSI_Snow_Cover/default//GoogleMapsCompatible_Level8/{z}/{y}/{x}.png"
      }
     },
     "b6bd6bcdf3bf44649b5eacc943d55d02": {
      "model_module": "@jupyter-widgets/base",
      "model_module_version": "1.2.0",
      "model_name": "LayoutModel",
      "state": {}
     },
     "b6fc62a98e574a0e805d05dd83308b07": {
      "model_module": "@jupyter-widgets/base",
      "model_module_version": "1.2.0",
      "model_name": "LayoutModel",
      "state": {}
     },
     "b748862267854730bf4f39f330f8ffcd": {
      "model_module": "@jupyter-widgets/base",
      "model_module_version": "1.2.0",
      "model_name": "LayoutModel",
      "state": {
       "border": "1px solid black"
      }
     },
     "b77e7c534bd94be181302af581328bff": {
      "model_module": "jupyter-leaflet",
      "model_module_version": "^0.17.0",
      "model_name": "LeafletTileLayerModel",
      "state": {
       "_model_module_version": "^0.17.0",
       "_view_module_version": "^0.17.0",
       "attribution": "Kaartgegevens (C) Kadaster",
       "max_zoom": 19,
       "name": "nlmaps.pastel",
       "options": [
        "attribution",
        "bounds",
        "detect_retina",
        "max_native_zoom",
        "max_zoom",
        "min_native_zoom",
        "min_zoom",
        "no_wrap",
        "tile_size",
        "tms"
       ],
       "url": "https://service.pdok.nl/brt/achtergrondkaart/wmts/v2_0/pastel/EPSG:3857/{z}/{x}/{y}.png"
      }
     },
     "b7b7b4e00dfd470ebe731efe919a8e4a": {
      "model_module": "jupyter-leaflet",
      "model_module_version": "^0.17.0",
      "model_name": "LeafletTileLayerModel",
      "state": {
       "_model_module_version": "^0.17.0",
       "_view_module_version": "^0.17.0",
       "attribution": "Map tiles by <a href=\"https://labs.strava.com/heatmap\">Strava 2021</a>",
       "max_zoom": 15,
       "name": "Strava.All",
       "options": [
        "attribution",
        "bounds",
        "detect_retina",
        "max_native_zoom",
        "max_zoom",
        "min_native_zoom",
        "min_zoom",
        "no_wrap",
        "tile_size",
        "tms"
       ],
       "url": "https://heatmap-external-a.strava.com/tiles/all/hot/{z}/{x}/{y}.png"
      }
     },
     "b96a959ea9ad4523bba42e656f43fb16": {
      "model_module": "jupyter-leaflet",
      "model_module_version": "^0.17.0",
      "model_name": "LeafletTileLayerModel",
      "state": {
       "_model_module_version": "^0.17.0",
       "_view_module_version": "^0.17.0",
       "attribution": "Tiles (C) Esri -- Source: Esri, DeLorme, NAVTEQ, USGS, Intermap, iPC, NRCAN, Esri Japan, METI, Esri China (Hong Kong), Esri (Thailand), TomTom, 2012",
       "max_zoom": 22,
       "name": "Esri.WorldStreetMap",
       "options": [
        "attribution",
        "bounds",
        "detect_retina",
        "max_native_zoom",
        "max_zoom",
        "min_native_zoom",
        "min_zoom",
        "no_wrap",
        "tile_size",
        "tms"
       ],
       "url": "https://server.arcgisonline.com/ArcGIS/rest/services/World_Street_Map/MapServer/tile/{z}/{y}/{x}"
      }
     },
     "ba3d964aff33476786962cf21896ceca": {
      "model_module": "@jupyter-widgets/controls",
      "model_module_version": "1.5.0",
      "model_name": "DescriptionStyleModel",
      "state": {
       "description_width": ""
      }
     },
     "ba7bedd3a8ef43169a4cc63d5bdc6e34": {
      "model_module": "jupyter-leaflet",
      "model_module_version": "^0.17.0",
      "model_name": "LeafletTileLayerModel",
      "state": {
       "_model_module_version": "^0.17.0",
       "_view_module_version": "^0.17.0",
       "attribution": "Map tiles by Stamen Design, CC BY 3.0 -- Map data (C) OpenStreetMap contributors",
       "name": "Stamen.Terrain",
       "options": [
        "attribution",
        "bounds",
        "detect_retina",
        "max_native_zoom",
        "max_zoom",
        "min_native_zoom",
        "min_zoom",
        "no_wrap",
        "tile_size",
        "tms"
       ],
       "url": "https://stamen-tiles-a.a.ssl.fastly.net/terrain/{z}/{x}/{y}.png"
      }
     },
     "bac18702aa6341748189b622977ffb21": {
      "model_module": "@jupyter-widgets/base",
      "model_module_version": "1.2.0",
      "model_name": "LayoutModel",
      "state": {}
     },
     "bb1cc7e05982436cb2fbb1e2cb40c768": {
      "model_module": "jupyter-leaflet",
      "model_module_version": "^0.17.0",
      "model_name": "LeafletTileLayerModel",
      "state": {
       "_model_module_version": "^0.17.0",
       "_view_module_version": "^0.17.0",
       "attribution": "Earthstar Geographics",
       "max_zoom": 24,
       "name": "Esri.ArcticImagery",
       "options": [
        "attribution",
        "bounds",
        "detect_retina",
        "max_native_zoom",
        "max_zoom",
        "min_native_zoom",
        "min_zoom",
        "no_wrap",
        "tile_size",
        "tms"
       ],
       "url": "http://server.arcgisonline.com/ArcGIS/rest/services/Polar/Arctic_Imagery/MapServer/tile/{z}/{y}/{x}"
      }
     },
     "bb541328e529436fb2ae129045a59200": {
      "model_module": "@jupyter-widgets/controls",
      "model_module_version": "1.5.0",
      "model_name": "DescriptionStyleModel",
      "state": {
       "description_width": ""
      }
     },
     "bc6c06be49c6405886e91b080a20772c": {
      "model_module": "jupyter-leaflet",
      "model_module_version": "^0.17.0",
      "model_name": "LeafletTileLayerModel",
      "state": {
       "_model_module_version": "^0.17.0",
       "_view_module_version": "^0.17.0",
       "attribution": "(C) OpenStreetMap contributors, Tiles style by Humanitarian OpenStreetMap Team hosted by OpenStreetMap France",
       "max_zoom": 19,
       "name": "OpenStreetMap.HOT",
       "options": [
        "attribution",
        "bounds",
        "detect_retina",
        "max_native_zoom",
        "max_zoom",
        "min_native_zoom",
        "min_zoom",
        "no_wrap",
        "tile_size",
        "tms"
       ],
       "url": "https://a.tile.openstreetmap.fr/hot/{z}/{x}/{y}.png"
      }
     },
     "bc9c1c34665e45ff9fdd738aa66d8e4a": {
      "model_module": "@jupyter-widgets/controls",
      "model_module_version": "1.5.0",
      "model_name": "ButtonStyleModel",
      "state": {
       "button_color": "#ae3cf0"
      }
     },
     "bd3616b8a3964d04b2de38ae6352b9b1": {
      "model_module": "@jupyter-widgets/controls",
      "model_module_version": "1.5.0",
      "model_name": "ToggleButtonModel",
      "state": {
       "button_style": "primary",
       "icon": "stack-exchange",
       "layout": "IPY_MODEL_213938036e0e40e4a398d37972067b51",
       "style": "IPY_MODEL_4cd869705e49431185e1302cac5a538f",
       "tooltip": "Discover STAC Catalog"
      }
     },
     "be1414cf5288401d86eb0b7f2265a22e": {
      "model_module": "@jupyter-widgets/controls",
      "model_module_version": "1.5.0",
      "model_name": "ButtonModel",
      "state": {
       "description": "Remove transects",
       "layout": "IPY_MODEL_6af535946e6341fdbb92c00b6914fce5",
       "style": "IPY_MODEL_7d9b8fbdec1341d288dbbcd47766813e"
      }
     },
     "bf7607b408094bc0a2fba9d5443698c8": {
      "model_module": "@jupyter-widgets/base",
      "model_module_version": "1.2.0",
      "model_name": "LayoutModel",
      "state": {}
     },
     "bf99b920b2d54c849d1a7df7b4c6f09b": {
      "model_module": "@jupyter-widgets/base",
      "model_module_version": "1.2.0",
      "model_name": "LayoutModel",
      "state": {}
     },
     "bfdf5294e0ce45efa0a18d41d0112375": {
      "model_module": "@jupyter-widgets/controls",
      "model_module_version": "1.5.0",
      "model_name": "DescriptionStyleModel",
      "state": {
       "description_width": ""
      }
     },
     "bfeacd9c66e54bc8bae39631821922ff": {
      "model_module": "jupyter-leaflet",
      "model_module_version": "^0.17.0",
      "model_name": "LeafletTileLayerModel",
      "state": {
       "_model_module_version": "^0.17.0",
       "_view_module_version": "^0.17.0",
       "attribution": "&copy; <a href=\"https://www.openstreetmap.org/copyright\">OpenStreetMap</a> contributors",
       "base": true,
       "max_zoom": 19,
       "min_zoom": 1,
       "name": "OpenStreetMap",
       "options": [
        "attribution",
        "bounds",
        "detect_retina",
        "max_native_zoom",
        "max_zoom",
        "min_native_zoom",
        "min_zoom",
        "no_wrap",
        "tile_size",
        "tms"
       ],
       "url": "https://a.tile.openstreetmap.org/{z}/{x}/{y}.png"
      }
     },
     "c0a5b878f2d94a8b91314dcc67ab171c": {
      "model_module": "@jupyter-widgets/base",
      "model_module_version": "1.2.0",
      "model_name": "LayoutModel",
      "state": {
       "margin": "0px 5px 5px 0px"
      }
     },
     "c11527968baf4a2e883008de9b922653": {
      "model_module": "jupyter-leaflet",
      "model_module_version": "^0.17.0",
      "model_name": "LeafletTileLayerModel",
      "state": {
       "_model_module_version": "^0.17.0",
       "_view_module_version": "^0.17.0",
       "attribution": "Tiles (C) Esri -- Sources: GEBCO, NOAA, CHS, OSU, UNH, CSUMB, National Geographic, DeLorme, NAVTEQ, and Esri",
       "max_zoom": 13,
       "name": "Esri.OceanBasemap",
       "options": [
        "attribution",
        "bounds",
        "detect_retina",
        "max_native_zoom",
        "max_zoom",
        "min_native_zoom",
        "min_zoom",
        "no_wrap",
        "tile_size",
        "tms"
       ],
       "url": "https://server.arcgisonline.com/ArcGIS/rest/services/Ocean_Basemap/MapServer/tile/{z}/{y}/{x}"
      }
     },
     "c11fa90176f6491f84778527a4a13b6d": {
      "model_module": "jupyter-leaflet",
      "model_module_version": "^0.17.0",
      "model_name": "LeafletTileLayerModel",
      "state": {
       "_model_module_version": "^0.17.0",
       "_view_module_version": "^0.17.0",
       "attribution": "(C) OpenStreetMap contributors, Tiles courtesy of Breton OpenStreetMap Team",
       "max_zoom": 19,
       "name": "OpenStreetMap.BZH",
       "options": [
        "attribution",
        "bounds",
        "detect_retina",
        "max_native_zoom",
        "max_zoom",
        "min_native_zoom",
        "min_zoom",
        "no_wrap",
        "tile_size",
        "tms"
       ],
       "url": "https://tile.openstreetmap.bzh/br/{z}/{x}/{y}.png"
      }
     },
     "c1a02ee6b05243eea01531c479952991": {
      "model_module": "@jupyter-widgets/controls",
      "model_module_version": "1.5.0",
      "model_name": "DescriptionStyleModel",
      "state": {
       "description_width": ""
      }
     },
     "c1fc097e13af49e8b3101db0f17c1857": {
      "model_module": "@jupyter-widgets/controls",
      "model_module_version": "1.5.0",
      "model_name": "VBoxModel",
      "state": {
       "children": [
        "IPY_MODEL_c9cc81e503de477884336bd344867269",
        "IPY_MODEL_4d77cfddac2b45df8f6614598f49ed26"
       ],
       "layout": "IPY_MODEL_c0a5b878f2d94a8b91314dcc67ab171c"
      }
     },
     "c286ff5657c74682942bc650f7d04e01": {
      "model_module": "@jupyter-widgets/controls",
      "model_module_version": "1.5.0",
      "model_name": "DescriptionStyleModel",
      "state": {
       "description_width": ""
      }
     },
     "c2b0a8006ef34b75a6ece7360a2484ec": {
      "model_module": "@jupyter-widgets/base",
      "model_module_version": "1.2.0",
      "model_name": "LayoutModel",
      "state": {
       "height": "auto",
       "padding": "0px 0px 0px 4px",
       "width": "auto"
      }
     },
     "c435dffe48704bd8adfdcfaec8c76a8f": {
      "model_module": "@jupyter-widgets/base",
      "model_module_version": "1.2.0",
      "model_name": "LayoutModel",
      "state": {}
     },
     "c478973302524b0ab5ba0290909fcc0e": {
      "model_module": "@jupyter-widgets/base",
      "model_module_version": "1.2.0",
      "model_name": "LayoutModel",
      "state": {}
     },
     "c491d0b21eed42618c3b39c317851d89": {
      "model_module": "@jupyter-widgets/controls",
      "model_module_version": "1.5.0",
      "model_name": "ButtonModel",
      "state": {
       "description": "Load Transects",
       "layout": "IPY_MODEL_50908362d4884399a6f09e2a5eb2f620",
       "style": "IPY_MODEL_82de572fdf664db5ac9153b0308b515a"
      }
     },
     "c4fb2bfa34b04d39b0359cf87dc2e63f": {
      "model_module": "jupyter-leaflet",
      "model_module_version": "^0.17.0",
      "model_name": "LeafletTileLayerModel",
      "state": {
       "_model_module_version": "^0.17.0",
       "_view_module_version": "^0.17.0",
       "attribution": "(C) Stadia Maps, (C) OpenMapTiles (C) OpenStreetMap contributors",
       "max_zoom": 20,
       "name": "Stadia.Outdoors",
       "options": [
        "attribution",
        "bounds",
        "detect_retina",
        "max_native_zoom",
        "max_zoom",
        "min_native_zoom",
        "min_zoom",
        "no_wrap",
        "tile_size",
        "tms"
       ],
       "url": "https://tiles.stadiamaps.com/tiles/outdoors/{z}/{x}/{y}.png"
      }
     },
     "c584bc47b3dd486da64cefd39e6fc6ba": {
      "model_module": "@jupyter-widgets/controls",
      "model_module_version": "1.5.0",
      "model_name": "SliderStyleModel",
      "state": {
       "description_width": "initial"
      }
     },
     "c5adc38e54914e6cb0a1b1db20709804": {
      "model_module": "@jupyter-widgets/base",
      "model_module_version": "1.2.0",
      "model_name": "LayoutModel",
      "state": {}
     },
     "c5df52448577450691cddc951c4bb99f": {
      "model_module": "@jupyter-widgets/controls",
      "model_module_version": "1.5.0",
      "model_name": "DescriptionStyleModel",
      "state": {
       "description_width": ""
      }
     },
     "c6cbf53937c04948b399bca799da9a29": {
      "model_module": "jupyter-leaflet",
      "model_module_version": "^0.17.0",
      "model_name": "LeafletTileLayerModel",
      "state": {
       "_model_module_version": "^0.17.0",
       "_view_module_version": "^0.17.0",
       "attribution": "Map tiles by Stamen Design, CC BY 3.0 -- Map data (C) OpenStreetMap contributors",
       "max_zoom": 20,
       "name": "Stamen.TonerHybrid",
       "options": [
        "attribution",
        "bounds",
        "detect_retina",
        "max_native_zoom",
        "max_zoom",
        "min_native_zoom",
        "min_zoom",
        "no_wrap",
        "tile_size",
        "tms"
       ],
       "url": "https://stamen-tiles-a.a.ssl.fastly.net/toner-hybrid/{z}/{x}/{y}.png"
      }
     },
     "c7516c3c400b4f389fe57917b3b9cc1b": {
      "model_module": "@jupyter-widgets/controls",
      "model_module_version": "1.5.0",
      "model_name": "ButtonStyleModel",
      "state": {
       "button_color": "red"
      }
     },
     "c7cd30e3aaa640479d9932162a354306": {
      "model_module": "jupyter-leaflet",
      "model_module_version": "^0.17.0",
      "model_name": "LeafletTileLayerModel",
      "state": {
       "_model_module_version": "^0.17.0",
       "_view_module_version": "^0.17.0",
       "attribution": "Tiles courtesy of the U.S. Geological Survey",
       "max_zoom": 20,
       "name": "USGS.USImagery",
       "options": [
        "attribution",
        "bounds",
        "detect_retina",
        "max_native_zoom",
        "max_zoom",
        "min_native_zoom",
        "min_zoom",
        "no_wrap",
        "tile_size",
        "tms"
       ],
       "url": "https://basemap.nationalmap.gov/arcgis/rest/services/USGSImageryOnly/MapServer/tile/{z}/{y}/{x}"
      }
     },
     "c86ea98bd28145b28131ab68d813aeee": {
      "model_module": "@jupyter-widgets/controls",
      "model_module_version": "1.5.0",
      "model_name": "HTMLModel",
      "state": {
       "layout": "IPY_MODEL_b56035ef97c24a2eae2ac9648833f0c0",
       "style": "IPY_MODEL_90b2700ce7b447c28685ed2af53eee9a",
       "value": "<b>2. Select Images Button</b>         <br> - This will open a pop up window where the folder containing the jpgs can be selected.<br>             - The model will be applied to this folder and the model outputs will be generated within a subdirectory             called 'out'<br>      - <span style=\"background-color:yellow;color: black;\">WARNING :</span> You will not be able to see the files within the folder you select.<br>    "
      }
     },
     "c880c12aba024f8393b9a7914d683731": {
      "model_module": "@jupyter-widgets/controls",
      "model_module_version": "1.5.0",
      "model_name": "ButtonModel",
      "state": {
       "description": "Select Your Images",
       "layout": "IPY_MODEL_ce5da70b2bab4aed84db6fca36a0a6c0",
       "style": "IPY_MODEL_4aa0de9a5cfa47cc9e2f4cc3a42f1a8d"
      }
     },
     "c9beab8cacff48f6b5162ed8fa6a4fc0": {
      "model_module": "@jupyter-widgets/controls",
      "model_module_version": "1.5.0",
      "model_name": "FloatProgressModel",
      "state": {
       "bar_style": "danger",
       "layout": "IPY_MODEL_8dc5355c127045cbbe1ef7350dbb34c0",
       "max": 7,
       "style": "IPY_MODEL_e43a7d3d5d114b53be9edf4592bd75b0"
      }
     },
     "c9cc81e503de477884336bd344867269": {
      "model_module": "@jupyter-widgets/controls",
      "model_module_version": "1.5.0",
      "model_name": "HTMLModel",
      "state": {
       "layout": "IPY_MODEL_1496f889d8e242609fde22710e0ad276",
       "style": "IPY_MODEL_41dde9ea796f49d4bb998e1f7cdcd09d",
       "value": "<h2><b>Generate ROIs</b></h2>         Use the two sliders to control the size of the ROIs generated.<br>            <li> No Overlap: Set small slider to 0 and large slider to desired ROI size.</li>            <li>Overlap: Set small slider to a value and large slider to desired ROI size.</li>            <b>How it Works</b><br>             Two fishnets (grids) are created out of ROIs (squares) and placed <br>             within the bounding box.You control the size of the individual ROIs <br>             that compose the small and large fishnets.<br>            The ROIs are measured in meters squared."
      }
     },
     "cc11901b99a840de999a62a7970f5dc7": {
      "model_module": "@jupyter-widgets/controls",
      "model_module_version": "1.5.0",
      "model_name": "ToggleButtonModel",
      "state": {
       "button_style": "primary",
       "icon": "eraser",
       "layout": "IPY_MODEL_e485ff31d053404db92d8123802920db",
       "style": "IPY_MODEL_d6220429376147bab0a7545ea7eed49f",
       "tooltip": "Remove all drawn features"
      }
     },
     "cc75722bcb89449b84026cde2e95496a": {
      "model_module": "@jupyter-widgets/base",
      "model_module_version": "1.2.0",
      "model_name": "LayoutModel",
      "state": {
       "padding": "10px"
      }
     },
     "ccd3b620db27443aa4dc57e7225acc11": {
      "model_module": "jupyter-leaflet",
      "model_module_version": "^0.17.0",
      "model_name": "LeafletTileLayerModel",
      "state": {
       "_model_module_version": "^0.17.0",
       "_view_module_version": "^0.17.0",
       "attribution": "Map tiles by Stamen Design, CC BY 3.0 -- Map data (C) OpenStreetMap contributors",
       "max_zoom": 20,
       "name": "Stamen.TonerBackground",
       "options": [
        "attribution",
        "bounds",
        "detect_retina",
        "max_native_zoom",
        "max_zoom",
        "min_native_zoom",
        "min_zoom",
        "no_wrap",
        "tile_size",
        "tms"
       ],
       "url": "https://stamen-tiles-a.a.ssl.fastly.net/toner-background/{z}/{x}/{y}.png"
      }
     },
     "ccdec1ba038a4050bf8c082c628c3906": {
      "model_module": "jupyter-leaflet",
      "model_module_version": "^0.17.0",
      "model_name": "LeafletTileLayerModel",
      "state": {
       "_model_module_version": "^0.17.0",
       "_view_module_version": "^0.17.0",
       "attribution": "Kaartgegevens (C) Kadaster",
       "max_zoom": 19,
       "name": "nlmaps.standaard",
       "options": [
        "attribution",
        "bounds",
        "detect_retina",
        "max_native_zoom",
        "max_zoom",
        "min_native_zoom",
        "min_zoom",
        "no_wrap",
        "tile_size",
        "tms"
       ],
       "url": "https://service.pdok.nl/brt/achtergrondkaart/wmts/v2_0/standaard/EPSG:3857/{z}/{x}/{y}.png"
      }
     },
     "cce5f097aca34a1cae277840cd927543": {
      "model_module": "@jupyter-widgets/controls",
      "model_module_version": "1.5.0",
      "model_name": "DescriptionStyleModel",
      "state": {
       "description_width": ""
      }
     },
     "cd0386882c3d4ed3a7dd6bbdbc6cdc7f": {
      "model_module": "@jupyter-widgets/controls",
      "model_module_version": "1.5.0",
      "model_name": "DescriptionStyleModel",
      "state": {
       "description_width": ""
      }
     },
     "cd20c447b8ce45dab84ef6cb2136ae26": {
      "model_module": "@jupyter-widgets/base",
      "model_module_version": "1.2.0",
      "model_name": "LayoutModel",
      "state": {
       "height": "auto",
       "padding": "0px 0px 0px 4px",
       "width": "auto"
      }
     },
     "cdb374ee137441f89e90cad99fecc853": {
      "model_module": "jupyter-leaflet",
      "model_module_version": "^0.17.0",
      "model_name": "LeafletTileLayerModel",
      "state": {
       "_model_module_version": "^0.17.0",
       "_view_module_version": "^0.17.0",
       "attribution": "Imagery provided by services from the Global Imagery Browse Services (GIBS), operated by the NASA/GSFC/Earth Science Data and Information System (ESDIS) with funding provided by NASA/HQ.",
       "max_zoom": 9,
       "name": "NASAGIBS.ModisTerraBands367CR",
       "options": [
        "attribution",
        "bounds",
        "detect_retina",
        "max_native_zoom",
        "max_zoom",
        "min_native_zoom",
        "min_zoom",
        "no_wrap",
        "tile_size",
        "tms"
       ],
       "url": "https://map1.vis.earthdata.nasa.gov/wmts-webmerc/MODIS_Terra_CorrectedReflectance_Bands367/default//GoogleMapsCompatible_Level9/{z}/{y}/{x}.jpg"
      }
     },
     "ce30a2588774451f9576258c1fc2a152": {
      "model_module": "@jupyter-widgets/base",
      "model_module_version": "1.2.0",
      "model_name": "LayoutModel",
      "state": {}
     },
     "ce5da70b2bab4aed84db6fca36a0a6c0": {
      "model_module": "@jupyter-widgets/base",
      "model_module_version": "1.2.0",
      "model_name": "LayoutModel",
      "state": {}
     },
     "cf0bbd0fb0ba4c88bf3c450f3dab757d": {
      "model_module": "@jupyter-widgets/controls",
      "model_module_version": "1.5.0",
      "model_name": "SliderStyleModel",
      "state": {
       "description_width": "initial"
      }
     },
     "cfb065a9fc514deda29de469046eab5c": {
      "model_module": "@jupyter-widgets/base",
      "model_module_version": "1.2.0",
      "model_name": "LayoutModel",
      "state": {}
     },
     "cfffc5de19de4189a08a99bd4e59a890": {
      "model_module": "jupyter-leaflet",
      "model_module_version": "^0.17.0",
      "model_name": "LeafletWMSLayerModel",
      "state": {
       "_model_module_version": "^0.17.0",
       "_view_module_version": "^0.17.0",
       "attribution": "USGS",
       "crs": {
        "custom": false,
        "name": "EPSG3857"
       },
       "format": "image/png",
       "layers": "0",
       "name": "USGS Hydrography",
       "options": [
        "attribution",
        "bounds",
        "detect_retina",
        "format",
        "layers",
        "max_native_zoom",
        "max_zoom",
        "min_native_zoom",
        "min_zoom",
        "no_wrap",
        "styles",
        "tile_size",
        "tms",
        "transparent",
        "uppercase"
       ],
       "transparent": true,
       "url": "https://basemap.nationalmap.gov/arcgis/services/USGSHydroCached/MapServer/WMSServer?"
      }
     },
     "d138e7a6f8424304ac5730ff0f3c6c34": {
      "model_module": "@jupyter-widgets/controls",
      "model_module_version": "1.5.0",
      "model_name": "ToggleButtonModel",
      "state": {
       "button_style": "primary",
       "icon": "table",
       "layout": "IPY_MODEL_4570a421070b4b9582380239f07e5010",
       "style": "IPY_MODEL_f21fbd8ab80a42cf9c58ac1e6b5b820b",
       "tooltip": "Open attribute table"
      }
     },
     "d15e0add82a2402b8ef9b31a68961355": {
      "model_module": "jupyter-leaflet",
      "model_module_version": "^0.17.0",
      "model_name": "LeafletTileLayerModel",
      "state": {
       "_model_module_version": "^0.17.0",
       "_view_module_version": "^0.17.0",
       "attribution": "Tiles (C) Esri -- Source: Esri, i-cubed, USDA, USGS, AEX, GeoEye, Getmapping, Aerogrid, IGN, IGP, UPR-EGP, and the GIS User Community",
       "max_zoom": 22,
       "name": "Esri.WorldImagery",
       "options": [
        "attribution",
        "bounds",
        "detect_retina",
        "max_native_zoom",
        "max_zoom",
        "min_native_zoom",
        "min_zoom",
        "no_wrap",
        "tile_size",
        "tms"
       ],
       "url": "https://server.arcgisonline.com/ArcGIS/rest/services/World_Imagery/MapServer/tile/{z}/{y}/{x}"
      }
     },
     "d3158ed062f84521b634b2e5c8074345": {
      "model_module": "jupyter-leaflet",
      "model_module_version": "^0.17.0",
      "model_name": "LeafletTileLayerModel",
      "state": {
       "_model_module_version": "^0.17.0",
       "_view_module_version": "^0.17.0",
       "attribution": "(C) Stadia Maps, (C) OpenMapTiles (C) OpenStreetMap contributors",
       "max_zoom": 20,
       "name": "Stadia.OSMBright",
       "options": [
        "attribution",
        "bounds",
        "detect_retina",
        "max_native_zoom",
        "max_zoom",
        "min_native_zoom",
        "min_zoom",
        "no_wrap",
        "tile_size",
        "tms"
       ],
       "url": "https://tiles.stadiamaps.com/tiles/osm_bright/{z}/{x}/{y}.png"
      }
     },
     "d370ab43be8c4544b659a87086304d7c": {
      "model_module": "@jupyter-widgets/controls",
      "model_module_version": "1.5.0",
      "model_name": "VBoxModel",
      "state": {
       "children": [
        "IPY_MODEL_fd43d46abc02494587fd2b0dbf0e56d5",
        "IPY_MODEL_7447cae2ac9e4d6783b0ef2324893ce2",
        "IPY_MODEL_dd5b7aed2cf541edb79665c6011ffe34",
        "IPY_MODEL_c86ea98bd28145b28131ab68d813aeee",
        "IPY_MODEL_eac056341d73472f9dbe9e9c19647e0d"
       ],
       "layout": "IPY_MODEL_7118482ce80c43a89c5e1328dbf0f5cc"
      }
     },
     "d3d7317e08e14d12aec52f9c2b367042": {
      "model_module": "@jupyter-widgets/controls",
      "model_module_version": "1.5.0",
      "model_name": "ToggleButtonModel",
      "state": {
       "button_style": "primary",
       "icon": "globe",
       "layout": "IPY_MODEL_8916c86d36144834bb94b0b610005548",
       "style": "IPY_MODEL_0e548679eb7142938c5e23d2bc387700",
       "tooltip": "Split-panel map"
      }
     },
     "d520acd334d6406e98aed0a7e8f70834": {
      "model_module": "jupyter-leaflet",
      "model_module_version": "^0.17.0",
      "model_name": "LeafletTileLayerModel",
      "state": {
       "_model_module_version": "^0.17.0",
       "_view_module_version": "^0.17.0",
       "attribution": "Imagery provided by services from the Global Imagery Browse Services (GIBS), operated by the NASA/GSFC/Earth Science Data and Information System (ESDIS) with funding provided by NASA/HQ.",
       "max_zoom": 5,
       "name": "NASAGIBS.BlueMarble3413",
       "options": [
        "attribution",
        "bounds",
        "detect_retina",
        "max_native_zoom",
        "max_zoom",
        "min_native_zoom",
        "min_zoom",
        "no_wrap",
        "tile_size",
        "tms"
       ],
       "url": "https://gibs.earthdata.nasa.gov/wmts/epsg3413/best/BlueMarble_NextGeneration/default/EPSG3413_500m/{z}/{y}/{x}.jpeg"
      }
     },
     "d6220429376147bab0a7545ea7eed49f": {
      "model_module": "@jupyter-widgets/controls",
      "model_module_version": "1.5.0",
      "model_name": "DescriptionStyleModel",
      "state": {
       "description_width": ""
      }
     },
     "d642d9e8fec54740bf8fd30aee611f54": {
      "model_module": "@jupyter-widgets/base",
      "model_module_version": "1.2.0",
      "model_name": "LayoutModel",
      "state": {
       "padding": "10px"
      }
     },
     "d6727d6022a54a678c89df398f3f505b": {
      "model_module": "@jupyter-widgets/base",
      "model_module_version": "1.2.0",
      "model_name": "LayoutModel",
      "state": {
       "height": "auto",
       "padding": "0px 0px 0px 4px",
       "width": "auto"
      }
     },
     "d681c4cd60bf4264a1307eaf6df34546": {
      "model_module": "@jupyter-widgets/base",
      "model_module_version": "1.2.0",
      "model_name": "LayoutModel",
      "state": {
       "border": "1px solid black"
      }
     },
     "d6e129e294aa44028382d20dcc8aafe4": {
      "model_module": "jupyter-leaflet",
      "model_module_version": "^0.17.0",
      "model_name": "LeafletAttributionControlModel",
      "state": {
       "_model_module_version": "^0.17.0",
       "_view_module_version": "^0.17.0",
       "options": [
        "position",
        "prefix"
       ],
       "position": "bottomright",
       "prefix": "ipyleaflet"
      }
     },
     "d6e13ea60c9e482ea4240640eb5e0de5": {
      "model_module": "jupyter-leaflet",
      "model_module_version": "^0.17.0",
      "model_name": "LeafletTileLayerModel",
      "state": {
       "_model_module_version": "^0.17.0",
       "_view_module_version": "^0.17.0",
       "attribution": "![](https://docs.onemap.sg/maps/images/oneMap64-01.png) New OneMap | Map data (C) contributors, Singapore Land Authority",
       "name": "OneMapSG.Grey",
       "options": [
        "attribution",
        "bounds",
        "detect_retina",
        "max_native_zoom",
        "max_zoom",
        "min_native_zoom",
        "min_zoom",
        "no_wrap",
        "tile_size",
        "tms"
       ],
       "url": "https://maps-a.onemap.sg/v3/Grey/{z}/{x}/{y}.png"
      }
     },
     "d7686073a76d4c7191c244ffb74cbb15": {
      "model_module": "jupyter-leaflet",
      "model_module_version": "^0.17.0",
      "model_name": "LeafletTileLayerModel",
      "state": {
       "_model_module_version": "^0.17.0",
       "_view_module_version": "^0.17.0",
       "attribution": "Google",
       "max_zoom": 22,
       "name": "Google Satellite",
       "options": [
        "attribution",
        "bounds",
        "detect_retina",
        "max_native_zoom",
        "max_zoom",
        "min_native_zoom",
        "min_zoom",
        "no_wrap",
        "tile_size",
        "tms"
       ],
       "url": "https://mt1.google.com/vt/lyrs=y&x={x}&y={y}&z={z}"
      }
     },
     "d7a908417f3c465ba562f9201e7b1f70": {
      "model_module": "jupyter-leaflet",
      "model_module_version": "^0.17.0",
      "model_name": "LeafletTileLayerModel",
      "state": {
       "_model_module_version": "^0.17.0",
       "_view_module_version": "^0.17.0",
       "attribution": "Map tiles by Stamen Design, CC BY 3.0 -- Map data (C) OpenStreetMap contributors",
       "name": "Stamen.TerrainLabels",
       "options": [
        "attribution",
        "bounds",
        "detect_retina",
        "max_native_zoom",
        "max_zoom",
        "min_native_zoom",
        "min_zoom",
        "no_wrap",
        "tile_size",
        "tms"
       ],
       "url": "https://stamen-tiles-a.a.ssl.fastly.net/terrain-labels/{z}/{x}/{y}.png"
      }
     },
     "d871aaa2dfb540a8b99651c118b135bd": {
      "model_module": "jupyter-leaflet",
      "model_module_version": "^0.17.0",
      "model_name": "LeafletTileLayerModel",
      "state": {
       "_model_module_version": "^0.17.0",
       "_view_module_version": "^0.17.0",
       "attribution": "Imagery provided by services from the Global Imagery Browse Services (GIBS), operated by the NASA/GSFC/Earth Science Data and Information System (ESDIS) with funding provided by NASA/HQ.",
       "max_zoom": 6,
       "name": "NASAGIBS.ModisTerraAOD",
       "options": [
        "attribution",
        "bounds",
        "detect_retina",
        "max_native_zoom",
        "max_zoom",
        "min_native_zoom",
        "min_zoom",
        "no_wrap",
        "tile_size",
        "tms"
       ],
       "url": "https://map1.vis.earthdata.nasa.gov/wmts-webmerc/MODIS_Terra_Aerosol/default//GoogleMapsCompatible_Level6/{z}/{y}/{x}.png"
      }
     },
     "d8c6b0f681e14f2ea3b3c20913b75591": {
      "model_module": "@jupyter-widgets/controls",
      "model_module_version": "1.5.0",
      "model_name": "ButtonModel",
      "state": {
       "description": "Remove bbox",
       "layout": "IPY_MODEL_4784851e2aea4eac9b287f407d0ca30a",
       "style": "IPY_MODEL_9495fbb6c7eb4926aa61fae0e5beeaed"
      }
     },
     "d9e83c98a07e43cc86ab54f6a1cc79f4": {
      "model_module": "jupyter-leaflet",
      "model_module_version": "^0.17.0",
      "model_name": "LeafletTileLayerModel",
      "state": {
       "_model_module_version": "^0.17.0",
       "_view_module_version": "^0.17.0",
       "attribution": "Tiles (C) Esri -- Esri, DeLorme, NAVTEQ",
       "max_zoom": 16,
       "name": "Esri.WorldGrayCanvas",
       "options": [
        "attribution",
        "bounds",
        "detect_retina",
        "max_native_zoom",
        "max_zoom",
        "min_native_zoom",
        "min_zoom",
        "no_wrap",
        "tile_size",
        "tms"
       ],
       "url": "https://server.arcgisonline.com/ArcGIS/rest/services/Canvas/World_Light_Gray_Base/MapServer/tile/{z}/{y}/{x}"
      }
     },
     "da1f94a37de04cea96cbb22680a5da5a": {
      "model_module": "jupyter-leaflet",
      "model_module_version": "^0.17.0",
      "model_name": "LeafletWMSLayerModel",
      "state": {
       "_model_module_version": "^0.17.0",
       "_view_module_version": "^0.17.0",
       "attribution": "MRLC",
       "crs": {
        "custom": false,
        "name": "EPSG3857"
       },
       "format": "image/png",
       "layers": "NLCD_2001_Land_Cover_L48",
       "name": "NLCD 2001 CONUS Land Cover",
       "options": [
        "attribution",
        "bounds",
        "detect_retina",
        "format",
        "layers",
        "max_native_zoom",
        "max_zoom",
        "min_native_zoom",
        "min_zoom",
        "no_wrap",
        "styles",
        "tile_size",
        "tms",
        "transparent",
        "uppercase"
       ],
       "transparent": true,
       "url": "https://www.mrlc.gov/geoserver/mrlc_display/NLCD_2001_Land_Cover_L48/wms?"
      }
     },
     "da96dc8cf7c54eca8e10c73b3e76c397": {
      "model_module": "jupyter-leaflet",
      "model_module_version": "^0.17.0",
      "model_name": "LeafletTileLayerModel",
      "state": {
       "_model_module_version": "^0.17.0",
       "_view_module_version": "^0.17.0",
       "attribution": "Earthstar Geographics",
       "max_zoom": 24,
       "name": "Esri.AntarcticImagery",
       "options": [
        "attribution",
        "bounds",
        "detect_retina",
        "max_native_zoom",
        "max_zoom",
        "min_native_zoom",
        "min_zoom",
        "no_wrap",
        "tile_size",
        "tms"
       ],
       "url": "http://server.arcgisonline.com/ArcGIS/rest/services/Polar/Antarctic_Imagery/MapServer/tile/{z}/{y}/{x}"
      }
     },
     "da9daae3db5f4a89b7f1f300b9696b58": {
      "model_module": "jupyter-leaflet",
      "model_module_version": "^0.17.0",
      "model_name": "LeafletMapStyleModel",
      "state": {
       "_model_module_version": "^0.17.0",
       "cursor": "move"
      }
     },
     "dab97e10e3984685bd83b328f2bac6a0": {
      "model_module": "@jupyter-widgets/controls",
      "model_module_version": "1.5.0",
      "model_name": "ProgressStyleModel",
      "state": {
       "description_width": ""
      }
     },
     "db5f0440f6dd4ca0818c7789c0bb062c": {
      "model_module": "jupyter-leaflet",
      "model_module_version": "^0.17.0",
      "model_name": "LeafletWMSLayerModel",
      "state": {
       "_model_module_version": "^0.17.0",
       "_view_module_version": "^0.17.0",
       "attribution": "MRLC",
       "crs": {
        "custom": false,
        "name": "EPSG3857"
       },
       "format": "image/png",
       "layers": "NLCD_2006_Land_Cover_L48",
       "name": "NLCD 2006 CONUS Land Cover",
       "options": [
        "attribution",
        "bounds",
        "detect_retina",
        "format",
        "layers",
        "max_native_zoom",
        "max_zoom",
        "min_native_zoom",
        "min_zoom",
        "no_wrap",
        "styles",
        "tile_size",
        "tms",
        "transparent",
        "uppercase"
       ],
       "transparent": true,
       "url": "https://www.mrlc.gov/geoserver/mrlc_display/NLCD_2006_Land_Cover_L48/wms?"
      }
     },
     "db8f2a473bde4d1cb9034e24c045af40": {
      "model_module": "ipyevents",
      "model_module_version": "2.0.1",
      "model_name": "EventModel",
      "state": {
       "_supported_key_events": [
        "keydown",
        "keyup"
       ],
       "_supported_mouse_events": [
        "click",
        "auxclick",
        "dblclick",
        "mouseenter",
        "mouseleave",
        "mousedown",
        "mouseup",
        "mousemove",
        "wheel",
        "contextmenu",
        "dragstart",
        "drag",
        "dragend",
        "dragenter",
        "dragover",
        "dragleave",
        "drop"
       ],
       "_supported_touch_events": [
        "touchstart",
        "touchend",
        "touchmove",
        "touchcancel"
       ],
       "_view_module": "@jupyter-widgets/controls",
       "_view_module_version": "1.5.0",
       "source": "IPY_MODEL_0470a18784574e7d99cc159edfcbfe36",
       "throttle_or_debounce": "",
       "watched_events": [
        "mouseenter",
        "mouseleave"
       ],
       "xy_coordinate_system": ""
      }
     },
     "dbd2d9bcfc464ae6a6d9c7a1cc2f4a2c": {
      "model_module": "jupyter-leaflet",
      "model_module_version": "^0.17.0",
      "model_name": "LeafletTileLayerModel",
      "state": {
       "_model_module_version": "^0.17.0",
       "_view_module_version": "^0.17.0",
       "attribution": "Google",
       "max_zoom": 22,
       "name": "Google Satellite",
       "options": [
        "attribution",
        "bounds",
        "detect_retina",
        "max_native_zoom",
        "max_zoom",
        "min_native_zoom",
        "min_zoom",
        "no_wrap",
        "tile_size",
        "tms"
       ],
       "url": "https://mt1.google.com/vt/lyrs=s&x={x}&y={y}&z={z}"
      }
     },
     "dbe7eafe8de84f3a8d65d48844d85fe1": {
      "model_module": "@jupyter-widgets/controls",
      "model_module_version": "1.5.0",
      "model_name": "ButtonModel",
      "state": {
       "description": "Load rois from file",
       "layout": "IPY_MODEL_cfb065a9fc514deda29de469046eab5c",
       "style": "IPY_MODEL_433c6746535245d9add9a2f7345df2aa"
      }
     },
     "dc3726a651bf498b8aa04783b1fc78fa": {
      "model_module": "@jupyter-widgets/controls",
      "model_module_version": "1.5.0",
      "model_name": "HTMLModel",
      "state": {
       "layout": "IPY_MODEL_19ca1ef1e97d4341beb9406a514948d5",
       "style": "IPY_MODEL_4a12969459ad495980556ed5da02a498",
       "value": "<b>Pick a collection</b>        <br> C01: LandSat Collection 1         <br> C02: LandSat Collection 2  [2022/01/01 and beyond]         <br>      - Landsat 9 is only available in C02"
      }
     },
     "dc53a44a9a0b46158333de680c610f0f": {
      "model_module": "@jupyter-widgets/controls",
      "model_module_version": "1.5.0",
      "model_name": "DescriptionStyleModel",
      "state": {
       "description_width": ""
      }
     },
     "dcd4dbea839c4e478093feab82d86bbd": {
      "model_module": "@jupyter-widgets/controls",
      "model_module_version": "1.5.0",
      "model_name": "DescriptionStyleModel",
      "state": {
       "description_width": ""
      }
     },
     "dd0cc894c8ac4401a43d1a1ed2745fe9": {
      "model_module": "@jupyter-widgets/base",
      "model_module_version": "1.2.0",
      "model_name": "LayoutModel",
      "state": {}
     },
     "dd144757f0954841a19f1fe8cec41cd5": {
      "model_module": "jupyter-leaflet",
      "model_module_version": "^0.17.0",
      "model_name": "LeafletTileLayerModel",
      "state": {
       "_model_module_version": "^0.17.0",
       "_view_module_version": "^0.17.0",
       "attribution": "Map memomaps.de CC-BY-SA, map data (C) OpenStreetMap contributors",
       "name": "OPNVKarte",
       "options": [
        "attribution",
        "bounds",
        "detect_retina",
        "max_native_zoom",
        "max_zoom",
        "min_native_zoom",
        "min_zoom",
        "no_wrap",
        "tile_size",
        "tms"
       ],
       "url": "https://tileserver.memomaps.de/tilegen/{z}/{x}/{y}.png"
      }
     },
     "dd4dfa9420194753b185f0995dae2764": {
      "model_module": "@jupyter-widgets/controls",
      "model_module_version": "1.5.0",
      "model_name": "DescriptionStyleModel",
      "state": {
       "description_width": ""
      }
     },
     "dd51f9b300454cb586c9f9795099288c": {
      "model_module": "jupyter-leaflet",
      "model_module_version": "^0.17.0",
      "model_name": "LeafletTileLayerModel",
      "state": {
       "_model_module_version": "^0.17.0",
       "_view_module_version": "^0.17.0",
       "attribution": "Map data: (C) OpenStreetMap contributors | Map style: (C) waymarkedtrails.org (CC-BY-SA)",
       "name": "WaymarkedTrails.skating",
       "options": [
        "attribution",
        "bounds",
        "detect_retina",
        "max_native_zoom",
        "max_zoom",
        "min_native_zoom",
        "min_zoom",
        "no_wrap",
        "tile_size",
        "tms"
       ],
       "url": "https://tile.waymarkedtrails.org/skating/{z}/{x}/{y}.png"
      }
     },
     "dd5b7aed2cf541edb79665c6011ffe34": {
      "model_module": "@jupyter-widgets/controls",
      "model_module_version": "1.5.0",
      "model_name": "HTMLModel",
      "state": {
       "layout": "IPY_MODEL_0075186a57994ba29e9d95c03f61c8b1",
       "style": "IPY_MODEL_e61dd6765bfd42aa832c434d3e5a3354",
       "value": "<b>1. Use Data Folder Button</b>         <br> - When CoastSat downloads imagery it created a folder called 'data'in the CoastSeg directory.            The jpgs within the 'data' folder will be copied to another folder with a name such as            <span style=\"background-color:LightGray;color: black;\">segmentation_data_2022-07-07__10_hr_04_min58 </span>            (the date and time will be the current date and time) <br>            The model will be applied to this folder and the model outputs will be generated within a subdirectory             called 'out'"
      }
     },
     "ddc48a500d264cd0af739ba7b91deea0": {
      "model_module": "jupyter-leaflet",
      "model_module_version": "^0.17.0",
      "model_name": "LeafletMapStyleModel",
      "state": {
       "_model_module_version": "^0.17.0",
       "cursor": "wait"
      }
     },
     "dea6bd47440c450285ed3aa21ed63d2a": {
      "model_module": "jupyter-leaflet",
      "model_module_version": "^0.17.0",
      "model_name": "LeafletWMSLayerModel",
      "state": {
       "_model_module_version": "^0.17.0",
       "_view_module_version": "^0.17.0",
       "attribution": "MRLC",
       "crs": {
        "custom": false,
        "name": "EPSG3857"
       },
       "format": "image/png",
       "layers": "NLCD_2019_Land_Cover_L48",
       "name": "NLCD 2019 CONUS Land Cover",
       "options": [
        "attribution",
        "bounds",
        "detect_retina",
        "format",
        "layers",
        "max_native_zoom",
        "max_zoom",
        "min_native_zoom",
        "min_zoom",
        "no_wrap",
        "styles",
        "tile_size",
        "tms",
        "transparent",
        "uppercase"
       ],
       "transparent": true,
       "url": "https://www.mrlc.gov/geoserver/mrlc_display/NLCD_2019_Land_Cover_L48/wms?"
      }
     },
     "dea6fa5906924120856eb7389fc6693b": {
      "model_module": "@jupyter-widgets/controls",
      "model_module_version": "1.5.0",
      "model_name": "ButtonModel",
      "state": {
       "description": "Run Model",
       "layout": "IPY_MODEL_502d60ae96d7421f88952446d7192047",
       "style": "IPY_MODEL_ff6c2f70584f44649958cc5211718aaa"
      }
     },
     "e019ec33bbc44c5d969dcc3f5dcbf19c": {
      "model_module": "@jupyter-widgets/controls",
      "model_module_version": "1.5.0",
      "model_name": "HTMLModel",
      "state": {
       "layout": "IPY_MODEL_8caed59eaf4646879d5acfbb8ca49959",
       "style": "IPY_MODEL_bfdf5294e0ce45efa0a18d41d0112375",
       "value": "<h4>Click ONE of the following buttons:</h4>"
      }
     },
     "e10100c9510f42aabd593c4a0c3a3499": {
      "model_module": "jupyter-leaflet",
      "model_module_version": "^0.17.0",
      "model_name": "LeafletTileLayerModel",
      "state": {
       "_model_module_version": "^0.17.0",
       "_view_module_version": "^0.17.0",
       "attribution": "© swisstopo",
       "max_zoom": 19,
       "name": "SwissFederalGeoportal.SWISSIMAGE",
       "options": [
        "attribution",
        "bounds",
        "detect_retina",
        "max_native_zoom",
        "max_zoom",
        "min_native_zoom",
        "min_zoom",
        "no_wrap",
        "tile_size",
        "tms"
       ],
       "url": "https://wmts.geo.admin.ch/1.0.0/ch.swisstopo.swissimage/default/current/3857/{z}/{x}/{y}.jpeg"
      }
     },
     "e11988b2cff943769b635322ed5253e7": {
      "model_module": "jupyter-leaflet",
      "model_module_version": "^0.17.0",
      "model_name": "LeafletTileLayerModel",
      "state": {
       "_model_module_version": "^0.17.0",
       "_view_module_version": "^0.17.0",
       "attribution": "Map data: (C) OpenStreetMap contributors | Map style: (C) SafeCast (CC-BY-SA)",
       "max_zoom": 16,
       "name": "SafeCast",
       "options": [
        "attribution",
        "bounds",
        "detect_retina",
        "max_native_zoom",
        "max_zoom",
        "min_native_zoom",
        "min_zoom",
        "no_wrap",
        "tile_size",
        "tms"
       ],
       "url": "https://s3.amazonaws.com/te512.safecast.org/{z}/{x}/{y}.png"
      }
     },
     "e16141116d1d43beaeafbe713107bb97": {
      "model_module": "@jupyter-widgets/output",
      "model_module_version": "1.0.0",
      "model_name": "OutputModel",
      "state": {
       "layout": "IPY_MODEL_7e2d88e921fe4ab090440402021efa79",
       "outputs": [
        {
         "name": "stdout",
         "output_type": "stream",
         "text": "Using CRF post-processing\n"
        }
       ]
      }
     },
     "e3353efc5685457d9056099621ab324e": {
      "model_module": "@jupyter-widgets/controls",
      "model_module_version": "1.5.0",
      "model_name": "RadioButtonsModel",
      "state": {
       "_options_labels": [
        "ENSEMBLE",
        "BEST"
       ],
       "description": "Select:",
       "index": 0,
       "layout": "IPY_MODEL_60113091cdee43c59cc437690e5a482a",
       "style": "IPY_MODEL_7323e3945b4b4de680cc407fc8e70bb5"
      }
     },
     "e40090d5156a493781dfb40fd20868bc": {
      "model_module": "@jupyter-widgets/base",
      "model_module_version": "1.2.0",
      "model_name": "LayoutModel",
      "state": {}
     },
     "e43a7d3d5d114b53be9edf4592bd75b0": {
      "model_module": "@jupyter-widgets/controls",
      "model_module_version": "1.5.0",
      "model_name": "ProgressStyleModel",
      "state": {
       "description_width": ""
      }
     },
     "e485ff31d053404db92d8123802920db": {
      "model_module": "@jupyter-widgets/base",
      "model_module_version": "1.2.0",
      "model_name": "LayoutModel",
      "state": {
       "height": "auto",
       "padding": "0px 0px 0px 4px",
       "width": "auto"
      }
     },
     "e496da4a00264638a3aafbb128b553b4": {
      "model_module": "@jupyter-widgets/base",
      "model_module_version": "1.2.0",
      "model_name": "LayoutModel",
      "state": {
       "height": "auto",
       "padding": "0px 0px 0px 4px",
       "width": "auto"
      }
     },
     "e51239c891924387b27732e62747a595": {
      "model_module": "@jupyter-widgets/base",
      "model_module_version": "1.2.0",
      "model_name": "LayoutModel",
      "state": {}
     },
     "e513520c36cc4cca92820debd47e79ab": {
      "model_module": "@jupyter-widgets/controls",
      "model_module_version": "1.5.0",
      "model_name": "ProgressStyleModel",
      "state": {
       "description_width": ""
      }
     },
     "e5f709bb7601480c86dab0385e829785": {
      "model_module": "@jupyter-widgets/controls",
      "model_module_version": "1.5.0",
      "model_name": "HBoxModel",
      "state": {
       "children": [
        "IPY_MODEL_02596c259cd54836b1f44641a97a2d3f",
        "IPY_MODEL_fcc9ae391b054ec5b1c46aefbaf7b810"
       ],
       "layout": "IPY_MODEL_e51239c891924387b27732e62747a595"
      }
     },
     "e61dd6765bfd42aa832c434d3e5a3354": {
      "model_module": "@jupyter-widgets/controls",
      "model_module_version": "1.5.0",
      "model_name": "DescriptionStyleModel",
      "state": {
       "description_width": ""
      }
     },
     "e7d7ae5eb1374009aae981e5dc61d8c5": {
      "model_module": "jupyter-leaflet",
      "model_module_version": "^0.17.0",
      "model_name": "LeafletMapStyleModel",
      "state": {
       "_model_module_version": "^0.17.0",
       "cursor": "wait"
      }
     },
     "e857a2f42bc3421d9d135f6b0fff9c9e": {
      "model_module": "@jupyter-widgets/base",
      "model_module_version": "1.2.0",
      "model_name": "LayoutModel",
      "state": {}
     },
     "e87c9a30892a4616aa493462bfb9a069": {
      "model_module": "@jupyter-widgets/controls",
      "model_module_version": "1.5.0",
      "model_name": "DescriptionStyleModel",
      "state": {
       "description_width": ""
      }
     },
     "e9d4e34ec04145e095c8cf4640c1abf9": {
      "model_module": "@jupyter-widgets/output",
      "model_module_version": "1.0.0",
      "model_name": "OutputModel",
      "state": {
       "layout": "IPY_MODEL_9e996227ae3d40cb9ed8bd1842f8b9dc",
       "outputs": [
        {
         "name": "stdout",
         "output_type": "stream",
         "text": "Loading in the jpgs from the data directory\n\nCopied files that matched C:\\1_USGS\\CoastSeg\\repos\\2_CoastSeg\\CoastSeg_fork\\Seg2Map\\data\\**\\\\**\\preprocessed\\RGB\\*.jpg  \nto C:\\1_USGS\\CoastSeg\\repos\\2_CoastSeg\\CoastSeg_fork\\Seg2Map\\segmentation_data_2022-09-07__12_hr_13_min46\n\nContents of the data directory saved in C:\\1_USGS\\CoastSeg\\repos\\2_CoastSeg\\CoastSeg_fork\\Seg2Map\\segmentation_data_2022-09-07__12_hr_13_min46\n"
        }
       ]
      }
     },
     "ea268404f9f146dfa736c5c6f5f6a6fc": {
      "model_module": "jupyter-leaflet",
      "model_module_version": "^0.17.0",
      "model_name": "LeafletTileLayerModel",
      "state": {
       "_model_module_version": "^0.17.0",
       "_view_module_version": "^0.17.0",
       "attribution": "Justice Map",
       "max_zoom": 22,
       "name": "JusticeMap.hispanic",
       "options": [
        "attribution",
        "bounds",
        "detect_retina",
        "max_native_zoom",
        "max_zoom",
        "min_native_zoom",
        "min_zoom",
        "no_wrap",
        "tile_size",
        "tms"
       ],
       "url": "https://www.justicemap.org/tile/county/hispanic/{z}/{x}/{y}.png"
      }
     },
     "ea2b78c199bd4f3c8f7219f96c2445a9": {
      "model_module": "jupyter-leaflet",
      "model_module_version": "^0.17.0",
      "model_name": "LeafletTileLayerModel",
      "state": {
       "_model_module_version": "^0.17.0",
       "_view_module_version": "^0.17.0",
       "attribution": "(C) OpenStreetMap contributors (C) CARTO",
       "max_zoom": 20,
       "name": "CartoDB.PositronOnlyLabels",
       "options": [
        "attribution",
        "bounds",
        "detect_retina",
        "max_native_zoom",
        "max_zoom",
        "min_native_zoom",
        "min_zoom",
        "no_wrap",
        "tile_size",
        "tms"
       ],
       "url": "https://a.basemaps.cartocdn.com/light_only_labels/{z}/{x}/{y}.png"
      }
     },
     "eac056341d73472f9dbe9e9c19647e0d": {
      "model_module": "@jupyter-widgets/controls",
      "model_module_version": "1.5.0",
      "model_name": "HTMLModel",
      "state": {
       "layout": "IPY_MODEL_ed4124fceb104d8790927530a09d9fd0",
       "style": "IPY_MODEL_606a4c1b68bd4ffbbcc94e987d82a5b4",
       "value": "<b>3. Run Model Button</b>         <br> - Make sure to click Select Images Button or Use Data Button.<br>             - The model will be applied to the selected folder and the model outputs will be generated within a subdirectory             called 'out'<br>      - <span style=\"background-color:yellow;color: black;\">WARNING :</span> You should not run multiple models on the same folder. Otherwise not all the model outputs      will be saved to the folder.<br>    "
      }
     },
     "eae2f5389d374b2dbce5f7b935ef8d8e": {
      "model_module": "@jupyter-widgets/controls",
      "model_module_version": "1.5.0",
      "model_name": "ButtonModel",
      "state": {
       "description": "Load bbox from file",
       "layout": "IPY_MODEL_a8a8f2fffa8948a79a7e506517e78ed3",
       "style": "IPY_MODEL_4384f95fc59c4e28b77d1729ae70b00e"
      }
     },
     "eafcda2bc9514897bf813578239b6b49": {
      "model_module": "@jupyter-widgets/controls",
      "model_module_version": "1.5.0",
      "model_name": "DescriptionStyleModel",
      "state": {
       "description_width": ""
      }
     },
     "eb802e4b59d14a4aaa4f7b2e9a3e2727": {
      "model_module": "@jupyter-widgets/base",
      "model_module_version": "1.2.0",
      "model_name": "LayoutModel",
      "state": {}
     },
     "eba72ec444164377ace523a4fc4dda96": {
      "model_module": "jupyter-leaflet",
      "model_module_version": "^0.17.0",
      "model_name": "LeafletTileLayerModel",
      "state": {
       "_model_module_version": "^0.17.0",
       "_view_module_version": "^0.17.0",
       "attribution": "Justice Map",
       "max_zoom": 22,
       "name": "JusticeMap.asian",
       "options": [
        "attribution",
        "bounds",
        "detect_retina",
        "max_native_zoom",
        "max_zoom",
        "min_native_zoom",
        "min_zoom",
        "no_wrap",
        "tile_size",
        "tms"
       ],
       "url": "https://www.justicemap.org/tile/county/asian/{z}/{x}/{y}.png"
      }
     },
     "ec29fbe63d5446139aaa674cee56defc": {
      "model_module": "@jupyter-widgets/base",
      "model_module_version": "1.2.0",
      "model_name": "LayoutModel",
      "state": {}
     },
     "ec7615d483dd46c3a6b360fb06a9ba24": {
      "model_module": "@jupyter-widgets/controls",
      "model_module_version": "1.5.0",
      "model_name": "ToggleButtonModel",
      "state": {
       "button_style": "primary",
       "icon": "search-plus",
       "layout": "IPY_MODEL_108a892c28744896bfb6f748a1b73099",
       "style": "IPY_MODEL_6d63ffdda3ec4c9aa44b02d4f11f6cd3",
       "tooltip": "Search features in GeoJSON layer"
      }
     },
     "ec7eab4abb1b432fa2f15165f5a0224f": {
      "model_module": "@jupyter-widgets/base",
      "model_module_version": "1.2.0",
      "model_name": "LayoutModel",
      "state": {
       "margin": "0px 0px 0px 0px"
      }
     },
     "ed4124fceb104d8790927530a09d9fd0": {
      "model_module": "@jupyter-widgets/base",
      "model_module_version": "1.2.0",
      "model_name": "LayoutModel",
      "state": {
       "margin": "0px 0px 0px 20px"
      }
     },
     "eda9041cf91b42eabec57574c5efa0fa": {
      "model_module": "@jupyter-widgets/controls",
      "model_module_version": "1.5.0",
      "model_name": "ButtonStyleModel",
      "state": {
       "button_color": "#69add1"
      }
     },
     "eea93dae13304277a52384cad9d27663": {
      "model_module": "jupyter-leaflet",
      "model_module_version": "^0.17.0",
      "model_name": "LeafletWMSLayerModel",
      "state": {
       "_model_module_version": "^0.17.0",
       "_view_module_version": "^0.17.0",
       "attribution": "USGS",
       "crs": {
        "custom": false,
        "name": "EPSG3857"
       },
       "format": "image/png",
       "layers": "USGSNAIPImagery:NaturalColor",
       "name": "USGS NAIP Imagery",
       "options": [
        "attribution",
        "bounds",
        "detect_retina",
        "format",
        "layers",
        "max_native_zoom",
        "max_zoom",
        "min_native_zoom",
        "min_zoom",
        "no_wrap",
        "styles",
        "tile_size",
        "tms",
        "transparent",
        "uppercase"
       ],
       "transparent": true,
       "url": "https://imagery.nationalmap.gov/arcgis/services/USGSNAIPImagery/ImageServer/WMSServer?"
      }
     },
     "ef308d42bed74d4db553fa47f06e8c3b": {
      "model_module": "@jupyter-widgets/controls",
      "model_module_version": "1.5.0",
      "model_name": "HBoxModel",
      "state": {
       "children": [
        "IPY_MODEL_00200995aa534b2c9ee516425308a83a"
       ],
       "layout": "IPY_MODEL_f60e56f38214480aa943599a5c19ff7f"
      }
     },
     "efd277d5352b41b7916b0723aa8cbce0": {
      "model_module": "jupyter-leaflet",
      "model_module_version": "^0.17.0",
      "model_name": "LeafletTileLayerModel",
      "state": {
       "_model_module_version": "^0.17.0",
       "_view_module_version": "^0.17.0",
       "attribution": "Imagery provided by services from the Global Imagery Browse Services (GIBS), operated by the NASA/GSFC/Earth Science Data and Information System (ESDIS) with funding provided by NASA/HQ.",
       "max_zoom": 7,
       "name": "NASAGIBS.ModisTerraLSTDay",
       "options": [
        "attribution",
        "bounds",
        "detect_retina",
        "max_native_zoom",
        "max_zoom",
        "min_native_zoom",
        "min_zoom",
        "no_wrap",
        "tile_size",
        "tms"
       ],
       "url": "https://map1.vis.earthdata.nasa.gov/wmts-webmerc/MODIS_Terra_Land_Surface_Temp_Day/default//GoogleMapsCompatible_Level7/{z}/{y}/{x}.png"
      }
     },
     "f03994335e69489a81dddda55001df00": {
      "model_module": "@jupyter-widgets/base",
      "model_module_version": "1.2.0",
      "model_name": "LayoutModel",
      "state": {}
     },
     "f145e2bd9ff147669b98b9acc4740ae6": {
      "model_module": "@jupyter-widgets/controls",
      "model_module_version": "1.5.0",
      "model_name": "HBoxModel",
      "state": {
       "children": [
        "IPY_MODEL_ae7da8f5a6554189bce1817d71825ca9",
        "IPY_MODEL_00bf25d3788e44aa8a87f378e4e94dbf"
       ],
       "layout": "IPY_MODEL_756be98847e7451ba1790a08b4f9127f"
      }
     },
     "f151d772c0c04df9a09f6b10291ef600": {
      "model_module": "@jupyter-widgets/base",
      "model_module_version": "1.2.0",
      "model_name": "LayoutModel",
      "state": {}
     },
     "f1d452b6098f41dca91f6a837b413731": {
      "model_module": "jupyter-leaflet",
      "model_module_version": "^0.17.0",
      "model_name": "LeafletMapStyleModel",
      "state": {
       "_model_module_version": "^0.17.0",
       "cursor": "default"
      }
     },
     "f21fbd8ab80a42cf9c58ac1e6b5b820b": {
      "model_module": "@jupyter-widgets/controls",
      "model_module_version": "1.5.0",
      "model_name": "DescriptionStyleModel",
      "state": {
       "description_width": ""
      }
     },
     "f2640b25278847f9b6767461741eca99": {
      "model_module": "@jupyter-widgets/output",
      "model_module_version": "1.0.0",
      "model_name": "OutputModel",
      "state": {
       "layout": "IPY_MODEL_ad159ed33e1742c5b25764bf6159edd4",
       "outputs": [
        {
         "name": "stdout",
         "output_type": "stream",
         "text": "Using CRF post-processing\n"
        }
       ]
      }
     },
     "f3ad43c72a5e4ca1ac7b4251be705f40": {
      "model_module": "@jupyter-widgets/base",
      "model_module_version": "1.2.0",
      "model_name": "LayoutModel",
      "state": {}
     },
     "f51e9f1f7e384d93a5522c3815d59236": {
      "model_module": "@jupyter-widgets/base",
      "model_module_version": "1.2.0",
      "model_name": "LayoutModel",
      "state": {}
     },
     "f593d0f34e934236ad228e4e941d620c": {
      "model_module": "@jupyter-widgets/base",
      "model_module_version": "1.2.0",
      "model_name": "LayoutModel",
      "state": {}
     },
     "f59b72cc0fc04040a9f2dad368bfb82f": {
      "model_module": "jupyter-leaflet",
      "model_module_version": "^0.17.0",
      "model_name": "LeafletTileLayerModel",
      "state": {
       "_model_module_version": "^0.17.0",
       "_view_module_version": "^0.17.0",
       "attribution": "Imagery provided by services from the Global Imagery Browse Services (GIBS), operated by the NASA/GSFC/Earth Science Data and Information System (ESDIS) with funding provided by NASA/HQ.",
       "max_zoom": 5,
       "name": "NASAGIBS.BlueMarble3031",
       "options": [
        "attribution",
        "bounds",
        "detect_retina",
        "max_native_zoom",
        "max_zoom",
        "min_native_zoom",
        "min_zoom",
        "no_wrap",
        "tile_size",
        "tms"
       ],
       "url": "https://gibs.earthdata.nasa.gov/wmts/epsg3031/best/BlueMarble_NextGeneration/default/EPSG3031_500m/{z}/{y}/{x}.jpeg"
      }
     },
     "f5f0b2500bf8418e99dcedc93996021c": {
      "model_module": "@jupyter-widgets/controls",
      "model_module_version": "1.5.0",
      "model_name": "FloatProgressModel",
      "state": {
       "bar_style": "success",
       "layout": "IPY_MODEL_89e6a7e286bb4218ac0e557b8b15a680",
       "max": 1230506,
       "style": "IPY_MODEL_dab97e10e3984685bd83b328f2bac6a0",
       "value": 1230506
      }
     },
     "f60e56f38214480aa943599a5c19ff7f": {
      "model_module": "@jupyter-widgets/base",
      "model_module_version": "1.2.0",
      "model_name": "LayoutModel",
      "state": {}
     },
     "f63f42e7052d4fa9ab80d3d76efc3907": {
      "model_module": "@jupyter-widgets/base",
      "model_module_version": "1.2.0",
      "model_name": "LayoutModel",
      "state": {
       "border": "1px solid black"
      }
     },
     "f64ca986006e4169b8c291138fcb6823": {
      "model_module": "@jupyter-widgets/base",
      "model_module_version": "1.2.0",
      "model_name": "LayoutModel",
      "state": {
       "margin": "0px 0px 0px 20px"
      }
     },
     "f741b2f4de9642b6a2748e0473aa8ec3": {
      "model_module": "@jupyter-widgets/controls",
      "model_module_version": "1.5.0",
      "model_name": "ToggleButtonModel",
      "state": {
       "button_style": "primary",
       "icon": "picture-o",
       "layout": "IPY_MODEL_3de0c3d35a504821a8d38e1e9848857e",
       "style": "IPY_MODEL_ac34b7a276184774b189bd41235d1ad6",
       "tooltip": "Open COG/STAC dataset"
      }
     },
     "f85907181da74378a66df53c7a390ea0": {
      "model_module": "jupyter-leaflet",
      "model_module_version": "^0.17.0",
      "model_name": "LeafletWidgetControlModel",
      "state": {
       "_model_module": "jupyter-leaflet",
       "_model_module_version": "^0.17.0",
       "_view_count": null,
       "_view_module": "jupyter-leaflet",
       "_view_module_version": "^0.17.0",
       "options": [
        "position",
        "transparent_bg"
       ],
       "position": "topright",
       "widget": "IPY_MODEL_0470a18784574e7d99cc159edfcbfe36"
      }
     },
     "f883449ca5704984bfcf4f05c603015e": {
      "model_module": "jupyter-leaflet",
      "model_module_version": "^0.17.0",
      "model_name": "LeafletTileLayerModel",
      "state": {
       "_model_module_version": "^0.17.0",
       "_view_module_version": "^0.17.0",
       "attribution": "Justice Map",
       "max_zoom": 22,
       "name": "JusticeMap.plurality",
       "options": [
        "attribution",
        "bounds",
        "detect_retina",
        "max_native_zoom",
        "max_zoom",
        "min_native_zoom",
        "min_zoom",
        "no_wrap",
        "tile_size",
        "tms"
       ],
       "url": "https://www.justicemap.org/tile/county/plural/{z}/{x}/{y}.png"
      }
     },
     "f8e7f3a1e3774bdb8cb96d3fdd92be66": {
      "model_module": "@jupyter-widgets/controls",
      "model_module_version": "1.5.0",
      "model_name": "HTMLModel",
      "state": {
       "layout": "IPY_MODEL_200b3ad16b734c018b3002b3e854c057",
       "style": "IPY_MODEL_23557b8d215342bcad3f08819bea0dc6",
       "value": "<h2><b>Save ROIs</b></h2>         You must click save ROI before you can download ROIs        <br> Use the save buttons to save the ROIs you selected <br>           <li> Save BBox: Save the bounding box to a geojson file called 'bbox.geojson'</li>            <li> Save ROIs: Save the selected ROI to a geojson file called 'rois.geojson'</li>            "
      }
     },
     "f9794aeba2f0421fbe107689710d93ff": {
      "model_module": "@jupyter-widgets/base",
      "model_module_version": "1.2.0",
      "model_name": "LayoutModel",
      "state": {}
     },
     "fa702b8e9ef348a58ab3069df6bf0ea6": {
      "model_module": "@jupyter-widgets/controls",
      "model_module_version": "1.5.0",
      "model_name": "ButtonModel",
      "state": {
       "description": "Open Model Results",
       "disabled": true,
       "layout": "IPY_MODEL_87ab11bd258e4a198544bfcef1b28181",
       "style": "IPY_MODEL_6f324c8a05fa4e899a178e7598d0bcdd"
      }
     },
     "fab70f3bb9f44bd1a6ecdbf158dc75e8": {
      "model_module": "@jupyter-widgets/output",
      "model_module_version": "1.0.0",
      "model_name": "OutputModel",
      "state": {
       "layout": "IPY_MODEL_b748862267854730bf4f39f330f8ffcd",
       "outputs": [
        {
         "name": "stdout",
         "output_type": "stream",
         "text": "The images in the folder will be segmented :\nC:/1_USGS/CoastSeg/repos/2_CoastSeg/CoastSeg_fork/Seg2Map/data/ID02022-09-07__12_hr_11_min59/jpg_files/preprocessed/RGB \n"
        }
       ]
      }
     },
     "fb1642f70e944d4baee79d88aefd75e8": {
      "model_module": "@jupyter-widgets/controls",
      "model_module_version": "1.5.0",
      "model_name": "DescriptionStyleModel",
      "state": {
       "description_width": ""
      }
     },
     "fc001300fdd145fe8030dcc6d670467f": {
      "model_module": "jupyter-leaflet",
      "model_module_version": "^0.17.0",
      "model_name": "LeafletTileLayerModel",
      "state": {
       "_model_module_version": "^0.17.0",
       "_view_module_version": "^0.17.0",
       "attribution": "Tiles (C) Esri -- Source: US National Park Service",
       "max_zoom": 8,
       "name": "Esri.WorldPhysical",
       "options": [
        "attribution",
        "bounds",
        "detect_retina",
        "max_native_zoom",
        "max_zoom",
        "min_native_zoom",
        "min_zoom",
        "no_wrap",
        "tile_size",
        "tms"
       ],
       "url": "https://server.arcgisonline.com/ArcGIS/rest/services/World_Physical_Map/MapServer/tile/{z}/{y}/{x}"
      }
     },
     "fcc9ae391b054ec5b1c46aefbaf7b810": {
      "model_module": "@jupyter-widgets/controls",
      "model_module_version": "1.5.0",
      "model_name": "DatePickerModel",
      "state": {
       "description": "End Date",
       "disabled": false,
       "layout": "IPY_MODEL_ffd7730dc9704665bf128adfcf7da7d1",
       "style": "IPY_MODEL_87f2eab6ac6f4cf1bb15a743f3b038ab",
       "value": {
        "date": 1,
        "month": 2,
        "year": 2019
       }
      }
     },
     "fcfff5f82da743a39d9195076835e225": {
      "model_module": "jupyter-leaflet",
      "model_module_version": "^0.17.0",
      "model_name": "LeafletTileLayerModel",
      "state": {
       "_model_module_version": "^0.17.0",
       "_view_module_version": "^0.17.0",
       "attribution": "Kaartgegevens (C) Kadaster",
       "max_zoom": 19,
       "name": "nlmaps.grijs",
       "options": [
        "attribution",
        "bounds",
        "detect_retina",
        "max_native_zoom",
        "max_zoom",
        "min_native_zoom",
        "min_zoom",
        "no_wrap",
        "tile_size",
        "tms"
       ],
       "url": "https://service.pdok.nl/brt/achtergrondkaart/wmts/v2_0/grijs/EPSG:3857/{z}/{x}/{y}.png"
      }
     },
     "fd43d46abc02494587fd2b0dbf0e56d5": {
      "model_module": "@jupyter-widgets/controls",
      "model_module_version": "1.5.0",
      "model_name": "HTMLModel",
      "state": {
       "layout": "IPY_MODEL_ec7eab4abb1b432fa2f15165f5a0224f",
       "style": "IPY_MODEL_60f583baf2f844e99ef4ac757b203da2",
       "value": "<h4>Click ONE of the following buttons:</h4>"
      }
     },
     "fe06d94e9fe54369b4f7cdeaf883a398": {
      "model_module": "jupyter-leaflet",
      "model_module_version": "^0.17.0",
      "model_name": "LeafletTileLayerModel",
      "state": {
       "_model_module_version": "^0.17.0",
       "_view_module_version": "^0.17.0",
       "attribution": "Map tiles by Stamen Design, CC BY 3.0 -- Map data (C) OpenStreetMap contributors",
       "max_zoom": 20,
       "name": "Stamen.TopOSMRelief",
       "options": [
        "attribution",
        "bounds",
        "detect_retina",
        "max_native_zoom",
        "max_zoom",
        "min_native_zoom",
        "min_zoom",
        "no_wrap",
        "tile_size",
        "tms"
       ],
       "url": "https://stamen-tiles-a.a.ssl.fastly.net/toposm-color-relief/{z}/{x}/{y}.jpg"
      }
     },
     "fe554d9d11b043ada6281ae35d7c52b1": {
      "model_module": "@jupyter-widgets/controls",
      "model_module_version": "1.5.0",
      "model_name": "HBoxModel",
      "state": {
       "children": [
        "IPY_MODEL_4a3324922bd14d3f8d46ca62b089fb16"
       ],
       "layout": "IPY_MODEL_a79848c042b349b69bb9d8da9478bdb7"
      }
     },
     "fede66f3a3c5489c883274db3fcd6ac5": {
      "model_module": "@jupyter-widgets/controls",
      "model_module_version": "1.5.0",
      "model_name": "ToggleButtonModel",
      "state": {
       "button_style": "primary",
       "icon": "question",
       "layout": "IPY_MODEL_845e489602724081a118f854aecf662c",
       "style": "IPY_MODEL_6d872411f4e0410e800754d049d71ba6",
       "tooltip": "Get help"
      }
     },
     "ff6c2f70584f44649958cc5211718aaa": {
      "model_module": "@jupyter-widgets/controls",
      "model_module_version": "1.5.0",
      "model_name": "ButtonStyleModel",
      "state": {
       "button_color": "#ae3cf0"
      }
     },
     "ff78babf3ea5447b9cfdd198c4c0a1db": {
      "model_module": "jupyter-leaflet",
      "model_module_version": "^0.17.0",
      "model_name": "LeafletTileLayerModel",
      "state": {
       "_model_module_version": "^0.17.0",
       "_view_module_version": "^0.17.0",
       "attribution": "CyclOSM | Map data: (C) OpenStreetMap contributors",
       "max_zoom": 20,
       "name": "CyclOSM",
       "options": [
        "attribution",
        "bounds",
        "detect_retina",
        "max_native_zoom",
        "max_zoom",
        "min_native_zoom",
        "min_zoom",
        "no_wrap",
        "tile_size",
        "tms"
       ],
       "url": "https://a.tile-cyclosm.openstreetmap.fr/cyclosm/{z}/{x}/{y}.png"
      }
     },
     "ffd7730dc9704665bf128adfcf7da7d1": {
      "model_module": "@jupyter-widgets/base",
      "model_module_version": "1.2.0",
      "model_name": "LayoutModel",
      "state": {}
     }
    },
    "version_major": 2,
    "version_minor": 0
   }
  }
 },
 "nbformat": 4,
 "nbformat_minor": 4
}
