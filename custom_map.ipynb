{
 "cells": [
  {
   "cell_type": "code",
   "execution_count": 1,
   "metadata": {},
   "outputs": [],
   "source": [
    "import os\n",
    "import datetime\n",
    "# Local Imports\n",
    "from src.coastseg import coastseg_logs #must be the first module loaded to create logs folder\n",
    "from src.coastseg import coastseg_map_class\n",
    "\n",
    "# External Imports\n",
    "import ee\n",
    "from google.auth import exceptions as google_auth_exceptions\n",
    "from IPython.display import display, clear_output\n",
    "from tkinter import Tk,filedialog\n",
    "from ipywidgets import Button, HBox, VBox, Layout, DatePicker, HTML, RadioButtons, SelectMultiple, Output, Checkbox\n",
    "\n",
    "# suppress tensorflow warnings\n",
    "os.environ['TF_CPP_MIN_LOG_LEVEL'] = '3'\n",
    "# root = Tk()\n",
    "remove_style=dict(button_color = 'red')\n",
    "load_style=dict(button_color = '#69add1')\n",
    "action_style=dict(button_color = '#ae3cf0')\n",
    "save_style=dict(button_color = '#50bf8f')"
   ]
  },
  {
   "cell_type": "markdown",
   "metadata": {},
   "source": [
    "## Authenticate and Initialize with Google Earth Engine (GEE)\n",
    "\n",
    "- Run this cell to initialize with GEE which will allow you to download remote sensing data from GEE.\n",
    "\n",
    "### First Time Users\n",
    "\n",
    "- In order to use Google Earth Engine (GEE) you will need to sign up to request access to use Google Earth Engine.https://signup.earthengine.google.com. You will only need to do this once and it takes only a day to get your account verified.\n",
    "\n",
    "### How `ee.Authenticate()` works\n",
    "\n",
    "- In order to initialize with GEE you will need an authorization token with is obtained by running `ee.Authenticate()`.This token lasts 7 days and during those 7 days you will not need to authenticate with google earth engine with an access code. Once the 7 days are up you will need to reauthenticate to use GEE again.\n"
   ]
  },
  {
   "cell_type": "code",
   "execution_count": 2,
   "metadata": {},
   "outputs": [],
   "source": [
    "try:\n",
    "    ee.Initialize()\n",
    "except google_auth_exceptions.RefreshError as exception:\n",
    "    print(\"Please authenticate with Google:\\n\")\n",
    "    ee.Authenticate()\n",
    "    ee.Initialize()"
   ]
  },
  {
   "cell_type": "code",
   "execution_count": 3,
   "metadata": {},
   "outputs": [
    {
     "data": {
      "application/vnd.jupyter.widget-view+json": {
       "model_id": "5444c763a32c4eb59e23113a9ba70fb6",
       "version_major": 2,
       "version_minor": 0
      },
      "text/plain": [
       "VBox(children=(VBox(children=(HTML(value='<b>Pick a date:</b>', layout=Layout(padding='10px')), HBox(children=…"
      ]
     },
     "metadata": {},
     "output_type": "display_data"
    }
   ],
   "source": [
    "# Date Widgets\n",
    "start_date=DatePicker(\n",
    "    description='Start Date',\n",
    "    value=datetime.date(2018, 12, 1),\n",
    "    disabled=False,\n",
    ")\n",
    "end_date=DatePicker(\n",
    "    description='End Date',\n",
    "    value=datetime.date(2019, 3, 1), #2019, 1, 1\n",
    "    disabled=False,\n",
    ")\n",
    "date_instr=HTML(\n",
    "    value=\"<b>Pick a date:</b>\",\n",
    "    layout=Layout(padding='10px')\n",
    ")\n",
    "dates_box=HBox([start_date,end_date])\n",
    "dates_vbox=VBox([date_instr,dates_box])\n",
    "\n",
    "\n",
    "collection_instr=HTML(\n",
    "    value=\"<b>Pick a collection</b>\\\n",
    "        <br> C01: LandSat Collection 1 \\\n",
    "        <br> C02: LandSat Collection 2  [2022/01/01 and beyond] \\\n",
    "        <br>      - Landsat 9 is only available in C02\",\n",
    "    layout=Layout(padding='10px')\n",
    ")\n",
    "collection_radio=RadioButtons(\n",
    "    options=['C01', 'C02'],\n",
    "    value='C01',\n",
    "    description='Collection:',\n",
    "    disabled=False\n",
    ")\n",
    "collection_vbox=VBox([collection_instr,collection_radio])\n",
    "\n",
    "sat_instr=HTML(\n",
    "    value=\"<b>Pick multiple satellites by holding the control key:</b> \\\n",
    "        <br> - images prior to 2022/01/01 will be downloaded from Collection 1 \\\n",
    "        <br> - images after 2022/01/01 will be automatically downloaded from Collection 2 \\\n",
    "        <br> C01: LandSat Collection 1 : All dates before 2022/01/01\\\n",
    "        <br> C02: LandSat Collection 2 : All dates after 2022/01/01 \\\n",
    "        <br> - Landsat 9 is only available in C02\",\n",
    "    layout=Layout(padding='10px')\n",
    ")\n",
    "\n",
    "\n",
    "satellite_selection=SelectMultiple(\n",
    "    options=['L5', 'L7', 'L8', 'S2'],\n",
    "    value=['L8'],\n",
    "    description='Satellites',\n",
    "    disabled=False\n",
    ")\n",
    "sat_vbox = VBox([sat_instr,satellite_selection])\n",
    "\n",
    "def handle_collection_change(change):\n",
    "    if change['new'] == 'C02':\n",
    "        satellite_selection.options=['L5', 'L7', 'L8', 'L9', 'S2']\n",
    "    else:\n",
    "        satellite_selection.options=['L5', 'L7', 'L8', 'S2']\n",
    "\n",
    "collection_radio.observe(handle_collection_change,\"value\")\n",
    "\n",
    "controls_vbox=VBox([dates_vbox, collection_vbox, sat_vbox])\n",
    "controls_vbox"
   ]
  },
  {
   "cell_type": "code",
   "execution_count": 4,
   "metadata": {
    "scrolled": true
   },
   "outputs": [
    {
     "name": "stdout",
     "output_type": "stream",
     "text": [
      "dates: ['2018-12-01', '2019-03-01']\n",
      "collection: C01\n",
      "sat_list: ['L8']\n"
     ]
    }
   ],
   "source": [
    "# CoastSat Download Variables\n",
    "# ------------------------------\n",
    "# Save the satellites selected to sat_list\n",
    "if satellite_selection.value:\n",
    "    sat_list = list(satellite_selection.value)\n",
    "elif not satellite_selection.value:\n",
    "    print(\"ERROR: You must select at least one satellite first\")\n",
    "# Save the dates selected by the user as well as the selected collection\n",
    "dates = [str(start_date.value),str(end_date.value)]\n",
    "collection = collection_radio.value\n",
    "print(f\"dates: {dates}\")\n",
    "print(f\"collection: {collection}\")\n",
    "print(f\"sat_list: {sat_list}\")"
   ]
  },
  {
   "cell_type": "markdown",
   "metadata": {},
   "source": [
    "## Settings for CoastSat\n",
    "\n",
    "Modify any of the following setting to determine how data is downloaded from CoastSat\n"
   ]
  },
  {
   "cell_type": "code",
   "execution_count": 41,
   "metadata": {},
   "outputs": [],
   "source": [
    "pre_process_settings = { \n",
    "    # general parameters:\n",
    "    'cloud_thresh': 0.5,        # threshold on maximum cloud cover\n",
    "     'dist_clouds': 300,        # ditance around clouds where shoreline can't be mapped\n",
    "    'output_epsg': 3857,        # epsg code of spatial reference system desired for the output   \n",
    "    # quality control:\n",
    "    'check_detection': True,    # if True, shows each shoreline detection to the user for validation\n",
    "    'adjust_detection': False,  # if True, allows user to adjust the postion of each shoreline by changing the threhold\n",
    "    'save_figure': True,        # if True, saves a figure showing the mapped shoreline for each image\n",
    "    # [ONLY FOR ADVANCED USERS] shoreline detection parameters:\n",
    "    'min_beach_area': 4500,     # minimum area (in metres^2) for an object to be labelled as a beach\n",
    "    'buffer_size': 150,         # radius (in metres) of the buffer around sandy pixels considered in the shoreline detection\n",
    "    'min_length_sl': 400,       # minimum length (in metres) of shoreline perimeter to be valid\n",
    "    'cloud_mask_issue': False,  # switch this parameter to True if sand pixels are masked (in black) on many images  \n",
    "    'sand_color': 'default',    # 'default', 'dark' (for grey/black sand beaches) or 'bright' (for white sand beaches)\n",
    "    'pan_off':'False',          # if True, no pan-sharpening is performed on Landsat 7,8 and 9 imagery\n",
    "    'create_plot':False,        # True create a matplotlib plot of the image with the datetime as the title\n",
    "}"
   ]
  },
  {
   "cell_type": "code",
   "execution_count": 42,
   "metadata": {},
   "outputs": [],
   "source": [
    "# settings = {}\n",
    "# def func(**kwargs):\n",
    "#     for k in kwargs:\n",
    "#         print(k)\n",
    "#         settings.setdefault(k,1)\n",
    "# func(**pre_process_settings)\n",
    "# settings"
   ]
  },
  {
   "cell_type": "code",
   "execution_count": 46,
   "metadata": {},
   "outputs": [
    {
     "data": {
      "text/plain": [
       "{'cloud_thresh': 0.5,\n",
       " 'dist_clouds': 300,\n",
       " 'output_epsg': 3857,\n",
       " 'check_detection': True,\n",
       " 'adjust_detection': False,\n",
       " 'save_figure': True,\n",
       " 'min_beach_area': 4500,\n",
       " 'buffer_size': 150,\n",
       " 'min_length_sl': 200,\n",
       " 'cloud_mask_issue': False,\n",
       " 'sand_color': 'default',\n",
       " 'pan_off': 'False',\n",
       " 'create_plot': False}"
      ]
     },
     "execution_count": 46,
     "metadata": {},
     "output_type": "execute_result"
    }
   ],
   "source": [
    "def func(**kwargs):\n",
    "    settings = {\n",
    "     # general parameters:\n",
    "    'cloud_thresh': 0.5,        # threshold on maximum cloud cover\n",
    "     'dist_clouds': 300,        # ditance around clouds where shoreline can't be mapped\n",
    "    'output_epsg': 3857,        # epsg code of spatial reference system desired for the output   \n",
    "    # quality control:\n",
    "    'check_detection': True,    # if True, shows each shoreline detection to the user for validation\n",
    "    'adjust_detection': False,  # if True, allows user to adjust the postion of each shoreline by changing the threhold\n",
    "    'save_figure': True,        # if True, saves a figure showing the mapped shoreline for each image\n",
    "    # [ONLY FOR ADVANCED USERS] shoreline detection parameters:\n",
    "    'min_beach_area': 4500,     # minimum area (in metres^2) for an object to be labelled as a beach\n",
    "    'buffer_size': 150,         # radius (in metres) of the buffer around sandy pixels considered in the shoreline detection\n",
    "    'min_length_sl': 200,       # minimum length (in metres) of shoreline perimeter to be valid\n",
    "    'cloud_mask_issue': False,  # switch this parameter to True if sand pixels are masked (in black) on many images  \n",
    "    'sand_color': 'default',    # 'default', 'dark' (for grey/black sand beaches) or 'bright' (for white sand beaches)\n",
    "    'pan_off':'False',          # if True, no pan-sharpening is performed on Landsat 7,8 and 9 imagery\n",
    "    'create_plot':False,        # True create a matplotlib plot of the image with the datetime as the title\n",
    "    }\n",
    "    for k,v in kwargs.items():\n",
    "        # settings[k]=v\n",
    "        settings.setdefault(k,v)\n",
    "    return settings\n",
    "settings = func(**pre_process_settings)\n",
    "settings"
   ]
  },
  {
   "cell_type": "code",
   "execution_count": 47,
   "metadata": {},
   "outputs": [
    {
     "data": {
      "text/plain": [
       "{'cloud_thresh': 0.5,\n",
       " 'dist_clouds': 300,\n",
       " 'output_epsg': 3857,\n",
       " 'check_detection': True,\n",
       " 'adjust_detection': False,\n",
       " 'save_figure': True,\n",
       " 'min_beach_area': 4500,\n",
       " 'buffer_size': 150,\n",
       " 'min_length_sl': 400,\n",
       " 'cloud_mask_issue': False,\n",
       " 'sand_color': 'default',\n",
       " 'pan_off': 'False',\n",
       " 'create_plot': False,\n",
       " 'sat_list': ['L6']}"
      ]
     },
     "execution_count": 47,
     "metadata": {},
     "output_type": "execute_result"
    }
   ],
   "source": [
    "sat_list = ['L6']\n",
    "def func(**kwargs):\n",
    "    settings = {\n",
    "     # general parameters:\n",
    "    'cloud_thresh': 0.5,        # threshold on maximum cloud cover\n",
    "     'dist_clouds': 300,        # ditance around clouds where shoreline can't be mapped\n",
    "    'output_epsg': 3857,        # epsg code of spatial reference system desired for the output   \n",
    "    # quality control:\n",
    "    'check_detection': True,    # if True, shows each shoreline detection to the user for validation\n",
    "    'adjust_detection': False,  # if True, allows user to adjust the postion of each shoreline by changing the threhold\n",
    "    'save_figure': True,        # if True, saves a figure showing the mapped shoreline for each image\n",
    "    # [ONLY FOR ADVANCED USERS] shoreline detection parameters:\n",
    "    'min_beach_area': 4500,     # minimum area (in metres^2) for an object to be labelled as a beach\n",
    "    'buffer_size': 150,         # radius (in metres) of the buffer around sandy pixels considered in the shoreline detection\n",
    "    'min_length_sl': 200,       # minimum length (in metres) of shoreline perimeter to be valid\n",
    "    'cloud_mask_issue': False,  # switch this parameter to True if sand pixels are masked (in black) on many images  \n",
    "    'sand_color': 'default',    # 'default', 'dark' (for grey/black sand beaches) or 'bright' (for white sand beaches)\n",
    "    'pan_off':'False',          # if True, no pan-sharpening is performed on Landsat 7,8 and 9 imagery\n",
    "    'create_plot':False,        # True create a matplotlib plot of the image with the datetime as the title\n",
    "    }\n",
    "    for k,v in kwargs.items():\n",
    "        settings[k]=v\n",
    "        # settings.setdefault(k,v)\n",
    "    return settings\n",
    "settings = func(sat_list=sat_list,**pre_process_settings)\n",
    "settings"
   ]
  },
  {
   "cell_type": "code",
   "execution_count": 30,
   "metadata": {},
   "outputs": [
    {
     "name": "stdout",
     "output_type": "stream",
     "text": [
      "cloud_thresh 0.5\n",
      "dist_clouds 300\n",
      "output_epsg 3857\n",
      "check_detection True\n",
      "adjust_detection False\n",
      "save_figure True\n",
      "min_beach_area 4500\n",
      "buffer_size 150\n",
      "min_length_sl 200\n",
      "cloud_mask_issue False\n",
      "sand_color default\n",
      "pan_off False\n",
      "create_plot False\n"
     ]
    }
   ],
   "source": [
    "func(**pre_process_settings)"
   ]
  },
  {
   "cell_type": "markdown",
   "metadata": {},
   "source": [
    "# Create the Map\n",
    "\n",
    "- Create the map object here\n",
    "- Save all the settings created earlier\n",
    "- Save the list of satellites, dates, and the collection to coastseg_map instance\n"
   ]
  },
  {
   "cell_type": "code",
   "execution_count": 6,
   "metadata": {},
   "outputs": [],
   "source": [
    "coastseg_map=coastseg_map_class.CoastSeg_Map()"
   ]
  },
  {
   "cell_type": "code",
   "execution_count": null,
   "metadata": {},
   "outputs": [],
   "source": [
    "coastseg_map"
   ]
  },
  {
   "cell_type": "code",
   "execution_count": 7,
   "metadata": {},
   "outputs": [],
   "source": [
    "coastseg_map.set_sat_list(sat_list)\n",
    "coastseg_map.set_collection(collection)\n",
    "coastseg_map.set_dates(dates)\n",
    "coastseg_map.set_preprocess_settings(pre_process_settings)"
   ]
  },
  {
   "cell_type": "markdown",
   "metadata": {},
   "source": [
    "# How to Use The Map\n",
    "\n",
    "---\n",
    "\n",
    "1. Use the rectangle tool to draw a bounding box along the coastline.\n",
    "2. Click `Generate ROI` to create ROI rectangles along the coastline in the bounding box. This may take some time.\n",
    "\n",
    "- You should see a coastline appear in yellow and some rectangles along it.\n",
    "\n",
    "3. Click 1 or more ROIs then click `Save ROI` to save these ROIs for downloading later\n",
    "4. You're ready to download the ROIs. Run the next block of code.\n"
   ]
  },
  {
   "cell_type": "code",
   "execution_count": 8,
   "metadata": {},
   "outputs": [
    {
     "data": {
      "application/vnd.jupyter.widget-view+json": {
       "model_id": "80ecef936ba74835b048d63c8a1d28bb",
       "version_major": 2,
       "version_minor": 0
      },
      "text/plain": [
       "HBox(children=(VBox(children=(HTML(value='<h2><b>Generate ROIs</b></h2>                 Use the two sliders to…"
      ]
     },
     "metadata": {},
     "output_type": "display_data"
    },
    {
     "data": {
      "application/vnd.jupyter.widget-view+json": {
       "model_id": "d553639e974a4644bea78a4b839b2b4c",
       "version_major": 2,
       "version_minor": 0
      },
      "text/plain": [
       "HBox(children=(HBox(children=(Button(description='Load Transects', style=ButtonStyle(button_color='#69add1')),…"
      ]
     },
     "metadata": {},
     "output_type": "display_data"
    },
    {
     "data": {
      "application/vnd.jupyter.widget-view+json": {
       "model_id": "9d0783fb625a4dc38905f1e46a554aa5",
       "version_major": 2,
       "version_minor": 0
      },
      "text/plain": [
       "HBox(children=(HBox(children=(Button(description='Remove all', style=ButtonStyle(button_color='red')), Button(…"
      ]
     },
     "metadata": {},
     "output_type": "display_data"
    },
    {
     "data": {
      "application/vnd.jupyter.widget-view+json": {
       "model_id": "acf91fc19bd04b24bcdc11e869479510",
       "version_major": 2,
       "version_minor": 0
      },
      "text/plain": [
       "HBox(children=(Button(description='Clear TextBox', style=ButtonStyle(button_color='#a3adac')), Output(layout=L…"
      ]
     },
     "metadata": {},
     "output_type": "display_data"
    },
    {
     "data": {
      "application/vnd.jupyter.widget-view+json": {
       "model_id": "f3498672a31b4f9395b71b215f0f5fc3",
       "version_major": 2,
       "version_minor": 0
      },
      "text/plain": [
       "HBox(children=(Map(center=[36, -121.5], controls=(ZoomControl(options=['position', 'zoom_in_text', 'zoom_in_ti…"
      ]
     },
     "metadata": {},
     "output_type": "display_data"
    },
    {
     "data": {
      "application/vnd.jupyter.widget-view+json": {
       "model_id": "f8d1734c5a0f477abd8174d7b6d29d38",
       "version_major": 2,
       "version_minor": 0
      },
      "text/plain": [
       "HBox(children=(Output(layout=Layout(border='1px solid black')),))"
      ]
     },
     "metadata": {},
     "output_type": "display_data"
    }
   ],
   "source": [
    "from src.coastseg.UI_map import UI\n",
    "coastseg_ui = UI(coastseg_map)\n",
    "coastseg_ui.create_dashboard()"
   ]
  },
  {
   "cell_type": "code",
   "execution_count": 20,
   "metadata": {},
   "outputs": [
    {
     "name": "stdout",
     "output_type": "stream",
     "text": [
      "<class 'dict'>\n",
      "{'type': 'Feature', 'properties': {'style': {'stroke': True, 'color': 'green', 'weight': 4, 'opacity': 0.5, 'fill': True, 'fillColor': 'green', 'fillOpacity': 0.1, 'clickable': True, 'Opacity': 0.1}}, 'geometry': {'type': 'Polygon', 'coordinates': [[[-121.558847, 36.001558], [-121.558847, 36.02427], [-121.517535, 36.02427], [-121.517535, 36.001558], [-121.558847, 36.001558]]]}}\n",
      "<class 'dict'>\n",
      "{'type': 'Polygon', 'coordinates': [[[-121.558847, 36.001558], [-121.558847, 36.02427], [-121.517535, 36.02427], [-121.517535, 36.001558], [-121.558847, 36.001558]]]}\n"
     ]
    }
   ],
   "source": [
    "print(type(coastseg_map.draw_control.last_draw))\n",
    "print(coastseg_map.draw_control.last_draw)\n",
    "print(type(coastseg_map.draw_control.last_draw['geometry']))\n",
    "print(coastseg_map.draw_control.last_draw['geometry'])\n",
    "            "
   ]
  },
  {
   "cell_type": "code",
   "execution_count": 22,
   "metadata": {},
   "outputs": [
    {
     "data": {
      "text/plain": [
       "9405037.435"
      ]
     },
     "execution_count": 22,
     "metadata": {},
     "output_type": "execute_result"
    }
   ],
   "source": [
    "from src.coastseg import common\n",
    "common.get_area(coastseg_map.draw_control.last_draw['geometry'])"
   ]
  },
  {
   "cell_type": "code",
   "execution_count": 25,
   "metadata": {},
   "outputs": [
    {
     "data": {
      "text/plain": [
       "geopandas.geodataframe.GeoDataFrame"
      ]
     },
     "execution_count": 25,
     "metadata": {},
     "output_type": "execute_result"
    }
   ],
   "source": [
    "type(gpd.GeoDataFrame())"
   ]
  },
  {
   "cell_type": "code",
   "execution_count": 26,
   "metadata": {},
   "outputs": [
    {
     "name": "stdout",
     "output_type": "stream",
     "text": [
      "yes\n"
     ]
    }
   ],
   "source": [
    "if type(gpd.GeoDataFrame()) == type(gpd.GeoDataFrame()):\n",
    "    print(\"yes\")"
   ]
  },
  {
   "cell_type": "code",
   "execution_count": 9,
   "metadata": {},
   "outputs": [
    {
     "data": {
      "text/plain": [
       "[{'type': 'Polygon',\n",
       "  'coordinates': [[[-121.558847, 36.001558],\n",
       "    [-121.558847, 36.02427],\n",
       "    [-121.517535, 36.02427],\n",
       "    [-121.517535, 36.001558],\n",
       "    [-121.558847, 36.001558]]]}]"
      ]
     },
     "execution_count": 9,
     "metadata": {},
     "output_type": "execute_result"
    }
   ],
   "source": [
    "coastseg_map.shapes_list"
   ]
  },
  {
   "cell_type": "code",
   "execution_count": 11,
   "metadata": {},
   "outputs": [
    {
     "data": {
      "text/plain": [
       "dict"
      ]
     },
     "execution_count": 11,
     "metadata": {},
     "output_type": "execute_result"
    }
   ],
   "source": [
    "type(coastseg_map.shapes_list[0])"
   ]
  },
  {
   "cell_type": "code",
   "execution_count": 15,
   "metadata": {},
   "outputs": [],
   "source": [
    "from shapely.geometry import shape\n",
    "import geopandas as gpd"
   ]
  },
  {
   "cell_type": "code",
   "execution_count": 13,
   "metadata": {},
   "outputs": [
    {
     "data": {
      "image/svg+xml": "<svg xmlns=\"http://www.w3.org/2000/svg\" xmlns:xlink=\"http://www.w3.org/1999/xlink\" width=\"100.0\" height=\"100.0\" viewBox=\"-121.56049948 35.999905520000006 0.04461696000001325 0.02601695999999265\" preserveAspectRatio=\"xMinYMin meet\"><g transform=\"matrix(1,0,0,-1,0,72.025828)\"><path fill-rule=\"evenodd\" fill=\"#66cc99\" stroke=\"#555555\" stroke-width=\"0.000892339200000265\" opacity=\"0.6\" d=\"M -121.558847,36.001558 L -121.558847,36.02427 L -121.517535,36.02427 L -121.517535,36.001558 L -121.558847,36.001558 z\" /></g></svg>",
      "text/plain": [
       "<shapely.geometry.polygon.Polygon at 0x1ce43d3c5b0>"
      ]
     },
     "execution_count": 13,
     "metadata": {},
     "output_type": "execute_result"
    }
   ],
   "source": [
    "shape(coastseg_map.shapes_list[0])"
   ]
  },
  {
   "cell_type": "code",
   "execution_count": 18,
   "metadata": {},
   "outputs": [
    {
     "data": {
      "text/html": [
       "<div>\n",
       "<style scoped>\n",
       "    .dataframe tbody tr th:only-of-type {\n",
       "        vertical-align: middle;\n",
       "    }\n",
       "\n",
       "    .dataframe tbody tr th {\n",
       "        vertical-align: top;\n",
       "    }\n",
       "\n",
       "    .dataframe thead th {\n",
       "        text-align: right;\n",
       "    }\n",
       "</style>\n",
       "<table border=\"1\" class=\"dataframe\">\n",
       "  <thead>\n",
       "    <tr style=\"text-align: right;\">\n",
       "      <th></th>\n",
       "      <th>geometry</th>\n",
       "    </tr>\n",
       "  </thead>\n",
       "  <tbody>\n",
       "    <tr>\n",
       "      <th>0</th>\n",
       "      <td>POLYGON ((-121.55885 36.00156, -121.55885 36.0...</td>\n",
       "    </tr>\n",
       "  </tbody>\n",
       "</table>\n",
       "</div>"
      ],
      "text/plain": [
       "                                            geometry\n",
       "0  POLYGON ((-121.55885 36.00156, -121.55885 36.0..."
      ]
     },
     "execution_count": 18,
     "metadata": {},
     "output_type": "execute_result"
    }
   ],
   "source": [
    "geom = [shape(coastseg_map.shapes_list[0])]\n",
    "geojson_bbox = gpd.GeoDataFrame({'geometry': geom}, crs = 'EPSG:4326')\n",
    "# geojson_bbox.crs = 'EPSG:4326'\n",
    "geojson_bbox"
   ]
  },
  {
   "cell_type": "code",
   "execution_count": null,
   "metadata": {},
   "outputs": [],
   "source": []
  },
  {
   "cell_type": "code",
   "execution_count": null,
   "metadata": {},
   "outputs": [],
   "source": []
  },
  {
   "cell_type": "markdown",
   "metadata": {},
   "source": [
    "## Run Models on Imagery\n",
    "1. Select if you want to use a GPU or not. By default you won't your computer's GPU\n",
    "2. Select if you want to use CRF post-processing or not. By default CRF post-processing is not enabled\n",
    "<br>**WARNING**: There is a bug with CRF post-processing and the models so you will need to enable CRF post-processing until it is fixed.\n",
    "3. Select whether your data is the type RGB or MNDWI\n",
    "4. Select the model you want to use\n",
    "5. Select Ensemble or Best (Ensemble is recommended) \n",
    "6. \n"
   ]
  },
  {
   "cell_type": "code",
   "execution_count": null,
   "metadata": {},
   "outputs": [],
   "source": [
    "from src.coastseg.UI_models import UI_Models\n",
    "models_ui = UI_Models()\n",
    "models_ui.create_dashboard()"
   ]
  },
  {
   "cell_type": "code",
   "execution_count": null,
   "metadata": {},
   "outputs": [],
   "source": []
  }
 ],
 "metadata": {
  "kernelspec": {
   "display_name": "Python 3 (ipykernel)",
   "language": "python",
   "name": "python3"
  },
  "language_info": {
   "codemirror_mode": {
    "name": "ipython",
    "version": 3
   },
   "file_extension": ".py",
   "mimetype": "text/x-python",
   "name": "python",
   "nbconvert_exporter": "python",
   "pygments_lexer": "ipython3",
   "version": "3.10.4"
  },
  "vscode": {
   "interpreter": {
    "hash": "53ab1155a6fba8dac112dd11f6ebbdb1bff1a2fc6fa221ef0a2c21c817842ec3"
   }
  },
  "widgets": {
   "application/vnd.jupyter.widget-state+json": {
    "state": {},
    "version_major": 2,
    "version_minor": 0
   }
  }
 },
 "nbformat": 4,
 "nbformat_minor": 4
}
