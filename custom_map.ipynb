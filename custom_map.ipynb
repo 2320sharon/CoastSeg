{
 "cells": [
  {
   "cell_type": "code",
   "execution_count": 1,
   "metadata": {},
   "outputs": [
    {
     "name": "stdout",
     "output_type": "stream",
     "text": [
      "Version:  2.9.1\n",
      "Eager mode:  True\n",
      "Version:  2.9.1\n",
      "Eager mode:  True\n",
      "GPU name:  []\n",
      "Num GPUs Available:  0\n"
     ]
    }
   ],
   "source": [
    "import warnings\n",
    "# External Imports\n",
    "from IPython.display import display, clear_output\n",
    "from tkinter import Tk,filedialog\n",
    "# import ipywidgets as widgets\n",
    "from ipywidgets import Button, HBox, VBox, Layout, DatePicker, HTML, RadioButtons, SelectMultiple, Output, Checkbox\n",
    "import os\n",
    "import datetime\n",
    "import glob\n",
    "import json\n",
    "import pandas as pd\n",
    "import geopandas as gpd\n",
    "\n",
    "# New imports for coastsat shoreline extraction\n",
    "import numpy as np\n",
    "# Local Imports \n",
    "from CoastSeg import download_roi, file_functions, zoo_model_module, coastseg_map_class\n",
    "from CoastSeg.CoastSat.coastsat import SDS_shoreline,SDS_download\n",
    "# suppress tensorflow warnings\n",
    "os.environ['TF_CPP_MIN_LOG_LEVEL'] = '3'\n",
    "root = Tk()"
   ]
  },
  {
   "cell_type": "code",
   "execution_count": 2,
   "metadata": {},
   "outputs": [
    {
     "data": {
      "application/vnd.jupyter.widget-view+json": {
       "model_id": "fd8c4a207e5645ec93ca83821763fbe2",
       "version_major": 2,
       "version_minor": 0
      },
      "text/plain": [
       "VBox(children=(VBox(children=(HTML(value='<b>Pick a date:</b>', layout=Layout(padding='10px')), HBox(children=…"
      ]
     },
     "metadata": {},
     "output_type": "display_data"
    }
   ],
   "source": [
    "# Date Widgets\n",
    "start_date=DatePicker(\n",
    "    description='Start Date',\n",
    "    value=datetime.date(2018, 12, 1),\n",
    "    disabled=False,\n",
    ")\n",
    "end_date=DatePicker(\n",
    "    description='End Date',\n",
    "    value=datetime.date(2019, 3, 1), #2019, 1, 1\n",
    "    disabled=False,\n",
    ")\n",
    "date_instr=HTML(\n",
    "    value=\"<b>Pick a date:</b>\",\n",
    "    layout=Layout(padding='10px')\n",
    ")\n",
    "dates_box=HBox([start_date,end_date])\n",
    "dates_vbox=VBox([date_instr,dates_box])\n",
    "\n",
    "\n",
    "collection_instr=HTML(\n",
    "    value=\"<b>Pick a collection</b>\\\n",
    "        <br> C01: LandSat Collection 1 \\\n",
    "        <br> C02: LandSat Collection 2  [2022/01/01 and beyond] \\\n",
    "        <br>      - Landsat 9 is only available in C02\",\n",
    "    layout=Layout(padding='10px')\n",
    ")\n",
    "collection_radio=RadioButtons(\n",
    "    options=['C01', 'C02'],\n",
    "    value='C01',\n",
    "    description='Collection:',\n",
    "    disabled=False\n",
    ")\n",
    "collection_vbox=VBox([collection_instr,collection_radio])\n",
    "\n",
    "sat_instr=HTML(\n",
    "    value=\"<b>Pick multiple satellites by holding the control key:</b> \\\n",
    "        <br> - images prior to 2022/01/01 will be downloaded from Collection 1 \\\n",
    "        <br> - images after 2022/01/01 will be automatically downloaded from Collection 2 \\\n",
    "        <br> C01: LandSat Collection 1 : All dates before 2022/01/01\\\n",
    "        <br> C02: LandSat Collection 2 : All dates after 2022/01/01 \\\n",
    "        <br> - Landsat 9 is only available in C02\",\n",
    "    layout=Layout(padding='10px')\n",
    ")\n",
    "\n",
    "\n",
    "satellite_selection=SelectMultiple(\n",
    "    options=['L5', 'L7', 'L8', 'S2'],\n",
    "    value=['L8'],\n",
    "    description='Satellites',\n",
    "    disabled=False\n",
    ")\n",
    "sat_vbox = VBox([sat_instr,satellite_selection])\n",
    "\n",
    "def handle_collection_change(change):\n",
    "    if change['new'] == 'C02':\n",
    "        satellite_selection.options=['L5', 'L7', 'L8', 'L9', 'S2']\n",
    "    else:\n",
    "        satellite_selection.options=['L5', 'L7', 'L8', 'S2']\n",
    "\n",
    "collection_radio.observe(handle_collection_change,\"value\")\n",
    "\n",
    "controls_vbox=VBox([dates_vbox, collection_vbox, sat_vbox])\n",
    "controls_vbox"
   ]
  },
  {
   "cell_type": "code",
   "execution_count": 3,
   "metadata": {
    "scrolled": true
   },
   "outputs": [
    {
     "name": "stdout",
     "output_type": "stream",
     "text": [
      "dates: ['2018-12-01', '2019-03-01']\n",
      "collection: C01\n",
      "sat_list: ['L8']\n"
     ]
    }
   ],
   "source": [
    "# CoastSat Download Variables\n",
    "# ------------------------------\n",
    "# Save the satellites selected to sat_list\n",
    "if satellite_selection.value:\n",
    "    sat_list = list(satellite_selection.value)\n",
    "elif not satellite_selection.value:\n",
    "    print(\"ERROR: You must select at least one satellite first\")\n",
    "# Save the dates selected by the user as well as the selected collection\n",
    "dates = [str(start_date.value),str(end_date.value)]\n",
    "collection = collection_radio.value\n",
    "print(f\"dates: {dates}\")\n",
    "print(f\"collection: {collection}\")\n",
    "print(f\"sat_list: {sat_list}\")"
   ]
  },
  {
   "cell_type": "code",
   "execution_count": 4,
   "metadata": {},
   "outputs": [],
   "source": [
    "pre_process_settings = { \n",
    "    # general parameters:\n",
    "    'cloud_thresh': 0.5,        # threshold on maximum cloud cover\n",
    "     'dist_clouds': 300,        # ditance around clouds where shoreline can't be mapped\n",
    "    'output_epsg': 3857,        # epsg code of spatial reference system desired for the output   \n",
    "    # quality control:\n",
    "    'check_detection': True,    # if True, shows each shoreline detection to the user for validation\n",
    "    'adjust_detection': False,  # if True, allows user to adjust the postion of each shoreline by changing the threhold\n",
    "    'save_figure': True,        # if True, saves a figure showing the mapped shoreline for each image\n",
    "    # [ONLY FOR ADVANCED USERS] shoreline detection parameters:\n",
    "    'min_beach_area': 4500,     # minimum area (in metres^2) for an object to be labelled as a beach\n",
    "    'buffer_size': 150,         # radius (in metres) of the buffer around sandy pixels considered in the shoreline detection\n",
    "    'min_length_sl': 200,       # minimum length (in metres) of shoreline perimeter to be valid\n",
    "    'cloud_mask_issue': False,  # switch this parameter to True if sand pixels are masked (in black) on many images  \n",
    "    'sand_color': 'default',    # 'default', 'dark' (for grey/black sand beaches) or 'bright' (for white sand beaches)\n",
    "    'pan_off':'False',          # if True, no pan-sharpening is performed on Landsat 7,8 and 9 imagery\n",
    "}\n",
    "\n",
    "# Output wdiget used to print messages and exceptions created by CoastSeg_Map\n",
    "debug_view = Output(layout={'border': '1px solid black'})"
   ]
  },
  {
   "cell_type": "markdown",
   "metadata": {},
   "source": [
    "# Create the Map\n",
    "- Create the map using the map settings set above"
   ]
  },
  {
   "cell_type": "code",
   "execution_count": 5,
   "metadata": {},
   "outputs": [],
   "source": [
    "coastseg_map=coastseg_map_class.CoastSeg_Map()"
   ]
  },
  {
   "cell_type": "markdown",
   "metadata": {},
   "source": [
    "# How to Use The Map\n",
    "---\n",
    "1. Use the rectangle tool to draw a bounding box along the coastline.\n",
    "2. Click `Generate ROI` to create ROI rectangles along the coastline in the bounding box. This may take some time.\n",
    "- You should see a coastline appear in yellow and some rectangles along it.\n",
    "3. Click 1 or more ROIs then click `Save ROI` to save these ROIs for downloading later\n",
    "4. You're ready to download the ROIs. Run the next block of code."
   ]
  },
  {
   "cell_type": "code",
   "execution_count": 6,
   "metadata": {},
   "outputs": [
    {
     "data": {
      "application/vnd.jupyter.widget-view+json": {
       "model_id": "619a538384d64bdbbc4db087a718df67",
       "version_major": 2,
       "version_minor": 0
      },
      "text/plain": [
       "Output(layout=Layout(border='1px solid black'))"
      ]
     },
     "metadata": {},
     "output_type": "display_data"
    },
    {
     "data": {
      "application/vnd.jupyter.widget-view+json": {
       "model_id": "ac41c2b5f56e43ada2f0d702b458be29",
       "version_major": 2,
       "version_minor": 0
      },
      "text/plain": [
       "HBox(children=(Button(description='Load Transects', style=ButtonStyle()), Button(description='Load Shoreline',…"
      ]
     },
     "metadata": {},
     "output_type": "display_data"
    },
    {
     "data": {
      "application/vnd.jupyter.widget-view+json": {
       "model_id": "1c0a85870f5145b1ac876d2d3bb3415b",
       "version_major": 2,
       "version_minor": 0
      },
      "text/plain": [
       "HBox(children=(Button(description='Remove all', style=ButtonStyle()), Button(description='Remove transects', s…"
      ]
     },
     "metadata": {},
     "output_type": "display_data"
    },
    {
     "data": {
      "application/vnd.jupyter.widget-view+json": {
       "model_id": "68086abee05c4f0e96c9a0013f5be7fd",
       "version_major": 2,
       "version_minor": 0
      },
      "text/plain": [
       "Map(center=[36, -121.5], controls=(ZoomControl(options=['position', 'zoom_in_text', 'zoom_in_title', 'zoom_out…"
      ]
     },
     "metadata": {},
     "output_type": "display_data"
    }
   ],
   "source": [
    "transects_button = Button(description=\"Load Transects\")\n",
    "shoreline_button = Button(description=\"Load Shoreline\")\n",
    "gen_button =Button(description=\"Generate ROI\")\n",
    "save_button = Button(description=\"Save ROI\")\n",
    "save_bbox_button = Button(description=\"Save Bbox\")\n",
    "clear_debug_button = Button(description=\"Clear TextBox\")\n",
    "\n",
    "remove_all_button = Button(description=\"Remove all\")\n",
    "remove_transects_button = Button(description=\"Remove transects\")\n",
    "remove_bbox_button = Button(description=\"Remove bbox\")\n",
    "remove_coastline_button = Button(description=\"Remove coastline\")\n",
    "remove_rois_button = Button(description=\"Remove ROIs\")\n",
    "remove_saved_roi_button = Button(description=\"Remove saved ROIs\")\n",
    "\n",
    "@debug_view.capture(clear_output=True)\n",
    "def on_shoreline_button_clicked(b):\n",
    "    if coastseg_map.shapes_list == [] :\n",
    "        print(\"Draw a bounding box on the coast first, then click Load Transects.\")\n",
    "    else:\n",
    "        debug_view.clear_output(wait=True)\n",
    "        print(\"Loading shoreline please wait.\") \n",
    "        # Add the transects to the map\n",
    "        coastseg_map.load_shoreline_on_map()\n",
    "        print(\"Shoreline loaded.\")\n",
    "\n",
    "@debug_view.capture(clear_output=True)\n",
    "def on_transects_button_clicked(b):\n",
    "    if coastseg_map.shapes_list == [] :\n",
    "        print(\"Draw a bounding box on the coast first, then click Load Transects.\")\n",
    "    else:\n",
    "        debug_view.clear_output(wait=True)\n",
    "        print(\"Loading transects please wait.\") \n",
    "        # Add the transects to the map\n",
    "        coastseg_map.load_transects_on_map()\n",
    "        print(\"Transects Loaded.\")\n",
    "\n",
    "        \n",
    "@debug_view.capture(clear_output=True)\n",
    "def on_gen_button_clicked(b):\n",
    "    if coastseg_map.shapes_list == [] :\n",
    "        print(\"Draw a bounding box on the coast first, then click Generate ROI.\")\n",
    "    else:\n",
    "        debug_view.clear_output(wait=True)\n",
    "        print(\"Generating ROIs please wait.\") \n",
    "        # Generate ROIs along the coastline within the bounding box\n",
    "        coastseg_map.generate_ROIS_fishnet(5000,0)\n",
    "        debug_view.clear_output(wait=True)\n",
    "        # Add the Clickable ROIs to the map\n",
    "        coastseg_map.add_geojson_layer_to_map()\n",
    "        print(\"ROIs generated. Please Select at least one ROI and click Save ROI.\")\n",
    "        \n",
    "@debug_view.capture(clear_output=True)\n",
    "def on_save_bbox_button_clicked(b):\n",
    "    if coastseg_map.shapes_list != [] :\n",
    "        debug_view.clear_output(wait=True)\n",
    "        # Save selected bbox to a geojson file\n",
    "        coastseg_map.save_bbox_to_file() \n",
    "        debug_view.clear_output(wait=True)\n",
    "        print(\"BBox have been saved. Saved to bbox.geojson\")\n",
    "    else:\n",
    "         print(\"Draw a bounding box on the coast first\")\n",
    "\n",
    "        \n",
    "@debug_view.capture(clear_output=True)\n",
    "def on_save_button_clicked(b):\n",
    "    if coastseg_map.selected_set:\n",
    "        if len(coastseg_map.selected_set) == 0:\n",
    "             print(\"Must select at least 1 ROI first before you can save ROIs.\")\n",
    "        else:\n",
    "            debug_view.clear_output(wait=True)\n",
    "            coastseg_map.save_roi_fishnet(\"fishnet_rois.geojson\")\n",
    "            print(\"Saving ROIs\")\n",
    "            debug_view.clear_output(wait=True)\n",
    "            print(\"ROIs have been saved. Now click Download ROI to download the ROIs using CoastSat\")\n",
    "    else:\n",
    "        print(\"No ROIs were selected.\")\n",
    "\n",
    "\n",
    "def remove_all_from_map(b):\n",
    "    coastseg_map.remove_all()\n",
    "def remove_transects(b):\n",
    "    coastseg_map.remove_transects()\n",
    "def remove_bbox_from_map(b):\n",
    "    coastseg_map.remove_bbox()\n",
    "def remove_coastline_from_map(b):\n",
    "    coastseg_map.remove_shoreline()\n",
    "def remove_all_rois_from_map(b):\n",
    "    coastseg_map.remove_all_rois()\n",
    "def remove_saved_roi_clicked(b):\n",
    "    coastseg_map.remove_saved_roi()\n",
    "def clear_debug_view(b):\n",
    "    with debug_view:\n",
    "        clear_output()\n",
    "        \n",
    "\n",
    "transects_button.on_click(on_transects_button_clicked)    \n",
    "shoreline_button.on_click(on_shoreline_button_clicked) \n",
    "gen_button.on_click(on_gen_button_clicked)\n",
    "save_button.on_click(on_save_button_clicked)\n",
    "save_bbox_button.on_click(on_save_bbox_button_clicked)\n",
    "clear_debug_button.on_click(clear_debug_view)\n",
    "\n",
    "\n",
    "remove_all_button.on_click(remove_all_from_map)\n",
    "remove_transects_button.on_click(remove_transects)\n",
    "remove_bbox_button.on_click(remove_bbox_from_map)\n",
    "remove_coastline_button.on_click(remove_coastline_from_map)\n",
    "remove_rois_button.on_click(remove_all_rois_from_map)\n",
    "remove_saved_roi_button.on_click(remove_saved_roi_clicked)\n",
    "\n",
    "erase_buttons=HBox([remove_all_button, remove_transects_button, remove_bbox_button, remove_coastline_button, remove_rois_button, remove_saved_roi_button])\n",
    "\n",
    "display(debug_view,HBox([transects_button,shoreline_button, gen_button, save_button,save_bbox_button,clear_debug_button]),erase_buttons)\n",
    "# Display the map\n",
    "coastseg_map.m"
   ]
  },
  {
   "cell_type": "markdown",
   "metadata": {},
   "source": [
    "## Download the Selected ROIs\n",
    "- Download the satellite imagery for the ROIs using CoastSat.\n",
    "\n",
    "⚠️ Make sure you have clicked `Save ROI` before running the following code.\n",
    " \n",
    "### Parameters for download_imagery()\n",
    "1. `coastseg_map.selected_ROI` : geojson for the ROI clicked\n",
    "2. `pre_process_settings`: settings for downloading data using CoastSat\n",
    "3. `dates` : date range to download the imagery\n",
    "4. `sat_list` : list of satellites to download imagery from\n",
    "5. `collection` : LandSat Collection 1 (`C01`) or Collection 2 (`C02`)"
   ]
  },
  {
   "cell_type": "code",
   "execution_count": 7,
   "metadata": {},
   "outputs": [
    {
     "name": "stdout",
     "output_type": "stream",
     "text": [
      "Images available: \n",
      " [{'polygon': [[[-121.558644, 35.99266099999999], [-121.51372823579402, 35.99266099999999], [-121.51372823579402, 36.02899362563398], [-121.558644, 36.02899362563398], [-121.558644, 35.99266099999999]]], 'dates': ['2018-12-01', '2019-03-01'], 'sat_list': ['L8'], 'sitename': 'ID02022-08-23__17_hr_47_min48', 'filepath': 'C:\\\\1_USGS\\\\CoastSeg\\\\repos\\\\2_CoastSeg\\\\CoastSeg_fork\\\\Seg2Map\\\\data', 'roi_id': '0', 'landsat_collection': 'C01'}]\n"
     ]
    },
    {
     "name": "stderr",
     "output_type": "stream",
     "text": [
      "Downloading ROIs:   0%|                                                                          | 0/1 [00:00<?, ?it/s]"
     ]
    },
    {
     "name": "stdout",
     "output_type": "stream",
     "text": [
      "Number of images available between 2018-12-01 and 2019-03-01:\n",
      "- In Landsat Tier 1 & Sentinel-2 Level-1C:\n",
      "     L8: 8 images\n",
      "  Total to download: 8 images\n",
      "- In Landsat Tier 2 (not suitable for time-series analysis):\n",
      "     L8: 6 images\n",
      "  Total Tier 2: 6 images\n",
      "\n",
      "Downloading images:\n",
      "L8: 8 images\n",
      "100%\n",
      "Satellite images downloaded from GEE and save in C:\\1_USGS\\CoastSeg\\repos\\2_CoastSeg\\CoastSeg_fork\\Seg2Map\\data\\ID02022-08-23__17_hr_47_min48\n",
      "Saving images as jpg:\n",
      "L8: 8 images\n",
      "100%"
     ]
    },
    {
     "name": "stderr",
     "output_type": "stream",
     "text": [
      "Downloading ROIs: 100%|██████████████████████████████████████████████████████████████████| 1/1 [00:34<00:00, 34.51s/it]"
     ]
    },
    {
     "name": "stdout",
     "output_type": "stream",
     "text": [
      "\n",
      "Satellite images saved as .jpg in C:\\1_USGS\\CoastSeg\\repos\\2_CoastSeg\\CoastSeg_fork\\Seg2Map\\data\\ID02022-08-23__17_hr_47_min48\\jpg_files\\preprocessed\n"
     ]
    },
    {
     "name": "stderr",
     "output_type": "stream",
     "text": [
      "\n"
     ]
    }
   ],
   "source": [
    "if coastseg_map.selected_ROI:\n",
    "    try:\n",
    "        download_roi.download_imagery(coastseg_map.selected_ROI,pre_process_settings,dates,sat_list,collection)\n",
    "    except ee.EEException as exception:\n",
    "        ee.Authenticate()\n",
    "        ee.Initialize()\n",
    "        download_roi.download_imagery(coastseg_map.selected_ROI,pre_process_settings,dates,sat_list,collection)\n",
    "else:\n",
    "    print(\"No ROIs were selected. \\nPlease select at least one ROI and click 'Save ROI' to save these ROI for download.\")"
   ]
  },
  {
   "cell_type": "code",
   "execution_count": 8,
   "metadata": {},
   "outputs": [
    {
     "data": {
      "application/vnd.jupyter.widget-view+json": {
       "model_id": "4e2f36b78eb44b2bafccb81ba678a0fe",
       "version_major": 2,
       "version_minor": 0
      },
      "text/plain": [
       "Checkbox(value=False, description='Use GPU?', indent=False)"
      ]
     },
     "metadata": {},
     "output_type": "display_data"
    },
    {
     "data": {
      "application/vnd.jupyter.widget-view+json": {
       "model_id": "fd6efd0f8ae54ff78c664cc15a5241d5",
       "version_major": 2,
       "version_minor": 0
      },
      "text/plain": [
       "Output()"
      ]
     },
     "metadata": {},
     "output_type": "display_data"
    },
    {
     "data": {
      "application/vnd.jupyter.widget-view+json": {
       "model_id": "f90803d98340445bb339585ab6d0af87",
       "version_major": 2,
       "version_minor": 0
      },
      "text/plain": [
       "HBox(children=(RadioButtons(description='Select Model:', options=('landsat_6229071', 'landsat_6230083', 'SWED-…"
      ]
     },
     "metadata": {},
     "output_type": "display_data"
    },
    {
     "data": {
      "application/vnd.jupyter.widget-view+json": {
       "model_id": "f1fb3cb3ddfa4bf8b59c60d7beb66865",
       "version_major": 2,
       "version_minor": 0
      },
      "text/plain": [
       "VBox(children=(HTML(value='<h4>Click ONE of the following buttons:</h4>', layout=Layout(margin='0px 0px 0px 0p…"
      ]
     },
     "metadata": {},
     "output_type": "display_data"
    },
    {
     "data": {
      "application/vnd.jupyter.widget-view+json": {
       "model_id": "92fd0ff66e164ef4a27766040d8e57ed",
       "version_major": 2,
       "version_minor": 0
      },
      "text/plain": [
       "Button(description='Use Data Button', style=ButtonStyle())"
      ]
     },
     "metadata": {},
     "output_type": "display_data"
    },
    {
     "data": {
      "application/vnd.jupyter.widget-view+json": {
       "model_id": "443434d43acb487cb61dea42ad9ff74d",
       "version_major": 2,
       "version_minor": 0
      },
      "text/plain": [
       "Button(description='Select Your Images', style=ButtonStyle())"
      ]
     },
     "metadata": {},
     "output_type": "display_data"
    },
    {
     "data": {
      "application/vnd.jupyter.widget-view+json": {
       "model_id": "313bb7c0b885462d9af61522d6146467",
       "version_major": 2,
       "version_minor": 0
      },
      "text/plain": [
       "HTML(value='____________________________________________________')"
      ]
     },
     "metadata": {},
     "output_type": "display_data"
    },
    {
     "data": {
      "application/vnd.jupyter.widget-view+json": {
       "model_id": "0eedd4158d8f426b81b65ab0578b5d1a",
       "version_major": 2,
       "version_minor": 0
      },
      "text/plain": [
       "Output(layout=Layout(border='1px solid black'))"
      ]
     },
     "metadata": {},
     "output_type": "display_data"
    },
    {
     "data": {
      "application/vnd.jupyter.widget-view+json": {
       "model_id": "ace006bee1644e0bb8d2cb5de793f9e6",
       "version_major": 2,
       "version_minor": 0
      },
      "text/plain": [
       "Button(description='Run Model', style=ButtonStyle())"
      ]
     },
     "metadata": {},
     "output_type": "display_data"
    },
    {
     "data": {
      "application/vnd.jupyter.widget-view+json": {
       "model_id": "e5b86f99f0aa4dc4bbc125474faaf07d",
       "version_major": 2,
       "version_minor": 0
      },
      "text/plain": [
       "Output(layout=Layout(border='1px solid black'))"
      ]
     },
     "metadata": {},
     "output_type": "display_data"
    }
   ],
   "source": [
    "model_dict={\"sample_direc\":None,\"use_GPU\":False, 'implementation':'ENSEMBLE','model_type':'landsat_6229071'}\n",
    "\n",
    "model_view = Output(layout={'border': '1px solid black'})\n",
    "run_model_view = Output(layout={'border': '1px solid black'})\n",
    "GPU_view = Output()\n",
    "\n",
    "run_model_button = Button(description=\"Run Model\")\n",
    "use_data_button = Button(description=\"Use Data Button\")\n",
    "use_select_images_button = Button(description=\"Select Your Images\")\n",
    "\n",
    "\n",
    "model_implementation = RadioButtons(\n",
    "    options=['ENSEMBLE', 'BEST'],\n",
    "   value='ENSEMBLE',\n",
    "    description='Select:',\n",
    "    disabled=False\n",
    ")\n",
    "\n",
    "model_dropdown = RadioButtons(\n",
    "    options= ['landsat_6229071', 'landsat_6230083','SWED-RGB_6824384','SWED-MNDWI_6824342','coast-train-RGB_6950479', 'S2-water-SWED_6950474'],\n",
    "    value='landsat_6229071',\n",
    "    description='Select Model:',\n",
    "    disabled=False,\n",
    ")\n",
    "\n",
    "\n",
    "GPU_checkbox = Checkbox(\n",
    "    value=False,\n",
    "    description='Use GPU?',\n",
    "    disabled=False,\n",
    "    indent=False\n",
    ")\n",
    "\n",
    "\n",
    "def handle_model_type(change):\n",
    "    model_dict[\"model_type\"]=change['new']\n",
    "\n",
    "\n",
    "def handle_model_implementation(change):\n",
    "    model_dict[\"implementation\"]=change['new']\n",
    "\n",
    "\n",
    "@GPU_view.capture(clear_output=True)\n",
    "def handle_GPU_checkbox(change):\n",
    "    if change[\"new\"] == True:\n",
    "        model_dict[\"use_GPU\"]=True\n",
    "        print(\"Using the GPU\")\n",
    "    else:\n",
    "        model_dict[\"use_GPU\"]=False\n",
    "        print(\"Not using the GPU\")\n",
    "        \n",
    "\n",
    "@model_view.capture(clear_output=True)\n",
    "def use_data_button_clicked(button):\n",
    "    # Use the data folder as the input for segmentation\n",
    "    print(\"Loading in the jpgs from the data directory\")\n",
    "    # Copy the jpgs from data to a new folder called segmentation_data_[datetime]\n",
    "    if 'MNDWI' in model_dropdown.value:\n",
    "        sample_direc =r'C:\\1_USGS\\CoastSeg\\repos\\2_CoastSeg\\CoastSeg_fork\\Seg2Map\\MNDWI_outputs\\MNDWI_ouputs_2022-07-21__07_hr_57_min14'\n",
    "#         sample_direc = file_functions.get_jpgs_from_data('MNDWI')\n",
    "#         RGB_path=sample_direc+os.sep+'RGB'\n",
    "#         NIR_path=sample_direc+os.sep+'NIR'\n",
    "#         sample_direc = coastseg_map.RGB_to_MNDWI(RGB_path,NIR_path,sample_direc)\n",
    "        model_dict[\"sample_direc\"]=sample_direc\n",
    "    else:\n",
    "        sample_direc = file_functions.get_jpgs_from_data('RGB')\n",
    "        model_dict[\"sample_direc\"]=sample_direc\n",
    "        jpgs = glob.glob1(sample_direc + os.sep, \"*jpg\")\n",
    "        if jpgs == []:\n",
    "            raise Exception(\"\\nThe directory contains no jpgs! Please select a directory with jpgs.\")\n",
    "    print(f\"\\nContents of the data directory saved in {sample_direc}\")\n",
    "\n",
    "\n",
    "@model_view.capture(clear_output=True)\n",
    "def use_select_images_button_clicked(button):\n",
    "    # Prompt the user to select a directory of images                              \n",
    "    root.withdraw()                                        # Hide the main window.\n",
    "    root.call('wm', 'attributes', '.', '-topmost', True)   # Raise the root to the top of all windows.\n",
    "    root.filename =  filedialog.askdirectory(initialdir = \"/samples\",title = \"Select directory of images (or npzs) to segment\")\n",
    "    # Save the filename as an attribute of the button\n",
    "    if root.filename:\n",
    "        sample_direc= root.filename\n",
    "        model_dict[\"sample_direc\"]=root.filename\n",
    "        print(f\"The images in the folder will be segmented :\\n{sample_direc} \")\n",
    "        jpgs = glob.glob1(sample_direc + os.sep, \"*jpg\")\n",
    "        if jpgs == []:\n",
    "            raise Exception(\"The directory contains no jpgs! Please select a directory with jpgs.\")\n",
    "    else:\n",
    "        raise Exception(\"You must select a valid directory first!\")\n",
    "\n",
    "@run_model_view.capture(clear_output=True)\n",
    "def run_model_button_clicked(button):\n",
    "    print(\"Called Run Model\")\n",
    "    if model_dict[\"sample_direc\"] is None:\n",
    "        print(\"You must click 'Use Data' or 'Select Images' First\")\n",
    "        return\n",
    "    else:\n",
    "        if model_dict[\"use_GPU\"] == False:\n",
    "            print(\"Not using the GPU\")\n",
    "            ## to use the CPU (not recommended):\n",
    "            os.environ['CUDA_VISIBLE_DEVICES'] = '-1'\n",
    "        elif model_dict[\"use_GPU\"] == True:\n",
    "            print(\"Using the GPU\")\n",
    "            ##use the first available GPU\n",
    "            os.environ['CUDA_VISIBLE_DEVICES'] = '0' #'1'\n",
    "        if 'MNDWI' in model_dropdown.value:\n",
    "            dataset='MNDWI'\n",
    "        else:\n",
    "            dataset='RGB'\n",
    "        # Disable the run button while the model is running\n",
    "        run_model_button.disabled = True\n",
    "        dataset_id=model_dict['model_type']\n",
    "        # model_dict['implementation']=model_implementation.value\n",
    "        model_choice=model_dict['implementation']\n",
    "        zoo_model=zoo_model_module.Zoo_Model()\n",
    "        # First download the specified model\n",
    "        zoo_model.download_model(dataset,dataset_id)\n",
    "        # Get weights as list\n",
    "        Ww=zoo_model.get_weights_list(model_choice)\n",
    "        # Load the model from the config files\n",
    "        model, model_list, config_files, model_types=zoo_model.get_model(Ww)\n",
    "        metadatadict=zoo_model.get_metadatadict(Ww,config_files, model_types)\n",
    "        # # Compute the segmentation\n",
    "        zoo_model.compute_segmentation(model_dict[\"sample_direc\"], model_list, metadatadict)\n",
    "        # Enable run button when model is done\n",
    "        run_model_button.disabled = False\n",
    "    \n",
    "    \n",
    "model_implementation.observe(handle_model_implementation,\"value\")\n",
    "model_dropdown.observe(handle_model_type,\"value\")\n",
    "GPU_checkbox.observe(handle_GPU_checkbox,\"value\")\n",
    "\n",
    "\n",
    "run_model_button.on_click(run_model_button_clicked)\n",
    "use_data_button.on_click(use_data_button_clicked)\n",
    "use_select_images_button.on_click(use_select_images_button_clicked)\n",
    "\n",
    "model_choices_box=HBox([model_dropdown, model_implementation])\n",
    "\n",
    "line_widget=HTML(value=\"____________________________________________________\")\n",
    "\n",
    "instr_header=HTML(\n",
    "    value=\"<h4>Click ONE of the following buttons:</h4>\",layout=Layout(margin='0px 0px 0px 0px'))\n",
    "\n",
    "instr_use_data=HTML(\n",
    "    value=\"<b>1. Use Data Folder Button</b> \\\n",
    "        <br> - When CoastSat downloads imagery it created a folder called 'data'in the CoastSeg directory.\\\n",
    "            The jpgs within the 'data' folder will be copied to another folder with a name such as\\\n",
    "            <span style=\\\"background-color:LightGray;\\\">segmentation_data_2022-07-07__10_hr_04_min58 </span>\\\n",
    "            (the date and time will be the current date and time) <br> \\\n",
    "           The model will be applied to this folder and the model outputs will be generated within a subdirectory \\\n",
    "            called 'out'\",layout=Layout(margin='0px 0px 0px 20px'))\n",
    "\n",
    "instr_select_images=HTML(\n",
    "    value=\"<b>2. Select Images Button</b> \\\n",
    "        <br> - This will open a pop up window where the folder containing the jpgs can be selected.<br>\\\n",
    "             - The model will be applied to this folder and the model outputs will be generated within a subdirectory\\\n",
    "             called 'out'<br>\\\n",
    "      - <span style=\\\"background-color:yellow;\\\">WARNING :</span> You will not be able to see the files within the folder you select.<br>\\\n",
    "    \",layout=Layout(margin='0px 0px 0px 20px'))\n",
    "\n",
    "instr_run_model=HTML(\n",
    "    value=\"<b>3. Run Model Button</b> \\\n",
    "        <br> - Make sure to click Select Images Button or Use Data Button.<br>\\\n",
    "             - The model will be applied to the selected folder and the model outputs will be generated within a subdirectory\\\n",
    "             called 'out'<br>\\\n",
    "      - <span style=\\\"background-color:yellow;\\\">WARNING :</span> You should not run multiple models on the same folder. Otherwise not all the model outputs\\\n",
    "      will be saved to the folder.<br>\\\n",
    "    \",layout=Layout(margin='0px 0px 0px 20px'))\n",
    "\n",
    "\n",
    "instr_vbox=VBox([instr_header, line_widget, instr_use_data, instr_select_images, instr_run_model])\n",
    "\n",
    "display(GPU_checkbox,GPU_view,model_choices_box,instr_vbox,use_data_button,use_select_images_button,line_widget, model_view,run_model_button,run_model_view)"
   ]
  },
  {
   "cell_type": "code",
   "execution_count": null,
   "metadata": {},
   "outputs": [],
   "source": []
  }
 ],
 "metadata": {
  "kernelspec": {
   "display_name": "Python 3 (ipykernel)",
   "language": "python",
   "name": "python3"
  },
  "language_info": {
   "codemirror_mode": {
    "name": "ipython",
    "version": 3
   },
   "file_extension": ".py",
   "mimetype": "text/x-python",
   "name": "python",
   "nbconvert_exporter": "python",
   "pygments_lexer": "ipython3",
   "version": "3.10.4"
  },
  "vscode": {
   "interpreter": {
    "hash": "9d097efbdf24db87a2507c17c632c6d564e7aff5ba5cfc04e62a44a8b3d6a20a"
   }
  },
  "widgets": {
   "application/vnd.jupyter.widget-state+json": {
    "state": {
     "00e10ff3c4f84e668c8082463e6033f1": {
      "model_module": "@jupyter-widgets/base",
      "model_module_version": "1.2.0",
      "model_name": "LayoutModel",
      "state": {
       "height": "auto",
       "padding": "0px 0px 0px 4px",
       "width": "auto"
      }
     },
     "01d7a578c00e402589a14d05a9000a13": {
      "model_module": "@jupyter-widgets/base",
      "model_module_version": "1.2.0",
      "model_name": "LayoutModel",
      "state": {
       "height": "auto",
       "padding": "0px 0px 0px 4px",
       "width": "auto"
      }
     },
     "0301faef9c634f32974c6433cfac04ff": {
      "model_module": "@jupyter-widgets/controls",
      "model_module_version": "1.5.0",
      "model_name": "ProgressStyleModel",
      "state": {
       "description_width": ""
      }
     },
     "03c263f01add480a91bfc3a55f90250d": {
      "model_module": "jupyter-leaflet",
      "model_module_version": "^0.17.0",
      "model_name": "LeafletWMSLayerModel",
      "state": {
       "_model_module_version": "^0.17.0",
       "_view_module_version": "^0.17.0",
       "attribution": "FWS",
       "crs": {
        "custom": false,
        "name": "EPSG3857"
       },
       "format": "image/png",
       "layers": "0",
       "name": "FWS NWI Wetlands Raster",
       "options": [
        "attribution",
        "bounds",
        "detect_retina",
        "format",
        "layers",
        "max_native_zoom",
        "max_zoom",
        "min_native_zoom",
        "min_zoom",
        "no_wrap",
        "styles",
        "tile_size",
        "tms",
        "transparent",
        "uppercase"
       ],
       "transparent": true,
       "url": "https://www.fws.gov/wetlands/arcgis/services/Wetlands_Raster/ImageServer/WMSServer?"
      }
     },
     "0463aebdf5a1423499c2e2c188461d7f": {
      "model_module": "jupyter-leaflet",
      "model_module_version": "^0.17.0",
      "model_name": "LeafletWidgetControlModel",
      "state": {
       "_model_module": "jupyter-leaflet",
       "_model_module_version": "^0.17.0",
       "_view_count": null,
       "_view_module": "jupyter-leaflet",
       "_view_module_version": "^0.17.0",
       "options": [
        "position",
        "transparent_bg"
       ],
       "position": "topright",
       "widget": "IPY_MODEL_08494fa6846d4bf8b606d57d25744c0f"
      }
     },
     "049dba36d1104862a3bb2a6d82235ee0": {
      "model_module": "jupyter-leaflet",
      "model_module_version": "^0.17.0",
      "model_name": "LeafletTileLayerModel",
      "state": {
       "_model_module_version": "^0.17.0",
       "_view_module_version": "^0.17.0",
       "attribution": "Tiles (C) Esri -- Source: US National Park Service",
       "max_zoom": 8,
       "name": "Esri.WorldPhysical",
       "options": [
        "attribution",
        "bounds",
        "detect_retina",
        "max_native_zoom",
        "max_zoom",
        "min_native_zoom",
        "min_zoom",
        "no_wrap",
        "tile_size",
        "tms"
       ],
       "url": "https://server.arcgisonline.com/ArcGIS/rest/services/World_Physical_Map/MapServer/tile/{z}/{y}/{x}"
      }
     },
     "04d91f4c3f4a472692661003ed3370b7": {
      "model_module": "@jupyter-widgets/controls",
      "model_module_version": "1.5.0",
      "model_name": "HBoxModel",
      "state": {
       "children": [
        "IPY_MODEL_8b5a4a05c2c84c7b8b23726247c415ee",
        "IPY_MODEL_091d497cca134491a78e630c274c256f"
       ],
       "layout": "IPY_MODEL_5e310beecff44be3aecec252fb6bbe27"
      }
     },
     "0514cab989774754b28d764566275b32": {
      "model_module": "jupyter-leaflet",
      "model_module_version": "^0.17.0",
      "model_name": "LeafletTileLayerModel",
      "state": {
       "_model_module_version": "^0.17.0",
       "_view_module_version": "^0.17.0",
       "attribution": "Earthstar Geographics",
       "max_zoom": 24,
       "name": "Esri.ArcticImagery",
       "options": [
        "attribution",
        "bounds",
        "detect_retina",
        "max_native_zoom",
        "max_zoom",
        "min_native_zoom",
        "min_zoom",
        "no_wrap",
        "tile_size",
        "tms"
       ],
       "url": "http://server.arcgisonline.com/ArcGIS/rest/services/Polar/Arctic_Imagery/MapServer/tile/{z}/{y}/{x}"
      }
     },
     "0538e4fccd09431eb19afc1db41c3057": {
      "model_module": "jupyter-leaflet",
      "model_module_version": "^0.17.0",
      "model_name": "LeafletWMSLayerModel",
      "state": {
       "_model_module_version": "^0.17.0",
       "_view_module_version": "^0.17.0",
       "attribution": "MRLC",
       "crs": {
        "custom": false,
        "name": "EPSG3857"
       },
       "format": "image/png",
       "layers": "NLCD_2006_Land_Cover_L48",
       "name": "NLCD 2006 CONUS Land Cover",
       "options": [
        "attribution",
        "bounds",
        "detect_retina",
        "format",
        "layers",
        "max_native_zoom",
        "max_zoom",
        "min_native_zoom",
        "min_zoom",
        "no_wrap",
        "styles",
        "tile_size",
        "tms",
        "transparent",
        "uppercase"
       ],
       "transparent": true,
       "url": "https://www.mrlc.gov/geoserver/mrlc_display/NLCD_2006_Land_Cover_L48/wms?"
      }
     },
     "08465afa767f459a9b893a3b511d3e0e": {
      "model_module": "@jupyter-widgets/base",
      "model_module_version": "1.2.0",
      "model_name": "LayoutModel",
      "state": {}
     },
     "08494fa6846d4bf8b606d57d25744c0f": {
      "model_module": "@jupyter-widgets/controls",
      "model_module_version": "1.5.0",
      "model_name": "AccordionModel",
      "state": {
       "_titles": {
        "0": "Shoreline Data"
       },
       "children": [
        "IPY_MODEL_7f02f6f5fa534e5c955439bf618f117f"
       ],
       "layout": "IPY_MODEL_0d5ef88dcb3a431e9a0cc302964d6090"
      }
     },
     "091873adcd1b4f7290cba726a1b49740": {
      "model_module": "jupyter-leaflet",
      "model_module_version": "^0.17.0",
      "model_name": "LeafletTileLayerModel",
      "state": {
       "_model_module_version": "^0.17.0",
       "_view_module_version": "^0.17.0",
       "attribution": "CyclOSM | Map data: (C) OpenStreetMap contributors",
       "max_zoom": 20,
       "name": "CyclOSM",
       "options": [
        "attribution",
        "bounds",
        "detect_retina",
        "max_native_zoom",
        "max_zoom",
        "min_native_zoom",
        "min_zoom",
        "no_wrap",
        "tile_size",
        "tms"
       ],
       "url": "https://a.tile-cyclosm.openstreetmap.fr/cyclosm/{z}/{x}/{y}.png"
      }
     },
     "091d497cca134491a78e630c274c256f": {
      "model_module": "@jupyter-widgets/controls",
      "model_module_version": "1.5.0",
      "model_name": "DatePickerModel",
      "state": {
       "description": "End Date",
       "disabled": false,
       "layout": "IPY_MODEL_47093c7036a6496ba7f84d6f835722c1",
       "style": "IPY_MODEL_4a7b87137f784e7f978e26be4043199c",
       "value": {
        "date": 1,
        "month": 2,
        "year": 2019
       }
      }
     },
     "09691b7ff2ea4804ad561e2c3a062fa3": {
      "model_module": "@jupyter-widgets/controls",
      "model_module_version": "1.5.0",
      "model_name": "RadioButtonsModel",
      "state": {
       "_options_labels": [
        "ENSEMBLE",
        "BEST"
       ],
       "description": "Select:",
       "index": 0,
       "layout": "IPY_MODEL_96cafe766c304d9fb55e32ec8bf21f9a",
       "style": "IPY_MODEL_2a3b719a637541afa37d73a746efc44c"
      }
     },
     "0a9a9e415e894b68a448d73e5748742c": {
      "model_module": "@jupyter-widgets/base",
      "model_module_version": "1.2.0",
      "model_name": "LayoutModel",
      "state": {}
     },
     "0aa4d9cccbaa46c8939e057ccce02f37": {
      "model_module": "@jupyter-widgets/controls",
      "model_module_version": "1.5.0",
      "model_name": "DescriptionStyleModel",
      "state": {
       "description_width": ""
      }
     },
     "0c5c2d414423429fb8374fc2a8616d16": {
      "model_module": "@jupyter-widgets/controls",
      "model_module_version": "1.5.0",
      "model_name": "DescriptionStyleModel",
      "state": {
       "description_width": ""
      }
     },
     "0d0644dda04e4333a62f7d1694911e81": {
      "model_module": "@jupyter-widgets/base",
      "model_module_version": "1.2.0",
      "model_name": "LayoutModel",
      "state": {
       "padding": "10px"
      }
     },
     "0d5ef88dcb3a431e9a0cc302964d6090": {
      "model_module": "@jupyter-widgets/base",
      "model_module_version": "1.2.0",
      "model_name": "LayoutModel",
      "state": {}
     },
     "0d6fde66d3084428928e65045138131f": {
      "model_module": "@jupyter-widgets/controls",
      "model_module_version": "1.5.0",
      "model_name": "ButtonStyleModel",
      "state": {}
     },
     "0d7093a8b862437db4eb521cc0f5767a": {
      "model_module": "@jupyter-widgets/controls",
      "model_module_version": "1.5.0",
      "model_name": "DescriptionStyleModel",
      "state": {
       "description_width": ""
      }
     },
     "0d7e6c7bef664658b4475a45899698f2": {
      "model_module": "@jupyter-widgets/base",
      "model_module_version": "1.2.0",
      "model_name": "LayoutModel",
      "state": {}
     },
     "0eedd4158d8f426b81b65ab0578b5d1a": {
      "model_module": "@jupyter-widgets/output",
      "model_module_version": "1.0.0",
      "model_name": "OutputModel",
      "state": {
       "layout": "IPY_MODEL_cbce148539b24a9e9dcc88ee12d730ec",
       "outputs": [
        {
         "name": "stdout",
         "output_type": "stream",
         "text": "Loading in the jpgs from the data directory\n\nCopied files that matched C:\\1_USGS\\CoastSeg\\repos\\2_CoastSeg\\CoastSeg_fork\\Seg2Map\\data\\**\\\\**\\preprocessed\\RGB\\*.jpg  \nto C:\\1_USGS\\CoastSeg\\repos\\2_CoastSeg\\CoastSeg_fork\\Seg2Map\\segmentation_data_2022-08-23__17_hr_48_min44\n\nContents of the data directory saved in C:\\1_USGS\\CoastSeg\\repos\\2_CoastSeg\\CoastSeg_fork\\Seg2Map\\segmentation_data_2022-08-23__17_hr_48_min44\n"
        }
       ]
      }
     },
     "0fd5acdc626048e3a9f602291b4da4ad": {
      "model_module": "jupyter-leaflet",
      "model_module_version": "^0.17.0",
      "model_name": "LeafletTileLayerModel",
      "state": {
       "_model_module_version": "^0.17.0",
       "_view_module_version": "^0.17.0",
       "attribution": "Imagery provided by NOAA National Centers for Environmental Information (NCEI); International Bathymetric Chart of the Southern Ocean (IBCSO); General Bathymetric Chart of the Oceans (GEBCO).",
       "max_zoom": 9,
       "name": "Esri.AntarcticBasemap",
       "options": [
        "attribution",
        "bounds",
        "detect_retina",
        "max_native_zoom",
        "max_zoom",
        "min_native_zoom",
        "min_zoom",
        "no_wrap",
        "tile_size",
        "tms"
       ],
       "url": "https://tiles.arcgis.com/tiles/C8EMgrsFcRFL6LrL/arcgis/rest/services/Antarctic_Basemap/MapServer/tile/{z}/{y}/{x}"
      }
     },
     "10773cbd8d724292b0a1f56e039ab7fb": {
      "model_module": "jupyter-leaflet",
      "model_module_version": "^0.17.0",
      "model_name": "LeafletGeoJSONModel",
      "state": {
       "_model_module_version": "^0.17.0",
       "_view_module_version": "^0.17.0",
       "data": {
        "features": [
         {
          "geometry": {
           "coordinates": [
            [
             [
              -121.558644,
              35.99266099999999
             ],
             [
              -121.558644,
              36.02899362563398
             ],
             [
              -121.51372823579402,
              36.02899362563398
             ],
             [
              -121.51372823579402,
              35.99266099999999
             ],
             [
              -121.558644,
              35.99266099999999
             ]
            ]
           ],
           "type": "Polygon"
          },
          "id": "0",
          "properties": {
           "CHLOROPHYLL": 2.417483,
           "CSU_Descriptor": "steeply sloping, straight, medium erodibility, warm temperate dry, low river discharge, moderate wave energy, moderately tidal, euhaline-oxic-moderate to cool, clear, moderate chlorophyll",
           "CSU_ID": 70981,
           "Cluster": 6,
           "EMU_PHYSICAL": "Euhaline-Oxic-Moderate to Cool",
           "ERODIBILITY": "Medium",
           "GHM": 0.057545,
           "LENGTH_GEO": 808.7053256467224,
           "MAX_SLOPE": 108.650524,
           "MEAN_SIG_WAVEHEIGHT": 1.687268,
           "MasterKey": 2753663,
           "OBJECTID": 2753663,
           "OUTFLOW_DENSITY": 8671.790039,
           "OUTFLOW_DENSITY_RESCALED": 1.0484883786709782e-05,
           "REGIONAL_SINUOSITY": 1.140924,
           "RandomSort": 2361457.62831946,
           "Shape_Length": 0.008435847190592267,
           "TEMP_MOISTURE": "Warm Temperate Dry",
           "TIDAL_RANGE": 2.410373,
           "TURBIDITY": 0.024533,
           "chl_label": "moderate chlorophyll",
           "id": 14,
           "index_right": 17,
           "river_label": "low river discharge",
           "sinuosity_label": "straight",
           "slope_label": "steeply sloping",
           "style": {
            "color": "blue",
            "fillColor": "grey",
            "fillOpacity": 0.1,
            "weight": 3
           },
           "tidal_label": "moderately tidal",
           "turbid_label": "clear",
           "wave_label": "moderate wave energy"
          },
          "type": "Feature"
         }
        ],
        "type": "FeatureCollection"
       },
       "hover_style": {
        "color": "aqua",
        "fillColor": "blue"
       },
       "name": "Selected ROIs"
      }
     },
     "10889ab5a5ed4b58a65bbbc2c4bdec71": {
      "model_module": "@jupyter-widgets/controls",
      "model_module_version": "1.5.0",
      "model_name": "VBoxModel",
      "state": {
       "children": [
        "IPY_MODEL_524e36a0540041649d4b4ee7ccdbb60b"
       ],
       "layout": "IPY_MODEL_14ad70a0698944488dc2ca8aa3112c1a"
      }
     },
     "1098d1658c0144079f4b8e5182b71bda": {
      "model_module": "@jupyter-widgets/base",
      "model_module_version": "1.2.0",
      "model_name": "LayoutModel",
      "state": {}
     },
     "10c81839493c4010b70cef877d0a87f6": {
      "model_module": "@jupyter-widgets/controls",
      "model_module_version": "1.5.0",
      "model_name": "ButtonModel",
      "state": {
       "description": "Save ROI",
       "layout": "IPY_MODEL_e016a702c1554c1bbe102e329427b11a",
       "style": "IPY_MODEL_47993e33b00542e0a48edb26af58d79b"
      }
     },
     "1299ecda9fd34a2e801ffd12b553cf4d": {
      "model_module": "@jupyter-widgets/controls",
      "model_module_version": "1.5.0",
      "model_name": "ButtonStyleModel",
      "state": {}
     },
     "14ad70a0698944488dc2ca8aa3112c1a": {
      "model_module": "@jupyter-widgets/base",
      "model_module_version": "1.2.0",
      "model_name": "LayoutModel",
      "state": {}
     },
     "179a6141fe994af2a7a27aff7c2b4367": {
      "model_module": "@jupyter-widgets/base",
      "model_module_version": "1.2.0",
      "model_name": "LayoutModel",
      "state": {
       "height": "auto",
       "padding": "0px 0px 0px 4px",
       "width": "auto"
      }
     },
     "17d7e6b7b08346a49717f1f87e8c1659": {
      "model_module": "jupyter-leaflet",
      "model_module_version": "^0.17.0",
      "model_name": "LeafletTileLayerModel",
      "state": {
       "_model_module_version": "^0.17.0",
       "_view_module_version": "^0.17.0",
       "attribution": "Geoportail France",
       "max_zoom": 20,
       "name": "GeoportailFrance.parcels",
       "options": [
        "attribution",
        "bounds",
        "detect_retina",
        "max_native_zoom",
        "max_zoom",
        "min_native_zoom",
        "min_zoom",
        "no_wrap",
        "tile_size",
        "tms"
       ],
       "url": "https://wxs.ign.fr/choisirgeoportail/geoportail/wmts?REQUEST=GetTile&SERVICE=WMTS&VERSION=1.0.0&STYLE=PCI vecteur&TILEMATRIXSET=PM&FORMAT=image/png&LAYER=CADASTRALPARCELS.PARCELLAIRE_EXPRESS&TILEMATRIX={z}&TILEROW={y}&TILECOL={x}"
      }
     },
     "188a810483f94497ae7535ed619c2fd4": {
      "model_module": "jupyter-leaflet",
      "model_module_version": "^0.17.0",
      "model_name": "LeafletTileLayerModel",
      "state": {
       "_model_module_version": "^0.17.0",
       "_view_module_version": "^0.17.0",
       "attribution": "Imagery provided by services from the Global Imagery Browse Services (GIBS), operated by the NASA/GSFC/Earth Science Data and Information System (ESDIS) with funding provided by NASA/HQ.",
       "max_zoom": 8,
       "name": "NASAGIBS.ViirsEarthAtNight2012",
       "options": [
        "attribution",
        "bounds",
        "detect_retina",
        "max_native_zoom",
        "max_zoom",
        "min_native_zoom",
        "min_zoom",
        "no_wrap",
        "tile_size",
        "tms"
       ],
       "url": "https://map1.vis.earthdata.nasa.gov/wmts-webmerc/VIIRS_CityLights_2012/default//GoogleMapsCompatible_Level8/{z}/{y}/{x}.jpg"
      }
     },
     "1ac3ac7bd71448fa9ca1147e54ea81ee": {
      "model_module": "@jupyter-widgets/controls",
      "model_module_version": "1.5.0",
      "model_name": "DescriptionStyleModel",
      "state": {
       "description_width": ""
      }
     },
     "1ace6bba308d4927a1b7508736e43a2c": {
      "model_module": "jupyter-leaflet",
      "model_module_version": "^0.17.0",
      "model_name": "LeafletTileLayerModel",
      "state": {
       "_model_module_version": "^0.17.0",
       "_view_module_version": "^0.17.0",
       "attribution": "Map tiles by <a href=\"https://labs.strava.com/heatmap\">Strava 2021</a>",
       "max_zoom": 15,
       "name": "Strava.Winter",
       "options": [
        "attribution",
        "bounds",
        "detect_retina",
        "max_native_zoom",
        "max_zoom",
        "min_native_zoom",
        "min_zoom",
        "no_wrap",
        "tile_size",
        "tms"
       ],
       "url": "https://heatmap-external-a.strava.com/tiles/winter/hot/{z}/{x}/{y}.png"
      }
     },
     "1c0a85870f5145b1ac876d2d3bb3415b": {
      "model_module": "@jupyter-widgets/controls",
      "model_module_version": "1.5.0",
      "model_name": "HBoxModel",
      "state": {
       "children": [
        "IPY_MODEL_5895f355d3c54b16ba1a816199448b4b",
        "IPY_MODEL_c609422c59ac4d3bbb68044576b5bd9c",
        "IPY_MODEL_e0a12e68d1574cbda0fb2573a1fc95c3",
        "IPY_MODEL_7bb8502e2c1a40acb9fc1ca55e5bda71",
        "IPY_MODEL_4b91f35764d14963a0f6d6d3ccfddad7",
        "IPY_MODEL_d98c295215e44e50b10252ad526dfef5"
       ],
       "layout": "IPY_MODEL_3c6ad83e626142f7be539b00566c4d97"
      }
     },
     "1ca79d2843134491bcbcf7eed516ec65": {
      "model_module": "@jupyter-widgets/base",
      "model_module_version": "1.2.0",
      "model_name": "LayoutModel",
      "state": {}
     },
     "1cbc1325a6d34aa69831620cfe9145d1": {
      "model_module": "jupyter-leaflet",
      "model_module_version": "^0.17.0",
      "model_name": "LeafletTileLayerModel",
      "state": {
       "_model_module_version": "^0.17.0",
       "_view_module_version": "^0.17.0",
       "attribution": "OpenStreetMap",
       "max_zoom": 22,
       "name": "OpenStreetMap",
       "options": [
        "attribution",
        "bounds",
        "detect_retina",
        "max_native_zoom",
        "max_zoom",
        "min_native_zoom",
        "min_zoom",
        "no_wrap",
        "tile_size",
        "tms"
       ]
      }
     },
     "1dc1267ffe3d4ed8a49eade98ecda5b6": {
      "model_module": "@jupyter-widgets/base",
      "model_module_version": "1.2.0",
      "model_name": "LayoutModel",
      "state": {
       "margin": "0px 0px 0px 20px"
      }
     },
     "1df31a283e174eb7a0af0c5bb37b008c": {
      "model_module": "jupyter-leaflet",
      "model_module_version": "^0.17.0",
      "model_name": "LeafletTileLayerModel",
      "state": {
       "_model_module_version": "^0.17.0",
       "_view_module_version": "^0.17.0",
       "attribution": "Imagery provided by services from the Global Imagery Browse Services (GIBS), operated by the NASA/GSFC/Earth Science Data and Information System (ESDIS) with funding provided by NASA/HQ.",
       "max_zoom": 12,
       "name": "NASAGIBS.ASTER_GDEM_Greyscale_Shaded_Relief",
       "options": [
        "attribution",
        "bounds",
        "detect_retina",
        "max_native_zoom",
        "max_zoom",
        "min_native_zoom",
        "min_zoom",
        "no_wrap",
        "tile_size",
        "tms"
       ],
       "url": "https://gibs.earthdata.nasa.gov/wmts/epsg3857/best/ASTER_GDEM_Greyscale_Shaded_Relief/default/GoogleMapsCompatible_Level12/{z}/{y}/{x}.jpg"
      }
     },
     "1f463eb62fe94be8a1fe9829a0d85348": {
      "model_module": "@jupyter-widgets/controls",
      "model_module_version": "1.5.0",
      "model_name": "ButtonStyleModel",
      "state": {}
     },
     "1f48ff1b598446668dddf23295d7a75f": {
      "model_module": "@jupyter-widgets/controls",
      "model_module_version": "1.5.0",
      "model_name": "DescriptionStyleModel",
      "state": {
       "description_width": ""
      }
     },
     "1f4eaa78f0de4171939444ec100f0722": {
      "model_module": "jupyter-leaflet",
      "model_module_version": "^0.17.0",
      "model_name": "LeafletTileLayerModel",
      "state": {
       "_model_module_version": "^0.17.0",
       "_view_module_version": "^0.17.0",
       "attribution": "Justice Map",
       "max_zoom": 22,
       "name": "JusticeMap.nonWhite",
       "options": [
        "attribution",
        "bounds",
        "detect_retina",
        "max_native_zoom",
        "max_zoom",
        "min_native_zoom",
        "min_zoom",
        "no_wrap",
        "tile_size",
        "tms"
       ],
       "url": "https://www.justicemap.org/tile/county/nonwhite/{z}/{x}/{y}.png"
      }
     },
     "1fc986ab9e864c51b7dd4ef4f2f4c001": {
      "model_module": "ipyevents",
      "model_module_version": "2.0.1",
      "model_name": "EventModel",
      "state": {
       "_supported_key_events": [
        "keydown",
        "keyup"
       ],
       "_supported_mouse_events": [
        "click",
        "auxclick",
        "dblclick",
        "mouseenter",
        "mouseleave",
        "mousedown",
        "mouseup",
        "mousemove",
        "wheel",
        "contextmenu",
        "dragstart",
        "drag",
        "dragend",
        "dragenter",
        "dragover",
        "dragleave",
        "drop"
       ],
       "_supported_touch_events": [
        "touchstart",
        "touchend",
        "touchmove",
        "touchcancel"
       ],
       "_view_module": "@jupyter-widgets/controls",
       "_view_module_version": "1.5.0",
       "source": "IPY_MODEL_d5af15978be24494b99fe524374acea8",
       "throttle_or_debounce": "",
       "watched_events": [
        "mouseenter",
        "mouseleave"
       ],
       "xy_coordinate_system": ""
      }
     },
     "20eafc97a5f648669a160dc0083b182c": {
      "model_module": "jupyter-leaflet",
      "model_module_version": "^0.17.0",
      "model_name": "LeafletTileLayerModel",
      "state": {
       "_model_module_version": "^0.17.0",
       "_view_module_version": "^0.17.0",
       "attribution": "Imagery provided by services from the Global Imagery Browse Services (GIBS), operated by the NASA/GSFC/Earth Science Data and Information System (ESDIS) with funding provided by NASA/HQ.",
       "max_zoom": 8,
       "name": "NASAGIBS.BlueMarble",
       "options": [
        "attribution",
        "bounds",
        "detect_retina",
        "max_native_zoom",
        "max_zoom",
        "min_native_zoom",
        "min_zoom",
        "no_wrap",
        "tile_size",
        "tms"
       ],
       "url": "https://gibs.earthdata.nasa.gov/wmts/epsg3857/best/BlueMarble_NextGeneration/default/EPSG3857_500m/{z}/{y}/{x}.jpeg"
      }
     },
     "2477d3d3af4a4bbcbe760e3a13a4b3f0": {
      "model_module": "@jupyter-widgets/controls",
      "model_module_version": "1.5.0",
      "model_name": "ButtonModel",
      "state": {
       "description": "Load Transects",
       "layout": "IPY_MODEL_691a21cd02704fe7bce653cf61501145",
       "style": "IPY_MODEL_0d6fde66d3084428928e65045138131f"
      }
     },
     "2478014205c34a58aff145d9bdb9bbe2": {
      "model_module": "@jupyter-widgets/base",
      "model_module_version": "1.2.0",
      "model_name": "LayoutModel",
      "state": {}
     },
     "24a483ffd3f6476aacf17d087b1e0ced": {
      "model_module": "jupyter-leaflet",
      "model_module_version": "^0.17.0",
      "model_name": "LeafletWMSLayerModel",
      "state": {
       "_model_module_version": "^0.17.0",
       "_view_module_version": "^0.17.0",
       "attribution": "MRLC",
       "crs": {
        "custom": false,
        "name": "EPSG3857"
       },
       "format": "image/png",
       "layers": "NLCD_2011_Land_Cover_L48",
       "name": "NLCD 2011 CONUS Land Cover",
       "options": [
        "attribution",
        "bounds",
        "detect_retina",
        "format",
        "layers",
        "max_native_zoom",
        "max_zoom",
        "min_native_zoom",
        "min_zoom",
        "no_wrap",
        "styles",
        "tile_size",
        "tms",
        "transparent",
        "uppercase"
       ],
       "transparent": true,
       "url": "https://www.mrlc.gov/geoserver/mrlc_display/NLCD_2011_Land_Cover_L48/wms?"
      }
     },
     "250deac57f7e4a99a3a13353347b3931": {
      "model_module": "jupyter-leaflet",
      "model_module_version": "^0.17.0",
      "model_name": "LeafletWMSLayerModel",
      "state": {
       "_model_module_version": "^0.17.0",
       "_view_module_version": "^0.17.0",
       "attribution": "USGS",
       "crs": {
        "custom": false,
        "name": "EPSG3857"
       },
       "format": "image/png",
       "layers": "0",
       "name": "USGS Hydrography",
       "options": [
        "attribution",
        "bounds",
        "detect_retina",
        "format",
        "layers",
        "max_native_zoom",
        "max_zoom",
        "min_native_zoom",
        "min_zoom",
        "no_wrap",
        "styles",
        "tile_size",
        "tms",
        "transparent",
        "uppercase"
       ],
       "transparent": true,
       "url": "https://basemap.nationalmap.gov/arcgis/services/USGSHydroCached/MapServer/WMSServer?"
      }
     },
     "2516ae66734b4df2a9df6e62d72c43ae": {
      "model_module": "@jupyter-widgets/base",
      "model_module_version": "1.2.0",
      "model_name": "LayoutModel",
      "state": {
       "margin": "0px 0px 0px 0px"
      }
     },
     "268056e11406410794439970ca10a8d3": {
      "model_module": "jupyter-leaflet",
      "model_module_version": "^0.17.0",
      "model_name": "LeafletTileLayerModel",
      "state": {
       "_model_module_version": "^0.17.0",
       "_view_module_version": "^0.17.0",
       "attribution": "Map data: (C) OpenStreetMap contributors | Map style: (C) waymarkedtrails.org (CC-BY-SA)",
       "name": "WaymarkedTrails.riding",
       "options": [
        "attribution",
        "bounds",
        "detect_retina",
        "max_native_zoom",
        "max_zoom",
        "min_native_zoom",
        "min_zoom",
        "no_wrap",
        "tile_size",
        "tms"
       ],
       "url": "https://tile.waymarkedtrails.org/riding/{z}/{x}/{y}.png"
      }
     },
     "26f4c4a33d1a493588bcdfe935103c2c": {
      "model_module": "@jupyter-widgets/controls",
      "model_module_version": "1.5.0",
      "model_name": "DescriptionStyleModel",
      "state": {
       "description_width": ""
      }
     },
     "2761d93b5b6d4a9595bdb979f12b0d3b": {
      "model_module": "jupyter-leaflet",
      "model_module_version": "^0.17.0",
      "model_name": "LeafletTileLayerModel",
      "state": {
       "_model_module_version": "^0.17.0",
       "_view_module_version": "^0.17.0",
       "attribution": "Justice Map",
       "max_zoom": 22,
       "name": "JusticeMap.americanIndian",
       "options": [
        "attribution",
        "bounds",
        "detect_retina",
        "max_native_zoom",
        "max_zoom",
        "min_native_zoom",
        "min_zoom",
        "no_wrap",
        "tile_size",
        "tms"
       ],
       "url": "https://www.justicemap.org/tile/county/indian/{z}/{x}/{y}.png"
      }
     },
     "28509c3bf0b042e3810edee47aae80db": {
      "model_module": "jupyter-leaflet",
      "model_module_version": "^0.17.0",
      "model_name": "LeafletTileLayerModel",
      "state": {
       "_model_module_version": "^0.17.0",
       "_view_module_version": "^0.17.0",
       "attribution": "Map tiles by <a href=\"https://labs.strava.com/heatmap\">Strava 2021</a>",
       "max_zoom": 15,
       "name": "Strava.Run",
       "options": [
        "attribution",
        "bounds",
        "detect_retina",
        "max_native_zoom",
        "max_zoom",
        "min_native_zoom",
        "min_zoom",
        "no_wrap",
        "tile_size",
        "tms"
       ],
       "url": "https://heatmap-external-a.strava.com/tiles/run/bluered/{z}/{x}/{y}.png"
      }
     },
     "28cb552f88b040feabaf9b328fa2908e": {
      "model_module": "@jupyter-widgets/controls",
      "model_module_version": "1.5.0",
      "model_name": "FloatProgressModel",
      "state": {
       "bar_style": "success",
       "layout": "IPY_MODEL_0d7e6c7bef664658b4475a45899698f2",
       "max": 7,
       "style": "IPY_MODEL_0301faef9c634f32974c6433cfac04ff",
       "value": 7
      }
     },
     "2a3b719a637541afa37d73a746efc44c": {
      "model_module": "@jupyter-widgets/controls",
      "model_module_version": "1.5.0",
      "model_name": "DescriptionStyleModel",
      "state": {
       "description_width": ""
      }
     },
     "2baeb7a1a54a41f4b8b98d877d084046": {
      "model_module": "jupyter-leaflet",
      "model_module_version": "^0.17.0",
      "model_name": "LeafletTileLayerModel",
      "state": {
       "_model_module_version": "^0.17.0",
       "_view_module_version": "^0.17.0",
       "attribution": "Imagery provided by services from the Global Imagery Browse Services (GIBS), operated by the NASA/GSFC/Earth Science Data and Information System (ESDIS) with funding provided by NASA/HQ.",
       "max_zoom": 9,
       "name": "NASAGIBS.ModisTerraBands367CR",
       "options": [
        "attribution",
        "bounds",
        "detect_retina",
        "max_native_zoom",
        "max_zoom",
        "min_native_zoom",
        "min_zoom",
        "no_wrap",
        "tile_size",
        "tms"
       ],
       "url": "https://map1.vis.earthdata.nasa.gov/wmts-webmerc/MODIS_Terra_CorrectedReflectance_Bands367/default//GoogleMapsCompatible_Level9/{z}/{y}/{x}.jpg"
      }
     },
     "2deb0870d4b0423cb5ace0a0769c8d69": {
      "model_module": "@jupyter-widgets/controls",
      "model_module_version": "1.5.0",
      "model_name": "ButtonStyleModel",
      "state": {}
     },
     "2e4d31d86bd543bd80dadfe74d90c100": {
      "model_module": "@jupyter-widgets/controls",
      "model_module_version": "1.5.0",
      "model_name": "ToggleButtonModel",
      "state": {
       "button_style": "primary",
       "icon": "map",
       "layout": "IPY_MODEL_54bb54a674db4eb491caf4a3b10b1456",
       "style": "IPY_MODEL_efb22bd7912040b5986719f2b92a51a7",
       "tooltip": "Change basemap"
      }
     },
     "2ec5e915782546afa09dee1827afe988": {
      "model_module": "@jupyter-widgets/controls",
      "model_module_version": "1.5.0",
      "model_name": "DescriptionStyleModel",
      "state": {
       "description_width": ""
      }
     },
     "2f2edbce57844b6ca3b8057aed37500c": {
      "model_module": "jupyter-leaflet",
      "model_module_version": "^0.17.0",
      "model_name": "LeafletTileLayerModel",
      "state": {
       "_model_module_version": "^0.17.0",
       "_view_module_version": "^0.17.0",
       "attribution": "Imagery provided by services from the Global Imagery Browse Services (GIBS), operated by the NASA/GSFC/Earth Science Data and Information System (ESDIS) with funding provided by NASA/HQ.",
       "max_zoom": 5,
       "name": "NASAGIBS.BlueMarble3031",
       "options": [
        "attribution",
        "bounds",
        "detect_retina",
        "max_native_zoom",
        "max_zoom",
        "min_native_zoom",
        "min_zoom",
        "no_wrap",
        "tile_size",
        "tms"
       ],
       "url": "https://gibs.earthdata.nasa.gov/wmts/epsg3031/best/BlueMarble_NextGeneration/default/EPSG3031_500m/{z}/{y}/{x}.jpeg"
      }
     },
     "313bb7c0b885462d9af61522d6146467": {
      "model_module": "@jupyter-widgets/controls",
      "model_module_version": "1.5.0",
      "model_name": "HTMLModel",
      "state": {
       "layout": "IPY_MODEL_d5dc10b7b702400393c628ae0494b345",
       "style": "IPY_MODEL_db15c6a3984944c7a9d035cff3090e58",
       "value": "____________________________________________________"
      }
     },
     "318c37c1fb3746948be1b132817afb8b": {
      "model_module": "jupyter-leaflet",
      "model_module_version": "^0.17.0",
      "model_name": "LeafletTileLayerModel",
      "state": {
       "_model_module_version": "^0.17.0",
       "_view_module_version": "^0.17.0",
       "attribution": "&copy; <a href=\"http://www.gaode.com/\">Gaode.com</a>",
       "max_zoom": 19,
       "name": "Gaode.Normal",
       "options": [
        "attribution",
        "bounds",
        "detect_retina",
        "max_native_zoom",
        "max_zoom",
        "min_native_zoom",
        "min_zoom",
        "no_wrap",
        "tile_size",
        "tms"
       ],
       "url": "http://webrd01.is.autonavi.com/appmaptile?lang=zh_cn&size=1&scale=1&style=7&x={x}&y={y}&z={z}"
      }
     },
     "31c674251e33493186950b2095ccc2e9": {
      "model_module": "@jupyter-widgets/base",
      "model_module_version": "1.2.0",
      "model_name": "LayoutModel",
      "state": {}
     },
     "33de71273f174286b142b634b6ee3b48": {
      "model_module": "@jupyter-widgets/controls",
      "model_module_version": "1.5.0",
      "model_name": "ToggleButtonModel",
      "state": {
       "icon": "server",
       "layout": "IPY_MODEL_9166e3e2196f47cf8cf4183be3d070d8",
       "style": "IPY_MODEL_92787ff0b2bd412fbd43b56d57df1886",
       "tooltip": "Layers"
      }
     },
     "354f70750bb74ed19a439361699715ab": {
      "model_module": "@jupyter-widgets/controls",
      "model_module_version": "1.5.0",
      "model_name": "DescriptionStyleModel",
      "state": {
       "description_width": ""
      }
     },
     "36b09f900f3e4660b7cfcc36152af5f6": {
      "model_module": "@jupyter-widgets/base",
      "model_module_version": "1.2.0",
      "model_name": "LayoutModel",
      "state": {
       "grid_gap": "1px 1px",
       "grid_template_columns": "32px 32px 32px ",
       "grid_template_rows": "32px 32px 32px 32px 32px 32px ",
       "padding": "5px",
       "width": "109px"
      }
     },
     "37d82a34a6664ade9dd028f54190788e": {
      "model_module": "@jupyter-widgets/controls",
      "model_module_version": "1.5.0",
      "model_name": "ToggleButtonModel",
      "state": {
       "button_style": "primary",
       "icon": "stack-exchange",
       "layout": "IPY_MODEL_9f5210dafe0940168782ec0d0baaf540",
       "style": "IPY_MODEL_d91341905fb9438f8f6dc7c6f673483d",
       "tooltip": "Discover STAC Catalog"
      }
     },
     "3821d8959e9c4115a19efcb3f2c96a5c": {
      "model_module": "jupyter-leaflet",
      "model_module_version": "^0.17.0",
      "model_name": "LeafletTileLayerModel",
      "state": {
       "_model_module_version": "^0.17.0",
       "_view_module_version": "^0.17.0",
       "attribution": "(C) OpenStreetMap contributors",
       "max_zoom": 15,
       "name": "HikeBike.HillShading",
       "options": [
        "attribution",
        "bounds",
        "detect_retina",
        "max_native_zoom",
        "max_zoom",
        "min_native_zoom",
        "min_zoom",
        "no_wrap",
        "tile_size",
        "tms"
       ],
       "url": "https://tiles.wmflabs.org/hillshading/{z}/{x}/{y}.png"
      }
     },
     "3a388474a2cb4782876405f16bffa455": {
      "model_module": "@jupyter-widgets/controls",
      "model_module_version": "1.5.0",
      "model_name": "VBoxModel",
      "state": {
       "children": [
        "IPY_MODEL_d1491324846945c9a81d12c053745927",
        "IPY_MODEL_b94b06d03af44d3fa23a0c645a49ae64"
       ],
       "layout": "IPY_MODEL_ad7d8aabebb549778140eac8e2409799"
      }
     },
     "3a3b738ea17b4023b33671613629bb10": {
      "model_module": "jupyter-leaflet",
      "model_module_version": "^0.17.0",
      "model_name": "LeafletTileLayerModel",
      "state": {
       "_model_module_version": "^0.17.0",
       "_view_module_version": "^0.17.0",
       "attribution": "(C) OpenStreetMap contributors",
       "name": "OpenStreetMap.CH",
       "options": [
        "attribution",
        "bounds",
        "detect_retina",
        "max_native_zoom",
        "max_zoom",
        "min_native_zoom",
        "min_zoom",
        "no_wrap",
        "tile_size",
        "tms"
       ],
       "url": "https://tile.osm.ch/switzerland/{z}/{x}/{y}.png"
      }
     },
     "3b28cb5122a64f3784d39be15d655167": {
      "model_module": "@jupyter-widgets/base",
      "model_module_version": "1.2.0",
      "model_name": "LayoutModel",
      "state": {}
     },
     "3bb20560d3844317b92b8ade5fac01c6": {
      "model_module": "@jupyter-widgets/controls",
      "model_module_version": "1.5.0",
      "model_name": "DescriptionStyleModel",
      "state": {
       "description_width": ""
      }
     },
     "3c6ad83e626142f7be539b00566c4d97": {
      "model_module": "@jupyter-widgets/base",
      "model_module_version": "1.2.0",
      "model_name": "LayoutModel",
      "state": {}
     },
     "3cc3f651ced545e984af62d887aa1fce": {
      "model_module": "jupyter-leaflet",
      "model_module_version": "^0.17.0",
      "model_name": "LeafletTileLayerModel",
      "state": {
       "_model_module_version": "^0.17.0",
       "_view_module_version": "^0.17.0",
       "attribution": "Map data: (C) OpenStreetMap contributors | Map style: (C) waymarkedtrails.org (CC-BY-SA)",
       "name": "WaymarkedTrails.slopes",
       "options": [
        "attribution",
        "bounds",
        "detect_retina",
        "max_native_zoom",
        "max_zoom",
        "min_native_zoom",
        "min_zoom",
        "no_wrap",
        "tile_size",
        "tms"
       ],
       "url": "https://tile.waymarkedtrails.org/slopes/{z}/{x}/{y}.png"
      }
     },
     "3d6b3c2299184b5682c6a5470452ef7e": {
      "model_module": "jupyter-leaflet",
      "model_module_version": "^0.17.0",
      "model_name": "LeafletWMSLayerModel",
      "state": {
       "_model_module_version": "^0.17.0",
       "_view_module_version": "^0.17.0",
       "attribution": "MRLC",
       "crs": {
        "custom": false,
        "name": "EPSG3857"
       },
       "format": "image/png",
       "layers": "NLCD_2004_Land_Cover_L48",
       "name": "NLCD 2004 CONUS Land Cover",
       "options": [
        "attribution",
        "bounds",
        "detect_retina",
        "format",
        "layers",
        "max_native_zoom",
        "max_zoom",
        "min_native_zoom",
        "min_zoom",
        "no_wrap",
        "styles",
        "tile_size",
        "tms",
        "transparent",
        "uppercase"
       ],
       "transparent": true,
       "url": "https://www.mrlc.gov/geoserver/mrlc_display/NLCD_2004_Land_Cover_L48/wms?"
      }
     },
     "3f101f8423e14c73983101ce2bddf204": {
      "model_module": "@jupyter-widgets/controls",
      "model_module_version": "1.5.0",
      "model_name": "VBoxModel",
      "state": {
       "children": [
        "IPY_MODEL_9fdf692107ec4457947dd9a5bb495824",
        "IPY_MODEL_8c9de3e3490b4f62bc868b59a2143f0c"
       ],
       "layout": "IPY_MODEL_c43c65f282434160ab97cb18a0ddada2"
      }
     },
     "40a77f450f7644a199bc594be0bc8b16": {
      "model_module": "jupyter-leaflet",
      "model_module_version": "^0.17.0",
      "model_name": "LeafletWMSLayerModel",
      "state": {
       "_model_module_version": "^0.17.0",
       "_view_module_version": "^0.17.0",
       "attribution": "MRLC",
       "crs": {
        "custom": false,
        "name": "EPSG3857"
       },
       "format": "image/png",
       "layers": "NLCD_2013_Land_Cover_L48",
       "name": "NLCD 2013 CONUS Land Cover",
       "options": [
        "attribution",
        "bounds",
        "detect_retina",
        "format",
        "layers",
        "max_native_zoom",
        "max_zoom",
        "min_native_zoom",
        "min_zoom",
        "no_wrap",
        "styles",
        "tile_size",
        "tms",
        "transparent",
        "uppercase"
       ],
       "transparent": true,
       "url": "https://www.mrlc.gov/geoserver/mrlc_display/NLCD_2013_Land_Cover_L48/wms?"
      }
     },
     "4163e24b96554eb787fea31f913817cb": {
      "model_module": "@jupyter-widgets/base",
      "model_module_version": "1.2.0",
      "model_name": "LayoutModel",
      "state": {}
     },
     "41d93620e9454072bb9eb4a6a1f92318": {
      "model_module": "@jupyter-widgets/controls",
      "model_module_version": "1.5.0",
      "model_name": "ToggleButtonModel",
      "state": {
       "button_style": "primary",
       "icon": "pencil-square-o",
       "layout": "IPY_MODEL_c1b4d9592fad466f875aa999e481eff1",
       "style": "IPY_MODEL_7b5f42f0da474c0abef99380d3dc3595",
       "tooltip": "Create vector data"
      }
     },
     "42698ca1504246b099f174f406d97ea7": {
      "model_module": "@jupyter-widgets/controls",
      "model_module_version": "1.5.0",
      "model_name": "DescriptionStyleModel",
      "state": {
       "description_width": ""
      }
     },
     "427134cd36ce46ebb5628e8b6b675525": {
      "model_module": "jupyter-leaflet",
      "model_module_version": "^0.17.0",
      "model_name": "LeafletTileLayerModel",
      "state": {
       "_model_module_version": "^0.17.0",
       "_view_module_version": "^0.17.0",
       "attribution": "Map tiles by Stamen Design, CC BY 3.0 -- Map data (C) OpenStreetMap contributors",
       "name": "Stamen.Terrain",
       "options": [
        "attribution",
        "bounds",
        "detect_retina",
        "max_native_zoom",
        "max_zoom",
        "min_native_zoom",
        "min_zoom",
        "no_wrap",
        "tile_size",
        "tms"
       ],
       "url": "https://stamen-tiles-a.a.ssl.fastly.net/terrain/{z}/{x}/{y}.png"
      }
     },
     "42e2676ea42b43459bb7ac66ca57df1b": {
      "model_module": "@jupyter-widgets/controls",
      "model_module_version": "1.5.0",
      "model_name": "ToggleButtonModel",
      "state": {
       "button_style": "primary",
       "icon": "info",
       "layout": "IPY_MODEL_932a9bc3a8f9412b829c1fd396ae894b",
       "style": "IPY_MODEL_65d67e0e39ea438b89c73031ae5b9d2f",
       "tooltip": "Get COG/STAC pixel value"
      }
     },
     "436f345e7b024cadb92a375455ee4928": {
      "model_module": "jupyter-leaflet",
      "model_module_version": "^0.17.0",
      "model_name": "LeafletTileLayerModel",
      "state": {
       "_model_module_version": "^0.17.0",
       "_view_module_version": "^0.17.0",
       "attribution": "Map tiles by Stamen Design, CC BY 3.0 -- Map data (C) OpenStreetMap contributors",
       "max_zoom": 20,
       "name": "Stamen.TopOSMRelief",
       "options": [
        "attribution",
        "bounds",
        "detect_retina",
        "max_native_zoom",
        "max_zoom",
        "min_native_zoom",
        "min_zoom",
        "no_wrap",
        "tile_size",
        "tms"
       ],
       "url": "https://stamen-tiles-a.a.ssl.fastly.net/toposm-color-relief/{z}/{x}/{y}.jpg"
      }
     },
     "44238ac423214c00aa27825cdabe5e1e": {
      "model_module": "@jupyter-widgets/controls",
      "model_module_version": "1.5.0",
      "model_name": "ButtonStyleModel",
      "state": {}
     },
     "443434d43acb487cb61dea42ad9ff74d": {
      "model_module": "@jupyter-widgets/controls",
      "model_module_version": "1.5.0",
      "model_name": "ButtonModel",
      "state": {
       "description": "Select Your Images",
       "layout": "IPY_MODEL_f527ff48a41f4b6dbd7f9990d5d7f168",
       "style": "IPY_MODEL_cb96667a9ade467f9ff247568b985405"
      }
     },
     "445317e8a7fe41c8a1ccc2320ff4e949": {
      "model_module": "@jupyter-widgets/controls",
      "model_module_version": "1.5.0",
      "model_name": "DescriptionStyleModel",
      "state": {
       "description_width": ""
      }
     },
     "453601f9a4094e35b4b4638896b5e726": {
      "model_module": "@jupyter-widgets/base",
      "model_module_version": "1.2.0",
      "model_name": "LayoutModel",
      "state": {
       "height": "auto",
       "padding": "0px 0px 0px 4px",
       "width": "auto"
      }
     },
     "45d259f6e2664d7a91948942e0492914": {
      "model_module": "jupyter-leaflet",
      "model_module_version": "^0.17.0",
      "model_name": "LeafletTileLayerModel",
      "state": {
       "_model_module_version": "^0.17.0",
       "_view_module_version": "^0.17.0",
       "attribution": "Datenquelle: basemap.at",
       "max_zoom": 19,
       "name": "BasemapAT.surface",
       "options": [
        "attribution",
        "bounds",
        "detect_retina",
        "max_native_zoom",
        "max_zoom",
        "min_native_zoom",
        "min_zoom",
        "no_wrap",
        "tile_size",
        "tms"
       ],
       "url": "https://maps.wien.gv.at/basemap/bmapoberflaeche/grau/google3857/{z}/{y}/{x}.jpeg"
      }
     },
     "461809bc8ae54e8d83e2d84c32f47f05": {
      "model_module": "jupyter-leaflet",
      "model_module_version": "^0.17.0",
      "model_name": "LeafletTileLayerModel",
      "state": {
       "_model_module_version": "^0.17.0",
       "_view_module_version": "^0.17.0",
       "attribution": "Tiles (C) Esri -- Sources: GEBCO, NOAA, CHS, OSU, UNH, CSUMB, National Geographic, DeLorme, NAVTEQ, and Esri",
       "max_zoom": 13,
       "name": "Esri.OceanBasemap",
       "options": [
        "attribution",
        "bounds",
        "detect_retina",
        "max_native_zoom",
        "max_zoom",
        "min_native_zoom",
        "min_zoom",
        "no_wrap",
        "tile_size",
        "tms"
       ],
       "url": "https://server.arcgisonline.com/ArcGIS/rest/services/Ocean_Basemap/MapServer/tile/{z}/{y}/{x}"
      }
     },
     "4627951f12f84a0db422e6ab5190088a": {
      "model_module": "@jupyter-widgets/base",
      "model_module_version": "1.2.0",
      "model_name": "LayoutModel",
      "state": {}
     },
     "46d86a28b3c84a7eab1d6e22c010e3da": {
      "model_module": "@jupyter-widgets/base",
      "model_module_version": "1.2.0",
      "model_name": "LayoutModel",
      "state": {}
     },
     "47093c7036a6496ba7f84d6f835722c1": {
      "model_module": "@jupyter-widgets/base",
      "model_module_version": "1.2.0",
      "model_name": "LayoutModel",
      "state": {}
     },
     "471fa74793e746f28dfa7a600bc7e897": {
      "model_module": "jupyter-leaflet",
      "model_module_version": "^0.17.0",
      "model_name": "LeafletTileLayerModel",
      "state": {
       "_model_module_version": "^0.17.0",
       "_view_module_version": "^0.17.0",
       "attribution": "Map tiles by <a href=\"https://labs.strava.com/heatmap\">Strava 2021</a>",
       "max_zoom": 15,
       "name": "Strava.Ride",
       "options": [
        "attribution",
        "bounds",
        "detect_retina",
        "max_native_zoom",
        "max_zoom",
        "min_native_zoom",
        "min_zoom",
        "no_wrap",
        "tile_size",
        "tms"
       ],
       "url": "https://heatmap-external-a.strava.com/tiles/ride/hot/{z}/{x}/{y}.png"
      }
     },
     "47993e33b00542e0a48edb26af58d79b": {
      "model_module": "@jupyter-widgets/controls",
      "model_module_version": "1.5.0",
      "model_name": "ButtonStyleModel",
      "state": {}
     },
     "4811c9b1c5ab413489f8663c302c662d": {
      "model_module": "@jupyter-widgets/base",
      "model_module_version": "1.2.0",
      "model_name": "LayoutModel",
      "state": {}
     },
     "484d2c2d907042beb3ace4dbc82ff6e4": {
      "model_module": "@jupyter-widgets/controls",
      "model_module_version": "1.5.0",
      "model_name": "ButtonModel",
      "state": {
       "description": "Save Bbox",
       "layout": "IPY_MODEL_4dfbd57dda4c46f3a3d0c2a4d5540819",
       "style": "IPY_MODEL_6547e865bafe4db1a13e4d90a346a9a9"
      }
     },
     "48c791f7f70d4c5c837f97a744a44246": {
      "model_module": "jupyter-leaflet",
      "model_module_version": "^0.17.0",
      "model_name": "LeafletTileLayerModel",
      "state": {
       "_model_module_version": "^0.17.0",
       "_view_module_version": "^0.17.0",
       "attribution": "(C) OpenStreetMap contributors (C) CARTO",
       "max_zoom": 20,
       "name": "CartoDB.DarkMatterOnlyLabels",
       "options": [
        "attribution",
        "bounds",
        "detect_retina",
        "max_native_zoom",
        "max_zoom",
        "min_native_zoom",
        "min_zoom",
        "no_wrap",
        "tile_size",
        "tms"
       ],
       "url": "https://a.basemaps.cartocdn.com/dark_only_labels/{z}/{x}/{y}.png"
      }
     },
     "49463d1803a84ed4907375d25d580dd7": {
      "model_module": "jupyter-leaflet",
      "model_module_version": "^0.17.0",
      "model_name": "LeafletAttributionControlModel",
      "state": {
       "_model_module_version": "^0.17.0",
       "_view_module_version": "^0.17.0",
       "options": [
        "position",
        "prefix"
       ],
       "position": "bottomright",
       "prefix": "ipyleaflet"
      }
     },
     "4a7b87137f784e7f978e26be4043199c": {
      "model_module": "@jupyter-widgets/controls",
      "model_module_version": "1.5.0",
      "model_name": "DescriptionStyleModel",
      "state": {
       "description_width": ""
      }
     },
     "4a8909154aac470a80bca4179e5b5882": {
      "model_module": "@jupyter-widgets/base",
      "model_module_version": "1.2.0",
      "model_name": "LayoutModel",
      "state": {}
     },
     "4ab0a5ae870c4718a946ca924c37d70a": {
      "model_module": "jupyter-leaflet",
      "model_module_version": "^0.17.0",
      "model_name": "LeafletTileLayerModel",
      "state": {
       "_model_module_version": "^0.17.0",
       "_view_module_version": "^0.17.0",
       "attribution": "Imagery provided by services from the Global Imagery Browse Services (GIBS), operated by the NASA/GSFC/Earth Science Data and Information System (ESDIS) with funding provided by NASA/HQ.",
       "max_zoom": 9,
       "name": "NASAGIBS.ModisAquaTrueColorCR",
       "options": [
        "attribution",
        "bounds",
        "detect_retina",
        "max_native_zoom",
        "max_zoom",
        "min_native_zoom",
        "min_zoom",
        "no_wrap",
        "tile_size",
        "tms"
       ],
       "url": "https://gibs.earthdata.nasa.gov/wmts/epsg3857/best/MODIS_Aqua_CorrectedReflectance_TrueColor/default//GoogleMapsCompatible_Level9/{z}/{y}/{x}.jpg"
      }
     },
     "4ac3672478ee4d74bf81fa211f82b098": {
      "model_module": "@jupyter-widgets/base",
      "model_module_version": "1.2.0",
      "model_name": "LayoutModel",
      "state": {}
     },
     "4b3dd4fc139041e2a09ba522aaa81f79": {
      "model_module": "@jupyter-widgets/base",
      "model_module_version": "1.2.0",
      "model_name": "LayoutModel",
      "state": {}
     },
     "4b91f35764d14963a0f6d6d3ccfddad7": {
      "model_module": "@jupyter-widgets/controls",
      "model_module_version": "1.5.0",
      "model_name": "ButtonModel",
      "state": {
       "description": "Remove ROIs",
       "layout": "IPY_MODEL_46d86a28b3c84a7eab1d6e22c010e3da",
       "style": "IPY_MODEL_e9675ee086294297bc693a51e4b749b0"
      }
     },
     "4dcbccde578347dfaea4df646a85b36b": {
      "model_module": "@jupyter-widgets/controls",
      "model_module_version": "1.5.0",
      "model_name": "ToggleButtonModel",
      "state": {
       "button_style": "primary",
       "icon": "address-book",
       "layout": "IPY_MODEL_a0e93da4ec164bbc85b3e0ba2460edd1",
       "style": "IPY_MODEL_1ac3ac7bd71448fa9ca1147e54ea81ee",
       "tooltip": "Get US Census data"
      }
     },
     "4dfbd57dda4c46f3a3d0c2a4d5540819": {
      "model_module": "@jupyter-widgets/base",
      "model_module_version": "1.2.0",
      "model_name": "LayoutModel",
      "state": {}
     },
     "4e2f36b78eb44b2bafccb81ba678a0fe": {
      "model_module": "@jupyter-widgets/controls",
      "model_module_version": "1.5.0",
      "model_name": "CheckboxModel",
      "state": {
       "description": "Use GPU?",
       "disabled": false,
       "indent": false,
       "layout": "IPY_MODEL_0a9a9e415e894b68a448d73e5748742c",
       "style": "IPY_MODEL_bae6bfb9903541dc824b09dcf144e470",
       "value": false
      }
     },
     "4e6baa428c5a4e4a850b56c2919e55e0": {
      "model_module": "jupyter-leaflet",
      "model_module_version": "^0.17.0",
      "model_name": "LeafletMapStyleModel",
      "state": {
       "_model_module_version": "^0.17.0",
       "cursor": "move"
      }
     },
     "5099946ce71f4cada5f0bedbfc62a644": {
      "model_module": "jupyter-leaflet",
      "model_module_version": "^0.17.0",
      "model_name": "LeafletTileLayerModel",
      "state": {
       "_model_module_version": "^0.17.0",
       "_view_module_version": "^0.17.0",
       "attribution": "Tiles courtesy of the U.S. Geological Survey",
       "max_zoom": 20,
       "name": "USGS.USImageryTopo",
       "options": [
        "attribution",
        "bounds",
        "detect_retina",
        "max_native_zoom",
        "max_zoom",
        "min_native_zoom",
        "min_zoom",
        "no_wrap",
        "tile_size",
        "tms"
       ],
       "url": "https://basemap.nationalmap.gov/arcgis/rest/services/USGSImageryTopo/MapServer/tile/{z}/{y}/{x}"
      }
     },
     "515e3c3a10bd42cdab41ad970a0a5ebb": {
      "model_module": "@jupyter-widgets/controls",
      "model_module_version": "1.5.0",
      "model_name": "HTMLModel",
      "state": {
       "layout": "IPY_MODEL_1dc1267ffe3d4ed8a49eade98ecda5b6",
       "style": "IPY_MODEL_61a7bf626ca54d14812f2f33efbee283",
       "value": "<b>2. Select Images Button</b>         <br> - This will open a pop up window where the folder containing the jpgs can be selected.<br>             - The model will be applied to this folder and the model outputs will be generated within a subdirectory             called 'out'<br>      - <span style=\"background-color:yellow;\">WARNING :</span> You will not be able to see the files within the folder you select.<br>    "
      }
     },
     "51f4ad0e266c44b486d526946dc89a52": {
      "model_module": "jupyter-leaflet",
      "model_module_version": "^0.17.0",
      "model_name": "LeafletTileLayerModel",
      "state": {
       "_model_module_version": "^0.17.0",
       "_view_module_version": "^0.17.0",
       "attribution": "(C) Stadia Maps, (C) OpenMapTiles (C) OpenStreetMap contributors",
       "max_zoom": 20,
       "name": "Stadia.AlidadeSmooth",
       "options": [
        "attribution",
        "bounds",
        "detect_retina",
        "max_native_zoom",
        "max_zoom",
        "min_native_zoom",
        "min_zoom",
        "no_wrap",
        "tile_size",
        "tms"
       ],
       "url": "https://tiles.stadiamaps.com/tiles/alidade_smooth/{z}/{x}/{y}.png"
      }
     },
     "5238a152c9f5415da11c9bcd5c1add4c": {
      "model_module": "@jupyter-widgets/controls",
      "model_module_version": "1.5.0",
      "model_name": "DescriptionStyleModel",
      "state": {
       "description_width": ""
      }
     },
     "524e36a0540041649d4b4ee7ccdbb60b": {
      "model_module": "@jupyter-widgets/controls",
      "model_module_version": "1.5.0",
      "model_name": "GridBoxModel",
      "state": {
       "children": [
        "IPY_MODEL_2e4d31d86bd543bd80dadfe74d90c100",
        "IPY_MODEL_a686c654fde24fc89c72396e01702eb7",
        "IPY_MODEL_f2d44e56ec814117a5ac805355eaf20a",
        "IPY_MODEL_eb8126bbecba419fb3601f8b8cd3d31c",
        "IPY_MODEL_5ec8f498b99b4282a5983f6ab2f85d0c",
        "IPY_MODEL_597905d4041a4024ba98063169703a5d",
        "IPY_MODEL_f44eae2685c047d795852f9df8d7a430",
        "IPY_MODEL_5e29aba65dc14cd4b2d5c4da3620f3f2",
        "IPY_MODEL_4dcbccde578347dfaea4df646a85b36b",
        "IPY_MODEL_42e2676ea42b43459bb7ac66ca57df1b",
        "IPY_MODEL_531a22b97f554997a490c999218e0dc7",
        "IPY_MODEL_f16330dd53f84d4fb97b0404dd5d353c",
        "IPY_MODEL_ebbb94ae0a084179aad4bce67b53a4df",
        "IPY_MODEL_fc9f0b8127e446008100a835f9018898",
        "IPY_MODEL_b8489ea970a64ed2b97ee2c835887c4a",
        "IPY_MODEL_41d93620e9454072bb9eb4a6a1f92318",
        "IPY_MODEL_37d82a34a6664ade9dd028f54190788e",
        "IPY_MODEL_d73a91b2051f475b9c2e7bf74fac37d1"
       ],
       "layout": "IPY_MODEL_36b09f900f3e4660b7cfcc36152af5f6"
      }
     },
     "531a22b97f554997a490c999218e0dc7": {
      "model_module": "@jupyter-widgets/controls",
      "model_module_version": "1.5.0",
      "model_name": "ToggleButtonModel",
      "state": {
       "button_style": "primary",
       "icon": "search",
       "layout": "IPY_MODEL_179a6141fe994af2a7a27aff7c2b4367",
       "style": "IPY_MODEL_0aa4d9cccbaa46c8939e057ccce02f37",
       "tooltip": "Search XYZ tile services"
      }
     },
     "53e1e451764d476eb28bda25332ed1b8": {
      "model_module": "@jupyter-widgets/controls",
      "model_module_version": "1.5.0",
      "model_name": "VBoxModel",
      "state": {
       "children": [
        "IPY_MODEL_838b82ae443f448da2bb472741198a6d",
        "IPY_MODEL_04d91f4c3f4a472692661003ed3370b7"
       ],
       "layout": "IPY_MODEL_1ca79d2843134491bcbcf7eed516ec65"
      }
     },
     "544c41cc847d4486b0d2cd535f1943be": {
      "model_module": "jupyter-leaflet",
      "model_module_version": "^0.17.0",
      "model_name": "LeafletTileLayerModel",
      "state": {
       "_model_module_version": "^0.17.0",
       "_view_module_version": "^0.17.0",
       "attribution": "&copy; <a href=\"https://www.openstreetmap.org/copyright\">OpenStreetMap</a> contributors",
       "base": true,
       "max_zoom": 19,
       "min_zoom": 1,
       "name": "OpenStreetMap",
       "options": [
        "attribution",
        "bounds",
        "detect_retina",
        "max_native_zoom",
        "max_zoom",
        "min_native_zoom",
        "min_zoom",
        "no_wrap",
        "tile_size",
        "tms"
       ],
       "url": "https://a.tile.openstreetmap.org/{z}/{x}/{y}.png"
      }
     },
     "54bb54a674db4eb491caf4a3b10b1456": {
      "model_module": "@jupyter-widgets/base",
      "model_module_version": "1.2.0",
      "model_name": "LayoutModel",
      "state": {
       "height": "auto",
       "padding": "0px 0px 0px 4px",
       "width": "auto"
      }
     },
     "551037d73e0d492c85b27a773f2265a2": {
      "model_module": "jupyter-leaflet",
      "model_module_version": "^0.17.0",
      "model_name": "LeafletTileLayerModel",
      "state": {
       "_model_module_version": "^0.17.0",
       "_view_module_version": "^0.17.0",
       "attribution": "Google",
       "max_zoom": 22,
       "name": "Google Satellite",
       "options": [
        "attribution",
        "bounds",
        "detect_retina",
        "max_native_zoom",
        "max_zoom",
        "min_native_zoom",
        "min_zoom",
        "no_wrap",
        "tile_size",
        "tms"
       ],
       "url": "https://mt1.google.com/vt/lyrs=y&x={x}&y={y}&z={z}"
      }
     },
     "55da1d4ee8024afe84f8b574f34441f9": {
      "model_module": "jupyter-leaflet",
      "model_module_version": "^0.17.0",
      "model_name": "LeafletTileLayerModel",
      "state": {
       "_model_module_version": "^0.17.0",
       "_view_module_version": "^0.17.0",
       "attribution": "Justice Map",
       "max_zoom": 22,
       "name": "JusticeMap.white",
       "options": [
        "attribution",
        "bounds",
        "detect_retina",
        "max_native_zoom",
        "max_zoom",
        "min_native_zoom",
        "min_zoom",
        "no_wrap",
        "tile_size",
        "tms"
       ],
       "url": "https://www.justicemap.org/tile/county/white/{z}/{x}/{y}.png"
      }
     },
     "564dcd93e02a47d1adaa3ff38b9590b1": {
      "model_module": "jupyter-leaflet",
      "model_module_version": "^0.17.0",
      "model_name": "LeafletTileLayerModel",
      "state": {
       "_model_module_version": "^0.17.0",
       "_view_module_version": "^0.17.0",
       "attribution": "Imagery provided by services from the Global Imagery Browse Services (GIBS), operated by the NASA/GSFC/Earth Science Data and Information System (ESDIS) with funding provided by NASA/HQ.",
       "max_zoom": 9,
       "name": "NASAGIBS.ViirsTrueColorCR",
       "options": [
        "attribution",
        "bounds",
        "detect_retina",
        "max_native_zoom",
        "max_zoom",
        "min_native_zoom",
        "min_zoom",
        "no_wrap",
        "tile_size",
        "tms"
       ],
       "url": "https://gibs.earthdata.nasa.gov/wmts/epsg3857/best/VIIRS_SNPP_CorrectedReflectance_TrueColor/default//GoogleMapsCompatible_Level9/{z}/{y}/{x}.jpg"
      }
     },
     "56852f9a897647dc81a4ecc15ebbb8db": {
      "model_module": "jupyter-leaflet",
      "model_module_version": "^0.17.0",
      "model_name": "LeafletTileLayerModel",
      "state": {
       "_model_module_version": "^0.17.0",
       "_view_module_version": "^0.17.0",
       "attribution": "Google",
       "max_zoom": 22,
       "name": "Google Satellite",
       "options": [
        "attribution",
        "bounds",
        "detect_retina",
        "max_native_zoom",
        "max_zoom",
        "min_native_zoom",
        "min_zoom",
        "no_wrap",
        "tile_size",
        "tms"
       ],
       "url": "https://mt1.google.com/vt/lyrs=s&x={x}&y={y}&z={z}"
      }
     },
     "56ad44f78adb468f944dda912413477f": {
      "model_module": "@jupyter-widgets/controls",
      "model_module_version": "1.5.0",
      "model_name": "DescriptionStyleModel",
      "state": {
       "description_width": ""
      }
     },
     "5895f355d3c54b16ba1a816199448b4b": {
      "model_module": "@jupyter-widgets/controls",
      "model_module_version": "1.5.0",
      "model_name": "ButtonModel",
      "state": {
       "description": "Remove all",
       "layout": "IPY_MODEL_31c674251e33493186950b2095ccc2e9",
       "style": "IPY_MODEL_2deb0870d4b0423cb5ace0a0769c8d69"
      }
     },
     "597905d4041a4024ba98063169703a5d": {
      "model_module": "@jupyter-widgets/controls",
      "model_module_version": "1.5.0",
      "model_name": "ToggleButtonModel",
      "state": {
       "button_style": "primary",
       "icon": "fast-forward",
       "layout": "IPY_MODEL_f8ba35e28b9f486383ae3d8d9b7bf1e8",
       "style": "IPY_MODEL_b7b72c65427d494490bc331e529cf8cc",
       "tooltip": "Activate the time slider"
      }
     },
     "5a0c498325ec42debbb88a544917172a": {
      "model_module": "jupyter-leaflet",
      "model_module_version": "^0.17.0",
      "model_name": "LeafletTileLayerModel",
      "state": {
       "_model_module_version": "^0.17.0",
       "_view_module_version": "^0.17.0",
       "attribution": "Kaartgegevens (C) Kadaster",
       "max_zoom": 19,
       "name": "nlmaps.pastel",
       "options": [
        "attribution",
        "bounds",
        "detect_retina",
        "max_native_zoom",
        "max_zoom",
        "min_native_zoom",
        "min_zoom",
        "no_wrap",
        "tile_size",
        "tms"
       ],
       "url": "https://service.pdok.nl/brt/achtergrondkaart/wmts/v2_0/pastel/EPSG:3857/{z}/{x}/{y}.png"
      }
     },
     "5b438eb666194f448cfd32d26340caff": {
      "model_module": "jupyter-leaflet",
      "model_module_version": "^0.17.0",
      "model_name": "LeafletTileLayerModel",
      "state": {
       "_model_module_version": "^0.17.0",
       "_view_module_version": "^0.17.0",
       "attribution": "Kaartgegevens (C) Kadaster",
       "max_zoom": 19,
       "name": "nlmaps.luchtfoto",
       "options": [
        "attribution",
        "bounds",
        "detect_retina",
        "max_native_zoom",
        "max_zoom",
        "min_native_zoom",
        "min_zoom",
        "no_wrap",
        "tile_size",
        "tms"
       ],
       "url": "https://service.pdok.nl/hwh/luchtfotorgb/wmts/v1_0/Actueel_ortho25/EPSG:3857/{z}/{x}/{y}.jpeg"
      }
     },
     "5c1d342795be4a34b0d6ededf9e32e66": {
      "model_module": "jupyter-leaflet",
      "model_module_version": "^0.17.0",
      "model_name": "LeafletTileLayerModel",
      "state": {
       "_model_module_version": "^0.17.0",
       "_view_module_version": "^0.17.0",
       "attribution": "Map data: (C) OpenStreetMap contributors | Map style: (C) waymarkedtrails.org (CC-BY-SA)",
       "name": "WaymarkedTrails.hiking",
       "options": [
        "attribution",
        "bounds",
        "detect_retina",
        "max_native_zoom",
        "max_zoom",
        "min_native_zoom",
        "min_zoom",
        "no_wrap",
        "tile_size",
        "tms"
       ],
       "url": "https://tile.waymarkedtrails.org/hiking/{z}/{x}/{y}.png"
      }
     },
     "5dd681aa54754e09abea8cea1ac8312c": {
      "model_module": "@jupyter-widgets/controls",
      "model_module_version": "1.5.0",
      "model_name": "DescriptionStyleModel",
      "state": {
       "description_width": ""
      }
     },
     "5e29aba65dc14cd4b2d5c4da3620f3f2": {
      "model_module": "@jupyter-widgets/controls",
      "model_module_version": "1.5.0",
      "model_name": "ToggleButtonModel",
      "state": {
       "button_style": "primary",
       "icon": "camera",
       "layout": "IPY_MODEL_01d7a578c00e402589a14d05a9000a13",
       "style": "IPY_MODEL_0d7093a8b862437db4eb521cc0f5767a",
       "tooltip": "Save map as HTML or image"
      }
     },
     "5e310beecff44be3aecec252fb6bbe27": {
      "model_module": "@jupyter-widgets/base",
      "model_module_version": "1.2.0",
      "model_name": "LayoutModel",
      "state": {}
     },
     "5e4ca1bcfbf8402787a51c293f3e8cd4": {
      "model_module": "jupyter-leaflet",
      "model_module_version": "^0.17.0",
      "model_name": "LeafletTileLayerModel",
      "state": {
       "_model_module_version": "^0.17.0",
       "_view_module_version": "^0.17.0",
       "attribution": "Justice Map",
       "max_zoom": 22,
       "name": "JusticeMap.hispanic",
       "options": [
        "attribution",
        "bounds",
        "detect_retina",
        "max_native_zoom",
        "max_zoom",
        "min_native_zoom",
        "min_zoom",
        "no_wrap",
        "tile_size",
        "tms"
       ],
       "url": "https://www.justicemap.org/tile/county/hispanic/{z}/{x}/{y}.png"
      }
     },
     "5eb17dbcc51641a49c4c3837f5b4a081": {
      "model_module": "@jupyter-widgets/controls",
      "model_module_version": "1.5.0",
      "model_name": "HTMLModel",
      "state": {
       "layout": "IPY_MODEL_2516ae66734b4df2a9df6e62d72c43ae",
       "style": "IPY_MODEL_0c5c2d414423429fb8374fc2a8616d16",
       "value": "<h4>Click ONE of the following buttons:</h4>"
      }
     },
     "5ec8f498b99b4282a5983f6ab2f85d0c": {
      "model_module": "@jupyter-widgets/controls",
      "model_module_version": "1.5.0",
      "model_name": "ToggleButtonModel",
      "state": {
       "button_style": "primary",
       "icon": "gears",
       "layout": "IPY_MODEL_e1ad105e2c684557a5caee1cd5bdd443",
       "style": "IPY_MODEL_1f48ff1b598446668dddf23295d7a75f",
       "tooltip": "WhiteboxTools for local geoprocessing"
      }
     },
     "60423655be4c4274a9deb3614f519849": {
      "model_module": "jupyter-leaflet",
      "model_module_version": "^0.17.0",
      "model_name": "LeafletWMSLayerModel",
      "state": {
       "_model_module_version": "^0.17.0",
       "_view_module_version": "^0.17.0",
       "attribution": "MRLC",
       "crs": {
        "custom": false,
        "name": "EPSG3857"
       },
       "format": "image/png",
       "layers": "NLCD_2019_Land_Cover_L48",
       "name": "NLCD 2019 CONUS Land Cover",
       "options": [
        "attribution",
        "bounds",
        "detect_retina",
        "format",
        "layers",
        "max_native_zoom",
        "max_zoom",
        "min_native_zoom",
        "min_zoom",
        "no_wrap",
        "styles",
        "tile_size",
        "tms",
        "transparent",
        "uppercase"
       ],
       "transparent": true,
       "url": "https://www.mrlc.gov/geoserver/mrlc_display/NLCD_2019_Land_Cover_L48/wms?"
      }
     },
     "619a538384d64bdbbc4db087a718df67": {
      "model_module": "@jupyter-widgets/output",
      "model_module_version": "1.0.0",
      "model_name": "OutputModel",
      "state": {
       "layout": "IPY_MODEL_8279f79d30d14243a6a018b339102db5",
       "outputs": [
        {
         "name": "stdout",
         "output_type": "stream",
         "text": "ROIs have been saved. Now click Download ROI to download the ROIs using CoastSat\n"
        }
       ]
      }
     },
     "61a7bf626ca54d14812f2f33efbee283": {
      "model_module": "@jupyter-widgets/controls",
      "model_module_version": "1.5.0",
      "model_name": "DescriptionStyleModel",
      "state": {
       "description_width": ""
      }
     },
     "61afedc03f004015a6586133a87a559b": {
      "model_module": "@jupyter-widgets/controls",
      "model_module_version": "1.5.0",
      "model_name": "DescriptionStyleModel",
      "state": {
       "description_width": ""
      }
     },
     "61f788f4ff2848a6b9f125a56177211f": {
      "model_module": "jupyter-leaflet",
      "model_module_version": "^0.17.0",
      "model_name": "LeafletTileLayerModel",
      "state": {
       "_model_module_version": "^0.17.0",
       "_view_module_version": "^0.17.0",
       "attribution": "© swisstopo",
       "max_zoom": 19,
       "name": "SwissFederalGeoportal.SWISSIMAGE",
       "options": [
        "attribution",
        "bounds",
        "detect_retina",
        "max_native_zoom",
        "max_zoom",
        "min_native_zoom",
        "min_zoom",
        "no_wrap",
        "tile_size",
        "tms"
       ],
       "url": "https://wmts.geo.admin.ch/1.0.0/ch.swisstopo.swissimage/default/current/3857/{z}/{x}/{y}.jpeg"
      }
     },
     "63463333e6294297bab7a16be34353bb": {
      "model_module": "jupyter-leaflet",
      "model_module_version": "^0.17.0",
      "model_name": "LeafletWMSLayerModel",
      "state": {
       "_model_module_version": "^0.17.0",
       "_view_module_version": "^0.17.0",
       "attribution": "ESA",
       "crs": {
        "custom": false,
        "name": "EPSG3857"
       },
       "format": "image/png",
       "layers": "WORLDCOVER_2020_S2_TCC",
       "name": "ESA Worldcover 2020 S2 TCC",
       "options": [
        "attribution",
        "bounds",
        "detect_retina",
        "format",
        "layers",
        "max_native_zoom",
        "max_zoom",
        "min_native_zoom",
        "min_zoom",
        "no_wrap",
        "styles",
        "tile_size",
        "tms",
        "transparent",
        "uppercase"
       ],
       "transparent": true,
       "url": "https://services.terrascope.be/wms/v2"
      }
     },
     "645ff1461f804c84a1de2e11def8a7d1": {
      "model_module": "jupyter-leaflet",
      "model_module_version": "^0.17.0",
      "model_name": "LeafletDrawControlModel",
      "state": {
       "_model_module_version": "^0.17.0",
       "_view_module_version": "^0.17.0",
       "data": [
        {
         "geometry": {
          "coordinates": [
           [
            [
             -121.558644,
             35.992661
            ],
            [
             -121.558644,
             36.025183
            ],
            [
             -121.49448,
             36.025183
            ],
            [
             -121.49448,
             35.992661
            ],
            [
             -121.558644,
             35.992661
            ]
           ]
          ],
          "type": "Polygon"
         },
         "properties": {
          "style": {
           "Opacity": 0.1,
           "clickable": true,
           "color": "green",
           "fill": true,
           "fillColor": "green",
           "fillOpacity": 0.1,
           "opacity": 0.5,
           "stroke": true,
           "weight": 4
          }
         },
         "type": "Feature"
        }
       ],
       "options": [
        "position"
       ],
       "polygon": {},
       "polyline": {},
       "rectangle": {
        "allowIntersection": false,
        "drawError": {
         "color": "#dd253b",
         "message": "Ops!"
        },
        "shapeOptions": {
         "Opacity": 0.1,
         "color": "green",
         "fillColor": "green",
         "fillOpacity": 0.1
        },
        "transform": true
       }
      }
     },
     "64cabd908cbf4980bd1d80ab425a3aec": {
      "model_module": "@jupyter-widgets/base",
      "model_module_version": "1.2.0",
      "model_name": "LayoutModel",
      "state": {
       "margin": "0px 0px 0px 20px"
      }
     },
     "652c2c09c08f4494959eb299adbd15ea": {
      "model_module": "jupyter-leaflet",
      "model_module_version": "^0.17.0",
      "model_name": "LeafletTileLayerModel",
      "state": {
       "_model_module_version": "^0.17.0",
       "_view_module_version": "^0.17.0",
       "attribution": "(C) OpenStreetMap contributors",
       "name": "OpenStreetMap.DE",
       "options": [
        "attribution",
        "bounds",
        "detect_retina",
        "max_native_zoom",
        "max_zoom",
        "min_native_zoom",
        "min_zoom",
        "no_wrap",
        "tile_size",
        "tms"
       ],
       "url": "https://a.tile.openstreetmap.de/{z}/{x}/{y}.png"
      }
     },
     "6547e865bafe4db1a13e4d90a346a9a9": {
      "model_module": "@jupyter-widgets/controls",
      "model_module_version": "1.5.0",
      "model_name": "ButtonStyleModel",
      "state": {}
     },
     "65d67e0e39ea438b89c73031ae5b9d2f": {
      "model_module": "@jupyter-widgets/controls",
      "model_module_version": "1.5.0",
      "model_name": "DescriptionStyleModel",
      "state": {
       "description_width": ""
      }
     },
     "66e6f36a12064a359cf61ecad34de646": {
      "model_module": "jupyter-leaflet",
      "model_module_version": "^0.17.0",
      "model_name": "LeafletTileLayerModel",
      "state": {
       "_model_module_version": "^0.17.0",
       "_view_module_version": "^0.17.0",
       "attribution": "Justice Map",
       "max_zoom": 22,
       "name": "JusticeMap.multi",
       "options": [
        "attribution",
        "bounds",
        "detect_retina",
        "max_native_zoom",
        "max_zoom",
        "min_native_zoom",
        "min_zoom",
        "no_wrap",
        "tile_size",
        "tms"
       ],
       "url": "https://www.justicemap.org/tile/county/multi/{z}/{x}/{y}.png"
      }
     },
     "671896a5a1754e859c2c0850ed1dbc95": {
      "model_module": "jupyter-leaflet",
      "model_module_version": "^0.17.0",
      "model_name": "LeafletTileLayerModel",
      "state": {
       "_model_module_version": "^0.17.0",
       "_view_module_version": "^0.17.0",
       "attribution": "Tiles (C) Esri -- Source: Esri",
       "max_zoom": 13,
       "name": "Esri.WorldShadedRelief",
       "options": [
        "attribution",
        "bounds",
        "detect_retina",
        "max_native_zoom",
        "max_zoom",
        "min_native_zoom",
        "min_zoom",
        "no_wrap",
        "tile_size",
        "tms"
       ],
       "url": "https://server.arcgisonline.com/ArcGIS/rest/services/World_Shaded_Relief/MapServer/tile/{z}/{y}/{x}"
      }
     },
     "67ef1e5157b2470796b47d2f9fab5a1f": {
      "model_module": "@jupyter-widgets/controls",
      "model_module_version": "1.5.0",
      "model_name": "ToggleButtonModel",
      "state": {
       "icon": "wrench",
       "layout": "IPY_MODEL_a2461bf1b707415e88974c2a2d1d7b89",
       "style": "IPY_MODEL_61afedc03f004015a6586133a87a559b",
       "tooltip": "Toolbar"
      }
     },
     "68086abee05c4f0e96c9a0013f5be7fd": {
      "model_module": "jupyter-leaflet",
      "model_module_version": "^0.17.0",
      "model_name": "LeafletMapModel",
      "state": {
       "_model_module_version": "^0.17.0",
       "_view_module_version": "^0.17.0",
       "bottom": 205984.10384684755,
       "center": [
        36.108975988883266,
        -121.36327224248389
       ],
       "controls": [
        "IPY_MODEL_96c3c3cad0584a46b434c1157176f2f6",
        "IPY_MODEL_49463d1803a84ed4907375d25d580dd7",
        "IPY_MODEL_d9d83fab2ccf45a0a180ae4eaf6c8dd8",
        "IPY_MODEL_f23812077cd4477d9999e2c4addec5ac",
        "IPY_MODEL_645ff1461f804c84a1de2e11def8a7d1",
        "IPY_MODEL_f2bab925321245af90b238b81dc1e3f5",
        "IPY_MODEL_0463aebdf5a1423499c2e2c188461d7f"
       ],
       "default_style": "IPY_MODEL_fa424cb5c9104bbd891da36afaf2b827",
       "dragging_style": "IPY_MODEL_4e6baa428c5a4e4a850b56c2919e55e0",
       "east": -121.00964980596044,
       "fullscreen": false,
       "interpolation": "bilinear",
       "layers": [
        "IPY_MODEL_544c41cc847d4486b0d2cd535f1943be",
        "IPY_MODEL_927a084c75094befb4e2a6814c1c9192",
        "IPY_MODEL_f5ce584959f342009b112400c6e0f72b",
        "IPY_MODEL_10773cbd8d724292b0a1f56e039ab7fb"
       ],
       "layout": "IPY_MODEL_e58473a1eaa54aebb2602865a622b567",
       "left": 84880.92422925727,
       "max_zoom": 24,
       "modisdate": "2022-08-22",
       "north": 36.27522134611462,
       "options": [
        "bounce_at_zoom_limits",
        "box_zoom",
        "center",
        "close_popup_on_click",
        "double_click_zoom",
        "dragging",
        "fullscreen",
        "inertia",
        "inertia_deceleration",
        "inertia_max_speed",
        "interpolation",
        "keyboard",
        "keyboard_pan_offset",
        "keyboard_zoom_offset",
        "max_zoom",
        "min_zoom",
        "prefer_canvas",
        "scroll_wheel_zoom",
        "tap",
        "tap_tolerance",
        "touch_zoom",
        "world_copy_jump",
        "zoom",
        "zoom_animation_threshold",
        "zoom_delta",
        "zoom_snap"
       ],
       "prefer_canvas": false,
       "right": 85910.92422925727,
       "scroll_wheel_zoom": true,
       "south": 35.94237802271068,
       "style": "IPY_MODEL_fa424cb5c9104bbd891da36afaf2b827",
       "top": 205384.10384684755,
       "west": -121.71689467900731,
       "window_url": "http://localhost:8888/lab/tree/custom_map.ipynb",
       "zoom": 11
      }
     },
     "6888a3c4e66041dd94de9029cb8cd4f7": {
      "model_module": "jupyter-leaflet",
      "model_module_version": "^0.17.0",
      "model_name": "LeafletTileLayerModel",
      "state": {
       "_model_module_version": "^0.17.0",
       "_view_module_version": "^0.17.0",
       "attribution": "Tiles (C) Esri -- Copyright: (C)2012 DeLorme",
       "max_zoom": 11,
       "name": "Esri.DeLorme",
       "options": [
        "attribution",
        "bounds",
        "detect_retina",
        "max_native_zoom",
        "max_zoom",
        "min_native_zoom",
        "min_zoom",
        "no_wrap",
        "tile_size",
        "tms"
       ],
       "url": "https://server.arcgisonline.com/ArcGIS/rest/services/Specialty/DeLorme_World_Base_Map/MapServer/tile/{z}/{y}/{x}"
      }
     },
     "691a21cd02704fe7bce653cf61501145": {
      "model_module": "@jupyter-widgets/base",
      "model_module_version": "1.2.0",
      "model_name": "LayoutModel",
      "state": {}
     },
     "699c5595e85a401fbdb9d2c2b61c25cd": {
      "model_module": "jupyter-leaflet",
      "model_module_version": "^0.17.0",
      "model_name": "LeafletTileLayerModel",
      "state": {
       "_model_module_version": "^0.17.0",
       "_view_module_version": "^0.17.0",
       "attribution": "Kaartgegevens (C) Kadaster",
       "max_zoom": 19,
       "name": "nlmaps.water",
       "options": [
        "attribution",
        "bounds",
        "detect_retina",
        "max_native_zoom",
        "max_zoom",
        "min_native_zoom",
        "min_zoom",
        "no_wrap",
        "tile_size",
        "tms"
       ],
       "url": "https://service.pdok.nl/brt/achtergrondkaart/wmts/v2_0/water/EPSG:3857/{z}/{x}/{y}.png"
      }
     },
     "6ae05a0aca0f45668f81e37c7df46fd0": {
      "model_module": "@jupyter-widgets/controls",
      "model_module_version": "1.5.0",
      "model_name": "ButtonStyleModel",
      "state": {}
     },
     "6b5c4ee70f704100b4d41e7ff9f9beb9": {
      "model_module": "jupyter-leaflet",
      "model_module_version": "^0.17.0",
      "model_name": "LeafletTileLayerModel",
      "state": {
       "_model_module_version": "^0.17.0",
       "_view_module_version": "^0.17.0",
       "attribution": "(C) OpenStreetMap contributors",
       "name": "OpenStreetMap.BlackAndWhite",
       "options": [
        "attribution",
        "bounds",
        "detect_retina",
        "max_native_zoom",
        "max_zoom",
        "min_native_zoom",
        "min_zoom",
        "no_wrap",
        "tile_size",
        "tms"
       ],
       "url": "http://a.tiles.wmflabs.org/bw-mapnik/{z}/{x}/{y}.png"
      }
     },
     "6bb4bc43d8be43ea81035b6bc38726f8": {
      "model_module": "jupyter-leaflet",
      "model_module_version": "^0.17.0",
      "model_name": "LeafletTileLayerModel",
      "state": {
       "_model_module_version": "^0.17.0",
       "_view_module_version": "^0.17.0",
       "attribution": "Map tiles by Stamen Design, CC BY 3.0 -- Map data (C) OpenStreetMap contributors",
       "name": "Stamen.TerrainLabels",
       "options": [
        "attribution",
        "bounds",
        "detect_retina",
        "max_native_zoom",
        "max_zoom",
        "min_native_zoom",
        "min_zoom",
        "no_wrap",
        "tile_size",
        "tms"
       ],
       "url": "https://stamen-tiles-a.a.ssl.fastly.net/terrain-labels/{z}/{x}/{y}.png"
      }
     },
     "6d0432a362a04cedabe9c5c8d1a0653e": {
      "model_module": "jupyter-leaflet",
      "model_module_version": "^0.17.0",
      "model_name": "LeafletTileLayerModel",
      "state": {
       "_model_module_version": "^0.17.0",
       "_view_module_version": "^0.17.0",
       "attribution": "Map data: (C) OpenStreetMap contributors | Map style: (C) SafeCast (CC-BY-SA)",
       "max_zoom": 16,
       "name": "SafeCast",
       "options": [
        "attribution",
        "bounds",
        "detect_retina",
        "max_native_zoom",
        "max_zoom",
        "min_native_zoom",
        "min_zoom",
        "no_wrap",
        "tile_size",
        "tms"
       ],
       "url": "https://s3.amazonaws.com/te512.safecast.org/{z}/{x}/{y}.png"
      }
     },
     "6e0a4c462caf4f5db4e03ca06e98b135": {
      "model_module": "jupyter-leaflet",
      "model_module_version": "^0.17.0",
      "model_name": "LeafletTileLayerModel",
      "state": {
       "_model_module_version": "^0.17.0",
       "_view_module_version": "^0.17.0",
       "attribution": "Kaartgegevens (C) Kadaster",
       "max_zoom": 19,
       "name": "nlmaps.grijs",
       "options": [
        "attribution",
        "bounds",
        "detect_retina",
        "max_native_zoom",
        "max_zoom",
        "min_native_zoom",
        "min_zoom",
        "no_wrap",
        "tile_size",
        "tms"
       ],
       "url": "https://service.pdok.nl/brt/achtergrondkaart/wmts/v2_0/grijs/EPSG:3857/{z}/{x}/{y}.png"
      }
     },
     "6e3eba17750744dfb5a35e9c0e6a4d78": {
      "model_module": "jupyter-leaflet",
      "model_module_version": "^0.17.0",
      "model_name": "LeafletWMSLayerModel",
      "state": {
       "_model_module_version": "^0.17.0",
       "_view_module_version": "^0.17.0",
       "attribution": "USGS",
       "crs": {
        "custom": false,
        "name": "EPSG3857"
       },
       "format": "image/png",
       "layers": "33DEPElevation:Hillshade Elevation Tinted",
       "name": "USGS 3DEP Elevation",
       "options": [
        "attribution",
        "bounds",
        "detect_retina",
        "format",
        "layers",
        "max_native_zoom",
        "max_zoom",
        "min_native_zoom",
        "min_zoom",
        "no_wrap",
        "styles",
        "tile_size",
        "tms",
        "transparent",
        "uppercase"
       ],
       "transparent": true,
       "url": "https://elevation.nationalmap.gov/arcgis/services/3DEPElevation/ImageServer/WMSServer?"
      }
     },
     "6f54628517834638aa7a7fdd653c99be": {
      "model_module": "jupyter-leaflet",
      "model_module_version": "^0.17.0",
      "model_name": "LeafletTileLayerModel",
      "state": {
       "_model_module_version": "^0.17.0",
       "_view_module_version": "^0.17.0",
       "attribution": "Justice Map",
       "max_zoom": 22,
       "name": "JusticeMap.black",
       "options": [
        "attribution",
        "bounds",
        "detect_retina",
        "max_native_zoom",
        "max_zoom",
        "min_native_zoom",
        "min_zoom",
        "no_wrap",
        "tile_size",
        "tms"
       ],
       "url": "https://www.justicemap.org/tile/county/black/{z}/{x}/{y}.png"
      }
     },
     "6f9ffa743a094a1fa129d0a27a9b07a6": {
      "model_module": "@jupyter-widgets/controls",
      "model_module_version": "1.5.0",
      "model_name": "HTMLModel",
      "state": {
       "layout": "IPY_MODEL_7ab161cf7f8e4780abcd29a92a9fcb79",
       "style": "IPY_MODEL_bd8c363686a94d2585fc4adce8f4c21d",
       "value": "100%"
      }
     },
     "7023611db14c4fc5a3e106a4a66a8a79": {
      "model_module": "jupyter-leaflet",
      "model_module_version": "^0.17.0",
      "model_name": "LeafletTileLayerModel",
      "state": {
       "_model_module_version": "^0.17.0",
       "_view_module_version": "^0.17.0",
       "attribution": "Datenquelle: basemap.at",
       "max_zoom": 19,
       "name": "BasemapAT.highdpi",
       "options": [
        "attribution",
        "bounds",
        "detect_retina",
        "max_native_zoom",
        "max_zoom",
        "min_native_zoom",
        "min_zoom",
        "no_wrap",
        "tile_size",
        "tms"
       ],
       "url": "https://maps.wien.gv.at/basemap/bmaphidpi/normal/google3857/{z}/{y}/{x}.jpeg"
      }
     },
     "716718c00270430ebae1eba2bdd9fb7c": {
      "model_module": "jupyter-leaflet",
      "model_module_version": "^0.17.0",
      "model_name": "LeafletTileLayerModel",
      "state": {
       "_model_module_version": "^0.17.0",
       "_view_module_version": "^0.17.0",
       "attribution": "Map data: (C) OpenStreetMap contributors, SRTM | Map style: (C) OpenTopoMap (CC-BY-SA)",
       "max_zoom": 17,
       "name": "OpenTopoMap",
       "options": [
        "attribution",
        "bounds",
        "detect_retina",
        "max_native_zoom",
        "max_zoom",
        "min_native_zoom",
        "min_zoom",
        "no_wrap",
        "tile_size",
        "tms"
       ],
       "url": "https://a.tile.opentopomap.org/{z}/{x}/{y}.png"
      }
     },
     "76194ba18baa4b0b92f8d08f99ca637c": {
      "model_module": "jupyter-leaflet",
      "model_module_version": "^0.17.0",
      "model_name": "LeafletTileLayerModel",
      "state": {
       "_model_module_version": "^0.17.0",
       "_view_module_version": "^0.17.0",
       "attribution": "(C) OpenStreetMap contributors",
       "max_zoom": 19,
       "name": "OpenStreetMap.Mapnik",
       "options": [
        "attribution",
        "bounds",
        "detect_retina",
        "max_native_zoom",
        "max_zoom",
        "min_native_zoom",
        "min_zoom",
        "no_wrap",
        "tile_size",
        "tms"
       ],
       "url": "https://a.tile.openstreetmap.org/{z}/{x}/{y}.png"
      }
     },
     "7708b8ae2ec94893a19fabb1808b65cb": {
      "model_module": "jupyter-leaflet",
      "model_module_version": "^0.17.0",
      "model_name": "LeafletTileLayerModel",
      "state": {
       "_model_module_version": "^0.17.0",
       "_view_module_version": "^0.17.0",
       "attribution": "National Library of Scotland Historic Maps",
       "name": "NLS",
       "options": [
        "attribution",
        "bounds",
        "detect_retina",
        "max_native_zoom",
        "max_zoom",
        "min_native_zoom",
        "min_zoom",
        "no_wrap",
        "tile_size",
        "tms"
       ],
       "url": "https://nls-0.tileserver.com/nls/{z}/{x}/{y}.jpg"
      }
     },
     "7720fb9df5f64d5da148b524519517c5": {
      "model_module": "jupyter-leaflet",
      "model_module_version": "^0.17.0",
      "model_name": "LeafletTileLayerModel",
      "state": {
       "_model_module_version": "^0.17.0",
       "_view_module_version": "^0.17.0",
       "attribution": "Tiles &copy; Esri &mdash; Esri, DeLorme, NAVTEQ, TomTom, Intermap, iPC, USGS, FAO, NPS, NRCAN, GeoBase, Kadaster NL, Ordnance Survey, Esri Japan, METI, Esri China (Hong Kong), and the GIS User Community",
       "max_zoom": 24,
       "name": "Esri.ArcticOceanBase",
       "options": [
        "attribution",
        "bounds",
        "detect_retina",
        "max_native_zoom",
        "max_zoom",
        "min_native_zoom",
        "min_zoom",
        "no_wrap",
        "tile_size",
        "tms"
       ],
       "url": "http://server.arcgisonline.com/ArcGIS/rest/services/Polar/Arctic_Ocean_Base/MapServer/tile/{z}/{y}/{x}"
      }
     },
     "77ddc03a882f440e8a011e4a1921f61d": {
      "model_module": "jupyter-leaflet",
      "model_module_version": "^0.17.0",
      "model_name": "LeafletTileLayerModel",
      "state": {
       "_model_module_version": "^0.17.0",
       "_view_module_version": "^0.17.0",
       "attribution": "Imagery provided by services from the Global Imagery Browse Services (GIBS), operated by the NASA/GSFC/Earth Science Data and Information System (ESDIS) with funding provided by NASA/HQ.",
       "max_zoom": 5,
       "name": "NASAGIBS.BlueMarble3413",
       "options": [
        "attribution",
        "bounds",
        "detect_retina",
        "max_native_zoom",
        "max_zoom",
        "min_native_zoom",
        "min_zoom",
        "no_wrap",
        "tile_size",
        "tms"
       ],
       "url": "https://gibs.earthdata.nasa.gov/wmts/epsg3413/best/BlueMarble_NextGeneration/default/EPSG3413_500m/{z}/{y}/{x}.jpeg"
      }
     },
     "785501db85364e18bdc93ac6762089cf": {
      "model_module": "@jupyter-widgets/base",
      "model_module_version": "1.2.0",
      "model_name": "LayoutModel",
      "state": {}
     },
     "7ab161cf7f8e4780abcd29a92a9fcb79": {
      "model_module": "@jupyter-widgets/base",
      "model_module_version": "1.2.0",
      "model_name": "LayoutModel",
      "state": {}
     },
     "7b598c27878c4280aad28d30f1205082": {
      "model_module": "@jupyter-widgets/controls",
      "model_module_version": "1.5.0",
      "model_name": "ButtonStyleModel",
      "state": {}
     },
     "7b5f42f0da474c0abef99380d3dc3595": {
      "model_module": "@jupyter-widgets/controls",
      "model_module_version": "1.5.0",
      "model_name": "DescriptionStyleModel",
      "state": {
       "description_width": ""
      }
     },
     "7bb8502e2c1a40acb9fc1ca55e5bda71": {
      "model_module": "@jupyter-widgets/controls",
      "model_module_version": "1.5.0",
      "model_name": "ButtonModel",
      "state": {
       "description": "Remove coastline",
       "layout": "IPY_MODEL_2478014205c34a58aff145d9bdb9bbe2",
       "style": "IPY_MODEL_1299ecda9fd34a2e801ffd12b553cf4d"
      }
     },
     "7c6ee03ca5de4f0081b570a49d3b48c8": {
      "model_module": "jupyter-leaflet",
      "model_module_version": "^0.17.0",
      "model_name": "LeafletTileLayerModel",
      "state": {
       "_model_module_version": "^0.17.0",
       "_view_module_version": "^0.17.0",
       "attribution": "Datenquelle: basemap.at",
       "max_zoom": 19,
       "name": "BasemapAT.terrain",
       "options": [
        "attribution",
        "bounds",
        "detect_retina",
        "max_native_zoom",
        "max_zoom",
        "min_native_zoom",
        "min_zoom",
        "no_wrap",
        "tile_size",
        "tms"
       ],
       "url": "https://maps.wien.gv.at/basemap/bmapgelaende/grau/google3857/{z}/{y}/{x}.jpeg"
      }
     },
     "7cfe10393ad7467a9e1d334d5793f13c": {
      "model_module": "jupyter-leaflet",
      "model_module_version": "^0.17.0",
      "model_name": "LeafletTileLayerModel",
      "state": {
       "_model_module_version": "^0.17.0",
       "_view_module_version": "^0.17.0",
       "attribution": "Map data: (C) OpenStreetMap contributors | Map style: (C) waymarkedtrails.org (CC-BY-SA)",
       "name": "WaymarkedTrails.cycling",
       "options": [
        "attribution",
        "bounds",
        "detect_retina",
        "max_native_zoom",
        "max_zoom",
        "min_native_zoom",
        "min_zoom",
        "no_wrap",
        "tile_size",
        "tms"
       ],
       "url": "https://tile.waymarkedtrails.org/cycling/{z}/{x}/{y}.png"
      }
     },
     "7eb594cbcb1645768f0b56d869b12cbb": {
      "model_module": "jupyter-leaflet",
      "model_module_version": "^0.17.0",
      "model_name": "LeafletTileLayerModel",
      "state": {
       "_model_module_version": "^0.17.0",
       "_view_module_version": "^0.17.0",
       "attribution": "(C) OpenStreetMap contributors (C) CARTO",
       "max_zoom": 20,
       "name": "CartoDB.VoyagerNoLabels",
       "options": [
        "attribution",
        "bounds",
        "detect_retina",
        "max_native_zoom",
        "max_zoom",
        "min_native_zoom",
        "min_zoom",
        "no_wrap",
        "tile_size",
        "tms"
       ],
       "url": "https://a.basemaps.cartocdn.com/rastertiles/voyager_nolabels/{z}/{x}/{y}.png"
      }
     },
     "7f02f6f5fa534e5c955439bf618f117f": {
      "model_module": "@jupyter-widgets/controls",
      "model_module_version": "1.5.0",
      "model_name": "HTMLModel",
      "state": {
       "layout": "IPY_MODEL_fdeab28a3b3b47a2b11566b6a9ac4108",
       "style": "IPY_MODEL_56ad44f78adb468f944dda912413477f",
       "value": "Hover over shoreline"
      }
     },
     "7f06d714f1c64b1397cc1eeb6b544f7f": {
      "model_module": "@jupyter-widgets/base",
      "model_module_version": "1.2.0",
      "model_name": "LayoutModel",
      "state": {
       "width": "500px"
      }
     },
     "7facfa8a8a1d4a33b512afd835e589e5": {
      "model_module": "jupyter-leaflet",
      "model_module_version": "^0.17.0",
      "model_name": "LeafletTileLayerModel",
      "state": {
       "_model_module_version": "^0.17.0",
       "_view_module_version": "^0.17.0",
       "attribution": "(C) OpenStreetMap contributors (C) CARTO",
       "max_zoom": 20,
       "name": "CartoDB.VoyagerOnlyLabels",
       "options": [
        "attribution",
        "bounds",
        "detect_retina",
        "max_native_zoom",
        "max_zoom",
        "min_native_zoom",
        "min_zoom",
        "no_wrap",
        "tile_size",
        "tms"
       ],
       "url": "https://a.basemaps.cartocdn.com/rastertiles/voyager_only_labels/{z}/{x}/{y}.png"
      }
     },
     "80008e2bceb944659b60a75a578607a2": {
      "model_module": "jupyter-leaflet",
      "model_module_version": "^0.17.0",
      "model_name": "LeafletTileLayerModel",
      "state": {
       "_model_module_version": "^0.17.0",
       "_view_module_version": "^0.17.0",
       "attribution": "Geoportail France",
       "name": "GeoportailFrance.plan",
       "options": [
        "attribution",
        "bounds",
        "detect_retina",
        "max_native_zoom",
        "max_zoom",
        "min_native_zoom",
        "min_zoom",
        "no_wrap",
        "tile_size",
        "tms"
       ],
       "url": "https://wxs.ign.fr/choisirgeoportail/geoportail/wmts?REQUEST=GetTile&SERVICE=WMTS&VERSION=1.0.0&STYLE=normal&TILEMATRIXSET=PM&FORMAT=image/png&LAYER=GEOGRAPHICALGRIDSYSTEMS.PLANIGNV2&TILEMATRIX={z}&TILEROW={y}&TILECOL={x}"
      }
     },
     "80159f22997e42ed84e9fd66c340a438": {
      "model_module": "@jupyter-widgets/base",
      "model_module_version": "1.2.0",
      "model_name": "LayoutModel",
      "state": {}
     },
     "80ffa9c42f804316bd6a5f492cd12bf8": {
      "model_module": "jupyter-leaflet",
      "model_module_version": "^0.17.0",
      "model_name": "LeafletTileLayerModel",
      "state": {
       "_model_module_version": "^0.17.0",
       "_view_module_version": "^0.17.0",
       "attribution": "![](https://docs.onemap.sg/maps/images/oneMap64-01.png) New OneMap | Map data (C) contributors, Singapore Land Authority",
       "name": "OneMapSG.LandLot",
       "options": [
        "attribution",
        "bounds",
        "detect_retina",
        "max_native_zoom",
        "max_zoom",
        "min_native_zoom",
        "min_zoom",
        "no_wrap",
        "tile_size",
        "tms"
       ],
       "url": "https://maps-a.onemap.sg/v3/LandLot/{z}/{x}/{y}.png"
      }
     },
     "8279f79d30d14243a6a018b339102db5": {
      "model_module": "@jupyter-widgets/base",
      "model_module_version": "1.2.0",
      "model_name": "LayoutModel",
      "state": {
       "border": "1px solid black"
      }
     },
     "82a4930c9f9b4cfcacdd7a672dee5c83": {
      "model_module": "jupyter-leaflet",
      "model_module_version": "^0.17.0",
      "model_name": "LeafletTileLayerModel",
      "state": {
       "_model_module_version": "^0.17.0",
       "_view_module_version": "^0.17.0",
       "attribution": "&copy; <a href=\"http://www.gaode.com/\">Gaode.com</a>",
       "max_zoom": 19,
       "name": "Gaode.Satellite",
       "options": [
        "attribution",
        "bounds",
        "detect_retina",
        "max_native_zoom",
        "max_zoom",
        "min_native_zoom",
        "min_zoom",
        "no_wrap",
        "tile_size",
        "tms"
       ],
       "url": "http://webst01.is.autonavi.com/appmaptile?style=6&x={x}&y={y}&z={z}"
      }
     },
     "838b82ae443f448da2bb472741198a6d": {
      "model_module": "@jupyter-widgets/controls",
      "model_module_version": "1.5.0",
      "model_name": "HTMLModel",
      "state": {
       "layout": "IPY_MODEL_b4ff7e03fbc74efaa84e5ce5385e1513",
       "style": "IPY_MODEL_3bb20560d3844317b92b8ade5fac01c6",
       "value": "<b>Pick a date:</b>"
      }
     },
     "83a7ad10940e4ea6b6902ceaea4e7608": {
      "model_module": "@jupyter-widgets/controls",
      "model_module_version": "1.5.0",
      "model_name": "DescriptionStyleModel",
      "state": {
       "description_width": ""
      }
     },
     "8423e861eeda48828514ebeb83a5830f": {
      "model_module": "jupyter-leaflet",
      "model_module_version": "^0.17.0",
      "model_name": "LeafletTileLayerModel",
      "state": {
       "_model_module_version": "^0.17.0",
       "_view_module_version": "^0.17.0",
       "attribution": "openAIP Data (CC-BY-NC-SA)",
       "max_zoom": 14,
       "name": "OpenAIP",
       "options": [
        "attribution",
        "bounds",
        "detect_retina",
        "max_native_zoom",
        "max_zoom",
        "min_native_zoom",
        "min_zoom",
        "no_wrap",
        "tile_size",
        "tms"
       ],
       "url": "https://1.tile.maps.openaip.net/geowebcache/service/tms/1.0.0/openaip_basemap@EPSG%3A900913@png/{z}/{x}/{y}.png"
      }
     },
     "85158cf0a73043e2b52c4adc7c75da38": {
      "model_module": "jupyter-leaflet",
      "model_module_version": "^0.17.0",
      "model_name": "LeafletTileLayerModel",
      "state": {
       "_model_module_version": "^0.17.0",
       "_view_module_version": "^0.17.0",
       "attribution": "© swisstopo",
       "name": "SwissFederalGeoportal.NationalMapColor",
       "options": [
        "attribution",
        "bounds",
        "detect_retina",
        "max_native_zoom",
        "max_zoom",
        "min_native_zoom",
        "min_zoom",
        "no_wrap",
        "tile_size",
        "tms"
       ],
       "url": "https://wmts.geo.admin.ch/1.0.0/ch.swisstopo.pixelkarte-farbe/default/current/3857/{z}/{x}/{y}.jpeg"
      }
     },
     "8689040ded9949a0bb5689be901b06a4": {
      "model_module": "jupyter-leaflet",
      "model_module_version": "^0.17.0",
      "model_name": "LeafletTileLayerModel",
      "state": {
       "_model_module_version": "^0.17.0",
       "_view_module_version": "^0.17.0",
       "attribution": "Datenquelle: basemap.at",
       "max_zoom": 20,
       "name": "BasemapAT.orthofoto",
       "options": [
        "attribution",
        "bounds",
        "detect_retina",
        "max_native_zoom",
        "max_zoom",
        "min_native_zoom",
        "min_zoom",
        "no_wrap",
        "tile_size",
        "tms"
       ],
       "url": "https://maps.wien.gv.at/basemap/bmaporthofoto30cm/normal/google3857/{z}/{y}/{x}.jpeg"
      }
     },
     "872dad2c8fa44912bcb3ae5c697235ef": {
      "model_module": "@jupyter-widgets/base",
      "model_module_version": "1.2.0",
      "model_name": "LayoutModel",
      "state": {
       "height": "auto",
       "padding": "0px 0px 0px 4px",
       "width": "auto"
      }
     },
     "875a0ceff5494564b555d8e6d121da1e": {
      "model_module": "jupyter-leaflet",
      "model_module_version": "^0.17.0",
      "model_name": "LeafletTileLayerModel",
      "state": {
       "_model_module_version": "^0.17.0",
       "_view_module_version": "^0.17.0",
       "attribution": "Datenquelle: basemap.at",
       "max_zoom": 19,
       "name": "BasemapAT.grau",
       "options": [
        "attribution",
        "bounds",
        "detect_retina",
        "max_native_zoom",
        "max_zoom",
        "min_native_zoom",
        "min_zoom",
        "no_wrap",
        "tile_size",
        "tms"
       ],
       "url": "https://maps.wien.gv.at/basemap/bmapgrau/normal/google3857/{z}/{y}/{x}.png"
      }
     },
     "87c3fab90276477fb201de21797e9fdb": {
      "model_module": "jupyter-leaflet",
      "model_module_version": "^0.17.0",
      "model_name": "LeafletWMSLayerModel",
      "state": {
       "_model_module_version": "^0.17.0",
       "_view_module_version": "^0.17.0",
       "attribution": "ESA",
       "crs": {
        "custom": false,
        "name": "EPSG3857"
       },
       "format": "image/png",
       "layers": "WORLDCOVER_2020_MAP",
       "name": "ESA Worldcover 2020",
       "options": [
        "attribution",
        "bounds",
        "detect_retina",
        "format",
        "layers",
        "max_native_zoom",
        "max_zoom",
        "min_native_zoom",
        "min_zoom",
        "no_wrap",
        "styles",
        "tile_size",
        "tms",
        "transparent",
        "uppercase"
       ],
       "transparent": true,
       "url": "https://services.terrascope.be/wms/v2"
      }
     },
     "8850b114901b4a0ca01831f02d0bcfbd": {
      "model_module": "jupyter-leaflet",
      "model_module_version": "^0.17.0",
      "model_name": "LeafletTileLayerModel",
      "state": {
       "_model_module_version": "^0.17.0",
       "_view_module_version": "^0.17.0",
       "attribution": "Map tiles by Stamen Design, CC BY 3.0 -- Map data (C) OpenStreetMap contributors",
       "max_zoom": 20,
       "name": "Stamen.TopOSMFeatures",
       "options": [
        "attribution",
        "bounds",
        "detect_retina",
        "max_native_zoom",
        "max_zoom",
        "min_native_zoom",
        "min_zoom",
        "no_wrap",
        "tile_size",
        "tms"
       ],
       "url": "https://stamen-tiles-a.a.ssl.fastly.net/toposm-features/{z}/{x}/{y}.png"
      }
     },
     "889e95658a4f4ce79c7a0da03ea2c996": {
      "model_module": "jupyter-leaflet",
      "model_module_version": "^0.17.0",
      "model_name": "LeafletTileLayerModel",
      "state": {
       "_model_module_version": "^0.17.0",
       "_view_module_version": "^0.17.0",
       "attribution": "(C) OpenStreetMap contributors, Tiles courtesy of Breton OpenStreetMap Team",
       "max_zoom": 19,
       "name": "OpenStreetMap.BZH",
       "options": [
        "attribution",
        "bounds",
        "detect_retina",
        "max_native_zoom",
        "max_zoom",
        "min_native_zoom",
        "min_zoom",
        "no_wrap",
        "tile_size",
        "tms"
       ],
       "url": "https://tile.openstreetmap.bzh/br/{z}/{x}/{y}.png"
      }
     },
     "88d2f740d26a42c784069b7e6feda6fa": {
      "model_module": "@jupyter-widgets/base",
      "model_module_version": "1.2.0",
      "model_name": "LayoutModel",
      "state": {
       "height": "auto",
       "padding": "0px 0px 0px 4px",
       "width": "auto"
      }
     },
     "89551b5766204f828e38f5feda6587db": {
      "model_module": "@jupyter-widgets/controls",
      "model_module_version": "1.5.0",
      "model_name": "DescriptionStyleModel",
      "state": {
       "description_width": ""
      }
     },
     "8b1dc627a36d4f3c83c68902c6c64707": {
      "model_module": "jupyter-leaflet",
      "model_module_version": "^0.17.0",
      "model_name": "LeafletTileLayerModel",
      "state": {
       "_model_module_version": "^0.17.0",
       "_view_module_version": "^0.17.0",
       "attribution": "Imagery provided by services from the Global Imagery Browse Services (GIBS), operated by the NASA/GSFC/Earth Science Data and Information System (ESDIS) with funding provided by NASA/HQ.",
       "max_zoom": 9,
       "name": "NASAGIBS.ModisAquaBands721CR",
       "options": [
        "attribution",
        "bounds",
        "detect_retina",
        "max_native_zoom",
        "max_zoom",
        "min_native_zoom",
        "min_zoom",
        "no_wrap",
        "tile_size",
        "tms"
       ],
       "url": "https://gibs.earthdata.nasa.gov/wmts/epsg3857/best/MODIS_Aqua_CorrectedReflectance_Bands721/default//GoogleMapsCompatible_Level9/{z}/{y}/{x}.jpg"
      }
     },
     "8b5a4a05c2c84c7b8b23726247c415ee": {
      "model_module": "@jupyter-widgets/controls",
      "model_module_version": "1.5.0",
      "model_name": "DatePickerModel",
      "state": {
       "description": "Start Date",
       "disabled": false,
       "layout": "IPY_MODEL_80159f22997e42ed84e9fd66c340a438",
       "style": "IPY_MODEL_93bf55b547b74984af7ed6f03d49ed3a",
       "value": {
        "date": 1,
        "month": 11,
        "year": 2018
       }
      }
     },
     "8c9de3e3490b4f62bc868b59a2143f0c": {
      "model_module": "@jupyter-widgets/controls",
      "model_module_version": "1.5.0",
      "model_name": "RadioButtonsModel",
      "state": {
       "_options_labels": [
        "C01",
        "C02"
       ],
       "description": "Collection:",
       "index": 0,
       "layout": "IPY_MODEL_4163e24b96554eb787fea31f913817cb",
       "style": "IPY_MODEL_993efcd3549644adbf1fb37c70529f82"
      }
     },
     "8e753c175ba64c31b32c25b77874b313": {
      "model_module": "jupyter-leaflet",
      "model_module_version": "^0.17.0",
      "model_name": "LeafletWMSLayerModel",
      "state": {
       "_model_module_version": "^0.17.0",
       "_view_module_version": "^0.17.0",
       "attribution": "USGS",
       "crs": {
        "custom": false,
        "name": "EPSG3857"
       },
       "format": "image/png",
       "layers": "USGSNAIPImagery:NaturalColor",
       "name": "USGS NAIP Imagery",
       "options": [
        "attribution",
        "bounds",
        "detect_retina",
        "format",
        "layers",
        "max_native_zoom",
        "max_zoom",
        "min_native_zoom",
        "min_zoom",
        "no_wrap",
        "styles",
        "tile_size",
        "tms",
        "transparent",
        "uppercase"
       ],
       "transparent": true,
       "url": "https://imagery.nationalmap.gov/arcgis/services/USGSNAIPImagery/ImageServer/WMSServer?"
      }
     },
     "8f57c36f04184bb691e1fd43a654aa22": {
      "model_module": "jupyter-leaflet",
      "model_module_version": "^0.17.0",
      "model_name": "LeafletTileLayerModel",
      "state": {
       "_model_module_version": "^0.17.0",
       "_view_module_version": "^0.17.0",
       "attribution": "Google",
       "max_zoom": 22,
       "name": "Google Maps",
       "options": [
        "attribution",
        "bounds",
        "detect_retina",
        "max_native_zoom",
        "max_zoom",
        "min_native_zoom",
        "min_zoom",
        "no_wrap",
        "tile_size",
        "tms"
       ],
       "url": "https://mt1.google.com/vt/lyrs=m&x={x}&y={y}&z={z}"
      }
     },
     "8fa253f19f6c43f188ceb71a4cab0ddc": {
      "model_module": "jupyter-leaflet",
      "model_module_version": "^0.17.0",
      "model_name": "LeafletTileLayerModel",
      "state": {
       "_model_module_version": "^0.17.0",
       "_view_module_version": "^0.17.0",
       "attribution": "Map tiles by Stamen Design, CC BY 3.0 -- Map data (C) OpenStreetMap contributors",
       "name": "Stamen.TerrainBackground",
       "options": [
        "attribution",
        "bounds",
        "detect_retina",
        "max_native_zoom",
        "max_zoom",
        "min_native_zoom",
        "min_zoom",
        "no_wrap",
        "tile_size",
        "tms"
       ],
       "url": "https://stamen-tiles-a.a.ssl.fastly.net/terrain-background/{z}/{x}/{y}.png"
      }
     },
     "9166e3e2196f47cf8cf4183be3d070d8": {
      "model_module": "@jupyter-widgets/base",
      "model_module_version": "1.2.0",
      "model_name": "LayoutModel",
      "state": {
       "height": "28px",
       "width": "72px"
      }
     },
     "9251a56dd4da4ea199a4fdb1599f3bb5": {
      "model_module": "jupyter-leaflet",
      "model_module_version": "^0.17.0",
      "model_name": "LeafletTileLayerModel",
      "state": {
       "_model_module_version": "^0.17.0",
       "_view_module_version": "^0.17.0",
       "attribution": "(C) OpenStreetMap contributors, vizualization CC-By-SA 2.0 Freemap.sk",
       "max_zoom": 16,
       "name": "FreeMapSK",
       "options": [
        "attribution",
        "bounds",
        "detect_retina",
        "max_native_zoom",
        "max_zoom",
        "min_native_zoom",
        "min_zoom",
        "no_wrap",
        "tile_size",
        "tms"
       ],
       "url": "https://a.freemap.sk/T/{z}/{x}/{y}.jpeg"
      }
     },
     "92787ff0b2bd412fbd43b56d57df1886": {
      "model_module": "@jupyter-widgets/controls",
      "model_module_version": "1.5.0",
      "model_name": "DescriptionStyleModel",
      "state": {
       "description_width": ""
      }
     },
     "927a084c75094befb4e2a6814c1c9192": {
      "model_module": "jupyter-leaflet",
      "model_module_version": "^0.17.0",
      "model_name": "LeafletGeoJSONModel",
      "state": {
       "_model_module_version": "^0.17.0",
       "_view_module_version": "^0.17.0",
       "data": {
        "features": [
         {
          "geometry": {
           "coordinates": [
            [
             -121.50875486199999,
             36.00398118500004
            ],
            [
             -121.50877854299995,
             36.003988314000026
            ],
            [
             -121.50883301299996,
             36.00401469500008
            ],
            [
             -121.50887129999995,
             36.00404377900003
            ],
            [
             -121.509085917,
             36.00423340400005
            ],
            [
             -121.50912164599998,
             36.00426505000007
            ],
            [
             -121.509153186,
             36.00430088100006
            ],
            [
             -121.50927768999998,
             36.004445873000066
            ],
            [
             -121.50947779999996,
             36.00465000600008
            ],
            [
             -121.50954533899994,
             36.00471721300005
            ],
            [
             -121.50975875499995,
             36.00490804000003
            ],
            [
             -121.50979587199998,
             36.004938296000034
            ],
            [
             -121.50984545199998,
             36.004965714000036
            ],
            [
             -121.50990097299996,
             36.004987193000034
            ],
            [
             -121.51007884299997,
             36.005040317000066
            ],
            [
             -121.510134231,
             36.00506192700004
            ],
            [
             -121.51018355599996,
             36.005089601000066
            ],
            [
             -121.51022029599994,
             36.00512023600004
            ],
            [
             -121.51042232699996,
             36.00532244500005
            ],
            [
             -121.51045292799995,
             36.00535921900007
            ],
            [
             -121.51048055499996,
             36.00540858900007
            ],
            [
             -121.51050211299997,
             36.00546403000004
            ],
            [
             -121.51055500399997,
             36.00564213400003
            ],
            [
             -121.51057636999997,
             36.00569776800006
            ],
            [
             -121.51060365399996,
             36.00574748300005
            ],
            [
             -121.510633768,
             36.00578474200006
            ],
            [
             -121.51082307599995,
             36.005999676000044
            ],
            [
             -121.51088943899998,
             36.00606805900003
            ],
            [
             -121.511090293,
             36.006271447000074
            ],
            [
             -121.51115788799996,
             36.00633860000005
            ],
            [
             -121.51137264099998,
             36.00652808800004
            ],
            [
             -121.51141082699996,
             36.006557276000024
            ],
            [
             -121.51146512699995,
             36.00658382200004
            ],
            [
             -121.51152706299996,
             36.00660273600005
            ],
            [
             -121.51159426899994,
             36.006616380000025
            ],
            [
             -121.51166477799995,
             36.00662672000004
            ],
            [
             -121.51180908699996,
             36.00664410500008
            ],
            [
             -121.51187982,
             36.006654221000076
            ],
            [
             -121.51194747099998,
             36.00666741800006
            ],
            [
             -121.51201020399998,
             36.00668553500003
            ],
            [
             -121.51206583699997,
             36.006710750000025
            ],
            [
             -121.512500118,
             36.00693095400004
            ],
            [
             -121.512716636,
             36.00707055500004
            ],
            [
             -121.51275646999994,
             36.00709809600005
            ],
            [
             -121.51281106799996,
             36.00712276000007
            ],
            [
             -121.51287290299996,
             36.00714018800005
            ],
            [
             -121.512940131,
             36.00715222400004
            ],
            [
             -121.51301130399997,
             36.00716031300004
            ],
            [
             -121.51308530299997,
             36.00716557700008
            ],
            [
             -121.51323845599995,
             36.007170951000035
            ],
            [
             -121.51347226699994,
             36.007174930000076
            ],
            [
             -121.51362506299995,
             36.00718065900003
            ],
            [
             -121.51369879899994,
             36.00718618600007
            ],
            [
             -121.51376967999994,
             36.007194569000035
            ],
            [
             -121.51383661499995,
             36.00720689700006
            ],
            [
             -121.51389820999998,
             36.00722456500006
            ],
            [
             -121.51395269199998,
             36.00724934700003
            ],
            [
             -121.51399260499994,
             36.00727680600005
            ],
            [
             -121.51406578099994,
             36.00733837700005
            ],
            [
             -121.51410562299998,
             36.00736591100008
            ],
            [
             -121.51416039099996,
             36.00739099000003
            ],
            [
             -121.51422230799994,
             36.00740892300007
            ],
            [
             -121.51428958399998,
             36.00742149900003
            ],
            [
             -121.51436082199996,
             36.007430112000065
            ],
            [
             -121.51443494999995,
             36.007435833000045
            ],
            [
             -121.51451116399994,
             36.007439469000076
            ],
            [
             -121.51466759199997,
             36.00744274500005
            ],
            [
             -121.51490719399999,
             36.00744269300003
            ],
            [
             -121.51538987499998,
             36.00743912100006
            ],
            [
             -121.51562787399996,
             36.00744068300003
            ],
            [
             -121.51578166099995,
             36.007446608000066
            ],
            [
             -121.515855709,
             36.00745242100004
            ],
            [
             -121.51586844899998,
             36.00745398400005
            ]
           ],
           "type": "LineString"
          },
          "id": "0",
          "properties": {
           "CHLOROPHYLL": 2.417483,
           "CSU_Descriptor": "steeply sloping, straight, medium erodibility, warm temperate dry, low river discharge, moderate wave energy, moderately tidal, euhaline-oxic-moderate to cool, clear, moderate chlorophyll",
           "CSU_ID": 70981,
           "Cluster": 6,
           "EMU_PHYSICAL": "Euhaline-Oxic-Moderate to Cool",
           "ERODIBILITY": "Medium",
           "GHM": 0.057545,
           "LENGTH_GEO": 808.7053256467224,
           "MAX_SLOPE": 108.650524,
           "MEAN_SIG_WAVEHEIGHT": 1.687268,
           "MasterKey": 2753663,
           "OBJECTID": 2753663,
           "OUTFLOW_DENSITY": 8671.790039,
           "OUTFLOW_DENSITY_RESCALED": 1.0484883786709782e-05,
           "REGIONAL_SINUOSITY": 1.140924,
           "RandomSort": 2361457.62831946,
           "Shape_Length": 0.008435847190592267,
           "TEMP_MOISTURE": "Warm Temperate Dry",
           "TIDAL_RANGE": 2.410373,
           "TURBIDITY": 0.024533,
           "chl_label": "moderate chlorophyll",
           "river_label": "low river discharge",
           "sinuosity_label": "straight",
           "slope_label": "steeply sloping",
           "style": {
            "color": "yellow",
            "dashArray": "5",
            "fillOpacity": 0.5,
            "fill_color": "yellow",
            "opacity": 1,
            "weight": 4
           },
           "tidal_label": "moderately tidal",
           "turbid_label": "clear",
           "wave_label": "moderate wave energy"
          },
          "type": "Feature"
         },
         {
          "geometry": {
           "coordinates": [
            [
             -121.51586844899998,
             36.00745398400005
            ],
            [
             -121.51592684499997,
             36.00746114700007
            ],
            [
             -121.51599399599996,
             36.00747386200004
            ],
            [
             -121.51605576399999,
             36.007491962000074
            ],
            [
             -121.51611035499997,
             36.00751724600008
            ],
            [
             -121.51615001699997,
             36.007544981000024
            ],
            [
             -121.51622276399996,
             36.00760705000005
            ],
            [
             -121.51626242099996,
             36.00763481100006
            ],
            [
             -121.51631772899998,
             36.00766041800006
            ],
            [
             -121.51638036399999,
             36.00767871200003
            ],
            [
             -121.51644847399996,
             36.007691557000044
            ],
            [
             -121.51652061099998,
             36.007700396000075
            ],
            [
             -121.51659567999997,
             36.00770633500008
            ],
            [
             -121.51667284999996,
             36.007710211000074
            ],
            [
             -121.51683119599994,
             36.007714100000044
            ],
            [
             -121.516992475,
             36.00771531000004
            ],
            [
             -121.517889406,
             36.00771641600005
            ],
            [
             -121.51805033899996,
             36.00771468700003
            ],
            [
             -121.51820709199995,
             36.007708723000064
            ],
            [
             -121.51828255799995,
             36.007702762000065
            ],
            [
             -121.51835494799997,
             36.00769365700006
            ],
            [
             -121.51842303399997,
             36.00768016200004
            ],
            [
             -121.51848520099998,
             36.00766063900005
            ],
            [
             -121.51853932699998,
             36.00763295300004
            ],
            [
             -121.51857719799995,
             36.007602545000054
            ],
            [
             -121.51871346099995,
             36.00746477400003
            ],
            [
             -121.51892668099998,
             36.00726895400004
            ],
            [
             -121.51896347699994,
             36.00723961800003
            ],
            [
             -121.51901272999999,
             36.00721514400004
            ],
            [
             -121.51906798699997,
             36.007199557000035
            ],
            [
             -121.51912674099998,
             36.00719163200006
            ],
            [
             -121.51918667799998,
             36.00719077800005
            ],
            [
             -121.51924553199996,
             36.00719702200007
            ],
            [
             -121.51930095399996,
             36.00721101900007
            ],
            [
             -121.51935036299994,
             36.00723408400006
            ],
            [
             -121.51938718899999,
             36.00726242400003
            ],
            [
             -121.51958751099994,
             36.00746749500007
            ],
            [
             -121.51961660899997,
             36.00750667600005
            ],
            [
             -121.51964153699998,
             36.007559755000045
            ],
            [
             -121.51965892399994,
             36.007620313000075
            ],
            [
             -121.51967074899994,
             36.00768634700006
            ],
            [
             -121.51967858599994,
             36.00775627300004
            ],
            [
             -121.51968368899998,
             36.007828837000034
            ],
            [
             -121.51969560699996,
             36.00812674000008
            ],
            [
             -121.51970065899997,
             36.008198976000074
            ],
            [
             -121.51970842199995,
             36.00826845000006
            ],
            [
             -121.51972015099994,
             36.00833391500004
            ],
            [
             -121.51973741699999,
             36.008393811000076
            ],
            [
             -121.51976219299996,
             36.00844616200004
            ],
            [
             -121.519791135,
             36.008484690000046
            ],
            [
             -121.51999001499996,
             36.00869036200004
            ],
            [
             -121.52002654799998,
             36.008721226000034
            ],
            [
             -121.52007563799998,
             36.00874915900005
            ],
            [
             -121.52056746799997,
             36.00898889300004
            ],
            [
             -121.52062271899996,
             36.009013492000065
            ],
            [
             -121.52068522099995,
             36.00903084200007
            ],
            [
             -121.52075310999999,
             36.00904280700007
            ],
            [
             -121.52082494499996,
             36.00905082400004
            ],
            [
             -121.52089963199995,
             36.00905598700007
            ],
            [
             -121.521054489,
             36.009060831000056
            ],
            [
             -121.52129358399998,
             36.009061288000055
            ],
            [
             -121.52177722099998,
             36.00905675300004
            ],
            [
             -121.52201695899998,
             36.00905656500004
            ],
            [
             -121.52217339999999,
             36.009059826000055
            ],
            [
             -121.52224960199999,
             36.009063473000026
            ],
            [
             -121.52232370699994,
             36.009069219000025
            ],
            [
             -121.52239490699998,
             36.009077870000056
            ],
            [
             -121.52246212899996,
             36.009090496000056
            ],
            [
             -121.52252398099995,
             36.00910849400003
            ],
            [
             -121.522578668,
             36.00913365700006
            ],
            [
             -121.52261842899998,
             36.00916127100004
            ],
            [
             -121.52269141499994,
             36.00922303300007
            ],
            [
             -121.52273121999997,
             36.009250602000066
            ],
            [
             -121.52278673199999,
             36.00927593600005
            ],
            [
             -121.52284961099997,
             36.009293909000064
            ],
            [
             -121.52291799099999,
             36.00930637700003
            ],
            [
             -121.52294237299998,
             36.00930920300004
            ]
           ],
           "type": "LineString"
          },
          "id": "1",
          "properties": {
           "CHLOROPHYLL": 2.417483,
           "CSU_Descriptor": "steeply sloping, straight, medium erodibility, warm temperate dry, low river discharge, moderate wave energy, moderately tidal, euhaline-oxic-moderate to cool, clear, moderate chlorophyll",
           "CSU_ID": 70981,
           "Cluster": 6,
           "EMU_PHYSICAL": "Euhaline-Oxic-Moderate to Cool",
           "ERODIBILITY": "Medium",
           "GHM": 0.10134,
           "LENGTH_GEO": 808.8271837845471,
           "MAX_SLOPE": 152.033411,
           "MEAN_SIG_WAVEHEIGHT": 1.687268,
           "MasterKey": 2753662,
           "OBJECTID": 2753662,
           "OUTFLOW_DENSITY": 8671.790039,
           "OUTFLOW_DENSITY_RESCALED": 1.0484883786709782e-05,
           "REGIONAL_SINUOSITY": 1.140924,
           "RandomSort": 297054.39133329,
           "Shape_Length": 0.008495092439177234,
           "TEMP_MOISTURE": "Warm Temperate Dry",
           "TIDAL_RANGE": 2.410373,
           "TURBIDITY": 0.024533,
           "chl_label": "moderate chlorophyll",
           "river_label": "low river discharge",
           "sinuosity_label": "straight",
           "slope_label": "steeply sloping",
           "style": {
            "color": "yellow",
            "dashArray": "5",
            "fillOpacity": 0.5,
            "fill_color": "yellow",
            "opacity": 1,
            "weight": 4
           },
           "tidal_label": "moderately tidal",
           "turbid_label": "clear",
           "wave_label": "moderate wave energy"
          },
          "type": "Feature"
         },
         {
          "geometry": {
           "coordinates": [
            [
             -121.52294237299998,
             36.00930920300004
            ],
            [
             -121.52299043799997,
             36.00931477600005
            ],
            [
             -121.52306584699994,
             36.00932021500006
            ],
            [
             -121.52314337799999,
             36.00932353400003
            ],
            [
             -121.52330241599998,
             36.00932619200006
            ],
            [
             -121.52370608799998,
             36.00932676200006
            ],
            [
             -121.52386335299997,
             36.00933119200005
            ],
            [
             -121.52393923899996,
             36.009336157000064
            ],
            [
             -121.52401222299994,
             36.00934402000007
            ],
            [
             -121.52408117099998,
             36.009355921000065
            ],
            [
             -121.52414459399995,
             36.009373347000064
            ],
            [
             -121.52420056299997,
             36.00939822500004
            ],
            [
             -121.52469040399995,
             36.00963986900007
            ],
            [
             -121.524739453,
             36.009667818000025
            ],
            [
             -121.52477615099997,
             36.00969849400008
            ],
            [
             -121.52498804699997,
             36.00989084100007
            ],
            [
             -121.52505498,
             36.00995865700003
            ],
            [
             -121.52524430899996,
             36.010173569000074
            ],
            [
             -121.52527439299996,
             36.01021086000003
            ],
            [
             -121.52530164799998,
             36.01026060300006
            ],
            [
             -121.52532298699998,
             36.010316259000035
            ],
            [
             -121.52537568099996,
             36.010494562000076
            ],
            [
             -121.52539703399998,
             36.01055020700005
            ],
            [
             -121.52542430699998,
             36.01059993400003
            ],
            [
             -121.52545441199999,
             36.010637202000055
            ],
            [
             -121.52564404199995,
             36.010851812000055
            ],
            [
             -121.52571117599996,
             36.01091942800008
            ],
            [
             -121.52592423599998,
             36.01111061000006
            ],
            [
             -121.52596123499995,
             36.011140984000065
            ],
            [
             -121.52601066999995,
             36.01116854600008
            ],
            [
             -121.52606607099995,
             36.01119014400007
            ],
            [
             -121.52639046799999,
             36.01131811400006
            ],
            [
             -121.526840156,
             36.01153253700005
            ],
            [
             -121.52688911499996,
             36.01156057700007
            ],
            [
             -121.52692569299995,
             36.011591373000044
            ],
            [
             -121.52706057599994,
             36.011725985000055
            ],
            [
             -121.52727633599994,
             36.011914465000075
            ],
            [
             -121.52731440599996,
             36.01194376700005
            ],
            [
             -121.52736857399998,
             36.011970448000056
            ],
            [
             -121.52743039399996,
             36.01198947700004
            ],
            [
             -121.527497499,
             36.01200322100004
            ],
            [
             -121.52756790899997,
             36.01201365800006
            ],
            [
             -121.52771190599998,
             36.01203135800006
            ],
            [
             -121.52778230699994,
             36.01204180700006
            ],
            [
             -121.52784938999997,
             36.012055571000076
            ],
            [
             -121.52791118099998,
             36.01207463000003
            ],
            [
             -121.52796530899997,
             36.01210135100007
            ],
            [
             -121.528003335,
             36.01213069700003
            ],
            [
             -121.52821858099998,
             36.01231969600008
            ],
            [
             -121.52849233899997,
             36.01253680000008
            ],
            [
             -121.52892722099995,
             36.01275640600005
            ],
            [
             -121.52898061199994,
             36.012780013000054
            ],
            [
             -121.52904083699997,
             36.01279678800006
            ],
            [
             -121.52910613899996,
             36.012808481000036
            ],
            [
             -121.52917511499999,
             36.012816506000036
            ],
            [
             -121.52924661599997,
             36.012822001000075
            ],
            [
             -121.52954030299998,
             36.01283630700004
            ],
            [
             -121.52961161299999,
             36.012841998000056
            ],
            [
             -121.52968023799997,
             36.01285037100007
            ],
            [
             -121.529744946,
             36.01286266200003
            ],
            [
             -121.52980419999994,
             36.01288040600008
            ],
            [
             -121.52985607199997,
             36.01290553300004
            ],
            [
             -121.52989436099995,
             36.01293461900008
            ],
            [
             -121.53001979599998,
             36.013046710000026
            ]
           ],
           "type": "LineString"
          },
          "id": "2",
          "properties": {
           "CHLOROPHYLL": 0.833561,
           "CSU_Descriptor": "steeply sloping, straight, medium erodibility, warm temperate dry, low river discharge, moderate wave energy, moderately tidal, euhaline-oxic-moderate to cool, clear, low chlorophyll",
           "CSU_ID": 62191,
           "Cluster": 6,
           "EMU_PHYSICAL": "Euhaline-Oxic-Moderate to Cool",
           "ERODIBILITY": "Medium",
           "GHM": 0.10134,
           "LENGTH_GEO": 808.6158624684548,
           "MAX_SLOPE": 76.299834,
           "MEAN_SIG_WAVEHEIGHT": 1.687268,
           "MasterKey": 2753661,
           "OBJECTID": 2753661,
           "OUTFLOW_DENSITY": 8671.790039,
           "OUTFLOW_DENSITY_RESCALED": 1.0484883786709782e-05,
           "REGIONAL_SINUOSITY": 1.140924,
           "RandomSort": 3235310.88357964,
           "Shape_Length": 0.008419277882346981,
           "TEMP_MOISTURE": "Warm Temperate Dry",
           "TIDAL_RANGE": 2.416656,
           "TURBIDITY": 0.027483,
           "chl_label": "low chlorophyll",
           "river_label": "low river discharge",
           "sinuosity_label": "straight",
           "slope_label": "steeply sloping",
           "style": {
            "color": "yellow",
            "dashArray": "5",
            "fillOpacity": 0.5,
            "fill_color": "yellow",
            "opacity": 1,
            "weight": 4
           },
           "tidal_label": "moderately tidal",
           "turbid_label": "clear",
           "wave_label": "moderate wave energy"
          },
          "type": "Feature"
         },
         {
          "geometry": {
           "coordinates": [
            [
             -121.53001979599998,
             36.013046710000026
            ],
            [
             -121.53010783599996,
             36.01312538500008
            ],
            [
             -121.53014334699998,
             36.01315724500006
            ],
            [
             -121.53017468399997,
             36.01319328300008
            ],
            [
             -121.53029845299994,
             36.01333900900005
            ],
            [
             -121.53049737899994,
             36.013544325000055
            ],
            [
             -121.53056436799994,
             36.013612083000055
            ],
            [
             -121.53077520199997,
             36.01380549100003
            ],
            [
             -121.53081175499995,
             36.01383631200008
            ],
            [
             -121.53086067699996,
             36.01386439000004
            ],
            [
             -121.53135124,
             36.01410531100004
            ],
            [
             -121.53140450999996,
             36.01412904000006
            ],
            [
             -121.53146456599995,
             36.01414598400004
            ],
            [
             -121.53152965099997,
             36.01415789400005
            ],
            [
             -121.53159836199995,
             36.014166182000054
            ],
            [
             -121.53166955799998,
             36.014171986000065
            ],
            [
             -121.53196185699994,
             36.01418768100007
            ],
            [
             -121.53203293899998,
             36.01419359800008
            ],
            [
             -121.53210150799998,
             36.01420202700007
            ],
            [
             -121.53216645499998,
             36.014214080000045
            ],
            [
             -121.53222640399997,
             36.01423112700007
            ],
            [
             -121.53290144599998,
             36.01446853600004
            ],
            [
             -121.53319957399998,
             36.014615132000074
            ],
            [
             -121.53323981899996,
             36.01464227500003
            ],
            [
             -121.53329471799998,
             36.01466666300007
            ],
            [
             -121.53335673599997,
             36.014683941000044
            ],
            [
             -121.53342408199995,
             36.01469589800007
            ],
            [
             -121.53349535899997,
             36.01470393400007
            ],
            [
             -121.53356946899999,
             36.01470914600003
            ],
            [
             -121.53372295799994,
             36.014714352000055
            ],
            [
             -121.53395763199995,
             36.01471789900006
            ],
            [
             -121.53411110699994,
             36.01472341200008
            ],
            [
             -121.53418510299997,
             36.014728984000044
            ],
            [
             -121.534256084,
             36.01473762400008
            ],
            [
             -121.53432283599994,
             36.014750556000024
            ],
            [
             -121.53438378699997,
             36.014769355000055
            ],
            [
             -121.53443691099994,
             36.014796051000076
            ],
            [
             -121.53447484599997,
             36.01482601200007
            ],
            [
             -121.53461076599996,
             36.014961913000036
            ],
            [
             -121.53482122899999,
             36.015153878000035
            ],
            [
             -121.534857295,
             36.01518238500006
            ],
            [
             -121.53490563999998,
             36.01520586100003
            ],
            [
             -121.53495995299994,
             36.01522042700003
            ],
            [
             -121.53501779099997,
             36.01522737400006
            ],
            [
             -121.53507693499995,
             36.01522738600005
            ],
            [
             -121.53513527099994,
             36.01522058300003
            ],
            [
             -121.535190667,
             36.01520652500005
            ],
            [
             -121.53524085799995,
             36.01518421500003
            ],
            [
             -121.53527937599995,
             36.01515754500008
            ],
            [
             -121.53535137699998,
             36.01509609900006
            ],
            [
             -121.53539112399994,
             36.015068204000045
            ],
            [
             -121.535446214,
             36.015042433000076
            ],
            [
             -121.53550863799995,
             36.01502374700004
            ],
            [
             -121.53557650599998,
             36.015010407000034
            ],
            [
             -121.535648359,
             36.015001046000066
            ],
            [
             -121.53572308399998,
             36.01499460900004
            ],
            [
             -121.53587802799996,
             36.01498748500006
            ],
            [
             -121.53603696899995,
             36.01498472600008
            ],
            [
             -121.53619762599999,
             36.01498398500007
            ],
            [
             -121.53756718999995,
             36.01498332700004
            ],
            [
             -121.53772548899997,
             36.01498543200006
            ],
            [
             -121.53780327399994,
             36.014987835000056
            ],
            [
             -121.53787959299996,
             36.01499170500006
            ],
            [
             -121.53795314799999,
             36.01499759700005
            ]
           ],
           "type": "LineString"
          },
          "id": "3",
          "properties": {
           "CHLOROPHYLL": 2.417483,
           "CSU_Descriptor": "steeply sloping, straight, medium erodibility, warm temperate dry, low river discharge, moderate wave energy, moderately tidal, euhaline-oxic-moderate to cool, clear, moderate chlorophyll",
           "CSU_ID": 70981,
           "Cluster": 6,
           "EMU_PHYSICAL": "Euhaline-Oxic-Moderate to Cool",
           "ERODIBILITY": "Medium",
           "GHM": 0.115889,
           "LENGTH_GEO": 809.0954052047207,
           "MAX_SLOPE": 165.896272,
           "MEAN_SIG_WAVEHEIGHT": 1.687268,
           "MasterKey": 2753660,
           "OBJECTID": 2753660,
           "OUTFLOW_DENSITY": 8671.790039,
           "OUTFLOW_DENSITY_RESCALED": 1.0484883786709782e-05,
           "REGIONAL_SINUOSITY": 1.140924,
           "RandomSort": 3897464.57070746,
           "Shape_Length": 0.008658662143014698,
           "TEMP_MOISTURE": "Warm Temperate Dry",
           "TIDAL_RANGE": 2.416656,
           "TURBIDITY": 0.027483,
           "chl_label": "moderate chlorophyll",
           "river_label": "low river discharge",
           "sinuosity_label": "straight",
           "slope_label": "steeply sloping",
           "style": {
            "color": "yellow",
            "dashArray": "5",
            "fillOpacity": 0.5,
            "fill_color": "yellow",
            "opacity": 1,
            "weight": 4
           },
           "tidal_label": "moderately tidal",
           "turbid_label": "clear",
           "wave_label": "moderate wave energy"
          },
          "type": "Feature"
         },
         {
          "geometry": {
           "coordinates": [
            [
             -121.53795314799999,
             36.01499759700005
            ],
            [
             -121.53795383199997,
             36.014997651000044
            ],
            [
             -121.53802517399998,
             36.01500649800005
            ],
            [
             -121.538092539,
             36.015019333000055
            ],
            [
             -121.53815451199995,
             36.015037566000046
            ],
            [
             -121.53820928399995,
             36.015063017000045
            ],
            [
             -121.53824894399997,
             36.01509082800004
            ],
            [
             -121.53832172499995,
             36.01515304800006
            ],
            [
             -121.53836141799997,
             36.01518088900008
            ],
            [
             -121.53841513999998,
             36.01520599100007
            ],
            [
             -121.53847585499994,
             36.015224138000065
            ],
            [
             -121.53854184899996,
             36.01523705900007
            ],
            [
             -121.53861176899994,
             36.01524610900003
            ],
            [
             -121.53868458199997,
             36.015252331000056
            ],
            [
             -121.53883590299995,
             36.01525927200004
            ],
            [
             -121.53907025199999,
             36.01526272700005
            ],
            [
             -121.53938642999998,
             36.01526264600005
            ],
            [
             -121.53962088199995,
             36.01525903500004
            ],
            [
             -121.53977233899997,
             36.01525193900005
            ],
            [
             -121.539845244,
             36.015245615000026
            ],
            [
             -121.53991528399996,
             36.01523644200006
            ],
            [
             -121.53998141999995,
             36.01522337200004
            ],
            [
             -121.54004231399995,
             36.01520504600006
            ],
            [
             -121.54009624399998,
             36.01517973000006
            ],
            [
             -121.54013614899998,
             36.01515167700006
            ],
            [
             -121.54020945199994,
             36.01508893000005
            ],
            [
             -121.54024942999996,
             36.01506080000007
            ],
            [
             -121.54030399299995,
             36.015035159000035
            ],
            [
             -121.54036567499998,
             36.01501655200008
            ],
            [
             -121.540432706,
             36.015003224000054
            ],
            [
             -121.54050369099997,
             36.01499381000008
            ],
            [
             -121.540577542,
             36.01498728300004
            ],
            [
             -121.54065340399995,
             36.01498288700003
            ],
            [
             -121.54073059599995,
             36.014980098000024
            ],
            [
             -121.54088677899995,
             36.01497819100007
            ],
            [
             -121.54096478799994,
             36.01497893100003
            ],
            [
             -121.54104206599999,
             36.01498098500008
            ],
            [
             -121.54111801799996,
             36.01498471600007
            ],
            [
             -121.54119190299997,
             36.014990703000024
            ],
            [
             -121.54126277999995,
             36.014999776000025
            ],
            [
             -121.54132943499997,
             36.01501308700006
            ],
            [
             -121.54139029499999,
             36.01503216300006
            ],
            [
             -121.54144333699998,
             36.01505900400008
            ],
            [
             -121.54148121799994,
             36.01508897400004
            ],
            [
             -121.54161719599995,
             36.01522391800006
            ],
            [
             -121.54183136599994,
             36.01541503200008
            ],
            [
             -121.54186920999996,
             36.01544465600006
            ],
            [
             -121.54192314699998,
             36.015471656000045
            ],
            [
             -121.541984792,
             36.01549093600005
            ],
            [
             -121.54205176899995,
             36.015504864000036
            ],
            [
             -121.54212210599997,
             36.01551542400006
            ],
            [
             -121.54226609399996,
             36.01553320000005
            ],
            [
             -121.54233654799998,
             36.01554361700005
            ],
            [
             -121.54240371799995,
             36.015557314000034
            ],
            [
             -121.54246561399998,
             36.01557628100005
            ],
            [
             -121.54251985099995,
             36.01560290400005
            ],
            [
             -121.54255795399996,
             36.01563218300004
            ],
            [
             -121.54277151899998,
             36.015822883000055
            ],
            [
             -121.542807101,
             36.015854674000025
            ],
            [
             -121.54283852999998,
             36.015890623000075
            ],
            [
             -121.542896467,
             36.01596743500005
            ],
            [
             -121.54292786899998,
             36.016003409000064
            ],
            [
             -121.54317432899995,
             36.01622856600005
            ],
            [
             -121.543211021,
             36.01625924700005
            ],
            [
             -121.54326014999998,
             36.01628711700005
            ],
            [
             -121.54331528799997,
             36.01630897700005
            ],
            [
             -121.54363898799994,
             36.01643764500005
            ],
            [
             -121.54408953299998,
             36.01665121100007
            ],
            [
             -121.54413862999996,
             36.01667911100003
            ],
            [
             -121.54417528899995,
             36.01670982600007
            ],
            [
             -121.54442127699997,
             36.01693545400008
            ],
            [
             -121.54445256199995,
             36.01697154200008
            ],
            [
             -121.54451021999995,
             36.01704863200007
            ],
            [
             -121.54454148399998,
             36.017084742000065
            ],
            [
             -121.54457688899998,
             36.01711671000004
            ],
            [
             -121.54478952499994,
             36.017308316000026
            ],
            [
             -121.54482767299999,
             36.01733754300005
            ],
            [
             -121.54487938299997,
             36.01736283200006
            ],
            [
             -121.54493847199996,
             36.01738074000008
            ],
            [
             -121.54500300899997,
             36.01739320200005
            ],
            [
             -121.54507145399998,
             36.01740175500004
            ],
            [
             -121.54514257099999,
             36.01740763500004
            ],
            [
             -121.54543535599998,
             36.017422845000056
            ],
            [
             -121.54550661399998,
             36.01742858500006
            ],
            [
             -121.54557535799995,
             36.01743683900003
            ],
            [
             -121.54557643799996,
             36.01743703600005
            ]
           ],
           "type": "LineString"
          },
          "id": "4",
          "properties": {
           "CHLOROPHYLL": 2.417483,
           "CSU_Descriptor": "vertical, straight, medium erodibility, warm temperate dry, low river discharge, moderate wave energy, moderately tidal, euhaline-oxic-moderate to cool, clear, moderate chlorophyll",
           "CSU_ID": 71260,
           "Cluster": 6,
           "EMU_PHYSICAL": "Euhaline-Oxic-Moderate to Cool",
           "ERODIBILITY": "Medium",
           "GHM": 0.133607,
           "LENGTH_GEO": 808.8794813016038,
           "MAX_SLOPE": 318.587599,
           "MEAN_SIG_WAVEHEIGHT": 1.687268,
           "MasterKey": 2753659,
           "OBJECTID": 2753659,
           "OUTFLOW_DENSITY": 8671.790039,
           "OUTFLOW_DENSITY_RESCALED": 1.0484883786709782e-05,
           "REGIONAL_SINUOSITY": 1.270183,
           "RandomSort": 1593234.33411067,
           "Shape_Length": 0.008565231531598157,
           "TEMP_MOISTURE": "Warm Temperate Dry",
           "TIDAL_RANGE": 2.416656,
           "TURBIDITY": 0.027483,
           "chl_label": "moderate chlorophyll",
           "river_label": "low river discharge",
           "sinuosity_label": "straight",
           "slope_label": "vertical",
           "style": {
            "color": "yellow",
            "dashArray": "5",
            "fillOpacity": 0.5,
            "fill_color": "yellow",
            "opacity": 1,
            "weight": 4
           },
           "tidal_label": "moderately tidal",
           "turbid_label": "clear",
           "wave_label": "moderate wave energy"
          },
          "type": "Feature"
         },
         {
          "geometry": {
           "coordinates": [
            [
             -121.54557643799996,
             36.01743703600005
            ],
            [
             -121.54564046899998,
             36.017448726000055
            ],
            [
             -121.54570057599994,
             36.017465618000074
            ],
            [
             -121.547370662,
             36.01802848800003
            ],
            [
             -121.54799219999995,
             36.01824238200004
            ],
            [
             -121.54828958499996,
             36.01838966500003
            ],
            [
             -121.54832960799996,
             36.01841701500007
            ],
            [
             -121.548383721,
             36.018441504000066
            ],
            [
             -121.54844481499998,
             36.01845901400003
            ],
            [
             -121.54851115499997,
             36.01847127600007
            ],
            [
             -121.54858138499998,
             36.01847964800004
            ],
            [
             -121.548654468,
             36.01848516800004
            ],
            [
             -121.54880622099995,
             36.01849061900003
            ],
            [
             -121.54896219099999,
             36.01849185400005
            ],
            [
             -121.54943609199995,
             36.01848957100003
            ],
            [
             -121.54959181099997,
             36.01849105600007
            ],
            [
             -121.54966824199994,
             36.01849322800007
            ],
            [
             -121.54974316599998,
             36.01849690600005
            ],
            [
             -121.54981598899997,
             36.01850268600003
            ],
            [
             -121.54988592099994,
             36.01851135700008
            ],
            [
             -121.54995192099994,
             36.01852395800006
            ],
            [
             -121.55001264699996,
             36.018541834000075
            ],
            [
             -121.55006637799994,
             36.01856670800004
            ],
            [
             -121.55010607599996,
             36.01859438200006
            ],
            [
             -121.55017886999997,
             36.01865633600005
            ],
            [
             -121.55021853899996,
             36.01868403900005
            ],
            [
             -121.55027269399994,
             36.01870914700004
            ],
            [
             -121.550333922,
             36.018727184000056
            ],
            [
             -121.55040045899995,
             36.01873991000008
            ],
            [
             -121.55047093299999,
             36.01874870100005
            ],
            [
             -121.55054428299997,
             36.018754612000066
            ],
            [
             -121.550696615,
             36.018760807000035
            ],
            [
             -121.55093232099995,
             36.01876289000006
            ],
            [
             -121.55205056999995,
             36.01875432600008
            ],
            [
             -121.55228761399997,
             36.018755071000044
            ],
            [
             -121.55244093899995,
             36.01876027000003
            ],
            [
             -121.55251470299999,
             36.01876577000007
            ],
            [
             -121.55258542399997,
             36.01877431200006
            ],
            [
             -121.55265191399997,
             36.01878708400005
            ],
            [
             -121.55271260999996,
             36.01880565300007
            ],
            [
             -121.55276548299997,
             36.01883204300003
            ],
            [
             -121.55280319399998,
             36.01886170500006
            ],
            [
             -121.55301313599995,
             36.01905600400005
            ],
            [
             -121.55304808099999,
             36.019088434000025
            ],
            [
             -121.55307887199996,
             36.01912501600003
            ],
            [
             -121.55313555499998,
             36.01920308000007
            ],
            [
             -121.55316634599995,
             36.019239663000064
            ],
            [
             -121.55320128799997,
             36.019272095000076
            ],
            [
             -121.55341120699995,
             36.01946642000007
            ],
            [
             -121.55344890999999,
             36.019496090000075
            ],
            [
             -121.55350230599998,
             36.01952270000004
            ],
            [
             -121.55356364799997,
             36.01954136400008
            ],
            [
             -121.55363085699997,
             36.01955415900005
            ],
            [
             -121.553702333,
             36.01956269000004
            ],
            [
             -121.55377346699998,
             36.01956791600003
            ]
           ],
           "type": "LineString"
          },
          "id": "5",
          "properties": {
           "CHLOROPHYLL": 0.873553,
           "CSU_Descriptor": "steeply sloping, straight, medium erodibility, warm temperate dry, low river discharge, moderate wave energy, moderately tidal, euhaline-oxic-moderate to cool, clear, low chlorophyll",
           "CSU_ID": 62191,
           "Cluster": 6,
           "EMU_PHYSICAL": "Euhaline-Oxic-Moderate to Cool",
           "ERODIBILITY": "Medium",
           "GHM": 0.144511,
           "LENGTH_GEO": 809.2201719767945,
           "MAX_SLOPE": 109.272652,
           "MEAN_SIG_WAVEHEIGHT": 1.687268,
           "MasterKey": 2753658,
           "OBJECTID": 2753658,
           "OUTFLOW_DENSITY": 8671.790039,
           "OUTFLOW_DENSITY_RESCALED": 1.0484883786709782e-05,
           "REGIONAL_SINUOSITY": 1.270183,
           "RandomSort": 3366707.6827197,
           "Shape_Length": 0.008735799579888025,
           "TEMP_MOISTURE": "Warm Temperate Dry",
           "TIDAL_RANGE": 2.416656,
           "TURBIDITY": 0.027483,
           "chl_label": "low chlorophyll",
           "river_label": "low river discharge",
           "sinuosity_label": "straight",
           "slope_label": "steeply sloping",
           "style": {
            "color": "yellow",
            "dashArray": "5",
            "fillOpacity": 0.5,
            "fill_color": "yellow",
            "opacity": 1,
            "weight": 4
           },
           "tidal_label": "moderately tidal",
           "turbid_label": "clear",
           "wave_label": "moderate wave energy"
          },
          "type": "Feature"
         },
         {
          "geometry": {
           "coordinates": [
            [
             -121.55377346699998,
             36.01956791600003
            ],
            [
             -121.55377686499997,
             36.01956816500007
            ],
            [
             -121.55385354599997,
             36.01957149000003
            ],
            [
             -121.55401086799998,
             36.01957418100005
            ],
            [
             -121.55505582299998,
             36.01956930500006
            ],
            [
             -121.55778162999997,
             36.01956371400007
            ],
            [
             -121.55794010899996,
             36.01956524900004
            ],
            [
             -121.55801804199996,
             36.019567325000025
            ],
            [
             -121.55809453799998,
             36.01957083900004
            ],
            [
             -121.558168976,
             36.01957641000007
            ],
            [
             -121.55824051699994,
             36.019584879000035
            ],
            [
             -121.55830805299996,
             36.01959735600008
            ],
            [
             -121.55837012299997,
             36.019615300000055
            ],
            [
             -121.55842484199997,
             36.019640594000066
            ],
            [
             -121.558644,
             36.01975540025335
            ]
           ],
           "type": "LineString"
          },
          "id": "6",
          "properties": {
           "CHLOROPHYLL": 0.873553,
           "CSU_Descriptor": "steeply sloping, straight, medium erodibility, warm temperate dry, low river discharge, moderate wave energy, moderately tidal, euhaline-oxic-moderate to cool, clear, low chlorophyll",
           "CSU_ID": 62191,
           "Cluster": 6,
           "EMU_PHYSICAL": "Euhaline-Oxic-Moderate to Cool",
           "ERODIBILITY": "Medium",
           "GHM": 0.119442,
           "LENGTH_GEO": 809.4293303941587,
           "MAX_SLOPE": 114.768235,
           "MEAN_SIG_WAVEHEIGHT": 1.687268,
           "MasterKey": 2753657,
           "OBJECTID": 2753657,
           "OUTFLOW_DENSITY": 8671.790039,
           "OUTFLOW_DENSITY_RESCALED": 1.0484883786709782e-05,
           "REGIONAL_SINUOSITY": 1.270183,
           "RandomSort": 3110913.78667961,
           "Shape_Length": 0.00883771172510186,
           "TEMP_MOISTURE": "Warm Temperate Dry",
           "TIDAL_RANGE": 2.416656,
           "TURBIDITY": 0.027483,
           "chl_label": "low chlorophyll",
           "river_label": "low river discharge",
           "sinuosity_label": "straight",
           "slope_label": "steeply sloping",
           "style": {
            "color": "yellow",
            "dashArray": "5",
            "fillOpacity": 0.5,
            "fill_color": "yellow",
            "opacity": 1,
            "weight": 4
           },
           "tidal_label": "moderately tidal",
           "turbid_label": "clear",
           "wave_label": "moderate wave energy"
          },
          "type": "Feature"
         },
         {
          "geometry": {
           "coordinates": [
            [
             -121.4990172353652,
             35.992661
            ],
            [
             -121.49940305099994,
             35.99323256200006
            ],
            [
             -121.49942904399995,
             35.99328583000005
            ],
            [
             -121.49944722499998,
             35.99334691400003
            ],
            [
             -121.49945960999997,
             35.99341379100008
            ],
            [
             -121.49946777199995,
             35.99348489300007
            ],
            [
             -121.49947291899997,
             35.99355900900008
            ],
            [
             -121.49947598799997,
             35.993635202000064
            ],
            [
             -121.49948037099995,
             35.993947873000025
            ],
            [
             -121.49948505599997,
             35.99410171300008
            ],
            [
             -121.49949003499995,
             35.994175996000024
            ],
            [
             -121.49949787099996,
             35.99424742400004
            ],
            [
             -121.49950968399997,
             35.99431487500004
            ],
            [
             -121.49952691099998,
             35.99437691000003
            ],
            [
             -121.49955139599996,
             35.99443168800008
            ],
            [
             -121.49977194699994,
             35.994865625000045
            ],
            [
             -121.49991399099997,
             35.99507969700005
            ],
            [
             -121.499991551,
             35.99522350900003
            ],
            [
             -121.50021083699994,
             35.995658709000054
            ],
            [
             -121.50023457299994,
             35.99571197400007
            ],
            [
             -121.50025146399997,
             35.99577208000005
            ],
            [
             -121.50026326099999,
             35.995837281000036
            ],
            [
             -121.50027137499995,
             35.995906166000054
            ],
            [
             -121.50027694599999,
             35.99597759300008
            ],
            [
             -121.50029143499995,
             35.99627109900007
            ],
            [
             -121.50029714199997,
             35.99634239000005
            ],
            [
             -121.50030552399994,
             35.99641100400004
            ],
            [
             -121.50031781499996,
             35.99647571300005
            ],
            [
             -121.50033555099998,
             35.99653497700007
            ],
            [
             -121.50036065699999,
             35.996586868000065
            ],
            [
             -121.50038971899994,
             35.996625180000024
            ],
            [
             -121.50058011199997,
             35.99683903000005
            ],
            [
             -121.50061186199997,
             35.99687465400007
            ],
            [
             -121.50064776899995,
             35.99690611800003
            ],
            [
             -121.50079279,
             35.99703059400008
            ],
            [
             -121.50099682099994,
             35.997230804000026
            ],
            [
             -121.501064596,
             35.99729777500005
            ],
            [
             -121.50126751299996,
             35.99749910100007
            ],
            [
             -121.50160566599999,
             35.99783468500004
            ],
            [
             -121.501808526,
             35.998036065000065
            ],
            [
             -121.50187553899997,
             35.998103800000024
            ],
            [
             -121.50206645199995,
             35.99831712900004
            ],
            [
             -121.50209680999995,
             35.998354145000064
            ],
            [
             -121.50212436299995,
             35.99840358900008
            ],
            [
             -121.50214599399999,
             35.998458957000025
            ],
            [
             -121.50219951899999,
             35.998636428000054
            ],
            [
             -121.50222115099996,
             35.998691794000024
            ],
            [
             -121.502248711,
             35.99874123400008
            ],
            [
             -121.50227907199996,
             35.99877824500004
            ],
            [
             -121.50247005999995,
             35.99899149700008
            ],
            [
             -121.50250923899995,
             35.999031040000034
            ]
           ],
           "type": "LineString"
          },
          "id": "7",
          "properties": {
           "CHLOROPHYLL": 2.417483,
           "CSU_Descriptor": "steeply sloping, straight, medium erodibility, warm temperate dry, low river discharge, moderately high wave energy, moderately tidal, euhaline-oxic-moderate to cool, clear, moderate chlorophyll",
           "CSU_ID": 70983,
           "Cluster": 6,
           "EMU_PHYSICAL": "Euhaline-Oxic-Moderate to Cool",
           "ERODIBILITY": "Medium",
           "GHM": 0.059349,
           "LENGTH_GEO": 807.1623822627223,
           "MAX_SLOPE": 130.210239,
           "MEAN_SIG_WAVEHEIGHT": 2.048518,
           "MasterKey": 2753665,
           "OBJECTID": 2753665,
           "OUTFLOW_DENSITY": 8671.790039,
           "OUTFLOW_DENSITY_RESCALED": 1.0484883786709782e-05,
           "REGIONAL_SINUOSITY": 1.140924,
           "RandomSort": 1240148.43693409,
           "Shape_Length": 0.007642542293224856,
           "TEMP_MOISTURE": "Warm Temperate Dry",
           "TIDAL_RANGE": 2.410373,
           "TURBIDITY": 0.024533,
           "chl_label": "moderate chlorophyll",
           "river_label": "low river discharge",
           "sinuosity_label": "straight",
           "slope_label": "steeply sloping",
           "style": {
            "color": "yellow",
            "dashArray": "5",
            "fillOpacity": 0.5,
            "fill_color": "yellow",
            "opacity": 1,
            "weight": 4
           },
           "tidal_label": "moderately tidal",
           "turbid_label": "clear",
           "wave_label": "moderately high wave energy"
          },
          "type": "Feature"
         },
         {
          "geometry": {
           "coordinates": [
            [
             -121.50250923899995,
             35.999031040000034
            ],
            [
             -121.50253712299997,
             35.99905918400003
            ],
            [
             -121.50274027699999,
             35.99926027200007
            ],
            [
             -121.50288472199998,
             35.999385320000044
            ],
            [
             -121.50292064099995,
             35.99941677700008
            ],
            [
             -121.50315556199996,
             35.999653469000066
            ],
            [
             -121.50322251699998,
             35.99972126400007
            ],
            [
             -121.50341290699998,
             35.99993511500003
            ],
            [
             -121.50344312299995,
             35.999972273000026
            ],
            [
             -121.50347050299996,
             36.00002189200006
            ],
            [
             -121.50349194799998,
             36.000077443000066
            ],
            [
             -121.50354500499998,
             36.000255382000034
            ],
            [
             -121.50356659799996,
             36.00031078600006
            ],
            [
             -121.50359425799996,
             36.00036012600003
            ],
            [
             -121.50362487999996,
             36.00039687800006
            ],
            [
             -121.503827001,
             36.000598998000044
            ],
            [
             -121.50386375299996,
             36.00062962100003
            ],
            [
             -121.50391309199995,
             36.00065727800006
            ],
            [
             -121.50396849699996,
             36.00067887300003
            ],
            [
             -121.50414643599998,
             36.00073193000003
            ],
            [
             -121.50420198799998,
             36.000753375000045
            ],
            [
             -121.50425160599997,
             36.00078075700003
            ],
            [
             -121.50428876399997,
             36.000810974000046
            ],
            [
             -121.50450261299994,
             36.00100136400005
            ],
            [
             -121.50457040599997,
             36.00106831900007
            ],
            [
             -121.50480708699996,
             36.00130325300006
            ],
            [
             -121.50483853999998,
             36.001339176000045
            ],
            [
             -121.50496356499997,
             36.001483646000054
            ],
            [
             -121.50516455699994,
             36.001686894000045
            ],
            [
             -121.50523217999995,
             36.00175401900003
            ],
            [
             -121.50544504799996,
             36.00194539200004
            ],
            [
             -121.50548195599998,
             36.00197585900003
            ],
            [
             -121.506291095,
             36.002514191000046
            ],
            [
             -121.506340218,
             36.002542068000025
            ],
            [
             -121.50679044999998,
             36.002755946000036
            ],
            [
             -121.50711433899994,
             36.00288442300007
            ],
            [
             -121.50785867199994,
             36.00357418800007
            ],
            [
             -121.50789018899997,
             36.00361004100006
            ],
            [
             -121.50792589999998,
             36.00364170600005
            ],
            [
             -121.50814045799996,
             36.00383139100006
            ],
            [
             -121.508178741,
             36.00386048000007
            ],
            [
             -121.50823320499995,
             36.00388686400004
            ],
            [
             -121.50829534399998,
             36.00390557400004
            ],
            [
             -121.50836278099996,
             36.00391898700008
            ],
            [
             -121.50843353,
             36.00392908600003
            ],
            [
             -121.50857821399995,
             36.003946100000064
            ],
            [
             -121.50864896499996,
             36.00395619600005
            ],
            [
             -121.50871640199995,
             36.003969606000055
            ],
            [
             -121.50875486199999,
             36.00398118500004
            ]
           ],
           "type": "LineString"
          },
          "id": "8",
          "properties": {
           "CHLOROPHYLL": 2.417483,
           "CSU_Descriptor": "steeply sloping, straight, medium erodibility, warm temperate dry, low river discharge, moderate wave energy, moderately tidal, euhaline-oxic-moderate to cool, clear, moderate chlorophyll",
           "CSU_ID": 70981,
           "Cluster": 6,
           "EMU_PHYSICAL": "Euhaline-Oxic-Moderate to Cool",
           "ERODIBILITY": "Medium",
           "GHM": 0.089518,
           "LENGTH_GEO": 808.1809419432676,
           "MAX_SLOPE": 165.651852,
           "MEAN_SIG_WAVEHEIGHT": 1.687268,
           "MasterKey": 2753664,
           "OBJECTID": 2753664,
           "OUTFLOW_DENSITY": 8671.790039,
           "OUTFLOW_DENSITY_RESCALED": 1.0484883786709782e-05,
           "REGIONAL_SINUOSITY": 1.140924,
           "RandomSort": 529649.555212264,
           "Shape_Length": 0.00817329505061152,
           "TEMP_MOISTURE": "Warm Temperate Dry",
           "TIDAL_RANGE": 2.410373,
           "TURBIDITY": 0.024533,
           "chl_label": "moderate chlorophyll",
           "river_label": "low river discharge",
           "sinuosity_label": "straight",
           "slope_label": "steeply sloping",
           "style": {
            "color": "yellow",
            "dashArray": "5",
            "fillOpacity": 0.5,
            "fill_color": "yellow",
            "opacity": 1,
            "weight": 4
           },
           "tidal_label": "moderately tidal",
           "turbid_label": "clear",
           "wave_label": "moderate wave energy"
          },
          "type": "Feature"
         },
         {
          "geometry": {
           "coordinates": [
            [
             -121.51586844899998,
             36.00745398400005
            ],
            [
             -121.51592684499997,
             36.00746114700007
            ],
            [
             -121.51599399599996,
             36.00747386200004
            ],
            [
             -121.51605576399999,
             36.007491962000074
            ],
            [
             -121.51611035499997,
             36.00751724600008
            ],
            [
             -121.51615001699997,
             36.007544981000024
            ],
            [
             -121.51622276399996,
             36.00760705000005
            ],
            [
             -121.51626242099996,
             36.00763481100006
            ],
            [
             -121.51631772899998,
             36.00766041800006
            ],
            [
             -121.51638036399999,
             36.00767871200003
            ],
            [
             -121.51644847399996,
             36.007691557000044
            ],
            [
             -121.51652061099998,
             36.007700396000075
            ],
            [
             -121.51659567999997,
             36.00770633500008
            ],
            [
             -121.51667284999996,
             36.007710211000074
            ],
            [
             -121.51683119599994,
             36.007714100000044
            ],
            [
             -121.516992475,
             36.00771531000004
            ],
            [
             -121.517889406,
             36.00771641600005
            ],
            [
             -121.51805033899996,
             36.00771468700003
            ],
            [
             -121.51820709199995,
             36.007708723000064
            ],
            [
             -121.51828255799995,
             36.007702762000065
            ],
            [
             -121.51835494799997,
             36.00769365700006
            ],
            [
             -121.51842303399997,
             36.00768016200004
            ],
            [
             -121.51848520099998,
             36.00766063900005
            ],
            [
             -121.51853932699998,
             36.00763295300004
            ],
            [
             -121.51857719799995,
             36.007602545000054
            ],
            [
             -121.51871346099995,
             36.00746477400003
            ],
            [
             -121.51892668099998,
             36.00726895400004
            ],
            [
             -121.51896347699994,
             36.00723961800003
            ],
            [
             -121.51901272999999,
             36.00721514400004
            ],
            [
             -121.51906798699997,
             36.007199557000035
            ],
            [
             -121.51912674099998,
             36.00719163200006
            ],
            [
             -121.51918667799998,
             36.00719077800005
            ],
            [
             -121.51924553199996,
             36.00719702200007
            ],
            [
             -121.51930095399996,
             36.00721101900007
            ],
            [
             -121.51935036299994,
             36.00723408400006
            ],
            [
             -121.51938718899999,
             36.00726242400003
            ],
            [
             -121.51958751099994,
             36.00746749500007
            ],
            [
             -121.51961660899997,
             36.00750667600005
            ],
            [
             -121.51964153699998,
             36.007559755000045
            ],
            [
             -121.51965892399994,
             36.007620313000075
            ],
            [
             -121.51967074899994,
             36.00768634700006
            ],
            [
             -121.51967858599994,
             36.00775627300004
            ],
            [
             -121.51968368899998,
             36.007828837000034
            ],
            [
             -121.51969560699996,
             36.00812674000008
            ],
            [
             -121.51970065899997,
             36.008198976000074
            ],
            [
             -121.51970842199995,
             36.00826845000006
            ],
            [
             -121.51972015099994,
             36.00833391500004
            ],
            [
             -121.51973741699999,
             36.008393811000076
            ],
            [
             -121.51976219299996,
             36.00844616200004
            ],
            [
             -121.519791135,
             36.008484690000046
            ],
            [
             -121.51999001499996,
             36.00869036200004
            ],
            [
             -121.52002654799998,
             36.008721226000034
            ],
            [
             -121.52007563799998,
             36.00874915900005
            ],
            [
             -121.52056746799997,
             36.00898889300004
            ],
            [
             -121.52062271899996,
             36.009013492000065
            ],
            [
             -121.52068522099995,
             36.00903084200007
            ],
            [
             -121.52075310999999,
             36.00904280700007
            ],
            [
             -121.52082494499996,
             36.00905082400004
            ],
            [
             -121.52089963199995,
             36.00905598700007
            ],
            [
             -121.521054489,
             36.009060831000056
            ],
            [
             -121.52129358399998,
             36.009061288000055
            ],
            [
             -121.52177722099998,
             36.00905675300004
            ],
            [
             -121.52201695899998,
             36.00905656500004
            ],
            [
             -121.52217339999999,
             36.009059826000055
            ],
            [
             -121.52224960199999,
             36.009063473000026
            ],
            [
             -121.52232370699994,
             36.009069219000025
            ],
            [
             -121.52239490699998,
             36.009077870000056
            ],
            [
             -121.52246212899996,
             36.009090496000056
            ],
            [
             -121.52252398099995,
             36.00910849400003
            ],
            [
             -121.522578668,
             36.00913365700006
            ],
            [
             -121.52261842899998,
             36.00916127100004
            ],
            [
             -121.52269141499994,
             36.00922303300007
            ],
            [
             -121.52273121999997,
             36.009250602000066
            ],
            [
             -121.52278673199999,
             36.00927593600005
            ],
            [
             -121.52284961099997,
             36.009293909000064
            ],
            [
             -121.52291799099999,
             36.00930637700003
            ],
            [
             -121.52294237299998,
             36.00930920300004
            ]
           ],
           "type": "LineString"
          },
          "id": "9",
          "properties": {
           "CHLOROPHYLL": 2.417483,
           "CSU_Descriptor": "steeply sloping, straight, medium erodibility, warm temperate dry, low river discharge, moderate wave energy, moderately tidal, euhaline-oxic-moderate to cool, clear, moderate chlorophyll",
           "CSU_ID": 70981,
           "Cluster": 6,
           "EMU_PHYSICAL": "Euhaline-Oxic-Moderate to Cool",
           "ERODIBILITY": "Medium",
           "GHM": 0.10134,
           "LENGTH_GEO": 808.8271837845471,
           "MAX_SLOPE": 152.033411,
           "MEAN_SIG_WAVEHEIGHT": 1.687268,
           "MasterKey": 2753662,
           "OBJECTID": 2753662,
           "OUTFLOW_DENSITY": 8671.790039,
           "OUTFLOW_DENSITY_RESCALED": 1.0484883786709782e-05,
           "REGIONAL_SINUOSITY": 1.140924,
           "RandomSort": 297054.39133329,
           "Shape_Length": 0.008495092439177234,
           "TEMP_MOISTURE": "Warm Temperate Dry",
           "TIDAL_RANGE": 2.410373,
           "TURBIDITY": 0.024533,
           "chl_label": "moderate chlorophyll",
           "river_label": "low river discharge",
           "sinuosity_label": "straight",
           "slope_label": "steeply sloping",
           "style": {
            "color": "yellow",
            "dashArray": "5",
            "fillOpacity": 0.5,
            "fill_color": "yellow",
            "opacity": 1,
            "weight": 4
           },
           "tidal_label": "moderately tidal",
           "turbid_label": "clear",
           "wave_label": "moderate wave energy"
          },
          "type": "Feature"
         },
         {
          "geometry": {
           "coordinates": [
            [
             -121.52294237299998,
             36.00930920300004
            ],
            [
             -121.52299043799997,
             36.00931477600005
            ],
            [
             -121.52306584699994,
             36.00932021500006
            ],
            [
             -121.52314337799999,
             36.00932353400003
            ],
            [
             -121.52330241599998,
             36.00932619200006
            ],
            [
             -121.52370608799998,
             36.00932676200006
            ],
            [
             -121.52386335299997,
             36.00933119200005
            ],
            [
             -121.52393923899996,
             36.009336157000064
            ],
            [
             -121.52401222299994,
             36.00934402000007
            ],
            [
             -121.52408117099998,
             36.009355921000065
            ],
            [
             -121.52414459399995,
             36.009373347000064
            ],
            [
             -121.52420056299997,
             36.00939822500004
            ],
            [
             -121.52469040399995,
             36.00963986900007
            ],
            [
             -121.524739453,
             36.009667818000025
            ],
            [
             -121.52477615099997,
             36.00969849400008
            ],
            [
             -121.52498804699997,
             36.00989084100007
            ],
            [
             -121.52505498,
             36.00995865700003
            ],
            [
             -121.52524430899996,
             36.010173569000074
            ],
            [
             -121.52527439299996,
             36.01021086000003
            ],
            [
             -121.52530164799998,
             36.01026060300006
            ],
            [
             -121.52532298699998,
             36.010316259000035
            ],
            [
             -121.52537568099996,
             36.010494562000076
            ],
            [
             -121.52539703399998,
             36.01055020700005
            ],
            [
             -121.52542430699998,
             36.01059993400003
            ],
            [
             -121.52545441199999,
             36.010637202000055
            ],
            [
             -121.52564404199995,
             36.010851812000055
            ],
            [
             -121.52571117599996,
             36.01091942800008
            ],
            [
             -121.52592423599998,
             36.01111061000006
            ],
            [
             -121.52596123499995,
             36.011140984000065
            ],
            [
             -121.52601066999995,
             36.01116854600008
            ],
            [
             -121.52606607099995,
             36.01119014400007
            ],
            [
             -121.52639046799999,
             36.01131811400006
            ],
            [
             -121.526840156,
             36.01153253700005
            ],
            [
             -121.52688911499996,
             36.01156057700007
            ],
            [
             -121.52692569299995,
             36.011591373000044
            ],
            [
             -121.52706057599994,
             36.011725985000055
            ],
            [
             -121.52727633599994,
             36.011914465000075
            ],
            [
             -121.52731440599996,
             36.01194376700005
            ],
            [
             -121.52736857399998,
             36.011970448000056
            ],
            [
             -121.52743039399996,
             36.01198947700004
            ],
            [
             -121.527497499,
             36.01200322100004
            ],
            [
             -121.52756790899997,
             36.01201365800006
            ],
            [
             -121.52771190599998,
             36.01203135800006
            ],
            [
             -121.52778230699994,
             36.01204180700006
            ],
            [
             -121.52784938999997,
             36.012055571000076
            ],
            [
             -121.52791118099998,
             36.01207463000003
            ],
            [
             -121.52796530899997,
             36.01210135100007
            ],
            [
             -121.528003335,
             36.01213069700003
            ],
            [
             -121.52821858099998,
             36.01231969600008
            ],
            [
             -121.52849233899997,
             36.01253680000008
            ],
            [
             -121.52892722099995,
             36.01275640600005
            ],
            [
             -121.52898061199994,
             36.012780013000054
            ],
            [
             -121.52904083699997,
             36.01279678800006
            ],
            [
             -121.52910613899996,
             36.012808481000036
            ],
            [
             -121.52917511499999,
             36.012816506000036
            ],
            [
             -121.52924661599997,
             36.012822001000075
            ],
            [
             -121.52954030299998,
             36.01283630700004
            ],
            [
             -121.52961161299999,
             36.012841998000056
            ],
            [
             -121.52968023799997,
             36.01285037100007
            ],
            [
             -121.529744946,
             36.01286266200003
            ],
            [
             -121.52980419999994,
             36.01288040600008
            ],
            [
             -121.52985607199997,
             36.01290553300004
            ],
            [
             -121.52989436099995,
             36.01293461900008
            ],
            [
             -121.53001979599998,
             36.013046710000026
            ]
           ],
           "type": "LineString"
          },
          "id": "10",
          "properties": {
           "CHLOROPHYLL": 0.833561,
           "CSU_Descriptor": "steeply sloping, straight, medium erodibility, warm temperate dry, low river discharge, moderate wave energy, moderately tidal, euhaline-oxic-moderate to cool, clear, low chlorophyll",
           "CSU_ID": 62191,
           "Cluster": 6,
           "EMU_PHYSICAL": "Euhaline-Oxic-Moderate to Cool",
           "ERODIBILITY": "Medium",
           "GHM": 0.10134,
           "LENGTH_GEO": 808.6158624684548,
           "MAX_SLOPE": 76.299834,
           "MEAN_SIG_WAVEHEIGHT": 1.687268,
           "MasterKey": 2753661,
           "OBJECTID": 2753661,
           "OUTFLOW_DENSITY": 8671.790039,
           "OUTFLOW_DENSITY_RESCALED": 1.0484883786709782e-05,
           "REGIONAL_SINUOSITY": 1.140924,
           "RandomSort": 3235310.88357964,
           "Shape_Length": 0.008419277882346981,
           "TEMP_MOISTURE": "Warm Temperate Dry",
           "TIDAL_RANGE": 2.416656,
           "TURBIDITY": 0.027483,
           "chl_label": "low chlorophyll",
           "river_label": "low river discharge",
           "sinuosity_label": "straight",
           "slope_label": "steeply sloping",
           "style": {
            "color": "yellow",
            "dashArray": "5",
            "fillOpacity": 0.5,
            "fill_color": "yellow",
            "opacity": 1,
            "weight": 4
           },
           "tidal_label": "moderately tidal",
           "turbid_label": "clear",
           "wave_label": "moderate wave energy"
          },
          "type": "Feature"
         },
         {
          "geometry": {
           "coordinates": [
            [
             -121.53001979599998,
             36.013046710000026
            ],
            [
             -121.53010783599996,
             36.01312538500008
            ],
            [
             -121.53014334699998,
             36.01315724500006
            ],
            [
             -121.53017468399997,
             36.01319328300008
            ],
            [
             -121.53029845299994,
             36.01333900900005
            ],
            [
             -121.53049737899994,
             36.013544325000055
            ],
            [
             -121.53056436799994,
             36.013612083000055
            ],
            [
             -121.53077520199997,
             36.01380549100003
            ],
            [
             -121.53081175499995,
             36.01383631200008
            ],
            [
             -121.53086067699996,
             36.01386439000004
            ],
            [
             -121.53135124,
             36.01410531100004
            ],
            [
             -121.53140450999996,
             36.01412904000006
            ],
            [
             -121.53146456599995,
             36.01414598400004
            ],
            [
             -121.53152965099997,
             36.01415789400005
            ],
            [
             -121.53159836199995,
             36.014166182000054
            ],
            [
             -121.53166955799998,
             36.014171986000065
            ],
            [
             -121.53196185699994,
             36.01418768100007
            ],
            [
             -121.53203293899998,
             36.01419359800008
            ],
            [
             -121.53210150799998,
             36.01420202700007
            ],
            [
             -121.53216645499998,
             36.014214080000045
            ],
            [
             -121.53222640399997,
             36.01423112700007
            ],
            [
             -121.53290144599998,
             36.01446853600004
            ],
            [
             -121.53319957399998,
             36.014615132000074
            ],
            [
             -121.53323981899996,
             36.01464227500003
            ],
            [
             -121.53329471799998,
             36.01466666300007
            ],
            [
             -121.53335673599997,
             36.014683941000044
            ],
            [
             -121.53342408199995,
             36.01469589800007
            ],
            [
             -121.53349535899997,
             36.01470393400007
            ],
            [
             -121.53356946899999,
             36.01470914600003
            ],
            [
             -121.53372295799994,
             36.014714352000055
            ],
            [
             -121.53395763199995,
             36.01471789900006
            ],
            [
             -121.53411110699994,
             36.01472341200008
            ],
            [
             -121.53418510299997,
             36.014728984000044
            ],
            [
             -121.534256084,
             36.01473762400008
            ],
            [
             -121.53432283599994,
             36.014750556000024
            ],
            [
             -121.53438378699997,
             36.014769355000055
            ],
            [
             -121.53443691099994,
             36.014796051000076
            ],
            [
             -121.53447484599997,
             36.01482601200007
            ],
            [
             -121.53461076599996,
             36.014961913000036
            ],
            [
             -121.53482122899999,
             36.015153878000035
            ],
            [
             -121.534857295,
             36.01518238500006
            ],
            [
             -121.53490563999998,
             36.01520586100003
            ],
            [
             -121.53495995299994,
             36.01522042700003
            ],
            [
             -121.53501779099997,
             36.01522737400006
            ],
            [
             -121.53507693499995,
             36.01522738600005
            ],
            [
             -121.53513527099994,
             36.01522058300003
            ],
            [
             -121.535190667,
             36.01520652500005
            ],
            [
             -121.53524085799995,
             36.01518421500003
            ],
            [
             -121.53527937599995,
             36.01515754500008
            ],
            [
             -121.53535137699998,
             36.01509609900006
            ],
            [
             -121.53539112399994,
             36.015068204000045
            ],
            [
             -121.535446214,
             36.015042433000076
            ],
            [
             -121.53550863799995,
             36.01502374700004
            ],
            [
             -121.53557650599998,
             36.015010407000034
            ],
            [
             -121.535648359,
             36.015001046000066
            ],
            [
             -121.53572308399998,
             36.01499460900004
            ],
            [
             -121.53587802799996,
             36.01498748500006
            ],
            [
             -121.53603696899995,
             36.01498472600008
            ],
            [
             -121.53619762599999,
             36.01498398500007
            ],
            [
             -121.53756718999995,
             36.01498332700004
            ],
            [
             -121.53772548899997,
             36.01498543200006
            ],
            [
             -121.53780327399994,
             36.014987835000056
            ],
            [
             -121.53787959299996,
             36.01499170500006
            ],
            [
             -121.53795314799999,
             36.01499759700005
            ]
           ],
           "type": "LineString"
          },
          "id": "11",
          "properties": {
           "CHLOROPHYLL": 2.417483,
           "CSU_Descriptor": "steeply sloping, straight, medium erodibility, warm temperate dry, low river discharge, moderate wave energy, moderately tidal, euhaline-oxic-moderate to cool, clear, moderate chlorophyll",
           "CSU_ID": 70981,
           "Cluster": 6,
           "EMU_PHYSICAL": "Euhaline-Oxic-Moderate to Cool",
           "ERODIBILITY": "Medium",
           "GHM": 0.115889,
           "LENGTH_GEO": 809.0954052047207,
           "MAX_SLOPE": 165.896272,
           "MEAN_SIG_WAVEHEIGHT": 1.687268,
           "MasterKey": 2753660,
           "OBJECTID": 2753660,
           "OUTFLOW_DENSITY": 8671.790039,
           "OUTFLOW_DENSITY_RESCALED": 1.0484883786709782e-05,
           "REGIONAL_SINUOSITY": 1.140924,
           "RandomSort": 3897464.57070746,
           "Shape_Length": 0.008658662143014698,
           "TEMP_MOISTURE": "Warm Temperate Dry",
           "TIDAL_RANGE": 2.416656,
           "TURBIDITY": 0.027483,
           "chl_label": "moderate chlorophyll",
           "river_label": "low river discharge",
           "sinuosity_label": "straight",
           "slope_label": "steeply sloping",
           "style": {
            "color": "yellow",
            "dashArray": "5",
            "fillOpacity": 0.5,
            "fill_color": "yellow",
            "opacity": 1,
            "weight": 4
           },
           "tidal_label": "moderately tidal",
           "turbid_label": "clear",
           "wave_label": "moderate wave energy"
          },
          "type": "Feature"
         },
         {
          "geometry": {
           "coordinates": [
            [
             -121.53795314799999,
             36.01499759700005
            ],
            [
             -121.53795383199997,
             36.014997651000044
            ],
            [
             -121.53802517399998,
             36.01500649800005
            ],
            [
             -121.538092539,
             36.015019333000055
            ],
            [
             -121.53815451199995,
             36.015037566000046
            ],
            [
             -121.53820928399995,
             36.015063017000045
            ],
            [
             -121.53824894399997,
             36.01509082800004
            ],
            [
             -121.53832172499995,
             36.01515304800006
            ],
            [
             -121.53836141799997,
             36.01518088900008
            ],
            [
             -121.53841513999998,
             36.01520599100007
            ],
            [
             -121.53847585499994,
             36.015224138000065
            ],
            [
             -121.53854184899996,
             36.01523705900007
            ],
            [
             -121.53861176899994,
             36.01524610900003
            ],
            [
             -121.53868458199997,
             36.015252331000056
            ],
            [
             -121.53883590299995,
             36.01525927200004
            ],
            [
             -121.53907025199999,
             36.01526272700005
            ],
            [
             -121.53938642999998,
             36.01526264600005
            ],
            [
             -121.53962088199995,
             36.01525903500004
            ],
            [
             -121.53977233899997,
             36.01525193900005
            ],
            [
             -121.539845244,
             36.015245615000026
            ],
            [
             -121.53991528399996,
             36.01523644200006
            ],
            [
             -121.53998141999995,
             36.01522337200004
            ],
            [
             -121.54004231399995,
             36.01520504600006
            ],
            [
             -121.54009624399998,
             36.01517973000006
            ],
            [
             -121.54013614899998,
             36.01515167700006
            ],
            [
             -121.54020945199994,
             36.01508893000005
            ],
            [
             -121.54024942999996,
             36.01506080000007
            ],
            [
             -121.54030399299995,
             36.015035159000035
            ],
            [
             -121.54036567499998,
             36.01501655200008
            ],
            [
             -121.540432706,
             36.015003224000054
            ],
            [
             -121.54050369099997,
             36.01499381000008
            ],
            [
             -121.540577542,
             36.01498728300004
            ],
            [
             -121.54065340399995,
             36.01498288700003
            ],
            [
             -121.54073059599995,
             36.014980098000024
            ],
            [
             -121.54088677899995,
             36.01497819100007
            ],
            [
             -121.54096478799994,
             36.01497893100003
            ],
            [
             -121.54104206599999,
             36.01498098500008
            ],
            [
             -121.54111801799996,
             36.01498471600007
            ],
            [
             -121.54119190299997,
             36.014990703000024
            ],
            [
             -121.54126277999995,
             36.014999776000025
            ],
            [
             -121.54132943499997,
             36.01501308700006
            ],
            [
             -121.54139029499999,
             36.01503216300006
            ],
            [
             -121.54144333699998,
             36.01505900400008
            ],
            [
             -121.54148121799994,
             36.01508897400004
            ],
            [
             -121.54161719599995,
             36.01522391800006
            ],
            [
             -121.54183136599994,
             36.01541503200008
            ],
            [
             -121.54186920999996,
             36.01544465600006
            ],
            [
             -121.54192314699998,
             36.015471656000045
            ],
            [
             -121.541984792,
             36.01549093600005
            ],
            [
             -121.54205176899995,
             36.015504864000036
            ],
            [
             -121.54212210599997,
             36.01551542400006
            ],
            [
             -121.54226609399996,
             36.01553320000005
            ],
            [
             -121.54233654799998,
             36.01554361700005
            ],
            [
             -121.54240371799995,
             36.015557314000034
            ],
            [
             -121.54246561399998,
             36.01557628100005
            ],
            [
             -121.54251985099995,
             36.01560290400005
            ],
            [
             -121.54255795399996,
             36.01563218300004
            ],
            [
             -121.54277151899998,
             36.015822883000055
            ],
            [
             -121.542807101,
             36.015854674000025
            ],
            [
             -121.54283852999998,
             36.015890623000075
            ],
            [
             -121.542896467,
             36.01596743500005
            ],
            [
             -121.54292786899998,
             36.016003409000064
            ],
            [
             -121.54317432899995,
             36.01622856600005
            ],
            [
             -121.543211021,
             36.01625924700005
            ],
            [
             -121.54326014999998,
             36.01628711700005
            ],
            [
             -121.54331528799997,
             36.01630897700005
            ],
            [
             -121.54363898799994,
             36.01643764500005
            ],
            [
             -121.54408953299998,
             36.01665121100007
            ],
            [
             -121.54413862999996,
             36.01667911100003
            ],
            [
             -121.54417528899995,
             36.01670982600007
            ],
            [
             -121.54442127699997,
             36.01693545400008
            ],
            [
             -121.54445256199995,
             36.01697154200008
            ],
            [
             -121.54451021999995,
             36.01704863200007
            ],
            [
             -121.54454148399998,
             36.017084742000065
            ],
            [
             -121.54457688899998,
             36.01711671000004
            ],
            [
             -121.54478952499994,
             36.017308316000026
            ],
            [
             -121.54482767299999,
             36.01733754300005
            ],
            [
             -121.54487938299997,
             36.01736283200006
            ],
            [
             -121.54493847199996,
             36.01738074000008
            ],
            [
             -121.54500300899997,
             36.01739320200005
            ],
            [
             -121.54507145399998,
             36.01740175500004
            ],
            [
             -121.54514257099999,
             36.01740763500004
            ],
            [
             -121.54543535599998,
             36.017422845000056
            ],
            [
             -121.54550661399998,
             36.01742858500006
            ],
            [
             -121.54557535799995,
             36.01743683900003
            ],
            [
             -121.54557643799996,
             36.01743703600005
            ]
           ],
           "type": "LineString"
          },
          "id": "12",
          "properties": {
           "CHLOROPHYLL": 2.417483,
           "CSU_Descriptor": "vertical, straight, medium erodibility, warm temperate dry, low river discharge, moderate wave energy, moderately tidal, euhaline-oxic-moderate to cool, clear, moderate chlorophyll",
           "CSU_ID": 71260,
           "Cluster": 6,
           "EMU_PHYSICAL": "Euhaline-Oxic-Moderate to Cool",
           "ERODIBILITY": "Medium",
           "GHM": 0.133607,
           "LENGTH_GEO": 808.8794813016038,
           "MAX_SLOPE": 318.587599,
           "MEAN_SIG_WAVEHEIGHT": 1.687268,
           "MasterKey": 2753659,
           "OBJECTID": 2753659,
           "OUTFLOW_DENSITY": 8671.790039,
           "OUTFLOW_DENSITY_RESCALED": 1.0484883786709782e-05,
           "REGIONAL_SINUOSITY": 1.270183,
           "RandomSort": 1593234.33411067,
           "Shape_Length": 0.008565231531598157,
           "TEMP_MOISTURE": "Warm Temperate Dry",
           "TIDAL_RANGE": 2.416656,
           "TURBIDITY": 0.027483,
           "chl_label": "moderate chlorophyll",
           "river_label": "low river discharge",
           "sinuosity_label": "straight",
           "slope_label": "vertical",
           "style": {
            "color": "yellow",
            "dashArray": "5",
            "fillOpacity": 0.5,
            "fill_color": "yellow",
            "opacity": 1,
            "weight": 4
           },
           "tidal_label": "moderately tidal",
           "turbid_label": "clear",
           "wave_label": "moderate wave energy"
          },
          "type": "Feature"
         },
         {
          "geometry": {
           "coordinates": [
            [
             -121.54557643799996,
             36.01743703600005
            ],
            [
             -121.54564046899998,
             36.017448726000055
            ],
            [
             -121.54570057599994,
             36.017465618000074
            ],
            [
             -121.547370662,
             36.01802848800003
            ],
            [
             -121.54799219999995,
             36.01824238200004
            ],
            [
             -121.54828958499996,
             36.01838966500003
            ],
            [
             -121.54832960799996,
             36.01841701500007
            ],
            [
             -121.548383721,
             36.018441504000066
            ],
            [
             -121.54844481499998,
             36.01845901400003
            ],
            [
             -121.54851115499997,
             36.01847127600007
            ],
            [
             -121.54858138499998,
             36.01847964800004
            ],
            [
             -121.548654468,
             36.01848516800004
            ],
            [
             -121.54880622099995,
             36.01849061900003
            ],
            [
             -121.54896219099999,
             36.01849185400005
            ],
            [
             -121.54943609199995,
             36.01848957100003
            ],
            [
             -121.54959181099997,
             36.01849105600007
            ],
            [
             -121.54966824199994,
             36.01849322800007
            ],
            [
             -121.54974316599998,
             36.01849690600005
            ],
            [
             -121.54981598899997,
             36.01850268600003
            ],
            [
             -121.54988592099994,
             36.01851135700008
            ],
            [
             -121.54995192099994,
             36.01852395800006
            ],
            [
             -121.55001264699996,
             36.018541834000075
            ],
            [
             -121.55006637799994,
             36.01856670800004
            ],
            [
             -121.55010607599996,
             36.01859438200006
            ],
            [
             -121.55017886999997,
             36.01865633600005
            ],
            [
             -121.55021853899996,
             36.01868403900005
            ],
            [
             -121.55027269399994,
             36.01870914700004
            ],
            [
             -121.550333922,
             36.018727184000056
            ],
            [
             -121.55040045899995,
             36.01873991000008
            ],
            [
             -121.55047093299999,
             36.01874870100005
            ],
            [
             -121.55054428299997,
             36.018754612000066
            ],
            [
             -121.550696615,
             36.018760807000035
            ],
            [
             -121.55093232099995,
             36.01876289000006
            ],
            [
             -121.55205056999995,
             36.01875432600008
            ],
            [
             -121.55228761399997,
             36.018755071000044
            ],
            [
             -121.55244093899995,
             36.01876027000003
            ],
            [
             -121.55251470299999,
             36.01876577000007
            ],
            [
             -121.55258542399997,
             36.01877431200006
            ],
            [
             -121.55265191399997,
             36.01878708400005
            ],
            [
             -121.55271260999996,
             36.01880565300007
            ],
            [
             -121.55276548299997,
             36.01883204300003
            ],
            [
             -121.55280319399998,
             36.01886170500006
            ],
            [
             -121.55301313599995,
             36.01905600400005
            ],
            [
             -121.55304808099999,
             36.019088434000025
            ],
            [
             -121.55307887199996,
             36.01912501600003
            ],
            [
             -121.55313555499998,
             36.01920308000007
            ],
            [
             -121.55316634599995,
             36.019239663000064
            ],
            [
             -121.55320128799997,
             36.019272095000076
            ],
            [
             -121.55341120699995,
             36.01946642000007
            ],
            [
             -121.55344890999999,
             36.019496090000075
            ],
            [
             -121.55350230599998,
             36.01952270000004
            ],
            [
             -121.55356364799997,
             36.01954136400008
            ],
            [
             -121.55363085699997,
             36.01955415900005
            ],
            [
             -121.553702333,
             36.01956269000004
            ],
            [
             -121.55377346699998,
             36.01956791600003
            ]
           ],
           "type": "LineString"
          },
          "id": "13",
          "properties": {
           "CHLOROPHYLL": 0.873553,
           "CSU_Descriptor": "steeply sloping, straight, medium erodibility, warm temperate dry, low river discharge, moderate wave energy, moderately tidal, euhaline-oxic-moderate to cool, clear, low chlorophyll",
           "CSU_ID": 62191,
           "Cluster": 6,
           "EMU_PHYSICAL": "Euhaline-Oxic-Moderate to Cool",
           "ERODIBILITY": "Medium",
           "GHM": 0.144511,
           "LENGTH_GEO": 809.2201719767945,
           "MAX_SLOPE": 109.272652,
           "MEAN_SIG_WAVEHEIGHT": 1.687268,
           "MasterKey": 2753658,
           "OBJECTID": 2753658,
           "OUTFLOW_DENSITY": 8671.790039,
           "OUTFLOW_DENSITY_RESCALED": 1.0484883786709782e-05,
           "REGIONAL_SINUOSITY": 1.270183,
           "RandomSort": 3366707.6827197,
           "Shape_Length": 0.008735799579888025,
           "TEMP_MOISTURE": "Warm Temperate Dry",
           "TIDAL_RANGE": 2.416656,
           "TURBIDITY": 0.027483,
           "chl_label": "low chlorophyll",
           "river_label": "low river discharge",
           "sinuosity_label": "straight",
           "slope_label": "steeply sloping",
           "style": {
            "color": "yellow",
            "dashArray": "5",
            "fillOpacity": 0.5,
            "fill_color": "yellow",
            "opacity": 1,
            "weight": 4
           },
           "tidal_label": "moderately tidal",
           "turbid_label": "clear",
           "wave_label": "moderate wave energy"
          },
          "type": "Feature"
         },
         {
          "geometry": {
           "coordinates": [
            [
             -121.55377346699998,
             36.01956791600003
            ],
            [
             -121.55377686499997,
             36.01956816500007
            ],
            [
             -121.55385354599997,
             36.01957149000003
            ],
            [
             -121.55401086799998,
             36.01957418100005
            ],
            [
             -121.55505582299998,
             36.01956930500006
            ],
            [
             -121.55778162999997,
             36.01956371400007
            ],
            [
             -121.55794010899996,
             36.01956524900004
            ],
            [
             -121.55801804199996,
             36.019567325000025
            ],
            [
             -121.55809453799998,
             36.01957083900004
            ],
            [
             -121.558168976,
             36.01957641000007
            ],
            [
             -121.55824051699994,
             36.019584879000035
            ],
            [
             -121.55830805299996,
             36.01959735600008
            ],
            [
             -121.55837012299997,
             36.019615300000055
            ],
            [
             -121.55842484199997,
             36.019640594000066
            ],
            [
             -121.558644,
             36.01975540025335
            ]
           ],
           "type": "LineString"
          },
          "id": "14",
          "properties": {
           "CHLOROPHYLL": 0.873553,
           "CSU_Descriptor": "steeply sloping, straight, medium erodibility, warm temperate dry, low river discharge, moderate wave energy, moderately tidal, euhaline-oxic-moderate to cool, clear, low chlorophyll",
           "CSU_ID": 62191,
           "Cluster": 6,
           "EMU_PHYSICAL": "Euhaline-Oxic-Moderate to Cool",
           "ERODIBILITY": "Medium",
           "GHM": 0.119442,
           "LENGTH_GEO": 809.4293303941587,
           "MAX_SLOPE": 114.768235,
           "MEAN_SIG_WAVEHEIGHT": 1.687268,
           "MasterKey": 2753657,
           "OBJECTID": 2753657,
           "OUTFLOW_DENSITY": 8671.790039,
           "OUTFLOW_DENSITY_RESCALED": 1.0484883786709782e-05,
           "REGIONAL_SINUOSITY": 1.270183,
           "RandomSort": 3110913.78667961,
           "Shape_Length": 0.00883771172510186,
           "TEMP_MOISTURE": "Warm Temperate Dry",
           "TIDAL_RANGE": 2.416656,
           "TURBIDITY": 0.027483,
           "chl_label": "low chlorophyll",
           "river_label": "low river discharge",
           "sinuosity_label": "straight",
           "slope_label": "steeply sloping",
           "style": {
            "color": "yellow",
            "dashArray": "5",
            "fillOpacity": 0.5,
            "fill_color": "yellow",
            "opacity": 1,
            "weight": 4
           },
           "tidal_label": "moderately tidal",
           "turbid_label": "clear",
           "wave_label": "moderate wave energy"
          },
          "type": "Feature"
         },
         {
          "geometry": {
           "coordinates": [
            [
             -121.4990172353652,
             35.992661
            ],
            [
             -121.49940305099994,
             35.99323256200006
            ],
            [
             -121.49942904399995,
             35.99328583000005
            ],
            [
             -121.49944722499998,
             35.99334691400003
            ],
            [
             -121.49945960999997,
             35.99341379100008
            ],
            [
             -121.49946777199995,
             35.99348489300007
            ],
            [
             -121.49947291899997,
             35.99355900900008
            ],
            [
             -121.49947598799997,
             35.993635202000064
            ],
            [
             -121.49948037099995,
             35.993947873000025
            ],
            [
             -121.49948505599997,
             35.99410171300008
            ],
            [
             -121.49949003499995,
             35.994175996000024
            ],
            [
             -121.49949787099996,
             35.99424742400004
            ],
            [
             -121.49950968399997,
             35.99431487500004
            ],
            [
             -121.49952691099998,
             35.99437691000003
            ],
            [
             -121.49955139599996,
             35.99443168800008
            ],
            [
             -121.49977194699994,
             35.994865625000045
            ],
            [
             -121.49991399099997,
             35.99507969700005
            ],
            [
             -121.499991551,
             35.99522350900003
            ],
            [
             -121.50021083699994,
             35.995658709000054
            ],
            [
             -121.50023457299994,
             35.99571197400007
            ],
            [
             -121.50025146399997,
             35.99577208000005
            ],
            [
             -121.50026326099999,
             35.995837281000036
            ],
            [
             -121.50027137499995,
             35.995906166000054
            ],
            [
             -121.50027694599999,
             35.99597759300008
            ],
            [
             -121.50029143499995,
             35.99627109900007
            ],
            [
             -121.50029714199997,
             35.99634239000005
            ],
            [
             -121.50030552399994,
             35.99641100400004
            ],
            [
             -121.50031781499996,
             35.99647571300005
            ],
            [
             -121.50033555099998,
             35.99653497700007
            ],
            [
             -121.50036065699999,
             35.996586868000065
            ],
            [
             -121.50038971899994,
             35.996625180000024
            ],
            [
             -121.50058011199997,
             35.99683903000005
            ],
            [
             -121.50061186199997,
             35.99687465400007
            ],
            [
             -121.50064776899995,
             35.99690611800003
            ],
            [
             -121.50079279,
             35.99703059400008
            ],
            [
             -121.50099682099994,
             35.997230804000026
            ],
            [
             -121.501064596,
             35.99729777500005
            ],
            [
             -121.50126751299996,
             35.99749910100007
            ],
            [
             -121.50160566599999,
             35.99783468500004
            ],
            [
             -121.501808526,
             35.998036065000065
            ],
            [
             -121.50187553899997,
             35.998103800000024
            ],
            [
             -121.50206645199995,
             35.99831712900004
            ],
            [
             -121.50209680999995,
             35.998354145000064
            ],
            [
             -121.50212436299995,
             35.99840358900008
            ],
            [
             -121.50214599399999,
             35.998458957000025
            ],
            [
             -121.50219951899999,
             35.998636428000054
            ],
            [
             -121.50222115099996,
             35.998691794000024
            ],
            [
             -121.502248711,
             35.99874123400008
            ],
            [
             -121.50227907199996,
             35.99877824500004
            ],
            [
             -121.50247005999995,
             35.99899149700008
            ],
            [
             -121.50250923899995,
             35.999031040000034
            ]
           ],
           "type": "LineString"
          },
          "id": "15",
          "properties": {
           "CHLOROPHYLL": 2.417483,
           "CSU_Descriptor": "steeply sloping, straight, medium erodibility, warm temperate dry, low river discharge, moderately high wave energy, moderately tidal, euhaline-oxic-moderate to cool, clear, moderate chlorophyll",
           "CSU_ID": 70983,
           "Cluster": 6,
           "EMU_PHYSICAL": "Euhaline-Oxic-Moderate to Cool",
           "ERODIBILITY": "Medium",
           "GHM": 0.059349,
           "LENGTH_GEO": 807.1623822627223,
           "MAX_SLOPE": 130.210239,
           "MEAN_SIG_WAVEHEIGHT": 2.048518,
           "MasterKey": 2753665,
           "OBJECTID": 2753665,
           "OUTFLOW_DENSITY": 8671.790039,
           "OUTFLOW_DENSITY_RESCALED": 1.0484883786709782e-05,
           "REGIONAL_SINUOSITY": 1.140924,
           "RandomSort": 1240148.43693409,
           "Shape_Length": 0.007642542293224856,
           "TEMP_MOISTURE": "Warm Temperate Dry",
           "TIDAL_RANGE": 2.410373,
           "TURBIDITY": 0.024533,
           "chl_label": "moderate chlorophyll",
           "river_label": "low river discharge",
           "sinuosity_label": "straight",
           "slope_label": "steeply sloping",
           "style": {
            "color": "yellow",
            "dashArray": "5",
            "fillOpacity": 0.5,
            "fill_color": "yellow",
            "opacity": 1,
            "weight": 4
           },
           "tidal_label": "moderately tidal",
           "turbid_label": "clear",
           "wave_label": "moderately high wave energy"
          },
          "type": "Feature"
         },
         {
          "geometry": {
           "coordinates": [
            [
             -121.50250923899995,
             35.999031040000034
            ],
            [
             -121.50253712299997,
             35.99905918400003
            ],
            [
             -121.50274027699999,
             35.99926027200007
            ],
            [
             -121.50288472199998,
             35.999385320000044
            ],
            [
             -121.50292064099995,
             35.99941677700008
            ],
            [
             -121.50315556199996,
             35.999653469000066
            ],
            [
             -121.50322251699998,
             35.99972126400007
            ],
            [
             -121.50341290699998,
             35.99993511500003
            ],
            [
             -121.50344312299995,
             35.999972273000026
            ],
            [
             -121.50347050299996,
             36.00002189200006
            ],
            [
             -121.50349194799998,
             36.000077443000066
            ],
            [
             -121.50354500499998,
             36.000255382000034
            ],
            [
             -121.50356659799996,
             36.00031078600006
            ],
            [
             -121.50359425799996,
             36.00036012600003
            ],
            [
             -121.50362487999996,
             36.00039687800006
            ],
            [
             -121.503827001,
             36.000598998000044
            ],
            [
             -121.50386375299996,
             36.00062962100003
            ],
            [
             -121.50391309199995,
             36.00065727800006
            ],
            [
             -121.50396849699996,
             36.00067887300003
            ],
            [
             -121.50414643599998,
             36.00073193000003
            ],
            [
             -121.50420198799998,
             36.000753375000045
            ],
            [
             -121.50425160599997,
             36.00078075700003
            ],
            [
             -121.50428876399997,
             36.000810974000046
            ],
            [
             -121.50450261299994,
             36.00100136400005
            ],
            [
             -121.50457040599997,
             36.00106831900007
            ],
            [
             -121.50480708699996,
             36.00130325300006
            ],
            [
             -121.50483853999998,
             36.001339176000045
            ],
            [
             -121.50496356499997,
             36.001483646000054
            ],
            [
             -121.50516455699994,
             36.001686894000045
            ],
            [
             -121.50523217999995,
             36.00175401900003
            ],
            [
             -121.50544504799996,
             36.00194539200004
            ],
            [
             -121.50548195599998,
             36.00197585900003
            ],
            [
             -121.506291095,
             36.002514191000046
            ],
            [
             -121.506340218,
             36.002542068000025
            ],
            [
             -121.50679044999998,
             36.002755946000036
            ],
            [
             -121.50711433899994,
             36.00288442300007
            ],
            [
             -121.50785867199994,
             36.00357418800007
            ],
            [
             -121.50789018899997,
             36.00361004100006
            ],
            [
             -121.50792589999998,
             36.00364170600005
            ],
            [
             -121.50814045799996,
             36.00383139100006
            ],
            [
             -121.508178741,
             36.00386048000007
            ],
            [
             -121.50823320499995,
             36.00388686400004
            ],
            [
             -121.50829534399998,
             36.00390557400004
            ],
            [
             -121.50836278099996,
             36.00391898700008
            ],
            [
             -121.50843353,
             36.00392908600003
            ],
            [
             -121.50857821399995,
             36.003946100000064
            ],
            [
             -121.50864896499996,
             36.00395619600005
            ],
            [
             -121.50871640199995,
             36.003969606000055
            ],
            [
             -121.50875486199999,
             36.00398118500004
            ]
           ],
           "type": "LineString"
          },
          "id": "16",
          "properties": {
           "CHLOROPHYLL": 2.417483,
           "CSU_Descriptor": "steeply sloping, straight, medium erodibility, warm temperate dry, low river discharge, moderate wave energy, moderately tidal, euhaline-oxic-moderate to cool, clear, moderate chlorophyll",
           "CSU_ID": 70981,
           "Cluster": 6,
           "EMU_PHYSICAL": "Euhaline-Oxic-Moderate to Cool",
           "ERODIBILITY": "Medium",
           "GHM": 0.089518,
           "LENGTH_GEO": 808.1809419432676,
           "MAX_SLOPE": 165.651852,
           "MEAN_SIG_WAVEHEIGHT": 1.687268,
           "MasterKey": 2753664,
           "OBJECTID": 2753664,
           "OUTFLOW_DENSITY": 8671.790039,
           "OUTFLOW_DENSITY_RESCALED": 1.0484883786709782e-05,
           "REGIONAL_SINUOSITY": 1.140924,
           "RandomSort": 529649.555212264,
           "Shape_Length": 0.00817329505061152,
           "TEMP_MOISTURE": "Warm Temperate Dry",
           "TIDAL_RANGE": 2.410373,
           "TURBIDITY": 0.024533,
           "chl_label": "moderate chlorophyll",
           "river_label": "low river discharge",
           "sinuosity_label": "straight",
           "slope_label": "steeply sloping",
           "style": {
            "color": "yellow",
            "dashArray": "5",
            "fillOpacity": 0.5,
            "fill_color": "yellow",
            "opacity": 1,
            "weight": 4
           },
           "tidal_label": "moderately tidal",
           "turbid_label": "clear",
           "wave_label": "moderate wave energy"
          },
          "type": "Feature"
         },
         {
          "geometry": {
           "coordinates": [
            [
             -121.50875486199999,
             36.00398118500004
            ],
            [
             -121.50877854299995,
             36.003988314000026
            ],
            [
             -121.50883301299996,
             36.00401469500008
            ],
            [
             -121.50887129999995,
             36.00404377900003
            ],
            [
             -121.509085917,
             36.00423340400005
            ],
            [
             -121.50912164599998,
             36.00426505000007
            ],
            [
             -121.509153186,
             36.00430088100006
            ],
            [
             -121.50927768999998,
             36.004445873000066
            ],
            [
             -121.50947779999996,
             36.00465000600008
            ],
            [
             -121.50954533899994,
             36.00471721300005
            ],
            [
             -121.50975875499995,
             36.00490804000003
            ],
            [
             -121.50979587199998,
             36.004938296000034
            ],
            [
             -121.50984545199998,
             36.004965714000036
            ],
            [
             -121.50990097299996,
             36.004987193000034
            ],
            [
             -121.51007884299997,
             36.005040317000066
            ],
            [
             -121.510134231,
             36.00506192700004
            ],
            [
             -121.51018355599996,
             36.005089601000066
            ],
            [
             -121.51022029599994,
             36.00512023600004
            ],
            [
             -121.51042232699996,
             36.00532244500005
            ],
            [
             -121.51045292799995,
             36.00535921900007
            ],
            [
             -121.51048055499996,
             36.00540858900007
            ],
            [
             -121.51050211299997,
             36.00546403000004
            ],
            [
             -121.51055500399997,
             36.00564213400003
            ],
            [
             -121.51057636999997,
             36.00569776800006
            ],
            [
             -121.51060365399996,
             36.00574748300005
            ],
            [
             -121.510633768,
             36.00578474200006
            ],
            [
             -121.51082307599995,
             36.005999676000044
            ],
            [
             -121.51088943899998,
             36.00606805900003
            ],
            [
             -121.511090293,
             36.006271447000074
            ],
            [
             -121.51115788799996,
             36.00633860000005
            ],
            [
             -121.51137264099998,
             36.00652808800004
            ],
            [
             -121.51141082699996,
             36.006557276000024
            ],
            [
             -121.51146512699995,
             36.00658382200004
            ],
            [
             -121.51152706299996,
             36.00660273600005
            ],
            [
             -121.51159426899994,
             36.006616380000025
            ],
            [
             -121.51166477799995,
             36.00662672000004
            ],
            [
             -121.51180908699996,
             36.00664410500008
            ],
            [
             -121.51187982,
             36.006654221000076
            ],
            [
             -121.51194747099998,
             36.00666741800006
            ],
            [
             -121.51201020399998,
             36.00668553500003
            ],
            [
             -121.51206583699997,
             36.006710750000025
            ],
            [
             -121.512500118,
             36.00693095400004
            ],
            [
             -121.512716636,
             36.00707055500004
            ],
            [
             -121.51275646999994,
             36.00709809600005
            ],
            [
             -121.51281106799996,
             36.00712276000007
            ],
            [
             -121.51287290299996,
             36.00714018800005
            ],
            [
             -121.512940131,
             36.00715222400004
            ],
            [
             -121.51301130399997,
             36.00716031300004
            ],
            [
             -121.51308530299997,
             36.00716557700008
            ],
            [
             -121.51323845599995,
             36.007170951000035
            ],
            [
             -121.51347226699994,
             36.007174930000076
            ],
            [
             -121.51362506299995,
             36.00718065900003
            ],
            [
             -121.51369879899994,
             36.00718618600007
            ],
            [
             -121.51376967999994,
             36.007194569000035
            ],
            [
             -121.51383661499995,
             36.00720689700006
            ],
            [
             -121.51389820999998,
             36.00722456500006
            ],
            [
             -121.51395269199998,
             36.00724934700003
            ],
            [
             -121.51399260499994,
             36.00727680600005
            ],
            [
             -121.51406578099994,
             36.00733837700005
            ],
            [
             -121.51410562299998,
             36.00736591100008
            ],
            [
             -121.51416039099996,
             36.00739099000003
            ],
            [
             -121.51422230799994,
             36.00740892300007
            ],
            [
             -121.51428958399998,
             36.00742149900003
            ],
            [
             -121.51436082199996,
             36.007430112000065
            ],
            [
             -121.51443494999995,
             36.007435833000045
            ],
            [
             -121.51451116399994,
             36.007439469000076
            ],
            [
             -121.51466759199997,
             36.00744274500005
            ],
            [
             -121.51490719399999,
             36.00744269300003
            ],
            [
             -121.51538987499998,
             36.00743912100006
            ],
            [
             -121.51562787399996,
             36.00744068300003
            ],
            [
             -121.51578166099995,
             36.007446608000066
            ],
            [
             -121.515855709,
             36.00745242100004
            ],
            [
             -121.51586844899998,
             36.00745398400005
            ]
           ],
           "type": "LineString"
          },
          "id": "17",
          "properties": {
           "CHLOROPHYLL": 2.417483,
           "CSU_Descriptor": "steeply sloping, straight, medium erodibility, warm temperate dry, low river discharge, moderate wave energy, moderately tidal, euhaline-oxic-moderate to cool, clear, moderate chlorophyll",
           "CSU_ID": 70981,
           "Cluster": 6,
           "EMU_PHYSICAL": "Euhaline-Oxic-Moderate to Cool",
           "ERODIBILITY": "Medium",
           "GHM": 0.057545,
           "LENGTH_GEO": 808.7053256467224,
           "MAX_SLOPE": 108.650524,
           "MEAN_SIG_WAVEHEIGHT": 1.687268,
           "MasterKey": 2753663,
           "OBJECTID": 2753663,
           "OUTFLOW_DENSITY": 8671.790039,
           "OUTFLOW_DENSITY_RESCALED": 1.0484883786709782e-05,
           "REGIONAL_SINUOSITY": 1.140924,
           "RandomSort": 2361457.62831946,
           "Shape_Length": 0.008435847190592267,
           "TEMP_MOISTURE": "Warm Temperate Dry",
           "TIDAL_RANGE": 2.410373,
           "TURBIDITY": 0.024533,
           "chl_label": "moderate chlorophyll",
           "river_label": "low river discharge",
           "sinuosity_label": "straight",
           "slope_label": "steeply sloping",
           "style": {
            "color": "yellow",
            "dashArray": "5",
            "fillOpacity": 0.5,
            "fill_color": "yellow",
            "opacity": 1,
            "weight": 4
           },
           "tidal_label": "moderately tidal",
           "turbid_label": "clear",
           "wave_label": "moderate wave energy"
          },
          "type": "Feature"
         }
        ],
        "type": "FeatureCollection"
       },
       "hover_style": {
        "color": "white",
        "dashArray": "4",
        "fillOpacity": 0.7
       },
       "name": "us_county349_ref_shoreline_province1257_ref_shoreline_W_USA_California_ref_shoreline",
       "style": {
        "color": "yellow",
        "dashArray": "5",
        "fillOpacity": 0.5,
        "fill_color": "yellow",
        "opacity": 1,
        "weight": 4
       }
      }
     },
     "92fd0ff66e164ef4a27766040d8e57ed": {
      "model_module": "@jupyter-widgets/controls",
      "model_module_version": "1.5.0",
      "model_name": "ButtonModel",
      "state": {
       "description": "Use Data Button",
       "layout": "IPY_MODEL_785501db85364e18bdc93ac6762089cf",
       "style": "IPY_MODEL_44238ac423214c00aa27825cdabe5e1e"
      }
     },
     "932a9bc3a8f9412b829c1fd396ae894b": {
      "model_module": "@jupyter-widgets/base",
      "model_module_version": "1.2.0",
      "model_name": "LayoutModel",
      "state": {
       "height": "auto",
       "padding": "0px 0px 0px 4px",
       "width": "auto"
      }
     },
     "93b319d638ca4374bc2d184267068f78": {
      "model_module": "jupyter-leaflet",
      "model_module_version": "^0.17.0",
      "model_name": "LeafletWMSLayerModel",
      "state": {
       "_model_module_version": "^0.17.0",
       "_view_module_version": "^0.17.0",
       "attribution": "MRLC",
       "crs": {
        "custom": false,
        "name": "EPSG3857"
       },
       "format": "image/png",
       "layers": "NLCD_2008_Land_Cover_L48",
       "name": "NLCD 2008 CONUS Land Cover",
       "options": [
        "attribution",
        "bounds",
        "detect_retina",
        "format",
        "layers",
        "max_native_zoom",
        "max_zoom",
        "min_native_zoom",
        "min_zoom",
        "no_wrap",
        "styles",
        "tile_size",
        "tms",
        "transparent",
        "uppercase"
       ],
       "transparent": true,
       "url": "https://www.mrlc.gov/geoserver/mrlc_display/NLCD_2008_Land_Cover_L48/wms?"
      }
     },
     "93b62e21896b4c38af630587fe1aa425": {
      "model_module": "@jupyter-widgets/controls",
      "model_module_version": "1.5.0",
      "model_name": "DescriptionStyleModel",
      "state": {
       "description_width": ""
      }
     },
     "93bf55b547b74984af7ed6f03d49ed3a": {
      "model_module": "@jupyter-widgets/controls",
      "model_module_version": "1.5.0",
      "model_name": "DescriptionStyleModel",
      "state": {
       "description_width": ""
      }
     },
     "94da1d0245404658bf24ba83ac5127c4": {
      "model_module": "jupyter-leaflet",
      "model_module_version": "^0.17.0",
      "model_name": "LeafletTileLayerModel",
      "state": {
       "_model_module_version": "^0.17.0",
       "_view_module_version": "^0.17.0",
       "attribution": "Map data: (C) OpenStreetMap contributors | Map style: (C) OpenFireMap (CC-BY-SA)",
       "max_zoom": 19,
       "name": "OpenFireMap",
       "options": [
        "attribution",
        "bounds",
        "detect_retina",
        "max_native_zoom",
        "max_zoom",
        "min_native_zoom",
        "min_zoom",
        "no_wrap",
        "tile_size",
        "tms"
       ],
       "url": "http://openfiremap.org/hytiles/{z}/{x}/{y}.png"
      }
     },
     "94dad5b2feb44bf39d19a6cddf54f463": {
      "model_module": "@jupyter-widgets/base",
      "model_module_version": "1.2.0",
      "model_name": "LayoutModel",
      "state": {
       "height": "auto",
       "padding": "0px 0px 0px 4px",
       "width": "auto"
      }
     },
     "95e4e3245391401581a568776259ff56": {
      "model_module": "@jupyter-widgets/base",
      "model_module_version": "1.2.0",
      "model_name": "LayoutModel",
      "state": {}
     },
     "95e75ab4ad08450abc5c6e5ce01497ab": {
      "model_module": "@jupyter-widgets/base",
      "model_module_version": "1.2.0",
      "model_name": "LayoutModel",
      "state": {
       "height": "auto",
       "padding": "0px 0px 0px 4px",
       "width": "auto"
      }
     },
     "96431f7a54044ace91dcde828802f200": {
      "model_module": "jupyter-leaflet",
      "model_module_version": "^0.17.0",
      "model_name": "LeafletWMSLayerModel",
      "state": {
       "_model_module_version": "^0.17.0",
       "_view_module_version": "^0.17.0",
       "attribution": "USGS",
       "crs": {
        "custom": false,
        "name": "EPSG3857"
       },
       "format": "image/png",
       "layers": "USGSNAIPImagery:FalseColorComposite",
       "name": "USGS NAIP Imagery False Color",
       "options": [
        "attribution",
        "bounds",
        "detect_retina",
        "format",
        "layers",
        "max_native_zoom",
        "max_zoom",
        "min_native_zoom",
        "min_zoom",
        "no_wrap",
        "styles",
        "tile_size",
        "tms",
        "transparent",
        "uppercase"
       ],
       "transparent": true,
       "url": "https://imagery.nationalmap.gov/arcgis/services/USGSNAIPImagery/ImageServer/WMSServer?"
      }
     },
     "96c3c3cad0584a46b434c1157176f2f6": {
      "model_module": "jupyter-leaflet",
      "model_module_version": "^0.17.0",
      "model_name": "LeafletZoomControlModel",
      "state": {
       "_model_module_version": "^0.17.0",
       "_view_module_version": "^0.17.0",
       "options": [
        "position",
        "zoom_in_text",
        "zoom_in_title",
        "zoom_out_text",
        "zoom_out_title"
       ]
      }
     },
     "96cafe766c304d9fb55e32ec8bf21f9a": {
      "model_module": "@jupyter-widgets/base",
      "model_module_version": "1.2.0",
      "model_name": "LayoutModel",
      "state": {}
     },
     "9792a6d993aa43b88db4625e775211de": {
      "model_module": "jupyter-leaflet",
      "model_module_version": "^0.17.0",
      "model_name": "LeafletTileLayerModel",
      "state": {
       "_model_module_version": "^0.17.0",
       "_view_module_version": "^0.17.0",
       "attribution": "(C) OpenStreetMap contributors (C) CARTO",
       "max_zoom": 20,
       "name": "CartoDB.DarkMatterNoLabels",
       "options": [
        "attribution",
        "bounds",
        "detect_retina",
        "max_native_zoom",
        "max_zoom",
        "min_native_zoom",
        "min_zoom",
        "no_wrap",
        "tile_size",
        "tms"
       ],
       "url": "https://a.basemaps.cartocdn.com/dark_nolabels/{z}/{x}/{y}.png"
      }
     },
     "9855ccbdafad4752ae7682e5b7ed188e": {
      "model_module": "@jupyter-widgets/base",
      "model_module_version": "1.2.0",
      "model_name": "LayoutModel",
      "state": {
       "margin": "0px 0px 0px 20px"
      }
     },
     "993efcd3549644adbf1fb37c70529f82": {
      "model_module": "@jupyter-widgets/controls",
      "model_module_version": "1.5.0",
      "model_name": "DescriptionStyleModel",
      "state": {
       "description_width": ""
      }
     },
     "9994c720c31f4db5a5d2fbbb3e83f83a": {
      "model_module": "@jupyter-widgets/base",
      "model_module_version": "1.2.0",
      "model_name": "LayoutModel",
      "state": {
       "height": "auto",
       "padding": "0px 0px 0px 4px",
       "width": "auto"
      }
     },
     "99d5a0d17cda4a568857a1c9c56814ae": {
      "model_module": "@jupyter-widgets/base",
      "model_module_version": "1.2.0",
      "model_name": "LayoutModel",
      "state": {
       "border": "1px solid black"
      }
     },
     "9a557c3aef2840d1a6e6ab397567edba": {
      "model_module": "jupyter-leaflet",
      "model_module_version": "^0.17.0",
      "model_name": "LeafletTileLayerModel",
      "state": {
       "_model_module_version": "^0.17.0",
       "_view_module_version": "^0.17.0",
       "attribution": "Tiles (C) Esri -- Esri, DeLorme, NAVTEQ, TomTom, Intermap, iPC, USGS, FAO, NPS, NRCAN, GeoBase, Kadaster NL, Ordnance Survey, Esri Japan, METI, Esri China (Hong Kong), and the GIS User Community",
       "max_zoom": 22,
       "name": "Esri.WorldTopoMap",
       "options": [
        "attribution",
        "bounds",
        "detect_retina",
        "max_native_zoom",
        "max_zoom",
        "min_native_zoom",
        "min_zoom",
        "no_wrap",
        "tile_size",
        "tms"
       ],
       "url": "https://server.arcgisonline.com/ArcGIS/rest/services/World_Topo_Map/MapServer/tile/{z}/{y}/{x}"
      }
     },
     "9b9b14076ed949baa32bbeec9b7d9ea8": {
      "model_module": "jupyter-leaflet",
      "model_module_version": "^0.17.0",
      "model_name": "LeafletTileLayerModel",
      "state": {
       "_model_module_version": "^0.17.0",
       "_view_module_version": "^0.17.0",
       "attribution": "Geoportail France",
       "max_zoom": 19,
       "name": "GeoportailFrance.orthos",
       "options": [
        "attribution",
        "bounds",
        "detect_retina",
        "max_native_zoom",
        "max_zoom",
        "min_native_zoom",
        "min_zoom",
        "no_wrap",
        "tile_size",
        "tms"
       ],
       "url": "https://wxs.ign.fr/choisirgeoportail/geoportail/wmts?REQUEST=GetTile&SERVICE=WMTS&VERSION=1.0.0&STYLE=normal&TILEMATRIXSET=PM&FORMAT=image/jpeg&LAYER=ORTHOIMAGERY.ORTHOPHOTOS&TILEMATRIX={z}&TILEROW={y}&TILECOL={x}"
      }
     },
     "9f5210dafe0940168782ec0d0baaf540": {
      "model_module": "@jupyter-widgets/base",
      "model_module_version": "1.2.0",
      "model_name": "LayoutModel",
      "state": {
       "height": "auto",
       "padding": "0px 0px 0px 4px",
       "width": "auto"
      }
     },
     "9fdf692107ec4457947dd9a5bb495824": {
      "model_module": "@jupyter-widgets/controls",
      "model_module_version": "1.5.0",
      "model_name": "HTMLModel",
      "state": {
       "layout": "IPY_MODEL_e4899c6daf42410cb328ff9981164f73",
       "style": "IPY_MODEL_cd20cb4681aa419abccae31b600b455d",
       "value": "<b>Pick a collection</b>        <br> C01: LandSat Collection 1         <br> C02: LandSat Collection 2  [2022/01/01 and beyond]         <br>      - Landsat 9 is only available in C02"
      }
     },
     "a0e93da4ec164bbc85b3e0ba2460edd1": {
      "model_module": "@jupyter-widgets/base",
      "model_module_version": "1.2.0",
      "model_name": "LayoutModel",
      "state": {
       "height": "auto",
       "padding": "0px 0px 0px 4px",
       "width": "auto"
      }
     },
     "a1062c2500b140c89752fdbcf73fab7f": {
      "model_module": "jupyter-leaflet",
      "model_module_version": "^0.17.0",
      "model_name": "LeafletTileLayerModel",
      "state": {
       "_model_module_version": "^0.17.0",
       "_view_module_version": "^0.17.0",
       "attribution": "(C) OpenStreetMap contributors, Tiles style by Humanitarian OpenStreetMap Team hosted by OpenStreetMap France",
       "max_zoom": 19,
       "name": "OpenStreetMap.HOT",
       "options": [
        "attribution",
        "bounds",
        "detect_retina",
        "max_native_zoom",
        "max_zoom",
        "min_native_zoom",
        "min_zoom",
        "no_wrap",
        "tile_size",
        "tms"
       ],
       "url": "https://a.tile.openstreetmap.fr/hot/{z}/{x}/{y}.png"
      }
     },
     "a154d6850cd543eba02ca80bd94b35ef": {
      "model_module": "@jupyter-widgets/controls",
      "model_module_version": "1.5.0",
      "model_name": "ButtonModel",
      "state": {
       "description": "Load Shoreline",
       "layout": "IPY_MODEL_e48e4f87d3264411862b7a749f244317",
       "style": "IPY_MODEL_6ae05a0aca0f45668f81e37c7df46fd0"
      }
     },
     "a2461bf1b707415e88974c2a2d1d7b89": {
      "model_module": "@jupyter-widgets/base",
      "model_module_version": "1.2.0",
      "model_name": "LayoutModel",
      "state": {
       "height": "28px",
       "padding": "0px 0px 0px 4px",
       "width": "28px"
      }
     },
     "a29825b0a1f049ff8120953e4068336e": {
      "model_module": "jupyter-leaflet",
      "model_module_version": "^0.17.0",
      "model_name": "LeafletTileLayerModel",
      "state": {
       "_model_module_version": "^0.17.0",
       "_view_module_version": "^0.17.0",
       "attribution": "Imagery provided by services from the Global Imagery Browse Services (GIBS), operated by the NASA/GSFC/Earth Science Data and Information System (ESDIS) with funding provided by NASA/HQ.",
       "max_zoom": 9,
       "name": "NASAGIBS.ModisTerraBands721CR",
       "options": [
        "attribution",
        "bounds",
        "detect_retina",
        "max_native_zoom",
        "max_zoom",
        "min_native_zoom",
        "min_zoom",
        "no_wrap",
        "tile_size",
        "tms"
       ],
       "url": "https://gibs.earthdata.nasa.gov/wmts/epsg3857/best/MODIS_Terra_CorrectedReflectance_Bands721/default//GoogleMapsCompatible_Level9/{z}/{y}/{x}.jpg"
      }
     },
     "a3bafcd37b36416c8024f0eeaffdb8fd": {
      "model_module": "jupyter-leaflet",
      "model_module_version": "^0.17.0",
      "model_name": "LeafletTileLayerModel",
      "state": {
       "_model_module_version": "^0.17.0",
       "_view_module_version": "^0.17.0",
       "attribution": "Map tiles by Stamen Design, CC BY 3.0 -- Map data (C) OpenStreetMap contributors",
       "max_zoom": 20,
       "name": "Stamen.TonerHybrid",
       "options": [
        "attribution",
        "bounds",
        "detect_retina",
        "max_native_zoom",
        "max_zoom",
        "min_native_zoom",
        "min_zoom",
        "no_wrap",
        "tile_size",
        "tms"
       ],
       "url": "https://stamen-tiles-a.a.ssl.fastly.net/toner-hybrid/{z}/{x}/{y}.png"
      }
     },
     "a3bb2eb16e7040089b1e38f5456e65a0": {
      "model_module": "jupyter-leaflet",
      "model_module_version": "^0.17.0",
      "model_name": "LeafletTileLayerModel",
      "state": {
       "_model_module_version": "^0.17.0",
       "_view_module_version": "^0.17.0",
       "attribution": "Map tiles by Stamen Design, CC BY 3.0 -- Map data (C) OpenStreetMap contributors",
       "max_zoom": 16,
       "name": "Stamen.Watercolor",
       "options": [
        "attribution",
        "bounds",
        "detect_retina",
        "max_native_zoom",
        "max_zoom",
        "min_native_zoom",
        "min_zoom",
        "no_wrap",
        "tile_size",
        "tms"
       ],
       "url": "https://stamen-tiles-a.a.ssl.fastly.net/watercolor/{z}/{x}/{y}.jpg"
      }
     },
     "a61d0567e4af427aa2848a3232cf2e92": {
      "model_module": "jupyter-leaflet",
      "model_module_version": "^0.17.0",
      "model_name": "LeafletTileLayerModel",
      "state": {
       "_model_module_version": "^0.17.0",
       "_view_module_version": "^0.17.0",
       "attribution": "Tiles (C) Esri -- Source: Esri, i-cubed, USDA, USGS, AEX, GeoEye, Getmapping, Aerogrid, IGN, IGP, UPR-EGP, and the GIS User Community",
       "max_zoom": 22,
       "name": "Esri.WorldImagery",
       "options": [
        "attribution",
        "bounds",
        "detect_retina",
        "max_native_zoom",
        "max_zoom",
        "min_native_zoom",
        "min_zoom",
        "no_wrap",
        "tile_size",
        "tms"
       ],
       "url": "https://server.arcgisonline.com/ArcGIS/rest/services/World_Imagery/MapServer/tile/{z}/{y}/{x}"
      }
     },
     "a668118459934c1987fc8c591a506ad1": {
      "model_module": "@jupyter-widgets/controls",
      "model_module_version": "1.5.0",
      "model_name": "RadioButtonsModel",
      "state": {
       "_options_labels": [
        "landsat_6229071",
        "landsat_6230083",
        "SWED-RGB_6824384",
        "SWED-MNDWI_6824342",
        "coast-train-RGB_6950479",
        "S2-water-SWED_6950474"
       ],
       "description": "Select Model:",
       "index": 0,
       "layout": "IPY_MODEL_4811c9b1c5ab413489f8663c302c662d",
       "style": "IPY_MODEL_5dd681aa54754e09abea8cea1ac8312c"
      }
     },
     "a686c654fde24fc89c72396e01702eb7": {
      "model_module": "@jupyter-widgets/controls",
      "model_module_version": "1.5.0",
      "model_name": "ToggleButtonModel",
      "state": {
       "button_style": "primary",
       "icon": "globe",
       "layout": "IPY_MODEL_453601f9a4094e35b4b4638896b5e726",
       "style": "IPY_MODEL_42698ca1504246b099f174f406d97ea7",
       "tooltip": "Split-panel map"
      }
     },
     "a78391c03d4c4952b394eceb9b30a960": {
      "model_module": "@jupyter-widgets/controls",
      "model_module_version": "1.5.0",
      "model_name": "HTMLModel",
      "state": {
       "layout": "IPY_MODEL_9855ccbdafad4752ae7682e5b7ed188e",
       "style": "IPY_MODEL_ae76b536a1b04df4813bc9b497df3917",
       "value": "<b>3. Run Model Button</b>         <br> - Make sure to click Select Images Button or Use Data Button.<br>             - The model will be applied to the selected folder and the model outputs will be generated within a subdirectory             called 'out'<br>      - <span style=\"background-color:yellow;\">WARNING :</span> You should not run multiple models on the same folder. Otherwise not all the model outputs      will be saved to the folder.<br>    "
      }
     },
     "a7ab0a1fe7e544bbb1fee610757c004e": {
      "model_module": "jupyter-leaflet",
      "model_module_version": "^0.17.0",
      "model_name": "LeafletTileLayerModel",
      "state": {
       "_model_module_version": "^0.17.0",
       "_view_module_version": "^0.17.0",
       "attribution": "Map data: (C) OpenStreetMap contributors | Map style: (C) waymarkedtrails.org (CC-BY-SA)",
       "name": "WaymarkedTrails.mtb",
       "options": [
        "attribution",
        "bounds",
        "detect_retina",
        "max_native_zoom",
        "max_zoom",
        "min_native_zoom",
        "min_zoom",
        "no_wrap",
        "tile_size",
        "tms"
       ],
       "url": "https://tile.waymarkedtrails.org/mtb/{z}/{x}/{y}.png"
      }
     },
     "a90c18b0c02440a5af4ab1c1532614dd": {
      "model_module": "jupyter-leaflet",
      "model_module_version": "^0.17.0",
      "model_name": "LeafletTileLayerModel",
      "state": {
       "_model_module_version": "^0.17.0",
       "_view_module_version": "^0.17.0",
       "attribution": "Tiles (C) Esri -- Source: USGS, Esri, TANA, DeLorme, and NPS",
       "max_zoom": 13,
       "name": "Esri.WorldTerrain",
       "options": [
        "attribution",
        "bounds",
        "detect_retina",
        "max_native_zoom",
        "max_zoom",
        "min_native_zoom",
        "min_zoom",
        "no_wrap",
        "tile_size",
        "tms"
       ],
       "url": "https://server.arcgisonline.com/ArcGIS/rest/services/World_Terrain_Base/MapServer/tile/{z}/{y}/{x}"
      }
     },
     "aa1c71f5d1774a05940976efe88b8991": {
      "model_module": "jupyter-leaflet",
      "model_module_version": "^0.17.0",
      "model_name": "LeafletTileLayerModel",
      "state": {
       "_model_module_version": "^0.17.0",
       "_view_module_version": "^0.17.0",
       "attribution": "Google",
       "max_zoom": 22,
       "name": "Google Terrain",
       "options": [
        "attribution",
        "bounds",
        "detect_retina",
        "max_native_zoom",
        "max_zoom",
        "min_native_zoom",
        "min_zoom",
        "no_wrap",
        "tile_size",
        "tms"
       ],
       "url": "https://mt1.google.com/vt/lyrs=p&x={x}&y={y}&z={z}"
      }
     },
     "ab5f99e981c348289fda2284fa038c8d": {
      "model_module": "jupyter-leaflet",
      "model_module_version": "^0.17.0",
      "model_name": "LeafletTileLayerModel",
      "state": {
       "_model_module_version": "^0.17.0",
       "_view_module_version": "^0.17.0",
       "attribution": "Kaartgegevens (C) Kadaster",
       "max_zoom": 19,
       "name": "nlmaps.standaard",
       "options": [
        "attribution",
        "bounds",
        "detect_retina",
        "max_native_zoom",
        "max_zoom",
        "min_native_zoom",
        "min_zoom",
        "no_wrap",
        "tile_size",
        "tms"
       ],
       "url": "https://service.pdok.nl/brt/achtergrondkaart/wmts/v2_0/standaard/EPSG:3857/{z}/{x}/{y}.png"
      }
     },
     "ac41c2b5f56e43ada2f0d702b458be29": {
      "model_module": "@jupyter-widgets/controls",
      "model_module_version": "1.5.0",
      "model_name": "HBoxModel",
      "state": {
       "children": [
        "IPY_MODEL_2477d3d3af4a4bbcbe760e3a13a4b3f0",
        "IPY_MODEL_a154d6850cd543eba02ca80bd94b35ef",
        "IPY_MODEL_d8bb87de38224c6da01c911ccc5c9723",
        "IPY_MODEL_10c81839493c4010b70cef877d0a87f6",
        "IPY_MODEL_484d2c2d907042beb3ace4dbc82ff6e4",
        "IPY_MODEL_d3cdaff5b9b141afabc94fd8aed5493d"
       ],
       "layout": "IPY_MODEL_b19a0b6f39d24ae2844d1a52f6517dfe"
      }
     },
     "ac6c66bfd1cd420c8cac0cd2988b5547": {
      "model_module": "jupyter-leaflet",
      "model_module_version": "^0.17.0",
      "model_name": "LeafletWMSLayerModel",
      "state": {
       "_model_module_version": "^0.17.0",
       "_view_module_version": "^0.17.0",
       "attribution": "ESA",
       "crs": {
        "custom": false,
        "name": "EPSG3857"
       },
       "format": "image/png",
       "layers": "WORLDCOVER_2020_S2_FCC",
       "name": "ESA Worldcover 2020 S2 FCC",
       "options": [
        "attribution",
        "bounds",
        "detect_retina",
        "format",
        "layers",
        "max_native_zoom",
        "max_zoom",
        "min_native_zoom",
        "min_zoom",
        "no_wrap",
        "styles",
        "tile_size",
        "tms",
        "transparent",
        "uppercase"
       ],
       "transparent": true,
       "url": "https://services.terrascope.be/wms/v2"
      }
     },
     "ace006bee1644e0bb8d2cb5de793f9e6": {
      "model_module": "@jupyter-widgets/controls",
      "model_module_version": "1.5.0",
      "model_name": "ButtonModel",
      "state": {
       "description": "Run Model",
       "layout": "IPY_MODEL_3b28cb5122a64f3784d39be15d655167",
       "style": "IPY_MODEL_1f463eb62fe94be8a1fe9829a0d85348"
      }
     },
     "acfd0a93fbbb4461a228560cc105b5c4": {
      "model_module": "jupyter-leaflet",
      "model_module_version": "^0.17.0",
      "model_name": "LeafletTileLayerModel",
      "state": {
       "_model_module_version": "^0.17.0",
       "_view_module_version": "^0.17.0",
       "attribution": "Earthstar Geographics",
       "max_zoom": 24,
       "name": "Esri.AntarcticImagery",
       "options": [
        "attribution",
        "bounds",
        "detect_retina",
        "max_native_zoom",
        "max_zoom",
        "min_native_zoom",
        "min_zoom",
        "no_wrap",
        "tile_size",
        "tms"
       ],
       "url": "http://server.arcgisonline.com/ArcGIS/rest/services/Polar/Antarctic_Imagery/MapServer/tile/{z}/{y}/{x}"
      }
     },
     "ad7d8aabebb549778140eac8e2409799": {
      "model_module": "@jupyter-widgets/base",
      "model_module_version": "1.2.0",
      "model_name": "LayoutModel",
      "state": {}
     },
     "ae76b536a1b04df4813bc9b497df3917": {
      "model_module": "@jupyter-widgets/controls",
      "model_module_version": "1.5.0",
      "model_name": "DescriptionStyleModel",
      "state": {
       "description_width": ""
      }
     },
     "af1f5caf3bde4100a6081ec154e223d2": {
      "model_module": "jupyter-leaflet",
      "model_module_version": "^0.17.0",
      "model_name": "LeafletTileLayerModel",
      "state": {
       "_model_module_version": "^0.17.0",
       "_view_module_version": "^0.17.0",
       "attribution": "![](https://docs.onemap.sg/maps/images/oneMap64-01.png) New OneMap | Map data (C) contributors, Singapore Land Authority",
       "name": "OneMapSG.Original",
       "options": [
        "attribution",
        "bounds",
        "detect_retina",
        "max_native_zoom",
        "max_zoom",
        "min_native_zoom",
        "min_zoom",
        "no_wrap",
        "tile_size",
        "tms"
       ],
       "url": "https://maps-a.onemap.sg/v3/Original/{z}/{x}/{y}.png"
      }
     },
     "afdc107ded7d438497f006e86e2a938e": {
      "model_module": "jupyter-leaflet",
      "model_module_version": "^0.17.0",
      "model_name": "LeafletTileLayerModel",
      "state": {
       "_model_module_version": "^0.17.0",
       "_view_module_version": "^0.17.0",
       "attribution": "(C) OpenStreetMap France | (C) OpenStreetMap contributors",
       "max_zoom": 20,
       "name": "OpenStreetMap.France",
       "options": [
        "attribution",
        "bounds",
        "detect_retina",
        "max_native_zoom",
        "max_zoom",
        "min_native_zoom",
        "min_zoom",
        "no_wrap",
        "tile_size",
        "tms"
       ],
       "url": "https://a.tile.openstreetmap.fr/osmfr/{z}/{x}/{y}.png"
      }
     },
     "b0da574c1cff43bd87dac343e60a2e78": {
      "model_module": "jupyter-leaflet",
      "model_module_version": "^0.17.0",
      "model_name": "LeafletTileLayerModel",
      "state": {
       "_model_module_version": "^0.17.0",
       "_view_module_version": "^0.17.0",
       "attribution": "(C) OpenStreetMap contributors (C) CARTO",
       "max_zoom": 20,
       "name": "CartoDB.Positron",
       "options": [
        "attribution",
        "bounds",
        "detect_retina",
        "max_native_zoom",
        "max_zoom",
        "min_native_zoom",
        "min_zoom",
        "no_wrap",
        "tile_size",
        "tms"
       ],
       "url": "https://a.basemaps.cartocdn.com/light_all/{z}/{x}/{y}.png"
      }
     },
     "b19a0b6f39d24ae2844d1a52f6517dfe": {
      "model_module": "@jupyter-widgets/base",
      "model_module_version": "1.2.0",
      "model_name": "LayoutModel",
      "state": {}
     },
     "b24dc7139fd34f56ab1b25bfd368499b": {
      "model_module": "jupyter-leaflet",
      "model_module_version": "^0.17.0",
      "model_name": "LeafletWMSLayerModel",
      "state": {
       "_model_module_version": "^0.17.0",
       "_view_module_version": "^0.17.0",
       "attribution": "USGS",
       "crs": {
        "custom": false,
        "name": "EPSG3857"
       },
       "format": "image/png",
       "layers": "USGSNAIPImagery:NDVI_Color",
       "name": "USGS NAIP Imagery NDVI",
       "options": [
        "attribution",
        "bounds",
        "detect_retina",
        "format",
        "layers",
        "max_native_zoom",
        "max_zoom",
        "min_native_zoom",
        "min_zoom",
        "no_wrap",
        "styles",
        "tile_size",
        "tms",
        "transparent",
        "uppercase"
       ],
       "transparent": true,
       "url": "https://imagery.nationalmap.gov/arcgis/services/USGSNAIPImagery/ImageServer/WMSServer?"
      }
     },
     "b296a6bda1e54732bcb97dff419d4568": {
      "model_module": "jupyter-leaflet",
      "model_module_version": "^0.17.0",
      "model_name": "LeafletMapStyleModel",
      "state": {
       "_model_module_version": "^0.17.0"
      }
     },
     "b2c4ddab2dd948cfbbade10417cb25e9": {
      "model_module": "jupyter-leaflet",
      "model_module_version": "^0.17.0",
      "model_name": "LeafletTileLayerModel",
      "state": {
       "_model_module_version": "^0.17.0",
       "_view_module_version": "^0.17.0",
       "attribution": "Map tiles by Stamen Design, CC BY 3.0 -- Map data (C) OpenStreetMap contributors",
       "max_zoom": 20,
       "name": "Stamen.TonerLines",
       "options": [
        "attribution",
        "bounds",
        "detect_retina",
        "max_native_zoom",
        "max_zoom",
        "min_native_zoom",
        "min_zoom",
        "no_wrap",
        "tile_size",
        "tms"
       ],
       "url": "https://stamen-tiles-a.a.ssl.fastly.net/toner-lines/{z}/{x}/{y}.png"
      }
     },
     "b46c00f8c58e43f3ba62077d9dcf5ece": {
      "model_module": "jupyter-leaflet",
      "model_module_version": "^0.17.0",
      "model_name": "LeafletTileLayerModel",
      "state": {
       "_model_module_version": "^0.17.0",
       "_view_module_version": "^0.17.0",
       "attribution": "(C) OpenStreetMap contributors",
       "max_zoom": 19,
       "name": "HikeBike.HikeBike",
       "options": [
        "attribution",
        "bounds",
        "detect_retina",
        "max_native_zoom",
        "max_zoom",
        "min_native_zoom",
        "min_zoom",
        "no_wrap",
        "tile_size",
        "tms"
       ],
       "url": "https://tiles.wmflabs.org/hikebike/{z}/{x}/{y}.png"
      }
     },
     "b4ff7e03fbc74efaa84e5ce5385e1513": {
      "model_module": "@jupyter-widgets/base",
      "model_module_version": "1.2.0",
      "model_name": "LayoutModel",
      "state": {
       "padding": "10px"
      }
     },
     "b540e2f82ca74eb3b8d6992612f24f00": {
      "model_module": "jupyter-leaflet",
      "model_module_version": "^0.17.0",
      "model_name": "LeafletTileLayerModel",
      "state": {
       "_model_module_version": "^0.17.0",
       "_view_module_version": "^0.17.0",
       "attribution": "Imagery provided by services from the Global Imagery Browse Services (GIBS), operated by the NASA/GSFC/Earth Science Data and Information System (ESDIS) with funding provided by NASA/HQ.",
       "max_zoom": 9,
       "name": "NASAGIBS.ModisTerraTrueColorCR",
       "options": [
        "attribution",
        "bounds",
        "detect_retina",
        "max_native_zoom",
        "max_zoom",
        "min_native_zoom",
        "min_zoom",
        "no_wrap",
        "tile_size",
        "tms"
       ],
       "url": "https://map1.vis.earthdata.nasa.gov/wmts-webmerc/MODIS_Terra_CorrectedReflectance_TrueColor/default//GoogleMapsCompatible_Level9/{z}/{y}/{x}.jpg"
      }
     },
     "b5e70bb67a47439c8d990da3933a7aab": {
      "model_module": "jupyter-leaflet",
      "model_module_version": "^0.17.0",
      "model_name": "LeafletTileLayerModel",
      "state": {
       "_model_module_version": "^0.17.0",
       "_view_module_version": "^0.17.0",
       "attribution": "Tiles (C) Esri -- Esri, DeLorme, NAVTEQ",
       "max_zoom": 16,
       "name": "Esri.WorldGrayCanvas",
       "options": [
        "attribution",
        "bounds",
        "detect_retina",
        "max_native_zoom",
        "max_zoom",
        "min_native_zoom",
        "min_zoom",
        "no_wrap",
        "tile_size",
        "tms"
       ],
       "url": "https://server.arcgisonline.com/ArcGIS/rest/services/Canvas/World_Light_Gray_Base/MapServer/tile/{z}/{y}/{x}"
      }
     },
     "b6764d3f11ec48b49e1b14f82fe797b6": {
      "model_module": "jupyter-leaflet",
      "model_module_version": "^0.17.0",
      "model_name": "LeafletTileLayerModel",
      "state": {
       "_model_module_version": "^0.17.0",
       "_view_module_version": "^0.17.0",
       "attribution": "Justice Map",
       "max_zoom": 22,
       "name": "JusticeMap.income",
       "options": [
        "attribution",
        "bounds",
        "detect_retina",
        "max_native_zoom",
        "max_zoom",
        "min_native_zoom",
        "min_zoom",
        "no_wrap",
        "tile_size",
        "tms"
       ],
       "url": "https://www.justicemap.org/tile/county/income/{z}/{x}/{y}.png"
      }
     },
     "b6b4761641c94a6cb8f779baa8a7225e": {
      "model_module": "@jupyter-widgets/controls",
      "model_module_version": "1.5.0",
      "model_name": "HTMLModel",
      "state": {
       "layout": "IPY_MODEL_64cabd908cbf4980bd1d80ab425a3aec",
       "style": "IPY_MODEL_c6500ede1f1e46da85c1dbfab7280c1e",
       "value": "<b>1. Use Data Folder Button</b>         <br> - When CoastSat downloads imagery it created a folder called 'data'in the CoastSeg directory.            The jpgs within the 'data' folder will be copied to another folder with a name such as            <span style=\"background-color:LightGray;\">segmentation_data_2022-07-07__10_hr_04_min58 </span>            (the date and time will be the current date and time) <br>            The model will be applied to this folder and the model outputs will be generated within a subdirectory             called 'out'"
      }
     },
     "b7b72c65427d494490bc331e529cf8cc": {
      "model_module": "@jupyter-widgets/controls",
      "model_module_version": "1.5.0",
      "model_name": "DescriptionStyleModel",
      "state": {
       "description_width": ""
      }
     },
     "b8489ea970a64ed2b97ee2c835887c4a": {
      "model_module": "@jupyter-widgets/controls",
      "model_module_version": "1.5.0",
      "model_name": "ToggleButtonModel",
      "state": {
       "button_style": "primary",
       "icon": "table",
       "layout": "IPY_MODEL_94dad5b2feb44bf39d19a6cddf54f463",
       "style": "IPY_MODEL_e0b89fdf4c7542a3853b1fecace5fb91",
       "tooltip": "Open attribute table"
      }
     },
     "b84a7b6a057740ea87a7d383d0135524": {
      "model_module": "@jupyter-widgets/controls",
      "model_module_version": "1.5.0",
      "model_name": "DescriptionStyleModel",
      "state": {
       "description_width": ""
      }
     },
     "b8d8cf6ce40c4969a1206fb338fa4dba": {
      "model_module": "jupyter-leaflet",
      "model_module_version": "^0.17.0",
      "model_name": "LeafletWMSLayerModel",
      "state": {
       "_model_module_version": "^0.17.0",
       "_view_module_version": "^0.17.0",
       "attribution": "FWS",
       "crs": {
        "custom": false,
        "name": "EPSG3857"
       },
       "format": "image/png",
       "layers": "1",
       "name": "FWS NWI Wetlands",
       "options": [
        "attribution",
        "bounds",
        "detect_retina",
        "format",
        "layers",
        "max_native_zoom",
        "max_zoom",
        "min_native_zoom",
        "min_zoom",
        "no_wrap",
        "styles",
        "tile_size",
        "tms",
        "transparent",
        "uppercase"
       ],
       "transparent": true,
       "url": "https://www.fws.gov/wetlands/arcgis/services/Wetlands/MapServer/WMSServer?"
      }
     },
     "b91cdd12e08b4ab7ba56465e921fca56": {
      "model_module": "jupyter-leaflet",
      "model_module_version": "^0.17.0",
      "model_name": "LeafletTileLayerModel",
      "state": {
       "_model_module_version": "^0.17.0",
       "_view_module_version": "^0.17.0",
       "attribution": "Map data: (C) OpenStreetMap contributors | Map style: (C) waymarkedtrails.org (CC-BY-SA)",
       "name": "WaymarkedTrails.skating",
       "options": [
        "attribution",
        "bounds",
        "detect_retina",
        "max_native_zoom",
        "max_zoom",
        "min_native_zoom",
        "min_zoom",
        "no_wrap",
        "tile_size",
        "tms"
       ],
       "url": "https://tile.waymarkedtrails.org/skating/{z}/{x}/{y}.png"
      }
     },
     "b94b06d03af44d3fa23a0c645a49ae64": {
      "model_module": "@jupyter-widgets/controls",
      "model_module_version": "1.5.0",
      "model_name": "SelectMultipleModel",
      "state": {
       "_options_labels": [
        "L5",
        "L7",
        "L8",
        "S2"
       ],
       "description": "Satellites",
       "index": [
        2
       ],
       "layout": "IPY_MODEL_4a8909154aac470a80bca4179e5b5882",
       "rows": 5,
       "style": "IPY_MODEL_89551b5766204f828e38f5feda6587db"
      }
     },
     "bae6bfb9903541dc824b09dcf144e470": {
      "model_module": "@jupyter-widgets/controls",
      "model_module_version": "1.5.0",
      "model_name": "DescriptionStyleModel",
      "state": {
       "description_width": ""
      }
     },
     "bb3c3ce6fcd44190bc97e0cf97947266": {
      "model_module": "jupyter-leaflet",
      "model_module_version": "^0.17.0",
      "model_name": "LeafletTileLayerModel",
      "state": {
       "_model_module_version": "^0.17.0",
       "_view_module_version": "^0.17.0",
       "attribution": "Map tiles by <a href=\"https://labs.strava.com/heatmap\">Strava 2021</a>",
       "max_zoom": 15,
       "name": "Strava.All",
       "options": [
        "attribution",
        "bounds",
        "detect_retina",
        "max_native_zoom",
        "max_zoom",
        "min_native_zoom",
        "min_zoom",
        "no_wrap",
        "tile_size",
        "tms"
       ],
       "url": "https://heatmap-external-a.strava.com/tiles/all/hot/{z}/{x}/{y}.png"
      }
     },
     "bc5a9ae9cae748a1b0486bc11a01be16": {
      "model_module": "jupyter-leaflet",
      "model_module_version": "^0.17.0",
      "model_name": "LeafletTileLayerModel",
      "state": {
       "_model_module_version": "^0.17.0",
       "_view_module_version": "^0.17.0",
       "attribution": "© swisstopo",
       "name": "SwissFederalGeoportal.JourneyThroughTime",
       "options": [
        "attribution",
        "bounds",
        "detect_retina",
        "max_native_zoom",
        "max_zoom",
        "min_native_zoom",
        "min_zoom",
        "no_wrap",
        "tile_size",
        "tms"
       ],
       "url": "https://wmts.geo.admin.ch/1.0.0/ch.swisstopo.zeitreihen/default/18641231/3857/{z}/{x}/{y}.png"
      }
     },
     "bc72cc52447b4f7ab02cbd35b9d47e41": {
      "model_module": "jupyter-leaflet",
      "model_module_version": "^0.17.0",
      "model_name": "LeafletTileLayerModel",
      "state": {
       "_model_module_version": "^0.17.0",
       "_view_module_version": "^0.17.0",
       "attribution": "(C) OpenStreetMap contributors (C) CARTO",
       "max_zoom": 20,
       "name": "CartoDB.PositronNoLabels",
       "options": [
        "attribution",
        "bounds",
        "detect_retina",
        "max_native_zoom",
        "max_zoom",
        "min_native_zoom",
        "min_zoom",
        "no_wrap",
        "tile_size",
        "tms"
       ],
       "url": "https://a.basemaps.cartocdn.com/light_nolabels/{z}/{x}/{y}.png"
      }
     },
     "bc8e61e363d742b7a89684402f8e947b": {
      "model_module": "@jupyter-widgets/base",
      "model_module_version": "1.2.0",
      "model_name": "LayoutModel",
      "state": {}
     },
     "bd1a1990288147a1b0a167d67bc748a0": {
      "model_module": "@jupyter-widgets/base",
      "model_module_version": "1.2.0",
      "model_name": "LayoutModel",
      "state": {}
     },
     "bd70f9877c3b436fbc92bf6f9317736c": {
      "model_module": "jupyter-leaflet",
      "model_module_version": "^0.17.0",
      "model_name": "LeafletTileLayerModel",
      "state": {
       "_model_module_version": "^0.17.0",
       "_view_module_version": "^0.17.0",
       "attribution": "(C) OpenStreetMap contributors (C) CARTO",
       "max_zoom": 20,
       "name": "CartoDB.PositronOnlyLabels",
       "options": [
        "attribution",
        "bounds",
        "detect_retina",
        "max_native_zoom",
        "max_zoom",
        "min_native_zoom",
        "min_zoom",
        "no_wrap",
        "tile_size",
        "tms"
       ],
       "url": "https://a.basemaps.cartocdn.com/light_only_labels/{z}/{x}/{y}.png"
      }
     },
     "bd8c363686a94d2585fc4adce8f4c21d": {
      "model_module": "@jupyter-widgets/controls",
      "model_module_version": "1.5.0",
      "model_name": "DescriptionStyleModel",
      "state": {
       "description_width": ""
      }
     },
     "bef5559d7893424ab32e1a3eee14bdc5": {
      "model_module": "jupyter-leaflet",
      "model_module_version": "^0.17.0",
      "model_name": "LeafletTileLayerModel",
      "state": {
       "_model_module_version": "^0.17.0",
       "_view_module_version": "^0.17.0",
       "attribution": "Map tiles by Stamen Design, CC BY 3.0 -- Map data (C) OpenStreetMap contributors",
       "max_zoom": 20,
       "name": "Stamen.TonerLabels",
       "options": [
        "attribution",
        "bounds",
        "detect_retina",
        "max_native_zoom",
        "max_zoom",
        "min_native_zoom",
        "min_zoom",
        "no_wrap",
        "tile_size",
        "tms"
       ],
       "url": "https://stamen-tiles-a.a.ssl.fastly.net/toner-labels/{z}/{x}/{y}.png"
      }
     },
     "c01a0a57f5dd419a94d023ad92a96dfd": {
      "model_module": "jupyter-leaflet",
      "model_module_version": "^0.17.0",
      "model_name": "LeafletTileLayerModel",
      "state": {
       "_model_module_version": "^0.17.0",
       "_view_module_version": "^0.17.0",
       "attribution": "![](https://docs.onemap.sg/maps/images/oneMap64-01.png) New OneMap | Map data (C) contributors, Singapore Land Authority",
       "name": "OneMapSG.Night",
       "options": [
        "attribution",
        "bounds",
        "detect_retina",
        "max_native_zoom",
        "max_zoom",
        "min_native_zoom",
        "min_zoom",
        "no_wrap",
        "tile_size",
        "tms"
       ],
       "url": "https://maps-a.onemap.sg/v3/Night/{z}/{x}/{y}.png"
      }
     },
     "c17495a19f0a4bd0b0e1401d993cba53": {
      "model_module": "jupyter-leaflet",
      "model_module_version": "^0.17.0",
      "model_name": "LeafletTileLayerModel",
      "state": {
       "_model_module_version": "^0.17.0",
       "_view_module_version": "^0.17.0",
       "attribution": "(C) Stadia Maps, (C) OpenMapTiles (C) OpenStreetMap contributors",
       "max_zoom": 20,
       "name": "Stadia.OSMBright",
       "options": [
        "attribution",
        "bounds",
        "detect_retina",
        "max_native_zoom",
        "max_zoom",
        "min_native_zoom",
        "min_zoom",
        "no_wrap",
        "tile_size",
        "tms"
       ],
       "url": "https://tiles.stadiamaps.com/tiles/osm_bright/{z}/{x}/{y}.png"
      }
     },
     "c1b4d9592fad466f875aa999e481eff1": {
      "model_module": "@jupyter-widgets/base",
      "model_module_version": "1.2.0",
      "model_name": "LayoutModel",
      "state": {
       "height": "auto",
       "padding": "0px 0px 0px 4px",
       "width": "auto"
      }
     },
     "c1beb228bda94c8c8bdfdfced5e57c73": {
      "model_module": "jupyter-leaflet",
      "model_module_version": "^0.17.0",
      "model_name": "LeafletTileLayerModel",
      "state": {
       "_model_module_version": "^0.17.0",
       "_view_module_version": "^0.17.0",
       "attribution": "(C) OpenStreetMap contributors (C) CARTO",
       "max_zoom": 20,
       "name": "CartoDB.Voyager",
       "options": [
        "attribution",
        "bounds",
        "detect_retina",
        "max_native_zoom",
        "max_zoom",
        "min_native_zoom",
        "min_zoom",
        "no_wrap",
        "tile_size",
        "tms"
       ],
       "url": "https://a.basemaps.cartocdn.com/rastertiles/voyager/{z}/{x}/{y}.png"
      }
     },
     "c346fb51494e46de86617936a6572efa": {
      "model_module": "jupyter-leaflet",
      "model_module_version": "^0.17.0",
      "model_name": "LeafletTileLayerModel",
      "state": {
       "_model_module_version": "^0.17.0",
       "_view_module_version": "^0.17.0",
       "attribution": "Tiles courtesy of the U.S. Geological Survey",
       "max_zoom": 20,
       "name": "USGS.USTopo",
       "options": [
        "attribution",
        "bounds",
        "detect_retina",
        "max_native_zoom",
        "max_zoom",
        "min_native_zoom",
        "min_zoom",
        "no_wrap",
        "tile_size",
        "tms"
       ],
       "url": "https://basemap.nationalmap.gov/arcgis/rest/services/USGSTopo/MapServer/tile/{z}/{y}/{x}"
      }
     },
     "c43c65f282434160ab97cb18a0ddada2": {
      "model_module": "@jupyter-widgets/base",
      "model_module_version": "1.2.0",
      "model_name": "LayoutModel",
      "state": {}
     },
     "c6088608151640a19aa39563d19213f4": {
      "model_module": "@jupyter-widgets/base",
      "model_module_version": "1.2.0",
      "model_name": "LayoutModel",
      "state": {}
     },
     "c609422c59ac4d3bbb68044576b5bd9c": {
      "model_module": "@jupyter-widgets/controls",
      "model_module_version": "1.5.0",
      "model_name": "ButtonModel",
      "state": {
       "description": "Remove transects",
       "layout": "IPY_MODEL_dcea02c965a64208844401232f3a5137",
       "style": "IPY_MODEL_dd41f673f0f8441397fe3389a9d0f278"
      }
     },
     "c6500ede1f1e46da85c1dbfab7280c1e": {
      "model_module": "@jupyter-widgets/controls",
      "model_module_version": "1.5.0",
      "model_name": "DescriptionStyleModel",
      "state": {
       "description_width": ""
      }
     },
     "c711852d138642108fb7b98202d323c8": {
      "model_module": "@jupyter-widgets/base",
      "model_module_version": "1.2.0",
      "model_name": "LayoutModel",
      "state": {
       "height": "auto",
       "padding": "0px 0px 0px 4px",
       "width": "auto"
      }
     },
     "c895ce05e8ce4f19bd49f446490dcfc7": {
      "model_module": "jupyter-leaflet",
      "model_module_version": "^0.17.0",
      "model_name": "LeafletTileLayerModel",
      "state": {
       "_model_module_version": "^0.17.0",
       "_view_module_version": "^0.17.0",
       "attribution": "Map memomaps.de CC-BY-SA, map data (C) OpenStreetMap contributors",
       "name": "OPNVKarte",
       "options": [
        "attribution",
        "bounds",
        "detect_retina",
        "max_native_zoom",
        "max_zoom",
        "min_native_zoom",
        "min_zoom",
        "no_wrap",
        "tile_size",
        "tms"
       ],
       "url": "https://tileserver.memomaps.de/tilegen/{z}/{x}/{y}.png"
      }
     },
     "c896e8f99d6a43b2a6929616e7fd6862": {
      "model_module": "jupyter-leaflet",
      "model_module_version": "^0.17.0",
      "model_name": "LeafletTileLayerModel",
      "state": {
       "_model_module_version": "^0.17.0",
       "_view_module_version": "^0.17.0",
       "attribution": "© swisstopo",
       "name": "SwissFederalGeoportal.NationalMapGrey",
       "options": [
        "attribution",
        "bounds",
        "detect_retina",
        "max_native_zoom",
        "max_zoom",
        "min_native_zoom",
        "min_zoom",
        "no_wrap",
        "tile_size",
        "tms"
       ],
       "url": "https://wmts.geo.admin.ch/1.0.0/ch.swisstopo.pixelkarte-grau/default/current/3857/{z}/{x}/{y}.jpeg"
      }
     },
     "cade8466bb86465c8fb58e31996a0b43": {
      "model_module": "jupyter-leaflet",
      "model_module_version": "^0.17.0",
      "model_name": "LeafletTileLayerModel",
      "state": {
       "_model_module_version": "^0.17.0",
       "_view_module_version": "^0.17.0",
       "attribution": "Datenquelle: basemap.at",
       "max_zoom": 20,
       "name": "BasemapAT.basemap",
       "options": [
        "attribution",
        "bounds",
        "detect_retina",
        "max_native_zoom",
        "max_zoom",
        "min_native_zoom",
        "min_zoom",
        "no_wrap",
        "tile_size",
        "tms"
       ],
       "url": "https://maps.wien.gv.at/basemap/geolandbasemap/normal/google3857/{z}/{y}/{x}.png"
      }
     },
     "cb96667a9ade467f9ff247568b985405": {
      "model_module": "@jupyter-widgets/controls",
      "model_module_version": "1.5.0",
      "model_name": "ButtonStyleModel",
      "state": {}
     },
     "cbce148539b24a9e9dcc88ee12d730ec": {
      "model_module": "@jupyter-widgets/base",
      "model_module_version": "1.2.0",
      "model_name": "LayoutModel",
      "state": {
       "border": "1px solid black"
      }
     },
     "cc0f47cb87f04ae280fcec6cb1088472": {
      "model_module": "@jupyter-widgets/controls",
      "model_module_version": "1.5.0",
      "model_name": "DescriptionStyleModel",
      "state": {
       "description_width": ""
      }
     },
     "cc9fa12123574e66b7f70186dd34e27e": {
      "model_module": "jupyter-leaflet",
      "model_module_version": "^0.17.0",
      "model_name": "LeafletTileLayerModel",
      "state": {
       "_model_module_version": "^0.17.0",
       "_view_module_version": "^0.17.0",
       "attribution": "Map tiles by Stamen Design, CC BY 3.0 -- Map data (C) OpenStreetMap contributors",
       "max_zoom": 20,
       "name": "Stamen.TonerLite",
       "options": [
        "attribution",
        "bounds",
        "detect_retina",
        "max_native_zoom",
        "max_zoom",
        "min_native_zoom",
        "min_zoom",
        "no_wrap",
        "tile_size",
        "tms"
       ],
       "url": "https://stamen-tiles-a.a.ssl.fastly.net/toner-lite/{z}/{x}/{y}.png"
      }
     },
     "ccc1625b628d422c99763dbb9378c0d3": {
      "model_module": "jupyter-leaflet",
      "model_module_version": "^0.17.0",
      "model_name": "LeafletTileLayerModel",
      "state": {
       "_model_module_version": "^0.17.0",
       "_view_module_version": "^0.17.0",
       "attribution": "(C) Stadia Maps, (C) OpenMapTiles (C) OpenStreetMap contributors",
       "max_zoom": 20,
       "name": "Stadia.AlidadeSmoothDark",
       "options": [
        "attribution",
        "bounds",
        "detect_retina",
        "max_native_zoom",
        "max_zoom",
        "min_native_zoom",
        "min_zoom",
        "no_wrap",
        "tile_size",
        "tms"
       ],
       "url": "https://tiles.stadiamaps.com/tiles/alidade_smooth_dark/{z}/{x}/{y}.png"
      }
     },
     "cce2f33a22ce45a1b4a8e22f9f5b720b": {
      "model_module": "jupyter-leaflet",
      "model_module_version": "^0.17.0",
      "model_name": "LeafletTileLayerModel",
      "state": {
       "_model_module_version": "^0.17.0",
       "_view_module_version": "^0.17.0",
       "attribution": "(C) OpenStreetMap contributors (C) CARTO",
       "max_zoom": 20,
       "name": "CartoDB.DarkMatter",
       "options": [
        "attribution",
        "bounds",
        "detect_retina",
        "max_native_zoom",
        "max_zoom",
        "min_native_zoom",
        "min_zoom",
        "no_wrap",
        "tile_size",
        "tms"
       ],
       "url": "https://a.basemaps.cartocdn.com/dark_all/{z}/{x}/{y}.png"
      }
     },
     "cd20cb4681aa419abccae31b600b455d": {
      "model_module": "@jupyter-widgets/controls",
      "model_module_version": "1.5.0",
      "model_name": "DescriptionStyleModel",
      "state": {
       "description_width": ""
      }
     },
     "cde857cf472a4eaa9f36bf7a2d0dc003": {
      "model_module": "@jupyter-widgets/controls",
      "model_module_version": "1.5.0",
      "model_name": "HBoxModel",
      "state": {
       "children": [
        "IPY_MODEL_6f9ffa743a094a1fa129d0a27a9b07a6",
        "IPY_MODEL_28cb552f88b040feabaf9b328fa2908e",
        "IPY_MODEL_eec4d4ffc1f446688877b2efa9a9d44a"
       ],
       "layout": "IPY_MODEL_4627951f12f84a0db422e6ab5190088a"
      }
     },
     "cf0082fe3bc84de881d7c2a70b690949": {
      "model_module": "jupyter-leaflet",
      "model_module_version": "^0.17.0",
      "model_name": "LeafletTileLayerModel",
      "state": {
       "_model_module_version": "^0.17.0",
       "_view_module_version": "^0.17.0",
       "attribution": "Imagery provided by services from the Global Imagery Browse Services (GIBS), operated by the NASA/GSFC/Earth Science Data and Information System (ESDIS) with funding provided by NASA/HQ.",
       "max_zoom": 8,
       "name": "NASAGIBS.ModisTerraSnowCover",
       "options": [
        "attribution",
        "bounds",
        "detect_retina",
        "max_native_zoom",
        "max_zoom",
        "min_native_zoom",
        "min_zoom",
        "no_wrap",
        "tile_size",
        "tms"
       ],
       "url": "https://map1.vis.earthdata.nasa.gov/wmts-webmerc/MODIS_Terra_NDSI_Snow_Cover/default//GoogleMapsCompatible_Level8/{z}/{y}/{x}.png"
      }
     },
     "d03b443d474d4558aa0ce13c4adf7b60": {
      "model_module": "jupyter-leaflet",
      "model_module_version": "^0.17.0",
      "model_name": "LeafletTileLayerModel",
      "state": {
       "_model_module_version": "^0.17.0",
       "_view_module_version": "^0.17.0",
       "attribution": "Map data: (C) OpenStreetMap contributors & ODbL, (C) www.opensnowmap.org CC-BY-SA",
       "name": "OpenSnowMap.pistes",
       "options": [
        "attribution",
        "bounds",
        "detect_retina",
        "max_native_zoom",
        "max_zoom",
        "min_native_zoom",
        "min_zoom",
        "no_wrap",
        "tile_size",
        "tms"
       ],
       "url": "https://tiles.opensnowmap.org/pistes/{z}/{x}/{y}.png"
      }
     },
     "d08d236aed0c419e836552c80c10b978": {
      "model_module": "jupyter-leaflet",
      "model_module_version": "^0.17.0",
      "model_name": "LeafletTileLayerModel",
      "state": {
       "_model_module_version": "^0.17.0",
       "_view_module_version": "^0.17.0",
       "attribution": "Justice Map",
       "max_zoom": 22,
       "name": "JusticeMap.plurality",
       "options": [
        "attribution",
        "bounds",
        "detect_retina",
        "max_native_zoom",
        "max_zoom",
        "min_native_zoom",
        "min_zoom",
        "no_wrap",
        "tile_size",
        "tms"
       ],
       "url": "https://www.justicemap.org/tile/county/plural/{z}/{x}/{y}.png"
      }
     },
     "d1491324846945c9a81d12c053745927": {
      "model_module": "@jupyter-widgets/controls",
      "model_module_version": "1.5.0",
      "model_name": "HTMLModel",
      "state": {
       "layout": "IPY_MODEL_0d0644dda04e4333a62f7d1694911e81",
       "style": "IPY_MODEL_83a7ad10940e4ea6b6902ceaea4e7608",
       "value": "<b>Pick multiple satellites by holding the control key:</b>         <br> - images prior to 2022/01/01 will be downloaded from Collection 1         <br> - images after 2022/01/01 will be automatically downloaded from Collection 2         <br> C01: LandSat Collection 1 : All dates before 2022/01/01        <br> C02: LandSat Collection 2 : All dates after 2022/01/01         <br> - Landsat 9 is only available in C02"
      }
     },
     "d3cdaff5b9b141afabc94fd8aed5493d": {
      "model_module": "@jupyter-widgets/controls",
      "model_module_version": "1.5.0",
      "model_name": "ButtonModel",
      "state": {
       "description": "Clear TextBox",
       "layout": "IPY_MODEL_08465afa767f459a9b893a3b511d3e0e",
       "style": "IPY_MODEL_e02bfbeab7d74ab0803c4a887182b46b"
      }
     },
     "d42ecf5c06644a64b2f76da36f7038c0": {
      "model_module": "jupyter-leaflet",
      "model_module_version": "^0.17.0",
      "model_name": "LeafletTileLayerModel",
      "state": {
       "_model_module_version": "^0.17.0",
       "_view_module_version": "^0.17.0",
       "attribution": "![](https://docs.onemap.sg/maps/images/oneMap64-01.png) New OneMap | Map data (C) contributors, Singapore Land Authority",
       "name": "OneMapSG.Default",
       "options": [
        "attribution",
        "bounds",
        "detect_retina",
        "max_native_zoom",
        "max_zoom",
        "min_native_zoom",
        "min_zoom",
        "no_wrap",
        "tile_size",
        "tms"
       ],
       "url": "https://maps-a.onemap.sg/v3/Default/{z}/{x}/{y}.png"
      }
     },
     "d4350d4af7c0440ebbcac42f7b953642": {
      "model_module": "@jupyter-widgets/base",
      "model_module_version": "1.2.0",
      "model_name": "LayoutModel",
      "state": {}
     },
     "d5af15978be24494b99fe524374acea8": {
      "model_module": "@jupyter-widgets/controls",
      "model_module_version": "1.5.0",
      "model_name": "VBoxModel",
      "state": {
       "_view_count": 1,
       "children": [
        "IPY_MODEL_67ef1e5157b2470796b47d2f9fab5a1f"
       ],
       "layout": "IPY_MODEL_bc8e61e363d742b7a89684402f8e947b"
      }
     },
     "d5dc10b7b702400393c628ae0494b345": {
      "model_module": "@jupyter-widgets/base",
      "model_module_version": "1.2.0",
      "model_name": "LayoutModel",
      "state": {}
     },
     "d73a91b2051f475b9c2e7bf74fac37d1": {
      "model_module": "@jupyter-widgets/controls",
      "model_module_version": "1.5.0",
      "model_name": "ToggleButtonModel",
      "state": {
       "button_style": "primary",
       "icon": "question",
       "layout": "IPY_MODEL_9994c720c31f4db5a5d2fbbb3e83f83a",
       "style": "IPY_MODEL_cc0f47cb87f04ae280fcec6cb1088472",
       "tooltip": "Get help"
      }
     },
     "d8bb87de38224c6da01c911ccc5c9723": {
      "model_module": "@jupyter-widgets/controls",
      "model_module_version": "1.5.0",
      "model_name": "ButtonModel",
      "state": {
       "description": "Generate ROI",
       "layout": "IPY_MODEL_4ac3672478ee4d74bf81fa211f82b098",
       "style": "IPY_MODEL_7b598c27878c4280aad28d30f1205082"
      }
     },
     "d91341905fb9438f8f6dc7c6f673483d": {
      "model_module": "@jupyter-widgets/controls",
      "model_module_version": "1.5.0",
      "model_name": "DescriptionStyleModel",
      "state": {
       "description_width": ""
      }
     },
     "d9402e30f0264560a61018afbec6d474": {
      "model_module": "jupyter-leaflet",
      "model_module_version": "^0.17.0",
      "model_name": "LeafletTileLayerModel",
      "state": {
       "_model_module_version": "^0.17.0",
       "_view_module_version": "^0.17.0",
       "attribution": "Map tiles by Stamen Design, CC BY 3.0 -- Map data (C) OpenStreetMap contributors",
       "max_zoom": 20,
       "name": "Stamen.TonerBackground",
       "options": [
        "attribution",
        "bounds",
        "detect_retina",
        "max_native_zoom",
        "max_zoom",
        "min_native_zoom",
        "min_zoom",
        "no_wrap",
        "tile_size",
        "tms"
       ],
       "url": "https://stamen-tiles-a.a.ssl.fastly.net/toner-background/{z}/{x}/{y}.png"
      }
     },
     "d97ed9aad67845b4b0d0f91702be4fdc": {
      "model_module": "jupyter-leaflet",
      "model_module_version": "^0.17.0",
      "model_name": "LeafletTileLayerModel",
      "state": {
       "_model_module_version": "^0.17.0",
       "_view_module_version": "^0.17.0",
       "attribution": "Tiles (C) Esri -- National Geographic, Esri, DeLorme, NAVTEQ, UNEP-WCMC, USGS, NASA, ESA, METI, NRCAN, GEBCO, NOAA, iPC",
       "max_zoom": 16,
       "name": "Esri.NatGeoWorldMap",
       "options": [
        "attribution",
        "bounds",
        "detect_retina",
        "max_native_zoom",
        "max_zoom",
        "min_native_zoom",
        "min_zoom",
        "no_wrap",
        "tile_size",
        "tms"
       ],
       "url": "https://server.arcgisonline.com/ArcGIS/rest/services/NatGeo_World_Map/MapServer/tile/{z}/{y}/{x}"
      }
     },
     "d98c295215e44e50b10252ad526dfef5": {
      "model_module": "@jupyter-widgets/controls",
      "model_module_version": "1.5.0",
      "model_name": "ButtonModel",
      "state": {
       "description": "Remove saved ROIs",
       "layout": "IPY_MODEL_95e4e3245391401581a568776259ff56",
       "style": "IPY_MODEL_f593b9c8e7fa4e22ac7464e949fd6c06"
      }
     },
     "d9d83fab2ccf45a0a180ae4eaf6c8dd8": {
      "model_module": "jupyter-leaflet",
      "model_module_version": "^0.17.0",
      "model_name": "LeafletScaleControlModel",
      "state": {
       "_model_module_version": "^0.17.0",
       "_view_module_version": "^0.17.0",
       "imperial": true,
       "max_width": 100,
       "metric": true,
       "options": [
        "imperial",
        "max_width",
        "metric",
        "position",
        "update_when_idle"
       ],
       "position": "bottomleft",
       "update_when_idle": false
      }
     },
     "db15c6a3984944c7a9d035cff3090e58": {
      "model_module": "@jupyter-widgets/controls",
      "model_module_version": "1.5.0",
      "model_name": "DescriptionStyleModel",
      "state": {
       "description_width": ""
      }
     },
     "dbdc835809974b75b834619deba52636": {
      "model_module": "jupyter-leaflet",
      "model_module_version": "^0.17.0",
      "model_name": "LeafletTileLayerModel",
      "state": {
       "_model_module_version": "^0.17.0",
       "_view_module_version": "^0.17.0",
       "attribution": "Tiles &copy; Esri &mdash; Esri, DeLorme, NAVTEQ, TomTom, Intermap, iPC, USGS, FAO, NPS, NRCAN, GeoBase, Kadaster NL, Ordnance Survey, Esri Japan, METI, Esri China (Hong Kong), and the GIS User Community",
       "max_zoom": 24,
       "name": "Esri.ArcticOceanReference",
       "options": [
        "attribution",
        "bounds",
        "detect_retina",
        "max_native_zoom",
        "max_zoom",
        "min_native_zoom",
        "min_zoom",
        "no_wrap",
        "tile_size",
        "tms"
       ],
       "url": "http://server.arcgisonline.com/ArcGIS/rest/services/Polar/Arctic_Ocean_Reference/MapServer/tile/{z}/{y}/{x}"
      }
     },
     "dcea02c965a64208844401232f3a5137": {
      "model_module": "@jupyter-widgets/base",
      "model_module_version": "1.2.0",
      "model_name": "LayoutModel",
      "state": {}
     },
     "dd01ec520fab496a89d16cfd1118d481": {
      "model_module": "@jupyter-widgets/base",
      "model_module_version": "1.2.0",
      "model_name": "LayoutModel",
      "state": {}
     },
     "dd41f673f0f8441397fe3389a9d0f278": {
      "model_module": "@jupyter-widgets/controls",
      "model_module_version": "1.5.0",
      "model_name": "ButtonStyleModel",
      "state": {}
     },
     "dddb58e4d84e4fc1bc076ebc6e1266ce": {
      "model_module": "jupyter-leaflet",
      "model_module_version": "^0.17.0",
      "model_name": "LeafletTileLayerModel",
      "state": {
       "_model_module_version": "^0.17.0",
       "_view_module_version": "^0.17.0",
       "attribution": "Imagery provided by services from the Global Imagery Browse Services (GIBS), operated by the NASA/GSFC/Earth Science Data and Information System (ESDIS) with funding provided by NASA/HQ.",
       "max_zoom": 7,
       "name": "NASAGIBS.ModisTerraChlorophyll",
       "options": [
        "attribution",
        "bounds",
        "detect_retina",
        "max_native_zoom",
        "max_zoom",
        "min_native_zoom",
        "min_zoom",
        "no_wrap",
        "tile_size",
        "tms"
       ],
       "url": "https://map1.vis.earthdata.nasa.gov/wmts-webmerc/MODIS_Terra_Chlorophyll_A/default//GoogleMapsCompatible_Level7/{z}/{y}/{x}.png"
      }
     },
     "ddfafbce8aa941aea79662e49bb9ccee": {
      "model_module": "jupyter-leaflet",
      "model_module_version": "^0.17.0",
      "model_name": "LeafletTileLayerModel",
      "state": {
       "_model_module_version": "^0.17.0",
       "_view_module_version": "^0.17.0",
       "attribution": "Map tiles by <a href=\"https://labs.strava.com/heatmap\">Strava 2021</a>",
       "max_zoom": 15,
       "name": "Strava.Water",
       "options": [
        "attribution",
        "bounds",
        "detect_retina",
        "max_native_zoom",
        "max_zoom",
        "min_native_zoom",
        "min_zoom",
        "no_wrap",
        "tile_size",
        "tms"
       ],
       "url": "https://heatmap-external-a.strava.com/tiles/water/blue/{z}/{x}/{y}.png"
      }
     },
     "dedf63d3ab6944428bace61775056438": {
      "model_module": "jupyter-leaflet",
      "model_module_version": "^0.17.0",
      "model_name": "LeafletWMSLayerModel",
      "state": {
       "_model_module_version": "^0.17.0",
       "_view_module_version": "^0.17.0",
       "attribution": "MRLC",
       "crs": {
        "custom": false,
        "name": "EPSG3857"
       },
       "format": "image/png",
       "layers": "NLCD_2001_Land_Cover_L48",
       "name": "NLCD 2001 CONUS Land Cover",
       "options": [
        "attribution",
        "bounds",
        "detect_retina",
        "format",
        "layers",
        "max_native_zoom",
        "max_zoom",
        "min_native_zoom",
        "min_zoom",
        "no_wrap",
        "styles",
        "tile_size",
        "tms",
        "transparent",
        "uppercase"
       ],
       "transparent": true,
       "url": "https://www.mrlc.gov/geoserver/mrlc_display/NLCD_2001_Land_Cover_L48/wms?"
      }
     },
     "df2432ef47f8472e8cd85e37c4d27899": {
      "model_module": "jupyter-leaflet",
      "model_module_version": "^0.17.0",
      "model_name": "LeafletTileLayerModel",
      "state": {
       "_model_module_version": "^0.17.0",
       "_view_module_version": "^0.17.0",
       "attribution": "Tiles courtesy of the U.S. Geological Survey",
       "max_zoom": 20,
       "name": "USGS.USImagery",
       "options": [
        "attribution",
        "bounds",
        "detect_retina",
        "max_native_zoom",
        "max_zoom",
        "min_native_zoom",
        "min_zoom",
        "no_wrap",
        "tile_size",
        "tms"
       ],
       "url": "https://basemap.nationalmap.gov/arcgis/rest/services/USGSImageryOnly/MapServer/tile/{z}/{y}/{x}"
      }
     },
     "dfe3340ba2f24bfda6c88aa783faee3d": {
      "model_module": "jupyter-leaflet",
      "model_module_version": "^0.17.0",
      "model_name": "LeafletTileLayerModel",
      "state": {
       "_model_module_version": "^0.17.0",
       "_view_module_version": "^0.17.0",
       "attribution": "(C) Stadia Maps, (C) OpenMapTiles (C) OpenStreetMap contributors",
       "max_zoom": 20,
       "name": "Stadia.Outdoors",
       "options": [
        "attribution",
        "bounds",
        "detect_retina",
        "max_native_zoom",
        "max_zoom",
        "min_native_zoom",
        "min_zoom",
        "no_wrap",
        "tile_size",
        "tms"
       ],
       "url": "https://tiles.stadiamaps.com/tiles/outdoors/{z}/{x}/{y}.png"
      }
     },
     "e016a702c1554c1bbe102e329427b11a": {
      "model_module": "@jupyter-widgets/base",
      "model_module_version": "1.2.0",
      "model_name": "LayoutModel",
      "state": {}
     },
     "e02bfbeab7d74ab0803c4a887182b46b": {
      "model_module": "@jupyter-widgets/controls",
      "model_module_version": "1.5.0",
      "model_name": "ButtonStyleModel",
      "state": {}
     },
     "e04b477b436545f38d86c183d25e6318": {
      "model_module": "jupyter-leaflet",
      "model_module_version": "^0.17.0",
      "model_name": "LeafletTileLayerModel",
      "state": {
       "_model_module_version": "^0.17.0",
       "_view_module_version": "^0.17.0",
       "attribution": "Tiles (C) Esri -- Source: Esri, DeLorme, NAVTEQ, USGS, Intermap, iPC, NRCAN, Esri Japan, METI, Esri China (Hong Kong), Esri (Thailand), TomTom, 2012",
       "max_zoom": 22,
       "name": "Esri.WorldStreetMap",
       "options": [
        "attribution",
        "bounds",
        "detect_retina",
        "max_native_zoom",
        "max_zoom",
        "min_native_zoom",
        "min_zoom",
        "no_wrap",
        "tile_size",
        "tms"
       ],
       "url": "https://server.arcgisonline.com/ArcGIS/rest/services/World_Street_Map/MapServer/tile/{z}/{y}/{x}"
      }
     },
     "e0a12e68d1574cbda0fb2573a1fc95c3": {
      "model_module": "@jupyter-widgets/controls",
      "model_module_version": "1.5.0",
      "model_name": "ButtonModel",
      "state": {
       "description": "Remove bbox",
       "layout": "IPY_MODEL_dd01ec520fab496a89d16cfd1118d481",
       "style": "IPY_MODEL_e653f1245883439092e5480d1341c39f"
      }
     },
     "e0b89fdf4c7542a3853b1fecace5fb91": {
      "model_module": "@jupyter-widgets/controls",
      "model_module_version": "1.5.0",
      "model_name": "DescriptionStyleModel",
      "state": {
       "description_width": ""
      }
     },
     "e1ad105e2c684557a5caee1cd5bdd443": {
      "model_module": "@jupyter-widgets/base",
      "model_module_version": "1.2.0",
      "model_name": "LayoutModel",
      "state": {
       "height": "auto",
       "padding": "0px 0px 0px 4px",
       "width": "auto"
      }
     },
     "e271821e863a449dafc1dad33909518e": {
      "model_module": "@jupyter-widgets/base",
      "model_module_version": "1.2.0",
      "model_name": "LayoutModel",
      "state": {
       "height": "auto",
       "padding": "0px 0px 0px 4px",
       "width": "auto"
      }
     },
     "e4899c6daf42410cb328ff9981164f73": {
      "model_module": "@jupyter-widgets/base",
      "model_module_version": "1.2.0",
      "model_name": "LayoutModel",
      "state": {
       "padding": "10px"
      }
     },
     "e48e4f87d3264411862b7a749f244317": {
      "model_module": "@jupyter-widgets/base",
      "model_module_version": "1.2.0",
      "model_name": "LayoutModel",
      "state": {}
     },
     "e58473a1eaa54aebb2602865a622b567": {
      "model_module": "@jupyter-widgets/base",
      "model_module_version": "1.2.0",
      "model_name": "LayoutModel",
      "state": {
       "height": "600px",
       "width": "100%"
      }
     },
     "e5b86f99f0aa4dc4bbc125474faaf07d": {
      "model_module": "@jupyter-widgets/output",
      "model_module_version": "1.0.0",
      "model_name": "OutputModel",
      "state": {
       "layout": "IPY_MODEL_99d5a0d17cda4a568857a1c9c56814ae",
       "outputs": [
        {
         "name": "stdout",
         "output_type": "stream",
         "text": "Called Run Model\nNot using the GPU\n\n outfile: ./CoastSeg/downloaded_models/landsat_6229071\\rgb\n"
        },
        {
         "data": {
          "application/vnd.jupyter.widget-view+json": {
           "model_id": "cde857cf472a4eaa9f36bf7a2d0dc003",
           "version_major": 2,
           "version_minor": 0
          },
          "text/plain": "  0%|          | 0/7 [00:00<?, ?it/s]"
         },
         "metadata": {},
         "output_type": "display_data"
        },
        {
         "name": "stdout",
         "output_type": "stream",
         "text": "1/1 [==============================] - 2s 2s/step\n1/1 [==============================] - 1s 1s/step\n1/1 [==============================] - 1s 1s/step\n1/1 [==============================] - 1s 967ms/step\n1/1 [==============================] - 1s 971ms/step\n1/1 [==============================] - 1s 959ms/step\n1/1 [==============================] - 1s 1s/step\n1/1 [==============================] - 1s 982ms/step\n1/1 [==============================] - 1s 1s/step\n1/1 [==============================] - 1s 999ms/step\n1/1 [==============================] - 1s 984ms/step\n1/1 [==============================] - 1s 984ms/step\n1/1 [==============================] - 1s 968ms/step\n1/1 [==============================] - 1s 1s/step\n1/1 [==============================] - 1s 982ms/step\n1/1 [==============================] - 1s 953ms/step\n1/1 [==============================] - 1s 961ms/step\n1/1 [==============================] - 1s 954ms/step\n1/1 [==============================] - 1s 969ms/step\n1/1 [==============================] - 1s 967ms/step\n1/1 [==============================] - 1s 962ms/step\n"
        }
       ]
      }
     },
     "e653f1245883439092e5480d1341c39f": {
      "model_module": "@jupyter-widgets/controls",
      "model_module_version": "1.5.0",
      "model_name": "ButtonStyleModel",
      "state": {}
     },
     "e712af90dd92465c82c88971cabaa8c0": {
      "model_module": "jupyter-leaflet",
      "model_module_version": "^0.17.0",
      "model_name": "LeafletTileLayerModel",
      "state": {
       "_model_module_version": "^0.17.0",
       "_view_module_version": "^0.17.0",
       "attribution": "(C) OpenStreetMap contributors (C) CARTO",
       "max_zoom": 20,
       "name": "CartoDB.VoyagerLabelsUnder",
       "options": [
        "attribution",
        "bounds",
        "detect_retina",
        "max_native_zoom",
        "max_zoom",
        "min_native_zoom",
        "min_zoom",
        "no_wrap",
        "tile_size",
        "tms"
       ],
       "url": "https://a.basemaps.cartocdn.com/rastertiles/voyager_labels_under/{z}/{x}/{y}.png"
      }
     },
     "e9675ee086294297bc693a51e4b749b0": {
      "model_module": "@jupyter-widgets/controls",
      "model_module_version": "1.5.0",
      "model_name": "ButtonStyleModel",
      "state": {}
     },
     "eb3f133dd8dd4e43ae4e3e7360c9ad56": {
      "model_module": "@jupyter-widgets/base",
      "model_module_version": "1.2.0",
      "model_name": "LayoutModel",
      "state": {}
     },
     "eb8126bbecba419fb3601f8b8cd3d31c": {
      "model_module": "@jupyter-widgets/controls",
      "model_module_version": "1.5.0",
      "model_name": "ToggleButtonModel",
      "state": {
       "button_style": "primary",
       "icon": "folder-open",
       "layout": "IPY_MODEL_e271821e863a449dafc1dad33909518e",
       "style": "IPY_MODEL_445317e8a7fe41c8a1ccc2320ff4e949",
       "tooltip": "Open local vector/raster data"
      }
     },
     "ebbb94ae0a084179aad4bce67b53a4df": {
      "model_module": "@jupyter-widgets/controls",
      "model_module_version": "1.5.0",
      "model_name": "ToggleButtonModel",
      "state": {
       "button_style": "primary",
       "icon": "picture-o",
       "layout": "IPY_MODEL_00e10ff3c4f84e668c8082463e6033f1",
       "style": "IPY_MODEL_5238a152c9f5415da11c9bcd5c1add4c",
       "tooltip": "Open COG/STAC dataset"
      }
     },
     "eec4d4ffc1f446688877b2efa9a9d44a": {
      "model_module": "@jupyter-widgets/controls",
      "model_module_version": "1.5.0",
      "model_name": "HTMLModel",
      "state": {
       "layout": "IPY_MODEL_1098d1658c0144079f4b8e5182b71bda",
       "style": "IPY_MODEL_b84a7b6a057740ea87a7d383d0135524",
       "value": " 7/7 [00:32&lt;00:00,  4.43s/it]"
      }
     },
     "efb22bd7912040b5986719f2b92a51a7": {
      "model_module": "@jupyter-widgets/controls",
      "model_module_version": "1.5.0",
      "model_name": "DescriptionStyleModel",
      "state": {
       "description_width": ""
      }
     },
     "f020db70af7045c1bafde610903fc6c6": {
      "model_module": "jupyter-leaflet",
      "model_module_version": "^0.17.0",
      "model_name": "LeafletTileLayerModel",
      "state": {
       "_model_module_version": "^0.17.0",
       "_view_module_version": "^0.17.0",
       "attribution": "Map data: (C) OpenStreetMap contributors | Map style: (C) OpenRailwayMap (CC-BY-SA)",
       "max_zoom": 19,
       "name": "OpenRailwayMap",
       "options": [
        "attribution",
        "bounds",
        "detect_retina",
        "max_native_zoom",
        "max_zoom",
        "min_native_zoom",
        "min_zoom",
        "no_wrap",
        "tile_size",
        "tms"
       ],
       "url": "https://a.tiles.openrailwaymap.org/standard/{z}/{x}/{y}.png"
      }
     },
     "f0e4b54076ad42a691703f1a820a2858": {
      "model_module": "jupyter-leaflet",
      "model_module_version": "^0.17.0",
      "model_name": "LeafletWMSLayerModel",
      "state": {
       "_model_module_version": "^0.17.0",
       "_view_module_version": "^0.17.0",
       "attribution": "MRLC",
       "crs": {
        "custom": false,
        "name": "EPSG3857"
       },
       "format": "image/png",
       "layers": "NLCD_2016_Land_Cover_L48",
       "name": "NLCD 2016 CONUS Land Cover",
       "options": [
        "attribution",
        "bounds",
        "detect_retina",
        "format",
        "layers",
        "max_native_zoom",
        "max_zoom",
        "min_native_zoom",
        "min_zoom",
        "no_wrap",
        "styles",
        "tile_size",
        "tms",
        "transparent",
        "uppercase"
       ],
       "transparent": true,
       "url": "https://www.mrlc.gov/geoserver/mrlc_display/NLCD_2016_Land_Cover_L48/wms?"
      }
     },
     "f16330dd53f84d4fb97b0404dd5d353c": {
      "model_module": "@jupyter-widgets/controls",
      "model_module_version": "1.5.0",
      "model_name": "ToggleButtonModel",
      "state": {
       "button_style": "primary",
       "icon": "download",
       "layout": "IPY_MODEL_c711852d138642108fb7b98202d323c8",
       "style": "IPY_MODEL_2ec5e915782546afa09dee1827afe988",
       "tooltip": "Download OSM data"
      }
     },
     "f1d7d87c640a4205a02d6d1ae1049aba": {
      "model_module": "jupyter-leaflet",
      "model_module_version": "^0.17.0",
      "model_name": "LeafletTileLayerModel",
      "state": {
       "_model_module_version": "^0.17.0",
       "_view_module_version": "^0.17.0",
       "attribution": "Map tiles by Stamen Design, CC BY 3.0 -- Map data (C) OpenStreetMap contributors",
       "max_zoom": 20,
       "name": "Stamen.Toner",
       "options": [
        "attribution",
        "bounds",
        "detect_retina",
        "max_native_zoom",
        "max_zoom",
        "min_native_zoom",
        "min_zoom",
        "no_wrap",
        "tile_size",
        "tms"
       ],
       "url": "https://stamen-tiles-a.a.ssl.fastly.net/toner/{z}/{x}/{y}.png"
      }
     },
     "f1fb3cb3ddfa4bf8b59c60d7beb66865": {
      "model_module": "@jupyter-widgets/controls",
      "model_module_version": "1.5.0",
      "model_name": "VBoxModel",
      "state": {
       "children": [
        "IPY_MODEL_5eb17dbcc51641a49c4c3837f5b4a081",
        "IPY_MODEL_313bb7c0b885462d9af61522d6146467",
        "IPY_MODEL_b6b4761641c94a6cb8f779baa8a7225e",
        "IPY_MODEL_515e3c3a10bd42cdab41ad970a0a5ebb",
        "IPY_MODEL_a78391c03d4c4952b394eceb9b30a960"
       ],
       "layout": "IPY_MODEL_d4350d4af7c0440ebbcac42f7b953642"
      }
     },
     "f23812077cd4477d9999e2c4addec5ac": {
      "model_module": "jupyter-leaflet",
      "model_module_version": "^0.17.0",
      "model_name": "LeafletWidgetControlModel",
      "state": {
       "_model_module": "jupyter-leaflet",
       "_model_module_version": "^0.17.0",
       "_view_count": null,
       "_view_module": "jupyter-leaflet",
       "_view_module_version": "^0.17.0",
       "options": [
        "position",
        "transparent_bg"
       ],
       "position": "topright",
       "widget": "IPY_MODEL_d5af15978be24494b99fe524374acea8"
      }
     },
     "f2bab925321245af90b238b81dc1e3f5": {
      "model_module": "jupyter-leaflet",
      "model_module_version": "^0.17.0",
      "model_name": "LeafletLayersControlModel",
      "state": {
       "_model_module_version": "^0.17.0",
       "_view_module_version": "^0.17.0",
       "options": [
        "position"
       ],
       "position": "topright"
      }
     },
     "f2d44e56ec814117a5ac805355eaf20a": {
      "model_module": "@jupyter-widgets/controls",
      "model_module_version": "1.5.0",
      "model_name": "ToggleButtonModel",
      "state": {
       "button_style": "primary",
       "icon": "adjust",
       "layout": "IPY_MODEL_88d2f740d26a42c784069b7e6feda6fa",
       "style": "IPY_MODEL_26f4c4a33d1a493588bcdfe935103c2c",
       "tooltip": "Planet imagery"
      }
     },
     "f3406e4bf38543af837abac9fdad9acf": {
      "model_module": "@jupyter-widgets/controls",
      "model_module_version": "1.5.0",
      "model_name": "HBoxModel",
      "state": {
       "children": [
        "IPY_MODEL_33de71273f174286b142b634b6ee3b48",
        "IPY_MODEL_67ef1e5157b2470796b47d2f9fab5a1f"
       ],
       "layout": "IPY_MODEL_eb3f133dd8dd4e43ae4e3e7360c9ad56"
      }
     },
     "f44eae2685c047d795852f9df8d7a430": {
      "model_module": "@jupyter-widgets/controls",
      "model_module_version": "1.5.0",
      "model_name": "ToggleButtonModel",
      "state": {
       "button_style": "primary",
       "icon": "eraser",
       "layout": "IPY_MODEL_95e75ab4ad08450abc5c6e5ce01497ab",
       "style": "IPY_MODEL_93b62e21896b4c38af630587fe1aa425",
       "tooltip": "Remove all drawn features"
      }
     },
     "f527ff48a41f4b6dbd7f9990d5d7f168": {
      "model_module": "@jupyter-widgets/base",
      "model_module_version": "1.2.0",
      "model_name": "LayoutModel",
      "state": {}
     },
     "f593b9c8e7fa4e22ac7464e949fd6c06": {
      "model_module": "@jupyter-widgets/controls",
      "model_module_version": "1.5.0",
      "model_name": "ButtonStyleModel",
      "state": {}
     },
     "f5ce584959f342009b112400c6e0f72b": {
      "model_module": "jupyter-leaflet",
      "model_module_version": "^0.17.0",
      "model_name": "LeafletGeoJSONModel",
      "state": {
       "_model_module_version": "^0.17.0",
       "_view_module_version": "^0.17.0",
       "data": {
        "features": [
         {
          "geometry": {
           "coordinates": [
            [
             [
              -121.558644,
              35.99266099999999
             ],
             [
              -121.558644,
              36.02899362563398
             ],
             [
              -121.51372823579402,
              36.02899362563398
             ],
             [
              -121.51372823579402,
              35.99266099999999
             ],
             [
              -121.558644,
              35.99266099999999
             ]
            ]
           ],
           "type": "Polygon"
          },
          "id": "0",
          "properties": {
           "CHLOROPHYLL": 0.873553,
           "CSU_Descriptor": "steeply sloping, straight, medium erodibility, warm temperate dry, low river discharge, moderate wave energy, moderately tidal, euhaline-oxic-moderate to cool, clear, low chlorophyll",
           "CSU_ID": 62191,
           "Cluster": 6,
           "EMU_PHYSICAL": "Euhaline-Oxic-Moderate to Cool",
           "ERODIBILITY": "Medium",
           "GHM": 0.119442,
           "LENGTH_GEO": 809.4293303941587,
           "MAX_SLOPE": 114.768235,
           "MEAN_SIG_WAVEHEIGHT": 1.687268,
           "MasterKey": 2753657,
           "OBJECTID": 2753657,
           "OUTFLOW_DENSITY": 8671.790039,
           "OUTFLOW_DENSITY_RESCALED": 1.0484883786709782e-05,
           "REGIONAL_SINUOSITY": 1.270183,
           "RandomSort": 3110913.78667961,
           "Shape_Length": 0.00883771172510186,
           "TEMP_MOISTURE": "Warm Temperate Dry",
           "TIDAL_RANGE": 2.416656,
           "TURBIDITY": 0.027483,
           "chl_label": "low chlorophyll",
           "id": 0,
           "index_right": 6,
           "river_label": "low river discharge",
           "sinuosity_label": "straight",
           "slope_label": "steeply sloping",
           "style": {
            "color": "black",
            "fillColor": "grey",
            "fillOpacity": 0.1,
            "weight": 3
           },
           "tidal_label": "moderately tidal",
           "turbid_label": "clear",
           "wave_label": "moderate wave energy"
          },
          "type": "Feature"
         },
         {
          "geometry": {
           "coordinates": [
            [
             [
              -121.558644,
              35.99266099999999
             ],
             [
              -121.558644,
              36.02899362563398
             ],
             [
              -121.51372823579402,
              36.02899362563398
             ],
             [
              -121.51372823579402,
              35.99266099999999
             ],
             [
              -121.558644,
              35.99266099999999
             ]
            ]
           ],
           "type": "Polygon"
          },
          "id": "0",
          "properties": {
           "CHLOROPHYLL": 0.873553,
           "CSU_Descriptor": "steeply sloping, straight, medium erodibility, warm temperate dry, low river discharge, moderate wave energy, moderately tidal, euhaline-oxic-moderate to cool, clear, low chlorophyll",
           "CSU_ID": 62191,
           "Cluster": 6,
           "EMU_PHYSICAL": "Euhaline-Oxic-Moderate to Cool",
           "ERODIBILITY": "Medium",
           "GHM": 0.119442,
           "LENGTH_GEO": 809.4293303941587,
           "MAX_SLOPE": 114.768235,
           "MEAN_SIG_WAVEHEIGHT": 1.687268,
           "MasterKey": 2753657,
           "OBJECTID": 2753657,
           "OUTFLOW_DENSITY": 8671.790039,
           "OUTFLOW_DENSITY_RESCALED": 1.0484883786709782e-05,
           "REGIONAL_SINUOSITY": 1.270183,
           "RandomSort": 3110913.78667961,
           "Shape_Length": 0.00883771172510186,
           "TEMP_MOISTURE": "Warm Temperate Dry",
           "TIDAL_RANGE": 2.416656,
           "TURBIDITY": 0.027483,
           "chl_label": "low chlorophyll",
           "id": 1,
           "index_right": 14,
           "river_label": "low river discharge",
           "sinuosity_label": "straight",
           "slope_label": "steeply sloping",
           "style": {
            "color": "black",
            "fillColor": "grey",
            "fillOpacity": 0.1,
            "weight": 3
           },
           "tidal_label": "moderately tidal",
           "turbid_label": "clear",
           "wave_label": "moderate wave energy"
          },
          "type": "Feature"
         },
         {
          "geometry": {
           "coordinates": [
            [
             [
              -121.558644,
              35.99266099999999
             ],
             [
              -121.558644,
              36.02899362563398
             ],
             [
              -121.51372823579402,
              36.02899362563398
             ],
             [
              -121.51372823579402,
              35.99266099999999
             ],
             [
              -121.558644,
              35.99266099999999
             ]
            ]
           ],
           "type": "Polygon"
          },
          "id": "0",
          "properties": {
           "CHLOROPHYLL": 0.873553,
           "CSU_Descriptor": "steeply sloping, straight, medium erodibility, warm temperate dry, low river discharge, moderate wave energy, moderately tidal, euhaline-oxic-moderate to cool, clear, low chlorophyll",
           "CSU_ID": 62191,
           "Cluster": 6,
           "EMU_PHYSICAL": "Euhaline-Oxic-Moderate to Cool",
           "ERODIBILITY": "Medium",
           "GHM": 0.144511,
           "LENGTH_GEO": 809.2201719767945,
           "MAX_SLOPE": 109.272652,
           "MEAN_SIG_WAVEHEIGHT": 1.687268,
           "MasterKey": 2753658,
           "OBJECTID": 2753658,
           "OUTFLOW_DENSITY": 8671.790039,
           "OUTFLOW_DENSITY_RESCALED": 1.0484883786709782e-05,
           "REGIONAL_SINUOSITY": 1.270183,
           "RandomSort": 3366707.6827197,
           "Shape_Length": 0.008735799579888025,
           "TEMP_MOISTURE": "Warm Temperate Dry",
           "TIDAL_RANGE": 2.416656,
           "TURBIDITY": 0.027483,
           "chl_label": "low chlorophyll",
           "id": 2,
           "index_right": 5,
           "river_label": "low river discharge",
           "sinuosity_label": "straight",
           "slope_label": "steeply sloping",
           "style": {
            "color": "black",
            "fillColor": "grey",
            "fillOpacity": 0.1,
            "weight": 3
           },
           "tidal_label": "moderately tidal",
           "turbid_label": "clear",
           "wave_label": "moderate wave energy"
          },
          "type": "Feature"
         },
         {
          "geometry": {
           "coordinates": [
            [
             [
              -121.558644,
              35.99266099999999
             ],
             [
              -121.558644,
              36.02899362563398
             ],
             [
              -121.51372823579402,
              36.02899362563398
             ],
             [
              -121.51372823579402,
              35.99266099999999
             ],
             [
              -121.558644,
              35.99266099999999
             ]
            ]
           ],
           "type": "Polygon"
          },
          "id": "0",
          "properties": {
           "CHLOROPHYLL": 0.873553,
           "CSU_Descriptor": "steeply sloping, straight, medium erodibility, warm temperate dry, low river discharge, moderate wave energy, moderately tidal, euhaline-oxic-moderate to cool, clear, low chlorophyll",
           "CSU_ID": 62191,
           "Cluster": 6,
           "EMU_PHYSICAL": "Euhaline-Oxic-Moderate to Cool",
           "ERODIBILITY": "Medium",
           "GHM": 0.144511,
           "LENGTH_GEO": 809.2201719767945,
           "MAX_SLOPE": 109.272652,
           "MEAN_SIG_WAVEHEIGHT": 1.687268,
           "MasterKey": 2753658,
           "OBJECTID": 2753658,
           "OUTFLOW_DENSITY": 8671.790039,
           "OUTFLOW_DENSITY_RESCALED": 1.0484883786709782e-05,
           "REGIONAL_SINUOSITY": 1.270183,
           "RandomSort": 3366707.6827197,
           "Shape_Length": 0.008735799579888025,
           "TEMP_MOISTURE": "Warm Temperate Dry",
           "TIDAL_RANGE": 2.416656,
           "TURBIDITY": 0.027483,
           "chl_label": "low chlorophyll",
           "id": 3,
           "index_right": 13,
           "river_label": "low river discharge",
           "sinuosity_label": "straight",
           "slope_label": "steeply sloping",
           "style": {
            "color": "black",
            "fillColor": "grey",
            "fillOpacity": 0.1,
            "weight": 3
           },
           "tidal_label": "moderately tidal",
           "turbid_label": "clear",
           "wave_label": "moderate wave energy"
          },
          "type": "Feature"
         },
         {
          "geometry": {
           "coordinates": [
            [
             [
              -121.558644,
              35.99266099999999
             ],
             [
              -121.558644,
              36.02899362563398
             ],
             [
              -121.51372823579402,
              36.02899362563398
             ],
             [
              -121.51372823579402,
              35.99266099999999
             ],
             [
              -121.558644,
              35.99266099999999
             ]
            ]
           ],
           "type": "Polygon"
          },
          "id": "0",
          "properties": {
           "CHLOROPHYLL": 2.417483,
           "CSU_Descriptor": "vertical, straight, medium erodibility, warm temperate dry, low river discharge, moderate wave energy, moderately tidal, euhaline-oxic-moderate to cool, clear, moderate chlorophyll",
           "CSU_ID": 71260,
           "Cluster": 6,
           "EMU_PHYSICAL": "Euhaline-Oxic-Moderate to Cool",
           "ERODIBILITY": "Medium",
           "GHM": 0.133607,
           "LENGTH_GEO": 808.8794813016038,
           "MAX_SLOPE": 318.587599,
           "MEAN_SIG_WAVEHEIGHT": 1.687268,
           "MasterKey": 2753659,
           "OBJECTID": 2753659,
           "OUTFLOW_DENSITY": 8671.790039,
           "OUTFLOW_DENSITY_RESCALED": 1.0484883786709782e-05,
           "REGIONAL_SINUOSITY": 1.270183,
           "RandomSort": 1593234.33411067,
           "Shape_Length": 0.008565231531598157,
           "TEMP_MOISTURE": "Warm Temperate Dry",
           "TIDAL_RANGE": 2.416656,
           "TURBIDITY": 0.027483,
           "chl_label": "moderate chlorophyll",
           "id": 4,
           "index_right": 4,
           "river_label": "low river discharge",
           "sinuosity_label": "straight",
           "slope_label": "vertical",
           "style": {
            "color": "black",
            "fillColor": "grey",
            "fillOpacity": 0.1,
            "weight": 3
           },
           "tidal_label": "moderately tidal",
           "turbid_label": "clear",
           "wave_label": "moderate wave energy"
          },
          "type": "Feature"
         },
         {
          "geometry": {
           "coordinates": [
            [
             [
              -121.558644,
              35.99266099999999
             ],
             [
              -121.558644,
              36.02899362563398
             ],
             [
              -121.51372823579402,
              36.02899362563398
             ],
             [
              -121.51372823579402,
              35.99266099999999
             ],
             [
              -121.558644,
              35.99266099999999
             ]
            ]
           ],
           "type": "Polygon"
          },
          "id": "0",
          "properties": {
           "CHLOROPHYLL": 2.417483,
           "CSU_Descriptor": "vertical, straight, medium erodibility, warm temperate dry, low river discharge, moderate wave energy, moderately tidal, euhaline-oxic-moderate to cool, clear, moderate chlorophyll",
           "CSU_ID": 71260,
           "Cluster": 6,
           "EMU_PHYSICAL": "Euhaline-Oxic-Moderate to Cool",
           "ERODIBILITY": "Medium",
           "GHM": 0.133607,
           "LENGTH_GEO": 808.8794813016038,
           "MAX_SLOPE": 318.587599,
           "MEAN_SIG_WAVEHEIGHT": 1.687268,
           "MasterKey": 2753659,
           "OBJECTID": 2753659,
           "OUTFLOW_DENSITY": 8671.790039,
           "OUTFLOW_DENSITY_RESCALED": 1.0484883786709782e-05,
           "REGIONAL_SINUOSITY": 1.270183,
           "RandomSort": 1593234.33411067,
           "Shape_Length": 0.008565231531598157,
           "TEMP_MOISTURE": "Warm Temperate Dry",
           "TIDAL_RANGE": 2.416656,
           "TURBIDITY": 0.027483,
           "chl_label": "moderate chlorophyll",
           "id": 5,
           "index_right": 12,
           "river_label": "low river discharge",
           "sinuosity_label": "straight",
           "slope_label": "vertical",
           "style": {
            "color": "black",
            "fillColor": "grey",
            "fillOpacity": 0.1,
            "weight": 3
           },
           "tidal_label": "moderately tidal",
           "turbid_label": "clear",
           "wave_label": "moderate wave energy"
          },
          "type": "Feature"
         },
         {
          "geometry": {
           "coordinates": [
            [
             [
              -121.558644,
              35.99266099999999
             ],
             [
              -121.558644,
              36.02899362563398
             ],
             [
              -121.51372823579402,
              36.02899362563398
             ],
             [
              -121.51372823579402,
              35.99266099999999
             ],
             [
              -121.558644,
              35.99266099999999
             ]
            ]
           ],
           "type": "Polygon"
          },
          "id": "0",
          "properties": {
           "CHLOROPHYLL": 2.417483,
           "CSU_Descriptor": "steeply sloping, straight, medium erodibility, warm temperate dry, low river discharge, moderate wave energy, moderately tidal, euhaline-oxic-moderate to cool, clear, moderate chlorophyll",
           "CSU_ID": 70981,
           "Cluster": 6,
           "EMU_PHYSICAL": "Euhaline-Oxic-Moderate to Cool",
           "ERODIBILITY": "Medium",
           "GHM": 0.115889,
           "LENGTH_GEO": 809.0954052047207,
           "MAX_SLOPE": 165.896272,
           "MEAN_SIG_WAVEHEIGHT": 1.687268,
           "MasterKey": 2753660,
           "OBJECTID": 2753660,
           "OUTFLOW_DENSITY": 8671.790039,
           "OUTFLOW_DENSITY_RESCALED": 1.0484883786709782e-05,
           "REGIONAL_SINUOSITY": 1.140924,
           "RandomSort": 3897464.57070746,
           "Shape_Length": 0.008658662143014698,
           "TEMP_MOISTURE": "Warm Temperate Dry",
           "TIDAL_RANGE": 2.416656,
           "TURBIDITY": 0.027483,
           "chl_label": "moderate chlorophyll",
           "id": 6,
           "index_right": 3,
           "river_label": "low river discharge",
           "sinuosity_label": "straight",
           "slope_label": "steeply sloping",
           "style": {
            "color": "black",
            "fillColor": "grey",
            "fillOpacity": 0.1,
            "weight": 3
           },
           "tidal_label": "moderately tidal",
           "turbid_label": "clear",
           "wave_label": "moderate wave energy"
          },
          "type": "Feature"
         },
         {
          "geometry": {
           "coordinates": [
            [
             [
              -121.558644,
              35.99266099999999
             ],
             [
              -121.558644,
              36.02899362563398
             ],
             [
              -121.51372823579402,
              36.02899362563398
             ],
             [
              -121.51372823579402,
              35.99266099999999
             ],
             [
              -121.558644,
              35.99266099999999
             ]
            ]
           ],
           "type": "Polygon"
          },
          "id": "0",
          "properties": {
           "CHLOROPHYLL": 2.417483,
           "CSU_Descriptor": "steeply sloping, straight, medium erodibility, warm temperate dry, low river discharge, moderate wave energy, moderately tidal, euhaline-oxic-moderate to cool, clear, moderate chlorophyll",
           "CSU_ID": 70981,
           "Cluster": 6,
           "EMU_PHYSICAL": "Euhaline-Oxic-Moderate to Cool",
           "ERODIBILITY": "Medium",
           "GHM": 0.115889,
           "LENGTH_GEO": 809.0954052047207,
           "MAX_SLOPE": 165.896272,
           "MEAN_SIG_WAVEHEIGHT": 1.687268,
           "MasterKey": 2753660,
           "OBJECTID": 2753660,
           "OUTFLOW_DENSITY": 8671.790039,
           "OUTFLOW_DENSITY_RESCALED": 1.0484883786709782e-05,
           "REGIONAL_SINUOSITY": 1.140924,
           "RandomSort": 3897464.57070746,
           "Shape_Length": 0.008658662143014698,
           "TEMP_MOISTURE": "Warm Temperate Dry",
           "TIDAL_RANGE": 2.416656,
           "TURBIDITY": 0.027483,
           "chl_label": "moderate chlorophyll",
           "id": 7,
           "index_right": 11,
           "river_label": "low river discharge",
           "sinuosity_label": "straight",
           "slope_label": "steeply sloping",
           "style": {
            "color": "black",
            "fillColor": "grey",
            "fillOpacity": 0.1,
            "weight": 3
           },
           "tidal_label": "moderately tidal",
           "turbid_label": "clear",
           "wave_label": "moderate wave energy"
          },
          "type": "Feature"
         },
         {
          "geometry": {
           "coordinates": [
            [
             [
              -121.558644,
              35.99266099999999
             ],
             [
              -121.558644,
              36.02899362563398
             ],
             [
              -121.51372823579402,
              36.02899362563398
             ],
             [
              -121.51372823579402,
              35.99266099999999
             ],
             [
              -121.558644,
              35.99266099999999
             ]
            ]
           ],
           "type": "Polygon"
          },
          "id": "0",
          "properties": {
           "CHLOROPHYLL": 0.833561,
           "CSU_Descriptor": "steeply sloping, straight, medium erodibility, warm temperate dry, low river discharge, moderate wave energy, moderately tidal, euhaline-oxic-moderate to cool, clear, low chlorophyll",
           "CSU_ID": 62191,
           "Cluster": 6,
           "EMU_PHYSICAL": "Euhaline-Oxic-Moderate to Cool",
           "ERODIBILITY": "Medium",
           "GHM": 0.10134,
           "LENGTH_GEO": 808.6158624684548,
           "MAX_SLOPE": 76.299834,
           "MEAN_SIG_WAVEHEIGHT": 1.687268,
           "MasterKey": 2753661,
           "OBJECTID": 2753661,
           "OUTFLOW_DENSITY": 8671.790039,
           "OUTFLOW_DENSITY_RESCALED": 1.0484883786709782e-05,
           "REGIONAL_SINUOSITY": 1.140924,
           "RandomSort": 3235310.88357964,
           "Shape_Length": 0.008419277882346981,
           "TEMP_MOISTURE": "Warm Temperate Dry",
           "TIDAL_RANGE": 2.416656,
           "TURBIDITY": 0.027483,
           "chl_label": "low chlorophyll",
           "id": 8,
           "index_right": 2,
           "river_label": "low river discharge",
           "sinuosity_label": "straight",
           "slope_label": "steeply sloping",
           "style": {
            "color": "black",
            "fillColor": "grey",
            "fillOpacity": 0.1,
            "weight": 3
           },
           "tidal_label": "moderately tidal",
           "turbid_label": "clear",
           "wave_label": "moderate wave energy"
          },
          "type": "Feature"
         },
         {
          "geometry": {
           "coordinates": [
            [
             [
              -121.558644,
              35.99266099999999
             ],
             [
              -121.558644,
              36.02899362563398
             ],
             [
              -121.51372823579402,
              36.02899362563398
             ],
             [
              -121.51372823579402,
              35.99266099999999
             ],
             [
              -121.558644,
              35.99266099999999
             ]
            ]
           ],
           "type": "Polygon"
          },
          "id": "0",
          "properties": {
           "CHLOROPHYLL": 0.833561,
           "CSU_Descriptor": "steeply sloping, straight, medium erodibility, warm temperate dry, low river discharge, moderate wave energy, moderately tidal, euhaline-oxic-moderate to cool, clear, low chlorophyll",
           "CSU_ID": 62191,
           "Cluster": 6,
           "EMU_PHYSICAL": "Euhaline-Oxic-Moderate to Cool",
           "ERODIBILITY": "Medium",
           "GHM": 0.10134,
           "LENGTH_GEO": 808.6158624684548,
           "MAX_SLOPE": 76.299834,
           "MEAN_SIG_WAVEHEIGHT": 1.687268,
           "MasterKey": 2753661,
           "OBJECTID": 2753661,
           "OUTFLOW_DENSITY": 8671.790039,
           "OUTFLOW_DENSITY_RESCALED": 1.0484883786709782e-05,
           "REGIONAL_SINUOSITY": 1.140924,
           "RandomSort": 3235310.88357964,
           "Shape_Length": 0.008419277882346981,
           "TEMP_MOISTURE": "Warm Temperate Dry",
           "TIDAL_RANGE": 2.416656,
           "TURBIDITY": 0.027483,
           "chl_label": "low chlorophyll",
           "id": 9,
           "index_right": 10,
           "river_label": "low river discharge",
           "sinuosity_label": "straight",
           "slope_label": "steeply sloping",
           "style": {
            "color": "black",
            "fillColor": "grey",
            "fillOpacity": 0.1,
            "weight": 3
           },
           "tidal_label": "moderately tidal",
           "turbid_label": "clear",
           "wave_label": "moderate wave energy"
          },
          "type": "Feature"
         },
         {
          "geometry": {
           "coordinates": [
            [
             [
              -121.558644,
              35.99266099999999
             ],
             [
              -121.558644,
              36.02899362563398
             ],
             [
              -121.51372823579402,
              36.02899362563398
             ],
             [
              -121.51372823579402,
              35.99266099999999
             ],
             [
              -121.558644,
              35.99266099999999
             ]
            ]
           ],
           "type": "Polygon"
          },
          "id": "0",
          "properties": {
           "CHLOROPHYLL": 2.417483,
           "CSU_Descriptor": "steeply sloping, straight, medium erodibility, warm temperate dry, low river discharge, moderate wave energy, moderately tidal, euhaline-oxic-moderate to cool, clear, moderate chlorophyll",
           "CSU_ID": 70981,
           "Cluster": 6,
           "EMU_PHYSICAL": "Euhaline-Oxic-Moderate to Cool",
           "ERODIBILITY": "Medium",
           "GHM": 0.10134,
           "LENGTH_GEO": 808.8271837845471,
           "MAX_SLOPE": 152.033411,
           "MEAN_SIG_WAVEHEIGHT": 1.687268,
           "MasterKey": 2753662,
           "OBJECTID": 2753662,
           "OUTFLOW_DENSITY": 8671.790039,
           "OUTFLOW_DENSITY_RESCALED": 1.0484883786709782e-05,
           "REGIONAL_SINUOSITY": 1.140924,
           "RandomSort": 297054.39133329,
           "Shape_Length": 0.008495092439177234,
           "TEMP_MOISTURE": "Warm Temperate Dry",
           "TIDAL_RANGE": 2.410373,
           "TURBIDITY": 0.024533,
           "chl_label": "moderate chlorophyll",
           "id": 10,
           "index_right": 1,
           "river_label": "low river discharge",
           "sinuosity_label": "straight",
           "slope_label": "steeply sloping",
           "style": {
            "color": "black",
            "fillColor": "grey",
            "fillOpacity": 0.1,
            "weight": 3
           },
           "tidal_label": "moderately tidal",
           "turbid_label": "clear",
           "wave_label": "moderate wave energy"
          },
          "type": "Feature"
         },
         {
          "geometry": {
           "coordinates": [
            [
             [
              -121.558644,
              35.99266099999999
             ],
             [
              -121.558644,
              36.02899362563398
             ],
             [
              -121.51372823579402,
              36.02899362563398
             ],
             [
              -121.51372823579402,
              35.99266099999999
             ],
             [
              -121.558644,
              35.99266099999999
             ]
            ]
           ],
           "type": "Polygon"
          },
          "id": "0",
          "properties": {
           "CHLOROPHYLL": 2.417483,
           "CSU_Descriptor": "steeply sloping, straight, medium erodibility, warm temperate dry, low river discharge, moderate wave energy, moderately tidal, euhaline-oxic-moderate to cool, clear, moderate chlorophyll",
           "CSU_ID": 70981,
           "Cluster": 6,
           "EMU_PHYSICAL": "Euhaline-Oxic-Moderate to Cool",
           "ERODIBILITY": "Medium",
           "GHM": 0.10134,
           "LENGTH_GEO": 808.8271837845471,
           "MAX_SLOPE": 152.033411,
           "MEAN_SIG_WAVEHEIGHT": 1.687268,
           "MasterKey": 2753662,
           "OBJECTID": 2753662,
           "OUTFLOW_DENSITY": 8671.790039,
           "OUTFLOW_DENSITY_RESCALED": 1.0484883786709782e-05,
           "REGIONAL_SINUOSITY": 1.140924,
           "RandomSort": 297054.39133329,
           "Shape_Length": 0.008495092439177234,
           "TEMP_MOISTURE": "Warm Temperate Dry",
           "TIDAL_RANGE": 2.410373,
           "TURBIDITY": 0.024533,
           "chl_label": "moderate chlorophyll",
           "id": 11,
           "index_right": 9,
           "river_label": "low river discharge",
           "sinuosity_label": "straight",
           "slope_label": "steeply sloping",
           "style": {
            "color": "black",
            "fillColor": "grey",
            "fillOpacity": 0.1,
            "weight": 3
           },
           "tidal_label": "moderately tidal",
           "turbid_label": "clear",
           "wave_label": "moderate wave energy"
          },
          "type": "Feature"
         },
         {
          "geometry": {
           "coordinates": [
            [
             [
              -121.558644,
              35.99266099999999
             ],
             [
              -121.558644,
              36.02899362563398
             ],
             [
              -121.51372823579402,
              36.02899362563398
             ],
             [
              -121.51372823579402,
              35.99266099999999
             ],
             [
              -121.558644,
              35.99266099999999
             ]
            ]
           ],
           "type": "Polygon"
          },
          "id": "0",
          "properties": {
           "CHLOROPHYLL": 2.417483,
           "CSU_Descriptor": "steeply sloping, straight, medium erodibility, warm temperate dry, low river discharge, moderate wave energy, moderately tidal, euhaline-oxic-moderate to cool, clear, moderate chlorophyll",
           "CSU_ID": 70981,
           "Cluster": 6,
           "EMU_PHYSICAL": "Euhaline-Oxic-Moderate to Cool",
           "ERODIBILITY": "Medium",
           "GHM": 0.057545,
           "LENGTH_GEO": 808.7053256467224,
           "MAX_SLOPE": 108.650524,
           "MEAN_SIG_WAVEHEIGHT": 1.687268,
           "MasterKey": 2753663,
           "OBJECTID": 2753663,
           "OUTFLOW_DENSITY": 8671.790039,
           "OUTFLOW_DENSITY_RESCALED": 1.0484883786709782e-05,
           "REGIONAL_SINUOSITY": 1.140924,
           "RandomSort": 2361457.62831946,
           "Shape_Length": 0.008435847190592267,
           "TEMP_MOISTURE": "Warm Temperate Dry",
           "TIDAL_RANGE": 2.410373,
           "TURBIDITY": 0.024533,
           "chl_label": "moderate chlorophyll",
           "id": 12,
           "index_right": 0,
           "river_label": "low river discharge",
           "sinuosity_label": "straight",
           "slope_label": "steeply sloping",
           "style": {
            "color": "black",
            "fillColor": "grey",
            "fillOpacity": 0.1,
            "weight": 3
           },
           "tidal_label": "moderately tidal",
           "turbid_label": "clear",
           "wave_label": "moderate wave energy"
          },
          "type": "Feature"
         },
         {
          "geometry": {
           "coordinates": [
            [
             [
              -121.51372823579402,
              35.99266099999999
             ],
             [
              -121.51372823579402,
              36.02899362563398
             ],
             [
              -121.46881247158805,
              36.02899362563398
             ],
             [
              -121.46881247158805,
              35.99266099999999
             ],
             [
              -121.51372823579402,
              35.99266099999999
             ]
            ]
           ],
           "type": "Polygon"
          },
          "id": "1",
          "properties": {
           "CHLOROPHYLL": 2.417483,
           "CSU_Descriptor": "steeply sloping, straight, medium erodibility, warm temperate dry, low river discharge, moderate wave energy, moderately tidal, euhaline-oxic-moderate to cool, clear, moderate chlorophyll",
           "CSU_ID": 70981,
           "Cluster": 6,
           "EMU_PHYSICAL": "Euhaline-Oxic-Moderate to Cool",
           "ERODIBILITY": "Medium",
           "GHM": 0.057545,
           "LENGTH_GEO": 808.7053256467224,
           "MAX_SLOPE": 108.650524,
           "MEAN_SIG_WAVEHEIGHT": 1.687268,
           "MasterKey": 2753663,
           "OBJECTID": 2753663,
           "OUTFLOW_DENSITY": 8671.790039,
           "OUTFLOW_DENSITY_RESCALED": 1.0484883786709782e-05,
           "REGIONAL_SINUOSITY": 1.140924,
           "RandomSort": 2361457.62831946,
           "Shape_Length": 0.008435847190592267,
           "TEMP_MOISTURE": "Warm Temperate Dry",
           "TIDAL_RANGE": 2.410373,
           "TURBIDITY": 0.024533,
           "chl_label": "moderate chlorophyll",
           "id": 13,
           "index_right": 0,
           "river_label": "low river discharge",
           "sinuosity_label": "straight",
           "slope_label": "steeply sloping",
           "style": {
            "color": "black",
            "fillColor": "grey",
            "fillOpacity": 0.1,
            "weight": 3
           },
           "tidal_label": "moderately tidal",
           "turbid_label": "clear",
           "wave_label": "moderate wave energy"
          },
          "type": "Feature"
         },
         {
          "geometry": {
           "coordinates": [
            [
             [
              -121.558644,
              35.99266099999999
             ],
             [
              -121.558644,
              36.02899362563398
             ],
             [
              -121.51372823579402,
              36.02899362563398
             ],
             [
              -121.51372823579402,
              35.99266099999999
             ],
             [
              -121.558644,
              35.99266099999999
             ]
            ]
           ],
           "type": "Polygon"
          },
          "id": "0",
          "properties": {
           "CHLOROPHYLL": 2.417483,
           "CSU_Descriptor": "steeply sloping, straight, medium erodibility, warm temperate dry, low river discharge, moderate wave energy, moderately tidal, euhaline-oxic-moderate to cool, clear, moderate chlorophyll",
           "CSU_ID": 70981,
           "Cluster": 6,
           "EMU_PHYSICAL": "Euhaline-Oxic-Moderate to Cool",
           "ERODIBILITY": "Medium",
           "GHM": 0.057545,
           "LENGTH_GEO": 808.7053256467224,
           "MAX_SLOPE": 108.650524,
           "MEAN_SIG_WAVEHEIGHT": 1.687268,
           "MasterKey": 2753663,
           "OBJECTID": 2753663,
           "OUTFLOW_DENSITY": 8671.790039,
           "OUTFLOW_DENSITY_RESCALED": 1.0484883786709782e-05,
           "REGIONAL_SINUOSITY": 1.140924,
           "RandomSort": 2361457.62831946,
           "Shape_Length": 0.008435847190592267,
           "TEMP_MOISTURE": "Warm Temperate Dry",
           "TIDAL_RANGE": 2.410373,
           "TURBIDITY": 0.024533,
           "chl_label": "moderate chlorophyll",
           "id": 14,
           "index_right": 17,
           "river_label": "low river discharge",
           "sinuosity_label": "straight",
           "slope_label": "steeply sloping",
           "style": {
            "color": "black",
            "fillColor": "grey",
            "fillOpacity": 0.1,
            "weight": 3
           },
           "tidal_label": "moderately tidal",
           "turbid_label": "clear",
           "wave_label": "moderate wave energy"
          },
          "type": "Feature"
         },
         {
          "geometry": {
           "coordinates": [
            [
             [
              -121.51372823579402,
              35.99266099999999
             ],
             [
              -121.51372823579402,
              36.02899362563398
             ],
             [
              -121.46881247158805,
              36.02899362563398
             ],
             [
              -121.46881247158805,
              35.99266099999999
             ],
             [
              -121.51372823579402,
              35.99266099999999
             ]
            ]
           ],
           "type": "Polygon"
          },
          "id": "1",
          "properties": {
           "CHLOROPHYLL": 2.417483,
           "CSU_Descriptor": "steeply sloping, straight, medium erodibility, warm temperate dry, low river discharge, moderate wave energy, moderately tidal, euhaline-oxic-moderate to cool, clear, moderate chlorophyll",
           "CSU_ID": 70981,
           "Cluster": 6,
           "EMU_PHYSICAL": "Euhaline-Oxic-Moderate to Cool",
           "ERODIBILITY": "Medium",
           "GHM": 0.057545,
           "LENGTH_GEO": 808.7053256467224,
           "MAX_SLOPE": 108.650524,
           "MEAN_SIG_WAVEHEIGHT": 1.687268,
           "MasterKey": 2753663,
           "OBJECTID": 2753663,
           "OUTFLOW_DENSITY": 8671.790039,
           "OUTFLOW_DENSITY_RESCALED": 1.0484883786709782e-05,
           "REGIONAL_SINUOSITY": 1.140924,
           "RandomSort": 2361457.62831946,
           "Shape_Length": 0.008435847190592267,
           "TEMP_MOISTURE": "Warm Temperate Dry",
           "TIDAL_RANGE": 2.410373,
           "TURBIDITY": 0.024533,
           "chl_label": "moderate chlorophyll",
           "id": 15,
           "index_right": 17,
           "river_label": "low river discharge",
           "sinuosity_label": "straight",
           "slope_label": "steeply sloping",
           "style": {
            "color": "black",
            "fillColor": "grey",
            "fillOpacity": 0.1,
            "weight": 3
           },
           "tidal_label": "moderately tidal",
           "turbid_label": "clear",
           "wave_label": "moderate wave energy"
          },
          "type": "Feature"
         },
         {
          "geometry": {
           "coordinates": [
            [
             [
              -121.51372823579402,
              35.99266099999999
             ],
             [
              -121.51372823579402,
              36.02899362563398
             ],
             [
              -121.46881247158805,
              36.02899362563398
             ],
             [
              -121.46881247158805,
              35.99266099999999
             ],
             [
              -121.51372823579402,
              35.99266099999999
             ]
            ]
           ],
           "type": "Polygon"
          },
          "id": "1",
          "properties": {
           "CHLOROPHYLL": 2.417483,
           "CSU_Descriptor": "steeply sloping, straight, medium erodibility, warm temperate dry, low river discharge, moderate wave energy, moderately tidal, euhaline-oxic-moderate to cool, clear, moderate chlorophyll",
           "CSU_ID": 70981,
           "Cluster": 6,
           "EMU_PHYSICAL": "Euhaline-Oxic-Moderate to Cool",
           "ERODIBILITY": "Medium",
           "GHM": 0.089518,
           "LENGTH_GEO": 808.1809419432676,
           "MAX_SLOPE": 165.651852,
           "MEAN_SIG_WAVEHEIGHT": 1.687268,
           "MasterKey": 2753664,
           "OBJECTID": 2753664,
           "OUTFLOW_DENSITY": 8671.790039,
           "OUTFLOW_DENSITY_RESCALED": 1.0484883786709782e-05,
           "REGIONAL_SINUOSITY": 1.140924,
           "RandomSort": 529649.555212264,
           "Shape_Length": 0.00817329505061152,
           "TEMP_MOISTURE": "Warm Temperate Dry",
           "TIDAL_RANGE": 2.410373,
           "TURBIDITY": 0.024533,
           "chl_label": "moderate chlorophyll",
           "id": 16,
           "index_right": 8,
           "river_label": "low river discharge",
           "sinuosity_label": "straight",
           "slope_label": "steeply sloping",
           "style": {
            "color": "black",
            "fillColor": "grey",
            "fillOpacity": 0.1,
            "weight": 3
           },
           "tidal_label": "moderately tidal",
           "turbid_label": "clear",
           "wave_label": "moderate wave energy"
          },
          "type": "Feature"
         },
         {
          "geometry": {
           "coordinates": [
            [
             [
              -121.51372823579402,
              35.99266099999999
             ],
             [
              -121.51372823579402,
              36.02899362563398
             ],
             [
              -121.46881247158805,
              36.02899362563398
             ],
             [
              -121.46881247158805,
              35.99266099999999
             ],
             [
              -121.51372823579402,
              35.99266099999999
             ]
            ]
           ],
           "type": "Polygon"
          },
          "id": "1",
          "properties": {
           "CHLOROPHYLL": 2.417483,
           "CSU_Descriptor": "steeply sloping, straight, medium erodibility, warm temperate dry, low river discharge, moderate wave energy, moderately tidal, euhaline-oxic-moderate to cool, clear, moderate chlorophyll",
           "CSU_ID": 70981,
           "Cluster": 6,
           "EMU_PHYSICAL": "Euhaline-Oxic-Moderate to Cool",
           "ERODIBILITY": "Medium",
           "GHM": 0.089518,
           "LENGTH_GEO": 808.1809419432676,
           "MAX_SLOPE": 165.651852,
           "MEAN_SIG_WAVEHEIGHT": 1.687268,
           "MasterKey": 2753664,
           "OBJECTID": 2753664,
           "OUTFLOW_DENSITY": 8671.790039,
           "OUTFLOW_DENSITY_RESCALED": 1.0484883786709782e-05,
           "REGIONAL_SINUOSITY": 1.140924,
           "RandomSort": 529649.555212264,
           "Shape_Length": 0.00817329505061152,
           "TEMP_MOISTURE": "Warm Temperate Dry",
           "TIDAL_RANGE": 2.410373,
           "TURBIDITY": 0.024533,
           "chl_label": "moderate chlorophyll",
           "id": 17,
           "index_right": 16,
           "river_label": "low river discharge",
           "sinuosity_label": "straight",
           "slope_label": "steeply sloping",
           "style": {
            "color": "black",
            "fillColor": "grey",
            "fillOpacity": 0.1,
            "weight": 3
           },
           "tidal_label": "moderately tidal",
           "turbid_label": "clear",
           "wave_label": "moderate wave energy"
          },
          "type": "Feature"
         },
         {
          "geometry": {
           "coordinates": [
            [
             [
              -121.51372823579402,
              35.99266099999999
             ],
             [
              -121.51372823579402,
              36.02899362563398
             ],
             [
              -121.46881247158805,
              36.02899362563398
             ],
             [
              -121.46881247158805,
              35.99266099999999
             ],
             [
              -121.51372823579402,
              35.99266099999999
             ]
            ]
           ],
           "type": "Polygon"
          },
          "id": "1",
          "properties": {
           "CHLOROPHYLL": 2.417483,
           "CSU_Descriptor": "steeply sloping, straight, medium erodibility, warm temperate dry, low river discharge, moderately high wave energy, moderately tidal, euhaline-oxic-moderate to cool, clear, moderate chlorophyll",
           "CSU_ID": 70983,
           "Cluster": 6,
           "EMU_PHYSICAL": "Euhaline-Oxic-Moderate to Cool",
           "ERODIBILITY": "Medium",
           "GHM": 0.059349,
           "LENGTH_GEO": 807.1623822627223,
           "MAX_SLOPE": 130.210239,
           "MEAN_SIG_WAVEHEIGHT": 2.048518,
           "MasterKey": 2753665,
           "OBJECTID": 2753665,
           "OUTFLOW_DENSITY": 8671.790039,
           "OUTFLOW_DENSITY_RESCALED": 1.0484883786709782e-05,
           "REGIONAL_SINUOSITY": 1.140924,
           "RandomSort": 1240148.43693409,
           "Shape_Length": 0.007642542293224856,
           "TEMP_MOISTURE": "Warm Temperate Dry",
           "TIDAL_RANGE": 2.410373,
           "TURBIDITY": 0.024533,
           "chl_label": "moderate chlorophyll",
           "id": 18,
           "index_right": 7,
           "river_label": "low river discharge",
           "sinuosity_label": "straight",
           "slope_label": "steeply sloping",
           "style": {
            "color": "black",
            "fillColor": "grey",
            "fillOpacity": 0.1,
            "weight": 3
           },
           "tidal_label": "moderately tidal",
           "turbid_label": "clear",
           "wave_label": "moderately high wave energy"
          },
          "type": "Feature"
         },
         {
          "geometry": {
           "coordinates": [
            [
             [
              -121.51372823579402,
              35.99266099999999
             ],
             [
              -121.51372823579402,
              36.02899362563398
             ],
             [
              -121.46881247158805,
              36.02899362563398
             ],
             [
              -121.46881247158805,
              35.99266099999999
             ],
             [
              -121.51372823579402,
              35.99266099999999
             ]
            ]
           ],
           "type": "Polygon"
          },
          "id": "1",
          "properties": {
           "CHLOROPHYLL": 2.417483,
           "CSU_Descriptor": "steeply sloping, straight, medium erodibility, warm temperate dry, low river discharge, moderately high wave energy, moderately tidal, euhaline-oxic-moderate to cool, clear, moderate chlorophyll",
           "CSU_ID": 70983,
           "Cluster": 6,
           "EMU_PHYSICAL": "Euhaline-Oxic-Moderate to Cool",
           "ERODIBILITY": "Medium",
           "GHM": 0.059349,
           "LENGTH_GEO": 807.1623822627223,
           "MAX_SLOPE": 130.210239,
           "MEAN_SIG_WAVEHEIGHT": 2.048518,
           "MasterKey": 2753665,
           "OBJECTID": 2753665,
           "OUTFLOW_DENSITY": 8671.790039,
           "OUTFLOW_DENSITY_RESCALED": 1.0484883786709782e-05,
           "REGIONAL_SINUOSITY": 1.140924,
           "RandomSort": 1240148.43693409,
           "Shape_Length": 0.007642542293224856,
           "TEMP_MOISTURE": "Warm Temperate Dry",
           "TIDAL_RANGE": 2.410373,
           "TURBIDITY": 0.024533,
           "chl_label": "moderate chlorophyll",
           "id": 19,
           "index_right": 15,
           "river_label": "low river discharge",
           "sinuosity_label": "straight",
           "slope_label": "steeply sloping",
           "style": {
            "color": "black",
            "fillColor": "grey",
            "fillOpacity": 0.1,
            "weight": 3
           },
           "tidal_label": "moderately tidal",
           "turbid_label": "clear",
           "wave_label": "moderately high wave energy"
          },
          "type": "Feature"
         }
        ],
        "type": "FeatureCollection"
       },
       "hover_style": {
        "color": "crimson",
        "fillColor": "red"
       },
       "name": "GeoJSON data"
      }
     },
     "f6398adbb81c4a2e8377cd1447f31790": {
      "model_module": "jupyter-leaflet",
      "model_module_version": "^0.17.0",
      "model_name": "LeafletTileLayerModel",
      "state": {
       "_model_module_version": "^0.17.0",
       "_view_module_version": "^0.17.0",
       "attribution": "Map data: (C) OpenSeaMap contributors",
       "max_zoom": 22,
       "name": "OpenSeaMap",
       "options": [
        "attribution",
        "bounds",
        "detect_retina",
        "max_native_zoom",
        "max_zoom",
        "min_native_zoom",
        "min_zoom",
        "no_wrap",
        "tile_size",
        "tms"
       ],
       "url": "https://tiles.openseamap.org/seamark/{z}/{x}/{y}.png"
      }
     },
     "f65f0136af354cf1aa34d5bbcad5d890": {
      "model_module": "jupyter-leaflet",
      "model_module_version": "^0.17.0",
      "model_name": "LeafletTileLayerModel",
      "state": {
       "_model_module_version": "^0.17.0",
       "_view_module_version": "^0.17.0",
       "attribution": "Imagery provided by services from the Global Imagery Browse Services (GIBS), operated by the NASA/GSFC/Earth Science Data and Information System (ESDIS) with funding provided by NASA/HQ.",
       "max_zoom": 6,
       "name": "NASAGIBS.ModisTerraAOD",
       "options": [
        "attribution",
        "bounds",
        "detect_retina",
        "max_native_zoom",
        "max_zoom",
        "min_native_zoom",
        "min_zoom",
        "no_wrap",
        "tile_size",
        "tms"
       ],
       "url": "https://map1.vis.earthdata.nasa.gov/wmts-webmerc/MODIS_Terra_Aerosol/default//GoogleMapsCompatible_Level6/{z}/{y}/{x}.png"
      }
     },
     "f66bc3f8d3f042fda890127aaa66ded5": {
      "model_module": "jupyter-leaflet",
      "model_module_version": "^0.17.0",
      "model_name": "LeafletTileLayerModel",
      "state": {
       "_model_module_version": "^0.17.0",
       "_view_module_version": "^0.17.0",
       "attribution": "![](https://docs.onemap.sg/maps/images/oneMap64-01.png) New OneMap | Map data (C) contributors, Singapore Land Authority",
       "name": "OneMapSG.Grey",
       "options": [
        "attribution",
        "bounds",
        "detect_retina",
        "max_native_zoom",
        "max_zoom",
        "min_native_zoom",
        "min_zoom",
        "no_wrap",
        "tile_size",
        "tms"
       ],
       "url": "https://maps-a.onemap.sg/v3/Grey/{z}/{x}/{y}.png"
      }
     },
     "f8ba35e28b9f486383ae3d8d9b7bf1e8": {
      "model_module": "@jupyter-widgets/base",
      "model_module_version": "1.2.0",
      "model_name": "LayoutModel",
      "state": {
       "height": "auto",
       "padding": "0px 0px 0px 4px",
       "width": "auto"
      }
     },
     "f8d0e64dff16410f86995e6f8d109996": {
      "model_module": "jupyter-leaflet",
      "model_module_version": "^0.17.0",
      "model_name": "LeafletTileLayerModel",
      "state": {
       "_model_module_version": "^0.17.0",
       "_view_module_version": "^0.17.0",
       "attribution": "Datenquelle: basemap.at",
       "max_zoom": 19,
       "name": "BasemapAT.overlay",
       "options": [
        "attribution",
        "bounds",
        "detect_retina",
        "max_native_zoom",
        "max_zoom",
        "min_native_zoom",
        "min_zoom",
        "no_wrap",
        "tile_size",
        "tms"
       ],
       "url": "https://maps.wien.gv.at/basemap/bmapoverlay/normal/google3857/{z}/{y}/{x}.png"
      }
     },
     "f90803d98340445bb339585ab6d0af87": {
      "model_module": "@jupyter-widgets/controls",
      "model_module_version": "1.5.0",
      "model_name": "HBoxModel",
      "state": {
       "children": [
        "IPY_MODEL_a668118459934c1987fc8c591a506ad1",
        "IPY_MODEL_09691b7ff2ea4804ad561e2c3a062fa3"
       ],
       "layout": "IPY_MODEL_bd1a1990288147a1b0a167d67bc748a0"
      }
     },
     "f947430deec641b4aaf9844b4fc0fb9e": {
      "model_module": "jupyter-leaflet",
      "model_module_version": "^0.17.0",
      "model_name": "LeafletTileLayerModel",
      "state": {
       "_model_module_version": "^0.17.0",
       "_view_module_version": "^0.17.0",
       "attribution": "Justice Map",
       "max_zoom": 22,
       "name": "JusticeMap.asian",
       "options": [
        "attribution",
        "bounds",
        "detect_retina",
        "max_native_zoom",
        "max_zoom",
        "min_native_zoom",
        "min_zoom",
        "no_wrap",
        "tile_size",
        "tms"
       ],
       "url": "https://www.justicemap.org/tile/county/asian/{z}/{x}/{y}.png"
      }
     },
     "fa424cb5c9104bbd891da36afaf2b827": {
      "model_module": "jupyter-leaflet",
      "model_module_version": "^0.17.0",
      "model_name": "LeafletMapStyleModel",
      "state": {
       "_model_module_version": "^0.17.0"
      }
     },
     "fa497bd8db974680bb3da1dc6c810401": {
      "model_module": "jupyter-leaflet",
      "model_module_version": "^0.17.0",
      "model_name": "LeafletTileLayerModel",
      "state": {
       "_model_module_version": "^0.17.0",
       "_view_module_version": "^0.17.0",
       "attribution": "Imagery provided by services from the Global Imagery Browse Services (GIBS), operated by the NASA/GSFC/Earth Science Data and Information System (ESDIS) with funding provided by NASA/HQ.",
       "max_zoom": 7,
       "name": "NASAGIBS.ModisTerraLSTDay",
       "options": [
        "attribution",
        "bounds",
        "detect_retina",
        "max_native_zoom",
        "max_zoom",
        "min_native_zoom",
        "min_zoom",
        "no_wrap",
        "tile_size",
        "tms"
       ],
       "url": "https://map1.vis.earthdata.nasa.gov/wmts-webmerc/MODIS_Terra_Land_Surface_Temp_Day/default//GoogleMapsCompatible_Level7/{z}/{y}/{x}.png"
      }
     },
     "fab645a932a24998a63807cffaa460ec": {
      "model_module": "jupyter-leaflet",
      "model_module_version": "^0.17.0",
      "model_name": "LeafletTileLayerModel",
      "state": {
       "_model_module_version": "^0.17.0",
       "_view_module_version": "^0.17.0",
       "attribution": "(C) OpenStreetMap contributors & USGS",
       "max_zoom": 22,
       "name": "MtbMap",
       "options": [
        "attribution",
        "bounds",
        "detect_retina",
        "max_native_zoom",
        "max_zoom",
        "min_native_zoom",
        "min_zoom",
        "no_wrap",
        "tile_size",
        "tms"
       ],
       "url": "http://tile.mtbmap.cz/mtbmap_tiles/{z}/{x}/{y}.png"
      }
     },
     "fc9f0b8127e446008100a835f9018898": {
      "model_module": "@jupyter-widgets/controls",
      "model_module_version": "1.5.0",
      "model_name": "ToggleButtonModel",
      "state": {
       "button_style": "primary",
       "icon": "search-plus",
       "layout": "IPY_MODEL_872dad2c8fa44912bcb3ae5c697235ef",
       "style": "IPY_MODEL_354f70750bb74ed19a439361699715ab",
       "tooltip": "Search features in GeoJSON layer"
      }
     },
     "fd6efd0f8ae54ff78c664cc15a5241d5": {
      "model_module": "@jupyter-widgets/output",
      "model_module_version": "1.0.0",
      "model_name": "OutputModel",
      "state": {
       "layout": "IPY_MODEL_4b3dd4fc139041e2a09ba522aaa81f79"
      }
     },
     "fd8c4a207e5645ec93ca83821763fbe2": {
      "model_module": "@jupyter-widgets/controls",
      "model_module_version": "1.5.0",
      "model_name": "VBoxModel",
      "state": {
       "children": [
        "IPY_MODEL_53e1e451764d476eb28bda25332ed1b8",
        "IPY_MODEL_3f101f8423e14c73983101ce2bddf204",
        "IPY_MODEL_3a388474a2cb4782876405f16bffa455"
       ],
       "layout": "IPY_MODEL_c6088608151640a19aa39563d19213f4"
      }
     },
     "fdeab28a3b3b47a2b11566b6a9ac4108": {
      "model_module": "@jupyter-widgets/base",
      "model_module_version": "1.2.0",
      "model_name": "LayoutModel",
      "state": {
       "margin": "0px 20px 20px 20px"
      }
     }
    },
    "version_major": 2,
    "version_minor": 0
   }
  }
 },
 "nbformat": 4,
 "nbformat_minor": 4
}
