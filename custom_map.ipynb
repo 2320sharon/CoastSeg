{
 "cells": [
  {
   "cell_type": "code",
   "execution_count": 1,
   "metadata": {},
   "outputs": [
    {
     "name": "stdout",
     "output_type": "stream",
     "text": [
      "Version:  2.9.1\n",
      "Eager mode:  True\n",
      "Version:  2.9.1\n",
      "Eager mode:  True\n",
      "GPU name:  []\n",
      "Num GPUs Available:  0\n"
     ]
    }
   ],
   "source": [
    "import warnings\n",
    "# External Imports\n",
    "from IPython.display import display, clear_output\n",
    "from tkinter import Tk,filedialog\n",
    "from ipyleaflet import GeoJSON\n",
    "# import ipywidgets as widgets\n",
    "from ipywidgets import Button, HBox, VBox, Layout, DatePicker, HTML, RadioButtons, SelectMultiple, Output, Checkbox\n",
    "import ipywidgets\n",
    "import os\n",
    "import datetime\n",
    "import glob\n",
    "import json\n",
    "import pandas as pd\n",
    "import geopandas as gpd\n",
    "from google.auth import exceptions as google_auth_exceptions\n",
    "import ee\n",
    "# New imports for coastsat shoreline extraction\n",
    "import numpy as np\n",
    "# Local Imports \n",
    "from CoastSeg import download_roi, file_functions, zoo_model_module, coastseg_map_class\n",
    "from CoastSeg.CoastSat.coastsat import SDS_shoreline,SDS_download\n",
    "# suppress tensorflow warnings\n",
    "os.environ['TF_CPP_MIN_LOG_LEVEL'] = '3'\n",
    "root = Tk()\n",
    "remove_style=dict(button_color = 'red')\n",
    "load_style=dict(button_color = '#69add1')\n",
    "action_style=dict(button_color = '#ae3cf0')\n",
    "save_style=dict(button_color = '#50bf8f')"
   ]
  },
  {
   "cell_type": "markdown",
   "metadata": {},
   "source": [
    "## Authenticate and Initialize with Google Earth Engine (GEE)\n",
    "- Run this cell to initialize with GEE which will allow you to download remote sensing data from GEE.\n",
    "### First Time Users\n",
    "- In order to use Google Earth Engine (GEE) you will need to sign up to request access to use Google Earth Engine.https://signup.earthengine.google.com. You will only need to do this once and it takes only a day to get your account verified.\n",
    "### How `ee.Authenticate()` works\n",
    "- In order to initialize with GEE you will need an authorization token with is obtained by running `ee.Authenticate()`.This token lasts 7 days and during those 7 days you will not need to authenticate with google earth engine with an access code. Once the 7 days are up you will need to reauthenticate to use GEE again.\n"
   ]
  },
  {
   "cell_type": "code",
   "execution_count": 2,
   "metadata": {},
   "outputs": [],
   "source": [
    "try:\n",
    "    ee.Initialize()\n",
    "except google_auth_exceptions.RefreshError as exception:\n",
    "    print(\"Please authenticate with Google:\\n\")\n",
    "    ee.Authenticate()\n",
    "    ee.Initialize()"
   ]
  },
  {
   "cell_type": "code",
   "execution_count": null,
   "metadata": {},
   "outputs": [],
   "source": [
    "# Date Widgets\n",
    "start_date=DatePicker(\n",
    "    description='Start Date',\n",
    "    value=datetime.date(2018, 12, 1),\n",
    "    disabled=False,\n",
    ")\n",
    "end_date=DatePicker(\n",
    "    description='End Date',\n",
    "    value=datetime.date(2019, 3, 1), #2019, 1, 1\n",
    "    disabled=False,\n",
    ")\n",
    "date_instr=HTML(\n",
    "    value=\"<b>Pick a date:</b>\",\n",
    "    layout=Layout(padding='10px')\n",
    ")\n",
    "dates_box=HBox([start_date,end_date])\n",
    "dates_vbox=VBox([date_instr,dates_box])\n",
    "\n",
    "\n",
    "collection_instr=HTML(\n",
    "    value=\"<b>Pick a collection</b>\\\n",
    "        <br> C01: LandSat Collection 1 \\\n",
    "        <br> C02: LandSat Collection 2  [2022/01/01 and beyond] \\\n",
    "        <br>      - Landsat 9 is only available in C02\",\n",
    "    layout=Layout(padding='10px')\n",
    ")\n",
    "collection_radio=RadioButtons(\n",
    "    options=['C01', 'C02'],\n",
    "    value='C01',\n",
    "    description='Collection:',\n",
    "    disabled=False\n",
    ")\n",
    "collection_vbox=VBox([collection_instr,collection_radio])\n",
    "\n",
    "sat_instr=HTML(\n",
    "    value=\"<b>Pick multiple satellites by holding the control key:</b> \\\n",
    "        <br> - images prior to 2022/01/01 will be downloaded from Collection 1 \\\n",
    "        <br> - images after 2022/01/01 will be automatically downloaded from Collection 2 \\\n",
    "        <br> C01: LandSat Collection 1 : All dates before 2022/01/01\\\n",
    "        <br> C02: LandSat Collection 2 : All dates after 2022/01/01 \\\n",
    "        <br> - Landsat 9 is only available in C02\",\n",
    "    layout=Layout(padding='10px')\n",
    ")\n",
    "\n",
    "\n",
    "satellite_selection=SelectMultiple(\n",
    "    options=['L5', 'L7', 'L8', 'S2'],\n",
    "    value=['L8'],\n",
    "    description='Satellites',\n",
    "    disabled=False\n",
    ")\n",
    "sat_vbox = VBox([sat_instr,satellite_selection])\n",
    "\n",
    "def handle_collection_change(change):\n",
    "    if change['new'] == 'C02':\n",
    "        satellite_selection.options=['L5', 'L7', 'L8', 'L9', 'S2']\n",
    "    else:\n",
    "        satellite_selection.options=['L5', 'L7', 'L8', 'S2']\n",
    "\n",
    "collection_radio.observe(handle_collection_change,\"value\")\n",
    "\n",
    "controls_vbox=VBox([dates_vbox, collection_vbox, sat_vbox])\n",
    "controls_vbox"
   ]
  },
  {
   "cell_type": "code",
   "execution_count": null,
   "metadata": {
    "scrolled": true
   },
   "outputs": [],
   "source": [
    "# CoastSat Download Variables\n",
    "# ------------------------------\n",
    "# Save the satellites selected to sat_list\n",
    "if satellite_selection.value:\n",
    "    sat_list = list(satellite_selection.value)\n",
    "elif not satellite_selection.value:\n",
    "    print(\"ERROR: You must select at least one satellite first\")\n",
    "# Save the dates selected by the user as well as the selected collection\n",
    "dates = [str(start_date.value),str(end_date.value)]\n",
    "collection = collection_radio.value\n",
    "print(f\"dates: {dates}\")\n",
    "print(f\"collection: {collection}\")\n",
    "print(f\"sat_list: {sat_list}\")"
   ]
  },
  {
   "cell_type": "markdown",
   "metadata": {},
   "source": [
    "## Settings for CoastSat\n",
    "Modify any of the following setting to determine how data is downloaded from CoastSat"
   ]
  },
  {
   "cell_type": "code",
   "execution_count": null,
   "metadata": {},
   "outputs": [],
   "source": [
    "pre_process_settings = { \n",
    "    # general parameters:\n",
    "    'cloud_thresh': 0.5,        # threshold on maximum cloud cover\n",
    "     'dist_clouds': 300,        # ditance around clouds where shoreline can't be mapped\n",
    "    'output_epsg': 3857,        # epsg code of spatial reference system desired for the output   \n",
    "    # quality control:\n",
    "    'check_detection': True,    # if True, shows each shoreline detection to the user for validation\n",
    "    'adjust_detection': False,  # if True, allows user to adjust the postion of each shoreline by changing the threhold\n",
    "    'save_figure': True,        # if True, saves a figure showing the mapped shoreline for each image\n",
    "    # [ONLY FOR ADVANCED USERS] shoreline detection parameters:\n",
    "    'min_beach_area': 4500,     # minimum area (in metres^2) for an object to be labelled as a beach\n",
    "    'buffer_size': 150,         # radius (in metres) of the buffer around sandy pixels considered in the shoreline detection\n",
    "    'min_length_sl': 200,       # minimum length (in metres) of shoreline perimeter to be valid\n",
    "    'cloud_mask_issue': False,  # switch this parameter to True if sand pixels are masked (in black) on many images  \n",
    "    'sand_color': 'default',    # 'default', 'dark' (for grey/black sand beaches) or 'bright' (for white sand beaches)\n",
    "    'pan_off':'False',          # if True, no pan-sharpening is performed on Landsat 7,8 and 9 imagery\n",
    "}"
   ]
  },
  {
   "cell_type": "markdown",
   "metadata": {},
   "source": [
    "# Create the Map\n",
    "- Create the map object here"
   ]
  },
  {
   "cell_type": "code",
   "execution_count": null,
   "metadata": {},
   "outputs": [],
   "source": [
    "coastseg_map=coastseg_map_class.CoastSeg_Map()"
   ]
  },
  {
   "cell_type": "markdown",
   "metadata": {},
   "source": [
    "# How to Use The Map\n",
    "---\n",
    "1. Use the rectangle tool to draw a bounding box along the coastline.\n",
    "2. Click `Generate ROI` to create ROI rectangles along the coastline in the bounding box. This may take some time.\n",
    "- You should see a coastline appear in yellow and some rectangles along it.\n",
    "3. Click 1 or more ROIs then click `Save ROI` to save these ROIs for downloading later\n",
    "4. You're ready to download the ROIs. Run the next block of code."
   ]
  },
  {
   "cell_type": "code",
   "execution_count": null,
   "metadata": {},
   "outputs": [],
   "source": [
    "# Controls size of ROIs generated on map\n",
    "small_roi_size = 3500\n",
    "large_roi_size = 4000\n",
    "fishnet_sizes={'small':small_roi_size,'large':large_roi_size}\n",
    "\n",
    "# Output wdiget used to print messages and exceptions created by download progress\n",
    "download_view = Output(layout={'border': '1px solid black'})\n",
    "# Output wdiget used to print messages and exceptions created by CoastSeg_Map\n",
    "debug_view = Output(layout={'border': '1px solid black'})\n",
    "\n",
    "\n",
    "# load buttons\n",
    "transects_button = Button(description=\"Load Transects\",style=load_style)\n",
    "shoreline_button = Button(description=\"Load Shoreline\",style=load_style)\n",
    "load_rois_button = Button(description=\"Load rois from file\",style=load_style)\n",
    "load_bbox_button = Button(description=\"Load bbox from file\",style=load_style)\n",
    "\n",
    "# Save and Generate buttons\n",
    "gen_button =Button(description=\"Generate ROI\",style=action_style)\n",
    "save_button = Button(description=\"Save ROI\",style=save_style)\n",
    "save_bbox_button = Button(description=\"Save Bbox\",style=save_style)\n",
    "download_button = Button(description=\"Download ROIs\",style=action_style)\n",
    "\n",
    "\n",
    "# Remove buttons\n",
    "clear_debug_button = Button(description=\"Clear TextBox\")\n",
    "clear_debug_button.style.button_color = '#a3adac'\n",
    "\n",
    "remove_all_button = Button(description=\"Remove all\",style=remove_style)\n",
    "remove_transects_button = Button(description=\"Remove transects\",style=remove_style)\n",
    "remove_bbox_button = Button(description=\"Remove bbox\",style=remove_style)\n",
    "remove_coastline_button = Button(description=\"Remove coastline\",style=remove_style)\n",
    "remove_rois_button = Button(description=\"Remove ROIs\",style=remove_style)\n",
    "\n",
    "# widgets\n",
    "instr_create_roi=HTML(\n",
    "    value=\"<h2><b>Generate ROIs</b></h2> \\\n",
    "        Use the two sliders to control the size of the ROIs generated.<br>\\\n",
    "            <li> No Overlap: Set small slider to 0 and large slider to desired ROI size.</li>\\\n",
    "            <li>Overlap: Set small slider to a value and large slider to desired ROI size.</li>\\\n",
    "            <b>How it Works</b><br> \\\n",
    "            Two fishnets (grids) are created out of ROIs (squares) and placed <br> \\\n",
    "            within the bounding box.You control the size of the individual ROIs <br> \\\n",
    "            that compose the small and large fishnets.<br>\\\n",
    "            The ROIs are measured in meters squared.\",layout=Layout(margin='0px 5px 0px 0px'))\n",
    "\n",
    "instr_save_roi=HTML(\n",
    "    value=\"<h2><b>Save ROIs</b></h2> \\\n",
    "        You must click save ROI before you can download ROIs\\\n",
    "        <br> Use the save buttons to save the ROIs you selected <br>\\\n",
    "           <li> Save BBox: Save the bounding box to a geojson file called 'bbox.geojson'</li>\\\n",
    "            <li> Save ROIs: Save the selected ROI to a geojson file called 'rois.geojson'</li>\\\n",
    "            \",layout=Layout(margin='0px 5px 0px 5px')) #top right bottom left\n",
    "\n",
    "instr_download_roi=HTML(\n",
    "    value=\"<h2><b>Download ROIs</b></h2> \\\n",
    "         <b> You must click 'Save ROI' before you can download ROIs</b> \\\n",
    "          </br> Scroll past the map to see the download progress \\\n",
    "            <li> The data you downloaded will be in the 'data' folder</li> \\\n",
    "            \",layout=Layout(margin='0px 0px 0px 5px'))\n",
    "\n",
    "instr_load_btns=HTML(\n",
    "    value=\"<h2><b>Load ROIs/BBox</b></h2>\\\n",
    "         You can upload ROIs or Bbox geojson file.\\\n",
    "            <li> Load BBox: Load bounding box from geojson file (ex. 'bbox.geojson')</li>\\\n",
    "           <li> Load ROIs: Load ROIs from geojson file (ex. 'rois.geojson')</li>\\\n",
    "            \",layout=Layout(margin='0px 5px 0px 5px')) #top right bottom left\n",
    "\n",
    "slider_style = {'description_width': 'initial'}\n",
    "small_fishnet_slider=ipywidgets.IntSlider(\n",
    "    value=small_roi_size,\n",
    "    min=0,\n",
    "    max=10000,\n",
    "    step=100,\n",
    "    description='Small Fishnet:',\n",
    "    disabled=False,\n",
    "    continuous_update=False,\n",
    "    orientation='horizontal',\n",
    "    readout=True,\n",
    "    readout_format='d',\n",
    "    style=slider_style\n",
    ")\n",
    "\n",
    "large_fishnet_slider=ipywidgets.IntSlider(\n",
    "    value=large_roi_size,\n",
    "    min=1000,\n",
    "    max=10000,\n",
    "    step=100,\n",
    "    description='Large Fishnet:',\n",
    "    disabled=False,\n",
    "    continuous_update=False,\n",
    "    orientation='horizontal',\n",
    "    readout=True,\n",
    "    readout_format='d',\n",
    "    style=slider_style\n",
    ")\n",
    "\n",
    "def handle_small_slider_change(change):\n",
    "    fishnet_sizes['small']=change['new']\n",
    "def handle_large_slider_change(change):\n",
    "    fishnet_sizes['large']=change['new']\n",
    "\n",
    "@download_view.capture(clear_output=True)\n",
    "def download_button_clicked(btn):\n",
    "    \n",
    "    download_view.clear_output()\n",
    "    debug_view.clear_output()\n",
    "    if coastseg_map.selected_ROI:\n",
    "        coastseg_map.m.default_style = {'cursor': 'wait'}\n",
    "        debug_view.append_stdout(\"Scroll down past map to see download progress.\")\n",
    "        try:\n",
    "            download_button_clicked.disabled=True\n",
    "            download_roi.download_imagery(coastseg_map.selected_ROI,pre_process_settings,dates,sat_list,collection)\n",
    "        except google_auth_exceptions.RefreshError as exception:\n",
    "            print(exception)\n",
    "            print(\"Please authenticate with Google using the cell above: \\n  'Authenticate and Initialize with Google Earth Engine (GEE)'\")\n",
    "    else:\n",
    "        debug_view.append_stdout(\"No ROIs were selected. \\nPlease select at least one ROI and click 'Save ROI' to save these ROI for download.\")\n",
    "    download_button_clicked.disabled=False\n",
    "    coastseg_map.m.default_style = {'cursor': 'default'}\n",
    "\n",
    "@debug_view.capture(clear_output=True)\n",
    "def on_shoreline_button_clicked(b):\n",
    "    if coastseg_map.shapes_list == [] :\n",
    "        print(\"Draw a bounding box on the coast first, then click Load Transects.\")\n",
    "    else:\n",
    "        coastseg_map.m.default_style = {'cursor': 'wait'}\n",
    "        debug_view.clear_output(wait=True)\n",
    "        print(\"Loading shoreline please wait.\") \n",
    "        # Add the transects to the map\n",
    "        coastseg_map.load_shoreline_on_map()\n",
    "        print(\"Shoreline loaded.\")\n",
    "        coastseg_map.m.default_style = {'cursor': 'default'}\n",
    "        \n",
    "@debug_view.capture(clear_output=True)\n",
    "def on_load_rois_clicked(button):\n",
    "    # Prompt the user to select a directory of images                              \n",
    "    root.withdraw()                                        # Hide the main window.\n",
    "    root.call('wm', 'attributes', '.', '-topmost', True)   # Raise the root to the top of all windows.\n",
    "    root.filename =  filedialog.askopenfilename(initialdir = os.getcwd(),\n",
    "                                                filetypes=[('geojson','*.geojson')],\n",
    "                                                title = \"Select a geojson file containing rois\")\n",
    "    # Save the filename as an attribute of the button\n",
    "    if root.filename:\n",
    "        roi_file= root.filename\n",
    "        rois = gpd.read_file(roi_file)\n",
    "        # style fishnet and convert to dictionary to be added to map\n",
    "        rois_dict = coastseg_map.style_rois(rois)\n",
    "        # Save the styled fishnet to data for interactivity to be added later\n",
    "        coastseg_map.data = rois_dict\n",
    "        # Add the Clickable ROIs to the map\n",
    "        coastseg_map.add_geojson_layer_to_map()\n",
    "        \n",
    "        print(f\"Loaded the rois from the file :\\n{roi_file} \")\n",
    "    else:\n",
    "        raise Exception(\"You must select a valid geojson file first!\")\n",
    "\n",
    "@debug_view.capture(clear_output=True)\n",
    "def on_load_bbox_clicked(button):\n",
    "    # Prompt the user to select a directory of images                              \n",
    "    root.withdraw()                                        # Hide the main window.\n",
    "    root.call('wm', 'attributes', '.', '-topmost', True)   # Raise the root to the top of all windows.\n",
    "    root.filename =  filedialog.askopenfilename(initialdir = os.getcwd(),\n",
    "                                                filetypes=[('geojson','*.geojson')],\n",
    "                                                title = \"Select a geojson file containing bbox\")\n",
    "    # Save the filename as an attribute of the button\n",
    "    if root.filename:\n",
    "        bbox_file= root.filename\n",
    "        bbox_geodf = gpd.read_file(bbox_file)\n",
    "        bbox_geojson = bbox_geodf.to_json()\n",
    "        bbox_dict = json.loads(bbox_geojson)\n",
    "        coastseg_map.shapes_list.append(bbox_dict['features'][0]['geometry'])\n",
    "        bbox_layer = GeoJSON(\n",
    "            data=bbox_dict,\n",
    "            name=\"Bbox\",\n",
    "            style={\n",
    "                'color': '#75b671',\n",
    "                'fill_color': '#75b671',\n",
    "                'opacity': 1,\n",
    "                'fillOpacity': 0.2,\n",
    "                'weight': 4},\n",
    "        )\n",
    "        coastseg_map.m.add_layer(bbox_layer)\n",
    "        \n",
    "        print(f\"Loaded the rois from the file :\\n{bbox_file} \")\n",
    "    else:\n",
    "        raise Exception(\"You must select a valid geojson file first!\")\n",
    "\n",
    "\n",
    "\n",
    "@debug_view.capture(clear_output=True)\n",
    "def on_transects_button_clicked(b):\n",
    "    if coastseg_map.shapes_list == [] :\n",
    "        print(\"Draw a bounding box on the coast first, then click Load Transects.\")\n",
    "    else:\n",
    "        debug_view.clear_output(wait=True)\n",
    "        coastseg_map.m.default_style = {'cursor': 'wait'}\n",
    "        print(\"Loading transects please wait.\") \n",
    "        # Add the transects to the map\n",
    "        coastseg_map.load_transects_on_map()\n",
    "        print(\"Transects Loaded.\")\n",
    "        coastseg_map.m.default_style = {'cursor': 'default'}\n",
    "\n",
    "        \n",
    "@debug_view.capture(clear_output=True)\n",
    "def on_gen_button_clicked(b):\n",
    "    if coastseg_map.shapes_list == [] :\n",
    "        print(\"Draw a bounding box on the coast first, then click Generate ROI.\")\n",
    "    else:\n",
    "        debug_view.clear_output(wait=True)\n",
    "        coastseg_map.m.default_style = {'cursor': 'wait'}\n",
    "        print(\"Generating ROIs please wait.\") \n",
    "        # Generate ROIs along the coastline within the bounding box\n",
    "        coastseg_map.generate_ROIS_fishnet(fishnet_sizes['large'],fishnet_sizes['small'])\n",
    "        # coastseg_map.generate_ROIS_fishnet(5000,0)\n",
    "        # debug_view.clear_output(wait=True)\n",
    "        # Add the Clickable ROIs to the map\n",
    "        coastseg_map.add_geojson_layer_to_map()\n",
    "        print(\"ROIs generated. Please Select at least one ROI and click Save ROI.\")\n",
    "        coastseg_map.m.default_style = {'cursor': 'default'}\n",
    "        \n",
    "@debug_view.capture(clear_output=True)\n",
    "def on_save_bbox_button_clicked(b):\n",
    "    if coastseg_map.shapes_list != [] :\n",
    "        debug_view.clear_output(wait=True)\n",
    "        # Save selected bbox to a geojson file\n",
    "        coastseg_map.save_bbox_to_file() \n",
    "        debug_view.clear_output(wait=True)\n",
    "        print(\"BBox have been saved. Saved to bbox.geojson\")\n",
    "    else:\n",
    "         print(\"Draw a bounding box on the coast first\")\n",
    "\n",
    "        \n",
    "@debug_view.capture(clear_output=True)\n",
    "def on_save_button_clicked(b):\n",
    "    if coastseg_map.selected_set:\n",
    "        if len(coastseg_map.selected_set) == 0:\n",
    "             print(\"Must select at least 1 ROI first before you can save ROIs.\")\n",
    "        else:\n",
    "            debug_view.clear_output(wait=True)\n",
    "            coastseg_map.save_roi_fishnet(\"fishnet_rois.geojson\")\n",
    "            print(\"Saving ROIs\")\n",
    "            debug_view.clear_output(wait=True)\n",
    "            print(\"ROIs have been saved. Now click Download ROI to download the ROIs using CoastSat\")\n",
    "    else:\n",
    "        print(\"No ROIs were selected.\")\n",
    "\n",
    "\n",
    "def remove_all_from_map(b):\n",
    "    coastseg_map.remove_all()\n",
    "def remove_transects(b):\n",
    "    coastseg_map.remove_transects()\n",
    "def remove_bbox_from_map(b):\n",
    "    coastseg_map.remove_bbox()\n",
    "def remove_coastline_from_map(b):\n",
    "    coastseg_map.remove_shoreline()\n",
    "def remove_all_rois_from_map(b):\n",
    "    coastseg_map.remove_all_rois()\n",
    "def clear_debug_view(b):\n",
    "    debug_view.clear_output()\n",
    "    download_view.clear_output()\n",
    "\n",
    "# widget handlers\n",
    "small_fishnet_slider.observe(handle_small_slider_change,'value')\n",
    "large_fishnet_slider.observe(handle_large_slider_change,'value')\n",
    "\n",
    "# button handlers\n",
    "download_button.on_click(download_button_clicked)\n",
    "        \n",
    "transects_button.on_click(on_transects_button_clicked)    \n",
    "shoreline_button.on_click(on_shoreline_button_clicked) \n",
    "load_rois_button.on_click(on_load_rois_clicked)\n",
    "load_bbox_button.on_click(on_load_bbox_clicked)\n",
    "\n",
    "gen_button.on_click(on_gen_button_clicked)\n",
    "save_button.on_click(on_save_button_clicked)\n",
    "save_bbox_button.on_click(on_save_bbox_button_clicked)\n",
    "clear_debug_button.on_click(clear_debug_view)\n",
    "\n",
    "\n",
    "remove_all_button.on_click(remove_all_from_map)\n",
    "remove_transects_button.on_click(remove_transects)\n",
    "remove_bbox_button.on_click(remove_bbox_from_map)\n",
    "remove_coastline_button.on_click(remove_coastline_from_map)\n",
    "remove_rois_button.on_click(remove_all_rois_from_map)\n",
    "\n",
    "save_vbox = VBox([instr_save_roi,save_button,save_bbox_button, instr_load_btns, load_rois_button, load_bbox_button])\n",
    "download_vbox = VBox([instr_download_roi,download_button])\n",
    "\n",
    "slider_v_box = VBox([small_fishnet_slider, large_fishnet_slider])\n",
    "slider_btn_box = HBox([slider_v_box, gen_button])\n",
    "roi_controls_box = VBox([instr_create_roi, slider_btn_box],layout=Layout(margin='0px 5px 5px 0px'))\n",
    "\n",
    "action_buttons =  HBox([clear_debug_button])\n",
    "load_buttons = HBox([transects_button, shoreline_button])\n",
    "erase_buttons = HBox([remove_all_button, remove_transects_button, remove_bbox_button, remove_coastline_button, remove_rois_button])\n",
    "\n",
    "\n",
    "row_1 = HBox([roi_controls_box,save_vbox,download_vbox])\n",
    "row_2 = HBox([load_buttons])\n",
    "row_3 = HBox([erase_buttons])\n",
    "row_4 = HBox([clear_debug_button, debug_view])\n",
    "row_5 = HBox([coastseg_map.m])\n",
    "row_6 = HBox([download_view])\n",
    "\n",
    "display(row_1,row_2, row_3, row_4, row_5, row_6)"
   ]
  },
  {
   "cell_type": "markdown",
   "metadata": {},
   "source": [
    "## Download the Selected ROIs\n",
    "- Download the satellite imagery for the ROIs using CoastSat.\n",
    "\n",
    "⚠️ Make sure you have clicked `Save ROI` before running the following code.\n",
    " \n",
    "### Parameters for download_imagery()\n",
    "1. `coastseg_map.selected_ROI` : geojson for the ROI clicked\n",
    "2. `pre_process_settings`: settings for downloading data using CoastSat\n",
    "3. `dates` : date range to download the imagery\n",
    "4. `sat_list` : list of satellites to download imagery from\n",
    "5. `collection` : LandSat Collection 1 (`C01`) or Collection 2 (`C02`)"
   ]
  },
  {
   "cell_type": "code",
   "execution_count": 3,
   "metadata": {},
   "outputs": [
    {
     "data": {
      "application/vnd.jupyter.widget-view+json": {
       "model_id": "6104b51f00b24ecaa3c8b74fdcc1427f",
       "version_major": 2,
       "version_minor": 0
      },
      "text/plain": [
       "HBox(children=(Checkbox(value=False, description='Use GPU?', indent=False), Checkbox(value=False, description=…"
      ]
     },
     "metadata": {},
     "output_type": "display_data"
    },
    {
     "data": {
      "application/vnd.jupyter.widget-view+json": {
       "model_id": "4366112f77264500b7bab61382f14102",
       "version_major": 2,
       "version_minor": 0
      },
      "text/plain": [
       "Output()"
      ]
     },
     "metadata": {},
     "output_type": "display_data"
    },
    {
     "data": {
      "application/vnd.jupyter.widget-view+json": {
       "model_id": "702535264d514ccd84bdc2366994083a",
       "version_major": 2,
       "version_minor": 0
      },
      "text/plain": [
       "HBox(children=(RadioButtons(description='Select Model:', options=('landsat_6229071', 'landsat_6230083', 'SWED-…"
      ]
     },
     "metadata": {},
     "output_type": "display_data"
    },
    {
     "data": {
      "application/vnd.jupyter.widget-view+json": {
       "model_id": "f8398491a8ec4237b785279092575c1c",
       "version_major": 2,
       "version_minor": 0
      },
      "text/plain": [
       "VBox(children=(HTML(value='<h4>Click ONE of the following buttons:</h4>', layout=Layout(margin='0px 0px 0px 0p…"
      ]
     },
     "metadata": {},
     "output_type": "display_data"
    },
    {
     "data": {
      "application/vnd.jupyter.widget-view+json": {
       "model_id": "17b96251861f4b91b6475dab4c4bcd9d",
       "version_major": 2,
       "version_minor": 0
      },
      "text/plain": [
       "Button(description='Use Data Button', style=ButtonStyle(button_color='#69add1'))"
      ]
     },
     "metadata": {},
     "output_type": "display_data"
    },
    {
     "data": {
      "application/vnd.jupyter.widget-view+json": {
       "model_id": "2a9991841bda403394705828156463f9",
       "version_major": 2,
       "version_minor": 0
      },
      "text/plain": [
       "Button(description='Select Your Images', style=ButtonStyle(button_color='#69add1'))"
      ]
     },
     "metadata": {},
     "output_type": "display_data"
    },
    {
     "data": {
      "application/vnd.jupyter.widget-view+json": {
       "model_id": "2ca11fccaeef45fba8a1514f37220b23",
       "version_major": 2,
       "version_minor": 0
      },
      "text/plain": [
       "HTML(value='____________________________________________________')"
      ]
     },
     "metadata": {},
     "output_type": "display_data"
    },
    {
     "data": {
      "application/vnd.jupyter.widget-view+json": {
       "model_id": "afbc51a233bf4260a274b94436be937c",
       "version_major": 2,
       "version_minor": 0
      },
      "text/plain": [
       "Output(layout=Layout(border='1px solid black'))"
      ]
     },
     "metadata": {},
     "output_type": "display_data"
    },
    {
     "data": {
      "application/vnd.jupyter.widget-view+json": {
       "model_id": "84a75d01fc2a40eebd10baad6aff7741",
       "version_major": 2,
       "version_minor": 0
      },
      "text/plain": [
       "Button(description='Run Model', style=ButtonStyle(button_color='#ae3cf0'))"
      ]
     },
     "metadata": {},
     "output_type": "display_data"
    },
    {
     "data": {
      "application/vnd.jupyter.widget-view+json": {
       "model_id": "db4af95b3f0845558a195f2e19188d0c",
       "version_major": 2,
       "version_minor": 0
      },
      "text/plain": [
       "Output(layout=Layout(border='1px solid black'))"
      ]
     },
     "metadata": {},
     "output_type": "display_data"
    },
    {
     "data": {
      "application/vnd.jupyter.widget-view+json": {
       "model_id": "2454049dab7c4e6bacdbfe1a4c43914d",
       "version_major": 2,
       "version_minor": 0
      },
      "text/plain": [
       "Button(description='Open Model Results', style=ButtonStyle(button_color='#69add1'))"
      ]
     },
     "metadata": {},
     "output_type": "display_data"
    }
   ],
   "source": [
    "model_dict={'sample_direc':None,'use_GPU':False,'use_CRF':False, 'implementation':'ENSEMBLE','model_type':'landsat_6229071'}\n",
    "\n",
    "model_view = Output(layout={'border': '1px solid black'})\n",
    "run_model_view = Output(layout={'border': '1px solid black'})\n",
    "GPU_view = Output()\n",
    "\n",
    "run_model_button = Button(description=\"Run Model\",style=action_style)\n",
    "use_data_button = Button(description=\"Use Data Button\",style=load_style)\n",
    "use_select_images_button = Button(description=\"Select Your Images\",style=load_style)\n",
    "open_results_button = Button(description=\"Open Model Results\",style=load_style)\n",
    "\n",
    "model_implementation = RadioButtons(\n",
    "    options=['ENSEMBLE', 'BEST'],\n",
    "   value='ENSEMBLE',\n",
    "    description='Select:',\n",
    "    disabled=False\n",
    ")\n",
    "\n",
    "model_dropdown = RadioButtons(\n",
    "    options= ['landsat_6229071', 'landsat_6230083','SWED-RGB_6824384','SWED-MNDWI_6824342','coast-train-RGB_6950479', 'S2-water-SWED_6950474'],\n",
    "    value='landsat_6229071',\n",
    "    description='Select Model:',\n",
    "    disabled=False,\n",
    ")\n",
    "\n",
    "\n",
    "GPU_checkbox = Checkbox(\n",
    "    value=False,\n",
    "    description='Use GPU?',\n",
    "    disabled=False,\n",
    "    indent=False\n",
    ")\n",
    "\n",
    "CRF_checkbox = Checkbox(\n",
    "    value=False,\n",
    "    description='Use CRF post-processing',\n",
    "    disabled=False,\n",
    "    indent=False\n",
    ")\n",
    "\n",
    "\n",
    "def handle_model_type(change):\n",
    "    model_dict[\"model_type\"]=change['new']\n",
    "\n",
    "\n",
    "def handle_model_implementation(change):\n",
    "    model_dict[\"implementation\"]=change['new']\n",
    "\n",
    "\n",
    "@GPU_view.capture(clear_output=True)\n",
    "def handle_GPU_checkbox(change):\n",
    "    if change[\"new\"] == True:\n",
    "        model_dict[\"use_GPU\"]=True\n",
    "        print(\"Using the GPU\")\n",
    "    else:\n",
    "        model_dict[\"use_GPU\"]=False\n",
    "        print(\"Not using the GPU\")\n",
    "\n",
    "        \n",
    "@GPU_view.capture(clear_output=True)\n",
    "def handle_CRF_checkbox(change):\n",
    "    if change[\"new\"] == True:\n",
    "        model_dict[\"use_CRF\"]=True\n",
    "        print(\"Using CRF post-processing\")\n",
    "    else:\n",
    "        model_dict[\"use_CRF\"]=False\n",
    "        print(\"Not using CRF post-processing\")\n",
    "        \n",
    "\n",
    "@model_view.capture(clear_output=True)\n",
    "def use_data_button_clicked(button):\n",
    "    # Use the data folder as the input for segmentation\n",
    "    print(\"Loading in the jpgs from the data directory\")\n",
    "    # Copy the jpgs from data to a new folder called segmentation_data_[datetime]\n",
    "    if 'MNDWI' in model_dropdown.value:\n",
    "        sample_direc =r'C:\\1_USGS\\CoastSeg\\repos\\2_CoastSeg\\CoastSeg_fork\\Seg2Map\\MNDWI_outputs\\MNDWI_ouputs_2022-07-21__07_hr_57_min14'\n",
    "#         sample_direc = file_functions.get_jpgs_from_data('MNDWI')\n",
    "#         RGB_path=sample_direc+os.sep+'RGB'\n",
    "#         NIR_path=sample_direc+os.sep+'NIR'\n",
    "#         sample_direc = coastseg_map.RGB_to_MNDWI(RGB_path,NIR_path,sample_direc)\n",
    "        model_dict[\"sample_direc\"]=sample_direc\n",
    "    else:\n",
    "        sample_direc = file_functions.get_jpgs_from_data('RGB')\n",
    "        jpgs = glob.glob1(sample_direc + os.sep, \"*jpg\")\n",
    "        if jpgs == []:\n",
    "            # raise Exception(\"\\nThe directory contains no jpgs! Please select a directory with jpgs.\")\n",
    "            print(\"\\nERROR!\\nThe directory contains no jpgs! Please select a directory with jpgs.\")\n",
    "        elif jpgs != []:\n",
    "            model_dict[\"sample_direc\"]=sample_direc\n",
    "    print(f\"\\nContents of the data directory saved in {sample_direc}\")\n",
    "\n",
    "\n",
    "@model_view.capture(clear_output=True)\n",
    "def use_select_images_button_clicked(button):\n",
    "    # Prompt the user to select a directory of images                              \n",
    "    root.withdraw()                                        # Hide the main window.\n",
    "    root.call('wm', 'attributes', '.', '-topmost', True)   # Raise the root to the top of all windows.\n",
    "    # path to data directory containing data downloaded using coastsat\n",
    "    data_path = os.path.join(os.getcwd(),'data')\n",
    "    if os.path.exists(data_path):\n",
    "        data_path = os.path.join(os.getcwd(),'data')\n",
    "    else: \n",
    "        data_path = os.getcwd()\n",
    "    root.filename =  filedialog.askdirectory(initialdir = data_path,title = \"Select directory of images\",)\n",
    "    # Save the filename as an attribute of the button\n",
    "    if root.filename:\n",
    "        sample_direc= root.filename\n",
    "        print(f\"The images in the folder will be segmented :\\n{sample_direc} \")\n",
    "        jpgs = glob.glob1(sample_direc + os.sep, \"*jpg\")\n",
    "        if jpgs == []:\n",
    "            # raise Exception(\"\\nThe directory contains no jpgs! Please select a directory with jpgs.\")\n",
    "            print(\"\\nERROR!\\nThe directory contains no jpgs! Please select a directory with jpgs.\")\n",
    "        elif jpgs != []:\n",
    "            model_dict[\"sample_direc\"]=sample_direc\n",
    "    else:\n",
    "        # raise Exception(\"You must select a valid directory first!\")\n",
    "        print(\"You must select a valid directory first!\")\n",
    "\n",
    "@run_model_view.capture(clear_output=True)\n",
    "def run_model_button_clicked(button):\n",
    "    print(\"Called Run Model\")\n",
    "    if model_dict[\"sample_direc\"] is None:\n",
    "        print(\"You must click 'Use Data' or 'Select Images' First\")\n",
    "        return\n",
    "    else:\n",
    "        if model_dict[\"use_GPU\"] == False:\n",
    "            print(\"Not using the GPU\")\n",
    "            ## to use the CPU (not recommended):\n",
    "            os.environ['CUDA_VISIBLE_DEVICES'] = '-1'\n",
    "        elif model_dict[\"use_GPU\"] == True:\n",
    "            print(\"Using the GPU\")\n",
    "            ##use the first available GPU\n",
    "            os.environ['CUDA_VISIBLE_DEVICES'] = '0' #'1'\n",
    "        if 'MNDWI' in model_dropdown.value:\n",
    "            dataset='MNDWI'\n",
    "        else:\n",
    "            dataset='RGB'\n",
    "        # Disable run and open results buttons while the model is running\n",
    "        open_results_button.disabled = True\n",
    "        run_model_button.disabled = True\n",
    "        dataset_id=model_dict['model_type']\n",
    "        # model_dict['implementation']=model_implementation.value\n",
    "        model_choice=model_dict['implementation']\n",
    "        zoo_model=zoo_model_module.Zoo_Model()\n",
    "        # First download the specified model\n",
    "        zoo_model.download_model(dataset,dataset_id)\n",
    "        # Get weights as list\n",
    "        Ww=zoo_model.get_weights_list(model_choice)\n",
    "        # Load the model from the config files\n",
    "        model, model_list, config_files, model_types=zoo_model.get_model(Ww)\n",
    "        metadatadict=zoo_model.get_metadatadict(Ww,config_files, model_types)\n",
    "        # # Compute the segmentation\n",
    "        zoo_model.compute_segmentation(model_dict[\"sample_direc\"], model_list, metadatadict,model_dict['use_CRF'])\n",
    "        # Enable  run and open results buttons when model has exexcuted\n",
    "        run_model_button.disabled = False\n",
    "        open_results_button.disabled = False\n",
    "\n",
    "        \n",
    "@run_model_view.capture(clear_output=True)\n",
    "def open_results_button_clicked(button):\n",
    "    if model_dict[\"sample_direc\"] is None:\n",
    "        print(\"You must click 'Run Model' first\")\n",
    "    else:\n",
    "        # Open file viewer using tkinter                          \n",
    "        root.withdraw()                                        # Hide the main window.\n",
    "        root.call('wm', 'attributes', '.', '-topmost', True)   # Raise the root to the top of all windows.\n",
    "        # path to directory containing model outputs\n",
    "        model_results_path = os.path.abspath(model_dict[\"sample_direc\"])\n",
    "        if not os.path.exists(model_results_path):\n",
    "             raise FileNotFoundError\n",
    "        filedialog.askopenfiles(initialdir = model_results_path,title = \"Open Results\")\n",
    "    \n",
    "    \n",
    "model_implementation.observe(handle_model_implementation,\"value\")\n",
    "model_dropdown.observe(handle_model_type,\"value\")\n",
    "GPU_checkbox.observe(handle_GPU_checkbox,\"value\")\n",
    "CRF_checkbox.observe(handle_CRF_checkbox,\"value\")\n",
    "\n",
    "\n",
    "run_model_button.on_click(run_model_button_clicked)\n",
    "use_data_button.on_click(use_data_button_clicked)\n",
    "use_select_images_button.on_click(use_select_images_button_clicked)\n",
    "open_results_button.on_click(open_results_button_clicked)\n",
    "\n",
    "\n",
    "line_widget=HTML(value=\"____________________________________________________\")\n",
    "\n",
    "instr_header=HTML(\n",
    "    value=\"<h4>Click ONE of the following buttons:</h4>\",layout=Layout(margin='0px 0px 0px 0px'))\n",
    "\n",
    "instr_use_data=HTML(\n",
    "    value=\"<b>1. Use Data Folder Button</b> \\\n",
    "        <br> - When CoastSat downloads imagery it created a folder called 'data'in the CoastSeg directory.\\\n",
    "            The jpgs within the 'data' folder will be copied to another folder with a name such as\\\n",
    "            <span style=\\\"background-color:LightGray;color: black;\\\">segmentation_data_2022-07-07__10_hr_04_min58 </span>\\\n",
    "            (the date and time will be the current date and time) <br> \\\n",
    "           The model will be applied to this folder and the model outputs will be generated within a subdirectory \\\n",
    "            called 'out'\",layout=Layout(margin='0px 0px 0px 20px'))\n",
    "\n",
    "instr_select_images=HTML(\n",
    "    value=\"<b>2. Select Images Button</b> \\\n",
    "        <br> - This will open a pop up window where the folder containing the jpgs can be selected.<br>\\\n",
    "             - The model will be applied to this folder and the model outputs will be generated within a subdirectory\\\n",
    "             called 'out'<br>\\\n",
    "      - <span style=\\\"background-color:yellow;color: black;\\\">WARNING :</span> You will not be able to see the files within the folder you select.<br>\\\n",
    "    \",layout=Layout(margin='0px 0px 0px 20px'))\n",
    "\n",
    "instr_run_model=HTML(\n",
    "    value=\"<b>3. Run Model Button</b> \\\n",
    "        <br> - Make sure to click Select Images Button or Use Data Button.<br>\\\n",
    "             - The model will be applied to the selected folder and the model outputs will be generated within a subdirectory\\\n",
    "             called 'out'<br>\\\n",
    "      - <span style=\\\"background-color:yellow;color: black;\\\">WARNING :</span> You should not run multiple models on the same folder. Otherwise not all the model outputs\\\n",
    "      will be saved to the folder.<br>\\\n",
    "    \",layout=Layout(margin='0px 0px 0px 20px'))\n",
    "\n",
    "model_choices_box=HBox([model_dropdown, model_implementation])\n",
    "checkboxes = HBox([GPU_checkbox,CRF_checkbox])\n",
    "instr_vbox=VBox([instr_header, line_widget, instr_use_data, instr_select_images, instr_run_model])\n",
    "\n",
    "display(checkboxes, GPU_view,model_choices_box,instr_vbox,use_data_button,use_select_images_button,line_widget, model_view,run_model_button,run_model_view,open_results_button)"
   ]
  },
  {
   "cell_type": "code",
   "execution_count": null,
   "metadata": {},
   "outputs": [],
   "source": []
  },
  {
   "cell_type": "code",
   "execution_count": null,
   "metadata": {},
   "outputs": [],
   "source": []
  }
 ],
 "metadata": {
  "kernelspec": {
   "display_name": "Python 3 (ipykernel)",
   "language": "python",
   "name": "python3"
  },
  "language_info": {
   "codemirror_mode": {
    "name": "ipython",
    "version": 3
   },
   "file_extension": ".py",
   "mimetype": "text/x-python",
   "name": "python",
   "nbconvert_exporter": "python",
   "pygments_lexer": "ipython3",
   "version": "3.10.4"
  },
  "vscode": {
   "interpreter": {
    "hash": "9d097efbdf24db87a2507c17c632c6d564e7aff5ba5cfc04e62a44a8b3d6a20a"
   }
  },
  "widgets": {
   "application/vnd.jupyter.widget-state+json": {
    "state": {
     "04369b3b4c0f4171ba4ed54eb5dd95f8": {
      "model_module": "jupyter-leaflet",
      "model_module_version": "^0.17.0",
      "model_name": "LeafletTileLayerModel",
      "state": {
       "_model_module_version": "^0.17.0",
       "_view_module_version": "^0.17.0",
       "attribution": "Tiles courtesy of the U.S. Geological Survey",
       "max_zoom": 20,
       "name": "USGS.USImageryTopo",
       "options": [
        "attribution",
        "bounds",
        "detect_retina",
        "max_native_zoom",
        "max_zoom",
        "min_native_zoom",
        "min_zoom",
        "no_wrap",
        "tile_size",
        "tms"
       ],
       "url": "https://basemap.nationalmap.gov/arcgis/rest/services/USGSImageryTopo/MapServer/tile/{z}/{y}/{x}"
      }
     },
     "0640ccd128b34bbfb42da4fe8ddaa266": {
      "model_module": "jupyter-leaflet",
      "model_module_version": "^0.17.0",
      "model_name": "LeafletTileLayerModel",
      "state": {
       "_model_module_version": "^0.17.0",
       "_view_module_version": "^0.17.0",
       "attribution": "Imagery provided by services from the Global Imagery Browse Services (GIBS), operated by the NASA/GSFC/Earth Science Data and Information System (ESDIS) with funding provided by NASA/HQ.",
       "max_zoom": 5,
       "name": "NASAGIBS.BlueMarble3413",
       "options": [
        "attribution",
        "bounds",
        "detect_retina",
        "max_native_zoom",
        "max_zoom",
        "min_native_zoom",
        "min_zoom",
        "no_wrap",
        "tile_size",
        "tms"
       ],
       "url": "https://gibs.earthdata.nasa.gov/wmts/epsg3413/best/BlueMarble_NextGeneration/default/EPSG3413_500m/{z}/{y}/{x}.jpeg"
      }
     },
     "073d85aca5eb414aa7f5c39970564602": {
      "model_module": "@jupyter-widgets/base",
      "model_module_version": "1.2.0",
      "model_name": "LayoutModel",
      "state": {
       "margin": "0px 0px 0px 20px"
      }
     },
     "07ac9de941214ef5b5dbdb36bca22571": {
      "model_module": "@jupyter-widgets/controls",
      "model_module_version": "1.5.0",
      "model_name": "HTMLModel",
      "state": {
       "layout": "IPY_MODEL_b2b69cb20a254e01acc0bcf0fc0f7c41",
       "style": "IPY_MODEL_0bca7577d9704ae5877ef5963af3c00a",
       "value": "<h4>Click ONE of the following buttons:</h4>"
      }
     },
     "089f638415ec495d86b1918fd7ece67d": {
      "model_module": "jupyter-leaflet",
      "model_module_version": "^0.17.0",
      "model_name": "LeafletTileLayerModel",
      "state": {
       "_model_module_version": "^0.17.0",
       "_view_module_version": "^0.17.0",
       "attribution": "Justice Map",
       "max_zoom": 22,
       "name": "JusticeMap.black",
       "options": [
        "attribution",
        "bounds",
        "detect_retina",
        "max_native_zoom",
        "max_zoom",
        "min_native_zoom",
        "min_zoom",
        "no_wrap",
        "tile_size",
        "tms"
       ],
       "url": "https://www.justicemap.org/tile/county/black/{z}/{x}/{y}.png"
      }
     },
     "097374bb445d4d1fa9abcc5faf0ff82e": {
      "model_module": "jupyter-leaflet",
      "model_module_version": "^0.17.0",
      "model_name": "LeafletTileLayerModel",
      "state": {
       "_model_module_version": "^0.17.0",
       "_view_module_version": "^0.17.0",
       "attribution": "(C) OpenStreetMap contributors (C) CARTO",
       "max_zoom": 20,
       "name": "CartoDB.DarkMatterNoLabels",
       "options": [
        "attribution",
        "bounds",
        "detect_retina",
        "max_native_zoom",
        "max_zoom",
        "min_native_zoom",
        "min_zoom",
        "no_wrap",
        "tile_size",
        "tms"
       ],
       "url": "https://a.basemaps.cartocdn.com/dark_nolabels/{z}/{x}/{y}.png"
      }
     },
     "0ac54d90b0514fd4a908225c6d4e64b8": {
      "model_module": "jupyter-leaflet",
      "model_module_version": "^0.17.0",
      "model_name": "LeafletTileLayerModel",
      "state": {
       "_model_module_version": "^0.17.0",
       "_view_module_version": "^0.17.0",
       "attribution": "Map data: (C) OpenStreetMap contributors & ODbL, (C) www.opensnowmap.org CC-BY-SA",
       "name": "OpenSnowMap.pistes",
       "options": [
        "attribution",
        "bounds",
        "detect_retina",
        "max_native_zoom",
        "max_zoom",
        "min_native_zoom",
        "min_zoom",
        "no_wrap",
        "tile_size",
        "tms"
       ],
       "url": "https://tiles.opensnowmap.org/pistes/{z}/{x}/{y}.png"
      }
     },
     "0acb0a1cf5624089a6221bb2289aa010": {
      "model_module": "@jupyter-widgets/base",
      "model_module_version": "1.2.0",
      "model_name": "LayoutModel",
      "state": {}
     },
     "0adb5fcbec474d71b36c536f451ce4d7": {
      "model_module": "jupyter-leaflet",
      "model_module_version": "^0.17.0",
      "model_name": "LeafletTileLayerModel",
      "state": {
       "_model_module_version": "^0.17.0",
       "_view_module_version": "^0.17.0",
       "attribution": "Geoportail France",
       "max_zoom": 20,
       "name": "GeoportailFrance.parcels",
       "options": [
        "attribution",
        "bounds",
        "detect_retina",
        "max_native_zoom",
        "max_zoom",
        "min_native_zoom",
        "min_zoom",
        "no_wrap",
        "tile_size",
        "tms"
       ],
       "url": "https://wxs.ign.fr/choisirgeoportail/geoportail/wmts?REQUEST=GetTile&SERVICE=WMTS&VERSION=1.0.0&STYLE=PCI vecteur&TILEMATRIXSET=PM&FORMAT=image/png&LAYER=CADASTRALPARCELS.PARCELLAIRE_EXPRESS&TILEMATRIX={z}&TILEROW={y}&TILECOL={x}"
      }
     },
     "0bca7577d9704ae5877ef5963af3c00a": {
      "model_module": "@jupyter-widgets/controls",
      "model_module_version": "1.5.0",
      "model_name": "DescriptionStyleModel",
      "state": {
       "description_width": ""
      }
     },
     "0d2c47b8ae2641cfa33d5d6bd5ddc15b": {
      "model_module": "jupyter-leaflet",
      "model_module_version": "^0.17.0",
      "model_name": "LeafletWMSLayerModel",
      "state": {
       "_model_module_version": "^0.17.0",
       "_view_module_version": "^0.17.0",
       "attribution": "USGS",
       "crs": {
        "custom": false,
        "name": "EPSG3857"
       },
       "format": "image/png",
       "layers": "USGSNAIPImagery:NDVI_Color",
       "name": "USGS NAIP Imagery NDVI",
       "options": [
        "attribution",
        "bounds",
        "detect_retina",
        "format",
        "layers",
        "max_native_zoom",
        "max_zoom",
        "min_native_zoom",
        "min_zoom",
        "no_wrap",
        "styles",
        "tile_size",
        "tms",
        "transparent",
        "uppercase"
       ],
       "transparent": true,
       "url": "https://imagery.nationalmap.gov/arcgis/services/USGSNAIPImagery/ImageServer/WMSServer?"
      }
     },
     "0d5182db1b72422e9c50ae3ba45e2819": {
      "model_module": "jupyter-leaflet",
      "model_module_version": "^0.17.0",
      "model_name": "LeafletTileLayerModel",
      "state": {
       "_model_module_version": "^0.17.0",
       "_view_module_version": "^0.17.0",
       "attribution": "![](https://docs.onemap.sg/maps/images/oneMap64-01.png) New OneMap | Map data (C) contributors, Singapore Land Authority",
       "name": "OneMapSG.Default",
       "options": [
        "attribution",
        "bounds",
        "detect_retina",
        "max_native_zoom",
        "max_zoom",
        "min_native_zoom",
        "min_zoom",
        "no_wrap",
        "tile_size",
        "tms"
       ],
       "url": "https://maps-a.onemap.sg/v3/Default/{z}/{x}/{y}.png"
      }
     },
     "13bd84616fe14ea388527f6a5b1154e4": {
      "model_module": "jupyter-leaflet",
      "model_module_version": "^0.17.0",
      "model_name": "LeafletTileLayerModel",
      "state": {
       "_model_module_version": "^0.17.0",
       "_view_module_version": "^0.17.0",
       "attribution": "Map tiles by Stamen Design, CC BY 3.0 -- Map data (C) OpenStreetMap contributors",
       "max_zoom": 20,
       "name": "Stamen.TonerBackground",
       "options": [
        "attribution",
        "bounds",
        "detect_retina",
        "max_native_zoom",
        "max_zoom",
        "min_native_zoom",
        "min_zoom",
        "no_wrap",
        "tile_size",
        "tms"
       ],
       "url": "https://stamen-tiles-a.a.ssl.fastly.net/toner-background/{z}/{x}/{y}.png"
      }
     },
     "1478a35f95c74a2aa28d96ad6b181bff": {
      "model_module": "jupyter-leaflet",
      "model_module_version": "^0.17.0",
      "model_name": "LeafletTileLayerModel",
      "state": {
       "_model_module_version": "^0.17.0",
       "_view_module_version": "^0.17.0",
       "attribution": "(C) Stadia Maps, (C) OpenMapTiles (C) OpenStreetMap contributors",
       "max_zoom": 20,
       "name": "Stadia.AlidadeSmoothDark",
       "options": [
        "attribution",
        "bounds",
        "detect_retina",
        "max_native_zoom",
        "max_zoom",
        "min_native_zoom",
        "min_zoom",
        "no_wrap",
        "tile_size",
        "tms"
       ],
       "url": "https://tiles.stadiamaps.com/tiles/alidade_smooth_dark/{z}/{x}/{y}.png"
      }
     },
     "15158bfc8d3a4181a5f99d4e1f77b546": {
      "model_module": "jupyter-leaflet",
      "model_module_version": "^0.17.0",
      "model_name": "LeafletWMSLayerModel",
      "state": {
       "_model_module_version": "^0.17.0",
       "_view_module_version": "^0.17.0",
       "attribution": "MRLC",
       "crs": {
        "custom": false,
        "name": "EPSG3857"
       },
       "format": "image/png",
       "layers": "NLCD_2019_Land_Cover_L48",
       "name": "NLCD 2019 CONUS Land Cover",
       "options": [
        "attribution",
        "bounds",
        "detect_retina",
        "format",
        "layers",
        "max_native_zoom",
        "max_zoom",
        "min_native_zoom",
        "min_zoom",
        "no_wrap",
        "styles",
        "tile_size",
        "tms",
        "transparent",
        "uppercase"
       ],
       "transparent": true,
       "url": "https://www.mrlc.gov/geoserver/mrlc_display/NLCD_2019_Land_Cover_L48/wms?"
      }
     },
     "160ca8c233f44fe49d84797395ee6c51": {
      "model_module": "jupyter-leaflet",
      "model_module_version": "^0.17.0",
      "model_name": "LeafletTileLayerModel",
      "state": {
       "_model_module_version": "^0.17.0",
       "_view_module_version": "^0.17.0",
       "attribution": "Google",
       "max_zoom": 22,
       "name": "Google Satellite",
       "options": [
        "attribution",
        "bounds",
        "detect_retina",
        "max_native_zoom",
        "max_zoom",
        "min_native_zoom",
        "min_zoom",
        "no_wrap",
        "tile_size",
        "tms"
       ],
       "url": "https://mt1.google.com/vt/lyrs=s&x={x}&y={y}&z={z}"
      }
     },
     "16e94fd564ad43179897d8f4930b4f2f": {
      "model_module": "jupyter-leaflet",
      "model_module_version": "^0.17.0",
      "model_name": "LeafletWMSLayerModel",
      "state": {
       "_model_module_version": "^0.17.0",
       "_view_module_version": "^0.17.0",
       "attribution": "ESA",
       "crs": {
        "custom": false,
        "name": "EPSG3857"
       },
       "format": "image/png",
       "layers": "WORLDCOVER_2020_S2_TCC",
       "name": "ESA Worldcover 2020 S2 TCC",
       "options": [
        "attribution",
        "bounds",
        "detect_retina",
        "format",
        "layers",
        "max_native_zoom",
        "max_zoom",
        "min_native_zoom",
        "min_zoom",
        "no_wrap",
        "styles",
        "tile_size",
        "tms",
        "transparent",
        "uppercase"
       ],
       "transparent": true,
       "url": "https://services.terrascope.be/wms/v2"
      }
     },
     "17b96251861f4b91b6475dab4c4bcd9d": {
      "model_module": "@jupyter-widgets/controls",
      "model_module_version": "1.5.0",
      "model_name": "ButtonModel",
      "state": {
       "description": "Use Data Button",
       "layout": "IPY_MODEL_0acb0a1cf5624089a6221bb2289aa010",
       "style": "IPY_MODEL_5e0807cce31b42f8a87b892ea7ce049e"
      }
     },
     "17c79f011fbd4049a62b7412fdbcdb58": {
      "model_module": "jupyter-leaflet",
      "model_module_version": "^0.17.0",
      "model_name": "LeafletTileLayerModel",
      "state": {
       "_model_module_version": "^0.17.0",
       "_view_module_version": "^0.17.0",
       "attribution": "Imagery provided by services from the Global Imagery Browse Services (GIBS), operated by the NASA/GSFC/Earth Science Data and Information System (ESDIS) with funding provided by NASA/HQ.",
       "max_zoom": 12,
       "name": "NASAGIBS.ASTER_GDEM_Greyscale_Shaded_Relief",
       "options": [
        "attribution",
        "bounds",
        "detect_retina",
        "max_native_zoom",
        "max_zoom",
        "min_native_zoom",
        "min_zoom",
        "no_wrap",
        "tile_size",
        "tms"
       ],
       "url": "https://gibs.earthdata.nasa.gov/wmts/epsg3857/best/ASTER_GDEM_Greyscale_Shaded_Relief/default/GoogleMapsCompatible_Level12/{z}/{y}/{x}.jpg"
      }
     },
     "1a03fcdeb08a4f4cba2a6c4320a442d0": {
      "model_module": "jupyter-leaflet",
      "model_module_version": "^0.17.0",
      "model_name": "LeafletTileLayerModel",
      "state": {
       "_model_module_version": "^0.17.0",
       "_view_module_version": "^0.17.0",
       "attribution": "(C) OpenStreetMap contributors",
       "max_zoom": 19,
       "name": "OpenStreetMap.Mapnik",
       "options": [
        "attribution",
        "bounds",
        "detect_retina",
        "max_native_zoom",
        "max_zoom",
        "min_native_zoom",
        "min_zoom",
        "no_wrap",
        "tile_size",
        "tms"
       ],
       "url": "https://a.tile.openstreetmap.org/{z}/{x}/{y}.png"
      }
     },
     "1a49c1b57744405cadc6b3501591b37a": {
      "model_module": "jupyter-leaflet",
      "model_module_version": "^0.17.0",
      "model_name": "LeafletTileLayerModel",
      "state": {
       "_model_module_version": "^0.17.0",
       "_view_module_version": "^0.17.0",
       "attribution": "Tiles (C) Esri -- Source: Esri, i-cubed, USDA, USGS, AEX, GeoEye, Getmapping, Aerogrid, IGN, IGP, UPR-EGP, and the GIS User Community",
       "max_zoom": 22,
       "name": "Esri.WorldImagery",
       "options": [
        "attribution",
        "bounds",
        "detect_retina",
        "max_native_zoom",
        "max_zoom",
        "min_native_zoom",
        "min_zoom",
        "no_wrap",
        "tile_size",
        "tms"
       ],
       "url": "https://server.arcgisonline.com/ArcGIS/rest/services/World_Imagery/MapServer/tile/{z}/{y}/{x}"
      }
     },
     "1ae98c01e5844f428b531dda2e84a122": {
      "model_module": "jupyter-leaflet",
      "model_module_version": "^0.17.0",
      "model_name": "LeafletTileLayerModel",
      "state": {
       "_model_module_version": "^0.17.0",
       "_view_module_version": "^0.17.0",
       "attribution": "&copy; <a href=\"http://www.gaode.com/\">Gaode.com</a>",
       "max_zoom": 19,
       "name": "Gaode.Normal",
       "options": [
        "attribution",
        "bounds",
        "detect_retina",
        "max_native_zoom",
        "max_zoom",
        "min_native_zoom",
        "min_zoom",
        "no_wrap",
        "tile_size",
        "tms"
       ],
       "url": "http://webrd01.is.autonavi.com/appmaptile?lang=zh_cn&size=1&scale=1&style=7&x={x}&y={y}&z={z}"
      }
     },
     "1b40f0f07a764384b0470a7ea906e469": {
      "model_module": "@jupyter-widgets/base",
      "model_module_version": "1.2.0",
      "model_name": "LayoutModel",
      "state": {}
     },
     "1c954286f9dc4228ba0587c83063ad11": {
      "model_module": "jupyter-leaflet",
      "model_module_version": "^0.17.0",
      "model_name": "LeafletWMSLayerModel",
      "state": {
       "_model_module_version": "^0.17.0",
       "_view_module_version": "^0.17.0",
       "attribution": "MRLC",
       "crs": {
        "custom": false,
        "name": "EPSG3857"
       },
       "format": "image/png",
       "layers": "NLCD_2008_Land_Cover_L48",
       "name": "NLCD 2008 CONUS Land Cover",
       "options": [
        "attribution",
        "bounds",
        "detect_retina",
        "format",
        "layers",
        "max_native_zoom",
        "max_zoom",
        "min_native_zoom",
        "min_zoom",
        "no_wrap",
        "styles",
        "tile_size",
        "tms",
        "transparent",
        "uppercase"
       ],
       "transparent": true,
       "url": "https://www.mrlc.gov/geoserver/mrlc_display/NLCD_2008_Land_Cover_L48/wms?"
      }
     },
     "1d0e6189882e4f25a8a5b787ee312eb2": {
      "model_module": "jupyter-leaflet",
      "model_module_version": "^0.17.0",
      "model_name": "LeafletTileLayerModel",
      "state": {
       "_model_module_version": "^0.17.0",
       "_view_module_version": "^0.17.0",
       "attribution": "Datenquelle: basemap.at",
       "max_zoom": 19,
       "name": "BasemapAT.terrain",
       "options": [
        "attribution",
        "bounds",
        "detect_retina",
        "max_native_zoom",
        "max_zoom",
        "min_native_zoom",
        "min_zoom",
        "no_wrap",
        "tile_size",
        "tms"
       ],
       "url": "https://maps.wien.gv.at/basemap/bmapgelaende/grau/google3857/{z}/{y}/{x}.jpeg"
      }
     },
     "1e1b35b5ab8641b0bfa78e2f01459439": {
      "model_module": "jupyter-leaflet",
      "model_module_version": "^0.17.0",
      "model_name": "LeafletTileLayerModel",
      "state": {
       "_model_module_version": "^0.17.0",
       "_view_module_version": "^0.17.0",
       "attribution": "Tiles (C) Esri -- Source: USGS, Esri, TANA, DeLorme, and NPS",
       "max_zoom": 13,
       "name": "Esri.WorldTerrain",
       "options": [
        "attribution",
        "bounds",
        "detect_retina",
        "max_native_zoom",
        "max_zoom",
        "min_native_zoom",
        "min_zoom",
        "no_wrap",
        "tile_size",
        "tms"
       ],
       "url": "https://server.arcgisonline.com/ArcGIS/rest/services/World_Terrain_Base/MapServer/tile/{z}/{y}/{x}"
      }
     },
     "1f07c9a6cb974ab78346bde65ea64731": {
      "model_module": "jupyter-leaflet",
      "model_module_version": "^0.17.0",
      "model_name": "LeafletTileLayerModel",
      "state": {
       "_model_module_version": "^0.17.0",
       "_view_module_version": "^0.17.0",
       "attribution": "© swisstopo",
       "name": "SwissFederalGeoportal.NationalMapColor",
       "options": [
        "attribution",
        "bounds",
        "detect_retina",
        "max_native_zoom",
        "max_zoom",
        "min_native_zoom",
        "min_zoom",
        "no_wrap",
        "tile_size",
        "tms"
       ],
       "url": "https://wmts.geo.admin.ch/1.0.0/ch.swisstopo.pixelkarte-farbe/default/current/3857/{z}/{x}/{y}.jpeg"
      }
     },
     "22105bbec7ed41fda9f6204e7ff012c6": {
      "model_module": "@jupyter-widgets/base",
      "model_module_version": "1.2.0",
      "model_name": "LayoutModel",
      "state": {}
     },
     "23703e7ed5584f59a099a05b2dc04984": {
      "model_module": "jupyter-leaflet",
      "model_module_version": "^0.17.0",
      "model_name": "LeafletTileLayerModel",
      "state": {
       "_model_module_version": "^0.17.0",
       "_view_module_version": "^0.17.0",
       "attribution": "Map data: (C) OpenStreetMap contributors, SRTM | Map style: (C) OpenTopoMap (CC-BY-SA)",
       "max_zoom": 17,
       "name": "OpenTopoMap",
       "options": [
        "attribution",
        "bounds",
        "detect_retina",
        "max_native_zoom",
        "max_zoom",
        "min_native_zoom",
        "min_zoom",
        "no_wrap",
        "tile_size",
        "tms"
       ],
       "url": "https://a.tile.opentopomap.org/{z}/{x}/{y}.png"
      }
     },
     "23d9d5a3d25440319a1f6202b7b49be2": {
      "model_module": "@jupyter-widgets/controls",
      "model_module_version": "1.5.0",
      "model_name": "DescriptionStyleModel",
      "state": {
       "description_width": ""
      }
     },
     "2454049dab7c4e6bacdbfe1a4c43914d": {
      "model_module": "@jupyter-widgets/controls",
      "model_module_version": "1.5.0",
      "model_name": "ButtonModel",
      "state": {
       "description": "Open Model Results",
       "layout": "IPY_MODEL_6a15751ed6404b88aeecf08d3443ffcb",
       "style": "IPY_MODEL_f4210837914e4faab6f8b818b8ae75f6"
      }
     },
     "259da6535fc147d9ba10846ea0983e30": {
      "model_module": "@jupyter-widgets/controls",
      "model_module_version": "1.5.0",
      "model_name": "DescriptionStyleModel",
      "state": {
       "description_width": ""
      }
     },
     "27b6408a26664d0798fbbc694aabd7e7": {
      "model_module": "jupyter-leaflet",
      "model_module_version": "^0.17.0",
      "model_name": "LeafletTileLayerModel",
      "state": {
       "_model_module_version": "^0.17.0",
       "_view_module_version": "^0.17.0",
       "attribution": "OpenStreetMap",
       "max_zoom": 22,
       "name": "OpenStreetMap",
       "options": [
        "attribution",
        "bounds",
        "detect_retina",
        "max_native_zoom",
        "max_zoom",
        "min_native_zoom",
        "min_zoom",
        "no_wrap",
        "tile_size",
        "tms"
       ]
      }
     },
     "27fce51a37a44af19c20b7e83aa8a508": {
      "model_module": "jupyter-leaflet",
      "model_module_version": "^0.17.0",
      "model_name": "LeafletTileLayerModel",
      "state": {
       "_model_module_version": "^0.17.0",
       "_view_module_version": "^0.17.0",
       "attribution": "Map data: (C) OpenStreetMap contributors | Map style: (C) waymarkedtrails.org (CC-BY-SA)",
       "name": "WaymarkedTrails.slopes",
       "options": [
        "attribution",
        "bounds",
        "detect_retina",
        "max_native_zoom",
        "max_zoom",
        "min_native_zoom",
        "min_zoom",
        "no_wrap",
        "tile_size",
        "tms"
       ],
       "url": "https://tile.waymarkedtrails.org/slopes/{z}/{x}/{y}.png"
      }
     },
     "281e09ac67d94d82b212f6eade68d452": {
      "model_module": "jupyter-leaflet",
      "model_module_version": "^0.17.0",
      "model_name": "LeafletTileLayerModel",
      "state": {
       "_model_module_version": "^0.17.0",
       "_view_module_version": "^0.17.0",
       "attribution": "Datenquelle: basemap.at",
       "max_zoom": 20,
       "name": "BasemapAT.basemap",
       "options": [
        "attribution",
        "bounds",
        "detect_retina",
        "max_native_zoom",
        "max_zoom",
        "min_native_zoom",
        "min_zoom",
        "no_wrap",
        "tile_size",
        "tms"
       ],
       "url": "https://maps.wien.gv.at/basemap/geolandbasemap/normal/google3857/{z}/{y}/{x}.png"
      }
     },
     "2a9991841bda403394705828156463f9": {
      "model_module": "@jupyter-widgets/controls",
      "model_module_version": "1.5.0",
      "model_name": "ButtonModel",
      "state": {
       "description": "Select Your Images",
       "layout": "IPY_MODEL_b9c883440f7a46a9bbe2f51037885450",
       "style": "IPY_MODEL_ed7719fa1a5e481e9852fc143f2e9b38"
      }
     },
     "2aec06adbb7146cfab546ce1868d6e9c": {
      "model_module": "jupyter-leaflet",
      "model_module_version": "^0.17.0",
      "model_name": "LeafletTileLayerModel",
      "state": {
       "_model_module_version": "^0.17.0",
       "_view_module_version": "^0.17.0",
       "attribution": "Google",
       "max_zoom": 22,
       "name": "Google Satellite",
       "options": [
        "attribution",
        "bounds",
        "detect_retina",
        "max_native_zoom",
        "max_zoom",
        "min_native_zoom",
        "min_zoom",
        "no_wrap",
        "tile_size",
        "tms"
       ],
       "url": "https://mt1.google.com/vt/lyrs=y&x={x}&y={y}&z={z}"
      }
     },
     "2bacd2cadbd640a985bee59689ead7f6": {
      "model_module": "jupyter-leaflet",
      "model_module_version": "^0.17.0",
      "model_name": "LeafletTileLayerModel",
      "state": {
       "_model_module_version": "^0.17.0",
       "_view_module_version": "^0.17.0",
       "attribution": "Datenquelle: basemap.at",
       "max_zoom": 19,
       "name": "BasemapAT.overlay",
       "options": [
        "attribution",
        "bounds",
        "detect_retina",
        "max_native_zoom",
        "max_zoom",
        "min_native_zoom",
        "min_zoom",
        "no_wrap",
        "tile_size",
        "tms"
       ],
       "url": "https://maps.wien.gv.at/basemap/bmapoverlay/normal/google3857/{z}/{y}/{x}.png"
      }
     },
     "2ca11fccaeef45fba8a1514f37220b23": {
      "model_module": "@jupyter-widgets/controls",
      "model_module_version": "1.5.0",
      "model_name": "HTMLModel",
      "state": {
       "layout": "IPY_MODEL_c92366833165484ea46cdaa6992013c0",
       "style": "IPY_MODEL_8bd31ee87f2546f0b112788abf5960c1",
       "value": "____________________________________________________"
      }
     },
     "2d6c7b5369df41b499482dcabaa14258": {
      "model_module": "@jupyter-widgets/controls",
      "model_module_version": "1.5.0",
      "model_name": "DescriptionStyleModel",
      "state": {
       "description_width": ""
      }
     },
     "304b1219e9f64a98809a944a56e2df7c": {
      "model_module": "jupyter-leaflet",
      "model_module_version": "^0.17.0",
      "model_name": "LeafletTileLayerModel",
      "state": {
       "_model_module_version": "^0.17.0",
       "_view_module_version": "^0.17.0",
       "attribution": "Tiles &copy; Esri &mdash; Esri, DeLorme, NAVTEQ, TomTom, Intermap, iPC, USGS, FAO, NPS, NRCAN, GeoBase, Kadaster NL, Ordnance Survey, Esri Japan, METI, Esri China (Hong Kong), and the GIS User Community",
       "max_zoom": 24,
       "name": "Esri.ArcticOceanBase",
       "options": [
        "attribution",
        "bounds",
        "detect_retina",
        "max_native_zoom",
        "max_zoom",
        "min_native_zoom",
        "min_zoom",
        "no_wrap",
        "tile_size",
        "tms"
       ],
       "url": "http://server.arcgisonline.com/ArcGIS/rest/services/Polar/Arctic_Ocean_Base/MapServer/tile/{z}/{y}/{x}"
      }
     },
     "34da74455a34401abc9d5887d6d22153": {
      "model_module": "@jupyter-widgets/base",
      "model_module_version": "1.2.0",
      "model_name": "LayoutModel",
      "state": {
       "margin": "0px 0px 0px 20px"
      }
     },
     "3599510607234d7698b8b8bd899fead2": {
      "model_module": "jupyter-leaflet",
      "model_module_version": "^0.17.0",
      "model_name": "LeafletWMSLayerModel",
      "state": {
       "_model_module_version": "^0.17.0",
       "_view_module_version": "^0.17.0",
       "attribution": "MRLC",
       "crs": {
        "custom": false,
        "name": "EPSG3857"
       },
       "format": "image/png",
       "layers": "NLCD_2011_Land_Cover_L48",
       "name": "NLCD 2011 CONUS Land Cover",
       "options": [
        "attribution",
        "bounds",
        "detect_retina",
        "format",
        "layers",
        "max_native_zoom",
        "max_zoom",
        "min_native_zoom",
        "min_zoom",
        "no_wrap",
        "styles",
        "tile_size",
        "tms",
        "transparent",
        "uppercase"
       ],
       "transparent": true,
       "url": "https://www.mrlc.gov/geoserver/mrlc_display/NLCD_2011_Land_Cover_L48/wms?"
      }
     },
     "372f626376144e71800dc44da2ac1cf8": {
      "model_module": "jupyter-leaflet",
      "model_module_version": "^0.17.0",
      "model_name": "LeafletTileLayerModel",
      "state": {
       "_model_module_version": "^0.17.0",
       "_view_module_version": "^0.17.0",
       "attribution": "Tiles (C) Esri -- Esri, DeLorme, NAVTEQ, TomTom, Intermap, iPC, USGS, FAO, NPS, NRCAN, GeoBase, Kadaster NL, Ordnance Survey, Esri Japan, METI, Esri China (Hong Kong), and the GIS User Community",
       "max_zoom": 22,
       "name": "Esri.WorldTopoMap",
       "options": [
        "attribution",
        "bounds",
        "detect_retina",
        "max_native_zoom",
        "max_zoom",
        "min_native_zoom",
        "min_zoom",
        "no_wrap",
        "tile_size",
        "tms"
       ],
       "url": "https://server.arcgisonline.com/ArcGIS/rest/services/World_Topo_Map/MapServer/tile/{z}/{y}/{x}"
      }
     },
     "37c508aab36b4138ae680c6464cb4b56": {
      "model_module": "jupyter-leaflet",
      "model_module_version": "^0.17.0",
      "model_name": "LeafletWMSLayerModel",
      "state": {
       "_model_module_version": "^0.17.0",
       "_view_module_version": "^0.17.0",
       "attribution": "MRLC",
       "crs": {
        "custom": false,
        "name": "EPSG3857"
       },
       "format": "image/png",
       "layers": "NLCD_2016_Land_Cover_L48",
       "name": "NLCD 2016 CONUS Land Cover",
       "options": [
        "attribution",
        "bounds",
        "detect_retina",
        "format",
        "layers",
        "max_native_zoom",
        "max_zoom",
        "min_native_zoom",
        "min_zoom",
        "no_wrap",
        "styles",
        "tile_size",
        "tms",
        "transparent",
        "uppercase"
       ],
       "transparent": true,
       "url": "https://www.mrlc.gov/geoserver/mrlc_display/NLCD_2016_Land_Cover_L48/wms?"
      }
     },
     "389702435ac3483d907aad002ace27f3": {
      "model_module": "jupyter-leaflet",
      "model_module_version": "^0.17.0",
      "model_name": "LeafletTileLayerModel",
      "state": {
       "_model_module_version": "^0.17.0",
       "_view_module_version": "^0.17.0",
       "attribution": "(C) OpenStreetMap contributors",
       "name": "OpenStreetMap.BlackAndWhite",
       "options": [
        "attribution",
        "bounds",
        "detect_retina",
        "max_native_zoom",
        "max_zoom",
        "min_native_zoom",
        "min_zoom",
        "no_wrap",
        "tile_size",
        "tms"
       ],
       "url": "http://a.tiles.wmflabs.org/bw-mapnik/{z}/{x}/{y}.png"
      }
     },
     "39a4da05ceee4b6793c0e07ff644e6c0": {
      "model_module": "jupyter-leaflet",
      "model_module_version": "^0.17.0",
      "model_name": "LeafletTileLayerModel",
      "state": {
       "_model_module_version": "^0.17.0",
       "_view_module_version": "^0.17.0",
       "attribution": "Tiles &copy; Esri &mdash; Esri, DeLorme, NAVTEQ, TomTom, Intermap, iPC, USGS, FAO, NPS, NRCAN, GeoBase, Kadaster NL, Ordnance Survey, Esri Japan, METI, Esri China (Hong Kong), and the GIS User Community",
       "max_zoom": 24,
       "name": "Esri.ArcticOceanReference",
       "options": [
        "attribution",
        "bounds",
        "detect_retina",
        "max_native_zoom",
        "max_zoom",
        "min_native_zoom",
        "min_zoom",
        "no_wrap",
        "tile_size",
        "tms"
       ],
       "url": "http://server.arcgisonline.com/ArcGIS/rest/services/Polar/Arctic_Ocean_Reference/MapServer/tile/{z}/{y}/{x}"
      }
     },
     "39cb598c43ba43a8a01969a9b5203d9d": {
      "model_module": "jupyter-leaflet",
      "model_module_version": "^0.17.0",
      "model_name": "LeafletTileLayerModel",
      "state": {
       "_model_module_version": "^0.17.0",
       "_view_module_version": "^0.17.0",
       "attribution": "Map data: (C) OpenStreetMap contributors | Map style: (C) waymarkedtrails.org (CC-BY-SA)",
       "name": "WaymarkedTrails.mtb",
       "options": [
        "attribution",
        "bounds",
        "detect_retina",
        "max_native_zoom",
        "max_zoom",
        "min_native_zoom",
        "min_zoom",
        "no_wrap",
        "tile_size",
        "tms"
       ],
       "url": "https://tile.waymarkedtrails.org/mtb/{z}/{x}/{y}.png"
      }
     },
     "3ca5f8009338435d802eae72c74da829": {
      "model_module": "jupyter-leaflet",
      "model_module_version": "^0.17.0",
      "model_name": "LeafletWMSLayerModel",
      "state": {
       "_model_module_version": "^0.17.0",
       "_view_module_version": "^0.17.0",
       "attribution": "ESA",
       "crs": {
        "custom": false,
        "name": "EPSG3857"
       },
       "format": "image/png",
       "layers": "WORLDCOVER_2020_S2_FCC",
       "name": "ESA Worldcover 2020 S2 FCC",
       "options": [
        "attribution",
        "bounds",
        "detect_retina",
        "format",
        "layers",
        "max_native_zoom",
        "max_zoom",
        "min_native_zoom",
        "min_zoom",
        "no_wrap",
        "styles",
        "tile_size",
        "tms",
        "transparent",
        "uppercase"
       ],
       "transparent": true,
       "url": "https://services.terrascope.be/wms/v2"
      }
     },
     "3d52d287d2424e60a0741aac0e360c5a": {
      "model_module": "@jupyter-widgets/controls",
      "model_module_version": "1.5.0",
      "model_name": "DescriptionStyleModel",
      "state": {
       "description_width": ""
      }
     },
     "3dfb88fec6544aa2a27d7702dbda4f5d": {
      "model_module": "jupyter-leaflet",
      "model_module_version": "^0.17.0",
      "model_name": "LeafletTileLayerModel",
      "state": {
       "_model_module_version": "^0.17.0",
       "_view_module_version": "^0.17.0",
       "attribution": "(C) OpenStreetMap contributors, Tiles style by Humanitarian OpenStreetMap Team hosted by OpenStreetMap France",
       "max_zoom": 19,
       "name": "OpenStreetMap.HOT",
       "options": [
        "attribution",
        "bounds",
        "detect_retina",
        "max_native_zoom",
        "max_zoom",
        "min_native_zoom",
        "min_zoom",
        "no_wrap",
        "tile_size",
        "tms"
       ],
       "url": "https://a.tile.openstreetmap.fr/hot/{z}/{x}/{y}.png"
      }
     },
     "40416081c68b4eb38fc3b402ebcedbcf": {
      "model_module": "jupyter-leaflet",
      "model_module_version": "^0.17.0",
      "model_name": "LeafletTileLayerModel",
      "state": {
       "_model_module_version": "^0.17.0",
       "_view_module_version": "^0.17.0",
       "attribution": "(C) OpenStreetMap contributors (C) CARTO",
       "max_zoom": 20,
       "name": "CartoDB.DarkMatter",
       "options": [
        "attribution",
        "bounds",
        "detect_retina",
        "max_native_zoom",
        "max_zoom",
        "min_native_zoom",
        "min_zoom",
        "no_wrap",
        "tile_size",
        "tms"
       ],
       "url": "https://a.basemaps.cartocdn.com/dark_all/{z}/{x}/{y}.png"
      }
     },
     "432b500c3ffa4c758882f093541ccfcf": {
      "model_module": "jupyter-leaflet",
      "model_module_version": "^0.17.0",
      "model_name": "LeafletTileLayerModel",
      "state": {
       "_model_module_version": "^0.17.0",
       "_view_module_version": "^0.17.0",
       "attribution": "Geoportail France",
       "max_zoom": 19,
       "name": "GeoportailFrance.orthos",
       "options": [
        "attribution",
        "bounds",
        "detect_retina",
        "max_native_zoom",
        "max_zoom",
        "min_native_zoom",
        "min_zoom",
        "no_wrap",
        "tile_size",
        "tms"
       ],
       "url": "https://wxs.ign.fr/choisirgeoportail/geoportail/wmts?REQUEST=GetTile&SERVICE=WMTS&VERSION=1.0.0&STYLE=normal&TILEMATRIXSET=PM&FORMAT=image/jpeg&LAYER=ORTHOIMAGERY.ORTHOPHOTOS&TILEMATRIX={z}&TILEROW={y}&TILECOL={x}"
      }
     },
     "4366112f77264500b7bab61382f14102": {
      "model_module": "@jupyter-widgets/output",
      "model_module_version": "1.0.0",
      "model_name": "OutputModel",
      "state": {
       "layout": "IPY_MODEL_57fb9200337b461fa6470cb41237f726",
       "outputs": [
        {
         "name": "stdout",
         "output_type": "stream",
         "text": "Using CRF post-processing\n"
        }
       ]
      }
     },
     "477bfcc5ad014995a12f4f38d0813837": {
      "model_module": "@jupyter-widgets/base",
      "model_module_version": "1.2.0",
      "model_name": "LayoutModel",
      "state": {}
     },
     "47c62d7011e54bb2b85b6b30a65cacd6": {
      "model_module": "jupyter-leaflet",
      "model_module_version": "^0.17.0",
      "model_name": "LeafletTileLayerModel",
      "state": {
       "_model_module_version": "^0.17.0",
       "_view_module_version": "^0.17.0",
       "attribution": "(C) OpenStreetMap contributors",
       "max_zoom": 19,
       "name": "HikeBike.HikeBike",
       "options": [
        "attribution",
        "bounds",
        "detect_retina",
        "max_native_zoom",
        "max_zoom",
        "min_native_zoom",
        "min_zoom",
        "no_wrap",
        "tile_size",
        "tms"
       ],
       "url": "https://tiles.wmflabs.org/hikebike/{z}/{x}/{y}.png"
      }
     },
     "485ee0906c3347718dc6fdb0576fe5a3": {
      "model_module": "jupyter-leaflet",
      "model_module_version": "^0.17.0",
      "model_name": "LeafletTileLayerModel",
      "state": {
       "_model_module_version": "^0.17.0",
       "_view_module_version": "^0.17.0",
       "attribution": "Map tiles by Stamen Design, CC BY 3.0 -- Map data (C) OpenStreetMap contributors",
       "max_zoom": 20,
       "name": "Stamen.TonerLabels",
       "options": [
        "attribution",
        "bounds",
        "detect_retina",
        "max_native_zoom",
        "max_zoom",
        "min_native_zoom",
        "min_zoom",
        "no_wrap",
        "tile_size",
        "tms"
       ],
       "url": "https://stamen-tiles-a.a.ssl.fastly.net/toner-labels/{z}/{x}/{y}.png"
      }
     },
     "49778c18dd8c4a5b8dd961431a6fb9bb": {
      "model_module": "@jupyter-widgets/controls",
      "model_module_version": "1.5.0",
      "model_name": "HTMLModel",
      "state": {
       "layout": "IPY_MODEL_34da74455a34401abc9d5887d6d22153",
       "style": "IPY_MODEL_b65ca3c104744889b506f0d6ecc9549f",
       "value": "<b>3. Run Model Button</b>         <br> - Make sure to click Select Images Button or Use Data Button.<br>             - The model will be applied to the selected folder and the model outputs will be generated within a subdirectory             called 'out'<br>      - <span style=\"background-color:yellow;color: black;\">WARNING :</span> You should not run multiple models on the same folder. Otherwise not all the model outputs      will be saved to the folder.<br>    "
      }
     },
     "4c7168123ff64374a802c5fdfca84bf2": {
      "model_module": "jupyter-leaflet",
      "model_module_version": "^0.17.0",
      "model_name": "LeafletWMSLayerModel",
      "state": {
       "_model_module_version": "^0.17.0",
       "_view_module_version": "^0.17.0",
       "attribution": "USGS",
       "crs": {
        "custom": false,
        "name": "EPSG3857"
       },
       "format": "image/png",
       "layers": "USGSNAIPImagery:FalseColorComposite",
       "name": "USGS NAIP Imagery False Color",
       "options": [
        "attribution",
        "bounds",
        "detect_retina",
        "format",
        "layers",
        "max_native_zoom",
        "max_zoom",
        "min_native_zoom",
        "min_zoom",
        "no_wrap",
        "styles",
        "tile_size",
        "tms",
        "transparent",
        "uppercase"
       ],
       "transparent": true,
       "url": "https://imagery.nationalmap.gov/arcgis/services/USGSNAIPImagery/ImageServer/WMSServer?"
      }
     },
     "4cfa5bd510de426aa8ffaa05a40abea1": {
      "model_module": "jupyter-leaflet",
      "model_module_version": "^0.17.0",
      "model_name": "LeafletTileLayerModel",
      "state": {
       "_model_module_version": "^0.17.0",
       "_view_module_version": "^0.17.0",
       "attribution": "Imagery provided by services from the Global Imagery Browse Services (GIBS), operated by the NASA/GSFC/Earth Science Data and Information System (ESDIS) with funding provided by NASA/HQ.",
       "max_zoom": 9,
       "name": "NASAGIBS.ViirsTrueColorCR",
       "options": [
        "attribution",
        "bounds",
        "detect_retina",
        "max_native_zoom",
        "max_zoom",
        "min_native_zoom",
        "min_zoom",
        "no_wrap",
        "tile_size",
        "tms"
       ],
       "url": "https://gibs.earthdata.nasa.gov/wmts/epsg3857/best/VIIRS_SNPP_CorrectedReflectance_TrueColor/default//GoogleMapsCompatible_Level9/{z}/{y}/{x}.jpg"
      }
     },
     "4e23908d7b4d415ca80ad709ff422aa2": {
      "model_module": "@jupyter-widgets/controls",
      "model_module_version": "1.5.0",
      "model_name": "DescriptionStyleModel",
      "state": {
       "description_width": ""
      }
     },
     "4e881ad7d6e64209adabbf80775e3bdd": {
      "model_module": "jupyter-leaflet",
      "model_module_version": "^0.17.0",
      "model_name": "LeafletTileLayerModel",
      "state": {
       "_model_module_version": "^0.17.0",
       "_view_module_version": "^0.17.0",
       "attribution": "(C) Stadia Maps, (C) OpenMapTiles (C) OpenStreetMap contributors",
       "max_zoom": 20,
       "name": "Stadia.AlidadeSmooth",
       "options": [
        "attribution",
        "bounds",
        "detect_retina",
        "max_native_zoom",
        "max_zoom",
        "min_native_zoom",
        "min_zoom",
        "no_wrap",
        "tile_size",
        "tms"
       ],
       "url": "https://tiles.stadiamaps.com/tiles/alidade_smooth/{z}/{x}/{y}.png"
      }
     },
     "4f5c6a486feb4a4397e440d9ded82ebd": {
      "model_module": "jupyter-leaflet",
      "model_module_version": "^0.17.0",
      "model_name": "LeafletTileLayerModel",
      "state": {
       "_model_module_version": "^0.17.0",
       "_view_module_version": "^0.17.0",
       "attribution": "(C) OpenStreetMap contributors",
       "max_zoom": 15,
       "name": "HikeBike.HillShading",
       "options": [
        "attribution",
        "bounds",
        "detect_retina",
        "max_native_zoom",
        "max_zoom",
        "min_native_zoom",
        "min_zoom",
        "no_wrap",
        "tile_size",
        "tms"
       ],
       "url": "https://tiles.wmflabs.org/hillshading/{z}/{x}/{y}.png"
      }
     },
     "5206e28340844d229ba48960e2154a76": {
      "model_module": "jupyter-leaflet",
      "model_module_version": "^0.17.0",
      "model_name": "LeafletTileLayerModel",
      "state": {
       "_model_module_version": "^0.17.0",
       "_view_module_version": "^0.17.0",
       "attribution": "Map memomaps.de CC-BY-SA, map data (C) OpenStreetMap contributors",
       "name": "OPNVKarte",
       "options": [
        "attribution",
        "bounds",
        "detect_retina",
        "max_native_zoom",
        "max_zoom",
        "min_native_zoom",
        "min_zoom",
        "no_wrap",
        "tile_size",
        "tms"
       ],
       "url": "https://tileserver.memomaps.de/tilegen/{z}/{x}/{y}.png"
      }
     },
     "57f14383163c4a11af631d22034fb4c9": {
      "model_module": "jupyter-leaflet",
      "model_module_version": "^0.17.0",
      "model_name": "LeafletTileLayerModel",
      "state": {
       "_model_module_version": "^0.17.0",
       "_view_module_version": "^0.17.0",
       "attribution": "(C) OpenStreetMap contributors, Tiles courtesy of Breton OpenStreetMap Team",
       "max_zoom": 19,
       "name": "OpenStreetMap.BZH",
       "options": [
        "attribution",
        "bounds",
        "detect_retina",
        "max_native_zoom",
        "max_zoom",
        "min_native_zoom",
        "min_zoom",
        "no_wrap",
        "tile_size",
        "tms"
       ],
       "url": "https://tile.openstreetmap.bzh/br/{z}/{x}/{y}.png"
      }
     },
     "57fb9200337b461fa6470cb41237f726": {
      "model_module": "@jupyter-widgets/base",
      "model_module_version": "1.2.0",
      "model_name": "LayoutModel",
      "state": {}
     },
     "593bc8864fbc4b72b23c292bb05cc34c": {
      "model_module": "jupyter-leaflet",
      "model_module_version": "^0.17.0",
      "model_name": "LeafletTileLayerModel",
      "state": {
       "_model_module_version": "^0.17.0",
       "_view_module_version": "^0.17.0",
       "attribution": "Kaartgegevens (C) Kadaster",
       "max_zoom": 19,
       "name": "nlmaps.water",
       "options": [
        "attribution",
        "bounds",
        "detect_retina",
        "max_native_zoom",
        "max_zoom",
        "min_native_zoom",
        "min_zoom",
        "no_wrap",
        "tile_size",
        "tms"
       ],
       "url": "https://service.pdok.nl/brt/achtergrondkaart/wmts/v2_0/water/EPSG:3857/{z}/{x}/{y}.png"
      }
     },
     "5bffffcdec09470890ae99007c2c61e9": {
      "model_module": "jupyter-leaflet",
      "model_module_version": "^0.17.0",
      "model_name": "LeafletWMSLayerModel",
      "state": {
       "_model_module_version": "^0.17.0",
       "_view_module_version": "^0.17.0",
       "attribution": "MRLC",
       "crs": {
        "custom": false,
        "name": "EPSG3857"
       },
       "format": "image/png",
       "layers": "NLCD_2001_Land_Cover_L48",
       "name": "NLCD 2001 CONUS Land Cover",
       "options": [
        "attribution",
        "bounds",
        "detect_retina",
        "format",
        "layers",
        "max_native_zoom",
        "max_zoom",
        "min_native_zoom",
        "min_zoom",
        "no_wrap",
        "styles",
        "tile_size",
        "tms",
        "transparent",
        "uppercase"
       ],
       "transparent": true,
       "url": "https://www.mrlc.gov/geoserver/mrlc_display/NLCD_2001_Land_Cover_L48/wms?"
      }
     },
     "5d370f0fffcb4301b1af77b04bb714bb": {
      "model_module": "jupyter-leaflet",
      "model_module_version": "^0.17.0",
      "model_name": "LeafletWMSLayerModel",
      "state": {
       "_model_module_version": "^0.17.0",
       "_view_module_version": "^0.17.0",
       "attribution": "MRLC",
       "crs": {
        "custom": false,
        "name": "EPSG3857"
       },
       "format": "image/png",
       "layers": "NLCD_2013_Land_Cover_L48",
       "name": "NLCD 2013 CONUS Land Cover",
       "options": [
        "attribution",
        "bounds",
        "detect_retina",
        "format",
        "layers",
        "max_native_zoom",
        "max_zoom",
        "min_native_zoom",
        "min_zoom",
        "no_wrap",
        "styles",
        "tile_size",
        "tms",
        "transparent",
        "uppercase"
       ],
       "transparent": true,
       "url": "https://www.mrlc.gov/geoserver/mrlc_display/NLCD_2013_Land_Cover_L48/wms?"
      }
     },
     "5de01a569e7c4abb81a94073e900cb90": {
      "model_module": "jupyter-leaflet",
      "model_module_version": "^0.17.0",
      "model_name": "LeafletTileLayerModel",
      "state": {
       "_model_module_version": "^0.17.0",
       "_view_module_version": "^0.17.0",
       "attribution": "Imagery provided by services from the Global Imagery Browse Services (GIBS), operated by the NASA/GSFC/Earth Science Data and Information System (ESDIS) with funding provided by NASA/HQ.",
       "max_zoom": 9,
       "name": "NASAGIBS.ModisTerraTrueColorCR",
       "options": [
        "attribution",
        "bounds",
        "detect_retina",
        "max_native_zoom",
        "max_zoom",
        "min_native_zoom",
        "min_zoom",
        "no_wrap",
        "tile_size",
        "tms"
       ],
       "url": "https://map1.vis.earthdata.nasa.gov/wmts-webmerc/MODIS_Terra_CorrectedReflectance_TrueColor/default//GoogleMapsCompatible_Level9/{z}/{y}/{x}.jpg"
      }
     },
     "5e0807cce31b42f8a87b892ea7ce049e": {
      "model_module": "@jupyter-widgets/controls",
      "model_module_version": "1.5.0",
      "model_name": "ButtonStyleModel",
      "state": {
       "button_color": "#69add1"
      }
     },
     "5edeef5cbf3b4b1d909b08d2b7cc9be5": {
      "model_module": "jupyter-leaflet",
      "model_module_version": "^0.17.0",
      "model_name": "LeafletTileLayerModel",
      "state": {
       "_model_module_version": "^0.17.0",
       "_view_module_version": "^0.17.0",
       "attribution": "Imagery provided by services from the Global Imagery Browse Services (GIBS), operated by the NASA/GSFC/Earth Science Data and Information System (ESDIS) with funding provided by NASA/HQ.",
       "max_zoom": 8,
       "name": "NASAGIBS.BlueMarble",
       "options": [
        "attribution",
        "bounds",
        "detect_retina",
        "max_native_zoom",
        "max_zoom",
        "min_native_zoom",
        "min_zoom",
        "no_wrap",
        "tile_size",
        "tms"
       ],
       "url": "https://gibs.earthdata.nasa.gov/wmts/epsg3857/best/BlueMarble_NextGeneration/default/EPSG3857_500m/{z}/{y}/{x}.jpeg"
      }
     },
     "60bc232cd9d645259717712be60753bb": {
      "model_module": "jupyter-leaflet",
      "model_module_version": "^0.17.0",
      "model_name": "LeafletTileLayerModel",
      "state": {
       "_model_module_version": "^0.17.0",
       "_view_module_version": "^0.17.0",
       "attribution": "Imagery provided by services from the Global Imagery Browse Services (GIBS), operated by the NASA/GSFC/Earth Science Data and Information System (ESDIS) with funding provided by NASA/HQ.",
       "max_zoom": 9,
       "name": "NASAGIBS.ModisTerraBands367CR",
       "options": [
        "attribution",
        "bounds",
        "detect_retina",
        "max_native_zoom",
        "max_zoom",
        "min_native_zoom",
        "min_zoom",
        "no_wrap",
        "tile_size",
        "tms"
       ],
       "url": "https://map1.vis.earthdata.nasa.gov/wmts-webmerc/MODIS_Terra_CorrectedReflectance_Bands367/default//GoogleMapsCompatible_Level9/{z}/{y}/{x}.jpg"
      }
     },
     "6104b51f00b24ecaa3c8b74fdcc1427f": {
      "model_module": "@jupyter-widgets/controls",
      "model_module_version": "1.5.0",
      "model_name": "HBoxModel",
      "state": {
       "children": [
        "IPY_MODEL_a5538ff140014fc986983e4308b68ed1",
        "IPY_MODEL_dcec9375485c4b03af708c2a15fbeefe"
       ],
       "layout": "IPY_MODEL_c03bec43fddc4f6389dc700982128702"
      }
     },
     "61cbe00c6dda41ee805573c9a1881ab0": {
      "model_module": "jupyter-leaflet",
      "model_module_version": "^0.17.0",
      "model_name": "LeafletTileLayerModel",
      "state": {
       "_model_module_version": "^0.17.0",
       "_view_module_version": "^0.17.0",
       "attribution": "Tiles (C) Esri -- Source: US National Park Service",
       "max_zoom": 8,
       "name": "Esri.WorldPhysical",
       "options": [
        "attribution",
        "bounds",
        "detect_retina",
        "max_native_zoom",
        "max_zoom",
        "min_native_zoom",
        "min_zoom",
        "no_wrap",
        "tile_size",
        "tms"
       ],
       "url": "https://server.arcgisonline.com/ArcGIS/rest/services/World_Physical_Map/MapServer/tile/{z}/{y}/{x}"
      }
     },
     "6372c69599f543de9895f0a6fa2e60e5": {
      "model_module": "jupyter-leaflet",
      "model_module_version": "^0.17.0",
      "model_name": "LeafletTileLayerModel",
      "state": {
       "_model_module_version": "^0.17.0",
       "_view_module_version": "^0.17.0",
       "attribution": "Imagery provided by services from the Global Imagery Browse Services (GIBS), operated by the NASA/GSFC/Earth Science Data and Information System (ESDIS) with funding provided by NASA/HQ.",
       "max_zoom": 6,
       "name": "NASAGIBS.ModisTerraAOD",
       "options": [
        "attribution",
        "bounds",
        "detect_retina",
        "max_native_zoom",
        "max_zoom",
        "min_native_zoom",
        "min_zoom",
        "no_wrap",
        "tile_size",
        "tms"
       ],
       "url": "https://map1.vis.earthdata.nasa.gov/wmts-webmerc/MODIS_Terra_Aerosol/default//GoogleMapsCompatible_Level6/{z}/{y}/{x}.png"
      }
     },
     "640f0d9ae77f48e0be3a57397223d28d": {
      "model_module": "jupyter-leaflet",
      "model_module_version": "^0.17.0",
      "model_name": "LeafletTileLayerModel",
      "state": {
       "_model_module_version": "^0.17.0",
       "_view_module_version": "^0.17.0",
       "attribution": "Justice Map",
       "max_zoom": 22,
       "name": "JusticeMap.hispanic",
       "options": [
        "attribution",
        "bounds",
        "detect_retina",
        "max_native_zoom",
        "max_zoom",
        "min_native_zoom",
        "min_zoom",
        "no_wrap",
        "tile_size",
        "tms"
       ],
       "url": "https://www.justicemap.org/tile/county/hispanic/{z}/{x}/{y}.png"
      }
     },
     "661f59de0bff43ee9e3cc12570637552": {
      "model_module": "jupyter-leaflet",
      "model_module_version": "^0.17.0",
      "model_name": "LeafletTileLayerModel",
      "state": {
       "_model_module_version": "^0.17.0",
       "_view_module_version": "^0.17.0",
       "attribution": "![](https://docs.onemap.sg/maps/images/oneMap64-01.png) New OneMap | Map data (C) contributors, Singapore Land Authority",
       "name": "OneMapSG.LandLot",
       "options": [
        "attribution",
        "bounds",
        "detect_retina",
        "max_native_zoom",
        "max_zoom",
        "min_native_zoom",
        "min_zoom",
        "no_wrap",
        "tile_size",
        "tms"
       ],
       "url": "https://maps-a.onemap.sg/v3/LandLot/{z}/{x}/{y}.png"
      }
     },
     "692819469f3d456296623a80d0821507": {
      "model_module": "@jupyter-widgets/controls",
      "model_module_version": "1.5.0",
      "model_name": "HBoxModel",
      "state": {
       "children": [
        "IPY_MODEL_ef7dc8a899894e0e8cb5b30b3f3062ce",
        "IPY_MODEL_85175bc5b5c842a0ae30f1bd6512481a",
        "IPY_MODEL_f7daf7d60612439cbc6696a9cac0b55a"
       ],
       "layout": "IPY_MODEL_477bfcc5ad014995a12f4f38d0813837"
      }
     },
     "6a15751ed6404b88aeecf08d3443ffcb": {
      "model_module": "@jupyter-widgets/base",
      "model_module_version": "1.2.0",
      "model_name": "LayoutModel",
      "state": {}
     },
     "6aeeec6b1faf483aa0d50bce28538a1c": {
      "model_module": "jupyter-leaflet",
      "model_module_version": "^0.17.0",
      "model_name": "LeafletTileLayerModel",
      "state": {
       "_model_module_version": "^0.17.0",
       "_view_module_version": "^0.17.0",
       "attribution": "Map tiles by Stamen Design, CC BY 3.0 -- Map data (C) OpenStreetMap contributors",
       "max_zoom": 20,
       "name": "Stamen.TonerHybrid",
       "options": [
        "attribution",
        "bounds",
        "detect_retina",
        "max_native_zoom",
        "max_zoom",
        "min_native_zoom",
        "min_zoom",
        "no_wrap",
        "tile_size",
        "tms"
       ],
       "url": "https://stamen-tiles-a.a.ssl.fastly.net/toner-hybrid/{z}/{x}/{y}.png"
      }
     },
     "6c5dd364e39d4b25b029736e0e760815": {
      "model_module": "jupyter-leaflet",
      "model_module_version": "^0.17.0",
      "model_name": "LeafletTileLayerModel",
      "state": {
       "_model_module_version": "^0.17.0",
       "_view_module_version": "^0.17.0",
       "attribution": "(C) Stadia Maps, (C) OpenMapTiles (C) OpenStreetMap contributors",
       "max_zoom": 20,
       "name": "Stadia.Outdoors",
       "options": [
        "attribution",
        "bounds",
        "detect_retina",
        "max_native_zoom",
        "max_zoom",
        "min_native_zoom",
        "min_zoom",
        "no_wrap",
        "tile_size",
        "tms"
       ],
       "url": "https://tiles.stadiamaps.com/tiles/outdoors/{z}/{x}/{y}.png"
      }
     },
     "6d36b4ab0b6d4eaf940438974ca30de5": {
      "model_module": "jupyter-leaflet",
      "model_module_version": "^0.17.0",
      "model_name": "LeafletTileLayerModel",
      "state": {
       "_model_module_version": "^0.17.0",
       "_view_module_version": "^0.17.0",
       "attribution": "© swisstopo",
       "name": "SwissFederalGeoportal.JourneyThroughTime",
       "options": [
        "attribution",
        "bounds",
        "detect_retina",
        "max_native_zoom",
        "max_zoom",
        "min_native_zoom",
        "min_zoom",
        "no_wrap",
        "tile_size",
        "tms"
       ],
       "url": "https://wmts.geo.admin.ch/1.0.0/ch.swisstopo.zeitreihen/default/18641231/3857/{z}/{x}/{y}.png"
      }
     },
     "6dd0f2711157449089fa630d3dedebb4": {
      "model_module": "jupyter-leaflet",
      "model_module_version": "^0.17.0",
      "model_name": "LeafletTileLayerModel",
      "state": {
       "_model_module_version": "^0.17.0",
       "_view_module_version": "^0.17.0",
       "attribution": "Imagery provided by services from the Global Imagery Browse Services (GIBS), operated by the NASA/GSFC/Earth Science Data and Information System (ESDIS) with funding provided by NASA/HQ.",
       "max_zoom": 9,
       "name": "NASAGIBS.ModisAquaTrueColorCR",
       "options": [
        "attribution",
        "bounds",
        "detect_retina",
        "max_native_zoom",
        "max_zoom",
        "min_native_zoom",
        "min_zoom",
        "no_wrap",
        "tile_size",
        "tms"
       ],
       "url": "https://gibs.earthdata.nasa.gov/wmts/epsg3857/best/MODIS_Aqua_CorrectedReflectance_TrueColor/default//GoogleMapsCompatible_Level9/{z}/{y}/{x}.jpg"
      }
     },
     "6e36cdf0cb3344f7ae8847f00f55db2f": {
      "model_module": "jupyter-leaflet",
      "model_module_version": "^0.17.0",
      "model_name": "LeafletTileLayerModel",
      "state": {
       "_model_module_version": "^0.17.0",
       "_view_module_version": "^0.17.0",
       "attribution": "Kaartgegevens (C) Kadaster",
       "max_zoom": 19,
       "name": "nlmaps.pastel",
       "options": [
        "attribution",
        "bounds",
        "detect_retina",
        "max_native_zoom",
        "max_zoom",
        "min_native_zoom",
        "min_zoom",
        "no_wrap",
        "tile_size",
        "tms"
       ],
       "url": "https://service.pdok.nl/brt/achtergrondkaart/wmts/v2_0/pastel/EPSG:3857/{z}/{x}/{y}.png"
      }
     },
     "6eec8d3289e2430f8fdf10123f3ecf2b": {
      "model_module": "jupyter-leaflet",
      "model_module_version": "^0.17.0",
      "model_name": "LeafletTileLayerModel",
      "state": {
       "_model_module_version": "^0.17.0",
       "_view_module_version": "^0.17.0",
       "attribution": "Map tiles by <a href=\"https://labs.strava.com/heatmap\">Strava 2021</a>",
       "max_zoom": 15,
       "name": "Strava.All",
       "options": [
        "attribution",
        "bounds",
        "detect_retina",
        "max_native_zoom",
        "max_zoom",
        "min_native_zoom",
        "min_zoom",
        "no_wrap",
        "tile_size",
        "tms"
       ],
       "url": "https://heatmap-external-a.strava.com/tiles/all/hot/{z}/{x}/{y}.png"
      }
     },
     "6f3ccaee7ce84f82b84973e21a2d3bd3": {
      "model_module": "jupyter-leaflet",
      "model_module_version": "^0.17.0",
      "model_name": "LeafletTileLayerModel",
      "state": {
       "_model_module_version": "^0.17.0",
       "_view_module_version": "^0.17.0",
       "attribution": "&copy; <a href=\"http://www.gaode.com/\">Gaode.com</a>",
       "max_zoom": 19,
       "name": "Gaode.Satellite",
       "options": [
        "attribution",
        "bounds",
        "detect_retina",
        "max_native_zoom",
        "max_zoom",
        "min_native_zoom",
        "min_zoom",
        "no_wrap",
        "tile_size",
        "tms"
       ],
       "url": "http://webst01.is.autonavi.com/appmaptile?style=6&x={x}&y={y}&z={z}"
      }
     },
     "6f3d2b928a4c4a30868796ff6af2f53b": {
      "model_module": "jupyter-leaflet",
      "model_module_version": "^0.17.0",
      "model_name": "LeafletTileLayerModel",
      "state": {
       "_model_module_version": "^0.17.0",
       "_view_module_version": "^0.17.0",
       "attribution": "(C) OpenStreetMap contributors (C) CARTO",
       "max_zoom": 20,
       "name": "CartoDB.PositronOnlyLabels",
       "options": [
        "attribution",
        "bounds",
        "detect_retina",
        "max_native_zoom",
        "max_zoom",
        "min_native_zoom",
        "min_zoom",
        "no_wrap",
        "tile_size",
        "tms"
       ],
       "url": "https://a.basemaps.cartocdn.com/light_only_labels/{z}/{x}/{y}.png"
      }
     },
     "6f5f9c010d59434aaa08cc9594bb3f80": {
      "model_module": "@jupyter-widgets/controls",
      "model_module_version": "1.5.0",
      "model_name": "HTMLModel",
      "state": {
       "layout": "IPY_MODEL_073d85aca5eb414aa7f5c39970564602",
       "style": "IPY_MODEL_3d52d287d2424e60a0741aac0e360c5a",
       "value": "<b>2. Select Images Button</b>         <br> - This will open a pop up window where the folder containing the jpgs can be selected.<br>             - The model will be applied to this folder and the model outputs will be generated within a subdirectory             called 'out'<br>      - <span style=\"background-color:yellow;color: black;\">WARNING :</span> You will not be able to see the files within the folder you select.<br>    "
      }
     },
     "6f7d9899845e40918f27d882f1155fc5": {
      "model_module": "@jupyter-widgets/base",
      "model_module_version": "1.2.0",
      "model_name": "LayoutModel",
      "state": {}
     },
     "701915e8f13f4d0c8bfac7744b6bfbc6": {
      "model_module": "jupyter-leaflet",
      "model_module_version": "^0.17.0",
      "model_name": "LeafletTileLayerModel",
      "state": {
       "_model_module_version": "^0.17.0",
       "_view_module_version": "^0.17.0",
       "attribution": "Map tiles by Stamen Design, CC BY 3.0 -- Map data (C) OpenStreetMap contributors",
       "name": "Stamen.TerrainBackground",
       "options": [
        "attribution",
        "bounds",
        "detect_retina",
        "max_native_zoom",
        "max_zoom",
        "min_native_zoom",
        "min_zoom",
        "no_wrap",
        "tile_size",
        "tms"
       ],
       "url": "https://stamen-tiles-a.a.ssl.fastly.net/terrain-background/{z}/{x}/{y}.png"
      }
     },
     "701f9a2a06984a10ac1a1c52fee2a23a": {
      "model_module": "jupyter-leaflet",
      "model_module_version": "^0.17.0",
      "model_name": "LeafletTileLayerModel",
      "state": {
       "_model_module_version": "^0.17.0",
       "_view_module_version": "^0.17.0",
       "attribution": "Datenquelle: basemap.at",
       "max_zoom": 19,
       "name": "BasemapAT.highdpi",
       "options": [
        "attribution",
        "bounds",
        "detect_retina",
        "max_native_zoom",
        "max_zoom",
        "min_native_zoom",
        "min_zoom",
        "no_wrap",
        "tile_size",
        "tms"
       ],
       "url": "https://maps.wien.gv.at/basemap/bmaphidpi/normal/google3857/{z}/{y}/{x}.jpeg"
      }
     },
     "702535264d514ccd84bdc2366994083a": {
      "model_module": "@jupyter-widgets/controls",
      "model_module_version": "1.5.0",
      "model_name": "HBoxModel",
      "state": {
       "children": [
        "IPY_MODEL_c935052c67e74b9e924e55b25578febd",
        "IPY_MODEL_b1cf504355ef4d7a8168cc9b0a8775bf"
       ],
       "layout": "IPY_MODEL_22105bbec7ed41fda9f6204e7ff012c6"
      }
     },
     "716196ed31914eb5ba14b9561f4e7139": {
      "model_module": "jupyter-leaflet",
      "model_module_version": "^0.17.0",
      "model_name": "LeafletTileLayerModel",
      "state": {
       "_model_module_version": "^0.17.0",
       "_view_module_version": "^0.17.0",
       "attribution": "Imagery provided by services from the Global Imagery Browse Services (GIBS), operated by the NASA/GSFC/Earth Science Data and Information System (ESDIS) with funding provided by NASA/HQ.",
       "max_zoom": 7,
       "name": "NASAGIBS.ModisTerraChlorophyll",
       "options": [
        "attribution",
        "bounds",
        "detect_retina",
        "max_native_zoom",
        "max_zoom",
        "min_native_zoom",
        "min_zoom",
        "no_wrap",
        "tile_size",
        "tms"
       ],
       "url": "https://map1.vis.earthdata.nasa.gov/wmts-webmerc/MODIS_Terra_Chlorophyll_A/default//GoogleMapsCompatible_Level7/{z}/{y}/{x}.png"
      }
     },
     "71ca3a080f9544aab9eb0a6dac80da3c": {
      "model_module": "jupyter-leaflet",
      "model_module_version": "^0.17.0",
      "model_name": "LeafletTileLayerModel",
      "state": {
       "_model_module_version": "^0.17.0",
       "_view_module_version": "^0.17.0",
       "attribution": "Datenquelle: basemap.at",
       "max_zoom": 19,
       "name": "BasemapAT.surface",
       "options": [
        "attribution",
        "bounds",
        "detect_retina",
        "max_native_zoom",
        "max_zoom",
        "min_native_zoom",
        "min_zoom",
        "no_wrap",
        "tile_size",
        "tms"
       ],
       "url": "https://maps.wien.gv.at/basemap/bmapoberflaeche/grau/google3857/{z}/{y}/{x}.jpeg"
      }
     },
     "73a12319f85b4389b74e027ea6bbb1e9": {
      "model_module": "jupyter-leaflet",
      "model_module_version": "^0.17.0",
      "model_name": "LeafletWMSLayerModel",
      "state": {
       "_model_module_version": "^0.17.0",
       "_view_module_version": "^0.17.0",
       "attribution": "FWS",
       "crs": {
        "custom": false,
        "name": "EPSG3857"
       },
       "format": "image/png",
       "layers": "1",
       "name": "FWS NWI Wetlands",
       "options": [
        "attribution",
        "bounds",
        "detect_retina",
        "format",
        "layers",
        "max_native_zoom",
        "max_zoom",
        "min_native_zoom",
        "min_zoom",
        "no_wrap",
        "styles",
        "tile_size",
        "tms",
        "transparent",
        "uppercase"
       ],
       "transparent": true,
       "url": "https://www.fws.gov/wetlands/arcgis/services/Wetlands/MapServer/WMSServer?"
      }
     },
     "75d5132d3336432faa2df6699f406105": {
      "model_module": "jupyter-leaflet",
      "model_module_version": "^0.17.0",
      "model_name": "LeafletTileLayerModel",
      "state": {
       "_model_module_version": "^0.17.0",
       "_view_module_version": "^0.17.0",
       "attribution": "(C) OpenStreetMap contributors, vizualization CC-By-SA 2.0 Freemap.sk",
       "max_zoom": 16,
       "name": "FreeMapSK",
       "options": [
        "attribution",
        "bounds",
        "detect_retina",
        "max_native_zoom",
        "max_zoom",
        "min_native_zoom",
        "min_zoom",
        "no_wrap",
        "tile_size",
        "tms"
       ],
       "url": "https://a.freemap.sk/T/{z}/{x}/{y}.jpeg"
      }
     },
     "768997deeb2e45b1bd9625c19e8e4333": {
      "model_module": "jupyter-leaflet",
      "model_module_version": "^0.17.0",
      "model_name": "LeafletWMSLayerModel",
      "state": {
       "_model_module_version": "^0.17.0",
       "_view_module_version": "^0.17.0",
       "attribution": "MRLC",
       "crs": {
        "custom": false,
        "name": "EPSG3857"
       },
       "format": "image/png",
       "layers": "NLCD_2006_Land_Cover_L48",
       "name": "NLCD 2006 CONUS Land Cover",
       "options": [
        "attribution",
        "bounds",
        "detect_retina",
        "format",
        "layers",
        "max_native_zoom",
        "max_zoom",
        "min_native_zoom",
        "min_zoom",
        "no_wrap",
        "styles",
        "tile_size",
        "tms",
        "transparent",
        "uppercase"
       ],
       "transparent": true,
       "url": "https://www.mrlc.gov/geoserver/mrlc_display/NLCD_2006_Land_Cover_L48/wms?"
      }
     },
     "7824f49d3b0d4ac3b239034e61b1b1aa": {
      "model_module": "jupyter-leaflet",
      "model_module_version": "^0.17.0",
      "model_name": "LeafletTileLayerModel",
      "state": {
       "_model_module_version": "^0.17.0",
       "_view_module_version": "^0.17.0",
       "attribution": "openAIP Data (CC-BY-NC-SA)",
       "max_zoom": 14,
       "name": "OpenAIP",
       "options": [
        "attribution",
        "bounds",
        "detect_retina",
        "max_native_zoom",
        "max_zoom",
        "min_native_zoom",
        "min_zoom",
        "no_wrap",
        "tile_size",
        "tms"
       ],
       "url": "https://1.tile.maps.openaip.net/geowebcache/service/tms/1.0.0/openaip_basemap@EPSG%3A900913@png/{z}/{x}/{y}.png"
      }
     },
     "7972acd861e74d5fa4edfd12d5456c69": {
      "model_module": "jupyter-leaflet",
      "model_module_version": "^0.17.0",
      "model_name": "LeafletTileLayerModel",
      "state": {
       "_model_module_version": "^0.17.0",
       "_view_module_version": "^0.17.0",
       "attribution": "(C) OpenStreetMap France | (C) OpenStreetMap contributors",
       "max_zoom": 20,
       "name": "OpenStreetMap.France",
       "options": [
        "attribution",
        "bounds",
        "detect_retina",
        "max_native_zoom",
        "max_zoom",
        "min_native_zoom",
        "min_zoom",
        "no_wrap",
        "tile_size",
        "tms"
       ],
       "url": "https://a.tile.openstreetmap.fr/osmfr/{z}/{x}/{y}.png"
      }
     },
     "79bcd764e5d742b69698bcd269803260": {
      "model_module": "@jupyter-widgets/base",
      "model_module_version": "1.2.0",
      "model_name": "LayoutModel",
      "state": {}
     },
     "7a48c1a0202c4e569434c887f44500a4": {
      "model_module": "jupyter-leaflet",
      "model_module_version": "^0.17.0",
      "model_name": "LeafletTileLayerModel",
      "state": {
       "_model_module_version": "^0.17.0",
       "_view_module_version": "^0.17.0",
       "attribution": "Justice Map",
       "max_zoom": 22,
       "name": "JusticeMap.americanIndian",
       "options": [
        "attribution",
        "bounds",
        "detect_retina",
        "max_native_zoom",
        "max_zoom",
        "min_native_zoom",
        "min_zoom",
        "no_wrap",
        "tile_size",
        "tms"
       ],
       "url": "https://www.justicemap.org/tile/county/indian/{z}/{x}/{y}.png"
      }
     },
     "7a4984fd8462463a822798114d3e3d87": {
      "model_module": "jupyter-leaflet",
      "model_module_version": "^0.17.0",
      "model_name": "LeafletTileLayerModel",
      "state": {
       "_model_module_version": "^0.17.0",
       "_view_module_version": "^0.17.0",
       "attribution": "Map tiles by Stamen Design, CC BY 3.0 -- Map data (C) OpenStreetMap contributors",
       "name": "Stamen.Terrain",
       "options": [
        "attribution",
        "bounds",
        "detect_retina",
        "max_native_zoom",
        "max_zoom",
        "min_native_zoom",
        "min_zoom",
        "no_wrap",
        "tile_size",
        "tms"
       ],
       "url": "https://stamen-tiles-a.a.ssl.fastly.net/terrain/{z}/{x}/{y}.png"
      }
     },
     "7ce8d62ae5e0489393c0a900236705d6": {
      "model_module": "jupyter-leaflet",
      "model_module_version": "^0.17.0",
      "model_name": "LeafletTileLayerModel",
      "state": {
       "_model_module_version": "^0.17.0",
       "_view_module_version": "^0.17.0",
       "attribution": "Earthstar Geographics",
       "max_zoom": 24,
       "name": "Esri.ArcticImagery",
       "options": [
        "attribution",
        "bounds",
        "detect_retina",
        "max_native_zoom",
        "max_zoom",
        "min_native_zoom",
        "min_zoom",
        "no_wrap",
        "tile_size",
        "tms"
       ],
       "url": "http://server.arcgisonline.com/ArcGIS/rest/services/Polar/Arctic_Imagery/MapServer/tile/{z}/{y}/{x}"
      }
     },
     "805739695450467c819912aeecc18378": {
      "model_module": "@jupyter-widgets/base",
      "model_module_version": "1.2.0",
      "model_name": "LayoutModel",
      "state": {
       "border": "1px solid black"
      }
     },
     "812c5daae648417894c4ba72cbe7cea1": {
      "model_module": "jupyter-leaflet",
      "model_module_version": "^0.17.0",
      "model_name": "LeafletTileLayerModel",
      "state": {
       "_model_module_version": "^0.17.0",
       "_view_module_version": "^0.17.0",
       "attribution": "© swisstopo",
       "name": "SwissFederalGeoportal.NationalMapGrey",
       "options": [
        "attribution",
        "bounds",
        "detect_retina",
        "max_native_zoom",
        "max_zoom",
        "min_native_zoom",
        "min_zoom",
        "no_wrap",
        "tile_size",
        "tms"
       ],
       "url": "https://wmts.geo.admin.ch/1.0.0/ch.swisstopo.pixelkarte-grau/default/current/3857/{z}/{x}/{y}.jpeg"
      }
     },
     "822ff10f5e3e4eb2ab10beeeb1c31345": {
      "model_module": "jupyter-leaflet",
      "model_module_version": "^0.17.0",
      "model_name": "LeafletTileLayerModel",
      "state": {
       "_model_module_version": "^0.17.0",
       "_view_module_version": "^0.17.0",
       "attribution": "(C) OpenStreetMap contributors",
       "name": "OpenStreetMap.CH",
       "options": [
        "attribution",
        "bounds",
        "detect_retina",
        "max_native_zoom",
        "max_zoom",
        "min_native_zoom",
        "min_zoom",
        "no_wrap",
        "tile_size",
        "tms"
       ],
       "url": "https://tile.osm.ch/switzerland/{z}/{x}/{y}.png"
      }
     },
     "84a75d01fc2a40eebd10baad6aff7741": {
      "model_module": "@jupyter-widgets/controls",
      "model_module_version": "1.5.0",
      "model_name": "ButtonModel",
      "state": {
       "description": "Run Model",
       "layout": "IPY_MODEL_8b38ca9f20b04cf3bbd9d542c34f79ca",
       "style": "IPY_MODEL_8725b66697e043dcae4f2d072f98c0ef"
      }
     },
     "85175bc5b5c842a0ae30f1bd6512481a": {
      "model_module": "@jupyter-widgets/controls",
      "model_module_version": "1.5.0",
      "model_name": "FloatProgressModel",
      "state": {
       "bar_style": "success",
       "layout": "IPY_MODEL_1b40f0f07a764384b0470a7ea906e469",
       "max": 12,
       "style": "IPY_MODEL_bd60fa85ba55499c8d8d06f632721e1a",
       "value": 12
      }
     },
     "8571249e56244e30b898ec13042ed813": {
      "model_module": "jupyter-leaflet",
      "model_module_version": "^0.17.0",
      "model_name": "LeafletWMSLayerModel",
      "state": {
       "_model_module_version": "^0.17.0",
       "_view_module_version": "^0.17.0",
       "attribution": "ESA",
       "crs": {
        "custom": false,
        "name": "EPSG3857"
       },
       "format": "image/png",
       "layers": "WORLDCOVER_2020_MAP",
       "name": "ESA Worldcover 2020",
       "options": [
        "attribution",
        "bounds",
        "detect_retina",
        "format",
        "layers",
        "max_native_zoom",
        "max_zoom",
        "min_native_zoom",
        "min_zoom",
        "no_wrap",
        "styles",
        "tile_size",
        "tms",
        "transparent",
        "uppercase"
       ],
       "transparent": true,
       "url": "https://services.terrascope.be/wms/v2"
      }
     },
     "8725b66697e043dcae4f2d072f98c0ef": {
      "model_module": "@jupyter-widgets/controls",
      "model_module_version": "1.5.0",
      "model_name": "ButtonStyleModel",
      "state": {
       "button_color": "#ae3cf0"
      }
     },
     "87b3d77c90c648d491dd9d3d4444857b": {
      "model_module": "jupyter-leaflet",
      "model_module_version": "^0.17.0",
      "model_name": "LeafletTileLayerModel",
      "state": {
       "_model_module_version": "^0.17.0",
       "_view_module_version": "^0.17.0",
       "attribution": "Justice Map",
       "max_zoom": 22,
       "name": "JusticeMap.income",
       "options": [
        "attribution",
        "bounds",
        "detect_retina",
        "max_native_zoom",
        "max_zoom",
        "min_native_zoom",
        "min_zoom",
        "no_wrap",
        "tile_size",
        "tms"
       ],
       "url": "https://www.justicemap.org/tile/county/income/{z}/{x}/{y}.png"
      }
     },
     "87f05b1187c94bf08f62b9e95ef1ee90": {
      "model_module": "jupyter-leaflet",
      "model_module_version": "^0.17.0",
      "model_name": "LeafletTileLayerModel",
      "state": {
       "_model_module_version": "^0.17.0",
       "_view_module_version": "^0.17.0",
       "attribution": "Datenquelle: basemap.at",
       "max_zoom": 19,
       "name": "BasemapAT.grau",
       "options": [
        "attribution",
        "bounds",
        "detect_retina",
        "max_native_zoom",
        "max_zoom",
        "min_native_zoom",
        "min_zoom",
        "no_wrap",
        "tile_size",
        "tms"
       ],
       "url": "https://maps.wien.gv.at/basemap/bmapgrau/normal/google3857/{z}/{y}/{x}.png"
      }
     },
     "889ca20c310f45e790ba5540efe1f8ad": {
      "model_module": "jupyter-leaflet",
      "model_module_version": "^0.17.0",
      "model_name": "LeafletTileLayerModel",
      "state": {
       "_model_module_version": "^0.17.0",
       "_view_module_version": "^0.17.0",
       "attribution": "(C) OpenStreetMap contributors & USGS",
       "max_zoom": 22,
       "name": "MtbMap",
       "options": [
        "attribution",
        "bounds",
        "detect_retina",
        "max_native_zoom",
        "max_zoom",
        "min_native_zoom",
        "min_zoom",
        "no_wrap",
        "tile_size",
        "tms"
       ],
       "url": "http://tile.mtbmap.cz/mtbmap_tiles/{z}/{x}/{y}.png"
      }
     },
     "89c7a923a22c4cc186fbff6611b1dbec": {
      "model_module": "@jupyter-widgets/base",
      "model_module_version": "1.2.0",
      "model_name": "LayoutModel",
      "state": {}
     },
     "8ae3fe85427946468fd014a98e15423d": {
      "model_module": "@jupyter-widgets/base",
      "model_module_version": "1.2.0",
      "model_name": "LayoutModel",
      "state": {
       "border": "1px solid black"
      }
     },
     "8b1d1b5a47a74ab8ad62baa5aaccb90b": {
      "model_module": "jupyter-leaflet",
      "model_module_version": "^0.17.0",
      "model_name": "LeafletTileLayerModel",
      "state": {
       "_model_module_version": "^0.17.0",
       "_view_module_version": "^0.17.0",
       "attribution": "Map data: (C) OpenStreetMap contributors | Map style: (C) waymarkedtrails.org (CC-BY-SA)",
       "name": "WaymarkedTrails.cycling",
       "options": [
        "attribution",
        "bounds",
        "detect_retina",
        "max_native_zoom",
        "max_zoom",
        "min_native_zoom",
        "min_zoom",
        "no_wrap",
        "tile_size",
        "tms"
       ],
       "url": "https://tile.waymarkedtrails.org/cycling/{z}/{x}/{y}.png"
      }
     },
     "8b38ca9f20b04cf3bbd9d542c34f79ca": {
      "model_module": "@jupyter-widgets/base",
      "model_module_version": "1.2.0",
      "model_name": "LayoutModel",
      "state": {}
     },
     "8b4fc45849e7445b957918d756ac3ace": {
      "model_module": "jupyter-leaflet",
      "model_module_version": "^0.17.0",
      "model_name": "LeafletTileLayerModel",
      "state": {
       "_model_module_version": "^0.17.0",
       "_view_module_version": "^0.17.0",
       "attribution": "Tiles (C) Esri -- Source: Esri, DeLorme, NAVTEQ, USGS, Intermap, iPC, NRCAN, Esri Japan, METI, Esri China (Hong Kong), Esri (Thailand), TomTom, 2012",
       "max_zoom": 22,
       "name": "Esri.WorldStreetMap",
       "options": [
        "attribution",
        "bounds",
        "detect_retina",
        "max_native_zoom",
        "max_zoom",
        "min_native_zoom",
        "min_zoom",
        "no_wrap",
        "tile_size",
        "tms"
       ],
       "url": "https://server.arcgisonline.com/ArcGIS/rest/services/World_Street_Map/MapServer/tile/{z}/{y}/{x}"
      }
     },
     "8bd31ee87f2546f0b112788abf5960c1": {
      "model_module": "@jupyter-widgets/controls",
      "model_module_version": "1.5.0",
      "model_name": "DescriptionStyleModel",
      "state": {
       "description_width": ""
      }
     },
     "8ca82265ec274701a3aa6abf604fa51c": {
      "model_module": "jupyter-leaflet",
      "model_module_version": "^0.17.0",
      "model_name": "LeafletWMSLayerModel",
      "state": {
       "_model_module_version": "^0.17.0",
       "_view_module_version": "^0.17.0",
       "attribution": "MRLC",
       "crs": {
        "custom": false,
        "name": "EPSG3857"
       },
       "format": "image/png",
       "layers": "NLCD_2004_Land_Cover_L48",
       "name": "NLCD 2004 CONUS Land Cover",
       "options": [
        "attribution",
        "bounds",
        "detect_retina",
        "format",
        "layers",
        "max_native_zoom",
        "max_zoom",
        "min_native_zoom",
        "min_zoom",
        "no_wrap",
        "styles",
        "tile_size",
        "tms",
        "transparent",
        "uppercase"
       ],
       "transparent": true,
       "url": "https://www.mrlc.gov/geoserver/mrlc_display/NLCD_2004_Land_Cover_L48/wms?"
      }
     },
     "91591d74aaa14bd7b1d0db4a100bcdc6": {
      "model_module": "jupyter-leaflet",
      "model_module_version": "^0.17.0",
      "model_name": "LeafletTileLayerModel",
      "state": {
       "_model_module_version": "^0.17.0",
       "_view_module_version": "^0.17.0",
       "attribution": "Justice Map",
       "max_zoom": 22,
       "name": "JusticeMap.multi",
       "options": [
        "attribution",
        "bounds",
        "detect_retina",
        "max_native_zoom",
        "max_zoom",
        "min_native_zoom",
        "min_zoom",
        "no_wrap",
        "tile_size",
        "tms"
       ],
       "url": "https://www.justicemap.org/tile/county/multi/{z}/{x}/{y}.png"
      }
     },
     "91e87c334de34cf69923bb77c11a160a": {
      "model_module": "jupyter-leaflet",
      "model_module_version": "^0.17.0",
      "model_name": "LeafletTileLayerModel",
      "state": {
       "_model_module_version": "^0.17.0",
       "_view_module_version": "^0.17.0",
       "attribution": "Map tiles by Stamen Design, CC BY 3.0 -- Map data (C) OpenStreetMap contributors",
       "max_zoom": 16,
       "name": "Stamen.Watercolor",
       "options": [
        "attribution",
        "bounds",
        "detect_retina",
        "max_native_zoom",
        "max_zoom",
        "min_native_zoom",
        "min_zoom",
        "no_wrap",
        "tile_size",
        "tms"
       ],
       "url": "https://stamen-tiles-a.a.ssl.fastly.net/watercolor/{z}/{x}/{y}.jpg"
      }
     },
     "934aa2f4477741ff95908ca05eac98a0": {
      "model_module": "@jupyter-widgets/controls",
      "model_module_version": "1.5.0",
      "model_name": "DescriptionStyleModel",
      "state": {
       "description_width": ""
      }
     },
     "9548349847254af0a33f17aabfd82ff5": {
      "model_module": "jupyter-leaflet",
      "model_module_version": "^0.17.0",
      "model_name": "LeafletTileLayerModel",
      "state": {
       "_model_module_version": "^0.17.0",
       "_view_module_version": "^0.17.0",
       "attribution": "Map data: (C) OpenStreetMap contributors | Map style: (C) OpenRailwayMap (CC-BY-SA)",
       "max_zoom": 19,
       "name": "OpenRailwayMap",
       "options": [
        "attribution",
        "bounds",
        "detect_retina",
        "max_native_zoom",
        "max_zoom",
        "min_native_zoom",
        "min_zoom",
        "no_wrap",
        "tile_size",
        "tms"
       ],
       "url": "https://a.tiles.openrailwaymap.org/standard/{z}/{x}/{y}.png"
      }
     },
     "9685fa78e4df4af8b1ae62d24541402c": {
      "model_module": "jupyter-leaflet",
      "model_module_version": "^0.17.0",
      "model_name": "LeafletTileLayerModel",
      "state": {
       "_model_module_version": "^0.17.0",
       "_view_module_version": "^0.17.0",
       "attribution": "Map tiles by <a href=\"https://labs.strava.com/heatmap\">Strava 2021</a>",
       "max_zoom": 15,
       "name": "Strava.Water",
       "options": [
        "attribution",
        "bounds",
        "detect_retina",
        "max_native_zoom",
        "max_zoom",
        "min_native_zoom",
        "min_zoom",
        "no_wrap",
        "tile_size",
        "tms"
       ],
       "url": "https://heatmap-external-a.strava.com/tiles/water/blue/{z}/{x}/{y}.png"
      }
     },
     "97fb4e91966b4da28d4c0667ffbce77b": {
      "model_module": "jupyter-leaflet",
      "model_module_version": "^0.17.0",
      "model_name": "LeafletTileLayerModel",
      "state": {
       "_model_module_version": "^0.17.0",
       "_view_module_version": "^0.17.0",
       "attribution": "Map tiles by Stamen Design, CC BY 3.0 -- Map data (C) OpenStreetMap contributors",
       "name": "Stamen.TerrainLabels",
       "options": [
        "attribution",
        "bounds",
        "detect_retina",
        "max_native_zoom",
        "max_zoom",
        "min_native_zoom",
        "min_zoom",
        "no_wrap",
        "tile_size",
        "tms"
       ],
       "url": "https://stamen-tiles-a.a.ssl.fastly.net/terrain-labels/{z}/{x}/{y}.png"
      }
     },
     "985d78d42a9a4c3fa7c424af596c937d": {
      "model_module": "jupyter-leaflet",
      "model_module_version": "^0.17.0",
      "model_name": "LeafletTileLayerModel",
      "state": {
       "_model_module_version": "^0.17.0",
       "_view_module_version": "^0.17.0",
       "attribution": "(C) OpenStreetMap contributors (C) CARTO",
       "max_zoom": 20,
       "name": "CartoDB.VoyagerOnlyLabels",
       "options": [
        "attribution",
        "bounds",
        "detect_retina",
        "max_native_zoom",
        "max_zoom",
        "min_native_zoom",
        "min_zoom",
        "no_wrap",
        "tile_size",
        "tms"
       ],
       "url": "https://a.basemaps.cartocdn.com/rastertiles/voyager_only_labels/{z}/{x}/{y}.png"
      }
     },
     "986bb73971c44a0cb33a18e72afd843a": {
      "model_module": "jupyter-leaflet",
      "model_module_version": "^0.17.0",
      "model_name": "LeafletTileLayerModel",
      "state": {
       "_model_module_version": "^0.17.0",
       "_view_module_version": "^0.17.0",
       "attribution": "Kaartgegevens (C) Kadaster",
       "max_zoom": 19,
       "name": "nlmaps.grijs",
       "options": [
        "attribution",
        "bounds",
        "detect_retina",
        "max_native_zoom",
        "max_zoom",
        "min_native_zoom",
        "min_zoom",
        "no_wrap",
        "tile_size",
        "tms"
       ],
       "url": "https://service.pdok.nl/brt/achtergrondkaart/wmts/v2_0/grijs/EPSG:3857/{z}/{x}/{y}.png"
      }
     },
     "99276f8fa69d4e6495be865e31466f2f": {
      "model_module": "jupyter-leaflet",
      "model_module_version": "^0.17.0",
      "model_name": "LeafletTileLayerModel",
      "state": {
       "_model_module_version": "^0.17.0",
       "_view_module_version": "^0.17.0",
       "attribution": "Kaartgegevens (C) Kadaster",
       "max_zoom": 19,
       "name": "nlmaps.standaard",
       "options": [
        "attribution",
        "bounds",
        "detect_retina",
        "max_native_zoom",
        "max_zoom",
        "min_native_zoom",
        "min_zoom",
        "no_wrap",
        "tile_size",
        "tms"
       ],
       "url": "https://service.pdok.nl/brt/achtergrondkaart/wmts/v2_0/standaard/EPSG:3857/{z}/{x}/{y}.png"
      }
     },
     "9a60ef6a7e324b00bdb4bc9c91b0cc9c": {
      "model_module": "jupyter-leaflet",
      "model_module_version": "^0.17.0",
      "model_name": "LeafletTileLayerModel",
      "state": {
       "_model_module_version": "^0.17.0",
       "_view_module_version": "^0.17.0",
       "attribution": "Map tiles by Stamen Design, CC BY 3.0 -- Map data (C) OpenStreetMap contributors",
       "max_zoom": 20,
       "name": "Stamen.TopOSMRelief",
       "options": [
        "attribution",
        "bounds",
        "detect_retina",
        "max_native_zoom",
        "max_zoom",
        "min_native_zoom",
        "min_zoom",
        "no_wrap",
        "tile_size",
        "tms"
       ],
       "url": "https://stamen-tiles-a.a.ssl.fastly.net/toposm-color-relief/{z}/{x}/{y}.jpg"
      }
     },
     "9b3f23511bfe4ac7a3d3cda110f239c6": {
      "model_module": "jupyter-leaflet",
      "model_module_version": "^0.17.0",
      "model_name": "LeafletTileLayerModel",
      "state": {
       "_model_module_version": "^0.17.0",
       "_view_module_version": "^0.17.0",
       "attribution": "Imagery provided by services from the Global Imagery Browse Services (GIBS), operated by the NASA/GSFC/Earth Science Data and Information System (ESDIS) with funding provided by NASA/HQ.",
       "max_zoom": 5,
       "name": "NASAGIBS.BlueMarble3031",
       "options": [
        "attribution",
        "bounds",
        "detect_retina",
        "max_native_zoom",
        "max_zoom",
        "min_native_zoom",
        "min_zoom",
        "no_wrap",
        "tile_size",
        "tms"
       ],
       "url": "https://gibs.earthdata.nasa.gov/wmts/epsg3031/best/BlueMarble_NextGeneration/default/EPSG3031_500m/{z}/{y}/{x}.jpeg"
      }
     },
     "9be7d961d8614dc1a3cef5f0fe636f4d": {
      "model_module": "jupyter-leaflet",
      "model_module_version": "^0.17.0",
      "model_name": "LeafletTileLayerModel",
      "state": {
       "_model_module_version": "^0.17.0",
       "_view_module_version": "^0.17.0",
       "attribution": "Justice Map",
       "max_zoom": 22,
       "name": "JusticeMap.nonWhite",
       "options": [
        "attribution",
        "bounds",
        "detect_retina",
        "max_native_zoom",
        "max_zoom",
        "min_native_zoom",
        "min_zoom",
        "no_wrap",
        "tile_size",
        "tms"
       ],
       "url": "https://www.justicemap.org/tile/county/nonwhite/{z}/{x}/{y}.png"
      }
     },
     "a0a237f74e9e4d1f98810ae980132704": {
      "model_module": "jupyter-leaflet",
      "model_module_version": "^0.17.0",
      "model_name": "LeafletTileLayerModel",
      "state": {
       "_model_module_version": "^0.17.0",
       "_view_module_version": "^0.17.0",
       "attribution": "Kaartgegevens (C) Kadaster",
       "max_zoom": 19,
       "name": "nlmaps.luchtfoto",
       "options": [
        "attribution",
        "bounds",
        "detect_retina",
        "max_native_zoom",
        "max_zoom",
        "min_native_zoom",
        "min_zoom",
        "no_wrap",
        "tile_size",
        "tms"
       ],
       "url": "https://service.pdok.nl/hwh/luchtfotorgb/wmts/v1_0/Actueel_ortho25/EPSG:3857/{z}/{x}/{y}.jpeg"
      }
     },
     "a0cfa8374df745aeadc2ff3a9c29ad95": {
      "model_module": "jupyter-leaflet",
      "model_module_version": "^0.17.0",
      "model_name": "LeafletWMSLayerModel",
      "state": {
       "_model_module_version": "^0.17.0",
       "_view_module_version": "^0.17.0",
       "attribution": "USGS",
       "crs": {
        "custom": false,
        "name": "EPSG3857"
       },
       "format": "image/png",
       "layers": "33DEPElevation:Hillshade Elevation Tinted",
       "name": "USGS 3DEP Elevation",
       "options": [
        "attribution",
        "bounds",
        "detect_retina",
        "format",
        "layers",
        "max_native_zoom",
        "max_zoom",
        "min_native_zoom",
        "min_zoom",
        "no_wrap",
        "styles",
        "tile_size",
        "tms",
        "transparent",
        "uppercase"
       ],
       "transparent": true,
       "url": "https://elevation.nationalmap.gov/arcgis/services/3DEPElevation/ImageServer/WMSServer?"
      }
     },
     "a4eac5300a2f46eca68e189d42456f80": {
      "model_module": "jupyter-leaflet",
      "model_module_version": "^0.17.0",
      "model_name": "LeafletTileLayerModel",
      "state": {
       "_model_module_version": "^0.17.0",
       "_view_module_version": "^0.17.0",
       "attribution": "Map tiles by Stamen Design, CC BY 3.0 -- Map data (C) OpenStreetMap contributors",
       "max_zoom": 20,
       "name": "Stamen.TopOSMFeatures",
       "options": [
        "attribution",
        "bounds",
        "detect_retina",
        "max_native_zoom",
        "max_zoom",
        "min_native_zoom",
        "min_zoom",
        "no_wrap",
        "tile_size",
        "tms"
       ],
       "url": "https://stamen-tiles-a.a.ssl.fastly.net/toposm-features/{z}/{x}/{y}.png"
      }
     },
     "a5538ff140014fc986983e4308b68ed1": {
      "model_module": "@jupyter-widgets/controls",
      "model_module_version": "1.5.0",
      "model_name": "CheckboxModel",
      "state": {
       "description": "Use GPU?",
       "disabled": false,
       "indent": false,
       "layout": "IPY_MODEL_f96c27ec68be4a4089ac26dfd5d706d0",
       "style": "IPY_MODEL_c8c66f26fc9548828a336b0d5f4ce506",
       "value": false
      }
     },
     "a584a960dc104628bce96b813c4b30be": {
      "model_module": "jupyter-leaflet",
      "model_module_version": "^0.17.0",
      "model_name": "LeafletTileLayerModel",
      "state": {
       "_model_module_version": "^0.17.0",
       "_view_module_version": "^0.17.0",
       "attribution": "Tiles (C) Esri -- Esri, DeLorme, NAVTEQ",
       "max_zoom": 16,
       "name": "Esri.WorldGrayCanvas",
       "options": [
        "attribution",
        "bounds",
        "detect_retina",
        "max_native_zoom",
        "max_zoom",
        "min_native_zoom",
        "min_zoom",
        "no_wrap",
        "tile_size",
        "tms"
       ],
       "url": "https://server.arcgisonline.com/ArcGIS/rest/services/Canvas/World_Light_Gray_Base/MapServer/tile/{z}/{y}/{x}"
      }
     },
     "a6cc112387ea4393ba1efe0a26094c02": {
      "model_module": "jupyter-leaflet",
      "model_module_version": "^0.17.0",
      "model_name": "LeafletTileLayerModel",
      "state": {
       "_model_module_version": "^0.17.0",
       "_view_module_version": "^0.17.0",
       "attribution": "(C) OpenStreetMap contributors (C) CARTO",
       "max_zoom": 20,
       "name": "CartoDB.Voyager",
       "options": [
        "attribution",
        "bounds",
        "detect_retina",
        "max_native_zoom",
        "max_zoom",
        "min_native_zoom",
        "min_zoom",
        "no_wrap",
        "tile_size",
        "tms"
       ],
       "url": "https://a.basemaps.cartocdn.com/rastertiles/voyager/{z}/{x}/{y}.png"
      }
     },
     "a753d67c0b4f40a3a621d47ca0f26a89": {
      "model_module": "jupyter-leaflet",
      "model_module_version": "^0.17.0",
      "model_name": "LeafletTileLayerModel",
      "state": {
       "_model_module_version": "^0.17.0",
       "_view_module_version": "^0.17.0",
       "attribution": "(C) OpenStreetMap contributors (C) CARTO",
       "max_zoom": 20,
       "name": "CartoDB.PositronNoLabels",
       "options": [
        "attribution",
        "bounds",
        "detect_retina",
        "max_native_zoom",
        "max_zoom",
        "min_native_zoom",
        "min_zoom",
        "no_wrap",
        "tile_size",
        "tms"
       ],
       "url": "https://a.basemaps.cartocdn.com/light_nolabels/{z}/{x}/{y}.png"
      }
     },
     "a8dbadb1ebd344cba0797c2e8b42af41": {
      "model_module": "@jupyter-widgets/controls",
      "model_module_version": "1.5.0",
      "model_name": "DescriptionStyleModel",
      "state": {
       "description_width": ""
      }
     },
     "a90dc5f4dda042b58d0876e07e1d4e1a": {
      "model_module": "jupyter-leaflet",
      "model_module_version": "^0.17.0",
      "model_name": "LeafletTileLayerModel",
      "state": {
       "_model_module_version": "^0.17.0",
       "_view_module_version": "^0.17.0",
       "attribution": "National Library of Scotland Historic Maps",
       "name": "NLS",
       "options": [
        "attribution",
        "bounds",
        "detect_retina",
        "max_native_zoom",
        "max_zoom",
        "min_native_zoom",
        "min_zoom",
        "no_wrap",
        "tile_size",
        "tms"
       ],
       "url": "https://nls-0.tileserver.com/nls/{z}/{x}/{y}.jpg"
      }
     },
     "ab73ce19b0444f3dbf7fd286990ad87f": {
      "model_module": "jupyter-leaflet",
      "model_module_version": "^0.17.0",
      "model_name": "LeafletTileLayerModel",
      "state": {
       "_model_module_version": "^0.17.0",
       "_view_module_version": "^0.17.0",
       "attribution": "Tiles courtesy of the U.S. Geological Survey",
       "max_zoom": 20,
       "name": "USGS.USTopo",
       "options": [
        "attribution",
        "bounds",
        "detect_retina",
        "max_native_zoom",
        "max_zoom",
        "min_native_zoom",
        "min_zoom",
        "no_wrap",
        "tile_size",
        "tms"
       ],
       "url": "https://basemap.nationalmap.gov/arcgis/rest/services/USGSTopo/MapServer/tile/{z}/{y}/{x}"
      }
     },
     "ad8eb53ae06643398f2c33fb78b227ec": {
      "model_module": "@jupyter-widgets/controls",
      "model_module_version": "1.5.0",
      "model_name": "HTMLModel",
      "state": {
       "layout": "IPY_MODEL_b58bdcc41922429ba41e684cf32a5b74",
       "style": "IPY_MODEL_259da6535fc147d9ba10846ea0983e30",
       "value": "<b>1. Use Data Folder Button</b>         <br> - When CoastSat downloads imagery it created a folder called 'data'in the CoastSeg directory.            The jpgs within the 'data' folder will be copied to another folder with a name such as            <span style=\"background-color:LightGray;color: black;\">segmentation_data_2022-07-07__10_hr_04_min58 </span>            (the date and time will be the current date and time) <br>            The model will be applied to this folder and the model outputs will be generated within a subdirectory             called 'out'"
      }
     },
     "ae8c15b14b2b461db2cc1cd0c7596d6f": {
      "model_module": "jupyter-leaflet",
      "model_module_version": "^0.17.0",
      "model_name": "LeafletTileLayerModel",
      "state": {
       "_model_module_version": "^0.17.0",
       "_view_module_version": "^0.17.0",
       "attribution": "Map tiles by <a href=\"https://labs.strava.com/heatmap\">Strava 2021</a>",
       "max_zoom": 15,
       "name": "Strava.Run",
       "options": [
        "attribution",
        "bounds",
        "detect_retina",
        "max_native_zoom",
        "max_zoom",
        "min_native_zoom",
        "min_zoom",
        "no_wrap",
        "tile_size",
        "tms"
       ],
       "url": "https://heatmap-external-a.strava.com/tiles/run/bluered/{z}/{x}/{y}.png"
      }
     },
     "af1cf6557faa4b5ba2ede91c1e018785": {
      "model_module": "jupyter-leaflet",
      "model_module_version": "^0.17.0",
      "model_name": "LeafletTileLayerModel",
      "state": {
       "_model_module_version": "^0.17.0",
       "_view_module_version": "^0.17.0",
       "attribution": "![](https://docs.onemap.sg/maps/images/oneMap64-01.png) New OneMap | Map data (C) contributors, Singapore Land Authority",
       "name": "OneMapSG.Grey",
       "options": [
        "attribution",
        "bounds",
        "detect_retina",
        "max_native_zoom",
        "max_zoom",
        "min_native_zoom",
        "min_zoom",
        "no_wrap",
        "tile_size",
        "tms"
       ],
       "url": "https://maps-a.onemap.sg/v3/Grey/{z}/{x}/{y}.png"
      }
     },
     "af2ede77390e42de873fe815e0110b99": {
      "model_module": "jupyter-leaflet",
      "model_module_version": "^0.17.0",
      "model_name": "LeafletTileLayerModel",
      "state": {
       "_model_module_version": "^0.17.0",
       "_view_module_version": "^0.17.0",
       "attribution": "![](https://docs.onemap.sg/maps/images/oneMap64-01.png) New OneMap | Map data (C) contributors, Singapore Land Authority",
       "name": "OneMapSG.Original",
       "options": [
        "attribution",
        "bounds",
        "detect_retina",
        "max_native_zoom",
        "max_zoom",
        "min_native_zoom",
        "min_zoom",
        "no_wrap",
        "tile_size",
        "tms"
       ],
       "url": "https://maps-a.onemap.sg/v3/Original/{z}/{x}/{y}.png"
      }
     },
     "afbc51a233bf4260a274b94436be937c": {
      "model_module": "@jupyter-widgets/output",
      "model_module_version": "1.0.0",
      "model_name": "OutputModel",
      "state": {
       "layout": "IPY_MODEL_805739695450467c819912aeecc18378",
       "outputs": [
        {
         "name": "stdout",
         "output_type": "stream",
         "text": "Loading in the jpgs from the data directory\n\nCopied files that matched C:\\1_USGS\\CoastSeg\\repos\\2_CoastSeg\\CoastSeg_fork\\Seg2Map\\data\\**\\\\**\\preprocessed\\RGB\\*.jpg  \nto C:\\1_USGS\\CoastSeg\\repos\\2_CoastSeg\\CoastSeg_fork\\Seg2Map\\segmentation_data_2022-09-07__11_hr_40_min55\n\nContents of the data directory saved in C:\\1_USGS\\CoastSeg\\repos\\2_CoastSeg\\CoastSeg_fork\\Seg2Map\\segmentation_data_2022-09-07__11_hr_40_min55\n"
        }
       ]
      }
     },
     "b1782d525a304b73abcd61c0d0ec82aa": {
      "model_module": "jupyter-leaflet",
      "model_module_version": "^0.17.0",
      "model_name": "LeafletTileLayerModel",
      "state": {
       "_model_module_version": "^0.17.0",
       "_view_module_version": "^0.17.0",
       "attribution": "Tiles (C) Esri -- Copyright: (C)2012 DeLorme",
       "max_zoom": 11,
       "name": "Esri.DeLorme",
       "options": [
        "attribution",
        "bounds",
        "detect_retina",
        "max_native_zoom",
        "max_zoom",
        "min_native_zoom",
        "min_zoom",
        "no_wrap",
        "tile_size",
        "tms"
       ],
       "url": "https://server.arcgisonline.com/ArcGIS/rest/services/Specialty/DeLorme_World_Base_Map/MapServer/tile/{z}/{y}/{x}"
      }
     },
     "b1cf504355ef4d7a8168cc9b0a8775bf": {
      "model_module": "@jupyter-widgets/controls",
      "model_module_version": "1.5.0",
      "model_name": "RadioButtonsModel",
      "state": {
       "_options_labels": [
        "ENSEMBLE",
        "BEST"
       ],
       "description": "Select:",
       "index": 0,
       "layout": "IPY_MODEL_89c7a923a22c4cc186fbff6611b1dbec",
       "style": "IPY_MODEL_4e23908d7b4d415ca80ad709ff422aa2"
      }
     },
     "b1f8400e5bb7439ba2e9c7f897cfeaff": {
      "model_module": "jupyter-leaflet",
      "model_module_version": "^0.17.0",
      "model_name": "LeafletTileLayerModel",
      "state": {
       "_model_module_version": "^0.17.0",
       "_view_module_version": "^0.17.0",
       "attribution": "Imagery provided by services from the Global Imagery Browse Services (GIBS), operated by the NASA/GSFC/Earth Science Data and Information System (ESDIS) with funding provided by NASA/HQ.",
       "max_zoom": 7,
       "name": "NASAGIBS.ModisTerraLSTDay",
       "options": [
        "attribution",
        "bounds",
        "detect_retina",
        "max_native_zoom",
        "max_zoom",
        "min_native_zoom",
        "min_zoom",
        "no_wrap",
        "tile_size",
        "tms"
       ],
       "url": "https://map1.vis.earthdata.nasa.gov/wmts-webmerc/MODIS_Terra_Land_Surface_Temp_Day/default//GoogleMapsCompatible_Level7/{z}/{y}/{x}.png"
      }
     },
     "b291d444c85e49ee9cc7d0b12e431df7": {
      "model_module": "jupyter-leaflet",
      "model_module_version": "^0.17.0",
      "model_name": "LeafletTileLayerModel",
      "state": {
       "_model_module_version": "^0.17.0",
       "_view_module_version": "^0.17.0",
       "attribution": "Imagery provided by services from the Global Imagery Browse Services (GIBS), operated by the NASA/GSFC/Earth Science Data and Information System (ESDIS) with funding provided by NASA/HQ.",
       "max_zoom": 8,
       "name": "NASAGIBS.ViirsEarthAtNight2012",
       "options": [
        "attribution",
        "bounds",
        "detect_retina",
        "max_native_zoom",
        "max_zoom",
        "min_native_zoom",
        "min_zoom",
        "no_wrap",
        "tile_size",
        "tms"
       ],
       "url": "https://map1.vis.earthdata.nasa.gov/wmts-webmerc/VIIRS_CityLights_2012/default//GoogleMapsCompatible_Level8/{z}/{y}/{x}.jpg"
      }
     },
     "b2b69cb20a254e01acc0bcf0fc0f7c41": {
      "model_module": "@jupyter-widgets/base",
      "model_module_version": "1.2.0",
      "model_name": "LayoutModel",
      "state": {
       "margin": "0px 0px 0px 0px"
      }
     },
     "b2fe52a5e127449c9d1a82b2a0b58e70": {
      "model_module": "jupyter-leaflet",
      "model_module_version": "^0.17.0",
      "model_name": "LeafletTileLayerModel",
      "state": {
       "_model_module_version": "^0.17.0",
       "_view_module_version": "^0.17.0",
       "attribution": "Justice Map",
       "max_zoom": 22,
       "name": "JusticeMap.asian",
       "options": [
        "attribution",
        "bounds",
        "detect_retina",
        "max_native_zoom",
        "max_zoom",
        "min_native_zoom",
        "min_zoom",
        "no_wrap",
        "tile_size",
        "tms"
       ],
       "url": "https://www.justicemap.org/tile/county/asian/{z}/{x}/{y}.png"
      }
     },
     "b3080c1537d74a5bacf9a6049e3423f4": {
      "model_module": "jupyter-leaflet",
      "model_module_version": "^0.17.0",
      "model_name": "LeafletTileLayerModel",
      "state": {
       "_model_module_version": "^0.17.0",
       "_view_module_version": "^0.17.0",
       "attribution": "(C) OpenStreetMap contributors",
       "name": "OpenStreetMap.DE",
       "options": [
        "attribution",
        "bounds",
        "detect_retina",
        "max_native_zoom",
        "max_zoom",
        "min_native_zoom",
        "min_zoom",
        "no_wrap",
        "tile_size",
        "tms"
       ],
       "url": "https://a.tile.openstreetmap.de/{z}/{x}/{y}.png"
      }
     },
     "b3680279a26649a0b154b85737e67269": {
      "model_module": "jupyter-leaflet",
      "model_module_version": "^0.17.0",
      "model_name": "LeafletWMSLayerModel",
      "state": {
       "_model_module_version": "^0.17.0",
       "_view_module_version": "^0.17.0",
       "attribution": "USGS",
       "crs": {
        "custom": false,
        "name": "EPSG3857"
       },
       "format": "image/png",
       "layers": "USGSNAIPImagery:NaturalColor",
       "name": "USGS NAIP Imagery",
       "options": [
        "attribution",
        "bounds",
        "detect_retina",
        "format",
        "layers",
        "max_native_zoom",
        "max_zoom",
        "min_native_zoom",
        "min_zoom",
        "no_wrap",
        "styles",
        "tile_size",
        "tms",
        "transparent",
        "uppercase"
       ],
       "transparent": true,
       "url": "https://imagery.nationalmap.gov/arcgis/services/USGSNAIPImagery/ImageServer/WMSServer?"
      }
     },
     "b502671241a14b14b04fea580bd46f88": {
      "model_module": "@jupyter-widgets/base",
      "model_module_version": "1.2.0",
      "model_name": "LayoutModel",
      "state": {}
     },
     "b58bdcc41922429ba41e684cf32a5b74": {
      "model_module": "@jupyter-widgets/base",
      "model_module_version": "1.2.0",
      "model_name": "LayoutModel",
      "state": {
       "margin": "0px 0px 0px 20px"
      }
     },
     "b65ca3c104744889b506f0d6ecc9549f": {
      "model_module": "@jupyter-widgets/controls",
      "model_module_version": "1.5.0",
      "model_name": "DescriptionStyleModel",
      "state": {
       "description_width": ""
      }
     },
     "b6c4bfb3e94b479fbd1ea259fe3b4585": {
      "model_module": "jupyter-leaflet",
      "model_module_version": "^0.17.0",
      "model_name": "LeafletTileLayerModel",
      "state": {
       "_model_module_version": "^0.17.0",
       "_view_module_version": "^0.17.0",
       "attribution": "Map data: (C) OpenStreetMap contributors | Map style: (C) OpenFireMap (CC-BY-SA)",
       "max_zoom": 19,
       "name": "OpenFireMap",
       "options": [
        "attribution",
        "bounds",
        "detect_retina",
        "max_native_zoom",
        "max_zoom",
        "min_native_zoom",
        "min_zoom",
        "no_wrap",
        "tile_size",
        "tms"
       ],
       "url": "http://openfiremap.org/hytiles/{z}/{x}/{y}.png"
      }
     },
     "b6c7cdd8658b4e16a809f275ca0883f0": {
      "model_module": "jupyter-leaflet",
      "model_module_version": "^0.17.0",
      "model_name": "LeafletTileLayerModel",
      "state": {
       "_model_module_version": "^0.17.0",
       "_view_module_version": "^0.17.0",
       "attribution": "Map tiles by Stamen Design, CC BY 3.0 -- Map data (C) OpenStreetMap contributors",
       "max_zoom": 20,
       "name": "Stamen.Toner",
       "options": [
        "attribution",
        "bounds",
        "detect_retina",
        "max_native_zoom",
        "max_zoom",
        "min_native_zoom",
        "min_zoom",
        "no_wrap",
        "tile_size",
        "tms"
       ],
       "url": "https://stamen-tiles-a.a.ssl.fastly.net/toner/{z}/{x}/{y}.png"
      }
     },
     "b6edd5197ba64f7fa421747cd5f187fa": {
      "model_module": "jupyter-leaflet",
      "model_module_version": "^0.17.0",
      "model_name": "LeafletTileLayerModel",
      "state": {
       "_model_module_version": "^0.17.0",
       "_view_module_version": "^0.17.0",
       "attribution": "(C) OpenStreetMap contributors (C) CARTO",
       "max_zoom": 20,
       "name": "CartoDB.VoyagerLabelsUnder",
       "options": [
        "attribution",
        "bounds",
        "detect_retina",
        "max_native_zoom",
        "max_zoom",
        "min_native_zoom",
        "min_zoom",
        "no_wrap",
        "tile_size",
        "tms"
       ],
       "url": "https://a.basemaps.cartocdn.com/rastertiles/voyager_labels_under/{z}/{x}/{y}.png"
      }
     },
     "b7ce9106e5404c839b285e71809b0068": {
      "model_module": "jupyter-leaflet",
      "model_module_version": "^0.17.0",
      "model_name": "LeafletTileLayerModel",
      "state": {
       "_model_module_version": "^0.17.0",
       "_view_module_version": "^0.17.0",
       "attribution": "Tiles courtesy of the U.S. Geological Survey",
       "max_zoom": 20,
       "name": "USGS.USImagery",
       "options": [
        "attribution",
        "bounds",
        "detect_retina",
        "max_native_zoom",
        "max_zoom",
        "min_native_zoom",
        "min_zoom",
        "no_wrap",
        "tile_size",
        "tms"
       ],
       "url": "https://basemap.nationalmap.gov/arcgis/rest/services/USGSImageryOnly/MapServer/tile/{z}/{y}/{x}"
      }
     },
     "b8319debfa1f4ed1961c4cf14e303a80": {
      "model_module": "jupyter-leaflet",
      "model_module_version": "^0.17.0",
      "model_name": "LeafletTileLayerModel",
      "state": {
       "_model_module_version": "^0.17.0",
       "_view_module_version": "^0.17.0",
       "attribution": "Imagery provided by services from the Global Imagery Browse Services (GIBS), operated by the NASA/GSFC/Earth Science Data and Information System (ESDIS) with funding provided by NASA/HQ.",
       "max_zoom": 9,
       "name": "NASAGIBS.ModisTerraBands721CR",
       "options": [
        "attribution",
        "bounds",
        "detect_retina",
        "max_native_zoom",
        "max_zoom",
        "min_native_zoom",
        "min_zoom",
        "no_wrap",
        "tile_size",
        "tms"
       ],
       "url": "https://gibs.earthdata.nasa.gov/wmts/epsg3857/best/MODIS_Terra_CorrectedReflectance_Bands721/default//GoogleMapsCompatible_Level9/{z}/{y}/{x}.jpg"
      }
     },
     "b8be5bc5b6a3415a83c54fe6d3c51d19": {
      "model_module": "jupyter-leaflet",
      "model_module_version": "^0.17.0",
      "model_name": "LeafletTileLayerModel",
      "state": {
       "_model_module_version": "^0.17.0",
       "_view_module_version": "^0.17.0",
       "attribution": "Map data: (C) OpenStreetMap contributors | Map style: (C) SafeCast (CC-BY-SA)",
       "max_zoom": 16,
       "name": "SafeCast",
       "options": [
        "attribution",
        "bounds",
        "detect_retina",
        "max_native_zoom",
        "max_zoom",
        "min_native_zoom",
        "min_zoom",
        "no_wrap",
        "tile_size",
        "tms"
       ],
       "url": "https://s3.amazonaws.com/te512.safecast.org/{z}/{x}/{y}.png"
      }
     },
     "b9c883440f7a46a9bbe2f51037885450": {
      "model_module": "@jupyter-widgets/base",
      "model_module_version": "1.2.0",
      "model_name": "LayoutModel",
      "state": {}
     },
     "bc1a15fba1d04c14bc38c74ec51201f7": {
      "model_module": "jupyter-leaflet",
      "model_module_version": "^0.17.0",
      "model_name": "LeafletTileLayerModel",
      "state": {
       "_model_module_version": "^0.17.0",
       "_view_module_version": "^0.17.0",
       "attribution": "Tiles (C) Esri -- National Geographic, Esri, DeLorme, NAVTEQ, UNEP-WCMC, USGS, NASA, ESA, METI, NRCAN, GEBCO, NOAA, iPC",
       "max_zoom": 16,
       "name": "Esri.NatGeoWorldMap",
       "options": [
        "attribution",
        "bounds",
        "detect_retina",
        "max_native_zoom",
        "max_zoom",
        "min_native_zoom",
        "min_zoom",
        "no_wrap",
        "tile_size",
        "tms"
       ],
       "url": "https://server.arcgisonline.com/ArcGIS/rest/services/NatGeo_World_Map/MapServer/tile/{z}/{y}/{x}"
      }
     },
     "bd60fa85ba55499c8d8d06f632721e1a": {
      "model_module": "@jupyter-widgets/controls",
      "model_module_version": "1.5.0",
      "model_name": "ProgressStyleModel",
      "state": {
       "description_width": ""
      }
     },
     "bdf8976e564e4c09af940952eeb046ba": {
      "model_module": "jupyter-leaflet",
      "model_module_version": "^0.17.0",
      "model_name": "LeafletTileLayerModel",
      "state": {
       "_model_module_version": "^0.17.0",
       "_view_module_version": "^0.17.0",
       "attribution": "Earthstar Geographics",
       "max_zoom": 24,
       "name": "Esri.AntarcticImagery",
       "options": [
        "attribution",
        "bounds",
        "detect_retina",
        "max_native_zoom",
        "max_zoom",
        "min_native_zoom",
        "min_zoom",
        "no_wrap",
        "tile_size",
        "tms"
       ],
       "url": "http://server.arcgisonline.com/ArcGIS/rest/services/Polar/Antarctic_Imagery/MapServer/tile/{z}/{y}/{x}"
      }
     },
     "becceccd536a4596930471fb8fc9b397": {
      "model_module": "jupyter-leaflet",
      "model_module_version": "^0.17.0",
      "model_name": "LeafletTileLayerModel",
      "state": {
       "_model_module_version": "^0.17.0",
       "_view_module_version": "^0.17.0",
       "attribution": "Tiles (C) Esri -- Sources: GEBCO, NOAA, CHS, OSU, UNH, CSUMB, National Geographic, DeLorme, NAVTEQ, and Esri",
       "max_zoom": 13,
       "name": "Esri.OceanBasemap",
       "options": [
        "attribution",
        "bounds",
        "detect_retina",
        "max_native_zoom",
        "max_zoom",
        "min_native_zoom",
        "min_zoom",
        "no_wrap",
        "tile_size",
        "tms"
       ],
       "url": "https://server.arcgisonline.com/ArcGIS/rest/services/Ocean_Basemap/MapServer/tile/{z}/{y}/{x}"
      }
     },
     "bed8f7097afd49bf8ce02d346e39f105": {
      "model_module": "jupyter-leaflet",
      "model_module_version": "^0.17.0",
      "model_name": "LeafletTileLayerModel",
      "state": {
       "_model_module_version": "^0.17.0",
       "_view_module_version": "^0.17.0",
       "attribution": "Map data: (C) OpenStreetMap contributors | Map style: (C) waymarkedtrails.org (CC-BY-SA)",
       "name": "WaymarkedTrails.skating",
       "options": [
        "attribution",
        "bounds",
        "detect_retina",
        "max_native_zoom",
        "max_zoom",
        "min_native_zoom",
        "min_zoom",
        "no_wrap",
        "tile_size",
        "tms"
       ],
       "url": "https://tile.waymarkedtrails.org/skating/{z}/{x}/{y}.png"
      }
     },
     "c03bec43fddc4f6389dc700982128702": {
      "model_module": "@jupyter-widgets/base",
      "model_module_version": "1.2.0",
      "model_name": "LayoutModel",
      "state": {}
     },
     "c0a1865ae51c405bab222f459c083d09": {
      "model_module": "jupyter-leaflet",
      "model_module_version": "^0.17.0",
      "model_name": "LeafletTileLayerModel",
      "state": {
       "_model_module_version": "^0.17.0",
       "_view_module_version": "^0.17.0",
       "attribution": "Datenquelle: basemap.at",
       "max_zoom": 20,
       "name": "BasemapAT.orthofoto",
       "options": [
        "attribution",
        "bounds",
        "detect_retina",
        "max_native_zoom",
        "max_zoom",
        "min_native_zoom",
        "min_zoom",
        "no_wrap",
        "tile_size",
        "tms"
       ],
       "url": "https://maps.wien.gv.at/basemap/bmaporthofoto30cm/normal/google3857/{z}/{y}/{x}.jpeg"
      }
     },
     "c17f11fcff1344dc879f7adccee534de": {
      "model_module": "jupyter-leaflet",
      "model_module_version": "^0.17.0",
      "model_name": "LeafletTileLayerModel",
      "state": {
       "_model_module_version": "^0.17.0",
       "_view_module_version": "^0.17.0",
       "attribution": "Justice Map",
       "max_zoom": 22,
       "name": "JusticeMap.plurality",
       "options": [
        "attribution",
        "bounds",
        "detect_retina",
        "max_native_zoom",
        "max_zoom",
        "min_native_zoom",
        "min_zoom",
        "no_wrap",
        "tile_size",
        "tms"
       ],
       "url": "https://www.justicemap.org/tile/county/plural/{z}/{x}/{y}.png"
      }
     },
     "c4080304ca5c494d86e88662a39449c1": {
      "model_module": "jupyter-leaflet",
      "model_module_version": "^0.17.0",
      "model_name": "LeafletTileLayerModel",
      "state": {
       "_model_module_version": "^0.17.0",
       "_view_module_version": "^0.17.0",
       "attribution": "Map tiles by Stamen Design, CC BY 3.0 -- Map data (C) OpenStreetMap contributors",
       "max_zoom": 20,
       "name": "Stamen.TonerLines",
       "options": [
        "attribution",
        "bounds",
        "detect_retina",
        "max_native_zoom",
        "max_zoom",
        "min_native_zoom",
        "min_zoom",
        "no_wrap",
        "tile_size",
        "tms"
       ],
       "url": "https://stamen-tiles-a.a.ssl.fastly.net/toner-lines/{z}/{x}/{y}.png"
      }
     },
     "c5a20c93b4304b0e8ba6e8a50e84ecac": {
      "model_module": "jupyter-leaflet",
      "model_module_version": "^0.17.0",
      "model_name": "LeafletTileLayerModel",
      "state": {
       "_model_module_version": "^0.17.0",
       "_view_module_version": "^0.17.0",
       "attribution": "Map data: (C) OpenStreetMap contributors | Map style: (C) waymarkedtrails.org (CC-BY-SA)",
       "name": "WaymarkedTrails.hiking",
       "options": [
        "attribution",
        "bounds",
        "detect_retina",
        "max_native_zoom",
        "max_zoom",
        "min_native_zoom",
        "min_zoom",
        "no_wrap",
        "tile_size",
        "tms"
       ],
       "url": "https://tile.waymarkedtrails.org/hiking/{z}/{x}/{y}.png"
      }
     },
     "c64f3f4ec8c2433995afb6d23d78392c": {
      "model_module": "jupyter-leaflet",
      "model_module_version": "^0.17.0",
      "model_name": "LeafletTileLayerModel",
      "state": {
       "_model_module_version": "^0.17.0",
       "_view_module_version": "^0.17.0",
       "attribution": "(C) OpenStreetMap contributors (C) CARTO",
       "max_zoom": 20,
       "name": "CartoDB.DarkMatterOnlyLabels",
       "options": [
        "attribution",
        "bounds",
        "detect_retina",
        "max_native_zoom",
        "max_zoom",
        "min_native_zoom",
        "min_zoom",
        "no_wrap",
        "tile_size",
        "tms"
       ],
       "url": "https://a.basemaps.cartocdn.com/dark_only_labels/{z}/{x}/{y}.png"
      }
     },
     "c6c71d1acae4481a82677b5a900250ba": {
      "model_module": "jupyter-leaflet",
      "model_module_version": "^0.17.0",
      "model_name": "LeafletTileLayerModel",
      "state": {
       "_model_module_version": "^0.17.0",
       "_view_module_version": "^0.17.0",
       "attribution": "Imagery provided by services from the Global Imagery Browse Services (GIBS), operated by the NASA/GSFC/Earth Science Data and Information System (ESDIS) with funding provided by NASA/HQ.",
       "max_zoom": 9,
       "name": "NASAGIBS.ModisAquaBands721CR",
       "options": [
        "attribution",
        "bounds",
        "detect_retina",
        "max_native_zoom",
        "max_zoom",
        "min_native_zoom",
        "min_zoom",
        "no_wrap",
        "tile_size",
        "tms"
       ],
       "url": "https://gibs.earthdata.nasa.gov/wmts/epsg3857/best/MODIS_Aqua_CorrectedReflectance_Bands721/default//GoogleMapsCompatible_Level9/{z}/{y}/{x}.jpg"
      }
     },
     "c7a230825b764f938b5a68e3f14c30ee": {
      "model_module": "jupyter-leaflet",
      "model_module_version": "^0.17.0",
      "model_name": "LeafletTileLayerModel",
      "state": {
       "_model_module_version": "^0.17.0",
       "_view_module_version": "^0.17.0",
       "attribution": "Map data: (C) OpenStreetMap contributors | Map style: (C) waymarkedtrails.org (CC-BY-SA)",
       "name": "WaymarkedTrails.riding",
       "options": [
        "attribution",
        "bounds",
        "detect_retina",
        "max_native_zoom",
        "max_zoom",
        "min_native_zoom",
        "min_zoom",
        "no_wrap",
        "tile_size",
        "tms"
       ],
       "url": "https://tile.waymarkedtrails.org/riding/{z}/{x}/{y}.png"
      }
     },
     "c8c66f26fc9548828a336b0d5f4ce506": {
      "model_module": "@jupyter-widgets/controls",
      "model_module_version": "1.5.0",
      "model_name": "DescriptionStyleModel",
      "state": {
       "description_width": ""
      }
     },
     "c92366833165484ea46cdaa6992013c0": {
      "model_module": "@jupyter-widgets/base",
      "model_module_version": "1.2.0",
      "model_name": "LayoutModel",
      "state": {}
     },
     "c935052c67e74b9e924e55b25578febd": {
      "model_module": "@jupyter-widgets/controls",
      "model_module_version": "1.5.0",
      "model_name": "RadioButtonsModel",
      "state": {
       "_options_labels": [
        "landsat_6229071",
        "landsat_6230083",
        "SWED-RGB_6824384",
        "SWED-MNDWI_6824342",
        "coast-train-RGB_6950479",
        "S2-water-SWED_6950474"
       ],
       "description": "Select Model:",
       "index": 0,
       "layout": "IPY_MODEL_f84300fc6b184e3498c0ec54f5e3ef47",
       "style": "IPY_MODEL_2d6c7b5369df41b499482dcabaa14258"
      }
     },
     "cb957aa88261480f8ecc3ad01329b26e": {
      "model_module": "jupyter-leaflet",
      "model_module_version": "^0.17.0",
      "model_name": "LeafletTileLayerModel",
      "state": {
       "_model_module_version": "^0.17.0",
       "_view_module_version": "^0.17.0",
       "attribution": "CyclOSM | Map data: (C) OpenStreetMap contributors",
       "max_zoom": 20,
       "name": "CyclOSM",
       "options": [
        "attribution",
        "bounds",
        "detect_retina",
        "max_native_zoom",
        "max_zoom",
        "min_native_zoom",
        "min_zoom",
        "no_wrap",
        "tile_size",
        "tms"
       ],
       "url": "https://a.tile-cyclosm.openstreetmap.fr/cyclosm/{z}/{x}/{y}.png"
      }
     },
     "cc52d610ceb3425587eca8bb562ff4ab": {
      "model_module": "jupyter-leaflet",
      "model_module_version": "^0.17.0",
      "model_name": "LeafletWMSLayerModel",
      "state": {
       "_model_module_version": "^0.17.0",
       "_view_module_version": "^0.17.0",
       "attribution": "USGS",
       "crs": {
        "custom": false,
        "name": "EPSG3857"
       },
       "format": "image/png",
       "layers": "0",
       "name": "USGS Hydrography",
       "options": [
        "attribution",
        "bounds",
        "detect_retina",
        "format",
        "layers",
        "max_native_zoom",
        "max_zoom",
        "min_native_zoom",
        "min_zoom",
        "no_wrap",
        "styles",
        "tile_size",
        "tms",
        "transparent",
        "uppercase"
       ],
       "transparent": true,
       "url": "https://basemap.nationalmap.gov/arcgis/services/USGSHydroCached/MapServer/WMSServer?"
      }
     },
     "d37ba51055444a4dac6117986ec216bc": {
      "model_module": "jupyter-leaflet",
      "model_module_version": "^0.17.0",
      "model_name": "LeafletTileLayerModel",
      "state": {
       "_model_module_version": "^0.17.0",
       "_view_module_version": "^0.17.0",
       "attribution": "Map tiles by <a href=\"https://labs.strava.com/heatmap\">Strava 2021</a>",
       "max_zoom": 15,
       "name": "Strava.Winter",
       "options": [
        "attribution",
        "bounds",
        "detect_retina",
        "max_native_zoom",
        "max_zoom",
        "min_native_zoom",
        "min_zoom",
        "no_wrap",
        "tile_size",
        "tms"
       ],
       "url": "https://heatmap-external-a.strava.com/tiles/winter/hot/{z}/{x}/{y}.png"
      }
     },
     "d6c231b15f454ada9515f4968fbf4793": {
      "model_module": "jupyter-leaflet",
      "model_module_version": "^0.17.0",
      "model_name": "LeafletTileLayerModel",
      "state": {
       "_model_module_version": "^0.17.0",
       "_view_module_version": "^0.17.0",
       "attribution": "Imagery provided by NOAA National Centers for Environmental Information (NCEI); International Bathymetric Chart of the Southern Ocean (IBCSO); General Bathymetric Chart of the Oceans (GEBCO).",
       "max_zoom": 9,
       "name": "Esri.AntarcticBasemap",
       "options": [
        "attribution",
        "bounds",
        "detect_retina",
        "max_native_zoom",
        "max_zoom",
        "min_native_zoom",
        "min_zoom",
        "no_wrap",
        "tile_size",
        "tms"
       ],
       "url": "https://tiles.arcgis.com/tiles/C8EMgrsFcRFL6LrL/arcgis/rest/services/Antarctic_Basemap/MapServer/tile/{z}/{y}/{x}"
      }
     },
     "d957769be33a48da924c8fd2c4bb5c24": {
      "model_module": "jupyter-leaflet",
      "model_module_version": "^0.17.0",
      "model_name": "LeafletTileLayerModel",
      "state": {
       "_model_module_version": "^0.17.0",
       "_view_module_version": "^0.17.0",
       "attribution": "(C) Stadia Maps, (C) OpenMapTiles (C) OpenStreetMap contributors",
       "max_zoom": 20,
       "name": "Stadia.OSMBright",
       "options": [
        "attribution",
        "bounds",
        "detect_retina",
        "max_native_zoom",
        "max_zoom",
        "min_native_zoom",
        "min_zoom",
        "no_wrap",
        "tile_size",
        "tms"
       ],
       "url": "https://tiles.stadiamaps.com/tiles/osm_bright/{z}/{x}/{y}.png"
      }
     },
     "da1080e9f3764d2e9d92c1bc270996bc": {
      "model_module": "jupyter-leaflet",
      "model_module_version": "^0.17.0",
      "model_name": "LeafletTileLayerModel",
      "state": {
       "_model_module_version": "^0.17.0",
       "_view_module_version": "^0.17.0",
       "attribution": "Imagery provided by services from the Global Imagery Browse Services (GIBS), operated by the NASA/GSFC/Earth Science Data and Information System (ESDIS) with funding provided by NASA/HQ.",
       "max_zoom": 8,
       "name": "NASAGIBS.ModisTerraSnowCover",
       "options": [
        "attribution",
        "bounds",
        "detect_retina",
        "max_native_zoom",
        "max_zoom",
        "min_native_zoom",
        "min_zoom",
        "no_wrap",
        "tile_size",
        "tms"
       ],
       "url": "https://map1.vis.earthdata.nasa.gov/wmts-webmerc/MODIS_Terra_NDSI_Snow_Cover/default//GoogleMapsCompatible_Level8/{z}/{y}/{x}.png"
      }
     },
     "db4af95b3f0845558a195f2e19188d0c": {
      "model_module": "@jupyter-widgets/output",
      "model_module_version": "1.0.0",
      "model_name": "OutputModel",
      "state": {
       "layout": "IPY_MODEL_8ae3fe85427946468fd014a98e15423d",
       "outputs": [
        {
         "name": "stdout",
         "output_type": "stream",
         "text": "Called Run Model\nNot using the GPU\n\n outfile: C:\\1_USGS\\CoastSeg\\repos\\2_CoastSeg\\CoastSeg_fork\\Seg2Map\\CoastSeg\\downloaded_models\\landsat_6229071\\rgb\ndo_crf:  True\n"
        },
        {
         "data": {
          "application/vnd.jupyter.widget-view+json": {
           "model_id": "692819469f3d456296623a80d0821507",
           "version_major": 2,
           "version_minor": 0
          },
          "text/plain": "  0%|          | 0/12 [00:00<?, ?it/s]"
         },
         "metadata": {},
         "output_type": "display_data"
        },
        {
         "name": "stdout",
         "output_type": "stream",
         "text": "1/1 [==============================] - 1s 1s/step\n1/1 [==============================] - 1s 1s/step\n1/1 [==============================] - 1s 1s/step\n1/1 [==============================] - 1s 1s/step\n1/1 [==============================] - 1s 1s/step\n1/1 [==============================] - 1s 1s/step\n1/1 [==============================] - 1s 1s/step\n1/1 [==============================] - 1s 1s/step\n1/1 [==============================] - 1s 1s/step\n1/1 [==============================] - 1s 1s/step\n1/1 [==============================] - 1s 1s/step\n1/1 [==============================] - 1s 1s/step\n1/1 [==============================] - 1s 1s/step\n1/1 [==============================] - 1s 1s/step\n1/1 [==============================] - 1s 1s/step\n1/1 [==============================] - 1s 1s/step\n1/1 [==============================] - 1s 989ms/step\n1/1 [==============================] - 1s 989ms/step\n1/1 [==============================] - 1s 1s/step\n1/1 [==============================] - 1s 1s/step\n1/1 [==============================] - 1s 1s/step\n1/1 [==============================] - 1s 982ms/step\n1/1 [==============================] - 1s 990ms/step\n1/1 [==============================] - 1s 976ms/step\n1/1 [==============================] - 1s 983ms/step\n1/1 [==============================] - 1s 1s/step\n1/1 [==============================] - 1s 1s/step\n1/1 [==============================] - 1s 993ms/step\n1/1 [==============================] - 1s 1s/step\n1/1 [==============================] - 1s 1s/step\n1/1 [==============================] - 1s 1s/step\n1/1 [==============================] - 1s 1s/step\n1/1 [==============================] - 1s 1s/step\n1/1 [==============================] - 1s 1s/step\n1/1 [==============================] - 1s 1s/step\n1/1 [==============================] - 1s 1s/step\n"
        }
       ]
      }
     },
     "dcec9375485c4b03af708c2a15fbeefe": {
      "model_module": "@jupyter-widgets/controls",
      "model_module_version": "1.5.0",
      "model_name": "CheckboxModel",
      "state": {
       "description": "Use CRF post-processing",
       "disabled": false,
       "indent": false,
       "layout": "IPY_MODEL_ddf01efafda04888a9770b3d489b6091",
       "style": "IPY_MODEL_23d9d5a3d25440319a1f6202b7b49be2",
       "value": true
      }
     },
     "ddf01efafda04888a9770b3d489b6091": {
      "model_module": "@jupyter-widgets/base",
      "model_module_version": "1.2.0",
      "model_name": "LayoutModel",
      "state": {}
     },
     "ddfdebe23b5e460b9cb28b6a7ef67f04": {
      "model_module": "jupyter-leaflet",
      "model_module_version": "^0.17.0",
      "model_name": "LeafletWMSLayerModel",
      "state": {
       "_model_module_version": "^0.17.0",
       "_view_module_version": "^0.17.0",
       "attribution": "FWS",
       "crs": {
        "custom": false,
        "name": "EPSG3857"
       },
       "format": "image/png",
       "layers": "0",
       "name": "FWS NWI Wetlands Raster",
       "options": [
        "attribution",
        "bounds",
        "detect_retina",
        "format",
        "layers",
        "max_native_zoom",
        "max_zoom",
        "min_native_zoom",
        "min_zoom",
        "no_wrap",
        "styles",
        "tile_size",
        "tms",
        "transparent",
        "uppercase"
       ],
       "transparent": true,
       "url": "https://www.fws.gov/wetlands/arcgis/services/Wetlands_Raster/ImageServer/WMSServer?"
      }
     },
     "dfa9b8a9f50e4dc5bd2f2714d746d525": {
      "model_module": "jupyter-leaflet",
      "model_module_version": "^0.17.0",
      "model_name": "LeafletTileLayerModel",
      "state": {
       "_model_module_version": "^0.17.0",
       "_view_module_version": "^0.17.0",
       "attribution": "Map tiles by <a href=\"https://labs.strava.com/heatmap\">Strava 2021</a>",
       "max_zoom": 15,
       "name": "Strava.Ride",
       "options": [
        "attribution",
        "bounds",
        "detect_retina",
        "max_native_zoom",
        "max_zoom",
        "min_native_zoom",
        "min_zoom",
        "no_wrap",
        "tile_size",
        "tms"
       ],
       "url": "https://heatmap-external-a.strava.com/tiles/ride/hot/{z}/{x}/{y}.png"
      }
     },
     "e2930f526400492f86b2e9c73796dfdb": {
      "model_module": "jupyter-leaflet",
      "model_module_version": "^0.17.0",
      "model_name": "LeafletTileLayerModel",
      "state": {
       "_model_module_version": "^0.17.0",
       "_view_module_version": "^0.17.0",
       "attribution": "(C) OpenStreetMap contributors (C) CARTO",
       "max_zoom": 20,
       "name": "CartoDB.VoyagerNoLabels",
       "options": [
        "attribution",
        "bounds",
        "detect_retina",
        "max_native_zoom",
        "max_zoom",
        "min_native_zoom",
        "min_zoom",
        "no_wrap",
        "tile_size",
        "tms"
       ],
       "url": "https://a.basemaps.cartocdn.com/rastertiles/voyager_nolabels/{z}/{x}/{y}.png"
      }
     },
     "e36433156ffb496392ee3be608386172": {
      "model_module": "jupyter-leaflet",
      "model_module_version": "^0.17.0",
      "model_name": "LeafletTileLayerModel",
      "state": {
       "_model_module_version": "^0.17.0",
       "_view_module_version": "^0.17.0",
       "attribution": "Tiles (C) Esri -- Source: Esri",
       "max_zoom": 13,
       "name": "Esri.WorldShadedRelief",
       "options": [
        "attribution",
        "bounds",
        "detect_retina",
        "max_native_zoom",
        "max_zoom",
        "min_native_zoom",
        "min_zoom",
        "no_wrap",
        "tile_size",
        "tms"
       ],
       "url": "https://server.arcgisonline.com/ArcGIS/rest/services/World_Shaded_Relief/MapServer/tile/{z}/{y}/{x}"
      }
     },
     "e3dc7bd9ab454f48ae06805b561cde4f": {
      "model_module": "jupyter-leaflet",
      "model_module_version": "^0.17.0",
      "model_name": "LeafletTileLayerModel",
      "state": {
       "_model_module_version": "^0.17.0",
       "_view_module_version": "^0.17.0",
       "attribution": "Map tiles by Stamen Design, CC BY 3.0 -- Map data (C) OpenStreetMap contributors",
       "max_zoom": 20,
       "name": "Stamen.TonerLite",
       "options": [
        "attribution",
        "bounds",
        "detect_retina",
        "max_native_zoom",
        "max_zoom",
        "min_native_zoom",
        "min_zoom",
        "no_wrap",
        "tile_size",
        "tms"
       ],
       "url": "https://stamen-tiles-a.a.ssl.fastly.net/toner-lite/{z}/{x}/{y}.png"
      }
     },
     "e8204ae5fc7f4e8a8bdc402e65f077a9": {
      "model_module": "jupyter-leaflet",
      "model_module_version": "^0.17.0",
      "model_name": "LeafletTileLayerModel",
      "state": {
       "_model_module_version": "^0.17.0",
       "_view_module_version": "^0.17.0",
       "attribution": "Justice Map",
       "max_zoom": 22,
       "name": "JusticeMap.white",
       "options": [
        "attribution",
        "bounds",
        "detect_retina",
        "max_native_zoom",
        "max_zoom",
        "min_native_zoom",
        "min_zoom",
        "no_wrap",
        "tile_size",
        "tms"
       ],
       "url": "https://www.justicemap.org/tile/county/white/{z}/{x}/{y}.png"
      }
     },
     "eb06c88d8b9e4d1da546d0884104a35c": {
      "model_module": "jupyter-leaflet",
      "model_module_version": "^0.17.0",
      "model_name": "LeafletTileLayerModel",
      "state": {
       "_model_module_version": "^0.17.0",
       "_view_module_version": "^0.17.0",
       "attribution": "Google",
       "max_zoom": 22,
       "name": "Google Terrain",
       "options": [
        "attribution",
        "bounds",
        "detect_retina",
        "max_native_zoom",
        "max_zoom",
        "min_native_zoom",
        "min_zoom",
        "no_wrap",
        "tile_size",
        "tms"
       ],
       "url": "https://mt1.google.com/vt/lyrs=p&x={x}&y={y}&z={z}"
      }
     },
     "eba4de75589a48d091df9bced11bcecb": {
      "model_module": "jupyter-leaflet",
      "model_module_version": "^0.17.0",
      "model_name": "LeafletTileLayerModel",
      "state": {
       "_model_module_version": "^0.17.0",
       "_view_module_version": "^0.17.0",
       "attribution": "(C) OpenStreetMap contributors (C) CARTO",
       "max_zoom": 20,
       "name": "CartoDB.Positron",
       "options": [
        "attribution",
        "bounds",
        "detect_retina",
        "max_native_zoom",
        "max_zoom",
        "min_native_zoom",
        "min_zoom",
        "no_wrap",
        "tile_size",
        "tms"
       ],
       "url": "https://a.basemaps.cartocdn.com/light_all/{z}/{x}/{y}.png"
      }
     },
     "ec8326cf4db2473193b0f2733863d3b7": {
      "model_module": "jupyter-leaflet",
      "model_module_version": "^0.17.0",
      "model_name": "LeafletTileLayerModel",
      "state": {
       "_model_module_version": "^0.17.0",
       "_view_module_version": "^0.17.0",
       "attribution": "![](https://docs.onemap.sg/maps/images/oneMap64-01.png) New OneMap | Map data (C) contributors, Singapore Land Authority",
       "name": "OneMapSG.Night",
       "options": [
        "attribution",
        "bounds",
        "detect_retina",
        "max_native_zoom",
        "max_zoom",
        "min_native_zoom",
        "min_zoom",
        "no_wrap",
        "tile_size",
        "tms"
       ],
       "url": "https://maps-a.onemap.sg/v3/Night/{z}/{x}/{y}.png"
      }
     },
     "ed7719fa1a5e481e9852fc143f2e9b38": {
      "model_module": "@jupyter-widgets/controls",
      "model_module_version": "1.5.0",
      "model_name": "ButtonStyleModel",
      "state": {
       "button_color": "#69add1"
      }
     },
     "ef7dc8a899894e0e8cb5b30b3f3062ce": {
      "model_module": "@jupyter-widgets/controls",
      "model_module_version": "1.5.0",
      "model_name": "HTMLModel",
      "state": {
       "layout": "IPY_MODEL_6f7d9899845e40918f27d882f1155fc5",
       "style": "IPY_MODEL_a8dbadb1ebd344cba0797c2e8b42af41",
       "value": "100%"
      }
     },
     "f01e5cb2751c4f68b9b20124eea94c64": {
      "model_module": "jupyter-leaflet",
      "model_module_version": "^0.17.0",
      "model_name": "LeafletTileLayerModel",
      "state": {
       "_model_module_version": "^0.17.0",
       "_view_module_version": "^0.17.0",
       "attribution": "Geoportail France",
       "name": "GeoportailFrance.plan",
       "options": [
        "attribution",
        "bounds",
        "detect_retina",
        "max_native_zoom",
        "max_zoom",
        "min_native_zoom",
        "min_zoom",
        "no_wrap",
        "tile_size",
        "tms"
       ],
       "url": "https://wxs.ign.fr/choisirgeoportail/geoportail/wmts?REQUEST=GetTile&SERVICE=WMTS&VERSION=1.0.0&STYLE=normal&TILEMATRIXSET=PM&FORMAT=image/png&LAYER=GEOGRAPHICALGRIDSYSTEMS.PLANIGNV2&TILEMATRIX={z}&TILEROW={y}&TILECOL={x}"
      }
     },
     "f4210837914e4faab6f8b818b8ae75f6": {
      "model_module": "@jupyter-widgets/controls",
      "model_module_version": "1.5.0",
      "model_name": "ButtonStyleModel",
      "state": {
       "button_color": "#69add1"
      }
     },
     "f4ee2a0b02f64f8fac7403b4f7bfbcc3": {
      "model_module": "jupyter-leaflet",
      "model_module_version": "^0.17.0",
      "model_name": "LeafletTileLayerModel",
      "state": {
       "_model_module_version": "^0.17.0",
       "_view_module_version": "^0.17.0",
       "attribution": "© swisstopo",
       "max_zoom": 19,
       "name": "SwissFederalGeoportal.SWISSIMAGE",
       "options": [
        "attribution",
        "bounds",
        "detect_retina",
        "max_native_zoom",
        "max_zoom",
        "min_native_zoom",
        "min_zoom",
        "no_wrap",
        "tile_size",
        "tms"
       ],
       "url": "https://wmts.geo.admin.ch/1.0.0/ch.swisstopo.swissimage/default/current/3857/{z}/{x}/{y}.jpeg"
      }
     },
     "f57641da038b48bcbe99b0f12b0e9be1": {
      "model_module": "jupyter-leaflet",
      "model_module_version": "^0.17.0",
      "model_name": "LeafletTileLayerModel",
      "state": {
       "_model_module_version": "^0.17.0",
       "_view_module_version": "^0.17.0",
       "attribution": "Google",
       "max_zoom": 22,
       "name": "Google Maps",
       "options": [
        "attribution",
        "bounds",
        "detect_retina",
        "max_native_zoom",
        "max_zoom",
        "min_native_zoom",
        "min_zoom",
        "no_wrap",
        "tile_size",
        "tms"
       ],
       "url": "https://mt1.google.com/vt/lyrs=m&x={x}&y={y}&z={z}"
      }
     },
     "f7daf7d60612439cbc6696a9cac0b55a": {
      "model_module": "@jupyter-widgets/controls",
      "model_module_version": "1.5.0",
      "model_name": "HTMLModel",
      "state": {
       "layout": "IPY_MODEL_b502671241a14b14b04fea580bd46f88",
       "style": "IPY_MODEL_934aa2f4477741ff95908ca05eac98a0",
       "value": " 12/12 [00:49&lt;00:00,  3.92s/it]"
      }
     },
     "f8398491a8ec4237b785279092575c1c": {
      "model_module": "@jupyter-widgets/controls",
      "model_module_version": "1.5.0",
      "model_name": "VBoxModel",
      "state": {
       "children": [
        "IPY_MODEL_07ac9de941214ef5b5dbdb36bca22571",
        "IPY_MODEL_2ca11fccaeef45fba8a1514f37220b23",
        "IPY_MODEL_ad8eb53ae06643398f2c33fb78b227ec",
        "IPY_MODEL_6f5f9c010d59434aaa08cc9594bb3f80",
        "IPY_MODEL_49778c18dd8c4a5b8dd961431a6fb9bb"
       ],
       "layout": "IPY_MODEL_79bcd764e5d742b69698bcd269803260"
      }
     },
     "f84300fc6b184e3498c0ec54f5e3ef47": {
      "model_module": "@jupyter-widgets/base",
      "model_module_version": "1.2.0",
      "model_name": "LayoutModel",
      "state": {}
     },
     "f96c27ec68be4a4089ac26dfd5d706d0": {
      "model_module": "@jupyter-widgets/base",
      "model_module_version": "1.2.0",
      "model_name": "LayoutModel",
      "state": {}
     },
     "fff012f7059d41158ffe5fb2c91b2d0b": {
      "model_module": "jupyter-leaflet",
      "model_module_version": "^0.17.0",
      "model_name": "LeafletTileLayerModel",
      "state": {
       "_model_module_version": "^0.17.0",
       "_view_module_version": "^0.17.0",
       "attribution": "Map data: (C) OpenSeaMap contributors",
       "max_zoom": 22,
       "name": "OpenSeaMap",
       "options": [
        "attribution",
        "bounds",
        "detect_retina",
        "max_native_zoom",
        "max_zoom",
        "min_native_zoom",
        "min_zoom",
        "no_wrap",
        "tile_size",
        "tms"
       ],
       "url": "https://tiles.openseamap.org/seamark/{z}/{x}/{y}.png"
      }
     }
    },
    "version_major": 2,
    "version_minor": 0
   }
  }
 },
 "nbformat": 4,
 "nbformat_minor": 4
}
