{
 "cells": [
  {
   "cell_type": "code",
   "execution_count": 1,
   "metadata": {},
   "outputs": [],
   "source": [
    "import os\n",
    "import datetime\n",
    "# Local Imports\n",
    "import coastseg\n",
    "from coastseg import coastseg_map\n",
    "from coastseg import coastseg_logs #must be the first module loaded to create logs folder\n",
    "\n",
    "# External Imports\n",
    "import ee\n",
    "from google.auth import exceptions as google_auth_exceptions\n",
    "from IPython.display import display, clear_output\n",
    "from tkinter import Tk,filedialog\n",
    "from ipywidgets import Button, HBox, VBox, Layout, DatePicker, HTML, RadioButtons, SelectMultiple, Output, Checkbox\n",
    "\n",
    "# suppress tensorflow warnings\n",
    "os.environ['TF_CPP_MIN_LOG_LEVEL'] = '3'"
   ]
  },
  {
   "cell_type": "markdown",
   "metadata": {},
   "source": [
    "## Authenticate and Initialize with Google Earth Engine (GEE)\n",
    "\n",
    "- Run this cell to initialize with GEE which will allow you to download remote sensing data from GEE.\n",
    "\n",
    "### First Time Users\n",
    "\n",
    "- In order to use Google Earth Engine (GEE) you will need to sign up to request access to use Google Earth Engine.https://signup.earthengine.google.com. You will only need to do this once and it takes only a day to get your account verified.\n",
    "\n",
    "### How `ee.Authenticate()` works\n",
    "\n",
    "- In order to initialize with GEE you will need an authorization token with is obtained by running `ee.Authenticate()`.This token lasts 7 days and during those 7 days you will not need to authenticate with google earth engine with an access code. Once the 7 days are up you will need to reauthenticate to use GEE again.\n"
   ]
  },
  {
   "cell_type": "code",
   "execution_count": 2,
   "metadata": {},
   "outputs": [],
   "source": [
    "try:\n",
    "    ee.Initialize()\n",
    "except google_auth_exceptions.RefreshError as exception:\n",
    "    print(\"Please authenticate with Google:\\n\")\n",
    "    ee.Authenticate()\n",
    "    ee.Initialize()"
   ]
  },
  {
   "cell_type": "markdown",
   "metadata": {},
   "source": [
    "## Settings for CoastSat\n",
    "\n",
    "Modify any of the following setting to determine how data is downloaded from CoastSat"
   ]
  },
  {
   "cell_type": "code",
   "execution_count": 3,
   "metadata": {},
   "outputs": [],
   "source": [
    "settings = { \n",
    "    # general parameters:\n",
    "    'landsat_collection': 'C02',\n",
    "    'cloud_thresh': 0.5,        # threshold on maximum cloud cover\n",
    "     'dist_clouds': 300,        # ditance around clouds where shoreline can't be mapped\n",
    "    'output_epsg': 3857,        # epsg code of spatial reference system desired for the output   \n",
    "    # quality control:\n",
    "    'check_detection': False,    # if True, shows each shoreline detection to the user for validation\n",
    "    'adjust_detection': False,  # if True, allows user to adjust the postion of each shoreline by changing the threhold\n",
    "    'save_figure': True,        # if True, saves a figure showing the mapped shoreline for each image\n",
    "    # [ONLY FOR ADVANCED USERS] shoreline detection parameters:\n",
    "    'min_beach_area': 4500,     # minimum area (in metres^2) for an object to be labelled as a beach\n",
    "    'buffer_size': 550,         # radius (in metres) of the buffer around sandy pixels considered in the shoreline detection\n",
    "    'min_length_sl': 100,       # minimum length (in metres) of shoreline perimeter to be valid\n",
    "    'cloud_mask_issue': False,  # switch this parameter to True if sand pixels are masked (in black) on many images  \n",
    "    'sand_color': 'default',    # 'default', 'dark' (for grey/black sand beaches) or 'bright' (for white sand beaches)\n",
    "    'pan_off':'False',          # if True, no pan-sharpening is performed on Landsat 7,8 and 9 imagery\n",
    "    'create_plot':False,        # True create a matplotlib plot of the image with the datetime as the title\n",
    "    'max_dist_ref':25,\n",
    "    'along_dist' :25,\n",
    "}"
   ]
  },
  {
   "cell_type": "markdown",
   "metadata": {
    "tags": []
   },
   "source": [
    "# How to Use The Map\n",
    "\n",
    "---\n",
    "1.  Click Save Settings Button\n",
    "1. Use the rectangle tool to draw a bounding box along the coastline.\n",
    "2. Click `Generate ROI` to create ROI rectangles along the coastline in the bounding box. This may take some time.\n",
    "- You should see a coastline appear in yellow and some rectangles along it.\n",
    "3. Load transects into your bounding box with the `Load Transects` button. If any exist for the bounding box you selected they should appear.\n",
    "4. Click the ROIs you want to download.\n",
    "5. Once you've selected all the ROIs you want to download click `Downlod Imagery`\n",
    " - If any of the ROIs succesfully download they will have their own folder with all their data in the `data` directory in the `CoastSeg` directory\n",
    "6. To extract a timeseries of shorelines for the ROIs you downloaded click `Extract Shorelines`\n",
    "- Note this feature is still under development. This instruction will be updated later\n",
    "7. If any shorelines were extracted you can compute the cross distances along the transects and shoreline by clicking `Compute Transects` \n",
    "- Note this feature is still under development. This instruction will be updated later\n",
    "\n",
    "## How to Use Config Files\n",
    "---\n",
    "Config files are used to save and restore the state of your map. When you click `save config` or `download ROI` all the selected ROIs, transects, shorelines and the current bounding box loaded onto the map are saved to two config files: `config.json` and `config_gdf.geojson`. Extracted shorelines and cross distances for transects are not saved to the config files.\n",
    "\n",
    "## Saving Config Files\n",
    "---\n",
    "Config files are automatically saved in the `data` directory within each ROI directory when `Download ROIs` is clicked. \n",
    "Config files can be saved at any time when the `Save Config Files` button. If the ROIs selected on the map have been downloaded before and exist in the `data` directory then the config files will be stored in  within each ROI directory. If the ROIs on the map have not been downloaded before then the config files will be saved in the coastseg directory.\n",
    "\n",
    "#### Steps\n",
    "1. Click the ROIs on the map you want to save\n",
    "2. Click the `Save Config Files` button. \n",
    "- If the ROIs have been downloaded the config file is in each ROI's folder in file: 'config_gdf.geojson'\n",
    "- If the ROIs have not been downloaded the config file is in main CoastSeg directory in file: 'config_gdf.geojson'\n",
    "- The 'config.json' will be saved in the same directory as the 'config_gdf.geojson'.\n",
    "\n",
    "## Loading Config Files\n",
    "___\n",
    "### Load Config Files For Download ROIs\n",
    "To load config files for ROIs that have been downloaded before go to the `data` directory within `coastseg` then find the directory of the ROIs you want to upload. Inside that directory, for example the \n",
    "`ID_3_datetime10-20-22__07_09_07` directory, there should be `geojson` file named `config_gdf_id_3.geojson`. You should notice the `ID_<ROI ID NUMBER>` in the directory name and the geojson file match, in this case this is ROI id 3. Upload the `config_gdf_id_<roi id number>.geojson`.\n",
    "This will load the ROI in that directory and all the other selected ROIs,shorelines, transects, and the bounding box that were on the map when it was saved.\n",
    "#### Steps\n",
    "1. Click `Load Config`\n",
    "2. Open `data` directory\n",
    "3. Open ROI directory ex. **ID_3_datetime10-20-22__07_09_07**\n",
    "3. Select `config_gdf_id_<roi id number>.geojson` ex. **config_gdf_id_3.geojson**\n",
    "\n",
    "### Load Config Files For ROIs That Have Not Been Downloaded\n",
    "To load config files for ROIs that have not been downloaded before first click the `Load Config` button,  open the coastseg directory and select `config_gdf.geojson`. This will loaded the selected ROIs, shorelines, transects, and bounding box that was saved with the `Save Config Files` button. \n",
    "NOTE: You will not be able to extract shorelines or compute transects until you download the data for these ROIs.\n",
    "#### Steps\n",
    "1. Click `Load Config`\n",
    "2. Open `coastseg` application directory\n",
    "3. Select `config_gdf.geojson`"
   ]
  },
  {
   "cell_type": "code",
   "execution_count": 6,
   "metadata": {},
   "outputs": [
    {
     "data": {
      "application/vnd.jupyter.widget-view+json": {
       "model_id": "314261453deb4001995fc71819a8ea9b",
       "version_major": 2,
       "version_minor": 0
      },
      "text/plain": [
       "HBox(children=(Accordion(children=(VBox(children=(VBox(children=(HTML(value='<b>Pick a date:</b>', layout=Layo…"
      ]
     },
     "metadata": {},
     "output_type": "display_data"
    },
    {
     "data": {
      "application/vnd.jupyter.widget-view+json": {
       "model_id": "1aa1364e44c745dea146b7419ffc9bed",
       "version_major": 2,
       "version_minor": 0
      },
      "text/plain": [
       "HBox(children=(VBox(children=(HTML(value='<h2><b>Generate ROIs</b></h2>                 Use the two sliders to…"
      ]
     },
     "metadata": {},
     "output_type": "display_data"
    },
    {
     "data": {
      "application/vnd.jupyter.widget-view+json": {
       "model_id": "f528dfe1ce044f37ad919f2f2f60c71f",
       "version_major": 2,
       "version_minor": 0
      },
      "text/plain": [
       "HBox(children=(HBox(children=(Button(description='Remove all', style=ButtonStyle(button_color='red')), Button(…"
      ]
     },
     "metadata": {},
     "output_type": "display_data"
    },
    {
     "data": {
      "application/vnd.jupyter.widget-view+json": {
       "model_id": "306f8707558044ed9eb587fc24af3ef1",
       "version_major": 2,
       "version_minor": 0
      },
      "text/plain": [
       "HBox(children=(Button(description='Clear TextBox', style=ButtonStyle(button_color='#a3adac')), Output(layout=L…"
      ]
     },
     "metadata": {},
     "output_type": "display_data"
    },
    {
     "data": {
      "application/vnd.jupyter.widget-view+json": {
       "model_id": "f1184055a7dd4845a292d0516a45f0a1",
       "version_major": 2,
       "version_minor": 0
      },
      "text/plain": [
       "HBox(children=(Map(center=[40.8630302395, -124.166267], controls=(ZoomControl(options=['position', 'zoom_in_te…"
      ]
     },
     "metadata": {},
     "output_type": "display_data"
    },
    {
     "data": {
      "application/vnd.jupyter.widget-view+json": {
       "model_id": "16d07c148ef04699a82785b7997f99df",
       "version_major": 2,
       "version_minor": 0
      },
      "text/plain": [
       "HBox(children=(Output(layout=Layout(border='1px solid black')),))"
      ]
     },
     "metadata": {},
     "output_type": "display_data"
    }
   ],
   "source": [
    "from src.coastseg.map_UI import UI\n",
    "coastsegmap=coastseg_map.CoastSeg_Map(settings)\n",
    "coastseg_ui = UI(coastsegmap)\n",
    "coastseg_ui.create_dashboard()"
   ]
  },
  {
   "cell_type": "markdown",
   "metadata": {},
   "source": [
    "# The Rest of this Notebook is Still Under Active Development\n",
    "---"
   ]
  },
  {
   "cell_type": "markdown",
   "metadata": {},
   "source": [
    "# Extract Shorelines From Downloaded Imagery\n",
    "------\n",
    "Extracted Shorelines are shoreline vectors in the imagery you downloaded from GEE. The extracted shorelines are created by analyzing each `.tiff` file for each set of satellite imagery downloaded to check if a shoreline classifier can be applied to it. If the `.tiff` file meets the quality standards by being under the maxiumum theshold for cloud cover and other metrics the image is analyzed by a special image segmentation model which classifies the sand, water and surf in the image. Using the labeled images from the image segmentation model a shoreline vector will be detected in the image and saved to a dictionary entry for the ROI it belonged to. The extracted shoreline will appear in purple on the map.\n",
    "\n",
    "## Beta Shorelines Do Not Always Work Properly\n",
    "The classifier to extract shorelines is still under development and fails for complex shorelines sometimes. If you see extracted shorelines that zig and zag this is likely the result of the classifier failing to classifiy your image. You may want to try changing the sand color parameter of the classifier if the sand on your coast is dark or light.\n",
    "\n",
    "## Current Bugs Under Development\n",
    "1. Multiple shoreline vectors will be rendered onto the map at the same location because all the shorelines accross the time period you selected are calculated at the same time. In the next release of CoastSeg these will be rendered one at a time on the map and you will be able to select which dates are rendered.\n",
    "2. Sometimes shorelines will be not be able to be extracted from any of the imagery downloaded for the ROI on the map due to image quality issues such as excessive cloud cover or too many 'no data'(black) pixels in the downloaded imagery. When this is the case the extracted shoreline will not appear on the map. In a future update of coastseg there will be error messages to tell you when this has occured.\n",
    "\n",
    "\n",
    "## How to Extract Shorelines From Your Iamgery\n",
    "See the extracted shorelines for the ROIs selected on the map by first selecting your ROIs, downloading their data from GEE and then clicking extract shorelines.\n",
    "1. Click the ROIs to extract shorelines from on the map\n",
    "2. Download the ROIs data from GEE or already have it downloaded.\n",
    "3. Click `extract shorelines`\n",
    "4. You should see extracted shorelines appear in purple within some of your ROIs.\n",
    "5. Run the following code block to see the extracted shorelines for each ROI."
   ]
  },
  {
   "cell_type": "code",
   "execution_count": 5,
   "metadata": {},
   "outputs": [
    {
     "name": "stdout",
     "output_type": "stream",
     "text": [
      "Please select ROIs on the map first\n"
     ]
    }
   ],
   "source": [
    "if coastsegmap.rois is None or len(coastsegmap.selected_set) ==0:\n",
    "    print(\"Please select ROIs on the map first\")\n",
    "elif coastsegmap.rois is not None:\n",
    "    if coastsegmap.data_downloaded == False:\n",
    "        print(\"Download the data first to extract shorelines from it\")\n",
    "    elif coastsegmap.data_downloaded == True:\n",
    "        print(coastsegmap.rois.extracted_shorelines)"
   ]
  },
  {
   "cell_type": "markdown",
   "metadata": {},
   "source": [
    "# Compute Transect Cross Distance for Extracted Shorelines\n",
    "--------\n",
    "# How Compute Transect Cross Distance for Extracted Shorelines\n",
    "1. Click `Extract Shorelines`\n",
    "2.  Click `Compute Transects`"
   ]
  },
  {
   "cell_type": "markdown",
   "metadata": {},
   "source": [
    "## Run Models on Imagery\n",
    "1. Select if you want to use a GPU or not. By default you won't your computer's GPU\n",
    "2. Select if you want to use CRF post-processing or not. By default CRF post-processing is not enabled\n",
    "<br>**WARNING**: There is a bug with CRF post-processing and the models so you will need to enable CRF post-processing until it is fixed.\n",
    "3. Select whether your data is the type RGB or MNDWI\n",
    "4. Select the model you want to use\n",
    "5. Select Ensemble or Best (Ensemble is recommended) \n",
    "6. \n"
   ]
  },
  {
   "cell_type": "code",
   "execution_count": null,
   "metadata": {},
   "outputs": [],
   "source": [
    "from src.coastseg.UI_models import UI_Models\n",
    "models_ui = UI_Models()\n",
    "models_ui.create_dashboard()"
   ]
  }
 ],
 "metadata": {
  "kernelspec": {
   "display_name": "Python 3 (ipykernel)",
   "language": "python",
   "name": "python3"
  },
  "language_info": {
   "codemirror_mode": {
    "name": "ipython",
    "version": 3
   },
   "file_extension": ".py",
   "mimetype": "text/x-python",
   "name": "python",
   "nbconvert_exporter": "python",
   "pygments_lexer": "ipython3",
   "version": "3.10.4"
  },
  "vscode": {
   "interpreter": {
    "hash": "53ab1155a6fba8dac112dd11f6ebbdb1bff1a2fc6fa221ef0a2c21c817842ec3"
   }
  },
  "widgets": {
   "application/vnd.jupyter.widget-state+json": {
    "state": {
     "0030b4de056e4aae9abb54fac3271b0a": {
      "model_module": "jupyter-leaflet",
      "model_module_version": "^0.17.0",
      "model_name": "LeafletTileLayerModel",
      "state": {
       "_model_module_version": "^0.17.0",
       "_view_module_version": "^0.17.0",
       "attribution": "Tiles (C) Esri -- Copyright: (C)2012 DeLorme",
       "max_zoom": 11,
       "name": "Esri.DeLorme",
       "options": [
        "attribution",
        "bounds",
        "detect_retina",
        "max_native_zoom",
        "max_zoom",
        "min_native_zoom",
        "min_zoom",
        "no_wrap",
        "tile_size",
        "tms"
       ],
       "url": "https://server.arcgisonline.com/ArcGIS/rest/services/Specialty/DeLorme_World_Base_Map/MapServer/tile/{z}/{y}/{x}"
      }
     },
     "00f26ab5bb6b49ea8a2bb675590656b1": {
      "model_module": "@jupyter-widgets/base",
      "model_module_version": "1.2.0",
      "model_name": "LayoutModel",
      "state": {
       "height": "auto",
       "padding": "0px 0px 0px 4px",
       "width": "auto"
      }
     },
     "0137d8f75839485da8fc01ff598b0b7f": {
      "model_module": "@jupyter-widgets/controls",
      "model_module_version": "1.5.0",
      "model_name": "VBoxModel",
      "state": {
       "children": [
        "IPY_MODEL_ec2a3a05b3054a52983a8cbd1f07de86",
        "IPY_MODEL_940ae3db893240c88f25082f95e40468"
       ],
       "layout": "IPY_MODEL_0984a2e060d04a27b05d6d4d0bbd8804"
      }
     },
     "019ed14f1e0e47549046a0fa26561aa7": {
      "model_module": "@jupyter-widgets/controls",
      "model_module_version": "1.5.0",
      "model_name": "HTMLModel",
      "state": {
       "layout": "IPY_MODEL_8750cbdd15824f7b93b1999682121937",
       "style": "IPY_MODEL_c44c684c89a94b7c9f68944f8bbfc33b",
       "value": "Extracting Shorelines: 100%"
      }
     },
     "02973f28da5c438b8c2ad3e2c4d3e7e6": {
      "model_module": "jupyter-leaflet",
      "model_module_version": "^0.17.0",
      "model_name": "LeafletTileLayerModel",
      "state": {
       "_model_module_version": "^0.17.0",
       "_view_module_version": "^0.17.0",
       "attribution": "Map tiles by <a href=\"https://labs.strava.com/heatmap\">Strava 2021</a>",
       "max_zoom": 15,
       "name": "Strava.Ride",
       "options": [
        "attribution",
        "bounds",
        "detect_retina",
        "max_native_zoom",
        "max_zoom",
        "min_native_zoom",
        "min_zoom",
        "no_wrap",
        "tile_size",
        "tms"
       ],
       "url": "https://heatmap-external-a.strava.com/tiles/ride/hot/{z}/{x}/{y}.png"
      }
     },
     "02d32272f02d418aa0530d83339001c7": {
      "model_module": "@jupyter-widgets/base",
      "model_module_version": "1.2.0",
      "model_name": "LayoutModel",
      "state": {}
     },
     "02e058da7cb94cc292eb017ddefecae0": {
      "model_module": "jupyter-leaflet",
      "model_module_version": "^0.17.0",
      "model_name": "LeafletTileLayerModel",
      "state": {
       "_model_module_version": "^0.17.0",
       "_view_module_version": "^0.17.0",
       "attribution": "Imagery provided by services from the Global Imagery Browse Services (GIBS), operated by the NASA/GSFC/Earth Science Data and Information System (ESDIS) with funding provided by NASA/HQ.",
       "max_zoom": 7,
       "name": "NASAGIBS.ModisTerraChlorophyll",
       "options": [
        "attribution",
        "bounds",
        "detect_retina",
        "max_native_zoom",
        "max_zoom",
        "min_native_zoom",
        "min_zoom",
        "no_wrap",
        "tile_size",
        "tms"
       ],
       "url": "https://map1.vis.earthdata.nasa.gov/wmts-webmerc/MODIS_Terra_Chlorophyll_A/default//GoogleMapsCompatible_Level7/{z}/{y}/{x}.png"
      }
     },
     "02f17546c2e34c9283c1e76746bfd8af": {
      "model_module": "@jupyter-widgets/base",
      "model_module_version": "1.2.0",
      "model_name": "LayoutModel",
      "state": {}
     },
     "032137f5e0934568b574533ac010ffa4": {
      "model_module": "jupyter-leaflet",
      "model_module_version": "^0.17.0",
      "model_name": "LeafletMapStyleModel",
      "state": {
       "_model_module_version": "^0.17.0",
       "cursor": "wait"
      }
     },
     "03cac9f0ec3e4e6292a6d18d4523784c": {
      "model_module": "jupyter-leaflet",
      "model_module_version": "^0.17.0",
      "model_name": "LeafletTileLayerModel",
      "state": {
       "_model_module_version": "^0.17.0",
       "_view_module_version": "^0.17.0",
       "attribution": "(C) OpenStreetMap contributors",
       "max_zoom": 19,
       "name": "OpenStreetMap.Mapnik",
       "options": [
        "attribution",
        "bounds",
        "detect_retina",
        "max_native_zoom",
        "max_zoom",
        "min_native_zoom",
        "min_zoom",
        "no_wrap",
        "tile_size",
        "tms"
       ],
       "url": "https://a.tile.openstreetmap.org/{z}/{x}/{y}.png"
      }
     },
     "0408f79165b346efbf5aa246056472dd": {
      "model_module": "@jupyter-widgets/controls",
      "model_module_version": "1.5.0",
      "model_name": "DescriptionStyleModel",
      "state": {
       "description_width": ""
      }
     },
     "0486aac6cd4d4d32869bda0e9ee0c752": {
      "model_module": "@jupyter-widgets/controls",
      "model_module_version": "1.5.0",
      "model_name": "DescriptionStyleModel",
      "state": {
       "description_width": ""
      }
     },
     "04ef399de5c74959b45980727b3eaa63": {
      "model_module": "@jupyter-widgets/base",
      "model_module_version": "1.2.0",
      "model_name": "LayoutModel",
      "state": {
       "height": "auto",
       "padding": "0px 0px 0px 4px",
       "width": "auto"
      }
     },
     "05003e7b863b4cc4834c62f9a74949f9": {
      "model_module": "@jupyter-widgets/controls",
      "model_module_version": "1.5.0",
      "model_name": "ButtonStyleModel",
      "state": {
       "button_color": "#ae3cf0"
      }
     },
     "0517164b1b17490187519312c7956440": {
      "model_module": "@jupyter-widgets/base",
      "model_module_version": "1.2.0",
      "model_name": "LayoutModel",
      "state": {
       "height": "auto",
       "padding": "0px 0px 0px 4px",
       "width": "auto"
      }
     },
     "05503a6796a744c694609bdb20ee8be1": {
      "model_module": "@jupyter-widgets/controls",
      "model_module_version": "1.5.0",
      "model_name": "DescriptionStyleModel",
      "state": {
       "description_width": ""
      }
     },
     "05e4d5886b7a46baa57ae29ea7f0c904": {
      "model_module": "@jupyter-widgets/base",
      "model_module_version": "1.2.0",
      "model_name": "LayoutModel",
      "state": {}
     },
     "065574895e5547489fab820e8658cbc1": {
      "model_module": "@jupyter-widgets/base",
      "model_module_version": "1.2.0",
      "model_name": "LayoutModel",
      "state": {
       "margin": "0px 0px 0px 5px"
      }
     },
     "065ee215ede443f78b79de77cc364e11": {
      "model_module": "jupyter-leaflet",
      "model_module_version": "^0.17.0",
      "model_name": "LeafletDrawControlModel",
      "state": {
       "_model_module_version": "^0.17.0",
       "_view_module_version": "^0.17.0",
       "options": [
        "position"
       ],
       "polygon": {},
       "polyline": {},
       "rectangle": {
        "allowIntersection": false,
        "drawError": {
         "color": "#dd253b",
         "message": "Ops!"
        },
        "shapeOptions": {
         "Opacity": 0.1,
         "color": "green",
         "fillColor": "green",
         "fillOpacity": 0.1
        },
        "transform": true
       }
      }
     },
     "06bb11983df549f39db3252e4d73a0b5": {
      "model_module": "jupyter-leaflet",
      "model_module_version": "^0.17.0",
      "model_name": "LeafletTileLayerModel",
      "state": {
       "_model_module_version": "^0.17.0",
       "_view_module_version": "^0.17.0",
       "attribution": "Datenquelle: basemap.at",
       "max_zoom": 19,
       "name": "BasemapAT.highdpi",
       "options": [
        "attribution",
        "bounds",
        "detect_retina",
        "max_native_zoom",
        "max_zoom",
        "min_native_zoom",
        "min_zoom",
        "no_wrap",
        "tile_size",
        "tms"
       ],
       "url": "https://maps.wien.gv.at/basemap/bmaphidpi/normal/google3857/{z}/{y}/{x}.jpeg"
      }
     },
     "0735eadc322244e88212de4ae8ae1a2d": {
      "model_module": "@jupyter-widgets/base",
      "model_module_version": "1.2.0",
      "model_name": "LayoutModel",
      "state": {}
     },
     "0746c82a49764c5198e306a146b7d15b": {
      "model_module": "jupyter-leaflet",
      "model_module_version": "^0.17.0",
      "model_name": "LeafletTileLayerModel",
      "state": {
       "_model_module_version": "^0.17.0",
       "_view_module_version": "^0.17.0",
       "attribution": "Map tiles by Stamen Design, CC BY 3.0 -- Map data (C) OpenStreetMap contributors",
       "max_zoom": 16,
       "name": "Stamen.Watercolor",
       "options": [
        "attribution",
        "bounds",
        "detect_retina",
        "max_native_zoom",
        "max_zoom",
        "min_native_zoom",
        "min_zoom",
        "no_wrap",
        "tile_size",
        "tms"
       ],
       "url": "https://stamen-tiles-a.a.ssl.fastly.net/watercolor/{z}/{x}/{y}.jpg"
      }
     },
     "076da33d1aa34306ae3edc3f770e1554": {
      "model_module": "@jupyter-widgets/controls",
      "model_module_version": "1.5.0",
      "model_name": "RadioButtonsModel",
      "state": {
       "_options_labels": [
        "Shoreline",
        "Transects",
        "Bbox"
       ],
       "index": 0,
       "layout": "IPY_MODEL_512d879eb0ae4cf8a0571541c5924013",
       "style": "IPY_MODEL_9ebd3eb34f1244ccb64a4eaac032b89d"
      }
     },
     "08005be175b341ce9b34b0830b10e96b": {
      "model_module": "@jupyter-widgets/base",
      "model_module_version": "1.2.0",
      "model_name": "LayoutModel",
      "state": {
       "height": "auto",
       "padding": "0px 0px 0px 4px",
       "width": "auto"
      }
     },
     "082333cbb83448eea91aea16043aa5eb": {
      "model_module": "@jupyter-widgets/base",
      "model_module_version": "1.2.0",
      "model_name": "LayoutModel",
      "state": {
       "height": "600px",
       "width": "100%"
      }
     },
     "08536150943340d8a6390846691b8d47": {
      "model_module": "@jupyter-widgets/controls",
      "model_module_version": "1.5.0",
      "model_name": "HTMLModel",
      "state": {
       "layout": "IPY_MODEL_ef577c51891846a79e25004cf4fdc50e",
       "style": "IPY_MODEL_296a572b23124ca9996d4fdfb364bea0",
       "value": "Hover over a ROI on the map"
      }
     },
     "088e71c403a94f8183c93f3f2ed969d2": {
      "model_module": "jupyter-leaflet",
      "model_module_version": "^0.17.0",
      "model_name": "LeafletDrawControlModel",
      "state": {
       "_model_module_version": "^0.17.0",
       "_view_module_version": "^0.17.0",
       "options": [
        "position"
       ],
       "polygon": {},
       "polyline": {},
       "rectangle": {
        "allowIntersection": false,
        "drawError": {
         "color": "#dd253b",
         "message": "Ops!"
        },
        "shapeOptions": {
         "Opacity": 0.1,
         "color": "green",
         "fillColor": "green",
         "fillOpacity": 0.1
        },
        "transform": true
       }
      }
     },
     "08cd2e87468d443db69db029fbc073d7": {
      "model_module": "@jupyter-widgets/controls",
      "model_module_version": "1.5.0",
      "model_name": "DescriptionStyleModel",
      "state": {
       "description_width": ""
      }
     },
     "093c4f0875c74a9a983b58efa9a91066": {
      "model_module": "@jupyter-widgets/base",
      "model_module_version": "1.2.0",
      "model_name": "LayoutModel",
      "state": {}
     },
     "095653fd5eee41cb892d09f716d6e3bd": {
      "model_module": "jupyter-leaflet",
      "model_module_version": "^0.17.0",
      "model_name": "LeafletTileLayerModel",
      "state": {
       "_model_module_version": "^0.17.0",
       "_view_module_version": "^0.17.0",
       "attribution": "(C) OpenStreetMap contributors, vizualization CC-By-SA 2.0 Freemap.sk",
       "max_zoom": 16,
       "name": "FreeMapSK",
       "options": [
        "attribution",
        "bounds",
        "detect_retina",
        "max_native_zoom",
        "max_zoom",
        "min_native_zoom",
        "min_zoom",
        "no_wrap",
        "tile_size",
        "tms"
       ],
       "url": "https://a.freemap.sk/T/{z}/{x}/{y}.jpeg"
      }
     },
     "0984a2e060d04a27b05d6d4d0bbd8804": {
      "model_module": "@jupyter-widgets/base",
      "model_module_version": "1.2.0",
      "model_name": "LayoutModel",
      "state": {}
     },
     "09b38a2f214b414ea01c939738a62a44": {
      "model_module": "@jupyter-widgets/controls",
      "model_module_version": "1.5.0",
      "model_name": "HTMLModel",
      "state": {
       "layout": "IPY_MODEL_ddc374bfb167425fb1fa1acbb5196342",
       "style": "IPY_MODEL_9ca2fb1e103b4e30a1b0ef8626bc9aa5",
       "value": "<h2>Load Feature into Bounding Box</h2>                </br> Loads shoreline or transects into bounding box on map.                </br>If no transects or shorelines exist, then               </br> draw bounding box somewhere else                "
      }
     },
     "09fdd35fa29d48388dafa46ccfc527dc": {
      "model_module": "@jupyter-widgets/base",
      "model_module_version": "1.2.0",
      "model_name": "LayoutModel",
      "state": {}
     },
     "0a0d2fdac9804509926cd50648f00b33": {
      "model_module": "jupyter-leaflet",
      "model_module_version": "^0.17.0",
      "model_name": "LeafletTileLayerModel",
      "state": {
       "_model_module_version": "^0.17.0",
       "_view_module_version": "^0.17.0",
       "attribution": "Map tiles by Stamen Design, CC BY 3.0 -- Map data (C) OpenStreetMap contributors",
       "name": "Stamen.TerrainBackground",
       "options": [
        "attribution",
        "bounds",
        "detect_retina",
        "max_native_zoom",
        "max_zoom",
        "min_native_zoom",
        "min_zoom",
        "no_wrap",
        "tile_size",
        "tms"
       ],
       "url": "https://stamen-tiles-a.a.ssl.fastly.net/terrain-background/{z}/{x}/{y}.png"
      }
     },
     "0a0e266d06824452a982e904cb1659d4": {
      "model_module": "@jupyter-widgets/base",
      "model_module_version": "1.2.0",
      "model_name": "LayoutModel",
      "state": {}
     },
     "0a0f725cd75243af8cfe4e4402d4dfaa": {
      "model_module": "jupyter-leaflet",
      "model_module_version": "^0.17.0",
      "model_name": "LeafletTileLayerModel",
      "state": {
       "_model_module_version": "^0.17.0",
       "_view_module_version": "^0.17.0",
       "attribution": "Imagery provided by services from the Global Imagery Browse Services (GIBS), operated by the NASA/GSFC/Earth Science Data and Information System (ESDIS) with funding provided by NASA/HQ.",
       "max_zoom": 9,
       "name": "NASAGIBS.ModisAquaTrueColorCR",
       "options": [
        "attribution",
        "bounds",
        "detect_retina",
        "max_native_zoom",
        "max_zoom",
        "min_native_zoom",
        "min_zoom",
        "no_wrap",
        "tile_size",
        "tms"
       ],
       "url": "https://gibs.earthdata.nasa.gov/wmts/epsg3857/best/MODIS_Aqua_CorrectedReflectance_TrueColor/default//GoogleMapsCompatible_Level9/{z}/{y}/{x}.jpg"
      }
     },
     "0a15ac5cc4784b50bfc11d3bf7417d57": {
      "model_module": "jupyter-leaflet",
      "model_module_version": "^0.17.0",
      "model_name": "LeafletTileLayerModel",
      "state": {
       "_model_module_version": "^0.17.0",
       "_view_module_version": "^0.17.0",
       "attribution": "openAIP Data (CC-BY-NC-SA)",
       "max_zoom": 14,
       "name": "OpenAIP",
       "options": [
        "attribution",
        "bounds",
        "detect_retina",
        "max_native_zoom",
        "max_zoom",
        "min_native_zoom",
        "min_zoom",
        "no_wrap",
        "tile_size",
        "tms"
       ],
       "url": "https://1.tile.maps.openaip.net/geowebcache/service/tms/1.0.0/openaip_basemap@EPSG%3A900913@png/{z}/{x}/{y}.png"
      }
     },
     "0a582d299aa24274a88a18144b600e9a": {
      "model_module": "jupyter-leaflet",
      "model_module_version": "^0.17.0",
      "model_name": "LeafletWMSLayerModel",
      "state": {
       "_model_module_version": "^0.17.0",
       "_view_module_version": "^0.17.0",
       "attribution": "USGS",
       "crs": {
        "custom": false,
        "name": "EPSG3857"
       },
       "format": "image/png",
       "layers": "USGSNAIPImagery:NaturalColor",
       "name": "USGS NAIP Imagery",
       "options": [
        "attribution",
        "bounds",
        "detect_retina",
        "format",
        "layers",
        "max_native_zoom",
        "max_zoom",
        "min_native_zoom",
        "min_zoom",
        "no_wrap",
        "styles",
        "tile_size",
        "tms",
        "transparent",
        "uppercase"
       ],
       "transparent": true,
       "url": "https://imagery.nationalmap.gov/arcgis/services/USGSNAIPImagery/ImageServer/WMSServer?"
      }
     },
     "0aa26959a14d475ab8fdd5e2fe6d2308": {
      "model_module": "jupyter-leaflet",
      "model_module_version": "^0.17.0",
      "model_name": "LeafletTileLayerModel",
      "state": {
       "_model_module_version": "^0.17.0",
       "_view_module_version": "^0.17.0",
       "attribution": "Datenquelle: basemap.at",
       "max_zoom": 19,
       "name": "BasemapAT.grau",
       "options": [
        "attribution",
        "bounds",
        "detect_retina",
        "max_native_zoom",
        "max_zoom",
        "min_native_zoom",
        "min_zoom",
        "no_wrap",
        "tile_size",
        "tms"
       ],
       "url": "https://maps.wien.gv.at/basemap/bmapgrau/normal/google3857/{z}/{y}/{x}.png"
      }
     },
     "0ab90cd4040c4c4a94bf28a13bb1ab0e": {
      "model_module": "jupyter-leaflet",
      "model_module_version": "^0.17.0",
      "model_name": "LeafletTileLayerModel",
      "state": {
       "_model_module_version": "^0.17.0",
       "_view_module_version": "^0.17.0",
       "attribution": "Imagery provided by services from the Global Imagery Browse Services (GIBS), operated by the NASA/GSFC/Earth Science Data and Information System (ESDIS) with funding provided by NASA/HQ.",
       "max_zoom": 9,
       "name": "NASAGIBS.ModisTerraTrueColorCR",
       "options": [
        "attribution",
        "bounds",
        "detect_retina",
        "max_native_zoom",
        "max_zoom",
        "min_native_zoom",
        "min_zoom",
        "no_wrap",
        "tile_size",
        "tms"
       ],
       "url": "https://map1.vis.earthdata.nasa.gov/wmts-webmerc/MODIS_Terra_CorrectedReflectance_TrueColor/default//GoogleMapsCompatible_Level9/{z}/{y}/{x}.jpg"
      }
     },
     "0acf1617c5a24ddfae811e52b79f9808": {
      "model_module": "jupyter-leaflet",
      "model_module_version": "^0.17.0",
      "model_name": "LeafletMapStyleModel",
      "state": {
       "_model_module_version": "^0.17.0"
      }
     },
     "0b536c9fb4514e2a8e69db25d574deac": {
      "model_module": "@jupyter-widgets/controls",
      "model_module_version": "1.5.0",
      "model_name": "DescriptionStyleModel",
      "state": {
       "description_width": ""
      }
     },
     "0b826664dc114badbadcdefc2c2f6751": {
      "model_module": "@jupyter-widgets/base",
      "model_module_version": "1.2.0",
      "model_name": "LayoutModel",
      "state": {
       "margin": "0px 5px 5px 0px"
      }
     },
     "0d7cda011c2240d78dc7429851c578d2": {
      "model_module": "@jupyter-widgets/controls",
      "model_module_version": "1.5.0",
      "model_name": "DescriptionStyleModel",
      "state": {
       "description_width": ""
      }
     },
     "0d8a2b2a55314826aa1f627d70197911": {
      "model_module": "@jupyter-widgets/base",
      "model_module_version": "1.2.0",
      "model_name": "LayoutModel",
      "state": {}
     },
     "0daec07020924b4cb1a7c92e945f1f50": {
      "model_module": "@jupyter-widgets/controls",
      "model_module_version": "1.5.0",
      "model_name": "DescriptionStyleModel",
      "state": {
       "description_width": ""
      }
     },
     "0e3638a44f994a3f82bc148ae9d975bd": {
      "model_module": "@jupyter-widgets/base",
      "model_module_version": "1.2.0",
      "model_name": "LayoutModel",
      "state": {}
     },
     "0e5f70336ce04f728bdb20c0928e65c8": {
      "model_module": "@jupyter-widgets/controls",
      "model_module_version": "1.5.0",
      "model_name": "ButtonModel",
      "state": {
       "description": "Download Imagery",
       "layout": "IPY_MODEL_14dfa28094e1499fa30efd6a418bd273",
       "style": "IPY_MODEL_05003e7b863b4cc4834c62f9a74949f9"
      }
     },
     "0ea5ff1e0ee64458ba090572df12dd74": {
      "model_module": "@jupyter-widgets/controls",
      "model_module_version": "1.5.0",
      "model_name": "ButtonModel",
      "state": {
       "description": "Extract Shorelines",
       "layout": "IPY_MODEL_4d14f08b4842456b8259b7e4eda0120e",
       "style": "IPY_MODEL_764224c7ae6e45bd8cebfa20c4d45ba2"
      }
     },
     "0ea840f2a3f6406981ffe120cd160f89": {
      "model_module": "@jupyter-widgets/controls",
      "model_module_version": "1.5.0",
      "model_name": "ToggleButtonModel",
      "state": {
       "button_style": "primary",
       "icon": "camera",
       "layout": "IPY_MODEL_c15d7cce7a724c55a41e92fd4254da8c",
       "style": "IPY_MODEL_9e7df3d0fa8848b1acab6a8492d53d15",
       "tooltip": "Save map as HTML or image"
      }
     },
     "0f49c868d0104fd6b6c7b445105e6017": {
      "model_module": "@jupyter-widgets/controls",
      "model_module_version": "1.5.0",
      "model_name": "HTMLModel",
      "state": {
       "layout": "IPY_MODEL_f92c7cf91dd240549ca0fa552d02eb27",
       "style": "IPY_MODEL_d06c8a395ce14013afd78f8fdc0b9ec1",
       "value": "Hover over a feature on the map"
      }
     },
     "0f6c1730589a4cc4bf30d4b0481f7607": {
      "model_module": "jupyter-leaflet",
      "model_module_version": "^0.17.0",
      "model_name": "LeafletTileLayerModel",
      "state": {
       "_model_module_version": "^0.17.0",
       "_view_module_version": "^0.17.0",
       "attribution": "Imagery provided by services from the Global Imagery Browse Services (GIBS), operated by the NASA/GSFC/Earth Science Data and Information System (ESDIS) with funding provided by NASA/HQ.",
       "max_zoom": 8,
       "name": "NASAGIBS.ModisTerraSnowCover",
       "options": [
        "attribution",
        "bounds",
        "detect_retina",
        "max_native_zoom",
        "max_zoom",
        "min_native_zoom",
        "min_zoom",
        "no_wrap",
        "tile_size",
        "tms"
       ],
       "url": "https://map1.vis.earthdata.nasa.gov/wmts-webmerc/MODIS_Terra_NDSI_Snow_Cover/default//GoogleMapsCompatible_Level8/{z}/{y}/{x}.png"
      }
     },
     "0feb42eda9df4c2482adcdd8ddb7c91f": {
      "model_module": "@jupyter-widgets/controls",
      "model_module_version": "1.5.0",
      "model_name": "HTMLModel",
      "state": {
       "layout": "IPY_MODEL_dfef6cdb77984ba5ae9394f29b2d95c1",
       "style": "IPY_MODEL_05503a6796a744c694609bdb20ee8be1",
       "value": "<h2><b>Download Imagery</b></h2>                 <li><b>You must click an ROI on the map before you can download ROIs</b>                 <li>Scroll past the map to see the download progress                 </br><h3><b><u>Where is my data?</u></b></br></h3>                 <li>The data you downloaded will be in the 'data' folder in the main CoastSeg directory</li>                Each ROI you downloaded will have its own folder with the ROI's ID and                </br>the time it was downloaded in the folder name                </br><b>Example</b>: 'ID_1_datetime11-03-22__02_33_22'</li>                "
      }
     },
     "11cf38934ee542799cc84ea7669f9782": {
      "model_module": "@jupyter-widgets/controls",
      "model_module_version": "1.5.0",
      "model_name": "VBoxModel",
      "state": {
       "children": [
        "IPY_MODEL_a7d0de1305684a1e9f9a4927a5de12a0",
        "IPY_MODEL_56df460201ba44e897b03a11056df89b"
       ],
       "layout": "IPY_MODEL_1b98910112eb4ccda6998c43d6c95611"
      }
     },
     "11d7b32db5494911b75f5b48e40d042c": {
      "model_module": "@jupyter-widgets/base",
      "model_module_version": "1.2.0",
      "model_name": "LayoutModel",
      "state": {}
     },
     "1319f3c55a344046a4fad43b2655b552": {
      "model_module": "jupyter-leaflet",
      "model_module_version": "^0.17.0",
      "model_name": "LeafletTileLayerModel",
      "state": {
       "_model_module_version": "^0.17.0",
       "_view_module_version": "^0.17.0",
       "attribution": "Imagery provided by services from the Global Imagery Browse Services (GIBS), operated by the NASA/GSFC/Earth Science Data and Information System (ESDIS) with funding provided by NASA/HQ.",
       "max_zoom": 5,
       "name": "NASAGIBS.BlueMarble3031",
       "options": [
        "attribution",
        "bounds",
        "detect_retina",
        "max_native_zoom",
        "max_zoom",
        "min_native_zoom",
        "min_zoom",
        "no_wrap",
        "tile_size",
        "tms"
       ],
       "url": "https://gibs.earthdata.nasa.gov/wmts/epsg3031/best/BlueMarble_NextGeneration/default/EPSG3031_500m/{z}/{y}/{x}.jpeg"
      }
     },
     "13425cb0119a48e99db3eb58e5180b9f": {
      "model_module": "@jupyter-widgets/controls",
      "model_module_version": "1.5.0",
      "model_name": "VBoxModel",
      "state": {
       "children": [
        "IPY_MODEL_0feb42eda9df4c2482adcdd8ddb7c91f",
        "IPY_MODEL_512f6555ab524c70a22e89183d62931a",
        "IPY_MODEL_53bc6ecf10ed48e8a9bfedd66220743d",
        "IPY_MODEL_643c542ac8434f94b252e1bb897baec0",
        "IPY_MODEL_acdcc7f1e7874fd49a39abaec676aa88",
        "IPY_MODEL_3fab7f829a28461db989555baa28ba11"
       ],
       "layout": "IPY_MODEL_b4278c36edca4996b865227d66bb29b3"
      }
     },
     "138bfaca3e6f406db1ceb2a0347376c5": {
      "model_module": "jupyter-leaflet",
      "model_module_version": "^0.17.0",
      "model_name": "LeafletTileLayerModel",
      "state": {
       "_model_module_version": "^0.17.0",
       "_view_module_version": "^0.17.0",
       "attribution": "Imagery provided by services from the Global Imagery Browse Services (GIBS), operated by the NASA/GSFC/Earth Science Data and Information System (ESDIS) with funding provided by NASA/HQ.",
       "max_zoom": 6,
       "name": "NASAGIBS.ModisTerraAOD",
       "options": [
        "attribution",
        "bounds",
        "detect_retina",
        "max_native_zoom",
        "max_zoom",
        "min_native_zoom",
        "min_zoom",
        "no_wrap",
        "tile_size",
        "tms"
       ],
       "url": "https://map1.vis.earthdata.nasa.gov/wmts-webmerc/MODIS_Terra_Aerosol/default//GoogleMapsCompatible_Level6/{z}/{y}/{x}.png"
      }
     },
     "140c9751505c48a0a4ad73e8b2a47eb6": {
      "model_module": "@jupyter-widgets/base",
      "model_module_version": "1.2.0",
      "model_name": "LayoutModel",
      "state": {
       "height": "auto",
       "padding": "0px 0px 0px 4px",
       "width": "auto"
      }
     },
     "1417ad3c825e4659ab7c5e3a32eb16ed": {
      "model_module": "@jupyter-widgets/controls",
      "model_module_version": "1.5.0",
      "model_name": "DescriptionStyleModel",
      "state": {
       "description_width": ""
      }
     },
     "14dfa28094e1499fa30efd6a418bd273": {
      "model_module": "@jupyter-widgets/base",
      "model_module_version": "1.2.0",
      "model_name": "LayoutModel",
      "state": {}
     },
     "1523612e9d7948739d97c05150cff5ab": {
      "model_module": "@jupyter-widgets/controls",
      "model_module_version": "1.5.0",
      "model_name": "HBoxModel",
      "state": {
       "children": [
        "IPY_MODEL_e60a420d4dc34e3a89b6b2292b3b73e2",
        "IPY_MODEL_6732254eb19549138352d6978eb8329f",
        "IPY_MODEL_13425cb0119a48e99db3eb58e5180b9f"
       ],
       "layout": "IPY_MODEL_40201ee37d7d4f5cb1125a50938ecd27"
      }
     },
     "1627e139123447b48fad5eb01f1f9509": {
      "model_module": "@jupyter-widgets/controls",
      "model_module_version": "1.5.0",
      "model_name": "ButtonModel",
      "state": {
       "description": "Save Transects CSV",
       "layout": "IPY_MODEL_d7ed64882aa94d4fb7ed41a660040ad6",
       "style": "IPY_MODEL_47f122efe337402d8e38cfc544a75ba2"
      }
     },
     "169d578485474669a1d1a19f171c8436": {
      "model_module": "jupyter-leaflet",
      "model_module_version": "^0.17.0",
      "model_name": "LeafletGeoJSONModel",
      "state": {
       "_model_module_version": "^0.17.0",
       "_view_module_version": "^0.17.0",
       "data": {
        "features": [
         {
          "geometry": {
           "coordinates": [
            [
             -124.07608334782276,
             41.35167558909348
            ],
            [
             -124.08087763369224,
             41.352096194135946
            ]
           ],
           "type": "LineString"
          },
          "id": "7651",
          "properties": {
           "id": "usa_CA_0297-0033",
           "slope": 0.07,
           "style": {
            "color": "grey",
            "fillOpacity": 0.2,
            "fill_color": "grey",
            "opacity": 1,
            "weight": 2
           }
          },
          "type": "Feature"
         },
         {
          "geometry": {
           "coordinates": [
            [
             -124.07585907625008,
             41.35244145777059
            ],
            [
             -124.08060511015525,
             41.35307714803103
            ]
           ],
           "type": "LineString"
          },
          "id": "7652",
          "properties": {
           "id": "usa_CA_0297-0034",
           "slope": 0.065,
           "style": {
            "color": "grey",
            "fillOpacity": 0.2,
            "fill_color": "grey",
            "opacity": 1,
            "weight": 2
           }
          },
          "type": "Feature"
         },
         {
          "geometry": {
           "coordinates": [
            [
             -124.07562876534148,
             41.35336218462525
            ],
            [
             -124.08039627039577,
             41.35391232050338
            ]
           ],
           "type": "LineString"
          },
          "id": "7653",
          "properties": {
           "id": "usa_CA_0297-0035",
           "slope": 0.07,
           "style": {
            "color": "grey",
            "fillOpacity": 0.2,
            "fill_color": "grey",
            "opacity": 1,
            "weight": 2
           }
          },
          "type": "Feature"
         },
         {
          "geometry": {
           "coordinates": [
            [
             -124.07543739158169,
             41.35424614546382
            ],
            [
             -124.08020595578957,
             41.35479201430675
            ]
           ],
           "type": "LineString"
          },
          "id": "7654",
          "properties": {
           "id": "usa_CA_0297-0036",
           "slope": 0.06,
           "style": {
            "color": "grey",
            "fillOpacity": 0.2,
            "fill_color": "grey",
            "opacity": 1,
            "weight": 2
           }
          },
          "type": "Feature"
         },
         {
          "geometry": {
           "coordinates": [
            [
             -124.07521354740386,
             41.35515691034485
            ],
            [
             -124.07999612434526,
             41.35563910327565
            ]
           ],
           "type": "LineString"
          },
          "id": "7655",
          "properties": {
           "id": "usa_CA_0297-0037",
           "slope": 0.07,
           "style": {
            "color": "grey",
            "fillOpacity": 0.2,
            "fill_color": "grey",
            "opacity": 1,
            "weight": 2
           }
          },
          "type": "Feature"
         },
         {
          "geometry": {
           "coordinates": [
            [
             -124.07505591581833,
             41.35609665960766
            ],
            [
             -124.07985860692224,
             41.35647074431542
            ]
           ],
           "type": "LineString"
          },
          "id": "7656",
          "properties": {
           "id": "usa_CA_0297-0038",
           "slope": 0.075,
           "style": {
            "color": "grey",
            "fillOpacity": 0.2,
            "fill_color": "grey",
            "opacity": 1,
            "weight": 2
           }
          },
          "type": "Feature"
         },
         {
          "geometry": {
           "coordinates": [
            [
             -124.07492219929532,
             41.3569285147744
            ],
            [
             -124.07970479288346,
             41.35741128559387
            ]
           ],
           "type": "LineString"
          },
          "id": "7657",
          "properties": {
           "id": "usa_CA_0297-0039",
           "slope": 0.09,
           "style": {
            "color": "grey",
            "fillOpacity": 0.2,
            "fill_color": "grey",
            "opacity": 1,
            "weight": 2
           }
          },
          "type": "Feature"
         },
         {
          "geometry": {
           "coordinates": [
            [
             -124.07473306409692,
             41.35768140642558
            ],
            [
             -124.0794529208214,
             41.35841007747345
            ]
           ],
           "type": "LineString"
          },
          "id": "7658",
          "properties": {
           "id": "usa_CA_0297-0040",
           "slope": 0.065,
           "style": {
            "color": "grey",
            "fillOpacity": 0.2,
            "fill_color": "grey",
            "opacity": 1,
            "weight": 2
           }
          },
          "type": "Feature"
         },
         {
          "geometry": {
           "coordinates": [
            [
             -124.07441246182248,
             41.35858346865837
            ],
            [
             -124.07915451202402,
             41.35923562673087
            ]
           ],
           "type": "LineString"
          },
          "id": "7659",
          "properties": {
           "id": "usa_CA_0297-0041",
           "slope": 0.075,
           "style": {
            "color": "grey",
            "fillOpacity": 0.2,
            "fill_color": "grey",
            "opacity": 1,
            "weight": 2
           }
          },
          "type": "Feature"
         },
         {
          "geometry": {
           "coordinates": [
            [
             -124.07421476210044,
             41.35959581765154
            ],
            [
             -124.0790141385871,
             41.35999116208775
            ]
           ],
           "type": "LineString"
          },
          "id": "7660",
          "properties": {
           "id": "usa_CA_0297-0042",
           "slope": 0.07,
           "style": {
            "color": "grey",
            "fillOpacity": 0.2,
            "fill_color": "grey",
            "opacity": 1,
            "weight": 2
           }
          },
          "type": "Feature"
         },
         {
          "geometry": {
           "coordinates": [
            [
             -124.07408435613256,
             41.3604485550776
            ],
            [
             -124.07887116326376,
             41.360911887064326
            ]
           ],
           "type": "LineString"
          },
          "id": "7661",
          "properties": {
           "id": "usa_CA_0297-0043",
           "slope": 0.07,
           "style": {
            "color": "grey",
            "fillOpacity": 0.2,
            "fill_color": "grey",
            "opacity": 1,
            "weight": 2
           }
          },
          "type": "Feature"
         },
         {
          "geometry": {
           "coordinates": [
            [
             -124.07390019650111,
             41.361203466305895
            ],
            [
             -124.0786255086568,
             41.36191491609635
            ]
           ],
           "type": "LineString"
          },
          "id": "7662",
          "properties": {
           "id": "usa_CA_0297-0044",
           "slope": 0.08,
           "style": {
            "color": "grey",
            "fillOpacity": 0.2,
            "fill_color": "grey",
            "opacity": 1,
            "weight": 2
           }
          },
          "type": "Feature"
         },
         {
          "geometry": {
           "coordinates": [
            [
             -124.07362242344256,
             41.36198815913525
            ],
            [
             -124.07829514812326,
             41.3628590297317
            ]
           ],
           "type": "LineString"
          },
          "id": "7663",
          "properties": {
           "id": "usa_CA_0297-0045",
           "slope": 0.06,
           "style": {
            "color": "grey",
            "fillOpacity": 0.2,
            "fill_color": "grey",
            "opacity": 1,
            "weight": 2
           }
          },
          "type": "Feature"
         },
         {
          "geometry": {
           "coordinates": [
            [
             -124.073284354758,
             41.36289383582918
            ],
            [
             -124.07798764634288,
             41.36367625944786
            ]
           ],
           "type": "LineString"
          },
          "id": "7664",
          "properties": {
           "id": "usa_CA_0297-0046",
           "slope": 0.06,
           "style": {
            "color": "grey",
            "fillOpacity": 0.2,
            "fill_color": "grey",
            "opacity": 1,
            "weight": 2
           }
          },
          "type": "Feature"
         },
         {
          "geometry": {
           "coordinates": [
            [
             -124.07299868864372,
             41.363925277191626
            ],
            [
             -124.07778440042784,
             41.36439539938228
            ]
           ],
           "type": "LineString"
          },
          "id": "7665",
          "properties": {
           "id": "usa_CA_0297-0047",
           "slope": 0.06,
           "style": {
            "color": "grey",
            "fillOpacity": 0.2,
            "fill_color": "grey",
            "opacity": 1,
            "weight": 2
           }
          },
          "type": "Feature"
         },
         {
          "geometry": {
           "coordinates": [
            [
             -124.07287733509187,
             41.36486854264299
            ],
            [
             -124.0776829736804,
             41.36522854316495
            ]
           ],
           "type": "LineString"
          },
          "id": "7666",
          "properties": {
           "id": "usa_CA_0297-0048",
           "slope": 0.055,
           "style": {
            "color": "grey",
            "fillOpacity": 0.2,
            "fill_color": "grey",
            "opacity": 1,
            "weight": 2
           }
          },
          "type": "Feature"
         },
         {
          "geometry": {
           "coordinates": [
            [
             -124.07271542520316,
             41.365704901653736
            ],
            [
             -124.07750428709817,
             41.366159864374936
            ]
           ],
           "type": "LineString"
          },
          "id": "7667",
          "properties": {
           "id": "usa_CA_0297-0049",
           "slope": 0.065,
           "style": {
            "color": "grey",
            "fillOpacity": 0.2,
            "fill_color": "grey",
            "opacity": 1,
            "weight": 2
           }
          },
          "type": "Feature"
         },
         {
          "geometry": {
           "coordinates": [
            [
             -124.07253471531664,
             41.36661441117461
            ],
            [
             -124.07733333325892,
             41.36701719952493
            ]
           ],
           "type": "LineString"
          },
          "id": "7668",
          "properties": {
           "id": "usa_CA_0297-0050",
           "slope": 0.08,
           "style": {
            "color": "grey",
            "fillOpacity": 0.2,
            "fill_color": "grey",
            "opacity": 1,
            "weight": 2
           }
          },
          "type": "Feature"
         },
         {
          "geometry": {
           "coordinates": [
            [
             -124.07239249359412,
             41.36754735730703
            ],
            [
             -124.07720579280031,
             41.36785741483904
            ]
           ],
           "type": "LineString"
          },
          "id": "7669",
          "properties": {
           "id": "usa_CA_0297-0051",
           "slope": 0.065,
           "style": {
            "color": "grey",
            "fillOpacity": 0.2,
            "fill_color": "grey",
            "opacity": 1,
            "weight": 2
           }
          },
          "type": "Feature"
         },
         {
          "geometry": {
           "coordinates": [
            [
             -124.07227727399624,
             41.36845177390354
            ],
            [
             -124.07709495240458,
             41.36872952973763
            ]
           ],
           "type": "LineString"
          },
          "id": "7670",
          "properties": {
           "id": "usa_CA_0297-0052",
           "slope": 0.065,
           "style": {
            "color": "grey",
            "fillOpacity": 0.2,
            "fill_color": "grey",
            "opacity": 1,
            "weight": 2
           }
          },
          "type": "Feature"
         },
         {
          "geometry": {
           "coordinates": [
            [
             -124.07217009410805,
             41.36929893529312
            ],
            [
             -124.07697607853686,
             41.3696588993337
            ]
           ],
           "type": "LineString"
          },
          "id": "7671",
          "properties": {
           "id": "usa_CA_0297-0053",
           "slope": 0.08,
           "style": {
            "color": "grey",
            "fillOpacity": 0.2,
            "fill_color": "grey",
            "opacity": 1,
            "weight": 2
           }
          },
          "type": "Feature"
         },
         {
          "geometry": {
           "coordinates": [
            [
             -124.0720163328646,
             41.370103957463904
            ],
            [
             -124.07679276684952,
             41.370620343210526
            ]
           ],
           "type": "LineString"
          },
          "id": "7672",
          "properties": {
           "id": "usa_CA_0297-0054",
           "slope": 0.08,
           "style": {
            "color": "grey",
            "fillOpacity": 0.2,
            "fill_color": "grey",
            "opacity": 1,
            "weight": 2
           }
          },
          "type": "Feature"
         },
         {
          "geometry": {
           "coordinates": [
            [
             -124.0718060412523,
             41.37094560673241
            ],
            [
             -124.07656518096942,
             41.3715360214508
            ]
           ],
           "type": "LineString"
          },
          "id": "7673",
          "properties": {
           "id": "usa_CA_0297-0055",
           "slope": 0.055,
           "style": {
            "color": "grey",
            "fillOpacity": 0.2,
            "fill_color": "grey",
            "opacity": 1,
            "weight": 2
           }
          },
          "type": "Feature"
         },
         {
          "geometry": {
           "coordinates": [
            [
             -124.07158360133026,
             41.37183849192185
            ],
            [
             -124.07634973546185,
             41.37240046257592
            ]
           ],
           "type": "LineString"
          },
          "id": "7674",
          "properties": {
           "id": "usa_CA_0297-0056",
           "slope": 0.05,
           "style": {
            "color": "grey",
            "fillOpacity": 0.2,
            "fill_color": "grey",
            "opacity": 1,
            "weight": 2
           }
          },
          "type": "Feature"
         },
         {
          "geometry": {
           "coordinates": [
            [
             -124.0713793644302,
             41.3727391394344
            ],
            [
             -124.07615465794368,
             41.37326159725758
            ]
           ],
           "type": "LineString"
          },
          "id": "7675",
          "properties": {
           "id": "usa_CA_0297-0057",
           "slope": 0.055,
           "style": {
            "color": "grey",
            "fillOpacity": 0.2,
            "fill_color": "grey",
            "opacity": 1,
            "weight": 2
           }
          },
          "type": "Feature"
         },
         {
          "geometry": {
           "coordinates": [
            [
             -124.07118592001284,
             41.37362640712864
            ],
            [
             -124.07596370925354,
             41.37413783516861
            ]
           ],
           "type": "LineString"
          },
          "id": "7676",
          "properties": {
           "id": "usa_CA_0297-0058",
           "slope": 0.075,
           "style": {
            "color": "grey",
            "fillOpacity": 0.2,
            "fill_color": "grey",
            "opacity": 1,
            "weight": 2
           }
          },
          "type": "Feature"
         },
         {
          "geometry": {
           "coordinates": [
            [
             -124.07099323285946,
             41.37451025774096
            ],
            [
             -124.0757720009614,
             41.37501748940164
            ]
           ],
           "type": "LineString"
          },
          "id": "7677",
          "properties": {
           "id": "usa_CA_0297-0059",
           "slope": 0.09,
           "style": {
            "color": "grey",
            "fillOpacity": 0.2,
            "fill_color": "grey",
            "opacity": 1,
            "weight": 2
           }
          },
          "type": "Feature"
         },
         {
          "geometry": {
           "coordinates": [
            [
             -124.07080316866804,
             41.37539545925981
            ],
            [
             -124.07558335891063,
             41.37589639353597
            ]
           ],
           "type": "LineString"
          },
          "id": "7678",
          "properties": {
           "id": "usa_CA_0297-0060",
           "slope": 0.08,
           "style": {
            "color": "grey",
            "fillOpacity": 0.2,
            "fill_color": "grey",
            "opacity": 1,
            "weight": 2
           }
          },
          "type": "Feature"
         },
         {
          "geometry": {
           "coordinates": [
            [
             -124.07061497926068,
             41.37627871006992
            ],
            [
             -124.0753956845609,
             41.3767775482917
            ]
           ],
           "type": "LineString"
          },
          "id": "7679",
          "properties": {
           "id": "usa_CA_0297-0061",
           "slope": 0.075,
           "style": {
            "color": "grey",
            "fillOpacity": 0.2,
            "fill_color": "grey",
            "opacity": 1,
            "weight": 2
           }
          },
          "type": "Feature"
         },
         {
          "geometry": {
           "coordinates": [
            [
             -124.07042056392682,
             41.3771930789336
            ],
            [
             -124.0752142314174,
             41.37762758409925
            ]
           ],
           "type": "LineString"
          },
          "id": "7680",
          "properties": {
           "id": "usa_CA_0297-0062",
           "slope": 0.06,
           "style": {
            "color": "grey",
            "fillOpacity": 0.2,
            "fill_color": "grey",
            "opacity": 1,
            "weight": 2
           }
          },
          "type": "Feature"
         },
         {
          "geometry": {
           "coordinates": [
            [
             -124.0702675067201,
             41.3781314147276
            ],
            [
             -124.07507884185864,
             41.37846082678502
            ]
           ],
           "type": "LineString"
          },
          "id": "7681",
          "properties": {
           "id": "usa_CA_0297-0063",
           "slope": 0.06,
           "style": {
            "color": "grey",
            "fillOpacity": 0.2,
            "fill_color": "grey",
            "opacity": 1,
            "weight": 2
           }
          },
          "type": "Feature"
         },
         {
          "geometry": {
           "coordinates": [
            [
             -124.07014837197084,
             41.379036104324086
            ],
            [
             -124.07496446001956,
             41.37933222270166
            ]
           ],
           "type": "LineString"
          },
          "id": "7682",
          "properties": {
           "id": "usa_CA_0297-0064",
           "slope": 0.065,
           "style": {
            "color": "grey",
            "fillOpacity": 0.2,
            "fill_color": "grey",
            "opacity": 1,
            "weight": 2
           }
          },
          "type": "Feature"
         },
         {
          "geometry": {
           "coordinates": [
            [
             -124.07003203922616,
             41.37988731113211
            ],
            [
             -124.07483737648424,
             41.38025635542488
            ]
           ],
           "type": "LineString"
          },
          "id": "7683",
          "properties": {
           "id": "usa_CA_0297-0065",
           "slope": 0.08,
           "style": {
            "color": "grey",
            "fillOpacity": 0.2,
            "fill_color": "grey",
            "opacity": 1,
            "weight": 2
           }
          },
          "type": "Feature"
         },
         {
          "geometry": {
           "coordinates": [
            [
             -124.06987159727582,
             41.38073889704941
            ],
            [
             -124.0746655339436,
             41.38117342023749
            ]
           ],
           "type": "LineString"
          },
          "id": "7684",
          "properties": {
           "id": "usa_CA_0297-0066",
           "slope": 0.085,
           "style": {
            "color": "grey",
            "fillOpacity": 0.2,
            "fill_color": "grey",
            "opacity": 1,
            "weight": 2
           }
          },
          "type": "Feature"
         },
         {
          "geometry": {
           "coordinates": [
            [
             -124.06970033363169,
             41.38165199955882
            ],
            [
             -124.0745045072681,
             41.38202896756926
            ]
           ],
           "type": "LineString"
          },
          "id": "7685",
          "properties": {
           "id": "usa_CA_0297-0067",
           "slope": 0.07,
           "style": {
            "color": "grey",
            "fillOpacity": 0.2,
            "fill_color": "grey",
            "opacity": 1,
            "weight": 2
           }
          },
          "type": "Feature"
         },
         {
          "geometry": {
           "coordinates": [
            [
             -124.06956541055126,
             41.3825933598677
            ],
            [
             -124.07438537009548,
             41.38286155556919
            ]
           ],
           "type": "LineString"
          },
          "id": "7686",
          "properties": {
           "id": "usa_CA_0297-0068",
           "slope": 0.065,
           "style": {
            "color": "grey",
            "fillOpacity": 0.2,
            "fill_color": "grey",
            "opacity": 1,
            "weight": 2
           }
          },
          "type": "Feature"
         },
         {
          "geometry": {
           "coordinates": [
            [
             -124.06946982676492,
             41.38351028576304
            ],
            [
             -124.07429609143736,
             41.38372326432635
            ]
           ],
           "type": "LineString"
          },
          "id": "7687",
          "properties": {
           "id": "usa_CA_0297-0069",
           "slope": 0.07,
           "style": {
            "color": "grey",
            "fillOpacity": 0.2,
            "fill_color": "grey",
            "opacity": 1,
            "weight": 2
           }
          },
          "type": "Feature"
         },
         {
          "geometry": {
           "coordinates": [
            [
             -124.06937768705146,
             41.384426368562536
            ],
            [
             -124.07420893574444,
             41.38458600419457
            ]
           ],
           "type": "LineString"
          },
          "id": "7688",
          "properties": {
           "id": "usa_CA_0297-0070",
           "slope": 0.08,
           "style": {
            "color": "grey",
            "fillOpacity": 0.2,
            "fill_color": "grey",
            "opacity": 1,
            "weight": 2
           }
          },
          "type": "Feature"
         },
         {
          "geometry": {
           "coordinates": [
            [
             -124.06931963951791,
             41.385341550414566
            ],
            [
             -124.0741545311158,
             41.38545190983424
            ]
           ],
           "type": "LineString"
          },
          "id": "7689",
          "properties": {
           "id": "usa_CA_0297-0071",
           "slope": 0.075,
           "style": {
            "color": "grey",
            "fillOpacity": 0.2,
            "fill_color": "grey",
            "opacity": 1,
            "weight": 2
           }
          },
          "type": "Feature"
         },
         {
          "geometry": {
           "coordinates": [
            [
             -124.0692674306773,
             41.38618274228806
            ],
            [
             -124.07409429854704,
             41.38639180475041
            ]
           ],
           "type": "LineString"
          },
          "id": "7690",
          "properties": {
           "id": "usa_CA_0297-0072",
           "slope": 0.07,
           "style": {
            "color": "grey",
            "fillOpacity": 0.2,
            "fill_color": "grey",
            "opacity": 1,
            "weight": 2
           }
          },
          "type": "Feature"
         },
         {
          "geometry": {
           "coordinates": [
            [
             -124.06915061493396,
             41.38701795244563
            ],
            [
             -124.07396488776328,
             41.38733171460923
            ]
           ],
           "type": "LineString"
          },
          "id": "7691",
          "properties": {
           "id": "usa_CA_0297-0073",
           "slope": 0.065,
           "style": {
            "color": "grey",
            "fillOpacity": 0.2,
            "fill_color": "grey",
            "opacity": 1,
            "weight": 2
           }
          },
          "type": "Feature"
         },
         {
          "geometry": {
           "coordinates": [
            [
             -124.06902300260695,
             41.387907361442245
            ],
            [
             -124.0738379147756,
             41.38821705235628
            ]
           ],
           "type": "LineString"
          },
          "id": "7692",
          "properties": {
           "id": "usa_CA_0297-0074",
           "slope": 0.055,
           "style": {
            "color": "grey",
            "fillOpacity": 0.2,
            "fill_color": "grey",
            "opacity": 1,
            "weight": 2
           }
          },
          "type": "Feature"
         },
         {
          "geometry": {
           "coordinates": [
            [
             -124.0689009882646,
             41.3888071617242
            ],
            [
             -124.073719206295,
             41.38909284977703
            ]
           ],
           "type": "LineString"
          },
          "id": "7693",
          "properties": {
           "id": "usa_CA_0297-0075",
           "slope": 0.06,
           "style": {
            "color": "grey",
            "fillOpacity": 0.2,
            "fill_color": "grey",
            "opacity": 1,
            "weight": 2
           }
          },
          "type": "Feature"
         },
         {
          "geometry": {
           "coordinates": [
            [
             -124.06878906121712,
             41.38970242866797
            ],
            [
             -124.07360910707791,
             41.3899743283846
            ]
           ],
           "type": "LineString"
          },
          "id": "7694",
          "properties": {
           "id": "usa_CA_0297-0076",
           "slope": 0.075,
           "style": {
            "color": "grey",
            "fillOpacity": 0.2,
            "fill_color": "grey",
            "opacity": 1,
            "weight": 2
           }
          },
          "type": "Feature"
         },
         {
          "geometry": {
           "coordinates": [
            [
             -124.06867455509692,
             41.39062134852904
            ],
            [
             -124.07350158708437,
             41.39083215347288
            ]
           ],
           "type": "LineString"
          },
          "id": "7695",
          "properties": {
           "id": "usa_CA_0297-0077",
           "slope": 0.07,
           "style": {
            "color": "grey",
            "fillOpacity": 0.2,
            "fill_color": "grey",
            "opacity": 1,
            "weight": 2
           }
          },
          "type": "Feature"
         },
         {
          "geometry": {
           "coordinates": [
            [
             -124.06860198172907,
             41.3915453792225
            ],
            [
             -124.07343508604475,
             41.39168837505823
            ]
           ],
           "type": "LineString"
          },
          "id": "7696",
          "properties": {
           "id": "usa_CA_0297-0078",
           "slope": 0.07,
           "style": {
            "color": "grey",
            "fillOpacity": 0.2,
            "fill_color": "grey",
            "opacity": 1,
            "weight": 2
           }
          },
          "type": "Feature"
         },
         {
          "geometry": {
           "coordinates": [
            [
             -124.06853709560372,
             41.39243339634031
            ],
            [
             -124.07336991668244,
             41.39258099068452
            ]
           ],
           "type": "LineString"
          },
          "id": "7697",
          "properties": {
           "id": "usa_CA_0297-0079",
           "slope": 0.07,
           "style": {
            "color": "grey",
            "fillOpacity": 0.2,
            "fill_color": "grey",
            "opacity": 1,
            "weight": 2
           }
          },
          "type": "Feature"
         },
         {
          "geometry": {
           "coordinates": [
            [
             -124.06846545713265,
             41.39331068085187
            ],
            [
             -124.07329624579836,
             41.393483826992096
            ]
           ],
           "type": "LineString"
          },
          "id": "7698",
          "properties": {
           "id": "usa_CA_0297-0080",
           "slope": 0.09,
           "style": {
            "color": "grey",
            "fillOpacity": 0.2,
            "fill_color": "grey",
            "opacity": 1,
            "weight": 2
           }
          },
          "type": "Feature"
         },
         {
          "geometry": {
           "coordinates": [
            [
             -124.06838597326428,
             41.39417083214603
            ],
            [
             -124.07321100699734,
             41.39440314524765
            ]
           ],
           "type": "LineString"
          },
          "id": "7699",
          "properties": {
           "id": "usa_CA_0297-0081",
           "slope": 0.095,
           "style": {
            "color": "grey",
            "fillOpacity": 0.2,
            "fill_color": "grey",
            "opacity": 1,
            "weight": 2
           }
          },
          "type": "Feature"
         },
         {
          "geometry": {
           "coordinates": [
            [
             -124.06827645017358,
             41.39503171415356
            ],
            [
             -124.073094980535,
             41.39531867879349
            ]
           ],
           "type": "LineString"
          },
          "id": "7700",
          "properties": {
           "id": "usa_CA_0297-0082",
           "slope": 0.085,
           "style": {
            "color": "grey",
            "fillOpacity": 0.2,
            "fill_color": "grey",
            "opacity": 1,
            "weight": 2
           }
          },
          "type": "Feature"
         },
         {
          "geometry": {
           "coordinates": [
            [
             -124.06815676276187,
             41.39592120132763
            ],
            [
             -124.07297578150016,
             41.39620493711908
            ]
           ],
           "type": "LineString"
          },
          "id": "7701",
          "properties": {
           "id": "usa_CA_0297-0083",
           "slope": 0.075,
           "style": {
            "color": "grey",
            "fillOpacity": 0.2,
            "fill_color": "grey",
            "opacity": 1,
            "weight": 2
           }
          },
          "type": "Feature"
         },
         {
          "geometry": {
           "coordinates": [
            [
             -124.06804393715412,
             41.39682754448957
            ],
            [
             -124.0728674352264,
             41.39707529698284
            ]
           ],
           "type": "LineString"
          },
          "id": "7702",
          "properties": {
           "id": "usa_CA_0297-0084",
           "slope": 0.075,
           "style": {
            "color": "grey",
            "fillOpacity": 0.2,
            "fill_color": "grey",
            "opacity": 1,
            "weight": 2
           }
          },
          "type": "Feature"
         },
         {
          "geometry": {
           "coordinates": [
            [
             -124.06794759556244,
             41.39772820696537
            ],
            [
             -124.07277371455838,
             41.39795301946462
            ]
           ],
           "type": "LineString"
          },
          "id": "7703",
          "properties": {
           "id": "usa_CA_0297-0085",
           "slope": 0.075,
           "style": {
            "color": "grey",
            "fillOpacity": 0.2,
            "fill_color": "grey",
            "opacity": 1,
            "weight": 2
           }
          },
          "type": "Feature"
         },
         {
          "geometry": {
           "coordinates": [
            [
             -124.06785138387733,
             41.39862858861555
            ],
            [
             -124.07267986687587,
             41.39883102218617
            ]
           ],
           "type": "LineString"
          },
          "id": "7704",
          "properties": {
           "id": "usa_CA_0297-0086",
           "slope": 0.07,
           "style": {
            "color": "grey",
            "fillOpacity": 0.2,
            "fill_color": "grey",
            "opacity": 1,
            "weight": 2
           }
          },
          "type": "Feature"
         },
         {
          "geometry": {
           "coordinates": [
            [
             -124.06777002857127,
             41.39953448511356
            ],
            [
             -124.0726015463548,
             41.39970472124347
            ]
           ],
           "type": "LineString"
          },
          "id": "7705",
          "properties": {
           "id": "usa_CA_0297-0087",
           "slope": 0.075,
           "style": {
            "color": "grey",
            "fillOpacity": 0.2,
            "fill_color": "grey",
            "opacity": 1,
            "weight": 2
           }
          },
          "type": "Feature"
         },
         {
          "geometry": {
           "coordinates": [
            [
             -124.06769649465068,
             41.40042831528527
            ],
            [
             -124.07252871770297,
             41.40059101683811
            ]
           ],
           "type": "LineString"
          },
          "id": "7706",
          "properties": {
           "id": "usa_CA_0297-0088",
           "slope": 0.07,
           "style": {
            "color": "grey",
            "fillOpacity": 0.2,
            "fill_color": "grey",
            "opacity": 1,
            "weight": 2
           }
          },
          "type": "Feature"
         },
         {
          "geometry": {
           "coordinates": [
            [
             -124.06762242228707,
             41.40131036763392
            ],
            [
             -124.07245334357611,
             41.40148897690453
            ]
           ],
           "type": "LineString"
          },
          "id": "7707",
          "properties": {
           "id": "usa_CA_0297-0089",
           "slope": 0.075,
           "style": {
            "color": "grey",
            "fillOpacity": 0.2,
            "fill_color": "grey",
            "opacity": 1,
            "weight": 2
           }
          },
          "type": "Feature"
         },
         {
          "geometry": {
           "coordinates": [
            [
             -124.06753904157208,
             41.402193221307165
            ],
            [
             -124.07236878034205,
             41.40238545977408
            ]
           ],
           "type": "LineString"
          },
          "id": "7708",
          "properties": {
           "id": "usa_CA_0297-0090",
           "slope": 0.075,
           "style": {
            "color": "grey",
            "fillOpacity": 0.2,
            "fill_color": "grey",
            "opacity": 1,
            "weight": 2
           }
          },
          "type": "Feature"
         },
         {
          "geometry": {
           "coordinates": [
            [
             -124.06746377763083,
             41.40301120528716
            ],
            [
             -124.07227610880958,
             41.40334681180537
            ]
           ],
           "type": "LineString"
          },
          "id": "7709",
          "properties": {
           "id": "usa_CA_0297-0091",
           "slope": 0.07,
           "style": {
            "color": "grey",
            "fillOpacity": 0.2,
            "fill_color": "grey",
            "opacity": 1,
            "weight": 2
           }
          },
          "type": "Feature"
         }
        ],
        "type": "FeatureCollection"
       },
       "hover_style": {
        "color": "blue",
        "fillOpacity": 0.7
       },
       "name": "transects",
       "style": {
        "color": "grey",
        "fillOpacity": 0.2,
        "fill_color": "grey",
        "opacity": 1,
        "weight": 2
       }
      }
     },
     "16d07c148ef04699a82785b7997f99df": {
      "model_module": "@jupyter-widgets/controls",
      "model_module_version": "1.5.0",
      "model_name": "HBoxModel",
      "state": {
       "children": [
        "IPY_MODEL_aaa613b783b84f23aacf65772b3ed8a8"
       ],
       "layout": "IPY_MODEL_a81418e9cf5844739b37d165462e63f0"
      }
     },
     "16d9efbc21f94890a5d2c4fe19de35fe": {
      "model_module": "jupyter-leaflet",
      "model_module_version": "^0.17.0",
      "model_name": "LeafletTileLayerModel",
      "state": {
       "_model_module_version": "^0.17.0",
       "_view_module_version": "^0.17.0",
       "attribution": "Map tiles by Stamen Design, CC BY 3.0 -- Map data (C) OpenStreetMap contributors",
       "max_zoom": 20,
       "name": "Stamen.TopOSMRelief",
       "options": [
        "attribution",
        "bounds",
        "detect_retina",
        "max_native_zoom",
        "max_zoom",
        "min_native_zoom",
        "min_zoom",
        "no_wrap",
        "tile_size",
        "tms"
       ],
       "url": "https://stamen-tiles-a.a.ssl.fastly.net/toposm-color-relief/{z}/{x}/{y}.jpg"
      }
     },
     "16f9cde4f0594223bf3f276705639764": {
      "model_module": "jupyter-leaflet",
      "model_module_version": "^0.17.0",
      "model_name": "LeafletTileLayerModel",
      "state": {
       "_model_module_version": "^0.17.0",
       "_view_module_version": "^0.17.0",
       "attribution": "Tiles courtesy of the U.S. Geological Survey",
       "max_zoom": 20,
       "name": "USGS.USTopo",
       "options": [
        "attribution",
        "bounds",
        "detect_retina",
        "max_native_zoom",
        "max_zoom",
        "min_native_zoom",
        "min_zoom",
        "no_wrap",
        "tile_size",
        "tms"
       ],
       "url": "https://basemap.nationalmap.gov/arcgis/rest/services/USGSTopo/MapServer/tile/{z}/{y}/{x}"
      }
     },
     "17518aa4b4d94683aac8550df6599202": {
      "model_module": "@jupyter-widgets/controls",
      "model_module_version": "1.5.0",
      "model_name": "ToggleButtonModel",
      "state": {
       "button_style": "primary",
       "icon": "camera",
       "layout": "IPY_MODEL_04ef399de5c74959b45980727b3eaa63",
       "style": "IPY_MODEL_524e668be7404b63b83798adcea56478",
       "tooltip": "Save map as HTML or image"
      }
     },
     "1789c75c73b94dbabe0685275a529ac7": {
      "model_module": "jupyter-leaflet",
      "model_module_version": "^0.17.0",
      "model_name": "LeafletTileLayerModel",
      "state": {
       "_model_module_version": "^0.17.0",
       "_view_module_version": "^0.17.0",
       "attribution": "Justice Map",
       "max_zoom": 22,
       "name": "JusticeMap.asian",
       "options": [
        "attribution",
        "bounds",
        "detect_retina",
        "max_native_zoom",
        "max_zoom",
        "min_native_zoom",
        "min_zoom",
        "no_wrap",
        "tile_size",
        "tms"
       ],
       "url": "https://www.justicemap.org/tile/county/asian/{z}/{x}/{y}.png"
      }
     },
     "17f27128da0443a78cfaa5fb880de8a8": {
      "model_module": "jupyter-leaflet",
      "model_module_version": "^0.17.0",
      "model_name": "LeafletMapStyleModel",
      "state": {
       "_model_module_version": "^0.17.0"
      }
     },
     "1834111254fc43fdad83f660d6930c18": {
      "model_module": "@jupyter-widgets/controls",
      "model_module_version": "1.5.0",
      "model_name": "ToggleButtonModel",
      "state": {
       "button_style": "primary",
       "icon": "address-book",
       "layout": "IPY_MODEL_95220f6149b148b5992066ff91d2228b",
       "style": "IPY_MODEL_c7617c97525741b6b168b78f96adce5e",
       "tooltip": "Get US Census data"
      }
     },
     "18535a4e3af9480a83b348f7dddd7b2b": {
      "model_module": "@jupyter-widgets/controls",
      "model_module_version": "1.5.0",
      "model_name": "ButtonStyleModel",
      "state": {
       "button_color": "#a3adac"
      }
     },
     "18a0eb846d9144a88493d6ff1ae16f38": {
      "model_module": "@jupyter-widgets/base",
      "model_module_version": "1.2.0",
      "model_name": "LayoutModel",
      "state": {}
     },
     "18a567a5b4894e6abb922a44689411d8": {
      "model_module": "@jupyter-widgets/base",
      "model_module_version": "1.2.0",
      "model_name": "LayoutModel",
      "state": {}
     },
     "19114114f138442b8828e59663239de6": {
      "model_module": "jupyter-leaflet",
      "model_module_version": "^0.17.0",
      "model_name": "LeafletTileLayerModel",
      "state": {
       "_model_module_version": "^0.17.0",
       "_view_module_version": "^0.17.0",
       "attribution": "Map tiles by Stamen Design, CC BY 3.0 -- Map data (C) OpenStreetMap contributors",
       "max_zoom": 20,
       "name": "Stamen.TonerLite",
       "options": [
        "attribution",
        "bounds",
        "detect_retina",
        "max_native_zoom",
        "max_zoom",
        "min_native_zoom",
        "min_zoom",
        "no_wrap",
        "tile_size",
        "tms"
       ],
       "url": "https://stamen-tiles-a.a.ssl.fastly.net/toner-lite/{z}/{x}/{y}.png"
      }
     },
     "194fb56bfac44100937273473f8c0e58": {
      "model_module": "@jupyter-widgets/controls",
      "model_module_version": "1.5.0",
      "model_name": "HTMLModel",
      "state": {
       "layout": "IPY_MODEL_065574895e5547489fab820e8658cbc1",
       "style": "IPY_MODEL_6c9e7868d5ea4e3b9f361516ea62bbdf",
       "value": "<h2><b>Download Imagery</b></h2>                 <li><b>You must click an ROI on the map before you can download ROIs</b>                 <li>Scroll past the map to see the download progress                 </br><h3><b><u>Where is my data?</u></b></br></h3>                 <li>The data you downloaded will be in the 'data' folder in the main CoastSeg directory</li>                Each ROI you downloaded will have its own folder with the ROI's ID and                </br>the time it was downloaded in the folder name                </br><b>Example</b>: 'ID_1_datetime11-03-22__02_33_22'</li>                "
      }
     },
     "19859d00a36343488bc8d5d61885f029": {
      "model_module": "@jupyter-widgets/base",
      "model_module_version": "1.2.0",
      "model_name": "LayoutModel",
      "state": {}
     },
     "1aa1364e44c745dea146b7419ffc9bed": {
      "model_module": "@jupyter-widgets/controls",
      "model_module_version": "1.5.0",
      "model_name": "HBoxModel",
      "state": {
       "children": [
        "IPY_MODEL_51b010c80e564b8d86072e354b0e525c",
        "IPY_MODEL_11cf38934ee542799cc84ea7669f9782",
        "IPY_MODEL_98dcf2a852ef4b33b6173a17f04d1a47"
       ],
       "layout": "IPY_MODEL_02f17546c2e34c9283c1e76746bfd8af"
      }
     },
     "1b0cd356ba9e48ab85a69ac12af0ed3f": {
      "model_module": "jupyter-leaflet",
      "model_module_version": "^0.17.0",
      "model_name": "LeafletTileLayerModel",
      "state": {
       "_model_module_version": "^0.17.0",
       "_view_module_version": "^0.17.0",
       "attribution": "Map data: (C) OpenStreetMap contributors | Map style: (C) OpenFireMap (CC-BY-SA)",
       "max_zoom": 19,
       "name": "OpenFireMap",
       "options": [
        "attribution",
        "bounds",
        "detect_retina",
        "max_native_zoom",
        "max_zoom",
        "min_native_zoom",
        "min_zoom",
        "no_wrap",
        "tile_size",
        "tms"
       ],
       "url": "http://openfiremap.org/hytiles/{z}/{x}/{y}.png"
      }
     },
     "1b98910112eb4ccda6998c43d6c95611": {
      "model_module": "@jupyter-widgets/base",
      "model_module_version": "1.2.0",
      "model_name": "LayoutModel",
      "state": {}
     },
     "1bb812dc30284727b259b646323b671c": {
      "model_module": "jupyter-leaflet",
      "model_module_version": "^0.17.0",
      "model_name": "LeafletTileLayerModel",
      "state": {
       "_model_module_version": "^0.17.0",
       "_view_module_version": "^0.17.0",
       "attribution": "(C) OpenStreetMap contributors (C) CARTO",
       "max_zoom": 20,
       "name": "CartoDB.PositronOnlyLabels",
       "options": [
        "attribution",
        "bounds",
        "detect_retina",
        "max_native_zoom",
        "max_zoom",
        "min_native_zoom",
        "min_zoom",
        "no_wrap",
        "tile_size",
        "tms"
       ],
       "url": "https://a.basemaps.cartocdn.com/light_only_labels/{z}/{x}/{y}.png"
      }
     },
     "1c5877059514431c9d3f1bf443fc990a": {
      "model_module": "jupyter-leaflet",
      "model_module_version": "^0.17.0",
      "model_name": "LeafletAttributionControlModel",
      "state": {
       "_model_module_version": "^0.17.0",
       "_view_module_version": "^0.17.0",
       "options": [
        "position",
        "prefix"
       ],
       "position": "bottomright",
       "prefix": "ipyleaflet"
      }
     },
     "1cd6530f4d61415981fda7433538baab": {
      "model_module": "jupyter-leaflet",
      "model_module_version": "^0.17.0",
      "model_name": "LeafletTileLayerModel",
      "state": {
       "_model_module_version": "^0.17.0",
       "_view_module_version": "^0.17.0",
       "attribution": "Imagery provided by services from the Global Imagery Browse Services (GIBS), operated by the NASA/GSFC/Earth Science Data and Information System (ESDIS) with funding provided by NASA/HQ.",
       "max_zoom": 8,
       "name": "NASAGIBS.BlueMarble",
       "options": [
        "attribution",
        "bounds",
        "detect_retina",
        "max_native_zoom",
        "max_zoom",
        "min_native_zoom",
        "min_zoom",
        "no_wrap",
        "tile_size",
        "tms"
       ],
       "url": "https://gibs.earthdata.nasa.gov/wmts/epsg3857/best/BlueMarble_NextGeneration/default/EPSG3857_500m/{z}/{y}/{x}.jpeg"
      }
     },
     "1e8316cf09234fb3bafc6ae8dbc38aa4": {
      "model_module": "jupyter-leaflet",
      "model_module_version": "^0.17.0",
      "model_name": "LeafletWMSLayerModel",
      "state": {
       "_model_module_version": "^0.17.0",
       "_view_module_version": "^0.17.0",
       "attribution": "USGS",
       "crs": {
        "custom": false,
        "name": "EPSG3857"
       },
       "format": "image/png",
       "layers": "0",
       "name": "USGS Hydrography",
       "options": [
        "attribution",
        "bounds",
        "detect_retina",
        "format",
        "layers",
        "max_native_zoom",
        "max_zoom",
        "min_native_zoom",
        "min_zoom",
        "no_wrap",
        "styles",
        "tile_size",
        "tms",
        "transparent",
        "uppercase"
       ],
       "transparent": true,
       "url": "https://basemap.nationalmap.gov/arcgis/services/USGSHydroCached/MapServer/WMSServer?"
      }
     },
     "204cf1fba4a341f399a12e0c6f465d6a": {
      "model_module": "jupyter-leaflet",
      "model_module_version": "^0.17.0",
      "model_name": "LeafletLayersControlModel",
      "state": {
       "_model_module_version": "^0.17.0",
       "_view_module_version": "^0.17.0",
       "options": [
        "position"
       ],
       "position": "topright"
      }
     },
     "20543379843345fe927d78e16db59b99": {
      "model_module": "@jupyter-widgets/controls",
      "model_module_version": "1.5.0",
      "model_name": "RadioButtonsModel",
      "state": {
       "_options_labels": [
        "Shoreline",
        "Transects"
       ],
       "index": 1,
       "layout": "IPY_MODEL_712db022f80b4fb08e79374114d9f380",
       "style": "IPY_MODEL_39da4d55aaaf423db2d781861e42c23e"
      }
     },
     "20e8d9fd35b94e538c536a38f87876c8": {
      "model_module": "@jupyter-widgets/base",
      "model_module_version": "1.2.0",
      "model_name": "LayoutModel",
      "state": {}
     },
     "2283e49da50b4e3eb66403f7bf17390f": {
      "model_module": "jupyter-leaflet",
      "model_module_version": "^0.17.0",
      "model_name": "LeafletGeoJSONModel",
      "state": {
       "_model_module_version": "^0.17.0",
       "_view_module_version": "^0.17.0",
       "data": {
        "features": [
         {
          "geometry": {
           "coordinates": [
            [
             [
              -124.08564,
              41.35123
             ],
             [
              -124.08564,
              41.403629
             ],
             [
              -124.059311,
              41.403629
             ],
             [
              -124.059311,
              41.35123
             ],
             [
              -124.08564,
              41.35123
             ]
            ]
           ],
           "type": "Polygon"
          },
          "id": "24",
          "properties": {
           "style": {
            "color": "#75b671",
            "fillOpacity": 0.1,
            "fill_color": "#75b671",
            "opacity": 1,
            "weight": 3
           }
          },
          "type": "Feature"
         }
        ],
        "type": "FeatureCollection"
       },
       "name": "Bbox",
       "style": {
        "color": "#75b671",
        "fillOpacity": 0.1,
        "fill_color": "#75b671",
        "opacity": 1,
        "weight": 3
       }
      }
     },
     "2298b2fb86c7451ab7e5acbfb8cb5afe": {
      "model_module": "jupyter-leaflet",
      "model_module_version": "^0.17.0",
      "model_name": "LeafletTileLayerModel",
      "state": {
       "_model_module_version": "^0.17.0",
       "_view_module_version": "^0.17.0",
       "attribution": "Map data: (C) OpenStreetMap contributors | Map style: (C) SafeCast (CC-BY-SA)",
       "max_zoom": 16,
       "name": "SafeCast",
       "options": [
        "attribution",
        "bounds",
        "detect_retina",
        "max_native_zoom",
        "max_zoom",
        "min_native_zoom",
        "min_zoom",
        "no_wrap",
        "tile_size",
        "tms"
       ],
       "url": "https://s3.amazonaws.com/te512.safecast.org/{z}/{x}/{y}.png"
      }
     },
     "22c4cb59afa14bb98156c12d7f134ab7": {
      "model_module": "@jupyter-widgets/base",
      "model_module_version": "1.2.0",
      "model_name": "LayoutModel",
      "state": {
       "height": "auto",
       "padding": "0px 0px 0px 4px",
       "width": "auto"
      }
     },
     "231a337147514b96a253214b93814210": {
      "model_module": "@jupyter-widgets/controls",
      "model_module_version": "1.5.0",
      "model_name": "DescriptionStyleModel",
      "state": {
       "description_width": ""
      }
     },
     "233fb2d0949045c2a0d90fcf5d8868dc": {
      "model_module": "jupyter-leaflet",
      "model_module_version": "^0.17.0",
      "model_name": "LeafletTileLayerModel",
      "state": {
       "_model_module_version": "^0.17.0",
       "_view_module_version": "^0.17.0",
       "attribution": "Kaartgegevens (C) Kadaster",
       "max_zoom": 19,
       "name": "nlmaps.grijs",
       "options": [
        "attribution",
        "bounds",
        "detect_retina",
        "max_native_zoom",
        "max_zoom",
        "min_native_zoom",
        "min_zoom",
        "no_wrap",
        "tile_size",
        "tms"
       ],
       "url": "https://service.pdok.nl/brt/achtergrondkaart/wmts/v2_0/grijs/EPSG:3857/{z}/{x}/{y}.png"
      }
     },
     "23582c8d223c4c97a8de1d6b6b12290c": {
      "model_module": "@jupyter-widgets/controls",
      "model_module_version": "1.5.0",
      "model_name": "DatePickerModel",
      "state": {
       "description": "End Date",
       "disabled": false,
       "layout": "IPY_MODEL_3c5b0a8e77504fbcbab0315da38980e6",
       "style": "IPY_MODEL_bcc71ee0f5284809944f2d0a1ecc8b9a",
       "value": {
        "date": 1,
        "month": 2,
        "year": 2019
       }
      }
     },
     "248531848f3b4b1a87eb1d2660c660af": {
      "model_module": "@jupyter-widgets/controls",
      "model_module_version": "1.5.0",
      "model_name": "SliderStyleModel",
      "state": {
       "description_width": "initial"
      }
     },
     "2540c0a3cd394271a65ee3c3ae19007c": {
      "model_module": "@jupyter-widgets/base",
      "model_module_version": "1.2.0",
      "model_name": "LayoutModel",
      "state": {}
     },
     "2553674ceeff45e0a19aeb57ae4ad960": {
      "model_module": "@jupyter-widgets/controls",
      "model_module_version": "1.5.0",
      "model_name": "ToggleButtonModel",
      "state": {
       "button_style": "primary",
       "icon": "map",
       "layout": "IPY_MODEL_c10fde19c2954bde98367261f0def017",
       "style": "IPY_MODEL_9657c31a1b55498da218e22b221fca38",
       "tooltip": "Change basemap"
      }
     },
     "255bd6d06f1a4b969eb3b56c3056eb96": {
      "model_module": "@jupyter-widgets/base",
      "model_module_version": "1.2.0",
      "model_name": "LayoutModel",
      "state": {
       "padding": "0px"
      }
     },
     "26219eac64df4ab291c21cfcb84c8dba": {
      "model_module": "@jupyter-widgets/controls",
      "model_module_version": "1.5.0",
      "model_name": "ButtonModel",
      "state": {
       "description": "Save Shoreline to file",
       "layout": "IPY_MODEL_05e4d5886b7a46baa57ae29ea7f0c904",
       "style": "IPY_MODEL_79eea87050394de5b6476be6cf8fb174"
      }
     },
     "263438a4342349129f0445dbc2740202": {
      "model_module": "@jupyter-widgets/base",
      "model_module_version": "1.2.0",
      "model_name": "LayoutModel",
      "state": {}
     },
     "2656cc4a641a42ac85ddc5040c17bebf": {
      "model_module": "@jupyter-widgets/controls",
      "model_module_version": "1.5.0",
      "model_name": "ToggleButtonModel",
      "state": {
       "button_style": "primary",
       "icon": "adjust",
       "layout": "IPY_MODEL_bd7cfd5eb7b8458ca1a49e0579a66b17",
       "style": "IPY_MODEL_8237df6a451d4d7ea34e0bf1544983b2",
       "tooltip": "Planet imagery"
      }
     },
     "26577606b1984e6c80f21b1233f1150b": {
      "model_module": "jupyter-leaflet",
      "model_module_version": "^0.17.0",
      "model_name": "LeafletWMSLayerModel",
      "state": {
       "_model_module_version": "^0.17.0",
       "_view_module_version": "^0.17.0",
       "attribution": "USGS",
       "crs": {
        "custom": false,
        "name": "EPSG3857"
       },
       "format": "image/png",
       "layers": "USGSNAIPImagery:NDVI_Color",
       "name": "USGS NAIP Imagery NDVI",
       "options": [
        "attribution",
        "bounds",
        "detect_retina",
        "format",
        "layers",
        "max_native_zoom",
        "max_zoom",
        "min_native_zoom",
        "min_zoom",
        "no_wrap",
        "styles",
        "tile_size",
        "tms",
        "transparent",
        "uppercase"
       ],
       "transparent": true,
       "url": "https://imagery.nationalmap.gov/arcgis/services/USGSNAIPImagery/ImageServer/WMSServer?"
      }
     },
     "26ed1884ca4944dba91f875a138970d9": {
      "model_module": "@jupyter-widgets/controls",
      "model_module_version": "1.5.0",
      "model_name": "DescriptionStyleModel",
      "state": {
       "description_width": ""
      }
     },
     "2726a9924f5845cd8823e33fbed29809": {
      "model_module": "jupyter-leaflet",
      "model_module_version": "^0.17.0",
      "model_name": "LeafletTileLayerModel",
      "state": {
       "_model_module_version": "^0.17.0",
       "_view_module_version": "^0.17.0",
       "attribution": "Imagery provided by NOAA National Centers for Environmental Information (NCEI); International Bathymetric Chart of the Southern Ocean (IBCSO); General Bathymetric Chart of the Oceans (GEBCO).",
       "max_zoom": 9,
       "name": "Esri.AntarcticBasemap",
       "options": [
        "attribution",
        "bounds",
        "detect_retina",
        "max_native_zoom",
        "max_zoom",
        "min_native_zoom",
        "min_zoom",
        "no_wrap",
        "tile_size",
        "tms"
       ],
       "url": "https://tiles.arcgis.com/tiles/C8EMgrsFcRFL6LrL/arcgis/rest/services/Antarctic_Basemap/MapServer/tile/{z}/{y}/{x}"
      }
     },
     "275b958169454aa8bc44a821bc2c0e5d": {
      "model_module": "jupyter-leaflet",
      "model_module_version": "^0.17.0",
      "model_name": "LeafletTileLayerModel",
      "state": {
       "_model_module_version": "^0.17.0",
       "_view_module_version": "^0.17.0",
       "attribution": "Kaartgegevens (C) Kadaster",
       "max_zoom": 19,
       "name": "nlmaps.standaard",
       "options": [
        "attribution",
        "bounds",
        "detect_retina",
        "max_native_zoom",
        "max_zoom",
        "min_native_zoom",
        "min_zoom",
        "no_wrap",
        "tile_size",
        "tms"
       ],
       "url": "https://service.pdok.nl/brt/achtergrondkaart/wmts/v2_0/standaard/EPSG:3857/{z}/{x}/{y}.png"
      }
     },
     "279a480173bf41dc9c27eefe92ad8525": {
      "model_module": "@jupyter-widgets/controls",
      "model_module_version": "1.5.0",
      "model_name": "ButtonModel",
      "state": {
       "description": "Save Shoreline to file",
       "layout": "IPY_MODEL_95c33e0e4ed84621a369b5b76a8a36d0",
       "style": "IPY_MODEL_f1f92775911343c7b54601f97723da60"
      }
     },
     "283d77600815400689b17f5e60a1a4d4": {
      "model_module": "@jupyter-widgets/controls",
      "model_module_version": "1.5.0",
      "model_name": "HTMLModel",
      "state": {
       "layout": "IPY_MODEL_4d64e6371dc545469f79423793d4bdcf",
       "style": "IPY_MODEL_8c01712950fc4aa48c32b197a33bfa4e",
       "value": " \n        <h2>Settings</h2>\n        <p>sat_list: unknown</p>\n        <p>dates: unknown</p>\n        <p>landsat_collection: C02</p>\n        <p>cloud_thresh: 0.5</p>\n        <p>dist_clouds: 300</p>\n        <p>output_epsg: 3857</p>\n        <p>check_detection: False</p>\n        <p>adjust_detection: False</p>\n        <p>save_figure: True</p>\n        <p>min_beach_area: 4500</p>\n        <p>buffer_size: 550</p>\n        <p>min_length_sl: 100</p>\n        <p>cloud_mask_issue: False</p>\n        <p>sand_color: default</p>\n        <p>pan_off: False</p>\n        <p>create_plot: False</p>\n        <p>max_dist_ref: 25</p>\n        <p>along_dist: 25</p>\n        "
      }
     },
     "284721fd1b4d4a0b863d585dc3a1207a": {
      "model_module": "@jupyter-widgets/controls",
      "model_module_version": "1.5.0",
      "model_name": "ButtonStyleModel",
      "state": {
       "button_color": "red"
      }
     },
     "29414df9b95b4cc78398a7d85be53c16": {
      "model_module": "jupyter-leaflet",
      "model_module_version": "^0.17.0",
      "model_name": "LeafletTileLayerModel",
      "state": {
       "_model_module_version": "^0.17.0",
       "_view_module_version": "^0.17.0",
       "attribution": "Map data: (C) OpenSeaMap contributors",
       "max_zoom": 22,
       "name": "OpenSeaMap",
       "options": [
        "attribution",
        "bounds",
        "detect_retina",
        "max_native_zoom",
        "max_zoom",
        "min_native_zoom",
        "min_zoom",
        "no_wrap",
        "tile_size",
        "tms"
       ],
       "url": "https://tiles.openseamap.org/seamark/{z}/{x}/{y}.png"
      }
     },
     "294dc43f020945009870e54ce6eccea7": {
      "model_module": "@jupyter-widgets/base",
      "model_module_version": "1.2.0",
      "model_name": "LayoutModel",
      "state": {
       "height": "auto",
       "padding": "0px 0px 0px 4px",
       "width": "auto"
      }
     },
     "29504b90952546dd8d3ffa4d41073287": {
      "model_module": "jupyter-leaflet",
      "model_module_version": "^0.17.0",
      "model_name": "LeafletTileLayerModel",
      "state": {
       "_model_module_version": "^0.17.0",
       "_view_module_version": "^0.17.0",
       "attribution": "Earthstar Geographics",
       "max_zoom": 24,
       "name": "Esri.ArcticImagery",
       "options": [
        "attribution",
        "bounds",
        "detect_retina",
        "max_native_zoom",
        "max_zoom",
        "min_native_zoom",
        "min_zoom",
        "no_wrap",
        "tile_size",
        "tms"
       ],
       "url": "http://server.arcgisonline.com/ArcGIS/rest/services/Polar/Arctic_Imagery/MapServer/tile/{z}/{y}/{x}"
      }
     },
     "296a572b23124ca9996d4fdfb364bea0": {
      "model_module": "@jupyter-widgets/controls",
      "model_module_version": "1.5.0",
      "model_name": "DescriptionStyleModel",
      "state": {
       "description_width": ""
      }
     },
     "29f00798a2034bfbac666fb472917049": {
      "model_module": "@jupyter-widgets/controls",
      "model_module_version": "1.5.0",
      "model_name": "HBoxModel",
      "state": {
       "children": [
        "IPY_MODEL_019ed14f1e0e47549046a0fa26561aa7",
        "IPY_MODEL_301b22f4297047e885731f6d6ffcfc44",
        "IPY_MODEL_bebbdcac207349c694440195e191bac8"
       ],
       "layout": "IPY_MODEL_19859d00a36343488bc8d5d61885f029"
      }
     },
     "2a02d13c6c894472aae8b4dd7ff49877": {
      "model_module": "@jupyter-widgets/base",
      "model_module_version": "1.2.0",
      "model_name": "LayoutModel",
      "state": {
       "height": "auto",
       "padding": "0px 0px 0px 4px",
       "width": "auto"
      }
     },
     "2a3f0ee066214714aeb6702498b6c28f": {
      "model_module": "@jupyter-widgets/base",
      "model_module_version": "1.2.0",
      "model_name": "LayoutModel",
      "state": {}
     },
     "2a523ba2e86e42a88d4e0d0d3db3d3e6": {
      "model_module": "jupyter-leaflet",
      "model_module_version": "^0.17.0",
      "model_name": "LeafletTileLayerModel",
      "state": {
       "_model_module_version": "^0.17.0",
       "_view_module_version": "^0.17.0",
       "attribution": "Map data: (C) OpenStreetMap contributors, SRTM | Map style: (C) OpenTopoMap (CC-BY-SA)",
       "max_zoom": 17,
       "name": "OpenTopoMap",
       "options": [
        "attribution",
        "bounds",
        "detect_retina",
        "max_native_zoom",
        "max_zoom",
        "min_native_zoom",
        "min_zoom",
        "no_wrap",
        "tile_size",
        "tms"
       ],
       "url": "https://a.tile.opentopomap.org/{z}/{x}/{y}.png"
      }
     },
     "2a92f48637374afb8cd4e70e5bed70ab": {
      "model_module": "@jupyter-widgets/controls",
      "model_module_version": "1.5.0",
      "model_name": "HBoxModel",
      "state": {
       "children": [
        "IPY_MODEL_ae6172c8ba8449b7aa86d564779f1937",
        "IPY_MODEL_ed9fb8c87f1c4bb1a6ed3b20fc18f954"
       ],
       "layout": "IPY_MODEL_d15321c1a09241c99d49760dc035599d"
      }
     },
     "2aadebac568a4db1b10432cfb93dfd7b": {
      "model_module": "jupyter-leaflet",
      "model_module_version": "^0.17.0",
      "model_name": "LeafletTileLayerModel",
      "state": {
       "_model_module_version": "^0.17.0",
       "_view_module_version": "^0.17.0",
       "attribution": "Map data: (C) OpenStreetMap contributors | Map style: (C) waymarkedtrails.org (CC-BY-SA)",
       "name": "WaymarkedTrails.slopes",
       "options": [
        "attribution",
        "bounds",
        "detect_retina",
        "max_native_zoom",
        "max_zoom",
        "min_native_zoom",
        "min_zoom",
        "no_wrap",
        "tile_size",
        "tms"
       ],
       "url": "https://tile.waymarkedtrails.org/slopes/{z}/{x}/{y}.png"
      }
     },
     "2b3c5941342e4ea8b7b87dbc91e9f3d5": {
      "model_module": "@jupyter-widgets/base",
      "model_module_version": "1.2.0",
      "model_name": "LayoutModel",
      "state": {}
     },
     "2b5c4aa32d0f42c6aea376addb067a14": {
      "model_module": "jupyter-leaflet",
      "model_module_version": "^0.17.0",
      "model_name": "LeafletTileLayerModel",
      "state": {
       "_model_module_version": "^0.17.0",
       "_view_module_version": "^0.17.0",
       "attribution": "(C) OpenStreetMap contributors (C) CARTO",
       "max_zoom": 20,
       "name": "CartoDB.Positron",
       "options": [
        "attribution",
        "bounds",
        "detect_retina",
        "max_native_zoom",
        "max_zoom",
        "min_native_zoom",
        "min_zoom",
        "no_wrap",
        "tile_size",
        "tms"
       ],
       "url": "https://a.basemaps.cartocdn.com/light_all/{z}/{x}/{y}.png"
      }
     },
     "2b995c22de6847299066a57da5d21aa7": {
      "model_module": "jupyter-leaflet",
      "model_module_version": "^0.17.0",
      "model_name": "LeafletTileLayerModel",
      "state": {
       "_model_module_version": "^0.17.0",
       "_view_module_version": "^0.17.0",
       "attribution": "Justice Map",
       "max_zoom": 22,
       "name": "JusticeMap.income",
       "options": [
        "attribution",
        "bounds",
        "detect_retina",
        "max_native_zoom",
        "max_zoom",
        "min_native_zoom",
        "min_zoom",
        "no_wrap",
        "tile_size",
        "tms"
       ],
       "url": "https://www.justicemap.org/tile/county/income/{z}/{x}/{y}.png"
      }
     },
     "2be9239ebf834fe9916c33933c04914e": {
      "model_module": "jupyter-leaflet",
      "model_module_version": "^0.17.0",
      "model_name": "LeafletWMSLayerModel",
      "state": {
       "_model_module_version": "^0.17.0",
       "_view_module_version": "^0.17.0",
       "attribution": "FWS",
       "crs": {
        "custom": false,
        "name": "EPSG3857"
       },
       "format": "image/png",
       "layers": "1",
       "name": "FWS NWI Wetlands",
       "options": [
        "attribution",
        "bounds",
        "detect_retina",
        "format",
        "layers",
        "max_native_zoom",
        "max_zoom",
        "min_native_zoom",
        "min_zoom",
        "no_wrap",
        "styles",
        "tile_size",
        "tms",
        "transparent",
        "uppercase"
       ],
       "transparent": true,
       "url": "https://www.fws.gov/wetlands/arcgis/services/Wetlands/MapServer/WMSServer?"
      }
     },
     "2c01a24a824d495680a49a7bb861989f": {
      "model_module": "@jupyter-widgets/controls",
      "model_module_version": "1.5.0",
      "model_name": "ButtonStyleModel",
      "state": {
       "button_color": "#ae3cf0"
      }
     },
     "2c2dfd842a3d460d83d740b7f3390d44": {
      "model_module": "jupyter-leaflet",
      "model_module_version": "^0.17.0",
      "model_name": "LeafletWMSLayerModel",
      "state": {
       "_model_module_version": "^0.17.0",
       "_view_module_version": "^0.17.0",
       "attribution": "MRLC",
       "crs": {
        "custom": false,
        "name": "EPSG3857"
       },
       "format": "image/png",
       "layers": "NLCD_2008_Land_Cover_L48",
       "name": "NLCD 2008 CONUS Land Cover",
       "options": [
        "attribution",
        "bounds",
        "detect_retina",
        "format",
        "layers",
        "max_native_zoom",
        "max_zoom",
        "min_native_zoom",
        "min_zoom",
        "no_wrap",
        "styles",
        "tile_size",
        "tms",
        "transparent",
        "uppercase"
       ],
       "transparent": true,
       "url": "https://www.mrlc.gov/geoserver/mrlc_display/NLCD_2008_Land_Cover_L48/wms?"
      }
     },
     "2c5f6c43eeb944968bf6a7c50b38ded3": {
      "model_module": "@jupyter-widgets/base",
      "model_module_version": "1.2.0",
      "model_name": "LayoutModel",
      "state": {}
     },
     "2ca35fb72157449b81cc4aaff6b80682": {
      "model_module": "@jupyter-widgets/controls",
      "model_module_version": "1.5.0",
      "model_name": "DescriptionStyleModel",
      "state": {
       "description_width": ""
      }
     },
     "2ccb4752cf72487a848c02b575cd7209": {
      "model_module": "@jupyter-widgets/controls",
      "model_module_version": "1.5.0",
      "model_name": "HTMLModel",
      "state": {
       "layout": "IPY_MODEL_255bd6d06f1a4b969eb3b56c3056eb96",
       "style": "IPY_MODEL_08cd2e87468d443db69db029fbc073d7",
       "value": "<h2>Save to file</h2>                Save feature on the map to a geojson file.                <br>Geojson file will be saved to CoastSeg directory.                </br><b>Example</b>: Saves bounding box to bbox.geojson            "
      }
     },
     "2cd03bd53489437c903bc1e58804097b": {
      "model_module": "jupyter-leaflet",
      "model_module_version": "^0.17.0",
      "model_name": "LeafletTileLayerModel",
      "state": {
       "_model_module_version": "^0.17.0",
       "_view_module_version": "^0.17.0",
       "attribution": "(C) OpenStreetMap contributors (C) CARTO",
       "max_zoom": 20,
       "name": "CartoDB.DarkMatterOnlyLabels",
       "options": [
        "attribution",
        "bounds",
        "detect_retina",
        "max_native_zoom",
        "max_zoom",
        "min_native_zoom",
        "min_zoom",
        "no_wrap",
        "tile_size",
        "tms"
       ],
       "url": "https://a.basemaps.cartocdn.com/dark_only_labels/{z}/{x}/{y}.png"
      }
     },
     "2d6bc932e4c8457394ecad5537483c81": {
      "model_module": "@jupyter-widgets/controls",
      "model_module_version": "1.5.0",
      "model_name": "ButtonModel",
      "state": {
       "description": "Remove transects",
       "layout": "IPY_MODEL_462cf4b065214814a19844a2c03d8d79",
       "style": "IPY_MODEL_e998c86fc9d0462e8782024858d81251"
      }
     },
     "2e2e80020c0b4f1ab39ab907e5ce8eb1": {
      "model_module": "@jupyter-widgets/controls",
      "model_module_version": "1.5.0",
      "model_name": "DescriptionStyleModel",
      "state": {
       "description_width": ""
      }
     },
     "2e80a46e1cfe494f99437441871702e0": {
      "model_module": "@jupyter-widgets/controls",
      "model_module_version": "1.5.0",
      "model_name": "ToggleButtonModel",
      "state": {
       "button_style": "primary",
       "icon": "info",
       "layout": "IPY_MODEL_f018b8406d144b25aa7d89d6889d3b02",
       "style": "IPY_MODEL_d1a34a0a8af248b9a27e8265336cae37",
       "tooltip": "Get COG/STAC pixel value"
      }
     },
     "2ebe48c5778745198d547e262c5cd873": {
      "model_module": "@jupyter-widgets/controls",
      "model_module_version": "1.5.0",
      "model_name": "ToggleButtonModel",
      "state": {
       "button_style": "primary",
       "icon": "address-book",
       "layout": "IPY_MODEL_e834411421b242d3a1c18d5181a09a98",
       "style": "IPY_MODEL_72db5ed024364864993c2671071c0d25",
       "tooltip": "Get US Census data"
      }
     },
     "2eede0aeffd942fd93a567f8f9af17ce": {
      "model_module": "@jupyter-widgets/controls",
      "model_module_version": "1.5.0",
      "model_name": "ButtonStyleModel",
      "state": {
       "button_color": "red"
      }
     },
     "2fb286c80e434fba824fa121a0d5135b": {
      "model_module": "@jupyter-widgets/base",
      "model_module_version": "1.2.0",
      "model_name": "LayoutModel",
      "state": {}
     },
     "301b22f4297047e885731f6d6ffcfc44": {
      "model_module": "@jupyter-widgets/controls",
      "model_module_version": "1.5.0",
      "model_name": "FloatProgressModel",
      "state": {
       "bar_style": "success",
       "layout": "IPY_MODEL_7316bc87401443af9a03350ec972fecd",
       "max": 2,
       "style": "IPY_MODEL_d83bf6b4f69243c7bdf3c23dbb1caced",
       "value": 2
      }
     },
     "306aceaf301b4e1eb26db5307ebc3800": {
      "model_module": "@jupyter-widgets/controls",
      "model_module_version": "1.5.0",
      "model_name": "ButtonModel",
      "state": {
       "description": "Remove shoreline",
       "layout": "IPY_MODEL_2fb286c80e434fba824fa121a0d5135b",
       "style": "IPY_MODEL_2eede0aeffd942fd93a567f8f9af17ce"
      }
     },
     "306f8707558044ed9eb587fc24af3ef1": {
      "model_module": "@jupyter-widgets/controls",
      "model_module_version": "1.5.0",
      "model_name": "HBoxModel",
      "state": {
       "children": [
        "IPY_MODEL_5a98cc68110a4b428d332456fb86fccb",
        "IPY_MODEL_6f432b653d0648deb053a103a46d99da"
       ],
       "layout": "IPY_MODEL_f151c512914642de850c2c584afa36c9"
      }
     },
     "314261453deb4001995fc71819a8ea9b": {
      "model_module": "@jupyter-widgets/controls",
      "model_module_version": "1.5.0",
      "model_name": "HBoxModel",
      "state": {
       "children": [
        "IPY_MODEL_a30d0cad155c432baebd2f4016c0af3d",
        "IPY_MODEL_469b5b7b992347588998ffe4422d246a"
       ],
       "layout": "IPY_MODEL_debdf093d27c4ee4a3f703d6239f72f6"
      }
     },
     "3180520b6f2746ecaf55193b7dc99b61": {
      "model_module": "jupyter-leaflet",
      "model_module_version": "^0.17.0",
      "model_name": "LeafletTileLayerModel",
      "state": {
       "_model_module_version": "^0.17.0",
       "_view_module_version": "^0.17.0",
       "attribution": "Tiles (C) Esri -- Source: USGS, Esri, TANA, DeLorme, and NPS",
       "max_zoom": 13,
       "name": "Esri.WorldTerrain",
       "options": [
        "attribution",
        "bounds",
        "detect_retina",
        "max_native_zoom",
        "max_zoom",
        "min_native_zoom",
        "min_zoom",
        "no_wrap",
        "tile_size",
        "tms"
       ],
       "url": "https://server.arcgisonline.com/ArcGIS/rest/services/World_Terrain_Base/MapServer/tile/{z}/{y}/{x}"
      }
     },
     "319d3cc8084f4ae6bca7069170672a18": {
      "model_module": "@jupyter-widgets/controls",
      "model_module_version": "1.5.0",
      "model_name": "DescriptionStyleModel",
      "state": {
       "description_width": ""
      }
     },
     "31c249bea235462db05cac2f4ad77fc7": {
      "model_module": "jupyter-leaflet",
      "model_module_version": "^0.17.0",
      "model_name": "LeafletWMSLayerModel",
      "state": {
       "_model_module_version": "^0.17.0",
       "_view_module_version": "^0.17.0",
       "attribution": "FWS",
       "crs": {
        "custom": false,
        "name": "EPSG3857"
       },
       "format": "image/png",
       "layers": "0",
       "name": "FWS NWI Wetlands Raster",
       "options": [
        "attribution",
        "bounds",
        "detect_retina",
        "format",
        "layers",
        "max_native_zoom",
        "max_zoom",
        "min_native_zoom",
        "min_zoom",
        "no_wrap",
        "styles",
        "tile_size",
        "tms",
        "transparent",
        "uppercase"
       ],
       "transparent": true,
       "url": "https://www.fws.gov/wetlands/arcgis/services/Wetlands_Raster/ImageServer/WMSServer?"
      }
     },
     "327ac01edd6c47948b79673824d849c1": {
      "model_module": "@jupyter-widgets/controls",
      "model_module_version": "1.5.0",
      "model_name": "DescriptionStyleModel",
      "state": {
       "description_width": ""
      }
     },
     "32d4ba5a26064bae86a71981ce0a7993": {
      "model_module": "@jupyter-widgets/controls",
      "model_module_version": "1.5.0",
      "model_name": "HTMLModel",
      "state": {
       "layout": "IPY_MODEL_cae031f2d08b4a21b71c47ba09a5565c",
       "style": "IPY_MODEL_6c6a6fd20701469aa47487dbf75db2c7",
       "value": "<h3>Load Feature from File</h3>                 Load a feature onto map from geojson file.                "
      }
     },
     "32fc2c8e4d844abf937d88330e3b0ae0": {
      "model_module": "jupyter-leaflet",
      "model_module_version": "^0.17.0",
      "model_name": "LeafletScaleControlModel",
      "state": {
       "_model_module_version": "^0.17.0",
       "_view_module_version": "^0.17.0",
       "imperial": true,
       "max_width": 100,
       "metric": true,
       "options": [
        "imperial",
        "max_width",
        "metric",
        "position",
        "update_when_idle"
       ],
       "position": "bottomleft",
       "update_when_idle": false
      }
     },
     "3442bbefadfa406a8b56e869ec031f34": {
      "model_module": "@jupyter-widgets/base",
      "model_module_version": "1.2.0",
      "model_name": "LayoutModel",
      "state": {}
     },
     "34ec4463bcec4fb889707a60726adc5c": {
      "model_module": "@jupyter-widgets/base",
      "model_module_version": "1.2.0",
      "model_name": "LayoutModel",
      "state": {}
     },
     "34fa21aad2bb4633ab71980d9122305d": {
      "model_module": "@jupyter-widgets/controls",
      "model_module_version": "1.5.0",
      "model_name": "VBoxModel",
      "state": {
       "children": [
        "IPY_MODEL_e8551e40cc784315bd121e2bf74cbe2a",
        "IPY_MODEL_ba02657e24524946b5c7fe3b94c9c222",
        "IPY_MODEL_279a480173bf41dc9c27eefe92ad8525"
       ],
       "layout": "IPY_MODEL_0735eadc322244e88212de4ae8ae1a2d"
      }
     },
     "353223967e5e4f8d8df45e11c7e1b666": {
      "model_module": "@jupyter-widgets/controls",
      "model_module_version": "1.5.0",
      "model_name": "HTMLModel",
      "state": {
       "layout": "IPY_MODEL_978675d9661d4f149618894ffed3adcc",
       "style": "IPY_MODEL_a8c7d80056d0421685c868305baadb0d",
       "value": "<h2><b>Generate ROIs</b></h2>                 Use the two sliders to control the size of the ROIs generated.                </br><b>No Overlap</b>: Set small slider to 0 and large slider to ROI size.</li>                </br><b>Overlap</b>: Set small slider to a value and large slider to ROI size.</li>                </br><b>ROI units</b>: meters squared.</li>                </br><h3><b><u>How it Works</u></b></br></h3>                 <li>Two grids composed of ROIs (squares) and created within                </br>the bounding box.                <li>Each ROI is created along the shoreline.                <li>If there is no shoreline then ROIs cannot be created.                <li>The slider controls the size of the individual ROIs created.                "
      }
     },
     "358323b7eb2843a8a29c7a9043be7432": {
      "model_module": "jupyter-leaflet",
      "model_module_version": "^0.17.0",
      "model_name": "LeafletWMSLayerModel",
      "state": {
       "_model_module_version": "^0.17.0",
       "_view_module_version": "^0.17.0",
       "attribution": "ESA",
       "crs": {
        "custom": false,
        "name": "EPSG3857"
       },
       "format": "image/png",
       "layers": "WORLDCOVER_2020_S2_TCC",
       "name": "ESA Worldcover 2020 S2 TCC",
       "options": [
        "attribution",
        "bounds",
        "detect_retina",
        "format",
        "layers",
        "max_native_zoom",
        "max_zoom",
        "min_native_zoom",
        "min_zoom",
        "no_wrap",
        "styles",
        "tile_size",
        "tms",
        "transparent",
        "uppercase"
       ],
       "transparent": true,
       "url": "https://services.terrascope.be/wms/v2"
      }
     },
     "35c2538021b2431390fd14629e4fa0a4": {
      "model_module": "jupyter-leaflet",
      "model_module_version": "^0.17.0",
      "model_name": "LeafletTileLayerModel",
      "state": {
       "_model_module_version": "^0.17.0",
       "_view_module_version": "^0.17.0",
       "attribution": "© swisstopo",
       "name": "SwissFederalGeoportal.NationalMapGrey",
       "options": [
        "attribution",
        "bounds",
        "detect_retina",
        "max_native_zoom",
        "max_zoom",
        "min_native_zoom",
        "min_zoom",
        "no_wrap",
        "tile_size",
        "tms"
       ],
       "url": "https://wmts.geo.admin.ch/1.0.0/ch.swisstopo.pixelkarte-grau/default/current/3857/{z}/{x}/{y}.jpeg"
      }
     },
     "3621a3a85223487cbe82a52ca3e3c15b": {
      "model_module": "@jupyter-widgets/base",
      "model_module_version": "1.2.0",
      "model_name": "LayoutModel",
      "state": {}
     },
     "36ca339cb3764807b5255fcb44e28e59": {
      "model_module": "@jupyter-widgets/controls",
      "model_module_version": "1.5.0",
      "model_name": "AccordionModel",
      "state": {
       "_titles": {
        "0": "View Settings"
       },
       "children": [
        "IPY_MODEL_283d77600815400689b17f5e60a1a4d4"
       ],
       "layout": "IPY_MODEL_2b3c5941342e4ea8b7b87dbc91e9f3d5"
      }
     },
     "36e34877994e4b22b176dc99a82d8e8a": {
      "model_module": "@jupyter-widgets/base",
      "model_module_version": "1.2.0",
      "model_name": "LayoutModel",
      "state": {}
     },
     "36ec97bb0e7d40f0a64ab32d898cb3e9": {
      "model_module": "jupyter-leaflet",
      "model_module_version": "^0.17.0",
      "model_name": "LeafletLayersControlModel",
      "state": {
       "_model_module_version": "^0.17.0",
       "_view_module_version": "^0.17.0",
       "options": [
        "position"
       ],
       "position": "topright"
      }
     },
     "3758a4c10374450887c23f6a89596125": {
      "model_module": "@jupyter-widgets/controls",
      "model_module_version": "1.5.0",
      "model_name": "ToggleButtonModel",
      "state": {
       "button_style": "primary",
       "icon": "gears",
       "layout": "IPY_MODEL_50e4de8707db48cca8f1ab9bd7615f38",
       "style": "IPY_MODEL_d4d64f2d631f443d99bd964b37772b76",
       "tooltip": "WhiteboxTools for local geoprocessing"
      }
     },
     "37715bc6456e402ba972880fd6ea08dc": {
      "model_module": "@jupyter-widgets/base",
      "model_module_version": "1.2.0",
      "model_name": "LayoutModel",
      "state": {}
     },
     "38c3a977bd5b4e2b9614fb39435a0c42": {
      "model_module": "@jupyter-widgets/controls",
      "model_module_version": "1.5.0",
      "model_name": "VBoxModel",
      "state": {
       "children": [
        "IPY_MODEL_4189489bdf994ebbbd854be25d4dbd9e",
        "IPY_MODEL_ebba63c12d074a8aa91d808af0935cad"
       ],
       "layout": "IPY_MODEL_da75a4283b3a42049a9fb10fb574beb3"
      }
     },
     "391feb1b55584fa8ac57fdd095fe1f42": {
      "model_module": "jupyter-leaflet",
      "model_module_version": "^0.17.0",
      "model_name": "LeafletTileLayerModel",
      "state": {
       "_model_module_version": "^0.17.0",
       "_view_module_version": "^0.17.0",
       "attribution": "© swisstopo",
       "name": "SwissFederalGeoportal.NationalMapColor",
       "options": [
        "attribution",
        "bounds",
        "detect_retina",
        "max_native_zoom",
        "max_zoom",
        "min_native_zoom",
        "min_zoom",
        "no_wrap",
        "tile_size",
        "tms"
       ],
       "url": "https://wmts.geo.admin.ch/1.0.0/ch.swisstopo.pixelkarte-farbe/default/current/3857/{z}/{x}/{y}.jpeg"
      }
     },
     "39da4d55aaaf423db2d781861e42c23e": {
      "model_module": "@jupyter-widgets/controls",
      "model_module_version": "1.5.0",
      "model_name": "DescriptionStyleModel",
      "state": {
       "description_width": ""
      }
     },
     "3acec3d84648464a8be2791b25bccdfb": {
      "model_module": "@jupyter-widgets/base",
      "model_module_version": "1.2.0",
      "model_name": "LayoutModel",
      "state": {}
     },
     "3b0bf733e47a4cb7908dbbc968419158": {
      "model_module": "@jupyter-widgets/base",
      "model_module_version": "1.2.0",
      "model_name": "LayoutModel",
      "state": {
       "padding": "10px"
      }
     },
     "3bc14cb062bc438c85e3971062247153": {
      "model_module": "@jupyter-widgets/controls",
      "model_module_version": "1.5.0",
      "model_name": "HBoxModel",
      "state": {
       "children": [
        "IPY_MODEL_97bd31e4248744db90844b9dc0088d7f",
        "IPY_MODEL_6faf82f99f824cf1bad5677bc149e448",
        "IPY_MODEL_6a20884ec5dd466c99eb452b1d09dc33",
        "IPY_MODEL_d67eca8a585445fbb1fdc444affad6a8",
        "IPY_MODEL_cd3754eaf0ea4aadb4b581d078c1367f"
       ],
       "layout": "IPY_MODEL_dded7c1c002e4ee79dd64aade85b3bb6"
      }
     },
     "3c5b0a8e77504fbcbab0315da38980e6": {
      "model_module": "@jupyter-widgets/base",
      "model_module_version": "1.2.0",
      "model_name": "LayoutModel",
      "state": {}
     },
     "3caaeb069a4049ff8e073ad68da8ff15": {
      "model_module": "@jupyter-widgets/base",
      "model_module_version": "1.2.0",
      "model_name": "LayoutModel",
      "state": {}
     },
     "3d5cc32efaec4d97b3cee6137a3aea86": {
      "model_module": "@jupyter-widgets/controls",
      "model_module_version": "1.5.0",
      "model_name": "VBoxModel",
      "state": {
       "children": [
        "IPY_MODEL_6928f8d82faf4d3b84ab3888ce4c3a17",
        "IPY_MODEL_6d28e2129c7448ebaa432df2b74c61ed",
        "IPY_MODEL_535adabe46a648aa91d0e1e333c3f4f3"
       ],
       "layout": "IPY_MODEL_4fa0a1ba4105450eb7785fbe90526548"
      }
     },
     "3e34969a3f8742e19f48f3b0121e1368": {
      "model_module": "jupyter-leaflet",
      "model_module_version": "^0.17.0",
      "model_name": "LeafletTileLayerModel",
      "state": {
       "_model_module_version": "^0.17.0",
       "_view_module_version": "^0.17.0",
       "attribution": "(C) OpenStreetMap contributors (C) CARTO",
       "max_zoom": 20,
       "name": "CartoDB.VoyagerLabelsUnder",
       "options": [
        "attribution",
        "bounds",
        "detect_retina",
        "max_native_zoom",
        "max_zoom",
        "min_native_zoom",
        "min_zoom",
        "no_wrap",
        "tile_size",
        "tms"
       ],
       "url": "https://a.basemaps.cartocdn.com/rastertiles/voyager_labels_under/{z}/{x}/{y}.png"
      }
     },
     "3e5831d160d74a4ea9ac3cbdcc1054d2": {
      "model_module": "@jupyter-widgets/controls",
      "model_module_version": "1.5.0",
      "model_name": "DatePickerModel",
      "state": {
       "description": "Start Date",
       "disabled": false,
       "layout": "IPY_MODEL_d7f56aacfde941e9ac04b7dc36f0dcc9",
       "style": "IPY_MODEL_5a2c99a8d60649e6b8b73d64ec4e8384",
       "value": {
        "date": 1,
        "month": 11,
        "year": 2018
       }
      }
     },
     "3ee5713d2428486b9f96b24a487faf9c": {
      "model_module": "jupyter-leaflet",
      "model_module_version": "^0.17.0",
      "model_name": "LeafletWMSLayerModel",
      "state": {
       "_model_module_version": "^0.17.0",
       "_view_module_version": "^0.17.0",
       "attribution": "USGS",
       "crs": {
        "custom": false,
        "name": "EPSG3857"
       },
       "format": "image/png",
       "layers": "33DEPElevation:Hillshade Elevation Tinted",
       "name": "USGS 3DEP Elevation",
       "options": [
        "attribution",
        "bounds",
        "detect_retina",
        "format",
        "layers",
        "max_native_zoom",
        "max_zoom",
        "min_native_zoom",
        "min_zoom",
        "no_wrap",
        "styles",
        "tile_size",
        "tms",
        "transparent",
        "uppercase"
       ],
       "transparent": true,
       "url": "https://elevation.nationalmap.gov/arcgis/services/3DEPElevation/ImageServer/WMSServer?"
      }
     },
     "3fab7f829a28461db989555baa28ba11": {
      "model_module": "@jupyter-widgets/controls",
      "model_module_version": "1.5.0",
      "model_name": "VBoxModel",
      "state": {
       "children": [
        "IPY_MODEL_73a6b611bc4b4ec6aaa4161ba6156ff2",
        "IPY_MODEL_6e654924c30a489f82bd88943c375db3",
        "IPY_MODEL_5e3f9ba80c554f9b98115490b1390faa"
       ],
       "layout": "IPY_MODEL_e369af1038c1470884e1058adcc3c23c"
      }
     },
     "3fbe920def944cc1a66364349fccf2a2": {
      "model_module": "jupyter-leaflet",
      "model_module_version": "^0.17.0",
      "model_name": "LeafletTileLayerModel",
      "state": {
       "_model_module_version": "^0.17.0",
       "_view_module_version": "^0.17.0",
       "attribution": "Tiles (C) Esri -- Sources: GEBCO, NOAA, CHS, OSU, UNH, CSUMB, National Geographic, DeLorme, NAVTEQ, and Esri",
       "max_zoom": 13,
       "name": "Esri.OceanBasemap",
       "options": [
        "attribution",
        "bounds",
        "detect_retina",
        "max_native_zoom",
        "max_zoom",
        "min_native_zoom",
        "min_zoom",
        "no_wrap",
        "tile_size",
        "tms"
       ],
       "url": "https://server.arcgisonline.com/ArcGIS/rest/services/Ocean_Basemap/MapServer/tile/{z}/{y}/{x}"
      }
     },
     "3fdf807561af4696ad5d006dbdc063ff": {
      "model_module": "@jupyter-widgets/base",
      "model_module_version": "1.2.0",
      "model_name": "LayoutModel",
      "state": {}
     },
     "40201ee37d7d4f5cb1125a50938ecd27": {
      "model_module": "@jupyter-widgets/base",
      "model_module_version": "1.2.0",
      "model_name": "LayoutModel",
      "state": {}
     },
     "416745dbc89e4a3e9d67c03a4778a224": {
      "model_module": "jupyter-leaflet",
      "model_module_version": "^0.17.0",
      "model_name": "LeafletTileLayerModel",
      "state": {
       "_model_module_version": "^0.17.0",
       "_view_module_version": "^0.17.0",
       "attribution": "Map data: (C) OpenStreetMap contributors | Map style: (C) waymarkedtrails.org (CC-BY-SA)",
       "name": "WaymarkedTrails.mtb",
       "options": [
        "attribution",
        "bounds",
        "detect_retina",
        "max_native_zoom",
        "max_zoom",
        "min_native_zoom",
        "min_zoom",
        "no_wrap",
        "tile_size",
        "tms"
       ],
       "url": "https://tile.waymarkedtrails.org/mtb/{z}/{x}/{y}.png"
      }
     },
     "4189489bdf994ebbbd854be25d4dbd9e": {
      "model_module": "@jupyter-widgets/controls",
      "model_module_version": "1.5.0",
      "model_name": "VBoxModel",
      "state": {
       "children": [
        "IPY_MODEL_ec20536fff004a1c9f41255631a32397",
        "IPY_MODEL_d9ae953d89f44f7ba43948ca042c56a7"
       ],
       "layout": "IPY_MODEL_ef4263ff87c84f849d11430535096d0b"
      }
     },
     "41b61f318a1f4cf8accb664b4be90d3f": {
      "model_module": "@jupyter-widgets/controls",
      "model_module_version": "1.5.0",
      "model_name": "AccordionModel",
      "state": {
       "_titles": {
        "0": "Hover Data",
        "1": "ROI Data"
       },
       "children": [
        "IPY_MODEL_465159161bc04cda91555f0e45caf081",
        "IPY_MODEL_f33444a692304f088dfb1511a198dcd6"
       ],
       "layout": "IPY_MODEL_b479dabd60534cf3a6bff4ecbbb66455"
      }
     },
     "41dceac97f6f4df692f923bb01ef7235": {
      "model_module": "jupyter-leaflet",
      "model_module_version": "^0.17.0",
      "model_name": "LeafletTileLayerModel",
      "state": {
       "_model_module_version": "^0.17.0",
       "_view_module_version": "^0.17.0",
       "attribution": "Google",
       "max_zoom": 22,
       "name": "Google Maps",
       "options": [
        "attribution",
        "bounds",
        "detect_retina",
        "max_native_zoom",
        "max_zoom",
        "min_native_zoom",
        "min_zoom",
        "no_wrap",
        "tile_size",
        "tms"
       ],
       "url": "https://mt1.google.com/vt/lyrs=m&x={x}&y={y}&z={z}"
      }
     },
     "41e8031181a54a7fa2ad28dca0e5188c": {
      "model_module": "@jupyter-widgets/controls",
      "model_module_version": "1.5.0",
      "model_name": "GridBoxModel",
      "state": {
       "children": [
        "IPY_MODEL_2553674ceeff45e0a19aeb57ae4ad960",
        "IPY_MODEL_9a11908700294f34af542d6129f51c01",
        "IPY_MODEL_2656cc4a641a42ac85ddc5040c17bebf",
        "IPY_MODEL_95fa5bd3cc5147208bc6e161e4e6dcd4",
        "IPY_MODEL_3758a4c10374450887c23f6a89596125",
        "IPY_MODEL_9138c678b3f6413b808e09fd6897c542",
        "IPY_MODEL_b956a043401e4f4e806fc65ca0aaff7d",
        "IPY_MODEL_0ea840f2a3f6406981ffe120cd160f89",
        "IPY_MODEL_1834111254fc43fdad83f660d6930c18",
        "IPY_MODEL_2e80a46e1cfe494f99437441871702e0",
        "IPY_MODEL_f880921c367b4a678ac5f36a3e7c2c6c",
        "IPY_MODEL_73e44c7da20c4907b84344c8a0714aac",
        "IPY_MODEL_7ab13f17e8874c298d957dde9028fbc7",
        "IPY_MODEL_d05d36b926974e6e93b0d3ccd47fe761",
        "IPY_MODEL_dd4dda1631bd4651ad3710170db65e6a",
        "IPY_MODEL_4a8e8ed05f47458dbf7682168aad3216",
        "IPY_MODEL_72334c4a365c47a4a6807a7e0671a339",
        "IPY_MODEL_cf6715dc0a0f46889fc7fba244c0d06b"
       ],
       "layout": "IPY_MODEL_615ac7ce56fa4977b25fa933f49fe83a"
      }
     },
     "4239dcbb166a4ed985745e48c3ba0d48": {
      "model_module": "@jupyter-widgets/base",
      "model_module_version": "1.2.0",
      "model_name": "LayoutModel",
      "state": {
       "height": "auto",
       "padding": "0px 0px 0px 4px",
       "width": "auto"
      }
     },
     "42bf26ea7b5e486da886da36571acb8a": {
      "model_module": "jupyter-leaflet",
      "model_module_version": "^0.17.0",
      "model_name": "LeafletZoomControlModel",
      "state": {
       "_model_module_version": "^0.17.0",
       "_view_module_version": "^0.17.0",
       "options": [
        "position",
        "zoom_in_text",
        "zoom_in_title",
        "zoom_out_text",
        "zoom_out_title"
       ]
      }
     },
     "4336a2d3f4d9495fa67141c0054eae51": {
      "model_module": "@jupyter-widgets/controls",
      "model_module_version": "1.5.0",
      "model_name": "DescriptionStyleModel",
      "state": {
       "description_width": ""
      }
     },
     "44611a600fde457da709fba09ecc4003": {
      "model_module": "@jupyter-widgets/base",
      "model_module_version": "1.2.0",
      "model_name": "LayoutModel",
      "state": {}
     },
     "44cb84c862244d73aff992dca912ffda": {
      "model_module": "@jupyter-widgets/controls",
      "model_module_version": "1.5.0",
      "model_name": "DescriptionStyleModel",
      "state": {
       "description_width": ""
      }
     },
     "44dd5ad76b1b4e018a11472e380631c4": {
      "model_module": "jupyter-leaflet",
      "model_module_version": "^0.17.0",
      "model_name": "LeafletTileLayerModel",
      "state": {
       "_model_module_version": "^0.17.0",
       "_view_module_version": "^0.17.0",
       "attribution": "Map data: (C) OpenStreetMap contributors | Map style: (C) OpenRailwayMap (CC-BY-SA)",
       "max_zoom": 19,
       "name": "OpenRailwayMap",
       "options": [
        "attribution",
        "bounds",
        "detect_retina",
        "max_native_zoom",
        "max_zoom",
        "min_native_zoom",
        "min_zoom",
        "no_wrap",
        "tile_size",
        "tms"
       ],
       "url": "https://a.tiles.openrailwaymap.org/standard/{z}/{x}/{y}.png"
      }
     },
     "45270c7aabd148cdb7d70e9f767ad5d8": {
      "model_module": "@jupyter-widgets/controls",
      "model_module_version": "1.5.0",
      "model_name": "ButtonStyleModel",
      "state": {
       "button_color": "#ae3cf0"
      }
     },
     "453cd2dacc584634804f9a794ae17a85": {
      "model_module": "jupyter-leaflet",
      "model_module_version": "^0.17.0",
      "model_name": "LeafletTileLayerModel",
      "state": {
       "_model_module_version": "^0.17.0",
       "_view_module_version": "^0.17.0",
       "attribution": "Datenquelle: basemap.at",
       "max_zoom": 19,
       "name": "BasemapAT.overlay",
       "options": [
        "attribution",
        "bounds",
        "detect_retina",
        "max_native_zoom",
        "max_zoom",
        "min_native_zoom",
        "min_zoom",
        "no_wrap",
        "tile_size",
        "tms"
       ],
       "url": "https://maps.wien.gv.at/basemap/bmapoverlay/normal/google3857/{z}/{y}/{x}.png"
      }
     },
     "45c18ea2785d402f8160012c389d3195": {
      "model_module": "jupyter-leaflet",
      "model_module_version": "^0.17.0",
      "model_name": "LeafletMapStyleModel",
      "state": {
       "_model_module_version": "^0.17.0",
       "cursor": "default"
      }
     },
     "462cf4b065214814a19844a2c03d8d79": {
      "model_module": "@jupyter-widgets/base",
      "model_module_version": "1.2.0",
      "model_name": "LayoutModel",
      "state": {}
     },
     "465159161bc04cda91555f0e45caf081": {
      "model_module": "@jupyter-widgets/controls",
      "model_module_version": "1.5.0",
      "model_name": "HTMLModel",
      "state": {
       "layout": "IPY_MODEL_8d2aa457496243398a6b276c8c5e1d6f",
       "style": "IPY_MODEL_0486aac6cd4d4d32869bda0e9ee0c752",
       "value": "\n        <h2>Extracted Shoreline</h2>\n        <p>Date: 2019-01-25 18:57:02</p>\n        <p>Geoaccuracy: 8.763999938964844</p>\n        <p>Cloud Cover: 0</p>\n        <p>Satellite Name: L8</p>\n        "
      }
     },
     "4669dc0f0d5148a593f141256b977f35": {
      "model_module": "jupyter-leaflet",
      "model_module_version": "^0.17.0",
      "model_name": "LeafletTileLayerModel",
      "state": {
       "_model_module_version": "^0.17.0",
       "_view_module_version": "^0.17.0",
       "attribution": "Tiles (C) Esri -- Source: US National Park Service",
       "max_zoom": 8,
       "name": "Esri.WorldPhysical",
       "options": [
        "attribution",
        "bounds",
        "detect_retina",
        "max_native_zoom",
        "max_zoom",
        "min_native_zoom",
        "min_zoom",
        "no_wrap",
        "tile_size",
        "tms"
       ],
       "url": "https://server.arcgisonline.com/ArcGIS/rest/services/World_Physical_Map/MapServer/tile/{z}/{y}/{x}"
      }
     },
     "469b5b7b992347588998ffe4422d246a": {
      "model_module": "@jupyter-widgets/controls",
      "model_module_version": "1.5.0",
      "model_name": "AccordionModel",
      "state": {
       "_titles": {
        "0": "View Settings"
       },
       "children": [
        "IPY_MODEL_c544ba6e5098493db5759b047f4bfc7e"
       ],
       "layout": "IPY_MODEL_f4c5ce3084054bd0b6b9fc66180c36e4"
      }
     },
     "472dd2f04ed0434a8618257368878d46": {
      "model_module": "@jupyter-widgets/controls",
      "model_module_version": "1.5.0",
      "model_name": "ButtonStyleModel",
      "state": {
       "button_color": "#ae3cf0"
      }
     },
     "4736efa1283142c6b78e32b24eae53e9": {
      "model_module": "@jupyter-widgets/controls",
      "model_module_version": "1.5.0",
      "model_name": "AccordionModel",
      "state": {
       "_titles": {
        "0": "Settings"
       },
       "children": [
        "IPY_MODEL_d8b18bb5f0c548c29873dffa0ea16610"
       ],
       "layout": "IPY_MODEL_aab3591e8eaf4ce0a0fc6b96c3046a0a"
      }
     },
     "4738cb42445e48b0821ab1411340c783": {
      "model_module": "@jupyter-widgets/controls",
      "model_module_version": "1.5.0",
      "model_name": "VBoxModel",
      "state": {
       "children": [
        "IPY_MODEL_854e729dfd3d49c0a0ac90f9b473251d",
        "IPY_MODEL_897916b89baf4c479045f6235a23b612"
       ],
       "layout": "IPY_MODEL_8fabddf12ed147fbaeae697131515fc6"
      }
     },
     "47e5fbbaf6aa4388a26085eca1e50eaf": {
      "model_module": "@jupyter-widgets/base",
      "model_module_version": "1.2.0",
      "model_name": "LayoutModel",
      "state": {}
     },
     "47f122efe337402d8e38cfc544a75ba2": {
      "model_module": "@jupyter-widgets/controls",
      "model_module_version": "1.5.0",
      "model_name": "ButtonStyleModel",
      "state": {
       "button_color": "#ae3cf0"
      }
     },
     "48a583ebf0bf47b6a6c3ef794d3e31f3": {
      "model_module": "@jupyter-widgets/controls",
      "model_module_version": "1.5.0",
      "model_name": "DescriptionStyleModel",
      "state": {
       "description_width": ""
      }
     },
     "48a87b9e549a4cb19fcb7dd785f1feec": {
      "model_module": "@jupyter-widgets/base",
      "model_module_version": "1.2.0",
      "model_name": "LayoutModel",
      "state": {}
     },
     "49408f3d68ca4b499309b05395b67aa0": {
      "model_module": "@jupyter-widgets/base",
      "model_module_version": "1.2.0",
      "model_name": "LayoutModel",
      "state": {}
     },
     "495069fccf064a7c9569c9eed703ee19": {
      "model_module": "jupyter-leaflet",
      "model_module_version": "^0.17.0",
      "model_name": "LeafletTileLayerModel",
      "state": {
       "_model_module_version": "^0.17.0",
       "_view_module_version": "^0.17.0",
       "attribution": "Map tiles by <a href=\"https://labs.strava.com/heatmap\">Strava 2021</a>",
       "max_zoom": 15,
       "name": "Strava.Run",
       "options": [
        "attribution",
        "bounds",
        "detect_retina",
        "max_native_zoom",
        "max_zoom",
        "min_native_zoom",
        "min_zoom",
        "no_wrap",
        "tile_size",
        "tms"
       ],
       "url": "https://heatmap-external-a.strava.com/tiles/run/bluered/{z}/{x}/{y}.png"
      }
     },
     "4964be187bb64c29934065d07cf73a9e": {
      "model_module": "@jupyter-widgets/base",
      "model_module_version": "1.2.0",
      "model_name": "LayoutModel",
      "state": {}
     },
     "49a290799f214a49b15c0558510cc4b4": {
      "model_module": "@jupyter-widgets/base",
      "model_module_version": "1.2.0",
      "model_name": "LayoutModel",
      "state": {}
     },
     "49bd37a8e6394ac4a0186104448d9281": {
      "model_module": "@jupyter-widgets/controls",
      "model_module_version": "1.5.0",
      "model_name": "ToggleButtonModel",
      "state": {
       "button_style": "primary",
       "icon": "eraser",
       "layout": "IPY_MODEL_687556ca485c40d6b0c60612b817d549",
       "style": "IPY_MODEL_48a583ebf0bf47b6a6c3ef794d3e31f3",
       "tooltip": "Remove all drawn features"
      }
     },
     "4a0301eb46874bbfa8295aeef0f3a17d": {
      "model_module": "jupyter-leaflet",
      "model_module_version": "^0.17.0",
      "model_name": "LeafletGeoJSONModel",
      "state": {
       "_model_module_version": "^0.17.0",
       "_view_module_version": "^0.17.0",
       "data": {
        "features": [
         {
          "geometry": {
           "coordinates": [
            [
             [
              -124.08563592368267,
              41.35098466136123
             ],
             [
              -124.08623500969946,
              41.38700881656251
             ],
             [
              -124.03840059341009,
              41.38745046248221
             ],
             [
              -124.03782787746952,
              41.35142575147409
             ],
             [
              -124.08563592368267,
              41.35098466136123
             ]
            ]
           ],
           "type": "Polygon"
          },
          "id": "0",
          "properties": {
           "id": "0",
           "style": {
            "color": "blue",
            "fillColor": "blue",
            "fillOpacity": 0.1,
            "weight": 2
           }
          },
          "type": "Feature"
         }
        ],
        "type": "FeatureCollection"
       },
       "hover_style": {
        "color": "aqua",
        "fillColor": "blue",
        "fillOpacity": 0.1
       },
       "name": "Selected ROIs"
      }
     },
     "4a1103870d014b039ca89be6c645dd0b": {
      "model_module": "jupyter-leaflet",
      "model_module_version": "^0.17.0",
      "model_name": "LeafletWMSLayerModel",
      "state": {
       "_model_module_version": "^0.17.0",
       "_view_module_version": "^0.17.0",
       "attribution": "MRLC",
       "crs": {
        "custom": false,
        "name": "EPSG3857"
       },
       "format": "image/png",
       "layers": "NLCD_2004_Land_Cover_L48",
       "name": "NLCD 2004 CONUS Land Cover",
       "options": [
        "attribution",
        "bounds",
        "detect_retina",
        "format",
        "layers",
        "max_native_zoom",
        "max_zoom",
        "min_native_zoom",
        "min_zoom",
        "no_wrap",
        "styles",
        "tile_size",
        "tms",
        "transparent",
        "uppercase"
       ],
       "transparent": true,
       "url": "https://www.mrlc.gov/geoserver/mrlc_display/NLCD_2004_Land_Cover_L48/wms?"
      }
     },
     "4a5fde94237441d4bf9392769b00526c": {
      "model_module": "jupyter-leaflet",
      "model_module_version": "^0.17.0",
      "model_name": "LeafletTileLayerModel",
      "state": {
       "_model_module_version": "^0.17.0",
       "_view_module_version": "^0.17.0",
       "attribution": "![](https://docs.onemap.sg/maps/images/oneMap64-01.png) New OneMap | Map data (C) contributors, Singapore Land Authority",
       "name": "OneMapSG.LandLot",
       "options": [
        "attribution",
        "bounds",
        "detect_retina",
        "max_native_zoom",
        "max_zoom",
        "min_native_zoom",
        "min_zoom",
        "no_wrap",
        "tile_size",
        "tms"
       ],
       "url": "https://maps-a.onemap.sg/v3/LandLot/{z}/{x}/{y}.png"
      }
     },
     "4a8e8ed05f47458dbf7682168aad3216": {
      "model_module": "@jupyter-widgets/controls",
      "model_module_version": "1.5.0",
      "model_name": "ToggleButtonModel",
      "state": {
       "button_style": "primary",
       "icon": "pencil-square-o",
       "layout": "IPY_MODEL_00f26ab5bb6b49ea8a2bb675590656b1",
       "style": "IPY_MODEL_52ab4afb9f49422ea7d812e7dc59e498",
       "tooltip": "Create vector data"
      }
     },
     "4bd2f2aa1ec6440b964ab6d2458cd4c7": {
      "model_module": "jupyter-leaflet",
      "model_module_version": "^0.17.0",
      "model_name": "LeafletGeoJSONModel",
      "state": {
       "_model_module_version": "^0.17.0",
       "_view_module_version": "^0.17.0",
       "data": {
        "features": [
         {
          "geometry": {
           "coordinates": [
            [
             [
              -124.08563592368267,
              41.35098466136123
             ],
             [
              -124.08623500969946,
              41.38700881656251
             ],
             [
              -124.03840059341009,
              41.38745046248221
             ],
             [
              -124.03782787746952,
              41.35142575147409
             ],
             [
              -124.08563592368267,
              41.35098466136123
             ]
            ]
           ],
           "type": "Polygon"
          },
          "id": "0",
          "properties": {
           "id": "0",
           "style": {
            "color": "blue",
            "fillColor": "blue",
            "fillOpacity": 0.1,
            "weight": 2
           }
          },
          "type": "Feature"
         },
         {
          "geometry": {
           "coordinates": [
            [
             [
              -124.08623500969946,
              41.38700881656251
             ],
             [
              -124.08683518549094,
              41.42303273833664
             ],
             [
              -124.03897435117615,
              41.42347494066995
             ],
             [
              -124.03840059341009,
              41.38745046248221
             ],
             [
              -124.08623500969946,
              41.38700881656251
             ]
            ]
           ],
           "type": "Polygon"
          },
          "id": "1",
          "properties": {
           "id": "1",
           "style": {
            "color": "blue",
            "fillColor": "blue",
            "fillOpacity": 0.1,
            "weight": 2
           }
          },
          "type": "Feature"
         }
        ],
        "type": "FeatureCollection"
       },
       "hover_style": {
        "color": "aqua",
        "fillColor": "blue",
        "fillOpacity": 0.1
       },
       "name": "Selected ROIs"
      }
     },
     "4c2265b3035c406e885d10ee91832ff3": {
      "model_module": "jupyter-leaflet",
      "model_module_version": "^0.17.0",
      "model_name": "LeafletTileLayerModel",
      "state": {
       "_model_module_version": "^0.17.0",
       "_view_module_version": "^0.17.0",
       "attribution": "&copy; <a href=\"http://www.gaode.com/\">Gaode.com</a>",
       "max_zoom": 19,
       "name": "Gaode.Normal",
       "options": [
        "attribution",
        "bounds",
        "detect_retina",
        "max_native_zoom",
        "max_zoom",
        "min_native_zoom",
        "min_zoom",
        "no_wrap",
        "tile_size",
        "tms"
       ],
       "url": "http://webrd01.is.autonavi.com/appmaptile?lang=zh_cn&size=1&scale=1&style=7&x={x}&y={y}&z={z}"
      }
     },
     "4ca11450f0df4da3aeb4d999eda8c843": {
      "model_module": "jupyter-leaflet",
      "model_module_version": "^0.17.0",
      "model_name": "LeafletScaleControlModel",
      "state": {
       "_model_module_version": "^0.17.0",
       "_view_module_version": "^0.17.0",
       "imperial": true,
       "max_width": 100,
       "metric": true,
       "options": [
        "imperial",
        "max_width",
        "metric",
        "position",
        "update_when_idle"
       ],
       "position": "bottomleft",
       "update_when_idle": false
      }
     },
     "4cbf677f730148b88ac15852f3074309": {
      "model_module": "jupyter-leaflet",
      "model_module_version": "^0.17.0",
      "model_name": "LeafletTileLayerModel",
      "state": {
       "_model_module_version": "^0.17.0",
       "_view_module_version": "^0.17.0",
       "attribution": "Map tiles by <a href=\"https://labs.strava.com/heatmap\">Strava 2021</a>",
       "max_zoom": 15,
       "name": "Strava.Winter",
       "options": [
        "attribution",
        "bounds",
        "detect_retina",
        "max_native_zoom",
        "max_zoom",
        "min_native_zoom",
        "min_zoom",
        "no_wrap",
        "tile_size",
        "tms"
       ],
       "url": "https://heatmap-external-a.strava.com/tiles/winter/hot/{z}/{x}/{y}.png"
      }
     },
     "4ce20e16004049b49307edea91ae1fa9": {
      "model_module": "jupyter-leaflet",
      "model_module_version": "^0.17.0",
      "model_name": "LeafletWMSLayerModel",
      "state": {
       "_model_module_version": "^0.17.0",
       "_view_module_version": "^0.17.0",
       "attribution": "MRLC",
       "crs": {
        "custom": false,
        "name": "EPSG3857"
       },
       "format": "image/png",
       "layers": "NLCD_2016_Land_Cover_L48",
       "name": "NLCD 2016 CONUS Land Cover",
       "options": [
        "attribution",
        "bounds",
        "detect_retina",
        "format",
        "layers",
        "max_native_zoom",
        "max_zoom",
        "min_native_zoom",
        "min_zoom",
        "no_wrap",
        "styles",
        "tile_size",
        "tms",
        "transparent",
        "uppercase"
       ],
       "transparent": true,
       "url": "https://www.mrlc.gov/geoserver/mrlc_display/NLCD_2016_Land_Cover_L48/wms?"
      }
     },
     "4cedec9bc4a044e6a6d82fe59ca60688": {
      "model_module": "jupyter-leaflet",
      "model_module_version": "^0.17.0",
      "model_name": "LeafletTileLayerModel",
      "state": {
       "_model_module_version": "^0.17.0",
       "_view_module_version": "^0.17.0",
       "attribution": "Geoportail France",
       "max_zoom": 20,
       "name": "GeoportailFrance.parcels",
       "options": [
        "attribution",
        "bounds",
        "detect_retina",
        "max_native_zoom",
        "max_zoom",
        "min_native_zoom",
        "min_zoom",
        "no_wrap",
        "tile_size",
        "tms"
       ],
       "url": "https://wxs.ign.fr/choisirgeoportail/geoportail/wmts?REQUEST=GetTile&SERVICE=WMTS&VERSION=1.0.0&STYLE=PCI vecteur&TILEMATRIXSET=PM&FORMAT=image/png&LAYER=CADASTRALPARCELS.PARCELLAIRE_EXPRESS&TILEMATRIX={z}&TILEROW={y}&TILECOL={x}"
      }
     },
     "4d14f08b4842456b8259b7e4eda0120e": {
      "model_module": "@jupyter-widgets/base",
      "model_module_version": "1.2.0",
      "model_name": "LayoutModel",
      "state": {}
     },
     "4d16a8ce427949a8811992979c235064": {
      "model_module": "@jupyter-widgets/base",
      "model_module_version": "1.2.0",
      "model_name": "LayoutModel",
      "state": {
       "width": "500px"
      }
     },
     "4d175dd9d8664c6ea45a36fc10571c15": {
      "model_module": "@jupyter-widgets/controls",
      "model_module_version": "1.5.0",
      "model_name": "HTMLModel",
      "state": {
       "layout": "IPY_MODEL_b0db32ab5baa44e4aada0ee23d2288f5",
       "style": "IPY_MODEL_9476277050dc4b379511f261d8fecf58",
       "value": "<b>Pick a date:</b>"
      }
     },
     "4d5a7309bb784be1ad9c3caae94ad2e5": {
      "model_module": "@jupyter-widgets/base",
      "model_module_version": "1.2.0",
      "model_name": "LayoutModel",
      "state": {}
     },
     "4d64e6371dc545469f79423793d4bdcf": {
      "model_module": "@jupyter-widgets/base",
      "model_module_version": "1.2.0",
      "model_name": "LayoutModel",
      "state": {}
     },
     "4f052b143a9843ceaa60fc63b4ec808b": {
      "model_module": "@jupyter-widgets/base",
      "model_module_version": "1.2.0",
      "model_name": "LayoutModel",
      "state": {}
     },
     "4f0bf9d515144e848082fac425ef9746": {
      "model_module": "jupyter-leaflet",
      "model_module_version": "^0.17.0",
      "model_name": "LeafletTileLayerModel",
      "state": {
       "_model_module_version": "^0.17.0",
       "_view_module_version": "^0.17.0",
       "attribution": "(C) OpenStreetMap contributors",
       "max_zoom": 19,
       "name": "HikeBike.HikeBike",
       "options": [
        "attribution",
        "bounds",
        "detect_retina",
        "max_native_zoom",
        "max_zoom",
        "min_native_zoom",
        "min_zoom",
        "no_wrap",
        "tile_size",
        "tms"
       ],
       "url": "https://tiles.wmflabs.org/hikebike/{z}/{x}/{y}.png"
      }
     },
     "4f84a8487d4f464daeaf305aece9197d": {
      "model_module": "jupyter-leaflet",
      "model_module_version": "^0.17.0",
      "model_name": "LeafletTileLayerModel",
      "state": {
       "_model_module_version": "^0.17.0",
       "_view_module_version": "^0.17.0",
       "attribution": "Google",
       "max_zoom": 22,
       "name": "Google Satellite",
       "options": [
        "attribution",
        "bounds",
        "detect_retina",
        "max_native_zoom",
        "max_zoom",
        "min_native_zoom",
        "min_zoom",
        "no_wrap",
        "tile_size",
        "tms"
       ],
       "url": "https://mt1.google.com/vt/lyrs=s&x={x}&y={y}&z={z}"
      }
     },
     "4fa0a1ba4105450eb7785fbe90526548": {
      "model_module": "@jupyter-widgets/base",
      "model_module_version": "1.2.0",
      "model_name": "LayoutModel",
      "state": {}
     },
     "504f628bd50c4a87846fa5c0498a5ba5": {
      "model_module": "@jupyter-widgets/controls",
      "model_module_version": "1.5.0",
      "model_name": "DescriptionStyleModel",
      "state": {
       "description_width": ""
      }
     },
     "50e4de8707db48cca8f1ab9bd7615f38": {
      "model_module": "@jupyter-widgets/base",
      "model_module_version": "1.2.0",
      "model_name": "LayoutModel",
      "state": {
       "height": "auto",
       "padding": "0px 0px 0px 4px",
       "width": "auto"
      }
     },
     "50faf138722e4f6bb2623550c1f6fe59": {
      "model_module": "@jupyter-widgets/base",
      "model_module_version": "1.2.0",
      "model_name": "LayoutModel",
      "state": {}
     },
     "512d879eb0ae4cf8a0571541c5924013": {
      "model_module": "@jupyter-widgets/base",
      "model_module_version": "1.2.0",
      "model_name": "LayoutModel",
      "state": {}
     },
     "512f6555ab524c70a22e89183d62931a": {
      "model_module": "@jupyter-widgets/controls",
      "model_module_version": "1.5.0",
      "model_name": "ButtonModel",
      "state": {
       "description": "Download Imagery",
       "layout": "IPY_MODEL_abcedb0c13ab43dda91b0e904d15b460",
       "style": "IPY_MODEL_5d0e87288a7c415fb9b8892075166cc8"
      }
     },
     "5169e5ac7de149c4a8ac03c288567220": {
      "model_module": "jupyter-leaflet",
      "model_module_version": "^0.17.0",
      "model_name": "LeafletTileLayerModel",
      "state": {
       "_model_module_version": "^0.17.0",
       "_view_module_version": "^0.17.0",
       "attribution": "© swisstopo",
       "name": "SwissFederalGeoportal.JourneyThroughTime",
       "options": [
        "attribution",
        "bounds",
        "detect_retina",
        "max_native_zoom",
        "max_zoom",
        "min_native_zoom",
        "min_zoom",
        "no_wrap",
        "tile_size",
        "tms"
       ],
       "url": "https://wmts.geo.admin.ch/1.0.0/ch.swisstopo.zeitreihen/default/18641231/3857/{z}/{x}/{y}.png"
      }
     },
     "51b010c80e564b8d86072e354b0e525c": {
      "model_module": "@jupyter-widgets/controls",
      "model_module_version": "1.5.0",
      "model_name": "VBoxModel",
      "state": {
       "children": [
        "IPY_MODEL_6be1fda6c0974d18b7d4afe8eb608978",
        "IPY_MODEL_b0e79a00ace44943a2a25fe5aaff5a1a",
        "IPY_MODEL_df0a159f605c4725aa648e7999879973"
       ],
       "layout": "IPY_MODEL_55785928a41b4521b5bf3daa7d4b5b69"
      }
     },
     "524e668be7404b63b83798adcea56478": {
      "model_module": "@jupyter-widgets/controls",
      "model_module_version": "1.5.0",
      "model_name": "DescriptionStyleModel",
      "state": {
       "description_width": ""
      }
     },
     "525df4c643384a8b9cea6246e1379f41": {
      "model_module": "@jupyter-widgets/controls",
      "model_module_version": "1.5.0",
      "model_name": "ButtonModel",
      "state": {
       "description": "Generate ROI",
       "layout": "IPY_MODEL_09fdd35fa29d48388dafa46ccfc527dc",
       "style": "IPY_MODEL_976c36b5ef80410ea366cf15d9fdc8a2"
      }
     },
     "52ab4afb9f49422ea7d812e7dc59e498": {
      "model_module": "@jupyter-widgets/controls",
      "model_module_version": "1.5.0",
      "model_name": "DescriptionStyleModel",
      "state": {
       "description_width": ""
      }
     },
     "532db695f15f4df4a5301fcacdf0c326": {
      "model_module": "jupyter-leaflet",
      "model_module_version": "^0.17.0",
      "model_name": "LeafletTileLayerModel",
      "state": {
       "_model_module_version": "^0.17.0",
       "_view_module_version": "^0.17.0",
       "attribution": "Justice Map",
       "max_zoom": 22,
       "name": "JusticeMap.nonWhite",
       "options": [
        "attribution",
        "bounds",
        "detect_retina",
        "max_native_zoom",
        "max_zoom",
        "min_native_zoom",
        "min_zoom",
        "no_wrap",
        "tile_size",
        "tms"
       ],
       "url": "https://www.justicemap.org/tile/county/nonwhite/{z}/{x}/{y}.png"
      }
     },
     "535adabe46a648aa91d0e1e333c3f4f3": {
      "model_module": "@jupyter-widgets/controls",
      "model_module_version": "1.5.0",
      "model_name": "ButtonModel",
      "state": {
       "description": "Load Shoreline file",
       "layout": "IPY_MODEL_c40f4a85b2ad4900af963a5d1e89284c",
       "style": "IPY_MODEL_73485274ad664ba5a262748dd3063c27"
      }
     },
     "53793d6c38f44af2b43eec9a095f79b8": {
      "model_module": "@jupyter-widgets/controls",
      "model_module_version": "1.5.0",
      "model_name": "ToggleButtonModel",
      "state": {
       "button_style": "primary",
       "icon": "adjust",
       "layout": "IPY_MODEL_63c71875093c43d49539479d595ebe79",
       "style": "IPY_MODEL_d8017e24d7564d73916fb20b061f45a1",
       "tooltip": "Planet imagery"
      }
     },
     "5391e9afe96c4d81a16b895dfef0b94a": {
      "model_module": "@jupyter-widgets/controls",
      "model_module_version": "1.5.0",
      "model_name": "DescriptionStyleModel",
      "state": {
       "description_width": ""
      }
     },
     "53bc6ecf10ed48e8a9bfedd66220743d": {
      "model_module": "@jupyter-widgets/controls",
      "model_module_version": "1.5.0",
      "model_name": "ButtonModel",
      "state": {
       "description": "Extract Shorelines",
       "layout": "IPY_MODEL_2a3f0ee066214714aeb6702498b6c28f",
       "style": "IPY_MODEL_472dd2f04ed0434a8618257368878d46"
      }
     },
     "5447f75b01b441eeae7ef93bf76e5232": {
      "model_module": "jupyter-leaflet",
      "model_module_version": "^0.17.0",
      "model_name": "LeafletMapStyleModel",
      "state": {
       "_model_module_version": "^0.17.0",
       "cursor": "default"
      }
     },
     "55785928a41b4521b5bf3daa7d4b5b69": {
      "model_module": "@jupyter-widgets/base",
      "model_module_version": "1.2.0",
      "model_name": "LayoutModel",
      "state": {
       "margin": "0px 5px 5px 0px"
      }
     },
     "557c2c9d793f41699bbb7d62931abc57": {
      "model_module": "@jupyter-widgets/controls",
      "model_module_version": "1.5.0",
      "model_name": "GridBoxModel",
      "state": {
       "children": [
        "IPY_MODEL_9bba941e4c704b1480229bf66c7711d7",
        "IPY_MODEL_605c6d6ff06942fe90575e859664c7a4",
        "IPY_MODEL_53793d6c38f44af2b43eec9a095f79b8",
        "IPY_MODEL_cee6da93962f4ac68d70687f57a45873",
        "IPY_MODEL_7251ad13a8da4b2399ce9b39399ca661",
        "IPY_MODEL_94e1ccd8e1534b688086733fdbee0d68",
        "IPY_MODEL_49bd37a8e6394ac4a0186104448d9281",
        "IPY_MODEL_17518aa4b4d94683aac8550df6599202",
        "IPY_MODEL_2ebe48c5778745198d547e262c5cd873",
        "IPY_MODEL_63cb906ed26a484fba1378f0868cfb65",
        "IPY_MODEL_6fe21d7f5adc4c8baec7f0182390e120",
        "IPY_MODEL_67ee6f570ccc43d8a9e3bbf06d065af6",
        "IPY_MODEL_e72d79e6c7614e828b186cafade59252",
        "IPY_MODEL_9bada14dd6684df28463f45ab0688674",
        "IPY_MODEL_56e11d99753046758a81833039243231",
        "IPY_MODEL_92df1fd1f16b4b588aa9a4859223e8f4",
        "IPY_MODEL_5758cd6765cc4acea652eb0d5b206e4f",
        "IPY_MODEL_8473e11b616d4534b72bff67f96dcb83"
       ],
       "layout": "IPY_MODEL_fa20b2ae42bb4328ad30faf036f085ce"
      }
     },
     "560e7286f4e34bcab583355fb7f9a57d": {
      "model_module": "jupyter-leaflet",
      "model_module_version": "^0.17.0",
      "model_name": "LeafletTileLayerModel",
      "state": {
       "_model_module_version": "^0.17.0",
       "_view_module_version": "^0.17.0",
       "attribution": "Map data: (C) OpenStreetMap contributors | Map style: (C) waymarkedtrails.org (CC-BY-SA)",
       "name": "WaymarkedTrails.cycling",
       "options": [
        "attribution",
        "bounds",
        "detect_retina",
        "max_native_zoom",
        "max_zoom",
        "min_native_zoom",
        "min_zoom",
        "no_wrap",
        "tile_size",
        "tms"
       ],
       "url": "https://tile.waymarkedtrails.org/cycling/{z}/{x}/{y}.png"
      }
     },
     "5673ad11fc0c42aab06158ab5cc9e47c": {
      "model_module": "jupyter-leaflet",
      "model_module_version": "^0.17.0",
      "model_name": "LeafletTileLayerModel",
      "state": {
       "_model_module_version": "^0.17.0",
       "_view_module_version": "^0.17.0",
       "attribution": "Justice Map",
       "max_zoom": 22,
       "name": "JusticeMap.white",
       "options": [
        "attribution",
        "bounds",
        "detect_retina",
        "max_native_zoom",
        "max_zoom",
        "min_native_zoom",
        "min_zoom",
        "no_wrap",
        "tile_size",
        "tms"
       ],
       "url": "https://www.justicemap.org/tile/county/white/{z}/{x}/{y}.png"
      }
     },
     "56df460201ba44e897b03a11056df89b": {
      "model_module": "@jupyter-widgets/controls",
      "model_module_version": "1.5.0",
      "model_name": "VBoxModel",
      "state": {
       "children": [
        "IPY_MODEL_32d4ba5a26064bae86a71981ce0a7993",
        "IPY_MODEL_076da33d1aa34306ae3edc3f770e1554",
        "IPY_MODEL_ee13adadc8b44a2e818a23e1b30441d4"
       ],
       "layout": "IPY_MODEL_95bc8b23158c4e5ab3431d6100222bee"
      }
     },
     "56e11d99753046758a81833039243231": {
      "model_module": "@jupyter-widgets/controls",
      "model_module_version": "1.5.0",
      "model_name": "ToggleButtonModel",
      "state": {
       "button_style": "primary",
       "icon": "table",
       "layout": "IPY_MODEL_9cf3f1bb190d4fa99decfe82766c5553",
       "style": "IPY_MODEL_2ca35fb72157449b81cc4aaff6b80682",
       "tooltip": "Open attribute table"
      }
     },
     "573d6e9d26e0495fb0e9d834fd4cae28": {
      "model_module": "jupyter-leaflet",
      "model_module_version": "^0.17.0",
      "model_name": "LeafletTileLayerModel",
      "state": {
       "_model_module_version": "^0.17.0",
       "_view_module_version": "^0.17.0",
       "attribution": "Map memomaps.de CC-BY-SA, map data (C) OpenStreetMap contributors",
       "name": "OPNVKarte",
       "options": [
        "attribution",
        "bounds",
        "detect_retina",
        "max_native_zoom",
        "max_zoom",
        "min_native_zoom",
        "min_zoom",
        "no_wrap",
        "tile_size",
        "tms"
       ],
       "url": "https://tileserver.memomaps.de/tilegen/{z}/{x}/{y}.png"
      }
     },
     "5758cd6765cc4acea652eb0d5b206e4f": {
      "model_module": "@jupyter-widgets/controls",
      "model_module_version": "1.5.0",
      "model_name": "ToggleButtonModel",
      "state": {
       "button_style": "primary",
       "icon": "stack-exchange",
       "layout": "IPY_MODEL_294dc43f020945009870e54ce6eccea7",
       "style": "IPY_MODEL_b220714cd2c449ab9ba2e52d9b6452cb",
       "tooltip": "Discover STAC Catalog"
      }
     },
     "57a1872eee4c4035853c39be11657d0f": {
      "model_module": "jupyter-leaflet",
      "model_module_version": "^0.17.0",
      "model_name": "LeafletGeoJSONModel",
      "state": {
       "_model_module_version": "^0.17.0",
       "_view_module_version": "^0.17.0",
       "data": {
        "features": [
         {
          "geometry": {
           "coordinates": [
            [
             [
              -124.08563592368267,
              41.35098466136123
             ],
             [
              -124.08623500969946,
              41.38700881656251
             ],
             [
              -124.03840059341009,
              41.38745046248221
             ],
             [
              -124.03782787746952,
              41.35142575147409
             ],
             [
              -124.08563592368267,
              41.35098466136123
             ]
            ]
           ],
           "type": "Polygon"
          },
          "id": "0",
          "properties": {
           "id": "0",
           "style": {
            "color": "blue",
            "fillColor": "blue",
            "fillOpacity": 0.1,
            "weight": 2
           }
          },
          "type": "Feature"
         }
        ],
        "type": "FeatureCollection"
       },
       "hover_style": {
        "color": "aqua",
        "fillColor": "blue",
        "fillOpacity": 0.1
       },
       "name": "Selected ROIs"
      }
     },
     "57a9b85eebd44d9583e75b1dfaf5f1ef": {
      "model_module": "@jupyter-widgets/base",
      "model_module_version": "1.2.0",
      "model_name": "LayoutModel",
      "state": {
       "margin": "0px 20px 20px 20px"
      }
     },
     "581532687eaa4d9ba19b9f9653e98006": {
      "model_module": "@jupyter-widgets/base",
      "model_module_version": "1.2.0",
      "model_name": "LayoutModel",
      "state": {}
     },
     "58452dc9b4df43af87564aef24bf609f": {
      "model_module": "@jupyter-widgets/controls",
      "model_module_version": "1.5.0",
      "model_name": "ButtonStyleModel",
      "state": {
       "button_color": "red"
      }
     },
     "58b5d0c273c74e558d7c1e844e48e0c1": {
      "model_module": "jupyter-leaflet",
      "model_module_version": "^0.17.0",
      "model_name": "LeafletTileLayerModel",
      "state": {
       "_model_module_version": "^0.17.0",
       "_view_module_version": "^0.17.0",
       "attribution": "Tiles (C) Esri -- Esri, DeLorme, NAVTEQ",
       "max_zoom": 16,
       "name": "Esri.WorldGrayCanvas",
       "options": [
        "attribution",
        "bounds",
        "detect_retina",
        "max_native_zoom",
        "max_zoom",
        "min_native_zoom",
        "min_zoom",
        "no_wrap",
        "tile_size",
        "tms"
       ],
       "url": "https://server.arcgisonline.com/ArcGIS/rest/services/Canvas/World_Light_Gray_Base/MapServer/tile/{z}/{y}/{x}"
      }
     },
     "59147603031a45a7b3acdac6eea2391d": {
      "model_module": "@jupyter-widgets/base",
      "model_module_version": "1.2.0",
      "model_name": "LayoutModel",
      "state": {}
     },
     "5930b608bf6243a7b3290faeeb7f97e6": {
      "model_module": "jupyter-leaflet",
      "model_module_version": "^0.17.0",
      "model_name": "LeafletTileLayerModel",
      "state": {
       "_model_module_version": "^0.17.0",
       "_view_module_version": "^0.17.0",
       "attribution": "Tiles (C) Esri -- Source: Esri, DeLorme, NAVTEQ, USGS, Intermap, iPC, NRCAN, Esri Japan, METI, Esri China (Hong Kong), Esri (Thailand), TomTom, 2012",
       "max_zoom": 22,
       "name": "Esri.WorldStreetMap",
       "options": [
        "attribution",
        "bounds",
        "detect_retina",
        "max_native_zoom",
        "max_zoom",
        "min_native_zoom",
        "min_zoom",
        "no_wrap",
        "tile_size",
        "tms"
       ],
       "url": "https://server.arcgisonline.com/ArcGIS/rest/services/World_Street_Map/MapServer/tile/{z}/{y}/{x}"
      }
     },
     "597535663223472e951a5a1df303ce95": {
      "model_module": "@jupyter-widgets/base",
      "model_module_version": "1.2.0",
      "model_name": "LayoutModel",
      "state": {
       "margin": "0px 5px 0px 5px"
      }
     },
     "599a14b5e5114e5c97a32e9eb27064fe": {
      "model_module": "jupyter-leaflet",
      "model_module_version": "^0.17.0",
      "model_name": "LeafletTileLayerModel",
      "state": {
       "_model_module_version": "^0.17.0",
       "_view_module_version": "^0.17.0",
       "attribution": "Map tiles by Stamen Design, CC BY 3.0 -- Map data (C) OpenStreetMap contributors",
       "max_zoom": 20,
       "name": "Stamen.Toner",
       "options": [
        "attribution",
        "bounds",
        "detect_retina",
        "max_native_zoom",
        "max_zoom",
        "min_native_zoom",
        "min_zoom",
        "no_wrap",
        "tile_size",
        "tms"
       ],
       "url": "https://stamen-tiles-a.a.ssl.fastly.net/toner/{z}/{x}/{y}.png"
      }
     },
     "5a2c99a8d60649e6b8b73d64ec4e8384": {
      "model_module": "@jupyter-widgets/controls",
      "model_module_version": "1.5.0",
      "model_name": "DescriptionStyleModel",
      "state": {
       "description_width": ""
      }
     },
     "5a74ac5d76b2482ead6522c0b4d649fa": {
      "model_module": "@jupyter-widgets/controls",
      "model_module_version": "1.5.0",
      "model_name": "VBoxModel",
      "state": {
       "children": [
        "IPY_MODEL_e44f64be48c84c7eb034bfc1824a23b6",
        "IPY_MODEL_d78c84a75c4e493d81b138e5f439ea18"
       ],
       "layout": "IPY_MODEL_7f7c1c1cf50e4c6ea171cbcad2b727fa"
      }
     },
     "5a9661656e104f98aa753527a127d32b": {
      "model_module": "@jupyter-widgets/controls",
      "model_module_version": "1.5.0",
      "model_name": "ButtonStyleModel",
      "state": {
       "button_color": "red"
      }
     },
     "5a98cc68110a4b428d332456fb86fccb": {
      "model_module": "@jupyter-widgets/controls",
      "model_module_version": "1.5.0",
      "model_name": "ButtonModel",
      "state": {
       "description": "Clear TextBox",
       "layout": "IPY_MODEL_2540c0a3cd394271a65ee3c3ae19007c",
       "style": "IPY_MODEL_cbc31b64f1234c2ab79b7cd4aaf340df"
      }
     },
     "5aa77af423c24013a08164f6cd0a24fe": {
      "model_module": "@jupyter-widgets/controls",
      "model_module_version": "1.5.0",
      "model_name": "ButtonModel",
      "state": {
       "description": "Clear TextBox",
       "layout": "IPY_MODEL_c6fc30e94aef4a748d8d2c08a86648ad",
       "style": "IPY_MODEL_18535a4e3af9480a83b348f7dddd7b2b"
      }
     },
     "5b292dd84f0148ed8b1aff928b4bbdc4": {
      "model_module": "jupyter-leaflet",
      "model_module_version": "^0.17.0",
      "model_name": "LeafletTileLayerModel",
      "state": {
       "_model_module_version": "^0.17.0",
       "_view_module_version": "^0.17.0",
       "attribution": "Kaartgegevens (C) Kadaster",
       "max_zoom": 19,
       "name": "nlmaps.pastel",
       "options": [
        "attribution",
        "bounds",
        "detect_retina",
        "max_native_zoom",
        "max_zoom",
        "min_native_zoom",
        "min_zoom",
        "no_wrap",
        "tile_size",
        "tms"
       ],
       "url": "https://service.pdok.nl/brt/achtergrondkaart/wmts/v2_0/pastel/EPSG:3857/{z}/{x}/{y}.png"
      }
     },
     "5b78c7d201e140ceb63788d497156832": {
      "model_module": "@jupyter-widgets/base",
      "model_module_version": "1.2.0",
      "model_name": "LayoutModel",
      "state": {
       "padding": "0px"
      }
     },
     "5b8b36cedef541898413194df6cf6389": {
      "model_module": "jupyter-leaflet",
      "model_module_version": "^0.17.0",
      "model_name": "LeafletWidgetControlModel",
      "state": {
       "_model_module": "jupyter-leaflet",
       "_model_module_version": "^0.17.0",
       "_view_count": null,
       "_view_module": "jupyter-leaflet",
       "_view_module_version": "^0.17.0",
       "options": [
        "position",
        "transparent_bg"
       ],
       "position": "topright",
       "widget": "IPY_MODEL_41b61f318a1f4cf8accb664b4be90d3f"
      }
     },
     "5c22eb27eef5413cbd200ad0ca138ab7": {
      "model_module": "@jupyter-widgets/controls",
      "model_module_version": "1.5.0",
      "model_name": "HBoxModel",
      "state": {
       "children": [
        "IPY_MODEL_aaa613b783b84f23aacf65772b3ed8a8"
       ],
       "layout": "IPY_MODEL_263438a4342349129f0445dbc2740202"
      }
     },
     "5cc364ebe4cd4795942f3e730f86312a": {
      "model_module": "@jupyter-widgets/controls",
      "model_module_version": "1.5.0",
      "model_name": "HBoxModel",
      "state": {
       "children": [
        "IPY_MODEL_6dabddd3e08d43f59a9c5e97127da605",
        "IPY_MODEL_d9fa58f3ac15463282f6e72a1abf84e9"
       ],
       "layout": "IPY_MODEL_48a87b9e549a4cb19fcb7dd785f1feec"
      }
     },
     "5ce818ac5c9e4974bff14010c36b6618": {
      "model_module": "jupyter-leaflet",
      "model_module_version": "^0.17.0",
      "model_name": "LeafletTileLayerModel",
      "state": {
       "_model_module_version": "^0.17.0",
       "_view_module_version": "^0.17.0",
       "attribution": "Imagery provided by services from the Global Imagery Browse Services (GIBS), operated by the NASA/GSFC/Earth Science Data and Information System (ESDIS) with funding provided by NASA/HQ.",
       "max_zoom": 9,
       "name": "NASAGIBS.ModisTerraBands367CR",
       "options": [
        "attribution",
        "bounds",
        "detect_retina",
        "max_native_zoom",
        "max_zoom",
        "min_native_zoom",
        "min_zoom",
        "no_wrap",
        "tile_size",
        "tms"
       ],
       "url": "https://map1.vis.earthdata.nasa.gov/wmts-webmerc/MODIS_Terra_CorrectedReflectance_Bands367/default//GoogleMapsCompatible_Level9/{z}/{y}/{x}.jpg"
      }
     },
     "5d0e87288a7c415fb9b8892075166cc8": {
      "model_module": "@jupyter-widgets/controls",
      "model_module_version": "1.5.0",
      "model_name": "ButtonStyleModel",
      "state": {
       "button_color": "#ae3cf0"
      }
     },
     "5e1c2af39b8948e398e89b784f12b98e": {
      "model_module": "@jupyter-widgets/controls",
      "model_module_version": "1.5.0",
      "model_name": "SliderStyleModel",
      "state": {
       "description_width": "initial"
      }
     },
     "5e3f9ba80c554f9b98115490b1390faa": {
      "model_module": "@jupyter-widgets/controls",
      "model_module_version": "1.5.0",
      "model_name": "ButtonModel",
      "state": {
       "description": "Save Config",
       "layout": "IPY_MODEL_d998e38041e24e5789bf0228f50cfcb9",
       "style": "IPY_MODEL_a23b04745a8b48e48b06850ebdcb2ce7"
      }
     },
     "5fd482f9f5884e53bf69d5059ac10fb5": {
      "model_module": "jupyter-leaflet",
      "model_module_version": "^0.17.0",
      "model_name": "LeafletTileLayerModel",
      "state": {
       "_model_module_version": "^0.17.0",
       "_view_module_version": "^0.17.0",
       "attribution": "Datenquelle: basemap.at",
       "max_zoom": 20,
       "name": "BasemapAT.orthofoto",
       "options": [
        "attribution",
        "bounds",
        "detect_retina",
        "max_native_zoom",
        "max_zoom",
        "min_native_zoom",
        "min_zoom",
        "no_wrap",
        "tile_size",
        "tms"
       ],
       "url": "https://maps.wien.gv.at/basemap/bmaporthofoto30cm/normal/google3857/{z}/{y}/{x}.jpeg"
      }
     },
     "5fd8bbca063d4515bf3e28e45eb69128": {
      "model_module": "@jupyter-widgets/controls",
      "model_module_version": "1.5.0",
      "model_name": "HBoxModel",
      "state": {
       "children": [
        "IPY_MODEL_5aa77af423c24013a08164f6cd0a24fe",
        "IPY_MODEL_6f432b653d0648deb053a103a46d99da"
       ],
       "layout": "IPY_MODEL_47e5fbbaf6aa4388a26085eca1e50eaf"
      }
     },
     "60030e9138b24313b28decc8c16ec03a": {
      "model_module": "jupyter-leaflet",
      "model_module_version": "^0.17.0",
      "model_name": "LeafletWMSLayerModel",
      "state": {
       "_model_module_version": "^0.17.0",
       "_view_module_version": "^0.17.0",
       "attribution": "MRLC",
       "crs": {
        "custom": false,
        "name": "EPSG3857"
       },
       "format": "image/png",
       "layers": "NLCD_2001_Land_Cover_L48",
       "name": "NLCD 2001 CONUS Land Cover",
       "options": [
        "attribution",
        "bounds",
        "detect_retina",
        "format",
        "layers",
        "max_native_zoom",
        "max_zoom",
        "min_native_zoom",
        "min_zoom",
        "no_wrap",
        "styles",
        "tile_size",
        "tms",
        "transparent",
        "uppercase"
       ],
       "transparent": true,
       "url": "https://www.mrlc.gov/geoserver/mrlc_display/NLCD_2001_Land_Cover_L48/wms?"
      }
     },
     "6042b729943b415ea31016c29aaf4712": {
      "model_module": "jupyter-leaflet",
      "model_module_version": "^0.17.0",
      "model_name": "LeafletTileLayerModel",
      "state": {
       "_model_module_version": "^0.17.0",
       "_view_module_version": "^0.17.0",
       "attribution": "© swisstopo",
       "max_zoom": 19,
       "name": "SwissFederalGeoportal.SWISSIMAGE",
       "options": [
        "attribution",
        "bounds",
        "detect_retina",
        "max_native_zoom",
        "max_zoom",
        "min_native_zoom",
        "min_zoom",
        "no_wrap",
        "tile_size",
        "tms"
       ],
       "url": "https://wmts.geo.admin.ch/1.0.0/ch.swisstopo.swissimage/default/current/3857/{z}/{x}/{y}.jpeg"
      }
     },
     "605c6d6ff06942fe90575e859664c7a4": {
      "model_module": "@jupyter-widgets/controls",
      "model_module_version": "1.5.0",
      "model_name": "ToggleButtonModel",
      "state": {
       "button_style": "primary",
       "icon": "globe",
       "layout": "IPY_MODEL_73fe0d83636940cab14b861e546c2ada",
       "style": "IPY_MODEL_7433f9f7ac154f788c47047ced246088",
       "tooltip": "Split-panel map"
      }
     },
     "6126fa9909eb44f3a11ffb6ed896853b": {
      "model_module": "jupyter-leaflet",
      "model_module_version": "^0.17.0",
      "model_name": "LeafletTileLayerModel",
      "state": {
       "_model_module_version": "^0.17.0",
       "_view_module_version": "^0.17.0",
       "attribution": "Earthstar Geographics",
       "max_zoom": 24,
       "name": "Esri.AntarcticImagery",
       "options": [
        "attribution",
        "bounds",
        "detect_retina",
        "max_native_zoom",
        "max_zoom",
        "min_native_zoom",
        "min_zoom",
        "no_wrap",
        "tile_size",
        "tms"
       ],
       "url": "http://server.arcgisonline.com/ArcGIS/rest/services/Polar/Antarctic_Imagery/MapServer/tile/{z}/{y}/{x}"
      }
     },
     "615ac7ce56fa4977b25fa933f49fe83a": {
      "model_module": "@jupyter-widgets/base",
      "model_module_version": "1.2.0",
      "model_name": "LayoutModel",
      "state": {
       "grid_gap": "1px 1px",
       "grid_template_columns": "32px 32px 32px ",
       "grid_template_rows": "32px 32px 32px 32px 32px 32px ",
       "padding": "5px",
       "width": "109px"
      }
     },
     "6231b69f4ed2498eab5a7d6e06134517": {
      "model_module": "jupyter-leaflet",
      "model_module_version": "^0.17.0",
      "model_name": "LeafletTileLayerModel",
      "state": {
       "_model_module_version": "^0.17.0",
       "_view_module_version": "^0.17.0",
       "attribution": "Geoportail France",
       "name": "GeoportailFrance.plan",
       "options": [
        "attribution",
        "bounds",
        "detect_retina",
        "max_native_zoom",
        "max_zoom",
        "min_native_zoom",
        "min_zoom",
        "no_wrap",
        "tile_size",
        "tms"
       ],
       "url": "https://wxs.ign.fr/choisirgeoportail/geoportail/wmts?REQUEST=GetTile&SERVICE=WMTS&VERSION=1.0.0&STYLE=normal&TILEMATRIXSET=PM&FORMAT=image/png&LAYER=GEOGRAPHICALGRIDSYSTEMS.PLANIGNV2&TILEMATRIX={z}&TILEROW={y}&TILECOL={x}"
      }
     },
     "62677e6ff44a4422a85ce9ee121e3898": {
      "model_module": "jupyter-leaflet",
      "model_module_version": "^0.17.0",
      "model_name": "LeafletTileLayerModel",
      "state": {
       "_model_module_version": "^0.17.0",
       "_view_module_version": "^0.17.0",
       "attribution": "(C) OpenStreetMap contributors & USGS",
       "max_zoom": 22,
       "name": "MtbMap",
       "options": [
        "attribution",
        "bounds",
        "detect_retina",
        "max_native_zoom",
        "max_zoom",
        "min_native_zoom",
        "min_zoom",
        "no_wrap",
        "tile_size",
        "tms"
       ],
       "url": "http://tile.mtbmap.cz/mtbmap_tiles/{z}/{x}/{y}.png"
      }
     },
     "63c71875093c43d49539479d595ebe79": {
      "model_module": "@jupyter-widgets/base",
      "model_module_version": "1.2.0",
      "model_name": "LayoutModel",
      "state": {
       "height": "auto",
       "padding": "0px 0px 0px 4px",
       "width": "auto"
      }
     },
     "63cb906ed26a484fba1378f0868cfb65": {
      "model_module": "@jupyter-widgets/controls",
      "model_module_version": "1.5.0",
      "model_name": "ToggleButtonModel",
      "state": {
       "button_style": "primary",
       "icon": "info",
       "layout": "IPY_MODEL_ef32764f9a844c9c84d88f3f9428a589",
       "style": "IPY_MODEL_76d4948122d6438f8122f5e01e8b3a9b",
       "tooltip": "Get COG/STAC pixel value"
      }
     },
     "640005caa3b64bbebc3a53000f73d4c9": {
      "model_module": "jupyter-leaflet",
      "model_module_version": "^0.17.0",
      "model_name": "LeafletGeoJSONModel",
      "state": {
       "_model_module_version": "^0.17.0",
       "_view_module_version": "^0.17.0",
       "data": {
        "geometry": {
         "coordinates": [
          [
           -124.07446144600584,
           41.370168598691414
          ],
          [
           -124.07441201004572,
           41.370304172119596
          ],
          [
           -124.07435414539145,
           41.370439824221016
          ],
          [
           -124.07435148826893,
           41.370447655079694
          ],
          [
           -124.07430660448247,
           41.37057537990521
          ],
          [
           -124.07427034037505,
           41.370710830287
          ],
          [
           -124.07420952641945,
           41.370846509842984
          ],
          [
           -124.07417995704354,
           41.37092352830892
          ],
          [
           -124.07480555507576,
           41.36746314796569
          ],
          [
           -124.07478837207756,
           41.36759842034406
          ],
          [
           -124.07476764933547,
           41.36773372577913
          ],
          [
           -124.07474059967596,
           41.36786909030133
          ],
          [
           -124.07469392053497,
           41.36800463814794
          ],
          [
           -124.07467349194428,
           41.36813994081044
          ],
          [
           -124.07624577841199,
           41.360964312945036
          ],
          [
           -124.0762635614321,
           41.36109925864226
          ],
          [
           -124.0762849928132,
           41.361234170209805
          ],
          [
           -124.07627749025946,
           41.36136935239608
          ],
          [
           -124.07626930873158,
           41.36150454092936
          ],
          [
           -124.07624289109093,
           41.36163990001971
          ],
          [
           -124.07621955122028,
           41.361775230316
          ],
          [
           -124.07619454896164,
           41.361910576152106
          ],
          [
           -124.07618469519925,
           41.361967736640985
          ],
          [
           -124.07617438123488,
           41.362045876766345
          ],
          [
           -124.076156239758,
           41.362181158424534
          ],
          [
           -124.07613472784983,
           41.362316471597026
          ],
          [
           -124.07608545118332,
           41.36245204440786
          ],
          [
           -124.07601977735868,
           41.3625877705248
          ],
          [
           -124.07601569949986,
           41.3625954335194
          ],
          [
           -124.07595443697615,
           41.36272349348409
          ],
          [
           -124.07590855879457,
           41.362859034434614
          ],
          [
           -124.07783110453515,
           41.35432898242615
          ],
          [
           -124.07778219660405,
           41.35446455266588
          ],
          [
           -124.07775821457852,
           41.35459988943619
          ],
          [
           -124.07773572428654,
           41.35473521222783
          ],
          [
           -124.07773413464209,
           41.35487033926889
          ],
          [
           -124.0777320705161,
           41.355005470750626
          ]
         ],
         "type": "LineString"
        },
        "id": "0",
        "properties": {
         "cloud_cover": 0,
         "date": "2019-01-25 18:57:02",
         "geoaccuracy": 8.763999938964844,
         "satname": "L8",
         "style": {
          "color": "#0d0887",
          "opacity": 1,
          "weight": 4
         }
        },
        "type": "Feature"
       },
       "hover_style": {
        "color": "red",
        "dashArray": "4",
        "fillOpacity": 0.7
       },
       "name": "ID0_2019-01-25 18:57:02",
       "style": {
        "color": "#0d0887",
        "opacity": 1,
        "weight": 4
       }
      }
     },
     "643c542ac8434f94b252e1bb897baec0": {
      "model_module": "@jupyter-widgets/controls",
      "model_module_version": "1.5.0",
      "model_name": "ButtonModel",
      "state": {
       "description": "Compute Transects",
       "layout": "IPY_MODEL_50faf138722e4f6bb2623550c1f6fe59",
       "style": "IPY_MODEL_45270c7aabd148cdb7d70e9f767ad5d8"
      }
     },
     "644fbebbf02e466384e3e724e1f6e1b9": {
      "model_module": "@jupyter-widgets/base",
      "model_module_version": "1.2.0",
      "model_name": "LayoutModel",
      "state": {
       "height": "28px",
       "padding": "0px 0px 0px 4px",
       "width": "28px"
      }
     },
     "64a20ec84f9b481abc6caba652390545": {
      "model_module": "jupyter-leaflet",
      "model_module_version": "^0.17.0",
      "model_name": "LeafletMapStyleModel",
      "state": {
       "_model_module_version": "^0.17.0",
       "cursor": "wait"
      }
     },
     "64bad03d15574076a2e9f4ce19b6939c": {
      "model_module": "@jupyter-widgets/controls",
      "model_module_version": "1.5.0",
      "model_name": "DescriptionStyleModel",
      "state": {
       "description_width": ""
      }
     },
     "656a49d5c32a4f6d95740c40dfd16a44": {
      "model_module": "jupyter-leaflet",
      "model_module_version": "^0.17.0",
      "model_name": "LeafletZoomControlModel",
      "state": {
       "_model_module_version": "^0.17.0",
       "_view_module_version": "^0.17.0",
       "options": [
        "position",
        "zoom_in_text",
        "zoom_in_title",
        "zoom_out_text",
        "zoom_out_title"
       ]
      }
     },
     "669737ab3c554c0082c8c9e81aa27ab6": {
      "model_module": "jupyter-leaflet",
      "model_module_version": "^0.17.0",
      "model_name": "LeafletTileLayerModel",
      "state": {
       "_model_module_version": "^0.17.0",
       "_view_module_version": "^0.17.0",
       "attribution": "(C) OpenStreetMap contributors, Tiles courtesy of Breton OpenStreetMap Team",
       "max_zoom": 19,
       "name": "OpenStreetMap.BZH",
       "options": [
        "attribution",
        "bounds",
        "detect_retina",
        "max_native_zoom",
        "max_zoom",
        "min_native_zoom",
        "min_zoom",
        "no_wrap",
        "tile_size",
        "tms"
       ],
       "url": "https://tile.openstreetmap.bzh/br/{z}/{x}/{y}.png"
      }
     },
     "66d2a2ffd6a34377a1eefd00485aea84": {
      "model_module": "@jupyter-widgets/controls",
      "model_module_version": "1.5.0",
      "model_name": "DescriptionStyleModel",
      "state": {
       "description_width": ""
      }
     },
     "6732254eb19549138352d6978eb8329f": {
      "model_module": "@jupyter-widgets/controls",
      "model_module_version": "1.5.0",
      "model_name": "VBoxModel",
      "state": {
       "children": [
        "IPY_MODEL_34fa21aad2bb4633ab71980d9122305d",
        "IPY_MODEL_3d5cc32efaec4d97b3cee6137a3aea86"
       ],
       "layout": "IPY_MODEL_20e8d9fd35b94e538c536a38f87876c8"
      }
     },
     "6737b7ae6129446583a63e8287a6dab1": {
      "model_module": "jupyter-leaflet",
      "model_module_version": "^0.17.0",
      "model_name": "LeafletTileLayerModel",
      "state": {
       "_model_module_version": "^0.17.0",
       "_view_module_version": "^0.17.0",
       "attribution": "Imagery provided by services from the Global Imagery Browse Services (GIBS), operated by the NASA/GSFC/Earth Science Data and Information System (ESDIS) with funding provided by NASA/HQ.",
       "max_zoom": 7,
       "name": "NASAGIBS.ModisTerraLSTDay",
       "options": [
        "attribution",
        "bounds",
        "detect_retina",
        "max_native_zoom",
        "max_zoom",
        "min_native_zoom",
        "min_zoom",
        "no_wrap",
        "tile_size",
        "tms"
       ],
       "url": "https://map1.vis.earthdata.nasa.gov/wmts-webmerc/MODIS_Terra_Land_Surface_Temp_Day/default//GoogleMapsCompatible_Level7/{z}/{y}/{x}.png"
      }
     },
     "6777db477c034aa6823dcf3c4b73d304": {
      "model_module": "@jupyter-widgets/base",
      "model_module_version": "1.2.0",
      "model_name": "LayoutModel",
      "state": {}
     },
     "677ea1e78f0844c09e776875e05c591b": {
      "model_module": "@jupyter-widgets/controls",
      "model_module_version": "1.5.0",
      "model_name": "DescriptionStyleModel",
      "state": {
       "description_width": ""
      }
     },
     "67e871ed9a044e879c38c7d4f99bc7b1": {
      "model_module": "@jupyter-widgets/base",
      "model_module_version": "1.2.0",
      "model_name": "LayoutModel",
      "state": {}
     },
     "67ee6f570ccc43d8a9e3bbf06d065af6": {
      "model_module": "@jupyter-widgets/controls",
      "model_module_version": "1.5.0",
      "model_name": "ToggleButtonModel",
      "state": {
       "button_style": "primary",
       "icon": "download",
       "layout": "IPY_MODEL_ebd33c6ea64a4d43a623ee2b1aaaeecf",
       "style": "IPY_MODEL_c024783e623a4ae2814c0312727d409b",
       "tooltip": "Download OSM data"
      }
     },
     "680f5d155b40407187ada22a131e953f": {
      "model_module": "jupyter-leaflet",
      "model_module_version": "^0.17.0",
      "model_name": "LeafletTileLayerModel",
      "state": {
       "_model_module_version": "^0.17.0",
       "_view_module_version": "^0.17.0",
       "attribution": "![](https://docs.onemap.sg/maps/images/oneMap64-01.png) New OneMap | Map data (C) contributors, Singapore Land Authority",
       "name": "OneMapSG.Grey",
       "options": [
        "attribution",
        "bounds",
        "detect_retina",
        "max_native_zoom",
        "max_zoom",
        "min_native_zoom",
        "min_zoom",
        "no_wrap",
        "tile_size",
        "tms"
       ],
       "url": "https://maps-a.onemap.sg/v3/Grey/{z}/{x}/{y}.png"
      }
     },
     "681d1155d00b4e7797d93c3f1d212105": {
      "model_module": "@jupyter-widgets/controls",
      "model_module_version": "1.5.0",
      "model_name": "ButtonStyleModel",
      "state": {
       "button_color": "red"
      }
     },
     "687556ca485c40d6b0c60612b817d549": {
      "model_module": "@jupyter-widgets/base",
      "model_module_version": "1.2.0",
      "model_name": "LayoutModel",
      "state": {
       "height": "auto",
       "padding": "0px 0px 0px 4px",
       "width": "auto"
      }
     },
     "68c76925ae894e9ea32abb29ec0693b1": {
      "model_module": "jupyter-leaflet",
      "model_module_version": "^0.17.0",
      "model_name": "LeafletTileLayerModel",
      "state": {
       "_model_module_version": "^0.17.0",
       "_view_module_version": "^0.17.0",
       "attribution": "Imagery provided by services from the Global Imagery Browse Services (GIBS), operated by the NASA/GSFC/Earth Science Data and Information System (ESDIS) with funding provided by NASA/HQ.",
       "max_zoom": 9,
       "name": "NASAGIBS.ModisAquaBands721CR",
       "options": [
        "attribution",
        "bounds",
        "detect_retina",
        "max_native_zoom",
        "max_zoom",
        "min_native_zoom",
        "min_zoom",
        "no_wrap",
        "tile_size",
        "tms"
       ],
       "url": "https://gibs.earthdata.nasa.gov/wmts/epsg3857/best/MODIS_Aqua_CorrectedReflectance_Bands721/default//GoogleMapsCompatible_Level9/{z}/{y}/{x}.jpg"
      }
     },
     "68e84e68d6184023a48cf8ceb5407a93": {
      "model_module": "@jupyter-widgets/controls",
      "model_module_version": "1.5.0",
      "model_name": "DescriptionStyleModel",
      "state": {
       "description_width": ""
      }
     },
     "6928f8d82faf4d3b84ab3888ce4c3a17": {
      "model_module": "@jupyter-widgets/controls",
      "model_module_version": "1.5.0",
      "model_name": "HTMLModel",
      "state": {
       "layout": "IPY_MODEL_aa08788a8aa24cbaaf6e94774a03a60c",
       "style": "IPY_MODEL_e1d1684866594dc0907a1d2272a9cfae",
       "value": "<h3>Load Feature from File</h3>                 Load a feature onto map from geojson file.                "
      }
     },
     "69446a3749a04b1b8b17fa48064eeb1e": {
      "model_module": "@jupyter-widgets/base",
      "model_module_version": "1.2.0",
      "model_name": "LayoutModel",
      "state": {}
     },
     "6a20884ec5dd466c99eb452b1d09dc33": {
      "model_module": "@jupyter-widgets/controls",
      "model_module_version": "1.5.0",
      "model_name": "ButtonModel",
      "state": {
       "description": "Remove bbox",
       "layout": "IPY_MODEL_69446a3749a04b1b8b17fa48064eeb1e",
       "style": "IPY_MODEL_9b5c3f92623549d2af48c581d0594903"
      }
     },
     "6a603eeaf15c48a5927327eebb7833cb": {
      "model_module": "@jupyter-widgets/base",
      "model_module_version": "1.2.0",
      "model_name": "LayoutModel",
      "state": {}
     },
     "6add0995d4c84c6cb36d4130f4ae2d9b": {
      "model_module": "@jupyter-widgets/controls",
      "model_module_version": "1.5.0",
      "model_name": "DescriptionStyleModel",
      "state": {
       "description_width": ""
      }
     },
     "6b02aefd132f46fbbb4a3a5d5978fe78": {
      "model_module": "@jupyter-widgets/base",
      "model_module_version": "1.2.0",
      "model_name": "LayoutModel",
      "state": {}
     },
     "6bcf614d8d684793bc20c7dffe88f83d": {
      "model_module": "jupyter-leaflet",
      "model_module_version": "^0.17.0",
      "model_name": "LeafletTileLayerModel",
      "state": {
       "_model_module_version": "^0.17.0",
       "_view_module_version": "^0.17.0",
       "attribution": "Tiles &copy; Esri &mdash; Esri, DeLorme, NAVTEQ, TomTom, Intermap, iPC, USGS, FAO, NPS, NRCAN, GeoBase, Kadaster NL, Ordnance Survey, Esri Japan, METI, Esri China (Hong Kong), and the GIS User Community",
       "max_zoom": 24,
       "name": "Esri.ArcticOceanReference",
       "options": [
        "attribution",
        "bounds",
        "detect_retina",
        "max_native_zoom",
        "max_zoom",
        "min_native_zoom",
        "min_zoom",
        "no_wrap",
        "tile_size",
        "tms"
       ],
       "url": "http://server.arcgisonline.com/ArcGIS/rest/services/Polar/Arctic_Ocean_Reference/MapServer/tile/{z}/{y}/{x}"
      }
     },
     "6be1fda6c0974d18b7d4afe8eb608978": {
      "model_module": "@jupyter-widgets/controls",
      "model_module_version": "1.5.0",
      "model_name": "HTMLModel",
      "state": {
       "layout": "IPY_MODEL_9d27f35577b74d60a206933f0ba6bfee",
       "style": "IPY_MODEL_0408f79165b346efbf5aa246056472dd",
       "value": "<h2><b>Generate ROIs</b></h2>                 Use the two sliders to control the size of the ROIs generated.                </br><b>No Overlap</b>: Set small slider to 0 and large slider to ROI size.</li>                </br><b>Overlap</b>: Set small slider to a value and large slider to ROI size.</li>                </br><b>ROI units</b>: meters squared.</li>                </br><h3><b><u>How it Works</u></b></br></h3>                 <li>Two grids composed of ROIs (squares) and created within                </br>the bounding box.                <li>Each ROI is created along the shoreline.                <li>If there is no shoreline then ROIs cannot be created.                <li>The slider controls the size of the individual ROIs created.                "
      }
     },
     "6c6a6fd20701469aa47487dbf75db2c7": {
      "model_module": "@jupyter-widgets/controls",
      "model_module_version": "1.5.0",
      "model_name": "DescriptionStyleModel",
      "state": {
       "description_width": ""
      }
     },
     "6c9e7868d5ea4e3b9f361516ea62bbdf": {
      "model_module": "@jupyter-widgets/controls",
      "model_module_version": "1.5.0",
      "model_name": "DescriptionStyleModel",
      "state": {
       "description_width": ""
      }
     },
     "6d28e2129c7448ebaa432df2b74c61ed": {
      "model_module": "@jupyter-widgets/controls",
      "model_module_version": "1.5.0",
      "model_name": "RadioButtonsModel",
      "state": {
       "_options_labels": [
        "Shoreline",
        "Transects",
        "Bbox"
       ],
       "index": 0,
       "layout": "IPY_MODEL_36e34877994e4b22b176dc99a82d8e8a",
       "style": "IPY_MODEL_b455afe0910c4bb6a6d75255972bd05a"
      }
     },
     "6dabddd3e08d43f59a9c5e97127da605": {
      "model_module": "@jupyter-widgets/controls",
      "model_module_version": "1.5.0",
      "model_name": "ToggleButtonModel",
      "state": {
       "icon": "server",
       "layout": "IPY_MODEL_9d7a61100e7c47e3b14cc4508e561e2b",
       "style": "IPY_MODEL_504f628bd50c4a87846fa5c0498a5ba5",
       "tooltip": "Layers"
      }
     },
     "6df152f50e6c4ac58dd9a7f9242d2ccb": {
      "model_module": "jupyter-leaflet",
      "model_module_version": "^0.17.0",
      "model_name": "LeafletTileLayerModel",
      "state": {
       "_model_module_version": "^0.17.0",
       "_view_module_version": "^0.17.0",
       "attribution": "Tiles (C) Esri -- National Geographic, Esri, DeLorme, NAVTEQ, UNEP-WCMC, USGS, NASA, ESA, METI, NRCAN, GEBCO, NOAA, iPC",
       "max_zoom": 16,
       "name": "Esri.NatGeoWorldMap",
       "options": [
        "attribution",
        "bounds",
        "detect_retina",
        "max_native_zoom",
        "max_zoom",
        "min_native_zoom",
        "min_zoom",
        "no_wrap",
        "tile_size",
        "tms"
       ],
       "url": "https://server.arcgisonline.com/ArcGIS/rest/services/NatGeo_World_Map/MapServer/tile/{z}/{y}/{x}"
      }
     },
     "6e654924c30a489f82bd88943c375db3": {
      "model_module": "@jupyter-widgets/controls",
      "model_module_version": "1.5.0",
      "model_name": "ButtonModel",
      "state": {
       "description": "Load Config",
       "layout": "IPY_MODEL_b05ae24d72dc490190622f3658185c6d",
       "style": "IPY_MODEL_a6ca4468dc894cbfa738c963a45dadd0"
      }
     },
     "6e6cad5a2f3e435990f524cff25355f1": {
      "model_module": "jupyter-leaflet",
      "model_module_version": "^0.17.0",
      "model_name": "LeafletTileLayerModel",
      "state": {
       "_model_module_version": "^0.17.0",
       "_view_module_version": "^0.17.0",
       "attribution": "Tiles (C) Esri -- Esri, DeLorme, NAVTEQ, TomTom, Intermap, iPC, USGS, FAO, NPS, NRCAN, GeoBase, Kadaster NL, Ordnance Survey, Esri Japan, METI, Esri China (Hong Kong), and the GIS User Community",
       "max_zoom": 22,
       "name": "Esri.WorldTopoMap",
       "options": [
        "attribution",
        "bounds",
        "detect_retina",
        "max_native_zoom",
        "max_zoom",
        "min_native_zoom",
        "min_zoom",
        "no_wrap",
        "tile_size",
        "tms"
       ],
       "url": "https://server.arcgisonline.com/ArcGIS/rest/services/World_Topo_Map/MapServer/tile/{z}/{y}/{x}"
      }
     },
     "6eefd96827e74c2fb5fc25347ab7af93": {
      "model_module": "@jupyter-widgets/base",
      "model_module_version": "1.2.0",
      "model_name": "LayoutModel",
      "state": {}
     },
     "6f432b653d0648deb053a103a46d99da": {
      "model_module": "@jupyter-widgets/output",
      "model_module_version": "1.0.0",
      "model_name": "OutputModel",
      "state": {
       "layout": "IPY_MODEL_7fdcb7f276584e949b3226d13dcafe1d",
       "outputs": [
        {
         "name": "stdout",
         "output_type": "stream",
         "text": "Located previously downloaded ROI data.\n"
        },
        {
         "data": {
          "application/vnd.jupyter.widget-view+json": {
           "model_id": "29f00798a2034bfbac666fb472917049",
           "version_major": 2,
           "version_minor": 0
          },
          "text/plain": "Extracting Shorelines:   0%|          | 0/2 [00:00<?, ?it/s]"
         },
         "metadata": {},
         "output_type": "display_data"
        },
        {
         "name": "stdout",
         "output_type": "stream",
         "text": "Extracting shorelines from ROI with the id:0\nMapping shorelines:\nL8:   100%\n0 duplicates\n0 bad georef\nExtracting shorelines from ROI with the id:1\nMapping shorelines:\nL8:   100%\n0 duplicates\n0 bad georef\nSaving shoreline to file: C:\\1_USGS\\CoastSeg\\repos\\2_CoastSeg\\CoastSeg_fork\\Seg2Map\\data\\ID_0_datetime11-08-22__09_38_44\\extracted_shorelines.geojson\nSaving shoreline to file: C:\\1_USGS\\CoastSeg\\repos\\2_CoastSeg\\CoastSeg_fork\\Seg2Map\\data\\ID_1_datetime11-08-22__09_38_44\\extracted_shorelines.geojson\n"
        }
       ]
      }
     },
     "6f5a5cc2e6f246adb17e5784af1db1a2": {
      "model_module": "@jupyter-widgets/controls",
      "model_module_version": "1.5.0",
      "model_name": "VBoxModel",
      "state": {
       "children": [
        "IPY_MODEL_557c2c9d793f41699bbb7d62931abc57"
       ],
       "layout": "IPY_MODEL_11d7b32db5494911b75f5b48e40d042c"
      }
     },
     "6f98f0ac75814351bb4adbc7d97d224e": {
      "model_module": "jupyter-leaflet",
      "model_module_version": "^0.17.0",
      "model_name": "LeafletTileLayerModel",
      "state": {
       "_model_module_version": "^0.17.0",
       "_view_module_version": "^0.17.0",
       "attribution": "Imagery provided by services from the Global Imagery Browse Services (GIBS), operated by the NASA/GSFC/Earth Science Data and Information System (ESDIS) with funding provided by NASA/HQ.",
       "max_zoom": 9,
       "name": "NASAGIBS.ViirsTrueColorCR",
       "options": [
        "attribution",
        "bounds",
        "detect_retina",
        "max_native_zoom",
        "max_zoom",
        "min_native_zoom",
        "min_zoom",
        "no_wrap",
        "tile_size",
        "tms"
       ],
       "url": "https://gibs.earthdata.nasa.gov/wmts/epsg3857/best/VIIRS_SNPP_CorrectedReflectance_TrueColor/default//GoogleMapsCompatible_Level9/{z}/{y}/{x}.jpg"
      }
     },
     "6faf82f99f824cf1bad5677bc149e448": {
      "model_module": "@jupyter-widgets/controls",
      "model_module_version": "1.5.0",
      "model_name": "ButtonModel",
      "state": {
       "description": "Remove transects",
       "layout": "IPY_MODEL_7c3a007f2de1489dad613f1185c02d43",
       "style": "IPY_MODEL_fc324bf4f8a8462fbe4a92210645dcb5"
      }
     },
     "6fe21d7f5adc4c8baec7f0182390e120": {
      "model_module": "@jupyter-widgets/controls",
      "model_module_version": "1.5.0",
      "model_name": "ToggleButtonModel",
      "state": {
       "button_style": "primary",
       "icon": "search",
       "layout": "IPY_MODEL_931e978d52be42b8b5ecf2f2e71c7c24",
       "style": "IPY_MODEL_68e84e68d6184023a48cf8ceb5407a93",
       "tooltip": "Search XYZ tile services"
      }
     },
     "712db022f80b4fb08e79374114d9f380": {
      "model_module": "@jupyter-widgets/base",
      "model_module_version": "1.2.0",
      "model_name": "LayoutModel",
      "state": {}
     },
     "7195997e51404e998cbe9c5c1e0438e3": {
      "model_module": "@jupyter-widgets/controls",
      "model_module_version": "1.5.0",
      "model_name": "DescriptionStyleModel",
      "state": {
       "description_width": ""
      }
     },
     "72334c4a365c47a4a6807a7e0671a339": {
      "model_module": "@jupyter-widgets/controls",
      "model_module_version": "1.5.0",
      "model_name": "ToggleButtonModel",
      "state": {
       "button_style": "primary",
       "icon": "stack-exchange",
       "layout": "IPY_MODEL_0517164b1b17490187519312c7956440",
       "style": "IPY_MODEL_66d2a2ffd6a34377a1eefd00485aea84",
       "tooltip": "Discover STAC Catalog"
      }
     },
     "7251ad13a8da4b2399ce9b39399ca661": {
      "model_module": "@jupyter-widgets/controls",
      "model_module_version": "1.5.0",
      "model_name": "ToggleButtonModel",
      "state": {
       "button_style": "primary",
       "icon": "gears",
       "layout": "IPY_MODEL_08005be175b341ce9b34b0830b10e96b",
       "style": "IPY_MODEL_aa562d28f6de41d5afddcaf5a83b867d",
       "tooltip": "WhiteboxTools for local geoprocessing"
      }
     },
     "72635e071e1946f9b0ddf0d40c8d8765": {
      "model_module": "@jupyter-widgets/controls",
      "model_module_version": "1.5.0",
      "model_name": "RadioButtonsModel",
      "state": {
       "_options_labels": [
        "Shoreline",
        "Transects",
        "Bbox",
        "ROIs"
       ],
       "index": 0,
       "layout": "IPY_MODEL_4d5a7309bb784be1ad9c3caae94ad2e5",
       "style": "IPY_MODEL_ef992ab179564d60af0fe78f42cd13aa"
      }
     },
     "729bb8bab8304bffbbd98dfb6a94c1e4": {
      "model_module": "@jupyter-widgets/controls",
      "model_module_version": "1.5.0",
      "model_name": "DescriptionStyleModel",
      "state": {
       "description_width": ""
      }
     },
     "729cc5cde65f40df9e594df51fa8509e": {
      "model_module": "@jupyter-widgets/base",
      "model_module_version": "1.2.0",
      "model_name": "LayoutModel",
      "state": {
       "padding": "10px"
      }
     },
     "72db5ed024364864993c2671071c0d25": {
      "model_module": "@jupyter-widgets/controls",
      "model_module_version": "1.5.0",
      "model_name": "DescriptionStyleModel",
      "state": {
       "description_width": ""
      }
     },
     "72f80b7d684347708dec88ebf8445133": {
      "model_module": "@jupyter-widgets/base",
      "model_module_version": "1.2.0",
      "model_name": "LayoutModel",
      "state": {}
     },
     "7316bc87401443af9a03350ec972fecd": {
      "model_module": "@jupyter-widgets/base",
      "model_module_version": "1.2.0",
      "model_name": "LayoutModel",
      "state": {}
     },
     "73485274ad664ba5a262748dd3063c27": {
      "model_module": "@jupyter-widgets/controls",
      "model_module_version": "1.5.0",
      "model_name": "ButtonStyleModel",
      "state": {
       "button_color": "#69add1"
      }
     },
     "73a6b611bc4b4ec6aaa4161ba6156ff2": {
      "model_module": "@jupyter-widgets/controls",
      "model_module_version": "1.5.0",
      "model_name": "HTMLModel",
      "state": {
       "layout": "IPY_MODEL_597535663223472e951a5a1df303ce95",
       "style": "IPY_MODEL_7d39ebd29b59403c98a07950e2b72ba7",
       "value": "<h2><b>Load and Save Config Files</b></h2>                <b>Load Config</b>: Load rois, shorelines, transects and bounding box from file:                 </br>'config_gdf.geojson'</li>                <li>Make sure 'config.json' is in the same directory as 'config_gdf.geojson'.</li>                <b>Save Config</b>: Saves rois, shorelines, transects and bounding box to file:                </br>'config_gdf.geojson'</li>                <li>If the ROIs have not been downloaded the config file is in main CoastSeg directory in file:                </br>'config_gdf.geojson'</li>                <li>If the ROIs have been downloaded the config file is in each ROI's folder in file:                </br>'config_gdf.geojson'</li>                <li>The 'config.json' will be saved in the same directory as the 'config_gdf.geojson'.</li>                <li>The 'config.json' contains the data for the ROI and map settings.</li>                "
      }
     },
     "73aae5ca09284cd1a5aa1aa13a3a92e4": {
      "model_module": "@jupyter-widgets/controls",
      "model_module_version": "1.5.0",
      "model_name": "RadioButtonsModel",
      "state": {
       "_options_labels": [
        "Shoreline",
        "Transects"
       ],
       "index": 0,
       "layout": "IPY_MODEL_3621a3a85223487cbe82a52ca3e3c15b",
       "style": "IPY_MODEL_9e2fbadb4892477b81fe890dfb86061d"
      }
     },
     "73c3738e5cd247eda517f345b221c495": {
      "model_module": "@jupyter-widgets/base",
      "model_module_version": "1.2.0",
      "model_name": "LayoutModel",
      "state": {}
     },
     "73e44c7da20c4907b84344c8a0714aac": {
      "model_module": "@jupyter-widgets/controls",
      "model_module_version": "1.5.0",
      "model_name": "ToggleButtonModel",
      "state": {
       "button_style": "primary",
       "icon": "download",
       "layout": "IPY_MODEL_e40a7a551b5e4d5f9a9041af7148b69b",
       "style": "IPY_MODEL_0d7cda011c2240d78dc7429851c578d2",
       "tooltip": "Download OSM data"
      }
     },
     "73fe0d83636940cab14b861e546c2ada": {
      "model_module": "@jupyter-widgets/base",
      "model_module_version": "1.2.0",
      "model_name": "LayoutModel",
      "state": {
       "height": "auto",
       "padding": "0px 0px 0px 4px",
       "width": "auto"
      }
     },
     "7433f9f7ac154f788c47047ced246088": {
      "model_module": "@jupyter-widgets/controls",
      "model_module_version": "1.5.0",
      "model_name": "DescriptionStyleModel",
      "state": {
       "description_width": ""
      }
     },
     "743d88f7b86b4c259d0976999e0a87b9": {
      "model_module": "@jupyter-widgets/base",
      "model_module_version": "1.2.0",
      "model_name": "LayoutModel",
      "state": {}
     },
     "764224c7ae6e45bd8cebfa20c4d45ba2": {
      "model_module": "@jupyter-widgets/controls",
      "model_module_version": "1.5.0",
      "model_name": "ButtonStyleModel",
      "state": {
       "button_color": "#ae3cf0"
      }
     },
     "76d4948122d6438f8122f5e01e8b3a9b": {
      "model_module": "@jupyter-widgets/controls",
      "model_module_version": "1.5.0",
      "model_name": "DescriptionStyleModel",
      "state": {
       "description_width": ""
      }
     },
     "77525ec6d4694474b72e6ce8368f1402": {
      "model_module": "@jupyter-widgets/controls",
      "model_module_version": "1.5.0",
      "model_name": "VBoxModel",
      "state": {
       "children": [
        "IPY_MODEL_4738cb42445e48b0821ab1411340c783",
        "IPY_MODEL_ed08d91d5f85485286e9a6a25683cf11",
        "IPY_MODEL_de506f6a926b40c3808920a8a0f94fd1",
        "IPY_MODEL_f1a07e5e62ce440daa610d03244ea39a"
       ],
       "layout": "IPY_MODEL_f2960bffc73341469ca1f7f4dde65875"
      }
     },
     "79eea87050394de5b6476be6cf8fb174": {
      "model_module": "@jupyter-widgets/controls",
      "model_module_version": "1.5.0",
      "model_name": "ButtonStyleModel",
      "state": {
       "button_color": "#50bf8f"
      }
     },
     "7ab13f17e8874c298d957dde9028fbc7": {
      "model_module": "@jupyter-widgets/controls",
      "model_module_version": "1.5.0",
      "model_name": "ToggleButtonModel",
      "state": {
       "button_style": "primary",
       "icon": "picture-o",
       "layout": "IPY_MODEL_140c9751505c48a0a4ad73e8b2a47eb6",
       "style": "IPY_MODEL_44cb84c862244d73aff992dca912ffda",
       "tooltip": "Open COG/STAC dataset"
      }
     },
     "7b9116ae9c274a018255c8b75a41bdbe": {
      "model_module": "@jupyter-widgets/controls",
      "model_module_version": "1.5.0",
      "model_name": "DescriptionStyleModel",
      "state": {
       "description_width": ""
      }
     },
     "7c2f55aa03504011bd310451be870c8e": {
      "model_module": "jupyter-leaflet",
      "model_module_version": "^0.17.0",
      "model_name": "LeafletTileLayerModel",
      "state": {
       "_model_module_version": "^0.17.0",
       "_view_module_version": "^0.17.0",
       "attribution": "(C) OpenStreetMap contributors (C) CARTO",
       "max_zoom": 20,
       "name": "CartoDB.VoyagerNoLabels",
       "options": [
        "attribution",
        "bounds",
        "detect_retina",
        "max_native_zoom",
        "max_zoom",
        "min_native_zoom",
        "min_zoom",
        "no_wrap",
        "tile_size",
        "tms"
       ],
       "url": "https://a.basemaps.cartocdn.com/rastertiles/voyager_nolabels/{z}/{x}/{y}.png"
      }
     },
     "7c3a007f2de1489dad613f1185c02d43": {
      "model_module": "@jupyter-widgets/base",
      "model_module_version": "1.2.0",
      "model_name": "LayoutModel",
      "state": {}
     },
     "7c547c4b2df54a4d9050f77e4443b41c": {
      "model_module": "jupyter-leaflet",
      "model_module_version": "^0.17.0",
      "model_name": "LeafletTileLayerModel",
      "state": {
       "_model_module_version": "^0.17.0",
       "_view_module_version": "^0.17.0",
       "attribution": "(C) OpenStreetMap contributors (C) CARTO",
       "max_zoom": 20,
       "name": "CartoDB.DarkMatter",
       "options": [
        "attribution",
        "bounds",
        "detect_retina",
        "max_native_zoom",
        "max_zoom",
        "min_native_zoom",
        "min_zoom",
        "no_wrap",
        "tile_size",
        "tms"
       ],
       "url": "https://a.basemaps.cartocdn.com/dark_all/{z}/{x}/{y}.png"
      }
     },
     "7c5dfb30d45941ea949fea9daca74a3b": {
      "model_module": "jupyter-leaflet",
      "model_module_version": "^0.17.0",
      "model_name": "LeafletTileLayerModel",
      "state": {
       "_model_module_version": "^0.17.0",
       "_view_module_version": "^0.17.0",
       "attribution": "Map tiles by Stamen Design, CC BY 3.0 -- Map data (C) OpenStreetMap contributors",
       "max_zoom": 20,
       "name": "Stamen.TonerHybrid",
       "options": [
        "attribution",
        "bounds",
        "detect_retina",
        "max_native_zoom",
        "max_zoom",
        "min_native_zoom",
        "min_zoom",
        "no_wrap",
        "tile_size",
        "tms"
       ],
       "url": "https://stamen-tiles-a.a.ssl.fastly.net/toner-hybrid/{z}/{x}/{y}.png"
      }
     },
     "7c9d7d72b5d142c5a9863094e7d24015": {
      "model_module": "jupyter-leaflet",
      "model_module_version": "^0.17.0",
      "model_name": "LeafletTileLayerModel",
      "state": {
       "_model_module_version": "^0.17.0",
       "_view_module_version": "^0.17.0",
       "attribution": "Imagery provided by services from the Global Imagery Browse Services (GIBS), operated by the NASA/GSFC/Earth Science Data and Information System (ESDIS) with funding provided by NASA/HQ.",
       "max_zoom": 9,
       "name": "NASAGIBS.ModisTerraBands721CR",
       "options": [
        "attribution",
        "bounds",
        "detect_retina",
        "max_native_zoom",
        "max_zoom",
        "min_native_zoom",
        "min_zoom",
        "no_wrap",
        "tile_size",
        "tms"
       ],
       "url": "https://gibs.earthdata.nasa.gov/wmts/epsg3857/best/MODIS_Terra_CorrectedReflectance_Bands721/default//GoogleMapsCompatible_Level9/{z}/{y}/{x}.jpg"
      }
     },
     "7d39ebd29b59403c98a07950e2b72ba7": {
      "model_module": "@jupyter-widgets/controls",
      "model_module_version": "1.5.0",
      "model_name": "DescriptionStyleModel",
      "state": {
       "description_width": ""
      }
     },
     "7d432d44950e4a52b3077cab8b70d42f": {
      "model_module": "jupyter-leaflet",
      "model_module_version": "^0.17.0",
      "model_name": "LeafletTileLayerModel",
      "state": {
       "_model_module_version": "^0.17.0",
       "_view_module_version": "^0.17.0",
       "attribution": "Map data: (C) OpenStreetMap contributors | Map style: (C) waymarkedtrails.org (CC-BY-SA)",
       "name": "WaymarkedTrails.hiking",
       "options": [
        "attribution",
        "bounds",
        "detect_retina",
        "max_native_zoom",
        "max_zoom",
        "min_native_zoom",
        "min_zoom",
        "no_wrap",
        "tile_size",
        "tms"
       ],
       "url": "https://tile.waymarkedtrails.org/hiking/{z}/{x}/{y}.png"
      }
     },
     "7d71463e5f46402590a0e396ba443ecd": {
      "model_module": "jupyter-leaflet",
      "model_module_version": "^0.17.0",
      "model_name": "LeafletWMSLayerModel",
      "state": {
       "_model_module_version": "^0.17.0",
       "_view_module_version": "^0.17.0",
       "attribution": "ESA",
       "crs": {
        "custom": false,
        "name": "EPSG3857"
       },
       "format": "image/png",
       "layers": "WORLDCOVER_2020_MAP",
       "name": "ESA Worldcover 2020",
       "options": [
        "attribution",
        "bounds",
        "detect_retina",
        "format",
        "layers",
        "max_native_zoom",
        "max_zoom",
        "min_native_zoom",
        "min_zoom",
        "no_wrap",
        "styles",
        "tile_size",
        "tms",
        "transparent",
        "uppercase"
       ],
       "transparent": true,
       "url": "https://services.terrascope.be/wms/v2"
      }
     },
     "7e31a7969f2d4b4fa146429f3d376cf0": {
      "model_module": "@jupyter-widgets/controls",
      "model_module_version": "1.5.0",
      "model_name": "HBoxModel",
      "state": {
       "children": [
        "IPY_MODEL_d4751fc6a6f2453e870f4f0e94f89cd7",
        "IPY_MODEL_2d6bc932e4c8457394ecad5537483c81",
        "IPY_MODEL_8350dfce78b54309adacedaba8450f6e",
        "IPY_MODEL_306aceaf301b4e1eb26db5307ebc3800",
        "IPY_MODEL_fb7d09192c6149259642aac747db4d83"
       ],
       "layout": "IPY_MODEL_becfc036df5640d1951e5156a624ac26"
      }
     },
     "7e3567592cc54518ae41850749b5bd1a": {
      "model_module": "@jupyter-widgets/controls",
      "model_module_version": "1.5.0",
      "model_name": "VBoxModel",
      "state": {
       "children": [
        "IPY_MODEL_fdf3a07f4944498eb46e72d03e49d757",
        "IPY_MODEL_a0c4db0c65184fee9d95e19013fbca25",
        "IPY_MODEL_aaf9e87cb49743ca9140fcccf2b8d295"
       ],
       "layout": "IPY_MODEL_6777db477c034aa6823dcf3c4b73d304"
      }
     },
     "7f7c1c1cf50e4c6ea171cbcad2b727fa": {
      "model_module": "@jupyter-widgets/base",
      "model_module_version": "1.2.0",
      "model_name": "LayoutModel",
      "state": {}
     },
     "7fdcb7f276584e949b3226d13dcafe1d": {
      "model_module": "@jupyter-widgets/base",
      "model_module_version": "1.2.0",
      "model_name": "LayoutModel",
      "state": {
       "border": "1px solid black"
      }
     },
     "8043d6e653c748aaa60ce299159720c5": {
      "model_module": "@jupyter-widgets/base",
      "model_module_version": "1.2.0",
      "model_name": "LayoutModel",
      "state": {}
     },
     "8237df6a451d4d7ea34e0bf1544983b2": {
      "model_module": "@jupyter-widgets/controls",
      "model_module_version": "1.5.0",
      "model_name": "DescriptionStyleModel",
      "state": {
       "description_width": ""
      }
     },
     "8350dfce78b54309adacedaba8450f6e": {
      "model_module": "@jupyter-widgets/controls",
      "model_module_version": "1.5.0",
      "model_name": "ButtonModel",
      "state": {
       "description": "Remove bbox",
       "layout": "IPY_MODEL_e76b878089184572a4496b0445f8f143",
       "style": "IPY_MODEL_d6314bf4ef4e4071a4dae75b4f1748c2"
      }
     },
     "84243d8b57374fdbb5c7e4a093a0362c": {
      "model_module": "@jupyter-widgets/base",
      "model_module_version": "1.2.0",
      "model_name": "LayoutModel",
      "state": {}
     },
     "8473e11b616d4534b72bff67f96dcb83": {
      "model_module": "@jupyter-widgets/controls",
      "model_module_version": "1.5.0",
      "model_name": "ToggleButtonModel",
      "state": {
       "button_style": "primary",
       "icon": "question",
       "layout": "IPY_MODEL_dc8a7a295e7f4c0bbd8e968d56a26475",
       "style": "IPY_MODEL_f12d2a950c104b9daf36db806f775c2f",
       "tooltip": "Get help"
      }
     },
     "854e729dfd3d49c0a0ac90f9b473251d": {
      "model_module": "@jupyter-widgets/controls",
      "model_module_version": "1.5.0",
      "model_name": "HTMLModel",
      "state": {
       "layout": "IPY_MODEL_3b0bf733e47a4cb7908dbbc968419158",
       "style": "IPY_MODEL_64bad03d15574076a2e9f4ce19b6939c",
       "value": "<b>Pick a date:</b>"
      }
     },
     "85a9a21498c441a4aa3bfd641be19ee0": {
      "model_module": "@jupyter-widgets/controls",
      "model_module_version": "1.5.0",
      "model_name": "HBoxModel",
      "state": {
       "children": [
        "IPY_MODEL_a33834ffd88842b182883d6114d9c2ca"
       ],
       "layout": "IPY_MODEL_6a603eeaf15c48a5927327eebb7833cb"
      }
     },
     "860182c00fee446f807767558e474083": {
      "model_module": "jupyter-leaflet",
      "model_module_version": "^0.17.0",
      "model_name": "LeafletTileLayerModel",
      "state": {
       "_model_module_version": "^0.17.0",
       "_view_module_version": "^0.17.0",
       "attribution": "Map tiles by Stamen Design, CC BY 3.0 -- Map data (C) OpenStreetMap contributors",
       "max_zoom": 20,
       "name": "Stamen.TonerLines",
       "options": [
        "attribution",
        "bounds",
        "detect_retina",
        "max_native_zoom",
        "max_zoom",
        "min_native_zoom",
        "min_zoom",
        "no_wrap",
        "tile_size",
        "tms"
       ],
       "url": "https://stamen-tiles-a.a.ssl.fastly.net/toner-lines/{z}/{x}/{y}.png"
      }
     },
     "8648e0c077474ed58649016561fd195c": {
      "model_module": "jupyter-leaflet",
      "model_module_version": "^0.17.0",
      "model_name": "LeafletTileLayerModel",
      "state": {
       "_model_module_version": "^0.17.0",
       "_view_module_version": "^0.17.0",
       "attribution": "Map data: (C) OpenStreetMap contributors | Map style: (C) waymarkedtrails.org (CC-BY-SA)",
       "name": "WaymarkedTrails.riding",
       "options": [
        "attribution",
        "bounds",
        "detect_retina",
        "max_native_zoom",
        "max_zoom",
        "min_native_zoom",
        "min_zoom",
        "no_wrap",
        "tile_size",
        "tms"
       ],
       "url": "https://tile.waymarkedtrails.org/riding/{z}/{x}/{y}.png"
      }
     },
     "872f524b17624bd9bbb86c110547f084": {
      "model_module": "jupyter-leaflet",
      "model_module_version": "^0.17.0",
      "model_name": "LeafletMapStyleModel",
      "state": {
       "_model_module_version": "^0.17.0",
       "cursor": "move"
      }
     },
     "8750cbdd15824f7b93b1999682121937": {
      "model_module": "@jupyter-widgets/base",
      "model_module_version": "1.2.0",
      "model_name": "LayoutModel",
      "state": {}
     },
     "87777550aa9b4820aa2a83eb368560dc": {
      "model_module": "jupyter-leaflet",
      "model_module_version": "^0.17.0",
      "model_name": "LeafletMapModel",
      "state": {
       "_model_module_version": "^0.17.0",
       "_view_module_version": "^0.17.0",
       "bottom": 3134028.89669476,
       "center": [
        41.367504629561765,
        -124.06669991664546
       ],
       "controls": [
        "IPY_MODEL_656a49d5c32a4f6d95740c40dfd16a44",
        "IPY_MODEL_1c5877059514431c9d3f1bf443fc990a",
        "IPY_MODEL_32fc2c8e4d844abf937d88330e3b0ae0",
        "IPY_MODEL_faf265caf98d43ceb43061eb1f62bd90",
        "IPY_MODEL_065ee215ede443f78b79de77cc364e11",
        "IPY_MODEL_36ec97bb0e7d40f0a64ab32d898cb3e9",
        "IPY_MODEL_5b8b36cedef541898413194df6cf6389"
       ],
       "default_style": "IPY_MODEL_45c18ea2785d402f8160012c389d3195",
       "dragging_style": "IPY_MODEL_bccd8e4e7c304637bf29ee11d510a9ba",
       "east": -124.03230326823845,
       "fullscreen": false,
       "interpolation": "bilinear",
       "layers": [
        "IPY_MODEL_b717bddf31704068ac40f5c90ff3dd50",
        "IPY_MODEL_2283e49da50b4e3eb66403f7bf17390f",
        "IPY_MODEL_cca8eb9cb7c54baca3a33997d4843bdb",
        "IPY_MODEL_f0c89922e0f94353b801740902d3cd69",
        "IPY_MODEL_169d578485474669a1d1a19f171c8436",
        "IPY_MODEL_640005caa3b64bbebc3a53000f73d4c9",
        "IPY_MODEL_879669dec848450abf70d332c6fe3629",
        "IPY_MODEL_95c2baf6cbea4cc6bdd237419a9a73ad",
        "IPY_MODEL_e8e3134b33ee4c589d672e60659c9590"
       ],
       "layout": "IPY_MODEL_a936c04a4c1741249beeb1f0912f4944",
       "left": 1302538.857071191,
       "max_zoom": 24,
       "modisdate": "2022-11-15",
       "north": 41.37716612178885,
       "options": [
        "bounce_at_zoom_limits",
        "box_zoom",
        "center",
        "close_popup_on_click",
        "double_click_zoom",
        "dragging",
        "fullscreen",
        "inertia",
        "inertia_deceleration",
        "inertia_max_speed",
        "interpolation",
        "keyboard",
        "keyboard_pan_offset",
        "keyboard_zoom_offset",
        "max_zoom",
        "min_zoom",
        "prefer_canvas",
        "scroll_wheel_zoom",
        "tap",
        "tap_tolerance",
        "touch_zoom",
        "world_copy_jump",
        "zoom",
        "zoom_animation_threshold",
        "zoom_delta",
        "zoom_snap"
       ],
       "prefer_canvas": false,
       "right": 1304141.857071191,
       "scroll_wheel_zoom": true,
       "south": 41.35784170245844,
       "style": "IPY_MODEL_45c18ea2785d402f8160012c389d3195",
       "top": 3133428.89669476,
       "west": -124.10109656505244,
       "window_url": "http://localhost:8888/lab/tree/custom_map.ipynb",
       "zoom": 15
      }
     },
     "879669dec848450abf70d332c6fe3629": {
      "model_module": "jupyter-leaflet",
      "model_module_version": "^0.17.0",
      "model_name": "LeafletGeoJSONModel",
      "state": {
       "_model_module_version": "^0.17.0",
       "_view_module_version": "^0.17.0",
       "data": {
        "geometry": {
         "coordinates": [
          [
           -124.07445491072674,
           41.37016865971562
          ],
          [
           -124.0744226368486,
           41.37030407289387
          ],
          [
           -124.07438097539234,
           41.37043957371252
          ],
          [
           -124.0743531119883,
           41.370546340049366
          ],
          [
           -124.07434533853382,
           41.37057501826379
          ],
          [
           -124.07431974953302,
           41.3707103689902
          ],
          [
           -124.07432423883013,
           41.37084543888546
          ],
          [
           -124.07432859588303,
           41.370980510012096
          ],
          [
           -124.07428254813506,
           41.37111605173423
          ],
          [
           -124.07618365854088,
           41.36190481980152
          ],
          [
           -124.07618467765604,
           41.361910668472234
          ],
          [
           -124.07620333307985,
           41.36204560599793
          ],
          [
           -124.07618724757891,
           41.362122644741866
          ],
          [
           -124.07617554867704,
           41.3621809778441
          ],
          [
           -124.07615760261098,
           41.36231625767199
          ],
          [
           -124.07612832413025,
           41.36245164347395
          ],
          [
           -124.07610327755431,
           41.3625869896905
          ],
          [
           -124.0760176237146,
           41.362712233133294
          ],
          [
           -124.07600623326229,
           41.36272300915843
          ],
          [
           -124.07590351959364,
           41.36285908155088
          ]
         ],
         "type": "LineString"
        },
        "id": "1",
        "properties": {
         "cloud_cover": 0,
         "date": "2019-02-10 18:56:59",
         "geoaccuracy": 9.477999687194824,
         "satname": "L8",
         "style": {
          "color": "#f0f921",
          "opacity": 1,
          "weight": 4
         }
        },
        "type": "Feature"
       },
       "hover_style": {
        "color": "red",
        "dashArray": "4",
        "fillOpacity": 0.7
       },
       "name": "ID0_2019-02-10 18:56:59",
       "style": {
        "color": "#f0f921",
        "opacity": 1,
        "weight": 4
       }
      }
     },
     "87e6af28e40c48afbd65f13e47e911c7": {
      "model_module": "@jupyter-widgets/controls",
      "model_module_version": "1.5.0",
      "model_name": "VBoxModel",
      "state": {
       "_view_count": 1,
       "children": [
        "IPY_MODEL_ed9fb8c87f1c4bb1a6ed3b20fc18f954"
       ],
       "layout": "IPY_MODEL_44611a600fde457da709fba09ecc4003"
      }
     },
     "883402fcdcab4162be9693ca815a7591": {
      "model_module": "jupyter-leaflet",
      "model_module_version": "^0.17.0",
      "model_name": "LeafletTileLayerModel",
      "state": {
       "_model_module_version": "^0.17.0",
       "_view_module_version": "^0.17.0",
       "attribution": "![](https://docs.onemap.sg/maps/images/oneMap64-01.png) New OneMap | Map data (C) contributors, Singapore Land Authority",
       "name": "OneMapSG.Default",
       "options": [
        "attribution",
        "bounds",
        "detect_retina",
        "max_native_zoom",
        "max_zoom",
        "min_native_zoom",
        "min_zoom",
        "no_wrap",
        "tile_size",
        "tms"
       ],
       "url": "https://maps-a.onemap.sg/v3/Default/{z}/{x}/{y}.png"
      }
     },
     "8937e9e081834d4d8cd4151bcca02e1d": {
      "model_module": "@jupyter-widgets/controls",
      "model_module_version": "1.5.0",
      "model_name": "DescriptionStyleModel",
      "state": {
       "description_width": ""
      }
     },
     "894eca32118a47a3bb7671a77415fa4d": {
      "model_module": "@jupyter-widgets/base",
      "model_module_version": "1.2.0",
      "model_name": "LayoutModel",
      "state": {
       "padding": "10px"
      }
     },
     "897916b89baf4c479045f6235a23b612": {
      "model_module": "@jupyter-widgets/controls",
      "model_module_version": "1.5.0",
      "model_name": "HBoxModel",
      "state": {
       "children": [
        "IPY_MODEL_3e5831d160d74a4ea9ac3cbdcc1054d2",
        "IPY_MODEL_23582c8d223c4c97a8de1d6b6b12290c"
       ],
       "layout": "IPY_MODEL_6b02aefd132f46fbbb4a3a5d5978fe78"
      }
     },
     "89cb1d4fe034493082279ef539742e45": {
      "model_module": "@jupyter-widgets/base",
      "model_module_version": "1.2.0",
      "model_name": "LayoutModel",
      "state": {}
     },
     "8bef8acdd39a4a20b562f52b8fb36ee6": {
      "model_module": "@jupyter-widgets/controls",
      "model_module_version": "1.5.0",
      "model_name": "DescriptionStyleModel",
      "state": {
       "description_width": ""
      }
     },
     "8c01712950fc4aa48c32b197a33bfa4e": {
      "model_module": "@jupyter-widgets/controls",
      "model_module_version": "1.5.0",
      "model_name": "DescriptionStyleModel",
      "state": {
       "description_width": ""
      }
     },
     "8c36ed79dd294247828afe93c0f35366": {
      "model_module": "@jupyter-widgets/base",
      "model_module_version": "1.2.0",
      "model_name": "LayoutModel",
      "state": {}
     },
     "8c6d66852e7f425db25721e6a32ed8b1": {
      "model_module": "ipyevents",
      "model_module_version": "2.0.1",
      "model_name": "EventModel",
      "state": {
       "_supported_key_events": [
        "keydown",
        "keyup"
       ],
       "_supported_mouse_events": [
        "click",
        "auxclick",
        "dblclick",
        "mouseenter",
        "mouseleave",
        "mousedown",
        "mouseup",
        "mousemove",
        "wheel",
        "contextmenu",
        "dragstart",
        "drag",
        "dragend",
        "dragenter",
        "dragover",
        "dragleave",
        "drop"
       ],
       "_supported_touch_events": [
        "touchstart",
        "touchend",
        "touchmove",
        "touchcancel"
       ],
       "_view_module": "@jupyter-widgets/controls",
       "_view_module_version": "1.5.0",
       "source": "IPY_MODEL_87e6af28e40c48afbd65f13e47e911c7",
       "throttle_or_debounce": "",
       "watched_events": [
        "mouseenter",
        "mouseleave"
       ],
       "xy_coordinate_system": ""
      }
     },
     "8cf07ac2c4b44345ba9c06bc30b66697": {
      "model_module": "@jupyter-widgets/controls",
      "model_module_version": "1.5.0",
      "model_name": "ButtonStyleModel",
      "state": {
       "button_color": "#69add1"
      }
     },
     "8d2aa457496243398a6b276c8c5e1d6f": {
      "model_module": "@jupyter-widgets/base",
      "model_module_version": "1.2.0",
      "model_name": "LayoutModel",
      "state": {
       "margin": "0px 20px 20px 20px"
      }
     },
     "8deea6aedb2b4ee3830671a724ca55f5": {
      "model_module": "jupyter-leaflet",
      "model_module_version": "^0.17.0",
      "model_name": "LeafletTileLayerModel",
      "state": {
       "_model_module_version": "^0.17.0",
       "_view_module_version": "^0.17.0",
       "attribution": "Datenquelle: basemap.at",
       "max_zoom": 19,
       "name": "BasemapAT.terrain",
       "options": [
        "attribution",
        "bounds",
        "detect_retina",
        "max_native_zoom",
        "max_zoom",
        "min_native_zoom",
        "min_zoom",
        "no_wrap",
        "tile_size",
        "tms"
       ],
       "url": "https://maps.wien.gv.at/basemap/bmapgelaende/grau/google3857/{z}/{y}/{x}.jpeg"
      }
     },
     "8e37f88044de46978e756e66cb0115d3": {
      "model_module": "@jupyter-widgets/base",
      "model_module_version": "1.2.0",
      "model_name": "LayoutModel",
      "state": {}
     },
     "8f7d04c247054d95ad15debfe2ffaf30": {
      "model_module": "@jupyter-widgets/controls",
      "model_module_version": "1.5.0",
      "model_name": "ButtonStyleModel",
      "state": {
       "button_color": "#69add1"
      }
     },
     "8fabddf12ed147fbaeae697131515fc6": {
      "model_module": "@jupyter-widgets/base",
      "model_module_version": "1.2.0",
      "model_name": "LayoutModel",
      "state": {}
     },
     "903e79d8f1ca41e5a77f18fdcd4b49f8": {
      "model_module": "@jupyter-widgets/controls",
      "model_module_version": "1.5.0",
      "model_name": "DescriptionStyleModel",
      "state": {
       "description_width": ""
      }
     },
     "909960973ebd485bb76f10ed8cb50374": {
      "model_module": "jupyter-leaflet",
      "model_module_version": "^0.17.0",
      "model_name": "LeafletTileLayerModel",
      "state": {
       "_model_module_version": "^0.17.0",
       "_view_module_version": "^0.17.0",
       "attribution": "(C) OpenStreetMap contributors",
       "name": "OpenStreetMap.BlackAndWhite",
       "options": [
        "attribution",
        "bounds",
        "detect_retina",
        "max_native_zoom",
        "max_zoom",
        "min_native_zoom",
        "min_zoom",
        "no_wrap",
        "tile_size",
        "tms"
       ],
       "url": "http://a.tiles.wmflabs.org/bw-mapnik/{z}/{x}/{y}.png"
      }
     },
     "90fd5c36bbdd44f3970781c1217f1d87": {
      "model_module": "@jupyter-widgets/base",
      "model_module_version": "1.2.0",
      "model_name": "LayoutModel",
      "state": {}
     },
     "9138c678b3f6413b808e09fd6897c542": {
      "model_module": "@jupyter-widgets/controls",
      "model_module_version": "1.5.0",
      "model_name": "ToggleButtonModel",
      "state": {
       "button_style": "primary",
       "icon": "fast-forward",
       "layout": "IPY_MODEL_c6f330d700d14af397d8c8977620e7b3",
       "style": "IPY_MODEL_c6ac0e9be9404d1eae78e2c29b9f0057",
       "tooltip": "Activate the time slider"
      }
     },
     "92df1fd1f16b4b588aa9a4859223e8f4": {
      "model_module": "@jupyter-widgets/controls",
      "model_module_version": "1.5.0",
      "model_name": "ToggleButtonModel",
      "state": {
       "button_style": "primary",
       "icon": "pencil-square-o",
       "layout": "IPY_MODEL_9760c69eeeef40e29731333b9885e870",
       "style": "IPY_MODEL_7b9116ae9c274a018255c8b75a41bdbe",
       "tooltip": "Create vector data"
      }
     },
     "931e978d52be42b8b5ecf2f2e71c7c24": {
      "model_module": "@jupyter-widgets/base",
      "model_module_version": "1.2.0",
      "model_name": "LayoutModel",
      "state": {
       "height": "auto",
       "padding": "0px 0px 0px 4px",
       "width": "auto"
      }
     },
     "940ae3db893240c88f25082f95e40468": {
      "model_module": "@jupyter-widgets/controls",
      "model_module_version": "1.5.0",
      "model_name": "IntSliderModel",
      "state": {
       "continuous_update": false,
       "description": "Large Grid:",
       "layout": "IPY_MODEL_49408f3d68ca4b499309b05395b67aa0",
       "max": 10000,
       "min": 1000,
       "step": 100,
       "style": "IPY_MODEL_248531848f3b4b1a87eb1d2660c660af",
       "value": 4000
      }
     },
     "941a66c8b11c41ae8e294214d637aeff": {
      "model_module": "jupyter-leaflet",
      "model_module_version": "^0.17.0",
      "model_name": "LeafletTileLayerModel",
      "state": {
       "_model_module_version": "^0.17.0",
       "_view_module_version": "^0.17.0",
       "attribution": "Kaartgegevens (C) Kadaster",
       "max_zoom": 19,
       "name": "nlmaps.luchtfoto",
       "options": [
        "attribution",
        "bounds",
        "detect_retina",
        "max_native_zoom",
        "max_zoom",
        "min_native_zoom",
        "min_zoom",
        "no_wrap",
        "tile_size",
        "tms"
       ],
       "url": "https://service.pdok.nl/hwh/luchtfotorgb/wmts/v1_0/Actueel_ortho25/EPSG:3857/{z}/{x}/{y}.jpeg"
      }
     },
     "9476277050dc4b379511f261d8fecf58": {
      "model_module": "@jupyter-widgets/controls",
      "model_module_version": "1.5.0",
      "model_name": "DescriptionStyleModel",
      "state": {
       "description_width": ""
      }
     },
     "94e1ccd8e1534b688086733fdbee0d68": {
      "model_module": "@jupyter-widgets/controls",
      "model_module_version": "1.5.0",
      "model_name": "ToggleButtonModel",
      "state": {
       "button_style": "primary",
       "icon": "fast-forward",
       "layout": "IPY_MODEL_c2f77e0b10394fba86b7654ca1b3058b",
       "style": "IPY_MODEL_7195997e51404e998cbe9c5c1e0438e3",
       "tooltip": "Activate the time slider"
      }
     },
     "94f4d35250784e49a2194bc66e3a2cbd": {
      "model_module": "@jupyter-widgets/base",
      "model_module_version": "1.2.0",
      "model_name": "LayoutModel",
      "state": {
       "margin": "0px 5px 0px 5px"
      }
     },
     "95220f6149b148b5992066ff91d2228b": {
      "model_module": "@jupyter-widgets/base",
      "model_module_version": "1.2.0",
      "model_name": "LayoutModel",
      "state": {
       "height": "auto",
       "padding": "0px 0px 0px 4px",
       "width": "auto"
      }
     },
     "95bc8b23158c4e5ab3431d6100222bee": {
      "model_module": "@jupyter-widgets/base",
      "model_module_version": "1.2.0",
      "model_name": "LayoutModel",
      "state": {}
     },
     "95c2baf6cbea4cc6bdd237419a9a73ad": {
      "model_module": "jupyter-leaflet",
      "model_module_version": "^0.17.0",
      "model_name": "LeafletGeoJSONModel",
      "state": {
       "_model_module_version": "^0.17.0",
       "_view_module_version": "^0.17.0",
       "data": {
        "geometry": {
         "coordinates": [
          [
           -124.07163307266067,
           41.38762437593017
          ],
          [
           -124.07161771145087,
           41.387759630440684
          ],
          [
           -124.07158761937148,
           41.387825951181384
          ],
          [
           -124.0715655944146,
           41.387895227267435
          ],
          [
           -124.07153218357413,
           41.3880306498599
          ],
          [
           -124.07152800067054,
           41.3881658002465
          ],
          [
           -124.07152454876187,
           41.388300943822266
          ],
          [
           -124.07150582728022,
           41.38843622959727
          ],
          [
           -124.07148577223045,
           41.38857152778532
          ],
          [
           -124.07143547959947,
           41.38870710754718
          ],
          [
           -124.07142310714863,
           41.38873316097771
          ]
         ],
         "type": "LineString"
        },
        "id": "0",
        "properties": {
         "cloud_cover": 0,
         "date": "2019-01-25 18:57:02",
         "geoaccuracy": 8.763999938964844,
         "satname": "L8",
         "style": {
          "color": "#0d0887",
          "opacity": 1,
          "weight": 4
         }
        },
        "type": "Feature"
       },
       "hover_style": {
        "color": "red",
        "dashArray": "4",
        "fillOpacity": 0.7
       },
       "name": "ID1_2019-01-25 18:57:02",
       "style": {
        "color": "#0d0887",
        "opacity": 1,
        "weight": 4
       }
      }
     },
     "95c33e0e4ed84621a369b5b76a8a36d0": {
      "model_module": "@jupyter-widgets/base",
      "model_module_version": "1.2.0",
      "model_name": "LayoutModel",
      "state": {}
     },
     "95fa5bd3cc5147208bc6e161e4e6dcd4": {
      "model_module": "@jupyter-widgets/controls",
      "model_module_version": "1.5.0",
      "model_name": "ToggleButtonModel",
      "state": {
       "button_style": "primary",
       "icon": "folder-open",
       "layout": "IPY_MODEL_a76dfcc03d3047e98a99c886f47ecdf9",
       "style": "IPY_MODEL_677ea1e78f0844c09e776875e05c591b",
       "tooltip": "Open local vector/raster data"
      }
     },
     "9657c31a1b55498da218e22b221fca38": {
      "model_module": "@jupyter-widgets/controls",
      "model_module_version": "1.5.0",
      "model_name": "DescriptionStyleModel",
      "state": {
       "description_width": ""
      }
     },
     "9760c69eeeef40e29731333b9885e870": {
      "model_module": "@jupyter-widgets/base",
      "model_module_version": "1.2.0",
      "model_name": "LayoutModel",
      "state": {
       "height": "auto",
       "padding": "0px 0px 0px 4px",
       "width": "auto"
      }
     },
     "976c36b5ef80410ea366cf15d9fdc8a2": {
      "model_module": "@jupyter-widgets/controls",
      "model_module_version": "1.5.0",
      "model_name": "ButtonStyleModel",
      "state": {
       "button_color": "#ae3cf0"
      }
     },
     "978675d9661d4f149618894ffed3adcc": {
      "model_module": "@jupyter-widgets/base",
      "model_module_version": "1.2.0",
      "model_name": "LayoutModel",
      "state": {
       "margin": "0px 5px 0px 0px"
      }
     },
     "97afb7028139466a9b84945b3d92cb8a": {
      "model_module": "@jupyter-widgets/base",
      "model_module_version": "1.2.0",
      "model_name": "LayoutModel",
      "state": {
       "height": "auto",
       "padding": "0px 0px 0px 4px",
       "width": "auto"
      }
     },
     "97bd31e4248744db90844b9dc0088d7f": {
      "model_module": "@jupyter-widgets/controls",
      "model_module_version": "1.5.0",
      "model_name": "ButtonModel",
      "state": {
       "description": "Remove all",
       "layout": "IPY_MODEL_4f052b143a9843ceaa60fc63b4ec808b",
       "style": "IPY_MODEL_284721fd1b4d4a0b863d585dc3a1207a"
      }
     },
     "98b0f5fa10d3452191a8f22b43bcd612": {
      "model_module": "jupyter-leaflet",
      "model_module_version": "^0.17.0",
      "model_name": "LeafletTileLayerModel",
      "state": {
       "_model_module_version": "^0.17.0",
       "_view_module_version": "^0.17.0",
       "attribution": "Datenquelle: basemap.at",
       "max_zoom": 19,
       "name": "BasemapAT.surface",
       "options": [
        "attribution",
        "bounds",
        "detect_retina",
        "max_native_zoom",
        "max_zoom",
        "min_native_zoom",
        "min_zoom",
        "no_wrap",
        "tile_size",
        "tms"
       ],
       "url": "https://maps.wien.gv.at/basemap/bmapoberflaeche/grau/google3857/{z}/{y}/{x}.jpeg"
      }
     },
     "98b40ad742ea4e2b9dd03006fd0e64f3": {
      "model_module": "jupyter-leaflet",
      "model_module_version": "^0.17.0",
      "model_name": "LeafletTileLayerModel",
      "state": {
       "_model_module_version": "^0.17.0",
       "_view_module_version": "^0.17.0",
       "attribution": "Justice Map",
       "max_zoom": 22,
       "name": "JusticeMap.americanIndian",
       "options": [
        "attribution",
        "bounds",
        "detect_retina",
        "max_native_zoom",
        "max_zoom",
        "min_native_zoom",
        "min_zoom",
        "no_wrap",
        "tile_size",
        "tms"
       ],
       "url": "https://www.justicemap.org/tile/county/indian/{z}/{x}/{y}.png"
      }
     },
     "98dcf2a852ef4b33b6173a17f04d1a47": {
      "model_module": "@jupyter-widgets/controls",
      "model_module_version": "1.5.0",
      "model_name": "VBoxModel",
      "state": {
       "children": [
        "IPY_MODEL_194fb56bfac44100937273473f8c0e58",
        "IPY_MODEL_0e5f70336ce04f728bdb20c0928e65c8",
        "IPY_MODEL_0ea5ff1e0ee64458ba090572df12dd74",
        "IPY_MODEL_bb54dfad66614a0194833378080269f5",
        "IPY_MODEL_1627e139123447b48fad5eb01f1f9509",
        "IPY_MODEL_7e3567592cc54518ae41850749b5bd1a"
       ],
       "layout": "IPY_MODEL_8c36ed79dd294247828afe93c0f35366"
      }
     },
     "9a11908700294f34af542d6129f51c01": {
      "model_module": "@jupyter-widgets/controls",
      "model_module_version": "1.5.0",
      "model_name": "ToggleButtonModel",
      "state": {
       "button_style": "primary",
       "icon": "globe",
       "layout": "IPY_MODEL_af5cbd9b33a9447b8a18cce0e7a43b86",
       "style": "IPY_MODEL_6add0995d4c84c6cb36d4130f4ae2d9b",
       "tooltip": "Split-panel map"
      }
     },
     "9adad8002c1749f091d3490dc8457bed": {
      "model_module": "jupyter-leaflet",
      "model_module_version": "^0.17.0",
      "model_name": "LeafletTileLayerModel",
      "state": {
       "_model_module_version": "^0.17.0",
       "_view_module_version": "^0.17.0",
       "attribution": "(C) Stadia Maps, (C) OpenMapTiles (C) OpenStreetMap contributors",
       "max_zoom": 20,
       "name": "Stadia.AlidadeSmooth",
       "options": [
        "attribution",
        "bounds",
        "detect_retina",
        "max_native_zoom",
        "max_zoom",
        "min_native_zoom",
        "min_zoom",
        "no_wrap",
        "tile_size",
        "tms"
       ],
       "url": "https://tiles.stadiamaps.com/tiles/alidade_smooth/{z}/{x}/{y}.png"
      }
     },
     "9add25d362444de69b1fcbc6c6811005": {
      "model_module": "jupyter-leaflet",
      "model_module_version": "^0.17.0",
      "model_name": "LeafletWidgetControlModel",
      "state": {
       "_model_module": "jupyter-leaflet",
       "_model_module_version": "^0.17.0",
       "_view_count": null,
       "_view_module": "jupyter-leaflet",
       "_view_module_version": "^0.17.0",
       "options": [
        "position",
        "transparent_bg"
       ],
       "position": "topright",
       "widget": "IPY_MODEL_87e6af28e40c48afbd65f13e47e911c7"
      }
     },
     "9b5c3f92623549d2af48c581d0594903": {
      "model_module": "@jupyter-widgets/controls",
      "model_module_version": "1.5.0",
      "model_name": "ButtonStyleModel",
      "state": {
       "button_color": "red"
      }
     },
     "9bada14dd6684df28463f45ab0688674": {
      "model_module": "@jupyter-widgets/controls",
      "model_module_version": "1.5.0",
      "model_name": "ToggleButtonModel",
      "state": {
       "button_style": "primary",
       "icon": "search-plus",
       "layout": "IPY_MODEL_fd5cb25a643740fc813eb3cb5e6d5095",
       "style": "IPY_MODEL_a0d88b5f9fd045e290b62d20cd0e9fba",
       "tooltip": "Search features in GeoJSON layer"
      }
     },
     "9bba941e4c704b1480229bf66c7711d7": {
      "model_module": "@jupyter-widgets/controls",
      "model_module_version": "1.5.0",
      "model_name": "ToggleButtonModel",
      "state": {
       "button_style": "primary",
       "icon": "map",
       "layout": "IPY_MODEL_d9eb7065f47041adab65321ad9ad76d6",
       "style": "IPY_MODEL_2e2e80020c0b4f1ab39ab907e5ce8eb1",
       "tooltip": "Change basemap"
      }
     },
     "9ca2fb1e103b4e30a1b0ef8626bc9aa5": {
      "model_module": "@jupyter-widgets/controls",
      "model_module_version": "1.5.0",
      "model_name": "DescriptionStyleModel",
      "state": {
       "description_width": ""
      }
     },
     "9cf3f1bb190d4fa99decfe82766c5553": {
      "model_module": "@jupyter-widgets/base",
      "model_module_version": "1.2.0",
      "model_name": "LayoutModel",
      "state": {
       "height": "auto",
       "padding": "0px 0px 0px 4px",
       "width": "auto"
      }
     },
     "9cfdd14f90e841159b2d5b74cc3deea3": {
      "model_module": "@jupyter-widgets/controls",
      "model_module_version": "1.5.0",
      "model_name": "VBoxModel",
      "state": {
       "_view_count": 1,
       "children": [
        "IPY_MODEL_d9fa58f3ac15463282f6e72a1abf84e9"
       ],
       "layout": "IPY_MODEL_72f80b7d684347708dec88ebf8445133"
      }
     },
     "9d0a658bc3e54aedb7d0be7b6b820493": {
      "model_module": "@jupyter-widgets/controls",
      "model_module_version": "1.5.0",
      "model_name": "HBoxModel",
      "state": {
       "children": [
        "IPY_MODEL_c92a7dd00fbc43088b8e0b76796a491b",
        "IPY_MODEL_ea0d3cd004c1480e83da9667c722e8f5"
       ],
       "layout": "IPY_MODEL_aecad09d73f248a9ab6dbd378d2bc6a3"
      }
     },
     "9d14cc141df24e78a6133deefb4513ae": {
      "model_module": "jupyter-leaflet",
      "model_module_version": "^0.17.0",
      "model_name": "LeafletWMSLayerModel",
      "state": {
       "_model_module_version": "^0.17.0",
       "_view_module_version": "^0.17.0",
       "attribution": "USGS",
       "crs": {
        "custom": false,
        "name": "EPSG3857"
       },
       "format": "image/png",
       "layers": "USGSNAIPImagery:FalseColorComposite",
       "name": "USGS NAIP Imagery False Color",
       "options": [
        "attribution",
        "bounds",
        "detect_retina",
        "format",
        "layers",
        "max_native_zoom",
        "max_zoom",
        "min_native_zoom",
        "min_zoom",
        "no_wrap",
        "styles",
        "tile_size",
        "tms",
        "transparent",
        "uppercase"
       ],
       "transparent": true,
       "url": "https://imagery.nationalmap.gov/arcgis/services/USGSNAIPImagery/ImageServer/WMSServer?"
      }
     },
     "9d27f35577b74d60a206933f0ba6bfee": {
      "model_module": "@jupyter-widgets/base",
      "model_module_version": "1.2.0",
      "model_name": "LayoutModel",
      "state": {
       "margin": "0px 5px 0px 0px"
      }
     },
     "9d7a61100e7c47e3b14cc4508e561e2b": {
      "model_module": "@jupyter-widgets/base",
      "model_module_version": "1.2.0",
      "model_name": "LayoutModel",
      "state": {
       "height": "28px",
       "width": "72px"
      }
     },
     "9e2fbadb4892477b81fe890dfb86061d": {
      "model_module": "@jupyter-widgets/controls",
      "model_module_version": "1.5.0",
      "model_name": "DescriptionStyleModel",
      "state": {
       "description_width": ""
      }
     },
     "9e7df3d0fa8848b1acab6a8492d53d15": {
      "model_module": "@jupyter-widgets/controls",
      "model_module_version": "1.5.0",
      "model_name": "DescriptionStyleModel",
      "state": {
       "description_width": ""
      }
     },
     "9ebd3eb34f1244ccb64a4eaac032b89d": {
      "model_module": "@jupyter-widgets/controls",
      "model_module_version": "1.5.0",
      "model_name": "DescriptionStyleModel",
      "state": {
       "description_width": ""
      }
     },
     "9ee8619a12384eefae4ddb0ca5276256": {
      "model_module": "jupyter-leaflet",
      "model_module_version": "^0.17.0",
      "model_name": "LeafletTileLayerModel",
      "state": {
       "_model_module_version": "^0.17.0",
       "_view_module_version": "^0.17.0",
       "attribution": "Imagery provided by services from the Global Imagery Browse Services (GIBS), operated by the NASA/GSFC/Earth Science Data and Information System (ESDIS) with funding provided by NASA/HQ.",
       "max_zoom": 8,
       "name": "NASAGIBS.ViirsEarthAtNight2012",
       "options": [
        "attribution",
        "bounds",
        "detect_retina",
        "max_native_zoom",
        "max_zoom",
        "min_native_zoom",
        "min_zoom",
        "no_wrap",
        "tile_size",
        "tms"
       ],
       "url": "https://map1.vis.earthdata.nasa.gov/wmts-webmerc/VIIRS_CityLights_2012/default//GoogleMapsCompatible_Level8/{z}/{y}/{x}.jpg"
      }
     },
     "9f1df64923d848d594d4808bdc100cd6": {
      "model_module": "jupyter-leaflet",
      "model_module_version": "^0.17.0",
      "model_name": "LeafletWMSLayerModel",
      "state": {
       "_model_module_version": "^0.17.0",
       "_view_module_version": "^0.17.0",
       "attribution": "MRLC",
       "crs": {
        "custom": false,
        "name": "EPSG3857"
       },
       "format": "image/png",
       "layers": "NLCD_2006_Land_Cover_L48",
       "name": "NLCD 2006 CONUS Land Cover",
       "options": [
        "attribution",
        "bounds",
        "detect_retina",
        "format",
        "layers",
        "max_native_zoom",
        "max_zoom",
        "min_native_zoom",
        "min_zoom",
        "no_wrap",
        "styles",
        "tile_size",
        "tms",
        "transparent",
        "uppercase"
       ],
       "transparent": true,
       "url": "https://www.mrlc.gov/geoserver/mrlc_display/NLCD_2006_Land_Cover_L48/wms?"
      }
     },
     "9f6895fed9f740fe84fcd4b4e7813a16": {
      "model_module": "@jupyter-widgets/base",
      "model_module_version": "1.2.0",
      "model_name": "LayoutModel",
      "state": {}
     },
     "9f6b390a3f4246c383b8040ab93cf868": {
      "model_module": "jupyter-leaflet",
      "model_module_version": "^0.17.0",
      "model_name": "LeafletAttributionControlModel",
      "state": {
       "_model_module_version": "^0.17.0",
       "_view_module_version": "^0.17.0",
       "options": [
        "position",
        "prefix"
       ],
       "position": "bottomright",
       "prefix": "ipyleaflet"
      }
     },
     "a05224e9aa71418d9821323011650ded": {
      "model_module": "@jupyter-widgets/controls",
      "model_module_version": "1.5.0",
      "model_name": "VBoxModel",
      "state": {
       "children": [
        "IPY_MODEL_09b38a2f214b414ea01c939738a62a44",
        "IPY_MODEL_73aae5ca09284cd1a5aa1aa13a3a92e4",
        "IPY_MODEL_e5feed5bbb254951a5a5885fa4e0f85e"
       ],
       "layout": "IPY_MODEL_e348e723fd854750b95494c12608dc68"
      }
     },
     "a0c4db0c65184fee9d95e19013fbca25": {
      "model_module": "@jupyter-widgets/controls",
      "model_module_version": "1.5.0",
      "model_name": "ButtonModel",
      "state": {
       "description": "Load Config",
       "layout": "IPY_MODEL_8e37f88044de46978e756e66cb0115d3",
       "style": "IPY_MODEL_da2c91a68d174631965b60869048cc89"
      }
     },
     "a0d88b5f9fd045e290b62d20cd0e9fba": {
      "model_module": "@jupyter-widgets/controls",
      "model_module_version": "1.5.0",
      "model_name": "DescriptionStyleModel",
      "state": {
       "description_width": ""
      }
     },
     "a1bf7746cbab4e76a2bbd844bcce902f": {
      "model_module": "jupyter-leaflet",
      "model_module_version": "^0.17.0",
      "model_name": "LeafletTileLayerModel",
      "state": {
       "_model_module_version": "^0.17.0",
       "_view_module_version": "^0.17.0",
       "attribution": "Map data: (C) OpenStreetMap contributors & ODbL, (C) www.opensnowmap.org CC-BY-SA",
       "name": "OpenSnowMap.pistes",
       "options": [
        "attribution",
        "bounds",
        "detect_retina",
        "max_native_zoom",
        "max_zoom",
        "min_native_zoom",
        "min_zoom",
        "no_wrap",
        "tile_size",
        "tms"
       ],
       "url": "https://tiles.opensnowmap.org/pistes/{z}/{x}/{y}.png"
      }
     },
     "a1f4d55dd6c7440d84e3d2957abebbf3": {
      "model_module": "@jupyter-widgets/controls",
      "model_module_version": "1.5.0",
      "model_name": "ButtonStyleModel",
      "state": {
       "button_color": "#ae3cf0"
      }
     },
     "a231c3c64e6c4071b8fcf37d6f3b6e07": {
      "model_module": "jupyter-leaflet",
      "model_module_version": "^0.17.0",
      "model_name": "LeafletTileLayerModel",
      "state": {
       "_model_module_version": "^0.17.0",
       "_view_module_version": "^0.17.0",
       "attribution": "(C) OpenStreetMap contributors",
       "name": "OpenStreetMap.DE",
       "options": [
        "attribution",
        "bounds",
        "detect_retina",
        "max_native_zoom",
        "max_zoom",
        "min_native_zoom",
        "min_zoom",
        "no_wrap",
        "tile_size",
        "tms"
       ],
       "url": "https://a.tile.openstreetmap.de/{z}/{x}/{y}.png"
      }
     },
     "a23b04745a8b48e48b06850ebdcb2ce7": {
      "model_module": "@jupyter-widgets/controls",
      "model_module_version": "1.5.0",
      "model_name": "ButtonStyleModel",
      "state": {
       "button_color": "#50bf8f"
      }
     },
     "a30d0cad155c432baebd2f4016c0af3d": {
      "model_module": "@jupyter-widgets/controls",
      "model_module_version": "1.5.0",
      "model_name": "AccordionModel",
      "state": {
       "_titles": {
        "0": "Settings"
       },
       "children": [
        "IPY_MODEL_77525ec6d4694474b72e6ce8368f1402"
       ],
       "layout": "IPY_MODEL_f24bb2466be244f1aa3c14e48590c5c4"
      }
     },
     "a33834ffd88842b182883d6114d9c2ca": {
      "model_module": "jupyter-leaflet",
      "model_module_version": "^0.17.0",
      "model_name": "LeafletMapModel",
      "state": {
       "_model_module_version": "^0.17.0",
       "_view_module_version": "^0.17.0",
       "bottom": 787633,
       "center": [
        40.8630302395,
        -124.166267
       ],
       "controls": [
        "IPY_MODEL_42bf26ea7b5e486da886da36571acb8a",
        "IPY_MODEL_9f6b390a3f4246c383b8040ab93cf868",
        "IPY_MODEL_4ca11450f0df4da3aeb4d999eda8c843",
        "IPY_MODEL_9add25d362444de69b1fcbc6c6811005",
        "IPY_MODEL_088e71c403a94f8183c93f3f2ed969d2",
        "IPY_MODEL_204cf1fba4a341f399a12e0c6f465d6a",
        "IPY_MODEL_b023465e49c34c648ac67b9af4c60dce"
       ],
       "default_style": "IPY_MODEL_f08d6be8d53a47aa89339f963f8d6f27",
       "dragging_style": "IPY_MODEL_872f524b17624bd9bbb86c110547f084",
       "east": -124.02860641479494,
       "fullscreen": false,
       "interpolation": "bilinear",
       "layers": [
        "IPY_MODEL_cfd4370daf52445abe0f772e22f9cd81"
       ],
       "layout": "IPY_MODEL_082333cbb83448eea91aea16043aa5eb",
       "left": 324454,
       "max_zoom": 24,
       "modisdate": "2022-11-15",
       "north": 40.901966102052945,
       "options": [
        "bounce_at_zoom_limits",
        "box_zoom",
        "center",
        "close_popup_on_click",
        "double_click_zoom",
        "dragging",
        "fullscreen",
        "inertia",
        "inertia_deceleration",
        "inertia_max_speed",
        "interpolation",
        "keyboard",
        "keyboard_pan_offset",
        "keyboard_zoom_offset",
        "max_zoom",
        "min_zoom",
        "prefer_canvas",
        "scroll_wheel_zoom",
        "tap",
        "tap_tolerance",
        "touch_zoom",
        "world_copy_jump",
        "zoom",
        "zoom_animation_threshold",
        "zoom_delta",
        "zoom_snap"
       ],
       "prefer_canvas": false,
       "right": 326057,
       "scroll_wheel_zoom": true,
       "south": 40.82407209894057,
       "style": "IPY_MODEL_0acf1617c5a24ddfae811e52b79f9808",
       "top": 787033,
       "west": -124.3037796020508,
       "window_url": "http://localhost:8888/lab/tree/custom_map.ipynb",
       "zoom": 13
      }
     },
     "a36f394e31e9445f8e69078aeade87bb": {
      "model_module": "jupyter-leaflet",
      "model_module_version": "^0.17.0",
      "model_name": "LeafletTileLayerModel",
      "state": {
       "_model_module_version": "^0.17.0",
       "_view_module_version": "^0.17.0",
       "attribution": "![](https://docs.onemap.sg/maps/images/oneMap64-01.png) New OneMap | Map data (C) contributors, Singapore Land Authority",
       "name": "OneMapSG.Original",
       "options": [
        "attribution",
        "bounds",
        "detect_retina",
        "max_native_zoom",
        "max_zoom",
        "min_native_zoom",
        "min_zoom",
        "no_wrap",
        "tile_size",
        "tms"
       ],
       "url": "https://maps-a.onemap.sg/v3/Original/{z}/{x}/{y}.png"
      }
     },
     "a3fd1644d1e149febada6524ae2c6606": {
      "model_module": "jupyter-leaflet",
      "model_module_version": "^0.17.0",
      "model_name": "LeafletWMSLayerModel",
      "state": {
       "_model_module_version": "^0.17.0",
       "_view_module_version": "^0.17.0",
       "attribution": "ESA",
       "crs": {
        "custom": false,
        "name": "EPSG3857"
       },
       "format": "image/png",
       "layers": "WORLDCOVER_2020_S2_FCC",
       "name": "ESA Worldcover 2020 S2 FCC",
       "options": [
        "attribution",
        "bounds",
        "detect_retina",
        "format",
        "layers",
        "max_native_zoom",
        "max_zoom",
        "min_native_zoom",
        "min_zoom",
        "no_wrap",
        "styles",
        "tile_size",
        "tms",
        "transparent",
        "uppercase"
       ],
       "transparent": true,
       "url": "https://services.terrascope.be/wms/v2"
      }
     },
     "a4884c1153a142cc88fda54e24304cc4": {
      "model_module": "@jupyter-widgets/controls",
      "model_module_version": "1.5.0",
      "model_name": "HTMLModel",
      "state": {
       "layout": "IPY_MODEL_729cc5cde65f40df9e594df51fa8509e",
       "style": "IPY_MODEL_f2f1b0ee84ee472196e4d22ea7b72c52",
       "value": "<b>Pick multiple satellites:</b>                <br> - Pick multiple satellites by holding the control key>                 <br> - images after 2022/01/01 will be automatically downloaded from Collection 2 "
      }
     },
     "a5d8083089a94364a6e4fef8513b6a24": {
      "model_module": "@jupyter-widgets/controls",
      "model_module_version": "1.5.0",
      "model_name": "VBoxModel",
      "state": {
       "children": [
        "IPY_MODEL_41e8031181a54a7fa2ad28dca0e5188c"
       ],
       "layout": "IPY_MODEL_02d32272f02d418aa0530d83339001c7"
      }
     },
     "a6ca4468dc894cbfa738c963a45dadd0": {
      "model_module": "@jupyter-widgets/controls",
      "model_module_version": "1.5.0",
      "model_name": "ButtonStyleModel",
      "state": {
       "button_color": "#69add1"
      }
     },
     "a70ea6ab87e34285a5c08b5639a72eb9": {
      "model_module": "jupyter-leaflet",
      "model_module_version": "^0.17.0",
      "model_name": "LeafletWMSLayerModel",
      "state": {
       "_model_module_version": "^0.17.0",
       "_view_module_version": "^0.17.0",
       "attribution": "MRLC",
       "crs": {
        "custom": false,
        "name": "EPSG3857"
       },
       "format": "image/png",
       "layers": "NLCD_2013_Land_Cover_L48",
       "name": "NLCD 2013 CONUS Land Cover",
       "options": [
        "attribution",
        "bounds",
        "detect_retina",
        "format",
        "layers",
        "max_native_zoom",
        "max_zoom",
        "min_native_zoom",
        "min_zoom",
        "no_wrap",
        "styles",
        "tile_size",
        "tms",
        "transparent",
        "uppercase"
       ],
       "transparent": true,
       "url": "https://www.mrlc.gov/geoserver/mrlc_display/NLCD_2013_Land_Cover_L48/wms?"
      }
     },
     "a76dfcc03d3047e98a99c886f47ecdf9": {
      "model_module": "@jupyter-widgets/base",
      "model_module_version": "1.2.0",
      "model_name": "LayoutModel",
      "state": {
       "height": "auto",
       "padding": "0px 0px 0px 4px",
       "width": "auto"
      }
     },
     "a7d0de1305684a1e9f9a4927a5de12a0": {
      "model_module": "@jupyter-widgets/controls",
      "model_module_version": "1.5.0",
      "model_name": "VBoxModel",
      "state": {
       "children": [
        "IPY_MODEL_2ccb4752cf72487a848c02b575cd7209",
        "IPY_MODEL_72635e071e1946f9b0ddf0d40c8d8765",
        "IPY_MODEL_26219eac64df4ab291c21cfcb84c8dba"
       ],
       "layout": "IPY_MODEL_581532687eaa4d9ba19b9f9653e98006"
      }
     },
     "a81418e9cf5844739b37d165462e63f0": {
      "model_module": "@jupyter-widgets/base",
      "model_module_version": "1.2.0",
      "model_name": "LayoutModel",
      "state": {}
     },
     "a8c7d80056d0421685c868305baadb0d": {
      "model_module": "@jupyter-widgets/controls",
      "model_module_version": "1.5.0",
      "model_name": "DescriptionStyleModel",
      "state": {
       "description_width": ""
      }
     },
     "a936c04a4c1741249beeb1f0912f4944": {
      "model_module": "@jupyter-widgets/base",
      "model_module_version": "1.2.0",
      "model_name": "LayoutModel",
      "state": {
       "height": "600px",
       "width": "100%"
      }
     },
     "a93e06aac4a74304ad892c76637c46bb": {
      "model_module": "@jupyter-widgets/controls",
      "model_module_version": "1.5.0",
      "model_name": "ButtonStyleModel",
      "state": {
       "button_color": "#50bf8f"
      }
     },
     "a9b19869b9b045ae9992ea884b78cef0": {
      "model_module": "@jupyter-widgets/base",
      "model_module_version": "1.2.0",
      "model_name": "LayoutModel",
      "state": {}
     },
     "aa08788a8aa24cbaaf6e94774a03a60c": {
      "model_module": "@jupyter-widgets/base",
      "model_module_version": "1.2.0",
      "model_name": "LayoutModel",
      "state": {
       "padding": "0px"
      }
     },
     "aa3d53cd71054be0b77dc0a4006b06c5": {
      "model_module": "jupyter-leaflet",
      "model_module_version": "^0.17.0",
      "model_name": "LeafletTileLayerModel",
      "state": {
       "_model_module_version": "^0.17.0",
       "_view_module_version": "^0.17.0",
       "attribution": "Imagery provided by services from the Global Imagery Browse Services (GIBS), operated by the NASA/GSFC/Earth Science Data and Information System (ESDIS) with funding provided by NASA/HQ.",
       "max_zoom": 5,
       "name": "NASAGIBS.BlueMarble3413",
       "options": [
        "attribution",
        "bounds",
        "detect_retina",
        "max_native_zoom",
        "max_zoom",
        "min_native_zoom",
        "min_zoom",
        "no_wrap",
        "tile_size",
        "tms"
       ],
       "url": "https://gibs.earthdata.nasa.gov/wmts/epsg3413/best/BlueMarble_NextGeneration/default/EPSG3413_500m/{z}/{y}/{x}.jpeg"
      }
     },
     "aa562d28f6de41d5afddcaf5a83b867d": {
      "model_module": "@jupyter-widgets/controls",
      "model_module_version": "1.5.0",
      "model_name": "DescriptionStyleModel",
      "state": {
       "description_width": ""
      }
     },
     "aa9abe803308460698c161b57c3f11b4": {
      "model_module": "@jupyter-widgets/controls",
      "model_module_version": "1.5.0",
      "model_name": "DescriptionStyleModel",
      "state": {
       "description_width": ""
      }
     },
     "aaa613b783b84f23aacf65772b3ed8a8": {
      "model_module": "@jupyter-widgets/output",
      "model_module_version": "1.0.0",
      "model_name": "OutputModel",
      "state": {
       "layout": "IPY_MODEL_af3c69c11176410aba1fdf76b31155ff"
      }
     },
     "aab3591e8eaf4ce0a0fc6b96c3046a0a": {
      "model_module": "@jupyter-widgets/base",
      "model_module_version": "1.2.0",
      "model_name": "LayoutModel",
      "state": {}
     },
     "aaf9e87cb49743ca9140fcccf2b8d295": {
      "model_module": "@jupyter-widgets/controls",
      "model_module_version": "1.5.0",
      "model_name": "ButtonModel",
      "state": {
       "description": "Save Config",
       "layout": "IPY_MODEL_6eefd96827e74c2fb5fc25347ab7af93",
       "style": "IPY_MODEL_a93e06aac4a74304ad892c76637c46bb"
      }
     },
     "ab4374264b7442ce98d1aa238fdc4791": {
      "model_module": "jupyter-leaflet",
      "model_module_version": "^0.17.0",
      "model_name": "LeafletTileLayerModel",
      "state": {
       "_model_module_version": "^0.17.0",
       "_view_module_version": "^0.17.0",
       "attribution": "Justice Map",
       "max_zoom": 22,
       "name": "JusticeMap.multi",
       "options": [
        "attribution",
        "bounds",
        "detect_retina",
        "max_native_zoom",
        "max_zoom",
        "min_native_zoom",
        "min_zoom",
        "no_wrap",
        "tile_size",
        "tms"
       ],
       "url": "https://www.justicemap.org/tile/county/multi/{z}/{x}/{y}.png"
      }
     },
     "abcedb0c13ab43dda91b0e904d15b460": {
      "model_module": "@jupyter-widgets/base",
      "model_module_version": "1.2.0",
      "model_name": "LayoutModel",
      "state": {}
     },
     "abd58380b6dd4714af74201f8dd5eea1": {
      "model_module": "ipyevents",
      "model_module_version": "2.0.1",
      "model_name": "EventModel",
      "state": {
       "_supported_key_events": [
        "keydown",
        "keyup"
       ],
       "_supported_mouse_events": [
        "click",
        "auxclick",
        "dblclick",
        "mouseenter",
        "mouseleave",
        "mousedown",
        "mouseup",
        "mousemove",
        "wheel",
        "contextmenu",
        "dragstart",
        "drag",
        "dragend",
        "dragenter",
        "dragover",
        "dragleave",
        "drop"
       ],
       "_supported_touch_events": [
        "touchstart",
        "touchend",
        "touchmove",
        "touchcancel"
       ],
       "_view_module": "@jupyter-widgets/controls",
       "_view_module_version": "1.5.0",
       "source": "IPY_MODEL_9cfdd14f90e841159b2d5b74cc3deea3",
       "throttle_or_debounce": "",
       "watched_events": [
        "mouseenter",
        "mouseleave"
       ],
       "xy_coordinate_system": ""
      }
     },
     "ac275e20b7c844b6add522e814118907": {
      "model_module": "@jupyter-widgets/controls",
      "model_module_version": "1.5.0",
      "model_name": "DescriptionStyleModel",
      "state": {
       "description_width": ""
      }
     },
     "acdcc7f1e7874fd49a39abaec676aa88": {
      "model_module": "@jupyter-widgets/controls",
      "model_module_version": "1.5.0",
      "model_name": "ButtonModel",
      "state": {
       "description": "Save Transects CSV",
       "layout": "IPY_MODEL_e21a0161411848f88caec27051188849",
       "style": "IPY_MODEL_f08d0a358fbc4a94a59403e7faf2362d"
      }
     },
     "ace670da8c7242fea13b2c030d0a1590": {
      "model_module": "@jupyter-widgets/base",
      "model_module_version": "1.2.0",
      "model_name": "LayoutModel",
      "state": {
       "height": "28px",
       "padding": "0px 0px 0px 4px",
       "width": "28px"
      }
     },
     "ad456666bea3445987419f8df80542a4": {
      "model_module": "@jupyter-widgets/controls",
      "model_module_version": "1.5.0",
      "model_name": "ButtonModel",
      "state": {
       "description": "Save Settings",
       "layout": "IPY_MODEL_db2501fac29e44f19591681404e0c12c",
       "style": "IPY_MODEL_2c01a24a824d495680a49a7bb861989f"
      }
     },
     "ad714b6b6e2046f9bbb625004c77b8a9": {
      "model_module": "jupyter-leaflet",
      "model_module_version": "^0.17.0",
      "model_name": "LeafletTileLayerModel",
      "state": {
       "_model_module_version": "^0.17.0",
       "_view_module_version": "^0.17.0",
       "attribution": "(C) Stadia Maps, (C) OpenMapTiles (C) OpenStreetMap contributors",
       "max_zoom": 20,
       "name": "Stadia.AlidadeSmoothDark",
       "options": [
        "attribution",
        "bounds",
        "detect_retina",
        "max_native_zoom",
        "max_zoom",
        "min_native_zoom",
        "min_zoom",
        "no_wrap",
        "tile_size",
        "tms"
       ],
       "url": "https://tiles.stadiamaps.com/tiles/alidade_smooth_dark/{z}/{x}/{y}.png"
      }
     },
     "ad9359dc38884d3ca191cc04d165b98f": {
      "model_module": "@jupyter-widgets/controls",
      "model_module_version": "1.5.0",
      "model_name": "DescriptionStyleModel",
      "state": {
       "description_width": ""
      }
     },
     "ae1e1a56c08d409db19fdadc61e31440": {
      "model_module": "@jupyter-widgets/controls",
      "model_module_version": "1.5.0",
      "model_name": "ButtonStyleModel",
      "state": {
       "button_color": "#ae3cf0"
      }
     },
     "ae6172c8ba8449b7aa86d564779f1937": {
      "model_module": "@jupyter-widgets/controls",
      "model_module_version": "1.5.0",
      "model_name": "ToggleButtonModel",
      "state": {
       "icon": "server",
       "layout": "IPY_MODEL_e26473ef855a4638aa555d415097d893",
       "style": "IPY_MODEL_8937e9e081834d4d8cd4151bcca02e1d",
       "tooltip": "Layers"
      }
     },
     "ae6f107e959f4d468639b8750e91eaa5": {
      "model_module": "jupyter-leaflet",
      "model_module_version": "^0.17.0",
      "model_name": "LeafletTileLayerModel",
      "state": {
       "_model_module_version": "^0.17.0",
       "_view_module_version": "^0.17.0",
       "attribution": "![](https://docs.onemap.sg/maps/images/oneMap64-01.png) New OneMap | Map data (C) contributors, Singapore Land Authority",
       "name": "OneMapSG.Night",
       "options": [
        "attribution",
        "bounds",
        "detect_retina",
        "max_native_zoom",
        "max_zoom",
        "min_native_zoom",
        "min_zoom",
        "no_wrap",
        "tile_size",
        "tms"
       ],
       "url": "https://maps-a.onemap.sg/v3/Night/{z}/{x}/{y}.png"
      }
     },
     "aebd7d5c7cfd437d8e433ab36252092b": {
      "model_module": "@jupyter-widgets/base",
      "model_module_version": "1.2.0",
      "model_name": "LayoutModel",
      "state": {}
     },
     "aecad09d73f248a9ab6dbd378d2bc6a3": {
      "model_module": "@jupyter-widgets/base",
      "model_module_version": "1.2.0",
      "model_name": "LayoutModel",
      "state": {}
     },
     "af1a4bdd98e44f4db9e6b9ed558579ce": {
      "model_module": "jupyter-leaflet",
      "model_module_version": "^0.17.0",
      "model_name": "LeafletTileLayerModel",
      "state": {
       "_model_module_version": "^0.17.0",
       "_view_module_version": "^0.17.0",
       "attribution": "Kaartgegevens (C) Kadaster",
       "max_zoom": 19,
       "name": "nlmaps.water",
       "options": [
        "attribution",
        "bounds",
        "detect_retina",
        "max_native_zoom",
        "max_zoom",
        "min_native_zoom",
        "min_zoom",
        "no_wrap",
        "tile_size",
        "tms"
       ],
       "url": "https://service.pdok.nl/brt/achtergrondkaart/wmts/v2_0/water/EPSG:3857/{z}/{x}/{y}.png"
      }
     },
     "af3c69c11176410aba1fdf76b31155ff": {
      "model_module": "@jupyter-widgets/base",
      "model_module_version": "1.2.0",
      "model_name": "LayoutModel",
      "state": {
       "border": "1px solid black"
      }
     },
     "af5cbd9b33a9447b8a18cce0e7a43b86": {
      "model_module": "@jupyter-widgets/base",
      "model_module_version": "1.2.0",
      "model_name": "LayoutModel",
      "state": {
       "height": "auto",
       "padding": "0px 0px 0px 4px",
       "width": "auto"
      }
     },
     "b023465e49c34c648ac67b9af4c60dce": {
      "model_module": "jupyter-leaflet",
      "model_module_version": "^0.17.0",
      "model_name": "LeafletWidgetControlModel",
      "state": {
       "_model_module": "jupyter-leaflet",
       "_model_module_version": "^0.17.0",
       "_view_count": null,
       "_view_module": "jupyter-leaflet",
       "_view_module_version": "^0.17.0",
       "options": [
        "position",
        "transparent_bg"
       ],
       "position": "topright",
       "widget": "IPY_MODEL_e21de9e2fa3a4ca18a285b56a4b9d334"
      }
     },
     "b053b316c3c4494eb53ae3eddf6e42a9": {
      "model_module": "jupyter-leaflet",
      "model_module_version": "^0.17.0",
      "model_name": "LeafletTileLayerModel",
      "state": {
       "_model_module_version": "^0.17.0",
       "_view_module_version": "^0.17.0",
       "attribution": "&copy; <a href=\"http://www.gaode.com/\">Gaode.com</a>",
       "max_zoom": 19,
       "name": "Gaode.Satellite",
       "options": [
        "attribution",
        "bounds",
        "detect_retina",
        "max_native_zoom",
        "max_zoom",
        "min_native_zoom",
        "min_zoom",
        "no_wrap",
        "tile_size",
        "tms"
       ],
       "url": "http://webst01.is.autonavi.com/appmaptile?style=6&x={x}&y={y}&z={z}"
      }
     },
     "b05ae24d72dc490190622f3658185c6d": {
      "model_module": "@jupyter-widgets/base",
      "model_module_version": "1.2.0",
      "model_name": "LayoutModel",
      "state": {}
     },
     "b0db32ab5baa44e4aada0ee23d2288f5": {
      "model_module": "@jupyter-widgets/base",
      "model_module_version": "1.2.0",
      "model_name": "LayoutModel",
      "state": {
       "padding": "10px"
      }
     },
     "b0e79a00ace44943a2a25fe5aaff5a1a": {
      "model_module": "@jupyter-widgets/controls",
      "model_module_version": "1.5.0",
      "model_name": "VBoxModel",
      "state": {
       "children": [
        "IPY_MODEL_0137d8f75839485da8fc01ff598b0b7f",
        "IPY_MODEL_525df4c643384a8b9cea6246e1379f41"
       ],
       "layout": "IPY_MODEL_18a567a5b4894e6abb922a44689411d8"
      }
     },
     "b166a561ffd04ec58b85e246812d2ddb": {
      "model_module": "jupyter-leaflet",
      "model_module_version": "^0.17.0",
      "model_name": "LeafletTileLayerModel",
      "state": {
       "_model_module_version": "^0.17.0",
       "_view_module_version": "^0.17.0",
       "attribution": "OpenStreetMap",
       "max_zoom": 22,
       "name": "OpenStreetMap",
       "options": [
        "attribution",
        "bounds",
        "detect_retina",
        "max_native_zoom",
        "max_zoom",
        "min_native_zoom",
        "min_zoom",
        "no_wrap",
        "tile_size",
        "tms"
       ]
      }
     },
     "b220714cd2c449ab9ba2e52d9b6452cb": {
      "model_module": "@jupyter-widgets/controls",
      "model_module_version": "1.5.0",
      "model_name": "DescriptionStyleModel",
      "state": {
       "description_width": ""
      }
     },
     "b22937307e354b98b14034c5ca625ef6": {
      "model_module": "@jupyter-widgets/base",
      "model_module_version": "1.2.0",
      "model_name": "LayoutModel",
      "state": {
       "height": "auto",
       "padding": "0px 0px 0px 4px",
       "width": "auto"
      }
     },
     "b3f88c9a3ff840fdabe8d7d4366d06ef": {
      "model_module": "@jupyter-widgets/base",
      "model_module_version": "1.2.0",
      "model_name": "LayoutModel",
      "state": {}
     },
     "b4278c36edca4996b865227d66bb29b3": {
      "model_module": "@jupyter-widgets/base",
      "model_module_version": "1.2.0",
      "model_name": "LayoutModel",
      "state": {}
     },
     "b455afe0910c4bb6a6d75255972bd05a": {
      "model_module": "@jupyter-widgets/controls",
      "model_module_version": "1.5.0",
      "model_name": "DescriptionStyleModel",
      "state": {
       "description_width": ""
      }
     },
     "b479dabd60534cf3a6bff4ecbbb66455": {
      "model_module": "@jupyter-widgets/base",
      "model_module_version": "1.2.0",
      "model_name": "LayoutModel",
      "state": {}
     },
     "b5a4f31372b64f5cb63a7829d24894ad": {
      "model_module": "jupyter-leaflet",
      "model_module_version": "^0.17.0",
      "model_name": "LeafletTileLayerModel",
      "state": {
       "_model_module_version": "^0.17.0",
       "_view_module_version": "^0.17.0",
       "attribution": "Tiles (C) Esri -- Source: Esri",
       "max_zoom": 13,
       "name": "Esri.WorldShadedRelief",
       "options": [
        "attribution",
        "bounds",
        "detect_retina",
        "max_native_zoom",
        "max_zoom",
        "min_native_zoom",
        "min_zoom",
        "no_wrap",
        "tile_size",
        "tms"
       ],
       "url": "https://server.arcgisonline.com/ArcGIS/rest/services/World_Shaded_Relief/MapServer/tile/{z}/{y}/{x}"
      }
     },
     "b660fa56abea4ea8bf115908c730d1bf": {
      "model_module": "jupyter-leaflet",
      "model_module_version": "^0.17.0",
      "model_name": "LeafletTileLayerModel",
      "state": {
       "_model_module_version": "^0.17.0",
       "_view_module_version": "^0.17.0",
       "attribution": "Tiles (C) Esri -- Source: Esri, i-cubed, USDA, USGS, AEX, GeoEye, Getmapping, Aerogrid, IGN, IGP, UPR-EGP, and the GIS User Community",
       "max_zoom": 22,
       "name": "Esri.WorldImagery",
       "options": [
        "attribution",
        "bounds",
        "detect_retina",
        "max_native_zoom",
        "max_zoom",
        "min_native_zoom",
        "min_zoom",
        "no_wrap",
        "tile_size",
        "tms"
       ],
       "url": "https://server.arcgisonline.com/ArcGIS/rest/services/World_Imagery/MapServer/tile/{z}/{y}/{x}"
      }
     },
     "b711566d82f645e78eaea1ead9fe13b6": {
      "model_module": "jupyter-leaflet",
      "model_module_version": "^0.17.0",
      "model_name": "LeafletTileLayerModel",
      "state": {
       "_model_module_version": "^0.17.0",
       "_view_module_version": "^0.17.0",
       "attribution": "(C) OpenStreetMap contributors, Tiles style by Humanitarian OpenStreetMap Team hosted by OpenStreetMap France",
       "max_zoom": 19,
       "name": "OpenStreetMap.HOT",
       "options": [
        "attribution",
        "bounds",
        "detect_retina",
        "max_native_zoom",
        "max_zoom",
        "min_native_zoom",
        "min_zoom",
        "no_wrap",
        "tile_size",
        "tms"
       ],
       "url": "https://a.tile.openstreetmap.fr/hot/{z}/{x}/{y}.png"
      }
     },
     "b717bddf31704068ac40f5c90ff3dd50": {
      "model_module": "jupyter-leaflet",
      "model_module_version": "^0.17.0",
      "model_name": "LeafletTileLayerModel",
      "state": {
       "_model_module_version": "^0.17.0",
       "_view_module_version": "^0.17.0",
       "attribution": "&copy; <a href=\"https://www.openstreetmap.org/copyright\">OpenStreetMap</a> contributors",
       "base": true,
       "max_zoom": 19,
       "min_zoom": 1,
       "name": "OpenStreetMap",
       "options": [
        "attribution",
        "bounds",
        "detect_retina",
        "max_native_zoom",
        "max_zoom",
        "min_native_zoom",
        "min_zoom",
        "no_wrap",
        "tile_size",
        "tms"
       ],
       "url": "https://a.tile.openstreetmap.org/{z}/{x}/{y}.png"
      }
     },
     "b718057eaea94a16a4555792a1ee3fcd": {
      "model_module": "@jupyter-widgets/controls",
      "model_module_version": "1.5.0",
      "model_name": "DescriptionStyleModel",
      "state": {
       "description_width": ""
      }
     },
     "b7fdca8b0781414a84df97eac7c32de9": {
      "model_module": "jupyter-leaflet",
      "model_module_version": "^0.17.0",
      "model_name": "LeafletTileLayerModel",
      "state": {
       "_model_module_version": "^0.17.0",
       "_view_module_version": "^0.17.0",
       "attribution": "Geoportail France",
       "max_zoom": 19,
       "name": "GeoportailFrance.orthos",
       "options": [
        "attribution",
        "bounds",
        "detect_retina",
        "max_native_zoom",
        "max_zoom",
        "min_native_zoom",
        "min_zoom",
        "no_wrap",
        "tile_size",
        "tms"
       ],
       "url": "https://wxs.ign.fr/choisirgeoportail/geoportail/wmts?REQUEST=GetTile&SERVICE=WMTS&VERSION=1.0.0&STYLE=normal&TILEMATRIXSET=PM&FORMAT=image/jpeg&LAYER=ORTHOIMAGERY.ORTHOPHOTOS&TILEMATRIX={z}&TILEROW={y}&TILECOL={x}"
      }
     },
     "b902d5dba8934d2b8d862dbdc9192dd9": {
      "model_module": "jupyter-leaflet",
      "model_module_version": "^0.17.0",
      "model_name": "LeafletTileLayerModel",
      "state": {
       "_model_module_version": "^0.17.0",
       "_view_module_version": "^0.17.0",
       "attribution": "Tiles courtesy of the U.S. Geological Survey",
       "max_zoom": 20,
       "name": "USGS.USImagery",
       "options": [
        "attribution",
        "bounds",
        "detect_retina",
        "max_native_zoom",
        "max_zoom",
        "min_native_zoom",
        "min_zoom",
        "no_wrap",
        "tile_size",
        "tms"
       ],
       "url": "https://basemap.nationalmap.gov/arcgis/rest/services/USGSImageryOnly/MapServer/tile/{z}/{y}/{x}"
      }
     },
     "b956a043401e4f4e806fc65ca0aaff7d": {
      "model_module": "@jupyter-widgets/controls",
      "model_module_version": "1.5.0",
      "model_name": "ToggleButtonModel",
      "state": {
       "button_style": "primary",
       "icon": "eraser",
       "layout": "IPY_MODEL_b22937307e354b98b14034c5ca625ef6",
       "style": "IPY_MODEL_b718057eaea94a16a4555792a1ee3fcd",
       "tooltip": "Remove all drawn features"
      }
     },
     "b95fb23d77c24a93a136c16b346990fe": {
      "model_module": "jupyter-leaflet",
      "model_module_version": "^0.17.0",
      "model_name": "LeafletTileLayerModel",
      "state": {
       "_model_module_version": "^0.17.0",
       "_view_module_version": "^0.17.0",
       "attribution": "Justice Map",
       "max_zoom": 22,
       "name": "JusticeMap.black",
       "options": [
        "attribution",
        "bounds",
        "detect_retina",
        "max_native_zoom",
        "max_zoom",
        "min_native_zoom",
        "min_zoom",
        "no_wrap",
        "tile_size",
        "tms"
       ],
       "url": "https://www.justicemap.org/tile/county/black/{z}/{x}/{y}.png"
      }
     },
     "ba02657e24524946b5c7fe3b94c9c222": {
      "model_module": "@jupyter-widgets/controls",
      "model_module_version": "1.5.0",
      "model_name": "RadioButtonsModel",
      "state": {
       "_options_labels": [
        "Shoreline",
        "Transects",
        "Bbox",
        "ROIs"
       ],
       "index": 0,
       "layout": "IPY_MODEL_4964be187bb64c29934065d07cf73a9e",
       "style": "IPY_MODEL_0daec07020924b4cb1a7c92e945f1f50"
      }
     },
     "bb54dfad66614a0194833378080269f5": {
      "model_module": "@jupyter-widgets/controls",
      "model_module_version": "1.5.0",
      "model_name": "ButtonModel",
      "state": {
       "description": "Compute Transects",
       "layout": "IPY_MODEL_3fdf807561af4696ad5d006dbdc063ff",
       "style": "IPY_MODEL_d9afe44b7aca49239ccb5ed0906744d4"
      }
     },
     "bcc71ee0f5284809944f2d0a1ecc8b9a": {
      "model_module": "@jupyter-widgets/controls",
      "model_module_version": "1.5.0",
      "model_name": "DescriptionStyleModel",
      "state": {
       "description_width": ""
      }
     },
     "bccd8e4e7c304637bf29ee11d510a9ba": {
      "model_module": "jupyter-leaflet",
      "model_module_version": "^0.17.0",
      "model_name": "LeafletMapStyleModel",
      "state": {
       "_model_module_version": "^0.17.0",
       "cursor": "move"
      }
     },
     "bd18baf8ae22469e8b8eb54245e5d57c": {
      "model_module": "@jupyter-widgets/base",
      "model_module_version": "1.2.0",
      "model_name": "LayoutModel",
      "state": {
       "height": "auto",
       "padding": "0px 0px 0px 4px",
       "width": "auto"
      }
     },
     "bd57687501334a9eb1e1387f8d668688": {
      "model_module": "@jupyter-widgets/controls",
      "model_module_version": "1.5.0",
      "model_name": "ButtonStyleModel",
      "state": {
       "button_color": "red"
      }
     },
     "bd7cfd5eb7b8458ca1a49e0579a66b17": {
      "model_module": "@jupyter-widgets/base",
      "model_module_version": "1.2.0",
      "model_name": "LayoutModel",
      "state": {
       "height": "auto",
       "padding": "0px 0px 0px 4px",
       "width": "auto"
      }
     },
     "be7b0331f0cf4c3ca9dfb32895abe086": {
      "model_module": "jupyter-leaflet",
      "model_module_version": "^0.17.0",
      "model_name": "LeafletTileLayerModel",
      "state": {
       "_model_module_version": "^0.17.0",
       "_view_module_version": "^0.17.0",
       "attribution": "National Library of Scotland Historic Maps",
       "name": "NLS",
       "options": [
        "attribution",
        "bounds",
        "detect_retina",
        "max_native_zoom",
        "max_zoom",
        "min_native_zoom",
        "min_zoom",
        "no_wrap",
        "tile_size",
        "tms"
       ],
       "url": "https://nls-0.tileserver.com/nls/{z}/{x}/{y}.jpg"
      }
     },
     "bebbdcac207349c694440195e191bac8": {
      "model_module": "@jupyter-widgets/controls",
      "model_module_version": "1.5.0",
      "model_name": "HTMLModel",
      "state": {
       "layout": "IPY_MODEL_aebd7d5c7cfd437d8e433ab36252092b",
       "style": "IPY_MODEL_f8ee2e6ae28e4a668769c5d1da8e6fbc",
       "value": " 2/2 [00:05&lt;00:00,  2.85s/it]"
      }
     },
     "becfc036df5640d1951e5156a624ac26": {
      "model_module": "@jupyter-widgets/base",
      "model_module_version": "1.2.0",
      "model_name": "LayoutModel",
      "state": {}
     },
     "bf23cbbb6d814a5b859f773fac9ff4aa": {
      "model_module": "@jupyter-widgets/base",
      "model_module_version": "1.2.0",
      "model_name": "LayoutModel",
      "state": {}
     },
     "bff9a0126a8049038f1d864e3714cd21": {
      "model_module": "@jupyter-widgets/controls",
      "model_module_version": "1.5.0",
      "model_name": "DescriptionStyleModel",
      "state": {
       "description_width": ""
      }
     },
     "c024783e623a4ae2814c0312727d409b": {
      "model_module": "@jupyter-widgets/controls",
      "model_module_version": "1.5.0",
      "model_name": "DescriptionStyleModel",
      "state": {
       "description_width": ""
      }
     },
     "c10fde19c2954bde98367261f0def017": {
      "model_module": "@jupyter-widgets/base",
      "model_module_version": "1.2.0",
      "model_name": "LayoutModel",
      "state": {
       "height": "auto",
       "padding": "0px 0px 0px 4px",
       "width": "auto"
      }
     },
     "c15d7cce7a724c55a41e92fd4254da8c": {
      "model_module": "@jupyter-widgets/base",
      "model_module_version": "1.2.0",
      "model_name": "LayoutModel",
      "state": {
       "height": "auto",
       "padding": "0px 0px 0px 4px",
       "width": "auto"
      }
     },
     "c16443f4da924142aff5c30c7fe583cd": {
      "model_module": "@jupyter-widgets/base",
      "model_module_version": "1.2.0",
      "model_name": "LayoutModel",
      "state": {
       "padding": "0px"
      }
     },
     "c29c1bb4c2024ce9a7c7b79e69aa0bc4": {
      "model_module": "@jupyter-widgets/base",
      "model_module_version": "1.2.0",
      "model_name": "LayoutModel",
      "state": {}
     },
     "c2f77e0b10394fba86b7654ca1b3058b": {
      "model_module": "@jupyter-widgets/base",
      "model_module_version": "1.2.0",
      "model_name": "LayoutModel",
      "state": {
       "height": "auto",
       "padding": "0px 0px 0px 4px",
       "width": "auto"
      }
     },
     "c40f4a85b2ad4900af963a5d1e89284c": {
      "model_module": "@jupyter-widgets/base",
      "model_module_version": "1.2.0",
      "model_name": "LayoutModel",
      "state": {}
     },
     "c44c684c89a94b7c9f68944f8bbfc33b": {
      "model_module": "@jupyter-widgets/controls",
      "model_module_version": "1.5.0",
      "model_name": "DescriptionStyleModel",
      "state": {
       "description_width": ""
      }
     },
     "c5441f6694b64f78a720fa382a14ed36": {
      "model_module": "@jupyter-widgets/controls",
      "model_module_version": "1.5.0",
      "model_name": "SliderStyleModel",
      "state": {
       "description_width": "initial"
      }
     },
     "c544ba6e5098493db5759b047f4bfc7e": {
      "model_module": "@jupyter-widgets/controls",
      "model_module_version": "1.5.0",
      "model_name": "HTMLModel",
      "state": {
       "layout": "IPY_MODEL_49a290799f214a49b15c0558510cc4b4",
       "style": "IPY_MODEL_319d3cc8084f4ae6bca7069170672a18",
       "value": " \n        <h2>Settings</h2>\n        <p>sat_list: ['L8']</p>\n        <p>dates: ['2018-12-01', '2019-03-01']</p>\n        <p>landsat_collection: C02</p>\n        <p>cloud_thresh: 0.5</p>\n        <p>dist_clouds: 300</p>\n        <p>output_epsg: 3857</p>\n        <p>check_detection: False</p>\n        <p>adjust_detection: False</p>\n        <p>save_figure: True</p>\n        <p>min_beach_area: 4500</p>\n        <p>buffer_size: 550</p>\n        <p>min_length_sl: 100</p>\n        <p>cloud_mask_issue: False</p>\n        <p>sand_color: default</p>\n        <p>pan_off: False</p>\n        <p>create_plot: False</p>\n        <p>max_dist_ref: 25</p>\n        <p>along_dist: 25</p>\n        "
      }
     },
     "c6ac0e9be9404d1eae78e2c29b9f0057": {
      "model_module": "@jupyter-widgets/controls",
      "model_module_version": "1.5.0",
      "model_name": "DescriptionStyleModel",
      "state": {
       "description_width": ""
      }
     },
     "c6f330d700d14af397d8c8977620e7b3": {
      "model_module": "@jupyter-widgets/base",
      "model_module_version": "1.2.0",
      "model_name": "LayoutModel",
      "state": {
       "height": "auto",
       "padding": "0px 0px 0px 4px",
       "width": "auto"
      }
     },
     "c6fc30e94aef4a748d8d2c08a86648ad": {
      "model_module": "@jupyter-widgets/base",
      "model_module_version": "1.2.0",
      "model_name": "LayoutModel",
      "state": {}
     },
     "c740373548d04c64ad2f7b3fe47e3cbe": {
      "model_module": "@jupyter-widgets/controls",
      "model_module_version": "1.5.0",
      "model_name": "DescriptionStyleModel",
      "state": {
       "description_width": ""
      }
     },
     "c7617c97525741b6b168b78f96adce5e": {
      "model_module": "@jupyter-widgets/controls",
      "model_module_version": "1.5.0",
      "model_name": "DescriptionStyleModel",
      "state": {
       "description_width": ""
      }
     },
     "c7a64f19dcce4bb7a3a580217db60d69": {
      "model_module": "jupyter-leaflet",
      "model_module_version": "^0.17.0",
      "model_name": "LeafletTileLayerModel",
      "state": {
       "_model_module_version": "^0.17.0",
       "_view_module_version": "^0.17.0",
       "attribution": "Tiles &copy; Esri &mdash; Esri, DeLorme, NAVTEQ, TomTom, Intermap, iPC, USGS, FAO, NPS, NRCAN, GeoBase, Kadaster NL, Ordnance Survey, Esri Japan, METI, Esri China (Hong Kong), and the GIS User Community",
       "max_zoom": 24,
       "name": "Esri.ArcticOceanBase",
       "options": [
        "attribution",
        "bounds",
        "detect_retina",
        "max_native_zoom",
        "max_zoom",
        "min_native_zoom",
        "min_zoom",
        "no_wrap",
        "tile_size",
        "tms"
       ],
       "url": "http://server.arcgisonline.com/ArcGIS/rest/services/Polar/Arctic_Ocean_Base/MapServer/tile/{z}/{y}/{x}"
      }
     },
     "c82c16afc33c4e19ba5e9f887fb15ba2": {
      "model_module": "@jupyter-widgets/controls",
      "model_module_version": "1.5.0",
      "model_name": "DescriptionStyleModel",
      "state": {
       "description_width": ""
      }
     },
     "c92a7dd00fbc43088b8e0b76796a491b": {
      "model_module": "@jupyter-widgets/controls",
      "model_module_version": "1.5.0",
      "model_name": "DatePickerModel",
      "state": {
       "description": "Start Date",
       "disabled": false,
       "layout": "IPY_MODEL_2c5f6c43eeb944968bf6a7c50b38ded3",
       "style": "IPY_MODEL_5391e9afe96c4d81a16b895dfef0b94a",
       "value": {
        "date": 1,
        "month": 11,
        "year": 2018
       }
      }
     },
     "cad425ba0208435e96aae377a415564b": {
      "model_module": "jupyter-leaflet",
      "model_module_version": "^0.17.0",
      "model_name": "LeafletTileLayerModel",
      "state": {
       "_model_module_version": "^0.17.0",
       "_view_module_version": "^0.17.0",
       "attribution": "Map tiles by Stamen Design, CC BY 3.0 -- Map data (C) OpenStreetMap contributors",
       "name": "Stamen.TerrainLabels",
       "options": [
        "attribution",
        "bounds",
        "detect_retina",
        "max_native_zoom",
        "max_zoom",
        "min_native_zoom",
        "min_zoom",
        "no_wrap",
        "tile_size",
        "tms"
       ],
       "url": "https://stamen-tiles-a.a.ssl.fastly.net/terrain-labels/{z}/{x}/{y}.png"
      }
     },
     "cae031f2d08b4a21b71c47ba09a5565c": {
      "model_module": "@jupyter-widgets/base",
      "model_module_version": "1.2.0",
      "model_name": "LayoutModel",
      "state": {
       "padding": "0px"
      }
     },
     "cbc31b64f1234c2ab79b7cd4aaf340df": {
      "model_module": "@jupyter-widgets/controls",
      "model_module_version": "1.5.0",
      "model_name": "ButtonStyleModel",
      "state": {
       "button_color": "#a3adac"
      }
     },
     "cca8eb9cb7c54baca3a33997d4843bdb": {
      "model_module": "jupyter-leaflet",
      "model_module_version": "^0.17.0",
      "model_name": "LeafletGeoJSONModel",
      "state": {
       "_model_module_version": "^0.17.0",
       "_view_module_version": "^0.17.0",
       "data": {
        "features": [
         {
          "geometry": {
           "coordinates": [
            [
             [
              -124.08563592368267,
              41.35098466136123
             ],
             [
              -124.08623500969946,
              41.38700881656251
             ],
             [
              -124.03840059341009,
              41.38745046248221
             ],
             [
              -124.03782787746952,
              41.35142575147409
             ],
             [
              -124.08563592368267,
              41.35098466136123
             ]
            ]
           ],
           "type": "Polygon"
          },
          "id": "0",
          "properties": {
           "id": "0",
           "style": {
            "color": "#555555",
            "fillOpacity": 0.1,
            "fill_color": "#555555",
            "weight": 1
           }
          },
          "type": "Feature"
         },
         {
          "geometry": {
           "coordinates": [
            [
             [
              -124.08623500969946,
              41.38700881656251
             ],
             [
              -124.08683518549094,
              41.42303273833664
             ],
             [
              -124.03897435117615,
              41.42347494066995
             ],
             [
              -124.03840059341009,
              41.38745046248221
             ],
             [
              -124.08623500969946,
              41.38700881656251
             ]
            ]
           ],
           "type": "Polygon"
          },
          "id": "1",
          "properties": {
           "id": "1",
           "style": {
            "color": "#555555",
            "fillOpacity": 0.1,
            "fill_color": "#555555",
            "weight": 1
           }
          },
          "type": "Feature"
         }
        ],
        "type": "FeatureCollection"
       },
       "hover_style": {
        "color": "crimson",
        "fillOpacity": 0.1
       },
       "name": "ROIs",
       "style": {
        "color": "#555555",
        "fillOpacity": 0.1,
        "fill_color": "#555555",
        "weight": 1
       }
      }
     },
     "cd3754eaf0ea4aadb4b581d078c1367f": {
      "model_module": "@jupyter-widgets/controls",
      "model_module_version": "1.5.0",
      "model_name": "ButtonModel",
      "state": {
       "description": "Remove ROIs",
       "layout": "IPY_MODEL_a9b19869b9b045ae9992ea884b78cef0",
       "style": "IPY_MODEL_5a9661656e104f98aa753527a127d32b"
      }
     },
     "cee6da93962f4ac68d70687f57a45873": {
      "model_module": "@jupyter-widgets/controls",
      "model_module_version": "1.5.0",
      "model_name": "ToggleButtonModel",
      "state": {
       "button_style": "primary",
       "icon": "folder-open",
       "layout": "IPY_MODEL_4239dcbb166a4ed985745e48c3ba0d48",
       "style": "IPY_MODEL_729bb8bab8304bffbbd98dfb6a94c1e4",
       "tooltip": "Open local vector/raster data"
      }
     },
     "ceef51b9a2c04b4986dfa29c4ad764ac": {
      "model_module": "jupyter-leaflet",
      "model_module_version": "^0.17.0",
      "model_name": "LeafletTileLayerModel",
      "state": {
       "_model_module_version": "^0.17.0",
       "_view_module_version": "^0.17.0",
       "attribution": "(C) OpenStreetMap contributors (C) CARTO",
       "max_zoom": 20,
       "name": "CartoDB.PositronNoLabels",
       "options": [
        "attribution",
        "bounds",
        "detect_retina",
        "max_native_zoom",
        "max_zoom",
        "min_native_zoom",
        "min_zoom",
        "no_wrap",
        "tile_size",
        "tms"
       ],
       "url": "https://a.basemaps.cartocdn.com/light_nolabels/{z}/{x}/{y}.png"
      }
     },
     "cf6715dc0a0f46889fc7fba244c0d06b": {
      "model_module": "@jupyter-widgets/controls",
      "model_module_version": "1.5.0",
      "model_name": "ToggleButtonModel",
      "state": {
       "button_style": "primary",
       "icon": "question",
       "layout": "IPY_MODEL_97afb7028139466a9b84945b3d92cb8a",
       "style": "IPY_MODEL_903e79d8f1ca41e5a77f18fdcd4b49f8",
       "tooltip": "Get help"
      }
     },
     "cfd4370daf52445abe0f772e22f9cd81": {
      "model_module": "jupyter-leaflet",
      "model_module_version": "^0.17.0",
      "model_name": "LeafletTileLayerModel",
      "state": {
       "_model_module_version": "^0.17.0",
       "_view_module_version": "^0.17.0",
       "attribution": "&copy; <a href=\"https://www.openstreetmap.org/copyright\">OpenStreetMap</a> contributors",
       "base": true,
       "max_zoom": 19,
       "min_zoom": 1,
       "name": "OpenStreetMap",
       "options": [
        "attribution",
        "bounds",
        "detect_retina",
        "max_native_zoom",
        "max_zoom",
        "min_native_zoom",
        "min_zoom",
        "no_wrap",
        "tile_size",
        "tms"
       ],
       "url": "https://a.tile.openstreetmap.org/{z}/{x}/{y}.png"
      }
     },
     "d05d36b926974e6e93b0d3ccd47fe761": {
      "model_module": "@jupyter-widgets/controls",
      "model_module_version": "1.5.0",
      "model_name": "ToggleButtonModel",
      "state": {
       "button_style": "primary",
       "icon": "search-plus",
       "layout": "IPY_MODEL_2a02d13c6c894472aae8b4dd7ff49877",
       "style": "IPY_MODEL_faf67b58b10742cf8d8f25b0a2351455",
       "tooltip": "Search features in GeoJSON layer"
      }
     },
     "d06c8a395ce14013afd78f8fdc0b9ec1": {
      "model_module": "@jupyter-widgets/controls",
      "model_module_version": "1.5.0",
      "model_name": "DescriptionStyleModel",
      "state": {
       "description_width": ""
      }
     },
     "d0cf176a6c9e4eee954e64ee8f30fa1e": {
      "model_module": "@jupyter-widgets/controls",
      "model_module_version": "1.5.0",
      "model_name": "DescriptionStyleModel",
      "state": {
       "description_width": ""
      }
     },
     "d15321c1a09241c99d49760dc035599d": {
      "model_module": "@jupyter-widgets/base",
      "model_module_version": "1.2.0",
      "model_name": "LayoutModel",
      "state": {}
     },
     "d1a34a0a8af248b9a27e8265336cae37": {
      "model_module": "@jupyter-widgets/controls",
      "model_module_version": "1.5.0",
      "model_name": "DescriptionStyleModel",
      "state": {
       "description_width": ""
      }
     },
     "d2df2023f8bd4207895936e452f7e424": {
      "model_module": "jupyter-leaflet",
      "model_module_version": "^0.17.0",
      "model_name": "LeafletTileLayerModel",
      "state": {
       "_model_module_version": "^0.17.0",
       "_view_module_version": "^0.17.0",
       "attribution": "Map tiles by Stamen Design, CC BY 3.0 -- Map data (C) OpenStreetMap contributors",
       "max_zoom": 20,
       "name": "Stamen.TopOSMFeatures",
       "options": [
        "attribution",
        "bounds",
        "detect_retina",
        "max_native_zoom",
        "max_zoom",
        "min_native_zoom",
        "min_zoom",
        "no_wrap",
        "tile_size",
        "tms"
       ],
       "url": "https://stamen-tiles-a.a.ssl.fastly.net/toposm-features/{z}/{x}/{y}.png"
      }
     },
     "d4751fc6a6f2453e870f4f0e94f89cd7": {
      "model_module": "@jupyter-widgets/controls",
      "model_module_version": "1.5.0",
      "model_name": "ButtonModel",
      "state": {
       "description": "Remove all",
       "layout": "IPY_MODEL_3442bbefadfa406a8b56e869ec031f34",
       "style": "IPY_MODEL_681d1155d00b4e7797d93c3f1d212105"
      }
     },
     "d4d64f2d631f443d99bd964b37772b76": {
      "model_module": "@jupyter-widgets/controls",
      "model_module_version": "1.5.0",
      "model_name": "DescriptionStyleModel",
      "state": {
       "description_width": ""
      }
     },
     "d50e958e01714ce2b489f36df48216e6": {
      "model_module": "jupyter-leaflet",
      "model_module_version": "^0.17.0",
      "model_name": "LeafletTileLayerModel",
      "state": {
       "_model_module_version": "^0.17.0",
       "_view_module_version": "^0.17.0",
       "attribution": "Map tiles by Stamen Design, CC BY 3.0 -- Map data (C) OpenStreetMap contributors",
       "name": "Stamen.Terrain",
       "options": [
        "attribution",
        "bounds",
        "detect_retina",
        "max_native_zoom",
        "max_zoom",
        "min_native_zoom",
        "min_zoom",
        "no_wrap",
        "tile_size",
        "tms"
       ],
       "url": "https://stamen-tiles-a.a.ssl.fastly.net/terrain/{z}/{x}/{y}.png"
      }
     },
     "d551f3399c834064958b57a08bf170e4": {
      "model_module": "@jupyter-widgets/controls",
      "model_module_version": "1.5.0",
      "model_name": "SliderStyleModel",
      "state": {
       "description_width": "initial"
      }
     },
     "d6314bf4ef4e4071a4dae75b4f1748c2": {
      "model_module": "@jupyter-widgets/controls",
      "model_module_version": "1.5.0",
      "model_name": "ButtonStyleModel",
      "state": {
       "button_color": "red"
      }
     },
     "d67eca8a585445fbb1fdc444affad6a8": {
      "model_module": "@jupyter-widgets/controls",
      "model_module_version": "1.5.0",
      "model_name": "ButtonModel",
      "state": {
       "description": "Remove shoreline",
       "layout": "IPY_MODEL_9f6895fed9f740fe84fcd4b4e7813a16",
       "style": "IPY_MODEL_58452dc9b4df43af87564aef24bf609f"
      }
     },
     "d6fbb6f7ed28436eaf64b67433d1f8cb": {
      "model_module": "@jupyter-widgets/controls",
      "model_module_version": "1.5.0",
      "model_name": "HBoxModel",
      "state": {
       "children": [
        "IPY_MODEL_4736efa1283142c6b78e32b24eae53e9",
        "IPY_MODEL_36ca339cb3764807b5255fcb44e28e59"
       ],
       "layout": "IPY_MODEL_67e871ed9a044e879c38c7d4f99bc7b1"
      }
     },
     "d78c84a75c4e493d81b138e5f439ea18": {
      "model_module": "@jupyter-widgets/controls",
      "model_module_version": "1.5.0",
      "model_name": "SelectMultipleModel",
      "state": {
       "_options_labels": [
        "L5",
        "L7",
        "L8",
        "L9",
        "S2"
       ],
       "description": "Satellites",
       "index": [
        2
       ],
       "layout": "IPY_MODEL_ee968769a33a42c88f87d080011e200b",
       "rows": 5,
       "style": "IPY_MODEL_d0cf176a6c9e4eee954e64ee8f30fa1e"
      }
     },
     "d7ed64882aa94d4fb7ed41a660040ad6": {
      "model_module": "@jupyter-widgets/base",
      "model_module_version": "1.2.0",
      "model_name": "LayoutModel",
      "state": {}
     },
     "d7f56aacfde941e9ac04b7dc36f0dcc9": {
      "model_module": "@jupyter-widgets/base",
      "model_module_version": "1.2.0",
      "model_name": "LayoutModel",
      "state": {}
     },
     "d8017e24d7564d73916fb20b061f45a1": {
      "model_module": "@jupyter-widgets/controls",
      "model_module_version": "1.5.0",
      "model_name": "DescriptionStyleModel",
      "state": {
       "description_width": ""
      }
     },
     "d83bf6b4f69243c7bdf3c23dbb1caced": {
      "model_module": "@jupyter-widgets/controls",
      "model_module_version": "1.5.0",
      "model_name": "ProgressStyleModel",
      "state": {
       "description_width": ""
      }
     },
     "d8b18bb5f0c548c29873dffa0ea16610": {
      "model_module": "@jupyter-widgets/controls",
      "model_module_version": "1.5.0",
      "model_name": "VBoxModel",
      "state": {
       "children": [
        "IPY_MODEL_f7888c08f8f045c991f9b41345b0db6d",
        "IPY_MODEL_5a74ac5d76b2482ead6522c0b4d649fa",
        "IPY_MODEL_eda75be8a4504abf991daa9cfb631b32",
        "IPY_MODEL_ad456666bea3445987419f8df80542a4"
       ],
       "layout": "IPY_MODEL_093c4f0875c74a9a983b58efa9a91066"
      }
     },
     "d93779594d3f4dc2b93898328acb4721": {
      "model_module": "@jupyter-widgets/controls",
      "model_module_version": "1.5.0",
      "model_name": "HTMLModel",
      "state": {
       "layout": "IPY_MODEL_c16443f4da924142aff5c30c7fe583cd",
       "style": "IPY_MODEL_ac275e20b7c844b6add522e814118907",
       "value": "<h2>Load Feature into Bounding Box</h2>                </br> Loads shoreline or transects into bounding box on map.                </br>If no transects or shorelines exist, then               </br> draw bounding box somewhere else                "
      }
     },
     "d998e38041e24e5789bf0228f50cfcb9": {
      "model_module": "@jupyter-widgets/base",
      "model_module_version": "1.2.0",
      "model_name": "LayoutModel",
      "state": {}
     },
     "d9ae953d89f44f7ba43948ca042c56a7": {
      "model_module": "@jupyter-widgets/controls",
      "model_module_version": "1.5.0",
      "model_name": "IntSliderModel",
      "state": {
       "continuous_update": false,
       "description": "Large Grid:",
       "layout": "IPY_MODEL_743d88f7b86b4c259d0976999e0a87b9",
       "max": 10000,
       "min": 1000,
       "step": 100,
       "style": "IPY_MODEL_d551f3399c834064958b57a08bf170e4",
       "value": 4000
      }
     },
     "d9afe44b7aca49239ccb5ed0906744d4": {
      "model_module": "@jupyter-widgets/controls",
      "model_module_version": "1.5.0",
      "model_name": "ButtonStyleModel",
      "state": {
       "button_color": "#ae3cf0"
      }
     },
     "d9eb7065f47041adab65321ad9ad76d6": {
      "model_module": "@jupyter-widgets/base",
      "model_module_version": "1.2.0",
      "model_name": "LayoutModel",
      "state": {
       "height": "auto",
       "padding": "0px 0px 0px 4px",
       "width": "auto"
      }
     },
     "d9fa58f3ac15463282f6e72a1abf84e9": {
      "model_module": "@jupyter-widgets/controls",
      "model_module_version": "1.5.0",
      "model_name": "ToggleButtonModel",
      "state": {
       "icon": "wrench",
       "layout": "IPY_MODEL_644fbebbf02e466384e3e724e1f6e1b9",
       "style": "IPY_MODEL_ad9359dc38884d3ca191cc04d165b98f",
       "tooltip": "Toolbar"
      }
     },
     "da2c91a68d174631965b60869048cc89": {
      "model_module": "@jupyter-widgets/controls",
      "model_module_version": "1.5.0",
      "model_name": "ButtonStyleModel",
      "state": {
       "button_color": "#69add1"
      }
     },
     "da75a4283b3a42049a9fb10fb574beb3": {
      "model_module": "@jupyter-widgets/base",
      "model_module_version": "1.2.0",
      "model_name": "LayoutModel",
      "state": {}
     },
     "db2501fac29e44f19591681404e0c12c": {
      "model_module": "@jupyter-widgets/base",
      "model_module_version": "1.2.0",
      "model_name": "LayoutModel",
      "state": {}
     },
     "db29fdb79c50445d9e87a1bcb70d6ae9": {
      "model_module": "jupyter-leaflet",
      "model_module_version": "^0.17.0",
      "model_name": "LeafletTileLayerModel",
      "state": {
       "_model_module_version": "^0.17.0",
       "_view_module_version": "^0.17.0",
       "attribution": "(C) OpenStreetMap contributors",
       "max_zoom": 15,
       "name": "HikeBike.HillShading",
       "options": [
        "attribution",
        "bounds",
        "detect_retina",
        "max_native_zoom",
        "max_zoom",
        "min_native_zoom",
        "min_zoom",
        "no_wrap",
        "tile_size",
        "tms"
       ],
       "url": "https://tiles.wmflabs.org/hillshading/{z}/{x}/{y}.png"
      }
     },
     "dbd9ea7814df48708c8f70adf949177f": {
      "model_module": "jupyter-leaflet",
      "model_module_version": "^0.17.0",
      "model_name": "LeafletTileLayerModel",
      "state": {
       "_model_module_version": "^0.17.0",
       "_view_module_version": "^0.17.0",
       "attribution": "(C) Stadia Maps, (C) OpenMapTiles (C) OpenStreetMap contributors",
       "max_zoom": 20,
       "name": "Stadia.OSMBright",
       "options": [
        "attribution",
        "bounds",
        "detect_retina",
        "max_native_zoom",
        "max_zoom",
        "min_native_zoom",
        "min_zoom",
        "no_wrap",
        "tile_size",
        "tms"
       ],
       "url": "https://tiles.stadiamaps.com/tiles/osm_bright/{z}/{x}/{y}.png"
      }
     },
     "dc8a7a295e7f4c0bbd8e968d56a26475": {
      "model_module": "@jupyter-widgets/base",
      "model_module_version": "1.2.0",
      "model_name": "LayoutModel",
      "state": {
       "height": "auto",
       "padding": "0px 0px 0px 4px",
       "width": "auto"
      }
     },
     "dd4dda1631bd4651ad3710170db65e6a": {
      "model_module": "@jupyter-widgets/controls",
      "model_module_version": "1.5.0",
      "model_name": "ToggleButtonModel",
      "state": {
       "button_style": "primary",
       "icon": "table",
       "layout": "IPY_MODEL_bd18baf8ae22469e8b8eb54245e5d57c",
       "style": "IPY_MODEL_e4bc8bcd20134fdebb25a1d523db5529",
       "tooltip": "Open attribute table"
      }
     },
     "ddc374bfb167425fb1fa1acbb5196342": {
      "model_module": "@jupyter-widgets/base",
      "model_module_version": "1.2.0",
      "model_name": "LayoutModel",
      "state": {
       "padding": "0px"
      }
     },
     "dded7c1c002e4ee79dd64aade85b3bb6": {
      "model_module": "@jupyter-widgets/base",
      "model_module_version": "1.2.0",
      "model_name": "LayoutModel",
      "state": {}
     },
     "de506f6a926b40c3808920a8a0f94fd1": {
      "model_module": "@jupyter-widgets/controls",
      "model_module_version": "1.5.0",
      "model_name": "TextModel",
      "state": {
       "description": "Output epsg:",
       "layout": "IPY_MODEL_0a0e266d06824452a982e904cb1659d4",
       "style": "IPY_MODEL_1417ad3c825e4659ab7c5e3a32eb16ed",
       "value": "3857"
      }
     },
     "debdf093d27c4ee4a3f703d6239f72f6": {
      "model_module": "@jupyter-widgets/base",
      "model_module_version": "1.2.0",
      "model_name": "LayoutModel",
      "state": {}
     },
     "df0a159f605c4725aa648e7999879973": {
      "model_module": "@jupyter-widgets/controls",
      "model_module_version": "1.5.0",
      "model_name": "VBoxModel",
      "state": {
       "children": [
        "IPY_MODEL_d93779594d3f4dc2b93898328acb4721",
        "IPY_MODEL_20543379843345fe927d78e16db59b99",
        "IPY_MODEL_ef4d83c5a5d140fea38e5485ae608a2e"
       ],
       "layout": "IPY_MODEL_c29c1bb4c2024ce9a7c7b79e69aa0bc4"
      }
     },
     "df1483d59b4843f1a94176b04c1c9d76": {
      "model_module": "jupyter-leaflet",
      "model_module_version": "^0.17.0",
      "model_name": "LeafletTileLayerModel",
      "state": {
       "_model_module_version": "^0.17.0",
       "_view_module_version": "^0.17.0",
       "attribution": "Justice Map",
       "max_zoom": 22,
       "name": "JusticeMap.plurality",
       "options": [
        "attribution",
        "bounds",
        "detect_retina",
        "max_native_zoom",
        "max_zoom",
        "min_native_zoom",
        "min_zoom",
        "no_wrap",
        "tile_size",
        "tms"
       ],
       "url": "https://www.justicemap.org/tile/county/plural/{z}/{x}/{y}.png"
      }
     },
     "dfef6cdb77984ba5ae9394f29b2d95c1": {
      "model_module": "@jupyter-widgets/base",
      "model_module_version": "1.2.0",
      "model_name": "LayoutModel",
      "state": {
       "margin": "0px 0px 0px 5px"
      }
     },
     "e1c05c8972ac454c8a7e629dafbef5c9": {
      "model_module": "jupyter-leaflet",
      "model_module_version": "^0.17.0",
      "model_name": "LeafletTileLayerModel",
      "state": {
       "_model_module_version": "^0.17.0",
       "_view_module_version": "^0.17.0",
       "attribution": "(C) OpenStreetMap contributors (C) CARTO",
       "max_zoom": 20,
       "name": "CartoDB.VoyagerOnlyLabels",
       "options": [
        "attribution",
        "bounds",
        "detect_retina",
        "max_native_zoom",
        "max_zoom",
        "min_native_zoom",
        "min_zoom",
        "no_wrap",
        "tile_size",
        "tms"
       ],
       "url": "https://a.basemaps.cartocdn.com/rastertiles/voyager_only_labels/{z}/{x}/{y}.png"
      }
     },
     "e1d1684866594dc0907a1d2272a9cfae": {
      "model_module": "@jupyter-widgets/controls",
      "model_module_version": "1.5.0",
      "model_name": "DescriptionStyleModel",
      "state": {
       "description_width": ""
      }
     },
     "e21a0161411848f88caec27051188849": {
      "model_module": "@jupyter-widgets/base",
      "model_module_version": "1.2.0",
      "model_name": "LayoutModel",
      "state": {}
     },
     "e21de9e2fa3a4ca18a285b56a4b9d334": {
      "model_module": "@jupyter-widgets/controls",
      "model_module_version": "1.5.0",
      "model_name": "AccordionModel",
      "state": {
       "_titles": {
        "0": "Hover Data",
        "1": "ROI Data"
       },
       "children": [
        "IPY_MODEL_0f49c868d0104fd6b6c7b445105e6017",
        "IPY_MODEL_08536150943340d8a6390846691b8d47"
       ],
       "layout": "IPY_MODEL_84243d8b57374fdbb5c7e4a093a0362c"
      }
     },
     "e26473ef855a4638aa555d415097d893": {
      "model_module": "@jupyter-widgets/base",
      "model_module_version": "1.2.0",
      "model_name": "LayoutModel",
      "state": {
       "height": "28px",
       "width": "72px"
      }
     },
     "e348e723fd854750b95494c12608dc68": {
      "model_module": "@jupyter-widgets/base",
      "model_module_version": "1.2.0",
      "model_name": "LayoutModel",
      "state": {}
     },
     "e369af1038c1470884e1058adcc3c23c": {
      "model_module": "@jupyter-widgets/base",
      "model_module_version": "1.2.0",
      "model_name": "LayoutModel",
      "state": {}
     },
     "e40a7a551b5e4d5f9a9041af7148b69b": {
      "model_module": "@jupyter-widgets/base",
      "model_module_version": "1.2.0",
      "model_name": "LayoutModel",
      "state": {
       "height": "auto",
       "padding": "0px 0px 0px 4px",
       "width": "auto"
      }
     },
     "e415c77480454291b21305c662c8a239": {
      "model_module": "jupyter-leaflet",
      "model_module_version": "^0.17.0",
      "model_name": "LeafletTileLayerModel",
      "state": {
       "_model_module_version": "^0.17.0",
       "_view_module_version": "^0.17.0",
       "attribution": "Google",
       "max_zoom": 22,
       "name": "Google Terrain",
       "options": [
        "attribution",
        "bounds",
        "detect_retina",
        "max_native_zoom",
        "max_zoom",
        "min_native_zoom",
        "min_zoom",
        "no_wrap",
        "tile_size",
        "tms"
       ],
       "url": "https://mt1.google.com/vt/lyrs=p&x={x}&y={y}&z={z}"
      }
     },
     "e44f64be48c84c7eb034bfc1824a23b6": {
      "model_module": "@jupyter-widgets/controls",
      "model_module_version": "1.5.0",
      "model_name": "HTMLModel",
      "state": {
       "layout": "IPY_MODEL_894eca32118a47a3bb7671a77415fa4d",
       "style": "IPY_MODEL_8bef8acdd39a4a20b562f52b8fb36ee6",
       "value": "<b>Pick multiple satellites:</b>                <br> - Pick multiple satellites by holding the control key>                 <br> - images after 2022/01/01 will be automatically downloaded from Collection 2 "
      }
     },
     "e456195cbb054cfa979e82fdd76ef0d1": {
      "model_module": "jupyter-leaflet",
      "model_module_version": "^0.17.0",
      "model_name": "LeafletMapStyleModel",
      "state": {
       "_model_module_version": "^0.17.0"
      }
     },
     "e4bc8bcd20134fdebb25a1d523db5529": {
      "model_module": "@jupyter-widgets/controls",
      "model_module_version": "1.5.0",
      "model_name": "DescriptionStyleModel",
      "state": {
       "description_width": ""
      }
     },
     "e5fb5d89f90c4c85a8dd9a2a57fbfa49": {
      "model_module": "jupyter-leaflet",
      "model_module_version": "^0.17.0",
      "model_name": "LeafletTileLayerModel",
      "state": {
       "_model_module_version": "^0.17.0",
       "_view_module_version": "^0.17.0",
       "attribution": "(C) OpenStreetMap contributors (C) CARTO",
       "max_zoom": 20,
       "name": "CartoDB.DarkMatterNoLabels",
       "options": [
        "attribution",
        "bounds",
        "detect_retina",
        "max_native_zoom",
        "max_zoom",
        "min_native_zoom",
        "min_zoom",
        "no_wrap",
        "tile_size",
        "tms"
       ],
       "url": "https://a.basemaps.cartocdn.com/dark_nolabels/{z}/{x}/{y}.png"
      }
     },
     "e5feed5bbb254951a5a5885fa4e0f85e": {
      "model_module": "@jupyter-widgets/controls",
      "model_module_version": "1.5.0",
      "model_name": "ButtonModel",
      "state": {
       "description": "Load Shoreline",
       "layout": "IPY_MODEL_f01ce60b3d014185b0799edbb6f9d484",
       "style": "IPY_MODEL_ed8ebe1bc1794083b992f2ce61fbcf8b"
      }
     },
     "e60a420d4dc34e3a89b6b2292b3b73e2": {
      "model_module": "@jupyter-widgets/controls",
      "model_module_version": "1.5.0",
      "model_name": "VBoxModel",
      "state": {
       "children": [
        "IPY_MODEL_353223967e5e4f8d8df45e11c7e1b666",
        "IPY_MODEL_38c3a977bd5b4e2b9614fb39435a0c42",
        "IPY_MODEL_a05224e9aa71418d9821323011650ded"
       ],
       "layout": "IPY_MODEL_0b826664dc114badbadcdefc2c2f6751"
      }
     },
     "e72d79e6c7614e828b186cafade59252": {
      "model_module": "@jupyter-widgets/controls",
      "model_module_version": "1.5.0",
      "model_name": "ToggleButtonModel",
      "state": {
       "button_style": "primary",
       "icon": "picture-o",
       "layout": "IPY_MODEL_fd1cc35550f44dc6bfe3ac2670fcf993",
       "style": "IPY_MODEL_327ac01edd6c47948b79673824d849c1",
       "tooltip": "Open COG/STAC dataset"
      }
     },
     "e76b878089184572a4496b0445f8f143": {
      "model_module": "@jupyter-widgets/base",
      "model_module_version": "1.2.0",
      "model_name": "LayoutModel",
      "state": {}
     },
     "e834411421b242d3a1c18d5181a09a98": {
      "model_module": "@jupyter-widgets/base",
      "model_module_version": "1.2.0",
      "model_name": "LayoutModel",
      "state": {
       "height": "auto",
       "padding": "0px 0px 0px 4px",
       "width": "auto"
      }
     },
     "e8551e40cc784315bd121e2bf74cbe2a": {
      "model_module": "@jupyter-widgets/controls",
      "model_module_version": "1.5.0",
      "model_name": "HTMLModel",
      "state": {
       "layout": "IPY_MODEL_5b78c7d201e140ceb63788d497156832",
       "style": "IPY_MODEL_aa9abe803308460698c161b57c3f11b4",
       "value": "<h2>Save to file</h2>                Save feature on the map to a geojson file.                <br>Geojson file will be saved to CoastSeg directory.                </br><b>Example</b>: Saves bounding box to bbox.geojson            "
      }
     },
     "e8e3134b33ee4c589d672e60659c9590": {
      "model_module": "jupyter-leaflet",
      "model_module_version": "^0.17.0",
      "model_name": "LeafletGeoJSONModel",
      "state": {
       "_model_module_version": "^0.17.0",
       "_view_module_version": "^0.17.0",
       "data": {
        "features": [],
        "type": "FeatureCollection"
       },
       "hover_style": {
        "color": "aqua",
        "fillColor": "blue",
        "fillOpacity": 0.1
       },
       "name": "Selected ROIs"
      }
     },
     "e955ae9ffaf646c8a88cc7e19f4458c1": {
      "model_module": "jupyter-leaflet",
      "model_module_version": "^0.17.0",
      "model_name": "LeafletWMSLayerModel",
      "state": {
       "_model_module_version": "^0.17.0",
       "_view_module_version": "^0.17.0",
       "attribution": "MRLC",
       "crs": {
        "custom": false,
        "name": "EPSG3857"
       },
       "format": "image/png",
       "layers": "NLCD_2019_Land_Cover_L48",
       "name": "NLCD 2019 CONUS Land Cover",
       "options": [
        "attribution",
        "bounds",
        "detect_retina",
        "format",
        "layers",
        "max_native_zoom",
        "max_zoom",
        "min_native_zoom",
        "min_zoom",
        "no_wrap",
        "styles",
        "tile_size",
        "tms",
        "transparent",
        "uppercase"
       ],
       "transparent": true,
       "url": "https://www.mrlc.gov/geoserver/mrlc_display/NLCD_2019_Land_Cover_L48/wms?"
      }
     },
     "e998c86fc9d0462e8782024858d81251": {
      "model_module": "@jupyter-widgets/controls",
      "model_module_version": "1.5.0",
      "model_name": "ButtonStyleModel",
      "state": {
       "button_color": "red"
      }
     },
     "ea0ce03c143c4c02964859dc6992ef4f": {
      "model_module": "jupyter-leaflet",
      "model_module_version": "^0.17.0",
      "model_name": "LeafletTileLayerModel",
      "state": {
       "_model_module_version": "^0.17.0",
       "_view_module_version": "^0.17.0",
       "attribution": "Justice Map",
       "max_zoom": 22,
       "name": "JusticeMap.hispanic",
       "options": [
        "attribution",
        "bounds",
        "detect_retina",
        "max_native_zoom",
        "max_zoom",
        "min_native_zoom",
        "min_zoom",
        "no_wrap",
        "tile_size",
        "tms"
       ],
       "url": "https://www.justicemap.org/tile/county/hispanic/{z}/{x}/{y}.png"
      }
     },
     "ea0d3cd004c1480e83da9667c722e8f5": {
      "model_module": "@jupyter-widgets/controls",
      "model_module_version": "1.5.0",
      "model_name": "DatePickerModel",
      "state": {
       "description": "End Date",
       "disabled": false,
       "layout": "IPY_MODEL_fb47ca1f81f34445a776dce6bb25fcda",
       "style": "IPY_MODEL_26ed1884ca4944dba91f875a138970d9",
       "value": {
        "date": 1,
        "month": 2,
        "year": 2019
       }
      }
     },
     "eac32b4f71c44ad292f133781b6bdbe6": {
      "model_module": "jupyter-leaflet",
      "model_module_version": "^0.17.0",
      "model_name": "LeafletTileLayerModel",
      "state": {
       "_model_module_version": "^0.17.0",
       "_view_module_version": "^0.17.0",
       "attribution": "Map tiles by Stamen Design, CC BY 3.0 -- Map data (C) OpenStreetMap contributors",
       "max_zoom": 20,
       "name": "Stamen.TonerLabels",
       "options": [
        "attribution",
        "bounds",
        "detect_retina",
        "max_native_zoom",
        "max_zoom",
        "min_native_zoom",
        "min_zoom",
        "no_wrap",
        "tile_size",
        "tms"
       ],
       "url": "https://stamen-tiles-a.a.ssl.fastly.net/toner-labels/{z}/{x}/{y}.png"
      }
     },
     "eae62f5fc5ca4399b7521ce015a6b88e": {
      "model_module": "jupyter-leaflet",
      "model_module_version": "^0.17.0",
      "model_name": "LeafletTileLayerModel",
      "state": {
       "_model_module_version": "^0.17.0",
       "_view_module_version": "^0.17.0",
       "attribution": "Datenquelle: basemap.at",
       "max_zoom": 20,
       "name": "BasemapAT.basemap",
       "options": [
        "attribution",
        "bounds",
        "detect_retina",
        "max_native_zoom",
        "max_zoom",
        "min_native_zoom",
        "min_zoom",
        "no_wrap",
        "tile_size",
        "tms"
       ],
       "url": "https://maps.wien.gv.at/basemap/geolandbasemap/normal/google3857/{z}/{y}/{x}.png"
      }
     },
     "ebba63c12d074a8aa91d808af0935cad": {
      "model_module": "@jupyter-widgets/controls",
      "model_module_version": "1.5.0",
      "model_name": "ButtonModel",
      "state": {
       "description": "Generate ROI",
       "layout": "IPY_MODEL_89cb1d4fe034493082279ef539742e45",
       "style": "IPY_MODEL_ae1e1a56c08d409db19fdadc61e31440"
      }
     },
     "ebd33c6ea64a4d43a623ee2b1aaaeecf": {
      "model_module": "@jupyter-widgets/base",
      "model_module_version": "1.2.0",
      "model_name": "LayoutModel",
      "state": {
       "height": "auto",
       "padding": "0px 0px 0px 4px",
       "width": "auto"
      }
     },
     "ec20536fff004a1c9f41255631a32397": {
      "model_module": "@jupyter-widgets/controls",
      "model_module_version": "1.5.0",
      "model_name": "IntSliderModel",
      "state": {
       "continuous_update": false,
       "description": "Small Grid:",
       "layout": "IPY_MODEL_b3f88c9a3ff840fdabe8d7d4366d06ef",
       "max": 10000,
       "step": 100,
       "style": "IPY_MODEL_c5441f6694b64f78a720fa382a14ed36",
       "value": 3500
      }
     },
     "ec2a3a05b3054a52983a8cbd1f07de86": {
      "model_module": "@jupyter-widgets/controls",
      "model_module_version": "1.5.0",
      "model_name": "IntSliderModel",
      "state": {
       "continuous_update": false,
       "description": "Small Grid:",
       "layout": "IPY_MODEL_37715bc6456e402ba972880fd6ea08dc",
       "max": 10000,
       "step": 100,
       "style": "IPY_MODEL_5e1c2af39b8948e398e89b784f12b98e",
       "value": 3500
      }
     },
     "ed08d91d5f85485286e9a6a25683cf11": {
      "model_module": "@jupyter-widgets/controls",
      "model_module_version": "1.5.0",
      "model_name": "VBoxModel",
      "state": {
       "children": [
        "IPY_MODEL_a4884c1153a142cc88fda54e24304cc4",
        "IPY_MODEL_faf42cd5a64740cd8409a0df948ac8aa"
       ],
       "layout": "IPY_MODEL_8043d6e653c748aaa60ce299159720c5"
      }
     },
     "ed8ebe1bc1794083b992f2ce61fbcf8b": {
      "model_module": "@jupyter-widgets/controls",
      "model_module_version": "1.5.0",
      "model_name": "ButtonStyleModel",
      "state": {
       "button_color": "#69add1"
      }
     },
     "ed9fb8c87f1c4bb1a6ed3b20fc18f954": {
      "model_module": "@jupyter-widgets/controls",
      "model_module_version": "1.5.0",
      "model_name": "ToggleButtonModel",
      "state": {
       "icon": "wrench",
       "layout": "IPY_MODEL_ace670da8c7242fea13b2c030d0a1590",
       "style": "IPY_MODEL_c82c16afc33c4e19ba5e9f887fb15ba2",
       "tooltip": "Toolbar"
      }
     },
     "eda75be8a4504abf991daa9cfb631b32": {
      "model_module": "@jupyter-widgets/controls",
      "model_module_version": "1.5.0",
      "model_name": "TextModel",
      "state": {
       "description": "Output epsg:",
       "layout": "IPY_MODEL_73c3738e5cd247eda517f345b221c495",
       "style": "IPY_MODEL_231a337147514b96a253214b93814210",
       "value": "3857"
      }
     },
     "ee13adadc8b44a2e818a23e1b30441d4": {
      "model_module": "@jupyter-widgets/controls",
      "model_module_version": "1.5.0",
      "model_name": "ButtonModel",
      "state": {
       "description": "Load Shoreline file",
       "layout": "IPY_MODEL_59147603031a45a7b3acdac6eea2391d",
       "style": "IPY_MODEL_8f7d04c247054d95ad15debfe2ffaf30"
      }
     },
     "ee968769a33a42c88f87d080011e200b": {
      "model_module": "@jupyter-widgets/base",
      "model_module_version": "1.2.0",
      "model_name": "LayoutModel",
      "state": {}
     },
     "ef32764f9a844c9c84d88f3f9428a589": {
      "model_module": "@jupyter-widgets/base",
      "model_module_version": "1.2.0",
      "model_name": "LayoutModel",
      "state": {
       "height": "auto",
       "padding": "0px 0px 0px 4px",
       "width": "auto"
      }
     },
     "ef4263ff87c84f849d11430535096d0b": {
      "model_module": "@jupyter-widgets/base",
      "model_module_version": "1.2.0",
      "model_name": "LayoutModel",
      "state": {}
     },
     "ef4d83c5a5d140fea38e5485ae608a2e": {
      "model_module": "@jupyter-widgets/controls",
      "model_module_version": "1.5.0",
      "model_name": "ButtonModel",
      "state": {
       "description": "Load Transects",
       "layout": "IPY_MODEL_34ec4463bcec4fb889707a60726adc5c",
       "style": "IPY_MODEL_8cf07ac2c4b44345ba9c06bc30b66697"
      }
     },
     "ef577c51891846a79e25004cf4fdc50e": {
      "model_module": "@jupyter-widgets/base",
      "model_module_version": "1.2.0",
      "model_name": "LayoutModel",
      "state": {
       "margin": "0px 20px 20px 20px"
      }
     },
     "ef992ab179564d60af0fe78f42cd13aa": {
      "model_module": "@jupyter-widgets/controls",
      "model_module_version": "1.5.0",
      "model_name": "DescriptionStyleModel",
      "state": {
       "description_width": ""
      }
     },
     "f018b8406d144b25aa7d89d6889d3b02": {
      "model_module": "@jupyter-widgets/base",
      "model_module_version": "1.2.0",
      "model_name": "LayoutModel",
      "state": {
       "height": "auto",
       "padding": "0px 0px 0px 4px",
       "width": "auto"
      }
     },
     "f01ce60b3d014185b0799edbb6f9d484": {
      "model_module": "@jupyter-widgets/base",
      "model_module_version": "1.2.0",
      "model_name": "LayoutModel",
      "state": {}
     },
     "f08d0a358fbc4a94a59403e7faf2362d": {
      "model_module": "@jupyter-widgets/controls",
      "model_module_version": "1.5.0",
      "model_name": "ButtonStyleModel",
      "state": {
       "button_color": "#ae3cf0"
      }
     },
     "f08d6be8d53a47aa89339f963f8d6f27": {
      "model_module": "jupyter-leaflet",
      "model_module_version": "^0.17.0",
      "model_name": "LeafletMapStyleModel",
      "state": {
       "_model_module_version": "^0.17.0"
      }
     },
     "f0c89922e0f94353b801740902d3cd69": {
      "model_module": "jupyter-leaflet",
      "model_module_version": "^0.17.0",
      "model_name": "LeafletGeoJSONModel",
      "state": {
       "_model_module_version": "^0.17.0",
       "_view_module_version": "^0.17.0",
       "data": {
        "features": [
         {
          "geometry": {
           "coordinates": [
            [
             -124.07313969838623,
             41.38110980700009
            ],
            [
             -124.07313230799997,
             41.381171229000074
            ],
            [
             -124.07311962399996,
             41.381239393000044
            ],
            [
             -124.07310149799997,
             41.38130211600003
            ],
            [
             -124.07307607599995,
             41.38135754100006
            ],
            [
             -124.073048482,
             41.381397322000055
            ],
            [
             -124.07298679099995,
             41.38147037700003
            ],
            [
             -124.07295926799998,
             41.38151022900007
            ],
            [
             -124.07293440999996,
             41.38156463300004
            ],
            [
             -124.07291665199995,
             41.38162614000004
            ],
            [
             -124.07290422299997,
             41.38169297300004
            ],
            [
             -124.07289572399998,
             41.38176373600004
            ],
            [
             -124.07289005899997,
             41.38183733500006
            ],
            [
             -124.07288636899995,
             41.38191290800006
            ],
            [
             -124.07287921099999,
             41.38222280300005
            ],
            [
             -124.072873126,
             41.38237524500005
            ],
            [
             -124.07286746299997,
             41.38244884300008
            ],
            [
             -124.07285896199994,
             41.38251960600007
            ],
            [
             -124.07284653399995,
             41.38258644100006
            ],
            [
             -124.07282877799997,
             41.382647949000045
            ],
            [
             -124.07280391799998,
             41.38270235300007
            ],
            [
             -124.07277639899996,
             41.382742205000056
            ],
            [
             -124.07271471099995,
             41.38281526600008
            ],
            [
             -124.07268711999996,
             41.38285504800007
            ],
            [
             -124.07266189299997,
             41.382909942000026
            ],
            [
             -124.07264385099995,
             41.38297202000007
            ],
            [
             -124.07263118199995,
             41.383039471000075
            ],
            [
             -124.07262247799997,
             41.38311088700004
            ],
            [
             -124.07261665699997,
             41.38318518700004
            ],
            [
             -124.07261290199995,
             41.38326155200008
            ],
            [
             -124.07260931899998,
             41.38341821200004
            ],
            [
             -124.07260870199997,
             41.38365796000005
            ],
            [
             -124.07261462199995,
             41.384705660000066
            ],
            [
             -124.07261512899998,
             41.38502698900004
            ],
            [
             -124.07261305299994,
             41.38518546600005
            ],
            [
             -124.07261063099998,
             41.38526337300004
            ],
            [
             -124.07260672799998,
             41.385339842000064
            ],
            [
             -124.072600723,
             41.38541426100005
            ],
            [
             -124.07259180299997,
             41.38548582100003
            ],
            [
             -124.07257888099997,
             41.38555344300005
            ],
            [
             -124.07256054699997,
             41.38561572000003
            ],
            [
             -124.07253498899996,
             41.38567084300007
            ],
            [
             -124.07250708599997,
             41.38571084000006
            ],
            [
             -124.072444723,
             41.38578437800004
            ],
            [
             -124.07241685499997,
             41.38582448200003
            ],
            [
             -124.07239223,
             41.38587750600004
            ],
            [
             -124.07237443499997,
             41.38593724800006
            ],
            [
             -124.07236189899999,
             41.38600202600003
            ],
            [
             -124.07235341999996,
             41.386070473000075
            ],
            [
             -124.07234812299998,
             41.38614147100003
            ],
            [
             -124.07234540899998,
             41.38621408800003
            ],
            [
             -124.07234491999998,
             41.38628749600008
            ],
            [
             -124.072346526,
             41.386360925000076
            ],
            [
             -124.07235030799995,
             41.386433590000024
            ],
            [
             -124.07235655599999,
             41.386504623000064
            ],
            [
             -124.07236578399994,
             41.38657300800003
            ],
            [
             -124.07237875399994,
             41.38663751200005
            ],
            [
             -124.07239648899997,
             41.38669659100003
            ],
            [
             -124.07242032599999,
             41.38674831000003
            ],
            [
             -124.07244664299998,
             41.38678648100006
            ],
            [
             -124.07250215199997,
             41.38685255900003
            ],
            [
             -124.072523838,
             41.38688610100007
            ],
            [
             -124.07253305199998,
             41.386911885000075
            ]
           ],
           "type": "LineString"
          },
          "id": "2",
          "properties": {
           "CSU_ID": 73772,
           "ERODIBILITY": "Medium",
           "MEAN_SIG_WAVEHEIGHT": 2.207218,
           "TIDAL_RANGE": 3.034041,
           "river_label": "moderate river discharge",
           "sinuosity_label": "straight",
           "slope_label": "flat",
           "style": {
            "color": "black",
            "dashArray": "5",
            "fillOpacity": 0.5,
            "fill_color": "black",
            "opacity": 1,
            "weight": 4
           },
           "turbid_label": "moderately turbid"
          },
          "type": "Feature"
         },
         {
          "geometry": {
           "coordinates": [
            [
             -124.07253305199998,
             41.386911885000075
            ],
            [
             -124.07253695699995,
             41.38692281300007
            ],
            [
             -124.07254120999994,
             41.386961308000025
            ],
            [
             -124.07253667799995,
             41.38699938600007
            ],
            [
             -124.07252297199994,
             41.38703480100003
            ],
            [
             -124.07250006199996,
             41.387066032000064
            ],
            [
             -124.07231895899997,
             41.387263767000036
            ],
            [
             -124.07228667099997,
             41.387298659000066
            ],
            [
             -124.072250027,
             41.38732958800006
            ],
            [
             -124.07217147699998,
             41.38738687400007
            ],
            [
             -124.07213455299996,
             41.387418051000054
            ],
            [
             -124.07210174899996,
             41.38745340200006
            ],
            [
             -124.07190506799998,
             41.38766581500005
            ],
            [
             -124.07187500099997,
             41.38770393200008
            ],
            [
             -124.07184812999998,
             41.38775727900003
            ],
            [
             -124.07182907999999,
             41.387818449000065
            ],
            [
             -124.07181583099998,
             41.38788540000007
            ],
            [
             -124.07180683699994,
             41.38795655300004
            ],
            [
             -124.07180093999995,
             41.388030686000036
            ],
            [
             -124.07179730099995,
             41.38810685800007
            ],
            [
             -124.07179533799996,
             41.38818433300003
            ],
            [
             -124.07179516399998,
             41.38834089900007
            ],
            [
             -124.07179964199997,
             41.38849632100005
            ],
            [
             -124.07180412699995,
             41.38857230900004
            ],
            [
             -124.07181074899995,
             41.38864628500005
            ],
            [
             -124.07182026699996,
             41.38871739700005
            ],
            [
             -124.07183371199994,
             41.38878456100008
            ],
            [
             -124.07185245,
             41.38884638800005
            ],
            [
             -124.07187823799995,
             41.38890110800003
            ],
            [
             -124.071906507,
             41.38894123600005
            ],
            [
             -124.07196957899998,
             41.38901487500004
            ],
            [
             -124.07199782099997,
             41.389054970000075
            ],
            [
             -124.07202354799995,
             41.38910962400007
            ],
            [
             -124.07204219599998,
             41.38917134900004
            ],
            [
             -124.07205552099998,
             41.38923837800007
            ],
            [
             -124.07206488699995,
             41.38930931900006
            ],
            [
             -124.07207132399998,
             41.38938308100006
            ],
            [
             -124.07207559099999,
             41.38945881600006
            ],
            [
             -124.07207821699996,
             41.38953584400008
            ],
            [
             -124.07207971699995,
             41.389691621000054
            ],
            [
             -124.07207651399995,
             41.38984650200007
            ],
            [
             -124.07207265299996,
             41.389922322000075
            ],
            [
             -124.07206665299998,
             41.38999619400005
            ],
            [
             -124.07205776899997,
             41.39006726200006
            ],
            [
             -124.07204497099997,
             41.39013442900006
            ],
            [
             -124.07202689199994,
             41.39019628900007
            ],
            [
             -124.07200177099998,
             41.39025104900003
            ],
            [
             -124.07197405899996,
             41.39029119000003
            ],
            [
             -124.07182487399996,
             41.39058867500006
            ],
            [
             -124.07158196499995,
             41.39126300200007
            ],
            [
             -124.07156403199997,
             41.39132594000006
            ],
            [
             -124.07155154199995,
             41.39139431900003
            ],
            [
             -124.07154304099998,
             41.39146668700005
            ],
            [
             -124.07153742099996,
             41.391541937000056
            ],
            [
             -124.07153170899994,
             41.39169797000005
            ],
            [
             -124.071530027,
             41.39185805500006
            ],
            [
             -124.07153193599999,
             41.39338750100006
            ]
           ],
           "type": "LineString"
          },
          "id": "3",
          "properties": {
           "CSU_ID": 74328,
           "ERODIBILITY": "Medium",
           "MEAN_SIG_WAVEHEIGHT": 2.207218,
           "TIDAL_RANGE": 3.034041,
           "river_label": "moderate river discharge",
           "sinuosity_label": "straight",
           "slope_label": "sloping",
           "style": {
            "color": "black",
            "dashArray": "5",
            "fillOpacity": 0.5,
            "fill_color": "black",
            "opacity": 1,
            "weight": 4
           },
           "turbid_label": "moderately turbid"
          },
          "type": "Feature"
         },
         {
          "geometry": {
           "coordinates": [
            [
             -124.07153193599999,
             41.39338750100006
            ],
            [
             -124.07153205699996,
             41.393484028000046
            ],
            [
             -124.07153292399994,
             41.39364636600004
            ],
            [
             -124.07153576299999,
             41.39380700400005
            ],
            [
             -124.071542777,
             41.39396349800006
            ],
            [
             -124.07154900499995,
             41.39403883500006
            ],
            [
             -124.07155798199994,
             41.394111088000045
            ],
            [
             -124.07157068899994,
             41.39417902800005
            ],
            [
             -124.071588384,
             41.39424102500004
            ],
            [
             -124.071612658,
             41.394294958000046
            ],
            [
             -124.07163849199998,
             41.39433264100006
            ],
            [
             -124.07169318799998,
             41.394397894000065
            ],
            [
             -124.07171462599996,
             41.39443118200006
            ],
            [
             -124.071727679,
             41.39446781800007
            ],
            [
             -124.07173211499997,
             41.39450648500008
            ],
            [
             -124.07172811699996,
             41.394545082000036
            ],
            [
             -124.07171541799994,
             41.394581489000075
            ],
            [
             -124.07151012799994,
             41.39499186200004
            ],
            [
             -124.07136757499995,
             41.395208420000074
            ],
            [
             -124.07133954999995,
             41.395248310000056
            ],
            [
             -124.07131394599998,
             41.39530414400008
            ],
            [
             -124.07129588799995,
             41.395367462000024
            ],
            [
             -124.07128344399996,
             41.39543633400007
            ],
            [
             -124.07127511699997,
             41.39550926600003
            ],
            [
             -124.07126975799997,
             41.395585123000046
            ],
            [
             -124.07126469199994,
             41.39574239400008
            ],
            [
             -124.07126299699996,
             41.39614647600007
            ],
            [
             -124.071259898,
             41.39630588400007
            ],
            [
             -124.07125633699997,
             41.39638365800005
            ],
            [
             -124.07125063399997,
             41.39645935200008
            ],
            [
             -124.07124194799997,
             41.39653212800005
            ],
            [
             -124.07122917899994,
             41.39660087900006
            ],
            [
             -124.07121089399999,
             41.39666415900007
            ],
            [
             -124.07118525499999,
             41.39672009700007
            ],
            [
             -124.07115745699997,
             41.396760253000025
            ],
            [
             -124.07109542499995,
             41.39683382800007
            ],
            [
             -124.07106785199994,
             41.396873740000046
            ],
            [
             -124.07104275299997,
             41.39692910500003
            ],
            [
             -124.07102543399998,
             41.396991367000055
            ],
            [
             -124.07101427899994,
             41.39705843400003
            ],
            [
             -124.07100817299994,
             41.397128536000025
            ],
            [
             -124.07100646899994,
             41.39720011000003
            ],
            [
             -124.07100894499996,
             41.397271696000075
            ],
            [
             -124.071015795,
             41.397341821000055
            ],
            [
             -124.07102763699999,
             41.39740889700005
            ],
            [
             -124.07103179499995,
             41.398328409000044
            ],
            [
             -124.070992516,
             41.39955310100004
            ],
            [
             -124.07098879299997,
             41.39962806300008
            ],
            [
             -124.07098298399995,
             41.39970092400006
            ],
            [
             -124.07097429499998,
             41.399770896000064
            ],
            [
             -124.07096168799995,
             41.399836941000046
            ],
            [
             -124.07094381399997,
             41.399897716000055
            ],
            [
             -124.07091895499997,
             41.39995150400006
            ],
            [
             -124.07089378599994,
             41.39998768800007
            ]
           ],
           "type": "LineString"
          },
          "id": "4",
          "properties": {
           "CSU_ID": 74328,
           "ERODIBILITY": "Medium",
           "MEAN_SIG_WAVEHEIGHT": 2.207218,
           "TIDAL_RANGE": 3.034041,
           "river_label": "moderate river discharge",
           "sinuosity_label": "straight",
           "slope_label": "sloping",
           "style": {
            "color": "black",
            "dashArray": "5",
            "fillOpacity": 0.5,
            "fill_color": "black",
            "opacity": 1,
            "weight": 4
           },
           "turbid_label": "moderately turbid"
          },
          "type": "Feature"
         },
         {
          "geometry": {
           "coordinates": [
            [
             -124.07089378599994,
             41.39998768800007
            ],
            [
             -124.07089129999997,
             41.39999126200007
            ],
            [
             -124.07082941099998,
             41.40006420100008
            ],
            [
             -124.07080175399994,
             41.40010396300005
            ],
            [
             -124.07077688799995,
             41.40015776200005
            ],
            [
             -124.07075900799998,
             41.40021855600003
            ],
            [
             -124.07074638799998,
             41.400284628000065
            ],
            [
             -124.07073768499998,
             41.40035463100003
            ],
            [
             -124.07073185799999,
             41.40042753400007
            ],
            [
             -124.07072811599994,
             41.40050254800008
            ],
            [
             -124.07072586099997,
             41.400579081000046
            ],
            [
             -124.07072414299995,
             41.400735059000056
            ],
            [
             -124.07072500899994,
             41.40121037800003
            ],
            [
             -124.07072307499999,
             41.40136702700005
            ],
            [
             -124.07071698399994,
             41.40151938100007
            ],
            [
             -124.07071127299997,
             41.40159262200007
            ],
            [
             -124.07070290299998,
             41.401662815000066
            ],
            [
             -124.07063335799995,
             41.402243234000025
            ],
            [
             -124.07043720699994,
             41.403542153000046
            ],
            [
             -124.07042498499999,
             41.403609506000066
            ],
            [
             -124.0704194386308,
             41.403629
            ]
           ],
           "type": "LineString"
          },
          "id": "5",
          "properties": {
           "CSU_ID": 74328,
           "ERODIBILITY": "Medium",
           "MEAN_SIG_WAVEHEIGHT": 2.207218,
           "TIDAL_RANGE": 3.034041,
           "river_label": "moderate river discharge",
           "sinuosity_label": "straight",
           "slope_label": "sloping",
           "style": {
            "color": "black",
            "dashArray": "5",
            "fillOpacity": 0.5,
            "fill_color": "black",
            "opacity": 1,
            "weight": 4
           },
           "turbid_label": "moderately turbid"
          },
          "type": "Feature"
         },
         {
          "geometry": {
           "coordinates": [
            [
             -124.07924471443542,
             41.35123
            ],
            [
             -124.07906087899994,
             41.35160543200004
            ],
            [
             -124.07891708199998,
             41.351822328000026
            ],
            [
             -124.07883904599998,
             41.35196777900006
            ],
            [
             -124.07829304699999,
             41.353048681000075
            ],
            [
             -124.07809258499998,
             41.35346430200008
            ],
            [
             -124.07807985499994,
             41.35350078000005
            ],
            [
             -124.07807551099995,
             41.35353915300004
            ],
            [
             -124.07801124099996,
             41.35426333200007
            ],
            [
             -124.07800545999999,
             41.35433457800008
            ],
            [
             -124.078002041,
             41.35440750300006
            ],
            [
             -124.07800069599995,
             41.354481244000056
            ],
            [
             -124.07800135999997,
             41.35455501600006
            ],
            [
             -124.07800417899995,
             41.35462804000008
            ],
            [
             -124.07800953299994,
             41.35469948800005
            ],
            [
             -124.07801805399998,
             41.35476841000008
            ],
            [
             -124.07803065899998,
             41.35483366200003
            ],
            [
             -124.07804860699997,
             41.354893838000066
            ],
            [
             -124.07807354699997,
             41.35494718700005
            ],
            [
             -124.078098695,
             41.35498285500006
            ]
           ],
           "type": "LineString"
          },
          "id": "6",
          "properties": {
           "CSU_ID": 74315,
           "ERODIBILITY": "Medium",
           "MEAN_SIG_WAVEHEIGHT": 2.207218,
           "TIDAL_RANGE": 3.034041,
           "river_label": "moderate river discharge",
           "sinuosity_label": "straight",
           "slope_label": "sloping",
           "style": {
            "color": "black",
            "dashArray": "5",
            "fillOpacity": 0.5,
            "fill_color": "black",
            "opacity": 1,
            "weight": 4
           },
           "turbid_label": "clear"
          },
          "type": "Feature"
         },
         {
          "geometry": {
           "coordinates": [
            [
             -124.078098695,
             41.35498285500006
            ],
            [
             -124.07810191299995,
             41.354987419000054
            ],
            [
             -124.07824663799994,
             41.35520614200004
            ],
            [
             -124.07847416499999,
             41.355638749000036
            ],
            [
             -124.07849616799996,
             41.35568879700003
            ],
            [
             -124.07850946599996,
             41.355743895000046
            ],
            [
             -124.078514988,
             41.35580156800006
            ],
            [
             -124.07851302899996,
             41.35585944800005
            ],
            [
             -124.07850324699996,
             41.35591513900005
            ],
            [
             -124.07848463599998,
             41.355966067000054
            ],
            [
             -124.07845547299996,
             41.35600933400008
            ],
            [
             -124.07841451899998,
             41.35604282000003
            ],
            [
             -124.07836476499995,
             41.35606887600005
            ],
            [
             -124.07819709399996,
             41.35613281700006
            ],
            [
             -124.07814535099999,
             41.35615886800008
            ],
            [
             -124.07810095499997,
             41.356192331000045
            ],
            [
             -124.07806629699996,
             41.35623553500005
            ],
            [
             -124.07753534199998,
             41.35698111200003
            ],
            [
             -124.07750880699996,
             41.35703458300003
            ],
            [
             -124.07749013199998,
             41.357095936000064
            ],
            [
             -124.07747726899998,
             41.35716312000005
            ],
            [
             -124.07746863299997,
             41.35723456200003
            ],
            [
             -124.07746302399994,
             41.35730907000004
            ],
            [
             -124.07745954699999,
             41.35738575400006
            ],
            [
             -124.07745651,
             41.35754320500007
            ],
            [
             -124.07745671499998,
             41.35786515500007
            ],
            [
             -124.07746057999998,
             41.35835024200003
            ],
            [
             -124.07746432,
             41.35850956300004
            ],
            [
             -124.07747217399998,
             41.35866462400003
            ],
            [
             -124.07747880099998,
             41.358739236000076
            ],
            [
             -124.07748815099995,
             41.35881078800003
            ],
            [
             -124.07750117799998,
             41.35887808100006
            ],
            [
             -124.07751909899997,
             41.35893953200008
            ],
            [
             -124.07754345099994,
             41.358993078000026
            ],
            [
             -124.07756954299998,
             41.35903102000003
            ],
            [
             -124.07762462,
             41.35909665300005
            ],
            [
             -124.07764611699997,
             41.35912999900006
            ],
            [
             -124.07765907599997,
             41.359166542000025
            ],
            [
             -124.07766320099995,
             41.35920489800003
            ],
            [
             -124.07765857399994,
             41.359242867000034
            ],
            [
             -124.07764480999998,
             41.359278206000056
            ],
            [
             -124.07762187799995,
             41.359309394000036
            ],
            [
             -124.07744148799998,
             41.35950758600006
            ],
            [
             -124.07740947199994,
             41.35954267200003
            ],
            [
             -124.07737314499997,
             41.35957382600003
            ],
            [
             -124.07729535699997,
             41.35963163300005
            ],
            [
             -124.07725886399999,
             41.35966308600007
            ],
            [
             -124.077030751,
             41.35991014900003
            ],
            [
             -124.076999753,
             41.35994685700007
            ],
            [
             -124.07697153599997,
             41.35999596500005
            ],
            [
             -124.07645705899995,
             41.361022985000034
            ],
            [
             -124.07643197399995,
             41.36107875300007
            ],
            [
             -124.07641709899997,
             41.361132191000024
            ]
           ],
           "type": "LineString"
          },
          "id": "7",
          "properties": {
           "CSU_ID": 73760,
           "ERODIBILITY": "Medium",
           "MEAN_SIG_WAVEHEIGHT": 2.207218,
           "TIDAL_RANGE": 3.034041,
           "river_label": "moderate river discharge",
           "sinuosity_label": "straight",
           "slope_label": "flat",
           "style": {
            "color": "black",
            "dashArray": "5",
            "fillOpacity": 0.5,
            "fill_color": "black",
            "opacity": 1,
            "weight": 4
           },
           "turbid_label": "clear"
          },
          "type": "Feature"
         },
         {
          "geometry": {
           "coordinates": [
            [
             -124.07641709899997,
             41.361132191000024
            ],
            [
             -124.07641436899996,
             41.36114199900004
            ],
            [
             -124.07640231299996,
             41.36121079600008
            ],
            [
             -124.07639431899997,
             41.361283652000054
            ],
            [
             -124.07638924799994,
             41.361359433000075
            ],
            [
             -124.07638466199995,
             41.361516548000054
            ],
            [
             -124.07638396399994,
             41.36192011600008
            ],
            [
             -124.07638134099994,
             41.36207921000005
            ],
            [
             -124.07637806099996,
             41.362156791000075
            ],
            [
             -124.07637267299998,
             41.36223226900006
            ],
            [
             -124.07636433799996,
             41.362304805000065
            ],
            [
             -124.07635195399996,
             41.362373295000054
            ],
            [
             -124.07633408299995,
             41.36243630800004
            ],
            [
             -124.07630887,
             41.362491987000055
            ],
            [
             -124.07628141699996,
             41.36253195300003
            ],
            [
             -124.07621993099997,
             41.36260533300003
            ],
            [
             -124.076192473,
             41.362645325000074
            ],
            [
             -124.07616766099994,
             41.362699887000076
            ],
            [
             -124.07614992099997,
             41.36276154700005
            ],
            [
             -124.07613747899995,
             41.36282853500006
            ],
            [
             -124.07612893799995,
             41.36289945800007
            ],
            [
             -124.07603467899997,
             41.36384184900004
            ],
            [
             -124.07603997499996,
             41.36453071700004
            ],
            [
             -124.07606559799996,
             41.36458599700006
            ],
            [
             -124.07608363499997,
             41.36464834000003
            ],
            [
             -124.07609563899996,
             41.36471557600004
            ],
            [
             -124.07610267599995,
             41.36478588600005
            ],
            [
             -124.07610536299995,
             41.36485768400007
            ],
            [
             -124.07610390299999,
             41.36492949900003
            ],
            [
             -124.07609806999994,
             41.364999871000066
            ],
            [
             -124.07608720999997,
             41.36506723200006
            ],
            [
             -124.07607020399996,
             41.36512980300006
            ],
            [
             -124.07604541699999,
             41.36518547500003
            ],
            [
             -124.07601808399994,
             41.36522562400006
            ],
            [
             -124.07586936999996,
             41.36552506900006
            ],
            [
             -124.07565437899996,
             41.36614875400005
            ],
            [
             -124.07556851199996,
             41.366548315000045
            ],
            [
             -124.07510958499995,
             41.36749086800006
            ],
            [
             -124.07508448899995,
             41.36754562300007
            ],
            [
             -124.07506671299996,
             41.36760769800003
            ],
            [
             -124.07505439099998,
             41.36767522700006
            ],
            [
             -124.07505052099998,
             41.36770852800004
            ]
           ],
           "type": "LineString"
          },
          "id": "8",
          "properties": {
           "CSU_ID": 74315,
           "ERODIBILITY": "Medium",
           "MEAN_SIG_WAVEHEIGHT": 2.207218,
           "TIDAL_RANGE": 3.034041,
           "river_label": "moderate river discharge",
           "sinuosity_label": "straight",
           "slope_label": "sloping",
           "style": {
            "color": "black",
            "dashArray": "5",
            "fillOpacity": 0.5,
            "fill_color": "black",
            "opacity": 1,
            "weight": 4
           },
           "turbid_label": "clear"
          },
          "type": "Feature"
         },
         {
          "geometry": {
           "coordinates": [
            [
             -124.07505052099998,
             41.36770852800004
            ],
            [
             -124.07504607699997,
             41.367746762000024
            ],
            [
             -124.07504066599995,
             41.36782120400005
            ],
            [
             -124.07503733399994,
             41.367897722000066
            ],
            [
             -124.07503546099997,
             41.367975699000056
            ],
            [
             -124.07503442499996,
             41.36813436400007
            ],
            [
             -124.07503973499996,
             41.368778476000045
            ],
            [
             -124.07503868999999,
             41.369016980000026
            ],
            [
             -124.07503322399998,
             41.36917121600004
            ],
            [
             -124.07502768899997,
             41.36924553000006
            ],
            [
             -124.07501926999998,
             41.369316963000074
            ],
            [
             -124.07500689699998,
             41.369384439000044
            ],
            [
             -124.074989158,
             41.36944655100007
            ],
            [
             -124.07474726799995,
             41.370119944000066
            ],
            [
             -124.07459908699997,
             41.370416428000055
            ],
            [
             -124.07457160999996,
             41.37045632600007
            ],
            [
             -124.07454659599995,
             41.37051131900006
            ],
            [
             -124.07452876599996,
             41.37057349400004
            ],
            [
             -124.07451629699995,
             41.37064103100005
            ],
            [
             -124.07450777199995,
             41.37071251200007
            ],
            [
             -124.07450210499997,
             41.37078685400007
            ],
            [
             -124.07449848599998,
             41.37086323900007
            ],
            [
             -124.07449629799999,
             41.37094105600005
            ],
            [
             -124.07449455299997,
             41.37109932300007
            ],
            [
             -124.07449771499995,
             41.37206257100007
            ],
            [
             -124.07449840699996,
             41.373023518000025
            ],
            [
             -124.07449767799994,
             41.37382443100006
            ],
            [
             -124.07449560999999,
             41.374392183000055
            ]
           ],
           "type": "LineString"
          },
          "id": "9",
          "properties": {
           "CSU_ID": 74328,
           "ERODIBILITY": "Medium",
           "MEAN_SIG_WAVEHEIGHT": 2.207218,
           "TIDAL_RANGE": 3.034041,
           "river_label": "moderate river discharge",
           "sinuosity_label": "straight",
           "slope_label": "sloping",
           "style": {
            "color": "black",
            "dashArray": "5",
            "fillOpacity": 0.5,
            "fill_color": "black",
            "opacity": 1,
            "weight": 4
           },
           "turbid_label": "moderately turbid"
          },
          "type": "Feature"
         },
         {
          "geometry": {
           "coordinates": [
            [
             -124.07449560999999,
             41.374392183000055
            ],
            [
             -124.07449416599997,
             41.374788368000054
            ],
            [
             -124.07449580599996,
             41.37494695200007
            ],
            [
             -124.07449795599996,
             41.37502495800004
            ],
            [
             -124.07450155899994,
             41.375101545000064
            ],
            [
             -124.07450724199998,
             41.37517609300005
            ],
            [
             -124.07451584799998,
             41.37524777200008
            ],
            [
             -124.07452849199996,
             41.375315475000036
            ],
            [
             -124.07454664099998,
             41.37537774700007
            ],
            [
             -124.07457218399998,
             41.375432714000056
            ],
            [
             -124.07460033299998,
             41.37547244000007
            ],
            [
             -124.07474395399998,
             41.37568909400005
            ],
            [
             -124.07497225099996,
             41.37612194500008
            ],
            [
             -124.07499509699994,
             41.37617281900003
            ],
            [
             -124.07500962399996,
             41.37622912900008
            ],
            [
             -124.07501688999997,
             41.376288532000046
            ],
            [
             -124.07501736599994,
             41.37634883900006
            ],
            [
             -124.07501093399998,
             41.37640787000004
            ],
            [
             -124.07499687099994,
             41.37646334200008
            ],
            [
             -124.07497382199995,
             41.376512717000026
            ],
            [
             -124.07494553499998,
             41.37654947600004
            ],
            [
             -124.07477536,
             41.37671553700005
            ],
            [
             -124.07474089799996,
             41.37674916000003
            ],
            [
             -124.07470176199996,
             41.37677815300003
            ],
            [
             -124.07464871599996,
             41.376802963000046
            ],
            [
             -124.074588173,
             41.376820234000036
            ],
            [
             -124.07452213699997,
             41.37683194400006
            ],
            [
             -124.07445218499998,
             41.37683965800005
            ],
            [
             -124.07437957299999,
             41.376844634000065
            ],
            [
             -124.07408125299997,
             41.37685593100008
            ],
            [
             -124.07400885799996,
             41.37686079300005
            ],
            [
             -124.07393920699997,
             41.37686835300008
            ],
            [
             -124.07387355099996,
             41.376879873000064
            ],
            [
             -124.07381346899996,
             41.37689693200008
            ],
            [
             -124.07376094299997,
             41.37692152300008
            ],
            [
             -124.07372229899994,
             41.376950339000075
            ],
            [
             -124.07368834099998,
             41.376983824000035
            ],
            [
             -124.07355283599998,
             41.37711799600004
            ],
            [
             -124.07351901699997,
             41.37715157700006
            ],
            [
             -124.07348984899994,
             41.377189807000036
            ],
            [
             -124.07346482699995,
             41.37724180400005
            ],
            [
             -124.07344729199997,
             41.377301284000055
            ],
            [
             -124.07318141699994,
             41.378390644000035
            ],
            [
             -124.07316893799998,
             41.378459013000054
            ],
            [
             -124.07316042699995,
             41.37853135100005
            ],
            [
             -124.07315478699996,
             41.37860655900005
            ],
            [
             -124.07315119299994,
             41.378683814000055
            ],
            [
             -124.07314785299997,
             41.37884217100003
            ],
            [
             -124.07314741099998,
             41.379084275000025
            ],
            [
             -124.07315280299997,
             41.38030467900006
            ]
           ],
           "type": "LineString"
          },
          "id": "10",
          "properties": {
           "CSU_ID": 73772,
           "ERODIBILITY": "Medium",
           "MEAN_SIG_WAVEHEIGHT": 2.207218,
           "TIDAL_RANGE": 3.034041,
           "river_label": "moderate river discharge",
           "sinuosity_label": "straight",
           "slope_label": "flat",
           "style": {
            "color": "black",
            "dashArray": "5",
            "fillOpacity": 0.5,
            "fill_color": "black",
            "opacity": 1,
            "weight": 4
           },
           "turbid_label": "moderately turbid"
          },
          "type": "Feature"
         },
         {
          "geometry": {
           "coordinates": [
            [
             -124.07315280299997,
             41.38030467900006
            ],
            [
             -124.07315458599999,
             41.38070841700005
            ],
            [
             -124.07315274299998,
             41.380868271000054
            ],
            [
             -124.07315048699996,
             41.38094686200003
            ],
            [
             -124.07314677499994,
             41.381023999000035
            ],
            [
             -124.07314099099995,
             41.38109906400007
            ],
            [
             -124.07313230799997,
             41.381171229000074
            ],
            [
             -124.07311962399996,
             41.381239393000044
            ],
            [
             -124.07310149799997,
             41.38130211600003
            ],
            [
             -124.07307607599995,
             41.38135754100006
            ],
            [
             -124.073048482,
             41.381397322000055
            ],
            [
             -124.07298679099995,
             41.38147037700003
            ],
            [
             -124.07295926799998,
             41.38151022900007
            ],
            [
             -124.07293440999996,
             41.38156463300004
            ],
            [
             -124.07291665199995,
             41.38162614000004
            ],
            [
             -124.07290422299997,
             41.38169297300004
            ],
            [
             -124.07289572399998,
             41.38176373600004
            ],
            [
             -124.07289005899997,
             41.38183733500006
            ],
            [
             -124.07288636899995,
             41.38191290800006
            ],
            [
             -124.07287921099999,
             41.38222280300005
            ],
            [
             -124.072873126,
             41.38237524500005
            ],
            [
             -124.07286746299997,
             41.38244884300008
            ],
            [
             -124.07285896199994,
             41.38251960600007
            ],
            [
             -124.07284653399995,
             41.38258644100006
            ],
            [
             -124.07282877799997,
             41.382647949000045
            ],
            [
             -124.07280391799998,
             41.38270235300007
            ],
            [
             -124.07277639899996,
             41.382742205000056
            ],
            [
             -124.07271471099995,
             41.38281526600008
            ],
            [
             -124.07268711999996,
             41.38285504800007
            ],
            [
             -124.07266189299997,
             41.382909942000026
            ],
            [
             -124.07264385099995,
             41.38297202000007
            ],
            [
             -124.07263118199995,
             41.383039471000075
            ],
            [
             -124.07262247799997,
             41.38311088700004
            ],
            [
             -124.07261665699997,
             41.38318518700004
            ],
            [
             -124.07261290199995,
             41.38326155200008
            ],
            [
             -124.07260931899998,
             41.38341821200004
            ],
            [
             -124.07260870199997,
             41.38365796000005
            ],
            [
             -124.07261462199995,
             41.384705660000066
            ],
            [
             -124.07261512899998,
             41.38502698900004
            ],
            [
             -124.07261305299994,
             41.38518546600005
            ],
            [
             -124.07261063099998,
             41.38526337300004
            ],
            [
             -124.07260672799998,
             41.385339842000064
            ],
            [
             -124.072600723,
             41.38541426100005
            ],
            [
             -124.07259180299997,
             41.38548582100003
            ],
            [
             -124.07257888099997,
             41.38555344300005
            ],
            [
             -124.07256054699997,
             41.38561572000003
            ],
            [
             -124.07253498899996,
             41.38567084300007
            ],
            [
             -124.07250708599997,
             41.38571084000006
            ],
            [
             -124.072444723,
             41.38578437800004
            ],
            [
             -124.07241685499997,
             41.38582448200003
            ],
            [
             -124.07239223,
             41.38587750600004
            ],
            [
             -124.07237443499997,
             41.38593724800006
            ],
            [
             -124.07236189899999,
             41.38600202600003
            ],
            [
             -124.07235341999996,
             41.386070473000075
            ],
            [
             -124.07234812299998,
             41.38614147100003
            ],
            [
             -124.07234540899998,
             41.38621408800003
            ],
            [
             -124.07234491999998,
             41.38628749600008
            ],
            [
             -124.072346526,
             41.386360925000076
            ],
            [
             -124.07235030799995,
             41.386433590000024
            ],
            [
             -124.07235655599999,
             41.386504623000064
            ],
            [
             -124.07236578399994,
             41.38657300800003
            ],
            [
             -124.07237875399994,
             41.38663751200005
            ],
            [
             -124.07239648899997,
             41.38669659100003
            ],
            [
             -124.07242032599999,
             41.38674831000003
            ],
            [
             -124.07244664299998,
             41.38678648100006
            ],
            [
             -124.07250215199997,
             41.38685255900003
            ],
            [
             -124.072523838,
             41.38688610100007
            ],
            [
             -124.07253305199998,
             41.386911885000075
            ]
           ],
           "type": "LineString"
          },
          "id": "11",
          "properties": {
           "CSU_ID": 73772,
           "ERODIBILITY": "Medium",
           "MEAN_SIG_WAVEHEIGHT": 2.207218,
           "TIDAL_RANGE": 3.034041,
           "river_label": "moderate river discharge",
           "sinuosity_label": "straight",
           "slope_label": "flat",
           "style": {
            "color": "black",
            "dashArray": "5",
            "fillOpacity": 0.5,
            "fill_color": "black",
            "opacity": 1,
            "weight": 4
           },
           "turbid_label": "moderately turbid"
          },
          "type": "Feature"
         },
         {
          "geometry": {
           "coordinates": [
            [
             -124.07253305199998,
             41.386911885000075
            ],
            [
             -124.07253695699995,
             41.38692281300007
            ],
            [
             -124.07254120999994,
             41.386961308000025
            ],
            [
             -124.07253667799995,
             41.38699938600007
            ],
            [
             -124.07252297199994,
             41.38703480100003
            ],
            [
             -124.07250006199996,
             41.387066032000064
            ],
            [
             -124.07231895899997,
             41.387263767000036
            ],
            [
             -124.07228667099997,
             41.387298659000066
            ],
            [
             -124.072250027,
             41.38732958800006
            ],
            [
             -124.07217147699998,
             41.38738687400007
            ],
            [
             -124.07213455299996,
             41.387418051000054
            ],
            [
             -124.07210174899996,
             41.38745340200006
            ],
            [
             -124.07190506799998,
             41.38766581500005
            ],
            [
             -124.07187500099997,
             41.38770393200008
            ],
            [
             -124.07184812999998,
             41.38775727900003
            ],
            [
             -124.07182907999999,
             41.387818449000065
            ],
            [
             -124.07181583099998,
             41.38788540000007
            ],
            [
             -124.07180683699994,
             41.38795655300004
            ],
            [
             -124.07180093999995,
             41.388030686000036
            ],
            [
             -124.07179730099995,
             41.38810685800007
            ],
            [
             -124.07179533799996,
             41.38818433300003
            ],
            [
             -124.07179516399998,
             41.38834089900007
            ],
            [
             -124.07179964199997,
             41.38849632100005
            ],
            [
             -124.07180412699995,
             41.38857230900004
            ],
            [
             -124.07181074899995,
             41.38864628500005
            ],
            [
             -124.07182026699996,
             41.38871739700005
            ],
            [
             -124.07183371199994,
             41.38878456100008
            ],
            [
             -124.07185245,
             41.38884638800005
            ],
            [
             -124.07187823799995,
             41.38890110800003
            ],
            [
             -124.071906507,
             41.38894123600005
            ],
            [
             -124.07196957899998,
             41.38901487500004
            ],
            [
             -124.07199782099997,
             41.389054970000075
            ],
            [
             -124.07202354799995,
             41.38910962400007
            ],
            [
             -124.07204219599998,
             41.38917134900004
            ],
            [
             -124.07205552099998,
             41.38923837800007
            ],
            [
             -124.07206488699995,
             41.38930931900006
            ],
            [
             -124.07207132399998,
             41.38938308100006
            ],
            [
             -124.07207559099999,
             41.38945881600006
            ],
            [
             -124.07207821699996,
             41.38953584400008
            ],
            [
             -124.07207971699995,
             41.389691621000054
            ],
            [
             -124.07207651399995,
             41.38984650200007
            ],
            [
             -124.07207265299996,
             41.389922322000075
            ],
            [
             -124.07206665299998,
             41.38999619400005
            ],
            [
             -124.07205776899997,
             41.39006726200006
            ],
            [
             -124.07204497099997,
             41.39013442900006
            ],
            [
             -124.07202689199994,
             41.39019628900007
            ],
            [
             -124.07200177099998,
             41.39025104900003
            ],
            [
             -124.07197405899996,
             41.39029119000003
            ],
            [
             -124.07182487399996,
             41.39058867500006
            ],
            [
             -124.07158196499995,
             41.39126300200007
            ],
            [
             -124.07156403199997,
             41.39132594000006
            ],
            [
             -124.07155154199995,
             41.39139431900003
            ],
            [
             -124.07154304099998,
             41.39146668700005
            ],
            [
             -124.07153742099996,
             41.391541937000056
            ],
            [
             -124.07153170899994,
             41.39169797000005
            ],
            [
             -124.071530027,
             41.39185805500006
            ],
            [
             -124.07153193599999,
             41.39338750100006
            ]
           ],
           "type": "LineString"
          },
          "id": "12",
          "properties": {
           "CSU_ID": 74328,
           "ERODIBILITY": "Medium",
           "MEAN_SIG_WAVEHEIGHT": 2.207218,
           "TIDAL_RANGE": 3.034041,
           "river_label": "moderate river discharge",
           "sinuosity_label": "straight",
           "slope_label": "sloping",
           "style": {
            "color": "black",
            "dashArray": "5",
            "fillOpacity": 0.5,
            "fill_color": "black",
            "opacity": 1,
            "weight": 4
           },
           "turbid_label": "moderately turbid"
          },
          "type": "Feature"
         },
         {
          "geometry": {
           "coordinates": [
            [
             -124.07153193599999,
             41.39338750100006
            ],
            [
             -124.07153205699996,
             41.393484028000046
            ],
            [
             -124.07153292399994,
             41.39364636600004
            ],
            [
             -124.07153576299999,
             41.39380700400005
            ],
            [
             -124.071542777,
             41.39396349800006
            ],
            [
             -124.07154900499995,
             41.39403883500006
            ],
            [
             -124.07155798199994,
             41.394111088000045
            ],
            [
             -124.07157068899994,
             41.39417902800005
            ],
            [
             -124.071588384,
             41.39424102500004
            ],
            [
             -124.071612658,
             41.394294958000046
            ],
            [
             -124.07163849199998,
             41.39433264100006
            ],
            [
             -124.07169318799998,
             41.394397894000065
            ],
            [
             -124.07171462599996,
             41.39443118200006
            ],
            [
             -124.071727679,
             41.39446781800007
            ],
            [
             -124.07173211499997,
             41.39450648500008
            ],
            [
             -124.07172811699996,
             41.394545082000036
            ],
            [
             -124.07171541799994,
             41.394581489000075
            ],
            [
             -124.07151012799994,
             41.39499186200004
            ],
            [
             -124.07136757499995,
             41.395208420000074
            ],
            [
             -124.07133954999995,
             41.395248310000056
            ],
            [
             -124.07131394599998,
             41.39530414400008
            ],
            [
             -124.07129588799995,
             41.395367462000024
            ],
            [
             -124.07128344399996,
             41.39543633400007
            ],
            [
             -124.07127511699997,
             41.39550926600003
            ],
            [
             -124.07126975799997,
             41.395585123000046
            ],
            [
             -124.07126469199994,
             41.39574239400008
            ],
            [
             -124.07126299699996,
             41.39614647600007
            ],
            [
             -124.071259898,
             41.39630588400007
            ],
            [
             -124.07125633699997,
             41.39638365800005
            ],
            [
             -124.07125063399997,
             41.39645935200008
            ],
            [
             -124.07124194799997,
             41.39653212800005
            ],
            [
             -124.07122917899994,
             41.39660087900006
            ],
            [
             -124.07121089399999,
             41.39666415900007
            ],
            [
             -124.07118525499999,
             41.39672009700007
            ],
            [
             -124.07115745699997,
             41.396760253000025
            ],
            [
             -124.07109542499995,
             41.39683382800007
            ],
            [
             -124.07106785199994,
             41.396873740000046
            ],
            [
             -124.07104275299997,
             41.39692910500003
            ],
            [
             -124.07102543399998,
             41.396991367000055
            ],
            [
             -124.07101427899994,
             41.39705843400003
            ],
            [
             -124.07100817299994,
             41.397128536000025
            ],
            [
             -124.07100646899994,
             41.39720011000003
            ],
            [
             -124.07100894499996,
             41.397271696000075
            ],
            [
             -124.071015795,
             41.397341821000055
            ],
            [
             -124.07102763699999,
             41.39740889700005
            ],
            [
             -124.07103179499995,
             41.398328409000044
            ],
            [
             -124.070992516,
             41.39955310100004
            ],
            [
             -124.07098879299997,
             41.39962806300008
            ],
            [
             -124.07098298399995,
             41.39970092400006
            ],
            [
             -124.07097429499998,
             41.399770896000064
            ],
            [
             -124.07096168799995,
             41.399836941000046
            ],
            [
             -124.07094381399997,
             41.399897716000055
            ],
            [
             -124.07091895499997,
             41.39995150400006
            ],
            [
             -124.07089378599994,
             41.39998768800007
            ]
           ],
           "type": "LineString"
          },
          "id": "13",
          "properties": {
           "CSU_ID": 74328,
           "ERODIBILITY": "Medium",
           "MEAN_SIG_WAVEHEIGHT": 2.207218,
           "TIDAL_RANGE": 3.034041,
           "river_label": "moderate river discharge",
           "sinuosity_label": "straight",
           "slope_label": "sloping",
           "style": {
            "color": "black",
            "dashArray": "5",
            "fillOpacity": 0.5,
            "fill_color": "black",
            "opacity": 1,
            "weight": 4
           },
           "turbid_label": "moderately turbid"
          },
          "type": "Feature"
         },
         {
          "geometry": {
           "coordinates": [
            [
             -124.07089378599994,
             41.39998768800007
            ],
            [
             -124.07089129999997,
             41.39999126200007
            ],
            [
             -124.07082941099998,
             41.40006420100008
            ],
            [
             -124.07080175399994,
             41.40010396300005
            ],
            [
             -124.07077688799995,
             41.40015776200005
            ],
            [
             -124.07075900799998,
             41.40021855600003
            ],
            [
             -124.07074638799998,
             41.400284628000065
            ],
            [
             -124.07073768499998,
             41.40035463100003
            ],
            [
             -124.07073185799999,
             41.40042753400007
            ],
            [
             -124.07072811599994,
             41.40050254800008
            ],
            [
             -124.07072586099997,
             41.400579081000046
            ],
            [
             -124.07072414299995,
             41.400735059000056
            ],
            [
             -124.07072500899994,
             41.40121037800003
            ],
            [
             -124.07072307499999,
             41.40136702700005
            ],
            [
             -124.07071698399994,
             41.40151938100007
            ],
            [
             -124.07071127299997,
             41.40159262200007
            ],
            [
             -124.07070290299998,
             41.401662815000066
            ],
            [
             -124.07063335799995,
             41.402243234000025
            ],
            [
             -124.07043720699994,
             41.403542153000046
            ],
            [
             -124.07042498499999,
             41.403609506000066
            ],
            [
             -124.0704194386308,
             41.403629
            ]
           ],
           "type": "LineString"
          },
          "id": "14",
          "properties": {
           "CSU_ID": 74328,
           "ERODIBILITY": "Medium",
           "MEAN_SIG_WAVEHEIGHT": 2.207218,
           "TIDAL_RANGE": 3.034041,
           "river_label": "moderate river discharge",
           "sinuosity_label": "straight",
           "slope_label": "sloping",
           "style": {
            "color": "black",
            "dashArray": "5",
            "fillOpacity": 0.5,
            "fill_color": "black",
            "opacity": 1,
            "weight": 4
           },
           "turbid_label": "moderately turbid"
          },
          "type": "Feature"
         },
         {
          "geometry": {
           "coordinates": [
            [
             -124.07924471443542,
             41.35123
            ],
            [
             -124.07906087899994,
             41.35160543200004
            ],
            [
             -124.07891708199998,
             41.351822328000026
            ],
            [
             -124.07883904599998,
             41.35196777900006
            ],
            [
             -124.07829304699999,
             41.353048681000075
            ],
            [
             -124.07809258499998,
             41.35346430200008
            ],
            [
             -124.07807985499994,
             41.35350078000005
            ],
            [
             -124.07807551099995,
             41.35353915300004
            ],
            [
             -124.07801124099996,
             41.35426333200007
            ],
            [
             -124.07800545999999,
             41.35433457800008
            ],
            [
             -124.078002041,
             41.35440750300006
            ],
            [
             -124.07800069599995,
             41.354481244000056
            ],
            [
             -124.07800135999997,
             41.35455501600006
            ],
            [
             -124.07800417899995,
             41.35462804000008
            ],
            [
             -124.07800953299994,
             41.35469948800005
            ],
            [
             -124.07801805399998,
             41.35476841000008
            ],
            [
             -124.07803065899998,
             41.35483366200003
            ],
            [
             -124.07804860699997,
             41.354893838000066
            ],
            [
             -124.07807354699997,
             41.35494718700005
            ],
            [
             -124.078098695,
             41.35498285500006
            ]
           ],
           "type": "LineString"
          },
          "id": "15",
          "properties": {
           "CSU_ID": 74315,
           "ERODIBILITY": "Medium",
           "MEAN_SIG_WAVEHEIGHT": 2.207218,
           "TIDAL_RANGE": 3.034041,
           "river_label": "moderate river discharge",
           "sinuosity_label": "straight",
           "slope_label": "sloping",
           "style": {
            "color": "black",
            "dashArray": "5",
            "fillOpacity": 0.5,
            "fill_color": "black",
            "opacity": 1,
            "weight": 4
           },
           "turbid_label": "clear"
          },
          "type": "Feature"
         },
         {
          "geometry": {
           "coordinates": [
            [
             -124.078098695,
             41.35498285500006
            ],
            [
             -124.07810191299995,
             41.354987419000054
            ],
            [
             -124.07824663799994,
             41.35520614200004
            ],
            [
             -124.07847416499999,
             41.355638749000036
            ],
            [
             -124.07849616799996,
             41.35568879700003
            ],
            [
             -124.07850946599996,
             41.355743895000046
            ],
            [
             -124.078514988,
             41.35580156800006
            ],
            [
             -124.07851302899996,
             41.35585944800005
            ],
            [
             -124.07850324699996,
             41.35591513900005
            ],
            [
             -124.07848463599998,
             41.355966067000054
            ],
            [
             -124.07845547299996,
             41.35600933400008
            ],
            [
             -124.07841451899998,
             41.35604282000003
            ],
            [
             -124.07836476499995,
             41.35606887600005
            ],
            [
             -124.07819709399996,
             41.35613281700006
            ],
            [
             -124.07814535099999,
             41.35615886800008
            ],
            [
             -124.07810095499997,
             41.356192331000045
            ],
            [
             -124.07806629699996,
             41.35623553500005
            ],
            [
             -124.07753534199998,
             41.35698111200003
            ],
            [
             -124.07750880699996,
             41.35703458300003
            ],
            [
             -124.07749013199998,
             41.357095936000064
            ],
            [
             -124.07747726899998,
             41.35716312000005
            ],
            [
             -124.07746863299997,
             41.35723456200003
            ],
            [
             -124.07746302399994,
             41.35730907000004
            ],
            [
             -124.07745954699999,
             41.35738575400006
            ],
            [
             -124.07745651,
             41.35754320500007
            ],
            [
             -124.07745671499998,
             41.35786515500007
            ],
            [
             -124.07746057999998,
             41.35835024200003
            ],
            [
             -124.07746432,
             41.35850956300004
            ],
            [
             -124.07747217399998,
             41.35866462400003
            ],
            [
             -124.07747880099998,
             41.358739236000076
            ],
            [
             -124.07748815099995,
             41.35881078800003
            ],
            [
             -124.07750117799998,
             41.35887808100006
            ],
            [
             -124.07751909899997,
             41.35893953200008
            ],
            [
             -124.07754345099994,
             41.358993078000026
            ],
            [
             -124.07756954299998,
             41.35903102000003
            ],
            [
             -124.07762462,
             41.35909665300005
            ],
            [
             -124.07764611699997,
             41.35912999900006
            ],
            [
             -124.07765907599997,
             41.359166542000025
            ],
            [
             -124.07766320099995,
             41.35920489800003
            ],
            [
             -124.07765857399994,
             41.359242867000034
            ],
            [
             -124.07764480999998,
             41.359278206000056
            ],
            [
             -124.07762187799995,
             41.359309394000036
            ],
            [
             -124.07744148799998,
             41.35950758600006
            ],
            [
             -124.07740947199994,
             41.35954267200003
            ],
            [
             -124.07737314499997,
             41.35957382600003
            ],
            [
             -124.07729535699997,
             41.35963163300005
            ],
            [
             -124.07725886399999,
             41.35966308600007
            ],
            [
             -124.077030751,
             41.35991014900003
            ],
            [
             -124.076999753,
             41.35994685700007
            ],
            [
             -124.07697153599997,
             41.35999596500005
            ],
            [
             -124.07645705899995,
             41.361022985000034
            ],
            [
             -124.07643197399995,
             41.36107875300007
            ],
            [
             -124.07641709899997,
             41.361132191000024
            ]
           ],
           "type": "LineString"
          },
          "id": "16",
          "properties": {
           "CSU_ID": 73760,
           "ERODIBILITY": "Medium",
           "MEAN_SIG_WAVEHEIGHT": 2.207218,
           "TIDAL_RANGE": 3.034041,
           "river_label": "moderate river discharge",
           "sinuosity_label": "straight",
           "slope_label": "flat",
           "style": {
            "color": "black",
            "dashArray": "5",
            "fillOpacity": 0.5,
            "fill_color": "black",
            "opacity": 1,
            "weight": 4
           },
           "turbid_label": "clear"
          },
          "type": "Feature"
         },
         {
          "geometry": {
           "coordinates": [
            [
             -124.07641709899997,
             41.361132191000024
            ],
            [
             -124.07641436899996,
             41.36114199900004
            ],
            [
             -124.07640231299996,
             41.36121079600008
            ],
            [
             -124.07639431899997,
             41.361283652000054
            ],
            [
             -124.07638924799994,
             41.361359433000075
            ],
            [
             -124.07638466199995,
             41.361516548000054
            ],
            [
             -124.07638396399994,
             41.36192011600008
            ],
            [
             -124.07638134099994,
             41.36207921000005
            ],
            [
             -124.07637806099996,
             41.362156791000075
            ],
            [
             -124.07637267299998,
             41.36223226900006
            ],
            [
             -124.07636433799996,
             41.362304805000065
            ],
            [
             -124.07635195399996,
             41.362373295000054
            ],
            [
             -124.07633408299995,
             41.36243630800004
            ],
            [
             -124.07630887,
             41.362491987000055
            ],
            [
             -124.07628141699996,
             41.36253195300003
            ],
            [
             -124.07621993099997,
             41.36260533300003
            ],
            [
             -124.076192473,
             41.362645325000074
            ],
            [
             -124.07616766099994,
             41.362699887000076
            ],
            [
             -124.07614992099997,
             41.36276154700005
            ],
            [
             -124.07613747899995,
             41.36282853500006
            ],
            [
             -124.07612893799995,
             41.36289945800007
            ],
            [
             -124.07603467899997,
             41.36384184900004
            ],
            [
             -124.07603997499996,
             41.36453071700004
            ],
            [
             -124.07606559799996,
             41.36458599700006
            ],
            [
             -124.07608363499997,
             41.36464834000003
            ],
            [
             -124.07609563899996,
             41.36471557600004
            ],
            [
             -124.07610267599995,
             41.36478588600005
            ],
            [
             -124.07610536299995,
             41.36485768400007
            ],
            [
             -124.07610390299999,
             41.36492949900003
            ],
            [
             -124.07609806999994,
             41.364999871000066
            ],
            [
             -124.07608720999997,
             41.36506723200006
            ],
            [
             -124.07607020399996,
             41.36512980300006
            ],
            [
             -124.07604541699999,
             41.36518547500003
            ],
            [
             -124.07601808399994,
             41.36522562400006
            ],
            [
             -124.07586936999996,
             41.36552506900006
            ],
            [
             -124.07565437899996,
             41.36614875400005
            ],
            [
             -124.07556851199996,
             41.366548315000045
            ],
            [
             -124.07510958499995,
             41.36749086800006
            ],
            [
             -124.07508448899995,
             41.36754562300007
            ],
            [
             -124.07506671299996,
             41.36760769800003
            ],
            [
             -124.07505439099998,
             41.36767522700006
            ],
            [
             -124.07505052099998,
             41.36770852800004
            ]
           ],
           "type": "LineString"
          },
          "id": "17",
          "properties": {
           "CSU_ID": 74315,
           "ERODIBILITY": "Medium",
           "MEAN_SIG_WAVEHEIGHT": 2.207218,
           "TIDAL_RANGE": 3.034041,
           "river_label": "moderate river discharge",
           "sinuosity_label": "straight",
           "slope_label": "sloping",
           "style": {
            "color": "black",
            "dashArray": "5",
            "fillOpacity": 0.5,
            "fill_color": "black",
            "opacity": 1,
            "weight": 4
           },
           "turbid_label": "clear"
          },
          "type": "Feature"
         },
         {
          "geometry": {
           "coordinates": [
            [
             -124.07505052099998,
             41.36770852800004
            ],
            [
             -124.07504607699997,
             41.367746762000024
            ],
            [
             -124.07504066599995,
             41.36782120400005
            ],
            [
             -124.07503733399994,
             41.367897722000066
            ],
            [
             -124.07503546099997,
             41.367975699000056
            ],
            [
             -124.07503442499996,
             41.36813436400007
            ],
            [
             -124.07503973499996,
             41.368778476000045
            ],
            [
             -124.07503868999999,
             41.369016980000026
            ],
            [
             -124.07503322399998,
             41.36917121600004
            ],
            [
             -124.07502768899997,
             41.36924553000006
            ],
            [
             -124.07501926999998,
             41.369316963000074
            ],
            [
             -124.07500689699998,
             41.369384439000044
            ],
            [
             -124.074989158,
             41.36944655100007
            ],
            [
             -124.07474726799995,
             41.370119944000066
            ],
            [
             -124.07459908699997,
             41.370416428000055
            ],
            [
             -124.07457160999996,
             41.37045632600007
            ],
            [
             -124.07454659599995,
             41.37051131900006
            ],
            [
             -124.07452876599996,
             41.37057349400004
            ],
            [
             -124.07451629699995,
             41.37064103100005
            ],
            [
             -124.07450777199995,
             41.37071251200007
            ],
            [
             -124.07450210499997,
             41.37078685400007
            ],
            [
             -124.07449848599998,
             41.37086323900007
            ],
            [
             -124.07449629799999,
             41.37094105600005
            ],
            [
             -124.07449455299997,
             41.37109932300007
            ],
            [
             -124.07449771499995,
             41.37206257100007
            ],
            [
             -124.07449840699996,
             41.373023518000025
            ],
            [
             -124.07449767799994,
             41.37382443100006
            ],
            [
             -124.07449560999999,
             41.374392183000055
            ]
           ],
           "type": "LineString"
          },
          "id": "18",
          "properties": {
           "CSU_ID": 74328,
           "ERODIBILITY": "Medium",
           "MEAN_SIG_WAVEHEIGHT": 2.207218,
           "TIDAL_RANGE": 3.034041,
           "river_label": "moderate river discharge",
           "sinuosity_label": "straight",
           "slope_label": "sloping",
           "style": {
            "color": "black",
            "dashArray": "5",
            "fillOpacity": 0.5,
            "fill_color": "black",
            "opacity": 1,
            "weight": 4
           },
           "turbid_label": "moderately turbid"
          },
          "type": "Feature"
         },
         {
          "geometry": {
           "coordinates": [
            [
             -124.07449560999999,
             41.374392183000055
            ],
            [
             -124.07449416599997,
             41.374788368000054
            ],
            [
             -124.07449580599996,
             41.37494695200007
            ],
            [
             -124.07449795599996,
             41.37502495800004
            ],
            [
             -124.07450155899994,
             41.375101545000064
            ],
            [
             -124.07450724199998,
             41.37517609300005
            ],
            [
             -124.07451584799998,
             41.37524777200008
            ],
            [
             -124.07452849199996,
             41.375315475000036
            ],
            [
             -124.07454664099998,
             41.37537774700007
            ],
            [
             -124.07457218399998,
             41.375432714000056
            ],
            [
             -124.07460033299998,
             41.37547244000007
            ],
            [
             -124.07474395399998,
             41.37568909400005
            ],
            [
             -124.07497225099996,
             41.37612194500008
            ],
            [
             -124.07499509699994,
             41.37617281900003
            ],
            [
             -124.07500962399996,
             41.37622912900008
            ],
            [
             -124.07501688999997,
             41.376288532000046
            ],
            [
             -124.07501736599994,
             41.37634883900006
            ],
            [
             -124.07501093399998,
             41.37640787000004
            ],
            [
             -124.07499687099994,
             41.37646334200008
            ],
            [
             -124.07497382199995,
             41.376512717000026
            ],
            [
             -124.07494553499998,
             41.37654947600004
            ],
            [
             -124.07477536,
             41.37671553700005
            ],
            [
             -124.07474089799996,
             41.37674916000003
            ],
            [
             -124.07470176199996,
             41.37677815300003
            ],
            [
             -124.07464871599996,
             41.376802963000046
            ],
            [
             -124.074588173,
             41.376820234000036
            ],
            [
             -124.07452213699997,
             41.37683194400006
            ],
            [
             -124.07445218499998,
             41.37683965800005
            ],
            [
             -124.07437957299999,
             41.376844634000065
            ],
            [
             -124.07408125299997,
             41.37685593100008
            ],
            [
             -124.07400885799996,
             41.37686079300005
            ],
            [
             -124.07393920699997,
             41.37686835300008
            ],
            [
             -124.07387355099996,
             41.376879873000064
            ],
            [
             -124.07381346899996,
             41.37689693200008
            ],
            [
             -124.07376094299997,
             41.37692152300008
            ],
            [
             -124.07372229899994,
             41.376950339000075
            ],
            [
             -124.07368834099998,
             41.376983824000035
            ],
            [
             -124.07355283599998,
             41.37711799600004
            ],
            [
             -124.07351901699997,
             41.37715157700006
            ],
            [
             -124.07348984899994,
             41.377189807000036
            ],
            [
             -124.07346482699995,
             41.37724180400005
            ],
            [
             -124.07344729199997,
             41.377301284000055
            ],
            [
             -124.07318141699994,
             41.378390644000035
            ],
            [
             -124.07316893799998,
             41.378459013000054
            ],
            [
             -124.07316042699995,
             41.37853135100005
            ],
            [
             -124.07315478699996,
             41.37860655900005
            ],
            [
             -124.07315119299994,
             41.378683814000055
            ],
            [
             -124.07314785299997,
             41.37884217100003
            ],
            [
             -124.07314741099998,
             41.379084275000025
            ],
            [
             -124.07315280299997,
             41.38030467900006
            ]
           ],
           "type": "LineString"
          },
          "id": "19",
          "properties": {
           "CSU_ID": 73772,
           "ERODIBILITY": "Medium",
           "MEAN_SIG_WAVEHEIGHT": 2.207218,
           "TIDAL_RANGE": 3.034041,
           "river_label": "moderate river discharge",
           "sinuosity_label": "straight",
           "slope_label": "flat",
           "style": {
            "color": "black",
            "dashArray": "5",
            "fillOpacity": 0.5,
            "fill_color": "black",
            "opacity": 1,
            "weight": 4
           },
           "turbid_label": "moderately turbid"
          },
          "type": "Feature"
         },
         {
          "geometry": {
           "coordinates": [
            [
             -124.07315280299997,
             41.38030467900006
            ],
            [
             -124.07315458599999,
             41.38070841700005
            ],
            [
             -124.07315274299998,
             41.380868271000054
            ],
            [
             -124.07315048699996,
             41.38094686200003
            ],
            [
             -124.07314677499994,
             41.381023999000035
            ],
            [
             -124.07314099099995,
             41.38109906400007
            ],
            [
             -124.07313230799997,
             41.381171229000074
            ],
            [
             -124.07311962399996,
             41.381239393000044
            ],
            [
             -124.07310149799997,
             41.38130211600003
            ],
            [
             -124.07307607599995,
             41.38135754100006
            ],
            [
             -124.073048482,
             41.381397322000055
            ],
            [
             -124.07298679099995,
             41.38147037700003
            ],
            [
             -124.07295926799998,
             41.38151022900007
            ],
            [
             -124.07293440999996,
             41.38156463300004
            ],
            [
             -124.07291665199995,
             41.38162614000004
            ],
            [
             -124.07290422299997,
             41.38169297300004
            ],
            [
             -124.07289572399998,
             41.38176373600004
            ],
            [
             -124.07289005899997,
             41.38183733500006
            ],
            [
             -124.07288636899995,
             41.38191290800006
            ],
            [
             -124.07287921099999,
             41.38222280300005
            ],
            [
             -124.072873126,
             41.38237524500005
            ],
            [
             -124.07286746299997,
             41.38244884300008
            ],
            [
             -124.07285896199994,
             41.38251960600007
            ],
            [
             -124.07284653399995,
             41.38258644100006
            ],
            [
             -124.07282877799997,
             41.382647949000045
            ],
            [
             -124.07280391799998,
             41.38270235300007
            ],
            [
             -124.07277639899996,
             41.382742205000056
            ],
            [
             -124.07271471099995,
             41.38281526600008
            ],
            [
             -124.07268711999996,
             41.38285504800007
            ],
            [
             -124.07266189299997,
             41.382909942000026
            ],
            [
             -124.07264385099995,
             41.38297202000007
            ],
            [
             -124.07263118199995,
             41.383039471000075
            ],
            [
             -124.07262247799997,
             41.38311088700004
            ],
            [
             -124.07261665699997,
             41.38318518700004
            ],
            [
             -124.07261290199995,
             41.38326155200008
            ],
            [
             -124.07260931899998,
             41.38341821200004
            ],
            [
             -124.07260870199997,
             41.38365796000005
            ],
            [
             -124.07261462199995,
             41.384705660000066
            ],
            [
             -124.07261512899998,
             41.38502698900004
            ],
            [
             -124.07261305299994,
             41.38518546600005
            ],
            [
             -124.07261063099998,
             41.38526337300004
            ],
            [
             -124.07260672799998,
             41.385339842000064
            ],
            [
             -124.072600723,
             41.38541426100005
            ],
            [
             -124.07259180299997,
             41.38548582100003
            ],
            [
             -124.07257888099997,
             41.38555344300005
            ],
            [
             -124.07256054699997,
             41.38561572000003
            ],
            [
             -124.07253498899996,
             41.38567084300007
            ],
            [
             -124.07250708599997,
             41.38571084000006
            ],
            [
             -124.072444723,
             41.38578437800004
            ],
            [
             -124.07241685499997,
             41.38582448200003
            ],
            [
             -124.07239223,
             41.38587750600004
            ],
            [
             -124.07237443499997,
             41.38593724800006
            ],
            [
             -124.07236189899999,
             41.38600202600003
            ],
            [
             -124.07235341999996,
             41.386070473000075
            ],
            [
             -124.07234812299998,
             41.38614147100003
            ],
            [
             -124.07234540899998,
             41.38621408800003
            ],
            [
             -124.07234491999998,
             41.38628749600008
            ],
            [
             -124.072346526,
             41.386360925000076
            ],
            [
             -124.07235030799995,
             41.386433590000024
            ],
            [
             -124.07235655599999,
             41.386504623000064
            ],
            [
             -124.07236578399994,
             41.38657300800003
            ],
            [
             -124.07237875399994,
             41.38663751200005
            ],
            [
             -124.07239648899997,
             41.38669659100003
            ],
            [
             -124.07242032599999,
             41.38674831000003
            ],
            [
             -124.07244664299998,
             41.38678648100006
            ],
            [
             -124.07250215199997,
             41.38685255900003
            ],
            [
             -124.072523838,
             41.38688610100007
            ],
            [
             -124.07253305199998,
             41.386911885000075
            ]
           ],
           "type": "LineString"
          },
          "id": "20",
          "properties": {
           "CSU_ID": 73772,
           "ERODIBILITY": "Medium",
           "MEAN_SIG_WAVEHEIGHT": 2.207218,
           "TIDAL_RANGE": 3.034041,
           "river_label": "moderate river discharge",
           "sinuosity_label": "straight",
           "slope_label": "flat",
           "style": {
            "color": "black",
            "dashArray": "5",
            "fillOpacity": 0.5,
            "fill_color": "black",
            "opacity": 1,
            "weight": 4
           },
           "turbid_label": "moderately turbid"
          },
          "type": "Feature"
         },
         {
          "geometry": {
           "coordinates": [
            [
             -124.07253305199998,
             41.386911885000075
            ],
            [
             -124.07253695699995,
             41.38692281300007
            ],
            [
             -124.07254120999994,
             41.386961308000025
            ],
            [
             -124.07253667799995,
             41.38699938600007
            ],
            [
             -124.07252297199994,
             41.38703480100003
            ],
            [
             -124.07250006199996,
             41.387066032000064
            ],
            [
             -124.07231895899997,
             41.387263767000036
            ],
            [
             -124.07228667099997,
             41.387298659000066
            ],
            [
             -124.072250027,
             41.38732958800006
            ],
            [
             -124.07217147699998,
             41.38738687400007
            ],
            [
             -124.07213455299996,
             41.387418051000054
            ],
            [
             -124.07210174899996,
             41.38745340200006
            ],
            [
             -124.07190506799998,
             41.38766581500005
            ],
            [
             -124.07187500099997,
             41.38770393200008
            ],
            [
             -124.07184812999998,
             41.38775727900003
            ],
            [
             -124.07182907999999,
             41.387818449000065
            ],
            [
             -124.07181583099998,
             41.38788540000007
            ],
            [
             -124.07180683699994,
             41.38795655300004
            ],
            [
             -124.07180093999995,
             41.388030686000036
            ],
            [
             -124.07179730099995,
             41.38810685800007
            ],
            [
             -124.07179533799996,
             41.38818433300003
            ],
            [
             -124.07179516399998,
             41.38834089900007
            ],
            [
             -124.07179964199997,
             41.38849632100005
            ],
            [
             -124.07180412699995,
             41.38857230900004
            ],
            [
             -124.07181074899995,
             41.38864628500005
            ],
            [
             -124.07182026699996,
             41.38871739700005
            ],
            [
             -124.07183371199994,
             41.38878456100008
            ],
            [
             -124.07185245,
             41.38884638800005
            ],
            [
             -124.07187823799995,
             41.38890110800003
            ],
            [
             -124.071906507,
             41.38894123600005
            ],
            [
             -124.07196957899998,
             41.38901487500004
            ],
            [
             -124.07199782099997,
             41.389054970000075
            ],
            [
             -124.07202354799995,
             41.38910962400007
            ],
            [
             -124.07204219599998,
             41.38917134900004
            ],
            [
             -124.07205552099998,
             41.38923837800007
            ],
            [
             -124.07206488699995,
             41.38930931900006
            ],
            [
             -124.07207132399998,
             41.38938308100006
            ],
            [
             -124.07207559099999,
             41.38945881600006
            ],
            [
             -124.07207821699996,
             41.38953584400008
            ],
            [
             -124.07207971699995,
             41.389691621000054
            ],
            [
             -124.07207651399995,
             41.38984650200007
            ],
            [
             -124.07207265299996,
             41.389922322000075
            ],
            [
             -124.07206665299998,
             41.38999619400005
            ],
            [
             -124.07205776899997,
             41.39006726200006
            ],
            [
             -124.07204497099997,
             41.39013442900006
            ],
            [
             -124.07202689199994,
             41.39019628900007
            ],
            [
             -124.07200177099998,
             41.39025104900003
            ],
            [
             -124.07197405899996,
             41.39029119000003
            ],
            [
             -124.07182487399996,
             41.39058867500006
            ],
            [
             -124.07158196499995,
             41.39126300200007
            ],
            [
             -124.07156403199997,
             41.39132594000006
            ],
            [
             -124.07155154199995,
             41.39139431900003
            ],
            [
             -124.07154304099998,
             41.39146668700005
            ],
            [
             -124.07153742099996,
             41.391541937000056
            ],
            [
             -124.07153170899994,
             41.39169797000005
            ],
            [
             -124.071530027,
             41.39185805500006
            ],
            [
             -124.07153193599999,
             41.39338750100006
            ]
           ],
           "type": "LineString"
          },
          "id": "21",
          "properties": {
           "CSU_ID": 74328,
           "ERODIBILITY": "Medium",
           "MEAN_SIG_WAVEHEIGHT": 2.207218,
           "TIDAL_RANGE": 3.034041,
           "river_label": "moderate river discharge",
           "sinuosity_label": "straight",
           "slope_label": "sloping",
           "style": {
            "color": "black",
            "dashArray": "5",
            "fillOpacity": 0.5,
            "fill_color": "black",
            "opacity": 1,
            "weight": 4
           },
           "turbid_label": "moderately turbid"
          },
          "type": "Feature"
         },
         {
          "geometry": {
           "coordinates": [
            [
             -124.07153193599999,
             41.39338750100006
            ],
            [
             -124.07153205699996,
             41.393484028000046
            ],
            [
             -124.07153292399994,
             41.39364636600004
            ],
            [
             -124.07153576299999,
             41.39380700400005
            ],
            [
             -124.071542777,
             41.39396349800006
            ],
            [
             -124.07154900499995,
             41.39403883500006
            ],
            [
             -124.07155798199994,
             41.394111088000045
            ],
            [
             -124.07157068899994,
             41.39417902800005
            ],
            [
             -124.071588384,
             41.39424102500004
            ],
            [
             -124.071612658,
             41.394294958000046
            ],
            [
             -124.07163849199998,
             41.39433264100006
            ],
            [
             -124.07169318799998,
             41.394397894000065
            ],
            [
             -124.07171462599996,
             41.39443118200006
            ],
            [
             -124.071727679,
             41.39446781800007
            ],
            [
             -124.07173211499997,
             41.39450648500008
            ],
            [
             -124.07172811699996,
             41.394545082000036
            ],
            [
             -124.07171541799994,
             41.394581489000075
            ],
            [
             -124.07151012799994,
             41.39499186200004
            ],
            [
             -124.07136757499995,
             41.395208420000074
            ],
            [
             -124.07133954999995,
             41.395248310000056
            ],
            [
             -124.07131394599998,
             41.39530414400008
            ],
            [
             -124.07129588799995,
             41.395367462000024
            ],
            [
             -124.07128344399996,
             41.39543633400007
            ],
            [
             -124.07127511699997,
             41.39550926600003
            ],
            [
             -124.07126975799997,
             41.395585123000046
            ],
            [
             -124.07126469199994,
             41.39574239400008
            ],
            [
             -124.07126299699996,
             41.39614647600007
            ],
            [
             -124.071259898,
             41.39630588400007
            ],
            [
             -124.07125633699997,
             41.39638365800005
            ],
            [
             -124.07125063399997,
             41.39645935200008
            ],
            [
             -124.07124194799997,
             41.39653212800005
            ],
            [
             -124.07122917899994,
             41.39660087900006
            ],
            [
             -124.07121089399999,
             41.39666415900007
            ],
            [
             -124.07118525499999,
             41.39672009700007
            ],
            [
             -124.07115745699997,
             41.396760253000025
            ],
            [
             -124.07109542499995,
             41.39683382800007
            ],
            [
             -124.07106785199994,
             41.396873740000046
            ],
            [
             -124.07104275299997,
             41.39692910500003
            ],
            [
             -124.07102543399998,
             41.396991367000055
            ],
            [
             -124.07101427899994,
             41.39705843400003
            ],
            [
             -124.07100817299994,
             41.397128536000025
            ],
            [
             -124.07100646899994,
             41.39720011000003
            ],
            [
             -124.07100894499996,
             41.397271696000075
            ],
            [
             -124.071015795,
             41.397341821000055
            ],
            [
             -124.07102763699999,
             41.39740889700005
            ],
            [
             -124.07103179499995,
             41.398328409000044
            ],
            [
             -124.070992516,
             41.39955310100004
            ],
            [
             -124.07098879299997,
             41.39962806300008
            ],
            [
             -124.07098298399995,
             41.39970092400006
            ],
            [
             -124.07097429499998,
             41.399770896000064
            ],
            [
             -124.07096168799995,
             41.399836941000046
            ],
            [
             -124.07094381399997,
             41.399897716000055
            ],
            [
             -124.07091895499997,
             41.39995150400006
            ],
            [
             -124.07089378599994,
             41.39998768800007
            ]
           ],
           "type": "LineString"
          },
          "id": "22",
          "properties": {
           "CSU_ID": 74328,
           "ERODIBILITY": "Medium",
           "MEAN_SIG_WAVEHEIGHT": 2.207218,
           "TIDAL_RANGE": 3.034041,
           "river_label": "moderate river discharge",
           "sinuosity_label": "straight",
           "slope_label": "sloping",
           "style": {
            "color": "black",
            "dashArray": "5",
            "fillOpacity": 0.5,
            "fill_color": "black",
            "opacity": 1,
            "weight": 4
           },
           "turbid_label": "moderately turbid"
          },
          "type": "Feature"
         },
         {
          "geometry": {
           "coordinates": [
            [
             -124.07089378599994,
             41.39998768800007
            ],
            [
             -124.07089129999997,
             41.39999126200007
            ],
            [
             -124.07082941099998,
             41.40006420100008
            ],
            [
             -124.07080175399994,
             41.40010396300005
            ],
            [
             -124.07077688799995,
             41.40015776200005
            ],
            [
             -124.07075900799998,
             41.40021855600003
            ],
            [
             -124.07074638799998,
             41.400284628000065
            ],
            [
             -124.07073768499998,
             41.40035463100003
            ],
            [
             -124.07073185799999,
             41.40042753400007
            ],
            [
             -124.07072811599994,
             41.40050254800008
            ],
            [
             -124.07072586099997,
             41.400579081000046
            ],
            [
             -124.07072414299995,
             41.400735059000056
            ],
            [
             -124.07072500899994,
             41.40121037800003
            ],
            [
             -124.07072307499999,
             41.40136702700005
            ],
            [
             -124.07071698399994,
             41.40151938100007
            ],
            [
             -124.07071127299997,
             41.40159262200007
            ],
            [
             -124.07070290299998,
             41.401662815000066
            ],
            [
             -124.07063335799995,
             41.402243234000025
            ],
            [
             -124.07043720699994,
             41.403542153000046
            ],
            [
             -124.07042498499999,
             41.403609506000066
            ],
            [
             -124.0704194386308,
             41.403629
            ]
           ],
           "type": "LineString"
          },
          "id": "23",
          "properties": {
           "CSU_ID": 74328,
           "ERODIBILITY": "Medium",
           "MEAN_SIG_WAVEHEIGHT": 2.207218,
           "TIDAL_RANGE": 3.034041,
           "river_label": "moderate river discharge",
           "sinuosity_label": "straight",
           "slope_label": "sloping",
           "style": {
            "color": "black",
            "dashArray": "5",
            "fillOpacity": 0.5,
            "fill_color": "black",
            "opacity": 1,
            "weight": 4
           },
           "turbid_label": "moderately turbid"
          },
          "type": "Feature"
         }
        ],
        "type": "FeatureCollection"
       },
       "hover_style": {
        "color": "white",
        "dashArray": "4",
        "fillOpacity": 0.7
       },
       "name": "shoreline",
       "style": {
        "color": "black",
        "dashArray": "5",
        "fillOpacity": 0.5,
        "fill_color": "black",
        "opacity": 1,
        "weight": 4
       }
      }
     },
     "f1184055a7dd4845a292d0516a45f0a1": {
      "model_module": "@jupyter-widgets/controls",
      "model_module_version": "1.5.0",
      "model_name": "HBoxModel",
      "state": {
       "children": [
        "IPY_MODEL_87777550aa9b4820aa2a83eb368560dc"
       ],
       "layout": "IPY_MODEL_0e3638a44f994a3f82bc148ae9d975bd"
      }
     },
     "f12d2a950c104b9daf36db806f775c2f": {
      "model_module": "@jupyter-widgets/controls",
      "model_module_version": "1.5.0",
      "model_name": "DescriptionStyleModel",
      "state": {
       "description_width": ""
      }
     },
     "f151c512914642de850c2c584afa36c9": {
      "model_module": "@jupyter-widgets/base",
      "model_module_version": "1.2.0",
      "model_name": "LayoutModel",
      "state": {}
     },
     "f1a07e5e62ce440daa610d03244ea39a": {
      "model_module": "@jupyter-widgets/controls",
      "model_module_version": "1.5.0",
      "model_name": "ButtonModel",
      "state": {
       "description": "Save Settings",
       "layout": "IPY_MODEL_bf23cbbb6d814a5b859f773fac9ff4aa",
       "style": "IPY_MODEL_a1f4d55dd6c7440d84e3d2957abebbf3"
      }
     },
     "f1f92775911343c7b54601f97723da60": {
      "model_module": "@jupyter-widgets/controls",
      "model_module_version": "1.5.0",
      "model_name": "ButtonStyleModel",
      "state": {
       "button_color": "#50bf8f"
      }
     },
     "f24bb2466be244f1aa3c14e48590c5c4": {
      "model_module": "@jupyter-widgets/base",
      "model_module_version": "1.2.0",
      "model_name": "LayoutModel",
      "state": {}
     },
     "f2960bffc73341469ca1f7f4dde65875": {
      "model_module": "@jupyter-widgets/base",
      "model_module_version": "1.2.0",
      "model_name": "LayoutModel",
      "state": {}
     },
     "f2f1b0ee84ee472196e4d22ea7b72c52": {
      "model_module": "@jupyter-widgets/controls",
      "model_module_version": "1.5.0",
      "model_name": "DescriptionStyleModel",
      "state": {
       "description_width": ""
      }
     },
     "f33444a692304f088dfb1511a198dcd6": {
      "model_module": "@jupyter-widgets/controls",
      "model_module_version": "1.5.0",
      "model_name": "HTMLModel",
      "state": {
       "layout": "IPY_MODEL_57a9b85eebd44d9583e75b1dfaf5f1ef",
       "style": "IPY_MODEL_c740373548d04c64ad2f7b3fe47e3cbe",
       "value": " \n        <h2>ROI</h2>\n        <p>Id: 0</p>\n        "
      }
     },
     "f348b0ca437e47f5af47b14b2856a317": {
      "model_module": "@jupyter-widgets/controls",
      "model_module_version": "1.5.0",
      "model_name": "HBoxModel",
      "state": {
       "children": [
        "IPY_MODEL_3bc14cb062bc438c85e3971062247153"
       ],
       "layout": "IPY_MODEL_18a0eb846d9144a88493d6ff1ae16f38"
      }
     },
     "f34a5725cc9e482fa266b07019dce398": {
      "model_module": "jupyter-leaflet",
      "model_module_version": "^0.17.0",
      "model_name": "LeafletTileLayerModel",
      "state": {
       "_model_module_version": "^0.17.0",
       "_view_module_version": "^0.17.0",
       "attribution": "Map tiles by <a href=\"https://labs.strava.com/heatmap\">Strava 2021</a>",
       "max_zoom": 15,
       "name": "Strava.All",
       "options": [
        "attribution",
        "bounds",
        "detect_retina",
        "max_native_zoom",
        "max_zoom",
        "min_native_zoom",
        "min_zoom",
        "no_wrap",
        "tile_size",
        "tms"
       ],
       "url": "https://heatmap-external-a.strava.com/tiles/all/hot/{z}/{x}/{y}.png"
      }
     },
     "f36ab49c7d0f4086b90c5abb16b1e9f9": {
      "model_module": "jupyter-leaflet",
      "model_module_version": "^0.17.0",
      "model_name": "LeafletTileLayerModel",
      "state": {
       "_model_module_version": "^0.17.0",
       "_view_module_version": "^0.17.0",
       "attribution": "Map tiles by <a href=\"https://labs.strava.com/heatmap\">Strava 2021</a>",
       "max_zoom": 15,
       "name": "Strava.Water",
       "options": [
        "attribution",
        "bounds",
        "detect_retina",
        "max_native_zoom",
        "max_zoom",
        "min_native_zoom",
        "min_zoom",
        "no_wrap",
        "tile_size",
        "tms"
       ],
       "url": "https://heatmap-external-a.strava.com/tiles/water/blue/{z}/{x}/{y}.png"
      }
     },
     "f3892459be2341cabdb61b57c6bcdc86": {
      "model_module": "jupyter-leaflet",
      "model_module_version": "^0.17.0",
      "model_name": "LeafletTileLayerModel",
      "state": {
       "_model_module_version": "^0.17.0",
       "_view_module_version": "^0.17.0",
       "attribution": "Map tiles by Stamen Design, CC BY 3.0 -- Map data (C) OpenStreetMap contributors",
       "max_zoom": 20,
       "name": "Stamen.TonerBackground",
       "options": [
        "attribution",
        "bounds",
        "detect_retina",
        "max_native_zoom",
        "max_zoom",
        "min_native_zoom",
        "min_zoom",
        "no_wrap",
        "tile_size",
        "tms"
       ],
       "url": "https://stamen-tiles-a.a.ssl.fastly.net/toner-background/{z}/{x}/{y}.png"
      }
     },
     "f44f6936ba234017b220beea3ea82512": {
      "model_module": "jupyter-leaflet",
      "model_module_version": "^0.17.0",
      "model_name": "LeafletTileLayerModel",
      "state": {
       "_model_module_version": "^0.17.0",
       "_view_module_version": "^0.17.0",
       "attribution": "Google",
       "max_zoom": 22,
       "name": "Google Satellite",
       "options": [
        "attribution",
        "bounds",
        "detect_retina",
        "max_native_zoom",
        "max_zoom",
        "min_native_zoom",
        "min_zoom",
        "no_wrap",
        "tile_size",
        "tms"
       ],
       "url": "https://mt1.google.com/vt/lyrs=y&x={x}&y={y}&z={z}"
      }
     },
     "f4c5ce3084054bd0b6b9fc66180c36e4": {
      "model_module": "@jupyter-widgets/base",
      "model_module_version": "1.2.0",
      "model_name": "LayoutModel",
      "state": {}
     },
     "f528dfe1ce044f37ad919f2f2f60c71f": {
      "model_module": "@jupyter-widgets/controls",
      "model_module_version": "1.5.0",
      "model_name": "HBoxModel",
      "state": {
       "children": [
        "IPY_MODEL_7e31a7969f2d4b4fa146429f3d376cf0"
       ],
       "layout": "IPY_MODEL_3caaeb069a4049ff8e073ad68da8ff15"
      }
     },
     "f545e371374d414185d1c9d54082b8fa": {
      "model_module": "jupyter-leaflet",
      "model_module_version": "^0.17.0",
      "model_name": "LeafletTileLayerModel",
      "state": {
       "_model_module_version": "^0.17.0",
       "_view_module_version": "^0.17.0",
       "attribution": "Imagery provided by services from the Global Imagery Browse Services (GIBS), operated by the NASA/GSFC/Earth Science Data and Information System (ESDIS) with funding provided by NASA/HQ.",
       "max_zoom": 12,
       "name": "NASAGIBS.ASTER_GDEM_Greyscale_Shaded_Relief",
       "options": [
        "attribution",
        "bounds",
        "detect_retina",
        "max_native_zoom",
        "max_zoom",
        "min_native_zoom",
        "min_zoom",
        "no_wrap",
        "tile_size",
        "tms"
       ],
       "url": "https://gibs.earthdata.nasa.gov/wmts/epsg3857/best/ASTER_GDEM_Greyscale_Shaded_Relief/default/GoogleMapsCompatible_Level12/{z}/{y}/{x}.jpg"
      }
     },
     "f595c5db2ac043f59738763bee193398": {
      "model_module": "jupyter-leaflet",
      "model_module_version": "^0.17.0",
      "model_name": "LeafletTileLayerModel",
      "state": {
       "_model_module_version": "^0.17.0",
       "_view_module_version": "^0.17.0",
       "attribution": "(C) OpenStreetMap contributors (C) CARTO",
       "max_zoom": 20,
       "name": "CartoDB.Voyager",
       "options": [
        "attribution",
        "bounds",
        "detect_retina",
        "max_native_zoom",
        "max_zoom",
        "min_native_zoom",
        "min_zoom",
        "no_wrap",
        "tile_size",
        "tms"
       ],
       "url": "https://a.basemaps.cartocdn.com/rastertiles/voyager/{z}/{x}/{y}.png"
      }
     },
     "f6dee3668ba34c059b4d2fdab9071f1a": {
      "model_module": "jupyter-leaflet",
      "model_module_version": "^0.17.0",
      "model_name": "LeafletTileLayerModel",
      "state": {
       "_model_module_version": "^0.17.0",
       "_view_module_version": "^0.17.0",
       "attribution": "Tiles courtesy of the U.S. Geological Survey",
       "max_zoom": 20,
       "name": "USGS.USImageryTopo",
       "options": [
        "attribution",
        "bounds",
        "detect_retina",
        "max_native_zoom",
        "max_zoom",
        "min_native_zoom",
        "min_zoom",
        "no_wrap",
        "tile_size",
        "tms"
       ],
       "url": "https://basemap.nationalmap.gov/arcgis/rest/services/USGSImageryTopo/MapServer/tile/{z}/{y}/{x}"
      }
     },
     "f7888c08f8f045c991f9b41345b0db6d": {
      "model_module": "@jupyter-widgets/controls",
      "model_module_version": "1.5.0",
      "model_name": "VBoxModel",
      "state": {
       "children": [
        "IPY_MODEL_4d175dd9d8664c6ea45a36fc10571c15",
        "IPY_MODEL_9d0a658bc3e54aedb7d0be7b6b820493"
       ],
       "layout": "IPY_MODEL_90fd5c36bbdd44f3970781c1217f1d87"
      }
     },
     "f85750719e254213ab85ae90ae6da05f": {
      "model_module": "jupyter-leaflet",
      "model_module_version": "^0.17.0",
      "model_name": "LeafletTileLayerModel",
      "state": {
       "_model_module_version": "^0.17.0",
       "_view_module_version": "^0.17.0",
       "attribution": "(C) Stadia Maps, (C) OpenMapTiles (C) OpenStreetMap contributors",
       "max_zoom": 20,
       "name": "Stadia.Outdoors",
       "options": [
        "attribution",
        "bounds",
        "detect_retina",
        "max_native_zoom",
        "max_zoom",
        "min_native_zoom",
        "min_zoom",
        "no_wrap",
        "tile_size",
        "tms"
       ],
       "url": "https://tiles.stadiamaps.com/tiles/outdoors/{z}/{x}/{y}.png"
      }
     },
     "f880921c367b4a678ac5f36a3e7c2c6c": {
      "model_module": "@jupyter-widgets/controls",
      "model_module_version": "1.5.0",
      "model_name": "ToggleButtonModel",
      "state": {
       "button_style": "primary",
       "icon": "search",
       "layout": "IPY_MODEL_22c4cb59afa14bb98156c12d7f134ab7",
       "style": "IPY_MODEL_bff9a0126a8049038f1d864e3714cd21",
       "tooltip": "Search XYZ tile services"
      }
     },
     "f8ee2e6ae28e4a668769c5d1da8e6fbc": {
      "model_module": "@jupyter-widgets/controls",
      "model_module_version": "1.5.0",
      "model_name": "DescriptionStyleModel",
      "state": {
       "description_width": ""
      }
     },
     "f92c7cf91dd240549ca0fa552d02eb27": {
      "model_module": "@jupyter-widgets/base",
      "model_module_version": "1.2.0",
      "model_name": "LayoutModel",
      "state": {
       "margin": "0px 20px 20px 20px"
      }
     },
     "fa20b2ae42bb4328ad30faf036f085ce": {
      "model_module": "@jupyter-widgets/base",
      "model_module_version": "1.2.0",
      "model_name": "LayoutModel",
      "state": {
       "grid_gap": "1px 1px",
       "grid_template_columns": "32px 32px 32px ",
       "grid_template_rows": "32px 32px 32px 32px 32px 32px ",
       "padding": "5px",
       "width": "109px"
      }
     },
     "fa4f4dc5eabe4d4bba446ce4ec3ba9a8": {
      "model_module": "jupyter-leaflet",
      "model_module_version": "^0.17.0",
      "model_name": "LeafletTileLayerModel",
      "state": {
       "_model_module_version": "^0.17.0",
       "_view_module_version": "^0.17.0",
       "attribution": "(C) OpenStreetMap contributors",
       "name": "OpenStreetMap.CH",
       "options": [
        "attribution",
        "bounds",
        "detect_retina",
        "max_native_zoom",
        "max_zoom",
        "min_native_zoom",
        "min_zoom",
        "no_wrap",
        "tile_size",
        "tms"
       ],
       "url": "https://tile.osm.ch/switzerland/{z}/{x}/{y}.png"
      }
     },
     "faf265caf98d43ceb43061eb1f62bd90": {
      "model_module": "jupyter-leaflet",
      "model_module_version": "^0.17.0",
      "model_name": "LeafletWidgetControlModel",
      "state": {
       "_model_module": "jupyter-leaflet",
       "_model_module_version": "^0.17.0",
       "_view_count": null,
       "_view_module": "jupyter-leaflet",
       "_view_module_version": "^0.17.0",
       "options": [
        "position",
        "transparent_bg"
       ],
       "position": "topright",
       "widget": "IPY_MODEL_9cfdd14f90e841159b2d5b74cc3deea3"
      }
     },
     "faf42cd5a64740cd8409a0df948ac8aa": {
      "model_module": "@jupyter-widgets/controls",
      "model_module_version": "1.5.0",
      "model_name": "SelectMultipleModel",
      "state": {
       "_options_labels": [
        "L5",
        "L7",
        "L8",
        "L9",
        "S2"
       ],
       "description": "Satellites",
       "index": [
        2
       ],
       "layout": "IPY_MODEL_3acec3d84648464a8be2791b25bccdfb",
       "rows": 5,
       "style": "IPY_MODEL_4336a2d3f4d9495fa67141c0054eae51"
      }
     },
     "faf67b58b10742cf8d8f25b0a2351455": {
      "model_module": "@jupyter-widgets/controls",
      "model_module_version": "1.5.0",
      "model_name": "DescriptionStyleModel",
      "state": {
       "description_width": ""
      }
     },
     "fb47ca1f81f34445a776dce6bb25fcda": {
      "model_module": "@jupyter-widgets/base",
      "model_module_version": "1.2.0",
      "model_name": "LayoutModel",
      "state": {}
     },
     "fb58ed3de9b0432ebc37d85d6a9e28b8": {
      "model_module": "jupyter-leaflet",
      "model_module_version": "^0.17.0",
      "model_name": "LeafletWMSLayerModel",
      "state": {
       "_model_module_version": "^0.17.0",
       "_view_module_version": "^0.17.0",
       "attribution": "MRLC",
       "crs": {
        "custom": false,
        "name": "EPSG3857"
       },
       "format": "image/png",
       "layers": "NLCD_2011_Land_Cover_L48",
       "name": "NLCD 2011 CONUS Land Cover",
       "options": [
        "attribution",
        "bounds",
        "detect_retina",
        "format",
        "layers",
        "max_native_zoom",
        "max_zoom",
        "min_native_zoom",
        "min_zoom",
        "no_wrap",
        "styles",
        "tile_size",
        "tms",
        "transparent",
        "uppercase"
       ],
       "transparent": true,
       "url": "https://www.mrlc.gov/geoserver/mrlc_display/NLCD_2011_Land_Cover_L48/wms?"
      }
     },
     "fb7d09192c6149259642aac747db4d83": {
      "model_module": "@jupyter-widgets/controls",
      "model_module_version": "1.5.0",
      "model_name": "ButtonModel",
      "state": {
       "description": "Remove ROIs",
       "layout": "IPY_MODEL_0d8a2b2a55314826aa1f627d70197911",
       "style": "IPY_MODEL_bd57687501334a9eb1e1387f8d668688"
      }
     },
     "fc324bf4f8a8462fbe4a92210645dcb5": {
      "model_module": "@jupyter-widgets/controls",
      "model_module_version": "1.5.0",
      "model_name": "ButtonStyleModel",
      "state": {
       "button_color": "red"
      }
     },
     "fcad14912c1547df8acfd49e87516f24": {
      "model_module": "jupyter-leaflet",
      "model_module_version": "^0.17.0",
      "model_name": "LeafletTileLayerModel",
      "state": {
       "_model_module_version": "^0.17.0",
       "_view_module_version": "^0.17.0",
       "attribution": "Map data: (C) OpenStreetMap contributors | Map style: (C) waymarkedtrails.org (CC-BY-SA)",
       "name": "WaymarkedTrails.skating",
       "options": [
        "attribution",
        "bounds",
        "detect_retina",
        "max_native_zoom",
        "max_zoom",
        "min_native_zoom",
        "min_zoom",
        "no_wrap",
        "tile_size",
        "tms"
       ],
       "url": "https://tile.waymarkedtrails.org/skating/{z}/{x}/{y}.png"
      }
     },
     "fd1cc35550f44dc6bfe3ac2670fcf993": {
      "model_module": "@jupyter-widgets/base",
      "model_module_version": "1.2.0",
      "model_name": "LayoutModel",
      "state": {
       "height": "auto",
       "padding": "0px 0px 0px 4px",
       "width": "auto"
      }
     },
     "fd5cb25a643740fc813eb3cb5e6d5095": {
      "model_module": "@jupyter-widgets/base",
      "model_module_version": "1.2.0",
      "model_name": "LayoutModel",
      "state": {
       "height": "auto",
       "padding": "0px 0px 0px 4px",
       "width": "auto"
      }
     },
     "fd6d56f01012414d92b377258f57928d": {
      "model_module": "jupyter-leaflet",
      "model_module_version": "^0.17.0",
      "model_name": "LeafletTileLayerModel",
      "state": {
       "_model_module_version": "^0.17.0",
       "_view_module_version": "^0.17.0",
       "attribution": "CyclOSM | Map data: (C) OpenStreetMap contributors",
       "max_zoom": 20,
       "name": "CyclOSM",
       "options": [
        "attribution",
        "bounds",
        "detect_retina",
        "max_native_zoom",
        "max_zoom",
        "min_native_zoom",
        "min_zoom",
        "no_wrap",
        "tile_size",
        "tms"
       ],
       "url": "https://a.tile-cyclosm.openstreetmap.fr/cyclosm/{z}/{x}/{y}.png"
      }
     },
     "fdf3a07f4944498eb46e72d03e49d757": {
      "model_module": "@jupyter-widgets/controls",
      "model_module_version": "1.5.0",
      "model_name": "HTMLModel",
      "state": {
       "layout": "IPY_MODEL_94f4d35250784e49a2194bc66e3a2cbd",
       "style": "IPY_MODEL_0b536c9fb4514e2a8e69db25d574deac",
       "value": "<h2><b>Load and Save Config Files</b></h2>                <b>Load Config</b>: Load rois, shorelines, transects and bounding box from file:                 </br>'config_gdf.geojson'</li>                <li>Make sure 'config.json' is in the same directory as 'config_gdf.geojson'.</li>                <b>Save Config</b>: Saves rois, shorelines, transects and bounding box to file:                </br>'config_gdf.geojson'</li>                <li>If the ROIs have not been downloaded the config file is in main CoastSeg directory in file:                </br>'config_gdf.geojson'</li>                <li>If the ROIs have been downloaded the config file is in each ROI's folder in file:                </br>'config_gdf.geojson'</li>                <li>The 'config.json' will be saved in the same directory as the 'config_gdf.geojson'.</li>                <li>The 'config.json' contains the data for the ROI and map settings.</li>                "
      }
     },
     "fe2b11bd2e664f3fb16647e134084bd9": {
      "model_module": "jupyter-leaflet",
      "model_module_version": "^0.17.0",
      "model_name": "LeafletTileLayerModel",
      "state": {
       "_model_module_version": "^0.17.0",
       "_view_module_version": "^0.17.0",
       "attribution": "(C) OpenStreetMap France | (C) OpenStreetMap contributors",
       "max_zoom": 20,
       "name": "OpenStreetMap.France",
       "options": [
        "attribution",
        "bounds",
        "detect_retina",
        "max_native_zoom",
        "max_zoom",
        "min_native_zoom",
        "min_zoom",
        "no_wrap",
        "tile_size",
        "tms"
       ],
       "url": "https://a.tile.openstreetmap.fr/osmfr/{z}/{x}/{y}.png"
      }
     }
    },
    "version_major": 2,
    "version_minor": 0
   }
  }
 },
 "nbformat": 4,
 "nbformat_minor": 4
}
