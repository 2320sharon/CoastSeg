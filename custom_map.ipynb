{
 "cells": [
  {
   "cell_type": "code",
   "execution_count": null,
   "metadata": {},
   "outputs": [],
   "source": [
    "import os\n",
    "# Local Imports\n",
    "import coastseg\n",
    "from coastseg import coastseg_map\n",
    "from coastseg import coastseg_logs #must be the first module loaded to create logs folder\n",
    "\n",
    "# External Imports\n",
    "import ee\n",
    "from google.auth import exceptions as google_auth_exceptions\n",
    "\n",
    "# suppress tensorflow warnings\n",
    "os.environ['TF_CPP_MIN_LOG_LEVEL'] = '3'"
   ]
  },
  {
   "cell_type": "markdown",
   "metadata": {},
   "source": [
    "## Authenticate and Initialize with Google Earth Engine (GEE)\n",
    "\n",
    "- Run this cell to initialize with GEE which will allow you to download remote sensing data from GEE.\n",
    "\n",
    "### First Time Users\n",
    "\n",
    "- In order to use Google Earth Engine (GEE) you will need to sign up to request access to use Google Earth Engine.https://signup.earthengine.google.com. You will only need to do this once and it takes only a day to get your account verified.\n",
    "\n",
    "### How `ee.Authenticate()` works\n",
    "\n",
    "- In order to initialize with GEE you will need an authorization token with is obtained by running `ee.Authenticate()`.This token lasts 7 days and during those 7 days you will not need to authenticate with google earth engine with an access code. Once the 7 days are up you will need to reauthenticate to use GEE again.\n"
   ]
  },
  {
   "cell_type": "code",
   "execution_count": null,
   "metadata": {},
   "outputs": [],
   "source": [
    "try:\n",
    "    ee.Initialize()\n",
    "except google_auth_exceptions.RefreshError as exception:\n",
    "    print(\"Please authenticate with Google:\\n\")\n",
    "    ee.Authenticate()\n",
    "    ee.Initialize()"
   ]
  },
  {
   "cell_type": "markdown",
   "metadata": {
    "tags": []
   },
   "source": [
    "# How to Use The Map\n",
    "\n",
    "---\n",
    "1.  Click `Save Settings` Button\n",
    "1. Use the rectangle tool to draw a bounding box along the coastline.\n",
    "2. Click `Generate ROI` to create ROI rectangles along the coastline in the bounding box. This may take some time.\n",
    "- You should see a coastline appear in yellow and some rectangles along it.\n",
    "3. Load transects into your bounding box with the `Load Transects` button. If any exist for the bounding box you selected they should appear.\n",
    "4. Click the ROIs you want to download.\n",
    "5. Once you've selected all the ROIs you want to download click `Downlod Imagery`\n",
    " - If any of the ROIs succesfully download they will have their own folder with all their data in the `data` directory in the `CoastSeg` directory\n",
    "6. To extract a timeseries of shorelines for the ROIs you downloaded click `Extract Shorelines`\n",
    "7. If any shorelines were extracted you can compute the cross distances along the transects and shoreline by clicking `Compute Transects` and save the output to a json file in the roi directory\n",
    "8. If any shorelines were extracted you can compute the cross distances along the transects and shoreline by clicking `Save Transects CSV`  and save the output to a csv in the roi directory"
   ]
  },
  {
   "cell_type": "code",
   "execution_count": null,
   "metadata": {},
   "outputs": [],
   "source": [
    "from src.coastseg.map_UI import UI\n",
    "coastsegmap=coastseg_map.CoastSeg_Map()\n",
    "coastseg_ui = UI(coastsegmap)\n",
    "coastseg_ui.create_dashboard()"
   ]
  },
  {
   "cell_type": "code",
   "execution_count": null,
   "metadata": {},
   "outputs": [],
   "source": [
    "import os "
   ]
  },
  {
   "cell_type": "code",
   "execution_count": null,
   "metadata": {},
   "outputs": [],
   "source": [
    "outfile=r'C:\\1_USGS\\CoastSeg\\repos\\2_CoastSeg\\CoastSeg_fork\\Seg2Map\\zox.geojson'"
   ]
  },
  {
   "cell_type": "code",
   "execution_count": null,
   "metadata": {},
   "outputs": [],
   "source": [
    "os.path.isfile(outfile)"
   ]
  },
  {
   "cell_type": "markdown",
   "metadata": {},
   "source": [
    "## Run Models on Imagery\n",
    "1. Select if you want to use a GPU or not. By default you won't your computer's GPU\n",
    "2. Select whether your data is the type RGB or MNDWI\n",
    "3. Select the model you want to use\n",
    "4. Select Ensemble or Best (Ensemble is recommended) \n"
   ]
  },
  {
   "cell_type": "code",
   "execution_count": null,
   "metadata": {},
   "outputs": [],
   "source": [
    "import nest_asyncio\n",
    "nest_asyncio.apply()"
   ]
  },
  {
   "cell_type": "code",
   "execution_count": null,
   "metadata": {},
   "outputs": [],
   "source": [
    "from src.coastseg.UI_models import UI_Models\n",
    "models_ui = UI_Models()\n",
    "models_ui.create_dashboard()"
   ]
  },
  {
   "cell_type": "code",
   "execution_count": null,
   "metadata": {},
   "outputs": [],
   "source": [
    "import os\n",
    "import glob\n",
    "import asyncio\n",
    "import platform\n",
    "import json\n",
    "import tqdm\n",
    "# from tqdm import tqdm\n",
    "import tqdm.asyncio\n",
    "import aiohttp\n",
    "from coastseg import zoo_model"
   ]
  },
  {
   "cell_type": "code",
   "execution_count": null,
   "metadata": {},
   "outputs": [],
   "source": [
    "import asyncio\n",
    "import random\n",
    "\n",
    "\n",
    "async def produce(queue, n):\n",
    "    for x in range(1, n + 1):\n",
    "        # produce an item\n",
    "        print('producing {}/{}'.format(x, n))\n",
    "        # simulate i/o operation using sleep\n",
    "        await asyncio.sleep(random.random())\n",
    "        item = str(x)\n",
    "        # put the item in the queue\n",
    "        await queue.put(item)\n",
    "\n",
    "    # indicate the producer is done\n",
    "    await queue.put(None)\n",
    "\n",
    "\n",
    "async def consume(queue):\n",
    "    while True:\n",
    "        # wait for an item from the producer\n",
    "        item = await queue.get()\n",
    "        if item is None:\n",
    "            # the producer emits None to indicate that it is done\n",
    "            break\n",
    "\n",
    "        # process the item\n",
    "        print('consuming {}'.format(item))\n",
    "        # simulate i/o operation using sleep\n",
    "        await asyncio.sleep(random.random())\n",
    "\n",
    "\n",
    "loop = asyncio.get_event_loop()\n",
    "queue = asyncio.Queue()\n",
    "asyncio.ensure_future(produce(queue, 10), loop=loop)\n",
    "loop.run_until_complete(consume(queue))"
   ]
  },
  {
   "cell_type": "code",
   "execution_count": null,
   "metadata": {},
   "outputs": [],
   "source": [
    "# if platform.system()=='Windows':\n",
    "#         asyncio.set_event_loop_policy(asyncio.WindowsSelectorEventLoopPolicy())\n",
    "        \n",
    "async def fetch(session,url:str,save_path: str):\n",
    "    chunk_size: int = 128\n",
    "    async with session.get(url,raise_for_status=True) as r:\n",
    "        with open(save_path, \"wb\") as fd:\n",
    "            async for chunk in r.content.iter_chunked(chunk_size):\n",
    "                fd.write(chunk)\n",
    "\n",
    "async def fetch_all(session,url_dict):\n",
    "    print(url_dict.keys())\n",
    "    tasks = []\n",
    "    for save_path,url in url_dict.items():\n",
    "        task = asyncio.create_task(fetch(session,url,save_path)) \n",
    "        tasks.append(task)\n",
    "    await tqdm.asyncio.tqdm.gather(*tasks)\n",
    "    # await asyncio.gather(*tasks)\n",
    "\n",
    "async def async_download_urls(url_dict:dict)->None:\n",
    "    print(url_dict.keys())\n",
    "    async with aiohttp.ClientSession() as session:\n",
    "        await fetch_all(session,url_dict)"
   ]
  },
  {
   "cell_type": "code",
   "execution_count": null,
   "metadata": {},
   "outputs": [],
   "source": [
    "\n",
    "url_dict = {'C:\\\\1_USGS\\\\CoastSeg\\\\repos\\\\2_CoastSeg\\\\CoastSeg_fork\\\\Seg2Map\\\\src\\\\coastseg\\\\downloaded_models\\\\s2-landsat78-4class_6950472\\\\sat4class_rgb_512_v1_fullmodel.h5': 'https://zenodo.org/api/files/70633e17-73c6-4f5e-adb1-062725e6a7c1/sat4class_rgb_513_v1_fullmodel.h5', 'C:\\\\1_USGS\\\\CoastSeg\\\\repos\\\\2_CoastSeg\\\\CoastSeg_fork\\\\Seg2Map\\\\src\\\\coastseg\\\\downloaded_models\\\\s2-landsat78-4class_6950472\\\\sat4class_rgb_512_v1.json': 'https://zenodo.org/api/files/70633e17-73c6-4f5e-adb1-062725e6a7c1/sat4class_rgb_512_v1.json', 'C:\\\\1_USGS\\\\CoastSeg\\\\repos\\\\2_CoastSeg\\\\CoastSeg_fork\\\\Seg2Map\\\\src\\\\coastseg\\\\downloaded_models\\\\s2-landsat78-4class_6950472\\\\sat4class_rgb_512_v2_fullmodel.h5': 'https://zenodo.org/api/files/70633e17-73c6-4f5e-adb1-062725e6a7c1/sat4class_rgb_512_v2_fullmodel.h5', 'C:\\\\1_USGS\\\\CoastSeg\\\\repos\\\\2_CoastSeg\\\\CoastSeg_fork\\\\Seg2Map\\\\src\\\\coastseg\\\\downloaded_models\\\\s2-landsat78-4class_6950472\\\\sat4class_rgb_512_v2.json': 'https://zenodo.org/api/files/70633e17-73c6-4f5e-adb1-062725e6a7c1/sat4class_rgb_512_v2.json', 'C:\\\\1_USGS\\\\CoastSeg\\\\repos\\\\2_CoastSeg\\\\CoastSeg_fork\\\\Seg2Map\\\\src\\\\coastseg\\\\downloaded_models\\\\s2-landsat78-4class_6950472\\\\sat4class_rgb_512_v3_fullmodel.h5': 'https://zenodo.org/api/files/70633e17-73c6-4f5e-adb1-062725e6a7c1/sat4class_rgb_512_v3_fullmodel.h5', 'C:\\\\1_USGS\\\\CoastSeg\\\\repos\\\\2_CoastSeg\\\\CoastSeg_fork\\\\Seg2Map\\\\src\\\\coastseg\\\\downloaded_models\\\\s2-landsat78-4class_6950472\\\\sat4class_rgb_512_v3.json': 'https://zenodo.org/api/files/70633e17-73c6-4f5e-adb1-062725e6a7c1/sat4class_rgb_512_v3.json', 'C:\\\\1_USGS\\\\CoastSeg\\\\repos\\\\2_CoastSeg\\\\CoastSeg_fork\\\\Seg2Map\\\\src\\\\coastseg\\\\downloaded_models\\\\s2-landsat78-4class_6950472\\\\sat4class_rgb_512_v4_fullmodel.h5': 'https://zenodo.org/api/files/70633e17-73c6-4f5e-adb1-062725e6a7c1/sat4class_rgb_512_v4_fullmodel.h5', 'C:\\\\1_USGS\\\\CoastSeg\\\\repos\\\\2_CoastSeg\\\\CoastSeg_fork\\\\Seg2Map\\\\src\\\\coastseg\\\\downloaded_models\\\\s2-landsat78-4class_6950472\\\\sat4class_rgb_512_v4.json': 'https://zenodo.org/api/files/70633e17-73c6-4f5e-adb1-062725e6a7c1/sat4class_rgb_512_v4.json'}"
   ]
  },
  {
   "cell_type": "code",
   "execution_count": null,
   "metadata": {},
   "outputs": [],
   "source": [
    "def run_async_download(url_dict:dict):\n",
    "    if platform.system()=='Windows':\n",
    "        asyncio.set_event_loop_policy(asyncio.WindowsSelectorEventLoopPolicy())\n",
    "    loop = asyncio.get_event_loop()\n",
    "    loop.create_task(zoo_model.async_download_urls(url_dict))"
   ]
  },
  {
   "cell_type": "code",
   "execution_count": null,
   "metadata": {},
   "outputs": [],
   "source": [
    "run_async_download(url_dict)"
   ]
  },
  {
   "cell_type": "code",
   "execution_count": null,
   "metadata": {},
   "outputs": [],
   "source": [
    "async def async_download_urls(url_dict:dict)->None:\n",
    "    print(url_dict.keys())\n",
    "    await fn(1)\n",
    "    # async with aiohttp.ClientSession() as session:\n",
    "    #     await  fn(1)"
   ]
  },
  {
   "cell_type": "code",
   "execution_count": null,
   "metadata": {},
   "outputs": [],
   "source": [
    "loop = asyncio.get_event_loop()\n",
    "loop.create_task(async_download_urls(url_dict))"
   ]
  },
  {
   "cell_type": "code",
   "execution_count": null,
   "metadata": {},
   "outputs": [],
   "source": [
    "import asyncio\n",
    "async def fn(num):\n",
    "  print('hello',1)\n",
    "  await asyncio.sleep(1)\n",
    "  print('world')\n",
    "\n",
    "await fn(1)"
   ]
  },
  {
   "cell_type": "code",
   "execution_count": null,
   "metadata": {},
   "outputs": [],
   "source": [
    "from tqdm.asyncio import trange, tqdm\n",
    "async for i in trange(10):\n",
    "    await asyncio.sleep(1)"
   ]
  },
  {
   "cell_type": "code",
   "execution_count": null,
   "metadata": {},
   "outputs": [],
   "source": []
  },
  {
   "cell_type": "code",
   "execution_count": null,
   "metadata": {},
   "outputs": [],
   "source": [
    "loop = asyncio.get_event_loop()\n",
    "loop"
   ]
  },
  {
   "cell_type": "code",
   "execution_count": null,
   "metadata": {},
   "outputs": [],
   "source": [
    "loop.create_task(fn(1))"
   ]
  },
  {
   "cell_type": "code",
   "execution_count": null,
   "metadata": {},
   "outputs": [],
   "source": [
    "filename= 'C:\\\\1_USGS\\\\CoastSeg\\\\repos\\\\2_CoastSeg\\\\CoastSeg_fork\\\\Seg2Map\\\\src\\\\coastseg\\\\downloaded_models\\\\s2-landsat78-4class_6950472\\\\sat4class_rgb_512_v1_fullmodel.h5'.split(os.sep)[-1]\n",
    "filename"
   ]
  },
  {
   "cell_type": "code",
   "execution_count": null,
   "metadata": {},
   "outputs": [],
   "source": [
    "json_filename='C:\\\\1_USGS\\\\CoastSeg\\\\repos\\\\2_CoastSeg\\\\CoastSeg_fork\\\\Seg2Map\\\\src\\\\coastseg\\\\downloaded_models\\\\s2-landsat78-4class_6950472\\\\sat4class_rgb_512_v1_fullmodel.h5'.replace(\"fullmodel.h5\",\".json\")\n",
    "json_filename"
   ]
  },
  {
   "cell_type": "code",
   "execution_count": null,
   "metadata": {},
   "outputs": [],
   "source": [
    "url = 'https://www.petco.com/'\n",
    "with requests.get(url, stream=True) as r:\n",
    "    print(r)\n",
    "    print(r.headers)"
   ]
  },
  {
   "cell_type": "code",
   "execution_count": null,
   "metadata": {},
   "outputs": [],
   "source": []
  },
  {
   "cell_type": "code",
   "execution_count": null,
   "metadata": {},
   "outputs": [],
   "source": [
    "url = 'https://zenodo.org/api/files/70633e17-73c6-4f5e-adb1-062725e6a7c1/sat4class_mndwi_512_v7.json'\n",
    "save_path  = r'C:\\1_USGS\\CoastSeg\\repos\\2_CoastSeg\\CoastSeg_fork\\Seg2Map\\src\\coastseg\\downloaded_models\\s2-landsat78-4class_6950472\\sat4class_mndwi_512_v7.json'\n",
    "chunk_size = 128\n",
    "with requests.get(url, stream=True) as r:\n",
    "    print(r)\n",
    "    print(r.headers.keys)\n",
    "    print(r.headers.get(\"Content-Length\"))\n",
    "    print(type(r.headers.get(\"Content-Length\")))\n",
    "    print(type(total_content_length) == str)\n",
    "    total_content_length = r.headers.get(\"Content-Length\")\n",
    "    if total_content_length is None:\n",
    "            with open(save_path, \"wb\") as fd:\n",
    "                for chunk in r.iter_content(chunk_size=chunk_size):\n",
    "                    fd.write(chunk)\n",
    "    elif type(total_content_length) == str:\n",
    "        total_content_length = int(total_content_length)\n",
    "        with open(save_path, \"wb\") as fd:\n",
    "            with tqdm(\n",
    "                    total=total_content_length ,\n",
    "                    unit=\"B\",\n",
    "                    unit_scale=True,\n",
    "                    unit_divisor=1024,\n",
    "                    desc=\"Downloading Model\",\n",
    "                    initial=0,\n",
    "                    ascii=True,\n",
    "                ) as pbar:\n",
    "                    for chunk in r.iter_content(chunk_size=chunk_size):\n",
    "                        fd.write(chunk)\n",
    "                        pbar.update(len(chunk))"
   ]
  },
  {
   "cell_type": "code",
   "execution_count": null,
   "metadata": {},
   "outputs": [],
   "source": [
    "url = 'https://zenodo.org/api/files/70633e17-73c6-4f5e-adb1-062725e6a7c1/sat4class_rgb_512_v1_fullmodel.json'\n",
    "save_path  = r'C:\\1_USGS\\CoastSeg\\repos\\2_CoastSeg\\CoastSeg_fork\\Seg2Map\\src\\coastseg\\downloaded_models\\s2-landsat78-4class_6950472\\sat4class_rgb_512_v1_fullmodel.json'\n",
    "chunk_size = 128\n",
    "with requests.get(url, stream=True) as r:\n",
    "    print(r)\n",
    "    print(r.headers.keys)\n",
    "    print(r.headers.get(\"Content-Length\"))\n",
    "    print(type(r.headers.get(\"Content-Length\")))\n",
    "    print(type(total_content_length) == str)\n",
    "    total_content_length = r.headers.get(\"Content-Length\")\n",
    "    if total_content_length is None:\n",
    "            with open(save_path, \"wb\") as fd:\n",
    "                for chunk in r.iter_content(chunk_size=chunk_size):\n",
    "                    fd.write(chunk)\n",
    "    elif type(total_content_length) == str:\n",
    "         with open(save_path, \"wb\") as fd:\n",
    "            with tqdm(\n",
    "                    total=total_content_length ,\n",
    "                    unit=\"B\",\n",
    "                    unit_scale=True,\n",
    "                    unit_divisor=1024,\n",
    "                    desc=\"Downloading Model\",\n",
    "                    initial=0,\n",
    "                    ascii=True,\n",
    "                ) as pbar:\n",
    "                    for chunk in r.iter_content(chunk_size=chunk_size):\n",
    "                        fd.write(chunk)\n",
    "                        pbar.update(len(chunk))"
   ]
  },
  {
   "cell_type": "code",
   "execution_count": null,
   "metadata": {},
   "outputs": [],
   "source": [
    "url = 'https://zenodo.org/api/files/70633e17-73c6-4f5e-adb1-062725e6a7c1/sat4class_rgb_512_v1_fullmodel.h5'\n",
    "with requests.get(url, stream=True) as r:\n",
    "    print(r)\n",
    "    print(r.headers)\n",
    "    print(r.headers.get(\"Content-Length\"))"
   ]
  },
  {
   "cell_type": "code",
   "execution_count": null,
   "metadata": {},
   "outputs": [],
   "source": [
    "downloaded_models_path = r'C:\\1_USGS\\CoastSeg\\repos\\2_CoastSeg\\CoastSeg_fork\\Seg2Map\\src\\coastseg\\downloaded_models'\n",
    "dataset_id = 's2-landsat78-4class_6950472'"
   ]
  },
  {
   "cell_type": "code",
   "execution_count": null,
   "metadata": {},
   "outputs": [],
   "source": [
    "zenodo_id = dataset_id.split(\"_\")[-1]\n",
    "root_url = \"https://zenodo.org/api/records/\" + zenodo_id\n",
    "# read raw json and get list of available files in zenodo release\n",
    "response = requests.get(root_url)\n",
    "json_content = json.loads(response.text)\n",
    "files = json_content[\"files\"]"
   ]
  },
  {
   "cell_type": "code",
   "execution_count": null,
   "metadata": {},
   "outputs": [],
   "source": [
    "weights_direc = os.path.abspath(\n",
    "            os.path.join(downloaded_models_path, dataset_id)\n",
    "        )\n",
    "weights_direc"
   ]
  },
  {
   "cell_type": "code",
   "execution_count": null,
   "metadata": {},
   "outputs": [],
   "source": [
    "all_models = [f for f in files if f[\"key\"].endswith(\".h5\")]\n",
    "all_models"
   ]
  },
  {
   "cell_type": "code",
   "execution_count": null,
   "metadata": {},
   "outputs": [],
   "source": [
    "all_models[0][\"links\"][\"self\"].split('/')[-1]"
   ]
  },
  {
   "cell_type": "code",
   "execution_count": null,
   "metadata": {},
   "outputs": [],
   "source": [
    "all_models[0][\"links\"][\"self\"].split(os.sep)[-1]"
   ]
  },
  {
   "cell_type": "code",
   "execution_count": null,
   "metadata": {},
   "outputs": [],
   "source": [
    "best_model_txt = [f for f in files if f[\"key\"] == \"BEST_MODEL.txt\"][0]\n",
    "best_model_txt"
   ]
  },
  {
   "cell_type": "code",
   "execution_count": null,
   "metadata": {},
   "outputs": [],
   "source": [
    "best_model_txt_path = weights_direc + os.sep + \"BEST_MODEL.txt\"\n",
    "best_model_txt_path"
   ]
  },
  {
   "cell_type": "code",
   "execution_count": null,
   "metadata": {},
   "outputs": [],
   "source": [
    "def download_url(url, save_path, chunk_size=128):\n",
    "    print(f\"url: {url}\")\n",
    "    print(f\"save_path: {save_path}\")\n",
    "    r = requests.get(url, stream=True)\n",
    "    with open(save_path, 'wb') as fd:\n",
    "        for chunk in r.iter_content(chunk_size=chunk_size):\n",
    "            fd.write(chunk)"
   ]
  },
  {
   "cell_type": "code",
   "execution_count": null,
   "metadata": {},
   "outputs": [],
   "source": [
    "def download_url(url: str, save_path: str, chunk_size: int = 128):\n",
    "    \"\"\"Downloads the model from the given url to the save_path location.\n",
    "    Args:\n",
    "        url (str): url to model to download\n",
    "        save_path (str): directory to save model\n",
    "        chunk_size (int, optional):  Defaults to 128.\n",
    "    \"\"\"\n",
    "    # make an HTTP request within a context manager\n",
    "    with requests.get(url, stream=True) as r:\n",
    "        # check header to get content length, in bytes\n",
    "        total_length = int(r.headers.get(\"Content-Length\"))\n",
    "        with open(save_path, \"wb\") as fd:\n",
    "            with tqdm(\n",
    "                total=total_length,\n",
    "                unit=\"B\",\n",
    "                unit_scale=True,\n",
    "                unit_divisor=1024,\n",
    "                desc=\"Downloading Model\",\n",
    "                initial=0,\n",
    "                ascii=True,\n",
    "            ) as pbar:\n",
    "                for chunk in r.iter_content(chunk_size=chunk_size):\n",
    "                    fd.write(chunk)\n",
    "                    pbar.update(len(chunk))\n"
   ]
  },
  {
   "cell_type": "code",
   "execution_count": null,
   "metadata": {},
   "outputs": [],
   "source": [
    "download_url(\n",
    "                    best_model_txt[\"links\"][\"self\"],\n",
    "                    best_model_txt_path,\n",
    "                )"
   ]
  },
  {
   "cell_type": "code",
   "execution_count": null,
   "metadata": {},
   "outputs": [],
   "source": [
    "with open(best_model_txt_path) as f:\n",
    "                data = f.read()\n",
    "data"
   ]
  },
  {
   "cell_type": "code",
   "execution_count": null,
   "metadata": {},
   "outputs": [],
   "source": [
    "best_model_h5 = [f for f in files if f[\"key\"] == data][0]\n",
    "best_model_h5"
   ]
  },
  {
   "cell_type": "code",
   "execution_count": null,
   "metadata": {},
   "outputs": [],
   "source": [
    "outfile = weights_direc + os.sep + data\n",
    "outfile"
   ]
  },
  {
   "cell_type": "code",
   "execution_count": null,
   "metadata": {},
   "outputs": [],
   "source": [
    "best_model_json = [\n",
    "                f for f in files if f[\"key\"] == data.replace(\"_fullmodel.h5\", \".json\")\n",
    "            ]\n",
    "best_model_json"
   ]
  },
  {
   "cell_type": "code",
   "execution_count": null,
   "metadata": {},
   "outputs": [],
   "source": []
  }
 ],
 "metadata": {
  "kernelspec": {
   "display_name": "Python 3 (ipykernel)",
   "language": "python",
   "name": "python3"
  },
  "language_info": {
   "codemirror_mode": {
    "name": "ipython",
    "version": 3
   },
   "file_extension": ".py",
   "mimetype": "text/x-python",
   "name": "python",
   "nbconvert_exporter": "python",
   "pygments_lexer": "ipython3",
   "version": "3.10.4"
  },
  "vscode": {
   "interpreter": {
    "hash": "53ab1155a6fba8dac112dd11f6ebbdb1bff1a2fc6fa221ef0a2c21c817842ec3"
   }
  },
  "widgets": {
   "application/vnd.jupyter.widget-state+json": {
    "state": {},
    "version_major": 2,
    "version_minor": 0
   }
  }
 },
 "nbformat": 4,
 "nbformat_minor": 4
}
