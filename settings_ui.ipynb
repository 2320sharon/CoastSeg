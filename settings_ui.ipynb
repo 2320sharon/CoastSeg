{
 "cells": [
  {
   "cell_type": "code",
   "execution_count": null,
   "metadata": {},
   "outputs": [],
   "source": [
    "from coastseg.settings_UI import Settings_UI\n",
    "import ipywidgets\n",
    "\n",
    "instructions = \"Sand color on beach for model to detect 'dark' (grey/black) 'bright' (white)\"\n",
    "widget = ipywidgets.Dropdown(\n",
    "            options=[\"default\", \"latest\", \"dark\", \"bright\"],\n",
    "            value=\"default\",\n",
    "            description=\"sand_color :\",\n",
    "            disabled=False,\n",
    "        )\n",
    "\n",
    "satellite_selection = ipywidgets.SelectMultiple(\n",
    "            options=[\"L5\", \"L7\", \"L8\", \"L9\", \"S2\"],\n",
    "            value=[\"L8\"],\n",
    "            description=\"Satellites\",\n",
    "            disabled=False,\n",
    "        )\n",
    "\n",
    "image_size_filter_checkbox = ipywidgets.Checkbox(\n",
    "            value=True, \n",
    "            description=\"Enable Image Size Filter\",\n",
    "            indent=False,  # To align the description with the label\n",
    "        )\n",
    "\n",
    "cloud_mask_issue=ipywidgets.ToggleButtons(\n",
    "            options=[\"False\", \"True\"],\n",
    "            description=\" Switch to True if sand pixels are masked (in black) on many images\",\n",
    "            disabled=False,\n",
    "            button_style=\"\",\n",
    "            tooltips=[\n",
    "                \"No cloud mask issue\",\n",
    "                \"Fix cloud masking\",\n",
    "            ],\n",
    "        )\n",
    "\n",
    "basic_settings = [\n",
    "                \"dates\",\n",
    "                \"max_dist_ref\",\n",
    "                \"min_length_sl\",\n",
    "                \"min_beach_area\",\n",
    "                \"dist_clouds\",\n",
    "                \"apply_cloud_mask\",\n",
    "                \"cloud_thresh\",\n",
    "                \"percent_no_data\",\n",
    "            ]\n",
    "\n",
    "settings_dashboard=Settings_UI(basic_settings)\n",
    "settings_dashboard.add_custom_widget(widget,'sand_dropbox','Select Sand Color',instructions,advanced=True,index=0)\n",
    "settings_dashboard.add_custom_widget(cloud_mask_issue,\"cloud_mask_issue\",'Cloud Mask Issue',\"Switch to True if sand pixels are masked (in black) on many images\",advanced=True,index=-1)\n",
    "\n",
    "settings_dashboard.add_custom_widget(satellite_selection,'sat_list','Select Satellites',\"Pick multiple satellites by holding the control key\",advanced=False,index=1)\n",
    "settings_dashboard.add_custom_widget(image_size_filter_checkbox,\"image_size_filter\",'Image Size Filter',\"Activate to filter out images that are smaller than 60% of the Region of Interest (ROI).\",advanced=False,index=-1)\n",
    "settings_dashboard.render()"
   ]
  },
  {
   "cell_type": "code",
   "execution_count": null,
   "metadata": {},
   "outputs": [],
   "source": [
    "settings_dashboard.get_settings()"
   ]
  },
  {
   "cell_type": "code",
   "execution_count": null,
   "metadata": {},
   "outputs": [],
   "source": [
    "settings_dashboard.render()"
   ]
  },
  {
   "cell_type": "code",
   "execution_count": null,
   "metadata": {},
   "outputs": [],
   "source": [
    "settings_dashboard.settings_widgets"
   ]
  },
  {
   "cell_type": "code",
   "execution_count": null,
   "metadata": {},
   "outputs": [],
   "source": [
    "settings_dashboard.advanced_settings.insert(0, 'sand_dropbox')"
   ]
  },
  {
   "cell_type": "code",
   "execution_count": null,
   "metadata": {},
   "outputs": [],
   "source": [
    "settings_dashboard.advanced_settings"
   ]
  },
  {
   "cell_type": "code",
   "execution_count": null,
   "metadata": {},
   "outputs": [],
   "source": [
    "settings_dashboard.settings_widgets['sand_dropbox'] = widget\n",
    "settings_dashboard.settings_widgets"
   ]
  },
  {
   "cell_type": "code",
   "execution_count": null,
   "metadata": {},
   "outputs": [],
   "source": [
    "index=0\n",
    "settings_dashboard.advanced_settings_tab.children = (\n",
    "                    settings_dashboard.advanced_settings_tab.children[:index]\n",
    "                    + (ipywidgets.HTML(value=f\"<b>{instructions}\"),)\n",
    "                    + settings_dashboard.advanced_settings_tab.children[index:]\n",
    "                )"
   ]
  },
  {
   "cell_type": "code",
   "execution_count": null,
   "metadata": {},
   "outputs": [],
   "source": [
    "settings_dashboard.advanced_settings_tab"
   ]
  },
  {
   "cell_type": "code",
   "execution_count": null,
   "metadata": {},
   "outputs": [],
   "source": [
    "settings_dashboard.render()"
   ]
  },
  {
   "cell_type": "code",
   "execution_count": null,
   "metadata": {},
   "outputs": [],
   "source": [
    "\n",
    "            if instructions is not None:\n",
    "                self.advanced_settings_tab.children = (\n",
    "                    self.advanced_settings_tab.children[:index]\n",
    "                    + (ipywidgets.HTML(value=f\"<b>{instructions}\"),)\n",
    "                    + self.advanced_settings_tab.children[index:]\n",
    "                )"
   ]
  },
  {
   "cell_type": "code",
   "execution_count": null,
   "metadata": {},
   "outputs": [],
   "source": [
    "settings_dashboard.add_custom_widget(widget,instructions,advanced=True,index=0)"
   ]
  },
  {
   "cell_type": "code",
   "execution_count": null,
   "metadata": {},
   "outputs": [],
   "source": [
    "    def get_sand_dropbox(self):\n",
    "        sand_color_instr = HTML(\n",
    "            value=\"<b>Sand Color</b>\\\n",
    "            </br>- Sand color on beach for model to detect 'dark' (grey/black) 'bright' (white)</b>\"\n",
    "        )\n",
    "        self.sand_dropdown = ipywidgets.Dropdown(\n",
    "            options=[\"default\", \"latest\", \"dark\", \"bright\"],\n",
    "            value=\"default\",\n",
    "            description=\"sand_color :\",\n",
    "            disabled=False,\n",
    "        )\n",
    "        return VBox([sand_color_instr, self.sand_dropdown])"
   ]
  },
  {
   "cell_type": "code",
   "execution_count": null,
   "metadata": {},
   "outputs": [],
   "source": [
    "import ipywidgets as widgets\n",
    "\n",
    "widgets.ToggleButtons("
   ]
  },
  {
   "cell_type": "code",
   "execution_count": null,
   "metadata": {},
   "outputs": [],
   "source": [
    "settings_dashboard.get_settings()"
   ]
  },
  {
   "cell_type": "code",
   "execution_count": null,
   "metadata": {},
   "outputs": [],
   "source": [
    "from coastseg.settings_UI_old import Settings_UI\n",
    "\n",
    "\n",
    "settings_dashboard=Settings_UI()\n",
    "settings_dashboard.render()"
   ]
  },
  {
   "cell_type": "code",
   "execution_count": null,
   "metadata": {},
   "outputs": [],
   "source": [
    "from coastseg.settings_UI_old import Settings_UI\n",
    "\n",
    "\n",
    "settings_dashboard=Settings_UI()\n",
    "settings_dashboard.render()"
   ]
  }
 ],
 "metadata": {
  "kernelspec": {
   "display_name": "coastseg_transformers10",
   "language": "python",
   "name": "python3"
  },
  "language_info": {
   "codemirror_mode": {
    "name": "ipython",
    "version": 3
   },
   "file_extension": ".py",
   "mimetype": "text/x-python",
   "name": "python",
   "nbconvert_exporter": "python",
   "pygments_lexer": "ipython3",
   "version": "3.10.12"
  }
 },
 "nbformat": 4,
 "nbformat_minor": 2
}
