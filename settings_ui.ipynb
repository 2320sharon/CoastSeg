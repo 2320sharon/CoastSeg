{
 "cells": [
  {
   "cell_type": "code",
   "execution_count": 1,
   "metadata": {},
   "outputs": [
    {
     "data": {
      "application/vnd.jupyter.widget-view+json": {
       "model_id": "3965ac6a839146d096633d96ce72e494",
       "version_major": 2,
       "version_minor": 0
      },
      "text/plain": [
       "Accordion(children=(Tab(children=(VBox(children=(VBox(children=(HTML(value='<b>Pick a date:</b>'), DateBox(chi…"
      ]
     },
     "execution_count": 1,
     "metadata": {},
     "output_type": "execute_result"
    }
   ],
   "source": [
    "from coastseg.settings_UI import Settings_UI\n",
    "import ipywidgets\n",
    "\n",
    "instructions = \"Sand color on beach for model to detect 'dark' (grey/black) 'bright' (white)\"\n",
    "widget = ipywidgets.Dropdown(\n",
    "            options=[\"default\", \"latest\", \"dark\", \"bright\"],\n",
    "            value=\"default\",\n",
    "            description=\"sand_color :\",\n",
    "            disabled=False,\n",
    "        )\n",
    "\n",
    "satellite_selection = ipywidgets.SelectMultiple(\n",
    "            options=[\"L5\", \"L7\", \"L8\", \"L9\", \"S2\"],\n",
    "            value=[\"L8\"],\n",
    "            description=\"Satellites\",\n",
    "            disabled=False,\n",
    "        )\n",
    "\n",
    "image_size_filter_checkbox = ipywidgets.Checkbox(\n",
    "            value=True, \n",
    "            description=\"Enable Image Size Filter\",\n",
    "            indent=False,  # To align the description with the label\n",
    "        )\n",
    "\n",
    "cloud_mask_issue=ipywidgets.ToggleButtons(\n",
    "            options=[\"False\", \"True\"],\n",
    "            description=\" Switch to True if sand pixels are masked (in black) on many images\",\n",
    "            disabled=False,\n",
    "            button_style=\"\",\n",
    "            tooltips=[\n",
    "                \"No cloud mask issue\",\n",
    "                \"Fix cloud masking\",\n",
    "            ],\n",
    "        )\n",
    "\n",
    "basic_settings = [\n",
    "                \"dates\",\n",
    "                \"max_dist_ref\",\n",
    "                \"min_length_sl\",\n",
    "                \"min_beach_area\",\n",
    "                \"dist_clouds\",\n",
    "                \"apply_cloud_mask\",\n",
    "                \"cloud_thresh\",\n",
    "                \"percent_no_data\",\n",
    "            ]\n",
    "\n",
    "settings_dashboard=Settings_UI(basic_settings)\n",
    "settings_dashboard.add_custom_widget(widget,'sand_color','Select Sand Color',instructions,advanced=True,index=0)\n",
    "settings_dashboard.add_custom_widget(cloud_mask_issue,\"cloud_mask_issue\",'Cloud Mask Issue',\"Switch to True if sand pixels are masked (in black) on many images\",advanced=True,index=-1)\n",
    "\n",
    "settings_dashboard.add_custom_widget(satellite_selection,'sat_list','Select Satellites',\"Pick multiple satellites by holding the control key\",advanced=False,index=1)\n",
    "settings_dashboard.add_custom_widget(image_size_filter_checkbox,\"image_size_filter\",'Image Size Filter',\"Activate to filter out images that are smaller than 60% of the Region of Interest (ROI).\",advanced=False,index=-1)\n",
    "settings_dashboard.render()"
   ]
  },
  {
   "cell_type": "code",
   "execution_count": 2,
   "metadata": {},
   "outputs": [],
   "source": [
    "basic_settings = [\n",
    "        \"dates\",\n",
    "        \"max_dist_ref\",\n",
    "        \"min_length_sl\",\n",
    "        \"min_beach_area\",\n",
    "        \"dist_clouds\",\n",
    "        \"apply_cloud_mask\",\n",
    "        \"cloud_thresh\",\n",
    "        \"percent_no_data\",\n",
    "    ]\n",
    "\n",
    "settings_dashboard = Settings_UI(basic_settings)\n",
    "\n",
    "settings = {\n",
    "    \"dates\": [\"2022-01-01\", \"2022-01-02\"],\n",
    "    \"max_dist_ref\": 30,\n",
    "    \"apply_cloud_mask\": True,  # custom widget added with add_custom_widget\n",
    "    \"cloud_thresh\": 0.8,\n",
    "    \"image_size_filter\": \"False\",\n",
    "    \"sand_color\": \"dark\",  # custom widget added with add_custom_widget\n",
    "    \"sat_list\": [\"L9\", \"S2\"],  # custom widget added with add_custom_widget\n",
    "    \"cloud_mask_issue\": \"True\",  # custom widget added with add_custom_widget\n",
    "}\n",
    "instructions = (\n",
    "    \"Sand color on beach for model to detect 'dark' (grey/black) 'bright' (white)\"\n",
    ")\n",
    "sand_widget = ipywidgets.Dropdown(\n",
    "    options=[\"default\", \"latest\", \"dark\", \"bright\"],\n",
    "    value=\"default\",\n",
    "    description=\"sand_color :\",\n",
    "    disabled=False,\n",
    ")\n",
    "settings_dashboard.add_custom_widget(\n",
    "    sand_widget,\n",
    "    \"sand_color\",\n",
    "    \"Select Sand Color\",\n",
    "    instructions,\n",
    "    advanced=True,\n",
    "    index=0,\n",
    ")\n",
    "satellite_selection = ipywidgets.SelectMultiple(\n",
    "    options=[\"L5\", \"L7\", \"L8\", \"L9\", \"S2\"],\n",
    "    value=[\"L8\"],\n",
    "    description=\"Satellites\",\n",
    "    disabled=False,\n",
    ")\n",
    "cloud_mask_issue = ipywidgets.ToggleButtons(\n",
    "    options=[\"False\", \"True\"],\n",
    "    description=\" Switch to True if sand pixels are masked (in black) on many images\",\n",
    "    disabled=False,\n",
    "    button_style=\"\",\n",
    "    tooltips=[\n",
    "        \"No cloud mask issue\",\n",
    "        \"Fix cloud masking\",\n",
    "    ],\n",
    ")\n",
    "settings_dashboard.add_custom_widget(\n",
    "    cloud_mask_issue,\n",
    "    \"cloud_mask_issue\",\n",
    "    \"Cloud Mask Issue\",\n",
    "    \"Switch to True if sand pixels are masked (in black) on many images\",\n",
    "    advanced=True,\n",
    "    index=-1,\n",
    ")\n",
    "settings_dashboard.add_custom_widget(\n",
    "    satellite_selection,\n",
    "    \"sat_list\",\n",
    "    \"Select Satellites\",\n",
    "    \"Pick multiple satellites by holding the control key\",\n",
    "    advanced=False,\n",
    "    index=1,\n",
    ")\n",
    "# add a custom widget which only accepts bools\n",
    "image_size_filter_checkbox = ipywidgets.Checkbox(\n",
    "    value=True,\n",
    "    description=\"Enable Image Size Filter\",\n",
    "    indent=False,  # To align the description with the label\n",
    ")\n",
    "settings_dashboard.add_custom_widget(\n",
    "    image_size_filter_checkbox,\n",
    "    \"image_size_filter\",\n",
    "    \"Image Size Filter\",\n",
    "    \"Activate to filter out images that are smaller than 60% of the Region of Interest (ROI).\",\n",
    "    advanced=False,\n",
    "    index=-1,\n",
    ")\n",
    "\n",
    "\n",
    "# settings_dashboard.set_settings(settings)\n"
   ]
  },
  {
   "cell_type": "code",
   "execution_count": 3,
   "metadata": {},
   "outputs": [
    {
     "data": {
      "text/plain": [
       "{'dates': ['2022-01-01', '2022-01-02'],\n",
       " 'max_dist_ref': 30,\n",
       " 'apply_cloud_mask': True,\n",
       " 'cloud_thresh': 0.8,\n",
       " 'image_size_filter': 'False',\n",
       " 'sand_color': 'dark',\n",
       " 'sat_list': ['L9', 'S2'],\n",
       " 'cloud_mask_issue': 'True'}"
      ]
     },
     "execution_count": 3,
     "metadata": {},
     "output_type": "execute_result"
    }
   ],
   "source": [
    "settings"
   ]
  },
  {
   "cell_type": "code",
   "execution_count": 4,
   "metadata": {},
   "outputs": [],
   "source": [
    "settings_dashboard.set_settings(settings)"
   ]
  },
  {
   "cell_type": "code",
   "execution_count": 5,
   "metadata": {},
   "outputs": [
    {
     "data": {
      "text/plain": [
       "{'dates': ['2022-01-01', '2022-01-02'],\n",
       " 'max_dist_ref': 30,\n",
       " 'min_length_sl': 500,\n",
       " 'min_beach_area': 10,\n",
       " 'dist_clouds': 300,\n",
       " 'apply_cloud_mask': True,\n",
       " 'cloud_thresh': 0.8,\n",
       " 'percent_no_data': 50.0,\n",
       " 'along_dist': 25,\n",
       " 'min_points': 3,\n",
       " 'max_std': 15.0,\n",
       " 'max_range': 30.0,\n",
       " 'min_chainage': -100.0,\n",
       " 'multiple_inter': 'auto',\n",
       " 'prc_multiple': 0.1,\n",
       " 'sand_color': 'dark',\n",
       " 'cloud_mask_issue': True,\n",
       " 'sat_list': ['L9', 'S2'],\n",
       " 'image_size_filter': False}"
      ]
     },
     "execution_count": 5,
     "metadata": {},
     "output_type": "execute_result"
    }
   ],
   "source": [
    "settings_dashboard.get_settings()"
   ]
  },
  {
   "cell_type": "code",
   "execution_count": null,
   "metadata": {},
   "outputs": [],
   "source": [
    "settings_dashboard.set_settings()"
   ]
  },
  {
   "cell_type": "code",
   "execution_count": null,
   "metadata": {},
   "outputs": [],
   "source": [
    "# the keys returned by get_settings() are the same as the keys in settings_widgets attribute\n",
    "settings_dashboard.settings_widgets.keys() == settings_dashboard.get_settings().keys()"
   ]
  },
  {
   "cell_type": "code",
   "execution_count": null,
   "metadata": {},
   "outputs": [],
   "source": [
    "# the keys for the custom widgets are in the settings_widgets attribute\n",
    "print('sat_list' in settings_dashboard.settings_widgets.keys())\n",
    "print('sand_dropbox' in settings_dashboard.settings_widgets.keys())\n"
   ]
  },
  {
   "cell_type": "code",
   "execution_count": null,
   "metadata": {},
   "outputs": [],
   "source": [
    "from coastseg import coastseg_map\n",
    "coastsegmap=coastseg_map.CoastSeg_Map()\n",
    "coastsegmap"
   ]
  },
  {
   "cell_type": "code",
   "execution_count": null,
   "metadata": {},
   "outputs": [],
   "source": [
    "settings = coastsegmap.settings\n",
    "settings['image_size_filter']='False'\n",
    "settings"
   ]
  },
  {
   "cell_type": "code",
   "execution_count": null,
   "metadata": {},
   "outputs": [],
   "source": [
    "# settings_dashboard.set_settings(**settings)"
   ]
  },
  {
   "cell_type": "code",
   "execution_count": null,
   "metadata": {},
   "outputs": [],
   "source": [
    "def str_to_bool(var: str) -> bool:\n",
    "    return var.lower().strip() == \"true\""
   ]
  },
  {
   "cell_type": "code",
   "execution_count": null,
   "metadata": {},
   "outputs": [],
   "source": [
    "str_to_bool('TRue ')"
   ]
  },
  {
   "cell_type": "code",
   "execution_count": null,
   "metadata": {},
   "outputs": [],
   "source": [
    "from coastseg.settings_UI import convert_date,DateBox\n",
    "for setting_name, widget in settings_dashboard.settings_widgets.items():\n",
    "    print(setting_name)\n",
    "    print(type(widget.value))\n",
    "    if setting_name in settings:\n",
    "        if isinstance(widget,DateBox):\n",
    "            widget.value=list(map(convert_date,settings[\"dates\"]))\n",
    "        elif isinstance(widget.value,str):\n",
    "            widget.value = str(settings[setting_name])\n",
    "        elif isinstance(widget.value,bool):\n",
    "            widget.value = bool(settings[setting_name])\n",
    "        else:\n",
    "            widget.value = settings[setting_name]"
   ]
  },
  {
   "cell_type": "code",
   "execution_count": null,
   "metadata": {},
   "outputs": [],
   "source": [
    "settings_dashboard.get_settings()"
   ]
  },
  {
   "cell_type": "code",
   "execution_count": null,
   "metadata": {},
   "outputs": [],
   "source": [
    "settings_dashboard.get_settings()"
   ]
  },
  {
   "cell_type": "code",
   "execution_count": null,
   "metadata": {},
   "outputs": [],
   "source": [
    "settings"
   ]
  },
  {
   "cell_type": "code",
   "execution_count": null,
   "metadata": {},
   "outputs": [],
   "source": [
    "settings_dashboard.settings_widgets['sat_list'].value=['L5', 'L7', 'L8', 'L9', 'S2']"
   ]
  },
  {
   "cell_type": "code",
   "execution_count": null,
   "metadata": {},
   "outputs": [],
   "source": [
    "settings_dashboard.settings_widgets['sat_list']"
   ]
  },
  {
   "cell_type": "code",
   "execution_count": null,
   "metadata": {},
   "outputs": [],
   "source": [
    "start_date_str, end_date_str = settings[\"dates\"]\n",
    "start_date_str, end_date_str"
   ]
  },
  {
   "cell_type": "code",
   "execution_count": null,
   "metadata": {},
   "outputs": [],
   "source": [
    "from coastseg.settings_UI import convert_date\n",
    "settings_dashboard.settings_widgets['dates'].options=list(map(convert_date,settings[\"dates\"]))"
   ]
  },
  {
   "cell_type": "code",
   "execution_count": null,
   "metadata": {},
   "outputs": [],
   "source": [
    "settings_dashboard.settings_widgets['dates'].value"
   ]
  },
  {
   "cell_type": "code",
   "execution_count": null,
   "metadata": {},
   "outputs": [],
   "source": [
    "from coastseg.settings_UI import convert_date\n",
    "\n",
    "start_date= convert_date(start_date_str)\n",
    "end_date= convert_date(end_date_str)\n",
    "start_date, end_date"
   ]
  },
  {
   "cell_type": "code",
   "execution_count": null,
   "metadata": {},
   "outputs": [],
   "source": [
    "settings_dashboard.settings_widgets['dates'].options = [start_date, end_date]"
   ]
  },
  {
   "cell_type": "code",
   "execution_count": null,
   "metadata": {},
   "outputs": [],
   "source": [
    "settings_dashboard.settings_widgets['dates'].value"
   ]
  },
  {
   "cell_type": "code",
   "execution_count": null,
   "metadata": {},
   "outputs": [],
   "source": [
    "settings_dashboard.settings_widgets['sand_color'].value='dark'"
   ]
  },
  {
   "cell_type": "code",
   "execution_count": null,
   "metadata": {},
   "outputs": [],
   "source": [
    "settings_dashboard.settings_widgets['sand_color'].value"
   ]
  },
  {
   "cell_type": "code",
   "execution_count": null,
   "metadata": {},
   "outputs": [],
   "source": [
    "settings_dashboard.settings_widgets['sand_color']"
   ]
  },
  {
   "cell_type": "code",
   "execution_count": null,
   "metadata": {},
   "outputs": [],
   "source": [
    "settings = settings_dashboard.get_settings()\n",
    "coastsegmap.set_settings(**settings)\n",
    "coastsegmap.settings"
   ]
  },
  {
   "cell_type": "code",
   "execution_count": null,
   "metadata": {},
   "outputs": [],
   "source": [
    "# there needs to be a way to load the settings widgets from a dictionary\n",
    "# it needs to match each dictionay key to the widget name\n",
    "# and if the dictionary key is not in the widget name, the it is ignored\n"
   ]
  },
  {
   "cell_type": "code",
   "execution_count": null,
   "metadata": {},
   "outputs": [],
   "source": []
  },
  {
   "cell_type": "code",
   "execution_count": null,
   "metadata": {},
   "outputs": [],
   "source": [
    "settings_dashboard.render()"
   ]
  },
  {
   "cell_type": "code",
   "execution_count": null,
   "metadata": {},
   "outputs": [],
   "source": [
    "settings_dashboard.settings_widgets['max_dist_ref']"
   ]
  },
  {
   "cell_type": "code",
   "execution_count": null,
   "metadata": {},
   "outputs": [],
   "source": [
    "settings_dashboard.advanced_settings.insert(0, 'sand_dropbox')"
   ]
  },
  {
   "cell_type": "code",
   "execution_count": null,
   "metadata": {},
   "outputs": [],
   "source": [
    "settings_dashboard.advanced_settings"
   ]
  },
  {
   "cell_type": "code",
   "execution_count": null,
   "metadata": {},
   "outputs": [],
   "source": [
    "settings_dashboard.settings_widgets['sand_dropbox'] = widget\n",
    "settings_dashboard.settings_widgets"
   ]
  },
  {
   "cell_type": "code",
   "execution_count": null,
   "metadata": {},
   "outputs": [],
   "source": [
    "index=0\n",
    "settings_dashboard.advanced_settings_tab.children = (\n",
    "                    settings_dashboard.advanced_settings_tab.children[:index]\n",
    "                    + (ipywidgets.HTML(value=f\"<b>{instructions}\"),)\n",
    "                    + settings_dashboard.advanced_settings_tab.children[index:]\n",
    "                )"
   ]
  },
  {
   "cell_type": "code",
   "execution_count": null,
   "metadata": {},
   "outputs": [],
   "source": [
    "settings_dashboard.render()"
   ]
  },
  {
   "cell_type": "code",
   "execution_count": null,
   "metadata": {},
   "outputs": [],
   "source": [
    "if instructions is not None:\n",
    "    self.advanced_settings_tab.children = (\n",
    "        self.advanced_settings_tab.children[:index]\n",
    "        + (ipywidgets.HTML(value=f\"<b>{instructions}\"),)\n",
    "        + self.advanced_settings_tab.children[index:]\n",
    "    )"
   ]
  },
  {
   "cell_type": "code",
   "execution_count": null,
   "metadata": {},
   "outputs": [],
   "source": [
    "settings_dashboard.add_custom_widget(widget,instructions,advanced=True,index=0)"
   ]
  },
  {
   "cell_type": "code",
   "execution_count": null,
   "metadata": {},
   "outputs": [],
   "source": [
    "import ipywidgets as widgets\n",
    "\n",
    "widgets.ToggleButtons("
   ]
  },
  {
   "cell_type": "code",
   "execution_count": null,
   "metadata": {},
   "outputs": [],
   "source": [
    "settings_dashboard.get_settings()"
   ]
  },
  {
   "cell_type": "code",
   "execution_count": null,
   "metadata": {},
   "outputs": [],
   "source": [
    "from coastseg.settings_UI_old import Settings_UI\n",
    "\n",
    "\n",
    "settings_dashboard=Settings_UI()\n",
    "settings_dashboard.render()"
   ]
  },
  {
   "cell_type": "code",
   "execution_count": null,
   "metadata": {},
   "outputs": [],
   "source": [
    "from coastseg.settings_UI_old import Settings_UI\n",
    "\n",
    "\n",
    "settings_dashboard=Settings_UI()\n",
    "settings_dashboard.render()"
   ]
  }
 ],
 "metadata": {
  "kernelspec": {
   "display_name": "coastseg_transformers10",
   "language": "python",
   "name": "python3"
  },
  "language_info": {
   "codemirror_mode": {
    "name": "ipython",
    "version": 3
   },
   "file_extension": ".py",
   "mimetype": "text/x-python",
   "name": "python",
   "nbconvert_exporter": "python",
   "pygments_lexer": "ipython3",
   "version": "3.10.12"
  }
 },
 "nbformat": 4,
 "nbformat_minor": 2
}
