{
 "cells": [
  {
   "cell_type": "code",
   "execution_count": 1,
   "metadata": {},
   "outputs": [
    {
     "data": {
      "application/vnd.jupyter.widget-view+json": {
       "model_id": "1d4aae553bee47f48c104633dc5f18ea",
       "version_major": 2,
       "version_minor": 0
      },
      "text/plain": [
       "Accordion(children=(Tab(children=(VBox(children=(VBox(children=(HTML(value='<b>Pick a date:</b>'), DateBox(chi…"
      ]
     },
     "execution_count": 1,
     "metadata": {},
     "output_type": "execute_result"
    }
   ],
   "source": [
    "from coastseg.settings_UI import Settings_UI\n",
    "import ipywidgets\n",
    "\n",
    "instructions = \"Sand color on beach for model to detect 'dark' (grey/black) 'bright' (white)\"\n",
    "widget = ipywidgets.Dropdown(\n",
    "            options=[\"default\", \"latest\", \"dark\", \"bright\"],\n",
    "            value=\"default\",\n",
    "            description=\"sand_color :\",\n",
    "            disabled=False,\n",
    "        )\n",
    "\n",
    "basic_settings = [\n",
    "                \"dates\",\n",
    "                \"max_dist_ref\",\n",
    "                \"min_length_sl\",\n",
    "                \"min_beach_area\",\n",
    "                \"dist_clouds\",\n",
    "                \"apply_cloud_mask\",\n",
    "                \"cloud_thresh\",\n",
    "                \"percent_no_data\",\n",
    "            ]\n",
    "\n",
    "settings_dashboard=Settings_UI(basic_settings)\n",
    "settings_dashboard.add_custom_widget(widget,'sand_dropbox','Select Sand Color',instructions,advanced=True,index=0)\n",
    "\n",
    "settings_dashboard.render()"
   ]
  },
  {
   "cell_type": "code",
   "execution_count": 3,
   "metadata": {},
   "outputs": [],
   "source": [
    "settings_dashboard.add_custom_widget(widget,'sand_dropbox',None,instructions,advanced=True,index=0)\n"
   ]
  },
  {
   "cell_type": "code",
   "execution_count": 3,
   "metadata": {},
   "outputs": [
    {
     "data": {
      "text/plain": [
       "{'dates': ['2018-12-29', '2019-03-01'],\n",
       " 'max_dist_ref': 10,\n",
       " 'min_length_sl': 10,\n",
       " 'min_beach_area': 10,\n",
       " 'dist_clouds': 300,\n",
       " 'apply_cloud_mask': 'True',\n",
       " 'cloud_thresh': 10,\n",
       " 'percent_no_data': 10.0,\n",
       " 'min_points': 10,\n",
       " 'max_std': 10,\n",
       " 'along_dist': 10,\n",
       " 'max_range': 10,\n",
       " 'min_chainage': 10,\n",
       " 'multiple_inter': True,\n",
       " 'prc_multiple': 10.0,\n",
       " 'sand_dropbox': 'default'}"
      ]
     },
     "execution_count": 3,
     "metadata": {},
     "output_type": "execute_result"
    }
   ],
   "source": [
    "settings_dashboard.get_settings()"
   ]
  },
  {
   "cell_type": "code",
   "execution_count": null,
   "metadata": {},
   "outputs": [],
   "source": [
    "import ipywidgets\n",
    "\n",
    "instructions = \"Sand color on beach for model to detect 'dark' (grey/black) 'bright' (white)\"\n",
    "widget = ipywidgets.Dropdown(\n",
    "            options=[\"default\", \"latest\", \"dark\", \"bright\"],\n",
    "            value=\"default\",\n",
    "            description=\"sand_color :\",\n",
    "            disabled=False,\n",
    "        )"
   ]
  },
  {
   "cell_type": "code",
   "execution_count": null,
   "metadata": {},
   "outputs": [],
   "source": [
    "settings_dashboard.add_custom_widget(widget,instructions,advanced=True,index=0)"
   ]
  },
  {
   "cell_type": "code",
   "execution_count": null,
   "metadata": {},
   "outputs": [],
   "source": [
    "settings_dashboard.render()"
   ]
  },
  {
   "cell_type": "code",
   "execution_count": null,
   "metadata": {},
   "outputs": [],
   "source": [
    "settings_dashboard.settings_widgets"
   ]
  },
  {
   "cell_type": "code",
   "execution_count": null,
   "metadata": {},
   "outputs": [],
   "source": [
    "settings_dashboard.advanced_settings.insert(0, 'sand_dropbox')"
   ]
  },
  {
   "cell_type": "code",
   "execution_count": null,
   "metadata": {},
   "outputs": [],
   "source": [
    "settings_dashboard.advanced_settings"
   ]
  },
  {
   "cell_type": "code",
   "execution_count": null,
   "metadata": {},
   "outputs": [],
   "source": [
    "settings_dashboard.settings_widgets['sand_dropbox'] = widget\n",
    "settings_dashboard.settings_widgets"
   ]
  },
  {
   "cell_type": "code",
   "execution_count": null,
   "metadata": {},
   "outputs": [],
   "source": [
    "index=0\n",
    "settings_dashboard.advanced_settings_tab.children = (\n",
    "                    settings_dashboard.advanced_settings_tab.children[:index]\n",
    "                    + (ipywidgets.HTML(value=f\"<b>{instructions}\"),)\n",
    "                    + settings_dashboard.advanced_settings_tab.children[index:]\n",
    "                )"
   ]
  },
  {
   "cell_type": "code",
   "execution_count": null,
   "metadata": {},
   "outputs": [],
   "source": [
    "settings_dashboard.advanced_settings_tab"
   ]
  },
  {
   "cell_type": "code",
   "execution_count": null,
   "metadata": {},
   "outputs": [],
   "source": [
    "settings_dashboard.render()"
   ]
  },
  {
   "cell_type": "code",
   "execution_count": null,
   "metadata": {},
   "outputs": [],
   "source": [
    "\n",
    "            if instructions is not None:\n",
    "                self.advanced_settings_tab.children = (\n",
    "                    self.advanced_settings_tab.children[:index]\n",
    "                    + (ipywidgets.HTML(value=f\"<b>{instructions}\"),)\n",
    "                    + self.advanced_settings_tab.children[index:]\n",
    "                )"
   ]
  },
  {
   "cell_type": "code",
   "execution_count": null,
   "metadata": {},
   "outputs": [],
   "source": [
    "settings_dashboard.add_custom_widget(widget,instructions,advanced=True,index=0)"
   ]
  },
  {
   "cell_type": "code",
   "execution_count": null,
   "metadata": {},
   "outputs": [],
   "source": [
    "    def get_sand_dropbox(self):\n",
    "        sand_color_instr = HTML(\n",
    "            value=\"<b>Sand Color</b>\\\n",
    "            </br>- Sand color on beach for model to detect 'dark' (grey/black) 'bright' (white)</b>\"\n",
    "        )\n",
    "        self.sand_dropdown = ipywidgets.Dropdown(\n",
    "            options=[\"default\", \"latest\", \"dark\", \"bright\"],\n",
    "            value=\"default\",\n",
    "            description=\"sand_color :\",\n",
    "            disabled=False,\n",
    "        )\n",
    "        return VBox([sand_color_instr, self.sand_dropdown])"
   ]
  },
  {
   "cell_type": "code",
   "execution_count": null,
   "metadata": {},
   "outputs": [],
   "source": [
    "import ipywidgets as widgets\n",
    "\n",
    "widgets.ToggleButtons("
   ]
  },
  {
   "cell_type": "code",
   "execution_count": null,
   "metadata": {},
   "outputs": [],
   "source": [
    "settings_dashboard.get_settings()"
   ]
  },
  {
   "cell_type": "code",
   "execution_count": null,
   "metadata": {},
   "outputs": [],
   "source": [
    "from coastseg.settings_UI_old import Settings_UI\n",
    "\n",
    "\n",
    "settings_dashboard=Settings_UI()\n",
    "settings_dashboard.render()"
   ]
  },
  {
   "cell_type": "code",
   "execution_count": null,
   "metadata": {},
   "outputs": [],
   "source": [
    "from coastseg.settings_UI_old import Settings_UI\n",
    "\n",
    "\n",
    "settings_dashboard=Settings_UI()\n",
    "settings_dashboard.render()"
   ]
  }
 ],
 "metadata": {
  "kernelspec": {
   "display_name": "coastseg_transformers10",
   "language": "python",
   "name": "python3"
  },
  "language_info": {
   "codemirror_mode": {
    "name": "ipython",
    "version": 3
   },
   "file_extension": ".py",
   "mimetype": "text/x-python",
   "name": "python",
   "nbconvert_exporter": "python",
   "pygments_lexer": "ipython3",
   "version": "3.10.12"
  }
 },
 "nbformat": 4,
 "nbformat_minor": 2
}
