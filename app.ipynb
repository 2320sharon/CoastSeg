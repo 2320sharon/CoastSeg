{
 "cells": [
  {
   "cell_type": "markdown",
   "metadata": {},
   "source": [
    "## Prototype 8\n",
    "----\n",
    "## New Features\n",
    "1. Package Structure similar to CoastSat\n",
    "2. New ROI generation algorithm\n",
    "3. ROIs will have their percent overlap written to a csv_file\n",
    "4. Inputs will be saved to a file"
   ]
  },
  {
   "cell_type": "code",
   "execution_count": 1,
   "metadata": {},
   "outputs": [
    {
     "name": "stderr",
     "output_type": "stream",
     "text": [
      "Can't load requested DLL: C:\\Program Files\\GDAL\\gdalplugins\\gdal_KEA.dll\n",
      "127: The specified procedure could not be found.\n",
      "\n",
      "Can't load requested DLL: C:\\Program Files\\GDAL\\gdalplugins\\gdal_KEA.dll\n",
      "127: The specified procedure could not be found.\n",
      "\n",
      "Can't load requested DLL: C:\\Program Files\\GDAL\\gdalplugins\\gdal_KEA.dll\n",
      "127: The specified procedure could not be found.\n",
      "\n",
      "Can't load requested DLL: C:\\Program Files\\GDAL\\gdalplugins\\gdal_KEA.dll\n",
      "127: The specified procedure could not be found.\n",
      "\n"
     ]
    }
   ],
   "source": [
    "# Internal Imports\n",
    "import warnings\n",
    "from ipywidgets import HTML\n",
    "from ipyleaflet import Marker, Popup\n",
    "warnings.filterwarnings(\"ignore\")\n",
    "\n",
    "# External Imports\n",
    "from ipywidgets import Layout\n",
    "from ipyleaflet import DrawControl, GeoJSON\n",
    "import leafmap\n",
    "import os\n",
    "\n",
    "# Local Imports \n",
    "from CoastSeg import download_roi\n",
    "from CoastSeg import bbox\n",
    "from CoastSeg import make_overlapping_roi"
   ]
  },
  {
   "cell_type": "code",
   "execution_count": 2,
   "metadata": {},
   "outputs": [],
   "source": [
    "# Map Variables\n",
    "# ---------------\n",
    "center_point = ( 36, -121.5)\n",
    "zoom = 13\n",
    "ROI_SIZE = 0.008\n",
    "\n",
    "map_settings={\n",
    "\"center_point\": center_point,\n",
    "\"zoom\":zoom,\n",
    " \"draw_control\":False,\n",
    " \"measure_control\":False, \n",
    " \"fullscreen_control\":False, \n",
    " \"attribution_control\":True,\n",
    " \"Layout\":Layout(width='100%', height='100px')\n",
    "}\n",
    "\n",
    "# CoastSat Download Variables\n",
    "# ------------------------------\n",
    "dates = ['2018-12-01', '2019-01-01']\n",
    "sat_list = ['S2','L7','L8']\n",
    "# choose Landsat collection 'C01' or 'C02'\n",
    "collection = 'C01'\n",
    "\n",
    "pre_process_settings = { \n",
    "    # general parameters:\n",
    "    'cloud_thresh': 0.5,        # threshold on maximum cloud cover\n",
    "    'output_epsg': 3857,        # epsg code of spatial reference system desired for the output   \n",
    "    # quality control:\n",
    "    'check_detection': True,    # if True, shows each shoreline detection to the user for validation\n",
    "    'adjust_detection': False,  # if True, allows user to adjust the postion of each shoreline by changing the threhold\n",
    "    'save_figure': True,        # if True, saves a figure showing the mapped shoreline for each image\n",
    "    # [ONLY FOR ADVANCED USERS] shoreline detection parameters:\n",
    "    'min_beach_area': 4500,     # minimum area (in metres^2) for an object to be labelled as a beach\n",
    "    'buffer_size': 150,         # radius (in metres) of the buffer around sandy pixels considered in the shoreline detection\n",
    "    'min_length_sl': 200,       # minimum length (in metres) of shoreline perimeter to be valid\n",
    "    'cloud_mask_issue': False,  # switch this parameter to True if sand pixels are masked (in black) on many images  \n",
    "    'sand_color': 'default',    # 'default', 'dark' (for grey/black sand beaches) or 'bright' (for white sand beaches)\n",
    "}\n",
    "\n",
    "# Filenames to Store Data\n",
    "# --------------------------\n",
    "roi_filename = \"official_roi.geojson\"\n",
    "csv_filename='overlap.csv'\n",
    "selected_roi_file=\"selected_roi.geojson\"\n",
    "shoreline_file=os.getcwd()+os.sep+\"third_party_data\"+os.sep+\"stanford-xv279yj9196-geojson.json\"\n",
    "inputs_filename=\"inputs.json\""
   ]
  },
  {
   "cell_type": "markdown",
   "metadata": {},
   "source": [
    "# Create the Map and Draw a Bounding Box"
   ]
  },
  {
   "cell_type": "code",
   "execution_count": 3,
   "metadata": {},
   "outputs": [
    {
     "data": {
      "application/vnd.jupyter.widget-view+json": {
       "model_id": "3b8fe7385a6e401b941de5b8d5535a39",
       "version_major": 2,
       "version_minor": 0
      },
      "text/plain": [
       "Map(center=[36, -121.5], controls=(ZoomControl(options=['position', 'zoom_in_text', 'zoom_in_title', 'zoom_out…"
      ]
     },
     "metadata": {},
     "output_type": "display_data"
    }
   ],
   "source": [
    "# Empty list to hold all the polygons drawn by the user\n",
    "shapes_list=[]\n",
    "\n",
    "# Disable polyline, circle, and rectangle \n",
    "m = leafmap.Map(draw_control=map_settings[\"draw_control\"],\n",
    "                measure_control=map_settings[\"measure_control\"],\n",
    "                fullscreen_control=map_settings[\"fullscreen_control\"],\n",
    "                attribution_control=map_settings[\"attribution_control\"],\n",
    "                center=map_settings[\"center_point\"],\n",
    "                zoom=map_settings[\"zoom\"],\n",
    "                layout=map_settings[\"Layout\"])\n",
    "\n",
    "draw_control = DrawControl()\n",
    "\n",
    "draw_control.polyline = {}\n",
    "draw_control.circlemarker = {}\n",
    "# Custom styles for polygons and rectangles\n",
    "draw_control.polygon = {\n",
    "    \"shapeOptions\": {\n",
    "        \"fillColor\": \"green\",\n",
    "        \"color\": \"green\",\n",
    "        \"fillOpacity\": 0.2,\n",
    "        \"Opacity\": 0.2\n",
    "    },\n",
    "    \"drawError\": {\n",
    "        \"color\": \"#dd253b\",\n",
    "        \"message\": \"Ops!\"\n",
    "    },\n",
    "    \"allowIntersection\": False,\n",
    "    \"transform\":True\n",
    "}\n",
    "\n",
    "draw_control = DrawControl()\n",
    "draw_control.rectangle = {\n",
    "    \"shapeOptions\": {\n",
    "        \"fillColor\": \"green\",\n",
    "        \"color\": \"green\",\n",
    "        \"fillOpacity\": 0.1,\n",
    "        \"Opacity\": 0.1\n",
    "    },\n",
    "    \"drawError\": {\n",
    "        \"color\": \"#dd253b\",\n",
    "        \"message\": \"Ops!\"\n",
    "    },\n",
    "    \"allowIntersection\": False,\n",
    "    \"transform\":True\n",
    "}\n",
    "\n",
    "# Each time a polygon is drawn it is appended to the shapeslist which is used to create the bounding box\n",
    "def handle_draw(target, action, geo_json):\n",
    "    if draw_control.last_action == 'created'and draw_control.last_draw['geometry']['type']=='Polygon' :\n",
    "        shapes_list.append( draw_control.last_draw['geometry'])\n",
    "    if draw_control.last_action == 'deleted':\n",
    "        shapes_list.pop()\n",
    "\n",
    "draw_control.on_draw(handle_draw)\n",
    "m.add_control(draw_control)\n",
    "\n",
    "m\n"
   ]
  },
  {
   "cell_type": "markdown",
   "metadata": {
    "tags": []
   },
   "source": [
    "# Generate the ROIs in the Bounding Box\n",
    "---\n",
    "- Depending on how big the bounding box is it may take some time\n",
    "- If you get a bouding box too large or too small error re-run the code to generate the bounding box\n",
    "\n",
    "## Didn't get enough overlapping ROIs\n",
    "1. Modify the percent overlap allowed parameter to be a smaller value than the default .65\n",
    "-  Example where percent overlap allowed = ``.55``:\n",
    "    ``overlap_btw_vectors_df=make_overlapping_roi.min_overlap_btw_vectors(roi_filename,csv_filename,.55)``\n",
    "2. Comment out line: ``overlap_btw_vectors_df=make_overlapping_roi.min_overlap_btw_vectors(roi_filename,csv_filename,.65)``\n",
    "to use the default method of generating overlap between ROIs. This may result in excessive overlap between rois and issues with too many rois clustering in one location."
   ]
  },
  {
   "cell_type": "code",
   "execution_count": 4,
   "metadata": {},
   "outputs": [
    {
     "data": {
      "application/vnd.jupyter.widget-view+json": {
       "model_id": "7089d12e696048169baef5b3762eeb5b",
       "version_major": 2,
       "version_minor": 0
      },
      "text/plain": [
       "Calculating Overlap:   0%|          | 0/1 [00:00<?, ?it/s]"
      ]
     },
     "metadata": {},
     "output_type": "display_data"
    },
    {
     "data": {
      "application/vnd.jupyter.widget-view+json": {
       "model_id": "126b5b739bde4a7fa1cb8dbd9f7d70b0",
       "version_major": 2,
       "version_minor": 0
      },
      "text/plain": [
       "Removing ROI with Excessive Overlap:   0%|          | 0/5 [00:00<?, ?it/s]"
      ]
     },
     "metadata": {},
     "output_type": "display_data"
    }
   ],
   "source": [
    "if __name__ == \"__main__\":\n",
    "    #     Make sure |your bounding box is within the allowed size\n",
    "    bbox.validate_bbox_size(shapes_list)\n",
    "#   dictionary containing geojson coastline\n",
    "    roi_coastline=bbox.get_coastline(shoreline_file,shapes_list)\n",
    "#   coastline styled for the map\n",
    "    coastline_for_map=bbox.get_coastline_for_map(roi_coastline)\n",
    "    m.add_layer(coastline_for_map)\n",
    "    \n",
    "#   Get the rois using the coastline  within th bounding box\n",
    "    geojson_polygons=make_overlapping_roi.get_ROIs(roi_coastline,roi_filename,csv_filename)\n",
    "#   Minimize the overlap between all the vectors. No ROIs overlap will exceed 65%\n",
    "#   If the ROIs do not overlap each other enough you can:\n",
    "#   1. Change the percent overlap allowed from .65 to a lower value\n",
    "#   2. Comment out the line calling min_overlap_btw_vectors\n",
    "    overlap_btw_vectors_df=make_overlapping_roi.min_overlap_btw_vectors(roi_filename,csv_filename,overlap_percent=.65)"
   ]
  },
  {
   "cell_type": "markdown",
   "metadata": {},
   "source": [
    "# Click the ROIs you want to download\n",
    "---\n",
    "- If the bounding box is in the way of selecting the roi. Click the trash can icon on the left side menu, then click the bounding box, then click save. This will delete the bounding box and allow you to click an ROI."
   ]
  },
  {
   "cell_type": "code",
   "execution_count": 5,
   "metadata": {},
   "outputs": [
    {
     "data": {
      "application/vnd.jupyter.widget-view+json": {
       "model_id": "3b8fe7385a6e401b941de5b8d5535a39",
       "version_major": 2,
       "version_minor": 0
      },
      "text/plain": [
       "Map(bottom=103327.0, center=[35.90351225650339, -121.10435485839845], controls=(ZoomControl(options=['position…"
      ]
     },
     "metadata": {},
     "output_type": "display_data"
    }
   ],
   "source": [
    "# Read the geojson for all the ROIs generated\n",
    "data=download_roi.read_geojson_file(roi_filename)\n",
    "\n",
    "# GLOBAL VARIABLES used by the map\n",
    "# --------------------\n",
    "selected_set = set()\n",
    "selected_layer = None\n",
    "# ------------------------\n",
    "\n",
    "# Add style to each feature in the geojson\n",
    "for feature in data[\"features\"]:\n",
    "    feature[\"properties\"][\"style\"] = {\n",
    "        \"color\": \"grey\",\n",
    "        \"weight\": 1,\n",
    "         \"fillColor\": \"grey\",\n",
    "        \"fillOpacity\": 0.2,\n",
    "     }\n",
    "\n",
    "def convert_selected_set_to_geojson(selected_set):\n",
    "#     Create a geojson feature collection with no features\n",
    "    geojson = {\"type\": \"FeatureCollection\", \"features\": []}\n",
    "# Iterate through all the features in the geojson data and check if its name is in the selected_set\n",
    "# if its name is then add it as a geojson feature\n",
    "    geojson[\"features\"] = [\n",
    "        feature\n",
    "        for feature in data[\"features\"]\n",
    "        if feature[\"properties\"][\"id\"] in selected_set\n",
    "    ]\n",
    " #     change the style for the selected features\n",
    "    for feature in data[\"features\"]:\n",
    "        feature[\"properties\"][\"style\"] = {\n",
    "            \"color\": \"blue\",\n",
    "            \"weight\": 2,\n",
    "             \"fillColor\": \"grey\",\n",
    "             \"fillOpacity\": 0.2,\n",
    "          }\n",
    "    return geojson\n",
    "\n",
    "# If  properties is none is means there is no name and thus nothing to add\n",
    "# This function allows for the feature to be removed from the selected portion if it is clicked again after being selected\n",
    "def selected_onclick_handler(event=None, id=None, properties=None, **args):\n",
    "    global selected_layer\n",
    "    if properties is None:\n",
    "        return\n",
    "    cid = properties[\"id\"]\n",
    "    selected_set.remove(cid)\n",
    "#     If the selected_layer is included then remove it\n",
    "    if selected_layer is not None:\n",
    "         m.remove_layer(selected_layer)\n",
    "    selected_layer = GeoJSON(\n",
    "        data=convert_selected_set_to_geojson(selected_set),\n",
    "        name=\"Selected ROIs\",\n",
    "        hover_style={\"fillColor\": \"blue\"},\n",
    "    )\n",
    "    selected_layer.on_click(selected_onclick_handler)\n",
    "    m.add_layer(selected_layer)\n",
    "\n",
    "# \n",
    "def geojson_onclick_handler(event=None, id=None, properties=None, **args):\n",
    "    \"\"\"\"When a click is registered checks if the id \"\"\"\n",
    "    global selected_layer\n",
    "#     Custom properties associated with geojson\n",
    "    if properties is None:\n",
    "           return\n",
    "    cid = properties[\"id\"]\n",
    "#     Add the id to the selected_set (unordered, no duplicates, no index)\n",
    "    selected_set.add(cid)\n",
    "#     Remove the previously selected layer from map layer\n",
    "    if selected_layer is not None:\n",
    "        m.remove_layer(selected_layer)\n",
    "# Create a new layer from the selected geojson on the map \n",
    "# call convert_selected_set_to_geojson() to style the selected geojson\n",
    "    selected_layer = GeoJSON(\n",
    "        data=convert_selected_set_to_geojson(selected_set),\n",
    "        name=\"Selected ROIs\",\n",
    "        hover_style={\"fillColor\": \"blue\"},\n",
    "    )\n",
    "# Add an on_click handler to the selected_layer\n",
    "    selected_layer.on_click(selected_onclick_handler)\n",
    "    m.add_layer(selected_layer)\n",
    "\n",
    "\n",
    "geojson_layer = GeoJSON(\n",
    "    data=data, name=\"ROIs\", hover_style={\"fillColor\": \"red\"}\n",
    "    )\n",
    "geojson_layer.on_click(geojson_onclick_handler)\n",
    "m.add_layer(geojson_layer)\n",
    "m\n"
   ]
  },
  {
   "cell_type": "markdown",
   "metadata": {},
   "source": [
    "## Get the ROIs selected by the user\n",
    "- Make sure you click at least one roi before running the following code\n",
    "1. Get the IDs of the ROI clicked by the user\n",
    "2. Download the data associated with the ROIs using CoastSat\n",
    "    - inputs_file is the json file where the input data for download imagery with CoastSat will be written to"
   ]
  },
  {
   "cell_type": "code",
   "execution_count": 6,
   "metadata": {},
   "outputs": [
    {
     "data": {
      "text/plain": [
       "{'features': [{\"geometry\": {\"coordinates\": [[[-121.530475, 35.985446], [-121.530475, 36.025446], [-121.490475, 36.025446], [-121.490475, 35.985446], [-121.530475, 35.985446]]], \"type\": \"Polygon\"}, \"properties\": {\"id\": 2}, \"type\": \"Feature\"},\n",
       "  {\"geometry\": {\"coordinates\": [[[-121.514725, 35.966677], [-121.514725, 36.006677], [-121.474725, 36.006677], [-121.474725, 35.966677], [-121.514725, 35.966677]]], \"type\": \"Polygon\"}, \"properties\": {\"id\": 4}, \"type\": \"Feature\"}]}"
      ]
     },
     "execution_count": 6,
     "metadata": {},
     "output_type": "execute_result"
    }
   ],
   "source": [
    "selected_ROI=download_roi.save_roi(roi_filename, selected_roi_file, selected_set)\n",
    "selected_ROI"
   ]
  },
  {
   "cell_type": "code",
   "execution_count": 7,
   "metadata": {},
   "outputs": [
    {
     "name": "stdout",
     "output_type": "stream",
     "text": [
      "Number of images available between 2018-12-01 and 2019-01-01:\n",
      "- In Landsat Tier 1 & Sentinel-2 Level-1C:\n",
      "     S2: 13 images\n",
      "     L7: 4 images\n",
      "     L8: 4 images\n",
      "  Total to download: 21 images\n",
      "- In Landsat Tier 2 (not suitable for time-series analysis):\n",
      "     L7: 0 images\n",
      "     L8: 2 images\n",
      "  Total Tier 2: 2 images\n",
      "Number of images available between 2018-12-01 and 2019-01-01:\n",
      "- In Landsat Tier 1 & Sentinel-2 Level-1C:\n",
      "     S2: 13 images\n",
      "     L7: 4 images\n",
      "     L8: 4 images\n",
      "  Total to download: 21 images\n",
      "- In Landsat Tier 2 (not suitable for time-series analysis):\n",
      "     L7: 0 images\n",
      "     L8: 2 images\n",
      "  Total Tier 2: 2 images\n",
      "Images available: \n",
      " [{'polygon': [[[-121.530475, 35.985446], [-121.490475, 35.985446], [-121.490475, 36.025446], [-121.530475, 36.025446], [-121.530475, 35.985446]]], 'dates': ['2018-12-01', '2019-01-01'], 'sat_list': ['S2', 'L7', 'L8'], 'sitename': 'ID02022-06-13__17_hr_20_min', 'filepath': 'c:\\\\1_USGS\\\\CoastSeg\\\\repos\\\\2_CoastSeg\\\\CoastSeg_fork\\\\Seg2Map\\\\data', 'landsat_collection': 'C01'}, {'polygon': [[[-121.514725, 35.966677], [-121.474725, 35.966677], [-121.474725, 36.006677], [-121.514725, 36.006677], [-121.514725, 35.966677]]], 'dates': ['2018-12-01', '2019-01-01'], 'sat_list': ['S2', 'L7', 'L8'], 'sitename': 'ID12022-06-13__17_hr_20_min', 'filepath': 'c:\\\\1_USGS\\\\CoastSeg\\\\repos\\\\2_CoastSeg\\\\CoastSeg_fork\\\\Seg2Map\\\\data', 'landsat_collection': 'C01'}]\n"
     ]
    },
    {
     "data": {
      "application/vnd.jupyter.widget-view+json": {
       "model_id": "bd88495e81ec4578a62cdde86ab0ef8d",
       "version_major": 2,
       "version_minor": 0
      },
      "text/plain": [
       "Downloading ROIs:   0%|          | 0/2 [00:00<?, ?it/s]"
      ]
     },
     "metadata": {},
     "output_type": "display_data"
    },
    {
     "name": "stdout",
     "output_type": "stream",
     "text": [
      "\n",
      "inputs:  {'polygon': [[[-121.530475, 35.985446], [-121.490475, 35.985446], [-121.490475, 36.025446], [-121.530475, 36.025446], [-121.530475, 35.985446]]], 'dates': ['2018-12-01', '2019-01-01'], 'sat_list': ['S2', 'L7', 'L8'], 'sitename': 'ID02022-06-13__17_hr_20_min', 'filepath': 'c:\\\\1_USGS\\\\CoastSeg\\\\repos\\\\2_CoastSeg\\\\CoastSeg_fork\\\\Seg2Map\\\\data', 'landsat_collection': 'C01'} \n",
      "\n",
      "Number of images available between 2018-12-01 and 2019-01-01:\n",
      "- In Landsat Tier 1 & Sentinel-2 Level-1C:\n",
      "     S2: 13 images\n",
      "     L7: 4 images\n",
      "     L8: 4 images\n",
      "  Total to download: 21 images\n",
      "- In Landsat Tier 2 (not suitable for time-series analysis):\n",
      "     L7: 0 images\n",
      "     L8: 2 images\n",
      "  Total Tier 2: 2 images\n",
      "\n",
      "Downloading images:\n",
      "S2: 13 images\n",
      "100%\n",
      "L7: 4 images\n",
      "100%\n",
      "L8: 4 images\n",
      "100%\n",
      "\n",
      " Called merge_overlapping_images\n",
      "\n",
      "0 out of 13 Sentinel-2 images were merged (overlapping or duplicate)\n",
      "Satellite images saved as .jpg in c:\\1_USGS\\CoastSeg\\repos\\2_CoastSeg\\CoastSeg_fork\\Seg2Map\\data\\ID02022-06-13__17_hr_20_min\\jpg_files\\preprocessed\n",
      "\n",
      "inputs:  {'polygon': [[[-121.514725, 35.966677], [-121.474725, 35.966677], [-121.474725, 36.006677], [-121.514725, 36.006677], [-121.514725, 35.966677]]], 'dates': ['2018-12-01', '2019-01-01'], 'sat_list': ['S2', 'L7', 'L8'], 'sitename': 'ID12022-06-13__17_hr_20_min', 'filepath': 'c:\\\\1_USGS\\\\CoastSeg\\\\repos\\\\2_CoastSeg\\\\CoastSeg_fork\\\\Seg2Map\\\\data', 'landsat_collection': 'C01'} \n",
      "\n",
      "Number of images available between 2018-12-01 and 2019-01-01:\n",
      "- In Landsat Tier 1 & Sentinel-2 Level-1C:\n",
      "     S2: 13 images\n",
      "     L7: 4 images\n",
      "     L8: 4 images\n",
      "  Total to download: 21 images\n",
      "- In Landsat Tier 2 (not suitable for time-series analysis):\n",
      "     L7: 0 images\n",
      "     L8: 2 images\n",
      "  Total Tier 2: 2 images\n",
      "\n",
      "Downloading images:\n",
      "S2: 13 images\n",
      "100%\n",
      "L7: 4 images\n",
      "100%\n",
      "L8: 4 images\n",
      "100%\n",
      "\n",
      " Called merge_overlapping_images\n",
      "\n",
      "0 out of 13 Sentinel-2 images were merged (overlapping or duplicate)\n",
      "Satellite images saved as .jpg in c:\\1_USGS\\CoastSeg\\repos\\2_CoastSeg\\CoastSeg_fork\\Seg2Map\\data\\ID12022-06-13__17_hr_20_min\\jpg_files\\preprocessed\n"
     ]
    }
   ],
   "source": [
    "download_roi.download_imagery(selected_ROI,pre_process_settings,dates,sat_list,collection,inputs_filename=inputs_filename)"
   ]
  },
  {
   "cell_type": "code",
   "execution_count": null,
   "metadata": {},
   "outputs": [],
   "source": []
  }
 ],
 "metadata": {
  "interpreter": {
   "hash": "9d097efbdf24db87a2507c17c632c6d564e7aff5ba5cfc04e62a44a8b3d6a20a"
  },
  "kernelspec": {
   "display_name": "Python 3.7.12 ('coastseg')",
   "language": "python",
   "name": "python3"
  },
  "language_info": {
   "codemirror_mode": {
    "name": "ipython",
    "version": 3
   },
   "file_extension": ".py",
   "mimetype": "text/x-python",
   "name": "python",
   "nbconvert_exporter": "python",
   "pygments_lexer": "ipython3",
   "version": "3.7.12"
  },
  "widgets": {
   "application/vnd.jupyter.widget-state+json": {
    "state": {},
    "version_major": 2,
    "version_minor": 0
   }
  }
 },
 "nbformat": 4,
 "nbformat_minor": 4
}
