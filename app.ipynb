{
 "cells": [
  {
   "cell_type": "code",
   "execution_count": 1,
   "metadata": {},
   "outputs": [
    {
     "name": "stdout",
     "output_type": "stream",
     "text": [
      "Version:  2.9.1\n",
      "Eager mode:  True\n",
      "Version:  2.9.1\n",
      "Eager mode:  True\n",
      "GPU name:  []\n",
      "Num GPUs Available:  0\n"
     ]
    }
   ],
   "source": [
    "import warnings\n",
    "# External Imports\n",
    "from IPython.display import display, clear_output\n",
    "from tkinter import Tk,filedialog\n",
    "# import ipywidgets as widgets\n",
    "from ipywidgets import Button, HBox, VBox, Layout, DatePicker, HTML, RadioButtons, SelectMultiple, Output, Checkbox\n",
    "import os\n",
    "import datetime\n",
    "import glob\n",
    "import json\n",
    "import pandas as pd\n",
    "import geopandas as gpd\n",
    "\n",
    "# New imports for coastsat shoreline extraction\n",
    "import numpy as np\n",
    "# Local Imports \n",
    "from CoastSeg import download_roi, file_functions, zoo_model_module, coastseg_map_class\n",
    "from CoastSeg.CoastSat.coastsat import SDS_shoreline,SDS_download\n",
    "# suppress tensorflow warnings\n",
    "os.environ['TF_CPP_MIN_LOG_LEVEL'] = '3'\n",
    "root = Tk()"
   ]
  },
  {
   "cell_type": "code",
   "execution_count": 2,
   "metadata": {},
   "outputs": [
    {
     "data": {
      "application/vnd.jupyter.widget-view+json": {
       "model_id": "74151246a3eb411ba2e9ad66e503cd69",
       "version_major": 2,
       "version_minor": 0
      },
      "text/plain": [
       "VBox(children=(VBox(children=(HTML(value='<b>Pick a date:</b>', layout=Layout(padding='10px')), HBox(children=…"
      ]
     },
     "metadata": {},
     "output_type": "display_data"
    }
   ],
   "source": [
    "# Date Widgets\n",
    "start_date=DatePicker(\n",
    "    description='Start Date',\n",
    "    value=datetime.date(2018, 12, 1),\n",
    "    disabled=False,\n",
    ")\n",
    "end_date=DatePicker(\n",
    "    description='End Date',\n",
    "    value=datetime.date(2019, 3, 1), #2019, 1, 1\n",
    "    disabled=False,\n",
    ")\n",
    "date_instr=HTML(\n",
    "    value=\"<b>Pick a date:</b>\",\n",
    "    layout=Layout(padding='10px')\n",
    ")\n",
    "dates_box=HBox([start_date,end_date])\n",
    "dates_vbox=VBox([date_instr,dates_box])\n",
    "\n",
    "\n",
    "collection_instr=HTML(\n",
    "    value=\"<b>Pick a collection</b>\\\n",
    "        <br> C01: LandSat Collection 1 \\\n",
    "        <br> C02: LandSat Collection 2  [2022/01/01 and beyond] \\\n",
    "        <br>      - Landsat 9 is only available in C02\",\n",
    "    layout=Layout(padding='10px')\n",
    ")\n",
    "collection_radio=RadioButtons(\n",
    "    options=['C01', 'C02'],\n",
    "    value='C01',\n",
    "    description='Collection:',\n",
    "    disabled=False\n",
    ")\n",
    "collection_vbox=VBox([collection_instr,collection_radio])\n",
    "\n",
    "sat_instr=HTML(\n",
    "    value=\"<b>Pick multiple satellites by holding the control key:</b> \\\n",
    "        <br> - images prior to 2022/01/01 will be downloaded from Collection 1 \\\n",
    "        <br> - images after 2022/01/01 will be automatically downloaded from Collection 2 \\\n",
    "        <br> C01: LandSat Collection 1 : All dates before 2022/01/01\\\n",
    "        <br> C02: LandSat Collection 2 : All dates after 2022/01/01 \\\n",
    "        <br> - Landsat 9 is only available in C02\",\n",
    "    layout=Layout(padding='10px')\n",
    ")\n",
    "\n",
    "\n",
    "satellite_selection=SelectMultiple(\n",
    "    options=['L5', 'L7', 'L8', 'S2'],\n",
    "    value=['L8'],\n",
    "    description='Satellites',\n",
    "    disabled=False\n",
    ")\n",
    "sat_vbox = VBox([sat_instr,satellite_selection])\n",
    "\n",
    "def handle_collection_change(change):\n",
    "    if change['new'] == 'C02':\n",
    "        satellite_selection.options=['L5', 'L7', 'L8', 'L9', 'S2']\n",
    "    else:\n",
    "        satellite_selection.options=['L5', 'L7', 'L8', 'S2']\n",
    "\n",
    "collection_radio.observe(handle_collection_change,\"value\")\n",
    "\n",
    "controls_vbox=VBox([dates_vbox, collection_vbox, sat_vbox])\n",
    "controls_vbox"
   ]
  },
  {
   "cell_type": "code",
   "execution_count": 3,
   "metadata": {
    "scrolled": true
   },
   "outputs": [
    {
     "name": "stdout",
     "output_type": "stream",
     "text": [
      "dates: ['2018-12-01', '2019-03-01']\n",
      "collection: C01\n",
      "sat_list: ['L8']\n"
     ]
    }
   ],
   "source": [
    "# CoastSat Download Variables\n",
    "# ------------------------------\n",
    "# Save the satellites selected to sat_list\n",
    "if satellite_selection.value:\n",
    "    sat_list = list(satellite_selection.value)\n",
    "elif not satellite_selection.value:\n",
    "    print(\"ERROR: You must select at least one satellite first\")\n",
    "# Save the dates selected by the user as well as the selected collection\n",
    "dates = [str(start_date.value),str(end_date.value)]\n",
    "collection = collection_radio.value\n",
    "print(f\"dates: {dates}\")\n",
    "print(f\"collection: {collection}\")\n",
    "print(f\"sat_list: {sat_list}\")"
   ]
  },
  {
   "cell_type": "code",
   "execution_count": 4,
   "metadata": {},
   "outputs": [],
   "source": [
    "pre_process_settings = { \n",
    "    # general parameters:\n",
    "    'cloud_thresh': 0.5,        # threshold on maximum cloud cover\n",
    "    'output_epsg': 3857,        # epsg code of spatial reference system desired for the output   \n",
    "    # quality control:\n",
    "    'check_detection': True,    # if True, shows each shoreline detection to the user for validation\n",
    "    'adjust_detection': False,  # if True, allows user to adjust the postion of each shoreline by changing the threhold\n",
    "    'save_figure': True,        # if True, saves a figure showing the mapped shoreline for each image\n",
    "    # [ONLY FOR ADVANCED USERS] shoreline detection parameters:\n",
    "    'min_beach_area': 4500,     # minimum area (in metres^2) for an object to be labelled as a beach\n",
    "    'buffer_size': 150,         # radius (in metres) of the buffer around sandy pixels considered in the shoreline detection\n",
    "    'min_length_sl': 200,       # minimum length (in metres) of shoreline perimeter to be valid\n",
    "    'cloud_mask_issue': False,  # switch this parameter to True if sand pixels are masked (in black) on many images  \n",
    "    'sand_color': 'default',    # 'default', 'dark' (for grey/black sand beaches) or 'bright' (for white sand beaches)\n",
    "    'pan_off':'False',          # if True, no pan-sharpening is performed on Landsat 7,8 and 9 imagery\n",
    "}\n",
    "\n",
    "# Output wdiget used to print messages and exceptions created by CoastSeg_Map\n",
    "debug_view = Output(layout={'border': '1px solid black'})"
   ]
  },
  {
   "cell_type": "markdown",
   "metadata": {},
   "source": [
    "# Create the Map\n",
    "- Create the map using the map settings set above"
   ]
  },
  {
   "cell_type": "code",
   "execution_count": 5,
   "metadata": {},
   "outputs": [],
   "source": [
    "coastseg_map=coastseg_map_class.CoastSeg_Map()"
   ]
  },
  {
   "cell_type": "markdown",
   "metadata": {},
   "source": [
    "# How to Use The Map\n",
    "---\n",
    "1. Use the rectangle tool to draw a bounding box along the coastline.\n",
    "2. Click `Generate ROI` to create ROI rectangles along the coastline in the bounding box. This may take some time.\n",
    "- You should see a coastline appear in yellow and some rectangles along it.\n",
    "3. Click 1 or more ROIs then click `Save ROI` to save these ROIs for downloading later\n",
    "4. You're ready to download the ROIs. Run the next block of code."
   ]
  },
  {
   "cell_type": "code",
   "execution_count": 6,
   "metadata": {},
   "outputs": [
    {
     "data": {
      "application/vnd.jupyter.widget-view+json": {
       "model_id": "0a72f6e5b3a04cb7b3d882c3e1456596",
       "version_major": 2,
       "version_minor": 0
      },
      "text/plain": [
       "Output(layout=Layout(border='1px solid black'))"
      ]
     },
     "metadata": {},
     "output_type": "display_data"
    },
    {
     "data": {
      "application/vnd.jupyter.widget-view+json": {
       "model_id": "96e35abe012c4d3dbf68a8930434968d",
       "version_major": 2,
       "version_minor": 0
      },
      "text/plain": [
       "HBox(children=(Button(description='Load Transects', style=ButtonStyle()), Button(description='Load Shoreline',…"
      ]
     },
     "metadata": {},
     "output_type": "display_data"
    },
    {
     "data": {
      "application/vnd.jupyter.widget-view+json": {
       "model_id": "1c576f2d2eb548b8a6c4f2dc13d19d44",
       "version_major": 2,
       "version_minor": 0
      },
      "text/plain": [
       "HBox(children=(Button(description='Remove all', style=ButtonStyle()), Button(description='Remove transects', s…"
      ]
     },
     "metadata": {},
     "output_type": "display_data"
    },
    {
     "data": {
      "application/vnd.jupyter.widget-view+json": {
       "model_id": "33a1e68b3a7b48de9f818ab819d517ca",
       "version_major": 2,
       "version_minor": 0
      },
      "text/plain": [
       "Map(center=[36, -121.5], controls=(ZoomControl(options=['position', 'zoom_in_text', 'zoom_in_title', 'zoom_out…"
      ]
     },
     "metadata": {},
     "output_type": "display_data"
    }
   ],
   "source": [
    "transects_button = Button(description=\"Load Transects\")\n",
    "shoreline_button = Button(description=\"Load Shoreline\")\n",
    "gen_button =Button(description=\"Generate ROI\")\n",
    "save_button = Button(description=\"Save ROI\")\n",
    "clear_debug_button = Button(description=\"Clear TextBox\")\n",
    "\n",
    "remove_all_button = Button(description=\"Remove all\")\n",
    "remove_transects_button = Button(description=\"Remove transects\")\n",
    "remove_bbox_button = Button(description=\"Remove bbox\")\n",
    "remove_coastline_button = Button(description=\"Remove coastline\")\n",
    "remove_rois_button = Button(description=\"Remove ROIs\")\n",
    "remove_saved_roi_button = Button(description=\"Remove saved ROIs\")\n",
    "\n",
    "@debug_view.capture(clear_output=True)\n",
    "def on_shoreline_button_clicked(b):\n",
    "    if coastseg_map.shapes_list == [] :\n",
    "        print(\"Draw a bounding box on the coast first, then click Load Transects.\")\n",
    "    else:\n",
    "        debug_view.clear_output(wait=True)\n",
    "        print(\"Loading shoreline please wait.\") \n",
    "        # Add the transects to the map\n",
    "        coastseg_map.load_shoreline_on_map()\n",
    "        print(\"Shoreline loaded.\")\n",
    "\n",
    "@debug_view.capture(clear_output=True)\n",
    "def on_transects_button_clicked(b):\n",
    "    if coastseg_map.shapes_list == [] :\n",
    "        print(\"Draw a bounding box on the coast first, then click Load Transects.\")\n",
    "    else:\n",
    "        debug_view.clear_output(wait=True)\n",
    "        print(\"Loading transects please wait.\") \n",
    "        # Add the transects to the map\n",
    "        coastseg_map.load_transects_on_map()\n",
    "        print(\"Transects Loaded.\")\n",
    "\n",
    "        \n",
    "@debug_view.capture(clear_output=True)\n",
    "def on_gen_button_clicked(b):\n",
    "    if coastseg_map.shapes_list == [] :\n",
    "        print(\"Draw a bounding box on the coast first, then click Generate ROI.\")\n",
    "    else:\n",
    "        debug_view.clear_output(wait=True)\n",
    "        print(\"Generating ROIs please wait.\") \n",
    "        # Generate ROIs along the coastline within the bounding box\n",
    "        coastseg_map.generate_ROIS_fishnet(5000,0)\n",
    "        debug_view.clear_output(wait=True)\n",
    "        # Add the Clickable ROIs to the map\n",
    "        coastseg_map.add_geojson_layer_to_map()\n",
    "        print(\"ROIs generated. Please Select at least one ROI and click Save ROI.\")\n",
    "\n",
    "@debug_view.capture(clear_output=True)\n",
    "def on_save_button_clicked(b):\n",
    "    if coastseg_map.selected_set:\n",
    "        if len(coastseg_map.selected_set) == 0:\n",
    "             print(\"Must select at least 1 ROI first before you can save ROIs.\")\n",
    "        else:\n",
    "            debug_view.clear_output(wait=True)\n",
    "            coastseg_map.save_roi_fishnet(\"fishnet_rois.geojson\")\n",
    "            print(\"Saving ROIs\")\n",
    "            debug_view.clear_output(wait=True)\n",
    "            print(\"ROIs have been saved. Now click Download ROI to download the ROIs using CoastSat\")\n",
    "    else:\n",
    "        print(\"No ROIs were selected.\")\n",
    "\n",
    "\n",
    "def remove_all_from_map(b):\n",
    "    coastseg_map.remove_all()\n",
    "def remove_transects(b):\n",
    "    coastseg_map.remove_transects()\n",
    "def remove_bbox_from_map(b):\n",
    "    coastseg_map.remove_bbox()\n",
    "def remove_coastline_from_map(b):\n",
    "    coastseg_map.remove_shoreline()\n",
    "def remove_all_rois_from_map(b):\n",
    "    coastseg_map.remove_all_rois()\n",
    "def remove_saved_roi_clicked(b):\n",
    "    coastseg_map.remove_saved_roi()\n",
    "def clear_debug_view(b):\n",
    "    with debug_view:\n",
    "        clear_output()\n",
    "        \n",
    "\n",
    "transects_button.on_click(on_transects_button_clicked)    \n",
    "shoreline_button.on_click(on_shoreline_button_clicked) \n",
    "gen_button.on_click(on_gen_button_clicked)\n",
    "save_button.on_click(on_save_button_clicked)\n",
    "clear_debug_button.on_click(clear_debug_view)\n",
    "\n",
    "\n",
    "remove_all_button.on_click(remove_all_from_map)\n",
    "remove_transects_button.on_click(remove_transects)\n",
    "remove_bbox_button.on_click(remove_bbox_from_map)\n",
    "remove_coastline_button.on_click(remove_coastline_from_map)\n",
    "remove_rois_button.on_click(remove_all_rois_from_map)\n",
    "remove_saved_roi_button.on_click(remove_saved_roi_clicked)\n",
    "\n",
    "erase_buttons=HBox([remove_all_button, remove_transects_button, remove_bbox_button, remove_coastline_button, remove_rois_button, remove_saved_roi_button])\n",
    "\n",
    "display(debug_view,HBox([transects_button,shoreline_button, gen_button, save_button,clear_debug_button]),erase_buttons)\n",
    "# Display the map\n",
    "coastseg_map.m"
   ]
  },
  {
   "cell_type": "markdown",
   "metadata": {},
   "source": [
    "## Download the Selected ROIs\n",
    "- Download the satellite imagery for the ROIs using CoastSat.\n",
    "\n",
    "⚠️ Make sure you have clicked `Save ROI` before running the following code.\n",
    " \n",
    "### Parameters for download_imagery()\n",
    "1. `coastseg_map.selected_ROI` : geojson for the ROI clicked\n",
    "2. `pre_process_settings`: settings for downloading data using CoastSat\n",
    "3. `dates` : date range to download the imagery\n",
    "4. `sat_list` : list of satellites to download imagery from\n",
    "5. `collection` : LandSat Collection 1 (`C01`) or Collection 2 (`C02`)"
   ]
  },
  {
   "cell_type": "code",
   "execution_count": 7,
   "metadata": {},
   "outputs": [
    {
     "name": "stdout",
     "output_type": "stream",
     "text": [
      "Images available: \n",
      " [{'polygon': [[[-121.54932900000001, 36.00479599999999], [-121.50441323579403, 36.00479599999999], [-121.50441323579403, 36.04112303307298], [-121.54932900000001, 36.04112303307298], [-121.54932900000001, 36.00479599999999]]], 'dates': ['2018-12-01', '2019-03-01'], 'sat_list': ['L8'], 'sitename': 'ID02022-08-10__16_hr_50_min51', 'filepath': 'C:\\\\1_USGS\\\\CoastSeg\\\\repos\\\\2_CoastSeg\\\\CoastSeg_fork\\\\Seg2Map\\\\data', 'roi_id': '0', 'landsat_collection': 'C01'}]\n"
     ]
    },
    {
     "name": "stderr",
     "output_type": "stream",
     "text": [
      "Downloading ROIs:   0%|                                                                          | 0/1 [00:00<?, ?it/s]"
     ]
    },
    {
     "name": "stdout",
     "output_type": "stream",
     "text": [
      "Number of images available between 2018-12-01 and 2019-03-01:\n",
      "- In Landsat Tier 1 & Sentinel-2 Level-1C:\n",
      "     L8: 8 images\n",
      "  Total to download: 8 images\n",
      "- In Landsat Tier 2 (not suitable for time-series analysis):\n",
      "     L8: 6 images\n",
      "  Total Tier 2: 6 images\n",
      "\n",
      "Downloading images:\n",
      "L8: 8 images\n",
      "100%\n",
      "Satellite images downloaded from GEE and save in C:\\1_USGS\\CoastSeg\\repos\\2_CoastSeg\\CoastSeg_fork\\Seg2Map\\data\\ID02022-08-10__16_hr_50_min51\n",
      "Saving images as jpg:\n",
      "L8: 8 images\n",
      "100%"
     ]
    },
    {
     "name": "stderr",
     "output_type": "stream",
     "text": [
      "Downloading ROIs: 100%|██████████████████████████████████████████████████████████████████| 1/1 [00:42<00:00, 42.76s/it]"
     ]
    },
    {
     "name": "stdout",
     "output_type": "stream",
     "text": [
      "\n",
      "Satellite images saved as .jpg in C:\\1_USGS\\CoastSeg\\repos\\2_CoastSeg\\CoastSeg_fork\\Seg2Map\\data\\ID02022-08-10__16_hr_50_min51\\jpg_files\\preprocessed\n"
     ]
    },
    {
     "name": "stderr",
     "output_type": "stream",
     "text": [
      "\n"
     ]
    }
   ],
   "source": [
    "if coastseg_map.selected_ROI:\n",
    "    download_roi.download_imagery(coastseg_map.selected_ROI,pre_process_settings,dates,sat_list,collection)\n",
    "else:\n",
    "    print(\"No ROIs were selected. \\nPlease select at least one ROI and click 'Save ROI' to save these ROI for download.\")"
   ]
  },
  {
   "cell_type": "code",
   "execution_count": 8,
   "metadata": {},
   "outputs": [
    {
     "data": {
      "application/vnd.jupyter.widget-view+json": {
       "model_id": "09c13288b5f34bfa8e76062f19117ce3",
       "version_major": 2,
       "version_minor": 0
      },
      "text/plain": [
       "Checkbox(value=False, description='Use GPU?', indent=False)"
      ]
     },
     "metadata": {},
     "output_type": "display_data"
    },
    {
     "data": {
      "application/vnd.jupyter.widget-view+json": {
       "model_id": "2466ad7ed49948d3a24e180da6465fb2",
       "version_major": 2,
       "version_minor": 0
      },
      "text/plain": [
       "Output()"
      ]
     },
     "metadata": {},
     "output_type": "display_data"
    },
    {
     "data": {
      "application/vnd.jupyter.widget-view+json": {
       "model_id": "e9cd843e558b4b118cdbed48fcb4c64f",
       "version_major": 2,
       "version_minor": 0
      },
      "text/plain": [
       "HBox(children=(RadioButtons(description='Select Model:', options=('landsat_6229071', 'landsat_6230083', 'SWED-…"
      ]
     },
     "metadata": {},
     "output_type": "display_data"
    },
    {
     "data": {
      "application/vnd.jupyter.widget-view+json": {
       "model_id": "bbc9e89eaf484c6aac91c30ba50d20de",
       "version_major": 2,
       "version_minor": 0
      },
      "text/plain": [
       "VBox(children=(HTML(value='<h4>Click ONE of the following buttons:</h4>', layout=Layout(margin='0px 0px 0px 0p…"
      ]
     },
     "metadata": {},
     "output_type": "display_data"
    },
    {
     "data": {
      "application/vnd.jupyter.widget-view+json": {
       "model_id": "0f3831b8d53d4f91b88891746bfcc729",
       "version_major": 2,
       "version_minor": 0
      },
      "text/plain": [
       "Button(description='Use Data Button', style=ButtonStyle())"
      ]
     },
     "metadata": {},
     "output_type": "display_data"
    },
    {
     "data": {
      "application/vnd.jupyter.widget-view+json": {
       "model_id": "d9cf17925269402e8f49153140e21d05",
       "version_major": 2,
       "version_minor": 0
      },
      "text/plain": [
       "Button(description='Select Your Images', style=ButtonStyle())"
      ]
     },
     "metadata": {},
     "output_type": "display_data"
    },
    {
     "data": {
      "application/vnd.jupyter.widget-view+json": {
       "model_id": "9f3c64872f834f83986eff382f6098dd",
       "version_major": 2,
       "version_minor": 0
      },
      "text/plain": [
       "HTML(value='____________________________________________________')"
      ]
     },
     "metadata": {},
     "output_type": "display_data"
    },
    {
     "data": {
      "application/vnd.jupyter.widget-view+json": {
       "model_id": "2e59cc4d3fa1450e8696263b17e1423a",
       "version_major": 2,
       "version_minor": 0
      },
      "text/plain": [
       "Output(layout=Layout(border='1px solid black'))"
      ]
     },
     "metadata": {},
     "output_type": "display_data"
    },
    {
     "data": {
      "application/vnd.jupyter.widget-view+json": {
       "model_id": "23ae2ff5a26c496eba3c28ae0744027f",
       "version_major": 2,
       "version_minor": 0
      },
      "text/plain": [
       "Button(description='Run Model', style=ButtonStyle())"
      ]
     },
     "metadata": {},
     "output_type": "display_data"
    },
    {
     "data": {
      "application/vnd.jupyter.widget-view+json": {
       "model_id": "c235aedf0c914a94940f9d1cad4e040c",
       "version_major": 2,
       "version_minor": 0
      },
      "text/plain": [
       "Output(layout=Layout(border='1px solid black'))"
      ]
     },
     "metadata": {},
     "output_type": "display_data"
    }
   ],
   "source": [
    "model_dict={\"sample_direc\":None,\"use_GPU\":False, 'implementation':'ENSEMBLE','model_type':'landsat_6229071'}\n",
    "\n",
    "model_view = Output(layout={'border': '1px solid black'})\n",
    "run_model_view = Output(layout={'border': '1px solid black'})\n",
    "GPU_view = Output()\n",
    "\n",
    "run_model_button = Button(description=\"Run Model\")\n",
    "use_data_button = Button(description=\"Use Data Button\")\n",
    "use_select_images_button = Button(description=\"Select Your Images\")\n",
    "\n",
    "\n",
    "model_implementation = RadioButtons(\n",
    "    options=['ENSEMBLE', 'BEST'],\n",
    "   value='ENSEMBLE',\n",
    "    description='Select:',\n",
    "    disabled=False\n",
    ")\n",
    "\n",
    "model_dropdown = RadioButtons(\n",
    "    options= ['landsat_6229071', 'landsat_6230083','SWED-RGB_6824384','SWED-MNDWI_6824342','coast-train-RGB_6950479', 'S2-water-SWED_6950474'],\n",
    "    value='landsat_6229071',\n",
    "    description='Select Model:',\n",
    "    disabled=False,\n",
    ")\n",
    "\n",
    "\n",
    "GPU_checkbox = Checkbox(\n",
    "    value=False,\n",
    "    description='Use GPU?',\n",
    "    disabled=False,\n",
    "    indent=False\n",
    ")\n",
    "\n",
    "\n",
    "def handle_model_type(change):\n",
    "    model_dict[\"model_type\"]=change['new']\n",
    "\n",
    "\n",
    "def handle_model_implementation(change):\n",
    "    model_dict[\"implementation\"]=change['new']\n",
    "\n",
    "\n",
    "@GPU_view.capture(clear_output=True)\n",
    "def handle_GPU_checkbox(change):\n",
    "    if change[\"new\"] == True:\n",
    "        model_dict[\"use_GPU\"]=True\n",
    "        print(\"Using the GPU\")\n",
    "    else:\n",
    "        model_dict[\"use_GPU\"]=False\n",
    "        print(\"Not using the GPU\")\n",
    "        \n",
    "\n",
    "@model_view.capture(clear_output=True)\n",
    "def use_data_button_clicked(button):\n",
    "    # Use the data folder as the input for segmentation\n",
    "    print(\"Loading in the jpgs from the data directory\")\n",
    "    # Copy the jpgs from data to a new folder called segmentation_data_[datetime]\n",
    "    if 'MNDWI' in model_dropdown.value:\n",
    "        sample_direc =r'C:\\1_USGS\\CoastSeg\\repos\\2_CoastSeg\\CoastSeg_fork\\Seg2Map\\MNDWI_outputs\\MNDWI_ouputs_2022-07-21__07_hr_57_min14'\n",
    "#         sample_direc = file_functions.get_jpgs_from_data('MNDWI')\n",
    "#         RGB_path=sample_direc+os.sep+'RGB'\n",
    "#         NIR_path=sample_direc+os.sep+'NIR'\n",
    "#         sample_direc = coastseg_map.RGB_to_MNDWI(RGB_path,NIR_path,sample_direc)\n",
    "        model_dict[\"sample_direc\"]=sample_direc\n",
    "    else:\n",
    "        sample_direc = file_functions.get_jpgs_from_data('RGB')\n",
    "        model_dict[\"sample_direc\"]=sample_direc\n",
    "        jpgs = glob.glob1(sample_direc + os.sep, \"*jpg\")\n",
    "        if jpgs == []:\n",
    "            raise Exception(\"\\nThe directory contains no jpgs! Please select a directory with jpgs.\")\n",
    "    print(f\"\\nContents of the data directory saved in {sample_direc}\")\n",
    "\n",
    "\n",
    "@model_view.capture(clear_output=True)\n",
    "def use_select_images_button_clicked(button):\n",
    "    # Prompt the user to select a directory of images                              \n",
    "    root.withdraw()                                        # Hide the main window.\n",
    "    root.call('wm', 'attributes', '.', '-topmost', True)   # Raise the root to the top of all windows.\n",
    "    root.filename =  filedialog.askdirectory(initialdir = \"/samples\",title = \"Select directory of images (or npzs) to segment\")\n",
    "    # Save the filename as an attribute of the button\n",
    "    if root.filename:\n",
    "        sample_direc= root.filename\n",
    "        model_dict[\"sample_direc\"]=root.filename\n",
    "        print(f\"The images in the folder will be segmented :\\n{sample_direc} \")\n",
    "        jpgs = glob.glob1(sample_direc + os.sep, \"*jpg\")\n",
    "        if jpgs == []:\n",
    "            raise Exception(\"The directory contains no jpgs! Please select a directory with jpgs.\")\n",
    "    else:\n",
    "        raise Exception(\"You must select a valid directory first!\")\n",
    "\n",
    "@run_model_view.capture(clear_output=True)\n",
    "def run_model_button_clicked(button):\n",
    "    print(\"Called Run Model\")\n",
    "    if model_dict[\"sample_direc\"] is None:\n",
    "        print(\"You must click 'Use Data' or 'Select Images' First\")\n",
    "        return\n",
    "    else:\n",
    "        if model_dict[\"use_GPU\"] == False:\n",
    "            print(\"Not using the GPU\")\n",
    "            ## to use the CPU (not recommended):\n",
    "            os.environ['CUDA_VISIBLE_DEVICES'] = '-1'\n",
    "        elif model_dict[\"use_GPU\"] == True:\n",
    "            print(\"Using the GPU\")\n",
    "            ##use the first available GPU\n",
    "            os.environ['CUDA_VISIBLE_DEVICES'] = '0' #'1'\n",
    "        if 'MNDWI' in model_dropdown.value:\n",
    "            dataset='MNDWI'\n",
    "        else:\n",
    "            dataset='RGB'\n",
    "        dataset_id=model_dict['model_type']\n",
    "#         model_dict['implementation']=model_implementation.value\n",
    "        model_choice=model_dict['implementation']\n",
    "        zoo_model=zoo_model_module.Zoo_Model()\n",
    "        # # First download the specified model\n",
    "        zoo_model.download_model(dataset,dataset_id)\n",
    "        # # Get weights as list\n",
    "        Ww=zoo_model.get_weights_list(model_choice)\n",
    "        # Load the model from the config files\n",
    "        model, model_list, config_files, model_types=zoo_model.get_model(Ww)\n",
    "        metadatadict=zoo_model.get_metadatadict(Ww,config_files, model_types)\n",
    "        # # Compute the segmentation\n",
    "        zoo_model.compute_segmentation(model_dict[\"sample_direc\"], model_list, metadatadict)\n",
    "    \n",
    "    \n",
    "model_implementation.observe(handle_model_implementation,\"value\")\n",
    "model_dropdown.observe(handle_model_type,\"value\")\n",
    "GPU_checkbox.observe(handle_GPU_checkbox,\"value\")\n",
    "\n",
    "\n",
    "run_model_button.on_click(run_model_button_clicked)\n",
    "use_data_button.on_click(use_data_button_clicked)\n",
    "use_select_images_button.on_click(use_select_images_button_clicked)\n",
    "\n",
    "model_choices_box=HBox([model_dropdown, model_implementation])\n",
    "\n",
    "line_widget=HTML(value=\"____________________________________________________\")\n",
    "\n",
    "instr_header=HTML(\n",
    "    value=\"<h4>Click ONE of the following buttons:</h4>\",layout=Layout(margin='0px 0px 0px 0px'))\n",
    "\n",
    "instr_use_data=HTML(\n",
    "    value=\"<b>1. Use Data Folder Button</b> \\\n",
    "        <br> - When CoastSat downloads imagery it created a folder called 'data'in the CoastSeg directory.\\\n",
    "            The jpgs within the 'data' folder will be copied to another folder with a name such as\\\n",
    "            <span style=\\\"background-color:LightGray;\\\">segmentation_data_2022-07-07__10_hr_04_min58 </span>\\\n",
    "            (the date and time will be the current date and time) <br> \\\n",
    "           The model will be applied to this folder and the model outputs will be generated within a subdirectory \\\n",
    "            called 'out'\",layout=Layout(margin='0px 0px 0px 20px'))\n",
    "\n",
    "instr_select_images=HTML(\n",
    "    value=\"<b>2. Select Images Button</b> \\\n",
    "        <br> - This will open a pop up window where the folder containing the jpgs can be selected.<br>\\\n",
    "             - The model will be applied to this folder and the model outputs will be generated within a subdirectory\\\n",
    "             called 'out'<br>\\\n",
    "      - <span style=\\\"background-color:yellow;\\\">WARNING :</span> You will not be able to see the files within the folder you select.<br>\\\n",
    "    \",layout=Layout(margin='0px 0px 0px 20px'))\n",
    "\n",
    "instr_vbox=VBox([instr_header, line_widget, instr_use_data, instr_select_images])\n",
    "\n",
    "display(GPU_checkbox,GPU_view,model_choices_box,instr_vbox,use_data_button,use_select_images_button,line_widget, model_view,run_model_button,run_model_view)"
   ]
  },
  {
   "cell_type": "markdown",
   "metadata": {},
   "source": [
    "## Example Using New RGB_to_MNDWI function\n",
    "Replace `rgb_path` and `nir_path` was the full path to the directories containing the corresponding RGB and NIR images.\n",
    "The outputs will be in a directory called `MNDWI_outputs` as `.npz`"
   ]
  },
  {
   "cell_type": "code",
   "execution_count": null,
   "metadata": {},
   "outputs": [],
   "source": [
    "# Replace these temp paths with the paths you have\n",
    "rgb_path=r'C:\\1_USGS\\CoastSeg\\repos\\2_CoastSeg\\CoastSeg_fork\\Seg2Map\\zenodo_sample_data\\data_sample\\images'\n",
    "nir_path = r'C:\\1_USGS\\CoastSeg\\repos\\2_CoastSeg\\CoastSeg_fork\\Seg2Map\\zenodo_sample_data\\data_sample\\nir'\n",
    "coastseg_map_copy=coastseg_map_class.CoastSeg_Map()\n",
    "coastseg_map_copy.RGB_to_MNDWI(rgb_path,nir_path,os.getcwd())"
   ]
  },
  {
   "cell_type": "code",
   "execution_count": null,
   "metadata": {},
   "outputs": [],
   "source": []
  }
 ],
 "metadata": {
  "kernelspec": {
   "display_name": "Python 3 (ipykernel)",
   "language": "python",
   "name": "python3"
  },
  "language_info": {
   "codemirror_mode": {
    "name": "ipython",
    "version": 3
   },
   "file_extension": ".py",
   "mimetype": "text/x-python",
   "name": "python",
   "nbconvert_exporter": "python",
   "pygments_lexer": "ipython3",
   "version": "3.7.12"
  },
  "vscode": {
   "interpreter": {
    "hash": "9d097efbdf24db87a2507c17c632c6d564e7aff5ba5cfc04e62a44a8b3d6a20a"
   }
  },
  "widgets": {
   "application/vnd.jupyter.widget-state+json": {
    "state": {
     "0062a5473689496f8003ab85feb84510": {
      "model_module": "jupyter-leaflet",
      "model_module_version": "^0.16.0",
      "model_name": "LeafletTileLayerModel",
      "state": {
       "_model_module_version": "^0.16.0",
       "_view_module_version": "^0.16.0",
       "attribution": "Map data: (C) OpenStreetMap contributors | Map style: (C) waymarkedtrails.org (CC-BY-SA)",
       "max_native_zoom": 18,
       "min_native_zoom": 0,
       "name": "WaymarkedTrails.slopes",
       "options": [
        "attribution",
        "bounds",
        "detect_retina",
        "max_native_zoom",
        "max_zoom",
        "min_native_zoom",
        "min_zoom",
        "no_wrap",
        "tile_size",
        "tms"
       ],
       "url": "https://tile.waymarkedtrails.org/slopes/{z}/{x}/{y}.png"
      }
     },
     "013dc35aeddc496a9500c79d3f7c0ea6": {
      "model_module": "@jupyter-widgets/controls",
      "model_module_version": "1.5.0",
      "model_name": "VBoxModel",
      "state": {
       "children": [
        "IPY_MODEL_a2dabbf981ef4a118ac47aaeb92da804",
        "IPY_MODEL_6b2d51c8381e447cbcbc5409c5f2bb9f"
       ],
       "layout": "IPY_MODEL_03ed28dc65d4466888733540fc868370"
      }
     },
     "029366f4a30a48e2866a99e5d5188ecf": {
      "model_module": "@jupyter-widgets/base",
      "model_module_version": "1.2.0",
      "model_name": "LayoutModel",
      "state": {}
     },
     "02d99abeb0014f7782f760194bf4cbaa": {
      "model_module": "@jupyter-widgets/base",
      "model_module_version": "1.2.0",
      "model_name": "LayoutModel",
      "state": {}
     },
     "03ed28dc65d4466888733540fc868370": {
      "model_module": "@jupyter-widgets/base",
      "model_module_version": "1.2.0",
      "model_name": "LayoutModel",
      "state": {}
     },
     "06356d03e2a64c33845a30f3246527bc": {
      "model_module": "jupyter-leaflet",
      "model_module_version": "^0.16.0",
      "model_name": "LeafletTileLayerModel",
      "state": {
       "_model_module_version": "^0.16.0",
       "_view_module_version": "^0.16.0",
       "attribution": "Tiles (C) Esri -- Esri, DeLorme, NAVTEQ",
       "max_native_zoom": 18,
       "max_zoom": 16,
       "min_native_zoom": 0,
       "name": "Esri.WorldGrayCanvas",
       "options": [
        "attribution",
        "bounds",
        "detect_retina",
        "max_native_zoom",
        "max_zoom",
        "min_native_zoom",
        "min_zoom",
        "no_wrap",
        "tile_size",
        "tms"
       ],
       "url": "https://server.arcgisonline.com/ArcGIS/rest/services/Canvas/World_Light_Gray_Base/MapServer/tile/{z}/{y}/{x}"
      }
     },
     "07027fdd7ad347a8aa2a2211df066144": {
      "model_module": "@jupyter-widgets/controls",
      "model_module_version": "1.5.0",
      "model_name": "ButtonModel",
      "state": {
       "description": "Remove bbox",
       "layout": "IPY_MODEL_121b59c5a8fb440aac8b7a8194edc9c4",
       "style": "IPY_MODEL_1c5c06a7895f43f295d4e428062b6b8e"
      }
     },
     "078beeb6fef74691aad7f8092a19116b": {
      "model_module": "@jupyter-widgets/controls",
      "model_module_version": "1.5.0",
      "model_name": "HBoxModel",
      "state": {
       "children": [
        "IPY_MODEL_528344ecb92b4c568525ead2e0206f7c",
        "IPY_MODEL_309d5dd95f824829b557449901df22ba",
        "IPY_MODEL_f36947dbef584c4ea0762c6b7e095b4a"
       ],
       "layout": "IPY_MODEL_5e2562546bed453b84e6697826c494a7"
      }
     },
     "0894c5de185840f0a266368c69dba4d9": {
      "model_module": "jupyter-leaflet",
      "model_module_version": "^0.16.0",
      "model_name": "LeafletTileLayerModel",
      "state": {
       "_model_module_version": "^0.16.0",
       "_view_module_version": "^0.16.0",
       "attribution": "(C) OpenStreetMap contributors",
       "max_native_zoom": 18,
       "max_zoom": 19,
       "min_native_zoom": 0,
       "name": "OpenStreetMap.Mapnik",
       "options": [
        "attribution",
        "bounds",
        "detect_retina",
        "max_native_zoom",
        "max_zoom",
        "min_native_zoom",
        "min_zoom",
        "no_wrap",
        "tile_size",
        "tms"
       ],
       "url": "https://a.tile.openstreetmap.org/{z}/{x}/{y}.png"
      }
     },
     "08b486fc2db74cf19f3d07427014190c": {
      "model_module": "jupyter-leaflet",
      "model_module_version": "^0.16.0",
      "model_name": "LeafletTileLayerModel",
      "state": {
       "_model_module_version": "^0.16.0",
       "_view_module_version": "^0.16.0",
       "attribution": "Justice Map",
       "max_native_zoom": 18,
       "max_zoom": 22,
       "min_native_zoom": 0,
       "name": "JusticeMap.plurality",
       "options": [
        "attribution",
        "bounds",
        "detect_retina",
        "max_native_zoom",
        "max_zoom",
        "min_native_zoom",
        "min_zoom",
        "no_wrap",
        "tile_size",
        "tms"
       ],
       "url": "https://www.justicemap.org/tile/county/plural/{z}/{x}/{y}.png"
      }
     },
     "090b05dedcf0409ebdce903192f37be6": {
      "model_module": "@jupyter-widgets/base",
      "model_module_version": "1.2.0",
      "model_name": "LayoutModel",
      "state": {
       "padding": "10px"
      }
     },
     "090f068d2978413183dd94da1120c5eb": {
      "model_module": "@jupyter-widgets/controls",
      "model_module_version": "1.5.0",
      "model_name": "ToggleButtonModel",
      "state": {
       "button_style": "primary",
       "icon": "pencil-square-o",
       "layout": "IPY_MODEL_8147d724792b4da59040f61b31e8297b",
       "style": "IPY_MODEL_fdb9cacedcec40bda417323985310e0e",
       "tooltip": "Create vector data"
      }
     },
     "09907f51e263483eb5825a895bcd1203": {
      "model_module": "jupyter-leaflet",
      "model_module_version": "^0.16.0",
      "model_name": "LeafletTileLayerModel",
      "state": {
       "_model_module_version": "^0.16.0",
       "_view_module_version": "^0.16.0",
       "attribution": "Tiles (C) Esri -- Esri, DeLorme, NAVTEQ, TomTom, Intermap, iPC, USGS, FAO, NPS, NRCAN, GeoBase, Kadaster NL, Ordnance Survey, Esri Japan, METI, Esri China (Hong Kong), and the GIS User Community",
       "max_native_zoom": 18,
       "max_zoom": 22,
       "min_native_zoom": 0,
       "name": "Esri.WorldTopoMap",
       "options": [
        "attribution",
        "bounds",
        "detect_retina",
        "max_native_zoom",
        "max_zoom",
        "min_native_zoom",
        "min_zoom",
        "no_wrap",
        "tile_size",
        "tms"
       ],
       "url": "https://server.arcgisonline.com/ArcGIS/rest/services/World_Topo_Map/MapServer/tile/{z}/{y}/{x}"
      }
     },
     "09c13288b5f34bfa8e76062f19117ce3": {
      "model_module": "@jupyter-widgets/controls",
      "model_module_version": "1.5.0",
      "model_name": "CheckboxModel",
      "state": {
       "description": "Use GPU?",
       "disabled": false,
       "indent": false,
       "layout": "IPY_MODEL_59df47450cbc4f099c76df0f4e861659",
       "style": "IPY_MODEL_b6b21508afa748759a4d28b6c7b9f590",
       "value": false
      }
     },
     "0a1d1cefa373467fb884aab1bff5710a": {
      "model_module": "@jupyter-widgets/controls",
      "model_module_version": "1.5.0",
      "model_name": "ToggleButtonModel",
      "state": {
       "button_style": "primary",
       "icon": "map",
       "layout": "IPY_MODEL_fb77bc49ab7c4f278c8a3f54e164ccf9",
       "style": "IPY_MODEL_5badd619dab940699a11474580cc2deb",
       "tooltip": "Change basemap"
      }
     },
     "0a1f30c386574d05b12af90561930d08": {
      "model_module": "@jupyter-widgets/base",
      "model_module_version": "1.2.0",
      "model_name": "LayoutModel",
      "state": {
       "margin": "0px 0px 0px 20px"
      }
     },
     "0a4e386ad2b946b6bc56b9db4a17a552": {
      "model_module": "jupyter-leaflet",
      "model_module_version": "^0.16.0",
      "model_name": "LeafletTileLayerModel",
      "state": {
       "_model_module_version": "^0.16.0",
       "_view_module_version": "^0.16.0",
       "attribution": "Map data: (C) OpenSeaMap contributors",
       "max_native_zoom": 18,
       "max_zoom": 22,
       "min_native_zoom": 0,
       "name": "OpenSeaMap",
       "options": [
        "attribution",
        "bounds",
        "detect_retina",
        "max_native_zoom",
        "max_zoom",
        "min_native_zoom",
        "min_zoom",
        "no_wrap",
        "tile_size",
        "tms"
       ],
       "url": "https://tiles.openseamap.org/seamark/{z}/{x}/{y}.png"
      }
     },
     "0a72f6e5b3a04cb7b3d882c3e1456596": {
      "model_module": "@jupyter-widgets/output",
      "model_module_version": "1.0.0",
      "model_name": "OutputModel",
      "state": {
       "layout": "IPY_MODEL_f30070400382444d8be7a00eaebc3ce5",
       "outputs": [
        {
         "name": "stdout",
         "output_type": "stream",
         "text": "ROIs have been saved. Now click Download ROI to download the ROIs using CoastSat\n"
        }
       ]
      }
     },
     "0a80b083bdc04fdba281d181796bab83": {
      "model_module": "jupyter-leaflet",
      "model_module_version": "^0.16.0",
      "model_name": "LeafletTileLayerModel",
      "state": {
       "_model_module_version": "^0.16.0",
       "_view_module_version": "^0.16.0",
       "attribution": "Imagery provided by services from the Global Imagery Browse Services (GIBS), operated by the NASA/GSFC/Earth Science Data and Information System (ESDIS) with funding provided by NASA/HQ.",
       "max_native_zoom": 18,
       "max_zoom": 9,
       "min_native_zoom": 0,
       "name": "NASAGIBS.ModisTerraBands721CR",
       "options": [
        "attribution",
        "bounds",
        "detect_retina",
        "max_native_zoom",
        "max_zoom",
        "min_native_zoom",
        "min_zoom",
        "no_wrap",
        "tile_size",
        "tms"
       ],
       "url": "https://gibs.earthdata.nasa.gov/wmts/epsg3857/best/MODIS_Terra_CorrectedReflectance_Bands721/default//GoogleMapsCompatible_Level9/{z}/{y}/{x}.jpg"
      }
     },
     "0abd09bdf9d24340a3f86631816b1519": {
      "model_module": "jupyter-leaflet",
      "model_module_version": "^0.16.0",
      "model_name": "LeafletTileLayerModel",
      "state": {
       "_model_module_version": "^0.16.0",
       "_view_module_version": "^0.16.0",
       "attribution": "(C) OpenStreetMap contributors",
       "max_native_zoom": 18,
       "max_zoom": 15,
       "min_native_zoom": 0,
       "name": "HikeBike.HillShading",
       "options": [
        "attribution",
        "bounds",
        "detect_retina",
        "max_native_zoom",
        "max_zoom",
        "min_native_zoom",
        "min_zoom",
        "no_wrap",
        "tile_size",
        "tms"
       ],
       "url": "https://tiles.wmflabs.org/hillshading/{z}/{x}/{y}.png"
      }
     },
     "0b7aa2985ba2424e97eb7484a5cd6d25": {
      "model_module": "@jupyter-widgets/base",
      "model_module_version": "1.2.0",
      "model_name": "LayoutModel",
      "state": {}
     },
     "0e04601b2d4645e5a047ee2fd72eb6c2": {
      "model_module": "jupyter-leaflet",
      "model_module_version": "^0.16.0",
      "model_name": "LeafletTileLayerModel",
      "state": {
       "_model_module_version": "^0.16.0",
       "_view_module_version": "^0.16.0",
       "attribution": "National Library of Scotland Historic Maps",
       "max_native_zoom": 18,
       "min_native_zoom": 0,
       "name": "NLS",
       "options": [
        "attribution",
        "bounds",
        "detect_retina",
        "max_native_zoom",
        "max_zoom",
        "min_native_zoom",
        "min_zoom",
        "no_wrap",
        "tile_size",
        "tms"
       ],
       "url": "https://nls-0.tileserver.com/nls/{z}/{x}/{y}.jpg"
      }
     },
     "0e0ad34829f241e6b0dc5d5508d0a714": {
      "model_module": "jupyter-leaflet",
      "model_module_version": "^0.16.0",
      "model_name": "LeafletTileLayerModel",
      "state": {
       "_model_module_version": "^0.16.0",
       "_view_module_version": "^0.16.0",
       "attribution": "(C) OpenStreetMap contributors (C) CARTO",
       "max_native_zoom": 18,
       "max_zoom": 20,
       "min_native_zoom": 0,
       "name": "CartoDB.VoyagerLabelsUnder",
       "options": [
        "attribution",
        "bounds",
        "detect_retina",
        "max_native_zoom",
        "max_zoom",
        "min_native_zoom",
        "min_zoom",
        "no_wrap",
        "tile_size",
        "tms"
       ],
       "url": "https://a.basemaps.cartocdn.com/rastertiles/voyager_labels_under/{z}/{x}/{y}.png"
      }
     },
     "0e11a9e0f31c4c5ca5e497694daa08a4": {
      "model_module": "jupyter-leaflet",
      "model_module_version": "^0.16.0",
      "model_name": "LeafletTileLayerModel",
      "state": {
       "_model_module_version": "^0.16.0",
       "_view_module_version": "^0.16.0",
       "attribution": "&copy; <a href=\"http://www.gaode.com/\">Gaode.com</a>",
       "max_native_zoom": 18,
       "max_zoom": 19,
       "min_native_zoom": 0,
       "name": "Gaode.Normal",
       "options": [
        "attribution",
        "bounds",
        "detect_retina",
        "max_native_zoom",
        "max_zoom",
        "min_native_zoom",
        "min_zoom",
        "no_wrap",
        "tile_size",
        "tms"
       ],
       "url": "http://webrd01.is.autonavi.com/appmaptile?lang=zh_cn&size=1&scale=1&style=7&x={x}&y={y}&z={z}"
      }
     },
     "0f3831b8d53d4f91b88891746bfcc729": {
      "model_module": "@jupyter-widgets/controls",
      "model_module_version": "1.5.0",
      "model_name": "ButtonModel",
      "state": {
       "description": "Use Data Button",
       "layout": "IPY_MODEL_12790d3049ff4e77af32829bca8700eb",
       "style": "IPY_MODEL_32aa1207e24844c4910201a86ba921ed"
      }
     },
     "0fb01a8153d84cb7bc77afe5b7061e7f": {
      "model_module": "@jupyter-widgets/controls",
      "model_module_version": "1.5.0",
      "model_name": "HTMLModel",
      "state": {
       "layout": "IPY_MODEL_8252079ee89d4b3a9336b603ee96b19e",
       "style": "IPY_MODEL_a0100f87c7eb4fd5a6f7f786b1cd144c",
       "value": "<h4>Click ONE of the following buttons:</h4>"
      }
     },
     "11569f23a00f48df92c8d4cbfe5c6342": {
      "model_module": "@jupyter-widgets/controls",
      "model_module_version": "1.5.0",
      "model_name": "ToggleButtonModel",
      "state": {
       "button_style": "primary",
       "icon": "adjust",
       "layout": "IPY_MODEL_1e53eceaf83640a7afc742164c434e94",
       "style": "IPY_MODEL_c31f680402c24e8a83d697b5fe63cf40",
       "tooltip": "Planet imagery"
      }
     },
     "121b59c5a8fb440aac8b7a8194edc9c4": {
      "model_module": "@jupyter-widgets/base",
      "model_module_version": "1.2.0",
      "model_name": "LayoutModel",
      "state": {}
     },
     "12790d3049ff4e77af32829bca8700eb": {
      "model_module": "@jupyter-widgets/base",
      "model_module_version": "1.2.0",
      "model_name": "LayoutModel",
      "state": {}
     },
     "14c7b715566547a4bcae5de934d5b896": {
      "model_module": "@jupyter-widgets/controls",
      "model_module_version": "1.5.0",
      "model_name": "DatePickerModel",
      "state": {
       "description": "Start Date",
       "disabled": false,
       "layout": "IPY_MODEL_cc7c4dfc23074f69bbe72f43e55ad894",
       "style": "IPY_MODEL_da5675778c2f4ce18eef19ab69b8df80",
       "value": {
        "date": 1,
        "month": 11,
        "year": 2018
       }
      }
     },
     "150ca3fe41f3415285343d66cbe8c829": {
      "model_module": "jupyter-leaflet",
      "model_module_version": "^0.16.0",
      "model_name": "LeafletTileLayerModel",
      "state": {
       "_model_module_version": "^0.16.0",
       "_view_module_version": "^0.16.0",
       "attribution": "Tiles courtesy of the U.S. Geological Survey",
       "max_native_zoom": 18,
       "max_zoom": 20,
       "min_native_zoom": 0,
       "name": "USGS.USImageryTopo",
       "options": [
        "attribution",
        "bounds",
        "detect_retina",
        "max_native_zoom",
        "max_zoom",
        "min_native_zoom",
        "min_zoom",
        "no_wrap",
        "tile_size",
        "tms"
       ],
       "url": "https://basemap.nationalmap.gov/arcgis/rest/services/USGSImageryTopo/MapServer/tile/{z}/{y}/{x}"
      }
     },
     "1533950198c743f19902f49457c3341a": {
      "model_module": "@jupyter-widgets/base",
      "model_module_version": "1.2.0",
      "model_name": "LayoutModel",
      "state": {}
     },
     "15a4739134284b67b2f10dd359ef7f24": {
      "model_module": "@jupyter-widgets/controls",
      "model_module_version": "1.5.0",
      "model_name": "ButtonStyleModel",
      "state": {}
     },
     "16f7a80e5f834806836735453c54a171": {
      "model_module": "@jupyter-widgets/controls",
      "model_module_version": "1.5.0",
      "model_name": "ButtonStyleModel",
      "state": {}
     },
     "1979030a45b54298a2c1a3f3c753ff2a": {
      "model_module": "@jupyter-widgets/controls",
      "model_module_version": "1.5.0",
      "model_name": "DescriptionStyleModel",
      "state": {
       "description_width": ""
      }
     },
     "19eefdc571b34ec0ae332d9f7fc727ec": {
      "model_module": "jupyter-leaflet",
      "model_module_version": "^0.16.0",
      "model_name": "LeafletTileLayerModel",
      "state": {
       "_model_module_version": "^0.16.0",
       "_view_module_version": "^0.16.0",
       "attribution": "![](https://docs.onemap.sg/maps/images/oneMap64-01.png) New OneMap | Map data (C) contributors, Singapore Land Authority",
       "max_native_zoom": 18,
       "min_native_zoom": 0,
       "name": "OneMapSG.Night",
       "options": [
        "attribution",
        "bounds",
        "detect_retina",
        "max_native_zoom",
        "max_zoom",
        "min_native_zoom",
        "min_zoom",
        "no_wrap",
        "tile_size",
        "tms"
       ],
       "url": "https://maps-a.onemap.sg/v3/Night/{z}/{x}/{y}.png"
      }
     },
     "1ac69a9d48da4e80b5baab1200d299d1": {
      "model_module": "jupyter-leaflet",
      "model_module_version": "^0.16.0",
      "model_name": "LeafletTileLayerModel",
      "state": {
       "_model_module_version": "^0.16.0",
       "_view_module_version": "^0.16.0",
       "attribution": "Map tiles by Stamen Design, CC BY 3.0 -- Map data (C) OpenStreetMap contributors",
       "max_native_zoom": 18,
       "max_zoom": 20,
       "min_native_zoom": 0,
       "name": "Stamen.TopOSMRelief",
       "options": [
        "attribution",
        "bounds",
        "detect_retina",
        "max_native_zoom",
        "max_zoom",
        "min_native_zoom",
        "min_zoom",
        "no_wrap",
        "tile_size",
        "tms"
       ],
       "url": "https://stamen-tiles-a.a.ssl.fastly.net/toposm-color-relief/{z}/{x}/{y}.jpg"
      }
     },
     "1bdb7e4b28b34001b5bab7bec3729e68": {
      "model_module": "jupyter-leaflet",
      "model_module_version": "^0.16.0",
      "model_name": "LeafletTileLayerModel",
      "state": {
       "_model_module_version": "^0.16.0",
       "_view_module_version": "^0.16.0",
       "attribution": "Imagery provided by services from the Global Imagery Browse Services (GIBS), operated by the NASA/GSFC/Earth Science Data and Information System (ESDIS) with funding provided by NASA/HQ.",
       "max_native_zoom": 18,
       "max_zoom": 8,
       "min_native_zoom": 0,
       "name": "NASAGIBS.BlueMarble",
       "options": [
        "attribution",
        "bounds",
        "detect_retina",
        "max_native_zoom",
        "max_zoom",
        "min_native_zoom",
        "min_zoom",
        "no_wrap",
        "tile_size",
        "tms"
       ],
       "url": "https://gibs.earthdata.nasa.gov/wmts/epsg3857/best/BlueMarble_NextGeneration/default/EPSG3857_500m/{z}/{y}/{x}.jpeg"
      }
     },
     "1c576f2d2eb548b8a6c4f2dc13d19d44": {
      "model_module": "@jupyter-widgets/controls",
      "model_module_version": "1.5.0",
      "model_name": "HBoxModel",
      "state": {
       "children": [
        "IPY_MODEL_c9cb7f5862de4a009bffb6fb141777c9",
        "IPY_MODEL_cdec2da72e034073bdcfe38052c8b4bb",
        "IPY_MODEL_07027fdd7ad347a8aa2a2211df066144",
        "IPY_MODEL_b7150f861a574752b69d8bacee410807",
        "IPY_MODEL_7ce281d97a194034bf8939613be0d9bf",
        "IPY_MODEL_751f09b22fdf4a4983731646700e26cf"
       ],
       "layout": "IPY_MODEL_738888745ab54b63a9a865be01e07fdc"
      }
     },
     "1c5c06a7895f43f295d4e428062b6b8e": {
      "model_module": "@jupyter-widgets/controls",
      "model_module_version": "1.5.0",
      "model_name": "ButtonStyleModel",
      "state": {}
     },
     "1e53eceaf83640a7afc742164c434e94": {
      "model_module": "@jupyter-widgets/base",
      "model_module_version": "1.2.0",
      "model_name": "LayoutModel",
      "state": {
       "height": "auto",
       "padding": "0px 0px 0px 4px",
       "width": "auto"
      }
     },
     "1e83e7f0f1164e9cbde70163b14a6f1b": {
      "model_module": "@jupyter-widgets/base",
      "model_module_version": "1.2.0",
      "model_name": "LayoutModel",
      "state": {}
     },
     "1e9dd055f30b44d9992ec01b3f7c8846": {
      "model_module": "jupyter-leaflet",
      "model_module_version": "^0.16.0",
      "model_name": "LeafletTileLayerModel",
      "state": {
       "_model_module_version": "^0.16.0",
       "_view_module_version": "^0.16.0",
       "attribution": "(C) Stadia Maps, (C) OpenMapTiles (C) OpenStreetMap contributors",
       "max_native_zoom": 18,
       "max_zoom": 20,
       "min_native_zoom": 0,
       "name": "Stadia.OSMBright",
       "options": [
        "attribution",
        "bounds",
        "detect_retina",
        "max_native_zoom",
        "max_zoom",
        "min_native_zoom",
        "min_zoom",
        "no_wrap",
        "tile_size",
        "tms"
       ],
       "url": "https://tiles.stadiamaps.com/tiles/osm_bright/{z}/{x}/{y}.png"
      }
     },
     "1f05ab4b0e9f4fde92e610f4b351213e": {
      "model_module": "jupyter-leaflet",
      "model_module_version": "^0.16.0",
      "model_name": "LeafletTileLayerModel",
      "state": {
       "_model_module_version": "^0.16.0",
       "_view_module_version": "^0.16.0",
       "attribution": "Map data: (C) OpenStreetMap contributors & ODbL, (C) www.opensnowmap.org CC-BY-SA",
       "max_native_zoom": 18,
       "min_native_zoom": 0,
       "name": "OpenSnowMap.pistes",
       "options": [
        "attribution",
        "bounds",
        "detect_retina",
        "max_native_zoom",
        "max_zoom",
        "min_native_zoom",
        "min_zoom",
        "no_wrap",
        "tile_size",
        "tms"
       ],
       "url": "https://tiles.opensnowmap.org/pistes/{z}/{x}/{y}.png"
      }
     },
     "1f61a2ecc1db43adaf713ee75e93001a": {
      "model_module": "@jupyter-widgets/base",
      "model_module_version": "1.2.0",
      "model_name": "LayoutModel",
      "state": {}
     },
     "215dbceea5884dc19620b2a5d07ef351": {
      "model_module": "@jupyter-widgets/base",
      "model_module_version": "1.2.0",
      "model_name": "LayoutModel",
      "state": {}
     },
     "21bd805b22d44d0ea2396c4366e491ae": {
      "model_module": "jupyter-leaflet",
      "model_module_version": "^0.16.0",
      "model_name": "LeafletTileLayerModel",
      "state": {
       "_model_module_version": "^0.16.0",
       "_view_module_version": "^0.16.0",
       "attribution": "Google",
       "max_native_zoom": 18,
       "max_zoom": 22,
       "min_native_zoom": 0,
       "name": "Google Terrain",
       "options": [
        "attribution",
        "bounds",
        "detect_retina",
        "max_native_zoom",
        "max_zoom",
        "min_native_zoom",
        "min_zoom",
        "no_wrap",
        "tile_size",
        "tms"
       ],
       "url": "https://mt1.google.com/vt/lyrs=p&x={x}&y={y}&z={z}"
      }
     },
     "22c7ac1a4c97467dadf26e09810dd540": {
      "model_module": "@jupyter-widgets/base",
      "model_module_version": "1.2.0",
      "model_name": "LayoutModel",
      "state": {}
     },
     "235fcce86cf34e3d9c55616a32718c80": {
      "model_module": "@jupyter-widgets/controls",
      "model_module_version": "1.5.0",
      "model_name": "ButtonStyleModel",
      "state": {}
     },
     "238d747d54934875a33767cf2746ec43": {
      "model_module": "jupyter-leaflet",
      "model_module_version": "^0.16.0",
      "model_name": "LeafletTileLayerModel",
      "state": {
       "_model_module_version": "^0.16.0",
       "_view_module_version": "^0.16.0",
       "attribution": "© swisstopo",
       "max_native_zoom": 18,
       "min_native_zoom": 0,
       "name": "SwissFederalGeoportal.NationalMapColor",
       "options": [
        "attribution",
        "bounds",
        "detect_retina",
        "max_native_zoom",
        "max_zoom",
        "min_native_zoom",
        "min_zoom",
        "no_wrap",
        "tile_size",
        "tms"
       ],
       "url": "https://wmts.geo.admin.ch/1.0.0/ch.swisstopo.pixelkarte-farbe/default/current/3857/{z}/{x}/{y}.jpeg"
      }
     },
     "23ae2ff5a26c496eba3c28ae0744027f": {
      "model_module": "@jupyter-widgets/controls",
      "model_module_version": "1.5.0",
      "model_name": "ButtonModel",
      "state": {
       "description": "Run Model",
       "layout": "IPY_MODEL_50bb28706c4a401cae1ab5493e14cb9c",
       "style": "IPY_MODEL_62f432adc9264bf8aa5a478d56bc434b"
      }
     },
     "243536dda2544f5082756309d224474b": {
      "model_module": "@jupyter-widgets/controls",
      "model_module_version": "1.5.0",
      "model_name": "DescriptionStyleModel",
      "state": {
       "description_width": ""
      }
     },
     "245be2638e4e47959efacc163bf05741": {
      "model_module": "@jupyter-widgets/controls",
      "model_module_version": "1.5.0",
      "model_name": "ButtonStyleModel",
      "state": {}
     },
     "2466ad7ed49948d3a24e180da6465fb2": {
      "model_module": "@jupyter-widgets/output",
      "model_module_version": "1.0.0",
      "model_name": "OutputModel",
      "state": {
       "layout": "IPY_MODEL_6b9f59f9fc0f40468e654d83adc3b427"
      }
     },
     "255ab76a5d4143faba79ff1162b01bad": {
      "model_module": "@jupyter-widgets/base",
      "model_module_version": "1.2.0",
      "model_name": "LayoutModel",
      "state": {}
     },
     "263eda5ced2f4813977222b8d970f22b": {
      "model_module": "@jupyter-widgets/controls",
      "model_module_version": "1.5.0",
      "model_name": "ToggleButtonModel",
      "state": {
       "button_style": "primary",
       "icon": "question",
       "layout": "IPY_MODEL_d4af1431a1db4110a6691cb5dd054dbb",
       "style": "IPY_MODEL_be23abc04821453d925a880839f86bbd",
       "tooltip": "Get help"
      }
     },
     "267c83b9c16b4a8481c0dfcc6f2a6609": {
      "model_module": "@jupyter-widgets/base",
      "model_module_version": "1.2.0",
      "model_name": "LayoutModel",
      "state": {}
     },
     "2713fd3493584ece9b41b8ad9759f5fd": {
      "model_module": "jupyter-leaflet",
      "model_module_version": "^0.16.0",
      "model_name": "LeafletTileLayerModel",
      "state": {
       "_model_module_version": "^0.16.0",
       "_view_module_version": "^0.16.0",
       "attribution": "(C) OpenStreetMap contributors",
       "max_native_zoom": 18,
       "min_native_zoom": 0,
       "name": "OpenStreetMap.DE",
       "options": [
        "attribution",
        "bounds",
        "detect_retina",
        "max_native_zoom",
        "max_zoom",
        "min_native_zoom",
        "min_zoom",
        "no_wrap",
        "tile_size",
        "tms"
       ],
       "url": "https://a.tile.openstreetmap.de/{z}/{x}/{y}.png"
      }
     },
     "2950558937634591814479452c24295e": {
      "model_module": "jupyter-leaflet",
      "model_module_version": "^0.16.0",
      "model_name": "LeafletTileLayerModel",
      "state": {
       "_model_module_version": "^0.16.0",
       "_view_module_version": "^0.16.0",
       "attribution": "Map tiles by Stamen Design, CC BY 3.0 -- Map data (C) OpenStreetMap contributors",
       "max_native_zoom": 18,
       "min_native_zoom": 0,
       "name": "Stamen.TerrainBackground",
       "options": [
        "attribution",
        "bounds",
        "detect_retina",
        "max_native_zoom",
        "max_zoom",
        "min_native_zoom",
        "min_zoom",
        "no_wrap",
        "tile_size",
        "tms"
       ],
       "url": "https://stamen-tiles-a.a.ssl.fastly.net/terrain-background/{z}/{x}/{y}.png"
      }
     },
     "2a707b4422df494281f3729b50598646": {
      "model_module": "@jupyter-widgets/controls",
      "model_module_version": "1.5.0",
      "model_name": "ToggleButtonModel",
      "state": {
       "button_style": "primary",
       "icon": "gears",
       "layout": "IPY_MODEL_7b6ae570175b4fa68aac4b6b136e8222",
       "style": "IPY_MODEL_64058873d3454f52a4324a93f0f34dd7",
       "tooltip": "WhiteboxTools for local geoprocessing"
      }
     },
     "2aaf48ace5f74c0da3db5d043ac51631": {
      "model_module": "@jupyter-widgets/controls",
      "model_module_version": "1.5.0",
      "model_name": "ButtonModel",
      "state": {
       "description": "Save ROI",
       "layout": "IPY_MODEL_0b7aa2985ba2424e97eb7484a5cd6d25",
       "style": "IPY_MODEL_e12d5eaf2bbc412297492ab0227548b4"
      }
     },
     "2abefc2134e34a4ea2841c6bc97044f1": {
      "model_module": "jupyter-leaflet",
      "model_module_version": "^0.16.0",
      "model_name": "LeafletGeoJSONModel",
      "state": {
       "_model_module_version": "^0.16.0",
       "_view_module_version": "^0.16.0",
       "data": {
        "features": [
         {
          "geometry": {
           "coordinates": [
            [
             [
              -121.54932900000001,
              36.00479599999999
             ],
             [
              -121.54932900000001,
              36.04112303307298
             ],
             [
              -121.50441323579403,
              36.04112303307298
             ],
             [
              -121.50441323579403,
              36.00479599999999
             ],
             [
              -121.54932900000001,
              36.00479599999999
             ]
            ]
           ],
           "type": "Polygon"
          },
          "id": "0",
          "properties": {
           "CHLOROPHYLL": 2.417483,
           "CSU_Descriptor": "steeply sloping, straight, medium erodibility, warm temperate dry, low river discharge, moderate wave energy, moderately tidal, euhaline-oxic-moderate to cool, clear, moderate chlorophyll",
           "CSU_ID": 70981,
           "Cluster": 6,
           "EMU_PHYSICAL": "Euhaline-Oxic-Moderate to Cool",
           "ERODIBILITY": "Medium",
           "GHM": 0.057545,
           "LENGTH_GEO": 808.7053256467224,
           "MAX_SLOPE": 108.650524,
           "MEAN_SIG_WAVEHEIGHT": 1.687268,
           "MasterKey": 2753663,
           "OBJECTID": 2753663,
           "OUTFLOW_DENSITY": 8671.790039,
           "OUTFLOW_DENSITY_RESCALED": 1.0484883786709782e-05,
           "REGIONAL_SINUOSITY": 1.140924,
           "RandomSort": 2361457.62831946,
           "Shape_Length": 0.008435847190592267,
           "TEMP_MOISTURE": "Warm Temperate Dry",
           "TIDAL_RANGE": 2.410373,
           "TURBIDITY": 0.024533,
           "chl_label": "moderate chlorophyll",
           "id": 11,
           "index_right": 11,
           "river_label": "low river discharge",
           "sinuosity_label": "straight",
           "slope_label": "steeply sloping",
           "style": {
            "color": "blue",
            "fillColor": "grey",
            "fillOpacity": 0.1,
            "weight": 3
           },
           "tidal_label": "moderately tidal",
           "turbid_label": "clear",
           "wave_label": "moderate wave energy"
          },
          "type": "Feature"
         }
        ],
        "type": "FeatureCollection"
       },
       "hover_style": {
        "color": "aqua",
        "fillColor": "blue"
       },
       "name": "Selected ROIs"
      }
     },
     "2c9892c7e7da4f83bb653e6a2b0080ef": {
      "model_module": "jupyter-leaflet",
      "model_module_version": "^0.16.0",
      "model_name": "LeafletTileLayerModel",
      "state": {
       "_model_module_version": "^0.16.0",
       "_view_module_version": "^0.16.0",
       "attribution": "Map data: (C) OpenStreetMap contributors | Map style: (C) waymarkedtrails.org (CC-BY-SA)",
       "max_native_zoom": 18,
       "min_native_zoom": 0,
       "name": "WaymarkedTrails.riding",
       "options": [
        "attribution",
        "bounds",
        "detect_retina",
        "max_native_zoom",
        "max_zoom",
        "min_native_zoom",
        "min_zoom",
        "no_wrap",
        "tile_size",
        "tms"
       ],
       "url": "https://tile.waymarkedtrails.org/riding/{z}/{x}/{y}.png"
      }
     },
     "2d60a2f605c7423d922c32ca650dc650": {
      "model_module": "jupyter-leaflet",
      "model_module_version": "^0.16.0",
      "model_name": "LeafletTileLayerModel",
      "state": {
       "_model_module_version": "^0.16.0",
       "_view_module_version": "^0.16.0",
       "attribution": "![](https://docs.onemap.sg/maps/images/oneMap64-01.png) New OneMap | Map data (C) contributors, Singapore Land Authority",
       "max_native_zoom": 18,
       "min_native_zoom": 0,
       "name": "OneMapSG.LandLot",
       "options": [
        "attribution",
        "bounds",
        "detect_retina",
        "max_native_zoom",
        "max_zoom",
        "min_native_zoom",
        "min_zoom",
        "no_wrap",
        "tile_size",
        "tms"
       ],
       "url": "https://maps-a.onemap.sg/v3/LandLot/{z}/{x}/{y}.png"
      }
     },
     "2e3923e9d4c0456a992c9c8666aa8cd7": {
      "model_module": "jupyter-leaflet",
      "model_module_version": "^0.16.0",
      "model_name": "LeafletTileLayerModel",
      "state": {
       "_model_module_version": "^0.16.0",
       "_view_module_version": "^0.16.0",
       "attribution": "Tiles courtesy of the U.S. Geological Survey",
       "max_native_zoom": 18,
       "max_zoom": 20,
       "min_native_zoom": 0,
       "name": "USGS.USTopo",
       "options": [
        "attribution",
        "bounds",
        "detect_retina",
        "max_native_zoom",
        "max_zoom",
        "min_native_zoom",
        "min_zoom",
        "no_wrap",
        "tile_size",
        "tms"
       ],
       "url": "https://basemap.nationalmap.gov/arcgis/rest/services/USGSTopo/MapServer/tile/{z}/{y}/{x}"
      }
     },
     "2e59cc4d3fa1450e8696263b17e1423a": {
      "model_module": "@jupyter-widgets/output",
      "model_module_version": "1.0.0",
      "model_name": "OutputModel",
      "state": {
       "layout": "IPY_MODEL_f951335753d04659b3d6960299cac3fc",
       "outputs": [
        {
         "name": "stdout",
         "output_type": "stream",
         "text": "The images in the folder will be segmented :\nC:/1_USGS/CoastSeg/repos/2_CoastSeg/CoastSeg_fork/Seg2Map/data/ID02022-08-10__16_hr_50_min51/jpg_files/preprocessed/RGB \n"
        }
       ]
      }
     },
     "2f3dd90cd97546fab35cafcecbf86d9a": {
      "model_module": "jupyter-leaflet",
      "model_module_version": "^0.16.0",
      "model_name": "LeafletTileLayerModel",
      "state": {
       "_model_module_version": "^0.16.0",
       "_view_module_version": "^0.16.0",
       "attribution": "Justice Map",
       "max_native_zoom": 18,
       "max_zoom": 22,
       "min_native_zoom": 0,
       "name": "JusticeMap.black",
       "options": [
        "attribution",
        "bounds",
        "detect_retina",
        "max_native_zoom",
        "max_zoom",
        "min_native_zoom",
        "min_zoom",
        "no_wrap",
        "tile_size",
        "tms"
       ],
       "url": "https://www.justicemap.org/tile/county/black/{z}/{x}/{y}.png"
      }
     },
     "2f720db71d3a455f96031a12cf769d78": {
      "model_module": "@jupyter-widgets/controls",
      "model_module_version": "1.5.0",
      "model_name": "SelectMultipleModel",
      "state": {
       "_options_labels": [
        "L5",
        "L7",
        "L8",
        "S2"
       ],
       "description": "Satellites",
       "index": [
        2
       ],
       "layout": "IPY_MODEL_1e83e7f0f1164e9cbde70163b14a6f1b",
       "rows": 5,
       "style": "IPY_MODEL_6141bee21e1848269a8bf422c3b9d94b"
      }
     },
     "306bef0123124a939d58bb51efb2d0fa": {
      "model_module": "jupyter-leaflet",
      "model_module_version": "^0.16.0",
      "model_name": "LeafletTileLayerModel",
      "state": {
       "_model_module_version": "^0.16.0",
       "_view_module_version": "^0.16.0",
       "attribution": "&copy; <a href=\"http://www.gaode.com/\">Gaode.com</a>",
       "max_native_zoom": 18,
       "max_zoom": 19,
       "min_native_zoom": 0,
       "name": "Gaode.Satellite",
       "options": [
        "attribution",
        "bounds",
        "detect_retina",
        "max_native_zoom",
        "max_zoom",
        "min_native_zoom",
        "min_zoom",
        "no_wrap",
        "tile_size",
        "tms"
       ],
       "url": "http://webst01.is.autonavi.com/appmaptile?style=6&x={x}&y={y}&z={z}"
      }
     },
     "309d5dd95f824829b557449901df22ba": {
      "model_module": "@jupyter-widgets/controls",
      "model_module_version": "1.5.0",
      "model_name": "FloatProgressModel",
      "state": {
       "bar_style": "success",
       "layout": "IPY_MODEL_865a5e1ad23d4403a78b79bf92b784be",
       "max": 7,
       "style": "IPY_MODEL_527780993e5440edbf1844bcf235b93b",
       "value": 7
      }
     },
     "32713e84ba8e434fadede7f0fc37c2af": {
      "model_module": "@jupyter-widgets/base",
      "model_module_version": "1.2.0",
      "model_name": "LayoutModel",
      "state": {
       "grid_gap": "1px 1px",
       "grid_template_columns": "32px 32px 32px ",
       "grid_template_rows": "32px 32px 32px 32px 32px 32px ",
       "padding": "5px",
       "width": "109px"
      }
     },
     "32aa1207e24844c4910201a86ba921ed": {
      "model_module": "@jupyter-widgets/controls",
      "model_module_version": "1.5.0",
      "model_name": "ButtonStyleModel",
      "state": {}
     },
     "32b8bbc8cb564e6cb89d2b081ac90ea1": {
      "model_module": "@jupyter-widgets/base",
      "model_module_version": "1.2.0",
      "model_name": "LayoutModel",
      "state": {
       "height": "auto",
       "padding": "0px 0px 0px 4px",
       "width": "auto"
      }
     },
     "32ce8c1197794398bee803f20f5513e2": {
      "model_module": "jupyter-leaflet",
      "model_module_version": "^0.16.0",
      "model_name": "LeafletTileLayerModel",
      "state": {
       "_model_module_version": "^0.16.0",
       "_view_module_version": "^0.16.0",
       "attribution": "OpenStreetMap",
       "max_native_zoom": 18,
       "max_zoom": 22,
       "min_native_zoom": 0,
       "name": "OpenStreetMap",
       "options": [
        "attribution",
        "bounds",
        "detect_retina",
        "max_native_zoom",
        "max_zoom",
        "min_native_zoom",
        "min_zoom",
        "no_wrap",
        "tile_size",
        "tms"
       ]
      }
     },
     "33a1e68b3a7b48de9f818ab819d517ca": {
      "model_module": "jupyter-leaflet",
      "model_module_version": "^0.16.0",
      "model_name": "LeafletMapModel",
      "state": {
       "_model_module_version": "^0.16.0",
       "_view_module_version": "^0.16.0",
       "bottom": 823987,
       "center": [
        35.97700889522193,
        -121.5219890055205
       ],
       "controls": [
        "IPY_MODEL_7d5dee711e5241eb8b2f1b6989c375c2",
        "IPY_MODEL_405ed41887ec4c68bc4fff6f52644c05",
        "IPY_MODEL_e65d10bddded43b19d2773b95774a94f",
        "IPY_MODEL_fe7b28a38aba49fca959cdd254251645",
        "IPY_MODEL_75507297bf4a46b5a889f93f2d18274d",
        "IPY_MODEL_4cb0f492caf44e249e9ab115fed20150",
        "IPY_MODEL_ba1a6664aa4a47e7aadce3ed36c10f5d"
       ],
       "default_style": "IPY_MODEL_8d054b6fdf404876ad22992731d54add",
       "dragging_style": "IPY_MODEL_3e511a35402649c7bf547c714df0e001",
       "east": -121.45935058593751,
       "fullscreen": false,
       "interpolation": "bilinear",
       "layers": [
        "IPY_MODEL_f7de437b99724265969acbbf80305688",
        "IPY_MODEL_73c6cf7af54f462fb5b05853b053ab97",
        "IPY_MODEL_4e19f18984334cab81ff1eae95011485",
        "IPY_MODEL_2abefc2134e34a4ea2841c6bc97044f1"
       ],
       "layout": "IPY_MODEL_e529e046345145e785549181335f0f0d",
       "left": 340295,
       "max_zoom": 24,
       "modisdate": "2022-08-09",
       "north": 36.01869798195182,
       "options": [
        "bounce_at_zoom_limits",
        "box_zoom",
        "center",
        "close_popup_on_click",
        "double_click_zoom",
        "dragging",
        "fullscreen",
        "inertia",
        "inertia_deceleration",
        "inertia_max_speed",
        "interpolation",
        "keyboard",
        "keyboard_pan_offset",
        "keyboard_zoom_offset",
        "max_zoom",
        "min_zoom",
        "prefer_canvas",
        "scroll_wheel_zoom",
        "tap",
        "tap_tolerance",
        "touch_zoom",
        "world_copy_jump",
        "zoom",
        "zoom_animation_threshold",
        "zoom_delta",
        "zoom_snap",
        "zoom_start"
       ],
       "prefer_canvas": false,
       "right": 341024,
       "scroll_wheel_zoom": true,
       "south": 35.93534754274041,
       "style": "IPY_MODEL_8d054b6fdf404876ad22992731d54add",
       "top": 823387,
       "west": -121.58449172973634,
       "window_url": "http://localhost:8888/lab/tree/app.ipynb",
       "zoom": 13
      }
     },
     "33e1582531434a958ee1171e8b3633aa": {
      "model_module": "jupyter-leaflet",
      "model_module_version": "^0.16.0",
      "model_name": "LeafletTileLayerModel",
      "state": {
       "_model_module_version": "^0.16.0",
       "_view_module_version": "^0.16.0",
       "attribution": "(C) OpenStreetMap contributors & USGS",
       "max_native_zoom": 18,
       "max_zoom": 22,
       "min_native_zoom": 0,
       "name": "MtbMap",
       "options": [
        "attribution",
        "bounds",
        "detect_retina",
        "max_native_zoom",
        "max_zoom",
        "min_native_zoom",
        "min_zoom",
        "no_wrap",
        "tile_size",
        "tms"
       ],
       "url": "http://tile.mtbmap.cz/mtbmap_tiles/{z}/{x}/{y}.png"
      }
     },
     "3419e0af64744f8495f17f52d3ff0783": {
      "model_module": "jupyter-leaflet",
      "model_module_version": "^0.16.0",
      "model_name": "LeafletTileLayerModel",
      "state": {
       "_model_module_version": "^0.16.0",
       "_view_module_version": "^0.16.0",
       "attribution": "(C) Stadia Maps, (C) OpenMapTiles (C) OpenStreetMap contributors",
       "max_native_zoom": 18,
       "max_zoom": 20,
       "min_native_zoom": 0,
       "name": "Stadia.AlidadeSmoothDark",
       "options": [
        "attribution",
        "bounds",
        "detect_retina",
        "max_native_zoom",
        "max_zoom",
        "min_native_zoom",
        "min_zoom",
        "no_wrap",
        "tile_size",
        "tms"
       ],
       "url": "https://tiles.stadiamaps.com/tiles/alidade_smooth_dark/{z}/{x}/{y}.png"
      }
     },
     "344163c819424fdd93a48b52faf7a226": {
      "model_module": "jupyter-leaflet",
      "model_module_version": "^0.16.0",
      "model_name": "LeafletTileLayerModel",
      "state": {
       "_model_module_version": "^0.16.0",
       "_view_module_version": "^0.16.0",
       "attribution": "Justice Map",
       "max_native_zoom": 18,
       "max_zoom": 22,
       "min_native_zoom": 0,
       "name": "JusticeMap.asian",
       "options": [
        "attribution",
        "bounds",
        "detect_retina",
        "max_native_zoom",
        "max_zoom",
        "min_native_zoom",
        "min_zoom",
        "no_wrap",
        "tile_size",
        "tms"
       ],
       "url": "https://www.justicemap.org/tile/county/asian/{z}/{x}/{y}.png"
      }
     },
     "34df83388eca41a38b54dc6b9d6aee6a": {
      "model_module": "@jupyter-widgets/controls",
      "model_module_version": "1.5.0",
      "model_name": "DescriptionStyleModel",
      "state": {
       "description_width": ""
      }
     },
     "355d604a9ea9434aba8666e5e7c872e4": {
      "model_module": "jupyter-leaflet",
      "model_module_version": "^0.16.0",
      "model_name": "LeafletTileLayerModel",
      "state": {
       "_model_module_version": "^0.16.0",
       "_view_module_version": "^0.16.0",
       "attribution": "(C) OpenStreetMap contributors (C) CARTO",
       "max_native_zoom": 18,
       "max_zoom": 20,
       "min_native_zoom": 0,
       "name": "CartoDB.Positron",
       "options": [
        "attribution",
        "bounds",
        "detect_retina",
        "max_native_zoom",
        "max_zoom",
        "min_native_zoom",
        "min_zoom",
        "no_wrap",
        "tile_size",
        "tms"
       ],
       "url": "https://a.basemaps.cartocdn.com/light_all/{z}/{x}/{y}.png"
      }
     },
     "3834543fd94a47008061d0ae6897095b": {
      "model_module": "@jupyter-widgets/controls",
      "model_module_version": "1.5.0",
      "model_name": "DescriptionStyleModel",
      "state": {
       "description_width": ""
      }
     },
     "3961ce5c6b3246c69b9c381cf0ee02c5": {
      "model_module": "jupyter-leaflet",
      "model_module_version": "^0.16.0",
      "model_name": "LeafletWMSLayerModel",
      "state": {
       "_model_module_version": "^0.16.0",
       "_view_module_version": "^0.16.0",
       "attribution": "MRLC",
       "crs": {
        "custom": false,
        "name": "EPSG3857"
       },
       "format": "image/png",
       "layers": "NLCD_2011_Land_Cover_L48",
       "max_native_zoom": 18,
       "min_native_zoom": 0,
       "name": "NLCD 2011 CONUS Land Cover",
       "options": [
        "attribution",
        "bounds",
        "detect_retina",
        "format",
        "layers",
        "max_native_zoom",
        "max_zoom",
        "min_native_zoom",
        "min_zoom",
        "no_wrap",
        "styles",
        "tile_size",
        "tms",
        "transparent",
        "uppercase"
       ],
       "transparent": true,
       "url": "https://www.mrlc.gov/geoserver/mrlc_display/NLCD_2011_Land_Cover_L48/wms?"
      }
     },
     "3a9997084c444b3cb10566209f748b92": {
      "model_module": "@jupyter-widgets/controls",
      "model_module_version": "1.5.0",
      "model_name": "DescriptionStyleModel",
      "state": {
       "description_width": ""
      }
     },
     "3cf36c6046194638bbed9ad4df4fe0e9": {
      "model_module": "jupyter-leaflet",
      "model_module_version": "^0.16.0",
      "model_name": "LeafletTileLayerModel",
      "state": {
       "_model_module_version": "^0.16.0",
       "_view_module_version": "^0.16.0",
       "attribution": "Tiles &copy; Esri &mdash; Esri, DeLorme, NAVTEQ, TomTom, Intermap, iPC, USGS, FAO, NPS, NRCAN, GeoBase, Kadaster NL, Ordnance Survey, Esri Japan, METI, Esri China (Hong Kong), and the GIS User Community",
       "max_native_zoom": 18,
       "max_zoom": 24,
       "min_native_zoom": 0,
       "name": "Esri.ArcticOceanBase",
       "options": [
        "attribution",
        "bounds",
        "detect_retina",
        "max_native_zoom",
        "max_zoom",
        "min_native_zoom",
        "min_zoom",
        "no_wrap",
        "tile_size",
        "tms"
       ],
       "url": "http://server.arcgisonline.com/ArcGIS/rest/services/Polar/Arctic_Ocean_Base/MapServer/tile/{z}/{y}/{x}"
      }
     },
     "3d1a9a2bc39f42d5a8e256c6c275b4cd": {
      "model_module": "jupyter-leaflet",
      "model_module_version": "^0.16.0",
      "model_name": "LeafletWMSLayerModel",
      "state": {
       "_model_module_version": "^0.16.0",
       "_view_module_version": "^0.16.0",
       "attribution": "USGS",
       "crs": {
        "custom": false,
        "name": "EPSG3857"
       },
       "format": "image/png",
       "layers": "USGSNAIPImagery:FalseColorComposite",
       "max_native_zoom": 18,
       "min_native_zoom": 0,
       "name": "USGS NAIP Imagery False Color",
       "options": [
        "attribution",
        "bounds",
        "detect_retina",
        "format",
        "layers",
        "max_native_zoom",
        "max_zoom",
        "min_native_zoom",
        "min_zoom",
        "no_wrap",
        "styles",
        "tile_size",
        "tms",
        "transparent",
        "uppercase"
       ],
       "transparent": true,
       "url": "https://imagery.nationalmap.gov/arcgis/services/USGSNAIPImagery/ImageServer/WMSServer?"
      }
     },
     "3d4e9505420e4815b06431caf29d0190": {
      "model_module": "@jupyter-widgets/base",
      "model_module_version": "1.2.0",
      "model_name": "LayoutModel",
      "state": {}
     },
     "3dc15a611e874436bbf3d0a779c1f103": {
      "model_module": "jupyter-leaflet",
      "model_module_version": "^0.16.0",
      "model_name": "LeafletTileLayerModel",
      "state": {
       "_model_module_version": "^0.16.0",
       "_view_module_version": "^0.16.0",
       "attribution": "Map tiles by Stamen Design, CC BY 3.0 -- Map data (C) OpenStreetMap contributors",
       "max_native_zoom": 18,
       "max_zoom": 20,
       "min_native_zoom": 0,
       "name": "Stamen.TopOSMFeatures",
       "options": [
        "attribution",
        "bounds",
        "detect_retina",
        "max_native_zoom",
        "max_zoom",
        "min_native_zoom",
        "min_zoom",
        "no_wrap",
        "tile_size",
        "tms"
       ],
       "url": "https://stamen-tiles-a.a.ssl.fastly.net/toposm-features/{z}/{x}/{y}.png"
      }
     },
     "3ddf9a595f6c477c92d9eb209728c1e1": {
      "model_module": "@jupyter-widgets/base",
      "model_module_version": "1.2.0",
      "model_name": "LayoutModel",
      "state": {}
     },
     "3e511a35402649c7bf547c714df0e001": {
      "model_module": "jupyter-leaflet",
      "model_module_version": "^0.16.0",
      "model_name": "LeafletMapStyleModel",
      "state": {
       "_model_module_version": "^0.16.0",
       "cursor": "move"
      }
     },
     "3f1cee1d703f41f7ae8c23185256347f": {
      "model_module": "jupyter-leaflet",
      "model_module_version": "^0.16.0",
      "model_name": "LeafletTileLayerModel",
      "state": {
       "_model_module_version": "^0.16.0",
       "_view_module_version": "^0.16.0",
       "attribution": "Map tiles by Stamen Design, CC BY 3.0 -- Map data (C) OpenStreetMap contributors",
       "max_native_zoom": 18,
       "max_zoom": 20,
       "min_native_zoom": 0,
       "name": "Stamen.TonerHybrid",
       "options": [
        "attribution",
        "bounds",
        "detect_retina",
        "max_native_zoom",
        "max_zoom",
        "min_native_zoom",
        "min_zoom",
        "no_wrap",
        "tile_size",
        "tms"
       ],
       "url": "https://stamen-tiles-a.a.ssl.fastly.net/toner-hybrid/{z}/{x}/{y}.png"
      }
     },
     "4025099352a5454bb22d9090be40f4b6": {
      "model_module": "@jupyter-widgets/controls",
      "model_module_version": "1.5.0",
      "model_name": "ToggleButtonModel",
      "state": {
       "button_style": "primary",
       "icon": "folder-open",
       "layout": "IPY_MODEL_c4d04226cb4e4c2dbad333819ddc7f59",
       "style": "IPY_MODEL_7b523607246d45d1bcbe97a7405f80bf",
       "tooltip": "Open local vector/raster data"
      }
     },
     "405ed41887ec4c68bc4fff6f52644c05": {
      "model_module": "jupyter-leaflet",
      "model_module_version": "^0.16.0",
      "model_name": "LeafletAttributionControlModel",
      "state": {
       "_model_module_version": "^0.16.0",
       "_view_module_version": "^0.16.0",
       "options": [
        "position",
        "prefix"
       ],
       "position": "bottomright",
       "prefix": "ipyleaflet"
      }
     },
     "414e183ae07043dbb74ebab1a38c3fb0": {
      "model_module": "@jupyter-widgets/controls",
      "model_module_version": "1.5.0",
      "model_name": "DescriptionStyleModel",
      "state": {
       "description_width": ""
      }
     },
     "41f25749ca3e4972b352217fa44cf9fd": {
      "model_module": "jupyter-leaflet",
      "model_module_version": "^0.16.0",
      "model_name": "LeafletTileLayerModel",
      "state": {
       "_model_module_version": "^0.16.0",
       "_view_module_version": "^0.16.0",
       "attribution": "Map tiles by Stamen Design, CC BY 3.0 -- Map data (C) OpenStreetMap contributors",
       "max_native_zoom": 18,
       "max_zoom": 20,
       "min_native_zoom": 0,
       "name": "Stamen.TonerLabels",
       "options": [
        "attribution",
        "bounds",
        "detect_retina",
        "max_native_zoom",
        "max_zoom",
        "min_native_zoom",
        "min_zoom",
        "no_wrap",
        "tile_size",
        "tms"
       ],
       "url": "https://stamen-tiles-a.a.ssl.fastly.net/toner-labels/{z}/{x}/{y}.png"
      }
     },
     "4203c75f9621449a8c796c35c736461c": {
      "model_module": "jupyter-leaflet",
      "model_module_version": "^0.16.0",
      "model_name": "LeafletTileLayerModel",
      "state": {
       "_model_module_version": "^0.16.0",
       "_view_module_version": "^0.16.0",
       "attribution": "(C) OpenStreetMap France | (C) OpenStreetMap contributors",
       "max_native_zoom": 18,
       "max_zoom": 20,
       "min_native_zoom": 0,
       "name": "OpenStreetMap.France",
       "options": [
        "attribution",
        "bounds",
        "detect_retina",
        "max_native_zoom",
        "max_zoom",
        "min_native_zoom",
        "min_zoom",
        "no_wrap",
        "tile_size",
        "tms"
       ],
       "url": "https://a.tile.openstreetmap.fr/osmfr/{z}/{x}/{y}.png"
      }
     },
     "4294a20d99eb4de9a99b8154c6801b41": {
      "model_module": "@jupyter-widgets/controls",
      "model_module_version": "1.5.0",
      "model_name": "VBoxModel",
      "state": {
       "children": [
        "IPY_MODEL_e6c5bd8c57af4aaca3ed5274e2548064",
        "IPY_MODEL_2f720db71d3a455f96031a12cf769d78"
       ],
       "layout": "IPY_MODEL_8de99fc5bcb74511b1ed49ec573ed223"
      }
     },
     "43b33b0185424ef08b3a50cc33ef5be4": {
      "model_module": "@jupyter-widgets/controls",
      "model_module_version": "1.5.0",
      "model_name": "ButtonModel",
      "state": {
       "description": "Clear TextBox",
       "layout": "IPY_MODEL_b485263e39504665956fe00d4a41f661",
       "style": "IPY_MODEL_e258ce13b8e246e6929e4de70749d9bd"
      }
     },
     "4423fb3a7a0147d2b9a3c66733eba472": {
      "model_module": "jupyter-leaflet",
      "model_module_version": "^0.16.0",
      "model_name": "LeafletTileLayerModel",
      "state": {
       "_model_module_version": "^0.16.0",
       "_view_module_version": "^0.16.0",
       "attribution": "Map data: (C) OpenStreetMap contributors | Map style: (C) waymarkedtrails.org (CC-BY-SA)",
       "max_native_zoom": 18,
       "min_native_zoom": 0,
       "name": "WaymarkedTrails.hiking",
       "options": [
        "attribution",
        "bounds",
        "detect_retina",
        "max_native_zoom",
        "max_zoom",
        "min_native_zoom",
        "min_zoom",
        "no_wrap",
        "tile_size",
        "tms"
       ],
       "url": "https://tile.waymarkedtrails.org/hiking/{z}/{x}/{y}.png"
      }
     },
     "4578bf90fe5340a09a44b8fe2511d9f0": {
      "model_module": "@jupyter-widgets/controls",
      "model_module_version": "1.5.0",
      "model_name": "ToggleButtonModel",
      "state": {
       "button_style": "primary",
       "icon": "table",
       "layout": "IPY_MODEL_563953386bac4fc7b2a6a115a83ac214",
       "style": "IPY_MODEL_56b47ae3d5fc42a595c519a1ff3314f2",
       "tooltip": "Open attribute table"
      }
     },
     "472f4e8c68ff45188c3c9878204eb290": {
      "model_module": "@jupyter-widgets/controls",
      "model_module_version": "1.5.0",
      "model_name": "ToggleButtonModel",
      "state": {
       "button_style": "primary",
       "icon": "search",
       "layout": "IPY_MODEL_49f10bbdc2fd49d58e39d98bb61463cc",
       "style": "IPY_MODEL_5c7edcf23a9d4e12b735e6da4472d48f",
       "tooltip": "Search XYZ tile services"
      }
     },
     "4759e5b32f5241ae905343aa5307e4ea": {
      "model_module": "@jupyter-widgets/controls",
      "model_module_version": "1.5.0",
      "model_name": "DescriptionStyleModel",
      "state": {
       "description_width": ""
      }
     },
     "48a097cfe6974e448aeee7ddfc92f85d": {
      "model_module": "jupyter-leaflet",
      "model_module_version": "^0.16.0",
      "model_name": "LeafletTileLayerModel",
      "state": {
       "_model_module_version": "^0.16.0",
       "_view_module_version": "^0.16.0",
       "attribution": "Map data: (C) OpenStreetMap contributors, SRTM | Map style: (C) OpenTopoMap (CC-BY-SA)",
       "max_native_zoom": 18,
       "max_zoom": 17,
       "min_native_zoom": 0,
       "name": "OpenTopoMap",
       "options": [
        "attribution",
        "bounds",
        "detect_retina",
        "max_native_zoom",
        "max_zoom",
        "min_native_zoom",
        "min_zoom",
        "no_wrap",
        "tile_size",
        "tms"
       ],
       "url": "https://a.tile.opentopomap.org/{z}/{x}/{y}.png"
      }
     },
     "48fb7f844b7345069c08ea8b98338ab0": {
      "model_module": "jupyter-leaflet",
      "model_module_version": "^0.16.0",
      "model_name": "LeafletTileLayerModel",
      "state": {
       "_model_module_version": "^0.16.0",
       "_view_module_version": "^0.16.0",
       "attribution": "Imagery provided by services from the Global Imagery Browse Services (GIBS), operated by the NASA/GSFC/Earth Science Data and Information System (ESDIS) with funding provided by NASA/HQ.",
       "max_native_zoom": 18,
       "max_zoom": 5,
       "min_native_zoom": 0,
       "name": "NASAGIBS.BlueMarble3031",
       "options": [
        "attribution",
        "bounds",
        "detect_retina",
        "max_native_zoom",
        "max_zoom",
        "min_native_zoom",
        "min_zoom",
        "no_wrap",
        "tile_size",
        "tms"
       ],
       "url": "https://gibs.earthdata.nasa.gov/wmts/epsg3031/best/BlueMarble_NextGeneration/default/EPSG3031_500m/{z}/{y}/{x}.jpeg"
      }
     },
     "49f10bbdc2fd49d58e39d98bb61463cc": {
      "model_module": "@jupyter-widgets/base",
      "model_module_version": "1.2.0",
      "model_name": "LayoutModel",
      "state": {
       "height": "auto",
       "padding": "0px 0px 0px 4px",
       "width": "auto"
      }
     },
     "4a16b682f9ce493b8bdb2bcc97465ca1": {
      "model_module": "jupyter-leaflet",
      "model_module_version": "^0.16.0",
      "model_name": "LeafletTileLayerModel",
      "state": {
       "_model_module_version": "^0.16.0",
       "_view_module_version": "^0.16.0",
       "attribution": "Tiles (C) Esri -- National Geographic, Esri, DeLorme, NAVTEQ, UNEP-WCMC, USGS, NASA, ESA, METI, NRCAN, GEBCO, NOAA, iPC",
       "max_native_zoom": 18,
       "max_zoom": 16,
       "min_native_zoom": 0,
       "name": "Esri.NatGeoWorldMap",
       "options": [
        "attribution",
        "bounds",
        "detect_retina",
        "max_native_zoom",
        "max_zoom",
        "min_native_zoom",
        "min_zoom",
        "no_wrap",
        "tile_size",
        "tms"
       ],
       "url": "https://server.arcgisonline.com/ArcGIS/rest/services/NatGeo_World_Map/MapServer/tile/{z}/{y}/{x}"
      }
     },
     "4cb0f492caf44e249e9ab115fed20150": {
      "model_module": "jupyter-leaflet",
      "model_module_version": "^0.16.0",
      "model_name": "LeafletLayersControlModel",
      "state": {
       "_model_module_version": "^0.16.0",
       "_view_module_version": "^0.16.0",
       "options": [
        "position"
       ],
       "position": "topright"
      }
     },
     "4de316f05e024159a32ce950cb5ff020": {
      "model_module": "@jupyter-widgets/base",
      "model_module_version": "1.2.0",
      "model_name": "LayoutModel",
      "state": {}
     },
     "4e19f18984334cab81ff1eae95011485": {
      "model_module": "jupyter-leaflet",
      "model_module_version": "^0.16.0",
      "model_name": "LeafletGeoJSONModel",
      "state": {
       "_model_module_version": "^0.16.0",
       "_view_module_version": "^0.16.0",
       "data": {
        "features": [
         {
          "geometry": {
           "coordinates": [
            [
             [
              -121.54932900000001,
              36.00479599999999
             ],
             [
              -121.54932900000001,
              36.04112303307298
             ],
             [
              -121.50441323579403,
              36.04112303307298
             ],
             [
              -121.50441323579403,
              36.00479599999999
             ],
             [
              -121.54932900000001,
              36.00479599999999
             ]
            ]
           ],
           "type": "Polygon"
          },
          "id": "0",
          "properties": {
           "CHLOROPHYLL": 0.873553,
           "CSU_Descriptor": "steeply sloping, straight, medium erodibility, warm temperate dry, low river discharge, moderate wave energy, moderately tidal, euhaline-oxic-moderate to cool, clear, low chlorophyll",
           "CSU_ID": 62191,
           "Cluster": 6,
           "EMU_PHYSICAL": "Euhaline-Oxic-Moderate to Cool",
           "ERODIBILITY": "Medium",
           "GHM": 0.144511,
           "LENGTH_GEO": 809.2201719767945,
           "MAX_SLOPE": 109.272652,
           "MEAN_SIG_WAVEHEIGHT": 1.687268,
           "MasterKey": 2753658,
           "OBJECTID": 2753658,
           "OUTFLOW_DENSITY": 8671.790039,
           "OUTFLOW_DENSITY_RESCALED": 1.0484883786709782e-05,
           "REGIONAL_SINUOSITY": 1.270183,
           "RandomSort": 3366707.6827197,
           "Shape_Length": 0.008735799579888025,
           "TEMP_MOISTURE": "Warm Temperate Dry",
           "TIDAL_RANGE": 2.416656,
           "TURBIDITY": 0.027483,
           "chl_label": "low chlorophyll",
           "id": 0,
           "index_right": 5,
           "river_label": "low river discharge",
           "sinuosity_label": "straight",
           "slope_label": "steeply sloping",
           "style": {
            "color": "black",
            "fillColor": "grey",
            "fillOpacity": 0.1,
            "weight": 3
           },
           "tidal_label": "moderately tidal",
           "turbid_label": "clear",
           "wave_label": "moderate wave energy"
          },
          "type": "Feature"
         },
         {
          "geometry": {
           "coordinates": [
            [
             [
              -121.54932900000001,
              36.00479599999999
             ],
             [
              -121.54932900000001,
              36.04112303307298
             ],
             [
              -121.50441323579403,
              36.04112303307298
             ],
             [
              -121.50441323579403,
              36.00479599999999
             ],
             [
              -121.54932900000001,
              36.00479599999999
             ]
            ]
           ],
           "type": "Polygon"
          },
          "id": "0",
          "properties": {
           "CHLOROPHYLL": 0.873553,
           "CSU_Descriptor": "steeply sloping, straight, medium erodibility, warm temperate dry, low river discharge, moderate wave energy, moderately tidal, euhaline-oxic-moderate to cool, clear, low chlorophyll",
           "CSU_ID": 62191,
           "Cluster": 6,
           "EMU_PHYSICAL": "Euhaline-Oxic-Moderate to Cool",
           "ERODIBILITY": "Medium",
           "GHM": 0.144511,
           "LENGTH_GEO": 809.2201719767945,
           "MAX_SLOPE": 109.272652,
           "MEAN_SIG_WAVEHEIGHT": 1.687268,
           "MasterKey": 2753658,
           "OBJECTID": 2753658,
           "OUTFLOW_DENSITY": 8671.790039,
           "OUTFLOW_DENSITY_RESCALED": 1.0484883786709782e-05,
           "REGIONAL_SINUOSITY": 1.270183,
           "RandomSort": 3366707.6827197,
           "Shape_Length": 0.008735799579888025,
           "TEMP_MOISTURE": "Warm Temperate Dry",
           "TIDAL_RANGE": 2.416656,
           "TURBIDITY": 0.027483,
           "chl_label": "low chlorophyll",
           "id": 1,
           "index_right": 10,
           "river_label": "low river discharge",
           "sinuosity_label": "straight",
           "slope_label": "steeply sloping",
           "style": {
            "color": "black",
            "fillColor": "grey",
            "fillOpacity": 0.1,
            "weight": 3
           },
           "tidal_label": "moderately tidal",
           "turbid_label": "clear",
           "wave_label": "moderate wave energy"
          },
          "type": "Feature"
         },
         {
          "geometry": {
           "coordinates": [
            [
             [
              -121.54932900000001,
              36.00479599999999
             ],
             [
              -121.54932900000001,
              36.04112303307298
             ],
             [
              -121.50441323579403,
              36.04112303307298
             ],
             [
              -121.50441323579403,
              36.00479599999999
             ],
             [
              -121.54932900000001,
              36.00479599999999
             ]
            ]
           ],
           "type": "Polygon"
          },
          "id": "0",
          "properties": {
           "CHLOROPHYLL": 2.417483,
           "CSU_Descriptor": "vertical, straight, medium erodibility, warm temperate dry, low river discharge, moderate wave energy, moderately tidal, euhaline-oxic-moderate to cool, clear, moderate chlorophyll",
           "CSU_ID": 71260,
           "Cluster": 6,
           "EMU_PHYSICAL": "Euhaline-Oxic-Moderate to Cool",
           "ERODIBILITY": "Medium",
           "GHM": 0.133607,
           "LENGTH_GEO": 808.8794813016038,
           "MAX_SLOPE": 318.587599,
           "MEAN_SIG_WAVEHEIGHT": 1.687268,
           "MasterKey": 2753659,
           "OBJECTID": 2753659,
           "OUTFLOW_DENSITY": 8671.790039,
           "OUTFLOW_DENSITY_RESCALED": 1.0484883786709782e-05,
           "REGIONAL_SINUOSITY": 1.270183,
           "RandomSort": 1593234.33411067,
           "Shape_Length": 0.008565231531598157,
           "TEMP_MOISTURE": "Warm Temperate Dry",
           "TIDAL_RANGE": 2.416656,
           "TURBIDITY": 0.027483,
           "chl_label": "moderate chlorophyll",
           "id": 2,
           "index_right": 4,
           "river_label": "low river discharge",
           "sinuosity_label": "straight",
           "slope_label": "vertical",
           "style": {
            "color": "black",
            "fillColor": "grey",
            "fillOpacity": 0.1,
            "weight": 3
           },
           "tidal_label": "moderately tidal",
           "turbid_label": "clear",
           "wave_label": "moderate wave energy"
          },
          "type": "Feature"
         },
         {
          "geometry": {
           "coordinates": [
            [
             [
              -121.54932900000001,
              36.00479599999999
             ],
             [
              -121.54932900000001,
              36.04112303307298
             ],
             [
              -121.50441323579403,
              36.04112303307298
             ],
             [
              -121.50441323579403,
              36.00479599999999
             ],
             [
              -121.54932900000001,
              36.00479599999999
             ]
            ]
           ],
           "type": "Polygon"
          },
          "id": "0",
          "properties": {
           "CHLOROPHYLL": 2.417483,
           "CSU_Descriptor": "vertical, straight, medium erodibility, warm temperate dry, low river discharge, moderate wave energy, moderately tidal, euhaline-oxic-moderate to cool, clear, moderate chlorophyll",
           "CSU_ID": 71260,
           "Cluster": 6,
           "EMU_PHYSICAL": "Euhaline-Oxic-Moderate to Cool",
           "ERODIBILITY": "Medium",
           "GHM": 0.133607,
           "LENGTH_GEO": 808.8794813016038,
           "MAX_SLOPE": 318.587599,
           "MEAN_SIG_WAVEHEIGHT": 1.687268,
           "MasterKey": 2753659,
           "OBJECTID": 2753659,
           "OUTFLOW_DENSITY": 8671.790039,
           "OUTFLOW_DENSITY_RESCALED": 1.0484883786709782e-05,
           "REGIONAL_SINUOSITY": 1.270183,
           "RandomSort": 1593234.33411067,
           "Shape_Length": 0.008565231531598157,
           "TEMP_MOISTURE": "Warm Temperate Dry",
           "TIDAL_RANGE": 2.416656,
           "TURBIDITY": 0.027483,
           "chl_label": "moderate chlorophyll",
           "id": 3,
           "index_right": 9,
           "river_label": "low river discharge",
           "sinuosity_label": "straight",
           "slope_label": "vertical",
           "style": {
            "color": "black",
            "fillColor": "grey",
            "fillOpacity": 0.1,
            "weight": 3
           },
           "tidal_label": "moderately tidal",
           "turbid_label": "clear",
           "wave_label": "moderate wave energy"
          },
          "type": "Feature"
         },
         {
          "geometry": {
           "coordinates": [
            [
             [
              -121.54932900000001,
              36.00479599999999
             ],
             [
              -121.54932900000001,
              36.04112303307298
             ],
             [
              -121.50441323579403,
              36.04112303307298
             ],
             [
              -121.50441323579403,
              36.00479599999999
             ],
             [
              -121.54932900000001,
              36.00479599999999
             ]
            ]
           ],
           "type": "Polygon"
          },
          "id": "0",
          "properties": {
           "CHLOROPHYLL": 2.417483,
           "CSU_Descriptor": "steeply sloping, straight, medium erodibility, warm temperate dry, low river discharge, moderate wave energy, moderately tidal, euhaline-oxic-moderate to cool, clear, moderate chlorophyll",
           "CSU_ID": 70981,
           "Cluster": 6,
           "EMU_PHYSICAL": "Euhaline-Oxic-Moderate to Cool",
           "ERODIBILITY": "Medium",
           "GHM": 0.115889,
           "LENGTH_GEO": 809.0954052047207,
           "MAX_SLOPE": 165.896272,
           "MEAN_SIG_WAVEHEIGHT": 1.687268,
           "MasterKey": 2753660,
           "OBJECTID": 2753660,
           "OUTFLOW_DENSITY": 8671.790039,
           "OUTFLOW_DENSITY_RESCALED": 1.0484883786709782e-05,
           "REGIONAL_SINUOSITY": 1.140924,
           "RandomSort": 3897464.57070746,
           "Shape_Length": 0.008658662143014698,
           "TEMP_MOISTURE": "Warm Temperate Dry",
           "TIDAL_RANGE": 2.416656,
           "TURBIDITY": 0.027483,
           "chl_label": "moderate chlorophyll",
           "id": 4,
           "index_right": 3,
           "river_label": "low river discharge",
           "sinuosity_label": "straight",
           "slope_label": "steeply sloping",
           "style": {
            "color": "black",
            "fillColor": "grey",
            "fillOpacity": 0.1,
            "weight": 3
           },
           "tidal_label": "moderately tidal",
           "turbid_label": "clear",
           "wave_label": "moderate wave energy"
          },
          "type": "Feature"
         },
         {
          "geometry": {
           "coordinates": [
            [
             [
              -121.54932900000001,
              36.00479599999999
             ],
             [
              -121.54932900000001,
              36.04112303307298
             ],
             [
              -121.50441323579403,
              36.04112303307298
             ],
             [
              -121.50441323579403,
              36.00479599999999
             ],
             [
              -121.54932900000001,
              36.00479599999999
             ]
            ]
           ],
           "type": "Polygon"
          },
          "id": "0",
          "properties": {
           "CHLOROPHYLL": 2.417483,
           "CSU_Descriptor": "steeply sloping, straight, medium erodibility, warm temperate dry, low river discharge, moderate wave energy, moderately tidal, euhaline-oxic-moderate to cool, clear, moderate chlorophyll",
           "CSU_ID": 70981,
           "Cluster": 6,
           "EMU_PHYSICAL": "Euhaline-Oxic-Moderate to Cool",
           "ERODIBILITY": "Medium",
           "GHM": 0.115889,
           "LENGTH_GEO": 809.0954052047207,
           "MAX_SLOPE": 165.896272,
           "MEAN_SIG_WAVEHEIGHT": 1.687268,
           "MasterKey": 2753660,
           "OBJECTID": 2753660,
           "OUTFLOW_DENSITY": 8671.790039,
           "OUTFLOW_DENSITY_RESCALED": 1.0484883786709782e-05,
           "REGIONAL_SINUOSITY": 1.140924,
           "RandomSort": 3897464.57070746,
           "Shape_Length": 0.008658662143014698,
           "TEMP_MOISTURE": "Warm Temperate Dry",
           "TIDAL_RANGE": 2.416656,
           "TURBIDITY": 0.027483,
           "chl_label": "moderate chlorophyll",
           "id": 5,
           "index_right": 8,
           "river_label": "low river discharge",
           "sinuosity_label": "straight",
           "slope_label": "steeply sloping",
           "style": {
            "color": "black",
            "fillColor": "grey",
            "fillOpacity": 0.1,
            "weight": 3
           },
           "tidal_label": "moderately tidal",
           "turbid_label": "clear",
           "wave_label": "moderate wave energy"
          },
          "type": "Feature"
         },
         {
          "geometry": {
           "coordinates": [
            [
             [
              -121.54932900000001,
              36.00479599999999
             ],
             [
              -121.54932900000001,
              36.04112303307298
             ],
             [
              -121.50441323579403,
              36.04112303307298
             ],
             [
              -121.50441323579403,
              36.00479599999999
             ],
             [
              -121.54932900000001,
              36.00479599999999
             ]
            ]
           ],
           "type": "Polygon"
          },
          "id": "0",
          "properties": {
           "CHLOROPHYLL": 0.833561,
           "CSU_Descriptor": "steeply sloping, straight, medium erodibility, warm temperate dry, low river discharge, moderate wave energy, moderately tidal, euhaline-oxic-moderate to cool, clear, low chlorophyll",
           "CSU_ID": 62191,
           "Cluster": 6,
           "EMU_PHYSICAL": "Euhaline-Oxic-Moderate to Cool",
           "ERODIBILITY": "Medium",
           "GHM": 0.10134,
           "LENGTH_GEO": 808.6158624684548,
           "MAX_SLOPE": 76.299834,
           "MEAN_SIG_WAVEHEIGHT": 1.687268,
           "MasterKey": 2753661,
           "OBJECTID": 2753661,
           "OUTFLOW_DENSITY": 8671.790039,
           "OUTFLOW_DENSITY_RESCALED": 1.0484883786709782e-05,
           "REGIONAL_SINUOSITY": 1.140924,
           "RandomSort": 3235310.88357964,
           "Shape_Length": 0.008419277882346981,
           "TEMP_MOISTURE": "Warm Temperate Dry",
           "TIDAL_RANGE": 2.416656,
           "TURBIDITY": 0.027483,
           "chl_label": "low chlorophyll",
           "id": 6,
           "index_right": 2,
           "river_label": "low river discharge",
           "sinuosity_label": "straight",
           "slope_label": "steeply sloping",
           "style": {
            "color": "black",
            "fillColor": "grey",
            "fillOpacity": 0.1,
            "weight": 3
           },
           "tidal_label": "moderately tidal",
           "turbid_label": "clear",
           "wave_label": "moderate wave energy"
          },
          "type": "Feature"
         },
         {
          "geometry": {
           "coordinates": [
            [
             [
              -121.54932900000001,
              36.00479599999999
             ],
             [
              -121.54932900000001,
              36.04112303307298
             ],
             [
              -121.50441323579403,
              36.04112303307298
             ],
             [
              -121.50441323579403,
              36.00479599999999
             ],
             [
              -121.54932900000001,
              36.00479599999999
             ]
            ]
           ],
           "type": "Polygon"
          },
          "id": "0",
          "properties": {
           "CHLOROPHYLL": 0.833561,
           "CSU_Descriptor": "steeply sloping, straight, medium erodibility, warm temperate dry, low river discharge, moderate wave energy, moderately tidal, euhaline-oxic-moderate to cool, clear, low chlorophyll",
           "CSU_ID": 62191,
           "Cluster": 6,
           "EMU_PHYSICAL": "Euhaline-Oxic-Moderate to Cool",
           "ERODIBILITY": "Medium",
           "GHM": 0.10134,
           "LENGTH_GEO": 808.6158624684548,
           "MAX_SLOPE": 76.299834,
           "MEAN_SIG_WAVEHEIGHT": 1.687268,
           "MasterKey": 2753661,
           "OBJECTID": 2753661,
           "OUTFLOW_DENSITY": 8671.790039,
           "OUTFLOW_DENSITY_RESCALED": 1.0484883786709782e-05,
           "REGIONAL_SINUOSITY": 1.140924,
           "RandomSort": 3235310.88357964,
           "Shape_Length": 0.008419277882346981,
           "TEMP_MOISTURE": "Warm Temperate Dry",
           "TIDAL_RANGE": 2.416656,
           "TURBIDITY": 0.027483,
           "chl_label": "low chlorophyll",
           "id": 7,
           "index_right": 7,
           "river_label": "low river discharge",
           "sinuosity_label": "straight",
           "slope_label": "steeply sloping",
           "style": {
            "color": "black",
            "fillColor": "grey",
            "fillOpacity": 0.1,
            "weight": 3
           },
           "tidal_label": "moderately tidal",
           "turbid_label": "clear",
           "wave_label": "moderate wave energy"
          },
          "type": "Feature"
         },
         {
          "geometry": {
           "coordinates": [
            [
             [
              -121.54932900000001,
              36.00479599999999
             ],
             [
              -121.54932900000001,
              36.04112303307298
             ],
             [
              -121.50441323579403,
              36.04112303307298
             ],
             [
              -121.50441323579403,
              36.00479599999999
             ],
             [
              -121.54932900000001,
              36.00479599999999
             ]
            ]
           ],
           "type": "Polygon"
          },
          "id": "0",
          "properties": {
           "CHLOROPHYLL": 2.417483,
           "CSU_Descriptor": "steeply sloping, straight, medium erodibility, warm temperate dry, low river discharge, moderate wave energy, moderately tidal, euhaline-oxic-moderate to cool, clear, moderate chlorophyll",
           "CSU_ID": 70981,
           "Cluster": 6,
           "EMU_PHYSICAL": "Euhaline-Oxic-Moderate to Cool",
           "ERODIBILITY": "Medium",
           "GHM": 0.10134,
           "LENGTH_GEO": 808.8271837845471,
           "MAX_SLOPE": 152.033411,
           "MEAN_SIG_WAVEHEIGHT": 1.687268,
           "MasterKey": 2753662,
           "OBJECTID": 2753662,
           "OUTFLOW_DENSITY": 8671.790039,
           "OUTFLOW_DENSITY_RESCALED": 1.0484883786709782e-05,
           "REGIONAL_SINUOSITY": 1.140924,
           "RandomSort": 297054.39133329,
           "Shape_Length": 0.008495092439177234,
           "TEMP_MOISTURE": "Warm Temperate Dry",
           "TIDAL_RANGE": 2.410373,
           "TURBIDITY": 0.024533,
           "chl_label": "moderate chlorophyll",
           "id": 8,
           "index_right": 1,
           "river_label": "low river discharge",
           "sinuosity_label": "straight",
           "slope_label": "steeply sloping",
           "style": {
            "color": "black",
            "fillColor": "grey",
            "fillOpacity": 0.1,
            "weight": 3
           },
           "tidal_label": "moderately tidal",
           "turbid_label": "clear",
           "wave_label": "moderate wave energy"
          },
          "type": "Feature"
         },
         {
          "geometry": {
           "coordinates": [
            [
             [
              -121.54932900000001,
              36.00479599999999
             ],
             [
              -121.54932900000001,
              36.04112303307298
             ],
             [
              -121.50441323579403,
              36.04112303307298
             ],
             [
              -121.50441323579403,
              36.00479599999999
             ],
             [
              -121.54932900000001,
              36.00479599999999
             ]
            ]
           ],
           "type": "Polygon"
          },
          "id": "0",
          "properties": {
           "CHLOROPHYLL": 2.417483,
           "CSU_Descriptor": "steeply sloping, straight, medium erodibility, warm temperate dry, low river discharge, moderate wave energy, moderately tidal, euhaline-oxic-moderate to cool, clear, moderate chlorophyll",
           "CSU_ID": 70981,
           "Cluster": 6,
           "EMU_PHYSICAL": "Euhaline-Oxic-Moderate to Cool",
           "ERODIBILITY": "Medium",
           "GHM": 0.10134,
           "LENGTH_GEO": 808.8271837845471,
           "MAX_SLOPE": 152.033411,
           "MEAN_SIG_WAVEHEIGHT": 1.687268,
           "MasterKey": 2753662,
           "OBJECTID": 2753662,
           "OUTFLOW_DENSITY": 8671.790039,
           "OUTFLOW_DENSITY_RESCALED": 1.0484883786709782e-05,
           "REGIONAL_SINUOSITY": 1.140924,
           "RandomSort": 297054.39133329,
           "Shape_Length": 0.008495092439177234,
           "TEMP_MOISTURE": "Warm Temperate Dry",
           "TIDAL_RANGE": 2.410373,
           "TURBIDITY": 0.024533,
           "chl_label": "moderate chlorophyll",
           "id": 9,
           "index_right": 6,
           "river_label": "low river discharge",
           "sinuosity_label": "straight",
           "slope_label": "steeply sloping",
           "style": {
            "color": "black",
            "fillColor": "grey",
            "fillOpacity": 0.1,
            "weight": 3
           },
           "tidal_label": "moderately tidal",
           "turbid_label": "clear",
           "wave_label": "moderate wave energy"
          },
          "type": "Feature"
         },
         {
          "geometry": {
           "coordinates": [
            [
             [
              -121.54932900000001,
              36.00479599999999
             ],
             [
              -121.54932900000001,
              36.04112303307298
             ],
             [
              -121.50441323579403,
              36.04112303307298
             ],
             [
              -121.50441323579403,
              36.00479599999999
             ],
             [
              -121.54932900000001,
              36.00479599999999
             ]
            ]
           ],
           "type": "Polygon"
          },
          "id": "0",
          "properties": {
           "CHLOROPHYLL": 2.417483,
           "CSU_Descriptor": "steeply sloping, straight, medium erodibility, warm temperate dry, low river discharge, moderate wave energy, moderately tidal, euhaline-oxic-moderate to cool, clear, moderate chlorophyll",
           "CSU_ID": 70981,
           "Cluster": 6,
           "EMU_PHYSICAL": "Euhaline-Oxic-Moderate to Cool",
           "ERODIBILITY": "Medium",
           "GHM": 0.057545,
           "LENGTH_GEO": 808.7053256467224,
           "MAX_SLOPE": 108.650524,
           "MEAN_SIG_WAVEHEIGHT": 1.687268,
           "MasterKey": 2753663,
           "OBJECTID": 2753663,
           "OUTFLOW_DENSITY": 8671.790039,
           "OUTFLOW_DENSITY_RESCALED": 1.0484883786709782e-05,
           "REGIONAL_SINUOSITY": 1.140924,
           "RandomSort": 2361457.62831946,
           "Shape_Length": 0.008435847190592267,
           "TEMP_MOISTURE": "Warm Temperate Dry",
           "TIDAL_RANGE": 2.410373,
           "TURBIDITY": 0.024533,
           "chl_label": "moderate chlorophyll",
           "id": 10,
           "index_right": 0,
           "river_label": "low river discharge",
           "sinuosity_label": "straight",
           "slope_label": "steeply sloping",
           "style": {
            "color": "black",
            "fillColor": "grey",
            "fillOpacity": 0.1,
            "weight": 3
           },
           "tidal_label": "moderately tidal",
           "turbid_label": "clear",
           "wave_label": "moderate wave energy"
          },
          "type": "Feature"
         },
         {
          "geometry": {
           "coordinates": [
            [
             [
              -121.54932900000001,
              36.00479599999999
             ],
             [
              -121.54932900000001,
              36.04112303307298
             ],
             [
              -121.50441323579403,
              36.04112303307298
             ],
             [
              -121.50441323579403,
              36.00479599999999
             ],
             [
              -121.54932900000001,
              36.00479599999999
             ]
            ]
           ],
           "type": "Polygon"
          },
          "id": "0",
          "properties": {
           "CHLOROPHYLL": 2.417483,
           "CSU_Descriptor": "steeply sloping, straight, medium erodibility, warm temperate dry, low river discharge, moderate wave energy, moderately tidal, euhaline-oxic-moderate to cool, clear, moderate chlorophyll",
           "CSU_ID": 70981,
           "Cluster": 6,
           "EMU_PHYSICAL": "Euhaline-Oxic-Moderate to Cool",
           "ERODIBILITY": "Medium",
           "GHM": 0.057545,
           "LENGTH_GEO": 808.7053256467224,
           "MAX_SLOPE": 108.650524,
           "MEAN_SIG_WAVEHEIGHT": 1.687268,
           "MasterKey": 2753663,
           "OBJECTID": 2753663,
           "OUTFLOW_DENSITY": 8671.790039,
           "OUTFLOW_DENSITY_RESCALED": 1.0484883786709782e-05,
           "REGIONAL_SINUOSITY": 1.140924,
           "RandomSort": 2361457.62831946,
           "Shape_Length": 0.008435847190592267,
           "TEMP_MOISTURE": "Warm Temperate Dry",
           "TIDAL_RANGE": 2.410373,
           "TURBIDITY": 0.024533,
           "chl_label": "moderate chlorophyll",
           "id": 11,
           "index_right": 11,
           "river_label": "low river discharge",
           "sinuosity_label": "straight",
           "slope_label": "steeply sloping",
           "style": {
            "color": "black",
            "fillColor": "grey",
            "fillOpacity": 0.1,
            "weight": 3
           },
           "tidal_label": "moderately tidal",
           "turbid_label": "clear",
           "wave_label": "moderate wave energy"
          },
          "type": "Feature"
         }
        ],
        "type": "FeatureCollection"
       },
       "hover_style": {
        "color": "crimson",
        "fillColor": "red"
       },
       "name": "GeoJSON data"
      }
     },
     "4e2a0d5861af42a4a1ac5c93ccd566f9": {
      "model_module": "@jupyter-widgets/controls",
      "model_module_version": "1.5.0",
      "model_name": "VBoxModel",
      "state": {
       "children": [
        "IPY_MODEL_fd8228a1d9f242f08614d06929cc5507",
        "IPY_MODEL_58e36580c4c14eeb9238c0ee2030b242"
       ],
       "layout": "IPY_MODEL_267c83b9c16b4a8481c0dfcc6f2a6609"
      }
     },
     "50bb28706c4a401cae1ab5493e14cb9c": {
      "model_module": "@jupyter-widgets/base",
      "model_module_version": "1.2.0",
      "model_name": "LayoutModel",
      "state": {}
     },
     "50efe9e92a014daa83077348569c1342": {
      "model_module": "@jupyter-widgets/controls",
      "model_module_version": "1.5.0",
      "model_name": "DescriptionStyleModel",
      "state": {
       "description_width": ""
      }
     },
     "5202aa32070e4a06bbd15088be9f5ec3": {
      "model_module": "jupyter-leaflet",
      "model_module_version": "^0.16.0",
      "model_name": "LeafletTileLayerModel",
      "state": {
       "_model_module_version": "^0.16.0",
       "_view_module_version": "^0.16.0",
       "attribution": "Datenquelle: basemap.at",
       "max_native_zoom": 18,
       "max_zoom": 19,
       "min_native_zoom": 0,
       "name": "BasemapAT.grau",
       "options": [
        "attribution",
        "bounds",
        "detect_retina",
        "max_native_zoom",
        "max_zoom",
        "min_native_zoom",
        "min_zoom",
        "no_wrap",
        "tile_size",
        "tms"
       ],
       "url": "https://maps.wien.gv.at/basemap/bmapgrau/normal/google3857/{z}/{y}/{x}.png"
      }
     },
     "527780993e5440edbf1844bcf235b93b": {
      "model_module": "@jupyter-widgets/controls",
      "model_module_version": "1.5.0",
      "model_name": "ProgressStyleModel",
      "state": {
       "description_width": ""
      }
     },
     "528344ecb92b4c568525ead2e0206f7c": {
      "model_module": "@jupyter-widgets/controls",
      "model_module_version": "1.5.0",
      "model_name": "HTMLModel",
      "state": {
       "layout": "IPY_MODEL_1533950198c743f19902f49457c3341a",
       "style": "IPY_MODEL_cb74bd3e40d444a79c60fb66416d76ec",
       "value": "100%"
      }
     },
     "554e2e6f8db44f2ba4ffc3cba56c1140": {
      "model_module": "jupyter-leaflet",
      "model_module_version": "^0.16.0",
      "model_name": "LeafletTileLayerModel",
      "state": {
       "_model_module_version": "^0.16.0",
       "_view_module_version": "^0.16.0",
       "attribution": "Datenquelle: basemap.at",
       "max_native_zoom": 18,
       "max_zoom": 19,
       "min_native_zoom": 0,
       "name": "BasemapAT.surface",
       "options": [
        "attribution",
        "bounds",
        "detect_retina",
        "max_native_zoom",
        "max_zoom",
        "min_native_zoom",
        "min_zoom",
        "no_wrap",
        "tile_size",
        "tms"
       ],
       "url": "https://maps.wien.gv.at/basemap/bmapoberflaeche/grau/google3857/{z}/{y}/{x}.jpeg"
      }
     },
     "563953386bac4fc7b2a6a115a83ac214": {
      "model_module": "@jupyter-widgets/base",
      "model_module_version": "1.2.0",
      "model_name": "LayoutModel",
      "state": {
       "height": "auto",
       "padding": "0px 0px 0px 4px",
       "width": "auto"
      }
     },
     "56b47ae3d5fc42a595c519a1ff3314f2": {
      "model_module": "@jupyter-widgets/controls",
      "model_module_version": "1.5.0",
      "model_name": "DescriptionStyleModel",
      "state": {
       "description_width": ""
      }
     },
     "56d4f12b3ecc42c6a4d670e986af1284": {
      "model_module": "@jupyter-widgets/controls",
      "model_module_version": "1.5.0",
      "model_name": "DescriptionStyleModel",
      "state": {
       "description_width": ""
      }
     },
     "57b5505c06a84e4abbee5c00d7b0a309": {
      "model_module": "jupyter-leaflet",
      "model_module_version": "^0.16.0",
      "model_name": "LeafletTileLayerModel",
      "state": {
       "_model_module_version": "^0.16.0",
       "_view_module_version": "^0.16.0",
       "attribution": "(C) OpenStreetMap contributors, Tiles style by Humanitarian OpenStreetMap Team hosted by OpenStreetMap France",
       "max_native_zoom": 18,
       "max_zoom": 19,
       "min_native_zoom": 0,
       "name": "OpenStreetMap.HOT",
       "options": [
        "attribution",
        "bounds",
        "detect_retina",
        "max_native_zoom",
        "max_zoom",
        "min_native_zoom",
        "min_zoom",
        "no_wrap",
        "tile_size",
        "tms"
       ],
       "url": "https://a.tile.openstreetmap.fr/hot/{z}/{x}/{y}.png"
      }
     },
     "58e36580c4c14eeb9238c0ee2030b242": {
      "model_module": "@jupyter-widgets/controls",
      "model_module_version": "1.5.0",
      "model_name": "RadioButtonsModel",
      "state": {
       "_options_labels": [
        "C01",
        "C02"
       ],
       "description": "Collection:",
       "index": 0,
       "layout": "IPY_MODEL_d13099388ff647afa2734c4e5703c5a5",
       "style": "IPY_MODEL_e290590434b44082b2ed35eee68aca10"
      }
     },
     "59df47450cbc4f099c76df0f4e861659": {
      "model_module": "@jupyter-widgets/base",
      "model_module_version": "1.2.0",
      "model_name": "LayoutModel",
      "state": {}
     },
     "5b3b99b435c14efaadb0a705f756965d": {
      "model_module": "jupyter-leaflet",
      "model_module_version": "^0.16.0",
      "model_name": "LeafletTileLayerModel",
      "state": {
       "_model_module_version": "^0.16.0",
       "_view_module_version": "^0.16.0",
       "attribution": "Map tiles by Stamen Design, CC BY 3.0 -- Map data (C) OpenStreetMap contributors",
       "max_native_zoom": 18,
       "max_zoom": 20,
       "min_native_zoom": 0,
       "name": "Stamen.TonerLite",
       "options": [
        "attribution",
        "bounds",
        "detect_retina",
        "max_native_zoom",
        "max_zoom",
        "min_native_zoom",
        "min_zoom",
        "no_wrap",
        "tile_size",
        "tms"
       ],
       "url": "https://stamen-tiles-a.a.ssl.fastly.net/toner-lite/{z}/{x}/{y}.png"
      }
     },
     "5b6f2552e7ae48a69712823f770040ab": {
      "model_module": "jupyter-leaflet",
      "model_module_version": "^0.16.0",
      "model_name": "LeafletTileLayerModel",
      "state": {
       "_model_module_version": "^0.16.0",
       "_view_module_version": "^0.16.0",
       "attribution": "Tiles (C) Esri -- Source: USGS, Esri, TANA, DeLorme, and NPS",
       "max_native_zoom": 18,
       "max_zoom": 13,
       "min_native_zoom": 0,
       "name": "Esri.WorldTerrain",
       "options": [
        "attribution",
        "bounds",
        "detect_retina",
        "max_native_zoom",
        "max_zoom",
        "min_native_zoom",
        "min_zoom",
        "no_wrap",
        "tile_size",
        "tms"
       ],
       "url": "https://server.arcgisonline.com/ArcGIS/rest/services/World_Terrain_Base/MapServer/tile/{z}/{y}/{x}"
      }
     },
     "5badd619dab940699a11474580cc2deb": {
      "model_module": "@jupyter-widgets/controls",
      "model_module_version": "1.5.0",
      "model_name": "DescriptionStyleModel",
      "state": {
       "description_width": ""
      }
     },
     "5c4c243266a743c68c38cf8ce816e5e4": {
      "model_module": "jupyter-leaflet",
      "model_module_version": "^0.16.0",
      "model_name": "LeafletTileLayerModel",
      "state": {
       "_model_module_version": "^0.16.0",
       "_view_module_version": "^0.16.0",
       "attribution": "Imagery provided by services from the Global Imagery Browse Services (GIBS), operated by the NASA/GSFC/Earth Science Data and Information System (ESDIS) with funding provided by NASA/HQ.",
       "max_native_zoom": 18,
       "max_zoom": 9,
       "min_native_zoom": 0,
       "name": "NASAGIBS.ModisTerraBands367CR",
       "options": [
        "attribution",
        "bounds",
        "detect_retina",
        "max_native_zoom",
        "max_zoom",
        "min_native_zoom",
        "min_zoom",
        "no_wrap",
        "tile_size",
        "tms"
       ],
       "url": "https://map1.vis.earthdata.nasa.gov/wmts-webmerc/MODIS_Terra_CorrectedReflectance_Bands367/default//GoogleMapsCompatible_Level9/{z}/{y}/{x}.jpg"
      }
     },
     "5c4d13051b6e42c1a5c278c4d4a6444b": {
      "model_module": "jupyter-leaflet",
      "model_module_version": "^0.16.0",
      "model_name": "LeafletTileLayerModel",
      "state": {
       "_model_module_version": "^0.16.0",
       "_view_module_version": "^0.16.0",
       "attribution": "(C) OpenStreetMap contributors, vizualization CC-By-SA 2.0 Freemap.sk",
       "max_native_zoom": 18,
       "max_zoom": 16,
       "min_native_zoom": 0,
       "name": "FreeMapSK",
       "options": [
        "attribution",
        "bounds",
        "detect_retina",
        "max_native_zoom",
        "max_zoom",
        "min_native_zoom",
        "min_zoom",
        "no_wrap",
        "tile_size",
        "tms"
       ],
       "url": "https://a.freemap.sk/T/{z}/{x}/{y}.jpeg"
      }
     },
     "5c6a5a9566f24ad796686ab0b0146e33": {
      "model_module": "jupyter-leaflet",
      "model_module_version": "^0.16.0",
      "model_name": "LeafletTileLayerModel",
      "state": {
       "_model_module_version": "^0.16.0",
       "_view_module_version": "^0.16.0",
       "attribution": "Imagery provided by services from the Global Imagery Browse Services (GIBS), operated by the NASA/GSFC/Earth Science Data and Information System (ESDIS) with funding provided by NASA/HQ.",
       "max_native_zoom": 18,
       "max_zoom": 12,
       "min_native_zoom": 0,
       "name": "NASAGIBS.ASTER_GDEM_Greyscale_Shaded_Relief",
       "options": [
        "attribution",
        "bounds",
        "detect_retina",
        "max_native_zoom",
        "max_zoom",
        "min_native_zoom",
        "min_zoom",
        "no_wrap",
        "tile_size",
        "tms"
       ],
       "url": "https://gibs.earthdata.nasa.gov/wmts/epsg3857/best/ASTER_GDEM_Greyscale_Shaded_Relief/default/GoogleMapsCompatible_Level12/{z}/{y}/{x}.jpg"
      }
     },
     "5c7edcf23a9d4e12b735e6da4472d48f": {
      "model_module": "@jupyter-widgets/controls",
      "model_module_version": "1.5.0",
      "model_name": "DescriptionStyleModel",
      "state": {
       "description_width": ""
      }
     },
     "5e2562546bed453b84e6697826c494a7": {
      "model_module": "@jupyter-widgets/base",
      "model_module_version": "1.2.0",
      "model_name": "LayoutModel",
      "state": {}
     },
     "5fba306e62fe46e08294062b70156198": {
      "model_module": "@jupyter-widgets/base",
      "model_module_version": "1.2.0",
      "model_name": "LayoutModel",
      "state": {
       "height": "auto",
       "padding": "0px 0px 0px 4px",
       "width": "auto"
      }
     },
     "60e4d9d903314c6e81436ed7495e6356": {
      "model_module": "@jupyter-widgets/base",
      "model_module_version": "1.2.0",
      "model_name": "LayoutModel",
      "state": {
       "height": "auto",
       "padding": "0px 0px 0px 4px",
       "width": "auto"
      }
     },
     "6141bee21e1848269a8bf422c3b9d94b": {
      "model_module": "@jupyter-widgets/controls",
      "model_module_version": "1.5.0",
      "model_name": "DescriptionStyleModel",
      "state": {
       "description_width": ""
      }
     },
     "62f432adc9264bf8aa5a478d56bc434b": {
      "model_module": "@jupyter-widgets/controls",
      "model_module_version": "1.5.0",
      "model_name": "ButtonStyleModel",
      "state": {}
     },
     "64058873d3454f52a4324a93f0f34dd7": {
      "model_module": "@jupyter-widgets/controls",
      "model_module_version": "1.5.0",
      "model_name": "DescriptionStyleModel",
      "state": {
       "description_width": ""
      }
     },
     "641a28f64c4f438f8f6e1f73e41edbf7": {
      "model_module": "@jupyter-widgets/base",
      "model_module_version": "1.2.0",
      "model_name": "LayoutModel",
      "state": {}
     },
     "66544f833c9f48d9bee3ebd9aa544899": {
      "model_module": "@jupyter-widgets/base",
      "model_module_version": "1.2.0",
      "model_name": "LayoutModel",
      "state": {
       "margin": "0px 0px 0px 20px"
      }
     },
     "67bdd68da2f84c6bb39c324df1dd96ba": {
      "model_module": "@jupyter-widgets/controls",
      "model_module_version": "1.5.0",
      "model_name": "VBoxModel",
      "state": {
       "children": [
        "IPY_MODEL_f0c8f5b2c6fc4654a410032a44826685"
       ],
       "layout": "IPY_MODEL_02d99abeb0014f7782f760194bf4cbaa"
      }
     },
     "681bde3ae6b54344ace5860d76adfabf": {
      "model_module": "jupyter-leaflet",
      "model_module_version": "^0.16.0",
      "model_name": "LeafletTileLayerModel",
      "state": {
       "_model_module_version": "^0.16.0",
       "_view_module_version": "^0.16.0",
       "attribution": "![](https://docs.onemap.sg/maps/images/oneMap64-01.png) New OneMap | Map data (C) contributors, Singapore Land Authority",
       "max_native_zoom": 18,
       "min_native_zoom": 0,
       "name": "OneMapSG.Default",
       "options": [
        "attribution",
        "bounds",
        "detect_retina",
        "max_native_zoom",
        "max_zoom",
        "min_native_zoom",
        "min_zoom",
        "no_wrap",
        "tile_size",
        "tms"
       ],
       "url": "https://maps-a.onemap.sg/v3/Default/{z}/{x}/{y}.png"
      }
     },
     "687722adc7524eb281cbed51e7bac85a": {
      "model_module": "jupyter-leaflet",
      "model_module_version": "^0.16.0",
      "model_name": "LeafletTileLayerModel",
      "state": {
       "_model_module_version": "^0.16.0",
       "_view_module_version": "^0.16.0",
       "attribution": "Datenquelle: basemap.at",
       "max_native_zoom": 18,
       "max_zoom": 19,
       "min_native_zoom": 0,
       "name": "BasemapAT.highdpi",
       "options": [
        "attribution",
        "bounds",
        "detect_retina",
        "max_native_zoom",
        "max_zoom",
        "min_native_zoom",
        "min_zoom",
        "no_wrap",
        "tile_size",
        "tms"
       ],
       "url": "https://maps.wien.gv.at/basemap/bmaphidpi/normal/google3857/{z}/{y}/{x}.jpeg"
      }
     },
     "690e12dd8f924962954cbe3731159477": {
      "model_module": "jupyter-leaflet",
      "model_module_version": "^0.16.0",
      "model_name": "LeafletWMSLayerModel",
      "state": {
       "_model_module_version": "^0.16.0",
       "_view_module_version": "^0.16.0",
       "attribution": "USGS",
       "crs": {
        "custom": false,
        "name": "EPSG3857"
       },
       "format": "image/png",
       "layers": "0",
       "max_native_zoom": 18,
       "min_native_zoom": 0,
       "name": "USGS Hydrography",
       "options": [
        "attribution",
        "bounds",
        "detect_retina",
        "format",
        "layers",
        "max_native_zoom",
        "max_zoom",
        "min_native_zoom",
        "min_zoom",
        "no_wrap",
        "styles",
        "tile_size",
        "tms",
        "transparent",
        "uppercase"
       ],
       "transparent": true,
       "url": "https://basemap.nationalmap.gov/arcgis/services/USGSHydroCached/MapServer/WMSServer?"
      }
     },
     "6a1098b2b49f4a1d8e4bde755283ef34": {
      "model_module": "@jupyter-widgets/controls",
      "model_module_version": "1.5.0",
      "model_name": "VBoxModel",
      "state": {
       "_view_count": 1,
       "children": [
        "IPY_MODEL_a07aabb82d1a4ebfad6376cb161d8f64"
       ],
       "layout": "IPY_MODEL_f5ac6aa283734dbb97ed1815482666a1"
      }
     },
     "6a8e7e8a151743feb3d1c2fa99312e12": {
      "model_module": "jupyter-leaflet",
      "model_module_version": "^0.16.0",
      "model_name": "LeafletTileLayerModel",
      "state": {
       "_model_module_version": "^0.16.0",
       "_view_module_version": "^0.16.0",
       "attribution": "(C) OpenStreetMap contributors (C) CARTO",
       "max_native_zoom": 18,
       "max_zoom": 20,
       "min_native_zoom": 0,
       "name": "CartoDB.Voyager",
       "options": [
        "attribution",
        "bounds",
        "detect_retina",
        "max_native_zoom",
        "max_zoom",
        "min_native_zoom",
        "min_zoom",
        "no_wrap",
        "tile_size",
        "tms"
       ],
       "url": "https://a.basemaps.cartocdn.com/rastertiles/voyager/{z}/{x}/{y}.png"
      }
     },
     "6b2d51c8381e447cbcbc5409c5f2bb9f": {
      "model_module": "@jupyter-widgets/controls",
      "model_module_version": "1.5.0",
      "model_name": "HBoxModel",
      "state": {
       "children": [
        "IPY_MODEL_14c7b715566547a4bcae5de934d5b896",
        "IPY_MODEL_74903a4d8f674fac9a89f4dd276b8db8"
       ],
       "layout": "IPY_MODEL_e6ff4332931649ab817aeaf67125ac1f"
      }
     },
     "6b99d8b7b2e04305acd76dcbf73c8173": {
      "model_module": "@jupyter-widgets/base",
      "model_module_version": "1.2.0",
      "model_name": "LayoutModel",
      "state": {
       "height": "auto",
       "padding": "0px 0px 0px 4px",
       "width": "auto"
      }
     },
     "6b9f59f9fc0f40468e654d83adc3b427": {
      "model_module": "@jupyter-widgets/base",
      "model_module_version": "1.2.0",
      "model_name": "LayoutModel",
      "state": {}
     },
     "6c853c2a822045d4a6e2b92794daec66": {
      "model_module": "@jupyter-widgets/controls",
      "model_module_version": "1.5.0",
      "model_name": "AccordionModel",
      "state": {
       "_titles": {
        "0": "Shoreline Data"
       },
       "children": [
        "IPY_MODEL_c974b59a8a914852be5af1d13fa288e3"
       ],
       "layout": "IPY_MODEL_9a3ad0e6565f46a4993b2d50d26509be"
      }
     },
     "6da507ffd0ea40678d078238d0f280e7": {
      "model_module": "jupyter-leaflet",
      "model_module_version": "^0.16.0",
      "model_name": "LeafletTileLayerModel",
      "state": {
       "_model_module_version": "^0.16.0",
       "_view_module_version": "^0.16.0",
       "attribution": "Justice Map",
       "max_native_zoom": 18,
       "max_zoom": 22,
       "min_native_zoom": 0,
       "name": "JusticeMap.hispanic",
       "options": [
        "attribution",
        "bounds",
        "detect_retina",
        "max_native_zoom",
        "max_zoom",
        "min_native_zoom",
        "min_zoom",
        "no_wrap",
        "tile_size",
        "tms"
       ],
       "url": "https://www.justicemap.org/tile/county/hispanic/{z}/{x}/{y}.png"
      }
     },
     "6dad10fe27ca41c889090ccae64530cf": {
      "model_module": "jupyter-leaflet",
      "model_module_version": "^0.16.0",
      "model_name": "LeafletTileLayerModel",
      "state": {
       "_model_module_version": "^0.16.0",
       "_view_module_version": "^0.16.0",
       "attribution": "(C) OpenStreetMap contributors (C) CARTO",
       "max_native_zoom": 18,
       "max_zoom": 20,
       "min_native_zoom": 0,
       "name": "CartoDB.VoyagerNoLabels",
       "options": [
        "attribution",
        "bounds",
        "detect_retina",
        "max_native_zoom",
        "max_zoom",
        "min_native_zoom",
        "min_zoom",
        "no_wrap",
        "tile_size",
        "tms"
       ],
       "url": "https://a.basemaps.cartocdn.com/rastertiles/voyager_nolabels/{z}/{x}/{y}.png"
      }
     },
     "6ed4456e92a940e195f9456ef5ddd7d8": {
      "model_module": "jupyter-leaflet",
      "model_module_version": "^0.16.0",
      "model_name": "LeafletWMSLayerModel",
      "state": {
       "_model_module_version": "^0.16.0",
       "_view_module_version": "^0.16.0",
       "attribution": "USGS",
       "crs": {
        "custom": false,
        "name": "EPSG3857"
       },
       "format": "image/png",
       "layers": "USGSNAIPImagery:NaturalColor",
       "max_native_zoom": 18,
       "min_native_zoom": 0,
       "name": "USGS NAIP Imagery",
       "options": [
        "attribution",
        "bounds",
        "detect_retina",
        "format",
        "layers",
        "max_native_zoom",
        "max_zoom",
        "min_native_zoom",
        "min_zoom",
        "no_wrap",
        "styles",
        "tile_size",
        "tms",
        "transparent",
        "uppercase"
       ],
       "transparent": true,
       "url": "https://imagery.nationalmap.gov/arcgis/services/USGSNAIPImagery/ImageServer/WMSServer?"
      }
     },
     "6f9dec539a7a4787971d7a09a2fad1e8": {
      "model_module": "@jupyter-widgets/controls",
      "model_module_version": "1.5.0",
      "model_name": "ToggleButtonModel",
      "state": {
       "button_style": "primary",
       "icon": "info",
       "layout": "IPY_MODEL_8e4c1ae990724671b6744e7efe2189fa",
       "style": "IPY_MODEL_cf4d4910ed044f78b1b0ec0959fe9afa",
       "tooltip": "Get COG/STAC pixel value"
      }
     },
     "6fc5f595f12745ecb77b39abc7a6f28a": {
      "model_module": "jupyter-leaflet",
      "model_module_version": "^0.16.0",
      "model_name": "LeafletWMSLayerModel",
      "state": {
       "_model_module_version": "^0.16.0",
       "_view_module_version": "^0.16.0",
       "attribution": "ESA",
       "crs": {
        "custom": false,
        "name": "EPSG3857"
       },
       "format": "image/png",
       "layers": "WORLDCOVER_2020_S2_TCC",
       "max_native_zoom": 18,
       "min_native_zoom": 0,
       "name": "ESA Worldcover 2020 S2 TCC",
       "options": [
        "attribution",
        "bounds",
        "detect_retina",
        "format",
        "layers",
        "max_native_zoom",
        "max_zoom",
        "min_native_zoom",
        "min_zoom",
        "no_wrap",
        "styles",
        "tile_size",
        "tms",
        "transparent",
        "uppercase"
       ],
       "transparent": true,
       "url": "https://services.terrascope.be/wms/v2"
      }
     },
     "6ff153f3be3349acbe94b07e4bf79432": {
      "model_module": "jupyter-leaflet",
      "model_module_version": "^0.16.0",
      "model_name": "LeafletTileLayerModel",
      "state": {
       "_model_module_version": "^0.16.0",
       "_view_module_version": "^0.16.0",
       "attribution": "Map tiles by <a href=\"https://labs.strava.com/heatmap\">Strava 2021</a>",
       "max_native_zoom": 18,
       "max_zoom": 15,
       "min_native_zoom": 0,
       "name": "Strava.Run",
       "options": [
        "attribution",
        "bounds",
        "detect_retina",
        "max_native_zoom",
        "max_zoom",
        "min_native_zoom",
        "min_zoom",
        "no_wrap",
        "tile_size",
        "tms"
       ],
       "url": "https://heatmap-external-a.strava.com/tiles/run/bluered/{z}/{x}/{y}.png"
      }
     },
     "7097f6bb494e4a8c8393942677aa343a": {
      "model_module": "jupyter-leaflet",
      "model_module_version": "^0.16.0",
      "model_name": "LeafletTileLayerModel",
      "state": {
       "_model_module_version": "^0.16.0",
       "_view_module_version": "^0.16.0",
       "attribution": "(C) OpenStreetMap contributors (C) CARTO",
       "max_native_zoom": 18,
       "max_zoom": 20,
       "min_native_zoom": 0,
       "name": "CartoDB.DarkMatterNoLabels",
       "options": [
        "attribution",
        "bounds",
        "detect_retina",
        "max_native_zoom",
        "max_zoom",
        "min_native_zoom",
        "min_zoom",
        "no_wrap",
        "tile_size",
        "tms"
       ],
       "url": "https://a.basemaps.cartocdn.com/dark_nolabels/{z}/{x}/{y}.png"
      }
     },
     "72e9bbab0e1d4f63a36065b561a442a1": {
      "model_module": "jupyter-leaflet",
      "model_module_version": "^0.16.0",
      "model_name": "LeafletTileLayerModel",
      "state": {
       "_model_module_version": "^0.16.0",
       "_view_module_version": "^0.16.0",
       "attribution": "Map tiles by <a href=\"https://labs.strava.com/heatmap\">Strava 2021</a>",
       "max_native_zoom": 18,
       "max_zoom": 15,
       "min_native_zoom": 0,
       "name": "Strava.Ride",
       "options": [
        "attribution",
        "bounds",
        "detect_retina",
        "max_native_zoom",
        "max_zoom",
        "min_native_zoom",
        "min_zoom",
        "no_wrap",
        "tile_size",
        "tms"
       ],
       "url": "https://heatmap-external-a.strava.com/tiles/ride/hot/{z}/{x}/{y}.png"
      }
     },
     "7317efa4221743ef93fdb2a98cb47dd6": {
      "model_module": "jupyter-leaflet",
      "model_module_version": "^0.16.0",
      "model_name": "LeafletTileLayerModel",
      "state": {
       "_model_module_version": "^0.16.0",
       "_view_module_version": "^0.16.0",
       "attribution": "Tiles (C) Esri -- Source: Esri, i-cubed, USDA, USGS, AEX, GeoEye, Getmapping, Aerogrid, IGN, IGP, UPR-EGP, and the GIS User Community",
       "max_native_zoom": 18,
       "max_zoom": 22,
       "min_native_zoom": 0,
       "name": "Esri.WorldImagery",
       "options": [
        "attribution",
        "bounds",
        "detect_retina",
        "max_native_zoom",
        "max_zoom",
        "min_native_zoom",
        "min_zoom",
        "no_wrap",
        "tile_size",
        "tms"
       ],
       "url": "https://server.arcgisonline.com/ArcGIS/rest/services/World_Imagery/MapServer/tile/{z}/{y}/{x}"
      }
     },
     "738888745ab54b63a9a865be01e07fdc": {
      "model_module": "@jupyter-widgets/base",
      "model_module_version": "1.2.0",
      "model_name": "LayoutModel",
      "state": {}
     },
     "73b4c48750a346ec8bf34f7cd21040a0": {
      "model_module": "@jupyter-widgets/base",
      "model_module_version": "1.2.0",
      "model_name": "LayoutModel",
      "state": {}
     },
     "73c6cf7af54f462fb5b05853b053ab97": {
      "model_module": "jupyter-leaflet",
      "model_module_version": "^0.16.0",
      "model_name": "LeafletGeoJSONModel",
      "state": {
       "_model_module_version": "^0.16.0",
       "_view_module_version": "^0.16.0",
       "data": {
        "features": [
         {
          "geometry": {
           "coordinates": [
            [
             -121.51082,
             36.00599618361211
            ],
            [
             -121.51082307599995,
             36.005999676000044
            ],
            [
             -121.51088943899998,
             36.00606805900003
            ],
            [
             -121.511090293,
             36.006271447000074
            ],
            [
             -121.51115788799996,
             36.00633860000005
            ],
            [
             -121.51137264099998,
             36.00652808800004
            ],
            [
             -121.51141082699996,
             36.006557276000024
            ],
            [
             -121.51146512699995,
             36.00658382200004
            ],
            [
             -121.51152706299996,
             36.00660273600005
            ],
            [
             -121.51159426899994,
             36.006616380000025
            ],
            [
             -121.51166477799995,
             36.00662672000004
            ],
            [
             -121.51180908699996,
             36.00664410500008
            ],
            [
             -121.51187982,
             36.006654221000076
            ],
            [
             -121.51194747099998,
             36.00666741800006
            ],
            [
             -121.51201020399998,
             36.00668553500003
            ],
            [
             -121.51206583699997,
             36.006710750000025
            ],
            [
             -121.512500118,
             36.00693095400004
            ],
            [
             -121.512716636,
             36.00707055500004
            ],
            [
             -121.51275646999994,
             36.00709809600005
            ],
            [
             -121.51281106799996,
             36.00712276000007
            ],
            [
             -121.51287290299996,
             36.00714018800005
            ],
            [
             -121.512940131,
             36.00715222400004
            ],
            [
             -121.51301130399997,
             36.00716031300004
            ],
            [
             -121.51308530299997,
             36.00716557700008
            ],
            [
             -121.51323845599995,
             36.007170951000035
            ],
            [
             -121.51347226699994,
             36.007174930000076
            ],
            [
             -121.51362506299995,
             36.00718065900003
            ],
            [
             -121.51369879899994,
             36.00718618600007
            ],
            [
             -121.51376967999994,
             36.007194569000035
            ],
            [
             -121.51383661499995,
             36.00720689700006
            ],
            [
             -121.51389820999998,
             36.00722456500006
            ],
            [
             -121.51395269199998,
             36.00724934700003
            ],
            [
             -121.51399260499994,
             36.00727680600005
            ],
            [
             -121.51406578099994,
             36.00733837700005
            ],
            [
             -121.51410562299998,
             36.00736591100008
            ],
            [
             -121.51416039099996,
             36.00739099000003
            ],
            [
             -121.51422230799994,
             36.00740892300007
            ],
            [
             -121.51428958399998,
             36.00742149900003
            ],
            [
             -121.51436082199996,
             36.007430112000065
            ],
            [
             -121.51443494999995,
             36.007435833000045
            ],
            [
             -121.51451116399994,
             36.007439469000076
            ],
            [
             -121.51466759199997,
             36.00744274500005
            ],
            [
             -121.51490719399999,
             36.00744269300003
            ],
            [
             -121.51538987499998,
             36.00743912100006
            ],
            [
             -121.51562787399996,
             36.00744068300003
            ],
            [
             -121.51578166099995,
             36.007446608000066
            ],
            [
             -121.515855709,
             36.00745242100004
            ],
            [
             -121.51586844899998,
             36.00745398400005
            ]
           ],
           "type": "LineString"
          },
          "id": "0",
          "properties": {
           "CHLOROPHYLL": 2.417483,
           "CSU_Descriptor": "steeply sloping, straight, medium erodibility, warm temperate dry, low river discharge, moderate wave energy, moderately tidal, euhaline-oxic-moderate to cool, clear, moderate chlorophyll",
           "CSU_ID": 70981,
           "Cluster": 6,
           "EMU_PHYSICAL": "Euhaline-Oxic-Moderate to Cool",
           "ERODIBILITY": "Medium",
           "GHM": 0.057545,
           "LENGTH_GEO": 808.7053256467224,
           "MAX_SLOPE": 108.650524,
           "MEAN_SIG_WAVEHEIGHT": 1.687268,
           "MasterKey": 2753663,
           "OBJECTID": 2753663,
           "OUTFLOW_DENSITY": 8671.790039,
           "OUTFLOW_DENSITY_RESCALED": 1.0484883786709782e-05,
           "REGIONAL_SINUOSITY": 1.140924,
           "RandomSort": 2361457.62831946,
           "Shape_Length": 0.008435847190592267,
           "TEMP_MOISTURE": "Warm Temperate Dry",
           "TIDAL_RANGE": 2.410373,
           "TURBIDITY": 0.024533,
           "chl_label": "moderate chlorophyll",
           "river_label": "low river discharge",
           "sinuosity_label": "straight",
           "slope_label": "steeply sloping",
           "style": {
            "color": "yellow",
            "dashArray": "5",
            "fillOpacity": 0.5,
            "fill_color": "yellow",
            "opacity": 1,
            "weight": 4
           },
           "tidal_label": "moderately tidal",
           "turbid_label": "clear",
           "wave_label": "moderate wave energy"
          },
          "type": "Feature"
         },
         {
          "geometry": {
           "coordinates": [
            [
             -121.51586844899998,
             36.00745398400005
            ],
            [
             -121.51592684499997,
             36.00746114700007
            ],
            [
             -121.51599399599996,
             36.00747386200004
            ],
            [
             -121.51605576399999,
             36.007491962000074
            ],
            [
             -121.51611035499997,
             36.00751724600008
            ],
            [
             -121.51615001699997,
             36.007544981000024
            ],
            [
             -121.51622276399996,
             36.00760705000005
            ],
            [
             -121.51626242099996,
             36.00763481100006
            ],
            [
             -121.51631772899998,
             36.00766041800006
            ],
            [
             -121.51638036399999,
             36.00767871200003
            ],
            [
             -121.51644847399996,
             36.007691557000044
            ],
            [
             -121.51652061099998,
             36.007700396000075
            ],
            [
             -121.51659567999997,
             36.00770633500008
            ],
            [
             -121.51667284999996,
             36.007710211000074
            ],
            [
             -121.51683119599994,
             36.007714100000044
            ],
            [
             -121.516992475,
             36.00771531000004
            ],
            [
             -121.517889406,
             36.00771641600005
            ],
            [
             -121.51805033899996,
             36.00771468700003
            ],
            [
             -121.51820709199995,
             36.007708723000064
            ],
            [
             -121.51828255799995,
             36.007702762000065
            ],
            [
             -121.51835494799997,
             36.00769365700006
            ],
            [
             -121.51842303399997,
             36.00768016200004
            ],
            [
             -121.51848520099998,
             36.00766063900005
            ],
            [
             -121.51853932699998,
             36.00763295300004
            ],
            [
             -121.51857719799995,
             36.007602545000054
            ],
            [
             -121.51871346099995,
             36.00746477400003
            ],
            [
             -121.51892668099998,
             36.00726895400004
            ],
            [
             -121.51896347699994,
             36.00723961800003
            ],
            [
             -121.51901272999999,
             36.00721514400004
            ],
            [
             -121.51906798699997,
             36.007199557000035
            ],
            [
             -121.51912674099998,
             36.00719163200006
            ],
            [
             -121.51918667799998,
             36.00719077800005
            ],
            [
             -121.51924553199996,
             36.00719702200007
            ],
            [
             -121.51930095399996,
             36.00721101900007
            ],
            [
             -121.51935036299994,
             36.00723408400006
            ],
            [
             -121.51938718899999,
             36.00726242400003
            ],
            [
             -121.51958751099994,
             36.00746749500007
            ],
            [
             -121.51961660899997,
             36.00750667600005
            ],
            [
             -121.51964153699998,
             36.007559755000045
            ],
            [
             -121.51965892399994,
             36.007620313000075
            ],
            [
             -121.51967074899994,
             36.00768634700006
            ],
            [
             -121.51967858599994,
             36.00775627300004
            ],
            [
             -121.51968368899998,
             36.007828837000034
            ],
            [
             -121.51969560699996,
             36.00812674000008
            ],
            [
             -121.51970065899997,
             36.008198976000074
            ],
            [
             -121.51970842199995,
             36.00826845000006
            ],
            [
             -121.51972015099994,
             36.00833391500004
            ],
            [
             -121.51973741699999,
             36.008393811000076
            ],
            [
             -121.51976219299996,
             36.00844616200004
            ],
            [
             -121.519791135,
             36.008484690000046
            ],
            [
             -121.51999001499996,
             36.00869036200004
            ],
            [
             -121.52002654799998,
             36.008721226000034
            ],
            [
             -121.52007563799998,
             36.00874915900005
            ],
            [
             -121.52056746799997,
             36.00898889300004
            ],
            [
             -121.52062271899996,
             36.009013492000065
            ],
            [
             -121.52068522099995,
             36.00903084200007
            ],
            [
             -121.52075310999999,
             36.00904280700007
            ],
            [
             -121.52082494499996,
             36.00905082400004
            ],
            [
             -121.52089963199995,
             36.00905598700007
            ],
            [
             -121.521054489,
             36.009060831000056
            ],
            [
             -121.52129358399998,
             36.009061288000055
            ],
            [
             -121.52177722099998,
             36.00905675300004
            ],
            [
             -121.52201695899998,
             36.00905656500004
            ],
            [
             -121.52217339999999,
             36.009059826000055
            ],
            [
             -121.52224960199999,
             36.009063473000026
            ],
            [
             -121.52232370699994,
             36.009069219000025
            ],
            [
             -121.52239490699998,
             36.009077870000056
            ],
            [
             -121.52246212899996,
             36.009090496000056
            ],
            [
             -121.52252398099995,
             36.00910849400003
            ],
            [
             -121.522578668,
             36.00913365700006
            ],
            [
             -121.52261842899998,
             36.00916127100004
            ],
            [
             -121.52269141499994,
             36.00922303300007
            ],
            [
             -121.52273121999997,
             36.009250602000066
            ],
            [
             -121.52278673199999,
             36.00927593600005
            ],
            [
             -121.52284961099997,
             36.009293909000064
            ],
            [
             -121.52291799099999,
             36.00930637700003
            ],
            [
             -121.52294237299998,
             36.00930920300004
            ]
           ],
           "type": "LineString"
          },
          "id": "1",
          "properties": {
           "CHLOROPHYLL": 2.417483,
           "CSU_Descriptor": "steeply sloping, straight, medium erodibility, warm temperate dry, low river discharge, moderate wave energy, moderately tidal, euhaline-oxic-moderate to cool, clear, moderate chlorophyll",
           "CSU_ID": 70981,
           "Cluster": 6,
           "EMU_PHYSICAL": "Euhaline-Oxic-Moderate to Cool",
           "ERODIBILITY": "Medium",
           "GHM": 0.10134,
           "LENGTH_GEO": 808.8271837845471,
           "MAX_SLOPE": 152.033411,
           "MEAN_SIG_WAVEHEIGHT": 1.687268,
           "MasterKey": 2753662,
           "OBJECTID": 2753662,
           "OUTFLOW_DENSITY": 8671.790039,
           "OUTFLOW_DENSITY_RESCALED": 1.0484883786709782e-05,
           "REGIONAL_SINUOSITY": 1.140924,
           "RandomSort": 297054.39133329,
           "Shape_Length": 0.008495092439177234,
           "TEMP_MOISTURE": "Warm Temperate Dry",
           "TIDAL_RANGE": 2.410373,
           "TURBIDITY": 0.024533,
           "chl_label": "moderate chlorophyll",
           "river_label": "low river discharge",
           "sinuosity_label": "straight",
           "slope_label": "steeply sloping",
           "style": {
            "color": "yellow",
            "dashArray": "5",
            "fillOpacity": 0.5,
            "fill_color": "yellow",
            "opacity": 1,
            "weight": 4
           },
           "tidal_label": "moderately tidal",
           "turbid_label": "clear",
           "wave_label": "moderate wave energy"
          },
          "type": "Feature"
         },
         {
          "geometry": {
           "coordinates": [
            [
             -121.52294237299998,
             36.00930920300004
            ],
            [
             -121.52299043799997,
             36.00931477600005
            ],
            [
             -121.52306584699994,
             36.00932021500006
            ],
            [
             -121.52314337799999,
             36.00932353400003
            ],
            [
             -121.52330241599998,
             36.00932619200006
            ],
            [
             -121.52370608799998,
             36.00932676200006
            ],
            [
             -121.52386335299997,
             36.00933119200005
            ],
            [
             -121.52393923899996,
             36.009336157000064
            ],
            [
             -121.52401222299994,
             36.00934402000007
            ],
            [
             -121.52408117099998,
             36.009355921000065
            ],
            [
             -121.52414459399995,
             36.009373347000064
            ],
            [
             -121.52420056299997,
             36.00939822500004
            ],
            [
             -121.52469040399995,
             36.00963986900007
            ],
            [
             -121.524739453,
             36.009667818000025
            ],
            [
             -121.52477615099997,
             36.00969849400008
            ],
            [
             -121.52498804699997,
             36.00989084100007
            ],
            [
             -121.52505498,
             36.00995865700003
            ],
            [
             -121.52524430899996,
             36.010173569000074
            ],
            [
             -121.52527439299996,
             36.01021086000003
            ],
            [
             -121.52530164799998,
             36.01026060300006
            ],
            [
             -121.52532298699998,
             36.010316259000035
            ],
            [
             -121.52537568099996,
             36.010494562000076
            ],
            [
             -121.52539703399998,
             36.01055020700005
            ],
            [
             -121.52542430699998,
             36.01059993400003
            ],
            [
             -121.52545441199999,
             36.010637202000055
            ],
            [
             -121.52564404199995,
             36.010851812000055
            ],
            [
             -121.52571117599996,
             36.01091942800008
            ],
            [
             -121.52592423599998,
             36.01111061000006
            ],
            [
             -121.52596123499995,
             36.011140984000065
            ],
            [
             -121.52601066999995,
             36.01116854600008
            ],
            [
             -121.52606607099995,
             36.01119014400007
            ],
            [
             -121.52639046799999,
             36.01131811400006
            ],
            [
             -121.526840156,
             36.01153253700005
            ],
            [
             -121.52688911499996,
             36.01156057700007
            ],
            [
             -121.52692569299995,
             36.011591373000044
            ],
            [
             -121.52706057599994,
             36.011725985000055
            ],
            [
             -121.52727633599994,
             36.011914465000075
            ],
            [
             -121.52731440599996,
             36.01194376700005
            ],
            [
             -121.52736857399998,
             36.011970448000056
            ],
            [
             -121.52743039399996,
             36.01198947700004
            ],
            [
             -121.527497499,
             36.01200322100004
            ],
            [
             -121.52756790899997,
             36.01201365800006
            ],
            [
             -121.52771190599998,
             36.01203135800006
            ],
            [
             -121.52778230699994,
             36.01204180700006
            ],
            [
             -121.52784938999997,
             36.012055571000076
            ],
            [
             -121.52791118099998,
             36.01207463000003
            ],
            [
             -121.52796530899997,
             36.01210135100007
            ],
            [
             -121.528003335,
             36.01213069700003
            ],
            [
             -121.52821858099998,
             36.01231969600008
            ],
            [
             -121.52849233899997,
             36.01253680000008
            ],
            [
             -121.52892722099995,
             36.01275640600005
            ],
            [
             -121.52898061199994,
             36.012780013000054
            ],
            [
             -121.52904083699997,
             36.01279678800006
            ],
            [
             -121.52910613899996,
             36.012808481000036
            ],
            [
             -121.52917511499999,
             36.012816506000036
            ],
            [
             -121.52924661599997,
             36.012822001000075
            ],
            [
             -121.52954030299998,
             36.01283630700004
            ],
            [
             -121.52961161299999,
             36.012841998000056
            ],
            [
             -121.52968023799997,
             36.01285037100007
            ],
            [
             -121.529744946,
             36.01286266200003
            ],
            [
             -121.52980419999994,
             36.01288040600008
            ],
            [
             -121.52985607199997,
             36.01290553300004
            ],
            [
             -121.52989436099995,
             36.01293461900008
            ],
            [
             -121.53001979599998,
             36.013046710000026
            ]
           ],
           "type": "LineString"
          },
          "id": "2",
          "properties": {
           "CHLOROPHYLL": 0.833561,
           "CSU_Descriptor": "steeply sloping, straight, medium erodibility, warm temperate dry, low river discharge, moderate wave energy, moderately tidal, euhaline-oxic-moderate to cool, clear, low chlorophyll",
           "CSU_ID": 62191,
           "Cluster": 6,
           "EMU_PHYSICAL": "Euhaline-Oxic-Moderate to Cool",
           "ERODIBILITY": "Medium",
           "GHM": 0.10134,
           "LENGTH_GEO": 808.6158624684548,
           "MAX_SLOPE": 76.299834,
           "MEAN_SIG_WAVEHEIGHT": 1.687268,
           "MasterKey": 2753661,
           "OBJECTID": 2753661,
           "OUTFLOW_DENSITY": 8671.790039,
           "OUTFLOW_DENSITY_RESCALED": 1.0484883786709782e-05,
           "REGIONAL_SINUOSITY": 1.140924,
           "RandomSort": 3235310.88357964,
           "Shape_Length": 0.008419277882346981,
           "TEMP_MOISTURE": "Warm Temperate Dry",
           "TIDAL_RANGE": 2.416656,
           "TURBIDITY": 0.027483,
           "chl_label": "low chlorophyll",
           "river_label": "low river discharge",
           "sinuosity_label": "straight",
           "slope_label": "steeply sloping",
           "style": {
            "color": "yellow",
            "dashArray": "5",
            "fillOpacity": 0.5,
            "fill_color": "yellow",
            "opacity": 1,
            "weight": 4
           },
           "tidal_label": "moderately tidal",
           "turbid_label": "clear",
           "wave_label": "moderate wave energy"
          },
          "type": "Feature"
         },
         {
          "geometry": {
           "coordinates": [
            [
             -121.53001979599998,
             36.013046710000026
            ],
            [
             -121.53010783599996,
             36.01312538500008
            ],
            [
             -121.53014334699998,
             36.01315724500006
            ],
            [
             -121.53017468399997,
             36.01319328300008
            ],
            [
             -121.53029845299994,
             36.01333900900005
            ],
            [
             -121.53049737899994,
             36.013544325000055
            ],
            [
             -121.53056436799994,
             36.013612083000055
            ],
            [
             -121.53077520199997,
             36.01380549100003
            ],
            [
             -121.53081175499995,
             36.01383631200008
            ],
            [
             -121.53086067699996,
             36.01386439000004
            ],
            [
             -121.53135124,
             36.01410531100004
            ],
            [
             -121.53140450999996,
             36.01412904000006
            ],
            [
             -121.53146456599995,
             36.01414598400004
            ],
            [
             -121.53152965099997,
             36.01415789400005
            ],
            [
             -121.53159836199995,
             36.014166182000054
            ],
            [
             -121.53166955799998,
             36.014171986000065
            ],
            [
             -121.53196185699994,
             36.01418768100007
            ],
            [
             -121.53203293899998,
             36.01419359800008
            ],
            [
             -121.53210150799998,
             36.01420202700007
            ],
            [
             -121.53216645499998,
             36.014214080000045
            ],
            [
             -121.53222640399997,
             36.01423112700007
            ],
            [
             -121.53290144599998,
             36.01446853600004
            ],
            [
             -121.53319957399998,
             36.014615132000074
            ],
            [
             -121.53323981899996,
             36.01464227500003
            ],
            [
             -121.53329471799998,
             36.01466666300007
            ],
            [
             -121.53335673599997,
             36.014683941000044
            ],
            [
             -121.53342408199995,
             36.01469589800007
            ],
            [
             -121.53349535899997,
             36.01470393400007
            ],
            [
             -121.53356946899999,
             36.01470914600003
            ],
            [
             -121.53372295799994,
             36.014714352000055
            ],
            [
             -121.53395763199995,
             36.01471789900006
            ],
            [
             -121.53411110699994,
             36.01472341200008
            ],
            [
             -121.53418510299997,
             36.014728984000044
            ],
            [
             -121.534256084,
             36.01473762400008
            ],
            [
             -121.53432283599994,
             36.014750556000024
            ],
            [
             -121.53438378699997,
             36.014769355000055
            ],
            [
             -121.53443691099994,
             36.014796051000076
            ],
            [
             -121.53447484599997,
             36.01482601200007
            ],
            [
             -121.53461076599996,
             36.014961913000036
            ],
            [
             -121.53482122899999,
             36.015153878000035
            ],
            [
             -121.534857295,
             36.01518238500006
            ],
            [
             -121.53490563999998,
             36.01520586100003
            ],
            [
             -121.53495995299994,
             36.01522042700003
            ],
            [
             -121.53501779099997,
             36.01522737400006
            ],
            [
             -121.53507693499995,
             36.01522738600005
            ],
            [
             -121.53513527099994,
             36.01522058300003
            ],
            [
             -121.535190667,
             36.01520652500005
            ],
            [
             -121.53524085799995,
             36.01518421500003
            ],
            [
             -121.53527937599995,
             36.01515754500008
            ],
            [
             -121.53535137699998,
             36.01509609900006
            ],
            [
             -121.53539112399994,
             36.015068204000045
            ],
            [
             -121.535446214,
             36.015042433000076
            ],
            [
             -121.53550863799995,
             36.01502374700004
            ],
            [
             -121.53557650599998,
             36.015010407000034
            ],
            [
             -121.535648359,
             36.015001046000066
            ],
            [
             -121.53572308399998,
             36.01499460900004
            ],
            [
             -121.53587802799996,
             36.01498748500006
            ],
            [
             -121.53603696899995,
             36.01498472600008
            ],
            [
             -121.53619762599999,
             36.01498398500007
            ],
            [
             -121.53756718999995,
             36.01498332700004
            ],
            [
             -121.53772548899997,
             36.01498543200006
            ],
            [
             -121.53780327399994,
             36.014987835000056
            ],
            [
             -121.53787959299996,
             36.01499170500006
            ],
            [
             -121.53795314799999,
             36.01499759700005
            ]
           ],
           "type": "LineString"
          },
          "id": "3",
          "properties": {
           "CHLOROPHYLL": 2.417483,
           "CSU_Descriptor": "steeply sloping, straight, medium erodibility, warm temperate dry, low river discharge, moderate wave energy, moderately tidal, euhaline-oxic-moderate to cool, clear, moderate chlorophyll",
           "CSU_ID": 70981,
           "Cluster": 6,
           "EMU_PHYSICAL": "Euhaline-Oxic-Moderate to Cool",
           "ERODIBILITY": "Medium",
           "GHM": 0.115889,
           "LENGTH_GEO": 809.0954052047207,
           "MAX_SLOPE": 165.896272,
           "MEAN_SIG_WAVEHEIGHT": 1.687268,
           "MasterKey": 2753660,
           "OBJECTID": 2753660,
           "OUTFLOW_DENSITY": 8671.790039,
           "OUTFLOW_DENSITY_RESCALED": 1.0484883786709782e-05,
           "REGIONAL_SINUOSITY": 1.140924,
           "RandomSort": 3897464.57070746,
           "Shape_Length": 0.008658662143014698,
           "TEMP_MOISTURE": "Warm Temperate Dry",
           "TIDAL_RANGE": 2.416656,
           "TURBIDITY": 0.027483,
           "chl_label": "moderate chlorophyll",
           "river_label": "low river discharge",
           "sinuosity_label": "straight",
           "slope_label": "steeply sloping",
           "style": {
            "color": "yellow",
            "dashArray": "5",
            "fillOpacity": 0.5,
            "fill_color": "yellow",
            "opacity": 1,
            "weight": 4
           },
           "tidal_label": "moderately tidal",
           "turbid_label": "clear",
           "wave_label": "moderate wave energy"
          },
          "type": "Feature"
         },
         {
          "geometry": {
           "coordinates": [
            [
             -121.53795314799999,
             36.01499759700005
            ],
            [
             -121.53795383199997,
             36.014997651000044
            ],
            [
             -121.53802517399998,
             36.01500649800005
            ],
            [
             -121.538092539,
             36.015019333000055
            ],
            [
             -121.53815451199995,
             36.015037566000046
            ],
            [
             -121.53820928399995,
             36.015063017000045
            ],
            [
             -121.53824894399997,
             36.01509082800004
            ],
            [
             -121.53832172499995,
             36.01515304800006
            ],
            [
             -121.53836141799997,
             36.01518088900008
            ],
            [
             -121.53841513999998,
             36.01520599100007
            ],
            [
             -121.53847585499994,
             36.015224138000065
            ],
            [
             -121.53854184899996,
             36.01523705900007
            ],
            [
             -121.53861176899994,
             36.01524610900003
            ],
            [
             -121.53868458199997,
             36.015252331000056
            ],
            [
             -121.53883590299995,
             36.01525927200004
            ],
            [
             -121.53907025199999,
             36.01526272700005
            ],
            [
             -121.53938642999998,
             36.01526264600005
            ],
            [
             -121.53962088199995,
             36.01525903500004
            ],
            [
             -121.53977233899997,
             36.01525193900005
            ],
            [
             -121.539845244,
             36.015245615000026
            ],
            [
             -121.53991528399996,
             36.01523644200006
            ],
            [
             -121.53998141999995,
             36.01522337200004
            ],
            [
             -121.54004231399995,
             36.01520504600006
            ],
            [
             -121.54009624399998,
             36.01517973000006
            ],
            [
             -121.54013614899998,
             36.01515167700006
            ],
            [
             -121.54020945199994,
             36.01508893000005
            ],
            [
             -121.54024942999996,
             36.01506080000007
            ],
            [
             -121.54030399299995,
             36.015035159000035
            ],
            [
             -121.54036567499998,
             36.01501655200008
            ],
            [
             -121.540432706,
             36.015003224000054
            ],
            [
             -121.54050369099997,
             36.01499381000008
            ],
            [
             -121.540577542,
             36.01498728300004
            ],
            [
             -121.54065340399995,
             36.01498288700003
            ],
            [
             -121.54073059599995,
             36.014980098000024
            ],
            [
             -121.54088677899995,
             36.01497819100007
            ],
            [
             -121.54096478799994,
             36.01497893100003
            ],
            [
             -121.54104206599999,
             36.01498098500008
            ],
            [
             -121.54111801799996,
             36.01498471600007
            ],
            [
             -121.54119190299997,
             36.014990703000024
            ],
            [
             -121.54126277999995,
             36.014999776000025
            ],
            [
             -121.54132943499997,
             36.01501308700006
            ],
            [
             -121.54139029499999,
             36.01503216300006
            ],
            [
             -121.54144333699998,
             36.01505900400008
            ],
            [
             -121.54148121799994,
             36.01508897400004
            ],
            [
             -121.54161719599995,
             36.01522391800006
            ],
            [
             -121.54183136599994,
             36.01541503200008
            ],
            [
             -121.54186920999996,
             36.01544465600006
            ],
            [
             -121.54192314699998,
             36.015471656000045
            ],
            [
             -121.541984792,
             36.01549093600005
            ],
            [
             -121.54205176899995,
             36.015504864000036
            ],
            [
             -121.54212210599997,
             36.01551542400006
            ],
            [
             -121.54226609399996,
             36.01553320000005
            ],
            [
             -121.54233654799998,
             36.01554361700005
            ],
            [
             -121.54240371799995,
             36.015557314000034
            ],
            [
             -121.54246561399998,
             36.01557628100005
            ],
            [
             -121.54251985099995,
             36.01560290400005
            ],
            [
             -121.54255795399996,
             36.01563218300004
            ],
            [
             -121.54277151899998,
             36.015822883000055
            ],
            [
             -121.542807101,
             36.015854674000025
            ],
            [
             -121.54283852999998,
             36.015890623000075
            ],
            [
             -121.542896467,
             36.01596743500005
            ],
            [
             -121.54292786899998,
             36.016003409000064
            ],
            [
             -121.54317432899995,
             36.01622856600005
            ],
            [
             -121.543211021,
             36.01625924700005
            ],
            [
             -121.54326014999998,
             36.01628711700005
            ],
            [
             -121.54331528799997,
             36.01630897700005
            ],
            [
             -121.54363898799994,
             36.01643764500005
            ],
            [
             -121.54408953299998,
             36.01665121100007
            ],
            [
             -121.54413862999996,
             36.01667911100003
            ],
            [
             -121.54417528899995,
             36.01670982600007
            ],
            [
             -121.54442127699997,
             36.01693545400008
            ],
            [
             -121.54445256199995,
             36.01697154200008
            ],
            [
             -121.54451021999995,
             36.01704863200007
            ],
            [
             -121.54454148399998,
             36.017084742000065
            ],
            [
             -121.54457688899998,
             36.01711671000004
            ],
            [
             -121.54478952499994,
             36.017308316000026
            ],
            [
             -121.54482767299999,
             36.01733754300005
            ],
            [
             -121.54487938299997,
             36.01736283200006
            ],
            [
             -121.54493847199996,
             36.01738074000008
            ],
            [
             -121.54500300899997,
             36.01739320200005
            ],
            [
             -121.54507145399998,
             36.01740175500004
            ],
            [
             -121.54514257099999,
             36.01740763500004
            ],
            [
             -121.54543535599998,
             36.017422845000056
            ],
            [
             -121.54550661399998,
             36.01742858500006
            ],
            [
             -121.54557535799995,
             36.01743683900003
            ],
            [
             -121.54557643799996,
             36.01743703600005
            ]
           ],
           "type": "LineString"
          },
          "id": "4",
          "properties": {
           "CHLOROPHYLL": 2.417483,
           "CSU_Descriptor": "vertical, straight, medium erodibility, warm temperate dry, low river discharge, moderate wave energy, moderately tidal, euhaline-oxic-moderate to cool, clear, moderate chlorophyll",
           "CSU_ID": 71260,
           "Cluster": 6,
           "EMU_PHYSICAL": "Euhaline-Oxic-Moderate to Cool",
           "ERODIBILITY": "Medium",
           "GHM": 0.133607,
           "LENGTH_GEO": 808.8794813016038,
           "MAX_SLOPE": 318.587599,
           "MEAN_SIG_WAVEHEIGHT": 1.687268,
           "MasterKey": 2753659,
           "OBJECTID": 2753659,
           "OUTFLOW_DENSITY": 8671.790039,
           "OUTFLOW_DENSITY_RESCALED": 1.0484883786709782e-05,
           "REGIONAL_SINUOSITY": 1.270183,
           "RandomSort": 1593234.33411067,
           "Shape_Length": 0.008565231531598157,
           "TEMP_MOISTURE": "Warm Temperate Dry",
           "TIDAL_RANGE": 2.416656,
           "TURBIDITY": 0.027483,
           "chl_label": "moderate chlorophyll",
           "river_label": "low river discharge",
           "sinuosity_label": "straight",
           "slope_label": "vertical",
           "style": {
            "color": "yellow",
            "dashArray": "5",
            "fillOpacity": 0.5,
            "fill_color": "yellow",
            "opacity": 1,
            "weight": 4
           },
           "tidal_label": "moderately tidal",
           "turbid_label": "clear",
           "wave_label": "moderate wave energy"
          },
          "type": "Feature"
         },
         {
          "geometry": {
           "coordinates": [
            [
             -121.54557643799996,
             36.01743703600005
            ],
            [
             -121.54564046899998,
             36.017448726000055
            ],
            [
             -121.54570057599994,
             36.017465618000074
            ],
            [
             -121.547370662,
             36.01802848800003
            ],
            [
             -121.54799219999995,
             36.01824238200004
            ],
            [
             -121.54828958499996,
             36.01838966500003
            ],
            [
             -121.54832960799996,
             36.01841701500007
            ],
            [
             -121.548383721,
             36.018441504000066
            ],
            [
             -121.54844481499998,
             36.01845901400003
            ],
            [
             -121.54851115499997,
             36.01847127600007
            ],
            [
             -121.54858138499998,
             36.01847964800004
            ],
            [
             -121.548654468,
             36.01848516800004
            ],
            [
             -121.54880622099995,
             36.01849061900003
            ],
            [
             -121.54896219099999,
             36.01849185400005
            ],
            [
             -121.549329,
             36.01849008691166
            ]
           ],
           "type": "LineString"
          },
          "id": "5",
          "properties": {
           "CHLOROPHYLL": 0.873553,
           "CSU_Descriptor": "steeply sloping, straight, medium erodibility, warm temperate dry, low river discharge, moderate wave energy, moderately tidal, euhaline-oxic-moderate to cool, clear, low chlorophyll",
           "CSU_ID": 62191,
           "Cluster": 6,
           "EMU_PHYSICAL": "Euhaline-Oxic-Moderate to Cool",
           "ERODIBILITY": "Medium",
           "GHM": 0.144511,
           "LENGTH_GEO": 809.2201719767945,
           "MAX_SLOPE": 109.272652,
           "MEAN_SIG_WAVEHEIGHT": 1.687268,
           "MasterKey": 2753658,
           "OBJECTID": 2753658,
           "OUTFLOW_DENSITY": 8671.790039,
           "OUTFLOW_DENSITY_RESCALED": 1.0484883786709782e-05,
           "REGIONAL_SINUOSITY": 1.270183,
           "RandomSort": 3366707.6827197,
           "Shape_Length": 0.008735799579888025,
           "TEMP_MOISTURE": "Warm Temperate Dry",
           "TIDAL_RANGE": 2.416656,
           "TURBIDITY": 0.027483,
           "chl_label": "low chlorophyll",
           "river_label": "low river discharge",
           "sinuosity_label": "straight",
           "slope_label": "steeply sloping",
           "style": {
            "color": "yellow",
            "dashArray": "5",
            "fillOpacity": 0.5,
            "fill_color": "yellow",
            "opacity": 1,
            "weight": 4
           },
           "tidal_label": "moderately tidal",
           "turbid_label": "clear",
           "wave_label": "moderate wave energy"
          },
          "type": "Feature"
         },
         {
          "geometry": {
           "coordinates": [
            [
             -121.51586844899998,
             36.00745398400005
            ],
            [
             -121.51592684499997,
             36.00746114700007
            ],
            [
             -121.51599399599996,
             36.00747386200004
            ],
            [
             -121.51605576399999,
             36.007491962000074
            ],
            [
             -121.51611035499997,
             36.00751724600008
            ],
            [
             -121.51615001699997,
             36.007544981000024
            ],
            [
             -121.51622276399996,
             36.00760705000005
            ],
            [
             -121.51626242099996,
             36.00763481100006
            ],
            [
             -121.51631772899998,
             36.00766041800006
            ],
            [
             -121.51638036399999,
             36.00767871200003
            ],
            [
             -121.51644847399996,
             36.007691557000044
            ],
            [
             -121.51652061099998,
             36.007700396000075
            ],
            [
             -121.51659567999997,
             36.00770633500008
            ],
            [
             -121.51667284999996,
             36.007710211000074
            ],
            [
             -121.51683119599994,
             36.007714100000044
            ],
            [
             -121.516992475,
             36.00771531000004
            ],
            [
             -121.517889406,
             36.00771641600005
            ],
            [
             -121.51805033899996,
             36.00771468700003
            ],
            [
             -121.51820709199995,
             36.007708723000064
            ],
            [
             -121.51828255799995,
             36.007702762000065
            ],
            [
             -121.51835494799997,
             36.00769365700006
            ],
            [
             -121.51842303399997,
             36.00768016200004
            ],
            [
             -121.51848520099998,
             36.00766063900005
            ],
            [
             -121.51853932699998,
             36.00763295300004
            ],
            [
             -121.51857719799995,
             36.007602545000054
            ],
            [
             -121.51871346099995,
             36.00746477400003
            ],
            [
             -121.51892668099998,
             36.00726895400004
            ],
            [
             -121.51896347699994,
             36.00723961800003
            ],
            [
             -121.51901272999999,
             36.00721514400004
            ],
            [
             -121.51906798699997,
             36.007199557000035
            ],
            [
             -121.51912674099998,
             36.00719163200006
            ],
            [
             -121.51918667799998,
             36.00719077800005
            ],
            [
             -121.51924553199996,
             36.00719702200007
            ],
            [
             -121.51930095399996,
             36.00721101900007
            ],
            [
             -121.51935036299994,
             36.00723408400006
            ],
            [
             -121.51938718899999,
             36.00726242400003
            ],
            [
             -121.51958751099994,
             36.00746749500007
            ],
            [
             -121.51961660899997,
             36.00750667600005
            ],
            [
             -121.51964153699998,
             36.007559755000045
            ],
            [
             -121.51965892399994,
             36.007620313000075
            ],
            [
             -121.51967074899994,
             36.00768634700006
            ],
            [
             -121.51967858599994,
             36.00775627300004
            ],
            [
             -121.51968368899998,
             36.007828837000034
            ],
            [
             -121.51969560699996,
             36.00812674000008
            ],
            [
             -121.51970065899997,
             36.008198976000074
            ],
            [
             -121.51970842199995,
             36.00826845000006
            ],
            [
             -121.51972015099994,
             36.00833391500004
            ],
            [
             -121.51973741699999,
             36.008393811000076
            ],
            [
             -121.51976219299996,
             36.00844616200004
            ],
            [
             -121.519791135,
             36.008484690000046
            ],
            [
             -121.51999001499996,
             36.00869036200004
            ],
            [
             -121.52002654799998,
             36.008721226000034
            ],
            [
             -121.52007563799998,
             36.00874915900005
            ],
            [
             -121.52056746799997,
             36.00898889300004
            ],
            [
             -121.52062271899996,
             36.009013492000065
            ],
            [
             -121.52068522099995,
             36.00903084200007
            ],
            [
             -121.52075310999999,
             36.00904280700007
            ],
            [
             -121.52082494499996,
             36.00905082400004
            ],
            [
             -121.52089963199995,
             36.00905598700007
            ],
            [
             -121.521054489,
             36.009060831000056
            ],
            [
             -121.52129358399998,
             36.009061288000055
            ],
            [
             -121.52177722099998,
             36.00905675300004
            ],
            [
             -121.52201695899998,
             36.00905656500004
            ],
            [
             -121.52217339999999,
             36.009059826000055
            ],
            [
             -121.52224960199999,
             36.009063473000026
            ],
            [
             -121.52232370699994,
             36.009069219000025
            ],
            [
             -121.52239490699998,
             36.009077870000056
            ],
            [
             -121.52246212899996,
             36.009090496000056
            ],
            [
             -121.52252398099995,
             36.00910849400003
            ],
            [
             -121.522578668,
             36.00913365700006
            ],
            [
             -121.52261842899998,
             36.00916127100004
            ],
            [
             -121.52269141499994,
             36.00922303300007
            ],
            [
             -121.52273121999997,
             36.009250602000066
            ],
            [
             -121.52278673199999,
             36.00927593600005
            ],
            [
             -121.52284961099997,
             36.009293909000064
            ],
            [
             -121.52291799099999,
             36.00930637700003
            ],
            [
             -121.52294237299998,
             36.00930920300004
            ]
           ],
           "type": "LineString"
          },
          "id": "6",
          "properties": {
           "CHLOROPHYLL": 2.417483,
           "CSU_Descriptor": "steeply sloping, straight, medium erodibility, warm temperate dry, low river discharge, moderate wave energy, moderately tidal, euhaline-oxic-moderate to cool, clear, moderate chlorophyll",
           "CSU_ID": 70981,
           "Cluster": 6,
           "EMU_PHYSICAL": "Euhaline-Oxic-Moderate to Cool",
           "ERODIBILITY": "Medium",
           "GHM": 0.10134,
           "LENGTH_GEO": 808.8271837845471,
           "MAX_SLOPE": 152.033411,
           "MEAN_SIG_WAVEHEIGHT": 1.687268,
           "MasterKey": 2753662,
           "OBJECTID": 2753662,
           "OUTFLOW_DENSITY": 8671.790039,
           "OUTFLOW_DENSITY_RESCALED": 1.0484883786709782e-05,
           "REGIONAL_SINUOSITY": 1.140924,
           "RandomSort": 297054.39133329,
           "Shape_Length": 0.008495092439177234,
           "TEMP_MOISTURE": "Warm Temperate Dry",
           "TIDAL_RANGE": 2.410373,
           "TURBIDITY": 0.024533,
           "chl_label": "moderate chlorophyll",
           "river_label": "low river discharge",
           "sinuosity_label": "straight",
           "slope_label": "steeply sloping",
           "style": {
            "color": "yellow",
            "dashArray": "5",
            "fillOpacity": 0.5,
            "fill_color": "yellow",
            "opacity": 1,
            "weight": 4
           },
           "tidal_label": "moderately tidal",
           "turbid_label": "clear",
           "wave_label": "moderate wave energy"
          },
          "type": "Feature"
         },
         {
          "geometry": {
           "coordinates": [
            [
             -121.52294237299998,
             36.00930920300004
            ],
            [
             -121.52299043799997,
             36.00931477600005
            ],
            [
             -121.52306584699994,
             36.00932021500006
            ],
            [
             -121.52314337799999,
             36.00932353400003
            ],
            [
             -121.52330241599998,
             36.00932619200006
            ],
            [
             -121.52370608799998,
             36.00932676200006
            ],
            [
             -121.52386335299997,
             36.00933119200005
            ],
            [
             -121.52393923899996,
             36.009336157000064
            ],
            [
             -121.52401222299994,
             36.00934402000007
            ],
            [
             -121.52408117099998,
             36.009355921000065
            ],
            [
             -121.52414459399995,
             36.009373347000064
            ],
            [
             -121.52420056299997,
             36.00939822500004
            ],
            [
             -121.52469040399995,
             36.00963986900007
            ],
            [
             -121.524739453,
             36.009667818000025
            ],
            [
             -121.52477615099997,
             36.00969849400008
            ],
            [
             -121.52498804699997,
             36.00989084100007
            ],
            [
             -121.52505498,
             36.00995865700003
            ],
            [
             -121.52524430899996,
             36.010173569000074
            ],
            [
             -121.52527439299996,
             36.01021086000003
            ],
            [
             -121.52530164799998,
             36.01026060300006
            ],
            [
             -121.52532298699998,
             36.010316259000035
            ],
            [
             -121.52537568099996,
             36.010494562000076
            ],
            [
             -121.52539703399998,
             36.01055020700005
            ],
            [
             -121.52542430699998,
             36.01059993400003
            ],
            [
             -121.52545441199999,
             36.010637202000055
            ],
            [
             -121.52564404199995,
             36.010851812000055
            ],
            [
             -121.52571117599996,
             36.01091942800008
            ],
            [
             -121.52592423599998,
             36.01111061000006
            ],
            [
             -121.52596123499995,
             36.011140984000065
            ],
            [
             -121.52601066999995,
             36.01116854600008
            ],
            [
             -121.52606607099995,
             36.01119014400007
            ],
            [
             -121.52639046799999,
             36.01131811400006
            ],
            [
             -121.526840156,
             36.01153253700005
            ],
            [
             -121.52688911499996,
             36.01156057700007
            ],
            [
             -121.52692569299995,
             36.011591373000044
            ],
            [
             -121.52706057599994,
             36.011725985000055
            ],
            [
             -121.52727633599994,
             36.011914465000075
            ],
            [
             -121.52731440599996,
             36.01194376700005
            ],
            [
             -121.52736857399998,
             36.011970448000056
            ],
            [
             -121.52743039399996,
             36.01198947700004
            ],
            [
             -121.527497499,
             36.01200322100004
            ],
            [
             -121.52756790899997,
             36.01201365800006
            ],
            [
             -121.52771190599998,
             36.01203135800006
            ],
            [
             -121.52778230699994,
             36.01204180700006
            ],
            [
             -121.52784938999997,
             36.012055571000076
            ],
            [
             -121.52791118099998,
             36.01207463000003
            ],
            [
             -121.52796530899997,
             36.01210135100007
            ],
            [
             -121.528003335,
             36.01213069700003
            ],
            [
             -121.52821858099998,
             36.01231969600008
            ],
            [
             -121.52849233899997,
             36.01253680000008
            ],
            [
             -121.52892722099995,
             36.01275640600005
            ],
            [
             -121.52898061199994,
             36.012780013000054
            ],
            [
             -121.52904083699997,
             36.01279678800006
            ],
            [
             -121.52910613899996,
             36.012808481000036
            ],
            [
             -121.52917511499999,
             36.012816506000036
            ],
            [
             -121.52924661599997,
             36.012822001000075
            ],
            [
             -121.52954030299998,
             36.01283630700004
            ],
            [
             -121.52961161299999,
             36.012841998000056
            ],
            [
             -121.52968023799997,
             36.01285037100007
            ],
            [
             -121.529744946,
             36.01286266200003
            ],
            [
             -121.52980419999994,
             36.01288040600008
            ],
            [
             -121.52985607199997,
             36.01290553300004
            ],
            [
             -121.52989436099995,
             36.01293461900008
            ],
            [
             -121.53001979599998,
             36.013046710000026
            ]
           ],
           "type": "LineString"
          },
          "id": "7",
          "properties": {
           "CHLOROPHYLL": 0.833561,
           "CSU_Descriptor": "steeply sloping, straight, medium erodibility, warm temperate dry, low river discharge, moderate wave energy, moderately tidal, euhaline-oxic-moderate to cool, clear, low chlorophyll",
           "CSU_ID": 62191,
           "Cluster": 6,
           "EMU_PHYSICAL": "Euhaline-Oxic-Moderate to Cool",
           "ERODIBILITY": "Medium",
           "GHM": 0.10134,
           "LENGTH_GEO": 808.6158624684548,
           "MAX_SLOPE": 76.299834,
           "MEAN_SIG_WAVEHEIGHT": 1.687268,
           "MasterKey": 2753661,
           "OBJECTID": 2753661,
           "OUTFLOW_DENSITY": 8671.790039,
           "OUTFLOW_DENSITY_RESCALED": 1.0484883786709782e-05,
           "REGIONAL_SINUOSITY": 1.140924,
           "RandomSort": 3235310.88357964,
           "Shape_Length": 0.008419277882346981,
           "TEMP_MOISTURE": "Warm Temperate Dry",
           "TIDAL_RANGE": 2.416656,
           "TURBIDITY": 0.027483,
           "chl_label": "low chlorophyll",
           "river_label": "low river discharge",
           "sinuosity_label": "straight",
           "slope_label": "steeply sloping",
           "style": {
            "color": "yellow",
            "dashArray": "5",
            "fillOpacity": 0.5,
            "fill_color": "yellow",
            "opacity": 1,
            "weight": 4
           },
           "tidal_label": "moderately tidal",
           "turbid_label": "clear",
           "wave_label": "moderate wave energy"
          },
          "type": "Feature"
         },
         {
          "geometry": {
           "coordinates": [
            [
             -121.53001979599998,
             36.013046710000026
            ],
            [
             -121.53010783599996,
             36.01312538500008
            ],
            [
             -121.53014334699998,
             36.01315724500006
            ],
            [
             -121.53017468399997,
             36.01319328300008
            ],
            [
             -121.53029845299994,
             36.01333900900005
            ],
            [
             -121.53049737899994,
             36.013544325000055
            ],
            [
             -121.53056436799994,
             36.013612083000055
            ],
            [
             -121.53077520199997,
             36.01380549100003
            ],
            [
             -121.53081175499995,
             36.01383631200008
            ],
            [
             -121.53086067699996,
             36.01386439000004
            ],
            [
             -121.53135124,
             36.01410531100004
            ],
            [
             -121.53140450999996,
             36.01412904000006
            ],
            [
             -121.53146456599995,
             36.01414598400004
            ],
            [
             -121.53152965099997,
             36.01415789400005
            ],
            [
             -121.53159836199995,
             36.014166182000054
            ],
            [
             -121.53166955799998,
             36.014171986000065
            ],
            [
             -121.53196185699994,
             36.01418768100007
            ],
            [
             -121.53203293899998,
             36.01419359800008
            ],
            [
             -121.53210150799998,
             36.01420202700007
            ],
            [
             -121.53216645499998,
             36.014214080000045
            ],
            [
             -121.53222640399997,
             36.01423112700007
            ],
            [
             -121.53290144599998,
             36.01446853600004
            ],
            [
             -121.53319957399998,
             36.014615132000074
            ],
            [
             -121.53323981899996,
             36.01464227500003
            ],
            [
             -121.53329471799998,
             36.01466666300007
            ],
            [
             -121.53335673599997,
             36.014683941000044
            ],
            [
             -121.53342408199995,
             36.01469589800007
            ],
            [
             -121.53349535899997,
             36.01470393400007
            ],
            [
             -121.53356946899999,
             36.01470914600003
            ],
            [
             -121.53372295799994,
             36.014714352000055
            ],
            [
             -121.53395763199995,
             36.01471789900006
            ],
            [
             -121.53411110699994,
             36.01472341200008
            ],
            [
             -121.53418510299997,
             36.014728984000044
            ],
            [
             -121.534256084,
             36.01473762400008
            ],
            [
             -121.53432283599994,
             36.014750556000024
            ],
            [
             -121.53438378699997,
             36.014769355000055
            ],
            [
             -121.53443691099994,
             36.014796051000076
            ],
            [
             -121.53447484599997,
             36.01482601200007
            ],
            [
             -121.53461076599996,
             36.014961913000036
            ],
            [
             -121.53482122899999,
             36.015153878000035
            ],
            [
             -121.534857295,
             36.01518238500006
            ],
            [
             -121.53490563999998,
             36.01520586100003
            ],
            [
             -121.53495995299994,
             36.01522042700003
            ],
            [
             -121.53501779099997,
             36.01522737400006
            ],
            [
             -121.53507693499995,
             36.01522738600005
            ],
            [
             -121.53513527099994,
             36.01522058300003
            ],
            [
             -121.535190667,
             36.01520652500005
            ],
            [
             -121.53524085799995,
             36.01518421500003
            ],
            [
             -121.53527937599995,
             36.01515754500008
            ],
            [
             -121.53535137699998,
             36.01509609900006
            ],
            [
             -121.53539112399994,
             36.015068204000045
            ],
            [
             -121.535446214,
             36.015042433000076
            ],
            [
             -121.53550863799995,
             36.01502374700004
            ],
            [
             -121.53557650599998,
             36.015010407000034
            ],
            [
             -121.535648359,
             36.015001046000066
            ],
            [
             -121.53572308399998,
             36.01499460900004
            ],
            [
             -121.53587802799996,
             36.01498748500006
            ],
            [
             -121.53603696899995,
             36.01498472600008
            ],
            [
             -121.53619762599999,
             36.01498398500007
            ],
            [
             -121.53756718999995,
             36.01498332700004
            ],
            [
             -121.53772548899997,
             36.01498543200006
            ],
            [
             -121.53780327399994,
             36.014987835000056
            ],
            [
             -121.53787959299996,
             36.01499170500006
            ],
            [
             -121.53795314799999,
             36.01499759700005
            ]
           ],
           "type": "LineString"
          },
          "id": "8",
          "properties": {
           "CHLOROPHYLL": 2.417483,
           "CSU_Descriptor": "steeply sloping, straight, medium erodibility, warm temperate dry, low river discharge, moderate wave energy, moderately tidal, euhaline-oxic-moderate to cool, clear, moderate chlorophyll",
           "CSU_ID": 70981,
           "Cluster": 6,
           "EMU_PHYSICAL": "Euhaline-Oxic-Moderate to Cool",
           "ERODIBILITY": "Medium",
           "GHM": 0.115889,
           "LENGTH_GEO": 809.0954052047207,
           "MAX_SLOPE": 165.896272,
           "MEAN_SIG_WAVEHEIGHT": 1.687268,
           "MasterKey": 2753660,
           "OBJECTID": 2753660,
           "OUTFLOW_DENSITY": 8671.790039,
           "OUTFLOW_DENSITY_RESCALED": 1.0484883786709782e-05,
           "REGIONAL_SINUOSITY": 1.140924,
           "RandomSort": 3897464.57070746,
           "Shape_Length": 0.008658662143014698,
           "TEMP_MOISTURE": "Warm Temperate Dry",
           "TIDAL_RANGE": 2.416656,
           "TURBIDITY": 0.027483,
           "chl_label": "moderate chlorophyll",
           "river_label": "low river discharge",
           "sinuosity_label": "straight",
           "slope_label": "steeply sloping",
           "style": {
            "color": "yellow",
            "dashArray": "5",
            "fillOpacity": 0.5,
            "fill_color": "yellow",
            "opacity": 1,
            "weight": 4
           },
           "tidal_label": "moderately tidal",
           "turbid_label": "clear",
           "wave_label": "moderate wave energy"
          },
          "type": "Feature"
         },
         {
          "geometry": {
           "coordinates": [
            [
             -121.53795314799999,
             36.01499759700005
            ],
            [
             -121.53795383199997,
             36.014997651000044
            ],
            [
             -121.53802517399998,
             36.01500649800005
            ],
            [
             -121.538092539,
             36.015019333000055
            ],
            [
             -121.53815451199995,
             36.015037566000046
            ],
            [
             -121.53820928399995,
             36.015063017000045
            ],
            [
             -121.53824894399997,
             36.01509082800004
            ],
            [
             -121.53832172499995,
             36.01515304800006
            ],
            [
             -121.53836141799997,
             36.01518088900008
            ],
            [
             -121.53841513999998,
             36.01520599100007
            ],
            [
             -121.53847585499994,
             36.015224138000065
            ],
            [
             -121.53854184899996,
             36.01523705900007
            ],
            [
             -121.53861176899994,
             36.01524610900003
            ],
            [
             -121.53868458199997,
             36.015252331000056
            ],
            [
             -121.53883590299995,
             36.01525927200004
            ],
            [
             -121.53907025199999,
             36.01526272700005
            ],
            [
             -121.53938642999998,
             36.01526264600005
            ],
            [
             -121.53962088199995,
             36.01525903500004
            ],
            [
             -121.53977233899997,
             36.01525193900005
            ],
            [
             -121.539845244,
             36.015245615000026
            ],
            [
             -121.53991528399996,
             36.01523644200006
            ],
            [
             -121.53998141999995,
             36.01522337200004
            ],
            [
             -121.54004231399995,
             36.01520504600006
            ],
            [
             -121.54009624399998,
             36.01517973000006
            ],
            [
             -121.54013614899998,
             36.01515167700006
            ],
            [
             -121.54020945199994,
             36.01508893000005
            ],
            [
             -121.54024942999996,
             36.01506080000007
            ],
            [
             -121.54030399299995,
             36.015035159000035
            ],
            [
             -121.54036567499998,
             36.01501655200008
            ],
            [
             -121.540432706,
             36.015003224000054
            ],
            [
             -121.54050369099997,
             36.01499381000008
            ],
            [
             -121.540577542,
             36.01498728300004
            ],
            [
             -121.54065340399995,
             36.01498288700003
            ],
            [
             -121.54073059599995,
             36.014980098000024
            ],
            [
             -121.54088677899995,
             36.01497819100007
            ],
            [
             -121.54096478799994,
             36.01497893100003
            ],
            [
             -121.54104206599999,
             36.01498098500008
            ],
            [
             -121.54111801799996,
             36.01498471600007
            ],
            [
             -121.54119190299997,
             36.014990703000024
            ],
            [
             -121.54126277999995,
             36.014999776000025
            ],
            [
             -121.54132943499997,
             36.01501308700006
            ],
            [
             -121.54139029499999,
             36.01503216300006
            ],
            [
             -121.54144333699998,
             36.01505900400008
            ],
            [
             -121.54148121799994,
             36.01508897400004
            ],
            [
             -121.54161719599995,
             36.01522391800006
            ],
            [
             -121.54183136599994,
             36.01541503200008
            ],
            [
             -121.54186920999996,
             36.01544465600006
            ],
            [
             -121.54192314699998,
             36.015471656000045
            ],
            [
             -121.541984792,
             36.01549093600005
            ],
            [
             -121.54205176899995,
             36.015504864000036
            ],
            [
             -121.54212210599997,
             36.01551542400006
            ],
            [
             -121.54226609399996,
             36.01553320000005
            ],
            [
             -121.54233654799998,
             36.01554361700005
            ],
            [
             -121.54240371799995,
             36.015557314000034
            ],
            [
             -121.54246561399998,
             36.01557628100005
            ],
            [
             -121.54251985099995,
             36.01560290400005
            ],
            [
             -121.54255795399996,
             36.01563218300004
            ],
            [
             -121.54277151899998,
             36.015822883000055
            ],
            [
             -121.542807101,
             36.015854674000025
            ],
            [
             -121.54283852999998,
             36.015890623000075
            ],
            [
             -121.542896467,
             36.01596743500005
            ],
            [
             -121.54292786899998,
             36.016003409000064
            ],
            [
             -121.54317432899995,
             36.01622856600005
            ],
            [
             -121.543211021,
             36.01625924700005
            ],
            [
             -121.54326014999998,
             36.01628711700005
            ],
            [
             -121.54331528799997,
             36.01630897700005
            ],
            [
             -121.54363898799994,
             36.01643764500005
            ],
            [
             -121.54408953299998,
             36.01665121100007
            ],
            [
             -121.54413862999996,
             36.01667911100003
            ],
            [
             -121.54417528899995,
             36.01670982600007
            ],
            [
             -121.54442127699997,
             36.01693545400008
            ],
            [
             -121.54445256199995,
             36.01697154200008
            ],
            [
             -121.54451021999995,
             36.01704863200007
            ],
            [
             -121.54454148399998,
             36.017084742000065
            ],
            [
             -121.54457688899998,
             36.01711671000004
            ],
            [
             -121.54478952499994,
             36.017308316000026
            ],
            [
             -121.54482767299999,
             36.01733754300005
            ],
            [
             -121.54487938299997,
             36.01736283200006
            ],
            [
             -121.54493847199996,
             36.01738074000008
            ],
            [
             -121.54500300899997,
             36.01739320200005
            ],
            [
             -121.54507145399998,
             36.01740175500004
            ],
            [
             -121.54514257099999,
             36.01740763500004
            ],
            [
             -121.54543535599998,
             36.017422845000056
            ],
            [
             -121.54550661399998,
             36.01742858500006
            ],
            [
             -121.54557535799995,
             36.01743683900003
            ],
            [
             -121.54557643799996,
             36.01743703600005
            ]
           ],
           "type": "LineString"
          },
          "id": "9",
          "properties": {
           "CHLOROPHYLL": 2.417483,
           "CSU_Descriptor": "vertical, straight, medium erodibility, warm temperate dry, low river discharge, moderate wave energy, moderately tidal, euhaline-oxic-moderate to cool, clear, moderate chlorophyll",
           "CSU_ID": 71260,
           "Cluster": 6,
           "EMU_PHYSICAL": "Euhaline-Oxic-Moderate to Cool",
           "ERODIBILITY": "Medium",
           "GHM": 0.133607,
           "LENGTH_GEO": 808.8794813016038,
           "MAX_SLOPE": 318.587599,
           "MEAN_SIG_WAVEHEIGHT": 1.687268,
           "MasterKey": 2753659,
           "OBJECTID": 2753659,
           "OUTFLOW_DENSITY": 8671.790039,
           "OUTFLOW_DENSITY_RESCALED": 1.0484883786709782e-05,
           "REGIONAL_SINUOSITY": 1.270183,
           "RandomSort": 1593234.33411067,
           "Shape_Length": 0.008565231531598157,
           "TEMP_MOISTURE": "Warm Temperate Dry",
           "TIDAL_RANGE": 2.416656,
           "TURBIDITY": 0.027483,
           "chl_label": "moderate chlorophyll",
           "river_label": "low river discharge",
           "sinuosity_label": "straight",
           "slope_label": "vertical",
           "style": {
            "color": "yellow",
            "dashArray": "5",
            "fillOpacity": 0.5,
            "fill_color": "yellow",
            "opacity": 1,
            "weight": 4
           },
           "tidal_label": "moderately tidal",
           "turbid_label": "clear",
           "wave_label": "moderate wave energy"
          },
          "type": "Feature"
         },
         {
          "geometry": {
           "coordinates": [
            [
             -121.54557643799996,
             36.01743703600005
            ],
            [
             -121.54564046899998,
             36.017448726000055
            ],
            [
             -121.54570057599994,
             36.017465618000074
            ],
            [
             -121.547370662,
             36.01802848800003
            ],
            [
             -121.54799219999995,
             36.01824238200004
            ],
            [
             -121.54828958499996,
             36.01838966500003
            ],
            [
             -121.54832960799996,
             36.01841701500007
            ],
            [
             -121.548383721,
             36.018441504000066
            ],
            [
             -121.54844481499998,
             36.01845901400003
            ],
            [
             -121.54851115499997,
             36.01847127600007
            ],
            [
             -121.54858138499998,
             36.01847964800004
            ],
            [
             -121.548654468,
             36.01848516800004
            ],
            [
             -121.54880622099995,
             36.01849061900003
            ],
            [
             -121.54896219099999,
             36.01849185400005
            ],
            [
             -121.549329,
             36.01849008691166
            ]
           ],
           "type": "LineString"
          },
          "id": "10",
          "properties": {
           "CHLOROPHYLL": 0.873553,
           "CSU_Descriptor": "steeply sloping, straight, medium erodibility, warm temperate dry, low river discharge, moderate wave energy, moderately tidal, euhaline-oxic-moderate to cool, clear, low chlorophyll",
           "CSU_ID": 62191,
           "Cluster": 6,
           "EMU_PHYSICAL": "Euhaline-Oxic-Moderate to Cool",
           "ERODIBILITY": "Medium",
           "GHM": 0.144511,
           "LENGTH_GEO": 809.2201719767945,
           "MAX_SLOPE": 109.272652,
           "MEAN_SIG_WAVEHEIGHT": 1.687268,
           "MasterKey": 2753658,
           "OBJECTID": 2753658,
           "OUTFLOW_DENSITY": 8671.790039,
           "OUTFLOW_DENSITY_RESCALED": 1.0484883786709782e-05,
           "REGIONAL_SINUOSITY": 1.270183,
           "RandomSort": 3366707.6827197,
           "Shape_Length": 0.008735799579888025,
           "TEMP_MOISTURE": "Warm Temperate Dry",
           "TIDAL_RANGE": 2.416656,
           "TURBIDITY": 0.027483,
           "chl_label": "low chlorophyll",
           "river_label": "low river discharge",
           "sinuosity_label": "straight",
           "slope_label": "steeply sloping",
           "style": {
            "color": "yellow",
            "dashArray": "5",
            "fillOpacity": 0.5,
            "fill_color": "yellow",
            "opacity": 1,
            "weight": 4
           },
           "tidal_label": "moderately tidal",
           "turbid_label": "clear",
           "wave_label": "moderate wave energy"
          },
          "type": "Feature"
         },
         {
          "geometry": {
           "coordinates": [
            [
             -121.51082,
             36.00599618361211
            ],
            [
             -121.51082307599995,
             36.005999676000044
            ],
            [
             -121.51088943899998,
             36.00606805900003
            ],
            [
             -121.511090293,
             36.006271447000074
            ],
            [
             -121.51115788799996,
             36.00633860000005
            ],
            [
             -121.51137264099998,
             36.00652808800004
            ],
            [
             -121.51141082699996,
             36.006557276000024
            ],
            [
             -121.51146512699995,
             36.00658382200004
            ],
            [
             -121.51152706299996,
             36.00660273600005
            ],
            [
             -121.51159426899994,
             36.006616380000025
            ],
            [
             -121.51166477799995,
             36.00662672000004
            ],
            [
             -121.51180908699996,
             36.00664410500008
            ],
            [
             -121.51187982,
             36.006654221000076
            ],
            [
             -121.51194747099998,
             36.00666741800006
            ],
            [
             -121.51201020399998,
             36.00668553500003
            ],
            [
             -121.51206583699997,
             36.006710750000025
            ],
            [
             -121.512500118,
             36.00693095400004
            ],
            [
             -121.512716636,
             36.00707055500004
            ],
            [
             -121.51275646999994,
             36.00709809600005
            ],
            [
             -121.51281106799996,
             36.00712276000007
            ],
            [
             -121.51287290299996,
             36.00714018800005
            ],
            [
             -121.512940131,
             36.00715222400004
            ],
            [
             -121.51301130399997,
             36.00716031300004
            ],
            [
             -121.51308530299997,
             36.00716557700008
            ],
            [
             -121.51323845599995,
             36.007170951000035
            ],
            [
             -121.51347226699994,
             36.007174930000076
            ],
            [
             -121.51362506299995,
             36.00718065900003
            ],
            [
             -121.51369879899994,
             36.00718618600007
            ],
            [
             -121.51376967999994,
             36.007194569000035
            ],
            [
             -121.51383661499995,
             36.00720689700006
            ],
            [
             -121.51389820999998,
             36.00722456500006
            ],
            [
             -121.51395269199998,
             36.00724934700003
            ],
            [
             -121.51399260499994,
             36.00727680600005
            ],
            [
             -121.51406578099994,
             36.00733837700005
            ],
            [
             -121.51410562299998,
             36.00736591100008
            ],
            [
             -121.51416039099996,
             36.00739099000003
            ],
            [
             -121.51422230799994,
             36.00740892300007
            ],
            [
             -121.51428958399998,
             36.00742149900003
            ],
            [
             -121.51436082199996,
             36.007430112000065
            ],
            [
             -121.51443494999995,
             36.007435833000045
            ],
            [
             -121.51451116399994,
             36.007439469000076
            ],
            [
             -121.51466759199997,
             36.00744274500005
            ],
            [
             -121.51490719399999,
             36.00744269300003
            ],
            [
             -121.51538987499998,
             36.00743912100006
            ],
            [
             -121.51562787399996,
             36.00744068300003
            ],
            [
             -121.51578166099995,
             36.007446608000066
            ],
            [
             -121.515855709,
             36.00745242100004
            ],
            [
             -121.51586844899998,
             36.00745398400005
            ]
           ],
           "type": "LineString"
          },
          "id": "11",
          "properties": {
           "CHLOROPHYLL": 2.417483,
           "CSU_Descriptor": "steeply sloping, straight, medium erodibility, warm temperate dry, low river discharge, moderate wave energy, moderately tidal, euhaline-oxic-moderate to cool, clear, moderate chlorophyll",
           "CSU_ID": 70981,
           "Cluster": 6,
           "EMU_PHYSICAL": "Euhaline-Oxic-Moderate to Cool",
           "ERODIBILITY": "Medium",
           "GHM": 0.057545,
           "LENGTH_GEO": 808.7053256467224,
           "MAX_SLOPE": 108.650524,
           "MEAN_SIG_WAVEHEIGHT": 1.687268,
           "MasterKey": 2753663,
           "OBJECTID": 2753663,
           "OUTFLOW_DENSITY": 8671.790039,
           "OUTFLOW_DENSITY_RESCALED": 1.0484883786709782e-05,
           "REGIONAL_SINUOSITY": 1.140924,
           "RandomSort": 2361457.62831946,
           "Shape_Length": 0.008435847190592267,
           "TEMP_MOISTURE": "Warm Temperate Dry",
           "TIDAL_RANGE": 2.410373,
           "TURBIDITY": 0.024533,
           "chl_label": "moderate chlorophyll",
           "river_label": "low river discharge",
           "sinuosity_label": "straight",
           "slope_label": "steeply sloping",
           "style": {
            "color": "yellow",
            "dashArray": "5",
            "fillOpacity": 0.5,
            "fill_color": "yellow",
            "opacity": 1,
            "weight": 4
           },
           "tidal_label": "moderately tidal",
           "turbid_label": "clear",
           "wave_label": "moderate wave energy"
          },
          "type": "Feature"
         }
        ],
        "type": "FeatureCollection"
       },
       "hover_style": {
        "color": "white",
        "dashArray": "4",
        "fillOpacity": 0.7
       },
       "name": "us_county349_ref_shoreline_province1257_ref_shoreline_W_USA_California_ref_shoreline",
       "style": {
        "color": "yellow",
        "dashArray": "5",
        "fillOpacity": 0.5,
        "fill_color": "yellow",
        "opacity": 1,
        "weight": 4
       }
      }
     },
     "73d7f58c548c47e28417349f4663ec66": {
      "model_module": "jupyter-leaflet",
      "model_module_version": "^0.16.0",
      "model_name": "LeafletTileLayerModel",
      "state": {
       "_model_module_version": "^0.16.0",
       "_view_module_version": "^0.16.0",
       "attribution": "Justice Map",
       "max_native_zoom": 18,
       "max_zoom": 22,
       "min_native_zoom": 0,
       "name": "JusticeMap.americanIndian",
       "options": [
        "attribution",
        "bounds",
        "detect_retina",
        "max_native_zoom",
        "max_zoom",
        "min_native_zoom",
        "min_zoom",
        "no_wrap",
        "tile_size",
        "tms"
       ],
       "url": "https://www.justicemap.org/tile/county/indian/{z}/{x}/{y}.png"
      }
     },
     "73e631cbff42434e90881e239724b5a0": {
      "model_module": "@jupyter-widgets/base",
      "model_module_version": "1.2.0",
      "model_name": "LayoutModel",
      "state": {
       "height": "28px",
       "padding": "0px 0px 0px 4px",
       "width": "28px"
      }
     },
     "74151246a3eb411ba2e9ad66e503cd69": {
      "model_module": "@jupyter-widgets/controls",
      "model_module_version": "1.5.0",
      "model_name": "VBoxModel",
      "state": {
       "children": [
        "IPY_MODEL_013dc35aeddc496a9500c79d3f7c0ea6",
        "IPY_MODEL_4e2a0d5861af42a4a1ac5c93ccd566f9",
        "IPY_MODEL_4294a20d99eb4de9a99b8154c6801b41"
       ],
       "layout": "IPY_MODEL_641a28f64c4f438f8f6e1f73e41edbf7"
      }
     },
     "745f3d024c3a4d8980534aa3e14b5242": {
      "model_module": "@jupyter-widgets/base",
      "model_module_version": "1.2.0",
      "model_name": "LayoutModel",
      "state": {
       "height": "auto",
       "padding": "0px 0px 0px 4px",
       "width": "auto"
      }
     },
     "74903a4d8f674fac9a89f4dd276b8db8": {
      "model_module": "@jupyter-widgets/controls",
      "model_module_version": "1.5.0",
      "model_name": "DatePickerModel",
      "state": {
       "description": "End Date",
       "disabled": false,
       "layout": "IPY_MODEL_df4b9d6d38b34014a8bab55d1aacdfd0",
       "style": "IPY_MODEL_87b3d33bde2d40fdb7c44a9cdd4bb7e0",
       "value": {
        "date": 1,
        "month": 2,
        "year": 2019
       }
      }
     },
     "751f09b22fdf4a4983731646700e26cf": {
      "model_module": "@jupyter-widgets/controls",
      "model_module_version": "1.5.0",
      "model_name": "ButtonModel",
      "state": {
       "description": "Remove saved ROIs",
       "layout": "IPY_MODEL_b9273dd450724e4abbab96c01ef13157",
       "style": "IPY_MODEL_9e0c14196b7740ef96a2eca7b593d359"
      }
     },
     "75507297bf4a46b5a889f93f2d18274d": {
      "model_module": "jupyter-leaflet",
      "model_module_version": "^0.16.0",
      "model_name": "LeafletDrawControlModel",
      "state": {
       "_model_module_version": "^0.16.0",
       "_view_module_version": "^0.16.0",
       "data": [
        {
         "geometry": {
          "coordinates": [
           [
            [
             -121.549329,
             36.004796
            ],
            [
             -121.549329,
             36.020706
            ],
            [
             -121.51082,
             36.020706
            ],
            [
             -121.51082,
             36.004796
            ],
            [
             -121.549329,
             36.004796
            ]
           ]
          ],
          "type": "Polygon"
         },
         "properties": {
          "style": {
           "Opacity": 0.1,
           "clickable": true,
           "color": "green",
           "fill": true,
           "fillColor": "green",
           "fillOpacity": 0.1,
           "opacity": 0.5,
           "stroke": true,
           "weight": 4
          }
         },
         "type": "Feature"
        }
       ],
       "options": [
        "position"
       ],
       "polygon": {},
       "polyline": {},
       "rectangle": {
        "allowIntersection": false,
        "drawError": {
         "color": "#dd253b",
         "message": "Ops!"
        },
        "shapeOptions": {
         "Opacity": 0.1,
         "color": "green",
         "fillColor": "green",
         "fillOpacity": 0.1
        },
        "transform": true
       }
      }
     },
     "7713f5e3f9484bfeaf7865adb71efc2e": {
      "model_module": "@jupyter-widgets/controls",
      "model_module_version": "1.5.0",
      "model_name": "ButtonStyleModel",
      "state": {}
     },
     "77cefd4151204e4f80070cf73d722d89": {
      "model_module": "jupyter-leaflet",
      "model_module_version": "^0.16.0",
      "model_name": "LeafletTileLayerModel",
      "state": {
       "_model_module_version": "^0.16.0",
       "_view_module_version": "^0.16.0",
       "attribution": "Earthstar Geographics",
       "max_native_zoom": 18,
       "max_zoom": 24,
       "min_native_zoom": 0,
       "name": "Esri.ArcticImagery",
       "options": [
        "attribution",
        "bounds",
        "detect_retina",
        "max_native_zoom",
        "max_zoom",
        "min_native_zoom",
        "min_zoom",
        "no_wrap",
        "tile_size",
        "tms"
       ],
       "url": "http://server.arcgisonline.com/ArcGIS/rest/services/Polar/Arctic_Imagery/MapServer/tile/{z}/{y}/{x}"
      }
     },
     "78ff7135e66e451eb3b706f9d379a33d": {
      "model_module": "jupyter-leaflet",
      "model_module_version": "^0.16.0",
      "model_name": "LeafletTileLayerModel",
      "state": {
       "_model_module_version": "^0.16.0",
       "_view_module_version": "^0.16.0",
       "attribution": "Kaartgegevens (C) Kadaster",
       "max_native_zoom": 18,
       "max_zoom": 19,
       "min_native_zoom": 0,
       "name": "nlmaps.standaard",
       "options": [
        "attribution",
        "bounds",
        "detect_retina",
        "max_native_zoom",
        "max_zoom",
        "min_native_zoom",
        "min_zoom",
        "no_wrap",
        "tile_size",
        "tms"
       ],
       "url": "https://service.pdok.nl/brt/achtergrondkaart/wmts/v2_0/standaard/EPSG:3857/{z}/{x}/{y}.png"
      }
     },
     "79ed50b118f84f04962d63031c4e1fc1": {
      "model_module": "jupyter-leaflet",
      "model_module_version": "^0.16.0",
      "model_name": "LeafletWMSLayerModel",
      "state": {
       "_model_module_version": "^0.16.0",
       "_view_module_version": "^0.16.0",
       "attribution": "MRLC",
       "crs": {
        "custom": false,
        "name": "EPSG3857"
       },
       "format": "image/png",
       "layers": "NLCD_2016_Land_Cover_L48",
       "max_native_zoom": 18,
       "min_native_zoom": 0,
       "name": "NLCD 2016 CONUS Land Cover",
       "options": [
        "attribution",
        "bounds",
        "detect_retina",
        "format",
        "layers",
        "max_native_zoom",
        "max_zoom",
        "min_native_zoom",
        "min_zoom",
        "no_wrap",
        "styles",
        "tile_size",
        "tms",
        "transparent",
        "uppercase"
       ],
       "transparent": true,
       "url": "https://www.mrlc.gov/geoserver/mrlc_display/NLCD_2016_Land_Cover_L48/wms?"
      }
     },
     "7a15a8ce9e65472b94bf2484336a5911": {
      "model_module": "jupyter-leaflet",
      "model_module_version": "^0.16.0",
      "model_name": "LeafletTileLayerModel",
      "state": {
       "_model_module_version": "^0.16.0",
       "_view_module_version": "^0.16.0",
       "attribution": "Map tiles by <a href=\"https://labs.strava.com/heatmap\">Strava 2021</a>",
       "max_native_zoom": 18,
       "max_zoom": 15,
       "min_native_zoom": 0,
       "name": "Strava.All",
       "options": [
        "attribution",
        "bounds",
        "detect_retina",
        "max_native_zoom",
        "max_zoom",
        "min_native_zoom",
        "min_zoom",
        "no_wrap",
        "tile_size",
        "tms"
       ],
       "url": "https://heatmap-external-a.strava.com/tiles/all/hot/{z}/{x}/{y}.png"
      }
     },
     "7a85da202bf74e9998d65cc9a646f117": {
      "model_module": "jupyter-leaflet",
      "model_module_version": "^0.16.0",
      "model_name": "LeafletTileLayerModel",
      "state": {
       "_model_module_version": "^0.16.0",
       "_view_module_version": "^0.16.0",
       "attribution": "Map tiles by Stamen Design, CC BY 3.0 -- Map data (C) OpenStreetMap contributors",
       "max_native_zoom": 18,
       "max_zoom": 20,
       "min_native_zoom": 0,
       "name": "Stamen.TonerLines",
       "options": [
        "attribution",
        "bounds",
        "detect_retina",
        "max_native_zoom",
        "max_zoom",
        "min_native_zoom",
        "min_zoom",
        "no_wrap",
        "tile_size",
        "tms"
       ],
       "url": "https://stamen-tiles-a.a.ssl.fastly.net/toner-lines/{z}/{x}/{y}.png"
      }
     },
     "7b523607246d45d1bcbe97a7405f80bf": {
      "model_module": "@jupyter-widgets/controls",
      "model_module_version": "1.5.0",
      "model_name": "DescriptionStyleModel",
      "state": {
       "description_width": ""
      }
     },
     "7b6ae570175b4fa68aac4b6b136e8222": {
      "model_module": "@jupyter-widgets/base",
      "model_module_version": "1.2.0",
      "model_name": "LayoutModel",
      "state": {
       "height": "auto",
       "padding": "0px 0px 0px 4px",
       "width": "auto"
      }
     },
     "7b92b7fdf19b433db12d126a89f4b86d": {
      "model_module": "jupyter-leaflet",
      "model_module_version": "^0.16.0",
      "model_name": "LeafletTileLayerModel",
      "state": {
       "_model_module_version": "^0.16.0",
       "_view_module_version": "^0.16.0",
       "attribution": "Justice Map",
       "max_native_zoom": 18,
       "max_zoom": 22,
       "min_native_zoom": 0,
       "name": "JusticeMap.white",
       "options": [
        "attribution",
        "bounds",
        "detect_retina",
        "max_native_zoom",
        "max_zoom",
        "min_native_zoom",
        "min_zoom",
        "no_wrap",
        "tile_size",
        "tms"
       ],
       "url": "https://www.justicemap.org/tile/county/white/{z}/{x}/{y}.png"
      }
     },
     "7c90bac2f18046a89cd4e3a411456bba": {
      "model_module": "jupyter-leaflet",
      "model_module_version": "^0.16.0",
      "model_name": "LeafletWMSLayerModel",
      "state": {
       "_model_module_version": "^0.16.0",
       "_view_module_version": "^0.16.0",
       "attribution": "USGS",
       "crs": {
        "custom": false,
        "name": "EPSG3857"
       },
       "format": "image/png",
       "layers": "USGSNAIPImagery:NDVI_Color",
       "max_native_zoom": 18,
       "min_native_zoom": 0,
       "name": "USGS NAIP Imagery NDVI",
       "options": [
        "attribution",
        "bounds",
        "detect_retina",
        "format",
        "layers",
        "max_native_zoom",
        "max_zoom",
        "min_native_zoom",
        "min_zoom",
        "no_wrap",
        "styles",
        "tile_size",
        "tms",
        "transparent",
        "uppercase"
       ],
       "transparent": true,
       "url": "https://imagery.nationalmap.gov/arcgis/services/USGSNAIPImagery/ImageServer/WMSServer?"
      }
     },
     "7ce1a2403aa54ed1ad709693fb863093": {
      "model_module": "jupyter-leaflet",
      "model_module_version": "^0.16.0",
      "model_name": "LeafletTileLayerModel",
      "state": {
       "_model_module_version": "^0.16.0",
       "_view_module_version": "^0.16.0",
       "attribution": "Kaartgegevens (C) Kadaster",
       "max_native_zoom": 18,
       "max_zoom": 19,
       "min_native_zoom": 0,
       "name": "nlmaps.water",
       "options": [
        "attribution",
        "bounds",
        "detect_retina",
        "max_native_zoom",
        "max_zoom",
        "min_native_zoom",
        "min_zoom",
        "no_wrap",
        "tile_size",
        "tms"
       ],
       "url": "https://service.pdok.nl/brt/achtergrondkaart/wmts/v2_0/water/EPSG:3857/{z}/{x}/{y}.png"
      }
     },
     "7ce281d97a194034bf8939613be0d9bf": {
      "model_module": "@jupyter-widgets/controls",
      "model_module_version": "1.5.0",
      "model_name": "ButtonModel",
      "state": {
       "description": "Remove ROIs",
       "layout": "IPY_MODEL_e9ebec84f54e4645bb77f45649251ef0",
       "style": "IPY_MODEL_16f7a80e5f834806836735453c54a171"
      }
     },
     "7d5dee711e5241eb8b2f1b6989c375c2": {
      "model_module": "jupyter-leaflet",
      "model_module_version": "^0.16.0",
      "model_name": "LeafletZoomControlModel",
      "state": {
       "_model_module_version": "^0.16.0",
       "_view_module_version": "^0.16.0",
       "options": [
        "position",
        "zoom_in_text",
        "zoom_in_title",
        "zoom_out_text",
        "zoom_out_title"
       ]
      }
     },
     "7fa86f1421ec4d9d84ef4be165695665": {
      "model_module": "jupyter-leaflet",
      "model_module_version": "^0.16.0",
      "model_name": "LeafletTileLayerModel",
      "state": {
       "_model_module_version": "^0.16.0",
       "_view_module_version": "^0.16.0",
       "attribution": "Imagery provided by NOAA National Centers for Environmental Information (NCEI); International Bathymetric Chart of the Southern Ocean (IBCSO); General Bathymetric Chart of the Oceans (GEBCO).",
       "max_native_zoom": 18,
       "max_zoom": 9,
       "min_native_zoom": 0,
       "name": "Esri.AntarcticBasemap",
       "options": [
        "attribution",
        "bounds",
        "detect_retina",
        "max_native_zoom",
        "max_zoom",
        "min_native_zoom",
        "min_zoom",
        "no_wrap",
        "tile_size",
        "tms"
       ],
       "url": "https://tiles.arcgis.com/tiles/C8EMgrsFcRFL6LrL/arcgis/rest/services/Antarctic_Basemap/MapServer/tile/{z}/{y}/{x}"
      }
     },
     "809925b965d942c58beeaeb569b592dc": {
      "model_module": "@jupyter-widgets/controls",
      "model_module_version": "1.5.0",
      "model_name": "DescriptionStyleModel",
      "state": {
       "description_width": ""
      }
     },
     "80b76c0b3f07430f926e50f91aae3410": {
      "model_module": "jupyter-leaflet",
      "model_module_version": "^0.16.0",
      "model_name": "LeafletTileLayerModel",
      "state": {
       "_model_module_version": "^0.16.0",
       "_view_module_version": "^0.16.0",
       "attribution": "Map data: (C) OpenStreetMap contributors | Map style: (C) waymarkedtrails.org (CC-BY-SA)",
       "max_native_zoom": 18,
       "min_native_zoom": 0,
       "name": "WaymarkedTrails.cycling",
       "options": [
        "attribution",
        "bounds",
        "detect_retina",
        "max_native_zoom",
        "max_zoom",
        "min_native_zoom",
        "min_zoom",
        "no_wrap",
        "tile_size",
        "tms"
       ],
       "url": "https://tile.waymarkedtrails.org/cycling/{z}/{x}/{y}.png"
      }
     },
     "8147d724792b4da59040f61b31e8297b": {
      "model_module": "@jupyter-widgets/base",
      "model_module_version": "1.2.0",
      "model_name": "LayoutModel",
      "state": {
       "height": "auto",
       "padding": "0px 0px 0px 4px",
       "width": "auto"
      }
     },
     "81cb6b578e584f1588e6a0cb7f472b57": {
      "model_module": "jupyter-leaflet",
      "model_module_version": "^0.16.0",
      "model_name": "LeafletWMSLayerModel",
      "state": {
       "_model_module_version": "^0.16.0",
       "_view_module_version": "^0.16.0",
       "attribution": "MRLC",
       "crs": {
        "custom": false,
        "name": "EPSG3857"
       },
       "format": "image/png",
       "layers": "NLCD_2008_Land_Cover_L48",
       "max_native_zoom": 18,
       "min_native_zoom": 0,
       "name": "NLCD 2008 CONUS Land Cover",
       "options": [
        "attribution",
        "bounds",
        "detect_retina",
        "format",
        "layers",
        "max_native_zoom",
        "max_zoom",
        "min_native_zoom",
        "min_zoom",
        "no_wrap",
        "styles",
        "tile_size",
        "tms",
        "transparent",
        "uppercase"
       ],
       "transparent": true,
       "url": "https://www.mrlc.gov/geoserver/mrlc_display/NLCD_2008_Land_Cover_L48/wms?"
      }
     },
     "82078e02437e46afb8db6211dcef55e3": {
      "model_module": "jupyter-leaflet",
      "model_module_version": "^0.16.0",
      "model_name": "LeafletTileLayerModel",
      "state": {
       "_model_module_version": "^0.16.0",
       "_view_module_version": "^0.16.0",
       "attribution": "Datenquelle: basemap.at",
       "max_native_zoom": 18,
       "max_zoom": 20,
       "min_native_zoom": 0,
       "name": "BasemapAT.basemap",
       "options": [
        "attribution",
        "bounds",
        "detect_retina",
        "max_native_zoom",
        "max_zoom",
        "min_native_zoom",
        "min_zoom",
        "no_wrap",
        "tile_size",
        "tms"
       ],
       "url": "https://maps.wien.gv.at/basemap/geolandbasemap/normal/google3857/{z}/{y}/{x}.png"
      }
     },
     "823e87cb0e494ac8a9db3ebccb218b84": {
      "model_module": "jupyter-leaflet",
      "model_module_version": "^0.16.0",
      "model_name": "LeafletTileLayerModel",
      "state": {
       "_model_module_version": "^0.16.0",
       "_view_module_version": "^0.16.0",
       "attribution": "Tiles (C) Esri -- Source: Esri, DeLorme, NAVTEQ, USGS, Intermap, iPC, NRCAN, Esri Japan, METI, Esri China (Hong Kong), Esri (Thailand), TomTom, 2012",
       "max_native_zoom": 18,
       "max_zoom": 22,
       "min_native_zoom": 0,
       "name": "Esri.WorldStreetMap",
       "options": [
        "attribution",
        "bounds",
        "detect_retina",
        "max_native_zoom",
        "max_zoom",
        "min_native_zoom",
        "min_zoom",
        "no_wrap",
        "tile_size",
        "tms"
       ],
       "url": "https://server.arcgisonline.com/ArcGIS/rest/services/World_Street_Map/MapServer/tile/{z}/{y}/{x}"
      }
     },
     "8252079ee89d4b3a9336b603ee96b19e": {
      "model_module": "@jupyter-widgets/base",
      "model_module_version": "1.2.0",
      "model_name": "LayoutModel",
      "state": {
       "margin": "0px 0px 0px 0px"
      }
     },
     "842e8908451e47929481607ace1ec696": {
      "model_module": "jupyter-leaflet",
      "model_module_version": "^0.16.0",
      "model_name": "LeafletTileLayerModel",
      "state": {
       "_model_module_version": "^0.16.0",
       "_view_module_version": "^0.16.0",
       "attribution": "Map tiles by Stamen Design, CC BY 3.0 -- Map data (C) OpenStreetMap contributors",
       "max_native_zoom": 18,
       "max_zoom": 16,
       "min_native_zoom": 0,
       "name": "Stamen.Watercolor",
       "options": [
        "attribution",
        "bounds",
        "detect_retina",
        "max_native_zoom",
        "max_zoom",
        "min_native_zoom",
        "min_zoom",
        "no_wrap",
        "tile_size",
        "tms"
       ],
       "url": "https://stamen-tiles-a.a.ssl.fastly.net/watercolor/{z}/{x}/{y}.jpg"
      }
     },
     "84710f2941974c4fbbe30e4bea40eb0d": {
      "model_module": "@jupyter-widgets/base",
      "model_module_version": "1.2.0",
      "model_name": "LayoutModel",
      "state": {}
     },
     "847ca3ba36d848959775e529b56091a2": {
      "model_module": "jupyter-leaflet",
      "model_module_version": "^0.16.0",
      "model_name": "LeafletTileLayerModel",
      "state": {
       "_model_module_version": "^0.16.0",
       "_view_module_version": "^0.16.0",
       "attribution": "Imagery provided by services from the Global Imagery Browse Services (GIBS), operated by the NASA/GSFC/Earth Science Data and Information System (ESDIS) with funding provided by NASA/HQ.",
       "max_native_zoom": 18,
       "max_zoom": 7,
       "min_native_zoom": 0,
       "name": "NASAGIBS.ModisTerraLSTDay",
       "options": [
        "attribution",
        "bounds",
        "detect_retina",
        "max_native_zoom",
        "max_zoom",
        "min_native_zoom",
        "min_zoom",
        "no_wrap",
        "tile_size",
        "tms"
       ],
       "url": "https://map1.vis.earthdata.nasa.gov/wmts-webmerc/MODIS_Terra_Land_Surface_Temp_Day/default//GoogleMapsCompatible_Level7/{z}/{y}/{x}.png"
      }
     },
     "84a3231c886a4a078e67e8fc72943400": {
      "model_module": "jupyter-leaflet",
      "model_module_version": "^0.16.0",
      "model_name": "LeafletTileLayerModel",
      "state": {
       "_model_module_version": "^0.16.0",
       "_view_module_version": "^0.16.0",
       "attribution": "Map data: (C) OpenStreetMap contributors | Map style: (C) SafeCast (CC-BY-SA)",
       "max_native_zoom": 18,
       "max_zoom": 16,
       "min_native_zoom": 0,
       "name": "SafeCast",
       "options": [
        "attribution",
        "bounds",
        "detect_retina",
        "max_native_zoom",
        "max_zoom",
        "min_native_zoom",
        "min_zoom",
        "no_wrap",
        "tile_size",
        "tms"
       ],
       "url": "https://s3.amazonaws.com/te512.safecast.org/{z}/{x}/{y}.png"
      }
     },
     "85217d46f58d41e0857779a29b070ca8": {
      "model_module": "jupyter-leaflet",
      "model_module_version": "^0.16.0",
      "model_name": "LeafletTileLayerModel",
      "state": {
       "_model_module_version": "^0.16.0",
       "_view_module_version": "^0.16.0",
       "attribution": "Map data: (C) OpenStreetMap contributors | Map style: (C) OpenRailwayMap (CC-BY-SA)",
       "max_native_zoom": 18,
       "max_zoom": 19,
       "min_native_zoom": 0,
       "name": "OpenRailwayMap",
       "options": [
        "attribution",
        "bounds",
        "detect_retina",
        "max_native_zoom",
        "max_zoom",
        "min_native_zoom",
        "min_zoom",
        "no_wrap",
        "tile_size",
        "tms"
       ],
       "url": "https://a.tiles.openrailwaymap.org/standard/{z}/{x}/{y}.png"
      }
     },
     "8534bc7b16e04c83ae598c452076ab71": {
      "model_module": "jupyter-leaflet",
      "model_module_version": "^0.16.0",
      "model_name": "LeafletTileLayerModel",
      "state": {
       "_model_module_version": "^0.16.0",
       "_view_module_version": "^0.16.0",
       "attribution": "Kaartgegevens (C) Kadaster",
       "max_native_zoom": 18,
       "max_zoom": 19,
       "min_native_zoom": 0,
       "name": "nlmaps.grijs",
       "options": [
        "attribution",
        "bounds",
        "detect_retina",
        "max_native_zoom",
        "max_zoom",
        "min_native_zoom",
        "min_zoom",
        "no_wrap",
        "tile_size",
        "tms"
       ],
       "url": "https://service.pdok.nl/brt/achtergrondkaart/wmts/v2_0/grijs/EPSG:3857/{z}/{x}/{y}.png"
      }
     },
     "865a5e1ad23d4403a78b79bf92b784be": {
      "model_module": "@jupyter-widgets/base",
      "model_module_version": "1.2.0",
      "model_name": "LayoutModel",
      "state": {}
     },
     "87b3d33bde2d40fdb7c44a9cdd4bb7e0": {
      "model_module": "@jupyter-widgets/controls",
      "model_module_version": "1.5.0",
      "model_name": "DescriptionStyleModel",
      "state": {
       "description_width": ""
      }
     },
     "88586d0774ac43bdb8aec36c92ac55f0": {
      "model_module": "@jupyter-widgets/controls",
      "model_module_version": "1.5.0",
      "model_name": "ToggleButtonModel",
      "state": {
       "button_style": "primary",
       "icon": "stack-exchange",
       "layout": "IPY_MODEL_e0454d6a8407499182748f0d3b268600",
       "style": "IPY_MODEL_d7a0ca1a6c3d467fb03561301d1ec64c",
       "tooltip": "Discover STAC Catalog"
      }
     },
     "8b191e149e8b4bef966026737c97269f": {
      "model_module": "jupyter-leaflet",
      "model_module_version": "^0.16.0",
      "model_name": "LeafletTileLayerModel",
      "state": {
       "_model_module_version": "^0.16.0",
       "_view_module_version": "^0.16.0",
       "attribution": "Tiles &copy; Esri &mdash; Esri, DeLorme, NAVTEQ, TomTom, Intermap, iPC, USGS, FAO, NPS, NRCAN, GeoBase, Kadaster NL, Ordnance Survey, Esri Japan, METI, Esri China (Hong Kong), and the GIS User Community",
       "max_native_zoom": 18,
       "max_zoom": 24,
       "min_native_zoom": 0,
       "name": "Esri.ArcticOceanReference",
       "options": [
        "attribution",
        "bounds",
        "detect_retina",
        "max_native_zoom",
        "max_zoom",
        "min_native_zoom",
        "min_zoom",
        "no_wrap",
        "tile_size",
        "tms"
       ],
       "url": "http://server.arcgisonline.com/ArcGIS/rest/services/Polar/Arctic_Ocean_Reference/MapServer/tile/{z}/{y}/{x}"
      }
     },
     "8c8e1f6872134684ae83bfb5bbd29f1b": {
      "model_module": "@jupyter-widgets/base",
      "model_module_version": "1.2.0",
      "model_name": "LayoutModel",
      "state": {}
     },
     "8d054b6fdf404876ad22992731d54add": {
      "model_module": "jupyter-leaflet",
      "model_module_version": "^0.16.0",
      "model_name": "LeafletMapStyleModel",
      "state": {
       "_model_module_version": "^0.16.0"
      }
     },
     "8de99fc5bcb74511b1ed49ec573ed223": {
      "model_module": "@jupyter-widgets/base",
      "model_module_version": "1.2.0",
      "model_name": "LayoutModel",
      "state": {}
     },
     "8e4c1ae990724671b6744e7efe2189fa": {
      "model_module": "@jupyter-widgets/base",
      "model_module_version": "1.2.0",
      "model_name": "LayoutModel",
      "state": {
       "height": "auto",
       "padding": "0px 0px 0px 4px",
       "width": "auto"
      }
     },
     "8ee33091d1e84b7a8777792aa0ccd0db": {
      "model_module": "jupyter-leaflet",
      "model_module_version": "^0.16.0",
      "model_name": "LeafletTileLayerModel",
      "state": {
       "_model_module_version": "^0.16.0",
       "_view_module_version": "^0.16.0",
       "attribution": "Tiles (C) Esri -- Sources: GEBCO, NOAA, CHS, OSU, UNH, CSUMB, National Geographic, DeLorme, NAVTEQ, and Esri",
       "max_native_zoom": 18,
       "max_zoom": 13,
       "min_native_zoom": 0,
       "name": "Esri.OceanBasemap",
       "options": [
        "attribution",
        "bounds",
        "detect_retina",
        "max_native_zoom",
        "max_zoom",
        "min_native_zoom",
        "min_zoom",
        "no_wrap",
        "tile_size",
        "tms"
       ],
       "url": "https://server.arcgisonline.com/ArcGIS/rest/services/Ocean_Basemap/MapServer/tile/{z}/{y}/{x}"
      }
     },
     "8f83abbe8acc4b869e5eb943ade79182": {
      "model_module": "jupyter-leaflet",
      "model_module_version": "^0.16.0",
      "model_name": "LeafletTileLayerModel",
      "state": {
       "_model_module_version": "^0.16.0",
       "_view_module_version": "^0.16.0",
       "attribution": "Tiles courtesy of the U.S. Geological Survey",
       "max_native_zoom": 18,
       "max_zoom": 20,
       "min_native_zoom": 0,
       "name": "USGS.USImagery",
       "options": [
        "attribution",
        "bounds",
        "detect_retina",
        "max_native_zoom",
        "max_zoom",
        "min_native_zoom",
        "min_zoom",
        "no_wrap",
        "tile_size",
        "tms"
       ],
       "url": "https://basemap.nationalmap.gov/arcgis/rest/services/USGSImageryOnly/MapServer/tile/{z}/{y}/{x}"
      }
     },
     "90baf867bee84de79f784db70faf89cc": {
      "model_module": "ipyevents",
      "model_module_version": "2.0.1",
      "model_name": "EventModel",
      "state": {
       "_supported_key_events": [
        "keydown",
        "keyup"
       ],
       "_supported_mouse_events": [
        "click",
        "auxclick",
        "dblclick",
        "mouseenter",
        "mouseleave",
        "mousedown",
        "mouseup",
        "mousemove",
        "wheel",
        "contextmenu",
        "dragstart",
        "drag",
        "dragend",
        "dragenter",
        "dragover",
        "dragleave",
        "drop"
       ],
       "_supported_touch_events": [
        "touchstart",
        "touchend",
        "touchmove",
        "touchcancel"
       ],
       "_view_module": "@jupyter-widgets/controls",
       "_view_module_version": "1.5.0",
       "source": "IPY_MODEL_6a1098b2b49f4a1d8e4bde755283ef34",
       "throttle_or_debounce": "",
       "watched_events": [
        "mouseenter",
        "mouseleave"
       ],
       "xy_coordinate_system": ""
      }
     },
     "91bdfdfade32499f939af3a740fef75a": {
      "model_module": "@jupyter-widgets/controls",
      "model_module_version": "1.5.0",
      "model_name": "ToggleButtonModel",
      "state": {
       "button_style": "primary",
       "icon": "eraser",
       "layout": "IPY_MODEL_c32c73890aa546f684a71903efdada58",
       "style": "IPY_MODEL_ef1bac7fba8242a49c574df814dbffdb",
       "tooltip": "Remove all drawn features"
      }
     },
     "925b96fc58b94baaa2305124acf63829": {
      "model_module": "jupyter-leaflet",
      "model_module_version": "^0.16.0",
      "model_name": "LeafletTileLayerModel",
      "state": {
       "_model_module_version": "^0.16.0",
       "_view_module_version": "^0.16.0",
       "attribution": "© swisstopo",
       "max_native_zoom": 18,
       "min_native_zoom": 0,
       "name": "SwissFederalGeoportal.JourneyThroughTime",
       "options": [
        "attribution",
        "bounds",
        "detect_retina",
        "max_native_zoom",
        "max_zoom",
        "min_native_zoom",
        "min_zoom",
        "no_wrap",
        "tile_size",
        "tms"
       ],
       "url": "https://wmts.geo.admin.ch/1.0.0/ch.swisstopo.zeitreihen/default/18641231/3857/{z}/{x}/{y}.png"
      }
     },
     "92b83ee345aa46d7b4457987739dbc63": {
      "model_module": "jupyter-leaflet",
      "model_module_version": "^0.16.0",
      "model_name": "LeafletTileLayerModel",
      "state": {
       "_model_module_version": "^0.16.0",
       "_view_module_version": "^0.16.0",
       "attribution": "Map tiles by Stamen Design, CC BY 3.0 -- Map data (C) OpenStreetMap contributors",
       "max_native_zoom": 18,
       "min_native_zoom": 0,
       "name": "Stamen.Terrain",
       "options": [
        "attribution",
        "bounds",
        "detect_retina",
        "max_native_zoom",
        "max_zoom",
        "min_native_zoom",
        "min_zoom",
        "no_wrap",
        "tile_size",
        "tms"
       ],
       "url": "https://stamen-tiles-a.a.ssl.fastly.net/terrain/{z}/{x}/{y}.png"
      }
     },
     "93fc194ec10a4a5cb11e0b8e720dafe1": {
      "model_module": "jupyter-leaflet",
      "model_module_version": "^0.16.0",
      "model_name": "LeafletTileLayerModel",
      "state": {
       "_model_module_version": "^0.16.0",
       "_view_module_version": "^0.16.0",
       "attribution": "Imagery provided by services from the Global Imagery Browse Services (GIBS), operated by the NASA/GSFC/Earth Science Data and Information System (ESDIS) with funding provided by NASA/HQ.",
       "max_native_zoom": 18,
       "max_zoom": 9,
       "min_native_zoom": 0,
       "name": "NASAGIBS.ModisTerraTrueColorCR",
       "options": [
        "attribution",
        "bounds",
        "detect_retina",
        "max_native_zoom",
        "max_zoom",
        "min_native_zoom",
        "min_zoom",
        "no_wrap",
        "tile_size",
        "tms"
       ],
       "url": "https://map1.vis.earthdata.nasa.gov/wmts-webmerc/MODIS_Terra_CorrectedReflectance_TrueColor/default//GoogleMapsCompatible_Level9/{z}/{y}/{x}.jpg"
      }
     },
     "9548f6843fb14104a456cbc3ff55a36f": {
      "model_module": "jupyter-leaflet",
      "model_module_version": "^0.16.0",
      "model_name": "LeafletTileLayerModel",
      "state": {
       "_model_module_version": "^0.16.0",
       "_view_module_version": "^0.16.0",
       "attribution": "Map tiles by Stamen Design, CC BY 3.0 -- Map data (C) OpenStreetMap contributors",
       "max_native_zoom": 18,
       "max_zoom": 20,
       "min_native_zoom": 0,
       "name": "Stamen.TonerBackground",
       "options": [
        "attribution",
        "bounds",
        "detect_retina",
        "max_native_zoom",
        "max_zoom",
        "min_native_zoom",
        "min_zoom",
        "no_wrap",
        "tile_size",
        "tms"
       ],
       "url": "https://stamen-tiles-a.a.ssl.fastly.net/toner-background/{z}/{x}/{y}.png"
      }
     },
     "955e078cc4bc4c13b25728d9995ad9fb": {
      "model_module": "@jupyter-widgets/controls",
      "model_module_version": "1.5.0",
      "model_name": "ButtonStyleModel",
      "state": {}
     },
     "9662ea2c9f8341c5bd12c82fad346399": {
      "model_module": "jupyter-leaflet",
      "model_module_version": "^0.16.0",
      "model_name": "LeafletTileLayerModel",
      "state": {
       "_model_module_version": "^0.16.0",
       "_view_module_version": "^0.16.0",
       "attribution": "Kaartgegevens (C) Kadaster",
       "max_native_zoom": 18,
       "max_zoom": 19,
       "min_native_zoom": 0,
       "name": "nlmaps.pastel",
       "options": [
        "attribution",
        "bounds",
        "detect_retina",
        "max_native_zoom",
        "max_zoom",
        "min_native_zoom",
        "min_zoom",
        "no_wrap",
        "tile_size",
        "tms"
       ],
       "url": "https://service.pdok.nl/brt/achtergrondkaart/wmts/v2_0/pastel/EPSG:3857/{z}/{x}/{y}.png"
      }
     },
     "96e35abe012c4d3dbf68a8930434968d": {
      "model_module": "@jupyter-widgets/controls",
      "model_module_version": "1.5.0",
      "model_name": "HBoxModel",
      "state": {
       "children": [
        "IPY_MODEL_b5eb4c0fe72b481283d58d41739d82c4",
        "IPY_MODEL_d5c50943ddca4fd9820124f0e1afc8e2",
        "IPY_MODEL_abb80168092646c5abf73a8a98001519",
        "IPY_MODEL_2aaf48ace5f74c0da3db5d043ac51631",
        "IPY_MODEL_43b33b0185424ef08b3a50cc33ef5be4"
       ],
       "layout": "IPY_MODEL_22c7ac1a4c97467dadf26e09810dd540"
      }
     },
     "9734a3fd447949f1b870a83b07dab315": {
      "model_module": "jupyter-leaflet",
      "model_module_version": "^0.16.0",
      "model_name": "LeafletWMSLayerModel",
      "state": {
       "_model_module_version": "^0.16.0",
       "_view_module_version": "^0.16.0",
       "attribution": "USGS",
       "crs": {
        "custom": false,
        "name": "EPSG3857"
       },
       "format": "image/png",
       "layers": "33DEPElevation:Hillshade Elevation Tinted",
       "max_native_zoom": 18,
       "min_native_zoom": 0,
       "name": "USGS 3DEP Elevation",
       "options": [
        "attribution",
        "bounds",
        "detect_retina",
        "format",
        "layers",
        "max_native_zoom",
        "max_zoom",
        "min_native_zoom",
        "min_zoom",
        "no_wrap",
        "styles",
        "tile_size",
        "tms",
        "transparent",
        "uppercase"
       ],
       "transparent": true,
       "url": "https://elevation.nationalmap.gov/arcgis/services/3DEPElevation/ImageServer/WMSServer?"
      }
     },
     "97662f287695480c906324c9262b944d": {
      "model_module": "@jupyter-widgets/controls",
      "model_module_version": "1.5.0",
      "model_name": "ButtonStyleModel",
      "state": {}
     },
     "97aa6e2030df4bc2823e72b555cfd89b": {
      "model_module": "@jupyter-widgets/base",
      "model_module_version": "1.2.0",
      "model_name": "LayoutModel",
      "state": {
       "height": "auto",
       "padding": "0px 0px 0px 4px",
       "width": "auto"
      }
     },
     "989341256e2c44ffa335c59ff3c3769c": {
      "model_module": "@jupyter-widgets/controls",
      "model_module_version": "1.5.0",
      "model_name": "DescriptionStyleModel",
      "state": {
       "description_width": ""
      }
     },
     "9a3ad0e6565f46a4993b2d50d26509be": {
      "model_module": "@jupyter-widgets/base",
      "model_module_version": "1.2.0",
      "model_name": "LayoutModel",
      "state": {}
     },
     "9ced67723cea4105ab0f17a7970d86d5": {
      "model_module": "jupyter-leaflet",
      "model_module_version": "^0.16.0",
      "model_name": "LeafletTileLayerModel",
      "state": {
       "_model_module_version": "^0.16.0",
       "_view_module_version": "^0.16.0",
       "attribution": "Google",
       "max_native_zoom": 18,
       "max_zoom": 22,
       "min_native_zoom": 0,
       "name": "Google Maps",
       "options": [
        "attribution",
        "bounds",
        "detect_retina",
        "max_native_zoom",
        "max_zoom",
        "min_native_zoom",
        "min_zoom",
        "no_wrap",
        "tile_size",
        "tms"
       ],
       "url": "https://mt1.google.com/vt/lyrs=m&x={x}&y={y}&z={z}"
      }
     },
     "9d3d78c99bca4fbda27f4ea742e9e5b2": {
      "model_module": "@jupyter-widgets/base",
      "model_module_version": "1.2.0",
      "model_name": "LayoutModel",
      "state": {
       "padding": "10px"
      }
     },
     "9d4afb60e1264be29b5b094cf5cdbb92": {
      "model_module": "@jupyter-widgets/controls",
      "model_module_version": "1.5.0",
      "model_name": "RadioButtonsModel",
      "state": {
       "_options_labels": [
        "ENSEMBLE",
        "BEST"
       ],
       "description": "Select:",
       "index": 0,
       "layout": "IPY_MODEL_3ddf9a595f6c477c92d9eb209728c1e1",
       "style": "IPY_MODEL_989341256e2c44ffa335c59ff3c3769c"
      }
     },
     "9e0c14196b7740ef96a2eca7b593d359": {
      "model_module": "@jupyter-widgets/controls",
      "model_module_version": "1.5.0",
      "model_name": "ButtonStyleModel",
      "state": {}
     },
     "9e46090a44654ebc931cf4155e3d4313": {
      "model_module": "jupyter-leaflet",
      "model_module_version": "^0.16.0",
      "model_name": "LeafletTileLayerModel",
      "state": {
       "_model_module_version": "^0.16.0",
       "_view_module_version": "^0.16.0",
       "attribution": "© swisstopo",
       "max_native_zoom": 18,
       "min_native_zoom": 0,
       "name": "SwissFederalGeoportal.NationalMapGrey",
       "options": [
        "attribution",
        "bounds",
        "detect_retina",
        "max_native_zoom",
        "max_zoom",
        "min_native_zoom",
        "min_zoom",
        "no_wrap",
        "tile_size",
        "tms"
       ],
       "url": "https://wmts.geo.admin.ch/1.0.0/ch.swisstopo.pixelkarte-grau/default/current/3857/{z}/{x}/{y}.jpeg"
      }
     },
     "9e4b587b0e9a4f9ea397aa5e515063e7": {
      "model_module": "jupyter-leaflet",
      "model_module_version": "^0.16.0",
      "model_name": "LeafletWMSLayerModel",
      "state": {
       "_model_module_version": "^0.16.0",
       "_view_module_version": "^0.16.0",
       "attribution": "FWS",
       "crs": {
        "custom": false,
        "name": "EPSG3857"
       },
       "format": "image/png",
       "layers": "1",
       "max_native_zoom": 18,
       "min_native_zoom": 0,
       "name": "FWS NWI Wetlands",
       "options": [
        "attribution",
        "bounds",
        "detect_retina",
        "format",
        "layers",
        "max_native_zoom",
        "max_zoom",
        "min_native_zoom",
        "min_zoom",
        "no_wrap",
        "styles",
        "tile_size",
        "tms",
        "transparent",
        "uppercase"
       ],
       "transparent": true,
       "url": "https://www.fws.gov/wetlands/arcgis/services/Wetlands/MapServer/WMSServer?"
      }
     },
     "9f29dd647c91479b9bbbda8076b1d802": {
      "model_module": "jupyter-leaflet",
      "model_module_version": "^0.16.0",
      "model_name": "LeafletTileLayerModel",
      "state": {
       "_model_module_version": "^0.16.0",
       "_view_module_version": "^0.16.0",
       "attribution": "Imagery provided by services from the Global Imagery Browse Services (GIBS), operated by the NASA/GSFC/Earth Science Data and Information System (ESDIS) with funding provided by NASA/HQ.",
       "max_native_zoom": 18,
       "max_zoom": 8,
       "min_native_zoom": 0,
       "name": "NASAGIBS.ModisTerraSnowCover",
       "options": [
        "attribution",
        "bounds",
        "detect_retina",
        "max_native_zoom",
        "max_zoom",
        "min_native_zoom",
        "min_zoom",
        "no_wrap",
        "tile_size",
        "tms"
       ],
       "url": "https://map1.vis.earthdata.nasa.gov/wmts-webmerc/MODIS_Terra_NDSI_Snow_Cover/default//GoogleMapsCompatible_Level8/{z}/{y}/{x}.png"
      }
     },
     "9f3c64872f834f83986eff382f6098dd": {
      "model_module": "@jupyter-widgets/controls",
      "model_module_version": "1.5.0",
      "model_name": "HTMLModel",
      "state": {
       "layout": "IPY_MODEL_1f61a2ecc1db43adaf713ee75e93001a",
       "style": "IPY_MODEL_3a9997084c444b3cb10566209f748b92",
       "value": "____________________________________________________"
      }
     },
     "a0100f87c7eb4fd5a6f7f786b1cd144c": {
      "model_module": "@jupyter-widgets/controls",
      "model_module_version": "1.5.0",
      "model_name": "DescriptionStyleModel",
      "state": {
       "description_width": ""
      }
     },
     "a07aabb82d1a4ebfad6376cb161d8f64": {
      "model_module": "@jupyter-widgets/controls",
      "model_module_version": "1.5.0",
      "model_name": "ToggleButtonModel",
      "state": {
       "icon": "wrench",
       "layout": "IPY_MODEL_73e631cbff42434e90881e239724b5a0",
       "style": "IPY_MODEL_809925b965d942c58beeaeb569b592dc",
       "tooltip": "Toolbar"
      }
     },
     "a13fc2e80dce4346b11fcdf6172fad8d": {
      "model_module": "jupyter-leaflet",
      "model_module_version": "^0.16.0",
      "model_name": "LeafletTileLayerModel",
      "state": {
       "_model_module_version": "^0.16.0",
       "_view_module_version": "^0.16.0",
       "attribution": "(C) OpenStreetMap contributors (C) CARTO",
       "max_native_zoom": 18,
       "max_zoom": 20,
       "min_native_zoom": 0,
       "name": "CartoDB.PositronOnlyLabels",
       "options": [
        "attribution",
        "bounds",
        "detect_retina",
        "max_native_zoom",
        "max_zoom",
        "min_native_zoom",
        "min_zoom",
        "no_wrap",
        "tile_size",
        "tms"
       ],
       "url": "https://a.basemaps.cartocdn.com/light_only_labels/{z}/{x}/{y}.png"
      }
     },
     "a17caa7a493c494d999fa11b276fe968": {
      "model_module": "jupyter-leaflet",
      "model_module_version": "^0.16.0",
      "model_name": "LeafletTileLayerModel",
      "state": {
       "_model_module_version": "^0.16.0",
       "_view_module_version": "^0.16.0",
       "attribution": "Map tiles by <a href=\"https://labs.strava.com/heatmap\">Strava 2021</a>",
       "max_native_zoom": 18,
       "max_zoom": 15,
       "min_native_zoom": 0,
       "name": "Strava.Winter",
       "options": [
        "attribution",
        "bounds",
        "detect_retina",
        "max_native_zoom",
        "max_zoom",
        "min_native_zoom",
        "min_zoom",
        "no_wrap",
        "tile_size",
        "tms"
       ],
       "url": "https://heatmap-external-a.strava.com/tiles/winter/hot/{z}/{x}/{y}.png"
      }
     },
     "a247658925f74fccaf919adedc888b3c": {
      "model_module": "jupyter-leaflet",
      "model_module_version": "^0.16.0",
      "model_name": "LeafletWMSLayerModel",
      "state": {
       "_model_module_version": "^0.16.0",
       "_view_module_version": "^0.16.0",
       "attribution": "MRLC",
       "crs": {
        "custom": false,
        "name": "EPSG3857"
       },
       "format": "image/png",
       "layers": "NLCD_2006_Land_Cover_L48",
       "max_native_zoom": 18,
       "min_native_zoom": 0,
       "name": "NLCD 2006 CONUS Land Cover",
       "options": [
        "attribution",
        "bounds",
        "detect_retina",
        "format",
        "layers",
        "max_native_zoom",
        "max_zoom",
        "min_native_zoom",
        "min_zoom",
        "no_wrap",
        "styles",
        "tile_size",
        "tms",
        "transparent",
        "uppercase"
       ],
       "transparent": true,
       "url": "https://www.mrlc.gov/geoserver/mrlc_display/NLCD_2006_Land_Cover_L48/wms?"
      }
     },
     "a2dabbf981ef4a118ac47aaeb92da804": {
      "model_module": "@jupyter-widgets/controls",
      "model_module_version": "1.5.0",
      "model_name": "HTMLModel",
      "state": {
       "layout": "IPY_MODEL_cacc1b70a890455c969c2553122d1d9f",
       "style": "IPY_MODEL_bea252fc29374fc09c5fe7b34ee79936",
       "value": "<b>Pick a date:</b>"
      }
     },
     "a3cc6e583598454cb870f54d7ecd30dc": {
      "model_module": "@jupyter-widgets/controls",
      "model_module_version": "1.5.0",
      "model_name": "ButtonStyleModel",
      "state": {}
     },
     "a403c146206f493c86c10194bebf2d28": {
      "model_module": "jupyter-leaflet",
      "model_module_version": "^0.16.0",
      "model_name": "LeafletTileLayerModel",
      "state": {
       "_model_module_version": "^0.16.0",
       "_view_module_version": "^0.16.0",
       "attribution": "Justice Map",
       "max_native_zoom": 18,
       "max_zoom": 22,
       "min_native_zoom": 0,
       "name": "JusticeMap.income",
       "options": [
        "attribution",
        "bounds",
        "detect_retina",
        "max_native_zoom",
        "max_zoom",
        "min_native_zoom",
        "min_zoom",
        "no_wrap",
        "tile_size",
        "tms"
       ],
       "url": "https://www.justicemap.org/tile/county/income/{z}/{x}/{y}.png"
      }
     },
     "a8806ce72ff84f75b32be33680a44694": {
      "model_module": "jupyter-leaflet",
      "model_module_version": "^0.16.0",
      "model_name": "LeafletTileLayerModel",
      "state": {
       "_model_module_version": "^0.16.0",
       "_view_module_version": "^0.16.0",
       "attribution": "(C) OpenStreetMap contributors (C) CARTO",
       "max_native_zoom": 18,
       "max_zoom": 20,
       "min_native_zoom": 0,
       "name": "CartoDB.DarkMatterOnlyLabels",
       "options": [
        "attribution",
        "bounds",
        "detect_retina",
        "max_native_zoom",
        "max_zoom",
        "min_native_zoom",
        "min_zoom",
        "no_wrap",
        "tile_size",
        "tms"
       ],
       "url": "https://a.basemaps.cartocdn.com/dark_only_labels/{z}/{x}/{y}.png"
      }
     },
     "aa248a7974c8475ba42a8386922296fe": {
      "model_module": "jupyter-leaflet",
      "model_module_version": "^0.16.0",
      "model_name": "LeafletTileLayerModel",
      "state": {
       "_model_module_version": "^0.16.0",
       "_view_module_version": "^0.16.0",
       "attribution": "Geoportail France",
       "max_native_zoom": 18,
       "max_zoom": 20,
       "min_native_zoom": 0,
       "name": "GeoportailFrance.parcels",
       "options": [
        "attribution",
        "bounds",
        "detect_retina",
        "max_native_zoom",
        "max_zoom",
        "min_native_zoom",
        "min_zoom",
        "no_wrap",
        "tile_size",
        "tms"
       ],
       "url": "https://wxs.ign.fr/choisirgeoportail/geoportail/wmts?REQUEST=GetTile&SERVICE=WMTS&VERSION=1.0.0&STYLE=PCI vecteur&TILEMATRIXSET=PM&FORMAT=image/png&LAYER=CADASTRALPARCELS.PARCELLAIRE_EXPRESS&TILEMATRIX={z}&TILEROW={y}&TILECOL={x}"
      }
     },
     "ab54cf1273c2493994a5607895cb5c81": {
      "model_module": "jupyter-leaflet",
      "model_module_version": "^0.16.0",
      "model_name": "LeafletWMSLayerModel",
      "state": {
       "_model_module_version": "^0.16.0",
       "_view_module_version": "^0.16.0",
       "attribution": "ESA",
       "crs": {
        "custom": false,
        "name": "EPSG3857"
       },
       "format": "image/png",
       "layers": "WORLDCOVER_2020_MAP",
       "max_native_zoom": 18,
       "min_native_zoom": 0,
       "name": "ESA Worldcover 2020",
       "options": [
        "attribution",
        "bounds",
        "detect_retina",
        "format",
        "layers",
        "max_native_zoom",
        "max_zoom",
        "min_native_zoom",
        "min_zoom",
        "no_wrap",
        "styles",
        "tile_size",
        "tms",
        "transparent",
        "uppercase"
       ],
       "transparent": true,
       "url": "https://services.terrascope.be/wms/v2"
      }
     },
     "abb80168092646c5abf73a8a98001519": {
      "model_module": "@jupyter-widgets/controls",
      "model_module_version": "1.5.0",
      "model_name": "ButtonModel",
      "state": {
       "description": "Generate ROI",
       "layout": "IPY_MODEL_029366f4a30a48e2866a99e5d5188ecf",
       "style": "IPY_MODEL_235fcce86cf34e3d9c55616a32718c80"
      }
     },
     "ada72f7a8157452d871ffbdc0f84b545": {
      "model_module": "jupyter-leaflet",
      "model_module_version": "^0.16.0",
      "model_name": "LeafletTileLayerModel",
      "state": {
       "_model_module_version": "^0.16.0",
       "_view_module_version": "^0.16.0",
       "attribution": "Map tiles by Stamen Design, CC BY 3.0 -- Map data (C) OpenStreetMap contributors",
       "max_native_zoom": 18,
       "max_zoom": 20,
       "min_native_zoom": 0,
       "name": "Stamen.Toner",
       "options": [
        "attribution",
        "bounds",
        "detect_retina",
        "max_native_zoom",
        "max_zoom",
        "min_native_zoom",
        "min_zoom",
        "no_wrap",
        "tile_size",
        "tms"
       ],
       "url": "https://stamen-tiles-a.a.ssl.fastly.net/toner/{z}/{x}/{y}.png"
      }
     },
     "adc1f4990cd64e3bb04b2749d79a1e0a": {
      "model_module": "jupyter-leaflet",
      "model_module_version": "^0.16.0",
      "model_name": "LeafletTileLayerModel",
      "state": {
       "_model_module_version": "^0.16.0",
       "_view_module_version": "^0.16.0",
       "attribution": "Earthstar Geographics",
       "max_native_zoom": 18,
       "max_zoom": 24,
       "min_native_zoom": 0,
       "name": "Esri.AntarcticImagery",
       "options": [
        "attribution",
        "bounds",
        "detect_retina",
        "max_native_zoom",
        "max_zoom",
        "min_native_zoom",
        "min_zoom",
        "no_wrap",
        "tile_size",
        "tms"
       ],
       "url": "http://server.arcgisonline.com/ArcGIS/rest/services/Polar/Antarctic_Imagery/MapServer/tile/{z}/{y}/{x}"
      }
     },
     "ae371da71ddb432fb4243bd16eb369d1": {
      "model_module": "jupyter-leaflet",
      "model_module_version": "^0.16.0",
      "model_name": "LeafletTileLayerModel",
      "state": {
       "_model_module_version": "^0.16.0",
       "_view_module_version": "^0.16.0",
       "attribution": "(C) OpenStreetMap contributors, Tiles courtesy of Breton OpenStreetMap Team",
       "max_native_zoom": 18,
       "max_zoom": 19,
       "min_native_zoom": 0,
       "name": "OpenStreetMap.BZH",
       "options": [
        "attribution",
        "bounds",
        "detect_retina",
        "max_native_zoom",
        "max_zoom",
        "min_native_zoom",
        "min_zoom",
        "no_wrap",
        "tile_size",
        "tms"
       ],
       "url": "https://tile.openstreetmap.bzh/br/{z}/{x}/{y}.png"
      }
     },
     "b292d570ddc849ff904a1754fe0c3dc1": {
      "model_module": "@jupyter-widgets/base",
      "model_module_version": "1.2.0",
      "model_name": "LayoutModel",
      "state": {
       "height": "auto",
       "padding": "0px 0px 0px 4px",
       "width": "auto"
      }
     },
     "b2e6d07c6e8f4ea486394f955c7974b3": {
      "model_module": "@jupyter-widgets/controls",
      "model_module_version": "1.5.0",
      "model_name": "DescriptionStyleModel",
      "state": {
       "description_width": ""
      }
     },
     "b3720269deea4229b3a427e82c30d6ca": {
      "model_module": "jupyter-leaflet",
      "model_module_version": "^0.16.0",
      "model_name": "LeafletTileLayerModel",
      "state": {
       "_model_module_version": "^0.16.0",
       "_view_module_version": "^0.16.0",
       "attribution": "Tiles (C) Esri -- Source: Esri",
       "max_native_zoom": 18,
       "max_zoom": 13,
       "min_native_zoom": 0,
       "name": "Esri.WorldShadedRelief",
       "options": [
        "attribution",
        "bounds",
        "detect_retina",
        "max_native_zoom",
        "max_zoom",
        "min_native_zoom",
        "min_zoom",
        "no_wrap",
        "tile_size",
        "tms"
       ],
       "url": "https://server.arcgisonline.com/ArcGIS/rest/services/World_Shaded_Relief/MapServer/tile/{z}/{y}/{x}"
      }
     },
     "b47bb177730a44058a3c17db064be0f3": {
      "model_module": "jupyter-leaflet",
      "model_module_version": "^0.16.0",
      "model_name": "LeafletTileLayerModel",
      "state": {
       "_model_module_version": "^0.16.0",
       "_view_module_version": "^0.16.0",
       "attribution": "Datenquelle: basemap.at",
       "max_native_zoom": 18,
       "max_zoom": 19,
       "min_native_zoom": 0,
       "name": "BasemapAT.overlay",
       "options": [
        "attribution",
        "bounds",
        "detect_retina",
        "max_native_zoom",
        "max_zoom",
        "min_native_zoom",
        "min_zoom",
        "no_wrap",
        "tile_size",
        "tms"
       ],
       "url": "https://maps.wien.gv.at/basemap/bmapoverlay/normal/google3857/{z}/{y}/{x}.png"
      }
     },
     "b485263e39504665956fe00d4a41f661": {
      "model_module": "@jupyter-widgets/base",
      "model_module_version": "1.2.0",
      "model_name": "LayoutModel",
      "state": {}
     },
     "b5eb4c0fe72b481283d58d41739d82c4": {
      "model_module": "@jupyter-widgets/controls",
      "model_module_version": "1.5.0",
      "model_name": "ButtonModel",
      "state": {
       "description": "Load Transects",
       "layout": "IPY_MODEL_8c8e1f6872134684ae83bfb5bbd29f1b",
       "style": "IPY_MODEL_7713f5e3f9484bfeaf7865adb71efc2e"
      }
     },
     "b615611ada2e4e8e8f50c860bb2f9bfe": {
      "model_module": "jupyter-leaflet",
      "model_module_version": "^0.16.0",
      "model_name": "LeafletTileLayerModel",
      "state": {
       "_model_module_version": "^0.16.0",
       "_view_module_version": "^0.16.0",
       "attribution": "(C) OpenStreetMap contributors",
       "max_native_zoom": 18,
       "min_native_zoom": 0,
       "name": "OpenStreetMap.BlackAndWhite",
       "options": [
        "attribution",
        "bounds",
        "detect_retina",
        "max_native_zoom",
        "max_zoom",
        "min_native_zoom",
        "min_zoom",
        "no_wrap",
        "tile_size",
        "tms"
       ],
       "url": "http://a.tiles.wmflabs.org/bw-mapnik/{z}/{x}/{y}.png"
      }
     },
     "b6249ca4d22d43709467e9512ea6973f": {
      "model_module": "jupyter-leaflet",
      "model_module_version": "^0.16.0",
      "model_name": "LeafletTileLayerModel",
      "state": {
       "_model_module_version": "^0.16.0",
       "_view_module_version": "^0.16.0",
       "attribution": "openAIP Data (CC-BY-NC-SA)",
       "max_native_zoom": 18,
       "max_zoom": 14,
       "min_native_zoom": 0,
       "name": "OpenAIP",
       "options": [
        "attribution",
        "bounds",
        "detect_retina",
        "max_native_zoom",
        "max_zoom",
        "min_native_zoom",
        "min_zoom",
        "no_wrap",
        "tile_size",
        "tms"
       ],
       "url": "https://1.tile.maps.openaip.net/geowebcache/service/tms/1.0.0/openaip_basemap@EPSG%3A900913@png/{z}/{x}/{y}.png"
      }
     },
     "b6b21508afa748759a4d28b6c7b9f590": {
      "model_module": "@jupyter-widgets/controls",
      "model_module_version": "1.5.0",
      "model_name": "DescriptionStyleModel",
      "state": {
       "description_width": ""
      }
     },
     "b7150f861a574752b69d8bacee410807": {
      "model_module": "@jupyter-widgets/controls",
      "model_module_version": "1.5.0",
      "model_name": "ButtonModel",
      "state": {
       "description": "Remove coastline",
       "layout": "IPY_MODEL_84710f2941974c4fbbe30e4bea40eb0d",
       "style": "IPY_MODEL_245be2638e4e47959efacc163bf05741"
      }
     },
     "b7b2cc9441b7441382982711edcefc38": {
      "model_module": "@jupyter-widgets/base",
      "model_module_version": "1.2.0",
      "model_name": "LayoutModel",
      "state": {}
     },
     "b9273dd450724e4abbab96c01ef13157": {
      "model_module": "@jupyter-widgets/base",
      "model_module_version": "1.2.0",
      "model_name": "LayoutModel",
      "state": {}
     },
     "b98015aaa07f4f3ebc46d34ddb941283": {
      "model_module": "jupyter-leaflet",
      "model_module_version": "^0.16.0",
      "model_name": "LeafletTileLayerModel",
      "state": {
       "_model_module_version": "^0.16.0",
       "_view_module_version": "^0.16.0",
       "attribution": "Google",
       "max_native_zoom": 18,
       "max_zoom": 22,
       "min_native_zoom": 0,
       "name": "Google Satellite",
       "options": [
        "attribution",
        "bounds",
        "detect_retina",
        "max_native_zoom",
        "max_zoom",
        "min_native_zoom",
        "min_zoom",
        "no_wrap",
        "tile_size",
        "tms"
       ],
       "url": "https://mt1.google.com/vt/lyrs=y&x={x}&y={y}&z={z}"
      }
     },
     "b9e556c113b242c0aea0214eafa207c4": {
      "model_module": "jupyter-leaflet",
      "model_module_version": "^0.16.0",
      "model_name": "LeafletWMSLayerModel",
      "state": {
       "_model_module_version": "^0.16.0",
       "_view_module_version": "^0.16.0",
       "attribution": "MRLC",
       "crs": {
        "custom": false,
        "name": "EPSG3857"
       },
       "format": "image/png",
       "layers": "NLCD_2013_Land_Cover_L48",
       "max_native_zoom": 18,
       "min_native_zoom": 0,
       "name": "NLCD 2013 CONUS Land Cover",
       "options": [
        "attribution",
        "bounds",
        "detect_retina",
        "format",
        "layers",
        "max_native_zoom",
        "max_zoom",
        "min_native_zoom",
        "min_zoom",
        "no_wrap",
        "styles",
        "tile_size",
        "tms",
        "transparent",
        "uppercase"
       ],
       "transparent": true,
       "url": "https://www.mrlc.gov/geoserver/mrlc_display/NLCD_2013_Land_Cover_L48/wms?"
      }
     },
     "ba1a6664aa4a47e7aadce3ed36c10f5d": {
      "model_module": "jupyter-leaflet",
      "model_module_version": "^0.16.0",
      "model_name": "LeafletWidgetControlModel",
      "state": {
       "_model_module": "jupyter-leaflet",
       "_model_module_version": "^0.16.0",
       "_view_count": null,
       "_view_module": "jupyter-leaflet",
       "_view_module_version": "^0.16.0",
       "options": [
        "position",
        "transparent_bg"
       ],
       "position": "topright",
       "widget": "IPY_MODEL_6c853c2a822045d4a6e2b92794daec66"
      }
     },
     "ba66d8b5b3e74efdbd23be4ac5a9bc94": {
      "model_module": "@jupyter-widgets/base",
      "model_module_version": "1.2.0",
      "model_name": "LayoutModel",
      "state": {
       "border": "1px solid black"
      }
     },
     "ba8ddd923a504e47bb284124ad227be8": {
      "model_module": "jupyter-leaflet",
      "model_module_version": "^0.16.0",
      "model_name": "LeafletTileLayerModel",
      "state": {
       "_model_module_version": "^0.16.0",
       "_view_module_version": "^0.16.0",
       "attribution": "(C) Stadia Maps, (C) OpenMapTiles (C) OpenStreetMap contributors",
       "max_native_zoom": 18,
       "max_zoom": 20,
       "min_native_zoom": 0,
       "name": "Stadia.AlidadeSmooth",
       "options": [
        "attribution",
        "bounds",
        "detect_retina",
        "max_native_zoom",
        "max_zoom",
        "min_native_zoom",
        "min_zoom",
        "no_wrap",
        "tile_size",
        "tms"
       ],
       "url": "https://tiles.stadiamaps.com/tiles/alidade_smooth/{z}/{x}/{y}.png"
      }
     },
     "bbc9e89eaf484c6aac91c30ba50d20de": {
      "model_module": "@jupyter-widgets/controls",
      "model_module_version": "1.5.0",
      "model_name": "VBoxModel",
      "state": {
       "children": [
        "IPY_MODEL_0fb01a8153d84cb7bc77afe5b7061e7f",
        "IPY_MODEL_9f3c64872f834f83986eff382f6098dd",
        "IPY_MODEL_e766aa2607ee49d7b7f4c059835a55e3",
        "IPY_MODEL_eccbdb9c23a5428e97293d7c629dd378"
       ],
       "layout": "IPY_MODEL_4de316f05e024159a32ce950cb5ff020"
      }
     },
     "bc8f155f62ce45958c015e0c4f23e2c0": {
      "model_module": "@jupyter-widgets/controls",
      "model_module_version": "1.5.0",
      "model_name": "ToggleButtonModel",
      "state": {
       "button_style": "primary",
       "icon": "fast-forward",
       "layout": "IPY_MODEL_97aa6e2030df4bc2823e72b555cfd89b",
       "style": "IPY_MODEL_e25cc1b761aa43f49da2e90a02308bf0",
       "tooltip": "Activate the time slider"
      }
     },
     "bce0b11a0bad462b8930136dff23b14e": {
      "model_module": "jupyter-leaflet",
      "model_module_version": "^0.16.0",
      "model_name": "LeafletTileLayerModel",
      "state": {
       "_model_module_version": "^0.16.0",
       "_view_module_version": "^0.16.0",
       "attribution": "Map data: (C) OpenStreetMap contributors | Map style: (C) OpenFireMap (CC-BY-SA)",
       "max_native_zoom": 18,
       "max_zoom": 19,
       "min_native_zoom": 0,
       "name": "OpenFireMap",
       "options": [
        "attribution",
        "bounds",
        "detect_retina",
        "max_native_zoom",
        "max_zoom",
        "min_native_zoom",
        "min_zoom",
        "no_wrap",
        "tile_size",
        "tms"
       ],
       "url": "http://openfiremap.org/hytiles/{z}/{x}/{y}.png"
      }
     },
     "bd84b2b45ed24070b729bba503708a0d": {
      "model_module": "jupyter-leaflet",
      "model_module_version": "^0.16.0",
      "model_name": "LeafletTileLayerModel",
      "state": {
       "_model_module_version": "^0.16.0",
       "_view_module_version": "^0.16.0",
       "attribution": "Imagery provided by services from the Global Imagery Browse Services (GIBS), operated by the NASA/GSFC/Earth Science Data and Information System (ESDIS) with funding provided by NASA/HQ.",
       "max_native_zoom": 18,
       "max_zoom": 7,
       "min_native_zoom": 0,
       "name": "NASAGIBS.ModisTerraChlorophyll",
       "options": [
        "attribution",
        "bounds",
        "detect_retina",
        "max_native_zoom",
        "max_zoom",
        "min_native_zoom",
        "min_zoom",
        "no_wrap",
        "tile_size",
        "tms"
       ],
       "url": "https://map1.vis.earthdata.nasa.gov/wmts-webmerc/MODIS_Terra_Chlorophyll_A/default//GoogleMapsCompatible_Level7/{z}/{y}/{x}.png"
      }
     },
     "bde3c190a22c4ead867d7f2894eaae0c": {
      "model_module": "@jupyter-widgets/controls",
      "model_module_version": "1.5.0",
      "model_name": "DescriptionStyleModel",
      "state": {
       "description_width": ""
      }
     },
     "be15f97a960647c0916a60f041fc5b1e": {
      "model_module": "jupyter-leaflet",
      "model_module_version": "^0.16.0",
      "model_name": "LeafletMapStyleModel",
      "state": {
       "_model_module_version": "^0.16.0"
      }
     },
     "be23abc04821453d925a880839f86bbd": {
      "model_module": "@jupyter-widgets/controls",
      "model_module_version": "1.5.0",
      "model_name": "DescriptionStyleModel",
      "state": {
       "description_width": ""
      }
     },
     "bea252fc29374fc09c5fe7b34ee79936": {
      "model_module": "@jupyter-widgets/controls",
      "model_module_version": "1.5.0",
      "model_name": "DescriptionStyleModel",
      "state": {
       "description_width": ""
      }
     },
     "bf25457c099a4a71897b86401012e1ad": {
      "model_module": "jupyter-leaflet",
      "model_module_version": "^0.16.0",
      "model_name": "LeafletWMSLayerModel",
      "state": {
       "_model_module_version": "^0.16.0",
       "_view_module_version": "^0.16.0",
       "attribution": "MRLC",
       "crs": {
        "custom": false,
        "name": "EPSG3857"
       },
       "format": "image/png",
       "layers": "NLCD_2004_Land_Cover_L48",
       "max_native_zoom": 18,
       "min_native_zoom": 0,
       "name": "NLCD 2004 CONUS Land Cover",
       "options": [
        "attribution",
        "bounds",
        "detect_retina",
        "format",
        "layers",
        "max_native_zoom",
        "max_zoom",
        "min_native_zoom",
        "min_zoom",
        "no_wrap",
        "styles",
        "tile_size",
        "tms",
        "transparent",
        "uppercase"
       ],
       "transparent": true,
       "url": "https://www.mrlc.gov/geoserver/mrlc_display/NLCD_2004_Land_Cover_L48/wms?"
      }
     },
     "bf3dd015448046e6a64ab5497978f609": {
      "model_module": "@jupyter-widgets/controls",
      "model_module_version": "1.5.0",
      "model_name": "ToggleButtonModel",
      "state": {
       "button_style": "primary",
       "icon": "picture-o",
       "layout": "IPY_MODEL_60e4d9d903314c6e81436ed7495e6356",
       "style": "IPY_MODEL_34df83388eca41a38b54dc6b9d6aee6a",
       "tooltip": "Open COG/STAC dataset"
      }
     },
     "c235aedf0c914a94940f9d1cad4e040c": {
      "model_module": "@jupyter-widgets/output",
      "model_module_version": "1.0.0",
      "model_name": "OutputModel",
      "state": {
       "layout": "IPY_MODEL_ba66d8b5b3e74efdbd23be4ac5a9bc94",
       "outputs": [
        {
         "name": "stdout",
         "output_type": "stream",
         "text": "Called Run Model\nNot using the GPU\n"
        },
        {
         "data": {
          "application/vnd.jupyter.widget-view+json": {
           "model_id": "078beeb6fef74691aad7f8092a19116b",
           "version_major": 2,
           "version_minor": 0
          },
          "text/plain": "  0%|          | 0/7 [00:00<?, ?it/s]"
         },
         "metadata": {},
         "output_type": "display_data"
        },
        {
         "name": "stdout",
         "output_type": "stream",
         "text": "1/1 [==============================] - 4s 4s/step\n1/1 [==============================] - 3s 3s/step\n1/1 [==============================] - 2s 2s/step\n1/1 [==============================] - 1s 1s/step\n1/1 [==============================] - 1s 1s/step\n1/1 [==============================] - 1s 1s/step\n1/1 [==============================] - 1s 1s/step\n1/1 [==============================] - 1s 1s/step\n1/1 [==============================] - 1s 1s/step\n1/1 [==============================] - 1s 955ms/step\n1/1 [==============================] - 1s 1s/step\n1/1 [==============================] - 1s 1s/step\n1/1 [==============================] - 1s 998ms/step\n1/1 [==============================] - 1s 1s/step\n1/1 [==============================] - 1s 1s/step\n1/1 [==============================] - 1s 967ms/step\n1/1 [==============================] - 1s 1s/step\n1/1 [==============================] - 1s 961ms/step\n1/1 [==============================] - 1s 1s/step\n1/1 [==============================] - 1s 1s/step\n1/1 [==============================] - 1s 1s/step\n"
        }
       ]
      }
     },
     "c27bf7b48b9b45c9b1593081c8fcc855": {
      "model_module": "@jupyter-widgets/base",
      "model_module_version": "1.2.0",
      "model_name": "LayoutModel",
      "state": {
       "margin": "0px 20px 20px 20px"
      }
     },
     "c31f680402c24e8a83d697b5fe63cf40": {
      "model_module": "@jupyter-widgets/controls",
      "model_module_version": "1.5.0",
      "model_name": "DescriptionStyleModel",
      "state": {
       "description_width": ""
      }
     },
     "c32c73890aa546f684a71903efdada58": {
      "model_module": "@jupyter-widgets/base",
      "model_module_version": "1.2.0",
      "model_name": "LayoutModel",
      "state": {
       "height": "auto",
       "padding": "0px 0px 0px 4px",
       "width": "auto"
      }
     },
     "c4d04226cb4e4c2dbad333819ddc7f59": {
      "model_module": "@jupyter-widgets/base",
      "model_module_version": "1.2.0",
      "model_name": "LayoutModel",
      "state": {
       "height": "auto",
       "padding": "0px 0px 0px 4px",
       "width": "auto"
      }
     },
     "c4dee568a6d6438ea2358e623247ecf7": {
      "model_module": "jupyter-leaflet",
      "model_module_version": "^0.16.0",
      "model_name": "LeafletTileLayerModel",
      "state": {
       "_model_module_version": "^0.16.0",
       "_view_module_version": "^0.16.0",
       "attribution": "Datenquelle: basemap.at",
       "max_native_zoom": 18,
       "max_zoom": 19,
       "min_native_zoom": 0,
       "name": "BasemapAT.terrain",
       "options": [
        "attribution",
        "bounds",
        "detect_retina",
        "max_native_zoom",
        "max_zoom",
        "min_native_zoom",
        "min_zoom",
        "no_wrap",
        "tile_size",
        "tms"
       ],
       "url": "https://maps.wien.gv.at/basemap/bmapgelaende/grau/google3857/{z}/{y}/{x}.jpeg"
      }
     },
     "c5d357f3aa214e07827cfff109cbf6b7": {
      "model_module": "@jupyter-widgets/base",
      "model_module_version": "1.2.0",
      "model_name": "LayoutModel",
      "state": {}
     },
     "c64a9d101e444b18a34e478aafc950ea": {
      "model_module": "jupyter-leaflet",
      "model_module_version": "^0.16.0",
      "model_name": "LeafletTileLayerModel",
      "state": {
       "_model_module_version": "^0.16.0",
       "_view_module_version": "^0.16.0",
       "attribution": "Imagery provided by services from the Global Imagery Browse Services (GIBS), operated by the NASA/GSFC/Earth Science Data and Information System (ESDIS) with funding provided by NASA/HQ.",
       "max_native_zoom": 18,
       "max_zoom": 9,
       "min_native_zoom": 0,
       "name": "NASAGIBS.ModisAquaBands721CR",
       "options": [
        "attribution",
        "bounds",
        "detect_retina",
        "max_native_zoom",
        "max_zoom",
        "min_native_zoom",
        "min_zoom",
        "no_wrap",
        "tile_size",
        "tms"
       ],
       "url": "https://gibs.earthdata.nasa.gov/wmts/epsg3857/best/MODIS_Aqua_CorrectedReflectance_Bands721/default//GoogleMapsCompatible_Level9/{z}/{y}/{x}.jpg"
      }
     },
     "c69465850e8849f49a9f21cde2532667": {
      "model_module": "jupyter-leaflet",
      "model_module_version": "^0.16.0",
      "model_name": "LeafletTileLayerModel",
      "state": {
       "_model_module_version": "^0.16.0",
       "_view_module_version": "^0.16.0",
       "attribution": "(C) OpenStreetMap contributors (C) CARTO",
       "max_native_zoom": 18,
       "max_zoom": 20,
       "min_native_zoom": 0,
       "name": "CartoDB.VoyagerOnlyLabels",
       "options": [
        "attribution",
        "bounds",
        "detect_retina",
        "max_native_zoom",
        "max_zoom",
        "min_native_zoom",
        "min_zoom",
        "no_wrap",
        "tile_size",
        "tms"
       ],
       "url": "https://a.basemaps.cartocdn.com/rastertiles/voyager_only_labels/{z}/{x}/{y}.png"
      }
     },
     "c70392511aff4a1cabd40d782cbcfc38": {
      "model_module": "@jupyter-widgets/controls",
      "model_module_version": "1.5.0",
      "model_name": "ToggleButtonModel",
      "state": {
       "button_style": "primary",
       "icon": "search-plus",
       "layout": "IPY_MODEL_5fba306e62fe46e08294062b70156198",
       "style": "IPY_MODEL_e499c9cde33f4960be5b82dd98e1f1a4",
       "tooltip": "Search features in GeoJSON layer"
      }
     },
     "c7b792e7101d497299ae30480fbc7d26": {
      "model_module": "jupyter-leaflet",
      "model_module_version": "^0.16.0",
      "model_name": "LeafletTileLayerModel",
      "state": {
       "_model_module_version": "^0.16.0",
       "_view_module_version": "^0.16.0",
       "attribution": "(C) OpenStreetMap contributors (C) CARTO",
       "max_native_zoom": 18,
       "max_zoom": 20,
       "min_native_zoom": 0,
       "name": "CartoDB.DarkMatter",
       "options": [
        "attribution",
        "bounds",
        "detect_retina",
        "max_native_zoom",
        "max_zoom",
        "min_native_zoom",
        "min_zoom",
        "no_wrap",
        "tile_size",
        "tms"
       ],
       "url": "https://a.basemaps.cartocdn.com/dark_all/{z}/{x}/{y}.png"
      }
     },
     "c9626ebd43f54bcea37af6dc0146ae72": {
      "model_module": "jupyter-leaflet",
      "model_module_version": "^0.16.0",
      "model_name": "LeafletTileLayerModel",
      "state": {
       "_model_module_version": "^0.16.0",
       "_view_module_version": "^0.16.0",
       "attribution": "Tiles (C) Esri -- Copyright: (C)2012 DeLorme",
       "max_native_zoom": 18,
       "max_zoom": 11,
       "min_native_zoom": 0,
       "name": "Esri.DeLorme",
       "options": [
        "attribution",
        "bounds",
        "detect_retina",
        "max_native_zoom",
        "max_zoom",
        "min_native_zoom",
        "min_zoom",
        "no_wrap",
        "tile_size",
        "tms"
       ],
       "url": "https://server.arcgisonline.com/ArcGIS/rest/services/Specialty/DeLorme_World_Base_Map/MapServer/tile/{z}/{y}/{x}"
      }
     },
     "c974b59a8a914852be5af1d13fa288e3": {
      "model_module": "@jupyter-widgets/controls",
      "model_module_version": "1.5.0",
      "model_name": "HTMLModel",
      "state": {
       "layout": "IPY_MODEL_c27bf7b48b9b45c9b1593081c8fcc855",
       "style": "IPY_MODEL_414e183ae07043dbb74ebab1a38c3fb0",
       "value": "Hover over shoreline"
      }
     },
     "c9cb7f5862de4a009bffb6fb141777c9": {
      "model_module": "@jupyter-widgets/controls",
      "model_module_version": "1.5.0",
      "model_name": "ButtonModel",
      "state": {
       "description": "Remove all",
       "layout": "IPY_MODEL_73b4c48750a346ec8bf34f7cd21040a0",
       "style": "IPY_MODEL_955e078cc4bc4c13b25728d9995ad9fb"
      }
     },
     "cabda4dc0bdb42889baf41c493855a8f": {
      "model_module": "jupyter-leaflet",
      "model_module_version": "^0.16.0",
      "model_name": "LeafletTileLayerModel",
      "state": {
       "_model_module_version": "^0.16.0",
       "_view_module_version": "^0.16.0",
       "attribution": "Justice Map",
       "max_native_zoom": 18,
       "max_zoom": 22,
       "min_native_zoom": 0,
       "name": "JusticeMap.nonWhite",
       "options": [
        "attribution",
        "bounds",
        "detect_retina",
        "max_native_zoom",
        "max_zoom",
        "min_native_zoom",
        "min_zoom",
        "no_wrap",
        "tile_size",
        "tms"
       ],
       "url": "https://www.justicemap.org/tile/county/nonwhite/{z}/{x}/{y}.png"
      }
     },
     "cacc1b70a890455c969c2553122d1d9f": {
      "model_module": "@jupyter-widgets/base",
      "model_module_version": "1.2.0",
      "model_name": "LayoutModel",
      "state": {
       "padding": "10px"
      }
     },
     "cb20bf103a41445eb502f6b25617d00b": {
      "model_module": "@jupyter-widgets/base",
      "model_module_version": "1.2.0",
      "model_name": "LayoutModel",
      "state": {}
     },
     "cb6f995d306b42f89d3dba86d9c42bd6": {
      "model_module": "jupyter-leaflet",
      "model_module_version": "^0.16.0",
      "model_name": "LeafletTileLayerModel",
      "state": {
       "_model_module_version": "^0.16.0",
       "_view_module_version": "^0.16.0",
       "attribution": "Datenquelle: basemap.at",
       "max_native_zoom": 18,
       "max_zoom": 20,
       "min_native_zoom": 0,
       "name": "BasemapAT.orthofoto",
       "options": [
        "attribution",
        "bounds",
        "detect_retina",
        "max_native_zoom",
        "max_zoom",
        "min_native_zoom",
        "min_zoom",
        "no_wrap",
        "tile_size",
        "tms"
       ],
       "url": "https://maps.wien.gv.at/basemap/bmaporthofoto30cm/normal/google3857/{z}/{y}/{x}.jpeg"
      }
     },
     "cb74bd3e40d444a79c60fb66416d76ec": {
      "model_module": "@jupyter-widgets/controls",
      "model_module_version": "1.5.0",
      "model_name": "DescriptionStyleModel",
      "state": {
       "description_width": ""
      }
     },
     "cb8f63cbab1a4a6fb64698022944d990": {
      "model_module": "jupyter-leaflet",
      "model_module_version": "^0.16.0",
      "model_name": "LeafletTileLayerModel",
      "state": {
       "_model_module_version": "^0.16.0",
       "_view_module_version": "^0.16.0",
       "attribution": "Imagery provided by services from the Global Imagery Browse Services (GIBS), operated by the NASA/GSFC/Earth Science Data and Information System (ESDIS) with funding provided by NASA/HQ.",
       "max_native_zoom": 18,
       "max_zoom": 9,
       "min_native_zoom": 0,
       "name": "NASAGIBS.ViirsTrueColorCR",
       "options": [
        "attribution",
        "bounds",
        "detect_retina",
        "max_native_zoom",
        "max_zoom",
        "min_native_zoom",
        "min_zoom",
        "no_wrap",
        "tile_size",
        "tms"
       ],
       "url": "https://gibs.earthdata.nasa.gov/wmts/epsg3857/best/VIIRS_SNPP_CorrectedReflectance_TrueColor/default//GoogleMapsCompatible_Level9/{z}/{y}/{x}.jpg"
      }
     },
     "cc0a8c94288a40f1978a77e1fd29c543": {
      "model_module": "jupyter-leaflet",
      "model_module_version": "^0.16.0",
      "model_name": "LeafletTileLayerModel",
      "state": {
       "_model_module_version": "^0.16.0",
       "_view_module_version": "^0.16.0",
       "attribution": "(C) OpenStreetMap contributors",
       "max_native_zoom": 18,
       "min_native_zoom": 0,
       "name": "OpenStreetMap.CH",
       "options": [
        "attribution",
        "bounds",
        "detect_retina",
        "max_native_zoom",
        "max_zoom",
        "min_native_zoom",
        "min_zoom",
        "no_wrap",
        "tile_size",
        "tms"
       ],
       "url": "https://tile.osm.ch/switzerland/{z}/{x}/{y}.png"
      }
     },
     "cc7c4dfc23074f69bbe72f43e55ad894": {
      "model_module": "@jupyter-widgets/base",
      "model_module_version": "1.2.0",
      "model_name": "LayoutModel",
      "state": {}
     },
     "cdec2da72e034073bdcfe38052c8b4bb": {
      "model_module": "@jupyter-widgets/controls",
      "model_module_version": "1.5.0",
      "model_name": "ButtonModel",
      "state": {
       "description": "Remove transects",
       "layout": "IPY_MODEL_d54771fea87c430cb5cd2fa0ec03b392",
       "style": "IPY_MODEL_97662f287695480c906324c9262b944d"
      }
     },
     "cf1f4e779ce94ce3a1884c509cc68248": {
      "model_module": "jupyter-leaflet",
      "model_module_version": "^0.16.0",
      "model_name": "LeafletTileLayerModel",
      "state": {
       "_model_module_version": "^0.16.0",
       "_view_module_version": "^0.16.0",
       "attribution": "Google",
       "max_native_zoom": 18,
       "max_zoom": 22,
       "min_native_zoom": 0,
       "name": "Google Satellite",
       "options": [
        "attribution",
        "bounds",
        "detect_retina",
        "max_native_zoom",
        "max_zoom",
        "min_native_zoom",
        "min_zoom",
        "no_wrap",
        "tile_size",
        "tms"
       ],
       "url": "https://mt1.google.com/vt/lyrs=s&x={x}&y={y}&z={z}"
      }
     },
     "cf4d4910ed044f78b1b0ec0959fe9afa": {
      "model_module": "@jupyter-widgets/controls",
      "model_module_version": "1.5.0",
      "model_name": "DescriptionStyleModel",
      "state": {
       "description_width": ""
      }
     },
     "cf58bbfd14e34fc89221e3a9c7c7aaa1": {
      "model_module": "jupyter-leaflet",
      "model_module_version": "^0.16.0",
      "model_name": "LeafletWMSLayerModel",
      "state": {
       "_model_module_version": "^0.16.0",
       "_view_module_version": "^0.16.0",
       "attribution": "FWS",
       "crs": {
        "custom": false,
        "name": "EPSG3857"
       },
       "format": "image/png",
       "layers": "0",
       "max_native_zoom": 18,
       "min_native_zoom": 0,
       "name": "FWS NWI Wetlands Raster",
       "options": [
        "attribution",
        "bounds",
        "detect_retina",
        "format",
        "layers",
        "max_native_zoom",
        "max_zoom",
        "min_native_zoom",
        "min_zoom",
        "no_wrap",
        "styles",
        "tile_size",
        "tms",
        "transparent",
        "uppercase"
       ],
       "transparent": true,
       "url": "https://www.fws.gov/wetlands/arcgis/services/Wetlands_Raster/ImageServer/WMSServer?"
      }
     },
     "cfb1c989317649ab91f40949cb37cfbd": {
      "model_module": "jupyter-leaflet",
      "model_module_version": "^0.16.0",
      "model_name": "LeafletTileLayerModel",
      "state": {
       "_model_module_version": "^0.16.0",
       "_view_module_version": "^0.16.0",
       "attribution": "Map tiles by <a href=\"https://labs.strava.com/heatmap\">Strava 2021</a>",
       "max_native_zoom": 18,
       "max_zoom": 15,
       "min_native_zoom": 0,
       "name": "Strava.Water",
       "options": [
        "attribution",
        "bounds",
        "detect_retina",
        "max_native_zoom",
        "max_zoom",
        "min_native_zoom",
        "min_zoom",
        "no_wrap",
        "tile_size",
        "tms"
       ],
       "url": "https://heatmap-external-a.strava.com/tiles/water/blue/{z}/{x}/{y}.png"
      }
     },
     "d13099388ff647afa2734c4e5703c5a5": {
      "model_module": "@jupyter-widgets/base",
      "model_module_version": "1.2.0",
      "model_name": "LayoutModel",
      "state": {}
     },
     "d1782709c5694063bc2e6b5a48e605e3": {
      "model_module": "jupyter-leaflet",
      "model_module_version": "^0.16.0",
      "model_name": "LeafletTileLayerModel",
      "state": {
       "_model_module_version": "^0.16.0",
       "_view_module_version": "^0.16.0",
       "attribution": "CyclOSM | Map data: (C) OpenStreetMap contributors",
       "max_native_zoom": 18,
       "max_zoom": 20,
       "min_native_zoom": 0,
       "name": "CyclOSM",
       "options": [
        "attribution",
        "bounds",
        "detect_retina",
        "max_native_zoom",
        "max_zoom",
        "min_native_zoom",
        "min_zoom",
        "no_wrap",
        "tile_size",
        "tms"
       ],
       "url": "https://a.tile-cyclosm.openstreetmap.fr/cyclosm/{z}/{x}/{y}.png"
      }
     },
     "d42e35abcbfb42a6a16b2c4818324f4c": {
      "model_module": "jupyter-leaflet",
      "model_module_version": "^0.16.0",
      "model_name": "LeafletTileLayerModel",
      "state": {
       "_model_module_version": "^0.16.0",
       "_view_module_version": "^0.16.0",
       "attribution": "Map tiles by Stamen Design, CC BY 3.0 -- Map data (C) OpenStreetMap contributors",
       "max_native_zoom": 18,
       "min_native_zoom": 0,
       "name": "Stamen.TerrainLabels",
       "options": [
        "attribution",
        "bounds",
        "detect_retina",
        "max_native_zoom",
        "max_zoom",
        "min_native_zoom",
        "min_zoom",
        "no_wrap",
        "tile_size",
        "tms"
       ],
       "url": "https://stamen-tiles-a.a.ssl.fastly.net/terrain-labels/{z}/{x}/{y}.png"
      }
     },
     "d4af1431a1db4110a6691cb5dd054dbb": {
      "model_module": "@jupyter-widgets/base",
      "model_module_version": "1.2.0",
      "model_name": "LayoutModel",
      "state": {
       "height": "auto",
       "padding": "0px 0px 0px 4px",
       "width": "auto"
      }
     },
     "d4cd42f9dba14ab0b070b55afac4667d": {
      "model_module": "jupyter-leaflet",
      "model_module_version": "^0.16.0",
      "model_name": "LeafletTileLayerModel",
      "state": {
       "_model_module_version": "^0.16.0",
       "_view_module_version": "^0.16.0",
       "attribution": "Tiles (C) Esri -- Source: US National Park Service",
       "max_native_zoom": 18,
       "max_zoom": 8,
       "min_native_zoom": 0,
       "name": "Esri.WorldPhysical",
       "options": [
        "attribution",
        "bounds",
        "detect_retina",
        "max_native_zoom",
        "max_zoom",
        "min_native_zoom",
        "min_zoom",
        "no_wrap",
        "tile_size",
        "tms"
       ],
       "url": "https://server.arcgisonline.com/ArcGIS/rest/services/World_Physical_Map/MapServer/tile/{z}/{y}/{x}"
      }
     },
     "d54771fea87c430cb5cd2fa0ec03b392": {
      "model_module": "@jupyter-widgets/base",
      "model_module_version": "1.2.0",
      "model_name": "LayoutModel",
      "state": {}
     },
     "d5c50943ddca4fd9820124f0e1afc8e2": {
      "model_module": "@jupyter-widgets/controls",
      "model_module_version": "1.5.0",
      "model_name": "ButtonModel",
      "state": {
       "description": "Load Shoreline",
       "layout": "IPY_MODEL_b7b2cc9441b7441382982711edcefc38",
       "style": "IPY_MODEL_15a4739134284b67b2f10dd359ef7f24"
      }
     },
     "d73fb1b8a8804f17b10062b6aaf0c8a4": {
      "model_module": "jupyter-leaflet",
      "model_module_version": "^0.16.0",
      "model_name": "LeafletTileLayerModel",
      "state": {
       "_model_module_version": "^0.16.0",
       "_view_module_version": "^0.16.0",
       "attribution": "Map memomaps.de CC-BY-SA, map data (C) OpenStreetMap contributors",
       "max_native_zoom": 18,
       "min_native_zoom": 0,
       "name": "OPNVKarte",
       "options": [
        "attribution",
        "bounds",
        "detect_retina",
        "max_native_zoom",
        "max_zoom",
        "min_native_zoom",
        "min_zoom",
        "no_wrap",
        "tile_size",
        "tms"
       ],
       "url": "https://tileserver.memomaps.de/tilegen/{z}/{x}/{y}.png"
      }
     },
     "d74443c4d8204976aad5b178a8725c33": {
      "model_module": "jupyter-leaflet",
      "model_module_version": "^0.16.0",
      "model_name": "LeafletTileLayerModel",
      "state": {
       "_model_module_version": "^0.16.0",
       "_view_module_version": "^0.16.0",
       "attribution": "(C) OpenStreetMap contributors (C) CARTO",
       "max_native_zoom": 18,
       "max_zoom": 20,
       "min_native_zoom": 0,
       "name": "CartoDB.PositronNoLabels",
       "options": [
        "attribution",
        "bounds",
        "detect_retina",
        "max_native_zoom",
        "max_zoom",
        "min_native_zoom",
        "min_zoom",
        "no_wrap",
        "tile_size",
        "tms"
       ],
       "url": "https://a.basemaps.cartocdn.com/light_nolabels/{z}/{x}/{y}.png"
      }
     },
     "d7a0ca1a6c3d467fb03561301d1ec64c": {
      "model_module": "@jupyter-widgets/controls",
      "model_module_version": "1.5.0",
      "model_name": "DescriptionStyleModel",
      "state": {
       "description_width": ""
      }
     },
     "d846b791d3b948c1b096749cbd97e3e8": {
      "model_module": "jupyter-leaflet",
      "model_module_version": "^0.16.0",
      "model_name": "LeafletTileLayerModel",
      "state": {
       "_model_module_version": "^0.16.0",
       "_view_module_version": "^0.16.0",
       "attribution": "Imagery provided by services from the Global Imagery Browse Services (GIBS), operated by the NASA/GSFC/Earth Science Data and Information System (ESDIS) with funding provided by NASA/HQ.",
       "max_native_zoom": 18,
       "max_zoom": 9,
       "min_native_zoom": 0,
       "name": "NASAGIBS.ModisAquaTrueColorCR",
       "options": [
        "attribution",
        "bounds",
        "detect_retina",
        "max_native_zoom",
        "max_zoom",
        "min_native_zoom",
        "min_zoom",
        "no_wrap",
        "tile_size",
        "tms"
       ],
       "url": "https://gibs.earthdata.nasa.gov/wmts/epsg3857/best/MODIS_Aqua_CorrectedReflectance_TrueColor/default//GoogleMapsCompatible_Level9/{z}/{y}/{x}.jpg"
      }
     },
     "d9cf17925269402e8f49153140e21d05": {
      "model_module": "@jupyter-widgets/controls",
      "model_module_version": "1.5.0",
      "model_name": "ButtonModel",
      "state": {
       "description": "Select Your Images",
       "layout": "IPY_MODEL_cb20bf103a41445eb502f6b25617d00b",
       "style": "IPY_MODEL_a3cc6e583598454cb870f54d7ecd30dc"
      }
     },
     "da5675778c2f4ce18eef19ab69b8df80": {
      "model_module": "@jupyter-widgets/controls",
      "model_module_version": "1.5.0",
      "model_name": "DescriptionStyleModel",
      "state": {
       "description_width": ""
      }
     },
     "dbb93dba7ac2490e8decf7ede4a414f8": {
      "model_module": "jupyter-leaflet",
      "model_module_version": "^0.16.0",
      "model_name": "LeafletTileLayerModel",
      "state": {
       "_model_module_version": "^0.16.0",
       "_view_module_version": "^0.16.0",
       "attribution": "(C) OpenStreetMap contributors",
       "max_native_zoom": 18,
       "max_zoom": 19,
       "min_native_zoom": 0,
       "name": "HikeBike.HikeBike",
       "options": [
        "attribution",
        "bounds",
        "detect_retina",
        "max_native_zoom",
        "max_zoom",
        "min_native_zoom",
        "min_zoom",
        "no_wrap",
        "tile_size",
        "tms"
       ],
       "url": "https://tiles.wmflabs.org/hikebike/{z}/{x}/{y}.png"
      }
     },
     "dcbbe39b876c4506a7af4c97c75d76d5": {
      "model_module": "@jupyter-widgets/controls",
      "model_module_version": "1.5.0",
      "model_name": "ToggleButtonModel",
      "state": {
       "button_style": "primary",
       "icon": "download",
       "layout": "IPY_MODEL_745f3d024c3a4d8980534aa3e14b5242",
       "style": "IPY_MODEL_f938ac29986d456c805c6a402ea75e56",
       "tooltip": "Download OSM data"
      }
     },
     "dcd65c4f0dcd4df9a595934a62b0a5ce": {
      "model_module": "jupyter-leaflet",
      "model_module_version": "^0.16.0",
      "model_name": "LeafletWMSLayerModel",
      "state": {
       "_model_module_version": "^0.16.0",
       "_view_module_version": "^0.16.0",
       "attribution": "MRLC",
       "crs": {
        "custom": false,
        "name": "EPSG3857"
       },
       "format": "image/png",
       "layers": "NLCD_2001_Land_Cover_L48",
       "max_native_zoom": 18,
       "min_native_zoom": 0,
       "name": "NLCD 2001 CONUS Land Cover",
       "options": [
        "attribution",
        "bounds",
        "detect_retina",
        "format",
        "layers",
        "max_native_zoom",
        "max_zoom",
        "min_native_zoom",
        "min_zoom",
        "no_wrap",
        "styles",
        "tile_size",
        "tms",
        "transparent",
        "uppercase"
       ],
       "transparent": true,
       "url": "https://www.mrlc.gov/geoserver/mrlc_display/NLCD_2001_Land_Cover_L48/wms?"
      }
     },
     "dce5f47aa05045d3bc9d8c9548f1aedc": {
      "model_module": "jupyter-leaflet",
      "model_module_version": "^0.16.0",
      "model_name": "LeafletWMSLayerModel",
      "state": {
       "_model_module_version": "^0.16.0",
       "_view_module_version": "^0.16.0",
       "attribution": "MRLC",
       "crs": {
        "custom": false,
        "name": "EPSG3857"
       },
       "format": "image/png",
       "layers": "NLCD_2019_Land_Cover_L48",
       "max_native_zoom": 18,
       "min_native_zoom": 0,
       "name": "NLCD 2019 CONUS Land Cover",
       "options": [
        "attribution",
        "bounds",
        "detect_retina",
        "format",
        "layers",
        "max_native_zoom",
        "max_zoom",
        "min_native_zoom",
        "min_zoom",
        "no_wrap",
        "styles",
        "tile_size",
        "tms",
        "transparent",
        "uppercase"
       ],
       "transparent": true,
       "url": "https://www.mrlc.gov/geoserver/mrlc_display/NLCD_2019_Land_Cover_L48/wms?"
      }
     },
     "df4b9d6d38b34014a8bab55d1aacdfd0": {
      "model_module": "@jupyter-widgets/base",
      "model_module_version": "1.2.0",
      "model_name": "LayoutModel",
      "state": {}
     },
     "e0454d6a8407499182748f0d3b268600": {
      "model_module": "@jupyter-widgets/base",
      "model_module_version": "1.2.0",
      "model_name": "LayoutModel",
      "state": {
       "height": "auto",
       "padding": "0px 0px 0px 4px",
       "width": "auto"
      }
     },
     "e12d5eaf2bbc412297492ab0227548b4": {
      "model_module": "@jupyter-widgets/controls",
      "model_module_version": "1.5.0",
      "model_name": "ButtonStyleModel",
      "state": {}
     },
     "e258ce13b8e246e6929e4de70749d9bd": {
      "model_module": "@jupyter-widgets/controls",
      "model_module_version": "1.5.0",
      "model_name": "ButtonStyleModel",
      "state": {}
     },
     "e25cc1b761aa43f49da2e90a02308bf0": {
      "model_module": "@jupyter-widgets/controls",
      "model_module_version": "1.5.0",
      "model_name": "DescriptionStyleModel",
      "state": {
       "description_width": ""
      }
     },
     "e290590434b44082b2ed35eee68aca10": {
      "model_module": "@jupyter-widgets/controls",
      "model_module_version": "1.5.0",
      "model_name": "DescriptionStyleModel",
      "state": {
       "description_width": ""
      }
     },
     "e3143b91e3a74c988cfcc69af7ad39b5": {
      "model_module": "jupyter-leaflet",
      "model_module_version": "^0.16.0",
      "model_name": "LeafletTileLayerModel",
      "state": {
       "_model_module_version": "^0.16.0",
       "_view_module_version": "^0.16.0",
       "attribution": "Kaartgegevens (C) Kadaster",
       "max_native_zoom": 18,
       "max_zoom": 19,
       "min_native_zoom": 0,
       "name": "nlmaps.luchtfoto",
       "options": [
        "attribution",
        "bounds",
        "detect_retina",
        "max_native_zoom",
        "max_zoom",
        "min_native_zoom",
        "min_zoom",
        "no_wrap",
        "tile_size",
        "tms"
       ],
       "url": "https://service.pdok.nl/hwh/luchtfotorgb/wmts/v1_0/Actueel_ortho25/EPSG:3857/{z}/{x}/{y}.jpeg"
      }
     },
     "e40d975d750f4710960039dc4c5f1a20": {
      "model_module": "jupyter-leaflet",
      "model_module_version": "^0.16.0",
      "model_name": "LeafletTileLayerModel",
      "state": {
       "_model_module_version": "^0.16.0",
       "_view_module_version": "^0.16.0",
       "attribution": "Map data: (C) OpenStreetMap contributors | Map style: (C) waymarkedtrails.org (CC-BY-SA)",
       "max_native_zoom": 18,
       "min_native_zoom": 0,
       "name": "WaymarkedTrails.skating",
       "options": [
        "attribution",
        "bounds",
        "detect_retina",
        "max_native_zoom",
        "max_zoom",
        "min_native_zoom",
        "min_zoom",
        "no_wrap",
        "tile_size",
        "tms"
       ],
       "url": "https://tile.waymarkedtrails.org/skating/{z}/{x}/{y}.png"
      }
     },
     "e4357398bee243d8a98ecef51b2bbd73": {
      "model_module": "@jupyter-widgets/controls",
      "model_module_version": "1.5.0",
      "model_name": "DescriptionStyleModel",
      "state": {
       "description_width": ""
      }
     },
     "e45214e7e6dd496e99426402e7433e22": {
      "model_module": "@jupyter-widgets/controls",
      "model_module_version": "1.5.0",
      "model_name": "ToggleButtonModel",
      "state": {
       "button_style": "primary",
       "icon": "globe",
       "layout": "IPY_MODEL_b292d570ddc849ff904a1754fe0c3dc1",
       "style": "IPY_MODEL_e4357398bee243d8a98ecef51b2bbd73",
       "tooltip": "Split-panel map"
      }
     },
     "e499c9cde33f4960be5b82dd98e1f1a4": {
      "model_module": "@jupyter-widgets/controls",
      "model_module_version": "1.5.0",
      "model_name": "DescriptionStyleModel",
      "state": {
       "description_width": ""
      }
     },
     "e529e046345145e785549181335f0f0d": {
      "model_module": "@jupyter-widgets/base",
      "model_module_version": "1.2.0",
      "model_name": "LayoutModel",
      "state": {
       "height": "600px",
       "width": "100%"
      }
     },
     "e65d10bddded43b19d2773b95774a94f": {
      "model_module": "jupyter-leaflet",
      "model_module_version": "^0.16.0",
      "model_name": "LeafletScaleControlModel",
      "state": {
       "_model_module_version": "^0.16.0",
       "_view_module_version": "^0.16.0",
       "imperial": true,
       "max_width": 100,
       "metric": true,
       "options": [
        "imperial",
        "max_width",
        "metric",
        "position",
        "update_when_idle"
       ],
       "position": "bottomleft",
       "update_when_idle": false
      }
     },
     "e6c5bd8c57af4aaca3ed5274e2548064": {
      "model_module": "@jupyter-widgets/controls",
      "model_module_version": "1.5.0",
      "model_name": "HTMLModel",
      "state": {
       "layout": "IPY_MODEL_9d3d78c99bca4fbda27f4ea742e9e5b2",
       "style": "IPY_MODEL_1979030a45b54298a2c1a3f3c753ff2a",
       "value": "<b>Pick multiple satellites by holding the control key:</b>         <br> - images prior to 2022/01/01 will be downloaded from Collection 1         <br> - images after 2022/01/01 will be automatically downloaded from Collection 2         <br> C01: LandSat Collection 1 : All dates before 2022/01/01        <br> C02: LandSat Collection 2 : All dates after 2022/01/01         <br> - Landsat 9 is only available in C02"
      }
     },
     "e6ff4332931649ab817aeaf67125ac1f": {
      "model_module": "@jupyter-widgets/base",
      "model_module_version": "1.2.0",
      "model_name": "LayoutModel",
      "state": {}
     },
     "e766aa2607ee49d7b7f4c059835a55e3": {
      "model_module": "@jupyter-widgets/controls",
      "model_module_version": "1.5.0",
      "model_name": "HTMLModel",
      "state": {
       "layout": "IPY_MODEL_66544f833c9f48d9bee3ebd9aa544899",
       "style": "IPY_MODEL_4759e5b32f5241ae905343aa5307e4ea",
       "value": "<b>1. Use Data Folder Button</b>         <br> - When CoastSat downloads imagery it created a folder called 'data'in the CoastSeg directory.            The jpgs within the 'data' folder will be copied to another folder with a name such as            <span style=\"background-color:LightGray;\">segmentation_data_2022-07-07__10_hr_04_min58 </span>            (the date and time will be the current date and time) <br>            The model will be applied to this folder and the model outputs will be generated within a subdirectory             called 'out'"
      }
     },
     "e7f1161ab9d44dd6911a01a4f271bf59": {
      "model_module": "@jupyter-widgets/controls",
      "model_module_version": "1.5.0",
      "model_name": "DescriptionStyleModel",
      "state": {
       "description_width": ""
      }
     },
     "e999d496692346aa973403b348c10967": {
      "model_module": "jupyter-leaflet",
      "model_module_version": "^0.16.0",
      "model_name": "LeafletTileLayerModel",
      "state": {
       "_model_module_version": "^0.16.0",
       "_view_module_version": "^0.16.0",
       "attribution": "Geoportail France",
       "max_native_zoom": 18,
       "max_zoom": 19,
       "min_native_zoom": 0,
       "name": "GeoportailFrance.orthos",
       "options": [
        "attribution",
        "bounds",
        "detect_retina",
        "max_native_zoom",
        "max_zoom",
        "min_native_zoom",
        "min_zoom",
        "no_wrap",
        "tile_size",
        "tms"
       ],
       "url": "https://wxs.ign.fr/choisirgeoportail/geoportail/wmts?REQUEST=GetTile&SERVICE=WMTS&VERSION=1.0.0&STYLE=normal&TILEMATRIXSET=PM&FORMAT=image/jpeg&LAYER=ORTHOIMAGERY.ORTHOPHOTOS&TILEMATRIX={z}&TILEROW={y}&TILECOL={x}"
      }
     },
     "e9cd843e558b4b118cdbed48fcb4c64f": {
      "model_module": "@jupyter-widgets/controls",
      "model_module_version": "1.5.0",
      "model_name": "HBoxModel",
      "state": {
       "children": [
        "IPY_MODEL_fdf88eeae02440868d434011bf19a643",
        "IPY_MODEL_9d4afb60e1264be29b5b094cf5cdbb92"
       ],
       "layout": "IPY_MODEL_c5d357f3aa214e07827cfff109cbf6b7"
      }
     },
     "e9ebec84f54e4645bb77f45649251ef0": {
      "model_module": "@jupyter-widgets/base",
      "model_module_version": "1.2.0",
      "model_name": "LayoutModel",
      "state": {}
     },
     "e9ed45d6e4b2432fa94b0e357fdcce6a": {
      "model_module": "jupyter-leaflet",
      "model_module_version": "^0.16.0",
      "model_name": "LeafletTileLayerModel",
      "state": {
       "_model_module_version": "^0.16.0",
       "_view_module_version": "^0.16.0",
       "attribution": "Imagery provided by services from the Global Imagery Browse Services (GIBS), operated by the NASA/GSFC/Earth Science Data and Information System (ESDIS) with funding provided by NASA/HQ.",
       "max_native_zoom": 18,
       "max_zoom": 6,
       "min_native_zoom": 0,
       "name": "NASAGIBS.ModisTerraAOD",
       "options": [
        "attribution",
        "bounds",
        "detect_retina",
        "max_native_zoom",
        "max_zoom",
        "min_native_zoom",
        "min_zoom",
        "no_wrap",
        "tile_size",
        "tms"
       ],
       "url": "https://map1.vis.earthdata.nasa.gov/wmts-webmerc/MODIS_Terra_Aerosol/default//GoogleMapsCompatible_Level6/{z}/{y}/{x}.png"
      }
     },
     "eab6da9886dd465c9bc8895da2d93647": {
      "model_module": "jupyter-leaflet",
      "model_module_version": "^0.16.0",
      "model_name": "LeafletTileLayerModel",
      "state": {
       "_model_module_version": "^0.16.0",
       "_view_module_version": "^0.16.0",
       "attribution": "![](https://docs.onemap.sg/maps/images/oneMap64-01.png) New OneMap | Map data (C) contributors, Singapore Land Authority",
       "max_native_zoom": 18,
       "min_native_zoom": 0,
       "name": "OneMapSG.Original",
       "options": [
        "attribution",
        "bounds",
        "detect_retina",
        "max_native_zoom",
        "max_zoom",
        "min_native_zoom",
        "min_zoom",
        "no_wrap",
        "tile_size",
        "tms"
       ],
       "url": "https://maps-a.onemap.sg/v3/Original/{z}/{x}/{y}.png"
      }
     },
     "eb6bc7f745274ff79aabeed4ec00ab8b": {
      "model_module": "jupyter-leaflet",
      "model_module_version": "^0.16.0",
      "model_name": "LeafletTileLayerModel",
      "state": {
       "_model_module_version": "^0.16.0",
       "_view_module_version": "^0.16.0",
       "attribution": "Imagery provided by services from the Global Imagery Browse Services (GIBS), operated by the NASA/GSFC/Earth Science Data and Information System (ESDIS) with funding provided by NASA/HQ.",
       "max_native_zoom": 18,
       "max_zoom": 8,
       "min_native_zoom": 0,
       "name": "NASAGIBS.ViirsEarthAtNight2012",
       "options": [
        "attribution",
        "bounds",
        "detect_retina",
        "max_native_zoom",
        "max_zoom",
        "min_native_zoom",
        "min_zoom",
        "no_wrap",
        "tile_size",
        "tms"
       ],
       "url": "https://map1.vis.earthdata.nasa.gov/wmts-webmerc/VIIRS_CityLights_2012/default//GoogleMapsCompatible_Level8/{z}/{y}/{x}.jpg"
      }
     },
     "eccbdb9c23a5428e97293d7c629dd378": {
      "model_module": "@jupyter-widgets/controls",
      "model_module_version": "1.5.0",
      "model_name": "HTMLModel",
      "state": {
       "layout": "IPY_MODEL_0a1f30c386574d05b12af90561930d08",
       "style": "IPY_MODEL_bde3c190a22c4ead867d7f2894eaae0c",
       "value": "<b>2. Select Images Button</b>         <br> - This will open a pop up window where the folder containing the jpgs can be selected.<br>             - The model will be applied to this folder and the model outputs will be generated within a subdirectory             called 'out'<br>      - <span style=\"background-color:yellow;\">WARNING :</span> You will not be able to see the files within the folder you select.<br>    "
      }
     },
     "ed8dcb2179014ce6a927dfe1669a8506": {
      "model_module": "jupyter-leaflet",
      "model_module_version": "^0.16.0",
      "model_name": "LeafletTileLayerModel",
      "state": {
       "_model_module_version": "^0.16.0",
       "_view_module_version": "^0.16.0",
       "attribution": "Geoportail France",
       "max_native_zoom": 18,
       "min_native_zoom": 0,
       "name": "GeoportailFrance.plan",
       "options": [
        "attribution",
        "bounds",
        "detect_retina",
        "max_native_zoom",
        "max_zoom",
        "min_native_zoom",
        "min_zoom",
        "no_wrap",
        "tile_size",
        "tms"
       ],
       "url": "https://wxs.ign.fr/choisirgeoportail/geoportail/wmts?REQUEST=GetTile&SERVICE=WMTS&VERSION=1.0.0&STYLE=normal&TILEMATRIXSET=PM&FORMAT=image/png&LAYER=GEOGRAPHICALGRIDSYSTEMS.PLANIGNV2&TILEMATRIX={z}&TILEROW={y}&TILECOL={x}"
      }
     },
     "ef1bac7fba8242a49c574df814dbffdb": {
      "model_module": "@jupyter-widgets/controls",
      "model_module_version": "1.5.0",
      "model_name": "DescriptionStyleModel",
      "state": {
       "description_width": ""
      }
     },
     "efcbc7419f714b48b4826a2ce8e1f440": {
      "model_module": "jupyter-leaflet",
      "model_module_version": "^0.16.0",
      "model_name": "LeafletTileLayerModel",
      "state": {
       "_model_module_version": "^0.16.0",
       "_view_module_version": "^0.16.0",
       "attribution": "(C) Stadia Maps, (C) OpenMapTiles (C) OpenStreetMap contributors",
       "max_native_zoom": 18,
       "max_zoom": 20,
       "min_native_zoom": 0,
       "name": "Stadia.Outdoors",
       "options": [
        "attribution",
        "bounds",
        "detect_retina",
        "max_native_zoom",
        "max_zoom",
        "min_native_zoom",
        "min_zoom",
        "no_wrap",
        "tile_size",
        "tms"
       ],
       "url": "https://tiles.stadiamaps.com/tiles/outdoors/{z}/{x}/{y}.png"
      }
     },
     "f0ab482c7bac44ccaa12c9b47026ced7": {
      "model_module": "jupyter-leaflet",
      "model_module_version": "^0.16.0",
      "model_name": "LeafletWMSLayerModel",
      "state": {
       "_model_module_version": "^0.16.0",
       "_view_module_version": "^0.16.0",
       "attribution": "ESA",
       "crs": {
        "custom": false,
        "name": "EPSG3857"
       },
       "format": "image/png",
       "layers": "WORLDCOVER_2020_S2_FCC",
       "max_native_zoom": 18,
       "min_native_zoom": 0,
       "name": "ESA Worldcover 2020 S2 FCC",
       "options": [
        "attribution",
        "bounds",
        "detect_retina",
        "format",
        "layers",
        "max_native_zoom",
        "max_zoom",
        "min_native_zoom",
        "min_zoom",
        "no_wrap",
        "styles",
        "tile_size",
        "tms",
        "transparent",
        "uppercase"
       ],
       "transparent": true,
       "url": "https://services.terrascope.be/wms/v2"
      }
     },
     "f0c8f5b2c6fc4654a410032a44826685": {
      "model_module": "@jupyter-widgets/controls",
      "model_module_version": "1.5.0",
      "model_name": "GridBoxModel",
      "state": {
       "children": [
        "IPY_MODEL_0a1d1cefa373467fb884aab1bff5710a",
        "IPY_MODEL_e45214e7e6dd496e99426402e7433e22",
        "IPY_MODEL_11569f23a00f48df92c8d4cbfe5c6342",
        "IPY_MODEL_4025099352a5454bb22d9090be40f4b6",
        "IPY_MODEL_2a707b4422df494281f3729b50598646",
        "IPY_MODEL_bc8f155f62ce45958c015e0c4f23e2c0",
        "IPY_MODEL_91bdfdfade32499f939af3a740fef75a",
        "IPY_MODEL_f9a5b4aed4ad44e0ab0f3773689d2372",
        "IPY_MODEL_f79da2a3553c4eb3a9c61c05a2cee9db",
        "IPY_MODEL_6f9dec539a7a4787971d7a09a2fad1e8",
        "IPY_MODEL_472f4e8c68ff45188c3c9878204eb290",
        "IPY_MODEL_dcbbe39b876c4506a7af4c97c75d76d5",
        "IPY_MODEL_bf3dd015448046e6a64ab5497978f609",
        "IPY_MODEL_c70392511aff4a1cabd40d782cbcfc38",
        "IPY_MODEL_4578bf90fe5340a09a44b8fe2511d9f0",
        "IPY_MODEL_090f068d2978413183dd94da1120c5eb",
        "IPY_MODEL_88586d0774ac43bdb8aec36c92ac55f0",
        "IPY_MODEL_263eda5ced2f4813977222b8d970f22b"
       ],
       "layout": "IPY_MODEL_32713e84ba8e434fadede7f0fc37c2af"
      }
     },
     "f144fb175c3f4f448ba56b1aba2a69b7": {
      "model_module": "jupyter-leaflet",
      "model_module_version": "^0.16.0",
      "model_name": "LeafletTileLayerModel",
      "state": {
       "_model_module_version": "^0.16.0",
       "_view_module_version": "^0.16.0",
       "attribution": "Map data: (C) OpenStreetMap contributors | Map style: (C) waymarkedtrails.org (CC-BY-SA)",
       "max_native_zoom": 18,
       "min_native_zoom": 0,
       "name": "WaymarkedTrails.mtb",
       "options": [
        "attribution",
        "bounds",
        "detect_retina",
        "max_native_zoom",
        "max_zoom",
        "min_native_zoom",
        "min_zoom",
        "no_wrap",
        "tile_size",
        "tms"
       ],
       "url": "https://tile.waymarkedtrails.org/mtb/{z}/{x}/{y}.png"
      }
     },
     "f30070400382444d8be7a00eaebc3ce5": {
      "model_module": "@jupyter-widgets/base",
      "model_module_version": "1.2.0",
      "model_name": "LayoutModel",
      "state": {
       "border": "1px solid black"
      }
     },
     "f36947dbef584c4ea0762c6b7e095b4a": {
      "model_module": "@jupyter-widgets/controls",
      "model_module_version": "1.5.0",
      "model_name": "HTMLModel",
      "state": {
       "layout": "IPY_MODEL_215dbceea5884dc19620b2a5d07ef351",
       "style": "IPY_MODEL_56d4f12b3ecc42c6a4d670e986af1284",
       "value": " 7/7 [00:40&lt;00:00,  4.92s/it]"
      }
     },
     "f49b4b788653411d9ae52349b88f106f": {
      "model_module": "jupyter-leaflet",
      "model_module_version": "^0.16.0",
      "model_name": "LeafletTileLayerModel",
      "state": {
       "_model_module_version": "^0.16.0",
       "_view_module_version": "^0.16.0",
       "attribution": "© swisstopo",
       "max_native_zoom": 18,
       "max_zoom": 19,
       "min_native_zoom": 0,
       "name": "SwissFederalGeoportal.SWISSIMAGE",
       "options": [
        "attribution",
        "bounds",
        "detect_retina",
        "max_native_zoom",
        "max_zoom",
        "min_native_zoom",
        "min_zoom",
        "no_wrap",
        "tile_size",
        "tms"
       ],
       "url": "https://wmts.geo.admin.ch/1.0.0/ch.swisstopo.swissimage/default/current/3857/{z}/{x}/{y}.jpeg"
      }
     },
     "f587ce6527294d4e945a78c659c658ad": {
      "model_module": "@jupyter-widgets/controls",
      "model_module_version": "1.5.0",
      "model_name": "HBoxModel",
      "state": {
       "children": [
        "IPY_MODEL_f97f93e60d6341b298cf30631d19e6f2",
        "IPY_MODEL_a07aabb82d1a4ebfad6376cb161d8f64"
       ],
       "layout": "IPY_MODEL_3d4e9505420e4815b06431caf29d0190"
      }
     },
     "f5ac6aa283734dbb97ed1815482666a1": {
      "model_module": "@jupyter-widgets/base",
      "model_module_version": "1.2.0",
      "model_name": "LayoutModel",
      "state": {}
     },
     "f6b353ad2ae14452a0ad288ff28758e5": {
      "model_module": "jupyter-leaflet",
      "model_module_version": "^0.16.0",
      "model_name": "LeafletTileLayerModel",
      "state": {
       "_model_module_version": "^0.16.0",
       "_view_module_version": "^0.16.0",
       "attribution": "Imagery provided by services from the Global Imagery Browse Services (GIBS), operated by the NASA/GSFC/Earth Science Data and Information System (ESDIS) with funding provided by NASA/HQ.",
       "max_native_zoom": 18,
       "max_zoom": 5,
       "min_native_zoom": 0,
       "name": "NASAGIBS.BlueMarble3413",
       "options": [
        "attribution",
        "bounds",
        "detect_retina",
        "max_native_zoom",
        "max_zoom",
        "min_native_zoom",
        "min_zoom",
        "no_wrap",
        "tile_size",
        "tms"
       ],
       "url": "https://gibs.earthdata.nasa.gov/wmts/epsg3413/best/BlueMarble_NextGeneration/default/EPSG3413_500m/{z}/{y}/{x}.jpeg"
      }
     },
     "f79da2a3553c4eb3a9c61c05a2cee9db": {
      "model_module": "@jupyter-widgets/controls",
      "model_module_version": "1.5.0",
      "model_name": "ToggleButtonModel",
      "state": {
       "button_style": "primary",
       "icon": "address-book",
       "layout": "IPY_MODEL_6b99d8b7b2e04305acd76dcbf73c8173",
       "style": "IPY_MODEL_3834543fd94a47008061d0ae6897095b",
       "tooltip": "Get US Census data"
      }
     },
     "f7de437b99724265969acbbf80305688": {
      "model_module": "jupyter-leaflet",
      "model_module_version": "^0.16.0",
      "model_name": "LeafletTileLayerModel",
      "state": {
       "_model_module_version": "^0.16.0",
       "_view_module_version": "^0.16.0",
       "attribution": "&copy; <a href=\"https://www.openstreetmap.org/copyright\">OpenStreetMap</a> contributors",
       "base": true,
       "max_native_zoom": 18,
       "max_zoom": 19,
       "min_native_zoom": 0,
       "min_zoom": 1,
       "name": "OpenStreetMap",
       "options": [
        "attribution",
        "bounds",
        "detect_retina",
        "max_native_zoom",
        "max_zoom",
        "min_native_zoom",
        "min_zoom",
        "no_wrap",
        "tile_size",
        "tms"
       ],
       "url": "https://a.tile.openstreetmap.org/{z}/{x}/{y}.png"
      }
     },
     "f938ac29986d456c805c6a402ea75e56": {
      "model_module": "@jupyter-widgets/controls",
      "model_module_version": "1.5.0",
      "model_name": "DescriptionStyleModel",
      "state": {
       "description_width": ""
      }
     },
     "f951335753d04659b3d6960299cac3fc": {
      "model_module": "@jupyter-widgets/base",
      "model_module_version": "1.2.0",
      "model_name": "LayoutModel",
      "state": {
       "border": "1px solid black"
      }
     },
     "f97f93e60d6341b298cf30631d19e6f2": {
      "model_module": "@jupyter-widgets/controls",
      "model_module_version": "1.5.0",
      "model_name": "ToggleButtonModel",
      "state": {
       "icon": "server",
       "layout": "IPY_MODEL_f9f12c8933cf4aae87266bc2ae3ae9be",
       "style": "IPY_MODEL_243536dda2544f5082756309d224474b",
       "tooltip": "Layers"
      }
     },
     "f9a5b4aed4ad44e0ab0f3773689d2372": {
      "model_module": "@jupyter-widgets/controls",
      "model_module_version": "1.5.0",
      "model_name": "ToggleButtonModel",
      "state": {
       "button_style": "primary",
       "icon": "camera",
       "layout": "IPY_MODEL_32b8bbc8cb564e6cb89d2b081ac90ea1",
       "style": "IPY_MODEL_b2e6d07c6e8f4ea486394f955c7974b3",
       "tooltip": "Save map as HTML or image"
      }
     },
     "f9f12c8933cf4aae87266bc2ae3ae9be": {
      "model_module": "@jupyter-widgets/base",
      "model_module_version": "1.2.0",
      "model_name": "LayoutModel",
      "state": {
       "height": "28px",
       "width": "72px"
      }
     },
     "fa90e5720ee94a308a47b45d5d1660a5": {
      "model_module": "@jupyter-widgets/base",
      "model_module_version": "1.2.0",
      "model_name": "LayoutModel",
      "state": {
       "width": "500px"
      }
     },
     "fb77bc49ab7c4f278c8a3f54e164ccf9": {
      "model_module": "@jupyter-widgets/base",
      "model_module_version": "1.2.0",
      "model_name": "LayoutModel",
      "state": {
       "height": "auto",
       "padding": "0px 0px 0px 4px",
       "width": "auto"
      }
     },
     "fb901b5b83b849998330d9ff1e849293": {
      "model_module": "jupyter-leaflet",
      "model_module_version": "^0.16.0",
      "model_name": "LeafletTileLayerModel",
      "state": {
       "_model_module_version": "^0.16.0",
       "_view_module_version": "^0.16.0",
       "attribution": "![](https://docs.onemap.sg/maps/images/oneMap64-01.png) New OneMap | Map data (C) contributors, Singapore Land Authority",
       "max_native_zoom": 18,
       "min_native_zoom": 0,
       "name": "OneMapSG.Grey",
       "options": [
        "attribution",
        "bounds",
        "detect_retina",
        "max_native_zoom",
        "max_zoom",
        "min_native_zoom",
        "min_zoom",
        "no_wrap",
        "tile_size",
        "tms"
       ],
       "url": "https://maps-a.onemap.sg/v3/Grey/{z}/{x}/{y}.png"
      }
     },
     "fd8228a1d9f242f08614d06929cc5507": {
      "model_module": "@jupyter-widgets/controls",
      "model_module_version": "1.5.0",
      "model_name": "HTMLModel",
      "state": {
       "layout": "IPY_MODEL_090b05dedcf0409ebdce903192f37be6",
       "style": "IPY_MODEL_e7f1161ab9d44dd6911a01a4f271bf59",
       "value": "<b>Pick a collection</b>        <br> C01: LandSat Collection 1         <br> C02: LandSat Collection 2  [2022/01/01 and beyond]         <br>      - Landsat 9 is only available in C02"
      }
     },
     "fd846839129a4ea3bac333d6f72150fd": {
      "model_module": "jupyter-leaflet",
      "model_module_version": "^0.16.0",
      "model_name": "LeafletTileLayerModel",
      "state": {
       "_model_module_version": "^0.16.0",
       "_view_module_version": "^0.16.0",
       "attribution": "Justice Map",
       "max_native_zoom": 18,
       "max_zoom": 22,
       "min_native_zoom": 0,
       "name": "JusticeMap.multi",
       "options": [
        "attribution",
        "bounds",
        "detect_retina",
        "max_native_zoom",
        "max_zoom",
        "min_native_zoom",
        "min_zoom",
        "no_wrap",
        "tile_size",
        "tms"
       ],
       "url": "https://www.justicemap.org/tile/county/multi/{z}/{x}/{y}.png"
      }
     },
     "fdb9cacedcec40bda417323985310e0e": {
      "model_module": "@jupyter-widgets/controls",
      "model_module_version": "1.5.0",
      "model_name": "DescriptionStyleModel",
      "state": {
       "description_width": ""
      }
     },
     "fdf88eeae02440868d434011bf19a643": {
      "model_module": "@jupyter-widgets/controls",
      "model_module_version": "1.5.0",
      "model_name": "RadioButtonsModel",
      "state": {
       "_options_labels": [
        "landsat_6229071",
        "landsat_6230083",
        "SWED-RGB_6824384",
        "SWED-MNDWI_6824342",
        "coast-train-RGB_6950479",
        "S2-water-SWED_6950474"
       ],
       "description": "Select Model:",
       "index": 0,
       "layout": "IPY_MODEL_255ab76a5d4143faba79ff1162b01bad",
       "style": "IPY_MODEL_50efe9e92a014daa83077348569c1342"
      }
     },
     "fe7b28a38aba49fca959cdd254251645": {
      "model_module": "jupyter-leaflet",
      "model_module_version": "^0.16.0",
      "model_name": "LeafletWidgetControlModel",
      "state": {
       "_model_module": "jupyter-leaflet",
       "_model_module_version": "^0.16.0",
       "_view_count": null,
       "_view_module": "jupyter-leaflet",
       "_view_module_version": "^0.16.0",
       "options": [
        "position",
        "transparent_bg"
       ],
       "position": "topright",
       "widget": "IPY_MODEL_6a1098b2b49f4a1d8e4bde755283ef34"
      }
     }
    },
    "version_major": 2,
    "version_minor": 0
   }
  }
 },
 "nbformat": 4,
 "nbformat_minor": 4
}
