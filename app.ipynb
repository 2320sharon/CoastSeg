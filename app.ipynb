{
 "cells": [
  {
   "cell_type": "code",
   "execution_count": 1,
   "metadata": {},
   "outputs": [
    {
     "name": "stdout",
     "output_type": "stream",
     "text": [
      "Version:  2.9.1\n",
      "Eager mode:  True\n",
      "Version:  2.9.1\n",
      "Eager mode:  True\n",
      "GPU name:  []\n",
      "Num GPUs Available:  0\n"
     ]
    }
   ],
   "source": [
    "import warnings\n",
    "# External Imports\n",
    "from IPython.display import display, clear_output\n",
    "from tkinter import Tk,filedialog\n",
    "# import ipywidgets as widgets\n",
    "from ipywidgets import Button, HBox, VBox, Layout, DatePicker, HTML, RadioButtons, SelectMultiple, Output, Checkbox\n",
    "import os\n",
    "import datetime\n",
    "import glob\n",
    "import json\n",
    "import pandas as pd\n",
    "import geopandas as gpd\n",
    "\n",
    "# New imports for coastsat shoreline extraction\n",
    "import numpy as np\n",
    "# Local Imports \n",
    "from CoastSeg import download_roi, file_functions, zoo_model_module, coastseg_map_class\n",
    "from CoastSeg.CoastSat.coastsat import SDS_shoreline,SDS_download\n",
    "# suppress tensorflow warnings\n",
    "os.environ['TF_CPP_MIN_LOG_LEVEL'] = '3'\n",
    "root = Tk()"
   ]
  },
  {
   "cell_type": "code",
   "execution_count": 2,
   "metadata": {},
   "outputs": [
    {
     "data": {
      "application/vnd.jupyter.widget-view+json": {
       "model_id": "6ad6e9ae57cc4c74a0d6021fc70c381f",
       "version_major": 2,
       "version_minor": 0
      },
      "text/plain": [
       "VBox(children=(VBox(children=(HTML(value='<b>Pick a date:</b>', layout=Layout(padding='10px')), HBox(children=…"
      ]
     },
     "metadata": {},
     "output_type": "display_data"
    }
   ],
   "source": [
    "# Date Widgets\n",
    "start_date=DatePicker(\n",
    "    description='Start Date',\n",
    "    value=datetime.date(2018, 12, 1),\n",
    "    disabled=False,\n",
    ")\n",
    "end_date=DatePicker(\n",
    "    description='End Date',\n",
    "    value=datetime.date(2019, 3, 1), #2019, 1, 1\n",
    "    disabled=False,\n",
    ")\n",
    "date_instr=HTML(\n",
    "    value=\"<b>Pick a date:</b>\",\n",
    "    layout=Layout(padding='10px')\n",
    ")\n",
    "dates_box=HBox([start_date,end_date])\n",
    "dates_vbox=VBox([date_instr,dates_box])\n",
    "\n",
    "\n",
    "collection_instr=HTML(\n",
    "    value=\"<b>Pick a collection</b>\\\n",
    "        <br> C01: LandSat Collection 1 \\\n",
    "        <br> C02: LandSat Collection 2  [2022/01/01 and beyond] \\\n",
    "        <br>      - Landsat 9 is only available in C02\",\n",
    "    layout=Layout(padding='10px')\n",
    ")\n",
    "collection_radio=RadioButtons(\n",
    "    options=['C01', 'C02'],\n",
    "    value='C01',\n",
    "    description='Collection:',\n",
    "    disabled=False\n",
    ")\n",
    "collection_vbox=VBox([collection_instr,collection_radio])\n",
    "\n",
    "sat_instr=HTML(\n",
    "    value=\"<b>Pick multiple satellites by holding the control key:</b> \\\n",
    "        <br> - images prior to 2022/01/01 will be downloaded from Collection 1 \\\n",
    "        <br> - images after 2022/01/01 will be automatically downloaded from Collection 2 \\\n",
    "        <br> C01: LandSat Collection 1 : All dates before 2022/01/01\\\n",
    "        <br> C02: LandSat Collection 2 : All dates after 2022/01/01 \\\n",
    "        <br> - Landsat 9 is only available in C02\",\n",
    "    layout=Layout(padding='10px')\n",
    ")\n",
    "\n",
    "\n",
    "satellite_selection=SelectMultiple(\n",
    "    options=['L5', 'L7', 'L8', 'S2'],\n",
    "    value=['L8'],\n",
    "    description='Satellites',\n",
    "    disabled=False\n",
    ")\n",
    "sat_vbox = VBox([sat_instr,satellite_selection])\n",
    "\n",
    "def handle_collection_change(change):\n",
    "    if change['new'] == 'C02':\n",
    "        satellite_selection.options=['L5', 'L7', 'L8', 'L9', 'S2']\n",
    "    else:\n",
    "        satellite_selection.options=['L5', 'L7', 'L8', 'S2']\n",
    "\n",
    "collection_radio.observe(handle_collection_change,\"value\")\n",
    "\n",
    "controls_vbox=VBox([dates_vbox, collection_vbox, sat_vbox])\n",
    "controls_vbox"
   ]
  },
  {
   "cell_type": "code",
   "execution_count": 8,
   "metadata": {
    "scrolled": true
   },
   "outputs": [
    {
     "name": "stdout",
     "output_type": "stream",
     "text": [
      "dates: ['2018-12-01', '2019-03-01']\n",
      "collection: C02\n",
      "sat_list: ['L7', 'L8', 'L9', 'S2']\n"
     ]
    }
   ],
   "source": [
    "# CoastSat Download Variables\n",
    "# ------------------------------\n",
    "# Save the satellites selected to sat_list\n",
    "if satellite_selection.value:\n",
    "    sat_list = list(satellite_selection.value)\n",
    "elif not satellite_selection.value:\n",
    "    print(\"ERROR: You must select at least one satellite first\")\n",
    "# Save the dates selected by the user as well as the selected collection\n",
    "dates = [str(start_date.value),str(end_date.value)]\n",
    "collection = collection_radio.value\n",
    "print(f\"dates: {dates}\")\n",
    "print(f\"collection: {collection}\")\n",
    "print(f\"sat_list: {sat_list}\")"
   ]
  },
  {
   "cell_type": "code",
   "execution_count": 9,
   "metadata": {},
   "outputs": [],
   "source": [
    "pre_process_settings = { \n",
    "    # general parameters:\n",
    "    'cloud_thresh': 0.5,        # threshold on maximum cloud cover\n",
    "     'dist_clouds': 300,        # ditance around clouds where shoreline can't be mapped\n",
    "    'output_epsg': 3857,        # epsg code of spatial reference system desired for the output   \n",
    "    # quality control:\n",
    "    'check_detection': True,    # if True, shows each shoreline detection to the user for validation\n",
    "    'adjust_detection': False,  # if True, allows user to adjust the postion of each shoreline by changing the threhold\n",
    "    'save_figure': True,        # if True, saves a figure showing the mapped shoreline for each image\n",
    "    # [ONLY FOR ADVANCED USERS] shoreline detection parameters:\n",
    "    'min_beach_area': 4500,     # minimum area (in metres^2) for an object to be labelled as a beach\n",
    "    'buffer_size': 150,         # radius (in metres) of the buffer around sandy pixels considered in the shoreline detection\n",
    "    'min_length_sl': 200,       # minimum length (in metres) of shoreline perimeter to be valid\n",
    "    'cloud_mask_issue': False,  # switch this parameter to True if sand pixels are masked (in black) on many images  \n",
    "    'sand_color': 'default',    # 'default', 'dark' (for grey/black sand beaches) or 'bright' (for white sand beaches)\n",
    "    'pan_off':'False',          # if True, no pan-sharpening is performed on Landsat 7,8 and 9 imagery\n",
    "}\n",
    "\n",
    "# Output wdiget used to print messages and exceptions created by CoastSeg_Map\n",
    "debug_view = Output(layout={'border': '1px solid black'})"
   ]
  },
  {
   "cell_type": "markdown",
   "metadata": {},
   "source": [
    "# Create the Map\n",
    "- Create the map using the map settings set above"
   ]
  },
  {
   "cell_type": "code",
   "execution_count": 10,
   "metadata": {},
   "outputs": [],
   "source": [
    "coastseg_map=coastseg_map_class.CoastSeg_Map()"
   ]
  },
  {
   "cell_type": "markdown",
   "metadata": {},
   "source": [
    "# How to Use The Map\n",
    "---\n",
    "1. Use the rectangle tool to draw a bounding box along the coastline.\n",
    "2. Click `Generate ROI` to create ROI rectangles along the coastline in the bounding box. This may take some time.\n",
    "- You should see a coastline appear in yellow and some rectangles along it.\n",
    "3. Click 1 or more ROIs then click `Save ROI` to save these ROIs for downloading later\n",
    "4. You're ready to download the ROIs. Run the next block of code."
   ]
  },
  {
   "cell_type": "code",
   "execution_count": 11,
   "metadata": {},
   "outputs": [
    {
     "data": {
      "application/vnd.jupyter.widget-view+json": {
       "model_id": "57e4cf84e968416d813275dd842f7d5c",
       "version_major": 2,
       "version_minor": 0
      },
      "text/plain": [
       "Output(layout=Layout(border='1px solid black'))"
      ]
     },
     "metadata": {},
     "output_type": "display_data"
    },
    {
     "data": {
      "application/vnd.jupyter.widget-view+json": {
       "model_id": "5c9a9ca2d76e478b8802ede29da4dc38",
       "version_major": 2,
       "version_minor": 0
      },
      "text/plain": [
       "HBox(children=(Button(description='Load Transects', style=ButtonStyle()), Button(description='Load Shoreline',…"
      ]
     },
     "metadata": {},
     "output_type": "display_data"
    },
    {
     "data": {
      "application/vnd.jupyter.widget-view+json": {
       "model_id": "12c65c5b0bcd4eba8849b190c4ee9de8",
       "version_major": 2,
       "version_minor": 0
      },
      "text/plain": [
       "HBox(children=(Button(description='Remove all', style=ButtonStyle()), Button(description='Remove transects', s…"
      ]
     },
     "metadata": {},
     "output_type": "display_data"
    },
    {
     "data": {
      "application/vnd.jupyter.widget-view+json": {
       "model_id": "5f85eb0a963a4a9e87cb994926293f3d",
       "version_major": 2,
       "version_minor": 0
      },
      "text/plain": [
       "Map(center=[36, -121.5], controls=(ZoomControl(options=['position', 'zoom_in_text', 'zoom_in_title', 'zoom_out…"
      ]
     },
     "metadata": {},
     "output_type": "display_data"
    }
   ],
   "source": [
    "transects_button = Button(description=\"Load Transects\")\n",
    "shoreline_button = Button(description=\"Load Shoreline\")\n",
    "gen_button =Button(description=\"Generate ROI\")\n",
    "save_button = Button(description=\"Save ROI\")\n",
    "clear_debug_button = Button(description=\"Clear TextBox\")\n",
    "\n",
    "remove_all_button = Button(description=\"Remove all\")\n",
    "remove_transects_button = Button(description=\"Remove transects\")\n",
    "remove_bbox_button = Button(description=\"Remove bbox\")\n",
    "remove_coastline_button = Button(description=\"Remove coastline\")\n",
    "remove_rois_button = Button(description=\"Remove ROIs\")\n",
    "remove_saved_roi_button = Button(description=\"Remove saved ROIs\")\n",
    "\n",
    "@debug_view.capture(clear_output=True)\n",
    "def on_shoreline_button_clicked(b):\n",
    "    if coastseg_map.shapes_list == [] :\n",
    "        print(\"Draw a bounding box on the coast first, then click Load Transects.\")\n",
    "    else:\n",
    "        debug_view.clear_output(wait=True)\n",
    "        print(\"Loading shoreline please wait.\") \n",
    "        # Add the transects to the map\n",
    "        coastseg_map.load_shoreline_on_map()\n",
    "        print(\"Shoreline loaded.\")\n",
    "\n",
    "@debug_view.capture(clear_output=True)\n",
    "def on_transects_button_clicked(b):\n",
    "    if coastseg_map.shapes_list == [] :\n",
    "        print(\"Draw a bounding box on the coast first, then click Load Transects.\")\n",
    "    else:\n",
    "        debug_view.clear_output(wait=True)\n",
    "        print(\"Loading transects please wait.\") \n",
    "        # Add the transects to the map\n",
    "        coastseg_map.load_transects_on_map()\n",
    "        print(\"Transects Loaded.\")\n",
    "\n",
    "        \n",
    "@debug_view.capture(clear_output=True)\n",
    "def on_gen_button_clicked(b):\n",
    "    if coastseg_map.shapes_list == [] :\n",
    "        print(\"Draw a bounding box on the coast first, then click Generate ROI.\")\n",
    "    else:\n",
    "        debug_view.clear_output(wait=True)\n",
    "        print(\"Generating ROIs please wait.\") \n",
    "        # Generate ROIs along the coastline within the bounding box\n",
    "        coastseg_map.generate_ROIS_fishnet(5000,0)\n",
    "        debug_view.clear_output(wait=True)\n",
    "        # Add the Clickable ROIs to the map\n",
    "        coastseg_map.add_geojson_layer_to_map()\n",
    "        print(\"ROIs generated. Please Select at least one ROI and click Save ROI.\")\n",
    "\n",
    "@debug_view.capture(clear_output=True)\n",
    "def on_save_button_clicked(b):\n",
    "    if coastseg_map.selected_set:\n",
    "        if len(coastseg_map.selected_set) == 0:\n",
    "             print(\"Must select at least 1 ROI first before you can save ROIs.\")\n",
    "        else:\n",
    "            debug_view.clear_output(wait=True)\n",
    "            coastseg_map.save_roi_fishnet(\"fishnet_rois.geojson\")\n",
    "            print(\"Saving ROIs\")\n",
    "            debug_view.clear_output(wait=True)\n",
    "            print(\"ROIs have been saved. Now click Download ROI to download the ROIs using CoastSat\")\n",
    "    else:\n",
    "        print(\"No ROIs were selected.\")\n",
    "\n",
    "\n",
    "def remove_all_from_map(b):\n",
    "    coastseg_map.remove_all()\n",
    "def remove_transects(b):\n",
    "    coastseg_map.remove_transects()\n",
    "def remove_bbox_from_map(b):\n",
    "    coastseg_map.remove_bbox()\n",
    "def remove_coastline_from_map(b):\n",
    "    coastseg_map.remove_shoreline()\n",
    "def remove_all_rois_from_map(b):\n",
    "    coastseg_map.remove_all_rois()\n",
    "def remove_saved_roi_clicked(b):\n",
    "    coastseg_map.remove_saved_roi()\n",
    "def clear_debug_view(b):\n",
    "    with debug_view:\n",
    "        clear_output()\n",
    "        \n",
    "\n",
    "transects_button.on_click(on_transects_button_clicked)    \n",
    "shoreline_button.on_click(on_shoreline_button_clicked) \n",
    "gen_button.on_click(on_gen_button_clicked)\n",
    "save_button.on_click(on_save_button_clicked)\n",
    "clear_debug_button.on_click(clear_debug_view)\n",
    "\n",
    "\n",
    "remove_all_button.on_click(remove_all_from_map)\n",
    "remove_transects_button.on_click(remove_transects)\n",
    "remove_bbox_button.on_click(remove_bbox_from_map)\n",
    "remove_coastline_button.on_click(remove_coastline_from_map)\n",
    "remove_rois_button.on_click(remove_all_rois_from_map)\n",
    "remove_saved_roi_button.on_click(remove_saved_roi_clicked)\n",
    "\n",
    "erase_buttons=HBox([remove_all_button, remove_transects_button, remove_bbox_button, remove_coastline_button, remove_rois_button, remove_saved_roi_button])\n",
    "\n",
    "display(debug_view,HBox([transects_button,shoreline_button, gen_button, save_button,clear_debug_button]),erase_buttons)\n",
    "# Display the map\n",
    "coastseg_map.m"
   ]
  },
  {
   "cell_type": "markdown",
   "metadata": {},
   "source": [
    "## Download the Selected ROIs\n",
    "- Download the satellite imagery for the ROIs using CoastSat.\n",
    "\n",
    "⚠️ Make sure you have clicked `Save ROI` before running the following code.\n",
    " \n",
    "### Parameters for download_imagery()\n",
    "1. `coastseg_map.selected_ROI` : geojson for the ROI clicked\n",
    "2. `pre_process_settings`: settings for downloading data using CoastSat\n",
    "3. `dates` : date range to download the imagery\n",
    "4. `sat_list` : list of satellites to download imagery from\n",
    "5. `collection` : LandSat Collection 1 (`C01`) or Collection 2 (`C02`)"
   ]
  },
  {
   "cell_type": "code",
   "execution_count": 12,
   "metadata": {},
   "outputs": [
    {
     "name": "stdout",
     "output_type": "stream",
     "text": [
      "Images available: \n",
      " [{'polygon': [[[-121.58648099999999, 36.02347399999999], [-121.54156523579401, 36.02347399999999], [-121.54156523579401, 36.05979242190952], [-121.58648099999999, 36.05979242190952], [-121.58648099999999, 36.02347399999999]]], 'dates': ['2018-12-01', '2019-03-01'], 'sat_list': ['L7', 'L8', 'L9', 'S2'], 'sitename': 'ID02022-08-23__09_hr_43_min38', 'filepath': 'C:\\\\1_USGS\\\\CoastSeg\\\\repos\\\\2_CoastSeg\\\\CoastSeg_fork\\\\Seg2Map\\\\data', 'roi_id': '0', 'landsat_collection': 'C02'}]\n"
     ]
    },
    {
     "name": "stderr",
     "output_type": "stream",
     "text": [
      "Downloading ROIs:   0%|                                                                          | 0/1 [00:00<?, ?it/s]"
     ]
    },
    {
     "name": "stdout",
     "output_type": "stream",
     "text": [
      "Number of images available between 2018-12-01 and 2019-03-01:\n",
      "- In Landsat Tier 1 & Sentinel-2 Level-1C:\n",
      "     L7: 9 images\n",
      "     L8: 9 images\n",
      "     L9: 0 images\n",
      "     S2: 30 images\n",
      "  Total to download: 48 images\n",
      "- In Landsat Tier 2 (not suitable for time-series analysis):\n",
      "     L7: 1 images\n",
      "     L8: 5 images\n",
      "  Total Tier 2: 6 images\n",
      "\n",
      "Downloading images:\n",
      "L7: 9 images\n",
      "100%\n",
      "L8: 9 images\n",
      "100%\n",
      "L9: 0 images\n",
      "\n",
      "S2: 30 images\n",
      "100%\n",
      "\n",
      " Called merge_overlapping_images\n",
      "\n",
      "14 out of 30 Sentinel-2 images were merged (overlapping or duplicate)\n",
      "Satellite images downloaded from GEE and save in C:\\1_USGS\\CoastSeg\\repos\\2_CoastSeg\\CoastSeg_fork\\Seg2Map\\data\\ID02022-08-23__09_hr_43_min38\n",
      "Saving images as jpg:\n",
      "L7: 9 images\n",
      "100%\n",
      "L8: 9 images\n",
      "100%\n",
      "L9: 0 images\n",
      "\n",
      "S2: 16 images\n",
      "100%"
     ]
    },
    {
     "name": "stderr",
     "output_type": "stream",
     "text": [
      "Downloading ROIs: 100%|█████████████████████████████████████████████████████████████████| 1/1 [04:19<00:00, 259.56s/it]"
     ]
    },
    {
     "name": "stdout",
     "output_type": "stream",
     "text": [
      "\n",
      "Satellite images saved as .jpg in C:\\1_USGS\\CoastSeg\\repos\\2_CoastSeg\\CoastSeg_fork\\Seg2Map\\data\\ID02022-08-23__09_hr_43_min38\\jpg_files\\preprocessed\n"
     ]
    },
    {
     "name": "stderr",
     "output_type": "stream",
     "text": [
      "\n"
     ]
    }
   ],
   "source": [
    "if coastseg_map.selected_ROI:\n",
    "    download_roi.download_imagery(coastseg_map.selected_ROI,pre_process_settings,dates,sat_list,collection)\n",
    "else:\n",
    "    print(\"No ROIs were selected. \\nPlease select at least one ROI and click 'Save ROI' to save these ROI for download.\")"
   ]
  },
  {
   "cell_type": "code",
   "execution_count": 13,
   "metadata": {},
   "outputs": [
    {
     "data": {
      "application/vnd.jupyter.widget-view+json": {
       "model_id": "c7d9fbc95c99451dab2464113538e598",
       "version_major": 2,
       "version_minor": 0
      },
      "text/plain": [
       "Checkbox(value=False, description='Use GPU?', indent=False)"
      ]
     },
     "metadata": {},
     "output_type": "display_data"
    },
    {
     "data": {
      "application/vnd.jupyter.widget-view+json": {
       "model_id": "ac5689aba30245a3b8cf5a70b3834daa",
       "version_major": 2,
       "version_minor": 0
      },
      "text/plain": [
       "Output()"
      ]
     },
     "metadata": {},
     "output_type": "display_data"
    },
    {
     "data": {
      "application/vnd.jupyter.widget-view+json": {
       "model_id": "86bd6c0cbbe5417ea72a3c2ff85b0179",
       "version_major": 2,
       "version_minor": 0
      },
      "text/plain": [
       "HBox(children=(RadioButtons(description='Select Model:', options=('landsat_6229071', 'landsat_6230083', 'SWED-…"
      ]
     },
     "metadata": {},
     "output_type": "display_data"
    },
    {
     "data": {
      "application/vnd.jupyter.widget-view+json": {
       "model_id": "2a47f16580f04677bf2dcd142c77d4d6",
       "version_major": 2,
       "version_minor": 0
      },
      "text/plain": [
       "VBox(children=(HTML(value='<h4>Click ONE of the following buttons:</h4>', layout=Layout(margin='0px 0px 0px 0p…"
      ]
     },
     "metadata": {},
     "output_type": "display_data"
    },
    {
     "data": {
      "application/vnd.jupyter.widget-view+json": {
       "model_id": "8b7476e9138d499f8838cbd05e22eeca",
       "version_major": 2,
       "version_minor": 0
      },
      "text/plain": [
       "Button(description='Use Data Button', style=ButtonStyle())"
      ]
     },
     "metadata": {},
     "output_type": "display_data"
    },
    {
     "data": {
      "application/vnd.jupyter.widget-view+json": {
       "model_id": "7769953cc61c4b05895f518faeb151fa",
       "version_major": 2,
       "version_minor": 0
      },
      "text/plain": [
       "Button(description='Select Your Images', style=ButtonStyle())"
      ]
     },
     "metadata": {},
     "output_type": "display_data"
    },
    {
     "data": {
      "application/vnd.jupyter.widget-view+json": {
       "model_id": "dadbc0eae39242818088acddcbfc5201",
       "version_major": 2,
       "version_minor": 0
      },
      "text/plain": [
       "HTML(value='____________________________________________________')"
      ]
     },
     "metadata": {},
     "output_type": "display_data"
    },
    {
     "data": {
      "application/vnd.jupyter.widget-view+json": {
       "model_id": "eaca7cec13964bb3b8aeb6d50ae04795",
       "version_major": 2,
       "version_minor": 0
      },
      "text/plain": [
       "Output(layout=Layout(border='1px solid black'))"
      ]
     },
     "metadata": {},
     "output_type": "display_data"
    },
    {
     "data": {
      "application/vnd.jupyter.widget-view+json": {
       "model_id": "6f338797ca1e4edeb87b5fc79faa4280",
       "version_major": 2,
       "version_minor": 0
      },
      "text/plain": [
       "Button(description='Run Model', style=ButtonStyle())"
      ]
     },
     "metadata": {},
     "output_type": "display_data"
    },
    {
     "data": {
      "application/vnd.jupyter.widget-view+json": {
       "model_id": "b2bfb4b9ecea41a7a0ce4cea6b11ad92",
       "version_major": 2,
       "version_minor": 0
      },
      "text/plain": [
       "Output(layout=Layout(border='1px solid black'))"
      ]
     },
     "metadata": {},
     "output_type": "display_data"
    }
   ],
   "source": [
    "model_dict={\"sample_direc\":None,\"use_GPU\":False, 'implementation':'ENSEMBLE','model_type':'landsat_6229071'}\n",
    "\n",
    "model_view = Output(layout={'border': '1px solid black'})\n",
    "run_model_view = Output(layout={'border': '1px solid black'})\n",
    "GPU_view = Output()\n",
    "\n",
    "run_model_button = Button(description=\"Run Model\")\n",
    "use_data_button = Button(description=\"Use Data Button\")\n",
    "use_select_images_button = Button(description=\"Select Your Images\")\n",
    "\n",
    "\n",
    "model_implementation = RadioButtons(\n",
    "    options=['ENSEMBLE', 'BEST'],\n",
    "   value='ENSEMBLE',\n",
    "    description='Select:',\n",
    "    disabled=False\n",
    ")\n",
    "\n",
    "model_dropdown = RadioButtons(\n",
    "    options= ['landsat_6229071', 'landsat_6230083','SWED-RGB_6824384','SWED-MNDWI_6824342','coast-train-RGB_6950479', 'S2-water-SWED_6950474'],\n",
    "    value='landsat_6229071',\n",
    "    description='Select Model:',\n",
    "    disabled=False,\n",
    ")\n",
    "\n",
    "\n",
    "GPU_checkbox = Checkbox(\n",
    "    value=False,\n",
    "    description='Use GPU?',\n",
    "    disabled=False,\n",
    "    indent=False\n",
    ")\n",
    "\n",
    "\n",
    "def handle_model_type(change):\n",
    "    model_dict[\"model_type\"]=change['new']\n",
    "\n",
    "\n",
    "def handle_model_implementation(change):\n",
    "    model_dict[\"implementation\"]=change['new']\n",
    "\n",
    "\n",
    "@GPU_view.capture(clear_output=True)\n",
    "def handle_GPU_checkbox(change):\n",
    "    if change[\"new\"] == True:\n",
    "        model_dict[\"use_GPU\"]=True\n",
    "        print(\"Using the GPU\")\n",
    "    else:\n",
    "        model_dict[\"use_GPU\"]=False\n",
    "        print(\"Not using the GPU\")\n",
    "        \n",
    "\n",
    "@model_view.capture(clear_output=True)\n",
    "def use_data_button_clicked(button):\n",
    "    # Use the data folder as the input for segmentation\n",
    "    print(\"Loading in the jpgs from the data directory\")\n",
    "    # Copy the jpgs from data to a new folder called segmentation_data_[datetime]\n",
    "    if 'MNDWI' in model_dropdown.value:\n",
    "        sample_direc =r'C:\\1_USGS\\CoastSeg\\repos\\2_CoastSeg\\CoastSeg_fork\\Seg2Map\\MNDWI_outputs\\MNDWI_ouputs_2022-07-21__07_hr_57_min14'\n",
    "#         sample_direc = file_functions.get_jpgs_from_data('MNDWI')\n",
    "#         RGB_path=sample_direc+os.sep+'RGB'\n",
    "#         NIR_path=sample_direc+os.sep+'NIR'\n",
    "#         sample_direc = coastseg_map.RGB_to_MNDWI(RGB_path,NIR_path,sample_direc)\n",
    "        model_dict[\"sample_direc\"]=sample_direc\n",
    "    else:\n",
    "        sample_direc = file_functions.get_jpgs_from_data('RGB')\n",
    "        model_dict[\"sample_direc\"]=sample_direc\n",
    "        jpgs = glob.glob1(sample_direc + os.sep, \"*jpg\")\n",
    "        if jpgs == []:\n",
    "            raise Exception(\"\\nThe directory contains no jpgs! Please select a directory with jpgs.\")\n",
    "    print(f\"\\nContents of the data directory saved in {sample_direc}\")\n",
    "\n",
    "\n",
    "@model_view.capture(clear_output=True)\n",
    "def use_select_images_button_clicked(button):\n",
    "    # Prompt the user to select a directory of images                              \n",
    "    root.withdraw()                                        # Hide the main window.\n",
    "    root.call('wm', 'attributes', '.', '-topmost', True)   # Raise the root to the top of all windows.\n",
    "    root.filename =  filedialog.askdirectory(initialdir = \"/samples\",title = \"Select directory of images (or npzs) to segment\")\n",
    "    # Save the filename as an attribute of the button\n",
    "    if root.filename:\n",
    "        sample_direc= root.filename\n",
    "        model_dict[\"sample_direc\"]=root.filename\n",
    "        print(f\"The images in the folder will be segmented :\\n{sample_direc} \")\n",
    "        jpgs = glob.glob1(sample_direc + os.sep, \"*jpg\")\n",
    "        if jpgs == []:\n",
    "            raise Exception(\"The directory contains no jpgs! Please select a directory with jpgs.\")\n",
    "    else:\n",
    "        raise Exception(\"You must select a valid directory first!\")\n",
    "\n",
    "@run_model_view.capture(clear_output=True)\n",
    "def run_model_button_clicked(button):\n",
    "    print(\"Called Run Model\")\n",
    "    if model_dict[\"sample_direc\"] is None:\n",
    "        print(\"You must click 'Use Data' or 'Select Images' First\")\n",
    "        return\n",
    "    else:\n",
    "        if model_dict[\"use_GPU\"] == False:\n",
    "            print(\"Not using the GPU\")\n",
    "            ## to use the CPU (not recommended):\n",
    "            os.environ['CUDA_VISIBLE_DEVICES'] = '-1'\n",
    "        elif model_dict[\"use_GPU\"] == True:\n",
    "            print(\"Using the GPU\")\n",
    "            ##use the first available GPU\n",
    "            os.environ['CUDA_VISIBLE_DEVICES'] = '0' #'1'\n",
    "        if 'MNDWI' in model_dropdown.value:\n",
    "            dataset='MNDWI'\n",
    "        else:\n",
    "            dataset='RGB'\n",
    "        dataset_id=model_dict['model_type']\n",
    "#         model_dict['implementation']=model_implementation.value\n",
    "        model_choice=model_dict['implementation']\n",
    "        zoo_model=zoo_model_module.Zoo_Model()\n",
    "        # # First download the specified model\n",
    "        zoo_model.download_model(dataset,dataset_id)\n",
    "        # # Get weights as list\n",
    "        Ww=zoo_model.get_weights_list(model_choice)\n",
    "        # Load the model from the config files\n",
    "        model, model_list, config_files, model_types=zoo_model.get_model(Ww)\n",
    "        metadatadict=zoo_model.get_metadatadict(Ww,config_files, model_types)\n",
    "        # # Compute the segmentation\n",
    "        zoo_model.compute_segmentation(model_dict[\"sample_direc\"], model_list, metadatadict)\n",
    "    \n",
    "    \n",
    "model_implementation.observe(handle_model_implementation,\"value\")\n",
    "model_dropdown.observe(handle_model_type,\"value\")\n",
    "GPU_checkbox.observe(handle_GPU_checkbox,\"value\")\n",
    "\n",
    "\n",
    "run_model_button.on_click(run_model_button_clicked)\n",
    "use_data_button.on_click(use_data_button_clicked)\n",
    "use_select_images_button.on_click(use_select_images_button_clicked)\n",
    "\n",
    "model_choices_box=HBox([model_dropdown, model_implementation])\n",
    "\n",
    "line_widget=HTML(value=\"____________________________________________________\")\n",
    "\n",
    "instr_header=HTML(\n",
    "    value=\"<h4>Click ONE of the following buttons:</h4>\",layout=Layout(margin='0px 0px 0px 0px'))\n",
    "\n",
    "instr_use_data=HTML(\n",
    "    value=\"<b>1. Use Data Folder Button</b> \\\n",
    "        <br> - When CoastSat downloads imagery it created a folder called 'data'in the CoastSeg directory.\\\n",
    "            The jpgs within the 'data' folder will be copied to another folder with a name such as\\\n",
    "            <span style=\\\"background-color:LightGray;\\\">segmentation_data_2022-07-07__10_hr_04_min58 </span>\\\n",
    "            (the date and time will be the current date and time) <br> \\\n",
    "           The model will be applied to this folder and the model outputs will be generated within a subdirectory \\\n",
    "            called 'out'\",layout=Layout(margin='0px 0px 0px 20px'))\n",
    "\n",
    "instr_select_images=HTML(\n",
    "    value=\"<b>2. Select Images Button</b> \\\n",
    "        <br> - This will open a pop up window where the folder containing the jpgs can be selected.<br>\\\n",
    "             - The model will be applied to this folder and the model outputs will be generated within a subdirectory\\\n",
    "             called 'out'<br>\\\n",
    "      - <span style=\\\"background-color:yellow;\\\">WARNING :</span> You will not be able to see the files within the folder you select.<br>\\\n",
    "    \",layout=Layout(margin='0px 0px 0px 20px'))\n",
    "\n",
    "instr_vbox=VBox([instr_header, line_widget, instr_use_data, instr_select_images])\n",
    "\n",
    "display(GPU_checkbox,GPU_view,model_choices_box,instr_vbox,use_data_button,use_select_images_button,line_widget, model_view,run_model_button,run_model_view)"
   ]
  },
  {
   "cell_type": "markdown",
   "metadata": {},
   "source": [
    "## Example Using New RGB_to_MNDWI function\n",
    "Replace `rgb_path` and `nir_path` was the full path to the directories containing the corresponding RGB and NIR images.\n",
    "The outputs will be in a directory called `MNDWI_outputs` as `.npz`"
   ]
  },
  {
   "cell_type": "code",
   "execution_count": null,
   "metadata": {},
   "outputs": [],
   "source": [
    "# Replace these temp paths with the paths you have\n",
    "rgb_path=r'C:\\1_USGS\\CoastSeg\\repos\\2_CoastSeg\\CoastSeg_fork\\Seg2Map\\zenodo_sample_data\\data_sample\\images'\n",
    "nir_path = r'C:\\1_USGS\\CoastSeg\\repos\\2_CoastSeg\\CoastSeg_fork\\Seg2Map\\zenodo_sample_data\\data_sample\\nir'\n",
    "coastseg_map_copy=coastseg_map_class.CoastSeg_Map()\n",
    "coastseg_map_copy.RGB_to_MNDWI(rgb_path,nir_path,os.getcwd())"
   ]
  },
  {
   "cell_type": "code",
   "execution_count": null,
   "metadata": {},
   "outputs": [],
   "source": []
  }
 ],
 "metadata": {
  "kernelspec": {
   "display_name": "Python 3 (ipykernel)",
   "language": "python",
   "name": "python3"
  },
  "language_info": {
   "codemirror_mode": {
    "name": "ipython",
    "version": 3
   },
   "file_extension": ".py",
   "mimetype": "text/x-python",
   "name": "python",
   "nbconvert_exporter": "python",
   "pygments_lexer": "ipython3",
   "version": "3.10.4"
  },
  "vscode": {
   "interpreter": {
    "hash": "9d097efbdf24db87a2507c17c632c6d564e7aff5ba5cfc04e62a44a8b3d6a20a"
   }
  },
  "widgets": {
   "application/vnd.jupyter.widget-state+json": {
    "state": {
     "000bc63a4baf40f3b2dba183ecdbc23b": {
      "model_module": "@jupyter-widgets/controls",
      "model_module_version": "1.5.0",
      "model_name": "ToggleButtonModel",
      "state": {
       "button_style": "primary",
       "icon": "globe",
       "layout": "IPY_MODEL_8c469979703c422aa81b0de0b7bdfacc",
       "style": "IPY_MODEL_92750021f91f44039e77f53f0dcce6e4",
       "tooltip": "Split-panel map"
      }
     },
     "022c4b2490d54451a11d659e340874c4": {
      "model_module": "@jupyter-widgets/base",
      "model_module_version": "1.2.0",
      "model_name": "LayoutModel",
      "state": {
       "height": "auto",
       "padding": "0px 0px 0px 4px",
       "width": "auto"
      }
     },
     "034f3221be8542998f54cf90aa982b1f": {
      "model_module": "@jupyter-widgets/base",
      "model_module_version": "1.2.0",
      "model_name": "LayoutModel",
      "state": {}
     },
     "045b4fa6681f4ff481a8413dcee87ff4": {
      "model_module": "@jupyter-widgets/base",
      "model_module_version": "1.2.0",
      "model_name": "LayoutModel",
      "state": {}
     },
     "04ca82e0c9ce4ae98a8b24d11b3ac3eb": {
      "model_module": "jupyter-leaflet",
      "model_module_version": "^0.17.0",
      "model_name": "LeafletTileLayerModel",
      "state": {
       "_model_module_version": "^0.17.0",
       "_view_module_version": "^0.17.0",
       "attribution": "(C) OpenStreetMap contributors (C) CARTO",
       "max_zoom": 20,
       "name": "CartoDB.Voyager",
       "options": [
        "attribution",
        "bounds",
        "detect_retina",
        "max_native_zoom",
        "max_zoom",
        "min_native_zoom",
        "min_zoom",
        "no_wrap",
        "tile_size",
        "tms"
       ],
       "url": "https://a.basemaps.cartocdn.com/rastertiles/voyager/{z}/{x}/{y}.png"
      }
     },
     "04e0d51ff90240e08e0d199c3a844a8b": {
      "model_module": "jupyter-leaflet",
      "model_module_version": "^0.17.0",
      "model_name": "LeafletWidgetControlModel",
      "state": {
       "_model_module": "jupyter-leaflet",
       "_model_module_version": "^0.17.0",
       "_view_count": null,
       "_view_module": "jupyter-leaflet",
       "_view_module_version": "^0.17.0",
       "options": [
        "position",
        "transparent_bg"
       ],
       "position": "topright",
       "widget": "IPY_MODEL_40ffb59cb2eb4470af0dbc406e979556"
      }
     },
     "057c384266844391b72898aa7b912e06": {
      "model_module": "jupyter-leaflet",
      "model_module_version": "^0.17.0",
      "model_name": "LeafletTileLayerModel",
      "state": {
       "_model_module_version": "^0.17.0",
       "_view_module_version": "^0.17.0",
       "attribution": "![](https://docs.onemap.sg/maps/images/oneMap64-01.png) New OneMap | Map data (C) contributors, Singapore Land Authority",
       "name": "OneMapSG.Grey",
       "options": [
        "attribution",
        "bounds",
        "detect_retina",
        "max_native_zoom",
        "max_zoom",
        "min_native_zoom",
        "min_zoom",
        "no_wrap",
        "tile_size",
        "tms"
       ],
       "url": "https://maps-a.onemap.sg/v3/Grey/{z}/{x}/{y}.png"
      }
     },
     "05b9fee792b8417bac85027f510ca29d": {
      "model_module": "jupyter-leaflet",
      "model_module_version": "^0.17.0",
      "model_name": "LeafletTileLayerModel",
      "state": {
       "_model_module_version": "^0.17.0",
       "_view_module_version": "^0.17.0",
       "attribution": "Imagery provided by services from the Global Imagery Browse Services (GIBS), operated by the NASA/GSFC/Earth Science Data and Information System (ESDIS) with funding provided by NASA/HQ.",
       "max_zoom": 9,
       "name": "NASAGIBS.ModisTerraBands721CR",
       "options": [
        "attribution",
        "bounds",
        "detect_retina",
        "max_native_zoom",
        "max_zoom",
        "min_native_zoom",
        "min_zoom",
        "no_wrap",
        "tile_size",
        "tms"
       ],
       "url": "https://gibs.earthdata.nasa.gov/wmts/epsg3857/best/MODIS_Terra_CorrectedReflectance_Bands721/default//GoogleMapsCompatible_Level9/{z}/{y}/{x}.jpg"
      }
     },
     "06ef992c9fa540ee9254d66efcf9eeda": {
      "model_module": "@jupyter-widgets/controls",
      "model_module_version": "1.5.0",
      "model_name": "ButtonModel",
      "state": {
       "description": "Remove bbox",
       "layout": "IPY_MODEL_bb02923da1104cd4ad4332905e26ddb0",
       "style": "IPY_MODEL_fbdcecfd27af4bb29001236d692d9a9b"
      }
     },
     "07ae20e8a3f04ab5a365d7277308243b": {
      "model_module": "@jupyter-widgets/controls",
      "model_module_version": "1.5.0",
      "model_name": "ToggleButtonModel",
      "state": {
       "button_style": "primary",
       "icon": "eraser",
       "layout": "IPY_MODEL_835628feaf5848e99c4f2b7da2cd992c",
       "style": "IPY_MODEL_45baee36da614d4f9be1a751ca2368e6",
       "tooltip": "Remove all drawn features"
      }
     },
     "07bcb9f704df46b0bc368263bb972fa9": {
      "model_module": "@jupyter-widgets/controls",
      "model_module_version": "1.5.0",
      "model_name": "VBoxModel",
      "state": {
       "children": [
        "IPY_MODEL_f256337d356b4ba7885f10bdbc783f33"
       ],
       "layout": "IPY_MODEL_a15542f7255f4832a62155b37421b7c8"
      }
     },
     "094cc54b71174272b2b8e13ed8dd0168": {
      "model_module": "@jupyter-widgets/base",
      "model_module_version": "1.2.0",
      "model_name": "LayoutModel",
      "state": {}
     },
     "0a2c697acfe44596bef0b0729b71c850": {
      "model_module": "@jupyter-widgets/controls",
      "model_module_version": "1.5.0",
      "model_name": "DescriptionStyleModel",
      "state": {
       "description_width": ""
      }
     },
     "0cf65e53741144dc88d7dde8c621be29": {
      "model_module": "jupyter-leaflet",
      "model_module_version": "^0.17.0",
      "model_name": "LeafletTileLayerModel",
      "state": {
       "_model_module_version": "^0.17.0",
       "_view_module_version": "^0.17.0",
       "attribution": "Map tiles by Stamen Design, CC BY 3.0 -- Map data (C) OpenStreetMap contributors",
       "max_zoom": 20,
       "name": "Stamen.Toner",
       "options": [
        "attribution",
        "bounds",
        "detect_retina",
        "max_native_zoom",
        "max_zoom",
        "min_native_zoom",
        "min_zoom",
        "no_wrap",
        "tile_size",
        "tms"
       ],
       "url": "https://stamen-tiles-a.a.ssl.fastly.net/toner/{z}/{x}/{y}.png"
      }
     },
     "0e43fbe67a414a09965ea898d3b1c1c1": {
      "model_module": "@jupyter-widgets/controls",
      "model_module_version": "1.5.0",
      "model_name": "DescriptionStyleModel",
      "state": {
       "description_width": ""
      }
     },
     "0e5ad92f747645f38ea4352be36fd579": {
      "model_module": "@jupyter-widgets/base",
      "model_module_version": "1.2.0",
      "model_name": "LayoutModel",
      "state": {}
     },
     "0e9ce36e9606495f82424bfff42f4c4d": {
      "model_module": "@jupyter-widgets/base",
      "model_module_version": "1.2.0",
      "model_name": "LayoutModel",
      "state": {}
     },
     "0edcea6181034027aa1ab38f4ec97b4f": {
      "model_module": "jupyter-leaflet",
      "model_module_version": "^0.17.0",
      "model_name": "LeafletWMSLayerModel",
      "state": {
       "_model_module_version": "^0.17.0",
       "_view_module_version": "^0.17.0",
       "attribution": "USGS",
       "crs": {
        "custom": false,
        "name": "EPSG3857"
       },
       "format": "image/png",
       "layers": "33DEPElevation:Hillshade Elevation Tinted",
       "name": "USGS 3DEP Elevation",
       "options": [
        "attribution",
        "bounds",
        "detect_retina",
        "format",
        "layers",
        "max_native_zoom",
        "max_zoom",
        "min_native_zoom",
        "min_zoom",
        "no_wrap",
        "styles",
        "tile_size",
        "tms",
        "transparent",
        "uppercase"
       ],
       "transparent": true,
       "url": "https://elevation.nationalmap.gov/arcgis/services/3DEPElevation/ImageServer/WMSServer?"
      }
     },
     "0f08d2dd1e8640469d2ede220f53373b": {
      "model_module": "@jupyter-widgets/controls",
      "model_module_version": "1.5.0",
      "model_name": "ButtonModel",
      "state": {
       "description": "Load Transects",
       "layout": "IPY_MODEL_7dac01b87c784b858362a2bbeb2d5599",
       "style": "IPY_MODEL_8902cb5223ce4206b0ca61a31c2b4891"
      }
     },
     "0f52b2dd697c474596a72897901980a5": {
      "model_module": "jupyter-leaflet",
      "model_module_version": "^0.17.0",
      "model_name": "LeafletTileLayerModel",
      "state": {
       "_model_module_version": "^0.17.0",
       "_view_module_version": "^0.17.0",
       "attribution": "Map memomaps.de CC-BY-SA, map data (C) OpenStreetMap contributors",
       "name": "OPNVKarte",
       "options": [
        "attribution",
        "bounds",
        "detect_retina",
        "max_native_zoom",
        "max_zoom",
        "min_native_zoom",
        "min_zoom",
        "no_wrap",
        "tile_size",
        "tms"
       ],
       "url": "https://tileserver.memomaps.de/tilegen/{z}/{x}/{y}.png"
      }
     },
     "1045fd4be306469f900ce55fbf7ebddd": {
      "model_module": "jupyter-leaflet",
      "model_module_version": "^0.17.0",
      "model_name": "LeafletLayersControlModel",
      "state": {
       "_model_module_version": "^0.17.0",
       "_view_module_version": "^0.17.0",
       "options": [
        "position"
       ],
       "position": "topright"
      }
     },
     "1054a08e6c0c48c8a07884228a156f9d": {
      "model_module": "jupyter-leaflet",
      "model_module_version": "^0.17.0",
      "model_name": "LeafletTileLayerModel",
      "state": {
       "_model_module_version": "^0.17.0",
       "_view_module_version": "^0.17.0",
       "attribution": "Map data: (C) OpenStreetMap contributors | Map style: (C) waymarkedtrails.org (CC-BY-SA)",
       "name": "WaymarkedTrails.slopes",
       "options": [
        "attribution",
        "bounds",
        "detect_retina",
        "max_native_zoom",
        "max_zoom",
        "min_native_zoom",
        "min_zoom",
        "no_wrap",
        "tile_size",
        "tms"
       ],
       "url": "https://tile.waymarkedtrails.org/slopes/{z}/{x}/{y}.png"
      }
     },
     "106539ae6d8d4b0698a8afae06c5d090": {
      "model_module": "@jupyter-widgets/base",
      "model_module_version": "1.2.0",
      "model_name": "LayoutModel",
      "state": {
       "height": "auto",
       "padding": "0px 0px 0px 4px",
       "width": "auto"
      }
     },
     "10a7f7793803498296774aa16cc552c7": {
      "model_module": "@jupyter-widgets/controls",
      "model_module_version": "1.5.0",
      "model_name": "DescriptionStyleModel",
      "state": {
       "description_width": ""
      }
     },
     "10e649a3b01f4747b5fb308b1bd9cd83": {
      "model_module": "@jupyter-widgets/controls",
      "model_module_version": "1.5.0",
      "model_name": "HTMLModel",
      "state": {
       "layout": "IPY_MODEL_b7108808ef9b4029bfa9db1535080424",
       "style": "IPY_MODEL_1287c26f036c45cebd7c70c8b66e9414",
       "value": " 8/8 [00:39&lt;00:00,  4.48s/it]"
      }
     },
     "10ef611512b24501acbdd64b73030245": {
      "model_module": "@jupyter-widgets/base",
      "model_module_version": "1.2.0",
      "model_name": "LayoutModel",
      "state": {}
     },
     "10f120bdbba04993ab32b9b45dde052d": {
      "model_module": "@jupyter-widgets/controls",
      "model_module_version": "1.5.0",
      "model_name": "DescriptionStyleModel",
      "state": {
       "description_width": ""
      }
     },
     "11a9c491f8194d9696f22951ef195a57": {
      "model_module": "jupyter-leaflet",
      "model_module_version": "^0.17.0",
      "model_name": "LeafletGeoJSONModel",
      "state": {
       "_model_module_version": "^0.17.0",
       "_view_module_version": "^0.17.0",
       "data": {
        "features": [
         {
          "geometry": {
           "coordinates": [
            [
             -121.519014,
             36.00721478575601
            ],
            [
             -121.51906798699997,
             36.007199557000035
            ],
            [
             -121.51912674099998,
             36.00719163200006
            ],
            [
             -121.51918667799998,
             36.00719077800005
            ],
            [
             -121.51924553199996,
             36.00719702200007
            ],
            [
             -121.51930095399996,
             36.00721101900007
            ],
            [
             -121.51935036299994,
             36.00723408400006
            ],
            [
             -121.51938718899999,
             36.00726242400003
            ],
            [
             -121.51958751099994,
             36.00746749500007
            ],
            [
             -121.51961660899997,
             36.00750667600005
            ],
            [
             -121.51964153699998,
             36.007559755000045
            ],
            [
             -121.51965892399994,
             36.007620313000075
            ],
            [
             -121.51967074899994,
             36.00768634700006
            ],
            [
             -121.51967858599994,
             36.00775627300004
            ],
            [
             -121.51968368899998,
             36.007828837000034
            ],
            [
             -121.51969560699996,
             36.00812674000008
            ],
            [
             -121.51970065899997,
             36.008198976000074
            ],
            [
             -121.51970842199995,
             36.00826845000006
            ],
            [
             -121.51972015099994,
             36.00833391500004
            ],
            [
             -121.51973741699999,
             36.008393811000076
            ],
            [
             -121.51976219299996,
             36.00844616200004
            ],
            [
             -121.519791135,
             36.008484690000046
            ],
            [
             -121.51999001499996,
             36.00869036200004
            ],
            [
             -121.52002654799998,
             36.008721226000034
            ],
            [
             -121.52007563799998,
             36.00874915900005
            ],
            [
             -121.52056746799997,
             36.00898889300004
            ],
            [
             -121.52062271899996,
             36.009013492000065
            ],
            [
             -121.52068522099995,
             36.00903084200007
            ],
            [
             -121.52075310999999,
             36.00904280700007
            ],
            [
             -121.52082494499996,
             36.00905082400004
            ],
            [
             -121.52089963199995,
             36.00905598700007
            ],
            [
             -121.521054489,
             36.009060831000056
            ],
            [
             -121.52129358399998,
             36.009061288000055
            ],
            [
             -121.52177722099998,
             36.00905675300004
            ],
            [
             -121.52201695899998,
             36.00905656500004
            ],
            [
             -121.52217339999999,
             36.009059826000055
            ],
            [
             -121.52224960199999,
             36.009063473000026
            ],
            [
             -121.52232370699994,
             36.009069219000025
            ],
            [
             -121.52239490699998,
             36.009077870000056
            ],
            [
             -121.52246212899996,
             36.009090496000056
            ],
            [
             -121.52252398099995,
             36.00910849400003
            ],
            [
             -121.522578668,
             36.00913365700006
            ],
            [
             -121.52261842899998,
             36.00916127100004
            ],
            [
             -121.52269141499994,
             36.00922303300007
            ],
            [
             -121.52273121999997,
             36.009250602000066
            ],
            [
             -121.52278673199999,
             36.00927593600005
            ],
            [
             -121.52284961099997,
             36.009293909000064
            ],
            [
             -121.52291799099999,
             36.00930637700003
            ],
            [
             -121.52294237299998,
             36.00930920300004
            ]
           ],
           "type": "LineString"
          },
          "id": "0",
          "properties": {
           "CHLOROPHYLL": 2.417483,
           "CSU_Descriptor": "steeply sloping, straight, medium erodibility, warm temperate dry, low river discharge, moderate wave energy, moderately tidal, euhaline-oxic-moderate to cool, clear, moderate chlorophyll",
           "CSU_ID": 70981,
           "Cluster": 6,
           "EMU_PHYSICAL": "Euhaline-Oxic-Moderate to Cool",
           "ERODIBILITY": "Medium",
           "GHM": 0.10134,
           "LENGTH_GEO": 808.8271837845471,
           "MAX_SLOPE": 152.033411,
           "MEAN_SIG_WAVEHEIGHT": 1.687268,
           "MasterKey": 2753662,
           "OBJECTID": 2753662,
           "OUTFLOW_DENSITY": 8671.790039,
           "OUTFLOW_DENSITY_RESCALED": 1.0484883786709782e-05,
           "REGIONAL_SINUOSITY": 1.140924,
           "RandomSort": 297054.39133329,
           "Shape_Length": 0.008495092439177234,
           "TEMP_MOISTURE": "Warm Temperate Dry",
           "TIDAL_RANGE": 2.410373,
           "TURBIDITY": 0.024533,
           "chl_label": "moderate chlorophyll",
           "river_label": "low river discharge",
           "sinuosity_label": "straight",
           "slope_label": "steeply sloping",
           "style": {
            "color": "yellow",
            "dashArray": "5",
            "fillOpacity": 0.5,
            "fill_color": "yellow",
            "opacity": 1,
            "weight": 4
           },
           "tidal_label": "moderately tidal",
           "turbid_label": "clear",
           "wave_label": "moderate wave energy"
          },
          "type": "Feature"
         },
         {
          "geometry": {
           "coordinates": [
            [
             -121.52294237299998,
             36.00930920300004
            ],
            [
             -121.52299043799997,
             36.00931477600005
            ],
            [
             -121.52306584699994,
             36.00932021500006
            ],
            [
             -121.52314337799999,
             36.00932353400003
            ],
            [
             -121.52330241599998,
             36.00932619200006
            ],
            [
             -121.52370608799998,
             36.00932676200006
            ],
            [
             -121.52386335299997,
             36.00933119200005
            ],
            [
             -121.52393923899996,
             36.009336157000064
            ],
            [
             -121.52401222299994,
             36.00934402000007
            ],
            [
             -121.52408117099998,
             36.009355921000065
            ],
            [
             -121.52414459399995,
             36.009373347000064
            ],
            [
             -121.52420056299997,
             36.00939822500004
            ],
            [
             -121.52469040399995,
             36.00963986900007
            ],
            [
             -121.524739453,
             36.009667818000025
            ],
            [
             -121.52477615099997,
             36.00969849400008
            ],
            [
             -121.52498804699997,
             36.00989084100007
            ],
            [
             -121.52505498,
             36.00995865700003
            ],
            [
             -121.52524430899996,
             36.010173569000074
            ],
            [
             -121.52527439299996,
             36.01021086000003
            ],
            [
             -121.52530164799998,
             36.01026060300006
            ],
            [
             -121.52532298699998,
             36.010316259000035
            ],
            [
             -121.52537568099996,
             36.010494562000076
            ],
            [
             -121.52539703399998,
             36.01055020700005
            ],
            [
             -121.52542430699998,
             36.01059993400003
            ],
            [
             -121.52545441199999,
             36.010637202000055
            ],
            [
             -121.52564404199995,
             36.010851812000055
            ],
            [
             -121.52571117599996,
             36.01091942800008
            ],
            [
             -121.52592423599998,
             36.01111061000006
            ],
            [
             -121.52596123499995,
             36.011140984000065
            ],
            [
             -121.52601066999995,
             36.01116854600008
            ],
            [
             -121.52606607099995,
             36.01119014400007
            ],
            [
             -121.52639046799999,
             36.01131811400006
            ],
            [
             -121.526840156,
             36.01153253700005
            ],
            [
             -121.52688911499996,
             36.01156057700007
            ],
            [
             -121.52692569299995,
             36.011591373000044
            ],
            [
             -121.52706057599994,
             36.011725985000055
            ],
            [
             -121.52727633599994,
             36.011914465000075
            ],
            [
             -121.52731440599996,
             36.01194376700005
            ],
            [
             -121.52736857399998,
             36.011970448000056
            ],
            [
             -121.52743039399996,
             36.01198947700004
            ],
            [
             -121.527497499,
             36.01200322100004
            ],
            [
             -121.52756790899997,
             36.01201365800006
            ],
            [
             -121.52771190599998,
             36.01203135800006
            ],
            [
             -121.52778230699994,
             36.01204180700006
            ],
            [
             -121.52784938999997,
             36.012055571000076
            ],
            [
             -121.52791118099998,
             36.01207463000003
            ],
            [
             -121.52796530899997,
             36.01210135100007
            ],
            [
             -121.528003335,
             36.01213069700003
            ],
            [
             -121.52821858099998,
             36.01231969600008
            ],
            [
             -121.52849233899997,
             36.01253680000008
            ],
            [
             -121.52892722099995,
             36.01275640600005
            ],
            [
             -121.52898061199994,
             36.012780013000054
            ],
            [
             -121.52904083699997,
             36.01279678800006
            ],
            [
             -121.52910613899996,
             36.012808481000036
            ],
            [
             -121.52917511499999,
             36.012816506000036
            ],
            [
             -121.52924661599997,
             36.012822001000075
            ],
            [
             -121.52954030299998,
             36.01283630700004
            ],
            [
             -121.52961161299999,
             36.012841998000056
            ],
            [
             -121.52968023799997,
             36.01285037100007
            ],
            [
             -121.529744946,
             36.01286266200003
            ],
            [
             -121.52980419999994,
             36.01288040600008
            ],
            [
             -121.52985607199997,
             36.01290553300004
            ],
            [
             -121.52989436099995,
             36.01293461900008
            ],
            [
             -121.53001979599998,
             36.013046710000026
            ]
           ],
           "type": "LineString"
          },
          "id": "1",
          "properties": {
           "CHLOROPHYLL": 0.833561,
           "CSU_Descriptor": "steeply sloping, straight, medium erodibility, warm temperate dry, low river discharge, moderate wave energy, moderately tidal, euhaline-oxic-moderate to cool, clear, low chlorophyll",
           "CSU_ID": 62191,
           "Cluster": 6,
           "EMU_PHYSICAL": "Euhaline-Oxic-Moderate to Cool",
           "ERODIBILITY": "Medium",
           "GHM": 0.10134,
           "LENGTH_GEO": 808.6158624684548,
           "MAX_SLOPE": 76.299834,
           "MEAN_SIG_WAVEHEIGHT": 1.687268,
           "MasterKey": 2753661,
           "OBJECTID": 2753661,
           "OUTFLOW_DENSITY": 8671.790039,
           "OUTFLOW_DENSITY_RESCALED": 1.0484883786709782e-05,
           "REGIONAL_SINUOSITY": 1.140924,
           "RandomSort": 3235310.88357964,
           "Shape_Length": 0.008419277882346981,
           "TEMP_MOISTURE": "Warm Temperate Dry",
           "TIDAL_RANGE": 2.416656,
           "TURBIDITY": 0.027483,
           "chl_label": "low chlorophyll",
           "river_label": "low river discharge",
           "sinuosity_label": "straight",
           "slope_label": "steeply sloping",
           "style": {
            "color": "yellow",
            "dashArray": "5",
            "fillOpacity": 0.5,
            "fill_color": "yellow",
            "opacity": 1,
            "weight": 4
           },
           "tidal_label": "moderately tidal",
           "turbid_label": "clear",
           "wave_label": "moderate wave energy"
          },
          "type": "Feature"
         },
         {
          "geometry": {
           "coordinates": [
            [
             -121.53001979599998,
             36.013046710000026
            ],
            [
             -121.53010783599996,
             36.01312538500008
            ],
            [
             -121.53014334699998,
             36.01315724500006
            ],
            [
             -121.53017468399997,
             36.01319328300008
            ],
            [
             -121.53029845299994,
             36.01333900900005
            ],
            [
             -121.53049737899994,
             36.013544325000055
            ],
            [
             -121.53056436799994,
             36.013612083000055
            ],
            [
             -121.53077520199997,
             36.01380549100003
            ],
            [
             -121.53081175499995,
             36.01383631200008
            ],
            [
             -121.53086067699996,
             36.01386439000004
            ],
            [
             -121.53135124,
             36.01410531100004
            ],
            [
             -121.53140450999996,
             36.01412904000006
            ],
            [
             -121.53146456599995,
             36.01414598400004
            ],
            [
             -121.53152965099997,
             36.01415789400005
            ],
            [
             -121.53159836199995,
             36.014166182000054
            ],
            [
             -121.53166955799998,
             36.014171986000065
            ],
            [
             -121.53196185699994,
             36.01418768100007
            ],
            [
             -121.53203293899998,
             36.01419359800008
            ],
            [
             -121.53210150799998,
             36.01420202700007
            ],
            [
             -121.53216645499998,
             36.014214080000045
            ],
            [
             -121.53222640399997,
             36.01423112700007
            ],
            [
             -121.53290144599998,
             36.01446853600004
            ],
            [
             -121.53319957399998,
             36.014615132000074
            ],
            [
             -121.53323981899996,
             36.01464227500003
            ],
            [
             -121.53329471799998,
             36.01466666300007
            ],
            [
             -121.53335673599997,
             36.014683941000044
            ],
            [
             -121.53342408199995,
             36.01469589800007
            ],
            [
             -121.53349535899997,
             36.01470393400007
            ],
            [
             -121.53356946899999,
             36.01470914600003
            ],
            [
             -121.53372295799994,
             36.014714352000055
            ],
            [
             -121.53395763199995,
             36.01471789900006
            ],
            [
             -121.53411110699994,
             36.01472341200008
            ],
            [
             -121.53418510299997,
             36.014728984000044
            ],
            [
             -121.534256084,
             36.01473762400008
            ],
            [
             -121.53432283599994,
             36.014750556000024
            ],
            [
             -121.53438378699997,
             36.014769355000055
            ],
            [
             -121.53443691099994,
             36.014796051000076
            ],
            [
             -121.53447484599997,
             36.01482601200007
            ],
            [
             -121.53461076599996,
             36.014961913000036
            ],
            [
             -121.53482122899999,
             36.015153878000035
            ],
            [
             -121.534857295,
             36.01518238500006
            ],
            [
             -121.53490563999998,
             36.01520586100003
            ],
            [
             -121.53495995299994,
             36.01522042700003
            ],
            [
             -121.53501779099997,
             36.01522737400006
            ],
            [
             -121.53507693499995,
             36.01522738600005
            ],
            [
             -121.53513527099994,
             36.01522058300003
            ],
            [
             -121.535190667,
             36.01520652500005
            ],
            [
             -121.53524085799995,
             36.01518421500003
            ],
            [
             -121.53527937599995,
             36.01515754500008
            ],
            [
             -121.53535137699998,
             36.01509609900006
            ],
            [
             -121.53539112399994,
             36.015068204000045
            ],
            [
             -121.535446214,
             36.015042433000076
            ],
            [
             -121.53550863799995,
             36.01502374700004
            ],
            [
             -121.53557650599998,
             36.015010407000034
            ],
            [
             -121.535648359,
             36.015001046000066
            ],
            [
             -121.53572308399998,
             36.01499460900004
            ],
            [
             -121.53587802799996,
             36.01498748500006
            ],
            [
             -121.53603696899995,
             36.01498472600008
            ],
            [
             -121.53619762599999,
             36.01498398500007
            ],
            [
             -121.53756718999995,
             36.01498332700004
            ],
            [
             -121.53772548899997,
             36.01498543200006
            ],
            [
             -121.53780327399994,
             36.014987835000056
            ],
            [
             -121.53787959299996,
             36.01499170500006
            ],
            [
             -121.53795314799999,
             36.01499759700005
            ]
           ],
           "type": "LineString"
          },
          "id": "2",
          "properties": {
           "CHLOROPHYLL": 2.417483,
           "CSU_Descriptor": "steeply sloping, straight, medium erodibility, warm temperate dry, low river discharge, moderate wave energy, moderately tidal, euhaline-oxic-moderate to cool, clear, moderate chlorophyll",
           "CSU_ID": 70981,
           "Cluster": 6,
           "EMU_PHYSICAL": "Euhaline-Oxic-Moderate to Cool",
           "ERODIBILITY": "Medium",
           "GHM": 0.115889,
           "LENGTH_GEO": 809.0954052047207,
           "MAX_SLOPE": 165.896272,
           "MEAN_SIG_WAVEHEIGHT": 1.687268,
           "MasterKey": 2753660,
           "OBJECTID": 2753660,
           "OUTFLOW_DENSITY": 8671.790039,
           "OUTFLOW_DENSITY_RESCALED": 1.0484883786709782e-05,
           "REGIONAL_SINUOSITY": 1.140924,
           "RandomSort": 3897464.57070746,
           "Shape_Length": 0.008658662143014698,
           "TEMP_MOISTURE": "Warm Temperate Dry",
           "TIDAL_RANGE": 2.416656,
           "TURBIDITY": 0.027483,
           "chl_label": "moderate chlorophyll",
           "river_label": "low river discharge",
           "sinuosity_label": "straight",
           "slope_label": "steeply sloping",
           "style": {
            "color": "yellow",
            "dashArray": "5",
            "fillOpacity": 0.5,
            "fill_color": "yellow",
            "opacity": 1,
            "weight": 4
           },
           "tidal_label": "moderately tidal",
           "turbid_label": "clear",
           "wave_label": "moderate wave energy"
          },
          "type": "Feature"
         },
         {
          "geometry": {
           "coordinates": [
            [
             -121.53795314799999,
             36.01499759700005
            ],
            [
             -121.53795383199997,
             36.014997651000044
            ],
            [
             -121.53802517399998,
             36.01500649800005
            ],
            [
             -121.538092539,
             36.015019333000055
            ],
            [
             -121.53815451199995,
             36.015037566000046
            ],
            [
             -121.53820928399995,
             36.015063017000045
            ],
            [
             -121.53824894399997,
             36.01509082800004
            ],
            [
             -121.53832172499995,
             36.01515304800006
            ],
            [
             -121.53836141799997,
             36.01518088900008
            ],
            [
             -121.53841513999998,
             36.01520599100007
            ],
            [
             -121.53847585499994,
             36.015224138000065
            ],
            [
             -121.53854184899996,
             36.01523705900007
            ],
            [
             -121.53861176899994,
             36.01524610900003
            ],
            [
             -121.53868458199997,
             36.015252331000056
            ],
            [
             -121.53883590299995,
             36.01525927200004
            ],
            [
             -121.53907025199999,
             36.01526272700005
            ],
            [
             -121.53938642999998,
             36.01526264600005
            ],
            [
             -121.53962088199995,
             36.01525903500004
            ],
            [
             -121.53977233899997,
             36.01525193900005
            ],
            [
             -121.539845244,
             36.015245615000026
            ],
            [
             -121.53991528399996,
             36.01523644200006
            ],
            [
             -121.53998141999995,
             36.01522337200004
            ],
            [
             -121.54004231399995,
             36.01520504600006
            ],
            [
             -121.54009624399998,
             36.01517973000006
            ],
            [
             -121.54013614899998,
             36.01515167700006
            ],
            [
             -121.54020945199994,
             36.01508893000005
            ],
            [
             -121.54024942999996,
             36.01506080000007
            ],
            [
             -121.54030399299995,
             36.015035159000035
            ],
            [
             -121.54036567499998,
             36.01501655200008
            ],
            [
             -121.540432706,
             36.015003224000054
            ],
            [
             -121.54050369099997,
             36.01499381000008
            ],
            [
             -121.540577542,
             36.01498728300004
            ],
            [
             -121.54065340399995,
             36.01498288700003
            ],
            [
             -121.54073059599995,
             36.014980098000024
            ],
            [
             -121.54088677899995,
             36.01497819100007
            ],
            [
             -121.54096478799994,
             36.01497893100003
            ],
            [
             -121.54104206599999,
             36.01498098500008
            ],
            [
             -121.54111801799996,
             36.01498471600007
            ],
            [
             -121.54119190299997,
             36.014990703000024
            ],
            [
             -121.54126277999995,
             36.014999776000025
            ],
            [
             -121.54132943499997,
             36.01501308700006
            ],
            [
             -121.54139029499999,
             36.01503216300006
            ],
            [
             -121.54144333699998,
             36.01505900400008
            ],
            [
             -121.54148121799994,
             36.01508897400004
            ],
            [
             -121.54161719599995,
             36.01522391800006
            ],
            [
             -121.54183136599994,
             36.01541503200008
            ],
            [
             -121.54186920999996,
             36.01544465600006
            ],
            [
             -121.54192314699998,
             36.015471656000045
            ],
            [
             -121.541984792,
             36.01549093600005
            ],
            [
             -121.54205176899995,
             36.015504864000036
            ],
            [
             -121.54212210599997,
             36.01551542400006
            ],
            [
             -121.54226609399996,
             36.01553320000005
            ],
            [
             -121.54233654799998,
             36.01554361700005
            ],
            [
             -121.54240371799995,
             36.015557314000034
            ],
            [
             -121.54246561399998,
             36.01557628100005
            ],
            [
             -121.54251985099995,
             36.01560290400005
            ],
            [
             -121.54255795399996,
             36.01563218300004
            ],
            [
             -121.54277151899998,
             36.015822883000055
            ],
            [
             -121.542807101,
             36.015854674000025
            ],
            [
             -121.54283852999998,
             36.015890623000075
            ],
            [
             -121.542896467,
             36.01596743500005
            ],
            [
             -121.54292786899998,
             36.016003409000064
            ],
            [
             -121.54317432899995,
             36.01622856600005
            ],
            [
             -121.543211021,
             36.01625924700005
            ],
            [
             -121.54326014999998,
             36.01628711700005
            ],
            [
             -121.54331528799997,
             36.01630897700005
            ],
            [
             -121.54363898799994,
             36.01643764500005
            ],
            [
             -121.54408953299998,
             36.01665121100007
            ],
            [
             -121.54413862999996,
             36.01667911100003
            ],
            [
             -121.54417528899995,
             36.01670982600007
            ],
            [
             -121.54442127699997,
             36.01693545400008
            ],
            [
             -121.54445256199995,
             36.01697154200008
            ],
            [
             -121.54451021999995,
             36.01704863200007
            ],
            [
             -121.54454148399998,
             36.017084742000065
            ],
            [
             -121.54457688899998,
             36.01711671000004
            ],
            [
             -121.54478952499994,
             36.017308316000026
            ],
            [
             -121.54482767299999,
             36.01733754300005
            ],
            [
             -121.54487938299997,
             36.01736283200006
            ],
            [
             -121.54493847199996,
             36.01738074000008
            ],
            [
             -121.54500300899997,
             36.01739320200005
            ],
            [
             -121.54507145399998,
             36.01740175500004
            ],
            [
             -121.54514257099999,
             36.01740763500004
            ],
            [
             -121.54543535599998,
             36.017422845000056
            ],
            [
             -121.54550661399998,
             36.01742858500006
            ],
            [
             -121.54557535799995,
             36.01743683900003
            ],
            [
             -121.54557643799996,
             36.01743703600005
            ]
           ],
           "type": "LineString"
          },
          "id": "3",
          "properties": {
           "CHLOROPHYLL": 2.417483,
           "CSU_Descriptor": "vertical, straight, medium erodibility, warm temperate dry, low river discharge, moderate wave energy, moderately tidal, euhaline-oxic-moderate to cool, clear, moderate chlorophyll",
           "CSU_ID": 71260,
           "Cluster": 6,
           "EMU_PHYSICAL": "Euhaline-Oxic-Moderate to Cool",
           "ERODIBILITY": "Medium",
           "GHM": 0.133607,
           "LENGTH_GEO": 808.8794813016038,
           "MAX_SLOPE": 318.587599,
           "MEAN_SIG_WAVEHEIGHT": 1.687268,
           "MasterKey": 2753659,
           "OBJECTID": 2753659,
           "OUTFLOW_DENSITY": 8671.790039,
           "OUTFLOW_DENSITY_RESCALED": 1.0484883786709782e-05,
           "REGIONAL_SINUOSITY": 1.270183,
           "RandomSort": 1593234.33411067,
           "Shape_Length": 0.008565231531598157,
           "TEMP_MOISTURE": "Warm Temperate Dry",
           "TIDAL_RANGE": 2.416656,
           "TURBIDITY": 0.027483,
           "chl_label": "moderate chlorophyll",
           "river_label": "low river discharge",
           "sinuosity_label": "straight",
           "slope_label": "vertical",
           "style": {
            "color": "yellow",
            "dashArray": "5",
            "fillOpacity": 0.5,
            "fill_color": "yellow",
            "opacity": 1,
            "weight": 4
           },
           "tidal_label": "moderately tidal",
           "turbid_label": "clear",
           "wave_label": "moderate wave energy"
          },
          "type": "Feature"
         },
         {
          "geometry": {
           "coordinates": [
            [
             -121.54557643799996,
             36.01743703600005
            ],
            [
             -121.54564046899998,
             36.017448726000055
            ],
            [
             -121.54570057599994,
             36.017465618000074
            ],
            [
             -121.546,
             36.01756653303492
            ]
           ],
           "type": "LineString"
          },
          "id": "4",
          "properties": {
           "CHLOROPHYLL": 0.873553,
           "CSU_Descriptor": "steeply sloping, straight, medium erodibility, warm temperate dry, low river discharge, moderate wave energy, moderately tidal, euhaline-oxic-moderate to cool, clear, low chlorophyll",
           "CSU_ID": 62191,
           "Cluster": 6,
           "EMU_PHYSICAL": "Euhaline-Oxic-Moderate to Cool",
           "ERODIBILITY": "Medium",
           "GHM": 0.144511,
           "LENGTH_GEO": 809.2201719767945,
           "MAX_SLOPE": 109.272652,
           "MEAN_SIG_WAVEHEIGHT": 1.687268,
           "MasterKey": 2753658,
           "OBJECTID": 2753658,
           "OUTFLOW_DENSITY": 8671.790039,
           "OUTFLOW_DENSITY_RESCALED": 1.0484883786709782e-05,
           "REGIONAL_SINUOSITY": 1.270183,
           "RandomSort": 3366707.6827197,
           "Shape_Length": 0.008735799579888025,
           "TEMP_MOISTURE": "Warm Temperate Dry",
           "TIDAL_RANGE": 2.416656,
           "TURBIDITY": 0.027483,
           "chl_label": "low chlorophyll",
           "river_label": "low river discharge",
           "sinuosity_label": "straight",
           "slope_label": "steeply sloping",
           "style": {
            "color": "yellow",
            "dashArray": "5",
            "fillOpacity": 0.5,
            "fill_color": "yellow",
            "opacity": 1,
            "weight": 4
           },
           "tidal_label": "moderately tidal",
           "turbid_label": "clear",
           "wave_label": "moderate wave energy"
          },
          "type": "Feature"
         },
         {
          "geometry": {
           "coordinates": [
            [
             -121.519014,
             36.00721478575601
            ],
            [
             -121.51906798699997,
             36.007199557000035
            ],
            [
             -121.51912674099998,
             36.00719163200006
            ],
            [
             -121.51918667799998,
             36.00719077800005
            ],
            [
             -121.51924553199996,
             36.00719702200007
            ],
            [
             -121.51930095399996,
             36.00721101900007
            ],
            [
             -121.51935036299994,
             36.00723408400006
            ],
            [
             -121.51938718899999,
             36.00726242400003
            ],
            [
             -121.51958751099994,
             36.00746749500007
            ],
            [
             -121.51961660899997,
             36.00750667600005
            ],
            [
             -121.51964153699998,
             36.007559755000045
            ],
            [
             -121.51965892399994,
             36.007620313000075
            ],
            [
             -121.51967074899994,
             36.00768634700006
            ],
            [
             -121.51967858599994,
             36.00775627300004
            ],
            [
             -121.51968368899998,
             36.007828837000034
            ],
            [
             -121.51969560699996,
             36.00812674000008
            ],
            [
             -121.51970065899997,
             36.008198976000074
            ],
            [
             -121.51970842199995,
             36.00826845000006
            ],
            [
             -121.51972015099994,
             36.00833391500004
            ],
            [
             -121.51973741699999,
             36.008393811000076
            ],
            [
             -121.51976219299996,
             36.00844616200004
            ],
            [
             -121.519791135,
             36.008484690000046
            ],
            [
             -121.51999001499996,
             36.00869036200004
            ],
            [
             -121.52002654799998,
             36.008721226000034
            ],
            [
             -121.52007563799998,
             36.00874915900005
            ],
            [
             -121.52056746799997,
             36.00898889300004
            ],
            [
             -121.52062271899996,
             36.009013492000065
            ],
            [
             -121.52068522099995,
             36.00903084200007
            ],
            [
             -121.52075310999999,
             36.00904280700007
            ],
            [
             -121.52082494499996,
             36.00905082400004
            ],
            [
             -121.52089963199995,
             36.00905598700007
            ],
            [
             -121.521054489,
             36.009060831000056
            ],
            [
             -121.52129358399998,
             36.009061288000055
            ],
            [
             -121.52177722099998,
             36.00905675300004
            ],
            [
             -121.52201695899998,
             36.00905656500004
            ],
            [
             -121.52217339999999,
             36.009059826000055
            ],
            [
             -121.52224960199999,
             36.009063473000026
            ],
            [
             -121.52232370699994,
             36.009069219000025
            ],
            [
             -121.52239490699998,
             36.009077870000056
            ],
            [
             -121.52246212899996,
             36.009090496000056
            ],
            [
             -121.52252398099995,
             36.00910849400003
            ],
            [
             -121.522578668,
             36.00913365700006
            ],
            [
             -121.52261842899998,
             36.00916127100004
            ],
            [
             -121.52269141499994,
             36.00922303300007
            ],
            [
             -121.52273121999997,
             36.009250602000066
            ],
            [
             -121.52278673199999,
             36.00927593600005
            ],
            [
             -121.52284961099997,
             36.009293909000064
            ],
            [
             -121.52291799099999,
             36.00930637700003
            ],
            [
             -121.52294237299998,
             36.00930920300004
            ]
           ],
           "type": "LineString"
          },
          "id": "5",
          "properties": {
           "CHLOROPHYLL": 2.417483,
           "CSU_Descriptor": "steeply sloping, straight, medium erodibility, warm temperate dry, low river discharge, moderate wave energy, moderately tidal, euhaline-oxic-moderate to cool, clear, moderate chlorophyll",
           "CSU_ID": 70981,
           "Cluster": 6,
           "EMU_PHYSICAL": "Euhaline-Oxic-Moderate to Cool",
           "ERODIBILITY": "Medium",
           "GHM": 0.10134,
           "LENGTH_GEO": 808.8271837845471,
           "MAX_SLOPE": 152.033411,
           "MEAN_SIG_WAVEHEIGHT": 1.687268,
           "MasterKey": 2753662,
           "OBJECTID": 2753662,
           "OUTFLOW_DENSITY": 8671.790039,
           "OUTFLOW_DENSITY_RESCALED": 1.0484883786709782e-05,
           "REGIONAL_SINUOSITY": 1.140924,
           "RandomSort": 297054.39133329,
           "Shape_Length": 0.008495092439177234,
           "TEMP_MOISTURE": "Warm Temperate Dry",
           "TIDAL_RANGE": 2.410373,
           "TURBIDITY": 0.024533,
           "chl_label": "moderate chlorophyll",
           "river_label": "low river discharge",
           "sinuosity_label": "straight",
           "slope_label": "steeply sloping",
           "style": {
            "color": "yellow",
            "dashArray": "5",
            "fillOpacity": 0.5,
            "fill_color": "yellow",
            "opacity": 1,
            "weight": 4
           },
           "tidal_label": "moderately tidal",
           "turbid_label": "clear",
           "wave_label": "moderate wave energy"
          },
          "type": "Feature"
         },
         {
          "geometry": {
           "coordinates": [
            [
             -121.52294237299998,
             36.00930920300004
            ],
            [
             -121.52299043799997,
             36.00931477600005
            ],
            [
             -121.52306584699994,
             36.00932021500006
            ],
            [
             -121.52314337799999,
             36.00932353400003
            ],
            [
             -121.52330241599998,
             36.00932619200006
            ],
            [
             -121.52370608799998,
             36.00932676200006
            ],
            [
             -121.52386335299997,
             36.00933119200005
            ],
            [
             -121.52393923899996,
             36.009336157000064
            ],
            [
             -121.52401222299994,
             36.00934402000007
            ],
            [
             -121.52408117099998,
             36.009355921000065
            ],
            [
             -121.52414459399995,
             36.009373347000064
            ],
            [
             -121.52420056299997,
             36.00939822500004
            ],
            [
             -121.52469040399995,
             36.00963986900007
            ],
            [
             -121.524739453,
             36.009667818000025
            ],
            [
             -121.52477615099997,
             36.00969849400008
            ],
            [
             -121.52498804699997,
             36.00989084100007
            ],
            [
             -121.52505498,
             36.00995865700003
            ],
            [
             -121.52524430899996,
             36.010173569000074
            ],
            [
             -121.52527439299996,
             36.01021086000003
            ],
            [
             -121.52530164799998,
             36.01026060300006
            ],
            [
             -121.52532298699998,
             36.010316259000035
            ],
            [
             -121.52537568099996,
             36.010494562000076
            ],
            [
             -121.52539703399998,
             36.01055020700005
            ],
            [
             -121.52542430699998,
             36.01059993400003
            ],
            [
             -121.52545441199999,
             36.010637202000055
            ],
            [
             -121.52564404199995,
             36.010851812000055
            ],
            [
             -121.52571117599996,
             36.01091942800008
            ],
            [
             -121.52592423599998,
             36.01111061000006
            ],
            [
             -121.52596123499995,
             36.011140984000065
            ],
            [
             -121.52601066999995,
             36.01116854600008
            ],
            [
             -121.52606607099995,
             36.01119014400007
            ],
            [
             -121.52639046799999,
             36.01131811400006
            ],
            [
             -121.526840156,
             36.01153253700005
            ],
            [
             -121.52688911499996,
             36.01156057700007
            ],
            [
             -121.52692569299995,
             36.011591373000044
            ],
            [
             -121.52706057599994,
             36.011725985000055
            ],
            [
             -121.52727633599994,
             36.011914465000075
            ],
            [
             -121.52731440599996,
             36.01194376700005
            ],
            [
             -121.52736857399998,
             36.011970448000056
            ],
            [
             -121.52743039399996,
             36.01198947700004
            ],
            [
             -121.527497499,
             36.01200322100004
            ],
            [
             -121.52756790899997,
             36.01201365800006
            ],
            [
             -121.52771190599998,
             36.01203135800006
            ],
            [
             -121.52778230699994,
             36.01204180700006
            ],
            [
             -121.52784938999997,
             36.012055571000076
            ],
            [
             -121.52791118099998,
             36.01207463000003
            ],
            [
             -121.52796530899997,
             36.01210135100007
            ],
            [
             -121.528003335,
             36.01213069700003
            ],
            [
             -121.52821858099998,
             36.01231969600008
            ],
            [
             -121.52849233899997,
             36.01253680000008
            ],
            [
             -121.52892722099995,
             36.01275640600005
            ],
            [
             -121.52898061199994,
             36.012780013000054
            ],
            [
             -121.52904083699997,
             36.01279678800006
            ],
            [
             -121.52910613899996,
             36.012808481000036
            ],
            [
             -121.52917511499999,
             36.012816506000036
            ],
            [
             -121.52924661599997,
             36.012822001000075
            ],
            [
             -121.52954030299998,
             36.01283630700004
            ],
            [
             -121.52961161299999,
             36.012841998000056
            ],
            [
             -121.52968023799997,
             36.01285037100007
            ],
            [
             -121.529744946,
             36.01286266200003
            ],
            [
             -121.52980419999994,
             36.01288040600008
            ],
            [
             -121.52985607199997,
             36.01290553300004
            ],
            [
             -121.52989436099995,
             36.01293461900008
            ],
            [
             -121.53001979599998,
             36.013046710000026
            ]
           ],
           "type": "LineString"
          },
          "id": "6",
          "properties": {
           "CHLOROPHYLL": 0.833561,
           "CSU_Descriptor": "steeply sloping, straight, medium erodibility, warm temperate dry, low river discharge, moderate wave energy, moderately tidal, euhaline-oxic-moderate to cool, clear, low chlorophyll",
           "CSU_ID": 62191,
           "Cluster": 6,
           "EMU_PHYSICAL": "Euhaline-Oxic-Moderate to Cool",
           "ERODIBILITY": "Medium",
           "GHM": 0.10134,
           "LENGTH_GEO": 808.6158624684548,
           "MAX_SLOPE": 76.299834,
           "MEAN_SIG_WAVEHEIGHT": 1.687268,
           "MasterKey": 2753661,
           "OBJECTID": 2753661,
           "OUTFLOW_DENSITY": 8671.790039,
           "OUTFLOW_DENSITY_RESCALED": 1.0484883786709782e-05,
           "REGIONAL_SINUOSITY": 1.140924,
           "RandomSort": 3235310.88357964,
           "Shape_Length": 0.008419277882346981,
           "TEMP_MOISTURE": "Warm Temperate Dry",
           "TIDAL_RANGE": 2.416656,
           "TURBIDITY": 0.027483,
           "chl_label": "low chlorophyll",
           "river_label": "low river discharge",
           "sinuosity_label": "straight",
           "slope_label": "steeply sloping",
           "style": {
            "color": "yellow",
            "dashArray": "5",
            "fillOpacity": 0.5,
            "fill_color": "yellow",
            "opacity": 1,
            "weight": 4
           },
           "tidal_label": "moderately tidal",
           "turbid_label": "clear",
           "wave_label": "moderate wave energy"
          },
          "type": "Feature"
         },
         {
          "geometry": {
           "coordinates": [
            [
             -121.53001979599998,
             36.013046710000026
            ],
            [
             -121.53010783599996,
             36.01312538500008
            ],
            [
             -121.53014334699998,
             36.01315724500006
            ],
            [
             -121.53017468399997,
             36.01319328300008
            ],
            [
             -121.53029845299994,
             36.01333900900005
            ],
            [
             -121.53049737899994,
             36.013544325000055
            ],
            [
             -121.53056436799994,
             36.013612083000055
            ],
            [
             -121.53077520199997,
             36.01380549100003
            ],
            [
             -121.53081175499995,
             36.01383631200008
            ],
            [
             -121.53086067699996,
             36.01386439000004
            ],
            [
             -121.53135124,
             36.01410531100004
            ],
            [
             -121.53140450999996,
             36.01412904000006
            ],
            [
             -121.53146456599995,
             36.01414598400004
            ],
            [
             -121.53152965099997,
             36.01415789400005
            ],
            [
             -121.53159836199995,
             36.014166182000054
            ],
            [
             -121.53166955799998,
             36.014171986000065
            ],
            [
             -121.53196185699994,
             36.01418768100007
            ],
            [
             -121.53203293899998,
             36.01419359800008
            ],
            [
             -121.53210150799998,
             36.01420202700007
            ],
            [
             -121.53216645499998,
             36.014214080000045
            ],
            [
             -121.53222640399997,
             36.01423112700007
            ],
            [
             -121.53290144599998,
             36.01446853600004
            ],
            [
             -121.53319957399998,
             36.014615132000074
            ],
            [
             -121.53323981899996,
             36.01464227500003
            ],
            [
             -121.53329471799998,
             36.01466666300007
            ],
            [
             -121.53335673599997,
             36.014683941000044
            ],
            [
             -121.53342408199995,
             36.01469589800007
            ],
            [
             -121.53349535899997,
             36.01470393400007
            ],
            [
             -121.53356946899999,
             36.01470914600003
            ],
            [
             -121.53372295799994,
             36.014714352000055
            ],
            [
             -121.53395763199995,
             36.01471789900006
            ],
            [
             -121.53411110699994,
             36.01472341200008
            ],
            [
             -121.53418510299997,
             36.014728984000044
            ],
            [
             -121.534256084,
             36.01473762400008
            ],
            [
             -121.53432283599994,
             36.014750556000024
            ],
            [
             -121.53438378699997,
             36.014769355000055
            ],
            [
             -121.53443691099994,
             36.014796051000076
            ],
            [
             -121.53447484599997,
             36.01482601200007
            ],
            [
             -121.53461076599996,
             36.014961913000036
            ],
            [
             -121.53482122899999,
             36.015153878000035
            ],
            [
             -121.534857295,
             36.01518238500006
            ],
            [
             -121.53490563999998,
             36.01520586100003
            ],
            [
             -121.53495995299994,
             36.01522042700003
            ],
            [
             -121.53501779099997,
             36.01522737400006
            ],
            [
             -121.53507693499995,
             36.01522738600005
            ],
            [
             -121.53513527099994,
             36.01522058300003
            ],
            [
             -121.535190667,
             36.01520652500005
            ],
            [
             -121.53524085799995,
             36.01518421500003
            ],
            [
             -121.53527937599995,
             36.01515754500008
            ],
            [
             -121.53535137699998,
             36.01509609900006
            ],
            [
             -121.53539112399994,
             36.015068204000045
            ],
            [
             -121.535446214,
             36.015042433000076
            ],
            [
             -121.53550863799995,
             36.01502374700004
            ],
            [
             -121.53557650599998,
             36.015010407000034
            ],
            [
             -121.535648359,
             36.015001046000066
            ],
            [
             -121.53572308399998,
             36.01499460900004
            ],
            [
             -121.53587802799996,
             36.01498748500006
            ],
            [
             -121.53603696899995,
             36.01498472600008
            ],
            [
             -121.53619762599999,
             36.01498398500007
            ],
            [
             -121.53756718999995,
             36.01498332700004
            ],
            [
             -121.53772548899997,
             36.01498543200006
            ],
            [
             -121.53780327399994,
             36.014987835000056
            ],
            [
             -121.53787959299996,
             36.01499170500006
            ],
            [
             -121.53795314799999,
             36.01499759700005
            ]
           ],
           "type": "LineString"
          },
          "id": "7",
          "properties": {
           "CHLOROPHYLL": 2.417483,
           "CSU_Descriptor": "steeply sloping, straight, medium erodibility, warm temperate dry, low river discharge, moderate wave energy, moderately tidal, euhaline-oxic-moderate to cool, clear, moderate chlorophyll",
           "CSU_ID": 70981,
           "Cluster": 6,
           "EMU_PHYSICAL": "Euhaline-Oxic-Moderate to Cool",
           "ERODIBILITY": "Medium",
           "GHM": 0.115889,
           "LENGTH_GEO": 809.0954052047207,
           "MAX_SLOPE": 165.896272,
           "MEAN_SIG_WAVEHEIGHT": 1.687268,
           "MasterKey": 2753660,
           "OBJECTID": 2753660,
           "OUTFLOW_DENSITY": 8671.790039,
           "OUTFLOW_DENSITY_RESCALED": 1.0484883786709782e-05,
           "REGIONAL_SINUOSITY": 1.140924,
           "RandomSort": 3897464.57070746,
           "Shape_Length": 0.008658662143014698,
           "TEMP_MOISTURE": "Warm Temperate Dry",
           "TIDAL_RANGE": 2.416656,
           "TURBIDITY": 0.027483,
           "chl_label": "moderate chlorophyll",
           "river_label": "low river discharge",
           "sinuosity_label": "straight",
           "slope_label": "steeply sloping",
           "style": {
            "color": "yellow",
            "dashArray": "5",
            "fillOpacity": 0.5,
            "fill_color": "yellow",
            "opacity": 1,
            "weight": 4
           },
           "tidal_label": "moderately tidal",
           "turbid_label": "clear",
           "wave_label": "moderate wave energy"
          },
          "type": "Feature"
         },
         {
          "geometry": {
           "coordinates": [
            [
             -121.53795314799999,
             36.01499759700005
            ],
            [
             -121.53795383199997,
             36.014997651000044
            ],
            [
             -121.53802517399998,
             36.01500649800005
            ],
            [
             -121.538092539,
             36.015019333000055
            ],
            [
             -121.53815451199995,
             36.015037566000046
            ],
            [
             -121.53820928399995,
             36.015063017000045
            ],
            [
             -121.53824894399997,
             36.01509082800004
            ],
            [
             -121.53832172499995,
             36.01515304800006
            ],
            [
             -121.53836141799997,
             36.01518088900008
            ],
            [
             -121.53841513999998,
             36.01520599100007
            ],
            [
             -121.53847585499994,
             36.015224138000065
            ],
            [
             -121.53854184899996,
             36.01523705900007
            ],
            [
             -121.53861176899994,
             36.01524610900003
            ],
            [
             -121.53868458199997,
             36.015252331000056
            ],
            [
             -121.53883590299995,
             36.01525927200004
            ],
            [
             -121.53907025199999,
             36.01526272700005
            ],
            [
             -121.53938642999998,
             36.01526264600005
            ],
            [
             -121.53962088199995,
             36.01525903500004
            ],
            [
             -121.53977233899997,
             36.01525193900005
            ],
            [
             -121.539845244,
             36.015245615000026
            ],
            [
             -121.53991528399996,
             36.01523644200006
            ],
            [
             -121.53998141999995,
             36.01522337200004
            ],
            [
             -121.54004231399995,
             36.01520504600006
            ],
            [
             -121.54009624399998,
             36.01517973000006
            ],
            [
             -121.54013614899998,
             36.01515167700006
            ],
            [
             -121.54020945199994,
             36.01508893000005
            ],
            [
             -121.54024942999996,
             36.01506080000007
            ],
            [
             -121.54030399299995,
             36.015035159000035
            ],
            [
             -121.54036567499998,
             36.01501655200008
            ],
            [
             -121.540432706,
             36.015003224000054
            ],
            [
             -121.54050369099997,
             36.01499381000008
            ],
            [
             -121.540577542,
             36.01498728300004
            ],
            [
             -121.54065340399995,
             36.01498288700003
            ],
            [
             -121.54073059599995,
             36.014980098000024
            ],
            [
             -121.54088677899995,
             36.01497819100007
            ],
            [
             -121.54096478799994,
             36.01497893100003
            ],
            [
             -121.54104206599999,
             36.01498098500008
            ],
            [
             -121.54111801799996,
             36.01498471600007
            ],
            [
             -121.54119190299997,
             36.014990703000024
            ],
            [
             -121.54126277999995,
             36.014999776000025
            ],
            [
             -121.54132943499997,
             36.01501308700006
            ],
            [
             -121.54139029499999,
             36.01503216300006
            ],
            [
             -121.54144333699998,
             36.01505900400008
            ],
            [
             -121.54148121799994,
             36.01508897400004
            ],
            [
             -121.54161719599995,
             36.01522391800006
            ],
            [
             -121.54183136599994,
             36.01541503200008
            ],
            [
             -121.54186920999996,
             36.01544465600006
            ],
            [
             -121.54192314699998,
             36.015471656000045
            ],
            [
             -121.541984792,
             36.01549093600005
            ],
            [
             -121.54205176899995,
             36.015504864000036
            ],
            [
             -121.54212210599997,
             36.01551542400006
            ],
            [
             -121.54226609399996,
             36.01553320000005
            ],
            [
             -121.54233654799998,
             36.01554361700005
            ],
            [
             -121.54240371799995,
             36.015557314000034
            ],
            [
             -121.54246561399998,
             36.01557628100005
            ],
            [
             -121.54251985099995,
             36.01560290400005
            ],
            [
             -121.54255795399996,
             36.01563218300004
            ],
            [
             -121.54277151899998,
             36.015822883000055
            ],
            [
             -121.542807101,
             36.015854674000025
            ],
            [
             -121.54283852999998,
             36.015890623000075
            ],
            [
             -121.542896467,
             36.01596743500005
            ],
            [
             -121.54292786899998,
             36.016003409000064
            ],
            [
             -121.54317432899995,
             36.01622856600005
            ],
            [
             -121.543211021,
             36.01625924700005
            ],
            [
             -121.54326014999998,
             36.01628711700005
            ],
            [
             -121.54331528799997,
             36.01630897700005
            ],
            [
             -121.54363898799994,
             36.01643764500005
            ],
            [
             -121.54408953299998,
             36.01665121100007
            ],
            [
             -121.54413862999996,
             36.01667911100003
            ],
            [
             -121.54417528899995,
             36.01670982600007
            ],
            [
             -121.54442127699997,
             36.01693545400008
            ],
            [
             -121.54445256199995,
             36.01697154200008
            ],
            [
             -121.54451021999995,
             36.01704863200007
            ],
            [
             -121.54454148399998,
             36.017084742000065
            ],
            [
             -121.54457688899998,
             36.01711671000004
            ],
            [
             -121.54478952499994,
             36.017308316000026
            ],
            [
             -121.54482767299999,
             36.01733754300005
            ],
            [
             -121.54487938299997,
             36.01736283200006
            ],
            [
             -121.54493847199996,
             36.01738074000008
            ],
            [
             -121.54500300899997,
             36.01739320200005
            ],
            [
             -121.54507145399998,
             36.01740175500004
            ],
            [
             -121.54514257099999,
             36.01740763500004
            ],
            [
             -121.54543535599998,
             36.017422845000056
            ],
            [
             -121.54550661399998,
             36.01742858500006
            ],
            [
             -121.54557535799995,
             36.01743683900003
            ],
            [
             -121.54557643799996,
             36.01743703600005
            ]
           ],
           "type": "LineString"
          },
          "id": "8",
          "properties": {
           "CHLOROPHYLL": 2.417483,
           "CSU_Descriptor": "vertical, straight, medium erodibility, warm temperate dry, low river discharge, moderate wave energy, moderately tidal, euhaline-oxic-moderate to cool, clear, moderate chlorophyll",
           "CSU_ID": 71260,
           "Cluster": 6,
           "EMU_PHYSICAL": "Euhaline-Oxic-Moderate to Cool",
           "ERODIBILITY": "Medium",
           "GHM": 0.133607,
           "LENGTH_GEO": 808.8794813016038,
           "MAX_SLOPE": 318.587599,
           "MEAN_SIG_WAVEHEIGHT": 1.687268,
           "MasterKey": 2753659,
           "OBJECTID": 2753659,
           "OUTFLOW_DENSITY": 8671.790039,
           "OUTFLOW_DENSITY_RESCALED": 1.0484883786709782e-05,
           "REGIONAL_SINUOSITY": 1.270183,
           "RandomSort": 1593234.33411067,
           "Shape_Length": 0.008565231531598157,
           "TEMP_MOISTURE": "Warm Temperate Dry",
           "TIDAL_RANGE": 2.416656,
           "TURBIDITY": 0.027483,
           "chl_label": "moderate chlorophyll",
           "river_label": "low river discharge",
           "sinuosity_label": "straight",
           "slope_label": "vertical",
           "style": {
            "color": "yellow",
            "dashArray": "5",
            "fillOpacity": 0.5,
            "fill_color": "yellow",
            "opacity": 1,
            "weight": 4
           },
           "tidal_label": "moderately tidal",
           "turbid_label": "clear",
           "wave_label": "moderate wave energy"
          },
          "type": "Feature"
         },
         {
          "geometry": {
           "coordinates": [
            [
             -121.54557643799996,
             36.01743703600005
            ],
            [
             -121.54564046899998,
             36.017448726000055
            ],
            [
             -121.54570057599994,
             36.017465618000074
            ],
            [
             -121.546,
             36.01756653303492
            ]
           ],
           "type": "LineString"
          },
          "id": "9",
          "properties": {
           "CHLOROPHYLL": 0.873553,
           "CSU_Descriptor": "steeply sloping, straight, medium erodibility, warm temperate dry, low river discharge, moderate wave energy, moderately tidal, euhaline-oxic-moderate to cool, clear, low chlorophyll",
           "CSU_ID": 62191,
           "Cluster": 6,
           "EMU_PHYSICAL": "Euhaline-Oxic-Moderate to Cool",
           "ERODIBILITY": "Medium",
           "GHM": 0.144511,
           "LENGTH_GEO": 809.2201719767945,
           "MAX_SLOPE": 109.272652,
           "MEAN_SIG_WAVEHEIGHT": 1.687268,
           "MasterKey": 2753658,
           "OBJECTID": 2753658,
           "OUTFLOW_DENSITY": 8671.790039,
           "OUTFLOW_DENSITY_RESCALED": 1.0484883786709782e-05,
           "REGIONAL_SINUOSITY": 1.270183,
           "RandomSort": 3366707.6827197,
           "Shape_Length": 0.008735799579888025,
           "TEMP_MOISTURE": "Warm Temperate Dry",
           "TIDAL_RANGE": 2.416656,
           "TURBIDITY": 0.027483,
           "chl_label": "low chlorophyll",
           "river_label": "low river discharge",
           "sinuosity_label": "straight",
           "slope_label": "steeply sloping",
           "style": {
            "color": "yellow",
            "dashArray": "5",
            "fillOpacity": 0.5,
            "fill_color": "yellow",
            "opacity": 1,
            "weight": 4
           },
           "tidal_label": "moderately tidal",
           "turbid_label": "clear",
           "wave_label": "moderate wave energy"
          },
          "type": "Feature"
         }
        ],
        "type": "FeatureCollection"
       },
       "hover_style": {
        "color": "white",
        "dashArray": "4",
        "fillOpacity": 0.7
       },
       "name": "us_county349_ref_shoreline_province1257_ref_shoreline_W_USA_California_ref_shoreline",
       "style": {
        "color": "yellow",
        "dashArray": "5",
        "fillOpacity": 0.5,
        "fill_color": "yellow",
        "opacity": 1,
        "weight": 4
       }
      }
     },
     "11b3e6a8dcaf44daa6f2518af0b24192": {
      "model_module": "@jupyter-widgets/controls",
      "model_module_version": "1.5.0",
      "model_name": "ButtonStyleModel",
      "state": {}
     },
     "120ba36183514e148c9706d77f1bcbec": {
      "model_module": "jupyter-leaflet",
      "model_module_version": "^0.17.0",
      "model_name": "LeafletTileLayerModel",
      "state": {
       "_model_module_version": "^0.17.0",
       "_view_module_version": "^0.17.0",
       "attribution": "Map tiles by <a href=\"https://labs.strava.com/heatmap\">Strava 2021</a>",
       "max_zoom": 15,
       "name": "Strava.All",
       "options": [
        "attribution",
        "bounds",
        "detect_retina",
        "max_native_zoom",
        "max_zoom",
        "min_native_zoom",
        "min_zoom",
        "no_wrap",
        "tile_size",
        "tms"
       ],
       "url": "https://heatmap-external-a.strava.com/tiles/all/hot/{z}/{x}/{y}.png"
      }
     },
     "1277c59900624f87a9ddae53f551d09a": {
      "model_module": "@jupyter-widgets/controls",
      "model_module_version": "1.5.0",
      "model_name": "DescriptionStyleModel",
      "state": {
       "description_width": ""
      }
     },
     "1287c26f036c45cebd7c70c8b66e9414": {
      "model_module": "@jupyter-widgets/controls",
      "model_module_version": "1.5.0",
      "model_name": "DescriptionStyleModel",
      "state": {
       "description_width": ""
      }
     },
     "12a8c08181ff4d0980c3ba27fa9afe70": {
      "model_module": "jupyter-leaflet",
      "model_module_version": "^0.17.0",
      "model_name": "LeafletMapStyleModel",
      "state": {
       "_model_module_version": "^0.17.0"
      }
     },
     "12c65c5b0bcd4eba8849b190c4ee9de8": {
      "model_module": "@jupyter-widgets/controls",
      "model_module_version": "1.5.0",
      "model_name": "HBoxModel",
      "state": {
       "children": [
        "IPY_MODEL_2db5e84b65da4f80b1aa3925d507be23",
        "IPY_MODEL_f05b1cb20c7541d3a555ca69dc22f2cd",
        "IPY_MODEL_06ef992c9fa540ee9254d66efcf9eeda",
        "IPY_MODEL_da4ef2296e8b4896b4df737f97388778",
        "IPY_MODEL_9b6a68962ce64da19e51e997efe3c4bd",
        "IPY_MODEL_dd839c5518ba495892bf615792e70a6a"
       ],
       "layout": "IPY_MODEL_ca5011af7b23443d954ef4b71ce5890c"
      }
     },
     "14366c41c790415b9cf742c7ce541acc": {
      "model_module": "@jupyter-widgets/controls",
      "model_module_version": "1.5.0",
      "model_name": "DescriptionStyleModel",
      "state": {
       "description_width": ""
      }
     },
     "1474f74fb01942c0aec05528d9f9b0db": {
      "model_module": "@jupyter-widgets/base",
      "model_module_version": "1.2.0",
      "model_name": "LayoutModel",
      "state": {
       "height": "auto",
       "padding": "0px 0px 0px 4px",
       "width": "auto"
      }
     },
     "147b4870cc344c88868d8c87916cfdde": {
      "model_module": "@jupyter-widgets/base",
      "model_module_version": "1.2.0",
      "model_name": "LayoutModel",
      "state": {
       "margin": "0px 20px 20px 20px"
      }
     },
     "14827deae1eb41e19f68ef2bfd45fb25": {
      "model_module": "@jupyter-widgets/base",
      "model_module_version": "1.2.0",
      "model_name": "LayoutModel",
      "state": {}
     },
     "16a6a3c9492a4d3a8b526d9541037976": {
      "model_module": "@jupyter-widgets/base",
      "model_module_version": "1.2.0",
      "model_name": "LayoutModel",
      "state": {
       "width": "500px"
      }
     },
     "176a8148f2b845428851515327984fa6": {
      "model_module": "jupyter-leaflet",
      "model_module_version": "^0.17.0",
      "model_name": "LeafletWMSLayerModel",
      "state": {
       "_model_module_version": "^0.17.0",
       "_view_module_version": "^0.17.0",
       "attribution": "MRLC",
       "crs": {
        "custom": false,
        "name": "EPSG3857"
       },
       "format": "image/png",
       "layers": "NLCD_2013_Land_Cover_L48",
       "name": "NLCD 2013 CONUS Land Cover",
       "options": [
        "attribution",
        "bounds",
        "detect_retina",
        "format",
        "layers",
        "max_native_zoom",
        "max_zoom",
        "min_native_zoom",
        "min_zoom",
        "no_wrap",
        "styles",
        "tile_size",
        "tms",
        "transparent",
        "uppercase"
       ],
       "transparent": true,
       "url": "https://www.mrlc.gov/geoserver/mrlc_display/NLCD_2013_Land_Cover_L48/wms?"
      }
     },
     "17cf528c1e0844618f649abb95551036": {
      "model_module": "@jupyter-widgets/base",
      "model_module_version": "1.2.0",
      "model_name": "LayoutModel",
      "state": {
       "grid_gap": "1px 1px",
       "grid_template_columns": "32px 32px 32px ",
       "grid_template_rows": "32px 32px 32px 32px 32px 32px ",
       "padding": "5px",
       "width": "109px"
      }
     },
     "189b1a2513a14e119912643144f4a1f6": {
      "model_module": "@jupyter-widgets/base",
      "model_module_version": "1.2.0",
      "model_name": "LayoutModel",
      "state": {}
     },
     "19db547660e348398f62c96a392815af": {
      "model_module": "@jupyter-widgets/base",
      "model_module_version": "1.2.0",
      "model_name": "LayoutModel",
      "state": {
       "height": "auto",
       "padding": "0px 0px 0px 4px",
       "width": "auto"
      }
     },
     "19e4a292ed1646d98dd95b6b87b71b1c": {
      "model_module": "@jupyter-widgets/controls",
      "model_module_version": "1.5.0",
      "model_name": "ButtonStyleModel",
      "state": {}
     },
     "19f5dc6b8df145ee9b2e672d8872734d": {
      "model_module": "jupyter-leaflet",
      "model_module_version": "^0.17.0",
      "model_name": "LeafletGeoJSONModel",
      "state": {
       "_model_module_version": "^0.17.0",
       "_view_module_version": "^0.17.0",
       "data": {
        "features": [
         {
          "geometry": {
           "coordinates": [
            [
             [
              -121.58648099999999,
              36.02347399999999
             ],
             [
              -121.58648099999999,
              36.05979242190952
             ],
             [
              -121.54156523579401,
              36.05979242190952
             ],
             [
              -121.54156523579401,
              36.02347399999999
             ],
             [
              -121.58648099999999,
              36.02347399999999
             ]
            ]
           ],
           "type": "Polygon"
          },
          "id": "0",
          "properties": {
           "CHLOROPHYLL": 2.417483,
           "CSU_Descriptor": "steeply sloping, straight, medium erodibility, warm temperate dry, low river discharge, moderate wave energy, moderately tidal, euhaline-oxic-moderate to cool, clear, moderate chlorophyll",
           "CSU_ID": 70981,
           "Cluster": 6,
           "EMU_PHYSICAL": "Euhaline-Oxic-Moderate to Cool",
           "ERODIBILITY": "Medium",
           "GHM": 0.146464,
           "LENGTH_GEO": 807.570325164452,
           "MAX_SLOPE": 80.713103,
           "MEAN_SIG_WAVEHEIGHT": 1.687268,
           "MasterKey": 2753655,
           "OBJECTID": 2753655,
           "OUTFLOW_DENSITY": 8671.790039,
           "OUTFLOW_DENSITY_RESCALED": 1.0484883786709782e-05,
           "REGIONAL_SINUOSITY": 1.270183,
           "RandomSort": 1322999.00735509,
           "Shape_Length": 0.00797607602451941,
           "TEMP_MOISTURE": "Warm Temperate Dry",
           "TIDAL_RANGE": 2.416656,
           "TURBIDITY": 0.027483,
           "chl_label": "moderate chlorophyll",
           "id": 5,
           "index_right": 3,
           "river_label": "low river discharge",
           "sinuosity_label": "straight",
           "slope_label": "steeply sloping",
           "style": {
            "color": "blue",
            "fillColor": "grey",
            "fillOpacity": 0.1,
            "weight": 3
           },
           "tidal_label": "moderately tidal",
           "turbid_label": "clear",
           "wave_label": "moderate wave energy"
          },
          "type": "Feature"
         }
        ],
        "type": "FeatureCollection"
       },
       "hover_style": {
        "color": "aqua",
        "fillColor": "blue"
       },
       "name": "Selected ROIs"
      }
     },
     "1b02d50dfca7445e808b01dee819caa6": {
      "model_module": "jupyter-leaflet",
      "model_module_version": "^0.17.0",
      "model_name": "LeafletWidgetControlModel",
      "state": {
       "_model_module": "jupyter-leaflet",
       "_model_module_version": "^0.17.0",
       "_view_count": null,
       "_view_module": "jupyter-leaflet",
       "_view_module_version": "^0.17.0",
       "options": [
        "position",
        "transparent_bg"
       ],
       "position": "topright",
       "widget": "IPY_MODEL_9d4fe3658db54a1aa5cbb873c9eaca79"
      }
     },
     "1c1d4e1163714d02a2a2d1325a01ab3c": {
      "model_module": "jupyter-leaflet",
      "model_module_version": "^0.17.0",
      "model_name": "LeafletTileLayerModel",
      "state": {
       "_model_module_version": "^0.17.0",
       "_view_module_version": "^0.17.0",
       "attribution": "(C) OpenStreetMap contributors (C) CARTO",
       "max_zoom": 20,
       "name": "CartoDB.DarkMatterNoLabels",
       "options": [
        "attribution",
        "bounds",
        "detect_retina",
        "max_native_zoom",
        "max_zoom",
        "min_native_zoom",
        "min_zoom",
        "no_wrap",
        "tile_size",
        "tms"
       ],
       "url": "https://a.basemaps.cartocdn.com/dark_nolabels/{z}/{x}/{y}.png"
      }
     },
     "1cf4c18ccaf949b0a8f183031c729eab": {
      "model_module": "@jupyter-widgets/base",
      "model_module_version": "1.2.0",
      "model_name": "LayoutModel",
      "state": {
       "height": "auto",
       "padding": "0px 0px 0px 4px",
       "width": "auto"
      }
     },
     "1d75482be24c46b591afcd84ecb531ad": {
      "model_module": "@jupyter-widgets/controls",
      "model_module_version": "1.5.0",
      "model_name": "DatePickerModel",
      "state": {
       "description": "Start Date",
       "disabled": false,
       "layout": "IPY_MODEL_ba6735f9151243e0b73764b84276abd4",
       "style": "IPY_MODEL_3e3c420a38ce47268243b956544156ae",
       "value": {
        "date": 1,
        "month": 11,
        "year": 2018
       }
      }
     },
     "1e05265d5e4f4787acfabebcac90d8c6": {
      "model_module": "@jupyter-widgets/base",
      "model_module_version": "1.2.0",
      "model_name": "LayoutModel",
      "state": {
       "height": "auto",
       "padding": "0px 0px 0px 4px",
       "width": "auto"
      }
     },
     "1ebd7e91eeff43b5b58326eb45cf8ea3": {
      "model_module": "@jupyter-widgets/controls",
      "model_module_version": "1.5.0",
      "model_name": "DescriptionStyleModel",
      "state": {
       "description_width": ""
      }
     },
     "1f6a025608bd44d39b33aa5c26d6a5b4": {
      "model_module": "@jupyter-widgets/controls",
      "model_module_version": "1.5.0",
      "model_name": "DescriptionStyleModel",
      "state": {
       "description_width": ""
      }
     },
     "1fb7399be78c4c58a5724d2ebdb3d5f3": {
      "model_module": "@jupyter-widgets/controls",
      "model_module_version": "1.5.0",
      "model_name": "DescriptionStyleModel",
      "state": {
       "description_width": ""
      }
     },
     "20f6822b56424535b79ec99a0158ce7e": {
      "model_module": "@jupyter-widgets/controls",
      "model_module_version": "1.5.0",
      "model_name": "DescriptionStyleModel",
      "state": {
       "description_width": ""
      }
     },
     "21d7de0f963b407d871764b41417a708": {
      "model_module": "jupyter-leaflet",
      "model_module_version": "^0.17.0",
      "model_name": "LeafletTileLayerModel",
      "state": {
       "_model_module_version": "^0.17.0",
       "_view_module_version": "^0.17.0",
       "attribution": "Map tiles by Stamen Design, CC BY 3.0 -- Map data (C) OpenStreetMap contributors",
       "name": "Stamen.TerrainLabels",
       "options": [
        "attribution",
        "bounds",
        "detect_retina",
        "max_native_zoom",
        "max_zoom",
        "min_native_zoom",
        "min_zoom",
        "no_wrap",
        "tile_size",
        "tms"
       ],
       "url": "https://stamen-tiles-a.a.ssl.fastly.net/terrain-labels/{z}/{x}/{y}.png"
      }
     },
     "21f43af38cf5464a8b8ff12d3917afcd": {
      "model_module": "jupyter-leaflet",
      "model_module_version": "^0.17.0",
      "model_name": "LeafletGeoJSONModel",
      "state": {
       "_model_module_version": "^0.17.0",
       "_view_module_version": "^0.17.0",
       "data": {
        "features": [
         {
          "geometry": {
           "coordinates": [
            [
             [
              -121.546,
              36.00593
             ],
             [
              -121.546,
              36.04225651037221
             ],
             [
              -121.50108423579402,
              36.04225651037221
             ],
             [
              -121.50108423579402,
              36.00593
             ],
             [
              -121.546,
              36.00593
             ]
            ]
           ],
           "type": "Polygon"
          },
          "id": "0",
          "properties": {
           "CHLOROPHYLL": 2.417483,
           "CSU_Descriptor": "steeply sloping, straight, medium erodibility, warm temperate dry, low river discharge, moderate wave energy, moderately tidal, euhaline-oxic-moderate to cool, clear, moderate chlorophyll",
           "CSU_ID": 70981,
           "Cluster": 6,
           "EMU_PHYSICAL": "Euhaline-Oxic-Moderate to Cool",
           "ERODIBILITY": "Medium",
           "GHM": 0.10134,
           "LENGTH_GEO": 808.8271837845471,
           "MAX_SLOPE": 152.033411,
           "MEAN_SIG_WAVEHEIGHT": 1.687268,
           "MasterKey": 2753662,
           "OBJECTID": 2753662,
           "OUTFLOW_DENSITY": 8671.790039,
           "OUTFLOW_DENSITY_RESCALED": 1.0484883786709782e-05,
           "REGIONAL_SINUOSITY": 1.140924,
           "RandomSort": 297054.39133329,
           "Shape_Length": 0.008495092439177234,
           "TEMP_MOISTURE": "Warm Temperate Dry",
           "TIDAL_RANGE": 2.410373,
           "TURBIDITY": 0.024533,
           "chl_label": "moderate chlorophyll",
           "id": 9,
           "index_right": 5,
           "river_label": "low river discharge",
           "sinuosity_label": "straight",
           "slope_label": "steeply sloping",
           "style": {
            "color": "blue",
            "fillColor": "grey",
            "fillOpacity": 0.1,
            "weight": 3
           },
           "tidal_label": "moderately tidal",
           "turbid_label": "clear",
           "wave_label": "moderate wave energy"
          },
          "type": "Feature"
         }
        ],
        "type": "FeatureCollection"
       },
       "hover_style": {
        "color": "aqua",
        "fillColor": "blue"
       },
       "name": "Selected ROIs"
      }
     },
     "222c44686f5f41c5b0b928f8af2474a3": {
      "model_module": "jupyter-leaflet",
      "model_module_version": "^0.17.0",
      "model_name": "LeafletTileLayerModel",
      "state": {
       "_model_module_version": "^0.17.0",
       "_view_module_version": "^0.17.0",
       "attribution": "Imagery provided by services from the Global Imagery Browse Services (GIBS), operated by the NASA/GSFC/Earth Science Data and Information System (ESDIS) with funding provided by NASA/HQ.",
       "max_zoom": 9,
       "name": "NASAGIBS.ViirsTrueColorCR",
       "options": [
        "attribution",
        "bounds",
        "detect_retina",
        "max_native_zoom",
        "max_zoom",
        "min_native_zoom",
        "min_zoom",
        "no_wrap",
        "tile_size",
        "tms"
       ],
       "url": "https://gibs.earthdata.nasa.gov/wmts/epsg3857/best/VIIRS_SNPP_CorrectedReflectance_TrueColor/default//GoogleMapsCompatible_Level9/{z}/{y}/{x}.jpg"
      }
     },
     "22405ba1936c4605984a3cc6b8c31389": {
      "model_module": "@jupyter-widgets/base",
      "model_module_version": "1.2.0",
      "model_name": "LayoutModel",
      "state": {}
     },
     "224534f0e11c4d31bff1c8c30b11812a": {
      "model_module": "@jupyter-widgets/base",
      "model_module_version": "1.2.0",
      "model_name": "LayoutModel",
      "state": {}
     },
     "2319fd6cfb834244b47f6f52efe3d407": {
      "model_module": "jupyter-leaflet",
      "model_module_version": "^0.17.0",
      "model_name": "LeafletTileLayerModel",
      "state": {
       "_model_module_version": "^0.17.0",
       "_view_module_version": "^0.17.0",
       "attribution": "Kaartgegevens (C) Kadaster",
       "max_zoom": 19,
       "name": "nlmaps.luchtfoto",
       "options": [
        "attribution",
        "bounds",
        "detect_retina",
        "max_native_zoom",
        "max_zoom",
        "min_native_zoom",
        "min_zoom",
        "no_wrap",
        "tile_size",
        "tms"
       ],
       "url": "https://service.pdok.nl/hwh/luchtfotorgb/wmts/v1_0/Actueel_ortho25/EPSG:3857/{z}/{x}/{y}.jpeg"
      }
     },
     "2339ca80d0e84c12928f04886c7a502c": {
      "model_module": "@jupyter-widgets/base",
      "model_module_version": "1.2.0",
      "model_name": "LayoutModel",
      "state": {
       "border": "1px solid black"
      }
     },
     "238b485d14854703b6c0f3a61a0f5133": {
      "model_module": "jupyter-leaflet",
      "model_module_version": "^0.17.0",
      "model_name": "LeafletWidgetControlModel",
      "state": {
       "_model_module": "jupyter-leaflet",
       "_model_module_version": "^0.17.0",
       "_view_count": null,
       "_view_module": "jupyter-leaflet",
       "_view_module_version": "^0.17.0",
       "options": [
        "position",
        "transparent_bg"
       ],
       "position": "topright",
       "widget": "IPY_MODEL_91d73f914f9a40ab8363c8cbb33d6643"
      }
     },
     "23c3603d650b473a917ca651848f2dd4": {
      "model_module": "jupyter-leaflet",
      "model_module_version": "^0.17.0",
      "model_name": "LeafletWMSLayerModel",
      "state": {
       "_model_module_version": "^0.17.0",
       "_view_module_version": "^0.17.0",
       "attribution": "ESA",
       "crs": {
        "custom": false,
        "name": "EPSG3857"
       },
       "format": "image/png",
       "layers": "WORLDCOVER_2020_MAP",
       "name": "ESA Worldcover 2020",
       "options": [
        "attribution",
        "bounds",
        "detect_retina",
        "format",
        "layers",
        "max_native_zoom",
        "max_zoom",
        "min_native_zoom",
        "min_zoom",
        "no_wrap",
        "styles",
        "tile_size",
        "tms",
        "transparent",
        "uppercase"
       ],
       "transparent": true,
       "url": "https://services.terrascope.be/wms/v2"
      }
     },
     "2448a26a3cd34c009600c7442c89f1d6": {
      "model_module": "@jupyter-widgets/controls",
      "model_module_version": "1.5.0",
      "model_name": "ButtonModel",
      "state": {
       "description": "Remove ROIs",
       "layout": "IPY_MODEL_189b1a2513a14e119912643144f4a1f6",
       "style": "IPY_MODEL_19e4a292ed1646d98dd95b6b87b71b1c"
      }
     },
     "24abf1b24f804eb0963416d19d7c2e74": {
      "model_module": "@jupyter-widgets/controls",
      "model_module_version": "1.5.0",
      "model_name": "HBoxModel",
      "state": {
       "children": [
        "IPY_MODEL_6a25832447504a369d8c449b14b4171f",
        "IPY_MODEL_e084805a428a4e36b7e1b529e85c18d5",
        "IPY_MODEL_92e67bcf66084f46921ac3d0c883c92c",
        "IPY_MODEL_dfb5cbd7bb284c1a96dc27adce0d2af1",
        "IPY_MODEL_2448a26a3cd34c009600c7442c89f1d6",
        "IPY_MODEL_f2c6b9dcd5de4c88a9decce5eca4fd8a"
       ],
       "layout": "IPY_MODEL_4886d66fb06d4d9c8c88d1b8101b68fd"
      }
     },
     "24e9b839cb714eff863f0fcfa1a53bc8": {
      "model_module": "jupyter-leaflet",
      "model_module_version": "^0.17.0",
      "model_name": "LeafletTileLayerModel",
      "state": {
       "_model_module_version": "^0.17.0",
       "_view_module_version": "^0.17.0",
       "attribution": "Datenquelle: basemap.at",
       "max_zoom": 20,
       "name": "BasemapAT.basemap",
       "options": [
        "attribution",
        "bounds",
        "detect_retina",
        "max_native_zoom",
        "max_zoom",
        "min_native_zoom",
        "min_zoom",
        "no_wrap",
        "tile_size",
        "tms"
       ],
       "url": "https://maps.wien.gv.at/basemap/geolandbasemap/normal/google3857/{z}/{y}/{x}.png"
      }
     },
     "251093c7bd71436a8f4d474fc4046e39": {
      "model_module": "@jupyter-widgets/base",
      "model_module_version": "1.2.0",
      "model_name": "LayoutModel",
      "state": {}
     },
     "2545e34f4642457e95cc21ce86378018": {
      "model_module": "jupyter-leaflet",
      "model_module_version": "^0.17.0",
      "model_name": "LeafletMapModel",
      "state": {
       "_model_module_version": "^0.17.0",
       "_view_module_version": "^0.17.0",
       "bottom": 1647351,
       "center": [
        35.99949044817483,
        -121.55444734485152
       ],
       "controls": [
        "IPY_MODEL_e3e9acdd36ef4d9c907875a5d95948d1",
        "IPY_MODEL_cca79313f1c44d41956328fc9289e883",
        "IPY_MODEL_7e58315400c647a2bb2523507c434a96",
        "IPY_MODEL_2ed05bec2c3046ddbfc53d4d11ce5c49",
        "IPY_MODEL_b1cdf00a374249c49acdbc2a62719377",
        "IPY_MODEL_1045fd4be306469f900ce55fbf7ebddd",
        "IPY_MODEL_1b02d50dfca7445e808b01dee819caa6"
       ],
       "default_style": "IPY_MODEL_8440915ccfcb48fea466b90e89435b18",
       "dragging_style": "IPY_MODEL_b1a94c5ef9da403b8a46ed8f10db5d14",
       "east": -121.49943351745607,
       "fullscreen": false,
       "interpolation": "bilinear",
       "layers": [
        "IPY_MODEL_28e6b0b8cba84f5b91dd75fcb5a9a75c",
        "IPY_MODEL_11a9c491f8194d9696f22951ef195a57",
        "IPY_MODEL_281331443b50457cb24e3483f20c449c",
        "IPY_MODEL_21f43af38cf5464a8b8ff12d3917afcd"
       ],
       "layout": "IPY_MODEL_764ad753af11412487baf17beadeb8c1",
       "left": 680299,
       "max_zoom": 24,
       "modisdate": "2022-08-22",
       "north": 36.02029467219012,
       "options": [
        "bounce_at_zoom_limits",
        "box_zoom",
        "center",
        "close_popup_on_click",
        "double_click_zoom",
        "dragging",
        "fullscreen",
        "inertia",
        "inertia_deceleration",
        "inertia_max_speed",
        "interpolation",
        "keyboard",
        "keyboard_pan_offset",
        "keyboard_zoom_offset",
        "max_zoom",
        "min_zoom",
        "prefer_canvas",
        "scroll_wheel_zoom",
        "tap",
        "tap_tolerance",
        "touch_zoom",
        "world_copy_jump",
        "zoom",
        "zoom_animation_threshold",
        "zoom_delta",
        "zoom_snap"
       ],
       "prefer_canvas": false,
       "right": 681581,
       "scroll_wheel_zoom": true,
       "south": 35.97863129899828,
       "style": "IPY_MODEL_8440915ccfcb48fea466b90e89435b18",
       "top": 1646751,
       "west": -121.60946846008302,
       "window_url": "http://localhost:8889/lab/tree/app.ipynb",
       "zoom": 14
      }
     },
     "27cbaa9e468944659d82cfb4ad7eaf1a": {
      "model_module": "@jupyter-widgets/controls",
      "model_module_version": "1.5.0",
      "model_name": "ToggleButtonModel",
      "state": {
       "button_style": "primary",
       "icon": "folder-open",
       "layout": "IPY_MODEL_022c4b2490d54451a11d659e340874c4",
       "style": "IPY_MODEL_d87d91d3399d4d7a8a640465f6251615",
       "tooltip": "Open local vector/raster data"
      }
     },
     "281331443b50457cb24e3483f20c449c": {
      "model_module": "jupyter-leaflet",
      "model_module_version": "^0.17.0",
      "model_name": "LeafletGeoJSONModel",
      "state": {
       "_model_module_version": "^0.17.0",
       "_view_module_version": "^0.17.0",
       "data": {
        "features": [
         {
          "geometry": {
           "coordinates": [
            [
             [
              -121.546,
              36.00593
             ],
             [
              -121.546,
              36.04225651037221
             ],
             [
              -121.50108423579402,
              36.04225651037221
             ],
             [
              -121.50108423579402,
              36.00593
             ],
             [
              -121.546,
              36.00593
             ]
            ]
           ],
           "type": "Polygon"
          },
          "id": "0",
          "properties": {
           "CHLOROPHYLL": 0.873553,
           "CSU_Descriptor": "steeply sloping, straight, medium erodibility, warm temperate dry, low river discharge, moderate wave energy, moderately tidal, euhaline-oxic-moderate to cool, clear, low chlorophyll",
           "CSU_ID": 62191,
           "Cluster": 6,
           "EMU_PHYSICAL": "Euhaline-Oxic-Moderate to Cool",
           "ERODIBILITY": "Medium",
           "GHM": 0.144511,
           "LENGTH_GEO": 809.2201719767945,
           "MAX_SLOPE": 109.272652,
           "MEAN_SIG_WAVEHEIGHT": 1.687268,
           "MasterKey": 2753658,
           "OBJECTID": 2753658,
           "OUTFLOW_DENSITY": 8671.790039,
           "OUTFLOW_DENSITY_RESCALED": 1.0484883786709782e-05,
           "REGIONAL_SINUOSITY": 1.270183,
           "RandomSort": 3366707.6827197,
           "Shape_Length": 0.008735799579888025,
           "TEMP_MOISTURE": "Warm Temperate Dry",
           "TIDAL_RANGE": 2.416656,
           "TURBIDITY": 0.027483,
           "chl_label": "low chlorophyll",
           "id": 0,
           "index_right": 4,
           "river_label": "low river discharge",
           "sinuosity_label": "straight",
           "slope_label": "steeply sloping",
           "style": {
            "color": "black",
            "fillColor": "grey",
            "fillOpacity": 0.1,
            "weight": 3
           },
           "tidal_label": "moderately tidal",
           "turbid_label": "clear",
           "wave_label": "moderate wave energy"
          },
          "type": "Feature"
         },
         {
          "geometry": {
           "coordinates": [
            [
             [
              -121.546,
              36.00593
             ],
             [
              -121.546,
              36.04225651037221
             ],
             [
              -121.50108423579402,
              36.04225651037221
             ],
             [
              -121.50108423579402,
              36.00593
             ],
             [
              -121.546,
              36.00593
             ]
            ]
           ],
           "type": "Polygon"
          },
          "id": "0",
          "properties": {
           "CHLOROPHYLL": 0.873553,
           "CSU_Descriptor": "steeply sloping, straight, medium erodibility, warm temperate dry, low river discharge, moderate wave energy, moderately tidal, euhaline-oxic-moderate to cool, clear, low chlorophyll",
           "CSU_ID": 62191,
           "Cluster": 6,
           "EMU_PHYSICAL": "Euhaline-Oxic-Moderate to Cool",
           "ERODIBILITY": "Medium",
           "GHM": 0.144511,
           "LENGTH_GEO": 809.2201719767945,
           "MAX_SLOPE": 109.272652,
           "MEAN_SIG_WAVEHEIGHT": 1.687268,
           "MasterKey": 2753658,
           "OBJECTID": 2753658,
           "OUTFLOW_DENSITY": 8671.790039,
           "OUTFLOW_DENSITY_RESCALED": 1.0484883786709782e-05,
           "REGIONAL_SINUOSITY": 1.270183,
           "RandomSort": 3366707.6827197,
           "Shape_Length": 0.008735799579888025,
           "TEMP_MOISTURE": "Warm Temperate Dry",
           "TIDAL_RANGE": 2.416656,
           "TURBIDITY": 0.027483,
           "chl_label": "low chlorophyll",
           "id": 1,
           "index_right": 9,
           "river_label": "low river discharge",
           "sinuosity_label": "straight",
           "slope_label": "steeply sloping",
           "style": {
            "color": "black",
            "fillColor": "grey",
            "fillOpacity": 0.1,
            "weight": 3
           },
           "tidal_label": "moderately tidal",
           "turbid_label": "clear",
           "wave_label": "moderate wave energy"
          },
          "type": "Feature"
         },
         {
          "geometry": {
           "coordinates": [
            [
             [
              -121.546,
              36.00593
             ],
             [
              -121.546,
              36.04225651037221
             ],
             [
              -121.50108423579402,
              36.04225651037221
             ],
             [
              -121.50108423579402,
              36.00593
             ],
             [
              -121.546,
              36.00593
             ]
            ]
           ],
           "type": "Polygon"
          },
          "id": "0",
          "properties": {
           "CHLOROPHYLL": 2.417483,
           "CSU_Descriptor": "vertical, straight, medium erodibility, warm temperate dry, low river discharge, moderate wave energy, moderately tidal, euhaline-oxic-moderate to cool, clear, moderate chlorophyll",
           "CSU_ID": 71260,
           "Cluster": 6,
           "EMU_PHYSICAL": "Euhaline-Oxic-Moderate to Cool",
           "ERODIBILITY": "Medium",
           "GHM": 0.133607,
           "LENGTH_GEO": 808.8794813016038,
           "MAX_SLOPE": 318.587599,
           "MEAN_SIG_WAVEHEIGHT": 1.687268,
           "MasterKey": 2753659,
           "OBJECTID": 2753659,
           "OUTFLOW_DENSITY": 8671.790039,
           "OUTFLOW_DENSITY_RESCALED": 1.0484883786709782e-05,
           "REGIONAL_SINUOSITY": 1.270183,
           "RandomSort": 1593234.33411067,
           "Shape_Length": 0.008565231531598157,
           "TEMP_MOISTURE": "Warm Temperate Dry",
           "TIDAL_RANGE": 2.416656,
           "TURBIDITY": 0.027483,
           "chl_label": "moderate chlorophyll",
           "id": 2,
           "index_right": 3,
           "river_label": "low river discharge",
           "sinuosity_label": "straight",
           "slope_label": "vertical",
           "style": {
            "color": "black",
            "fillColor": "grey",
            "fillOpacity": 0.1,
            "weight": 3
           },
           "tidal_label": "moderately tidal",
           "turbid_label": "clear",
           "wave_label": "moderate wave energy"
          },
          "type": "Feature"
         },
         {
          "geometry": {
           "coordinates": [
            [
             [
              -121.546,
              36.00593
             ],
             [
              -121.546,
              36.04225651037221
             ],
             [
              -121.50108423579402,
              36.04225651037221
             ],
             [
              -121.50108423579402,
              36.00593
             ],
             [
              -121.546,
              36.00593
             ]
            ]
           ],
           "type": "Polygon"
          },
          "id": "0",
          "properties": {
           "CHLOROPHYLL": 2.417483,
           "CSU_Descriptor": "vertical, straight, medium erodibility, warm temperate dry, low river discharge, moderate wave energy, moderately tidal, euhaline-oxic-moderate to cool, clear, moderate chlorophyll",
           "CSU_ID": 71260,
           "Cluster": 6,
           "EMU_PHYSICAL": "Euhaline-Oxic-Moderate to Cool",
           "ERODIBILITY": "Medium",
           "GHM": 0.133607,
           "LENGTH_GEO": 808.8794813016038,
           "MAX_SLOPE": 318.587599,
           "MEAN_SIG_WAVEHEIGHT": 1.687268,
           "MasterKey": 2753659,
           "OBJECTID": 2753659,
           "OUTFLOW_DENSITY": 8671.790039,
           "OUTFLOW_DENSITY_RESCALED": 1.0484883786709782e-05,
           "REGIONAL_SINUOSITY": 1.270183,
           "RandomSort": 1593234.33411067,
           "Shape_Length": 0.008565231531598157,
           "TEMP_MOISTURE": "Warm Temperate Dry",
           "TIDAL_RANGE": 2.416656,
           "TURBIDITY": 0.027483,
           "chl_label": "moderate chlorophyll",
           "id": 3,
           "index_right": 8,
           "river_label": "low river discharge",
           "sinuosity_label": "straight",
           "slope_label": "vertical",
           "style": {
            "color": "black",
            "fillColor": "grey",
            "fillOpacity": 0.1,
            "weight": 3
           },
           "tidal_label": "moderately tidal",
           "turbid_label": "clear",
           "wave_label": "moderate wave energy"
          },
          "type": "Feature"
         },
         {
          "geometry": {
           "coordinates": [
            [
             [
              -121.546,
              36.00593
             ],
             [
              -121.546,
              36.04225651037221
             ],
             [
              -121.50108423579402,
              36.04225651037221
             ],
             [
              -121.50108423579402,
              36.00593
             ],
             [
              -121.546,
              36.00593
             ]
            ]
           ],
           "type": "Polygon"
          },
          "id": "0",
          "properties": {
           "CHLOROPHYLL": 2.417483,
           "CSU_Descriptor": "steeply sloping, straight, medium erodibility, warm temperate dry, low river discharge, moderate wave energy, moderately tidal, euhaline-oxic-moderate to cool, clear, moderate chlorophyll",
           "CSU_ID": 70981,
           "Cluster": 6,
           "EMU_PHYSICAL": "Euhaline-Oxic-Moderate to Cool",
           "ERODIBILITY": "Medium",
           "GHM": 0.115889,
           "LENGTH_GEO": 809.0954052047207,
           "MAX_SLOPE": 165.896272,
           "MEAN_SIG_WAVEHEIGHT": 1.687268,
           "MasterKey": 2753660,
           "OBJECTID": 2753660,
           "OUTFLOW_DENSITY": 8671.790039,
           "OUTFLOW_DENSITY_RESCALED": 1.0484883786709782e-05,
           "REGIONAL_SINUOSITY": 1.140924,
           "RandomSort": 3897464.57070746,
           "Shape_Length": 0.008658662143014698,
           "TEMP_MOISTURE": "Warm Temperate Dry",
           "TIDAL_RANGE": 2.416656,
           "TURBIDITY": 0.027483,
           "chl_label": "moderate chlorophyll",
           "id": 4,
           "index_right": 2,
           "river_label": "low river discharge",
           "sinuosity_label": "straight",
           "slope_label": "steeply sloping",
           "style": {
            "color": "black",
            "fillColor": "grey",
            "fillOpacity": 0.1,
            "weight": 3
           },
           "tidal_label": "moderately tidal",
           "turbid_label": "clear",
           "wave_label": "moderate wave energy"
          },
          "type": "Feature"
         },
         {
          "geometry": {
           "coordinates": [
            [
             [
              -121.546,
              36.00593
             ],
             [
              -121.546,
              36.04225651037221
             ],
             [
              -121.50108423579402,
              36.04225651037221
             ],
             [
              -121.50108423579402,
              36.00593
             ],
             [
              -121.546,
              36.00593
             ]
            ]
           ],
           "type": "Polygon"
          },
          "id": "0",
          "properties": {
           "CHLOROPHYLL": 2.417483,
           "CSU_Descriptor": "steeply sloping, straight, medium erodibility, warm temperate dry, low river discharge, moderate wave energy, moderately tidal, euhaline-oxic-moderate to cool, clear, moderate chlorophyll",
           "CSU_ID": 70981,
           "Cluster": 6,
           "EMU_PHYSICAL": "Euhaline-Oxic-Moderate to Cool",
           "ERODIBILITY": "Medium",
           "GHM": 0.115889,
           "LENGTH_GEO": 809.0954052047207,
           "MAX_SLOPE": 165.896272,
           "MEAN_SIG_WAVEHEIGHT": 1.687268,
           "MasterKey": 2753660,
           "OBJECTID": 2753660,
           "OUTFLOW_DENSITY": 8671.790039,
           "OUTFLOW_DENSITY_RESCALED": 1.0484883786709782e-05,
           "REGIONAL_SINUOSITY": 1.140924,
           "RandomSort": 3897464.57070746,
           "Shape_Length": 0.008658662143014698,
           "TEMP_MOISTURE": "Warm Temperate Dry",
           "TIDAL_RANGE": 2.416656,
           "TURBIDITY": 0.027483,
           "chl_label": "moderate chlorophyll",
           "id": 5,
           "index_right": 7,
           "river_label": "low river discharge",
           "sinuosity_label": "straight",
           "slope_label": "steeply sloping",
           "style": {
            "color": "black",
            "fillColor": "grey",
            "fillOpacity": 0.1,
            "weight": 3
           },
           "tidal_label": "moderately tidal",
           "turbid_label": "clear",
           "wave_label": "moderate wave energy"
          },
          "type": "Feature"
         },
         {
          "geometry": {
           "coordinates": [
            [
             [
              -121.546,
              36.00593
             ],
             [
              -121.546,
              36.04225651037221
             ],
             [
              -121.50108423579402,
              36.04225651037221
             ],
             [
              -121.50108423579402,
              36.00593
             ],
             [
              -121.546,
              36.00593
             ]
            ]
           ],
           "type": "Polygon"
          },
          "id": "0",
          "properties": {
           "CHLOROPHYLL": 0.833561,
           "CSU_Descriptor": "steeply sloping, straight, medium erodibility, warm temperate dry, low river discharge, moderate wave energy, moderately tidal, euhaline-oxic-moderate to cool, clear, low chlorophyll",
           "CSU_ID": 62191,
           "Cluster": 6,
           "EMU_PHYSICAL": "Euhaline-Oxic-Moderate to Cool",
           "ERODIBILITY": "Medium",
           "GHM": 0.10134,
           "LENGTH_GEO": 808.6158624684548,
           "MAX_SLOPE": 76.299834,
           "MEAN_SIG_WAVEHEIGHT": 1.687268,
           "MasterKey": 2753661,
           "OBJECTID": 2753661,
           "OUTFLOW_DENSITY": 8671.790039,
           "OUTFLOW_DENSITY_RESCALED": 1.0484883786709782e-05,
           "REGIONAL_SINUOSITY": 1.140924,
           "RandomSort": 3235310.88357964,
           "Shape_Length": 0.008419277882346981,
           "TEMP_MOISTURE": "Warm Temperate Dry",
           "TIDAL_RANGE": 2.416656,
           "TURBIDITY": 0.027483,
           "chl_label": "low chlorophyll",
           "id": 6,
           "index_right": 1,
           "river_label": "low river discharge",
           "sinuosity_label": "straight",
           "slope_label": "steeply sloping",
           "style": {
            "color": "black",
            "fillColor": "grey",
            "fillOpacity": 0.1,
            "weight": 3
           },
           "tidal_label": "moderately tidal",
           "turbid_label": "clear",
           "wave_label": "moderate wave energy"
          },
          "type": "Feature"
         },
         {
          "geometry": {
           "coordinates": [
            [
             [
              -121.546,
              36.00593
             ],
             [
              -121.546,
              36.04225651037221
             ],
             [
              -121.50108423579402,
              36.04225651037221
             ],
             [
              -121.50108423579402,
              36.00593
             ],
             [
              -121.546,
              36.00593
             ]
            ]
           ],
           "type": "Polygon"
          },
          "id": "0",
          "properties": {
           "CHLOROPHYLL": 0.833561,
           "CSU_Descriptor": "steeply sloping, straight, medium erodibility, warm temperate dry, low river discharge, moderate wave energy, moderately tidal, euhaline-oxic-moderate to cool, clear, low chlorophyll",
           "CSU_ID": 62191,
           "Cluster": 6,
           "EMU_PHYSICAL": "Euhaline-Oxic-Moderate to Cool",
           "ERODIBILITY": "Medium",
           "GHM": 0.10134,
           "LENGTH_GEO": 808.6158624684548,
           "MAX_SLOPE": 76.299834,
           "MEAN_SIG_WAVEHEIGHT": 1.687268,
           "MasterKey": 2753661,
           "OBJECTID": 2753661,
           "OUTFLOW_DENSITY": 8671.790039,
           "OUTFLOW_DENSITY_RESCALED": 1.0484883786709782e-05,
           "REGIONAL_SINUOSITY": 1.140924,
           "RandomSort": 3235310.88357964,
           "Shape_Length": 0.008419277882346981,
           "TEMP_MOISTURE": "Warm Temperate Dry",
           "TIDAL_RANGE": 2.416656,
           "TURBIDITY": 0.027483,
           "chl_label": "low chlorophyll",
           "id": 7,
           "index_right": 6,
           "river_label": "low river discharge",
           "sinuosity_label": "straight",
           "slope_label": "steeply sloping",
           "style": {
            "color": "black",
            "fillColor": "grey",
            "fillOpacity": 0.1,
            "weight": 3
           },
           "tidal_label": "moderately tidal",
           "turbid_label": "clear",
           "wave_label": "moderate wave energy"
          },
          "type": "Feature"
         },
         {
          "geometry": {
           "coordinates": [
            [
             [
              -121.546,
              36.00593
             ],
             [
              -121.546,
              36.04225651037221
             ],
             [
              -121.50108423579402,
              36.04225651037221
             ],
             [
              -121.50108423579402,
              36.00593
             ],
             [
              -121.546,
              36.00593
             ]
            ]
           ],
           "type": "Polygon"
          },
          "id": "0",
          "properties": {
           "CHLOROPHYLL": 2.417483,
           "CSU_Descriptor": "steeply sloping, straight, medium erodibility, warm temperate dry, low river discharge, moderate wave energy, moderately tidal, euhaline-oxic-moderate to cool, clear, moderate chlorophyll",
           "CSU_ID": 70981,
           "Cluster": 6,
           "EMU_PHYSICAL": "Euhaline-Oxic-Moderate to Cool",
           "ERODIBILITY": "Medium",
           "GHM": 0.10134,
           "LENGTH_GEO": 808.8271837845471,
           "MAX_SLOPE": 152.033411,
           "MEAN_SIG_WAVEHEIGHT": 1.687268,
           "MasterKey": 2753662,
           "OBJECTID": 2753662,
           "OUTFLOW_DENSITY": 8671.790039,
           "OUTFLOW_DENSITY_RESCALED": 1.0484883786709782e-05,
           "REGIONAL_SINUOSITY": 1.140924,
           "RandomSort": 297054.39133329,
           "Shape_Length": 0.008495092439177234,
           "TEMP_MOISTURE": "Warm Temperate Dry",
           "TIDAL_RANGE": 2.410373,
           "TURBIDITY": 0.024533,
           "chl_label": "moderate chlorophyll",
           "id": 8,
           "index_right": 0,
           "river_label": "low river discharge",
           "sinuosity_label": "straight",
           "slope_label": "steeply sloping",
           "style": {
            "color": "black",
            "fillColor": "grey",
            "fillOpacity": 0.1,
            "weight": 3
           },
           "tidal_label": "moderately tidal",
           "turbid_label": "clear",
           "wave_label": "moderate wave energy"
          },
          "type": "Feature"
         },
         {
          "geometry": {
           "coordinates": [
            [
             [
              -121.546,
              36.00593
             ],
             [
              -121.546,
              36.04225651037221
             ],
             [
              -121.50108423579402,
              36.04225651037221
             ],
             [
              -121.50108423579402,
              36.00593
             ],
             [
              -121.546,
              36.00593
             ]
            ]
           ],
           "type": "Polygon"
          },
          "id": "0",
          "properties": {
           "CHLOROPHYLL": 2.417483,
           "CSU_Descriptor": "steeply sloping, straight, medium erodibility, warm temperate dry, low river discharge, moderate wave energy, moderately tidal, euhaline-oxic-moderate to cool, clear, moderate chlorophyll",
           "CSU_ID": 70981,
           "Cluster": 6,
           "EMU_PHYSICAL": "Euhaline-Oxic-Moderate to Cool",
           "ERODIBILITY": "Medium",
           "GHM": 0.10134,
           "LENGTH_GEO": 808.8271837845471,
           "MAX_SLOPE": 152.033411,
           "MEAN_SIG_WAVEHEIGHT": 1.687268,
           "MasterKey": 2753662,
           "OBJECTID": 2753662,
           "OUTFLOW_DENSITY": 8671.790039,
           "OUTFLOW_DENSITY_RESCALED": 1.0484883786709782e-05,
           "REGIONAL_SINUOSITY": 1.140924,
           "RandomSort": 297054.39133329,
           "Shape_Length": 0.008495092439177234,
           "TEMP_MOISTURE": "Warm Temperate Dry",
           "TIDAL_RANGE": 2.410373,
           "TURBIDITY": 0.024533,
           "chl_label": "moderate chlorophyll",
           "id": 9,
           "index_right": 5,
           "river_label": "low river discharge",
           "sinuosity_label": "straight",
           "slope_label": "steeply sloping",
           "style": {
            "color": "black",
            "fillColor": "grey",
            "fillOpacity": 0.1,
            "weight": 3
           },
           "tidal_label": "moderately tidal",
           "turbid_label": "clear",
           "wave_label": "moderate wave energy"
          },
          "type": "Feature"
         }
        ],
        "type": "FeatureCollection"
       },
       "hover_style": {
        "color": "crimson",
        "fillColor": "red"
       },
       "name": "GeoJSON data"
      }
     },
     "28e6b0b8cba84f5b91dd75fcb5a9a75c": {
      "model_module": "jupyter-leaflet",
      "model_module_version": "^0.17.0",
      "model_name": "LeafletTileLayerModel",
      "state": {
       "_model_module_version": "^0.17.0",
       "_view_module_version": "^0.17.0",
       "attribution": "&copy; <a href=\"https://www.openstreetmap.org/copyright\">OpenStreetMap</a> contributors",
       "base": true,
       "max_zoom": 19,
       "min_zoom": 1,
       "name": "OpenStreetMap",
       "options": [
        "attribution",
        "bounds",
        "detect_retina",
        "max_native_zoom",
        "max_zoom",
        "min_native_zoom",
        "min_zoom",
        "no_wrap",
        "tile_size",
        "tms"
       ],
       "url": "https://a.tile.openstreetmap.org/{z}/{x}/{y}.png"
      }
     },
     "28e97bdab9b74e3093d9527b647884de": {
      "model_module": "@jupyter-widgets/controls",
      "model_module_version": "1.5.0",
      "model_name": "ButtonStyleModel",
      "state": {}
     },
     "29e95bb17965490b85c25ccde99be631": {
      "model_module": "@jupyter-widgets/base",
      "model_module_version": "1.2.0",
      "model_name": "LayoutModel",
      "state": {}
     },
     "2a47f16580f04677bf2dcd142c77d4d6": {
      "model_module": "@jupyter-widgets/controls",
      "model_module_version": "1.5.0",
      "model_name": "VBoxModel",
      "state": {
       "children": [
        "IPY_MODEL_8dd0ce5c060841b68d61788c0c700923",
        "IPY_MODEL_dadbc0eae39242818088acddcbfc5201",
        "IPY_MODEL_8c92cfe5e5a0474893dcc5b92b095c42",
        "IPY_MODEL_58dcb3705c9645eda7a266a3d02b50b8"
       ],
       "layout": "IPY_MODEL_41e7ff8d409444479ce70232b2f88094"
      }
     },
     "2aa634ba4d9542ada02288446907261f": {
      "model_module": "@jupyter-widgets/controls",
      "model_module_version": "1.5.0",
      "model_name": "ButtonModel",
      "state": {
       "description": "Save ROI",
       "layout": "IPY_MODEL_473aa6b4e6a8427b8f75d72c7dc0432c",
       "style": "IPY_MODEL_b16ef1c7df0f479881f2236493074c95"
      }
     },
     "2bf11442840e468cab26f1a1a5e11513": {
      "model_module": "@jupyter-widgets/controls",
      "model_module_version": "1.5.0",
      "model_name": "DescriptionStyleModel",
      "state": {
       "description_width": ""
      }
     },
     "2c0b21d694cc48ef913d818bb44bcca0": {
      "model_module": "@jupyter-widgets/base",
      "model_module_version": "1.2.0",
      "model_name": "LayoutModel",
      "state": {
       "margin": "0px 0px 0px 0px"
      }
     },
     "2d84aae76f8d45f79be11ce8baa3ca67": {
      "model_module": "@jupyter-widgets/base",
      "model_module_version": "1.2.0",
      "model_name": "LayoutModel",
      "state": {
       "height": "auto",
       "padding": "0px 0px 0px 4px",
       "width": "auto"
      }
     },
     "2d91e08e33b14db28b61861b3dde05af": {
      "model_module": "jupyter-leaflet",
      "model_module_version": "^0.17.0",
      "model_name": "LeafletTileLayerModel",
      "state": {
       "_model_module_version": "^0.17.0",
       "_view_module_version": "^0.17.0",
       "attribution": "&copy; <a href=\"http://www.gaode.com/\">Gaode.com</a>",
       "max_zoom": 19,
       "name": "Gaode.Satellite",
       "options": [
        "attribution",
        "bounds",
        "detect_retina",
        "max_native_zoom",
        "max_zoom",
        "min_native_zoom",
        "min_zoom",
        "no_wrap",
        "tile_size",
        "tms"
       ],
       "url": "http://webst01.is.autonavi.com/appmaptile?style=6&x={x}&y={y}&z={z}"
      }
     },
     "2db5e84b65da4f80b1aa3925d507be23": {
      "model_module": "@jupyter-widgets/controls",
      "model_module_version": "1.5.0",
      "model_name": "ButtonModel",
      "state": {
       "description": "Remove all",
       "layout": "IPY_MODEL_7fc854b8568b43069a4c7a3db5e1e609",
       "style": "IPY_MODEL_4ca25dd72e61418ab59d54f4387979b9"
      }
     },
     "2ed05bec2c3046ddbfc53d4d11ce5c49": {
      "model_module": "jupyter-leaflet",
      "model_module_version": "^0.17.0",
      "model_name": "LeafletWidgetControlModel",
      "state": {
       "_model_module": "jupyter-leaflet",
       "_model_module_version": "^0.17.0",
       "_view_count": null,
       "_view_module": "jupyter-leaflet",
       "_view_module_version": "^0.17.0",
       "options": [
        "position",
        "transparent_bg"
       ],
       "position": "topright",
       "widget": "IPY_MODEL_9bde8fb0b8ac43bcb371027819219929"
      }
     },
     "2ed0e16de6ee44ff922a258218bad855": {
      "model_module": "@jupyter-widgets/controls",
      "model_module_version": "1.5.0",
      "model_name": "HTMLModel",
      "state": {
       "layout": "IPY_MODEL_8b0d9d90b840420bba629d7279b177ac",
       "style": "IPY_MODEL_dc4afda1a8bc45cc9704a8d377225831",
       "value": "<b>Pick a date:</b>"
      }
     },
     "2ed4865b92f54df0ba71dd98e39ded6c": {
      "model_module": "jupyter-leaflet",
      "model_module_version": "^0.17.0",
      "model_name": "LeafletTileLayerModel",
      "state": {
       "_model_module_version": "^0.17.0",
       "_view_module_version": "^0.17.0",
       "attribution": "Map data: (C) OpenStreetMap contributors | Map style: (C) waymarkedtrails.org (CC-BY-SA)",
       "name": "WaymarkedTrails.hiking",
       "options": [
        "attribution",
        "bounds",
        "detect_retina",
        "max_native_zoom",
        "max_zoom",
        "min_native_zoom",
        "min_zoom",
        "no_wrap",
        "tile_size",
        "tms"
       ],
       "url": "https://tile.waymarkedtrails.org/hiking/{z}/{x}/{y}.png"
      }
     },
     "3028df4c64044a6c812ee57ad50555e4": {
      "model_module": "jupyter-leaflet",
      "model_module_version": "^0.17.0",
      "model_name": "LeafletWMSLayerModel",
      "state": {
       "_model_module_version": "^0.17.0",
       "_view_module_version": "^0.17.0",
       "attribution": "ESA",
       "crs": {
        "custom": false,
        "name": "EPSG3857"
       },
       "format": "image/png",
       "layers": "WORLDCOVER_2020_S2_TCC",
       "name": "ESA Worldcover 2020 S2 TCC",
       "options": [
        "attribution",
        "bounds",
        "detect_retina",
        "format",
        "layers",
        "max_native_zoom",
        "max_zoom",
        "min_native_zoom",
        "min_zoom",
        "no_wrap",
        "styles",
        "tile_size",
        "tms",
        "transparent",
        "uppercase"
       ],
       "transparent": true,
       "url": "https://services.terrascope.be/wms/v2"
      }
     },
     "30d8895638d74dd2acce8255500afb1b": {
      "model_module": "@jupyter-widgets/controls",
      "model_module_version": "1.5.0",
      "model_name": "HBoxModel",
      "state": {
       "children": [
        "IPY_MODEL_897a0fdef9ae4888b989a1399dcdbf67",
        "IPY_MODEL_d6d9a7e78b73462abdcf90bf835aaa6f"
       ],
       "layout": "IPY_MODEL_10ef611512b24501acbdd64b73030245"
      }
     },
     "31c47cb41227428585ab005e8adbf5f7": {
      "model_module": "@jupyter-widgets/controls",
      "model_module_version": "1.5.0",
      "model_name": "ButtonStyleModel",
      "state": {}
     },
     "32041f385d0d483ba02481f8ee21f43a": {
      "model_module": "jupyter-leaflet",
      "model_module_version": "^0.17.0",
      "model_name": "LeafletWMSLayerModel",
      "state": {
       "_model_module_version": "^0.17.0",
       "_view_module_version": "^0.17.0",
       "attribution": "MRLC",
       "crs": {
        "custom": false,
        "name": "EPSG3857"
       },
       "format": "image/png",
       "layers": "NLCD_2019_Land_Cover_L48",
       "name": "NLCD 2019 CONUS Land Cover",
       "options": [
        "attribution",
        "bounds",
        "detect_retina",
        "format",
        "layers",
        "max_native_zoom",
        "max_zoom",
        "min_native_zoom",
        "min_zoom",
        "no_wrap",
        "styles",
        "tile_size",
        "tms",
        "transparent",
        "uppercase"
       ],
       "transparent": true,
       "url": "https://www.mrlc.gov/geoserver/mrlc_display/NLCD_2019_Land_Cover_L48/wms?"
      }
     },
     "3223417e263943fda5f495d1ee410f9b": {
      "model_module": "jupyter-leaflet",
      "model_module_version": "^0.17.0",
      "model_name": "LeafletZoomControlModel",
      "state": {
       "_model_module_version": "^0.17.0",
       "_view_module_version": "^0.17.0",
       "options": [
        "position",
        "zoom_in_text",
        "zoom_in_title",
        "zoom_out_text",
        "zoom_out_title"
       ]
      }
     },
     "326be8e547414d32863c313d0d3a72fb": {
      "model_module": "jupyter-leaflet",
      "model_module_version": "^0.17.0",
      "model_name": "LeafletTileLayerModel",
      "state": {
       "_model_module_version": "^0.17.0",
       "_view_module_version": "^0.17.0",
       "attribution": "Tiles (C) Esri -- Copyright: (C)2012 DeLorme",
       "max_zoom": 11,
       "name": "Esri.DeLorme",
       "options": [
        "attribution",
        "bounds",
        "detect_retina",
        "max_native_zoom",
        "max_zoom",
        "min_native_zoom",
        "min_zoom",
        "no_wrap",
        "tile_size",
        "tms"
       ],
       "url": "https://server.arcgisonline.com/ArcGIS/rest/services/Specialty/DeLorme_World_Base_Map/MapServer/tile/{z}/{y}/{x}"
      }
     },
     "33e2750a85714eabaebf128df7b4fb36": {
      "model_module": "@jupyter-widgets/base",
      "model_module_version": "1.2.0",
      "model_name": "LayoutModel",
      "state": {
       "height": "auto",
       "padding": "0px 0px 0px 4px",
       "width": "auto"
      }
     },
     "33e3c8bec19047b1b4ddea1993420f25": {
      "model_module": "@jupyter-widgets/controls",
      "model_module_version": "1.5.0",
      "model_name": "DescriptionStyleModel",
      "state": {
       "description_width": ""
      }
     },
     "3417db2f37834f18a78d31ec215fd75c": {
      "model_module": "@jupyter-widgets/controls",
      "model_module_version": "1.5.0",
      "model_name": "SelectMultipleModel",
      "state": {
       "_options_labels": [
        "L5",
        "L7",
        "L8",
        "L9",
        "S2"
       ],
       "description": "Satellites",
       "index": [
        1,
        2,
        3,
        4
       ],
       "layout": "IPY_MODEL_7995c99c848b462a9877b69c2aa30a67",
       "rows": 5,
       "style": "IPY_MODEL_6653054cc7144a0f89a515683cd24a2a"
      }
     },
     "347843e76e4f4835ba6cecf3bb80823a": {
      "model_module": "@jupyter-widgets/controls",
      "model_module_version": "1.5.0",
      "model_name": "DescriptionStyleModel",
      "state": {
       "description_width": ""
      }
     },
     "3588dc4336744077958b4026e78bc347": {
      "model_module": "jupyter-leaflet",
      "model_module_version": "^0.17.0",
      "model_name": "LeafletTileLayerModel",
      "state": {
       "_model_module_version": "^0.17.0",
       "_view_module_version": "^0.17.0",
       "attribution": "Kaartgegevens (C) Kadaster",
       "max_zoom": 19,
       "name": "nlmaps.pastel",
       "options": [
        "attribution",
        "bounds",
        "detect_retina",
        "max_native_zoom",
        "max_zoom",
        "min_native_zoom",
        "min_zoom",
        "no_wrap",
        "tile_size",
        "tms"
       ],
       "url": "https://service.pdok.nl/brt/achtergrondkaart/wmts/v2_0/pastel/EPSG:3857/{z}/{x}/{y}.png"
      }
     },
     "371acb3701834efda82cacea7505712a": {
      "model_module": "jupyter-leaflet",
      "model_module_version": "^0.17.0",
      "model_name": "LeafletTileLayerModel",
      "state": {
       "_model_module_version": "^0.17.0",
       "_view_module_version": "^0.17.0",
       "attribution": "&copy; <a href=\"http://www.gaode.com/\">Gaode.com</a>",
       "max_zoom": 19,
       "name": "Gaode.Normal",
       "options": [
        "attribution",
        "bounds",
        "detect_retina",
        "max_native_zoom",
        "max_zoom",
        "min_native_zoom",
        "min_zoom",
        "no_wrap",
        "tile_size",
        "tms"
       ],
       "url": "http://webrd01.is.autonavi.com/appmaptile?lang=zh_cn&size=1&scale=1&style=7&x={x}&y={y}&z={z}"
      }
     },
     "3721fb779f4641b68b341b0afa2816ab": {
      "model_module": "@jupyter-widgets/controls",
      "model_module_version": "1.5.0",
      "model_name": "DescriptionStyleModel",
      "state": {
       "description_width": ""
      }
     },
     "37f7c227bb4b4e118b37f8a6605fb360": {
      "model_module": "@jupyter-widgets/controls",
      "model_module_version": "1.5.0",
      "model_name": "DescriptionStyleModel",
      "state": {
       "description_width": ""
      }
     },
     "38a057fb67fa42c28fe8648adbb24e3c": {
      "model_module": "@jupyter-widgets/base",
      "model_module_version": "1.2.0",
      "model_name": "LayoutModel",
      "state": {
       "height": "600px",
       "width": "100%"
      }
     },
     "3931feaed9a345e0a800445d753d3712": {
      "model_module": "jupyter-leaflet",
      "model_module_version": "^0.17.0",
      "model_name": "LeafletTileLayerModel",
      "state": {
       "_model_module_version": "^0.17.0",
       "_view_module_version": "^0.17.0",
       "attribution": "Map tiles by Stamen Design, CC BY 3.0 -- Map data (C) OpenStreetMap contributors",
       "max_zoom": 20,
       "name": "Stamen.TopOSMRelief",
       "options": [
        "attribution",
        "bounds",
        "detect_retina",
        "max_native_zoom",
        "max_zoom",
        "min_native_zoom",
        "min_zoom",
        "no_wrap",
        "tile_size",
        "tms"
       ],
       "url": "https://stamen-tiles-a.a.ssl.fastly.net/toposm-color-relief/{z}/{x}/{y}.jpg"
      }
     },
     "3adf9c842f9e4f93bc18b777e7a57aca": {
      "model_module": "jupyter-leaflet",
      "model_module_version": "^0.17.0",
      "model_name": "LeafletTileLayerModel",
      "state": {
       "_model_module_version": "^0.17.0",
       "_view_module_version": "^0.17.0",
       "attribution": "Tiles (C) Esri -- Sources: GEBCO, NOAA, CHS, OSU, UNH, CSUMB, National Geographic, DeLorme, NAVTEQ, and Esri",
       "max_zoom": 13,
       "name": "Esri.OceanBasemap",
       "options": [
        "attribution",
        "bounds",
        "detect_retina",
        "max_native_zoom",
        "max_zoom",
        "min_native_zoom",
        "min_zoom",
        "no_wrap",
        "tile_size",
        "tms"
       ],
       "url": "https://server.arcgisonline.com/ArcGIS/rest/services/Ocean_Basemap/MapServer/tile/{z}/{y}/{x}"
      }
     },
     "3b19c21ff1e84340896db5fb5f8585a8": {
      "model_module": "@jupyter-widgets/base",
      "model_module_version": "1.2.0",
      "model_name": "LayoutModel",
      "state": {
       "margin": "0px 0px 0px 20px"
      }
     },
     "3b71b57c0ffc48a288e3aa1b32a96e37": {
      "model_module": "@jupyter-widgets/controls",
      "model_module_version": "1.5.0",
      "model_name": "ToggleButtonModel",
      "state": {
       "button_style": "primary",
       "icon": "search-plus",
       "layout": "IPY_MODEL_77129823292b4cc1a9b887eb3b158e0d",
       "style": "IPY_MODEL_b86835a49fe246f3889fff4c0e0a12cb",
       "tooltip": "Search features in GeoJSON layer"
      }
     },
     "3b72a00ce9d442648c4ba2d70adafeb5": {
      "model_module": "@jupyter-widgets/base",
      "model_module_version": "1.2.0",
      "model_name": "LayoutModel",
      "state": {
       "height": "auto",
       "padding": "0px 0px 0px 4px",
       "width": "auto"
      }
     },
     "3b801ac44b3548b1a9b21e58175b14bc": {
      "model_module": "@jupyter-widgets/base",
      "model_module_version": "1.2.0",
      "model_name": "LayoutModel",
      "state": {
       "height": "auto",
       "padding": "0px 0px 0px 4px",
       "width": "auto"
      }
     },
     "3ca19ec67d58484d9dbea2d343e7078b": {
      "model_module": "@jupyter-widgets/base",
      "model_module_version": "1.2.0",
      "model_name": "LayoutModel",
      "state": {}
     },
     "3d90a8eefab6465ca8b45fecd27c5c70": {
      "model_module": "@jupyter-widgets/controls",
      "model_module_version": "1.5.0",
      "model_name": "DescriptionStyleModel",
      "state": {
       "description_width": ""
      }
     },
     "3e3c420a38ce47268243b956544156ae": {
      "model_module": "@jupyter-widgets/controls",
      "model_module_version": "1.5.0",
      "model_name": "DescriptionStyleModel",
      "state": {
       "description_width": ""
      }
     },
     "3eb3446f05f646688e6d4443799b6553": {
      "model_module": "jupyter-leaflet",
      "model_module_version": "^0.17.0",
      "model_name": "LeafletTileLayerModel",
      "state": {
       "_model_module_version": "^0.17.0",
       "_view_module_version": "^0.17.0",
       "attribution": "Google",
       "max_zoom": 22,
       "name": "Google Terrain",
       "options": [
        "attribution",
        "bounds",
        "detect_retina",
        "max_native_zoom",
        "max_zoom",
        "min_native_zoom",
        "min_zoom",
        "no_wrap",
        "tile_size",
        "tms"
       ],
       "url": "https://mt1.google.com/vt/lyrs=p&x={x}&y={y}&z={z}"
      }
     },
     "3f252f1cd0d3487e9aaa73c513c71cf9": {
      "model_module": "@jupyter-widgets/base",
      "model_module_version": "1.2.0",
      "model_name": "LayoutModel",
      "state": {}
     },
     "40156f1748d546719a9cb388282f8ff6": {
      "model_module": "jupyter-leaflet",
      "model_module_version": "^0.17.0",
      "model_name": "LeafletTileLayerModel",
      "state": {
       "_model_module_version": "^0.17.0",
       "_view_module_version": "^0.17.0",
       "attribution": "(C) OpenStreetMap contributors (C) CARTO",
       "max_zoom": 20,
       "name": "CartoDB.Positron",
       "options": [
        "attribution",
        "bounds",
        "detect_retina",
        "max_native_zoom",
        "max_zoom",
        "min_native_zoom",
        "min_zoom",
        "no_wrap",
        "tile_size",
        "tms"
       ],
       "url": "https://a.basemaps.cartocdn.com/light_all/{z}/{x}/{y}.png"
      }
     },
     "4053d8d0ece3437d95934ed5c9080102": {
      "model_module": "jupyter-leaflet",
      "model_module_version": "^0.17.0",
      "model_name": "LeafletTileLayerModel",
      "state": {
       "_model_module_version": "^0.17.0",
       "_view_module_version": "^0.17.0",
       "attribution": "Datenquelle: basemap.at",
       "max_zoom": 20,
       "name": "BasemapAT.orthofoto",
       "options": [
        "attribution",
        "bounds",
        "detect_retina",
        "max_native_zoom",
        "max_zoom",
        "min_native_zoom",
        "min_zoom",
        "no_wrap",
        "tile_size",
        "tms"
       ],
       "url": "https://maps.wien.gv.at/basemap/bmaporthofoto30cm/normal/google3857/{z}/{y}/{x}.jpeg"
      }
     },
     "406a299389fc444ab29f6ecbcf9f267d": {
      "model_module": "@jupyter-widgets/controls",
      "model_module_version": "1.5.0",
      "model_name": "ButtonStyleModel",
      "state": {}
     },
     "40d8756d82694d18b360c6e1229a91fa": {
      "model_module": "jupyter-leaflet",
      "model_module_version": "^0.17.0",
      "model_name": "LeafletAttributionControlModel",
      "state": {
       "_model_module_version": "^0.17.0",
       "_view_module_version": "^0.17.0",
       "options": [
        "position",
        "prefix"
       ],
       "position": "bottomright",
       "prefix": "ipyleaflet"
      }
     },
     "40ffb59cb2eb4470af0dbc406e979556": {
      "model_module": "@jupyter-widgets/controls",
      "model_module_version": "1.5.0",
      "model_name": "VBoxModel",
      "state": {
       "_view_count": 1,
       "children": [
        "IPY_MODEL_d6d9a7e78b73462abdcf90bf835aaa6f"
       ],
       "layout": "IPY_MODEL_f05403fb77ec45f0923c423e45810594"
      }
     },
     "4192f50b48e54d4ab130acd08841ba22": {
      "model_module": "@jupyter-widgets/controls",
      "model_module_version": "1.5.0",
      "model_name": "ButtonModel",
      "state": {
       "description": "Clear TextBox",
       "layout": "IPY_MODEL_cdd034b214bc4a39b4f623751e438dee",
       "style": "IPY_MODEL_406a299389fc444ab29f6ecbcf9f267d"
      }
     },
     "41e7ff8d409444479ce70232b2f88094": {
      "model_module": "@jupyter-widgets/base",
      "model_module_version": "1.2.0",
      "model_name": "LayoutModel",
      "state": {}
     },
     "42b32cf3cf69461b8a1d7744817a8509": {
      "model_module": "@jupyter-widgets/base",
      "model_module_version": "1.2.0",
      "model_name": "LayoutModel",
      "state": {}
     },
     "42db2873b9df431aa08f1177bd3bb778": {
      "model_module": "@jupyter-widgets/controls",
      "model_module_version": "1.5.0",
      "model_name": "DescriptionStyleModel",
      "state": {
       "description_width": ""
      }
     },
     "4300d01bb7e74798974ee70efce861ac": {
      "model_module": "@jupyter-widgets/base",
      "model_module_version": "1.2.0",
      "model_name": "LayoutModel",
      "state": {
       "margin": "0px 20px 20px 20px"
      }
     },
     "4320c24bb2934545bf26f8254e8017bf": {
      "model_module": "jupyter-leaflet",
      "model_module_version": "^0.17.0",
      "model_name": "LeafletTileLayerModel",
      "state": {
       "_model_module_version": "^0.17.0",
       "_view_module_version": "^0.17.0",
       "attribution": "Map data: (C) OpenStreetMap contributors | Map style: (C) SafeCast (CC-BY-SA)",
       "max_zoom": 16,
       "name": "SafeCast",
       "options": [
        "attribution",
        "bounds",
        "detect_retina",
        "max_native_zoom",
        "max_zoom",
        "min_native_zoom",
        "min_zoom",
        "no_wrap",
        "tile_size",
        "tms"
       ],
       "url": "https://s3.amazonaws.com/te512.safecast.org/{z}/{x}/{y}.png"
      }
     },
     "4395f7f9df7b4172ab719eadea699208": {
      "model_module": "@jupyter-widgets/base",
      "model_module_version": "1.2.0",
      "model_name": "LayoutModel",
      "state": {}
     },
     "44157bf896f74cbfbd4799a38b1d2362": {
      "model_module": "jupyter-leaflet",
      "model_module_version": "^0.17.0",
      "model_name": "LeafletTileLayerModel",
      "state": {
       "_model_module_version": "^0.17.0",
       "_view_module_version": "^0.17.0",
       "attribution": "Datenquelle: basemap.at",
       "max_zoom": 19,
       "name": "BasemapAT.highdpi",
       "options": [
        "attribution",
        "bounds",
        "detect_retina",
        "max_native_zoom",
        "max_zoom",
        "min_native_zoom",
        "min_zoom",
        "no_wrap",
        "tile_size",
        "tms"
       ],
       "url": "https://maps.wien.gv.at/basemap/bmaphidpi/normal/google3857/{z}/{y}/{x}.jpeg"
      }
     },
     "443997f5ae5540aab08d2691e5b5548b": {
      "model_module": "@jupyter-widgets/base",
      "model_module_version": "1.2.0",
      "model_name": "LayoutModel",
      "state": {}
     },
     "44470fa03c284edab215c78e1752531c": {
      "model_module": "jupyter-leaflet",
      "model_module_version": "^0.17.0",
      "model_name": "LeafletTileLayerModel",
      "state": {
       "_model_module_version": "^0.17.0",
       "_view_module_version": "^0.17.0",
       "attribution": "(C) OpenStreetMap contributors & USGS",
       "max_zoom": 22,
       "name": "MtbMap",
       "options": [
        "attribution",
        "bounds",
        "detect_retina",
        "max_native_zoom",
        "max_zoom",
        "min_native_zoom",
        "min_zoom",
        "no_wrap",
        "tile_size",
        "tms"
       ],
       "url": "http://tile.mtbmap.cz/mtbmap_tiles/{z}/{x}/{y}.png"
      }
     },
     "449aa8afb3934fe5bb4000475afa7829": {
      "model_module": "@jupyter-widgets/controls",
      "model_module_version": "1.5.0",
      "model_name": "ToggleButtonModel",
      "state": {
       "button_style": "primary",
       "icon": "search",
       "layout": "IPY_MODEL_b387a334d71342298fe720562f02a4e0",
       "style": "IPY_MODEL_d015d91ff7a947eeb78da9eaeb59456c",
       "tooltip": "Search XYZ tile services"
      }
     },
     "44e1680b62794273bd47bd25c598f682": {
      "model_module": "jupyter-leaflet",
      "model_module_version": "^0.17.0",
      "model_name": "LeafletTileLayerModel",
      "state": {
       "_model_module_version": "^0.17.0",
       "_view_module_version": "^0.17.0",
       "attribution": "Imagery provided by services from the Global Imagery Browse Services (GIBS), operated by the NASA/GSFC/Earth Science Data and Information System (ESDIS) with funding provided by NASA/HQ.",
       "max_zoom": 9,
       "name": "NASAGIBS.ModisTerraTrueColorCR",
       "options": [
        "attribution",
        "bounds",
        "detect_retina",
        "max_native_zoom",
        "max_zoom",
        "min_native_zoom",
        "min_zoom",
        "no_wrap",
        "tile_size",
        "tms"
       ],
       "url": "https://map1.vis.earthdata.nasa.gov/wmts-webmerc/MODIS_Terra_CorrectedReflectance_TrueColor/default//GoogleMapsCompatible_Level9/{z}/{y}/{x}.jpg"
      }
     },
     "450ef8372f59442faa1a08fdcbbcd1a7": {
      "model_module": "jupyter-leaflet",
      "model_module_version": "^0.17.0",
      "model_name": "LeafletTileLayerModel",
      "state": {
       "_model_module_version": "^0.17.0",
       "_view_module_version": "^0.17.0",
       "attribution": "(C) OpenStreetMap contributors (C) CARTO",
       "max_zoom": 20,
       "name": "CartoDB.VoyagerLabelsUnder",
       "options": [
        "attribution",
        "bounds",
        "detect_retina",
        "max_native_zoom",
        "max_zoom",
        "min_native_zoom",
        "min_zoom",
        "no_wrap",
        "tile_size",
        "tms"
       ],
       "url": "https://a.basemaps.cartocdn.com/rastertiles/voyager_labels_under/{z}/{x}/{y}.png"
      }
     },
     "454e40d68afe481d85f95d24a23f6614": {
      "model_module": "jupyter-leaflet",
      "model_module_version": "^0.17.0",
      "model_name": "LeafletTileLayerModel",
      "state": {
       "_model_module_version": "^0.17.0",
       "_view_module_version": "^0.17.0",
       "attribution": "Justice Map",
       "max_zoom": 22,
       "name": "JusticeMap.black",
       "options": [
        "attribution",
        "bounds",
        "detect_retina",
        "max_native_zoom",
        "max_zoom",
        "min_native_zoom",
        "min_zoom",
        "no_wrap",
        "tile_size",
        "tms"
       ],
       "url": "https://www.justicemap.org/tile/county/black/{z}/{x}/{y}.png"
      }
     },
     "457f219c9c694c32a9a6480e3db2f76c": {
      "model_module": "@jupyter-widgets/base",
      "model_module_version": "1.2.0",
      "model_name": "LayoutModel",
      "state": {}
     },
     "45baee36da614d4f9be1a751ca2368e6": {
      "model_module": "@jupyter-widgets/controls",
      "model_module_version": "1.5.0",
      "model_name": "DescriptionStyleModel",
      "state": {
       "description_width": ""
      }
     },
     "4722fb49d12348b28ae940646ac43c3b": {
      "model_module": "@jupyter-widgets/base",
      "model_module_version": "1.2.0",
      "model_name": "LayoutModel",
      "state": {
       "height": "auto",
       "padding": "0px 0px 0px 4px",
       "width": "auto"
      }
     },
     "473aa6b4e6a8427b8f75d72c7dc0432c": {
      "model_module": "@jupyter-widgets/base",
      "model_module_version": "1.2.0",
      "model_name": "LayoutModel",
      "state": {}
     },
     "474ce387986d4dff88e0e5a29675d3c3": {
      "model_module": "jupyter-leaflet",
      "model_module_version": "^0.17.0",
      "model_name": "LeafletTileLayerModel",
      "state": {
       "_model_module_version": "^0.17.0",
       "_view_module_version": "^0.17.0",
       "attribution": "![](https://docs.onemap.sg/maps/images/oneMap64-01.png) New OneMap | Map data (C) contributors, Singapore Land Authority",
       "name": "OneMapSG.LandLot",
       "options": [
        "attribution",
        "bounds",
        "detect_retina",
        "max_native_zoom",
        "max_zoom",
        "min_native_zoom",
        "min_zoom",
        "no_wrap",
        "tile_size",
        "tms"
       ],
       "url": "https://maps-a.onemap.sg/v3/LandLot/{z}/{x}/{y}.png"
      }
     },
     "4764fab510364670b58f67ea8c6d8c6c": {
      "model_module": "jupyter-leaflet",
      "model_module_version": "^0.17.0",
      "model_name": "LeafletTileLayerModel",
      "state": {
       "_model_module_version": "^0.17.0",
       "_view_module_version": "^0.17.0",
       "attribution": "(C) OpenStreetMap contributors",
       "name": "OpenStreetMap.DE",
       "options": [
        "attribution",
        "bounds",
        "detect_retina",
        "max_native_zoom",
        "max_zoom",
        "min_native_zoom",
        "min_zoom",
        "no_wrap",
        "tile_size",
        "tms"
       ],
       "url": "https://a.tile.openstreetmap.de/{z}/{x}/{y}.png"
      }
     },
     "4775260a00194c8ca12e8a2d8b8efe2c": {
      "model_module": "@jupyter-widgets/controls",
      "model_module_version": "1.5.0",
      "model_name": "DescriptionStyleModel",
      "state": {
       "description_width": ""
      }
     },
     "478571cba727421f8c229724fae54fb3": {
      "model_module": "jupyter-leaflet",
      "model_module_version": "^0.17.0",
      "model_name": "LeafletWMSLayerModel",
      "state": {
       "_model_module_version": "^0.17.0",
       "_view_module_version": "^0.17.0",
       "attribution": "MRLC",
       "crs": {
        "custom": false,
        "name": "EPSG3857"
       },
       "format": "image/png",
       "layers": "NLCD_2001_Land_Cover_L48",
       "name": "NLCD 2001 CONUS Land Cover",
       "options": [
        "attribution",
        "bounds",
        "detect_retina",
        "format",
        "layers",
        "max_native_zoom",
        "max_zoom",
        "min_native_zoom",
        "min_zoom",
        "no_wrap",
        "styles",
        "tile_size",
        "tms",
        "transparent",
        "uppercase"
       ],
       "transparent": true,
       "url": "https://www.mrlc.gov/geoserver/mrlc_display/NLCD_2001_Land_Cover_L48/wms?"
      }
     },
     "4886d66fb06d4d9c8c88d1b8101b68fd": {
      "model_module": "@jupyter-widgets/base",
      "model_module_version": "1.2.0",
      "model_name": "LayoutModel",
      "state": {}
     },
     "49af040280a84caea1cd06fef77ee923": {
      "model_module": "@jupyter-widgets/controls",
      "model_module_version": "1.5.0",
      "model_name": "ButtonStyleModel",
      "state": {}
     },
     "4ae5b2fb94f44cc8b1d871ae73820c56": {
      "model_module": "jupyter-leaflet",
      "model_module_version": "^0.17.0",
      "model_name": "LeafletTileLayerModel",
      "state": {
       "_model_module_version": "^0.17.0",
       "_view_module_version": "^0.17.0",
       "attribution": "(C) OpenStreetMap contributors",
       "max_zoom": 19,
       "name": "HikeBike.HikeBike",
       "options": [
        "attribution",
        "bounds",
        "detect_retina",
        "max_native_zoom",
        "max_zoom",
        "min_native_zoom",
        "min_zoom",
        "no_wrap",
        "tile_size",
        "tms"
       ],
       "url": "https://tiles.wmflabs.org/hikebike/{z}/{x}/{y}.png"
      }
     },
     "4c37e373877e4167a464e73cf483f75c": {
      "model_module": "@jupyter-widgets/base",
      "model_module_version": "1.2.0",
      "model_name": "LayoutModel",
      "state": {
       "grid_gap": "1px 1px",
       "grid_template_columns": "32px 32px 32px ",
       "grid_template_rows": "32px 32px 32px 32px 32px 32px ",
       "padding": "5px",
       "width": "109px"
      }
     },
     "4c41296de871447b8f3778ef0327d7fb": {
      "model_module": "@jupyter-widgets/controls",
      "model_module_version": "1.5.0",
      "model_name": "ToggleButtonModel",
      "state": {
       "button_style": "primary",
       "icon": "question",
       "layout": "IPY_MODEL_106539ae6d8d4b0698a8afae06c5d090",
       "style": "IPY_MODEL_4775260a00194c8ca12e8a2d8b8efe2c",
       "tooltip": "Get help"
      }
     },
     "4ca25dd72e61418ab59d54f4387979b9": {
      "model_module": "@jupyter-widgets/controls",
      "model_module_version": "1.5.0",
      "model_name": "ButtonStyleModel",
      "state": {}
     },
     "4da23642dafa4baeb6fcb4c7c04c46b6": {
      "model_module": "jupyter-leaflet",
      "model_module_version": "^0.17.0",
      "model_name": "LeafletTileLayerModel",
      "state": {
       "_model_module_version": "^0.17.0",
       "_view_module_version": "^0.17.0",
       "attribution": "Tiles courtesy of the U.S. Geological Survey",
       "max_zoom": 20,
       "name": "USGS.USTopo",
       "options": [
        "attribution",
        "bounds",
        "detect_retina",
        "max_native_zoom",
        "max_zoom",
        "min_native_zoom",
        "min_zoom",
        "no_wrap",
        "tile_size",
        "tms"
       ],
       "url": "https://basemap.nationalmap.gov/arcgis/rest/services/USGSTopo/MapServer/tile/{z}/{y}/{x}"
      }
     },
     "4ed6e9a628934409be4c410e815ce447": {
      "model_module": "@jupyter-widgets/controls",
      "model_module_version": "1.5.0",
      "model_name": "RadioButtonsModel",
      "state": {
       "_options_labels": [
        "C01",
        "C02"
       ],
       "description": "Collection:",
       "index": 1,
       "layout": "IPY_MODEL_3f252f1cd0d3487e9aaa73c513c71cf9",
       "style": "IPY_MODEL_347843e76e4f4835ba6cecf3bb80823a"
      }
     },
     "4ed7348730e64594ab5144c5fe0ddb6d": {
      "model_module": "@jupyter-widgets/controls",
      "model_module_version": "1.5.0",
      "model_name": "DescriptionStyleModel",
      "state": {
       "description_width": ""
      }
     },
     "4f8e4edfc69948a7b652eca61878bfa7": {
      "model_module": "jupyter-leaflet",
      "model_module_version": "^0.17.0",
      "model_name": "LeafletTileLayerModel",
      "state": {
       "_model_module_version": "^0.17.0",
       "_view_module_version": "^0.17.0",
       "attribution": "Map data: (C) OpenStreetMap contributors | Map style: (C) waymarkedtrails.org (CC-BY-SA)",
       "name": "WaymarkedTrails.mtb",
       "options": [
        "attribution",
        "bounds",
        "detect_retina",
        "max_native_zoom",
        "max_zoom",
        "min_native_zoom",
        "min_zoom",
        "no_wrap",
        "tile_size",
        "tms"
       ],
       "url": "https://tile.waymarkedtrails.org/mtb/{z}/{x}/{y}.png"
      }
     },
     "4f96480c020c46309f8bcb4705199f78": {
      "model_module": "jupyter-leaflet",
      "model_module_version": "^0.17.0",
      "model_name": "LeafletTileLayerModel",
      "state": {
       "_model_module_version": "^0.17.0",
       "_view_module_version": "^0.17.0",
       "attribution": "Geoportail France",
       "max_zoom": 19,
       "name": "GeoportailFrance.orthos",
       "options": [
        "attribution",
        "bounds",
        "detect_retina",
        "max_native_zoom",
        "max_zoom",
        "min_native_zoom",
        "min_zoom",
        "no_wrap",
        "tile_size",
        "tms"
       ],
       "url": "https://wxs.ign.fr/choisirgeoportail/geoportail/wmts?REQUEST=GetTile&SERVICE=WMTS&VERSION=1.0.0&STYLE=normal&TILEMATRIXSET=PM&FORMAT=image/jpeg&LAYER=ORTHOIMAGERY.ORTHOPHOTOS&TILEMATRIX={z}&TILEROW={y}&TILECOL={x}"
      }
     },
     "50299272d26a41a3ba035ddfcdeabde9": {
      "model_module": "jupyter-leaflet",
      "model_module_version": "^0.17.0",
      "model_name": "LeafletTileLayerModel",
      "state": {
       "_model_module_version": "^0.17.0",
       "_view_module_version": "^0.17.0",
       "attribution": "Datenquelle: basemap.at",
       "max_zoom": 19,
       "name": "BasemapAT.surface",
       "options": [
        "attribution",
        "bounds",
        "detect_retina",
        "max_native_zoom",
        "max_zoom",
        "min_native_zoom",
        "min_zoom",
        "no_wrap",
        "tile_size",
        "tms"
       ],
       "url": "https://maps.wien.gv.at/basemap/bmapoberflaeche/grau/google3857/{z}/{y}/{x}.jpeg"
      }
     },
     "503c661a63f1486a9cd34989bd86940e": {
      "model_module": "jupyter-leaflet",
      "model_module_version": "^0.17.0",
      "model_name": "LeafletTileLayerModel",
      "state": {
       "_model_module_version": "^0.17.0",
       "_view_module_version": "^0.17.0",
       "attribution": "Justice Map",
       "max_zoom": 22,
       "name": "JusticeMap.asian",
       "options": [
        "attribution",
        "bounds",
        "detect_retina",
        "max_native_zoom",
        "max_zoom",
        "min_native_zoom",
        "min_zoom",
        "no_wrap",
        "tile_size",
        "tms"
       ],
       "url": "https://www.justicemap.org/tile/county/asian/{z}/{x}/{y}.png"
      }
     },
     "50e43301789548bcb5ae477453e64793": {
      "model_module": "@jupyter-widgets/base",
      "model_module_version": "1.2.0",
      "model_name": "LayoutModel",
      "state": {}
     },
     "5101ff28595f432795d4a3e72fbf9f6f": {
      "model_module": "@jupyter-widgets/controls",
      "model_module_version": "1.5.0",
      "model_name": "DescriptionStyleModel",
      "state": {
       "description_width": ""
      }
     },
     "5179964d5be34d99abe358a6b6ace355": {
      "model_module": "@jupyter-widgets/controls",
      "model_module_version": "1.5.0",
      "model_name": "ButtonModel",
      "state": {
       "description": "Load Shoreline",
       "layout": "IPY_MODEL_915a18677ab84169bef9110a3cbcb2b3",
       "style": "IPY_MODEL_49af040280a84caea1cd06fef77ee923"
      }
     },
     "518246a3434a4761b2dfd1c56c1d0f9d": {
      "model_module": "@jupyter-widgets/controls",
      "model_module_version": "1.5.0",
      "model_name": "DescriptionStyleModel",
      "state": {
       "description_width": ""
      }
     },
     "5194bf8a1448446b8636ff8426ed1835": {
      "model_module": "@jupyter-widgets/controls",
      "model_module_version": "1.5.0",
      "model_name": "ButtonStyleModel",
      "state": {}
     },
     "51f383b110614bb2bf20f3cf811cd300": {
      "model_module": "@jupyter-widgets/controls",
      "model_module_version": "1.5.0",
      "model_name": "ToggleButtonModel",
      "state": {
       "button_style": "primary",
       "icon": "download",
       "layout": "IPY_MODEL_daca2b43987b4de68fb82807750d0f68",
       "style": "IPY_MODEL_0e43fbe67a414a09965ea898d3b1c1c1",
       "tooltip": "Download OSM data"
      }
     },
     "523dd117ff9848cc906b718c1e8e47f3": {
      "model_module": "jupyter-leaflet",
      "model_module_version": "^0.17.0",
      "model_name": "LeafletTileLayerModel",
      "state": {
       "_model_module_version": "^0.17.0",
       "_view_module_version": "^0.17.0",
       "attribution": "Tiles (C) Esri -- Source: Esri, i-cubed, USDA, USGS, AEX, GeoEye, Getmapping, Aerogrid, IGN, IGP, UPR-EGP, and the GIS User Community",
       "max_zoom": 22,
       "name": "Esri.WorldImagery",
       "options": [
        "attribution",
        "bounds",
        "detect_retina",
        "max_native_zoom",
        "max_zoom",
        "min_native_zoom",
        "min_zoom",
        "no_wrap",
        "tile_size",
        "tms"
       ],
       "url": "https://server.arcgisonline.com/ArcGIS/rest/services/World_Imagery/MapServer/tile/{z}/{y}/{x}"
      }
     },
     "5265e04f05fd4bf89782e5dc104e0563": {
      "model_module": "@jupyter-widgets/controls",
      "model_module_version": "1.5.0",
      "model_name": "HTMLModel",
      "state": {
       "layout": "IPY_MODEL_d701982d79d54a2c92ad777cfe4b0985",
       "style": "IPY_MODEL_9f640b98d3a841d3932a3fa200a99614",
       "value": "<b>Pick multiple satellites by holding the control key:</b>         <br> - images prior to 2022/01/01 will be downloaded from Collection 1         <br> - images after 2022/01/01 will be automatically downloaded from Collection 2         <br> C01: LandSat Collection 1 : All dates before 2022/01/01        <br> C02: LandSat Collection 2 : All dates after 2022/01/01         <br> - Landsat 9 is only available in C02"
      }
     },
     "52cee6ad77f24a1990b1a2e769959843": {
      "model_module": "@jupyter-widgets/controls",
      "model_module_version": "1.5.0",
      "model_name": "ToggleButtonModel",
      "state": {
       "button_style": "primary",
       "icon": "fast-forward",
       "layout": "IPY_MODEL_e5db8c20012849e3a08b72ce78752056",
       "style": "IPY_MODEL_bfb0df59545044f08aaca0bf166f68a7",
       "tooltip": "Activate the time slider"
      }
     },
     "533a8bb711e04198b69d99fb9f82c70d": {
      "model_module": "jupyter-leaflet",
      "model_module_version": "^0.17.0",
      "model_name": "LeafletTileLayerModel",
      "state": {
       "_model_module_version": "^0.17.0",
       "_view_module_version": "^0.17.0",
       "attribution": "Geoportail France",
       "max_zoom": 20,
       "name": "GeoportailFrance.parcels",
       "options": [
        "attribution",
        "bounds",
        "detect_retina",
        "max_native_zoom",
        "max_zoom",
        "min_native_zoom",
        "min_zoom",
        "no_wrap",
        "tile_size",
        "tms"
       ],
       "url": "https://wxs.ign.fr/choisirgeoportail/geoportail/wmts?REQUEST=GetTile&SERVICE=WMTS&VERSION=1.0.0&STYLE=PCI vecteur&TILEMATRIXSET=PM&FORMAT=image/png&LAYER=CADASTRALPARCELS.PARCELLAIRE_EXPRESS&TILEMATRIX={z}&TILEROW={y}&TILECOL={x}"
      }
     },
     "5358e44b2fd741a99704967d038fb645": {
      "model_module": "@jupyter-widgets/controls",
      "model_module_version": "1.5.0",
      "model_name": "ButtonModel",
      "state": {
       "description": "Save ROI",
       "layout": "IPY_MODEL_f9b43bdf09434addb8055311c5bf2e75",
       "style": "IPY_MODEL_28e97bdab9b74e3093d9527b647884de"
      }
     },
     "539567bc66ad4ca08eede706ceecfa28": {
      "model_module": "jupyter-leaflet",
      "model_module_version": "^0.17.0",
      "model_name": "LeafletTileLayerModel",
      "state": {
       "_model_module_version": "^0.17.0",
       "_view_module_version": "^0.17.0",
       "attribution": "Earthstar Geographics",
       "max_zoom": 24,
       "name": "Esri.ArcticImagery",
       "options": [
        "attribution",
        "bounds",
        "detect_retina",
        "max_native_zoom",
        "max_zoom",
        "min_native_zoom",
        "min_zoom",
        "no_wrap",
        "tile_size",
        "tms"
       ],
       "url": "http://server.arcgisonline.com/ArcGIS/rest/services/Polar/Arctic_Imagery/MapServer/tile/{z}/{y}/{x}"
      }
     },
     "5442596707e046b98e727cba2cd28b04": {
      "model_module": "jupyter-leaflet",
      "model_module_version": "^0.17.0",
      "model_name": "LeafletTileLayerModel",
      "state": {
       "_model_module_version": "^0.17.0",
       "_view_module_version": "^0.17.0",
       "attribution": "(C) OpenStreetMap contributors (C) CARTO",
       "max_zoom": 20,
       "name": "CartoDB.DarkMatterOnlyLabels",
       "options": [
        "attribution",
        "bounds",
        "detect_retina",
        "max_native_zoom",
        "max_zoom",
        "min_native_zoom",
        "min_zoom",
        "no_wrap",
        "tile_size",
        "tms"
       ],
       "url": "https://a.basemaps.cartocdn.com/dark_only_labels/{z}/{x}/{y}.png"
      }
     },
     "54477d8f00774c29903cfd30a4b93198": {
      "model_module": "@jupyter-widgets/base",
      "model_module_version": "1.2.0",
      "model_name": "LayoutModel",
      "state": {}
     },
     "5543df70ee1646ebaa47b3560f2ceabf": {
      "model_module": "@jupyter-widgets/controls",
      "model_module_version": "1.5.0",
      "model_name": "ToggleButtonModel",
      "state": {
       "button_style": "primary",
       "icon": "info",
       "layout": "IPY_MODEL_c16ea89089f54a45b3ea974dcc1c5f2d",
       "style": "IPY_MODEL_ea7e3ba09a904128badb57dc85e9ac89",
       "tooltip": "Get COG/STAC pixel value"
      }
     },
     "562b8f62a5f048a0b4dede90d8da917b": {
      "model_module": "@jupyter-widgets/controls",
      "model_module_version": "1.5.0",
      "model_name": "DescriptionStyleModel",
      "state": {
       "description_width": ""
      }
     },
     "56c63d24faf3498f8dbaff4d6ab4b595": {
      "model_module": "@jupyter-widgets/base",
      "model_module_version": "1.2.0",
      "model_name": "LayoutModel",
      "state": {}
     },
     "5749044580974325bc4ade5a9f7156e2": {
      "model_module": "@jupyter-widgets/controls",
      "model_module_version": "1.5.0",
      "model_name": "DescriptionStyleModel",
      "state": {
       "description_width": ""
      }
     },
     "57944c2b1dc74d39b1b99bd82ae8f997": {
      "model_module": "@jupyter-widgets/controls",
      "model_module_version": "1.5.0",
      "model_name": "ToggleButtonModel",
      "state": {
       "button_style": "primary",
       "icon": "camera",
       "layout": "IPY_MODEL_7dc8f2e13f084e85abf6db4bcfc920bd",
       "style": "IPY_MODEL_3d90a8eefab6465ca8b45fecd27c5c70",
       "tooltip": "Save map as HTML or image"
      }
     },
     "57af479d786e4c8ba59faa610028994f": {
      "model_module": "jupyter-leaflet",
      "model_module_version": "^0.17.0",
      "model_name": "LeafletTileLayerModel",
      "state": {
       "_model_module_version": "^0.17.0",
       "_view_module_version": "^0.17.0",
       "attribution": "© swisstopo",
       "name": "SwissFederalGeoportal.JourneyThroughTime",
       "options": [
        "attribution",
        "bounds",
        "detect_retina",
        "max_native_zoom",
        "max_zoom",
        "min_native_zoom",
        "min_zoom",
        "no_wrap",
        "tile_size",
        "tms"
       ],
       "url": "https://wmts.geo.admin.ch/1.0.0/ch.swisstopo.zeitreihen/default/18641231/3857/{z}/{x}/{y}.png"
      }
     },
     "57e4cf84e968416d813275dd842f7d5c": {
      "model_module": "@jupyter-widgets/output",
      "model_module_version": "1.0.0",
      "model_name": "OutputModel",
      "state": {
       "layout": "IPY_MODEL_6f2feeb175034feb8623aa5862977485",
       "outputs": [
        {
         "name": "stdout",
         "output_type": "stream",
         "text": "ROIs have been saved. Now click Download ROI to download the ROIs using CoastSat\n"
        }
       ]
      }
     },
     "580a95f7df6d44beb17d797a5f7f1490": {
      "model_module": "jupyter-leaflet",
      "model_module_version": "^0.17.0",
      "model_name": "LeafletTileLayerModel",
      "state": {
       "_model_module_version": "^0.17.0",
       "_view_module_version": "^0.17.0",
       "attribution": "(C) OpenStreetMap contributors",
       "max_zoom": 19,
       "name": "OpenStreetMap.Mapnik",
       "options": [
        "attribution",
        "bounds",
        "detect_retina",
        "max_native_zoom",
        "max_zoom",
        "min_native_zoom",
        "min_zoom",
        "no_wrap",
        "tile_size",
        "tms"
       ],
       "url": "https://a.tile.openstreetmap.org/{z}/{x}/{y}.png"
      }
     },
     "58dcb3705c9645eda7a266a3d02b50b8": {
      "model_module": "@jupyter-widgets/controls",
      "model_module_version": "1.5.0",
      "model_name": "HTMLModel",
      "state": {
       "layout": "IPY_MODEL_3b19c21ff1e84340896db5fb5f8585a8",
       "style": "IPY_MODEL_f9d995869776463b9d303fc33d6195c6",
       "value": "<b>2. Select Images Button</b>         <br> - This will open a pop up window where the folder containing the jpgs can be selected.<br>             - The model will be applied to this folder and the model outputs will be generated within a subdirectory             called 'out'<br>      - <span style=\"background-color:yellow;\">WARNING :</span> You will not be able to see the files within the folder you select.<br>    "
      }
     },
     "58e5965d47ee4fe2bc57b5eadda33703": {
      "model_module": "@jupyter-widgets/base",
      "model_module_version": "1.2.0",
      "model_name": "LayoutModel",
      "state": {}
     },
     "596d4e2c07aa41f38ecd10500d290a34": {
      "model_module": "@jupyter-widgets/controls",
      "model_module_version": "1.5.0",
      "model_name": "DescriptionStyleModel",
      "state": {
       "description_width": ""
      }
     },
     "5991f7d5fae64b569e0bb2cf72f04202": {
      "model_module": "@jupyter-widgets/controls",
      "model_module_version": "1.5.0",
      "model_name": "RadioButtonsModel",
      "state": {
       "_options_labels": [
        "landsat_6229071",
        "landsat_6230083",
        "SWED-RGB_6824384",
        "SWED-MNDWI_6824342",
        "coast-train-RGB_6950479",
        "S2-water-SWED_6950474"
       ],
       "description": "Select Model:",
       "index": 0,
       "layout": "IPY_MODEL_7baa5502e8e7446c9b05c99b3e4ecb9a",
       "style": "IPY_MODEL_518246a3434a4761b2dfd1c56c1d0f9d"
      }
     },
     "5a1a4a4fc8584bdd909ca494e1a7555d": {
      "model_module": "jupyter-leaflet",
      "model_module_version": "^0.17.0",
      "model_name": "LeafletGeoJSONModel",
      "state": {
       "_model_module_version": "^0.17.0",
       "_view_module_version": "^0.17.0",
       "data": {
        "features": [
         {
          "geometry": {
           "coordinates": [
            [
             -121.57358129339802,
             36.023474
            ],
            [
             -121.57376563399998,
             36.02363599800003
            ],
            [
             -121.573833429,
             36.02370294900004
            ],
            [
             -121.57402528899996,
             36.02391533100007
            ],
            [
             -121.57405580499994,
             36.023952190000045
            ],
            [
             -121.57408353399995,
             36.02400145900003
            ],
            [
             -121.57432162899994,
             36.02449485000005
            ],
            [
             -121.57434647699995,
             36.024550850000026
            ],
            [
             -121.57436429699999,
             36.02461387900007
            ],
            [
             -121.57437726399996,
             36.02468176000008
            ],
            [
             -121.57438721499994,
             36.02475265700008
            ],
            [
             -121.57440445699996,
             36.024897112000076
            ],
            [
             -121.57441481399997,
             36.02496760200006
            ],
            [
             -121.57442853899994,
             36.02503472500007
            ],
            [
             -121.57444759499998,
             36.025096519000044
            ],
            [
             -121.57447435399996,
             36.02515060800005
            ],
            [
             -121.57450377099997,
             36.025188565000065
            ],
            [
             -121.57469578599995,
             36.02540079100004
            ],
            [
             -121.57472788499996,
             36.025436065000065
            ],
            [
             -121.57476416799994,
             36.02546715500006
            ],
            [
             -121.57484172099998,
             36.02552435000007
            ],
            [
             -121.574878088,
             36.02555535800008
            ],
            [
             -121.57491032299998,
             36.02559049600006
            ],
            [
             -121.57510371399997,
             36.02580134800007
            ],
            [
             -121.57513323199998,
             36.02583920300003
            ],
            [
             -121.57515925999996,
             36.02589177700003
            ],
            [
             -121.57517755699996,
             36.02595208300005
            ],
            [
             -121.57519010399994,
             36.02601813800004
            ],
            [
             -121.575198431,
             36.02608841500006
            ],
            [
             -121.57520369599996,
             36.02616175300005
            ],
            [
             -121.57520830899995,
             36.02631434400007
            ],
            [
             -121.57520853299997,
             36.026471326000035
            ],
            [
             -121.57520790499996,
             36.026529813000025
            ]
           ],
           "type": "LineString"
          },
          "id": "0",
          "properties": {
           "CHLOROPHYLL": 2.417483,
           "CSU_Descriptor": "steeply sloping, straight, medium erodibility, warm temperate dry, low river discharge, moderate wave energy, moderately tidal, euhaline-oxic-moderate to cool, clear, moderate chlorophyll",
           "CSU_ID": 70981,
           "Cluster": 6,
           "EMU_PHYSICAL": "Euhaline-Oxic-Moderate to Cool",
           "ERODIBILITY": "Medium",
           "GHM": 0.146464,
           "LENGTH_GEO": 807.570325164452,
           "MAX_SLOPE": 80.713103,
           "MEAN_SIG_WAVEHEIGHT": 1.687268,
           "MasterKey": 2753655,
           "OBJECTID": 2753655,
           "OUTFLOW_DENSITY": 8671.790039,
           "OUTFLOW_DENSITY_RESCALED": 1.0484883786709782e-05,
           "REGIONAL_SINUOSITY": 1.270183,
           "RandomSort": 1322999.00735509,
           "Shape_Length": 0.00797607602451941,
           "TEMP_MOISTURE": "Warm Temperate Dry",
           "TIDAL_RANGE": 2.416656,
           "TURBIDITY": 0.027483,
           "chl_label": "moderate chlorophyll",
           "river_label": "low river discharge",
           "sinuosity_label": "straight",
           "slope_label": "steeply sloping",
           "style": {
            "color": "yellow",
            "dashArray": "5",
            "fillOpacity": 0.5,
            "fill_color": "yellow",
            "opacity": 1,
            "weight": 4
           },
           "tidal_label": "moderately tidal",
           "turbid_label": "clear",
           "wave_label": "moderate wave energy"
          },
          "type": "Feature"
         },
         {
          "geometry": {
           "coordinates": [
            [
             -121.57520790499996,
             36.026529813000025
            ],
            [
             -121.57520256599997,
             36.027027512000075
            ],
            [
             -121.57520448399998,
             36.02718279800007
            ],
            [
             -121.57520749699995,
             36.02725838600003
            ],
            [
             -121.57521268299996,
             36.02733180400003
            ],
            [
             -121.575220909,
             36.027402180000024
            ],
            [
             -121.57523333799998,
             36.027468354000064
            ],
            [
             -121.57525149199995,
             36.02752880200006
            ],
            [
             -121.57527734799999,
             36.02758154900005
            ],
            [
             -121.57530669399995,
             36.02761957700005
            ],
            [
             -121.57553043499996,
             36.02786745100008
            ],
            [
             -121.57556648599996,
             36.02789877300006
            ],
            [
             -121.57571190099998,
             36.028022855000074
            ],
            [
             -121.57591619399994,
             36.02822280400005
            ],
            [
             -121.57598400999996,
             36.028289734000055
            ],
            [
             -121.57618699099999,
             36.02849099400004
            ],
            [
             -121.57672825199995,
             36.02902771300006
            ],
            [
             -121.57679537099995,
             36.029095340000026
            ],
            [
             -121.57698696199998,
             36.02930799100005
            ],
            [
             -121.57701751099995,
             36.02934481600005
            ],
            [
             -121.57755821299997,
             36.030151585000056
            ],
            [
             -121.57758466899998,
             36.030204980000065
            ],
            [
             -121.57760323399998,
             36.03026626600007
            ],
            [
             -121.577615961,
             36.030333391000056
            ],
            [
             -121.577624416,
             36.03040478400004
            ],
            [
             -121.57762980099994,
             36.03047924900005
            ],
            [
             -121.57763300499994,
             36.03055589500008
            ],
            [
             -121.57763531899997,
             36.03071328200008
            ],
            [
             -121.57763471599998,
             36.03087358800008
            ],
            [
             -121.577627184,
             36.03151992000005
            ],
            [
             -121.57762773499996,
             36.031679068000074
            ],
            [
             -121.57763260299998,
             36.03183390400005
            ],
            [
             -121.57763797499996,
             36.03190838000006
            ],
            [
             -121.577646416,
             36.03197978800006
            ],
            [
             -121.57765912299999,
             36.03204693400005
            ],
            [
             -121.57767766299997,
             36.03210824200005
            ],
            [
             -121.57770408799996,
             36.03216167000005
            ],
            [
             -121.578243177,
             36.03297005200005
            ],
            [
             -121.57827401699996,
             36.03300658500007
            ],
            [
             -121.57830789199994,
             36.033040124000024
            ]
           ],
           "type": "LineString"
          },
          "id": "1",
          "properties": {
           "CHLOROPHYLL": 2.417483,
           "CSU_Descriptor": "steeply sloping, straight, medium erodibility, warm temperate dry, low river discharge, moderate wave energy, moderately tidal, euhaline-oxic-moderate to cool, clear, moderate chlorophyll",
           "CSU_ID": 70981,
           "Cluster": 6,
           "EMU_PHYSICAL": "Euhaline-Oxic-Moderate to Cool",
           "ERODIBILITY": "Medium",
           "GHM": 0.146464,
           "LENGTH_GEO": 806.7668657015857,
           "MAX_SLOPE": 103.730425,
           "MEAN_SIG_WAVEHEIGHT": 1.687268,
           "MasterKey": 2753654,
           "OBJECTID": 2753654,
           "OUTFLOW_DENSITY": 8671.790039,
           "OUTFLOW_DENSITY_RESCALED": 1.0484883786709782e-05,
           "REGIONAL_SINUOSITY": 1.270183,
           "RandomSort": 3099521.56752547,
           "Shape_Length": 0.007612041356096052,
           "TEMP_MOISTURE": "Warm Temperate Dry",
           "TIDAL_RANGE": 2.416656,
           "TURBIDITY": 0.027483,
           "chl_label": "moderate chlorophyll",
           "river_label": "low river discharge",
           "sinuosity_label": "straight",
           "slope_label": "steeply sloping",
           "style": {
            "color": "yellow",
            "dashArray": "5",
            "fillOpacity": 0.5,
            "fill_color": "yellow",
            "opacity": 1,
            "weight": 4
           },
           "tidal_label": "moderately tidal",
           "turbid_label": "clear",
           "wave_label": "moderate wave energy"
          },
          "type": "Feature"
         },
         {
          "geometry": {
           "coordinates": [
            [
             -121.57830789199994,
             36.033040124000024
            ],
            [
             -121.57847714399998,
             36.03320770100004
            ],
            [
             -121.57851404999997,
             36.033238167000036
            ],
            [
             -121.57856358099997,
             36.033265637000056
            ],
            [
             -121.57861918999998,
             36.03328702600004
            ],
            [
             -121.57879790799996,
             36.03333930200006
            ],
            [
             -121.57885379499999,
             36.03336041500006
            ],
            [
             -121.578903793,
             36.03338741600004
            ],
            [
             -121.57894131999996,
             36.03341726100007
            ],
            [
             -121.57919412099994,
             36.03363607600005
            ],
            [
             -121.57922609199994,
             36.03367147800003
            ],
            [
             -121.579416429,
             36.03388538300004
            ],
            [
             -121.57944538999999,
             36.03392379700006
            ],
            [
             -121.57947095199995,
             36.033977496000034
            ],
            [
             -121.57948868799997,
             36.03403902400004
            ],
            [
             -121.57950062999998,
             36.03410634800008
            ],
            [
             -121.57950834999997,
             36.034177888000045
            ],
            [
             -121.57951306499996,
             36.03425243600003
            ],
            [
             -121.57951570499995,
             36.03432906000006
            ],
            [
             -121.57951968199995,
             36.034721396000066
            ],
            [
             -121.57952232499997,
             36.03479802000004
            ],
            [
             -121.57952703999996,
             36.03487256500006
            ],
            [
             -121.57953476699998,
             36.03494410400003
            ],
            [
             -121.57954671099998,
             36.035011422000025
            ],
            [
             -121.57956445199994,
             36.035072944000035
            ],
            [
             -121.57959002099994,
             36.035126637000076
            ],
            [
             -121.57961898899998,
             36.03516504300006
            ],
            [
             -121.57980941499994,
             36.03537885900005
            ],
            [
             -121.57984141399999,
             36.035414235000076
            ],
            [
             -121.58009459999994,
             36.03563266300006
            ],
            [
             -121.58013222399995,
             36.03566241300007
            ],
            [
             -121.58018234899998,
             36.03568928800007
            ],
            [
             -121.58023837899998,
             36.035710255000026
            ],
            [
             -121.58041762899995,
             36.03576200100008
            ],
            [
             -121.58047343199996,
             36.03578319500008
            ],
            [
             -121.58052314499997,
             36.03581047900008
            ],
            [
             -121.58056019099996,
             36.035840810000025
            ],
            [
             -121.58076169399999,
             36.036043548000066
            ],
            [
             -121.58079120599996,
             36.036081410000065
            ],
            [
             -121.58081790099999,
             36.03613556300007
            ],
            [
             -121.58083678699995,
             36.036197526000024
            ],
            [
             -121.58085029199998,
             36.036264870000025
            ],
            [
             -121.58086041899998,
             36.03633559000008
            ],
            [
             -121.580877263,
             36.03648044300007
            ],
            [
             -121.58088707399997,
             36.03655148400003
            ],
            [
             -121.58089994199997,
             36.03661946300008
            ],
            [
             -121.58091770799996,
             36.036682547000055
            ],
            [
             -121.580942543,
             36.03673856000006
            ],
            [
             -121.58115813499995,
             36.037177479000036
            ],
            [
             -121.58142878927202,
             36.037698
            ]
           ],
           "type": "LineString"
          },
          "id": "2",
          "properties": {
           "CHLOROPHYLL": 2.417483,
           "CSU_Descriptor": "steeply sloping, straight, medium erodibility, warm temperate dry, low river discharge, moderate wave energy, moderately tidal, euhaline-oxic-moderate to cool, clear, moderate chlorophyll",
           "CSU_ID": 70981,
           "Cluster": 6,
           "EMU_PHYSICAL": "Euhaline-Oxic-Moderate to Cool",
           "ERODIBILITY": "Medium",
           "GHM": 0.05515,
           "LENGTH_GEO": 807.0250844845444,
           "MAX_SLOPE": 142.136371,
           "MEAN_SIG_WAVEHEIGHT": 1.687268,
           "MasterKey": 2753653,
           "OBJECTID": 2753653,
           "OUTFLOW_DENSITY": 8671.790039,
           "OUTFLOW_DENSITY_RESCALED": 1.0484883786709782e-05,
           "REGIONAL_SINUOSITY": 1.270183,
           "RandomSort": 2236153.50697766,
           "Shape_Length": 0.007766900691011992,
           "TEMP_MOISTURE": "Warm Temperate Dry",
           "TIDAL_RANGE": 2.416656,
           "TURBIDITY": 0.027483,
           "chl_label": "moderate chlorophyll",
           "river_label": "low river discharge",
           "sinuosity_label": "straight",
           "slope_label": "steeply sloping",
           "style": {
            "color": "yellow",
            "dashArray": "5",
            "fillOpacity": 0.5,
            "fill_color": "yellow",
            "opacity": 1,
            "weight": 4
           },
           "tidal_label": "moderately tidal",
           "turbid_label": "clear",
           "wave_label": "moderate wave energy"
          },
          "type": "Feature"
         },
         {
          "geometry": {
           "coordinates": [
            [
             -121.57358129339802,
             36.023474
            ],
            [
             -121.57376563399998,
             36.02363599800003
            ],
            [
             -121.573833429,
             36.02370294900004
            ],
            [
             -121.57402528899996,
             36.02391533100007
            ],
            [
             -121.57405580499994,
             36.023952190000045
            ],
            [
             -121.57408353399995,
             36.02400145900003
            ],
            [
             -121.57432162899994,
             36.02449485000005
            ],
            [
             -121.57434647699995,
             36.024550850000026
            ],
            [
             -121.57436429699999,
             36.02461387900007
            ],
            [
             -121.57437726399996,
             36.02468176000008
            ],
            [
             -121.57438721499994,
             36.02475265700008
            ],
            [
             -121.57440445699996,
             36.024897112000076
            ],
            [
             -121.57441481399997,
             36.02496760200006
            ],
            [
             -121.57442853899994,
             36.02503472500007
            ],
            [
             -121.57444759499998,
             36.025096519000044
            ],
            [
             -121.57447435399996,
             36.02515060800005
            ],
            [
             -121.57450377099997,
             36.025188565000065
            ],
            [
             -121.57469578599995,
             36.02540079100004
            ],
            [
             -121.57472788499996,
             36.025436065000065
            ],
            [
             -121.57476416799994,
             36.02546715500006
            ],
            [
             -121.57484172099998,
             36.02552435000007
            ],
            [
             -121.574878088,
             36.02555535800008
            ],
            [
             -121.57491032299998,
             36.02559049600006
            ],
            [
             -121.57510371399997,
             36.02580134800007
            ],
            [
             -121.57513323199998,
             36.02583920300003
            ],
            [
             -121.57515925999996,
             36.02589177700003
            ],
            [
             -121.57517755699996,
             36.02595208300005
            ],
            [
             -121.57519010399994,
             36.02601813800004
            ],
            [
             -121.575198431,
             36.02608841500006
            ],
            [
             -121.57520369599996,
             36.02616175300005
            ],
            [
             -121.57520830899995,
             36.02631434400007
            ],
            [
             -121.57520853299997,
             36.026471326000035
            ],
            [
             -121.57520790499996,
             36.026529813000025
            ]
           ],
           "type": "LineString"
          },
          "id": "3",
          "properties": {
           "CHLOROPHYLL": 2.417483,
           "CSU_Descriptor": "steeply sloping, straight, medium erodibility, warm temperate dry, low river discharge, moderate wave energy, moderately tidal, euhaline-oxic-moderate to cool, clear, moderate chlorophyll",
           "CSU_ID": 70981,
           "Cluster": 6,
           "EMU_PHYSICAL": "Euhaline-Oxic-Moderate to Cool",
           "ERODIBILITY": "Medium",
           "GHM": 0.146464,
           "LENGTH_GEO": 807.570325164452,
           "MAX_SLOPE": 80.713103,
           "MEAN_SIG_WAVEHEIGHT": 1.687268,
           "MasterKey": 2753655,
           "OBJECTID": 2753655,
           "OUTFLOW_DENSITY": 8671.790039,
           "OUTFLOW_DENSITY_RESCALED": 1.0484883786709782e-05,
           "REGIONAL_SINUOSITY": 1.270183,
           "RandomSort": 1322999.00735509,
           "Shape_Length": 0.00797607602451941,
           "TEMP_MOISTURE": "Warm Temperate Dry",
           "TIDAL_RANGE": 2.416656,
           "TURBIDITY": 0.027483,
           "chl_label": "moderate chlorophyll",
           "river_label": "low river discharge",
           "sinuosity_label": "straight",
           "slope_label": "steeply sloping",
           "style": {
            "color": "yellow",
            "dashArray": "5",
            "fillOpacity": 0.5,
            "fill_color": "yellow",
            "opacity": 1,
            "weight": 4
           },
           "tidal_label": "moderately tidal",
           "turbid_label": "clear",
           "wave_label": "moderate wave energy"
          },
          "type": "Feature"
         },
         {
          "geometry": {
           "coordinates": [
            [
             -121.57520790499996,
             36.026529813000025
            ],
            [
             -121.57520256599997,
             36.027027512000075
            ],
            [
             -121.57520448399998,
             36.02718279800007
            ],
            [
             -121.57520749699995,
             36.02725838600003
            ],
            [
             -121.57521268299996,
             36.02733180400003
            ],
            [
             -121.575220909,
             36.027402180000024
            ],
            [
             -121.57523333799998,
             36.027468354000064
            ],
            [
             -121.57525149199995,
             36.02752880200006
            ],
            [
             -121.57527734799999,
             36.02758154900005
            ],
            [
             -121.57530669399995,
             36.02761957700005
            ],
            [
             -121.57553043499996,
             36.02786745100008
            ],
            [
             -121.57556648599996,
             36.02789877300006
            ],
            [
             -121.57571190099998,
             36.028022855000074
            ],
            [
             -121.57591619399994,
             36.02822280400005
            ],
            [
             -121.57598400999996,
             36.028289734000055
            ],
            [
             -121.57618699099999,
             36.02849099400004
            ],
            [
             -121.57672825199995,
             36.02902771300006
            ],
            [
             -121.57679537099995,
             36.029095340000026
            ],
            [
             -121.57698696199998,
             36.02930799100005
            ],
            [
             -121.57701751099995,
             36.02934481600005
            ],
            [
             -121.57755821299997,
             36.030151585000056
            ],
            [
             -121.57758466899998,
             36.030204980000065
            ],
            [
             -121.57760323399998,
             36.03026626600007
            ],
            [
             -121.577615961,
             36.030333391000056
            ],
            [
             -121.577624416,
             36.03040478400004
            ],
            [
             -121.57762980099994,
             36.03047924900005
            ],
            [
             -121.57763300499994,
             36.03055589500008
            ],
            [
             -121.57763531899997,
             36.03071328200008
            ],
            [
             -121.57763471599998,
             36.03087358800008
            ],
            [
             -121.577627184,
             36.03151992000005
            ],
            [
             -121.57762773499996,
             36.031679068000074
            ],
            [
             -121.57763260299998,
             36.03183390400005
            ],
            [
             -121.57763797499996,
             36.03190838000006
            ],
            [
             -121.577646416,
             36.03197978800006
            ],
            [
             -121.57765912299999,
             36.03204693400005
            ],
            [
             -121.57767766299997,
             36.03210824200005
            ],
            [
             -121.57770408799996,
             36.03216167000005
            ],
            [
             -121.578243177,
             36.03297005200005
            ],
            [
             -121.57827401699996,
             36.03300658500007
            ],
            [
             -121.57830789199994,
             36.033040124000024
            ]
           ],
           "type": "LineString"
          },
          "id": "4",
          "properties": {
           "CHLOROPHYLL": 2.417483,
           "CSU_Descriptor": "steeply sloping, straight, medium erodibility, warm temperate dry, low river discharge, moderate wave energy, moderately tidal, euhaline-oxic-moderate to cool, clear, moderate chlorophyll",
           "CSU_ID": 70981,
           "Cluster": 6,
           "EMU_PHYSICAL": "Euhaline-Oxic-Moderate to Cool",
           "ERODIBILITY": "Medium",
           "GHM": 0.146464,
           "LENGTH_GEO": 806.7668657015857,
           "MAX_SLOPE": 103.730425,
           "MEAN_SIG_WAVEHEIGHT": 1.687268,
           "MasterKey": 2753654,
           "OBJECTID": 2753654,
           "OUTFLOW_DENSITY": 8671.790039,
           "OUTFLOW_DENSITY_RESCALED": 1.0484883786709782e-05,
           "REGIONAL_SINUOSITY": 1.270183,
           "RandomSort": 3099521.56752547,
           "Shape_Length": 0.007612041356096052,
           "TEMP_MOISTURE": "Warm Temperate Dry",
           "TIDAL_RANGE": 2.416656,
           "TURBIDITY": 0.027483,
           "chl_label": "moderate chlorophyll",
           "river_label": "low river discharge",
           "sinuosity_label": "straight",
           "slope_label": "steeply sloping",
           "style": {
            "color": "yellow",
            "dashArray": "5",
            "fillOpacity": 0.5,
            "fill_color": "yellow",
            "opacity": 1,
            "weight": 4
           },
           "tidal_label": "moderately tidal",
           "turbid_label": "clear",
           "wave_label": "moderate wave energy"
          },
          "type": "Feature"
         },
         {
          "geometry": {
           "coordinates": [
            [
             -121.57830789199994,
             36.033040124000024
            ],
            [
             -121.57847714399998,
             36.03320770100004
            ],
            [
             -121.57851404999997,
             36.033238167000036
            ],
            [
             -121.57856358099997,
             36.033265637000056
            ],
            [
             -121.57861918999998,
             36.03328702600004
            ],
            [
             -121.57879790799996,
             36.03333930200006
            ],
            [
             -121.57885379499999,
             36.03336041500006
            ],
            [
             -121.578903793,
             36.03338741600004
            ],
            [
             -121.57894131999996,
             36.03341726100007
            ],
            [
             -121.57919412099994,
             36.03363607600005
            ],
            [
             -121.57922609199994,
             36.03367147800003
            ],
            [
             -121.579416429,
             36.03388538300004
            ],
            [
             -121.57944538999999,
             36.03392379700006
            ],
            [
             -121.57947095199995,
             36.033977496000034
            ],
            [
             -121.57948868799997,
             36.03403902400004
            ],
            [
             -121.57950062999998,
             36.03410634800008
            ],
            [
             -121.57950834999997,
             36.034177888000045
            ],
            [
             -121.57951306499996,
             36.03425243600003
            ],
            [
             -121.57951570499995,
             36.03432906000006
            ],
            [
             -121.57951968199995,
             36.034721396000066
            ],
            [
             -121.57952232499997,
             36.03479802000004
            ],
            [
             -121.57952703999996,
             36.03487256500006
            ],
            [
             -121.57953476699998,
             36.03494410400003
            ],
            [
             -121.57954671099998,
             36.035011422000025
            ],
            [
             -121.57956445199994,
             36.035072944000035
            ],
            [
             -121.57959002099994,
             36.035126637000076
            ],
            [
             -121.57961898899998,
             36.03516504300006
            ],
            [
             -121.57980941499994,
             36.03537885900005
            ],
            [
             -121.57984141399999,
             36.035414235000076
            ],
            [
             -121.58009459999994,
             36.03563266300006
            ],
            [
             -121.58013222399995,
             36.03566241300007
            ],
            [
             -121.58018234899998,
             36.03568928800007
            ],
            [
             -121.58023837899998,
             36.035710255000026
            ],
            [
             -121.58041762899995,
             36.03576200100008
            ],
            [
             -121.58047343199996,
             36.03578319500008
            ],
            [
             -121.58052314499997,
             36.03581047900008
            ],
            [
             -121.58056019099996,
             36.035840810000025
            ],
            [
             -121.58076169399999,
             36.036043548000066
            ],
            [
             -121.58079120599996,
             36.036081410000065
            ],
            [
             -121.58081790099999,
             36.03613556300007
            ],
            [
             -121.58083678699995,
             36.036197526000024
            ],
            [
             -121.58085029199998,
             36.036264870000025
            ],
            [
             -121.58086041899998,
             36.03633559000008
            ],
            [
             -121.580877263,
             36.03648044300007
            ],
            [
             -121.58088707399997,
             36.03655148400003
            ],
            [
             -121.58089994199997,
             36.03661946300008
            ],
            [
             -121.58091770799996,
             36.036682547000055
            ],
            [
             -121.580942543,
             36.03673856000006
            ],
            [
             -121.58115813499995,
             36.037177479000036
            ],
            [
             -121.58142878927202,
             36.037698
            ]
           ],
           "type": "LineString"
          },
          "id": "5",
          "properties": {
           "CHLOROPHYLL": 2.417483,
           "CSU_Descriptor": "steeply sloping, straight, medium erodibility, warm temperate dry, low river discharge, moderate wave energy, moderately tidal, euhaline-oxic-moderate to cool, clear, moderate chlorophyll",
           "CSU_ID": 70981,
           "Cluster": 6,
           "EMU_PHYSICAL": "Euhaline-Oxic-Moderate to Cool",
           "ERODIBILITY": "Medium",
           "GHM": 0.05515,
           "LENGTH_GEO": 807.0250844845444,
           "MAX_SLOPE": 142.136371,
           "MEAN_SIG_WAVEHEIGHT": 1.687268,
           "MasterKey": 2753653,
           "OBJECTID": 2753653,
           "OUTFLOW_DENSITY": 8671.790039,
           "OUTFLOW_DENSITY_RESCALED": 1.0484883786709782e-05,
           "REGIONAL_SINUOSITY": 1.270183,
           "RandomSort": 2236153.50697766,
           "Shape_Length": 0.007766900691011992,
           "TEMP_MOISTURE": "Warm Temperate Dry",
           "TIDAL_RANGE": 2.416656,
           "TURBIDITY": 0.027483,
           "chl_label": "moderate chlorophyll",
           "river_label": "low river discharge",
           "sinuosity_label": "straight",
           "slope_label": "steeply sloping",
           "style": {
            "color": "yellow",
            "dashArray": "5",
            "fillOpacity": 0.5,
            "fill_color": "yellow",
            "opacity": 1,
            "weight": 4
           },
           "tidal_label": "moderately tidal",
           "turbid_label": "clear",
           "wave_label": "moderate wave energy"
          },
          "type": "Feature"
         }
        ],
        "type": "FeatureCollection"
       },
       "hover_style": {
        "color": "white",
        "dashArray": "4",
        "fillOpacity": 0.7
       },
       "name": "us_county349_ref_shoreline_province1257_ref_shoreline_W_USA_California_ref_shoreline",
       "style": {
        "color": "yellow",
        "dashArray": "5",
        "fillOpacity": 0.5,
        "fill_color": "yellow",
        "opacity": 1,
        "weight": 4
       }
      }
     },
     "5a2c351e928b4cc69d722c7858f97311": {
      "model_module": "@jupyter-widgets/base",
      "model_module_version": "1.2.0",
      "model_name": "LayoutModel",
      "state": {}
     },
     "5c9a9ca2d76e478b8802ede29da4dc38": {
      "model_module": "@jupyter-widgets/controls",
      "model_module_version": "1.5.0",
      "model_name": "HBoxModel",
      "state": {
       "children": [
        "IPY_MODEL_0f08d2dd1e8640469d2ede220f53373b",
        "IPY_MODEL_5179964d5be34d99abe358a6b6ace355",
        "IPY_MODEL_b99d5059756a4093874ed96da1c9b59e",
        "IPY_MODEL_2aa634ba4d9542ada02288446907261f",
        "IPY_MODEL_b5796f6babfc477d8ebbd654797ca796"
       ],
       "layout": "IPY_MODEL_a9e3a269b53d4e478e1524272e7d6574"
      }
     },
     "5ca76e6208824495b76b2fdea117c572": {
      "model_module": "jupyter-leaflet",
      "model_module_version": "^0.17.0",
      "model_name": "LeafletTileLayerModel",
      "state": {
       "_model_module_version": "^0.17.0",
       "_view_module_version": "^0.17.0",
       "attribution": "Imagery provided by services from the Global Imagery Browse Services (GIBS), operated by the NASA/GSFC/Earth Science Data and Information System (ESDIS) with funding provided by NASA/HQ.",
       "max_zoom": 9,
       "name": "NASAGIBS.ModisAquaBands721CR",
       "options": [
        "attribution",
        "bounds",
        "detect_retina",
        "max_native_zoom",
        "max_zoom",
        "min_native_zoom",
        "min_zoom",
        "no_wrap",
        "tile_size",
        "tms"
       ],
       "url": "https://gibs.earthdata.nasa.gov/wmts/epsg3857/best/MODIS_Aqua_CorrectedReflectance_Bands721/default//GoogleMapsCompatible_Level9/{z}/{y}/{x}.jpg"
      }
     },
     "5cbb8d53e1534477a2cead706907764a": {
      "model_module": "jupyter-leaflet",
      "model_module_version": "^0.17.0",
      "model_name": "LeafletTileLayerModel",
      "state": {
       "_model_module_version": "^0.17.0",
       "_view_module_version": "^0.17.0",
       "attribution": "Map data: (C) OpenStreetMap contributors | Map style: (C) OpenRailwayMap (CC-BY-SA)",
       "max_zoom": 19,
       "name": "OpenRailwayMap",
       "options": [
        "attribution",
        "bounds",
        "detect_retina",
        "max_native_zoom",
        "max_zoom",
        "min_native_zoom",
        "min_zoom",
        "no_wrap",
        "tile_size",
        "tms"
       ],
       "url": "https://a.tiles.openrailwaymap.org/standard/{z}/{x}/{y}.png"
      }
     },
     "5dae730bbe24466a8fc92a2e2a238f1f": {
      "model_module": "@jupyter-widgets/controls",
      "model_module_version": "1.5.0",
      "model_name": "DescriptionStyleModel",
      "state": {
       "description_width": ""
      }
     },
     "5df9570eb26e4bb093b9801f961c8b38": {
      "model_module": "@jupyter-widgets/base",
      "model_module_version": "1.2.0",
      "model_name": "LayoutModel",
      "state": {
       "border": "1px solid black"
      }
     },
     "5ee49a4655ba47c09bc88545baf9be2f": {
      "model_module": "jupyter-leaflet",
      "model_module_version": "^0.17.0",
      "model_name": "LeafletTileLayerModel",
      "state": {
       "_model_module_version": "^0.17.0",
       "_view_module_version": "^0.17.0",
       "attribution": "Google",
       "max_zoom": 22,
       "name": "Google Satellite",
       "options": [
        "attribution",
        "bounds",
        "detect_retina",
        "max_native_zoom",
        "max_zoom",
        "min_native_zoom",
        "min_zoom",
        "no_wrap",
        "tile_size",
        "tms"
       ],
       "url": "https://mt1.google.com/vt/lyrs=y&x={x}&y={y}&z={z}"
      }
     },
     "5ef71da9ff3d43d481a5cc4f804d31ad": {
      "model_module": "jupyter-leaflet",
      "model_module_version": "^0.17.0",
      "model_name": "LeafletTileLayerModel",
      "state": {
       "_model_module_version": "^0.17.0",
       "_view_module_version": "^0.17.0",
       "attribution": "Imagery provided by services from the Global Imagery Browse Services (GIBS), operated by the NASA/GSFC/Earth Science Data and Information System (ESDIS) with funding provided by NASA/HQ.",
       "max_zoom": 5,
       "name": "NASAGIBS.BlueMarble3413",
       "options": [
        "attribution",
        "bounds",
        "detect_retina",
        "max_native_zoom",
        "max_zoom",
        "min_native_zoom",
        "min_zoom",
        "no_wrap",
        "tile_size",
        "tms"
       ],
       "url": "https://gibs.earthdata.nasa.gov/wmts/epsg3413/best/BlueMarble_NextGeneration/default/EPSG3413_500m/{z}/{y}/{x}.jpeg"
      }
     },
     "5f85eb0a963a4a9e87cb994926293f3d": {
      "model_module": "jupyter-leaflet",
      "model_module_version": "^0.17.0",
      "model_name": "LeafletMapModel",
      "state": {
       "_model_module_version": "^0.17.0",
       "_view_module_version": "^0.17.0",
       "bottom": 206236,
       "center": [
        35.96934451903546,
        -121.20358970994945
       ],
       "controls": [
        "IPY_MODEL_3223417e263943fda5f495d1ee410f9b",
        "IPY_MODEL_40d8756d82694d18b360c6e1229a91fa",
        "IPY_MODEL_ae83e575da684ca3ac94c903c3311513",
        "IPY_MODEL_04e0d51ff90240e08e0d199c3a844a8b",
        "IPY_MODEL_8e8bddef0618401c9a198e5cd7db9a42",
        "IPY_MODEL_cbb1cba8076f40509733dfdbff0dc3bb",
        "IPY_MODEL_238b485d14854703b6c0f3a61a0f5133"
       ],
       "default_style": "IPY_MODEL_12a8c08181ff4d0980c3ba27fa9afe70",
       "dragging_style": "IPY_MODEL_66460d8190fc4cf7b3fc95daf4a3bfe5",
       "east": -120.76377868652345,
       "fullscreen": false,
       "interpolation": "bilinear",
       "layers": [
        "IPY_MODEL_a49dea8f6d01426d928e914c3a130b12",
        "IPY_MODEL_5a1a4a4fc8584bdd909ca494e1a7555d",
        "IPY_MODEL_82b0210e0b8c457b8693e0f25531da81",
        "IPY_MODEL_19f5dc6b8df145ee9b2e672d8872734d"
       ],
       "layout": "IPY_MODEL_38a057fb67fa42c28fe8648adbb24e3c",
       "left": 84987,
       "max_zoom": 24,
       "modisdate": "2022-08-22",
       "north": 36.13565654678543,
       "options": [
        "bounce_at_zoom_limits",
        "box_zoom",
        "center",
        "close_popup_on_click",
        "double_click_zoom",
        "dragging",
        "fullscreen",
        "inertia",
        "inertia_deceleration",
        "inertia_max_speed",
        "interpolation",
        "keyboard",
        "keyboard_pan_offset",
        "keyboard_zoom_offset",
        "max_zoom",
        "min_zoom",
        "prefer_canvas",
        "scroll_wheel_zoom",
        "tap",
        "tap_tolerance",
        "touch_zoom",
        "world_copy_jump",
        "zoom",
        "zoom_animation_threshold",
        "zoom_delta",
        "zoom_snap"
       ],
       "prefer_canvas": false,
       "right": 86269,
       "scroll_wheel_zoom": true,
       "south": 35.80222155213377,
       "style": "IPY_MODEL_12a8c08181ff4d0980c3ba27fa9afe70",
       "top": 205636,
       "west": -121.64405822753908,
       "window_url": "http://localhost:8889/lab/tree/app.ipynb",
       "zoom": 11
      }
     },
     "60b972e6806b4eb591c307e707343522": {
      "model_module": "@jupyter-widgets/controls",
      "model_module_version": "1.5.0",
      "model_name": "ToggleButtonModel",
      "state": {
       "button_style": "primary",
       "icon": "download",
       "layout": "IPY_MODEL_b572d19d85424963b56051892d480d53",
       "style": "IPY_MODEL_0a2c697acfe44596bef0b0729b71c850",
       "tooltip": "Download OSM data"
      }
     },
     "614373223bd34af8b700f0aef0d3958c": {
      "model_module": "jupyter-leaflet",
      "model_module_version": "^0.17.0",
      "model_name": "LeafletTileLayerModel",
      "state": {
       "_model_module_version": "^0.17.0",
       "_view_module_version": "^0.17.0",
       "attribution": "(C) OpenStreetMap contributors (C) CARTO",
       "max_zoom": 20,
       "name": "CartoDB.PositronNoLabels",
       "options": [
        "attribution",
        "bounds",
        "detect_retina",
        "max_native_zoom",
        "max_zoom",
        "min_native_zoom",
        "min_zoom",
        "no_wrap",
        "tile_size",
        "tms"
       ],
       "url": "https://a.basemaps.cartocdn.com/light_nolabels/{z}/{x}/{y}.png"
      }
     },
     "6164f951e9214fecbaac31bed530988a": {
      "model_module": "jupyter-leaflet",
      "model_module_version": "^0.17.0",
      "model_name": "LeafletTileLayerModel",
      "state": {
       "_model_module_version": "^0.17.0",
       "_view_module_version": "^0.17.0",
       "attribution": "(C) Stadia Maps, (C) OpenMapTiles (C) OpenStreetMap contributors",
       "max_zoom": 20,
       "name": "Stadia.AlidadeSmooth",
       "options": [
        "attribution",
        "bounds",
        "detect_retina",
        "max_native_zoom",
        "max_zoom",
        "min_native_zoom",
        "min_zoom",
        "no_wrap",
        "tile_size",
        "tms"
       ],
       "url": "https://tiles.stadiamaps.com/tiles/alidade_smooth/{z}/{x}/{y}.png"
      }
     },
     "6168f3cdcadb458bb2ece685650cd16b": {
      "model_module": "jupyter-leaflet",
      "model_module_version": "^0.17.0",
      "model_name": "LeafletTileLayerModel",
      "state": {
       "_model_module_version": "^0.17.0",
       "_view_module_version": "^0.17.0",
       "attribution": "Imagery provided by services from the Global Imagery Browse Services (GIBS), operated by the NASA/GSFC/Earth Science Data and Information System (ESDIS) with funding provided by NASA/HQ.",
       "max_zoom": 9,
       "name": "NASAGIBS.ModisAquaTrueColorCR",
       "options": [
        "attribution",
        "bounds",
        "detect_retina",
        "max_native_zoom",
        "max_zoom",
        "min_native_zoom",
        "min_zoom",
        "no_wrap",
        "tile_size",
        "tms"
       ],
       "url": "https://gibs.earthdata.nasa.gov/wmts/epsg3857/best/MODIS_Aqua_CorrectedReflectance_TrueColor/default//GoogleMapsCompatible_Level9/{z}/{y}/{x}.jpg"
      }
     },
     "6376c718e460483caa987ddccf8ad6cd": {
      "model_module": "jupyter-leaflet",
      "model_module_version": "^0.17.0",
      "model_name": "LeafletTileLayerModel",
      "state": {
       "_model_module_version": "^0.17.0",
       "_view_module_version": "^0.17.0",
       "attribution": "(C) OpenStreetMap contributors",
       "name": "OpenStreetMap.CH",
       "options": [
        "attribution",
        "bounds",
        "detect_retina",
        "max_native_zoom",
        "max_zoom",
        "min_native_zoom",
        "min_zoom",
        "no_wrap",
        "tile_size",
        "tms"
       ],
       "url": "https://tile.osm.ch/switzerland/{z}/{x}/{y}.png"
      }
     },
     "64fb96c7d1fb489f8aa27d3b6881e46e": {
      "model_module": "@jupyter-widgets/controls",
      "model_module_version": "1.5.0",
      "model_name": "ToggleButtonModel",
      "state": {
       "button_style": "primary",
       "icon": "picture-o",
       "layout": "IPY_MODEL_b3e78d7cad124d7fb7278f9782581ee4",
       "style": "IPY_MODEL_c826305eff804c52abf0b9061646109c",
       "tooltip": "Open COG/STAC dataset"
      }
     },
     "6518b6eac7424064bf8f45ba6852f809": {
      "model_module": "jupyter-leaflet",
      "model_module_version": "^0.17.0",
      "model_name": "LeafletTileLayerModel",
      "state": {
       "_model_module_version": "^0.17.0",
       "_view_module_version": "^0.17.0",
       "attribution": "![](https://docs.onemap.sg/maps/images/oneMap64-01.png) New OneMap | Map data (C) contributors, Singapore Land Authority",
       "name": "OneMapSG.Night",
       "options": [
        "attribution",
        "bounds",
        "detect_retina",
        "max_native_zoom",
        "max_zoom",
        "min_native_zoom",
        "min_zoom",
        "no_wrap",
        "tile_size",
        "tms"
       ],
       "url": "https://maps-a.onemap.sg/v3/Night/{z}/{x}/{y}.png"
      }
     },
     "65334d13bdfc4fdb99e0acd47f16e8f8": {
      "model_module": "ipyevents",
      "model_module_version": "2.0.1",
      "model_name": "EventModel",
      "state": {
       "_supported_key_events": [
        "keydown",
        "keyup"
       ],
       "_supported_mouse_events": [
        "click",
        "auxclick",
        "dblclick",
        "mouseenter",
        "mouseleave",
        "mousedown",
        "mouseup",
        "mousemove",
        "wheel",
        "contextmenu",
        "dragstart",
        "drag",
        "dragend",
        "dragenter",
        "dragover",
        "dragleave",
        "drop"
       ],
       "_supported_touch_events": [
        "touchstart",
        "touchend",
        "touchmove",
        "touchcancel"
       ],
       "_view_module": "@jupyter-widgets/controls",
       "_view_module_version": "1.5.0",
       "source": "IPY_MODEL_40ffb59cb2eb4470af0dbc406e979556",
       "throttle_or_debounce": "",
       "watched_events": [
        "mouseenter",
        "mouseleave"
       ],
       "xy_coordinate_system": ""
      }
     },
     "6556be004297421b83e638246d46ff02": {
      "model_module": "@jupyter-widgets/controls",
      "model_module_version": "1.5.0",
      "model_name": "ToggleButtonModel",
      "state": {
       "button_style": "primary",
       "icon": "camera",
       "layout": "IPY_MODEL_b6b15c1ed9e64571906fe156631654c0",
       "style": "IPY_MODEL_5101ff28595f432795d4a3e72fbf9f6f",
       "tooltip": "Save map as HTML or image"
      }
     },
     "656163cfd7de45a1b9cdc5e6a5df3a6b": {
      "model_module": "jupyter-leaflet",
      "model_module_version": "^0.17.0",
      "model_name": "LeafletTileLayerModel",
      "state": {
       "_model_module_version": "^0.17.0",
       "_view_module_version": "^0.17.0",
       "attribution": "(C) OpenStreetMap contributors (C) CARTO",
       "max_zoom": 20,
       "name": "CartoDB.VoyagerNoLabels",
       "options": [
        "attribution",
        "bounds",
        "detect_retina",
        "max_native_zoom",
        "max_zoom",
        "min_native_zoom",
        "min_zoom",
        "no_wrap",
        "tile_size",
        "tms"
       ],
       "url": "https://a.basemaps.cartocdn.com/rastertiles/voyager_nolabels/{z}/{x}/{y}.png"
      }
     },
     "66460d8190fc4cf7b3fc95daf4a3bfe5": {
      "model_module": "jupyter-leaflet",
      "model_module_version": "^0.17.0",
      "model_name": "LeafletMapStyleModel",
      "state": {
       "_model_module_version": "^0.17.0",
       "cursor": "move"
      }
     },
     "6653054cc7144a0f89a515683cd24a2a": {
      "model_module": "@jupyter-widgets/controls",
      "model_module_version": "1.5.0",
      "model_name": "DescriptionStyleModel",
      "state": {
       "description_width": ""
      }
     },
     "67f8ab68a5954d91b35e4bb098e86035": {
      "model_module": "jupyter-leaflet",
      "model_module_version": "^0.17.0",
      "model_name": "LeafletTileLayerModel",
      "state": {
       "_model_module_version": "^0.17.0",
       "_view_module_version": "^0.17.0",
       "attribution": "(C) OpenStreetMap France | (C) OpenStreetMap contributors",
       "max_zoom": 20,
       "name": "OpenStreetMap.France",
       "options": [
        "attribution",
        "bounds",
        "detect_retina",
        "max_native_zoom",
        "max_zoom",
        "min_native_zoom",
        "min_zoom",
        "no_wrap",
        "tile_size",
        "tms"
       ],
       "url": "https://a.tile.openstreetmap.fr/osmfr/{z}/{x}/{y}.png"
      }
     },
     "68da07ea9a7f42ee93d8c386eb07d2d3": {
      "model_module": "@jupyter-widgets/base",
      "model_module_version": "1.2.0",
      "model_name": "LayoutModel",
      "state": {}
     },
     "6a25832447504a369d8c449b14b4171f": {
      "model_module": "@jupyter-widgets/controls",
      "model_module_version": "1.5.0",
      "model_name": "ButtonModel",
      "state": {
       "description": "Remove all",
       "layout": "IPY_MODEL_cd1d255fad5843c78c7fe09755f1e470",
       "style": "IPY_MODEL_bbd1c9704e5f4a968d2391132d1545bb"
      }
     },
     "6a6113dbc21441dd8e1bf8041203f8e5": {
      "model_module": "jupyter-leaflet",
      "model_module_version": "^0.17.0",
      "model_name": "LeafletTileLayerModel",
      "state": {
       "_model_module_version": "^0.17.0",
       "_view_module_version": "^0.17.0",
       "attribution": "Map tiles by <a href=\"https://labs.strava.com/heatmap\">Strava 2021</a>",
       "max_zoom": 15,
       "name": "Strava.Water",
       "options": [
        "attribution",
        "bounds",
        "detect_retina",
        "max_native_zoom",
        "max_zoom",
        "min_native_zoom",
        "min_zoom",
        "no_wrap",
        "tile_size",
        "tms"
       ],
       "url": "https://heatmap-external-a.strava.com/tiles/water/blue/{z}/{x}/{y}.png"
      }
     },
     "6a981578c92f423aadac34dc9055bd78": {
      "model_module": "@jupyter-widgets/controls",
      "model_module_version": "1.5.0",
      "model_name": "ButtonStyleModel",
      "state": {}
     },
     "6ad6e9ae57cc4c74a0d6021fc70c381f": {
      "model_module": "@jupyter-widgets/controls",
      "model_module_version": "1.5.0",
      "model_name": "VBoxModel",
      "state": {
       "children": [
        "IPY_MODEL_c19efa4f38d14f13a26776b313f7a616",
        "IPY_MODEL_83645dc247ed439d84edfda3cfba7ebf",
        "IPY_MODEL_b283bda3c776466c9fc1a32256c64444"
       ],
       "layout": "IPY_MODEL_54477d8f00774c29903cfd30a4b93198"
      }
     },
     "6ad9b6afe8764f23984468fbeb8bdacf": {
      "model_module": "@jupyter-widgets/controls",
      "model_module_version": "1.5.0",
      "model_name": "ToggleButtonModel",
      "state": {
       "button_style": "primary",
       "icon": "folder-open",
       "layout": "IPY_MODEL_19db547660e348398f62c96a392815af",
       "style": "IPY_MODEL_90ebc0c639524abe8bc0a1f26e3120e5",
       "tooltip": "Open local vector/raster data"
      }
     },
     "6b38313ec22b4cb2b4f4a14fcc3191e3": {
      "model_module": "@jupyter-widgets/controls",
      "model_module_version": "1.5.0",
      "model_name": "ButtonStyleModel",
      "state": {}
     },
     "6b3917da4dd3447ca9e0855b37434b8d": {
      "model_module": "@jupyter-widgets/controls",
      "model_module_version": "1.5.0",
      "model_name": "DescriptionStyleModel",
      "state": {
       "description_width": ""
      }
     },
     "6bbebebbb03c423c96820d4787d2e2ba": {
      "model_module": "@jupyter-widgets/controls",
      "model_module_version": "1.5.0",
      "model_name": "ToggleButtonModel",
      "state": {
       "button_style": "primary",
       "icon": "map",
       "layout": "IPY_MODEL_3b801ac44b3548b1a9b21e58175b14bc",
       "style": "IPY_MODEL_562b8f62a5f048a0b4dede90d8da917b",
       "tooltip": "Change basemap"
      }
     },
     "6e12d79958bb43fe86ca5afebfc55ae6": {
      "model_module": "@jupyter-widgets/controls",
      "model_module_version": "1.5.0",
      "model_name": "ButtonStyleModel",
      "state": {}
     },
     "6f2feeb175034feb8623aa5862977485": {
      "model_module": "@jupyter-widgets/base",
      "model_module_version": "1.2.0",
      "model_name": "LayoutModel",
      "state": {
       "border": "1px solid black"
      }
     },
     "6f338797ca1e4edeb87b5fc79faa4280": {
      "model_module": "@jupyter-widgets/controls",
      "model_module_version": "1.5.0",
      "model_name": "ButtonModel",
      "state": {
       "description": "Run Model",
       "layout": "IPY_MODEL_9ef5e411c11241099957336382948216",
       "style": "IPY_MODEL_5194bf8a1448446b8636ff8426ed1835"
      }
     },
     "70c269bfc80e4c858043ce29585b556d": {
      "model_module": "@jupyter-widgets/base",
      "model_module_version": "1.2.0",
      "model_name": "LayoutModel",
      "state": {
       "height": "28px",
       "padding": "0px 0px 0px 4px",
       "width": "28px"
      }
     },
     "71401b7d795c469082215d981ba25839": {
      "model_module": "@jupyter-widgets/controls",
      "model_module_version": "1.5.0",
      "model_name": "DescriptionStyleModel",
      "state": {
       "description_width": ""
      }
     },
     "72280493c461420ca09086248a5460ff": {
      "model_module": "@jupyter-widgets/controls",
      "model_module_version": "1.5.0",
      "model_name": "DescriptionStyleModel",
      "state": {
       "description_width": ""
      }
     },
     "7287366fc5b84039bdb75d8d0fd159ba": {
      "model_module": "@jupyter-widgets/controls",
      "model_module_version": "1.5.0",
      "model_name": "ToggleButtonModel",
      "state": {
       "button_style": "primary",
       "icon": "gears",
       "layout": "IPY_MODEL_2d84aae76f8d45f79be11ce8baa3ca67",
       "style": "IPY_MODEL_9185a57811e646a48a28525f71085813",
       "tooltip": "WhiteboxTools for local geoprocessing"
      }
     },
     "72d0753b723d4e469c915b2fdf885bef": {
      "model_module": "jupyter-leaflet",
      "model_module_version": "^0.17.0",
      "model_name": "LeafletTileLayerModel",
      "state": {
       "_model_module_version": "^0.17.0",
       "_view_module_version": "^0.17.0",
       "attribution": "(C) OpenStreetMap contributors, Tiles style by Humanitarian OpenStreetMap Team hosted by OpenStreetMap France",
       "max_zoom": 19,
       "name": "OpenStreetMap.HOT",
       "options": [
        "attribution",
        "bounds",
        "detect_retina",
        "max_native_zoom",
        "max_zoom",
        "min_native_zoom",
        "min_zoom",
        "no_wrap",
        "tile_size",
        "tms"
       ],
       "url": "https://a.tile.openstreetmap.fr/hot/{z}/{x}/{y}.png"
      }
     },
     "74653f88920c425092ee2174d3abc86d": {
      "model_module": "@jupyter-widgets/controls",
      "model_module_version": "1.5.0",
      "model_name": "ToggleButtonModel",
      "state": {
       "button_style": "primary",
       "icon": "gears",
       "layout": "IPY_MODEL_8e84bb30f4a0468b894a1758b8165585",
       "style": "IPY_MODEL_c5f7496264bc4f27a490241670bac905",
       "tooltip": "WhiteboxTools for local geoprocessing"
      }
     },
     "75638c0e5bf3490cb4888f3672c197ab": {
      "model_module": "@jupyter-widgets/controls",
      "model_module_version": "1.5.0",
      "model_name": "ToggleButtonModel",
      "state": {
       "button_style": "primary",
       "icon": "map",
       "layout": "IPY_MODEL_cdc951af2c3148f29fd3af28a4aa60e2",
       "style": "IPY_MODEL_7c72972a81b44f9096a39ada381d02ef",
       "tooltip": "Change basemap"
      }
     },
     "7567ff51eb5c466eb3f016e7c9b06481": {
      "model_module": "jupyter-leaflet",
      "model_module_version": "^0.17.0",
      "model_name": "LeafletTileLayerModel",
      "state": {
       "_model_module_version": "^0.17.0",
       "_view_module_version": "^0.17.0",
       "attribution": "Map tiles by Stamen Design, CC BY 3.0 -- Map data (C) OpenStreetMap contributors",
       "max_zoom": 20,
       "name": "Stamen.TonerLines",
       "options": [
        "attribution",
        "bounds",
        "detect_retina",
        "max_native_zoom",
        "max_zoom",
        "min_native_zoom",
        "min_zoom",
        "no_wrap",
        "tile_size",
        "tms"
       ],
       "url": "https://stamen-tiles-a.a.ssl.fastly.net/toner-lines/{z}/{x}/{y}.png"
      }
     },
     "7570a26bc2824f41bd4f8e1e23301e12": {
      "model_module": "@jupyter-widgets/controls",
      "model_module_version": "1.5.0",
      "model_name": "DescriptionStyleModel",
      "state": {
       "description_width": ""
      }
     },
     "75b8232da3af4bf1ab8f6b3424284dad": {
      "model_module": "jupyter-leaflet",
      "model_module_version": "^0.17.0",
      "model_name": "LeafletTileLayerModel",
      "state": {
       "_model_module_version": "^0.17.0",
       "_view_module_version": "^0.17.0",
       "attribution": "Imagery provided by services from the Global Imagery Browse Services (GIBS), operated by the NASA/GSFC/Earth Science Data and Information System (ESDIS) with funding provided by NASA/HQ.",
       "max_zoom": 9,
       "name": "NASAGIBS.ModisTerraBands367CR",
       "options": [
        "attribution",
        "bounds",
        "detect_retina",
        "max_native_zoom",
        "max_zoom",
        "min_native_zoom",
        "min_zoom",
        "no_wrap",
        "tile_size",
        "tms"
       ],
       "url": "https://map1.vis.earthdata.nasa.gov/wmts-webmerc/MODIS_Terra_CorrectedReflectance_Bands367/default//GoogleMapsCompatible_Level9/{z}/{y}/{x}.jpg"
      }
     },
     "75e16c0cb822430c908ffde7ff3db97d": {
      "model_module": "jupyter-leaflet",
      "model_module_version": "^0.17.0",
      "model_name": "LeafletWMSLayerModel",
      "state": {
       "_model_module_version": "^0.17.0",
       "_view_module_version": "^0.17.0",
       "attribution": "MRLC",
       "crs": {
        "custom": false,
        "name": "EPSG3857"
       },
       "format": "image/png",
       "layers": "NLCD_2011_Land_Cover_L48",
       "name": "NLCD 2011 CONUS Land Cover",
       "options": [
        "attribution",
        "bounds",
        "detect_retina",
        "format",
        "layers",
        "max_native_zoom",
        "max_zoom",
        "min_native_zoom",
        "min_zoom",
        "no_wrap",
        "styles",
        "tile_size",
        "tms",
        "transparent",
        "uppercase"
       ],
       "transparent": true,
       "url": "https://www.mrlc.gov/geoserver/mrlc_display/NLCD_2011_Land_Cover_L48/wms?"
      }
     },
     "764ad753af11412487baf17beadeb8c1": {
      "model_module": "@jupyter-widgets/base",
      "model_module_version": "1.2.0",
      "model_name": "LayoutModel",
      "state": {
       "height": "600px",
       "width": "100%"
      }
     },
     "77129823292b4cc1a9b887eb3b158e0d": {
      "model_module": "@jupyter-widgets/base",
      "model_module_version": "1.2.0",
      "model_name": "LayoutModel",
      "state": {
       "height": "auto",
       "padding": "0px 0px 0px 4px",
       "width": "auto"
      }
     },
     "774e2fafa93c4bc193b8b74147bce7a7": {
      "model_module": "jupyter-leaflet",
      "model_module_version": "^0.17.0",
      "model_name": "LeafletTileLayerModel",
      "state": {
       "_model_module_version": "^0.17.0",
       "_view_module_version": "^0.17.0",
       "attribution": "Kaartgegevens (C) Kadaster",
       "max_zoom": 19,
       "name": "nlmaps.standaard",
       "options": [
        "attribution",
        "bounds",
        "detect_retina",
        "max_native_zoom",
        "max_zoom",
        "min_native_zoom",
        "min_zoom",
        "no_wrap",
        "tile_size",
        "tms"
       ],
       "url": "https://service.pdok.nl/brt/achtergrondkaart/wmts/v2_0/standaard/EPSG:3857/{z}/{x}/{y}.png"
      }
     },
     "7752a7bf0af8480aa16330ced3b3c5fe": {
      "model_module": "@jupyter-widgets/controls",
      "model_module_version": "1.5.0",
      "model_name": "ToggleButtonModel",
      "state": {
       "button_style": "primary",
       "icon": "search-plus",
       "layout": "IPY_MODEL_97385cd9c39b44658ffe01ff3d032c61",
       "style": "IPY_MODEL_1fb7399be78c4c58a5724d2ebdb3d5f3",
       "tooltip": "Search features in GeoJSON layer"
      }
     },
     "7769953cc61c4b05895f518faeb151fa": {
      "model_module": "@jupyter-widgets/controls",
      "model_module_version": "1.5.0",
      "model_name": "ButtonModel",
      "state": {
       "description": "Select Your Images",
       "layout": "IPY_MODEL_eddf5f6c2d504d4a8218bcab4e24ff3a",
       "style": "IPY_MODEL_ef9518697db14768af4ab98ae7b79e76"
      }
     },
     "778a25819d1b46b7a2f87d4b933c32b6": {
      "model_module": "@jupyter-widgets/controls",
      "model_module_version": "1.5.0",
      "model_name": "ToggleButtonModel",
      "state": {
       "button_style": "primary",
       "icon": "question",
       "layout": "IPY_MODEL_1474f74fb01942c0aec05528d9f9b0db",
       "style": "IPY_MODEL_71401b7d795c469082215d981ba25839",
       "tooltip": "Get help"
      }
     },
     "778ce162f1d74c54bc7f0533e49faa3a": {
      "model_module": "@jupyter-widgets/controls",
      "model_module_version": "1.5.0",
      "model_name": "DescriptionStyleModel",
      "state": {
       "description_width": ""
      }
     },
     "7995c99c848b462a9877b69c2aa30a67": {
      "model_module": "@jupyter-widgets/base",
      "model_module_version": "1.2.0",
      "model_name": "LayoutModel",
      "state": {}
     },
     "7a2dd08e2103433bb3c6987e7ef4e3f0": {
      "model_module": "jupyter-leaflet",
      "model_module_version": "^0.17.0",
      "model_name": "LeafletTileLayerModel",
      "state": {
       "_model_module_version": "^0.17.0",
       "_view_module_version": "^0.17.0",
       "attribution": "Datenquelle: basemap.at",
       "max_zoom": 19,
       "name": "BasemapAT.terrain",
       "options": [
        "attribution",
        "bounds",
        "detect_retina",
        "max_native_zoom",
        "max_zoom",
        "min_native_zoom",
        "min_zoom",
        "no_wrap",
        "tile_size",
        "tms"
       ],
       "url": "https://maps.wien.gv.at/basemap/bmapgelaende/grau/google3857/{z}/{y}/{x}.jpeg"
      }
     },
     "7b0b389c607242d080d362b737d47999": {
      "model_module": "@jupyter-widgets/base",
      "model_module_version": "1.2.0",
      "model_name": "LayoutModel",
      "state": {
       "height": "auto",
       "padding": "0px 0px 0px 4px",
       "width": "auto"
      }
     },
     "7baa5502e8e7446c9b05c99b3e4ecb9a": {
      "model_module": "@jupyter-widgets/base",
      "model_module_version": "1.2.0",
      "model_name": "LayoutModel",
      "state": {}
     },
     "7c72972a81b44f9096a39ada381d02ef": {
      "model_module": "@jupyter-widgets/controls",
      "model_module_version": "1.5.0",
      "model_name": "DescriptionStyleModel",
      "state": {
       "description_width": ""
      }
     },
     "7c815e6f77fa4e879070337bf10ff3b9": {
      "model_module": "jupyter-leaflet",
      "model_module_version": "^0.17.0",
      "model_name": "LeafletTileLayerModel",
      "state": {
       "_model_module_version": "^0.17.0",
       "_view_module_version": "^0.17.0",
       "attribution": "Tiles (C) Esri -- Source: US National Park Service",
       "max_zoom": 8,
       "name": "Esri.WorldPhysical",
       "options": [
        "attribution",
        "bounds",
        "detect_retina",
        "max_native_zoom",
        "max_zoom",
        "min_native_zoom",
        "min_zoom",
        "no_wrap",
        "tile_size",
        "tms"
       ],
       "url": "https://server.arcgisonline.com/ArcGIS/rest/services/World_Physical_Map/MapServer/tile/{z}/{y}/{x}"
      }
     },
     "7cf8e5aa23604d24a0dd184d666ba0c0": {
      "model_module": "@jupyter-widgets/controls",
      "model_module_version": "1.5.0",
      "model_name": "DescriptionStyleModel",
      "state": {
       "description_width": ""
      }
     },
     "7dac01b87c784b858362a2bbeb2d5599": {
      "model_module": "@jupyter-widgets/base",
      "model_module_version": "1.2.0",
      "model_name": "LayoutModel",
      "state": {}
     },
     "7dc8f2e13f084e85abf6db4bcfc920bd": {
      "model_module": "@jupyter-widgets/base",
      "model_module_version": "1.2.0",
      "model_name": "LayoutModel",
      "state": {
       "height": "auto",
       "padding": "0px 0px 0px 4px",
       "width": "auto"
      }
     },
     "7e5462ce7e6d4b27a210f8b34e312065": {
      "model_module": "jupyter-leaflet",
      "model_module_version": "^0.17.0",
      "model_name": "LeafletTileLayerModel",
      "state": {
       "_model_module_version": "^0.17.0",
       "_view_module_version": "^0.17.0",
       "attribution": "(C) OpenStreetMap contributors (C) CARTO",
       "max_zoom": 20,
       "name": "CartoDB.PositronOnlyLabels",
       "options": [
        "attribution",
        "bounds",
        "detect_retina",
        "max_native_zoom",
        "max_zoom",
        "min_native_zoom",
        "min_zoom",
        "no_wrap",
        "tile_size",
        "tms"
       ],
       "url": "https://a.basemaps.cartocdn.com/light_only_labels/{z}/{x}/{y}.png"
      }
     },
     "7e58315400c647a2bb2523507c434a96": {
      "model_module": "jupyter-leaflet",
      "model_module_version": "^0.17.0",
      "model_name": "LeafletScaleControlModel",
      "state": {
       "_model_module_version": "^0.17.0",
       "_view_module_version": "^0.17.0",
       "imperial": true,
       "max_width": 100,
       "metric": true,
       "options": [
        "imperial",
        "max_width",
        "metric",
        "position",
        "update_when_idle"
       ],
       "position": "bottomleft",
       "update_when_idle": false
      }
     },
     "7ecab33402794e4fa0680849262dcb08": {
      "model_module": "@jupyter-widgets/base",
      "model_module_version": "1.2.0",
      "model_name": "LayoutModel",
      "state": {}
     },
     "7fc854b8568b43069a4c7a3db5e1e609": {
      "model_module": "@jupyter-widgets/base",
      "model_module_version": "1.2.0",
      "model_name": "LayoutModel",
      "state": {}
     },
     "81e0092be1774bef8765d2223608e26c": {
      "model_module": "jupyter-leaflet",
      "model_module_version": "^0.17.0",
      "model_name": "LeafletTileLayerModel",
      "state": {
       "_model_module_version": "^0.17.0",
       "_view_module_version": "^0.17.0",
       "attribution": "Imagery provided by services from the Global Imagery Browse Services (GIBS), operated by the NASA/GSFC/Earth Science Data and Information System (ESDIS) with funding provided by NASA/HQ.",
       "max_zoom": 5,
       "name": "NASAGIBS.BlueMarble3031",
       "options": [
        "attribution",
        "bounds",
        "detect_retina",
        "max_native_zoom",
        "max_zoom",
        "min_native_zoom",
        "min_zoom",
        "no_wrap",
        "tile_size",
        "tms"
       ],
       "url": "https://gibs.earthdata.nasa.gov/wmts/epsg3031/best/BlueMarble_NextGeneration/default/EPSG3031_500m/{z}/{y}/{x}.jpeg"
      }
     },
     "82b0210e0b8c457b8693e0f25531da81": {
      "model_module": "jupyter-leaflet",
      "model_module_version": "^0.17.0",
      "model_name": "LeafletGeoJSONModel",
      "state": {
       "_model_module_version": "^0.17.0",
       "_view_module_version": "^0.17.0",
       "data": {
        "features": [
         {
          "geometry": {
           "coordinates": [
            [
             [
              -121.58648099999999,
              36.02347399999999
             ],
             [
              -121.58648099999999,
              36.05979242190952
             ],
             [
              -121.54156523579401,
              36.05979242190952
             ],
             [
              -121.54156523579401,
              36.02347399999999
             ],
             [
              -121.58648099999999,
              36.02347399999999
             ]
            ]
           ],
           "type": "Polygon"
          },
          "id": "0",
          "properties": {
           "CHLOROPHYLL": 2.417483,
           "CSU_Descriptor": "steeply sloping, straight, medium erodibility, warm temperate dry, low river discharge, moderate wave energy, moderately tidal, euhaline-oxic-moderate to cool, clear, moderate chlorophyll",
           "CSU_ID": 70981,
           "Cluster": 6,
           "EMU_PHYSICAL": "Euhaline-Oxic-Moderate to Cool",
           "ERODIBILITY": "Medium",
           "GHM": 0.05515,
           "LENGTH_GEO": 807.0250844845444,
           "MAX_SLOPE": 142.136371,
           "MEAN_SIG_WAVEHEIGHT": 1.687268,
           "MasterKey": 2753653,
           "OBJECTID": 2753653,
           "OUTFLOW_DENSITY": 8671.790039,
           "OUTFLOW_DENSITY_RESCALED": 1.0484883786709782e-05,
           "REGIONAL_SINUOSITY": 1.270183,
           "RandomSort": 2236153.50697766,
           "Shape_Length": 0.007766900691011992,
           "TEMP_MOISTURE": "Warm Temperate Dry",
           "TIDAL_RANGE": 2.416656,
           "TURBIDITY": 0.027483,
           "chl_label": "moderate chlorophyll",
           "id": 0,
           "index_right": 2,
           "river_label": "low river discharge",
           "sinuosity_label": "straight",
           "slope_label": "steeply sloping",
           "style": {
            "color": "black",
            "fillColor": "grey",
            "fillOpacity": 0.1,
            "weight": 3
           },
           "tidal_label": "moderately tidal",
           "turbid_label": "clear",
           "wave_label": "moderate wave energy"
          },
          "type": "Feature"
         },
         {
          "geometry": {
           "coordinates": [
            [
             [
              -121.58648099999999,
              36.02347399999999
             ],
             [
              -121.58648099999999,
              36.05979242190952
             ],
             [
              -121.54156523579401,
              36.05979242190952
             ],
             [
              -121.54156523579401,
              36.02347399999999
             ],
             [
              -121.58648099999999,
              36.02347399999999
             ]
            ]
           ],
           "type": "Polygon"
          },
          "id": "0",
          "properties": {
           "CHLOROPHYLL": 2.417483,
           "CSU_Descriptor": "steeply sloping, straight, medium erodibility, warm temperate dry, low river discharge, moderate wave energy, moderately tidal, euhaline-oxic-moderate to cool, clear, moderate chlorophyll",
           "CSU_ID": 70981,
           "Cluster": 6,
           "EMU_PHYSICAL": "Euhaline-Oxic-Moderate to Cool",
           "ERODIBILITY": "Medium",
           "GHM": 0.05515,
           "LENGTH_GEO": 807.0250844845444,
           "MAX_SLOPE": 142.136371,
           "MEAN_SIG_WAVEHEIGHT": 1.687268,
           "MasterKey": 2753653,
           "OBJECTID": 2753653,
           "OUTFLOW_DENSITY": 8671.790039,
           "OUTFLOW_DENSITY_RESCALED": 1.0484883786709782e-05,
           "REGIONAL_SINUOSITY": 1.270183,
           "RandomSort": 2236153.50697766,
           "Shape_Length": 0.007766900691011992,
           "TEMP_MOISTURE": "Warm Temperate Dry",
           "TIDAL_RANGE": 2.416656,
           "TURBIDITY": 0.027483,
           "chl_label": "moderate chlorophyll",
           "id": 1,
           "index_right": 5,
           "river_label": "low river discharge",
           "sinuosity_label": "straight",
           "slope_label": "steeply sloping",
           "style": {
            "color": "black",
            "fillColor": "grey",
            "fillOpacity": 0.1,
            "weight": 3
           },
           "tidal_label": "moderately tidal",
           "turbid_label": "clear",
           "wave_label": "moderate wave energy"
          },
          "type": "Feature"
         },
         {
          "geometry": {
           "coordinates": [
            [
             [
              -121.58648099999999,
              36.02347399999999
             ],
             [
              -121.58648099999999,
              36.05979242190952
             ],
             [
              -121.54156523579401,
              36.05979242190952
             ],
             [
              -121.54156523579401,
              36.02347399999999
             ],
             [
              -121.58648099999999,
              36.02347399999999
             ]
            ]
           ],
           "type": "Polygon"
          },
          "id": "0",
          "properties": {
           "CHLOROPHYLL": 2.417483,
           "CSU_Descriptor": "steeply sloping, straight, medium erodibility, warm temperate dry, low river discharge, moderate wave energy, moderately tidal, euhaline-oxic-moderate to cool, clear, moderate chlorophyll",
           "CSU_ID": 70981,
           "Cluster": 6,
           "EMU_PHYSICAL": "Euhaline-Oxic-Moderate to Cool",
           "ERODIBILITY": "Medium",
           "GHM": 0.146464,
           "LENGTH_GEO": 806.7668657015857,
           "MAX_SLOPE": 103.730425,
           "MEAN_SIG_WAVEHEIGHT": 1.687268,
           "MasterKey": 2753654,
           "OBJECTID": 2753654,
           "OUTFLOW_DENSITY": 8671.790039,
           "OUTFLOW_DENSITY_RESCALED": 1.0484883786709782e-05,
           "REGIONAL_SINUOSITY": 1.270183,
           "RandomSort": 3099521.56752547,
           "Shape_Length": 0.007612041356096052,
           "TEMP_MOISTURE": "Warm Temperate Dry",
           "TIDAL_RANGE": 2.416656,
           "TURBIDITY": 0.027483,
           "chl_label": "moderate chlorophyll",
           "id": 2,
           "index_right": 1,
           "river_label": "low river discharge",
           "sinuosity_label": "straight",
           "slope_label": "steeply sloping",
           "style": {
            "color": "black",
            "fillColor": "grey",
            "fillOpacity": 0.1,
            "weight": 3
           },
           "tidal_label": "moderately tidal",
           "turbid_label": "clear",
           "wave_label": "moderate wave energy"
          },
          "type": "Feature"
         },
         {
          "geometry": {
           "coordinates": [
            [
             [
              -121.58648099999999,
              36.02347399999999
             ],
             [
              -121.58648099999999,
              36.05979242190952
             ],
             [
              -121.54156523579401,
              36.05979242190952
             ],
             [
              -121.54156523579401,
              36.02347399999999
             ],
             [
              -121.58648099999999,
              36.02347399999999
             ]
            ]
           ],
           "type": "Polygon"
          },
          "id": "0",
          "properties": {
           "CHLOROPHYLL": 2.417483,
           "CSU_Descriptor": "steeply sloping, straight, medium erodibility, warm temperate dry, low river discharge, moderate wave energy, moderately tidal, euhaline-oxic-moderate to cool, clear, moderate chlorophyll",
           "CSU_ID": 70981,
           "Cluster": 6,
           "EMU_PHYSICAL": "Euhaline-Oxic-Moderate to Cool",
           "ERODIBILITY": "Medium",
           "GHM": 0.146464,
           "LENGTH_GEO": 806.7668657015857,
           "MAX_SLOPE": 103.730425,
           "MEAN_SIG_WAVEHEIGHT": 1.687268,
           "MasterKey": 2753654,
           "OBJECTID": 2753654,
           "OUTFLOW_DENSITY": 8671.790039,
           "OUTFLOW_DENSITY_RESCALED": 1.0484883786709782e-05,
           "REGIONAL_SINUOSITY": 1.270183,
           "RandomSort": 3099521.56752547,
           "Shape_Length": 0.007612041356096052,
           "TEMP_MOISTURE": "Warm Temperate Dry",
           "TIDAL_RANGE": 2.416656,
           "TURBIDITY": 0.027483,
           "chl_label": "moderate chlorophyll",
           "id": 3,
           "index_right": 4,
           "river_label": "low river discharge",
           "sinuosity_label": "straight",
           "slope_label": "steeply sloping",
           "style": {
            "color": "black",
            "fillColor": "grey",
            "fillOpacity": 0.1,
            "weight": 3
           },
           "tidal_label": "moderately tidal",
           "turbid_label": "clear",
           "wave_label": "moderate wave energy"
          },
          "type": "Feature"
         },
         {
          "geometry": {
           "coordinates": [
            [
             [
              -121.58648099999999,
              36.02347399999999
             ],
             [
              -121.58648099999999,
              36.05979242190952
             ],
             [
              -121.54156523579401,
              36.05979242190952
             ],
             [
              -121.54156523579401,
              36.02347399999999
             ],
             [
              -121.58648099999999,
              36.02347399999999
             ]
            ]
           ],
           "type": "Polygon"
          },
          "id": "0",
          "properties": {
           "CHLOROPHYLL": 2.417483,
           "CSU_Descriptor": "steeply sloping, straight, medium erodibility, warm temperate dry, low river discharge, moderate wave energy, moderately tidal, euhaline-oxic-moderate to cool, clear, moderate chlorophyll",
           "CSU_ID": 70981,
           "Cluster": 6,
           "EMU_PHYSICAL": "Euhaline-Oxic-Moderate to Cool",
           "ERODIBILITY": "Medium",
           "GHM": 0.146464,
           "LENGTH_GEO": 807.570325164452,
           "MAX_SLOPE": 80.713103,
           "MEAN_SIG_WAVEHEIGHT": 1.687268,
           "MasterKey": 2753655,
           "OBJECTID": 2753655,
           "OUTFLOW_DENSITY": 8671.790039,
           "OUTFLOW_DENSITY_RESCALED": 1.0484883786709782e-05,
           "REGIONAL_SINUOSITY": 1.270183,
           "RandomSort": 1322999.00735509,
           "Shape_Length": 0.00797607602451941,
           "TEMP_MOISTURE": "Warm Temperate Dry",
           "TIDAL_RANGE": 2.416656,
           "TURBIDITY": 0.027483,
           "chl_label": "moderate chlorophyll",
           "id": 4,
           "index_right": 0,
           "river_label": "low river discharge",
           "sinuosity_label": "straight",
           "slope_label": "steeply sloping",
           "style": {
            "color": "black",
            "fillColor": "grey",
            "fillOpacity": 0.1,
            "weight": 3
           },
           "tidal_label": "moderately tidal",
           "turbid_label": "clear",
           "wave_label": "moderate wave energy"
          },
          "type": "Feature"
         },
         {
          "geometry": {
           "coordinates": [
            [
             [
              -121.58648099999999,
              36.02347399999999
             ],
             [
              -121.58648099999999,
              36.05979242190952
             ],
             [
              -121.54156523579401,
              36.05979242190952
             ],
             [
              -121.54156523579401,
              36.02347399999999
             ],
             [
              -121.58648099999999,
              36.02347399999999
             ]
            ]
           ],
           "type": "Polygon"
          },
          "id": "0",
          "properties": {
           "CHLOROPHYLL": 2.417483,
           "CSU_Descriptor": "steeply sloping, straight, medium erodibility, warm temperate dry, low river discharge, moderate wave energy, moderately tidal, euhaline-oxic-moderate to cool, clear, moderate chlorophyll",
           "CSU_ID": 70981,
           "Cluster": 6,
           "EMU_PHYSICAL": "Euhaline-Oxic-Moderate to Cool",
           "ERODIBILITY": "Medium",
           "GHM": 0.146464,
           "LENGTH_GEO": 807.570325164452,
           "MAX_SLOPE": 80.713103,
           "MEAN_SIG_WAVEHEIGHT": 1.687268,
           "MasterKey": 2753655,
           "OBJECTID": 2753655,
           "OUTFLOW_DENSITY": 8671.790039,
           "OUTFLOW_DENSITY_RESCALED": 1.0484883786709782e-05,
           "REGIONAL_SINUOSITY": 1.270183,
           "RandomSort": 1322999.00735509,
           "Shape_Length": 0.00797607602451941,
           "TEMP_MOISTURE": "Warm Temperate Dry",
           "TIDAL_RANGE": 2.416656,
           "TURBIDITY": 0.027483,
           "chl_label": "moderate chlorophyll",
           "id": 5,
           "index_right": 3,
           "river_label": "low river discharge",
           "sinuosity_label": "straight",
           "slope_label": "steeply sloping",
           "style": {
            "color": "black",
            "fillColor": "grey",
            "fillOpacity": 0.1,
            "weight": 3
           },
           "tidal_label": "moderately tidal",
           "turbid_label": "clear",
           "wave_label": "moderate wave energy"
          },
          "type": "Feature"
         }
        ],
        "type": "FeatureCollection"
       },
       "hover_style": {
        "color": "crimson",
        "fillColor": "red"
       },
       "name": "GeoJSON data"
      }
     },
     "82e00f7951d04cacbb6d30d75c796fd3": {
      "model_module": "@jupyter-widgets/controls",
      "model_module_version": "1.5.0",
      "model_name": "DescriptionStyleModel",
      "state": {
       "description_width": ""
      }
     },
     "835628feaf5848e99c4f2b7da2cd992c": {
      "model_module": "@jupyter-widgets/base",
      "model_module_version": "1.2.0",
      "model_name": "LayoutModel",
      "state": {
       "height": "auto",
       "padding": "0px 0px 0px 4px",
       "width": "auto"
      }
     },
     "83645dc247ed439d84edfda3cfba7ebf": {
      "model_module": "@jupyter-widgets/controls",
      "model_module_version": "1.5.0",
      "model_name": "VBoxModel",
      "state": {
       "children": [
        "IPY_MODEL_8ec809fa52924e519c39ea3b06226cb2",
        "IPY_MODEL_4ed6e9a628934409be4c410e815ce447"
       ],
       "layout": "IPY_MODEL_7ecab33402794e4fa0680849262dcb08"
      }
     },
     "8370df3198de4ae4a35ba367f45764af": {
      "model_module": "@jupyter-widgets/controls",
      "model_module_version": "1.5.0",
      "model_name": "ToggleButtonModel",
      "state": {
       "button_style": "primary",
       "icon": "info",
       "layout": "IPY_MODEL_1cf4c18ccaf949b0a8f183031c729eab",
       "style": "IPY_MODEL_e59a27ee18d34296956ecb129b5f39f9",
       "tooltip": "Get COG/STAC pixel value"
      }
     },
     "83ad8850883b4ddf9c051a4f5d31eef1": {
      "model_module": "jupyter-leaflet",
      "model_module_version": "^0.17.0",
      "model_name": "LeafletTileLayerModel",
      "state": {
       "_model_module_version": "^0.17.0",
       "_view_module_version": "^0.17.0",
       "attribution": "Earthstar Geographics",
       "max_zoom": 24,
       "name": "Esri.AntarcticImagery",
       "options": [
        "attribution",
        "bounds",
        "detect_retina",
        "max_native_zoom",
        "max_zoom",
        "min_native_zoom",
        "min_zoom",
        "no_wrap",
        "tile_size",
        "tms"
       ],
       "url": "http://server.arcgisonline.com/ArcGIS/rest/services/Polar/Antarctic_Imagery/MapServer/tile/{z}/{y}/{x}"
      }
     },
     "8440915ccfcb48fea466b90e89435b18": {
      "model_module": "jupyter-leaflet",
      "model_module_version": "^0.17.0",
      "model_name": "LeafletMapStyleModel",
      "state": {
       "_model_module_version": "^0.17.0"
      }
     },
     "8543f0e393ae4c6e8d705511268791c5": {
      "model_module": "@jupyter-widgets/controls",
      "model_module_version": "1.5.0",
      "model_name": "ToggleButtonModel",
      "state": {
       "button_style": "primary",
       "icon": "table",
       "layout": "IPY_MODEL_d7893e839b1f49cd8bce9dbb799dae92",
       "style": "IPY_MODEL_82e00f7951d04cacbb6d30d75c796fd3",
       "tooltip": "Open attribute table"
      }
     },
     "85f8c23f2052475db73ed8bf91cb4ddf": {
      "model_module": "@jupyter-widgets/base",
      "model_module_version": "1.2.0",
      "model_name": "LayoutModel",
      "state": {}
     },
     "863c4f3ff271410b9942ed7dee8e321c": {
      "model_module": "@jupyter-widgets/controls",
      "model_module_version": "1.5.0",
      "model_name": "ProgressStyleModel",
      "state": {
       "description_width": ""
      }
     },
     "86718c48fe6847aaa303a0498a0f4295": {
      "model_module": "jupyter-leaflet",
      "model_module_version": "^0.17.0",
      "model_name": "LeafletTileLayerModel",
      "state": {
       "_model_module_version": "^0.17.0",
       "_view_module_version": "^0.17.0",
       "attribution": "Tiles (C) Esri -- Source: Esri",
       "max_zoom": 13,
       "name": "Esri.WorldShadedRelief",
       "options": [
        "attribution",
        "bounds",
        "detect_retina",
        "max_native_zoom",
        "max_zoom",
        "min_native_zoom",
        "min_zoom",
        "no_wrap",
        "tile_size",
        "tms"
       ],
       "url": "https://server.arcgisonline.com/ArcGIS/rest/services/World_Shaded_Relief/MapServer/tile/{z}/{y}/{x}"
      }
     },
     "86bd6c0cbbe5417ea72a3c2ff85b0179": {
      "model_module": "@jupyter-widgets/controls",
      "model_module_version": "1.5.0",
      "model_name": "HBoxModel",
      "state": {
       "children": [
        "IPY_MODEL_5991f7d5fae64b569e0bb2cf72f04202",
        "IPY_MODEL_bffbc4b06d694595be7f3ac10d0a7f5f"
       ],
       "layout": "IPY_MODEL_d4c4bf0fa5af43fda8407360de69333f"
      }
     },
     "87137411126244d09e75b8d37a3eab78": {
      "model_module": "jupyter-leaflet",
      "model_module_version": "^0.17.0",
      "model_name": "LeafletTileLayerModel",
      "state": {
       "_model_module_version": "^0.17.0",
       "_view_module_version": "^0.17.0",
       "attribution": "National Library of Scotland Historic Maps",
       "name": "NLS",
       "options": [
        "attribution",
        "bounds",
        "detect_retina",
        "max_native_zoom",
        "max_zoom",
        "min_native_zoom",
        "min_zoom",
        "no_wrap",
        "tile_size",
        "tms"
       ],
       "url": "https://nls-0.tileserver.com/nls/{z}/{x}/{y}.jpg"
      }
     },
     "877989ae8533442e8d2d23134ce18508": {
      "model_module": "@jupyter-widgets/base",
      "model_module_version": "1.2.0",
      "model_name": "LayoutModel",
      "state": {}
     },
     "88c6068999f8451c8d452117933fcfb7": {
      "model_module": "jupyter-leaflet",
      "model_module_version": "^0.17.0",
      "model_name": "LeafletTileLayerModel",
      "state": {
       "_model_module_version": "^0.17.0",
       "_view_module_version": "^0.17.0",
       "attribution": "Justice Map",
       "max_zoom": 22,
       "name": "JusticeMap.nonWhite",
       "options": [
        "attribution",
        "bounds",
        "detect_retina",
        "max_native_zoom",
        "max_zoom",
        "min_native_zoom",
        "min_zoom",
        "no_wrap",
        "tile_size",
        "tms"
       ],
       "url": "https://www.justicemap.org/tile/county/nonwhite/{z}/{x}/{y}.png"
      }
     },
     "8902cb5223ce4206b0ca61a31c2b4891": {
      "model_module": "@jupyter-widgets/controls",
      "model_module_version": "1.5.0",
      "model_name": "ButtonStyleModel",
      "state": {}
     },
     "890338597efd4a018c9ada1fcf5086e3": {
      "model_module": "@jupyter-widgets/controls",
      "model_module_version": "1.5.0",
      "model_name": "DescriptionStyleModel",
      "state": {
       "description_width": ""
      }
     },
     "8952caa34c5b4937b76aabaa315121aa": {
      "model_module": "jupyter-leaflet",
      "model_module_version": "^0.17.0",
      "model_name": "LeafletTileLayerModel",
      "state": {
       "_model_module_version": "^0.17.0",
       "_view_module_version": "^0.17.0",
       "attribution": "Tiles (C) Esri -- Esri, DeLorme, NAVTEQ",
       "max_zoom": 16,
       "name": "Esri.WorldGrayCanvas",
       "options": [
        "attribution",
        "bounds",
        "detect_retina",
        "max_native_zoom",
        "max_zoom",
        "min_native_zoom",
        "min_zoom",
        "no_wrap",
        "tile_size",
        "tms"
       ],
       "url": "https://server.arcgisonline.com/ArcGIS/rest/services/Canvas/World_Light_Gray_Base/MapServer/tile/{z}/{y}/{x}"
      }
     },
     "897a0fdef9ae4888b989a1399dcdbf67": {
      "model_module": "@jupyter-widgets/controls",
      "model_module_version": "1.5.0",
      "model_name": "ToggleButtonModel",
      "state": {
       "icon": "server",
       "layout": "IPY_MODEL_a6a55f65b1bf4999ba9d702a8f3336a8",
       "style": "IPY_MODEL_72280493c461420ca09086248a5460ff",
       "tooltip": "Layers"
      }
     },
     "8a17cb8cb3294d59b3cbae2b251b02ff": {
      "model_module": "@jupyter-widgets/base",
      "model_module_version": "1.2.0",
      "model_name": "LayoutModel",
      "state": {
       "height": "auto",
       "padding": "0px 0px 0px 4px",
       "width": "auto"
      }
     },
     "8a935b8b02574339b34568aca0a65b11": {
      "model_module": "@jupyter-widgets/controls",
      "model_module_version": "1.5.0",
      "model_name": "DescriptionStyleModel",
      "state": {
       "description_width": ""
      }
     },
     "8b0d9d90b840420bba629d7279b177ac": {
      "model_module": "@jupyter-widgets/base",
      "model_module_version": "1.2.0",
      "model_name": "LayoutModel",
      "state": {
       "padding": "10px"
      }
     },
     "8b7476e9138d499f8838cbd05e22eeca": {
      "model_module": "@jupyter-widgets/controls",
      "model_module_version": "1.5.0",
      "model_name": "ButtonModel",
      "state": {
       "description": "Use Data Button",
       "layout": "IPY_MODEL_f814d3f3337c429cb898717fbcd866ce",
       "style": "IPY_MODEL_e2a379f1bd354b548f183fd17a14503c"
      }
     },
     "8be8db03e3fa4750b93a057994516116": {
      "model_module": "@jupyter-widgets/controls",
      "model_module_version": "1.5.0",
      "model_name": "HTMLModel",
      "state": {
       "layout": "IPY_MODEL_bbd45901131047bbb589159703b85699",
       "style": "IPY_MODEL_778ce162f1d74c54bc7f0533e49faa3a",
       "value": "100%"
      }
     },
     "8c469979703c422aa81b0de0b7bdfacc": {
      "model_module": "@jupyter-widgets/base",
      "model_module_version": "1.2.0",
      "model_name": "LayoutModel",
      "state": {
       "height": "auto",
       "padding": "0px 0px 0px 4px",
       "width": "auto"
      }
     },
     "8c5cb603ef764b409fe2b2842235906d": {
      "model_module": "jupyter-leaflet",
      "model_module_version": "^0.17.0",
      "model_name": "LeafletTileLayerModel",
      "state": {
       "_model_module_version": "^0.17.0",
       "_view_module_version": "^0.17.0",
       "attribution": "Imagery provided by services from the Global Imagery Browse Services (GIBS), operated by the NASA/GSFC/Earth Science Data and Information System (ESDIS) with funding provided by NASA/HQ.",
       "max_zoom": 12,
       "name": "NASAGIBS.ASTER_GDEM_Greyscale_Shaded_Relief",
       "options": [
        "attribution",
        "bounds",
        "detect_retina",
        "max_native_zoom",
        "max_zoom",
        "min_native_zoom",
        "min_zoom",
        "no_wrap",
        "tile_size",
        "tms"
       ],
       "url": "https://gibs.earthdata.nasa.gov/wmts/epsg3857/best/ASTER_GDEM_Greyscale_Shaded_Relief/default/GoogleMapsCompatible_Level12/{z}/{y}/{x}.jpg"
      }
     },
     "8c92cfe5e5a0474893dcc5b92b095c42": {
      "model_module": "@jupyter-widgets/controls",
      "model_module_version": "1.5.0",
      "model_name": "HTMLModel",
      "state": {
       "layout": "IPY_MODEL_a65b557875cf4135b05cd9af6dc50442",
       "style": "IPY_MODEL_c3f7ea29031b4d6c9dfced2c9ee103f5",
       "value": "<b>1. Use Data Folder Button</b>         <br> - When CoastSat downloads imagery it created a folder called 'data'in the CoastSeg directory.            The jpgs within the 'data' folder will be copied to another folder with a name such as            <span style=\"background-color:LightGray;\">segmentation_data_2022-07-07__10_hr_04_min58 </span>            (the date and time will be the current date and time) <br>            The model will be applied to this folder and the model outputs will be generated within a subdirectory             called 'out'"
      }
     },
     "8ca3818cad734cf18641cd16a04fae4f": {
      "model_module": "jupyter-leaflet",
      "model_module_version": "^0.17.0",
      "model_name": "LeafletTileLayerModel",
      "state": {
       "_model_module_version": "^0.17.0",
       "_view_module_version": "^0.17.0",
       "attribution": "Map tiles by <a href=\"https://labs.strava.com/heatmap\">Strava 2021</a>",
       "max_zoom": 15,
       "name": "Strava.Ride",
       "options": [
        "attribution",
        "bounds",
        "detect_retina",
        "max_native_zoom",
        "max_zoom",
        "min_native_zoom",
        "min_zoom",
        "no_wrap",
        "tile_size",
        "tms"
       ],
       "url": "https://heatmap-external-a.strava.com/tiles/ride/hot/{z}/{x}/{y}.png"
      }
     },
     "8ca875de2b434e2cae5a54bfdb40e6b9": {
      "model_module": "jupyter-leaflet",
      "model_module_version": "^0.17.0",
      "model_name": "LeafletTileLayerModel",
      "state": {
       "_model_module_version": "^0.17.0",
       "_view_module_version": "^0.17.0",
       "attribution": "Justice Map",
       "max_zoom": 22,
       "name": "JusticeMap.multi",
       "options": [
        "attribution",
        "bounds",
        "detect_retina",
        "max_native_zoom",
        "max_zoom",
        "min_native_zoom",
        "min_zoom",
        "no_wrap",
        "tile_size",
        "tms"
       ],
       "url": "https://www.justicemap.org/tile/county/multi/{z}/{x}/{y}.png"
      }
     },
     "8d531d08300e4899a2f6b07258c9a619": {
      "model_module": "@jupyter-widgets/controls",
      "model_module_version": "1.5.0",
      "model_name": "ToggleButtonModel",
      "state": {
       "button_style": "primary",
       "icon": "globe",
       "layout": "IPY_MODEL_1e05265d5e4f4787acfabebcac90d8c6",
       "style": "IPY_MODEL_10f120bdbba04993ab32b9b45dde052d",
       "tooltip": "Split-panel map"
      }
     },
     "8d59e9b184ec41b5bdf8c9c12fac5723": {
      "model_module": "@jupyter-widgets/controls",
      "model_module_version": "1.5.0",
      "model_name": "DescriptionStyleModel",
      "state": {
       "description_width": ""
      }
     },
     "8dc25b2eafb348de807cdfb0a213589d": {
      "model_module": "jupyter-leaflet",
      "model_module_version": "^0.17.0",
      "model_name": "LeafletMapStyleModel",
      "state": {
       "_model_module_version": "^0.17.0"
      }
     },
     "8dd0ce5c060841b68d61788c0c700923": {
      "model_module": "@jupyter-widgets/controls",
      "model_module_version": "1.5.0",
      "model_name": "HTMLModel",
      "state": {
       "layout": "IPY_MODEL_2c0b21d694cc48ef913d818bb44bcca0",
       "style": "IPY_MODEL_20f6822b56424535b79ec99a0158ce7e",
       "value": "<h4>Click ONE of the following buttons:</h4>"
      }
     },
     "8e3fc2abb1984fcf8fc5ba0cde62d858": {
      "model_module": "@jupyter-widgets/base",
      "model_module_version": "1.2.0",
      "model_name": "LayoutModel",
      "state": {
       "height": "auto",
       "padding": "0px 0px 0px 4px",
       "width": "auto"
      }
     },
     "8e485595e21e4bf5aab538aaf6d705b5": {
      "model_module": "@jupyter-widgets/controls",
      "model_module_version": "1.5.0",
      "model_name": "ButtonStyleModel",
      "state": {}
     },
     "8e7ca39b7e52434ebe51bb0a6c958989": {
      "model_module": "jupyter-leaflet",
      "model_module_version": "^0.17.0",
      "model_name": "LeafletTileLayerModel",
      "state": {
       "_model_module_version": "^0.17.0",
       "_view_module_version": "^0.17.0",
       "attribution": "© swisstopo",
       "max_zoom": 19,
       "name": "SwissFederalGeoportal.SWISSIMAGE",
       "options": [
        "attribution",
        "bounds",
        "detect_retina",
        "max_native_zoom",
        "max_zoom",
        "min_native_zoom",
        "min_zoom",
        "no_wrap",
        "tile_size",
        "tms"
       ],
       "url": "https://wmts.geo.admin.ch/1.0.0/ch.swisstopo.swissimage/default/current/3857/{z}/{x}/{y}.jpeg"
      }
     },
     "8e84bb30f4a0468b894a1758b8165585": {
      "model_module": "@jupyter-widgets/base",
      "model_module_version": "1.2.0",
      "model_name": "LayoutModel",
      "state": {
       "height": "auto",
       "padding": "0px 0px 0px 4px",
       "width": "auto"
      }
     },
     "8e8bddef0618401c9a198e5cd7db9a42": {
      "model_module": "jupyter-leaflet",
      "model_module_version": "^0.17.0",
      "model_name": "LeafletDrawControlModel",
      "state": {
       "_model_module_version": "^0.17.0",
       "_view_module_version": "^0.17.0",
       "data": [
        {
         "geometry": {
          "coordinates": [
           [
            [
             -121.586481,
             36.023474
            ],
            [
             -121.586481,
             36.037698
            ],
            [
             -121.568754,
             36.037698
            ],
            [
             -121.568754,
             36.023474
            ],
            [
             -121.586481,
             36.023474
            ]
           ]
          ],
          "type": "Polygon"
         },
         "properties": {
          "style": {
           "Opacity": 0.1,
           "clickable": true,
           "color": "green",
           "fill": true,
           "fillColor": "green",
           "fillOpacity": 0.1,
           "opacity": 0.5,
           "stroke": true,
           "weight": 4
          }
         },
         "type": "Feature"
        }
       ],
       "options": [
        "position"
       ],
       "polygon": {},
       "polyline": {},
       "rectangle": {
        "allowIntersection": false,
        "drawError": {
         "color": "#dd253b",
         "message": "Ops!"
        },
        "shapeOptions": {
         "Opacity": 0.1,
         "color": "green",
         "fillColor": "green",
         "fillOpacity": 0.1
        },
        "transform": true
       }
      }
     },
     "8ec809fa52924e519c39ea3b06226cb2": {
      "model_module": "@jupyter-widgets/controls",
      "model_module_version": "1.5.0",
      "model_name": "HTMLModel",
      "state": {
       "layout": "IPY_MODEL_ee55d35c8c9d4b1582fe2800cc1202c9",
       "style": "IPY_MODEL_ce13f1b9482d4c6eaf4daaa3f3def437",
       "value": "<b>Pick a collection</b>        <br> C01: LandSat Collection 1         <br> C02: LandSat Collection 2  [2022/01/01 and beyond]         <br>      - Landsat 9 is only available in C02"
      }
     },
     "9021143778d34318a479e1c88913b761": {
      "model_module": "@jupyter-widgets/base",
      "model_module_version": "1.2.0",
      "model_name": "LayoutModel",
      "state": {
       "height": "auto",
       "padding": "0px 0px 0px 4px",
       "width": "auto"
      }
     },
     "90382c04f0544baf813714fa361c07a3": {
      "model_module": "jupyter-leaflet",
      "model_module_version": "^0.17.0",
      "model_name": "LeafletTileLayerModel",
      "state": {
       "_model_module_version": "^0.17.0",
       "_view_module_version": "^0.17.0",
       "attribution": "(C) Stadia Maps, (C) OpenMapTiles (C) OpenStreetMap contributors",
       "max_zoom": 20,
       "name": "Stadia.AlidadeSmoothDark",
       "options": [
        "attribution",
        "bounds",
        "detect_retina",
        "max_native_zoom",
        "max_zoom",
        "min_native_zoom",
        "min_zoom",
        "no_wrap",
        "tile_size",
        "tms"
       ],
       "url": "https://tiles.stadiamaps.com/tiles/alidade_smooth_dark/{z}/{x}/{y}.png"
      }
     },
     "9074f1c6be5f4448bb74d235a845fc39": {
      "model_module": "jupyter-leaflet",
      "model_module_version": "^0.17.0",
      "model_name": "LeafletTileLayerModel",
      "state": {
       "_model_module_version": "^0.17.0",
       "_view_module_version": "^0.17.0",
       "attribution": "Map tiles by Stamen Design, CC BY 3.0 -- Map data (C) OpenStreetMap contributors",
       "max_zoom": 20,
       "name": "Stamen.TonerBackground",
       "options": [
        "attribution",
        "bounds",
        "detect_retina",
        "max_native_zoom",
        "max_zoom",
        "min_native_zoom",
        "min_zoom",
        "no_wrap",
        "tile_size",
        "tms"
       ],
       "url": "https://stamen-tiles-a.a.ssl.fastly.net/toner-background/{z}/{x}/{y}.png"
      }
     },
     "90d695829ec14290b944cce5c316671a": {
      "model_module": "jupyter-leaflet",
      "model_module_version": "^0.17.0",
      "model_name": "LeafletTileLayerModel",
      "state": {
       "_model_module_version": "^0.17.0",
       "_view_module_version": "^0.17.0",
       "attribution": "![](https://docs.onemap.sg/maps/images/oneMap64-01.png) New OneMap | Map data (C) contributors, Singapore Land Authority",
       "name": "OneMapSG.Default",
       "options": [
        "attribution",
        "bounds",
        "detect_retina",
        "max_native_zoom",
        "max_zoom",
        "min_native_zoom",
        "min_zoom",
        "no_wrap",
        "tile_size",
        "tms"
       ],
       "url": "https://maps-a.onemap.sg/v3/Default/{z}/{x}/{y}.png"
      }
     },
     "90ebc0c639524abe8bc0a1f26e3120e5": {
      "model_module": "@jupyter-widgets/controls",
      "model_module_version": "1.5.0",
      "model_name": "DescriptionStyleModel",
      "state": {
       "description_width": ""
      }
     },
     "915a18677ab84169bef9110a3cbcb2b3": {
      "model_module": "@jupyter-widgets/base",
      "model_module_version": "1.2.0",
      "model_name": "LayoutModel",
      "state": {}
     },
     "9185a57811e646a48a28525f71085813": {
      "model_module": "@jupyter-widgets/controls",
      "model_module_version": "1.5.0",
      "model_name": "DescriptionStyleModel",
      "state": {
       "description_width": ""
      }
     },
     "91d73f914f9a40ab8363c8cbb33d6643": {
      "model_module": "@jupyter-widgets/controls",
      "model_module_version": "1.5.0",
      "model_name": "AccordionModel",
      "state": {
       "_titles": {
        "0": "Shoreline Data"
       },
       "children": [
        "IPY_MODEL_d4e3d667dbb541e8840a8fc15130c644"
       ],
       "layout": "IPY_MODEL_22405ba1936c4605984a3cc6b8c31389"
      }
     },
     "92750021f91f44039e77f53f0dcce6e4": {
      "model_module": "@jupyter-widgets/controls",
      "model_module_version": "1.5.0",
      "model_name": "DescriptionStyleModel",
      "state": {
       "description_width": ""
      }
     },
     "92e67bcf66084f46921ac3d0c883c92c": {
      "model_module": "@jupyter-widgets/controls",
      "model_module_version": "1.5.0",
      "model_name": "ButtonModel",
      "state": {
       "description": "Remove bbox",
       "layout": "IPY_MODEL_0e5ad92f747645f38ea4352be36fd579",
       "style": "IPY_MODEL_dbb7fbd138aa47b2a9ce3e9deed0627c"
      }
     },
     "9554cc8c30d64d6ea9a2bf6d635dfd18": {
      "model_module": "@jupyter-widgets/controls",
      "model_module_version": "1.5.0",
      "model_name": "VBoxModel",
      "state": {
       "children": [
        "IPY_MODEL_caf93fe3e3df4dae90e1bb6b59b8c198"
       ],
       "layout": "IPY_MODEL_42b32cf3cf69461b8a1d7744817a8509"
      }
     },
     "95d9255aea5d4118a7ec16174c1a6b9a": {
      "model_module": "@jupyter-widgets/controls",
      "model_module_version": "1.5.0",
      "model_name": "ToggleButtonModel",
      "state": {
       "button_style": "primary",
       "icon": "pencil-square-o",
       "layout": "IPY_MODEL_9021143778d34318a479e1c88913b761",
       "style": "IPY_MODEL_14366c41c790415b9cf742c7ce541acc",
       "tooltip": "Create vector data"
      }
     },
     "96297b3f17b9499583ad33b3e37c00f5": {
      "model_module": "@jupyter-widgets/base",
      "model_module_version": "1.2.0",
      "model_name": "LayoutModel",
      "state": {
       "height": "auto",
       "padding": "0px 0px 0px 4px",
       "width": "auto"
      }
     },
     "97385cd9c39b44658ffe01ff3d032c61": {
      "model_module": "@jupyter-widgets/base",
      "model_module_version": "1.2.0",
      "model_name": "LayoutModel",
      "state": {
       "height": "auto",
       "padding": "0px 0px 0px 4px",
       "width": "auto"
      }
     },
     "97a216a77f804e798158506c7854179d": {
      "model_module": "jupyter-leaflet",
      "model_module_version": "^0.17.0",
      "model_name": "LeafletTileLayerModel",
      "state": {
       "_model_module_version": "^0.17.0",
       "_view_module_version": "^0.17.0",
       "attribution": "Imagery provided by services from the Global Imagery Browse Services (GIBS), operated by the NASA/GSFC/Earth Science Data and Information System (ESDIS) with funding provided by NASA/HQ.",
       "max_zoom": 8,
       "name": "NASAGIBS.ViirsEarthAtNight2012",
       "options": [
        "attribution",
        "bounds",
        "detect_retina",
        "max_native_zoom",
        "max_zoom",
        "min_native_zoom",
        "min_zoom",
        "no_wrap",
        "tile_size",
        "tms"
       ],
       "url": "https://map1.vis.earthdata.nasa.gov/wmts-webmerc/VIIRS_CityLights_2012/default//GoogleMapsCompatible_Level8/{z}/{y}/{x}.jpg"
      }
     },
     "9839983c92b34747bd339d404deff956": {
      "model_module": "@jupyter-widgets/controls",
      "model_module_version": "1.5.0",
      "model_name": "ToggleButtonModel",
      "state": {
       "button_style": "primary",
       "icon": "picture-o",
       "layout": "IPY_MODEL_7b0b389c607242d080d362b737d47999",
       "style": "IPY_MODEL_1277c59900624f87a9ddae53f551d09a",
       "tooltip": "Open COG/STAC dataset"
      }
     },
     "9846ec6b21ce48849b6923f11c91f224": {
      "model_module": "@jupyter-widgets/base",
      "model_module_version": "1.2.0",
      "model_name": "LayoutModel",
      "state": {}
     },
     "9886a31404f740b3a9bcdafc32cf14de": {
      "model_module": "jupyter-leaflet",
      "model_module_version": "^0.17.0",
      "model_name": "LeafletTileLayerModel",
      "state": {
       "_model_module_version": "^0.17.0",
       "_view_module_version": "^0.17.0",
       "attribution": "Map data: (C) OpenSeaMap contributors",
       "max_zoom": 22,
       "name": "OpenSeaMap",
       "options": [
        "attribution",
        "bounds",
        "detect_retina",
        "max_native_zoom",
        "max_zoom",
        "min_native_zoom",
        "min_zoom",
        "no_wrap",
        "tile_size",
        "tms"
       ],
       "url": "https://tiles.openseamap.org/seamark/{z}/{x}/{y}.png"
      }
     },
     "9937f8957b0745909f5fb45ec28e6815": {
      "model_module": "jupyter-leaflet",
      "model_module_version": "^0.17.0",
      "model_name": "LeafletWMSLayerModel",
      "state": {
       "_model_module_version": "^0.17.0",
       "_view_module_version": "^0.17.0",
       "attribution": "MRLC",
       "crs": {
        "custom": false,
        "name": "EPSG3857"
       },
       "format": "image/png",
       "layers": "NLCD_2006_Land_Cover_L48",
       "name": "NLCD 2006 CONUS Land Cover",
       "options": [
        "attribution",
        "bounds",
        "detect_retina",
        "format",
        "layers",
        "max_native_zoom",
        "max_zoom",
        "min_native_zoom",
        "min_zoom",
        "no_wrap",
        "styles",
        "tile_size",
        "tms",
        "transparent",
        "uppercase"
       ],
       "transparent": true,
       "url": "https://www.mrlc.gov/geoserver/mrlc_display/NLCD_2006_Land_Cover_L48/wms?"
      }
     },
     "9950cd4fe74b43beb7c798cf7ef620ce": {
      "model_module": "@jupyter-widgets/controls",
      "model_module_version": "1.5.0",
      "model_name": "ButtonStyleModel",
      "state": {}
     },
     "9ad5a7d1ce5d4416b9fa1581c38e45f5": {
      "model_module": "jupyter-leaflet",
      "model_module_version": "^0.17.0",
      "model_name": "LeafletTileLayerModel",
      "state": {
       "_model_module_version": "^0.17.0",
       "_view_module_version": "^0.17.0",
       "attribution": "Google",
       "max_zoom": 22,
       "name": "Google Satellite",
       "options": [
        "attribution",
        "bounds",
        "detect_retina",
        "max_native_zoom",
        "max_zoom",
        "min_native_zoom",
        "min_zoom",
        "no_wrap",
        "tile_size",
        "tms"
       ],
       "url": "https://mt1.google.com/vt/lyrs=s&x={x}&y={y}&z={z}"
      }
     },
     "9b6a68962ce64da19e51e997efe3c4bd": {
      "model_module": "@jupyter-widgets/controls",
      "model_module_version": "1.5.0",
      "model_name": "ButtonModel",
      "state": {
       "description": "Remove ROIs",
       "layout": "IPY_MODEL_443997f5ae5540aab08d2691e5b5548b",
       "style": "IPY_MODEL_6b38313ec22b4cb2b4f4a14fcc3191e3"
      }
     },
     "9bd7652109424726b3f8f2631c2baf63": {
      "model_module": "jupyter-leaflet",
      "model_module_version": "^0.17.0",
      "model_name": "LeafletTileLayerModel",
      "state": {
       "_model_module_version": "^0.17.0",
       "_view_module_version": "^0.17.0",
       "attribution": "Justice Map",
       "max_zoom": 22,
       "name": "JusticeMap.hispanic",
       "options": [
        "attribution",
        "bounds",
        "detect_retina",
        "max_native_zoom",
        "max_zoom",
        "min_native_zoom",
        "min_zoom",
        "no_wrap",
        "tile_size",
        "tms"
       ],
       "url": "https://www.justicemap.org/tile/county/hispanic/{z}/{x}/{y}.png"
      }
     },
     "9bde8fb0b8ac43bcb371027819219929": {
      "model_module": "@jupyter-widgets/controls",
      "model_module_version": "1.5.0",
      "model_name": "VBoxModel",
      "state": {
       "_view_count": 1,
       "children": [
        "IPY_MODEL_c34c3875888048b29e075b3b0344a8c0"
       ],
       "layout": "IPY_MODEL_58e5965d47ee4fe2bc57b5eadda33703"
      }
     },
     "9d4fe3658db54a1aa5cbb873c9eaca79": {
      "model_module": "@jupyter-widgets/controls",
      "model_module_version": "1.5.0",
      "model_name": "AccordionModel",
      "state": {
       "_titles": {
        "0": "Shoreline Data"
       },
       "children": [
        "IPY_MODEL_b7558d3fe6884223869e0c6d3c9de9c3"
       ],
       "layout": "IPY_MODEL_094cc54b71174272b2b8e13ed8dd0168"
      }
     },
     "9df2c1fa5990494e85d4e42e0873c303": {
      "model_module": "jupyter-leaflet",
      "model_module_version": "^0.17.0",
      "model_name": "LeafletTileLayerModel",
      "state": {
       "_model_module_version": "^0.17.0",
       "_view_module_version": "^0.17.0",
       "attribution": "Imagery provided by services from the Global Imagery Browse Services (GIBS), operated by the NASA/GSFC/Earth Science Data and Information System (ESDIS) with funding provided by NASA/HQ.",
       "max_zoom": 8,
       "name": "NASAGIBS.BlueMarble",
       "options": [
        "attribution",
        "bounds",
        "detect_retina",
        "max_native_zoom",
        "max_zoom",
        "min_native_zoom",
        "min_zoom",
        "no_wrap",
        "tile_size",
        "tms"
       ],
       "url": "https://gibs.earthdata.nasa.gov/wmts/epsg3857/best/BlueMarble_NextGeneration/default/EPSG3857_500m/{z}/{y}/{x}.jpeg"
      }
     },
     "9e20ad7aa442437cb5d259d4e4e93766": {
      "model_module": "jupyter-leaflet",
      "model_module_version": "^0.17.0",
      "model_name": "LeafletTileLayerModel",
      "state": {
       "_model_module_version": "^0.17.0",
       "_view_module_version": "^0.17.0",
       "attribution": "Kaartgegevens (C) Kadaster",
       "max_zoom": 19,
       "name": "nlmaps.water",
       "options": [
        "attribution",
        "bounds",
        "detect_retina",
        "max_native_zoom",
        "max_zoom",
        "min_native_zoom",
        "min_zoom",
        "no_wrap",
        "tile_size",
        "tms"
       ],
       "url": "https://service.pdok.nl/brt/achtergrondkaart/wmts/v2_0/water/EPSG:3857/{z}/{x}/{y}.png"
      }
     },
     "9ef5e411c11241099957336382948216": {
      "model_module": "@jupyter-widgets/base",
      "model_module_version": "1.2.0",
      "model_name": "LayoutModel",
      "state": {}
     },
     "9f10294d317749e882f10ad470275d37": {
      "model_module": "jupyter-leaflet",
      "model_module_version": "^0.17.0",
      "model_name": "LeafletTileLayerModel",
      "state": {
       "_model_module_version": "^0.17.0",
       "_view_module_version": "^0.17.0",
       "attribution": "Map tiles by <a href=\"https://labs.strava.com/heatmap\">Strava 2021</a>",
       "max_zoom": 15,
       "name": "Strava.Run",
       "options": [
        "attribution",
        "bounds",
        "detect_retina",
        "max_native_zoom",
        "max_zoom",
        "min_native_zoom",
        "min_zoom",
        "no_wrap",
        "tile_size",
        "tms"
       ],
       "url": "https://heatmap-external-a.strava.com/tiles/run/bluered/{z}/{x}/{y}.png"
      }
     },
     "9f3530c662ba425bb796d6b0d7b50c3f": {
      "model_module": "@jupyter-widgets/controls",
      "model_module_version": "1.5.0",
      "model_name": "ButtonStyleModel",
      "state": {}
     },
     "9f640b98d3a841d3932a3fa200a99614": {
      "model_module": "@jupyter-widgets/controls",
      "model_module_version": "1.5.0",
      "model_name": "DescriptionStyleModel",
      "state": {
       "description_width": ""
      }
     },
     "9f6b81be562a46c08693a38cdd781676": {
      "model_module": "@jupyter-widgets/controls",
      "model_module_version": "1.5.0",
      "model_name": "HBoxModel",
      "state": {
       "children": [
        "IPY_MODEL_8be8db03e3fa4750b93a057994516116",
        "IPY_MODEL_a36a4972178d41faa510753d3664f74b",
        "IPY_MODEL_10e649a3b01f4747b5fb308b1bd9cd83"
       ],
       "layout": "IPY_MODEL_5a2c351e928b4cc69d722c7858f97311"
      }
     },
     "a02fffcafe3f417a8aa331d3c08525a3": {
      "model_module": "@jupyter-widgets/controls",
      "model_module_version": "1.5.0",
      "model_name": "HBoxModel",
      "state": {
       "children": [
        "IPY_MODEL_f5b6ba16ff874dcbb7af1c700719674a",
        "IPY_MODEL_c34c3875888048b29e075b3b0344a8c0"
       ],
       "layout": "IPY_MODEL_df3f9b5a02de44568b0459bc2801be23"
      }
     },
     "a15542f7255f4832a62155b37421b7c8": {
      "model_module": "@jupyter-widgets/base",
      "model_module_version": "1.2.0",
      "model_name": "LayoutModel",
      "state": {}
     },
     "a2110dbb726441b28ff8d8b22327b2ed": {
      "model_module": "jupyter-leaflet",
      "model_module_version": "^0.17.0",
      "model_name": "LeafletWMSLayerModel",
      "state": {
       "_model_module_version": "^0.17.0",
       "_view_module_version": "^0.17.0",
       "attribution": "FWS",
       "crs": {
        "custom": false,
        "name": "EPSG3857"
       },
       "format": "image/png",
       "layers": "0",
       "name": "FWS NWI Wetlands Raster",
       "options": [
        "attribution",
        "bounds",
        "detect_retina",
        "format",
        "layers",
        "max_native_zoom",
        "max_zoom",
        "min_native_zoom",
        "min_zoom",
        "no_wrap",
        "styles",
        "tile_size",
        "tms",
        "transparent",
        "uppercase"
       ],
       "transparent": true,
       "url": "https://www.fws.gov/wetlands/arcgis/services/Wetlands_Raster/ImageServer/WMSServer?"
      }
     },
     "a2d38203080c46aea0dc6c72e85f7935": {
      "model_module": "@jupyter-widgets/base",
      "model_module_version": "1.2.0",
      "model_name": "LayoutModel",
      "state": {}
     },
     "a32ff1c9e2bd48eaa6a477dc7028a916": {
      "model_module": "@jupyter-widgets/controls",
      "model_module_version": "1.5.0",
      "model_name": "ButtonStyleModel",
      "state": {}
     },
     "a36a4972178d41faa510753d3664f74b": {
      "model_module": "@jupyter-widgets/controls",
      "model_module_version": "1.5.0",
      "model_name": "FloatProgressModel",
      "state": {
       "bar_style": "success",
       "layout": "IPY_MODEL_29e95bb17965490b85c25ccde99be631",
       "max": 8,
       "style": "IPY_MODEL_863c4f3ff271410b9942ed7dee8e321c",
       "value": 8
      }
     },
     "a47aa11a6d29480a931bdfc43620d082": {
      "model_module": "jupyter-leaflet",
      "model_module_version": "^0.17.0",
      "model_name": "LeafletTileLayerModel",
      "state": {
       "_model_module_version": "^0.17.0",
       "_view_module_version": "^0.17.0",
       "attribution": "© swisstopo",
       "name": "SwissFederalGeoportal.NationalMapColor",
       "options": [
        "attribution",
        "bounds",
        "detect_retina",
        "max_native_zoom",
        "max_zoom",
        "min_native_zoom",
        "min_zoom",
        "no_wrap",
        "tile_size",
        "tms"
       ],
       "url": "https://wmts.geo.admin.ch/1.0.0/ch.swisstopo.pixelkarte-farbe/default/current/3857/{z}/{x}/{y}.jpeg"
      }
     },
     "a49dea8f6d01426d928e914c3a130b12": {
      "model_module": "jupyter-leaflet",
      "model_module_version": "^0.17.0",
      "model_name": "LeafletTileLayerModel",
      "state": {
       "_model_module_version": "^0.17.0",
       "_view_module_version": "^0.17.0",
       "attribution": "&copy; <a href=\"https://www.openstreetmap.org/copyright\">OpenStreetMap</a> contributors",
       "base": true,
       "max_zoom": 19,
       "min_zoom": 1,
       "name": "OpenStreetMap",
       "options": [
        "attribution",
        "bounds",
        "detect_retina",
        "max_native_zoom",
        "max_zoom",
        "min_native_zoom",
        "min_zoom",
        "no_wrap",
        "tile_size",
        "tms"
       ],
       "url": "https://a.tile.openstreetmap.org/{z}/{x}/{y}.png"
      }
     },
     "a63c34c0096b4ea0979b18f9ce6521ff": {
      "model_module": "@jupyter-widgets/controls",
      "model_module_version": "1.5.0",
      "model_name": "ToggleButtonModel",
      "state": {
       "button_style": "primary",
       "icon": "table",
       "layout": "IPY_MODEL_8a17cb8cb3294d59b3cbae2b251b02ff",
       "style": "IPY_MODEL_42db2873b9df431aa08f1177bd3bb778",
       "tooltip": "Open attribute table"
      }
     },
     "a65b557875cf4135b05cd9af6dc50442": {
      "model_module": "@jupyter-widgets/base",
      "model_module_version": "1.2.0",
      "model_name": "LayoutModel",
      "state": {
       "margin": "0px 0px 0px 20px"
      }
     },
     "a6709f310189469bbc6af595fe85a6fc": {
      "model_module": "jupyter-leaflet",
      "model_module_version": "^0.17.0",
      "model_name": "LeafletTileLayerModel",
      "state": {
       "_model_module_version": "^0.17.0",
       "_view_module_version": "^0.17.0",
       "attribution": "Justice Map",
       "max_zoom": 22,
       "name": "JusticeMap.plurality",
       "options": [
        "attribution",
        "bounds",
        "detect_retina",
        "max_native_zoom",
        "max_zoom",
        "min_native_zoom",
        "min_zoom",
        "no_wrap",
        "tile_size",
        "tms"
       ],
       "url": "https://www.justicemap.org/tile/county/plural/{z}/{x}/{y}.png"
      }
     },
     "a6a55f65b1bf4999ba9d702a8f3336a8": {
      "model_module": "@jupyter-widgets/base",
      "model_module_version": "1.2.0",
      "model_name": "LayoutModel",
      "state": {
       "height": "28px",
       "width": "72px"
      }
     },
     "a6da8dfd9bed48d99129a08b5198996d": {
      "model_module": "jupyter-leaflet",
      "model_module_version": "^0.17.0",
      "model_name": "LeafletTileLayerModel",
      "state": {
       "_model_module_version": "^0.17.0",
       "_view_module_version": "^0.17.0",
       "attribution": "(C) Stadia Maps, (C) OpenMapTiles (C) OpenStreetMap contributors",
       "max_zoom": 20,
       "name": "Stadia.OSMBright",
       "options": [
        "attribution",
        "bounds",
        "detect_retina",
        "max_native_zoom",
        "max_zoom",
        "min_native_zoom",
        "min_zoom",
        "no_wrap",
        "tile_size",
        "tms"
       ],
       "url": "https://tiles.stadiamaps.com/tiles/osm_bright/{z}/{x}/{y}.png"
      }
     },
     "a9104e1468c3489ca577511670532fb5": {
      "model_module": "jupyter-leaflet",
      "model_module_version": "^0.17.0",
      "model_name": "LeafletTileLayerModel",
      "state": {
       "_model_module_version": "^0.17.0",
       "_view_module_version": "^0.17.0",
       "attribution": "Google",
       "max_zoom": 22,
       "name": "Google Maps",
       "options": [
        "attribution",
        "bounds",
        "detect_retina",
        "max_native_zoom",
        "max_zoom",
        "min_native_zoom",
        "min_zoom",
        "no_wrap",
        "tile_size",
        "tms"
       ],
       "url": "https://mt1.google.com/vt/lyrs=m&x={x}&y={y}&z={z}"
      }
     },
     "a9917b49951240e1866bcab2a1720ea3": {
      "model_module": "@jupyter-widgets/base",
      "model_module_version": "1.2.0",
      "model_name": "LayoutModel",
      "state": {
       "height": "28px",
       "padding": "0px 0px 0px 4px",
       "width": "28px"
      }
     },
     "a9ad1edbcf1c46d4886f8a71b45e3bae": {
      "model_module": "jupyter-leaflet",
      "model_module_version": "^0.17.0",
      "model_name": "LeafletTileLayerModel",
      "state": {
       "_model_module_version": "^0.17.0",
       "_view_module_version": "^0.17.0",
       "attribution": "Datenquelle: basemap.at",
       "max_zoom": 19,
       "name": "BasemapAT.grau",
       "options": [
        "attribution",
        "bounds",
        "detect_retina",
        "max_native_zoom",
        "max_zoom",
        "min_native_zoom",
        "min_zoom",
        "no_wrap",
        "tile_size",
        "tms"
       ],
       "url": "https://maps.wien.gv.at/basemap/bmapgrau/normal/google3857/{z}/{y}/{x}.png"
      }
     },
     "a9e3a269b53d4e478e1524272e7d6574": {
      "model_module": "@jupyter-widgets/base",
      "model_module_version": "1.2.0",
      "model_name": "LayoutModel",
      "state": {}
     },
     "aa4f9227e9a542bf8aa7f59c91f25b5f": {
      "model_module": "jupyter-leaflet",
      "model_module_version": "^0.17.0",
      "model_name": "LeafletTileLayerModel",
      "state": {
       "_model_module_version": "^0.17.0",
       "_view_module_version": "^0.17.0",
       "attribution": "Justice Map",
       "max_zoom": 22,
       "name": "JusticeMap.income",
       "options": [
        "attribution",
        "bounds",
        "detect_retina",
        "max_native_zoom",
        "max_zoom",
        "min_native_zoom",
        "min_zoom",
        "no_wrap",
        "tile_size",
        "tms"
       ],
       "url": "https://www.justicemap.org/tile/county/income/{z}/{x}/{y}.png"
      }
     },
     "ab1cfe1a95264ac28a45c8a7317dd4ee": {
      "model_module": "jupyter-leaflet",
      "model_module_version": "^0.17.0",
      "model_name": "LeafletTileLayerModel",
      "state": {
       "_model_module_version": "^0.17.0",
       "_view_module_version": "^0.17.0",
       "attribution": "CyclOSM | Map data: (C) OpenStreetMap contributors",
       "max_zoom": 20,
       "name": "CyclOSM",
       "options": [
        "attribution",
        "bounds",
        "detect_retina",
        "max_native_zoom",
        "max_zoom",
        "min_native_zoom",
        "min_zoom",
        "no_wrap",
        "tile_size",
        "tms"
       ],
       "url": "https://a.tile-cyclosm.openstreetmap.fr/cyclosm/{z}/{x}/{y}.png"
      }
     },
     "ab9ac017eb064db88fd6a90de0da7b4c": {
      "model_module": "@jupyter-widgets/base",
      "model_module_version": "1.2.0",
      "model_name": "LayoutModel",
      "state": {}
     },
     "abce14b2310e4396ae5dc8570b1b08b2": {
      "model_module": "@jupyter-widgets/base",
      "model_module_version": "1.2.0",
      "model_name": "LayoutModel",
      "state": {}
     },
     "ac22612cb88a45c093e79b4f2747aa06": {
      "model_module": "jupyter-leaflet",
      "model_module_version": "^0.17.0",
      "model_name": "LeafletWMSLayerModel",
      "state": {
       "_model_module_version": "^0.17.0",
       "_view_module_version": "^0.17.0",
       "attribution": "FWS",
       "crs": {
        "custom": false,
        "name": "EPSG3857"
       },
       "format": "image/png",
       "layers": "1",
       "name": "FWS NWI Wetlands",
       "options": [
        "attribution",
        "bounds",
        "detect_retina",
        "format",
        "layers",
        "max_native_zoom",
        "max_zoom",
        "min_native_zoom",
        "min_zoom",
        "no_wrap",
        "styles",
        "tile_size",
        "tms",
        "transparent",
        "uppercase"
       ],
       "transparent": true,
       "url": "https://www.fws.gov/wetlands/arcgis/services/Wetlands/MapServer/WMSServer?"
      }
     },
     "ac5689aba30245a3b8cf5a70b3834daa": {
      "model_module": "@jupyter-widgets/output",
      "model_module_version": "1.0.0",
      "model_name": "OutputModel",
      "state": {
       "layout": "IPY_MODEL_0e9ce36e9606495f82424bfff42f4c4d"
      }
     },
     "ace4848dfe914473869ba73314b10263": {
      "model_module": "jupyter-leaflet",
      "model_module_version": "^0.17.0",
      "model_name": "LeafletTileLayerModel",
      "state": {
       "_model_module_version": "^0.17.0",
       "_view_module_version": "^0.17.0",
       "attribution": "Tiles (C) Esri -- Source: Esri, DeLorme, NAVTEQ, USGS, Intermap, iPC, NRCAN, Esri Japan, METI, Esri China (Hong Kong), Esri (Thailand), TomTom, 2012",
       "max_zoom": 22,
       "name": "Esri.WorldStreetMap",
       "options": [
        "attribution",
        "bounds",
        "detect_retina",
        "max_native_zoom",
        "max_zoom",
        "min_native_zoom",
        "min_zoom",
        "no_wrap",
        "tile_size",
        "tms"
       ],
       "url": "https://server.arcgisonline.com/ArcGIS/rest/services/World_Street_Map/MapServer/tile/{z}/{y}/{x}"
      }
     },
     "ad2cc34997464ae68abfec7d6c8a0702": {
      "model_module": "@jupyter-widgets/base",
      "model_module_version": "1.2.0",
      "model_name": "LayoutModel",
      "state": {}
     },
     "ad30f527a6774f25abb32f4fc703d72e": {
      "model_module": "@jupyter-widgets/controls",
      "model_module_version": "1.5.0",
      "model_name": "DescriptionStyleModel",
      "state": {
       "description_width": ""
      }
     },
     "ade26e9339c74a659f4646b6ba5c819a": {
      "model_module": "jupyter-leaflet",
      "model_module_version": "^0.17.0",
      "model_name": "LeafletWMSLayerModel",
      "state": {
       "_model_module_version": "^0.17.0",
       "_view_module_version": "^0.17.0",
       "attribution": "USGS",
       "crs": {
        "custom": false,
        "name": "EPSG3857"
       },
       "format": "image/png",
       "layers": "USGSNAIPImagery:FalseColorComposite",
       "name": "USGS NAIP Imagery False Color",
       "options": [
        "attribution",
        "bounds",
        "detect_retina",
        "format",
        "layers",
        "max_native_zoom",
        "max_zoom",
        "min_native_zoom",
        "min_zoom",
        "no_wrap",
        "styles",
        "tile_size",
        "tms",
        "transparent",
        "uppercase"
       ],
       "transparent": true,
       "url": "https://imagery.nationalmap.gov/arcgis/services/USGSNAIPImagery/ImageServer/WMSServer?"
      }
     },
     "ae34a1baf02d4c389c53bfc7abdff0f1": {
      "model_module": "jupyter-leaflet",
      "model_module_version": "^0.17.0",
      "model_name": "LeafletTileLayerModel",
      "state": {
       "_model_module_version": "^0.17.0",
       "_view_module_version": "^0.17.0",
       "attribution": "Map data: (C) OpenStreetMap contributors | Map style: (C) waymarkedtrails.org (CC-BY-SA)",
       "name": "WaymarkedTrails.skating",
       "options": [
        "attribution",
        "bounds",
        "detect_retina",
        "max_native_zoom",
        "max_zoom",
        "min_native_zoom",
        "min_zoom",
        "no_wrap",
        "tile_size",
        "tms"
       ],
       "url": "https://tile.waymarkedtrails.org/skating/{z}/{x}/{y}.png"
      }
     },
     "ae7304ce2aca496994ebce88f7acb45b": {
      "model_module": "jupyter-leaflet",
      "model_module_version": "^0.17.0",
      "model_name": "LeafletTileLayerModel",
      "state": {
       "_model_module_version": "^0.17.0",
       "_view_module_version": "^0.17.0",
       "attribution": "© swisstopo",
       "name": "SwissFederalGeoportal.NationalMapGrey",
       "options": [
        "attribution",
        "bounds",
        "detect_retina",
        "max_native_zoom",
        "max_zoom",
        "min_native_zoom",
        "min_zoom",
        "no_wrap",
        "tile_size",
        "tms"
       ],
       "url": "https://wmts.geo.admin.ch/1.0.0/ch.swisstopo.pixelkarte-grau/default/current/3857/{z}/{x}/{y}.jpeg"
      }
     },
     "ae83e575da684ca3ac94c903c3311513": {
      "model_module": "jupyter-leaflet",
      "model_module_version": "^0.17.0",
      "model_name": "LeafletScaleControlModel",
      "state": {
       "_model_module_version": "^0.17.0",
       "_view_module_version": "^0.17.0",
       "imperial": true,
       "max_width": 100,
       "metric": true,
       "options": [
        "imperial",
        "max_width",
        "metric",
        "position",
        "update_when_idle"
       ],
       "position": "bottomleft",
       "update_when_idle": false
      }
     },
     "aefd4e0853df4391aed5746adcdb9bbc": {
      "model_module": "@jupyter-widgets/base",
      "model_module_version": "1.2.0",
      "model_name": "LayoutModel",
      "state": {
       "height": "28px",
       "width": "72px"
      }
     },
     "b16ef1c7df0f479881f2236493074c95": {
      "model_module": "@jupyter-widgets/controls",
      "model_module_version": "1.5.0",
      "model_name": "ButtonStyleModel",
      "state": {}
     },
     "b17147030d71487fbb8c54783c7ce5ab": {
      "model_module": "@jupyter-widgets/controls",
      "model_module_version": "1.5.0",
      "model_name": "DatePickerModel",
      "state": {
       "description": "End Date",
       "disabled": false,
       "layout": "IPY_MODEL_9846ec6b21ce48849b6923f11c91f224",
       "style": "IPY_MODEL_5dae730bbe24466a8fc92a2e2a238f1f",
       "value": {
        "date": 1,
        "month": 2,
        "year": 2019
       }
      }
     },
     "b1a94c5ef9da403b8a46ed8f10db5d14": {
      "model_module": "jupyter-leaflet",
      "model_module_version": "^0.17.0",
      "model_name": "LeafletMapStyleModel",
      "state": {
       "_model_module_version": "^0.17.0",
       "cursor": "move"
      }
     },
     "b1cdf00a374249c49acdbc2a62719377": {
      "model_module": "jupyter-leaflet",
      "model_module_version": "^0.17.0",
      "model_name": "LeafletDrawControlModel",
      "state": {
       "_model_module_version": "^0.17.0",
       "_view_module_version": "^0.17.0",
       "data": [
        {
         "geometry": {
          "coordinates": [
           [
            [
             -121.546,
             36.00593
            ],
            [
             -121.546,
             36.01973
            ],
            [
             -121.519014,
             36.01973
            ],
            [
             -121.519014,
             36.00593
            ],
            [
             -121.546,
             36.00593
            ]
           ]
          ],
          "type": "Polygon"
         },
         "properties": {
          "style": {
           "Opacity": 0.1,
           "clickable": true,
           "color": "green",
           "fill": true,
           "fillColor": "green",
           "fillOpacity": 0.1,
           "opacity": 0.5,
           "stroke": true,
           "weight": 4
          }
         },
         "type": "Feature"
        }
       ],
       "options": [
        "position"
       ],
       "polygon": {},
       "polyline": {},
       "rectangle": {
        "allowIntersection": false,
        "drawError": {
         "color": "#dd253b",
         "message": "Ops!"
        },
        "shapeOptions": {
         "Opacity": 0.1,
         "color": "green",
         "fillColor": "green",
         "fillOpacity": 0.1
        },
        "transform": true
       }
      }
     },
     "b2262c1a6ca24c148b21a10647835a9a": {
      "model_module": "jupyter-leaflet",
      "model_module_version": "^0.17.0",
      "model_name": "LeafletTileLayerModel",
      "state": {
       "_model_module_version": "^0.17.0",
       "_view_module_version": "^0.17.0",
       "attribution": "Justice Map",
       "max_zoom": 22,
       "name": "JusticeMap.white",
       "options": [
        "attribution",
        "bounds",
        "detect_retina",
        "max_native_zoom",
        "max_zoom",
        "min_native_zoom",
        "min_zoom",
        "no_wrap",
        "tile_size",
        "tms"
       ],
       "url": "https://www.justicemap.org/tile/county/white/{z}/{x}/{y}.png"
      }
     },
     "b283bda3c776466c9fc1a32256c64444": {
      "model_module": "@jupyter-widgets/controls",
      "model_module_version": "1.5.0",
      "model_name": "VBoxModel",
      "state": {
       "children": [
        "IPY_MODEL_5265e04f05fd4bf89782e5dc104e0563",
        "IPY_MODEL_3417db2f37834f18a78d31ec215fd75c"
       ],
       "layout": "IPY_MODEL_68da07ea9a7f42ee93d8c386eb07d2d3"
      }
     },
     "b2bfb4b9ecea41a7a0ce4cea6b11ad92": {
      "model_module": "@jupyter-widgets/output",
      "model_module_version": "1.0.0",
      "model_name": "OutputModel",
      "state": {
       "layout": "IPY_MODEL_2339ca80d0e84c12928f04886c7a502c",
       "outputs": [
        {
         "name": "stdout",
         "output_type": "stream",
         "text": "Called Run Model\nNot using the GPU\n"
        },
        {
         "data": {
          "application/vnd.jupyter.widget-view+json": {
           "model_id": "9f6b81be562a46c08693a38cdd781676",
           "version_major": 2,
           "version_minor": 0
          },
          "text/plain": "  0%|          | 0/8 [00:00<?, ?it/s]"
         },
         "metadata": {},
         "output_type": "display_data"
        },
        {
         "name": "stdout",
         "output_type": "stream",
         "text": "1/1 [==============================] - 3s 3s/step\n1/1 [==============================] - 1s 1s/step\n1/1 [==============================] - 1s 1s/step\n1/1 [==============================] - 1s 981ms/step\n1/1 [==============================] - 1s 996ms/step\n1/1 [==============================] - 1s 989ms/step\n1/1 [==============================] - 1s 978ms/step\n1/1 [==============================] - 1s 989ms/step\n1/1 [==============================] - 1s 981ms/step\n1/1 [==============================] - 1s 980ms/step\n1/1 [==============================] - 1s 986ms/step\n1/1 [==============================] - 1s 988ms/step\n1/1 [==============================] - 1s 984ms/step\n1/1 [==============================] - 1s 982ms/step\n1/1 [==============================] - 1s 990ms/step\n1/1 [==============================] - 1s 974ms/step\n1/1 [==============================] - 1s 981ms/step\n1/1 [==============================] - 1s 984ms/step\n1/1 [==============================] - 1s 1s/step\n1/1 [==============================] - 1s 984ms/step\n1/1 [==============================] - 1s 978ms/step\n1/1 [==============================] - 1s 979ms/step\n1/1 [==============================] - 1s 978ms/step\n1/1 [==============================] - 1s 975ms/step\n"
        }
       ]
      }
     },
     "b332dfd23415411c9b08a4baf9a5dffa": {
      "model_module": "@jupyter-widgets/controls",
      "model_module_version": "1.5.0",
      "model_name": "ToggleButtonModel",
      "state": {
       "button_style": "primary",
       "icon": "eraser",
       "layout": "IPY_MODEL_33e2750a85714eabaebf128df7b4fb36",
       "style": "IPY_MODEL_3721fb779f4641b68b341b0afa2816ab",
       "tooltip": "Remove all drawn features"
      }
     },
     "b387a334d71342298fe720562f02a4e0": {
      "model_module": "@jupyter-widgets/base",
      "model_module_version": "1.2.0",
      "model_name": "LayoutModel",
      "state": {
       "height": "auto",
       "padding": "0px 0px 0px 4px",
       "width": "auto"
      }
     },
     "b3e78d7cad124d7fb7278f9782581ee4": {
      "model_module": "@jupyter-widgets/base",
      "model_module_version": "1.2.0",
      "model_name": "LayoutModel",
      "state": {
       "height": "auto",
       "padding": "0px 0px 0px 4px",
       "width": "auto"
      }
     },
     "b3f55987a6a04bfe98ddba1989923b42": {
      "model_module": "jupyter-leaflet",
      "model_module_version": "^0.17.0",
      "model_name": "LeafletTileLayerModel",
      "state": {
       "_model_module_version": "^0.17.0",
       "_view_module_version": "^0.17.0",
       "attribution": "Imagery provided by services from the Global Imagery Browse Services (GIBS), operated by the NASA/GSFC/Earth Science Data and Information System (ESDIS) with funding provided by NASA/HQ.",
       "max_zoom": 8,
       "name": "NASAGIBS.ModisTerraSnowCover",
       "options": [
        "attribution",
        "bounds",
        "detect_retina",
        "max_native_zoom",
        "max_zoom",
        "min_native_zoom",
        "min_zoom",
        "no_wrap",
        "tile_size",
        "tms"
       ],
       "url": "https://map1.vis.earthdata.nasa.gov/wmts-webmerc/MODIS_Terra_NDSI_Snow_Cover/default//GoogleMapsCompatible_Level8/{z}/{y}/{x}.png"
      }
     },
     "b572d19d85424963b56051892d480d53": {
      "model_module": "@jupyter-widgets/base",
      "model_module_version": "1.2.0",
      "model_name": "LayoutModel",
      "state": {
       "height": "auto",
       "padding": "0px 0px 0px 4px",
       "width": "auto"
      }
     },
     "b5796f6babfc477d8ebbd654797ca796": {
      "model_module": "@jupyter-widgets/controls",
      "model_module_version": "1.5.0",
      "model_name": "ButtonModel",
      "state": {
       "description": "Clear TextBox",
       "layout": "IPY_MODEL_3ca19ec67d58484d9dbea2d343e7078b",
       "style": "IPY_MODEL_b7a26ab025804d8ab85b053ad9b7f5ed"
      }
     },
     "b5f830153b314ff5a15ab1d31872bfbd": {
      "model_module": "jupyter-leaflet",
      "model_module_version": "^0.17.0",
      "model_name": "LeafletTileLayerModel",
      "state": {
       "_model_module_version": "^0.17.0",
       "_view_module_version": "^0.17.0",
       "attribution": "(C) OpenStreetMap contributors, vizualization CC-By-SA 2.0 Freemap.sk",
       "max_zoom": 16,
       "name": "FreeMapSK",
       "options": [
        "attribution",
        "bounds",
        "detect_retina",
        "max_native_zoom",
        "max_zoom",
        "min_native_zoom",
        "min_zoom",
        "no_wrap",
        "tile_size",
        "tms"
       ],
       "url": "https://a.freemap.sk/T/{z}/{x}/{y}.jpeg"
      }
     },
     "b620dfd848dc451a9ffcab06461d53be": {
      "model_module": "@jupyter-widgets/controls",
      "model_module_version": "1.5.0",
      "model_name": "ButtonStyleModel",
      "state": {}
     },
     "b690e26422a04923b41e9dd99cb78706": {
      "model_module": "jupyter-leaflet",
      "model_module_version": "^0.17.0",
      "model_name": "LeafletTileLayerModel",
      "state": {
       "_model_module_version": "^0.17.0",
       "_view_module_version": "^0.17.0",
       "attribution": "Kaartgegevens (C) Kadaster",
       "max_zoom": 19,
       "name": "nlmaps.grijs",
       "options": [
        "attribution",
        "bounds",
        "detect_retina",
        "max_native_zoom",
        "max_zoom",
        "min_native_zoom",
        "min_zoom",
        "no_wrap",
        "tile_size",
        "tms"
       ],
       "url": "https://service.pdok.nl/brt/achtergrondkaart/wmts/v2_0/grijs/EPSG:3857/{z}/{x}/{y}.png"
      }
     },
     "b6b15c1ed9e64571906fe156631654c0": {
      "model_module": "@jupyter-widgets/base",
      "model_module_version": "1.2.0",
      "model_name": "LayoutModel",
      "state": {
       "height": "auto",
       "padding": "0px 0px 0px 4px",
       "width": "auto"
      }
     },
     "b7108808ef9b4029bfa9db1535080424": {
      "model_module": "@jupyter-widgets/base",
      "model_module_version": "1.2.0",
      "model_name": "LayoutModel",
      "state": {}
     },
     "b7340416784e45c28b344c23d3d24eea": {
      "model_module": "@jupyter-widgets/controls",
      "model_module_version": "1.5.0",
      "model_name": "HBoxModel",
      "state": {
       "children": [
        "IPY_MODEL_1d75482be24c46b591afcd84ecb531ad",
        "IPY_MODEL_b17147030d71487fbb8c54783c7ce5ab"
       ],
       "layout": "IPY_MODEL_e4bfeecf44f646ce84404c65a32097b9"
      }
     },
     "b7558d3fe6884223869e0c6d3c9de9c3": {
      "model_module": "@jupyter-widgets/controls",
      "model_module_version": "1.5.0",
      "model_name": "HTMLModel",
      "state": {
       "layout": "IPY_MODEL_4300d01bb7e74798974ee70efce861ac",
       "style": "IPY_MODEL_7cf8e5aa23604d24a0dd184d666ba0c0",
       "value": "Hover over shoreline"
      }
     },
     "b7a26ab025804d8ab85b053ad9b7f5ed": {
      "model_module": "@jupyter-widgets/controls",
      "model_module_version": "1.5.0",
      "model_name": "ButtonStyleModel",
      "state": {}
     },
     "b86835a49fe246f3889fff4c0e0a12cb": {
      "model_module": "@jupyter-widgets/controls",
      "model_module_version": "1.5.0",
      "model_name": "DescriptionStyleModel",
      "state": {
       "description_width": ""
      }
     },
     "b99d5059756a4093874ed96da1c9b59e": {
      "model_module": "@jupyter-widgets/controls",
      "model_module_version": "1.5.0",
      "model_name": "ButtonModel",
      "state": {
       "description": "Generate ROI",
       "layout": "IPY_MODEL_034f3221be8542998f54cf90aa982b1f",
       "style": "IPY_MODEL_11b3e6a8dcaf44daa6f2518af0b24192"
      }
     },
     "b9cf732994d647828e1f479fd5e58cbc": {
      "model_module": "@jupyter-widgets/controls",
      "model_module_version": "1.5.0",
      "model_name": "ToggleButtonModel",
      "state": {
       "button_style": "primary",
       "icon": "fast-forward",
       "layout": "IPY_MODEL_ffab27bfce0f49d099963bd193970b31",
       "style": "IPY_MODEL_4ed7348730e64594ab5144c5fe0ddb6d",
       "tooltip": "Activate the time slider"
      }
     },
     "ba3b17f2c15d49be9351c020bb18218b": {
      "model_module": "jupyter-leaflet",
      "model_module_version": "^0.17.0",
      "model_name": "LeafletTileLayerModel",
      "state": {
       "_model_module_version": "^0.17.0",
       "_view_module_version": "^0.17.0",
       "attribution": "Imagery provided by NOAA National Centers for Environmental Information (NCEI); International Bathymetric Chart of the Southern Ocean (IBCSO); General Bathymetric Chart of the Oceans (GEBCO).",
       "max_zoom": 9,
       "name": "Esri.AntarcticBasemap",
       "options": [
        "attribution",
        "bounds",
        "detect_retina",
        "max_native_zoom",
        "max_zoom",
        "min_native_zoom",
        "min_zoom",
        "no_wrap",
        "tile_size",
        "tms"
       ],
       "url": "https://tiles.arcgis.com/tiles/C8EMgrsFcRFL6LrL/arcgis/rest/services/Antarctic_Basemap/MapServer/tile/{z}/{y}/{x}"
      }
     },
     "ba6735f9151243e0b73764b84276abd4": {
      "model_module": "@jupyter-widgets/base",
      "model_module_version": "1.2.0",
      "model_name": "LayoutModel",
      "state": {}
     },
     "bb02923da1104cd4ad4332905e26ddb0": {
      "model_module": "@jupyter-widgets/base",
      "model_module_version": "1.2.0",
      "model_name": "LayoutModel",
      "state": {}
     },
     "bb9c03edafc84d8da15e9583cec71786": {
      "model_module": "@jupyter-widgets/controls",
      "model_module_version": "1.5.0",
      "model_name": "HBoxModel",
      "state": {
       "children": [
        "IPY_MODEL_e271e7af4aec4562b6add6f010d6eb6b",
        "IPY_MODEL_db3fa482a95640f7ba520c1ad2d53f53",
        "IPY_MODEL_c9cec5c86273435eadba63a92929ebc6",
        "IPY_MODEL_5358e44b2fd741a99704967d038fb645",
        "IPY_MODEL_4192f50b48e54d4ab130acd08841ba22"
       ],
       "layout": "IPY_MODEL_56c63d24faf3498f8dbaff4d6ab4b595"
      }
     },
     "bbd1c9704e5f4a968d2391132d1545bb": {
      "model_module": "@jupyter-widgets/controls",
      "model_module_version": "1.5.0",
      "model_name": "ButtonStyleModel",
      "state": {}
     },
     "bbd45901131047bbb589159703b85699": {
      "model_module": "@jupyter-widgets/base",
      "model_module_version": "1.2.0",
      "model_name": "LayoutModel",
      "state": {}
     },
     "bc52141330af4d74bb4e0e8a2545d3a3": {
      "model_module": "jupyter-leaflet",
      "model_module_version": "^0.17.0",
      "model_name": "LeafletTileLayerModel",
      "state": {
       "_model_module_version": "^0.17.0",
       "_view_module_version": "^0.17.0",
       "attribution": "Map data: (C) OpenStreetMap contributors | Map style: (C) waymarkedtrails.org (CC-BY-SA)",
       "name": "WaymarkedTrails.cycling",
       "options": [
        "attribution",
        "bounds",
        "detect_retina",
        "max_native_zoom",
        "max_zoom",
        "min_native_zoom",
        "min_zoom",
        "no_wrap",
        "tile_size",
        "tms"
       ],
       "url": "https://tile.waymarkedtrails.org/cycling/{z}/{x}/{y}.png"
      }
     },
     "bcca85269f5e452087ab5e3c4f7057d2": {
      "model_module": "jupyter-leaflet",
      "model_module_version": "^0.17.0",
      "model_name": "LeafletTileLayerModel",
      "state": {
       "_model_module_version": "^0.17.0",
       "_view_module_version": "^0.17.0",
       "attribution": "Map tiles by Stamen Design, CC BY 3.0 -- Map data (C) OpenStreetMap contributors",
       "max_zoom": 20,
       "name": "Stamen.TopOSMFeatures",
       "options": [
        "attribution",
        "bounds",
        "detect_retina",
        "max_native_zoom",
        "max_zoom",
        "min_native_zoom",
        "min_zoom",
        "no_wrap",
        "tile_size",
        "tms"
       ],
       "url": "https://stamen-tiles-a.a.ssl.fastly.net/toposm-features/{z}/{x}/{y}.png"
      }
     },
     "bccb6dcbcd3b45128427dba9e7588956": {
      "model_module": "jupyter-leaflet",
      "model_module_version": "^0.17.0",
      "model_name": "LeafletTileLayerModel",
      "state": {
       "_model_module_version": "^0.17.0",
       "_view_module_version": "^0.17.0",
       "attribution": "Map data: (C) OpenStreetMap contributors | Map style: (C) waymarkedtrails.org (CC-BY-SA)",
       "name": "WaymarkedTrails.riding",
       "options": [
        "attribution",
        "bounds",
        "detect_retina",
        "max_native_zoom",
        "max_zoom",
        "min_native_zoom",
        "min_zoom",
        "no_wrap",
        "tile_size",
        "tms"
       ],
       "url": "https://tile.waymarkedtrails.org/riding/{z}/{x}/{y}.png"
      }
     },
     "bfb0df59545044f08aaca0bf166f68a7": {
      "model_module": "@jupyter-widgets/controls",
      "model_module_version": "1.5.0",
      "model_name": "DescriptionStyleModel",
      "state": {
       "description_width": ""
      }
     },
     "bffbc4b06d694595be7f3ac10d0a7f5f": {
      "model_module": "@jupyter-widgets/controls",
      "model_module_version": "1.5.0",
      "model_name": "RadioButtonsModel",
      "state": {
       "_options_labels": [
        "ENSEMBLE",
        "BEST"
       ],
       "description": "Select:",
       "index": 0,
       "layout": "IPY_MODEL_4395f7f9df7b4172ab719eadea699208",
       "style": "IPY_MODEL_f307ef5bd1b946808c8b4c899d173a07"
      }
     },
     "c16ea89089f54a45b3ea974dcc1c5f2d": {
      "model_module": "@jupyter-widgets/base",
      "model_module_version": "1.2.0",
      "model_name": "LayoutModel",
      "state": {
       "height": "auto",
       "padding": "0px 0px 0px 4px",
       "width": "auto"
      }
     },
     "c19efa4f38d14f13a26776b313f7a616": {
      "model_module": "@jupyter-widgets/controls",
      "model_module_version": "1.5.0",
      "model_name": "VBoxModel",
      "state": {
       "children": [
        "IPY_MODEL_2ed0e16de6ee44ff922a258218bad855",
        "IPY_MODEL_b7340416784e45c28b344c23d3d24eea"
       ],
       "layout": "IPY_MODEL_251093c7bd71436a8f4d474fc4046e39"
      }
     },
     "c34c3875888048b29e075b3b0344a8c0": {
      "model_module": "@jupyter-widgets/controls",
      "model_module_version": "1.5.0",
      "model_name": "ToggleButtonModel",
      "state": {
       "icon": "wrench",
       "layout": "IPY_MODEL_70c269bfc80e4c858043ce29585b556d",
       "style": "IPY_MODEL_1ebd7e91eeff43b5b58326eb45cf8ea3",
       "tooltip": "Toolbar"
      }
     },
     "c3f7ea29031b4d6c9dfced2c9ee103f5": {
      "model_module": "@jupyter-widgets/controls",
      "model_module_version": "1.5.0",
      "model_name": "DescriptionStyleModel",
      "state": {
       "description_width": ""
      }
     },
     "c436a50b95ed4a17879f0d405638c1f3": {
      "model_module": "@jupyter-widgets/base",
      "model_module_version": "1.2.0",
      "model_name": "LayoutModel",
      "state": {
       "border": "1px solid black"
      }
     },
     "c498fc52c62a467e9d5593a71f8b4fb1": {
      "model_module": "jupyter-leaflet",
      "model_module_version": "^0.17.0",
      "model_name": "LeafletTileLayerModel",
      "state": {
       "_model_module_version": "^0.17.0",
       "_view_module_version": "^0.17.0",
       "attribution": "Map tiles by Stamen Design, CC BY 3.0 -- Map data (C) OpenStreetMap contributors",
       "name": "Stamen.Terrain",
       "options": [
        "attribution",
        "bounds",
        "detect_retina",
        "max_native_zoom",
        "max_zoom",
        "min_native_zoom",
        "min_zoom",
        "no_wrap",
        "tile_size",
        "tms"
       ],
       "url": "https://stamen-tiles-a.a.ssl.fastly.net/terrain/{z}/{x}/{y}.png"
      }
     },
     "c4a80886919c46dfa291a0c448dafb42": {
      "model_module": "jupyter-leaflet",
      "model_module_version": "^0.17.0",
      "model_name": "LeafletTileLayerModel",
      "state": {
       "_model_module_version": "^0.17.0",
       "_view_module_version": "^0.17.0",
       "attribution": "Imagery provided by services from the Global Imagery Browse Services (GIBS), operated by the NASA/GSFC/Earth Science Data and Information System (ESDIS) with funding provided by NASA/HQ.",
       "max_zoom": 7,
       "name": "NASAGIBS.ModisTerraChlorophyll",
       "options": [
        "attribution",
        "bounds",
        "detect_retina",
        "max_native_zoom",
        "max_zoom",
        "min_native_zoom",
        "min_zoom",
        "no_wrap",
        "tile_size",
        "tms"
       ],
       "url": "https://map1.vis.earthdata.nasa.gov/wmts-webmerc/MODIS_Terra_Chlorophyll_A/default//GoogleMapsCompatible_Level7/{z}/{y}/{x}.png"
      }
     },
     "c5f7496264bc4f27a490241670bac905": {
      "model_module": "@jupyter-widgets/controls",
      "model_module_version": "1.5.0",
      "model_name": "DescriptionStyleModel",
      "state": {
       "description_width": ""
      }
     },
     "c6241da457c743dba92fb74b6fd3ee60": {
      "model_module": "@jupyter-widgets/base",
      "model_module_version": "1.2.0",
      "model_name": "LayoutModel",
      "state": {
       "height": "auto",
       "padding": "0px 0px 0px 4px",
       "width": "auto"
      }
     },
     "c7642c5dd54f44fd919b010e31273f01": {
      "model_module": "jupyter-leaflet",
      "model_module_version": "^0.17.0",
      "model_name": "LeafletTileLayerModel",
      "state": {
       "_model_module_version": "^0.17.0",
       "_view_module_version": "^0.17.0",
       "attribution": "Map tiles by <a href=\"https://labs.strava.com/heatmap\">Strava 2021</a>",
       "max_zoom": 15,
       "name": "Strava.Winter",
       "options": [
        "attribution",
        "bounds",
        "detect_retina",
        "max_native_zoom",
        "max_zoom",
        "min_native_zoom",
        "min_zoom",
        "no_wrap",
        "tile_size",
        "tms"
       ],
       "url": "https://heatmap-external-a.strava.com/tiles/winter/hot/{z}/{x}/{y}.png"
      }
     },
     "c7d9fbc95c99451dab2464113538e598": {
      "model_module": "@jupyter-widgets/controls",
      "model_module_version": "1.5.0",
      "model_name": "CheckboxModel",
      "state": {
       "description": "Use GPU?",
       "disabled": false,
       "indent": false,
       "layout": "IPY_MODEL_877989ae8533442e8d2d23134ce18508",
       "style": "IPY_MODEL_1f6a025608bd44d39b33aa5c26d6a5b4",
       "value": false
      }
     },
     "c826299901954b288d72209532e245b0": {
      "model_module": "@jupyter-widgets/controls",
      "model_module_version": "1.5.0",
      "model_name": "ToggleButtonModel",
      "state": {
       "button_style": "primary",
       "icon": "pencil-square-o",
       "layout": "IPY_MODEL_e796a02a151743a9a974f31bbea201e9",
       "style": "IPY_MODEL_7570a26bc2824f41bd4f8e1e23301e12",
       "tooltip": "Create vector data"
      }
     },
     "c826305eff804c52abf0b9061646109c": {
      "model_module": "@jupyter-widgets/controls",
      "model_module_version": "1.5.0",
      "model_name": "DescriptionStyleModel",
      "state": {
       "description_width": ""
      }
     },
     "c9121d94495949808803151043993fb7": {
      "model_module": "jupyter-leaflet",
      "model_module_version": "^0.17.0",
      "model_name": "LeafletTileLayerModel",
      "state": {
       "_model_module_version": "^0.17.0",
       "_view_module_version": "^0.17.0",
       "attribution": "Tiles &copy; Esri &mdash; Esri, DeLorme, NAVTEQ, TomTom, Intermap, iPC, USGS, FAO, NPS, NRCAN, GeoBase, Kadaster NL, Ordnance Survey, Esri Japan, METI, Esri China (Hong Kong), and the GIS User Community",
       "max_zoom": 24,
       "name": "Esri.ArcticOceanReference",
       "options": [
        "attribution",
        "bounds",
        "detect_retina",
        "max_native_zoom",
        "max_zoom",
        "min_native_zoom",
        "min_zoom",
        "no_wrap",
        "tile_size",
        "tms"
       ],
       "url": "http://server.arcgisonline.com/ArcGIS/rest/services/Polar/Arctic_Ocean_Reference/MapServer/tile/{z}/{y}/{x}"
      }
     },
     "c9ab63d40a334139957e29a32cb487bb": {
      "model_module": "jupyter-leaflet",
      "model_module_version": "^0.17.0",
      "model_name": "LeafletWMSLayerModel",
      "state": {
       "_model_module_version": "^0.17.0",
       "_view_module_version": "^0.17.0",
       "attribution": "ESA",
       "crs": {
        "custom": false,
        "name": "EPSG3857"
       },
       "format": "image/png",
       "layers": "WORLDCOVER_2020_S2_FCC",
       "name": "ESA Worldcover 2020 S2 FCC",
       "options": [
        "attribution",
        "bounds",
        "detect_retina",
        "format",
        "layers",
        "max_native_zoom",
        "max_zoom",
        "min_native_zoom",
        "min_zoom",
        "no_wrap",
        "styles",
        "tile_size",
        "tms",
        "transparent",
        "uppercase"
       ],
       "transparent": true,
       "url": "https://services.terrascope.be/wms/v2"
      }
     },
     "c9cec5c86273435eadba63a92929ebc6": {
      "model_module": "@jupyter-widgets/controls",
      "model_module_version": "1.5.0",
      "model_name": "ButtonModel",
      "state": {
       "description": "Generate ROI",
       "layout": "IPY_MODEL_85f8c23f2052475db73ed8bf91cb4ddf",
       "style": "IPY_MODEL_a32ff1c9e2bd48eaa6a477dc7028a916"
      }
     },
     "ca5011af7b23443d954ef4b71ce5890c": {
      "model_module": "@jupyter-widgets/base",
      "model_module_version": "1.2.0",
      "model_name": "LayoutModel",
      "state": {}
     },
     "ca9f4e6fcec84635aaf78e8e1517c586": {
      "model_module": "jupyter-leaflet",
      "model_module_version": "^0.17.0",
      "model_name": "LeafletTileLayerModel",
      "state": {
       "_model_module_version": "^0.17.0",
       "_view_module_version": "^0.17.0",
       "attribution": "(C) Stadia Maps, (C) OpenMapTiles (C) OpenStreetMap contributors",
       "max_zoom": 20,
       "name": "Stadia.Outdoors",
       "options": [
        "attribution",
        "bounds",
        "detect_retina",
        "max_native_zoom",
        "max_zoom",
        "min_native_zoom",
        "min_zoom",
        "no_wrap",
        "tile_size",
        "tms"
       ],
       "url": "https://tiles.stadiamaps.com/tiles/outdoors/{z}/{x}/{y}.png"
      }
     },
     "caf80e04f4964e8d8568e83a9a14a49f": {
      "model_module": "jupyter-leaflet",
      "model_module_version": "^0.17.0",
      "model_name": "LeafletTileLayerModel",
      "state": {
       "_model_module_version": "^0.17.0",
       "_view_module_version": "^0.17.0",
       "attribution": "Map tiles by Stamen Design, CC BY 3.0 -- Map data (C) OpenStreetMap contributors",
       "name": "Stamen.TerrainBackground",
       "options": [
        "attribution",
        "bounds",
        "detect_retina",
        "max_native_zoom",
        "max_zoom",
        "min_native_zoom",
        "min_zoom",
        "no_wrap",
        "tile_size",
        "tms"
       ],
       "url": "https://stamen-tiles-a.a.ssl.fastly.net/terrain-background/{z}/{x}/{y}.png"
      }
     },
     "caf93fe3e3df4dae90e1bb6b59b8c198": {
      "model_module": "@jupyter-widgets/controls",
      "model_module_version": "1.5.0",
      "model_name": "GridBoxModel",
      "state": {
       "children": [
        "IPY_MODEL_6bbebebbb03c423c96820d4787d2e2ba",
        "IPY_MODEL_000bc63a4baf40f3b2dba183ecdbc23b",
        "IPY_MODEL_cf4a8e6d66bc418fbc9693370977ff36",
        "IPY_MODEL_27cbaa9e468944659d82cfb4ad7eaf1a",
        "IPY_MODEL_7287366fc5b84039bdb75d8d0fd159ba",
        "IPY_MODEL_b9cf732994d647828e1f479fd5e58cbc",
        "IPY_MODEL_b332dfd23415411c9b08a4baf9a5dffa",
        "IPY_MODEL_57944c2b1dc74d39b1b99bd82ae8f997",
        "IPY_MODEL_e842d105823a47f9b8d7f99c30a4f964",
        "IPY_MODEL_5543df70ee1646ebaa47b3560f2ceabf",
        "IPY_MODEL_449aa8afb3934fe5bb4000475afa7829",
        "IPY_MODEL_60b972e6806b4eb591c307e707343522",
        "IPY_MODEL_9839983c92b34747bd339d404deff956",
        "IPY_MODEL_7752a7bf0af8480aa16330ced3b3c5fe",
        "IPY_MODEL_a63c34c0096b4ea0979b18f9ce6521ff",
        "IPY_MODEL_95d9255aea5d4118a7ec16174c1a6b9a",
        "IPY_MODEL_dd9990e67e744b45aa4866284e31c3e3",
        "IPY_MODEL_778a25819d1b46b7a2f87d4b933c32b6"
       ],
       "layout": "IPY_MODEL_4c37e373877e4167a464e73cf483f75c"
      }
     },
     "cbb1cba8076f40509733dfdbff0dc3bb": {
      "model_module": "jupyter-leaflet",
      "model_module_version": "^0.17.0",
      "model_name": "LeafletLayersControlModel",
      "state": {
       "_model_module_version": "^0.17.0",
       "_view_module_version": "^0.17.0",
       "options": [
        "position"
       ],
       "position": "topright"
      }
     },
     "cbbd89bbf7944dedba79e69341803efa": {
      "model_module": "jupyter-leaflet",
      "model_module_version": "^0.17.0",
      "model_name": "LeafletTileLayerModel",
      "state": {
       "_model_module_version": "^0.17.0",
       "_view_module_version": "^0.17.0",
       "attribution": "openAIP Data (CC-BY-NC-SA)",
       "max_zoom": 14,
       "name": "OpenAIP",
       "options": [
        "attribution",
        "bounds",
        "detect_retina",
        "max_native_zoom",
        "max_zoom",
        "min_native_zoom",
        "min_zoom",
        "no_wrap",
        "tile_size",
        "tms"
       ],
       "url": "https://1.tile.maps.openaip.net/geowebcache/service/tms/1.0.0/openaip_basemap@EPSG%3A900913@png/{z}/{x}/{y}.png"
      }
     },
     "cca79313f1c44d41956328fc9289e883": {
      "model_module": "jupyter-leaflet",
      "model_module_version": "^0.17.0",
      "model_name": "LeafletAttributionControlModel",
      "state": {
       "_model_module_version": "^0.17.0",
       "_view_module_version": "^0.17.0",
       "options": [
        "position",
        "prefix"
       ],
       "position": "bottomright",
       "prefix": "ipyleaflet"
      }
     },
     "cd0c3715d996499786cf1ce0f9a574c9": {
      "model_module": "@jupyter-widgets/output",
      "model_module_version": "1.0.0",
      "model_name": "OutputModel",
      "state": {
       "layout": "IPY_MODEL_5df9570eb26e4bb093b9801f961c8b38",
       "outputs": [
        {
         "name": "stdout",
         "output_type": "stream",
         "text": "ROIs have been saved. Now click Download ROI to download the ROIs using CoastSat\n"
        }
       ]
      }
     },
     "cd1d255fad5843c78c7fe09755f1e470": {
      "model_module": "@jupyter-widgets/base",
      "model_module_version": "1.2.0",
      "model_name": "LayoutModel",
      "state": {}
     },
     "cdc951af2c3148f29fd3af28a4aa60e2": {
      "model_module": "@jupyter-widgets/base",
      "model_module_version": "1.2.0",
      "model_name": "LayoutModel",
      "state": {
       "height": "auto",
       "padding": "0px 0px 0px 4px",
       "width": "auto"
      }
     },
     "cdd034b214bc4a39b4f623751e438dee": {
      "model_module": "@jupyter-widgets/base",
      "model_module_version": "1.2.0",
      "model_name": "LayoutModel",
      "state": {}
     },
     "ce13f1b9482d4c6eaf4daaa3f3def437": {
      "model_module": "@jupyter-widgets/controls",
      "model_module_version": "1.5.0",
      "model_name": "DescriptionStyleModel",
      "state": {
       "description_width": ""
      }
     },
     "cf4115ec83a343ab96643331829a5996": {
      "model_module": "jupyter-leaflet",
      "model_module_version": "^0.17.0",
      "model_name": "LeafletTileLayerModel",
      "state": {
       "_model_module_version": "^0.17.0",
       "_view_module_version": "^0.17.0",
       "attribution": "Tiles (C) Esri -- National Geographic, Esri, DeLorme, NAVTEQ, UNEP-WCMC, USGS, NASA, ESA, METI, NRCAN, GEBCO, NOAA, iPC",
       "max_zoom": 16,
       "name": "Esri.NatGeoWorldMap",
       "options": [
        "attribution",
        "bounds",
        "detect_retina",
        "max_native_zoom",
        "max_zoom",
        "min_native_zoom",
        "min_zoom",
        "no_wrap",
        "tile_size",
        "tms"
       ],
       "url": "https://server.arcgisonline.com/ArcGIS/rest/services/NatGeo_World_Map/MapServer/tile/{z}/{y}/{x}"
      }
     },
     "cf4a8e6d66bc418fbc9693370977ff36": {
      "model_module": "@jupyter-widgets/controls",
      "model_module_version": "1.5.0",
      "model_name": "ToggleButtonModel",
      "state": {
       "button_style": "primary",
       "icon": "adjust",
       "layout": "IPY_MODEL_96297b3f17b9499583ad33b3e37c00f5",
       "style": "IPY_MODEL_2bf11442840e468cab26f1a1a5e11513",
       "tooltip": "Planet imagery"
      }
     },
     "cf918a0b8f4b465cb0d5a33bcd185652": {
      "model_module": "jupyter-leaflet",
      "model_module_version": "^0.17.0",
      "model_name": "LeafletTileLayerModel",
      "state": {
       "_model_module_version": "^0.17.0",
       "_view_module_version": "^0.17.0",
       "attribution": "Datenquelle: basemap.at",
       "max_zoom": 19,
       "name": "BasemapAT.overlay",
       "options": [
        "attribution",
        "bounds",
        "detect_retina",
        "max_native_zoom",
        "max_zoom",
        "min_native_zoom",
        "min_zoom",
        "no_wrap",
        "tile_size",
        "tms"
       ],
       "url": "https://maps.wien.gv.at/basemap/bmapoverlay/normal/google3857/{z}/{y}/{x}.png"
      }
     },
     "d015d91ff7a947eeb78da9eaeb59456c": {
      "model_module": "@jupyter-widgets/controls",
      "model_module_version": "1.5.0",
      "model_name": "DescriptionStyleModel",
      "state": {
       "description_width": ""
      }
     },
     "d4bfb0cbd8fc476fb1ff194c70014c4d": {
      "model_module": "jupyter-leaflet",
      "model_module_version": "^0.17.0",
      "model_name": "LeafletWMSLayerModel",
      "state": {
       "_model_module_version": "^0.17.0",
       "_view_module_version": "^0.17.0",
       "attribution": "MRLC",
       "crs": {
        "custom": false,
        "name": "EPSG3857"
       },
       "format": "image/png",
       "layers": "NLCD_2016_Land_Cover_L48",
       "name": "NLCD 2016 CONUS Land Cover",
       "options": [
        "attribution",
        "bounds",
        "detect_retina",
        "format",
        "layers",
        "max_native_zoom",
        "max_zoom",
        "min_native_zoom",
        "min_zoom",
        "no_wrap",
        "styles",
        "tile_size",
        "tms",
        "transparent",
        "uppercase"
       ],
       "transparent": true,
       "url": "https://www.mrlc.gov/geoserver/mrlc_display/NLCD_2016_Land_Cover_L48/wms?"
      }
     },
     "d4c4bf0fa5af43fda8407360de69333f": {
      "model_module": "@jupyter-widgets/base",
      "model_module_version": "1.2.0",
      "model_name": "LayoutModel",
      "state": {}
     },
     "d4e3d667dbb541e8840a8fc15130c644": {
      "model_module": "@jupyter-widgets/controls",
      "model_module_version": "1.5.0",
      "model_name": "HTMLModel",
      "state": {
       "layout": "IPY_MODEL_147b4870cc344c88868d8c87916cfdde",
       "style": "IPY_MODEL_6b3917da4dd3447ca9e0855b37434b8d",
       "value": "Hover over shoreline"
      }
     },
     "d5fc8043cd6f4bd8a50e8a2f961a4604": {
      "model_module": "jupyter-leaflet",
      "model_module_version": "^0.17.0",
      "model_name": "LeafletTileLayerModel",
      "state": {
       "_model_module_version": "^0.17.0",
       "_view_module_version": "^0.17.0",
       "attribution": "Map data: (C) OpenStreetMap contributors | Map style: (C) OpenFireMap (CC-BY-SA)",
       "max_zoom": 19,
       "name": "OpenFireMap",
       "options": [
        "attribution",
        "bounds",
        "detect_retina",
        "max_native_zoom",
        "max_zoom",
        "min_native_zoom",
        "min_zoom",
        "no_wrap",
        "tile_size",
        "tms"
       ],
       "url": "http://openfiremap.org/hytiles/{z}/{x}/{y}.png"
      }
     },
     "d601663c46a0436d8a3b50921be0b72a": {
      "model_module": "jupyter-leaflet",
      "model_module_version": "^0.17.0",
      "model_name": "LeafletTileLayerModel",
      "state": {
       "_model_module_version": "^0.17.0",
       "_view_module_version": "^0.17.0",
       "attribution": "(C) OpenStreetMap contributors",
       "max_zoom": 15,
       "name": "HikeBike.HillShading",
       "options": [
        "attribution",
        "bounds",
        "detect_retina",
        "max_native_zoom",
        "max_zoom",
        "min_native_zoom",
        "min_zoom",
        "no_wrap",
        "tile_size",
        "tms"
       ],
       "url": "https://tiles.wmflabs.org/hillshading/{z}/{x}/{y}.png"
      }
     },
     "d6d9a7e78b73462abdcf90bf835aaa6f": {
      "model_module": "@jupyter-widgets/controls",
      "model_module_version": "1.5.0",
      "model_name": "ToggleButtonModel",
      "state": {
       "icon": "wrench",
       "layout": "IPY_MODEL_a9917b49951240e1866bcab2a1720ea3",
       "style": "IPY_MODEL_890338597efd4a018c9ada1fcf5086e3",
       "tooltip": "Toolbar"
      }
     },
     "d701982d79d54a2c92ad777cfe4b0985": {
      "model_module": "@jupyter-widgets/base",
      "model_module_version": "1.2.0",
      "model_name": "LayoutModel",
      "state": {
       "padding": "10px"
      }
     },
     "d7893e839b1f49cd8bce9dbb799dae92": {
      "model_module": "@jupyter-widgets/base",
      "model_module_version": "1.2.0",
      "model_name": "LayoutModel",
      "state": {
       "height": "auto",
       "padding": "0px 0px 0px 4px",
       "width": "auto"
      }
     },
     "d7f5331e2c7746a699d5bdabb7881132": {
      "model_module": "jupyter-leaflet",
      "model_module_version": "^0.17.0",
      "model_name": "LeafletWMSLayerModel",
      "state": {
       "_model_module_version": "^0.17.0",
       "_view_module_version": "^0.17.0",
       "attribution": "USGS",
       "crs": {
        "custom": false,
        "name": "EPSG3857"
       },
       "format": "image/png",
       "layers": "0",
       "name": "USGS Hydrography",
       "options": [
        "attribution",
        "bounds",
        "detect_retina",
        "format",
        "layers",
        "max_native_zoom",
        "max_zoom",
        "min_native_zoom",
        "min_zoom",
        "no_wrap",
        "styles",
        "tile_size",
        "tms",
        "transparent",
        "uppercase"
       ],
       "transparent": true,
       "url": "https://basemap.nationalmap.gov/arcgis/services/USGSHydroCached/MapServer/WMSServer?"
      }
     },
     "d87d91d3399d4d7a8a640465f6251615": {
      "model_module": "@jupyter-widgets/controls",
      "model_module_version": "1.5.0",
      "model_name": "DescriptionStyleModel",
      "state": {
       "description_width": ""
      }
     },
     "d9e1a0fef1eb44bab1b212ef47bc0576": {
      "model_module": "jupyter-leaflet",
      "model_module_version": "^0.17.0",
      "model_name": "LeafletTileLayerModel",
      "state": {
       "_model_module_version": "^0.17.0",
       "_view_module_version": "^0.17.0",
       "attribution": "(C) OpenStreetMap contributors (C) CARTO",
       "max_zoom": 20,
       "name": "CartoDB.VoyagerOnlyLabels",
       "options": [
        "attribution",
        "bounds",
        "detect_retina",
        "max_native_zoom",
        "max_zoom",
        "min_native_zoom",
        "min_zoom",
        "no_wrap",
        "tile_size",
        "tms"
       ],
       "url": "https://a.basemaps.cartocdn.com/rastertiles/voyager_only_labels/{z}/{x}/{y}.png"
      }
     },
     "d9e6a3019b5a456d9f8d0d7169599238": {
      "model_module": "jupyter-leaflet",
      "model_module_version": "^0.17.0",
      "model_name": "LeafletMapStyleModel",
      "state": {
       "_model_module_version": "^0.17.0"
      }
     },
     "da4ef2296e8b4896b4df737f97388778": {
      "model_module": "@jupyter-widgets/controls",
      "model_module_version": "1.5.0",
      "model_name": "ButtonModel",
      "state": {
       "description": "Remove coastline",
       "layout": "IPY_MODEL_abce14b2310e4396ae5dc8570b1b08b2",
       "style": "IPY_MODEL_8e485595e21e4bf5aab538aaf6d705b5"
      }
     },
     "dac0e2b68a6a4d19aad3dc6c4ebb948a": {
      "model_module": "jupyter-leaflet",
      "model_module_version": "^0.17.0",
      "model_name": "LeafletWMSLayerModel",
      "state": {
       "_model_module_version": "^0.17.0",
       "_view_module_version": "^0.17.0",
       "attribution": "USGS",
       "crs": {
        "custom": false,
        "name": "EPSG3857"
       },
       "format": "image/png",
       "layers": "USGSNAIPImagery:NaturalColor",
       "name": "USGS NAIP Imagery",
       "options": [
        "attribution",
        "bounds",
        "detect_retina",
        "format",
        "layers",
        "max_native_zoom",
        "max_zoom",
        "min_native_zoom",
        "min_zoom",
        "no_wrap",
        "styles",
        "tile_size",
        "tms",
        "transparent",
        "uppercase"
       ],
       "transparent": true,
       "url": "https://imagery.nationalmap.gov/arcgis/services/USGSNAIPImagery/ImageServer/WMSServer?"
      }
     },
     "daca2b43987b4de68fb82807750d0f68": {
      "model_module": "@jupyter-widgets/base",
      "model_module_version": "1.2.0",
      "model_name": "LayoutModel",
      "state": {
       "height": "auto",
       "padding": "0px 0px 0px 4px",
       "width": "auto"
      }
     },
     "dadbc0eae39242818088acddcbfc5201": {
      "model_module": "@jupyter-widgets/controls",
      "model_module_version": "1.5.0",
      "model_name": "HTMLModel",
      "state": {
       "layout": "IPY_MODEL_ad2cc34997464ae68abfec7d6c8a0702",
       "style": "IPY_MODEL_ad30f527a6774f25abb32f4fc703d72e",
       "value": "____________________________________________________"
      }
     },
     "db3fa482a95640f7ba520c1ad2d53f53": {
      "model_module": "@jupyter-widgets/controls",
      "model_module_version": "1.5.0",
      "model_name": "ButtonModel",
      "state": {
       "description": "Load Shoreline",
       "layout": "IPY_MODEL_457f219c9c694c32a9a6480e3db2f76c",
       "style": "IPY_MODEL_9f3530c662ba425bb796d6b0d7b50c3f"
      }
     },
     "dbb7fbd138aa47b2a9ce3e9deed0627c": {
      "model_module": "@jupyter-widgets/controls",
      "model_module_version": "1.5.0",
      "model_name": "ButtonStyleModel",
      "state": {}
     },
     "dc4afda1a8bc45cc9704a8d377225831": {
      "model_module": "@jupyter-widgets/controls",
      "model_module_version": "1.5.0",
      "model_name": "DescriptionStyleModel",
      "state": {
       "description_width": ""
      }
     },
     "dc7ab4ab7bd8426299f2d48776702297": {
      "model_module": "jupyter-leaflet",
      "model_module_version": "^0.17.0",
      "model_name": "LeafletTileLayerModel",
      "state": {
       "_model_module_version": "^0.17.0",
       "_view_module_version": "^0.17.0",
       "attribution": "Map tiles by Stamen Design, CC BY 3.0 -- Map data (C) OpenStreetMap contributors",
       "max_zoom": 20,
       "name": "Stamen.TonerLabels",
       "options": [
        "attribution",
        "bounds",
        "detect_retina",
        "max_native_zoom",
        "max_zoom",
        "min_native_zoom",
        "min_zoom",
        "no_wrap",
        "tile_size",
        "tms"
       ],
       "url": "https://stamen-tiles-a.a.ssl.fastly.net/toner-labels/{z}/{x}/{y}.png"
      }
     },
     "dcaa2b391c034b1d9ba558d43875504e": {
      "model_module": "@jupyter-widgets/controls",
      "model_module_version": "1.5.0",
      "model_name": "ButtonStyleModel",
      "state": {}
     },
     "dcc7dd4a43cb4fad9544f08ef0324181": {
      "model_module": "jupyter-leaflet",
      "model_module_version": "^0.17.0",
      "model_name": "LeafletWMSLayerModel",
      "state": {
       "_model_module_version": "^0.17.0",
       "_view_module_version": "^0.17.0",
       "attribution": "MRLC",
       "crs": {
        "custom": false,
        "name": "EPSG3857"
       },
       "format": "image/png",
       "layers": "NLCD_2004_Land_Cover_L48",
       "name": "NLCD 2004 CONUS Land Cover",
       "options": [
        "attribution",
        "bounds",
        "detect_retina",
        "format",
        "layers",
        "max_native_zoom",
        "max_zoom",
        "min_native_zoom",
        "min_zoom",
        "no_wrap",
        "styles",
        "tile_size",
        "tms",
        "transparent",
        "uppercase"
       ],
       "transparent": true,
       "url": "https://www.mrlc.gov/geoserver/mrlc_display/NLCD_2004_Land_Cover_L48/wms?"
      }
     },
     "dcd8a05cf5f14b6fa4bda14b3b803cfc": {
      "model_module": "jupyter-leaflet",
      "model_module_version": "^0.17.0",
      "model_name": "LeafletTileLayerModel",
      "state": {
       "_model_module_version": "^0.17.0",
       "_view_module_version": "^0.17.0",
       "attribution": "Map data: (C) OpenStreetMap contributors & ODbL, (C) www.opensnowmap.org CC-BY-SA",
       "name": "OpenSnowMap.pistes",
       "options": [
        "attribution",
        "bounds",
        "detect_retina",
        "max_native_zoom",
        "max_zoom",
        "min_native_zoom",
        "min_zoom",
        "no_wrap",
        "tile_size",
        "tms"
       ],
       "url": "https://tiles.opensnowmap.org/pistes/{z}/{x}/{y}.png"
      }
     },
     "dd839c5518ba495892bf615792e70a6a": {
      "model_module": "@jupyter-widgets/controls",
      "model_module_version": "1.5.0",
      "model_name": "ButtonModel",
      "state": {
       "description": "Remove saved ROIs",
       "layout": "IPY_MODEL_224534f0e11c4d31bff1c8c30b11812a",
       "style": "IPY_MODEL_6e12d79958bb43fe86ca5afebfc55ae6"
      }
     },
     "dd9990e67e744b45aa4866284e31c3e3": {
      "model_module": "@jupyter-widgets/controls",
      "model_module_version": "1.5.0",
      "model_name": "ToggleButtonModel",
      "state": {
       "button_style": "primary",
       "icon": "stack-exchange",
       "layout": "IPY_MODEL_3b72a00ce9d442648c4ba2d70adafeb5",
       "style": "IPY_MODEL_10a7f7793803498296774aa16cc552c7",
       "tooltip": "Discover STAC Catalog"
      }
     },
     "de67497257744694af15f37faa486000": {
      "model_module": "jupyter-leaflet",
      "model_module_version": "^0.17.0",
      "model_name": "LeafletTileLayerModel",
      "state": {
       "_model_module_version": "^0.17.0",
       "_view_module_version": "^0.17.0",
       "attribution": "Map tiles by Stamen Design, CC BY 3.0 -- Map data (C) OpenStreetMap contributors",
       "max_zoom": 20,
       "name": "Stamen.TonerHybrid",
       "options": [
        "attribution",
        "bounds",
        "detect_retina",
        "max_native_zoom",
        "max_zoom",
        "min_native_zoom",
        "min_zoom",
        "no_wrap",
        "tile_size",
        "tms"
       ],
       "url": "https://stamen-tiles-a.a.ssl.fastly.net/toner-hybrid/{z}/{x}/{y}.png"
      }
     },
     "df3f9b5a02de44568b0459bc2801be23": {
      "model_module": "@jupyter-widgets/base",
      "model_module_version": "1.2.0",
      "model_name": "LayoutModel",
      "state": {}
     },
     "dfb5cbd7bb284c1a96dc27adce0d2af1": {
      "model_module": "@jupyter-widgets/controls",
      "model_module_version": "1.5.0",
      "model_name": "ButtonModel",
      "state": {
       "description": "Remove coastline",
       "layout": "IPY_MODEL_50e43301789548bcb5ae477453e64793",
       "style": "IPY_MODEL_31c47cb41227428585ab005e8adbf5f7"
      }
     },
     "e084805a428a4e36b7e1b529e85c18d5": {
      "model_module": "@jupyter-widgets/controls",
      "model_module_version": "1.5.0",
      "model_name": "ButtonModel",
      "state": {
       "description": "Remove transects",
       "layout": "IPY_MODEL_ab9ac017eb064db88fd6a90de0da7b4c",
       "style": "IPY_MODEL_b620dfd848dc451a9ffcab06461d53be"
      }
     },
     "e0906ae9d65f47c0aebe65741814878f": {
      "model_module": "jupyter-leaflet",
      "model_module_version": "^0.17.0",
      "model_name": "LeafletTileLayerModel",
      "state": {
       "_model_module_version": "^0.17.0",
       "_view_module_version": "^0.17.0",
       "attribution": "OpenStreetMap",
       "max_zoom": 22,
       "name": "OpenStreetMap",
       "options": [
        "attribution",
        "bounds",
        "detect_retina",
        "max_native_zoom",
        "max_zoom",
        "min_native_zoom",
        "min_zoom",
        "no_wrap",
        "tile_size",
        "tms"
       ]
      }
     },
     "e0c765183c6c4ab59886cfa83d9209ef": {
      "model_module": "jupyter-leaflet",
      "model_module_version": "^0.17.0",
      "model_name": "LeafletWMSLayerModel",
      "state": {
       "_model_module_version": "^0.17.0",
       "_view_module_version": "^0.17.0",
       "attribution": "USGS",
       "crs": {
        "custom": false,
        "name": "EPSG3857"
       },
       "format": "image/png",
       "layers": "USGSNAIPImagery:NDVI_Color",
       "name": "USGS NAIP Imagery NDVI",
       "options": [
        "attribution",
        "bounds",
        "detect_retina",
        "format",
        "layers",
        "max_native_zoom",
        "max_zoom",
        "min_native_zoom",
        "min_zoom",
        "no_wrap",
        "styles",
        "tile_size",
        "tms",
        "transparent",
        "uppercase"
       ],
       "transparent": true,
       "url": "https://imagery.nationalmap.gov/arcgis/services/USGSNAIPImagery/ImageServer/WMSServer?"
      }
     },
     "e271e7af4aec4562b6add6f010d6eb6b": {
      "model_module": "@jupyter-widgets/controls",
      "model_module_version": "1.5.0",
      "model_name": "ButtonModel",
      "state": {
       "description": "Load Transects",
       "layout": "IPY_MODEL_14827deae1eb41e19f68ef2bfd45fb25",
       "style": "IPY_MODEL_6a981578c92f423aadac34dc9055bd78"
      }
     },
     "e2a379f1bd354b548f183fd17a14503c": {
      "model_module": "@jupyter-widgets/controls",
      "model_module_version": "1.5.0",
      "model_name": "ButtonStyleModel",
      "state": {}
     },
     "e3e9acdd36ef4d9c907875a5d95948d1": {
      "model_module": "jupyter-leaflet",
      "model_module_version": "^0.17.0",
      "model_name": "LeafletZoomControlModel",
      "state": {
       "_model_module_version": "^0.17.0",
       "_view_module_version": "^0.17.0",
       "options": [
        "position",
        "zoom_in_text",
        "zoom_in_title",
        "zoom_out_text",
        "zoom_out_title"
       ]
      }
     },
     "e41f138188db4c87ac8411e86a07cc78": {
      "model_module": "jupyter-leaflet",
      "model_module_version": "^0.17.0",
      "model_name": "LeafletTileLayerModel",
      "state": {
       "_model_module_version": "^0.17.0",
       "_view_module_version": "^0.17.0",
       "attribution": "![](https://docs.onemap.sg/maps/images/oneMap64-01.png) New OneMap | Map data (C) contributors, Singapore Land Authority",
       "name": "OneMapSG.Original",
       "options": [
        "attribution",
        "bounds",
        "detect_retina",
        "max_native_zoom",
        "max_zoom",
        "min_native_zoom",
        "min_zoom",
        "no_wrap",
        "tile_size",
        "tms"
       ],
       "url": "https://maps-a.onemap.sg/v3/Original/{z}/{x}/{y}.png"
      }
     },
     "e4bfeecf44f646ce84404c65a32097b9": {
      "model_module": "@jupyter-widgets/base",
      "model_module_version": "1.2.0",
      "model_name": "LayoutModel",
      "state": {}
     },
     "e5496c9b9d3a4fd18aa0f3e0b7483fec": {
      "model_module": "jupyter-leaflet",
      "model_module_version": "^0.17.0",
      "model_name": "LeafletTileLayerModel",
      "state": {
       "_model_module_version": "^0.17.0",
       "_view_module_version": "^0.17.0",
       "attribution": "Tiles (C) Esri -- Source: USGS, Esri, TANA, DeLorme, and NPS",
       "max_zoom": 13,
       "name": "Esri.WorldTerrain",
       "options": [
        "attribution",
        "bounds",
        "detect_retina",
        "max_native_zoom",
        "max_zoom",
        "min_native_zoom",
        "min_zoom",
        "no_wrap",
        "tile_size",
        "tms"
       ],
       "url": "https://server.arcgisonline.com/ArcGIS/rest/services/World_Terrain_Base/MapServer/tile/{z}/{y}/{x}"
      }
     },
     "e59a27ee18d34296956ecb129b5f39f9": {
      "model_module": "@jupyter-widgets/controls",
      "model_module_version": "1.5.0",
      "model_name": "DescriptionStyleModel",
      "state": {
       "description_width": ""
      }
     },
     "e5b2fc99c9c547ddb47f1d49b4640511": {
      "model_module": "jupyter-leaflet",
      "model_module_version": "^0.17.0",
      "model_name": "LeafletTileLayerModel",
      "state": {
       "_model_module_version": "^0.17.0",
       "_view_module_version": "^0.17.0",
       "attribution": "Tiles (C) Esri -- Esri, DeLorme, NAVTEQ, TomTom, Intermap, iPC, USGS, FAO, NPS, NRCAN, GeoBase, Kadaster NL, Ordnance Survey, Esri Japan, METI, Esri China (Hong Kong), and the GIS User Community",
       "max_zoom": 22,
       "name": "Esri.WorldTopoMap",
       "options": [
        "attribution",
        "bounds",
        "detect_retina",
        "max_native_zoom",
        "max_zoom",
        "min_native_zoom",
        "min_zoom",
        "no_wrap",
        "tile_size",
        "tms"
       ],
       "url": "https://server.arcgisonline.com/ArcGIS/rest/services/World_Topo_Map/MapServer/tile/{z}/{y}/{x}"
      }
     },
     "e5db8c20012849e3a08b72ce78752056": {
      "model_module": "@jupyter-widgets/base",
      "model_module_version": "1.2.0",
      "model_name": "LayoutModel",
      "state": {
       "height": "auto",
       "padding": "0px 0px 0px 4px",
       "width": "auto"
      }
     },
     "e7536934ca034bb988213c6e59a2e0da": {
      "model_module": "jupyter-leaflet",
      "model_module_version": "^0.17.0",
      "model_name": "LeafletTileLayerModel",
      "state": {
       "_model_module_version": "^0.17.0",
       "_view_module_version": "^0.17.0",
       "attribution": "Tiles courtesy of the U.S. Geological Survey",
       "max_zoom": 20,
       "name": "USGS.USImageryTopo",
       "options": [
        "attribution",
        "bounds",
        "detect_retina",
        "max_native_zoom",
        "max_zoom",
        "min_native_zoom",
        "min_zoom",
        "no_wrap",
        "tile_size",
        "tms"
       ],
       "url": "https://basemap.nationalmap.gov/arcgis/rest/services/USGSImageryTopo/MapServer/tile/{z}/{y}/{x}"
      }
     },
     "e796a02a151743a9a974f31bbea201e9": {
      "model_module": "@jupyter-widgets/base",
      "model_module_version": "1.2.0",
      "model_name": "LayoutModel",
      "state": {
       "height": "auto",
       "padding": "0px 0px 0px 4px",
       "width": "auto"
      }
     },
     "e842d105823a47f9b8d7f99c30a4f964": {
      "model_module": "@jupyter-widgets/controls",
      "model_module_version": "1.5.0",
      "model_name": "ToggleButtonModel",
      "state": {
       "button_style": "primary",
       "icon": "address-book",
       "layout": "IPY_MODEL_c6241da457c743dba92fb74b6fd3ee60",
       "style": "IPY_MODEL_8a935b8b02574339b34568aca0a65b11",
       "tooltip": "Get US Census data"
      }
     },
     "e88f5177d4354b039b19ac2bd866b40a": {
      "model_module": "jupyter-leaflet",
      "model_module_version": "^0.17.0",
      "model_name": "LeafletTileLayerModel",
      "state": {
       "_model_module_version": "^0.17.0",
       "_view_module_version": "^0.17.0",
       "attribution": "(C) OpenStreetMap contributors, Tiles courtesy of Breton OpenStreetMap Team",
       "max_zoom": 19,
       "name": "OpenStreetMap.BZH",
       "options": [
        "attribution",
        "bounds",
        "detect_retina",
        "max_native_zoom",
        "max_zoom",
        "min_native_zoom",
        "min_zoom",
        "no_wrap",
        "tile_size",
        "tms"
       ],
       "url": "https://tile.openstreetmap.bzh/br/{z}/{x}/{y}.png"
      }
     },
     "e90ecfffc907401e8e3caa6cf236fd2c": {
      "model_module": "jupyter-leaflet",
      "model_module_version": "^0.17.0",
      "model_name": "LeafletTileLayerModel",
      "state": {
       "_model_module_version": "^0.17.0",
       "_view_module_version": "^0.17.0",
       "attribution": "Tiles courtesy of the U.S. Geological Survey",
       "max_zoom": 20,
       "name": "USGS.USImagery",
       "options": [
        "attribution",
        "bounds",
        "detect_retina",
        "max_native_zoom",
        "max_zoom",
        "min_native_zoom",
        "min_zoom",
        "no_wrap",
        "tile_size",
        "tms"
       ],
       "url": "https://basemap.nationalmap.gov/arcgis/rest/services/USGSImageryOnly/MapServer/tile/{z}/{y}/{x}"
      }
     },
     "e954bf42d4524eecbeae3a0a9a94359d": {
      "model_module": "@jupyter-widgets/base",
      "model_module_version": "1.2.0",
      "model_name": "LayoutModel",
      "state": {
       "height": "auto",
       "padding": "0px 0px 0px 4px",
       "width": "auto"
      }
     },
     "ea7e3ba09a904128badb57dc85e9ac89": {
      "model_module": "@jupyter-widgets/controls",
      "model_module_version": "1.5.0",
      "model_name": "DescriptionStyleModel",
      "state": {
       "description_width": ""
      }
     },
     "eaca7cec13964bb3b8aeb6d50ae04795": {
      "model_module": "@jupyter-widgets/output",
      "model_module_version": "1.0.0",
      "model_name": "OutputModel",
      "state": {
       "layout": "IPY_MODEL_c436a50b95ed4a17879f0d405638c1f3",
       "outputs": [
        {
         "name": "stdout",
         "output_type": "stream",
         "text": "Loading in the jpgs from the data directory\nRenamed files in C:\\1_USGS\\CoastSeg\\repos\\2_CoastSeg\\CoastSeg_fork\\Seg2Map\\data \nRenamed files in C:\\1_USGS\\CoastSeg\\repos\\2_CoastSeg\\CoastSeg_fork\\Seg2Map\\data \nRenamed files in C:\\1_USGS\\CoastSeg\\repos\\2_CoastSeg\\CoastSeg_fork\\Seg2Map\\data \nRenamed files in C:\\1_USGS\\CoastSeg\\repos\\2_CoastSeg\\CoastSeg_fork\\Seg2Map\\data \nRenamed files in C:\\1_USGS\\CoastSeg\\repos\\2_CoastSeg\\CoastSeg_fork\\Seg2Map\\data \nRenamed files in C:\\1_USGS\\CoastSeg\\repos\\2_CoastSeg\\CoastSeg_fork\\Seg2Map\\data \nRenamed files in C:\\1_USGS\\CoastSeg\\repos\\2_CoastSeg\\CoastSeg_fork\\Seg2Map\\data \nRenamed files in C:\\1_USGS\\CoastSeg\\repos\\2_CoastSeg\\CoastSeg_fork\\Seg2Map\\data \nRenamed files in C:\\1_USGS\\CoastSeg\\repos\\2_CoastSeg\\CoastSeg_fork\\Seg2Map\\data \n\nCopied files that matched C:\\1_USGS\\CoastSeg\\repos\\2_CoastSeg\\CoastSeg_fork\\Seg2Map\\data\\**\\\\**\\preprocessed\\RGB\\*.jpg  \nto C:\\1_USGS\\CoastSeg\\repos\\2_CoastSeg\\CoastSeg_fork\\Seg2Map\\segmentation_data_2022-08-23__09_hr_55_min27\n\nContents of the data directory saved in C:\\1_USGS\\CoastSeg\\repos\\2_CoastSeg\\CoastSeg_fork\\Seg2Map\\segmentation_data_2022-08-23__09_hr_55_min27\n"
        }
       ]
      }
     },
     "eb8ab9445eb04941a635635e34e2ae34": {
      "model_module": "jupyter-leaflet",
      "model_module_version": "^0.17.0",
      "model_name": "LeafletTileLayerModel",
      "state": {
       "_model_module_version": "^0.17.0",
       "_view_module_version": "^0.17.0",
       "attribution": "Imagery provided by services from the Global Imagery Browse Services (GIBS), operated by the NASA/GSFC/Earth Science Data and Information System (ESDIS) with funding provided by NASA/HQ.",
       "max_zoom": 7,
       "name": "NASAGIBS.ModisTerraLSTDay",
       "options": [
        "attribution",
        "bounds",
        "detect_retina",
        "max_native_zoom",
        "max_zoom",
        "min_native_zoom",
        "min_zoom",
        "no_wrap",
        "tile_size",
        "tms"
       ],
       "url": "https://map1.vis.earthdata.nasa.gov/wmts-webmerc/MODIS_Terra_Land_Surface_Temp_Day/default//GoogleMapsCompatible_Level7/{z}/{y}/{x}.png"
      }
     },
     "ebbf10f5d7594bd3b0bb3e7015e03c66": {
      "model_module": "@jupyter-widgets/controls",
      "model_module_version": "1.5.0",
      "model_name": "ToggleButtonModel",
      "state": {
       "button_style": "primary",
       "icon": "search",
       "layout": "IPY_MODEL_8e3fc2abb1984fcf8fc5ba0cde62d858",
       "style": "IPY_MODEL_37f7c227bb4b4e118b37f8a6605fb360",
       "tooltip": "Search XYZ tile services"
      }
     },
     "ebe41f6348be4a188b5c3bd35ddaccdc": {
      "model_module": "jupyter-leaflet",
      "model_module_version": "^0.17.0",
      "model_name": "LeafletWMSLayerModel",
      "state": {
       "_model_module_version": "^0.17.0",
       "_view_module_version": "^0.17.0",
       "attribution": "MRLC",
       "crs": {
        "custom": false,
        "name": "EPSG3857"
       },
       "format": "image/png",
       "layers": "NLCD_2008_Land_Cover_L48",
       "name": "NLCD 2008 CONUS Land Cover",
       "options": [
        "attribution",
        "bounds",
        "detect_retina",
        "format",
        "layers",
        "max_native_zoom",
        "max_zoom",
        "min_native_zoom",
        "min_zoom",
        "no_wrap",
        "styles",
        "tile_size",
        "tms",
        "transparent",
        "uppercase"
       ],
       "transparent": true,
       "url": "https://www.mrlc.gov/geoserver/mrlc_display/NLCD_2008_Land_Cover_L48/wms?"
      }
     },
     "ebfd77faa0cf492dbcea0e78697600f8": {
      "model_module": "jupyter-leaflet",
      "model_module_version": "^0.17.0",
      "model_name": "LeafletTileLayerModel",
      "state": {
       "_model_module_version": "^0.17.0",
       "_view_module_version": "^0.17.0",
       "attribution": "Map data: (C) OpenStreetMap contributors, SRTM | Map style: (C) OpenTopoMap (CC-BY-SA)",
       "max_zoom": 17,
       "name": "OpenTopoMap",
       "options": [
        "attribution",
        "bounds",
        "detect_retina",
        "max_native_zoom",
        "max_zoom",
        "min_native_zoom",
        "min_zoom",
        "no_wrap",
        "tile_size",
        "tms"
       ],
       "url": "https://a.tile.opentopomap.org/{z}/{x}/{y}.png"
      }
     },
     "eddf5f6c2d504d4a8218bcab4e24ff3a": {
      "model_module": "@jupyter-widgets/base",
      "model_module_version": "1.2.0",
      "model_name": "LayoutModel",
      "state": {}
     },
     "ee55d35c8c9d4b1582fe2800cc1202c9": {
      "model_module": "@jupyter-widgets/base",
      "model_module_version": "1.2.0",
      "model_name": "LayoutModel",
      "state": {
       "padding": "10px"
      }
     },
     "eefa127e4b5145fdb8ec376a01d5c6df": {
      "model_module": "@jupyter-widgets/controls",
      "model_module_version": "1.5.0",
      "model_name": "ToggleButtonModel",
      "state": {
       "button_style": "primary",
       "icon": "stack-exchange",
       "layout": "IPY_MODEL_e954bf42d4524eecbeae3a0a9a94359d",
       "style": "IPY_MODEL_5749044580974325bc4ade5a9f7156e2",
       "tooltip": "Discover STAC Catalog"
      }
     },
     "ef441173a92243da9da6002c74a8d901": {
      "model_module": "ipyevents",
      "model_module_version": "2.0.1",
      "model_name": "EventModel",
      "state": {
       "_supported_key_events": [
        "keydown",
        "keyup"
       ],
       "_supported_mouse_events": [
        "click",
        "auxclick",
        "dblclick",
        "mouseenter",
        "mouseleave",
        "mousedown",
        "mouseup",
        "mousemove",
        "wheel",
        "contextmenu",
        "dragstart",
        "drag",
        "dragend",
        "dragenter",
        "dragover",
        "dragleave",
        "drop"
       ],
       "_supported_touch_events": [
        "touchstart",
        "touchend",
        "touchmove",
        "touchcancel"
       ],
       "_view_module": "@jupyter-widgets/controls",
       "_view_module_version": "1.5.0",
       "source": "IPY_MODEL_9bde8fb0b8ac43bcb371027819219929",
       "throttle_or_debounce": "",
       "watched_events": [
        "mouseenter",
        "mouseleave"
       ],
       "xy_coordinate_system": ""
      }
     },
     "ef9518697db14768af4ab98ae7b79e76": {
      "model_module": "@jupyter-widgets/controls",
      "model_module_version": "1.5.0",
      "model_name": "ButtonStyleModel",
      "state": {}
     },
     "f05403fb77ec45f0923c423e45810594": {
      "model_module": "@jupyter-widgets/base",
      "model_module_version": "1.2.0",
      "model_name": "LayoutModel",
      "state": {}
     },
     "f05b1cb20c7541d3a555ca69dc22f2cd": {
      "model_module": "@jupyter-widgets/controls",
      "model_module_version": "1.5.0",
      "model_name": "ButtonModel",
      "state": {
       "description": "Remove transects",
       "layout": "IPY_MODEL_a2d38203080c46aea0dc6c72e85f7935",
       "style": "IPY_MODEL_9950cd4fe74b43beb7c798cf7ef620ce"
      }
     },
     "f140512fedd74acc9fc0b85e5731c645": {
      "model_module": "jupyter-leaflet",
      "model_module_version": "^0.17.0",
      "model_name": "LeafletTileLayerModel",
      "state": {
       "_model_module_version": "^0.17.0",
       "_view_module_version": "^0.17.0",
       "attribution": "Tiles &copy; Esri &mdash; Esri, DeLorme, NAVTEQ, TomTom, Intermap, iPC, USGS, FAO, NPS, NRCAN, GeoBase, Kadaster NL, Ordnance Survey, Esri Japan, METI, Esri China (Hong Kong), and the GIS User Community",
       "max_zoom": 24,
       "name": "Esri.ArcticOceanBase",
       "options": [
        "attribution",
        "bounds",
        "detect_retina",
        "max_native_zoom",
        "max_zoom",
        "min_native_zoom",
        "min_zoom",
        "no_wrap",
        "tile_size",
        "tms"
       ],
       "url": "http://server.arcgisonline.com/ArcGIS/rest/services/Polar/Arctic_Ocean_Base/MapServer/tile/{z}/{y}/{x}"
      }
     },
     "f256337d356b4ba7885f10bdbc783f33": {
      "model_module": "@jupyter-widgets/controls",
      "model_module_version": "1.5.0",
      "model_name": "GridBoxModel",
      "state": {
       "children": [
        "IPY_MODEL_75638c0e5bf3490cb4888f3672c197ab",
        "IPY_MODEL_8d531d08300e4899a2f6b07258c9a619",
        "IPY_MODEL_fc2cfa6480614162993efb632fae0299",
        "IPY_MODEL_6ad9b6afe8764f23984468fbeb8bdacf",
        "IPY_MODEL_74653f88920c425092ee2174d3abc86d",
        "IPY_MODEL_52cee6ad77f24a1990b1a2e769959843",
        "IPY_MODEL_07ae20e8a3f04ab5a365d7277308243b",
        "IPY_MODEL_6556be004297421b83e638246d46ff02",
        "IPY_MODEL_fde39781368c4930b6daaa55551c1f87",
        "IPY_MODEL_8370df3198de4ae4a35ba367f45764af",
        "IPY_MODEL_ebbf10f5d7594bd3b0bb3e7015e03c66",
        "IPY_MODEL_51f383b110614bb2bf20f3cf811cd300",
        "IPY_MODEL_64fb96c7d1fb489f8aa27d3b6881e46e",
        "IPY_MODEL_3b71b57c0ffc48a288e3aa1b32a96e37",
        "IPY_MODEL_8543f0e393ae4c6e8d705511268791c5",
        "IPY_MODEL_c826299901954b288d72209532e245b0",
        "IPY_MODEL_eefa127e4b5145fdb8ec376a01d5c6df",
        "IPY_MODEL_4c41296de871447b8f3778ef0327d7fb"
       ],
       "layout": "IPY_MODEL_17cf528c1e0844618f649abb95551036"
      }
     },
     "f2c6b9dcd5de4c88a9decce5eca4fd8a": {
      "model_module": "@jupyter-widgets/controls",
      "model_module_version": "1.5.0",
      "model_name": "ButtonModel",
      "state": {
       "description": "Remove saved ROIs",
       "layout": "IPY_MODEL_045b4fa6681f4ff481a8413dcee87ff4",
       "style": "IPY_MODEL_dcaa2b391c034b1d9ba558d43875504e"
      }
     },
     "f305eea259bb41cea3ba1aedfcff27e4": {
      "model_module": "jupyter-leaflet",
      "model_module_version": "^0.17.0",
      "model_name": "LeafletTileLayerModel",
      "state": {
       "_model_module_version": "^0.17.0",
       "_view_module_version": "^0.17.0",
       "attribution": "(C) OpenStreetMap contributors (C) CARTO",
       "max_zoom": 20,
       "name": "CartoDB.DarkMatter",
       "options": [
        "attribution",
        "bounds",
        "detect_retina",
        "max_native_zoom",
        "max_zoom",
        "min_native_zoom",
        "min_zoom",
        "no_wrap",
        "tile_size",
        "tms"
       ],
       "url": "https://a.basemaps.cartocdn.com/dark_all/{z}/{x}/{y}.png"
      }
     },
     "f307ef5bd1b946808c8b4c899d173a07": {
      "model_module": "@jupyter-widgets/controls",
      "model_module_version": "1.5.0",
      "model_name": "DescriptionStyleModel",
      "state": {
       "description_width": ""
      }
     },
     "f37716d909a34a88a76ff54f11d64076": {
      "model_module": "jupyter-leaflet",
      "model_module_version": "^0.17.0",
      "model_name": "LeafletTileLayerModel",
      "state": {
       "_model_module_version": "^0.17.0",
       "_view_module_version": "^0.17.0",
       "attribution": "Imagery provided by services from the Global Imagery Browse Services (GIBS), operated by the NASA/GSFC/Earth Science Data and Information System (ESDIS) with funding provided by NASA/HQ.",
       "max_zoom": 6,
       "name": "NASAGIBS.ModisTerraAOD",
       "options": [
        "attribution",
        "bounds",
        "detect_retina",
        "max_native_zoom",
        "max_zoom",
        "min_native_zoom",
        "min_zoom",
        "no_wrap",
        "tile_size",
        "tms"
       ],
       "url": "https://map1.vis.earthdata.nasa.gov/wmts-webmerc/MODIS_Terra_Aerosol/default//GoogleMapsCompatible_Level6/{z}/{y}/{x}.png"
      }
     },
     "f466f18a42654a59bbb335d39b28aa1d": {
      "model_module": "jupyter-leaflet",
      "model_module_version": "^0.17.0",
      "model_name": "LeafletTileLayerModel",
      "state": {
       "_model_module_version": "^0.17.0",
       "_view_module_version": "^0.17.0",
       "attribution": "Map tiles by Stamen Design, CC BY 3.0 -- Map data (C) OpenStreetMap contributors",
       "max_zoom": 20,
       "name": "Stamen.TonerLite",
       "options": [
        "attribution",
        "bounds",
        "detect_retina",
        "max_native_zoom",
        "max_zoom",
        "min_native_zoom",
        "min_zoom",
        "no_wrap",
        "tile_size",
        "tms"
       ],
       "url": "https://stamen-tiles-a.a.ssl.fastly.net/toner-lite/{z}/{x}/{y}.png"
      }
     },
     "f5b6ba16ff874dcbb7af1c700719674a": {
      "model_module": "@jupyter-widgets/controls",
      "model_module_version": "1.5.0",
      "model_name": "ToggleButtonModel",
      "state": {
       "icon": "server",
       "layout": "IPY_MODEL_aefd4e0853df4391aed5746adcdb9bbc",
       "style": "IPY_MODEL_33e3c8bec19047b1b4ddea1993420f25",
       "tooltip": "Layers"
      }
     },
     "f6501280c47d4e6582d651a8fbe01936": {
      "model_module": "jupyter-leaflet",
      "model_module_version": "^0.17.0",
      "model_name": "LeafletTileLayerModel",
      "state": {
       "_model_module_version": "^0.17.0",
       "_view_module_version": "^0.17.0",
       "attribution": "(C) OpenStreetMap contributors",
       "name": "OpenStreetMap.BlackAndWhite",
       "options": [
        "attribution",
        "bounds",
        "detect_retina",
        "max_native_zoom",
        "max_zoom",
        "min_native_zoom",
        "min_zoom",
        "no_wrap",
        "tile_size",
        "tms"
       ],
       "url": "http://a.tiles.wmflabs.org/bw-mapnik/{z}/{x}/{y}.png"
      }
     },
     "f814d3f3337c429cb898717fbcd866ce": {
      "model_module": "@jupyter-widgets/base",
      "model_module_version": "1.2.0",
      "model_name": "LayoutModel",
      "state": {}
     },
     "f86b07df3a374d2697e98527a5ea8996": {
      "model_module": "jupyter-leaflet",
      "model_module_version": "^0.17.0",
      "model_name": "LeafletTileLayerModel",
      "state": {
       "_model_module_version": "^0.17.0",
       "_view_module_version": "^0.17.0",
       "attribution": "Justice Map",
       "max_zoom": 22,
       "name": "JusticeMap.americanIndian",
       "options": [
        "attribution",
        "bounds",
        "detect_retina",
        "max_native_zoom",
        "max_zoom",
        "min_native_zoom",
        "min_zoom",
        "no_wrap",
        "tile_size",
        "tms"
       ],
       "url": "https://www.justicemap.org/tile/county/indian/{z}/{x}/{y}.png"
      }
     },
     "f94b55485a8d45bb8634e1f2070eb047": {
      "model_module": "jupyter-leaflet",
      "model_module_version": "^0.17.0",
      "model_name": "LeafletTileLayerModel",
      "state": {
       "_model_module_version": "^0.17.0",
       "_view_module_version": "^0.17.0",
       "attribution": "Map tiles by Stamen Design, CC BY 3.0 -- Map data (C) OpenStreetMap contributors",
       "max_zoom": 16,
       "name": "Stamen.Watercolor",
       "options": [
        "attribution",
        "bounds",
        "detect_retina",
        "max_native_zoom",
        "max_zoom",
        "min_native_zoom",
        "min_zoom",
        "no_wrap",
        "tile_size",
        "tms"
       ],
       "url": "https://stamen-tiles-a.a.ssl.fastly.net/watercolor/{z}/{x}/{y}.jpg"
      }
     },
     "f9b43bdf09434addb8055311c5bf2e75": {
      "model_module": "@jupyter-widgets/base",
      "model_module_version": "1.2.0",
      "model_name": "LayoutModel",
      "state": {}
     },
     "f9d995869776463b9d303fc33d6195c6": {
      "model_module": "@jupyter-widgets/controls",
      "model_module_version": "1.5.0",
      "model_name": "DescriptionStyleModel",
      "state": {
       "description_width": ""
      }
     },
     "fbdcecfd27af4bb29001236d692d9a9b": {
      "model_module": "@jupyter-widgets/controls",
      "model_module_version": "1.5.0",
      "model_name": "ButtonStyleModel",
      "state": {}
     },
     "fbdf2cce6e634e8b8a3c18911b53c8e8": {
      "model_module": "jupyter-leaflet",
      "model_module_version": "^0.17.0",
      "model_name": "LeafletTileLayerModel",
      "state": {
       "_model_module_version": "^0.17.0",
       "_view_module_version": "^0.17.0",
       "attribution": "Geoportail France",
       "name": "GeoportailFrance.plan",
       "options": [
        "attribution",
        "bounds",
        "detect_retina",
        "max_native_zoom",
        "max_zoom",
        "min_native_zoom",
        "min_zoom",
        "no_wrap",
        "tile_size",
        "tms"
       ],
       "url": "https://wxs.ign.fr/choisirgeoportail/geoportail/wmts?REQUEST=GetTile&SERVICE=WMTS&VERSION=1.0.0&STYLE=normal&TILEMATRIXSET=PM&FORMAT=image/png&LAYER=GEOGRAPHICALGRIDSYSTEMS.PLANIGNV2&TILEMATRIX={z}&TILEROW={y}&TILECOL={x}"
      }
     },
     "fc2cfa6480614162993efb632fae0299": {
      "model_module": "@jupyter-widgets/controls",
      "model_module_version": "1.5.0",
      "model_name": "ToggleButtonModel",
      "state": {
       "button_style": "primary",
       "icon": "adjust",
       "layout": "IPY_MODEL_fd25587776d044c99605e368954af5d5",
       "style": "IPY_MODEL_596d4e2c07aa41f38ecd10500d290a34",
       "tooltip": "Planet imagery"
      }
     },
     "fd25587776d044c99605e368954af5d5": {
      "model_module": "@jupyter-widgets/base",
      "model_module_version": "1.2.0",
      "model_name": "LayoutModel",
      "state": {
       "height": "auto",
       "padding": "0px 0px 0px 4px",
       "width": "auto"
      }
     },
     "fde39781368c4930b6daaa55551c1f87": {
      "model_module": "@jupyter-widgets/controls",
      "model_module_version": "1.5.0",
      "model_name": "ToggleButtonModel",
      "state": {
       "button_style": "primary",
       "icon": "address-book",
       "layout": "IPY_MODEL_4722fb49d12348b28ae940646ac43c3b",
       "style": "IPY_MODEL_8d59e9b184ec41b5bdf8c9c12fac5723",
       "tooltip": "Get US Census data"
      }
     },
     "ffab27bfce0f49d099963bd193970b31": {
      "model_module": "@jupyter-widgets/base",
      "model_module_version": "1.2.0",
      "model_name": "LayoutModel",
      "state": {
       "height": "auto",
       "padding": "0px 0px 0px 4px",
       "width": "auto"
      }
     }
    },
    "version_major": 2,
    "version_minor": 0
   }
  }
 },
 "nbformat": 4,
 "nbformat_minor": 4
}
