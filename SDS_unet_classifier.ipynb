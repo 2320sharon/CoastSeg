{
 "cells": [
  {
   "cell_type": "markdown",
   "id": "0480ad42-c0a5-4144-b761-560be56f9d62",
   "metadata": {},
   "source": [
    "# CoastSeg Image Segmentation Models\n",
    "**Notebook**: SDS_unet_classifier\n",
    "\n",
    "**Purpose**: This notebook contains an interactive dashboard that can be used to load satellite imagery and use any of the available image segmentation models to segment the satellite imagery\n",
    "\n",
    "**How it  Works**: Select the model you want to use, then select settings that will be used to run your model and then click either **Select Data Directory** or **Select Images**  to load satellite imagery for the model to run on."
   ]
  },
  {
   "cell_type": "markdown",
   "id": "a4ddd387-8abf-4c90-8110-6892a314e080",
   "metadata": {},
   "source": [
    "## Run Models on Imagery\n",
    "1. Select if you want to use a GPU or not. By default no GPU will be used.\n",
    "2. Select whether your data is the type RGB or MNDWI.\n",
    "3. Select the model you want to use.\n",
    "4. Select Ensemble or Best (Ensemble is recommended).\n"
   ]
  },
  {
   "cell_type": "code",
   "execution_count": null,
   "id": "896d6993-5e05-4d4c-bc30-cc318bd72c8b",
   "metadata": {},
   "outputs": [],
   "source": [
    "from coastseg.models_UI import UI_Models\n",
    "models_ui = UI_Models()\n",
    "models_ui.create_dashboard()"
   ]
  },
  {
   "cell_type": "code",
   "execution_count": null,
   "id": "cbcefe65-fe12-4699-89ee-91761ea3412a",
   "metadata": {},
   "outputs": [],
   "source": []
  }
 ],
 "metadata": {
  "kernelspec": {
   "display_name": "Python 3 (ipykernel)",
   "language": "python",
   "name": "python3"
  },
  "language_info": {
   "codemirror_mode": {
    "name": "ipython",
    "version": 3
   },
   "file_extension": ".py",
   "mimetype": "text/x-python",
   "name": "python",
   "nbconvert_exporter": "python",
   "pygments_lexer": "ipython3",
   "version": "3.10.8"
  }
 },
 "nbformat": 4,
 "nbformat_minor": 5
}
